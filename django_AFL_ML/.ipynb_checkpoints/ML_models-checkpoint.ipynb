{
 "cells": [
  {
   "cell_type": "code",
   "execution_count": null,
   "metadata": {},
   "outputs": [],
   "source": [
    "###Models to do\n",
    "# models on cleaned data\n",
    "# models on averages/trend data\n",
    "# models on new data (eg. PAV, ladder, ohe venue)\n",
    "    #make sure to include absolute margin when testing and evaluating these\n",
    "    #keep track in excel?\n",
    "# lazy predict"
   ]
  },
  {
   "cell_type": "code",
   "execution_count": 114,
   "metadata": {},
   "outputs": [
    {
     "name": "stdout",
     "output_type": "stream",
     "text": [
      "2.2.0\n",
      "2.4.3\n"
     ]
    }
   ],
   "source": [
    "import re\n",
    "import xgboost as xgb\n",
    "import tensorflow as tf; print(tf.__version__)\n",
    "import keras; print(keras.__version__)\n",
    "#import torch.nn as nn\n",
    "#import touch.nn.functional as F\n",
    "import pandas as pd\n",
    "import numpy as np\n",
    "from sklearn.model_selection import train_test_split\n",
    "from sklearn.metrics import accuracy_score\n",
    "from random import randint\n",
    "from Gather_AFL_Data import gatherer as gad\n",
    "#from fdnn import feature_extractor as fex\n",
    "import skopt\n",
    "from skopt.searchcv import BayesSearchCV\n",
    "from skopt.space import Real, Categorical, Integer\n",
    "from sklearn.model_selection import StratifiedKFold\n",
    "import pickle\n",
    "from sklearn.preprocessing import OneHotEncoder\n",
    "from tensorflow.keras.models import Sequential\n",
    "from tensorflow.keras.layers import Dense\n",
    "from tensorflow.keras.layers import Flatten\n",
    "from tensorflow.keras.layers import Dropout\n",
    "from tensorflow.keras.layers import Input\n",
    "from tensorflow.keras.layers import BatchNormalization\n",
    "from tensorflow.keras.layers import Conv1D\n",
    "from tensorflow.keras.layers import MaxPooling1D\n",
    "from tensorflow.keras.utils import to_categorical\n",
    "from keras.utils.vis_utils import plot_model\n",
    "from tensorflow.keras.layers import LSTM\n",
    "from tensorflow.keras.layers import Embedding\n",
    "from tensorflow.keras.preprocessing import sequence\n",
    "import matplotlib.pyplot as plt\n",
    "from tensorflow.keras.layers import Activation\n",
    "from sklearn.metrics import mean_squared_error\n",
    "from math import sqrt\n",
    "from sklearn.model_selection import cross_val_score, KFold"
   ]
  },
  {
   "cell_type": "code",
   "execution_count": 2,
   "metadata": {},
   "outputs": [],
   "source": [
    "#get headers\n",
    "#feed this into a bigger function which specifies the amount of games to go through \n",
    "def get_headers(n_games):\n",
    "    headers = ['Round', 'Home_Team', 'Away_Team']\n",
    "    example_file = pd.read_csv('Data/Fremantle_clean_stats.csv')\n",
    "    cl_h = example_file.columns\n",
    "    cl_h\n",
    "    j = 1\n",
    "    while j <= n_games:\n",
    "        for x in cl_h:\n",
    "            if 'Match_ID' in x or 'Year' in x:\n",
    "                continue\n",
    "            x = 'H_'+ x + ' n-' + str(j)\n",
    "            headers.append(x)\n",
    "        j = j + 1\n",
    "    j = 1\n",
    "    while j <= n_games:\n",
    "        for x in cl_h:\n",
    "            if 'Match_ID' in x or 'Year' in x:\n",
    "                continue\n",
    "            x = 'A_'+ x + ' n-' + str(j)\n",
    "            headers.append(x)\n",
    "        j = j + 1\n",
    "    return headers"
   ]
  },
  {
   "cell_type": "code",
   "execution_count": 117,
   "metadata": {},
   "outputs": [],
   "source": [
    "def clean_headers(h):\n",
    "    headers = []\n",
    "    for x in h:\n",
    "        if '<' in x or '>' in x:\n",
    "            x = x.replace('<',\"lt_\")\n",
    "            x = x.replace('>', \"gt_\")\n",
    "            #print(x)\n",
    "        headers.append(str(x))\n",
    "    return headers"
   ]
  },
  {
   "cell_type": "code",
   "execution_count": 80,
   "metadata": {},
   "outputs": [],
   "source": [
    "def generate_categorical_headers(h):\n",
    "    cat_var = ['Round', 'Home_Team', 'Away_Team']\n",
    "    skip = 0\n",
    "    for x in h:\n",
    "        if 'Round' in x:\n",
    "            if (skip == 0):\n",
    "                skip = 1\n",
    "                continue\n",
    "            cat_var.append(x)\n",
    "            #print(x)\n",
    "        elif 'Team_against_ID' in x:\n",
    "            #print(x)\n",
    "            cat_var.append(x)\n",
    "    return cat_var"
   ]
  },
  {
   "cell_type": "code",
   "execution_count": 73,
   "metadata": {},
   "outputs": [],
   "source": [
    "#one hot encode data and transform the X_data\n",
    "#first redo, find the categorial variables\n",
    "def ohe_data(x_data, enc, flag,cat_var):\n",
    "    #data has not been previously one hot encoded\n",
    "    if (flag == 0):\n",
    "        #get columns with categorical data and drop from main DF\n",
    "        categorical_data = x_data[cat_var]\n",
    "        x_data = x_data.drop(cat_var, axis = 1)\n",
    "        #define and fit new OHE. Use it on our categorical data by transforming\n",
    "        ohe = OneHotEncoder(handle_unknown='ignore', sparse=False)\n",
    "        ohe = ohe.fit(categorical_data)\n",
    "        categorical_data = ohe.transform(categorical_data)\n",
    "        #get feature names for better labelling\n",
    "        fn = ohe.get_feature_names(cat_var)\n",
    "        #make a dataframe with new OHE data and feature names\n",
    "            #would have been good to have coded it like this for my Masters project...\n",
    "        categorical_data = pd.DataFrame(categorical_data)\n",
    "        categorical_data.columns = fn\n",
    "        #ensure that it won't get cranky about any different indexes(shouldn't be any but just a good check)\n",
    "        x_data.reset_index(drop=True, inplace=True)\n",
    "        categorical_data.reset_index(drop=True, inplace=True)\n",
    "        #concatenate along column axis\n",
    "        x_data = pd.concat([x_data, categorical_data], axis = 1)\n",
    "    else:\n",
    "        #same as above except used already fitted ohe\n",
    "        categorical_data = x_data[cat_var]\n",
    "        x_data = x_data.drop(cat_var, axis = 1)\n",
    "        categorical_data = enc.transform(categorical_data)\n",
    "        fn = enc.get_feature_names(cat_var)\n",
    "        categorical_data = pd.DataFrame(categorical_data)\n",
    "        categorical_data.columns = fn\n",
    "        x_data.reset_index(drop=True, inplace=True)\n",
    "        categorical_data.reset_index(drop=True, inplace=True)\n",
    "        x_data = pd.concat([x_data, categorical_data], axis = 1, ignore_index=True)\n",
    "        ohe = enc\n",
    "    return x_data, ohe"
   ]
  },
  {
   "cell_type": "code",
   "execution_count": 83,
   "metadata": {},
   "outputs": [],
   "source": [
    "#search parameters for best XGB classifier or best XGB regressor\n",
    "\n",
    "def param_search(x_data, y_label, class_reg):\n",
    "\n",
    "    def on_step(optim_result):\n",
    "        \"\"\"\n",
    "        Callback meant to view scores after\n",
    "        each iteration while performing Bayesian\n",
    "        Optimization in Skopt\"\"\"\n",
    "        score = xgb_bayes_search.best_score_\n",
    "        print(\"best score: %s\" % score)\n",
    "        if score >= 0.98:\n",
    "            print('Interrupting!')\n",
    "            return True\n",
    "    X_train, X_test, y_train, y_test = train_test_split(x_data, y_label, test_size=0.2, random_state=27022013)\n",
    "    print(\"X_train shape: \" + str(X_train.shape))\n",
    "    print(\"X_test shape: \" + str(X_test.shape))\n",
    "    print(\"y_train shape: \" + str(y_train.shape))\n",
    "    print(\"y_test shape: \" + str(y_test.shape))\n",
    "    space ={'learning_rate': Real(0.01, 1.0, 'log-uniform'),\n",
    "        'min_child_weight': Integer(0, 10),\n",
    "        'max_depth': Integer(0, 50),\n",
    "        'max_delta_step': Integer(0, 20),\n",
    "        'subsample': Real(0.01, 1.0, 'uniform'),\n",
    "        'colsample_bytree': Real(0.01, 1.0, 'uniform'),\n",
    "        'colsample_bylevel': Real(0.01, 1.0, 'uniform'),\n",
    "        'reg_lambda': Real(1e-9, 1000, 'log-uniform'),\n",
    "        'reg_alpha': Real(1e-9, 1.0, 'log-uniform'),\n",
    "        'gamma': Real(1e-9, 0.5, 'log-uniform'),\n",
    "        'min_child_weight': Integer(0, 5),\n",
    "        'n_estimators': Integer(50, 200),\n",
    "        'scale_pos_weight': Real(1e-6, 500, 'log-uniform')}\n",
    "    if(class_reg == 0):\n",
    "        xgbclass = xgb.XGBClassifier(random_state=27022013)\n",
    "    else:\n",
    "        xgbclass = xgb.XGBRegressor(random_state=27022013)\n",
    "    xgb_bayes_search = BayesSearchCV(xgbclass, space, n_iter=60, # specify how many iterations\n",
    "                                    scoring=None, n_jobs=1, cv=5, verbose=3, random_state=42, n_points=12,\n",
    "                                 refit=True)\n",
    "    kk = np.isinf(X_train)\n",
    "    if True in kk:\n",
    "    \tprint(\"aaaaaaa\")\n",
    "    kk = np.isinf(y_train)\n",
    "    if True in kk:\n",
    "    \tprint(\"reeeeeee\")\n",
    "    try:\n",
    "        xgb_bayes_search.fit(X_train, y_train, callback = on_step)\n",
    "    except:\n",
    "        xgb_bayes_search.fit(X_train, y_train, callback = on_step)\n",
    "    print(\"BEST PARAMS ARE HERE\")\n",
    "    print(xgb_bayes_search.best_params_)\n",
    "    model = xgb_bayes_search.best_estimator_\n",
    "\n",
    "    return model"
   ]
  },
  {
   "cell_type": "code",
   "execution_count": 174,
   "metadata": {},
   "outputs": [
    {
     "name": "stdout",
     "output_type": "stream",
     "text": [
      "(2124, 1)\n",
      "(2124, 1)\n",
      "(2124, 2784)\n"
     ]
    }
   ],
   "source": [
    "#make this a method param later\n",
    "n_games = 10\n",
    "\n",
    "#load headers and then subsequently categorical headers\n",
    "h = get_headers(n_games)\n",
    "h = clean_headers(h)\n",
    "cv = generate_categorical_headers(h)\n",
    "\n",
    "#to get names of teams from index\n",
    "g = gad()\n",
    "teams = g.createTeamDict()\n",
    "\n",
    "#load Data\n",
    "x_data = pd.read_csv('Data/assembled_stat_matrix_'+str(n_games)+'_games.csv')\n",
    "\n",
    "#make empty OHE object\n",
    "na_enc = OneHotEncoder(handle_unknown='ignore', sparse=False)\n",
    "\n",
    "#one hot encode data with new one hot encoder, saves ohe for later use\n",
    "x_data, ohe = ohe_data(x_data, na_enc, 0, cv)\n",
    "\n",
    "#reset headers\n",
    "feature_names = x_data.columns\n",
    "\n",
    "#loads the ylabel matrix,\n",
    "y_label = pd.read_csv('Data/assembled_labelled_ymatrix_'+str(n_games)+'_games.csv')\n",
    "\n",
    "#loads margin as the y_label\n",
    "margin_label = pd.read_csv('Data/assembled_margin_ymatrix_'+str(n_games)+'_games.csv')\n",
    "\n",
    "print(margin_label.shape)\n",
    "print(y_label.shape)\n",
    "print(x_data.shape)"
   ]
  },
  {
   "cell_type": "code",
   "execution_count": 175,
   "metadata": {},
   "outputs": [],
   "source": [
    "#regex solution which is apparently necessary??\n",
    "regex = re.compile(r\"\\[|\\]|<\", re.IGNORECASE)\n",
    "x_data.columns = [regex.sub(\"_\", col) if any(x in str(col) for x in set(('[', ']', '<'))) else col for col in x_data.columns.values]"
   ]
  },
  {
   "cell_type": "code",
   "execution_count": 176,
   "metadata": {
    "scrolled": true
   },
   "outputs": [
    {
     "name": "stdout",
     "output_type": "stream",
     "text": [
      "X_train shape: (1699, 2784)\n",
      "X_test shape: (425, 2784)\n",
      "y_train shape: (1699, 1)\n",
      "y_test shape: (425, 1)\n",
      "Fitting 5 folds for each of 12 candidates, totalling 60 fits\n",
      "[CV] colsample_bylevel=0.4160029192647807, colsample_bytree=0.7304484857455519, gamma=0.13031389926541354, learning_rate=0.042815319280763466, max_delta_step=13, max_depth=21, min_child_weight=2, n_estimators=161, reg_alpha=5.497557739289786e-07, reg_lambda=0.05936070635912049, scale_pos_weight=0.060830282487222144, subsample=0.13556548021189216 \n"
     ]
    },
    {
     "name": "stderr",
     "output_type": "stream",
     "text": [
      "[Parallel(n_jobs=1)]: Using backend SequentialBackend with 1 concurrent workers.\n",
      "/home/chris/anaconda3/lib/python3.8/site-packages/sklearn/preprocessing/_label.py:235: DataConversionWarning: A column-vector y was passed when a 1d array was expected. Please change the shape of y to (n_samples, ), for example using ravel().\n",
      "  y = column_or_1d(y, warn=True)\n",
      "/home/chris/anaconda3/lib/python3.8/site-packages/sklearn/preprocessing/_label.py:268: DataConversionWarning: A column-vector y was passed when a 1d array was expected. Please change the shape of y to (n_samples, ), for example using ravel().\n",
      "  y = column_or_1d(y, warn=True)\n"
     ]
    },
    {
     "name": "stdout",
     "output_type": "stream",
     "text": [
      "[CV]  colsample_bylevel=0.4160029192647807, colsample_bytree=0.7304484857455519, gamma=0.13031389926541354, learning_rate=0.042815319280763466, max_delta_step=13, max_depth=21, min_child_weight=2, n_estimators=161, reg_alpha=5.497557739289786e-07, reg_lambda=0.05936070635912049, scale_pos_weight=0.060830282487222144, subsample=0.13556548021189216, score=0.565, total=   1.8s\n",
      "[CV] colsample_bylevel=0.4160029192647807, colsample_bytree=0.7304484857455519, gamma=0.13031389926541354, learning_rate=0.042815319280763466, max_delta_step=13, max_depth=21, min_child_weight=2, n_estimators=161, reg_alpha=5.497557739289786e-07, reg_lambda=0.05936070635912049, scale_pos_weight=0.060830282487222144, subsample=0.13556548021189216 \n"
     ]
    },
    {
     "name": "stderr",
     "output_type": "stream",
     "text": [
      "[Parallel(n_jobs=1)]: Done   1 out of   1 | elapsed:    1.8s remaining:    0.0s\n"
     ]
    },
    {
     "name": "stdout",
     "output_type": "stream",
     "text": [
      "[CV]  colsample_bylevel=0.4160029192647807, colsample_bytree=0.7304484857455519, gamma=0.13031389926541354, learning_rate=0.042815319280763466, max_delta_step=13, max_depth=21, min_child_weight=2, n_estimators=161, reg_alpha=5.497557739289786e-07, reg_lambda=0.05936070635912049, scale_pos_weight=0.060830282487222144, subsample=0.13556548021189216, score=0.565, total=   1.6s\n",
      "[CV] colsample_bylevel=0.4160029192647807, colsample_bytree=0.7304484857455519, gamma=0.13031389926541354, learning_rate=0.042815319280763466, max_delta_step=13, max_depth=21, min_child_weight=2, n_estimators=161, reg_alpha=5.497557739289786e-07, reg_lambda=0.05936070635912049, scale_pos_weight=0.060830282487222144, subsample=0.13556548021189216 \n"
     ]
    },
    {
     "name": "stderr",
     "output_type": "stream",
     "text": [
      "[Parallel(n_jobs=1)]: Done   2 out of   2 | elapsed:    3.3s remaining:    0.0s\n"
     ]
    },
    {
     "name": "stdout",
     "output_type": "stream",
     "text": [
      "[CV]  colsample_bylevel=0.4160029192647807, colsample_bytree=0.7304484857455519, gamma=0.13031389926541354, learning_rate=0.042815319280763466, max_delta_step=13, max_depth=21, min_child_weight=2, n_estimators=161, reg_alpha=5.497557739289786e-07, reg_lambda=0.05936070635912049, scale_pos_weight=0.060830282487222144, subsample=0.13556548021189216, score=0.565, total=   1.5s\n",
      "[CV] colsample_bylevel=0.4160029192647807, colsample_bytree=0.7304484857455519, gamma=0.13031389926541354, learning_rate=0.042815319280763466, max_delta_step=13, max_depth=21, min_child_weight=2, n_estimators=161, reg_alpha=5.497557739289786e-07, reg_lambda=0.05936070635912049, scale_pos_weight=0.060830282487222144, subsample=0.13556548021189216 \n",
      "[CV]  colsample_bylevel=0.4160029192647807, colsample_bytree=0.7304484857455519, gamma=0.13031389926541354, learning_rate=0.042815319280763466, max_delta_step=13, max_depth=21, min_child_weight=2, n_estimators=161, reg_alpha=5.497557739289786e-07, reg_lambda=0.05936070635912049, scale_pos_weight=0.060830282487222144, subsample=0.13556548021189216, score=0.565, total=   1.4s\n",
      "[CV] colsample_bylevel=0.4160029192647807, colsample_bytree=0.7304484857455519, gamma=0.13031389926541354, learning_rate=0.042815319280763466, max_delta_step=13, max_depth=21, min_child_weight=2, n_estimators=161, reg_alpha=5.497557739289786e-07, reg_lambda=0.05936070635912049, scale_pos_weight=0.060830282487222144, subsample=0.13556548021189216 \n",
      "[CV]  colsample_bylevel=0.4160029192647807, colsample_bytree=0.7304484857455519, gamma=0.13031389926541354, learning_rate=0.042815319280763466, max_delta_step=13, max_depth=21, min_child_weight=2, n_estimators=161, reg_alpha=5.497557739289786e-07, reg_lambda=0.05936070635912049, scale_pos_weight=0.060830282487222144, subsample=0.13556548021189216, score=0.563, total=   1.4s\n",
      "[CV] colsample_bylevel=0.18630307921210337, colsample_bytree=0.6357746718688816, gamma=4.759632988007942e-09, learning_rate=0.21560448660617149, max_delta_step=14, max_depth=39, min_child_weight=0, n_estimators=198, reg_alpha=1.307103676304351e-05, reg_lambda=1.1326211354138217e-09, scale_pos_weight=22.356393886375308, subsample=0.7121579996266859 \n",
      "[CV]  colsample_bylevel=0.18630307921210337, colsample_bytree=0.6357746718688816, gamma=4.759632988007942e-09, learning_rate=0.21560448660617149, max_delta_step=14, max_depth=39, min_child_weight=0, n_estimators=198, reg_alpha=1.307103676304351e-05, reg_lambda=1.1326211354138217e-09, scale_pos_weight=22.356393886375308, subsample=0.7121579996266859, score=0.603, total=   6.0s\n",
      "[CV] colsample_bylevel=0.18630307921210337, colsample_bytree=0.6357746718688816, gamma=4.759632988007942e-09, learning_rate=0.21560448660617149, max_delta_step=14, max_depth=39, min_child_weight=0, n_estimators=198, reg_alpha=1.307103676304351e-05, reg_lambda=1.1326211354138217e-09, scale_pos_weight=22.356393886375308, subsample=0.7121579996266859 \n",
      "[CV]  colsample_bylevel=0.18630307921210337, colsample_bytree=0.6357746718688816, gamma=4.759632988007942e-09, learning_rate=0.21560448660617149, max_delta_step=14, max_depth=39, min_child_weight=0, n_estimators=198, reg_alpha=1.307103676304351e-05, reg_lambda=1.1326211354138217e-09, scale_pos_weight=22.356393886375308, subsample=0.7121579996266859, score=0.668, total=   5.9s\n",
      "[CV] colsample_bylevel=0.18630307921210337, colsample_bytree=0.6357746718688816, gamma=4.759632988007942e-09, learning_rate=0.21560448660617149, max_delta_step=14, max_depth=39, min_child_weight=0, n_estimators=198, reg_alpha=1.307103676304351e-05, reg_lambda=1.1326211354138217e-09, scale_pos_weight=22.356393886375308, subsample=0.7121579996266859 \n",
      "[CV]  colsample_bylevel=0.18630307921210337, colsample_bytree=0.6357746718688816, gamma=4.759632988007942e-09, learning_rate=0.21560448660617149, max_delta_step=14, max_depth=39, min_child_weight=0, n_estimators=198, reg_alpha=1.307103676304351e-05, reg_lambda=1.1326211354138217e-09, scale_pos_weight=22.356393886375308, subsample=0.7121579996266859, score=0.603, total=   5.8s\n",
      "[CV] colsample_bylevel=0.18630307921210337, colsample_bytree=0.6357746718688816, gamma=4.759632988007942e-09, learning_rate=0.21560448660617149, max_delta_step=14, max_depth=39, min_child_weight=0, n_estimators=198, reg_alpha=1.307103676304351e-05, reg_lambda=1.1326211354138217e-09, scale_pos_weight=22.356393886375308, subsample=0.7121579996266859 \n",
      "[CV]  colsample_bylevel=0.18630307921210337, colsample_bytree=0.6357746718688816, gamma=4.759632988007942e-09, learning_rate=0.21560448660617149, max_delta_step=14, max_depth=39, min_child_weight=0, n_estimators=198, reg_alpha=1.307103676304351e-05, reg_lambda=1.1326211354138217e-09, scale_pos_weight=22.356393886375308, subsample=0.7121579996266859, score=0.632, total=   5.9s\n",
      "[CV] colsample_bylevel=0.18630307921210337, colsample_bytree=0.6357746718688816, gamma=4.759632988007942e-09, learning_rate=0.21560448660617149, max_delta_step=14, max_depth=39, min_child_weight=0, n_estimators=198, reg_alpha=1.307103676304351e-05, reg_lambda=1.1326211354138217e-09, scale_pos_weight=22.356393886375308, subsample=0.7121579996266859 \n",
      "[CV]  colsample_bylevel=0.18630307921210337, colsample_bytree=0.6357746718688816, gamma=4.759632988007942e-09, learning_rate=0.21560448660617149, max_delta_step=14, max_depth=39, min_child_weight=0, n_estimators=198, reg_alpha=1.307103676304351e-05, reg_lambda=1.1326211354138217e-09, scale_pos_weight=22.356393886375308, subsample=0.7121579996266859, score=0.625, total=   5.7s\n",
      "[CV] colsample_bylevel=0.25617325301227906, colsample_bytree=0.7083937150495909, gamma=2.41812432168581e-07, learning_rate=0.13965555720269418, max_delta_step=10, max_depth=27, min_child_weight=1, n_estimators=76, reg_alpha=3.178148842971562e-08, reg_lambda=0.005381781269387993, scale_pos_weight=0.23835043249575294, subsample=0.9559763235078597 \n",
      "[CV]  colsample_bylevel=0.25617325301227906, colsample_bytree=0.7083937150495909, gamma=2.41812432168581e-07, learning_rate=0.13965555720269418, max_delta_step=10, max_depth=27, min_child_weight=1, n_estimators=76, reg_alpha=3.178148842971562e-08, reg_lambda=0.005381781269387993, scale_pos_weight=0.23835043249575294, subsample=0.9559763235078597, score=0.659, total=   1.8s\n",
      "[CV] colsample_bylevel=0.25617325301227906, colsample_bytree=0.7083937150495909, gamma=2.41812432168581e-07, learning_rate=0.13965555720269418, max_delta_step=10, max_depth=27, min_child_weight=1, n_estimators=76, reg_alpha=3.178148842971562e-08, reg_lambda=0.005381781269387993, scale_pos_weight=0.23835043249575294, subsample=0.9559763235078597 \n",
      "[CV]  colsample_bylevel=0.25617325301227906, colsample_bytree=0.7083937150495909, gamma=2.41812432168581e-07, learning_rate=0.13965555720269418, max_delta_step=10, max_depth=27, min_child_weight=1, n_estimators=76, reg_alpha=3.178148842971562e-08, reg_lambda=0.005381781269387993, scale_pos_weight=0.23835043249575294, subsample=0.9559763235078597, score=0.665, total=   1.9s\n",
      "[CV] colsample_bylevel=0.25617325301227906, colsample_bytree=0.7083937150495909, gamma=2.41812432168581e-07, learning_rate=0.13965555720269418, max_delta_step=10, max_depth=27, min_child_weight=1, n_estimators=76, reg_alpha=3.178148842971562e-08, reg_lambda=0.005381781269387993, scale_pos_weight=0.23835043249575294, subsample=0.9559763235078597 \n",
      "[CV]  colsample_bylevel=0.25617325301227906, colsample_bytree=0.7083937150495909, gamma=2.41812432168581e-07, learning_rate=0.13965555720269418, max_delta_step=10, max_depth=27, min_child_weight=1, n_estimators=76, reg_alpha=3.178148842971562e-08, reg_lambda=0.005381781269387993, scale_pos_weight=0.23835043249575294, subsample=0.9559763235078597, score=0.626, total=   1.8s\n",
      "[CV] colsample_bylevel=0.25617325301227906, colsample_bytree=0.7083937150495909, gamma=2.41812432168581e-07, learning_rate=0.13965555720269418, max_delta_step=10, max_depth=27, min_child_weight=1, n_estimators=76, reg_alpha=3.178148842971562e-08, reg_lambda=0.005381781269387993, scale_pos_weight=0.23835043249575294, subsample=0.9559763235078597 \n",
      "[CV]  colsample_bylevel=0.25617325301227906, colsample_bytree=0.7083937150495909, gamma=2.41812432168581e-07, learning_rate=0.13965555720269418, max_delta_step=10, max_depth=27, min_child_weight=1, n_estimators=76, reg_alpha=3.178148842971562e-08, reg_lambda=0.005381781269387993, scale_pos_weight=0.23835043249575294, subsample=0.9559763235078597, score=0.659, total=   1.8s\n",
      "[CV] colsample_bylevel=0.25617325301227906, colsample_bytree=0.7083937150495909, gamma=2.41812432168581e-07, learning_rate=0.13965555720269418, max_delta_step=10, max_depth=27, min_child_weight=1, n_estimators=76, reg_alpha=3.178148842971562e-08, reg_lambda=0.005381781269387993, scale_pos_weight=0.23835043249575294, subsample=0.9559763235078597 \n"
     ]
    },
    {
     "name": "stdout",
     "output_type": "stream",
     "text": [
      "[CV]  colsample_bylevel=0.25617325301227906, colsample_bytree=0.7083937150495909, gamma=2.41812432168581e-07, learning_rate=0.13965555720269418, max_delta_step=10, max_depth=27, min_child_weight=1, n_estimators=76, reg_alpha=3.178148842971562e-08, reg_lambda=0.005381781269387993, scale_pos_weight=0.23835043249575294, subsample=0.9559763235078597, score=0.655, total=   1.8s\n",
      "[CV] colsample_bylevel=0.7711308526006485, colsample_bytree=0.07988300914246868, gamma=1.3877597085692663e-08, learning_rate=0.15021004353467043, max_delta_step=6, max_depth=3, min_child_weight=3, n_estimators=77, reg_alpha=0.006097622112520179, reg_lambda=1.9368851099909265e-09, scale_pos_weight=6.97020795804701e-06, subsample=0.46717487628832827 \n",
      "[CV]  colsample_bylevel=0.7711308526006485, colsample_bytree=0.07988300914246868, gamma=1.3877597085692663e-08, learning_rate=0.15021004353467043, max_delta_step=6, max_depth=3, min_child_weight=3, n_estimators=77, reg_alpha=0.006097622112520179, reg_lambda=1.9368851099909265e-09, scale_pos_weight=6.97020795804701e-06, subsample=0.46717487628832827, score=0.565, total=   0.7s\n",
      "[CV] colsample_bylevel=0.7711308526006485, colsample_bytree=0.07988300914246868, gamma=1.3877597085692663e-08, learning_rate=0.15021004353467043, max_delta_step=6, max_depth=3, min_child_weight=3, n_estimators=77, reg_alpha=0.006097622112520179, reg_lambda=1.9368851099909265e-09, scale_pos_weight=6.97020795804701e-06, subsample=0.46717487628832827 \n",
      "[CV]  colsample_bylevel=0.7711308526006485, colsample_bytree=0.07988300914246868, gamma=1.3877597085692663e-08, learning_rate=0.15021004353467043, max_delta_step=6, max_depth=3, min_child_weight=3, n_estimators=77, reg_alpha=0.006097622112520179, reg_lambda=1.9368851099909265e-09, scale_pos_weight=6.97020795804701e-06, subsample=0.46717487628832827, score=0.565, total=   0.6s\n",
      "[CV] colsample_bylevel=0.7711308526006485, colsample_bytree=0.07988300914246868, gamma=1.3877597085692663e-08, learning_rate=0.15021004353467043, max_delta_step=6, max_depth=3, min_child_weight=3, n_estimators=77, reg_alpha=0.006097622112520179, reg_lambda=1.9368851099909265e-09, scale_pos_weight=6.97020795804701e-06, subsample=0.46717487628832827 \n",
      "[CV]  colsample_bylevel=0.7711308526006485, colsample_bytree=0.07988300914246868, gamma=1.3877597085692663e-08, learning_rate=0.15021004353467043, max_delta_step=6, max_depth=3, min_child_weight=3, n_estimators=77, reg_alpha=0.006097622112520179, reg_lambda=1.9368851099909265e-09, scale_pos_weight=6.97020795804701e-06, subsample=0.46717487628832827, score=0.565, total=   0.6s\n",
      "[CV] colsample_bylevel=0.7711308526006485, colsample_bytree=0.07988300914246868, gamma=1.3877597085692663e-08, learning_rate=0.15021004353467043, max_delta_step=6, max_depth=3, min_child_weight=3, n_estimators=77, reg_alpha=0.006097622112520179, reg_lambda=1.9368851099909265e-09, scale_pos_weight=6.97020795804701e-06, subsample=0.46717487628832827 \n",
      "[CV]  colsample_bylevel=0.7711308526006485, colsample_bytree=0.07988300914246868, gamma=1.3877597085692663e-08, learning_rate=0.15021004353467043, max_delta_step=6, max_depth=3, min_child_weight=3, n_estimators=77, reg_alpha=0.006097622112520179, reg_lambda=1.9368851099909265e-09, scale_pos_weight=6.97020795804701e-06, subsample=0.46717487628832827, score=0.565, total=   0.6s\n",
      "[CV] colsample_bylevel=0.7711308526006485, colsample_bytree=0.07988300914246868, gamma=1.3877597085692663e-08, learning_rate=0.15021004353467043, max_delta_step=6, max_depth=3, min_child_weight=3, n_estimators=77, reg_alpha=0.006097622112520179, reg_lambda=1.9368851099909265e-09, scale_pos_weight=6.97020795804701e-06, subsample=0.46717487628832827 \n",
      "[CV]  colsample_bylevel=0.7711308526006485, colsample_bytree=0.07988300914246868, gamma=1.3877597085692663e-08, learning_rate=0.15021004353467043, max_delta_step=6, max_depth=3, min_child_weight=3, n_estimators=77, reg_alpha=0.006097622112520179, reg_lambda=1.9368851099909265e-09, scale_pos_weight=6.97020795804701e-06, subsample=0.46717487628832827, score=0.563, total=   0.6s\n",
      "[CV] colsample_bylevel=0.9132100359267209, colsample_bytree=0.7679711803126804, gamma=2.428808912219129e-07, learning_rate=0.03511167856740689, max_delta_step=3, max_depth=8, min_child_weight=4, n_estimators=197, reg_alpha=0.023358352781682152, reg_lambda=2.1396512525873352e-07, scale_pos_weight=0.001760608876847004, subsample=0.15990388740095085 \n",
      "[CV]  colsample_bylevel=0.9132100359267209, colsample_bytree=0.7679711803126804, gamma=2.428808912219129e-07, learning_rate=0.03511167856740689, max_delta_step=3, max_depth=8, min_child_weight=4, n_estimators=197, reg_alpha=0.023358352781682152, reg_lambda=2.1396512525873352e-07, scale_pos_weight=0.001760608876847004, subsample=0.15990388740095085, score=0.565, total=   1.5s\n",
      "[CV] colsample_bylevel=0.9132100359267209, colsample_bytree=0.7679711803126804, gamma=2.428808912219129e-07, learning_rate=0.03511167856740689, max_delta_step=3, max_depth=8, min_child_weight=4, n_estimators=197, reg_alpha=0.023358352781682152, reg_lambda=2.1396512525873352e-07, scale_pos_weight=0.001760608876847004, subsample=0.15990388740095085 \n",
      "[CV]  colsample_bylevel=0.9132100359267209, colsample_bytree=0.7679711803126804, gamma=2.428808912219129e-07, learning_rate=0.03511167856740689, max_delta_step=3, max_depth=8, min_child_weight=4, n_estimators=197, reg_alpha=0.023358352781682152, reg_lambda=2.1396512525873352e-07, scale_pos_weight=0.001760608876847004, subsample=0.15990388740095085, score=0.565, total=   1.5s\n",
      "[CV] colsample_bylevel=0.9132100359267209, colsample_bytree=0.7679711803126804, gamma=2.428808912219129e-07, learning_rate=0.03511167856740689, max_delta_step=3, max_depth=8, min_child_weight=4, n_estimators=197, reg_alpha=0.023358352781682152, reg_lambda=2.1396512525873352e-07, scale_pos_weight=0.001760608876847004, subsample=0.15990388740095085 \n",
      "[CV]  colsample_bylevel=0.9132100359267209, colsample_bytree=0.7679711803126804, gamma=2.428808912219129e-07, learning_rate=0.03511167856740689, max_delta_step=3, max_depth=8, min_child_weight=4, n_estimators=197, reg_alpha=0.023358352781682152, reg_lambda=2.1396512525873352e-07, scale_pos_weight=0.001760608876847004, subsample=0.15990388740095085, score=0.565, total=   1.5s\n",
      "[CV] colsample_bylevel=0.9132100359267209, colsample_bytree=0.7679711803126804, gamma=2.428808912219129e-07, learning_rate=0.03511167856740689, max_delta_step=3, max_depth=8, min_child_weight=4, n_estimators=197, reg_alpha=0.023358352781682152, reg_lambda=2.1396512525873352e-07, scale_pos_weight=0.001760608876847004, subsample=0.15990388740095085 \n",
      "[CV]  colsample_bylevel=0.9132100359267209, colsample_bytree=0.7679711803126804, gamma=2.428808912219129e-07, learning_rate=0.03511167856740689, max_delta_step=3, max_depth=8, min_child_weight=4, n_estimators=197, reg_alpha=0.023358352781682152, reg_lambda=2.1396512525873352e-07, scale_pos_weight=0.001760608876847004, subsample=0.15990388740095085, score=0.565, total=   1.5s\n",
      "[CV] colsample_bylevel=0.9132100359267209, colsample_bytree=0.7679711803126804, gamma=2.428808912219129e-07, learning_rate=0.03511167856740689, max_delta_step=3, max_depth=8, min_child_weight=4, n_estimators=197, reg_alpha=0.023358352781682152, reg_lambda=2.1396512525873352e-07, scale_pos_weight=0.001760608876847004, subsample=0.15990388740095085 \n",
      "[CV]  colsample_bylevel=0.9132100359267209, colsample_bytree=0.7679711803126804, gamma=2.428808912219129e-07, learning_rate=0.03511167856740689, max_delta_step=3, max_depth=8, min_child_weight=4, n_estimators=197, reg_alpha=0.023358352781682152, reg_lambda=2.1396512525873352e-07, scale_pos_weight=0.001760608876847004, subsample=0.15990388740095085, score=0.563, total=   1.5s\n",
      "[CV] colsample_bylevel=0.3569079180734289, colsample_bytree=0.1120289995668169, gamma=0.05034432042804318, learning_rate=0.7467518194835729, max_delta_step=7, max_depth=47, min_child_weight=1, n_estimators=67, reg_alpha=0.005500281359785164, reg_lambda=6.3166999939833564e-06, scale_pos_weight=0.4420166988445819, subsample=0.037978567417966985 \n",
      "[CV]  colsample_bylevel=0.3569079180734289, colsample_bytree=0.1120289995668169, gamma=0.05034432042804318, learning_rate=0.7467518194835729, max_delta_step=7, max_depth=47, min_child_weight=1, n_estimators=67, reg_alpha=0.005500281359785164, reg_lambda=6.3166999939833564e-06, scale_pos_weight=0.4420166988445819, subsample=0.037978567417966985, score=0.585, total=   0.6s\n",
      "[CV] colsample_bylevel=0.3569079180734289, colsample_bytree=0.1120289995668169, gamma=0.05034432042804318, learning_rate=0.7467518194835729, max_delta_step=7, max_depth=47, min_child_weight=1, n_estimators=67, reg_alpha=0.005500281359785164, reg_lambda=6.3166999939833564e-06, scale_pos_weight=0.4420166988445819, subsample=0.037978567417966985 \n"
     ]
    },
    {
     "name": "stdout",
     "output_type": "stream",
     "text": [
      "[CV]  colsample_bylevel=0.3569079180734289, colsample_bytree=0.1120289995668169, gamma=0.05034432042804318, learning_rate=0.7467518194835729, max_delta_step=7, max_depth=47, min_child_weight=1, n_estimators=67, reg_alpha=0.005500281359785164, reg_lambda=6.3166999939833564e-06, scale_pos_weight=0.4420166988445819, subsample=0.037978567417966985, score=0.576, total=   0.6s\n",
      "[CV] colsample_bylevel=0.3569079180734289, colsample_bytree=0.1120289995668169, gamma=0.05034432042804318, learning_rate=0.7467518194835729, max_delta_step=7, max_depth=47, min_child_weight=1, n_estimators=67, reg_alpha=0.005500281359785164, reg_lambda=6.3166999939833564e-06, scale_pos_weight=0.4420166988445819, subsample=0.037978567417966985 \n",
      "[CV]  colsample_bylevel=0.3569079180734289, colsample_bytree=0.1120289995668169, gamma=0.05034432042804318, learning_rate=0.7467518194835729, max_delta_step=7, max_depth=47, min_child_weight=1, n_estimators=67, reg_alpha=0.005500281359785164, reg_lambda=6.3166999939833564e-06, scale_pos_weight=0.4420166988445819, subsample=0.037978567417966985, score=0.579, total=   0.6s\n",
      "[CV] colsample_bylevel=0.3569079180734289, colsample_bytree=0.1120289995668169, gamma=0.05034432042804318, learning_rate=0.7467518194835729, max_delta_step=7, max_depth=47, min_child_weight=1, n_estimators=67, reg_alpha=0.005500281359785164, reg_lambda=6.3166999939833564e-06, scale_pos_weight=0.4420166988445819, subsample=0.037978567417966985 \n",
      "[CV]  colsample_bylevel=0.3569079180734289, colsample_bytree=0.1120289995668169, gamma=0.05034432042804318, learning_rate=0.7467518194835729, max_delta_step=7, max_depth=47, min_child_weight=1, n_estimators=67, reg_alpha=0.005500281359785164, reg_lambda=6.3166999939833564e-06, scale_pos_weight=0.4420166988445819, subsample=0.037978567417966985, score=0.535, total=   0.6s\n",
      "[CV] colsample_bylevel=0.3569079180734289, colsample_bytree=0.1120289995668169, gamma=0.05034432042804318, learning_rate=0.7467518194835729, max_delta_step=7, max_depth=47, min_child_weight=1, n_estimators=67, reg_alpha=0.005500281359785164, reg_lambda=6.3166999939833564e-06, scale_pos_weight=0.4420166988445819, subsample=0.037978567417966985 \n",
      "[CV]  colsample_bylevel=0.3569079180734289, colsample_bytree=0.1120289995668169, gamma=0.05034432042804318, learning_rate=0.7467518194835729, max_delta_step=7, max_depth=47, min_child_weight=1, n_estimators=67, reg_alpha=0.005500281359785164, reg_lambda=6.3166999939833564e-06, scale_pos_weight=0.4420166988445819, subsample=0.037978567417966985, score=0.566, total=   0.6s\n",
      "[CV] colsample_bylevel=0.3173884684879576, colsample_bytree=0.9154083808190769, gamma=0.37957777315906627, learning_rate=0.046564465205051725, max_delta_step=5, max_depth=25, min_child_weight=4, n_estimators=98, reg_alpha=1.8932210348902655e-05, reg_lambda=10.393593598030753, scale_pos_weight=0.019183460268621746, subsample=0.6299477217301774 \n",
      "[CV]  colsample_bylevel=0.3173884684879576, colsample_bytree=0.9154083808190769, gamma=0.37957777315906627, learning_rate=0.046564465205051725, max_delta_step=5, max_depth=25, min_child_weight=4, n_estimators=98, reg_alpha=1.8932210348902655e-05, reg_lambda=10.393593598030753, scale_pos_weight=0.019183460268621746, subsample=0.6299477217301774, score=0.565, total=   0.9s\n",
      "[CV] colsample_bylevel=0.3173884684879576, colsample_bytree=0.9154083808190769, gamma=0.37957777315906627, learning_rate=0.046564465205051725, max_delta_step=5, max_depth=25, min_child_weight=4, n_estimators=98, reg_alpha=1.8932210348902655e-05, reg_lambda=10.393593598030753, scale_pos_weight=0.019183460268621746, subsample=0.6299477217301774 \n",
      "[CV]  colsample_bylevel=0.3173884684879576, colsample_bytree=0.9154083808190769, gamma=0.37957777315906627, learning_rate=0.046564465205051725, max_delta_step=5, max_depth=25, min_child_weight=4, n_estimators=98, reg_alpha=1.8932210348902655e-05, reg_lambda=10.393593598030753, scale_pos_weight=0.019183460268621746, subsample=0.6299477217301774, score=0.565, total=   0.9s\n",
      "[CV] colsample_bylevel=0.3173884684879576, colsample_bytree=0.9154083808190769, gamma=0.37957777315906627, learning_rate=0.046564465205051725, max_delta_step=5, max_depth=25, min_child_weight=4, n_estimators=98, reg_alpha=1.8932210348902655e-05, reg_lambda=10.393593598030753, scale_pos_weight=0.019183460268621746, subsample=0.6299477217301774 \n",
      "[CV]  colsample_bylevel=0.3173884684879576, colsample_bytree=0.9154083808190769, gamma=0.37957777315906627, learning_rate=0.046564465205051725, max_delta_step=5, max_depth=25, min_child_weight=4, n_estimators=98, reg_alpha=1.8932210348902655e-05, reg_lambda=10.393593598030753, scale_pos_weight=0.019183460268621746, subsample=0.6299477217301774, score=0.565, total=   0.9s\n",
      "[CV] colsample_bylevel=0.3173884684879576, colsample_bytree=0.9154083808190769, gamma=0.37957777315906627, learning_rate=0.046564465205051725, max_delta_step=5, max_depth=25, min_child_weight=4, n_estimators=98, reg_alpha=1.8932210348902655e-05, reg_lambda=10.393593598030753, scale_pos_weight=0.019183460268621746, subsample=0.6299477217301774 \n",
      "[CV]  colsample_bylevel=0.3173884684879576, colsample_bytree=0.9154083808190769, gamma=0.37957777315906627, learning_rate=0.046564465205051725, max_delta_step=5, max_depth=25, min_child_weight=4, n_estimators=98, reg_alpha=1.8932210348902655e-05, reg_lambda=10.393593598030753, scale_pos_weight=0.019183460268621746, subsample=0.6299477217301774, score=0.565, total=   0.9s\n",
      "[CV] colsample_bylevel=0.3173884684879576, colsample_bytree=0.9154083808190769, gamma=0.37957777315906627, learning_rate=0.046564465205051725, max_delta_step=5, max_depth=25, min_child_weight=4, n_estimators=98, reg_alpha=1.8932210348902655e-05, reg_lambda=10.393593598030753, scale_pos_weight=0.019183460268621746, subsample=0.6299477217301774 \n",
      "[CV]  colsample_bylevel=0.3173884684879576, colsample_bytree=0.9154083808190769, gamma=0.37957777315906627, learning_rate=0.046564465205051725, max_delta_step=5, max_depth=25, min_child_weight=4, n_estimators=98, reg_alpha=1.8932210348902655e-05, reg_lambda=10.393593598030753, scale_pos_weight=0.019183460268621746, subsample=0.6299477217301774, score=0.563, total=   0.9s\n",
      "[CV] colsample_bylevel=0.19358622710388942, colsample_bytree=0.9236239290551462, gamma=6.242737149649543e-09, learning_rate=0.5839290998374393, max_delta_step=9, max_depth=2, min_child_weight=1, n_estimators=157, reg_alpha=0.32247446903004606, reg_lambda=5.7439751766594195e-06, scale_pos_weight=1.6287615199535114e-06, subsample=0.9872483677632868 \n",
      "[CV]  colsample_bylevel=0.19358622710388942, colsample_bytree=0.9236239290551462, gamma=6.242737149649543e-09, learning_rate=0.5839290998374393, max_delta_step=9, max_depth=2, min_child_weight=1, n_estimators=157, reg_alpha=0.32247446903004606, reg_lambda=5.7439751766594195e-06, scale_pos_weight=1.6287615199535114e-06, subsample=0.9872483677632868, score=0.565, total=   1.0s\n",
      "[CV] colsample_bylevel=0.19358622710388942, colsample_bytree=0.9236239290551462, gamma=6.242737149649543e-09, learning_rate=0.5839290998374393, max_delta_step=9, max_depth=2, min_child_weight=1, n_estimators=157, reg_alpha=0.32247446903004606, reg_lambda=5.7439751766594195e-06, scale_pos_weight=1.6287615199535114e-06, subsample=0.9872483677632868 \n",
      "[CV]  colsample_bylevel=0.19358622710388942, colsample_bytree=0.9236239290551462, gamma=6.242737149649543e-09, learning_rate=0.5839290998374393, max_delta_step=9, max_depth=2, min_child_weight=1, n_estimators=157, reg_alpha=0.32247446903004606, reg_lambda=5.7439751766594195e-06, scale_pos_weight=1.6287615199535114e-06, subsample=0.9872483677632868, score=0.565, total=   1.1s\n",
      "[CV] colsample_bylevel=0.19358622710388942, colsample_bytree=0.9236239290551462, gamma=6.242737149649543e-09, learning_rate=0.5839290998374393, max_delta_step=9, max_depth=2, min_child_weight=1, n_estimators=157, reg_alpha=0.32247446903004606, reg_lambda=5.7439751766594195e-06, scale_pos_weight=1.6287615199535114e-06, subsample=0.9872483677632868 \n",
      "[CV]  colsample_bylevel=0.19358622710388942, colsample_bytree=0.9236239290551462, gamma=6.242737149649543e-09, learning_rate=0.5839290998374393, max_delta_step=9, max_depth=2, min_child_weight=1, n_estimators=157, reg_alpha=0.32247446903004606, reg_lambda=5.7439751766594195e-06, scale_pos_weight=1.6287615199535114e-06, subsample=0.9872483677632868, score=0.565, total=   1.0s\n",
      "[CV] colsample_bylevel=0.19358622710388942, colsample_bytree=0.9236239290551462, gamma=6.242737149649543e-09, learning_rate=0.5839290998374393, max_delta_step=9, max_depth=2, min_child_weight=1, n_estimators=157, reg_alpha=0.32247446903004606, reg_lambda=5.7439751766594195e-06, scale_pos_weight=1.6287615199535114e-06, subsample=0.9872483677632868 \n"
     ]
    },
    {
     "name": "stdout",
     "output_type": "stream",
     "text": [
      "[CV]  colsample_bylevel=0.19358622710388942, colsample_bytree=0.9236239290551462, gamma=6.242737149649543e-09, learning_rate=0.5839290998374393, max_delta_step=9, max_depth=2, min_child_weight=1, n_estimators=157, reg_alpha=0.32247446903004606, reg_lambda=5.7439751766594195e-06, scale_pos_weight=1.6287615199535114e-06, subsample=0.9872483677632868, score=0.565, total=   1.0s\n",
      "[CV] colsample_bylevel=0.19358622710388942, colsample_bytree=0.9236239290551462, gamma=6.242737149649543e-09, learning_rate=0.5839290998374393, max_delta_step=9, max_depth=2, min_child_weight=1, n_estimators=157, reg_alpha=0.32247446903004606, reg_lambda=5.7439751766594195e-06, scale_pos_weight=1.6287615199535114e-06, subsample=0.9872483677632868 \n",
      "[CV]  colsample_bylevel=0.19358622710388942, colsample_bytree=0.9236239290551462, gamma=6.242737149649543e-09, learning_rate=0.5839290998374393, max_delta_step=9, max_depth=2, min_child_weight=1, n_estimators=157, reg_alpha=0.32247446903004606, reg_lambda=5.7439751766594195e-06, scale_pos_weight=1.6287615199535114e-06, subsample=0.9872483677632868, score=0.563, total=   1.0s\n",
      "[CV] colsample_bylevel=0.06936552953088004, colsample_bytree=0.5708703891954323, gamma=1.9956389638103137e-08, learning_rate=0.09010297955022104, max_delta_step=9, max_depth=25, min_child_weight=2, n_estimators=139, reg_alpha=0.9824119669778386, reg_lambda=0.00017577858139476563, scale_pos_weight=261.4450653749918, subsample=0.14242164035537377 \n",
      "[CV]  colsample_bylevel=0.06936552953088004, colsample_bytree=0.5708703891954323, gamma=1.9956389638103137e-08, learning_rate=0.09010297955022104, max_delta_step=9, max_depth=25, min_child_weight=2, n_estimators=139, reg_alpha=0.9824119669778386, reg_lambda=0.00017577858139476563, scale_pos_weight=261.4450653749918, subsample=0.14242164035537377, score=0.556, total=   1.2s\n",
      "[CV] colsample_bylevel=0.06936552953088004, colsample_bytree=0.5708703891954323, gamma=1.9956389638103137e-08, learning_rate=0.09010297955022104, max_delta_step=9, max_depth=25, min_child_weight=2, n_estimators=139, reg_alpha=0.9824119669778386, reg_lambda=0.00017577858139476563, scale_pos_weight=261.4450653749918, subsample=0.14242164035537377 \n",
      "[CV]  colsample_bylevel=0.06936552953088004, colsample_bytree=0.5708703891954323, gamma=1.9956389638103137e-08, learning_rate=0.09010297955022104, max_delta_step=9, max_depth=25, min_child_weight=2, n_estimators=139, reg_alpha=0.9824119669778386, reg_lambda=0.00017577858139476563, scale_pos_weight=261.4450653749918, subsample=0.14242164035537377, score=0.550, total=   1.3s\n",
      "[CV] colsample_bylevel=0.06936552953088004, colsample_bytree=0.5708703891954323, gamma=1.9956389638103137e-08, learning_rate=0.09010297955022104, max_delta_step=9, max_depth=25, min_child_weight=2, n_estimators=139, reg_alpha=0.9824119669778386, reg_lambda=0.00017577858139476563, scale_pos_weight=261.4450653749918, subsample=0.14242164035537377 \n",
      "[CV]  colsample_bylevel=0.06936552953088004, colsample_bytree=0.5708703891954323, gamma=1.9956389638103137e-08, learning_rate=0.09010297955022104, max_delta_step=9, max_depth=25, min_child_weight=2, n_estimators=139, reg_alpha=0.9824119669778386, reg_lambda=0.00017577858139476563, scale_pos_weight=261.4450653749918, subsample=0.14242164035537377, score=0.550, total=   1.3s\n",
      "[CV] colsample_bylevel=0.06936552953088004, colsample_bytree=0.5708703891954323, gamma=1.9956389638103137e-08, learning_rate=0.09010297955022104, max_delta_step=9, max_depth=25, min_child_weight=2, n_estimators=139, reg_alpha=0.9824119669778386, reg_lambda=0.00017577858139476563, scale_pos_weight=261.4450653749918, subsample=0.14242164035537377 \n",
      "[CV]  colsample_bylevel=0.06936552953088004, colsample_bytree=0.5708703891954323, gamma=1.9956389638103137e-08, learning_rate=0.09010297955022104, max_delta_step=9, max_depth=25, min_child_weight=2, n_estimators=139, reg_alpha=0.9824119669778386, reg_lambda=0.00017577858139476563, scale_pos_weight=261.4450653749918, subsample=0.14242164035537377, score=0.571, total=   1.2s\n",
      "[CV] colsample_bylevel=0.06936552953088004, colsample_bytree=0.5708703891954323, gamma=1.9956389638103137e-08, learning_rate=0.09010297955022104, max_delta_step=9, max_depth=25, min_child_weight=2, n_estimators=139, reg_alpha=0.9824119669778386, reg_lambda=0.00017577858139476563, scale_pos_weight=261.4450653749918, subsample=0.14242164035537377 \n",
      "[CV]  colsample_bylevel=0.06936552953088004, colsample_bytree=0.5708703891954323, gamma=1.9956389638103137e-08, learning_rate=0.09010297955022104, max_delta_step=9, max_depth=25, min_child_weight=2, n_estimators=139, reg_alpha=0.9824119669778386, reg_lambda=0.00017577858139476563, scale_pos_weight=261.4450653749918, subsample=0.14242164035537377, score=0.587, total=   1.3s\n",
      "[CV] colsample_bylevel=0.1798648261515349, colsample_bytree=0.1536154650973617, gamma=2.692171045057089e-07, learning_rate=0.031045751168128115, max_delta_step=12, max_depth=24, min_child_weight=3, n_estimators=113, reg_alpha=0.0011518554964803237, reg_lambda=3.9270934206560135e-05, scale_pos_weight=0.036328353682153036, subsample=0.5123744729843144 \n",
      "[CV]  colsample_bylevel=0.1798648261515349, colsample_bytree=0.1536154650973617, gamma=2.692171045057089e-07, learning_rate=0.031045751168128115, max_delta_step=12, max_depth=24, min_child_weight=3, n_estimators=113, reg_alpha=0.0011518554964803237, reg_lambda=3.9270934206560135e-05, scale_pos_weight=0.036328353682153036, subsample=0.5123744729843144, score=0.565, total=   0.9s\n",
      "[CV] colsample_bylevel=0.1798648261515349, colsample_bytree=0.1536154650973617, gamma=2.692171045057089e-07, learning_rate=0.031045751168128115, max_delta_step=12, max_depth=24, min_child_weight=3, n_estimators=113, reg_alpha=0.0011518554964803237, reg_lambda=3.9270934206560135e-05, scale_pos_weight=0.036328353682153036, subsample=0.5123744729843144 \n",
      "[CV]  colsample_bylevel=0.1798648261515349, colsample_bytree=0.1536154650973617, gamma=2.692171045057089e-07, learning_rate=0.031045751168128115, max_delta_step=12, max_depth=24, min_child_weight=3, n_estimators=113, reg_alpha=0.0011518554964803237, reg_lambda=3.9270934206560135e-05, scale_pos_weight=0.036328353682153036, subsample=0.5123744729843144, score=0.565, total=   0.9s\n",
      "[CV] colsample_bylevel=0.1798648261515349, colsample_bytree=0.1536154650973617, gamma=2.692171045057089e-07, learning_rate=0.031045751168128115, max_delta_step=12, max_depth=24, min_child_weight=3, n_estimators=113, reg_alpha=0.0011518554964803237, reg_lambda=3.9270934206560135e-05, scale_pos_weight=0.036328353682153036, subsample=0.5123744729843144 \n",
      "[CV]  colsample_bylevel=0.1798648261515349, colsample_bytree=0.1536154650973617, gamma=2.692171045057089e-07, learning_rate=0.031045751168128115, max_delta_step=12, max_depth=24, min_child_weight=3, n_estimators=113, reg_alpha=0.0011518554964803237, reg_lambda=3.9270934206560135e-05, scale_pos_weight=0.036328353682153036, subsample=0.5123744729843144, score=0.565, total=   0.9s\n",
      "[CV] colsample_bylevel=0.1798648261515349, colsample_bytree=0.1536154650973617, gamma=2.692171045057089e-07, learning_rate=0.031045751168128115, max_delta_step=12, max_depth=24, min_child_weight=3, n_estimators=113, reg_alpha=0.0011518554964803237, reg_lambda=3.9270934206560135e-05, scale_pos_weight=0.036328353682153036, subsample=0.5123744729843144 \n",
      "[CV]  colsample_bylevel=0.1798648261515349, colsample_bytree=0.1536154650973617, gamma=2.692171045057089e-07, learning_rate=0.031045751168128115, max_delta_step=12, max_depth=24, min_child_weight=3, n_estimators=113, reg_alpha=0.0011518554964803237, reg_lambda=3.9270934206560135e-05, scale_pos_weight=0.036328353682153036, subsample=0.5123744729843144, score=0.565, total=   0.9s\n",
      "[CV] colsample_bylevel=0.1798648261515349, colsample_bytree=0.1536154650973617, gamma=2.692171045057089e-07, learning_rate=0.031045751168128115, max_delta_step=12, max_depth=24, min_child_weight=3, n_estimators=113, reg_alpha=0.0011518554964803237, reg_lambda=3.9270934206560135e-05, scale_pos_weight=0.036328353682153036, subsample=0.5123744729843144 \n",
      "[CV]  colsample_bylevel=0.1798648261515349, colsample_bytree=0.1536154650973617, gamma=2.692171045057089e-07, learning_rate=0.031045751168128115, max_delta_step=12, max_depth=24, min_child_weight=3, n_estimators=113, reg_alpha=0.0011518554964803237, reg_lambda=3.9270934206560135e-05, scale_pos_weight=0.036328353682153036, subsample=0.5123744729843144, score=0.563, total=   0.9s\n",
      "[CV] colsample_bylevel=0.8477171831834894, colsample_bytree=0.9590782028716157, gamma=0.4419705200245942, learning_rate=0.010068534554171981, max_delta_step=18, max_depth=46, min_child_weight=5, n_estimators=66, reg_alpha=1.3396471230171212e-09, reg_lambda=0.1502689667792386, scale_pos_weight=5.68219069233494e-06, subsample=0.3682037565911086 \n"
     ]
    },
    {
     "name": "stdout",
     "output_type": "stream",
     "text": [
      "[CV]  colsample_bylevel=0.8477171831834894, colsample_bytree=0.9590782028716157, gamma=0.4419705200245942, learning_rate=0.010068534554171981, max_delta_step=18, max_depth=46, min_child_weight=5, n_estimators=66, reg_alpha=1.3396471230171212e-09, reg_lambda=0.1502689667792386, scale_pos_weight=5.68219069233494e-06, subsample=0.3682037565911086, score=0.565, total=   0.9s\n",
      "[CV] colsample_bylevel=0.8477171831834894, colsample_bytree=0.9590782028716157, gamma=0.4419705200245942, learning_rate=0.010068534554171981, max_delta_step=18, max_depth=46, min_child_weight=5, n_estimators=66, reg_alpha=1.3396471230171212e-09, reg_lambda=0.1502689667792386, scale_pos_weight=5.68219069233494e-06, subsample=0.3682037565911086 \n",
      "[CV]  colsample_bylevel=0.8477171831834894, colsample_bytree=0.9590782028716157, gamma=0.4419705200245942, learning_rate=0.010068534554171981, max_delta_step=18, max_depth=46, min_child_weight=5, n_estimators=66, reg_alpha=1.3396471230171212e-09, reg_lambda=0.1502689667792386, scale_pos_weight=5.68219069233494e-06, subsample=0.3682037565911086, score=0.565, total=   0.9s\n",
      "[CV] colsample_bylevel=0.8477171831834894, colsample_bytree=0.9590782028716157, gamma=0.4419705200245942, learning_rate=0.010068534554171981, max_delta_step=18, max_depth=46, min_child_weight=5, n_estimators=66, reg_alpha=1.3396471230171212e-09, reg_lambda=0.1502689667792386, scale_pos_weight=5.68219069233494e-06, subsample=0.3682037565911086 \n",
      "[CV]  colsample_bylevel=0.8477171831834894, colsample_bytree=0.9590782028716157, gamma=0.4419705200245942, learning_rate=0.010068534554171981, max_delta_step=18, max_depth=46, min_child_weight=5, n_estimators=66, reg_alpha=1.3396471230171212e-09, reg_lambda=0.1502689667792386, scale_pos_weight=5.68219069233494e-06, subsample=0.3682037565911086, score=0.565, total=   0.9s\n",
      "[CV] colsample_bylevel=0.8477171831834894, colsample_bytree=0.9590782028716157, gamma=0.4419705200245942, learning_rate=0.010068534554171981, max_delta_step=18, max_depth=46, min_child_weight=5, n_estimators=66, reg_alpha=1.3396471230171212e-09, reg_lambda=0.1502689667792386, scale_pos_weight=5.68219069233494e-06, subsample=0.3682037565911086 \n",
      "[CV]  colsample_bylevel=0.8477171831834894, colsample_bytree=0.9590782028716157, gamma=0.4419705200245942, learning_rate=0.010068534554171981, max_delta_step=18, max_depth=46, min_child_weight=5, n_estimators=66, reg_alpha=1.3396471230171212e-09, reg_lambda=0.1502689667792386, scale_pos_weight=5.68219069233494e-06, subsample=0.3682037565911086, score=0.565, total=   0.9s\n",
      "[CV] colsample_bylevel=0.8477171831834894, colsample_bytree=0.9590782028716157, gamma=0.4419705200245942, learning_rate=0.010068534554171981, max_delta_step=18, max_depth=46, min_child_weight=5, n_estimators=66, reg_alpha=1.3396471230171212e-09, reg_lambda=0.1502689667792386, scale_pos_weight=5.68219069233494e-06, subsample=0.3682037565911086 \n",
      "[CV]  colsample_bylevel=0.8477171831834894, colsample_bytree=0.9590782028716157, gamma=0.4419705200245942, learning_rate=0.010068534554171981, max_delta_step=18, max_depth=46, min_child_weight=5, n_estimators=66, reg_alpha=1.3396471230171212e-09, reg_lambda=0.1502689667792386, scale_pos_weight=5.68219069233494e-06, subsample=0.3682037565911086, score=0.563, total=   0.9s\n",
      "[CV] colsample_bylevel=0.88542798001491, colsample_bytree=0.15107725561517718, gamma=0.09274068410384222, learning_rate=0.11437510345794359, max_delta_step=0, max_depth=6, min_child_weight=5, n_estimators=200, reg_alpha=1.2952579279714691e-08, reg_lambda=0.45707493844512304, scale_pos_weight=10.561837873121673, subsample=0.9105119208713889 \n",
      "[CV]  colsample_bylevel=0.88542798001491, colsample_bytree=0.15107725561517718, gamma=0.09274068410384222, learning_rate=0.11437510345794359, max_delta_step=0, max_depth=6, min_child_weight=5, n_estimators=200, reg_alpha=1.2952579279714691e-08, reg_lambda=0.45707493844512304, scale_pos_weight=10.561837873121673, subsample=0.9105119208713889, score=0.638, total=   2.1s\n",
      "[CV] colsample_bylevel=0.88542798001491, colsample_bytree=0.15107725561517718, gamma=0.09274068410384222, learning_rate=0.11437510345794359, max_delta_step=0, max_depth=6, min_child_weight=5, n_estimators=200, reg_alpha=1.2952579279714691e-08, reg_lambda=0.45707493844512304, scale_pos_weight=10.561837873121673, subsample=0.9105119208713889 \n",
      "[CV]  colsample_bylevel=0.88542798001491, colsample_bytree=0.15107725561517718, gamma=0.09274068410384222, learning_rate=0.11437510345794359, max_delta_step=0, max_depth=6, min_child_weight=5, n_estimators=200, reg_alpha=1.2952579279714691e-08, reg_lambda=0.45707493844512304, scale_pos_weight=10.561837873121673, subsample=0.9105119208713889, score=0.621, total=   2.8s\n",
      "[CV] colsample_bylevel=0.88542798001491, colsample_bytree=0.15107725561517718, gamma=0.09274068410384222, learning_rate=0.11437510345794359, max_delta_step=0, max_depth=6, min_child_weight=5, n_estimators=200, reg_alpha=1.2952579279714691e-08, reg_lambda=0.45707493844512304, scale_pos_weight=10.561837873121673, subsample=0.9105119208713889 \n",
      "[CV]  colsample_bylevel=0.88542798001491, colsample_bytree=0.15107725561517718, gamma=0.09274068410384222, learning_rate=0.11437510345794359, max_delta_step=0, max_depth=6, min_child_weight=5, n_estimators=200, reg_alpha=1.2952579279714691e-08, reg_lambda=0.45707493844512304, scale_pos_weight=10.561837873121673, subsample=0.9105119208713889, score=0.638, total=   3.0s\n",
      "[CV] colsample_bylevel=0.88542798001491, colsample_bytree=0.15107725561517718, gamma=0.09274068410384222, learning_rate=0.11437510345794359, max_delta_step=0, max_depth=6, min_child_weight=5, n_estimators=200, reg_alpha=1.2952579279714691e-08, reg_lambda=0.45707493844512304, scale_pos_weight=10.561837873121673, subsample=0.9105119208713889 \n",
      "[CV]  colsample_bylevel=0.88542798001491, colsample_bytree=0.15107725561517718, gamma=0.09274068410384222, learning_rate=0.11437510345794359, max_delta_step=0, max_depth=6, min_child_weight=5, n_estimators=200, reg_alpha=1.2952579279714691e-08, reg_lambda=0.45707493844512304, scale_pos_weight=10.561837873121673, subsample=0.9105119208713889, score=0.665, total=   2.2s\n",
      "[CV] colsample_bylevel=0.88542798001491, colsample_bytree=0.15107725561517718, gamma=0.09274068410384222, learning_rate=0.11437510345794359, max_delta_step=0, max_depth=6, min_child_weight=5, n_estimators=200, reg_alpha=1.2952579279714691e-08, reg_lambda=0.45707493844512304, scale_pos_weight=10.561837873121673, subsample=0.9105119208713889 \n",
      "[CV]  colsample_bylevel=0.88542798001491, colsample_bytree=0.15107725561517718, gamma=0.09274068410384222, learning_rate=0.11437510345794359, max_delta_step=0, max_depth=6, min_child_weight=5, n_estimators=200, reg_alpha=1.2952579279714691e-08, reg_lambda=0.45707493844512304, scale_pos_weight=10.561837873121673, subsample=0.9105119208713889, score=0.611, total=   2.5s\n"
     ]
    },
    {
     "name": "stderr",
     "output_type": "stream",
     "text": [
      "[Parallel(n_jobs=1)]: Done  60 out of  60 | elapsed:  1.6min finished\n"
     ]
    },
    {
     "name": "stdout",
     "output_type": "stream",
     "text": [
      "best score: 0.6527369040612124\n",
      "Fitting 5 folds for each of 12 candidates, totalling 60 fits\n",
      "[CV] colsample_bylevel=0.01, colsample_bytree=1.0, gamma=1e-09, learning_rate=1.0, max_delta_step=10, max_depth=24, min_child_weight=0, n_estimators=200, reg_alpha=1e-09, reg_lambda=1e-09, scale_pos_weight=499.99999999999994, subsample=1.0 \n"
     ]
    },
    {
     "name": "stderr",
     "output_type": "stream",
     "text": [
      "[Parallel(n_jobs=1)]: Using backend SequentialBackend with 1 concurrent workers.\n",
      "/home/chris/anaconda3/lib/python3.8/site-packages/sklearn/preprocessing/_label.py:235: DataConversionWarning: A column-vector y was passed when a 1d array was expected. Please change the shape of y to (n_samples, ), for example using ravel().\n",
      "  y = column_or_1d(y, warn=True)\n",
      "/home/chris/anaconda3/lib/python3.8/site-packages/sklearn/preprocessing/_label.py:268: DataConversionWarning: A column-vector y was passed when a 1d array was expected. Please change the shape of y to (n_samples, ), for example using ravel().\n",
      "  y = column_or_1d(y, warn=True)\n"
     ]
    },
    {
     "name": "stdout",
     "output_type": "stream",
     "text": [
      "[CV]  colsample_bylevel=0.01, colsample_bytree=1.0, gamma=1e-09, learning_rate=1.0, max_delta_step=10, max_depth=24, min_child_weight=0, n_estimators=200, reg_alpha=1e-09, reg_lambda=1e-09, scale_pos_weight=499.99999999999994, subsample=1.0, score=0.576, total=   1.2s\n",
      "[CV] colsample_bylevel=0.01, colsample_bytree=1.0, gamma=1e-09, learning_rate=1.0, max_delta_step=10, max_depth=24, min_child_weight=0, n_estimators=200, reg_alpha=1e-09, reg_lambda=1e-09, scale_pos_weight=499.99999999999994, subsample=1.0 \n"
     ]
    },
    {
     "name": "stderr",
     "output_type": "stream",
     "text": [
      "[Parallel(n_jobs=1)]: Done   1 out of   1 | elapsed:    1.2s remaining:    0.0s\n"
     ]
    },
    {
     "name": "stdout",
     "output_type": "stream",
     "text": [
      "[CV]  colsample_bylevel=0.01, colsample_bytree=1.0, gamma=1e-09, learning_rate=1.0, max_delta_step=10, max_depth=24, min_child_weight=0, n_estimators=200, reg_alpha=1e-09, reg_lambda=1e-09, scale_pos_weight=499.99999999999994, subsample=1.0, score=0.591, total=   1.6s\n",
      "[CV] colsample_bylevel=0.01, colsample_bytree=1.0, gamma=1e-09, learning_rate=1.0, max_delta_step=10, max_depth=24, min_child_weight=0, n_estimators=200, reg_alpha=1e-09, reg_lambda=1e-09, scale_pos_weight=499.99999999999994, subsample=1.0 \n"
     ]
    },
    {
     "name": "stderr",
     "output_type": "stream",
     "text": [
      "[Parallel(n_jobs=1)]: Done   2 out of   2 | elapsed:    2.8s remaining:    0.0s\n"
     ]
    },
    {
     "name": "stdout",
     "output_type": "stream",
     "text": [
      "[CV]  colsample_bylevel=0.01, colsample_bytree=1.0, gamma=1e-09, learning_rate=1.0, max_delta_step=10, max_depth=24, min_child_weight=0, n_estimators=200, reg_alpha=1e-09, reg_lambda=1e-09, scale_pos_weight=499.99999999999994, subsample=1.0, score=0.594, total=   1.6s\n",
      "[CV] colsample_bylevel=0.01, colsample_bytree=1.0, gamma=1e-09, learning_rate=1.0, max_delta_step=10, max_depth=24, min_child_weight=0, n_estimators=200, reg_alpha=1e-09, reg_lambda=1e-09, scale_pos_weight=499.99999999999994, subsample=1.0 \n",
      "[CV]  colsample_bylevel=0.01, colsample_bytree=1.0, gamma=1e-09, learning_rate=1.0, max_delta_step=10, max_depth=24, min_child_weight=0, n_estimators=200, reg_alpha=1e-09, reg_lambda=1e-09, scale_pos_weight=499.99999999999994, subsample=1.0, score=0.603, total=   1.5s\n",
      "[CV] colsample_bylevel=0.01, colsample_bytree=1.0, gamma=1e-09, learning_rate=1.0, max_delta_step=10, max_depth=24, min_child_weight=0, n_estimators=200, reg_alpha=1e-09, reg_lambda=1e-09, scale_pos_weight=499.99999999999994, subsample=1.0 \n",
      "[CV]  colsample_bylevel=0.01, colsample_bytree=1.0, gamma=1e-09, learning_rate=1.0, max_delta_step=10, max_depth=24, min_child_weight=0, n_estimators=200, reg_alpha=1e-09, reg_lambda=1e-09, scale_pos_weight=499.99999999999994, subsample=1.0, score=0.614, total=   1.5s\n",
      "[CV] colsample_bylevel=1.0, colsample_bytree=0.01, gamma=1e-09, learning_rate=0.052232796394983814, max_delta_step=18, max_depth=50, min_child_weight=0, n_estimators=50, reg_alpha=2.759164532864185e-09, reg_lambda=1e-09, scale_pos_weight=1e-06, subsample=0.8557889268559248 \n",
      "[CV]  colsample_bylevel=1.0, colsample_bytree=0.01, gamma=1e-09, learning_rate=0.052232796394983814, max_delta_step=18, max_depth=50, min_child_weight=0, n_estimators=50, reg_alpha=2.759164532864185e-09, reg_lambda=1e-09, scale_pos_weight=1e-06, subsample=0.8557889268559248, score=0.588, total=   0.7s\n",
      "[CV] colsample_bylevel=1.0, colsample_bytree=0.01, gamma=1e-09, learning_rate=0.052232796394983814, max_delta_step=18, max_depth=50, min_child_weight=0, n_estimators=50, reg_alpha=2.759164532864185e-09, reg_lambda=1e-09, scale_pos_weight=1e-06, subsample=0.8557889268559248 \n",
      "[CV]  colsample_bylevel=1.0, colsample_bytree=0.01, gamma=1e-09, learning_rate=0.052232796394983814, max_delta_step=18, max_depth=50, min_child_weight=0, n_estimators=50, reg_alpha=2.759164532864185e-09, reg_lambda=1e-09, scale_pos_weight=1e-06, subsample=0.8557889268559248, score=0.559, total=   1.1s\n",
      "[CV] colsample_bylevel=1.0, colsample_bytree=0.01, gamma=1e-09, learning_rate=0.052232796394983814, max_delta_step=18, max_depth=50, min_child_weight=0, n_estimators=50, reg_alpha=2.759164532864185e-09, reg_lambda=1e-09, scale_pos_weight=1e-06, subsample=0.8557889268559248 \n",
      "[CV]  colsample_bylevel=1.0, colsample_bytree=0.01, gamma=1e-09, learning_rate=0.052232796394983814, max_delta_step=18, max_depth=50, min_child_weight=0, n_estimators=50, reg_alpha=2.759164532864185e-09, reg_lambda=1e-09, scale_pos_weight=1e-06, subsample=0.8557889268559248, score=0.556, total=   0.8s\n",
      "[CV] colsample_bylevel=1.0, colsample_bytree=0.01, gamma=1e-09, learning_rate=0.052232796394983814, max_delta_step=18, max_depth=50, min_child_weight=0, n_estimators=50, reg_alpha=2.759164532864185e-09, reg_lambda=1e-09, scale_pos_weight=1e-06, subsample=0.8557889268559248 \n",
      "[CV]  colsample_bylevel=1.0, colsample_bytree=0.01, gamma=1e-09, learning_rate=0.052232796394983814, max_delta_step=18, max_depth=50, min_child_weight=0, n_estimators=50, reg_alpha=2.759164532864185e-09, reg_lambda=1e-09, scale_pos_weight=1e-06, subsample=0.8557889268559248, score=0.574, total=   0.7s\n",
      "[CV] colsample_bylevel=1.0, colsample_bytree=0.01, gamma=1e-09, learning_rate=0.052232796394983814, max_delta_step=18, max_depth=50, min_child_weight=0, n_estimators=50, reg_alpha=2.759164532864185e-09, reg_lambda=1e-09, scale_pos_weight=1e-06, subsample=0.8557889268559248 \n",
      "[CV]  colsample_bylevel=1.0, colsample_bytree=0.01, gamma=1e-09, learning_rate=0.052232796394983814, max_delta_step=18, max_depth=50, min_child_weight=0, n_estimators=50, reg_alpha=2.759164532864185e-09, reg_lambda=1e-09, scale_pos_weight=1e-06, subsample=0.8557889268559248, score=0.596, total=   1.0s\n",
      "[CV] colsample_bylevel=1.0, colsample_bytree=0.01, gamma=1e-09, learning_rate=0.01, max_delta_step=20, max_depth=27, min_child_weight=5, n_estimators=200, reg_alpha=3.3375783272483624e-08, reg_lambda=1e-09, scale_pos_weight=1e-06, subsample=1.0 \n",
      "[CV]  colsample_bylevel=1.0, colsample_bytree=0.01, gamma=1e-09, learning_rate=0.01, max_delta_step=20, max_depth=27, min_child_weight=5, n_estimators=200, reg_alpha=3.3375783272483624e-08, reg_lambda=1e-09, scale_pos_weight=1e-06, subsample=1.0, score=0.565, total=   1.0s\n",
      "[CV] colsample_bylevel=1.0, colsample_bytree=0.01, gamma=1e-09, learning_rate=0.01, max_delta_step=20, max_depth=27, min_child_weight=5, n_estimators=200, reg_alpha=3.3375783272483624e-08, reg_lambda=1e-09, scale_pos_weight=1e-06, subsample=1.0 \n",
      "[CV]  colsample_bylevel=1.0, colsample_bytree=0.01, gamma=1e-09, learning_rate=0.01, max_delta_step=20, max_depth=27, min_child_weight=5, n_estimators=200, reg_alpha=3.3375783272483624e-08, reg_lambda=1e-09, scale_pos_weight=1e-06, subsample=1.0, score=0.565, total=   1.1s\n",
      "[CV] colsample_bylevel=1.0, colsample_bytree=0.01, gamma=1e-09, learning_rate=0.01, max_delta_step=20, max_depth=27, min_child_weight=5, n_estimators=200, reg_alpha=3.3375783272483624e-08, reg_lambda=1e-09, scale_pos_weight=1e-06, subsample=1.0 \n",
      "[CV]  colsample_bylevel=1.0, colsample_bytree=0.01, gamma=1e-09, learning_rate=0.01, max_delta_step=20, max_depth=27, min_child_weight=5, n_estimators=200, reg_alpha=3.3375783272483624e-08, reg_lambda=1e-09, scale_pos_weight=1e-06, subsample=1.0, score=0.565, total=   1.0s\n",
      "[CV] colsample_bylevel=1.0, colsample_bytree=0.01, gamma=1e-09, learning_rate=0.01, max_delta_step=20, max_depth=27, min_child_weight=5, n_estimators=200, reg_alpha=3.3375783272483624e-08, reg_lambda=1e-09, scale_pos_weight=1e-06, subsample=1.0 \n",
      "[CV]  colsample_bylevel=1.0, colsample_bytree=0.01, gamma=1e-09, learning_rate=0.01, max_delta_step=20, max_depth=27, min_child_weight=5, n_estimators=200, reg_alpha=3.3375783272483624e-08, reg_lambda=1e-09, scale_pos_weight=1e-06, subsample=1.0, score=0.565, total=   1.3s\n",
      "[CV] colsample_bylevel=1.0, colsample_bytree=0.01, gamma=1e-09, learning_rate=0.01, max_delta_step=20, max_depth=27, min_child_weight=5, n_estimators=200, reg_alpha=3.3375783272483624e-08, reg_lambda=1e-09, scale_pos_weight=1e-06, subsample=1.0 \n",
      "[CV]  colsample_bylevel=1.0, colsample_bytree=0.01, gamma=1e-09, learning_rate=0.01, max_delta_step=20, max_depth=27, min_child_weight=5, n_estimators=200, reg_alpha=3.3375783272483624e-08, reg_lambda=1e-09, scale_pos_weight=1e-06, subsample=1.0, score=0.563, total=   1.1s\n",
      "[CV] colsample_bylevel=0.42921504995463133, colsample_bytree=0.8939459617961092, gamma=1e-09, learning_rate=0.052436549339808805, max_delta_step=0, max_depth=5, min_child_weight=0, n_estimators=78, reg_alpha=1e-09, reg_lambda=0.0021082352774670216, scale_pos_weight=0.26223726615133175, subsample=0.01 \n",
      "[CV]  colsample_bylevel=0.42921504995463133, colsample_bytree=0.8939459617961092, gamma=1e-09, learning_rate=0.052436549339808805, max_delta_step=0, max_depth=5, min_child_weight=0, n_estimators=78, reg_alpha=1e-09, reg_lambda=0.0021082352774670216, scale_pos_weight=0.26223726615133175, subsample=0.01, score=0.518, total=   1.1s\n",
      "[CV] colsample_bylevel=0.42921504995463133, colsample_bytree=0.8939459617961092, gamma=1e-09, learning_rate=0.052436549339808805, max_delta_step=0, max_depth=5, min_child_weight=0, n_estimators=78, reg_alpha=1e-09, reg_lambda=0.0021082352774670216, scale_pos_weight=0.26223726615133175, subsample=0.01 \n",
      "[CV]  colsample_bylevel=0.42921504995463133, colsample_bytree=0.8939459617961092, gamma=1e-09, learning_rate=0.052436549339808805, max_delta_step=0, max_depth=5, min_child_weight=0, n_estimators=78, reg_alpha=1e-09, reg_lambda=0.0021082352774670216, scale_pos_weight=0.26223726615133175, subsample=0.01, score=0.609, total=   1.6s\n",
      "[CV] colsample_bylevel=0.42921504995463133, colsample_bytree=0.8939459617961092, gamma=1e-09, learning_rate=0.052436549339808805, max_delta_step=0, max_depth=5, min_child_weight=0, n_estimators=78, reg_alpha=1e-09, reg_lambda=0.0021082352774670216, scale_pos_weight=0.26223726615133175, subsample=0.01 \n"
     ]
    },
    {
     "name": "stdout",
     "output_type": "stream",
     "text": [
      "[CV]  colsample_bylevel=0.42921504995463133, colsample_bytree=0.8939459617961092, gamma=1e-09, learning_rate=0.052436549339808805, max_delta_step=0, max_depth=5, min_child_weight=0, n_estimators=78, reg_alpha=1e-09, reg_lambda=0.0021082352774670216, scale_pos_weight=0.26223726615133175, subsample=0.01, score=0.541, total=   1.3s\n",
      "[CV] colsample_bylevel=0.42921504995463133, colsample_bytree=0.8939459617961092, gamma=1e-09, learning_rate=0.052436549339808805, max_delta_step=0, max_depth=5, min_child_weight=0, n_estimators=78, reg_alpha=1e-09, reg_lambda=0.0021082352774670216, scale_pos_weight=0.26223726615133175, subsample=0.01 \n",
      "[CV]  colsample_bylevel=0.42921504995463133, colsample_bytree=0.8939459617961092, gamma=1e-09, learning_rate=0.052436549339808805, max_delta_step=0, max_depth=5, min_child_weight=0, n_estimators=78, reg_alpha=1e-09, reg_lambda=0.0021082352774670216, scale_pos_weight=0.26223726615133175, subsample=0.01, score=0.588, total=   1.3s\n",
      "[CV] colsample_bylevel=0.42921504995463133, colsample_bytree=0.8939459617961092, gamma=1e-09, learning_rate=0.052436549339808805, max_delta_step=0, max_depth=5, min_child_weight=0, n_estimators=78, reg_alpha=1e-09, reg_lambda=0.0021082352774670216, scale_pos_weight=0.26223726615133175, subsample=0.01 \n",
      "[CV]  colsample_bylevel=0.42921504995463133, colsample_bytree=0.8939459617961092, gamma=1e-09, learning_rate=0.052436549339808805, max_delta_step=0, max_depth=5, min_child_weight=0, n_estimators=78, reg_alpha=1e-09, reg_lambda=0.0021082352774670216, scale_pos_weight=0.26223726615133175, subsample=0.01, score=0.516, total=   1.1s\n",
      "[CV] colsample_bylevel=0.01, colsample_bytree=1.0, gamma=1e-09, learning_rate=1.0, max_delta_step=0, max_depth=0, min_child_weight=5, n_estimators=200, reg_alpha=1e-09, reg_lambda=1000.0, scale_pos_weight=499.99999999999994, subsample=0.6633071821805206 \n",
      "[CV]  colsample_bylevel=0.01, colsample_bytree=1.0, gamma=1e-09, learning_rate=1.0, max_delta_step=0, max_depth=0, min_child_weight=5, n_estimators=200, reg_alpha=1e-09, reg_lambda=1000.0, scale_pos_weight=499.99999999999994, subsample=0.6633071821805206, score=0.435, total=   1.1s\n",
      "[CV] colsample_bylevel=0.01, colsample_bytree=1.0, gamma=1e-09, learning_rate=1.0, max_delta_step=0, max_depth=0, min_child_weight=5, n_estimators=200, reg_alpha=1e-09, reg_lambda=1000.0, scale_pos_weight=499.99999999999994, subsample=0.6633071821805206 \n",
      "[CV]  colsample_bylevel=0.01, colsample_bytree=1.0, gamma=1e-09, learning_rate=1.0, max_delta_step=0, max_depth=0, min_child_weight=5, n_estimators=200, reg_alpha=1e-09, reg_lambda=1000.0, scale_pos_weight=499.99999999999994, subsample=0.6633071821805206, score=0.435, total=   1.1s\n",
      "[CV] colsample_bylevel=0.01, colsample_bytree=1.0, gamma=1e-09, learning_rate=1.0, max_delta_step=0, max_depth=0, min_child_weight=5, n_estimators=200, reg_alpha=1e-09, reg_lambda=1000.0, scale_pos_weight=499.99999999999994, subsample=0.6633071821805206 \n",
      "[CV]  colsample_bylevel=0.01, colsample_bytree=1.0, gamma=1e-09, learning_rate=1.0, max_delta_step=0, max_depth=0, min_child_weight=5, n_estimators=200, reg_alpha=1e-09, reg_lambda=1000.0, scale_pos_weight=499.99999999999994, subsample=0.6633071821805206, score=0.435, total=   1.2s\n",
      "[CV] colsample_bylevel=0.01, colsample_bytree=1.0, gamma=1e-09, learning_rate=1.0, max_delta_step=0, max_depth=0, min_child_weight=5, n_estimators=200, reg_alpha=1e-09, reg_lambda=1000.0, scale_pos_weight=499.99999999999994, subsample=0.6633071821805206 \n",
      "[CV]  colsample_bylevel=0.01, colsample_bytree=1.0, gamma=1e-09, learning_rate=1.0, max_delta_step=0, max_depth=0, min_child_weight=5, n_estimators=200, reg_alpha=1e-09, reg_lambda=1000.0, scale_pos_weight=499.99999999999994, subsample=0.6633071821805206, score=0.435, total=   1.1s\n",
      "[CV] colsample_bylevel=0.01, colsample_bytree=1.0, gamma=1e-09, learning_rate=1.0, max_delta_step=0, max_depth=0, min_child_weight=5, n_estimators=200, reg_alpha=1e-09, reg_lambda=1000.0, scale_pos_weight=499.99999999999994, subsample=0.6633071821805206 \n",
      "[CV]  colsample_bylevel=0.01, colsample_bytree=1.0, gamma=1e-09, learning_rate=1.0, max_delta_step=0, max_depth=0, min_child_weight=5, n_estimators=200, reg_alpha=1e-09, reg_lambda=1000.0, scale_pos_weight=499.99999999999994, subsample=0.6633071821805206, score=0.437, total=   1.2s\n",
      "[CV] colsample_bylevel=0.01, colsample_bytree=1.0, gamma=1e-09, learning_rate=0.8669444746069789, max_delta_step=0, max_depth=50, min_child_weight=0, n_estimators=200, reg_alpha=1.5753252742511249e-07, reg_lambda=1e-09, scale_pos_weight=499.99999999999994, subsample=1.0 \n",
      "[CV]  colsample_bylevel=0.01, colsample_bytree=1.0, gamma=1e-09, learning_rate=0.8669444746069789, max_delta_step=0, max_depth=50, min_child_weight=0, n_estimators=200, reg_alpha=1.5753252742511249e-07, reg_lambda=1e-09, scale_pos_weight=499.99999999999994, subsample=1.0, score=0.553, total=   1.3s\n",
      "[CV] colsample_bylevel=0.01, colsample_bytree=1.0, gamma=1e-09, learning_rate=0.8669444746069789, max_delta_step=0, max_depth=50, min_child_weight=0, n_estimators=200, reg_alpha=1.5753252742511249e-07, reg_lambda=1e-09, scale_pos_weight=499.99999999999994, subsample=1.0 \n",
      "[CV]  colsample_bylevel=0.01, colsample_bytree=1.0, gamma=1e-09, learning_rate=0.8669444746069789, max_delta_step=0, max_depth=50, min_child_weight=0, n_estimators=200, reg_alpha=1.5753252742511249e-07, reg_lambda=1e-09, scale_pos_weight=499.99999999999994, subsample=1.0, score=0.526, total=   1.5s\n",
      "[CV] colsample_bylevel=0.01, colsample_bytree=1.0, gamma=1e-09, learning_rate=0.8669444746069789, max_delta_step=0, max_depth=50, min_child_weight=0, n_estimators=200, reg_alpha=1.5753252742511249e-07, reg_lambda=1e-09, scale_pos_weight=499.99999999999994, subsample=1.0 \n",
      "[CV]  colsample_bylevel=0.01, colsample_bytree=1.0, gamma=1e-09, learning_rate=0.8669444746069789, max_delta_step=0, max_depth=50, min_child_weight=0, n_estimators=200, reg_alpha=1.5753252742511249e-07, reg_lambda=1e-09, scale_pos_weight=499.99999999999994, subsample=1.0, score=0.544, total=   1.4s\n",
      "[CV] colsample_bylevel=0.01, colsample_bytree=1.0, gamma=1e-09, learning_rate=0.8669444746069789, max_delta_step=0, max_depth=50, min_child_weight=0, n_estimators=200, reg_alpha=1.5753252742511249e-07, reg_lambda=1e-09, scale_pos_weight=499.99999999999994, subsample=1.0 \n",
      "[CV]  colsample_bylevel=0.01, colsample_bytree=1.0, gamma=1e-09, learning_rate=0.8669444746069789, max_delta_step=0, max_depth=50, min_child_weight=0, n_estimators=200, reg_alpha=1.5753252742511249e-07, reg_lambda=1e-09, scale_pos_weight=499.99999999999994, subsample=1.0, score=0.568, total=   1.7s\n",
      "[CV] colsample_bylevel=0.01, colsample_bytree=1.0, gamma=1e-09, learning_rate=0.8669444746069789, max_delta_step=0, max_depth=50, min_child_weight=0, n_estimators=200, reg_alpha=1.5753252742511249e-07, reg_lambda=1e-09, scale_pos_weight=499.99999999999994, subsample=1.0 \n",
      "[CV]  colsample_bylevel=0.01, colsample_bytree=1.0, gamma=1e-09, learning_rate=0.8669444746069789, max_delta_step=0, max_depth=50, min_child_weight=0, n_estimators=200, reg_alpha=1.5753252742511249e-07, reg_lambda=1e-09, scale_pos_weight=499.99999999999994, subsample=1.0, score=0.569, total=   1.5s\n",
      "[CV] colsample_bylevel=1.0, colsample_bytree=0.3983513795771858, gamma=1.5607230572060827e-07, learning_rate=0.4768216777952102, max_delta_step=0, max_depth=0, min_child_weight=4, n_estimators=200, reg_alpha=7.946479422391304e-09, reg_lambda=64.97977356304638, scale_pos_weight=462.38908712292016, subsample=1.0 \n",
      "[CV]  colsample_bylevel=1.0, colsample_bytree=0.3983513795771858, gamma=1.5607230572060827e-07, learning_rate=0.4768216777952102, max_delta_step=0, max_depth=0, min_child_weight=4, n_estimators=200, reg_alpha=7.946479422391304e-09, reg_lambda=64.97977356304638, scale_pos_weight=462.38908712292016, subsample=1.0, score=0.435, total=   1.3s\n",
      "[CV] colsample_bylevel=1.0, colsample_bytree=0.3983513795771858, gamma=1.5607230572060827e-07, learning_rate=0.4768216777952102, max_delta_step=0, max_depth=0, min_child_weight=4, n_estimators=200, reg_alpha=7.946479422391304e-09, reg_lambda=64.97977356304638, scale_pos_weight=462.38908712292016, subsample=1.0 \n",
      "[CV]  colsample_bylevel=1.0, colsample_bytree=0.3983513795771858, gamma=1.5607230572060827e-07, learning_rate=0.4768216777952102, max_delta_step=0, max_depth=0, min_child_weight=4, n_estimators=200, reg_alpha=7.946479422391304e-09, reg_lambda=64.97977356304638, scale_pos_weight=462.38908712292016, subsample=1.0, score=0.435, total=   1.2s\n",
      "[CV] colsample_bylevel=1.0, colsample_bytree=0.3983513795771858, gamma=1.5607230572060827e-07, learning_rate=0.4768216777952102, max_delta_step=0, max_depth=0, min_child_weight=4, n_estimators=200, reg_alpha=7.946479422391304e-09, reg_lambda=64.97977356304638, scale_pos_weight=462.38908712292016, subsample=1.0 \n"
     ]
    },
    {
     "name": "stdout",
     "output_type": "stream",
     "text": [
      "[CV]  colsample_bylevel=1.0, colsample_bytree=0.3983513795771858, gamma=1.5607230572060827e-07, learning_rate=0.4768216777952102, max_delta_step=0, max_depth=0, min_child_weight=4, n_estimators=200, reg_alpha=7.946479422391304e-09, reg_lambda=64.97977356304638, scale_pos_weight=462.38908712292016, subsample=1.0, score=0.435, total=   1.1s\n",
      "[CV] colsample_bylevel=1.0, colsample_bytree=0.3983513795771858, gamma=1.5607230572060827e-07, learning_rate=0.4768216777952102, max_delta_step=0, max_depth=0, min_child_weight=4, n_estimators=200, reg_alpha=7.946479422391304e-09, reg_lambda=64.97977356304638, scale_pos_weight=462.38908712292016, subsample=1.0 \n",
      "[CV]  colsample_bylevel=1.0, colsample_bytree=0.3983513795771858, gamma=1.5607230572060827e-07, learning_rate=0.4768216777952102, max_delta_step=0, max_depth=0, min_child_weight=4, n_estimators=200, reg_alpha=7.946479422391304e-09, reg_lambda=64.97977356304638, scale_pos_weight=462.38908712292016, subsample=1.0, score=0.435, total=   1.1s\n",
      "[CV] colsample_bylevel=1.0, colsample_bytree=0.3983513795771858, gamma=1.5607230572060827e-07, learning_rate=0.4768216777952102, max_delta_step=0, max_depth=0, min_child_weight=4, n_estimators=200, reg_alpha=7.946479422391304e-09, reg_lambda=64.97977356304638, scale_pos_weight=462.38908712292016, subsample=1.0 \n",
      "[CV]  colsample_bylevel=1.0, colsample_bytree=0.3983513795771858, gamma=1.5607230572060827e-07, learning_rate=0.4768216777952102, max_delta_step=0, max_depth=0, min_child_weight=4, n_estimators=200, reg_alpha=7.946479422391304e-09, reg_lambda=64.97977356304638, scale_pos_weight=462.38908712292016, subsample=1.0, score=0.437, total=   1.1s\n",
      "[CV] colsample_bylevel=0.01, colsample_bytree=1.0, gamma=1e-09, learning_rate=1.0, max_delta_step=0, max_depth=0, min_child_weight=5, n_estimators=200, reg_alpha=1.2133693713159113e-08, reg_lambda=1000.0, scale_pos_weight=499.99999999999994, subsample=0.8615348215007765 \n",
      "[CV]  colsample_bylevel=0.01, colsample_bytree=1.0, gamma=1e-09, learning_rate=1.0, max_delta_step=0, max_depth=0, min_child_weight=5, n_estimators=200, reg_alpha=1.2133693713159113e-08, reg_lambda=1000.0, scale_pos_weight=499.99999999999994, subsample=0.8615348215007765, score=0.435, total=   1.1s\n",
      "[CV] colsample_bylevel=0.01, colsample_bytree=1.0, gamma=1e-09, learning_rate=1.0, max_delta_step=0, max_depth=0, min_child_weight=5, n_estimators=200, reg_alpha=1.2133693713159113e-08, reg_lambda=1000.0, scale_pos_weight=499.99999999999994, subsample=0.8615348215007765 \n",
      "[CV]  colsample_bylevel=0.01, colsample_bytree=1.0, gamma=1e-09, learning_rate=1.0, max_delta_step=0, max_depth=0, min_child_weight=5, n_estimators=200, reg_alpha=1.2133693713159113e-08, reg_lambda=1000.0, scale_pos_weight=499.99999999999994, subsample=0.8615348215007765, score=0.435, total=   1.0s\n",
      "[CV] colsample_bylevel=0.01, colsample_bytree=1.0, gamma=1e-09, learning_rate=1.0, max_delta_step=0, max_depth=0, min_child_weight=5, n_estimators=200, reg_alpha=1.2133693713159113e-08, reg_lambda=1000.0, scale_pos_weight=499.99999999999994, subsample=0.8615348215007765 \n",
      "[CV]  colsample_bylevel=0.01, colsample_bytree=1.0, gamma=1e-09, learning_rate=1.0, max_delta_step=0, max_depth=0, min_child_weight=5, n_estimators=200, reg_alpha=1.2133693713159113e-08, reg_lambda=1000.0, scale_pos_weight=499.99999999999994, subsample=0.8615348215007765, score=0.435, total=   1.0s\n",
      "[CV] colsample_bylevel=0.01, colsample_bytree=1.0, gamma=1e-09, learning_rate=1.0, max_delta_step=0, max_depth=0, min_child_weight=5, n_estimators=200, reg_alpha=1.2133693713159113e-08, reg_lambda=1000.0, scale_pos_weight=499.99999999999994, subsample=0.8615348215007765 \n",
      "[CV]  colsample_bylevel=0.01, colsample_bytree=1.0, gamma=1e-09, learning_rate=1.0, max_delta_step=0, max_depth=0, min_child_weight=5, n_estimators=200, reg_alpha=1.2133693713159113e-08, reg_lambda=1000.0, scale_pos_weight=499.99999999999994, subsample=0.8615348215007765, score=0.435, total=   1.0s\n",
      "[CV] colsample_bylevel=0.01, colsample_bytree=1.0, gamma=1e-09, learning_rate=1.0, max_delta_step=0, max_depth=0, min_child_weight=5, n_estimators=200, reg_alpha=1.2133693713159113e-08, reg_lambda=1000.0, scale_pos_weight=499.99999999999994, subsample=0.8615348215007765 \n",
      "[CV]  colsample_bylevel=0.01, colsample_bytree=1.0, gamma=1e-09, learning_rate=1.0, max_delta_step=0, max_depth=0, min_child_weight=5, n_estimators=200, reg_alpha=1.2133693713159113e-08, reg_lambda=1000.0, scale_pos_weight=499.99999999999994, subsample=0.8615348215007765, score=0.437, total=   1.1s\n",
      "[CV] colsample_bylevel=0.6271751242868914, colsample_bytree=0.01, gamma=1e-09, learning_rate=1.0, max_delta_step=20, max_depth=50, min_child_weight=0, n_estimators=50, reg_alpha=1e-09, reg_lambda=1e-09, scale_pos_weight=499.99999999999994, subsample=0.2878980402603278 \n",
      "[CV]  colsample_bylevel=0.6271751242868914, colsample_bytree=0.01, gamma=1e-09, learning_rate=1.0, max_delta_step=20, max_depth=50, min_child_weight=0, n_estimators=50, reg_alpha=1e-09, reg_lambda=1e-09, scale_pos_weight=499.99999999999994, subsample=0.2878980402603278, score=0.515, total=   0.6s\n",
      "[CV] colsample_bylevel=0.6271751242868914, colsample_bytree=0.01, gamma=1e-09, learning_rate=1.0, max_delta_step=20, max_depth=50, min_child_weight=0, n_estimators=50, reg_alpha=1e-09, reg_lambda=1e-09, scale_pos_weight=499.99999999999994, subsample=0.2878980402603278 \n",
      "[CV]  colsample_bylevel=0.6271751242868914, colsample_bytree=0.01, gamma=1e-09, learning_rate=1.0, max_delta_step=20, max_depth=50, min_child_weight=0, n_estimators=50, reg_alpha=1e-09, reg_lambda=1e-09, scale_pos_weight=499.99999999999994, subsample=0.2878980402603278, score=0.559, total=   0.6s\n",
      "[CV] colsample_bylevel=0.6271751242868914, colsample_bytree=0.01, gamma=1e-09, learning_rate=1.0, max_delta_step=20, max_depth=50, min_child_weight=0, n_estimators=50, reg_alpha=1e-09, reg_lambda=1e-09, scale_pos_weight=499.99999999999994, subsample=0.2878980402603278 \n",
      "[CV]  colsample_bylevel=0.6271751242868914, colsample_bytree=0.01, gamma=1e-09, learning_rate=1.0, max_delta_step=20, max_depth=50, min_child_weight=0, n_estimators=50, reg_alpha=1e-09, reg_lambda=1e-09, scale_pos_weight=499.99999999999994, subsample=0.2878980402603278, score=0.503, total=   0.6s\n",
      "[CV] colsample_bylevel=0.6271751242868914, colsample_bytree=0.01, gamma=1e-09, learning_rate=1.0, max_delta_step=20, max_depth=50, min_child_weight=0, n_estimators=50, reg_alpha=1e-09, reg_lambda=1e-09, scale_pos_weight=499.99999999999994, subsample=0.2878980402603278 \n",
      "[CV]  colsample_bylevel=0.6271751242868914, colsample_bytree=0.01, gamma=1e-09, learning_rate=1.0, max_delta_step=20, max_depth=50, min_child_weight=0, n_estimators=50, reg_alpha=1e-09, reg_lambda=1e-09, scale_pos_weight=499.99999999999994, subsample=0.2878980402603278, score=0.524, total=   0.6s\n",
      "[CV] colsample_bylevel=0.6271751242868914, colsample_bytree=0.01, gamma=1e-09, learning_rate=1.0, max_delta_step=20, max_depth=50, min_child_weight=0, n_estimators=50, reg_alpha=1e-09, reg_lambda=1e-09, scale_pos_weight=499.99999999999994, subsample=0.2878980402603278 \n",
      "[CV]  colsample_bylevel=0.6271751242868914, colsample_bytree=0.01, gamma=1e-09, learning_rate=1.0, max_delta_step=20, max_depth=50, min_child_weight=0, n_estimators=50, reg_alpha=1e-09, reg_lambda=1e-09, scale_pos_weight=499.99999999999994, subsample=0.2878980402603278, score=0.540, total=   0.6s\n",
      "[CV] colsample_bylevel=0.485388436012589, colsample_bytree=0.21735545873638892, gamma=1e-09, learning_rate=1.0, max_delta_step=5, max_depth=50, min_child_weight=0, n_estimators=50, reg_alpha=1.4450457695614027e-07, reg_lambda=4.997033703689694e-06, scale_pos_weight=499.99999999999994, subsample=0.01 \n",
      "[CV]  colsample_bylevel=0.485388436012589, colsample_bytree=0.21735545873638892, gamma=1e-09, learning_rate=1.0, max_delta_step=5, max_depth=50, min_child_weight=0, n_estimators=50, reg_alpha=1.4450457695614027e-07, reg_lambda=4.997033703689694e-06, scale_pos_weight=499.99999999999994, subsample=0.01, score=0.553, total=   0.6s\n",
      "[CV] colsample_bylevel=0.485388436012589, colsample_bytree=0.21735545873638892, gamma=1e-09, learning_rate=1.0, max_delta_step=5, max_depth=50, min_child_weight=0, n_estimators=50, reg_alpha=1.4450457695614027e-07, reg_lambda=4.997033703689694e-06, scale_pos_weight=499.99999999999994, subsample=0.01 \n"
     ]
    },
    {
     "name": "stdout",
     "output_type": "stream",
     "text": [
      "[CV]  colsample_bylevel=0.485388436012589, colsample_bytree=0.21735545873638892, gamma=1e-09, learning_rate=1.0, max_delta_step=5, max_depth=50, min_child_weight=0, n_estimators=50, reg_alpha=1.4450457695614027e-07, reg_lambda=4.997033703689694e-06, scale_pos_weight=499.99999999999994, subsample=0.01, score=0.629, total=   0.6s\n",
      "[CV] colsample_bylevel=0.485388436012589, colsample_bytree=0.21735545873638892, gamma=1e-09, learning_rate=1.0, max_delta_step=5, max_depth=50, min_child_weight=0, n_estimators=50, reg_alpha=1.4450457695614027e-07, reg_lambda=4.997033703689694e-06, scale_pos_weight=499.99999999999994, subsample=0.01 \n",
      "[CV]  colsample_bylevel=0.485388436012589, colsample_bytree=0.21735545873638892, gamma=1e-09, learning_rate=1.0, max_delta_step=5, max_depth=50, min_child_weight=0, n_estimators=50, reg_alpha=1.4450457695614027e-07, reg_lambda=4.997033703689694e-06, scale_pos_weight=499.99999999999994, subsample=0.01, score=0.506, total=   0.6s\n",
      "[CV] colsample_bylevel=0.485388436012589, colsample_bytree=0.21735545873638892, gamma=1e-09, learning_rate=1.0, max_delta_step=5, max_depth=50, min_child_weight=0, n_estimators=50, reg_alpha=1.4450457695614027e-07, reg_lambda=4.997033703689694e-06, scale_pos_weight=499.99999999999994, subsample=0.01 \n",
      "[CV]  colsample_bylevel=0.485388436012589, colsample_bytree=0.21735545873638892, gamma=1e-09, learning_rate=1.0, max_delta_step=5, max_depth=50, min_child_weight=0, n_estimators=50, reg_alpha=1.4450457695614027e-07, reg_lambda=4.997033703689694e-06, scale_pos_weight=499.99999999999994, subsample=0.01, score=0.556, total=   0.6s\n",
      "[CV] colsample_bylevel=0.485388436012589, colsample_bytree=0.21735545873638892, gamma=1e-09, learning_rate=1.0, max_delta_step=5, max_depth=50, min_child_weight=0, n_estimators=50, reg_alpha=1.4450457695614027e-07, reg_lambda=4.997033703689694e-06, scale_pos_weight=499.99999999999994, subsample=0.01 \n",
      "[CV]  colsample_bylevel=0.485388436012589, colsample_bytree=0.21735545873638892, gamma=1e-09, learning_rate=1.0, max_delta_step=5, max_depth=50, min_child_weight=0, n_estimators=50, reg_alpha=1.4450457695614027e-07, reg_lambda=4.997033703689694e-06, scale_pos_weight=499.99999999999994, subsample=0.01, score=0.510, total=   0.6s\n",
      "[CV] colsample_bylevel=0.01, colsample_bytree=1.0, gamma=5.1238429848094225e-05, learning_rate=1.0, max_delta_step=0, max_depth=50, min_child_weight=0, n_estimators=200, reg_alpha=1e-09, reg_lambda=1e-09, scale_pos_weight=167.94007532190398, subsample=0.2013758527211366 \n",
      "[CV]  colsample_bylevel=0.01, colsample_bytree=1.0, gamma=5.1238429848094225e-05, learning_rate=1.0, max_delta_step=0, max_depth=50, min_child_weight=0, n_estimators=200, reg_alpha=1e-09, reg_lambda=1e-09, scale_pos_weight=167.94007532190398, subsample=0.2013758527211366, score=0.562, total=   2.4s\n",
      "[CV] colsample_bylevel=0.01, colsample_bytree=1.0, gamma=5.1238429848094225e-05, learning_rate=1.0, max_delta_step=0, max_depth=50, min_child_weight=0, n_estimators=200, reg_alpha=1e-09, reg_lambda=1e-09, scale_pos_weight=167.94007532190398, subsample=0.2013758527211366 \n",
      "[CV]  colsample_bylevel=0.01, colsample_bytree=1.0, gamma=5.1238429848094225e-05, learning_rate=1.0, max_delta_step=0, max_depth=50, min_child_weight=0, n_estimators=200, reg_alpha=1e-09, reg_lambda=1e-09, scale_pos_weight=167.94007532190398, subsample=0.2013758527211366, score=0.509, total=   2.7s\n",
      "[CV] colsample_bylevel=0.01, colsample_bytree=1.0, gamma=5.1238429848094225e-05, learning_rate=1.0, max_delta_step=0, max_depth=50, min_child_weight=0, n_estimators=200, reg_alpha=1e-09, reg_lambda=1e-09, scale_pos_weight=167.94007532190398, subsample=0.2013758527211366 \n",
      "[CV]  colsample_bylevel=0.01, colsample_bytree=1.0, gamma=5.1238429848094225e-05, learning_rate=1.0, max_delta_step=0, max_depth=50, min_child_weight=0, n_estimators=200, reg_alpha=1e-09, reg_lambda=1e-09, scale_pos_weight=167.94007532190398, subsample=0.2013758527211366, score=0.571, total=   2.7s\n",
      "[CV] colsample_bylevel=0.01, colsample_bytree=1.0, gamma=5.1238429848094225e-05, learning_rate=1.0, max_delta_step=0, max_depth=50, min_child_weight=0, n_estimators=200, reg_alpha=1e-09, reg_lambda=1e-09, scale_pos_weight=167.94007532190398, subsample=0.2013758527211366 \n",
      "[CV]  colsample_bylevel=0.01, colsample_bytree=1.0, gamma=5.1238429848094225e-05, learning_rate=1.0, max_delta_step=0, max_depth=50, min_child_weight=0, n_estimators=200, reg_alpha=1e-09, reg_lambda=1e-09, scale_pos_weight=167.94007532190398, subsample=0.2013758527211366, score=0.529, total=   2.9s\n",
      "[CV] colsample_bylevel=0.01, colsample_bytree=1.0, gamma=5.1238429848094225e-05, learning_rate=1.0, max_delta_step=0, max_depth=50, min_child_weight=0, n_estimators=200, reg_alpha=1e-09, reg_lambda=1e-09, scale_pos_weight=167.94007532190398, subsample=0.2013758527211366 \n",
      "[CV]  colsample_bylevel=0.01, colsample_bytree=1.0, gamma=5.1238429848094225e-05, learning_rate=1.0, max_delta_step=0, max_depth=50, min_child_weight=0, n_estimators=200, reg_alpha=1e-09, reg_lambda=1e-09, scale_pos_weight=167.94007532190398, subsample=0.2013758527211366, score=0.569, total=   3.5s\n",
      "[CV] colsample_bylevel=0.01, colsample_bytree=1.0, gamma=1e-09, learning_rate=1.0, max_delta_step=0, max_depth=50, min_child_weight=0, n_estimators=200, reg_alpha=1e-09, reg_lambda=1000.0, scale_pos_weight=1e-06, subsample=0.01 \n",
      "[CV]  colsample_bylevel=0.01, colsample_bytree=1.0, gamma=1e-09, learning_rate=1.0, max_delta_step=0, max_depth=50, min_child_weight=0, n_estimators=200, reg_alpha=1e-09, reg_lambda=1000.0, scale_pos_weight=1e-06, subsample=0.01, score=0.565, total=   1.2s\n",
      "[CV] colsample_bylevel=0.01, colsample_bytree=1.0, gamma=1e-09, learning_rate=1.0, max_delta_step=0, max_depth=50, min_child_weight=0, n_estimators=200, reg_alpha=1e-09, reg_lambda=1000.0, scale_pos_weight=1e-06, subsample=0.01 \n",
      "[CV]  colsample_bylevel=0.01, colsample_bytree=1.0, gamma=1e-09, learning_rate=1.0, max_delta_step=0, max_depth=50, min_child_weight=0, n_estimators=200, reg_alpha=1e-09, reg_lambda=1000.0, scale_pos_weight=1e-06, subsample=0.01, score=0.565, total=   1.3s\n",
      "[CV] colsample_bylevel=0.01, colsample_bytree=1.0, gamma=1e-09, learning_rate=1.0, max_delta_step=0, max_depth=50, min_child_weight=0, n_estimators=200, reg_alpha=1e-09, reg_lambda=1000.0, scale_pos_weight=1e-06, subsample=0.01 \n",
      "[CV]  colsample_bylevel=0.01, colsample_bytree=1.0, gamma=1e-09, learning_rate=1.0, max_delta_step=0, max_depth=50, min_child_weight=0, n_estimators=200, reg_alpha=1e-09, reg_lambda=1000.0, scale_pos_weight=1e-06, subsample=0.01, score=0.565, total=   1.4s\n",
      "[CV] colsample_bylevel=0.01, colsample_bytree=1.0, gamma=1e-09, learning_rate=1.0, max_delta_step=0, max_depth=50, min_child_weight=0, n_estimators=200, reg_alpha=1e-09, reg_lambda=1000.0, scale_pos_weight=1e-06, subsample=0.01 \n",
      "[CV]  colsample_bylevel=0.01, colsample_bytree=1.0, gamma=1e-09, learning_rate=1.0, max_delta_step=0, max_depth=50, min_child_weight=0, n_estimators=200, reg_alpha=1e-09, reg_lambda=1000.0, scale_pos_weight=1e-06, subsample=0.01, score=0.565, total=   1.2s\n",
      "[CV] colsample_bylevel=0.01, colsample_bytree=1.0, gamma=1e-09, learning_rate=1.0, max_delta_step=0, max_depth=50, min_child_weight=0, n_estimators=200, reg_alpha=1e-09, reg_lambda=1000.0, scale_pos_weight=1e-06, subsample=0.01 \n",
      "[CV]  colsample_bylevel=0.01, colsample_bytree=1.0, gamma=1e-09, learning_rate=1.0, max_delta_step=0, max_depth=50, min_child_weight=0, n_estimators=200, reg_alpha=1e-09, reg_lambda=1000.0, scale_pos_weight=1e-06, subsample=0.01, score=0.563, total=   1.3s\n"
     ]
    },
    {
     "name": "stderr",
     "output_type": "stream",
     "text": [
      "[Parallel(n_jobs=1)]: Done  60 out of  60 | elapsed:  1.2min finished\n"
     ]
    },
    {
     "name": "stdout",
     "output_type": "stream",
     "text": [
      "best score: 0.6527369040612124\n",
      "Fitting 5 folds for each of 12 candidates, totalling 60 fits\n",
      "[CV] colsample_bylevel=0.4073839577288588, colsample_bytree=0.9767157448427943, gamma=0.000934490027673713, learning_rate=0.3106315583967874, max_delta_step=8, max_depth=28, min_child_weight=0, n_estimators=124, reg_alpha=0.00011970456948793626, reg_lambda=1.0119991499488825, scale_pos_weight=230.75243499336182, subsample=0.6841516689677793 \n"
     ]
    },
    {
     "name": "stderr",
     "output_type": "stream",
     "text": [
      "[Parallel(n_jobs=1)]: Using backend SequentialBackend with 1 concurrent workers.\n",
      "/home/chris/anaconda3/lib/python3.8/site-packages/sklearn/preprocessing/_label.py:235: DataConversionWarning: A column-vector y was passed when a 1d array was expected. Please change the shape of y to (n_samples, ), for example using ravel().\n",
      "  y = column_or_1d(y, warn=True)\n",
      "/home/chris/anaconda3/lib/python3.8/site-packages/sklearn/preprocessing/_label.py:268: DataConversionWarning: A column-vector y was passed when a 1d array was expected. Please change the shape of y to (n_samples, ), for example using ravel().\n",
      "  y = column_or_1d(y, warn=True)\n"
     ]
    },
    {
     "name": "stdout",
     "output_type": "stream",
     "text": [
      "[CV]  colsample_bylevel=0.4073839577288588, colsample_bytree=0.9767157448427943, gamma=0.000934490027673713, learning_rate=0.3106315583967874, max_delta_step=8, max_depth=28, min_child_weight=0, n_estimators=124, reg_alpha=0.00011970456948793626, reg_lambda=1.0119991499488825, scale_pos_weight=230.75243499336182, subsample=0.6841516689677793, score=0.579, total=  11.2s\n",
      "[CV] colsample_bylevel=0.4073839577288588, colsample_bytree=0.9767157448427943, gamma=0.000934490027673713, learning_rate=0.3106315583967874, max_delta_step=8, max_depth=28, min_child_weight=0, n_estimators=124, reg_alpha=0.00011970456948793626, reg_lambda=1.0119991499488825, scale_pos_weight=230.75243499336182, subsample=0.6841516689677793 \n"
     ]
    },
    {
     "name": "stderr",
     "output_type": "stream",
     "text": [
      "[Parallel(n_jobs=1)]: Done   1 out of   1 | elapsed:   11.2s remaining:    0.0s\n"
     ]
    },
    {
     "name": "stdout",
     "output_type": "stream",
     "text": [
      "[CV]  colsample_bylevel=0.4073839577288588, colsample_bytree=0.9767157448427943, gamma=0.000934490027673713, learning_rate=0.3106315583967874, max_delta_step=8, max_depth=28, min_child_weight=0, n_estimators=124, reg_alpha=0.00011970456948793626, reg_lambda=1.0119991499488825, scale_pos_weight=230.75243499336182, subsample=0.6841516689677793, score=0.571, total=  10.6s\n",
      "[CV] colsample_bylevel=0.4073839577288588, colsample_bytree=0.9767157448427943, gamma=0.000934490027673713, learning_rate=0.3106315583967874, max_delta_step=8, max_depth=28, min_child_weight=0, n_estimators=124, reg_alpha=0.00011970456948793626, reg_lambda=1.0119991499488825, scale_pos_weight=230.75243499336182, subsample=0.6841516689677793 \n"
     ]
    },
    {
     "name": "stderr",
     "output_type": "stream",
     "text": [
      "[Parallel(n_jobs=1)]: Done   2 out of   2 | elapsed:   21.8s remaining:    0.0s\n"
     ]
    },
    {
     "name": "stdout",
     "output_type": "stream",
     "text": [
      "[CV]  colsample_bylevel=0.4073839577288588, colsample_bytree=0.9767157448427943, gamma=0.000934490027673713, learning_rate=0.3106315583967874, max_delta_step=8, max_depth=28, min_child_weight=0, n_estimators=124, reg_alpha=0.00011970456948793626, reg_lambda=1.0119991499488825, scale_pos_weight=230.75243499336182, subsample=0.6841516689677793, score=0.585, total=  10.7s\n",
      "[CV] colsample_bylevel=0.4073839577288588, colsample_bytree=0.9767157448427943, gamma=0.000934490027673713, learning_rate=0.3106315583967874, max_delta_step=8, max_depth=28, min_child_weight=0, n_estimators=124, reg_alpha=0.00011970456948793626, reg_lambda=1.0119991499488825, scale_pos_weight=230.75243499336182, subsample=0.6841516689677793 \n",
      "[CV]  colsample_bylevel=0.4073839577288588, colsample_bytree=0.9767157448427943, gamma=0.000934490027673713, learning_rate=0.3106315583967874, max_delta_step=8, max_depth=28, min_child_weight=0, n_estimators=124, reg_alpha=0.00011970456948793626, reg_lambda=1.0119991499488825, scale_pos_weight=230.75243499336182, subsample=0.6841516689677793, score=0.626, total=  18.8s\n",
      "[CV] colsample_bylevel=0.4073839577288588, colsample_bytree=0.9767157448427943, gamma=0.000934490027673713, learning_rate=0.3106315583967874, max_delta_step=8, max_depth=28, min_child_weight=0, n_estimators=124, reg_alpha=0.00011970456948793626, reg_lambda=1.0119991499488825, scale_pos_weight=230.75243499336182, subsample=0.6841516689677793 \n",
      "[CV]  colsample_bylevel=0.4073839577288588, colsample_bytree=0.9767157448427943, gamma=0.000934490027673713, learning_rate=0.3106315583967874, max_delta_step=8, max_depth=28, min_child_weight=0, n_estimators=124, reg_alpha=0.00011970456948793626, reg_lambda=1.0119991499488825, scale_pos_weight=230.75243499336182, subsample=0.6841516689677793, score=0.596, total=  11.4s\n",
      "[CV] colsample_bylevel=0.5858505978592973, colsample_bytree=0.6333279562827644, gamma=0.001452167186760514, learning_rate=0.18980724431003368, max_delta_step=6, max_depth=25, min_child_weight=1, n_estimators=50, reg_alpha=1e-09, reg_lambda=1000.0, scale_pos_weight=0.02941124430695148, subsample=1.0 \n",
      "[CV]  colsample_bylevel=0.5858505978592973, colsample_bytree=0.6333279562827644, gamma=0.001452167186760514, learning_rate=0.18980724431003368, max_delta_step=6, max_depth=25, min_child_weight=1, n_estimators=50, reg_alpha=1e-09, reg_lambda=1000.0, scale_pos_weight=0.02941124430695148, subsample=1.0, score=0.565, total=   0.7s\n",
      "[CV] colsample_bylevel=0.5858505978592973, colsample_bytree=0.6333279562827644, gamma=0.001452167186760514, learning_rate=0.18980724431003368, max_delta_step=6, max_depth=25, min_child_weight=1, n_estimators=50, reg_alpha=1e-09, reg_lambda=1000.0, scale_pos_weight=0.02941124430695148, subsample=1.0 \n",
      "[CV]  colsample_bylevel=0.5858505978592973, colsample_bytree=0.6333279562827644, gamma=0.001452167186760514, learning_rate=0.18980724431003368, max_delta_step=6, max_depth=25, min_child_weight=1, n_estimators=50, reg_alpha=1e-09, reg_lambda=1000.0, scale_pos_weight=0.02941124430695148, subsample=1.0, score=0.565, total=   0.7s\n",
      "[CV] colsample_bylevel=0.5858505978592973, colsample_bytree=0.6333279562827644, gamma=0.001452167186760514, learning_rate=0.18980724431003368, max_delta_step=6, max_depth=25, min_child_weight=1, n_estimators=50, reg_alpha=1e-09, reg_lambda=1000.0, scale_pos_weight=0.02941124430695148, subsample=1.0 \n",
      "[CV]  colsample_bylevel=0.5858505978592973, colsample_bytree=0.6333279562827644, gamma=0.001452167186760514, learning_rate=0.18980724431003368, max_delta_step=6, max_depth=25, min_child_weight=1, n_estimators=50, reg_alpha=1e-09, reg_lambda=1000.0, scale_pos_weight=0.02941124430695148, subsample=1.0, score=0.565, total=   0.7s\n",
      "[CV] colsample_bylevel=0.5858505978592973, colsample_bytree=0.6333279562827644, gamma=0.001452167186760514, learning_rate=0.18980724431003368, max_delta_step=6, max_depth=25, min_child_weight=1, n_estimators=50, reg_alpha=1e-09, reg_lambda=1000.0, scale_pos_weight=0.02941124430695148, subsample=1.0 \n",
      "[CV]  colsample_bylevel=0.5858505978592973, colsample_bytree=0.6333279562827644, gamma=0.001452167186760514, learning_rate=0.18980724431003368, max_delta_step=6, max_depth=25, min_child_weight=1, n_estimators=50, reg_alpha=1e-09, reg_lambda=1000.0, scale_pos_weight=0.02941124430695148, subsample=1.0, score=0.565, total=   0.7s\n",
      "[CV] colsample_bylevel=0.5858505978592973, colsample_bytree=0.6333279562827644, gamma=0.001452167186760514, learning_rate=0.18980724431003368, max_delta_step=6, max_depth=25, min_child_weight=1, n_estimators=50, reg_alpha=1e-09, reg_lambda=1000.0, scale_pos_weight=0.02941124430695148, subsample=1.0 \n",
      "[CV]  colsample_bylevel=0.5858505978592973, colsample_bytree=0.6333279562827644, gamma=0.001452167186760514, learning_rate=0.18980724431003368, max_delta_step=6, max_depth=25, min_child_weight=1, n_estimators=50, reg_alpha=1e-09, reg_lambda=1000.0, scale_pos_weight=0.02941124430695148, subsample=1.0, score=0.563, total=   0.7s\n",
      "[CV] colsample_bylevel=0.6593315724878407, colsample_bytree=0.9156225239711926, gamma=0.0007209582576536024, learning_rate=0.21144309333271047, max_delta_step=20, max_depth=0, min_child_weight=0, n_estimators=118, reg_alpha=0.35036131096369666, reg_lambda=1000.0, scale_pos_weight=4.050726332756067e-06, subsample=0.18894705113897337 \n",
      "[CV]  colsample_bylevel=0.6593315724878407, colsample_bytree=0.9156225239711926, gamma=0.0007209582576536024, learning_rate=0.21144309333271047, max_delta_step=20, max_depth=0, min_child_weight=0, n_estimators=118, reg_alpha=0.35036131096369666, reg_lambda=1000.0, scale_pos_weight=4.050726332756067e-06, subsample=0.18894705113897337, score=0.565, total=   0.8s\n",
      "[CV] colsample_bylevel=0.6593315724878407, colsample_bytree=0.9156225239711926, gamma=0.0007209582576536024, learning_rate=0.21144309333271047, max_delta_step=20, max_depth=0, min_child_weight=0, n_estimators=118, reg_alpha=0.35036131096369666, reg_lambda=1000.0, scale_pos_weight=4.050726332756067e-06, subsample=0.18894705113897337 \n",
      "[CV]  colsample_bylevel=0.6593315724878407, colsample_bytree=0.9156225239711926, gamma=0.0007209582576536024, learning_rate=0.21144309333271047, max_delta_step=20, max_depth=0, min_child_weight=0, n_estimators=118, reg_alpha=0.35036131096369666, reg_lambda=1000.0, scale_pos_weight=4.050726332756067e-06, subsample=0.18894705113897337, score=0.565, total=   0.8s\n",
      "[CV] colsample_bylevel=0.6593315724878407, colsample_bytree=0.9156225239711926, gamma=0.0007209582576536024, learning_rate=0.21144309333271047, max_delta_step=20, max_depth=0, min_child_weight=0, n_estimators=118, reg_alpha=0.35036131096369666, reg_lambda=1000.0, scale_pos_weight=4.050726332756067e-06, subsample=0.18894705113897337 \n",
      "[CV]  colsample_bylevel=0.6593315724878407, colsample_bytree=0.9156225239711926, gamma=0.0007209582576536024, learning_rate=0.21144309333271047, max_delta_step=20, max_depth=0, min_child_weight=0, n_estimators=118, reg_alpha=0.35036131096369666, reg_lambda=1000.0, scale_pos_weight=4.050726332756067e-06, subsample=0.18894705113897337, score=0.565, total=   0.8s\n",
      "[CV] colsample_bylevel=0.6593315724878407, colsample_bytree=0.9156225239711926, gamma=0.0007209582576536024, learning_rate=0.21144309333271047, max_delta_step=20, max_depth=0, min_child_weight=0, n_estimators=118, reg_alpha=0.35036131096369666, reg_lambda=1000.0, scale_pos_weight=4.050726332756067e-06, subsample=0.18894705113897337 \n",
      "[CV]  colsample_bylevel=0.6593315724878407, colsample_bytree=0.9156225239711926, gamma=0.0007209582576536024, learning_rate=0.21144309333271047, max_delta_step=20, max_depth=0, min_child_weight=0, n_estimators=118, reg_alpha=0.35036131096369666, reg_lambda=1000.0, scale_pos_weight=4.050726332756067e-06, subsample=0.18894705113897337, score=0.565, total=   0.8s\n",
      "[CV] colsample_bylevel=0.6593315724878407, colsample_bytree=0.9156225239711926, gamma=0.0007209582576536024, learning_rate=0.21144309333271047, max_delta_step=20, max_depth=0, min_child_weight=0, n_estimators=118, reg_alpha=0.35036131096369666, reg_lambda=1000.0, scale_pos_weight=4.050726332756067e-06, subsample=0.18894705113897337 \n",
      "[CV]  colsample_bylevel=0.6593315724878407, colsample_bytree=0.9156225239711926, gamma=0.0007209582576536024, learning_rate=0.21144309333271047, max_delta_step=20, max_depth=0, min_child_weight=0, n_estimators=118, reg_alpha=0.35036131096369666, reg_lambda=1000.0, scale_pos_weight=4.050726332756067e-06, subsample=0.18894705113897337, score=0.563, total=   0.8s\n",
      "[CV] colsample_bylevel=0.3372881943181022, colsample_bytree=0.9020659538756337, gamma=0.005591115226138011, learning_rate=0.18766740472110116, max_delta_step=11, max_depth=23, min_child_weight=0, n_estimators=65, reg_alpha=1.0821062666657082e-08, reg_lambda=1000.0, scale_pos_weight=0.015421024331061963, subsample=0.9181940485352039 \n"
     ]
    },
    {
     "name": "stdout",
     "output_type": "stream",
     "text": [
      "[CV]  colsample_bylevel=0.3372881943181022, colsample_bytree=0.9020659538756337, gamma=0.005591115226138011, learning_rate=0.18766740472110116, max_delta_step=11, max_depth=23, min_child_weight=0, n_estimators=65, reg_alpha=1.0821062666657082e-08, reg_lambda=1000.0, scale_pos_weight=0.015421024331061963, subsample=0.9181940485352039, score=0.565, total=   4.3s\n",
      "[CV] colsample_bylevel=0.3372881943181022, colsample_bytree=0.9020659538756337, gamma=0.005591115226138011, learning_rate=0.18766740472110116, max_delta_step=11, max_depth=23, min_child_weight=0, n_estimators=65, reg_alpha=1.0821062666657082e-08, reg_lambda=1000.0, scale_pos_weight=0.015421024331061963, subsample=0.9181940485352039 \n",
      "[CV]  colsample_bylevel=0.3372881943181022, colsample_bytree=0.9020659538756337, gamma=0.005591115226138011, learning_rate=0.18766740472110116, max_delta_step=11, max_depth=23, min_child_weight=0, n_estimators=65, reg_alpha=1.0821062666657082e-08, reg_lambda=1000.0, scale_pos_weight=0.015421024331061963, subsample=0.9181940485352039, score=0.565, total=   4.3s\n",
      "[CV] colsample_bylevel=0.3372881943181022, colsample_bytree=0.9020659538756337, gamma=0.005591115226138011, learning_rate=0.18766740472110116, max_delta_step=11, max_depth=23, min_child_weight=0, n_estimators=65, reg_alpha=1.0821062666657082e-08, reg_lambda=1000.0, scale_pos_weight=0.015421024331061963, subsample=0.9181940485352039 \n",
      "[CV]  colsample_bylevel=0.3372881943181022, colsample_bytree=0.9020659538756337, gamma=0.005591115226138011, learning_rate=0.18766740472110116, max_delta_step=11, max_depth=23, min_child_weight=0, n_estimators=65, reg_alpha=1.0821062666657082e-08, reg_lambda=1000.0, scale_pos_weight=0.015421024331061963, subsample=0.9181940485352039, score=0.565, total=   4.4s\n",
      "[CV] colsample_bylevel=0.3372881943181022, colsample_bytree=0.9020659538756337, gamma=0.005591115226138011, learning_rate=0.18766740472110116, max_delta_step=11, max_depth=23, min_child_weight=0, n_estimators=65, reg_alpha=1.0821062666657082e-08, reg_lambda=1000.0, scale_pos_weight=0.015421024331061963, subsample=0.9181940485352039 \n",
      "[CV]  colsample_bylevel=0.3372881943181022, colsample_bytree=0.9020659538756337, gamma=0.005591115226138011, learning_rate=0.18766740472110116, max_delta_step=11, max_depth=23, min_child_weight=0, n_estimators=65, reg_alpha=1.0821062666657082e-08, reg_lambda=1000.0, scale_pos_weight=0.015421024331061963, subsample=0.9181940485352039, score=0.562, total=   4.3s\n",
      "[CV] colsample_bylevel=0.3372881943181022, colsample_bytree=0.9020659538756337, gamma=0.005591115226138011, learning_rate=0.18766740472110116, max_delta_step=11, max_depth=23, min_child_weight=0, n_estimators=65, reg_alpha=1.0821062666657082e-08, reg_lambda=1000.0, scale_pos_weight=0.015421024331061963, subsample=0.9181940485352039 \n",
      "[CV]  colsample_bylevel=0.3372881943181022, colsample_bytree=0.9020659538756337, gamma=0.005591115226138011, learning_rate=0.18766740472110116, max_delta_step=11, max_depth=23, min_child_weight=0, n_estimators=65, reg_alpha=1.0821062666657082e-08, reg_lambda=1000.0, scale_pos_weight=0.015421024331061963, subsample=0.9181940485352039, score=0.563, total=   4.8s\n",
      "[CV] colsample_bylevel=0.5407289843304687, colsample_bytree=0.8824917196459526, gamma=0.49999999999999994, learning_rate=0.2953737373309051, max_delta_step=1, max_depth=15, min_child_weight=0, n_estimators=50, reg_alpha=0.0015011448239024663, reg_lambda=1000.0, scale_pos_weight=3.2209848104309557, subsample=0.17629803478141184 \n",
      "[CV]  colsample_bylevel=0.5407289843304687, colsample_bytree=0.8824917196459526, gamma=0.49999999999999994, learning_rate=0.2953737373309051, max_delta_step=1, max_depth=15, min_child_weight=0, n_estimators=50, reg_alpha=0.0015011448239024663, reg_lambda=1000.0, scale_pos_weight=3.2209848104309557, subsample=0.17629803478141184, score=0.438, total=   3.0s\n",
      "[CV] colsample_bylevel=0.5407289843304687, colsample_bytree=0.8824917196459526, gamma=0.49999999999999994, learning_rate=0.2953737373309051, max_delta_step=1, max_depth=15, min_child_weight=0, n_estimators=50, reg_alpha=0.0015011448239024663, reg_lambda=1000.0, scale_pos_weight=3.2209848104309557, subsample=0.17629803478141184 \n",
      "[CV]  colsample_bylevel=0.5407289843304687, colsample_bytree=0.8824917196459526, gamma=0.49999999999999994, learning_rate=0.2953737373309051, max_delta_step=1, max_depth=15, min_child_weight=0, n_estimators=50, reg_alpha=0.0015011448239024663, reg_lambda=1000.0, scale_pos_weight=3.2209848104309557, subsample=0.17629803478141184, score=0.441, total=   4.0s\n",
      "[CV] colsample_bylevel=0.5407289843304687, colsample_bytree=0.8824917196459526, gamma=0.49999999999999994, learning_rate=0.2953737373309051, max_delta_step=1, max_depth=15, min_child_weight=0, n_estimators=50, reg_alpha=0.0015011448239024663, reg_lambda=1000.0, scale_pos_weight=3.2209848104309557, subsample=0.17629803478141184 \n",
      "[CV]  colsample_bylevel=0.5407289843304687, colsample_bytree=0.8824917196459526, gamma=0.49999999999999994, learning_rate=0.2953737373309051, max_delta_step=1, max_depth=15, min_child_weight=0, n_estimators=50, reg_alpha=0.0015011448239024663, reg_lambda=1000.0, scale_pos_weight=3.2209848104309557, subsample=0.17629803478141184, score=0.441, total=   2.0s\n",
      "[CV] colsample_bylevel=0.5407289843304687, colsample_bytree=0.8824917196459526, gamma=0.49999999999999994, learning_rate=0.2953737373309051, max_delta_step=1, max_depth=15, min_child_weight=0, n_estimators=50, reg_alpha=0.0015011448239024663, reg_lambda=1000.0, scale_pos_weight=3.2209848104309557, subsample=0.17629803478141184 \n",
      "[CV]  colsample_bylevel=0.5407289843304687, colsample_bytree=0.8824917196459526, gamma=0.49999999999999994, learning_rate=0.2953737373309051, max_delta_step=1, max_depth=15, min_child_weight=0, n_estimators=50, reg_alpha=0.0015011448239024663, reg_lambda=1000.0, scale_pos_weight=3.2209848104309557, subsample=0.17629803478141184, score=0.441, total=   2.5s\n",
      "[CV] colsample_bylevel=0.5407289843304687, colsample_bytree=0.8824917196459526, gamma=0.49999999999999994, learning_rate=0.2953737373309051, max_delta_step=1, max_depth=15, min_child_weight=0, n_estimators=50, reg_alpha=0.0015011448239024663, reg_lambda=1000.0, scale_pos_weight=3.2209848104309557, subsample=0.17629803478141184 \n",
      "[CV]  colsample_bylevel=0.5407289843304687, colsample_bytree=0.8824917196459526, gamma=0.49999999999999994, learning_rate=0.2953737373309051, max_delta_step=1, max_depth=15, min_child_weight=0, n_estimators=50, reg_alpha=0.0015011448239024663, reg_lambda=1000.0, scale_pos_weight=3.2209848104309557, subsample=0.17629803478141184, score=0.440, total=   2.0s\n",
      "[CV] colsample_bylevel=0.22510466589404943, colsample_bytree=0.0435280217707967, gamma=2.813144708817583e-07, learning_rate=0.09925977767161884, max_delta_step=20, max_depth=50, min_child_weight=5, n_estimators=148, reg_alpha=0.07154023247995003, reg_lambda=1e-09, scale_pos_weight=123.31096942695166, subsample=0.13713215211749416 \n",
      "[CV]  colsample_bylevel=0.22510466589404943, colsample_bytree=0.0435280217707967, gamma=2.813144708817583e-07, learning_rate=0.09925977767161884, max_delta_step=20, max_depth=50, min_child_weight=5, n_estimators=148, reg_alpha=0.07154023247995003, reg_lambda=1e-09, scale_pos_weight=123.31096942695166, subsample=0.13713215211749416, score=0.521, total=   0.9s\n",
      "[CV] colsample_bylevel=0.22510466589404943, colsample_bytree=0.0435280217707967, gamma=2.813144708817583e-07, learning_rate=0.09925977767161884, max_delta_step=20, max_depth=50, min_child_weight=5, n_estimators=148, reg_alpha=0.07154023247995003, reg_lambda=1e-09, scale_pos_weight=123.31096942695166, subsample=0.13713215211749416 \n",
      "[CV]  colsample_bylevel=0.22510466589404943, colsample_bytree=0.0435280217707967, gamma=2.813144708817583e-07, learning_rate=0.09925977767161884, max_delta_step=20, max_depth=50, min_child_weight=5, n_estimators=148, reg_alpha=0.07154023247995003, reg_lambda=1e-09, scale_pos_weight=123.31096942695166, subsample=0.13713215211749416, score=0.500, total=   1.0s\n",
      "[CV] colsample_bylevel=0.22510466589404943, colsample_bytree=0.0435280217707967, gamma=2.813144708817583e-07, learning_rate=0.09925977767161884, max_delta_step=20, max_depth=50, min_child_weight=5, n_estimators=148, reg_alpha=0.07154023247995003, reg_lambda=1e-09, scale_pos_weight=123.31096942695166, subsample=0.13713215211749416 \n"
     ]
    },
    {
     "name": "stdout",
     "output_type": "stream",
     "text": [
      "[CV]  colsample_bylevel=0.22510466589404943, colsample_bytree=0.0435280217707967, gamma=2.813144708817583e-07, learning_rate=0.09925977767161884, max_delta_step=20, max_depth=50, min_child_weight=5, n_estimators=148, reg_alpha=0.07154023247995003, reg_lambda=1e-09, scale_pos_weight=123.31096942695166, subsample=0.13713215211749416, score=0.500, total=   0.9s\n",
      "[CV] colsample_bylevel=0.22510466589404943, colsample_bytree=0.0435280217707967, gamma=2.813144708817583e-07, learning_rate=0.09925977767161884, max_delta_step=20, max_depth=50, min_child_weight=5, n_estimators=148, reg_alpha=0.07154023247995003, reg_lambda=1e-09, scale_pos_weight=123.31096942695166, subsample=0.13713215211749416 \n",
      "[CV]  colsample_bylevel=0.22510466589404943, colsample_bytree=0.0435280217707967, gamma=2.813144708817583e-07, learning_rate=0.09925977767161884, max_delta_step=20, max_depth=50, min_child_weight=5, n_estimators=148, reg_alpha=0.07154023247995003, reg_lambda=1e-09, scale_pos_weight=123.31096942695166, subsample=0.13713215211749416, score=0.509, total=   0.9s\n",
      "[CV] colsample_bylevel=0.22510466589404943, colsample_bytree=0.0435280217707967, gamma=2.813144708817583e-07, learning_rate=0.09925977767161884, max_delta_step=20, max_depth=50, min_child_weight=5, n_estimators=148, reg_alpha=0.07154023247995003, reg_lambda=1e-09, scale_pos_weight=123.31096942695166, subsample=0.13713215211749416 \n",
      "[CV]  colsample_bylevel=0.22510466589404943, colsample_bytree=0.0435280217707967, gamma=2.813144708817583e-07, learning_rate=0.09925977767161884, max_delta_step=20, max_depth=50, min_child_weight=5, n_estimators=148, reg_alpha=0.07154023247995003, reg_lambda=1e-09, scale_pos_weight=123.31096942695166, subsample=0.13713215211749416, score=0.516, total=   0.9s\n",
      "[CV] colsample_bylevel=0.7724680392100192, colsample_bytree=0.17884851816473232, gamma=6.773916170502902e-05, learning_rate=0.17562936847375246, max_delta_step=16, max_depth=27, min_child_weight=1, n_estimators=100, reg_alpha=4.2196371677105455e-06, reg_lambda=1000.0, scale_pos_weight=14.896278957848294, subsample=0.8284843188224431 \n",
      "[CV]  colsample_bylevel=0.7724680392100192, colsample_bytree=0.17884851816473232, gamma=6.773916170502902e-05, learning_rate=0.17562936847375246, max_delta_step=16, max_depth=27, min_child_weight=1, n_estimators=100, reg_alpha=4.2196371677105455e-06, reg_lambda=1000.0, scale_pos_weight=14.896278957848294, subsample=0.8284843188224431, score=0.459, total=   4.0s\n",
      "[CV] colsample_bylevel=0.7724680392100192, colsample_bytree=0.17884851816473232, gamma=6.773916170502902e-05, learning_rate=0.17562936847375246, max_delta_step=16, max_depth=27, min_child_weight=1, n_estimators=100, reg_alpha=4.2196371677105455e-06, reg_lambda=1000.0, scale_pos_weight=14.896278957848294, subsample=0.8284843188224431 \n",
      "[CV]  colsample_bylevel=0.7724680392100192, colsample_bytree=0.17884851816473232, gamma=6.773916170502902e-05, learning_rate=0.17562936847375246, max_delta_step=16, max_depth=27, min_child_weight=1, n_estimators=100, reg_alpha=4.2196371677105455e-06, reg_lambda=1000.0, scale_pos_weight=14.896278957848294, subsample=0.8284843188224431, score=0.444, total=   4.0s\n",
      "[CV] colsample_bylevel=0.7724680392100192, colsample_bytree=0.17884851816473232, gamma=6.773916170502902e-05, learning_rate=0.17562936847375246, max_delta_step=16, max_depth=27, min_child_weight=1, n_estimators=100, reg_alpha=4.2196371677105455e-06, reg_lambda=1000.0, scale_pos_weight=14.896278957848294, subsample=0.8284843188224431 \n",
      "[CV]  colsample_bylevel=0.7724680392100192, colsample_bytree=0.17884851816473232, gamma=6.773916170502902e-05, learning_rate=0.17562936847375246, max_delta_step=16, max_depth=27, min_child_weight=1, n_estimators=100, reg_alpha=4.2196371677105455e-06, reg_lambda=1000.0, scale_pos_weight=14.896278957848294, subsample=0.8284843188224431, score=0.459, total=   3.6s\n",
      "[CV] colsample_bylevel=0.7724680392100192, colsample_bytree=0.17884851816473232, gamma=6.773916170502902e-05, learning_rate=0.17562936847375246, max_delta_step=16, max_depth=27, min_child_weight=1, n_estimators=100, reg_alpha=4.2196371677105455e-06, reg_lambda=1000.0, scale_pos_weight=14.896278957848294, subsample=0.8284843188224431 \n",
      "[CV]  colsample_bylevel=0.7724680392100192, colsample_bytree=0.17884851816473232, gamma=6.773916170502902e-05, learning_rate=0.17562936847375246, max_delta_step=16, max_depth=27, min_child_weight=1, n_estimators=100, reg_alpha=4.2196371677105455e-06, reg_lambda=1000.0, scale_pos_weight=14.896278957848294, subsample=0.8284843188224431, score=0.456, total=   3.6s\n",
      "[CV] colsample_bylevel=0.7724680392100192, colsample_bytree=0.17884851816473232, gamma=6.773916170502902e-05, learning_rate=0.17562936847375246, max_delta_step=16, max_depth=27, min_child_weight=1, n_estimators=100, reg_alpha=4.2196371677105455e-06, reg_lambda=1000.0, scale_pos_weight=14.896278957848294, subsample=0.8284843188224431 \n",
      "[CV]  colsample_bylevel=0.7724680392100192, colsample_bytree=0.17884851816473232, gamma=6.773916170502902e-05, learning_rate=0.17562936847375246, max_delta_step=16, max_depth=27, min_child_weight=1, n_estimators=100, reg_alpha=4.2196371677105455e-06, reg_lambda=1000.0, scale_pos_weight=14.896278957848294, subsample=0.8284843188224431, score=0.463, total=   3.7s\n",
      "[CV] colsample_bylevel=0.3396498087166875, colsample_bytree=0.429491280596164, gamma=1.6932968634274496e-09, learning_rate=0.17655297863345587, max_delta_step=13, max_depth=27, min_child_weight=1, n_estimators=128, reg_alpha=5.862802540501212e-07, reg_lambda=1000.0, scale_pos_weight=0.0001431306190359033, subsample=0.8574914501123693 \n",
      "[CV]  colsample_bylevel=0.3396498087166875, colsample_bytree=0.429491280596164, gamma=1.6932968634274496e-09, learning_rate=0.17655297863345587, max_delta_step=13, max_depth=27, min_child_weight=1, n_estimators=128, reg_alpha=5.862802540501212e-07, reg_lambda=1000.0, scale_pos_weight=0.0001431306190359033, subsample=0.8574914501123693, score=0.565, total=   0.9s\n",
      "[CV] colsample_bylevel=0.3396498087166875, colsample_bytree=0.429491280596164, gamma=1.6932968634274496e-09, learning_rate=0.17655297863345587, max_delta_step=13, max_depth=27, min_child_weight=1, n_estimators=128, reg_alpha=5.862802540501212e-07, reg_lambda=1000.0, scale_pos_weight=0.0001431306190359033, subsample=0.8574914501123693 \n",
      "[CV]  colsample_bylevel=0.3396498087166875, colsample_bytree=0.429491280596164, gamma=1.6932968634274496e-09, learning_rate=0.17655297863345587, max_delta_step=13, max_depth=27, min_child_weight=1, n_estimators=128, reg_alpha=5.862802540501212e-07, reg_lambda=1000.0, scale_pos_weight=0.0001431306190359033, subsample=0.8574914501123693, score=0.565, total=   0.9s\n",
      "[CV] colsample_bylevel=0.3396498087166875, colsample_bytree=0.429491280596164, gamma=1.6932968634274496e-09, learning_rate=0.17655297863345587, max_delta_step=13, max_depth=27, min_child_weight=1, n_estimators=128, reg_alpha=5.862802540501212e-07, reg_lambda=1000.0, scale_pos_weight=0.0001431306190359033, subsample=0.8574914501123693 \n",
      "[CV]  colsample_bylevel=0.3396498087166875, colsample_bytree=0.429491280596164, gamma=1.6932968634274496e-09, learning_rate=0.17655297863345587, max_delta_step=13, max_depth=27, min_child_weight=1, n_estimators=128, reg_alpha=5.862802540501212e-07, reg_lambda=1000.0, scale_pos_weight=0.0001431306190359033, subsample=0.8574914501123693, score=0.565, total=   0.9s\n",
      "[CV] colsample_bylevel=0.3396498087166875, colsample_bytree=0.429491280596164, gamma=1.6932968634274496e-09, learning_rate=0.17655297863345587, max_delta_step=13, max_depth=27, min_child_weight=1, n_estimators=128, reg_alpha=5.862802540501212e-07, reg_lambda=1000.0, scale_pos_weight=0.0001431306190359033, subsample=0.8574914501123693 \n",
      "[CV]  colsample_bylevel=0.3396498087166875, colsample_bytree=0.429491280596164, gamma=1.6932968634274496e-09, learning_rate=0.17655297863345587, max_delta_step=13, max_depth=27, min_child_weight=1, n_estimators=128, reg_alpha=5.862802540501212e-07, reg_lambda=1000.0, scale_pos_weight=0.0001431306190359033, subsample=0.8574914501123693, score=0.565, total=   0.9s\n",
      "[CV] colsample_bylevel=0.3396498087166875, colsample_bytree=0.429491280596164, gamma=1.6932968634274496e-09, learning_rate=0.17655297863345587, max_delta_step=13, max_depth=27, min_child_weight=1, n_estimators=128, reg_alpha=5.862802540501212e-07, reg_lambda=1000.0, scale_pos_weight=0.0001431306190359033, subsample=0.8574914501123693 \n"
     ]
    },
    {
     "name": "stdout",
     "output_type": "stream",
     "text": [
      "[CV]  colsample_bylevel=0.3396498087166875, colsample_bytree=0.429491280596164, gamma=1.6932968634274496e-09, learning_rate=0.17655297863345587, max_delta_step=13, max_depth=27, min_child_weight=1, n_estimators=128, reg_alpha=5.862802540501212e-07, reg_lambda=1000.0, scale_pos_weight=0.0001431306190359033, subsample=0.8574914501123693, score=0.563, total=   0.9s\n",
      "[CV] colsample_bylevel=0.01, colsample_bytree=0.013726512332887235, gamma=0.49999999999999994, learning_rate=0.051148340269736366, max_delta_step=20, max_depth=0, min_child_weight=5, n_estimators=50, reg_alpha=0.0022700606600440354, reg_lambda=1e-09, scale_pos_weight=0.0036240381207989867, subsample=0.0554821792614895 \n",
      "[CV]  colsample_bylevel=0.01, colsample_bytree=0.013726512332887235, gamma=0.49999999999999994, learning_rate=0.051148340269736366, max_delta_step=20, max_depth=0, min_child_weight=5, n_estimators=50, reg_alpha=0.0022700606600440354, reg_lambda=1e-09, scale_pos_weight=0.0036240381207989867, subsample=0.0554821792614895, score=0.565, total=   0.5s\n",
      "[CV] colsample_bylevel=0.01, colsample_bytree=0.013726512332887235, gamma=0.49999999999999994, learning_rate=0.051148340269736366, max_delta_step=20, max_depth=0, min_child_weight=5, n_estimators=50, reg_alpha=0.0022700606600440354, reg_lambda=1e-09, scale_pos_weight=0.0036240381207989867, subsample=0.0554821792614895 \n",
      "[CV]  colsample_bylevel=0.01, colsample_bytree=0.013726512332887235, gamma=0.49999999999999994, learning_rate=0.051148340269736366, max_delta_step=20, max_depth=0, min_child_weight=5, n_estimators=50, reg_alpha=0.0022700606600440354, reg_lambda=1e-09, scale_pos_weight=0.0036240381207989867, subsample=0.0554821792614895, score=0.565, total=   0.5s\n",
      "[CV] colsample_bylevel=0.01, colsample_bytree=0.013726512332887235, gamma=0.49999999999999994, learning_rate=0.051148340269736366, max_delta_step=20, max_depth=0, min_child_weight=5, n_estimators=50, reg_alpha=0.0022700606600440354, reg_lambda=1e-09, scale_pos_weight=0.0036240381207989867, subsample=0.0554821792614895 \n",
      "[CV]  colsample_bylevel=0.01, colsample_bytree=0.013726512332887235, gamma=0.49999999999999994, learning_rate=0.051148340269736366, max_delta_step=20, max_depth=0, min_child_weight=5, n_estimators=50, reg_alpha=0.0022700606600440354, reg_lambda=1e-09, scale_pos_weight=0.0036240381207989867, subsample=0.0554821792614895, score=0.565, total=   0.5s\n",
      "[CV] colsample_bylevel=0.01, colsample_bytree=0.013726512332887235, gamma=0.49999999999999994, learning_rate=0.051148340269736366, max_delta_step=20, max_depth=0, min_child_weight=5, n_estimators=50, reg_alpha=0.0022700606600440354, reg_lambda=1e-09, scale_pos_weight=0.0036240381207989867, subsample=0.0554821792614895 \n",
      "[CV]  colsample_bylevel=0.01, colsample_bytree=0.013726512332887235, gamma=0.49999999999999994, learning_rate=0.051148340269736366, max_delta_step=20, max_depth=0, min_child_weight=5, n_estimators=50, reg_alpha=0.0022700606600440354, reg_lambda=1e-09, scale_pos_weight=0.0036240381207989867, subsample=0.0554821792614895, score=0.565, total=   0.5s\n",
      "[CV] colsample_bylevel=0.01, colsample_bytree=0.013726512332887235, gamma=0.49999999999999994, learning_rate=0.051148340269736366, max_delta_step=20, max_depth=0, min_child_weight=5, n_estimators=50, reg_alpha=0.0022700606600440354, reg_lambda=1e-09, scale_pos_weight=0.0036240381207989867, subsample=0.0554821792614895 \n",
      "[CV]  colsample_bylevel=0.01, colsample_bytree=0.013726512332887235, gamma=0.49999999999999994, learning_rate=0.051148340269736366, max_delta_step=20, max_depth=0, min_child_weight=5, n_estimators=50, reg_alpha=0.0022700606600440354, reg_lambda=1e-09, scale_pos_weight=0.0036240381207989867, subsample=0.0554821792614895, score=0.563, total=   0.5s\n",
      "[CV] colsample_bylevel=0.6061412982611987, colsample_bytree=0.08762356418273222, gamma=0.46672383361040887, learning_rate=0.060199508021298864, max_delta_step=0, max_depth=32, min_child_weight=5, n_estimators=146, reg_alpha=0.05459901109474516, reg_lambda=1e-09, scale_pos_weight=0.0015932674857602972, subsample=0.04668220650771938 \n",
      "[CV]  colsample_bylevel=0.6061412982611987, colsample_bytree=0.08762356418273222, gamma=0.46672383361040887, learning_rate=0.060199508021298864, max_delta_step=0, max_depth=32, min_child_weight=5, n_estimators=146, reg_alpha=0.05459901109474516, reg_lambda=1e-09, scale_pos_weight=0.0015932674857602972, subsample=0.04668220650771938, score=0.565, total=   0.9s\n",
      "[CV] colsample_bylevel=0.6061412982611987, colsample_bytree=0.08762356418273222, gamma=0.46672383361040887, learning_rate=0.060199508021298864, max_delta_step=0, max_depth=32, min_child_weight=5, n_estimators=146, reg_alpha=0.05459901109474516, reg_lambda=1e-09, scale_pos_weight=0.0015932674857602972, subsample=0.04668220650771938 \n",
      "[CV]  colsample_bylevel=0.6061412982611987, colsample_bytree=0.08762356418273222, gamma=0.46672383361040887, learning_rate=0.060199508021298864, max_delta_step=0, max_depth=32, min_child_weight=5, n_estimators=146, reg_alpha=0.05459901109474516, reg_lambda=1e-09, scale_pos_weight=0.0015932674857602972, subsample=0.04668220650771938, score=0.565, total=   0.8s\n",
      "[CV] colsample_bylevel=0.6061412982611987, colsample_bytree=0.08762356418273222, gamma=0.46672383361040887, learning_rate=0.060199508021298864, max_delta_step=0, max_depth=32, min_child_weight=5, n_estimators=146, reg_alpha=0.05459901109474516, reg_lambda=1e-09, scale_pos_weight=0.0015932674857602972, subsample=0.04668220650771938 \n",
      "[CV]  colsample_bylevel=0.6061412982611987, colsample_bytree=0.08762356418273222, gamma=0.46672383361040887, learning_rate=0.060199508021298864, max_delta_step=0, max_depth=32, min_child_weight=5, n_estimators=146, reg_alpha=0.05459901109474516, reg_lambda=1e-09, scale_pos_weight=0.0015932674857602972, subsample=0.04668220650771938, score=0.565, total=   0.8s\n",
      "[CV] colsample_bylevel=0.6061412982611987, colsample_bytree=0.08762356418273222, gamma=0.46672383361040887, learning_rate=0.060199508021298864, max_delta_step=0, max_depth=32, min_child_weight=5, n_estimators=146, reg_alpha=0.05459901109474516, reg_lambda=1e-09, scale_pos_weight=0.0015932674857602972, subsample=0.04668220650771938 \n",
      "[CV]  colsample_bylevel=0.6061412982611987, colsample_bytree=0.08762356418273222, gamma=0.46672383361040887, learning_rate=0.060199508021298864, max_delta_step=0, max_depth=32, min_child_weight=5, n_estimators=146, reg_alpha=0.05459901109474516, reg_lambda=1e-09, scale_pos_weight=0.0015932674857602972, subsample=0.04668220650771938, score=0.565, total=   0.9s\n",
      "[CV] colsample_bylevel=0.6061412982611987, colsample_bytree=0.08762356418273222, gamma=0.46672383361040887, learning_rate=0.060199508021298864, max_delta_step=0, max_depth=32, min_child_weight=5, n_estimators=146, reg_alpha=0.05459901109474516, reg_lambda=1e-09, scale_pos_weight=0.0015932674857602972, subsample=0.04668220650771938 \n",
      "[CV]  colsample_bylevel=0.6061412982611987, colsample_bytree=0.08762356418273222, gamma=0.46672383361040887, learning_rate=0.060199508021298864, max_delta_step=0, max_depth=32, min_child_weight=5, n_estimators=146, reg_alpha=0.05459901109474516, reg_lambda=1e-09, scale_pos_weight=0.0015932674857602972, subsample=0.04668220650771938, score=0.563, total=   0.8s\n",
      "[CV] colsample_bylevel=0.8688725613437905, colsample_bytree=0.5240675586314952, gamma=0.001341686452460499, learning_rate=0.17300371546048884, max_delta_step=11, max_depth=28, min_child_weight=1, n_estimators=190, reg_alpha=0.005707249118748518, reg_lambda=1000.0, scale_pos_weight=0.025443698817757696, subsample=0.7693347192104096 \n",
      "[CV]  colsample_bylevel=0.8688725613437905, colsample_bytree=0.5240675586314952, gamma=0.001341686452460499, learning_rate=0.17300371546048884, max_delta_step=11, max_depth=28, min_child_weight=1, n_estimators=190, reg_alpha=0.005707249118748518, reg_lambda=1000.0, scale_pos_weight=0.025443698817757696, subsample=0.7693347192104096, score=0.565, total=   1.6s\n",
      "[CV] colsample_bylevel=0.8688725613437905, colsample_bytree=0.5240675586314952, gamma=0.001341686452460499, learning_rate=0.17300371546048884, max_delta_step=11, max_depth=28, min_child_weight=1, n_estimators=190, reg_alpha=0.005707249118748518, reg_lambda=1000.0, scale_pos_weight=0.025443698817757696, subsample=0.7693347192104096 \n"
     ]
    },
    {
     "name": "stdout",
     "output_type": "stream",
     "text": [
      "[CV]  colsample_bylevel=0.8688725613437905, colsample_bytree=0.5240675586314952, gamma=0.001341686452460499, learning_rate=0.17300371546048884, max_delta_step=11, max_depth=28, min_child_weight=1, n_estimators=190, reg_alpha=0.005707249118748518, reg_lambda=1000.0, scale_pos_weight=0.025443698817757696, subsample=0.7693347192104096, score=0.565, total=   1.6s\n",
      "[CV] colsample_bylevel=0.8688725613437905, colsample_bytree=0.5240675586314952, gamma=0.001341686452460499, learning_rate=0.17300371546048884, max_delta_step=11, max_depth=28, min_child_weight=1, n_estimators=190, reg_alpha=0.005707249118748518, reg_lambda=1000.0, scale_pos_weight=0.025443698817757696, subsample=0.7693347192104096 \n",
      "[CV]  colsample_bylevel=0.8688725613437905, colsample_bytree=0.5240675586314952, gamma=0.001341686452460499, learning_rate=0.17300371546048884, max_delta_step=11, max_depth=28, min_child_weight=1, n_estimators=190, reg_alpha=0.005707249118748518, reg_lambda=1000.0, scale_pos_weight=0.025443698817757696, subsample=0.7693347192104096, score=0.565, total=   1.6s\n",
      "[CV] colsample_bylevel=0.8688725613437905, colsample_bytree=0.5240675586314952, gamma=0.001341686452460499, learning_rate=0.17300371546048884, max_delta_step=11, max_depth=28, min_child_weight=1, n_estimators=190, reg_alpha=0.005707249118748518, reg_lambda=1000.0, scale_pos_weight=0.025443698817757696, subsample=0.7693347192104096 \n",
      "[CV]  colsample_bylevel=0.8688725613437905, colsample_bytree=0.5240675586314952, gamma=0.001341686452460499, learning_rate=0.17300371546048884, max_delta_step=11, max_depth=28, min_child_weight=1, n_estimators=190, reg_alpha=0.005707249118748518, reg_lambda=1000.0, scale_pos_weight=0.025443698817757696, subsample=0.7693347192104096, score=0.565, total=   1.6s\n",
      "[CV] colsample_bylevel=0.8688725613437905, colsample_bytree=0.5240675586314952, gamma=0.001341686452460499, learning_rate=0.17300371546048884, max_delta_step=11, max_depth=28, min_child_weight=1, n_estimators=190, reg_alpha=0.005707249118748518, reg_lambda=1000.0, scale_pos_weight=0.025443698817757696, subsample=0.7693347192104096 \n",
      "[CV]  colsample_bylevel=0.8688725613437905, colsample_bytree=0.5240675586314952, gamma=0.001341686452460499, learning_rate=0.17300371546048884, max_delta_step=11, max_depth=28, min_child_weight=1, n_estimators=190, reg_alpha=0.005707249118748518, reg_lambda=1000.0, scale_pos_weight=0.025443698817757696, subsample=0.7693347192104096, score=0.563, total=   1.6s\n",
      "[CV] colsample_bylevel=0.9156616802180907, colsample_bytree=0.22305569072452242, gamma=0.49999999999999994, learning_rate=0.01, max_delta_step=20, max_depth=50, min_child_weight=1, n_estimators=50, reg_alpha=0.0005553295799668965, reg_lambda=1000.0, scale_pos_weight=19.75180520709412, subsample=1.0 \n",
      "[CV]  colsample_bylevel=0.9156616802180907, colsample_bytree=0.22305569072452242, gamma=0.49999999999999994, learning_rate=0.01, max_delta_step=20, max_depth=50, min_child_weight=1, n_estimators=50, reg_alpha=0.0005553295799668965, reg_lambda=1000.0, scale_pos_weight=19.75180520709412, subsample=1.0, score=0.435, total=   2.9s\n",
      "[CV] colsample_bylevel=0.9156616802180907, colsample_bytree=0.22305569072452242, gamma=0.49999999999999994, learning_rate=0.01, max_delta_step=20, max_depth=50, min_child_weight=1, n_estimators=50, reg_alpha=0.0005553295799668965, reg_lambda=1000.0, scale_pos_weight=19.75180520709412, subsample=1.0 \n",
      "[CV]  colsample_bylevel=0.9156616802180907, colsample_bytree=0.22305569072452242, gamma=0.49999999999999994, learning_rate=0.01, max_delta_step=20, max_depth=50, min_child_weight=1, n_estimators=50, reg_alpha=0.0005553295799668965, reg_lambda=1000.0, scale_pos_weight=19.75180520709412, subsample=1.0, score=0.435, total=   2.8s\n",
      "[CV] colsample_bylevel=0.9156616802180907, colsample_bytree=0.22305569072452242, gamma=0.49999999999999994, learning_rate=0.01, max_delta_step=20, max_depth=50, min_child_weight=1, n_estimators=50, reg_alpha=0.0005553295799668965, reg_lambda=1000.0, scale_pos_weight=19.75180520709412, subsample=1.0 \n",
      "[CV]  colsample_bylevel=0.9156616802180907, colsample_bytree=0.22305569072452242, gamma=0.49999999999999994, learning_rate=0.01, max_delta_step=20, max_depth=50, min_child_weight=1, n_estimators=50, reg_alpha=0.0005553295799668965, reg_lambda=1000.0, scale_pos_weight=19.75180520709412, subsample=1.0, score=0.435, total=   6.0s\n",
      "[CV] colsample_bylevel=0.9156616802180907, colsample_bytree=0.22305569072452242, gamma=0.49999999999999994, learning_rate=0.01, max_delta_step=20, max_depth=50, min_child_weight=1, n_estimators=50, reg_alpha=0.0005553295799668965, reg_lambda=1000.0, scale_pos_weight=19.75180520709412, subsample=1.0 \n",
      "[CV]  colsample_bylevel=0.9156616802180907, colsample_bytree=0.22305569072452242, gamma=0.49999999999999994, learning_rate=0.01, max_delta_step=20, max_depth=50, min_child_weight=1, n_estimators=50, reg_alpha=0.0005553295799668965, reg_lambda=1000.0, scale_pos_weight=19.75180520709412, subsample=1.0, score=0.441, total=   4.6s\n",
      "[CV] colsample_bylevel=0.9156616802180907, colsample_bytree=0.22305569072452242, gamma=0.49999999999999994, learning_rate=0.01, max_delta_step=20, max_depth=50, min_child_weight=1, n_estimators=50, reg_alpha=0.0005553295799668965, reg_lambda=1000.0, scale_pos_weight=19.75180520709412, subsample=1.0 \n",
      "[CV]  colsample_bylevel=0.9156616802180907, colsample_bytree=0.22305569072452242, gamma=0.49999999999999994, learning_rate=0.01, max_delta_step=20, max_depth=50, min_child_weight=1, n_estimators=50, reg_alpha=0.0005553295799668965, reg_lambda=1000.0, scale_pos_weight=19.75180520709412, subsample=1.0, score=0.437, total=   6.1s\n"
     ]
    },
    {
     "name": "stderr",
     "output_type": "stream",
     "text": [
      "[Parallel(n_jobs=1)]: Done  60 out of  60 | elapsed:  2.8min finished\n"
     ]
    },
    {
     "name": "stdout",
     "output_type": "stream",
     "text": [
      "best score: 0.6527369040612124\n",
      "Fitting 5 folds for each of 12 candidates, totalling 60 fits\n",
      "[CV] colsample_bylevel=0.20916526369371116, colsample_bytree=0.955932210939831, gamma=1.611995697918226e-06, learning_rate=0.01, max_delta_step=14, max_depth=50, min_child_weight=0, n_estimators=163, reg_alpha=1e-09, reg_lambda=0.00021725094762803615, scale_pos_weight=0.32953720263425923, subsample=1.0 \n"
     ]
    },
    {
     "name": "stderr",
     "output_type": "stream",
     "text": [
      "[Parallel(n_jobs=1)]: Using backend SequentialBackend with 1 concurrent workers.\n",
      "/home/chris/anaconda3/lib/python3.8/site-packages/sklearn/preprocessing/_label.py:235: DataConversionWarning: A column-vector y was passed when a 1d array was expected. Please change the shape of y to (n_samples, ), for example using ravel().\n",
      "  y = column_or_1d(y, warn=True)\n",
      "/home/chris/anaconda3/lib/python3.8/site-packages/sklearn/preprocessing/_label.py:268: DataConversionWarning: A column-vector y was passed when a 1d array was expected. Please change the shape of y to (n_samples, ), for example using ravel().\n",
      "  y = column_or_1d(y, warn=True)\n"
     ]
    },
    {
     "name": "stdout",
     "output_type": "stream",
     "text": [
      "[CV]  colsample_bylevel=0.20916526369371116, colsample_bytree=0.955932210939831, gamma=1.611995697918226e-06, learning_rate=0.01, max_delta_step=14, max_depth=50, min_child_weight=0, n_estimators=163, reg_alpha=1e-09, reg_lambda=0.00021725094762803615, scale_pos_weight=0.32953720263425923, subsample=1.0, score=0.712, total=  15.8s\n",
      "[CV] colsample_bylevel=0.20916526369371116, colsample_bytree=0.955932210939831, gamma=1.611995697918226e-06, learning_rate=0.01, max_delta_step=14, max_depth=50, min_child_weight=0, n_estimators=163, reg_alpha=1e-09, reg_lambda=0.00021725094762803615, scale_pos_weight=0.32953720263425923, subsample=1.0 \n"
     ]
    },
    {
     "name": "stderr",
     "output_type": "stream",
     "text": [
      "[Parallel(n_jobs=1)]: Done   1 out of   1 | elapsed:   15.8s remaining:    0.0s\n"
     ]
    },
    {
     "name": "stdout",
     "output_type": "stream",
     "text": [
      "[CV]  colsample_bylevel=0.20916526369371116, colsample_bytree=0.955932210939831, gamma=1.611995697918226e-06, learning_rate=0.01, max_delta_step=14, max_depth=50, min_child_weight=0, n_estimators=163, reg_alpha=1e-09, reg_lambda=0.00021725094762803615, scale_pos_weight=0.32953720263425923, subsample=1.0, score=0.641, total=  15.5s\n",
      "[CV] colsample_bylevel=0.20916526369371116, colsample_bytree=0.955932210939831, gamma=1.611995697918226e-06, learning_rate=0.01, max_delta_step=14, max_depth=50, min_child_weight=0, n_estimators=163, reg_alpha=1e-09, reg_lambda=0.00021725094762803615, scale_pos_weight=0.32953720263425923, subsample=1.0 \n"
     ]
    },
    {
     "name": "stderr",
     "output_type": "stream",
     "text": [
      "[Parallel(n_jobs=1)]: Done   2 out of   2 | elapsed:   31.3s remaining:    0.0s\n"
     ]
    },
    {
     "name": "stdout",
     "output_type": "stream",
     "text": [
      "[CV]  colsample_bylevel=0.20916526369371116, colsample_bytree=0.955932210939831, gamma=1.611995697918226e-06, learning_rate=0.01, max_delta_step=14, max_depth=50, min_child_weight=0, n_estimators=163, reg_alpha=1e-09, reg_lambda=0.00021725094762803615, scale_pos_weight=0.32953720263425923, subsample=1.0, score=0.635, total=  15.9s\n",
      "[CV] colsample_bylevel=0.20916526369371116, colsample_bytree=0.955932210939831, gamma=1.611995697918226e-06, learning_rate=0.01, max_delta_step=14, max_depth=50, min_child_weight=0, n_estimators=163, reg_alpha=1e-09, reg_lambda=0.00021725094762803615, scale_pos_weight=0.32953720263425923, subsample=1.0 \n",
      "[CV]  colsample_bylevel=0.20916526369371116, colsample_bytree=0.955932210939831, gamma=1.611995697918226e-06, learning_rate=0.01, max_delta_step=14, max_depth=50, min_child_weight=0, n_estimators=163, reg_alpha=1e-09, reg_lambda=0.00021725094762803615, scale_pos_weight=0.32953720263425923, subsample=1.0, score=0.656, total=  18.5s\n",
      "[CV] colsample_bylevel=0.20916526369371116, colsample_bytree=0.955932210939831, gamma=1.611995697918226e-06, learning_rate=0.01, max_delta_step=14, max_depth=50, min_child_weight=0, n_estimators=163, reg_alpha=1e-09, reg_lambda=0.00021725094762803615, scale_pos_weight=0.32953720263425923, subsample=1.0 \n",
      "[CV]  colsample_bylevel=0.20916526369371116, colsample_bytree=0.955932210939831, gamma=1.611995697918226e-06, learning_rate=0.01, max_delta_step=14, max_depth=50, min_child_weight=0, n_estimators=163, reg_alpha=1e-09, reg_lambda=0.00021725094762803615, scale_pos_weight=0.32953720263425923, subsample=1.0, score=0.658, total=  17.1s\n",
      "[CV] colsample_bylevel=0.01, colsample_bytree=0.8050624718833096, gamma=1.2899343440467672e-06, learning_rate=0.38022050927053924, max_delta_step=10, max_depth=14, min_child_weight=0, n_estimators=50, reg_alpha=6.0172607466239345e-05, reg_lambda=1e-09, scale_pos_weight=0.2669952026098079, subsample=1.0 \n",
      "[CV]  colsample_bylevel=0.01, colsample_bytree=0.8050624718833096, gamma=1.2899343440467672e-06, learning_rate=0.38022050927053924, max_delta_step=10, max_depth=14, min_child_weight=0, n_estimators=50, reg_alpha=6.0172607466239345e-05, reg_lambda=1e-09, scale_pos_weight=0.2669952026098079, subsample=1.0, score=0.629, total=   0.9s\n",
      "[CV] colsample_bylevel=0.01, colsample_bytree=0.8050624718833096, gamma=1.2899343440467672e-06, learning_rate=0.38022050927053924, max_delta_step=10, max_depth=14, min_child_weight=0, n_estimators=50, reg_alpha=6.0172607466239345e-05, reg_lambda=1e-09, scale_pos_weight=0.2669952026098079, subsample=1.0 \n",
      "[CV]  colsample_bylevel=0.01, colsample_bytree=0.8050624718833096, gamma=1.2899343440467672e-06, learning_rate=0.38022050927053924, max_delta_step=10, max_depth=14, min_child_weight=0, n_estimators=50, reg_alpha=6.0172607466239345e-05, reg_lambda=1e-09, scale_pos_weight=0.2669952026098079, subsample=1.0, score=0.644, total=   0.9s\n",
      "[CV] colsample_bylevel=0.01, colsample_bytree=0.8050624718833096, gamma=1.2899343440467672e-06, learning_rate=0.38022050927053924, max_delta_step=10, max_depth=14, min_child_weight=0, n_estimators=50, reg_alpha=6.0172607466239345e-05, reg_lambda=1e-09, scale_pos_weight=0.2669952026098079, subsample=1.0 \n",
      "[CV]  colsample_bylevel=0.01, colsample_bytree=0.8050624718833096, gamma=1.2899343440467672e-06, learning_rate=0.38022050927053924, max_delta_step=10, max_depth=14, min_child_weight=0, n_estimators=50, reg_alpha=6.0172607466239345e-05, reg_lambda=1e-09, scale_pos_weight=0.2669952026098079, subsample=1.0, score=0.632, total=   0.9s\n",
      "[CV] colsample_bylevel=0.01, colsample_bytree=0.8050624718833096, gamma=1.2899343440467672e-06, learning_rate=0.38022050927053924, max_delta_step=10, max_depth=14, min_child_weight=0, n_estimators=50, reg_alpha=6.0172607466239345e-05, reg_lambda=1e-09, scale_pos_weight=0.2669952026098079, subsample=1.0 \n",
      "[CV]  colsample_bylevel=0.01, colsample_bytree=0.8050624718833096, gamma=1.2899343440467672e-06, learning_rate=0.38022050927053924, max_delta_step=10, max_depth=14, min_child_weight=0, n_estimators=50, reg_alpha=6.0172607466239345e-05, reg_lambda=1e-09, scale_pos_weight=0.2669952026098079, subsample=1.0, score=0.621, total=   0.9s\n",
      "[CV] colsample_bylevel=0.01, colsample_bytree=0.8050624718833096, gamma=1.2899343440467672e-06, learning_rate=0.38022050927053924, max_delta_step=10, max_depth=14, min_child_weight=0, n_estimators=50, reg_alpha=6.0172607466239345e-05, reg_lambda=1e-09, scale_pos_weight=0.2669952026098079, subsample=1.0 \n",
      "[CV]  colsample_bylevel=0.01, colsample_bytree=0.8050624718833096, gamma=1.2899343440467672e-06, learning_rate=0.38022050927053924, max_delta_step=10, max_depth=14, min_child_weight=0, n_estimators=50, reg_alpha=6.0172607466239345e-05, reg_lambda=1e-09, scale_pos_weight=0.2669952026098079, subsample=1.0, score=0.676, total=   0.9s\n",
      "[CV] colsample_bylevel=0.1432417678394723, colsample_bytree=0.8010190397454283, gamma=8.031562425490984e-07, learning_rate=0.20633316274217212, max_delta_step=11, max_depth=42, min_child_weight=0, n_estimators=63, reg_alpha=3.3003680051388786e-09, reg_lambda=3.241963136702623e-05, scale_pos_weight=0.238793088757069, subsample=1.0 \n",
      "[CV]  colsample_bylevel=0.1432417678394723, colsample_bytree=0.8010190397454283, gamma=8.031562425490984e-07, learning_rate=0.20633316274217212, max_delta_step=11, max_depth=42, min_child_weight=0, n_estimators=63, reg_alpha=3.3003680051388786e-09, reg_lambda=3.241963136702623e-05, scale_pos_weight=0.238793088757069, subsample=1.0, score=0.668, total=   3.8s\n",
      "[CV] colsample_bylevel=0.1432417678394723, colsample_bytree=0.8010190397454283, gamma=8.031562425490984e-07, learning_rate=0.20633316274217212, max_delta_step=11, max_depth=42, min_child_weight=0, n_estimators=63, reg_alpha=3.3003680051388786e-09, reg_lambda=3.241963136702623e-05, scale_pos_weight=0.238793088757069, subsample=1.0 \n",
      "[CV]  colsample_bylevel=0.1432417678394723, colsample_bytree=0.8010190397454283, gamma=8.031562425490984e-07, learning_rate=0.20633316274217212, max_delta_step=11, max_depth=42, min_child_weight=0, n_estimators=63, reg_alpha=3.3003680051388786e-09, reg_lambda=3.241963136702623e-05, scale_pos_weight=0.238793088757069, subsample=1.0, score=0.635, total=   3.9s\n",
      "[CV] colsample_bylevel=0.1432417678394723, colsample_bytree=0.8010190397454283, gamma=8.031562425490984e-07, learning_rate=0.20633316274217212, max_delta_step=11, max_depth=42, min_child_weight=0, n_estimators=63, reg_alpha=3.3003680051388786e-09, reg_lambda=3.241963136702623e-05, scale_pos_weight=0.238793088757069, subsample=1.0 \n",
      "[CV]  colsample_bylevel=0.1432417678394723, colsample_bytree=0.8010190397454283, gamma=8.031562425490984e-07, learning_rate=0.20633316274217212, max_delta_step=11, max_depth=42, min_child_weight=0, n_estimators=63, reg_alpha=3.3003680051388786e-09, reg_lambda=3.241963136702623e-05, scale_pos_weight=0.238793088757069, subsample=1.0, score=0.632, total=   4.0s\n",
      "[CV] colsample_bylevel=0.1432417678394723, colsample_bytree=0.8010190397454283, gamma=8.031562425490984e-07, learning_rate=0.20633316274217212, max_delta_step=11, max_depth=42, min_child_weight=0, n_estimators=63, reg_alpha=3.3003680051388786e-09, reg_lambda=3.241963136702623e-05, scale_pos_weight=0.238793088757069, subsample=1.0 \n",
      "[CV]  colsample_bylevel=0.1432417678394723, colsample_bytree=0.8010190397454283, gamma=8.031562425490984e-07, learning_rate=0.20633316274217212, max_delta_step=11, max_depth=42, min_child_weight=0, n_estimators=63, reg_alpha=3.3003680051388786e-09, reg_lambda=3.241963136702623e-05, scale_pos_weight=0.238793088757069, subsample=1.0, score=0.656, total=   3.8s\n",
      "[CV] colsample_bylevel=0.1432417678394723, colsample_bytree=0.8010190397454283, gamma=8.031562425490984e-07, learning_rate=0.20633316274217212, max_delta_step=11, max_depth=42, min_child_weight=0, n_estimators=63, reg_alpha=3.3003680051388786e-09, reg_lambda=3.241963136702623e-05, scale_pos_weight=0.238793088757069, subsample=1.0 \n",
      "[CV]  colsample_bylevel=0.1432417678394723, colsample_bytree=0.8010190397454283, gamma=8.031562425490984e-07, learning_rate=0.20633316274217212, max_delta_step=11, max_depth=42, min_child_weight=0, n_estimators=63, reg_alpha=3.3003680051388786e-09, reg_lambda=3.241963136702623e-05, scale_pos_weight=0.238793088757069, subsample=1.0, score=0.646, total=   3.8s\n",
      "[CV] colsample_bylevel=0.01, colsample_bytree=0.994344993709707, gamma=4.556124179370406e-07, learning_rate=0.01573567868090437, max_delta_step=12, max_depth=23, min_child_weight=1, n_estimators=148, reg_alpha=0.00036254885873238763, reg_lambda=1e-09, scale_pos_weight=0.5480007511637517, subsample=0.9386564022582516 \n"
     ]
    },
    {
     "name": "stdout",
     "output_type": "stream",
     "text": [
      "[CV]  colsample_bylevel=0.01, colsample_bytree=0.994344993709707, gamma=4.556124179370406e-07, learning_rate=0.01573567868090437, max_delta_step=12, max_depth=23, min_child_weight=1, n_estimators=148, reg_alpha=0.00036254885873238763, reg_lambda=1e-09, scale_pos_weight=0.5480007511637517, subsample=0.9386564022582516, score=0.653, total=   1.9s\n",
      "[CV] colsample_bylevel=0.01, colsample_bytree=0.994344993709707, gamma=4.556124179370406e-07, learning_rate=0.01573567868090437, max_delta_step=12, max_depth=23, min_child_weight=1, n_estimators=148, reg_alpha=0.00036254885873238763, reg_lambda=1e-09, scale_pos_weight=0.5480007511637517, subsample=0.9386564022582516 \n",
      "[CV]  colsample_bylevel=0.01, colsample_bytree=0.994344993709707, gamma=4.556124179370406e-07, learning_rate=0.01573567868090437, max_delta_step=12, max_depth=23, min_child_weight=1, n_estimators=148, reg_alpha=0.00036254885873238763, reg_lambda=1e-09, scale_pos_weight=0.5480007511637517, subsample=0.9386564022582516, score=0.682, total=   2.0s\n",
      "[CV] colsample_bylevel=0.01, colsample_bytree=0.994344993709707, gamma=4.556124179370406e-07, learning_rate=0.01573567868090437, max_delta_step=12, max_depth=23, min_child_weight=1, n_estimators=148, reg_alpha=0.00036254885873238763, reg_lambda=1e-09, scale_pos_weight=0.5480007511637517, subsample=0.9386564022582516 \n",
      "[CV]  colsample_bylevel=0.01, colsample_bytree=0.994344993709707, gamma=4.556124179370406e-07, learning_rate=0.01573567868090437, max_delta_step=12, max_depth=23, min_child_weight=1, n_estimators=148, reg_alpha=0.00036254885873238763, reg_lambda=1e-09, scale_pos_weight=0.5480007511637517, subsample=0.9386564022582516, score=0.650, total=   1.9s\n",
      "[CV] colsample_bylevel=0.01, colsample_bytree=0.994344993709707, gamma=4.556124179370406e-07, learning_rate=0.01573567868090437, max_delta_step=12, max_depth=23, min_child_weight=1, n_estimators=148, reg_alpha=0.00036254885873238763, reg_lambda=1e-09, scale_pos_weight=0.5480007511637517, subsample=0.9386564022582516 \n",
      "[CV]  colsample_bylevel=0.01, colsample_bytree=0.994344993709707, gamma=4.556124179370406e-07, learning_rate=0.01573567868090437, max_delta_step=12, max_depth=23, min_child_weight=1, n_estimators=148, reg_alpha=0.00036254885873238763, reg_lambda=1e-09, scale_pos_weight=0.5480007511637517, subsample=0.9386564022582516, score=0.659, total=   1.9s\n",
      "[CV] colsample_bylevel=0.01, colsample_bytree=0.994344993709707, gamma=4.556124179370406e-07, learning_rate=0.01573567868090437, max_delta_step=12, max_depth=23, min_child_weight=1, n_estimators=148, reg_alpha=0.00036254885873238763, reg_lambda=1e-09, scale_pos_weight=0.5480007511637517, subsample=0.9386564022582516 \n",
      "[CV]  colsample_bylevel=0.01, colsample_bytree=0.994344993709707, gamma=4.556124179370406e-07, learning_rate=0.01573567868090437, max_delta_step=12, max_depth=23, min_child_weight=1, n_estimators=148, reg_alpha=0.00036254885873238763, reg_lambda=1e-09, scale_pos_weight=0.5480007511637517, subsample=0.9386564022582516, score=0.661, total=   1.9s\n",
      "[CV] colsample_bylevel=0.4823096223143155, colsample_bytree=1.0, gamma=0.00015594973964561733, learning_rate=0.015798702111366955, max_delta_step=15, max_depth=48, min_child_weight=5, n_estimators=183, reg_alpha=0.12605724500394666, reg_lambda=1.3173773870181345e-07, scale_pos_weight=0.4303640509908626, subsample=0.49393465041995166 \n",
      "[CV]  colsample_bylevel=0.4823096223143155, colsample_bytree=1.0, gamma=0.00015594973964561733, learning_rate=0.015798702111366955, max_delta_step=15, max_depth=48, min_child_weight=5, n_estimators=183, reg_alpha=0.12605724500394666, reg_lambda=1.3173773870181345e-07, scale_pos_weight=0.4303640509908626, subsample=0.49393465041995166, score=0.638, total=   6.6s\n",
      "[CV] colsample_bylevel=0.4823096223143155, colsample_bytree=1.0, gamma=0.00015594973964561733, learning_rate=0.015798702111366955, max_delta_step=15, max_depth=48, min_child_weight=5, n_estimators=183, reg_alpha=0.12605724500394666, reg_lambda=1.3173773870181345e-07, scale_pos_weight=0.4303640509908626, subsample=0.49393465041995166 \n",
      "[CV]  colsample_bylevel=0.4823096223143155, colsample_bytree=1.0, gamma=0.00015594973964561733, learning_rate=0.015798702111366955, max_delta_step=15, max_depth=48, min_child_weight=5, n_estimators=183, reg_alpha=0.12605724500394666, reg_lambda=1.3173773870181345e-07, scale_pos_weight=0.4303640509908626, subsample=0.49393465041995166, score=0.665, total=   6.4s\n",
      "[CV] colsample_bylevel=0.4823096223143155, colsample_bytree=1.0, gamma=0.00015594973964561733, learning_rate=0.015798702111366955, max_delta_step=15, max_depth=48, min_child_weight=5, n_estimators=183, reg_alpha=0.12605724500394666, reg_lambda=1.3173773870181345e-07, scale_pos_weight=0.4303640509908626, subsample=0.49393465041995166 \n",
      "[CV]  colsample_bylevel=0.4823096223143155, colsample_bytree=1.0, gamma=0.00015594973964561733, learning_rate=0.015798702111366955, max_delta_step=15, max_depth=48, min_child_weight=5, n_estimators=183, reg_alpha=0.12605724500394666, reg_lambda=1.3173773870181345e-07, scale_pos_weight=0.4303640509908626, subsample=0.49393465041995166, score=0.609, total=   6.5s\n",
      "[CV] colsample_bylevel=0.4823096223143155, colsample_bytree=1.0, gamma=0.00015594973964561733, learning_rate=0.015798702111366955, max_delta_step=15, max_depth=48, min_child_weight=5, n_estimators=183, reg_alpha=0.12605724500394666, reg_lambda=1.3173773870181345e-07, scale_pos_weight=0.4303640509908626, subsample=0.49393465041995166 \n",
      "[CV]  colsample_bylevel=0.4823096223143155, colsample_bytree=1.0, gamma=0.00015594973964561733, learning_rate=0.015798702111366955, max_delta_step=15, max_depth=48, min_child_weight=5, n_estimators=183, reg_alpha=0.12605724500394666, reg_lambda=1.3173773870181345e-07, scale_pos_weight=0.4303640509908626, subsample=0.49393465041995166, score=0.624, total=   6.6s\n",
      "[CV] colsample_bylevel=0.4823096223143155, colsample_bytree=1.0, gamma=0.00015594973964561733, learning_rate=0.015798702111366955, max_delta_step=15, max_depth=48, min_child_weight=5, n_estimators=183, reg_alpha=0.12605724500394666, reg_lambda=1.3173773870181345e-07, scale_pos_weight=0.4303640509908626, subsample=0.49393465041995166 \n",
      "[CV]  colsample_bylevel=0.4823096223143155, colsample_bytree=1.0, gamma=0.00015594973964561733, learning_rate=0.015798702111366955, max_delta_step=15, max_depth=48, min_child_weight=5, n_estimators=183, reg_alpha=0.12605724500394666, reg_lambda=1.3173773870181345e-07, scale_pos_weight=0.4303640509908626, subsample=0.49393465041995166, score=0.640, total=   6.5s\n",
      "[CV] colsample_bylevel=0.01, colsample_bytree=0.906117454370657, gamma=3.132055095210533e-06, learning_rate=0.03699561908382496, max_delta_step=13, max_depth=40, min_child_weight=2, n_estimators=127, reg_alpha=2.55596167311598e-09, reg_lambda=2.0033065135197963e-06, scale_pos_weight=0.319918983074524, subsample=1.0 \n",
      "[CV]  colsample_bylevel=0.01, colsample_bytree=0.906117454370657, gamma=3.132055095210533e-06, learning_rate=0.03699561908382496, max_delta_step=13, max_depth=40, min_child_weight=2, n_estimators=127, reg_alpha=2.55596167311598e-09, reg_lambda=2.0033065135197963e-06, scale_pos_weight=0.319918983074524, subsample=1.0, score=0.626, total=   1.3s\n",
      "[CV] colsample_bylevel=0.01, colsample_bytree=0.906117454370657, gamma=3.132055095210533e-06, learning_rate=0.03699561908382496, max_delta_step=13, max_depth=40, min_child_weight=2, n_estimators=127, reg_alpha=2.55596167311598e-09, reg_lambda=2.0033065135197963e-06, scale_pos_weight=0.319918983074524, subsample=1.0 \n",
      "[CV]  colsample_bylevel=0.01, colsample_bytree=0.906117454370657, gamma=3.132055095210533e-06, learning_rate=0.03699561908382496, max_delta_step=13, max_depth=40, min_child_weight=2, n_estimators=127, reg_alpha=2.55596167311598e-09, reg_lambda=2.0033065135197963e-06, scale_pos_weight=0.319918983074524, subsample=1.0, score=0.668, total=   1.3s\n",
      "[CV] colsample_bylevel=0.01, colsample_bytree=0.906117454370657, gamma=3.132055095210533e-06, learning_rate=0.03699561908382496, max_delta_step=13, max_depth=40, min_child_weight=2, n_estimators=127, reg_alpha=2.55596167311598e-09, reg_lambda=2.0033065135197963e-06, scale_pos_weight=0.319918983074524, subsample=1.0 \n",
      "[CV]  colsample_bylevel=0.01, colsample_bytree=0.906117454370657, gamma=3.132055095210533e-06, learning_rate=0.03699561908382496, max_delta_step=13, max_depth=40, min_child_weight=2, n_estimators=127, reg_alpha=2.55596167311598e-09, reg_lambda=2.0033065135197963e-06, scale_pos_weight=0.319918983074524, subsample=1.0, score=0.594, total=   1.3s\n",
      "[CV] colsample_bylevel=0.01, colsample_bytree=0.906117454370657, gamma=3.132055095210533e-06, learning_rate=0.03699561908382496, max_delta_step=13, max_depth=40, min_child_weight=2, n_estimators=127, reg_alpha=2.55596167311598e-09, reg_lambda=2.0033065135197963e-06, scale_pos_weight=0.319918983074524, subsample=1.0 \n"
     ]
    },
    {
     "name": "stdout",
     "output_type": "stream",
     "text": [
      "[CV]  colsample_bylevel=0.01, colsample_bytree=0.906117454370657, gamma=3.132055095210533e-06, learning_rate=0.03699561908382496, max_delta_step=13, max_depth=40, min_child_weight=2, n_estimators=127, reg_alpha=2.55596167311598e-09, reg_lambda=2.0033065135197963e-06, scale_pos_weight=0.319918983074524, subsample=1.0, score=0.621, total=   1.3s\n",
      "[CV] colsample_bylevel=0.01, colsample_bytree=0.906117454370657, gamma=3.132055095210533e-06, learning_rate=0.03699561908382496, max_delta_step=13, max_depth=40, min_child_weight=2, n_estimators=127, reg_alpha=2.55596167311598e-09, reg_lambda=2.0033065135197963e-06, scale_pos_weight=0.319918983074524, subsample=1.0 \n",
      "[CV]  colsample_bylevel=0.01, colsample_bytree=0.906117454370657, gamma=3.132055095210533e-06, learning_rate=0.03699561908382496, max_delta_step=13, max_depth=40, min_child_weight=2, n_estimators=127, reg_alpha=2.55596167311598e-09, reg_lambda=2.0033065135197963e-06, scale_pos_weight=0.319918983074524, subsample=1.0, score=0.622, total=   1.3s\n",
      "[CV] colsample_bylevel=0.7972804521897102, colsample_bytree=0.968302011924281, gamma=4.804889894325819e-06, learning_rate=0.2942041571820646, max_delta_step=12, max_depth=18, min_child_weight=0, n_estimators=134, reg_alpha=2.313708432639934e-06, reg_lambda=7.83241725696928e-09, scale_pos_weight=1.6402286350993756, subsample=0.944995926793594 \n",
      "[CV]  colsample_bylevel=0.7972804521897102, colsample_bytree=0.968302011924281, gamma=4.804889894325819e-06, learning_rate=0.2942041571820646, max_delta_step=12, max_depth=18, min_child_weight=0, n_estimators=134, reg_alpha=2.313708432639934e-06, reg_lambda=7.83241725696928e-09, scale_pos_weight=1.6402286350993756, subsample=0.944995926793594, score=0.674, total=  15.8s\n",
      "[CV] colsample_bylevel=0.7972804521897102, colsample_bytree=0.968302011924281, gamma=4.804889894325819e-06, learning_rate=0.2942041571820646, max_delta_step=12, max_depth=18, min_child_weight=0, n_estimators=134, reg_alpha=2.313708432639934e-06, reg_lambda=7.83241725696928e-09, scale_pos_weight=1.6402286350993756, subsample=0.944995926793594 \n",
      "[CV]  colsample_bylevel=0.7972804521897102, colsample_bytree=0.968302011924281, gamma=4.804889894325819e-06, learning_rate=0.2942041571820646, max_delta_step=12, max_depth=18, min_child_weight=0, n_estimators=134, reg_alpha=2.313708432639934e-06, reg_lambda=7.83241725696928e-09, scale_pos_weight=1.6402286350993756, subsample=0.944995926793594, score=0.685, total=  16.4s\n",
      "[CV] colsample_bylevel=0.7972804521897102, colsample_bytree=0.968302011924281, gamma=4.804889894325819e-06, learning_rate=0.2942041571820646, max_delta_step=12, max_depth=18, min_child_weight=0, n_estimators=134, reg_alpha=2.313708432639934e-06, reg_lambda=7.83241725696928e-09, scale_pos_weight=1.6402286350993756, subsample=0.944995926793594 \n",
      "[CV]  colsample_bylevel=0.7972804521897102, colsample_bytree=0.968302011924281, gamma=4.804889894325819e-06, learning_rate=0.2942041571820646, max_delta_step=12, max_depth=18, min_child_weight=0, n_estimators=134, reg_alpha=2.313708432639934e-06, reg_lambda=7.83241725696928e-09, scale_pos_weight=1.6402286350993756, subsample=0.944995926793594, score=0.624, total=  14.6s\n",
      "[CV] colsample_bylevel=0.7972804521897102, colsample_bytree=0.968302011924281, gamma=4.804889894325819e-06, learning_rate=0.2942041571820646, max_delta_step=12, max_depth=18, min_child_weight=0, n_estimators=134, reg_alpha=2.313708432639934e-06, reg_lambda=7.83241725696928e-09, scale_pos_weight=1.6402286350993756, subsample=0.944995926793594 \n",
      "[CV]  colsample_bylevel=0.7972804521897102, colsample_bytree=0.968302011924281, gamma=4.804889894325819e-06, learning_rate=0.2942041571820646, max_delta_step=12, max_depth=18, min_child_weight=0, n_estimators=134, reg_alpha=2.313708432639934e-06, reg_lambda=7.83241725696928e-09, scale_pos_weight=1.6402286350993756, subsample=0.944995926793594, score=0.656, total=  14.7s\n",
      "[CV] colsample_bylevel=0.7972804521897102, colsample_bytree=0.968302011924281, gamma=4.804889894325819e-06, learning_rate=0.2942041571820646, max_delta_step=12, max_depth=18, min_child_weight=0, n_estimators=134, reg_alpha=2.313708432639934e-06, reg_lambda=7.83241725696928e-09, scale_pos_weight=1.6402286350993756, subsample=0.944995926793594 \n",
      "[CV]  colsample_bylevel=0.7972804521897102, colsample_bytree=0.968302011924281, gamma=4.804889894325819e-06, learning_rate=0.2942041571820646, max_delta_step=12, max_depth=18, min_child_weight=0, n_estimators=134, reg_alpha=2.313708432639934e-06, reg_lambda=7.83241725696928e-09, scale_pos_weight=1.6402286350993756, subsample=0.944995926793594, score=0.673, total=  14.6s\n",
      "[CV] colsample_bylevel=0.2776198587058245, colsample_bytree=1.0, gamma=2.0194654081601845e-05, learning_rate=0.631132732392097, max_delta_step=2, max_depth=0, min_child_weight=2, n_estimators=71, reg_alpha=1e-09, reg_lambda=0.004911581638604973, scale_pos_weight=39.211935065704346, subsample=1.0 \n",
      "[CV]  colsample_bylevel=0.2776198587058245, colsample_bytree=1.0, gamma=2.0194654081601845e-05, learning_rate=0.631132732392097, max_delta_step=2, max_depth=0, min_child_weight=2, n_estimators=71, reg_alpha=1e-09, reg_lambda=0.004911581638604973, scale_pos_weight=39.211935065704346, subsample=1.0, score=0.435, total=   0.6s\n",
      "[CV] colsample_bylevel=0.2776198587058245, colsample_bytree=1.0, gamma=2.0194654081601845e-05, learning_rate=0.631132732392097, max_delta_step=2, max_depth=0, min_child_weight=2, n_estimators=71, reg_alpha=1e-09, reg_lambda=0.004911581638604973, scale_pos_weight=39.211935065704346, subsample=1.0 \n",
      "[CV]  colsample_bylevel=0.2776198587058245, colsample_bytree=1.0, gamma=2.0194654081601845e-05, learning_rate=0.631132732392097, max_delta_step=2, max_depth=0, min_child_weight=2, n_estimators=71, reg_alpha=1e-09, reg_lambda=0.004911581638604973, scale_pos_weight=39.211935065704346, subsample=1.0, score=0.435, total=   0.6s\n",
      "[CV] colsample_bylevel=0.2776198587058245, colsample_bytree=1.0, gamma=2.0194654081601845e-05, learning_rate=0.631132732392097, max_delta_step=2, max_depth=0, min_child_weight=2, n_estimators=71, reg_alpha=1e-09, reg_lambda=0.004911581638604973, scale_pos_weight=39.211935065704346, subsample=1.0 \n",
      "[CV]  colsample_bylevel=0.2776198587058245, colsample_bytree=1.0, gamma=2.0194654081601845e-05, learning_rate=0.631132732392097, max_delta_step=2, max_depth=0, min_child_weight=2, n_estimators=71, reg_alpha=1e-09, reg_lambda=0.004911581638604973, scale_pos_weight=39.211935065704346, subsample=1.0, score=0.435, total=   0.6s\n",
      "[CV] colsample_bylevel=0.2776198587058245, colsample_bytree=1.0, gamma=2.0194654081601845e-05, learning_rate=0.631132732392097, max_delta_step=2, max_depth=0, min_child_weight=2, n_estimators=71, reg_alpha=1e-09, reg_lambda=0.004911581638604973, scale_pos_weight=39.211935065704346, subsample=1.0 \n",
      "[CV]  colsample_bylevel=0.2776198587058245, colsample_bytree=1.0, gamma=2.0194654081601845e-05, learning_rate=0.631132732392097, max_delta_step=2, max_depth=0, min_child_weight=2, n_estimators=71, reg_alpha=1e-09, reg_lambda=0.004911581638604973, scale_pos_weight=39.211935065704346, subsample=1.0, score=0.435, total=   0.6s\n",
      "[CV] colsample_bylevel=0.2776198587058245, colsample_bytree=1.0, gamma=2.0194654081601845e-05, learning_rate=0.631132732392097, max_delta_step=2, max_depth=0, min_child_weight=2, n_estimators=71, reg_alpha=1e-09, reg_lambda=0.004911581638604973, scale_pos_weight=39.211935065704346, subsample=1.0 \n",
      "[CV]  colsample_bylevel=0.2776198587058245, colsample_bytree=1.0, gamma=2.0194654081601845e-05, learning_rate=0.631132732392097, max_delta_step=2, max_depth=0, min_child_weight=2, n_estimators=71, reg_alpha=1e-09, reg_lambda=0.004911581638604973, scale_pos_weight=39.211935065704346, subsample=1.0, score=0.437, total=   0.6s\n",
      "[CV] colsample_bylevel=0.18715549445180082, colsample_bytree=0.8753778769487311, gamma=0.0014116070955201927, learning_rate=0.2029671302857323, max_delta_step=19, max_depth=33, min_child_weight=0, n_estimators=57, reg_alpha=1.8184415494235189e-09, reg_lambda=3.991750648919243e-08, scale_pos_weight=0.7046072758365179, subsample=0.7954930883066722 \n",
      "[CV]  colsample_bylevel=0.18715549445180082, colsample_bytree=0.8753778769487311, gamma=0.0014116070955201927, learning_rate=0.2029671302857323, max_delta_step=19, max_depth=33, min_child_weight=0, n_estimators=57, reg_alpha=1.8184415494235189e-09, reg_lambda=3.991750648919243e-08, scale_pos_weight=0.7046072758365179, subsample=0.7954930883066722, score=0.682, total=   2.7s\n",
      "[CV] colsample_bylevel=0.18715549445180082, colsample_bytree=0.8753778769487311, gamma=0.0014116070955201927, learning_rate=0.2029671302857323, max_delta_step=19, max_depth=33, min_child_weight=0, n_estimators=57, reg_alpha=1.8184415494235189e-09, reg_lambda=3.991750648919243e-08, scale_pos_weight=0.7046072758365179, subsample=0.7954930883066722 \n"
     ]
    },
    {
     "name": "stdout",
     "output_type": "stream",
     "text": [
      "[CV]  colsample_bylevel=0.18715549445180082, colsample_bytree=0.8753778769487311, gamma=0.0014116070955201927, learning_rate=0.2029671302857323, max_delta_step=19, max_depth=33, min_child_weight=0, n_estimators=57, reg_alpha=1.8184415494235189e-09, reg_lambda=3.991750648919243e-08, scale_pos_weight=0.7046072758365179, subsample=0.7954930883066722, score=0.650, total=   2.8s\n",
      "[CV] colsample_bylevel=0.18715549445180082, colsample_bytree=0.8753778769487311, gamma=0.0014116070955201927, learning_rate=0.2029671302857323, max_delta_step=19, max_depth=33, min_child_weight=0, n_estimators=57, reg_alpha=1.8184415494235189e-09, reg_lambda=3.991750648919243e-08, scale_pos_weight=0.7046072758365179, subsample=0.7954930883066722 \n",
      "[CV]  colsample_bylevel=0.18715549445180082, colsample_bytree=0.8753778769487311, gamma=0.0014116070955201927, learning_rate=0.2029671302857323, max_delta_step=19, max_depth=33, min_child_weight=0, n_estimators=57, reg_alpha=1.8184415494235189e-09, reg_lambda=3.991750648919243e-08, scale_pos_weight=0.7046072758365179, subsample=0.7954930883066722, score=0.624, total=   2.8s\n",
      "[CV] colsample_bylevel=0.18715549445180082, colsample_bytree=0.8753778769487311, gamma=0.0014116070955201927, learning_rate=0.2029671302857323, max_delta_step=19, max_depth=33, min_child_weight=0, n_estimators=57, reg_alpha=1.8184415494235189e-09, reg_lambda=3.991750648919243e-08, scale_pos_weight=0.7046072758365179, subsample=0.7954930883066722 \n",
      "[CV]  colsample_bylevel=0.18715549445180082, colsample_bytree=0.8753778769487311, gamma=0.0014116070955201927, learning_rate=0.2029671302857323, max_delta_step=19, max_depth=33, min_child_weight=0, n_estimators=57, reg_alpha=1.8184415494235189e-09, reg_lambda=3.991750648919243e-08, scale_pos_weight=0.7046072758365179, subsample=0.7954930883066722, score=0.674, total=   2.9s\n",
      "[CV] colsample_bylevel=0.18715549445180082, colsample_bytree=0.8753778769487311, gamma=0.0014116070955201927, learning_rate=0.2029671302857323, max_delta_step=19, max_depth=33, min_child_weight=0, n_estimators=57, reg_alpha=1.8184415494235189e-09, reg_lambda=3.991750648919243e-08, scale_pos_weight=0.7046072758365179, subsample=0.7954930883066722 \n",
      "[CV]  colsample_bylevel=0.18715549445180082, colsample_bytree=0.8753778769487311, gamma=0.0014116070955201927, learning_rate=0.2029671302857323, max_delta_step=19, max_depth=33, min_child_weight=0, n_estimators=57, reg_alpha=1.8184415494235189e-09, reg_lambda=3.991750648919243e-08, scale_pos_weight=0.7046072758365179, subsample=0.7954930883066722, score=0.664, total=   2.8s\n",
      "[CV] colsample_bylevel=1.0, colsample_bytree=1.0, gamma=0.0026604683202550786, learning_rate=0.6073055068235944, max_delta_step=20, max_depth=50, min_child_weight=2, n_estimators=180, reg_alpha=0.003205763815438692, reg_lambda=9.584216269890294e-06, scale_pos_weight=499.99999999999994, subsample=1.0 \n",
      "[CV]  colsample_bylevel=1.0, colsample_bytree=1.0, gamma=0.0026604683202550786, learning_rate=0.6073055068235944, max_delta_step=20, max_depth=50, min_child_weight=2, n_estimators=180, reg_alpha=0.003205763815438692, reg_lambda=9.584216269890294e-06, scale_pos_weight=499.99999999999994, subsample=1.0, score=0.597, total=   8.5s\n",
      "[CV] colsample_bylevel=1.0, colsample_bytree=1.0, gamma=0.0026604683202550786, learning_rate=0.6073055068235944, max_delta_step=20, max_depth=50, min_child_weight=2, n_estimators=180, reg_alpha=0.003205763815438692, reg_lambda=9.584216269890294e-06, scale_pos_weight=499.99999999999994, subsample=1.0 \n",
      "[CV]  colsample_bylevel=1.0, colsample_bytree=1.0, gamma=0.0026604683202550786, learning_rate=0.6073055068235944, max_delta_step=20, max_depth=50, min_child_weight=2, n_estimators=180, reg_alpha=0.003205763815438692, reg_lambda=9.584216269890294e-06, scale_pos_weight=499.99999999999994, subsample=1.0, score=0.579, total=   8.2s\n",
      "[CV] colsample_bylevel=1.0, colsample_bytree=1.0, gamma=0.0026604683202550786, learning_rate=0.6073055068235944, max_delta_step=20, max_depth=50, min_child_weight=2, n_estimators=180, reg_alpha=0.003205763815438692, reg_lambda=9.584216269890294e-06, scale_pos_weight=499.99999999999994, subsample=1.0 \n",
      "[CV]  colsample_bylevel=1.0, colsample_bytree=1.0, gamma=0.0026604683202550786, learning_rate=0.6073055068235944, max_delta_step=20, max_depth=50, min_child_weight=2, n_estimators=180, reg_alpha=0.003205763815438692, reg_lambda=9.584216269890294e-06, scale_pos_weight=499.99999999999994, subsample=1.0, score=0.579, total=   8.4s\n",
      "[CV] colsample_bylevel=1.0, colsample_bytree=1.0, gamma=0.0026604683202550786, learning_rate=0.6073055068235944, max_delta_step=20, max_depth=50, min_child_weight=2, n_estimators=180, reg_alpha=0.003205763815438692, reg_lambda=9.584216269890294e-06, scale_pos_weight=499.99999999999994, subsample=1.0 \n",
      "[CV]  colsample_bylevel=1.0, colsample_bytree=1.0, gamma=0.0026604683202550786, learning_rate=0.6073055068235944, max_delta_step=20, max_depth=50, min_child_weight=2, n_estimators=180, reg_alpha=0.003205763815438692, reg_lambda=9.584216269890294e-06, scale_pos_weight=499.99999999999994, subsample=1.0, score=0.644, total=   9.1s\n",
      "[CV] colsample_bylevel=1.0, colsample_bytree=1.0, gamma=0.0026604683202550786, learning_rate=0.6073055068235944, max_delta_step=20, max_depth=50, min_child_weight=2, n_estimators=180, reg_alpha=0.003205763815438692, reg_lambda=9.584216269890294e-06, scale_pos_weight=499.99999999999994, subsample=1.0 \n",
      "[CV]  colsample_bylevel=1.0, colsample_bytree=1.0, gamma=0.0026604683202550786, learning_rate=0.6073055068235944, max_delta_step=20, max_depth=50, min_child_weight=2, n_estimators=180, reg_alpha=0.003205763815438692, reg_lambda=9.584216269890294e-06, scale_pos_weight=499.99999999999994, subsample=1.0, score=0.608, total=   9.3s\n",
      "[CV] colsample_bylevel=0.519075679332666, colsample_bytree=1.0, gamma=2.267161223742725e-07, learning_rate=0.5659345005379272, max_delta_step=20, max_depth=0, min_child_weight=0, n_estimators=161, reg_alpha=4.3372382297952335e-09, reg_lambda=1.6799040092577303e-09, scale_pos_weight=2.2979604776705953, subsample=0.8109661333594834 \n",
      "[CV]  colsample_bylevel=0.519075679332666, colsample_bytree=1.0, gamma=2.267161223742725e-07, learning_rate=0.5659345005379272, max_delta_step=20, max_depth=0, min_child_weight=0, n_estimators=161, reg_alpha=4.3372382297952335e-09, reg_lambda=1.6799040092577303e-09, scale_pos_weight=2.2979604776705953, subsample=0.8109661333594834, score=0.435, total=   0.9s\n",
      "[CV] colsample_bylevel=0.519075679332666, colsample_bytree=1.0, gamma=2.267161223742725e-07, learning_rate=0.5659345005379272, max_delta_step=20, max_depth=0, min_child_weight=0, n_estimators=161, reg_alpha=4.3372382297952335e-09, reg_lambda=1.6799040092577303e-09, scale_pos_weight=2.2979604776705953, subsample=0.8109661333594834 \n",
      "[CV]  colsample_bylevel=0.519075679332666, colsample_bytree=1.0, gamma=2.267161223742725e-07, learning_rate=0.5659345005379272, max_delta_step=20, max_depth=0, min_child_weight=0, n_estimators=161, reg_alpha=4.3372382297952335e-09, reg_lambda=1.6799040092577303e-09, scale_pos_weight=2.2979604776705953, subsample=0.8109661333594834, score=0.435, total=   0.9s\n",
      "[CV] colsample_bylevel=0.519075679332666, colsample_bytree=1.0, gamma=2.267161223742725e-07, learning_rate=0.5659345005379272, max_delta_step=20, max_depth=0, min_child_weight=0, n_estimators=161, reg_alpha=4.3372382297952335e-09, reg_lambda=1.6799040092577303e-09, scale_pos_weight=2.2979604776705953, subsample=0.8109661333594834 \n",
      "[CV]  colsample_bylevel=0.519075679332666, colsample_bytree=1.0, gamma=2.267161223742725e-07, learning_rate=0.5659345005379272, max_delta_step=20, max_depth=0, min_child_weight=0, n_estimators=161, reg_alpha=4.3372382297952335e-09, reg_lambda=1.6799040092577303e-09, scale_pos_weight=2.2979604776705953, subsample=0.8109661333594834, score=0.435, total=   1.0s\n",
      "[CV] colsample_bylevel=0.519075679332666, colsample_bytree=1.0, gamma=2.267161223742725e-07, learning_rate=0.5659345005379272, max_delta_step=20, max_depth=0, min_child_weight=0, n_estimators=161, reg_alpha=4.3372382297952335e-09, reg_lambda=1.6799040092577303e-09, scale_pos_weight=2.2979604776705953, subsample=0.8109661333594834 \n",
      "[CV]  colsample_bylevel=0.519075679332666, colsample_bytree=1.0, gamma=2.267161223742725e-07, learning_rate=0.5659345005379272, max_delta_step=20, max_depth=0, min_child_weight=0, n_estimators=161, reg_alpha=4.3372382297952335e-09, reg_lambda=1.6799040092577303e-09, scale_pos_weight=2.2979604776705953, subsample=0.8109661333594834, score=0.435, total=   0.9s\n",
      "[CV] colsample_bylevel=0.519075679332666, colsample_bytree=1.0, gamma=2.267161223742725e-07, learning_rate=0.5659345005379272, max_delta_step=20, max_depth=0, min_child_weight=0, n_estimators=161, reg_alpha=4.3372382297952335e-09, reg_lambda=1.6799040092577303e-09, scale_pos_weight=2.2979604776705953, subsample=0.8109661333594834 \n"
     ]
    },
    {
     "name": "stdout",
     "output_type": "stream",
     "text": [
      "[CV]  colsample_bylevel=0.519075679332666, colsample_bytree=1.0, gamma=2.267161223742725e-07, learning_rate=0.5659345005379272, max_delta_step=20, max_depth=0, min_child_weight=0, n_estimators=161, reg_alpha=4.3372382297952335e-09, reg_lambda=1.6799040092577303e-09, scale_pos_weight=2.2979604776705953, subsample=0.8109661333594834, score=0.437, total=   0.9s\n",
      "[CV] colsample_bylevel=0.41358655282668805, colsample_bytree=0.01, gamma=0.49999999999999994, learning_rate=1.0, max_delta_step=20, max_depth=21, min_child_weight=0, n_estimators=200, reg_alpha=5.895710348675503e-05, reg_lambda=0.00022544030580325746, scale_pos_weight=19.829831077144206, subsample=1.0 \n",
      "[CV]  colsample_bylevel=0.41358655282668805, colsample_bytree=0.01, gamma=0.49999999999999994, learning_rate=1.0, max_delta_step=20, max_depth=21, min_child_weight=0, n_estimators=200, reg_alpha=5.895710348675503e-05, reg_lambda=0.00022544030580325746, scale_pos_weight=19.829831077144206, subsample=1.0, score=0.553, total=   1.6s\n",
      "[CV] colsample_bylevel=0.41358655282668805, colsample_bytree=0.01, gamma=0.49999999999999994, learning_rate=1.0, max_delta_step=20, max_depth=21, min_child_weight=0, n_estimators=200, reg_alpha=5.895710348675503e-05, reg_lambda=0.00022544030580325746, scale_pos_weight=19.829831077144206, subsample=1.0 \n",
      "[CV]  colsample_bylevel=0.41358655282668805, colsample_bytree=0.01, gamma=0.49999999999999994, learning_rate=1.0, max_delta_step=20, max_depth=21, min_child_weight=0, n_estimators=200, reg_alpha=5.895710348675503e-05, reg_lambda=0.00022544030580325746, scale_pos_weight=19.829831077144206, subsample=1.0, score=0.532, total=   1.6s\n",
      "[CV] colsample_bylevel=0.41358655282668805, colsample_bytree=0.01, gamma=0.49999999999999994, learning_rate=1.0, max_delta_step=20, max_depth=21, min_child_weight=0, n_estimators=200, reg_alpha=5.895710348675503e-05, reg_lambda=0.00022544030580325746, scale_pos_weight=19.829831077144206, subsample=1.0 \n",
      "[CV]  colsample_bylevel=0.41358655282668805, colsample_bytree=0.01, gamma=0.49999999999999994, learning_rate=1.0, max_delta_step=20, max_depth=21, min_child_weight=0, n_estimators=200, reg_alpha=5.895710348675503e-05, reg_lambda=0.00022544030580325746, scale_pos_weight=19.829831077144206, subsample=1.0, score=0.565, total=   1.6s\n",
      "[CV] colsample_bylevel=0.41358655282668805, colsample_bytree=0.01, gamma=0.49999999999999994, learning_rate=1.0, max_delta_step=20, max_depth=21, min_child_weight=0, n_estimators=200, reg_alpha=5.895710348675503e-05, reg_lambda=0.00022544030580325746, scale_pos_weight=19.829831077144206, subsample=1.0 \n",
      "[CV]  colsample_bylevel=0.41358655282668805, colsample_bytree=0.01, gamma=0.49999999999999994, learning_rate=1.0, max_delta_step=20, max_depth=21, min_child_weight=0, n_estimators=200, reg_alpha=5.895710348675503e-05, reg_lambda=0.00022544030580325746, scale_pos_weight=19.829831077144206, subsample=1.0, score=0.565, total=   1.8s\n",
      "[CV] colsample_bylevel=0.41358655282668805, colsample_bytree=0.01, gamma=0.49999999999999994, learning_rate=1.0, max_delta_step=20, max_depth=21, min_child_weight=0, n_estimators=200, reg_alpha=5.895710348675503e-05, reg_lambda=0.00022544030580325746, scale_pos_weight=19.829831077144206, subsample=1.0 \n",
      "[CV]  colsample_bylevel=0.41358655282668805, colsample_bytree=0.01, gamma=0.49999999999999994, learning_rate=1.0, max_delta_step=20, max_depth=21, min_child_weight=0, n_estimators=200, reg_alpha=5.895710348675503e-05, reg_lambda=0.00022544030580325746, scale_pos_weight=19.829831077144206, subsample=1.0, score=0.540, total=   1.5s\n"
     ]
    },
    {
     "name": "stderr",
     "output_type": "stream",
     "text": [
      "[Parallel(n_jobs=1)]: Done  60 out of  60 | elapsed:  5.1min finished\n"
     ]
    },
    {
     "name": "stdout",
     "output_type": "stream",
     "text": [
      "best score: 0.6621542083578575\n",
      "Fitting 5 folds for each of 12 candidates, totalling 60 fits\n",
      "[CV] colsample_bylevel=0.7531385166531486, colsample_bytree=0.8378598469833073, gamma=1e-09, learning_rate=0.2912845644839194, max_delta_step=7, max_depth=24, min_child_weight=0, n_estimators=50, reg_alpha=1e-09, reg_lambda=4.336922171605383e-09, scale_pos_weight=0.00019850272693539182, subsample=1.0 \n"
     ]
    },
    {
     "name": "stderr",
     "output_type": "stream",
     "text": [
      "[Parallel(n_jobs=1)]: Using backend SequentialBackend with 1 concurrent workers.\n",
      "/home/chris/anaconda3/lib/python3.8/site-packages/sklearn/preprocessing/_label.py:235: DataConversionWarning: A column-vector y was passed when a 1d array was expected. Please change the shape of y to (n_samples, ), for example using ravel().\n",
      "  y = column_or_1d(y, warn=True)\n",
      "/home/chris/anaconda3/lib/python3.8/site-packages/sklearn/preprocessing/_label.py:268: DataConversionWarning: A column-vector y was passed when a 1d array was expected. Please change the shape of y to (n_samples, ), for example using ravel().\n",
      "  y = column_or_1d(y, warn=True)\n"
     ]
    },
    {
     "name": "stdout",
     "output_type": "stream",
     "text": [
      "[CV]  colsample_bylevel=0.7531385166531486, colsample_bytree=0.8378598469833073, gamma=1e-09, learning_rate=0.2912845644839194, max_delta_step=7, max_depth=24, min_child_weight=0, n_estimators=50, reg_alpha=1e-09, reg_lambda=4.336922171605383e-09, scale_pos_weight=0.00019850272693539182, subsample=1.0, score=0.591, total=   6.2s\n",
      "[CV] colsample_bylevel=0.7531385166531486, colsample_bytree=0.8378598469833073, gamma=1e-09, learning_rate=0.2912845644839194, max_delta_step=7, max_depth=24, min_child_weight=0, n_estimators=50, reg_alpha=1e-09, reg_lambda=4.336922171605383e-09, scale_pos_weight=0.00019850272693539182, subsample=1.0 \n"
     ]
    },
    {
     "name": "stderr",
     "output_type": "stream",
     "text": [
      "[Parallel(n_jobs=1)]: Done   1 out of   1 | elapsed:    6.2s remaining:    0.0s\n"
     ]
    },
    {
     "name": "stdout",
     "output_type": "stream",
     "text": [
      "[CV]  colsample_bylevel=0.7531385166531486, colsample_bytree=0.8378598469833073, gamma=1e-09, learning_rate=0.2912845644839194, max_delta_step=7, max_depth=24, min_child_weight=0, n_estimators=50, reg_alpha=1e-09, reg_lambda=4.336922171605383e-09, scale_pos_weight=0.00019850272693539182, subsample=1.0, score=0.588, total=   6.5s\n",
      "[CV] colsample_bylevel=0.7531385166531486, colsample_bytree=0.8378598469833073, gamma=1e-09, learning_rate=0.2912845644839194, max_delta_step=7, max_depth=24, min_child_weight=0, n_estimators=50, reg_alpha=1e-09, reg_lambda=4.336922171605383e-09, scale_pos_weight=0.00019850272693539182, subsample=1.0 \n"
     ]
    },
    {
     "name": "stderr",
     "output_type": "stream",
     "text": [
      "[Parallel(n_jobs=1)]: Done   2 out of   2 | elapsed:   12.7s remaining:    0.0s\n"
     ]
    },
    {
     "name": "stdout",
     "output_type": "stream",
     "text": [
      "[CV]  colsample_bylevel=0.7531385166531486, colsample_bytree=0.8378598469833073, gamma=1e-09, learning_rate=0.2912845644839194, max_delta_step=7, max_depth=24, min_child_weight=0, n_estimators=50, reg_alpha=1e-09, reg_lambda=4.336922171605383e-09, scale_pos_weight=0.00019850272693539182, subsample=1.0, score=0.582, total=   6.2s\n",
      "[CV] colsample_bylevel=0.7531385166531486, colsample_bytree=0.8378598469833073, gamma=1e-09, learning_rate=0.2912845644839194, max_delta_step=7, max_depth=24, min_child_weight=0, n_estimators=50, reg_alpha=1e-09, reg_lambda=4.336922171605383e-09, scale_pos_weight=0.00019850272693539182, subsample=1.0 \n",
      "[CV]  colsample_bylevel=0.7531385166531486, colsample_bytree=0.8378598469833073, gamma=1e-09, learning_rate=0.2912845644839194, max_delta_step=7, max_depth=24, min_child_weight=0, n_estimators=50, reg_alpha=1e-09, reg_lambda=4.336922171605383e-09, scale_pos_weight=0.00019850272693539182, subsample=1.0, score=0.600, total=   6.3s\n",
      "[CV] colsample_bylevel=0.7531385166531486, colsample_bytree=0.8378598469833073, gamma=1e-09, learning_rate=0.2912845644839194, max_delta_step=7, max_depth=24, min_child_weight=0, n_estimators=50, reg_alpha=1e-09, reg_lambda=4.336922171605383e-09, scale_pos_weight=0.00019850272693539182, subsample=1.0 \n",
      "[CV]  colsample_bylevel=0.7531385166531486, colsample_bytree=0.8378598469833073, gamma=1e-09, learning_rate=0.2912845644839194, max_delta_step=7, max_depth=24, min_child_weight=0, n_estimators=50, reg_alpha=1e-09, reg_lambda=4.336922171605383e-09, scale_pos_weight=0.00019850272693539182, subsample=1.0, score=0.622, total=   6.7s\n",
      "[CV] colsample_bylevel=0.21027250974651288, colsample_bytree=0.7874945362995879, gamma=4.0831236583799704e-08, learning_rate=0.22476841540090375, max_delta_step=13, max_depth=28, min_child_weight=0, n_estimators=50, reg_alpha=3.3232366913218927e-09, reg_lambda=2.6778277817833897e-05, scale_pos_weight=0.056364030429386855, subsample=1.0 \n",
      "[CV]  colsample_bylevel=0.21027250974651288, colsample_bytree=0.7874945362995879, gamma=4.0831236583799704e-08, learning_rate=0.22476841540090375, max_delta_step=13, max_depth=28, min_child_weight=0, n_estimators=50, reg_alpha=3.3232366913218927e-09, reg_lambda=2.6778277817833897e-05, scale_pos_weight=0.056364030429386855, subsample=1.0, score=0.647, total=   2.6s\n",
      "[CV] colsample_bylevel=0.21027250974651288, colsample_bytree=0.7874945362995879, gamma=4.0831236583799704e-08, learning_rate=0.22476841540090375, max_delta_step=13, max_depth=28, min_child_weight=0, n_estimators=50, reg_alpha=3.3232366913218927e-09, reg_lambda=2.6778277817833897e-05, scale_pos_weight=0.056364030429386855, subsample=1.0 \n",
      "[CV]  colsample_bylevel=0.21027250974651288, colsample_bytree=0.7874945362995879, gamma=4.0831236583799704e-08, learning_rate=0.22476841540090375, max_delta_step=13, max_depth=28, min_child_weight=0, n_estimators=50, reg_alpha=3.3232366913218927e-09, reg_lambda=2.6778277817833897e-05, scale_pos_weight=0.056364030429386855, subsample=1.0, score=0.635, total=   2.6s\n",
      "[CV] colsample_bylevel=0.21027250974651288, colsample_bytree=0.7874945362995879, gamma=4.0831236583799704e-08, learning_rate=0.22476841540090375, max_delta_step=13, max_depth=28, min_child_weight=0, n_estimators=50, reg_alpha=3.3232366913218927e-09, reg_lambda=2.6778277817833897e-05, scale_pos_weight=0.056364030429386855, subsample=1.0 \n",
      "[CV]  colsample_bylevel=0.21027250974651288, colsample_bytree=0.7874945362995879, gamma=4.0831236583799704e-08, learning_rate=0.22476841540090375, max_delta_step=13, max_depth=28, min_child_weight=0, n_estimators=50, reg_alpha=3.3232366913218927e-09, reg_lambda=2.6778277817833897e-05, scale_pos_weight=0.056364030429386855, subsample=1.0, score=0.609, total=   2.6s\n",
      "[CV] colsample_bylevel=0.21027250974651288, colsample_bytree=0.7874945362995879, gamma=4.0831236583799704e-08, learning_rate=0.22476841540090375, max_delta_step=13, max_depth=28, min_child_weight=0, n_estimators=50, reg_alpha=3.3232366913218927e-09, reg_lambda=2.6778277817833897e-05, scale_pos_weight=0.056364030429386855, subsample=1.0 \n",
      "[CV]  colsample_bylevel=0.21027250974651288, colsample_bytree=0.7874945362995879, gamma=4.0831236583799704e-08, learning_rate=0.22476841540090375, max_delta_step=13, max_depth=28, min_child_weight=0, n_estimators=50, reg_alpha=3.3232366913218927e-09, reg_lambda=2.6778277817833897e-05, scale_pos_weight=0.056364030429386855, subsample=1.0, score=0.629, total=   2.6s\n",
      "[CV] colsample_bylevel=0.21027250974651288, colsample_bytree=0.7874945362995879, gamma=4.0831236583799704e-08, learning_rate=0.22476841540090375, max_delta_step=13, max_depth=28, min_child_weight=0, n_estimators=50, reg_alpha=3.3232366913218927e-09, reg_lambda=2.6778277817833897e-05, scale_pos_weight=0.056364030429386855, subsample=1.0 \n",
      "[CV]  colsample_bylevel=0.21027250974651288, colsample_bytree=0.7874945362995879, gamma=4.0831236583799704e-08, learning_rate=0.22476841540090375, max_delta_step=13, max_depth=28, min_child_weight=0, n_estimators=50, reg_alpha=3.3232366913218927e-09, reg_lambda=2.6778277817833897e-05, scale_pos_weight=0.056364030429386855, subsample=1.0, score=0.658, total=   2.6s\n",
      "[CV] colsample_bylevel=0.7630918143515241, colsample_bytree=0.9657051840487066, gamma=2.2632904647116328e-08, learning_rate=0.20000674601495663, max_delta_step=12, max_depth=20, min_child_weight=0, n_estimators=108, reg_alpha=8.588673987292605e-05, reg_lambda=1e-09, scale_pos_weight=0.07063580692270269, subsample=1.0 \n",
      "[CV]  colsample_bylevel=0.7630918143515241, colsample_bytree=0.9657051840487066, gamma=2.2632904647116328e-08, learning_rate=0.20000674601495663, max_delta_step=12, max_depth=20, min_child_weight=0, n_estimators=108, reg_alpha=8.588673987292605e-05, reg_lambda=1e-09, scale_pos_weight=0.07063580692270269, subsample=1.0, score=0.659, total=  11.5s\n",
      "[CV] colsample_bylevel=0.7630918143515241, colsample_bytree=0.9657051840487066, gamma=2.2632904647116328e-08, learning_rate=0.20000674601495663, max_delta_step=12, max_depth=20, min_child_weight=0, n_estimators=108, reg_alpha=8.588673987292605e-05, reg_lambda=1e-09, scale_pos_weight=0.07063580692270269, subsample=1.0 \n",
      "[CV]  colsample_bylevel=0.7630918143515241, colsample_bytree=0.9657051840487066, gamma=2.2632904647116328e-08, learning_rate=0.20000674601495663, max_delta_step=12, max_depth=20, min_child_weight=0, n_estimators=108, reg_alpha=8.588673987292605e-05, reg_lambda=1e-09, scale_pos_weight=0.07063580692270269, subsample=1.0, score=0.662, total=  11.5s\n",
      "[CV] colsample_bylevel=0.7630918143515241, colsample_bytree=0.9657051840487066, gamma=2.2632904647116328e-08, learning_rate=0.20000674601495663, max_delta_step=12, max_depth=20, min_child_weight=0, n_estimators=108, reg_alpha=8.588673987292605e-05, reg_lambda=1e-09, scale_pos_weight=0.07063580692270269, subsample=1.0 \n",
      "[CV]  colsample_bylevel=0.7630918143515241, colsample_bytree=0.9657051840487066, gamma=2.2632904647116328e-08, learning_rate=0.20000674601495663, max_delta_step=12, max_depth=20, min_child_weight=0, n_estimators=108, reg_alpha=8.588673987292605e-05, reg_lambda=1e-09, scale_pos_weight=0.07063580692270269, subsample=1.0, score=0.641, total=  11.4s\n",
      "[CV] colsample_bylevel=0.7630918143515241, colsample_bytree=0.9657051840487066, gamma=2.2632904647116328e-08, learning_rate=0.20000674601495663, max_delta_step=12, max_depth=20, min_child_weight=0, n_estimators=108, reg_alpha=8.588673987292605e-05, reg_lambda=1e-09, scale_pos_weight=0.07063580692270269, subsample=1.0 \n",
      "[CV]  colsample_bylevel=0.7630918143515241, colsample_bytree=0.9657051840487066, gamma=2.2632904647116328e-08, learning_rate=0.20000674601495663, max_delta_step=12, max_depth=20, min_child_weight=0, n_estimators=108, reg_alpha=8.588673987292605e-05, reg_lambda=1e-09, scale_pos_weight=0.07063580692270269, subsample=1.0, score=0.671, total=  11.4s\n",
      "[CV] colsample_bylevel=0.7630918143515241, colsample_bytree=0.9657051840487066, gamma=2.2632904647116328e-08, learning_rate=0.20000674601495663, max_delta_step=12, max_depth=20, min_child_weight=0, n_estimators=108, reg_alpha=8.588673987292605e-05, reg_lambda=1e-09, scale_pos_weight=0.07063580692270269, subsample=1.0 \n",
      "[CV]  colsample_bylevel=0.7630918143515241, colsample_bytree=0.9657051840487066, gamma=2.2632904647116328e-08, learning_rate=0.20000674601495663, max_delta_step=12, max_depth=20, min_child_weight=0, n_estimators=108, reg_alpha=8.588673987292605e-05, reg_lambda=1e-09, scale_pos_weight=0.07063580692270269, subsample=1.0, score=0.664, total=  11.5s\n",
      "[CV] colsample_bylevel=0.8128284025279664, colsample_bytree=0.8713606522542748, gamma=4.285257646578097e-06, learning_rate=0.09017093692253858, max_delta_step=11, max_depth=22, min_child_weight=0, n_estimators=72, reg_alpha=1.9143769548526423e-06, reg_lambda=1e-09, scale_pos_weight=0.28954250228192036, subsample=0.9731133951232362 \n"
     ]
    },
    {
     "name": "stdout",
     "output_type": "stream",
     "text": [
      "[CV]  colsample_bylevel=0.8128284025279664, colsample_bytree=0.8713606522542748, gamma=4.285257646578097e-06, learning_rate=0.09017093692253858, max_delta_step=11, max_depth=22, min_child_weight=0, n_estimators=72, reg_alpha=1.9143769548526423e-06, reg_lambda=1e-09, scale_pos_weight=0.28954250228192036, subsample=0.9731133951232362, score=0.665, total=  11.4s\n",
      "[CV] colsample_bylevel=0.8128284025279664, colsample_bytree=0.8713606522542748, gamma=4.285257646578097e-06, learning_rate=0.09017093692253858, max_delta_step=11, max_depth=22, min_child_weight=0, n_estimators=72, reg_alpha=1.9143769548526423e-06, reg_lambda=1e-09, scale_pos_weight=0.28954250228192036, subsample=0.9731133951232362 \n",
      "[CV]  colsample_bylevel=0.8128284025279664, colsample_bytree=0.8713606522542748, gamma=4.285257646578097e-06, learning_rate=0.09017093692253858, max_delta_step=11, max_depth=22, min_child_weight=0, n_estimators=72, reg_alpha=1.9143769548526423e-06, reg_lambda=1e-09, scale_pos_weight=0.28954250228192036, subsample=0.9731133951232362, score=0.626, total=  11.3s\n",
      "[CV] colsample_bylevel=0.8128284025279664, colsample_bytree=0.8713606522542748, gamma=4.285257646578097e-06, learning_rate=0.09017093692253858, max_delta_step=11, max_depth=22, min_child_weight=0, n_estimators=72, reg_alpha=1.9143769548526423e-06, reg_lambda=1e-09, scale_pos_weight=0.28954250228192036, subsample=0.9731133951232362 \n",
      "[CV]  colsample_bylevel=0.8128284025279664, colsample_bytree=0.8713606522542748, gamma=4.285257646578097e-06, learning_rate=0.09017093692253858, max_delta_step=11, max_depth=22, min_child_weight=0, n_estimators=72, reg_alpha=1.9143769548526423e-06, reg_lambda=1e-09, scale_pos_weight=0.28954250228192036, subsample=0.9731133951232362, score=0.644, total=  11.4s\n",
      "[CV] colsample_bylevel=0.8128284025279664, colsample_bytree=0.8713606522542748, gamma=4.285257646578097e-06, learning_rate=0.09017093692253858, max_delta_step=11, max_depth=22, min_child_weight=0, n_estimators=72, reg_alpha=1.9143769548526423e-06, reg_lambda=1e-09, scale_pos_weight=0.28954250228192036, subsample=0.9731133951232362 \n",
      "[CV]  colsample_bylevel=0.8128284025279664, colsample_bytree=0.8713606522542748, gamma=4.285257646578097e-06, learning_rate=0.09017093692253858, max_delta_step=11, max_depth=22, min_child_weight=0, n_estimators=72, reg_alpha=1.9143769548526423e-06, reg_lambda=1e-09, scale_pos_weight=0.28954250228192036, subsample=0.9731133951232362, score=0.679, total=  13.3s\n",
      "[CV] colsample_bylevel=0.8128284025279664, colsample_bytree=0.8713606522542748, gamma=4.285257646578097e-06, learning_rate=0.09017093692253858, max_delta_step=11, max_depth=22, min_child_weight=0, n_estimators=72, reg_alpha=1.9143769548526423e-06, reg_lambda=1e-09, scale_pos_weight=0.28954250228192036, subsample=0.9731133951232362 \n",
      "[CV]  colsample_bylevel=0.8128284025279664, colsample_bytree=0.8713606522542748, gamma=4.285257646578097e-06, learning_rate=0.09017093692253858, max_delta_step=11, max_depth=22, min_child_weight=0, n_estimators=72, reg_alpha=1.9143769548526423e-06, reg_lambda=1e-09, scale_pos_weight=0.28954250228192036, subsample=0.9731133951232362, score=0.640, total=  12.9s\n",
      "[CV] colsample_bylevel=0.35772745335301115, colsample_bytree=0.8438032640161367, gamma=7.923579811399109e-08, learning_rate=0.3797511784142786, max_delta_step=20, max_depth=50, min_child_weight=0, n_estimators=89, reg_alpha=8.504067555920304e-06, reg_lambda=8.285224812725319e-05, scale_pos_weight=0.09026013183647318, subsample=0.4333922261625813 \n",
      "[CV]  colsample_bylevel=0.35772745335301115, colsample_bytree=0.8438032640161367, gamma=7.923579811399109e-08, learning_rate=0.3797511784142786, max_delta_step=20, max_depth=50, min_child_weight=0, n_estimators=89, reg_alpha=8.504067555920304e-06, reg_lambda=8.285224812725319e-05, scale_pos_weight=0.09026013183647318, subsample=0.4333922261625813, score=0.656, total=   5.6s\n",
      "[CV] colsample_bylevel=0.35772745335301115, colsample_bytree=0.8438032640161367, gamma=7.923579811399109e-08, learning_rate=0.3797511784142786, max_delta_step=20, max_depth=50, min_child_weight=0, n_estimators=89, reg_alpha=8.504067555920304e-06, reg_lambda=8.285224812725319e-05, scale_pos_weight=0.09026013183647318, subsample=0.4333922261625813 \n",
      "[CV]  colsample_bylevel=0.35772745335301115, colsample_bytree=0.8438032640161367, gamma=7.923579811399109e-08, learning_rate=0.3797511784142786, max_delta_step=20, max_depth=50, min_child_weight=0, n_estimators=89, reg_alpha=8.504067555920304e-06, reg_lambda=8.285224812725319e-05, scale_pos_weight=0.09026013183647318, subsample=0.4333922261625813, score=0.626, total=   5.5s\n",
      "[CV] colsample_bylevel=0.35772745335301115, colsample_bytree=0.8438032640161367, gamma=7.923579811399109e-08, learning_rate=0.3797511784142786, max_delta_step=20, max_depth=50, min_child_weight=0, n_estimators=89, reg_alpha=8.504067555920304e-06, reg_lambda=8.285224812725319e-05, scale_pos_weight=0.09026013183647318, subsample=0.4333922261625813 \n",
      "[CV]  colsample_bylevel=0.35772745335301115, colsample_bytree=0.8438032640161367, gamma=7.923579811399109e-08, learning_rate=0.3797511784142786, max_delta_step=20, max_depth=50, min_child_weight=0, n_estimators=89, reg_alpha=8.504067555920304e-06, reg_lambda=8.285224812725319e-05, scale_pos_weight=0.09026013183647318, subsample=0.4333922261625813, score=0.632, total=   5.7s\n",
      "[CV] colsample_bylevel=0.35772745335301115, colsample_bytree=0.8438032640161367, gamma=7.923579811399109e-08, learning_rate=0.3797511784142786, max_delta_step=20, max_depth=50, min_child_weight=0, n_estimators=89, reg_alpha=8.504067555920304e-06, reg_lambda=8.285224812725319e-05, scale_pos_weight=0.09026013183647318, subsample=0.4333922261625813 \n",
      "[CV]  colsample_bylevel=0.35772745335301115, colsample_bytree=0.8438032640161367, gamma=7.923579811399109e-08, learning_rate=0.3797511784142786, max_delta_step=20, max_depth=50, min_child_weight=0, n_estimators=89, reg_alpha=8.504067555920304e-06, reg_lambda=8.285224812725319e-05, scale_pos_weight=0.09026013183647318, subsample=0.4333922261625813, score=0.612, total=   5.9s\n",
      "[CV] colsample_bylevel=0.35772745335301115, colsample_bytree=0.8438032640161367, gamma=7.923579811399109e-08, learning_rate=0.3797511784142786, max_delta_step=20, max_depth=50, min_child_weight=0, n_estimators=89, reg_alpha=8.504067555920304e-06, reg_lambda=8.285224812725319e-05, scale_pos_weight=0.09026013183647318, subsample=0.4333922261625813 \n",
      "[CV]  colsample_bylevel=0.35772745335301115, colsample_bytree=0.8438032640161367, gamma=7.923579811399109e-08, learning_rate=0.3797511784142786, max_delta_step=20, max_depth=50, min_child_weight=0, n_estimators=89, reg_alpha=8.504067555920304e-06, reg_lambda=8.285224812725319e-05, scale_pos_weight=0.09026013183647318, subsample=0.4333922261625813, score=0.643, total=   5.9s\n",
      "[CV] colsample_bylevel=0.7246439219040482, colsample_bytree=1.0, gamma=1e-09, learning_rate=0.05501295059685881, max_delta_step=20, max_depth=48, min_child_weight=0, n_estimators=87, reg_alpha=0.00011409552342111378, reg_lambda=4.727494439163992e-05, scale_pos_weight=0.034166959884154406, subsample=0.7330497193611951 \n",
      "[CV]  colsample_bylevel=0.7246439219040482, colsample_bytree=1.0, gamma=1e-09, learning_rate=0.05501295059685881, max_delta_step=20, max_depth=48, min_child_weight=0, n_estimators=87, reg_alpha=0.00011409552342111378, reg_lambda=4.727494439163992e-05, scale_pos_weight=0.034166959884154406, subsample=0.7330497193611951, score=0.624, total=  27.2s\n",
      "[CV] colsample_bylevel=0.7246439219040482, colsample_bytree=1.0, gamma=1e-09, learning_rate=0.05501295059685881, max_delta_step=20, max_depth=48, min_child_weight=0, n_estimators=87, reg_alpha=0.00011409552342111378, reg_lambda=4.727494439163992e-05, scale_pos_weight=0.034166959884154406, subsample=0.7330497193611951 \n",
      "[CV]  colsample_bylevel=0.7246439219040482, colsample_bytree=1.0, gamma=1e-09, learning_rate=0.05501295059685881, max_delta_step=20, max_depth=48, min_child_weight=0, n_estimators=87, reg_alpha=0.00011409552342111378, reg_lambda=4.727494439163992e-05, scale_pos_weight=0.034166959884154406, subsample=0.7330497193611951, score=0.594, total=  27.3s\n",
      "[CV] colsample_bylevel=0.7246439219040482, colsample_bytree=1.0, gamma=1e-09, learning_rate=0.05501295059685881, max_delta_step=20, max_depth=48, min_child_weight=0, n_estimators=87, reg_alpha=0.00011409552342111378, reg_lambda=4.727494439163992e-05, scale_pos_weight=0.034166959884154406, subsample=0.7330497193611951 \n"
     ]
    },
    {
     "name": "stdout",
     "output_type": "stream",
     "text": [
      "[CV]  colsample_bylevel=0.7246439219040482, colsample_bytree=1.0, gamma=1e-09, learning_rate=0.05501295059685881, max_delta_step=20, max_depth=48, min_child_weight=0, n_estimators=87, reg_alpha=0.00011409552342111378, reg_lambda=4.727494439163992e-05, scale_pos_weight=0.034166959884154406, subsample=0.7330497193611951, score=0.603, total=  26.5s\n",
      "[CV] colsample_bylevel=0.7246439219040482, colsample_bytree=1.0, gamma=1e-09, learning_rate=0.05501295059685881, max_delta_step=20, max_depth=48, min_child_weight=0, n_estimators=87, reg_alpha=0.00011409552342111378, reg_lambda=4.727494439163992e-05, scale_pos_weight=0.034166959884154406, subsample=0.7330497193611951 \n",
      "[CV]  colsample_bylevel=0.7246439219040482, colsample_bytree=1.0, gamma=1e-09, learning_rate=0.05501295059685881, max_delta_step=20, max_depth=48, min_child_weight=0, n_estimators=87, reg_alpha=0.00011409552342111378, reg_lambda=4.727494439163992e-05, scale_pos_weight=0.034166959884154406, subsample=0.7330497193611951, score=0.591, total=  23.3s\n",
      "[CV] colsample_bylevel=0.7246439219040482, colsample_bytree=1.0, gamma=1e-09, learning_rate=0.05501295059685881, max_delta_step=20, max_depth=48, min_child_weight=0, n_estimators=87, reg_alpha=0.00011409552342111378, reg_lambda=4.727494439163992e-05, scale_pos_weight=0.034166959884154406, subsample=0.7330497193611951 \n",
      "[CV]  colsample_bylevel=0.7246439219040482, colsample_bytree=1.0, gamma=1e-09, learning_rate=0.05501295059685881, max_delta_step=20, max_depth=48, min_child_weight=0, n_estimators=87, reg_alpha=0.00011409552342111378, reg_lambda=4.727494439163992e-05, scale_pos_weight=0.034166959884154406, subsample=0.7330497193611951, score=0.605, total=  23.9s\n",
      "[CV] colsample_bylevel=0.5678058670278302, colsample_bytree=0.01, gamma=0.19247791464762232, learning_rate=0.5169317871817761, max_delta_step=5, max_depth=8, min_child_weight=5, n_estimators=172, reg_alpha=3.3686337739360084e-08, reg_lambda=0.006310342202318418, scale_pos_weight=0.608340540724311, subsample=1.0 \n",
      "[CV]  colsample_bylevel=0.5678058670278302, colsample_bytree=0.01, gamma=0.19247791464762232, learning_rate=0.5169317871817761, max_delta_step=5, max_depth=8, min_child_weight=5, n_estimators=172, reg_alpha=3.3686337739360084e-08, reg_lambda=0.006310342202318418, scale_pos_weight=0.608340540724311, subsample=1.0, score=0.621, total=   1.0s\n",
      "[CV] colsample_bylevel=0.5678058670278302, colsample_bytree=0.01, gamma=0.19247791464762232, learning_rate=0.5169317871817761, max_delta_step=5, max_depth=8, min_child_weight=5, n_estimators=172, reg_alpha=3.3686337739360084e-08, reg_lambda=0.006310342202318418, scale_pos_weight=0.608340540724311, subsample=1.0 \n",
      "[CV]  colsample_bylevel=0.5678058670278302, colsample_bytree=0.01, gamma=0.19247791464762232, learning_rate=0.5169317871817761, max_delta_step=5, max_depth=8, min_child_weight=5, n_estimators=172, reg_alpha=3.3686337739360084e-08, reg_lambda=0.006310342202318418, scale_pos_weight=0.608340540724311, subsample=1.0, score=0.659, total=   0.9s\n",
      "[CV] colsample_bylevel=0.5678058670278302, colsample_bytree=0.01, gamma=0.19247791464762232, learning_rate=0.5169317871817761, max_delta_step=5, max_depth=8, min_child_weight=5, n_estimators=172, reg_alpha=3.3686337739360084e-08, reg_lambda=0.006310342202318418, scale_pos_weight=0.608340540724311, subsample=1.0 \n",
      "[CV]  colsample_bylevel=0.5678058670278302, colsample_bytree=0.01, gamma=0.19247791464762232, learning_rate=0.5169317871817761, max_delta_step=5, max_depth=8, min_child_weight=5, n_estimators=172, reg_alpha=3.3686337739360084e-08, reg_lambda=0.006310342202318418, scale_pos_weight=0.608340540724311, subsample=1.0, score=0.629, total=   0.9s\n",
      "[CV] colsample_bylevel=0.5678058670278302, colsample_bytree=0.01, gamma=0.19247791464762232, learning_rate=0.5169317871817761, max_delta_step=5, max_depth=8, min_child_weight=5, n_estimators=172, reg_alpha=3.3686337739360084e-08, reg_lambda=0.006310342202318418, scale_pos_weight=0.608340540724311, subsample=1.0 \n",
      "[CV]  colsample_bylevel=0.5678058670278302, colsample_bytree=0.01, gamma=0.19247791464762232, learning_rate=0.5169317871817761, max_delta_step=5, max_depth=8, min_child_weight=5, n_estimators=172, reg_alpha=3.3686337739360084e-08, reg_lambda=0.006310342202318418, scale_pos_weight=0.608340540724311, subsample=1.0, score=0.635, total=   0.9s\n",
      "[CV] colsample_bylevel=0.5678058670278302, colsample_bytree=0.01, gamma=0.19247791464762232, learning_rate=0.5169317871817761, max_delta_step=5, max_depth=8, min_child_weight=5, n_estimators=172, reg_alpha=3.3686337739360084e-08, reg_lambda=0.006310342202318418, scale_pos_weight=0.608340540724311, subsample=1.0 \n",
      "[CV]  colsample_bylevel=0.5678058670278302, colsample_bytree=0.01, gamma=0.19247791464762232, learning_rate=0.5169317871817761, max_delta_step=5, max_depth=8, min_child_weight=5, n_estimators=172, reg_alpha=3.3686337739360084e-08, reg_lambda=0.006310342202318418, scale_pos_weight=0.608340540724311, subsample=1.0, score=0.634, total=   1.0s\n",
      "[CV] colsample_bylevel=0.9525728560861388, colsample_bytree=0.01, gamma=1.7802277860041718e-06, learning_rate=0.04759102838664807, max_delta_step=18, max_depth=5, min_child_weight=5, n_estimators=84, reg_alpha=7.956960245908304e-05, reg_lambda=6.24317524094634, scale_pos_weight=3.0038464656644236e-05, subsample=1.0 \n",
      "[CV]  colsample_bylevel=0.9525728560861388, colsample_bytree=0.01, gamma=1.7802277860041718e-06, learning_rate=0.04759102838664807, max_delta_step=18, max_depth=5, min_child_weight=5, n_estimators=84, reg_alpha=7.956960245908304e-05, reg_lambda=6.24317524094634, scale_pos_weight=3.0038464656644236e-05, subsample=1.0, score=0.565, total=   0.6s\n",
      "[CV] colsample_bylevel=0.9525728560861388, colsample_bytree=0.01, gamma=1.7802277860041718e-06, learning_rate=0.04759102838664807, max_delta_step=18, max_depth=5, min_child_weight=5, n_estimators=84, reg_alpha=7.956960245908304e-05, reg_lambda=6.24317524094634, scale_pos_weight=3.0038464656644236e-05, subsample=1.0 \n",
      "[CV]  colsample_bylevel=0.9525728560861388, colsample_bytree=0.01, gamma=1.7802277860041718e-06, learning_rate=0.04759102838664807, max_delta_step=18, max_depth=5, min_child_weight=5, n_estimators=84, reg_alpha=7.956960245908304e-05, reg_lambda=6.24317524094634, scale_pos_weight=3.0038464656644236e-05, subsample=1.0, score=0.565, total=   0.6s\n",
      "[CV] colsample_bylevel=0.9525728560861388, colsample_bytree=0.01, gamma=1.7802277860041718e-06, learning_rate=0.04759102838664807, max_delta_step=18, max_depth=5, min_child_weight=5, n_estimators=84, reg_alpha=7.956960245908304e-05, reg_lambda=6.24317524094634, scale_pos_weight=3.0038464656644236e-05, subsample=1.0 \n",
      "[CV]  colsample_bylevel=0.9525728560861388, colsample_bytree=0.01, gamma=1.7802277860041718e-06, learning_rate=0.04759102838664807, max_delta_step=18, max_depth=5, min_child_weight=5, n_estimators=84, reg_alpha=7.956960245908304e-05, reg_lambda=6.24317524094634, scale_pos_weight=3.0038464656644236e-05, subsample=1.0, score=0.565, total=   0.6s\n",
      "[CV] colsample_bylevel=0.9525728560861388, colsample_bytree=0.01, gamma=1.7802277860041718e-06, learning_rate=0.04759102838664807, max_delta_step=18, max_depth=5, min_child_weight=5, n_estimators=84, reg_alpha=7.956960245908304e-05, reg_lambda=6.24317524094634, scale_pos_weight=3.0038464656644236e-05, subsample=1.0 \n",
      "[CV]  colsample_bylevel=0.9525728560861388, colsample_bytree=0.01, gamma=1.7802277860041718e-06, learning_rate=0.04759102838664807, max_delta_step=18, max_depth=5, min_child_weight=5, n_estimators=84, reg_alpha=7.956960245908304e-05, reg_lambda=6.24317524094634, scale_pos_weight=3.0038464656644236e-05, subsample=1.0, score=0.565, total=   0.6s\n",
      "[CV] colsample_bylevel=0.9525728560861388, colsample_bytree=0.01, gamma=1.7802277860041718e-06, learning_rate=0.04759102838664807, max_delta_step=18, max_depth=5, min_child_weight=5, n_estimators=84, reg_alpha=7.956960245908304e-05, reg_lambda=6.24317524094634, scale_pos_weight=3.0038464656644236e-05, subsample=1.0 \n",
      "[CV]  colsample_bylevel=0.9525728560861388, colsample_bytree=0.01, gamma=1.7802277860041718e-06, learning_rate=0.04759102838664807, max_delta_step=18, max_depth=5, min_child_weight=5, n_estimators=84, reg_alpha=7.956960245908304e-05, reg_lambda=6.24317524094634, scale_pos_weight=3.0038464656644236e-05, subsample=1.0, score=0.563, total=   0.6s\n",
      "[CV] colsample_bylevel=0.01, colsample_bytree=1.0, gamma=0.437501851140128, learning_rate=0.013936522930726815, max_delta_step=17, max_depth=25, min_child_weight=0, n_estimators=102, reg_alpha=5.77250558549279e-06, reg_lambda=1.105158854227565e-09, scale_pos_weight=0.006108704821532099, subsample=1.0 \n"
     ]
    },
    {
     "name": "stdout",
     "output_type": "stream",
     "text": [
      "[CV]  colsample_bylevel=0.01, colsample_bytree=1.0, gamma=0.437501851140128, learning_rate=0.013936522930726815, max_delta_step=17, max_depth=25, min_child_weight=0, n_estimators=102, reg_alpha=5.77250558549279e-06, reg_lambda=1.105158854227565e-09, scale_pos_weight=0.006108704821532099, subsample=1.0, score=0.565, total=   1.3s\n",
      "[CV] colsample_bylevel=0.01, colsample_bytree=1.0, gamma=0.437501851140128, learning_rate=0.013936522930726815, max_delta_step=17, max_depth=25, min_child_weight=0, n_estimators=102, reg_alpha=5.77250558549279e-06, reg_lambda=1.105158854227565e-09, scale_pos_weight=0.006108704821532099, subsample=1.0 \n",
      "[CV]  colsample_bylevel=0.01, colsample_bytree=1.0, gamma=0.437501851140128, learning_rate=0.013936522930726815, max_delta_step=17, max_depth=25, min_child_weight=0, n_estimators=102, reg_alpha=5.77250558549279e-06, reg_lambda=1.105158854227565e-09, scale_pos_weight=0.006108704821532099, subsample=1.0, score=0.565, total=   1.2s\n",
      "[CV] colsample_bylevel=0.01, colsample_bytree=1.0, gamma=0.437501851140128, learning_rate=0.013936522930726815, max_delta_step=17, max_depth=25, min_child_weight=0, n_estimators=102, reg_alpha=5.77250558549279e-06, reg_lambda=1.105158854227565e-09, scale_pos_weight=0.006108704821532099, subsample=1.0 \n",
      "[CV]  colsample_bylevel=0.01, colsample_bytree=1.0, gamma=0.437501851140128, learning_rate=0.013936522930726815, max_delta_step=17, max_depth=25, min_child_weight=0, n_estimators=102, reg_alpha=5.77250558549279e-06, reg_lambda=1.105158854227565e-09, scale_pos_weight=0.006108704821532099, subsample=1.0, score=0.565, total=   1.2s\n",
      "[CV] colsample_bylevel=0.01, colsample_bytree=1.0, gamma=0.437501851140128, learning_rate=0.013936522930726815, max_delta_step=17, max_depth=25, min_child_weight=0, n_estimators=102, reg_alpha=5.77250558549279e-06, reg_lambda=1.105158854227565e-09, scale_pos_weight=0.006108704821532099, subsample=1.0 \n",
      "[CV]  colsample_bylevel=0.01, colsample_bytree=1.0, gamma=0.437501851140128, learning_rate=0.013936522930726815, max_delta_step=17, max_depth=25, min_child_weight=0, n_estimators=102, reg_alpha=5.77250558549279e-06, reg_lambda=1.105158854227565e-09, scale_pos_weight=0.006108704821532099, subsample=1.0, score=0.565, total=   1.2s\n",
      "[CV] colsample_bylevel=0.01, colsample_bytree=1.0, gamma=0.437501851140128, learning_rate=0.013936522930726815, max_delta_step=17, max_depth=25, min_child_weight=0, n_estimators=102, reg_alpha=5.77250558549279e-06, reg_lambda=1.105158854227565e-09, scale_pos_weight=0.006108704821532099, subsample=1.0 \n",
      "[CV]  colsample_bylevel=0.01, colsample_bytree=1.0, gamma=0.437501851140128, learning_rate=0.013936522930726815, max_delta_step=17, max_depth=25, min_child_weight=0, n_estimators=102, reg_alpha=5.77250558549279e-06, reg_lambda=1.105158854227565e-09, scale_pos_weight=0.006108704821532099, subsample=1.0, score=0.563, total=   1.2s\n",
      "[CV] colsample_bylevel=0.35891875773969184, colsample_bytree=0.01, gamma=0.0006429348008268685, learning_rate=0.019422584004424728, max_delta_step=1, max_depth=6, min_child_weight=5, n_estimators=193, reg_alpha=6.964750475622426e-08, reg_lambda=0.19723004931123717, scale_pos_weight=0.010094634496748849, subsample=1.0 \n",
      "[CV]  colsample_bylevel=0.35891875773969184, colsample_bytree=0.01, gamma=0.0006429348008268685, learning_rate=0.019422584004424728, max_delta_step=1, max_depth=6, min_child_weight=5, n_estimators=193, reg_alpha=6.964750475622426e-08, reg_lambda=0.19723004931123717, scale_pos_weight=0.010094634496748849, subsample=1.0, score=0.565, total=   1.0s\n",
      "[CV] colsample_bylevel=0.35891875773969184, colsample_bytree=0.01, gamma=0.0006429348008268685, learning_rate=0.019422584004424728, max_delta_step=1, max_depth=6, min_child_weight=5, n_estimators=193, reg_alpha=6.964750475622426e-08, reg_lambda=0.19723004931123717, scale_pos_weight=0.010094634496748849, subsample=1.0 \n",
      "[CV]  colsample_bylevel=0.35891875773969184, colsample_bytree=0.01, gamma=0.0006429348008268685, learning_rate=0.019422584004424728, max_delta_step=1, max_depth=6, min_child_weight=5, n_estimators=193, reg_alpha=6.964750475622426e-08, reg_lambda=0.19723004931123717, scale_pos_weight=0.010094634496748849, subsample=1.0, score=0.565, total=   1.0s\n",
      "[CV] colsample_bylevel=0.35891875773969184, colsample_bytree=0.01, gamma=0.0006429348008268685, learning_rate=0.019422584004424728, max_delta_step=1, max_depth=6, min_child_weight=5, n_estimators=193, reg_alpha=6.964750475622426e-08, reg_lambda=0.19723004931123717, scale_pos_weight=0.010094634496748849, subsample=1.0 \n",
      "[CV]  colsample_bylevel=0.35891875773969184, colsample_bytree=0.01, gamma=0.0006429348008268685, learning_rate=0.019422584004424728, max_delta_step=1, max_depth=6, min_child_weight=5, n_estimators=193, reg_alpha=6.964750475622426e-08, reg_lambda=0.19723004931123717, scale_pos_weight=0.010094634496748849, subsample=1.0, score=0.565, total=   1.0s\n",
      "[CV] colsample_bylevel=0.35891875773969184, colsample_bytree=0.01, gamma=0.0006429348008268685, learning_rate=0.019422584004424728, max_delta_step=1, max_depth=6, min_child_weight=5, n_estimators=193, reg_alpha=6.964750475622426e-08, reg_lambda=0.19723004931123717, scale_pos_weight=0.010094634496748849, subsample=1.0 \n",
      "[CV]  colsample_bylevel=0.35891875773969184, colsample_bytree=0.01, gamma=0.0006429348008268685, learning_rate=0.019422584004424728, max_delta_step=1, max_depth=6, min_child_weight=5, n_estimators=193, reg_alpha=6.964750475622426e-08, reg_lambda=0.19723004931123717, scale_pos_weight=0.010094634496748849, subsample=1.0, score=0.565, total=   1.0s\n",
      "[CV] colsample_bylevel=0.35891875773969184, colsample_bytree=0.01, gamma=0.0006429348008268685, learning_rate=0.019422584004424728, max_delta_step=1, max_depth=6, min_child_weight=5, n_estimators=193, reg_alpha=6.964750475622426e-08, reg_lambda=0.19723004931123717, scale_pos_weight=0.010094634496748849, subsample=1.0 \n",
      "[CV]  colsample_bylevel=0.35891875773969184, colsample_bytree=0.01, gamma=0.0006429348008268685, learning_rate=0.019422584004424728, max_delta_step=1, max_depth=6, min_child_weight=5, n_estimators=193, reg_alpha=6.964750475622426e-08, reg_lambda=0.19723004931123717, scale_pos_weight=0.010094634496748849, subsample=1.0, score=0.563, total=   1.0s\n",
      "[CV] colsample_bylevel=0.44096703883242294, colsample_bytree=0.8268630682606696, gamma=1e-09, learning_rate=0.06746615257311514, max_delta_step=5, max_depth=29, min_child_weight=0, n_estimators=50, reg_alpha=2.231850900914501e-06, reg_lambda=0.0030666521774482744, scale_pos_weight=0.018896129240278503, subsample=1.0 \n",
      "[CV]  colsample_bylevel=0.44096703883242294, colsample_bytree=0.8268630682606696, gamma=1e-09, learning_rate=0.06746615257311514, max_delta_step=5, max_depth=29, min_child_weight=0, n_estimators=50, reg_alpha=2.231850900914501e-06, reg_lambda=0.0030666521774482744, scale_pos_weight=0.018896129240278503, subsample=1.0, score=0.615, total=   4.8s\n",
      "[CV] colsample_bylevel=0.44096703883242294, colsample_bytree=0.8268630682606696, gamma=1e-09, learning_rate=0.06746615257311514, max_delta_step=5, max_depth=29, min_child_weight=0, n_estimators=50, reg_alpha=2.231850900914501e-06, reg_lambda=0.0030666521774482744, scale_pos_weight=0.018896129240278503, subsample=1.0 \n",
      "[CV]  colsample_bylevel=0.44096703883242294, colsample_bytree=0.8268630682606696, gamma=1e-09, learning_rate=0.06746615257311514, max_delta_step=5, max_depth=29, min_child_weight=0, n_estimators=50, reg_alpha=2.231850900914501e-06, reg_lambda=0.0030666521774482744, scale_pos_weight=0.018896129240278503, subsample=1.0, score=0.579, total=   5.3s\n",
      "[CV] colsample_bylevel=0.44096703883242294, colsample_bytree=0.8268630682606696, gamma=1e-09, learning_rate=0.06746615257311514, max_delta_step=5, max_depth=29, min_child_weight=0, n_estimators=50, reg_alpha=2.231850900914501e-06, reg_lambda=0.0030666521774482744, scale_pos_weight=0.018896129240278503, subsample=1.0 \n",
      "[CV]  colsample_bylevel=0.44096703883242294, colsample_bytree=0.8268630682606696, gamma=1e-09, learning_rate=0.06746615257311514, max_delta_step=5, max_depth=29, min_child_weight=0, n_estimators=50, reg_alpha=2.231850900914501e-06, reg_lambda=0.0030666521774482744, scale_pos_weight=0.018896129240278503, subsample=1.0, score=0.609, total=   5.4s\n",
      "[CV] colsample_bylevel=0.44096703883242294, colsample_bytree=0.8268630682606696, gamma=1e-09, learning_rate=0.06746615257311514, max_delta_step=5, max_depth=29, min_child_weight=0, n_estimators=50, reg_alpha=2.231850900914501e-06, reg_lambda=0.0030666521774482744, scale_pos_weight=0.018896129240278503, subsample=1.0 \n"
     ]
    },
    {
     "name": "stdout",
     "output_type": "stream",
     "text": [
      "[CV]  colsample_bylevel=0.44096703883242294, colsample_bytree=0.8268630682606696, gamma=1e-09, learning_rate=0.06746615257311514, max_delta_step=5, max_depth=29, min_child_weight=0, n_estimators=50, reg_alpha=2.231850900914501e-06, reg_lambda=0.0030666521774482744, scale_pos_weight=0.018896129240278503, subsample=1.0, score=0.576, total=   5.4s\n",
      "[CV] colsample_bylevel=0.44096703883242294, colsample_bytree=0.8268630682606696, gamma=1e-09, learning_rate=0.06746615257311514, max_delta_step=5, max_depth=29, min_child_weight=0, n_estimators=50, reg_alpha=2.231850900914501e-06, reg_lambda=0.0030666521774482744, scale_pos_weight=0.018896129240278503, subsample=1.0 \n",
      "[CV]  colsample_bylevel=0.44096703883242294, colsample_bytree=0.8268630682606696, gamma=1e-09, learning_rate=0.06746615257311514, max_delta_step=5, max_depth=29, min_child_weight=0, n_estimators=50, reg_alpha=2.231850900914501e-06, reg_lambda=0.0030666521774482744, scale_pos_weight=0.018896129240278503, subsample=1.0, score=0.599, total=   5.4s\n",
      "[CV] colsample_bylevel=0.6407032496469566, colsample_bytree=0.01, gamma=2.5865788743663305e-09, learning_rate=0.019447890258425034, max_delta_step=4, max_depth=6, min_child_weight=0, n_estimators=70, reg_alpha=7.138383124695297e-08, reg_lambda=2.156961311892106, scale_pos_weight=7.345162170178724e-06, subsample=1.0 \n",
      "[CV]  colsample_bylevel=0.6407032496469566, colsample_bytree=0.01, gamma=2.5865788743663305e-09, learning_rate=0.019447890258425034, max_delta_step=4, max_depth=6, min_child_weight=0, n_estimators=70, reg_alpha=7.138383124695297e-08, reg_lambda=2.156961311892106, scale_pos_weight=7.345162170178724e-06, subsample=1.0, score=0.565, total=   0.7s\n",
      "[CV] colsample_bylevel=0.6407032496469566, colsample_bytree=0.01, gamma=2.5865788743663305e-09, learning_rate=0.019447890258425034, max_delta_step=4, max_depth=6, min_child_weight=0, n_estimators=70, reg_alpha=7.138383124695297e-08, reg_lambda=2.156961311892106, scale_pos_weight=7.345162170178724e-06, subsample=1.0 \n",
      "[CV]  colsample_bylevel=0.6407032496469566, colsample_bytree=0.01, gamma=2.5865788743663305e-09, learning_rate=0.019447890258425034, max_delta_step=4, max_depth=6, min_child_weight=0, n_estimators=70, reg_alpha=7.138383124695297e-08, reg_lambda=2.156961311892106, scale_pos_weight=7.345162170178724e-06, subsample=1.0, score=0.565, total=   0.6s\n",
      "[CV] colsample_bylevel=0.6407032496469566, colsample_bytree=0.01, gamma=2.5865788743663305e-09, learning_rate=0.019447890258425034, max_delta_step=4, max_depth=6, min_child_weight=0, n_estimators=70, reg_alpha=7.138383124695297e-08, reg_lambda=2.156961311892106, scale_pos_weight=7.345162170178724e-06, subsample=1.0 \n",
      "[CV]  colsample_bylevel=0.6407032496469566, colsample_bytree=0.01, gamma=2.5865788743663305e-09, learning_rate=0.019447890258425034, max_delta_step=4, max_depth=6, min_child_weight=0, n_estimators=70, reg_alpha=7.138383124695297e-08, reg_lambda=2.156961311892106, scale_pos_weight=7.345162170178724e-06, subsample=1.0, score=0.565, total=   0.6s\n",
      "[CV] colsample_bylevel=0.6407032496469566, colsample_bytree=0.01, gamma=2.5865788743663305e-09, learning_rate=0.019447890258425034, max_delta_step=4, max_depth=6, min_child_weight=0, n_estimators=70, reg_alpha=7.138383124695297e-08, reg_lambda=2.156961311892106, scale_pos_weight=7.345162170178724e-06, subsample=1.0 \n",
      "[CV]  colsample_bylevel=0.6407032496469566, colsample_bytree=0.01, gamma=2.5865788743663305e-09, learning_rate=0.019447890258425034, max_delta_step=4, max_depth=6, min_child_weight=0, n_estimators=70, reg_alpha=7.138383124695297e-08, reg_lambda=2.156961311892106, scale_pos_weight=7.345162170178724e-06, subsample=1.0, score=0.565, total=   0.7s\n",
      "[CV] colsample_bylevel=0.6407032496469566, colsample_bytree=0.01, gamma=2.5865788743663305e-09, learning_rate=0.019447890258425034, max_delta_step=4, max_depth=6, min_child_weight=0, n_estimators=70, reg_alpha=7.138383124695297e-08, reg_lambda=2.156961311892106, scale_pos_weight=7.345162170178724e-06, subsample=1.0 \n",
      "[CV]  colsample_bylevel=0.6407032496469566, colsample_bytree=0.01, gamma=2.5865788743663305e-09, learning_rate=0.019447890258425034, max_delta_step=4, max_depth=6, min_child_weight=0, n_estimators=70, reg_alpha=7.138383124695297e-08, reg_lambda=2.156961311892106, scale_pos_weight=7.345162170178724e-06, subsample=1.0, score=0.563, total=   0.6s\n"
     ]
    },
    {
     "name": "stderr",
     "output_type": "stream",
     "text": [
      "[Parallel(n_jobs=1)]: Done  60 out of  60 | elapsed:  6.1min finished\n"
     ]
    },
    {
     "name": "stdout",
     "output_type": "stream",
     "text": [
      "best score: 0.6621542083578575\n"
     ]
    },
    {
     "name": "stderr",
     "output_type": "stream",
     "text": [
      "/home/chris/anaconda3/lib/python3.8/site-packages/sklearn/preprocessing/_label.py:235: DataConversionWarning: A column-vector y was passed when a 1d array was expected. Please change the shape of y to (n_samples, ), for example using ravel().\n",
      "  y = column_or_1d(y, warn=True)\n",
      "/home/chris/anaconda3/lib/python3.8/site-packages/sklearn/preprocessing/_label.py:268: DataConversionWarning: A column-vector y was passed when a 1d array was expected. Please change the shape of y to (n_samples, ), for example using ravel().\n",
      "  y = column_or_1d(y, warn=True)\n"
     ]
    },
    {
     "name": "stdout",
     "output_type": "stream",
     "text": [
      "BEST PARAMS ARE HERE\n",
      "OrderedDict([('colsample_bylevel', 0.7972804521897102), ('colsample_bytree', 0.968302011924281), ('gamma', 4.804889894325819e-06), ('learning_rate', 0.2942041571820646), ('max_delta_step', 12), ('max_depth', 18), ('min_child_weight', 0), ('n_estimators', 134), ('reg_alpha', 2.313708432639934e-06), ('reg_lambda', 7.83241725696928e-09), ('scale_pos_weight', 1.6402286350993756), ('subsample', 0.944995926793594)])\n",
      "X_train shape: (1699, 2784)\n",
      "X_test shape: (425, 2784)\n",
      "y_train shape: (1699, 1)\n",
      "y_test shape: (425, 1)\n",
      "Fitting 5 folds for each of 12 candidates, totalling 60 fits\n",
      "[CV] colsample_bylevel=0.4160029192647807, colsample_bytree=0.7304484857455519, gamma=0.13031389926541354, learning_rate=0.042815319280763466, max_delta_step=13, max_depth=21, min_child_weight=2, n_estimators=161, reg_alpha=5.497557739289786e-07, reg_lambda=0.05936070635912049, scale_pos_weight=0.060830282487222144, subsample=0.13556548021189216 \n"
     ]
    },
    {
     "name": "stderr",
     "output_type": "stream",
     "text": [
      "[Parallel(n_jobs=1)]: Using backend SequentialBackend with 1 concurrent workers.\n"
     ]
    },
    {
     "name": "stdout",
     "output_type": "stream",
     "text": [
      "[CV]  colsample_bylevel=0.4160029192647807, colsample_bytree=0.7304484857455519, gamma=0.13031389926541354, learning_rate=0.042815319280763466, max_delta_step=13, max_depth=21, min_child_weight=2, n_estimators=161, reg_alpha=5.497557739289786e-07, reg_lambda=0.05936070635912049, scale_pos_weight=0.060830282487222144, subsample=0.13556548021189216, score=-0.050, total=   4.1s\n",
      "[CV] colsample_bylevel=0.4160029192647807, colsample_bytree=0.7304484857455519, gamma=0.13031389926541354, learning_rate=0.042815319280763466, max_delta_step=13, max_depth=21, min_child_weight=2, n_estimators=161, reg_alpha=5.497557739289786e-07, reg_lambda=0.05936070635912049, scale_pos_weight=0.060830282487222144, subsample=0.13556548021189216 \n"
     ]
    },
    {
     "name": "stderr",
     "output_type": "stream",
     "text": [
      "[Parallel(n_jobs=1)]: Done   1 out of   1 | elapsed:    4.1s remaining:    0.0s\n"
     ]
    },
    {
     "name": "stdout",
     "output_type": "stream",
     "text": [
      "[CV]  colsample_bylevel=0.4160029192647807, colsample_bytree=0.7304484857455519, gamma=0.13031389926541354, learning_rate=0.042815319280763466, max_delta_step=13, max_depth=21, min_child_weight=2, n_estimators=161, reg_alpha=5.497557739289786e-07, reg_lambda=0.05936070635912049, scale_pos_weight=0.060830282487222144, subsample=0.13556548021189216, score=-0.128, total=   4.1s\n",
      "[CV] colsample_bylevel=0.4160029192647807, colsample_bytree=0.7304484857455519, gamma=0.13031389926541354, learning_rate=0.042815319280763466, max_delta_step=13, max_depth=21, min_child_weight=2, n_estimators=161, reg_alpha=5.497557739289786e-07, reg_lambda=0.05936070635912049, scale_pos_weight=0.060830282487222144, subsample=0.13556548021189216 \n"
     ]
    },
    {
     "name": "stderr",
     "output_type": "stream",
     "text": [
      "[Parallel(n_jobs=1)]: Done   2 out of   2 | elapsed:    8.2s remaining:    0.0s\n"
     ]
    },
    {
     "name": "stdout",
     "output_type": "stream",
     "text": [
      "[CV]  colsample_bylevel=0.4160029192647807, colsample_bytree=0.7304484857455519, gamma=0.13031389926541354, learning_rate=0.042815319280763466, max_delta_step=13, max_depth=21, min_child_weight=2, n_estimators=161, reg_alpha=5.497557739289786e-07, reg_lambda=0.05936070635912049, scale_pos_weight=0.060830282487222144, subsample=0.13556548021189216, score=-0.122, total=   4.2s\n",
      "[CV] colsample_bylevel=0.4160029192647807, colsample_bytree=0.7304484857455519, gamma=0.13031389926541354, learning_rate=0.042815319280763466, max_delta_step=13, max_depth=21, min_child_weight=2, n_estimators=161, reg_alpha=5.497557739289786e-07, reg_lambda=0.05936070635912049, scale_pos_weight=0.060830282487222144, subsample=0.13556548021189216 \n",
      "[CV]  colsample_bylevel=0.4160029192647807, colsample_bytree=0.7304484857455519, gamma=0.13031389926541354, learning_rate=0.042815319280763466, max_delta_step=13, max_depth=21, min_child_weight=2, n_estimators=161, reg_alpha=5.497557739289786e-07, reg_lambda=0.05936070635912049, scale_pos_weight=0.060830282487222144, subsample=0.13556548021189216, score=-0.027, total=   4.1s\n",
      "[CV] colsample_bylevel=0.4160029192647807, colsample_bytree=0.7304484857455519, gamma=0.13031389926541354, learning_rate=0.042815319280763466, max_delta_step=13, max_depth=21, min_child_weight=2, n_estimators=161, reg_alpha=5.497557739289786e-07, reg_lambda=0.05936070635912049, scale_pos_weight=0.060830282487222144, subsample=0.13556548021189216 \n",
      "[CV]  colsample_bylevel=0.4160029192647807, colsample_bytree=0.7304484857455519, gamma=0.13031389926541354, learning_rate=0.042815319280763466, max_delta_step=13, max_depth=21, min_child_weight=2, n_estimators=161, reg_alpha=5.497557739289786e-07, reg_lambda=0.05936070635912049, scale_pos_weight=0.060830282487222144, subsample=0.13556548021189216, score=-0.110, total=   4.2s\n",
      "[CV] colsample_bylevel=0.18630307921210337, colsample_bytree=0.6357746718688816, gamma=4.759632988007942e-09, learning_rate=0.21560448660617149, max_delta_step=14, max_depth=39, min_child_weight=0, n_estimators=198, reg_alpha=1.307103676304351e-05, reg_lambda=1.1326211354138217e-09, scale_pos_weight=22.356393886375308, subsample=0.7121579996266859 \n",
      "[CV]  colsample_bylevel=0.18630307921210337, colsample_bytree=0.6357746718688816, gamma=4.759632988007942e-09, learning_rate=0.21560448660617149, max_delta_step=14, max_depth=39, min_child_weight=0, n_estimators=198, reg_alpha=1.307103676304351e-05, reg_lambda=1.1326211354138217e-09, scale_pos_weight=22.356393886375308, subsample=0.7121579996266859, score=-0.103, total=   6.4s\n",
      "[CV] colsample_bylevel=0.18630307921210337, colsample_bytree=0.6357746718688816, gamma=4.759632988007942e-09, learning_rate=0.21560448660617149, max_delta_step=14, max_depth=39, min_child_weight=0, n_estimators=198, reg_alpha=1.307103676304351e-05, reg_lambda=1.1326211354138217e-09, scale_pos_weight=22.356393886375308, subsample=0.7121579996266859 \n",
      "[CV]  colsample_bylevel=0.18630307921210337, colsample_bytree=0.6357746718688816, gamma=4.759632988007942e-09, learning_rate=0.21560448660617149, max_delta_step=14, max_depth=39, min_child_weight=0, n_estimators=198, reg_alpha=1.307103676304351e-05, reg_lambda=1.1326211354138217e-09, scale_pos_weight=22.356393886375308, subsample=0.7121579996266859, score=-0.073, total=   6.4s\n",
      "[CV] colsample_bylevel=0.18630307921210337, colsample_bytree=0.6357746718688816, gamma=4.759632988007942e-09, learning_rate=0.21560448660617149, max_delta_step=14, max_depth=39, min_child_weight=0, n_estimators=198, reg_alpha=1.307103676304351e-05, reg_lambda=1.1326211354138217e-09, scale_pos_weight=22.356393886375308, subsample=0.7121579996266859 \n",
      "[CV]  colsample_bylevel=0.18630307921210337, colsample_bytree=0.6357746718688816, gamma=4.759632988007942e-09, learning_rate=0.21560448660617149, max_delta_step=14, max_depth=39, min_child_weight=0, n_estimators=198, reg_alpha=1.307103676304351e-05, reg_lambda=1.1326211354138217e-09, scale_pos_weight=22.356393886375308, subsample=0.7121579996266859, score=-0.124, total=   6.1s\n",
      "[CV] colsample_bylevel=0.18630307921210337, colsample_bytree=0.6357746718688816, gamma=4.759632988007942e-09, learning_rate=0.21560448660617149, max_delta_step=14, max_depth=39, min_child_weight=0, n_estimators=198, reg_alpha=1.307103676304351e-05, reg_lambda=1.1326211354138217e-09, scale_pos_weight=22.356393886375308, subsample=0.7121579996266859 \n",
      "[CV]  colsample_bylevel=0.18630307921210337, colsample_bytree=0.6357746718688816, gamma=4.759632988007942e-09, learning_rate=0.21560448660617149, max_delta_step=14, max_depth=39, min_child_weight=0, n_estimators=198, reg_alpha=1.307103676304351e-05, reg_lambda=1.1326211354138217e-09, scale_pos_weight=22.356393886375308, subsample=0.7121579996266859, score=-0.055, total=   6.5s\n",
      "[CV] colsample_bylevel=0.18630307921210337, colsample_bytree=0.6357746718688816, gamma=4.759632988007942e-09, learning_rate=0.21560448660617149, max_delta_step=14, max_depth=39, min_child_weight=0, n_estimators=198, reg_alpha=1.307103676304351e-05, reg_lambda=1.1326211354138217e-09, scale_pos_weight=22.356393886375308, subsample=0.7121579996266859 \n",
      "[CV]  colsample_bylevel=0.18630307921210337, colsample_bytree=0.6357746718688816, gamma=4.759632988007942e-09, learning_rate=0.21560448660617149, max_delta_step=14, max_depth=39, min_child_weight=0, n_estimators=198, reg_alpha=1.307103676304351e-05, reg_lambda=1.1326211354138217e-09, scale_pos_weight=22.356393886375308, subsample=0.7121579996266859, score=-0.034, total=   6.3s\n",
      "[CV] colsample_bylevel=0.25617325301227906, colsample_bytree=0.7083937150495909, gamma=2.41812432168581e-07, learning_rate=0.13965555720269418, max_delta_step=10, max_depth=27, min_child_weight=1, n_estimators=76, reg_alpha=3.178148842971562e-08, reg_lambda=0.005381781269387993, scale_pos_weight=0.23835043249575294, subsample=0.9559763235078597 \n",
      "[CV]  colsample_bylevel=0.25617325301227906, colsample_bytree=0.7083937150495909, gamma=2.41812432168581e-07, learning_rate=0.13965555720269418, max_delta_step=10, max_depth=27, min_child_weight=1, n_estimators=76, reg_alpha=3.178148842971562e-08, reg_lambda=0.005381781269387993, scale_pos_weight=0.23835043249575294, subsample=0.9559763235078597, score=0.026, total=   4.2s\n",
      "[CV] colsample_bylevel=0.25617325301227906, colsample_bytree=0.7083937150495909, gamma=2.41812432168581e-07, learning_rate=0.13965555720269418, max_delta_step=10, max_depth=27, min_child_weight=1, n_estimators=76, reg_alpha=3.178148842971562e-08, reg_lambda=0.005381781269387993, scale_pos_weight=0.23835043249575294, subsample=0.9559763235078597 \n",
      "[CV]  colsample_bylevel=0.25617325301227906, colsample_bytree=0.7083937150495909, gamma=2.41812432168581e-07, learning_rate=0.13965555720269418, max_delta_step=10, max_depth=27, min_child_weight=1, n_estimators=76, reg_alpha=3.178148842971562e-08, reg_lambda=0.005381781269387993, scale_pos_weight=0.23835043249575294, subsample=0.9559763235078597, score=-0.057, total=   4.0s\n",
      "[CV] colsample_bylevel=0.25617325301227906, colsample_bytree=0.7083937150495909, gamma=2.41812432168581e-07, learning_rate=0.13965555720269418, max_delta_step=10, max_depth=27, min_child_weight=1, n_estimators=76, reg_alpha=3.178148842971562e-08, reg_lambda=0.005381781269387993, scale_pos_weight=0.23835043249575294, subsample=0.9559763235078597 \n",
      "[CV]  colsample_bylevel=0.25617325301227906, colsample_bytree=0.7083937150495909, gamma=2.41812432168581e-07, learning_rate=0.13965555720269418, max_delta_step=10, max_depth=27, min_child_weight=1, n_estimators=76, reg_alpha=3.178148842971562e-08, reg_lambda=0.005381781269387993, scale_pos_weight=0.23835043249575294, subsample=0.9559763235078597, score=-0.017, total=   4.1s\n",
      "[CV] colsample_bylevel=0.25617325301227906, colsample_bytree=0.7083937150495909, gamma=2.41812432168581e-07, learning_rate=0.13965555720269418, max_delta_step=10, max_depth=27, min_child_weight=1, n_estimators=76, reg_alpha=3.178148842971562e-08, reg_lambda=0.005381781269387993, scale_pos_weight=0.23835043249575294, subsample=0.9559763235078597 \n",
      "[CV]  colsample_bylevel=0.25617325301227906, colsample_bytree=0.7083937150495909, gamma=2.41812432168581e-07, learning_rate=0.13965555720269418, max_delta_step=10, max_depth=27, min_child_weight=1, n_estimators=76, reg_alpha=3.178148842971562e-08, reg_lambda=0.005381781269387993, scale_pos_weight=0.23835043249575294, subsample=0.9559763235078597, score=0.028, total=   4.0s\n",
      "[CV] colsample_bylevel=0.25617325301227906, colsample_bytree=0.7083937150495909, gamma=2.41812432168581e-07, learning_rate=0.13965555720269418, max_delta_step=10, max_depth=27, min_child_weight=1, n_estimators=76, reg_alpha=3.178148842971562e-08, reg_lambda=0.005381781269387993, scale_pos_weight=0.23835043249575294, subsample=0.9559763235078597 \n"
     ]
    },
    {
     "name": "stdout",
     "output_type": "stream",
     "text": [
      "[CV]  colsample_bylevel=0.25617325301227906, colsample_bytree=0.7083937150495909, gamma=2.41812432168581e-07, learning_rate=0.13965555720269418, max_delta_step=10, max_depth=27, min_child_weight=1, n_estimators=76, reg_alpha=3.178148842971562e-08, reg_lambda=0.005381781269387993, scale_pos_weight=0.23835043249575294, subsample=0.9559763235078597, score=0.005, total=   4.1s\n",
      "[CV] colsample_bylevel=0.7711308526006485, colsample_bytree=0.07988300914246868, gamma=1.3877597085692663e-08, learning_rate=0.15021004353467043, max_delta_step=6, max_depth=3, min_child_weight=3, n_estimators=77, reg_alpha=0.006097622112520179, reg_lambda=1.9368851099909265e-09, scale_pos_weight=6.97020795804701e-06, subsample=0.46717487628832827 \n",
      "[CV]  colsample_bylevel=0.7711308526006485, colsample_bytree=0.07988300914246868, gamma=1.3877597085692663e-08, learning_rate=0.15021004353467043, max_delta_step=6, max_depth=3, min_child_weight=3, n_estimators=77, reg_alpha=0.006097622112520179, reg_lambda=1.9368851099909265e-09, scale_pos_weight=6.97020795804701e-06, subsample=0.46717487628832827, score=0.012, total=   0.7s\n",
      "[CV] colsample_bylevel=0.7711308526006485, colsample_bytree=0.07988300914246868, gamma=1.3877597085692663e-08, learning_rate=0.15021004353467043, max_delta_step=6, max_depth=3, min_child_weight=3, n_estimators=77, reg_alpha=0.006097622112520179, reg_lambda=1.9368851099909265e-09, scale_pos_weight=6.97020795804701e-06, subsample=0.46717487628832827 \n",
      "[CV]  colsample_bylevel=0.7711308526006485, colsample_bytree=0.07988300914246868, gamma=1.3877597085692663e-08, learning_rate=0.15021004353467043, max_delta_step=6, max_depth=3, min_child_weight=3, n_estimators=77, reg_alpha=0.006097622112520179, reg_lambda=1.9368851099909265e-09, scale_pos_weight=6.97020795804701e-06, subsample=0.46717487628832827, score=-0.015, total=   0.7s\n",
      "[CV] colsample_bylevel=0.7711308526006485, colsample_bytree=0.07988300914246868, gamma=1.3877597085692663e-08, learning_rate=0.15021004353467043, max_delta_step=6, max_depth=3, min_child_weight=3, n_estimators=77, reg_alpha=0.006097622112520179, reg_lambda=1.9368851099909265e-09, scale_pos_weight=6.97020795804701e-06, subsample=0.46717487628832827 \n",
      "[CV]  colsample_bylevel=0.7711308526006485, colsample_bytree=0.07988300914246868, gamma=1.3877597085692663e-08, learning_rate=0.15021004353467043, max_delta_step=6, max_depth=3, min_child_weight=3, n_estimators=77, reg_alpha=0.006097622112520179, reg_lambda=1.9368851099909265e-09, scale_pos_weight=6.97020795804701e-06, subsample=0.46717487628832827, score=-0.049, total=   0.7s\n",
      "[CV] colsample_bylevel=0.7711308526006485, colsample_bytree=0.07988300914246868, gamma=1.3877597085692663e-08, learning_rate=0.15021004353467043, max_delta_step=6, max_depth=3, min_child_weight=3, n_estimators=77, reg_alpha=0.006097622112520179, reg_lambda=1.9368851099909265e-09, scale_pos_weight=6.97020795804701e-06, subsample=0.46717487628832827 \n",
      "[CV]  colsample_bylevel=0.7711308526006485, colsample_bytree=0.07988300914246868, gamma=1.3877597085692663e-08, learning_rate=0.15021004353467043, max_delta_step=6, max_depth=3, min_child_weight=3, n_estimators=77, reg_alpha=0.006097622112520179, reg_lambda=1.9368851099909265e-09, scale_pos_weight=6.97020795804701e-06, subsample=0.46717487628832827, score=0.027, total=   0.8s\n",
      "[CV] colsample_bylevel=0.7711308526006485, colsample_bytree=0.07988300914246868, gamma=1.3877597085692663e-08, learning_rate=0.15021004353467043, max_delta_step=6, max_depth=3, min_child_weight=3, n_estimators=77, reg_alpha=0.006097622112520179, reg_lambda=1.9368851099909265e-09, scale_pos_weight=6.97020795804701e-06, subsample=0.46717487628832827 \n",
      "[CV]  colsample_bylevel=0.7711308526006485, colsample_bytree=0.07988300914246868, gamma=1.3877597085692663e-08, learning_rate=0.15021004353467043, max_delta_step=6, max_depth=3, min_child_weight=3, n_estimators=77, reg_alpha=0.006097622112520179, reg_lambda=1.9368851099909265e-09, scale_pos_weight=6.97020795804701e-06, subsample=0.46717487628832827, score=-0.004, total=   0.7s\n",
      "[CV] colsample_bylevel=0.9132100359267209, colsample_bytree=0.7679711803126804, gamma=2.428808912219129e-07, learning_rate=0.03511167856740689, max_delta_step=3, max_depth=8, min_child_weight=4, n_estimators=197, reg_alpha=0.023358352781682152, reg_lambda=2.1396512525873352e-07, scale_pos_weight=0.001760608876847004, subsample=0.15990388740095085 \n",
      "[CV]  colsample_bylevel=0.9132100359267209, colsample_bytree=0.7679711803126804, gamma=2.428808912219129e-07, learning_rate=0.03511167856740689, max_delta_step=3, max_depth=8, min_child_weight=4, n_estimators=197, reg_alpha=0.023358352781682152, reg_lambda=2.1396512525873352e-07, scale_pos_weight=0.001760608876847004, subsample=0.15990388740095085, score=-0.412, total=   4.6s\n",
      "[CV] colsample_bylevel=0.9132100359267209, colsample_bytree=0.7679711803126804, gamma=2.428808912219129e-07, learning_rate=0.03511167856740689, max_delta_step=3, max_depth=8, min_child_weight=4, n_estimators=197, reg_alpha=0.023358352781682152, reg_lambda=2.1396512525873352e-07, scale_pos_weight=0.001760608876847004, subsample=0.15990388740095085 \n",
      "[CV]  colsample_bylevel=0.9132100359267209, colsample_bytree=0.7679711803126804, gamma=2.428808912219129e-07, learning_rate=0.03511167856740689, max_delta_step=3, max_depth=8, min_child_weight=4, n_estimators=197, reg_alpha=0.023358352781682152, reg_lambda=2.1396512525873352e-07, scale_pos_weight=0.001760608876847004, subsample=0.15990388740095085, score=-0.378, total=   4.6s\n",
      "[CV] colsample_bylevel=0.9132100359267209, colsample_bytree=0.7679711803126804, gamma=2.428808912219129e-07, learning_rate=0.03511167856740689, max_delta_step=3, max_depth=8, min_child_weight=4, n_estimators=197, reg_alpha=0.023358352781682152, reg_lambda=2.1396512525873352e-07, scale_pos_weight=0.001760608876847004, subsample=0.15990388740095085 \n",
      "[CV]  colsample_bylevel=0.9132100359267209, colsample_bytree=0.7679711803126804, gamma=2.428808912219129e-07, learning_rate=0.03511167856740689, max_delta_step=3, max_depth=8, min_child_weight=4, n_estimators=197, reg_alpha=0.023358352781682152, reg_lambda=2.1396512525873352e-07, scale_pos_weight=0.001760608876847004, subsample=0.15990388740095085, score=-0.543, total=   4.5s\n",
      "[CV] colsample_bylevel=0.9132100359267209, colsample_bytree=0.7679711803126804, gamma=2.428808912219129e-07, learning_rate=0.03511167856740689, max_delta_step=3, max_depth=8, min_child_weight=4, n_estimators=197, reg_alpha=0.023358352781682152, reg_lambda=2.1396512525873352e-07, scale_pos_weight=0.001760608876847004, subsample=0.15990388740095085 \n",
      "[CV]  colsample_bylevel=0.9132100359267209, colsample_bytree=0.7679711803126804, gamma=2.428808912219129e-07, learning_rate=0.03511167856740689, max_delta_step=3, max_depth=8, min_child_weight=4, n_estimators=197, reg_alpha=0.023358352781682152, reg_lambda=2.1396512525873352e-07, scale_pos_weight=0.001760608876847004, subsample=0.15990388740095085, score=-0.365, total=   4.4s\n",
      "[CV] colsample_bylevel=0.9132100359267209, colsample_bytree=0.7679711803126804, gamma=2.428808912219129e-07, learning_rate=0.03511167856740689, max_delta_step=3, max_depth=8, min_child_weight=4, n_estimators=197, reg_alpha=0.023358352781682152, reg_lambda=2.1396512525873352e-07, scale_pos_weight=0.001760608876847004, subsample=0.15990388740095085 \n",
      "[CV]  colsample_bylevel=0.9132100359267209, colsample_bytree=0.7679711803126804, gamma=2.428808912219129e-07, learning_rate=0.03511167856740689, max_delta_step=3, max_depth=8, min_child_weight=4, n_estimators=197, reg_alpha=0.023358352781682152, reg_lambda=2.1396512525873352e-07, scale_pos_weight=0.001760608876847004, subsample=0.15990388740095085, score=-0.478, total=   4.4s\n",
      "[CV] colsample_bylevel=0.3569079180734289, colsample_bytree=0.1120289995668169, gamma=0.05034432042804318, learning_rate=0.7467518194835729, max_delta_step=7, max_depth=47, min_child_weight=1, n_estimators=67, reg_alpha=0.005500281359785164, reg_lambda=6.3166999939833564e-06, scale_pos_weight=0.4420166988445819, subsample=0.037978567417966985 \n",
      "[CV]  colsample_bylevel=0.3569079180734289, colsample_bytree=0.1120289995668169, gamma=0.05034432042804318, learning_rate=0.7467518194835729, max_delta_step=7, max_depth=47, min_child_weight=1, n_estimators=67, reg_alpha=0.005500281359785164, reg_lambda=6.3166999939833564e-06, scale_pos_weight=0.4420166988445819, subsample=0.037978567417966985, score=-1.822, total=   0.7s\n",
      "[CV] colsample_bylevel=0.3569079180734289, colsample_bytree=0.1120289995668169, gamma=0.05034432042804318, learning_rate=0.7467518194835729, max_delta_step=7, max_depth=47, min_child_weight=1, n_estimators=67, reg_alpha=0.005500281359785164, reg_lambda=6.3166999939833564e-06, scale_pos_weight=0.4420166988445819, subsample=0.037978567417966985 \n"
     ]
    },
    {
     "name": "stdout",
     "output_type": "stream",
     "text": [
      "[CV]  colsample_bylevel=0.3569079180734289, colsample_bytree=0.1120289995668169, gamma=0.05034432042804318, learning_rate=0.7467518194835729, max_delta_step=7, max_depth=47, min_child_weight=1, n_estimators=67, reg_alpha=0.005500281359785164, reg_lambda=6.3166999939833564e-06, scale_pos_weight=0.4420166988445819, subsample=0.037978567417966985, score=-2.066, total=   0.7s\n",
      "[CV] colsample_bylevel=0.3569079180734289, colsample_bytree=0.1120289995668169, gamma=0.05034432042804318, learning_rate=0.7467518194835729, max_delta_step=7, max_depth=47, min_child_weight=1, n_estimators=67, reg_alpha=0.005500281359785164, reg_lambda=6.3166999939833564e-06, scale_pos_weight=0.4420166988445819, subsample=0.037978567417966985 \n",
      "[CV]  colsample_bylevel=0.3569079180734289, colsample_bytree=0.1120289995668169, gamma=0.05034432042804318, learning_rate=0.7467518194835729, max_delta_step=7, max_depth=47, min_child_weight=1, n_estimators=67, reg_alpha=0.005500281359785164, reg_lambda=6.3166999939833564e-06, scale_pos_weight=0.4420166988445819, subsample=0.037978567417966985, score=-2.188, total=   0.7s\n",
      "[CV] colsample_bylevel=0.3569079180734289, colsample_bytree=0.1120289995668169, gamma=0.05034432042804318, learning_rate=0.7467518194835729, max_delta_step=7, max_depth=47, min_child_weight=1, n_estimators=67, reg_alpha=0.005500281359785164, reg_lambda=6.3166999939833564e-06, scale_pos_weight=0.4420166988445819, subsample=0.037978567417966985 \n",
      "[CV]  colsample_bylevel=0.3569079180734289, colsample_bytree=0.1120289995668169, gamma=0.05034432042804318, learning_rate=0.7467518194835729, max_delta_step=7, max_depth=47, min_child_weight=1, n_estimators=67, reg_alpha=0.005500281359785164, reg_lambda=6.3166999939833564e-06, scale_pos_weight=0.4420166988445819, subsample=0.037978567417966985, score=-2.065, total=   0.7s\n",
      "[CV] colsample_bylevel=0.3569079180734289, colsample_bytree=0.1120289995668169, gamma=0.05034432042804318, learning_rate=0.7467518194835729, max_delta_step=7, max_depth=47, min_child_weight=1, n_estimators=67, reg_alpha=0.005500281359785164, reg_lambda=6.3166999939833564e-06, scale_pos_weight=0.4420166988445819, subsample=0.037978567417966985 \n",
      "[CV]  colsample_bylevel=0.3569079180734289, colsample_bytree=0.1120289995668169, gamma=0.05034432042804318, learning_rate=0.7467518194835729, max_delta_step=7, max_depth=47, min_child_weight=1, n_estimators=67, reg_alpha=0.005500281359785164, reg_lambda=6.3166999939833564e-06, scale_pos_weight=0.4420166988445819, subsample=0.037978567417966985, score=-1.744, total=   0.7s\n",
      "[CV] colsample_bylevel=0.3173884684879576, colsample_bytree=0.9154083808190769, gamma=0.37957777315906627, learning_rate=0.046564465205051725, max_delta_step=5, max_depth=25, min_child_weight=4, n_estimators=98, reg_alpha=1.8932210348902655e-05, reg_lambda=10.393593598030753, scale_pos_weight=0.019183460268621746, subsample=0.6299477217301774 \n",
      "[CV]  colsample_bylevel=0.3173884684879576, colsample_bytree=0.9154083808190769, gamma=0.37957777315906627, learning_rate=0.046564465205051725, max_delta_step=5, max_depth=25, min_child_weight=4, n_estimators=98, reg_alpha=1.8932210348902655e-05, reg_lambda=10.393593598030753, scale_pos_weight=0.019183460268621746, subsample=0.6299477217301774, score=-0.276, total=   4.5s\n",
      "[CV] colsample_bylevel=0.3173884684879576, colsample_bytree=0.9154083808190769, gamma=0.37957777315906627, learning_rate=0.046564465205051725, max_delta_step=5, max_depth=25, min_child_weight=4, n_estimators=98, reg_alpha=1.8932210348902655e-05, reg_lambda=10.393593598030753, scale_pos_weight=0.019183460268621746, subsample=0.6299477217301774 \n",
      "[CV]  colsample_bylevel=0.3173884684879576, colsample_bytree=0.9154083808190769, gamma=0.37957777315906627, learning_rate=0.046564465205051725, max_delta_step=5, max_depth=25, min_child_weight=4, n_estimators=98, reg_alpha=1.8932210348902655e-05, reg_lambda=10.393593598030753, scale_pos_weight=0.019183460268621746, subsample=0.6299477217301774, score=-0.261, total=   4.8s\n",
      "[CV] colsample_bylevel=0.3173884684879576, colsample_bytree=0.9154083808190769, gamma=0.37957777315906627, learning_rate=0.046564465205051725, max_delta_step=5, max_depth=25, min_child_weight=4, n_estimators=98, reg_alpha=1.8932210348902655e-05, reg_lambda=10.393593598030753, scale_pos_weight=0.019183460268621746, subsample=0.6299477217301774 \n",
      "[CV]  colsample_bylevel=0.3173884684879576, colsample_bytree=0.9154083808190769, gamma=0.37957777315906627, learning_rate=0.046564465205051725, max_delta_step=5, max_depth=25, min_child_weight=4, n_estimators=98, reg_alpha=1.8932210348902655e-05, reg_lambda=10.393593598030753, scale_pos_weight=0.019183460268621746, subsample=0.6299477217301774, score=-0.379, total=   5.0s\n",
      "[CV] colsample_bylevel=0.3173884684879576, colsample_bytree=0.9154083808190769, gamma=0.37957777315906627, learning_rate=0.046564465205051725, max_delta_step=5, max_depth=25, min_child_weight=4, n_estimators=98, reg_alpha=1.8932210348902655e-05, reg_lambda=10.393593598030753, scale_pos_weight=0.019183460268621746, subsample=0.6299477217301774 \n",
      "[CV]  colsample_bylevel=0.3173884684879576, colsample_bytree=0.9154083808190769, gamma=0.37957777315906627, learning_rate=0.046564465205051725, max_delta_step=5, max_depth=25, min_child_weight=4, n_estimators=98, reg_alpha=1.8932210348902655e-05, reg_lambda=10.393593598030753, scale_pos_weight=0.019183460268621746, subsample=0.6299477217301774, score=-0.217, total=   4.8s\n",
      "[CV] colsample_bylevel=0.3173884684879576, colsample_bytree=0.9154083808190769, gamma=0.37957777315906627, learning_rate=0.046564465205051725, max_delta_step=5, max_depth=25, min_child_weight=4, n_estimators=98, reg_alpha=1.8932210348902655e-05, reg_lambda=10.393593598030753, scale_pos_weight=0.019183460268621746, subsample=0.6299477217301774 \n",
      "[CV]  colsample_bylevel=0.3173884684879576, colsample_bytree=0.9154083808190769, gamma=0.37957777315906627, learning_rate=0.046564465205051725, max_delta_step=5, max_depth=25, min_child_weight=4, n_estimators=98, reg_alpha=1.8932210348902655e-05, reg_lambda=10.393593598030753, scale_pos_weight=0.019183460268621746, subsample=0.6299477217301774, score=-0.337, total=   4.8s\n",
      "[CV] colsample_bylevel=0.19358622710388942, colsample_bytree=0.9236239290551462, gamma=6.242737149649543e-09, learning_rate=0.5839290998374393, max_delta_step=9, max_depth=2, min_child_weight=1, n_estimators=157, reg_alpha=0.32247446903004606, reg_lambda=5.7439751766594195e-06, scale_pos_weight=1.6287615199535114e-06, subsample=0.9872483677632868 \n",
      "[CV]  colsample_bylevel=0.19358622710388942, colsample_bytree=0.9236239290551462, gamma=6.242737149649543e-09, learning_rate=0.5839290998374393, max_delta_step=9, max_depth=2, min_child_weight=1, n_estimators=157, reg_alpha=0.32247446903004606, reg_lambda=5.7439751766594195e-06, scale_pos_weight=1.6287615199535114e-06, subsample=0.9872483677632868, score=-0.184, total=   1.4s\n",
      "[CV] colsample_bylevel=0.19358622710388942, colsample_bytree=0.9236239290551462, gamma=6.242737149649543e-09, learning_rate=0.5839290998374393, max_delta_step=9, max_depth=2, min_child_weight=1, n_estimators=157, reg_alpha=0.32247446903004606, reg_lambda=5.7439751766594195e-06, scale_pos_weight=1.6287615199535114e-06, subsample=0.9872483677632868 \n",
      "[CV]  colsample_bylevel=0.19358622710388942, colsample_bytree=0.9236239290551462, gamma=6.242737149649543e-09, learning_rate=0.5839290998374393, max_delta_step=9, max_depth=2, min_child_weight=1, n_estimators=157, reg_alpha=0.32247446903004606, reg_lambda=5.7439751766594195e-06, scale_pos_weight=1.6287615199535114e-06, subsample=0.9872483677632868, score=-0.400, total=   1.4s\n",
      "[CV] colsample_bylevel=0.19358622710388942, colsample_bytree=0.9236239290551462, gamma=6.242737149649543e-09, learning_rate=0.5839290998374393, max_delta_step=9, max_depth=2, min_child_weight=1, n_estimators=157, reg_alpha=0.32247446903004606, reg_lambda=5.7439751766594195e-06, scale_pos_weight=1.6287615199535114e-06, subsample=0.9872483677632868 \n",
      "[CV]  colsample_bylevel=0.19358622710388942, colsample_bytree=0.9236239290551462, gamma=6.242737149649543e-09, learning_rate=0.5839290998374393, max_delta_step=9, max_depth=2, min_child_weight=1, n_estimators=157, reg_alpha=0.32247446903004606, reg_lambda=5.7439751766594195e-06, scale_pos_weight=1.6287615199535114e-06, subsample=0.9872483677632868, score=-0.317, total=   1.5s\n",
      "[CV] colsample_bylevel=0.19358622710388942, colsample_bytree=0.9236239290551462, gamma=6.242737149649543e-09, learning_rate=0.5839290998374393, max_delta_step=9, max_depth=2, min_child_weight=1, n_estimators=157, reg_alpha=0.32247446903004606, reg_lambda=5.7439751766594195e-06, scale_pos_weight=1.6287615199535114e-06, subsample=0.9872483677632868 \n"
     ]
    },
    {
     "name": "stdout",
     "output_type": "stream",
     "text": [
      "[CV]  colsample_bylevel=0.19358622710388942, colsample_bytree=0.9236239290551462, gamma=6.242737149649543e-09, learning_rate=0.5839290998374393, max_delta_step=9, max_depth=2, min_child_weight=1, n_estimators=157, reg_alpha=0.32247446903004606, reg_lambda=5.7439751766594195e-06, scale_pos_weight=1.6287615199535114e-06, subsample=0.9872483677632868, score=-0.160, total=   1.4s\n",
      "[CV] colsample_bylevel=0.19358622710388942, colsample_bytree=0.9236239290551462, gamma=6.242737149649543e-09, learning_rate=0.5839290998374393, max_delta_step=9, max_depth=2, min_child_weight=1, n_estimators=157, reg_alpha=0.32247446903004606, reg_lambda=5.7439751766594195e-06, scale_pos_weight=1.6287615199535114e-06, subsample=0.9872483677632868 \n",
      "[CV]  colsample_bylevel=0.19358622710388942, colsample_bytree=0.9236239290551462, gamma=6.242737149649543e-09, learning_rate=0.5839290998374393, max_delta_step=9, max_depth=2, min_child_weight=1, n_estimators=157, reg_alpha=0.32247446903004606, reg_lambda=5.7439751766594195e-06, scale_pos_weight=1.6287615199535114e-06, subsample=0.9872483677632868, score=-0.182, total=   1.4s\n",
      "[CV] colsample_bylevel=0.06936552953088004, colsample_bytree=0.5708703891954323, gamma=1.9956389638103137e-08, learning_rate=0.09010297955022104, max_delta_step=9, max_depth=25, min_child_weight=2, n_estimators=139, reg_alpha=0.9824119669778386, reg_lambda=0.00017577858139476563, scale_pos_weight=261.4450653749918, subsample=0.14242164035537377 \n",
      "[CV]  colsample_bylevel=0.06936552953088004, colsample_bytree=0.5708703891954323, gamma=1.9956389638103137e-08, learning_rate=0.09010297955022104, max_delta_step=9, max_depth=25, min_child_weight=2, n_estimators=139, reg_alpha=0.9824119669778386, reg_lambda=0.00017577858139476563, scale_pos_weight=261.4450653749918, subsample=0.14242164035537377, score=-0.098, total=   1.5s\n",
      "[CV] colsample_bylevel=0.06936552953088004, colsample_bytree=0.5708703891954323, gamma=1.9956389638103137e-08, learning_rate=0.09010297955022104, max_delta_step=9, max_depth=25, min_child_weight=2, n_estimators=139, reg_alpha=0.9824119669778386, reg_lambda=0.00017577858139476563, scale_pos_weight=261.4450653749918, subsample=0.14242164035537377 \n",
      "[CV]  colsample_bylevel=0.06936552953088004, colsample_bytree=0.5708703891954323, gamma=1.9956389638103137e-08, learning_rate=0.09010297955022104, max_delta_step=9, max_depth=25, min_child_weight=2, n_estimators=139, reg_alpha=0.9824119669778386, reg_lambda=0.00017577858139476563, scale_pos_weight=261.4450653749918, subsample=0.14242164035537377, score=-0.103, total=   1.5s\n",
      "[CV] colsample_bylevel=0.06936552953088004, colsample_bytree=0.5708703891954323, gamma=1.9956389638103137e-08, learning_rate=0.09010297955022104, max_delta_step=9, max_depth=25, min_child_weight=2, n_estimators=139, reg_alpha=0.9824119669778386, reg_lambda=0.00017577858139476563, scale_pos_weight=261.4450653749918, subsample=0.14242164035537377 \n",
      "[CV]  colsample_bylevel=0.06936552953088004, colsample_bytree=0.5708703891954323, gamma=1.9956389638103137e-08, learning_rate=0.09010297955022104, max_delta_step=9, max_depth=25, min_child_weight=2, n_estimators=139, reg_alpha=0.9824119669778386, reg_lambda=0.00017577858139476563, scale_pos_weight=261.4450653749918, subsample=0.14242164035537377, score=-0.217, total=   1.5s\n",
      "[CV] colsample_bylevel=0.06936552953088004, colsample_bytree=0.5708703891954323, gamma=1.9956389638103137e-08, learning_rate=0.09010297955022104, max_delta_step=9, max_depth=25, min_child_weight=2, n_estimators=139, reg_alpha=0.9824119669778386, reg_lambda=0.00017577858139476563, scale_pos_weight=261.4450653749918, subsample=0.14242164035537377 \n",
      "[CV]  colsample_bylevel=0.06936552953088004, colsample_bytree=0.5708703891954323, gamma=1.9956389638103137e-08, learning_rate=0.09010297955022104, max_delta_step=9, max_depth=25, min_child_weight=2, n_estimators=139, reg_alpha=0.9824119669778386, reg_lambda=0.00017577858139476563, scale_pos_weight=261.4450653749918, subsample=0.14242164035537377, score=-0.093, total=   1.5s\n",
      "[CV] colsample_bylevel=0.06936552953088004, colsample_bytree=0.5708703891954323, gamma=1.9956389638103137e-08, learning_rate=0.09010297955022104, max_delta_step=9, max_depth=25, min_child_weight=2, n_estimators=139, reg_alpha=0.9824119669778386, reg_lambda=0.00017577858139476563, scale_pos_weight=261.4450653749918, subsample=0.14242164035537377 \n",
      "[CV]  colsample_bylevel=0.06936552953088004, colsample_bytree=0.5708703891954323, gamma=1.9956389638103137e-08, learning_rate=0.09010297955022104, max_delta_step=9, max_depth=25, min_child_weight=2, n_estimators=139, reg_alpha=0.9824119669778386, reg_lambda=0.00017577858139476563, scale_pos_weight=261.4450653749918, subsample=0.14242164035537377, score=-0.225, total=   1.5s\n",
      "[CV] colsample_bylevel=0.1798648261515349, colsample_bytree=0.1536154650973617, gamma=2.692171045057089e-07, learning_rate=0.031045751168128115, max_delta_step=12, max_depth=24, min_child_weight=3, n_estimators=113, reg_alpha=0.0011518554964803237, reg_lambda=3.9270934206560135e-05, scale_pos_weight=0.036328353682153036, subsample=0.5123744729843144 \n",
      "[CV]  colsample_bylevel=0.1798648261515349, colsample_bytree=0.1536154650973617, gamma=2.692171045057089e-07, learning_rate=0.031045751168128115, max_delta_step=12, max_depth=24, min_child_weight=3, n_estimators=113, reg_alpha=0.0011518554964803237, reg_lambda=3.9270934206560135e-05, scale_pos_weight=0.036328353682153036, subsample=0.5123744729843144, score=-0.062, total=   1.4s\n",
      "[CV] colsample_bylevel=0.1798648261515349, colsample_bytree=0.1536154650973617, gamma=2.692171045057089e-07, learning_rate=0.031045751168128115, max_delta_step=12, max_depth=24, min_child_weight=3, n_estimators=113, reg_alpha=0.0011518554964803237, reg_lambda=3.9270934206560135e-05, scale_pos_weight=0.036328353682153036, subsample=0.5123744729843144 \n",
      "[CV]  colsample_bylevel=0.1798648261515349, colsample_bytree=0.1536154650973617, gamma=2.692171045057089e-07, learning_rate=0.031045751168128115, max_delta_step=12, max_depth=24, min_child_weight=3, n_estimators=113, reg_alpha=0.0011518554964803237, reg_lambda=3.9270934206560135e-05, scale_pos_weight=0.036328353682153036, subsample=0.5123744729843144, score=-0.062, total=   1.4s\n",
      "[CV] colsample_bylevel=0.1798648261515349, colsample_bytree=0.1536154650973617, gamma=2.692171045057089e-07, learning_rate=0.031045751168128115, max_delta_step=12, max_depth=24, min_child_weight=3, n_estimators=113, reg_alpha=0.0011518554964803237, reg_lambda=3.9270934206560135e-05, scale_pos_weight=0.036328353682153036, subsample=0.5123744729843144 \n",
      "[CV]  colsample_bylevel=0.1798648261515349, colsample_bytree=0.1536154650973617, gamma=2.692171045057089e-07, learning_rate=0.031045751168128115, max_delta_step=12, max_depth=24, min_child_weight=3, n_estimators=113, reg_alpha=0.0011518554964803237, reg_lambda=3.9270934206560135e-05, scale_pos_weight=0.036328353682153036, subsample=0.5123744729843144, score=-0.138, total=   1.4s\n",
      "[CV] colsample_bylevel=0.1798648261515349, colsample_bytree=0.1536154650973617, gamma=2.692171045057089e-07, learning_rate=0.031045751168128115, max_delta_step=12, max_depth=24, min_child_weight=3, n_estimators=113, reg_alpha=0.0011518554964803237, reg_lambda=3.9270934206560135e-05, scale_pos_weight=0.036328353682153036, subsample=0.5123744729843144 \n",
      "[CV]  colsample_bylevel=0.1798648261515349, colsample_bytree=0.1536154650973617, gamma=2.692171045057089e-07, learning_rate=0.031045751168128115, max_delta_step=12, max_depth=24, min_child_weight=3, n_estimators=113, reg_alpha=0.0011518554964803237, reg_lambda=3.9270934206560135e-05, scale_pos_weight=0.036328353682153036, subsample=0.5123744729843144, score=-0.038, total=   1.5s\n",
      "[CV] colsample_bylevel=0.1798648261515349, colsample_bytree=0.1536154650973617, gamma=2.692171045057089e-07, learning_rate=0.031045751168128115, max_delta_step=12, max_depth=24, min_child_weight=3, n_estimators=113, reg_alpha=0.0011518554964803237, reg_lambda=3.9270934206560135e-05, scale_pos_weight=0.036328353682153036, subsample=0.5123744729843144 \n",
      "[CV]  colsample_bylevel=0.1798648261515349, colsample_bytree=0.1536154650973617, gamma=2.692171045057089e-07, learning_rate=0.031045751168128115, max_delta_step=12, max_depth=24, min_child_weight=3, n_estimators=113, reg_alpha=0.0011518554964803237, reg_lambda=3.9270934206560135e-05, scale_pos_weight=0.036328353682153036, subsample=0.5123744729843144, score=-0.150, total=   1.5s\n",
      "[CV] colsample_bylevel=0.8477171831834894, colsample_bytree=0.9590782028716157, gamma=0.4419705200245942, learning_rate=0.010068534554171981, max_delta_step=18, max_depth=46, min_child_weight=5, n_estimators=66, reg_alpha=1.3396471230171212e-09, reg_lambda=0.1502689667792386, scale_pos_weight=5.68219069233494e-06, subsample=0.3682037565911086 \n"
     ]
    },
    {
     "name": "stdout",
     "output_type": "stream",
     "text": [
      "[CV]  colsample_bylevel=0.8477171831834894, colsample_bytree=0.9590782028716157, gamma=0.4419705200245942, learning_rate=0.010068534554171981, max_delta_step=18, max_depth=46, min_child_weight=5, n_estimators=66, reg_alpha=1.3396471230171212e-09, reg_lambda=0.1502689667792386, scale_pos_weight=5.68219069233494e-06, subsample=0.3682037565911086, score=-0.814, total=  10.3s\n",
      "[CV] colsample_bylevel=0.8477171831834894, colsample_bytree=0.9590782028716157, gamma=0.4419705200245942, learning_rate=0.010068534554171981, max_delta_step=18, max_depth=46, min_child_weight=5, n_estimators=66, reg_alpha=1.3396471230171212e-09, reg_lambda=0.1502689667792386, scale_pos_weight=5.68219069233494e-06, subsample=0.3682037565911086 \n",
      "[CV]  colsample_bylevel=0.8477171831834894, colsample_bytree=0.9590782028716157, gamma=0.4419705200245942, learning_rate=0.010068534554171981, max_delta_step=18, max_depth=46, min_child_weight=5, n_estimators=66, reg_alpha=1.3396471230171212e-09, reg_lambda=0.1502689667792386, scale_pos_weight=5.68219069233494e-06, subsample=0.3682037565911086, score=-0.791, total=   9.8s\n",
      "[CV] colsample_bylevel=0.8477171831834894, colsample_bytree=0.9590782028716157, gamma=0.4419705200245942, learning_rate=0.010068534554171981, max_delta_step=18, max_depth=46, min_child_weight=5, n_estimators=66, reg_alpha=1.3396471230171212e-09, reg_lambda=0.1502689667792386, scale_pos_weight=5.68219069233494e-06, subsample=0.3682037565911086 \n",
      "[CV]  colsample_bylevel=0.8477171831834894, colsample_bytree=0.9590782028716157, gamma=0.4419705200245942, learning_rate=0.010068534554171981, max_delta_step=18, max_depth=46, min_child_weight=5, n_estimators=66, reg_alpha=1.3396471230171212e-09, reg_lambda=0.1502689667792386, scale_pos_weight=5.68219069233494e-06, subsample=0.3682037565911086, score=-0.966, total=  10.1s\n",
      "[CV] colsample_bylevel=0.8477171831834894, colsample_bytree=0.9590782028716157, gamma=0.4419705200245942, learning_rate=0.010068534554171981, max_delta_step=18, max_depth=46, min_child_weight=5, n_estimators=66, reg_alpha=1.3396471230171212e-09, reg_lambda=0.1502689667792386, scale_pos_weight=5.68219069233494e-06, subsample=0.3682037565911086 \n",
      "[CV]  colsample_bylevel=0.8477171831834894, colsample_bytree=0.9590782028716157, gamma=0.4419705200245942, learning_rate=0.010068534554171981, max_delta_step=18, max_depth=46, min_child_weight=5, n_estimators=66, reg_alpha=1.3396471230171212e-09, reg_lambda=0.1502689667792386, scale_pos_weight=5.68219069233494e-06, subsample=0.3682037565911086, score=-0.745, total=  10.0s\n",
      "[CV] colsample_bylevel=0.8477171831834894, colsample_bytree=0.9590782028716157, gamma=0.4419705200245942, learning_rate=0.010068534554171981, max_delta_step=18, max_depth=46, min_child_weight=5, n_estimators=66, reg_alpha=1.3396471230171212e-09, reg_lambda=0.1502689667792386, scale_pos_weight=5.68219069233494e-06, subsample=0.3682037565911086 \n",
      "[CV]  colsample_bylevel=0.8477171831834894, colsample_bytree=0.9590782028716157, gamma=0.4419705200245942, learning_rate=0.010068534554171981, max_delta_step=18, max_depth=46, min_child_weight=5, n_estimators=66, reg_alpha=1.3396471230171212e-09, reg_lambda=0.1502689667792386, scale_pos_weight=5.68219069233494e-06, subsample=0.3682037565911086, score=-0.867, total=  10.2s\n",
      "[CV] colsample_bylevel=0.88542798001491, colsample_bytree=0.15107725561517718, gamma=0.09274068410384222, learning_rate=0.11437510345794359, max_delta_step=0, max_depth=6, min_child_weight=5, n_estimators=200, reg_alpha=1.2952579279714691e-08, reg_lambda=0.45707493844512304, scale_pos_weight=10.561837873121673, subsample=0.9105119208713889 \n",
      "[CV]  colsample_bylevel=0.88542798001491, colsample_bytree=0.15107725561517718, gamma=0.09274068410384222, learning_rate=0.11437510345794359, max_delta_step=0, max_depth=6, min_child_weight=5, n_estimators=200, reg_alpha=1.2952579279714691e-08, reg_lambda=0.45707493844512304, scale_pos_weight=10.561837873121673, subsample=0.9105119208713889, score=0.021, total=   2.5s\n",
      "[CV] colsample_bylevel=0.88542798001491, colsample_bytree=0.15107725561517718, gamma=0.09274068410384222, learning_rate=0.11437510345794359, max_delta_step=0, max_depth=6, min_child_weight=5, n_estimators=200, reg_alpha=1.2952579279714691e-08, reg_lambda=0.45707493844512304, scale_pos_weight=10.561837873121673, subsample=0.9105119208713889 \n",
      "[CV]  colsample_bylevel=0.88542798001491, colsample_bytree=0.15107725561517718, gamma=0.09274068410384222, learning_rate=0.11437510345794359, max_delta_step=0, max_depth=6, min_child_weight=5, n_estimators=200, reg_alpha=1.2952579279714691e-08, reg_lambda=0.45707493844512304, scale_pos_weight=10.561837873121673, subsample=0.9105119208713889, score=-0.035, total=   2.4s\n",
      "[CV] colsample_bylevel=0.88542798001491, colsample_bytree=0.15107725561517718, gamma=0.09274068410384222, learning_rate=0.11437510345794359, max_delta_step=0, max_depth=6, min_child_weight=5, n_estimators=200, reg_alpha=1.2952579279714691e-08, reg_lambda=0.45707493844512304, scale_pos_weight=10.561837873121673, subsample=0.9105119208713889 \n",
      "[CV]  colsample_bylevel=0.88542798001491, colsample_bytree=0.15107725561517718, gamma=0.09274068410384222, learning_rate=0.11437510345794359, max_delta_step=0, max_depth=6, min_child_weight=5, n_estimators=200, reg_alpha=1.2952579279714691e-08, reg_lambda=0.45707493844512304, scale_pos_weight=10.561837873121673, subsample=0.9105119208713889, score=-0.073, total=   2.5s\n",
      "[CV] colsample_bylevel=0.88542798001491, colsample_bytree=0.15107725561517718, gamma=0.09274068410384222, learning_rate=0.11437510345794359, max_delta_step=0, max_depth=6, min_child_weight=5, n_estimators=200, reg_alpha=1.2952579279714691e-08, reg_lambda=0.45707493844512304, scale_pos_weight=10.561837873121673, subsample=0.9105119208713889 \n",
      "[CV]  colsample_bylevel=0.88542798001491, colsample_bytree=0.15107725561517718, gamma=0.09274068410384222, learning_rate=0.11437510345794359, max_delta_step=0, max_depth=6, min_child_weight=5, n_estimators=200, reg_alpha=1.2952579279714691e-08, reg_lambda=0.45707493844512304, scale_pos_weight=10.561837873121673, subsample=0.9105119208713889, score=-0.003, total=   2.5s\n",
      "[CV] colsample_bylevel=0.88542798001491, colsample_bytree=0.15107725561517718, gamma=0.09274068410384222, learning_rate=0.11437510345794359, max_delta_step=0, max_depth=6, min_child_weight=5, n_estimators=200, reg_alpha=1.2952579279714691e-08, reg_lambda=0.45707493844512304, scale_pos_weight=10.561837873121673, subsample=0.9105119208713889 \n",
      "[CV]  colsample_bylevel=0.88542798001491, colsample_bytree=0.15107725561517718, gamma=0.09274068410384222, learning_rate=0.11437510345794359, max_delta_step=0, max_depth=6, min_child_weight=5, n_estimators=200, reg_alpha=1.2952579279714691e-08, reg_lambda=0.45707493844512304, scale_pos_weight=10.561837873121673, subsample=0.9105119208713889, score=0.009, total=   2.5s\n"
     ]
    },
    {
     "name": "stderr",
     "output_type": "stream",
     "text": [
      "[Parallel(n_jobs=1)]: Done  60 out of  60 | elapsed:  3.5min finished\n"
     ]
    },
    {
     "name": "stdout",
     "output_type": "stream",
     "text": [
      "best score: -0.0030751402632986763\n",
      "Fitting 5 folds for each of 12 candidates, totalling 60 fits\n",
      "[CV] colsample_bylevel=0.31548045888599496, colsample_bytree=0.07587486936639463, gamma=0.14403163763734542, learning_rate=0.09978835686913541, max_delta_step=20, max_depth=50, min_child_weight=4, n_estimators=194, reg_alpha=1e-09, reg_lambda=0.0005666165029205941, scale_pos_weight=0.14862876149363374, subsample=1.0 \n"
     ]
    },
    {
     "name": "stderr",
     "output_type": "stream",
     "text": [
      "[Parallel(n_jobs=1)]: Using backend SequentialBackend with 1 concurrent workers.\n"
     ]
    },
    {
     "name": "stdout",
     "output_type": "stream",
     "text": [
      "[CV]  colsample_bylevel=0.31548045888599496, colsample_bytree=0.07587486936639463, gamma=0.14403163763734542, learning_rate=0.09978835686913541, max_delta_step=20, max_depth=50, min_child_weight=4, n_estimators=194, reg_alpha=1e-09, reg_lambda=0.0005666165029205941, scale_pos_weight=0.14862876149363374, subsample=1.0, score=-0.007, total=   2.6s\n",
      "[CV] colsample_bylevel=0.31548045888599496, colsample_bytree=0.07587486936639463, gamma=0.14403163763734542, learning_rate=0.09978835686913541, max_delta_step=20, max_depth=50, min_child_weight=4, n_estimators=194, reg_alpha=1e-09, reg_lambda=0.0005666165029205941, scale_pos_weight=0.14862876149363374, subsample=1.0 \n"
     ]
    },
    {
     "name": "stderr",
     "output_type": "stream",
     "text": [
      "[Parallel(n_jobs=1)]: Done   1 out of   1 | elapsed:    2.6s remaining:    0.0s\n"
     ]
    },
    {
     "name": "stdout",
     "output_type": "stream",
     "text": [
      "[CV]  colsample_bylevel=0.31548045888599496, colsample_bytree=0.07587486936639463, gamma=0.14403163763734542, learning_rate=0.09978835686913541, max_delta_step=20, max_depth=50, min_child_weight=4, n_estimators=194, reg_alpha=1e-09, reg_lambda=0.0005666165029205941, scale_pos_weight=0.14862876149363374, subsample=1.0, score=0.001, total=   2.7s\n",
      "[CV] colsample_bylevel=0.31548045888599496, colsample_bytree=0.07587486936639463, gamma=0.14403163763734542, learning_rate=0.09978835686913541, max_delta_step=20, max_depth=50, min_child_weight=4, n_estimators=194, reg_alpha=1e-09, reg_lambda=0.0005666165029205941, scale_pos_weight=0.14862876149363374, subsample=1.0 \n"
     ]
    },
    {
     "name": "stderr",
     "output_type": "stream",
     "text": [
      "[Parallel(n_jobs=1)]: Done   2 out of   2 | elapsed:    5.4s remaining:    0.0s\n"
     ]
    },
    {
     "name": "stdout",
     "output_type": "stream",
     "text": [
      "[CV]  colsample_bylevel=0.31548045888599496, colsample_bytree=0.07587486936639463, gamma=0.14403163763734542, learning_rate=0.09978835686913541, max_delta_step=20, max_depth=50, min_child_weight=4, n_estimators=194, reg_alpha=1e-09, reg_lambda=0.0005666165029205941, scale_pos_weight=0.14862876149363374, subsample=1.0, score=-0.035, total=   2.7s\n",
      "[CV] colsample_bylevel=0.31548045888599496, colsample_bytree=0.07587486936639463, gamma=0.14403163763734542, learning_rate=0.09978835686913541, max_delta_step=20, max_depth=50, min_child_weight=4, n_estimators=194, reg_alpha=1e-09, reg_lambda=0.0005666165029205941, scale_pos_weight=0.14862876149363374, subsample=1.0 \n",
      "[CV]  colsample_bylevel=0.31548045888599496, colsample_bytree=0.07587486936639463, gamma=0.14403163763734542, learning_rate=0.09978835686913541, max_delta_step=20, max_depth=50, min_child_weight=4, n_estimators=194, reg_alpha=1e-09, reg_lambda=0.0005666165029205941, scale_pos_weight=0.14862876149363374, subsample=1.0, score=0.040, total=   2.7s\n",
      "[CV] colsample_bylevel=0.31548045888599496, colsample_bytree=0.07587486936639463, gamma=0.14403163763734542, learning_rate=0.09978835686913541, max_delta_step=20, max_depth=50, min_child_weight=4, n_estimators=194, reg_alpha=1e-09, reg_lambda=0.0005666165029205941, scale_pos_weight=0.14862876149363374, subsample=1.0 \n",
      "[CV]  colsample_bylevel=0.31548045888599496, colsample_bytree=0.07587486936639463, gamma=0.14403163763734542, learning_rate=0.09978835686913541, max_delta_step=20, max_depth=50, min_child_weight=4, n_estimators=194, reg_alpha=1e-09, reg_lambda=0.0005666165029205941, scale_pos_weight=0.14862876149363374, subsample=1.0, score=0.033, total=   2.7s\n",
      "[CV] colsample_bylevel=0.40701500297581655, colsample_bytree=0.759902445045052, gamma=2.7374513354545765e-05, learning_rate=0.15957569771558697, max_delta_step=12, max_depth=24, min_child_weight=0, n_estimators=62, reg_alpha=1e-09, reg_lambda=0.07778379575556968, scale_pos_weight=0.0003774267237645887, subsample=1.0 \n",
      "[CV]  colsample_bylevel=0.40701500297581655, colsample_bytree=0.759902445045052, gamma=2.7374513354545765e-05, learning_rate=0.15957569771558697, max_delta_step=12, max_depth=24, min_child_weight=0, n_estimators=62, reg_alpha=1e-09, reg_lambda=0.07778379575556968, scale_pos_weight=0.0003774267237645887, subsample=1.0, score=0.005, total=   4.7s\n",
      "[CV] colsample_bylevel=0.40701500297581655, colsample_bytree=0.759902445045052, gamma=2.7374513354545765e-05, learning_rate=0.15957569771558697, max_delta_step=12, max_depth=24, min_child_weight=0, n_estimators=62, reg_alpha=1e-09, reg_lambda=0.07778379575556968, scale_pos_weight=0.0003774267237645887, subsample=1.0 \n",
      "[CV]  colsample_bylevel=0.40701500297581655, colsample_bytree=0.759902445045052, gamma=2.7374513354545765e-05, learning_rate=0.15957569771558697, max_delta_step=12, max_depth=24, min_child_weight=0, n_estimators=62, reg_alpha=1e-09, reg_lambda=0.07778379575556968, scale_pos_weight=0.0003774267237645887, subsample=1.0, score=-0.075, total=   4.6s\n",
      "[CV] colsample_bylevel=0.40701500297581655, colsample_bytree=0.759902445045052, gamma=2.7374513354545765e-05, learning_rate=0.15957569771558697, max_delta_step=12, max_depth=24, min_child_weight=0, n_estimators=62, reg_alpha=1e-09, reg_lambda=0.07778379575556968, scale_pos_weight=0.0003774267237645887, subsample=1.0 \n",
      "[CV]  colsample_bylevel=0.40701500297581655, colsample_bytree=0.759902445045052, gamma=2.7374513354545765e-05, learning_rate=0.15957569771558697, max_delta_step=12, max_depth=24, min_child_weight=0, n_estimators=62, reg_alpha=1e-09, reg_lambda=0.07778379575556968, scale_pos_weight=0.0003774267237645887, subsample=1.0, score=-0.036, total=   4.7s\n",
      "[CV] colsample_bylevel=0.40701500297581655, colsample_bytree=0.759902445045052, gamma=2.7374513354545765e-05, learning_rate=0.15957569771558697, max_delta_step=12, max_depth=24, min_child_weight=0, n_estimators=62, reg_alpha=1e-09, reg_lambda=0.07778379575556968, scale_pos_weight=0.0003774267237645887, subsample=1.0 \n",
      "[CV]  colsample_bylevel=0.40701500297581655, colsample_bytree=0.759902445045052, gamma=2.7374513354545765e-05, learning_rate=0.15957569771558697, max_delta_step=12, max_depth=24, min_child_weight=0, n_estimators=62, reg_alpha=1e-09, reg_lambda=0.07778379575556968, scale_pos_weight=0.0003774267237645887, subsample=1.0, score=-0.005, total=   4.6s\n",
      "[CV] colsample_bylevel=0.40701500297581655, colsample_bytree=0.759902445045052, gamma=2.7374513354545765e-05, learning_rate=0.15957569771558697, max_delta_step=12, max_depth=24, min_child_weight=0, n_estimators=62, reg_alpha=1e-09, reg_lambda=0.07778379575556968, scale_pos_weight=0.0003774267237645887, subsample=1.0 \n",
      "[CV]  colsample_bylevel=0.40701500297581655, colsample_bytree=0.759902445045052, gamma=2.7374513354545765e-05, learning_rate=0.15957569771558697, max_delta_step=12, max_depth=24, min_child_weight=0, n_estimators=62, reg_alpha=1e-09, reg_lambda=0.07778379575556968, scale_pos_weight=0.0003774267237645887, subsample=1.0, score=0.010, total=   4.7s\n",
      "[CV] colsample_bylevel=0.4283304986261725, colsample_bytree=0.01, gamma=0.49999999999999994, learning_rate=0.051064503394919865, max_delta_step=20, max_depth=0, min_child_weight=0, n_estimators=50, reg_alpha=1e-09, reg_lambda=1000.0, scale_pos_weight=1e-06, subsample=0.4113490854053313 \n",
      "[CV]  colsample_bylevel=0.4283304986261725, colsample_bytree=0.01, gamma=0.49999999999999994, learning_rate=0.051064503394919865, max_delta_step=20, max_depth=0, min_child_weight=0, n_estimators=50, reg_alpha=1e-09, reg_lambda=1000.0, scale_pos_weight=1e-06, subsample=0.4113490854053313, score=-0.234, total=   0.5s\n",
      "[CV] colsample_bylevel=0.4283304986261725, colsample_bytree=0.01, gamma=0.49999999999999994, learning_rate=0.051064503394919865, max_delta_step=20, max_depth=0, min_child_weight=0, n_estimators=50, reg_alpha=1e-09, reg_lambda=1000.0, scale_pos_weight=1e-06, subsample=0.4113490854053313 \n",
      "[CV]  colsample_bylevel=0.4283304986261725, colsample_bytree=0.01, gamma=0.49999999999999994, learning_rate=0.051064503394919865, max_delta_step=20, max_depth=0, min_child_weight=0, n_estimators=50, reg_alpha=1e-09, reg_lambda=1000.0, scale_pos_weight=1e-06, subsample=0.4113490854053313, score=-0.180, total=   0.5s\n",
      "[CV] colsample_bylevel=0.4283304986261725, colsample_bytree=0.01, gamma=0.49999999999999994, learning_rate=0.051064503394919865, max_delta_step=20, max_depth=0, min_child_weight=0, n_estimators=50, reg_alpha=1e-09, reg_lambda=1000.0, scale_pos_weight=1e-06, subsample=0.4113490854053313 \n",
      "[CV]  colsample_bylevel=0.4283304986261725, colsample_bytree=0.01, gamma=0.49999999999999994, learning_rate=0.051064503394919865, max_delta_step=20, max_depth=0, min_child_weight=0, n_estimators=50, reg_alpha=1e-09, reg_lambda=1000.0, scale_pos_weight=1e-06, subsample=0.4113490854053313, score=-0.324, total=   0.5s\n",
      "[CV] colsample_bylevel=0.4283304986261725, colsample_bytree=0.01, gamma=0.49999999999999994, learning_rate=0.051064503394919865, max_delta_step=20, max_depth=0, min_child_weight=0, n_estimators=50, reg_alpha=1e-09, reg_lambda=1000.0, scale_pos_weight=1e-06, subsample=0.4113490854053313 \n",
      "[CV]  colsample_bylevel=0.4283304986261725, colsample_bytree=0.01, gamma=0.49999999999999994, learning_rate=0.051064503394919865, max_delta_step=20, max_depth=0, min_child_weight=0, n_estimators=50, reg_alpha=1e-09, reg_lambda=1000.0, scale_pos_weight=1e-06, subsample=0.4113490854053313, score=-0.196, total=   0.5s\n",
      "[CV] colsample_bylevel=0.4283304986261725, colsample_bytree=0.01, gamma=0.49999999999999994, learning_rate=0.051064503394919865, max_delta_step=20, max_depth=0, min_child_weight=0, n_estimators=50, reg_alpha=1e-09, reg_lambda=1000.0, scale_pos_weight=1e-06, subsample=0.4113490854053313 \n",
      "[CV]  colsample_bylevel=0.4283304986261725, colsample_bytree=0.01, gamma=0.49999999999999994, learning_rate=0.051064503394919865, max_delta_step=20, max_depth=0, min_child_weight=0, n_estimators=50, reg_alpha=1e-09, reg_lambda=1000.0, scale_pos_weight=1e-06, subsample=0.4113490854053313, score=-0.315, total=   0.5s\n",
      "[CV] colsample_bylevel=0.01, colsample_bytree=0.01, gamma=1e-09, learning_rate=0.029458563752409295, max_delta_step=20, max_depth=49, min_child_weight=5, n_estimators=200, reg_alpha=1.0, reg_lambda=1e-09, scale_pos_weight=499.99999999999994, subsample=1.0 \n"
     ]
    },
    {
     "name": "stdout",
     "output_type": "stream",
     "text": [
      "[CV]  colsample_bylevel=0.01, colsample_bytree=0.01, gamma=1e-09, learning_rate=0.029458563752409295, max_delta_step=20, max_depth=49, min_child_weight=5, n_estimators=200, reg_alpha=1.0, reg_lambda=1e-09, scale_pos_weight=499.99999999999994, subsample=1.0, score=0.035, total=   1.1s\n",
      "[CV] colsample_bylevel=0.01, colsample_bytree=0.01, gamma=1e-09, learning_rate=0.029458563752409295, max_delta_step=20, max_depth=49, min_child_weight=5, n_estimators=200, reg_alpha=1.0, reg_lambda=1e-09, scale_pos_weight=499.99999999999994, subsample=1.0 \n",
      "[CV]  colsample_bylevel=0.01, colsample_bytree=0.01, gamma=1e-09, learning_rate=0.029458563752409295, max_delta_step=20, max_depth=49, min_child_weight=5, n_estimators=200, reg_alpha=1.0, reg_lambda=1e-09, scale_pos_weight=499.99999999999994, subsample=1.0, score=0.024, total=   1.1s\n",
      "[CV] colsample_bylevel=0.01, colsample_bytree=0.01, gamma=1e-09, learning_rate=0.029458563752409295, max_delta_step=20, max_depth=49, min_child_weight=5, n_estimators=200, reg_alpha=1.0, reg_lambda=1e-09, scale_pos_weight=499.99999999999994, subsample=1.0 \n",
      "[CV]  colsample_bylevel=0.01, colsample_bytree=0.01, gamma=1e-09, learning_rate=0.029458563752409295, max_delta_step=20, max_depth=49, min_child_weight=5, n_estimators=200, reg_alpha=1.0, reg_lambda=1e-09, scale_pos_weight=499.99999999999994, subsample=1.0, score=-0.038, total=   1.1s\n",
      "[CV] colsample_bylevel=0.01, colsample_bytree=0.01, gamma=1e-09, learning_rate=0.029458563752409295, max_delta_step=20, max_depth=49, min_child_weight=5, n_estimators=200, reg_alpha=1.0, reg_lambda=1e-09, scale_pos_weight=499.99999999999994, subsample=1.0 \n",
      "[CV]  colsample_bylevel=0.01, colsample_bytree=0.01, gamma=1e-09, learning_rate=0.029458563752409295, max_delta_step=20, max_depth=49, min_child_weight=5, n_estimators=200, reg_alpha=1.0, reg_lambda=1e-09, scale_pos_weight=499.99999999999994, subsample=1.0, score=0.020, total=   1.1s\n",
      "[CV] colsample_bylevel=0.01, colsample_bytree=0.01, gamma=1e-09, learning_rate=0.029458563752409295, max_delta_step=20, max_depth=49, min_child_weight=5, n_estimators=200, reg_alpha=1.0, reg_lambda=1e-09, scale_pos_weight=499.99999999999994, subsample=1.0 \n",
      "[CV]  colsample_bylevel=0.01, colsample_bytree=0.01, gamma=1e-09, learning_rate=0.029458563752409295, max_delta_step=20, max_depth=49, min_child_weight=5, n_estimators=200, reg_alpha=1.0, reg_lambda=1e-09, scale_pos_weight=499.99999999999994, subsample=1.0, score=0.003, total=   1.1s\n",
      "[CV] colsample_bylevel=0.2526538363844862, colsample_bytree=0.5778619937516044, gamma=1.574832706996983e-08, learning_rate=0.14767323974100188, max_delta_step=14, max_depth=28, min_child_weight=0, n_estimators=81, reg_alpha=1.1365434627984676e-09, reg_lambda=0.0006463237314255374, scale_pos_weight=0.2238252760361755, subsample=1.0 \n",
      "[CV]  colsample_bylevel=0.2526538363844862, colsample_bytree=0.5778619937516044, gamma=1.574832706996983e-08, learning_rate=0.14767323974100188, max_delta_step=14, max_depth=28, min_child_weight=0, n_estimators=81, reg_alpha=1.1365434627984676e-09, reg_lambda=0.0006463237314255374, scale_pos_weight=0.2238252760361755, subsample=1.0, score=-0.008, total=   4.0s\n",
      "[CV] colsample_bylevel=0.2526538363844862, colsample_bytree=0.5778619937516044, gamma=1.574832706996983e-08, learning_rate=0.14767323974100188, max_delta_step=14, max_depth=28, min_child_weight=0, n_estimators=81, reg_alpha=1.1365434627984676e-09, reg_lambda=0.0006463237314255374, scale_pos_weight=0.2238252760361755, subsample=1.0 \n",
      "[CV]  colsample_bylevel=0.2526538363844862, colsample_bytree=0.5778619937516044, gamma=1.574832706996983e-08, learning_rate=0.14767323974100188, max_delta_step=14, max_depth=28, min_child_weight=0, n_estimators=81, reg_alpha=1.1365434627984676e-09, reg_lambda=0.0006463237314255374, scale_pos_weight=0.2238252760361755, subsample=1.0, score=-0.053, total=   4.0s\n",
      "[CV] colsample_bylevel=0.2526538363844862, colsample_bytree=0.5778619937516044, gamma=1.574832706996983e-08, learning_rate=0.14767323974100188, max_delta_step=14, max_depth=28, min_child_weight=0, n_estimators=81, reg_alpha=1.1365434627984676e-09, reg_lambda=0.0006463237314255374, scale_pos_weight=0.2238252760361755, subsample=1.0 \n",
      "[CV]  colsample_bylevel=0.2526538363844862, colsample_bytree=0.5778619937516044, gamma=1.574832706996983e-08, learning_rate=0.14767323974100188, max_delta_step=14, max_depth=28, min_child_weight=0, n_estimators=81, reg_alpha=1.1365434627984676e-09, reg_lambda=0.0006463237314255374, scale_pos_weight=0.2238252760361755, subsample=1.0, score=-0.032, total=   4.1s\n",
      "[CV] colsample_bylevel=0.2526538363844862, colsample_bytree=0.5778619937516044, gamma=1.574832706996983e-08, learning_rate=0.14767323974100188, max_delta_step=14, max_depth=28, min_child_weight=0, n_estimators=81, reg_alpha=1.1365434627984676e-09, reg_lambda=0.0006463237314255374, scale_pos_weight=0.2238252760361755, subsample=1.0 \n",
      "[CV]  colsample_bylevel=0.2526538363844862, colsample_bytree=0.5778619937516044, gamma=1.574832706996983e-08, learning_rate=0.14767323974100188, max_delta_step=14, max_depth=28, min_child_weight=0, n_estimators=81, reg_alpha=1.1365434627984676e-09, reg_lambda=0.0006463237314255374, scale_pos_weight=0.2238252760361755, subsample=1.0, score=0.040, total=   4.1s\n",
      "[CV] colsample_bylevel=0.2526538363844862, colsample_bytree=0.5778619937516044, gamma=1.574832706996983e-08, learning_rate=0.14767323974100188, max_delta_step=14, max_depth=28, min_child_weight=0, n_estimators=81, reg_alpha=1.1365434627984676e-09, reg_lambda=0.0006463237314255374, scale_pos_weight=0.2238252760361755, subsample=1.0 \n",
      "[CV]  colsample_bylevel=0.2526538363844862, colsample_bytree=0.5778619937516044, gamma=1.574832706996983e-08, learning_rate=0.14767323974100188, max_delta_step=14, max_depth=28, min_child_weight=0, n_estimators=81, reg_alpha=1.1365434627984676e-09, reg_lambda=0.0006463237314255374, scale_pos_weight=0.2238252760361755, subsample=1.0, score=0.024, total=   4.1s\n",
      "[CV] colsample_bylevel=0.21575540774103713, colsample_bytree=0.01, gamma=0.45115700119384544, learning_rate=0.05127864822539862, max_delta_step=20, max_depth=8, min_child_weight=0, n_estimators=52, reg_alpha=1e-09, reg_lambda=120.11195894549557, scale_pos_weight=0.00011730003534094594, subsample=0.28536787890928245 \n",
      "[CV]  colsample_bylevel=0.21575540774103713, colsample_bytree=0.01, gamma=0.45115700119384544, learning_rate=0.05127864822539862, max_delta_step=20, max_depth=8, min_child_weight=0, n_estimators=52, reg_alpha=1e-09, reg_lambda=120.11195894549557, scale_pos_weight=0.00011730003534094594, subsample=0.28536787890928245, score=-0.013, total=   0.5s\n",
      "[CV] colsample_bylevel=0.21575540774103713, colsample_bytree=0.01, gamma=0.45115700119384544, learning_rate=0.05127864822539862, max_delta_step=20, max_depth=8, min_child_weight=0, n_estimators=52, reg_alpha=1e-09, reg_lambda=120.11195894549557, scale_pos_weight=0.00011730003534094594, subsample=0.28536787890928245 \n",
      "[CV]  colsample_bylevel=0.21575540774103713, colsample_bytree=0.01, gamma=0.45115700119384544, learning_rate=0.05127864822539862, max_delta_step=20, max_depth=8, min_child_weight=0, n_estimators=52, reg_alpha=1e-09, reg_lambda=120.11195894549557, scale_pos_weight=0.00011730003534094594, subsample=0.28536787890928245, score=0.001, total=   0.6s\n",
      "[CV] colsample_bylevel=0.21575540774103713, colsample_bytree=0.01, gamma=0.45115700119384544, learning_rate=0.05127864822539862, max_delta_step=20, max_depth=8, min_child_weight=0, n_estimators=52, reg_alpha=1e-09, reg_lambda=120.11195894549557, scale_pos_weight=0.00011730003534094594, subsample=0.28536787890928245 \n",
      "[CV]  colsample_bylevel=0.21575540774103713, colsample_bytree=0.01, gamma=0.45115700119384544, learning_rate=0.05127864822539862, max_delta_step=20, max_depth=8, min_child_weight=0, n_estimators=52, reg_alpha=1e-09, reg_lambda=120.11195894549557, scale_pos_weight=0.00011730003534094594, subsample=0.28536787890928245, score=-0.073, total=   0.5s\n",
      "[CV] colsample_bylevel=0.21575540774103713, colsample_bytree=0.01, gamma=0.45115700119384544, learning_rate=0.05127864822539862, max_delta_step=20, max_depth=8, min_child_weight=0, n_estimators=52, reg_alpha=1e-09, reg_lambda=120.11195894549557, scale_pos_weight=0.00011730003534094594, subsample=0.28536787890928245 \n"
     ]
    },
    {
     "name": "stdout",
     "output_type": "stream",
     "text": [
      "[CV]  colsample_bylevel=0.21575540774103713, colsample_bytree=0.01, gamma=0.45115700119384544, learning_rate=0.05127864822539862, max_delta_step=20, max_depth=8, min_child_weight=0, n_estimators=52, reg_alpha=1e-09, reg_lambda=120.11195894549557, scale_pos_weight=0.00011730003534094594, subsample=0.28536787890928245, score=-0.008, total=   0.5s\n",
      "[CV] colsample_bylevel=0.21575540774103713, colsample_bytree=0.01, gamma=0.45115700119384544, learning_rate=0.05127864822539862, max_delta_step=20, max_depth=8, min_child_weight=0, n_estimators=52, reg_alpha=1e-09, reg_lambda=120.11195894549557, scale_pos_weight=0.00011730003534094594, subsample=0.28536787890928245 \n",
      "[CV]  colsample_bylevel=0.21575540774103713, colsample_bytree=0.01, gamma=0.45115700119384544, learning_rate=0.05127864822539862, max_delta_step=20, max_depth=8, min_child_weight=0, n_estimators=52, reg_alpha=1e-09, reg_lambda=120.11195894549557, scale_pos_weight=0.00011730003534094594, subsample=0.28536787890928245, score=-0.073, total=   0.5s\n",
      "[CV] colsample_bylevel=0.7008580605744852, colsample_bytree=0.01, gamma=1.3404632138627228e-07, learning_rate=0.14455246007353595, max_delta_step=8, max_depth=3, min_child_weight=3, n_estimators=67, reg_alpha=0.00034298264148236384, reg_lambda=3.3957895729875593e-08, scale_pos_weight=1.0384485256030053e-05, subsample=0.4734262316509318 \n",
      "[CV]  colsample_bylevel=0.7008580605744852, colsample_bytree=0.01, gamma=1.3404632138627228e-07, learning_rate=0.14455246007353595, max_delta_step=8, max_depth=3, min_child_weight=3, n_estimators=67, reg_alpha=0.00034298264148236384, reg_lambda=3.3957895729875593e-08, scale_pos_weight=1.0384485256030053e-05, subsample=0.4734262316509318, score=0.032, total=   0.6s\n",
      "[CV] colsample_bylevel=0.7008580605744852, colsample_bytree=0.01, gamma=1.3404632138627228e-07, learning_rate=0.14455246007353595, max_delta_step=8, max_depth=3, min_child_weight=3, n_estimators=67, reg_alpha=0.00034298264148236384, reg_lambda=3.3957895729875593e-08, scale_pos_weight=1.0384485256030053e-05, subsample=0.4734262316509318 \n",
      "[CV]  colsample_bylevel=0.7008580605744852, colsample_bytree=0.01, gamma=1.3404632138627228e-07, learning_rate=0.14455246007353595, max_delta_step=8, max_depth=3, min_child_weight=3, n_estimators=67, reg_alpha=0.00034298264148236384, reg_lambda=3.3957895729875593e-08, scale_pos_weight=1.0384485256030053e-05, subsample=0.4734262316509318, score=-0.013, total=   0.6s\n",
      "[CV] colsample_bylevel=0.7008580605744852, colsample_bytree=0.01, gamma=1.3404632138627228e-07, learning_rate=0.14455246007353595, max_delta_step=8, max_depth=3, min_child_weight=3, n_estimators=67, reg_alpha=0.00034298264148236384, reg_lambda=3.3957895729875593e-08, scale_pos_weight=1.0384485256030053e-05, subsample=0.4734262316509318 \n",
      "[CV]  colsample_bylevel=0.7008580605744852, colsample_bytree=0.01, gamma=1.3404632138627228e-07, learning_rate=0.14455246007353595, max_delta_step=8, max_depth=3, min_child_weight=3, n_estimators=67, reg_alpha=0.00034298264148236384, reg_lambda=3.3957895729875593e-08, scale_pos_weight=1.0384485256030053e-05, subsample=0.4734262316509318, score=-0.043, total=   0.6s\n",
      "[CV] colsample_bylevel=0.7008580605744852, colsample_bytree=0.01, gamma=1.3404632138627228e-07, learning_rate=0.14455246007353595, max_delta_step=8, max_depth=3, min_child_weight=3, n_estimators=67, reg_alpha=0.00034298264148236384, reg_lambda=3.3957895729875593e-08, scale_pos_weight=1.0384485256030053e-05, subsample=0.4734262316509318 \n",
      "[CV]  colsample_bylevel=0.7008580605744852, colsample_bytree=0.01, gamma=1.3404632138627228e-07, learning_rate=0.14455246007353595, max_delta_step=8, max_depth=3, min_child_weight=3, n_estimators=67, reg_alpha=0.00034298264148236384, reg_lambda=3.3957895729875593e-08, scale_pos_weight=1.0384485256030053e-05, subsample=0.4734262316509318, score=0.050, total=   0.6s\n",
      "[CV] colsample_bylevel=0.7008580605744852, colsample_bytree=0.01, gamma=1.3404632138627228e-07, learning_rate=0.14455246007353595, max_delta_step=8, max_depth=3, min_child_weight=3, n_estimators=67, reg_alpha=0.00034298264148236384, reg_lambda=3.3957895729875593e-08, scale_pos_weight=1.0384485256030053e-05, subsample=0.4734262316509318 \n",
      "[CV]  colsample_bylevel=0.7008580605744852, colsample_bytree=0.01, gamma=1.3404632138627228e-07, learning_rate=0.14455246007353595, max_delta_step=8, max_depth=3, min_child_weight=3, n_estimators=67, reg_alpha=0.00034298264148236384, reg_lambda=3.3957895729875593e-08, scale_pos_weight=1.0384485256030053e-05, subsample=0.4734262316509318, score=0.018, total=   0.6s\n",
      "[CV] colsample_bylevel=0.13082481899868187, colsample_bytree=0.01, gamma=0.3967436770050643, learning_rate=0.04702569017554759, max_delta_step=20, max_depth=9, min_child_weight=0, n_estimators=50, reg_alpha=1e-09, reg_lambda=83.70950435055266, scale_pos_weight=6.150866166525592e-05, subsample=0.31500646282651895 \n",
      "[CV]  colsample_bylevel=0.13082481899868187, colsample_bytree=0.01, gamma=0.3967436770050643, learning_rate=0.04702569017554759, max_delta_step=20, max_depth=9, min_child_weight=0, n_estimators=50, reg_alpha=1e-09, reg_lambda=83.70950435055266, scale_pos_weight=6.150866166525592e-05, subsample=0.31500646282651895, score=-0.018, total=   0.6s\n",
      "[CV] colsample_bylevel=0.13082481899868187, colsample_bytree=0.01, gamma=0.3967436770050643, learning_rate=0.04702569017554759, max_delta_step=20, max_depth=9, min_child_weight=0, n_estimators=50, reg_alpha=1e-09, reg_lambda=83.70950435055266, scale_pos_weight=6.150866166525592e-05, subsample=0.31500646282651895 \n",
      "[CV]  colsample_bylevel=0.13082481899868187, colsample_bytree=0.01, gamma=0.3967436770050643, learning_rate=0.04702569017554759, max_delta_step=20, max_depth=9, min_child_weight=0, n_estimators=50, reg_alpha=1e-09, reg_lambda=83.70950435055266, scale_pos_weight=6.150866166525592e-05, subsample=0.31500646282651895, score=-0.000, total=   0.5s\n",
      "[CV] colsample_bylevel=0.13082481899868187, colsample_bytree=0.01, gamma=0.3967436770050643, learning_rate=0.04702569017554759, max_delta_step=20, max_depth=9, min_child_weight=0, n_estimators=50, reg_alpha=1e-09, reg_lambda=83.70950435055266, scale_pos_weight=6.150866166525592e-05, subsample=0.31500646282651895 \n",
      "[CV]  colsample_bylevel=0.13082481899868187, colsample_bytree=0.01, gamma=0.3967436770050643, learning_rate=0.04702569017554759, max_delta_step=20, max_depth=9, min_child_weight=0, n_estimators=50, reg_alpha=1e-09, reg_lambda=83.70950435055266, scale_pos_weight=6.150866166525592e-05, subsample=0.31500646282651895, score=-0.071, total=   0.5s\n",
      "[CV] colsample_bylevel=0.13082481899868187, colsample_bytree=0.01, gamma=0.3967436770050643, learning_rate=0.04702569017554759, max_delta_step=20, max_depth=9, min_child_weight=0, n_estimators=50, reg_alpha=1e-09, reg_lambda=83.70950435055266, scale_pos_weight=6.150866166525592e-05, subsample=0.31500646282651895 \n",
      "[CV]  colsample_bylevel=0.13082481899868187, colsample_bytree=0.01, gamma=0.3967436770050643, learning_rate=0.04702569017554759, max_delta_step=20, max_depth=9, min_child_weight=0, n_estimators=50, reg_alpha=1e-09, reg_lambda=83.70950435055266, scale_pos_weight=6.150866166525592e-05, subsample=0.31500646282651895, score=-0.002, total=   0.6s\n",
      "[CV] colsample_bylevel=0.13082481899868187, colsample_bytree=0.01, gamma=0.3967436770050643, learning_rate=0.04702569017554759, max_delta_step=20, max_depth=9, min_child_weight=0, n_estimators=50, reg_alpha=1e-09, reg_lambda=83.70950435055266, scale_pos_weight=6.150866166525592e-05, subsample=0.31500646282651895 \n",
      "[CV]  colsample_bylevel=0.13082481899868187, colsample_bytree=0.01, gamma=0.3967436770050643, learning_rate=0.04702569017554759, max_delta_step=20, max_depth=9, min_child_weight=0, n_estimators=50, reg_alpha=1e-09, reg_lambda=83.70950435055266, scale_pos_weight=6.150866166525592e-05, subsample=0.31500646282651895, score=-0.090, total=   0.6s\n",
      "[CV] colsample_bylevel=0.20867217268288402, colsample_bytree=0.6186382155683773, gamma=1e-09, learning_rate=0.13627178784482954, max_delta_step=15, max_depth=40, min_child_weight=0, n_estimators=200, reg_alpha=0.00022481217304057356, reg_lambda=1e-09, scale_pos_weight=237.8801478646661, subsample=0.9232120188406407 \n",
      "[CV]  colsample_bylevel=0.20867217268288402, colsample_bytree=0.6186382155683773, gamma=1e-09, learning_rate=0.13627178784482954, max_delta_step=15, max_depth=40, min_child_weight=0, n_estimators=200, reg_alpha=0.00022481217304057356, reg_lambda=1e-09, scale_pos_weight=237.8801478646661, subsample=0.9232120188406407, score=-0.003, total=   7.7s\n",
      "[CV] colsample_bylevel=0.20867217268288402, colsample_bytree=0.6186382155683773, gamma=1e-09, learning_rate=0.13627178784482954, max_delta_step=15, max_depth=40, min_child_weight=0, n_estimators=200, reg_alpha=0.00022481217304057356, reg_lambda=1e-09, scale_pos_weight=237.8801478646661, subsample=0.9232120188406407 \n"
     ]
    },
    {
     "name": "stdout",
     "output_type": "stream",
     "text": [
      "[CV]  colsample_bylevel=0.20867217268288402, colsample_bytree=0.6186382155683773, gamma=1e-09, learning_rate=0.13627178784482954, max_delta_step=15, max_depth=40, min_child_weight=0, n_estimators=200, reg_alpha=0.00022481217304057356, reg_lambda=1e-09, scale_pos_weight=237.8801478646661, subsample=0.9232120188406407, score=0.013, total=   7.7s\n",
      "[CV] colsample_bylevel=0.20867217268288402, colsample_bytree=0.6186382155683773, gamma=1e-09, learning_rate=0.13627178784482954, max_delta_step=15, max_depth=40, min_child_weight=0, n_estimators=200, reg_alpha=0.00022481217304057356, reg_lambda=1e-09, scale_pos_weight=237.8801478646661, subsample=0.9232120188406407 \n",
      "[CV]  colsample_bylevel=0.20867217268288402, colsample_bytree=0.6186382155683773, gamma=1e-09, learning_rate=0.13627178784482954, max_delta_step=15, max_depth=40, min_child_weight=0, n_estimators=200, reg_alpha=0.00022481217304057356, reg_lambda=1e-09, scale_pos_weight=237.8801478646661, subsample=0.9232120188406407, score=-0.030, total=   7.6s\n",
      "[CV] colsample_bylevel=0.20867217268288402, colsample_bytree=0.6186382155683773, gamma=1e-09, learning_rate=0.13627178784482954, max_delta_step=15, max_depth=40, min_child_weight=0, n_estimators=200, reg_alpha=0.00022481217304057356, reg_lambda=1e-09, scale_pos_weight=237.8801478646661, subsample=0.9232120188406407 \n",
      "[CV]  colsample_bylevel=0.20867217268288402, colsample_bytree=0.6186382155683773, gamma=1e-09, learning_rate=0.13627178784482954, max_delta_step=15, max_depth=40, min_child_weight=0, n_estimators=200, reg_alpha=0.00022481217304057356, reg_lambda=1e-09, scale_pos_weight=237.8801478646661, subsample=0.9232120188406407, score=-0.015, total=   7.6s\n",
      "[CV] colsample_bylevel=0.20867217268288402, colsample_bytree=0.6186382155683773, gamma=1e-09, learning_rate=0.13627178784482954, max_delta_step=15, max_depth=40, min_child_weight=0, n_estimators=200, reg_alpha=0.00022481217304057356, reg_lambda=1e-09, scale_pos_weight=237.8801478646661, subsample=0.9232120188406407 \n",
      "[CV]  colsample_bylevel=0.20867217268288402, colsample_bytree=0.6186382155683773, gamma=1e-09, learning_rate=0.13627178784482954, max_delta_step=15, max_depth=40, min_child_weight=0, n_estimators=200, reg_alpha=0.00022481217304057356, reg_lambda=1e-09, scale_pos_weight=237.8801478646661, subsample=0.9232120188406407, score=0.045, total=   7.6s\n",
      "[CV] colsample_bylevel=1.0, colsample_bytree=0.01, gamma=1e-09, learning_rate=1.0, max_delta_step=0, max_depth=21, min_child_weight=3, n_estimators=200, reg_alpha=1.0, reg_lambda=1e-09, scale_pos_weight=13.17278031248282, subsample=0.9375181419542404 \n",
      "[CV]  colsample_bylevel=1.0, colsample_bytree=0.01, gamma=1e-09, learning_rate=1.0, max_delta_step=0, max_depth=21, min_child_weight=3, n_estimators=200, reg_alpha=1.0, reg_lambda=1e-09, scale_pos_weight=13.17278031248282, subsample=0.9375181419542404, score=-1.241, total=   1.1s\n",
      "[CV] colsample_bylevel=1.0, colsample_bytree=0.01, gamma=1e-09, learning_rate=1.0, max_delta_step=0, max_depth=21, min_child_weight=3, n_estimators=200, reg_alpha=1.0, reg_lambda=1e-09, scale_pos_weight=13.17278031248282, subsample=0.9375181419542404 \n",
      "[CV]  colsample_bylevel=1.0, colsample_bytree=0.01, gamma=1e-09, learning_rate=1.0, max_delta_step=0, max_depth=21, min_child_weight=3, n_estimators=200, reg_alpha=1.0, reg_lambda=1e-09, scale_pos_weight=13.17278031248282, subsample=0.9375181419542404, score=-1.350, total=   1.2s\n",
      "[CV] colsample_bylevel=1.0, colsample_bytree=0.01, gamma=1e-09, learning_rate=1.0, max_delta_step=0, max_depth=21, min_child_weight=3, n_estimators=200, reg_alpha=1.0, reg_lambda=1e-09, scale_pos_weight=13.17278031248282, subsample=0.9375181419542404 \n",
      "[CV]  colsample_bylevel=1.0, colsample_bytree=0.01, gamma=1e-09, learning_rate=1.0, max_delta_step=0, max_depth=21, min_child_weight=3, n_estimators=200, reg_alpha=1.0, reg_lambda=1e-09, scale_pos_weight=13.17278031248282, subsample=0.9375181419542404, score=-1.298, total=   1.1s\n",
      "[CV] colsample_bylevel=1.0, colsample_bytree=0.01, gamma=1e-09, learning_rate=1.0, max_delta_step=0, max_depth=21, min_child_weight=3, n_estimators=200, reg_alpha=1.0, reg_lambda=1e-09, scale_pos_weight=13.17278031248282, subsample=0.9375181419542404 \n",
      "[CV]  colsample_bylevel=1.0, colsample_bytree=0.01, gamma=1e-09, learning_rate=1.0, max_delta_step=0, max_depth=21, min_child_weight=3, n_estimators=200, reg_alpha=1.0, reg_lambda=1e-09, scale_pos_weight=13.17278031248282, subsample=0.9375181419542404, score=-1.140, total=   1.1s\n",
      "[CV] colsample_bylevel=1.0, colsample_bytree=0.01, gamma=1e-09, learning_rate=1.0, max_delta_step=0, max_depth=21, min_child_weight=3, n_estimators=200, reg_alpha=1.0, reg_lambda=1e-09, scale_pos_weight=13.17278031248282, subsample=0.9375181419542404 \n",
      "[CV]  colsample_bylevel=1.0, colsample_bytree=0.01, gamma=1e-09, learning_rate=1.0, max_delta_step=0, max_depth=21, min_child_weight=3, n_estimators=200, reg_alpha=1.0, reg_lambda=1e-09, scale_pos_weight=13.17278031248282, subsample=0.9375181419542404, score=-1.113, total=   1.1s\n",
      "[CV] colsample_bylevel=0.01, colsample_bytree=0.01, gamma=0.49999999999999994, learning_rate=0.02309020402354211, max_delta_step=20, max_depth=17, min_child_weight=0, n_estimators=56, reg_alpha=1e-09, reg_lambda=1000.0, scale_pos_weight=0.0018224037384132077, subsample=0.2552995608566795 \n",
      "[CV]  colsample_bylevel=0.01, colsample_bytree=0.01, gamma=0.49999999999999994, learning_rate=0.02309020402354211, max_delta_step=20, max_depth=17, min_child_weight=0, n_estimators=56, reg_alpha=1e-09, reg_lambda=1000.0, scale_pos_weight=0.0018224037384132077, subsample=0.2552995608566795, score=-0.824, total=   0.5s\n",
      "[CV] colsample_bylevel=0.01, colsample_bytree=0.01, gamma=0.49999999999999994, learning_rate=0.02309020402354211, max_delta_step=20, max_depth=17, min_child_weight=0, n_estimators=56, reg_alpha=1e-09, reg_lambda=1000.0, scale_pos_weight=0.0018224037384132077, subsample=0.2552995608566795 \n",
      "[CV]  colsample_bylevel=0.01, colsample_bytree=0.01, gamma=0.49999999999999994, learning_rate=0.02309020402354211, max_delta_step=20, max_depth=17, min_child_weight=0, n_estimators=56, reg_alpha=1e-09, reg_lambda=1000.0, scale_pos_weight=0.0018224037384132077, subsample=0.2552995608566795, score=-0.785, total=   0.5s\n",
      "[CV] colsample_bylevel=0.01, colsample_bytree=0.01, gamma=0.49999999999999994, learning_rate=0.02309020402354211, max_delta_step=20, max_depth=17, min_child_weight=0, n_estimators=56, reg_alpha=1e-09, reg_lambda=1000.0, scale_pos_weight=0.0018224037384132077, subsample=0.2552995608566795 \n",
      "[CV]  colsample_bylevel=0.01, colsample_bytree=0.01, gamma=0.49999999999999994, learning_rate=0.02309020402354211, max_delta_step=20, max_depth=17, min_child_weight=0, n_estimators=56, reg_alpha=1e-09, reg_lambda=1000.0, scale_pos_weight=0.0018224037384132077, subsample=0.2552995608566795, score=-0.963, total=   0.5s\n",
      "[CV] colsample_bylevel=0.01, colsample_bytree=0.01, gamma=0.49999999999999994, learning_rate=0.02309020402354211, max_delta_step=20, max_depth=17, min_child_weight=0, n_estimators=56, reg_alpha=1e-09, reg_lambda=1000.0, scale_pos_weight=0.0018224037384132077, subsample=0.2552995608566795 \n",
      "[CV]  colsample_bylevel=0.01, colsample_bytree=0.01, gamma=0.49999999999999994, learning_rate=0.02309020402354211, max_delta_step=20, max_depth=17, min_child_weight=0, n_estimators=56, reg_alpha=1e-09, reg_lambda=1000.0, scale_pos_weight=0.0018224037384132077, subsample=0.2552995608566795, score=-0.749, total=   0.6s\n",
      "[CV] colsample_bylevel=0.01, colsample_bytree=0.01, gamma=0.49999999999999994, learning_rate=0.02309020402354211, max_delta_step=20, max_depth=17, min_child_weight=0, n_estimators=56, reg_alpha=1e-09, reg_lambda=1000.0, scale_pos_weight=0.0018224037384132077, subsample=0.2552995608566795 \n",
      "[CV]  colsample_bylevel=0.01, colsample_bytree=0.01, gamma=0.49999999999999994, learning_rate=0.02309020402354211, max_delta_step=20, max_depth=17, min_child_weight=0, n_estimators=56, reg_alpha=1e-09, reg_lambda=1000.0, scale_pos_weight=0.0018224037384132077, subsample=0.2552995608566795, score=-0.877, total=   0.5s\n",
      "[CV] colsample_bylevel=0.7060946480759356, colsample_bytree=0.4589695179647281, gamma=1e-09, learning_rate=0.01, max_delta_step=20, max_depth=50, min_child_weight=0, n_estimators=200, reg_alpha=1.0, reg_lambda=1e-09, scale_pos_weight=499.99999999999994, subsample=1.0 \n"
     ]
    },
    {
     "name": "stdout",
     "output_type": "stream",
     "text": [
      "[CV]  colsample_bylevel=0.7060946480759356, colsample_bytree=0.4589695179647281, gamma=1e-09, learning_rate=0.01, max_delta_step=20, max_depth=50, min_child_weight=0, n_estimators=200, reg_alpha=1.0, reg_lambda=1e-09, scale_pos_weight=499.99999999999994, subsample=1.0, score=-0.145, total=  23.4s\n",
      "[CV] colsample_bylevel=0.7060946480759356, colsample_bytree=0.4589695179647281, gamma=1e-09, learning_rate=0.01, max_delta_step=20, max_depth=50, min_child_weight=0, n_estimators=200, reg_alpha=1.0, reg_lambda=1e-09, scale_pos_weight=499.99999999999994, subsample=1.0 \n",
      "[CV]  colsample_bylevel=0.7060946480759356, colsample_bytree=0.4589695179647281, gamma=1e-09, learning_rate=0.01, max_delta_step=20, max_depth=50, min_child_weight=0, n_estimators=200, reg_alpha=1.0, reg_lambda=1e-09, scale_pos_weight=499.99999999999994, subsample=1.0, score=-0.094, total=  23.8s\n",
      "[CV] colsample_bylevel=0.7060946480759356, colsample_bytree=0.4589695179647281, gamma=1e-09, learning_rate=0.01, max_delta_step=20, max_depth=50, min_child_weight=0, n_estimators=200, reg_alpha=1.0, reg_lambda=1e-09, scale_pos_weight=499.99999999999994, subsample=1.0 \n",
      "[CV]  colsample_bylevel=0.7060946480759356, colsample_bytree=0.4589695179647281, gamma=1e-09, learning_rate=0.01, max_delta_step=20, max_depth=50, min_child_weight=0, n_estimators=200, reg_alpha=1.0, reg_lambda=1e-09, scale_pos_weight=499.99999999999994, subsample=1.0, score=-0.212, total=  21.5s\n",
      "[CV] colsample_bylevel=0.7060946480759356, colsample_bytree=0.4589695179647281, gamma=1e-09, learning_rate=0.01, max_delta_step=20, max_depth=50, min_child_weight=0, n_estimators=200, reg_alpha=1.0, reg_lambda=1e-09, scale_pos_weight=499.99999999999994, subsample=1.0 \n",
      "[CV]  colsample_bylevel=0.7060946480759356, colsample_bytree=0.4589695179647281, gamma=1e-09, learning_rate=0.01, max_delta_step=20, max_depth=50, min_child_weight=0, n_estimators=200, reg_alpha=1.0, reg_lambda=1e-09, scale_pos_weight=499.99999999999994, subsample=1.0, score=-0.092, total=  23.3s\n",
      "[CV] colsample_bylevel=0.7060946480759356, colsample_bytree=0.4589695179647281, gamma=1e-09, learning_rate=0.01, max_delta_step=20, max_depth=50, min_child_weight=0, n_estimators=200, reg_alpha=1.0, reg_lambda=1e-09, scale_pos_weight=499.99999999999994, subsample=1.0 \n",
      "[CV]  colsample_bylevel=0.7060946480759356, colsample_bytree=0.4589695179647281, gamma=1e-09, learning_rate=0.01, max_delta_step=20, max_depth=50, min_child_weight=0, n_estimators=200, reg_alpha=1.0, reg_lambda=1e-09, scale_pos_weight=499.99999999999994, subsample=1.0, score=-0.205, total=  21.9s\n"
     ]
    },
    {
     "name": "stderr",
     "output_type": "stream",
     "text": [
      "[Parallel(n_jobs=1)]: Done  60 out of  60 | elapsed:  3.9min finished\n"
     ]
    },
    {
     "name": "stdout",
     "output_type": "stream",
     "text": [
      "best score: 0.008686605470849679\n",
      "Fitting 5 folds for each of 12 candidates, totalling 60 fits\n",
      "[CV] colsample_bylevel=0.01, colsample_bytree=0.09359039809223961, gamma=0.49999999999999994, learning_rate=0.04948381987847956, max_delta_step=19, max_depth=17, min_child_weight=0, n_estimators=63, reg_alpha=1.367932597982394e-09, reg_lambda=5.056596524403098, scale_pos_weight=0.23333861232013503, subsample=0.2058298619562609 \n"
     ]
    },
    {
     "name": "stderr",
     "output_type": "stream",
     "text": [
      "[Parallel(n_jobs=1)]: Using backend SequentialBackend with 1 concurrent workers.\n"
     ]
    },
    {
     "name": "stdout",
     "output_type": "stream",
     "text": [
      "[CV]  colsample_bylevel=0.01, colsample_bytree=0.09359039809223961, gamma=0.49999999999999994, learning_rate=0.04948381987847956, max_delta_step=19, max_depth=17, min_child_weight=0, n_estimators=63, reg_alpha=1.367932597982394e-09, reg_lambda=5.056596524403098, scale_pos_weight=0.23333861232013503, subsample=0.2058298619562609, score=0.006, total=   0.6s\n",
      "[CV] colsample_bylevel=0.01, colsample_bytree=0.09359039809223961, gamma=0.49999999999999994, learning_rate=0.04948381987847956, max_delta_step=19, max_depth=17, min_child_weight=0, n_estimators=63, reg_alpha=1.367932597982394e-09, reg_lambda=5.056596524403098, scale_pos_weight=0.23333861232013503, subsample=0.2058298619562609 \n"
     ]
    },
    {
     "name": "stderr",
     "output_type": "stream",
     "text": [
      "[Parallel(n_jobs=1)]: Done   1 out of   1 | elapsed:    0.6s remaining:    0.0s\n"
     ]
    },
    {
     "name": "stdout",
     "output_type": "stream",
     "text": [
      "[CV]  colsample_bylevel=0.01, colsample_bytree=0.09359039809223961, gamma=0.49999999999999994, learning_rate=0.04948381987847956, max_delta_step=19, max_depth=17, min_child_weight=0, n_estimators=63, reg_alpha=1.367932597982394e-09, reg_lambda=5.056596524403098, scale_pos_weight=0.23333861232013503, subsample=0.2058298619562609, score=0.004, total=   0.6s\n",
      "[CV] colsample_bylevel=0.01, colsample_bytree=0.09359039809223961, gamma=0.49999999999999994, learning_rate=0.04948381987847956, max_delta_step=19, max_depth=17, min_child_weight=0, n_estimators=63, reg_alpha=1.367932597982394e-09, reg_lambda=5.056596524403098, scale_pos_weight=0.23333861232013503, subsample=0.2058298619562609 \n"
     ]
    },
    {
     "name": "stderr",
     "output_type": "stream",
     "text": [
      "[Parallel(n_jobs=1)]: Done   2 out of   2 | elapsed:    1.1s remaining:    0.0s\n"
     ]
    },
    {
     "name": "stdout",
     "output_type": "stream",
     "text": [
      "[CV]  colsample_bylevel=0.01, colsample_bytree=0.09359039809223961, gamma=0.49999999999999994, learning_rate=0.04948381987847956, max_delta_step=19, max_depth=17, min_child_weight=0, n_estimators=63, reg_alpha=1.367932597982394e-09, reg_lambda=5.056596524403098, scale_pos_weight=0.23333861232013503, subsample=0.2058298619562609, score=-0.029, total=   0.6s\n",
      "[CV] colsample_bylevel=0.01, colsample_bytree=0.09359039809223961, gamma=0.49999999999999994, learning_rate=0.04948381987847956, max_delta_step=19, max_depth=17, min_child_weight=0, n_estimators=63, reg_alpha=1.367932597982394e-09, reg_lambda=5.056596524403098, scale_pos_weight=0.23333861232013503, subsample=0.2058298619562609 \n",
      "[CV]  colsample_bylevel=0.01, colsample_bytree=0.09359039809223961, gamma=0.49999999999999994, learning_rate=0.04948381987847956, max_delta_step=19, max_depth=17, min_child_weight=0, n_estimators=63, reg_alpha=1.367932597982394e-09, reg_lambda=5.056596524403098, scale_pos_weight=0.23333861232013503, subsample=0.2058298619562609, score=-0.002, total=   0.6s\n",
      "[CV] colsample_bylevel=0.01, colsample_bytree=0.09359039809223961, gamma=0.49999999999999994, learning_rate=0.04948381987847956, max_delta_step=19, max_depth=17, min_child_weight=0, n_estimators=63, reg_alpha=1.367932597982394e-09, reg_lambda=5.056596524403098, scale_pos_weight=0.23333861232013503, subsample=0.2058298619562609 \n",
      "[CV]  colsample_bylevel=0.01, colsample_bytree=0.09359039809223961, gamma=0.49999999999999994, learning_rate=0.04948381987847956, max_delta_step=19, max_depth=17, min_child_weight=0, n_estimators=63, reg_alpha=1.367932597982394e-09, reg_lambda=5.056596524403098, scale_pos_weight=0.23333861232013503, subsample=0.2058298619562609, score=-0.050, total=   0.6s\n",
      "[CV] colsample_bylevel=0.19651530909435413, colsample_bytree=0.01, gamma=1e-09, learning_rate=0.3400450104093324, max_delta_step=20, max_depth=50, min_child_weight=0, n_estimators=147, reg_alpha=1.0, reg_lambda=6.087048137639302e-06, scale_pos_weight=18.61355240490446, subsample=1.0 \n",
      "[CV]  colsample_bylevel=0.19651530909435413, colsample_bytree=0.01, gamma=1e-09, learning_rate=0.3400450104093324, max_delta_step=20, max_depth=50, min_child_weight=0, n_estimators=147, reg_alpha=1.0, reg_lambda=6.087048137639302e-06, scale_pos_weight=18.61355240490446, subsample=1.0, score=-0.083, total=   1.0s\n",
      "[CV] colsample_bylevel=0.19651530909435413, colsample_bytree=0.01, gamma=1e-09, learning_rate=0.3400450104093324, max_delta_step=20, max_depth=50, min_child_weight=0, n_estimators=147, reg_alpha=1.0, reg_lambda=6.087048137639302e-06, scale_pos_weight=18.61355240490446, subsample=1.0 \n",
      "[CV]  colsample_bylevel=0.19651530909435413, colsample_bytree=0.01, gamma=1e-09, learning_rate=0.3400450104093324, max_delta_step=20, max_depth=50, min_child_weight=0, n_estimators=147, reg_alpha=1.0, reg_lambda=6.087048137639302e-06, scale_pos_weight=18.61355240490446, subsample=1.0, score=-0.185, total=   1.0s\n",
      "[CV] colsample_bylevel=0.19651530909435413, colsample_bytree=0.01, gamma=1e-09, learning_rate=0.3400450104093324, max_delta_step=20, max_depth=50, min_child_weight=0, n_estimators=147, reg_alpha=1.0, reg_lambda=6.087048137639302e-06, scale_pos_weight=18.61355240490446, subsample=1.0 \n",
      "[CV]  colsample_bylevel=0.19651530909435413, colsample_bytree=0.01, gamma=1e-09, learning_rate=0.3400450104093324, max_delta_step=20, max_depth=50, min_child_weight=0, n_estimators=147, reg_alpha=1.0, reg_lambda=6.087048137639302e-06, scale_pos_weight=18.61355240490446, subsample=1.0, score=-0.070, total=   1.0s\n",
      "[CV] colsample_bylevel=0.19651530909435413, colsample_bytree=0.01, gamma=1e-09, learning_rate=0.3400450104093324, max_delta_step=20, max_depth=50, min_child_weight=0, n_estimators=147, reg_alpha=1.0, reg_lambda=6.087048137639302e-06, scale_pos_weight=18.61355240490446, subsample=1.0 \n",
      "[CV]  colsample_bylevel=0.19651530909435413, colsample_bytree=0.01, gamma=1e-09, learning_rate=0.3400450104093324, max_delta_step=20, max_depth=50, min_child_weight=0, n_estimators=147, reg_alpha=1.0, reg_lambda=6.087048137639302e-06, scale_pos_weight=18.61355240490446, subsample=1.0, score=-0.046, total=   1.0s\n",
      "[CV] colsample_bylevel=0.19651530909435413, colsample_bytree=0.01, gamma=1e-09, learning_rate=0.3400450104093324, max_delta_step=20, max_depth=50, min_child_weight=0, n_estimators=147, reg_alpha=1.0, reg_lambda=6.087048137639302e-06, scale_pos_weight=18.61355240490446, subsample=1.0 \n",
      "[CV]  colsample_bylevel=0.19651530909435413, colsample_bytree=0.01, gamma=1e-09, learning_rate=0.3400450104093324, max_delta_step=20, max_depth=50, min_child_weight=0, n_estimators=147, reg_alpha=1.0, reg_lambda=6.087048137639302e-06, scale_pos_weight=18.61355240490446, subsample=1.0, score=-0.059, total=   1.0s\n",
      "[CV] colsample_bylevel=0.02191975970628474, colsample_bytree=0.07563701102166764, gamma=0.49999999999999994, learning_rate=0.01765520614597539, max_delta_step=0, max_depth=0, min_child_weight=3, n_estimators=72, reg_alpha=1e-09, reg_lambda=0.24393655200105854, scale_pos_weight=1e-06, subsample=1.0 \n",
      "[CV]  colsample_bylevel=0.02191975970628474, colsample_bytree=0.07563701102166764, gamma=0.49999999999999994, learning_rate=0.01765520614597539, max_delta_step=0, max_depth=0, min_child_weight=3, n_estimators=72, reg_alpha=1e-09, reg_lambda=0.24393655200105854, scale_pos_weight=1e-06, subsample=1.0, score=-0.105, total=   0.6s\n",
      "[CV] colsample_bylevel=0.02191975970628474, colsample_bytree=0.07563701102166764, gamma=0.49999999999999994, learning_rate=0.01765520614597539, max_delta_step=0, max_depth=0, min_child_weight=3, n_estimators=72, reg_alpha=1e-09, reg_lambda=0.24393655200105854, scale_pos_weight=1e-06, subsample=1.0 \n",
      "[CV]  colsample_bylevel=0.02191975970628474, colsample_bytree=0.07563701102166764, gamma=0.49999999999999994, learning_rate=0.01765520614597539, max_delta_step=0, max_depth=0, min_child_weight=3, n_estimators=72, reg_alpha=1e-09, reg_lambda=0.24393655200105854, scale_pos_weight=1e-06, subsample=1.0, score=-0.062, total=   0.6s\n",
      "[CV] colsample_bylevel=0.02191975970628474, colsample_bytree=0.07563701102166764, gamma=0.49999999999999994, learning_rate=0.01765520614597539, max_delta_step=0, max_depth=0, min_child_weight=3, n_estimators=72, reg_alpha=1e-09, reg_lambda=0.24393655200105854, scale_pos_weight=1e-06, subsample=1.0 \n",
      "[CV]  colsample_bylevel=0.02191975970628474, colsample_bytree=0.07563701102166764, gamma=0.49999999999999994, learning_rate=0.01765520614597539, max_delta_step=0, max_depth=0, min_child_weight=3, n_estimators=72, reg_alpha=1e-09, reg_lambda=0.24393655200105854, scale_pos_weight=1e-06, subsample=1.0, score=-0.169, total=   0.6s\n",
      "[CV] colsample_bylevel=0.02191975970628474, colsample_bytree=0.07563701102166764, gamma=0.49999999999999994, learning_rate=0.01765520614597539, max_delta_step=0, max_depth=0, min_child_weight=3, n_estimators=72, reg_alpha=1e-09, reg_lambda=0.24393655200105854, scale_pos_weight=1e-06, subsample=1.0 \n",
      "[CV]  colsample_bylevel=0.02191975970628474, colsample_bytree=0.07563701102166764, gamma=0.49999999999999994, learning_rate=0.01765520614597539, max_delta_step=0, max_depth=0, min_child_weight=3, n_estimators=72, reg_alpha=1e-09, reg_lambda=0.24393655200105854, scale_pos_weight=1e-06, subsample=1.0, score=-0.079, total=   0.6s\n",
      "[CV] colsample_bylevel=0.02191975970628474, colsample_bytree=0.07563701102166764, gamma=0.49999999999999994, learning_rate=0.01765520614597539, max_delta_step=0, max_depth=0, min_child_weight=3, n_estimators=72, reg_alpha=1e-09, reg_lambda=0.24393655200105854, scale_pos_weight=1e-06, subsample=1.0 \n",
      "[CV]  colsample_bylevel=0.02191975970628474, colsample_bytree=0.07563701102166764, gamma=0.49999999999999994, learning_rate=0.01765520614597539, max_delta_step=0, max_depth=0, min_child_weight=3, n_estimators=72, reg_alpha=1e-09, reg_lambda=0.24393655200105854, scale_pos_weight=1e-06, subsample=1.0, score=-0.177, total=   0.6s\n",
      "[CV] colsample_bylevel=0.1380702982506878, colsample_bytree=0.01, gamma=1.2990537186976622e-09, learning_rate=0.13758399950623493, max_delta_step=20, max_depth=36, min_child_weight=1, n_estimators=200, reg_alpha=0.001990603323240474, reg_lambda=1e-09, scale_pos_weight=0.26009239088768177, subsample=0.5190168369747665 \n"
     ]
    },
    {
     "name": "stdout",
     "output_type": "stream",
     "text": [
      "[CV]  colsample_bylevel=0.1380702982506878, colsample_bytree=0.01, gamma=1.2990537186976622e-09, learning_rate=0.13758399950623493, max_delta_step=20, max_depth=36, min_child_weight=1, n_estimators=200, reg_alpha=0.001990603323240474, reg_lambda=1e-09, scale_pos_weight=0.26009239088768177, subsample=0.5190168369747665, score=0.000, total=   1.4s\n",
      "[CV] colsample_bylevel=0.1380702982506878, colsample_bytree=0.01, gamma=1.2990537186976622e-09, learning_rate=0.13758399950623493, max_delta_step=20, max_depth=36, min_child_weight=1, n_estimators=200, reg_alpha=0.001990603323240474, reg_lambda=1e-09, scale_pos_weight=0.26009239088768177, subsample=0.5190168369747665 \n",
      "[CV]  colsample_bylevel=0.1380702982506878, colsample_bytree=0.01, gamma=1.2990537186976622e-09, learning_rate=0.13758399950623493, max_delta_step=20, max_depth=36, min_child_weight=1, n_estimators=200, reg_alpha=0.001990603323240474, reg_lambda=1e-09, scale_pos_weight=0.26009239088768177, subsample=0.5190168369747665, score=-0.114, total=   1.4s\n",
      "[CV] colsample_bylevel=0.1380702982506878, colsample_bytree=0.01, gamma=1.2990537186976622e-09, learning_rate=0.13758399950623493, max_delta_step=20, max_depth=36, min_child_weight=1, n_estimators=200, reg_alpha=0.001990603323240474, reg_lambda=1e-09, scale_pos_weight=0.26009239088768177, subsample=0.5190168369747665 \n",
      "[CV]  colsample_bylevel=0.1380702982506878, colsample_bytree=0.01, gamma=1.2990537186976622e-09, learning_rate=0.13758399950623493, max_delta_step=20, max_depth=36, min_child_weight=1, n_estimators=200, reg_alpha=0.001990603323240474, reg_lambda=1e-09, scale_pos_weight=0.26009239088768177, subsample=0.5190168369747665, score=-0.144, total=   1.4s\n",
      "[CV] colsample_bylevel=0.1380702982506878, colsample_bytree=0.01, gamma=1.2990537186976622e-09, learning_rate=0.13758399950623493, max_delta_step=20, max_depth=36, min_child_weight=1, n_estimators=200, reg_alpha=0.001990603323240474, reg_lambda=1e-09, scale_pos_weight=0.26009239088768177, subsample=0.5190168369747665 \n",
      "[CV]  colsample_bylevel=0.1380702982506878, colsample_bytree=0.01, gamma=1.2990537186976622e-09, learning_rate=0.13758399950623493, max_delta_step=20, max_depth=36, min_child_weight=1, n_estimators=200, reg_alpha=0.001990603323240474, reg_lambda=1e-09, scale_pos_weight=0.26009239088768177, subsample=0.5190168369747665, score=-0.040, total=   1.4s\n",
      "[CV] colsample_bylevel=0.1380702982506878, colsample_bytree=0.01, gamma=1.2990537186976622e-09, learning_rate=0.13758399950623493, max_delta_step=20, max_depth=36, min_child_weight=1, n_estimators=200, reg_alpha=0.001990603323240474, reg_lambda=1e-09, scale_pos_weight=0.26009239088768177, subsample=0.5190168369747665 \n",
      "[CV]  colsample_bylevel=0.1380702982506878, colsample_bytree=0.01, gamma=1.2990537186976622e-09, learning_rate=0.13758399950623493, max_delta_step=20, max_depth=36, min_child_weight=1, n_estimators=200, reg_alpha=0.001990603323240474, reg_lambda=1e-09, scale_pos_weight=0.26009239088768177, subsample=0.5190168369747665, score=-0.057, total=   1.4s\n",
      "[CV] colsample_bylevel=0.01, colsample_bytree=0.8379869860566046, gamma=0.49999999999999994, learning_rate=0.027549129583134217, max_delta_step=16, max_depth=50, min_child_weight=3, n_estimators=164, reg_alpha=4.162074624666538e-05, reg_lambda=1.9688337356500664e-05, scale_pos_weight=119.92284617761847, subsample=0.837902707659648 \n",
      "[CV]  colsample_bylevel=0.01, colsample_bytree=0.8379869860566046, gamma=0.49999999999999994, learning_rate=0.027549129583134217, max_delta_step=16, max_depth=50, min_child_weight=3, n_estimators=164, reg_alpha=4.162074624666538e-05, reg_lambda=1.9688337356500664e-05, scale_pos_weight=119.92284617761847, subsample=0.837902707659648, score=0.031, total=   2.0s\n",
      "[CV] colsample_bylevel=0.01, colsample_bytree=0.8379869860566046, gamma=0.49999999999999994, learning_rate=0.027549129583134217, max_delta_step=16, max_depth=50, min_child_weight=3, n_estimators=164, reg_alpha=4.162074624666538e-05, reg_lambda=1.9688337356500664e-05, scale_pos_weight=119.92284617761847, subsample=0.837902707659648 \n",
      "[CV]  colsample_bylevel=0.01, colsample_bytree=0.8379869860566046, gamma=0.49999999999999994, learning_rate=0.027549129583134217, max_delta_step=16, max_depth=50, min_child_weight=3, n_estimators=164, reg_alpha=4.162074624666538e-05, reg_lambda=1.9688337356500664e-05, scale_pos_weight=119.92284617761847, subsample=0.837902707659648, score=0.033, total=   2.1s\n",
      "[CV] colsample_bylevel=0.01, colsample_bytree=0.8379869860566046, gamma=0.49999999999999994, learning_rate=0.027549129583134217, max_delta_step=16, max_depth=50, min_child_weight=3, n_estimators=164, reg_alpha=4.162074624666538e-05, reg_lambda=1.9688337356500664e-05, scale_pos_weight=119.92284617761847, subsample=0.837902707659648 \n",
      "[CV]  colsample_bylevel=0.01, colsample_bytree=0.8379869860566046, gamma=0.49999999999999994, learning_rate=0.027549129583134217, max_delta_step=16, max_depth=50, min_child_weight=3, n_estimators=164, reg_alpha=4.162074624666538e-05, reg_lambda=1.9688337356500664e-05, scale_pos_weight=119.92284617761847, subsample=0.837902707659648, score=-0.024, total=   2.0s\n",
      "[CV] colsample_bylevel=0.01, colsample_bytree=0.8379869860566046, gamma=0.49999999999999994, learning_rate=0.027549129583134217, max_delta_step=16, max_depth=50, min_child_weight=3, n_estimators=164, reg_alpha=4.162074624666538e-05, reg_lambda=1.9688337356500664e-05, scale_pos_weight=119.92284617761847, subsample=0.837902707659648 \n",
      "[CV]  colsample_bylevel=0.01, colsample_bytree=0.8379869860566046, gamma=0.49999999999999994, learning_rate=0.027549129583134217, max_delta_step=16, max_depth=50, min_child_weight=3, n_estimators=164, reg_alpha=4.162074624666538e-05, reg_lambda=1.9688337356500664e-05, scale_pos_weight=119.92284617761847, subsample=0.837902707659648, score=0.059, total=   2.1s\n",
      "[CV] colsample_bylevel=0.01, colsample_bytree=0.8379869860566046, gamma=0.49999999999999994, learning_rate=0.027549129583134217, max_delta_step=16, max_depth=50, min_child_weight=3, n_estimators=164, reg_alpha=4.162074624666538e-05, reg_lambda=1.9688337356500664e-05, scale_pos_weight=119.92284617761847, subsample=0.837902707659648 \n",
      "[CV]  colsample_bylevel=0.01, colsample_bytree=0.8379869860566046, gamma=0.49999999999999994, learning_rate=0.027549129583134217, max_delta_step=16, max_depth=50, min_child_weight=3, n_estimators=164, reg_alpha=4.162074624666538e-05, reg_lambda=1.9688337356500664e-05, scale_pos_weight=119.92284617761847, subsample=0.837902707659648, score=0.013, total=   2.1s\n",
      "[CV] colsample_bylevel=0.35015061935129016, colsample_bytree=0.921944055598756, gamma=0.49999999999999994, learning_rate=0.16573169351125502, max_delta_step=7, max_depth=50, min_child_weight=5, n_estimators=96, reg_alpha=1e-09, reg_lambda=1000.0, scale_pos_weight=1e-06, subsample=0.01 \n",
      "[CV]  colsample_bylevel=0.35015061935129016, colsample_bytree=0.921944055598756, gamma=0.49999999999999994, learning_rate=0.16573169351125502, max_delta_step=7, max_depth=50, min_child_weight=5, n_estimators=96, reg_alpha=1e-09, reg_lambda=1000.0, scale_pos_weight=1e-06, subsample=0.01, score=-1.065, total=   0.8s\n",
      "[CV] colsample_bylevel=0.35015061935129016, colsample_bytree=0.921944055598756, gamma=0.49999999999999994, learning_rate=0.16573169351125502, max_delta_step=7, max_depth=50, min_child_weight=5, n_estimators=96, reg_alpha=1e-09, reg_lambda=1000.0, scale_pos_weight=1e-06, subsample=0.01 \n",
      "[CV]  colsample_bylevel=0.35015061935129016, colsample_bytree=0.921944055598756, gamma=0.49999999999999994, learning_rate=0.16573169351125502, max_delta_step=7, max_depth=50, min_child_weight=5, n_estimators=96, reg_alpha=1e-09, reg_lambda=1000.0, scale_pos_weight=1e-06, subsample=0.01, score=-1.016, total=   0.8s\n",
      "[CV] colsample_bylevel=0.35015061935129016, colsample_bytree=0.921944055598756, gamma=0.49999999999999994, learning_rate=0.16573169351125502, max_delta_step=7, max_depth=50, min_child_weight=5, n_estimators=96, reg_alpha=1e-09, reg_lambda=1000.0, scale_pos_weight=1e-06, subsample=0.01 \n",
      "[CV]  colsample_bylevel=0.35015061935129016, colsample_bytree=0.921944055598756, gamma=0.49999999999999994, learning_rate=0.16573169351125502, max_delta_step=7, max_depth=50, min_child_weight=5, n_estimators=96, reg_alpha=1e-09, reg_lambda=1000.0, scale_pos_weight=1e-06, subsample=0.01, score=-1.191, total=   0.8s\n",
      "[CV] colsample_bylevel=0.35015061935129016, colsample_bytree=0.921944055598756, gamma=0.49999999999999994, learning_rate=0.16573169351125502, max_delta_step=7, max_depth=50, min_child_weight=5, n_estimators=96, reg_alpha=1e-09, reg_lambda=1000.0, scale_pos_weight=1e-06, subsample=0.01 \n"
     ]
    },
    {
     "name": "stdout",
     "output_type": "stream",
     "text": [
      "[CV]  colsample_bylevel=0.35015061935129016, colsample_bytree=0.921944055598756, gamma=0.49999999999999994, learning_rate=0.16573169351125502, max_delta_step=7, max_depth=50, min_child_weight=5, n_estimators=96, reg_alpha=1e-09, reg_lambda=1000.0, scale_pos_weight=1e-06, subsample=0.01, score=-0.966, total=   0.8s\n",
      "[CV] colsample_bylevel=0.35015061935129016, colsample_bytree=0.921944055598756, gamma=0.49999999999999994, learning_rate=0.16573169351125502, max_delta_step=7, max_depth=50, min_child_weight=5, n_estimators=96, reg_alpha=1e-09, reg_lambda=1000.0, scale_pos_weight=1e-06, subsample=0.01 \n",
      "[CV]  colsample_bylevel=0.35015061935129016, colsample_bytree=0.921944055598756, gamma=0.49999999999999994, learning_rate=0.16573169351125502, max_delta_step=7, max_depth=50, min_child_weight=5, n_estimators=96, reg_alpha=1e-09, reg_lambda=1000.0, scale_pos_weight=1e-06, subsample=0.01, score=-1.083, total=   0.8s\n",
      "[CV] colsample_bylevel=0.8226097451680301, colsample_bytree=0.24747366231377396, gamma=0.00045289057244005533, learning_rate=0.1355259723696491, max_delta_step=15, max_depth=0, min_child_weight=4, n_estimators=50, reg_alpha=7.960095256935083e-08, reg_lambda=1.638058934402243e-07, scale_pos_weight=1e-06, subsample=0.4099478989204535 \n",
      "[CV]  colsample_bylevel=0.8226097451680301, colsample_bytree=0.24747366231377396, gamma=0.00045289057244005533, learning_rate=0.1355259723696491, max_delta_step=15, max_depth=0, min_child_weight=4, n_estimators=50, reg_alpha=7.960095256935083e-08, reg_lambda=1.638058934402243e-07, scale_pos_weight=1e-06, subsample=0.4099478989204535, score=-0.002, total=   0.5s\n",
      "[CV] colsample_bylevel=0.8226097451680301, colsample_bytree=0.24747366231377396, gamma=0.00045289057244005533, learning_rate=0.1355259723696491, max_delta_step=15, max_depth=0, min_child_weight=4, n_estimators=50, reg_alpha=7.960095256935083e-08, reg_lambda=1.638058934402243e-07, scale_pos_weight=1e-06, subsample=0.4099478989204535 \n",
      "[CV]  colsample_bylevel=0.8226097451680301, colsample_bytree=0.24747366231377396, gamma=0.00045289057244005533, learning_rate=0.1355259723696491, max_delta_step=15, max_depth=0, min_child_weight=4, n_estimators=50, reg_alpha=7.960095256935083e-08, reg_lambda=1.638058934402243e-07, scale_pos_weight=1e-06, subsample=0.4099478989204535, score=-0.021, total=   0.5s\n",
      "[CV] colsample_bylevel=0.8226097451680301, colsample_bytree=0.24747366231377396, gamma=0.00045289057244005533, learning_rate=0.1355259723696491, max_delta_step=15, max_depth=0, min_child_weight=4, n_estimators=50, reg_alpha=7.960095256935083e-08, reg_lambda=1.638058934402243e-07, scale_pos_weight=1e-06, subsample=0.4099478989204535 \n",
      "[CV]  colsample_bylevel=0.8226097451680301, colsample_bytree=0.24747366231377396, gamma=0.00045289057244005533, learning_rate=0.1355259723696491, max_delta_step=15, max_depth=0, min_child_weight=4, n_estimators=50, reg_alpha=7.960095256935083e-08, reg_lambda=1.638058934402243e-07, scale_pos_weight=1e-06, subsample=0.4099478989204535, score=-0.004, total=   0.5s\n",
      "[CV] colsample_bylevel=0.8226097451680301, colsample_bytree=0.24747366231377396, gamma=0.00045289057244005533, learning_rate=0.1355259723696491, max_delta_step=15, max_depth=0, min_child_weight=4, n_estimators=50, reg_alpha=7.960095256935083e-08, reg_lambda=1.638058934402243e-07, scale_pos_weight=1e-06, subsample=0.4099478989204535 \n",
      "[CV]  colsample_bylevel=0.8226097451680301, colsample_bytree=0.24747366231377396, gamma=0.00045289057244005533, learning_rate=0.1355259723696491, max_delta_step=15, max_depth=0, min_child_weight=4, n_estimators=50, reg_alpha=7.960095256935083e-08, reg_lambda=1.638058934402243e-07, scale_pos_weight=1e-06, subsample=0.4099478989204535, score=-0.005, total=   0.5s\n",
      "[CV] colsample_bylevel=0.8226097451680301, colsample_bytree=0.24747366231377396, gamma=0.00045289057244005533, learning_rate=0.1355259723696491, max_delta_step=15, max_depth=0, min_child_weight=4, n_estimators=50, reg_alpha=7.960095256935083e-08, reg_lambda=1.638058934402243e-07, scale_pos_weight=1e-06, subsample=0.4099478989204535 \n",
      "[CV]  colsample_bylevel=0.8226097451680301, colsample_bytree=0.24747366231377396, gamma=0.00045289057244005533, learning_rate=0.1355259723696491, max_delta_step=15, max_depth=0, min_child_weight=4, n_estimators=50, reg_alpha=7.960095256935083e-08, reg_lambda=1.638058934402243e-07, scale_pos_weight=1e-06, subsample=0.4099478989204535, score=-0.009, total=   0.5s\n",
      "[CV] colsample_bylevel=0.7932055314147345, colsample_bytree=0.39609215655969277, gamma=0.49999999999999994, learning_rate=0.15197844155748047, max_delta_step=7, max_depth=22, min_child_weight=5, n_estimators=50, reg_alpha=1e-09, reg_lambda=1000.0, scale_pos_weight=1e-06, subsample=0.01 \n",
      "[CV]  colsample_bylevel=0.7932055314147345, colsample_bytree=0.39609215655969277, gamma=0.49999999999999994, learning_rate=0.15197844155748047, max_delta_step=7, max_depth=22, min_child_weight=5, n_estimators=50, reg_alpha=1e-09, reg_lambda=1000.0, scale_pos_weight=1e-06, subsample=0.01, score=-1.324, total=   0.6s\n",
      "[CV] colsample_bylevel=0.7932055314147345, colsample_bytree=0.39609215655969277, gamma=0.49999999999999994, learning_rate=0.15197844155748047, max_delta_step=7, max_depth=22, min_child_weight=5, n_estimators=50, reg_alpha=1e-09, reg_lambda=1000.0, scale_pos_weight=1e-06, subsample=0.01 \n",
      "[CV]  colsample_bylevel=0.7932055314147345, colsample_bytree=0.39609215655969277, gamma=0.49999999999999994, learning_rate=0.15197844155748047, max_delta_step=7, max_depth=22, min_child_weight=5, n_estimators=50, reg_alpha=1e-09, reg_lambda=1000.0, scale_pos_weight=1e-06, subsample=0.01, score=-1.306, total=   0.6s\n",
      "[CV] colsample_bylevel=0.7932055314147345, colsample_bytree=0.39609215655969277, gamma=0.49999999999999994, learning_rate=0.15197844155748047, max_delta_step=7, max_depth=22, min_child_weight=5, n_estimators=50, reg_alpha=1e-09, reg_lambda=1000.0, scale_pos_weight=1e-06, subsample=0.01 \n",
      "[CV]  colsample_bylevel=0.7932055314147345, colsample_bytree=0.39609215655969277, gamma=0.49999999999999994, learning_rate=0.15197844155748047, max_delta_step=7, max_depth=22, min_child_weight=5, n_estimators=50, reg_alpha=1e-09, reg_lambda=1000.0, scale_pos_weight=1e-06, subsample=0.01, score=-1.476, total=   0.6s\n",
      "[CV] colsample_bylevel=0.7932055314147345, colsample_bytree=0.39609215655969277, gamma=0.49999999999999994, learning_rate=0.15197844155748047, max_delta_step=7, max_depth=22, min_child_weight=5, n_estimators=50, reg_alpha=1e-09, reg_lambda=1000.0, scale_pos_weight=1e-06, subsample=0.01 \n",
      "[CV]  colsample_bylevel=0.7932055314147345, colsample_bytree=0.39609215655969277, gamma=0.49999999999999994, learning_rate=0.15197844155748047, max_delta_step=7, max_depth=22, min_child_weight=5, n_estimators=50, reg_alpha=1e-09, reg_lambda=1000.0, scale_pos_weight=1e-06, subsample=0.01, score=-1.227, total=   0.6s\n",
      "[CV] colsample_bylevel=0.7932055314147345, colsample_bytree=0.39609215655969277, gamma=0.49999999999999994, learning_rate=0.15197844155748047, max_delta_step=7, max_depth=22, min_child_weight=5, n_estimators=50, reg_alpha=1e-09, reg_lambda=1000.0, scale_pos_weight=1e-06, subsample=0.01 \n",
      "[CV]  colsample_bylevel=0.7932055314147345, colsample_bytree=0.39609215655969277, gamma=0.49999999999999994, learning_rate=0.15197844155748047, max_delta_step=7, max_depth=22, min_child_weight=5, n_estimators=50, reg_alpha=1e-09, reg_lambda=1000.0, scale_pos_weight=1e-06, subsample=0.01, score=-1.339, total=   0.6s\n",
      "[CV] colsample_bylevel=0.01, colsample_bytree=0.7513911096915978, gamma=1e-09, learning_rate=0.05163019551075641, max_delta_step=0, max_depth=19, min_child_weight=1, n_estimators=51, reg_alpha=0.18865520927691273, reg_lambda=1.1448371385261088e-08, scale_pos_weight=0.022455115805589027, subsample=1.0 \n",
      "[CV]  colsample_bylevel=0.01, colsample_bytree=0.7513911096915978, gamma=1e-09, learning_rate=0.05163019551075641, max_delta_step=0, max_depth=19, min_child_weight=1, n_estimators=51, reg_alpha=0.18865520927691273, reg_lambda=1.1448371385261088e-08, scale_pos_weight=0.022455115805589027, subsample=1.0, score=0.039, total=   0.8s\n",
      "[CV] colsample_bylevel=0.01, colsample_bytree=0.7513911096915978, gamma=1e-09, learning_rate=0.05163019551075641, max_delta_step=0, max_depth=19, min_child_weight=1, n_estimators=51, reg_alpha=0.18865520927691273, reg_lambda=1.1448371385261088e-08, scale_pos_weight=0.022455115805589027, subsample=1.0 \n"
     ]
    },
    {
     "name": "stdout",
     "output_type": "stream",
     "text": [
      "[CV]  colsample_bylevel=0.01, colsample_bytree=0.7513911096915978, gamma=1e-09, learning_rate=0.05163019551075641, max_delta_step=0, max_depth=19, min_child_weight=1, n_estimators=51, reg_alpha=0.18865520927691273, reg_lambda=1.1448371385261088e-08, scale_pos_weight=0.022455115805589027, subsample=1.0, score=0.047, total=   0.8s\n",
      "[CV] colsample_bylevel=0.01, colsample_bytree=0.7513911096915978, gamma=1e-09, learning_rate=0.05163019551075641, max_delta_step=0, max_depth=19, min_child_weight=1, n_estimators=51, reg_alpha=0.18865520927691273, reg_lambda=1.1448371385261088e-08, scale_pos_weight=0.022455115805589027, subsample=1.0 \n",
      "[CV]  colsample_bylevel=0.01, colsample_bytree=0.7513911096915978, gamma=1e-09, learning_rate=0.05163019551075641, max_delta_step=0, max_depth=19, min_child_weight=1, n_estimators=51, reg_alpha=0.18865520927691273, reg_lambda=1.1448371385261088e-08, scale_pos_weight=0.022455115805589027, subsample=1.0, score=-0.060, total=   0.8s\n",
      "[CV] colsample_bylevel=0.01, colsample_bytree=0.7513911096915978, gamma=1e-09, learning_rate=0.05163019551075641, max_delta_step=0, max_depth=19, min_child_weight=1, n_estimators=51, reg_alpha=0.18865520927691273, reg_lambda=1.1448371385261088e-08, scale_pos_weight=0.022455115805589027, subsample=1.0 \n",
      "[CV]  colsample_bylevel=0.01, colsample_bytree=0.7513911096915978, gamma=1e-09, learning_rate=0.05163019551075641, max_delta_step=0, max_depth=19, min_child_weight=1, n_estimators=51, reg_alpha=0.18865520927691273, reg_lambda=1.1448371385261088e-08, scale_pos_weight=0.022455115805589027, subsample=1.0, score=0.004, total=   0.8s\n",
      "[CV] colsample_bylevel=0.01, colsample_bytree=0.7513911096915978, gamma=1e-09, learning_rate=0.05163019551075641, max_delta_step=0, max_depth=19, min_child_weight=1, n_estimators=51, reg_alpha=0.18865520927691273, reg_lambda=1.1448371385261088e-08, scale_pos_weight=0.022455115805589027, subsample=1.0 \n",
      "[CV]  colsample_bylevel=0.01, colsample_bytree=0.7513911096915978, gamma=1e-09, learning_rate=0.05163019551075641, max_delta_step=0, max_depth=19, min_child_weight=1, n_estimators=51, reg_alpha=0.18865520927691273, reg_lambda=1.1448371385261088e-08, scale_pos_weight=0.022455115805589027, subsample=1.0, score=-0.000, total=   0.8s\n",
      "[CV] colsample_bylevel=0.17827798184131655, colsample_bytree=0.7099106980573668, gamma=0.0005189332544857368, learning_rate=0.03921906886934271, max_delta_step=0, max_depth=16, min_child_weight=0, n_estimators=97, reg_alpha=1e-09, reg_lambda=372.8876681823342, scale_pos_weight=0.00022430882494790333, subsample=1.0 \n",
      "[CV]  colsample_bylevel=0.17827798184131655, colsample_bytree=0.7099106980573668, gamma=0.0005189332544857368, learning_rate=0.03921906886934271, max_delta_step=0, max_depth=16, min_child_weight=0, n_estimators=97, reg_alpha=1e-09, reg_lambda=372.8876681823342, scale_pos_weight=0.00022430882494790333, subsample=1.0, score=-0.002, total=   2.4s\n",
      "[CV] colsample_bylevel=0.17827798184131655, colsample_bytree=0.7099106980573668, gamma=0.0005189332544857368, learning_rate=0.03921906886934271, max_delta_step=0, max_depth=16, min_child_weight=0, n_estimators=97, reg_alpha=1e-09, reg_lambda=372.8876681823342, scale_pos_weight=0.00022430882494790333, subsample=1.0 \n",
      "[CV]  colsample_bylevel=0.17827798184131655, colsample_bytree=0.7099106980573668, gamma=0.0005189332544857368, learning_rate=0.03921906886934271, max_delta_step=0, max_depth=16, min_child_weight=0, n_estimators=97, reg_alpha=1e-09, reg_lambda=372.8876681823342, scale_pos_weight=0.00022430882494790333, subsample=1.0, score=-0.065, total=   2.4s\n",
      "[CV] colsample_bylevel=0.17827798184131655, colsample_bytree=0.7099106980573668, gamma=0.0005189332544857368, learning_rate=0.03921906886934271, max_delta_step=0, max_depth=16, min_child_weight=0, n_estimators=97, reg_alpha=1e-09, reg_lambda=372.8876681823342, scale_pos_weight=0.00022430882494790333, subsample=1.0 \n",
      "[CV]  colsample_bylevel=0.17827798184131655, colsample_bytree=0.7099106980573668, gamma=0.0005189332544857368, learning_rate=0.03921906886934271, max_delta_step=0, max_depth=16, min_child_weight=0, n_estimators=97, reg_alpha=1e-09, reg_lambda=372.8876681823342, scale_pos_weight=0.00022430882494790333, subsample=1.0, score=-0.052, total=   2.4s\n",
      "[CV] colsample_bylevel=0.17827798184131655, colsample_bytree=0.7099106980573668, gamma=0.0005189332544857368, learning_rate=0.03921906886934271, max_delta_step=0, max_depth=16, min_child_weight=0, n_estimators=97, reg_alpha=1e-09, reg_lambda=372.8876681823342, scale_pos_weight=0.00022430882494790333, subsample=1.0 \n",
      "[CV]  colsample_bylevel=0.17827798184131655, colsample_bytree=0.7099106980573668, gamma=0.0005189332544857368, learning_rate=0.03921906886934271, max_delta_step=0, max_depth=16, min_child_weight=0, n_estimators=97, reg_alpha=1e-09, reg_lambda=372.8876681823342, scale_pos_weight=0.00022430882494790333, subsample=1.0, score=0.031, total=   2.4s\n",
      "[CV] colsample_bylevel=0.17827798184131655, colsample_bytree=0.7099106980573668, gamma=0.0005189332544857368, learning_rate=0.03921906886934271, max_delta_step=0, max_depth=16, min_child_weight=0, n_estimators=97, reg_alpha=1e-09, reg_lambda=372.8876681823342, scale_pos_weight=0.00022430882494790333, subsample=1.0 \n",
      "[CV]  colsample_bylevel=0.17827798184131655, colsample_bytree=0.7099106980573668, gamma=0.0005189332544857368, learning_rate=0.03921906886934271, max_delta_step=0, max_depth=16, min_child_weight=0, n_estimators=97, reg_alpha=1e-09, reg_lambda=372.8876681823342, scale_pos_weight=0.00022430882494790333, subsample=1.0, score=-0.037, total=   2.4s\n",
      "[CV] colsample_bylevel=0.01, colsample_bytree=0.01, gamma=0.49999999999999994, learning_rate=0.021087204708015506, max_delta_step=10, max_depth=50, min_child_weight=2, n_estimators=50, reg_alpha=0.00022154940514197108, reg_lambda=3.765867805312687e-05, scale_pos_weight=0.008056372632993906, subsample=1.0 \n",
      "[CV]  colsample_bylevel=0.01, colsample_bytree=0.01, gamma=0.49999999999999994, learning_rate=0.021087204708015506, max_delta_step=10, max_depth=50, min_child_weight=2, n_estimators=50, reg_alpha=0.00022154940514197108, reg_lambda=3.765867805312687e-05, scale_pos_weight=0.008056372632993906, subsample=1.0, score=-0.770, total=   0.5s\n",
      "[CV] colsample_bylevel=0.01, colsample_bytree=0.01, gamma=0.49999999999999994, learning_rate=0.021087204708015506, max_delta_step=10, max_depth=50, min_child_weight=2, n_estimators=50, reg_alpha=0.00022154940514197108, reg_lambda=3.765867805312687e-05, scale_pos_weight=0.008056372632993906, subsample=1.0 \n",
      "[CV]  colsample_bylevel=0.01, colsample_bytree=0.01, gamma=0.49999999999999994, learning_rate=0.021087204708015506, max_delta_step=10, max_depth=50, min_child_weight=2, n_estimators=50, reg_alpha=0.00022154940514197108, reg_lambda=3.765867805312687e-05, scale_pos_weight=0.008056372632993906, subsample=1.0, score=-0.740, total=   0.5s\n",
      "[CV] colsample_bylevel=0.01, colsample_bytree=0.01, gamma=0.49999999999999994, learning_rate=0.021087204708015506, max_delta_step=10, max_depth=50, min_child_weight=2, n_estimators=50, reg_alpha=0.00022154940514197108, reg_lambda=3.765867805312687e-05, scale_pos_weight=0.008056372632993906, subsample=1.0 \n",
      "[CV]  colsample_bylevel=0.01, colsample_bytree=0.01, gamma=0.49999999999999994, learning_rate=0.021087204708015506, max_delta_step=10, max_depth=50, min_child_weight=2, n_estimators=50, reg_alpha=0.00022154940514197108, reg_lambda=3.765867805312687e-05, scale_pos_weight=0.008056372632993906, subsample=1.0, score=-0.896, total=   0.5s\n",
      "[CV] colsample_bylevel=0.01, colsample_bytree=0.01, gamma=0.49999999999999994, learning_rate=0.021087204708015506, max_delta_step=10, max_depth=50, min_child_weight=2, n_estimators=50, reg_alpha=0.00022154940514197108, reg_lambda=3.765867805312687e-05, scale_pos_weight=0.008056372632993906, subsample=1.0 \n",
      "[CV]  colsample_bylevel=0.01, colsample_bytree=0.01, gamma=0.49999999999999994, learning_rate=0.021087204708015506, max_delta_step=10, max_depth=50, min_child_weight=2, n_estimators=50, reg_alpha=0.00022154940514197108, reg_lambda=3.765867805312687e-05, scale_pos_weight=0.008056372632993906, subsample=1.0, score=-0.701, total=   0.5s\n",
      "[CV] colsample_bylevel=0.01, colsample_bytree=0.01, gamma=0.49999999999999994, learning_rate=0.021087204708015506, max_delta_step=10, max_depth=50, min_child_weight=2, n_estimators=50, reg_alpha=0.00022154940514197108, reg_lambda=3.765867805312687e-05, scale_pos_weight=0.008056372632993906, subsample=1.0 \n"
     ]
    },
    {
     "name": "stdout",
     "output_type": "stream",
     "text": [
      "[CV]  colsample_bylevel=0.01, colsample_bytree=0.01, gamma=0.49999999999999994, learning_rate=0.021087204708015506, max_delta_step=10, max_depth=50, min_child_weight=2, n_estimators=50, reg_alpha=0.00022154940514197108, reg_lambda=3.765867805312687e-05, scale_pos_weight=0.008056372632993906, subsample=1.0, score=-0.816, total=   0.5s\n",
      "[CV] colsample_bylevel=0.23996593015228507, colsample_bytree=0.0807538267493118, gamma=1.7056256360233914e-08, learning_rate=0.3830793500517786, max_delta_step=20, max_depth=36, min_child_weight=2, n_estimators=200, reg_alpha=0.00014291683164152673, reg_lambda=1e-09, scale_pos_weight=0.00012465433248128475, subsample=1.0 \n",
      "[CV]  colsample_bylevel=0.23996593015228507, colsample_bytree=0.0807538267493118, gamma=1.7056256360233914e-08, learning_rate=0.3830793500517786, max_delta_step=20, max_depth=36, min_child_weight=2, n_estimators=200, reg_alpha=0.00014291683164152673, reg_lambda=1e-09, scale_pos_weight=0.00012465433248128475, subsample=1.0, score=-0.090, total=   1.8s\n",
      "[CV] colsample_bylevel=0.23996593015228507, colsample_bytree=0.0807538267493118, gamma=1.7056256360233914e-08, learning_rate=0.3830793500517786, max_delta_step=20, max_depth=36, min_child_weight=2, n_estimators=200, reg_alpha=0.00014291683164152673, reg_lambda=1e-09, scale_pos_weight=0.00012465433248128475, subsample=1.0 \n",
      "[CV]  colsample_bylevel=0.23996593015228507, colsample_bytree=0.0807538267493118, gamma=1.7056256360233914e-08, learning_rate=0.3830793500517786, max_delta_step=20, max_depth=36, min_child_weight=2, n_estimators=200, reg_alpha=0.00014291683164152673, reg_lambda=1e-09, scale_pos_weight=0.00012465433248128475, subsample=1.0, score=-0.172, total=   2.0s\n",
      "[CV] colsample_bylevel=0.23996593015228507, colsample_bytree=0.0807538267493118, gamma=1.7056256360233914e-08, learning_rate=0.3830793500517786, max_delta_step=20, max_depth=36, min_child_weight=2, n_estimators=200, reg_alpha=0.00014291683164152673, reg_lambda=1e-09, scale_pos_weight=0.00012465433248128475, subsample=1.0 \n",
      "[CV]  colsample_bylevel=0.23996593015228507, colsample_bytree=0.0807538267493118, gamma=1.7056256360233914e-08, learning_rate=0.3830793500517786, max_delta_step=20, max_depth=36, min_child_weight=2, n_estimators=200, reg_alpha=0.00014291683164152673, reg_lambda=1e-09, scale_pos_weight=0.00012465433248128475, subsample=1.0, score=-0.120, total=   1.9s\n",
      "[CV] colsample_bylevel=0.23996593015228507, colsample_bytree=0.0807538267493118, gamma=1.7056256360233914e-08, learning_rate=0.3830793500517786, max_delta_step=20, max_depth=36, min_child_weight=2, n_estimators=200, reg_alpha=0.00014291683164152673, reg_lambda=1e-09, scale_pos_weight=0.00012465433248128475, subsample=1.0 \n",
      "[CV]  colsample_bylevel=0.23996593015228507, colsample_bytree=0.0807538267493118, gamma=1.7056256360233914e-08, learning_rate=0.3830793500517786, max_delta_step=20, max_depth=36, min_child_weight=2, n_estimators=200, reg_alpha=0.00014291683164152673, reg_lambda=1e-09, scale_pos_weight=0.00012465433248128475, subsample=1.0, score=-0.068, total=   1.9s\n",
      "[CV] colsample_bylevel=0.23996593015228507, colsample_bytree=0.0807538267493118, gamma=1.7056256360233914e-08, learning_rate=0.3830793500517786, max_delta_step=20, max_depth=36, min_child_weight=2, n_estimators=200, reg_alpha=0.00014291683164152673, reg_lambda=1e-09, scale_pos_weight=0.00012465433248128475, subsample=1.0 \n",
      "[CV]  colsample_bylevel=0.23996593015228507, colsample_bytree=0.0807538267493118, gamma=1.7056256360233914e-08, learning_rate=0.3830793500517786, max_delta_step=20, max_depth=36, min_child_weight=2, n_estimators=200, reg_alpha=0.00014291683164152673, reg_lambda=1e-09, scale_pos_weight=0.00012465433248128475, subsample=1.0, score=-0.054, total=   1.9s\n"
     ]
    },
    {
     "name": "stderr",
     "output_type": "stream",
     "text": [
      "[Parallel(n_jobs=1)]: Done  60 out of  60 | elapsed:  1.1min finished\n"
     ]
    },
    {
     "name": "stdout",
     "output_type": "stream",
     "text": [
      "best score: 0.022393350876140472\n",
      "Fitting 5 folds for each of 12 candidates, totalling 60 fits\n",
      "[CV] colsample_bylevel=0.01, colsample_bytree=1.0, gamma=0.0019996806358078124, learning_rate=0.05271403186736085, max_delta_step=20, max_depth=50, min_child_weight=5, n_estimators=200, reg_alpha=1.3515928164744535e-08, reg_lambda=1e-09, scale_pos_weight=6.495451701951939e-05, subsample=0.2904743003786053 \n"
     ]
    },
    {
     "name": "stderr",
     "output_type": "stream",
     "text": [
      "[Parallel(n_jobs=1)]: Using backend SequentialBackend with 1 concurrent workers.\n"
     ]
    },
    {
     "name": "stdout",
     "output_type": "stream",
     "text": [
      "[CV]  colsample_bylevel=0.01, colsample_bytree=1.0, gamma=0.0019996806358078124, learning_rate=0.05271403186736085, max_delta_step=20, max_depth=50, min_child_weight=5, n_estimators=200, reg_alpha=1.3515928164744535e-08, reg_lambda=1e-09, scale_pos_weight=6.495451701951939e-05, subsample=0.2904743003786053, score=0.037, total=   1.5s\n",
      "[CV] colsample_bylevel=0.01, colsample_bytree=1.0, gamma=0.0019996806358078124, learning_rate=0.05271403186736085, max_delta_step=20, max_depth=50, min_child_weight=5, n_estimators=200, reg_alpha=1.3515928164744535e-08, reg_lambda=1e-09, scale_pos_weight=6.495451701951939e-05, subsample=0.2904743003786053 \n"
     ]
    },
    {
     "name": "stderr",
     "output_type": "stream",
     "text": [
      "[Parallel(n_jobs=1)]: Done   1 out of   1 | elapsed:    1.5s remaining:    0.0s\n"
     ]
    },
    {
     "name": "stdout",
     "output_type": "stream",
     "text": [
      "[CV]  colsample_bylevel=0.01, colsample_bytree=1.0, gamma=0.0019996806358078124, learning_rate=0.05271403186736085, max_delta_step=20, max_depth=50, min_child_weight=5, n_estimators=200, reg_alpha=1.3515928164744535e-08, reg_lambda=1e-09, scale_pos_weight=6.495451701951939e-05, subsample=0.2904743003786053, score=-0.113, total=   1.6s\n",
      "[CV] colsample_bylevel=0.01, colsample_bytree=1.0, gamma=0.0019996806358078124, learning_rate=0.05271403186736085, max_delta_step=20, max_depth=50, min_child_weight=5, n_estimators=200, reg_alpha=1.3515928164744535e-08, reg_lambda=1e-09, scale_pos_weight=6.495451701951939e-05, subsample=0.2904743003786053 \n"
     ]
    },
    {
     "name": "stderr",
     "output_type": "stream",
     "text": [
      "[Parallel(n_jobs=1)]: Done   2 out of   2 | elapsed:    3.2s remaining:    0.0s\n"
     ]
    },
    {
     "name": "stdout",
     "output_type": "stream",
     "text": [
      "[CV]  colsample_bylevel=0.01, colsample_bytree=1.0, gamma=0.0019996806358078124, learning_rate=0.05271403186736085, max_delta_step=20, max_depth=50, min_child_weight=5, n_estimators=200, reg_alpha=1.3515928164744535e-08, reg_lambda=1e-09, scale_pos_weight=6.495451701951939e-05, subsample=0.2904743003786053, score=-0.105, total=   1.6s\n",
      "[CV] colsample_bylevel=0.01, colsample_bytree=1.0, gamma=0.0019996806358078124, learning_rate=0.05271403186736085, max_delta_step=20, max_depth=50, min_child_weight=5, n_estimators=200, reg_alpha=1.3515928164744535e-08, reg_lambda=1e-09, scale_pos_weight=6.495451701951939e-05, subsample=0.2904743003786053 \n",
      "[CV]  colsample_bylevel=0.01, colsample_bytree=1.0, gamma=0.0019996806358078124, learning_rate=0.05271403186736085, max_delta_step=20, max_depth=50, min_child_weight=5, n_estimators=200, reg_alpha=1.3515928164744535e-08, reg_lambda=1e-09, scale_pos_weight=6.495451701951939e-05, subsample=0.2904743003786053, score=0.019, total=   1.6s\n",
      "[CV] colsample_bylevel=0.01, colsample_bytree=1.0, gamma=0.0019996806358078124, learning_rate=0.05271403186736085, max_delta_step=20, max_depth=50, min_child_weight=5, n_estimators=200, reg_alpha=1.3515928164744535e-08, reg_lambda=1e-09, scale_pos_weight=6.495451701951939e-05, subsample=0.2904743003786053 \n",
      "[CV]  colsample_bylevel=0.01, colsample_bytree=1.0, gamma=0.0019996806358078124, learning_rate=0.05271403186736085, max_delta_step=20, max_depth=50, min_child_weight=5, n_estimators=200, reg_alpha=1.3515928164744535e-08, reg_lambda=1e-09, scale_pos_weight=6.495451701951939e-05, subsample=0.2904743003786053, score=-0.001, total=   1.6s\n",
      "[CV] colsample_bylevel=0.01, colsample_bytree=1.0, gamma=1e-09, learning_rate=0.025294443307746318, max_delta_step=20, max_depth=0, min_child_weight=5, n_estimators=200, reg_alpha=1.0, reg_lambda=1e-09, scale_pos_weight=499.99999999999994, subsample=0.8296865231097998 \n",
      "[CV]  colsample_bylevel=0.01, colsample_bytree=1.0, gamma=1e-09, learning_rate=0.025294443307746318, max_delta_step=20, max_depth=0, min_child_weight=5, n_estimators=200, reg_alpha=1.0, reg_lambda=1e-09, scale_pos_weight=499.99999999999994, subsample=0.8296865231097998, score=-1.209, total=   1.0s\n",
      "[CV] colsample_bylevel=0.01, colsample_bytree=1.0, gamma=1e-09, learning_rate=0.025294443307746318, max_delta_step=20, max_depth=0, min_child_weight=5, n_estimators=200, reg_alpha=1.0, reg_lambda=1e-09, scale_pos_weight=499.99999999999994, subsample=0.8296865231097998 \n",
      "[CV]  colsample_bylevel=0.01, colsample_bytree=1.0, gamma=1e-09, learning_rate=0.025294443307746318, max_delta_step=20, max_depth=0, min_child_weight=5, n_estimators=200, reg_alpha=1.0, reg_lambda=1e-09, scale_pos_weight=499.99999999999994, subsample=0.8296865231097998, score=-1.316, total=   0.9s\n",
      "[CV] colsample_bylevel=0.01, colsample_bytree=1.0, gamma=1e-09, learning_rate=0.025294443307746318, max_delta_step=20, max_depth=0, min_child_weight=5, n_estimators=200, reg_alpha=1.0, reg_lambda=1e-09, scale_pos_weight=499.99999999999994, subsample=0.8296865231097998 \n",
      "[CV]  colsample_bylevel=0.01, colsample_bytree=1.0, gamma=1e-09, learning_rate=0.025294443307746318, max_delta_step=20, max_depth=0, min_child_weight=5, n_estimators=200, reg_alpha=1.0, reg_lambda=1e-09, scale_pos_weight=499.99999999999994, subsample=0.8296865231097998, score=-1.426, total=   1.0s\n",
      "[CV] colsample_bylevel=0.01, colsample_bytree=1.0, gamma=1e-09, learning_rate=0.025294443307746318, max_delta_step=20, max_depth=0, min_child_weight=5, n_estimators=200, reg_alpha=1.0, reg_lambda=1e-09, scale_pos_weight=499.99999999999994, subsample=0.8296865231097998 \n",
      "[CV]  colsample_bylevel=0.01, colsample_bytree=1.0, gamma=1e-09, learning_rate=0.025294443307746318, max_delta_step=20, max_depth=0, min_child_weight=5, n_estimators=200, reg_alpha=1.0, reg_lambda=1e-09, scale_pos_weight=499.99999999999994, subsample=0.8296865231097998, score=-1.182, total=   0.9s\n",
      "[CV] colsample_bylevel=0.01, colsample_bytree=1.0, gamma=1e-09, learning_rate=0.025294443307746318, max_delta_step=20, max_depth=0, min_child_weight=5, n_estimators=200, reg_alpha=1.0, reg_lambda=1e-09, scale_pos_weight=499.99999999999994, subsample=0.8296865231097998 \n",
      "[CV]  colsample_bylevel=0.01, colsample_bytree=1.0, gamma=1e-09, learning_rate=0.025294443307746318, max_delta_step=20, max_depth=0, min_child_weight=5, n_estimators=200, reg_alpha=1.0, reg_lambda=1e-09, scale_pos_weight=499.99999999999994, subsample=0.8296865231097998, score=-1.308, total=   0.9s\n",
      "[CV] colsample_bylevel=0.017223907600908885, colsample_bytree=0.6434131559593464, gamma=5.416625883140828e-05, learning_rate=0.028857913155035858, max_delta_step=15, max_depth=49, min_child_weight=3, n_estimators=189, reg_alpha=0.0112712770118897, reg_lambda=3.638069593018512e-07, scale_pos_weight=0.0018751082646153165, subsample=0.8280413256375565 \n",
      "[CV]  colsample_bylevel=0.017223907600908885, colsample_bytree=0.6434131559593464, gamma=5.416625883140828e-05, learning_rate=0.028857913155035858, max_delta_step=15, max_depth=49, min_child_weight=3, n_estimators=189, reg_alpha=0.0112712770118897, reg_lambda=3.638069593018512e-07, scale_pos_weight=0.0018751082646153165, subsample=0.8280413256375565, score=0.049, total=   2.4s\n",
      "[CV] colsample_bylevel=0.017223907600908885, colsample_bytree=0.6434131559593464, gamma=5.416625883140828e-05, learning_rate=0.028857913155035858, max_delta_step=15, max_depth=49, min_child_weight=3, n_estimators=189, reg_alpha=0.0112712770118897, reg_lambda=3.638069593018512e-07, scale_pos_weight=0.0018751082646153165, subsample=0.8280413256375565 \n",
      "[CV]  colsample_bylevel=0.017223907600908885, colsample_bytree=0.6434131559593464, gamma=5.416625883140828e-05, learning_rate=0.028857913155035858, max_delta_step=15, max_depth=49, min_child_weight=3, n_estimators=189, reg_alpha=0.0112712770118897, reg_lambda=3.638069593018512e-07, scale_pos_weight=0.0018751082646153165, subsample=0.8280413256375565, score=0.019, total=   2.3s\n",
      "[CV] colsample_bylevel=0.017223907600908885, colsample_bytree=0.6434131559593464, gamma=5.416625883140828e-05, learning_rate=0.028857913155035858, max_delta_step=15, max_depth=49, min_child_weight=3, n_estimators=189, reg_alpha=0.0112712770118897, reg_lambda=3.638069593018512e-07, scale_pos_weight=0.0018751082646153165, subsample=0.8280413256375565 \n",
      "[CV]  colsample_bylevel=0.017223907600908885, colsample_bytree=0.6434131559593464, gamma=5.416625883140828e-05, learning_rate=0.028857913155035858, max_delta_step=15, max_depth=49, min_child_weight=3, n_estimators=189, reg_alpha=0.0112712770118897, reg_lambda=3.638069593018512e-07, scale_pos_weight=0.0018751082646153165, subsample=0.8280413256375565, score=-0.010, total=   2.3s\n",
      "[CV] colsample_bylevel=0.017223907600908885, colsample_bytree=0.6434131559593464, gamma=5.416625883140828e-05, learning_rate=0.028857913155035858, max_delta_step=15, max_depth=49, min_child_weight=3, n_estimators=189, reg_alpha=0.0112712770118897, reg_lambda=3.638069593018512e-07, scale_pos_weight=0.0018751082646153165, subsample=0.8280413256375565 \n",
      "[CV]  colsample_bylevel=0.017223907600908885, colsample_bytree=0.6434131559593464, gamma=5.416625883140828e-05, learning_rate=0.028857913155035858, max_delta_step=15, max_depth=49, min_child_weight=3, n_estimators=189, reg_alpha=0.0112712770118897, reg_lambda=3.638069593018512e-07, scale_pos_weight=0.0018751082646153165, subsample=0.8280413256375565, score=0.053, total=   2.3s\n",
      "[CV] colsample_bylevel=0.017223907600908885, colsample_bytree=0.6434131559593464, gamma=5.416625883140828e-05, learning_rate=0.028857913155035858, max_delta_step=15, max_depth=49, min_child_weight=3, n_estimators=189, reg_alpha=0.0112712770118897, reg_lambda=3.638069593018512e-07, scale_pos_weight=0.0018751082646153165, subsample=0.8280413256375565 \n",
      "[CV]  colsample_bylevel=0.017223907600908885, colsample_bytree=0.6434131559593464, gamma=5.416625883140828e-05, learning_rate=0.028857913155035858, max_delta_step=15, max_depth=49, min_child_weight=3, n_estimators=189, reg_alpha=0.0112712770118897, reg_lambda=3.638069593018512e-07, scale_pos_weight=0.0018751082646153165, subsample=0.8280413256375565, score=0.034, total=   2.4s\n",
      "[CV] colsample_bylevel=0.07520182312500767, colsample_bytree=0.10071383235305315, gamma=0.1306259708506294, learning_rate=0.05772071367538865, max_delta_step=9, max_depth=3, min_child_weight=0, n_estimators=54, reg_alpha=8.314179372820195e-07, reg_lambda=0.6390308012051995, scale_pos_weight=0.009849176697920532, subsample=0.31067863101564347 \n"
     ]
    },
    {
     "name": "stdout",
     "output_type": "stream",
     "text": [
      "[CV]  colsample_bylevel=0.07520182312500767, colsample_bytree=0.10071383235305315, gamma=0.1306259708506294, learning_rate=0.05772071367538865, max_delta_step=9, max_depth=3, min_child_weight=0, n_estimators=54, reg_alpha=8.314179372820195e-07, reg_lambda=0.6390308012051995, scale_pos_weight=0.009849176697920532, subsample=0.31067863101564347, score=-0.076, total=   0.6s\n",
      "[CV] colsample_bylevel=0.07520182312500767, colsample_bytree=0.10071383235305315, gamma=0.1306259708506294, learning_rate=0.05772071367538865, max_delta_step=9, max_depth=3, min_child_weight=0, n_estimators=54, reg_alpha=8.314179372820195e-07, reg_lambda=0.6390308012051995, scale_pos_weight=0.009849176697920532, subsample=0.31067863101564347 \n",
      "[CV]  colsample_bylevel=0.07520182312500767, colsample_bytree=0.10071383235305315, gamma=0.1306259708506294, learning_rate=0.05772071367538865, max_delta_step=9, max_depth=3, min_child_weight=0, n_estimators=54, reg_alpha=8.314179372820195e-07, reg_lambda=0.6390308012051995, scale_pos_weight=0.009849176697920532, subsample=0.31067863101564347, score=-0.039, total=   0.6s\n",
      "[CV] colsample_bylevel=0.07520182312500767, colsample_bytree=0.10071383235305315, gamma=0.1306259708506294, learning_rate=0.05772071367538865, max_delta_step=9, max_depth=3, min_child_weight=0, n_estimators=54, reg_alpha=8.314179372820195e-07, reg_lambda=0.6390308012051995, scale_pos_weight=0.009849176697920532, subsample=0.31067863101564347 \n",
      "[CV]  colsample_bylevel=0.07520182312500767, colsample_bytree=0.10071383235305315, gamma=0.1306259708506294, learning_rate=0.05772071367538865, max_delta_step=9, max_depth=3, min_child_weight=0, n_estimators=54, reg_alpha=8.314179372820195e-07, reg_lambda=0.6390308012051995, scale_pos_weight=0.009849176697920532, subsample=0.31067863101564347, score=-0.141, total=   0.6s\n",
      "[CV] colsample_bylevel=0.07520182312500767, colsample_bytree=0.10071383235305315, gamma=0.1306259708506294, learning_rate=0.05772071367538865, max_delta_step=9, max_depth=3, min_child_weight=0, n_estimators=54, reg_alpha=8.314179372820195e-07, reg_lambda=0.6390308012051995, scale_pos_weight=0.009849176697920532, subsample=0.31067863101564347 \n",
      "[CV]  colsample_bylevel=0.07520182312500767, colsample_bytree=0.10071383235305315, gamma=0.1306259708506294, learning_rate=0.05772071367538865, max_delta_step=9, max_depth=3, min_child_weight=0, n_estimators=54, reg_alpha=8.314179372820195e-07, reg_lambda=0.6390308012051995, scale_pos_weight=0.009849176697920532, subsample=0.31067863101564347, score=-0.056, total=   0.5s\n",
      "[CV] colsample_bylevel=0.07520182312500767, colsample_bytree=0.10071383235305315, gamma=0.1306259708506294, learning_rate=0.05772071367538865, max_delta_step=9, max_depth=3, min_child_weight=0, n_estimators=54, reg_alpha=8.314179372820195e-07, reg_lambda=0.6390308012051995, scale_pos_weight=0.009849176697920532, subsample=0.31067863101564347 \n",
      "[CV]  colsample_bylevel=0.07520182312500767, colsample_bytree=0.10071383235305315, gamma=0.1306259708506294, learning_rate=0.05772071367538865, max_delta_step=9, max_depth=3, min_child_weight=0, n_estimators=54, reg_alpha=8.314179372820195e-07, reg_lambda=0.6390308012051995, scale_pos_weight=0.009849176697920532, subsample=0.31067863101564347, score=-0.133, total=   0.6s\n",
      "[CV] colsample_bylevel=0.10778848548378345, colsample_bytree=0.34473294036385693, gamma=0.49999999999999994, learning_rate=0.07158146573509505, max_delta_step=20, max_depth=0, min_child_weight=3, n_estimators=72, reg_alpha=1e-09, reg_lambda=1e-09, scale_pos_weight=1.1113009257415081e-05, subsample=0.4889855845808377 \n",
      "[CV]  colsample_bylevel=0.10778848548378345, colsample_bytree=0.34473294036385693, gamma=0.49999999999999994, learning_rate=0.07158146573509505, max_delta_step=20, max_depth=0, min_child_weight=3, n_estimators=72, reg_alpha=1e-09, reg_lambda=1e-09, scale_pos_weight=1.1113009257415081e-05, subsample=0.4889855845808377, score=-0.001, total=   0.6s\n",
      "[CV] colsample_bylevel=0.10778848548378345, colsample_bytree=0.34473294036385693, gamma=0.49999999999999994, learning_rate=0.07158146573509505, max_delta_step=20, max_depth=0, min_child_weight=3, n_estimators=72, reg_alpha=1e-09, reg_lambda=1e-09, scale_pos_weight=1.1113009257415081e-05, subsample=0.4889855845808377 \n",
      "[CV]  colsample_bylevel=0.10778848548378345, colsample_bytree=0.34473294036385693, gamma=0.49999999999999994, learning_rate=0.07158146573509505, max_delta_step=20, max_depth=0, min_child_weight=3, n_estimators=72, reg_alpha=1e-09, reg_lambda=1e-09, scale_pos_weight=1.1113009257415081e-05, subsample=0.4889855845808377, score=-0.018, total=   0.6s\n",
      "[CV] colsample_bylevel=0.10778848548378345, colsample_bytree=0.34473294036385693, gamma=0.49999999999999994, learning_rate=0.07158146573509505, max_delta_step=20, max_depth=0, min_child_weight=3, n_estimators=72, reg_alpha=1e-09, reg_lambda=1e-09, scale_pos_weight=1.1113009257415081e-05, subsample=0.4889855845808377 \n",
      "[CV]  colsample_bylevel=0.10778848548378345, colsample_bytree=0.34473294036385693, gamma=0.49999999999999994, learning_rate=0.07158146573509505, max_delta_step=20, max_depth=0, min_child_weight=3, n_estimators=72, reg_alpha=1e-09, reg_lambda=1e-09, scale_pos_weight=1.1113009257415081e-05, subsample=0.4889855845808377, score=-0.004, total=   0.6s\n",
      "[CV] colsample_bylevel=0.10778848548378345, colsample_bytree=0.34473294036385693, gamma=0.49999999999999994, learning_rate=0.07158146573509505, max_delta_step=20, max_depth=0, min_child_weight=3, n_estimators=72, reg_alpha=1e-09, reg_lambda=1e-09, scale_pos_weight=1.1113009257415081e-05, subsample=0.4889855845808377 \n",
      "[CV]  colsample_bylevel=0.10778848548378345, colsample_bytree=0.34473294036385693, gamma=0.49999999999999994, learning_rate=0.07158146573509505, max_delta_step=20, max_depth=0, min_child_weight=3, n_estimators=72, reg_alpha=1e-09, reg_lambda=1e-09, scale_pos_weight=1.1113009257415081e-05, subsample=0.4889855845808377, score=-0.006, total=   0.6s\n",
      "[CV] colsample_bylevel=0.10778848548378345, colsample_bytree=0.34473294036385693, gamma=0.49999999999999994, learning_rate=0.07158146573509505, max_delta_step=20, max_depth=0, min_child_weight=3, n_estimators=72, reg_alpha=1e-09, reg_lambda=1e-09, scale_pos_weight=1.1113009257415081e-05, subsample=0.4889855845808377 \n",
      "[CV]  colsample_bylevel=0.10778848548378345, colsample_bytree=0.34473294036385693, gamma=0.49999999999999994, learning_rate=0.07158146573509505, max_delta_step=20, max_depth=0, min_child_weight=3, n_estimators=72, reg_alpha=1e-09, reg_lambda=1e-09, scale_pos_weight=1.1113009257415081e-05, subsample=0.4889855845808377, score=-0.010, total=   0.6s\n",
      "[CV] colsample_bylevel=0.01, colsample_bytree=0.6578003960237878, gamma=5.303904591979325e-06, learning_rate=0.07633155084725585, max_delta_step=17, max_depth=0, min_child_weight=5, n_estimators=79, reg_alpha=3.7488999538649663e-06, reg_lambda=0.00012039908353725067, scale_pos_weight=5.356386312451488e-05, subsample=0.47510455082127895 \n",
      "[CV]  colsample_bylevel=0.01, colsample_bytree=0.6578003960237878, gamma=5.303904591979325e-06, learning_rate=0.07633155084725585, max_delta_step=17, max_depth=0, min_child_weight=5, n_estimators=79, reg_alpha=3.7488999538649663e-06, reg_lambda=0.00012039908353725067, scale_pos_weight=5.356386312451488e-05, subsample=0.47510455082127895, score=-0.002, total=   0.6s\n",
      "[CV] colsample_bylevel=0.01, colsample_bytree=0.6578003960237878, gamma=5.303904591979325e-06, learning_rate=0.07633155084725585, max_delta_step=17, max_depth=0, min_child_weight=5, n_estimators=79, reg_alpha=3.7488999538649663e-06, reg_lambda=0.00012039908353725067, scale_pos_weight=5.356386312451488e-05, subsample=0.47510455082127895 \n",
      "[CV]  colsample_bylevel=0.01, colsample_bytree=0.6578003960237878, gamma=5.303904591979325e-06, learning_rate=0.07633155084725585, max_delta_step=17, max_depth=0, min_child_weight=5, n_estimators=79, reg_alpha=3.7488999538649663e-06, reg_lambda=0.00012039908353725067, scale_pos_weight=5.356386312451488e-05, subsample=0.47510455082127895, score=-0.022, total=   0.6s\n",
      "[CV] colsample_bylevel=0.01, colsample_bytree=0.6578003960237878, gamma=5.303904591979325e-06, learning_rate=0.07633155084725585, max_delta_step=17, max_depth=0, min_child_weight=5, n_estimators=79, reg_alpha=3.7488999538649663e-06, reg_lambda=0.00012039908353725067, scale_pos_weight=5.356386312451488e-05, subsample=0.47510455082127895 \n"
     ]
    },
    {
     "name": "stdout",
     "output_type": "stream",
     "text": [
      "[CV]  colsample_bylevel=0.01, colsample_bytree=0.6578003960237878, gamma=5.303904591979325e-06, learning_rate=0.07633155084725585, max_delta_step=17, max_depth=0, min_child_weight=5, n_estimators=79, reg_alpha=3.7488999538649663e-06, reg_lambda=0.00012039908353725067, scale_pos_weight=5.356386312451488e-05, subsample=0.47510455082127895, score=-0.002, total=   0.6s\n",
      "[CV] colsample_bylevel=0.01, colsample_bytree=0.6578003960237878, gamma=5.303904591979325e-06, learning_rate=0.07633155084725585, max_delta_step=17, max_depth=0, min_child_weight=5, n_estimators=79, reg_alpha=3.7488999538649663e-06, reg_lambda=0.00012039908353725067, scale_pos_weight=5.356386312451488e-05, subsample=0.47510455082127895 \n",
      "[CV]  colsample_bylevel=0.01, colsample_bytree=0.6578003960237878, gamma=5.303904591979325e-06, learning_rate=0.07633155084725585, max_delta_step=17, max_depth=0, min_child_weight=5, n_estimators=79, reg_alpha=3.7488999538649663e-06, reg_lambda=0.00012039908353725067, scale_pos_weight=5.356386312451488e-05, subsample=0.47510455082127895, score=-0.009, total=   0.6s\n",
      "[CV] colsample_bylevel=0.01, colsample_bytree=0.6578003960237878, gamma=5.303904591979325e-06, learning_rate=0.07633155084725585, max_delta_step=17, max_depth=0, min_child_weight=5, n_estimators=79, reg_alpha=3.7488999538649663e-06, reg_lambda=0.00012039908353725067, scale_pos_weight=5.356386312451488e-05, subsample=0.47510455082127895 \n",
      "[CV]  colsample_bylevel=0.01, colsample_bytree=0.6578003960237878, gamma=5.303904591979325e-06, learning_rate=0.07633155084725585, max_delta_step=17, max_depth=0, min_child_weight=5, n_estimators=79, reg_alpha=3.7488999538649663e-06, reg_lambda=0.00012039908353725067, scale_pos_weight=5.356386312451488e-05, subsample=0.47510455082127895, score=-0.011, total=   0.6s\n",
      "[CV] colsample_bylevel=0.01, colsample_bytree=0.21949624741714951, gamma=0.00035487059587988577, learning_rate=0.059613096928612844, max_delta_step=5, max_depth=5, min_child_weight=4, n_estimators=64, reg_alpha=5.001580178736392e-07, reg_lambda=1.1486137171898972e-05, scale_pos_weight=0.028988526301663962, subsample=0.3128711538734225 \n",
      "[CV]  colsample_bylevel=0.01, colsample_bytree=0.21949624741714951, gamma=0.00035487059587988577, learning_rate=0.059613096928612844, max_delta_step=5, max_depth=5, min_child_weight=4, n_estimators=64, reg_alpha=5.001580178736392e-07, reg_lambda=1.1486137171898972e-05, scale_pos_weight=0.028988526301663962, subsample=0.3128711538734225, score=-0.313, total=   0.6s\n",
      "[CV] colsample_bylevel=0.01, colsample_bytree=0.21949624741714951, gamma=0.00035487059587988577, learning_rate=0.059613096928612844, max_delta_step=5, max_depth=5, min_child_weight=4, n_estimators=64, reg_alpha=5.001580178736392e-07, reg_lambda=1.1486137171898972e-05, scale_pos_weight=0.028988526301663962, subsample=0.3128711538734225 \n",
      "[CV]  colsample_bylevel=0.01, colsample_bytree=0.21949624741714951, gamma=0.00035487059587988577, learning_rate=0.059613096928612844, max_delta_step=5, max_depth=5, min_child_weight=4, n_estimators=64, reg_alpha=5.001580178736392e-07, reg_lambda=1.1486137171898972e-05, scale_pos_weight=0.028988526301663962, subsample=0.3128711538734225, score=-0.273, total=   0.6s\n",
      "[CV] colsample_bylevel=0.01, colsample_bytree=0.21949624741714951, gamma=0.00035487059587988577, learning_rate=0.059613096928612844, max_delta_step=5, max_depth=5, min_child_weight=4, n_estimators=64, reg_alpha=5.001580178736392e-07, reg_lambda=1.1486137171898972e-05, scale_pos_weight=0.028988526301663962, subsample=0.3128711538734225 \n",
      "[CV]  colsample_bylevel=0.01, colsample_bytree=0.21949624741714951, gamma=0.00035487059587988577, learning_rate=0.059613096928612844, max_delta_step=5, max_depth=5, min_child_weight=4, n_estimators=64, reg_alpha=5.001580178736392e-07, reg_lambda=1.1486137171898972e-05, scale_pos_weight=0.028988526301663962, subsample=0.3128711538734225, score=-0.404, total=   0.6s\n",
      "[CV] colsample_bylevel=0.01, colsample_bytree=0.21949624741714951, gamma=0.00035487059587988577, learning_rate=0.059613096928612844, max_delta_step=5, max_depth=5, min_child_weight=4, n_estimators=64, reg_alpha=5.001580178736392e-07, reg_lambda=1.1486137171898972e-05, scale_pos_weight=0.028988526301663962, subsample=0.3128711538734225 \n",
      "[CV]  colsample_bylevel=0.01, colsample_bytree=0.21949624741714951, gamma=0.00035487059587988577, learning_rate=0.059613096928612844, max_delta_step=5, max_depth=5, min_child_weight=4, n_estimators=64, reg_alpha=5.001580178736392e-07, reg_lambda=1.1486137171898972e-05, scale_pos_weight=0.028988526301663962, subsample=0.3128711538734225, score=-0.272, total=   0.6s\n",
      "[CV] colsample_bylevel=0.01, colsample_bytree=0.21949624741714951, gamma=0.00035487059587988577, learning_rate=0.059613096928612844, max_delta_step=5, max_depth=5, min_child_weight=4, n_estimators=64, reg_alpha=5.001580178736392e-07, reg_lambda=1.1486137171898972e-05, scale_pos_weight=0.028988526301663962, subsample=0.3128711538734225 \n",
      "[CV]  colsample_bylevel=0.01, colsample_bytree=0.21949624741714951, gamma=0.00035487059587988577, learning_rate=0.059613096928612844, max_delta_step=5, max_depth=5, min_child_weight=4, n_estimators=64, reg_alpha=5.001580178736392e-07, reg_lambda=1.1486137171898972e-05, scale_pos_weight=0.028988526301663962, subsample=0.3128711538734225, score=-0.386, total=   0.6s\n",
      "[CV] colsample_bylevel=1.0, colsample_bytree=0.01, gamma=0.49999999999999994, learning_rate=0.14305388472556657, max_delta_step=20, max_depth=0, min_child_weight=0, n_estimators=50, reg_alpha=5.1064023004350345e-09, reg_lambda=1e-09, scale_pos_weight=0.0859296510769266, subsample=0.7023321436214115 \n",
      "[CV]  colsample_bylevel=1.0, colsample_bytree=0.01, gamma=0.49999999999999994, learning_rate=0.14305388472556657, max_delta_step=20, max_depth=0, min_child_weight=0, n_estimators=50, reg_alpha=5.1064023004350345e-09, reg_lambda=1e-09, scale_pos_weight=0.0859296510769266, subsample=0.7023321436214115, score=-0.001, total=   0.5s\n",
      "[CV] colsample_bylevel=1.0, colsample_bytree=0.01, gamma=0.49999999999999994, learning_rate=0.14305388472556657, max_delta_step=20, max_depth=0, min_child_weight=0, n_estimators=50, reg_alpha=5.1064023004350345e-09, reg_lambda=1e-09, scale_pos_weight=0.0859296510769266, subsample=0.7023321436214115 \n",
      "[CV]  colsample_bylevel=1.0, colsample_bytree=0.01, gamma=0.49999999999999994, learning_rate=0.14305388472556657, max_delta_step=20, max_depth=0, min_child_weight=0, n_estimators=50, reg_alpha=5.1064023004350345e-09, reg_lambda=1e-09, scale_pos_weight=0.0859296510769266, subsample=0.7023321436214115, score=-0.020, total=   0.5s\n",
      "[CV] colsample_bylevel=1.0, colsample_bytree=0.01, gamma=0.49999999999999994, learning_rate=0.14305388472556657, max_delta_step=20, max_depth=0, min_child_weight=0, n_estimators=50, reg_alpha=5.1064023004350345e-09, reg_lambda=1e-09, scale_pos_weight=0.0859296510769266, subsample=0.7023321436214115 \n",
      "[CV]  colsample_bylevel=1.0, colsample_bytree=0.01, gamma=0.49999999999999994, learning_rate=0.14305388472556657, max_delta_step=20, max_depth=0, min_child_weight=0, n_estimators=50, reg_alpha=5.1064023004350345e-09, reg_lambda=1e-09, scale_pos_weight=0.0859296510769266, subsample=0.7023321436214115, score=-0.004, total=   0.5s\n",
      "[CV] colsample_bylevel=1.0, colsample_bytree=0.01, gamma=0.49999999999999994, learning_rate=0.14305388472556657, max_delta_step=20, max_depth=0, min_child_weight=0, n_estimators=50, reg_alpha=5.1064023004350345e-09, reg_lambda=1e-09, scale_pos_weight=0.0859296510769266, subsample=0.7023321436214115 \n",
      "[CV]  colsample_bylevel=1.0, colsample_bytree=0.01, gamma=0.49999999999999994, learning_rate=0.14305388472556657, max_delta_step=20, max_depth=0, min_child_weight=0, n_estimators=50, reg_alpha=5.1064023004350345e-09, reg_lambda=1e-09, scale_pos_weight=0.0859296510769266, subsample=0.7023321436214115, score=-0.006, total=   0.5s\n",
      "[CV] colsample_bylevel=1.0, colsample_bytree=0.01, gamma=0.49999999999999994, learning_rate=0.14305388472556657, max_delta_step=20, max_depth=0, min_child_weight=0, n_estimators=50, reg_alpha=5.1064023004350345e-09, reg_lambda=1e-09, scale_pos_weight=0.0859296510769266, subsample=0.7023321436214115 \n",
      "[CV]  colsample_bylevel=1.0, colsample_bytree=0.01, gamma=0.49999999999999994, learning_rate=0.14305388472556657, max_delta_step=20, max_depth=0, min_child_weight=0, n_estimators=50, reg_alpha=5.1064023004350345e-09, reg_lambda=1e-09, scale_pos_weight=0.0859296510769266, subsample=0.7023321436214115, score=-0.009, total=   0.5s\n",
      "[CV] colsample_bylevel=0.01, colsample_bytree=0.6626148353430455, gamma=0.0006216385266152179, learning_rate=0.028808463384429484, max_delta_step=8, max_depth=49, min_child_weight=3, n_estimators=159, reg_alpha=0.003915497583421369, reg_lambda=3.4604943526205016e-06, scale_pos_weight=286.2425638099556, subsample=0.8279869964473171 \n"
     ]
    },
    {
     "name": "stdout",
     "output_type": "stream",
     "text": [
      "[CV]  colsample_bylevel=0.01, colsample_bytree=0.6626148353430455, gamma=0.0006216385266152179, learning_rate=0.028808463384429484, max_delta_step=8, max_depth=49, min_child_weight=3, n_estimators=159, reg_alpha=0.003915497583421369, reg_lambda=3.4604943526205016e-06, scale_pos_weight=286.2425638099556, subsample=0.8279869964473171, score=-0.099, total=   1.6s\n",
      "[CV] colsample_bylevel=0.01, colsample_bytree=0.6626148353430455, gamma=0.0006216385266152179, learning_rate=0.028808463384429484, max_delta_step=8, max_depth=49, min_child_weight=3, n_estimators=159, reg_alpha=0.003915497583421369, reg_lambda=3.4604943526205016e-06, scale_pos_weight=286.2425638099556, subsample=0.8279869964473171 \n",
      "[CV]  colsample_bylevel=0.01, colsample_bytree=0.6626148353430455, gamma=0.0006216385266152179, learning_rate=0.028808463384429484, max_delta_step=8, max_depth=49, min_child_weight=3, n_estimators=159, reg_alpha=0.003915497583421369, reg_lambda=3.4604943526205016e-06, scale_pos_weight=286.2425638099556, subsample=0.8279869964473171, score=-0.075, total=   1.8s\n",
      "[CV] colsample_bylevel=0.01, colsample_bytree=0.6626148353430455, gamma=0.0006216385266152179, learning_rate=0.028808463384429484, max_delta_step=8, max_depth=49, min_child_weight=3, n_estimators=159, reg_alpha=0.003915497583421369, reg_lambda=3.4604943526205016e-06, scale_pos_weight=286.2425638099556, subsample=0.8279869964473171 \n",
      "[CV]  colsample_bylevel=0.01, colsample_bytree=0.6626148353430455, gamma=0.0006216385266152179, learning_rate=0.028808463384429484, max_delta_step=8, max_depth=49, min_child_weight=3, n_estimators=159, reg_alpha=0.003915497583421369, reg_lambda=3.4604943526205016e-06, scale_pos_weight=286.2425638099556, subsample=0.8279869964473171, score=-0.176, total=   1.7s\n",
      "[CV] colsample_bylevel=0.01, colsample_bytree=0.6626148353430455, gamma=0.0006216385266152179, learning_rate=0.028808463384429484, max_delta_step=8, max_depth=49, min_child_weight=3, n_estimators=159, reg_alpha=0.003915497583421369, reg_lambda=3.4604943526205016e-06, scale_pos_weight=286.2425638099556, subsample=0.8279869964473171 \n",
      "[CV]  colsample_bylevel=0.01, colsample_bytree=0.6626148353430455, gamma=0.0006216385266152179, learning_rate=0.028808463384429484, max_delta_step=8, max_depth=49, min_child_weight=3, n_estimators=159, reg_alpha=0.003915497583421369, reg_lambda=3.4604943526205016e-06, scale_pos_weight=286.2425638099556, subsample=0.8279869964473171, score=-0.049, total=   1.8s\n",
      "[CV] colsample_bylevel=0.01, colsample_bytree=0.6626148353430455, gamma=0.0006216385266152179, learning_rate=0.028808463384429484, max_delta_step=8, max_depth=49, min_child_weight=3, n_estimators=159, reg_alpha=0.003915497583421369, reg_lambda=3.4604943526205016e-06, scale_pos_weight=286.2425638099556, subsample=0.8279869964473171 \n",
      "[CV]  colsample_bylevel=0.01, colsample_bytree=0.6626148353430455, gamma=0.0006216385266152179, learning_rate=0.028808463384429484, max_delta_step=8, max_depth=49, min_child_weight=3, n_estimators=159, reg_alpha=0.003915497583421369, reg_lambda=3.4604943526205016e-06, scale_pos_weight=286.2425638099556, subsample=0.8279869964473171, score=-0.166, total=   1.7s\n",
      "[CV] colsample_bylevel=0.01, colsample_bytree=0.6116183797060488, gamma=0.49999999999999994, learning_rate=0.01, max_delta_step=0, max_depth=0, min_child_weight=0, n_estimators=200, reg_alpha=1e-09, reg_lambda=1000.0, scale_pos_weight=499.99999999999994, subsample=1.0 \n",
      "[CV]  colsample_bylevel=0.01, colsample_bytree=0.6116183797060488, gamma=0.49999999999999994, learning_rate=0.01, max_delta_step=0, max_depth=0, min_child_weight=0, n_estimators=200, reg_alpha=1e-09, reg_lambda=1000.0, scale_pos_weight=499.99999999999994, subsample=1.0, score=-1.275, total=   1.0s\n",
      "[CV] colsample_bylevel=0.01, colsample_bytree=0.6116183797060488, gamma=0.49999999999999994, learning_rate=0.01, max_delta_step=0, max_depth=0, min_child_weight=0, n_estimators=200, reg_alpha=1e-09, reg_lambda=1000.0, scale_pos_weight=499.99999999999994, subsample=1.0 \n",
      "[CV]  colsample_bylevel=0.01, colsample_bytree=0.6116183797060488, gamma=0.49999999999999994, learning_rate=0.01, max_delta_step=0, max_depth=0, min_child_weight=0, n_estimators=200, reg_alpha=1e-09, reg_lambda=1000.0, scale_pos_weight=499.99999999999994, subsample=1.0, score=-1.367, total=   1.0s\n",
      "[CV] colsample_bylevel=0.01, colsample_bytree=0.6116183797060488, gamma=0.49999999999999994, learning_rate=0.01, max_delta_step=0, max_depth=0, min_child_weight=0, n_estimators=200, reg_alpha=1e-09, reg_lambda=1000.0, scale_pos_weight=499.99999999999994, subsample=1.0 \n",
      "[CV]  colsample_bylevel=0.01, colsample_bytree=0.6116183797060488, gamma=0.49999999999999994, learning_rate=0.01, max_delta_step=0, max_depth=0, min_child_weight=0, n_estimators=200, reg_alpha=1e-09, reg_lambda=1000.0, scale_pos_weight=499.99999999999994, subsample=1.0, score=-1.483, total=   1.0s\n",
      "[CV] colsample_bylevel=0.01, colsample_bytree=0.6116183797060488, gamma=0.49999999999999994, learning_rate=0.01, max_delta_step=0, max_depth=0, min_child_weight=0, n_estimators=200, reg_alpha=1e-09, reg_lambda=1000.0, scale_pos_weight=499.99999999999994, subsample=1.0 \n",
      "[CV]  colsample_bylevel=0.01, colsample_bytree=0.6116183797060488, gamma=0.49999999999999994, learning_rate=0.01, max_delta_step=0, max_depth=0, min_child_weight=0, n_estimators=200, reg_alpha=1e-09, reg_lambda=1000.0, scale_pos_weight=499.99999999999994, subsample=1.0, score=-1.233, total=   1.1s\n",
      "[CV] colsample_bylevel=0.01, colsample_bytree=0.6116183797060488, gamma=0.49999999999999994, learning_rate=0.01, max_delta_step=0, max_depth=0, min_child_weight=0, n_estimators=200, reg_alpha=1e-09, reg_lambda=1000.0, scale_pos_weight=499.99999999999994, subsample=1.0 \n",
      "[CV]  colsample_bylevel=0.01, colsample_bytree=0.6116183797060488, gamma=0.49999999999999994, learning_rate=0.01, max_delta_step=0, max_depth=0, min_child_weight=0, n_estimators=200, reg_alpha=1e-09, reg_lambda=1000.0, scale_pos_weight=499.99999999999994, subsample=1.0, score=-1.350, total=   1.0s\n",
      "[CV] colsample_bylevel=0.01, colsample_bytree=0.7768097303106088, gamma=0.49999999999999994, learning_rate=0.024859972691970978, max_delta_step=20, max_depth=0, min_child_weight=2, n_estimators=163, reg_alpha=1e-09, reg_lambda=4.0673680191606835e-07, scale_pos_weight=499.99999999999994, subsample=0.9010390057480999 \n",
      "[CV]  colsample_bylevel=0.01, colsample_bytree=0.7768097303106088, gamma=0.49999999999999994, learning_rate=0.024859972691970978, max_delta_step=20, max_depth=0, min_child_weight=2, n_estimators=163, reg_alpha=1e-09, reg_lambda=4.0673680191606835e-07, scale_pos_weight=499.99999999999994, subsample=0.9010390057480999, score=-1.219, total=   0.9s\n",
      "[CV] colsample_bylevel=0.01, colsample_bytree=0.7768097303106088, gamma=0.49999999999999994, learning_rate=0.024859972691970978, max_delta_step=20, max_depth=0, min_child_weight=2, n_estimators=163, reg_alpha=1e-09, reg_lambda=4.0673680191606835e-07, scale_pos_weight=499.99999999999994, subsample=0.9010390057480999 \n",
      "[CV]  colsample_bylevel=0.01, colsample_bytree=0.7768097303106088, gamma=0.49999999999999994, learning_rate=0.024859972691970978, max_delta_step=20, max_depth=0, min_child_weight=2, n_estimators=163, reg_alpha=1e-09, reg_lambda=4.0673680191606835e-07, scale_pos_weight=499.99999999999994, subsample=0.9010390057480999, score=-1.322, total=   0.9s\n",
      "[CV] colsample_bylevel=0.01, colsample_bytree=0.7768097303106088, gamma=0.49999999999999994, learning_rate=0.024859972691970978, max_delta_step=20, max_depth=0, min_child_weight=2, n_estimators=163, reg_alpha=1e-09, reg_lambda=4.0673680191606835e-07, scale_pos_weight=499.99999999999994, subsample=0.9010390057480999 \n",
      "[CV]  colsample_bylevel=0.01, colsample_bytree=0.7768097303106088, gamma=0.49999999999999994, learning_rate=0.024859972691970978, max_delta_step=20, max_depth=0, min_child_weight=2, n_estimators=163, reg_alpha=1e-09, reg_lambda=4.0673680191606835e-07, scale_pos_weight=499.99999999999994, subsample=0.9010390057480999, score=-1.432, total=   0.9s\n",
      "[CV] colsample_bylevel=0.01, colsample_bytree=0.7768097303106088, gamma=0.49999999999999994, learning_rate=0.024859972691970978, max_delta_step=20, max_depth=0, min_child_weight=2, n_estimators=163, reg_alpha=1e-09, reg_lambda=4.0673680191606835e-07, scale_pos_weight=499.99999999999994, subsample=0.9010390057480999 \n"
     ]
    },
    {
     "name": "stdout",
     "output_type": "stream",
     "text": [
      "[CV]  colsample_bylevel=0.01, colsample_bytree=0.7768097303106088, gamma=0.49999999999999994, learning_rate=0.024859972691970978, max_delta_step=20, max_depth=0, min_child_weight=2, n_estimators=163, reg_alpha=1e-09, reg_lambda=4.0673680191606835e-07, scale_pos_weight=499.99999999999994, subsample=0.9010390057480999, score=-1.188, total=   0.9s\n",
      "[CV] colsample_bylevel=0.01, colsample_bytree=0.7768097303106088, gamma=0.49999999999999994, learning_rate=0.024859972691970978, max_delta_step=20, max_depth=0, min_child_weight=2, n_estimators=163, reg_alpha=1e-09, reg_lambda=4.0673680191606835e-07, scale_pos_weight=499.99999999999994, subsample=0.9010390057480999 \n",
      "[CV]  colsample_bylevel=0.01, colsample_bytree=0.7768097303106088, gamma=0.49999999999999994, learning_rate=0.024859972691970978, max_delta_step=20, max_depth=0, min_child_weight=2, n_estimators=163, reg_alpha=1e-09, reg_lambda=4.0673680191606835e-07, scale_pos_weight=499.99999999999994, subsample=0.9010390057480999, score=-1.309, total=   0.9s\n",
      "[CV] colsample_bylevel=1.0, colsample_bytree=0.9094694736225915, gamma=2.1535237655395133e-06, learning_rate=0.01597764261819251, max_delta_step=20, max_depth=0, min_child_weight=3, n_estimators=200, reg_alpha=7.323532211705515e-08, reg_lambda=0.002450135787449004, scale_pos_weight=499.99999999999994, subsample=1.0 \n",
      "[CV]  colsample_bylevel=1.0, colsample_bytree=0.9094694736225915, gamma=2.1535237655395133e-06, learning_rate=0.01597764261819251, max_delta_step=20, max_depth=0, min_child_weight=3, n_estimators=200, reg_alpha=7.323532211705515e-08, reg_lambda=0.002450135787449004, scale_pos_weight=499.99999999999994, subsample=1.0, score=-1.227, total=   1.0s\n",
      "[CV] colsample_bylevel=1.0, colsample_bytree=0.9094694736225915, gamma=2.1535237655395133e-06, learning_rate=0.01597764261819251, max_delta_step=20, max_depth=0, min_child_weight=3, n_estimators=200, reg_alpha=7.323532211705515e-08, reg_lambda=0.002450135787449004, scale_pos_weight=499.99999999999994, subsample=1.0 \n",
      "[CV]  colsample_bylevel=1.0, colsample_bytree=0.9094694736225915, gamma=2.1535237655395133e-06, learning_rate=0.01597764261819251, max_delta_step=20, max_depth=0, min_child_weight=3, n_estimators=200, reg_alpha=7.323532211705515e-08, reg_lambda=0.002450135787449004, scale_pos_weight=499.99999999999994, subsample=1.0, score=-1.329, total=   1.0s\n",
      "[CV] colsample_bylevel=1.0, colsample_bytree=0.9094694736225915, gamma=2.1535237655395133e-06, learning_rate=0.01597764261819251, max_delta_step=20, max_depth=0, min_child_weight=3, n_estimators=200, reg_alpha=7.323532211705515e-08, reg_lambda=0.002450135787449004, scale_pos_weight=499.99999999999994, subsample=1.0 \n",
      "[CV]  colsample_bylevel=1.0, colsample_bytree=0.9094694736225915, gamma=2.1535237655395133e-06, learning_rate=0.01597764261819251, max_delta_step=20, max_depth=0, min_child_weight=3, n_estimators=200, reg_alpha=7.323532211705515e-08, reg_lambda=0.002450135787449004, scale_pos_weight=499.99999999999994, subsample=1.0, score=-1.440, total=   1.0s\n",
      "[CV] colsample_bylevel=1.0, colsample_bytree=0.9094694736225915, gamma=2.1535237655395133e-06, learning_rate=0.01597764261819251, max_delta_step=20, max_depth=0, min_child_weight=3, n_estimators=200, reg_alpha=7.323532211705515e-08, reg_lambda=0.002450135787449004, scale_pos_weight=499.99999999999994, subsample=1.0 \n",
      "[CV]  colsample_bylevel=1.0, colsample_bytree=0.9094694736225915, gamma=2.1535237655395133e-06, learning_rate=0.01597764261819251, max_delta_step=20, max_depth=0, min_child_weight=3, n_estimators=200, reg_alpha=7.323532211705515e-08, reg_lambda=0.002450135787449004, scale_pos_weight=499.99999999999994, subsample=1.0, score=-1.196, total=   1.0s\n",
      "[CV] colsample_bylevel=1.0, colsample_bytree=0.9094694736225915, gamma=2.1535237655395133e-06, learning_rate=0.01597764261819251, max_delta_step=20, max_depth=0, min_child_weight=3, n_estimators=200, reg_alpha=7.323532211705515e-08, reg_lambda=0.002450135787449004, scale_pos_weight=499.99999999999994, subsample=1.0 \n",
      "[CV]  colsample_bylevel=1.0, colsample_bytree=0.9094694736225915, gamma=2.1535237655395133e-06, learning_rate=0.01597764261819251, max_delta_step=20, max_depth=0, min_child_weight=3, n_estimators=200, reg_alpha=7.323532211705515e-08, reg_lambda=0.002450135787449004, scale_pos_weight=499.99999999999994, subsample=1.0, score=-1.317, total=   1.0s\n"
     ]
    },
    {
     "name": "stderr",
     "output_type": "stream",
     "text": [
      "[Parallel(n_jobs=1)]: Done  60 out of  60 | elapsed:  1.0min finished\n"
     ]
    },
    {
     "name": "stdout",
     "output_type": "stream",
     "text": [
      "best score: 0.02891442311726569\n",
      "Fitting 5 folds for each of 12 candidates, totalling 60 fits\n",
      "[CV] colsample_bylevel=0.01, colsample_bytree=0.6767010298061953, gamma=3.1556446036037253e-06, learning_rate=0.14331212494728782, max_delta_step=6, max_depth=1, min_child_weight=0, n_estimators=74, reg_alpha=0.010583989233467012, reg_lambda=6.21179706044705e-09, scale_pos_weight=9.676520176434502e-05, subsample=1.0 \n"
     ]
    },
    {
     "name": "stderr",
     "output_type": "stream",
     "text": [
      "[Parallel(n_jobs=1)]: Using backend SequentialBackend with 1 concurrent workers.\n"
     ]
    },
    {
     "name": "stdout",
     "output_type": "stream",
     "text": [
      "[CV]  colsample_bylevel=0.01, colsample_bytree=0.6767010298061953, gamma=3.1556446036037253e-06, learning_rate=0.14331212494728782, max_delta_step=6, max_depth=1, min_child_weight=0, n_estimators=74, reg_alpha=0.010583989233467012, reg_lambda=6.21179706044705e-09, scale_pos_weight=9.676520176434502e-05, subsample=1.0, score=0.037, total=   0.6s\n",
      "[CV] colsample_bylevel=0.01, colsample_bytree=0.6767010298061953, gamma=3.1556446036037253e-06, learning_rate=0.14331212494728782, max_delta_step=6, max_depth=1, min_child_weight=0, n_estimators=74, reg_alpha=0.010583989233467012, reg_lambda=6.21179706044705e-09, scale_pos_weight=9.676520176434502e-05, subsample=1.0 \n"
     ]
    },
    {
     "name": "stderr",
     "output_type": "stream",
     "text": [
      "[Parallel(n_jobs=1)]: Done   1 out of   1 | elapsed:    0.6s remaining:    0.0s\n"
     ]
    },
    {
     "name": "stdout",
     "output_type": "stream",
     "text": [
      "[CV]  colsample_bylevel=0.01, colsample_bytree=0.6767010298061953, gamma=3.1556446036037253e-06, learning_rate=0.14331212494728782, max_delta_step=6, max_depth=1, min_child_weight=0, n_estimators=74, reg_alpha=0.010583989233467012, reg_lambda=6.21179706044705e-09, scale_pos_weight=9.676520176434502e-05, subsample=1.0, score=0.002, total=   0.6s\n",
      "[CV] colsample_bylevel=0.01, colsample_bytree=0.6767010298061953, gamma=3.1556446036037253e-06, learning_rate=0.14331212494728782, max_delta_step=6, max_depth=1, min_child_weight=0, n_estimators=74, reg_alpha=0.010583989233467012, reg_lambda=6.21179706044705e-09, scale_pos_weight=9.676520176434502e-05, subsample=1.0 \n"
     ]
    },
    {
     "name": "stderr",
     "output_type": "stream",
     "text": [
      "[Parallel(n_jobs=1)]: Done   2 out of   2 | elapsed:    1.2s remaining:    0.0s\n"
     ]
    },
    {
     "name": "stdout",
     "output_type": "stream",
     "text": [
      "[CV]  colsample_bylevel=0.01, colsample_bytree=0.6767010298061953, gamma=3.1556446036037253e-06, learning_rate=0.14331212494728782, max_delta_step=6, max_depth=1, min_child_weight=0, n_estimators=74, reg_alpha=0.010583989233467012, reg_lambda=6.21179706044705e-09, scale_pos_weight=9.676520176434502e-05, subsample=1.0, score=-0.001, total=   0.6s\n",
      "[CV] colsample_bylevel=0.01, colsample_bytree=0.6767010298061953, gamma=3.1556446036037253e-06, learning_rate=0.14331212494728782, max_delta_step=6, max_depth=1, min_child_weight=0, n_estimators=74, reg_alpha=0.010583989233467012, reg_lambda=6.21179706044705e-09, scale_pos_weight=9.676520176434502e-05, subsample=1.0 \n",
      "[CV]  colsample_bylevel=0.01, colsample_bytree=0.6767010298061953, gamma=3.1556446036037253e-06, learning_rate=0.14331212494728782, max_delta_step=6, max_depth=1, min_child_weight=0, n_estimators=74, reg_alpha=0.010583989233467012, reg_lambda=6.21179706044705e-09, scale_pos_weight=9.676520176434502e-05, subsample=1.0, score=0.025, total=   0.6s\n",
      "[CV] colsample_bylevel=0.01, colsample_bytree=0.6767010298061953, gamma=3.1556446036037253e-06, learning_rate=0.14331212494728782, max_delta_step=6, max_depth=1, min_child_weight=0, n_estimators=74, reg_alpha=0.010583989233467012, reg_lambda=6.21179706044705e-09, scale_pos_weight=9.676520176434502e-05, subsample=1.0 \n",
      "[CV]  colsample_bylevel=0.01, colsample_bytree=0.6767010298061953, gamma=3.1556446036037253e-06, learning_rate=0.14331212494728782, max_delta_step=6, max_depth=1, min_child_weight=0, n_estimators=74, reg_alpha=0.010583989233467012, reg_lambda=6.21179706044705e-09, scale_pos_weight=9.676520176434502e-05, subsample=1.0, score=0.022, total=   0.6s\n",
      "[CV] colsample_bylevel=0.01, colsample_bytree=0.1996531621319042, gamma=0.1211479159062844, learning_rate=0.059984088123900554, max_delta_step=19, max_depth=11, min_child_weight=0, n_estimators=61, reg_alpha=0.11447008382144568, reg_lambda=2.6394109713520507e-07, scale_pos_weight=0.051856095699244105, subsample=0.34898075978377907 \n",
      "[CV]  colsample_bylevel=0.01, colsample_bytree=0.1996531621319042, gamma=0.1211479159062844, learning_rate=0.059984088123900554, max_delta_step=19, max_depth=11, min_child_weight=0, n_estimators=61, reg_alpha=0.11447008382144568, reg_lambda=2.6394109713520507e-07, scale_pos_weight=0.051856095699244105, subsample=0.34898075978377907, score=-0.015, total=   0.6s\n",
      "[CV] colsample_bylevel=0.01, colsample_bytree=0.1996531621319042, gamma=0.1211479159062844, learning_rate=0.059984088123900554, max_delta_step=19, max_depth=11, min_child_weight=0, n_estimators=61, reg_alpha=0.11447008382144568, reg_lambda=2.6394109713520507e-07, scale_pos_weight=0.051856095699244105, subsample=0.34898075978377907 \n",
      "[CV]  colsample_bylevel=0.01, colsample_bytree=0.1996531621319042, gamma=0.1211479159062844, learning_rate=0.059984088123900554, max_delta_step=19, max_depth=11, min_child_weight=0, n_estimators=61, reg_alpha=0.11447008382144568, reg_lambda=2.6394109713520507e-07, scale_pos_weight=0.051856095699244105, subsample=0.34898075978377907, score=-0.009, total=   0.6s\n",
      "[CV] colsample_bylevel=0.01, colsample_bytree=0.1996531621319042, gamma=0.1211479159062844, learning_rate=0.059984088123900554, max_delta_step=19, max_depth=11, min_child_weight=0, n_estimators=61, reg_alpha=0.11447008382144568, reg_lambda=2.6394109713520507e-07, scale_pos_weight=0.051856095699244105, subsample=0.34898075978377907 \n",
      "[CV]  colsample_bylevel=0.01, colsample_bytree=0.1996531621319042, gamma=0.1211479159062844, learning_rate=0.059984088123900554, max_delta_step=19, max_depth=11, min_child_weight=0, n_estimators=61, reg_alpha=0.11447008382144568, reg_lambda=2.6394109713520507e-07, scale_pos_weight=0.051856095699244105, subsample=0.34898075978377907, score=-0.068, total=   0.6s\n",
      "[CV] colsample_bylevel=0.01, colsample_bytree=0.1996531621319042, gamma=0.1211479159062844, learning_rate=0.059984088123900554, max_delta_step=19, max_depth=11, min_child_weight=0, n_estimators=61, reg_alpha=0.11447008382144568, reg_lambda=2.6394109713520507e-07, scale_pos_weight=0.051856095699244105, subsample=0.34898075978377907 \n",
      "[CV]  colsample_bylevel=0.01, colsample_bytree=0.1996531621319042, gamma=0.1211479159062844, learning_rate=0.059984088123900554, max_delta_step=19, max_depth=11, min_child_weight=0, n_estimators=61, reg_alpha=0.11447008382144568, reg_lambda=2.6394109713520507e-07, scale_pos_weight=0.051856095699244105, subsample=0.34898075978377907, score=0.019, total=   0.7s\n",
      "[CV] colsample_bylevel=0.01, colsample_bytree=0.1996531621319042, gamma=0.1211479159062844, learning_rate=0.059984088123900554, max_delta_step=19, max_depth=11, min_child_weight=0, n_estimators=61, reg_alpha=0.11447008382144568, reg_lambda=2.6394109713520507e-07, scale_pos_weight=0.051856095699244105, subsample=0.34898075978377907 \n",
      "[CV]  colsample_bylevel=0.01, colsample_bytree=0.1996531621319042, gamma=0.1211479159062844, learning_rate=0.059984088123900554, max_delta_step=19, max_depth=11, min_child_weight=0, n_estimators=61, reg_alpha=0.11447008382144568, reg_lambda=2.6394109713520507e-07, scale_pos_weight=0.051856095699244105, subsample=0.34898075978377907, score=-0.085, total=   0.6s\n",
      "[CV] colsample_bylevel=0.5279150523639664, colsample_bytree=0.5383525187195382, gamma=5.672776474483607e-07, learning_rate=0.1375620194740208, max_delta_step=10, max_depth=1, min_child_weight=2, n_estimators=69, reg_alpha=6.205577361884474e-07, reg_lambda=0.003638238881161276, scale_pos_weight=0.005820213121943346, subsample=0.5787077293333657 \n",
      "[CV]  colsample_bylevel=0.5279150523639664, colsample_bytree=0.5383525187195382, gamma=5.672776474483607e-07, learning_rate=0.1375620194740208, max_delta_step=10, max_depth=1, min_child_weight=2, n_estimators=69, reg_alpha=6.205577361884474e-07, reg_lambda=0.003638238881161276, scale_pos_weight=0.005820213121943346, subsample=0.5787077293333657, score=0.021, total=   0.7s\n",
      "[CV] colsample_bylevel=0.5279150523639664, colsample_bytree=0.5383525187195382, gamma=5.672776474483607e-07, learning_rate=0.1375620194740208, max_delta_step=10, max_depth=1, min_child_weight=2, n_estimators=69, reg_alpha=6.205577361884474e-07, reg_lambda=0.003638238881161276, scale_pos_weight=0.005820213121943346, subsample=0.5787077293333657 \n",
      "[CV]  colsample_bylevel=0.5279150523639664, colsample_bytree=0.5383525187195382, gamma=5.672776474483607e-07, learning_rate=0.1375620194740208, max_delta_step=10, max_depth=1, min_child_weight=2, n_estimators=69, reg_alpha=6.205577361884474e-07, reg_lambda=0.003638238881161276, scale_pos_weight=0.005820213121943346, subsample=0.5787077293333657, score=0.012, total=   0.7s\n",
      "[CV] colsample_bylevel=0.5279150523639664, colsample_bytree=0.5383525187195382, gamma=5.672776474483607e-07, learning_rate=0.1375620194740208, max_delta_step=10, max_depth=1, min_child_weight=2, n_estimators=69, reg_alpha=6.205577361884474e-07, reg_lambda=0.003638238881161276, scale_pos_weight=0.005820213121943346, subsample=0.5787077293333657 \n",
      "[CV]  colsample_bylevel=0.5279150523639664, colsample_bytree=0.5383525187195382, gamma=5.672776474483607e-07, learning_rate=0.1375620194740208, max_delta_step=10, max_depth=1, min_child_weight=2, n_estimators=69, reg_alpha=6.205577361884474e-07, reg_lambda=0.003638238881161276, scale_pos_weight=0.005820213121943346, subsample=0.5787077293333657, score=-0.024, total=   0.7s\n",
      "[CV] colsample_bylevel=0.5279150523639664, colsample_bytree=0.5383525187195382, gamma=5.672776474483607e-07, learning_rate=0.1375620194740208, max_delta_step=10, max_depth=1, min_child_weight=2, n_estimators=69, reg_alpha=6.205577361884474e-07, reg_lambda=0.003638238881161276, scale_pos_weight=0.005820213121943346, subsample=0.5787077293333657 \n",
      "[CV]  colsample_bylevel=0.5279150523639664, colsample_bytree=0.5383525187195382, gamma=5.672776474483607e-07, learning_rate=0.1375620194740208, max_delta_step=10, max_depth=1, min_child_weight=2, n_estimators=69, reg_alpha=6.205577361884474e-07, reg_lambda=0.003638238881161276, scale_pos_weight=0.005820213121943346, subsample=0.5787077293333657, score=0.012, total=   0.7s\n",
      "[CV] colsample_bylevel=0.5279150523639664, colsample_bytree=0.5383525187195382, gamma=5.672776474483607e-07, learning_rate=0.1375620194740208, max_delta_step=10, max_depth=1, min_child_weight=2, n_estimators=69, reg_alpha=6.205577361884474e-07, reg_lambda=0.003638238881161276, scale_pos_weight=0.005820213121943346, subsample=0.5787077293333657 \n"
     ]
    },
    {
     "name": "stdout",
     "output_type": "stream",
     "text": [
      "[CV]  colsample_bylevel=0.5279150523639664, colsample_bytree=0.5383525187195382, gamma=5.672776474483607e-07, learning_rate=0.1375620194740208, max_delta_step=10, max_depth=1, min_child_weight=2, n_estimators=69, reg_alpha=6.205577361884474e-07, reg_lambda=0.003638238881161276, scale_pos_weight=0.005820213121943346, subsample=0.5787077293333657, score=0.043, total=   0.7s\n",
      "[CV] colsample_bylevel=0.47325951187337806, colsample_bytree=0.01, gamma=6.097486590859297e-05, learning_rate=0.13749633448146495, max_delta_step=10, max_depth=1, min_child_weight=2, n_estimators=70, reg_alpha=0.4654298474125335, reg_lambda=0.5519571534791989, scale_pos_weight=0.154514476473525, subsample=0.6021837099661778 \n",
      "[CV]  colsample_bylevel=0.47325951187337806, colsample_bytree=0.01, gamma=6.097486590859297e-05, learning_rate=0.13749633448146495, max_delta_step=10, max_depth=1, min_child_weight=2, n_estimators=70, reg_alpha=0.4654298474125335, reg_lambda=0.5519571534791989, scale_pos_weight=0.154514476473525, subsample=0.6021837099661778, score=0.038, total=   0.6s\n",
      "[CV] colsample_bylevel=0.47325951187337806, colsample_bytree=0.01, gamma=6.097486590859297e-05, learning_rate=0.13749633448146495, max_delta_step=10, max_depth=1, min_child_weight=2, n_estimators=70, reg_alpha=0.4654298474125335, reg_lambda=0.5519571534791989, scale_pos_weight=0.154514476473525, subsample=0.6021837099661778 \n",
      "[CV]  colsample_bylevel=0.47325951187337806, colsample_bytree=0.01, gamma=6.097486590859297e-05, learning_rate=0.13749633448146495, max_delta_step=10, max_depth=1, min_child_weight=2, n_estimators=70, reg_alpha=0.4654298474125335, reg_lambda=0.5519571534791989, scale_pos_weight=0.154514476473525, subsample=0.6021837099661778, score=-0.007, total=   0.6s\n",
      "[CV] colsample_bylevel=0.47325951187337806, colsample_bytree=0.01, gamma=6.097486590859297e-05, learning_rate=0.13749633448146495, max_delta_step=10, max_depth=1, min_child_weight=2, n_estimators=70, reg_alpha=0.4654298474125335, reg_lambda=0.5519571534791989, scale_pos_weight=0.154514476473525, subsample=0.6021837099661778 \n",
      "[CV]  colsample_bylevel=0.47325951187337806, colsample_bytree=0.01, gamma=6.097486590859297e-05, learning_rate=0.13749633448146495, max_delta_step=10, max_depth=1, min_child_weight=2, n_estimators=70, reg_alpha=0.4654298474125335, reg_lambda=0.5519571534791989, scale_pos_weight=0.154514476473525, subsample=0.6021837099661778, score=-0.004, total=   0.6s\n",
      "[CV] colsample_bylevel=0.47325951187337806, colsample_bytree=0.01, gamma=6.097486590859297e-05, learning_rate=0.13749633448146495, max_delta_step=10, max_depth=1, min_child_weight=2, n_estimators=70, reg_alpha=0.4654298474125335, reg_lambda=0.5519571534791989, scale_pos_weight=0.154514476473525, subsample=0.6021837099661778 \n",
      "[CV]  colsample_bylevel=0.47325951187337806, colsample_bytree=0.01, gamma=6.097486590859297e-05, learning_rate=0.13749633448146495, max_delta_step=10, max_depth=1, min_child_weight=2, n_estimators=70, reg_alpha=0.4654298474125335, reg_lambda=0.5519571534791989, scale_pos_weight=0.154514476473525, subsample=0.6021837099661778, score=0.026, total=   0.6s\n",
      "[CV] colsample_bylevel=0.47325951187337806, colsample_bytree=0.01, gamma=6.097486590859297e-05, learning_rate=0.13749633448146495, max_delta_step=10, max_depth=1, min_child_weight=2, n_estimators=70, reg_alpha=0.4654298474125335, reg_lambda=0.5519571534791989, scale_pos_weight=0.154514476473525, subsample=0.6021837099661778 \n",
      "[CV]  colsample_bylevel=0.47325951187337806, colsample_bytree=0.01, gamma=6.097486590859297e-05, learning_rate=0.13749633448146495, max_delta_step=10, max_depth=1, min_child_weight=2, n_estimators=70, reg_alpha=0.4654298474125335, reg_lambda=0.5519571534791989, scale_pos_weight=0.154514476473525, subsample=0.6021837099661778, score=0.026, total=   0.6s\n",
      "[CV] colsample_bylevel=0.22573550444306759, colsample_bytree=0.1657588700998038, gamma=1e-09, learning_rate=0.16252252051580834, max_delta_step=20, max_depth=13, min_child_weight=5, n_estimators=154, reg_alpha=5.310582481565889e-06, reg_lambda=2.3695631564920327e-07, scale_pos_weight=0.00013928609881700663, subsample=1.0 \n",
      "[CV]  colsample_bylevel=0.22573550444306759, colsample_bytree=0.1657588700998038, gamma=1e-09, learning_rate=0.16252252051580834, max_delta_step=20, max_depth=13, min_child_weight=5, n_estimators=154, reg_alpha=5.310582481565889e-06, reg_lambda=2.3695631564920327e-07, scale_pos_weight=0.00013928609881700663, subsample=1.0, score=0.022, total=   1.6s\n",
      "[CV] colsample_bylevel=0.22573550444306759, colsample_bytree=0.1657588700998038, gamma=1e-09, learning_rate=0.16252252051580834, max_delta_step=20, max_depth=13, min_child_weight=5, n_estimators=154, reg_alpha=5.310582481565889e-06, reg_lambda=2.3695631564920327e-07, scale_pos_weight=0.00013928609881700663, subsample=1.0 \n",
      "[CV]  colsample_bylevel=0.22573550444306759, colsample_bytree=0.1657588700998038, gamma=1e-09, learning_rate=0.16252252051580834, max_delta_step=20, max_depth=13, min_child_weight=5, n_estimators=154, reg_alpha=5.310582481565889e-06, reg_lambda=2.3695631564920327e-07, scale_pos_weight=0.00013928609881700663, subsample=1.0, score=-0.111, total=   1.6s\n",
      "[CV] colsample_bylevel=0.22573550444306759, colsample_bytree=0.1657588700998038, gamma=1e-09, learning_rate=0.16252252051580834, max_delta_step=20, max_depth=13, min_child_weight=5, n_estimators=154, reg_alpha=5.310582481565889e-06, reg_lambda=2.3695631564920327e-07, scale_pos_weight=0.00013928609881700663, subsample=1.0 \n",
      "[CV]  colsample_bylevel=0.22573550444306759, colsample_bytree=0.1657588700998038, gamma=1e-09, learning_rate=0.16252252051580834, max_delta_step=20, max_depth=13, min_child_weight=5, n_estimators=154, reg_alpha=5.310582481565889e-06, reg_lambda=2.3695631564920327e-07, scale_pos_weight=0.00013928609881700663, subsample=1.0, score=-0.084, total=   1.5s\n",
      "[CV] colsample_bylevel=0.22573550444306759, colsample_bytree=0.1657588700998038, gamma=1e-09, learning_rate=0.16252252051580834, max_delta_step=20, max_depth=13, min_child_weight=5, n_estimators=154, reg_alpha=5.310582481565889e-06, reg_lambda=2.3695631564920327e-07, scale_pos_weight=0.00013928609881700663, subsample=1.0 \n",
      "[CV]  colsample_bylevel=0.22573550444306759, colsample_bytree=0.1657588700998038, gamma=1e-09, learning_rate=0.16252252051580834, max_delta_step=20, max_depth=13, min_child_weight=5, n_estimators=154, reg_alpha=5.310582481565889e-06, reg_lambda=2.3695631564920327e-07, scale_pos_weight=0.00013928609881700663, subsample=1.0, score=-0.014, total=   1.6s\n",
      "[CV] colsample_bylevel=0.22573550444306759, colsample_bytree=0.1657588700998038, gamma=1e-09, learning_rate=0.16252252051580834, max_delta_step=20, max_depth=13, min_child_weight=5, n_estimators=154, reg_alpha=5.310582481565889e-06, reg_lambda=2.3695631564920327e-07, scale_pos_weight=0.00013928609881700663, subsample=1.0 \n",
      "[CV]  colsample_bylevel=0.22573550444306759, colsample_bytree=0.1657588700998038, gamma=1e-09, learning_rate=0.16252252051580834, max_delta_step=20, max_depth=13, min_child_weight=5, n_estimators=154, reg_alpha=5.310582481565889e-06, reg_lambda=2.3695631564920327e-07, scale_pos_weight=0.00013928609881700663, subsample=1.0, score=0.023, total=   1.6s\n",
      "[CV] colsample_bylevel=0.3935920146519953, colsample_bytree=0.01, gamma=1e-09, learning_rate=0.12467926658680051, max_delta_step=4, max_depth=17, min_child_weight=0, n_estimators=123, reg_alpha=5.774651528775203e-09, reg_lambda=1e-09, scale_pos_weight=2.4460622452985447e-06, subsample=1.0 \n",
      "[CV]  colsample_bylevel=0.3935920146519953, colsample_bytree=0.01, gamma=1e-09, learning_rate=0.12467926658680051, max_delta_step=4, max_depth=17, min_child_weight=0, n_estimators=123, reg_alpha=5.774651528775203e-09, reg_lambda=1e-09, scale_pos_weight=2.4460622452985447e-06, subsample=1.0, score=0.020, total=   1.0s\n",
      "[CV] colsample_bylevel=0.3935920146519953, colsample_bytree=0.01, gamma=1e-09, learning_rate=0.12467926658680051, max_delta_step=4, max_depth=17, min_child_weight=0, n_estimators=123, reg_alpha=5.774651528775203e-09, reg_lambda=1e-09, scale_pos_weight=2.4460622452985447e-06, subsample=1.0 \n",
      "[CV]  colsample_bylevel=0.3935920146519953, colsample_bytree=0.01, gamma=1e-09, learning_rate=0.12467926658680051, max_delta_step=4, max_depth=17, min_child_weight=0, n_estimators=123, reg_alpha=5.774651528775203e-09, reg_lambda=1e-09, scale_pos_weight=2.4460622452985447e-06, subsample=1.0, score=-0.001, total=   0.9s\n",
      "[CV] colsample_bylevel=0.3935920146519953, colsample_bytree=0.01, gamma=1e-09, learning_rate=0.12467926658680051, max_delta_step=4, max_depth=17, min_child_weight=0, n_estimators=123, reg_alpha=5.774651528775203e-09, reg_lambda=1e-09, scale_pos_weight=2.4460622452985447e-06, subsample=1.0 \n"
     ]
    },
    {
     "name": "stdout",
     "output_type": "stream",
     "text": [
      "[CV]  colsample_bylevel=0.3935920146519953, colsample_bytree=0.01, gamma=1e-09, learning_rate=0.12467926658680051, max_delta_step=4, max_depth=17, min_child_weight=0, n_estimators=123, reg_alpha=5.774651528775203e-09, reg_lambda=1e-09, scale_pos_weight=2.4460622452985447e-06, subsample=1.0, score=-0.035, total=   1.0s\n",
      "[CV] colsample_bylevel=0.3935920146519953, colsample_bytree=0.01, gamma=1e-09, learning_rate=0.12467926658680051, max_delta_step=4, max_depth=17, min_child_weight=0, n_estimators=123, reg_alpha=5.774651528775203e-09, reg_lambda=1e-09, scale_pos_weight=2.4460622452985447e-06, subsample=1.0 \n",
      "[CV]  colsample_bylevel=0.3935920146519953, colsample_bytree=0.01, gamma=1e-09, learning_rate=0.12467926658680051, max_delta_step=4, max_depth=17, min_child_weight=0, n_estimators=123, reg_alpha=5.774651528775203e-09, reg_lambda=1e-09, scale_pos_weight=2.4460622452985447e-06, subsample=1.0, score=0.024, total=   1.0s\n",
      "[CV] colsample_bylevel=0.3935920146519953, colsample_bytree=0.01, gamma=1e-09, learning_rate=0.12467926658680051, max_delta_step=4, max_depth=17, min_child_weight=0, n_estimators=123, reg_alpha=5.774651528775203e-09, reg_lambda=1e-09, scale_pos_weight=2.4460622452985447e-06, subsample=1.0 \n",
      "[CV]  colsample_bylevel=0.3935920146519953, colsample_bytree=0.01, gamma=1e-09, learning_rate=0.12467926658680051, max_delta_step=4, max_depth=17, min_child_weight=0, n_estimators=123, reg_alpha=5.774651528775203e-09, reg_lambda=1e-09, scale_pos_weight=2.4460622452985447e-06, subsample=1.0, score=-0.014, total=   1.0s\n",
      "[CV] colsample_bylevel=0.01, colsample_bytree=0.7207373902606039, gamma=0.00021376847928238917, learning_rate=0.029997918350251077, max_delta_step=16, max_depth=50, min_child_weight=3, n_estimators=195, reg_alpha=0.0029387220302495762, reg_lambda=1.8169867940811322e-07, scale_pos_weight=0.38288706128093797, subsample=0.8072208403146705 \n",
      "[CV]  colsample_bylevel=0.01, colsample_bytree=0.7207373902606039, gamma=0.00021376847928238917, learning_rate=0.029997918350251077, max_delta_step=16, max_depth=50, min_child_weight=3, n_estimators=195, reg_alpha=0.0029387220302495762, reg_lambda=1.8169867940811322e-07, scale_pos_weight=0.38288706128093797, subsample=0.8072208403146705, score=0.049, total=   2.1s\n",
      "[CV] colsample_bylevel=0.01, colsample_bytree=0.7207373902606039, gamma=0.00021376847928238917, learning_rate=0.029997918350251077, max_delta_step=16, max_depth=50, min_child_weight=3, n_estimators=195, reg_alpha=0.0029387220302495762, reg_lambda=1.8169867940811322e-07, scale_pos_weight=0.38288706128093797, subsample=0.8072208403146705 \n",
      "[CV]  colsample_bylevel=0.01, colsample_bytree=0.7207373902606039, gamma=0.00021376847928238917, learning_rate=0.029997918350251077, max_delta_step=16, max_depth=50, min_child_weight=3, n_estimators=195, reg_alpha=0.0029387220302495762, reg_lambda=1.8169867940811322e-07, scale_pos_weight=0.38288706128093797, subsample=0.8072208403146705, score=0.005, total=   2.2s\n",
      "[CV] colsample_bylevel=0.01, colsample_bytree=0.7207373902606039, gamma=0.00021376847928238917, learning_rate=0.029997918350251077, max_delta_step=16, max_depth=50, min_child_weight=3, n_estimators=195, reg_alpha=0.0029387220302495762, reg_lambda=1.8169867940811322e-07, scale_pos_weight=0.38288706128093797, subsample=0.8072208403146705 \n",
      "[CV]  colsample_bylevel=0.01, colsample_bytree=0.7207373902606039, gamma=0.00021376847928238917, learning_rate=0.029997918350251077, max_delta_step=16, max_depth=50, min_child_weight=3, n_estimators=195, reg_alpha=0.0029387220302495762, reg_lambda=1.8169867940811322e-07, scale_pos_weight=0.38288706128093797, subsample=0.8072208403146705, score=0.011, total=   2.1s\n",
      "[CV] colsample_bylevel=0.01, colsample_bytree=0.7207373902606039, gamma=0.00021376847928238917, learning_rate=0.029997918350251077, max_delta_step=16, max_depth=50, min_child_weight=3, n_estimators=195, reg_alpha=0.0029387220302495762, reg_lambda=1.8169867940811322e-07, scale_pos_weight=0.38288706128093797, subsample=0.8072208403146705 \n",
      "[CV]  colsample_bylevel=0.01, colsample_bytree=0.7207373902606039, gamma=0.00021376847928238917, learning_rate=0.029997918350251077, max_delta_step=16, max_depth=50, min_child_weight=3, n_estimators=195, reg_alpha=0.0029387220302495762, reg_lambda=1.8169867940811322e-07, scale_pos_weight=0.38288706128093797, subsample=0.8072208403146705, score=0.044, total=   2.2s\n",
      "[CV] colsample_bylevel=0.01, colsample_bytree=0.7207373902606039, gamma=0.00021376847928238917, learning_rate=0.029997918350251077, max_delta_step=16, max_depth=50, min_child_weight=3, n_estimators=195, reg_alpha=0.0029387220302495762, reg_lambda=1.8169867940811322e-07, scale_pos_weight=0.38288706128093797, subsample=0.8072208403146705 \n",
      "[CV]  colsample_bylevel=0.01, colsample_bytree=0.7207373902606039, gamma=0.00021376847928238917, learning_rate=0.029997918350251077, max_delta_step=16, max_depth=50, min_child_weight=3, n_estimators=195, reg_alpha=0.0029387220302495762, reg_lambda=1.8169867940811322e-07, scale_pos_weight=0.38288706128093797, subsample=0.8072208403146705, score=0.046, total=   2.1s\n",
      "[CV] colsample_bylevel=0.44610416288631344, colsample_bytree=0.08674824792871032, gamma=1.3301788721081312e-05, learning_rate=0.09838484399483827, max_delta_step=20, max_depth=10, min_child_weight=5, n_estimators=50, reg_alpha=1e-09, reg_lambda=1e-09, scale_pos_weight=1e-06, subsample=1.0 \n",
      "[CV]  colsample_bylevel=0.44610416288631344, colsample_bytree=0.08674824792871032, gamma=1.3301788721081312e-05, learning_rate=0.09838484399483827, max_delta_step=20, max_depth=10, min_child_weight=5, n_estimators=50, reg_alpha=1e-09, reg_lambda=1e-09, scale_pos_weight=1e-06, subsample=1.0, score=0.026, total=   0.7s\n",
      "[CV] colsample_bylevel=0.44610416288631344, colsample_bytree=0.08674824792871032, gamma=1.3301788721081312e-05, learning_rate=0.09838484399483827, max_delta_step=20, max_depth=10, min_child_weight=5, n_estimators=50, reg_alpha=1e-09, reg_lambda=1e-09, scale_pos_weight=1e-06, subsample=1.0 \n",
      "[CV]  colsample_bylevel=0.44610416288631344, colsample_bytree=0.08674824792871032, gamma=1.3301788721081312e-05, learning_rate=0.09838484399483827, max_delta_step=20, max_depth=10, min_child_weight=5, n_estimators=50, reg_alpha=1e-09, reg_lambda=1e-09, scale_pos_weight=1e-06, subsample=1.0, score=0.008, total=   0.7s\n",
      "[CV] colsample_bylevel=0.44610416288631344, colsample_bytree=0.08674824792871032, gamma=1.3301788721081312e-05, learning_rate=0.09838484399483827, max_delta_step=20, max_depth=10, min_child_weight=5, n_estimators=50, reg_alpha=1e-09, reg_lambda=1e-09, scale_pos_weight=1e-06, subsample=1.0 \n",
      "[CV]  colsample_bylevel=0.44610416288631344, colsample_bytree=0.08674824792871032, gamma=1.3301788721081312e-05, learning_rate=0.09838484399483827, max_delta_step=20, max_depth=10, min_child_weight=5, n_estimators=50, reg_alpha=1e-09, reg_lambda=1e-09, scale_pos_weight=1e-06, subsample=1.0, score=-0.062, total=   0.7s\n",
      "[CV] colsample_bylevel=0.44610416288631344, colsample_bytree=0.08674824792871032, gamma=1.3301788721081312e-05, learning_rate=0.09838484399483827, max_delta_step=20, max_depth=10, min_child_weight=5, n_estimators=50, reg_alpha=1e-09, reg_lambda=1e-09, scale_pos_weight=1e-06, subsample=1.0 \n",
      "[CV]  colsample_bylevel=0.44610416288631344, colsample_bytree=0.08674824792871032, gamma=1.3301788721081312e-05, learning_rate=0.09838484399483827, max_delta_step=20, max_depth=10, min_child_weight=5, n_estimators=50, reg_alpha=1e-09, reg_lambda=1e-09, scale_pos_weight=1e-06, subsample=1.0, score=0.011, total=   0.7s\n",
      "[CV] colsample_bylevel=0.44610416288631344, colsample_bytree=0.08674824792871032, gamma=1.3301788721081312e-05, learning_rate=0.09838484399483827, max_delta_step=20, max_depth=10, min_child_weight=5, n_estimators=50, reg_alpha=1e-09, reg_lambda=1e-09, scale_pos_weight=1e-06, subsample=1.0 \n",
      "[CV]  colsample_bylevel=0.44610416288631344, colsample_bytree=0.08674824792871032, gamma=1.3301788721081312e-05, learning_rate=0.09838484399483827, max_delta_step=20, max_depth=10, min_child_weight=5, n_estimators=50, reg_alpha=1e-09, reg_lambda=1e-09, scale_pos_weight=1e-06, subsample=1.0, score=0.026, total=   0.7s\n",
      "[CV] colsample_bylevel=0.024573090539173788, colsample_bytree=0.6619490158204818, gamma=0.00011323039125464093, learning_rate=0.02835856139943747, max_delta_step=18, max_depth=50, min_child_weight=3, n_estimators=178, reg_alpha=0.013589471720286682, reg_lambda=2.016075715845703e-06, scale_pos_weight=0.0002774779723831496, subsample=0.8261539094737789 \n"
     ]
    },
    {
     "name": "stdout",
     "output_type": "stream",
     "text": [
      "[CV]  colsample_bylevel=0.024573090539173788, colsample_bytree=0.6619490158204818, gamma=0.00011323039125464093, learning_rate=0.02835856139943747, max_delta_step=18, max_depth=50, min_child_weight=3, n_estimators=178, reg_alpha=0.013589471720286682, reg_lambda=2.016075715845703e-06, scale_pos_weight=0.0002774779723831496, subsample=0.8261539094737789, score=0.054, total=   2.6s\n",
      "[CV] colsample_bylevel=0.024573090539173788, colsample_bytree=0.6619490158204818, gamma=0.00011323039125464093, learning_rate=0.02835856139943747, max_delta_step=18, max_depth=50, min_child_weight=3, n_estimators=178, reg_alpha=0.013589471720286682, reg_lambda=2.016075715845703e-06, scale_pos_weight=0.0002774779723831496, subsample=0.8261539094737789 \n",
      "[CV]  colsample_bylevel=0.024573090539173788, colsample_bytree=0.6619490158204818, gamma=0.00011323039125464093, learning_rate=0.02835856139943747, max_delta_step=18, max_depth=50, min_child_weight=3, n_estimators=178, reg_alpha=0.013589471720286682, reg_lambda=2.016075715845703e-06, scale_pos_weight=0.0002774779723831496, subsample=0.8261539094737789, score=0.018, total=   2.6s\n",
      "[CV] colsample_bylevel=0.024573090539173788, colsample_bytree=0.6619490158204818, gamma=0.00011323039125464093, learning_rate=0.02835856139943747, max_delta_step=18, max_depth=50, min_child_weight=3, n_estimators=178, reg_alpha=0.013589471720286682, reg_lambda=2.016075715845703e-06, scale_pos_weight=0.0002774779723831496, subsample=0.8261539094737789 \n",
      "[CV]  colsample_bylevel=0.024573090539173788, colsample_bytree=0.6619490158204818, gamma=0.00011323039125464093, learning_rate=0.02835856139943747, max_delta_step=18, max_depth=50, min_child_weight=3, n_estimators=178, reg_alpha=0.013589471720286682, reg_lambda=2.016075715845703e-06, scale_pos_weight=0.0002774779723831496, subsample=0.8261539094737789, score=-0.025, total=   2.6s\n",
      "[CV] colsample_bylevel=0.024573090539173788, colsample_bytree=0.6619490158204818, gamma=0.00011323039125464093, learning_rate=0.02835856139943747, max_delta_step=18, max_depth=50, min_child_weight=3, n_estimators=178, reg_alpha=0.013589471720286682, reg_lambda=2.016075715845703e-06, scale_pos_weight=0.0002774779723831496, subsample=0.8261539094737789 \n",
      "[CV]  colsample_bylevel=0.024573090539173788, colsample_bytree=0.6619490158204818, gamma=0.00011323039125464093, learning_rate=0.02835856139943747, max_delta_step=18, max_depth=50, min_child_weight=3, n_estimators=178, reg_alpha=0.013589471720286682, reg_lambda=2.016075715845703e-06, scale_pos_weight=0.0002774779723831496, subsample=0.8261539094737789, score=0.048, total=   2.6s\n",
      "[CV] colsample_bylevel=0.024573090539173788, colsample_bytree=0.6619490158204818, gamma=0.00011323039125464093, learning_rate=0.02835856139943747, max_delta_step=18, max_depth=50, min_child_weight=3, n_estimators=178, reg_alpha=0.013589471720286682, reg_lambda=2.016075715845703e-06, scale_pos_weight=0.0002774779723831496, subsample=0.8261539094737789 \n",
      "[CV]  colsample_bylevel=0.024573090539173788, colsample_bytree=0.6619490158204818, gamma=0.00011323039125464093, learning_rate=0.02835856139943747, max_delta_step=18, max_depth=50, min_child_weight=3, n_estimators=178, reg_alpha=0.013589471720286682, reg_lambda=2.016075715845703e-06, scale_pos_weight=0.0002774779723831496, subsample=0.8261539094737789, score=0.032, total=   2.6s\n",
      "[CV] colsample_bylevel=0.12315391750852193, colsample_bytree=0.48828637283836834, gamma=1.8784980428703674e-06, learning_rate=0.1375238185985455, max_delta_step=7, max_depth=10, min_child_weight=1, n_estimators=63, reg_alpha=0.0036985953534469976, reg_lambda=2.0277865662234105e-09, scale_pos_weight=4.814280481194021, subsample=1.0 \n",
      "[CV]  colsample_bylevel=0.12315391750852193, colsample_bytree=0.48828637283836834, gamma=1.8784980428703674e-06, learning_rate=0.1375238185985455, max_delta_step=7, max_depth=10, min_child_weight=1, n_estimators=63, reg_alpha=0.0036985953534469976, reg_lambda=2.0277865662234105e-09, scale_pos_weight=4.814280481194021, subsample=1.0, score=-0.012, total=   1.0s\n",
      "[CV] colsample_bylevel=0.12315391750852193, colsample_bytree=0.48828637283836834, gamma=1.8784980428703674e-06, learning_rate=0.1375238185985455, max_delta_step=7, max_depth=10, min_child_weight=1, n_estimators=63, reg_alpha=0.0036985953534469976, reg_lambda=2.0277865662234105e-09, scale_pos_weight=4.814280481194021, subsample=1.0 \n",
      "[CV]  colsample_bylevel=0.12315391750852193, colsample_bytree=0.48828637283836834, gamma=1.8784980428703674e-06, learning_rate=0.1375238185985455, max_delta_step=7, max_depth=10, min_child_weight=1, n_estimators=63, reg_alpha=0.0036985953534469976, reg_lambda=2.0277865662234105e-09, scale_pos_weight=4.814280481194021, subsample=1.0, score=-0.029, total=   1.0s\n",
      "[CV] colsample_bylevel=0.12315391750852193, colsample_bytree=0.48828637283836834, gamma=1.8784980428703674e-06, learning_rate=0.1375238185985455, max_delta_step=7, max_depth=10, min_child_weight=1, n_estimators=63, reg_alpha=0.0036985953534469976, reg_lambda=2.0277865662234105e-09, scale_pos_weight=4.814280481194021, subsample=1.0 \n",
      "[CV]  colsample_bylevel=0.12315391750852193, colsample_bytree=0.48828637283836834, gamma=1.8784980428703674e-06, learning_rate=0.1375238185985455, max_delta_step=7, max_depth=10, min_child_weight=1, n_estimators=63, reg_alpha=0.0036985953534469976, reg_lambda=2.0277865662234105e-09, scale_pos_weight=4.814280481194021, subsample=1.0, score=-0.055, total=   1.0s\n",
      "[CV] colsample_bylevel=0.12315391750852193, colsample_bytree=0.48828637283836834, gamma=1.8784980428703674e-06, learning_rate=0.1375238185985455, max_delta_step=7, max_depth=10, min_child_weight=1, n_estimators=63, reg_alpha=0.0036985953534469976, reg_lambda=2.0277865662234105e-09, scale_pos_weight=4.814280481194021, subsample=1.0 \n",
      "[CV]  colsample_bylevel=0.12315391750852193, colsample_bytree=0.48828637283836834, gamma=1.8784980428703674e-06, learning_rate=0.1375238185985455, max_delta_step=7, max_depth=10, min_child_weight=1, n_estimators=63, reg_alpha=0.0036985953534469976, reg_lambda=2.0277865662234105e-09, scale_pos_weight=4.814280481194021, subsample=1.0, score=0.019, total=   1.0s\n",
      "[CV] colsample_bylevel=0.12315391750852193, colsample_bytree=0.48828637283836834, gamma=1.8784980428703674e-06, learning_rate=0.1375238185985455, max_delta_step=7, max_depth=10, min_child_weight=1, n_estimators=63, reg_alpha=0.0036985953534469976, reg_lambda=2.0277865662234105e-09, scale_pos_weight=4.814280481194021, subsample=1.0 \n",
      "[CV]  colsample_bylevel=0.12315391750852193, colsample_bytree=0.48828637283836834, gamma=1.8784980428703674e-06, learning_rate=0.1375238185985455, max_delta_step=7, max_depth=10, min_child_weight=1, n_estimators=63, reg_alpha=0.0036985953534469976, reg_lambda=2.0277865662234105e-09, scale_pos_weight=4.814280481194021, subsample=1.0, score=-0.034, total=   1.0s\n",
      "[CV] colsample_bylevel=0.01, colsample_bytree=0.3210188585581827, gamma=0.03874429039226375, learning_rate=0.14931404880014906, max_delta_step=20, max_depth=0, min_child_weight=2, n_estimators=200, reg_alpha=1.4952060119455713e-07, reg_lambda=1.084889360312138e-09, scale_pos_weight=0.01620357883624525, subsample=0.22573417855814348 \n",
      "[CV]  colsample_bylevel=0.01, colsample_bytree=0.3210188585581827, gamma=0.03874429039226375, learning_rate=0.14931404880014906, max_delta_step=20, max_depth=0, min_child_weight=2, n_estimators=200, reg_alpha=1.4952060119455713e-07, reg_lambda=1.084889360312138e-09, scale_pos_weight=0.01620357883624525, subsample=0.22573417855814348, score=-0.001, total=   1.0s\n",
      "[CV] colsample_bylevel=0.01, colsample_bytree=0.3210188585581827, gamma=0.03874429039226375, learning_rate=0.14931404880014906, max_delta_step=20, max_depth=0, min_child_weight=2, n_estimators=200, reg_alpha=1.4952060119455713e-07, reg_lambda=1.084889360312138e-09, scale_pos_weight=0.01620357883624525, subsample=0.22573417855814348 \n",
      "[CV]  colsample_bylevel=0.01, colsample_bytree=0.3210188585581827, gamma=0.03874429039226375, learning_rate=0.14931404880014906, max_delta_step=20, max_depth=0, min_child_weight=2, n_estimators=200, reg_alpha=1.4952060119455713e-07, reg_lambda=1.084889360312138e-09, scale_pos_weight=0.01620357883624525, subsample=0.22573417855814348, score=-0.021, total=   1.0s\n",
      "[CV] colsample_bylevel=0.01, colsample_bytree=0.3210188585581827, gamma=0.03874429039226375, learning_rate=0.14931404880014906, max_delta_step=20, max_depth=0, min_child_weight=2, n_estimators=200, reg_alpha=1.4952060119455713e-07, reg_lambda=1.084889360312138e-09, scale_pos_weight=0.01620357883624525, subsample=0.22573417855814348 \n"
     ]
    },
    {
     "name": "stdout",
     "output_type": "stream",
     "text": [
      "[CV]  colsample_bylevel=0.01, colsample_bytree=0.3210188585581827, gamma=0.03874429039226375, learning_rate=0.14931404880014906, max_delta_step=20, max_depth=0, min_child_weight=2, n_estimators=200, reg_alpha=1.4952060119455713e-07, reg_lambda=1.084889360312138e-09, scale_pos_weight=0.01620357883624525, subsample=0.22573417855814348, score=-0.002, total=   1.0s\n",
      "[CV] colsample_bylevel=0.01, colsample_bytree=0.3210188585581827, gamma=0.03874429039226375, learning_rate=0.14931404880014906, max_delta_step=20, max_depth=0, min_child_weight=2, n_estimators=200, reg_alpha=1.4952060119455713e-07, reg_lambda=1.084889360312138e-09, scale_pos_weight=0.01620357883624525, subsample=0.22573417855814348 \n",
      "[CV]  colsample_bylevel=0.01, colsample_bytree=0.3210188585581827, gamma=0.03874429039226375, learning_rate=0.14931404880014906, max_delta_step=20, max_depth=0, min_child_weight=2, n_estimators=200, reg_alpha=1.4952060119455713e-07, reg_lambda=1.084889360312138e-09, scale_pos_weight=0.01620357883624525, subsample=0.22573417855814348, score=-0.009, total=   1.0s\n",
      "[CV] colsample_bylevel=0.01, colsample_bytree=0.3210188585581827, gamma=0.03874429039226375, learning_rate=0.14931404880014906, max_delta_step=20, max_depth=0, min_child_weight=2, n_estimators=200, reg_alpha=1.4952060119455713e-07, reg_lambda=1.084889360312138e-09, scale_pos_weight=0.01620357883624525, subsample=0.22573417855814348 \n",
      "[CV]  colsample_bylevel=0.01, colsample_bytree=0.3210188585581827, gamma=0.03874429039226375, learning_rate=0.14931404880014906, max_delta_step=20, max_depth=0, min_child_weight=2, n_estimators=200, reg_alpha=1.4952060119455713e-07, reg_lambda=1.084889360312138e-09, scale_pos_weight=0.01620357883624525, subsample=0.22573417855814348, score=-0.010, total=   0.9s\n",
      "[CV] colsample_bylevel=0.01, colsample_bytree=0.5377399691539588, gamma=0.3021912644092151, learning_rate=0.29241288596371134, max_delta_step=20, max_depth=0, min_child_weight=5, n_estimators=200, reg_alpha=0.08298877917644898, reg_lambda=2.24733933507377e-09, scale_pos_weight=14.901477316828828, subsample=1.0 \n",
      "[CV]  colsample_bylevel=0.01, colsample_bytree=0.5377399691539588, gamma=0.3021912644092151, learning_rate=0.29241288596371134, max_delta_step=20, max_depth=0, min_child_weight=5, n_estimators=200, reg_alpha=0.08298877917644898, reg_lambda=2.24733933507377e-09, scale_pos_weight=14.901477316828828, subsample=1.0, score=-0.034, total=   1.0s\n",
      "[CV] colsample_bylevel=0.01, colsample_bytree=0.5377399691539588, gamma=0.3021912644092151, learning_rate=0.29241288596371134, max_delta_step=20, max_depth=0, min_child_weight=5, n_estimators=200, reg_alpha=0.08298877917644898, reg_lambda=2.24733933507377e-09, scale_pos_weight=14.901477316828828, subsample=1.0 \n",
      "[CV]  colsample_bylevel=0.01, colsample_bytree=0.5377399691539588, gamma=0.3021912644092151, learning_rate=0.29241288596371134, max_delta_step=20, max_depth=0, min_child_weight=5, n_estimators=200, reg_alpha=0.08298877917644898, reg_lambda=2.24733933507377e-09, scale_pos_weight=14.901477316828828, subsample=1.0, score=-0.036, total=   1.0s\n",
      "[CV] colsample_bylevel=0.01, colsample_bytree=0.5377399691539588, gamma=0.3021912644092151, learning_rate=0.29241288596371134, max_delta_step=20, max_depth=0, min_child_weight=5, n_estimators=200, reg_alpha=0.08298877917644898, reg_lambda=2.24733933507377e-09, scale_pos_weight=14.901477316828828, subsample=1.0 \n",
      "[CV]  colsample_bylevel=0.01, colsample_bytree=0.5377399691539588, gamma=0.3021912644092151, learning_rate=0.29241288596371134, max_delta_step=20, max_depth=0, min_child_weight=5, n_estimators=200, reg_alpha=0.08298877917644898, reg_lambda=2.24733933507377e-09, scale_pos_weight=14.901477316828828, subsample=1.0, score=-0.097, total=   1.0s\n",
      "[CV] colsample_bylevel=0.01, colsample_bytree=0.5377399691539588, gamma=0.3021912644092151, learning_rate=0.29241288596371134, max_delta_step=20, max_depth=0, min_child_weight=5, n_estimators=200, reg_alpha=0.08298877917644898, reg_lambda=2.24733933507377e-09, scale_pos_weight=14.901477316828828, subsample=1.0 \n",
      "[CV]  colsample_bylevel=0.01, colsample_bytree=0.5377399691539588, gamma=0.3021912644092151, learning_rate=0.29241288596371134, max_delta_step=20, max_depth=0, min_child_weight=5, n_estimators=200, reg_alpha=0.08298877917644898, reg_lambda=2.24733933507377e-09, scale_pos_weight=14.901477316828828, subsample=1.0, score=-0.036, total=   1.0s\n",
      "[CV] colsample_bylevel=0.01, colsample_bytree=0.5377399691539588, gamma=0.3021912644092151, learning_rate=0.29241288596371134, max_delta_step=20, max_depth=0, min_child_weight=5, n_estimators=200, reg_alpha=0.08298877917644898, reg_lambda=2.24733933507377e-09, scale_pos_weight=14.901477316828828, subsample=1.0 \n",
      "[CV]  colsample_bylevel=0.01, colsample_bytree=0.5377399691539588, gamma=0.3021912644092151, learning_rate=0.29241288596371134, max_delta_step=20, max_depth=0, min_child_weight=5, n_estimators=200, reg_alpha=0.08298877917644898, reg_lambda=2.24733933507377e-09, scale_pos_weight=14.901477316828828, subsample=1.0, score=-0.126, total=   0.9s\n"
     ]
    },
    {
     "name": "stderr",
     "output_type": "stream",
     "text": [
      "[Parallel(n_jobs=1)]: Done  60 out of  60 | elapsed:  1.1min finished\n"
     ]
    },
    {
     "name": "stdout",
     "output_type": "stream",
     "text": [
      "best score: 0.031038983791684283\n",
      "BEST PARAMS ARE HERE\n",
      "OrderedDict([('colsample_bylevel', 0.01), ('colsample_bytree', 0.7207373902606039), ('gamma', 0.00021376847928238917), ('learning_rate', 0.029997918350251077), ('max_delta_step', 16), ('max_depth', 50), ('min_child_weight', 3), ('n_estimators', 195), ('reg_alpha', 0.0029387220302495762), ('reg_lambda', 1.8169867940811322e-07), ('scale_pos_weight', 0.38288706128093797), ('subsample', 0.8072208403146705)])\n"
     ]
    }
   ],
   "source": [
    "#optimise XGBoost model\n",
    "\n",
    "#for predicting win\n",
    "model = param_search(x_data, y_label, 0)\n",
    "#for predicting margin\n",
    "margin_label = abs(margin_label)\n",
    "margin_model = param_search(x_data, margin_label, 1)"
   ]
  },
  {
   "cell_type": "code",
   "execution_count": 177,
   "metadata": {},
   "outputs": [],
   "source": [
    "#x = all data\n",
    "#y = label of whether home team or away team won\n",
    "#m = xgb classifier for winner prediction\n",
    "#my = labels of margins\n",
    "    #try absolute values\n",
    "#mm = xgb regressor for margin prediction\n",
    "def eval_xgb_games_margins(x, y, m, my, mm):\n",
    "    results = []\n",
    "    error = []\n",
    "    count = 0\n",
    "    best_w = m\n",
    "    high_w = 0\n",
    "    best_m = mm\n",
    "    high_m = 100\n",
    "    cv = StratifiedKFold(n_splits=10, shuffle=True)\n",
    "    print(x)\n",
    "    for train,test in cv.split(x,y):\n",
    "       # print(len(train))\n",
    "        count = count + 1\n",
    "        print(\"Split: \" + str(count))\n",
    "        #comment out fit steps for random forest i guess lol\n",
    "        prediction = m.fit(x.loc[train],y.loc[train]).predict_proba(x.loc[test])\n",
    "        margin_pred = mm.fit(x.loc[train], my.loc[train])\n",
    "        print(\"variables for auroc curve done. Processing fold accuracy + checking best model\")\n",
    "        y_pred = m.predict(x.loc[test])\n",
    "        #print(y_pred)\n",
    "        m_pred = mm.predict(x.loc[test])\n",
    "        #print(m_pred)\n",
    "        predictions = [round(value) for value in y_pred]\n",
    "        #sees how accurate the model was when testing the test set\n",
    "        accuracy = accuracy_score(y.loc[test], predictions)\n",
    "        pcent = accuracy * 100.0\n",
    "       # print(\"The accuracy of this model is\" + str(pcent))\n",
    "        rmse = sqrt(mean_squared_error(m_pred, my.loc[test]))\n",
    "       # print(\"The rmse of this model is\" + str(rmse))\n",
    "        results.append(pcent)\n",
    "        error.append(rmse)\n",
    "        #change the best model to equal current model\n",
    "        if(pcent > high_w):\n",
    "            print(\"found new best classify\")\n",
    "            best_w = m\n",
    "            high_w = pcent\n",
    "        if(rmse < high_m):\n",
    "            print(\"found best new margin\")\n",
    "            best_m = mm\n",
    "            high_m = rmse\n",
    "    print(\"Best win percentage split = \" +str(high_w))\n",
    "    print(\"Best margin rmse = \"+str(high_m))\n",
    "    print(\"Training Testing Accuracy: %.2f%% (%.2f%%)\" % (np.mean(results), np.std(results)))\n",
    "    print(\"Training Testing Margins: %.2f%% (%.2f%%)\" % (np.mean(error), np.std(error)))\n",
    "    return best_w, best_m"
   ]
  },
  {
   "cell_type": "code",
   "execution_count": 178,
   "metadata": {},
   "outputs": [],
   "source": [
    "margin_label = abs(margin_label)"
   ]
  },
  {
   "cell_type": "code",
   "execution_count": 179,
   "metadata": {},
   "outputs": [
    {
     "name": "stdout",
     "output_type": "stream",
     "text": [
      "      H_H/A? n-1  H_H/A Win? n-1  H_Points For n-1  H_Points Against n-1  \\\n",
      "0            1.0             0.0              51.0                 108.0   \n",
      "1            1.0             0.0              68.0                 115.0   \n",
      "2            0.0             0.0             148.0                  87.0   \n",
      "3            1.0             1.0             111.0                  49.0   \n",
      "4            1.0             1.0             116.0                  51.0   \n",
      "...          ...             ...               ...                   ...   \n",
      "2119         1.0             0.0              43.0                  86.0   \n",
      "2120         1.0             0.0              60.0                  93.0   \n",
      "2121         0.0             0.0              93.0                  60.0   \n",
      "2122         0.0             0.0              86.0                  43.0   \n",
      "2123         0.0             0.0             125.0                  42.0   \n",
      "\n",
      "      H_Margin n-1  H_Team Won? (1=W, 0=L) n-1  H_Kicks n-1  H_Handballs n-1  \\\n",
      "0            -57.0                         0.0        203.0            155.0   \n",
      "1            -47.0                         0.0        173.0            133.0   \n",
      "2             61.0                         1.0        228.0            157.0   \n",
      "3             62.0                         1.0        256.0            178.0   \n",
      "4             65.0                         1.0        262.0            146.0   \n",
      "...            ...                         ...          ...              ...   \n",
      "2119         -43.0                         0.0        193.0            122.0   \n",
      "2120         -33.0                         0.0        212.0            129.0   \n",
      "2121          33.0                         1.0        228.0            144.0   \n",
      "2122          43.0                         1.0        231.0            148.0   \n",
      "2123          83.0                         1.0        227.0            147.0   \n",
      "\n",
      "      H_Disposals n-1  H_Kick to HB Ratio n-1  ...  \\\n",
      "0               358.0                    1.31  ...   \n",
      "1               306.0                    1.30  ...   \n",
      "2               385.0                    1.45  ...   \n",
      "3               434.0                    1.44  ...   \n",
      "4               408.0                    1.79  ...   \n",
      "...               ...                     ...  ...   \n",
      "2119            315.0                    1.58  ...   \n",
      "2120            341.0                    1.64  ...   \n",
      "2121            372.0                    1.58  ...   \n",
      "2122            379.0                    1.56  ...   \n",
      "2123            374.0                    1.54  ...   \n",
      "\n",
      "      A_Team_against_ID n-10_9.0  A_Team_against_ID n-10_10.0  \\\n",
      "0                            0.0                          0.0   \n",
      "1                            0.0                          0.0   \n",
      "2                            0.0                          0.0   \n",
      "3                            0.0                          0.0   \n",
      "4                            0.0                          0.0   \n",
      "...                          ...                          ...   \n",
      "2119                         0.0                          1.0   \n",
      "2120                         0.0                          0.0   \n",
      "2121                         0.0                          0.0   \n",
      "2122                         0.0                          0.0   \n",
      "2123                         0.0                          0.0   \n",
      "\n",
      "      A_Team_against_ID n-10_11.0  A_Team_against_ID n-10_12.0  \\\n",
      "0                             0.0                          0.0   \n",
      "1                             0.0                          1.0   \n",
      "2                             0.0                          0.0   \n",
      "3                             0.0                          0.0   \n",
      "4                             0.0                          0.0   \n",
      "...                           ...                          ...   \n",
      "2119                          0.0                          0.0   \n",
      "2120                          0.0                          0.0   \n",
      "2121                          0.0                          0.0   \n",
      "2122                          0.0                          1.0   \n",
      "2123                          0.0                          0.0   \n",
      "\n",
      "      A_Team_against_ID n-10_13.0  A_Team_against_ID n-10_14.0  \\\n",
      "0                             0.0                          0.0   \n",
      "1                             0.0                          0.0   \n",
      "2                             0.0                          0.0   \n",
      "3                             0.0                          0.0   \n",
      "4                             0.0                          0.0   \n",
      "...                           ...                          ...   \n",
      "2119                          0.0                          0.0   \n",
      "2120                          0.0                          0.0   \n",
      "2121                          0.0                          0.0   \n",
      "2122                          0.0                          0.0   \n",
      "2123                          0.0                          0.0   \n",
      "\n",
      "      A_Team_against_ID n-10_15.0  A_Team_against_ID n-10_16.0  \\\n",
      "0                             0.0                          0.0   \n",
      "1                             0.0                          0.0   \n",
      "2                             0.0                          0.0   \n",
      "3                             0.0                          0.0   \n",
      "4                             0.0                          0.0   \n",
      "...                           ...                          ...   \n",
      "2119                          0.0                          0.0   \n",
      "2120                          0.0                          0.0   \n",
      "2121                          0.0                          0.0   \n",
      "2122                          0.0                          0.0   \n",
      "2123                          0.0                          1.0   \n",
      "\n",
      "      A_Team_against_ID n-10_17.0  A_Team_against_ID n-10_18.0  \n",
      "0                             0.0                          0.0  \n",
      "1                             0.0                          0.0  \n",
      "2                             0.0                          0.0  \n",
      "3                             0.0                          0.0  \n",
      "4                             0.0                          0.0  \n",
      "...                           ...                          ...  \n",
      "2119                          0.0                          0.0  \n",
      "2120                          1.0                          0.0  \n",
      "2121                          0.0                          0.0  \n",
      "2122                          0.0                          0.0  \n",
      "2123                          0.0                          0.0  \n",
      "\n",
      "[2124 rows x 2784 columns]\n",
      "Split: 1\n"
     ]
    },
    {
     "name": "stderr",
     "output_type": "stream",
     "text": [
      "/home/chris/anaconda3/lib/python3.8/site-packages/sklearn/preprocessing/_label.py:235: DataConversionWarning: A column-vector y was passed when a 1d array was expected. Please change the shape of y to (n_samples, ), for example using ravel().\n",
      "  y = column_or_1d(y, warn=True)\n",
      "/home/chris/anaconda3/lib/python3.8/site-packages/sklearn/preprocessing/_label.py:268: DataConversionWarning: A column-vector y was passed when a 1d array was expected. Please change the shape of y to (n_samples, ), for example using ravel().\n",
      "  y = column_or_1d(y, warn=True)\n"
     ]
    },
    {
     "name": "stdout",
     "output_type": "stream",
     "text": [
      "variables for auroc curve done. Processing fold accuracy + checking best model\n",
      "found new best classify\n",
      "found best new margin\n",
      "Split: 2\n"
     ]
    },
    {
     "name": "stderr",
     "output_type": "stream",
     "text": [
      "/home/chris/anaconda3/lib/python3.8/site-packages/sklearn/preprocessing/_label.py:235: DataConversionWarning: A column-vector y was passed when a 1d array was expected. Please change the shape of y to (n_samples, ), for example using ravel().\n",
      "  y = column_or_1d(y, warn=True)\n",
      "/home/chris/anaconda3/lib/python3.8/site-packages/sklearn/preprocessing/_label.py:268: DataConversionWarning: A column-vector y was passed when a 1d array was expected. Please change the shape of y to (n_samples, ), for example using ravel().\n",
      "  y = column_or_1d(y, warn=True)\n"
     ]
    },
    {
     "name": "stdout",
     "output_type": "stream",
     "text": [
      "variables for auroc curve done. Processing fold accuracy + checking best model\n",
      "Split: 3\n"
     ]
    },
    {
     "name": "stderr",
     "output_type": "stream",
     "text": [
      "/home/chris/anaconda3/lib/python3.8/site-packages/sklearn/preprocessing/_label.py:235: DataConversionWarning: A column-vector y was passed when a 1d array was expected. Please change the shape of y to (n_samples, ), for example using ravel().\n",
      "  y = column_or_1d(y, warn=True)\n",
      "/home/chris/anaconda3/lib/python3.8/site-packages/sklearn/preprocessing/_label.py:268: DataConversionWarning: A column-vector y was passed when a 1d array was expected. Please change the shape of y to (n_samples, ), for example using ravel().\n",
      "  y = column_or_1d(y, warn=True)\n"
     ]
    },
    {
     "name": "stdout",
     "output_type": "stream",
     "text": [
      "variables for auroc curve done. Processing fold accuracy + checking best model\n",
      "Split: 4\n"
     ]
    },
    {
     "name": "stderr",
     "output_type": "stream",
     "text": [
      "/home/chris/anaconda3/lib/python3.8/site-packages/sklearn/preprocessing/_label.py:235: DataConversionWarning: A column-vector y was passed when a 1d array was expected. Please change the shape of y to (n_samples, ), for example using ravel().\n",
      "  y = column_or_1d(y, warn=True)\n",
      "/home/chris/anaconda3/lib/python3.8/site-packages/sklearn/preprocessing/_label.py:268: DataConversionWarning: A column-vector y was passed when a 1d array was expected. Please change the shape of y to (n_samples, ), for example using ravel().\n",
      "  y = column_or_1d(y, warn=True)\n"
     ]
    },
    {
     "name": "stdout",
     "output_type": "stream",
     "text": [
      "variables for auroc curve done. Processing fold accuracy + checking best model\n",
      "found new best classify\n",
      "Split: 5\n"
     ]
    },
    {
     "name": "stderr",
     "output_type": "stream",
     "text": [
      "/home/chris/anaconda3/lib/python3.8/site-packages/sklearn/preprocessing/_label.py:235: DataConversionWarning: A column-vector y was passed when a 1d array was expected. Please change the shape of y to (n_samples, ), for example using ravel().\n",
      "  y = column_or_1d(y, warn=True)\n",
      "/home/chris/anaconda3/lib/python3.8/site-packages/sklearn/preprocessing/_label.py:268: DataConversionWarning: A column-vector y was passed when a 1d array was expected. Please change the shape of y to (n_samples, ), for example using ravel().\n",
      "  y = column_or_1d(y, warn=True)\n"
     ]
    },
    {
     "name": "stdout",
     "output_type": "stream",
     "text": [
      "variables for auroc curve done. Processing fold accuracy + checking best model\n",
      "Split: 6\n"
     ]
    },
    {
     "name": "stderr",
     "output_type": "stream",
     "text": [
      "/home/chris/anaconda3/lib/python3.8/site-packages/sklearn/preprocessing/_label.py:235: DataConversionWarning: A column-vector y was passed when a 1d array was expected. Please change the shape of y to (n_samples, ), for example using ravel().\n",
      "  y = column_or_1d(y, warn=True)\n",
      "/home/chris/anaconda3/lib/python3.8/site-packages/sklearn/preprocessing/_label.py:268: DataConversionWarning: A column-vector y was passed when a 1d array was expected. Please change the shape of y to (n_samples, ), for example using ravel().\n",
      "  y = column_or_1d(y, warn=True)\n"
     ]
    },
    {
     "name": "stdout",
     "output_type": "stream",
     "text": [
      "variables for auroc curve done. Processing fold accuracy + checking best model\n",
      "Split: 7\n"
     ]
    },
    {
     "name": "stderr",
     "output_type": "stream",
     "text": [
      "/home/chris/anaconda3/lib/python3.8/site-packages/sklearn/preprocessing/_label.py:235: DataConversionWarning: A column-vector y was passed when a 1d array was expected. Please change the shape of y to (n_samples, ), for example using ravel().\n",
      "  y = column_or_1d(y, warn=True)\n",
      "/home/chris/anaconda3/lib/python3.8/site-packages/sklearn/preprocessing/_label.py:268: DataConversionWarning: A column-vector y was passed when a 1d array was expected. Please change the shape of y to (n_samples, ), for example using ravel().\n",
      "  y = column_or_1d(y, warn=True)\n"
     ]
    },
    {
     "name": "stdout",
     "output_type": "stream",
     "text": [
      "variables for auroc curve done. Processing fold accuracy + checking best model\n",
      "Split: 8\n"
     ]
    },
    {
     "name": "stderr",
     "output_type": "stream",
     "text": [
      "/home/chris/anaconda3/lib/python3.8/site-packages/sklearn/preprocessing/_label.py:235: DataConversionWarning: A column-vector y was passed when a 1d array was expected. Please change the shape of y to (n_samples, ), for example using ravel().\n",
      "  y = column_or_1d(y, warn=True)\n",
      "/home/chris/anaconda3/lib/python3.8/site-packages/sklearn/preprocessing/_label.py:268: DataConversionWarning: A column-vector y was passed when a 1d array was expected. Please change the shape of y to (n_samples, ), for example using ravel().\n",
      "  y = column_or_1d(y, warn=True)\n"
     ]
    },
    {
     "name": "stdout",
     "output_type": "stream",
     "text": [
      "variables for auroc curve done. Processing fold accuracy + checking best model\n",
      "Split: 9\n"
     ]
    },
    {
     "name": "stderr",
     "output_type": "stream",
     "text": [
      "/home/chris/anaconda3/lib/python3.8/site-packages/sklearn/preprocessing/_label.py:235: DataConversionWarning: A column-vector y was passed when a 1d array was expected. Please change the shape of y to (n_samples, ), for example using ravel().\n",
      "  y = column_or_1d(y, warn=True)\n",
      "/home/chris/anaconda3/lib/python3.8/site-packages/sklearn/preprocessing/_label.py:268: DataConversionWarning: A column-vector y was passed when a 1d array was expected. Please change the shape of y to (n_samples, ), for example using ravel().\n",
      "  y = column_or_1d(y, warn=True)\n"
     ]
    },
    {
     "name": "stdout",
     "output_type": "stream",
     "text": [
      "variables for auroc curve done. Processing fold accuracy + checking best model\n",
      "Split: 10\n"
     ]
    },
    {
     "name": "stderr",
     "output_type": "stream",
     "text": [
      "/home/chris/anaconda3/lib/python3.8/site-packages/sklearn/preprocessing/_label.py:235: DataConversionWarning: A column-vector y was passed when a 1d array was expected. Please change the shape of y to (n_samples, ), for example using ravel().\n",
      "  y = column_or_1d(y, warn=True)\n",
      "/home/chris/anaconda3/lib/python3.8/site-packages/sklearn/preprocessing/_label.py:268: DataConversionWarning: A column-vector y was passed when a 1d array was expected. Please change the shape of y to (n_samples, ), for example using ravel().\n",
      "  y = column_or_1d(y, warn=True)\n"
     ]
    },
    {
     "name": "stdout",
     "output_type": "stream",
     "text": [
      "variables for auroc curve done. Processing fold accuracy + checking best model\n",
      "Best win percentage split = 69.48356807511738\n",
      "Best margin rmse = 25.138329357326004\n",
      "Training Testing Accuracy: 65.63% (2.02%)\n",
      "Training Testing Margins: 26.58% (1.13%)\n"
     ]
    }
   ],
   "source": [
    "best_xgb_clas, best_xgb_reg = eval_xgb_games_margins(x_data, y_label, model, margin_label, margin_model)"
   ]
  },
  {
   "cell_type": "code",
   "execution_count": 180,
   "metadata": {},
   "outputs": [],
   "source": [
    "#save\n",
    "best_xgb_clas.save_model(\"Models/best_xgb_clas_\"+str(n_games)+'_games.bin')\n",
    "best_xgb_reg.save_model(\"Models/best_xgb_reg_\"+str(n_games)+'_games.bin')"
   ]
  },
  {
   "cell_type": "code",
   "execution_count": null,
   "metadata": {},
   "outputs": [],
   "source": [
    "# To do if you can be fked\n",
    "#as one big script to go through n_games\n",
    "n_games = [1,3,5,10]\n",
    "for n in n_games:\n",
    "    #### stuff"
   ]
  },
  {
   "cell_type": "markdown",
   "metadata": {},
   "source": [
    "# Other Shit Model Testing"
   ]
  },
  {
   "cell_type": "code",
   "execution_count": 27,
   "metadata": {},
   "outputs": [],
   "source": [
    "from sklearn.ensemble import *\n",
    "\n",
    "#random forest models\n",
    "#rf_model = RandomForestClassifier(max_depth=2, random_state=0)\n",
    "rf_margin_model = RandomForestRegressor(max_depth=2, random_state=0)\n",
    "\n",
    "#SVM\n",
    "from sklearn.svm import SVC\n",
    "from sklearn.svm import SVR\n",
    "svm_model = SVC(gamma='auto', probability=True)\n",
    "svm_margin_model = SVR(kernel = 'rbf')\n",
    "\n",
    "#BNB\n",
    "from sklearn.naive_bayes import BernoulliNB\n",
    "bnb_model = BernoulliNB()"
   ]
  },
  {
   "cell_type": "code",
   "execution_count": 23,
   "metadata": {},
   "outputs": [
    {
     "name": "stdout",
     "output_type": "stream",
     "text": [
      "Fitting 10 folds for each of 100 candidates, totalling 1000 fits\n"
     ]
    },
    {
     "name": "stderr",
     "output_type": "stream",
     "text": [
      "[Parallel(n_jobs=-1)]: Using backend LokyBackend with 8 concurrent workers.\n",
      "[Parallel(n_jobs=-1)]: Done  25 tasks      | elapsed:  3.2min\n",
      "[Parallel(n_jobs=-1)]: Done 146 tasks      | elapsed: 20.9min\n",
      "[Parallel(n_jobs=-1)]: Done 349 tasks      | elapsed: 50.4min\n",
      "[Parallel(n_jobs=-1)]: Done 632 tasks      | elapsed: 81.5min\n",
      "[Parallel(n_jobs=-1)]: Done 1000 out of 1000 | elapsed: 124.1min finished\n"
     ]
    },
    {
     "name": "stdout",
     "output_type": "stream",
     "text": [
      "Fitting 10 folds for each of 100 candidates, totalling 1000 fits\n"
     ]
    },
    {
     "name": "stderr",
     "output_type": "stream",
     "text": [
      "[Parallel(n_jobs=-1)]: Using backend LokyBackend with 8 concurrent workers.\n",
      "[Parallel(n_jobs=-1)]: Done  25 tasks      | elapsed:  3.0min\n",
      "ERROR:root:Internal Python error in the inspect module.\n",
      "Below is the traceback from this internal error.\n",
      "\n"
     ]
    },
    {
     "name": "stdout",
     "output_type": "stream",
     "text": [
      "Traceback (most recent call last):\n",
      "  File \"/home/chris/anaconda3/lib/python3.8/site-packages/IPython/core/interactiveshell.py\", line 3418, in run_code\n",
      "    exec(code_obj, self.user_global_ns, self.user_ns)\n",
      "  File \"<ipython-input-23-192914c5fafe>\", line 31, in <module>\n",
      "    rf_margin_model.fit(x_data, margin_label)\n",
      "  File \"/home/chris/anaconda3/lib/python3.8/site-packages/sklearn/model_selection/_search.py\", line 710, in fit\n",
      "    self._run_search(evaluate_candidates)\n",
      "  File \"/home/chris/anaconda3/lib/python3.8/site-packages/sklearn/model_selection/_search.py\", line 1482, in _run_search\n",
      "    evaluate_candidates(ParameterSampler(\n",
      "  File \"/home/chris/anaconda3/lib/python3.8/site-packages/sklearn/model_selection/_search.py\", line 682, in evaluate_candidates\n",
      "    out = parallel(delayed(_fit_and_score)(clone(base_estimator),\n",
      "  File \"/home/chris/anaconda3/lib/python3.8/site-packages/joblib/parallel.py\", line 1054, in __call__\n",
      "    self.retrieve()\n",
      "  File \"/home/chris/anaconda3/lib/python3.8/site-packages/joblib/parallel.py\", line 933, in retrieve\n",
      "    self._output.extend(job.get(timeout=self.timeout))\n",
      "  File \"/home/chris/anaconda3/lib/python3.8/site-packages/joblib/_parallel_backends.py\", line 542, in wrap_future_result\n",
      "    return future.result(timeout=timeout)\n",
      "  File \"/home/chris/anaconda3/lib/python3.8/concurrent/futures/_base.py\", line 434, in result\n",
      "    self._condition.wait(timeout)\n",
      "  File \"/home/chris/anaconda3/lib/python3.8/threading.py\", line 302, in wait\n",
      "    waiter.acquire()\n",
      "KeyboardInterrupt\n",
      "\n",
      "During handling of the above exception, another exception occurred:\n",
      "\n",
      "Traceback (most recent call last):\n",
      "  File \"/home/chris/anaconda3/lib/python3.8/site-packages/IPython/core/interactiveshell.py\", line 2045, in showtraceback\n",
      "    stb = value._render_traceback_()\n",
      "AttributeError: 'KeyboardInterrupt' object has no attribute '_render_traceback_'\n",
      "\n",
      "During handling of the above exception, another exception occurred:\n",
      "\n",
      "Traceback (most recent call last):\n",
      "  File \"/home/chris/anaconda3/lib/python3.8/site-packages/IPython/core/ultratb.py\", line 1170, in get_records\n",
      "    return _fixed_getinnerframes(etb, number_of_lines_of_context, tb_offset)\n",
      "  File \"/home/chris/anaconda3/lib/python3.8/site-packages/IPython/core/ultratb.py\", line 316, in wrapped\n",
      "    return f(*args, **kwargs)\n",
      "  File \"/home/chris/anaconda3/lib/python3.8/site-packages/IPython/core/ultratb.py\", line 350, in _fixed_getinnerframes\n",
      "    records = fix_frame_records_filenames(inspect.getinnerframes(etb, context))\n",
      "  File \"/home/chris/anaconda3/lib/python3.8/inspect.py\", line 1503, in getinnerframes\n",
      "    frameinfo = (tb.tb_frame,) + getframeinfo(tb, context)\n",
      "  File \"/home/chris/anaconda3/lib/python3.8/inspect.py\", line 1461, in getframeinfo\n",
      "    filename = getsourcefile(frame) or getfile(frame)\n",
      "  File \"/home/chris/anaconda3/lib/python3.8/inspect.py\", line 708, in getsourcefile\n",
      "    if getattr(getmodule(object, filename), '__loader__', None) is not None:\n",
      "  File \"/home/chris/anaconda3/lib/python3.8/inspect.py\", line 744, in getmodule\n",
      "    for modname, module in sys.modules.copy().items():\n",
      "KeyboardInterrupt\n"
     ]
    },
    {
     "ename": "TypeError",
     "evalue": "object of type 'NoneType' has no len()",
     "output_type": "error",
     "traceback": [
      "\u001b[0;31m---------------------------------------------------------------------------\u001b[0m",
      "\u001b[0;31mKeyboardInterrupt\u001b[0m                         Traceback (most recent call last)",
      "    \u001b[0;31m[... skipping hidden 1 frame]\u001b[0m\n",
      "\u001b[0;32m<ipython-input-23-192914c5fafe>\u001b[0m in \u001b[0;36m<module>\u001b[0;34m\u001b[0m\n\u001b[1;32m     30\u001b[0m \u001b[0;31m# Fit the random search model\u001b[0m\u001b[0;34m\u001b[0m\u001b[0;34m\u001b[0m\u001b[0;34m\u001b[0m\u001b[0m\n\u001b[0;32m---> 31\u001b[0;31m \u001b[0mrf_margin_model\u001b[0m\u001b[0;34m.\u001b[0m\u001b[0mfit\u001b[0m\u001b[0;34m(\u001b[0m\u001b[0mx_data\u001b[0m\u001b[0;34m,\u001b[0m \u001b[0mmargin_label\u001b[0m\u001b[0;34m)\u001b[0m\u001b[0;34m\u001b[0m\u001b[0;34m\u001b[0m\u001b[0m\n\u001b[0m",
      "\u001b[0;32m~/anaconda3/lib/python3.8/site-packages/sklearn/model_selection/_search.py\u001b[0m in \u001b[0;36mfit\u001b[0;34m(self, X, y, groups, **fit_params)\u001b[0m\n\u001b[1;32m    709\u001b[0m \u001b[0;34m\u001b[0m\u001b[0m\n\u001b[0;32m--> 710\u001b[0;31m             \u001b[0mself\u001b[0m\u001b[0;34m.\u001b[0m\u001b[0m_run_search\u001b[0m\u001b[0;34m(\u001b[0m\u001b[0mevaluate_candidates\u001b[0m\u001b[0;34m)\u001b[0m\u001b[0;34m\u001b[0m\u001b[0;34m\u001b[0m\u001b[0m\n\u001b[0m\u001b[1;32m    711\u001b[0m \u001b[0;34m\u001b[0m\u001b[0m\n",
      "\u001b[0;32m~/anaconda3/lib/python3.8/site-packages/sklearn/model_selection/_search.py\u001b[0m in \u001b[0;36m_run_search\u001b[0;34m(self, evaluate_candidates)\u001b[0m\n\u001b[1;32m   1481\u001b[0m         \u001b[0;34m\"\"\"Search n_iter candidates from param_distributions\"\"\"\u001b[0m\u001b[0;34m\u001b[0m\u001b[0;34m\u001b[0m\u001b[0m\n\u001b[0;32m-> 1482\u001b[0;31m         evaluate_candidates(ParameterSampler(\n\u001b[0m\u001b[1;32m   1483\u001b[0m             \u001b[0mself\u001b[0m\u001b[0;34m.\u001b[0m\u001b[0mparam_distributions\u001b[0m\u001b[0;34m,\u001b[0m \u001b[0mself\u001b[0m\u001b[0;34m.\u001b[0m\u001b[0mn_iter\u001b[0m\u001b[0;34m,\u001b[0m\u001b[0;34m\u001b[0m\u001b[0;34m\u001b[0m\u001b[0m\n",
      "\u001b[0;32m~/anaconda3/lib/python3.8/site-packages/sklearn/model_selection/_search.py\u001b[0m in \u001b[0;36mevaluate_candidates\u001b[0;34m(candidate_params)\u001b[0m\n\u001b[1;32m    681\u001b[0m \u001b[0;34m\u001b[0m\u001b[0m\n\u001b[0;32m--> 682\u001b[0;31m                 out = parallel(delayed(_fit_and_score)(clone(base_estimator),\n\u001b[0m\u001b[1;32m    683\u001b[0m                                                        \u001b[0mX\u001b[0m\u001b[0;34m,\u001b[0m \u001b[0my\u001b[0m\u001b[0;34m,\u001b[0m\u001b[0;34m\u001b[0m\u001b[0;34m\u001b[0m\u001b[0m\n",
      "\u001b[0;32m~/anaconda3/lib/python3.8/site-packages/joblib/parallel.py\u001b[0m in \u001b[0;36m__call__\u001b[0;34m(self, iterable)\u001b[0m\n\u001b[1;32m   1053\u001b[0m             \u001b[0;32mwith\u001b[0m \u001b[0mself\u001b[0m\u001b[0;34m.\u001b[0m\u001b[0m_backend\u001b[0m\u001b[0;34m.\u001b[0m\u001b[0mretrieval_context\u001b[0m\u001b[0;34m(\u001b[0m\u001b[0;34m)\u001b[0m\u001b[0;34m:\u001b[0m\u001b[0;34m\u001b[0m\u001b[0;34m\u001b[0m\u001b[0m\n\u001b[0;32m-> 1054\u001b[0;31m                 \u001b[0mself\u001b[0m\u001b[0;34m.\u001b[0m\u001b[0mretrieve\u001b[0m\u001b[0;34m(\u001b[0m\u001b[0;34m)\u001b[0m\u001b[0;34m\u001b[0m\u001b[0;34m\u001b[0m\u001b[0m\n\u001b[0m\u001b[1;32m   1055\u001b[0m             \u001b[0;31m# Make sure that we get a last message telling us we are done\u001b[0m\u001b[0;34m\u001b[0m\u001b[0;34m\u001b[0m\u001b[0;34m\u001b[0m\u001b[0m\n",
      "\u001b[0;32m~/anaconda3/lib/python3.8/site-packages/joblib/parallel.py\u001b[0m in \u001b[0;36mretrieve\u001b[0;34m(self)\u001b[0m\n\u001b[1;32m    932\u001b[0m                 \u001b[0;32mif\u001b[0m \u001b[0mgetattr\u001b[0m\u001b[0;34m(\u001b[0m\u001b[0mself\u001b[0m\u001b[0;34m.\u001b[0m\u001b[0m_backend\u001b[0m\u001b[0;34m,\u001b[0m \u001b[0;34m'supports_timeout'\u001b[0m\u001b[0;34m,\u001b[0m \u001b[0;32mFalse\u001b[0m\u001b[0;34m)\u001b[0m\u001b[0;34m:\u001b[0m\u001b[0;34m\u001b[0m\u001b[0;34m\u001b[0m\u001b[0m\n\u001b[0;32m--> 933\u001b[0;31m                     \u001b[0mself\u001b[0m\u001b[0;34m.\u001b[0m\u001b[0m_output\u001b[0m\u001b[0;34m.\u001b[0m\u001b[0mextend\u001b[0m\u001b[0;34m(\u001b[0m\u001b[0mjob\u001b[0m\u001b[0;34m.\u001b[0m\u001b[0mget\u001b[0m\u001b[0;34m(\u001b[0m\u001b[0mtimeout\u001b[0m\u001b[0;34m=\u001b[0m\u001b[0mself\u001b[0m\u001b[0;34m.\u001b[0m\u001b[0mtimeout\u001b[0m\u001b[0;34m)\u001b[0m\u001b[0;34m)\u001b[0m\u001b[0;34m\u001b[0m\u001b[0;34m\u001b[0m\u001b[0m\n\u001b[0m\u001b[1;32m    934\u001b[0m                 \u001b[0;32melse\u001b[0m\u001b[0;34m:\u001b[0m\u001b[0;34m\u001b[0m\u001b[0;34m\u001b[0m\u001b[0m\n",
      "\u001b[0;32m~/anaconda3/lib/python3.8/site-packages/joblib/_parallel_backends.py\u001b[0m in \u001b[0;36mwrap_future_result\u001b[0;34m(future, timeout)\u001b[0m\n\u001b[1;32m    541\u001b[0m         \u001b[0;32mtry\u001b[0m\u001b[0;34m:\u001b[0m\u001b[0;34m\u001b[0m\u001b[0;34m\u001b[0m\u001b[0m\n\u001b[0;32m--> 542\u001b[0;31m             \u001b[0;32mreturn\u001b[0m \u001b[0mfuture\u001b[0m\u001b[0;34m.\u001b[0m\u001b[0mresult\u001b[0m\u001b[0;34m(\u001b[0m\u001b[0mtimeout\u001b[0m\u001b[0;34m=\u001b[0m\u001b[0mtimeout\u001b[0m\u001b[0;34m)\u001b[0m\u001b[0;34m\u001b[0m\u001b[0;34m\u001b[0m\u001b[0m\n\u001b[0m\u001b[1;32m    543\u001b[0m         \u001b[0;32mexcept\u001b[0m \u001b[0mCfTimeoutError\u001b[0m \u001b[0;32mas\u001b[0m \u001b[0me\u001b[0m\u001b[0;34m:\u001b[0m\u001b[0;34m\u001b[0m\u001b[0;34m\u001b[0m\u001b[0m\n",
      "\u001b[0;32m~/anaconda3/lib/python3.8/concurrent/futures/_base.py\u001b[0m in \u001b[0;36mresult\u001b[0;34m(self, timeout)\u001b[0m\n\u001b[1;32m    433\u001b[0m \u001b[0;34m\u001b[0m\u001b[0m\n\u001b[0;32m--> 434\u001b[0;31m             \u001b[0mself\u001b[0m\u001b[0;34m.\u001b[0m\u001b[0m_condition\u001b[0m\u001b[0;34m.\u001b[0m\u001b[0mwait\u001b[0m\u001b[0;34m(\u001b[0m\u001b[0mtimeout\u001b[0m\u001b[0;34m)\u001b[0m\u001b[0;34m\u001b[0m\u001b[0;34m\u001b[0m\u001b[0m\n\u001b[0m\u001b[1;32m    435\u001b[0m \u001b[0;34m\u001b[0m\u001b[0m\n",
      "\u001b[0;32m~/anaconda3/lib/python3.8/threading.py\u001b[0m in \u001b[0;36mwait\u001b[0;34m(self, timeout)\u001b[0m\n\u001b[1;32m    301\u001b[0m             \u001b[0;32mif\u001b[0m \u001b[0mtimeout\u001b[0m \u001b[0;32mis\u001b[0m \u001b[0;32mNone\u001b[0m\u001b[0;34m:\u001b[0m\u001b[0;34m\u001b[0m\u001b[0;34m\u001b[0m\u001b[0m\n\u001b[0;32m--> 302\u001b[0;31m                 \u001b[0mwaiter\u001b[0m\u001b[0;34m.\u001b[0m\u001b[0macquire\u001b[0m\u001b[0;34m(\u001b[0m\u001b[0;34m)\u001b[0m\u001b[0;34m\u001b[0m\u001b[0;34m\u001b[0m\u001b[0m\n\u001b[0m\u001b[1;32m    303\u001b[0m                 \u001b[0mgotit\u001b[0m \u001b[0;34m=\u001b[0m \u001b[0;32mTrue\u001b[0m\u001b[0;34m\u001b[0m\u001b[0;34m\u001b[0m\u001b[0m\n",
      "\u001b[0;31mKeyboardInterrupt\u001b[0m: ",
      "\nDuring handling of the above exception, another exception occurred:\n",
      "\u001b[0;31mAttributeError\u001b[0m                            Traceback (most recent call last)",
      "\u001b[0;32m~/anaconda3/lib/python3.8/site-packages/IPython/core/interactiveshell.py\u001b[0m in \u001b[0;36mshowtraceback\u001b[0;34m(self, exc_tuple, filename, tb_offset, exception_only, running_compiled_code)\u001b[0m\n\u001b[1;32m   2044\u001b[0m                         \u001b[0;31m# in the engines. This should return a list of strings.\u001b[0m\u001b[0;34m\u001b[0m\u001b[0;34m\u001b[0m\u001b[0;34m\u001b[0m\u001b[0m\n\u001b[0;32m-> 2045\u001b[0;31m                         \u001b[0mstb\u001b[0m \u001b[0;34m=\u001b[0m \u001b[0mvalue\u001b[0m\u001b[0;34m.\u001b[0m\u001b[0m_render_traceback_\u001b[0m\u001b[0;34m(\u001b[0m\u001b[0;34m)\u001b[0m\u001b[0;34m\u001b[0m\u001b[0;34m\u001b[0m\u001b[0m\n\u001b[0m\u001b[1;32m   2046\u001b[0m                     \u001b[0;32mexcept\u001b[0m \u001b[0mException\u001b[0m\u001b[0;34m:\u001b[0m\u001b[0;34m\u001b[0m\u001b[0;34m\u001b[0m\u001b[0m\n",
      "\u001b[0;31mAttributeError\u001b[0m: 'KeyboardInterrupt' object has no attribute '_render_traceback_'",
      "\nDuring handling of the above exception, another exception occurred:\n",
      "\u001b[0;31mTypeError\u001b[0m                                 Traceback (most recent call last)",
      "    \u001b[0;31m[... skipping hidden 1 frame]\u001b[0m\n",
      "\u001b[0;32m~/anaconda3/lib/python3.8/site-packages/IPython/core/interactiveshell.py\u001b[0m in \u001b[0;36mshowtraceback\u001b[0;34m(self, exc_tuple, filename, tb_offset, exception_only, running_compiled_code)\u001b[0m\n\u001b[1;32m   2045\u001b[0m                         \u001b[0mstb\u001b[0m \u001b[0;34m=\u001b[0m \u001b[0mvalue\u001b[0m\u001b[0;34m.\u001b[0m\u001b[0m_render_traceback_\u001b[0m\u001b[0;34m(\u001b[0m\u001b[0;34m)\u001b[0m\u001b[0;34m\u001b[0m\u001b[0;34m\u001b[0m\u001b[0m\n\u001b[1;32m   2046\u001b[0m                     \u001b[0;32mexcept\u001b[0m \u001b[0mException\u001b[0m\u001b[0;34m:\u001b[0m\u001b[0;34m\u001b[0m\u001b[0;34m\u001b[0m\u001b[0m\n\u001b[0;32m-> 2047\u001b[0;31m                         stb = self.InteractiveTB.structured_traceback(etype,\n\u001b[0m\u001b[1;32m   2048\u001b[0m                                             value, tb, tb_offset=tb_offset)\n\u001b[1;32m   2049\u001b[0m \u001b[0;34m\u001b[0m\u001b[0m\n",
      "\u001b[0;32m~/anaconda3/lib/python3.8/site-packages/IPython/core/ultratb.py\u001b[0m in \u001b[0;36mstructured_traceback\u001b[0;34m(self, etype, value, tb, tb_offset, number_of_lines_of_context)\u001b[0m\n\u001b[1;32m   1434\u001b[0m         \u001b[0;32melse\u001b[0m\u001b[0;34m:\u001b[0m\u001b[0;34m\u001b[0m\u001b[0;34m\u001b[0m\u001b[0m\n\u001b[1;32m   1435\u001b[0m             \u001b[0mself\u001b[0m\u001b[0;34m.\u001b[0m\u001b[0mtb\u001b[0m \u001b[0;34m=\u001b[0m \u001b[0mtb\u001b[0m\u001b[0;34m\u001b[0m\u001b[0;34m\u001b[0m\u001b[0m\n\u001b[0;32m-> 1436\u001b[0;31m         return FormattedTB.structured_traceback(\n\u001b[0m\u001b[1;32m   1437\u001b[0m             self, etype, value, tb, tb_offset, number_of_lines_of_context)\n\u001b[1;32m   1438\u001b[0m \u001b[0;34m\u001b[0m\u001b[0m\n",
      "\u001b[0;32m~/anaconda3/lib/python3.8/site-packages/IPython/core/ultratb.py\u001b[0m in \u001b[0;36mstructured_traceback\u001b[0;34m(self, etype, value, tb, tb_offset, number_of_lines_of_context)\u001b[0m\n\u001b[1;32m   1334\u001b[0m         \u001b[0;32mif\u001b[0m \u001b[0mmode\u001b[0m \u001b[0;32min\u001b[0m \u001b[0mself\u001b[0m\u001b[0;34m.\u001b[0m\u001b[0mverbose_modes\u001b[0m\u001b[0;34m:\u001b[0m\u001b[0;34m\u001b[0m\u001b[0;34m\u001b[0m\u001b[0m\n\u001b[1;32m   1335\u001b[0m             \u001b[0;31m# Verbose modes need a full traceback\u001b[0m\u001b[0;34m\u001b[0m\u001b[0;34m\u001b[0m\u001b[0;34m\u001b[0m\u001b[0m\n\u001b[0;32m-> 1336\u001b[0;31m             return VerboseTB.structured_traceback(\n\u001b[0m\u001b[1;32m   1337\u001b[0m                 \u001b[0mself\u001b[0m\u001b[0;34m,\u001b[0m \u001b[0metype\u001b[0m\u001b[0;34m,\u001b[0m \u001b[0mvalue\u001b[0m\u001b[0;34m,\u001b[0m \u001b[0mtb\u001b[0m\u001b[0;34m,\u001b[0m \u001b[0mtb_offset\u001b[0m\u001b[0;34m,\u001b[0m \u001b[0mnumber_of_lines_of_context\u001b[0m\u001b[0;34m\u001b[0m\u001b[0;34m\u001b[0m\u001b[0m\n\u001b[1;32m   1338\u001b[0m             )\n",
      "\u001b[0;32m~/anaconda3/lib/python3.8/site-packages/IPython/core/ultratb.py\u001b[0m in \u001b[0;36mstructured_traceback\u001b[0;34m(self, etype, evalue, etb, tb_offset, number_of_lines_of_context)\u001b[0m\n\u001b[1;32m   1191\u001b[0m         \u001b[0;34m\"\"\"Return a nice text document describing the traceback.\"\"\"\u001b[0m\u001b[0;34m\u001b[0m\u001b[0;34m\u001b[0m\u001b[0m\n\u001b[1;32m   1192\u001b[0m \u001b[0;34m\u001b[0m\u001b[0m\n\u001b[0;32m-> 1193\u001b[0;31m         formatted_exception = self.format_exception_as_a_whole(etype, evalue, etb, number_of_lines_of_context,\n\u001b[0m\u001b[1;32m   1194\u001b[0m                                                                tb_offset)\n\u001b[1;32m   1195\u001b[0m \u001b[0;34m\u001b[0m\u001b[0m\n",
      "\u001b[0;32m~/anaconda3/lib/python3.8/site-packages/IPython/core/ultratb.py\u001b[0m in \u001b[0;36mformat_exception_as_a_whole\u001b[0;34m(self, etype, evalue, etb, number_of_lines_of_context, tb_offset)\u001b[0m\n\u001b[1;32m   1149\u001b[0m \u001b[0;34m\u001b[0m\u001b[0m\n\u001b[1;32m   1150\u001b[0m \u001b[0;34m\u001b[0m\u001b[0m\n\u001b[0;32m-> 1151\u001b[0;31m         \u001b[0mlast_unique\u001b[0m\u001b[0;34m,\u001b[0m \u001b[0mrecursion_repeat\u001b[0m \u001b[0;34m=\u001b[0m \u001b[0mfind_recursion\u001b[0m\u001b[0;34m(\u001b[0m\u001b[0morig_etype\u001b[0m\u001b[0;34m,\u001b[0m \u001b[0mevalue\u001b[0m\u001b[0;34m,\u001b[0m \u001b[0mrecords\u001b[0m\u001b[0;34m)\u001b[0m\u001b[0;34m\u001b[0m\u001b[0;34m\u001b[0m\u001b[0m\n\u001b[0m\u001b[1;32m   1152\u001b[0m \u001b[0;34m\u001b[0m\u001b[0m\n\u001b[1;32m   1153\u001b[0m         \u001b[0mframes\u001b[0m \u001b[0;34m=\u001b[0m \u001b[0mself\u001b[0m\u001b[0;34m.\u001b[0m\u001b[0mformat_records\u001b[0m\u001b[0;34m(\u001b[0m\u001b[0mrecords\u001b[0m\u001b[0;34m,\u001b[0m \u001b[0mlast_unique\u001b[0m\u001b[0;34m,\u001b[0m \u001b[0mrecursion_repeat\u001b[0m\u001b[0;34m)\u001b[0m\u001b[0;34m\u001b[0m\u001b[0;34m\u001b[0m\u001b[0m\n",
      "\u001b[0;32m~/anaconda3/lib/python3.8/site-packages/IPython/core/ultratb.py\u001b[0m in \u001b[0;36mfind_recursion\u001b[0;34m(etype, value, records)\u001b[0m\n\u001b[1;32m    449\u001b[0m     \u001b[0;31m# first frame (from in to out) that looks different.\u001b[0m\u001b[0;34m\u001b[0m\u001b[0;34m\u001b[0m\u001b[0;34m\u001b[0m\u001b[0m\n\u001b[1;32m    450\u001b[0m     \u001b[0;32mif\u001b[0m \u001b[0;32mnot\u001b[0m \u001b[0mis_recursion_error\u001b[0m\u001b[0;34m(\u001b[0m\u001b[0metype\u001b[0m\u001b[0;34m,\u001b[0m \u001b[0mvalue\u001b[0m\u001b[0;34m,\u001b[0m \u001b[0mrecords\u001b[0m\u001b[0;34m)\u001b[0m\u001b[0;34m:\u001b[0m\u001b[0;34m\u001b[0m\u001b[0;34m\u001b[0m\u001b[0m\n\u001b[0;32m--> 451\u001b[0;31m         \u001b[0;32mreturn\u001b[0m \u001b[0mlen\u001b[0m\u001b[0;34m(\u001b[0m\u001b[0mrecords\u001b[0m\u001b[0;34m)\u001b[0m\u001b[0;34m,\u001b[0m \u001b[0;36m0\u001b[0m\u001b[0;34m\u001b[0m\u001b[0;34m\u001b[0m\u001b[0m\n\u001b[0m\u001b[1;32m    452\u001b[0m \u001b[0;34m\u001b[0m\u001b[0m\n\u001b[1;32m    453\u001b[0m     \u001b[0;31m# Select filename, lineno, func_name to track frames with\u001b[0m\u001b[0;34m\u001b[0m\u001b[0;34m\u001b[0m\u001b[0;34m\u001b[0m\u001b[0m\n",
      "\u001b[0;31mTypeError\u001b[0m: object of type 'NoneType' has no len()"
     ]
    }
   ],
   "source": [
    "from sklearn.model_selection import RandomizedSearchCV\n",
    "#optimise rf models\n",
    "# Number of trees in random forest\n",
    "n_estimators = [int(x) for x in np.linspace(start = 200, stop = 2000, num = 10)]\n",
    "# Number of features to consider at every split\n",
    "max_features = ['auto', 'sqrt']\n",
    "# Maximum number of levels in tree\n",
    "max_depth = [int(x) for x in np.linspace(10, 110, num = 11)]\n",
    "max_depth.append(None)\n",
    "# Minimum number of samples required to split a node\n",
    "min_samples_split = [2, 5, 10]\n",
    "# Minimum number of samples required at each leaf node\n",
    "min_samples_leaf = [1, 2, 4]\n",
    "# Method of selecting samples for training each tree\n",
    "bootstrap = [True, False]# Create the random grid\n",
    "random_grid = {'n_estimators': n_estimators,\n",
    "               'max_features': max_features,\n",
    "               'max_depth': max_depth,\n",
    "               'min_samples_split': min_samples_split,\n",
    "               'min_samples_leaf': min_samples_leaf,\n",
    "               'bootstrap': bootstrap}\n",
    "\n",
    "rf_model = RandomizedSearchCV(estimator = rf_model, param_distributions = random_grid, n_iter = 100, cv = 10, verbose=2, random_state=42, n_jobs = -1)\n",
    "\n",
    "\n",
    "#TRAIN TEST SPLIT HERE 80:20\n",
    "\n",
    "# Fit the random search model\n",
    "#CHANGE TO X_TRAIN etc.\n",
    "rf_model.fit(x_data, y_label)\n",
    "\n",
    "#do the usual test eval here\n",
    "\n",
    "\n",
    "rf_margin_model = RandomizedSearchCV(estimator = rf_margin_model, param_distributions = random_grid, n_iter = 100, cv = 10, verbose=2, random_state=42, n_jobs = -1)\n",
    "\n",
    "# Fit the random search model\n",
    "rf_margin_model.fit(x_data, margin_label)"
   ]
  },
  {
   "cell_type": "code",
   "execution_count": null,
   "metadata": {},
   "outputs": [],
   "source": [
    "def build_DNN_model(x_len):\n",
    "    model = Sequential()\n",
    "    model.add(Dense(63, input_dim = x_len))\n",
    "    model.add(Activation('relu'))\n",
    "    model.add(Dropout(0.03))\n",
    "    model.add(BatchNormalization())\n",
    "\n",
    "    model.add(Dense(32))\n",
    "    model.add(Activation('relu'))\n",
    "    model.add(Dropout(0.02))\n",
    "\n",
    "    model.add(Dense(16))\n",
    "    model.add(Activation('relu'))\n",
    "\n",
    "    model.add(Dense(8))\n",
    "    model.add(Activation('relu'))\n",
    "    #add output layer\n",
    "    model.add(Dense(1, activation='linear'))\n",
    "    opt = tf.keras.optimizers.Adamax(learning_rate=0.003)\n",
    "\n",
    "    model.compile(loss=\"mean_squared_error\", optimizer=opt, metrics=[tf.keras.metrics.RootMeanSquaredError()])\n",
    "    print(model.summary())\n",
    "    return model"
   ]
  },
  {
   "cell_type": "code",
   "execution_count": null,
   "metadata": {},
   "outputs": [],
   "source": [
    "def build_CNN_model(x_len):\n",
    "    #del model\n",
    "    model = Sequential()\n",
    "    model.add(Conv1D(filters=32, kernel_size=14,\n",
    "                     input_shape=(x_len, 1)))\n",
    "    model.add(Activation('relu'))\n",
    "    model.add(Dropout(0.2))\n",
    "    model.add(Conv1D(filters=16, kernel_size=10,\n",
    "                     input_shape=(32, 1)))\n",
    "    model.add(Activation('linear'))\n",
    "    model.add(Dropout(0.1))\n",
    "    model.add(Conv1D(filters=10, kernel_size=8,\n",
    "                     input_shape=(16, 1)))\n",
    "    model.add(Activation('linear'))\n",
    "    model.add(MaxPooling1D(pool_size=2))\n",
    "    model.add(BatchNormalization())\n",
    "    model.add(Flatten())\n",
    "    model.add(Dense(64, activation='linear'))\n",
    "    model.add(Dense(32, activation='linear'))\n",
    "    model.add(Dense(16, activation='linear'))\n",
    "    model.add(BatchNormalization())\n",
    "    model.add(Dense(1, activation='linear'))\n",
    "    opt = tf.keras.optimizers.Adamax(learning_rate=0.003)#, beta_1=0.9, beta_2=0.999, epsilon=1e-07, name=\"Adamax\"\n",
    "\n",
    "\n",
    "    model.compile(loss=\"mean_squared_error\", optimizer=opt, metrics=[tf.keras.metrics.RootMeanSquaredError()])\n",
    "\n",
    "    print(model.summary())\n",
    "    return model"
   ]
  },
  {
   "cell_type": "code",
   "execution_count": null,
   "metadata": {},
   "outputs": [],
   "source": [
    "#flag = 0 (DNN)\n",
    "#flag = 1 (CNN)\n",
    "def eval_dl(x,y,k,flag):\n",
    "    cv = StratifiedKFold(n_splits=k,shuffle=True)\n",
    "    best_model = []\n",
    "    results = []\n",
    "    highest = 0\n",
    "    i = 1\n",
    "    for train,test in cv.split(x,y):\n",
    "        if(flag == 0):\n",
    "            model = build_DNN_model(x[train].shape[1])\n",
    "        if(flag == 1):\n",
    "            x = x.reshape(x.shape[0], x.shape[1], 1)\n",
    "            model = build_CNN_model(x[train].shape[1])\n",
    "        bs = ((x[train].shape[0])/20)\n",
    "        bs = round(bs)\n",
    "        history = model.fit(x[train], y[train], validation_data=(x[test], y[test]), epochs = 50, batch_size=bs)\n",
    "        _, accuracy = model.evaluate(x[test], y[test], batch_size=bs, verbose=0)\n",
    "        accuracy = accuracy * 100\n",
    "        print(\"accuracy for model \" + str(i) + \" is \" + str(accuracy))\n",
    "        if(accuracy > highest):\n",
    "            highest = accuracy\n",
    "            best_model = model\n",
    "        results.append(accuracy)\n",
    "        i = i + 1\n",
    "    print(\"highest accuracy is: \" + str(highest))\n",
    "    print(\"Training Testing Accuracy: %.2f%% (%.2f%%)\" % (np.mean(results), np.std(results)))\n",
    "    return best_model"
   ]
  }
 ],
 "metadata": {
  "kernelspec": {
   "display_name": "Python 3",
   "language": "python",
   "name": "python3"
  },
  "language_info": {
   "codemirror_mode": {
    "name": "ipython",
    "version": 3
   },
   "file_extension": ".py",
   "mimetype": "text/x-python",
   "name": "python",
   "nbconvert_exporter": "python",
   "pygments_lexer": "ipython3",
   "version": "3.8.5"
  }
 },
 "nbformat": 4,
 "nbformat_minor": 4
}
