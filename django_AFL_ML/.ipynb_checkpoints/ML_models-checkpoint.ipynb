{
 "cells": [
  {
   "cell_type": "code",
   "execution_count": null,
   "metadata": {},
   "outputs": [],
   "source": [
    "###Models to do"
   ]
  },
  {
   "cell_type": "code",
   "execution_count": 1,
   "metadata": {},
   "outputs": [
    {
     "name": "stderr",
     "output_type": "stream",
     "text": [
      "/home/chris/anaconda3/lib/python3.8/site-packages/xgboost/compat.py:93: FutureWarning: pandas.Int64Index is deprecated and will be removed from pandas in a future version. Use pandas.Index with the appropriate dtype instead.\n",
      "  from pandas import MultiIndex, Int64Index\n"
     ]
    },
    {
     "name": "stdout",
     "output_type": "stream",
     "text": [
      "2.2.0\n",
      "2.4.3\n"
     ]
    }
   ],
   "source": [
    "import re\n",
    "import xgboost as xgb\n",
    "import tensorflow as tf; print(tf.__version__)\n",
    "import keras; print(keras.__version__)\n",
    "#import torch.nn as nn\n",
    "#import touch.nn.functional as F\n",
    "import pandas as pd\n",
    "import numpy as np\n",
    "from sklearn.model_selection import train_test_split\n",
    "from sklearn.metrics import accuracy_score\n",
    "from random import randint\n",
    "from Gather_AFL_Data import gatherer as gad\n",
    "#from fdnn import feature_extractor as fex\n",
    "import skopt\n",
    "from skopt.searchcv import BayesSearchCV\n",
    "from skopt.space import Real, Categorical, Integer\n",
    "from sklearn.model_selection import StratifiedKFold\n",
    "import pickle\n",
    "from sklearn.preprocessing import OneHotEncoder\n",
    "from sklearn.metrics import mean_squared_error\n",
    "from math import sqrt\n",
    "from sklearn.model_selection import cross_val_score, KFold\n",
    "from joblib import dump, load"
   ]
  },
  {
   "cell_type": "code",
   "execution_count": 2,
   "metadata": {},
   "outputs": [
    {
     "name": "stdout",
     "output_type": "stream",
     "text": [
      "2.2.0\n",
      "2.4.3\n"
     ]
    }
   ],
   "source": [
    "import re\n",
    "import xgboost as xgb\n",
    "import tensorflow as tf; print(tf.__version__)\n",
    "import keras; print(keras.__version__)\n",
    "#import torch.nn as nn\n",
    "#import touch.nn.functional as F\n",
    "import pandas as pd\n",
    "import numpy as np\n",
    "from sklearn.model_selection import train_test_split\n",
    "from sklearn.metrics import accuracy_score\n",
    "from random import randint\n",
    "from Gather_AFL_Data import gatherer as gad\n",
    "#from fdnn import feature_extractor as fex\n",
    "import skopt\n",
    "from skopt.searchcv import BayesSearchCV\n",
    "from skopt.space import Real, Categorical, Integer\n",
    "from sklearn.model_selection import StratifiedKFold\n",
    "import pickle\n",
    "from sklearn.preprocessing import OneHotEncoder\n",
    "from tensorflow.keras.models import Sequential\n",
    "from tensorflow.keras.layers import Dense\n",
    "from tensorflow.keras.layers import Flatten\n",
    "from tensorflow.keras.layers import Dropout\n",
    "from tensorflow.keras.layers import Input\n",
    "from tensorflow.keras.layers import BatchNormalization\n",
    "from tensorflow.keras.layers import Conv1D\n",
    "from tensorflow.keras.layers import MaxPooling1D\n",
    "from tensorflow.keras.utils import to_categorical\n",
    "from keras.utils.vis_utils import plot_model\n",
    "from tensorflow.keras.layers import LSTM\n",
    "from tensorflow.keras.layers import Embedding\n",
    "from tensorflow.keras.preprocessing import sequence\n",
    "import matplotlib.pyplot as plt\n",
    "from tensorflow.keras.layers import Activation\n",
    "from sklearn.metrics import mean_squared_error\n",
    "from math import sqrt\n",
    "from sklearn.model_selection import cross_val_score, KFold"
   ]
  },
  {
   "cell_type": "code",
   "execution_count": 3,
   "metadata": {},
   "outputs": [],
   "source": [
    "#get headers\n",
    "#feed this into a bigger function which specifies the amount of games to go through \n",
    "def get_headers(n_games):\n",
    "    headers = ['Round', 'Home_Team', 'Away_Team', 'Venue', 'H_PAV_Sum', 'A_PAV_Sum']\n",
    "    example_file = pd.read_csv('Data/Fremantle_clean_stats.csv')\n",
    "    cl_h = example_file.columns\n",
    "    cl_h = cl_h[:-5]\n",
    "    ladder_header = ['Ladder Pos_H', 'Form_H', 'Season Wins_H', 'Season Loss_H', 'Season Draw_H']\n",
    "    headers = [*headers, *ladder_header]\n",
    "    j = 1\n",
    "    while j <= n_games:\n",
    "        for x in cl_h:\n",
    "            if 'Match_ID' in x or 'Year' in x:\n",
    "                continue\n",
    "            x = 'H_'+ x + ' n-' + str(j)\n",
    "            headers.append(x)\n",
    "        j = j + 1\n",
    "    j = 1\n",
    "    ladder_header = ['Ladder Pos_A', 'Form_A', 'Season Wins_A', 'Season Loss_A', 'Season Draw_A']\n",
    "    headers = [*headers, *ladder_header]\n",
    "    while j <= n_games:\n",
    "        for x in cl_h:\n",
    "            if 'Match_ID' in x or 'Year' in x:\n",
    "                continue\n",
    "            x = 'A_'+ x + ' n-' + str(j)\n",
    "            headers.append(x)\n",
    "        j = j + 1\n",
    "    return headers"
   ]
  },
  {
   "cell_type": "code",
   "execution_count": 4,
   "metadata": {},
   "outputs": [],
   "source": [
    "def clean_headers(h):\n",
    "    headers = []\n",
    "    for x in h:\n",
    "        if '<' in x or '>' in x:\n",
    "            x = x.replace('<',\"lt_\")\n",
    "            x = x.replace('>', \"gt_\")\n",
    "            #print(x)\n",
    "        headers.append(str(x))\n",
    "    return headers"
   ]
  },
  {
   "cell_type": "code",
   "execution_count": 5,
   "metadata": {},
   "outputs": [],
   "source": [
    "def generate_categorical_headers(h):\n",
    "    cat_var = ['Round', 'Home_Team', 'Away_Team']\n",
    "    skip = 0\n",
    "    for x in h:\n",
    "        if 'Round' in x:\n",
    "            if (skip == 0):\n",
    "                skip = 1\n",
    "                continue\n",
    "            cat_var.append(x)\n",
    "            #print(x)\n",
    "        elif 'Team_against_ID' in x:\n",
    "            #print(x)\n",
    "            cat_var.append(x)\n",
    "        elif 'Venue' in x:\n",
    "            cat_var.append(x)\n",
    "    return cat_var"
   ]
  },
  {
   "cell_type": "code",
   "execution_count": 6,
   "metadata": {},
   "outputs": [],
   "source": [
    "#one hot encode data and transform the X_data\n",
    "#first redo, find the categorial variables\n",
    "def ohe_data(x_data, enc, flag,cat_var):\n",
    "    #data has not been previously one hot encoded\n",
    "    if (flag == 0):\n",
    "        #get columns with categorical data and drop from main DF\n",
    "        categorical_data = x_data[cat_var]\n",
    "        x_data = x_data.drop(cat_var, axis = 1)\n",
    "        #define and fit new OHE. Use it on our categorical data by transforming\n",
    "        ohe = OneHotEncoder(handle_unknown='ignore', sparse=False)\n",
    "        ohe = ohe.fit(categorical_data)\n",
    "        categorical_data = ohe.transform(categorical_data)\n",
    "        #get feature names for better labelling\n",
    "        fn = ohe.get_feature_names(cat_var)\n",
    "        #make a dataframe with new OHE data and feature names\n",
    "            #would have been good to have coded it like this for my Masters project...\n",
    "        categorical_data = pd.DataFrame(categorical_data)\n",
    "        categorical_data.columns = fn\n",
    "        #ensure that it won't get cranky about any different indexes(shouldn't be any but just a good check)\n",
    "        x_data.reset_index(drop=True, inplace=True)\n",
    "        categorical_data.reset_index(drop=True, inplace=True)\n",
    "        #concatenate along column axis\n",
    "        x_data = pd.concat([x_data, categorical_data], axis = 1)\n",
    "    else:\n",
    "        #same as above except used already fitted ohe\n",
    "        categorical_data = x_data[cat_var]\n",
    "        x_data = x_data.drop(cat_var, axis = 1)\n",
    "        categorical_data = enc.transform(categorical_data)\n",
    "        fn = enc.get_feature_names(cat_var)\n",
    "        categorical_data = pd.DataFrame(categorical_data)\n",
    "        categorical_data.columns = fn\n",
    "        x_data.reset_index(drop=True, inplace=True)\n",
    "        categorical_data.reset_index(drop=True, inplace=True)\n",
    "        x_data = pd.concat([x_data, categorical_data], axis = 1, ignore_index=True)\n",
    "        ohe = enc\n",
    "    return x_data, ohe"
   ]
  },
  {
   "cell_type": "code",
   "execution_count": 7,
   "metadata": {},
   "outputs": [],
   "source": [
    "#search parameters for best XGB classifier or best XGB regressor\n",
    "\n",
    "def param_search(x_data, y_label, class_reg):\n",
    "\n",
    "    def on_step(optim_result):\n",
    "        \"\"\"\n",
    "        Callback meant to view scores after\n",
    "        each iteration while performing Bayesian\n",
    "        Optimization in Skopt\"\"\"\n",
    "        score = xgb_bayes_search.best_score_\n",
    "        print(\"best score: %s\" % score)\n",
    "        if score >= 0.98:\n",
    "            print('Interrupting!')\n",
    "            return True\n",
    "    X_train, X_test, y_train, y_test = train_test_split(x_data, y_label, test_size=0.1, random_state=157732)\n",
    "    print(\"X_train shape: \" + str(X_train.shape))\n",
    "    print(\"X_test shape: \" + str(X_test.shape))\n",
    "  #  print(\"y_train shape: \" + str(y_train.shape))\n",
    "  #  print(\"y_test shape: \" + str(y_test.shape))\n",
    "    space ={'learning_rate': Real(0.01, 1.0, 'log-uniform'),\n",
    "        'min_child_weight': Integer(0, 10),\n",
    "        'max_depth': Integer(0, 50),\n",
    "        'max_delta_step': Integer(0, 20),\n",
    "        'subsample': Real(0.01, 1.0, 'uniform'),\n",
    "        'colsample_bytree': Real(0.01, 1.0, 'uniform'),\n",
    "        'colsample_bylevel': Real(0.01, 1.0, 'uniform'),\n",
    "        'reg_lambda': Real(1e-9, 1000, 'log-uniform'),\n",
    "        'reg_alpha': Real(1e-9, 1.0, 'log-uniform'),\n",
    "        'gamma': Real(1e-9, 0.5, 'log-uniform'),\n",
    "        'min_child_weight': Integer(0, 5),\n",
    "        'n_estimators': Integer(50, 200),\n",
    "        'scale_pos_weight': Real(1e-6, 500, 'log-uniform')}\n",
    "    if(class_reg == 0):\n",
    "        xgbclass = xgb.XGBClassifier(random_state=27022013)\n",
    "    else:\n",
    "        xgbclass = xgb.XGBRegressor(random_state=27022013)\n",
    "    xgb_bayes_search = BayesSearchCV(xgbclass, space, n_iter=60, # specify how many iterations\n",
    "                                    scoring=None, n_jobs=1, cv=10, verbose=1, random_state=42, n_points=12,\n",
    "                                 refit=True)\n",
    "  #  kk = np.isinf(X_train)\n",
    "  #  if True in kk:\n",
    "  #  \tprint(\"aaaaaaa\")\n",
    "  #  kk = np.isinf(y_train)\n",
    "  #  if True in kk:\n",
    "  #  \tprint(\"reeeeeee\")\n",
    "    try:\n",
    "        xgb_bayes_search.fit(X_train, y_train.values.ravel(), callback = on_step)\n",
    "    except:\n",
    "        xgb_bayes_search.fit(X_train, y_train.values.ravel(), callback = on_step)\n",
    "  #  print(\"BEST PARAMS ARE HERE\")\n",
    " #   print(xgb_bayes_search.best_params_)\n",
    "    model = xgb_bayes_search.best_estimator_\n",
    "\n",
    "    return model"
   ]
  },
  {
   "cell_type": "code",
   "execution_count": 8,
   "metadata": {},
   "outputs": [],
   "source": [
    "#x = all data\n",
    "#y = label of whether home team or away team won\n",
    "#m = xgb classifier for winner prediction\n",
    "#my = labels of margins\n",
    "    #try absolute values\n",
    "#mm = xgb regressor for margin prediction\n",
    "def eval_xgb_games_margins(x, y, m, my, mm):\n",
    "    results = []\n",
    "    error = []\n",
    "    count = 0\n",
    "    best_w = m\n",
    "    high_w = 0\n",
    "    best_m = mm\n",
    "    high_m = 100\n",
    "    cv = StratifiedKFold(n_splits=10, shuffle=True)\n",
    "    print(x)\n",
    "    for train,test in cv.split(x,y):\n",
    "       # print(len(train))\n",
    "        count = count + 1\n",
    "        print(\"Split: \" + str(count))\n",
    "        #comment out fit steps for random forest i guess lol\n",
    "        prediction = m.fit(x.loc[train],y.loc[train]).predict_proba(x.loc[test])\n",
    "        margin_pred = mm.fit(x.loc[train], my.loc[train])\n",
    "        print(\"variables for auroc curve done. Processing fold accuracy + checking best model\")\n",
    "        y_pred = m.predict(x.loc[test])\n",
    "        #print(y_pred)\n",
    "        m_pred = mm.predict(x.loc[test])\n",
    "        print(m_pred)\n",
    "        predictions = [round(value) for value in y_pred]\n",
    "        #sees how accurate the model was when testing the test set\n",
    "        accuracy = accuracy_score(y.loc[test], predictions)\n",
    "        pcent = accuracy * 100.0\n",
    "        print(\"The accuracy of this model is\" + str(pcent))\n",
    "        rmse = sqrt(mean_squared_error(m_pred, my.loc[test]))\n",
    "        print(\"The rmse of this model is\" + str(rmse))\n",
    "        results.append(pcent)\n",
    "        error.append(rmse)\n",
    "        #change the best model to equal current model\n",
    "        if(pcent > high_w):\n",
    "            print(\"found new best classify\")\n",
    "            best_w = m\n",
    "            high_w = pcent\n",
    "        if(rmse < high_m):\n",
    "            print(\"found best new margin\")\n",
    "            best_m = mm\n",
    "            high_m = rmse\n",
    "    print(\"Best win percentage split = \" +str(high_w))\n",
    "    print(\"Best margin rmse = \"+str(high_m))\n",
    "    print(\"Training Testing Accuracy: %.2f%% (%.2f%%)\" % (np.mean(results), np.std(results)))\n",
    "    print(\"Training Testing Margins: %.2f%% (%.2f%%)\" % (np.mean(error), np.std(error)))\n",
    "    return best_w, best_m"
   ]
  },
  {
   "cell_type": "code",
   "execution_count": 9,
   "metadata": {},
   "outputs": [],
   "source": [
    "#make this a method param later\n",
    "#n_games = 5\n",
    "def run_all_models(n_games):\n",
    "    #load headers and then subsequently categorical headers\n",
    "    h = get_headers(n_games)\n",
    "    h = clean_headers(h)\n",
    "    cv = generate_categorical_headers(h)\n",
    "\n",
    "    #to get names of teams from index\n",
    "    g = gad()\n",
    "    teams = g.createTeamDict()\n",
    "\n",
    "    #load Data\n",
    "    x_data = pd.read_csv('Data/assembled_stat_matrix_no2020'+str(n_games)+'_games.csv')\n",
    "\n",
    "    #make empty OHE object\n",
    "    na_enc = OneHotEncoder(handle_unknown='ignore', sparse=False)\n",
    "\n",
    "    #one hot encode data with new one hot encoder, saves ohe for later use\n",
    "    x_data, ohe = ohe_data(x_data, na_enc, 0, cv)\n",
    "    filename = 'Models/ohe_'+str(n_games)+'_no_2021_games.dat'\n",
    "    pickle.dump(ohe, open(filename, \"wb\"))\n",
    "    #reset headers\n",
    "    feature_names = x_data.columns\n",
    "\n",
    "    #loads the ylabel matrix,\n",
    "    y_label = pd.read_csv('Data/assembled_labelled_ymatrix_no2020'+str(n_games)+'_games.csv')\n",
    "\n",
    "    #loads margin as the y_label\n",
    "    margin_label = pd.read_csv('Data/assembled_margin_ymatrix_no2020'+str(n_games)+'_games.csv')\n",
    "\n",
    "    print(margin_label.shape)\n",
    "    print(y_label.shape)\n",
    "    print(x_data.shape)\n",
    "\n",
    "    #regex solution which is apparently necessary??\n",
    "    regex = re.compile(r\"\\[|\\]|<\", re.IGNORECASE)\n",
    "    x_data.columns = [regex.sub(\"_\", col) if any(x in str(col) for x in set(('[', ']', '<'))) else col for col in x_data.columns.values]\n",
    "\n",
    "    #optimise XGBoost model\n",
    "\n",
    "    #for predicting win\n",
    "    model = param_search(x_data, y_label, 0)\n",
    "    #for predicting margin\n",
    "    #margin_label = abs(margin_label)\n",
    "    margin_model = param_search(x_data, margin_label, 1)\n",
    "\n",
    "   # margin_label = abs(margin_label)\n",
    "    print(margin_label)\n",
    "    best_xgb_clas, best_xgb_reg = eval_xgb_games_margins(x_data, y_label, model, margin_label, margin_model)\n",
    "\n",
    "    #save\n",
    "    pickle.dump(best_xgb_clas, open(\"Models/best_xgb_clas_no2020_\"+str(n_games)+\"_games.dat\", \"wb\"))\n",
    "    pickle.dump(best_xgb_reg, open(\"Models/best_xgb_reg_no2020_\"+str(n_games)+\"_games.dat\", \"wb\"))"
   ]
  },
  {
   "cell_type": "code",
   "execution_count": 10,
   "metadata": {
    "scrolled": true
   },
   "outputs": [
    {
     "name": "stdout",
     "output_type": "stream",
     "text": [
      "(1835, 1)\n",
      "(1835, 1)\n",
      "(1835, 733)\n",
      "X_train shape: (1651, 733)\n",
      "X_test shape: (184, 733)\n",
      "Fitting 10 folds for each of 12 candidates, totalling 120 fits\n"
     ]
    },
    {
     "name": "stderr",
     "output_type": "stream",
     "text": [
      "[Parallel(n_jobs=1)]: Using backend SequentialBackend with 1 concurrent workers.\n",
      "[Parallel(n_jobs=1)]: Done 120 out of 120 | elapsed:  1.1min finished\n"
     ]
    },
    {
     "name": "stdout",
     "output_type": "stream",
     "text": [
      "best score: 0.6662628709872804\n",
      "Fitting 10 folds for each of 12 candidates, totalling 120 fits\n"
     ]
    },
    {
     "name": "stderr",
     "output_type": "stream",
     "text": [
      "[Parallel(n_jobs=1)]: Using backend SequentialBackend with 1 concurrent workers.\n",
      "[Parallel(n_jobs=1)]: Done 120 out of 120 | elapsed:  4.1min finished\n"
     ]
    },
    {
     "name": "stdout",
     "output_type": "stream",
     "text": [
      "best score: 0.6662628709872804\n",
      "Fitting 10 folds for each of 12 candidates, totalling 120 fits\n"
     ]
    },
    {
     "name": "stderr",
     "output_type": "stream",
     "text": [
      "[Parallel(n_jobs=1)]: Using backend SequentialBackend with 1 concurrent workers.\n",
      "[Parallel(n_jobs=1)]: Done 120 out of 120 | elapsed:   55.5s finished\n"
     ]
    },
    {
     "name": "stdout",
     "output_type": "stream",
     "text": [
      "best score: 0.6705027256208359\n",
      "Fitting 10 folds for each of 12 candidates, totalling 120 fits\n"
     ]
    },
    {
     "name": "stderr",
     "output_type": "stream",
     "text": [
      "[Parallel(n_jobs=1)]: Using backend SequentialBackend with 1 concurrent workers.\n",
      "[Parallel(n_jobs=1)]: Done 120 out of 120 | elapsed:  1.3min finished\n"
     ]
    },
    {
     "name": "stdout",
     "output_type": "stream",
     "text": [
      "best score: 0.6735311932162326\n",
      "Fitting 10 folds for each of 12 candidates, totalling 120 fits\n"
     ]
    },
    {
     "name": "stderr",
     "output_type": "stream",
     "text": [
      "[Parallel(n_jobs=1)]: Using backend SequentialBackend with 1 concurrent workers.\n",
      "[Parallel(n_jobs=1)]: Done 120 out of 120 | elapsed:  1.1min finished\n"
     ]
    },
    {
     "name": "stdout",
     "output_type": "stream",
     "text": [
      "best score: 0.6832222895215021\n",
      "X_train shape: (1651, 733)\n",
      "X_test shape: (184, 733)\n",
      "Fitting 10 folds for each of 12 candidates, totalling 120 fits\n"
     ]
    },
    {
     "name": "stderr",
     "output_type": "stream",
     "text": [
      "[Parallel(n_jobs=1)]: Using backend SequentialBackend with 1 concurrent workers.\n",
      "[Parallel(n_jobs=1)]: Done 120 out of 120 | elapsed:  1.8min finished\n"
     ]
    },
    {
     "name": "stdout",
     "output_type": "stream",
     "text": [
      "best score: 0.2455657364159549\n",
      "Fitting 10 folds for each of 12 candidates, totalling 120 fits\n"
     ]
    },
    {
     "name": "stderr",
     "output_type": "stream",
     "text": [
      "[Parallel(n_jobs=1)]: Using backend SequentialBackend with 1 concurrent workers.\n",
      "[Parallel(n_jobs=1)]: Done 120 out of 120 | elapsed:   57.9s finished\n"
     ]
    },
    {
     "name": "stdout",
     "output_type": "stream",
     "text": [
      "best score: 0.25506123639188605\n",
      "Fitting 10 folds for each of 12 candidates, totalling 120 fits\n"
     ]
    },
    {
     "name": "stderr",
     "output_type": "stream",
     "text": [
      "[Parallel(n_jobs=1)]: Using backend SequentialBackend with 1 concurrent workers.\n",
      "[Parallel(n_jobs=1)]: Done 120 out of 120 | elapsed:  2.8min finished\n"
     ]
    },
    {
     "name": "stdout",
     "output_type": "stream",
     "text": [
      "best score: 0.26282950851073944\n",
      "Fitting 10 folds for each of 12 candidates, totalling 120 fits\n"
     ]
    },
    {
     "name": "stderr",
     "output_type": "stream",
     "text": [
      "[Parallel(n_jobs=1)]: Using backend SequentialBackend with 1 concurrent workers.\n",
      "[Parallel(n_jobs=1)]: Done 120 out of 120 | elapsed: 11.4min finished\n"
     ]
    },
    {
     "name": "stdout",
     "output_type": "stream",
     "text": [
      "best score: 0.273082000026826\n",
      "Fitting 10 folds for each of 12 candidates, totalling 120 fits\n"
     ]
    },
    {
     "name": "stderr",
     "output_type": "stream",
     "text": [
      "[Parallel(n_jobs=1)]: Using backend SequentialBackend with 1 concurrent workers.\n",
      "[Parallel(n_jobs=1)]: Done 120 out of 120 | elapsed:  5.1min finished\n"
     ]
    },
    {
     "name": "stdout",
     "output_type": "stream",
     "text": [
      "best score: 0.273082000026826\n",
      "      Margin\n",
      "0       -4.0\n",
      "1      -39.0\n",
      "2      -94.0\n",
      "3      -72.0\n",
      "4       -2.0\n",
      "...      ...\n",
      "1830   -20.0\n",
      "1831   -23.0\n",
      "1832   -67.0\n",
      "1833   -14.0\n",
      "1834    56.0\n",
      "\n",
      "[1835 rows x 1 columns]\n",
      "      H_PAV_Sum  A_PAV_Sum  Ladder Pos_H  Form_H  Season Wins_H  \\\n",
      "0        225.28     213.14           4.0     2.0            2.0   \n",
      "1        232.38     230.38          12.0     0.0            0.0   \n",
      "2        147.24     226.84          18.0     0.0            0.0   \n",
      "3        149.67     226.28          16.0     0.0            0.0   \n",
      "4        118.17     201.00          11.0     1.0            1.0   \n",
      "...         ...        ...           ...     ...            ...   \n",
      "1830     197.86     247.83          16.0     1.0            6.0   \n",
      "1831     190.88     243.49          13.0     1.0            8.0   \n",
      "1832     183.34     212.96          18.0     0.0            2.0   \n",
      "1833     211.20     282.11          10.0     0.0           11.0   \n",
      "1834     253.91     195.19          11.0     1.0            9.0   \n",
      "\n",
      "      Season Loss_H  Season Draw_H  H_H/A? n-1  H_H/A Win? n-1  \\\n",
      "0               0.0            0.0         1.0             1.0   \n",
      "1               2.0            0.0         1.0             0.0   \n",
      "2               2.0            0.0         1.0             0.0   \n",
      "3               2.0            0.0         1.0             0.0   \n",
      "4               1.0            0.0         1.0             0.0   \n",
      "...             ...            ...         ...             ...   \n",
      "1830           15.0            0.0         1.0             0.0   \n",
      "1831           13.0            0.0         1.0             0.0   \n",
      "1832           19.0            0.0         1.0             0.0   \n",
      "1833           10.0            0.0         0.0             1.0   \n",
      "1834           12.0            0.0         1.0             1.0   \n",
      "\n",
      "      H_Points For n-1  ...  A_Venue n-2_Manuka Oval  \\\n",
      "0                106.0  ...                      0.0   \n",
      "1                108.0  ...                      0.0   \n",
      "2                 36.0  ...                      0.0   \n",
      "3                 78.0  ...                      0.0   \n",
      "4                 73.0  ...                      0.0   \n",
      "...                ...  ...                      ...   \n",
      "1830              57.0  ...                      0.0   \n",
      "1831              67.0  ...                      0.0   \n",
      "1832              74.0  ...                      0.0   \n",
      "1833              66.0  ...                      0.0   \n",
      "1834             146.0  ...                      0.0   \n",
      "\n",
      "      A_Venue n-2_Mars Stadium  A_Venue n-2_Marvel Stadium  \\\n",
      "0                          0.0                         0.0   \n",
      "1                          0.0                         0.0   \n",
      "2                          0.0                         0.0   \n",
      "3                          0.0                         0.0   \n",
      "4                          0.0                         1.0   \n",
      "...                        ...                         ...   \n",
      "1830                       0.0                         1.0   \n",
      "1831                       0.0                         1.0   \n",
      "1832                       0.0                         0.0   \n",
      "1833                       0.0                         1.0   \n",
      "1834                       0.0                         0.0   \n",
      "\n",
      "      A_Venue n-2_Metricon Stadium  A_Venue n-2_Optus Stadium  \\\n",
      "0                              0.0                        0.0   \n",
      "1                              0.0                        0.0   \n",
      "2                              0.0                        0.0   \n",
      "3                              1.0                        0.0   \n",
      "4                              0.0                        0.0   \n",
      "...                            ...                        ...   \n",
      "1830                           0.0                        0.0   \n",
      "1831                           0.0                        0.0   \n",
      "1832                           0.0                        0.0   \n",
      "1833                           0.0                        0.0   \n",
      "1834                           0.0                        1.0   \n",
      "\n",
      "      A_Venue n-2_SCG  A_Venue n-2_TIO Stadium  A_Venue n-2_TIO Traeger Park  \\\n",
      "0                 0.0                      0.0                           0.0   \n",
      "1                 0.0                      0.0                           0.0   \n",
      "2                 0.0                      0.0                           0.0   \n",
      "3                 0.0                      0.0                           0.0   \n",
      "4                 0.0                      0.0                           0.0   \n",
      "...               ...                      ...                           ...   \n",
      "1830              0.0                      0.0                           0.0   \n",
      "1831              0.0                      0.0                           0.0   \n",
      "1832              0.0                      0.0                           0.0   \n",
      "1833              0.0                      0.0                           0.0   \n",
      "1834              0.0                      0.0                           0.0   \n",
      "\n",
      "      A_Venue n-2_University of Tasmania Stadium  A_Venue n-2_Westpac Stadium  \n",
      "0                                            0.0                          0.0  \n",
      "1                                            0.0                          0.0  \n",
      "2                                            0.0                          0.0  \n",
      "3                                            0.0                          0.0  \n",
      "4                                            0.0                          0.0  \n",
      "...                                          ...                          ...  \n",
      "1830                                         0.0                          0.0  \n",
      "1831                                         0.0                          0.0  \n",
      "1832                                         1.0                          0.0  \n",
      "1833                                         0.0                          0.0  \n",
      "1834                                         0.0                          0.0  \n",
      "\n",
      "[1835 rows x 733 columns]\n",
      "Split: 1\n"
     ]
    },
    {
     "name": "stderr",
     "output_type": "stream",
     "text": [
      "/home/chris/anaconda3/lib/python3.8/site-packages/sklearn/preprocessing/_label.py:235: DataConversionWarning: A column-vector y was passed when a 1d array was expected. Please change the shape of y to (n_samples, ), for example using ravel().\n",
      "  y = column_or_1d(y, warn=True)\n",
      "/home/chris/anaconda3/lib/python3.8/site-packages/sklearn/preprocessing/_label.py:268: DataConversionWarning: A column-vector y was passed when a 1d array was expected. Please change the shape of y to (n_samples, ), for example using ravel().\n",
      "  y = column_or_1d(y, warn=True)\n"
     ]
    },
    {
     "name": "stdout",
     "output_type": "stream",
     "text": [
      "variables for auroc curve done. Processing fold accuracy + checking best model\n",
      "[ -0.80134094  -6.206877    25.220568     8.901016    26.685337\n",
      "  55.37874     16.38       -36.850636    34.07233     -3.0125852\n",
      "  20.151453    32.859898    62.522068    40.892044     1.9466591\n",
      " -22.948212     5.4217477  -10.932715   -13.172761    17.841629\n",
      " -33.4653     -27.75352     15.607031   -25.877346    15.270042\n",
      " -45.632      -21.986736     7.6912575   17.850117   -27.37164\n",
      "   0.35152644  50.515457   -14.616688   -18.679678     7.175944\n",
      " -19.34508     36.30969     19.525345   -30.443579     8.192722\n",
      "   0.3916346   14.931787    13.095555    19.527065    45.9833\n",
      "   6.3363004  -22.662424    57.66864    -29.949913    -3.389255\n",
      "   7.890616   -32.15118     14.677976     7.8445306   36.17779\n",
      "  56.991497    38.134785     9.755272    17.14207     -4.3622627\n",
      " -25.554996     1.1220846   43.818016     8.292044    22.44805\n",
      "  23.82529    -27.181911    33.09764     -1.038426    20.718517\n",
      "  21.575327    34.758797   -19.324856   -33.915203    20.251568\n",
      " -24.622295    29.165026    -3.6729722   18.670782   -15.406023\n",
      "  12.895949    -5.9206204    2.5171983  -21.811121    25.530426\n",
      "  26.908478    -6.6954427  -10.907936    28.862251    23.203077\n",
      "   9.92005    -27.632977    35.28562     -5.1737976   17.875626\n",
      "   6.6964703   37.60183     31.045647    -0.5482614    0.32243055\n",
      "   4.8670745   53.429688    -6.3081923    6.1949654   11.408116\n",
      "  -5.3108563   36.265854    -5.6777124   38.718716    47.82781\n",
      "   9.716029    42.72516    -14.5379505   13.022333   -25.264185\n",
      " -13.842051    13.968251    33.1704       0.71035993  26.118904\n",
      "  23.50396     14.520097    22.314213   -12.742908    25.993515\n",
      " -22.145718    43.16371     -1.6719499  -20.885496    -2.9553964\n",
      " -26.927761    12.745245    20.667923    16.542492   -23.544819\n",
      "  17.649876    -9.727273    49.999577   -17.066381    -3.1382995\n",
      "  -4.578839    -1.0786254   32.84896    -30.192873    11.546589\n",
      "  15.167901     3.9852138   17.293407    35.379498   -27.83098\n",
      "   1.124804    14.8818655   12.737358    20.90829     -0.37526757\n",
      "  29.761747   -19.572422    24.403408   -20.438786    41.983818\n",
      "  23.83872     24.029142    30.905159   -33.199253   -31.983425\n",
      "  -3.3735604   43.2449      -1.2171198   -6.4314137    2.3203413\n",
      "  48.025803   -15.016668   -33.97827    -33.401638    12.882449\n",
      "  40.075714    42.266636     7.2624426   -8.320826    -7.8864326\n",
      "  26.082085    16.708967    42.938046    14.70122   ]\n",
      "The accuracy of this model is69.56521739130434\n",
      "The rmse of this model is36.32652896356795\n",
      "found new best classify\n",
      "found best new margin\n",
      "Split: 2\n"
     ]
    },
    {
     "name": "stderr",
     "output_type": "stream",
     "text": [
      "/home/chris/anaconda3/lib/python3.8/site-packages/sklearn/preprocessing/_label.py:235: DataConversionWarning: A column-vector y was passed when a 1d array was expected. Please change the shape of y to (n_samples, ), for example using ravel().\n",
      "  y = column_or_1d(y, warn=True)\n",
      "/home/chris/anaconda3/lib/python3.8/site-packages/sklearn/preprocessing/_label.py:268: DataConversionWarning: A column-vector y was passed when a 1d array was expected. Please change the shape of y to (n_samples, ), for example using ravel().\n",
      "  y = column_or_1d(y, warn=True)\n"
     ]
    },
    {
     "name": "stdout",
     "output_type": "stream",
     "text": [
      "variables for auroc curve done. Processing fold accuracy + checking best model\n",
      "[ 2.6821136e+01  7.7406974e+00 -2.8485008e+01 -2.5170368e+01\n",
      " -2.6097881e+01 -4.5001717e+01 -1.9380028e+01 -2.6588221e+01\n",
      " -6.5518389e+00  5.7274242e+01 -1.6430155e+01  4.2258537e+01\n",
      "  6.6484718e+00 -2.2454917e-01 -5.9999681e+00 -5.7426114e+00\n",
      "  2.4287380e+01  3.6674133e+01  5.1823926e+00  2.8628788e+01\n",
      "  1.8435158e+01  1.1314291e+01  9.7190905e-01  6.8174472e+00\n",
      "  2.0156755e+00  6.8179541e+00  1.8581772e+01 -2.8746086e+01\n",
      "  1.4165832e+01  3.9146197e+00  2.2744408e+01 -2.0836681e+01\n",
      " -2.5754587e+01  2.3838362e+01 -3.0956102e+01  2.9568801e+00\n",
      "  3.6109791e+01  2.3985682e+01  4.4479626e+01  2.9727867e+00\n",
      "  3.3688961e+01  9.0592613e+00  2.9790684e+01  3.6350201e+01\n",
      "  9.7424469e+00 -5.5790365e-01  3.9682892e+01 -6.2153502e+00\n",
      " -2.4990164e+01  9.2637835e+00 -2.8159306e+01  2.8482933e+01\n",
      "  2.8398584e+01  2.3662344e+01  4.4020832e+01 -1.4200321e+01\n",
      "  2.3513740e-01 -3.0043354e+00 -1.3051508e+01 -3.1868069e+01\n",
      " -4.3355640e+01  1.3179463e+01 -1.7669117e+01 -2.7540768e+01\n",
      " -2.1205661e+00  4.5554401e+01  1.1059922e+01  6.8080435e+00\n",
      " -4.1572929e+01  2.0283928e+01  3.1443510e+01 -3.9336033e+01\n",
      " -2.7727087e+01  3.5257153e+01  2.5500765e+01 -4.2860882e+01\n",
      " -1.6756187e+01 -3.9607148e+00  1.7114933e+01  3.4169657e+00\n",
      "  3.7582104e+01  1.2151257e+00 -3.5009247e+01  2.8252962e+00\n",
      "  1.9729156e+01  1.6927896e+00 -3.7449498e+00 -1.2081394e+00\n",
      "  2.8710011e+01  5.2459003e+01  1.0183645e+01 -2.5099979e+01\n",
      "  1.1750679e+01  1.9240850e+01 -2.1631628e+01  1.8215303e+01\n",
      "  1.8627384e+01 -1.3939127e+01 -3.7161526e+01  9.8123083e+00\n",
      " -5.6982384e+00 -1.5963226e+01  2.1485195e+01  1.6798609e+01\n",
      "  1.8555397e+01 -3.3217346e+01 -1.2471572e+01 -1.7127518e+01\n",
      "  3.6773560e+01  1.7319220e+01  2.2935352e+01  1.1692775e+01\n",
      " -6.4554691e+00  8.2502289e+00 -1.1269536e+00  1.9678297e+01\n",
      " -2.9404430e+01  2.4386076e+01  1.9744898e+01  1.2628108e+01\n",
      "  6.1813824e+01  2.2051735e+01  1.1029283e+01  2.1327844e+00\n",
      " -2.9442139e+01 -1.1127954e+01  1.2368226e+01 -2.6929815e+00\n",
      " -2.9943785e+01  1.7079973e+01  2.8559437e+01 -1.0114652e+00\n",
      " -9.0975294e+00  3.3330013e+01 -1.6676949e+01 -7.2921338e+00\n",
      " -3.1505238e+01  2.4480118e+01  2.7933994e+01 -3.6345932e+01\n",
      " -2.4922161e+00  2.6232168e+01  2.7288990e+01  2.9741211e+00\n",
      "  2.2891132e+01 -1.0392006e+01 -2.3356558e+01  2.6287559e-01\n",
      "  3.0446922e+01  3.1135836e+01  8.8150012e-01  2.7050371e+01\n",
      " -2.4258065e+00 -3.3292988e+01  2.0470274e+01 -2.3164591e+01\n",
      "  2.0297173e+01 -6.0070443e+00 -3.4706730e+01  9.8545494e+00\n",
      "  2.0241318e+01  8.7813129e+00 -3.5802845e+01  1.8579330e+01\n",
      "  3.0078459e+01 -1.0994064e+01 -1.4143437e+01  3.3613949e+01\n",
      " -2.0333269e+00  1.0324012e+00 -3.9180187e+01  3.4568584e+01\n",
      "  2.5219236e+01 -1.1350277e+01 -1.4172558e+01  2.7225565e+01\n",
      "  1.8044281e+01 -1.8322521e+01 -3.3052555e+01 -1.3790965e-02\n",
      " -5.8324900e+00  4.6678150e+01 -3.8591145e+01  3.3018337e+01]\n",
      "The accuracy of this model is64.67391304347827\n",
      "The rmse of this model is37.35919167938566\n",
      "Split: 3\n"
     ]
    },
    {
     "name": "stderr",
     "output_type": "stream",
     "text": [
      "/home/chris/anaconda3/lib/python3.8/site-packages/sklearn/preprocessing/_label.py:235: DataConversionWarning: A column-vector y was passed when a 1d array was expected. Please change the shape of y to (n_samples, ), for example using ravel().\n",
      "  y = column_or_1d(y, warn=True)\n",
      "/home/chris/anaconda3/lib/python3.8/site-packages/sklearn/preprocessing/_label.py:268: DataConversionWarning: A column-vector y was passed when a 1d array was expected. Please change the shape of y to (n_samples, ), for example using ravel().\n",
      "  y = column_or_1d(y, warn=True)\n"
     ]
    },
    {
     "name": "stdout",
     "output_type": "stream",
     "text": [
      "variables for auroc curve done. Processing fold accuracy + checking best model\n",
      "[-14.908498    32.734432   -13.457167   -17.598255    28.731108\n",
      "  10.870507    45.418175    -5.3007803  -17.473492    -2.6772296\n",
      " -33.344883     5.749208     5.7216654  -12.363146   -30.801214\n",
      "  17.050032    14.501197   -35.023136     6.597951    -8.55258\n",
      "   4.098914   -30.507118    30.830414    19.850998    16.870329\n",
      "   1.9797069    2.0417595    2.3037033   10.630362   -36.712067\n",
      "  39.752426     6.6874394   -6.103625    15.210295    25.493095\n",
      "  -1.0765972   30.40309     21.944548   -15.764029    37.545334\n",
      "  41.143456   -45.220158    24.969898    -9.397703   -10.287462\n",
      "   6.8977976  -15.07626     24.365229    48.37123      0.77242464\n",
      "   6.386729     7.520433    18.627962   -26.464249    26.49048\n",
      "   1.8192413   -9.692744    -1.9677556   -4.3870826   40.532993\n",
      "  12.807268    -8.500371    11.944711   -19.991133    28.06775\n",
      "   6.6011105  -23.223425    -7.6730833   22.997696    15.375479\n",
      "   9.104938   -25.34767    -21.873919   -18.262312    34.027565\n",
      "  38.54775     24.637844    26.82428     16.030273    10.419661\n",
      "  15.437865   -18.85771     -0.6932496   25.18995    -28.20685\n",
      "  33.002117    52.22792      3.9188454  -17.271297   -14.332431\n",
      "  10.932585   -22.1954     -27.983673     8.997348    33.26628\n",
      "  24.497555     2.7021215  -48.18583    -18.871351     5.3431573\n",
      "  -7.2388444   -9.417621   -40.286972    -4.861923   -35.31156\n",
      "  -2.6150694   32.607204    35.10345    -31.955147    38.835598\n",
      "  -7.3680663   23.495026     3.4839668   12.00932     39.803623\n",
      "  18.55822     26.225327    20.376835    41.334557    14.235661\n",
      "   6.0519238  -22.847862    25.022537    28.645266    17.37425\n",
      "  24.128822     7.602562    15.414902    -1.6736887    6.933229\n",
      "   6.3744283    7.9139857   -1.1281976   -5.226557    32.564087\n",
      "   6.6759424  -14.355952    20.616793    -9.920148     8.517831\n",
      "  30.20828     10.992708    -4.35756    -29.66897      5.977704\n",
      "   6.963119    -9.32281     10.041914     8.092327    23.701704\n",
      "   3.2087975   -1.988461   -17.46179     42.97279    -15.292523\n",
      "  34.482327    18.182384     5.6700816   14.355171    26.844404\n",
      "  11.2251425  -23.457348    14.753018    20.70701    -10.962949\n",
      " -38.64124     28.334112     7.8301153  -12.15928     17.541609\n",
      "  19.54816     34.513752    15.916436   -24.09806    -16.5868\n",
      "  33.894978    -5.1862297   19.297146     1.1485087  -26.654839\n",
      "  25.59376      1.5609493  -20.47034    -25.61376   ]\n",
      "The accuracy of this model is69.56521739130434\n",
      "The rmse of this model is36.56132171209425\n",
      "Split: 4\n"
     ]
    },
    {
     "name": "stderr",
     "output_type": "stream",
     "text": [
      "/home/chris/anaconda3/lib/python3.8/site-packages/sklearn/preprocessing/_label.py:235: DataConversionWarning: A column-vector y was passed when a 1d array was expected. Please change the shape of y to (n_samples, ), for example using ravel().\n",
      "  y = column_or_1d(y, warn=True)\n",
      "/home/chris/anaconda3/lib/python3.8/site-packages/sklearn/preprocessing/_label.py:268: DataConversionWarning: A column-vector y was passed when a 1d array was expected. Please change the shape of y to (n_samples, ), for example using ravel().\n",
      "  y = column_or_1d(y, warn=True)\n"
     ]
    },
    {
     "name": "stdout",
     "output_type": "stream",
     "text": [
      "variables for auroc curve done. Processing fold accuracy + checking best model\n",
      "[ 26.10455      4.0263424   -0.67260826 -14.043427   -13.581183\n",
      " -14.343617    11.107583    -2.449843     5.388634    30.769875\n",
      " -13.985752   -18.970697   -12.48703    -11.697245    24.494062\n",
      "  10.553196    53.156815    -7.146778    -9.96343     -2.386331\n",
      "  10.434342    31.715986     0.16713151 -19.514091    18.895163\n",
      "   1.4878412   -5.7078266   18.954222     5.3506875  -30.65357\n",
      "   5.6346345  -34.38504     46.165043    -5.652784    29.680649\n",
      "  20.31561    -21.233894   -31.840542    20.991035     3.9122002\n",
      " -17.900673    51.26496     -5.544755   -18.412249    -0.7963909\n",
      "  26.576733    17.260918    48.09709     -2.1523418   12.974355\n",
      "  -4.031247    13.045353   -35.78096     35.593124    27.071457\n",
      "  14.904737   -14.785839    17.19527     48.0863       0.94795465\n",
      "   6.4969525   30.525408   -24.81069     -3.751494    13.898265\n",
      "  21.481766    14.246644     7.1621394   15.422191     6.03439\n",
      "  35.861317    -4.7285004   13.007839   -29.748823   -41.974403\n",
      " -31.65958     14.073675    51.204823    10.485303   -34.351364\n",
      "   3.1288848  -49.918644    43.849712   -16.234173   -25.245424\n",
      " -11.591209     7.122183    -0.9967357  -28.67247     22.682741\n",
      "  -1.4200653   20.92413     36.264996    12.693728    14.995847\n",
      " -11.41086      1.7586579   -6.160158    -6.150942    -4.891268\n",
      "   1.4367169   18.31063     45.650543   -13.802228   -19.895319\n",
      "   6.6057816   25.122372   -24.240858   -21.947409    33.74342\n",
      " -18.73002    -26.312992    -6.2138634  -30.315022   -27.48246\n",
      "  41.89145     25.564684    -2.594683    23.14522    -46.449314\n",
      "  38.481823    19.532608   -12.647241   -43.997265    -2.266773\n",
      "  13.445956    46.043114     6.8074536    7.8329167  -20.979544\n",
      " -13.319358    -6.8910193  -18.591486    -9.558062   -18.36448\n",
      "   3.4517071   -8.418277   -10.739861   -37.058212    -2.6029816\n",
      " -25.388935    51.66642      1.184999    19.192833    -1.0609157\n",
      "  -4.015373     7.749005     0.8119258   14.909       24.693853\n",
      "  30.421082    -4.3250294   12.982665    29.201256    14.477574\n",
      " -27.052835   -15.232446     8.414291    27.439472    -3.5517926\n",
      " -35.851574   -29.425962    48.985588    -2.3201492    7.148321\n",
      "  28.316635    30.243431    18.958628   -33.722725     0.6269501\n",
      "  38.21624    -25.833601   -17.84871      9.338948    34.406353\n",
      "   5.2013125   13.384348    11.398116    48.83898     11.392883\n",
      "   8.286987    25.769714    25.450987    39.412647  ]\n",
      "The accuracy of this model is64.67391304347827\n",
      "The rmse of this model is36.166442305914885\n",
      "found best new margin\n",
      "Split: 5\n"
     ]
    },
    {
     "name": "stderr",
     "output_type": "stream",
     "text": [
      "/home/chris/anaconda3/lib/python3.8/site-packages/sklearn/preprocessing/_label.py:235: DataConversionWarning: A column-vector y was passed when a 1d array was expected. Please change the shape of y to (n_samples, ), for example using ravel().\n",
      "  y = column_or_1d(y, warn=True)\n",
      "/home/chris/anaconda3/lib/python3.8/site-packages/sklearn/preprocessing/_label.py:268: DataConversionWarning: A column-vector y was passed when a 1d array was expected. Please change the shape of y to (n_samples, ), for example using ravel().\n",
      "  y = column_or_1d(y, warn=True)\n"
     ]
    },
    {
     "name": "stdout",
     "output_type": "stream",
     "text": [
      "variables for auroc curve done. Processing fold accuracy + checking best model\n",
      "[-1.5043847e+01  3.7268547e+01  1.7551315e+01  3.7331650e+01\n",
      "  2.0953190e+01  4.2704372e+01  4.8270527e+01  2.4123281e+01\n",
      " -3.0636811e+00 -1.2704652e+01  1.6593725e+01 -2.8885433e+01\n",
      " -2.6952900e+01  1.2664384e+01  4.8095837e+00  3.2866016e+01\n",
      " -1.0161623e+01  1.0535840e+01  3.5904179e+01 -2.2235905e+01\n",
      " -1.1402189e+01  2.8471525e+01  2.1791012e+01  2.1006298e+01\n",
      "  2.5283958e+01  3.5899300e+01 -2.4747474e+00 -2.1187973e+00\n",
      " -1.7791676e+01  1.0807117e+01 -1.9814892e+01 -3.2335815e+01\n",
      "  2.6350129e+00  3.8314812e+01  1.8398905e+01 -1.9498533e+01\n",
      "  5.8264413e+00 -3.0998577e+01  7.0406990e+00  1.2167774e+01\n",
      "  3.9624153e+01  5.0799911e+01  2.7760595e+01 -1.5737269e+00\n",
      "  4.1248825e+01  4.3766560e+01 -7.0916085e+00 -1.9046202e+01\n",
      " -1.7989620e+01 -2.4511408e+01  3.3459091e+01  3.8386414e+01\n",
      " -2.5085260e+01  2.3547693e+01  1.5513008e+01  1.1525885e+01\n",
      " -1.5152001e-01 -2.8628653e+01  1.4018969e+01  5.1669209e+01\n",
      " -1.1941898e+01  1.7065678e+01  1.2141931e+01  7.9249148e+00\n",
      "  2.0163383e+01 -2.5964787e+01 -1.2240668e+01  2.7896627e+01\n",
      "  1.7868837e+01 -9.6464472e+00  3.8995640e+01 -2.6246290e+01\n",
      " -2.1023705e+01  4.7532951e+01  2.2991052e+00  6.7433977e+00\n",
      "  2.3336803e+01  1.6993544e+01  1.1249457e+01  3.7346729e+01\n",
      " -4.0095611e+00  6.6811433e+00  2.1698008e+00 -3.8594723e+00\n",
      " -3.5637486e+01  1.4025871e+01  1.1977601e+01 -2.0669914e+01\n",
      "  1.2664349e+00 -8.1067634e-01  2.9297888e-02 -2.4886290e+01\n",
      "  4.6986332e+01 -9.9801617e+00 -6.0248990e+00 -1.7182985e+01\n",
      "  2.2294891e-01  1.2397315e+01  2.0488340e+01  2.6791212e+01\n",
      " -2.4064070e+01  1.3838870e+01  5.4272218e+00  2.0218461e+00\n",
      "  9.9841576e+00  4.3190132e+01 -2.2672487e+01 -1.4278300e+01\n",
      "  3.4819474e+00  2.2923065e+01 -1.3420157e+01  1.4150312e+00\n",
      "  2.2779766e+01 -2.7291426e+01 -1.3582499e+01 -4.4138026e+00\n",
      "  1.2806739e+01 -1.7671003e+00 -3.9443111e+01 -4.3079228e+00\n",
      "  2.2717411e+01  9.3487768e+00  1.5800128e+00  2.5378601e+01\n",
      " -4.0894085e+01  3.9450630e+01  1.3852366e+01 -3.9424561e+01\n",
      "  5.8113065e+00  7.1577859e+00  8.5197477e+00  6.5141625e+00\n",
      "  1.0706743e+01  1.0284961e+01  1.3232372e+01 -5.5894148e-01\n",
      "  1.1068979e+01  8.6762648e+00 -1.5773241e+01 -1.1197585e+01\n",
      " -7.2186863e-01 -2.6794571e+01  1.0587395e+01 -2.7358213e+01\n",
      "  3.6390442e+01  3.3671402e+01  1.7054708e+01  9.6171055e+00\n",
      " -1.4591830e+01  1.3014949e+01 -7.2399187e+00  5.7503734e+00\n",
      "  2.7635487e+01  3.6261486e+01 -3.7946991e+01  1.7901039e+01\n",
      "  4.2560871e+01  8.8869905e+00 -3.1960373e+01 -1.5533438e+01\n",
      " -2.3443990e+00 -2.7470156e+01  1.3405112e+01  9.1522026e+00\n",
      " -6.4749303e+00  1.8381012e+01  3.0555037e+01  1.3932560e+01\n",
      "  2.9111283e+00  3.7544484e+00 -5.1424365e+00  3.0857080e+01\n",
      " -2.0390708e+00 -3.0913170e+01  1.9558729e+01  2.5040684e+01\n",
      " -7.8418550e+00 -2.3070158e+01  1.9420778e+01  3.8774929e+00\n",
      "  1.6402533e+01 -2.6002116e+00  4.8491962e+01 -1.9814400e+01]\n",
      "The accuracy of this model is66.30434782608695\n",
      "The rmse of this model is37.1727150897501\n",
      "Split: 6\n"
     ]
    },
    {
     "name": "stderr",
     "output_type": "stream",
     "text": [
      "/home/chris/anaconda3/lib/python3.8/site-packages/sklearn/preprocessing/_label.py:235: DataConversionWarning: A column-vector y was passed when a 1d array was expected. Please change the shape of y to (n_samples, ), for example using ravel().\n",
      "  y = column_or_1d(y, warn=True)\n",
      "/home/chris/anaconda3/lib/python3.8/site-packages/sklearn/preprocessing/_label.py:268: DataConversionWarning: A column-vector y was passed when a 1d array was expected. Please change the shape of y to (n_samples, ), for example using ravel().\n",
      "  y = column_or_1d(y, warn=True)\n"
     ]
    },
    {
     "name": "stdout",
     "output_type": "stream",
     "text": [
      "variables for auroc curve done. Processing fold accuracy + checking best model\n",
      "[ 24.666008    23.484636    38.902405    33.903294   -30.983065\n",
      "  57.697056   -43.29972    -18.902975   -10.334825     5.762751\n",
      "  21.433302    39.38676      0.7859531  -19.215805    28.526836\n",
      " -42.132576   -29.84216     22.053467    16.037014    21.633791\n",
      "  -6.3840475   19.654379    20.778175    10.391675   -14.799613\n",
      "  28.965176    10.721231    53.567963    18.284872    27.484665\n",
      "  27.14839    -30.682283     0.09749949 -11.192567    10.066545\n",
      "  39.86567     11.289972   -15.77058     34.729527   -31.537937\n",
      " -35.80252    -20.980598    14.007153    11.286873     5.18622\n",
      "  15.301436     9.351709    34.800713   -14.095904   -33.28495\n",
      "  32.597248    30.11435    -15.282475    45.817818    -4.9163237\n",
      " -22.039396     9.000161     0.17132998  48.3887      26.830187\n",
      " -19.054913    50.308487    22.292011   -12.443437   -34.71302\n",
      "   2.434484     6.321639    -5.262685     4.410371    38.5805\n",
      " -15.805738    14.17007     24.136505   -20.594227   -20.936813\n",
      "  -7.4923973  -22.216793     4.759384   -39.502586   -13.5427475\n",
      "  19.611206    16.539001    34.664417    11.010765    27.184383\n",
      "  50.68463    -39.035995    42.535557    18.52        24.672949\n",
      "   6.756496    -8.135956     5.995118    -8.037899   -16.541916\n",
      " -29.870543    30.3053      39.84284    -10.548236    22.872812\n",
      "  16.39957     54.032074    23.83226      6.9224596    2.9323046\n",
      "  13.667217     5.076641   -16.165428    28.481365   -30.580862\n",
      "  38.14454      9.778559    16.453627    29.567368    38.88187\n",
      "   8.54363     51.295162    -7.4808865    1.3545513  -17.988432\n",
      "  14.065291    15.957441    -8.253486   -20.274729     7.088226\n",
      "   1.5589609   28.88202     -7.1181316    8.221966    -6.4299273\n",
      "  10.28445     -6.0428305    7.6350317  -16.986933    -4.144881\n",
      "   0.36439398  21.33037     23.741104    13.538732   -23.586943\n",
      "  37.625847   -24.54151      5.913314    -7.328952    -8.724277\n",
      "   8.593098     8.715505   -15.699759    21.866095   -16.72945\n",
      "   9.921209    10.686911    19.113535   -18.276054     7.3413763\n",
      "  -1.156745   -31.489109   -13.242773   -27.949793   -31.036152\n",
      " -30.783112    28.618006    12.677184     4.530128   -23.403091\n",
      "   4.178474    -8.218486    11.431905     3.2205436    6.458737\n",
      "   6.3911757    4.1070185   -0.8514539   39.55406     -8.003229\n",
      "   2.8367856   32.20172     31.187738    23.3246     -19.818802\n",
      "  -9.420207    35.231583     3.4977937 ]\n",
      "The accuracy of this model is71.58469945355192\n",
      "The rmse of this model is34.47859254511681\n",
      "found new best classify\n",
      "found best new margin\n",
      "Split: 7\n"
     ]
    },
    {
     "name": "stderr",
     "output_type": "stream",
     "text": [
      "/home/chris/anaconda3/lib/python3.8/site-packages/sklearn/preprocessing/_label.py:235: DataConversionWarning: A column-vector y was passed when a 1d array was expected. Please change the shape of y to (n_samples, ), for example using ravel().\n",
      "  y = column_or_1d(y, warn=True)\n",
      "/home/chris/anaconda3/lib/python3.8/site-packages/sklearn/preprocessing/_label.py:268: DataConversionWarning: A column-vector y was passed when a 1d array was expected. Please change the shape of y to (n_samples, ), for example using ravel().\n",
      "  y = column_or_1d(y, warn=True)\n"
     ]
    },
    {
     "name": "stdout",
     "output_type": "stream",
     "text": [
      "variables for auroc curve done. Processing fold accuracy + checking best model\n",
      "[-2.33433590e+01 -2.72767105e+01 -2.54454422e+00 -1.01766586e+00\n",
      "  4.33296824e+00 -3.35426102e+01  8.15056896e+00  2.84921989e+01\n",
      " -1.09143744e+01  2.00415096e+01 -3.28077850e+01  3.03454304e+01\n",
      " -1.09496622e+01 -3.36205254e+01 -2.54134502e+01  3.70657921e+01\n",
      "  3.22707748e+01 -4.38393364e+01  1.61742516e+01  2.00159912e+01\n",
      "  1.37259126e-01  7.15240574e+00  3.38848839e+01 -2.23866825e+01\n",
      " -7.62746906e+00  4.37932434e+01  2.26388531e+01 -1.91489840e+00\n",
      " -3.70123940e+01  5.06658325e+01  4.92750168e+00 -2.25228233e+01\n",
      "  2.95354156e+01 -6.44286633e-01  2.66291866e+01  5.84012461e+00\n",
      "  2.68800755e+01  8.76441860e+00  2.91737976e+01  3.82928581e+01\n",
      "  3.80477953e+00  3.22571335e+01  2.78264771e+01 -1.57270432e+01\n",
      " -1.17732868e+01 -1.15176535e+01 -1.63889904e+01 -6.15849161e+00\n",
      "  1.55035868e+01 -3.03660965e+01 -3.20371323e+01  4.70769930e+00\n",
      "  2.03885853e-01 -1.24044485e+01  9.52655888e+00  9.34841156e+00\n",
      "  4.47620888e+01  1.71995964e+01 -8.70859909e+00 -1.83379650e-03\n",
      "  3.37286224e+01  3.75551338e+01  4.00532722e+01 -3.94507360e+00\n",
      " -6.61209631e+00  1.29153795e+01  4.53801003e+01  3.54571629e+00\n",
      " -8.45600796e+00  3.15441246e+01 -1.33541405e+00  1.64668293e+01\n",
      " -8.17227077e+00 -1.23198013e+01  2.45127678e+01  2.69177608e+01\n",
      "  7.35577869e+00 -3.08830757e+01 -1.18961964e+01  1.98755417e+01\n",
      "  3.65332642e+01  2.47092838e+01 -2.37531433e+01  9.95677090e+00\n",
      " -4.33674622e+00  1.82793865e+01 -2.08660984e+01  3.20521698e+01\n",
      "  4.76463814e+01 -6.60954952e-01  1.48775482e+01 -3.35175247e+01\n",
      " -4.93572426e+00  4.38061447e+01 -2.75505841e-01  2.88485146e+01\n",
      " -3.47383842e+01  2.57071190e+01  1.43542230e+00 -2.47534657e+01\n",
      "  4.79061317e+01 -1.77808189e+01 -1.25015936e+01 -4.12922249e+01\n",
      "  7.04940891e+00  1.99556923e+01  2.43663902e+01 -2.36668949e+01\n",
      "  3.96885490e+01 -2.37439728e+00 -1.24090242e+01  5.95322418e+00\n",
      "  2.74246349e+01  1.74233036e+01  4.66743507e+01  4.18033524e+01\n",
      " -2.96996574e+01  4.65734253e+01  5.91449833e+00  1.28156586e+01\n",
      " -3.03086338e+01  1.85894070e+01  8.90790939e+00  2.33551445e+01\n",
      " -4.61769600e+01  3.55761623e+00 -3.15184975e+01  1.19373503e+01\n",
      "  2.44779930e+01  8.82763767e+00  1.55350885e+01  1.81441498e+01\n",
      "  2.06320024e+00  1.15575466e+01 -1.15607536e+00 -1.64574356e+01\n",
      " -7.85504627e+00 -7.00508308e+00  5.73256397e+00 -3.04651394e+01\n",
      "  7.86709547e+00  1.02717905e+01  1.21374798e+01  4.32923775e+01\n",
      " -3.94949112e+01 -1.00591221e+01  2.26475868e+01 -1.43915491e+01\n",
      " -3.17152405e+01  4.68831444e+01  1.99242725e+01  2.90993099e+01\n",
      " -2.36677036e+01 -2.00884266e+01  3.93531914e+01  5.60812092e+00\n",
      "  1.14942865e+01 -1.32417192e+01  1.05336256e+01 -1.38589401e+01\n",
      "  1.34282618e+01 -1.54960432e+01  1.99075546e+01  2.85164013e+01\n",
      "  2.31958733e+01 -1.13930302e+01  3.76671371e+01  1.32265530e+01\n",
      " -2.97064629e+01 -1.74174519e+01 -1.80340719e+00 -2.71845036e+01\n",
      " -1.93731098e+01  1.51952715e+01 -3.11159401e+01  2.76349182e+01\n",
      "  3.91036949e+01  4.49079895e+01  1.04350786e+01  1.16548929e+01\n",
      " -2.59581547e+01 -3.35743179e+01 -1.75709305e+01]\n",
      "The accuracy of this model is72.6775956284153\n",
      "The rmse of this model is35.1333922706014\n",
      "found new best classify\n",
      "Split: 8\n"
     ]
    },
    {
     "name": "stderr",
     "output_type": "stream",
     "text": [
      "/home/chris/anaconda3/lib/python3.8/site-packages/sklearn/preprocessing/_label.py:235: DataConversionWarning: A column-vector y was passed when a 1d array was expected. Please change the shape of y to (n_samples, ), for example using ravel().\n",
      "  y = column_or_1d(y, warn=True)\n",
      "/home/chris/anaconda3/lib/python3.8/site-packages/sklearn/preprocessing/_label.py:268: DataConversionWarning: A column-vector y was passed when a 1d array was expected. Please change the shape of y to (n_samples, ), for example using ravel().\n",
      "  y = column_or_1d(y, warn=True)\n"
     ]
    },
    {
     "name": "stdout",
     "output_type": "stream",
     "text": [
      "variables for auroc curve done. Processing fold accuracy + checking best model\n",
      "[-7.88558960e+00  3.51477699e+01 -8.95477676e+00  4.28895645e+01\n",
      " -1.52660561e+01 -3.20905533e+01  9.34747314e+00 -1.45665255e+01\n",
      "  3.50712395e+01  1.77013664e+01 -3.41570568e+00  4.03678436e+01\n",
      " -3.97351646e+00  3.84079819e+01  2.54615879e+01 -1.85481682e+01\n",
      "  1.90228825e+01  4.73353806e+01  1.06647549e+01  9.71109200e+00\n",
      "  1.40245762e+01  1.15072212e+01  2.49793873e+01  3.12280869e+00\n",
      "  4.56570358e+01 -1.92973638e+00  2.82985325e+01 -1.35922499e+01\n",
      " -4.25072021e+01  2.05477810e+01  2.92877846e+01 -1.59699955e+01\n",
      " -3.44217911e+01  2.13065510e+01  3.70521202e+01  2.55002785e+01\n",
      " -2.14822845e+01 -3.50916710e+01  3.63838272e+01 -2.74288826e+01\n",
      "  1.71987667e+01 -1.39837990e+01  6.44755888e+00  4.13330030e+00\n",
      " -2.26803474e+01 -1.32506161e+01  4.08972778e+01  1.95230770e+01\n",
      " -1.94306717e+01 -1.82544327e+01 -1.07945442e+01 -6.81858826e+00\n",
      "  4.26661682e+00  4.34274902e+01 -2.28437805e+01  5.12204666e+01\n",
      " -1.70285816e+01 -4.76597548e-02  1.47367344e+01  1.71077995e+01\n",
      "  1.89852448e+01  4.99875259e+01 -7.19417810e+00 -8.52289009e+00\n",
      "  1.51836271e+01 -3.00230808e+01 -4.91857338e+01 -2.98350811e+01\n",
      "  1.60987816e+01  3.25170660e+00 -2.01299000e+01  2.89438591e+01\n",
      "  1.80076618e+01  2.45834179e+01  2.55841331e+01  2.14252453e+01\n",
      "  3.24613533e+01  1.49893928e+00 -1.20191753e+00  1.31366005e+01\n",
      " -3.74026833e+01  1.53794203e+01  4.89934502e+01 -1.16074152e+01\n",
      "  1.80193596e+01  2.70213108e+01  2.00036430e+01  4.05460052e+01\n",
      "  9.64410210e+00 -2.53157120e+01 -1.42496376e+01  1.98507786e+01\n",
      "  2.81799202e+01  2.09621677e+01  1.76462917e+01  2.00451145e+01\n",
      "  2.77234039e+01 -4.48111248e+00  5.25442505e+00 -1.05964966e+01\n",
      "  4.60353508e+01 -1.29925051e+01  1.67671452e+01  4.99193239e+00\n",
      "  3.63305130e+01  7.93551028e-01  1.16584120e+01  1.78864574e+01\n",
      " -5.99182224e+00 -3.03156495e+00  1.06794605e+01  6.32289219e+00\n",
      "  1.80299437e+00 -3.57069321e+01  1.37921915e+01  1.88848686e+00\n",
      "  8.38690758e+00 -4.10118217e+01  1.43855572e+01  4.56028938e+01\n",
      " -2.30789928e+01  3.20093994e+01  6.91819715e+00 -3.00255346e+00\n",
      " -2.46118565e+01  7.54257631e+00  1.71318398e+01  6.52106285e+00\n",
      "  2.69706879e+01  2.15490875e+01  4.47562575e-01  1.48000956e+01\n",
      " -3.45610237e+01 -6.59453678e+00  3.20216675e+01  2.63813744e+01\n",
      " -3.07132950e+01  7.94893885e+00 -2.43719597e+01 -4.46425581e+00\n",
      "  1.02482567e+01  3.75078487e+00  4.08278427e+01 -2.87600231e+01\n",
      "  2.83315697e+01  1.37508268e+01  2.86639366e+01  5.07640791e+00\n",
      " -6.09786129e+00 -2.34669800e+01 -1.24117746e+01  4.28317356e+00\n",
      "  1.55572567e+01  1.16195345e+01 -1.51987863e+00  3.39871101e+01\n",
      "  1.46203461e+01 -2.20459690e+01 -1.67151794e+01 -2.17094707e+01\n",
      "  4.21351776e+01  3.36137152e+00 -1.67298145e+01  1.40371857e+01\n",
      "  1.61278267e+01 -2.95987010e+00  2.80601292e+01 -2.47671318e+01\n",
      " -1.68681774e+01 -6.34583521e+00 -1.35084629e+01 -2.91637897e+01\n",
      " -1.87949944e+00  1.61717072e+01  3.00512333e+01  1.43241251e+00\n",
      "  4.32520981e+01 -3.12751560e+01 -1.18063469e+01  1.01332216e+01\n",
      " -1.17522583e+01 -8.46832085e+00 -1.65659199e+01]\n",
      "The accuracy of this model is69.39890710382514\n",
      "The rmse of this model is34.257698069209525\n",
      "found best new margin\n",
      "Split: 9\n"
     ]
    },
    {
     "name": "stderr",
     "output_type": "stream",
     "text": [
      "/home/chris/anaconda3/lib/python3.8/site-packages/sklearn/preprocessing/_label.py:235: DataConversionWarning: A column-vector y was passed when a 1d array was expected. Please change the shape of y to (n_samples, ), for example using ravel().\n",
      "  y = column_or_1d(y, warn=True)\n",
      "/home/chris/anaconda3/lib/python3.8/site-packages/sklearn/preprocessing/_label.py:268: DataConversionWarning: A column-vector y was passed when a 1d array was expected. Please change the shape of y to (n_samples, ), for example using ravel().\n",
      "  y = column_or_1d(y, warn=True)\n"
     ]
    },
    {
     "name": "stdout",
     "output_type": "stream",
     "text": [
      "variables for auroc curve done. Processing fold accuracy + checking best model\n",
      "[ 1.30721569e+01  6.05362320e+00  2.31099758e+01 -5.27525139e+00\n",
      " -1.23344707e+00  4.47266483e+00  3.80855942e+00 -1.25116501e+01\n",
      "  4.39949656e+00 -1.65177464e-01 -2.80419197e+01  3.45059738e+01\n",
      " -1.67479954e+01  2.00925922e+01  7.25958109e+00  2.96630116e+01\n",
      " -1.35048399e+01  6.24533367e+00  3.05319290e+01 -1.10320730e+01\n",
      " -1.01044333e+00  1.26700459e+01  3.49314308e+01 -3.82166290e+00\n",
      "  2.92140627e+00  3.54292107e+01  4.51158218e+01  1.91437817e+01\n",
      "  1.83102531e+01  5.75008812e+01  3.93557167e+01 -2.14712906e+00\n",
      " -1.79740295e+01  5.88409185e+00  7.98858786e+00 -1.50040245e+00\n",
      "  3.14011917e+01  5.57995415e+00 -1.26569319e+01  1.71635075e+01\n",
      "  1.54815464e+01 -1.83509712e+01 -2.71752429e+00  1.71182098e+01\n",
      " -3.05009003e+01 -2.64696541e+01 -4.75345650e+01  1.72177830e+01\n",
      "  3.87745171e+01  3.27324333e+01 -1.53486204e+01  7.28752708e+00\n",
      " -3.92299385e+01 -1.05858564e+01  1.25881493e-01  3.20344772e+01\n",
      "  1.82263832e+01 -3.89614582e+00  1.48085213e+01  3.23171005e+01\n",
      " -1.78499889e+01 -1.32370777e+01  2.04187298e+01 -1.27765093e+01\n",
      "  3.80866890e+01 -6.20992851e+00 -1.40210934e+01  3.16889324e+01\n",
      "  7.98113966e+00  3.13612099e+01  2.35931358e+01  9.45994568e+00\n",
      "  5.44626617e+01 -2.52379265e+01 -1.74825993e+01 -1.48912334e+01\n",
      " -2.64790421e+01 -1.64427929e+01  2.52163200e+01  3.17080355e+00\n",
      " -1.36135197e+00  1.44203777e+01  5.63314438e+00  1.12480106e+01\n",
      "  4.44469070e+01 -2.94753361e+01  1.86117077e+01  1.58079565e+00\n",
      "  1.69334736e+01  3.00523281e+01 -1.31781578e+01  7.31814766e+00\n",
      "  1.90164452e+01  1.77877884e+01  1.61295128e+01 -3.98358612e+01\n",
      " -1.10778389e+01  2.79537544e+01  5.42314148e+01 -1.49548149e+01\n",
      " -6.54947901e+00  1.83031960e+01 -4.38120613e+01 -2.66923161e+01\n",
      "  6.19709969e+01  1.45390902e+01  1.05489702e+01 -1.36610346e+01\n",
      "  5.57923775e+01  3.90723763e+01  2.97347298e+01  8.16549969e+00\n",
      "  9.45490932e+00 -1.05406275e+01  1.79227409e+01  4.23206062e+01\n",
      "  4.12866783e+01  2.72134361e+01 -4.01454687e+00 -2.67563992e+01\n",
      "  7.70942748e-01  7.72697020e+00  2.65326366e+01 -1.16369448e+01\n",
      "  2.53171787e+01  9.57214355e+00  4.79242134e+01  1.57519674e+01\n",
      "  9.72486854e-01  8.33561802e+00 -2.74022400e-01  4.71746111e+00\n",
      "  1.77222836e+00 -3.21401954e+00 -2.75715771e+01  3.74308128e+01\n",
      " -1.49648976e+00 -1.94895725e+01  1.20654440e+01 -3.55678844e+00\n",
      "  2.79322281e+01  2.66200562e+01  9.02149773e+00  1.97445011e+01\n",
      " -1.29199028e-03  2.56654682e+01 -8.80838394e+00 -7.16905165e+00\n",
      "  1.77981052e+01 -4.12363482e+00  3.49673233e+01  3.12654133e+01\n",
      " -1.23043365e+01  5.06137962e+01  2.43431320e+01  2.51781344e+00\n",
      "  5.26522789e+01  4.71004629e+00 -1.78231335e+01  6.82083893e+00\n",
      "  3.22076797e+01  2.14360008e+01 -1.95742912e+01  8.47895622e+00\n",
      "  1.88388958e+01 -2.61892815e+01  8.75150108e+00  3.02991810e+01\n",
      "  3.05060635e+01 -4.13139839e+01  5.09369707e+00  2.16636906e+01\n",
      " -1.65234928e+01 -3.41076012e+01  1.07032442e+01 -2.98247108e+01\n",
      "  4.14929104e+00 -3.77340775e+01  5.23953772e+00  7.99701548e+00\n",
      " -3.41540833e+01 -1.79984913e+01  1.56527939e+01]\n",
      "The accuracy of this model is59.01639344262295\n",
      "The rmse of this model is38.11356315123627\n",
      "Split: 10\n"
     ]
    },
    {
     "name": "stderr",
     "output_type": "stream",
     "text": [
      "/home/chris/anaconda3/lib/python3.8/site-packages/sklearn/preprocessing/_label.py:235: DataConversionWarning: A column-vector y was passed when a 1d array was expected. Please change the shape of y to (n_samples, ), for example using ravel().\n",
      "  y = column_or_1d(y, warn=True)\n",
      "/home/chris/anaconda3/lib/python3.8/site-packages/sklearn/preprocessing/_label.py:268: DataConversionWarning: A column-vector y was passed when a 1d array was expected. Please change the shape of y to (n_samples, ), for example using ravel().\n",
      "  y = column_or_1d(y, warn=True)\n"
     ]
    },
    {
     "name": "stdout",
     "output_type": "stream",
     "text": [
      "variables for auroc curve done. Processing fold accuracy + checking best model\n",
      "[-1.67844200e+01  3.37441139e+01  1.28558340e+01  6.44335651e+00\n",
      "  4.52083549e+01 -3.34530687e+00  8.99226665e+00  3.53579369e+01\n",
      "  3.42789917e+01  3.66457748e+01  6.83656597e+00 -1.96092281e+01\n",
      "  2.92064552e+01 -1.96868477e+01  1.70449886e+01  4.17624817e+01\n",
      "  6.77211571e+00  1.29268064e+01  1.63420975e-01 -2.22926731e+01\n",
      " -1.35486231e+01  1.50820017e+01 -4.65977554e+01 -1.52894983e+01\n",
      "  9.98726130e-01 -1.25265837e+01  1.64840603e+01  7.01408081e+01\n",
      " -4.09158134e+01 -1.45335550e+01 -2.93200588e+01  2.39488335e+01\n",
      " -3.82659645e+01  1.14612885e+01 -2.30738392e+01  1.31107788e+01\n",
      " -5.29763031e+00 -2.22886372e+01 -5.25823479e+01  7.35486650e+00\n",
      " -8.80282688e+00 -6.87008500e-01 -2.36768646e+01  7.95812416e+00\n",
      " -3.49754448e+01 -3.36456375e+01  3.60641365e+01 -3.27662659e+01\n",
      " -1.15017118e+01  3.35180473e+01  3.30928955e+01 -1.77971592e+01\n",
      " -6.73162222e+00 -1.62980404e+01  1.21613588e+01  7.36410046e+00\n",
      "  3.10949078e+01  9.81121445e+00  3.90047035e+01  1.32805490e+01\n",
      " -1.15423155e+01  3.86237755e+01  5.14043093e+00 -1.37790365e+01\n",
      "  3.65150142e+00  2.67749329e+01  1.50308475e+01 -1.10644054e+01\n",
      " -6.61719704e+00  1.28353958e+01 -2.44584465e+01  2.67815132e+01\n",
      "  3.79163628e+01  3.59119339e+01 -2.19214840e+01 -1.20845385e+01\n",
      "  2.73485031e+01  2.76816139e+01 -5.64135933e+00  1.05827694e+01\n",
      " -7.24578476e+00  4.31836281e+01  3.89452820e+01  3.44098511e+01\n",
      " -3.24197426e+01  1.95347614e+01  3.02534914e+00 -1.84492569e+01\n",
      "  2.56556177e+00  4.55231934e+01  4.29961383e-02  1.32547140e+01\n",
      "  1.73007889e+01 -4.80296421e+00 -9.27896023e+00 -3.98626208e-01\n",
      " -8.16191483e+00  3.17935753e+01 -3.37790070e+01 -1.60421276e+01\n",
      "  1.20747652e+01  6.72151470e+00  1.03442678e+01  3.22743034e+01\n",
      "  1.73492527e+01 -1.66270790e+01 -2.26325779e+01  3.37602081e+01\n",
      " -2.71906996e+00 -9.14694309e+00  1.23213110e+01  2.67184296e+01\n",
      " -6.50173187e+00  1.21355209e+01 -1.79868031e+01  6.63194704e+00\n",
      "  1.68327656e+01  9.69292641e+00  2.73392086e+01  1.71322403e+01\n",
      "  1.43080139e+01 -1.03195124e+01  1.77240562e+01 -1.68843002e+01\n",
      "  1.71936493e+01  8.05716801e+00  5.64154100e+00  3.29826665e+00\n",
      "  1.45492716e+01  1.20811958e+01 -4.35844600e-01  5.24926567e+00\n",
      "  1.18698130e+01 -4.02498779e+01  2.06515551e+00  3.65576286e+01\n",
      "  1.84233341e+01 -6.22344303e+00  4.19024515e+00  1.56216450e+01\n",
      "  4.60899353e+01 -1.43442850e+01  1.46033545e+01  7.71232510e+00\n",
      " -1.58529587e+01  2.28504963e+01  9.60838318e+00  3.13137054e+01\n",
      "  9.68322754e+00  1.87587948e+01  2.96909504e+01 -2.24118519e+01\n",
      "  1.30250769e+01  4.81560860e+01  5.12333727e+00  3.86364288e+01\n",
      " -2.54533291e+01  2.28235874e+01  1.59393206e+01 -4.04755516e+01\n",
      "  3.33308868e+01  4.47385101e+01  3.38834229e+01  4.19684601e+01\n",
      "  1.21576662e+01  2.50559330e+01  2.49543743e+01  2.10825920e+01\n",
      " -3.67771149e+00  1.02781277e+01  8.04556787e-01 -3.70719719e+01\n",
      " -6.40552282e-01  6.09555435e+00  9.58629322e+00  3.06739864e+01\n",
      " -9.60506344e+00  3.46085358e+01  4.27035141e+01  1.44952574e+01\n",
      "  3.80139999e+01 -1.12526302e+01  3.04731369e+01]\n",
      "The accuracy of this model is68.85245901639344\n",
      "The rmse of this model is34.18411507645218\n",
      "found best new margin\n",
      "Best win percentage split = 72.6775956284153\n",
      "Best margin rmse = 34.18411507645218\n",
      "Training Testing Accuracy: 67.63% (3.83%)\n",
      "Training Testing Margins: 35.98% (1.32%)\n",
      "(1826, 1)\n",
      "(1826, 1)\n",
      "(1826, 1051)\n",
      "X_train shape: (1643, 1051)\n",
      "X_test shape: (183, 1051)\n",
      "Fitting 10 folds for each of 12 candidates, totalling 120 fits\n"
     ]
    },
    {
     "name": "stderr",
     "output_type": "stream",
     "text": [
      "[Parallel(n_jobs=1)]: Using backend SequentialBackend with 1 concurrent workers.\n",
      "[Parallel(n_jobs=1)]: Done 120 out of 120 | elapsed:  1.6min finished\n"
     ]
    },
    {
     "name": "stdout",
     "output_type": "stream",
     "text": [
      "best score: 0.6518563603164942\n",
      "Fitting 10 folds for each of 12 candidates, totalling 120 fits\n"
     ]
    },
    {
     "name": "stderr",
     "output_type": "stream",
     "text": [
      "[Parallel(n_jobs=1)]: Using backend SequentialBackend with 1 concurrent workers.\n",
      "[Parallel(n_jobs=1)]: Done 120 out of 120 | elapsed:  1.2min finished\n"
     ]
    },
    {
     "name": "stdout",
     "output_type": "stream",
     "text": [
      "best score: 0.6518563603164942\n",
      "Fitting 10 folds for each of 12 candidates, totalling 120 fits\n"
     ]
    },
    {
     "name": "stderr",
     "output_type": "stream",
     "text": [
      "[Parallel(n_jobs=1)]: Using backend SequentialBackend with 1 concurrent workers.\n",
      "[Parallel(n_jobs=1)]: Done 120 out of 120 | elapsed:  2.0min finished\n"
     ]
    },
    {
     "name": "stdout",
     "output_type": "stream",
     "text": [
      "best score: 0.657334144856969\n",
      "Fitting 10 folds for each of 12 candidates, totalling 120 fits\n"
     ]
    },
    {
     "name": "stderr",
     "output_type": "stream",
     "text": [
      "[Parallel(n_jobs=1)]: Using backend SequentialBackend with 1 concurrent workers.\n",
      "[Parallel(n_jobs=1)]: Done 120 out of 120 | elapsed:  3.0min finished\n"
     ]
    },
    {
     "name": "stdout",
     "output_type": "stream",
     "text": [
      "best score: 0.674984783931832\n",
      "Fitting 10 folds for each of 12 candidates, totalling 120 fits\n"
     ]
    },
    {
     "name": "stderr",
     "output_type": "stream",
     "text": [
      "[Parallel(n_jobs=1)]: Using backend SequentialBackend with 1 concurrent workers.\n",
      "[Parallel(n_jobs=1)]: Done 120 out of 120 | elapsed:  4.1min finished\n"
     ]
    },
    {
     "name": "stdout",
     "output_type": "stream",
     "text": [
      "best score: 0.674984783931832\n",
      "X_train shape: (1643, 1051)\n",
      "X_test shape: (183, 1051)\n",
      "Fitting 10 folds for each of 12 candidates, totalling 120 fits\n"
     ]
    },
    {
     "name": "stderr",
     "output_type": "stream",
     "text": [
      "[Parallel(n_jobs=1)]: Using backend SequentialBackend with 1 concurrent workers.\n",
      "[Parallel(n_jobs=1)]: Done 120 out of 120 | elapsed:  2.6min finished\n"
     ]
    },
    {
     "name": "stdout",
     "output_type": "stream",
     "text": [
      "best score: 0.2545324089709434\n",
      "Fitting 10 folds for each of 12 candidates, totalling 120 fits\n"
     ]
    },
    {
     "name": "stderr",
     "output_type": "stream",
     "text": [
      "[Parallel(n_jobs=1)]: Using backend SequentialBackend with 1 concurrent workers.\n",
      "[Parallel(n_jobs=1)]: Done 120 out of 120 | elapsed:  1.4min finished\n"
     ]
    },
    {
     "name": "stdout",
     "output_type": "stream",
     "text": [
      "best score: 0.2545324089709434\n",
      "Fitting 10 folds for each of 12 candidates, totalling 120 fits\n"
     ]
    },
    {
     "name": "stderr",
     "output_type": "stream",
     "text": [
      "[Parallel(n_jobs=1)]: Using backend SequentialBackend with 1 concurrent workers.\n",
      "[Parallel(n_jobs=1)]: Done 120 out of 120 | elapsed:  5.2min finished\n"
     ]
    },
    {
     "name": "stdout",
     "output_type": "stream",
     "text": [
      "best score: 0.2683303477051725\n",
      "Fitting 10 folds for each of 12 candidates, totalling 120 fits\n"
     ]
    },
    {
     "name": "stderr",
     "output_type": "stream",
     "text": [
      "[Parallel(n_jobs=1)]: Using backend SequentialBackend with 1 concurrent workers.\n",
      "[Parallel(n_jobs=1)]: Done 120 out of 120 | elapsed:  2.1min finished\n"
     ]
    },
    {
     "name": "stdout",
     "output_type": "stream",
     "text": [
      "best score: 0.2683303477051725\n",
      "Fitting 10 folds for each of 12 candidates, totalling 120 fits\n"
     ]
    },
    {
     "name": "stderr",
     "output_type": "stream",
     "text": [
      "[Parallel(n_jobs=1)]: Using backend SequentialBackend with 1 concurrent workers.\n",
      "[Parallel(n_jobs=1)]: Done 120 out of 120 | elapsed:  5.0min finished\n"
     ]
    },
    {
     "name": "stdout",
     "output_type": "stream",
     "text": [
      "best score: 0.2683303477051725\n",
      "      Margin\n",
      "0      -21.0\n",
      "1       42.0\n",
      "2      -34.0\n",
      "3      -37.0\n",
      "4      -24.0\n",
      "...      ...\n",
      "1821   -20.0\n",
      "1822   -23.0\n",
      "1823   -67.0\n",
      "1824   -14.0\n",
      "1825    56.0\n",
      "\n",
      "[1826 rows x 1 columns]\n",
      "      H_PAV_Sum  A_PAV_Sum  Ladder Pos_H  Form_H  Season Wins_H  \\\n",
      "0        215.03     251.84           3.0     3.0            3.0   \n",
      "1        257.08     204.98           6.0     2.0            2.0   \n",
      "2        258.08     178.63           4.0     3.0            3.0   \n",
      "3        226.35     190.95           9.0     1.0            1.0   \n",
      "4        235.92     212.38          10.0     1.0            1.0   \n",
      "...         ...        ...           ...     ...            ...   \n",
      "1821     197.86     247.83          16.0     1.0            6.0   \n",
      "1822     190.88     243.49          13.0     1.0            8.0   \n",
      "1823     183.34     212.96          18.0     0.0            2.0   \n",
      "1824     211.20     282.11          10.0     1.0           11.0   \n",
      "1825     253.91     195.19          11.0     1.0            9.0   \n",
      "\n",
      "      Season Loss_H  Season Draw_H  H_H/A? n-1  H_H/A Win? n-1  \\\n",
      "0               0.0            0.0         1.0             1.0   \n",
      "1               1.0            0.0         1.0             1.0   \n",
      "2               0.0            0.0         0.0             0.0   \n",
      "3               2.0            0.0         1.0             1.0   \n",
      "4               2.0            0.0         1.0             1.0   \n",
      "...             ...            ...         ...             ...   \n",
      "1821           15.0            0.0         1.0             0.0   \n",
      "1822           13.0            0.0         1.0             0.0   \n",
      "1823           19.0            0.0         1.0             0.0   \n",
      "1824           10.0            0.0         0.0             1.0   \n",
      "1825           12.0            0.0         1.0             1.0   \n",
      "\n",
      "      H_Points For n-1  ...  A_Venue n-3_Mars Stadium  \\\n",
      "0                131.0  ...                       0.0   \n",
      "1                145.0  ...                       0.0   \n",
      "2                135.0  ...                       0.0   \n",
      "3                140.0  ...                       0.0   \n",
      "4                177.0  ...                       0.0   \n",
      "...                ...  ...                       ...   \n",
      "1821              57.0  ...                       0.0   \n",
      "1822              67.0  ...                       0.0   \n",
      "1823              74.0  ...                       0.0   \n",
      "1824              66.0  ...                       0.0   \n",
      "1825             146.0  ...                       0.0   \n",
      "\n",
      "      A_Venue n-3_Marvel Stadium  A_Venue n-3_Metricon Stadium  \\\n",
      "0                            0.0                           0.0   \n",
      "1                            0.0                           0.0   \n",
      "2                            1.0                           0.0   \n",
      "3                            0.0                           0.0   \n",
      "4                            0.0                           0.0   \n",
      "...                          ...                           ...   \n",
      "1821                         0.0                           0.0   \n",
      "1822                         0.0                           0.0   \n",
      "1823                         0.0                           1.0   \n",
      "1824                         0.0                           0.0   \n",
      "1825                         0.0                           0.0   \n",
      "\n",
      "      A_Venue n-3_Optus Stadium  A_Venue n-3_Riverway Stadium  \\\n",
      "0                           0.0                           0.0   \n",
      "1                           0.0                           0.0   \n",
      "2                           0.0                           0.0   \n",
      "3                           0.0                           0.0   \n",
      "4                           0.0                           0.0   \n",
      "...                         ...                           ...   \n",
      "1821                        1.0                           0.0   \n",
      "1822                        0.0                           0.0   \n",
      "1823                        0.0                           0.0   \n",
      "1824                        0.0                           0.0   \n",
      "1825                        0.0                           0.0   \n",
      "\n",
      "      A_Venue n-3_SCG  A_Venue n-3_TIO Stadium  A_Venue n-3_TIO Traeger Park  \\\n",
      "0                 0.0                      0.0                           0.0   \n",
      "1                 0.0                      0.0                           0.0   \n",
      "2                 0.0                      0.0                           0.0   \n",
      "3                 0.0                      0.0                           0.0   \n",
      "4                 0.0                      0.0                           0.0   \n",
      "...               ...                      ...                           ...   \n",
      "1821              0.0                      0.0                           0.0   \n",
      "1822              0.0                      0.0                           0.0   \n",
      "1823              0.0                      0.0                           0.0   \n",
      "1824              1.0                      0.0                           0.0   \n",
      "1825              0.0                      0.0                           0.0   \n",
      "\n",
      "      A_Venue n-3_University of Tasmania Stadium  A_Venue n-3_Westpac Stadium  \n",
      "0                                            0.0                          0.0  \n",
      "1                                            0.0                          0.0  \n",
      "2                                            0.0                          0.0  \n",
      "3                                            0.0                          0.0  \n",
      "4                                            0.0                          0.0  \n",
      "...                                          ...                          ...  \n",
      "1821                                         0.0                          0.0  \n",
      "1822                                         0.0                          0.0  \n",
      "1823                                         0.0                          0.0  \n",
      "1824                                         0.0                          0.0  \n",
      "1825                                         0.0                          0.0  \n",
      "\n",
      "[1826 rows x 1051 columns]\n",
      "Split: 1\n"
     ]
    },
    {
     "name": "stderr",
     "output_type": "stream",
     "text": [
      "/home/chris/anaconda3/lib/python3.8/site-packages/sklearn/preprocessing/_label.py:235: DataConversionWarning: A column-vector y was passed when a 1d array was expected. Please change the shape of y to (n_samples, ), for example using ravel().\n",
      "  y = column_or_1d(y, warn=True)\n",
      "/home/chris/anaconda3/lib/python3.8/site-packages/sklearn/preprocessing/_label.py:268: DataConversionWarning: A column-vector y was passed when a 1d array was expected. Please change the shape of y to (n_samples, ), for example using ravel().\n",
      "  y = column_or_1d(y, warn=True)\n"
     ]
    },
    {
     "name": "stdout",
     "output_type": "stream",
     "text": [
      "variables for auroc curve done. Processing fold accuracy + checking best model\n",
      "[ -2.0887306   32.68936     11.92483     10.488402    42.58206\n",
      "   2.0993094    9.540387   -29.990269   -44.773975   -22.219147\n",
      "  40.208546    23.547508     0.19891405 -14.750735    32.24841\n",
      "  26.70411     29.18616     17.144817    -5.040237     8.874095\n",
      "  -9.243409    16.817608    13.743503    33.804085     9.276447\n",
      "   2.2453454    9.938869    -1.0403999   15.857007   -18.797543\n",
      "  25.292892    47.693512     4.3134284   14.954709    10.876318\n",
      "   9.133427    -5.212046     2.7546158   29.129282   -37.910103\n",
      "  34.48305     22.758507    14.01458      4.654677    10.899633\n",
      "  38.59297      5.8417497  -33.624187    11.166781    17.949114\n",
      "  17.005383    35.188225   -18.647097    55.582558    54.7823\n",
      "  24.256163    -1.5176461   10.400464   -21.796432     2.656752\n",
      " -28.924276    -8.474867    12.433331   -14.679088    31.792097\n",
      " -31.991108   -20.27644     26.178879   -15.276987    12.248762\n",
      " -17.67439     25.122375    29.680025    18.420254     7.658564\n",
      "  17.674374   -22.335503     5.22692     20.294466     7.2079144\n",
      "  11.876522    17.063953   -17.842817    20.389793    37.347267\n",
      "  19.472712     2.3140287   -4.6395054   -2.401218    14.612038\n",
      " -21.129492    -7.8805647   29.209179    13.743684   -18.999292\n",
      " -29.380392   -18.183626     2.658423    -1.9389095   17.773056\n",
      "  23.105152    16.282665     8.968139    14.134734     0.95636326\n",
      "   9.073564   -22.853107     0.22686923   4.258309     2.7949636\n",
      " -28.724457    -9.145487   -12.79508     15.879967    13.399642\n",
      "   6.9626746   12.85954     25.44408     17.913479     5.2539988\n",
      "  22.71392      8.282299     9.592863    11.975405     5.205282\n",
      "   7.938102    -9.319874    34.886295    -3.8264189   -9.479057\n",
      " -12.072319     4.6870723   15.511827    -5.5977945    5.0901136\n",
      " -32.45663     13.403998    55.527664     4.2475705   40.1118\n",
      "  -7.3514743   42.305088    13.822214    19.285769   -19.671347\n",
      "  -2.3015578   17.121794    11.838952     6.826503    25.641108\n",
      "  30.746176     3.9888768   13.775531    12.093018    14.1164255\n",
      " -16.554962   -16.359913     6.426443    27.889809     4.945485\n",
      "  15.179139    14.038548    12.8113785    6.343259   -15.684309\n",
      "   5.7385287    1.5218263  -50.39682    -27.561605     5.5277734\n",
      "   0.87118906   9.075465    10.142842    23.979631   -14.642968\n",
      "   0.59508204  30.553097    27.184364    10.777748    16.030813\n",
      "   9.606798    30.186783    -3.7626252 ]\n",
      "The accuracy of this model is60.65573770491803\n",
      "The rmse of this model is34.526140092401896\n",
      "found new best classify\n",
      "found best new margin\n",
      "Split: 2\n"
     ]
    },
    {
     "name": "stderr",
     "output_type": "stream",
     "text": [
      "/home/chris/anaconda3/lib/python3.8/site-packages/sklearn/preprocessing/_label.py:235: DataConversionWarning: A column-vector y was passed when a 1d array was expected. Please change the shape of y to (n_samples, ), for example using ravel().\n",
      "  y = column_or_1d(y, warn=True)\n",
      "/home/chris/anaconda3/lib/python3.8/site-packages/sklearn/preprocessing/_label.py:268: DataConversionWarning: A column-vector y was passed when a 1d array was expected. Please change the shape of y to (n_samples, ), for example using ravel().\n",
      "  y = column_or_1d(y, warn=True)\n"
     ]
    },
    {
     "name": "stdout",
     "output_type": "stream",
     "text": [
      "variables for auroc curve done. Processing fold accuracy + checking best model\n",
      "[-7.31653595e+00  2.34739017e+01  2.21992378e+01  2.36170197e+01\n",
      "  2.15025806e+01  6.13883553e+01  1.28757353e+01 -9.24581623e+00\n",
      "  1.99961929e+01  4.77098999e+01  2.64724808e+01  3.05733929e+01\n",
      " -1.13067513e+01  3.48075638e+01  1.04698954e+01  1.43891230e+01\n",
      "  1.20717449e+01  1.51921854e+01 -2.18118305e+01 -3.56573639e+01\n",
      "  9.90077591e+00  1.99160347e+01  3.32831230e+01  4.26421394e+01\n",
      "  2.57490921e+01 -1.16754360e+01  1.58275366e+00  4.96871281e+00\n",
      "  2.85068512e+01  9.11444092e+00  6.70807695e+00 -1.16777124e+01\n",
      "  2.14983120e+01 -7.09473276e+00  7.67912960e+00  7.58759737e-01\n",
      "  2.34924965e+01  4.18969498e+01 -4.06618786e+00  1.00124617e+01\n",
      " -1.63686962e+01  1.72126274e+01  1.36376991e+01  4.62696600e+00\n",
      "  8.18316460e+00 -2.22768898e+01  2.86459103e+01  8.39804459e+00\n",
      " -2.40138650e-01  3.01504230e+01  3.57115860e+01 -1.82396774e+01\n",
      " -2.43964996e+01  2.54218369e+01  5.13453007e+00  2.70726871e+01\n",
      "  9.62398624e+00  1.53929510e+01 -1.29158163e+01  1.59834356e+01\n",
      "  2.42712212e+01 -2.09031372e+01  2.88603926e+00  2.69300137e+01\n",
      " -2.43002939e+00 -2.09039898e+01 -2.39474678e+01  9.13066387e+00\n",
      " -1.43230476e+01 -1.96453533e+01  2.32245083e+01  2.99926414e+01\n",
      "  1.83614864e+01  1.47406979e+01  1.16649401e+00  2.82547283e+01\n",
      " -1.36339655e+01  2.57463741e+01  3.32390327e+01 -3.48858261e+01\n",
      "  1.60838985e+01  2.06184063e+01  3.89296188e+01 -8.72790527e+00\n",
      " -6.48033285e+00  1.50377331e+01  1.71039712e+00  3.07636261e-02\n",
      "  1.43937445e+01 -8.35154819e+00  3.29893684e+00 -9.36959839e+00\n",
      "  1.36490231e+01  2.09465008e+01  8.65667057e+00  7.61467218e+00\n",
      "  2.62659512e+01  3.49969840e+00 -1.41945715e+01  3.96069741e+00\n",
      "  4.16477547e+01  1.03251762e+01  1.44756517e+01  1.90885773e+01\n",
      "  2.81363716e+01 -2.49593902e+00 -8.16226673e+00 -6.51054955e+00\n",
      "  1.29693661e+01 -2.20027981e+01  5.12396383e+00  6.97777653e+00\n",
      " -3.16344528e+01 -7.57176018e+00 -2.89981441e+01  4.20833206e+01\n",
      " -3.41416626e+01 -1.26068945e+01  1.99609528e+01  1.03819780e+01\n",
      "  5.77009010e+00 -3.20384908e+00 -2.27887268e+01  1.69060497e+01\n",
      "  1.52551832e+01 -3.54767876e+01  2.97002182e+01 -6.97978783e+00\n",
      " -1.63334160e+01 -4.88028765e+00 -2.47905827e+00  2.55071812e+01\n",
      "  7.54043221e-01  1.09544582e+01 -4.12696686e+01  1.53378363e+01\n",
      "  9.77348709e+00 -2.31003895e+01  3.29128456e+00 -4.23804343e-01\n",
      "  9.47580338e-01  2.38046017e+01 -1.39133930e+01 -4.03837967e+00\n",
      " -1.70698586e+01  2.07705574e+01  4.61740923e+00  1.21651726e+01\n",
      "  1.60218601e+01 -1.56919556e+01 -2.10456219e+01  3.87218666e+01\n",
      "  1.44182148e+01  7.46907854e+00  5.54132414e+00 -2.92168789e+01\n",
      "  1.47174239e-01 -8.37373161e+00  1.97839737e+01  1.29849615e+01\n",
      "  9.12766171e+00 -7.31355715e+00  1.30478363e+01  1.16543617e+01\n",
      "  1.70125523e+01  3.67079639e+00 -1.19167197e+00 -7.19741392e+00\n",
      " -1.76464958e+01  3.18180103e+01  1.97970314e+01  2.28280067e+00\n",
      "  2.19885883e+01  2.77300205e+01  2.08362083e+01  2.14192200e+01\n",
      "  4.45116639e-01 -1.98378258e+01  1.27586927e+01 -1.60087261e+01\n",
      "  1.42646532e+01  3.74528160e+01 -2.10128708e+01]\n",
      "The accuracy of this model is69.94535519125684\n",
      "The rmse of this model is34.905092292878656\n",
      "found new best classify\n",
      "Split: 3\n"
     ]
    },
    {
     "name": "stderr",
     "output_type": "stream",
     "text": [
      "/home/chris/anaconda3/lib/python3.8/site-packages/sklearn/preprocessing/_label.py:235: DataConversionWarning: A column-vector y was passed when a 1d array was expected. Please change the shape of y to (n_samples, ), for example using ravel().\n",
      "  y = column_or_1d(y, warn=True)\n",
      "/home/chris/anaconda3/lib/python3.8/site-packages/sklearn/preprocessing/_label.py:268: DataConversionWarning: A column-vector y was passed when a 1d array was expected. Please change the shape of y to (n_samples, ), for example using ravel().\n",
      "  y = column_or_1d(y, warn=True)\n"
     ]
    },
    {
     "name": "stdout",
     "output_type": "stream",
     "text": [
      "variables for auroc curve done. Processing fold accuracy + checking best model\n",
      "[ 29.273592    12.43457     -5.2958727   23.574669    19.079248\n",
      "  23.735104    49.425133    13.473464     3.7577205    3.5916584\n",
      " -19.981552    12.248424   -27.502687     5.3516684  -25.021519\n",
      "   0.6549163   14.357772     9.942899    41.48717      3.9281905\n",
      " -14.829613     2.769213    -0.9559103   -6.863448     2.9009318\n",
      " -18.663565     4.6490593   16.859709    35.369286    -8.317141\n",
      " -15.5631485    2.235085    16.12679     -0.8641478   27.798775\n",
      " -28.020168    12.328727   -30.734564     4.5690665   38.430573\n",
      "  26.602291    44.168453   -13.874002     3.8840752    7.819521\n",
      "   3.45313    -10.408471    32.78287    -19.606724    -5.736014\n",
      "  11.416174   -12.754087    35.597366    28.794344    -3.3698394\n",
      "   1.2730116   13.425475   -27.302567    30.48315    -25.636341\n",
      " -29.351995     1.7308406   42.49472     33.891567   -16.2396\n",
      " -15.208939    19.265875    20.320951    -8.638496    30.396227\n",
      "  27.915411    -8.049149    -1.4405742    7.1004324  -14.843843\n",
      " -13.832639   -11.111779    19.653032    17.456264     9.259344\n",
      " -18.892239     5.897005   -18.766464    44.1022     -11.539885\n",
      " -13.336375     7.6016035    9.844737   -13.427704    34.866833\n",
      " -45.19855     11.767531     9.865965    23.699741    -9.265539\n",
      "  -8.963782    10.036803    10.635804    23.590576    37.31865\n",
      " -32.396645   -16.93633     -5.77286      8.18796     14.6464205\n",
      "  -3.9038057   11.580371    35.30134     -3.9531217   18.149904\n",
      "   3.1284475    7.9246006   17.78723     15.933021    20.41393\n",
      "  37.208515   -23.773283     7.4520473  -26.773497     9.35884\n",
      "  17.258352    -0.81206846  -1.8453345   18.255947     5.198136\n",
      "  23.519175     5.202079   -10.072427     9.116869    24.167303\n",
      "   8.107681    -6.7399526  -21.132853    21.70016     -6.749885\n",
      "  14.340294   -14.152149    21.09796    -23.459398    35.746437\n",
      "  13.469529    27.933292    10.829934   -10.23796     41.02065\n",
      " -18.341745    23.330097     8.363674    15.811144     5.30686\n",
      "  -2.0771134    6.618249    10.159352   -17.15514     30.444668\n",
      "  31.200968    21.135033    -6.6275516   -0.99617684  23.781523\n",
      "  10.447148    18.43779     33.64959     28.40991     18.080105\n",
      "  29.37907     -5.5792465   -8.580473    18.037872   -11.3787985\n",
      " -30.423285    25.402355    -0.10970181  37.84971     -0.96239555\n",
      " -26.259626     2.7203639   37.65504     11.447259     4.189783\n",
      "  -2.4403386  -13.055125    24.909418  ]\n",
      "The accuracy of this model is61.74863387978142\n",
      "The rmse of this model is36.783411702903656\n",
      "Split: 4\n"
     ]
    },
    {
     "name": "stderr",
     "output_type": "stream",
     "text": [
      "/home/chris/anaconda3/lib/python3.8/site-packages/sklearn/preprocessing/_label.py:235: DataConversionWarning: A column-vector y was passed when a 1d array was expected. Please change the shape of y to (n_samples, ), for example using ravel().\n",
      "  y = column_or_1d(y, warn=True)\n",
      "/home/chris/anaconda3/lib/python3.8/site-packages/sklearn/preprocessing/_label.py:268: DataConversionWarning: A column-vector y was passed when a 1d array was expected. Please change the shape of y to (n_samples, ), for example using ravel().\n",
      "  y = column_or_1d(y, warn=True)\n"
     ]
    },
    {
     "name": "stdout",
     "output_type": "stream",
     "text": [
      "variables for auroc curve done. Processing fold accuracy + checking best model\n",
      "[  5.464129    50.869747     7.260116   -36.148685    15.146372\n",
      "   3.6422336    1.287771   -15.7947235  -25.723877   -14.987857\n",
      "  25.210554   -27.488281   -11.661949    11.346226     9.670572\n",
      "   8.940686    24.483858     2.5192935   10.233966     1.3626256\n",
      " -20.505095   -30.522533   -13.648841   -32.241756   -33.744698\n",
      " -25.574362   -11.518144     9.129698   -33.97726      1.7638848\n",
      "  29.861189    18.672379    31.461668   -15.841993    46.224358\n",
      "  42.187763    -0.80719423  -5.411719   -23.84421     42.658524\n",
      " -11.941206    -0.5568218   28.75936     20.422714   -13.091472\n",
      "  18.446524    21.88474     -0.815408    33.471294    26.34275\n",
      "  -7.979048     6.1286864    1.7324506   22.438873     3.3949893\n",
      "  31.319546     8.943712    25.949242     1.6620438   -1.1564071\n",
      "  18.658434   -13.084973    26.644918     9.757312    15.581585\n",
      "  19.41535     20.922815    39.41939     12.654395    24.32255\n",
      "   4.7359877  -28.268581   -26.56527      2.7462857   25.675852\n",
      "  26.087969    22.102364    -9.854719    14.354772     7.537709\n",
      " -32.35524    -11.989982    11.423568    22.559055    11.102746\n",
      " -17.105719     3.3125267   15.930644     2.139462    -5.829238\n",
      " -15.894707     7.356378    19.93328     -0.99023175  54.477203\n",
      " -21.233068   -15.437829     9.867079    38.038017     8.057783\n",
      "  -1.0408373  -16.065958    17.333565    13.343705    28.568148\n",
      "   1.6940122  -27.630127    41.769722    -5.870977   -22.48762\n",
      "  18.786507     3.270778    -3.1508112   39.818123     7.222154\n",
      " -38.552094    34.38085    -10.761933   -30.346722    10.410982\n",
      "  31.189962    20.366802    10.512286     4.785603    18.612038\n",
      "  -8.900337    25.595068    18.37333     -3.7220592   14.533852\n",
      "  18.465757    -5.0520363   21.483376    -3.7941232   26.45637\n",
      " -36.001278     0.8761177   53.30947     22.413368    -8.078323\n",
      "   6.305914     6.3293247    2.1748343   16.644547     5.6372476\n",
      "  24.512527    24.870436    26.196781   -14.886333    34.889103\n",
      " -21.016157   -18.319971    39.68104     25.677637   -17.30666\n",
      "  23.565702    22.747953     5.8205504   14.371841     0.65249383\n",
      "  12.454238     7.567121    36.04359     14.437068    -2.856698\n",
      "  -4.7162714  -16.691471    41.184307    -0.09261781  -5.5439024\n",
      "   8.153723    32.166386   -10.875657    -8.0261345  -23.82493\n",
      "  -8.175799    -3.94833     -7.728175    -3.5517426   22.72878\n",
      "  -0.903389    -7.376237    33.351963  ]\n",
      "The accuracy of this model is72.1311475409836\n",
      "The rmse of this model is36.95065855040399\n",
      "found new best classify\n",
      "Split: 5\n"
     ]
    },
    {
     "name": "stderr",
     "output_type": "stream",
     "text": [
      "/home/chris/anaconda3/lib/python3.8/site-packages/sklearn/preprocessing/_label.py:235: DataConversionWarning: A column-vector y was passed when a 1d array was expected. Please change the shape of y to (n_samples, ), for example using ravel().\n",
      "  y = column_or_1d(y, warn=True)\n",
      "/home/chris/anaconda3/lib/python3.8/site-packages/sklearn/preprocessing/_label.py:268: DataConversionWarning: A column-vector y was passed when a 1d array was expected. Please change the shape of y to (n_samples, ), for example using ravel().\n",
      "  y = column_or_1d(y, warn=True)\n"
     ]
    },
    {
     "name": "stdout",
     "output_type": "stream",
     "text": [
      "variables for auroc curve done. Processing fold accuracy + checking best model\n",
      "[ -6.387132     3.7131953  -12.107366    18.303316   -40.369995\n",
      "   7.3119125   -9.717639   -24.701052    29.890211    37.39473\n",
      "  17.278885    -0.05860674  13.0078535   29.987709    42.07328\n",
      "  36.763607    10.049754    -1.3459499   -2.255346   -11.276657\n",
      "  -1.1631849   11.00456    -27.457357     7.2792883   46.379044\n",
      " -40.662838    18.105082   -40.21336     14.464004   -11.181579\n",
      "  48.0136      35.336697    -3.9707599   34.019302    19.750008\n",
      " -14.878892    19.29222     13.108839     5.52472     20.279953\n",
      " -20.004559   -18.847242    29.050343    -5.1942177   36.035286\n",
      " -17.301708   -23.572834    -8.366984   -13.505573     8.241529\n",
      " -15.589363   -43.85786    -17.511326    14.950963    -5.1621337\n",
      "   1.249632     1.8932593   -2.6849854  -30.623665    -0.62094057\n",
      " -30.97801     -3.3267262   26.233982    22.480366     9.468919\n",
      "  -1.1754551    4.5989523    2.9156659    8.435038     0.25079045\n",
      "   1.2246529    6.3826613   -2.7860062  -26.140018     9.000723\n",
      "  27.532164    12.620568    19.656675    14.078745   -18.516047\n",
      "   7.3646917  -18.199593     3.5273292  -21.143898    30.619303\n",
      "  -8.641525     2.597824     8.316049    -0.646858   -22.322338\n",
      "  30.710526   -10.792363    -2.1175642   19.641552     7.5881977\n",
      " -25.585085     9.469985     8.2649765   23.121975    19.660131\n",
      "  18.517185   -11.206355     9.207243    10.167488    16.05384\n",
      " -20.889786    29.599445   -17.52696      1.1043534  -32.245792\n",
      " -22.601679    15.571981    37.580513    21.759584    -6.8563766\n",
      "  -8.000139    43.886       17.36847     46.36463    -18.421297\n",
      "  16.112125    23.592205     9.320926    -2.6490438   -1.1041526\n",
      "  18.004416     6.972681     2.8914604   -8.641849    32.57557\n",
      "  -5.317226    -0.44406593   8.189279   -22.314854     2.4640152\n",
      " -15.410965    28.983574   -16.996025     4.971469    -9.055953\n",
      "  22.365618     7.332487    14.310516    16.07945      3.2254589\n",
      "   3.958963    13.254445     9.211529    34.131245   -19.90053\n",
      "  -1.3166746   17.65102     -5.0973587   13.672452   -20.100063\n",
      "  11.356884    17.794188   -16.452763   -12.304032   -16.93512\n",
      "   1.3402586   33.01841    -17.690498    35.40059    -22.21064\n",
      "  10.658415    17.819384    11.259921   -21.060087    12.313864\n",
      "   6.5334864   -5.990234    19.835932    27.8458      19.77498\n",
      "  -7.984498    -2.9404688   -0.16221952 -11.257839    -0.72941446\n",
      "  15.631341    41.29167    -36.99021   ]\n",
      "The accuracy of this model is68.30601092896174\n",
      "The rmse of this model is34.58999988902949\n",
      "Split: 6\n"
     ]
    },
    {
     "name": "stderr",
     "output_type": "stream",
     "text": [
      "/home/chris/anaconda3/lib/python3.8/site-packages/sklearn/preprocessing/_label.py:235: DataConversionWarning: A column-vector y was passed when a 1d array was expected. Please change the shape of y to (n_samples, ), for example using ravel().\n",
      "  y = column_or_1d(y, warn=True)\n",
      "/home/chris/anaconda3/lib/python3.8/site-packages/sklearn/preprocessing/_label.py:268: DataConversionWarning: A column-vector y was passed when a 1d array was expected. Please change the shape of y to (n_samples, ), for example using ravel().\n",
      "  y = column_or_1d(y, warn=True)\n"
     ]
    },
    {
     "name": "stdout",
     "output_type": "stream",
     "text": [
      "variables for auroc curve done. Processing fold accuracy + checking best model\n",
      "[ -3.9120746   -8.093637    -9.403938    23.845043   -15.474153\n",
      " -22.464617    -5.5008326   39.34405     26.461945    59.623997\n",
      "  34.10055     -4.719996    -5.97791     -3.2789237   46.29773\n",
      " -36.358143     3.2939177   32.517788    -3.920536    14.571402\n",
      "  23.935625    19.682848    20.97965      4.9749255   10.5325\n",
      "  16.751213    13.641841     8.560329   -14.31132    -21.30394\n",
      "  53.822422    16.923553     9.779922   -32.583397   -26.460035\n",
      "   3.5173042  -35.940323    39.344643     6.068522    -3.8350859\n",
      "  -9.457207    16.29164      4.5311947    3.3249211   42.84869\n",
      " -17.075085     4.6798854  -17.269772    35.913227    -1.030068\n",
      "  24.718447   -23.494186    29.56244     42.71682      9.079042\n",
      "  29.36574     10.3898945   -8.532148    14.539264   -17.46984\n",
      " -11.074      -12.574925   -14.406133    32.420753     5.556948\n",
      "  41.058758    -0.3519851   20.003986     2.4048455    3.8826842\n",
      "  44.47275    -36.245014    -1.2606131    2.805062    31.222979\n",
      " -20.526115    44.19475    -28.948708     0.98037565   4.2632914\n",
      " -19.698233    10.368183    17.98246     -3.6852555  -11.056976\n",
      "   4.246016    -5.100461    24.917627   -36.14183     34.79199\n",
      "  28.348665    22.800566    -8.911209     1.5975662   25.05483\n",
      " -36.048393   -22.440878   -17.451216   -23.998873   -27.661573\n",
      "  -2.783128    20.6733       2.324425   -15.902374   -25.188917\n",
      " -22.26384      8.980977    -0.7902311   38.317608    11.514528\n",
      " -30.471844    -2.780653    41.726017    13.875579    14.60044\n",
      "  24.028128   -32.077583     6.1658826   13.044739   -25.741997\n",
      "  34.2954     -13.289283    16.767874    29.715748     5.275041\n",
      "  -1.6660476   58.501057     2.9298885  -16.233128   -11.235841\n",
      " -23.278757   -11.361887    -7.9869986    2.8579006   15.176849\n",
      " -12.512461   -16.938318    28.590897     2.9327662   24.631346\n",
      " -17.279646     5.8190765  -12.658698    -3.2545362   22.225346\n",
      " -10.264868   -14.468069     4.792424     3.5504146   -8.07716\n",
      "  -5.450386     5.691853   -15.937828    12.396619    16.8444\n",
      "  14.568987    12.863406     0.23710102 -14.607858   -12.423057\n",
      "  37.897606     3.8838553    0.61959076 -20.414541   -18.358652\n",
      "  11.409673    -1.9622171   31.5298     -18.684227    10.321366\n",
      " -31.445288   -15.949133     3.1624808   -1.6516914   -6.4247227\n",
      "  28.825695   -20.80474     10.37312    -46.943703     0.29069763\n",
      "  16.25911     11.205912    35.620216  ]\n",
      "The accuracy of this model is63.934426229508205\n",
      "The rmse of this model is37.386353016403575\n",
      "Split: 7\n"
     ]
    },
    {
     "name": "stderr",
     "output_type": "stream",
     "text": [
      "/home/chris/anaconda3/lib/python3.8/site-packages/sklearn/preprocessing/_label.py:235: DataConversionWarning: A column-vector y was passed when a 1d array was expected. Please change the shape of y to (n_samples, ), for example using ravel().\n",
      "  y = column_or_1d(y, warn=True)\n",
      "/home/chris/anaconda3/lib/python3.8/site-packages/sklearn/preprocessing/_label.py:268: DataConversionWarning: A column-vector y was passed when a 1d array was expected. Please change the shape of y to (n_samples, ), for example using ravel().\n",
      "  y = column_or_1d(y, warn=True)\n"
     ]
    },
    {
     "name": "stdout",
     "output_type": "stream",
     "text": [
      "variables for auroc curve done. Processing fold accuracy + checking best model\n",
      "[ 24.25191    -13.433352    -9.23739     23.074795   -13.78516\n",
      "  35.54201    -42.51101     15.043053   -58.16144      4.2899904\n",
      " -23.340372    36.63804     25.486872    20.571707    34.4158\n",
      "   5.143553   -12.302597   -28.999632    28.18727      6.942106\n",
      "  39.102875   -17.511948    14.674704    25.022602    24.945219\n",
      "  61.865044   -27.29836     34.15347     15.211756    -3.2497325\n",
      " -18.316608    18.82457    -22.020273     4.9753976  -23.498846\n",
      "  20.487791    -2.97808     19.943743   -23.782045     7.894344\n",
      "  58.82914     13.497727     5.113746   -20.340858    15.649899\n",
      "  21.36096     -1.7492425  -27.382711     8.295333   -23.67603\n",
      "  14.413496   -31.43546     12.726756    11.041213    32.71758\n",
      "  31.356047     2.914945    26.09474     13.853737    27.021399\n",
      "   9.628175    19.179974    13.447245   -23.087805    -3.750247\n",
      "   4.6428123  -39.093204    15.485405   -35.629147    18.034605\n",
      "  35.566406     3.117199    -8.983088    -8.9605055   50.846157\n",
      "  18.111282     0.7941613   22.670204    42.598484    30.479109\n",
      "  22.423555    27.983625    -2.9183598    8.25025      9.796602\n",
      "  24.229912    40.85223      1.7104704   10.98057     36.676586\n",
      " -14.073848   -24.65662    -31.7583       5.1132164    8.753108\n",
      "  18.395681   -39.531982    -5.2473636   -7.227043    -8.659449\n",
      " -17.25882      7.989488    36.2119     -19.594648     5.891208\n",
      "  -7.4910483   30.432442    19.273315    30.828485    48.74594\n",
      "   8.041326    30.264093   -15.851156    18.0101     -36.587162\n",
      "   9.162633   -30.449024     0.50280815 -29.826525    43.049023\n",
      "  17.019676    19.642708   -11.118776    17.758614   -11.004375\n",
      "  21.823809    22.49064     -3.8987231   22.522738     8.070418\n",
      "  17.64656     38.700535     6.5611076   21.756369     8.030557\n",
      "   1.8337975   14.093162    -7.635849    -2.25309    -10.456746\n",
      "   3.671504     5.855847     5.7755733   17.018045   -10.641588\n",
      " -17.895329     3.6884713  -20.516924    -2.5619555   25.984573\n",
      "   5.358944    -8.222834    -0.39213544  -0.17218417 -13.278179\n",
      "  27.301825    29.68998     -1.3309327  -22.869814    -7.9883327\n",
      "  13.534981    34.720455     7.646711    23.552748     7.905167\n",
      "   9.249418   -11.179827   -23.275972    24.876677    12.081552\n",
      "  -2.7274294    1.7597781    1.554884     3.9428828   12.58981\n",
      "  23.850578    -8.188009    32.807858    13.217715   -14.778983\n",
      "  12.714182    -3.7417598 ]\n",
      "The accuracy of this model is65.38461538461539\n",
      "The rmse of this model is36.39156381661564\n",
      "Split: 8\n"
     ]
    },
    {
     "name": "stderr",
     "output_type": "stream",
     "text": [
      "/home/chris/anaconda3/lib/python3.8/site-packages/sklearn/preprocessing/_label.py:235: DataConversionWarning: A column-vector y was passed when a 1d array was expected. Please change the shape of y to (n_samples, ), for example using ravel().\n",
      "  y = column_or_1d(y, warn=True)\n",
      "/home/chris/anaconda3/lib/python3.8/site-packages/sklearn/preprocessing/_label.py:268: DataConversionWarning: A column-vector y was passed when a 1d array was expected. Please change the shape of y to (n_samples, ), for example using ravel().\n",
      "  y = column_or_1d(y, warn=True)\n"
     ]
    },
    {
     "name": "stdout",
     "output_type": "stream",
     "text": [
      "variables for auroc curve done. Processing fold accuracy + checking best model\n",
      "[ 21.02354     -5.6575103  -18.387331    43.199028    17.985453\n",
      " -26.088963   -33.890568   -12.156664    27.899921   -14.140498\n",
      "  18.275799    -0.99171996   5.733343     0.06596652 -11.01207\n",
      "   6.6958933   20.26949     26.442678    23.958612   -21.716301\n",
      "  19.940228   -41.55934     41.7637       1.9629654   28.270252\n",
      "   2.425764     9.412235    -3.514216   -16.937796    21.152224\n",
      "  30.006788    10.419747   -28.43266      9.046496     8.111332\n",
      " -16.071142    36.840336    15.637198     4.326438   -39.974014\n",
      " -19.539223     0.18358225  14.695814    23.10516    -18.004646\n",
      " -35.666397    21.844557    25.902723     8.084344   -15.351329\n",
      "  -3.158304    28.179733   -40.17527     44.33626     -7.7002544\n",
      " -26.248497   -22.01505    -11.308994    13.330658    -9.69848\n",
      "  -4.856143   -28.381456    15.397719    15.92023     13.977917\n",
      " -11.5208235  -32.023327    16.75917     19.018902    23.380909\n",
      "   3.9202564  -25.678003     5.0583754  -17.244999    17.181107\n",
      "   8.351513     1.0184461  -14.018162   -10.502018     7.8812647\n",
      "  31.913315   -34.302307    36.707443    -6.145395    -0.6781478\n",
      "  31.876295     8.2987175  -11.425253    33.69831     14.595503\n",
      "  25.063734    18.60135      2.6753664   35.344086    27.602522\n",
      "   1.0064695    1.5395777   -1.3525575   16.995138   -18.939995\n",
      "  15.749164    16.681387     9.800026   -12.560382    -5.750357\n",
      "  34.462387   -17.194422    -1.5253942   27.488949    -1.5541897\n",
      "   7.915093    -0.33845717  14.561231   -15.1632595   32.195076\n",
      "   9.759119    35.104927   -10.966954     7.7670474   26.139458\n",
      "  18.0363      -4.5069175   -1.4599246   10.997462     2.0165322\n",
      " -12.854823   -26.651905     1.095779     7.0140204    6.0108304\n",
      "  -3.9290462   -0.37661523   3.8076339    9.007719     7.1408353\n",
      "  12.734674     3.8687544    2.4496467    5.5542254  -38.535145\n",
      "  -3.301692    -1.615758    -3.7918382  -12.338757    11.725947\n",
      "  -1.4309254   15.316263   -16.008034     2.4736617   39.941906\n",
      "  13.989097   -17.791136     0.9982901   -7.0857477   37.637962\n",
      "  13.95705     -7.693879    15.993376     3.97757     23.080236\n",
      "  20.3721      26.7383     -23.907509    32.20087     11.542463\n",
      "  22.193504   -34.599506    -8.508875   -14.143671     1.722019\n",
      " -40.82535     45.328003    26.746107    48.883286    34.123974\n",
      "  49.32573    -15.274493    21.459488    -3.292473    43.14506\n",
      "  -5.5246835   -8.778955  ]\n",
      "The accuracy of this model is60.98901098901099\n",
      "The rmse of this model is37.94925689093682\n",
      "Split: 9\n"
     ]
    },
    {
     "name": "stderr",
     "output_type": "stream",
     "text": [
      "/home/chris/anaconda3/lib/python3.8/site-packages/sklearn/preprocessing/_label.py:235: DataConversionWarning: A column-vector y was passed when a 1d array was expected. Please change the shape of y to (n_samples, ), for example using ravel().\n",
      "  y = column_or_1d(y, warn=True)\n",
      "/home/chris/anaconda3/lib/python3.8/site-packages/sklearn/preprocessing/_label.py:268: DataConversionWarning: A column-vector y was passed when a 1d array was expected. Please change the shape of y to (n_samples, ), for example using ravel().\n",
      "  y = column_or_1d(y, warn=True)\n"
     ]
    },
    {
     "name": "stdout",
     "output_type": "stream",
     "text": [
      "variables for auroc curve done. Processing fold accuracy + checking best model\n",
      "[ 8.97726059e+00 -3.81208076e+01 -1.48729162e+01 -3.66050835e+01\n",
      "  2.43335609e+01 -2.47671566e+01 -1.60612125e+01 -4.41410637e+00\n",
      "  3.36020660e+01  4.80178871e+01  4.81579361e+01 -8.40002918e+00\n",
      "  3.10848117e+00 -9.99705029e+00  1.39157362e+01 -1.08574381e+01\n",
      "  1.68013268e+01  2.17372913e+01  1.14669008e+01  6.55501366e+00\n",
      "  2.14281559e+00 -1.83927422e+01 -1.13093643e+01 -3.16342783e+00\n",
      "  3.12518291e+01  1.00818882e+01 -1.79311619e+01  7.43262386e+00\n",
      "  9.84403896e+00  4.25988655e+01  4.36915932e+01 -2.11389751e+01\n",
      " -2.76348591e-02 -5.18235922e+00  4.10402374e+01  2.17342968e+01\n",
      "  1.16657887e+01 -1.43487492e+01 -8.43442822e+00  6.42578554e+00\n",
      " -2.41632404e+01  4.24742432e+01  1.84182243e+01  1.20565720e+01\n",
      "  1.70852509e+01 -1.14550686e+00 -6.66342688e+00  3.03223934e+01\n",
      " -4.40465689e+00  6.73347759e+00 -9.20359421e+00  1.29517949e+00\n",
      "  2.89463177e+01  5.06471100e+01 -2.15125275e+01  3.74061275e+00\n",
      " -3.22753143e+01  5.84655952e+00  2.93191290e+00  2.36635733e+00\n",
      " -7.28748989e+00 -4.69983387e+00 -1.73070450e+01  3.97329178e+01\n",
      "  3.98345375e+01  9.76927280e+00  1.87155800e+01 -1.00003023e+01\n",
      "  2.22390232e+01  7.26906359e-01  3.61079712e+01 -2.38690376e+01\n",
      "  1.61353531e+01  4.14744949e+01 -2.71153316e+01  1.12710524e+01\n",
      "  1.07516928e+01  4.50456276e+01  6.19142437e+00  1.47279110e+01\n",
      " -1.95099354e+01  6.70049095e+00 -8.29781723e+00  1.41466885e+01\n",
      "  1.70349045e+01  2.08309326e+01 -5.49226570e+00  2.28501111e-01\n",
      " -9.46932507e+00  2.29629707e+01 -1.89501915e+01  2.42814083e+01\n",
      " -2.61870346e+01  2.17223682e+01 -1.42248738e+00  5.98910713e+00\n",
      "  1.23913898e+01  4.21359100e+01 -1.16810360e+01 -3.70971203e+00\n",
      " -8.70877171e+00 -3.52272987e+00  3.33520432e+01 -1.11721220e+01\n",
      " -8.01123714e+00 -3.85215092e+00  3.95114861e+01  1.88514786e+01\n",
      " -3.60479212e+00  5.25821953e+01 -2.03663044e+01  3.36865425e+01\n",
      " -5.04697943e+00  4.48675270e+01 -1.33092737e+01  8.73258305e+00\n",
      " -5.74569702e-01 -2.68934011e+00 -3.01914577e+01  2.74315319e+01\n",
      " -2.01023045e+01 -2.16192551e+01  1.11069322e+00  2.65617847e+01\n",
      "  2.19975243e+01 -2.23367977e+00  2.57668266e+01 -4.60516119e+00\n",
      "  3.50857329e+00  3.27789230e+01  1.49445887e+01 -1.99072323e+01\n",
      "  1.39198561e+01 -2.29829025e+00  1.53398266e+01  1.60032082e+01\n",
      " -1.30217180e+01  1.87625351e+01 -6.18201494e+00 -2.86336064e+00\n",
      "  2.11444931e+01 -1.62760601e+01 -2.29917908e+00  2.18244953e+01\n",
      "  7.49765205e+00  1.45883417e+01 -6.94277334e+00 -5.41113138e+00\n",
      "  2.99710751e+01  1.70961151e+01 -1.33198242e+01  1.57145224e+01\n",
      " -2.70601797e+00 -2.24274292e+01  3.49419098e+01 -3.77039146e+00\n",
      "  6.42143869e+00  3.20428872e+00 -2.44028807e+00  1.59083405e+01\n",
      " -6.25474882e+00  9.04590321e+00 -1.23864908e+01 -8.50644588e+00\n",
      "  8.30786324e+00  1.47456226e+01  1.23396482e+01  1.54702339e+01\n",
      " -1.27354765e+01 -1.09055338e+01 -4.79796219e+00  2.89094305e+00\n",
      " -2.16603680e+01  2.32576714e+01 -3.51057930e+01  2.98743172e+01\n",
      " -1.53495932e+01 -2.16749501e+00  2.71385498e+01  3.66502037e+01\n",
      " -2.47457581e+01  1.23599901e+01]\n",
      "The accuracy of this model is69.23076923076923\n",
      "The rmse of this model is34.46646097645728\n",
      "found best new margin\n",
      "Split: 10\n"
     ]
    },
    {
     "name": "stderr",
     "output_type": "stream",
     "text": [
      "/home/chris/anaconda3/lib/python3.8/site-packages/sklearn/preprocessing/_label.py:235: DataConversionWarning: A column-vector y was passed when a 1d array was expected. Please change the shape of y to (n_samples, ), for example using ravel().\n",
      "  y = column_or_1d(y, warn=True)\n",
      "/home/chris/anaconda3/lib/python3.8/site-packages/sklearn/preprocessing/_label.py:268: DataConversionWarning: A column-vector y was passed when a 1d array was expected. Please change the shape of y to (n_samples, ), for example using ravel().\n",
      "  y = column_or_1d(y, warn=True)\n"
     ]
    },
    {
     "name": "stdout",
     "output_type": "stream",
     "text": [
      "variables for auroc curve done. Processing fold accuracy + checking best model\n",
      "[ 4.80797195e+01 -1.89194279e+01  5.39482765e+01  6.20672941e+00\n",
      "  4.81126022e+01  2.49037933e+00  3.37726860e+01 -1.39764080e+01\n",
      "  2.27276211e+01 -4.31010485e+00 -2.68090286e+01  1.67213345e+01\n",
      "  4.09167576e+00  1.75311339e+00 -1.27378349e+01  4.45158806e+01\n",
      " -4.31037674e+01 -2.94362116e+00 -1.52076511e+01  2.73219528e+01\n",
      "  2.57216358e+01  2.19627934e+01  1.76585236e+01 -2.29140224e+01\n",
      "  1.81399403e+01  5.40124798e+00 -9.97697449e+00  2.31466866e+01\n",
      " -8.66921067e-01 -2.84014568e+01  5.62174873e+01 -3.18973923e+00\n",
      " -1.86723161e+00 -1.23259487e+01  1.72822609e+01 -1.76574850e+00\n",
      "  1.48135910e+01  4.26156120e+01  1.23283672e+01  3.88547783e+01\n",
      "  8.98650360e+00  1.26082449e+01 -5.91203594e+00 -1.98420124e+01\n",
      " -1.76426659e+01 -4.07912178e+01  7.47569990e+00  2.58153458e+01\n",
      "  2.81776695e+01  4.67970009e+01 -4.88565111e+00  2.13452206e+01\n",
      " -2.83143940e+01  5.58297968e+00  1.68604870e+01  1.50639362e+01\n",
      "  4.60746193e+01  1.53299236e+01  6.43784475e+00  2.82529774e+01\n",
      "  5.04930382e+01  2.64781780e+01  2.36294575e+01 -1.13188820e+01\n",
      "  1.41647089e+00 -5.25734854e+00 -3.58916283e+01  1.32864494e+01\n",
      " -4.70190582e+01  5.31311913e+01 -1.38125582e+01 -5.27078867e+00\n",
      " -1.13176241e+01  3.31852760e+01 -2.62943439e+01  5.31852455e+01\n",
      "  2.42456474e+01  1.48204584e+01  1.53579772e+00  2.72826252e+01\n",
      "  8.03070831e+00  2.94067383e+01  1.21727571e+01 -1.43226862e+00\n",
      " -1.89888515e+01 -1.26729393e+01  3.80591698e+01 -1.70658112e+01\n",
      "  5.96615076e+00  2.00880790e+00  1.48442659e+01 -2.75015316e+01\n",
      "  4.09959641e+01 -2.31830292e+01  3.72722397e+01 -3.73401566e+01\n",
      " -1.60287228e+01 -1.76861401e+01  4.28002586e+01  3.11900520e+00\n",
      "  4.36816635e+01  2.36672020e+01  1.08994751e+01  2.06939650e+00\n",
      "  1.93300495e+01  4.24738998e+01  3.80009651e+01 -1.68323402e+01\n",
      "  2.94569645e+01 -8.37515450e+00  4.97339058e+01 -2.87086010e+01\n",
      " -3.37206039e+01  4.55692863e+01  3.20241189e+00  3.16610837e+00\n",
      "  2.06452274e+01  2.87856960e+01  8.55045223e+00  1.38409824e+01\n",
      " -6.68559217e+00  1.44906054e+01  1.71503887e+01  8.50699615e+00\n",
      " -5.88853645e+00  1.58962297e+00 -1.80640621e+01 -2.78430443e+01\n",
      " -9.70568943e+00 -3.04340219e+00  9.56427479e+00 -1.43492432e+01\n",
      " -1.02255726e+01 -2.43177438e+00  3.66152992e+01 -4.57091665e+00\n",
      "  8.54187679e+00 -2.06073589e+01 -4.25704122e-02  1.47130919e+01\n",
      "  7.74015379e+00  3.87680359e+01  4.52731228e+00 -2.02429905e+01\n",
      "  8.54027367e+00 -2.47912359e+00  2.02970219e+01 -3.53606701e+00\n",
      "  1.29723139e+01 -1.78316903e+00 -3.31511765e+01 -4.08918571e+00\n",
      "  1.56506062e+01  9.64884186e+00 -3.70579987e+01  2.01131878e+01\n",
      " -3.21154237e-01  1.06139908e+01  1.98241568e+00 -1.31235762e+01\n",
      " -5.20330763e+00  2.70926495e+01  3.75703049e+01 -1.08296385e+01\n",
      "  1.12640400e+01  1.93792381e+01  2.82175694e+01 -2.75384808e+01\n",
      " -4.79963875e+00  1.47583761e+01 -2.74020195e+01 -3.13379765e+01\n",
      " -2.41795845e+01  2.35009918e+01 -1.59864545e+00 -1.31446600e+01\n",
      "  5.11607094e+01  3.67698860e+00  2.99777198e+00 -3.11784744e+00\n",
      " -1.57244778e+01 -2.48344231e+01]\n",
      "The accuracy of this model is65.38461538461539\n",
      "The rmse of this model is35.01420675456046\n",
      "Best win percentage split = 72.1311475409836\n",
      "Best margin rmse = 34.46646097645728\n",
      "Training Testing Accuracy: 65.77% (3.81%)\n",
      "Training Testing Margins: 35.90% (1.26%)\n",
      "(1763, 1)\n",
      "(1763, 1)\n",
      "(1763, 3268)\n",
      "X_train shape: (1586, 3268)\n",
      "X_test shape: (177, 3268)\n",
      "Fitting 10 folds for each of 12 candidates, totalling 120 fits\n"
     ]
    },
    {
     "name": "stderr",
     "output_type": "stream",
     "text": [
      "[Parallel(n_jobs=1)]: Using backend SequentialBackend with 1 concurrent workers.\n",
      "[Parallel(n_jobs=1)]: Done 120 out of 120 | elapsed:  3.6min finished\n"
     ]
    },
    {
     "name": "stdout",
     "output_type": "stream",
     "text": [
      "best score: 0.6494325346784363\n",
      "Fitting 10 folds for each of 12 candidates, totalling 120 fits\n"
     ]
    },
    {
     "name": "stderr",
     "output_type": "stream",
     "text": [
      "[Parallel(n_jobs=1)]: Using backend SequentialBackend with 1 concurrent workers.\n",
      "[Parallel(n_jobs=1)]: Done 120 out of 120 | elapsed: 17.7min finished\n"
     ]
    },
    {
     "name": "stdout",
     "output_type": "stream",
     "text": [
      "best score: 0.6494325346784363\n",
      "Fitting 10 folds for each of 12 candidates, totalling 120 fits\n"
     ]
    },
    {
     "name": "stderr",
     "output_type": "stream",
     "text": [
      "[Parallel(n_jobs=1)]: Using backend SequentialBackend with 1 concurrent workers.\n",
      "[Parallel(n_jobs=1)]: Done 120 out of 120 | elapsed:  2.1min finished\n"
     ]
    },
    {
     "name": "stdout",
     "output_type": "stream",
     "text": [
      "best score: 0.6544766708701135\n",
      "Fitting 10 folds for each of 12 candidates, totalling 120 fits\n"
     ]
    },
    {
     "name": "stderr",
     "output_type": "stream",
     "text": [
      "[Parallel(n_jobs=1)]: Using backend SequentialBackend with 1 concurrent workers.\n",
      "[Parallel(n_jobs=1)]: Done 120 out of 120 | elapsed: 11.8min finished\n"
     ]
    },
    {
     "name": "stdout",
     "output_type": "stream",
     "text": [
      "best score: 0.6544766708701135\n",
      "Fitting 10 folds for each of 12 candidates, totalling 120 fits\n"
     ]
    },
    {
     "name": "stderr",
     "output_type": "stream",
     "text": [
      "[Parallel(n_jobs=1)]: Using backend SequentialBackend with 1 concurrent workers.\n",
      "[Parallel(n_jobs=1)]: Done 120 out of 120 | elapsed: 16.9min finished\n"
     ]
    },
    {
     "name": "stdout",
     "output_type": "stream",
     "text": [
      "best score: 0.6784363177805801\n",
      "X_train shape: (1586, 3268)\n",
      "X_test shape: (177, 3268)\n",
      "Fitting 10 folds for each of 12 candidates, totalling 120 fits\n"
     ]
    },
    {
     "name": "stderr",
     "output_type": "stream",
     "text": [
      "[Parallel(n_jobs=1)]: Using backend SequentialBackend with 1 concurrent workers.\n",
      "[Parallel(n_jobs=1)]: Done 120 out of 120 | elapsed:  7.8min finished\n"
     ]
    },
    {
     "name": "stdout",
     "output_type": "stream",
     "text": [
      "best score: 0.23138725000771623\n",
      "Fitting 10 folds for each of 12 candidates, totalling 120 fits\n"
     ]
    },
    {
     "name": "stderr",
     "output_type": "stream",
     "text": [
      "[Parallel(n_jobs=1)]: Using backend SequentialBackend with 1 concurrent workers.\n",
      "[Parallel(n_jobs=1)]: Done 120 out of 120 | elapsed:  2.1min finished\n"
     ]
    },
    {
     "name": "stdout",
     "output_type": "stream",
     "text": [
      "best score: 0.23138725000771623\n",
      "Fitting 10 folds for each of 12 candidates, totalling 120 fits\n"
     ]
    },
    {
     "name": "stderr",
     "output_type": "stream",
     "text": [
      "[Parallel(n_jobs=1)]: Using backend SequentialBackend with 1 concurrent workers.\n",
      "[Parallel(n_jobs=1)]: Done 120 out of 120 | elapsed: 15.4min finished\n"
     ]
    },
    {
     "name": "stdout",
     "output_type": "stream",
     "text": [
      "best score: 0.24368263197399093\n",
      "Fitting 10 folds for each of 12 candidates, totalling 120 fits\n"
     ]
    },
    {
     "name": "stderr",
     "output_type": "stream",
     "text": [
      "[Parallel(n_jobs=1)]: Using backend SequentialBackend with 1 concurrent workers.\n",
      "[Parallel(n_jobs=1)]: Done 120 out of 120 | elapsed:  8.7min finished\n"
     ]
    },
    {
     "name": "stdout",
     "output_type": "stream",
     "text": [
      "best score: 0.24368263197399093\n",
      "Fitting 10 folds for each of 12 candidates, totalling 120 fits\n"
     ]
    },
    {
     "name": "stderr",
     "output_type": "stream",
     "text": [
      "[Parallel(n_jobs=1)]: Using backend SequentialBackend with 1 concurrent workers.\n",
      "[Parallel(n_jobs=1)]: Done 120 out of 120 | elapsed:  2.7min finished\n"
     ]
    },
    {
     "name": "stdout",
     "output_type": "stream",
     "text": [
      "best score: 0.2524473783628087\n",
      "      Margin\n",
      "0        5.0\n",
      "1      -59.0\n",
      "2      -77.0\n",
      "3       15.0\n",
      "4       -4.0\n",
      "...      ...\n",
      "1758   -20.0\n",
      "1759   -23.0\n",
      "1760   -67.0\n",
      "1761   -14.0\n",
      "1762    56.0\n",
      "\n",
      "[1763 rows x 1 columns]\n",
      "      H_PAV_Sum  A_PAV_Sum  Ladder Pos_H  Form_H  Season Wins_H  \\\n",
      "0        239.37     261.62           5.0     7.0            7.0   \n",
      "1        178.78     239.86          18.0     0.0            0.0   \n",
      "2        240.11     240.13           9.0     5.0            5.0   \n",
      "3        175.47     262.28          13.0     4.0            4.0   \n",
      "4        219.37     196.24          16.0     2.0            2.0   \n",
      "...         ...        ...           ...     ...            ...   \n",
      "1758     197.86     247.83          16.0     3.0            6.0   \n",
      "1759     190.88     243.49          13.0     4.0            8.0   \n",
      "1760     183.34     212.96          18.0     1.0            2.0   \n",
      "1761     211.20     282.11          10.0     3.0           11.0   \n",
      "1762     253.91     195.19          11.0     4.0            9.0   \n",
      "\n",
      "      Season Loss_H  Season Draw_H  H_H/A? n-1  H_H/A Win? n-1  \\\n",
      "0               3.0            0.0         1.0             0.0   \n",
      "1              10.0            0.0         1.0             0.0   \n",
      "2               5.0            0.0         0.0             1.0   \n",
      "3               6.0            0.0         1.0             0.0   \n",
      "4               8.0            0.0         1.0             0.0   \n",
      "...             ...            ...         ...             ...   \n",
      "1758           15.0            0.0         1.0             0.0   \n",
      "1759           13.0            0.0         1.0             0.0   \n",
      "1760           19.0            0.0         1.0             0.0   \n",
      "1761           10.0            0.0         0.0             1.0   \n",
      "1762           12.0            0.0         1.0             1.0   \n",
      "\n",
      "      H_Points For n-1  ...  A_Venue n-10_Mars Stadium  \\\n",
      "0                 71.0  ...                        0.0   \n",
      "1                 54.0  ...                        0.0   \n",
      "2                 59.0  ...                        0.0   \n",
      "3                 71.0  ...                        0.0   \n",
      "4                 65.0  ...                        0.0   \n",
      "...                ...  ...                        ...   \n",
      "1758              57.0  ...                        0.0   \n",
      "1759              67.0  ...                        0.0   \n",
      "1760              74.0  ...                        0.0   \n",
      "1761              66.0  ...                        0.0   \n",
      "1762             146.0  ...                        0.0   \n",
      "\n",
      "      A_Venue n-10_Marvel Stadium  A_Venue n-10_Metricon Stadium  \\\n",
      "0                             0.0                            0.0   \n",
      "1                             0.0                            0.0   \n",
      "2                             0.0                            0.0   \n",
      "3                             1.0                            0.0   \n",
      "4                             0.0                            0.0   \n",
      "...                           ...                            ...   \n",
      "1758                          0.0                            0.0   \n",
      "1759                          1.0                            0.0   \n",
      "1760                          0.0                            0.0   \n",
      "1761                          0.0                            0.0   \n",
      "1762                          0.0                            0.0   \n",
      "\n",
      "      A_Venue n-10_Optus Stadium  A_Venue n-10_Riverway Stadium  \\\n",
      "0                            0.0                            0.0   \n",
      "1                            0.0                            0.0   \n",
      "2                            0.0                            0.0   \n",
      "3                            0.0                            0.0   \n",
      "4                            0.0                            0.0   \n",
      "...                          ...                            ...   \n",
      "1758                         1.0                            0.0   \n",
      "1759                         0.0                            0.0   \n",
      "1760                         0.0                            0.0   \n",
      "1761                         0.0                            0.0   \n",
      "1762                         0.0                            0.0   \n",
      "\n",
      "      A_Venue n-10_SCG  A_Venue n-10_TIO Stadium  \\\n",
      "0                  0.0                       0.0   \n",
      "1                  0.0                       0.0   \n",
      "2                  0.0                       0.0   \n",
      "3                  0.0                       0.0   \n",
      "4                  0.0                       0.0   \n",
      "...                ...                       ...   \n",
      "1758               0.0                       0.0   \n",
      "1759               0.0                       0.0   \n",
      "1760               0.0                       1.0   \n",
      "1761               0.0                       0.0   \n",
      "1762               0.0                       0.0   \n",
      "\n",
      "      A_Venue n-10_TIO Traeger Park  \\\n",
      "0                               0.0   \n",
      "1                               0.0   \n",
      "2                               0.0   \n",
      "3                               0.0   \n",
      "4                               0.0   \n",
      "...                             ...   \n",
      "1758                            0.0   \n",
      "1759                            0.0   \n",
      "1760                            0.0   \n",
      "1761                            0.0   \n",
      "1762                            0.0   \n",
      "\n",
      "      A_Venue n-10_University of Tasmania Stadium  \\\n",
      "0                                             0.0   \n",
      "1                                             0.0   \n",
      "2                                             0.0   \n",
      "3                                             0.0   \n",
      "4                                             0.0   \n",
      "...                                           ...   \n",
      "1758                                          0.0   \n",
      "1759                                          0.0   \n",
      "1760                                          0.0   \n",
      "1761                                          0.0   \n",
      "1762                                          0.0   \n",
      "\n",
      "      A_Venue n-10_Westpac Stadium  \n",
      "0                              0.0  \n",
      "1                              0.0  \n",
      "2                              0.0  \n",
      "3                              0.0  \n",
      "4                              0.0  \n",
      "...                            ...  \n",
      "1758                           0.0  \n",
      "1759                           0.0  \n",
      "1760                           0.0  \n",
      "1761                           0.0  \n",
      "1762                           0.0  \n",
      "\n",
      "[1763 rows x 3268 columns]\n",
      "Split: 1\n"
     ]
    },
    {
     "name": "stderr",
     "output_type": "stream",
     "text": [
      "/home/chris/anaconda3/lib/python3.8/site-packages/sklearn/preprocessing/_label.py:235: DataConversionWarning: A column-vector y was passed when a 1d array was expected. Please change the shape of y to (n_samples, ), for example using ravel().\n",
      "  y = column_or_1d(y, warn=True)\n",
      "/home/chris/anaconda3/lib/python3.8/site-packages/sklearn/preprocessing/_label.py:268: DataConversionWarning: A column-vector y was passed when a 1d array was expected. Please change the shape of y to (n_samples, ), for example using ravel().\n",
      "  y = column_or_1d(y, warn=True)\n"
     ]
    },
    {
     "name": "stdout",
     "output_type": "stream",
     "text": [
      "variables for auroc curve done. Processing fold accuracy + checking best model\n",
      "[ 19.071728    -7.7253256   15.499617     7.4637694  -25.805199\n",
      "  30.725965     4.845561   -25.901405    25.729603    15.539296\n",
      " -10.033502    14.105204   -24.279158    -5.4458346   19.69868\n",
      "  12.805403     3.1061609   27.031406     4.840524    18.321066\n",
      "   7.9927244    1.468116    27.890232    -3.7574186    5.511458\n",
      " -39.244564    14.449589     7.0847096   13.69131      0.80820084\n",
      "  -0.7890421  -22.245056   -20.38832     -4.0217843  -13.798187\n",
      "  -2.1644454   11.207201    32.636665     0.58856773 -16.451597\n",
      "  24.59513     12.744338   -17.203203    -4.520917    32.07995\n",
      " -13.105545    21.717007    28.522717   -28.170301    21.398252\n",
      "  23.892483     9.833737     0.16581687 -17.020794   -13.427385\n",
      " -14.542392    16.32869     14.184118    16.287903     7.7074146\n",
      " -21.269505    -3.6468444    4.459118    28.919228     2.4296193\n",
      "  29.736301   -11.52902     21.852505    17.004725    13.808819\n",
      " -37.57808     11.054191    39.21645     -6.054678    14.682866\n",
      " -20.595716    13.052452     1.4367604   22.6517      -0.8045354\n",
      " -12.753146    -2.1396987   35.51702     14.537158    27.454834\n",
      "  35.04727      6.1273394   17.468006    -4.4760313   28.95\n",
      "   0.53384614 -30.36936     31.273794    -1.977689    15.473509\n",
      " -21.038729    17.097134    13.888965    39.54437    -17.506643\n",
      "  13.746014    24.490704   -15.75642      4.688451    21.36462\n",
      " -17.43113    -29.760578     1.441752    -4.5952454  -40.41039\n",
      "  -8.552396    17.418137    35.431976    16.320812    34.81713\n",
      " -23.262005     0.9592147    4.5971184  -32.365383    14.437703\n",
      "  -5.3849516   20.623184    -2.0282362    1.2154694  -14.416019\n",
      "   8.903902     9.37234     26.559223   -17.943045   -16.684788\n",
      "  -4.09558      9.732211    -8.845791    -8.174586    -1.524481\n",
      "  -6.2016363  -14.130395    -6.2376347   36.801483    16.912483\n",
      " -19.117128     9.19876     23.764397    -6.184407    11.68597\n",
      "  17.903986     2.7749827   15.855207    27.610348   -35.2472\n",
      " -13.359151   -20.110992    21.337677    10.99446    -11.783596\n",
      " -26.587431   -16.90199     20.541735   -33.07724    -20.736015\n",
      " -21.608267    17.818125    16.902243     1.4233996   -5.91511\n",
      "   7.110746   -33.79764     14.151656    19.588707    -5.5423074\n",
      "  36.2777      -3.2163396   -1.6498792    4.5774884   20.702276\n",
      "  25.245647   -24.967216  ]\n",
      "The accuracy of this model is70.62146892655367\n",
      "The rmse of this model is36.55469398947247\n",
      "found new best classify\n",
      "found best new margin\n",
      "Split: 2\n"
     ]
    },
    {
     "name": "stderr",
     "output_type": "stream",
     "text": [
      "/home/chris/anaconda3/lib/python3.8/site-packages/sklearn/preprocessing/_label.py:235: DataConversionWarning: A column-vector y was passed when a 1d array was expected. Please change the shape of y to (n_samples, ), for example using ravel().\n",
      "  y = column_or_1d(y, warn=True)\n",
      "/home/chris/anaconda3/lib/python3.8/site-packages/sklearn/preprocessing/_label.py:268: DataConversionWarning: A column-vector y was passed when a 1d array was expected. Please change the shape of y to (n_samples, ), for example using ravel().\n",
      "  y = column_or_1d(y, warn=True)\n"
     ]
    },
    {
     "name": "stdout",
     "output_type": "stream",
     "text": [
      "variables for auroc curve done. Processing fold accuracy + checking best model\n",
      "[-21.130754    11.1109295   -7.3911414  -30.47077    -24.202375\n",
      "   6.46268    -20.72548    -27.822994    26.268251   -12.392833\n",
      "  -3.2064195   18.181055    13.607576    13.944712    -3.1690097\n",
      "  25.084007    11.6797905    4.4767804  -27.45201    -12.472445\n",
      "  19.520575    18.980188   -20.64197     36.20839    -22.74611\n",
      "  35.18217     10.632643     5.2546954   30.660986     8.533984\n",
      "  19.11648     18.473576    33.097        7.9820356  -17.847408\n",
      " -29.643614    23.055344     7.816441   -36.204453    24.19398\n",
      "  36.721157   -17.240818    34.43613    -12.560147     0.84455884\n",
      "  11.80077      7.797471     5.6160846   18.04101     35.3535\n",
      "   9.961338   -29.31856      1.0797083   14.783254    17.589949\n",
      " -11.951568     8.883665    19.517147    -0.28131223 -12.348992\n",
      "  -7.866338    -5.0028586   39.052124    -6.4959254   -9.569104\n",
      "  10.324066    25.183512   -13.459402    20.282946    -3.250722\n",
      "  -6.784973    -6.971364    -9.143672    23.162256    29.970966\n",
      "  15.8259325  -16.630657   -21.308855     3.9558597   -2.4935842\n",
      "  25.008581   -14.880591    24.28324    -23.22809     -6.366115\n",
      "  21.842543    30.803946    10.470534    11.430973    -0.4284171\n",
      " -24.18499     38.006073    15.867871     6.2472897    6.4886236\n",
      "  24.05106     36.416737    -7.5664816   -3.2410536    1.0450178\n",
      "   0.98049736  14.20278    -24.401943     2.0120394   28.591074\n",
      "  26.808804    11.560856     2.241084     3.7829375   21.055012\n",
      "  -1.8064764   -4.7762794   16.458757    -3.3435936  -11.656331\n",
      "  -0.4432478    7.243346    20.038292    -3.7068868  -17.64611\n",
      "  16.67622     29.060886     7.972447    -9.295529   -13.439927\n",
      " -11.373452    -5.845051     6.566632    14.232049    13.162082\n",
      "   7.1552334   -3.8946857   16.344265   -18.543453    -3.50661\n",
      "  20.425825    28.518484   -15.031354    -7.543254    12.135221\n",
      "  12.756965   -20.11391     14.878261    40.81669    -15.781591\n",
      "  17.883595    10.846312    13.082573    24.99408     28.739134\n",
      " -11.689828     1.8108592  -38.11465    -13.942332    17.206959\n",
      "  11.136243    21.373701    -2.718575    10.030882    -9.825982\n",
      "  -5.87833     -4.152907    -9.777503    18.976068   -40.215485\n",
      "  19.007141    17.64243    -23.660816     3.3096142   -8.845484\n",
      "  -3.224619     6.437768   -39.818226    -2.0677722   -5.6024756\n",
      "  33.923096    34.796463  ]\n",
      "The accuracy of this model is66.10169491525424\n",
      "The rmse of this model is37.412243373722376\n",
      "Split: 3\n"
     ]
    },
    {
     "name": "stderr",
     "output_type": "stream",
     "text": [
      "/home/chris/anaconda3/lib/python3.8/site-packages/sklearn/preprocessing/_label.py:235: DataConversionWarning: A column-vector y was passed when a 1d array was expected. Please change the shape of y to (n_samples, ), for example using ravel().\n",
      "  y = column_or_1d(y, warn=True)\n",
      "/home/chris/anaconda3/lib/python3.8/site-packages/sklearn/preprocessing/_label.py:268: DataConversionWarning: A column-vector y was passed when a 1d array was expected. Please change the shape of y to (n_samples, ), for example using ravel().\n",
      "  y = column_or_1d(y, warn=True)\n"
     ]
    },
    {
     "name": "stdout",
     "output_type": "stream",
     "text": [
      "variables for auroc curve done. Processing fold accuracy + checking best model\n",
      "[ 14.19459    -37.237255    30.50425    -16.636068    32.337376\n",
      "   2.551974    12.3799515   18.863365    -0.46025538 -11.601927\n",
      "  17.611557    26.305216    31.516214   -27.03842      3.88213\n",
      "  29.67347     13.788145     9.975509     8.65769     -6.2306223\n",
      "  19.818407    25.005255    29.536507   -12.144625    10.699493\n",
      "  11.220895   -16.316227    -8.312425    14.603925    43.194183\n",
      "   2.3659935   30.086002   -20.55643      9.695508    13.962301\n",
      "   3.2493634   12.461557   -15.352998    14.92349    -19.129566\n",
      "  20.459953     1.9111524  -19.6201      14.259225    40.24077\n",
      "   4.093487     6.7701335    6.8925753   12.875892    22.649483\n",
      "   7.023191    21.68971     -1.4727781    8.492331    28.383383\n",
      "  26.297186   -10.858594    22.908047    16.114643    22.74843\n",
      "   3.520688   -23.828129   -13.510624    14.602645   -32.290752\n",
      "  -6.2069054  -26.41027    -14.366952    12.50115    -20.44008\n",
      "  -8.876973     6.8602076  -16.697876     0.3669428  -13.081655\n",
      " -17.35221     -5.0611496   13.390972    -4.2464485   36.673653\n",
      "   0.48976317 -14.756871    12.059529    10.483615    22.008804\n",
      "  -8.862559    37.602028    32.91325     23.823801   -19.95509\n",
      " -14.955155    -6.5168133   -8.538328     8.728369    25.99196\n",
      "  10.1907425   30.932919    22.266573   -10.697582    -8.047253\n",
      "  14.392829    -4.71155     33.372955    10.899936     8.801442\n",
      "   6.9079432  -30.297195     6.0448513   11.090209     1.833008\n",
      " -27.524296   -32.357132     5.254776    37.43819     -5.560072\n",
      " -33.93286    -26.082882   -30.254879    12.454269     4.800479\n",
      " -12.998997   -24.240788    -5.521135    -2.8699527    9.043091\n",
      " -15.576525   -18.49834     18.402634   -10.153399   -29.150953\n",
      "  17.032665   -13.971332   -13.047949    12.892747   -11.680697\n",
      "  40.3511      -2.2092168   35.307236   -25.20093     30.503408\n",
      "   9.246615    -3.6965008  -13.943858     2.2994123    9.061837\n",
      "  20.960966   -12.643111    17.481068     2.686234    25.921618\n",
      "  26.012817     3.9880183  -27.453873    10.132168    19.404205\n",
      " -20.014635    31.67354     24.002033    13.700614    23.314857\n",
      "  23.075695     2.7745078  -16.330608   -19.840866    24.33218\n",
      "  33.22549    -30.565609   -25.525295     6.31483     -6.8335576\n",
      "  -0.50815535  14.89159     20.771915   -32.562798    29.80583\n",
      "  26.857996   -24.296421  ]\n",
      "The accuracy of this model is68.36158192090396\n",
      "The rmse of this model is37.130298529894255\n",
      "Split: 4\n"
     ]
    },
    {
     "name": "stderr",
     "output_type": "stream",
     "text": [
      "/home/chris/anaconda3/lib/python3.8/site-packages/sklearn/preprocessing/_label.py:235: DataConversionWarning: A column-vector y was passed when a 1d array was expected. Please change the shape of y to (n_samples, ), for example using ravel().\n",
      "  y = column_or_1d(y, warn=True)\n",
      "/home/chris/anaconda3/lib/python3.8/site-packages/sklearn/preprocessing/_label.py:268: DataConversionWarning: A column-vector y was passed when a 1d array was expected. Please change the shape of y to (n_samples, ), for example using ravel().\n",
      "  y = column_or_1d(y, warn=True)\n"
     ]
    },
    {
     "name": "stdout",
     "output_type": "stream",
     "text": [
      "variables for auroc curve done. Processing fold accuracy + checking best model\n",
      "[ 29.654303    21.349543    -1.7565212   13.506107     3.0198505\n",
      " -11.666984   -28.318224   -12.460172    29.279446    15.3123\n",
      "   8.869115    18.091684   -21.772142    26.199392    18.132051\n",
      "   2.008509    17.11663     18.510607    -2.5984583   19.796806\n",
      "  -5.0584393    4.726      -24.124577    36.71092     14.430772\n",
      "   4.9949384   13.21725      6.6711016   34.84135     10.5850725\n",
      " -24.892643     1.8574831   -9.656623    27.427927    25.538975\n",
      "  -2.0485227  -35.742645    -0.46714747  -2.7440772    4.3423934\n",
      "  17.661314    12.280999    19.254807   -24.502867     0.9780742\n",
      " -36.597782    33.462326    20.930622     7.848534    27.401335\n",
      "  37.634796    -1.436959    -4.9783683   12.902266    12.065848\n",
      "  26.216387    12.737232   -17.114704   -14.111873   -21.36645\n",
      " -19.356487    18.601374   -15.07204      0.88663507  -0.38106143\n",
      "  15.770477    19.386663    18.438236   -34.802433    -1.8157077\n",
      "   6.1020126   27.360842   -31.498144    39.537487   -27.973623\n",
      "  -1.7750223   16.28952     19.215075   -15.484099    27.42271\n",
      " -16.161024     2.5384877   -0.41944695   5.5219216   29.300146\n",
      "   8.340048    30.388824   -19.771633    32.578938    -5.8918657\n",
      "   4.3521233   27.203146     6.1259227   32.028137    34.84261\n",
      " -16.783953     0.9448967   11.358136   -32.95752    -14.905162\n",
      "  20.29269      3.4953673   10.894948    32.017197    29.448679\n",
      "  34.30191     34.566494    25.52775     10.975563     0.63810277\n",
      "  35.314465    22.014174   -25.201908    -0.6497743  -21.877287\n",
      "  11.581638     4.2084475   15.443664    10.801806     2.7808073\n",
      "  25.828182     3.5181084  -16.415812    -4.15017     16.931244\n",
      "  -0.3723091   19.977648   -19.369102    25.930603     2.5413165\n",
      "  12.45437     22.038733   -20.954624    -0.70904493  10.861808\n",
      "   1.8977711   -0.880769    -0.42315316  -4.606033   -12.0277815\n",
      " -16.20545     -5.5706277   39.000362    11.560543    -4.1418476\n",
      " -20.973959    24.179289     3.2995086    6.989209     9.487675\n",
      "   3.7952316   24.039713    36.7182      25.462696     7.47287\n",
      "  21.80851     11.176255     1.4335859   19.255373    17.176655\n",
      "  11.018824     6.2951245  -32.95752    -32.919353     0.88870144\n",
      "  37.15841      3.2495499   33.380596   -28.845718    26.19867\n",
      "  33.41833    -29.16443     18.14425    -15.589895    40.887817\n",
      " -26.284529  ]\n",
      "The accuracy of this model is65.9090909090909\n",
      "The rmse of this model is38.62809957104328\n",
      "Split: 5\n"
     ]
    },
    {
     "name": "stderr",
     "output_type": "stream",
     "text": [
      "/home/chris/anaconda3/lib/python3.8/site-packages/sklearn/preprocessing/_label.py:235: DataConversionWarning: A column-vector y was passed when a 1d array was expected. Please change the shape of y to (n_samples, ), for example using ravel().\n",
      "  y = column_or_1d(y, warn=True)\n",
      "/home/chris/anaconda3/lib/python3.8/site-packages/sklearn/preprocessing/_label.py:268: DataConversionWarning: A column-vector y was passed when a 1d array was expected. Please change the shape of y to (n_samples, ), for example using ravel().\n",
      "  y = column_or_1d(y, warn=True)\n"
     ]
    },
    {
     "name": "stdout",
     "output_type": "stream",
     "text": [
      "variables for auroc curve done. Processing fold accuracy + checking best model\n",
      "[-20.84523    -12.73741     -0.21437883 -24.5587      -8.675366\n",
      "  -0.26566792  10.713795   -12.937605    33.93494     24.275684\n",
      "  -1.7203271    4.2528706   14.611064    32.68489     15.936039\n",
      "  -0.7417512   14.904973    19.139145    -4.126479   -19.816332\n",
      " -26.409067     2.9652462   10.788459   -22.70924     18.270844\n",
      " -31.985645    36.242233   -28.127562    19.19932     15.370928\n",
      "  16.334473   -10.086221    18.687126    -5.8285837   27.045471\n",
      "   5.6150317  -10.16261     12.153924    10.717544   -32.381435\n",
      " -11.477331    18.215874   -21.701374     2.957486   -32.367077\n",
      " -27.735628    28.004177    28.441109    23.804922    36.318623\n",
      " -33.371838    15.905057     4.5192657   -8.776171    -1.5505009\n",
      "  29.509075   -25.786457    20.047325     4.8391285  -28.18204\n",
      "  -1.7954359    3.8274071    2.9287295   -2.1136355  -16.519037\n",
      "   7.4932704   -4.9801846   15.016951   -25.829086    17.333733\n",
      "  30.74376      4.977009    27.051596     8.050641    -1.0573938\n",
      " -30.95847      0.5930709   11.658366    19.627058   -34.63496\n",
      "  21.926939   -16.49238     20.063461     8.943118    15.89335\n",
      "  27.975199    15.519366    23.836954    26.164371    27.483883\n",
      "   4.275377    31.699667    24.796795    18.393297     8.470432\n",
      "  22.846401    15.851634    -6.2626143  -13.796957    14.963253\n",
      "  19.236969    32.071823   -11.0286875   13.958492    24.187067\n",
      "  24.783474    12.594164    13.210824     1.4975419   -0.8084407\n",
      "  29.293089   -24.936466    31.728638    -3.9834414    9.38696\n",
      "   9.035453   -21.783995    28.905293    -6.3208427  -11.276669\n",
      "  17.210667   -34.78117    -35.17647     15.051187    15.458164\n",
      "  13.102419    14.97558      7.9359565   -3.1154876   21.407438\n",
      "  15.826278    30.231575    10.415331    -3.983882    -6.703454\n",
      "  22.769026    20.116041     7.610421    24.730398   -12.815806\n",
      " -18.524311   -22.161142    24.261654    15.105793     8.098684\n",
      "  11.762346   -20.262882    26.553503     0.24272478  22.324207\n",
      " -17.923819   -10.956914   -16.029642   -29.569464    20.630573\n",
      "  19.632053    28.457157    -1.7370892    7.6761227   11.710734\n",
      "   3.12764     -3.1330957   13.125208   -19.768457    32.614426\n",
      "  -7.303188    13.315365    15.851635    17.018747    32.54861\n",
      "   3.4105062  -16.115158    36.720066    21.515802    23.825438\n",
      "  10.957719  ]\n",
      "The accuracy of this model is63.06818181818182\n",
      "The rmse of this model is34.68278920464832\n",
      "found best new margin\n",
      "Split: 6\n"
     ]
    },
    {
     "name": "stderr",
     "output_type": "stream",
     "text": [
      "/home/chris/anaconda3/lib/python3.8/site-packages/sklearn/preprocessing/_label.py:235: DataConversionWarning: A column-vector y was passed when a 1d array was expected. Please change the shape of y to (n_samples, ), for example using ravel().\n",
      "  y = column_or_1d(y, warn=True)\n",
      "/home/chris/anaconda3/lib/python3.8/site-packages/sklearn/preprocessing/_label.py:268: DataConversionWarning: A column-vector y was passed when a 1d array was expected. Please change the shape of y to (n_samples, ), for example using ravel().\n",
      "  y = column_or_1d(y, warn=True)\n"
     ]
    },
    {
     "name": "stdout",
     "output_type": "stream",
     "text": [
      "variables for auroc curve done. Processing fold accuracy + checking best model\n",
      "[-11.956872   -22.19342    -19.780506    31.178295   -26.82762\n",
      "  13.955064    40.36848     23.172482    36.326435    -2.9806032\n",
      " -15.612091    -7.4452996   -1.7035077   -8.335188    -8.681195\n",
      "   5.0453176    7.449006    24.670595    19.633884     5.997643\n",
      "  20.973442   -16.286474     0.1560441   31.546383    23.305603\n",
      "  -7.4420247   33.921295    -6.3651786   -8.995539    35.334995\n",
      "  39.955734   -20.458132   -28.162947   -19.158949    39.05594\n",
      "  -4.065633   -31.631317   -13.858387    26.528566     3.3190188\n",
      " -23.633646    27.74251     33.163185   -32.16711      8.002758\n",
      " -30.13618     -3.7788181   19.072027   -31.516693    39.610386\n",
      " -15.713493    42.294403    -6.286858     5.7484016  -16.467625\n",
      "  21.855276    30.233343    -3.1307726  -29.310793     5.169007\n",
      " -37.667343    -4.570271   -17.106709    13.536053    11.55206\n",
      "  30.310112    10.6278925  -28.292887   -11.743001    33.38709\n",
      "  17.654106    20.903936    17.10876      0.15323177  -0.40343392\n",
      "  -0.88333166 -29.718107   -33.025467    19.424643   -20.001354\n",
      "  13.460247   -21.993162    15.331383     3.1578698   36.59948\n",
      "   2.5142646  -16.055136    31.098738    -6.4077244   10.249512\n",
      "   0.9266548   12.639016   -10.178091    19.989462   -12.361268\n",
      "   0.45440185  14.958887    19.660295    19.075106   -16.7302\n",
      "  36.436005    -9.820435   -19.84459    -22.432652    37.189404\n",
      "   3.264675   -17.05132     21.838568    25.567827    27.456617\n",
      "  34.385483     2.0073316  -28.386387    37.634796   -17.812082\n",
      "  18.119287   -16.882948    35.773434   -18.16393      8.918864\n",
      "   4.6139803   15.711574    18.497467   -14.459278    30.566648\n",
      "   8.255205   -10.6694355    9.131785    23.731512     8.038504\n",
      "  16.207024     6.6417365   26.053576     4.6301336   25.903458\n",
      "  12.568812    29.849916   -11.721178    35.36178      4.7088003\n",
      "  20.973001   -33.57585     11.150034    20.475876     3.9204068\n",
      " -15.895981   -20.748993    -4.108859    17.666494    23.668747\n",
      "  34.263824    33.799408     3.3882487    5.738541    13.010215\n",
      " -25.128542    31.628666    31.693026    28.848465    37.665936\n",
      "  10.743207   -13.889971    -5.9780836   -9.517411   -27.563368\n",
      "  12.186628    29.178291     6.206035    -1.617033   -21.85474\n",
      "  15.613438     4.6822877  -16.154297    26.009861    35.29732\n",
      " -17.11271   ]\n",
      "The accuracy of this model is72.72727272727273\n",
      "The rmse of this model is35.60824816815073\n",
      "found new best classify\n",
      "Split: 7\n"
     ]
    },
    {
     "name": "stderr",
     "output_type": "stream",
     "text": [
      "/home/chris/anaconda3/lib/python3.8/site-packages/sklearn/preprocessing/_label.py:235: DataConversionWarning: A column-vector y was passed when a 1d array was expected. Please change the shape of y to (n_samples, ), for example using ravel().\n",
      "  y = column_or_1d(y, warn=True)\n",
      "/home/chris/anaconda3/lib/python3.8/site-packages/sklearn/preprocessing/_label.py:268: DataConversionWarning: A column-vector y was passed when a 1d array was expected. Please change the shape of y to (n_samples, ), for example using ravel().\n",
      "  y = column_or_1d(y, warn=True)\n"
     ]
    },
    {
     "name": "stdout",
     "output_type": "stream",
     "text": [
      "variables for auroc curve done. Processing fold accuracy + checking best model\n",
      "[ 3.85631714e+01  2.94972992e+01 -4.51254845e+00  1.86363430e+01\n",
      " -2.08525047e+01  4.67070723e+00  3.40994406e+00  2.41734238e+01\n",
      " -2.92778950e+01  1.81858616e+01 -1.68725300e+00  1.07989140e+01\n",
      "  1.50797665e-02  2.92639542e+01 -2.08525047e+01 -4.00742197e+00\n",
      " -2.28510904e+00  4.21347857e+00  1.70796528e+01 -1.79838963e+01\n",
      "  3.66863708e+01  3.62422333e+01  3.39212952e+01 -2.16532326e+01\n",
      "  3.67156868e+01  1.69365005e+01 -2.53540306e+01  1.46947742e+00\n",
      "  2.18863602e+01  3.81241989e+00  1.02981052e+01  2.83979053e+01\n",
      " -8.34826374e+00 -2.41718731e+01  8.25130844e+00  2.14176159e+01\n",
      "  1.81542435e+01 -1.89619141e+01 -7.65108466e-01  3.13169498e+01\n",
      "  1.72574940e+01  3.32287636e+01 -3.21347785e+00 -1.80674019e+01\n",
      "  2.78868942e+01  1.58294106e+01  1.10448942e+01  1.13852081e+01\n",
      "  4.21347857e+00  2.14942193e+00  1.30704956e+01  1.50041170e+01\n",
      "  1.45812492e+01  1.99464226e+01  3.99557343e+01 -3.06704483e+01\n",
      "  3.26276894e+01  1.25788474e+00  2.52425003e+00  1.37543802e+01\n",
      "  2.79074898e+01  1.82854633e+01 -2.92459726e-01 -2.74929380e+00\n",
      "  2.27805901e+01  2.22455750e+01  3.16096306e+01  2.34202995e+01\n",
      " -7.14766026e+00 -1.36518993e+01 -1.85054932e+01  6.94806862e+00\n",
      "  5.24376440e+00  2.48182373e+01 -2.73743324e+01 -3.80273590e+01\n",
      "  5.32148647e+00  2.60640144e+01 -2.58723640e+01  1.08850765e+01\n",
      " -2.19815483e+01 -1.41156063e+01  5.33110261e-01  1.56367188e+01\n",
      " -2.67458401e+01  4.04537773e+01 -6.06246853e+00  1.13065090e+01\n",
      "  1.19014063e+01  4.97564411e+00  9.79942799e+00  1.78969212e+01\n",
      "  1.91748428e+01  1.63181038e+01  4.24180937e+00  1.67873502e-03\n",
      " -1.43070993e+01 -1.80032778e+00  3.49855804e+01 -9.68073273e+00\n",
      "  5.42391002e-01  6.39056873e+00  1.76255035e+01  3.50793505e+00\n",
      "  1.08017368e+01 -1.13447771e+01  1.14611282e+01  3.81458130e+01\n",
      "  1.50276670e+01  6.38824749e+00  2.52679863e+01  4.85486984e+00\n",
      "  1.16979923e+01  2.55998306e+01  6.59594059e+00  1.07737474e+01\n",
      "  4.81208897e+00  1.51913509e+01  3.03383865e+01  1.73653355e+01\n",
      "  4.02470303e+00 -2.50326786e+01  6.82512808e+00 -2.39935093e+01\n",
      "  1.07769036e+00  2.92220330e+00  2.12319136e+00 -2.35761204e+01\n",
      "  2.76214182e-01  1.02806492e+01  1.42194595e+01 -8.65886211e+00\n",
      " -3.26835012e+00  1.60972519e+01  2.19732037e+01 -1.09412432e+01\n",
      "  2.74847469e+01 -1.51209469e+01  2.34536438e+01  1.22960491e+01\n",
      "  8.12510109e+00  1.72445221e+01 -4.31788325e-01  1.97088032e+01\n",
      "  2.98584538e+01 -1.80205746e+01 -1.95688438e+01  3.52983665e+01\n",
      "  4.31640434e+00  1.49158325e+01  5.34736633e+00  2.90090027e+01\n",
      " -1.94739418e+01 -2.12360058e+01  6.53440237e+00 -2.73696423e+00\n",
      "  2.47007580e+01  8.23616087e-02  1.92171192e+00  7.13927650e+00\n",
      "  2.76651535e+01  3.77447777e+01  2.93753376e+01 -2.64227104e+01\n",
      "  2.13389740e+01 -1.88888721e+01  9.90471077e+00  7.27066565e+00\n",
      " -1.00447798e+00 -1.42538571e+00  1.67803383e+01  5.13459110e+00\n",
      "  3.21600800e+01  1.37458096e+01 -7.85784626e+00 -1.69269371e+01]\n",
      "The accuracy of this model is68.18181818181817\n",
      "The rmse of this model is36.58599750441448\n",
      "Split: 8\n"
     ]
    },
    {
     "name": "stderr",
     "output_type": "stream",
     "text": [
      "/home/chris/anaconda3/lib/python3.8/site-packages/sklearn/preprocessing/_label.py:235: DataConversionWarning: A column-vector y was passed when a 1d array was expected. Please change the shape of y to (n_samples, ), for example using ravel().\n",
      "  y = column_or_1d(y, warn=True)\n",
      "/home/chris/anaconda3/lib/python3.8/site-packages/sklearn/preprocessing/_label.py:268: DataConversionWarning: A column-vector y was passed when a 1d array was expected. Please change the shape of y to (n_samples, ), for example using ravel().\n",
      "  y = column_or_1d(y, warn=True)\n"
     ]
    },
    {
     "name": "stdout",
     "output_type": "stream",
     "text": [
      "variables for auroc curve done. Processing fold accuracy + checking best model\n",
      "[ 24.529638     6.877132     0.5181087   10.779978    34.250637\n",
      "  14.896573    29.71952     12.2156515   27.911318    -7.7678556\n",
      "  14.068708    -1.7568216   -5.5344024   -8.158662   -21.644453\n",
      "  23.768927     8.563869    32.06455    -32.935577   -10.368137\n",
      "  16.897665    10.210847   -27.791187    23.82664    -27.802366\n",
      "  17.465832    -7.4598966   27.485321    25.403498    14.938122\n",
      "  12.508232    32.15815     10.7120695    1.9134272   17.587862\n",
      "  32.99292      1.877601    -7.8181515  -32.354782   -24.440578\n",
      " -14.639255     3.113412   -12.613475   -18.863247     8.110293\n",
      "  28.85315     40.896965    -9.185016   -20.929733    21.07801\n",
      "  12.207215    24.740196    24.220053     3.4025738   19.892275\n",
      "  21.38832    -13.962397   -17.943483    12.583689   -30.168434\n",
      "  -8.518763    15.239946     2.1602526  -22.33446     20.770761\n",
      " -21.018244    12.027741    -1.8584774   21.707834     8.80112\n",
      " -29.514032    10.059373    24.049614     5.1193337  -21.210152\n",
      " -11.963136   -25.497858    -0.81827545 -20.828772    -6.6759953\n",
      "  21.311306    10.868115    31.187265    14.99233      6.2852516\n",
      "  20.6374     -19.296026     5.0937843    6.9372473  -14.295932\n",
      "  22.868797     2.34555    -13.889066    30.62041    -31.23227\n",
      "  13.557848    13.185574     5.632248     2.329008    16.757772\n",
      "   5.539193    31.987534   -21.857887   -13.072431    18.586344\n",
      "  15.045174    37.975292    13.490939   -32.803833    29.833504\n",
      " -33.40116    -34.269096    17.658062    20.088518     9.598165\n",
      " -35.662743    16.176582    14.582506     3.333437    27.886894\n",
      "  12.279761    21.857254    23.864618     7.041022    12.690115\n",
      "  23.90583    -14.664443    14.07218     22.388796    -5.948542\n",
      "   8.2753315   -6.9565496   -0.3091396    0.09916997  27.81894\n",
      "  24.224686     8.550755    20.427969     1.4941604  -23.444593\n",
      "   4.424916    22.192879    24.252886    18.987059    27.95205\n",
      " -16.648684    21.975084   -20.74879     -8.758126     9.0756645\n",
      "  10.591394   -11.97803     -8.864467     2.048438    24.446342\n",
      "  -1.7966774   13.677224    11.821815    -4.9848747    0.48737174\n",
      "  10.3732815   -1.8531294   18.608803    21.401506   -11.144847\n",
      " -20.523111    -0.7648821  -35.029095   -20.700628    33.09551\n",
      " -30.584763    37.731102    12.761277   -11.026534   -18.662878\n",
      "  28.877872  ]\n",
      "The accuracy of this model is67.04545454545455\n",
      "The rmse of this model is36.66618738632975\n",
      "Split: 9\n"
     ]
    },
    {
     "name": "stderr",
     "output_type": "stream",
     "text": [
      "/home/chris/anaconda3/lib/python3.8/site-packages/sklearn/preprocessing/_label.py:235: DataConversionWarning: A column-vector y was passed when a 1d array was expected. Please change the shape of y to (n_samples, ), for example using ravel().\n",
      "  y = column_or_1d(y, warn=True)\n",
      "/home/chris/anaconda3/lib/python3.8/site-packages/sklearn/preprocessing/_label.py:268: DataConversionWarning: A column-vector y was passed when a 1d array was expected. Please change the shape of y to (n_samples, ), for example using ravel().\n",
      "  y = column_or_1d(y, warn=True)\n"
     ]
    },
    {
     "name": "stdout",
     "output_type": "stream",
     "text": [
      "variables for auroc curve done. Processing fold accuracy + checking best model\n",
      "[-1.33037958e+01  2.64697533e+01  2.19272375e-02  2.59382610e+01\n",
      "  2.87760792e+01  3.85802574e+01  7.21441221e+00  3.01537418e+01\n",
      " -1.80472050e+01 -1.04064455e+01  2.31125641e+01 -1.88529110e+01\n",
      "  2.33236427e+01  3.49611931e+01  2.17568722e+01  7.55600786e+00\n",
      "  3.45667496e+01 -1.35228977e+01 -2.35296383e+01  1.18359337e+01\n",
      " -2.27021294e+01  2.14029140e+01  1.94632950e+01  8.09912395e+00\n",
      " -2.76686630e+01 -2.82660637e+01  2.84294720e+01 -2.90582237e+01\n",
      " -3.39052544e+01 -2.02542424e+00  3.57613907e+01  7.14756346e+00\n",
      "  1.30651932e+01 -1.57979527e+01  5.99701595e+00  2.97942448e+01\n",
      "  5.58369541e+00  1.30189352e+01  3.59212303e+01 -1.66748505e+01\n",
      "  3.33061676e+01  1.01011026e+00 -4.59892082e+00  1.96071396e+01\n",
      " -1.60610905e+01  1.11541986e+01 -1.66666832e+01  1.14393969e+01\n",
      " -3.70997505e+01 -2.33542323e+00 -6.31915140e+00  3.49002914e+01\n",
      "  2.61853027e+01  2.09324760e+01  6.30953598e+00 -2.13032703e+01\n",
      "  3.28192949e+00  2.61519146e+01  5.58789539e+00 -6.95393801e+00\n",
      "  3.29895859e+01  3.06771851e+01 -1.51530218e+01  2.18284721e+01\n",
      "  7.08326674e+00 -1.38115191e+00  7.24809289e-01  3.34345512e+01\n",
      "  1.82550983e+01  1.86032181e+01  8.84700680e+00 -9.73918343e+00\n",
      "  1.12197647e+01  2.60301590e+01 -1.93381958e+01  2.59118023e+01\n",
      "  2.78450470e+01  4.09885406e+01 -3.86147232e+01  2.11778450e+01\n",
      "  6.29145193e+00  3.24205780e+01  2.36648827e+01  2.80321121e+01\n",
      "  1.69069939e+01  3.17221203e+01  1.08190317e+01  4.22062731e+00\n",
      "  1.98872738e+01 -2.82403326e+00  8.90687561e+00  2.41107025e+01\n",
      " -3.88778973e+00 -1.13320255e+01  2.82720113e+00 -5.99581003e+00\n",
      "  1.87015018e+01 -5.34707308e+00  1.21046267e+01  3.72852821e+01\n",
      "  3.40122528e+01  5.60553885e+00 -1.70593071e+01 -1.67735119e+01\n",
      " -3.56158495e+00  1.36123838e+01 -9.42834616e-01  5.65502501e+00\n",
      "  1.45696287e+01  1.22866735e+01 -8.40772820e+00  2.76534438e+00\n",
      " -1.21463280e+01 -1.05410023e+01 -3.45862923e+01  3.41333160e+01\n",
      " -1.42793312e+01  3.93839622e+00  3.29799042e+01  9.95513725e+00\n",
      "  3.57946682e+00 -1.23498094e+00 -6.40634537e+00  1.23001552e+00\n",
      "  1.07045298e+01  2.10698357e+01  2.25387249e+01 -6.30651569e+00\n",
      "  2.61043282e+01  1.79470615e+01 -1.19515543e+01  1.26732435e+01\n",
      "  3.17526455e+01  4.13700104e+00  8.44019699e+00  2.18685341e+01\n",
      "  2.21637211e+01  2.54766617e+01  1.30094891e+01  1.27972670e+01\n",
      " -1.85983238e+01 -3.48738432e+00  4.63673711e-01 -5.99895573e+00\n",
      " -1.07555456e+01  1.41159668e+01  1.59065304e+01  1.36638250e+01\n",
      "  1.11896734e+01  2.82698402e+01  1.31714392e+01  9.20708275e+00\n",
      " -2.84958611e+01  3.12217102e+01  3.66721878e+01  5.24797964e+00\n",
      " -2.96089306e+01 -1.41330547e+01  3.49639816e+01  2.97755203e+01\n",
      " -2.44615440e+01 -2.49833927e+01  3.94151802e+01  2.89911728e+01\n",
      " -7.35149956e+00 -9.49348736e+00  1.32591887e+01 -8.97506428e+00\n",
      "  3.85587044e+01 -6.82699537e+00  3.62059517e+01 -2.77256279e+01\n",
      " -1.19678345e+01  1.07722359e+01  2.67549038e+01 -6.01593256e+00]\n",
      "The accuracy of this model is68.18181818181817\n",
      "The rmse of this model is33.00569896853453\n",
      "found best new margin\n",
      "Split: 10\n"
     ]
    },
    {
     "name": "stderr",
     "output_type": "stream",
     "text": [
      "/home/chris/anaconda3/lib/python3.8/site-packages/sklearn/preprocessing/_label.py:235: DataConversionWarning: A column-vector y was passed when a 1d array was expected. Please change the shape of y to (n_samples, ), for example using ravel().\n",
      "  y = column_or_1d(y, warn=True)\n",
      "/home/chris/anaconda3/lib/python3.8/site-packages/sklearn/preprocessing/_label.py:268: DataConversionWarning: A column-vector y was passed when a 1d array was expected. Please change the shape of y to (n_samples, ), for example using ravel().\n",
      "  y = column_or_1d(y, warn=True)\n"
     ]
    },
    {
     "name": "stdout",
     "output_type": "stream",
     "text": [
      "variables for auroc curve done. Processing fold accuracy + checking best model\n",
      "[ -1.4662555   12.945464    16.089525    12.1699505   -6.2359395\n",
      "  43.37587     38.9459     -15.7279625   37.56969     17.186123\n",
      "  16.877209    17.00734     16.145967     5.026473    24.80658\n",
      "  31.296669   -14.548556    31.687923    16.119694    15.321673\n",
      "   4.6351395   21.038033    25.925898    21.403559     4.114418\n",
      " -12.802581    21.057974   -31.855572     4.5271325   28.758192\n",
      " -21.30879    -13.83033     11.475923    25.470402    27.1716\n",
      "  36.970818     4.5831017    7.24219     17.341393   -25.310743\n",
      "  28.221489    32.04001     38.697216    29.923132   -32.5643\n",
      "  31.499104   -17.984919    12.235386    10.438054   -24.162031\n",
      "  26.41947     16.504974     3.4126978   29.335855    17.61454\n",
      "  35.878517     6.998587    19.71601    -26.334732   -18.819492\n",
      "  31.277618   -16.444786    37.304653     5.1448483   34.77327\n",
      "  28.990833    25.929165   -18.733906    22.284437     2.8803341\n",
      "  20.006449   -32.08345     17.042793    21.591713   -20.413034\n",
      "   7.8725247    5.9884777   22.817781    20.661528   -22.990429\n",
      " -21.279417    30.65141    -26.463913    25.10947     -3.3507295\n",
      "  -9.476512    -1.7725871   27.637274    -6.9332747   24.368534\n",
      " -26.818087   -14.208958    16.23349    -27.349909    11.988136\n",
      "  34.852673    36.001835    -5.025055     9.720882    13.911501\n",
      "  21.936054    -0.2912519   -2.2941933   -0.9634284    3.5622358\n",
      "  -7.0030036   19.354582     2.1951144    5.903428    18.536186\n",
      " -26.420218    19.12008     -3.266192   -17.647745   -33.386776\n",
      "  -5.7850943    5.50504      9.176405   -13.847121     9.766268\n",
      "   0.3359261  -26.010733   -11.769523    -5.121364     4.356349\n",
      "  22.919558    13.84751     26.259819    13.332106    16.149805\n",
      " -22.088507     9.400466    10.479799   -20.32891     20.350826\n",
      "  11.398338     4.1075587   22.016354    14.739507    -0.0533545\n",
      "  -4.44753     -7.7579947   -0.46251094  14.599252    12.215274\n",
      "  -3.766364   -20.848284     0.24924582 -28.630844   -23.571035\n",
      "  30.519995    34.406406   -25.432884    16.20417    -13.054144\n",
      "   8.895389    -6.866942   -11.128972    17.785364    -0.988479\n",
      "  30.243174    28.083511    -0.0745157   16.917503    17.86833\n",
      "   5.686701   -33.25172      5.303522   -39.939316    16.772078\n",
      " -12.478664    15.908187    26.895306    14.459033    11.611662\n",
      "  13.799236  ]\n",
      "The accuracy of this model is63.06818181818182\n",
      "The rmse of this model is35.669707035229884\n",
      "Best win percentage split = 72.72727272727273\n",
      "Best margin rmse = 33.00569896853453\n",
      "Training Testing Accuracy: 67.33% (2.87%)\n",
      "Training Testing Margins: 36.19% (1.48%)\n"
     ]
    }
   ],
   "source": [
    "#as one big script to go through n_games\n",
    "n_games = [2,3,10]\n",
    "for n in n_games:\n",
    "    run_all_models(n)"
   ]
  },
  {
   "cell_type": "markdown",
   "metadata": {},
   "source": [
    "# Best of 3 Models"
   ]
  },
  {
   "cell_type": "code",
   "execution_count": 15,
   "metadata": {},
   "outputs": [],
   "source": [
    "def prep_data_test(n_games,ohe):\n",
    "    h = get_headers(n_games)\n",
    "    h = clean_headers(h)\n",
    "    cv = generate_categorical_headers(h)\n",
    "\n",
    "    #to get names of teams from index\n",
    "    g = gad()\n",
    "    teams = g.createTeamDict()\n",
    "\n",
    "    #load Data\n",
    "    x_data = pd.read_csv('Data/assembled_stat_matrix_no2020'+str(n_games)+'_games.csv')\n",
    "    #manual update cbf automating this part as this is just a rough check to see how well best of 3 does\n",
    "    x_data = x_data.tail(1763)\n",
    "    \n",
    "    #make empty OHE object\n",
    "    na_enc = OneHotEncoder(handle_unknown='ignore', sparse=False)\n",
    "\n",
    "    #one hot encode data with new one hot encoder, saves ohe for later use\n",
    "    x_data, ohe = ohe_data(x_data, ohe, 1, cv)\n",
    "    \n",
    "    regex = re.compile(r\"\\[|\\]|<\", re.IGNORECASE)\n",
    "    x_data.columns = [regex.sub(\"_\", col) if any(x in str(col) for x in set(('[', ']', '<'))) else col for col in x_data.columns.values]\n",
    "\n",
    "    return x_data"
   ]
  },
  {
   "cell_type": "code",
   "execution_count": 16,
   "metadata": {},
   "outputs": [],
   "source": [
    "def load_test_models(n):\n",
    "    clf = pickle.load(open(\"Models/best_xgb_clas_no2020_\"+str(n)+\"_games.dat\", \"rb\"))\n",
    "    ohe = pickle.load(open(\"Models/ohe_\"+str(n)+\"_no_2021_games.dat\", \"rb\"))\n",
    "    return clf, ohe"
   ]
  },
  {
   "cell_type": "code",
   "execution_count": 17,
   "metadata": {
    "scrolled": true
   },
   "outputs": [],
   "source": [
    "#load data\n",
    "y_label = pd.read_csv('Data/assembled_labelled_ymatrix_no202010_games.csv')\n",
    "\n",
    "model_2, ohe = load_test_models(2)\n",
    "x_2 = prep_data_test(2,ohe)\n",
    "model_3, ohe = load_test_models(3)\n",
    "x_3 = prep_data_test(3, ohe)\n",
    "model_10, ohe = load_test_models(10)\n",
    "x_10 = prep_data_test(10, ohe)\n"
   ]
  },
  {
   "cell_type": "code",
   "execution_count": 18,
   "metadata": {
    "scrolled": true
   },
   "outputs": [
    {
     "name": "stdout",
     "output_type": "stream",
     "text": [
      "Split: 1\n"
     ]
    },
    {
     "name": "stderr",
     "output_type": "stream",
     "text": [
      "/home/chris/anaconda3/lib/python3.8/site-packages/sklearn/preprocessing/_label.py:235: DataConversionWarning: A column-vector y was passed when a 1d array was expected. Please change the shape of y to (n_samples, ), for example using ravel().\n",
      "  y = column_or_1d(y, warn=True)\n",
      "/home/chris/anaconda3/lib/python3.8/site-packages/sklearn/preprocessing/_label.py:268: DataConversionWarning: A column-vector y was passed when a 1d array was expected. Please change the shape of y to (n_samples, ), for example using ravel().\n",
      "  y = column_or_1d(y, warn=True)\n",
      "/home/chris/anaconda3/lib/python3.8/site-packages/sklearn/preprocessing/_label.py:235: DataConversionWarning: A column-vector y was passed when a 1d array was expected. Please change the shape of y to (n_samples, ), for example using ravel().\n",
      "  y = column_or_1d(y, warn=True)\n",
      "/home/chris/anaconda3/lib/python3.8/site-packages/sklearn/preprocessing/_label.py:268: DataConversionWarning: A column-vector y was passed when a 1d array was expected. Please change the shape of y to (n_samples, ), for example using ravel().\n",
      "  y = column_or_1d(y, warn=True)\n",
      "/home/chris/anaconda3/lib/python3.8/site-packages/sklearn/preprocessing/_label.py:235: DataConversionWarning: A column-vector y was passed when a 1d array was expected. Please change the shape of y to (n_samples, ), for example using ravel().\n",
      "  y = column_or_1d(y, warn=True)\n",
      "/home/chris/anaconda3/lib/python3.8/site-packages/sklearn/preprocessing/_label.py:268: DataConversionWarning: A column-vector y was passed when a 1d array was expected. Please change the shape of y to (n_samples, ), for example using ravel().\n",
      "  y = column_or_1d(y, warn=True)\n"
     ]
    },
    {
     "name": "stdout",
     "output_type": "stream",
     "text": [
      "variables for auroc curve done. Processing fold accuracy + checking best model\n",
      "     y_pred_2  y_pred_3  y_pred_10   average\n",
      "0         1.0       1.0        1.0  1.000000\n",
      "1         1.0       1.0        1.0  1.000000\n",
      "2         0.0       0.0        0.0  0.000000\n",
      "3         0.0       0.0        0.0  0.000000\n",
      "4         0.0       0.0        0.0  0.000000\n",
      "..        ...       ...        ...       ...\n",
      "172       0.0       0.0        0.0  0.000000\n",
      "173       1.0       1.0        0.0  0.666667\n",
      "174       0.0       0.0        0.0  0.000000\n",
      "175       0.0       0.0        0.0  0.000000\n",
      "176       0.0       0.0        0.0  0.000000\n",
      "\n",
      "[177 rows x 4 columns]\n",
      "[1.0, 1.0, 0.0, 0.0, 0.0, 0.0, 1.0, 0.0, 1.0, 0.0, 0.0, 0.0, 0.0, 0.0, 0.0, 0.0, 0.0, 0.3333333333333333, 0.3333333333333333, 1.0, 0.0, 0.0, 0.0, 0.6666666666666666, 0.6666666666666666, 0.0, 0.0, 0.3333333333333333, 0.3333333333333333, 1.0, 0.0, 0.0, 0.0, 0.0, 0.0, 0.0, 1.0, 0.0, 0.0, 0.0, 0.0, 0.0, 0.0, 0.6666666666666666, 0.0, 0.6666666666666666, 0.0, 0.0, 0.6666666666666666, 1.0, 0.0, 1.0, 1.0, 1.0, 0.0, 1.0, 0.0, 0.6666666666666666, 1.0, 0.3333333333333333, 0.0, 0.6666666666666666, 0.6666666666666666, 0.0, 0.0, 0.0, 0.3333333333333333, 0.0, 1.0, 0.0, 0.0, 0.0, 0.3333333333333333, 0.3333333333333333, 1.0, 1.0, 1.0, 0.0, 0.0, 1.0, 0.0, 1.0, 1.0, 1.0, 0.6666666666666666, 1.0, 1.0, 0.0, 0.0, 0.0, 0.0, 0.3333333333333333, 0.0, 0.0, 1.0, 1.0, 0.0, 1.0, 1.0, 1.0, 0.0, 1.0, 0.0, 1.0, 0.0, 1.0, 0.6666666666666666, 0.0, 0.0, 0.3333333333333333, 0.3333333333333333, 0.0, 0.0, 0.0, 0.0, 0.0, 0.0, 0.0, 0.0, 0.0, 0.0, 0.0, 1.0, 0.0, 0.0, 1.0, 0.0, 0.3333333333333333, 0.0, 0.0, 0.0, 0.0, 0.0, 0.0, 0.0, 0.0, 0.0, 1.0, 0.0, 0.6666666666666666, 0.0, 1.0, 0.0, 0.0, 0.3333333333333333, 0.0, 1.0, 0.6666666666666666, 0.0, 0.0, 0.0, 0.6666666666666666, 1.0, 0.6666666666666666, 0.6666666666666666, 1.0, 1.0, 1.0, 1.0, 0.0, 1.0, 0.0, 1.0, 0.0, 1.0, 0.0, 0.0, 0.3333333333333333, 0.0, 1.0, 0.0, 0.3333333333333333, 0.0, 0.6666666666666666, 0.0, 0.0, 0.0]\n",
      "[1, 1, 0, 0, 0, 0, 1, 0, 1, 0, 0, 0, 0, 0, 0, 0, 0, 0, 0, 1, 0, 0, 0, 1, 1, 0, 0, 0, 0, 1, 0, 0, 0, 0, 0, 0, 1, 0, 0, 0, 0, 0, 0, 1, 0, 1, 0, 0, 1, 1, 0, 1, 1, 1, 0, 1, 0, 1, 1, 0, 0, 1, 1, 0, 0, 0, 0, 0, 1, 0, 0, 0, 0, 0, 1, 1, 1, 0, 0, 1, 0, 1, 1, 1, 1, 1, 1, 0, 0, 0, 0, 0, 0, 0, 1, 1, 0, 1, 1, 1, 0, 1, 0, 1, 0, 1, 1, 0, 0, 0, 0, 0, 0, 0, 0, 0, 0, 0, 0, 0, 0, 0, 1, 0, 0, 1, 0, 0, 0, 0, 0, 0, 0, 0, 0, 0, 0, 1, 0, 1, 0, 1, 0, 0, 0, 0, 1, 1, 0, 0, 0, 1, 1, 1, 1, 1, 1, 1, 1, 0, 1, 0, 1, 0, 1, 0, 0, 0, 0, 1, 0, 0, 0, 1, 0, 0, 0]\n",
      "The accuracy of this model is70.05649717514125\n",
      "Split: 2\n"
     ]
    },
    {
     "name": "stderr",
     "output_type": "stream",
     "text": [
      "/home/chris/anaconda3/lib/python3.8/site-packages/sklearn/preprocessing/_label.py:235: DataConversionWarning: A column-vector y was passed when a 1d array was expected. Please change the shape of y to (n_samples, ), for example using ravel().\n",
      "  y = column_or_1d(y, warn=True)\n",
      "/home/chris/anaconda3/lib/python3.8/site-packages/sklearn/preprocessing/_label.py:268: DataConversionWarning: A column-vector y was passed when a 1d array was expected. Please change the shape of y to (n_samples, ), for example using ravel().\n",
      "  y = column_or_1d(y, warn=True)\n",
      "/home/chris/anaconda3/lib/python3.8/site-packages/sklearn/preprocessing/_label.py:235: DataConversionWarning: A column-vector y was passed when a 1d array was expected. Please change the shape of y to (n_samples, ), for example using ravel().\n",
      "  y = column_or_1d(y, warn=True)\n",
      "/home/chris/anaconda3/lib/python3.8/site-packages/sklearn/preprocessing/_label.py:268: DataConversionWarning: A column-vector y was passed when a 1d array was expected. Please change the shape of y to (n_samples, ), for example using ravel().\n",
      "  y = column_or_1d(y, warn=True)\n",
      "/home/chris/anaconda3/lib/python3.8/site-packages/sklearn/preprocessing/_label.py:235: DataConversionWarning: A column-vector y was passed when a 1d array was expected. Please change the shape of y to (n_samples, ), for example using ravel().\n",
      "  y = column_or_1d(y, warn=True)\n",
      "/home/chris/anaconda3/lib/python3.8/site-packages/sklearn/preprocessing/_label.py:268: DataConversionWarning: A column-vector y was passed when a 1d array was expected. Please change the shape of y to (n_samples, ), for example using ravel().\n",
      "  y = column_or_1d(y, warn=True)\n"
     ]
    },
    {
     "name": "stdout",
     "output_type": "stream",
     "text": [
      "variables for auroc curve done. Processing fold accuracy + checking best model\n",
      "     y_pred_2  y_pred_3  y_pred_10   average\n",
      "0         0.0       0.0        0.0  0.000000\n",
      "1         1.0       0.0        1.0  0.666667\n",
      "2         1.0       1.0        1.0  1.000000\n",
      "3         1.0       1.0        1.0  1.000000\n",
      "4         1.0       1.0        1.0  1.000000\n",
      "..        ...       ...        ...       ...\n",
      "172       0.0       1.0        1.0  0.666667\n",
      "173       0.0       0.0        0.0  0.000000\n",
      "174       1.0       1.0        1.0  1.000000\n",
      "175       0.0       1.0        1.0  0.666667\n",
      "176       0.0       0.0        0.0  0.000000\n",
      "\n",
      "[177 rows x 4 columns]\n",
      "[0.0, 0.6666666666666666, 1.0, 1.0, 1.0, 0.6666666666666666, 0.0, 1.0, 0.6666666666666666, 0.6666666666666666, 0.0, 0.0, 0.0, 0.0, 0.0, 1.0, 1.0, 0.0, 0.0, 0.3333333333333333, 0.3333333333333333, 0.6666666666666666, 0.0, 0.6666666666666666, 1.0, 1.0, 0.0, 0.0, 0.0, 1.0, 0.6666666666666666, 1.0, 0.0, 0.0, 0.0, 0.3333333333333333, 0.0, 1.0, 1.0, 0.0, 0.0, 0.0, 0.0, 1.0, 0.3333333333333333, 0.0, 0.0, 0.6666666666666666, 0.0, 1.0, 0.0, 0.3333333333333333, 1.0, 0.0, 0.3333333333333333, 0.0, 0.0, 1.0, 0.3333333333333333, 0.0, 1.0, 0.0, 0.0, 1.0, 0.0, 0.0, 0.0, 1.0, 0.0, 0.0, 0.0, 0.0, 1.0, 1.0, 0.3333333333333333, 0.0, 0.0, 0.3333333333333333, 0.0, 1.0, 0.0, 0.0, 0.0, 0.0, 0.6666666666666666, 1.0, 0.0, 0.6666666666666666, 0.0, 0.0, 0.3333333333333333, 0.0, 1.0, 0.0, 0.0, 0.0, 0.6666666666666666, 0.0, 0.0, 0.3333333333333333, 0.0, 1.0, 1.0, 0.0, 0.0, 1.0, 1.0, 0.0, 0.0, 0.0, 0.6666666666666666, 1.0, 0.0, 0.0, 0.0, 0.6666666666666666, 0.0, 0.0, 0.0, 1.0, 0.0, 0.0, 0.0, 1.0, 0.0, 0.0, 0.0, 0.0, 0.3333333333333333, 0.3333333333333333, 0.0, 0.3333333333333333, 0.6666666666666666, 0.3333333333333333, 0.3333333333333333, 0.0, 0.3333333333333333, 0.0, 0.0, 0.0, 0.0, 0.0, 0.3333333333333333, 0.0, 0.0, 0.0, 0.0, 0.0, 0.0, 0.0, 0.0, 0.6666666666666666, 1.0, 1.0, 0.0, 0.0, 0.0, 0.0, 1.0, 0.0, 0.3333333333333333, 0.0, 0.0, 1.0, 0.0, 1.0, 0.3333333333333333, 0.0, 1.0, 0.3333333333333333, 0.0, 0.0, 0.6666666666666666, 0.0, 1.0, 0.6666666666666666, 0.0]\n",
      "[0, 1, 1, 1, 1, 1, 0, 1, 1, 1, 0, 0, 0, 0, 0, 1, 1, 0, 0, 0, 0, 1, 0, 1, 1, 1, 0, 0, 0, 1, 1, 1, 0, 0, 0, 0, 0, 1, 1, 0, 0, 0, 0, 1, 0, 0, 0, 1, 0, 1, 0, 0, 1, 0, 0, 0, 0, 1, 0, 0, 1, 0, 0, 1, 0, 0, 0, 1, 0, 0, 0, 0, 1, 1, 0, 0, 0, 0, 0, 1, 0, 0, 0, 0, 1, 1, 0, 1, 0, 0, 0, 0, 1, 0, 0, 0, 1, 0, 0, 0, 0, 1, 1, 0, 0, 1, 1, 0, 0, 0, 1, 1, 0, 0, 0, 1, 0, 0, 0, 1, 0, 0, 0, 1, 0, 0, 0, 0, 0, 0, 0, 0, 1, 0, 0, 0, 0, 0, 0, 0, 0, 0, 0, 0, 0, 0, 0, 0, 0, 0, 0, 1, 1, 1, 0, 0, 0, 0, 1, 0, 0, 0, 0, 1, 0, 1, 0, 0, 1, 0, 0, 0, 1, 0, 1, 1, 0]\n",
      "The accuracy of this model is63.2768361581921\n",
      "Split: 3\n"
     ]
    },
    {
     "name": "stderr",
     "output_type": "stream",
     "text": [
      "/home/chris/anaconda3/lib/python3.8/site-packages/sklearn/preprocessing/_label.py:235: DataConversionWarning: A column-vector y was passed when a 1d array was expected. Please change the shape of y to (n_samples, ), for example using ravel().\n",
      "  y = column_or_1d(y, warn=True)\n",
      "/home/chris/anaconda3/lib/python3.8/site-packages/sklearn/preprocessing/_label.py:268: DataConversionWarning: A column-vector y was passed when a 1d array was expected. Please change the shape of y to (n_samples, ), for example using ravel().\n",
      "  y = column_or_1d(y, warn=True)\n",
      "/home/chris/anaconda3/lib/python3.8/site-packages/sklearn/preprocessing/_label.py:235: DataConversionWarning: A column-vector y was passed when a 1d array was expected. Please change the shape of y to (n_samples, ), for example using ravel().\n",
      "  y = column_or_1d(y, warn=True)\n",
      "/home/chris/anaconda3/lib/python3.8/site-packages/sklearn/preprocessing/_label.py:268: DataConversionWarning: A column-vector y was passed when a 1d array was expected. Please change the shape of y to (n_samples, ), for example using ravel().\n",
      "  y = column_or_1d(y, warn=True)\n",
      "/home/chris/anaconda3/lib/python3.8/site-packages/sklearn/preprocessing/_label.py:235: DataConversionWarning: A column-vector y was passed when a 1d array was expected. Please change the shape of y to (n_samples, ), for example using ravel().\n",
      "  y = column_or_1d(y, warn=True)\n",
      "/home/chris/anaconda3/lib/python3.8/site-packages/sklearn/preprocessing/_label.py:268: DataConversionWarning: A column-vector y was passed when a 1d array was expected. Please change the shape of y to (n_samples, ), for example using ravel().\n",
      "  y = column_or_1d(y, warn=True)\n"
     ]
    },
    {
     "name": "stdout",
     "output_type": "stream",
     "text": [
      "variables for auroc curve done. Processing fold accuracy + checking best model\n",
      "     y_pred_2  y_pred_3  y_pred_10   average\n",
      "0         1.0       1.0        1.0  1.000000\n",
      "1         1.0       1.0        1.0  1.000000\n",
      "2         0.0       1.0        1.0  0.666667\n",
      "3         0.0       0.0        0.0  0.000000\n",
      "4         0.0       0.0        1.0  0.333333\n",
      "..        ...       ...        ...       ...\n",
      "172       0.0       1.0        1.0  0.666667\n",
      "173       0.0       0.0        0.0  0.000000\n",
      "174       0.0       0.0        0.0  0.000000\n",
      "175       1.0       0.0        1.0  0.666667\n",
      "176       1.0       0.0        1.0  0.666667\n",
      "\n",
      "[177 rows x 4 columns]\n",
      "[1.0, 1.0, 0.6666666666666666, 0.0, 0.3333333333333333, 0.0, 0.0, 0.3333333333333333, 1.0, 0.0, 1.0, 0.0, 0.3333333333333333, 1.0, 0.6666666666666666, 0.0, 0.0, 1.0, 0.0, 1.0, 1.0, 1.0, 0.0, 1.0, 0.0, 0.0, 0.0, 1.0, 0.0, 0.0, 0.0, 0.0, 0.0, 0.6666666666666666, 0.0, 0.3333333333333333, 0.0, 0.0, 1.0, 0.0, 0.3333333333333333, 0.0, 0.3333333333333333, 0.0, 0.3333333333333333, 0.0, 1.0, 0.0, 0.3333333333333333, 0.0, 0.0, 0.0, 1.0, 0.0, 0.6666666666666666, 1.0, 1.0, 0.0, 0.6666666666666666, 0.0, 0.0, 1.0, 0.0, 1.0, 0.0, 1.0, 1.0, 0.0, 0.0, 1.0, 0.0, 1.0, 1.0, 0.6666666666666666, 0.6666666666666666, 0.0, 1.0, 1.0, 1.0, 0.3333333333333333, 0.0, 0.6666666666666666, 0.6666666666666666, 0.0, 0.0, 0.0, 0.3333333333333333, 1.0, 0.0, 0.0, 0.0, 1.0, 0.0, 1.0, 0.3333333333333333, 0.6666666666666666, 0.0, 0.0, 0.6666666666666666, 1.0, 0.0, 0.0, 0.0, 0.3333333333333333, 0.0, 1.0, 1.0, 0.6666666666666666, 0.6666666666666666, 0.0, 0.6666666666666666, 0.0, 0.3333333333333333, 0.0, 1.0, 0.3333333333333333, 0.3333333333333333, 0.0, 0.0, 0.0, 0.0, 0.0, 0.0, 1.0, 0.0, 0.0, 0.0, 0.0, 0.0, 1.0, 0.0, 0.6666666666666666, 0.0, 0.0, 0.0, 0.3333333333333333, 0.0, 0.0, 0.0, 1.0, 1.0, 1.0, 0.6666666666666666, 0.0, 1.0, 0.0, 0.0, 1.0, 0.0, 0.0, 0.6666666666666666, 0.0, 1.0, 0.3333333333333333, 0.0, 0.0, 1.0, 0.6666666666666666, 0.0, 0.0, 0.0, 0.6666666666666666, 0.0, 1.0, 0.0, 1.0, 0.3333333333333333, 1.0, 0.0, 1.0, 0.0, 0.0, 0.6666666666666666, 0.0, 0.0, 0.6666666666666666, 0.6666666666666666]\n",
      "[1, 1, 1, 0, 0, 0, 0, 0, 1, 0, 1, 0, 0, 1, 1, 0, 0, 1, 0, 1, 1, 1, 0, 1, 0, 0, 0, 1, 0, 0, 0, 0, 0, 1, 0, 0, 0, 0, 1, 0, 0, 0, 0, 0, 0, 0, 1, 0, 0, 0, 0, 0, 1, 0, 1, 1, 1, 0, 1, 0, 0, 1, 0, 1, 0, 1, 1, 0, 0, 1, 0, 1, 1, 1, 1, 0, 1, 1, 1, 0, 0, 1, 1, 0, 0, 0, 0, 1, 0, 0, 0, 1, 0, 1, 0, 1, 0, 0, 1, 1, 0, 0, 0, 0, 0, 1, 1, 1, 1, 0, 1, 0, 0, 0, 1, 0, 0, 0, 0, 0, 0, 0, 0, 1, 0, 0, 0, 0, 0, 1, 0, 1, 0, 0, 0, 0, 0, 0, 0, 1, 1, 1, 1, 0, 1, 0, 0, 1, 0, 0, 1, 0, 1, 0, 0, 0, 1, 1, 0, 0, 0, 1, 0, 1, 0, 1, 0, 1, 0, 1, 0, 0, 1, 0, 0, 1, 1]\n",
      "The accuracy of this model is69.49152542372882\n",
      "Split: 4\n"
     ]
    },
    {
     "name": "stderr",
     "output_type": "stream",
     "text": [
      "/home/chris/anaconda3/lib/python3.8/site-packages/sklearn/preprocessing/_label.py:235: DataConversionWarning: A column-vector y was passed when a 1d array was expected. Please change the shape of y to (n_samples, ), for example using ravel().\n",
      "  y = column_or_1d(y, warn=True)\n",
      "/home/chris/anaconda3/lib/python3.8/site-packages/sklearn/preprocessing/_label.py:268: DataConversionWarning: A column-vector y was passed when a 1d array was expected. Please change the shape of y to (n_samples, ), for example using ravel().\n",
      "  y = column_or_1d(y, warn=True)\n",
      "/home/chris/anaconda3/lib/python3.8/site-packages/sklearn/preprocessing/_label.py:235: DataConversionWarning: A column-vector y was passed when a 1d array was expected. Please change the shape of y to (n_samples, ), for example using ravel().\n",
      "  y = column_or_1d(y, warn=True)\n",
      "/home/chris/anaconda3/lib/python3.8/site-packages/sklearn/preprocessing/_label.py:268: DataConversionWarning: A column-vector y was passed when a 1d array was expected. Please change the shape of y to (n_samples, ), for example using ravel().\n",
      "  y = column_or_1d(y, warn=True)\n",
      "/home/chris/anaconda3/lib/python3.8/site-packages/sklearn/preprocessing/_label.py:235: DataConversionWarning: A column-vector y was passed when a 1d array was expected. Please change the shape of y to (n_samples, ), for example using ravel().\n",
      "  y = column_or_1d(y, warn=True)\n",
      "/home/chris/anaconda3/lib/python3.8/site-packages/sklearn/preprocessing/_label.py:268: DataConversionWarning: A column-vector y was passed when a 1d array was expected. Please change the shape of y to (n_samples, ), for example using ravel().\n",
      "  y = column_or_1d(y, warn=True)\n"
     ]
    },
    {
     "name": "stdout",
     "output_type": "stream",
     "text": [
      "variables for auroc curve done. Processing fold accuracy + checking best model\n",
      "     y_pred_2  y_pred_3  y_pred_10   average\n",
      "0         0.0       1.0        0.0  0.333333\n",
      "1         0.0       0.0        0.0  0.000000\n",
      "2         0.0       0.0        0.0  0.000000\n",
      "3         0.0       0.0        0.0  0.000000\n",
      "4         0.0       0.0        0.0  0.000000\n",
      "..        ...       ...        ...       ...\n",
      "171       0.0       0.0        0.0  0.000000\n",
      "172       0.0       1.0        0.0  0.333333\n",
      "173       0.0       0.0        0.0  0.000000\n",
      "174       1.0       1.0        1.0  1.000000\n",
      "175       0.0       0.0        0.0  0.000000\n",
      "\n",
      "[176 rows x 4 columns]\n",
      "[0.3333333333333333, 0.0, 0.0, 0.0, 0.0, 0.3333333333333333, 0.0, 0.0, 0.6666666666666666, 0.0, 0.0, 0.0, 1.0, 0.0, 0.0, 0.0, 0.0, 0.3333333333333333, 0.6666666666666666, 1.0, 0.3333333333333333, 0.3333333333333333, 0.0, 0.3333333333333333, 0.3333333333333333, 0.0, 0.0, 0.0, 0.0, 0.0, 0.3333333333333333, 0.0, 0.0, 1.0, 0.0, 0.0, 0.0, 1.0, 0.0, 1.0, 0.0, 0.0, 0.0, 0.0, 0.0, 0.6666666666666666, 0.0, 0.0, 0.0, 0.0, 1.0, 0.0, 0.6666666666666666, 0.0, 0.0, 0.0, 0.6666666666666666, 0.6666666666666666, 1.0, 0.6666666666666666, 0.0, 0.0, 1.0, 0.0, 0.0, 1.0, 0.0, 0.0, 0.0, 1.0, 0.0, 0.0, 0.0, 0.3333333333333333, 0.3333333333333333, 0.0, 1.0, 0.0, 1.0, 1.0, 0.0, 1.0, 0.0, 0.0, 0.0, 0.3333333333333333, 0.6666666666666666, 1.0, 1.0, 0.0, 0.0, 0.0, 0.0, 0.0, 0.0, 0.0, 0.0, 0.3333333333333333, 0.0, 0.0, 0.0, 0.0, 0.0, 0.0, 0.0, 0.0, 0.0, 0.0, 0.0, 0.0, 1.0, 0.0, 0.0, 0.0, 1.0, 0.0, 1.0, 0.0, 0.3333333333333333, 1.0, 0.0, 0.0, 0.0, 0.0, 0.0, 0.3333333333333333, 0.0, 0.0, 0.6666666666666666, 1.0, 1.0, 1.0, 1.0, 1.0, 0.0, 0.0, 1.0, 0.6666666666666666, 0.0, 1.0, 0.0, 0.6666666666666666, 0.0, 0.0, 0.0, 1.0, 0.0, 0.0, 0.3333333333333333, 0.3333333333333333, 0.6666666666666666, 1.0, 0.0, 0.0, 0.0, 0.0, 0.0, 0.3333333333333333, 0.0, 0.0, 0.0, 1.0, 0.0, 0.0, 1.0, 0.0, 0.0, 0.0, 0.3333333333333333, 0.0, 0.0, 0.0, 0.3333333333333333, 0.0, 1.0, 0.0]\n",
      "[0, 0, 0, 0, 0, 0, 0, 0, 1, 0, 0, 0, 1, 0, 0, 0, 0, 0, 1, 1, 0, 0, 0, 0, 0, 0, 0, 0, 0, 0, 0, 0, 0, 1, 0, 0, 0, 1, 0, 1, 0, 0, 0, 0, 0, 1, 0, 0, 0, 0, 1, 0, 1, 0, 0, 0, 1, 1, 1, 1, 0, 0, 1, 0, 0, 1, 0, 0, 0, 1, 0, 0, 0, 0, 0, 0, 1, 0, 1, 1, 0, 1, 0, 0, 0, 0, 1, 1, 1, 0, 0, 0, 0, 0, 0, 0, 0, 0, 0, 0, 0, 0, 0, 0, 0, 0, 0, 0, 0, 0, 1, 0, 0, 0, 1, 0, 1, 0, 0, 1, 0, 0, 0, 0, 0, 0, 0, 0, 1, 1, 1, 1, 1, 1, 0, 0, 1, 1, 0, 1, 0, 1, 0, 0, 0, 1, 0, 0, 0, 0, 1, 1, 0, 0, 0, 0, 0, 0, 0, 0, 0, 1, 0, 0, 1, 0, 0, 0, 0, 0, 0, 0, 0, 0, 1, 0]\n",
      "The accuracy of this model is68.75\n",
      "Split: 5\n"
     ]
    },
    {
     "name": "stderr",
     "output_type": "stream",
     "text": [
      "/home/chris/anaconda3/lib/python3.8/site-packages/sklearn/preprocessing/_label.py:235: DataConversionWarning: A column-vector y was passed when a 1d array was expected. Please change the shape of y to (n_samples, ), for example using ravel().\n",
      "  y = column_or_1d(y, warn=True)\n",
      "/home/chris/anaconda3/lib/python3.8/site-packages/sklearn/preprocessing/_label.py:268: DataConversionWarning: A column-vector y was passed when a 1d array was expected. Please change the shape of y to (n_samples, ), for example using ravel().\n",
      "  y = column_or_1d(y, warn=True)\n",
      "/home/chris/anaconda3/lib/python3.8/site-packages/sklearn/preprocessing/_label.py:235: DataConversionWarning: A column-vector y was passed when a 1d array was expected. Please change the shape of y to (n_samples, ), for example using ravel().\n",
      "  y = column_or_1d(y, warn=True)\n",
      "/home/chris/anaconda3/lib/python3.8/site-packages/sklearn/preprocessing/_label.py:268: DataConversionWarning: A column-vector y was passed when a 1d array was expected. Please change the shape of y to (n_samples, ), for example using ravel().\n",
      "  y = column_or_1d(y, warn=True)\n",
      "/home/chris/anaconda3/lib/python3.8/site-packages/sklearn/preprocessing/_label.py:235: DataConversionWarning: A column-vector y was passed when a 1d array was expected. Please change the shape of y to (n_samples, ), for example using ravel().\n",
      "  y = column_or_1d(y, warn=True)\n",
      "/home/chris/anaconda3/lib/python3.8/site-packages/sklearn/preprocessing/_label.py:268: DataConversionWarning: A column-vector y was passed when a 1d array was expected. Please change the shape of y to (n_samples, ), for example using ravel().\n",
      "  y = column_or_1d(y, warn=True)\n"
     ]
    },
    {
     "name": "stdout",
     "output_type": "stream",
     "text": [
      "variables for auroc curve done. Processing fold accuracy + checking best model\n",
      "     y_pred_2  y_pred_3  y_pred_10   average\n",
      "0         0.0       0.0        0.0  0.000000\n",
      "1         1.0       1.0        1.0  1.000000\n",
      "2         0.0       0.0        0.0  0.000000\n",
      "3         1.0       1.0        1.0  1.000000\n",
      "4         0.0       0.0        0.0  0.000000\n",
      "..        ...       ...        ...       ...\n",
      "171       0.0       0.0        0.0  0.000000\n",
      "172       0.0       0.0        1.0  0.333333\n",
      "173       1.0       1.0        1.0  1.000000\n",
      "174       0.0       0.0        0.0  0.000000\n",
      "175       0.0       0.0        0.0  0.000000\n",
      "\n",
      "[176 rows x 4 columns]\n",
      "[0.0, 1.0, 0.0, 1.0, 0.0, 0.3333333333333333, 0.0, 1.0, 0.0, 0.0, 1.0, 1.0, 0.0, 0.0, 0.0, 0.0, 0.6666666666666666, 0.0, 0.0, 0.3333333333333333, 1.0, 0.6666666666666666, 0.3333333333333333, 0.0, 0.3333333333333333, 0.3333333333333333, 1.0, 0.0, 0.0, 0.3333333333333333, 0.0, 0.0, 0.0, 0.3333333333333333, 1.0, 0.0, 0.0, 1.0, 0.0, 0.0, 0.0, 0.6666666666666666, 0.0, 0.0, 0.0, 0.0, 0.0, 1.0, 0.0, 0.0, 0.0, 0.0, 0.0, 1.0, 0.0, 0.6666666666666666, 0.6666666666666666, 0.0, 0.0, 1.0, 0.3333333333333333, 1.0, 0.3333333333333333, 0.0, 0.0, 0.0, 0.6666666666666666, 0.0, 0.0, 1.0, 0.0, 0.0, 0.0, 0.0, 0.0, 0.0, 0.0, 0.0, 0.0, 0.0, 0.0, 0.0, 0.6666666666666666, 1.0, 0.0, 0.6666666666666666, 0.0, 0.0, 1.0, 0.0, 0.0, 0.0, 1.0, 0.0, 1.0, 1.0, 1.0, 0.0, 1.0, 0.0, 1.0, 0.0, 0.0, 0.0, 0.3333333333333333, 0.0, 1.0, 0.0, 0.0, 0.0, 0.3333333333333333, 0.6666666666666666, 0.0, 0.3333333333333333, 0.0, 1.0, 1.0, 0.3333333333333333, 0.3333333333333333, 0.0, 0.6666666666666666, 0.0, 0.0, 1.0, 0.0, 0.0, 0.3333333333333333, 0.0, 0.6666666666666666, 0.3333333333333333, 0.0, 0.0, 0.0, 0.0, 0.0, 0.0, 1.0, 0.0, 0.0, 1.0, 1.0, 0.0, 0.6666666666666666, 0.0, 0.0, 0.0, 0.6666666666666666, 0.3333333333333333, 0.6666666666666666, 1.0, 1.0, 0.0, 0.0, 0.0, 0.0, 0.0, 0.0, 1.0, 0.0, 0.0, 0.3333333333333333, 0.0, 0.0, 0.0, 0.0, 0.0, 0.0, 1.0, 0.3333333333333333, 0.0, 0.0, 0.0, 0.3333333333333333, 1.0, 0.0, 0.0]\n",
      "[0, 1, 0, 1, 0, 0, 0, 1, 0, 0, 1, 1, 0, 0, 0, 0, 1, 0, 0, 0, 1, 1, 0, 0, 0, 0, 1, 0, 0, 0, 0, 0, 0, 0, 1, 0, 0, 1, 0, 0, 0, 1, 0, 0, 0, 0, 0, 1, 0, 0, 0, 0, 0, 1, 0, 1, 1, 0, 0, 1, 0, 1, 0, 0, 0, 0, 1, 0, 0, 1, 0, 0, 0, 0, 0, 0, 0, 0, 0, 0, 0, 0, 1, 1, 0, 1, 0, 0, 1, 0, 0, 0, 1, 0, 1, 1, 1, 0, 1, 0, 1, 0, 0, 0, 0, 0, 1, 0, 0, 0, 0, 1, 0, 0, 0, 1, 1, 0, 0, 0, 1, 0, 0, 1, 0, 0, 0, 0, 1, 0, 0, 0, 0, 0, 0, 0, 1, 0, 0, 1, 1, 0, 1, 0, 0, 0, 1, 0, 1, 1, 1, 0, 0, 0, 0, 0, 0, 1, 0, 0, 0, 0, 0, 0, 0, 0, 0, 1, 0, 0, 0, 0, 0, 1, 0, 0]\n",
      "The accuracy of this model is69.88636363636364\n",
      "Split: 6\n"
     ]
    },
    {
     "name": "stderr",
     "output_type": "stream",
     "text": [
      "/home/chris/anaconda3/lib/python3.8/site-packages/sklearn/preprocessing/_label.py:235: DataConversionWarning: A column-vector y was passed when a 1d array was expected. Please change the shape of y to (n_samples, ), for example using ravel().\n",
      "  y = column_or_1d(y, warn=True)\n",
      "/home/chris/anaconda3/lib/python3.8/site-packages/sklearn/preprocessing/_label.py:268: DataConversionWarning: A column-vector y was passed when a 1d array was expected. Please change the shape of y to (n_samples, ), for example using ravel().\n",
      "  y = column_or_1d(y, warn=True)\n",
      "/home/chris/anaconda3/lib/python3.8/site-packages/sklearn/preprocessing/_label.py:235: DataConversionWarning: A column-vector y was passed when a 1d array was expected. Please change the shape of y to (n_samples, ), for example using ravel().\n",
      "  y = column_or_1d(y, warn=True)\n",
      "/home/chris/anaconda3/lib/python3.8/site-packages/sklearn/preprocessing/_label.py:268: DataConversionWarning: A column-vector y was passed when a 1d array was expected. Please change the shape of y to (n_samples, ), for example using ravel().\n",
      "  y = column_or_1d(y, warn=True)\n",
      "/home/chris/anaconda3/lib/python3.8/site-packages/sklearn/preprocessing/_label.py:235: DataConversionWarning: A column-vector y was passed when a 1d array was expected. Please change the shape of y to (n_samples, ), for example using ravel().\n",
      "  y = column_or_1d(y, warn=True)\n",
      "/home/chris/anaconda3/lib/python3.8/site-packages/sklearn/preprocessing/_label.py:268: DataConversionWarning: A column-vector y was passed when a 1d array was expected. Please change the shape of y to (n_samples, ), for example using ravel().\n",
      "  y = column_or_1d(y, warn=True)\n"
     ]
    },
    {
     "name": "stdout",
     "output_type": "stream",
     "text": [
      "variables for auroc curve done. Processing fold accuracy + checking best model\n",
      "     y_pred_2  y_pred_3  y_pred_10   average\n",
      "0         0.0       1.0        0.0  0.333333\n",
      "1         0.0       0.0        0.0  0.000000\n",
      "2         1.0       1.0        0.0  0.666667\n",
      "3         0.0       0.0        0.0  0.000000\n",
      "4         0.0       0.0        0.0  0.000000\n",
      "..        ...       ...        ...       ...\n",
      "171       0.0       0.0        0.0  0.000000\n",
      "172       1.0       1.0        1.0  1.000000\n",
      "173       1.0       1.0        1.0  1.000000\n",
      "174       0.0       0.0        0.0  0.000000\n",
      "175       1.0       1.0        1.0  1.000000\n",
      "\n",
      "[176 rows x 4 columns]\n",
      "[0.3333333333333333, 0.0, 0.6666666666666666, 0.0, 0.0, 1.0, 0.0, 1.0, 0.0, 1.0, 0.0, 0.0, 0.0, 0.0, 0.0, 0.6666666666666666, 0.3333333333333333, 0.0, 0.0, 1.0, 0.3333333333333333, 0.0, 1.0, 1.0, 0.0, 0.0, 0.0, 1.0, 0.0, 0.0, 0.0, 0.0, 0.0, 0.0, 0.0, 1.0, 0.0, 0.0, 1.0, 0.3333333333333333, 0.0, 0.6666666666666666, 0.3333333333333333, 1.0, 0.0, 0.3333333333333333, 1.0, 0.0, 0.0, 0.0, 0.0, 1.0, 0.6666666666666666, 0.0, 0.0, 1.0, 0.0, 0.0, 0.0, 0.0, 0.0, 1.0, 0.0, 1.0, 1.0, 0.0, 0.0, 0.6666666666666666, 0.0, 0.3333333333333333, 0.3333333333333333, 0.0, 0.0, 0.0, 0.0, 0.6666666666666666, 0.0, 0.0, 0.3333333333333333, 0.6666666666666666, 0.0, 0.0, 0.0, 0.0, 0.3333333333333333, 0.0, 1.0, 0.6666666666666666, 0.6666666666666666, 0.0, 0.0, 0.6666666666666666, 0.3333333333333333, 0.0, 0.6666666666666666, 1.0, 1.0, 0.0, 0.3333333333333333, 1.0, 0.6666666666666666, 0.0, 0.0, 1.0, 0.0, 0.0, 0.6666666666666666, 1.0, 1.0, 1.0, 0.3333333333333333, 1.0, 0.0, 0.0, 1.0, 0.0, 0.6666666666666666, 0.0, 0.0, 0.0, 0.3333333333333333, 0.0, 1.0, 0.3333333333333333, 0.0, 0.0, 0.3333333333333333, 1.0, 0.3333333333333333, 0.0, 0.0, 1.0, 0.3333333333333333, 0.0, 0.0, 0.0, 0.3333333333333333, 0.0, 0.0, 0.0, 0.3333333333333333, 1.0, 0.0, 0.0, 0.0, 0.3333333333333333, 0.0, 0.0, 0.0, 0.6666666666666666, 0.3333333333333333, 0.0, 1.0, 0.0, 0.3333333333333333, 0.3333333333333333, 0.3333333333333333, 0.0, 1.0, 1.0, 1.0, 0.6666666666666666, 1.0, 1.0, 0.0, 0.3333333333333333, 0.0, 0.0, 0.0, 0.3333333333333333, 0.3333333333333333, 0.0, 1.0, 1.0, 0.0, 1.0]\n",
      "[0, 0, 1, 0, 0, 1, 0, 1, 0, 1, 0, 0, 0, 0, 0, 1, 0, 0, 0, 1, 0, 0, 1, 1, 0, 0, 0, 1, 0, 0, 0, 0, 0, 0, 0, 1, 0, 0, 1, 0, 0, 1, 0, 1, 0, 0, 1, 0, 0, 0, 0, 1, 1, 0, 0, 1, 0, 0, 0, 0, 0, 1, 0, 1, 1, 0, 0, 1, 0, 0, 0, 0, 0, 0, 0, 1, 0, 0, 0, 1, 0, 0, 0, 0, 0, 0, 1, 1, 1, 0, 0, 1, 0, 0, 1, 1, 1, 0, 0, 1, 1, 0, 0, 1, 0, 0, 1, 1, 1, 1, 0, 1, 0, 0, 1, 0, 1, 0, 0, 0, 0, 0, 1, 0, 0, 0, 0, 1, 0, 0, 0, 1, 0, 0, 0, 0, 0, 0, 0, 0, 0, 1, 0, 0, 0, 0, 0, 0, 0, 1, 0, 0, 1, 0, 0, 0, 0, 0, 1, 1, 1, 1, 1, 1, 0, 0, 0, 0, 0, 0, 0, 0, 1, 1, 0, 1]\n",
      "The accuracy of this model is67.04545454545455\n",
      "Split: 7\n"
     ]
    },
    {
     "name": "stderr",
     "output_type": "stream",
     "text": [
      "/home/chris/anaconda3/lib/python3.8/site-packages/sklearn/preprocessing/_label.py:235: DataConversionWarning: A column-vector y was passed when a 1d array was expected. Please change the shape of y to (n_samples, ), for example using ravel().\n",
      "  y = column_or_1d(y, warn=True)\n",
      "/home/chris/anaconda3/lib/python3.8/site-packages/sklearn/preprocessing/_label.py:268: DataConversionWarning: A column-vector y was passed when a 1d array was expected. Please change the shape of y to (n_samples, ), for example using ravel().\n",
      "  y = column_or_1d(y, warn=True)\n",
      "/home/chris/anaconda3/lib/python3.8/site-packages/sklearn/preprocessing/_label.py:235: DataConversionWarning: A column-vector y was passed when a 1d array was expected. Please change the shape of y to (n_samples, ), for example using ravel().\n",
      "  y = column_or_1d(y, warn=True)\n",
      "/home/chris/anaconda3/lib/python3.8/site-packages/sklearn/preprocessing/_label.py:268: DataConversionWarning: A column-vector y was passed when a 1d array was expected. Please change the shape of y to (n_samples, ), for example using ravel().\n",
      "  y = column_or_1d(y, warn=True)\n",
      "/home/chris/anaconda3/lib/python3.8/site-packages/sklearn/preprocessing/_label.py:235: DataConversionWarning: A column-vector y was passed when a 1d array was expected. Please change the shape of y to (n_samples, ), for example using ravel().\n",
      "  y = column_or_1d(y, warn=True)\n",
      "/home/chris/anaconda3/lib/python3.8/site-packages/sklearn/preprocessing/_label.py:268: DataConversionWarning: A column-vector y was passed when a 1d array was expected. Please change the shape of y to (n_samples, ), for example using ravel().\n",
      "  y = column_or_1d(y, warn=True)\n"
     ]
    },
    {
     "name": "stdout",
     "output_type": "stream",
     "text": [
      "variables for auroc curve done. Processing fold accuracy + checking best model\n",
      "     y_pred_2  y_pred_3  y_pred_10   average\n",
      "0         0.0       0.0        0.0  0.000000\n",
      "1         1.0       1.0        1.0  1.000000\n",
      "2         0.0       0.0        0.0  0.000000\n",
      "3         1.0       1.0        0.0  0.666667\n",
      "4         0.0       0.0        1.0  0.333333\n",
      "..        ...       ...        ...       ...\n",
      "171       0.0       1.0        0.0  0.333333\n",
      "172       0.0       1.0        0.0  0.333333\n",
      "173       1.0       1.0        1.0  1.000000\n",
      "174       0.0       0.0        0.0  0.000000\n",
      "175       0.0       0.0        0.0  0.000000\n",
      "\n",
      "[176 rows x 4 columns]\n",
      "[0.0, 1.0, 0.0, 0.6666666666666666, 0.3333333333333333, 0.0, 0.0, 0.0, 0.0, 0.3333333333333333, 0.3333333333333333, 0.3333333333333333, 1.0, 0.0, 1.0, 0.0, 0.3333333333333333, 0.0, 0.0, 0.0, 0.0, 0.0, 1.0, 0.0, 0.0, 1.0, 0.6666666666666666, 1.0, 1.0, 0.0, 0.0, 0.0, 0.0, 0.3333333333333333, 1.0, 0.3333333333333333, 0.3333333333333333, 1.0, 0.0, 1.0, 0.0, 0.0, 0.0, 0.0, 1.0, 1.0, 0.0, 1.0, 1.0, 0.0, 0.0, 0.0, 0.0, 0.0, 1.0, 0.0, 0.0, 1.0, 0.0, 0.0, 1.0, 0.0, 0.3333333333333333, 0.0, 0.0, 0.0, 0.6666666666666666, 0.0, 1.0, 0.0, 0.6666666666666666, 0.0, 1.0, 0.0, 0.0, 0.3333333333333333, 0.6666666666666666, 0.0, 0.3333333333333333, 0.0, 0.0, 0.0, 0.0, 0.0, 0.3333333333333333, 0.3333333333333333, 0.0, 1.0, 0.3333333333333333, 0.0, 1.0, 0.0, 0.0, 0.6666666666666666, 0.3333333333333333, 0.0, 0.0, 0.3333333333333333, 1.0, 1.0, 0.0, 0.6666666666666666, 1.0, 0.0, 0.3333333333333333, 0.0, 0.0, 1.0, 0.0, 0.0, 0.0, 0.0, 0.0, 1.0, 0.3333333333333333, 0.6666666666666666, 1.0, 0.0, 0.0, 0.0, 0.0, 1.0, 1.0, 0.0, 0.3333333333333333, 1.0, 0.0, 0.0, 0.0, 0.3333333333333333, 0.6666666666666666, 1.0, 0.3333333333333333, 1.0, 0.0, 0.0, 0.0, 1.0, 0.6666666666666666, 0.0, 0.0, 1.0, 0.0, 1.0, 0.0, 0.0, 0.0, 0.3333333333333333, 0.0, 0.0, 0.0, 0.0, 0.0, 1.0, 0.0, 0.0, 0.0, 0.0, 0.0, 1.0, 0.0, 0.0, 0.0, 0.0, 0.0, 0.0, 1.0, 0.0, 1.0, 0.0, 0.6666666666666666, 0.3333333333333333, 0.3333333333333333, 1.0, 0.0, 0.0]\n",
      "[0, 1, 0, 1, 0, 0, 0, 0, 0, 0, 0, 0, 1, 0, 1, 0, 0, 0, 0, 0, 0, 0, 1, 0, 0, 1, 1, 1, 1, 0, 0, 0, 0, 0, 1, 0, 0, 1, 0, 1, 0, 0, 0, 0, 1, 1, 0, 1, 1, 0, 0, 0, 0, 0, 1, 0, 0, 1, 0, 0, 1, 0, 0, 0, 0, 0, 1, 0, 1, 0, 1, 0, 1, 0, 0, 0, 1, 0, 0, 0, 0, 0, 0, 0, 0, 0, 0, 1, 0, 0, 1, 0, 0, 1, 0, 0, 0, 0, 1, 1, 0, 1, 1, 0, 0, 0, 0, 1, 0, 0, 0, 0, 0, 1, 0, 1, 1, 0, 0, 0, 0, 1, 1, 0, 0, 1, 0, 0, 0, 0, 1, 1, 0, 1, 0, 0, 0, 1, 1, 0, 0, 1, 0, 1, 0, 0, 0, 0, 0, 0, 0, 0, 0, 1, 0, 0, 0, 0, 0, 1, 0, 0, 0, 0, 0, 0, 1, 0, 1, 0, 1, 0, 0, 1, 0, 0]\n",
      "The accuracy of this model is67.61363636363636\n",
      "Split: 8\n"
     ]
    },
    {
     "name": "stderr",
     "output_type": "stream",
     "text": [
      "/home/chris/anaconda3/lib/python3.8/site-packages/sklearn/preprocessing/_label.py:235: DataConversionWarning: A column-vector y was passed when a 1d array was expected. Please change the shape of y to (n_samples, ), for example using ravel().\n",
      "  y = column_or_1d(y, warn=True)\n",
      "/home/chris/anaconda3/lib/python3.8/site-packages/sklearn/preprocessing/_label.py:268: DataConversionWarning: A column-vector y was passed when a 1d array was expected. Please change the shape of y to (n_samples, ), for example using ravel().\n",
      "  y = column_or_1d(y, warn=True)\n",
      "/home/chris/anaconda3/lib/python3.8/site-packages/sklearn/preprocessing/_label.py:235: DataConversionWarning: A column-vector y was passed when a 1d array was expected. Please change the shape of y to (n_samples, ), for example using ravel().\n",
      "  y = column_or_1d(y, warn=True)\n",
      "/home/chris/anaconda3/lib/python3.8/site-packages/sklearn/preprocessing/_label.py:268: DataConversionWarning: A column-vector y was passed when a 1d array was expected. Please change the shape of y to (n_samples, ), for example using ravel().\n",
      "  y = column_or_1d(y, warn=True)\n",
      "/home/chris/anaconda3/lib/python3.8/site-packages/sklearn/preprocessing/_label.py:235: DataConversionWarning: A column-vector y was passed when a 1d array was expected. Please change the shape of y to (n_samples, ), for example using ravel().\n",
      "  y = column_or_1d(y, warn=True)\n",
      "/home/chris/anaconda3/lib/python3.8/site-packages/sklearn/preprocessing/_label.py:268: DataConversionWarning: A column-vector y was passed when a 1d array was expected. Please change the shape of y to (n_samples, ), for example using ravel().\n",
      "  y = column_or_1d(y, warn=True)\n"
     ]
    },
    {
     "name": "stdout",
     "output_type": "stream",
     "text": [
      "variables for auroc curve done. Processing fold accuracy + checking best model\n",
      "     y_pred_2  y_pred_3  y_pred_10   average\n",
      "0         1.0       1.0        1.0  1.000000\n",
      "1         0.0       0.0        0.0  0.000000\n",
      "2         1.0       0.0        1.0  0.666667\n",
      "3         0.0       0.0        0.0  0.000000\n",
      "4         0.0       0.0        0.0  0.000000\n",
      "..        ...       ...        ...       ...\n",
      "171       0.0       0.0        0.0  0.000000\n",
      "172       0.0       0.0        0.0  0.000000\n",
      "173       0.0       0.0        0.0  0.000000\n",
      "174       0.0       0.0        0.0  0.000000\n",
      "175       1.0       1.0        1.0  1.000000\n",
      "\n",
      "[176 rows x 4 columns]\n",
      "[1.0, 0.0, 0.6666666666666666, 0.0, 0.0, 0.0, 0.0, 0.0, 0.0, 1.0, 0.3333333333333333, 0.0, 0.0, 1.0, 0.0, 0.0, 0.0, 1.0, 1.0, 1.0, 0.0, 1.0, 1.0, 0.0, 0.3333333333333333, 0.3333333333333333, 0.0, 0.0, 0.0, 0.0, 0.0, 0.0, 1.0, 1.0, 1.0, 0.0, 1.0, 0.3333333333333333, 1.0, 1.0, 0.0, 0.3333333333333333, 0.0, 1.0, 1.0, 0.0, 0.0, 1.0, 0.0, 0.0, 0.3333333333333333, 0.0, 0.0, 0.0, 0.0, 0.6666666666666666, 0.3333333333333333, 0.0, 1.0, 0.3333333333333333, 0.0, 0.0, 0.0, 0.0, 0.0, 1.0, 1.0, 0.0, 0.0, 0.0, 0.0, 0.0, 0.0, 0.0, 0.0, 1.0, 0.0, 0.0, 1.0, 0.0, 0.6666666666666666, 1.0, 1.0, 0.0, 0.0, 0.3333333333333333, 0.0, 0.0, 0.0, 0.6666666666666666, 0.0, 1.0, 0.3333333333333333, 0.6666666666666666, 0.0, 1.0, 0.0, 1.0, 1.0, 0.0, 1.0, 0.0, 0.3333333333333333, 1.0, 1.0, 0.0, 1.0, 0.3333333333333333, 0.0, 0.0, 0.6666666666666666, 0.0, 0.0, 1.0, 0.6666666666666666, 0.0, 0.0, 0.6666666666666666, 0.3333333333333333, 0.0, 0.6666666666666666, 1.0, 0.6666666666666666, 0.6666666666666666, 1.0, 0.0, 0.0, 1.0, 0.6666666666666666, 0.0, 0.0, 1.0, 0.0, 0.0, 0.0, 0.0, 0.0, 1.0, 0.0, 0.0, 1.0, 1.0, 0.0, 0.0, 0.0, 0.0, 0.0, 0.0, 0.0, 1.0, 0.0, 1.0, 1.0, 0.0, 0.6666666666666666, 0.6666666666666666, 0.0, 0.0, 1.0, 0.0, 1.0, 0.0, 0.6666666666666666, 0.0, 1.0, 1.0, 0.0, 1.0, 0.0, 0.0, 1.0, 0.0, 0.0, 0.0, 0.0, 1.0]\n",
      "[1, 0, 1, 0, 0, 0, 0, 0, 0, 1, 0, 0, 0, 1, 0, 0, 0, 1, 1, 1, 0, 1, 1, 0, 0, 0, 0, 0, 0, 0, 0, 0, 1, 1, 1, 0, 1, 0, 1, 1, 0, 0, 0, 1, 1, 0, 0, 1, 0, 0, 0, 0, 0, 0, 0, 1, 0, 0, 1, 0, 0, 0, 0, 0, 0, 1, 1, 0, 0, 0, 0, 0, 0, 0, 0, 1, 0, 0, 1, 0, 1, 1, 1, 0, 0, 0, 0, 0, 0, 1, 0, 1, 0, 1, 0, 1, 0, 1, 1, 0, 1, 0, 0, 1, 1, 0, 1, 0, 0, 0, 1, 0, 0, 1, 1, 0, 0, 1, 0, 0, 1, 1, 1, 1, 1, 0, 0, 1, 1, 0, 0, 1, 0, 0, 0, 0, 0, 1, 0, 0, 1, 1, 0, 0, 0, 0, 0, 0, 0, 1, 0, 1, 1, 0, 1, 1, 0, 0, 1, 0, 1, 0, 1, 0, 1, 1, 0, 1, 0, 0, 1, 0, 0, 0, 0, 1]\n",
      "The accuracy of this model is66.47727272727273\n",
      "Split: 9\n"
     ]
    },
    {
     "name": "stderr",
     "output_type": "stream",
     "text": [
      "/home/chris/anaconda3/lib/python3.8/site-packages/sklearn/preprocessing/_label.py:235: DataConversionWarning: A column-vector y was passed when a 1d array was expected. Please change the shape of y to (n_samples, ), for example using ravel().\n",
      "  y = column_or_1d(y, warn=True)\n",
      "/home/chris/anaconda3/lib/python3.8/site-packages/sklearn/preprocessing/_label.py:268: DataConversionWarning: A column-vector y was passed when a 1d array was expected. Please change the shape of y to (n_samples, ), for example using ravel().\n",
      "  y = column_or_1d(y, warn=True)\n",
      "/home/chris/anaconda3/lib/python3.8/site-packages/sklearn/preprocessing/_label.py:235: DataConversionWarning: A column-vector y was passed when a 1d array was expected. Please change the shape of y to (n_samples, ), for example using ravel().\n",
      "  y = column_or_1d(y, warn=True)\n",
      "/home/chris/anaconda3/lib/python3.8/site-packages/sklearn/preprocessing/_label.py:268: DataConversionWarning: A column-vector y was passed when a 1d array was expected. Please change the shape of y to (n_samples, ), for example using ravel().\n",
      "  y = column_or_1d(y, warn=True)\n",
      "/home/chris/anaconda3/lib/python3.8/site-packages/sklearn/preprocessing/_label.py:235: DataConversionWarning: A column-vector y was passed when a 1d array was expected. Please change the shape of y to (n_samples, ), for example using ravel().\n",
      "  y = column_or_1d(y, warn=True)\n",
      "/home/chris/anaconda3/lib/python3.8/site-packages/sklearn/preprocessing/_label.py:268: DataConversionWarning: A column-vector y was passed when a 1d array was expected. Please change the shape of y to (n_samples, ), for example using ravel().\n",
      "  y = column_or_1d(y, warn=True)\n"
     ]
    },
    {
     "name": "stdout",
     "output_type": "stream",
     "text": [
      "variables for auroc curve done. Processing fold accuracy + checking best model\n",
      "     y_pred_2  y_pred_3  y_pred_10   average\n",
      "0         0.0       0.0        0.0  0.000000\n",
      "1         0.0       0.0        0.0  0.000000\n",
      "2         0.0       1.0        0.0  0.333333\n",
      "3         0.0       0.0        0.0  0.000000\n",
      "4         0.0       0.0        0.0  0.000000\n",
      "..        ...       ...        ...       ...\n",
      "171       1.0       1.0        1.0  1.000000\n",
      "172       1.0       1.0        1.0  1.000000\n",
      "173       0.0       0.0        0.0  0.000000\n",
      "174       1.0       0.0        1.0  0.666667\n",
      "175       1.0       1.0        1.0  1.000000\n",
      "\n",
      "[176 rows x 4 columns]\n",
      "[0.0, 0.0, 0.3333333333333333, 0.0, 0.0, 0.0, 1.0, 0.0, 0.0, 0.0, 0.0, 0.0, 0.0, 0.0, 0.3333333333333333, 0.0, 0.6666666666666666, 1.0, 0.0, 0.0, 1.0, 1.0, 1.0, 0.0, 1.0, 0.0, 0.0, 0.0, 0.0, 0.0, 0.0, 0.0, 1.0, 0.0, 0.0, 1.0, 0.0, 0.6666666666666666, 0.6666666666666666, 1.0, 0.0, 0.0, 0.0, 0.3333333333333333, 0.3333333333333333, 1.0, 1.0, 0.3333333333333333, 0.0, 0.0, 0.3333333333333333, 0.0, 0.0, 0.0, 0.6666666666666666, 1.0, 0.0, 0.0, 1.0, 1.0, 0.0, 1.0, 0.0, 1.0, 0.0, 0.0, 1.0, 0.3333333333333333, 0.0, 1.0, 0.0, 0.0, 0.0, 0.0, 0.0, 0.0, 0.0, 0.0, 0.3333333333333333, 0.0, 0.6666666666666666, 0.0, 0.3333333333333333, 0.0, 1.0, 1.0, 1.0, 0.0, 0.0, 1.0, 0.0, 0.0, 0.6666666666666666, 0.0, 0.0, 0.0, 0.6666666666666666, 0.0, 0.0, 0.0, 1.0, 1.0, 0.0, 0.6666666666666666, 0.0, 1.0, 0.0, 0.0, 1.0, 1.0, 0.0, 0.0, 0.0, 0.0, 1.0, 0.0, 0.0, 1.0, 1.0, 0.0, 1.0, 0.0, 0.0, 0.0, 0.6666666666666666, 0.3333333333333333, 0.6666666666666666, 0.3333333333333333, 0.0, 1.0, 0.0, 0.3333333333333333, 0.0, 0.0, 0.0, 0.0, 0.0, 0.0, 0.0, 0.3333333333333333, 0.0, 0.3333333333333333, 0.3333333333333333, 0.6666666666666666, 0.0, 0.0, 0.0, 0.0, 0.0, 1.0, 0.6666666666666666, 0.0, 0.0, 0.0, 0.0, 0.3333333333333333, 0.0, 0.0, 1.0, 0.6666666666666666, 0.3333333333333333, 0.0, 1.0, 0.0, 0.0, 1.0, 0.0, 0.0, 0.0, 0.0, 0.0, 1.0, 1.0, 0.0, 0.6666666666666666, 1.0]\n",
      "[0, 0, 0, 0, 0, 0, 1, 0, 0, 0, 0, 0, 0, 0, 0, 0, 1, 1, 0, 0, 1, 1, 1, 0, 1, 0, 0, 0, 0, 0, 0, 0, 1, 0, 0, 1, 0, 1, 1, 1, 0, 0, 0, 0, 0, 1, 1, 0, 0, 0, 0, 0, 0, 0, 1, 1, 0, 0, 1, 1, 0, 1, 0, 1, 0, 0, 1, 0, 0, 1, 0, 0, 0, 0, 0, 0, 0, 0, 0, 0, 1, 0, 0, 0, 1, 1, 1, 0, 0, 1, 0, 0, 1, 0, 0, 0, 1, 0, 0, 0, 1, 1, 0, 1, 0, 1, 0, 0, 1, 1, 0, 0, 0, 0, 1, 0, 0, 1, 1, 0, 1, 0, 0, 0, 1, 0, 1, 0, 0, 1, 0, 0, 0, 0, 0, 0, 0, 0, 0, 0, 0, 0, 0, 1, 0, 0, 0, 0, 0, 1, 1, 0, 0, 0, 0, 0, 0, 0, 1, 1, 0, 0, 1, 0, 0, 1, 0, 0, 0, 0, 0, 1, 1, 0, 1, 1]\n",
      "The accuracy of this model is69.88636363636364\n",
      "Split: 10\n"
     ]
    },
    {
     "name": "stderr",
     "output_type": "stream",
     "text": [
      "/home/chris/anaconda3/lib/python3.8/site-packages/sklearn/preprocessing/_label.py:235: DataConversionWarning: A column-vector y was passed when a 1d array was expected. Please change the shape of y to (n_samples, ), for example using ravel().\n",
      "  y = column_or_1d(y, warn=True)\n",
      "/home/chris/anaconda3/lib/python3.8/site-packages/sklearn/preprocessing/_label.py:268: DataConversionWarning: A column-vector y was passed when a 1d array was expected. Please change the shape of y to (n_samples, ), for example using ravel().\n",
      "  y = column_or_1d(y, warn=True)\n",
      "/home/chris/anaconda3/lib/python3.8/site-packages/sklearn/preprocessing/_label.py:235: DataConversionWarning: A column-vector y was passed when a 1d array was expected. Please change the shape of y to (n_samples, ), for example using ravel().\n",
      "  y = column_or_1d(y, warn=True)\n",
      "/home/chris/anaconda3/lib/python3.8/site-packages/sklearn/preprocessing/_label.py:268: DataConversionWarning: A column-vector y was passed when a 1d array was expected. Please change the shape of y to (n_samples, ), for example using ravel().\n",
      "  y = column_or_1d(y, warn=True)\n",
      "/home/chris/anaconda3/lib/python3.8/site-packages/sklearn/preprocessing/_label.py:235: DataConversionWarning: A column-vector y was passed when a 1d array was expected. Please change the shape of y to (n_samples, ), for example using ravel().\n",
      "  y = column_or_1d(y, warn=True)\n",
      "/home/chris/anaconda3/lib/python3.8/site-packages/sklearn/preprocessing/_label.py:268: DataConversionWarning: A column-vector y was passed when a 1d array was expected. Please change the shape of y to (n_samples, ), for example using ravel().\n",
      "  y = column_or_1d(y, warn=True)\n"
     ]
    },
    {
     "name": "stdout",
     "output_type": "stream",
     "text": [
      "variables for auroc curve done. Processing fold accuracy + checking best model\n",
      "     y_pred_2  y_pred_3  y_pred_10   average\n",
      "0         1.0       1.0        1.0  1.000000\n",
      "1         1.0       1.0        1.0  1.000000\n",
      "2         0.0       0.0        0.0  0.000000\n",
      "3         0.0       0.0        0.0  0.000000\n",
      "4         1.0       1.0        1.0  1.000000\n",
      "..        ...       ...        ...       ...\n",
      "171       1.0       1.0        1.0  1.000000\n",
      "172       1.0       1.0        1.0  1.000000\n",
      "173       0.0       0.0        1.0  0.333333\n",
      "174       0.0       0.0        0.0  0.000000\n",
      "175       0.0       0.0        0.0  0.000000\n",
      "\n",
      "[176 rows x 4 columns]\n",
      "[1.0, 1.0, 0.0, 0.0, 1.0, 1.0, 0.3333333333333333, 0.0, 0.6666666666666666, 0.0, 0.0, 0.0, 0.0, 0.3333333333333333, 1.0, 0.0, 0.0, 0.3333333333333333, 1.0, 0.0, 0.0, 0.3333333333333333, 0.0, 0.0, 0.0, 0.0, 1.0, 1.0, 0.0, 1.0, 0.0, 0.0, 0.0, 0.3333333333333333, 0.0, 0.3333333333333333, 0.3333333333333333, 0.0, 0.0, 0.6666666666666666, 0.0, 0.0, 0.0, 0.0, 0.0, 1.0, 0.0, 0.0, 0.0, 0.0, 1.0, 1.0, 0.0, 0.0, 0.0, 0.0, 0.3333333333333333, 0.0, 0.0, 1.0, 0.0, 1.0, 1.0, 0.0, 0.6666666666666666, 0.0, 0.0, 0.0, 0.0, 0.0, 1.0, 0.0, 0.6666666666666666, 0.0, 0.6666666666666666, 1.0, 0.0, 0.0, 0.0, 0.0, 0.0, 1.0, 1.0, 0.3333333333333333, 0.0, 0.0, 0.0, 0.6666666666666666, 0.0, 0.6666666666666666, 0.6666666666666666, 0.0, 0.0, 0.0, 0.0, 0.0, 0.0, 0.0, 0.0, 1.0, 1.0, 0.0, 0.0, 0.3333333333333333, 0.0, 0.0, 1.0, 0.0, 0.0, 0.0, 0.0, 0.3333333333333333, 1.0, 0.0, 0.3333333333333333, 0.3333333333333333, 0.3333333333333333, 0.0, 0.0, 0.0, 0.0, 0.0, 0.0, 1.0, 0.3333333333333333, 0.0, 0.0, 0.0, 0.0, 0.0, 0.0, 0.0, 0.3333333333333333, 1.0, 1.0, 0.0, 0.0, 0.0, 0.0, 0.3333333333333333, 0.3333333333333333, 0.0, 0.0, 0.3333333333333333, 0.6666666666666666, 0.0, 0.0, 0.0, 0.0, 0.0, 0.0, 0.6666666666666666, 0.0, 1.0, 1.0, 1.0, 1.0, 0.0, 0.0, 1.0, 1.0, 1.0, 0.0, 1.0, 0.0, 1.0, 0.0, 0.3333333333333333, 0.0, 0.0, 0.0, 1.0, 1.0, 0.3333333333333333, 0.0, 0.0]\n",
      "[1, 1, 0, 0, 1, 1, 0, 0, 1, 0, 0, 0, 0, 0, 1, 0, 0, 0, 1, 0, 0, 0, 0, 0, 0, 0, 1, 1, 0, 1, 0, 0, 0, 0, 0, 0, 0, 0, 0, 1, 0, 0, 0, 0, 0, 1, 0, 0, 0, 0, 1, 1, 0, 0, 0, 0, 0, 0, 0, 1, 0, 1, 1, 0, 1, 0, 0, 0, 0, 0, 1, 0, 1, 0, 1, 1, 0, 0, 0, 0, 0, 1, 1, 0, 0, 0, 0, 1, 0, 1, 1, 0, 0, 0, 0, 0, 0, 0, 0, 1, 1, 0, 0, 0, 0, 0, 1, 0, 0, 0, 0, 0, 1, 0, 0, 0, 0, 0, 0, 0, 0, 0, 0, 1, 0, 0, 0, 0, 0, 0, 0, 0, 0, 1, 1, 0, 0, 0, 0, 0, 0, 0, 0, 0, 1, 0, 0, 0, 0, 0, 0, 1, 0, 1, 1, 1, 1, 0, 0, 1, 1, 1, 0, 1, 0, 1, 0, 0, 0, 0, 0, 1, 1, 0, 0, 0]\n",
      "The accuracy of this model is67.61363636363636\n",
      "Best win percentage split = 0\n",
      "Training Testing Accuracy: 68.01% (2.00%)\n"
     ]
    }
   ],
   "source": [
    "results = []\n",
    "count = 0\n",
    "high_w = 0\n",
    "cv = StratifiedKFold(n_splits=10, shuffle=True)\n",
    "y = y_label\n",
    "for train,test in cv.split(x_2,y):\n",
    "    count = count + 1\n",
    "    print(\"Split: \" + str(count))\n",
    "    prediction = model_2.fit(x_2.loc[train],y.loc[train]).predict_proba(x_2.loc[test])\n",
    "    prediction = model_3.fit(x_3.loc[train],y.loc[train]).predict_proba(x_3.loc[test])\n",
    "    prediction = model_10.fit(x_10.loc[train],y.loc[train]).predict_proba(x_10.loc[test])\n",
    "    print(\"variables for auroc curve done. Processing fold accuracy + checking best model\")\n",
    "    d = {'y_pred_2':model_2.predict(x_2.loc[test]), 'y_pred_3':model_3.predict(x_3.loc[test]),\n",
    "         'y_pred_10':model_10.predict(x_10.loc[test])}\n",
    "    pred_df = pd.DataFrame(data=d)\n",
    "    summary_ave_data = pred_df.copy()\n",
    "    summary_ave_data['average'] = summary_ave_data.mean(numeric_only=True, axis=1)\n",
    "    print(summary_ave_data)\n",
    "    y_pred = summary_ave_data[\"average\"].tolist()\n",
    "    print(y_pred)\n",
    "    predictions = [round(value) for value in y_pred]\n",
    "    print(predictions)\n",
    "    #sees how accurate the model was when testing the test set\n",
    "    accuracy = accuracy_score(y.loc[test], predictions)\n",
    "    pcent = accuracy * 100.0\n",
    "    print(\"The accuracy of this model is\" + str(pcent))\n",
    "    results.append(pcent)\n",
    "print(\"Best win percentage split = \" +str(high_w))\n",
    "print(\"Training Testing Accuracy: %.2f%% (%.2f%%)\" % (np.mean(results), np.std(results)))"
   ]
  },
  {
   "cell_type": "markdown",
   "metadata": {},
   "source": [
    "# Clean Data Testing Ground"
   ]
  },
  {
   "cell_type": "code",
   "execution_count": 11,
   "metadata": {},
   "outputs": [],
   "source": [
    "def create_R_TeamDict():\n",
    "    teams = {\n",
    "    \"1\" : \"Adelaide Crows\",\n",
    "    \"2\" : \"Brisbane Lions\",\n",
    "    \"3\" : \"Carlton\",\n",
    "    \"4\" : \"Collingwood\",\n",
    "    \"5\" : \"Essendon\",\n",
    "    \"6\" : \"Fremantle\",\n",
    "    \"7\" : \"Geelong Cats\",\n",
    "    \"8\" : \"Gold Coast Suns\",\n",
    "    \"9\" : \"GWS Giants\",\n",
    "    \"10\": \"Hawthorn\",\n",
    "    \"11\": \"Melbourne\",\n",
    "    \"12\": \"North Melbourne\",\n",
    "    \"13\": \"Port Adelaide\",\n",
    "    \"14\": \"Richmond\",\n",
    "    \"15\": \"St Kilda\",\n",
    "    \"16\": \"Sydney Swans\",\n",
    "    \"17\": \"West Coast Eagles\",\n",
    "    \"18\": \"Western Bulldogs\"\n",
    "    }\n",
    "    return teams"
   ]
  },
  {
   "cell_type": "code",
   "execution_count": 20,
   "metadata": {},
   "outputs": [],
   "source": []
  },
  {
   "cell_type": "code",
   "execution_count": 157,
   "metadata": {},
   "outputs": [],
   "source": [
    "team_int = 6"
   ]
  },
  {
   "cell_type": "code",
   "execution_count": 162,
   "metadata": {},
   "outputs": [
    {
     "data": {
      "text/html": [
       "<div>\n",
       "<style scoped>\n",
       "    .dataframe tbody tr th:only-of-type {\n",
       "        vertical-align: middle;\n",
       "    }\n",
       "\n",
       "    .dataframe tbody tr th {\n",
       "        vertical-align: top;\n",
       "    }\n",
       "\n",
       "    .dataframe thead th {\n",
       "        text-align: right;\n",
       "    }\n",
       "</style>\n",
       "<table border=\"1\" class=\"dataframe\">\n",
       "  <thead>\n",
       "    <tr style=\"text-align: right;\">\n",
       "      <th></th>\n",
       "      <th>Year</th>\n",
       "      <th>Round</th>\n",
       "      <th>Team_ID</th>\n",
       "      <th>Player_PAV_Total</th>\n",
       "    </tr>\n",
       "  </thead>\n",
       "  <tbody>\n",
       "    <tr>\n",
       "      <th>1012</th>\n",
       "      <td>2013</td>\n",
       "      <td>1</td>\n",
       "      <td>6</td>\n",
       "      <td>233.52</td>\n",
       "    </tr>\n",
       "    <tr>\n",
       "      <th>1013</th>\n",
       "      <td>2013</td>\n",
       "      <td>2</td>\n",
       "      <td>6</td>\n",
       "      <td>219.10</td>\n",
       "    </tr>\n",
       "    <tr>\n",
       "      <th>1014</th>\n",
       "      <td>2013</td>\n",
       "      <td>3</td>\n",
       "      <td>6</td>\n",
       "      <td>225.28</td>\n",
       "    </tr>\n",
       "    <tr>\n",
       "      <th>1015</th>\n",
       "      <td>2013</td>\n",
       "      <td>4</td>\n",
       "      <td>6</td>\n",
       "      <td>204.98</td>\n",
       "    </tr>\n",
       "    <tr>\n",
       "      <th>1016</th>\n",
       "      <td>2013</td>\n",
       "      <td>5</td>\n",
       "      <td>6</td>\n",
       "      <td>213.05</td>\n",
       "    </tr>\n",
       "    <tr>\n",
       "      <th>...</th>\n",
       "      <td>...</td>\n",
       "      <td>...</td>\n",
       "      <td>...</td>\n",
       "      <td>...</td>\n",
       "    </tr>\n",
       "    <tr>\n",
       "      <th>1211</th>\n",
       "      <td>2021</td>\n",
       "      <td>23</td>\n",
       "      <td>6</td>\n",
       "      <td>181.11</td>\n",
       "    </tr>\n",
       "    <tr>\n",
       "      <th>1212</th>\n",
       "      <td>2022</td>\n",
       "      <td>1</td>\n",
       "      <td>6</td>\n",
       "      <td>173.39</td>\n",
       "    </tr>\n",
       "    <tr>\n",
       "      <th>1213</th>\n",
       "      <td>2022</td>\n",
       "      <td>2</td>\n",
       "      <td>6</td>\n",
       "      <td>168.25</td>\n",
       "    </tr>\n",
       "    <tr>\n",
       "      <th>1214</th>\n",
       "      <td>2022</td>\n",
       "      <td>3</td>\n",
       "      <td>6</td>\n",
       "      <td>133.87</td>\n",
       "    </tr>\n",
       "    <tr>\n",
       "      <th>1215</th>\n",
       "      <td>2022</td>\n",
       "      <td>4</td>\n",
       "      <td>6</td>\n",
       "      <td>166.42</td>\n",
       "    </tr>\n",
       "  </tbody>\n",
       "</table>\n",
       "<p>204 rows × 4 columns</p>\n",
       "</div>"
      ],
      "text/plain": [
       "      Year  Round  Team_ID  Player_PAV_Total\n",
       "1012  2013      1        6            233.52\n",
       "1013  2013      2        6            219.10\n",
       "1014  2013      3        6            225.28\n",
       "1015  2013      4        6            204.98\n",
       "1016  2013      5        6            213.05\n",
       "...    ...    ...      ...               ...\n",
       "1211  2021     23        6            181.11\n",
       "1212  2022      1        6            173.39\n",
       "1213  2022      2        6            168.25\n",
       "1214  2022      3        6            133.87\n",
       "1215  2022      4        6            166.42\n",
       "\n",
       "[204 rows x 4 columns]"
      ]
     },
     "execution_count": 162,
     "metadata": {},
     "output_type": "execute_result"
    }
   ],
   "source": [
    "pavs = pd.read_csv(\"R_Code/all_team_pavs.csv\")\n",
    "team_pavs = pavs.loc[(pavs[\"Team_ID\"]==team_int)]\n",
    "team_pavs"
   ]
  },
  {
   "cell_type": "code",
   "execution_count": 159,
   "metadata": {},
   "outputs": [
    {
     "data": {
      "text/plain": [
       "(204, 100)"
      ]
     },
     "execution_count": 159,
     "metadata": {},
     "output_type": "execute_result"
    }
   ],
   "source": [
    "df.shape"
   ]
  },
  {
   "cell_type": "code",
   "execution_count": 15,
   "metadata": {},
   "outputs": [],
   "source": [
    "def calc_sum_pav(year, rnd, team_int):\n",
    "    #do calc\n",
    "    g = gad()\n",
    "    team_dict = g.createTeamDict()\n",
    "    r_dict = create_R_TeamDict()\n",
    "    current_team = (team_dict[str(team_int)])\n",
    "    df = pd.read_csv(\"Data/\"+current_team+'_clean_stats.csv')\n",
    "    current_r_team = (r_dict[str(team_int)])\n",
    "    lineups = pd.read_csv(\"R_Code/all_lineups.csv\")\n",
    "    lineups = lineups[lineups.isin([current_r_team]).any(axis=1)]\n",
    "    lineups = lineups[lineups.isin([year]).any(axis=1)]\n",
    "    lineups = lineups[lineups.isin([rnd]).any(axis=1)]\n",
    "    lineups['team'] = team_int\n",
    "    if(rnd < 11):\n",
    "        lineups['year'] = (year-1)\n",
    "    lineups.columns = ['year', 'teamname', 'roundNumber', 'firstname', 'surname', 'team']\n",
    "    cols = ['team', 'year', 'firstname', 'surname']\n",
    "    lineups = lineups[cols]\n",
    "    all_pavs = pd.read_csv(\"R_Code/all_player_PAVs.csv\")\n",
    "    \n",
    "    lineups.firstname = lineups.firstname.str.split(' ').str[0]\n",
    "    all_pavs.firstname = all_pavs.firstname.str.replace(' ','')\n",
    "    \n",
    "    lineups = lineups.merge(all_pavs, how='inner', on=['team', 'year', 'firstname', 'surname'])\n",
    "    if(lineups.shape[0] > 0):\n",
    "        pav = lineups['PAV_total'].sum()\n",
    "    else:\n",
    "        pav = 999\n",
    "    print(pav)\n",
    "    pav_array = [year, rnd, team_int, pav]\n",
    "    return pav_array"
   ]
  },
  {
   "cell_type": "code",
   "execution_count": 18,
   "metadata": {
    "scrolled": true
   },
   "outputs": [
    {
     "name": "stdout",
     "output_type": "stream",
     "text": [
      "1_2022_1\n",
      "156.19000000000003\n",
      "1_2022_2\n",
      "144.26000000000002\n",
      "1_2022_3\n",
      "153.15000000000003\n",
      "1_2022_4\n",
      "174.11000000000004\n",
      "2_2022_1\n",
      "265.28000000000003\n",
      "2_2022_2\n",
      "256.13\n",
      "2_2022_3\n",
      "265.28\n",
      "2_2022_4\n",
      "250.97000000000003\n",
      "3_2022_1\n",
      "156.67000000000002\n",
      "3_2022_2\n",
      "178.84000000000003\n",
      "3_2022_3\n",
      "157.47\n",
      "3_2022_4\n",
      "169.10999999999999\n",
      "4_2022_1\n",
      "177.64000000000001\n",
      "4_2022_2\n",
      "191.04000000000002\n",
      "4_2022_3\n",
      "201.59\n",
      "4_2022_4\n",
      "195.71\n",
      "5_2022_1\n",
      "214.8\n",
      "5_2022_2\n",
      "230.61999999999995\n",
      "5_2022_3\n",
      "203.24\n",
      "5_2022_4\n",
      "191.28000000000003\n",
      "6_2022_1\n",
      "173.39\n",
      "6_2022_2\n",
      "168.25\n",
      "6_2022_3\n",
      "133.87\n",
      "6_2022_4\n",
      "166.42000000000002\n",
      "7_2022_1\n",
      "236.32000000000002\n",
      "7_2022_2\n",
      "251.10000000000002\n",
      "7_2022_3\n",
      "249.79\n",
      "7_2022_4\n",
      "218.20999999999998\n",
      "8_2022_1\n",
      "185.58\n",
      "8_2022_2\n",
      "177.15\n",
      "8_2022_3\n",
      "182.41\n",
      "8_2022_4\n",
      "176.84\n",
      "9_2022_1\n",
      "206.89000000000001\n",
      "9_2022_2\n",
      "200.72\n",
      "9_2022_3\n",
      "190.59\n",
      "9_2022_4\n",
      "182.04\n",
      "10_2022_1\n",
      "149.82\n",
      "10_2022_2\n",
      "166.4\n",
      "10_2022_3\n",
      "151.77999999999997\n",
      "10_2022_4\n",
      "145.51\n",
      "11_2022_1\n",
      "279.64\n",
      "11_2022_2\n",
      "273.71999999999997\n",
      "11_2022_3\n",
      "267.33\n",
      "11_2022_4\n",
      "282.88\n",
      "12_2022_1\n",
      "197.87\n",
      "12_2022_2\n",
      "189.13\n",
      "12_2022_3\n",
      "177.45\n",
      "12_2022_4\n",
      "184.37\n",
      "13_2022_1\n",
      "253.73999999999998\n",
      "13_2022_2\n",
      "227.26999999999998\n",
      "13_2022_3\n",
      "226.42\n",
      "13_2022_4\n",
      "228.89999999999995\n",
      "14_2022_1\n",
      "220.09\n",
      "14_2022_2\n",
      "184.17\n",
      "14_2022_3\n",
      "193.96\n",
      "14_2022_4\n",
      "198.42000000000002\n",
      "15_2022_1\n",
      "202.23\n",
      "15_2022_2\n",
      "187.05\n",
      "15_2022_3\n",
      "205.96\n",
      "15_2022_4\n",
      "201.83\n",
      "16_2022_1\n",
      "223.09000000000003\n",
      "16_2022_2\n",
      "235.90000000000006\n",
      "16_2022_3\n",
      "236.37000000000003\n",
      "16_2022_4\n",
      "221.81000000000003\n",
      "17_2022_1\n",
      "140.9\n",
      "17_2022_2\n",
      "91.48000000000002\n",
      "17_2022_3\n",
      "163.2\n",
      "17_2022_4\n",
      "152.34000000000003\n",
      "18_2022_1\n",
      "258.22\n",
      "18_2022_2\n",
      "255.87000000000003\n",
      "18_2022_3\n",
      "259.08000000000004\n",
      "18_2022_4\n",
      "245.74\n",
      "    Year  Round  Team_ID  Player_PAV_Total\n",
      "0   2022      1        1            156.19\n",
      "1   2022      2        1            144.26\n",
      "2   2022      3        1            153.15\n",
      "3   2022      4        1            174.11\n",
      "4   2022      1        2            265.28\n",
      "..   ...    ...      ...               ...\n",
      "67  2022      4       17            152.34\n",
      "68  2022      1       18            258.22\n",
      "69  2022      2       18            255.87\n",
      "70  2022      3       18            259.08\n",
      "71  2022      4       18            245.74\n",
      "\n",
      "[72 rows x 4 columns]\n",
      "      Year  Round  Team_ID  Player_PAV_Total\n",
      "0     2013      1        1            239.55\n",
      "1     2013      2        1            238.73\n",
      "2     2013      3        1            236.09\n",
      "3     2013      4        1            214.43\n",
      "4     2013      5        1            226.69\n",
      "...    ...    ...      ...               ...\n",
      "3701  2022      4       17            152.34\n",
      "3702  2022      1       18            258.22\n",
      "3703  2022      2       18            255.87\n",
      "3704  2022      3       18            259.08\n",
      "3705  2022      4       18            245.74\n",
      "\n",
      "[3706 rows x 4 columns]\n"
     ]
    }
   ],
   "source": [
    "pav_array = []\n",
    "for team_id in range(1,19):\n",
    "    for year in range(2022, 2023):\n",
    "        for rnd in range(1,5):\n",
    "            print(str(team_id) + '_' + str(year)+'_'+str(rnd))\n",
    "            pa = calc_sum_pav(year, rnd, team_id)\n",
    "            if(pa[3] == 999):\n",
    "                continue\n",
    "            pav_array.append(pa)\n",
    "pav_df = pd.DataFrame(pav_array, columns=['Year', 'Round', 'Team_ID', 'Player_PAV_Total'])\n",
    "all_pav_df = pd.read_csv('R_Code/all_team_pavs.csv')\n",
    "all_pav_df = pd.concat([all_pav_df, pav_df], ignore_index=True)\n",
    "print(pav_df)\n",
    "print(all_pav_df)\n",
    "all_pav_df.to_csv(\"R_Code/all_team_pavs.csv\", header=True, index=False)"
   ]
  },
  {
   "cell_type": "markdown",
   "metadata": {},
   "source": [
    "# Trend Based Dataset Testing"
   ]
  },
  {
   "cell_type": "code",
   "execution_count": 98,
   "metadata": {},
   "outputs": [],
   "source": [
    "#get assemble_df code from the clean_dataset csv\n",
    "#do the usual stuff appended at the front eg. venue, ladder, round, H_team_id, A_team_id\n",
    "#pick averageable statistics and get n_game average for home and away\n",
    "#function to workout from clean_dataset home_team wins against away team in last 5\n",
    "    #5-home_team_wins to get away team wins against oppo\n",
    "    #append to new X_data\n",
    "#save to new assemble_df.csv\n",
    "\n",
    "match_id = 10576\n",
    "team_id = 9\n",
    "oppo_id = 6\n",
    "g = gad()\n",
    "teams = g.createTeamDict()\n",
    "n_games = 3\n"
   ]
  },
  {
   "cell_type": "code",
   "execution_count": 135,
   "metadata": {},
   "outputs": [],
   "source": [
    "def find_form(ct, ot, match_id):\n",
    "    g = gad()\n",
    "    teams = g.createTeamDict()\n",
    "    current_team = (teams[str(ct)])\n",
    "    team_string = current_team+\"_clean_stats.csv\"\n",
    "    df = pd.read_csv(\"Data/\"+team_string)\n",
    "    idx = df.index[df['Match_ID'] == match_id]\n",
    "    my_idx = idx[0]\n",
    "    df = df.loc[0:my_idx-1,:]\n",
    "    prev_games = df.loc[(df['Team_against_ID']==ot)]\n",
    "    #return last 5 games against each other and 8th column is whether the ct won against ot\n",
    "    l = 5\n",
    "    if(prev_games.shape[0] < 5):\n",
    "        l = prev_games.shape[0]\n",
    "    if(l==0):\n",
    "        wins = 0\n",
    "    else:\n",
    "        prev_games = prev_games.iloc[-l: , 8]\n",
    "        wins = prev_games.sum()\n",
    "    return wins"
   ]
  },
  {
   "cell_type": "code",
   "execution_count": 130,
   "metadata": {},
   "outputs": [],
   "source": [
    "def create_prev_games(match_id, team_id, teams, n_games, oppo_id):\n",
    "    margin = None\n",
    "    ma = None\n",
    "    y_label = None\n",
    "    trend_cg = []\n",
    "    current_team = (teams[str(team_id)])\n",
    "    print(current_team)\n",
    "    print(match_id)\n",
    "    team_string = current_team+\"_clean_stats.csv\"\n",
    "    df = pd.read_csv(\"Data/\"+team_string)\n",
    "    #drops ladder stats\n",
    "    #finds where in the dataframe the current match is\n",
    "    idx = df.index[df['Match_ID'] == match_id]\n",
    "    #print(idx)\n",
    "    my_idx = idx[0]\n",
    "    #splits dataframe into game data and end of round ladder data\n",
    "    l_df = df.iloc[:,-5:]\n",
    "    t_df = df.iloc[: , :-5]\n",
    "    current_year = t_df.loc[my_idx][1]\n",
    "    if(current_year == 2020.0):\n",
    "        print('game in 2020')\n",
    "        margin = 8888\n",
    "    else:\n",
    "        #turns the WWWLL form column into # of W\n",
    "        n_form = []\n",
    "        for x in l_df['form']:\n",
    "            if(len(x)<n_games):\n",
    "                y=float(x.count(\"W\"))\n",
    "                n_form.append(y)\n",
    "            else:\n",
    "                x=x[-n_games:]\n",
    "                y=float(x.count(\"W\"))\n",
    "                n_form.append(y)\n",
    "        l_df['form'] = n_form\n",
    "        #checks to make sure there is enough games to go through\n",
    "        if(my_idx < (n_games)):\n",
    "            print('Num of Prev Games Exceeds previous games')\n",
    "            margin = 9999\n",
    "        else:\n",
    "            #start match array with the ladder values from end of previous round (as this would be current for predicting round)\n",
    "            ma = l_df.loc[my_idx-1].values\n",
    "            #finds both labels for models\n",
    "            y_label = t_df.loc[my_idx][\"H/A Win?\"]\n",
    "            margin = t_df.loc[my_idx][\"Margin\"]\n",
    "            #start from the previous game to current game\n",
    "            #i is to know how many games included\n",
    "            i = 1\n",
    "            #j finds the previous game and allows for 2020 exclusion\n",
    "            j = 1\n",
    "            while i <= n_games:\n",
    "                year = t_df.loc[my_idx-j][1]\n",
    "                if(year == 2020.0):\n",
    "                    j = j + 1\n",
    "                    continue\n",
    "                cg = t_df.loc[my_idx-j][2:].values\n",
    "                trend_cg.append(cg)\n",
    "                i = i + 1\n",
    "                j = j + 1\n",
    "            my_df = pd.DataFrame(trend_cg, columns = t_df.columns[2:])\n",
    "            my_df = my_df.iloc[:,3:-1]\n",
    "            cg = my_df.mean(axis=0)\n",
    "            ma = [*ma, *cg]\n",
    "            h_form = find_form(team_id, oppo_id, match_id)\n",
    "            o_form = find_form(oppo_id, team_id, match_id)\n",
    "            form_diff = h_form-o_form\n",
    "            ma.append(form_diff)\n",
    "    return ma, y_label, margin"
   ]
  },
  {
   "cell_type": "code",
   "execution_count": 136,
   "metadata": {
    "scrolled": false
   },
   "outputs": [
    {
     "name": "stdout",
     "output_type": "stream",
     "text": [
      "GWS\n",
      "5720\n",
      "18\n",
      "0\n",
      "0\n",
      "0\n"
     ]
    }
   ],
   "source": [
    "home_array, y_label, margin = create_prev_games(5720, team_id, teams, 3, oppo_id)"
   ]
  },
  {
   "cell_type": "code",
   "execution_count": 110,
   "metadata": {},
   "outputs": [
    {
     "data": {
      "text/plain": [
       "95"
      ]
     },
     "execution_count": 110,
     "metadata": {},
     "output_type": "execute_result"
    }
   ],
   "source": [
    "len(home_array)"
   ]
  },
  {
   "cell_type": "code",
   "execution_count": 107,
   "metadata": {},
   "outputs": [
    {
     "data": {
      "text/plain": [
       "194"
      ]
     },
     "execution_count": 107,
     "metadata": {},
     "output_type": "execute_result"
    }
   ],
   "source": [
    "headers = ['Round', 'Home_Team', 'Away_Team', 'Venue']\n",
    "example_file = pd.read_csv('Data/Fremantle_clean_stats.csv')\n",
    "cl_h = example_file.columns\n",
    "cl_h = cl_h[5:-6]\n",
    "ladder_header = ['Ladder Pos_H', 'Form_H', 'Season Wins_H', 'Season Loss_H', 'Season Draw_H']\n",
    "headers = [*headers, *ladder_header]\n",
    "for x in cl_h:\n",
    "    if 'Match_ID' in x or 'Year' in x:\n",
    "        continue\n",
    "    x = 'H_'+ x + ' avg'\n",
    "    headers.append(x)\n",
    "headers.append(\"H_Recent_Matchup_Diff\")\n",
    "ladder_header = ['Ladder Pos_A', 'Form_A', 'Season Wins_A', 'Season Loss_A', 'Season Draw_A']\n",
    "headers = [*headers, *ladder_header]\n",
    "for x in cl_h:\n",
    "    if 'Match_ID' in x or 'Year' in x:\n",
    "        continue\n",
    "    x = 'A_'+ x + ' avg'\n",
    "    headers.append(x)\n",
    "headers.append(\"A_Recent_Matchup_Diff\")\n",
    "len(headers)"
   ]
  },
  {
   "cell_type": "markdown",
   "metadata": {},
   "source": [
    "# Team Specific Models\n",
    "## Averaged about 60%"
   ]
  },
  {
   "cell_type": "code",
   "execution_count": 121,
   "metadata": {},
   "outputs": [],
   "source": [
    "def get_team_specific_dataset(n_games, tn):\n",
    "    h = get_headers(n_games)\n",
    "    h = clean_headers(h)\n",
    "    cv = generate_categorical_headers(h)\n",
    "\n",
    "    #to get names of teams from index\n",
    "    g = gad()\n",
    "    teams = g.createTeamDict()\n",
    "    #load in x_data and y_label for n = 1 (quicker)\n",
    "    x_data = pd.read_csv('Data/assembled_stat_matrix_no2020'+str(n_games)+'_games.csv')\n",
    "    y_label = pd.read_csv('Data/assembled_labelled_ymatrix_no2020'+str(n_games)+'_games.csv')\n",
    "\n",
    "    #finds team index\n",
    "    team_idx = x_data.index[(x_data['Home_Team']==tn) | (x_data['Away_Team']==tn)]\n",
    "    team_x_data = x_data.iloc[team_idx]\n",
    "    team_y_data = y_label.iloc[team_idx]\n",
    "    team_x_data.reset_index(drop=True, inplace=True)\n",
    "    team_y_data.reset_index(drop=True, inplace=True)\n",
    "\n",
    "    #quick shape check\n",
    "    print(team_x_data.shape)\n",
    "    print(team_y_data.shape)\n",
    "    l = team_x_data.shape[0]\n",
    "\n",
    "    #loop for new y_array\n",
    "    i = 0\n",
    "    new_team_y = []\n",
    "    while i < l:\n",
    "        x = team_x_data.iloc[i]\n",
    "        y = team_y_data.iloc[i]\n",
    "        #if our team for current model is the home team\n",
    "        if(x[\"Home_Team\"] == tn):\n",
    "            #and the home team has won\n",
    "            if(y[\"H/A Win?\"] == 0):\n",
    "                #set win val to 1\n",
    "                w_val = 1\n",
    "            #else they're the home team but the away team won\n",
    "            else:\n",
    "                #set win val to 0\n",
    "                w_val = 0\n",
    "        #else they're the away team\n",
    "        else:\n",
    "            #if the home team won, that means they lost\n",
    "            if(y[\"H/A Win?\"] == 0):\n",
    "                w_val = 0\n",
    "            #else they're the away team and they won\n",
    "            else:\n",
    "                w_val = 1\n",
    "        i = i + 1\n",
    "        new_team_y.append(w_val)\n",
    "    ny = pd.DataFrame(new_team_y, columns=['Team Won?'])\n",
    "    return team_x_data, ny"
   ]
  },
  {
   "cell_type": "code",
   "execution_count": 116,
   "metadata": {},
   "outputs": [
    {
     "name": "stdout",
     "output_type": "stream",
     "text": [
      "(176, 1874)\n",
      "(176, 1)\n"
     ]
    },
    {
     "data": {
      "text/html": [
       "<div>\n",
       "<style scoped>\n",
       "    .dataframe tbody tr th:only-of-type {\n",
       "        vertical-align: middle;\n",
       "    }\n",
       "\n",
       "    .dataframe tbody tr th {\n",
       "        vertical-align: top;\n",
       "    }\n",
       "\n",
       "    .dataframe thead th {\n",
       "        text-align: right;\n",
       "    }\n",
       "</style>\n",
       "<table border=\"1\" class=\"dataframe\">\n",
       "  <thead>\n",
       "    <tr style=\"text-align: right;\">\n",
       "      <th></th>\n",
       "      <th>Team Won?</th>\n",
       "    </tr>\n",
       "  </thead>\n",
       "  <tbody>\n",
       "    <tr>\n",
       "      <th>0</th>\n",
       "      <td>0</td>\n",
       "    </tr>\n",
       "    <tr>\n",
       "      <th>1</th>\n",
       "      <td>0</td>\n",
       "    </tr>\n",
       "    <tr>\n",
       "      <th>2</th>\n",
       "      <td>1</td>\n",
       "    </tr>\n",
       "    <tr>\n",
       "      <th>3</th>\n",
       "      <td>0</td>\n",
       "    </tr>\n",
       "    <tr>\n",
       "      <th>4</th>\n",
       "      <td>0</td>\n",
       "    </tr>\n",
       "    <tr>\n",
       "      <th>...</th>\n",
       "      <td>...</td>\n",
       "    </tr>\n",
       "    <tr>\n",
       "      <th>171</th>\n",
       "      <td>0</td>\n",
       "    </tr>\n",
       "    <tr>\n",
       "      <th>172</th>\n",
       "      <td>0</td>\n",
       "    </tr>\n",
       "    <tr>\n",
       "      <th>173</th>\n",
       "      <td>0</td>\n",
       "    </tr>\n",
       "    <tr>\n",
       "      <th>174</th>\n",
       "      <td>1</td>\n",
       "    </tr>\n",
       "    <tr>\n",
       "      <th>175</th>\n",
       "      <td>0</td>\n",
       "    </tr>\n",
       "  </tbody>\n",
       "</table>\n",
       "<p>176 rows × 1 columns</p>\n",
       "</div>"
      ],
      "text/plain": [
       "     Team Won?\n",
       "0            0\n",
       "1            0\n",
       "2            1\n",
       "3            0\n",
       "4            0\n",
       "..         ...\n",
       "171          0\n",
       "172          0\n",
       "173          0\n",
       "174          1\n",
       "175          0\n",
       "\n",
       "[176 rows x 1 columns]"
      ]
     },
     "execution_count": 116,
     "metadata": {},
     "output_type": "execute_result"
    }
   ],
   "source": [
    "x, y = get_team_specific_dataset(10, 1)"
   ]
  },
  {
   "cell_type": "code",
   "execution_count": 136,
   "metadata": {},
   "outputs": [],
   "source": [
    "def eval_team_xgb_games(x, y, m, n_games, tn):\n",
    "    results = []\n",
    "    error = []\n",
    "    count = 0\n",
    "    best_w = m\n",
    "    high_w = 0\n",
    "    cv = StratifiedKFold(n_splits=10, shuffle=True)\n",
    "    for train,test in cv.split(x,y):\n",
    "       # print(len(train))\n",
    "        count = count + 1\n",
    "        print(\"Split: \" + str(count))\n",
    "        #comment out fit steps for random forest i guess lol\n",
    "        prediction = m.fit(x.loc[train],y.loc[train]).predict_proba(x.loc[test])\n",
    "        y_pred = m.predict(x.loc[test])\n",
    "        predictions = [round(value) for value in y_pred]\n",
    "        #sees how accurate the model was when testing the test set\n",
    "        accuracy = accuracy_score(y.loc[test], predictions)\n",
    "        pcent = accuracy * 100.0\n",
    "        results.append(pcent)\n",
    "        #change the best model to equal current model\n",
    "        if(pcent > high_w):\n",
    "            best_w = m\n",
    "            high_w = pcent\n",
    "    print(\"Training Testing Accuracy for n_games=\"+str(n_games)+\" team=\"+str(tn)+\" : %.2f%% (%.2f%%)\" % (np.mean(results), np.std(results)))\n",
    "    return best_w, np.mean(results)"
   ]
  },
  {
   "cell_type": "code",
   "execution_count": 132,
   "metadata": {},
   "outputs": [],
   "source": [
    "def run_team_models(n_games, tn):\n",
    "    #load headers and then subsequently categorical headers\n",
    "    h = get_headers(n_games)\n",
    "    h = clean_headers(h)\n",
    "    cv = generate_categorical_headers(h)\n",
    "\n",
    "    #to get names of teams from index\n",
    "    g = gad()\n",
    "    teams = g.createTeamDict()\n",
    "\n",
    "    #load Data\n",
    "    x_data, y_label = get_team_specific_dataset(n_games, tn)\n",
    "\n",
    "    #make empty OHE object\n",
    "    na_enc = OneHotEncoder(handle_unknown='ignore', sparse=False)\n",
    "\n",
    "    #one hot encode data with new one hot encoder, saves ohe for later use\n",
    "    x_data, ohe = ohe_data(x_data, na_enc, 0, cv)\n",
    "    filename = 'Models/Team_OHE/ohe_'+str(n_games)+\"_team_specific_\"+str(tn)+'_no_2020_games.dat'\n",
    "    pickle.dump(ohe, open(filename, \"wb\"))\n",
    "    #reset headers\n",
    "    feature_names = x_data.columns\n",
    "\n",
    "    #regex solution which is apparently necessary??\n",
    "    regex = re.compile(r\"\\[|\\]|<\", re.IGNORECASE)\n",
    "    x_data.columns = [regex.sub(\"_\", col) if any(x in str(col) for x in set(('[', ']', '<'))) else col for col in x_data.columns.values]\n",
    "\n",
    "    #optimise XGBoost model\n",
    "    #print(x_data)\n",
    "    #for predicting win\n",
    "    model = param_search(x_data, y_label, 0)\n",
    "    best_xgb_clas, model_av = eval_team_xgb_games(x_data, y_label, model, n_games, tn)\n",
    "\n",
    "    #save\n",
    "    pickle.dump(best_xgb_clas, open(\"Models/Team_Models/best_xgb_clas_no2020_\"+str(n_games)+\"_team_specific_\"+str(tn)+'_.dat', \"wb\"))\n",
    "    return model_av"
   ]
  },
  {
   "cell_type": "code",
   "execution_count": 138,
   "metadata": {
    "scrolled": true
   },
   "outputs": [
    {
     "name": "stdout",
     "output_type": "stream",
     "text": [
      "(185, 200)\n",
      "(185, 1)\n",
      "X_train shape: (166, 392)\n",
      "X_test shape: (19, 392)\n",
      "Fitting 10 folds for each of 12 candidates, totalling 120 fits\n"
     ]
    },
    {
     "name": "stderr",
     "output_type": "stream",
     "text": [
      "[Parallel(n_jobs=1)]: Using backend SequentialBackend with 1 concurrent workers.\n",
      "[Parallel(n_jobs=1)]: Done 120 out of 120 | elapsed:    8.2s finished\n"
     ]
    },
    {
     "name": "stdout",
     "output_type": "stream",
     "text": [
      "best score: 0.5602409638554217\n",
      "Fitting 10 folds for each of 12 candidates, totalling 120 fits\n"
     ]
    },
    {
     "name": "stderr",
     "output_type": "stream",
     "text": [
      "[Parallel(n_jobs=1)]: Using backend SequentialBackend with 1 concurrent workers.\n",
      "[Parallel(n_jobs=1)]: Done 120 out of 120 | elapsed:    6.7s finished\n"
     ]
    },
    {
     "name": "stdout",
     "output_type": "stream",
     "text": [
      "best score: 0.5602409638554217\n",
      "Fitting 10 folds for each of 12 candidates, totalling 120 fits\n"
     ]
    },
    {
     "name": "stderr",
     "output_type": "stream",
     "text": [
      "[Parallel(n_jobs=1)]: Using backend SequentialBackend with 1 concurrent workers.\n",
      "[Parallel(n_jobs=1)]: Done 120 out of 120 | elapsed:    7.5s finished\n"
     ]
    },
    {
     "name": "stdout",
     "output_type": "stream",
     "text": [
      "best score: 0.5602409638554217\n",
      "Fitting 10 folds for each of 12 candidates, totalling 120 fits\n"
     ]
    },
    {
     "name": "stderr",
     "output_type": "stream",
     "text": [
      "[Parallel(n_jobs=1)]: Using backend SequentialBackend with 1 concurrent workers.\n",
      "[Parallel(n_jobs=1)]: Done 120 out of 120 | elapsed:    9.7s finished\n"
     ]
    },
    {
     "name": "stdout",
     "output_type": "stream",
     "text": [
      "best score: 0.6024096385542169\n",
      "Fitting 10 folds for each of 12 candidates, totalling 120 fits\n"
     ]
    },
    {
     "name": "stderr",
     "output_type": "stream",
     "text": [
      "[Parallel(n_jobs=1)]: Using backend SequentialBackend with 1 concurrent workers.\n",
      "[Parallel(n_jobs=1)]: Done 120 out of 120 | elapsed:    6.8s finished\n"
     ]
    },
    {
     "name": "stdout",
     "output_type": "stream",
     "text": [
      "best score: 0.6024096385542169\n",
      "Split: 1\n",
      "Split: 2\n",
      "Split: 3\n",
      "Split: 4\n",
      "Split: 5\n",
      "Split: 6\n",
      "Split: 7\n",
      "Split: 8\n",
      "Split: 9\n",
      "Split: 10\n",
      "Training Testing Accuracy for n_games=1 team=1 : 62.54% (10.39%)\n",
      "(183, 200)\n",
      "(183, 1)\n",
      "X_train shape: (164, 386)\n",
      "X_test shape: (19, 386)\n",
      "Fitting 10 folds for each of 12 candidates, totalling 120 fits\n"
     ]
    },
    {
     "name": "stderr",
     "output_type": "stream",
     "text": [
      "[Parallel(n_jobs=1)]: Using backend SequentialBackend with 1 concurrent workers.\n",
      "[Parallel(n_jobs=1)]: Done 120 out of 120 | elapsed:    7.9s finished\n"
     ]
    },
    {
     "name": "stdout",
     "output_type": "stream",
     "text": [
      "best score: 0.6219512195121951\n",
      "Fitting 10 folds for each of 12 candidates, totalling 120 fits\n"
     ]
    },
    {
     "name": "stderr",
     "output_type": "stream",
     "text": [
      "[Parallel(n_jobs=1)]: Using backend SequentialBackend with 1 concurrent workers.\n",
      "[Parallel(n_jobs=1)]: Done 120 out of 120 | elapsed:    6.7s finished\n"
     ]
    },
    {
     "name": "stdout",
     "output_type": "stream",
     "text": [
      "best score: 0.6463414634146342\n",
      "Fitting 10 folds for each of 12 candidates, totalling 120 fits\n"
     ]
    },
    {
     "name": "stderr",
     "output_type": "stream",
     "text": [
      "[Parallel(n_jobs=1)]: Using backend SequentialBackend with 1 concurrent workers.\n",
      "[Parallel(n_jobs=1)]: Done 120 out of 120 | elapsed:    7.6s finished\n"
     ]
    },
    {
     "name": "stdout",
     "output_type": "stream",
     "text": [
      "best score: 0.6463414634146342\n",
      "Fitting 10 folds for each of 12 candidates, totalling 120 fits\n"
     ]
    },
    {
     "name": "stderr",
     "output_type": "stream",
     "text": [
      "[Parallel(n_jobs=1)]: Using backend SequentialBackend with 1 concurrent workers.\n",
      "[Parallel(n_jobs=1)]: Done 120 out of 120 | elapsed:    9.1s finished\n"
     ]
    },
    {
     "name": "stdout",
     "output_type": "stream",
     "text": [
      "best score: 0.6463414634146342\n",
      "Fitting 10 folds for each of 12 candidates, totalling 120 fits\n"
     ]
    },
    {
     "name": "stderr",
     "output_type": "stream",
     "text": [
      "[Parallel(n_jobs=1)]: Using backend SequentialBackend with 1 concurrent workers.\n",
      "[Parallel(n_jobs=1)]: Done 120 out of 120 | elapsed:    6.6s finished\n"
     ]
    },
    {
     "name": "stdout",
     "output_type": "stream",
     "text": [
      "best score: 0.6463414634146342\n",
      "Split: 1\n",
      "Split: 2\n",
      "Split: 3\n",
      "Split: 4\n",
      "Split: 5\n",
      "Split: 6\n",
      "Split: 7\n",
      "Split: 8\n",
      "Split: 9\n",
      "Split: 10\n",
      "Training Testing Accuracy for n_games=1 team=2 : 57.34% (7.86%)\n",
      "(181, 200)\n",
      "(181, 1)\n",
      "X_train shape: (162, 382)\n",
      "X_test shape: (19, 382)\n",
      "Fitting 10 folds for each of 12 candidates, totalling 120 fits\n"
     ]
    },
    {
     "name": "stderr",
     "output_type": "stream",
     "text": [
      "[Parallel(n_jobs=1)]: Using backend SequentialBackend with 1 concurrent workers.\n",
      "[Parallel(n_jobs=1)]: Done 120 out of 120 | elapsed:    7.7s finished\n"
     ]
    },
    {
     "name": "stdout",
     "output_type": "stream",
     "text": [
      "best score: 0.691358024691358\n",
      "Fitting 10 folds for each of 12 candidates, totalling 120 fits\n"
     ]
    },
    {
     "name": "stderr",
     "output_type": "stream",
     "text": [
      "[Parallel(n_jobs=1)]: Using backend SequentialBackend with 1 concurrent workers.\n",
      "[Parallel(n_jobs=1)]: Done 120 out of 120 | elapsed:    6.4s finished\n"
     ]
    },
    {
     "name": "stdout",
     "output_type": "stream",
     "text": [
      "best score: 0.691358024691358\n",
      "Fitting 10 folds for each of 12 candidates, totalling 120 fits\n"
     ]
    },
    {
     "name": "stderr",
     "output_type": "stream",
     "text": [
      "[Parallel(n_jobs=1)]: Using backend SequentialBackend with 1 concurrent workers.\n",
      "[Parallel(n_jobs=1)]: Done 120 out of 120 | elapsed:    5.0s finished\n"
     ]
    },
    {
     "name": "stdout",
     "output_type": "stream",
     "text": [
      "best score: 0.691358024691358\n",
      "Fitting 10 folds for each of 12 candidates, totalling 120 fits\n"
     ]
    },
    {
     "name": "stderr",
     "output_type": "stream",
     "text": [
      "[Parallel(n_jobs=1)]: Using backend SequentialBackend with 1 concurrent workers.\n",
      "[Parallel(n_jobs=1)]: Done 120 out of 120 | elapsed:    5.1s finished\n"
     ]
    },
    {
     "name": "stdout",
     "output_type": "stream",
     "text": [
      "best score: 0.691358024691358\n",
      "Fitting 10 folds for each of 12 candidates, totalling 120 fits\n"
     ]
    },
    {
     "name": "stderr",
     "output_type": "stream",
     "text": [
      "[Parallel(n_jobs=1)]: Using backend SequentialBackend with 1 concurrent workers.\n",
      "[Parallel(n_jobs=1)]: Done 120 out of 120 | elapsed:    5.2s finished\n"
     ]
    },
    {
     "name": "stdout",
     "output_type": "stream",
     "text": [
      "best score: 0.691358024691358\n",
      "Split: 1\n",
      "Split: 2\n",
      "Split: 3\n",
      "Split: 4\n",
      "Split: 5\n",
      "Split: 6\n",
      "Split: 7\n",
      "Split: 8\n",
      "Split: 9\n",
      "Split: 10\n",
      "Training Testing Accuracy for n_games=1 team=3 : 68.51% (2.48%)\n",
      "(186, 200)\n",
      "(186, 1)\n",
      "X_train shape: (167, 388)\n",
      "X_test shape: (19, 388)\n",
      "Fitting 10 folds for each of 12 candidates, totalling 120 fits\n"
     ]
    },
    {
     "name": "stderr",
     "output_type": "stream",
     "text": [
      "[Parallel(n_jobs=1)]: Using backend SequentialBackend with 1 concurrent workers.\n",
      "[Parallel(n_jobs=1)]: Done 120 out of 120 | elapsed:    7.9s finished\n"
     ]
    },
    {
     "name": "stdout",
     "output_type": "stream",
     "text": [
      "best score: 0.5808383233532934\n",
      "Fitting 10 folds for each of 12 candidates, totalling 120 fits\n"
     ]
    },
    {
     "name": "stderr",
     "output_type": "stream",
     "text": [
      "[Parallel(n_jobs=1)]: Using backend SequentialBackend with 1 concurrent workers.\n",
      "[Parallel(n_jobs=1)]: Done 120 out of 120 | elapsed:    9.3s finished\n"
     ]
    },
    {
     "name": "stdout",
     "output_type": "stream",
     "text": [
      "best score: 0.5988023952095808\n",
      "Fitting 10 folds for each of 12 candidates, totalling 120 fits\n"
     ]
    },
    {
     "name": "stderr",
     "output_type": "stream",
     "text": [
      "[Parallel(n_jobs=1)]: Using backend SequentialBackend with 1 concurrent workers.\n",
      "[Parallel(n_jobs=1)]: Done 120 out of 120 | elapsed:    7.9s finished\n"
     ]
    },
    {
     "name": "stdout",
     "output_type": "stream",
     "text": [
      "best score: 0.5988023952095808\n",
      "Fitting 10 folds for each of 12 candidates, totalling 120 fits\n"
     ]
    },
    {
     "name": "stderr",
     "output_type": "stream",
     "text": [
      "[Parallel(n_jobs=1)]: Using backend SequentialBackend with 1 concurrent workers.\n",
      "[Parallel(n_jobs=1)]: Done 120 out of 120 | elapsed:   15.9s finished\n"
     ]
    },
    {
     "name": "stdout",
     "output_type": "stream",
     "text": [
      "best score: 0.6167664670658682\n",
      "Fitting 10 folds for each of 12 candidates, totalling 120 fits\n"
     ]
    },
    {
     "name": "stderr",
     "output_type": "stream",
     "text": [
      "[Parallel(n_jobs=1)]: Using backend SequentialBackend with 1 concurrent workers.\n",
      "[Parallel(n_jobs=1)]: Done 120 out of 120 | elapsed:    9.7s finished\n"
     ]
    },
    {
     "name": "stdout",
     "output_type": "stream",
     "text": [
      "best score: 0.6167664670658682\n",
      "Split: 1\n",
      "Split: 2\n",
      "Split: 3\n",
      "Split: 4\n",
      "Split: 5\n",
      "Split: 6\n",
      "Split: 7\n",
      "Split: 8\n",
      "Split: 9\n",
      "Split: 10\n",
      "Training Testing Accuracy for n_games=1 team=4 : 50.58% (7.07%)\n",
      "(183, 200)\n",
      "(183, 1)\n",
      "X_train shape: (164, 383)\n",
      "X_test shape: (19, 383)\n",
      "Fitting 10 folds for each of 12 candidates, totalling 120 fits\n"
     ]
    },
    {
     "name": "stderr",
     "output_type": "stream",
     "text": [
      "[Parallel(n_jobs=1)]: Using backend SequentialBackend with 1 concurrent workers.\n",
      "[Parallel(n_jobs=1)]: Done 120 out of 120 | elapsed:    7.9s finished\n"
     ]
    },
    {
     "name": "stdout",
     "output_type": "stream",
     "text": [
      "best score: 0.5609756097560976\n",
      "Fitting 10 folds for each of 12 candidates, totalling 120 fits\n"
     ]
    },
    {
     "name": "stderr",
     "output_type": "stream",
     "text": [
      "[Parallel(n_jobs=1)]: Using backend SequentialBackend with 1 concurrent workers.\n",
      "[Parallel(n_jobs=1)]: Done 120 out of 120 | elapsed:    6.5s finished\n"
     ]
    },
    {
     "name": "stdout",
     "output_type": "stream",
     "text": [
      "best score: 0.5609756097560976\n",
      "Fitting 10 folds for each of 12 candidates, totalling 120 fits\n"
     ]
    },
    {
     "name": "stderr",
     "output_type": "stream",
     "text": [
      "[Parallel(n_jobs=1)]: Using backend SequentialBackend with 1 concurrent workers.\n",
      "[Parallel(n_jobs=1)]: Done 120 out of 120 | elapsed:   11.9s finished\n"
     ]
    },
    {
     "name": "stdout",
     "output_type": "stream",
     "text": [
      "best score: 0.5609756097560976\n",
      "Fitting 10 folds for each of 12 candidates, totalling 120 fits\n"
     ]
    },
    {
     "name": "stderr",
     "output_type": "stream",
     "text": [
      "[Parallel(n_jobs=1)]: Using backend SequentialBackend with 1 concurrent workers.\n",
      "[Parallel(n_jobs=1)]: Done 120 out of 120 | elapsed:    6.0s finished\n"
     ]
    },
    {
     "name": "stdout",
     "output_type": "stream",
     "text": [
      "best score: 0.5609756097560976\n",
      "Fitting 10 folds for each of 12 candidates, totalling 120 fits\n"
     ]
    },
    {
     "name": "stderr",
     "output_type": "stream",
     "text": [
      "[Parallel(n_jobs=1)]: Using backend SequentialBackend with 1 concurrent workers.\n",
      "[Parallel(n_jobs=1)]: Done 120 out of 120 | elapsed:    6.0s finished\n"
     ]
    },
    {
     "name": "stdout",
     "output_type": "stream",
     "text": [
      "best score: 0.5609756097560976\n",
      "Split: 1\n",
      "Split: 2\n",
      "Split: 3\n",
      "Split: 4\n",
      "Split: 5\n",
      "Split: 6\n",
      "Split: 7\n",
      "Split: 8\n",
      "Split: 9\n",
      "Split: 10\n",
      "Training Testing Accuracy for n_games=1 team=5 : 55.20% (1.46%)\n",
      "(186, 200)\n",
      "(186, 1)\n",
      "X_train shape: (167, 389)\n",
      "X_test shape: (19, 389)\n",
      "Fitting 10 folds for each of 12 candidates, totalling 120 fits\n"
     ]
    },
    {
     "name": "stderr",
     "output_type": "stream",
     "text": [
      "[Parallel(n_jobs=1)]: Using backend SequentialBackend with 1 concurrent workers.\n",
      "[Parallel(n_jobs=1)]: Done 120 out of 120 | elapsed:    8.1s finished\n"
     ]
    },
    {
     "name": "stdout",
     "output_type": "stream",
     "text": [
      "best score: 0.6407185628742516\n",
      "Fitting 10 folds for each of 12 candidates, totalling 120 fits\n"
     ]
    },
    {
     "name": "stderr",
     "output_type": "stream",
     "text": [
      "[Parallel(n_jobs=1)]: Using backend SequentialBackend with 1 concurrent workers.\n",
      "[Parallel(n_jobs=1)]: Done 120 out of 120 | elapsed:    6.2s finished\n"
     ]
    },
    {
     "name": "stdout",
     "output_type": "stream",
     "text": [
      "best score: 0.6407185628742516\n",
      "Fitting 10 folds for each of 12 candidates, totalling 120 fits\n"
     ]
    },
    {
     "name": "stderr",
     "output_type": "stream",
     "text": [
      "[Parallel(n_jobs=1)]: Using backend SequentialBackend with 1 concurrent workers.\n",
      "[Parallel(n_jobs=1)]: Done 120 out of 120 | elapsed:   10.5s finished\n"
     ]
    },
    {
     "name": "stdout",
     "output_type": "stream",
     "text": [
      "best score: 0.6407185628742516\n",
      "Fitting 10 folds for each of 12 candidates, totalling 120 fits\n"
     ]
    },
    {
     "name": "stderr",
     "output_type": "stream",
     "text": [
      "[Parallel(n_jobs=1)]: Using backend SequentialBackend with 1 concurrent workers.\n",
      "[Parallel(n_jobs=1)]: Done 120 out of 120 | elapsed:   10.3s finished\n"
     ]
    },
    {
     "name": "stdout",
     "output_type": "stream",
     "text": [
      "best score: 0.6407185628742516\n",
      "Fitting 10 folds for each of 12 candidates, totalling 120 fits\n"
     ]
    },
    {
     "name": "stderr",
     "output_type": "stream",
     "text": [
      "[Parallel(n_jobs=1)]: Using backend SequentialBackend with 1 concurrent workers.\n",
      "[Parallel(n_jobs=1)]: Done 120 out of 120 | elapsed:   18.7s finished\n"
     ]
    },
    {
     "name": "stdout",
     "output_type": "stream",
     "text": [
      "best score: 0.6946107784431138\n",
      "Split: 1\n",
      "Split: 2\n",
      "Split: 3\n",
      "Split: 4\n",
      "Split: 5\n",
      "Split: 6\n",
      "Split: 7\n",
      "Split: 8\n",
      "Split: 9\n",
      "Split: 10\n",
      "Training Testing Accuracy for n_games=1 team=6 : 61.29% (10.05%)\n",
      "(195, 200)\n",
      "(195, 1)\n",
      "X_train shape: (175, 387)\n",
      "X_test shape: (20, 387)\n",
      "Fitting 10 folds for each of 12 candidates, totalling 120 fits\n"
     ]
    },
    {
     "name": "stderr",
     "output_type": "stream",
     "text": [
      "[Parallel(n_jobs=1)]: Using backend SequentialBackend with 1 concurrent workers.\n",
      "[Parallel(n_jobs=1)]: Done 120 out of 120 | elapsed:    7.8s finished\n"
     ]
    },
    {
     "name": "stdout",
     "output_type": "stream",
     "text": [
      "best score: 0.68\n",
      "Fitting 10 folds for each of 12 candidates, totalling 120 fits\n"
     ]
    },
    {
     "name": "stderr",
     "output_type": "stream",
     "text": [
      "[Parallel(n_jobs=1)]: Using backend SequentialBackend with 1 concurrent workers.\n",
      "[Parallel(n_jobs=1)]: Done 120 out of 120 | elapsed:   10.2s finished\n"
     ]
    },
    {
     "name": "stdout",
     "output_type": "stream",
     "text": [
      "best score: 0.68\n",
      "Fitting 10 folds for each of 12 candidates, totalling 120 fits\n"
     ]
    },
    {
     "name": "stderr",
     "output_type": "stream",
     "text": [
      "[Parallel(n_jobs=1)]: Using backend SequentialBackend with 1 concurrent workers.\n",
      "[Parallel(n_jobs=1)]: Done 120 out of 120 | elapsed:    6.5s finished\n"
     ]
    },
    {
     "name": "stdout",
     "output_type": "stream",
     "text": [
      "best score: 0.6914285714285714\n",
      "Fitting 10 folds for each of 12 candidates, totalling 120 fits\n"
     ]
    },
    {
     "name": "stderr",
     "output_type": "stream",
     "text": [
      "[Parallel(n_jobs=1)]: Using backend SequentialBackend with 1 concurrent workers.\n",
      "[Parallel(n_jobs=1)]: Done 120 out of 120 | elapsed:   12.6s finished\n"
     ]
    },
    {
     "name": "stdout",
     "output_type": "stream",
     "text": [
      "best score: 0.7028571428571428\n",
      "Fitting 10 folds for each of 12 candidates, totalling 120 fits\n"
     ]
    },
    {
     "name": "stderr",
     "output_type": "stream",
     "text": [
      "[Parallel(n_jobs=1)]: Using backend SequentialBackend with 1 concurrent workers.\n",
      "[Parallel(n_jobs=1)]: Done 120 out of 120 | elapsed:    6.4s finished\n"
     ]
    },
    {
     "name": "stdout",
     "output_type": "stream",
     "text": [
      "best score: 0.7028571428571428\n",
      "Split: 1\n",
      "Split: 2\n",
      "Split: 3\n",
      "Split: 4\n",
      "Split: 5\n",
      "Split: 6\n",
      "Split: 7\n",
      "Split: 8\n",
      "Split: 9\n",
      "Split: 10\n",
      "Training Testing Accuracy for n_games=1 team=7 : 66.74% (5.32%)\n",
      "(179, 200)\n",
      "(179, 1)\n",
      "X_train shape: (161, 384)\n",
      "X_test shape: (18, 384)\n",
      "Fitting 10 folds for each of 12 candidates, totalling 120 fits\n"
     ]
    },
    {
     "name": "stderr",
     "output_type": "stream",
     "text": [
      "[Parallel(n_jobs=1)]: Using backend SequentialBackend with 1 concurrent workers.\n",
      "[Parallel(n_jobs=1)]: Done 120 out of 120 | elapsed:    7.6s finished\n"
     ]
    },
    {
     "name": "stdout",
     "output_type": "stream",
     "text": [
      "best score: 0.7453416149068323\n",
      "Fitting 10 folds for each of 12 candidates, totalling 120 fits\n"
     ]
    },
    {
     "name": "stderr",
     "output_type": "stream",
     "text": [
      "[Parallel(n_jobs=1)]: Using backend SequentialBackend with 1 concurrent workers.\n",
      "[Parallel(n_jobs=1)]: Done 120 out of 120 | elapsed:    7.9s finished\n"
     ]
    },
    {
     "name": "stdout",
     "output_type": "stream",
     "text": [
      "best score: 0.7453416149068323\n",
      "Fitting 10 folds for each of 12 candidates, totalling 120 fits\n"
     ]
    },
    {
     "name": "stderr",
     "output_type": "stream",
     "text": [
      "[Parallel(n_jobs=1)]: Using backend SequentialBackend with 1 concurrent workers.\n",
      "[Parallel(n_jobs=1)]: Done 120 out of 120 | elapsed:   11.9s finished\n"
     ]
    },
    {
     "name": "stdout",
     "output_type": "stream",
     "text": [
      "best score: 0.7453416149068323\n",
      "Fitting 10 folds for each of 12 candidates, totalling 120 fits\n"
     ]
    },
    {
     "name": "stderr",
     "output_type": "stream",
     "text": [
      "[Parallel(n_jobs=1)]: Using backend SequentialBackend with 1 concurrent workers.\n",
      "[Parallel(n_jobs=1)]: Done 120 out of 120 | elapsed:    7.9s finished\n"
     ]
    },
    {
     "name": "stdout",
     "output_type": "stream",
     "text": [
      "best score: 0.7453416149068323\n",
      "Fitting 10 folds for each of 12 candidates, totalling 120 fits\n"
     ]
    },
    {
     "name": "stderr",
     "output_type": "stream",
     "text": [
      "[Parallel(n_jobs=1)]: Using backend SequentialBackend with 1 concurrent workers.\n",
      "[Parallel(n_jobs=1)]: Done 120 out of 120 | elapsed:    6.0s finished\n"
     ]
    },
    {
     "name": "stdout",
     "output_type": "stream",
     "text": [
      "best score: 0.7453416149068323\n",
      "Split: 1\n",
      "Split: 2\n",
      "Split: 3\n",
      "Split: 4\n",
      "Split: 5\n",
      "Split: 6\n",
      "Split: 7\n",
      "Split: 8\n",
      "Split: 9\n",
      "Split: 10\n",
      "Training Testing Accuracy for n_games=1 team=8 : 72.06% (0.49%)\n",
      "(192, 200)\n",
      "(192, 1)\n",
      "X_train shape: (172, 396)\n",
      "X_test shape: (20, 396)\n",
      "Fitting 10 folds for each of 12 candidates, totalling 120 fits\n"
     ]
    },
    {
     "name": "stderr",
     "output_type": "stream",
     "text": [
      "[Parallel(n_jobs=1)]: Using backend SequentialBackend with 1 concurrent workers.\n",
      "[Parallel(n_jobs=1)]: Done 120 out of 120 | elapsed:    8.0s finished\n"
     ]
    },
    {
     "name": "stdout",
     "output_type": "stream",
     "text": [
      "best score: 0.5755813953488372\n",
      "Fitting 10 folds for each of 12 candidates, totalling 120 fits\n"
     ]
    },
    {
     "name": "stderr",
     "output_type": "stream",
     "text": [
      "[Parallel(n_jobs=1)]: Using backend SequentialBackend with 1 concurrent workers.\n",
      "[Parallel(n_jobs=1)]: Done 120 out of 120 | elapsed:   21.4s finished\n"
     ]
    },
    {
     "name": "stdout",
     "output_type": "stream",
     "text": [
      "best score: 0.6337209302325582\n",
      "Fitting 10 folds for each of 12 candidates, totalling 120 fits\n"
     ]
    },
    {
     "name": "stderr",
     "output_type": "stream",
     "text": [
      "[Parallel(n_jobs=1)]: Using backend SequentialBackend with 1 concurrent workers.\n",
      "[Parallel(n_jobs=1)]: Done 120 out of 120 | elapsed:    5.8s finished\n"
     ]
    },
    {
     "name": "stdout",
     "output_type": "stream",
     "text": [
      "best score: 0.6337209302325582\n",
      "Fitting 10 folds for each of 12 candidates, totalling 120 fits\n"
     ]
    },
    {
     "name": "stderr",
     "output_type": "stream",
     "text": [
      "[Parallel(n_jobs=1)]: Using backend SequentialBackend with 1 concurrent workers.\n",
      "[Parallel(n_jobs=1)]: Done 120 out of 120 | elapsed:   17.3s finished\n"
     ]
    },
    {
     "name": "stdout",
     "output_type": "stream",
     "text": [
      "best score: 0.6337209302325582\n",
      "Fitting 10 folds for each of 12 candidates, totalling 120 fits\n"
     ]
    },
    {
     "name": "stderr",
     "output_type": "stream",
     "text": [
      "[Parallel(n_jobs=1)]: Using backend SequentialBackend with 1 concurrent workers.\n",
      "[Parallel(n_jobs=1)]: Done 120 out of 120 | elapsed:   14.9s finished\n"
     ]
    },
    {
     "name": "stdout",
     "output_type": "stream",
     "text": [
      "best score: 0.6337209302325582\n",
      "Split: 1\n",
      "Split: 2\n",
      "Split: 3\n",
      "Split: 4\n",
      "Split: 5\n",
      "Split: 6\n",
      "Split: 7\n",
      "Split: 8\n",
      "Split: 9\n",
      "Split: 10\n",
      "Training Testing Accuracy for n_games=1 team=9 : 60.89% (6.90%)\n",
      "(193, 200)\n",
      "(193, 1)\n",
      "X_train shape: (173, 386)\n",
      "X_test shape: (20, 386)\n",
      "Fitting 10 folds for each of 12 candidates, totalling 120 fits\n"
     ]
    },
    {
     "name": "stderr",
     "output_type": "stream",
     "text": [
      "[Parallel(n_jobs=1)]: Using backend SequentialBackend with 1 concurrent workers.\n",
      "[Parallel(n_jobs=1)]: Done 120 out of 120 | elapsed:    7.8s finished\n"
     ]
    },
    {
     "name": "stdout",
     "output_type": "stream",
     "text": [
      "best score: 0.6358381502890174\n",
      "Fitting 10 folds for each of 12 candidates, totalling 120 fits\n"
     ]
    },
    {
     "name": "stderr",
     "output_type": "stream",
     "text": [
      "[Parallel(n_jobs=1)]: Using backend SequentialBackend with 1 concurrent workers.\n",
      "[Parallel(n_jobs=1)]: Done 120 out of 120 | elapsed:    5.2s finished\n"
     ]
    },
    {
     "name": "stdout",
     "output_type": "stream",
     "text": [
      "best score: 0.6358381502890174\n",
      "Fitting 10 folds for each of 12 candidates, totalling 120 fits\n"
     ]
    },
    {
     "name": "stderr",
     "output_type": "stream",
     "text": [
      "[Parallel(n_jobs=1)]: Using backend SequentialBackend with 1 concurrent workers.\n",
      "[Parallel(n_jobs=1)]: Done 120 out of 120 | elapsed:    7.4s finished\n"
     ]
    },
    {
     "name": "stdout",
     "output_type": "stream",
     "text": [
      "best score: 0.653179190751445\n",
      "Fitting 10 folds for each of 12 candidates, totalling 120 fits\n"
     ]
    },
    {
     "name": "stderr",
     "output_type": "stream",
     "text": [
      "[Parallel(n_jobs=1)]: Using backend SequentialBackend with 1 concurrent workers.\n",
      "[Parallel(n_jobs=1)]: Done 120 out of 120 | elapsed:    5.5s finished\n"
     ]
    },
    {
     "name": "stdout",
     "output_type": "stream",
     "text": [
      "best score: 0.653179190751445\n",
      "Fitting 10 folds for each of 12 candidates, totalling 120 fits\n"
     ]
    },
    {
     "name": "stderr",
     "output_type": "stream",
     "text": [
      "[Parallel(n_jobs=1)]: Using backend SequentialBackend with 1 concurrent workers.\n",
      "[Parallel(n_jobs=1)]: Done 120 out of 120 | elapsed:    7.4s finished\n"
     ]
    },
    {
     "name": "stdout",
     "output_type": "stream",
     "text": [
      "best score: 0.653179190751445\n",
      "Split: 1\n",
      "Split: 2\n",
      "Split: 3\n",
      "Split: 4\n",
      "Split: 5\n",
      "Split: 6\n",
      "Split: 7\n",
      "Split: 8\n",
      "Split: 9\n",
      "Split: 10\n",
      "Training Testing Accuracy for n_games=1 team=10 : 63.16% (5.25%)\n",
      "(185, 200)\n",
      "(185, 1)\n",
      "X_train shape: (166, 390)\n",
      "X_test shape: (19, 390)\n",
      "Fitting 10 folds for each of 12 candidates, totalling 120 fits\n"
     ]
    },
    {
     "name": "stderr",
     "output_type": "stream",
     "text": [
      "[Parallel(n_jobs=1)]: Using backend SequentialBackend with 1 concurrent workers.\n",
      "[Parallel(n_jobs=1)]: Done 120 out of 120 | elapsed:    8.3s finished\n"
     ]
    },
    {
     "name": "stdout",
     "output_type": "stream",
     "text": [
      "best score: 0.5783132530120482\n",
      "Fitting 10 folds for each of 12 candidates, totalling 120 fits\n"
     ]
    },
    {
     "name": "stderr",
     "output_type": "stream",
     "text": [
      "[Parallel(n_jobs=1)]: Using backend SequentialBackend with 1 concurrent workers.\n",
      "[Parallel(n_jobs=1)]: Done 120 out of 120 | elapsed:    9.7s finished\n"
     ]
    },
    {
     "name": "stdout",
     "output_type": "stream",
     "text": [
      "best score: 0.5783132530120482\n",
      "Fitting 10 folds for each of 12 candidates, totalling 120 fits\n"
     ]
    },
    {
     "name": "stderr",
     "output_type": "stream",
     "text": [
      "[Parallel(n_jobs=1)]: Using backend SequentialBackend with 1 concurrent workers.\n",
      "[Parallel(n_jobs=1)]: Done 120 out of 120 | elapsed:    5.9s finished\n"
     ]
    },
    {
     "name": "stdout",
     "output_type": "stream",
     "text": [
      "best score: 0.5783132530120482\n",
      "Fitting 10 folds for each of 12 candidates, totalling 120 fits\n"
     ]
    },
    {
     "name": "stderr",
     "output_type": "stream",
     "text": [
      "[Parallel(n_jobs=1)]: Using backend SequentialBackend with 1 concurrent workers.\n",
      "[Parallel(n_jobs=1)]: Done 120 out of 120 | elapsed:    6.6s finished\n"
     ]
    },
    {
     "name": "stdout",
     "output_type": "stream",
     "text": [
      "best score: 0.608433734939759\n",
      "Fitting 10 folds for each of 12 candidates, totalling 120 fits\n"
     ]
    },
    {
     "name": "stderr",
     "output_type": "stream",
     "text": [
      "[Parallel(n_jobs=1)]: Using backend SequentialBackend with 1 concurrent workers.\n",
      "[Parallel(n_jobs=1)]: Done 120 out of 120 | elapsed:    7.1s finished\n"
     ]
    },
    {
     "name": "stdout",
     "output_type": "stream",
     "text": [
      "best score: 0.608433734939759\n",
      "Split: 1\n",
      "Split: 2\n",
      "Split: 3\n",
      "Split: 4\n",
      "Split: 5\n",
      "Split: 6\n",
      "Split: 7\n",
      "Split: 8\n",
      "Split: 9\n",
      "Split: 10\n",
      "Training Testing Accuracy for n_games=1 team=11 : 61.11% (6.10%)\n",
      "(186, 200)\n",
      "(186, 1)\n",
      "X_train shape: (167, 386)\n",
      "X_test shape: (19, 386)\n",
      "Fitting 10 folds for each of 12 candidates, totalling 120 fits\n"
     ]
    },
    {
     "name": "stderr",
     "output_type": "stream",
     "text": [
      "[Parallel(n_jobs=1)]: Using backend SequentialBackend with 1 concurrent workers.\n",
      "[Parallel(n_jobs=1)]: Done 120 out of 120 | elapsed:    8.0s finished\n"
     ]
    },
    {
     "name": "stdout",
     "output_type": "stream",
     "text": [
      "best score: 0.5329341317365269\n",
      "Fitting 10 folds for each of 12 candidates, totalling 120 fits\n"
     ]
    },
    {
     "name": "stderr",
     "output_type": "stream",
     "text": [
      "[Parallel(n_jobs=1)]: Using backend SequentialBackend with 1 concurrent workers.\n",
      "[Parallel(n_jobs=1)]: Done 120 out of 120 | elapsed:   13.4s finished\n"
     ]
    },
    {
     "name": "stdout",
     "output_type": "stream",
     "text": [
      "best score: 0.5568862275449101\n",
      "Fitting 10 folds for each of 12 candidates, totalling 120 fits\n"
     ]
    },
    {
     "name": "stderr",
     "output_type": "stream",
     "text": [
      "[Parallel(n_jobs=1)]: Using backend SequentialBackend with 1 concurrent workers.\n",
      "[Parallel(n_jobs=1)]: Done 120 out of 120 | elapsed:   13.1s finished\n"
     ]
    },
    {
     "name": "stdout",
     "output_type": "stream",
     "text": [
      "best score: 0.5748502994011976\n",
      "Fitting 10 folds for each of 12 candidates, totalling 120 fits\n"
     ]
    },
    {
     "name": "stderr",
     "output_type": "stream",
     "text": [
      "[Parallel(n_jobs=1)]: Using backend SequentialBackend with 1 concurrent workers.\n",
      "[Parallel(n_jobs=1)]: Done 120 out of 120 | elapsed:    6.4s finished\n"
     ]
    },
    {
     "name": "stdout",
     "output_type": "stream",
     "text": [
      "best score: 0.5748502994011976\n",
      "Fitting 10 folds for each of 12 candidates, totalling 120 fits\n"
     ]
    },
    {
     "name": "stderr",
     "output_type": "stream",
     "text": [
      "[Parallel(n_jobs=1)]: Using backend SequentialBackend with 1 concurrent workers.\n",
      "[Parallel(n_jobs=1)]: Done 120 out of 120 | elapsed:    5.3s finished\n"
     ]
    },
    {
     "name": "stdout",
     "output_type": "stream",
     "text": [
      "best score: 0.5748502994011976\n",
      "Split: 1\n",
      "Split: 2\n",
      "Split: 3\n",
      "Split: 4\n",
      "Split: 5\n",
      "Split: 6\n",
      "Split: 7\n",
      "Split: 8\n",
      "Split: 9\n",
      "Split: 10\n",
      "Training Testing Accuracy for n_games=1 team=12 : 53.77% (7.47%)\n",
      "(187, 200)\n",
      "(187, 1)\n",
      "X_train shape: (168, 393)\n",
      "X_test shape: (19, 393)\n",
      "Fitting 10 folds for each of 12 candidates, totalling 120 fits\n"
     ]
    },
    {
     "name": "stderr",
     "output_type": "stream",
     "text": [
      "[Parallel(n_jobs=1)]: Using backend SequentialBackend with 1 concurrent workers.\n",
      "[Parallel(n_jobs=1)]: Done 120 out of 120 | elapsed:    7.9s finished\n"
     ]
    },
    {
     "name": "stdout",
     "output_type": "stream",
     "text": [
      "best score: 0.6130952380952381\n",
      "Fitting 10 folds for each of 12 candidates, totalling 120 fits\n"
     ]
    },
    {
     "name": "stderr",
     "output_type": "stream",
     "text": [
      "[Parallel(n_jobs=1)]: Using backend SequentialBackend with 1 concurrent workers.\n",
      "[Parallel(n_jobs=1)]: Done 120 out of 120 | elapsed:   13.7s finished\n"
     ]
    },
    {
     "name": "stdout",
     "output_type": "stream",
     "text": [
      "best score: 0.6547619047619048\n",
      "Fitting 10 folds for each of 12 candidates, totalling 120 fits\n"
     ]
    },
    {
     "name": "stderr",
     "output_type": "stream",
     "text": [
      "[Parallel(n_jobs=1)]: Using backend SequentialBackend with 1 concurrent workers.\n",
      "[Parallel(n_jobs=1)]: Done 120 out of 120 | elapsed:   19.4s finished\n"
     ]
    },
    {
     "name": "stdout",
     "output_type": "stream",
     "text": [
      "best score: 0.6547619047619048\n",
      "Fitting 10 folds for each of 12 candidates, totalling 120 fits\n"
     ]
    },
    {
     "name": "stderr",
     "output_type": "stream",
     "text": [
      "[Parallel(n_jobs=1)]: Using backend SequentialBackend with 1 concurrent workers.\n",
      "[Parallel(n_jobs=1)]: Done 120 out of 120 | elapsed:    7.5s finished\n"
     ]
    },
    {
     "name": "stdout",
     "output_type": "stream",
     "text": [
      "best score: 0.6547619047619048\n",
      "Fitting 10 folds for each of 12 candidates, totalling 120 fits\n"
     ]
    },
    {
     "name": "stderr",
     "output_type": "stream",
     "text": [
      "[Parallel(n_jobs=1)]: Using backend SequentialBackend with 1 concurrent workers.\n",
      "[Parallel(n_jobs=1)]: Done 120 out of 120 | elapsed:   17.5s finished\n"
     ]
    },
    {
     "name": "stdout",
     "output_type": "stream",
     "text": [
      "best score: 0.6547619047619048\n",
      "Split: 1\n",
      "Split: 2\n",
      "Split: 3\n",
      "Split: 4\n",
      "Split: 5\n",
      "Split: 6\n",
      "Split: 7\n",
      "Split: 8\n",
      "Split: 9\n",
      "Split: 10\n",
      "Training Testing Accuracy for n_games=1 team=13 : 58.25% (4.26%)\n",
      "(190, 200)\n",
      "(190, 1)\n",
      "X_train shape: (171, 387)\n",
      "X_test shape: (19, 387)\n",
      "Fitting 10 folds for each of 12 candidates, totalling 120 fits\n"
     ]
    },
    {
     "name": "stderr",
     "output_type": "stream",
     "text": [
      "[Parallel(n_jobs=1)]: Using backend SequentialBackend with 1 concurrent workers.\n",
      "[Parallel(n_jobs=1)]: Done 120 out of 120 | elapsed:    7.8s finished\n"
     ]
    },
    {
     "name": "stdout",
     "output_type": "stream",
     "text": [
      "best score: 0.631578947368421\n",
      "Fitting 10 folds for each of 12 candidates, totalling 120 fits\n"
     ]
    },
    {
     "name": "stderr",
     "output_type": "stream",
     "text": [
      "[Parallel(n_jobs=1)]: Using backend SequentialBackend with 1 concurrent workers.\n",
      "[Parallel(n_jobs=1)]: Done 120 out of 120 | elapsed:    6.1s finished\n"
     ]
    },
    {
     "name": "stdout",
     "output_type": "stream",
     "text": [
      "best score: 0.631578947368421\n",
      "Fitting 10 folds for each of 12 candidates, totalling 120 fits\n"
     ]
    },
    {
     "name": "stderr",
     "output_type": "stream",
     "text": [
      "[Parallel(n_jobs=1)]: Using backend SequentialBackend with 1 concurrent workers.\n",
      "[Parallel(n_jobs=1)]: Done 120 out of 120 | elapsed:    6.2s finished\n"
     ]
    },
    {
     "name": "stdout",
     "output_type": "stream",
     "text": [
      "best score: 0.631578947368421\n",
      "Fitting 10 folds for each of 12 candidates, totalling 120 fits\n"
     ]
    },
    {
     "name": "stderr",
     "output_type": "stream",
     "text": [
      "[Parallel(n_jobs=1)]: Using backend SequentialBackend with 1 concurrent workers.\n",
      "[Parallel(n_jobs=1)]: Done 120 out of 120 | elapsed:    9.3s finished\n"
     ]
    },
    {
     "name": "stdout",
     "output_type": "stream",
     "text": [
      "best score: 0.631578947368421\n",
      "Fitting 10 folds for each of 12 candidates, totalling 120 fits\n"
     ]
    },
    {
     "name": "stderr",
     "output_type": "stream",
     "text": [
      "[Parallel(n_jobs=1)]: Using backend SequentialBackend with 1 concurrent workers.\n",
      "[Parallel(n_jobs=1)]: Done 120 out of 120 | elapsed:    5.7s finished\n"
     ]
    },
    {
     "name": "stdout",
     "output_type": "stream",
     "text": [
      "best score: 0.631578947368421\n",
      "Split: 1\n",
      "Split: 2\n",
      "Split: 3\n",
      "Split: 4\n",
      "Split: 5\n",
      "Split: 6\n",
      "Split: 7\n",
      "Split: 8\n",
      "Split: 9\n",
      "Split: 10\n",
      "Training Testing Accuracy for n_games=1 team=14 : 61.58% (2.41%)\n",
      "(179, 200)\n",
      "(179, 1)\n",
      "X_train shape: (161, 387)\n",
      "X_test shape: (18, 387)\n",
      "Fitting 10 folds for each of 12 candidates, totalling 120 fits\n"
     ]
    },
    {
     "name": "stderr",
     "output_type": "stream",
     "text": [
      "[Parallel(n_jobs=1)]: Using backend SequentialBackend with 1 concurrent workers.\n",
      "[Parallel(n_jobs=1)]: Done 120 out of 120 | elapsed:   11.1s finished\n"
     ]
    },
    {
     "name": "stdout",
     "output_type": "stream",
     "text": [
      "best score: 0.6583850931677019\n",
      "Fitting 10 folds for each of 12 candidates, totalling 120 fits\n"
     ]
    },
    {
     "name": "stderr",
     "output_type": "stream",
     "text": [
      "[Parallel(n_jobs=1)]: Using backend SequentialBackend with 1 concurrent workers.\n",
      "[Parallel(n_jobs=1)]: Done 120 out of 120 | elapsed:    8.8s finished\n"
     ]
    },
    {
     "name": "stdout",
     "output_type": "stream",
     "text": [
      "best score: 0.6583850931677019\n",
      "Fitting 10 folds for each of 12 candidates, totalling 120 fits\n"
     ]
    },
    {
     "name": "stderr",
     "output_type": "stream",
     "text": [
      "[Parallel(n_jobs=1)]: Using backend SequentialBackend with 1 concurrent workers.\n",
      "[Parallel(n_jobs=1)]: Done 120 out of 120 | elapsed:    7.1s finished\n"
     ]
    },
    {
     "name": "stdout",
     "output_type": "stream",
     "text": [
      "best score: 0.6583850931677019\n",
      "Fitting 10 folds for each of 12 candidates, totalling 120 fits\n"
     ]
    },
    {
     "name": "stderr",
     "output_type": "stream",
     "text": [
      "[Parallel(n_jobs=1)]: Using backend SequentialBackend with 1 concurrent workers.\n",
      "[Parallel(n_jobs=1)]: Done 120 out of 120 | elapsed:    9.3s finished\n"
     ]
    },
    {
     "name": "stdout",
     "output_type": "stream",
     "text": [
      "best score: 0.6645962732919255\n",
      "Fitting 10 folds for each of 12 candidates, totalling 120 fits\n"
     ]
    },
    {
     "name": "stderr",
     "output_type": "stream",
     "text": [
      "[Parallel(n_jobs=1)]: Using backend SequentialBackend with 1 concurrent workers.\n",
      "[Parallel(n_jobs=1)]: Done 120 out of 120 | elapsed:    8.1s finished\n"
     ]
    },
    {
     "name": "stdout",
     "output_type": "stream",
     "text": [
      "best score: 0.6645962732919255\n",
      "Split: 1\n",
      "Split: 2\n",
      "Split: 3\n",
      "Split: 4\n",
      "Split: 5\n",
      "Split: 6\n",
      "Split: 7\n",
      "Split: 8\n",
      "Split: 9\n",
      "Split: 10\n",
      "Training Testing Accuracy for n_games=1 team=15 : 64.87% (10.10%)\n",
      "(195, 200)\n",
      "(195, 1)\n",
      "X_train shape: (175, 390)\n",
      "X_test shape: (20, 390)\n",
      "Fitting 10 folds for each of 12 candidates, totalling 120 fits\n"
     ]
    },
    {
     "name": "stderr",
     "output_type": "stream",
     "text": [
      "[Parallel(n_jobs=1)]: Using backend SequentialBackend with 1 concurrent workers.\n",
      "[Parallel(n_jobs=1)]: Done 120 out of 120 | elapsed:    9.5s finished\n"
     ]
    },
    {
     "name": "stdout",
     "output_type": "stream",
     "text": [
      "best score: 0.64\n",
      "Fitting 10 folds for each of 12 candidates, totalling 120 fits\n"
     ]
    },
    {
     "name": "stderr",
     "output_type": "stream",
     "text": [
      "[Parallel(n_jobs=1)]: Using backend SequentialBackend with 1 concurrent workers.\n",
      "[Parallel(n_jobs=1)]: Done 120 out of 120 | elapsed:    8.7s finished\n"
     ]
    },
    {
     "name": "stdout",
     "output_type": "stream",
     "text": [
      "best score: 0.64\n",
      "Fitting 10 folds for each of 12 candidates, totalling 120 fits\n"
     ]
    },
    {
     "name": "stderr",
     "output_type": "stream",
     "text": [
      "[Parallel(n_jobs=1)]: Using backend SequentialBackend with 1 concurrent workers.\n",
      "[Parallel(n_jobs=1)]: Done 120 out of 120 | elapsed:   17.5s finished\n"
     ]
    },
    {
     "name": "stdout",
     "output_type": "stream",
     "text": [
      "best score: 0.64\n",
      "Fitting 10 folds for each of 12 candidates, totalling 120 fits\n"
     ]
    },
    {
     "name": "stderr",
     "output_type": "stream",
     "text": [
      "[Parallel(n_jobs=1)]: Using backend SequentialBackend with 1 concurrent workers.\n",
      "[Parallel(n_jobs=1)]: Done 120 out of 120 | elapsed:   14.3s finished\n"
     ]
    },
    {
     "name": "stdout",
     "output_type": "stream",
     "text": [
      "best score: 0.64\n",
      "Fitting 10 folds for each of 12 candidates, totalling 120 fits\n"
     ]
    },
    {
     "name": "stderr",
     "output_type": "stream",
     "text": [
      "[Parallel(n_jobs=1)]: Using backend SequentialBackend with 1 concurrent workers.\n",
      "[Parallel(n_jobs=1)]: Done 120 out of 120 | elapsed:    7.1s finished\n"
     ]
    },
    {
     "name": "stdout",
     "output_type": "stream",
     "text": [
      "best score: 0.64\n",
      "Split: 1\n",
      "Split: 2\n",
      "Split: 3\n",
      "Split: 4\n",
      "Split: 5\n",
      "Split: 6\n",
      "Split: 7\n",
      "Split: 8\n",
      "Split: 9\n",
      "Split: 10\n",
      "Training Testing Accuracy for n_games=1 team=16 : 64.08% (0.92%)\n",
      "(190, 200)\n",
      "(190, 1)\n",
      "X_train shape: (171, 386)\n",
      "X_test shape: (19, 386)\n",
      "Fitting 10 folds for each of 12 candidates, totalling 120 fits\n"
     ]
    },
    {
     "name": "stderr",
     "output_type": "stream",
     "text": [
      "[Parallel(n_jobs=1)]: Using backend SequentialBackend with 1 concurrent workers.\n",
      "[Parallel(n_jobs=1)]: Done 120 out of 120 | elapsed:    7.8s finished\n"
     ]
    },
    {
     "name": "stdout",
     "output_type": "stream",
     "text": [
      "best score: 0.6198830409356725\n",
      "Fitting 10 folds for each of 12 candidates, totalling 120 fits\n"
     ]
    },
    {
     "name": "stderr",
     "output_type": "stream",
     "text": [
      "[Parallel(n_jobs=1)]: Using backend SequentialBackend with 1 concurrent workers.\n",
      "[Parallel(n_jobs=1)]: Done 120 out of 120 | elapsed:    5.8s finished\n"
     ]
    },
    {
     "name": "stdout",
     "output_type": "stream",
     "text": [
      "best score: 0.6198830409356725\n",
      "Fitting 10 folds for each of 12 candidates, totalling 120 fits\n"
     ]
    },
    {
     "name": "stderr",
     "output_type": "stream",
     "text": [
      "[Parallel(n_jobs=1)]: Using backend SequentialBackend with 1 concurrent workers.\n",
      "[Parallel(n_jobs=1)]: Done 120 out of 120 | elapsed:    6.8s finished\n"
     ]
    },
    {
     "name": "stdout",
     "output_type": "stream",
     "text": [
      "best score: 0.631578947368421\n",
      "Fitting 10 folds for each of 12 candidates, totalling 120 fits\n"
     ]
    },
    {
     "name": "stderr",
     "output_type": "stream",
     "text": [
      "[Parallel(n_jobs=1)]: Using backend SequentialBackend with 1 concurrent workers.\n",
      "[Parallel(n_jobs=1)]: Done 120 out of 120 | elapsed:    7.1s finished\n"
     ]
    },
    {
     "name": "stdout",
     "output_type": "stream",
     "text": [
      "best score: 0.631578947368421\n",
      "Fitting 10 folds for each of 12 candidates, totalling 120 fits\n"
     ]
    },
    {
     "name": "stderr",
     "output_type": "stream",
     "text": [
      "[Parallel(n_jobs=1)]: Using backend SequentialBackend with 1 concurrent workers.\n",
      "[Parallel(n_jobs=1)]: Done 120 out of 120 | elapsed:    8.8s finished\n"
     ]
    },
    {
     "name": "stdout",
     "output_type": "stream",
     "text": [
      "best score: 0.6549707602339181\n",
      "Split: 1\n",
      "Split: 2\n",
      "Split: 3\n",
      "Split: 4\n",
      "Split: 5\n",
      "Split: 6\n",
      "Split: 7\n",
      "Split: 8\n",
      "Split: 9\n",
      "Split: 10\n",
      "Training Testing Accuracy for n_games=1 team=17 : 59.47% (4.74%)\n",
      "(189, 200)\n",
      "(189, 1)\n",
      "X_train shape: (170, 394)\n",
      "X_test shape: (19, 394)\n",
      "Fitting 10 folds for each of 12 candidates, totalling 120 fits\n"
     ]
    },
    {
     "name": "stderr",
     "output_type": "stream",
     "text": [
      "[Parallel(n_jobs=1)]: Using backend SequentialBackend with 1 concurrent workers.\n",
      "[Parallel(n_jobs=1)]: Done 120 out of 120 | elapsed:    8.0s finished\n"
     ]
    },
    {
     "name": "stdout",
     "output_type": "stream",
     "text": [
      "best score: 0.5823529411764706\n",
      "Fitting 10 folds for each of 12 candidates, totalling 120 fits\n"
     ]
    },
    {
     "name": "stderr",
     "output_type": "stream",
     "text": [
      "[Parallel(n_jobs=1)]: Using backend SequentialBackend with 1 concurrent workers.\n",
      "[Parallel(n_jobs=1)]: Done 120 out of 120 | elapsed:   11.8s finished\n"
     ]
    },
    {
     "name": "stdout",
     "output_type": "stream",
     "text": [
      "best score: 0.5823529411764706\n",
      "Fitting 10 folds for each of 12 candidates, totalling 120 fits\n"
     ]
    },
    {
     "name": "stderr",
     "output_type": "stream",
     "text": [
      "[Parallel(n_jobs=1)]: Using backend SequentialBackend with 1 concurrent workers.\n",
      "[Parallel(n_jobs=1)]: Done 120 out of 120 | elapsed:    7.7s finished\n"
     ]
    },
    {
     "name": "stdout",
     "output_type": "stream",
     "text": [
      "best score: 0.5823529411764706\n",
      "Fitting 10 folds for each of 12 candidates, totalling 120 fits\n"
     ]
    },
    {
     "name": "stderr",
     "output_type": "stream",
     "text": [
      "[Parallel(n_jobs=1)]: Using backend SequentialBackend with 1 concurrent workers.\n",
      "[Parallel(n_jobs=1)]: Done 120 out of 120 | elapsed:   10.9s finished\n"
     ]
    },
    {
     "name": "stdout",
     "output_type": "stream",
     "text": [
      "best score: 0.5823529411764706\n",
      "Fitting 10 folds for each of 12 candidates, totalling 120 fits\n"
     ]
    },
    {
     "name": "stderr",
     "output_type": "stream",
     "text": [
      "[Parallel(n_jobs=1)]: Using backend SequentialBackend with 1 concurrent workers.\n",
      "[Parallel(n_jobs=1)]: Done 120 out of 120 | elapsed:    6.9s finished\n"
     ]
    },
    {
     "name": "stdout",
     "output_type": "stream",
     "text": [
      "best score: 0.5823529411764706\n",
      "Split: 1\n",
      "Split: 2\n",
      "Split: 3\n",
      "Split: 4\n",
      "Split: 5\n",
      "Split: 6\n",
      "Split: 7\n",
      "Split: 8\n",
      "Split: 9\n",
      "Split: 10\n",
      "Training Testing Accuracy for n_games=1 team=18 : 53.33% (16.50%)\n",
      "Accuracy for Team Models for n_games= 1 : 60.82% (5.37%)\n",
      "(184, 386)\n",
      "(184, 1)\n",
      "X_train shape: (165, 695)\n",
      "X_test shape: (19, 695)\n",
      "Fitting 10 folds for each of 12 candidates, totalling 120 fits\n"
     ]
    },
    {
     "name": "stderr",
     "output_type": "stream",
     "text": [
      "[Parallel(n_jobs=1)]: Using backend SequentialBackend with 1 concurrent workers.\n",
      "[Parallel(n_jobs=1)]: Done 120 out of 120 | elapsed:   12.3s finished\n"
     ]
    },
    {
     "name": "stdout",
     "output_type": "stream",
     "text": [
      "best score: 0.6121212121212121\n",
      "Fitting 10 folds for each of 12 candidates, totalling 120 fits\n"
     ]
    },
    {
     "name": "stderr",
     "output_type": "stream",
     "text": [
      "[Parallel(n_jobs=1)]: Using backend SequentialBackend with 1 concurrent workers.\n",
      "[Parallel(n_jobs=1)]: Done 120 out of 120 | elapsed:   32.0s finished\n"
     ]
    },
    {
     "name": "stdout",
     "output_type": "stream",
     "text": [
      "best score: 0.6121212121212121\n",
      "Fitting 10 folds for each of 12 candidates, totalling 120 fits\n"
     ]
    },
    {
     "name": "stderr",
     "output_type": "stream",
     "text": [
      "[Parallel(n_jobs=1)]: Using backend SequentialBackend with 1 concurrent workers.\n",
      "[Parallel(n_jobs=1)]: Done 120 out of 120 | elapsed:   11.6s finished\n"
     ]
    },
    {
     "name": "stdout",
     "output_type": "stream",
     "text": [
      "best score: 0.6121212121212121\n",
      "Fitting 10 folds for each of 12 candidates, totalling 120 fits\n"
     ]
    },
    {
     "name": "stderr",
     "output_type": "stream",
     "text": [
      "[Parallel(n_jobs=1)]: Using backend SequentialBackend with 1 concurrent workers.\n",
      "[Parallel(n_jobs=1)]: Done 120 out of 120 | elapsed:    8.9s finished\n"
     ]
    },
    {
     "name": "stdout",
     "output_type": "stream",
     "text": [
      "best score: 0.6121212121212121\n",
      "Fitting 10 folds for each of 12 candidates, totalling 120 fits\n"
     ]
    },
    {
     "name": "stderr",
     "output_type": "stream",
     "text": [
      "[Parallel(n_jobs=1)]: Using backend SequentialBackend with 1 concurrent workers.\n",
      "[Parallel(n_jobs=1)]: Done 120 out of 120 | elapsed:   19.9s finished\n"
     ]
    },
    {
     "name": "stdout",
     "output_type": "stream",
     "text": [
      "best score: 0.6121212121212121\n",
      "Split: 1\n",
      "Split: 2\n",
      "Split: 3\n",
      "Split: 4\n",
      "Split: 5\n",
      "Split: 6\n",
      "Split: 7\n",
      "Split: 8\n",
      "Split: 9\n",
      "Split: 10\n",
      "Training Testing Accuracy for n_games=2 team=1 : 54.42% (3.32%)\n",
      "(182, 386)\n",
      "(182, 1)\n",
      "X_train shape: (163, 685)\n",
      "X_test shape: (19, 685)\n",
      "Fitting 10 folds for each of 12 candidates, totalling 120 fits\n"
     ]
    },
    {
     "name": "stderr",
     "output_type": "stream",
     "text": [
      "[Parallel(n_jobs=1)]: Using backend SequentialBackend with 1 concurrent workers.\n",
      "[Parallel(n_jobs=1)]: Done 120 out of 120 | elapsed:   13.7s finished\n"
     ]
    },
    {
     "name": "stdout",
     "output_type": "stream",
     "text": [
      "best score: 0.6134969325153374\n",
      "Fitting 10 folds for each of 12 candidates, totalling 120 fits\n"
     ]
    },
    {
     "name": "stderr",
     "output_type": "stream",
     "text": [
      "[Parallel(n_jobs=1)]: Using backend SequentialBackend with 1 concurrent workers.\n",
      "[Parallel(n_jobs=1)]: Done 120 out of 120 | elapsed:    9.9s finished\n"
     ]
    },
    {
     "name": "stdout",
     "output_type": "stream",
     "text": [
      "best score: 0.6134969325153374\n",
      "Fitting 10 folds for each of 12 candidates, totalling 120 fits\n"
     ]
    },
    {
     "name": "stderr",
     "output_type": "stream",
     "text": [
      "[Parallel(n_jobs=1)]: Using backend SequentialBackend with 1 concurrent workers.\n",
      "[Parallel(n_jobs=1)]: Done 120 out of 120 | elapsed:    9.1s finished\n"
     ]
    },
    {
     "name": "stdout",
     "output_type": "stream",
     "text": [
      "best score: 0.6134969325153374\n",
      "Fitting 10 folds for each of 12 candidates, totalling 120 fits\n"
     ]
    },
    {
     "name": "stderr",
     "output_type": "stream",
     "text": [
      "[Parallel(n_jobs=1)]: Using backend SequentialBackend with 1 concurrent workers.\n",
      "[Parallel(n_jobs=1)]: Done 120 out of 120 | elapsed:    9.8s finished\n"
     ]
    },
    {
     "name": "stdout",
     "output_type": "stream",
     "text": [
      "best score: 0.6257668711656442\n",
      "Fitting 10 folds for each of 12 candidates, totalling 120 fits\n"
     ]
    },
    {
     "name": "stderr",
     "output_type": "stream",
     "text": [
      "[Parallel(n_jobs=1)]: Using backend SequentialBackend with 1 concurrent workers.\n",
      "[Parallel(n_jobs=1)]: Done 120 out of 120 | elapsed:   16.9s finished\n"
     ]
    },
    {
     "name": "stdout",
     "output_type": "stream",
     "text": [
      "best score: 0.6625766871165644\n",
      "Split: 1\n",
      "Split: 2\n",
      "Split: 3\n",
      "Split: 4\n",
      "Split: 5\n",
      "Split: 6\n",
      "Split: 7\n",
      "Split: 8\n",
      "Split: 9\n",
      "Split: 10\n",
      "Training Testing Accuracy for n_games=2 team=2 : 67.54% (5.40%)\n",
      "(180, 386)\n",
      "(180, 1)\n",
      "X_train shape: (162, 683)\n",
      "X_test shape: (18, 683)\n",
      "Fitting 10 folds for each of 12 candidates, totalling 120 fits\n"
     ]
    },
    {
     "name": "stderr",
     "output_type": "stream",
     "text": [
      "[Parallel(n_jobs=1)]: Using backend SequentialBackend with 1 concurrent workers.\n",
      "[Parallel(n_jobs=1)]: Done 120 out of 120 | elapsed:   11.5s finished\n"
     ]
    },
    {
     "name": "stdout",
     "output_type": "stream",
     "text": [
      "best score: 0.6851851851851852\n",
      "Fitting 10 folds for each of 12 candidates, totalling 120 fits\n"
     ]
    },
    {
     "name": "stderr",
     "output_type": "stream",
     "text": [
      "[Parallel(n_jobs=1)]: Using backend SequentialBackend with 1 concurrent workers.\n",
      "[Parallel(n_jobs=1)]: Done 120 out of 120 | elapsed:   11.0s finished\n"
     ]
    },
    {
     "name": "stdout",
     "output_type": "stream",
     "text": [
      "best score: 0.6851851851851852\n",
      "Fitting 10 folds for each of 12 candidates, totalling 120 fits\n"
     ]
    },
    {
     "name": "stderr",
     "output_type": "stream",
     "text": [
      "[Parallel(n_jobs=1)]: Using backend SequentialBackend with 1 concurrent workers.\n",
      "[Parallel(n_jobs=1)]: Done 120 out of 120 | elapsed:    8.1s finished\n"
     ]
    },
    {
     "name": "stdout",
     "output_type": "stream",
     "text": [
      "best score: 0.6851851851851852\n",
      "Fitting 10 folds for each of 12 candidates, totalling 120 fits\n"
     ]
    },
    {
     "name": "stderr",
     "output_type": "stream",
     "text": [
      "[Parallel(n_jobs=1)]: Using backend SequentialBackend with 1 concurrent workers.\n",
      "[Parallel(n_jobs=1)]: Done 120 out of 120 | elapsed:   10.0s finished\n"
     ]
    },
    {
     "name": "stdout",
     "output_type": "stream",
     "text": [
      "best score: 0.6851851851851852\n",
      "Fitting 10 folds for each of 12 candidates, totalling 120 fits\n"
     ]
    },
    {
     "name": "stderr",
     "output_type": "stream",
     "text": [
      "[Parallel(n_jobs=1)]: Using backend SequentialBackend with 1 concurrent workers.\n",
      "[Parallel(n_jobs=1)]: Done 120 out of 120 | elapsed:    9.4s finished\n"
     ]
    },
    {
     "name": "stdout",
     "output_type": "stream",
     "text": [
      "best score: 0.6851851851851852\n",
      "Split: 1\n",
      "Split: 2\n",
      "Split: 3\n",
      "Split: 4\n",
      "Split: 5\n",
      "Split: 6\n",
      "Split: 7\n",
      "Split: 8\n",
      "Split: 9\n",
      "Split: 10\n",
      "Training Testing Accuracy for n_games=2 team=3 : 68.33% (2.55%)\n",
      "(185, 386)\n",
      "(185, 1)\n",
      "X_train shape: (166, 687)\n",
      "X_test shape: (19, 687)\n",
      "Fitting 10 folds for each of 12 candidates, totalling 120 fits\n"
     ]
    },
    {
     "name": "stderr",
     "output_type": "stream",
     "text": [
      "[Parallel(n_jobs=1)]: Using backend SequentialBackend with 1 concurrent workers.\n",
      "[Parallel(n_jobs=1)]: Done 120 out of 120 | elapsed:   12.1s finished\n"
     ]
    },
    {
     "name": "stdout",
     "output_type": "stream",
     "text": [
      "best score: 0.6024096385542169\n",
      "Fitting 10 folds for each of 12 candidates, totalling 120 fits\n"
     ]
    },
    {
     "name": "stderr",
     "output_type": "stream",
     "text": [
      "[Parallel(n_jobs=1)]: Using backend SequentialBackend with 1 concurrent workers.\n",
      "[Parallel(n_jobs=1)]: Done 120 out of 120 | elapsed:   17.3s finished\n"
     ]
    },
    {
     "name": "stdout",
     "output_type": "stream",
     "text": [
      "best score: 0.6024096385542169\n",
      "Fitting 10 folds for each of 12 candidates, totalling 120 fits\n"
     ]
    },
    {
     "name": "stderr",
     "output_type": "stream",
     "text": [
      "[Parallel(n_jobs=1)]: Using backend SequentialBackend with 1 concurrent workers.\n",
      "[Parallel(n_jobs=1)]: Done 120 out of 120 | elapsed:   12.2s finished\n"
     ]
    },
    {
     "name": "stdout",
     "output_type": "stream",
     "text": [
      "best score: 0.6024096385542169\n",
      "Fitting 10 folds for each of 12 candidates, totalling 120 fits\n"
     ]
    },
    {
     "name": "stderr",
     "output_type": "stream",
     "text": [
      "[Parallel(n_jobs=1)]: Using backend SequentialBackend with 1 concurrent workers.\n",
      "[Parallel(n_jobs=1)]: Done 120 out of 120 | elapsed:   11.3s finished\n"
     ]
    },
    {
     "name": "stdout",
     "output_type": "stream",
     "text": [
      "best score: 0.6024096385542169\n",
      "Fitting 10 folds for each of 12 candidates, totalling 120 fits\n"
     ]
    },
    {
     "name": "stderr",
     "output_type": "stream",
     "text": [
      "[Parallel(n_jobs=1)]: Using backend SequentialBackend with 1 concurrent workers.\n",
      "[Parallel(n_jobs=1)]: Done 120 out of 120 | elapsed:   15.1s finished\n"
     ]
    },
    {
     "name": "stdout",
     "output_type": "stream",
     "text": [
      "best score: 0.6024096385542169\n",
      "Split: 1\n",
      "Split: 2\n",
      "Split: 3\n",
      "Split: 4\n",
      "Split: 5\n",
      "Split: 6\n",
      "Split: 7\n",
      "Split: 8\n",
      "Split: 9\n",
      "Split: 10\n",
      "Training Testing Accuracy for n_games=2 team=4 : 56.73% (7.86%)\n",
      "(182, 386)\n",
      "(182, 1)\n",
      "X_train shape: (163, 683)\n",
      "X_test shape: (19, 683)\n",
      "Fitting 10 folds for each of 12 candidates, totalling 120 fits\n"
     ]
    },
    {
     "name": "stderr",
     "output_type": "stream",
     "text": [
      "[Parallel(n_jobs=1)]: Using backend SequentialBackend with 1 concurrent workers.\n",
      "[Parallel(n_jobs=1)]: Done 120 out of 120 | elapsed:   11.9s finished\n"
     ]
    },
    {
     "name": "stdout",
     "output_type": "stream",
     "text": [
      "best score: 0.5521472392638037\n",
      "Fitting 10 folds for each of 12 candidates, totalling 120 fits\n"
     ]
    },
    {
     "name": "stderr",
     "output_type": "stream",
     "text": [
      "[Parallel(n_jobs=1)]: Using backend SequentialBackend with 1 concurrent workers.\n",
      "[Parallel(n_jobs=1)]: Done 120 out of 120 | elapsed:   10.6s finished\n"
     ]
    },
    {
     "name": "stdout",
     "output_type": "stream",
     "text": [
      "best score: 0.5521472392638037\n",
      "Fitting 10 folds for each of 12 candidates, totalling 120 fits\n"
     ]
    },
    {
     "name": "stderr",
     "output_type": "stream",
     "text": [
      "[Parallel(n_jobs=1)]: Using backend SequentialBackend with 1 concurrent workers.\n",
      "[Parallel(n_jobs=1)]: Done 120 out of 120 | elapsed:   25.9s finished\n"
     ]
    },
    {
     "name": "stdout",
     "output_type": "stream",
     "text": [
      "best score: 0.5521472392638037\n",
      "Fitting 10 folds for each of 12 candidates, totalling 120 fits\n"
     ]
    },
    {
     "name": "stderr",
     "output_type": "stream",
     "text": [
      "[Parallel(n_jobs=1)]: Using backend SequentialBackend with 1 concurrent workers.\n",
      "[Parallel(n_jobs=1)]: Done 120 out of 120 | elapsed:    8.0s finished\n"
     ]
    },
    {
     "name": "stdout",
     "output_type": "stream",
     "text": [
      "best score: 0.5521472392638037\n",
      "Fitting 10 folds for each of 12 candidates, totalling 120 fits\n"
     ]
    },
    {
     "name": "stderr",
     "output_type": "stream",
     "text": [
      "[Parallel(n_jobs=1)]: Using backend SequentialBackend with 1 concurrent workers.\n",
      "[Parallel(n_jobs=1)]: Done 120 out of 120 | elapsed:    7.6s finished\n"
     ]
    },
    {
     "name": "stdout",
     "output_type": "stream",
     "text": [
      "best score: 0.5521472392638037\n",
      "Split: 1\n",
      "Split: 2\n",
      "Split: 3\n",
      "Split: 4\n",
      "Split: 5\n",
      "Split: 6\n",
      "Split: 7\n",
      "Split: 8\n",
      "Split: 9\n",
      "Split: 10\n",
      "Training Testing Accuracy for n_games=2 team=5 : 55.50% (1.18%)\n",
      "(185, 386)\n",
      "(185, 1)\n",
      "X_train shape: (166, 693)\n",
      "X_test shape: (19, 693)\n",
      "Fitting 10 folds for each of 12 candidates, totalling 120 fits\n"
     ]
    },
    {
     "name": "stderr",
     "output_type": "stream",
     "text": [
      "[Parallel(n_jobs=1)]: Using backend SequentialBackend with 1 concurrent workers.\n",
      "[Parallel(n_jobs=1)]: Done 120 out of 120 | elapsed:   12.3s finished\n"
     ]
    },
    {
     "name": "stdout",
     "output_type": "stream",
     "text": [
      "best score: 0.6445783132530121\n",
      "Fitting 10 folds for each of 12 candidates, totalling 120 fits\n"
     ]
    },
    {
     "name": "stderr",
     "output_type": "stream",
     "text": [
      "[Parallel(n_jobs=1)]: Using backend SequentialBackend with 1 concurrent workers.\n",
      "[Parallel(n_jobs=1)]: Done 120 out of 120 | elapsed:    9.3s finished\n"
     ]
    },
    {
     "name": "stdout",
     "output_type": "stream",
     "text": [
      "best score: 0.6445783132530121\n",
      "Fitting 10 folds for each of 12 candidates, totalling 120 fits\n"
     ]
    },
    {
     "name": "stderr",
     "output_type": "stream",
     "text": [
      "[Parallel(n_jobs=1)]: Using backend SequentialBackend with 1 concurrent workers.\n",
      "[Parallel(n_jobs=1)]: Done 120 out of 120 | elapsed:    9.8s finished\n"
     ]
    },
    {
     "name": "stdout",
     "output_type": "stream",
     "text": [
      "best score: 0.6445783132530121\n",
      "Fitting 10 folds for each of 12 candidates, totalling 120 fits\n"
     ]
    },
    {
     "name": "stderr",
     "output_type": "stream",
     "text": [
      "[Parallel(n_jobs=1)]: Using backend SequentialBackend with 1 concurrent workers.\n",
      "[Parallel(n_jobs=1)]: Done 120 out of 120 | elapsed:   13.0s finished\n"
     ]
    },
    {
     "name": "stdout",
     "output_type": "stream",
     "text": [
      "best score: 0.6566265060240963\n",
      "Fitting 10 folds for each of 12 candidates, totalling 120 fits\n"
     ]
    },
    {
     "name": "stderr",
     "output_type": "stream",
     "text": [
      "[Parallel(n_jobs=1)]: Using backend SequentialBackend with 1 concurrent workers.\n",
      "[Parallel(n_jobs=1)]: Done 120 out of 120 | elapsed:   15.5s finished\n"
     ]
    },
    {
     "name": "stdout",
     "output_type": "stream",
     "text": [
      "best score: 0.6566265060240963\n",
      "Split: 1\n",
      "Split: 2\n",
      "Split: 3\n",
      "Split: 4\n",
      "Split: 5\n",
      "Split: 6\n",
      "Split: 7\n",
      "Split: 8\n",
      "Split: 9\n",
      "Split: 10\n",
      "Training Testing Accuracy for n_games=2 team=6 : 64.33% (11.34%)\n",
      "(194, 386)\n",
      "(194, 1)\n",
      "X_train shape: (174, 688)\n",
      "X_test shape: (20, 688)\n",
      "Fitting 10 folds for each of 12 candidates, totalling 120 fits\n"
     ]
    },
    {
     "name": "stderr",
     "output_type": "stream",
     "text": [
      "[Parallel(n_jobs=1)]: Using backend SequentialBackend with 1 concurrent workers.\n",
      "[Parallel(n_jobs=1)]: Done 120 out of 120 | elapsed:   12.2s finished\n"
     ]
    },
    {
     "name": "stdout",
     "output_type": "stream",
     "text": [
      "best score: 0.6724137931034483\n",
      "Fitting 10 folds for each of 12 candidates, totalling 120 fits\n"
     ]
    },
    {
     "name": "stderr",
     "output_type": "stream",
     "text": [
      "[Parallel(n_jobs=1)]: Using backend SequentialBackend with 1 concurrent workers.\n",
      "[Parallel(n_jobs=1)]: Done 120 out of 120 | elapsed:    7.9s finished\n"
     ]
    },
    {
     "name": "stdout",
     "output_type": "stream",
     "text": [
      "best score: 0.6724137931034483\n",
      "Fitting 10 folds for each of 12 candidates, totalling 120 fits\n"
     ]
    },
    {
     "name": "stderr",
     "output_type": "stream",
     "text": [
      "[Parallel(n_jobs=1)]: Using backend SequentialBackend with 1 concurrent workers.\n",
      "[Parallel(n_jobs=1)]: Done 120 out of 120 | elapsed:    8.5s finished\n"
     ]
    },
    {
     "name": "stdout",
     "output_type": "stream",
     "text": [
      "best score: 0.6724137931034483\n",
      "Fitting 10 folds for each of 12 candidates, totalling 120 fits\n"
     ]
    },
    {
     "name": "stderr",
     "output_type": "stream",
     "text": [
      "[Parallel(n_jobs=1)]: Using backend SequentialBackend with 1 concurrent workers.\n",
      "[Parallel(n_jobs=1)]: Done 120 out of 120 | elapsed:    9.8s finished\n"
     ]
    },
    {
     "name": "stdout",
     "output_type": "stream",
     "text": [
      "best score: 0.6724137931034483\n",
      "Fitting 10 folds for each of 12 candidates, totalling 120 fits\n"
     ]
    },
    {
     "name": "stderr",
     "output_type": "stream",
     "text": [
      "[Parallel(n_jobs=1)]: Using backend SequentialBackend with 1 concurrent workers.\n",
      "[Parallel(n_jobs=1)]: Done 120 out of 120 | elapsed:    8.3s finished\n"
     ]
    },
    {
     "name": "stdout",
     "output_type": "stream",
     "text": [
      "best score: 0.6724137931034483\n",
      "Split: 1\n",
      "Split: 2\n",
      "Split: 3\n",
      "Split: 4\n",
      "Split: 5\n",
      "Split: 6\n",
      "Split: 7\n",
      "Split: 8\n",
      "Split: 9\n",
      "Split: 10\n",
      "Training Testing Accuracy for n_games=2 team=7 : 66.53% (1.97%)\n",
      "(178, 386)\n",
      "(178, 1)\n",
      "X_train shape: (160, 685)\n",
      "X_test shape: (18, 685)\n",
      "Fitting 10 folds for each of 12 candidates, totalling 120 fits\n"
     ]
    },
    {
     "name": "stderr",
     "output_type": "stream",
     "text": [
      "[Parallel(n_jobs=1)]: Using backend SequentialBackend with 1 concurrent workers.\n",
      "[Parallel(n_jobs=1)]: Done 120 out of 120 | elapsed:   11.4s finished\n"
     ]
    },
    {
     "name": "stdout",
     "output_type": "stream",
     "text": [
      "best score: 0.74375\n",
      "Fitting 10 folds for each of 12 candidates, totalling 120 fits\n"
     ]
    },
    {
     "name": "stderr",
     "output_type": "stream",
     "text": [
      "[Parallel(n_jobs=1)]: Using backend SequentialBackend with 1 concurrent workers.\n",
      "[Parallel(n_jobs=1)]: Done 120 out of 120 | elapsed:   21.0s finished\n"
     ]
    },
    {
     "name": "stdout",
     "output_type": "stream",
     "text": [
      "best score: 0.74375\n",
      "Fitting 10 folds for each of 12 candidates, totalling 120 fits\n"
     ]
    },
    {
     "name": "stderr",
     "output_type": "stream",
     "text": [
      "[Parallel(n_jobs=1)]: Using backend SequentialBackend with 1 concurrent workers.\n",
      "[Parallel(n_jobs=1)]: Done 120 out of 120 | elapsed:    9.5s finished\n"
     ]
    },
    {
     "name": "stdout",
     "output_type": "stream",
     "text": [
      "best score: 0.74375\n",
      "Fitting 10 folds for each of 12 candidates, totalling 120 fits\n"
     ]
    },
    {
     "name": "stderr",
     "output_type": "stream",
     "text": [
      "[Parallel(n_jobs=1)]: Using backend SequentialBackend with 1 concurrent workers.\n",
      "[Parallel(n_jobs=1)]: Done 120 out of 120 | elapsed:   10.1s finished\n"
     ]
    },
    {
     "name": "stdout",
     "output_type": "stream",
     "text": [
      "best score: 0.74375\n",
      "Fitting 10 folds for each of 12 candidates, totalling 120 fits\n"
     ]
    },
    {
     "name": "stderr",
     "output_type": "stream",
     "text": [
      "[Parallel(n_jobs=1)]: Using backend SequentialBackend with 1 concurrent workers.\n",
      "[Parallel(n_jobs=1)]: Done 120 out of 120 | elapsed:    7.3s finished\n"
     ]
    },
    {
     "name": "stdout",
     "output_type": "stream",
     "text": [
      "best score: 0.74375\n",
      "Split: 1\n",
      "Split: 2\n",
      "Split: 3\n",
      "Split: 4\n",
      "Split: 5\n",
      "Split: 6\n",
      "Split: 7\n",
      "Split: 8\n",
      "Split: 9\n",
      "Split: 10\n",
      "Training Testing Accuracy for n_games=2 team=8 : 71.86% (2.98%)\n",
      "(191, 386)\n",
      "(191, 1)\n",
      "X_train shape: (171, 698)\n",
      "X_test shape: (20, 698)\n",
      "Fitting 10 folds for each of 12 candidates, totalling 120 fits\n"
     ]
    },
    {
     "name": "stderr",
     "output_type": "stream",
     "text": [
      "[Parallel(n_jobs=1)]: Using backend SequentialBackend with 1 concurrent workers.\n",
      "[Parallel(n_jobs=1)]: Done 120 out of 120 | elapsed:   12.0s finished\n"
     ]
    },
    {
     "name": "stdout",
     "output_type": "stream",
     "text": [
      "best score: 0.5906432748538012\n",
      "Fitting 10 folds for each of 12 candidates, totalling 120 fits\n"
     ]
    },
    {
     "name": "stderr",
     "output_type": "stream",
     "text": [
      "[Parallel(n_jobs=1)]: Using backend SequentialBackend with 1 concurrent workers.\n",
      "[Parallel(n_jobs=1)]: Done 120 out of 120 | elapsed:   10.6s finished\n"
     ]
    },
    {
     "name": "stdout",
     "output_type": "stream",
     "text": [
      "best score: 0.5906432748538012\n",
      "Fitting 10 folds for each of 12 candidates, totalling 120 fits\n"
     ]
    },
    {
     "name": "stderr",
     "output_type": "stream",
     "text": [
      "[Parallel(n_jobs=1)]: Using backend SequentialBackend with 1 concurrent workers.\n",
      "[Parallel(n_jobs=1)]: Done 120 out of 120 | elapsed:   15.1s finished\n"
     ]
    },
    {
     "name": "stdout",
     "output_type": "stream",
     "text": [
      "best score: 0.631578947368421\n",
      "Fitting 10 folds for each of 12 candidates, totalling 120 fits\n"
     ]
    },
    {
     "name": "stderr",
     "output_type": "stream",
     "text": [
      "[Parallel(n_jobs=1)]: Using backend SequentialBackend with 1 concurrent workers.\n",
      "[Parallel(n_jobs=1)]: Done 120 out of 120 | elapsed:   21.1s finished\n"
     ]
    },
    {
     "name": "stdout",
     "output_type": "stream",
     "text": [
      "best score: 0.6374269005847953\n",
      "Fitting 10 folds for each of 12 candidates, totalling 120 fits\n"
     ]
    },
    {
     "name": "stderr",
     "output_type": "stream",
     "text": [
      "[Parallel(n_jobs=1)]: Using backend SequentialBackend with 1 concurrent workers.\n",
      "[Parallel(n_jobs=1)]: Done 120 out of 120 | elapsed:   18.3s finished\n"
     ]
    },
    {
     "name": "stdout",
     "output_type": "stream",
     "text": [
      "best score: 0.6374269005847953\n",
      "Split: 1\n",
      "Split: 2\n",
      "Split: 3\n",
      "Split: 4\n",
      "Split: 5\n",
      "Split: 6\n",
      "Split: 7\n",
      "Split: 8\n",
      "Split: 9\n",
      "Split: 10\n",
      "Training Testing Accuracy for n_games=2 team=9 : 59.24% (8.86%)\n",
      "(192, 386)\n",
      "(192, 1)\n",
      "X_train shape: (172, 689)\n",
      "X_test shape: (20, 689)\n",
      "Fitting 10 folds for each of 12 candidates, totalling 120 fits\n"
     ]
    },
    {
     "name": "stderr",
     "output_type": "stream",
     "text": [
      "[Parallel(n_jobs=1)]: Using backend SequentialBackend with 1 concurrent workers.\n",
      "[Parallel(n_jobs=1)]: Done 120 out of 120 | elapsed:   11.8s finished\n"
     ]
    },
    {
     "name": "stdout",
     "output_type": "stream",
     "text": [
      "best score: 0.6918604651162791\n",
      "Fitting 10 folds for each of 12 candidates, totalling 120 fits\n"
     ]
    },
    {
     "name": "stderr",
     "output_type": "stream",
     "text": [
      "[Parallel(n_jobs=1)]: Using backend SequentialBackend with 1 concurrent workers.\n",
      "[Parallel(n_jobs=1)]: Done 120 out of 120 | elapsed:   30.4s finished\n"
     ]
    },
    {
     "name": "stdout",
     "output_type": "stream",
     "text": [
      "best score: 0.6918604651162791\n",
      "Fitting 10 folds for each of 12 candidates, totalling 120 fits\n"
     ]
    },
    {
     "name": "stderr",
     "output_type": "stream",
     "text": [
      "[Parallel(n_jobs=1)]: Using backend SequentialBackend with 1 concurrent workers.\n",
      "[Parallel(n_jobs=1)]: Done 120 out of 120 | elapsed:   10.2s finished\n"
     ]
    },
    {
     "name": "stdout",
     "output_type": "stream",
     "text": [
      "best score: 0.6918604651162791\n",
      "Fitting 10 folds for each of 12 candidates, totalling 120 fits\n"
     ]
    },
    {
     "name": "stderr",
     "output_type": "stream",
     "text": [
      "[Parallel(n_jobs=1)]: Using backend SequentialBackend with 1 concurrent workers.\n",
      "[Parallel(n_jobs=1)]: Done 120 out of 120 | elapsed:   11.0s finished\n"
     ]
    },
    {
     "name": "stdout",
     "output_type": "stream",
     "text": [
      "best score: 0.6918604651162791\n",
      "Fitting 10 folds for each of 12 candidates, totalling 120 fits\n"
     ]
    },
    {
     "name": "stderr",
     "output_type": "stream",
     "text": [
      "[Parallel(n_jobs=1)]: Using backend SequentialBackend with 1 concurrent workers.\n",
      "[Parallel(n_jobs=1)]: Done 120 out of 120 | elapsed:   12.8s finished\n"
     ]
    },
    {
     "name": "stdout",
     "output_type": "stream",
     "text": [
      "best score: 0.7267441860465116\n",
      "Split: 1\n",
      "Split: 2\n",
      "Split: 3\n",
      "Split: 4\n",
      "Split: 5\n",
      "Split: 6\n",
      "Split: 7\n",
      "Split: 8\n",
      "Split: 9\n",
      "Split: 10\n",
      "Training Testing Accuracy for n_games=2 team=10 : 66.63% (10.29%)\n",
      "(184, 386)\n",
      "(184, 1)\n",
      "X_train shape: (165, 691)\n",
      "X_test shape: (19, 691)\n",
      "Fitting 10 folds for each of 12 candidates, totalling 120 fits\n"
     ]
    },
    {
     "name": "stderr",
     "output_type": "stream",
     "text": [
      "[Parallel(n_jobs=1)]: Using backend SequentialBackend with 1 concurrent workers.\n",
      "[Parallel(n_jobs=1)]: Done 120 out of 120 | elapsed:   12.1s finished\n"
     ]
    },
    {
     "name": "stdout",
     "output_type": "stream",
     "text": [
      "best score: 0.5636363636363636\n",
      "Fitting 10 folds for each of 12 candidates, totalling 120 fits\n"
     ]
    },
    {
     "name": "stderr",
     "output_type": "stream",
     "text": [
      "[Parallel(n_jobs=1)]: Using backend SequentialBackend with 1 concurrent workers.\n",
      "[Parallel(n_jobs=1)]: Done 120 out of 120 | elapsed:   11.3s finished\n"
     ]
    },
    {
     "name": "stdout",
     "output_type": "stream",
     "text": [
      "best score: 0.5636363636363636\n",
      "Fitting 10 folds for each of 12 candidates, totalling 120 fits\n"
     ]
    },
    {
     "name": "stderr",
     "output_type": "stream",
     "text": [
      "[Parallel(n_jobs=1)]: Using backend SequentialBackend with 1 concurrent workers.\n",
      "[Parallel(n_jobs=1)]: Done 120 out of 120 | elapsed:    9.5s finished\n"
     ]
    },
    {
     "name": "stdout",
     "output_type": "stream",
     "text": [
      "best score: 0.5636363636363636\n",
      "Fitting 10 folds for each of 12 candidates, totalling 120 fits\n"
     ]
    },
    {
     "name": "stderr",
     "output_type": "stream",
     "text": [
      "[Parallel(n_jobs=1)]: Using backend SequentialBackend with 1 concurrent workers.\n",
      "[Parallel(n_jobs=1)]: Done 120 out of 120 | elapsed:    9.6s finished\n"
     ]
    },
    {
     "name": "stdout",
     "output_type": "stream",
     "text": [
      "best score: 0.5636363636363636\n",
      "Fitting 10 folds for each of 12 candidates, totalling 120 fits\n"
     ]
    },
    {
     "name": "stderr",
     "output_type": "stream",
     "text": [
      "[Parallel(n_jobs=1)]: Using backend SequentialBackend with 1 concurrent workers.\n",
      "[Parallel(n_jobs=1)]: Done 120 out of 120 | elapsed:   10.2s finished\n"
     ]
    },
    {
     "name": "stdout",
     "output_type": "stream",
     "text": [
      "best score: 0.5636363636363636\n",
      "Split: 1\n",
      "Split: 2\n",
      "Split: 3\n",
      "Split: 4\n",
      "Split: 5\n",
      "Split: 6\n",
      "Split: 7\n",
      "Split: 8\n",
      "Split: 9\n",
      "Split: 10\n",
      "Training Testing Accuracy for n_games=2 team=11 : 55.96% (1.53%)\n",
      "(185, 386)\n",
      "(185, 1)\n",
      "X_train shape: (166, 686)\n",
      "X_test shape: (19, 686)\n",
      "Fitting 10 folds for each of 12 candidates, totalling 120 fits\n"
     ]
    },
    {
     "name": "stderr",
     "output_type": "stream",
     "text": [
      "[Parallel(n_jobs=1)]: Using backend SequentialBackend with 1 concurrent workers.\n",
      "[Parallel(n_jobs=1)]: Done 120 out of 120 | elapsed:   12.2s finished\n"
     ]
    },
    {
     "name": "stdout",
     "output_type": "stream",
     "text": [
      "best score: 0.5602409638554217\n",
      "Fitting 10 folds for each of 12 candidates, totalling 120 fits\n"
     ]
    },
    {
     "name": "stderr",
     "output_type": "stream",
     "text": [
      "[Parallel(n_jobs=1)]: Using backend SequentialBackend with 1 concurrent workers.\n",
      "[Parallel(n_jobs=1)]: Done 120 out of 120 | elapsed:    8.9s finished\n"
     ]
    },
    {
     "name": "stdout",
     "output_type": "stream",
     "text": [
      "best score: 0.5602409638554217\n",
      "Fitting 10 folds for each of 12 candidates, totalling 120 fits\n"
     ]
    },
    {
     "name": "stderr",
     "output_type": "stream",
     "text": [
      "[Parallel(n_jobs=1)]: Using backend SequentialBackend with 1 concurrent workers.\n",
      "[Parallel(n_jobs=1)]: Done 120 out of 120 | elapsed:    9.4s finished\n"
     ]
    },
    {
     "name": "stdout",
     "output_type": "stream",
     "text": [
      "best score: 0.5602409638554217\n",
      "Fitting 10 folds for each of 12 candidates, totalling 120 fits\n"
     ]
    },
    {
     "name": "stderr",
     "output_type": "stream",
     "text": [
      "[Parallel(n_jobs=1)]: Using backend SequentialBackend with 1 concurrent workers.\n",
      "[Parallel(n_jobs=1)]: Done 120 out of 120 | elapsed:    9.1s finished\n"
     ]
    },
    {
     "name": "stdout",
     "output_type": "stream",
     "text": [
      "best score: 0.5662650602409639\n",
      "Fitting 10 folds for each of 12 candidates, totalling 120 fits\n"
     ]
    },
    {
     "name": "stderr",
     "output_type": "stream",
     "text": [
      "[Parallel(n_jobs=1)]: Using backend SequentialBackend with 1 concurrent workers.\n",
      "[Parallel(n_jobs=1)]: Done 120 out of 120 | elapsed:    8.5s finished\n"
     ]
    },
    {
     "name": "stdout",
     "output_type": "stream",
     "text": [
      "best score: 0.572289156626506\n",
      "Split: 1\n",
      "Split: 2\n",
      "Split: 3\n",
      "Split: 4\n",
      "Split: 5\n",
      "Split: 6\n",
      "Split: 7\n",
      "Split: 8\n",
      "Split: 9\n",
      "Split: 10\n",
      "Training Testing Accuracy for n_games=2 team=12 : 51.96% (16.20%)\n",
      "(186, 386)\n",
      "(186, 1)\n",
      "X_train shape: (167, 695)\n",
      "X_test shape: (19, 695)\n",
      "Fitting 10 folds for each of 12 candidates, totalling 120 fits\n"
     ]
    },
    {
     "name": "stderr",
     "output_type": "stream",
     "text": [
      "[Parallel(n_jobs=1)]: Using backend SequentialBackend with 1 concurrent workers.\n",
      "[Parallel(n_jobs=1)]: Done 120 out of 120 | elapsed:   12.1s finished\n"
     ]
    },
    {
     "name": "stdout",
     "output_type": "stream",
     "text": [
      "best score: 0.5988023952095808\n",
      "Fitting 10 folds for each of 12 candidates, totalling 120 fits\n"
     ]
    },
    {
     "name": "stderr",
     "output_type": "stream",
     "text": [
      "[Parallel(n_jobs=1)]: Using backend SequentialBackend with 1 concurrent workers.\n",
      "[Parallel(n_jobs=1)]: Done 120 out of 120 | elapsed:   16.7s finished\n"
     ]
    },
    {
     "name": "stdout",
     "output_type": "stream",
     "text": [
      "best score: 0.6167664670658682\n",
      "Fitting 10 folds for each of 12 candidates, totalling 120 fits\n"
     ]
    },
    {
     "name": "stderr",
     "output_type": "stream",
     "text": [
      "[Parallel(n_jobs=1)]: Using backend SequentialBackend with 1 concurrent workers.\n",
      "[Parallel(n_jobs=1)]: Done 120 out of 120 | elapsed:   12.5s finished\n"
     ]
    },
    {
     "name": "stdout",
     "output_type": "stream",
     "text": [
      "best score: 0.6167664670658682\n",
      "Fitting 10 folds for each of 12 candidates, totalling 120 fits\n"
     ]
    },
    {
     "name": "stderr",
     "output_type": "stream",
     "text": [
      "[Parallel(n_jobs=1)]: Using backend SequentialBackend with 1 concurrent workers.\n",
      "[Parallel(n_jobs=1)]: Done 120 out of 120 | elapsed:   12.3s finished\n"
     ]
    },
    {
     "name": "stdout",
     "output_type": "stream",
     "text": [
      "best score: 0.6167664670658682\n",
      "Fitting 10 folds for each of 12 candidates, totalling 120 fits\n"
     ]
    },
    {
     "name": "stderr",
     "output_type": "stream",
     "text": [
      "[Parallel(n_jobs=1)]: Using backend SequentialBackend with 1 concurrent workers.\n",
      "[Parallel(n_jobs=1)]: Done 120 out of 120 | elapsed:   13.3s finished\n"
     ]
    },
    {
     "name": "stdout",
     "output_type": "stream",
     "text": [
      "best score: 0.6227544910179641\n",
      "Split: 1\n",
      "Split: 2\n",
      "Split: 3\n",
      "Split: 4\n",
      "Split: 5\n",
      "Split: 6\n",
      "Split: 7\n",
      "Split: 8\n",
      "Split: 9\n",
      "Split: 10\n",
      "Training Testing Accuracy for n_games=2 team=13 : 59.15% (7.52%)\n",
      "(189, 386)\n",
      "(189, 1)\n",
      "X_train shape: (170, 689)\n",
      "X_test shape: (19, 689)\n",
      "Fitting 10 folds for each of 12 candidates, totalling 120 fits\n"
     ]
    },
    {
     "name": "stderr",
     "output_type": "stream",
     "text": [
      "[Parallel(n_jobs=1)]: Using backend SequentialBackend with 1 concurrent workers.\n",
      "[Parallel(n_jobs=1)]: Done 120 out of 120 | elapsed:   12.4s finished\n"
     ]
    },
    {
     "name": "stdout",
     "output_type": "stream",
     "text": [
      "best score: 0.6235294117647059\n",
      "Fitting 10 folds for each of 12 candidates, totalling 120 fits\n"
     ]
    },
    {
     "name": "stderr",
     "output_type": "stream",
     "text": [
      "[Parallel(n_jobs=1)]: Using backend SequentialBackend with 1 concurrent workers.\n",
      "[Parallel(n_jobs=1)]: Done 120 out of 120 | elapsed:    9.2s finished\n"
     ]
    },
    {
     "name": "stdout",
     "output_type": "stream",
     "text": [
      "best score: 0.6235294117647059\n",
      "Fitting 10 folds for each of 12 candidates, totalling 120 fits\n"
     ]
    },
    {
     "name": "stderr",
     "output_type": "stream",
     "text": [
      "[Parallel(n_jobs=1)]: Using backend SequentialBackend with 1 concurrent workers.\n",
      "[Parallel(n_jobs=1)]: Done 120 out of 120 | elapsed:   27.3s finished\n"
     ]
    },
    {
     "name": "stdout",
     "output_type": "stream",
     "text": [
      "best score: 0.6470588235294118\n",
      "Fitting 10 folds for each of 12 candidates, totalling 120 fits\n"
     ]
    },
    {
     "name": "stderr",
     "output_type": "stream",
     "text": [
      "[Parallel(n_jobs=1)]: Using backend SequentialBackend with 1 concurrent workers.\n",
      "[Parallel(n_jobs=1)]: Done 120 out of 120 | elapsed:   13.6s finished\n"
     ]
    },
    {
     "name": "stdout",
     "output_type": "stream",
     "text": [
      "best score: 0.6470588235294118\n",
      "Fitting 10 folds for each of 12 candidates, totalling 120 fits\n"
     ]
    },
    {
     "name": "stderr",
     "output_type": "stream",
     "text": [
      "[Parallel(n_jobs=1)]: Using backend SequentialBackend with 1 concurrent workers.\n",
      "[Parallel(n_jobs=1)]: Done 120 out of 120 | elapsed:    7.8s finished\n"
     ]
    },
    {
     "name": "stdout",
     "output_type": "stream",
     "text": [
      "best score: 0.6470588235294118\n",
      "Split: 1\n",
      "Split: 2\n",
      "Split: 3\n",
      "Split: 4\n",
      "Split: 5\n",
      "Split: 6\n",
      "Split: 7\n",
      "Split: 8\n",
      "Split: 9\n",
      "Split: 10\n",
      "Training Testing Accuracy for n_games=2 team=14 : 65.58% (6.87%)\n",
      "(178, 386)\n",
      "(178, 1)\n",
      "X_train shape: (160, 689)\n",
      "X_test shape: (18, 689)\n",
      "Fitting 10 folds for each of 12 candidates, totalling 120 fits\n"
     ]
    },
    {
     "name": "stderr",
     "output_type": "stream",
     "text": [
      "[Parallel(n_jobs=1)]: Using backend SequentialBackend with 1 concurrent workers.\n",
      "[Parallel(n_jobs=1)]: Done 120 out of 120 | elapsed:   11.6s finished\n"
     ]
    },
    {
     "name": "stdout",
     "output_type": "stream",
     "text": [
      "best score: 0.63125\n",
      "Fitting 10 folds for each of 12 candidates, totalling 120 fits\n"
     ]
    },
    {
     "name": "stderr",
     "output_type": "stream",
     "text": [
      "[Parallel(n_jobs=1)]: Using backend SequentialBackend with 1 concurrent workers.\n",
      "[Parallel(n_jobs=1)]: Done 120 out of 120 | elapsed:   12.6s finished\n"
     ]
    },
    {
     "name": "stdout",
     "output_type": "stream",
     "text": [
      "best score: 0.63125\n",
      "Fitting 10 folds for each of 12 candidates, totalling 120 fits\n"
     ]
    },
    {
     "name": "stderr",
     "output_type": "stream",
     "text": [
      "[Parallel(n_jobs=1)]: Using backend SequentialBackend with 1 concurrent workers.\n",
      "[Parallel(n_jobs=1)]: Done 120 out of 120 | elapsed:    9.9s finished\n"
     ]
    },
    {
     "name": "stdout",
     "output_type": "stream",
     "text": [
      "best score: 0.63125\n",
      "Fitting 10 folds for each of 12 candidates, totalling 120 fits\n"
     ]
    },
    {
     "name": "stderr",
     "output_type": "stream",
     "text": [
      "[Parallel(n_jobs=1)]: Using backend SequentialBackend with 1 concurrent workers.\n",
      "[Parallel(n_jobs=1)]: Done 120 out of 120 | elapsed:   11.0s finished\n"
     ]
    },
    {
     "name": "stdout",
     "output_type": "stream",
     "text": [
      "best score: 0.6375\n",
      "Fitting 10 folds for each of 12 candidates, totalling 120 fits\n"
     ]
    },
    {
     "name": "stderr",
     "output_type": "stream",
     "text": [
      "[Parallel(n_jobs=1)]: Using backend SequentialBackend with 1 concurrent workers.\n",
      "[Parallel(n_jobs=1)]: Done 120 out of 120 | elapsed:   21.8s finished\n"
     ]
    },
    {
     "name": "stdout",
     "output_type": "stream",
     "text": [
      "best score: 0.6375\n",
      "Split: 1\n",
      "Split: 2\n",
      "Split: 3\n",
      "Split: 4\n",
      "Split: 5\n",
      "Split: 6\n",
      "Split: 7\n",
      "Split: 8\n",
      "Split: 9\n",
      "Split: 10\n",
      "Training Testing Accuracy for n_games=2 team=15 : 64.64% (5.90%)\n",
      "(194, 386)\n",
      "(194, 1)\n",
      "X_train shape: (174, 696)\n",
      "X_test shape: (20, 696)\n",
      "Fitting 10 folds for each of 12 candidates, totalling 120 fits\n"
     ]
    },
    {
     "name": "stderr",
     "output_type": "stream",
     "text": [
      "[Parallel(n_jobs=1)]: Using backend SequentialBackend with 1 concurrent workers.\n",
      "[Parallel(n_jobs=1)]: Done 120 out of 120 | elapsed:   12.1s finished\n"
     ]
    },
    {
     "name": "stdout",
     "output_type": "stream",
     "text": [
      "best score: 0.6379310344827587\n",
      "Fitting 10 folds for each of 12 candidates, totalling 120 fits\n"
     ]
    },
    {
     "name": "stderr",
     "output_type": "stream",
     "text": [
      "[Parallel(n_jobs=1)]: Using backend SequentialBackend with 1 concurrent workers.\n",
      "[Parallel(n_jobs=1)]: Done 120 out of 120 | elapsed:   13.0s finished\n"
     ]
    },
    {
     "name": "stdout",
     "output_type": "stream",
     "text": [
      "best score: 0.6379310344827587\n",
      "Fitting 10 folds for each of 12 candidates, totalling 120 fits\n"
     ]
    },
    {
     "name": "stderr",
     "output_type": "stream",
     "text": [
      "[Parallel(n_jobs=1)]: Using backend SequentialBackend with 1 concurrent workers.\n",
      "[Parallel(n_jobs=1)]: Done 120 out of 120 | elapsed:   15.6s finished\n"
     ]
    },
    {
     "name": "stdout",
     "output_type": "stream",
     "text": [
      "best score: 0.6379310344827587\n",
      "Fitting 10 folds for each of 12 candidates, totalling 120 fits\n"
     ]
    },
    {
     "name": "stderr",
     "output_type": "stream",
     "text": [
      "[Parallel(n_jobs=1)]: Using backend SequentialBackend with 1 concurrent workers.\n",
      "[Parallel(n_jobs=1)]: Done 120 out of 120 | elapsed:    9.0s finished\n"
     ]
    },
    {
     "name": "stdout",
     "output_type": "stream",
     "text": [
      "best score: 0.6379310344827587\n",
      "Fitting 10 folds for each of 12 candidates, totalling 120 fits\n"
     ]
    },
    {
     "name": "stderr",
     "output_type": "stream",
     "text": [
      "[Parallel(n_jobs=1)]: Using backend SequentialBackend with 1 concurrent workers.\n",
      "[Parallel(n_jobs=1)]: Done 120 out of 120 | elapsed:   10.1s finished\n"
     ]
    },
    {
     "name": "stdout",
     "output_type": "stream",
     "text": [
      "best score: 0.6379310344827587\n",
      "Split: 1\n",
      "Split: 2\n",
      "Split: 3\n",
      "Split: 4\n",
      "Split: 5\n",
      "Split: 6\n",
      "Split: 7\n",
      "Split: 8\n",
      "Split: 9\n",
      "Split: 10\n",
      "Training Testing Accuracy for n_games=2 team=16 : 63.89% (0.90%)\n",
      "(189, 386)\n",
      "(189, 1)\n",
      "X_train shape: (170, 688)\n",
      "X_test shape: (19, 688)\n",
      "Fitting 10 folds for each of 12 candidates, totalling 120 fits\n"
     ]
    },
    {
     "name": "stderr",
     "output_type": "stream",
     "text": [
      "[Parallel(n_jobs=1)]: Using backend SequentialBackend with 1 concurrent workers.\n",
      "[Parallel(n_jobs=1)]: Done 120 out of 120 | elapsed:   11.8s finished\n"
     ]
    },
    {
     "name": "stdout",
     "output_type": "stream",
     "text": [
      "best score: 0.6411764705882353\n",
      "Fitting 10 folds for each of 12 candidates, totalling 120 fits\n"
     ]
    },
    {
     "name": "stderr",
     "output_type": "stream",
     "text": [
      "[Parallel(n_jobs=1)]: Using backend SequentialBackend with 1 concurrent workers.\n",
      "[Parallel(n_jobs=1)]: Done 120 out of 120 | elapsed:   11.7s finished\n"
     ]
    },
    {
     "name": "stdout",
     "output_type": "stream",
     "text": [
      "best score: 0.6411764705882353\n",
      "Fitting 10 folds for each of 12 candidates, totalling 120 fits\n"
     ]
    },
    {
     "name": "stderr",
     "output_type": "stream",
     "text": [
      "[Parallel(n_jobs=1)]: Using backend SequentialBackend with 1 concurrent workers.\n",
      "[Parallel(n_jobs=1)]: Done 120 out of 120 | elapsed:    8.4s finished\n"
     ]
    },
    {
     "name": "stdout",
     "output_type": "stream",
     "text": [
      "best score: 0.6411764705882353\n",
      "Fitting 10 folds for each of 12 candidates, totalling 120 fits\n"
     ]
    },
    {
     "name": "stderr",
     "output_type": "stream",
     "text": [
      "[Parallel(n_jobs=1)]: Using backend SequentialBackend with 1 concurrent workers.\n",
      "[Parallel(n_jobs=1)]: Done 120 out of 120 | elapsed:   17.8s finished\n"
     ]
    },
    {
     "name": "stdout",
     "output_type": "stream",
     "text": [
      "best score: 0.6411764705882353\n",
      "Fitting 10 folds for each of 12 candidates, totalling 120 fits\n"
     ]
    },
    {
     "name": "stderr",
     "output_type": "stream",
     "text": [
      "[Parallel(n_jobs=1)]: Using backend SequentialBackend with 1 concurrent workers.\n",
      "[Parallel(n_jobs=1)]: Done 120 out of 120 | elapsed:    8.6s finished\n"
     ]
    },
    {
     "name": "stdout",
     "output_type": "stream",
     "text": [
      "best score: 0.6411764705882353\n",
      "Split: 1\n",
      "Split: 2\n",
      "Split: 3\n",
      "Split: 4\n",
      "Split: 5\n",
      "Split: 6\n",
      "Split: 7\n",
      "Split: 8\n",
      "Split: 9\n",
      "Split: 10\n",
      "Training Testing Accuracy for n_games=2 team=17 : 63.48% (6.89%)\n",
      "(188, 386)\n",
      "(188, 1)\n",
      "X_train shape: (169, 700)\n",
      "X_test shape: (19, 700)\n",
      "Fitting 10 folds for each of 12 candidates, totalling 120 fits\n"
     ]
    },
    {
     "name": "stderr",
     "output_type": "stream",
     "text": [
      "[Parallel(n_jobs=1)]: Using backend SequentialBackend with 1 concurrent workers.\n",
      "[Parallel(n_jobs=1)]: Done 120 out of 120 | elapsed:   12.1s finished\n"
     ]
    },
    {
     "name": "stdout",
     "output_type": "stream",
     "text": [
      "best score: 0.5739644970414202\n",
      "Fitting 10 folds for each of 12 candidates, totalling 120 fits\n"
     ]
    },
    {
     "name": "stderr",
     "output_type": "stream",
     "text": [
      "[Parallel(n_jobs=1)]: Using backend SequentialBackend with 1 concurrent workers.\n",
      "[Parallel(n_jobs=1)]: Done 120 out of 120 | elapsed:    8.9s finished\n"
     ]
    },
    {
     "name": "stdout",
     "output_type": "stream",
     "text": [
      "best score: 0.5739644970414202\n",
      "Fitting 10 folds for each of 12 candidates, totalling 120 fits\n"
     ]
    },
    {
     "name": "stderr",
     "output_type": "stream",
     "text": [
      "[Parallel(n_jobs=1)]: Using backend SequentialBackend with 1 concurrent workers.\n",
      "[Parallel(n_jobs=1)]: Done 120 out of 120 | elapsed:   10.8s finished\n"
     ]
    },
    {
     "name": "stdout",
     "output_type": "stream",
     "text": [
      "best score: 0.5739644970414202\n",
      "Fitting 10 folds for each of 12 candidates, totalling 120 fits\n"
     ]
    },
    {
     "name": "stderr",
     "output_type": "stream",
     "text": [
      "[Parallel(n_jobs=1)]: Using backend SequentialBackend with 1 concurrent workers.\n",
      "[Parallel(n_jobs=1)]: Done 120 out of 120 | elapsed:    9.4s finished\n"
     ]
    },
    {
     "name": "stdout",
     "output_type": "stream",
     "text": [
      "best score: 0.5739644970414202\n",
      "Fitting 10 folds for each of 12 candidates, totalling 120 fits\n"
     ]
    },
    {
     "name": "stderr",
     "output_type": "stream",
     "text": [
      "[Parallel(n_jobs=1)]: Using backend SequentialBackend with 1 concurrent workers.\n",
      "[Parallel(n_jobs=1)]: Done 120 out of 120 | elapsed:   18.9s finished\n"
     ]
    },
    {
     "name": "stdout",
     "output_type": "stream",
     "text": [
      "best score: 0.5739644970414202\n",
      "Split: 1\n",
      "Split: 2\n",
      "Split: 3\n",
      "Split: 4\n",
      "Split: 5\n",
      "Split: 6\n",
      "Split: 7\n",
      "Split: 8\n",
      "Split: 9\n",
      "Split: 10\n",
      "Training Testing Accuracy for n_games=2 team=18 : 57.87% (10.09%)\n",
      "Accuracy for Team Models for n_games= 2 : 61.87% (5.47%)\n",
      "(183, 572)\n",
      "(183, 1)\n",
      "X_train shape: (164, 996)\n",
      "X_test shape: (19, 996)\n",
      "Fitting 10 folds for each of 12 candidates, totalling 120 fits\n"
     ]
    },
    {
     "name": "stderr",
     "output_type": "stream",
     "text": [
      "[Parallel(n_jobs=1)]: Using backend SequentialBackend with 1 concurrent workers.\n",
      "[Parallel(n_jobs=1)]: Done 120 out of 120 | elapsed:   16.6s finished\n"
     ]
    },
    {
     "name": "stdout",
     "output_type": "stream",
     "text": [
      "best score: 0.5304878048780488\n",
      "Fitting 10 folds for each of 12 candidates, totalling 120 fits\n"
     ]
    },
    {
     "name": "stderr",
     "output_type": "stream",
     "text": [
      "[Parallel(n_jobs=1)]: Using backend SequentialBackend with 1 concurrent workers.\n",
      "[Parallel(n_jobs=1)]: Done 120 out of 120 | elapsed:   11.1s finished\n"
     ]
    },
    {
     "name": "stdout",
     "output_type": "stream",
     "text": [
      "best score: 0.5975609756097561\n",
      "Fitting 10 folds for each of 12 candidates, totalling 120 fits\n"
     ]
    },
    {
     "name": "stderr",
     "output_type": "stream",
     "text": [
      "[Parallel(n_jobs=1)]: Using backend SequentialBackend with 1 concurrent workers.\n",
      "[Parallel(n_jobs=1)]: Done 120 out of 120 | elapsed:   13.2s finished\n"
     ]
    },
    {
     "name": "stdout",
     "output_type": "stream",
     "text": [
      "best score: 0.5975609756097561\n",
      "Fitting 10 folds for each of 12 candidates, totalling 120 fits\n"
     ]
    },
    {
     "name": "stderr",
     "output_type": "stream",
     "text": [
      "[Parallel(n_jobs=1)]: Using backend SequentialBackend with 1 concurrent workers.\n",
      "[Parallel(n_jobs=1)]: Done 120 out of 120 | elapsed:   11.7s finished\n"
     ]
    },
    {
     "name": "stdout",
     "output_type": "stream",
     "text": [
      "best score: 0.5975609756097561\n",
      "Fitting 10 folds for each of 12 candidates, totalling 120 fits\n"
     ]
    },
    {
     "name": "stderr",
     "output_type": "stream",
     "text": [
      "[Parallel(n_jobs=1)]: Using backend SequentialBackend with 1 concurrent workers.\n",
      "[Parallel(n_jobs=1)]: Done 120 out of 120 | elapsed:   11.7s finished\n"
     ]
    },
    {
     "name": "stdout",
     "output_type": "stream",
     "text": [
      "best score: 0.5975609756097561\n",
      "Split: 1\n",
      "Split: 2\n",
      "Split: 3\n",
      "Split: 4\n",
      "Split: 5\n",
      "Split: 6\n",
      "Split: 7\n",
      "Split: 8\n",
      "Split: 9\n",
      "Split: 10\n",
      "Training Testing Accuracy for n_games=3 team=1 : 49.71% (8.90%)\n",
      "(181, 572)\n",
      "(181, 1)\n",
      "X_train shape: (162, 984)\n",
      "X_test shape: (19, 984)\n",
      "Fitting 10 folds for each of 12 candidates, totalling 120 fits\n"
     ]
    },
    {
     "name": "stderr",
     "output_type": "stream",
     "text": [
      "[Parallel(n_jobs=1)]: Using backend SequentialBackend with 1 concurrent workers.\n",
      "[Parallel(n_jobs=1)]: Done 120 out of 120 | elapsed:   15.8s finished\n"
     ]
    },
    {
     "name": "stdout",
     "output_type": "stream",
     "text": [
      "best score: 0.6666666666666666\n",
      "Fitting 10 folds for each of 12 candidates, totalling 120 fits\n"
     ]
    },
    {
     "name": "stderr",
     "output_type": "stream",
     "text": [
      "[Parallel(n_jobs=1)]: Using backend SequentialBackend with 1 concurrent workers.\n",
      "[Parallel(n_jobs=1)]: Done 120 out of 120 | elapsed:   13.8s finished\n"
     ]
    },
    {
     "name": "stdout",
     "output_type": "stream",
     "text": [
      "best score: 0.6666666666666666\n",
      "Fitting 10 folds for each of 12 candidates, totalling 120 fits\n"
     ]
    },
    {
     "name": "stderr",
     "output_type": "stream",
     "text": [
      "[Parallel(n_jobs=1)]: Using backend SequentialBackend with 1 concurrent workers.\n",
      "[Parallel(n_jobs=1)]: Done 120 out of 120 | elapsed:   14.0s finished\n"
     ]
    },
    {
     "name": "stdout",
     "output_type": "stream",
     "text": [
      "best score: 0.6666666666666666\n",
      "Fitting 10 folds for each of 12 candidates, totalling 120 fits\n"
     ]
    },
    {
     "name": "stderr",
     "output_type": "stream",
     "text": [
      "[Parallel(n_jobs=1)]: Using backend SequentialBackend with 1 concurrent workers.\n",
      "[Parallel(n_jobs=1)]: Done 120 out of 120 | elapsed:   11.7s finished\n"
     ]
    },
    {
     "name": "stdout",
     "output_type": "stream",
     "text": [
      "best score: 0.6666666666666666\n",
      "Fitting 10 folds for each of 12 candidates, totalling 120 fits\n"
     ]
    },
    {
     "name": "stderr",
     "output_type": "stream",
     "text": [
      "[Parallel(n_jobs=1)]: Using backend SequentialBackend with 1 concurrent workers.\n",
      "[Parallel(n_jobs=1)]: Done 120 out of 120 | elapsed:   13.3s finished\n"
     ]
    },
    {
     "name": "stdout",
     "output_type": "stream",
     "text": [
      "best score: 0.6790123456790124\n",
      "Split: 1\n",
      "Split: 2\n",
      "Split: 3\n",
      "Split: 4\n",
      "Split: 5\n",
      "Split: 6\n",
      "Split: 7\n",
      "Split: 8\n",
      "Split: 9\n",
      "Split: 10\n",
      "Training Testing Accuracy for n_games=3 team=2 : 67.37% (9.53%)\n",
      "(179, 572)\n",
      "(179, 1)\n",
      "X_train shape: (161, 984)\n",
      "X_test shape: (18, 984)\n",
      "Fitting 10 folds for each of 12 candidates, totalling 120 fits\n"
     ]
    },
    {
     "name": "stderr",
     "output_type": "stream",
     "text": [
      "[Parallel(n_jobs=1)]: Using backend SequentialBackend with 1 concurrent workers.\n",
      "[Parallel(n_jobs=1)]: Done 120 out of 120 | elapsed:   15.5s finished\n"
     ]
    },
    {
     "name": "stdout",
     "output_type": "stream",
     "text": [
      "best score: 0.6708074534161491\n",
      "Fitting 10 folds for each of 12 candidates, totalling 120 fits\n"
     ]
    },
    {
     "name": "stderr",
     "output_type": "stream",
     "text": [
      "[Parallel(n_jobs=1)]: Using backend SequentialBackend with 1 concurrent workers.\n",
      "[Parallel(n_jobs=1)]: Done 120 out of 120 | elapsed:   11.8s finished\n"
     ]
    },
    {
     "name": "stdout",
     "output_type": "stream",
     "text": [
      "best score: 0.6708074534161491\n",
      "Fitting 10 folds for each of 12 candidates, totalling 120 fits\n"
     ]
    },
    {
     "name": "stderr",
     "output_type": "stream",
     "text": [
      "[Parallel(n_jobs=1)]: Using backend SequentialBackend with 1 concurrent workers.\n",
      "[Parallel(n_jobs=1)]: Done 120 out of 120 | elapsed:   13.5s finished\n"
     ]
    },
    {
     "name": "stdout",
     "output_type": "stream",
     "text": [
      "best score: 0.6708074534161491\n",
      "Fitting 10 folds for each of 12 candidates, totalling 120 fits\n"
     ]
    },
    {
     "name": "stderr",
     "output_type": "stream",
     "text": [
      "[Parallel(n_jobs=1)]: Using backend SequentialBackend with 1 concurrent workers.\n",
      "[Parallel(n_jobs=1)]: Done 120 out of 120 | elapsed:   21.5s finished\n"
     ]
    },
    {
     "name": "stdout",
     "output_type": "stream",
     "text": [
      "best score: 0.6708074534161491\n",
      "Fitting 10 folds for each of 12 candidates, totalling 120 fits\n"
     ]
    },
    {
     "name": "stderr",
     "output_type": "stream",
     "text": [
      "[Parallel(n_jobs=1)]: Using backend SequentialBackend with 1 concurrent workers.\n",
      "[Parallel(n_jobs=1)]: Done 120 out of 120 | elapsed:   14.2s finished\n"
     ]
    },
    {
     "name": "stdout",
     "output_type": "stream",
     "text": [
      "best score: 0.6708074534161491\n",
      "Split: 1\n",
      "Split: 2\n",
      "Split: 3\n",
      "Split: 4\n",
      "Split: 5\n",
      "Split: 6\n",
      "Split: 7\n",
      "Split: 8\n",
      "Split: 9\n",
      "Split: 10\n",
      "Training Testing Accuracy for n_games=3 team=3 : 68.17% (2.33%)\n",
      "(184, 572)\n",
      "(184, 1)\n",
      "X_train shape: (165, 986)\n",
      "X_test shape: (19, 986)\n",
      "Fitting 10 folds for each of 12 candidates, totalling 120 fits\n"
     ]
    },
    {
     "name": "stderr",
     "output_type": "stream",
     "text": [
      "[Parallel(n_jobs=1)]: Using backend SequentialBackend with 1 concurrent workers.\n",
      "[Parallel(n_jobs=1)]: Done 120 out of 120 | elapsed:   15.9s finished\n"
     ]
    },
    {
     "name": "stdout",
     "output_type": "stream",
     "text": [
      "best score: 0.5333333333333333\n",
      "Fitting 10 folds for each of 12 candidates, totalling 120 fits\n"
     ]
    },
    {
     "name": "stderr",
     "output_type": "stream",
     "text": [
      "[Parallel(n_jobs=1)]: Using backend SequentialBackend with 1 concurrent workers.\n",
      "[Parallel(n_jobs=1)]: Done 120 out of 120 | elapsed:   14.5s finished\n"
     ]
    },
    {
     "name": "stdout",
     "output_type": "stream",
     "text": [
      "best score: 0.5333333333333333\n",
      "Fitting 10 folds for each of 12 candidates, totalling 120 fits\n"
     ]
    },
    {
     "name": "stderr",
     "output_type": "stream",
     "text": [
      "[Parallel(n_jobs=1)]: Using backend SequentialBackend with 1 concurrent workers.\n",
      "[Parallel(n_jobs=1)]: Done 120 out of 120 | elapsed:   12.2s finished\n"
     ]
    },
    {
     "name": "stdout",
     "output_type": "stream",
     "text": [
      "best score: 0.5333333333333333\n",
      "Fitting 10 folds for each of 12 candidates, totalling 120 fits\n"
     ]
    },
    {
     "name": "stderr",
     "output_type": "stream",
     "text": [
      "[Parallel(n_jobs=1)]: Using backend SequentialBackend with 1 concurrent workers.\n",
      "[Parallel(n_jobs=1)]: Done 120 out of 120 | elapsed:   11.3s finished\n"
     ]
    },
    {
     "name": "stdout",
     "output_type": "stream",
     "text": [
      "best score: 0.5333333333333333\n",
      "Fitting 10 folds for each of 12 candidates, totalling 120 fits\n"
     ]
    },
    {
     "name": "stderr",
     "output_type": "stream",
     "text": [
      "[Parallel(n_jobs=1)]: Using backend SequentialBackend with 1 concurrent workers.\n",
      "[Parallel(n_jobs=1)]: Done 120 out of 120 | elapsed:   11.9s finished\n"
     ]
    },
    {
     "name": "stdout",
     "output_type": "stream",
     "text": [
      "best score: 0.5757575757575758\n",
      "Split: 1\n",
      "Split: 2\n",
      "Split: 3\n",
      "Split: 4\n",
      "Split: 5\n",
      "Split: 6\n",
      "Split: 7\n",
      "Split: 8\n",
      "Split: 9\n",
      "Split: 10\n",
      "Training Testing Accuracy for n_games=3 team=4 : 53.77% (8.69%)\n",
      "(181, 572)\n",
      "(181, 1)\n",
      "X_train shape: (162, 980)\n",
      "X_test shape: (19, 980)\n",
      "Fitting 10 folds for each of 12 candidates, totalling 120 fits\n"
     ]
    },
    {
     "name": "stderr",
     "output_type": "stream",
     "text": [
      "[Parallel(n_jobs=1)]: Using backend SequentialBackend with 1 concurrent workers.\n",
      "[Parallel(n_jobs=1)]: Done 120 out of 120 | elapsed:   15.8s finished\n"
     ]
    },
    {
     "name": "stdout",
     "output_type": "stream",
     "text": [
      "best score: 0.5617283950617284\n",
      "Fitting 10 folds for each of 12 candidates, totalling 120 fits\n"
     ]
    },
    {
     "name": "stderr",
     "output_type": "stream",
     "text": [
      "[Parallel(n_jobs=1)]: Using backend SequentialBackend with 1 concurrent workers.\n",
      "[Parallel(n_jobs=1)]: Done 120 out of 120 | elapsed:   31.4s finished\n"
     ]
    },
    {
     "name": "stdout",
     "output_type": "stream",
     "text": [
      "best score: 0.5617283950617284\n",
      "Fitting 10 folds for each of 12 candidates, totalling 120 fits\n"
     ]
    },
    {
     "name": "stderr",
     "output_type": "stream",
     "text": [
      "[Parallel(n_jobs=1)]: Using backend SequentialBackend with 1 concurrent workers.\n",
      "[Parallel(n_jobs=1)]: Done 120 out of 120 | elapsed:   13.4s finished\n"
     ]
    },
    {
     "name": "stdout",
     "output_type": "stream",
     "text": [
      "best score: 0.5617283950617284\n",
      "Fitting 10 folds for each of 12 candidates, totalling 120 fits\n"
     ]
    },
    {
     "name": "stderr",
     "output_type": "stream",
     "text": [
      "[Parallel(n_jobs=1)]: Using backend SequentialBackend with 1 concurrent workers.\n",
      "[Parallel(n_jobs=1)]: Done 120 out of 120 | elapsed:   10.3s finished\n"
     ]
    },
    {
     "name": "stdout",
     "output_type": "stream",
     "text": [
      "best score: 0.5617283950617284\n",
      "Fitting 10 folds for each of 12 candidates, totalling 120 fits\n"
     ]
    },
    {
     "name": "stderr",
     "output_type": "stream",
     "text": [
      "[Parallel(n_jobs=1)]: Using backend SequentialBackend with 1 concurrent workers.\n",
      "[Parallel(n_jobs=1)]: Done 120 out of 120 | elapsed:   12.7s finished\n"
     ]
    },
    {
     "name": "stdout",
     "output_type": "stream",
     "text": [
      "best score: 0.5740740740740741\n",
      "Split: 1\n",
      "Split: 2\n",
      "Split: 3\n",
      "Split: 4\n",
      "Split: 5\n",
      "Split: 6\n",
      "Split: 7\n",
      "Split: 8\n",
      "Split: 9\n",
      "Split: 10\n",
      "Training Testing Accuracy for n_games=3 team=5 : 54.68% (10.53%)\n",
      "(184, 572)\n",
      "(184, 1)\n",
      "X_train shape: (165, 995)\n",
      "X_test shape: (19, 995)\n",
      "Fitting 10 folds for each of 12 candidates, totalling 120 fits\n"
     ]
    },
    {
     "name": "stderr",
     "output_type": "stream",
     "text": [
      "[Parallel(n_jobs=1)]: Using backend SequentialBackend with 1 concurrent workers.\n",
      "[Parallel(n_jobs=1)]: Done 120 out of 120 | elapsed:   16.2s finished\n"
     ]
    },
    {
     "name": "stdout",
     "output_type": "stream",
     "text": [
      "best score: 0.6121212121212121\n",
      "Fitting 10 folds for each of 12 candidates, totalling 120 fits\n"
     ]
    },
    {
     "name": "stderr",
     "output_type": "stream",
     "text": [
      "[Parallel(n_jobs=1)]: Using backend SequentialBackend with 1 concurrent workers.\n",
      "[Parallel(n_jobs=1)]: Done 120 out of 120 | elapsed:   13.6s finished\n"
     ]
    },
    {
     "name": "stdout",
     "output_type": "stream",
     "text": [
      "best score: 0.6121212121212121\n",
      "Fitting 10 folds for each of 12 candidates, totalling 120 fits\n"
     ]
    },
    {
     "name": "stderr",
     "output_type": "stream",
     "text": [
      "[Parallel(n_jobs=1)]: Using backend SequentialBackend with 1 concurrent workers.\n",
      "[Parallel(n_jobs=1)]: Done 120 out of 120 | elapsed:   14.8s finished\n"
     ]
    },
    {
     "name": "stdout",
     "output_type": "stream",
     "text": [
      "best score: 0.6121212121212121\n",
      "Fitting 10 folds for each of 12 candidates, totalling 120 fits\n"
     ]
    },
    {
     "name": "stderr",
     "output_type": "stream",
     "text": [
      "[Parallel(n_jobs=1)]: Using backend SequentialBackend with 1 concurrent workers.\n",
      "[Parallel(n_jobs=1)]: Done 120 out of 120 | elapsed:   15.4s finished\n"
     ]
    },
    {
     "name": "stdout",
     "output_type": "stream",
     "text": [
      "best score: 0.6121212121212121\n",
      "Fitting 10 folds for each of 12 candidates, totalling 120 fits\n"
     ]
    },
    {
     "name": "stderr",
     "output_type": "stream",
     "text": [
      "[Parallel(n_jobs=1)]: Using backend SequentialBackend with 1 concurrent workers.\n",
      "[Parallel(n_jobs=1)]: Done 120 out of 120 | elapsed:   20.6s finished\n"
     ]
    },
    {
     "name": "stdout",
     "output_type": "stream",
     "text": [
      "best score: 0.6121212121212121\n",
      "Split: 1\n",
      "Split: 2\n",
      "Split: 3\n",
      "Split: 4\n",
      "Split: 5\n",
      "Split: 6\n",
      "Split: 7\n",
      "Split: 8\n",
      "Split: 9\n",
      "Split: 10\n",
      "Training Testing Accuracy for n_games=3 team=6 : 61.90% (8.66%)\n",
      "(193, 572)\n",
      "(193, 1)\n",
      "X_train shape: (173, 988)\n",
      "X_test shape: (20, 988)\n",
      "Fitting 10 folds for each of 12 candidates, totalling 120 fits\n"
     ]
    },
    {
     "name": "stderr",
     "output_type": "stream",
     "text": [
      "[Parallel(n_jobs=1)]: Using backend SequentialBackend with 1 concurrent workers.\n",
      "[Parallel(n_jobs=1)]: Done 120 out of 120 | elapsed:   15.9s finished\n"
     ]
    },
    {
     "name": "stdout",
     "output_type": "stream",
     "text": [
      "best score: 0.653179190751445\n",
      "Fitting 10 folds for each of 12 candidates, totalling 120 fits\n"
     ]
    },
    {
     "name": "stderr",
     "output_type": "stream",
     "text": [
      "[Parallel(n_jobs=1)]: Using backend SequentialBackend with 1 concurrent workers.\n",
      "[Parallel(n_jobs=1)]: Done 120 out of 120 | elapsed:   39.1s finished\n"
     ]
    },
    {
     "name": "stdout",
     "output_type": "stream",
     "text": [
      "best score: 0.653179190751445\n",
      "Fitting 10 folds for each of 12 candidates, totalling 120 fits\n"
     ]
    },
    {
     "name": "stderr",
     "output_type": "stream",
     "text": [
      "[Parallel(n_jobs=1)]: Using backend SequentialBackend with 1 concurrent workers.\n",
      "[Parallel(n_jobs=1)]: Done 120 out of 120 | elapsed:   11.5s finished\n"
     ]
    },
    {
     "name": "stdout",
     "output_type": "stream",
     "text": [
      "best score: 0.653179190751445\n",
      "Fitting 10 folds for each of 12 candidates, totalling 120 fits\n"
     ]
    },
    {
     "name": "stderr",
     "output_type": "stream",
     "text": [
      "[Parallel(n_jobs=1)]: Using backend SequentialBackend with 1 concurrent workers.\n",
      "[Parallel(n_jobs=1)]: Done 120 out of 120 | elapsed:   11.0s finished\n"
     ]
    },
    {
     "name": "stdout",
     "output_type": "stream",
     "text": [
      "best score: 0.653179190751445\n",
      "Fitting 10 folds for each of 12 candidates, totalling 120 fits\n"
     ]
    },
    {
     "name": "stderr",
     "output_type": "stream",
     "text": [
      "[Parallel(n_jobs=1)]: Using backend SequentialBackend with 1 concurrent workers.\n",
      "[Parallel(n_jobs=1)]: Done 120 out of 120 | elapsed:   21.3s finished\n"
     ]
    },
    {
     "name": "stdout",
     "output_type": "stream",
     "text": [
      "best score: 0.653179190751445\n",
      "Split: 1\n",
      "Split: 2\n",
      "Split: 3\n",
      "Split: 4\n",
      "Split: 5\n",
      "Split: 6\n",
      "Split: 7\n",
      "Split: 8\n",
      "Split: 9\n",
      "Split: 10\n",
      "Training Testing Accuracy for n_games=3 team=7 : 66.34% (2.17%)\n",
      "(177, 572)\n",
      "(177, 1)\n",
      "X_train shape: (159, 991)\n",
      "X_test shape: (18, 991)\n",
      "Fitting 10 folds for each of 12 candidates, totalling 120 fits\n"
     ]
    },
    {
     "name": "stderr",
     "output_type": "stream",
     "text": [
      "[Parallel(n_jobs=1)]: Using backend SequentialBackend with 1 concurrent workers.\n",
      "[Parallel(n_jobs=1)]: Done 120 out of 120 | elapsed:   16.3s finished\n"
     ]
    },
    {
     "name": "stdout",
     "output_type": "stream",
     "text": [
      "best score: 0.710691823899371\n",
      "Fitting 10 folds for each of 12 candidates, totalling 120 fits\n"
     ]
    },
    {
     "name": "stderr",
     "output_type": "stream",
     "text": [
      "[Parallel(n_jobs=1)]: Using backend SequentialBackend with 1 concurrent workers.\n",
      "[Parallel(n_jobs=1)]: Done 120 out of 120 | elapsed:   22.0s finished\n"
     ]
    },
    {
     "name": "stdout",
     "output_type": "stream",
     "text": [
      "best score: 0.710691823899371\n",
      "Fitting 10 folds for each of 12 candidates, totalling 120 fits\n"
     ]
    },
    {
     "name": "stderr",
     "output_type": "stream",
     "text": [
      "[Parallel(n_jobs=1)]: Using backend SequentialBackend with 1 concurrent workers.\n",
      "[Parallel(n_jobs=1)]: Done 120 out of 120 | elapsed:   13.1s finished\n"
     ]
    },
    {
     "name": "stdout",
     "output_type": "stream",
     "text": [
      "best score: 0.710691823899371\n",
      "Fitting 10 folds for each of 12 candidates, totalling 120 fits\n"
     ]
    },
    {
     "name": "stderr",
     "output_type": "stream",
     "text": [
      "[Parallel(n_jobs=1)]: Using backend SequentialBackend with 1 concurrent workers.\n",
      "[Parallel(n_jobs=1)]: Done 120 out of 120 | elapsed:   12.8s finished\n"
     ]
    },
    {
     "name": "stdout",
     "output_type": "stream",
     "text": [
      "best score: 0.710691823899371\n",
      "Fitting 10 folds for each of 12 candidates, totalling 120 fits\n"
     ]
    },
    {
     "name": "stderr",
     "output_type": "stream",
     "text": [
      "[Parallel(n_jobs=1)]: Using backend SequentialBackend with 1 concurrent workers.\n",
      "[Parallel(n_jobs=1)]: Done 120 out of 120 | elapsed:   15.4s finished\n"
     ]
    },
    {
     "name": "stdout",
     "output_type": "stream",
     "text": [
      "best score: 0.710691823899371\n",
      "Split: 1\n",
      "Split: 2\n",
      "Split: 3\n",
      "Split: 4\n",
      "Split: 5\n",
      "Split: 6\n",
      "Split: 7\n",
      "Split: 8\n",
      "Split: 9\n",
      "Split: 10\n",
      "Training Testing Accuracy for n_games=3 team=8 : 75.16% (4.37%)\n",
      "(190, 572)\n",
      "(190, 1)\n",
      "X_train shape: (171, 1001)\n",
      "X_test shape: (19, 1001)\n",
      "Fitting 10 folds for each of 12 candidates, totalling 120 fits\n"
     ]
    },
    {
     "name": "stderr",
     "output_type": "stream",
     "text": [
      "[Parallel(n_jobs=1)]: Using backend SequentialBackend with 1 concurrent workers.\n",
      "[Parallel(n_jobs=1)]: Done 120 out of 120 | elapsed:   16.1s finished\n"
     ]
    },
    {
     "name": "stdout",
     "output_type": "stream",
     "text": [
      "best score: 0.5555555555555556\n",
      "Fitting 10 folds for each of 12 candidates, totalling 120 fits\n"
     ]
    },
    {
     "name": "stderr",
     "output_type": "stream",
     "text": [
      "[Parallel(n_jobs=1)]: Using backend SequentialBackend with 1 concurrent workers.\n",
      "[Parallel(n_jobs=1)]: Done 120 out of 120 | elapsed:   10.8s finished\n"
     ]
    },
    {
     "name": "stdout",
     "output_type": "stream",
     "text": [
      "best score: 0.5555555555555556\n",
      "Fitting 10 folds for each of 12 candidates, totalling 120 fits\n"
     ]
    },
    {
     "name": "stderr",
     "output_type": "stream",
     "text": [
      "[Parallel(n_jobs=1)]: Using backend SequentialBackend with 1 concurrent workers.\n",
      "[Parallel(n_jobs=1)]: Done 120 out of 120 | elapsed:   25.6s finished\n"
     ]
    },
    {
     "name": "stdout",
     "output_type": "stream",
     "text": [
      "best score: 0.5614035087719298\n",
      "Fitting 10 folds for each of 12 candidates, totalling 120 fits\n"
     ]
    },
    {
     "name": "stderr",
     "output_type": "stream",
     "text": [
      "[Parallel(n_jobs=1)]: Using backend SequentialBackend with 1 concurrent workers.\n",
      "[Parallel(n_jobs=1)]: Done 120 out of 120 | elapsed:   14.5s finished\n"
     ]
    },
    {
     "name": "stdout",
     "output_type": "stream",
     "text": [
      "best score: 0.5614035087719298\n",
      "Fitting 10 folds for each of 12 candidates, totalling 120 fits\n"
     ]
    },
    {
     "name": "stderr",
     "output_type": "stream",
     "text": [
      "[Parallel(n_jobs=1)]: Using backend SequentialBackend with 1 concurrent workers.\n",
      "[Parallel(n_jobs=1)]: Done 120 out of 120 | elapsed:   27.4s finished\n"
     ]
    },
    {
     "name": "stdout",
     "output_type": "stream",
     "text": [
      "best score: 0.5614035087719298\n",
      "Split: 1\n",
      "Split: 2\n",
      "Split: 3\n",
      "Split: 4\n",
      "Split: 5\n",
      "Split: 6\n",
      "Split: 7\n",
      "Split: 8\n",
      "Split: 9\n",
      "Split: 10\n",
      "Training Testing Accuracy for n_games=3 team=9 : 61.05% (11.09%)\n",
      "(191, 572)\n",
      "(191, 1)\n",
      "X_train shape: (171, 990)\n",
      "X_test shape: (20, 990)\n",
      "Fitting 10 folds for each of 12 candidates, totalling 120 fits\n"
     ]
    },
    {
     "name": "stderr",
     "output_type": "stream",
     "text": [
      "[Parallel(n_jobs=1)]: Using backend SequentialBackend with 1 concurrent workers.\n",
      "[Parallel(n_jobs=1)]: Done 120 out of 120 | elapsed:   15.9s finished\n"
     ]
    },
    {
     "name": "stdout",
     "output_type": "stream",
     "text": [
      "best score: 0.6432748538011696\n",
      "Fitting 10 folds for each of 12 candidates, totalling 120 fits\n"
     ]
    },
    {
     "name": "stderr",
     "output_type": "stream",
     "text": [
      "[Parallel(n_jobs=1)]: Using backend SequentialBackend with 1 concurrent workers.\n",
      "[Parallel(n_jobs=1)]: Done 120 out of 120 | elapsed:   13.7s finished\n"
     ]
    },
    {
     "name": "stdout",
     "output_type": "stream",
     "text": [
      "best score: 0.6432748538011696\n",
      "Fitting 10 folds for each of 12 candidates, totalling 120 fits\n"
     ]
    },
    {
     "name": "stderr",
     "output_type": "stream",
     "text": [
      "[Parallel(n_jobs=1)]: Using backend SequentialBackend with 1 concurrent workers.\n",
      "[Parallel(n_jobs=1)]: Done 120 out of 120 | elapsed:   34.3s finished\n"
     ]
    },
    {
     "name": "stdout",
     "output_type": "stream",
     "text": [
      "best score: 0.672514619883041\n",
      "Fitting 10 folds for each of 12 candidates, totalling 120 fits\n"
     ]
    },
    {
     "name": "stderr",
     "output_type": "stream",
     "text": [
      "[Parallel(n_jobs=1)]: Using backend SequentialBackend with 1 concurrent workers.\n",
      "[Parallel(n_jobs=1)]: Done 120 out of 120 | elapsed:   14.5s finished\n"
     ]
    },
    {
     "name": "stdout",
     "output_type": "stream",
     "text": [
      "best score: 0.672514619883041\n",
      "Fitting 10 folds for each of 12 candidates, totalling 120 fits\n"
     ]
    },
    {
     "name": "stderr",
     "output_type": "stream",
     "text": [
      "[Parallel(n_jobs=1)]: Using backend SequentialBackend with 1 concurrent workers.\n",
      "[Parallel(n_jobs=1)]: Done 120 out of 120 | elapsed:   23.2s finished\n"
     ]
    },
    {
     "name": "stdout",
     "output_type": "stream",
     "text": [
      "best score: 0.672514619883041\n",
      "Split: 1\n",
      "Split: 2\n",
      "Split: 3\n",
      "Split: 4\n",
      "Split: 5\n",
      "Split: 6\n",
      "Split: 7\n",
      "Split: 8\n",
      "Split: 9\n",
      "Split: 10\n",
      "Training Testing Accuracy for n_games=3 team=10 : 62.84% (6.30%)\n",
      "(183, 572)\n",
      "(183, 1)\n",
      "X_train shape: (164, 993)\n",
      "X_test shape: (19, 993)\n",
      "Fitting 10 folds for each of 12 candidates, totalling 120 fits\n"
     ]
    },
    {
     "name": "stderr",
     "output_type": "stream",
     "text": [
      "[Parallel(n_jobs=1)]: Using backend SequentialBackend with 1 concurrent workers.\n",
      "[Parallel(n_jobs=1)]: Done 120 out of 120 | elapsed:   16.0s finished\n"
     ]
    },
    {
     "name": "stdout",
     "output_type": "stream",
     "text": [
      "best score: 0.5792682926829268\n",
      "Fitting 10 folds for each of 12 candidates, totalling 120 fits\n"
     ]
    },
    {
     "name": "stderr",
     "output_type": "stream",
     "text": [
      "[Parallel(n_jobs=1)]: Using backend SequentialBackend with 1 concurrent workers.\n",
      "[Parallel(n_jobs=1)]: Done 120 out of 120 | elapsed:   17.7s finished\n"
     ]
    },
    {
     "name": "stdout",
     "output_type": "stream",
     "text": [
      "best score: 0.6280487804878049\n",
      "Fitting 10 folds for each of 12 candidates, totalling 120 fits\n"
     ]
    },
    {
     "name": "stderr",
     "output_type": "stream",
     "text": [
      "[Parallel(n_jobs=1)]: Using backend SequentialBackend with 1 concurrent workers.\n",
      "[Parallel(n_jobs=1)]: Done 120 out of 120 | elapsed:   16.3s finished\n"
     ]
    },
    {
     "name": "stdout",
     "output_type": "stream",
     "text": [
      "best score: 0.6280487804878049\n",
      "Fitting 10 folds for each of 12 candidates, totalling 120 fits\n"
     ]
    },
    {
     "name": "stderr",
     "output_type": "stream",
     "text": [
      "[Parallel(n_jobs=1)]: Using backend SequentialBackend with 1 concurrent workers.\n",
      "[Parallel(n_jobs=1)]: Done 120 out of 120 | elapsed:   14.3s finished\n"
     ]
    },
    {
     "name": "stdout",
     "output_type": "stream",
     "text": [
      "best score: 0.6280487804878049\n",
      "Fitting 10 folds for each of 12 candidates, totalling 120 fits\n"
     ]
    },
    {
     "name": "stderr",
     "output_type": "stream",
     "text": [
      "[Parallel(n_jobs=1)]: Using backend SequentialBackend with 1 concurrent workers.\n",
      "[Parallel(n_jobs=1)]: Done 120 out of 120 | elapsed:   13.8s finished\n"
     ]
    },
    {
     "name": "stdout",
     "output_type": "stream",
     "text": [
      "best score: 0.6280487804878049\n",
      "Split: 1\n",
      "Split: 2\n",
      "Split: 3\n",
      "Split: 4\n",
      "Split: 5\n",
      "Split: 6\n",
      "Split: 7\n",
      "Split: 8\n",
      "Split: 9\n",
      "Split: 10\n",
      "Training Testing Accuracy for n_games=3 team=11 : 57.95% (13.91%)\n",
      "(184, 572)\n",
      "(184, 1)\n",
      "X_train shape: (165, 987)\n",
      "X_test shape: (19, 987)\n",
      "Fitting 10 folds for each of 12 candidates, totalling 120 fits\n"
     ]
    },
    {
     "name": "stderr",
     "output_type": "stream",
     "text": [
      "[Parallel(n_jobs=1)]: Using backend SequentialBackend with 1 concurrent workers.\n",
      "[Parallel(n_jobs=1)]: Done 120 out of 120 | elapsed:   16.2s finished\n"
     ]
    },
    {
     "name": "stdout",
     "output_type": "stream",
     "text": [
      "best score: 0.593939393939394\n",
      "Fitting 10 folds for each of 12 candidates, totalling 120 fits\n"
     ]
    },
    {
     "name": "stderr",
     "output_type": "stream",
     "text": [
      "[Parallel(n_jobs=1)]: Using backend SequentialBackend with 1 concurrent workers.\n",
      "[Parallel(n_jobs=1)]: Done 120 out of 120 | elapsed:   18.5s finished\n"
     ]
    },
    {
     "name": "stdout",
     "output_type": "stream",
     "text": [
      "best score: 0.593939393939394\n",
      "Fitting 10 folds for each of 12 candidates, totalling 120 fits\n"
     ]
    },
    {
     "name": "stderr",
     "output_type": "stream",
     "text": [
      "[Parallel(n_jobs=1)]: Using backend SequentialBackend with 1 concurrent workers.\n",
      "[Parallel(n_jobs=1)]: Done 120 out of 120 | elapsed:   11.1s finished\n"
     ]
    },
    {
     "name": "stdout",
     "output_type": "stream",
     "text": [
      "best score: 0.593939393939394\n",
      "Fitting 10 folds for each of 12 candidates, totalling 120 fits\n"
     ]
    },
    {
     "name": "stderr",
     "output_type": "stream",
     "text": [
      "[Parallel(n_jobs=1)]: Using backend SequentialBackend with 1 concurrent workers.\n",
      "[Parallel(n_jobs=1)]: Done 120 out of 120 | elapsed:   33.9s finished\n"
     ]
    },
    {
     "name": "stdout",
     "output_type": "stream",
     "text": [
      "best score: 0.593939393939394\n",
      "Fitting 10 folds for each of 12 candidates, totalling 120 fits\n"
     ]
    },
    {
     "name": "stderr",
     "output_type": "stream",
     "text": [
      "[Parallel(n_jobs=1)]: Using backend SequentialBackend with 1 concurrent workers.\n",
      "[Parallel(n_jobs=1)]: Done 120 out of 120 | elapsed:   15.0s finished\n"
     ]
    },
    {
     "name": "stdout",
     "output_type": "stream",
     "text": [
      "best score: 0.593939393939394\n",
      "Split: 1\n",
      "Split: 2\n",
      "Split: 3\n",
      "Split: 4\n",
      "Split: 5\n",
      "Split: 6\n",
      "Split: 7\n",
      "Split: 8\n",
      "Split: 9\n",
      "Split: 10\n",
      "Training Testing Accuracy for n_games=3 team=12 : 53.92% (15.12%)\n",
      "(185, 572)\n",
      "(185, 1)\n",
      "X_train shape: (166, 1000)\n",
      "X_test shape: (19, 1000)\n",
      "Fitting 10 folds for each of 12 candidates, totalling 120 fits\n"
     ]
    },
    {
     "name": "stderr",
     "output_type": "stream",
     "text": [
      "[Parallel(n_jobs=1)]: Using backend SequentialBackend with 1 concurrent workers.\n",
      "[Parallel(n_jobs=1)]: Done 120 out of 120 | elapsed:   16.3s finished\n"
     ]
    },
    {
     "name": "stdout",
     "output_type": "stream",
     "text": [
      "best score: 0.6204819277108434\n",
      "Fitting 10 folds for each of 12 candidates, totalling 120 fits\n"
     ]
    },
    {
     "name": "stderr",
     "output_type": "stream",
     "text": [
      "[Parallel(n_jobs=1)]: Using backend SequentialBackend with 1 concurrent workers.\n",
      "[Parallel(n_jobs=1)]: Done 120 out of 120 | elapsed:   16.3s finished\n"
     ]
    },
    {
     "name": "stdout",
     "output_type": "stream",
     "text": [
      "best score: 0.6204819277108434\n",
      "Fitting 10 folds for each of 12 candidates, totalling 120 fits\n"
     ]
    },
    {
     "name": "stderr",
     "output_type": "stream",
     "text": [
      "[Parallel(n_jobs=1)]: Using backend SequentialBackend with 1 concurrent workers.\n",
      "[Parallel(n_jobs=1)]: Done 120 out of 120 | elapsed:   14.9s finished\n"
     ]
    },
    {
     "name": "stdout",
     "output_type": "stream",
     "text": [
      "best score: 0.6204819277108434\n",
      "Fitting 10 folds for each of 12 candidates, totalling 120 fits\n"
     ]
    },
    {
     "name": "stderr",
     "output_type": "stream",
     "text": [
      "[Parallel(n_jobs=1)]: Using backend SequentialBackend with 1 concurrent workers.\n",
      "[Parallel(n_jobs=1)]: Done 120 out of 120 | elapsed:   12.6s finished\n"
     ]
    },
    {
     "name": "stdout",
     "output_type": "stream",
     "text": [
      "best score: 0.6325301204819277\n",
      "Fitting 10 folds for each of 12 candidates, totalling 120 fits\n"
     ]
    },
    {
     "name": "stderr",
     "output_type": "stream",
     "text": [
      "[Parallel(n_jobs=1)]: Using backend SequentialBackend with 1 concurrent workers.\n",
      "[Parallel(n_jobs=1)]: Done 120 out of 120 | elapsed:   37.2s finished\n"
     ]
    },
    {
     "name": "stdout",
     "output_type": "stream",
     "text": [
      "best score: 0.6445783132530121\n",
      "Split: 1\n",
      "Split: 2\n",
      "Split: 3\n",
      "Split: 4\n",
      "Split: 5\n",
      "Split: 6\n",
      "Split: 7\n",
      "Split: 8\n",
      "Split: 9\n",
      "Split: 10\n",
      "Training Testing Accuracy for n_games=3 team=13 : 53.45% (9.46%)\n",
      "(188, 572)\n",
      "(188, 1)\n",
      "X_train shape: (169, 991)\n",
      "X_test shape: (19, 991)\n",
      "Fitting 10 folds for each of 12 candidates, totalling 120 fits\n"
     ]
    },
    {
     "name": "stderr",
     "output_type": "stream",
     "text": [
      "[Parallel(n_jobs=1)]: Using backend SequentialBackend with 1 concurrent workers.\n",
      "[Parallel(n_jobs=1)]: Done 120 out of 120 | elapsed:   16.1s finished\n"
     ]
    },
    {
     "name": "stdout",
     "output_type": "stream",
     "text": [
      "best score: 0.6153846153846154\n",
      "Fitting 10 folds for each of 12 candidates, totalling 120 fits\n"
     ]
    },
    {
     "name": "stderr",
     "output_type": "stream",
     "text": [
      "[Parallel(n_jobs=1)]: Using backend SequentialBackend with 1 concurrent workers.\n",
      "[Parallel(n_jobs=1)]: Done 120 out of 120 | elapsed:   26.5s finished\n"
     ]
    },
    {
     "name": "stdout",
     "output_type": "stream",
     "text": [
      "best score: 0.6331360946745562\n",
      "Fitting 10 folds for each of 12 candidates, totalling 120 fits\n"
     ]
    },
    {
     "name": "stderr",
     "output_type": "stream",
     "text": [
      "[Parallel(n_jobs=1)]: Using backend SequentialBackend with 1 concurrent workers.\n",
      "[Parallel(n_jobs=1)]: Done 120 out of 120 | elapsed:   14.9s finished\n"
     ]
    },
    {
     "name": "stdout",
     "output_type": "stream",
     "text": [
      "best score: 0.6331360946745562\n",
      "Fitting 10 folds for each of 12 candidates, totalling 120 fits\n"
     ]
    },
    {
     "name": "stderr",
     "output_type": "stream",
     "text": [
      "[Parallel(n_jobs=1)]: Using backend SequentialBackend with 1 concurrent workers.\n",
      "[Parallel(n_jobs=1)]: Done 120 out of 120 | elapsed:   14.7s finished\n"
     ]
    },
    {
     "name": "stdout",
     "output_type": "stream",
     "text": [
      "best score: 0.6331360946745562\n",
      "Fitting 10 folds for each of 12 candidates, totalling 120 fits\n"
     ]
    },
    {
     "name": "stderr",
     "output_type": "stream",
     "text": [
      "[Parallel(n_jobs=1)]: Using backend SequentialBackend with 1 concurrent workers.\n",
      "[Parallel(n_jobs=1)]: Done 120 out of 120 | elapsed:   17.6s finished\n"
     ]
    },
    {
     "name": "stdout",
     "output_type": "stream",
     "text": [
      "best score: 0.6331360946745562\n",
      "Split: 1\n",
      "Split: 2\n",
      "Split: 3\n",
      "Split: 4\n",
      "Split: 5\n",
      "Split: 6\n",
      "Split: 7\n",
      "Split: 8\n",
      "Split: 9\n",
      "Split: 10\n",
      "Training Testing Accuracy for n_games=3 team=14 : 60.58% (5.27%)\n",
      "(177, 572)\n",
      "(177, 1)\n",
      "X_train shape: (159, 987)\n",
      "X_test shape: (18, 987)\n",
      "Fitting 10 folds for each of 12 candidates, totalling 120 fits\n"
     ]
    },
    {
     "name": "stderr",
     "output_type": "stream",
     "text": [
      "[Parallel(n_jobs=1)]: Using backend SequentialBackend with 1 concurrent workers.\n",
      "[Parallel(n_jobs=1)]: Done 120 out of 120 | elapsed:   16.0s finished\n"
     ]
    },
    {
     "name": "stdout",
     "output_type": "stream",
     "text": [
      "best score: 0.6415094339622641\n",
      "Fitting 10 folds for each of 12 candidates, totalling 120 fits\n"
     ]
    },
    {
     "name": "stderr",
     "output_type": "stream",
     "text": [
      "[Parallel(n_jobs=1)]: Using backend SequentialBackend with 1 concurrent workers.\n",
      "[Parallel(n_jobs=1)]: Done 120 out of 120 | elapsed:   14.6s finished\n"
     ]
    },
    {
     "name": "stdout",
     "output_type": "stream",
     "text": [
      "best score: 0.6415094339622641\n",
      "Fitting 10 folds for each of 12 candidates, totalling 120 fits\n"
     ]
    },
    {
     "name": "stderr",
     "output_type": "stream",
     "text": [
      "[Parallel(n_jobs=1)]: Using backend SequentialBackend with 1 concurrent workers.\n",
      "[Parallel(n_jobs=1)]: Done 120 out of 120 | elapsed:   14.2s finished\n"
     ]
    },
    {
     "name": "stdout",
     "output_type": "stream",
     "text": [
      "best score: 0.6415094339622641\n",
      "Fitting 10 folds for each of 12 candidates, totalling 120 fits\n"
     ]
    },
    {
     "name": "stderr",
     "output_type": "stream",
     "text": [
      "[Parallel(n_jobs=1)]: Using backend SequentialBackend with 1 concurrent workers.\n",
      "[Parallel(n_jobs=1)]: Done 120 out of 120 | elapsed:   15.8s finished\n"
     ]
    },
    {
     "name": "stdout",
     "output_type": "stream",
     "text": [
      "best score: 0.6415094339622641\n",
      "Fitting 10 folds for each of 12 candidates, totalling 120 fits\n"
     ]
    },
    {
     "name": "stderr",
     "output_type": "stream",
     "text": [
      "[Parallel(n_jobs=1)]: Using backend SequentialBackend with 1 concurrent workers.\n",
      "[Parallel(n_jobs=1)]: Done 120 out of 120 | elapsed:   19.6s finished\n"
     ]
    },
    {
     "name": "stdout",
     "output_type": "stream",
     "text": [
      "best score: 0.6415094339622641\n",
      "Split: 1\n",
      "Split: 2\n",
      "Split: 3\n",
      "Split: 4\n",
      "Split: 5\n",
      "Split: 6\n",
      "Split: 7\n",
      "Split: 8\n",
      "Split: 9\n",
      "Split: 10\n",
      "Training Testing Accuracy for n_games=3 team=15 : 63.30% (2.29%)\n",
      "(193, 572)\n",
      "(193, 1)\n",
      "X_train shape: (173, 997)\n",
      "X_test shape: (20, 997)\n",
      "Fitting 10 folds for each of 12 candidates, totalling 120 fits\n"
     ]
    },
    {
     "name": "stderr",
     "output_type": "stream",
     "text": [
      "[Parallel(n_jobs=1)]: Using backend SequentialBackend with 1 concurrent workers.\n",
      "[Parallel(n_jobs=1)]: Done 120 out of 120 | elapsed:   16.2s finished\n"
     ]
    },
    {
     "name": "stdout",
     "output_type": "stream",
     "text": [
      "best score: 0.6184971098265896\n",
      "Fitting 10 folds for each of 12 candidates, totalling 120 fits\n"
     ]
    },
    {
     "name": "stderr",
     "output_type": "stream",
     "text": [
      "[Parallel(n_jobs=1)]: Using backend SequentialBackend with 1 concurrent workers.\n",
      "[Parallel(n_jobs=1)]: Done 120 out of 120 | elapsed:   13.4s finished\n"
     ]
    },
    {
     "name": "stdout",
     "output_type": "stream",
     "text": [
      "best score: 0.630057803468208\n",
      "Fitting 10 folds for each of 12 candidates, totalling 120 fits\n"
     ]
    },
    {
     "name": "stderr",
     "output_type": "stream",
     "text": [
      "[Parallel(n_jobs=1)]: Using backend SequentialBackend with 1 concurrent workers.\n",
      "[Parallel(n_jobs=1)]: Done 120 out of 120 | elapsed:   15.6s finished\n"
     ]
    },
    {
     "name": "stdout",
     "output_type": "stream",
     "text": [
      "best score: 0.6416184971098265\n",
      "Fitting 10 folds for each of 12 candidates, totalling 120 fits\n"
     ]
    },
    {
     "name": "stderr",
     "output_type": "stream",
     "text": [
      "[Parallel(n_jobs=1)]: Using backend SequentialBackend with 1 concurrent workers.\n",
      "[Parallel(n_jobs=1)]: Done 120 out of 120 | elapsed:   14.7s finished\n"
     ]
    },
    {
     "name": "stdout",
     "output_type": "stream",
     "text": [
      "best score: 0.6416184971098265\n",
      "Fitting 10 folds for each of 12 candidates, totalling 120 fits\n"
     ]
    },
    {
     "name": "stderr",
     "output_type": "stream",
     "text": [
      "[Parallel(n_jobs=1)]: Using backend SequentialBackend with 1 concurrent workers.\n",
      "[Parallel(n_jobs=1)]: Done 120 out of 120 | elapsed:   24.8s finished\n"
     ]
    },
    {
     "name": "stdout",
     "output_type": "stream",
     "text": [
      "best score: 0.6416184971098265\n",
      "Split: 1\n",
      "Split: 2\n",
      "Split: 3\n",
      "Split: 4\n",
      "Split: 5\n",
      "Split: 6\n",
      "Split: 7\n",
      "Split: 8\n",
      "Split: 9\n",
      "Split: 10\n",
      "Training Testing Accuracy for n_games=3 team=16 : 64.74% (2.37%)\n",
      "(188, 572)\n",
      "(188, 1)\n",
      "X_train shape: (169, 995)\n",
      "X_test shape: (19, 995)\n",
      "Fitting 10 folds for each of 12 candidates, totalling 120 fits\n"
     ]
    },
    {
     "name": "stderr",
     "output_type": "stream",
     "text": [
      "[Parallel(n_jobs=1)]: Using backend SequentialBackend with 1 concurrent workers.\n",
      "[Parallel(n_jobs=1)]: Done 120 out of 120 | elapsed:   15.8s finished\n"
     ]
    },
    {
     "name": "stdout",
     "output_type": "stream",
     "text": [
      "best score: 0.6390532544378699\n",
      "Fitting 10 folds for each of 12 candidates, totalling 120 fits\n"
     ]
    },
    {
     "name": "stderr",
     "output_type": "stream",
     "text": [
      "[Parallel(n_jobs=1)]: Using backend SequentialBackend with 1 concurrent workers.\n",
      "[Parallel(n_jobs=1)]: Done 120 out of 120 | elapsed:   16.2s finished\n"
     ]
    },
    {
     "name": "stdout",
     "output_type": "stream",
     "text": [
      "best score: 0.6390532544378699\n",
      "Fitting 10 folds for each of 12 candidates, totalling 120 fits\n"
     ]
    },
    {
     "name": "stderr",
     "output_type": "stream",
     "text": [
      "[Parallel(n_jobs=1)]: Using backend SequentialBackend with 1 concurrent workers.\n",
      "[Parallel(n_jobs=1)]: Done 120 out of 120 | elapsed:   13.4s finished\n"
     ]
    },
    {
     "name": "stdout",
     "output_type": "stream",
     "text": [
      "best score: 0.6390532544378699\n",
      "Fitting 10 folds for each of 12 candidates, totalling 120 fits\n"
     ]
    },
    {
     "name": "stderr",
     "output_type": "stream",
     "text": [
      "[Parallel(n_jobs=1)]: Using backend SequentialBackend with 1 concurrent workers.\n",
      "[Parallel(n_jobs=1)]: Done 120 out of 120 | elapsed:   28.8s finished\n"
     ]
    },
    {
     "name": "stdout",
     "output_type": "stream",
     "text": [
      "best score: 0.6390532544378699\n",
      "Fitting 10 folds for each of 12 candidates, totalling 120 fits\n"
     ]
    },
    {
     "name": "stderr",
     "output_type": "stream",
     "text": [
      "[Parallel(n_jobs=1)]: Using backend SequentialBackend with 1 concurrent workers.\n",
      "[Parallel(n_jobs=1)]: Done 120 out of 120 | elapsed:   29.6s finished\n"
     ]
    },
    {
     "name": "stdout",
     "output_type": "stream",
     "text": [
      "best score: 0.6390532544378699\n",
      "Split: 1\n",
      "Split: 2\n",
      "Split: 3\n",
      "Split: 4\n",
      "Split: 5\n",
      "Split: 6\n",
      "Split: 7\n",
      "Split: 8\n",
      "Split: 9\n",
      "Split: 10\n",
      "Training Testing Accuracy for n_games=3 team=17 : 63.33% (11.54%)\n",
      "(187, 572)\n",
      "(187, 1)\n",
      "X_train shape: (168, 1005)\n",
      "X_test shape: (19, 1005)\n",
      "Fitting 10 folds for each of 12 candidates, totalling 120 fits\n"
     ]
    },
    {
     "name": "stderr",
     "output_type": "stream",
     "text": [
      "[Parallel(n_jobs=1)]: Using backend SequentialBackend with 1 concurrent workers.\n",
      "[Parallel(n_jobs=1)]: Done 120 out of 120 | elapsed:   16.4s finished\n"
     ]
    },
    {
     "name": "stdout",
     "output_type": "stream",
     "text": [
      "best score: 0.5476190476190477\n",
      "Fitting 10 folds for each of 12 candidates, totalling 120 fits\n"
     ]
    },
    {
     "name": "stderr",
     "output_type": "stream",
     "text": [
      "[Parallel(n_jobs=1)]: Using backend SequentialBackend with 1 concurrent workers.\n",
      "[Parallel(n_jobs=1)]: Done 120 out of 120 | elapsed:   21.5s finished\n"
     ]
    },
    {
     "name": "stdout",
     "output_type": "stream",
     "text": [
      "best score: 0.5476190476190477\n",
      "Fitting 10 folds for each of 12 candidates, totalling 120 fits\n"
     ]
    },
    {
     "name": "stderr",
     "output_type": "stream",
     "text": [
      "[Parallel(n_jobs=1)]: Using backend SequentialBackend with 1 concurrent workers.\n",
      "[Parallel(n_jobs=1)]: Done 120 out of 120 | elapsed:   32.2s finished\n"
     ]
    },
    {
     "name": "stdout",
     "output_type": "stream",
     "text": [
      "best score: 0.5476190476190477\n",
      "Fitting 10 folds for each of 12 candidates, totalling 120 fits\n"
     ]
    },
    {
     "name": "stderr",
     "output_type": "stream",
     "text": [
      "[Parallel(n_jobs=1)]: Using backend SequentialBackend with 1 concurrent workers.\n",
      "[Parallel(n_jobs=1)]: Done 120 out of 120 | elapsed:   24.6s finished\n"
     ]
    },
    {
     "name": "stdout",
     "output_type": "stream",
     "text": [
      "best score: 0.5476190476190477\n",
      "Fitting 10 folds for each of 12 candidates, totalling 120 fits\n"
     ]
    },
    {
     "name": "stderr",
     "output_type": "stream",
     "text": [
      "[Parallel(n_jobs=1)]: Using backend SequentialBackend with 1 concurrent workers.\n",
      "[Parallel(n_jobs=1)]: Done 120 out of 120 | elapsed:   23.7s finished\n"
     ]
    },
    {
     "name": "stdout",
     "output_type": "stream",
     "text": [
      "best score: 0.5476190476190477\n",
      "Split: 1\n",
      "Split: 2\n",
      "Split: 3\n",
      "Split: 4\n",
      "Split: 5\n",
      "Split: 6\n",
      "Split: 7\n",
      "Split: 8\n",
      "Split: 9\n",
      "Split: 10\n",
      "Training Testing Accuracy for n_games=3 team=18 : 53.63% (12.69%)\n",
      "Accuracy for Team Models for n_games= 3 : 60.66% (6.41%)\n",
      "(182, 758)\n",
      "(182, 1)\n",
      "X_train shape: (163, 1299)\n",
      "X_test shape: (19, 1299)\n",
      "Fitting 10 folds for each of 12 candidates, totalling 120 fits\n"
     ]
    },
    {
     "name": "stderr",
     "output_type": "stream",
     "text": [
      "[Parallel(n_jobs=1)]: Using backend SequentialBackend with 1 concurrent workers.\n",
      "[Parallel(n_jobs=1)]: Done 120 out of 120 | elapsed:   20.1s finished\n"
     ]
    },
    {
     "name": "stdout",
     "output_type": "stream",
     "text": [
      "best score: 0.5644171779141104\n",
      "Fitting 10 folds for each of 12 candidates, totalling 120 fits\n"
     ]
    },
    {
     "name": "stderr",
     "output_type": "stream",
     "text": [
      "[Parallel(n_jobs=1)]: Using backend SequentialBackend with 1 concurrent workers.\n",
      "[Parallel(n_jobs=1)]: Done 120 out of 120 | elapsed:   26.7s finished\n"
     ]
    },
    {
     "name": "stdout",
     "output_type": "stream",
     "text": [
      "best score: 0.5644171779141104\n",
      "Fitting 10 folds for each of 12 candidates, totalling 120 fits\n"
     ]
    },
    {
     "name": "stderr",
     "output_type": "stream",
     "text": [
      "[Parallel(n_jobs=1)]: Using backend SequentialBackend with 1 concurrent workers.\n",
      "[Parallel(n_jobs=1)]: Done 120 out of 120 | elapsed:   33.8s finished\n"
     ]
    },
    {
     "name": "stdout",
     "output_type": "stream",
     "text": [
      "best score: 0.5705521472392638\n",
      "Fitting 10 folds for each of 12 candidates, totalling 120 fits\n"
     ]
    },
    {
     "name": "stderr",
     "output_type": "stream",
     "text": [
      "[Parallel(n_jobs=1)]: Using backend SequentialBackend with 1 concurrent workers.\n",
      "[Parallel(n_jobs=1)]: Done 120 out of 120 | elapsed:   26.6s finished\n"
     ]
    },
    {
     "name": "stdout",
     "output_type": "stream",
     "text": [
      "best score: 0.6319018404907976\n",
      "Fitting 10 folds for each of 12 candidates, totalling 120 fits\n"
     ]
    },
    {
     "name": "stderr",
     "output_type": "stream",
     "text": [
      "[Parallel(n_jobs=1)]: Using backend SequentialBackend with 1 concurrent workers.\n",
      "[Parallel(n_jobs=1)]: Done 120 out of 120 | elapsed:   14.8s finished\n"
     ]
    },
    {
     "name": "stdout",
     "output_type": "stream",
     "text": [
      "best score: 0.6319018404907976\n",
      "Split: 1\n",
      "Split: 2\n",
      "Split: 3\n",
      "Split: 4\n",
      "Split: 5\n",
      "Split: 6\n",
      "Split: 7\n",
      "Split: 8\n",
      "Split: 9\n",
      "Split: 10\n",
      "Training Testing Accuracy for n_games=4 team=1 : 58.30% (6.60%)\n",
      "(180, 758)\n",
      "(180, 1)\n",
      "X_train shape: (162, 1285)\n",
      "X_test shape: (18, 1285)\n",
      "Fitting 10 folds for each of 12 candidates, totalling 120 fits\n"
     ]
    },
    {
     "name": "stderr",
     "output_type": "stream",
     "text": [
      "[Parallel(n_jobs=1)]: Using backend SequentialBackend with 1 concurrent workers.\n",
      "[Parallel(n_jobs=1)]: Done 120 out of 120 | elapsed:   19.5s finished\n"
     ]
    },
    {
     "name": "stdout",
     "output_type": "stream",
     "text": [
      "best score: 0.6666666666666666\n",
      "Fitting 10 folds for each of 12 candidates, totalling 120 fits\n"
     ]
    },
    {
     "name": "stderr",
     "output_type": "stream",
     "text": [
      "[Parallel(n_jobs=1)]: Using backend SequentialBackend with 1 concurrent workers.\n",
      "[Parallel(n_jobs=1)]: Done 120 out of 120 | elapsed:   38.9s finished\n"
     ]
    },
    {
     "name": "stdout",
     "output_type": "stream",
     "text": [
      "best score: 0.6666666666666666\n",
      "Fitting 10 folds for each of 12 candidates, totalling 120 fits\n"
     ]
    },
    {
     "name": "stderr",
     "output_type": "stream",
     "text": [
      "[Parallel(n_jobs=1)]: Using backend SequentialBackend with 1 concurrent workers.\n",
      "[Parallel(n_jobs=1)]: Done 120 out of 120 | elapsed:   29.5s finished\n"
     ]
    },
    {
     "name": "stdout",
     "output_type": "stream",
     "text": [
      "best score: 0.6790123456790124\n",
      "Fitting 10 folds for each of 12 candidates, totalling 120 fits\n"
     ]
    },
    {
     "name": "stderr",
     "output_type": "stream",
     "text": [
      "[Parallel(n_jobs=1)]: Using backend SequentialBackend with 1 concurrent workers.\n",
      "[Parallel(n_jobs=1)]: Done 120 out of 120 | elapsed:   24.3s finished\n"
     ]
    },
    {
     "name": "stdout",
     "output_type": "stream",
     "text": [
      "best score: 0.6790123456790124\n",
      "Fitting 10 folds for each of 12 candidates, totalling 120 fits\n"
     ]
    },
    {
     "name": "stderr",
     "output_type": "stream",
     "text": [
      "[Parallel(n_jobs=1)]: Using backend SequentialBackend with 1 concurrent workers.\n",
      "[Parallel(n_jobs=1)]: Done 120 out of 120 | elapsed:   18.2s finished\n"
     ]
    },
    {
     "name": "stdout",
     "output_type": "stream",
     "text": [
      "best score: 0.6790123456790124\n",
      "Split: 1\n",
      "Split: 2\n",
      "Split: 3\n",
      "Split: 4\n",
      "Split: 5\n",
      "Split: 6\n",
      "Split: 7\n",
      "Split: 8\n",
      "Split: 9\n",
      "Split: 10\n",
      "Training Testing Accuracy for n_games=4 team=2 : 64.44% (6.19%)\n",
      "(178, 758)\n",
      "(178, 1)\n",
      "X_train shape: (160, 1285)\n",
      "X_test shape: (18, 1285)\n",
      "Fitting 10 folds for each of 12 candidates, totalling 120 fits\n"
     ]
    },
    {
     "name": "stderr",
     "output_type": "stream",
     "text": [
      "[Parallel(n_jobs=1)]: Using backend SequentialBackend with 1 concurrent workers.\n",
      "[Parallel(n_jobs=1)]: Done 120 out of 120 | elapsed:   19.6s finished\n"
     ]
    },
    {
     "name": "stdout",
     "output_type": "stream",
     "text": [
      "best score: 0.675\n",
      "Fitting 10 folds for each of 12 candidates, totalling 120 fits\n"
     ]
    },
    {
     "name": "stderr",
     "output_type": "stream",
     "text": [
      "[Parallel(n_jobs=1)]: Using backend SequentialBackend with 1 concurrent workers.\n",
      "[Parallel(n_jobs=1)]: Done 120 out of 120 | elapsed:   15.9s finished\n"
     ]
    },
    {
     "name": "stdout",
     "output_type": "stream",
     "text": [
      "best score: 0.675\n",
      "Fitting 10 folds for each of 12 candidates, totalling 120 fits\n"
     ]
    },
    {
     "name": "stderr",
     "output_type": "stream",
     "text": [
      "[Parallel(n_jobs=1)]: Using backend SequentialBackend with 1 concurrent workers.\n",
      "[Parallel(n_jobs=1)]: Done 120 out of 120 | elapsed:   14.2s finished\n"
     ]
    },
    {
     "name": "stdout",
     "output_type": "stream",
     "text": [
      "best score: 0.675\n",
      "Fitting 10 folds for each of 12 candidates, totalling 120 fits\n"
     ]
    },
    {
     "name": "stderr",
     "output_type": "stream",
     "text": [
      "[Parallel(n_jobs=1)]: Using backend SequentialBackend with 1 concurrent workers.\n",
      "[Parallel(n_jobs=1)]: Done 120 out of 120 | elapsed:   16.9s finished\n"
     ]
    },
    {
     "name": "stdout",
     "output_type": "stream",
     "text": [
      "best score: 0.675\n",
      "Fitting 10 folds for each of 12 candidates, totalling 120 fits\n"
     ]
    },
    {
     "name": "stderr",
     "output_type": "stream",
     "text": [
      "[Parallel(n_jobs=1)]: Using backend SequentialBackend with 1 concurrent workers.\n",
      "[Parallel(n_jobs=1)]: Done 120 out of 120 | elapsed:   14.8s finished\n"
     ]
    },
    {
     "name": "stdout",
     "output_type": "stream",
     "text": [
      "best score: 0.675\n",
      "Split: 1\n",
      "Split: 2\n",
      "Split: 3\n",
      "Split: 4\n",
      "Split: 5\n",
      "Split: 6\n",
      "Split: 7\n",
      "Split: 8\n",
      "Split: 9\n",
      "Split: 10\n",
      "Training Testing Accuracy for n_games=4 team=3 : 68.56% (2.38%)\n",
      "(183, 758)\n",
      "(183, 1)\n",
      "X_train shape: (164, 1286)\n",
      "X_test shape: (19, 1286)\n",
      "Fitting 10 folds for each of 12 candidates, totalling 120 fits\n"
     ]
    },
    {
     "name": "stderr",
     "output_type": "stream",
     "text": [
      "[Parallel(n_jobs=1)]: Using backend SequentialBackend with 1 concurrent workers.\n",
      "[Parallel(n_jobs=1)]: Done 120 out of 120 | elapsed:   19.8s finished\n"
     ]
    },
    {
     "name": "stdout",
     "output_type": "stream",
     "text": [
      "best score: 0.5792682926829268\n",
      "Fitting 10 folds for each of 12 candidates, totalling 120 fits\n"
     ]
    },
    {
     "name": "stderr",
     "output_type": "stream",
     "text": [
      "[Parallel(n_jobs=1)]: Using backend SequentialBackend with 1 concurrent workers.\n",
      "[Parallel(n_jobs=1)]: Done 120 out of 120 | elapsed:   16.3s finished\n"
     ]
    },
    {
     "name": "stdout",
     "output_type": "stream",
     "text": [
      "best score: 0.5792682926829268\n",
      "Fitting 10 folds for each of 12 candidates, totalling 120 fits\n"
     ]
    },
    {
     "name": "stderr",
     "output_type": "stream",
     "text": [
      "[Parallel(n_jobs=1)]: Using backend SequentialBackend with 1 concurrent workers.\n",
      "[Parallel(n_jobs=1)]: Done 120 out of 120 | elapsed:   22.9s finished\n"
     ]
    },
    {
     "name": "stdout",
     "output_type": "stream",
     "text": [
      "best score: 0.5792682926829268\n",
      "Fitting 10 folds for each of 12 candidates, totalling 120 fits\n"
     ]
    },
    {
     "name": "stderr",
     "output_type": "stream",
     "text": [
      "[Parallel(n_jobs=1)]: Using backend SequentialBackend with 1 concurrent workers.\n",
      "[Parallel(n_jobs=1)]: Done 120 out of 120 | elapsed:   50.6s finished\n"
     ]
    },
    {
     "name": "stdout",
     "output_type": "stream",
     "text": [
      "best score: 0.6036585365853658\n",
      "Fitting 10 folds for each of 12 candidates, totalling 120 fits\n"
     ]
    },
    {
     "name": "stderr",
     "output_type": "stream",
     "text": [
      "[Parallel(n_jobs=1)]: Using backend SequentialBackend with 1 concurrent workers.\n",
      "[Parallel(n_jobs=1)]: Done 120 out of 120 | elapsed:  1.6min finished\n"
     ]
    },
    {
     "name": "stdout",
     "output_type": "stream",
     "text": [
      "best score: 0.6097560975609756\n",
      "Split: 1\n",
      "Split: 2\n",
      "Split: 3\n",
      "Split: 4\n",
      "Split: 5\n",
      "Split: 6\n",
      "Split: 7\n",
      "Split: 8\n",
      "Split: 9\n",
      "Split: 10\n",
      "Training Testing Accuracy for n_games=4 team=4 : 49.71% (6.39%)\n",
      "(180, 758)\n",
      "(180, 1)\n",
      "X_train shape: (162, 1278)\n",
      "X_test shape: (18, 1278)\n",
      "Fitting 10 folds for each of 12 candidates, totalling 120 fits\n"
     ]
    },
    {
     "name": "stderr",
     "output_type": "stream",
     "text": [
      "[Parallel(n_jobs=1)]: Using backend SequentialBackend with 1 concurrent workers.\n",
      "[Parallel(n_jobs=1)]: Done 120 out of 120 | elapsed:   19.5s finished\n"
     ]
    },
    {
     "name": "stdout",
     "output_type": "stream",
     "text": [
      "best score: 0.5740740740740741\n",
      "Fitting 10 folds for each of 12 candidates, totalling 120 fits\n"
     ]
    },
    {
     "name": "stderr",
     "output_type": "stream",
     "text": [
      "[Parallel(n_jobs=1)]: Using backend SequentialBackend with 1 concurrent workers.\n",
      "[Parallel(n_jobs=1)]: Done 120 out of 120 | elapsed:   16.0s finished\n"
     ]
    },
    {
     "name": "stdout",
     "output_type": "stream",
     "text": [
      "best score: 0.5925925925925926\n",
      "Fitting 10 folds for each of 12 candidates, totalling 120 fits\n"
     ]
    },
    {
     "name": "stderr",
     "output_type": "stream",
     "text": [
      "[Parallel(n_jobs=1)]: Using backend SequentialBackend with 1 concurrent workers.\n",
      "[Parallel(n_jobs=1)]: Done 120 out of 120 | elapsed:   15.0s finished\n"
     ]
    },
    {
     "name": "stdout",
     "output_type": "stream",
     "text": [
      "best score: 0.5925925925925926\n",
      "Fitting 10 folds for each of 12 candidates, totalling 120 fits\n"
     ]
    },
    {
     "name": "stderr",
     "output_type": "stream",
     "text": [
      "[Parallel(n_jobs=1)]: Using backend SequentialBackend with 1 concurrent workers.\n",
      "[Parallel(n_jobs=1)]: Done 120 out of 120 | elapsed:   15.9s finished\n"
     ]
    },
    {
     "name": "stdout",
     "output_type": "stream",
     "text": [
      "best score: 0.5925925925925926\n",
      "Fitting 10 folds for each of 12 candidates, totalling 120 fits\n"
     ]
    },
    {
     "name": "stderr",
     "output_type": "stream",
     "text": [
      "[Parallel(n_jobs=1)]: Using backend SequentialBackend with 1 concurrent workers.\n",
      "[Parallel(n_jobs=1)]: Done 120 out of 120 | elapsed:   16.5s finished\n"
     ]
    },
    {
     "name": "stdout",
     "output_type": "stream",
     "text": [
      "best score: 0.5925925925925926\n",
      "Split: 1\n",
      "Split: 2\n",
      "Split: 3\n",
      "Split: 4\n",
      "Split: 5\n",
      "Split: 6\n",
      "Split: 7\n",
      "Split: 8\n",
      "Split: 9\n",
      "Split: 10\n",
      "Training Testing Accuracy for n_games=4 team=5 : 53.89% (11.67%)\n",
      "(183, 758)\n",
      "(183, 1)\n",
      "X_train shape: (164, 1297)\n",
      "X_test shape: (19, 1297)\n",
      "Fitting 10 folds for each of 12 candidates, totalling 120 fits\n"
     ]
    },
    {
     "name": "stderr",
     "output_type": "stream",
     "text": [
      "[Parallel(n_jobs=1)]: Using backend SequentialBackend with 1 concurrent workers.\n",
      "[Parallel(n_jobs=1)]: Done 120 out of 120 | elapsed:   20.0s finished\n"
     ]
    },
    {
     "name": "stdout",
     "output_type": "stream",
     "text": [
      "best score: 0.5670731707317073\n",
      "Fitting 10 folds for each of 12 candidates, totalling 120 fits\n"
     ]
    },
    {
     "name": "stderr",
     "output_type": "stream",
     "text": [
      "[Parallel(n_jobs=1)]: Using backend SequentialBackend with 1 concurrent workers.\n",
      "[Parallel(n_jobs=1)]: Done 120 out of 120 | elapsed:   29.9s finished\n"
     ]
    },
    {
     "name": "stdout",
     "output_type": "stream",
     "text": [
      "best score: 0.573170731707317\n",
      "Fitting 10 folds for each of 12 candidates, totalling 120 fits\n"
     ]
    },
    {
     "name": "stderr",
     "output_type": "stream",
     "text": [
      "[Parallel(n_jobs=1)]: Using backend SequentialBackend with 1 concurrent workers.\n",
      "[Parallel(n_jobs=1)]: Done 120 out of 120 | elapsed:   20.5s finished\n"
     ]
    },
    {
     "name": "stdout",
     "output_type": "stream",
     "text": [
      "best score: 0.573170731707317\n",
      "Fitting 10 folds for each of 12 candidates, totalling 120 fits\n"
     ]
    },
    {
     "name": "stderr",
     "output_type": "stream",
     "text": [
      "[Parallel(n_jobs=1)]: Using backend SequentialBackend with 1 concurrent workers.\n",
      "[Parallel(n_jobs=1)]: Done 120 out of 120 | elapsed:   23.7s finished\n"
     ]
    },
    {
     "name": "stdout",
     "output_type": "stream",
     "text": [
      "best score: 0.573170731707317\n",
      "Fitting 10 folds for each of 12 candidates, totalling 120 fits\n"
     ]
    },
    {
     "name": "stderr",
     "output_type": "stream",
     "text": [
      "[Parallel(n_jobs=1)]: Using backend SequentialBackend with 1 concurrent workers.\n",
      "[Parallel(n_jobs=1)]: Done 120 out of 120 | elapsed:   22.2s finished\n"
     ]
    },
    {
     "name": "stdout",
     "output_type": "stream",
     "text": [
      "best score: 0.573170731707317\n",
      "Split: 1\n",
      "Split: 2\n",
      "Split: 3\n",
      "Split: 4\n",
      "Split: 5\n",
      "Split: 6\n",
      "Split: 7\n",
      "Split: 8\n",
      "Split: 9\n",
      "Split: 10\n",
      "Training Testing Accuracy for n_games=4 team=6 : 54.09% (8.89%)\n",
      "(192, 758)\n",
      "(192, 1)\n",
      "X_train shape: (172, 1287)\n",
      "X_test shape: (20, 1287)\n",
      "Fitting 10 folds for each of 12 candidates, totalling 120 fits\n"
     ]
    },
    {
     "name": "stderr",
     "output_type": "stream",
     "text": [
      "[Parallel(n_jobs=1)]: Using backend SequentialBackend with 1 concurrent workers.\n",
      "[Parallel(n_jobs=1)]: Done 120 out of 120 | elapsed:   20.0s finished\n"
     ]
    },
    {
     "name": "stdout",
     "output_type": "stream",
     "text": [
      "best score: 0.6802325581395349\n",
      "Fitting 10 folds for each of 12 candidates, totalling 120 fits\n"
     ]
    },
    {
     "name": "stderr",
     "output_type": "stream",
     "text": [
      "[Parallel(n_jobs=1)]: Using backend SequentialBackend with 1 concurrent workers.\n",
      "[Parallel(n_jobs=1)]: Done 120 out of 120 | elapsed:   16.9s finished\n"
     ]
    },
    {
     "name": "stdout",
     "output_type": "stream",
     "text": [
      "best score: 0.6802325581395349\n",
      "Fitting 10 folds for each of 12 candidates, totalling 120 fits\n"
     ]
    },
    {
     "name": "stderr",
     "output_type": "stream",
     "text": [
      "[Parallel(n_jobs=1)]: Using backend SequentialBackend with 1 concurrent workers.\n",
      "[Parallel(n_jobs=1)]: Done 120 out of 120 | elapsed:   43.1s finished\n"
     ]
    },
    {
     "name": "stdout",
     "output_type": "stream",
     "text": [
      "best score: 0.6802325581395349\n",
      "Fitting 10 folds for each of 12 candidates, totalling 120 fits\n"
     ]
    },
    {
     "name": "stderr",
     "output_type": "stream",
     "text": [
      "[Parallel(n_jobs=1)]: Using backend SequentialBackend with 1 concurrent workers.\n",
      "[Parallel(n_jobs=1)]: Done 120 out of 120 | elapsed:   21.2s finished\n"
     ]
    },
    {
     "name": "stdout",
     "output_type": "stream",
     "text": [
      "best score: 0.6802325581395349\n",
      "Fitting 10 folds for each of 12 candidates, totalling 120 fits\n"
     ]
    },
    {
     "name": "stderr",
     "output_type": "stream",
     "text": [
      "[Parallel(n_jobs=1)]: Using backend SequentialBackend with 1 concurrent workers.\n",
      "[Parallel(n_jobs=1)]: Done 120 out of 120 | elapsed:   18.0s finished\n"
     ]
    },
    {
     "name": "stdout",
     "output_type": "stream",
     "text": [
      "best score: 0.6802325581395349\n",
      "Split: 1\n",
      "Split: 2\n",
      "Split: 3\n",
      "Split: 4\n",
      "Split: 5\n",
      "Split: 6\n",
      "Split: 7\n",
      "Split: 8\n",
      "Split: 9\n",
      "Split: 10\n",
      "Training Testing Accuracy for n_games=4 team=7 : 63.50% (4.93%)\n",
      "(176, 758)\n",
      "(176, 1)\n",
      "X_train shape: (158, 1293)\n",
      "X_test shape: (18, 1293)\n",
      "Fitting 10 folds for each of 12 candidates, totalling 120 fits\n"
     ]
    },
    {
     "name": "stderr",
     "output_type": "stream",
     "text": [
      "[Parallel(n_jobs=1)]: Using backend SequentialBackend with 1 concurrent workers.\n",
      "[Parallel(n_jobs=1)]: Done 120 out of 120 | elapsed:   19.8s finished\n"
     ]
    },
    {
     "name": "stdout",
     "output_type": "stream",
     "text": [
      "best score: 0.7151898734177216\n",
      "Fitting 10 folds for each of 12 candidates, totalling 120 fits\n"
     ]
    },
    {
     "name": "stderr",
     "output_type": "stream",
     "text": [
      "[Parallel(n_jobs=1)]: Using backend SequentialBackend with 1 concurrent workers.\n",
      "[Parallel(n_jobs=1)]: Done 120 out of 120 | elapsed:   25.8s finished\n"
     ]
    },
    {
     "name": "stdout",
     "output_type": "stream",
     "text": [
      "best score: 0.7151898734177216\n",
      "Fitting 10 folds for each of 12 candidates, totalling 120 fits\n"
     ]
    },
    {
     "name": "stderr",
     "output_type": "stream",
     "text": [
      "[Parallel(n_jobs=1)]: Using backend SequentialBackend with 1 concurrent workers.\n",
      "[Parallel(n_jobs=1)]: Done 120 out of 120 | elapsed:   16.5s finished\n"
     ]
    },
    {
     "name": "stdout",
     "output_type": "stream",
     "text": [
      "best score: 0.7151898734177216\n",
      "Fitting 10 folds for each of 12 candidates, totalling 120 fits\n"
     ]
    },
    {
     "name": "stderr",
     "output_type": "stream",
     "text": [
      "[Parallel(n_jobs=1)]: Using backend SequentialBackend with 1 concurrent workers.\n",
      "[Parallel(n_jobs=1)]: Done 120 out of 120 | elapsed:   17.2s finished\n"
     ]
    },
    {
     "name": "stdout",
     "output_type": "stream",
     "text": [
      "best score: 0.7151898734177216\n",
      "Fitting 10 folds for each of 12 candidates, totalling 120 fits\n"
     ]
    },
    {
     "name": "stderr",
     "output_type": "stream",
     "text": [
      "[Parallel(n_jobs=1)]: Using backend SequentialBackend with 1 concurrent workers.\n",
      "[Parallel(n_jobs=1)]: Done 120 out of 120 | elapsed:   22.7s finished\n"
     ]
    },
    {
     "name": "stdout",
     "output_type": "stream",
     "text": [
      "best score: 0.7151898734177216\n",
      "Split: 1\n",
      "Split: 2\n",
      "Split: 3\n",
      "Split: 4\n",
      "Split: 5\n",
      "Split: 6\n",
      "Split: 7\n",
      "Split: 8\n",
      "Split: 9\n",
      "Split: 10\n",
      "Training Testing Accuracy for n_games=4 team=8 : 72.19% (4.59%)\n",
      "(189, 758)\n",
      "(189, 1)\n",
      "X_train shape: (170, 1300)\n",
      "X_test shape: (19, 1300)\n",
      "Fitting 10 folds for each of 12 candidates, totalling 120 fits\n"
     ]
    },
    {
     "name": "stderr",
     "output_type": "stream",
     "text": [
      "[Parallel(n_jobs=1)]: Using backend SequentialBackend with 1 concurrent workers.\n",
      "[Parallel(n_jobs=1)]: Done 120 out of 120 | elapsed:   20.1s finished\n"
     ]
    },
    {
     "name": "stdout",
     "output_type": "stream",
     "text": [
      "best score: 0.5941176470588235\n",
      "Fitting 10 folds for each of 12 candidates, totalling 120 fits\n"
     ]
    },
    {
     "name": "stderr",
     "output_type": "stream",
     "text": [
      "[Parallel(n_jobs=1)]: Using backend SequentialBackend with 1 concurrent workers.\n",
      "[Parallel(n_jobs=1)]: Done 120 out of 120 | elapsed:   16.3s finished\n"
     ]
    },
    {
     "name": "stdout",
     "output_type": "stream",
     "text": [
      "best score: 0.5941176470588235\n",
      "Fitting 10 folds for each of 12 candidates, totalling 120 fits\n"
     ]
    },
    {
     "name": "stderr",
     "output_type": "stream",
     "text": [
      "[Parallel(n_jobs=1)]: Using backend SequentialBackend with 1 concurrent workers.\n",
      "[Parallel(n_jobs=1)]: Done 120 out of 120 | elapsed:   22.3s finished\n"
     ]
    },
    {
     "name": "stdout",
     "output_type": "stream",
     "text": [
      "best score: 0.6058823529411764\n",
      "Fitting 10 folds for each of 12 candidates, totalling 120 fits\n"
     ]
    },
    {
     "name": "stderr",
     "output_type": "stream",
     "text": [
      "[Parallel(n_jobs=1)]: Using backend SequentialBackend with 1 concurrent workers.\n",
      "[Parallel(n_jobs=1)]: Done 120 out of 120 | elapsed:   21.0s finished\n"
     ]
    },
    {
     "name": "stdout",
     "output_type": "stream",
     "text": [
      "best score: 0.6058823529411764\n",
      "Fitting 10 folds for each of 12 candidates, totalling 120 fits\n"
     ]
    },
    {
     "name": "stderr",
     "output_type": "stream",
     "text": [
      "[Parallel(n_jobs=1)]: Using backend SequentialBackend with 1 concurrent workers.\n",
      "[Parallel(n_jobs=1)]: Done 120 out of 120 | elapsed:   18.0s finished\n"
     ]
    },
    {
     "name": "stdout",
     "output_type": "stream",
     "text": [
      "best score: 0.6058823529411764\n",
      "Split: 1\n",
      "Split: 2\n",
      "Split: 3\n",
      "Split: 4\n",
      "Split: 5\n",
      "Split: 6\n",
      "Split: 7\n",
      "Split: 8\n",
      "Split: 9\n",
      "Split: 10\n",
      "Training Testing Accuracy for n_games=4 team=9 : 60.32% (10.29%)\n",
      "(190, 758)\n",
      "(190, 1)\n",
      "X_train shape: (171, 1293)\n",
      "X_test shape: (19, 1293)\n",
      "Fitting 10 folds for each of 12 candidates, totalling 120 fits\n"
     ]
    },
    {
     "name": "stderr",
     "output_type": "stream",
     "text": [
      "[Parallel(n_jobs=1)]: Using backend SequentialBackend with 1 concurrent workers.\n",
      "[Parallel(n_jobs=1)]: Done 120 out of 120 | elapsed:   19.8s finished\n"
     ]
    },
    {
     "name": "stdout",
     "output_type": "stream",
     "text": [
      "best score: 0.6491228070175439\n",
      "Fitting 10 folds for each of 12 candidates, totalling 120 fits\n"
     ]
    },
    {
     "name": "stderr",
     "output_type": "stream",
     "text": [
      "[Parallel(n_jobs=1)]: Using backend SequentialBackend with 1 concurrent workers.\n",
      "[Parallel(n_jobs=1)]: Done 120 out of 120 | elapsed:   23.2s finished\n"
     ]
    },
    {
     "name": "stdout",
     "output_type": "stream",
     "text": [
      "best score: 0.6491228070175439\n",
      "Fitting 10 folds for each of 12 candidates, totalling 120 fits\n"
     ]
    },
    {
     "name": "stderr",
     "output_type": "stream",
     "text": [
      "[Parallel(n_jobs=1)]: Using backend SequentialBackend with 1 concurrent workers.\n",
      "[Parallel(n_jobs=1)]: Done 120 out of 120 | elapsed:   16.3s finished\n"
     ]
    },
    {
     "name": "stdout",
     "output_type": "stream",
     "text": [
      "best score: 0.6608187134502924\n",
      "Fitting 10 folds for each of 12 candidates, totalling 120 fits\n"
     ]
    },
    {
     "name": "stderr",
     "output_type": "stream",
     "text": [
      "[Parallel(n_jobs=1)]: Using backend SequentialBackend with 1 concurrent workers.\n",
      "[Parallel(n_jobs=1)]: Done 120 out of 120 | elapsed:   17.1s finished\n"
     ]
    },
    {
     "name": "stdout",
     "output_type": "stream",
     "text": [
      "best score: 0.6608187134502924\n",
      "Fitting 10 folds for each of 12 candidates, totalling 120 fits\n"
     ]
    },
    {
     "name": "stderr",
     "output_type": "stream",
     "text": [
      "[Parallel(n_jobs=1)]: Using backend SequentialBackend with 1 concurrent workers.\n",
      "[Parallel(n_jobs=1)]: Done 120 out of 120 | elapsed:   13.2s finished\n"
     ]
    },
    {
     "name": "stdout",
     "output_type": "stream",
     "text": [
      "best score: 0.6608187134502924\n",
      "Split: 1\n",
      "Split: 2\n",
      "Split: 3\n",
      "Split: 4\n",
      "Split: 5\n",
      "Split: 6\n",
      "Split: 7\n",
      "Split: 8\n",
      "Split: 9\n",
      "Split: 10\n",
      "Training Testing Accuracy for n_games=4 team=10 : 66.32% (4.82%)\n",
      "(182, 758)\n",
      "(182, 1)\n",
      "X_train shape: (163, 1296)\n",
      "X_test shape: (19, 1296)\n",
      "Fitting 10 folds for each of 12 candidates, totalling 120 fits\n"
     ]
    },
    {
     "name": "stderr",
     "output_type": "stream",
     "text": [
      "[Parallel(n_jobs=1)]: Using backend SequentialBackend with 1 concurrent workers.\n",
      "[Parallel(n_jobs=1)]: Done 120 out of 120 | elapsed:   19.8s finished\n"
     ]
    },
    {
     "name": "stdout",
     "output_type": "stream",
     "text": [
      "best score: 0.6134969325153374\n",
      "Fitting 10 folds for each of 12 candidates, totalling 120 fits\n"
     ]
    },
    {
     "name": "stderr",
     "output_type": "stream",
     "text": [
      "[Parallel(n_jobs=1)]: Using backend SequentialBackend with 1 concurrent workers.\n",
      "[Parallel(n_jobs=1)]: Done 120 out of 120 | elapsed:   22.0s finished\n"
     ]
    },
    {
     "name": "stdout",
     "output_type": "stream",
     "text": [
      "best score: 0.6134969325153374\n",
      "Fitting 10 folds for each of 12 candidates, totalling 120 fits\n"
     ]
    },
    {
     "name": "stderr",
     "output_type": "stream",
     "text": [
      "[Parallel(n_jobs=1)]: Using backend SequentialBackend with 1 concurrent workers.\n",
      "[Parallel(n_jobs=1)]: Done 120 out of 120 | elapsed:   16.9s finished\n"
     ]
    },
    {
     "name": "stdout",
     "output_type": "stream",
     "text": [
      "best score: 0.6134969325153374\n",
      "Fitting 10 folds for each of 12 candidates, totalling 120 fits\n"
     ]
    },
    {
     "name": "stderr",
     "output_type": "stream",
     "text": [
      "[Parallel(n_jobs=1)]: Using backend SequentialBackend with 1 concurrent workers.\n",
      "[Parallel(n_jobs=1)]: Done 120 out of 120 | elapsed:   17.8s finished\n"
     ]
    },
    {
     "name": "stdout",
     "output_type": "stream",
     "text": [
      "best score: 0.6134969325153374\n",
      "Fitting 10 folds for each of 12 candidates, totalling 120 fits\n"
     ]
    },
    {
     "name": "stderr",
     "output_type": "stream",
     "text": [
      "[Parallel(n_jobs=1)]: Using backend SequentialBackend with 1 concurrent workers.\n",
      "[Parallel(n_jobs=1)]: Done 120 out of 120 | elapsed:   19.2s finished\n"
     ]
    },
    {
     "name": "stdout",
     "output_type": "stream",
     "text": [
      "best score: 0.6503067484662577\n",
      "Split: 1\n",
      "Split: 2\n",
      "Split: 3\n",
      "Split: 4\n",
      "Split: 5\n",
      "Split: 6\n",
      "Split: 7\n",
      "Split: 8\n",
      "Split: 9\n",
      "Split: 10\n",
      "Training Testing Accuracy for n_games=4 team=11 : 62.08% (12.01%)\n",
      "(183, 758)\n",
      "(183, 1)\n",
      "X_train shape: (164, 1289)\n",
      "X_test shape: (19, 1289)\n",
      "Fitting 10 folds for each of 12 candidates, totalling 120 fits\n"
     ]
    },
    {
     "name": "stderr",
     "output_type": "stream",
     "text": [
      "[Parallel(n_jobs=1)]: Using backend SequentialBackend with 1 concurrent workers.\n",
      "[Parallel(n_jobs=1)]: Done 120 out of 120 | elapsed:   20.1s finished\n"
     ]
    },
    {
     "name": "stdout",
     "output_type": "stream",
     "text": [
      "best score: 0.5670731707317073\n",
      "Fitting 10 folds for each of 12 candidates, totalling 120 fits\n"
     ]
    },
    {
     "name": "stderr",
     "output_type": "stream",
     "text": [
      "[Parallel(n_jobs=1)]: Using backend SequentialBackend with 1 concurrent workers.\n",
      "[Parallel(n_jobs=1)]: Done 120 out of 120 | elapsed:   17.2s finished\n"
     ]
    },
    {
     "name": "stdout",
     "output_type": "stream",
     "text": [
      "best score: 0.5670731707317073\n",
      "Fitting 10 folds for each of 12 candidates, totalling 120 fits\n"
     ]
    },
    {
     "name": "stderr",
     "output_type": "stream",
     "text": [
      "[Parallel(n_jobs=1)]: Using backend SequentialBackend with 1 concurrent workers.\n",
      "[Parallel(n_jobs=1)]: Done 120 out of 120 | elapsed:   18.1s finished\n"
     ]
    },
    {
     "name": "stdout",
     "output_type": "stream",
     "text": [
      "best score: 0.5670731707317073\n",
      "Fitting 10 folds for each of 12 candidates, totalling 120 fits\n"
     ]
    },
    {
     "name": "stderr",
     "output_type": "stream",
     "text": [
      "[Parallel(n_jobs=1)]: Using backend SequentialBackend with 1 concurrent workers.\n",
      "[Parallel(n_jobs=1)]: Done 120 out of 120 | elapsed:   31.5s finished\n"
     ]
    },
    {
     "name": "stdout",
     "output_type": "stream",
     "text": [
      "best score: 0.5670731707317073\n",
      "Fitting 10 folds for each of 12 candidates, totalling 120 fits\n"
     ]
    },
    {
     "name": "stderr",
     "output_type": "stream",
     "text": [
      "[Parallel(n_jobs=1)]: Using backend SequentialBackend with 1 concurrent workers.\n",
      "[Parallel(n_jobs=1)]: Done 120 out of 120 | elapsed:   14.4s finished\n"
     ]
    },
    {
     "name": "stdout",
     "output_type": "stream",
     "text": [
      "best score: 0.5670731707317073\n",
      "Split: 1\n",
      "Split: 2\n",
      "Split: 3\n",
      "Split: 4\n",
      "Split: 5\n",
      "Split: 6\n",
      "Split: 7\n",
      "Split: 8\n",
      "Split: 9\n",
      "Split: 10\n",
      "Training Testing Accuracy for n_games=4 team=12 : 53.01% (2.31%)\n",
      "(184, 758)\n",
      "(184, 1)\n",
      "X_train shape: (165, 1305)\n",
      "X_test shape: (19, 1305)\n",
      "Fitting 10 folds for each of 12 candidates, totalling 120 fits\n"
     ]
    },
    {
     "name": "stderr",
     "output_type": "stream",
     "text": [
      "[Parallel(n_jobs=1)]: Using backend SequentialBackend with 1 concurrent workers.\n",
      "[Parallel(n_jobs=1)]: Done 120 out of 120 | elapsed:   20.4s finished\n"
     ]
    },
    {
     "name": "stdout",
     "output_type": "stream",
     "text": [
      "best score: 0.6181818181818182\n",
      "Fitting 10 folds for each of 12 candidates, totalling 120 fits\n"
     ]
    },
    {
     "name": "stderr",
     "output_type": "stream",
     "text": [
      "[Parallel(n_jobs=1)]: Using backend SequentialBackend with 1 concurrent workers.\n",
      "[Parallel(n_jobs=1)]: Done 120 out of 120 | elapsed:   17.1s finished\n"
     ]
    },
    {
     "name": "stdout",
     "output_type": "stream",
     "text": [
      "best score: 0.6181818181818182\n",
      "Fitting 10 folds for each of 12 candidates, totalling 120 fits\n"
     ]
    },
    {
     "name": "stderr",
     "output_type": "stream",
     "text": [
      "[Parallel(n_jobs=1)]: Using backend SequentialBackend with 1 concurrent workers.\n",
      "[Parallel(n_jobs=1)]: Done 120 out of 120 | elapsed:   19.0s finished\n"
     ]
    },
    {
     "name": "stdout",
     "output_type": "stream",
     "text": [
      "best score: 0.6181818181818182\n",
      "Fitting 10 folds for each of 12 candidates, totalling 120 fits\n"
     ]
    },
    {
     "name": "stderr",
     "output_type": "stream",
     "text": [
      "[Parallel(n_jobs=1)]: Using backend SequentialBackend with 1 concurrent workers.\n",
      "[Parallel(n_jobs=1)]: Done 120 out of 120 | elapsed:   21.0s finished\n"
     ]
    },
    {
     "name": "stdout",
     "output_type": "stream",
     "text": [
      "best score: 0.6181818181818182\n",
      "Fitting 10 folds for each of 12 candidates, totalling 120 fits\n"
     ]
    },
    {
     "name": "stderr",
     "output_type": "stream",
     "text": [
      "[Parallel(n_jobs=1)]: Using backend SequentialBackend with 1 concurrent workers.\n",
      "[Parallel(n_jobs=1)]: Done 120 out of 120 | elapsed:   23.8s finished\n"
     ]
    },
    {
     "name": "stdout",
     "output_type": "stream",
     "text": [
      "best score: 0.6545454545454545\n",
      "Split: 1\n",
      "Split: 2\n",
      "Split: 3\n",
      "Split: 4\n",
      "Split: 5\n",
      "Split: 6\n",
      "Split: 7\n",
      "Split: 8\n",
      "Split: 9\n",
      "Split: 10\n",
      "Training Testing Accuracy for n_games=4 team=13 : 62.87% (12.55%)\n",
      "(187, 758)\n",
      "(187, 1)\n",
      "X_train shape: (168, 1292)\n",
      "X_test shape: (19, 1292)\n",
      "Fitting 10 folds for each of 12 candidates, totalling 120 fits\n"
     ]
    },
    {
     "name": "stderr",
     "output_type": "stream",
     "text": [
      "[Parallel(n_jobs=1)]: Using backend SequentialBackend with 1 concurrent workers.\n",
      "[Parallel(n_jobs=1)]: Done 120 out of 120 | elapsed:   20.0s finished\n"
     ]
    },
    {
     "name": "stdout",
     "output_type": "stream",
     "text": [
      "best score: 0.6547619047619048\n",
      "Fitting 10 folds for each of 12 candidates, totalling 120 fits\n"
     ]
    },
    {
     "name": "stderr",
     "output_type": "stream",
     "text": [
      "[Parallel(n_jobs=1)]: Using backend SequentialBackend with 1 concurrent workers.\n",
      "[Parallel(n_jobs=1)]: Done 120 out of 120 | elapsed:   21.7s finished\n"
     ]
    },
    {
     "name": "stdout",
     "output_type": "stream",
     "text": [
      "best score: 0.6547619047619048\n",
      "Fitting 10 folds for each of 12 candidates, totalling 120 fits\n"
     ]
    },
    {
     "name": "stderr",
     "output_type": "stream",
     "text": [
      "[Parallel(n_jobs=1)]: Using backend SequentialBackend with 1 concurrent workers.\n",
      "[Parallel(n_jobs=1)]: Done 120 out of 120 | elapsed:   15.6s finished\n"
     ]
    },
    {
     "name": "stdout",
     "output_type": "stream",
     "text": [
      "best score: 0.6547619047619048\n",
      "Fitting 10 folds for each of 12 candidates, totalling 120 fits\n"
     ]
    },
    {
     "name": "stderr",
     "output_type": "stream",
     "text": [
      "[Parallel(n_jobs=1)]: Using backend SequentialBackend with 1 concurrent workers.\n",
      "[Parallel(n_jobs=1)]: Done 120 out of 120 | elapsed:   19.3s finished\n"
     ]
    },
    {
     "name": "stdout",
     "output_type": "stream",
     "text": [
      "best score: 0.6547619047619048\n",
      "Fitting 10 folds for each of 12 candidates, totalling 120 fits\n"
     ]
    },
    {
     "name": "stderr",
     "output_type": "stream",
     "text": [
      "[Parallel(n_jobs=1)]: Using backend SequentialBackend with 1 concurrent workers.\n",
      "[Parallel(n_jobs=1)]: Done 120 out of 120 | elapsed:   16.7s finished\n"
     ]
    },
    {
     "name": "stdout",
     "output_type": "stream",
     "text": [
      "best score: 0.6547619047619048\n",
      "Split: 1\n",
      "Split: 2\n",
      "Split: 3\n",
      "Split: 4\n",
      "Split: 5\n",
      "Split: 6\n",
      "Split: 7\n",
      "Split: 8\n",
      "Split: 9\n",
      "Split: 10\n",
      "Training Testing Accuracy for n_games=4 team=14 : 58.80% (5.50%)\n",
      "(176, 758)\n",
      "(176, 1)\n",
      "X_train shape: (158, 1289)\n",
      "X_test shape: (18, 1289)\n",
      "Fitting 10 folds for each of 12 candidates, totalling 120 fits\n"
     ]
    },
    {
     "name": "stderr",
     "output_type": "stream",
     "text": [
      "[Parallel(n_jobs=1)]: Using backend SequentialBackend with 1 concurrent workers.\n",
      "[Parallel(n_jobs=1)]: Done 120 out of 120 | elapsed:   19.8s finished\n"
     ]
    },
    {
     "name": "stdout",
     "output_type": "stream",
     "text": [
      "best score: 0.6265822784810127\n",
      "Fitting 10 folds for each of 12 candidates, totalling 120 fits\n"
     ]
    },
    {
     "name": "stderr",
     "output_type": "stream",
     "text": [
      "[Parallel(n_jobs=1)]: Using backend SequentialBackend with 1 concurrent workers.\n",
      "[Parallel(n_jobs=1)]: Done 120 out of 120 | elapsed:   17.6s finished\n"
     ]
    },
    {
     "name": "stdout",
     "output_type": "stream",
     "text": [
      "best score: 0.6265822784810127\n",
      "Fitting 10 folds for each of 12 candidates, totalling 120 fits\n"
     ]
    },
    {
     "name": "stderr",
     "output_type": "stream",
     "text": [
      "[Parallel(n_jobs=1)]: Using backend SequentialBackend with 1 concurrent workers.\n",
      "[Parallel(n_jobs=1)]: Done 120 out of 120 | elapsed:   14.4s finished\n"
     ]
    },
    {
     "name": "stdout",
     "output_type": "stream",
     "text": [
      "best score: 0.6329113924050633\n",
      "Fitting 10 folds for each of 12 candidates, totalling 120 fits\n"
     ]
    },
    {
     "name": "stderr",
     "output_type": "stream",
     "text": [
      "[Parallel(n_jobs=1)]: Using backend SequentialBackend with 1 concurrent workers.\n",
      "[Parallel(n_jobs=1)]: Done 120 out of 120 | elapsed:   14.7s finished\n"
     ]
    },
    {
     "name": "stdout",
     "output_type": "stream",
     "text": [
      "best score: 0.6329113924050633\n",
      "Fitting 10 folds for each of 12 candidates, totalling 120 fits\n"
     ]
    },
    {
     "name": "stderr",
     "output_type": "stream",
     "text": [
      "[Parallel(n_jobs=1)]: Using backend SequentialBackend with 1 concurrent workers.\n",
      "[Parallel(n_jobs=1)]: Done 120 out of 120 | elapsed:   17.7s finished\n"
     ]
    },
    {
     "name": "stdout",
     "output_type": "stream",
     "text": [
      "best score: 0.6329113924050633\n",
      "Split: 1\n",
      "Split: 2\n",
      "Split: 3\n",
      "Split: 4\n",
      "Split: 5\n",
      "Split: 6\n",
      "Split: 7\n",
      "Split: 8\n",
      "Split: 9\n",
      "Split: 10\n",
      "Training Testing Accuracy for n_games=4 team=15 : 64.28% (7.98%)\n",
      "(192, 758)\n",
      "(192, 1)\n",
      "X_train shape: (172, 1299)\n",
      "X_test shape: (20, 1299)\n",
      "Fitting 10 folds for each of 12 candidates, totalling 120 fits\n"
     ]
    },
    {
     "name": "stderr",
     "output_type": "stream",
     "text": [
      "[Parallel(n_jobs=1)]: Using backend SequentialBackend with 1 concurrent workers.\n",
      "[Parallel(n_jobs=1)]: Done 120 out of 120 | elapsed:   20.0s finished\n"
     ]
    },
    {
     "name": "stdout",
     "output_type": "stream",
     "text": [
      "best score: 0.6627906976744186\n",
      "Fitting 10 folds for each of 12 candidates, totalling 120 fits\n"
     ]
    },
    {
     "name": "stderr",
     "output_type": "stream",
     "text": [
      "[Parallel(n_jobs=1)]: Using backend SequentialBackend with 1 concurrent workers.\n",
      "[Parallel(n_jobs=1)]: Done 120 out of 120 | elapsed:   38.1s finished\n"
     ]
    },
    {
     "name": "stdout",
     "output_type": "stream",
     "text": [
      "best score: 0.6686046511627907\n",
      "Fitting 10 folds for each of 12 candidates, totalling 120 fits\n"
     ]
    },
    {
     "name": "stderr",
     "output_type": "stream",
     "text": [
      "[Parallel(n_jobs=1)]: Using backend SequentialBackend with 1 concurrent workers.\n",
      "[Parallel(n_jobs=1)]: Done 120 out of 120 | elapsed:   21.2s finished\n"
     ]
    },
    {
     "name": "stdout",
     "output_type": "stream",
     "text": [
      "best score: 0.6686046511627907\n",
      "Fitting 10 folds for each of 12 candidates, totalling 120 fits\n"
     ]
    },
    {
     "name": "stderr",
     "output_type": "stream",
     "text": [
      "[Parallel(n_jobs=1)]: Using backend SequentialBackend with 1 concurrent workers.\n",
      "[Parallel(n_jobs=1)]: Done 120 out of 120 | elapsed:   39.0s finished\n"
     ]
    },
    {
     "name": "stdout",
     "output_type": "stream",
     "text": [
      "best score: 0.6686046511627907\n",
      "Fitting 10 folds for each of 12 candidates, totalling 120 fits\n"
     ]
    },
    {
     "name": "stderr",
     "output_type": "stream",
     "text": [
      "[Parallel(n_jobs=1)]: Using backend SequentialBackend with 1 concurrent workers.\n",
      "[Parallel(n_jobs=1)]: Done 120 out of 120 | elapsed:   18.4s finished\n"
     ]
    },
    {
     "name": "stdout",
     "output_type": "stream",
     "text": [
      "best score: 0.6686046511627907\n",
      "Split: 1\n",
      "Split: 2\n",
      "Split: 3\n",
      "Split: 4\n",
      "Split: 5\n",
      "Split: 6\n",
      "Split: 7\n",
      "Split: 8\n",
      "Split: 9\n",
      "Split: 10\n",
      "Training Testing Accuracy for n_games=4 team=16 : 63.05% (3.12%)\n",
      "(187, 758)\n",
      "(187, 1)\n",
      "X_train shape: (168, 1299)\n",
      "X_test shape: (19, 1299)\n",
      "Fitting 10 folds for each of 12 candidates, totalling 120 fits\n"
     ]
    },
    {
     "name": "stderr",
     "output_type": "stream",
     "text": [
      "[Parallel(n_jobs=1)]: Using backend SequentialBackend with 1 concurrent workers.\n",
      "[Parallel(n_jobs=1)]: Done 120 out of 120 | elapsed:   20.8s finished\n"
     ]
    },
    {
     "name": "stdout",
     "output_type": "stream",
     "text": [
      "best score: 0.6130952380952381\n",
      "Fitting 10 folds for each of 12 candidates, totalling 120 fits\n"
     ]
    },
    {
     "name": "stderr",
     "output_type": "stream",
     "text": [
      "[Parallel(n_jobs=1)]: Using backend SequentialBackend with 1 concurrent workers.\n",
      "[Parallel(n_jobs=1)]: Done 120 out of 120 | elapsed:   18.0s finished\n"
     ]
    },
    {
     "name": "stdout",
     "output_type": "stream",
     "text": [
      "best score: 0.6130952380952381\n",
      "Fitting 10 folds for each of 12 candidates, totalling 120 fits\n"
     ]
    },
    {
     "name": "stderr",
     "output_type": "stream",
     "text": [
      "[Parallel(n_jobs=1)]: Using backend SequentialBackend with 1 concurrent workers.\n",
      "[Parallel(n_jobs=1)]: Done 120 out of 120 | elapsed:   18.3s finished\n"
     ]
    },
    {
     "name": "stdout",
     "output_type": "stream",
     "text": [
      "best score: 0.6369047619047619\n",
      "Fitting 10 folds for each of 12 candidates, totalling 120 fits\n"
     ]
    },
    {
     "name": "stderr",
     "output_type": "stream",
     "text": [
      "[Parallel(n_jobs=1)]: Using backend SequentialBackend with 1 concurrent workers.\n",
      "[Parallel(n_jobs=1)]: Done 120 out of 120 | elapsed:   16.5s finished\n"
     ]
    },
    {
     "name": "stdout",
     "output_type": "stream",
     "text": [
      "best score: 0.6369047619047619\n",
      "Fitting 10 folds for each of 12 candidates, totalling 120 fits\n"
     ]
    },
    {
     "name": "stderr",
     "output_type": "stream",
     "text": [
      "[Parallel(n_jobs=1)]: Using backend SequentialBackend with 1 concurrent workers.\n",
      "[Parallel(n_jobs=1)]: Done 120 out of 120 | elapsed:   41.5s finished\n"
     ]
    },
    {
     "name": "stdout",
     "output_type": "stream",
     "text": [
      "best score: 0.6369047619047619\n",
      "Split: 1\n",
      "Split: 2\n",
      "Split: 3\n",
      "Split: 4\n",
      "Split: 5\n",
      "Split: 6\n",
      "Split: 7\n",
      "Split: 8\n",
      "Split: 9\n",
      "Split: 10\n",
      "Training Testing Accuracy for n_games=4 team=17 : 63.16% (8.08%)\n",
      "(186, 758)\n",
      "(186, 1)\n",
      "X_train shape: (167, 1308)\n",
      "X_test shape: (19, 1308)\n",
      "Fitting 10 folds for each of 12 candidates, totalling 120 fits\n"
     ]
    },
    {
     "name": "stderr",
     "output_type": "stream",
     "text": [
      "[Parallel(n_jobs=1)]: Using backend SequentialBackend with 1 concurrent workers.\n",
      "[Parallel(n_jobs=1)]: Done 120 out of 120 | elapsed:   20.6s finished\n"
     ]
    },
    {
     "name": "stdout",
     "output_type": "stream",
     "text": [
      "best score: 0.5988023952095808\n",
      "Fitting 10 folds for each of 12 candidates, totalling 120 fits\n"
     ]
    },
    {
     "name": "stderr",
     "output_type": "stream",
     "text": [
      "[Parallel(n_jobs=1)]: Using backend SequentialBackend with 1 concurrent workers.\n",
      "[Parallel(n_jobs=1)]: Done 120 out of 120 | elapsed:   19.9s finished\n"
     ]
    },
    {
     "name": "stdout",
     "output_type": "stream",
     "text": [
      "best score: 0.5988023952095808\n",
      "Fitting 10 folds for each of 12 candidates, totalling 120 fits\n"
     ]
    },
    {
     "name": "stderr",
     "output_type": "stream",
     "text": [
      "[Parallel(n_jobs=1)]: Using backend SequentialBackend with 1 concurrent workers.\n",
      "[Parallel(n_jobs=1)]: Done 120 out of 120 | elapsed:   24.9s finished\n"
     ]
    },
    {
     "name": "stdout",
     "output_type": "stream",
     "text": [
      "best score: 0.5988023952095808\n",
      "Fitting 10 folds for each of 12 candidates, totalling 120 fits\n"
     ]
    },
    {
     "name": "stderr",
     "output_type": "stream",
     "text": [
      "[Parallel(n_jobs=1)]: Using backend SequentialBackend with 1 concurrent workers.\n",
      "[Parallel(n_jobs=1)]: Done 120 out of 120 | elapsed:   26.1s finished\n"
     ]
    },
    {
     "name": "stdout",
     "output_type": "stream",
     "text": [
      "best score: 0.5988023952095808\n",
      "Fitting 10 folds for each of 12 candidates, totalling 120 fits\n"
     ]
    },
    {
     "name": "stderr",
     "output_type": "stream",
     "text": [
      "[Parallel(n_jobs=1)]: Using backend SequentialBackend with 1 concurrent workers.\n",
      "[Parallel(n_jobs=1)]: Done 120 out of 120 | elapsed:   34.7s finished\n"
     ]
    },
    {
     "name": "stdout",
     "output_type": "stream",
     "text": [
      "best score: 0.5988023952095808\n",
      "Split: 1\n",
      "Split: 2\n",
      "Split: 3\n",
      "Split: 4\n",
      "Split: 5\n",
      "Split: 6\n",
      "Split: 7\n",
      "Split: 8\n",
      "Split: 9\n",
      "Split: 10\n",
      "Training Testing Accuracy for n_games=4 team=18 : 59.77% (11.64%)\n",
      "Accuracy for Team Models for n_games= 4 : 61.02% (5.56%)\n",
      "(181, 944)\n",
      "(181, 1)\n",
      "X_train shape: (162, 1603)\n",
      "X_test shape: (19, 1603)\n",
      "Fitting 10 folds for each of 12 candidates, totalling 120 fits\n"
     ]
    },
    {
     "name": "stderr",
     "output_type": "stream",
     "text": [
      "[Parallel(n_jobs=1)]: Using backend SequentialBackend with 1 concurrent workers.\n",
      "[Parallel(n_jobs=1)]: Done 120 out of 120 | elapsed:   24.0s finished\n"
     ]
    },
    {
     "name": "stdout",
     "output_type": "stream",
     "text": [
      "best score: 0.5740740740740741\n",
      "Fitting 10 folds for each of 12 candidates, totalling 120 fits\n"
     ]
    },
    {
     "name": "stderr",
     "output_type": "stream",
     "text": [
      "[Parallel(n_jobs=1)]: Using backend SequentialBackend with 1 concurrent workers.\n",
      "[Parallel(n_jobs=1)]: Done 120 out of 120 | elapsed:   55.1s finished\n"
     ]
    },
    {
     "name": "stdout",
     "output_type": "stream",
     "text": [
      "best score: 0.5925925925925926\n",
      "Fitting 10 folds for each of 12 candidates, totalling 120 fits\n"
     ]
    },
    {
     "name": "stderr",
     "output_type": "stream",
     "text": [
      "[Parallel(n_jobs=1)]: Using backend SequentialBackend with 1 concurrent workers.\n",
      "[Parallel(n_jobs=1)]: Done 120 out of 120 | elapsed:   38.5s finished\n"
     ]
    },
    {
     "name": "stdout",
     "output_type": "stream",
     "text": [
      "best score: 0.5925925925925926\n",
      "Fitting 10 folds for each of 12 candidates, totalling 120 fits\n"
     ]
    },
    {
     "name": "stderr",
     "output_type": "stream",
     "text": [
      "[Parallel(n_jobs=1)]: Using backend SequentialBackend with 1 concurrent workers.\n",
      "[Parallel(n_jobs=1)]: Done 120 out of 120 | elapsed:   57.2s finished\n"
     ]
    },
    {
     "name": "stdout",
     "output_type": "stream",
     "text": [
      "best score: 0.6049382716049383\n",
      "Fitting 10 folds for each of 12 candidates, totalling 120 fits\n"
     ]
    },
    {
     "name": "stderr",
     "output_type": "stream",
     "text": [
      "[Parallel(n_jobs=1)]: Using backend SequentialBackend with 1 concurrent workers.\n",
      "[Parallel(n_jobs=1)]: Done 120 out of 120 | elapsed:   54.6s finished\n"
     ]
    },
    {
     "name": "stdout",
     "output_type": "stream",
     "text": [
      "best score: 0.6049382716049383\n",
      "Split: 1\n",
      "Split: 2\n",
      "Split: 3\n",
      "Split: 4\n",
      "Split: 5\n",
      "Split: 6\n",
      "Split: 7\n",
      "Split: 8\n",
      "Split: 9\n",
      "Split: 10\n",
      "Training Testing Accuracy for n_games=5 team=1 : 49.74% (7.50%)\n",
      "(179, 944)\n",
      "(179, 1)\n",
      "X_train shape: (161, 1587)\n",
      "X_test shape: (18, 1587)\n",
      "Fitting 10 folds for each of 12 candidates, totalling 120 fits\n"
     ]
    },
    {
     "name": "stderr",
     "output_type": "stream",
     "text": [
      "[Parallel(n_jobs=1)]: Using backend SequentialBackend with 1 concurrent workers.\n",
      "[Parallel(n_jobs=1)]: Done 120 out of 120 | elapsed:   23.3s finished\n"
     ]
    },
    {
     "name": "stdout",
     "output_type": "stream",
     "text": [
      "best score: 0.6583850931677019\n",
      "Fitting 10 folds for each of 12 candidates, totalling 120 fits\n"
     ]
    },
    {
     "name": "stderr",
     "output_type": "stream",
     "text": [
      "[Parallel(n_jobs=1)]: Using backend SequentialBackend with 1 concurrent workers.\n",
      "[Parallel(n_jobs=1)]: Done 120 out of 120 | elapsed:   23.4s finished\n"
     ]
    },
    {
     "name": "stdout",
     "output_type": "stream",
     "text": [
      "best score: 0.6645962732919255\n",
      "Fitting 10 folds for each of 12 candidates, totalling 120 fits\n"
     ]
    },
    {
     "name": "stderr",
     "output_type": "stream",
     "text": [
      "[Parallel(n_jobs=1)]: Using backend SequentialBackend with 1 concurrent workers.\n",
      "[Parallel(n_jobs=1)]: Done 120 out of 120 | elapsed:   17.0s finished\n"
     ]
    },
    {
     "name": "stdout",
     "output_type": "stream",
     "text": [
      "best score: 0.6645962732919255\n",
      "Fitting 10 folds for each of 12 candidates, totalling 120 fits\n"
     ]
    },
    {
     "name": "stderr",
     "output_type": "stream",
     "text": [
      "[Parallel(n_jobs=1)]: Using backend SequentialBackend with 1 concurrent workers.\n",
      "[Parallel(n_jobs=1)]: Done 120 out of 120 | elapsed:   16.7s finished\n"
     ]
    },
    {
     "name": "stdout",
     "output_type": "stream",
     "text": [
      "best score: 0.6645962732919255\n",
      "Fitting 10 folds for each of 12 candidates, totalling 120 fits\n"
     ]
    },
    {
     "name": "stderr",
     "output_type": "stream",
     "text": [
      "[Parallel(n_jobs=1)]: Using backend SequentialBackend with 1 concurrent workers.\n",
      "[Parallel(n_jobs=1)]: Done 120 out of 120 | elapsed:   15.7s finished\n"
     ]
    },
    {
     "name": "stdout",
     "output_type": "stream",
     "text": [
      "best score: 0.6645962732919255\n",
      "Split: 1\n",
      "Split: 2\n",
      "Split: 3\n",
      "Split: 4\n",
      "Split: 5\n",
      "Split: 6\n",
      "Split: 7\n",
      "Split: 8\n",
      "Split: 9\n",
      "Split: 10\n",
      "Training Testing Accuracy for n_games=5 team=2 : 61.47% (6.18%)\n",
      "(177, 944)\n",
      "(177, 1)\n",
      "X_train shape: (159, 1584)\n",
      "X_test shape: (18, 1584)\n",
      "Fitting 10 folds for each of 12 candidates, totalling 120 fits\n"
     ]
    },
    {
     "name": "stderr",
     "output_type": "stream",
     "text": [
      "[Parallel(n_jobs=1)]: Using backend SequentialBackend with 1 concurrent workers.\n",
      "[Parallel(n_jobs=1)]: Done 120 out of 120 | elapsed:   23.8s finished\n"
     ]
    },
    {
     "name": "stdout",
     "output_type": "stream",
     "text": [
      "best score: 0.6918238993710691\n",
      "Fitting 10 folds for each of 12 candidates, totalling 120 fits\n"
     ]
    },
    {
     "name": "stderr",
     "output_type": "stream",
     "text": [
      "[Parallel(n_jobs=1)]: Using backend SequentialBackend with 1 concurrent workers.\n",
      "[Parallel(n_jobs=1)]: Done 120 out of 120 | elapsed:   20.6s finished\n"
     ]
    },
    {
     "name": "stdout",
     "output_type": "stream",
     "text": [
      "best score: 0.6918238993710691\n",
      "Fitting 10 folds for each of 12 candidates, totalling 120 fits\n"
     ]
    },
    {
     "name": "stderr",
     "output_type": "stream",
     "text": [
      "[Parallel(n_jobs=1)]: Using backend SequentialBackend with 1 concurrent workers.\n",
      "[Parallel(n_jobs=1)]: Done 120 out of 120 | elapsed:   21.8s finished\n"
     ]
    },
    {
     "name": "stdout",
     "output_type": "stream",
     "text": [
      "best score: 0.6981132075471698\n",
      "Fitting 10 folds for each of 12 candidates, totalling 120 fits\n"
     ]
    },
    {
     "name": "stderr",
     "output_type": "stream",
     "text": [
      "[Parallel(n_jobs=1)]: Using backend SequentialBackend with 1 concurrent workers.\n",
      "[Parallel(n_jobs=1)]: Done 120 out of 120 | elapsed:   19.7s finished\n"
     ]
    },
    {
     "name": "stdout",
     "output_type": "stream",
     "text": [
      "best score: 0.6981132075471698\n",
      "Fitting 10 folds for each of 12 candidates, totalling 120 fits\n"
     ]
    },
    {
     "name": "stderr",
     "output_type": "stream",
     "text": [
      "[Parallel(n_jobs=1)]: Using backend SequentialBackend with 1 concurrent workers.\n",
      "[Parallel(n_jobs=1)]: Done 120 out of 120 | elapsed:   30.6s finished\n"
     ]
    },
    {
     "name": "stdout",
     "output_type": "stream",
     "text": [
      "best score: 0.6981132075471698\n",
      "Split: 1\n",
      "Split: 2\n",
      "Split: 3\n",
      "Split: 4\n",
      "Split: 5\n",
      "Split: 6\n",
      "Split: 7\n",
      "Split: 8\n",
      "Split: 9\n",
      "Split: 10\n",
      "Training Testing Accuracy for n_games=5 team=3 : 71.18% (5.24%)\n",
      "(182, 944)\n",
      "(182, 1)\n",
      "X_train shape: (163, 1589)\n",
      "X_test shape: (19, 1589)\n",
      "Fitting 10 folds for each of 12 candidates, totalling 120 fits\n"
     ]
    },
    {
     "name": "stderr",
     "output_type": "stream",
     "text": [
      "[Parallel(n_jobs=1)]: Using backend SequentialBackend with 1 concurrent workers.\n",
      "[Parallel(n_jobs=1)]: Done 120 out of 120 | elapsed:   23.9s finished\n"
     ]
    },
    {
     "name": "stdout",
     "output_type": "stream",
     "text": [
      "best score: 0.5828220858895705\n",
      "Fitting 10 folds for each of 12 candidates, totalling 120 fits\n"
     ]
    },
    {
     "name": "stderr",
     "output_type": "stream",
     "text": [
      "[Parallel(n_jobs=1)]: Using backend SequentialBackend with 1 concurrent workers.\n",
      "[Parallel(n_jobs=1)]: Done 120 out of 120 | elapsed:   22.9s finished\n"
     ]
    },
    {
     "name": "stdout",
     "output_type": "stream",
     "text": [
      "best score: 0.5828220858895705\n",
      "Fitting 10 folds for each of 12 candidates, totalling 120 fits\n"
     ]
    },
    {
     "name": "stderr",
     "output_type": "stream",
     "text": [
      "[Parallel(n_jobs=1)]: Using backend SequentialBackend with 1 concurrent workers.\n",
      "[Parallel(n_jobs=1)]: Done 120 out of 120 | elapsed:   30.4s finished\n"
     ]
    },
    {
     "name": "stdout",
     "output_type": "stream",
     "text": [
      "best score: 0.5828220858895705\n",
      "Fitting 10 folds for each of 12 candidates, totalling 120 fits\n"
     ]
    },
    {
     "name": "stderr",
     "output_type": "stream",
     "text": [
      "[Parallel(n_jobs=1)]: Using backend SequentialBackend with 1 concurrent workers.\n",
      "[Parallel(n_jobs=1)]: Done 120 out of 120 | elapsed:   26.2s finished\n"
     ]
    },
    {
     "name": "stdout",
     "output_type": "stream",
     "text": [
      "best score: 0.6196319018404908\n",
      "Fitting 10 folds for each of 12 candidates, totalling 120 fits\n"
     ]
    },
    {
     "name": "stderr",
     "output_type": "stream",
     "text": [
      "[Parallel(n_jobs=1)]: Using backend SequentialBackend with 1 concurrent workers.\n",
      "[Parallel(n_jobs=1)]: Done 120 out of 120 | elapsed:   27.9s finished\n"
     ]
    },
    {
     "name": "stdout",
     "output_type": "stream",
     "text": [
      "best score: 0.6196319018404908\n",
      "Split: 1\n",
      "Split: 2\n",
      "Split: 3\n",
      "Split: 4\n",
      "Split: 5\n",
      "Split: 6\n",
      "Split: 7\n",
      "Split: 8\n",
      "Split: 9\n",
      "Split: 10\n",
      "Training Testing Accuracy for n_games=5 team=4 : 59.91% (7.66%)\n",
      "(179, 944)\n",
      "(179, 1)\n",
      "X_train shape: (161, 1578)\n",
      "X_test shape: (18, 1578)\n",
      "Fitting 10 folds for each of 12 candidates, totalling 120 fits\n"
     ]
    },
    {
     "name": "stderr",
     "output_type": "stream",
     "text": [
      "[Parallel(n_jobs=1)]: Using backend SequentialBackend with 1 concurrent workers.\n",
      "[Parallel(n_jobs=1)]: Done 120 out of 120 | elapsed:   23.8s finished\n"
     ]
    },
    {
     "name": "stdout",
     "output_type": "stream",
     "text": [
      "best score: 0.5838509316770186\n",
      "Fitting 10 folds for each of 12 candidates, totalling 120 fits\n"
     ]
    },
    {
     "name": "stderr",
     "output_type": "stream",
     "text": [
      "[Parallel(n_jobs=1)]: Using backend SequentialBackend with 1 concurrent workers.\n",
      "[Parallel(n_jobs=1)]: Done 120 out of 120 | elapsed:   17.9s finished\n"
     ]
    },
    {
     "name": "stdout",
     "output_type": "stream",
     "text": [
      "best score: 0.5838509316770186\n",
      "Fitting 10 folds for each of 12 candidates, totalling 120 fits\n"
     ]
    },
    {
     "name": "stderr",
     "output_type": "stream",
     "text": [
      "[Parallel(n_jobs=1)]: Using backend SequentialBackend with 1 concurrent workers.\n",
      "[Parallel(n_jobs=1)]: Done 120 out of 120 | elapsed:   19.3s finished\n"
     ]
    },
    {
     "name": "stdout",
     "output_type": "stream",
     "text": [
      "best score: 0.5838509316770186\n",
      "Fitting 10 folds for each of 12 candidates, totalling 120 fits\n"
     ]
    },
    {
     "name": "stderr",
     "output_type": "stream",
     "text": [
      "[Parallel(n_jobs=1)]: Using backend SequentialBackend with 1 concurrent workers.\n",
      "[Parallel(n_jobs=1)]: Done 120 out of 120 | elapsed:   17.6s finished\n"
     ]
    },
    {
     "name": "stdout",
     "output_type": "stream",
     "text": [
      "best score: 0.5838509316770186\n",
      "Fitting 10 folds for each of 12 candidates, totalling 120 fits\n"
     ]
    },
    {
     "name": "stderr",
     "output_type": "stream",
     "text": [
      "[Parallel(n_jobs=1)]: Using backend SequentialBackend with 1 concurrent workers.\n",
      "[Parallel(n_jobs=1)]: Done 120 out of 120 | elapsed:   21.3s finished\n"
     ]
    },
    {
     "name": "stdout",
     "output_type": "stream",
     "text": [
      "best score: 0.5900621118012422\n",
      "Split: 1\n",
      "Split: 2\n",
      "Split: 3\n",
      "Split: 4\n",
      "Split: 5\n",
      "Split: 6\n",
      "Split: 7\n",
      "Split: 8\n",
      "Split: 9\n",
      "Split: 10\n",
      "Training Testing Accuracy for n_games=5 team=5 : 54.22% (8.01%)\n",
      "(182, 944)\n",
      "(182, 1)\n",
      "X_train shape: (163, 1597)\n",
      "X_test shape: (19, 1597)\n",
      "Fitting 10 folds for each of 12 candidates, totalling 120 fits\n"
     ]
    },
    {
     "name": "stderr",
     "output_type": "stream",
     "text": [
      "[Parallel(n_jobs=1)]: Using backend SequentialBackend with 1 concurrent workers.\n",
      "[Parallel(n_jobs=1)]: Done 120 out of 120 | elapsed:   24.0s finished\n"
     ]
    },
    {
     "name": "stdout",
     "output_type": "stream",
     "text": [
      "best score: 0.5950920245398773\n",
      "Fitting 10 folds for each of 12 candidates, totalling 120 fits\n"
     ]
    },
    {
     "name": "stderr",
     "output_type": "stream",
     "text": [
      "[Parallel(n_jobs=1)]: Using backend SequentialBackend with 1 concurrent workers.\n",
      "[Parallel(n_jobs=1)]: Done 120 out of 120 | elapsed:   25.9s finished\n"
     ]
    },
    {
     "name": "stdout",
     "output_type": "stream",
     "text": [
      "best score: 0.5950920245398773\n",
      "Fitting 10 folds for each of 12 candidates, totalling 120 fits\n"
     ]
    },
    {
     "name": "stderr",
     "output_type": "stream",
     "text": [
      "[Parallel(n_jobs=1)]: Using backend SequentialBackend with 1 concurrent workers.\n",
      "[Parallel(n_jobs=1)]: Done 120 out of 120 | elapsed:   25.9s finished\n"
     ]
    },
    {
     "name": "stdout",
     "output_type": "stream",
     "text": [
      "best score: 0.5950920245398773\n",
      "Fitting 10 folds for each of 12 candidates, totalling 120 fits\n"
     ]
    },
    {
     "name": "stderr",
     "output_type": "stream",
     "text": [
      "[Parallel(n_jobs=1)]: Using backend SequentialBackend with 1 concurrent workers.\n",
      "[Parallel(n_jobs=1)]: Done 120 out of 120 | elapsed:   20.4s finished\n"
     ]
    },
    {
     "name": "stdout",
     "output_type": "stream",
     "text": [
      "best score: 0.5950920245398773\n",
      "Fitting 10 folds for each of 12 candidates, totalling 120 fits\n"
     ]
    },
    {
     "name": "stderr",
     "output_type": "stream",
     "text": [
      "[Parallel(n_jobs=1)]: Using backend SequentialBackend with 1 concurrent workers.\n",
      "[Parallel(n_jobs=1)]: Done 120 out of 120 | elapsed:   28.0s finished\n"
     ]
    },
    {
     "name": "stdout",
     "output_type": "stream",
     "text": [
      "best score: 0.5950920245398773\n",
      "Split: 1\n",
      "Split: 2\n",
      "Split: 3\n",
      "Split: 4\n",
      "Split: 5\n",
      "Split: 6\n",
      "Split: 7\n",
      "Split: 8\n",
      "Split: 9\n",
      "Split: 10\n",
      "Training Testing Accuracy for n_games=5 team=6 : 58.36% (8.57%)\n",
      "(191, 944)\n",
      "(191, 1)\n",
      "X_train shape: (171, 1586)\n",
      "X_test shape: (20, 1586)\n",
      "Fitting 10 folds for each of 12 candidates, totalling 120 fits\n"
     ]
    },
    {
     "name": "stderr",
     "output_type": "stream",
     "text": [
      "[Parallel(n_jobs=1)]: Using backend SequentialBackend with 1 concurrent workers.\n",
      "[Parallel(n_jobs=1)]: Done 120 out of 120 | elapsed:   24.0s finished\n"
     ]
    },
    {
     "name": "stdout",
     "output_type": "stream",
     "text": [
      "best score: 0.6374269005847953\n",
      "Fitting 10 folds for each of 12 candidates, totalling 120 fits\n"
     ]
    },
    {
     "name": "stderr",
     "output_type": "stream",
     "text": [
      "[Parallel(n_jobs=1)]: Using backend SequentialBackend with 1 concurrent workers.\n",
      "[Parallel(n_jobs=1)]: Done 120 out of 120 | elapsed:   18.7s finished\n"
     ]
    },
    {
     "name": "stdout",
     "output_type": "stream",
     "text": [
      "best score: 0.6374269005847953\n",
      "Fitting 10 folds for each of 12 candidates, totalling 120 fits\n"
     ]
    },
    {
     "name": "stderr",
     "output_type": "stream",
     "text": [
      "[Parallel(n_jobs=1)]: Using backend SequentialBackend with 1 concurrent workers.\n",
      "[Parallel(n_jobs=1)]: Done 120 out of 120 | elapsed:   33.4s finished\n"
     ]
    },
    {
     "name": "stdout",
     "output_type": "stream",
     "text": [
      "best score: 0.6374269005847953\n",
      "Fitting 10 folds for each of 12 candidates, totalling 120 fits\n"
     ]
    },
    {
     "name": "stderr",
     "output_type": "stream",
     "text": [
      "[Parallel(n_jobs=1)]: Using backend SequentialBackend with 1 concurrent workers.\n",
      "[Parallel(n_jobs=1)]: Done 120 out of 120 | elapsed:   40.5s finished\n"
     ]
    },
    {
     "name": "stdout",
     "output_type": "stream",
     "text": [
      "best score: 0.6374269005847953\n",
      "Fitting 10 folds for each of 12 candidates, totalling 120 fits\n"
     ]
    },
    {
     "name": "stderr",
     "output_type": "stream",
     "text": [
      "[Parallel(n_jobs=1)]: Using backend SequentialBackend with 1 concurrent workers.\n",
      "[Parallel(n_jobs=1)]: Done 120 out of 120 | elapsed:   18.4s finished\n"
     ]
    },
    {
     "name": "stdout",
     "output_type": "stream",
     "text": [
      "best score: 0.6374269005847953\n",
      "Split: 1\n",
      "Split: 2\n",
      "Split: 3\n",
      "Split: 4\n",
      "Split: 5\n",
      "Split: 6\n",
      "Split: 7\n",
      "Split: 8\n",
      "Split: 9\n",
      "Split: 10\n",
      "Training Testing Accuracy for n_games=5 team=7 : 65.97% (2.50%)\n",
      "(175, 944)\n",
      "(175, 1)\n",
      "X_train shape: (157, 1590)\n",
      "X_test shape: (18, 1590)\n",
      "Fitting 10 folds for each of 12 candidates, totalling 120 fits\n"
     ]
    },
    {
     "name": "stderr",
     "output_type": "stream",
     "text": [
      "[Parallel(n_jobs=1)]: Using backend SequentialBackend with 1 concurrent workers.\n",
      "[Parallel(n_jobs=1)]: Done 120 out of 120 | elapsed:   23.8s finished\n"
     ]
    },
    {
     "name": "stdout",
     "output_type": "stream",
     "text": [
      "best score: 0.7388535031847133\n",
      "Fitting 10 folds for each of 12 candidates, totalling 120 fits\n"
     ]
    },
    {
     "name": "stderr",
     "output_type": "stream",
     "text": [
      "[Parallel(n_jobs=1)]: Using backend SequentialBackend with 1 concurrent workers.\n",
      "[Parallel(n_jobs=1)]: Done 120 out of 120 | elapsed:   28.1s finished\n"
     ]
    },
    {
     "name": "stdout",
     "output_type": "stream",
     "text": [
      "best score: 0.7388535031847133\n",
      "Fitting 10 folds for each of 12 candidates, totalling 120 fits\n"
     ]
    },
    {
     "name": "stderr",
     "output_type": "stream",
     "text": [
      "[Parallel(n_jobs=1)]: Using backend SequentialBackend with 1 concurrent workers.\n",
      "[Parallel(n_jobs=1)]: Done 120 out of 120 | elapsed:   19.0s finished\n"
     ]
    },
    {
     "name": "stdout",
     "output_type": "stream",
     "text": [
      "best score: 0.7388535031847133\n",
      "Fitting 10 folds for each of 12 candidates, totalling 120 fits\n"
     ]
    },
    {
     "name": "stderr",
     "output_type": "stream",
     "text": [
      "[Parallel(n_jobs=1)]: Using backend SequentialBackend with 1 concurrent workers.\n",
      "[Parallel(n_jobs=1)]: Done 120 out of 120 | elapsed:   19.9s finished\n"
     ]
    },
    {
     "name": "stdout",
     "output_type": "stream",
     "text": [
      "best score: 0.7388535031847133\n",
      "Fitting 10 folds for each of 12 candidates, totalling 120 fits\n"
     ]
    },
    {
     "name": "stderr",
     "output_type": "stream",
     "text": [
      "[Parallel(n_jobs=1)]: Using backend SequentialBackend with 1 concurrent workers.\n",
      "[Parallel(n_jobs=1)]: Done 120 out of 120 | elapsed:   17.0s finished\n"
     ]
    },
    {
     "name": "stdout",
     "output_type": "stream",
     "text": [
      "best score: 0.7388535031847133\n",
      "Split: 1\n",
      "Split: 2\n",
      "Split: 3\n",
      "Split: 4\n",
      "Split: 5\n",
      "Split: 6\n",
      "Split: 7\n",
      "Split: 8\n",
      "Split: 9\n",
      "Split: 10\n",
      "Training Testing Accuracy for n_games=5 team=8 : 70.88% (2.69%)\n",
      "(188, 944)\n",
      "(188, 1)\n",
      "X_train shape: (169, 1598)\n",
      "X_test shape: (19, 1598)\n",
      "Fitting 10 folds for each of 12 candidates, totalling 120 fits\n"
     ]
    },
    {
     "name": "stderr",
     "output_type": "stream",
     "text": [
      "[Parallel(n_jobs=1)]: Using backend SequentialBackend with 1 concurrent workers.\n",
      "[Parallel(n_jobs=1)]: Done 120 out of 120 | elapsed:   23.8s finished\n"
     ]
    },
    {
     "name": "stdout",
     "output_type": "stream",
     "text": [
      "best score: 0.5443786982248521\n",
      "Fitting 10 folds for each of 12 candidates, totalling 120 fits\n"
     ]
    },
    {
     "name": "stderr",
     "output_type": "stream",
     "text": [
      "[Parallel(n_jobs=1)]: Using backend SequentialBackend with 1 concurrent workers.\n",
      "[Parallel(n_jobs=1)]: Done 120 out of 120 | elapsed:   31.9s finished\n"
     ]
    },
    {
     "name": "stdout",
     "output_type": "stream",
     "text": [
      "best score: 0.5621301775147929\n",
      "Fitting 10 folds for each of 12 candidates, totalling 120 fits\n"
     ]
    },
    {
     "name": "stderr",
     "output_type": "stream",
     "text": [
      "[Parallel(n_jobs=1)]: Using backend SequentialBackend with 1 concurrent workers.\n",
      "[Parallel(n_jobs=1)]: Done 120 out of 120 | elapsed:  1.2min finished\n"
     ]
    },
    {
     "name": "stdout",
     "output_type": "stream",
     "text": [
      "best score: 0.621301775147929\n",
      "Fitting 10 folds for each of 12 candidates, totalling 120 fits\n"
     ]
    },
    {
     "name": "stderr",
     "output_type": "stream",
     "text": [
      "[Parallel(n_jobs=1)]: Using backend SequentialBackend with 1 concurrent workers.\n",
      "[Parallel(n_jobs=1)]: Done 120 out of 120 | elapsed:   40.4s finished\n"
     ]
    },
    {
     "name": "stdout",
     "output_type": "stream",
     "text": [
      "best score: 0.621301775147929\n",
      "Fitting 10 folds for each of 12 candidates, totalling 120 fits\n"
     ]
    },
    {
     "name": "stderr",
     "output_type": "stream",
     "text": [
      "[Parallel(n_jobs=1)]: Using backend SequentialBackend with 1 concurrent workers.\n",
      "[Parallel(n_jobs=1)]: Done 120 out of 120 | elapsed:   49.4s finished\n"
     ]
    },
    {
     "name": "stdout",
     "output_type": "stream",
     "text": [
      "best score: 0.621301775147929\n",
      "Split: 1\n",
      "Split: 2\n",
      "Split: 3\n",
      "Split: 4\n",
      "Split: 5\n",
      "Split: 6\n",
      "Split: 7\n",
      "Split: 8\n",
      "Split: 9\n",
      "Split: 10\n",
      "Training Testing Accuracy for n_games=5 team=9 : 55.41% (10.04%)\n",
      "(189, 944)\n",
      "(189, 1)\n",
      "X_train shape: (170, 1596)\n",
      "X_test shape: (19, 1596)\n",
      "Fitting 10 folds for each of 12 candidates, totalling 120 fits\n"
     ]
    },
    {
     "name": "stderr",
     "output_type": "stream",
     "text": [
      "[Parallel(n_jobs=1)]: Using backend SequentialBackend with 1 concurrent workers.\n",
      "[Parallel(n_jobs=1)]: Done 120 out of 120 | elapsed:   23.6s finished\n"
     ]
    },
    {
     "name": "stdout",
     "output_type": "stream",
     "text": [
      "best score: 0.6764705882352942\n",
      "Fitting 10 folds for each of 12 candidates, totalling 120 fits\n"
     ]
    },
    {
     "name": "stderr",
     "output_type": "stream",
     "text": [
      "[Parallel(n_jobs=1)]: Using backend SequentialBackend with 1 concurrent workers.\n",
      "[Parallel(n_jobs=1)]: Done 120 out of 120 | elapsed:   22.1s finished\n"
     ]
    },
    {
     "name": "stdout",
     "output_type": "stream",
     "text": [
      "best score: 0.6764705882352942\n",
      "Fitting 10 folds for each of 12 candidates, totalling 120 fits\n"
     ]
    },
    {
     "name": "stderr",
     "output_type": "stream",
     "text": [
      "[Parallel(n_jobs=1)]: Using backend SequentialBackend with 1 concurrent workers.\n",
      "[Parallel(n_jobs=1)]: Done 120 out of 120 | elapsed:   33.2s finished\n"
     ]
    },
    {
     "name": "stdout",
     "output_type": "stream",
     "text": [
      "best score: 0.6764705882352942\n",
      "Fitting 10 folds for each of 12 candidates, totalling 120 fits\n"
     ]
    },
    {
     "name": "stderr",
     "output_type": "stream",
     "text": [
      "[Parallel(n_jobs=1)]: Using backend SequentialBackend with 1 concurrent workers.\n",
      "[Parallel(n_jobs=1)]: Done 120 out of 120 | elapsed:   29.7s finished\n"
     ]
    },
    {
     "name": "stdout",
     "output_type": "stream",
     "text": [
      "best score: 0.6764705882352942\n",
      "Fitting 10 folds for each of 12 candidates, totalling 120 fits\n"
     ]
    },
    {
     "name": "stderr",
     "output_type": "stream",
     "text": [
      "[Parallel(n_jobs=1)]: Using backend SequentialBackend with 1 concurrent workers.\n",
      "[Parallel(n_jobs=1)]: Done 120 out of 120 | elapsed:   29.2s finished\n"
     ]
    },
    {
     "name": "stdout",
     "output_type": "stream",
     "text": [
      "best score: 0.6764705882352942\n",
      "Split: 1\n",
      "Split: 2\n",
      "Split: 3\n",
      "Split: 4\n",
      "Split: 5\n",
      "Split: 6\n",
      "Split: 7\n",
      "Split: 8\n",
      "Split: 9\n",
      "Split: 10\n",
      "Training Testing Accuracy for n_games=5 team=10 : 68.25% (4.11%)\n",
      "(181, 944)\n",
      "(181, 1)\n",
      "X_train shape: (162, 1601)\n",
      "X_test shape: (19, 1601)\n",
      "Fitting 10 folds for each of 12 candidates, totalling 120 fits\n"
     ]
    },
    {
     "name": "stderr",
     "output_type": "stream",
     "text": [
      "[Parallel(n_jobs=1)]: Using backend SequentialBackend with 1 concurrent workers.\n",
      "[Parallel(n_jobs=1)]: Done 120 out of 120 | elapsed:   24.1s finished\n"
     ]
    },
    {
     "name": "stdout",
     "output_type": "stream",
     "text": [
      "best score: 0.6111111111111112\n",
      "Fitting 10 folds for each of 12 candidates, totalling 120 fits\n"
     ]
    },
    {
     "name": "stderr",
     "output_type": "stream",
     "text": [
      "[Parallel(n_jobs=1)]: Using backend SequentialBackend with 1 concurrent workers.\n",
      "[Parallel(n_jobs=1)]: Done 120 out of 120 | elapsed:   48.9s finished\n"
     ]
    },
    {
     "name": "stdout",
     "output_type": "stream",
     "text": [
      "best score: 0.6111111111111112\n",
      "Fitting 10 folds for each of 12 candidates, totalling 120 fits\n"
     ]
    },
    {
     "name": "stderr",
     "output_type": "stream",
     "text": [
      "[Parallel(n_jobs=1)]: Using backend SequentialBackend with 1 concurrent workers.\n",
      "[Parallel(n_jobs=1)]: Done 120 out of 120 | elapsed:   32.5s finished\n"
     ]
    },
    {
     "name": "stdout",
     "output_type": "stream",
     "text": [
      "best score: 0.6172839506172839\n",
      "Fitting 10 folds for each of 12 candidates, totalling 120 fits\n"
     ]
    },
    {
     "name": "stderr",
     "output_type": "stream",
     "text": [
      "[Parallel(n_jobs=1)]: Using backend SequentialBackend with 1 concurrent workers.\n",
      "[Parallel(n_jobs=1)]: Done 120 out of 120 | elapsed:   24.1s finished\n"
     ]
    },
    {
     "name": "stdout",
     "output_type": "stream",
     "text": [
      "best score: 0.6172839506172839\n",
      "Fitting 10 folds for each of 12 candidates, totalling 120 fits\n"
     ]
    },
    {
     "name": "stderr",
     "output_type": "stream",
     "text": [
      "[Parallel(n_jobs=1)]: Using backend SequentialBackend with 1 concurrent workers.\n",
      "[Parallel(n_jobs=1)]: Done 120 out of 120 | elapsed:   22.9s finished\n"
     ]
    },
    {
     "name": "stdout",
     "output_type": "stream",
     "text": [
      "best score: 0.6172839506172839\n",
      "Split: 1\n",
      "Split: 2\n",
      "Split: 3\n",
      "Split: 4\n",
      "Split: 5\n",
      "Split: 6\n",
      "Split: 7\n",
      "Split: 8\n",
      "Split: 9\n",
      "Split: 10\n",
      "Training Testing Accuracy for n_games=5 team=11 : 58.54% (6.33%)\n",
      "(182, 944)\n",
      "(182, 1)\n",
      "X_train shape: (163, 1591)\n",
      "X_test shape: (19, 1591)\n",
      "Fitting 10 folds for each of 12 candidates, totalling 120 fits\n"
     ]
    },
    {
     "name": "stderr",
     "output_type": "stream",
     "text": [
      "[Parallel(n_jobs=1)]: Using backend SequentialBackend with 1 concurrent workers.\n",
      "[Parallel(n_jobs=1)]: Done 120 out of 120 | elapsed:   24.7s finished\n"
     ]
    },
    {
     "name": "stdout",
     "output_type": "stream",
     "text": [
      "best score: 0.5705521472392638\n",
      "Fitting 10 folds for each of 12 candidates, totalling 120 fits\n"
     ]
    },
    {
     "name": "stderr",
     "output_type": "stream",
     "text": [
      "[Parallel(n_jobs=1)]: Using backend SequentialBackend with 1 concurrent workers.\n",
      "[Parallel(n_jobs=1)]: Done 120 out of 120 | elapsed:   39.2s finished\n"
     ]
    },
    {
     "name": "stdout",
     "output_type": "stream",
     "text": [
      "best score: 0.5705521472392638\n",
      "Fitting 10 folds for each of 12 candidates, totalling 120 fits\n"
     ]
    },
    {
     "name": "stderr",
     "output_type": "stream",
     "text": [
      "[Parallel(n_jobs=1)]: Using backend SequentialBackend with 1 concurrent workers.\n",
      "[Parallel(n_jobs=1)]: Done 120 out of 120 | elapsed:   23.0s finished\n"
     ]
    },
    {
     "name": "stdout",
     "output_type": "stream",
     "text": [
      "best score: 0.5705521472392638\n",
      "Fitting 10 folds for each of 12 candidates, totalling 120 fits\n"
     ]
    },
    {
     "name": "stderr",
     "output_type": "stream",
     "text": [
      "[Parallel(n_jobs=1)]: Using backend SequentialBackend with 1 concurrent workers.\n",
      "[Parallel(n_jobs=1)]: Done 120 out of 120 | elapsed:   26.5s finished\n"
     ]
    },
    {
     "name": "stdout",
     "output_type": "stream",
     "text": [
      "best score: 0.5705521472392638\n",
      "Fitting 10 folds for each of 12 candidates, totalling 120 fits\n"
     ]
    },
    {
     "name": "stderr",
     "output_type": "stream",
     "text": [
      "[Parallel(n_jobs=1)]: Using backend SequentialBackend with 1 concurrent workers.\n",
      "[Parallel(n_jobs=1)]: Done 120 out of 120 | elapsed:   23.0s finished\n"
     ]
    },
    {
     "name": "stdout",
     "output_type": "stream",
     "text": [
      "best score: 0.5705521472392638\n",
      "Split: 1\n",
      "Split: 2\n",
      "Split: 3\n",
      "Split: 4\n",
      "Split: 5\n",
      "Split: 6\n",
      "Split: 7\n",
      "Split: 8\n",
      "Split: 9\n",
      "Split: 10\n",
      "Training Testing Accuracy for n_games=5 team=12 : 50.61% (7.27%)\n",
      "(183, 944)\n",
      "(183, 1)\n",
      "X_train shape: (164, 1613)\n",
      "X_test shape: (19, 1613)\n",
      "Fitting 10 folds for each of 12 candidates, totalling 120 fits\n"
     ]
    },
    {
     "name": "stderr",
     "output_type": "stream",
     "text": [
      "[Parallel(n_jobs=1)]: Using backend SequentialBackend with 1 concurrent workers.\n",
      "[Parallel(n_jobs=1)]: Done 120 out of 120 | elapsed:   24.2s finished\n"
     ]
    },
    {
     "name": "stdout",
     "output_type": "stream",
     "text": [
      "best score: 0.6036585365853658\n",
      "Fitting 10 folds for each of 12 candidates, totalling 120 fits\n"
     ]
    },
    {
     "name": "stderr",
     "output_type": "stream",
     "text": [
      "[Parallel(n_jobs=1)]: Using backend SequentialBackend with 1 concurrent workers.\n",
      "[Parallel(n_jobs=1)]: Done 120 out of 120 | elapsed:   21.2s finished\n"
     ]
    },
    {
     "name": "stdout",
     "output_type": "stream",
     "text": [
      "best score: 0.6036585365853658\n",
      "Fitting 10 folds for each of 12 candidates, totalling 120 fits\n"
     ]
    },
    {
     "name": "stderr",
     "output_type": "stream",
     "text": [
      "[Parallel(n_jobs=1)]: Using backend SequentialBackend with 1 concurrent workers.\n",
      "[Parallel(n_jobs=1)]: Done 120 out of 120 | elapsed:   21.3s finished\n"
     ]
    },
    {
     "name": "stdout",
     "output_type": "stream",
     "text": [
      "best score: 0.6036585365853658\n",
      "Fitting 10 folds for each of 12 candidates, totalling 120 fits\n"
     ]
    },
    {
     "name": "stderr",
     "output_type": "stream",
     "text": [
      "[Parallel(n_jobs=1)]: Using backend SequentialBackend with 1 concurrent workers.\n",
      "[Parallel(n_jobs=1)]: Done 120 out of 120 | elapsed:   32.9s finished\n"
     ]
    },
    {
     "name": "stdout",
     "output_type": "stream",
     "text": [
      "best score: 0.6280487804878049\n",
      "Fitting 10 folds for each of 12 candidates, totalling 120 fits\n"
     ]
    },
    {
     "name": "stderr",
     "output_type": "stream",
     "text": [
      "[Parallel(n_jobs=1)]: Using backend SequentialBackend with 1 concurrent workers.\n",
      "[Parallel(n_jobs=1)]: Done 120 out of 120 | elapsed:   21.2s finished\n"
     ]
    },
    {
     "name": "stdout",
     "output_type": "stream",
     "text": [
      "best score: 0.6280487804878049\n",
      "Split: 1\n",
      "Split: 2\n",
      "Split: 3\n",
      "Split: 4\n",
      "Split: 5\n",
      "Split: 6\n",
      "Split: 7\n",
      "Split: 8\n",
      "Split: 9\n",
      "Split: 10\n",
      "Training Testing Accuracy for n_games=5 team=13 : 58.68% (11.79%)\n",
      "(186, 944)\n",
      "(186, 1)\n",
      "X_train shape: (167, 1593)\n",
      "X_test shape: (19, 1593)\n",
      "Fitting 10 folds for each of 12 candidates, totalling 120 fits\n"
     ]
    },
    {
     "name": "stderr",
     "output_type": "stream",
     "text": [
      "[Parallel(n_jobs=1)]: Using backend SequentialBackend with 1 concurrent workers.\n",
      "[Parallel(n_jobs=1)]: Done 120 out of 120 | elapsed:   24.3s finished\n"
     ]
    },
    {
     "name": "stdout",
     "output_type": "stream",
     "text": [
      "best score: 0.6347305389221557\n",
      "Fitting 10 folds for each of 12 candidates, totalling 120 fits\n"
     ]
    },
    {
     "name": "stderr",
     "output_type": "stream",
     "text": [
      "[Parallel(n_jobs=1)]: Using backend SequentialBackend with 1 concurrent workers.\n",
      "[Parallel(n_jobs=1)]: Done 120 out of 120 | elapsed:   17.6s finished\n"
     ]
    },
    {
     "name": "stdout",
     "output_type": "stream",
     "text": [
      "best score: 0.6347305389221557\n",
      "Fitting 10 folds for each of 12 candidates, totalling 120 fits\n"
     ]
    },
    {
     "name": "stderr",
     "output_type": "stream",
     "text": [
      "[Parallel(n_jobs=1)]: Using backend SequentialBackend with 1 concurrent workers.\n",
      "[Parallel(n_jobs=1)]: Done 120 out of 120 | elapsed:   21.2s finished\n"
     ]
    },
    {
     "name": "stdout",
     "output_type": "stream",
     "text": [
      "best score: 0.6347305389221557\n",
      "Fitting 10 folds for each of 12 candidates, totalling 120 fits\n"
     ]
    },
    {
     "name": "stderr",
     "output_type": "stream",
     "text": [
      "[Parallel(n_jobs=1)]: Using backend SequentialBackend with 1 concurrent workers.\n",
      "[Parallel(n_jobs=1)]: Done 120 out of 120 | elapsed:   20.4s finished\n"
     ]
    },
    {
     "name": "stdout",
     "output_type": "stream",
     "text": [
      "best score: 0.6347305389221557\n",
      "Fitting 10 folds for each of 12 candidates, totalling 120 fits\n"
     ]
    },
    {
     "name": "stderr",
     "output_type": "stream",
     "text": [
      "[Parallel(n_jobs=1)]: Using backend SequentialBackend with 1 concurrent workers.\n",
      "[Parallel(n_jobs=1)]: Done 120 out of 120 | elapsed:   17.6s finished\n"
     ]
    },
    {
     "name": "stdout",
     "output_type": "stream",
     "text": [
      "best score: 0.6347305389221557\n",
      "Split: 1\n",
      "Split: 2\n",
      "Split: 3\n",
      "Split: 4\n",
      "Split: 5\n",
      "Split: 6\n",
      "Split: 7\n",
      "Split: 8\n",
      "Split: 9\n",
      "Split: 10\n",
      "Training Testing Accuracy for n_games=5 team=14 : 60.79% (3.67%)\n",
      "(175, 944)\n",
      "(175, 1)\n",
      "X_train shape: (157, 1588)\n",
      "X_test shape: (18, 1588)\n",
      "Fitting 10 folds for each of 12 candidates, totalling 120 fits\n"
     ]
    },
    {
     "name": "stderr",
     "output_type": "stream",
     "text": [
      "[Parallel(n_jobs=1)]: Using backend SequentialBackend with 1 concurrent workers.\n",
      "[Parallel(n_jobs=1)]: Done 120 out of 120 | elapsed:   24.4s finished\n"
     ]
    },
    {
     "name": "stdout",
     "output_type": "stream",
     "text": [
      "best score: 0.6687898089171974\n",
      "Fitting 10 folds for each of 12 candidates, totalling 120 fits\n"
     ]
    },
    {
     "name": "stderr",
     "output_type": "stream",
     "text": [
      "[Parallel(n_jobs=1)]: Using backend SequentialBackend with 1 concurrent workers.\n",
      "[Parallel(n_jobs=1)]: Done 120 out of 120 | elapsed:   25.2s finished\n"
     ]
    },
    {
     "name": "stdout",
     "output_type": "stream",
     "text": [
      "best score: 0.6687898089171974\n",
      "Fitting 10 folds for each of 12 candidates, totalling 120 fits\n"
     ]
    },
    {
     "name": "stderr",
     "output_type": "stream",
     "text": [
      "[Parallel(n_jobs=1)]: Using backend SequentialBackend with 1 concurrent workers.\n",
      "[Parallel(n_jobs=1)]: Done 120 out of 120 | elapsed:   17.1s finished\n"
     ]
    },
    {
     "name": "stdout",
     "output_type": "stream",
     "text": [
      "best score: 0.6687898089171974\n",
      "Fitting 10 folds for each of 12 candidates, totalling 120 fits\n"
     ]
    },
    {
     "name": "stderr",
     "output_type": "stream",
     "text": [
      "[Parallel(n_jobs=1)]: Using backend SequentialBackend with 1 concurrent workers.\n",
      "[Parallel(n_jobs=1)]: Done 120 out of 120 | elapsed:   23.1s finished\n"
     ]
    },
    {
     "name": "stdout",
     "output_type": "stream",
     "text": [
      "best score: 0.6687898089171974\n",
      "Fitting 10 folds for each of 12 candidates, totalling 120 fits\n"
     ]
    },
    {
     "name": "stderr",
     "output_type": "stream",
     "text": [
      "[Parallel(n_jobs=1)]: Using backend SequentialBackend with 1 concurrent workers.\n",
      "[Parallel(n_jobs=1)]: Done 120 out of 120 | elapsed:   17.0s finished\n"
     ]
    },
    {
     "name": "stdout",
     "output_type": "stream",
     "text": [
      "best score: 0.6687898089171974\n",
      "Split: 1\n",
      "Split: 2\n",
      "Split: 3\n",
      "Split: 4\n",
      "Split: 5\n",
      "Split: 6\n",
      "Split: 7\n",
      "Split: 8\n",
      "Split: 9\n",
      "Split: 10\n",
      "Training Testing Accuracy for n_games=5 team=15 : 64.64% (6.22%)\n",
      "(191, 944)\n",
      "(191, 1)\n",
      "X_train shape: (171, 1602)\n",
      "X_test shape: (20, 1602)\n",
      "Fitting 10 folds for each of 12 candidates, totalling 120 fits\n"
     ]
    },
    {
     "name": "stderr",
     "output_type": "stream",
     "text": [
      "[Parallel(n_jobs=1)]: Using backend SequentialBackend with 1 concurrent workers.\n",
      "[Parallel(n_jobs=1)]: Done 120 out of 120 | elapsed:   23.9s finished\n"
     ]
    },
    {
     "name": "stdout",
     "output_type": "stream",
     "text": [
      "best score: 0.6432748538011696\n",
      "Fitting 10 folds for each of 12 candidates, totalling 120 fits\n"
     ]
    },
    {
     "name": "stderr",
     "output_type": "stream",
     "text": [
      "[Parallel(n_jobs=1)]: Using backend SequentialBackend with 1 concurrent workers.\n",
      "[Parallel(n_jobs=1)]: Done 120 out of 120 | elapsed:   17.4s finished\n"
     ]
    },
    {
     "name": "stdout",
     "output_type": "stream",
     "text": [
      "best score: 0.6432748538011696\n",
      "Fitting 10 folds for each of 12 candidates, totalling 120 fits\n"
     ]
    },
    {
     "name": "stderr",
     "output_type": "stream",
     "text": [
      "[Parallel(n_jobs=1)]: Using backend SequentialBackend with 1 concurrent workers.\n",
      "[Parallel(n_jobs=1)]: Done 120 out of 120 | elapsed:   19.9s finished\n"
     ]
    },
    {
     "name": "stdout",
     "output_type": "stream",
     "text": [
      "best score: 0.6432748538011696\n",
      "Fitting 10 folds for each of 12 candidates, totalling 120 fits\n"
     ]
    },
    {
     "name": "stderr",
     "output_type": "stream",
     "text": [
      "[Parallel(n_jobs=1)]: Using backend SequentialBackend with 1 concurrent workers.\n",
      "[Parallel(n_jobs=1)]: Done 120 out of 120 | elapsed:   20.8s finished\n"
     ]
    },
    {
     "name": "stdout",
     "output_type": "stream",
     "text": [
      "best score: 0.6432748538011696\n",
      "Fitting 10 folds for each of 12 candidates, totalling 120 fits\n"
     ]
    },
    {
     "name": "stderr",
     "output_type": "stream",
     "text": [
      "[Parallel(n_jobs=1)]: Using backend SequentialBackend with 1 concurrent workers.\n",
      "[Parallel(n_jobs=1)]: Done 120 out of 120 | elapsed:   20.2s finished\n"
     ]
    },
    {
     "name": "stdout",
     "output_type": "stream",
     "text": [
      "best score: 0.6432748538011696\n",
      "Split: 1\n",
      "Split: 2\n",
      "Split: 3\n",
      "Split: 4\n",
      "Split: 5\n",
      "Split: 6\n",
      "Split: 7\n",
      "Split: 8\n",
      "Split: 9\n",
      "Split: 10\n",
      "Training Testing Accuracy for n_games=5 team=16 : 63.87% (1.61%)\n",
      "(186, 944)\n",
      "(186, 1)\n",
      "X_train shape: (167, 1600)\n",
      "X_test shape: (19, 1600)\n",
      "Fitting 10 folds for each of 12 candidates, totalling 120 fits\n"
     ]
    },
    {
     "name": "stderr",
     "output_type": "stream",
     "text": [
      "[Parallel(n_jobs=1)]: Using backend SequentialBackend with 1 concurrent workers.\n",
      "[Parallel(n_jobs=1)]: Done 120 out of 120 | elapsed:   24.8s finished\n"
     ]
    },
    {
     "name": "stdout",
     "output_type": "stream",
     "text": [
      "best score: 0.6107784431137725\n",
      "Fitting 10 folds for each of 12 candidates, totalling 120 fits\n"
     ]
    },
    {
     "name": "stderr",
     "output_type": "stream",
     "text": [
      "[Parallel(n_jobs=1)]: Using backend SequentialBackend with 1 concurrent workers.\n",
      "[Parallel(n_jobs=1)]: Done 120 out of 120 | elapsed:   24.3s finished\n"
     ]
    },
    {
     "name": "stdout",
     "output_type": "stream",
     "text": [
      "best score: 0.6287425149700598\n",
      "Fitting 10 folds for each of 12 candidates, totalling 120 fits\n"
     ]
    },
    {
     "name": "stderr",
     "output_type": "stream",
     "text": [
      "[Parallel(n_jobs=1)]: Using backend SequentialBackend with 1 concurrent workers.\n",
      "[Parallel(n_jobs=1)]: Done 120 out of 120 | elapsed:   31.7s finished\n"
     ]
    },
    {
     "name": "stdout",
     "output_type": "stream",
     "text": [
      "best score: 0.6287425149700598\n",
      "Fitting 10 folds for each of 12 candidates, totalling 120 fits\n"
     ]
    },
    {
     "name": "stderr",
     "output_type": "stream",
     "text": [
      "[Parallel(n_jobs=1)]: Using backend SequentialBackend with 1 concurrent workers.\n",
      "[Parallel(n_jobs=1)]: Done 120 out of 120 | elapsed:   22.7s finished\n"
     ]
    },
    {
     "name": "stdout",
     "output_type": "stream",
     "text": [
      "best score: 0.6407185628742516\n",
      "Fitting 10 folds for each of 12 candidates, totalling 120 fits\n"
     ]
    },
    {
     "name": "stderr",
     "output_type": "stream",
     "text": [
      "[Parallel(n_jobs=1)]: Using backend SequentialBackend with 1 concurrent workers.\n",
      "[Parallel(n_jobs=1)]: Done 120 out of 120 | elapsed:   20.6s finished\n"
     ]
    },
    {
     "name": "stdout",
     "output_type": "stream",
     "text": [
      "best score: 0.6407185628742516\n",
      "Split: 1\n",
      "Split: 2\n",
      "Split: 3\n",
      "Split: 4\n",
      "Split: 5\n",
      "Split: 6\n",
      "Split: 7\n",
      "Split: 8\n",
      "Split: 9\n",
      "Split: 10\n",
      "Training Testing Accuracy for n_games=5 team=17 : 65.20% (10.65%)\n",
      "(185, 944)\n",
      "(185, 1)\n",
      "X_train shape: (166, 1613)\n",
      "X_test shape: (19, 1613)\n",
      "Fitting 10 folds for each of 12 candidates, totalling 120 fits\n"
     ]
    },
    {
     "name": "stderr",
     "output_type": "stream",
     "text": [
      "[Parallel(n_jobs=1)]: Using backend SequentialBackend with 1 concurrent workers.\n",
      "[Parallel(n_jobs=1)]: Done 120 out of 120 | elapsed:   24.7s finished\n"
     ]
    },
    {
     "name": "stdout",
     "output_type": "stream",
     "text": [
      "best score: 0.5602409638554217\n",
      "Fitting 10 folds for each of 12 candidates, totalling 120 fits\n"
     ]
    },
    {
     "name": "stderr",
     "output_type": "stream",
     "text": [
      "[Parallel(n_jobs=1)]: Using backend SequentialBackend with 1 concurrent workers.\n",
      "[Parallel(n_jobs=1)]: Done 120 out of 120 | elapsed:   17.7s finished\n"
     ]
    },
    {
     "name": "stdout",
     "output_type": "stream",
     "text": [
      "best score: 0.5602409638554217\n",
      "Fitting 10 folds for each of 12 candidates, totalling 120 fits\n"
     ]
    },
    {
     "name": "stderr",
     "output_type": "stream",
     "text": [
      "[Parallel(n_jobs=1)]: Using backend SequentialBackend with 1 concurrent workers.\n",
      "[Parallel(n_jobs=1)]: Done 120 out of 120 | elapsed:   24.6s finished\n"
     ]
    },
    {
     "name": "stdout",
     "output_type": "stream",
     "text": [
      "best score: 0.5602409638554217\n",
      "Fitting 10 folds for each of 12 candidates, totalling 120 fits\n"
     ]
    },
    {
     "name": "stderr",
     "output_type": "stream",
     "text": [
      "[Parallel(n_jobs=1)]: Using backend SequentialBackend with 1 concurrent workers.\n",
      "[Parallel(n_jobs=1)]: Done 120 out of 120 | elapsed:  1.2min finished\n"
     ]
    },
    {
     "name": "stdout",
     "output_type": "stream",
     "text": [
      "best score: 0.5602409638554217\n",
      "Fitting 10 folds for each of 12 candidates, totalling 120 fits\n"
     ]
    },
    {
     "name": "stderr",
     "output_type": "stream",
     "text": [
      "[Parallel(n_jobs=1)]: Using backend SequentialBackend with 1 concurrent workers.\n",
      "[Parallel(n_jobs=1)]: Done 120 out of 120 | elapsed:   18.9s finished\n"
     ]
    },
    {
     "name": "stdout",
     "output_type": "stream",
     "text": [
      "best score: 0.5662650602409639\n",
      "Split: 1\n",
      "Split: 2\n",
      "Split: 3\n",
      "Split: 4\n",
      "Split: 5\n",
      "Split: 6\n",
      "Split: 7\n",
      "Split: 8\n",
      "Split: 9\n",
      "Split: 10\n",
      "Training Testing Accuracy for n_games=5 team=18 : 52.87% (8.25%)\n",
      "Accuracy for Team Models for n_games= 5 : 60.59% (6.29%)\n",
      "(180, 1130)\n",
      "(180, 1)\n",
      "X_train shape: (162, 1909)\n",
      "X_test shape: (18, 1909)\n",
      "Fitting 10 folds for each of 12 candidates, totalling 120 fits\n"
     ]
    },
    {
     "name": "stderr",
     "output_type": "stream",
     "text": [
      "[Parallel(n_jobs=1)]: Using backend SequentialBackend with 1 concurrent workers.\n",
      "[Parallel(n_jobs=1)]: Done 120 out of 120 | elapsed:   28.0s finished\n"
     ]
    },
    {
     "name": "stdout",
     "output_type": "stream",
     "text": [
      "best score: 0.5617283950617284\n",
      "Fitting 10 folds for each of 12 candidates, totalling 120 fits\n"
     ]
    },
    {
     "name": "stderr",
     "output_type": "stream",
     "text": [
      "[Parallel(n_jobs=1)]: Using backend SequentialBackend with 1 concurrent workers.\n",
      "[Parallel(n_jobs=1)]: Done 120 out of 120 | elapsed:   24.6s finished\n"
     ]
    },
    {
     "name": "stdout",
     "output_type": "stream",
     "text": [
      "best score: 0.5617283950617284\n",
      "Fitting 10 folds for each of 12 candidates, totalling 120 fits\n"
     ]
    },
    {
     "name": "stderr",
     "output_type": "stream",
     "text": [
      "[Parallel(n_jobs=1)]: Using backend SequentialBackend with 1 concurrent workers.\n",
      "[Parallel(n_jobs=1)]: Done 120 out of 120 | elapsed:   22.9s finished\n"
     ]
    },
    {
     "name": "stdout",
     "output_type": "stream",
     "text": [
      "best score: 0.5617283950617284\n",
      "Fitting 10 folds for each of 12 candidates, totalling 120 fits\n"
     ]
    },
    {
     "name": "stderr",
     "output_type": "stream",
     "text": [
      "[Parallel(n_jobs=1)]: Using backend SequentialBackend with 1 concurrent workers.\n",
      "[Parallel(n_jobs=1)]: Done 120 out of 120 | elapsed:   41.5s finished\n"
     ]
    },
    {
     "name": "stdout",
     "output_type": "stream",
     "text": [
      "best score: 0.5617283950617284\n",
      "Fitting 10 folds for each of 12 candidates, totalling 120 fits\n"
     ]
    },
    {
     "name": "stderr",
     "output_type": "stream",
     "text": [
      "[Parallel(n_jobs=1)]: Using backend SequentialBackend with 1 concurrent workers.\n",
      "[Parallel(n_jobs=1)]: Done 120 out of 120 | elapsed:   19.8s finished\n"
     ]
    },
    {
     "name": "stdout",
     "output_type": "stream",
     "text": [
      "best score: 0.5617283950617284\n",
      "Split: 1\n",
      "Split: 2\n",
      "Split: 3\n",
      "Split: 4\n",
      "Split: 5\n",
      "Split: 6\n",
      "Split: 7\n",
      "Split: 8\n",
      "Split: 9\n",
      "Split: 10\n",
      "Training Testing Accuracy for n_games=6 team=1 : 60.00% (11.86%)\n",
      "(178, 1130)\n",
      "(178, 1)\n",
      "X_train shape: (160, 1886)\n",
      "X_test shape: (18, 1886)\n",
      "Fitting 10 folds for each of 12 candidates, totalling 120 fits\n"
     ]
    },
    {
     "name": "stderr",
     "output_type": "stream",
     "text": [
      "[Parallel(n_jobs=1)]: Using backend SequentialBackend with 1 concurrent workers.\n",
      "[Parallel(n_jobs=1)]: Done 120 out of 120 | elapsed:   27.3s finished\n"
     ]
    },
    {
     "name": "stdout",
     "output_type": "stream",
     "text": [
      "best score: 0.66875\n",
      "Fitting 10 folds for each of 12 candidates, totalling 120 fits\n"
     ]
    },
    {
     "name": "stderr",
     "output_type": "stream",
     "text": [
      "[Parallel(n_jobs=1)]: Using backend SequentialBackend with 1 concurrent workers.\n",
      "[Parallel(n_jobs=1)]: Done 120 out of 120 | elapsed:   44.5s finished\n"
     ]
    },
    {
     "name": "stdout",
     "output_type": "stream",
     "text": [
      "best score: 0.66875\n",
      "Fitting 10 folds for each of 12 candidates, totalling 120 fits\n"
     ]
    },
    {
     "name": "stderr",
     "output_type": "stream",
     "text": [
      "[Parallel(n_jobs=1)]: Using backend SequentialBackend with 1 concurrent workers.\n",
      "[Parallel(n_jobs=1)]: Done 120 out of 120 | elapsed:   23.7s finished\n"
     ]
    },
    {
     "name": "stdout",
     "output_type": "stream",
     "text": [
      "best score: 0.66875\n",
      "Fitting 10 folds for each of 12 candidates, totalling 120 fits\n"
     ]
    },
    {
     "name": "stderr",
     "output_type": "stream",
     "text": [
      "[Parallel(n_jobs=1)]: Using backend SequentialBackend with 1 concurrent workers.\n",
      "[Parallel(n_jobs=1)]: Done 120 out of 120 | elapsed:   24.4s finished\n"
     ]
    },
    {
     "name": "stdout",
     "output_type": "stream",
     "text": [
      "best score: 0.66875\n",
      "Fitting 10 folds for each of 12 candidates, totalling 120 fits\n"
     ]
    },
    {
     "name": "stderr",
     "output_type": "stream",
     "text": [
      "[Parallel(n_jobs=1)]: Using backend SequentialBackend with 1 concurrent workers.\n",
      "[Parallel(n_jobs=1)]: Done 120 out of 120 | elapsed:   25.8s finished\n"
     ]
    },
    {
     "name": "stdout",
     "output_type": "stream",
     "text": [
      "best score: 0.66875\n",
      "Split: 1\n",
      "Split: 2\n",
      "Split: 3\n",
      "Split: 4\n",
      "Split: 5\n",
      "Split: 6\n",
      "Split: 7\n",
      "Split: 8\n",
      "Split: 9\n",
      "Split: 10\n",
      "Training Testing Accuracy for n_games=6 team=2 : 66.31% (5.98%)\n",
      "(176, 1130)\n",
      "(176, 1)\n",
      "X_train shape: (158, 1884)\n",
      "X_test shape: (18, 1884)\n",
      "Fitting 10 folds for each of 12 candidates, totalling 120 fits\n"
     ]
    },
    {
     "name": "stderr",
     "output_type": "stream",
     "text": [
      "[Parallel(n_jobs=1)]: Using backend SequentialBackend with 1 concurrent workers.\n",
      "[Parallel(n_jobs=1)]: Done 120 out of 120 | elapsed:   27.4s finished\n"
     ]
    },
    {
     "name": "stdout",
     "output_type": "stream",
     "text": [
      "best score: 0.7025316455696202\n",
      "Fitting 10 folds for each of 12 candidates, totalling 120 fits\n"
     ]
    },
    {
     "name": "stderr",
     "output_type": "stream",
     "text": [
      "[Parallel(n_jobs=1)]: Using backend SequentialBackend with 1 concurrent workers.\n",
      "[Parallel(n_jobs=1)]: Done 120 out of 120 | elapsed:   21.2s finished\n"
     ]
    },
    {
     "name": "stdout",
     "output_type": "stream",
     "text": [
      "best score: 0.7025316455696202\n",
      "Fitting 10 folds for each of 12 candidates, totalling 120 fits\n"
     ]
    },
    {
     "name": "stderr",
     "output_type": "stream",
     "text": [
      "[Parallel(n_jobs=1)]: Using backend SequentialBackend with 1 concurrent workers.\n",
      "[Parallel(n_jobs=1)]: Done 120 out of 120 | elapsed:   22.0s finished\n"
     ]
    },
    {
     "name": "stdout",
     "output_type": "stream",
     "text": [
      "best score: 0.7025316455696202\n",
      "Fitting 10 folds for each of 12 candidates, totalling 120 fits\n"
     ]
    },
    {
     "name": "stderr",
     "output_type": "stream",
     "text": [
      "[Parallel(n_jobs=1)]: Using backend SequentialBackend with 1 concurrent workers.\n",
      "[Parallel(n_jobs=1)]: Done 120 out of 120 | elapsed:  1.2min finished\n"
     ]
    },
    {
     "name": "stdout",
     "output_type": "stream",
     "text": [
      "best score: 0.7025316455696202\n",
      "Fitting 10 folds for each of 12 candidates, totalling 120 fits\n"
     ]
    },
    {
     "name": "stderr",
     "output_type": "stream",
     "text": [
      "[Parallel(n_jobs=1)]: Using backend SequentialBackend with 1 concurrent workers.\n",
      "[Parallel(n_jobs=1)]: Done 120 out of 120 | elapsed:   26.6s finished\n"
     ]
    },
    {
     "name": "stdout",
     "output_type": "stream",
     "text": [
      "best score: 0.7025316455696202\n",
      "Split: 1\n",
      "Split: 2\n",
      "Split: 3\n",
      "Split: 4\n",
      "Split: 5\n",
      "Split: 6\n",
      "Split: 7\n",
      "Split: 8\n",
      "Split: 9\n",
      "Split: 10\n",
      "Training Testing Accuracy for n_games=6 team=3 : 69.35% (2.27%)\n",
      "(181, 1130)\n",
      "(181, 1)\n",
      "X_train shape: (162, 1889)\n",
      "X_test shape: (19, 1889)\n",
      "Fitting 10 folds for each of 12 candidates, totalling 120 fits\n"
     ]
    },
    {
     "name": "stderr",
     "output_type": "stream",
     "text": [
      "[Parallel(n_jobs=1)]: Using backend SequentialBackend with 1 concurrent workers.\n",
      "[Parallel(n_jobs=1)]: Done 120 out of 120 | elapsed:   27.8s finished\n"
     ]
    },
    {
     "name": "stdout",
     "output_type": "stream",
     "text": [
      "best score: 0.6790123456790124\n",
      "Fitting 10 folds for each of 12 candidates, totalling 120 fits\n"
     ]
    },
    {
     "name": "stderr",
     "output_type": "stream",
     "text": [
      "[Parallel(n_jobs=1)]: Using backend SequentialBackend with 1 concurrent workers.\n",
      "[Parallel(n_jobs=1)]: Done 120 out of 120 | elapsed:   32.1s finished\n"
     ]
    },
    {
     "name": "stdout",
     "output_type": "stream",
     "text": [
      "best score: 0.6790123456790124\n",
      "Fitting 10 folds for each of 12 candidates, totalling 120 fits\n"
     ]
    },
    {
     "name": "stderr",
     "output_type": "stream",
     "text": [
      "[Parallel(n_jobs=1)]: Using backend SequentialBackend with 1 concurrent workers.\n",
      "[Parallel(n_jobs=1)]: Done 120 out of 120 | elapsed:   32.9s finished\n"
     ]
    },
    {
     "name": "stdout",
     "output_type": "stream",
     "text": [
      "best score: 0.6790123456790124\n",
      "Fitting 10 folds for each of 12 candidates, totalling 120 fits\n"
     ]
    },
    {
     "name": "stderr",
     "output_type": "stream",
     "text": [
      "[Parallel(n_jobs=1)]: Using backend SequentialBackend with 1 concurrent workers.\n",
      "[Parallel(n_jobs=1)]: Done 120 out of 120 | elapsed:   21.2s finished\n"
     ]
    },
    {
     "name": "stdout",
     "output_type": "stream",
     "text": [
      "best score: 0.6790123456790124\n",
      "Fitting 10 folds for each of 12 candidates, totalling 120 fits\n"
     ]
    },
    {
     "name": "stderr",
     "output_type": "stream",
     "text": [
      "[Parallel(n_jobs=1)]: Using backend SequentialBackend with 1 concurrent workers.\n",
      "[Parallel(n_jobs=1)]: Done 120 out of 120 | elapsed:   54.6s finished\n"
     ]
    },
    {
     "name": "stdout",
     "output_type": "stream",
     "text": [
      "best score: 0.6790123456790124\n",
      "Split: 1\n",
      "Split: 2\n",
      "Split: 3\n",
      "Split: 4\n",
      "Split: 5\n",
      "Split: 6\n",
      "Split: 7\n",
      "Split: 8\n",
      "Split: 9\n",
      "Split: 10\n",
      "Training Testing Accuracy for n_games=6 team=4 : 57.46% (8.96%)\n",
      "(178, 1130)\n",
      "(178, 1)\n",
      "X_train shape: (160, 1873)\n",
      "X_test shape: (18, 1873)\n",
      "Fitting 10 folds for each of 12 candidates, totalling 120 fits\n"
     ]
    },
    {
     "name": "stderr",
     "output_type": "stream",
     "text": [
      "[Parallel(n_jobs=1)]: Using backend SequentialBackend with 1 concurrent workers.\n",
      "[Parallel(n_jobs=1)]: Done 120 out of 120 | elapsed:   27.1s finished\n"
     ]
    },
    {
     "name": "stdout",
     "output_type": "stream",
     "text": [
      "best score: 0.61875\n",
      "Fitting 10 folds for each of 12 candidates, totalling 120 fits\n"
     ]
    },
    {
     "name": "stderr",
     "output_type": "stream",
     "text": [
      "[Parallel(n_jobs=1)]: Using backend SequentialBackend with 1 concurrent workers.\n",
      "[Parallel(n_jobs=1)]: Done 120 out of 120 | elapsed:   55.3s finished\n"
     ]
    },
    {
     "name": "stdout",
     "output_type": "stream",
     "text": [
      "best score: 0.61875\n",
      "Fitting 10 folds for each of 12 candidates, totalling 120 fits\n"
     ]
    },
    {
     "name": "stderr",
     "output_type": "stream",
     "text": [
      "[Parallel(n_jobs=1)]: Using backend SequentialBackend with 1 concurrent workers.\n",
      "[Parallel(n_jobs=1)]: Done 120 out of 120 | elapsed:   57.1s finished\n"
     ]
    },
    {
     "name": "stdout",
     "output_type": "stream",
     "text": [
      "best score: 0.61875\n",
      "Fitting 10 folds for each of 12 candidates, totalling 120 fits\n"
     ]
    },
    {
     "name": "stderr",
     "output_type": "stream",
     "text": [
      "[Parallel(n_jobs=1)]: Using backend SequentialBackend with 1 concurrent workers.\n",
      "[Parallel(n_jobs=1)]: Done 120 out of 120 | elapsed:   48.2s finished\n"
     ]
    },
    {
     "name": "stdout",
     "output_type": "stream",
     "text": [
      "best score: 0.61875\n",
      "Fitting 10 folds for each of 12 candidates, totalling 120 fits\n"
     ]
    },
    {
     "name": "stderr",
     "output_type": "stream",
     "text": [
      "[Parallel(n_jobs=1)]: Using backend SequentialBackend with 1 concurrent workers.\n",
      "[Parallel(n_jobs=1)]: Done 120 out of 120 | elapsed:   20.7s finished\n"
     ]
    },
    {
     "name": "stdout",
     "output_type": "stream",
     "text": [
      "best score: 0.61875\n",
      "Split: 1\n",
      "Split: 2\n",
      "Split: 3\n",
      "Split: 4\n",
      "Split: 5\n",
      "Split: 6\n",
      "Split: 7\n",
      "Split: 8\n",
      "Split: 9\n",
      "Split: 10\n",
      "Training Testing Accuracy for n_games=6 team=5 : 56.73% (6.24%)\n",
      "(181, 1130)\n",
      "(181, 1)\n",
      "X_train shape: (162, 1898)\n",
      "X_test shape: (19, 1898)\n",
      "Fitting 10 folds for each of 12 candidates, totalling 120 fits\n"
     ]
    },
    {
     "name": "stderr",
     "output_type": "stream",
     "text": [
      "[Parallel(n_jobs=1)]: Using backend SequentialBackend with 1 concurrent workers.\n",
      "[Parallel(n_jobs=1)]: Done 120 out of 120 | elapsed:   28.2s finished\n"
     ]
    },
    {
     "name": "stdout",
     "output_type": "stream",
     "text": [
      "best score: 0.5987654320987654\n",
      "Fitting 10 folds for each of 12 candidates, totalling 120 fits\n"
     ]
    },
    {
     "name": "stderr",
     "output_type": "stream",
     "text": [
      "[Parallel(n_jobs=1)]: Using backend SequentialBackend with 1 concurrent workers.\n",
      "[Parallel(n_jobs=1)]: Done 120 out of 120 | elapsed:   28.1s finished\n"
     ]
    },
    {
     "name": "stdout",
     "output_type": "stream",
     "text": [
      "best score: 0.5987654320987654\n",
      "Fitting 10 folds for each of 12 candidates, totalling 120 fits\n"
     ]
    },
    {
     "name": "stderr",
     "output_type": "stream",
     "text": [
      "[Parallel(n_jobs=1)]: Using backend SequentialBackend with 1 concurrent workers.\n",
      "[Parallel(n_jobs=1)]: Done 120 out of 120 | elapsed:   31.4s finished\n"
     ]
    },
    {
     "name": "stdout",
     "output_type": "stream",
     "text": [
      "best score: 0.5987654320987654\n",
      "Fitting 10 folds for each of 12 candidates, totalling 120 fits\n"
     ]
    },
    {
     "name": "stderr",
     "output_type": "stream",
     "text": [
      "[Parallel(n_jobs=1)]: Using backend SequentialBackend with 1 concurrent workers.\n",
      "[Parallel(n_jobs=1)]: Done 120 out of 120 | elapsed:   24.2s finished\n"
     ]
    },
    {
     "name": "stdout",
     "output_type": "stream",
     "text": [
      "best score: 0.5987654320987654\n",
      "Fitting 10 folds for each of 12 candidates, totalling 120 fits\n"
     ]
    },
    {
     "name": "stderr",
     "output_type": "stream",
     "text": [
      "[Parallel(n_jobs=1)]: Using backend SequentialBackend with 1 concurrent workers.\n",
      "[Parallel(n_jobs=1)]: Done 120 out of 120 | elapsed:   46.1s finished\n"
     ]
    },
    {
     "name": "stdout",
     "output_type": "stream",
     "text": [
      "best score: 0.5987654320987654\n",
      "Split: 1\n",
      "Split: 2\n",
      "Split: 3\n",
      "Split: 4\n",
      "Split: 5\n",
      "Split: 6\n",
      "Split: 7\n",
      "Split: 8\n",
      "Split: 9\n",
      "Split: 10\n",
      "Training Testing Accuracy for n_games=6 team=6 : 57.46% (8.61%)\n",
      "(190, 1130)\n",
      "(190, 1)\n",
      "X_train shape: (171, 1887)\n",
      "X_test shape: (19, 1887)\n",
      "Fitting 10 folds for each of 12 candidates, totalling 120 fits\n"
     ]
    },
    {
     "name": "stderr",
     "output_type": "stream",
     "text": [
      "[Parallel(n_jobs=1)]: Using backend SequentialBackend with 1 concurrent workers.\n",
      "[Parallel(n_jobs=1)]: Done 120 out of 120 | elapsed:   28.7s finished\n"
     ]
    },
    {
     "name": "stdout",
     "output_type": "stream",
     "text": [
      "best score: 0.6783625730994152\n",
      "Fitting 10 folds for each of 12 candidates, totalling 120 fits\n"
     ]
    },
    {
     "name": "stderr",
     "output_type": "stream",
     "text": [
      "[Parallel(n_jobs=1)]: Using backend SequentialBackend with 1 concurrent workers.\n",
      "[Parallel(n_jobs=1)]: Done 120 out of 120 | elapsed:   38.7s finished\n"
     ]
    },
    {
     "name": "stdout",
     "output_type": "stream",
     "text": [
      "best score: 0.6783625730994152\n",
      "Fitting 10 folds for each of 12 candidates, totalling 120 fits\n"
     ]
    },
    {
     "name": "stderr",
     "output_type": "stream",
     "text": [
      "[Parallel(n_jobs=1)]: Using backend SequentialBackend with 1 concurrent workers.\n",
      "[Parallel(n_jobs=1)]: Done 120 out of 120 | elapsed:   24.4s finished\n"
     ]
    },
    {
     "name": "stdout",
     "output_type": "stream",
     "text": [
      "best score: 0.6783625730994152\n",
      "Fitting 10 folds for each of 12 candidates, totalling 120 fits\n"
     ]
    },
    {
     "name": "stderr",
     "output_type": "stream",
     "text": [
      "[Parallel(n_jobs=1)]: Using backend SequentialBackend with 1 concurrent workers.\n",
      "[Parallel(n_jobs=1)]: Done 120 out of 120 | elapsed:   20.4s finished\n"
     ]
    },
    {
     "name": "stdout",
     "output_type": "stream",
     "text": [
      "best score: 0.6783625730994152\n",
      "Fitting 10 folds for each of 12 candidates, totalling 120 fits\n"
     ]
    },
    {
     "name": "stderr",
     "output_type": "stream",
     "text": [
      "[Parallel(n_jobs=1)]: Using backend SequentialBackend with 1 concurrent workers.\n",
      "[Parallel(n_jobs=1)]: Done 120 out of 120 | elapsed:   22.7s finished\n"
     ]
    },
    {
     "name": "stdout",
     "output_type": "stream",
     "text": [
      "best score: 0.6783625730994152\n",
      "Split: 1\n",
      "Split: 2\n",
      "Split: 3\n",
      "Split: 4\n",
      "Split: 5\n",
      "Split: 6\n",
      "Split: 7\n",
      "Split: 8\n",
      "Split: 9\n",
      "Split: 10\n",
      "Training Testing Accuracy for n_games=6 team=7 : 65.79% (2.63%)\n",
      "(174, 1130)\n",
      "(174, 1)\n",
      "X_train shape: (156, 1891)\n",
      "X_test shape: (18, 1891)\n",
      "Fitting 10 folds for each of 12 candidates, totalling 120 fits\n"
     ]
    },
    {
     "name": "stderr",
     "output_type": "stream",
     "text": [
      "[Parallel(n_jobs=1)]: Using backend SequentialBackend with 1 concurrent workers.\n",
      "[Parallel(n_jobs=1)]: Done 120 out of 120 | elapsed:   27.3s finished\n"
     ]
    },
    {
     "name": "stdout",
     "output_type": "stream",
     "text": [
      "best score: 0.717948717948718\n",
      "Fitting 10 folds for each of 12 candidates, totalling 120 fits\n"
     ]
    },
    {
     "name": "stderr",
     "output_type": "stream",
     "text": [
      "[Parallel(n_jobs=1)]: Using backend SequentialBackend with 1 concurrent workers.\n",
      "[Parallel(n_jobs=1)]: Done 120 out of 120 | elapsed:   22.6s finished\n"
     ]
    },
    {
     "name": "stdout",
     "output_type": "stream",
     "text": [
      "best score: 0.717948717948718\n",
      "Fitting 10 folds for each of 12 candidates, totalling 120 fits\n"
     ]
    },
    {
     "name": "stderr",
     "output_type": "stream",
     "text": [
      "[Parallel(n_jobs=1)]: Using backend SequentialBackend with 1 concurrent workers.\n",
      "[Parallel(n_jobs=1)]: Done 120 out of 120 | elapsed:   21.1s finished\n"
     ]
    },
    {
     "name": "stdout",
     "output_type": "stream",
     "text": [
      "best score: 0.717948717948718\n",
      "Fitting 10 folds for each of 12 candidates, totalling 120 fits\n"
     ]
    },
    {
     "name": "stderr",
     "output_type": "stream",
     "text": [
      "[Parallel(n_jobs=1)]: Using backend SequentialBackend with 1 concurrent workers.\n",
      "[Parallel(n_jobs=1)]: Done 120 out of 120 | elapsed:   22.1s finished\n"
     ]
    },
    {
     "name": "stdout",
     "output_type": "stream",
     "text": [
      "best score: 0.717948717948718\n",
      "Fitting 10 folds for each of 12 candidates, totalling 120 fits\n"
     ]
    },
    {
     "name": "stderr",
     "output_type": "stream",
     "text": [
      "[Parallel(n_jobs=1)]: Using backend SequentialBackend with 1 concurrent workers.\n",
      "[Parallel(n_jobs=1)]: Done 120 out of 120 | elapsed:   20.9s finished\n"
     ]
    },
    {
     "name": "stdout",
     "output_type": "stream",
     "text": [
      "best score: 0.717948717948718\n",
      "Split: 1\n",
      "Split: 2\n",
      "Split: 3\n",
      "Split: 4\n",
      "Split: 5\n",
      "Split: 6\n",
      "Split: 7\n",
      "Split: 8\n",
      "Split: 9\n",
      "Split: 10\n",
      "Training Testing Accuracy for n_games=6 team=8 : 71.83% (1.73%)\n",
      "(187, 1130)\n",
      "(187, 1)\n",
      "X_train shape: (168, 1901)\n",
      "X_test shape: (19, 1901)\n",
      "Fitting 10 folds for each of 12 candidates, totalling 120 fits\n"
     ]
    },
    {
     "name": "stderr",
     "output_type": "stream",
     "text": [
      "[Parallel(n_jobs=1)]: Using backend SequentialBackend with 1 concurrent workers.\n",
      "[Parallel(n_jobs=1)]: Done 120 out of 120 | elapsed:   28.7s finished\n"
     ]
    },
    {
     "name": "stdout",
     "output_type": "stream",
     "text": [
      "best score: 0.5952380952380952\n",
      "Fitting 10 folds for each of 12 candidates, totalling 120 fits\n"
     ]
    },
    {
     "name": "stderr",
     "output_type": "stream",
     "text": [
      "[Parallel(n_jobs=1)]: Using backend SequentialBackend with 1 concurrent workers.\n",
      "[Parallel(n_jobs=1)]: Done 120 out of 120 | elapsed:   59.2s finished\n"
     ]
    },
    {
     "name": "stdout",
     "output_type": "stream",
     "text": [
      "best score: 0.5952380952380952\n",
      "Fitting 10 folds for each of 12 candidates, totalling 120 fits\n"
     ]
    },
    {
     "name": "stderr",
     "output_type": "stream",
     "text": [
      "[Parallel(n_jobs=1)]: Using backend SequentialBackend with 1 concurrent workers.\n",
      "[Parallel(n_jobs=1)]: Done 120 out of 120 | elapsed:   29.3s finished\n"
     ]
    },
    {
     "name": "stdout",
     "output_type": "stream",
     "text": [
      "best score: 0.5952380952380952\n",
      "Fitting 10 folds for each of 12 candidates, totalling 120 fits\n"
     ]
    },
    {
     "name": "stderr",
     "output_type": "stream",
     "text": [
      "[Parallel(n_jobs=1)]: Using backend SequentialBackend with 1 concurrent workers.\n",
      "[Parallel(n_jobs=1)]: Done 120 out of 120 | elapsed:   28.1s finished\n"
     ]
    },
    {
     "name": "stdout",
     "output_type": "stream",
     "text": [
      "best score: 0.5952380952380952\n",
      "Fitting 10 folds for each of 12 candidates, totalling 120 fits\n"
     ]
    },
    {
     "name": "stderr",
     "output_type": "stream",
     "text": [
      "[Parallel(n_jobs=1)]: Using backend SequentialBackend with 1 concurrent workers.\n",
      "[Parallel(n_jobs=1)]: Done 120 out of 120 | elapsed:   30.1s finished\n"
     ]
    },
    {
     "name": "stdout",
     "output_type": "stream",
     "text": [
      "best score: 0.5952380952380952\n",
      "Split: 1\n",
      "Split: 2\n",
      "Split: 3\n",
      "Split: 4\n",
      "Split: 5\n",
      "Split: 6\n",
      "Split: 7\n",
      "Split: 8\n",
      "Split: 9\n",
      "Split: 10\n",
      "Training Testing Accuracy for n_games=6 team=9 : 57.22% (9.19%)\n",
      "(188, 1130)\n",
      "(188, 1)\n",
      "X_train shape: (169, 1896)\n",
      "X_test shape: (19, 1896)\n",
      "Fitting 10 folds for each of 12 candidates, totalling 120 fits\n"
     ]
    },
    {
     "name": "stderr",
     "output_type": "stream",
     "text": [
      "[Parallel(n_jobs=1)]: Using backend SequentialBackend with 1 concurrent workers.\n",
      "[Parallel(n_jobs=1)]: Done 120 out of 120 | elapsed:   27.7s finished\n"
     ]
    },
    {
     "name": "stdout",
     "output_type": "stream",
     "text": [
      "best score: 0.6449704142011834\n",
      "Fitting 10 folds for each of 12 candidates, totalling 120 fits\n"
     ]
    },
    {
     "name": "stderr",
     "output_type": "stream",
     "text": [
      "[Parallel(n_jobs=1)]: Using backend SequentialBackend with 1 concurrent workers.\n",
      "[Parallel(n_jobs=1)]: Done 120 out of 120 | elapsed:   24.0s finished\n"
     ]
    },
    {
     "name": "stdout",
     "output_type": "stream",
     "text": [
      "best score: 0.6686390532544378\n",
      "Fitting 10 folds for each of 12 candidates, totalling 120 fits\n"
     ]
    },
    {
     "name": "stderr",
     "output_type": "stream",
     "text": [
      "[Parallel(n_jobs=1)]: Using backend SequentialBackend with 1 concurrent workers.\n",
      "[Parallel(n_jobs=1)]: Done 120 out of 120 | elapsed:   27.6s finished\n"
     ]
    },
    {
     "name": "stdout",
     "output_type": "stream",
     "text": [
      "best score: 0.6804733727810651\n",
      "Fitting 10 folds for each of 12 candidates, totalling 120 fits\n"
     ]
    },
    {
     "name": "stderr",
     "output_type": "stream",
     "text": [
      "[Parallel(n_jobs=1)]: Using backend SequentialBackend with 1 concurrent workers.\n",
      "[Parallel(n_jobs=1)]: Done 120 out of 120 | elapsed:   23.9s finished\n"
     ]
    },
    {
     "name": "stdout",
     "output_type": "stream",
     "text": [
      "best score: 0.6804733727810651\n",
      "Fitting 10 folds for each of 12 candidates, totalling 120 fits\n"
     ]
    },
    {
     "name": "stderr",
     "output_type": "stream",
     "text": [
      "[Parallel(n_jobs=1)]: Using backend SequentialBackend with 1 concurrent workers.\n",
      "[Parallel(n_jobs=1)]: Done 120 out of 120 | elapsed:   28.0s finished\n"
     ]
    },
    {
     "name": "stdout",
     "output_type": "stream",
     "text": [
      "best score: 0.6923076923076923\n",
      "Split: 1\n",
      "Split: 2\n",
      "Split: 3\n",
      "Split: 4\n",
      "Split: 5\n",
      "Split: 6\n",
      "Split: 7\n",
      "Split: 8\n",
      "Split: 9\n",
      "Split: 10\n",
      "Training Testing Accuracy for n_games=6 team=10 : 64.42% (9.01%)\n",
      "(180, 1130)\n",
      "(180, 1)\n",
      "X_train shape: (162, 1903)\n",
      "X_test shape: (18, 1903)\n",
      "Fitting 10 folds for each of 12 candidates, totalling 120 fits\n"
     ]
    },
    {
     "name": "stderr",
     "output_type": "stream",
     "text": [
      "[Parallel(n_jobs=1)]: Using backend SequentialBackend with 1 concurrent workers.\n",
      "[Parallel(n_jobs=1)]: Done 120 out of 120 | elapsed:   27.8s finished\n"
     ]
    },
    {
     "name": "stdout",
     "output_type": "stream",
     "text": [
      "best score: 0.5802469135802469\n",
      "Fitting 10 folds for each of 12 candidates, totalling 120 fits\n"
     ]
    },
    {
     "name": "stderr",
     "output_type": "stream",
     "text": [
      "[Parallel(n_jobs=1)]: Using backend SequentialBackend with 1 concurrent workers.\n",
      "[Parallel(n_jobs=1)]: Done 120 out of 120 | elapsed:   28.0s finished\n"
     ]
    },
    {
     "name": "stdout",
     "output_type": "stream",
     "text": [
      "best score: 0.5987654320987654\n",
      "Fitting 10 folds for each of 12 candidates, totalling 120 fits\n"
     ]
    },
    {
     "name": "stderr",
     "output_type": "stream",
     "text": [
      "[Parallel(n_jobs=1)]: Using backend SequentialBackend with 1 concurrent workers.\n",
      "[Parallel(n_jobs=1)]: Done 120 out of 120 | elapsed:   32.3s finished\n"
     ]
    },
    {
     "name": "stdout",
     "output_type": "stream",
     "text": [
      "best score: 0.5987654320987654\n",
      "Fitting 10 folds for each of 12 candidates, totalling 120 fits\n"
     ]
    },
    {
     "name": "stderr",
     "output_type": "stream",
     "text": [
      "[Parallel(n_jobs=1)]: Using backend SequentialBackend with 1 concurrent workers.\n",
      "[Parallel(n_jobs=1)]: Done 120 out of 120 | elapsed:   26.9s finished\n"
     ]
    },
    {
     "name": "stdout",
     "output_type": "stream",
     "text": [
      "best score: 0.6234567901234568\n",
      "Fitting 10 folds for each of 12 candidates, totalling 120 fits\n"
     ]
    },
    {
     "name": "stderr",
     "output_type": "stream",
     "text": [
      "[Parallel(n_jobs=1)]: Using backend SequentialBackend with 1 concurrent workers.\n",
      "[Parallel(n_jobs=1)]: Done 120 out of 120 | elapsed:   40.4s finished\n"
     ]
    },
    {
     "name": "stdout",
     "output_type": "stream",
     "text": [
      "best score: 0.6296296296296297\n",
      "Split: 1\n",
      "Split: 2\n",
      "Split: 3\n",
      "Split: 4\n",
      "Split: 5\n",
      "Split: 6\n",
      "Split: 7\n",
      "Split: 8\n",
      "Split: 9\n",
      "Split: 10\n",
      "Training Testing Accuracy for n_games=6 team=11 : 58.89% (6.19%)\n",
      "(181, 1130)\n",
      "(181, 1)\n",
      "X_train shape: (162, 1894)\n",
      "X_test shape: (19, 1894)\n",
      "Fitting 10 folds for each of 12 candidates, totalling 120 fits\n"
     ]
    },
    {
     "name": "stderr",
     "output_type": "stream",
     "text": [
      "[Parallel(n_jobs=1)]: Using backend SequentialBackend with 1 concurrent workers.\n",
      "[Parallel(n_jobs=1)]: Done 120 out of 120 | elapsed:   28.1s finished\n"
     ]
    },
    {
     "name": "stdout",
     "output_type": "stream",
     "text": [
      "best score: 0.5802469135802469\n",
      "Fitting 10 folds for each of 12 candidates, totalling 120 fits\n"
     ]
    },
    {
     "name": "stderr",
     "output_type": "stream",
     "text": [
      "[Parallel(n_jobs=1)]: Using backend SequentialBackend with 1 concurrent workers.\n",
      "[Parallel(n_jobs=1)]: Done 120 out of 120 | elapsed:   26.6s finished\n"
     ]
    },
    {
     "name": "stdout",
     "output_type": "stream",
     "text": [
      "best score: 0.5802469135802469\n",
      "Fitting 10 folds for each of 12 candidates, totalling 120 fits\n"
     ]
    },
    {
     "name": "stderr",
     "output_type": "stream",
     "text": [
      "[Parallel(n_jobs=1)]: Using backend SequentialBackend with 1 concurrent workers.\n",
      "[Parallel(n_jobs=1)]: Done 120 out of 120 | elapsed:   22.1s finished\n"
     ]
    },
    {
     "name": "stdout",
     "output_type": "stream",
     "text": [
      "best score: 0.5802469135802469\n",
      "Fitting 10 folds for each of 12 candidates, totalling 120 fits\n"
     ]
    },
    {
     "name": "stderr",
     "output_type": "stream",
     "text": [
      "[Parallel(n_jobs=1)]: Using backend SequentialBackend with 1 concurrent workers.\n",
      "[Parallel(n_jobs=1)]: Done 120 out of 120 | elapsed:   24.0s finished\n"
     ]
    },
    {
     "name": "stdout",
     "output_type": "stream",
     "text": [
      "best score: 0.5802469135802469\n",
      "Fitting 10 folds for each of 12 candidates, totalling 120 fits\n"
     ]
    },
    {
     "name": "stderr",
     "output_type": "stream",
     "text": [
      "[Parallel(n_jobs=1)]: Using backend SequentialBackend with 1 concurrent workers.\n",
      "[Parallel(n_jobs=1)]: Done 120 out of 120 | elapsed:   51.5s finished\n"
     ]
    },
    {
     "name": "stdout",
     "output_type": "stream",
     "text": [
      "best score: 0.5802469135802469\n",
      "Split: 1\n",
      "Split: 2\n",
      "Split: 3\n",
      "Split: 4\n",
      "Split: 5\n",
      "Split: 6\n",
      "Split: 7\n",
      "Split: 8\n",
      "Split: 9\n",
      "Split: 10\n",
      "Training Testing Accuracy for n_games=6 team=12 : 53.07% (9.81%)\n",
      "(182, 1130)\n",
      "(182, 1)\n",
      "X_train shape: (163, 1916)\n",
      "X_test shape: (19, 1916)\n",
      "Fitting 10 folds for each of 12 candidates, totalling 120 fits\n"
     ]
    },
    {
     "name": "stderr",
     "output_type": "stream",
     "text": [
      "[Parallel(n_jobs=1)]: Using backend SequentialBackend with 1 concurrent workers.\n",
      "[Parallel(n_jobs=1)]: Done 120 out of 120 | elapsed:   28.3s finished\n"
     ]
    },
    {
     "name": "stdout",
     "output_type": "stream",
     "text": [
      "best score: 0.6134969325153374\n",
      "Fitting 10 folds for each of 12 candidates, totalling 120 fits\n"
     ]
    },
    {
     "name": "stderr",
     "output_type": "stream",
     "text": [
      "[Parallel(n_jobs=1)]: Using backend SequentialBackend with 1 concurrent workers.\n",
      "[Parallel(n_jobs=1)]: Done 120 out of 120 | elapsed:   34.4s finished\n"
     ]
    },
    {
     "name": "stdout",
     "output_type": "stream",
     "text": [
      "best score: 0.6134969325153374\n",
      "Fitting 10 folds for each of 12 candidates, totalling 120 fits\n"
     ]
    },
    {
     "name": "stderr",
     "output_type": "stream",
     "text": [
      "[Parallel(n_jobs=1)]: Using backend SequentialBackend with 1 concurrent workers.\n",
      "[Parallel(n_jobs=1)]: Done 120 out of 120 | elapsed:   29.1s finished\n"
     ]
    },
    {
     "name": "stdout",
     "output_type": "stream",
     "text": [
      "best score: 0.6257668711656442\n",
      "Fitting 10 folds for each of 12 candidates, totalling 120 fits\n"
     ]
    },
    {
     "name": "stderr",
     "output_type": "stream",
     "text": [
      "[Parallel(n_jobs=1)]: Using backend SequentialBackend with 1 concurrent workers.\n",
      "[Parallel(n_jobs=1)]: Done 120 out of 120 | elapsed:   25.2s finished\n"
     ]
    },
    {
     "name": "stdout",
     "output_type": "stream",
     "text": [
      "best score: 0.6441717791411042\n",
      "Fitting 10 folds for each of 12 candidates, totalling 120 fits\n"
     ]
    },
    {
     "name": "stderr",
     "output_type": "stream",
     "text": [
      "[Parallel(n_jobs=1)]: Using backend SequentialBackend with 1 concurrent workers.\n",
      "[Parallel(n_jobs=1)]: Done 120 out of 120 | elapsed:   28.0s finished\n"
     ]
    },
    {
     "name": "stdout",
     "output_type": "stream",
     "text": [
      "best score: 0.6503067484662577\n",
      "Split: 1\n",
      "Split: 2\n",
      "Split: 3\n",
      "Split: 4\n",
      "Split: 5\n",
      "Split: 6\n",
      "Split: 7\n",
      "Split: 8\n",
      "Split: 9\n",
      "Split: 10\n",
      "Training Testing Accuracy for n_games=6 team=13 : 59.74% (7.94%)\n",
      "(185, 1130)\n",
      "(185, 1)\n",
      "X_train shape: (166, 1895)\n",
      "X_test shape: (19, 1895)\n",
      "Fitting 10 folds for each of 12 candidates, totalling 120 fits\n"
     ]
    },
    {
     "name": "stderr",
     "output_type": "stream",
     "text": [
      "[Parallel(n_jobs=1)]: Using backend SequentialBackend with 1 concurrent workers.\n",
      "[Parallel(n_jobs=1)]: Done 120 out of 120 | elapsed:   28.0s finished\n"
     ]
    },
    {
     "name": "stdout",
     "output_type": "stream",
     "text": [
      "best score: 0.6265060240963856\n",
      "Fitting 10 folds for each of 12 candidates, totalling 120 fits\n"
     ]
    },
    {
     "name": "stderr",
     "output_type": "stream",
     "text": [
      "[Parallel(n_jobs=1)]: Using backend SequentialBackend with 1 concurrent workers.\n",
      "[Parallel(n_jobs=1)]: Done 120 out of 120 | elapsed:   35.8s finished\n"
     ]
    },
    {
     "name": "stdout",
     "output_type": "stream",
     "text": [
      "best score: 0.6265060240963856\n",
      "Fitting 10 folds for each of 12 candidates, totalling 120 fits\n"
     ]
    },
    {
     "name": "stderr",
     "output_type": "stream",
     "text": [
      "[Parallel(n_jobs=1)]: Using backend SequentialBackend with 1 concurrent workers.\n",
      "[Parallel(n_jobs=1)]: Done 120 out of 120 | elapsed:   28.9s finished\n"
     ]
    },
    {
     "name": "stdout",
     "output_type": "stream",
     "text": [
      "best score: 0.6325301204819277\n",
      "Fitting 10 folds for each of 12 candidates, totalling 120 fits\n"
     ]
    },
    {
     "name": "stderr",
     "output_type": "stream",
     "text": [
      "[Parallel(n_jobs=1)]: Using backend SequentialBackend with 1 concurrent workers.\n",
      "[Parallel(n_jobs=1)]: Done 120 out of 120 | elapsed:   23.2s finished\n"
     ]
    },
    {
     "name": "stdout",
     "output_type": "stream",
     "text": [
      "best score: 0.6325301204819277\n",
      "Fitting 10 folds for each of 12 candidates, totalling 120 fits\n"
     ]
    },
    {
     "name": "stderr",
     "output_type": "stream",
     "text": [
      "[Parallel(n_jobs=1)]: Using backend SequentialBackend with 1 concurrent workers.\n",
      "[Parallel(n_jobs=1)]: Done 120 out of 120 | elapsed:   25.9s finished\n"
     ]
    },
    {
     "name": "stdout",
     "output_type": "stream",
     "text": [
      "best score: 0.6325301204819277\n",
      "Split: 1\n",
      "Split: 2\n",
      "Split: 3\n",
      "Split: 4\n",
      "Split: 5\n",
      "Split: 6\n",
      "Split: 7\n",
      "Split: 8\n",
      "Split: 9\n",
      "Split: 10\n",
      "Training Testing Accuracy for n_games=6 team=14 : 61.61% (4.58%)\n",
      "(174, 1130)\n",
      "(174, 1)\n",
      "X_train shape: (156, 1892)\n",
      "X_test shape: (18, 1892)\n",
      "Fitting 10 folds for each of 12 candidates, totalling 120 fits\n"
     ]
    },
    {
     "name": "stderr",
     "output_type": "stream",
     "text": [
      "[Parallel(n_jobs=1)]: Using backend SequentialBackend with 1 concurrent workers.\n",
      "[Parallel(n_jobs=1)]: Done 120 out of 120 | elapsed:   28.1s finished\n"
     ]
    },
    {
     "name": "stdout",
     "output_type": "stream",
     "text": [
      "best score: 0.6666666666666666\n",
      "Fitting 10 folds for each of 12 candidates, totalling 120 fits\n"
     ]
    },
    {
     "name": "stderr",
     "output_type": "stream",
     "text": [
      "[Parallel(n_jobs=1)]: Using backend SequentialBackend with 1 concurrent workers.\n",
      "[Parallel(n_jobs=1)]: Done 120 out of 120 | elapsed:   27.9s finished\n"
     ]
    },
    {
     "name": "stdout",
     "output_type": "stream",
     "text": [
      "best score: 0.6666666666666666\n",
      "Fitting 10 folds for each of 12 candidates, totalling 120 fits\n"
     ]
    },
    {
     "name": "stderr",
     "output_type": "stream",
     "text": [
      "[Parallel(n_jobs=1)]: Using backend SequentialBackend with 1 concurrent workers.\n",
      "[Parallel(n_jobs=1)]: Done 120 out of 120 | elapsed:   20.3s finished\n"
     ]
    },
    {
     "name": "stdout",
     "output_type": "stream",
     "text": [
      "best score: 0.6666666666666666\n",
      "Fitting 10 folds for each of 12 candidates, totalling 120 fits\n"
     ]
    },
    {
     "name": "stderr",
     "output_type": "stream",
     "text": [
      "[Parallel(n_jobs=1)]: Using backend SequentialBackend with 1 concurrent workers.\n",
      "[Parallel(n_jobs=1)]: Done 120 out of 120 | elapsed:   24.7s finished\n"
     ]
    },
    {
     "name": "stdout",
     "output_type": "stream",
     "text": [
      "best score: 0.6666666666666666\n",
      "Fitting 10 folds for each of 12 candidates, totalling 120 fits\n"
     ]
    },
    {
     "name": "stderr",
     "output_type": "stream",
     "text": [
      "[Parallel(n_jobs=1)]: Using backend SequentialBackend with 1 concurrent workers.\n",
      "[Parallel(n_jobs=1)]: Done 120 out of 120 | elapsed:   28.5s finished\n"
     ]
    },
    {
     "name": "stdout",
     "output_type": "stream",
     "text": [
      "best score: 0.6666666666666666\n",
      "Split: 1\n",
      "Split: 2\n",
      "Split: 3\n",
      "Split: 4\n",
      "Split: 5\n",
      "Split: 6\n",
      "Split: 7\n",
      "Split: 8\n",
      "Split: 9\n",
      "Split: 10\n",
      "Training Testing Accuracy for n_games=6 team=15 : 60.95% (6.57%)\n",
      "(190, 1130)\n",
      "(190, 1)\n",
      "X_train shape: (171, 1904)\n",
      "X_test shape: (19, 1904)\n",
      "Fitting 10 folds for each of 12 candidates, totalling 120 fits\n"
     ]
    },
    {
     "name": "stderr",
     "output_type": "stream",
     "text": [
      "[Parallel(n_jobs=1)]: Using backend SequentialBackend with 1 concurrent workers.\n",
      "[Parallel(n_jobs=1)]: Done 120 out of 120 | elapsed:   28.0s finished\n"
     ]
    },
    {
     "name": "stdout",
     "output_type": "stream",
     "text": [
      "best score: 0.6432748538011696\n",
      "Fitting 10 folds for each of 12 candidates, totalling 120 fits\n"
     ]
    },
    {
     "name": "stderr",
     "output_type": "stream",
     "text": [
      "[Parallel(n_jobs=1)]: Using backend SequentialBackend with 1 concurrent workers.\n",
      "[Parallel(n_jobs=1)]: Done 120 out of 120 | elapsed:   35.9s finished\n"
     ]
    },
    {
     "name": "stdout",
     "output_type": "stream",
     "text": [
      "best score: 0.6666666666666666\n",
      "Fitting 10 folds for each of 12 candidates, totalling 120 fits\n"
     ]
    },
    {
     "name": "stderr",
     "output_type": "stream",
     "text": [
      "[Parallel(n_jobs=1)]: Using backend SequentialBackend with 1 concurrent workers.\n",
      "[Parallel(n_jobs=1)]: Done 120 out of 120 | elapsed:   30.7s finished\n"
     ]
    },
    {
     "name": "stdout",
     "output_type": "stream",
     "text": [
      "best score: 0.6666666666666666\n",
      "Fitting 10 folds for each of 12 candidates, totalling 120 fits\n"
     ]
    },
    {
     "name": "stderr",
     "output_type": "stream",
     "text": [
      "[Parallel(n_jobs=1)]: Using backend SequentialBackend with 1 concurrent workers.\n",
      "[Parallel(n_jobs=1)]: Done 120 out of 120 | elapsed:   19.2s finished\n"
     ]
    },
    {
     "name": "stdout",
     "output_type": "stream",
     "text": [
      "best score: 0.6666666666666666\n",
      "Fitting 10 folds for each of 12 candidates, totalling 120 fits\n"
     ]
    },
    {
     "name": "stderr",
     "output_type": "stream",
     "text": [
      "[Parallel(n_jobs=1)]: Using backend SequentialBackend with 1 concurrent workers.\n",
      "[Parallel(n_jobs=1)]: Done 120 out of 120 | elapsed:   20.7s finished\n"
     ]
    },
    {
     "name": "stdout",
     "output_type": "stream",
     "text": [
      "best score: 0.6666666666666666\n",
      "Split: 1\n",
      "Split: 2\n",
      "Split: 3\n",
      "Split: 4\n",
      "Split: 5\n",
      "Split: 6\n",
      "Split: 7\n",
      "Split: 8\n",
      "Split: 9\n",
      "Split: 10\n",
      "Training Testing Accuracy for n_games=6 team=16 : 63.16% (4.08%)\n",
      "(185, 1130)\n",
      "(185, 1)\n",
      "X_train shape: (166, 1905)\n",
      "X_test shape: (19, 1905)\n",
      "Fitting 10 folds for each of 12 candidates, totalling 120 fits\n"
     ]
    },
    {
     "name": "stderr",
     "output_type": "stream",
     "text": [
      "[Parallel(n_jobs=1)]: Using backend SequentialBackend with 1 concurrent workers.\n",
      "[Parallel(n_jobs=1)]: Done 120 out of 120 | elapsed:   28.3s finished\n"
     ]
    },
    {
     "name": "stdout",
     "output_type": "stream",
     "text": [
      "best score: 0.6445783132530121\n",
      "Fitting 10 folds for each of 12 candidates, totalling 120 fits\n"
     ]
    },
    {
     "name": "stderr",
     "output_type": "stream",
     "text": [
      "[Parallel(n_jobs=1)]: Using backend SequentialBackend with 1 concurrent workers.\n",
      "[Parallel(n_jobs=1)]: Done 120 out of 120 | elapsed:   36.3s finished\n"
     ]
    },
    {
     "name": "stdout",
     "output_type": "stream",
     "text": [
      "best score: 0.6445783132530121\n",
      "Fitting 10 folds for each of 12 candidates, totalling 120 fits\n"
     ]
    },
    {
     "name": "stderr",
     "output_type": "stream",
     "text": [
      "[Parallel(n_jobs=1)]: Using backend SequentialBackend with 1 concurrent workers.\n",
      "[Parallel(n_jobs=1)]: Done 120 out of 120 | elapsed:   21.7s finished\n"
     ]
    },
    {
     "name": "stdout",
     "output_type": "stream",
     "text": [
      "best score: 0.6445783132530121\n",
      "Fitting 10 folds for each of 12 candidates, totalling 120 fits\n"
     ]
    },
    {
     "name": "stderr",
     "output_type": "stream",
     "text": [
      "[Parallel(n_jobs=1)]: Using backend SequentialBackend with 1 concurrent workers.\n",
      "[Parallel(n_jobs=1)]: Done 120 out of 120 | elapsed:   54.7s finished\n"
     ]
    },
    {
     "name": "stdout",
     "output_type": "stream",
     "text": [
      "best score: 0.6445783132530121\n",
      "Fitting 10 folds for each of 12 candidates, totalling 120 fits\n"
     ]
    },
    {
     "name": "stderr",
     "output_type": "stream",
     "text": [
      "[Parallel(n_jobs=1)]: Using backend SequentialBackend with 1 concurrent workers.\n",
      "[Parallel(n_jobs=1)]: Done 120 out of 120 | elapsed:   22.7s finished\n"
     ]
    },
    {
     "name": "stdout",
     "output_type": "stream",
     "text": [
      "best score: 0.6445783132530121\n",
      "Split: 1\n",
      "Split: 2\n",
      "Split: 3\n",
      "Split: 4\n",
      "Split: 5\n",
      "Split: 6\n",
      "Split: 7\n",
      "Split: 8\n",
      "Split: 9\n",
      "Split: 10\n",
      "Training Testing Accuracy for n_games=6 team=17 : 63.25% (9.59%)\n",
      "(184, 1130)\n",
      "(184, 1)\n",
      "X_train shape: (165, 1918)\n",
      "X_test shape: (19, 1918)\n",
      "Fitting 10 folds for each of 12 candidates, totalling 120 fits\n"
     ]
    },
    {
     "name": "stderr",
     "output_type": "stream",
     "text": [
      "[Parallel(n_jobs=1)]: Using backend SequentialBackend with 1 concurrent workers.\n",
      "[Parallel(n_jobs=1)]: Done 120 out of 120 | elapsed:   28.6s finished\n"
     ]
    },
    {
     "name": "stdout",
     "output_type": "stream",
     "text": [
      "best score: 0.5878787878787879\n",
      "Fitting 10 folds for each of 12 candidates, totalling 120 fits\n"
     ]
    },
    {
     "name": "stderr",
     "output_type": "stream",
     "text": [
      "[Parallel(n_jobs=1)]: Using backend SequentialBackend with 1 concurrent workers.\n",
      "[Parallel(n_jobs=1)]: Done 120 out of 120 | elapsed:   42.7s finished\n"
     ]
    },
    {
     "name": "stdout",
     "output_type": "stream",
     "text": [
      "best score: 0.5878787878787879\n",
      "Fitting 10 folds for each of 12 candidates, totalling 120 fits\n"
     ]
    },
    {
     "name": "stderr",
     "output_type": "stream",
     "text": [
      "[Parallel(n_jobs=1)]: Using backend SequentialBackend with 1 concurrent workers.\n",
      "[Parallel(n_jobs=1)]: Done 120 out of 120 | elapsed:   44.5s finished\n"
     ]
    },
    {
     "name": "stdout",
     "output_type": "stream",
     "text": [
      "best score: 0.5878787878787879\n",
      "Fitting 10 folds for each of 12 candidates, totalling 120 fits\n"
     ]
    },
    {
     "name": "stderr",
     "output_type": "stream",
     "text": [
      "[Parallel(n_jobs=1)]: Using backend SequentialBackend with 1 concurrent workers.\n",
      "[Parallel(n_jobs=1)]: Done 120 out of 120 | elapsed:   37.2s finished\n"
     ]
    },
    {
     "name": "stdout",
     "output_type": "stream",
     "text": [
      "best score: 0.5878787878787879\n",
      "Fitting 10 folds for each of 12 candidates, totalling 120 fits\n"
     ]
    },
    {
     "name": "stderr",
     "output_type": "stream",
     "text": [
      "[Parallel(n_jobs=1)]: Using backend SequentialBackend with 1 concurrent workers.\n",
      "[Parallel(n_jobs=1)]: Done 120 out of 120 | elapsed:   35.6s finished\n"
     ]
    },
    {
     "name": "stdout",
     "output_type": "stream",
     "text": [
      "best score: 0.5878787878787879\n",
      "Split: 1\n",
      "Split: 2\n",
      "Split: 3\n",
      "Split: 4\n",
      "Split: 5\n",
      "Split: 6\n",
      "Split: 7\n",
      "Split: 8\n",
      "Split: 9\n",
      "Split: 10\n",
      "Training Testing Accuracy for n_games=6 team=18 : 50.53% (12.04%)\n",
      "Accuracy for Team Models for n_games= 6 : 60.99% (5.25%)\n",
      "(179, 1316)\n",
      "(179, 1)\n",
      "X_train shape: (161, 2211)\n",
      "X_test shape: (18, 2211)\n",
      "Fitting 10 folds for each of 12 candidates, totalling 120 fits\n"
     ]
    },
    {
     "name": "stderr",
     "output_type": "stream",
     "text": [
      "[Parallel(n_jobs=1)]: Using backend SequentialBackend with 1 concurrent workers.\n",
      "[Parallel(n_jobs=1)]: Done 120 out of 120 | elapsed:   32.3s finished\n"
     ]
    },
    {
     "name": "stdout",
     "output_type": "stream",
     "text": [
      "best score: 0.6086956521739131\n",
      "Fitting 10 folds for each of 12 candidates, totalling 120 fits\n"
     ]
    },
    {
     "name": "stderr",
     "output_type": "stream",
     "text": [
      "[Parallel(n_jobs=1)]: Using backend SequentialBackend with 1 concurrent workers.\n",
      "[Parallel(n_jobs=1)]: Done 120 out of 120 | elapsed:   26.3s finished\n"
     ]
    },
    {
     "name": "stdout",
     "output_type": "stream",
     "text": [
      "best score: 0.6086956521739131\n",
      "Fitting 10 folds for each of 12 candidates, totalling 120 fits\n"
     ]
    },
    {
     "name": "stderr",
     "output_type": "stream",
     "text": [
      "[Parallel(n_jobs=1)]: Using backend SequentialBackend with 1 concurrent workers.\n",
      "[Parallel(n_jobs=1)]: Done 120 out of 120 | elapsed:  2.2min finished\n"
     ]
    },
    {
     "name": "stdout",
     "output_type": "stream",
     "text": [
      "best score: 0.6273291925465838\n",
      "Fitting 10 folds for each of 12 candidates, totalling 120 fits\n"
     ]
    },
    {
     "name": "stderr",
     "output_type": "stream",
     "text": [
      "[Parallel(n_jobs=1)]: Using backend SequentialBackend with 1 concurrent workers.\n",
      "[Parallel(n_jobs=1)]: Done 120 out of 120 | elapsed:  1.2min finished\n"
     ]
    },
    {
     "name": "stdout",
     "output_type": "stream",
     "text": [
      "best score: 0.6335403726708074\n",
      "Fitting 10 folds for each of 12 candidates, totalling 120 fits\n"
     ]
    },
    {
     "name": "stderr",
     "output_type": "stream",
     "text": [
      "[Parallel(n_jobs=1)]: Using backend SequentialBackend with 1 concurrent workers.\n",
      "[Parallel(n_jobs=1)]: Done 120 out of 120 | elapsed:   33.2s finished\n"
     ]
    },
    {
     "name": "stdout",
     "output_type": "stream",
     "text": [
      "best score: 0.6335403726708074\n",
      "Split: 1\n",
      "Split: 2\n",
      "Split: 3\n",
      "Split: 4\n",
      "Split: 5\n",
      "Split: 6\n",
      "Split: 7\n",
      "Split: 8\n",
      "Split: 9\n",
      "Split: 10\n",
      "Training Testing Accuracy for n_games=7 team=1 : 59.67% (11.00%)\n",
      "(177, 1316)\n",
      "(177, 1)\n",
      "X_train shape: (159, 2190)\n",
      "X_test shape: (18, 2190)\n",
      "Fitting 10 folds for each of 12 candidates, totalling 120 fits\n"
     ]
    },
    {
     "name": "stderr",
     "output_type": "stream",
     "text": [
      "[Parallel(n_jobs=1)]: Using backend SequentialBackend with 1 concurrent workers.\n",
      "[Parallel(n_jobs=1)]: Done 120 out of 120 | elapsed:   32.0s finished\n"
     ]
    },
    {
     "name": "stdout",
     "output_type": "stream",
     "text": [
      "best score: 0.6540880503144654\n",
      "Fitting 10 folds for each of 12 candidates, totalling 120 fits\n"
     ]
    },
    {
     "name": "stderr",
     "output_type": "stream",
     "text": [
      "[Parallel(n_jobs=1)]: Using backend SequentialBackend with 1 concurrent workers.\n",
      "[Parallel(n_jobs=1)]: Done 120 out of 120 | elapsed:   26.8s finished\n"
     ]
    },
    {
     "name": "stdout",
     "output_type": "stream",
     "text": [
      "best score: 0.6540880503144654\n",
      "Fitting 10 folds for each of 12 candidates, totalling 120 fits\n"
     ]
    },
    {
     "name": "stderr",
     "output_type": "stream",
     "text": [
      "[Parallel(n_jobs=1)]: Using backend SequentialBackend with 1 concurrent workers.\n",
      "[Parallel(n_jobs=1)]: Done 120 out of 120 | elapsed:   30.4s finished\n"
     ]
    },
    {
     "name": "stdout",
     "output_type": "stream",
     "text": [
      "best score: 0.6540880503144654\n",
      "Fitting 10 folds for each of 12 candidates, totalling 120 fits\n"
     ]
    },
    {
     "name": "stderr",
     "output_type": "stream",
     "text": [
      "[Parallel(n_jobs=1)]: Using backend SequentialBackend with 1 concurrent workers.\n",
      "[Parallel(n_jobs=1)]: Done 120 out of 120 | elapsed:   45.5s finished\n"
     ]
    },
    {
     "name": "stdout",
     "output_type": "stream",
     "text": [
      "best score: 0.6540880503144654\n",
      "Fitting 10 folds for each of 12 candidates, totalling 120 fits\n"
     ]
    },
    {
     "name": "stderr",
     "output_type": "stream",
     "text": [
      "[Parallel(n_jobs=1)]: Using backend SequentialBackend with 1 concurrent workers.\n",
      "[Parallel(n_jobs=1)]: Done 120 out of 120 | elapsed:   27.8s finished\n"
     ]
    },
    {
     "name": "stdout",
     "output_type": "stream",
     "text": [
      "best score: 0.6540880503144654\n",
      "Split: 1\n",
      "Split: 2\n",
      "Split: 3\n",
      "Split: 4\n",
      "Split: 5\n",
      "Split: 6\n",
      "Split: 7\n",
      "Split: 8\n",
      "Split: 9\n",
      "Split: 10\n",
      "Training Testing Accuracy for n_games=7 team=2 : 62.71% (8.36%)\n",
      "(175, 1316)\n",
      "(175, 1)\n",
      "X_train shape: (157, 2184)\n",
      "X_test shape: (18, 2184)\n",
      "Fitting 10 folds for each of 12 candidates, totalling 120 fits\n"
     ]
    },
    {
     "name": "stderr",
     "output_type": "stream",
     "text": [
      "[Parallel(n_jobs=1)]: Using backend SequentialBackend with 1 concurrent workers.\n",
      "[Parallel(n_jobs=1)]: Done 120 out of 120 | elapsed:   31.2s finished\n"
     ]
    },
    {
     "name": "stdout",
     "output_type": "stream",
     "text": [
      "best score: 0.7070063694267515\n",
      "Fitting 10 folds for each of 12 candidates, totalling 120 fits\n"
     ]
    },
    {
     "name": "stderr",
     "output_type": "stream",
     "text": [
      "[Parallel(n_jobs=1)]: Using backend SequentialBackend with 1 concurrent workers.\n",
      "[Parallel(n_jobs=1)]: Done 120 out of 120 | elapsed:   27.4s finished\n"
     ]
    },
    {
     "name": "stdout",
     "output_type": "stream",
     "text": [
      "best score: 0.7133757961783439\n",
      "Fitting 10 folds for each of 12 candidates, totalling 120 fits\n"
     ]
    },
    {
     "name": "stderr",
     "output_type": "stream",
     "text": [
      "[Parallel(n_jobs=1)]: Using backend SequentialBackend with 1 concurrent workers.\n",
      "[Parallel(n_jobs=1)]: Done 120 out of 120 | elapsed:   31.2s finished\n"
     ]
    },
    {
     "name": "stdout",
     "output_type": "stream",
     "text": [
      "best score: 0.7261146496815286\n",
      "Fitting 10 folds for each of 12 candidates, totalling 120 fits\n"
     ]
    },
    {
     "name": "stderr",
     "output_type": "stream",
     "text": [
      "[Parallel(n_jobs=1)]: Using backend SequentialBackend with 1 concurrent workers.\n",
      "[Parallel(n_jobs=1)]: Done 120 out of 120 | elapsed:   25.7s finished\n"
     ]
    },
    {
     "name": "stdout",
     "output_type": "stream",
     "text": [
      "best score: 0.7261146496815286\n",
      "Fitting 10 folds for each of 12 candidates, totalling 120 fits\n"
     ]
    },
    {
     "name": "stderr",
     "output_type": "stream",
     "text": [
      "[Parallel(n_jobs=1)]: Using backend SequentialBackend with 1 concurrent workers.\n",
      "[Parallel(n_jobs=1)]: Done 120 out of 120 | elapsed:   27.2s finished\n"
     ]
    },
    {
     "name": "stdout",
     "output_type": "stream",
     "text": [
      "best score: 0.7261146496815286\n",
      "Split: 1\n",
      "Split: 2\n",
      "Split: 3\n",
      "Split: 4\n",
      "Split: 5\n",
      "Split: 6\n",
      "Split: 7\n",
      "Split: 8\n",
      "Split: 9\n",
      "Split: 10\n",
      "Training Testing Accuracy for n_games=7 team=3 : 62.81% (7.00%)\n",
      "(180, 1316)\n",
      "(180, 1)\n",
      "X_train shape: (162, 2187)\n",
      "X_test shape: (18, 2187)\n",
      "Fitting 10 folds for each of 12 candidates, totalling 120 fits\n"
     ]
    },
    {
     "name": "stderr",
     "output_type": "stream",
     "text": [
      "[Parallel(n_jobs=1)]: Using backend SequentialBackend with 1 concurrent workers.\n",
      "[Parallel(n_jobs=1)]: Done 120 out of 120 | elapsed:   31.6s finished\n"
     ]
    },
    {
     "name": "stdout",
     "output_type": "stream",
     "text": [
      "best score: 0.5864197530864198\n",
      "Fitting 10 folds for each of 12 candidates, totalling 120 fits\n"
     ]
    },
    {
     "name": "stderr",
     "output_type": "stream",
     "text": [
      "[Parallel(n_jobs=1)]: Using backend SequentialBackend with 1 concurrent workers.\n",
      "[Parallel(n_jobs=1)]: Done 120 out of 120 | elapsed:   30.6s finished\n"
     ]
    },
    {
     "name": "stdout",
     "output_type": "stream",
     "text": [
      "best score: 0.5864197530864198\n",
      "Fitting 10 folds for each of 12 candidates, totalling 120 fits\n"
     ]
    },
    {
     "name": "stderr",
     "output_type": "stream",
     "text": [
      "[Parallel(n_jobs=1)]: Using backend SequentialBackend with 1 concurrent workers.\n",
      "[Parallel(n_jobs=1)]: Done 120 out of 120 | elapsed:   27.2s finished\n"
     ]
    },
    {
     "name": "stdout",
     "output_type": "stream",
     "text": [
      "best score: 0.5864197530864198\n",
      "Fitting 10 folds for each of 12 candidates, totalling 120 fits\n"
     ]
    },
    {
     "name": "stderr",
     "output_type": "stream",
     "text": [
      "[Parallel(n_jobs=1)]: Using backend SequentialBackend with 1 concurrent workers.\n",
      "[Parallel(n_jobs=1)]: Done 120 out of 120 | elapsed:   45.2s finished\n"
     ]
    },
    {
     "name": "stdout",
     "output_type": "stream",
     "text": [
      "best score: 0.5864197530864198\n",
      "Fitting 10 folds for each of 12 candidates, totalling 120 fits\n"
     ]
    },
    {
     "name": "stderr",
     "output_type": "stream",
     "text": [
      "[Parallel(n_jobs=1)]: Using backend SequentialBackend with 1 concurrent workers.\n",
      "[Parallel(n_jobs=1)]: Done 120 out of 120 | elapsed:  1.1min finished\n"
     ]
    },
    {
     "name": "stdout",
     "output_type": "stream",
     "text": [
      "best score: 0.5864197530864198\n",
      "Split: 1\n",
      "Split: 2\n",
      "Split: 3\n",
      "Split: 4\n",
      "Split: 5\n",
      "Split: 6\n",
      "Split: 7\n",
      "Split: 8\n",
      "Split: 9\n",
      "Split: 10\n",
      "Training Testing Accuracy for n_games=7 team=4 : 58.33% (14.96%)\n",
      "(177, 1316)\n",
      "(177, 1)\n",
      "X_train shape: (159, 2171)\n",
      "X_test shape: (18, 2171)\n",
      "Fitting 10 folds for each of 12 candidates, totalling 120 fits\n"
     ]
    },
    {
     "name": "stderr",
     "output_type": "stream",
     "text": [
      "[Parallel(n_jobs=1)]: Using backend SequentialBackend with 1 concurrent workers.\n",
      "[Parallel(n_jobs=1)]: Done 120 out of 120 | elapsed:   32.0s finished\n"
     ]
    },
    {
     "name": "stdout",
     "output_type": "stream",
     "text": [
      "best score: 0.5660377358490566\n",
      "Fitting 10 folds for each of 12 candidates, totalling 120 fits\n"
     ]
    },
    {
     "name": "stderr",
     "output_type": "stream",
     "text": [
      "[Parallel(n_jobs=1)]: Using backend SequentialBackend with 1 concurrent workers.\n",
      "[Parallel(n_jobs=1)]: Done 120 out of 120 | elapsed:   32.3s finished\n"
     ]
    },
    {
     "name": "stdout",
     "output_type": "stream",
     "text": [
      "best score: 0.5786163522012578\n",
      "Fitting 10 folds for each of 12 candidates, totalling 120 fits\n"
     ]
    },
    {
     "name": "stderr",
     "output_type": "stream",
     "text": [
      "[Parallel(n_jobs=1)]: Using backend SequentialBackend with 1 concurrent workers.\n",
      "[Parallel(n_jobs=1)]: Done 120 out of 120 | elapsed:   25.4s finished\n"
     ]
    },
    {
     "name": "stdout",
     "output_type": "stream",
     "text": [
      "best score: 0.5786163522012578\n",
      "Fitting 10 folds for each of 12 candidates, totalling 120 fits\n"
     ]
    },
    {
     "name": "stderr",
     "output_type": "stream",
     "text": [
      "[Parallel(n_jobs=1)]: Using backend SequentialBackend with 1 concurrent workers.\n",
      "[Parallel(n_jobs=1)]: Done 120 out of 120 | elapsed:   28.9s finished\n"
     ]
    },
    {
     "name": "stdout",
     "output_type": "stream",
     "text": [
      "best score: 0.5786163522012578\n",
      "Fitting 10 folds for each of 12 candidates, totalling 120 fits\n"
     ]
    },
    {
     "name": "stderr",
     "output_type": "stream",
     "text": [
      "[Parallel(n_jobs=1)]: Using backend SequentialBackend with 1 concurrent workers.\n",
      "[Parallel(n_jobs=1)]: Done 120 out of 120 | elapsed:   23.9s finished\n"
     ]
    },
    {
     "name": "stdout",
     "output_type": "stream",
     "text": [
      "best score: 0.5786163522012578\n",
      "Split: 1\n",
      "Split: 2\n",
      "Split: 3\n",
      "Split: 4\n",
      "Split: 5\n",
      "Split: 6\n",
      "Split: 7\n",
      "Split: 8\n",
      "Split: 9\n",
      "Split: 10\n",
      "Training Testing Accuracy for n_games=7 team=5 : 55.72% (14.90%)\n",
      "(180, 1316)\n",
      "(180, 1)\n",
      "X_train shape: (162, 2199)\n",
      "X_test shape: (18, 2199)\n",
      "Fitting 10 folds for each of 12 candidates, totalling 120 fits\n"
     ]
    },
    {
     "name": "stderr",
     "output_type": "stream",
     "text": [
      "[Parallel(n_jobs=1)]: Using backend SequentialBackend with 1 concurrent workers.\n",
      "[Parallel(n_jobs=1)]: Done 120 out of 120 | elapsed:   32.0s finished\n"
     ]
    },
    {
     "name": "stdout",
     "output_type": "stream",
     "text": [
      "best score: 0.5061728395061729\n",
      "Fitting 10 folds for each of 12 candidates, totalling 120 fits\n"
     ]
    },
    {
     "name": "stderr",
     "output_type": "stream",
     "text": [
      "[Parallel(n_jobs=1)]: Using backend SequentialBackend with 1 concurrent workers.\n",
      "[Parallel(n_jobs=1)]: Done 120 out of 120 | elapsed:   22.8s finished\n"
     ]
    },
    {
     "name": "stdout",
     "output_type": "stream",
     "text": [
      "best score: 0.5061728395061729\n",
      "Fitting 10 folds for each of 12 candidates, totalling 120 fits\n"
     ]
    },
    {
     "name": "stderr",
     "output_type": "stream",
     "text": [
      "[Parallel(n_jobs=1)]: Using backend SequentialBackend with 1 concurrent workers.\n",
      "[Parallel(n_jobs=1)]: Done 120 out of 120 | elapsed:   24.7s finished\n"
     ]
    },
    {
     "name": "stdout",
     "output_type": "stream",
     "text": [
      "best score: 0.5061728395061729\n",
      "Fitting 10 folds for each of 12 candidates, totalling 120 fits\n"
     ]
    },
    {
     "name": "stderr",
     "output_type": "stream",
     "text": [
      "[Parallel(n_jobs=1)]: Using backend SequentialBackend with 1 concurrent workers.\n",
      "[Parallel(n_jobs=1)]: Done 120 out of 120 | elapsed:   30.5s finished\n"
     ]
    },
    {
     "name": "stdout",
     "output_type": "stream",
     "text": [
      "best score: 0.5061728395061729\n",
      "Fitting 10 folds for each of 12 candidates, totalling 120 fits\n"
     ]
    },
    {
     "name": "stderr",
     "output_type": "stream",
     "text": [
      "[Parallel(n_jobs=1)]: Using backend SequentialBackend with 1 concurrent workers.\n",
      "[Parallel(n_jobs=1)]: Done 120 out of 120 | elapsed:   26.7s finished\n"
     ]
    },
    {
     "name": "stdout",
     "output_type": "stream",
     "text": [
      "best score: 0.5061728395061729\n",
      "Split: 1\n",
      "Split: 2\n",
      "Split: 3\n",
      "Split: 4\n",
      "Split: 5\n",
      "Split: 6\n",
      "Split: 7\n",
      "Split: 8\n",
      "Split: 9\n",
      "Split: 10\n",
      "Training Testing Accuracy for n_games=7 team=6 : 50.56% (1.67%)\n",
      "(189, 1316)\n",
      "(189, 1)\n",
      "X_train shape: (170, 2190)\n",
      "X_test shape: (19, 2190)\n",
      "Fitting 10 folds for each of 12 candidates, totalling 120 fits\n"
     ]
    },
    {
     "name": "stderr",
     "output_type": "stream",
     "text": [
      "[Parallel(n_jobs=1)]: Using backend SequentialBackend with 1 concurrent workers.\n",
      "[Parallel(n_jobs=1)]: Done 120 out of 120 | elapsed:   31.7s finished\n"
     ]
    },
    {
     "name": "stdout",
     "output_type": "stream",
     "text": [
      "best score: 0.6764705882352942\n",
      "Fitting 10 folds for each of 12 candidates, totalling 120 fits\n"
     ]
    },
    {
     "name": "stderr",
     "output_type": "stream",
     "text": [
      "[Parallel(n_jobs=1)]: Using backend SequentialBackend with 1 concurrent workers.\n",
      "[Parallel(n_jobs=1)]: Done 120 out of 120 | elapsed:   28.1s finished\n"
     ]
    },
    {
     "name": "stdout",
     "output_type": "stream",
     "text": [
      "best score: 0.6764705882352942\n",
      "Fitting 10 folds for each of 12 candidates, totalling 120 fits\n"
     ]
    },
    {
     "name": "stderr",
     "output_type": "stream",
     "text": [
      "[Parallel(n_jobs=1)]: Using backend SequentialBackend with 1 concurrent workers.\n",
      "[Parallel(n_jobs=1)]: Done 120 out of 120 | elapsed:   54.4s finished\n"
     ]
    },
    {
     "name": "stdout",
     "output_type": "stream",
     "text": [
      "best score: 0.6764705882352942\n",
      "Fitting 10 folds for each of 12 candidates, totalling 120 fits\n"
     ]
    },
    {
     "name": "stderr",
     "output_type": "stream",
     "text": [
      "[Parallel(n_jobs=1)]: Using backend SequentialBackend with 1 concurrent workers.\n",
      "[Parallel(n_jobs=1)]: Done 120 out of 120 | elapsed:   22.4s finished\n"
     ]
    },
    {
     "name": "stdout",
     "output_type": "stream",
     "text": [
      "best score: 0.6764705882352942\n",
      "Fitting 10 folds for each of 12 candidates, totalling 120 fits\n"
     ]
    },
    {
     "name": "stderr",
     "output_type": "stream",
     "text": [
      "[Parallel(n_jobs=1)]: Using backend SequentialBackend with 1 concurrent workers.\n",
      "[Parallel(n_jobs=1)]: Done 120 out of 120 | elapsed:   29.2s finished\n"
     ]
    },
    {
     "name": "stdout",
     "output_type": "stream",
     "text": [
      "best score: 0.6764705882352942\n",
      "Split: 1\n",
      "Split: 2\n",
      "Split: 3\n",
      "Split: 4\n",
      "Split: 5\n",
      "Split: 6\n",
      "Split: 7\n",
      "Split: 8\n",
      "Split: 9\n",
      "Split: 10\n",
      "Training Testing Accuracy for n_games=7 team=7 : 64.53% (3.52%)\n",
      "(173, 1316)\n",
      "(173, 1)\n",
      "X_train shape: (155, 2195)\n",
      "X_test shape: (18, 2195)\n",
      "Fitting 10 folds for each of 12 candidates, totalling 120 fits\n"
     ]
    },
    {
     "name": "stderr",
     "output_type": "stream",
     "text": [
      "[Parallel(n_jobs=1)]: Using backend SequentialBackend with 1 concurrent workers.\n",
      "[Parallel(n_jobs=1)]: Done 120 out of 120 | elapsed:   31.0s finished\n"
     ]
    },
    {
     "name": "stdout",
     "output_type": "stream",
     "text": [
      "best score: 0.7483870967741936\n",
      "Fitting 10 folds for each of 12 candidates, totalling 120 fits\n"
     ]
    },
    {
     "name": "stderr",
     "output_type": "stream",
     "text": [
      "[Parallel(n_jobs=1)]: Using backend SequentialBackend with 1 concurrent workers.\n",
      "[Parallel(n_jobs=1)]: Done 120 out of 120 | elapsed:  1.0min finished\n"
     ]
    },
    {
     "name": "stdout",
     "output_type": "stream",
     "text": [
      "best score: 0.7483870967741936\n",
      "Fitting 10 folds for each of 12 candidates, totalling 120 fits\n"
     ]
    },
    {
     "name": "stderr",
     "output_type": "stream",
     "text": [
      "[Parallel(n_jobs=1)]: Using backend SequentialBackend with 1 concurrent workers.\n",
      "[Parallel(n_jobs=1)]: Done 120 out of 120 | elapsed:   31.8s finished\n"
     ]
    },
    {
     "name": "stdout",
     "output_type": "stream",
     "text": [
      "best score: 0.7483870967741936\n",
      "Fitting 10 folds for each of 12 candidates, totalling 120 fits\n"
     ]
    },
    {
     "name": "stderr",
     "output_type": "stream",
     "text": [
      "[Parallel(n_jobs=1)]: Using backend SequentialBackend with 1 concurrent workers.\n",
      "[Parallel(n_jobs=1)]: Done 120 out of 120 | elapsed:   42.7s finished\n"
     ]
    },
    {
     "name": "stdout",
     "output_type": "stream",
     "text": [
      "best score: 0.7483870967741936\n",
      "Fitting 10 folds for each of 12 candidates, totalling 120 fits\n"
     ]
    },
    {
     "name": "stderr",
     "output_type": "stream",
     "text": [
      "[Parallel(n_jobs=1)]: Using backend SequentialBackend with 1 concurrent workers.\n",
      "[Parallel(n_jobs=1)]: Done 120 out of 120 | elapsed:   38.7s finished\n"
     ]
    },
    {
     "name": "stdout",
     "output_type": "stream",
     "text": [
      "best score: 0.7483870967741936\n",
      "Split: 1\n",
      "Split: 2\n",
      "Split: 3\n",
      "Split: 4\n",
      "Split: 5\n",
      "Split: 6\n",
      "Split: 7\n",
      "Split: 8\n",
      "Split: 9\n",
      "Split: 10\n",
      "Training Testing Accuracy for n_games=7 team=8 : 74.54% (3.87%)\n",
      "(186, 1316)\n",
      "(186, 1)\n",
      "X_train shape: (167, 2202)\n",
      "X_test shape: (19, 2202)\n",
      "Fitting 10 folds for each of 12 candidates, totalling 120 fits\n"
     ]
    },
    {
     "name": "stderr",
     "output_type": "stream",
     "text": [
      "[Parallel(n_jobs=1)]: Using backend SequentialBackend with 1 concurrent workers.\n",
      "[Parallel(n_jobs=1)]: Done 120 out of 120 | elapsed:   32.8s finished\n"
     ]
    },
    {
     "name": "stdout",
     "output_type": "stream",
     "text": [
      "best score: 0.5329341317365269\n",
      "Fitting 10 folds for each of 12 candidates, totalling 120 fits\n"
     ]
    },
    {
     "name": "stderr",
     "output_type": "stream",
     "text": [
      "[Parallel(n_jobs=1)]: Using backend SequentialBackend with 1 concurrent workers.\n",
      "[Parallel(n_jobs=1)]: Done 120 out of 120 | elapsed:   24.8s finished\n"
     ]
    },
    {
     "name": "stdout",
     "output_type": "stream",
     "text": [
      "best score: 0.5329341317365269\n",
      "Fitting 10 folds for each of 12 candidates, totalling 120 fits\n"
     ]
    },
    {
     "name": "stderr",
     "output_type": "stream",
     "text": [
      "[Parallel(n_jobs=1)]: Using backend SequentialBackend with 1 concurrent workers.\n",
      "[Parallel(n_jobs=1)]: Done 120 out of 120 | elapsed:   24.6s finished\n"
     ]
    },
    {
     "name": "stdout",
     "output_type": "stream",
     "text": [
      "best score: 0.5688622754491018\n",
      "Fitting 10 folds for each of 12 candidates, totalling 120 fits\n"
     ]
    },
    {
     "name": "stderr",
     "output_type": "stream",
     "text": [
      "[Parallel(n_jobs=1)]: Using backend SequentialBackend with 1 concurrent workers.\n",
      "[Parallel(n_jobs=1)]: Done 120 out of 120 | elapsed:   24.3s finished\n"
     ]
    },
    {
     "name": "stdout",
     "output_type": "stream",
     "text": [
      "best score: 0.5688622754491018\n",
      "Fitting 10 folds for each of 12 candidates, totalling 120 fits\n"
     ]
    },
    {
     "name": "stderr",
     "output_type": "stream",
     "text": [
      "[Parallel(n_jobs=1)]: Using backend SequentialBackend with 1 concurrent workers.\n",
      "[Parallel(n_jobs=1)]: Done 120 out of 120 | elapsed:   29.4s finished\n"
     ]
    },
    {
     "name": "stdout",
     "output_type": "stream",
     "text": [
      "best score: 0.5688622754491018\n",
      "Split: 1\n",
      "Split: 2\n",
      "Split: 3\n",
      "Split: 4\n",
      "Split: 5\n",
      "Split: 6\n",
      "Split: 7\n",
      "Split: 8\n",
      "Split: 9\n",
      "Split: 10\n",
      "Training Testing Accuracy for n_games=7 team=9 : 52.60% (10.61%)\n",
      "(187, 1316)\n",
      "(187, 1)\n",
      "X_train shape: (168, 2195)\n",
      "X_test shape: (19, 2195)\n",
      "Fitting 10 folds for each of 12 candidates, totalling 120 fits\n"
     ]
    },
    {
     "name": "stderr",
     "output_type": "stream",
     "text": [
      "[Parallel(n_jobs=1)]: Using backend SequentialBackend with 1 concurrent workers.\n",
      "[Parallel(n_jobs=1)]: Done 120 out of 120 | elapsed:   32.2s finished\n"
     ]
    },
    {
     "name": "stdout",
     "output_type": "stream",
     "text": [
      "best score: 0.6428571428571429\n",
      "Fitting 10 folds for each of 12 candidates, totalling 120 fits\n"
     ]
    },
    {
     "name": "stderr",
     "output_type": "stream",
     "text": [
      "[Parallel(n_jobs=1)]: Using backend SequentialBackend with 1 concurrent workers.\n",
      "[Parallel(n_jobs=1)]: Done 120 out of 120 | elapsed:   26.1s finished\n"
     ]
    },
    {
     "name": "stdout",
     "output_type": "stream",
     "text": [
      "best score: 0.6428571428571429\n",
      "Fitting 10 folds for each of 12 candidates, totalling 120 fits\n"
     ]
    },
    {
     "name": "stderr",
     "output_type": "stream",
     "text": [
      "[Parallel(n_jobs=1)]: Using backend SequentialBackend with 1 concurrent workers.\n",
      "[Parallel(n_jobs=1)]: Done 120 out of 120 | elapsed:   39.1s finished\n"
     ]
    },
    {
     "name": "stdout",
     "output_type": "stream",
     "text": [
      "best score: 0.6428571428571429\n",
      "Fitting 10 folds for each of 12 candidates, totalling 120 fits\n"
     ]
    },
    {
     "name": "stderr",
     "output_type": "stream",
     "text": [
      "[Parallel(n_jobs=1)]: Using backend SequentialBackend with 1 concurrent workers.\n",
      "[Parallel(n_jobs=1)]: Done 120 out of 120 | elapsed:   24.2s finished\n"
     ]
    },
    {
     "name": "stdout",
     "output_type": "stream",
     "text": [
      "best score: 0.6428571428571429\n",
      "Fitting 10 folds for each of 12 candidates, totalling 120 fits\n"
     ]
    },
    {
     "name": "stderr",
     "output_type": "stream",
     "text": [
      "[Parallel(n_jobs=1)]: Using backend SequentialBackend with 1 concurrent workers.\n",
      "[Parallel(n_jobs=1)]: Done 120 out of 120 | elapsed:   38.0s finished\n"
     ]
    },
    {
     "name": "stdout",
     "output_type": "stream",
     "text": [
      "best score: 0.6428571428571429\n",
      "Split: 1\n",
      "Split: 2\n",
      "Split: 3\n",
      "Split: 4\n",
      "Split: 5\n",
      "Split: 6\n",
      "Split: 7\n",
      "Split: 8\n",
      "Split: 9\n",
      "Split: 10\n",
      "Training Testing Accuracy for n_games=7 team=10 : 65.20% (7.47%)\n",
      "(179, 1316)\n",
      "(179, 1)\n",
      "X_train shape: (161, 2210)\n",
      "X_test shape: (18, 2210)\n",
      "Fitting 10 folds for each of 12 candidates, totalling 120 fits\n"
     ]
    },
    {
     "name": "stderr",
     "output_type": "stream",
     "text": [
      "[Parallel(n_jobs=1)]: Using backend SequentialBackend with 1 concurrent workers.\n",
      "[Parallel(n_jobs=1)]: Done 120 out of 120 | elapsed:   31.6s finished\n"
     ]
    },
    {
     "name": "stdout",
     "output_type": "stream",
     "text": [
      "best score: 0.5962732919254659\n",
      "Fitting 10 folds for each of 12 candidates, totalling 120 fits\n"
     ]
    },
    {
     "name": "stderr",
     "output_type": "stream",
     "text": [
      "[Parallel(n_jobs=1)]: Using backend SequentialBackend with 1 concurrent workers.\n",
      "[Parallel(n_jobs=1)]: Done 120 out of 120 | elapsed:   25.3s finished\n"
     ]
    },
    {
     "name": "stdout",
     "output_type": "stream",
     "text": [
      "best score: 0.5962732919254659\n",
      "Fitting 10 folds for each of 12 candidates, totalling 120 fits\n"
     ]
    },
    {
     "name": "stderr",
     "output_type": "stream",
     "text": [
      "[Parallel(n_jobs=1)]: Using backend SequentialBackend with 1 concurrent workers.\n",
      "[Parallel(n_jobs=1)]: Done 120 out of 120 | elapsed:   31.8s finished\n"
     ]
    },
    {
     "name": "stdout",
     "output_type": "stream",
     "text": [
      "best score: 0.5962732919254659\n",
      "Fitting 10 folds for each of 12 candidates, totalling 120 fits\n"
     ]
    },
    {
     "name": "stderr",
     "output_type": "stream",
     "text": [
      "[Parallel(n_jobs=1)]: Using backend SequentialBackend with 1 concurrent workers.\n",
      "[Parallel(n_jobs=1)]: Done 120 out of 120 | elapsed:   43.2s finished\n"
     ]
    },
    {
     "name": "stdout",
     "output_type": "stream",
     "text": [
      "best score: 0.6335403726708074\n",
      "Fitting 10 folds for each of 12 candidates, totalling 120 fits\n"
     ]
    },
    {
     "name": "stderr",
     "output_type": "stream",
     "text": [
      "[Parallel(n_jobs=1)]: Using backend SequentialBackend with 1 concurrent workers.\n",
      "[Parallel(n_jobs=1)]: Done 120 out of 120 | elapsed:  1.1min finished\n"
     ]
    },
    {
     "name": "stdout",
     "output_type": "stream",
     "text": [
      "best score: 0.6335403726708074\n",
      "Split: 1\n",
      "Split: 2\n",
      "Split: 3\n",
      "Split: 4\n",
      "Split: 5\n",
      "Split: 6\n",
      "Split: 7\n",
      "Split: 8\n",
      "Split: 9\n",
      "Split: 10\n",
      "Training Testing Accuracy for n_games=7 team=11 : 61.47% (10.30%)\n",
      "(180, 1316)\n",
      "(180, 1)\n",
      "X_train shape: (162, 2194)\n",
      "X_test shape: (18, 2194)\n",
      "Fitting 10 folds for each of 12 candidates, totalling 120 fits\n"
     ]
    },
    {
     "name": "stderr",
     "output_type": "stream",
     "text": [
      "[Parallel(n_jobs=1)]: Using backend SequentialBackend with 1 concurrent workers.\n",
      "[Parallel(n_jobs=1)]: Done 120 out of 120 | elapsed:   32.6s finished\n"
     ]
    },
    {
     "name": "stdout",
     "output_type": "stream",
     "text": [
      "best score: 0.5370370370370371\n",
      "Fitting 10 folds for each of 12 candidates, totalling 120 fits\n"
     ]
    },
    {
     "name": "stderr",
     "output_type": "stream",
     "text": [
      "[Parallel(n_jobs=1)]: Using backend SequentialBackend with 1 concurrent workers.\n",
      "[Parallel(n_jobs=1)]: Done 120 out of 120 | elapsed:   26.3s finished\n"
     ]
    },
    {
     "name": "stdout",
     "output_type": "stream",
     "text": [
      "best score: 0.5370370370370371\n",
      "Fitting 10 folds for each of 12 candidates, totalling 120 fits\n"
     ]
    },
    {
     "name": "stderr",
     "output_type": "stream",
     "text": [
      "[Parallel(n_jobs=1)]: Using backend SequentialBackend with 1 concurrent workers.\n",
      "[Parallel(n_jobs=1)]: Done 120 out of 120 | elapsed:   25.8s finished\n"
     ]
    },
    {
     "name": "stdout",
     "output_type": "stream",
     "text": [
      "best score: 0.5370370370370371\n",
      "Fitting 10 folds for each of 12 candidates, totalling 120 fits\n"
     ]
    },
    {
     "name": "stderr",
     "output_type": "stream",
     "text": [
      "[Parallel(n_jobs=1)]: Using backend SequentialBackend with 1 concurrent workers.\n",
      "[Parallel(n_jobs=1)]: Done 120 out of 120 | elapsed:   26.8s finished\n"
     ]
    },
    {
     "name": "stdout",
     "output_type": "stream",
     "text": [
      "best score: 0.5370370370370371\n",
      "Fitting 10 folds for each of 12 candidates, totalling 120 fits\n"
     ]
    },
    {
     "name": "stderr",
     "output_type": "stream",
     "text": [
      "[Parallel(n_jobs=1)]: Using backend SequentialBackend with 1 concurrent workers.\n",
      "[Parallel(n_jobs=1)]: Done 120 out of 120 | elapsed:   21.3s finished\n"
     ]
    },
    {
     "name": "stdout",
     "output_type": "stream",
     "text": [
      "best score: 0.5493827160493827\n",
      "Split: 1\n",
      "Split: 2\n",
      "Split: 3\n",
      "Split: 4\n",
      "Split: 5\n",
      "Split: 6\n",
      "Split: 7\n",
      "Split: 8\n",
      "Split: 9\n",
      "Split: 10\n",
      "Training Testing Accuracy for n_games=7 team=12 : 55.00% (11.24%)\n",
      "(181, 1316)\n",
      "(181, 1)\n",
      "X_train shape: (162, 2221)\n",
      "X_test shape: (19, 2221)\n",
      "Fitting 10 folds for each of 12 candidates, totalling 120 fits\n"
     ]
    },
    {
     "name": "stderr",
     "output_type": "stream",
     "text": [
      "[Parallel(n_jobs=1)]: Using backend SequentialBackend with 1 concurrent workers.\n",
      "[Parallel(n_jobs=1)]: Done 120 out of 120 | elapsed:   31.9s finished\n"
     ]
    },
    {
     "name": "stdout",
     "output_type": "stream",
     "text": [
      "best score: 0.5802469135802469\n",
      "Fitting 10 folds for each of 12 candidates, totalling 120 fits\n"
     ]
    },
    {
     "name": "stderr",
     "output_type": "stream",
     "text": [
      "[Parallel(n_jobs=1)]: Using backend SequentialBackend with 1 concurrent workers.\n",
      "[Parallel(n_jobs=1)]: Done 120 out of 120 | elapsed:   39.4s finished\n"
     ]
    },
    {
     "name": "stdout",
     "output_type": "stream",
     "text": [
      "best score: 0.6111111111111112\n",
      "Fitting 10 folds for each of 12 candidates, totalling 120 fits\n"
     ]
    },
    {
     "name": "stderr",
     "output_type": "stream",
     "text": [
      "[Parallel(n_jobs=1)]: Using backend SequentialBackend with 1 concurrent workers.\n",
      "[Parallel(n_jobs=1)]: Done 120 out of 120 | elapsed:   34.5s finished\n"
     ]
    },
    {
     "name": "stdout",
     "output_type": "stream",
     "text": [
      "best score: 0.6111111111111112\n",
      "Fitting 10 folds for each of 12 candidates, totalling 120 fits\n"
     ]
    },
    {
     "name": "stderr",
     "output_type": "stream",
     "text": [
      "[Parallel(n_jobs=1)]: Using backend SequentialBackend with 1 concurrent workers.\n",
      "[Parallel(n_jobs=1)]: Done 120 out of 120 | elapsed:   22.8s finished\n"
     ]
    },
    {
     "name": "stdout",
     "output_type": "stream",
     "text": [
      "best score: 0.6111111111111112\n",
      "Fitting 10 folds for each of 12 candidates, totalling 120 fits\n"
     ]
    },
    {
     "name": "stderr",
     "output_type": "stream",
     "text": [
      "[Parallel(n_jobs=1)]: Using backend SequentialBackend with 1 concurrent workers.\n",
      "[Parallel(n_jobs=1)]: Done 120 out of 120 | elapsed:   25.6s finished\n"
     ]
    },
    {
     "name": "stdout",
     "output_type": "stream",
     "text": [
      "best score: 0.6111111111111112\n",
      "Split: 1\n",
      "Split: 2\n",
      "Split: 3\n",
      "Split: 4\n",
      "Split: 5\n",
      "Split: 6\n",
      "Split: 7\n",
      "Split: 8\n",
      "Split: 9\n",
      "Split: 10\n",
      "Training Testing Accuracy for n_games=7 team=13 : 51.96% (9.13%)\n",
      "(184, 1316)\n",
      "(184, 1)\n",
      "X_train shape: (165, 2193)\n",
      "X_test shape: (19, 2193)\n",
      "Fitting 10 folds for each of 12 candidates, totalling 120 fits\n"
     ]
    },
    {
     "name": "stderr",
     "output_type": "stream",
     "text": [
      "[Parallel(n_jobs=1)]: Using backend SequentialBackend with 1 concurrent workers.\n",
      "[Parallel(n_jobs=1)]: Done 120 out of 120 | elapsed:   32.0s finished\n"
     ]
    },
    {
     "name": "stdout",
     "output_type": "stream",
     "text": [
      "best score: 0.6060606060606061\n",
      "Fitting 10 folds for each of 12 candidates, totalling 120 fits\n"
     ]
    },
    {
     "name": "stderr",
     "output_type": "stream",
     "text": [
      "[Parallel(n_jobs=1)]: Using backend SequentialBackend with 1 concurrent workers.\n",
      "[Parallel(n_jobs=1)]: Done 120 out of 120 | elapsed:   34.1s finished\n"
     ]
    },
    {
     "name": "stdout",
     "output_type": "stream",
     "text": [
      "best score: 0.6121212121212121\n",
      "Fitting 10 folds for each of 12 candidates, totalling 120 fits\n"
     ]
    },
    {
     "name": "stderr",
     "output_type": "stream",
     "text": [
      "[Parallel(n_jobs=1)]: Using backend SequentialBackend with 1 concurrent workers.\n",
      "[Parallel(n_jobs=1)]: Done 120 out of 120 | elapsed:   47.5s finished\n"
     ]
    },
    {
     "name": "stdout",
     "output_type": "stream",
     "text": [
      "best score: 0.6121212121212121\n",
      "Fitting 10 folds for each of 12 candidates, totalling 120 fits\n"
     ]
    },
    {
     "name": "stderr",
     "output_type": "stream",
     "text": [
      "[Parallel(n_jobs=1)]: Using backend SequentialBackend with 1 concurrent workers.\n",
      "[Parallel(n_jobs=1)]: Done 120 out of 120 | elapsed:   24.1s finished\n"
     ]
    },
    {
     "name": "stdout",
     "output_type": "stream",
     "text": [
      "best score: 0.6121212121212121\n",
      "Fitting 10 folds for each of 12 candidates, totalling 120 fits\n"
     ]
    },
    {
     "name": "stderr",
     "output_type": "stream",
     "text": [
      "[Parallel(n_jobs=1)]: Using backend SequentialBackend with 1 concurrent workers.\n",
      "[Parallel(n_jobs=1)]: Done 120 out of 120 | elapsed:   20.9s finished\n"
     ]
    },
    {
     "name": "stdout",
     "output_type": "stream",
     "text": [
      "best score: 0.6121212121212121\n",
      "Split: 1\n",
      "Split: 2\n",
      "Split: 3\n",
      "Split: 4\n",
      "Split: 5\n",
      "Split: 6\n",
      "Split: 7\n",
      "Split: 8\n",
      "Split: 9\n",
      "Split: 10\n",
      "Training Testing Accuracy for n_games=7 team=14 : 61.93% (1.00%)\n",
      "(173, 1316)\n",
      "(173, 1)\n",
      "X_train shape: (155, 2194)\n",
      "X_test shape: (18, 2194)\n",
      "Fitting 10 folds for each of 12 candidates, totalling 120 fits\n"
     ]
    },
    {
     "name": "stderr",
     "output_type": "stream",
     "text": [
      "[Parallel(n_jobs=1)]: Using backend SequentialBackend with 1 concurrent workers.\n",
      "[Parallel(n_jobs=1)]: Done 120 out of 120 | elapsed:   31.7s finished\n"
     ]
    },
    {
     "name": "stdout",
     "output_type": "stream",
     "text": [
      "best score: 0.6129032258064516\n",
      "Fitting 10 folds for each of 12 candidates, totalling 120 fits\n"
     ]
    },
    {
     "name": "stderr",
     "output_type": "stream",
     "text": [
      "[Parallel(n_jobs=1)]: Using backend SequentialBackend with 1 concurrent workers.\n",
      "[Parallel(n_jobs=1)]: Done 120 out of 120 | elapsed:   28.8s finished\n"
     ]
    },
    {
     "name": "stdout",
     "output_type": "stream",
     "text": [
      "best score: 0.6129032258064516\n",
      "Fitting 10 folds for each of 12 candidates, totalling 120 fits\n"
     ]
    },
    {
     "name": "stderr",
     "output_type": "stream",
     "text": [
      "[Parallel(n_jobs=1)]: Using backend SequentialBackend with 1 concurrent workers.\n",
      "[Parallel(n_jobs=1)]: Done 120 out of 120 | elapsed:   26.4s finished\n"
     ]
    },
    {
     "name": "stdout",
     "output_type": "stream",
     "text": [
      "best score: 0.6129032258064516\n",
      "Fitting 10 folds for each of 12 candidates, totalling 120 fits\n"
     ]
    },
    {
     "name": "stderr",
     "output_type": "stream",
     "text": [
      "[Parallel(n_jobs=1)]: Using backend SequentialBackend with 1 concurrent workers.\n",
      "[Parallel(n_jobs=1)]: Done 120 out of 120 | elapsed:   49.6s finished\n"
     ]
    },
    {
     "name": "stdout",
     "output_type": "stream",
     "text": [
      "best score: 0.6129032258064516\n",
      "Fitting 10 folds for each of 12 candidates, totalling 120 fits\n"
     ]
    },
    {
     "name": "stderr",
     "output_type": "stream",
     "text": [
      "[Parallel(n_jobs=1)]: Using backend SequentialBackend with 1 concurrent workers.\n",
      "[Parallel(n_jobs=1)]: Done 120 out of 120 | elapsed:   26.1s finished\n"
     ]
    },
    {
     "name": "stdout",
     "output_type": "stream",
     "text": [
      "best score: 0.6129032258064516\n",
      "Split: 1\n",
      "Split: 2\n",
      "Split: 3\n",
      "Split: 4\n",
      "Split: 5\n",
      "Split: 6\n",
      "Split: 7\n",
      "Split: 8\n",
      "Split: 9\n",
      "Split: 10\n",
      "Training Testing Accuracy for n_games=7 team=15 : 63.04% (2.14%)\n",
      "(189, 1316)\n",
      "(189, 1)\n",
      "X_train shape: (170, 2204)\n",
      "X_test shape: (19, 2204)\n",
      "Fitting 10 folds for each of 12 candidates, totalling 120 fits\n"
     ]
    },
    {
     "name": "stderr",
     "output_type": "stream",
     "text": [
      "[Parallel(n_jobs=1)]: Using backend SequentialBackend with 1 concurrent workers.\n",
      "[Parallel(n_jobs=1)]: Done 120 out of 120 | elapsed:   31.9s finished\n"
     ]
    },
    {
     "name": "stdout",
     "output_type": "stream",
     "text": [
      "best score: 0.6411764705882353\n",
      "Fitting 10 folds for each of 12 candidates, totalling 120 fits\n"
     ]
    },
    {
     "name": "stderr",
     "output_type": "stream",
     "text": [
      "[Parallel(n_jobs=1)]: Using backend SequentialBackend with 1 concurrent workers.\n",
      "[Parallel(n_jobs=1)]: Done 120 out of 120 | elapsed:   33.6s finished\n"
     ]
    },
    {
     "name": "stdout",
     "output_type": "stream",
     "text": [
      "best score: 0.6470588235294118\n",
      "Fitting 10 folds for each of 12 candidates, totalling 120 fits\n"
     ]
    },
    {
     "name": "stderr",
     "output_type": "stream",
     "text": [
      "[Parallel(n_jobs=1)]: Using backend SequentialBackend with 1 concurrent workers.\n",
      "[Parallel(n_jobs=1)]: Done 120 out of 120 | elapsed:   46.4s finished\n"
     ]
    },
    {
     "name": "stdout",
     "output_type": "stream",
     "text": [
      "best score: 0.6470588235294118\n",
      "Fitting 10 folds for each of 12 candidates, totalling 120 fits\n"
     ]
    },
    {
     "name": "stderr",
     "output_type": "stream",
     "text": [
      "[Parallel(n_jobs=1)]: Using backend SequentialBackend with 1 concurrent workers.\n",
      "[Parallel(n_jobs=1)]: Done 120 out of 120 | elapsed:  1.2min finished\n"
     ]
    },
    {
     "name": "stdout",
     "output_type": "stream",
     "text": [
      "best score: 0.6470588235294118\n",
      "Fitting 10 folds for each of 12 candidates, totalling 120 fits\n"
     ]
    },
    {
     "name": "stderr",
     "output_type": "stream",
     "text": [
      "[Parallel(n_jobs=1)]: Using backend SequentialBackend with 1 concurrent workers.\n",
      "[Parallel(n_jobs=1)]: Done 120 out of 120 | elapsed:   28.4s finished\n"
     ]
    },
    {
     "name": "stdout",
     "output_type": "stream",
     "text": [
      "best score: 0.6470588235294118\n",
      "Split: 1\n",
      "Split: 2\n",
      "Split: 3\n",
      "Split: 4\n",
      "Split: 5\n",
      "Split: 6\n",
      "Split: 7\n",
      "Split: 8\n",
      "Split: 9\n",
      "Split: 10\n",
      "Training Testing Accuracy for n_games=7 team=16 : 58.80% (10.80%)\n",
      "(184, 1316)\n",
      "(184, 1)\n",
      "X_train shape: (165, 2209)\n",
      "X_test shape: (19, 2209)\n",
      "Fitting 10 folds for each of 12 candidates, totalling 120 fits\n"
     ]
    },
    {
     "name": "stderr",
     "output_type": "stream",
     "text": [
      "[Parallel(n_jobs=1)]: Using backend SequentialBackend with 1 concurrent workers.\n",
      "[Parallel(n_jobs=1)]: Done 120 out of 120 | elapsed:   33.5s finished\n"
     ]
    },
    {
     "name": "stdout",
     "output_type": "stream",
     "text": [
      "best score: 0.6121212121212121\n",
      "Fitting 10 folds for each of 12 candidates, totalling 120 fits\n"
     ]
    },
    {
     "name": "stderr",
     "output_type": "stream",
     "text": [
      "[Parallel(n_jobs=1)]: Using backend SequentialBackend with 1 concurrent workers.\n",
      "[Parallel(n_jobs=1)]: Done 120 out of 120 | elapsed:   25.8s finished\n"
     ]
    },
    {
     "name": "stdout",
     "output_type": "stream",
     "text": [
      "best score: 0.6121212121212121\n",
      "Fitting 10 folds for each of 12 candidates, totalling 120 fits\n"
     ]
    },
    {
     "name": "stderr",
     "output_type": "stream",
     "text": [
      "[Parallel(n_jobs=1)]: Using backend SequentialBackend with 1 concurrent workers.\n",
      "[Parallel(n_jobs=1)]: Done 120 out of 120 | elapsed:   29.7s finished\n"
     ]
    },
    {
     "name": "stdout",
     "output_type": "stream",
     "text": [
      "best score: 0.6121212121212121\n",
      "Fitting 10 folds for each of 12 candidates, totalling 120 fits\n"
     ]
    },
    {
     "name": "stderr",
     "output_type": "stream",
     "text": [
      "[Parallel(n_jobs=1)]: Using backend SequentialBackend with 1 concurrent workers.\n",
      "[Parallel(n_jobs=1)]: Done 120 out of 120 | elapsed:   26.4s finished\n"
     ]
    },
    {
     "name": "stdout",
     "output_type": "stream",
     "text": [
      "best score: 0.6121212121212121\n",
      "Fitting 10 folds for each of 12 candidates, totalling 120 fits\n"
     ]
    },
    {
     "name": "stderr",
     "output_type": "stream",
     "text": [
      "[Parallel(n_jobs=1)]: Using backend SequentialBackend with 1 concurrent workers.\n",
      "[Parallel(n_jobs=1)]: Done 120 out of 120 | elapsed:   40.4s finished\n"
     ]
    },
    {
     "name": "stdout",
     "output_type": "stream",
     "text": [
      "best score: 0.6121212121212121\n",
      "Split: 1\n",
      "Split: 2\n",
      "Split: 3\n",
      "Split: 4\n",
      "Split: 5\n",
      "Split: 6\n",
      "Split: 7\n",
      "Split: 8\n",
      "Split: 9\n",
      "Split: 10\n",
      "Training Testing Accuracy for n_games=7 team=17 : 59.82% (1.58%)\n",
      "(183, 1316)\n",
      "(183, 1)\n",
      "X_train shape: (164, 2218)\n",
      "X_test shape: (19, 2218)\n",
      "Fitting 10 folds for each of 12 candidates, totalling 120 fits\n"
     ]
    },
    {
     "name": "stderr",
     "output_type": "stream",
     "text": [
      "[Parallel(n_jobs=1)]: Using backend SequentialBackend with 1 concurrent workers.\n",
      "[Parallel(n_jobs=1)]: Done 120 out of 120 | elapsed:   33.4s finished\n"
     ]
    },
    {
     "name": "stdout",
     "output_type": "stream",
     "text": [
      "best score: 0.6219512195121951\n",
      "Fitting 10 folds for each of 12 candidates, totalling 120 fits\n"
     ]
    },
    {
     "name": "stderr",
     "output_type": "stream",
     "text": [
      "[Parallel(n_jobs=1)]: Using backend SequentialBackend with 1 concurrent workers.\n",
      "[Parallel(n_jobs=1)]: Done 120 out of 120 | elapsed:   37.9s finished\n"
     ]
    },
    {
     "name": "stdout",
     "output_type": "stream",
     "text": [
      "best score: 0.6219512195121951\n",
      "Fitting 10 folds for each of 12 candidates, totalling 120 fits\n"
     ]
    },
    {
     "name": "stderr",
     "output_type": "stream",
     "text": [
      "[Parallel(n_jobs=1)]: Using backend SequentialBackend with 1 concurrent workers.\n",
      "[Parallel(n_jobs=1)]: Done 120 out of 120 | elapsed:  1.1min finished\n"
     ]
    },
    {
     "name": "stdout",
     "output_type": "stream",
     "text": [
      "best score: 0.6219512195121951\n",
      "Fitting 10 folds for each of 12 candidates, totalling 120 fits\n"
     ]
    },
    {
     "name": "stderr",
     "output_type": "stream",
     "text": [
      "[Parallel(n_jobs=1)]: Using backend SequentialBackend with 1 concurrent workers.\n",
      "[Parallel(n_jobs=1)]: Done 120 out of 120 | elapsed:  1.2min finished\n"
     ]
    },
    {
     "name": "stdout",
     "output_type": "stream",
     "text": [
      "best score: 0.6280487804878049\n",
      "Fitting 10 folds for each of 12 candidates, totalling 120 fits\n"
     ]
    },
    {
     "name": "stderr",
     "output_type": "stream",
     "text": [
      "[Parallel(n_jobs=1)]: Using backend SequentialBackend with 1 concurrent workers.\n",
      "[Parallel(n_jobs=1)]: Done 120 out of 120 | elapsed:   43.8s finished\n"
     ]
    },
    {
     "name": "stdout",
     "output_type": "stream",
     "text": [
      "best score: 0.6341463414634146\n",
      "Split: 1\n",
      "Split: 2\n",
      "Split: 3\n",
      "Split: 4\n",
      "Split: 5\n",
      "Split: 6\n",
      "Split: 7\n",
      "Split: 8\n",
      "Split: 9\n",
      "Split: 10\n",
      "Training Testing Accuracy for n_games=7 team=18 : 56.37% (7.47%)\n",
      "Accuracy for Team Models for n_games= 7 : 59.73% (5.57%)\n",
      "(178, 1502)\n",
      "(178, 1)\n",
      "X_train shape: (160, 2515)\n",
      "X_test shape: (18, 2515)\n",
      "Fitting 10 folds for each of 12 candidates, totalling 120 fits\n"
     ]
    },
    {
     "name": "stderr",
     "output_type": "stream",
     "text": [
      "[Parallel(n_jobs=1)]: Using backend SequentialBackend with 1 concurrent workers.\n",
      "[Parallel(n_jobs=1)]: Done 120 out of 120 | elapsed:   36.2s finished\n"
     ]
    },
    {
     "name": "stdout",
     "output_type": "stream",
     "text": [
      "best score: 0.58125\n",
      "Fitting 10 folds for each of 12 candidates, totalling 120 fits\n"
     ]
    },
    {
     "name": "stderr",
     "output_type": "stream",
     "text": [
      "[Parallel(n_jobs=1)]: Using backend SequentialBackend with 1 concurrent workers.\n",
      "[Parallel(n_jobs=1)]: Done 120 out of 120 | elapsed:   55.4s finished\n"
     ]
    },
    {
     "name": "stdout",
     "output_type": "stream",
     "text": [
      "best score: 0.5875\n",
      "Fitting 10 folds for each of 12 candidates, totalling 120 fits\n"
     ]
    },
    {
     "name": "stderr",
     "output_type": "stream",
     "text": [
      "[Parallel(n_jobs=1)]: Using backend SequentialBackend with 1 concurrent workers.\n",
      "[Parallel(n_jobs=1)]: Done 120 out of 120 | elapsed:   41.5s finished\n"
     ]
    },
    {
     "name": "stdout",
     "output_type": "stream",
     "text": [
      "best score: 0.5875\n",
      "Fitting 10 folds for each of 12 candidates, totalling 120 fits\n"
     ]
    },
    {
     "name": "stderr",
     "output_type": "stream",
     "text": [
      "[Parallel(n_jobs=1)]: Using backend SequentialBackend with 1 concurrent workers.\n",
      "[Parallel(n_jobs=1)]: Done 120 out of 120 | elapsed:   52.7s finished\n"
     ]
    },
    {
     "name": "stdout",
     "output_type": "stream",
     "text": [
      "best score: 0.5875\n",
      "Fitting 10 folds for each of 12 candidates, totalling 120 fits\n"
     ]
    },
    {
     "name": "stderr",
     "output_type": "stream",
     "text": [
      "[Parallel(n_jobs=1)]: Using backend SequentialBackend with 1 concurrent workers.\n",
      "[Parallel(n_jobs=1)]: Done 120 out of 120 | elapsed:   36.6s finished\n"
     ]
    },
    {
     "name": "stdout",
     "output_type": "stream",
     "text": [
      "best score: 0.5875\n",
      "Split: 1\n",
      "Split: 2\n",
      "Split: 3\n",
      "Split: 4\n",
      "Split: 5\n",
      "Split: 6\n",
      "Split: 7\n",
      "Split: 8\n",
      "Split: 9\n",
      "Split: 10\n",
      "Training Testing Accuracy for n_games=8 team=1 : 57.35% (4.65%)\n",
      "(176, 1502)\n",
      "(176, 1)\n",
      "X_train shape: (158, 2493)\n",
      "X_test shape: (18, 2493)\n",
      "Fitting 10 folds for each of 12 candidates, totalling 120 fits\n"
     ]
    },
    {
     "name": "stderr",
     "output_type": "stream",
     "text": [
      "[Parallel(n_jobs=1)]: Using backend SequentialBackend with 1 concurrent workers.\n",
      "[Parallel(n_jobs=1)]: Done 120 out of 120 | elapsed:   35.8s finished\n"
     ]
    },
    {
     "name": "stdout",
     "output_type": "stream",
     "text": [
      "best score: 0.7025316455696202\n",
      "Fitting 10 folds for each of 12 candidates, totalling 120 fits\n"
     ]
    },
    {
     "name": "stderr",
     "output_type": "stream",
     "text": [
      "[Parallel(n_jobs=1)]: Using backend SequentialBackend with 1 concurrent workers.\n",
      "[Parallel(n_jobs=1)]: Done 120 out of 120 | elapsed:   34.0s finished\n"
     ]
    },
    {
     "name": "stdout",
     "output_type": "stream",
     "text": [
      "best score: 0.7025316455696202\n",
      "Fitting 10 folds for each of 12 candidates, totalling 120 fits\n"
     ]
    },
    {
     "name": "stderr",
     "output_type": "stream",
     "text": [
      "[Parallel(n_jobs=1)]: Using backend SequentialBackend with 1 concurrent workers.\n",
      "[Parallel(n_jobs=1)]: Done 120 out of 120 | elapsed:   46.5s finished\n"
     ]
    },
    {
     "name": "stdout",
     "output_type": "stream",
     "text": [
      "best score: 0.7025316455696202\n",
      "Fitting 10 folds for each of 12 candidates, totalling 120 fits\n"
     ]
    },
    {
     "name": "stderr",
     "output_type": "stream",
     "text": [
      "[Parallel(n_jobs=1)]: Using backend SequentialBackend with 1 concurrent workers.\n",
      "[Parallel(n_jobs=1)]: Done 120 out of 120 | elapsed:   37.0s finished\n"
     ]
    },
    {
     "name": "stdout",
     "output_type": "stream",
     "text": [
      "best score: 0.7025316455696202\n",
      "Fitting 10 folds for each of 12 candidates, totalling 120 fits\n"
     ]
    },
    {
     "name": "stderr",
     "output_type": "stream",
     "text": [
      "[Parallel(n_jobs=1)]: Using backend SequentialBackend with 1 concurrent workers.\n",
      "[Parallel(n_jobs=1)]: Done 120 out of 120 | elapsed:  1.3min finished\n"
     ]
    },
    {
     "name": "stdout",
     "output_type": "stream",
     "text": [
      "best score: 0.7341772151898734\n",
      "Split: 1\n",
      "Split: 2\n",
      "Split: 3\n",
      "Split: 4\n",
      "Split: 5\n",
      "Split: 6\n",
      "Split: 7\n",
      "Split: 8\n",
      "Split: 9\n",
      "Split: 10\n",
      "Training Testing Accuracy for n_games=8 team=2 : 70.56% (8.27%)\n",
      "(174, 1502)\n",
      "(174, 1)\n",
      "X_train shape: (156, 2481)\n",
      "X_test shape: (18, 2481)\n",
      "Fitting 10 folds for each of 12 candidates, totalling 120 fits\n"
     ]
    },
    {
     "name": "stderr",
     "output_type": "stream",
     "text": [
      "[Parallel(n_jobs=1)]: Using backend SequentialBackend with 1 concurrent workers.\n",
      "[Parallel(n_jobs=1)]: Done 120 out of 120 | elapsed:   39.5s finished\n"
     ]
    },
    {
     "name": "stdout",
     "output_type": "stream",
     "text": [
      "best score: 0.717948717948718\n",
      "Fitting 10 folds for each of 12 candidates, totalling 120 fits\n"
     ]
    },
    {
     "name": "stderr",
     "output_type": "stream",
     "text": [
      "[Parallel(n_jobs=1)]: Using backend SequentialBackend with 1 concurrent workers.\n",
      "[Parallel(n_jobs=1)]: Done 120 out of 120 | elapsed:   41.2s finished\n"
     ]
    },
    {
     "name": "stdout",
     "output_type": "stream",
     "text": [
      "best score: 0.717948717948718\n",
      "Fitting 10 folds for each of 12 candidates, totalling 120 fits\n"
     ]
    },
    {
     "name": "stderr",
     "output_type": "stream",
     "text": [
      "[Parallel(n_jobs=1)]: Using backend SequentialBackend with 1 concurrent workers.\n",
      "[Parallel(n_jobs=1)]: Done 120 out of 120 | elapsed:   47.0s finished\n"
     ]
    },
    {
     "name": "stdout",
     "output_type": "stream",
     "text": [
      "best score: 0.717948717948718\n",
      "Fitting 10 folds for each of 12 candidates, totalling 120 fits\n"
     ]
    },
    {
     "name": "stderr",
     "output_type": "stream",
     "text": [
      "[Parallel(n_jobs=1)]: Using backend SequentialBackend with 1 concurrent workers.\n",
      "[Parallel(n_jobs=1)]: Done 120 out of 120 | elapsed:   28.7s finished\n"
     ]
    },
    {
     "name": "stdout",
     "output_type": "stream",
     "text": [
      "best score: 0.717948717948718\n",
      "Fitting 10 folds for each of 12 candidates, totalling 120 fits\n"
     ]
    },
    {
     "name": "stderr",
     "output_type": "stream",
     "text": [
      "[Parallel(n_jobs=1)]: Using backend SequentialBackend with 1 concurrent workers.\n",
      "[Parallel(n_jobs=1)]: Done 120 out of 120 | elapsed:   34.7s finished\n"
     ]
    },
    {
     "name": "stdout",
     "output_type": "stream",
     "text": [
      "best score: 0.717948717948718\n",
      "Split: 1\n",
      "Split: 2\n",
      "Split: 3\n",
      "Split: 4\n",
      "Split: 5\n",
      "Split: 6\n",
      "Split: 7\n",
      "Split: 8\n",
      "Split: 9\n",
      "Split: 10\n",
      "Training Testing Accuracy for n_games=8 team=3 : 69.58% (1.96%)\n",
      "(179, 1502)\n",
      "(179, 1)\n",
      "X_train shape: (161, 2488)\n",
      "X_test shape: (18, 2488)\n",
      "Fitting 10 folds for each of 12 candidates, totalling 120 fits\n"
     ]
    },
    {
     "name": "stderr",
     "output_type": "stream",
     "text": [
      "[Parallel(n_jobs=1)]: Using backend SequentialBackend with 1 concurrent workers.\n",
      "[Parallel(n_jobs=1)]: Done 120 out of 120 | elapsed:   37.5s finished\n"
     ]
    },
    {
     "name": "stdout",
     "output_type": "stream",
     "text": [
      "best score: 0.5341614906832298\n",
      "Fitting 10 folds for each of 12 candidates, totalling 120 fits\n"
     ]
    },
    {
     "name": "stderr",
     "output_type": "stream",
     "text": [
      "[Parallel(n_jobs=1)]: Using backend SequentialBackend with 1 concurrent workers.\n",
      "[Parallel(n_jobs=1)]: Done 120 out of 120 | elapsed:   52.8s finished\n"
     ]
    },
    {
     "name": "stdout",
     "output_type": "stream",
     "text": [
      "best score: 0.577639751552795\n",
      "Fitting 10 folds for each of 12 candidates, totalling 120 fits\n"
     ]
    },
    {
     "name": "stderr",
     "output_type": "stream",
     "text": [
      "[Parallel(n_jobs=1)]: Using backend SequentialBackend with 1 concurrent workers.\n",
      "[Parallel(n_jobs=1)]: Done 120 out of 120 | elapsed:   27.3s finished\n"
     ]
    },
    {
     "name": "stdout",
     "output_type": "stream",
     "text": [
      "best score: 0.577639751552795\n",
      "Fitting 10 folds for each of 12 candidates, totalling 120 fits\n"
     ]
    },
    {
     "name": "stderr",
     "output_type": "stream",
     "text": [
      "[Parallel(n_jobs=1)]: Using backend SequentialBackend with 1 concurrent workers.\n",
      "[Parallel(n_jobs=1)]: Done 120 out of 120 | elapsed:   33.9s finished\n"
     ]
    },
    {
     "name": "stdout",
     "output_type": "stream",
     "text": [
      "best score: 0.577639751552795\n",
      "Fitting 10 folds for each of 12 candidates, totalling 120 fits\n"
     ]
    },
    {
     "name": "stderr",
     "output_type": "stream",
     "text": [
      "[Parallel(n_jobs=1)]: Using backend SequentialBackend with 1 concurrent workers.\n",
      "[Parallel(n_jobs=1)]: Done 120 out of 120 | elapsed:   25.8s finished\n"
     ]
    },
    {
     "name": "stdout",
     "output_type": "stream",
     "text": [
      "best score: 0.577639751552795\n",
      "Split: 1\n",
      "Split: 2\n",
      "Split: 3\n",
      "Split: 4\n",
      "Split: 5\n",
      "Split: 6\n",
      "Split: 7\n",
      "Split: 8\n",
      "Split: 9\n",
      "Split: 10\n",
      "Training Testing Accuracy for n_games=8 team=4 : 54.18% (8.54%)\n",
      "(176, 1502)\n",
      "(176, 1)\n",
      "X_train shape: (158, 2467)\n",
      "X_test shape: (18, 2467)\n",
      "Fitting 10 folds for each of 12 candidates, totalling 120 fits\n"
     ]
    },
    {
     "name": "stderr",
     "output_type": "stream",
     "text": [
      "[Parallel(n_jobs=1)]: Using backend SequentialBackend with 1 concurrent workers.\n",
      "[Parallel(n_jobs=1)]: Done 120 out of 120 | elapsed:   35.8s finished\n"
     ]
    },
    {
     "name": "stdout",
     "output_type": "stream",
     "text": [
      "best score: 0.6012658227848101\n",
      "Fitting 10 folds for each of 12 candidates, totalling 120 fits\n"
     ]
    },
    {
     "name": "stderr",
     "output_type": "stream",
     "text": [
      "[Parallel(n_jobs=1)]: Using backend SequentialBackend with 1 concurrent workers.\n",
      "[Parallel(n_jobs=1)]: Done 120 out of 120 | elapsed:   35.5s finished\n"
     ]
    },
    {
     "name": "stdout",
     "output_type": "stream",
     "text": [
      "best score: 0.6329113924050633\n",
      "Fitting 10 folds for each of 12 candidates, totalling 120 fits\n"
     ]
    },
    {
     "name": "stderr",
     "output_type": "stream",
     "text": [
      "[Parallel(n_jobs=1)]: Using backend SequentialBackend with 1 concurrent workers.\n",
      "[Parallel(n_jobs=1)]: Done 120 out of 120 | elapsed:  1.1min finished\n"
     ]
    },
    {
     "name": "stdout",
     "output_type": "stream",
     "text": [
      "best score: 0.6329113924050633\n",
      "Fitting 10 folds for each of 12 candidates, totalling 120 fits\n"
     ]
    },
    {
     "name": "stderr",
     "output_type": "stream",
     "text": [
      "[Parallel(n_jobs=1)]: Using backend SequentialBackend with 1 concurrent workers.\n",
      "[Parallel(n_jobs=1)]: Done 120 out of 120 | elapsed:  1.6min finished\n"
     ]
    },
    {
     "name": "stdout",
     "output_type": "stream",
     "text": [
      "best score: 0.6329113924050633\n",
      "Fitting 10 folds for each of 12 candidates, totalling 120 fits\n"
     ]
    },
    {
     "name": "stderr",
     "output_type": "stream",
     "text": [
      "[Parallel(n_jobs=1)]: Using backend SequentialBackend with 1 concurrent workers.\n",
      "[Parallel(n_jobs=1)]: Done 120 out of 120 | elapsed:   35.3s finished\n"
     ]
    },
    {
     "name": "stdout",
     "output_type": "stream",
     "text": [
      "best score: 0.6329113924050633\n",
      "Split: 1\n",
      "Split: 2\n",
      "Split: 3\n",
      "Split: 4\n",
      "Split: 5\n",
      "Split: 6\n",
      "Split: 7\n",
      "Split: 8\n",
      "Split: 9\n",
      "Split: 10\n",
      "Training Testing Accuracy for n_games=8 team=5 : 60.85% (8.72%)\n",
      "(179, 1502)\n",
      "(179, 1)\n",
      "X_train shape: (161, 2501)\n",
      "X_test shape: (18, 2501)\n",
      "Fitting 10 folds for each of 12 candidates, totalling 120 fits\n"
     ]
    },
    {
     "name": "stderr",
     "output_type": "stream",
     "text": [
      "[Parallel(n_jobs=1)]: Using backend SequentialBackend with 1 concurrent workers.\n",
      "[Parallel(n_jobs=1)]: Done 120 out of 120 | elapsed:   35.8s finished\n"
     ]
    },
    {
     "name": "stdout",
     "output_type": "stream",
     "text": [
      "best score: 0.5714285714285714\n",
      "Fitting 10 folds for each of 12 candidates, totalling 120 fits\n"
     ]
    },
    {
     "name": "stderr",
     "output_type": "stream",
     "text": [
      "[Parallel(n_jobs=1)]: Using backend SequentialBackend with 1 concurrent workers.\n",
      "[Parallel(n_jobs=1)]: Done 120 out of 120 | elapsed:   31.0s finished\n"
     ]
    },
    {
     "name": "stdout",
     "output_type": "stream",
     "text": [
      "best score: 0.577639751552795\n",
      "Fitting 10 folds for each of 12 candidates, totalling 120 fits\n"
     ]
    },
    {
     "name": "stderr",
     "output_type": "stream",
     "text": [
      "[Parallel(n_jobs=1)]: Using backend SequentialBackend with 1 concurrent workers.\n",
      "[Parallel(n_jobs=1)]: Done 120 out of 120 | elapsed:   23.0s finished\n"
     ]
    },
    {
     "name": "stdout",
     "output_type": "stream",
     "text": [
      "best score: 0.577639751552795\n",
      "Fitting 10 folds for each of 12 candidates, totalling 120 fits\n"
     ]
    },
    {
     "name": "stderr",
     "output_type": "stream",
     "text": [
      "[Parallel(n_jobs=1)]: Using backend SequentialBackend with 1 concurrent workers.\n",
      "[Parallel(n_jobs=1)]: Done 120 out of 120 | elapsed:   48.8s finished\n"
     ]
    },
    {
     "name": "stdout",
     "output_type": "stream",
     "text": [
      "best score: 0.577639751552795\n",
      "Fitting 10 folds for each of 12 candidates, totalling 120 fits\n"
     ]
    },
    {
     "name": "stderr",
     "output_type": "stream",
     "text": [
      "[Parallel(n_jobs=1)]: Using backend SequentialBackend with 1 concurrent workers.\n",
      "[Parallel(n_jobs=1)]: Done 120 out of 120 | elapsed:   41.9s finished\n"
     ]
    },
    {
     "name": "stdout",
     "output_type": "stream",
     "text": [
      "best score: 0.577639751552795\n",
      "Split: 1\n",
      "Split: 2\n",
      "Split: 3\n",
      "Split: 4\n",
      "Split: 5\n",
      "Split: 6\n",
      "Split: 7\n",
      "Split: 8\n",
      "Split: 9\n",
      "Split: 10\n",
      "Training Testing Accuracy for n_games=8 team=6 : 49.12% (7.91%)\n",
      "(188, 1502)\n",
      "(188, 1)\n",
      "X_train shape: (169, 2492)\n",
      "X_test shape: (19, 2492)\n",
      "Fitting 10 folds for each of 12 candidates, totalling 120 fits\n"
     ]
    },
    {
     "name": "stderr",
     "output_type": "stream",
     "text": [
      "[Parallel(n_jobs=1)]: Using backend SequentialBackend with 1 concurrent workers.\n",
      "[Parallel(n_jobs=1)]: Done 120 out of 120 | elapsed:   35.5s finished\n"
     ]
    },
    {
     "name": "stdout",
     "output_type": "stream",
     "text": [
      "best score: 0.6804733727810651\n",
      "Fitting 10 folds for each of 12 candidates, totalling 120 fits\n"
     ]
    },
    {
     "name": "stderr",
     "output_type": "stream",
     "text": [
      "[Parallel(n_jobs=1)]: Using backend SequentialBackend with 1 concurrent workers.\n",
      "[Parallel(n_jobs=1)]: Done 120 out of 120 | elapsed:   29.6s finished\n"
     ]
    },
    {
     "name": "stdout",
     "output_type": "stream",
     "text": [
      "best score: 0.6804733727810651\n",
      "Fitting 10 folds for each of 12 candidates, totalling 120 fits\n"
     ]
    },
    {
     "name": "stderr",
     "output_type": "stream",
     "text": [
      "[Parallel(n_jobs=1)]: Using backend SequentialBackend with 1 concurrent workers.\n",
      "[Parallel(n_jobs=1)]: Done 120 out of 120 | elapsed:   46.5s finished\n"
     ]
    },
    {
     "name": "stdout",
     "output_type": "stream",
     "text": [
      "best score: 0.6863905325443787\n",
      "Fitting 10 folds for each of 12 candidates, totalling 120 fits\n"
     ]
    },
    {
     "name": "stderr",
     "output_type": "stream",
     "text": [
      "[Parallel(n_jobs=1)]: Using backend SequentialBackend with 1 concurrent workers.\n",
      "[Parallel(n_jobs=1)]: Done 120 out of 120 | elapsed:   29.7s finished\n"
     ]
    },
    {
     "name": "stdout",
     "output_type": "stream",
     "text": [
      "best score: 0.6863905325443787\n",
      "Fitting 10 folds for each of 12 candidates, totalling 120 fits\n"
     ]
    },
    {
     "name": "stderr",
     "output_type": "stream",
     "text": [
      "[Parallel(n_jobs=1)]: Using backend SequentialBackend with 1 concurrent workers.\n",
      "[Parallel(n_jobs=1)]: Done 120 out of 120 | elapsed:   34.4s finished\n"
     ]
    },
    {
     "name": "stdout",
     "output_type": "stream",
     "text": [
      "best score: 0.6863905325443787\n",
      "Split: 1\n",
      "Split: 2\n",
      "Split: 3\n",
      "Split: 4\n",
      "Split: 5\n",
      "Split: 6\n",
      "Split: 7\n",
      "Split: 8\n",
      "Split: 9\n",
      "Split: 10\n",
      "Training Testing Accuracy for n_games=8 team=7 : 65.44% (3.33%)\n",
      "(172, 1502)\n",
      "(172, 1)\n",
      "X_train shape: (154, 2499)\n",
      "X_test shape: (18, 2499)\n",
      "Fitting 10 folds for each of 12 candidates, totalling 120 fits\n"
     ]
    },
    {
     "name": "stderr",
     "output_type": "stream",
     "text": [
      "[Parallel(n_jobs=1)]: Using backend SequentialBackend with 1 concurrent workers.\n",
      "[Parallel(n_jobs=1)]: Done 120 out of 120 | elapsed:   35.1s finished\n"
     ]
    },
    {
     "name": "stdout",
     "output_type": "stream",
     "text": [
      "best score: 0.7662337662337663\n",
      "Fitting 10 folds for each of 12 candidates, totalling 120 fits\n"
     ]
    },
    {
     "name": "stderr",
     "output_type": "stream",
     "text": [
      "[Parallel(n_jobs=1)]: Using backend SequentialBackend with 1 concurrent workers.\n",
      "[Parallel(n_jobs=1)]: Done 120 out of 120 | elapsed:   30.5s finished\n"
     ]
    },
    {
     "name": "stdout",
     "output_type": "stream",
     "text": [
      "best score: 0.7662337662337663\n",
      "Fitting 10 folds for each of 12 candidates, totalling 120 fits\n"
     ]
    },
    {
     "name": "stderr",
     "output_type": "stream",
     "text": [
      "[Parallel(n_jobs=1)]: Using backend SequentialBackend with 1 concurrent workers.\n",
      "[Parallel(n_jobs=1)]: Done 120 out of 120 | elapsed:   48.6s finished\n"
     ]
    },
    {
     "name": "stdout",
     "output_type": "stream",
     "text": [
      "best score: 0.7662337662337663\n",
      "Fitting 10 folds for each of 12 candidates, totalling 120 fits\n"
     ]
    },
    {
     "name": "stderr",
     "output_type": "stream",
     "text": [
      "[Parallel(n_jobs=1)]: Using backend SequentialBackend with 1 concurrent workers.\n",
      "[Parallel(n_jobs=1)]: Done 120 out of 120 | elapsed:   34.0s finished\n"
     ]
    },
    {
     "name": "stdout",
     "output_type": "stream",
     "text": [
      "best score: 0.7662337662337663\n",
      "Fitting 10 folds for each of 12 candidates, totalling 120 fits\n"
     ]
    },
    {
     "name": "stderr",
     "output_type": "stream",
     "text": [
      "[Parallel(n_jobs=1)]: Using backend SequentialBackend with 1 concurrent workers.\n",
      "[Parallel(n_jobs=1)]: Done 120 out of 120 | elapsed:   41.5s finished\n"
     ]
    },
    {
     "name": "stdout",
     "output_type": "stream",
     "text": [
      "best score: 0.7662337662337663\n",
      "Split: 1\n",
      "Split: 2\n",
      "Split: 3\n",
      "Split: 4\n",
      "Split: 5\n",
      "Split: 6\n",
      "Split: 7\n",
      "Split: 8\n",
      "Split: 9\n",
      "Split: 10\n",
      "Training Testing Accuracy for n_games=8 team=8 : 75.62% (4.86%)\n",
      "(185, 1502)\n",
      "(185, 1)\n",
      "X_train shape: (166, 2506)\n",
      "X_test shape: (19, 2506)\n",
      "Fitting 10 folds for each of 12 candidates, totalling 120 fits\n"
     ]
    },
    {
     "name": "stderr",
     "output_type": "stream",
     "text": [
      "[Parallel(n_jobs=1)]: Using backend SequentialBackend with 1 concurrent workers.\n",
      "[Parallel(n_jobs=1)]: Done 120 out of 120 | elapsed:   36.7s finished\n"
     ]
    },
    {
     "name": "stdout",
     "output_type": "stream",
     "text": [
      "best score: 0.572289156626506\n",
      "Fitting 10 folds for each of 12 candidates, totalling 120 fits\n"
     ]
    },
    {
     "name": "stderr",
     "output_type": "stream",
     "text": [
      "[Parallel(n_jobs=1)]: Using backend SequentialBackend with 1 concurrent workers.\n",
      "[Parallel(n_jobs=1)]: Done 120 out of 120 | elapsed:   39.7s finished\n"
     ]
    },
    {
     "name": "stdout",
     "output_type": "stream",
     "text": [
      "best score: 0.572289156626506\n",
      "Fitting 10 folds for each of 12 candidates, totalling 120 fits\n"
     ]
    },
    {
     "name": "stderr",
     "output_type": "stream",
     "text": [
      "[Parallel(n_jobs=1)]: Using backend SequentialBackend with 1 concurrent workers.\n",
      "[Parallel(n_jobs=1)]: Done 120 out of 120 | elapsed:   47.8s finished\n"
     ]
    },
    {
     "name": "stdout",
     "output_type": "stream",
     "text": [
      "best score: 0.572289156626506\n",
      "Fitting 10 folds for each of 12 candidates, totalling 120 fits\n"
     ]
    },
    {
     "name": "stderr",
     "output_type": "stream",
     "text": [
      "[Parallel(n_jobs=1)]: Using backend SequentialBackend with 1 concurrent workers.\n",
      "[Parallel(n_jobs=1)]: Done 120 out of 120 | elapsed:   26.6s finished\n"
     ]
    },
    {
     "name": "stdout",
     "output_type": "stream",
     "text": [
      "best score: 0.572289156626506\n",
      "Fitting 10 folds for each of 12 candidates, totalling 120 fits\n"
     ]
    },
    {
     "name": "stderr",
     "output_type": "stream",
     "text": [
      "[Parallel(n_jobs=1)]: Using backend SequentialBackend with 1 concurrent workers.\n",
      "[Parallel(n_jobs=1)]: Done 120 out of 120 | elapsed:   34.9s finished\n"
     ]
    },
    {
     "name": "stdout",
     "output_type": "stream",
     "text": [
      "best score: 0.572289156626506\n",
      "Split: 1\n",
      "Split: 2\n",
      "Split: 3\n",
      "Split: 4\n",
      "Split: 5\n",
      "Split: 6\n",
      "Split: 7\n",
      "Split: 8\n",
      "Split: 9\n",
      "Split: 10\n",
      "Training Testing Accuracy for n_games=8 team=9 : 54.59% (9.94%)\n",
      "(186, 1502)\n",
      "(186, 1)\n",
      "X_train shape: (167, 2497)\n",
      "X_test shape: (19, 2497)\n",
      "Fitting 10 folds for each of 12 candidates, totalling 120 fits\n"
     ]
    },
    {
     "name": "stderr",
     "output_type": "stream",
     "text": [
      "[Parallel(n_jobs=1)]: Using backend SequentialBackend with 1 concurrent workers.\n",
      "[Parallel(n_jobs=1)]: Done 120 out of 120 | elapsed:   36.3s finished\n"
     ]
    },
    {
     "name": "stdout",
     "output_type": "stream",
     "text": [
      "best score: 0.6706586826347305\n",
      "Fitting 10 folds for each of 12 candidates, totalling 120 fits\n"
     ]
    },
    {
     "name": "stderr",
     "output_type": "stream",
     "text": [
      "[Parallel(n_jobs=1)]: Using backend SequentialBackend with 1 concurrent workers.\n",
      "[Parallel(n_jobs=1)]: Done 120 out of 120 | elapsed:   33.8s finished\n"
     ]
    },
    {
     "name": "stdout",
     "output_type": "stream",
     "text": [
      "best score: 0.6706586826347305\n",
      "Fitting 10 folds for each of 12 candidates, totalling 120 fits\n"
     ]
    },
    {
     "name": "stderr",
     "output_type": "stream",
     "text": [
      "[Parallel(n_jobs=1)]: Using backend SequentialBackend with 1 concurrent workers.\n",
      "[Parallel(n_jobs=1)]: Done 120 out of 120 | elapsed:   54.5s finished\n"
     ]
    },
    {
     "name": "stdout",
     "output_type": "stream",
     "text": [
      "best score: 0.6706586826347305\n",
      "Fitting 10 folds for each of 12 candidates, totalling 120 fits\n"
     ]
    },
    {
     "name": "stderr",
     "output_type": "stream",
     "text": [
      "[Parallel(n_jobs=1)]: Using backend SequentialBackend with 1 concurrent workers.\n",
      "[Parallel(n_jobs=1)]: Done 120 out of 120 | elapsed:   48.2s finished\n"
     ]
    },
    {
     "name": "stdout",
     "output_type": "stream",
     "text": [
      "best score: 0.6706586826347305\n",
      "Fitting 10 folds for each of 12 candidates, totalling 120 fits\n"
     ]
    },
    {
     "name": "stderr",
     "output_type": "stream",
     "text": [
      "[Parallel(n_jobs=1)]: Using backend SequentialBackend with 1 concurrent workers.\n",
      "[Parallel(n_jobs=1)]: Done 120 out of 120 | elapsed:   27.5s finished\n"
     ]
    },
    {
     "name": "stdout",
     "output_type": "stream",
     "text": [
      "best score: 0.6706586826347305\n",
      "Split: 1\n",
      "Split: 2\n",
      "Split: 3\n",
      "Split: 4\n",
      "Split: 5\n",
      "Split: 6\n",
      "Split: 7\n",
      "Split: 8\n",
      "Split: 9\n",
      "Split: 10\n",
      "Training Testing Accuracy for n_games=8 team=10 : 56.87% (8.60%)\n",
      "(178, 1502)\n",
      "(178, 1)\n",
      "X_train shape: (160, 2512)\n",
      "X_test shape: (18, 2512)\n",
      "Fitting 10 folds for each of 12 candidates, totalling 120 fits\n"
     ]
    },
    {
     "name": "stderr",
     "output_type": "stream",
     "text": [
      "[Parallel(n_jobs=1)]: Using backend SequentialBackend with 1 concurrent workers.\n",
      "[Parallel(n_jobs=1)]: Done 120 out of 120 | elapsed:   36.2s finished\n"
     ]
    },
    {
     "name": "stdout",
     "output_type": "stream",
     "text": [
      "best score: 0.60625\n",
      "Fitting 10 folds for each of 12 candidates, totalling 120 fits\n"
     ]
    },
    {
     "name": "stderr",
     "output_type": "stream",
     "text": [
      "[Parallel(n_jobs=1)]: Using backend SequentialBackend with 1 concurrent workers.\n",
      "[Parallel(n_jobs=1)]: Done 120 out of 120 | elapsed:   31.6s finished\n"
     ]
    },
    {
     "name": "stdout",
     "output_type": "stream",
     "text": [
      "best score: 0.60625\n",
      "Fitting 10 folds for each of 12 candidates, totalling 120 fits\n"
     ]
    },
    {
     "name": "stderr",
     "output_type": "stream",
     "text": [
      "[Parallel(n_jobs=1)]: Using backend SequentialBackend with 1 concurrent workers.\n",
      "[Parallel(n_jobs=1)]: Done 120 out of 120 | elapsed:  1.2min finished\n"
     ]
    },
    {
     "name": "stdout",
     "output_type": "stream",
     "text": [
      "best score: 0.60625\n",
      "Fitting 10 folds for each of 12 candidates, totalling 120 fits\n"
     ]
    },
    {
     "name": "stderr",
     "output_type": "stream",
     "text": [
      "[Parallel(n_jobs=1)]: Using backend SequentialBackend with 1 concurrent workers.\n",
      "[Parallel(n_jobs=1)]: Done 120 out of 120 | elapsed:   37.1s finished\n"
     ]
    },
    {
     "name": "stdout",
     "output_type": "stream",
     "text": [
      "best score: 0.6125\n",
      "Fitting 10 folds for each of 12 candidates, totalling 120 fits\n"
     ]
    },
    {
     "name": "stderr",
     "output_type": "stream",
     "text": [
      "[Parallel(n_jobs=1)]: Using backend SequentialBackend with 1 concurrent workers.\n",
      "[Parallel(n_jobs=1)]: Done 120 out of 120 | elapsed:   36.8s finished\n"
     ]
    },
    {
     "name": "stdout",
     "output_type": "stream",
     "text": [
      "best score: 0.6375\n",
      "Split: 1\n",
      "Split: 2\n",
      "Split: 3\n",
      "Split: 4\n",
      "Split: 5\n",
      "Split: 6\n",
      "Split: 7\n",
      "Split: 8\n",
      "Split: 9\n",
      "Split: 10\n",
      "Training Testing Accuracy for n_games=8 team=11 : 58.89% (8.51%)\n",
      "(179, 1502)\n",
      "(179, 1)\n",
      "X_train shape: (161, 2497)\n",
      "X_test shape: (18, 2497)\n",
      "Fitting 10 folds for each of 12 candidates, totalling 120 fits\n"
     ]
    },
    {
     "name": "stderr",
     "output_type": "stream",
     "text": [
      "[Parallel(n_jobs=1)]: Using backend SequentialBackend with 1 concurrent workers.\n",
      "[Parallel(n_jobs=1)]: Done 120 out of 120 | elapsed:   35.9s finished\n"
     ]
    },
    {
     "name": "stdout",
     "output_type": "stream",
     "text": [
      "best score: 0.5527950310559007\n",
      "Fitting 10 folds for each of 12 candidates, totalling 120 fits\n"
     ]
    },
    {
     "name": "stderr",
     "output_type": "stream",
     "text": [
      "[Parallel(n_jobs=1)]: Using backend SequentialBackend with 1 concurrent workers.\n",
      "[Parallel(n_jobs=1)]: Done 120 out of 120 | elapsed:   47.8s finished\n"
     ]
    },
    {
     "name": "stdout",
     "output_type": "stream",
     "text": [
      "best score: 0.5527950310559007\n",
      "Fitting 10 folds for each of 12 candidates, totalling 120 fits\n"
     ]
    },
    {
     "name": "stderr",
     "output_type": "stream",
     "text": [
      "[Parallel(n_jobs=1)]: Using backend SequentialBackend with 1 concurrent workers.\n",
      "[Parallel(n_jobs=1)]: Done 120 out of 120 | elapsed:   26.8s finished\n"
     ]
    },
    {
     "name": "stdout",
     "output_type": "stream",
     "text": [
      "best score: 0.5652173913043478\n",
      "Fitting 10 folds for each of 12 candidates, totalling 120 fits\n"
     ]
    },
    {
     "name": "stderr",
     "output_type": "stream",
     "text": [
      "[Parallel(n_jobs=1)]: Using backend SequentialBackend with 1 concurrent workers.\n",
      "[Parallel(n_jobs=1)]: Done 120 out of 120 | elapsed:   42.8s finished\n"
     ]
    },
    {
     "name": "stdout",
     "output_type": "stream",
     "text": [
      "best score: 0.5652173913043478\n",
      "Fitting 10 folds for each of 12 candidates, totalling 120 fits\n"
     ]
    },
    {
     "name": "stderr",
     "output_type": "stream",
     "text": [
      "[Parallel(n_jobs=1)]: Using backend SequentialBackend with 1 concurrent workers.\n",
      "[Parallel(n_jobs=1)]: Done 120 out of 120 | elapsed:   25.0s finished\n"
     ]
    },
    {
     "name": "stdout",
     "output_type": "stream",
     "text": [
      "best score: 0.5652173913043478\n",
      "Split: 1\n",
      "Split: 2\n",
      "Split: 3\n",
      "Split: 4\n",
      "Split: 5\n",
      "Split: 6\n",
      "Split: 7\n",
      "Split: 8\n",
      "Split: 9\n",
      "Split: 10\n",
      "Training Testing Accuracy for n_games=8 team=12 : 53.59% (5.85%)\n",
      "(180, 1502)\n",
      "(180, 1)\n",
      "X_train shape: (162, 2524)\n",
      "X_test shape: (18, 2524)\n",
      "Fitting 10 folds for each of 12 candidates, totalling 120 fits\n"
     ]
    },
    {
     "name": "stderr",
     "output_type": "stream",
     "text": [
      "[Parallel(n_jobs=1)]: Using backend SequentialBackend with 1 concurrent workers.\n",
      "[Parallel(n_jobs=1)]: Done 120 out of 120 | elapsed:   36.0s finished\n"
     ]
    },
    {
     "name": "stdout",
     "output_type": "stream",
     "text": [
      "best score: 0.5987654320987654\n",
      "Fitting 10 folds for each of 12 candidates, totalling 120 fits\n"
     ]
    },
    {
     "name": "stderr",
     "output_type": "stream",
     "text": [
      "[Parallel(n_jobs=1)]: Using backend SequentialBackend with 1 concurrent workers.\n",
      "[Parallel(n_jobs=1)]: Done 120 out of 120 | elapsed:   30.7s finished\n"
     ]
    },
    {
     "name": "stdout",
     "output_type": "stream",
     "text": [
      "best score: 0.5987654320987654\n",
      "Fitting 10 folds for each of 12 candidates, totalling 120 fits\n"
     ]
    },
    {
     "name": "stderr",
     "output_type": "stream",
     "text": [
      "[Parallel(n_jobs=1)]: Using backend SequentialBackend with 1 concurrent workers.\n",
      "[Parallel(n_jobs=1)]: Done 120 out of 120 | elapsed:   39.6s finished\n"
     ]
    },
    {
     "name": "stdout",
     "output_type": "stream",
     "text": [
      "best score: 0.5987654320987654\n",
      "Fitting 10 folds for each of 12 candidates, totalling 120 fits\n"
     ]
    },
    {
     "name": "stderr",
     "output_type": "stream",
     "text": [
      "[Parallel(n_jobs=1)]: Using backend SequentialBackend with 1 concurrent workers.\n",
      "[Parallel(n_jobs=1)]: Done 120 out of 120 | elapsed:   33.0s finished\n"
     ]
    },
    {
     "name": "stdout",
     "output_type": "stream",
     "text": [
      "best score: 0.5987654320987654\n",
      "Fitting 10 folds for each of 12 candidates, totalling 120 fits\n"
     ]
    },
    {
     "name": "stderr",
     "output_type": "stream",
     "text": [
      "[Parallel(n_jobs=1)]: Using backend SequentialBackend with 1 concurrent workers.\n",
      "[Parallel(n_jobs=1)]: Done 120 out of 120 | elapsed:   59.1s finished\n"
     ]
    },
    {
     "name": "stdout",
     "output_type": "stream",
     "text": [
      "best score: 0.5987654320987654\n",
      "Split: 1\n",
      "Split: 2\n",
      "Split: 3\n",
      "Split: 4\n",
      "Split: 5\n",
      "Split: 6\n",
      "Split: 7\n",
      "Split: 8\n",
      "Split: 9\n",
      "Split: 10\n",
      "Training Testing Accuracy for n_games=8 team=13 : 57.78% (8.31%)\n",
      "(183, 1502)\n",
      "(183, 1)\n",
      "X_train shape: (164, 2499)\n",
      "X_test shape: (19, 2499)\n",
      "Fitting 10 folds for each of 12 candidates, totalling 120 fits\n"
     ]
    },
    {
     "name": "stderr",
     "output_type": "stream",
     "text": [
      "[Parallel(n_jobs=1)]: Using backend SequentialBackend with 1 concurrent workers.\n",
      "[Parallel(n_jobs=1)]: Done 120 out of 120 | elapsed:   36.6s finished\n"
     ]
    },
    {
     "name": "stdout",
     "output_type": "stream",
     "text": [
      "best score: 0.6280487804878049\n",
      "Fitting 10 folds for each of 12 candidates, totalling 120 fits\n"
     ]
    },
    {
     "name": "stderr",
     "output_type": "stream",
     "text": [
      "[Parallel(n_jobs=1)]: Using backend SequentialBackend with 1 concurrent workers.\n",
      "[Parallel(n_jobs=1)]: Done 120 out of 120 | elapsed:   48.1s finished\n"
     ]
    },
    {
     "name": "stdout",
     "output_type": "stream",
     "text": [
      "best score: 0.6280487804878049\n",
      "Fitting 10 folds for each of 12 candidates, totalling 120 fits\n"
     ]
    },
    {
     "name": "stderr",
     "output_type": "stream",
     "text": [
      "[Parallel(n_jobs=1)]: Using backend SequentialBackend with 1 concurrent workers.\n",
      "[Parallel(n_jobs=1)]: Done 120 out of 120 | elapsed:   44.6s finished\n"
     ]
    },
    {
     "name": "stdout",
     "output_type": "stream",
     "text": [
      "best score: 0.6585365853658537\n",
      "Fitting 10 folds for each of 12 candidates, totalling 120 fits\n"
     ]
    },
    {
     "name": "stderr",
     "output_type": "stream",
     "text": [
      "[Parallel(n_jobs=1)]: Using backend SequentialBackend with 1 concurrent workers.\n",
      "[Parallel(n_jobs=1)]: Done 120 out of 120 | elapsed:   47.3s finished\n"
     ]
    },
    {
     "name": "stdout",
     "output_type": "stream",
     "text": [
      "best score: 0.6585365853658537\n",
      "Fitting 10 folds for each of 12 candidates, totalling 120 fits\n"
     ]
    },
    {
     "name": "stderr",
     "output_type": "stream",
     "text": [
      "[Parallel(n_jobs=1)]: Using backend SequentialBackend with 1 concurrent workers.\n",
      "[Parallel(n_jobs=1)]: Done 120 out of 120 | elapsed:   32.5s finished\n"
     ]
    },
    {
     "name": "stdout",
     "output_type": "stream",
     "text": [
      "best score: 0.6585365853658537\n",
      "Split: 1\n",
      "Split: 2\n",
      "Split: 3\n",
      "Split: 4\n",
      "Split: 5\n",
      "Split: 6\n",
      "Split: 7\n",
      "Split: 8\n",
      "Split: 9\n",
      "Split: 10\n",
      "Training Testing Accuracy for n_games=8 team=14 : 61.23% (8.99%)\n",
      "(172, 1502)\n",
      "(172, 1)\n",
      "X_train shape: (154, 2496)\n",
      "X_test shape: (18, 2496)\n",
      "Fitting 10 folds for each of 12 candidates, totalling 120 fits\n"
     ]
    },
    {
     "name": "stderr",
     "output_type": "stream",
     "text": [
      "[Parallel(n_jobs=1)]: Using backend SequentialBackend with 1 concurrent workers.\n",
      "[Parallel(n_jobs=1)]: Done 120 out of 120 | elapsed:   35.3s finished\n"
     ]
    },
    {
     "name": "stdout",
     "output_type": "stream",
     "text": [
      "best score: 0.6428571428571429\n",
      "Fitting 10 folds for each of 12 candidates, totalling 120 fits\n"
     ]
    },
    {
     "name": "stderr",
     "output_type": "stream",
     "text": [
      "[Parallel(n_jobs=1)]: Using backend SequentialBackend with 1 concurrent workers.\n",
      "[Parallel(n_jobs=1)]: Done 120 out of 120 | elapsed:   29.8s finished\n"
     ]
    },
    {
     "name": "stdout",
     "output_type": "stream",
     "text": [
      "best score: 0.6428571428571429\n",
      "Fitting 10 folds for each of 12 candidates, totalling 120 fits\n"
     ]
    },
    {
     "name": "stderr",
     "output_type": "stream",
     "text": [
      "[Parallel(n_jobs=1)]: Using backend SequentialBackend with 1 concurrent workers.\n",
      "[Parallel(n_jobs=1)]: Done 120 out of 120 | elapsed:   45.4s finished\n"
     ]
    },
    {
     "name": "stdout",
     "output_type": "stream",
     "text": [
      "best score: 0.6428571428571429\n",
      "Fitting 10 folds for each of 12 candidates, totalling 120 fits\n"
     ]
    },
    {
     "name": "stderr",
     "output_type": "stream",
     "text": [
      "[Parallel(n_jobs=1)]: Using backend SequentialBackend with 1 concurrent workers.\n",
      "[Parallel(n_jobs=1)]: Done 120 out of 120 | elapsed:   28.5s finished\n"
     ]
    },
    {
     "name": "stdout",
     "output_type": "stream",
     "text": [
      "best score: 0.6428571428571429\n",
      "Fitting 10 folds for each of 12 candidates, totalling 120 fits\n"
     ]
    },
    {
     "name": "stderr",
     "output_type": "stream",
     "text": [
      "[Parallel(n_jobs=1)]: Using backend SequentialBackend with 1 concurrent workers.\n",
      "[Parallel(n_jobs=1)]: Done 120 out of 120 | elapsed:   28.8s finished\n"
     ]
    },
    {
     "name": "stdout",
     "output_type": "stream",
     "text": [
      "best score: 0.6428571428571429\n",
      "Split: 1\n",
      "Split: 2\n",
      "Split: 3\n",
      "Split: 4\n",
      "Split: 5\n",
      "Split: 6\n",
      "Split: 7\n",
      "Split: 8\n",
      "Split: 9\n",
      "Split: 10\n",
      "Training Testing Accuracy for n_games=8 team=15 : 61.60% (8.04%)\n",
      "(188, 1502)\n",
      "(188, 1)\n",
      "X_train shape: (169, 2504)\n",
      "X_test shape: (19, 2504)\n",
      "Fitting 10 folds for each of 12 candidates, totalling 120 fits\n"
     ]
    },
    {
     "name": "stderr",
     "output_type": "stream",
     "text": [
      "[Parallel(n_jobs=1)]: Using backend SequentialBackend with 1 concurrent workers.\n",
      "[Parallel(n_jobs=1)]: Done 120 out of 120 | elapsed:   35.5s finished\n"
     ]
    },
    {
     "name": "stdout",
     "output_type": "stream",
     "text": [
      "best score: 0.6568047337278107\n",
      "Fitting 10 folds for each of 12 candidates, totalling 120 fits\n"
     ]
    },
    {
     "name": "stderr",
     "output_type": "stream",
     "text": [
      "[Parallel(n_jobs=1)]: Using backend SequentialBackend with 1 concurrent workers.\n",
      "[Parallel(n_jobs=1)]: Done 120 out of 120 | elapsed:   30.5s finished\n"
     ]
    },
    {
     "name": "stdout",
     "output_type": "stream",
     "text": [
      "best score: 0.6627218934911243\n",
      "Fitting 10 folds for each of 12 candidates, totalling 120 fits\n"
     ]
    },
    {
     "name": "stderr",
     "output_type": "stream",
     "text": [
      "[Parallel(n_jobs=1)]: Using backend SequentialBackend with 1 concurrent workers.\n",
      "[Parallel(n_jobs=1)]: Done 120 out of 120 | elapsed:   35.8s finished\n"
     ]
    },
    {
     "name": "stdout",
     "output_type": "stream",
     "text": [
      "best score: 0.6923076923076923\n",
      "Fitting 10 folds for each of 12 candidates, totalling 120 fits\n"
     ]
    },
    {
     "name": "stderr",
     "output_type": "stream",
     "text": [
      "[Parallel(n_jobs=1)]: Using backend SequentialBackend with 1 concurrent workers.\n",
      "[Parallel(n_jobs=1)]: Done 120 out of 120 | elapsed:   29.7s finished\n"
     ]
    },
    {
     "name": "stdout",
     "output_type": "stream",
     "text": [
      "best score: 0.6923076923076923\n",
      "Fitting 10 folds for each of 12 candidates, totalling 120 fits\n"
     ]
    },
    {
     "name": "stderr",
     "output_type": "stream",
     "text": [
      "[Parallel(n_jobs=1)]: Using backend SequentialBackend with 1 concurrent workers.\n",
      "[Parallel(n_jobs=1)]: Done 120 out of 120 | elapsed:   40.9s finished\n"
     ]
    },
    {
     "name": "stdout",
     "output_type": "stream",
     "text": [
      "best score: 0.6923076923076923\n",
      "Split: 1\n",
      "Split: 2\n",
      "Split: 3\n",
      "Split: 4\n",
      "Split: 5\n",
      "Split: 6\n",
      "Split: 7\n",
      "Split: 8\n",
      "Split: 9\n",
      "Split: 10\n",
      "Training Testing Accuracy for n_games=8 team=16 : 58.98% (13.60%)\n",
      "(183, 1502)\n",
      "(183, 1)\n",
      "X_train shape: (164, 2510)\n",
      "X_test shape: (19, 2510)\n",
      "Fitting 10 folds for each of 12 candidates, totalling 120 fits\n"
     ]
    },
    {
     "name": "stderr",
     "output_type": "stream",
     "text": [
      "[Parallel(n_jobs=1)]: Using backend SequentialBackend with 1 concurrent workers.\n",
      "[Parallel(n_jobs=1)]: Done 120 out of 120 | elapsed:   36.3s finished\n"
     ]
    },
    {
     "name": "stdout",
     "output_type": "stream",
     "text": [
      "best score: 0.6341463414634146\n",
      "Fitting 10 folds for each of 12 candidates, totalling 120 fits\n"
     ]
    },
    {
     "name": "stderr",
     "output_type": "stream",
     "text": [
      "[Parallel(n_jobs=1)]: Using backend SequentialBackend with 1 concurrent workers.\n",
      "[Parallel(n_jobs=1)]: Done 120 out of 120 | elapsed:   30.6s finished\n"
     ]
    },
    {
     "name": "stdout",
     "output_type": "stream",
     "text": [
      "best score: 0.6524390243902439\n",
      "Fitting 10 folds for each of 12 candidates, totalling 120 fits\n"
     ]
    },
    {
     "name": "stderr",
     "output_type": "stream",
     "text": [
      "[Parallel(n_jobs=1)]: Using backend SequentialBackend with 1 concurrent workers.\n",
      "[Parallel(n_jobs=1)]: Done 120 out of 120 | elapsed:   27.0s finished\n"
     ]
    },
    {
     "name": "stdout",
     "output_type": "stream",
     "text": [
      "best score: 0.6524390243902439\n",
      "Fitting 10 folds for each of 12 candidates, totalling 120 fits\n"
     ]
    },
    {
     "name": "stderr",
     "output_type": "stream",
     "text": [
      "[Parallel(n_jobs=1)]: Using backend SequentialBackend with 1 concurrent workers.\n",
      "[Parallel(n_jobs=1)]: Done 120 out of 120 | elapsed:   42.6s finished\n"
     ]
    },
    {
     "name": "stdout",
     "output_type": "stream",
     "text": [
      "best score: 0.6524390243902439\n",
      "Fitting 10 folds for each of 12 candidates, totalling 120 fits\n"
     ]
    },
    {
     "name": "stderr",
     "output_type": "stream",
     "text": [
      "[Parallel(n_jobs=1)]: Using backend SequentialBackend with 1 concurrent workers.\n",
      "[Parallel(n_jobs=1)]: Done 120 out of 120 | elapsed:   36.1s finished\n"
     ]
    },
    {
     "name": "stdout",
     "output_type": "stream",
     "text": [
      "best score: 0.6524390243902439\n",
      "Split: 1\n",
      "Split: 2\n",
      "Split: 3\n",
      "Split: 4\n",
      "Split: 5\n",
      "Split: 6\n",
      "Split: 7\n",
      "Split: 8\n",
      "Split: 9\n",
      "Split: 10\n",
      "Training Testing Accuracy for n_games=8 team=17 : 52.02% (9.32%)\n",
      "(182, 1502)\n",
      "(182, 1)\n",
      "X_train shape: (163, 2523)\n",
      "X_test shape: (19, 2523)\n",
      "Fitting 10 folds for each of 12 candidates, totalling 120 fits\n"
     ]
    },
    {
     "name": "stderr",
     "output_type": "stream",
     "text": [
      "[Parallel(n_jobs=1)]: Using backend SequentialBackend with 1 concurrent workers.\n",
      "[Parallel(n_jobs=1)]: Done 120 out of 120 | elapsed:   36.6s finished\n"
     ]
    },
    {
     "name": "stdout",
     "output_type": "stream",
     "text": [
      "best score: 0.5337423312883436\n",
      "Fitting 10 folds for each of 12 candidates, totalling 120 fits\n"
     ]
    },
    {
     "name": "stderr",
     "output_type": "stream",
     "text": [
      "[Parallel(n_jobs=1)]: Using backend SequentialBackend with 1 concurrent workers.\n",
      "[Parallel(n_jobs=1)]: Done 120 out of 120 | elapsed:   46.9s finished\n"
     ]
    },
    {
     "name": "stdout",
     "output_type": "stream",
     "text": [
      "best score: 0.5828220858895705\n",
      "Fitting 10 folds for each of 12 candidates, totalling 120 fits\n"
     ]
    },
    {
     "name": "stderr",
     "output_type": "stream",
     "text": [
      "[Parallel(n_jobs=1)]: Using backend SequentialBackend with 1 concurrent workers.\n",
      "[Parallel(n_jobs=1)]: Done 120 out of 120 | elapsed:   42.4s finished\n"
     ]
    },
    {
     "name": "stdout",
     "output_type": "stream",
     "text": [
      "best score: 0.6134969325153374\n",
      "Fitting 10 folds for each of 12 candidates, totalling 120 fits\n"
     ]
    },
    {
     "name": "stderr",
     "output_type": "stream",
     "text": [
      "[Parallel(n_jobs=1)]: Using backend SequentialBackend with 1 concurrent workers.\n",
      "[Parallel(n_jobs=1)]: Done 120 out of 120 | elapsed:  1.1min finished\n"
     ]
    },
    {
     "name": "stdout",
     "output_type": "stream",
     "text": [
      "best score: 0.6134969325153374\n",
      "Fitting 10 folds for each of 12 candidates, totalling 120 fits\n"
     ]
    },
    {
     "name": "stderr",
     "output_type": "stream",
     "text": [
      "[Parallel(n_jobs=1)]: Using backend SequentialBackend with 1 concurrent workers.\n",
      "[Parallel(n_jobs=1)]: Done 120 out of 120 | elapsed:   24.8s finished\n"
     ]
    },
    {
     "name": "stdout",
     "output_type": "stream",
     "text": [
      "best score: 0.6134969325153374\n",
      "Split: 1\n",
      "Split: 2\n",
      "Split: 3\n",
      "Split: 4\n",
      "Split: 5\n",
      "Split: 6\n",
      "Split: 7\n",
      "Split: 8\n",
      "Split: 9\n",
      "Split: 10\n",
      "Training Testing Accuracy for n_games=8 team=18 : 48.42% (5.89%)\n",
      "Accuracy for Team Models for n_games= 8 : 59.26% (7.13%)\n",
      "(177, 1688)\n",
      "(177, 1)\n",
      "X_train shape: (159, 2817)\n",
      "X_test shape: (18, 2817)\n",
      "Fitting 10 folds for each of 12 candidates, totalling 120 fits\n"
     ]
    },
    {
     "name": "stderr",
     "output_type": "stream",
     "text": [
      "[Parallel(n_jobs=1)]: Using backend SequentialBackend with 1 concurrent workers.\n",
      "[Parallel(n_jobs=1)]: Done 120 out of 120 | elapsed:   40.7s finished\n"
     ]
    },
    {
     "name": "stdout",
     "output_type": "stream",
     "text": [
      "best score: 0.6352201257861635\n",
      "Fitting 10 folds for each of 12 candidates, totalling 120 fits\n"
     ]
    },
    {
     "name": "stderr",
     "output_type": "stream",
     "text": [
      "[Parallel(n_jobs=1)]: Using backend SequentialBackend with 1 concurrent workers.\n",
      "[Parallel(n_jobs=1)]: Done 120 out of 120 | elapsed:   43.7s finished\n"
     ]
    },
    {
     "name": "stdout",
     "output_type": "stream",
     "text": [
      "best score: 0.6477987421383647\n",
      "Fitting 10 folds for each of 12 candidates, totalling 120 fits\n"
     ]
    },
    {
     "name": "stderr",
     "output_type": "stream",
     "text": [
      "[Parallel(n_jobs=1)]: Using backend SequentialBackend with 1 concurrent workers.\n",
      "[Parallel(n_jobs=1)]: Done 120 out of 120 | elapsed:   45.0s finished\n"
     ]
    },
    {
     "name": "stdout",
     "output_type": "stream",
     "text": [
      "best score: 0.6477987421383647\n",
      "Fitting 10 folds for each of 12 candidates, totalling 120 fits\n"
     ]
    },
    {
     "name": "stderr",
     "output_type": "stream",
     "text": [
      "[Parallel(n_jobs=1)]: Using backend SequentialBackend with 1 concurrent workers.\n",
      "[Parallel(n_jobs=1)]: Done 120 out of 120 | elapsed:   40.5s finished\n"
     ]
    },
    {
     "name": "stdout",
     "output_type": "stream",
     "text": [
      "best score: 0.6477987421383647\n",
      "Fitting 10 folds for each of 12 candidates, totalling 120 fits\n"
     ]
    },
    {
     "name": "stderr",
     "output_type": "stream",
     "text": [
      "[Parallel(n_jobs=1)]: Using backend SequentialBackend with 1 concurrent workers.\n",
      "[Parallel(n_jobs=1)]: Done 120 out of 120 | elapsed:  1.3min finished\n"
     ]
    },
    {
     "name": "stdout",
     "output_type": "stream",
     "text": [
      "best score: 0.6855345911949685\n",
      "Split: 1\n",
      "Split: 2\n",
      "Split: 3\n",
      "Split: 4\n",
      "Split: 5\n",
      "Split: 6\n",
      "Split: 7\n",
      "Split: 8\n",
      "Split: 9\n",
      "Split: 10\n",
      "Training Testing Accuracy for n_games=9 team=1 : 61.54% (6.26%)\n",
      "(175, 1688)\n",
      "(175, 1)\n",
      "X_train shape: (157, 2790)\n",
      "X_test shape: (18, 2790)\n",
      "Fitting 10 folds for each of 12 candidates, totalling 120 fits\n"
     ]
    },
    {
     "name": "stderr",
     "output_type": "stream",
     "text": [
      "[Parallel(n_jobs=1)]: Using backend SequentialBackend with 1 concurrent workers.\n",
      "[Parallel(n_jobs=1)]: Done 120 out of 120 | elapsed:   39.7s finished\n"
     ]
    },
    {
     "name": "stdout",
     "output_type": "stream",
     "text": [
      "best score: 0.6815286624203821\n",
      "Fitting 10 folds for each of 12 candidates, totalling 120 fits\n"
     ]
    },
    {
     "name": "stderr",
     "output_type": "stream",
     "text": [
      "[Parallel(n_jobs=1)]: Using backend SequentialBackend with 1 concurrent workers.\n",
      "[Parallel(n_jobs=1)]: Done 120 out of 120 | elapsed:   56.7s finished\n"
     ]
    },
    {
     "name": "stdout",
     "output_type": "stream",
     "text": [
      "best score: 0.6815286624203821\n",
      "Fitting 10 folds for each of 12 candidates, totalling 120 fits\n"
     ]
    },
    {
     "name": "stderr",
     "output_type": "stream",
     "text": [
      "[Parallel(n_jobs=1)]: Using backend SequentialBackend with 1 concurrent workers.\n",
      "[Parallel(n_jobs=1)]: Done 120 out of 120 | elapsed:   59.7s finished\n"
     ]
    },
    {
     "name": "stdout",
     "output_type": "stream",
     "text": [
      "best score: 0.6815286624203821\n",
      "Fitting 10 folds for each of 12 candidates, totalling 120 fits\n"
     ]
    },
    {
     "name": "stderr",
     "output_type": "stream",
     "text": [
      "[Parallel(n_jobs=1)]: Using backend SequentialBackend with 1 concurrent workers.\n",
      "[Parallel(n_jobs=1)]: Done 120 out of 120 | elapsed:   40.7s finished\n"
     ]
    },
    {
     "name": "stdout",
     "output_type": "stream",
     "text": [
      "best score: 0.6815286624203821\n",
      "Fitting 10 folds for each of 12 candidates, totalling 120 fits\n"
     ]
    },
    {
     "name": "stderr",
     "output_type": "stream",
     "text": [
      "[Parallel(n_jobs=1)]: Using backend SequentialBackend with 1 concurrent workers.\n",
      "[Parallel(n_jobs=1)]: Done 120 out of 120 | elapsed:  2.4min finished\n"
     ]
    },
    {
     "name": "stdout",
     "output_type": "stream",
     "text": [
      "best score: 0.6815286624203821\n",
      "Split: 1\n",
      "Split: 2\n",
      "Split: 3\n",
      "Split: 4\n",
      "Split: 5\n",
      "Split: 6\n",
      "Split: 7\n",
      "Split: 8\n",
      "Split: 9\n",
      "Split: 10\n",
      "Training Testing Accuracy for n_games=9 team=2 : 66.34% (8.90%)\n",
      "(173, 1688)\n",
      "(173, 1)\n",
      "X_train shape: (155, 2784)\n",
      "X_test shape: (18, 2784)\n",
      "Fitting 10 folds for each of 12 candidates, totalling 120 fits\n"
     ]
    },
    {
     "name": "stderr",
     "output_type": "stream",
     "text": [
      "[Parallel(n_jobs=1)]: Using backend SequentialBackend with 1 concurrent workers.\n",
      "[Parallel(n_jobs=1)]: Done 120 out of 120 | elapsed:   39.9s finished\n"
     ]
    },
    {
     "name": "stdout",
     "output_type": "stream",
     "text": [
      "best score: 0.6903225806451613\n",
      "Fitting 10 folds for each of 12 candidates, totalling 120 fits\n"
     ]
    },
    {
     "name": "stderr",
     "output_type": "stream",
     "text": [
      "[Parallel(n_jobs=1)]: Using backend SequentialBackend with 1 concurrent workers.\n",
      "[Parallel(n_jobs=1)]: Done 120 out of 120 | elapsed:   31.8s finished\n"
     ]
    },
    {
     "name": "stdout",
     "output_type": "stream",
     "text": [
      "best score: 0.6903225806451613\n",
      "Fitting 10 folds for each of 12 candidates, totalling 120 fits\n"
     ]
    },
    {
     "name": "stderr",
     "output_type": "stream",
     "text": [
      "[Parallel(n_jobs=1)]: Using backend SequentialBackend with 1 concurrent workers.\n",
      "[Parallel(n_jobs=1)]: Done 120 out of 120 | elapsed:   31.3s finished\n"
     ]
    },
    {
     "name": "stdout",
     "output_type": "stream",
     "text": [
      "best score: 0.6903225806451613\n",
      "Fitting 10 folds for each of 12 candidates, totalling 120 fits\n"
     ]
    },
    {
     "name": "stderr",
     "output_type": "stream",
     "text": [
      "[Parallel(n_jobs=1)]: Using backend SequentialBackend with 1 concurrent workers.\n",
      "[Parallel(n_jobs=1)]: Done 120 out of 120 | elapsed:   28.6s finished\n"
     ]
    },
    {
     "name": "stdout",
     "output_type": "stream",
     "text": [
      "best score: 0.6903225806451613\n",
      "Fitting 10 folds for each of 12 candidates, totalling 120 fits\n"
     ]
    },
    {
     "name": "stderr",
     "output_type": "stream",
     "text": [
      "[Parallel(n_jobs=1)]: Using backend SequentialBackend with 1 concurrent workers.\n",
      "[Parallel(n_jobs=1)]: Done 120 out of 120 | elapsed:   50.1s finished\n"
     ]
    },
    {
     "name": "stdout",
     "output_type": "stream",
     "text": [
      "best score: 0.6903225806451613\n",
      "Split: 1\n",
      "Split: 2\n",
      "Split: 3\n",
      "Split: 4\n",
      "Split: 5\n",
      "Split: 6\n",
      "Split: 7\n",
      "Split: 8\n",
      "Split: 9\n",
      "Split: 10\n",
      "Training Testing Accuracy for n_games=9 team=3 : 69.97% (1.72%)\n",
      "(178, 1688)\n",
      "(178, 1)\n",
      "X_train shape: (160, 2784)\n",
      "X_test shape: (18, 2784)\n",
      "Fitting 10 folds for each of 12 candidates, totalling 120 fits\n"
     ]
    },
    {
     "name": "stderr",
     "output_type": "stream",
     "text": [
      "[Parallel(n_jobs=1)]: Using backend SequentialBackend with 1 concurrent workers.\n",
      "[Parallel(n_jobs=1)]: Done 120 out of 120 | elapsed:   39.6s finished\n"
     ]
    },
    {
     "name": "stdout",
     "output_type": "stream",
     "text": [
      "best score: 0.625\n",
      "Fitting 10 folds for each of 12 candidates, totalling 120 fits\n"
     ]
    },
    {
     "name": "stderr",
     "output_type": "stream",
     "text": [
      "[Parallel(n_jobs=1)]: Using backend SequentialBackend with 1 concurrent workers.\n",
      "[Parallel(n_jobs=1)]: Done 120 out of 120 | elapsed:  1.2min finished\n"
     ]
    },
    {
     "name": "stdout",
     "output_type": "stream",
     "text": [
      "best score: 0.625\n",
      "Fitting 10 folds for each of 12 candidates, totalling 120 fits\n"
     ]
    },
    {
     "name": "stderr",
     "output_type": "stream",
     "text": [
      "[Parallel(n_jobs=1)]: Using backend SequentialBackend with 1 concurrent workers.\n",
      "[Parallel(n_jobs=1)]: Done 120 out of 120 | elapsed:   32.8s finished\n"
     ]
    },
    {
     "name": "stdout",
     "output_type": "stream",
     "text": [
      "best score: 0.63125\n",
      "Fitting 10 folds for each of 12 candidates, totalling 120 fits\n"
     ]
    },
    {
     "name": "stderr",
     "output_type": "stream",
     "text": [
      "[Parallel(n_jobs=1)]: Using backend SequentialBackend with 1 concurrent workers.\n",
      "[Parallel(n_jobs=1)]: Done 120 out of 120 | elapsed:   45.5s finished\n"
     ]
    },
    {
     "name": "stdout",
     "output_type": "stream",
     "text": [
      "best score: 0.63125\n",
      "Fitting 10 folds for each of 12 candidates, totalling 120 fits\n"
     ]
    },
    {
     "name": "stderr",
     "output_type": "stream",
     "text": [
      "[Parallel(n_jobs=1)]: Using backend SequentialBackend with 1 concurrent workers.\n",
      "[Parallel(n_jobs=1)]: Done 120 out of 120 | elapsed:   32.1s finished\n"
     ]
    },
    {
     "name": "stdout",
     "output_type": "stream",
     "text": [
      "best score: 0.63125\n",
      "Split: 1\n",
      "Split: 2\n",
      "Split: 3\n",
      "Split: 4\n",
      "Split: 5\n",
      "Split: 6\n",
      "Split: 7\n",
      "Split: 8\n",
      "Split: 9\n",
      "Split: 10\n",
      "Training Testing Accuracy for n_games=9 team=4 : 54.08% (9.10%)\n",
      "(175, 1688)\n",
      "(175, 1)\n",
      "X_train shape: (157, 2763)\n",
      "X_test shape: (18, 2763)\n",
      "Fitting 10 folds for each of 12 candidates, totalling 120 fits\n"
     ]
    },
    {
     "name": "stderr",
     "output_type": "stream",
     "text": [
      "[Parallel(n_jobs=1)]: Using backend SequentialBackend with 1 concurrent workers.\n",
      "[Parallel(n_jobs=1)]: Done 120 out of 120 | elapsed:   39.8s finished\n"
     ]
    },
    {
     "name": "stdout",
     "output_type": "stream",
     "text": [
      "best score: 0.5859872611464968\n",
      "Fitting 10 folds for each of 12 candidates, totalling 120 fits\n"
     ]
    },
    {
     "name": "stderr",
     "output_type": "stream",
     "text": [
      "[Parallel(n_jobs=1)]: Using backend SequentialBackend with 1 concurrent workers.\n",
      "[Parallel(n_jobs=1)]: Done 120 out of 120 | elapsed:  1.5min finished\n"
     ]
    },
    {
     "name": "stdout",
     "output_type": "stream",
     "text": [
      "best score: 0.5859872611464968\n",
      "Fitting 10 folds for each of 12 candidates, totalling 120 fits\n"
     ]
    },
    {
     "name": "stderr",
     "output_type": "stream",
     "text": [
      "[Parallel(n_jobs=1)]: Using backend SequentialBackend with 1 concurrent workers.\n",
      "[Parallel(n_jobs=1)]: Done 120 out of 120 | elapsed:   32.4s finished\n"
     ]
    },
    {
     "name": "stdout",
     "output_type": "stream",
     "text": [
      "best score: 0.5859872611464968\n",
      "Fitting 10 folds for each of 12 candidates, totalling 120 fits\n"
     ]
    },
    {
     "name": "stderr",
     "output_type": "stream",
     "text": [
      "[Parallel(n_jobs=1)]: Using backend SequentialBackend with 1 concurrent workers.\n",
      "[Parallel(n_jobs=1)]: Done 120 out of 120 | elapsed:   35.8s finished\n"
     ]
    },
    {
     "name": "stdout",
     "output_type": "stream",
     "text": [
      "best score: 0.5859872611464968\n",
      "Fitting 10 folds for each of 12 candidates, totalling 120 fits\n"
     ]
    },
    {
     "name": "stderr",
     "output_type": "stream",
     "text": [
      "[Parallel(n_jobs=1)]: Using backend SequentialBackend with 1 concurrent workers.\n",
      "[Parallel(n_jobs=1)]: Done 120 out of 120 | elapsed:   41.0s finished\n"
     ]
    },
    {
     "name": "stdout",
     "output_type": "stream",
     "text": [
      "best score: 0.6050955414012739\n",
      "Split: 1\n",
      "Split: 2\n",
      "Split: 3\n",
      "Split: 4\n",
      "Split: 5\n",
      "Split: 6\n",
      "Split: 7\n",
      "Split: 8\n",
      "Split: 9\n",
      "Split: 10\n",
      "Training Testing Accuracy for n_games=9 team=5 : 57.78% (9.17%)\n",
      "(178, 1688)\n",
      "(178, 1)\n",
      "X_train shape: (160, 2804)\n",
      "X_test shape: (18, 2804)\n",
      "Fitting 10 folds for each of 12 candidates, totalling 120 fits\n"
     ]
    },
    {
     "name": "stderr",
     "output_type": "stream",
     "text": [
      "[Parallel(n_jobs=1)]: Using backend SequentialBackend with 1 concurrent workers.\n",
      "[Parallel(n_jobs=1)]: Done 120 out of 120 | elapsed:   39.7s finished\n"
     ]
    },
    {
     "name": "stdout",
     "output_type": "stream",
     "text": [
      "best score: 0.54375\n",
      "Fitting 10 folds for each of 12 candidates, totalling 120 fits\n"
     ]
    },
    {
     "name": "stderr",
     "output_type": "stream",
     "text": [
      "[Parallel(n_jobs=1)]: Using backend SequentialBackend with 1 concurrent workers.\n",
      "[Parallel(n_jobs=1)]: Done 120 out of 120 | elapsed:   36.3s finished\n"
     ]
    },
    {
     "name": "stdout",
     "output_type": "stream",
     "text": [
      "best score: 0.54375\n",
      "Fitting 10 folds for each of 12 candidates, totalling 120 fits\n"
     ]
    },
    {
     "name": "stderr",
     "output_type": "stream",
     "text": [
      "[Parallel(n_jobs=1)]: Using backend SequentialBackend with 1 concurrent workers.\n",
      "[Parallel(n_jobs=1)]: Done 120 out of 120 | elapsed:   31.2s finished\n"
     ]
    },
    {
     "name": "stdout",
     "output_type": "stream",
     "text": [
      "best score: 0.5625\n",
      "Fitting 10 folds for each of 12 candidates, totalling 120 fits\n"
     ]
    },
    {
     "name": "stderr",
     "output_type": "stream",
     "text": [
      "[Parallel(n_jobs=1)]: Using backend SequentialBackend with 1 concurrent workers.\n",
      "[Parallel(n_jobs=1)]: Done 120 out of 120 | elapsed:   42.2s finished\n"
     ]
    },
    {
     "name": "stdout",
     "output_type": "stream",
     "text": [
      "best score: 0.5625\n",
      "Fitting 10 folds for each of 12 candidates, totalling 120 fits\n"
     ]
    },
    {
     "name": "stderr",
     "output_type": "stream",
     "text": [
      "[Parallel(n_jobs=1)]: Using backend SequentialBackend with 1 concurrent workers.\n",
      "[Parallel(n_jobs=1)]: Done 120 out of 120 | elapsed:   30.7s finished\n"
     ]
    },
    {
     "name": "stdout",
     "output_type": "stream",
     "text": [
      "best score: 0.5625\n",
      "Split: 1\n",
      "Split: 2\n",
      "Split: 3\n",
      "Split: 4\n",
      "Split: 5\n",
      "Split: 6\n",
      "Split: 7\n",
      "Split: 8\n",
      "Split: 9\n",
      "Split: 10\n",
      "Training Testing Accuracy for n_games=9 team=6 : 52.78% (4.67%)\n",
      "(187, 1688)\n",
      "(187, 1)\n",
      "X_train shape: (168, 2795)\n",
      "X_test shape: (19, 2795)\n",
      "Fitting 10 folds for each of 12 candidates, totalling 120 fits\n"
     ]
    },
    {
     "name": "stderr",
     "output_type": "stream",
     "text": [
      "[Parallel(n_jobs=1)]: Using backend SequentialBackend with 1 concurrent workers.\n",
      "[Parallel(n_jobs=1)]: Done 120 out of 120 | elapsed:   40.3s finished\n"
     ]
    },
    {
     "name": "stdout",
     "output_type": "stream",
     "text": [
      "best score: 0.6964285714285714\n",
      "Fitting 10 folds for each of 12 candidates, totalling 120 fits\n"
     ]
    },
    {
     "name": "stderr",
     "output_type": "stream",
     "text": [
      "[Parallel(n_jobs=1)]: Using backend SequentialBackend with 1 concurrent workers.\n",
      "[Parallel(n_jobs=1)]: Done 120 out of 120 | elapsed:   34.2s finished\n"
     ]
    },
    {
     "name": "stdout",
     "output_type": "stream",
     "text": [
      "best score: 0.6964285714285714\n",
      "Fitting 10 folds for each of 12 candidates, totalling 120 fits\n"
     ]
    },
    {
     "name": "stderr",
     "output_type": "stream",
     "text": [
      "[Parallel(n_jobs=1)]: Using backend SequentialBackend with 1 concurrent workers.\n",
      "[Parallel(n_jobs=1)]: Done 120 out of 120 | elapsed:   41.4s finished\n"
     ]
    },
    {
     "name": "stdout",
     "output_type": "stream",
     "text": [
      "best score: 0.6964285714285714\n",
      "Fitting 10 folds for each of 12 candidates, totalling 120 fits\n"
     ]
    },
    {
     "name": "stderr",
     "output_type": "stream",
     "text": [
      "[Parallel(n_jobs=1)]: Using backend SequentialBackend with 1 concurrent workers.\n",
      "[Parallel(n_jobs=1)]: Done 120 out of 120 | elapsed:   43.2s finished\n"
     ]
    },
    {
     "name": "stdout",
     "output_type": "stream",
     "text": [
      "best score: 0.6964285714285714\n",
      "Fitting 10 folds for each of 12 candidates, totalling 120 fits\n"
     ]
    },
    {
     "name": "stderr",
     "output_type": "stream",
     "text": [
      "[Parallel(n_jobs=1)]: Using backend SequentialBackend with 1 concurrent workers.\n",
      "[Parallel(n_jobs=1)]: Done 120 out of 120 | elapsed:   47.0s finished\n"
     ]
    },
    {
     "name": "stdout",
     "output_type": "stream",
     "text": [
      "best score: 0.6964285714285714\n",
      "Split: 1\n",
      "Split: 2\n",
      "Split: 3\n",
      "Split: 4\n",
      "Split: 5\n",
      "Split: 6\n",
      "Split: 7\n",
      "Split: 8\n",
      "Split: 9\n",
      "Split: 10\n",
      "Training Testing Accuracy for n_games=9 team=7 : 68.42% (5.08%)\n",
      "(171, 1688)\n",
      "(171, 1)\n",
      "X_train shape: (153, 2801)\n",
      "X_test shape: (18, 2801)\n",
      "Fitting 10 folds for each of 12 candidates, totalling 120 fits\n"
     ]
    },
    {
     "name": "stderr",
     "output_type": "stream",
     "text": [
      "[Parallel(n_jobs=1)]: Using backend SequentialBackend with 1 concurrent workers.\n",
      "[Parallel(n_jobs=1)]: Done 120 out of 120 | elapsed:   39.1s finished\n"
     ]
    },
    {
     "name": "stdout",
     "output_type": "stream",
     "text": [
      "best score: 0.7581699346405228\n",
      "Fitting 10 folds for each of 12 candidates, totalling 120 fits\n"
     ]
    },
    {
     "name": "stderr",
     "output_type": "stream",
     "text": [
      "[Parallel(n_jobs=1)]: Using backend SequentialBackend with 1 concurrent workers.\n",
      "[Parallel(n_jobs=1)]: Done 120 out of 120 | elapsed:   53.2s finished\n"
     ]
    },
    {
     "name": "stdout",
     "output_type": "stream",
     "text": [
      "best score: 0.7581699346405228\n",
      "Fitting 10 folds for each of 12 candidates, totalling 120 fits\n"
     ]
    },
    {
     "name": "stderr",
     "output_type": "stream",
     "text": [
      "[Parallel(n_jobs=1)]: Using backend SequentialBackend with 1 concurrent workers.\n",
      "[Parallel(n_jobs=1)]: Done 120 out of 120 | elapsed:   36.9s finished\n"
     ]
    },
    {
     "name": "stdout",
     "output_type": "stream",
     "text": [
      "best score: 0.7581699346405228\n",
      "Fitting 10 folds for each of 12 candidates, totalling 120 fits\n"
     ]
    },
    {
     "name": "stderr",
     "output_type": "stream",
     "text": [
      "[Parallel(n_jobs=1)]: Using backend SequentialBackend with 1 concurrent workers.\n",
      "[Parallel(n_jobs=1)]: Done 120 out of 120 | elapsed:   51.5s finished\n"
     ]
    },
    {
     "name": "stdout",
     "output_type": "stream",
     "text": [
      "best score: 0.7581699346405228\n",
      "Fitting 10 folds for each of 12 candidates, totalling 120 fits\n"
     ]
    },
    {
     "name": "stderr",
     "output_type": "stream",
     "text": [
      "[Parallel(n_jobs=1)]: Using backend SequentialBackend with 1 concurrent workers.\n",
      "[Parallel(n_jobs=1)]: Done 120 out of 120 | elapsed:   32.0s finished\n"
     ]
    },
    {
     "name": "stdout",
     "output_type": "stream",
     "text": [
      "best score: 0.7581699346405228\n",
      "Split: 1\n",
      "Split: 2\n",
      "Split: 3\n",
      "Split: 4\n",
      "Split: 5\n",
      "Split: 6\n",
      "Split: 7\n",
      "Split: 8\n",
      "Split: 9\n",
      "Split: 10\n",
      "Training Testing Accuracy for n_games=9 team=8 : 73.66% (3.09%)\n",
      "(184, 1688)\n",
      "(184, 1)\n",
      "X_train shape: (165, 2812)\n",
      "X_test shape: (19, 2812)\n",
      "Fitting 10 folds for each of 12 candidates, totalling 120 fits\n"
     ]
    },
    {
     "name": "stderr",
     "output_type": "stream",
     "text": [
      "[Parallel(n_jobs=1)]: Using backend SequentialBackend with 1 concurrent workers.\n",
      "[Parallel(n_jobs=1)]: Done 120 out of 120 | elapsed:   40.8s finished\n"
     ]
    },
    {
     "name": "stdout",
     "output_type": "stream",
     "text": [
      "best score: 0.6060606060606061\n",
      "Fitting 10 folds for each of 12 candidates, totalling 120 fits\n"
     ]
    },
    {
     "name": "stderr",
     "output_type": "stream",
     "text": [
      "[Parallel(n_jobs=1)]: Using backend SequentialBackend with 1 concurrent workers.\n",
      "[Parallel(n_jobs=1)]: Done 120 out of 120 | elapsed:   45.5s finished\n"
     ]
    },
    {
     "name": "stdout",
     "output_type": "stream",
     "text": [
      "best score: 0.6060606060606061\n",
      "Fitting 10 folds for each of 12 candidates, totalling 120 fits\n"
     ]
    },
    {
     "name": "stderr",
     "output_type": "stream",
     "text": [
      "[Parallel(n_jobs=1)]: Using backend SequentialBackend with 1 concurrent workers.\n",
      "[Parallel(n_jobs=1)]: Done 120 out of 120 | elapsed:  1.1min finished\n"
     ]
    },
    {
     "name": "stdout",
     "output_type": "stream",
     "text": [
      "best score: 0.6060606060606061\n",
      "Fitting 10 folds for each of 12 candidates, totalling 120 fits\n"
     ]
    },
    {
     "name": "stderr",
     "output_type": "stream",
     "text": [
      "[Parallel(n_jobs=1)]: Using backend SequentialBackend with 1 concurrent workers.\n",
      "[Parallel(n_jobs=1)]: Done 120 out of 120 | elapsed:   52.0s finished\n"
     ]
    },
    {
     "name": "stdout",
     "output_type": "stream",
     "text": [
      "best score: 0.6060606060606061\n",
      "Fitting 10 folds for each of 12 candidates, totalling 120 fits\n"
     ]
    },
    {
     "name": "stderr",
     "output_type": "stream",
     "text": [
      "[Parallel(n_jobs=1)]: Using backend SequentialBackend with 1 concurrent workers.\n",
      "[Parallel(n_jobs=1)]: Done 120 out of 120 | elapsed:   33.5s finished\n"
     ]
    },
    {
     "name": "stdout",
     "output_type": "stream",
     "text": [
      "best score: 0.6060606060606061\n",
      "Split: 1\n",
      "Split: 2\n",
      "Split: 3\n",
      "Split: 4\n",
      "Split: 5\n",
      "Split: 6\n",
      "Split: 7\n",
      "Split: 8\n",
      "Split: 9\n",
      "Split: 10\n",
      "Training Testing Accuracy for n_games=9 team=9 : 58.60% (10.72%)\n",
      "(185, 1688)\n",
      "(185, 1)\n",
      "X_train shape: (166, 2801)\n",
      "X_test shape: (19, 2801)\n",
      "Fitting 10 folds for each of 12 candidates, totalling 120 fits\n"
     ]
    },
    {
     "name": "stderr",
     "output_type": "stream",
     "text": [
      "[Parallel(n_jobs=1)]: Using backend SequentialBackend with 1 concurrent workers.\n",
      "[Parallel(n_jobs=1)]: Done 120 out of 120 | elapsed:   41.0s finished\n"
     ]
    },
    {
     "name": "stdout",
     "output_type": "stream",
     "text": [
      "best score: 0.6385542168674698\n",
      "Fitting 10 folds for each of 12 candidates, totalling 120 fits\n"
     ]
    },
    {
     "name": "stderr",
     "output_type": "stream",
     "text": [
      "[Parallel(n_jobs=1)]: Using backend SequentialBackend with 1 concurrent workers.\n",
      "[Parallel(n_jobs=1)]: Done 120 out of 120 | elapsed:   37.6s finished\n"
     ]
    },
    {
     "name": "stdout",
     "output_type": "stream",
     "text": [
      "best score: 0.6686746987951807\n",
      "Fitting 10 folds for each of 12 candidates, totalling 120 fits\n"
     ]
    },
    {
     "name": "stderr",
     "output_type": "stream",
     "text": [
      "[Parallel(n_jobs=1)]: Using backend SequentialBackend with 1 concurrent workers.\n",
      "[Parallel(n_jobs=1)]: Done 120 out of 120 | elapsed:   34.3s finished\n"
     ]
    },
    {
     "name": "stdout",
     "output_type": "stream",
     "text": [
      "best score: 0.6686746987951807\n",
      "Fitting 10 folds for each of 12 candidates, totalling 120 fits\n"
     ]
    },
    {
     "name": "stderr",
     "output_type": "stream",
     "text": [
      "[Parallel(n_jobs=1)]: Using backend SequentialBackend with 1 concurrent workers.\n",
      "[Parallel(n_jobs=1)]: Done 120 out of 120 | elapsed:  1.0min finished\n"
     ]
    },
    {
     "name": "stdout",
     "output_type": "stream",
     "text": [
      "best score: 0.6686746987951807\n",
      "Fitting 10 folds for each of 12 candidates, totalling 120 fits\n"
     ]
    },
    {
     "name": "stderr",
     "output_type": "stream",
     "text": [
      "[Parallel(n_jobs=1)]: Using backend SequentialBackend with 1 concurrent workers.\n",
      "[Parallel(n_jobs=1)]: Done 120 out of 120 | elapsed:   36.3s finished\n"
     ]
    },
    {
     "name": "stdout",
     "output_type": "stream",
     "text": [
      "best score: 0.6686746987951807\n",
      "Split: 1\n",
      "Split: 2\n",
      "Split: 3\n",
      "Split: 4\n",
      "Split: 5\n",
      "Split: 6\n",
      "Split: 7\n",
      "Split: 8\n",
      "Split: 9\n",
      "Split: 10\n",
      "Training Testing Accuracy for n_games=9 team=10 : 61.02% (3.71%)\n",
      "(177, 1688)\n",
      "(177, 1)\n",
      "X_train shape: (159, 2815)\n",
      "X_test shape: (18, 2815)\n",
      "Fitting 10 folds for each of 12 candidates, totalling 120 fits\n"
     ]
    },
    {
     "name": "stderr",
     "output_type": "stream",
     "text": [
      "[Parallel(n_jobs=1)]: Using backend SequentialBackend with 1 concurrent workers.\n",
      "[Parallel(n_jobs=1)]: Done 120 out of 120 | elapsed:   40.6s finished\n"
     ]
    },
    {
     "name": "stdout",
     "output_type": "stream",
     "text": [
      "best score: 0.5786163522012578\n",
      "Fitting 10 folds for each of 12 candidates, totalling 120 fits\n"
     ]
    },
    {
     "name": "stderr",
     "output_type": "stream",
     "text": [
      "[Parallel(n_jobs=1)]: Using backend SequentialBackend with 1 concurrent workers.\n",
      "[Parallel(n_jobs=1)]: Done 120 out of 120 | elapsed:  1.3min finished\n"
     ]
    },
    {
     "name": "stdout",
     "output_type": "stream",
     "text": [
      "best score: 0.5849056603773585\n",
      "Fitting 10 folds for each of 12 candidates, totalling 120 fits\n"
     ]
    },
    {
     "name": "stderr",
     "output_type": "stream",
     "text": [
      "[Parallel(n_jobs=1)]: Using backend SequentialBackend with 1 concurrent workers.\n",
      "[Parallel(n_jobs=1)]: Done 120 out of 120 | elapsed:   45.8s finished\n"
     ]
    },
    {
     "name": "stdout",
     "output_type": "stream",
     "text": [
      "best score: 0.5849056603773585\n",
      "Fitting 10 folds for each of 12 candidates, totalling 120 fits\n"
     ]
    },
    {
     "name": "stderr",
     "output_type": "stream",
     "text": [
      "[Parallel(n_jobs=1)]: Using backend SequentialBackend with 1 concurrent workers.\n",
      "[Parallel(n_jobs=1)]: Done 120 out of 120 | elapsed:   34.7s finished\n"
     ]
    },
    {
     "name": "stdout",
     "output_type": "stream",
     "text": [
      "best score: 0.5849056603773585\n",
      "Fitting 10 folds for each of 12 candidates, totalling 120 fits\n"
     ]
    },
    {
     "name": "stderr",
     "output_type": "stream",
     "text": [
      "[Parallel(n_jobs=1)]: Using backend SequentialBackend with 1 concurrent workers.\n",
      "[Parallel(n_jobs=1)]: Done 120 out of 120 | elapsed:  5.4min finished\n"
     ]
    },
    {
     "name": "stdout",
     "output_type": "stream",
     "text": [
      "best score: 0.5849056603773585\n",
      "Split: 1\n",
      "Split: 2\n",
      "Split: 3\n",
      "Split: 4\n",
      "Split: 5\n",
      "Split: 6\n",
      "Split: 7\n",
      "Split: 8\n",
      "Split: 9\n",
      "Split: 10\n",
      "Training Testing Accuracy for n_games=9 team=11 : 51.80% (13.09%)\n",
      "(178, 1688)\n",
      "(178, 1)\n",
      "X_train shape: (160, 2799)\n",
      "X_test shape: (18, 2799)\n",
      "Fitting 10 folds for each of 12 candidates, totalling 120 fits\n"
     ]
    },
    {
     "name": "stderr",
     "output_type": "stream",
     "text": [
      "[Parallel(n_jobs=1)]: Using backend SequentialBackend with 1 concurrent workers.\n",
      "[Parallel(n_jobs=1)]: Done 120 out of 120 | elapsed:   39.6s finished\n"
     ]
    },
    {
     "name": "stdout",
     "output_type": "stream",
     "text": [
      "best score: 0.55\n",
      "Fitting 10 folds for each of 12 candidates, totalling 120 fits\n"
     ]
    },
    {
     "name": "stderr",
     "output_type": "stream",
     "text": [
      "[Parallel(n_jobs=1)]: Using backend SequentialBackend with 1 concurrent workers.\n",
      "[Parallel(n_jobs=1)]: Done 120 out of 120 | elapsed:   44.9s finished\n"
     ]
    },
    {
     "name": "stdout",
     "output_type": "stream",
     "text": [
      "best score: 0.55\n",
      "Fitting 10 folds for each of 12 candidates, totalling 120 fits\n"
     ]
    },
    {
     "name": "stderr",
     "output_type": "stream",
     "text": [
      "[Parallel(n_jobs=1)]: Using backend SequentialBackend with 1 concurrent workers.\n",
      "[Parallel(n_jobs=1)]: Done 120 out of 120 | elapsed:  1.4min finished\n"
     ]
    },
    {
     "name": "stdout",
     "output_type": "stream",
     "text": [
      "best score: 0.55\n",
      "Fitting 10 folds for each of 12 candidates, totalling 120 fits\n"
     ]
    },
    {
     "name": "stderr",
     "output_type": "stream",
     "text": [
      "[Parallel(n_jobs=1)]: Using backend SequentialBackend with 1 concurrent workers.\n",
      "[Parallel(n_jobs=1)]: Done 120 out of 120 | elapsed:   55.1s finished\n"
     ]
    },
    {
     "name": "stdout",
     "output_type": "stream",
     "text": [
      "best score: 0.55\n",
      "Fitting 10 folds for each of 12 candidates, totalling 120 fits\n"
     ]
    },
    {
     "name": "stderr",
     "output_type": "stream",
     "text": [
      "[Parallel(n_jobs=1)]: Using backend SequentialBackend with 1 concurrent workers.\n",
      "[Parallel(n_jobs=1)]: Done 120 out of 120 | elapsed:   34.7s finished\n"
     ]
    },
    {
     "name": "stdout",
     "output_type": "stream",
     "text": [
      "best score: 0.55\n",
      "Split: 1\n",
      "Split: 2\n",
      "Split: 3\n",
      "Split: 4\n",
      "Split: 5\n",
      "Split: 6\n",
      "Split: 7\n",
      "Split: 8\n",
      "Split: 9\n",
      "Split: 10\n",
      "Training Testing Accuracy for n_games=9 team=12 : 54.61% (8.67%)\n",
      "(179, 1688)\n",
      "(179, 1)\n",
      "X_train shape: (161, 2826)\n",
      "X_test shape: (18, 2826)\n",
      "Fitting 10 folds for each of 12 candidates, totalling 120 fits\n"
     ]
    },
    {
     "name": "stderr",
     "output_type": "stream",
     "text": [
      "[Parallel(n_jobs=1)]: Using backend SequentialBackend with 1 concurrent workers.\n",
      "[Parallel(n_jobs=1)]: Done 120 out of 120 | elapsed:   40.0s finished\n"
     ]
    },
    {
     "name": "stdout",
     "output_type": "stream",
     "text": [
      "best score: 0.577639751552795\n",
      "Fitting 10 folds for each of 12 candidates, totalling 120 fits\n"
     ]
    },
    {
     "name": "stderr",
     "output_type": "stream",
     "text": [
      "[Parallel(n_jobs=1)]: Using backend SequentialBackend with 1 concurrent workers.\n",
      "[Parallel(n_jobs=1)]: Done 120 out of 120 | elapsed:   37.7s finished\n"
     ]
    },
    {
     "name": "stdout",
     "output_type": "stream",
     "text": [
      "best score: 0.6211180124223602\n",
      "Fitting 10 folds for each of 12 candidates, totalling 120 fits\n"
     ]
    },
    {
     "name": "stderr",
     "output_type": "stream",
     "text": [
      "[Parallel(n_jobs=1)]: Using backend SequentialBackend with 1 concurrent workers.\n",
      "[Parallel(n_jobs=1)]: Done 120 out of 120 | elapsed:   38.3s finished\n"
     ]
    },
    {
     "name": "stdout",
     "output_type": "stream",
     "text": [
      "best score: 0.6211180124223602\n",
      "Fitting 10 folds for each of 12 candidates, totalling 120 fits\n"
     ]
    },
    {
     "name": "stderr",
     "output_type": "stream",
     "text": [
      "[Parallel(n_jobs=1)]: Using backend SequentialBackend with 1 concurrent workers.\n",
      "[Parallel(n_jobs=1)]: Done 120 out of 120 | elapsed:   26.4s finished\n"
     ]
    },
    {
     "name": "stdout",
     "output_type": "stream",
     "text": [
      "best score: 0.6211180124223602\n",
      "Fitting 10 folds for each of 12 candidates, totalling 120 fits\n"
     ]
    },
    {
     "name": "stderr",
     "output_type": "stream",
     "text": [
      "[Parallel(n_jobs=1)]: Using backend SequentialBackend with 1 concurrent workers.\n",
      "[Parallel(n_jobs=1)]: Done 120 out of 120 | elapsed:   56.7s finished\n"
     ]
    },
    {
     "name": "stdout",
     "output_type": "stream",
     "text": [
      "best score: 0.6211180124223602\n",
      "Split: 1\n",
      "Split: 2\n",
      "Split: 3\n",
      "Split: 4\n",
      "Split: 5\n",
      "Split: 6\n",
      "Split: 7\n",
      "Split: 8\n",
      "Split: 9\n",
      "Split: 10\n",
      "Training Testing Accuracy for n_games=9 team=13 : 60.29% (8.23%)\n",
      "(182, 1688)\n",
      "(182, 1)\n",
      "X_train shape: (163, 2801)\n",
      "X_test shape: (19, 2801)\n",
      "Fitting 10 folds for each of 12 candidates, totalling 120 fits\n"
     ]
    },
    {
     "name": "stderr",
     "output_type": "stream",
     "text": [
      "[Parallel(n_jobs=1)]: Using backend SequentialBackend with 1 concurrent workers.\n",
      "[Parallel(n_jobs=1)]: Done 120 out of 120 | elapsed:   40.7s finished\n"
     ]
    },
    {
     "name": "stdout",
     "output_type": "stream",
     "text": [
      "best score: 0.6380368098159509\n",
      "Fitting 10 folds for each of 12 candidates, totalling 120 fits\n"
     ]
    },
    {
     "name": "stderr",
     "output_type": "stream",
     "text": [
      "[Parallel(n_jobs=1)]: Using backend SequentialBackend with 1 concurrent workers.\n",
      "[Parallel(n_jobs=1)]: Done 120 out of 120 | elapsed:   30.1s finished\n"
     ]
    },
    {
     "name": "stdout",
     "output_type": "stream",
     "text": [
      "best score: 0.6380368098159509\n",
      "Fitting 10 folds for each of 12 candidates, totalling 120 fits\n"
     ]
    },
    {
     "name": "stderr",
     "output_type": "stream",
     "text": [
      "[Parallel(n_jobs=1)]: Using backend SequentialBackend with 1 concurrent workers.\n",
      "[Parallel(n_jobs=1)]: Done 120 out of 120 | elapsed:   51.6s finished\n"
     ]
    },
    {
     "name": "stdout",
     "output_type": "stream",
     "text": [
      "best score: 0.6380368098159509\n",
      "Fitting 10 folds for each of 12 candidates, totalling 120 fits\n"
     ]
    },
    {
     "name": "stderr",
     "output_type": "stream",
     "text": [
      "[Parallel(n_jobs=1)]: Using backend SequentialBackend with 1 concurrent workers.\n",
      "[Parallel(n_jobs=1)]: Done 120 out of 120 | elapsed:  1.1min finished\n"
     ]
    },
    {
     "name": "stdout",
     "output_type": "stream",
     "text": [
      "best score: 0.6380368098159509\n",
      "Fitting 10 folds for each of 12 candidates, totalling 120 fits\n"
     ]
    },
    {
     "name": "stderr",
     "output_type": "stream",
     "text": [
      "[Parallel(n_jobs=1)]: Using backend SequentialBackend with 1 concurrent workers.\n",
      "[Parallel(n_jobs=1)]: Done 120 out of 120 | elapsed:   32.5s finished\n"
     ]
    },
    {
     "name": "stdout",
     "output_type": "stream",
     "text": [
      "best score: 0.6380368098159509\n",
      "Split: 1\n",
      "Split: 2\n",
      "Split: 3\n",
      "Split: 4\n",
      "Split: 5\n",
      "Split: 6\n",
      "Split: 7\n",
      "Split: 8\n",
      "Split: 9\n",
      "Split: 10\n",
      "Training Testing Accuracy for n_games=9 team=14 : 63.71% (2.87%)\n",
      "(171, 1688)\n",
      "(171, 1)\n",
      "X_train shape: (153, 2797)\n",
      "X_test shape: (18, 2797)\n",
      "Fitting 10 folds for each of 12 candidates, totalling 120 fits\n"
     ]
    },
    {
     "name": "stderr",
     "output_type": "stream",
     "text": [
      "[Parallel(n_jobs=1)]: Using backend SequentialBackend with 1 concurrent workers.\n",
      "[Parallel(n_jobs=1)]: Done 120 out of 120 | elapsed:   39.2s finished\n"
     ]
    },
    {
     "name": "stdout",
     "output_type": "stream",
     "text": [
      "best score: 0.6013071895424836\n",
      "Fitting 10 folds for each of 12 candidates, totalling 120 fits\n"
     ]
    },
    {
     "name": "stderr",
     "output_type": "stream",
     "text": [
      "[Parallel(n_jobs=1)]: Using backend SequentialBackend with 1 concurrent workers.\n",
      "[Parallel(n_jobs=1)]: Done 120 out of 120 | elapsed:   32.6s finished\n"
     ]
    },
    {
     "name": "stdout",
     "output_type": "stream",
     "text": [
      "best score: 0.6078431372549019\n",
      "Fitting 10 folds for each of 12 candidates, totalling 120 fits\n"
     ]
    },
    {
     "name": "stderr",
     "output_type": "stream",
     "text": [
      "[Parallel(n_jobs=1)]: Using backend SequentialBackend with 1 concurrent workers.\n",
      "[Parallel(n_jobs=1)]: Done 120 out of 120 | elapsed:   29.6s finished\n"
     ]
    },
    {
     "name": "stdout",
     "output_type": "stream",
     "text": [
      "best score: 0.6078431372549019\n",
      "Fitting 10 folds for each of 12 candidates, totalling 120 fits\n"
     ]
    },
    {
     "name": "stderr",
     "output_type": "stream",
     "text": [
      "[Parallel(n_jobs=1)]: Using backend SequentialBackend with 1 concurrent workers.\n",
      "[Parallel(n_jobs=1)]: Done 120 out of 120 | elapsed:   32.9s finished\n"
     ]
    },
    {
     "name": "stdout",
     "output_type": "stream",
     "text": [
      "best score: 0.6078431372549019\n",
      "Fitting 10 folds for each of 12 candidates, totalling 120 fits\n"
     ]
    },
    {
     "name": "stderr",
     "output_type": "stream",
     "text": [
      "[Parallel(n_jobs=1)]: Using backend SequentialBackend with 1 concurrent workers.\n",
      "[Parallel(n_jobs=1)]: Done 120 out of 120 | elapsed:   32.2s finished\n"
     ]
    },
    {
     "name": "stdout",
     "output_type": "stream",
     "text": [
      "best score: 0.6078431372549019\n",
      "Split: 1\n",
      "Split: 2\n",
      "Split: 3\n",
      "Split: 4\n",
      "Split: 5\n",
      "Split: 6\n",
      "Split: 7\n",
      "Split: 8\n",
      "Split: 9\n",
      "Split: 10\n",
      "Training Testing Accuracy for n_games=9 team=15 : 59.64% (3.20%)\n",
      "(187, 1688)\n",
      "(187, 1)\n",
      "X_train shape: (168, 2808)\n",
      "X_test shape: (19, 2808)\n",
      "Fitting 10 folds for each of 12 candidates, totalling 120 fits\n"
     ]
    },
    {
     "name": "stderr",
     "output_type": "stream",
     "text": [
      "[Parallel(n_jobs=1)]: Using backend SequentialBackend with 1 concurrent workers.\n",
      "[Parallel(n_jobs=1)]: Done 120 out of 120 | elapsed:   41.1s finished\n"
     ]
    },
    {
     "name": "stdout",
     "output_type": "stream",
     "text": [
      "best score: 0.6369047619047619\n",
      "Fitting 10 folds for each of 12 candidates, totalling 120 fits\n"
     ]
    },
    {
     "name": "stderr",
     "output_type": "stream",
     "text": [
      "[Parallel(n_jobs=1)]: Using backend SequentialBackend with 1 concurrent workers.\n",
      "[Parallel(n_jobs=1)]: Done 120 out of 120 | elapsed:   44.1s finished\n"
     ]
    },
    {
     "name": "stdout",
     "output_type": "stream",
     "text": [
      "best score: 0.6369047619047619\n",
      "Fitting 10 folds for each of 12 candidates, totalling 120 fits\n"
     ]
    },
    {
     "name": "stderr",
     "output_type": "stream",
     "text": [
      "[Parallel(n_jobs=1)]: Using backend SequentialBackend with 1 concurrent workers.\n",
      "[Parallel(n_jobs=1)]: Done 120 out of 120 | elapsed:  1.1min finished\n"
     ]
    },
    {
     "name": "stdout",
     "output_type": "stream",
     "text": [
      "best score: 0.6369047619047619\n",
      "Fitting 10 folds for each of 12 candidates, totalling 120 fits\n"
     ]
    },
    {
     "name": "stderr",
     "output_type": "stream",
     "text": [
      "[Parallel(n_jobs=1)]: Using backend SequentialBackend with 1 concurrent workers.\n",
      "[Parallel(n_jobs=1)]: Done 120 out of 120 | elapsed:   39.8s finished\n"
     ]
    },
    {
     "name": "stdout",
     "output_type": "stream",
     "text": [
      "best score: 0.6369047619047619\n",
      "Fitting 10 folds for each of 12 candidates, totalling 120 fits\n"
     ]
    },
    {
     "name": "stderr",
     "output_type": "stream",
     "text": [
      "[Parallel(n_jobs=1)]: Using backend SequentialBackend with 1 concurrent workers.\n",
      "[Parallel(n_jobs=1)]: Done 120 out of 120 | elapsed:   29.9s finished\n"
     ]
    },
    {
     "name": "stdout",
     "output_type": "stream",
     "text": [
      "best score: 0.6428571428571429\n",
      "Split: 1\n",
      "Split: 2\n",
      "Split: 3\n",
      "Split: 4\n",
      "Split: 5\n",
      "Split: 6\n",
      "Split: 7\n",
      "Split: 8\n",
      "Split: 9\n",
      "Split: 10\n",
      "Training Testing Accuracy for n_games=9 team=16 : 64.68% (3.77%)\n",
      "(182, 1688)\n",
      "(182, 1)\n",
      "X_train shape: (163, 2810)\n",
      "X_test shape: (19, 2810)\n",
      "Fitting 10 folds for each of 12 candidates, totalling 120 fits\n"
     ]
    },
    {
     "name": "stderr",
     "output_type": "stream",
     "text": [
      "[Parallel(n_jobs=1)]: Using backend SequentialBackend with 1 concurrent workers.\n",
      "[Parallel(n_jobs=1)]: Done 120 out of 120 | elapsed:   42.4s finished\n"
     ]
    },
    {
     "name": "stdout",
     "output_type": "stream",
     "text": [
      "best score: 0.588957055214724\n",
      "Fitting 10 folds for each of 12 candidates, totalling 120 fits\n"
     ]
    },
    {
     "name": "stderr",
     "output_type": "stream",
     "text": [
      "[Parallel(n_jobs=1)]: Using backend SequentialBackend with 1 concurrent workers.\n",
      "[Parallel(n_jobs=1)]: Done 120 out of 120 | elapsed:   50.5s finished\n"
     ]
    },
    {
     "name": "stdout",
     "output_type": "stream",
     "text": [
      "best score: 0.5950920245398773\n",
      "Fitting 10 folds for each of 12 candidates, totalling 120 fits\n"
     ]
    },
    {
     "name": "stderr",
     "output_type": "stream",
     "text": [
      "[Parallel(n_jobs=1)]: Using backend SequentialBackend with 1 concurrent workers.\n",
      "[Parallel(n_jobs=1)]: Done 120 out of 120 | elapsed:   37.5s finished\n"
     ]
    },
    {
     "name": "stdout",
     "output_type": "stream",
     "text": [
      "best score: 0.5950920245398773\n",
      "Fitting 10 folds for each of 12 candidates, totalling 120 fits\n"
     ]
    },
    {
     "name": "stderr",
     "output_type": "stream",
     "text": [
      "[Parallel(n_jobs=1)]: Using backend SequentialBackend with 1 concurrent workers.\n",
      "[Parallel(n_jobs=1)]: Done 120 out of 120 | elapsed:   30.6s finished\n"
     ]
    },
    {
     "name": "stdout",
     "output_type": "stream",
     "text": [
      "best score: 0.5950920245398773\n",
      "Fitting 10 folds for each of 12 candidates, totalling 120 fits\n"
     ]
    },
    {
     "name": "stderr",
     "output_type": "stream",
     "text": [
      "[Parallel(n_jobs=1)]: Using backend SequentialBackend with 1 concurrent workers.\n",
      "[Parallel(n_jobs=1)]: Done 120 out of 120 | elapsed:   31.2s finished\n"
     ]
    },
    {
     "name": "stdout",
     "output_type": "stream",
     "text": [
      "best score: 0.6073619631901841\n",
      "Split: 1\n",
      "Split: 2\n",
      "Split: 3\n",
      "Split: 4\n",
      "Split: 5\n",
      "Split: 6\n",
      "Split: 7\n",
      "Split: 8\n",
      "Split: 9\n",
      "Split: 10\n",
      "Training Testing Accuracy for n_games=9 team=17 : 59.88% (10.54%)\n",
      "(181, 1688)\n",
      "(181, 1)\n",
      "X_train shape: (162, 2826)\n",
      "X_test shape: (19, 2826)\n",
      "Fitting 10 folds for each of 12 candidates, totalling 120 fits\n"
     ]
    },
    {
     "name": "stderr",
     "output_type": "stream",
     "text": [
      "[Parallel(n_jobs=1)]: Using backend SequentialBackend with 1 concurrent workers.\n",
      "[Parallel(n_jobs=1)]: Done 120 out of 120 | elapsed:   40.4s finished\n"
     ]
    },
    {
     "name": "stdout",
     "output_type": "stream",
     "text": [
      "best score: 0.5740740740740741\n",
      "Fitting 10 folds for each of 12 candidates, totalling 120 fits\n"
     ]
    },
    {
     "name": "stderr",
     "output_type": "stream",
     "text": [
      "[Parallel(n_jobs=1)]: Using backend SequentialBackend with 1 concurrent workers.\n",
      "[Parallel(n_jobs=1)]: Done 120 out of 120 | elapsed:   41.5s finished\n"
     ]
    },
    {
     "name": "stdout",
     "output_type": "stream",
     "text": [
      "best score: 0.6172839506172839\n",
      "Fitting 10 folds for each of 12 candidates, totalling 120 fits\n"
     ]
    },
    {
     "name": "stderr",
     "output_type": "stream",
     "text": [
      "[Parallel(n_jobs=1)]: Using backend SequentialBackend with 1 concurrent workers.\n",
      "[Parallel(n_jobs=1)]: Done 120 out of 120 | elapsed:  1.0min finished\n"
     ]
    },
    {
     "name": "stdout",
     "output_type": "stream",
     "text": [
      "best score: 0.6172839506172839\n",
      "Fitting 10 folds for each of 12 candidates, totalling 120 fits\n"
     ]
    },
    {
     "name": "stderr",
     "output_type": "stream",
     "text": [
      "[Parallel(n_jobs=1)]: Using backend SequentialBackend with 1 concurrent workers.\n",
      "[Parallel(n_jobs=1)]: Done 120 out of 120 | elapsed:   35.9s finished\n"
     ]
    },
    {
     "name": "stdout",
     "output_type": "stream",
     "text": [
      "best score: 0.6172839506172839\n",
      "Fitting 10 folds for each of 12 candidates, totalling 120 fits\n"
     ]
    },
    {
     "name": "stderr",
     "output_type": "stream",
     "text": [
      "[Parallel(n_jobs=1)]: Using backend SequentialBackend with 1 concurrent workers.\n",
      "[Parallel(n_jobs=1)]: Done 120 out of 120 | elapsed:   53.5s finished\n"
     ]
    },
    {
     "name": "stdout",
     "output_type": "stream",
     "text": [
      "best score: 0.6172839506172839\n",
      "Split: 1\n",
      "Split: 2\n",
      "Split: 3\n",
      "Split: 4\n",
      "Split: 5\n",
      "Split: 6\n",
      "Split: 7\n",
      "Split: 8\n",
      "Split: 9\n",
      "Split: 10\n",
      "Training Testing Accuracy for n_games=9 team=18 : 54.77% (10.92%)\n",
      "Accuracy for Team Models for n_games= 9 : 60.75% (5.98%)\n",
      "(176, 1874)\n",
      "(176, 1)\n",
      "X_train shape: (158, 3119)\n",
      "X_test shape: (18, 3119)\n",
      "Fitting 10 folds for each of 12 candidates, totalling 120 fits\n"
     ]
    },
    {
     "name": "stderr",
     "output_type": "stream",
     "text": [
      "[Parallel(n_jobs=1)]: Using backend SequentialBackend with 1 concurrent workers.\n",
      "[Parallel(n_jobs=1)]: Done 120 out of 120 | elapsed:   45.9s finished\n"
     ]
    },
    {
     "name": "stdout",
     "output_type": "stream",
     "text": [
      "best score: 0.5632911392405063\n",
      "Fitting 10 folds for each of 12 candidates, totalling 120 fits\n"
     ]
    },
    {
     "name": "stderr",
     "output_type": "stream",
     "text": [
      "[Parallel(n_jobs=1)]: Using backend SequentialBackend with 1 concurrent workers.\n",
      "[Parallel(n_jobs=1)]: Done 120 out of 120 | elapsed:   40.7s finished\n"
     ]
    },
    {
     "name": "stdout",
     "output_type": "stream",
     "text": [
      "best score: 0.5632911392405063\n",
      "Fitting 10 folds for each of 12 candidates, totalling 120 fits\n"
     ]
    },
    {
     "name": "stderr",
     "output_type": "stream",
     "text": [
      "[Parallel(n_jobs=1)]: Using backend SequentialBackend with 1 concurrent workers.\n",
      "[Parallel(n_jobs=1)]: Done 120 out of 120 | elapsed:   49.9s finished\n"
     ]
    },
    {
     "name": "stdout",
     "output_type": "stream",
     "text": [
      "best score: 0.5759493670886076\n",
      "Fitting 10 folds for each of 12 candidates, totalling 120 fits\n"
     ]
    },
    {
     "name": "stderr",
     "output_type": "stream",
     "text": [
      "[Parallel(n_jobs=1)]: Using backend SequentialBackend with 1 concurrent workers.\n",
      "[Parallel(n_jobs=1)]: Done 120 out of 120 | elapsed:  1.2min finished\n"
     ]
    },
    {
     "name": "stdout",
     "output_type": "stream",
     "text": [
      "best score: 0.6139240506329114\n",
      "Fitting 10 folds for each of 12 candidates, totalling 120 fits\n"
     ]
    },
    {
     "name": "stderr",
     "output_type": "stream",
     "text": [
      "[Parallel(n_jobs=1)]: Using backend SequentialBackend with 1 concurrent workers.\n",
      "[Parallel(n_jobs=1)]: Done 120 out of 120 | elapsed:   58.4s finished\n"
     ]
    },
    {
     "name": "stdout",
     "output_type": "stream",
     "text": [
      "best score: 0.6139240506329114\n",
      "Split: 1\n",
      "Split: 2\n",
      "Split: 3\n",
      "Split: 4\n",
      "Split: 5\n",
      "Split: 6\n",
      "Split: 7\n",
      "Split: 8\n",
      "Split: 9\n",
      "Split: 10\n",
      "Training Testing Accuracy for n_games=10 team=1 : 55.78% (11.35%)\n",
      "(174, 1874)\n",
      "(174, 1)\n",
      "X_train shape: (156, 3092)\n",
      "X_test shape: (18, 3092)\n",
      "Fitting 10 folds for each of 12 candidates, totalling 120 fits\n"
     ]
    },
    {
     "name": "stderr",
     "output_type": "stream",
     "text": [
      "[Parallel(n_jobs=1)]: Using backend SequentialBackend with 1 concurrent workers.\n",
      "[Parallel(n_jobs=1)]: Done 120 out of 120 | elapsed:   44.7s finished\n"
     ]
    },
    {
     "name": "stdout",
     "output_type": "stream",
     "text": [
      "best score: 0.7051282051282052\n",
      "Fitting 10 folds for each of 12 candidates, totalling 120 fits\n"
     ]
    },
    {
     "name": "stderr",
     "output_type": "stream",
     "text": [
      "[Parallel(n_jobs=1)]: Using backend SequentialBackend with 1 concurrent workers.\n",
      "[Parallel(n_jobs=1)]: Done 120 out of 120 | elapsed:   48.2s finished\n"
     ]
    },
    {
     "name": "stdout",
     "output_type": "stream",
     "text": [
      "best score: 0.7051282051282052\n",
      "Fitting 10 folds for each of 12 candidates, totalling 120 fits\n"
     ]
    },
    {
     "name": "stderr",
     "output_type": "stream",
     "text": [
      "[Parallel(n_jobs=1)]: Using backend SequentialBackend with 1 concurrent workers.\n",
      "[Parallel(n_jobs=1)]: Done 120 out of 120 | elapsed:   51.1s finished\n"
     ]
    },
    {
     "name": "stdout",
     "output_type": "stream",
     "text": [
      "best score: 0.7051282051282052\n",
      "Fitting 10 folds for each of 12 candidates, totalling 120 fits\n"
     ]
    },
    {
     "name": "stderr",
     "output_type": "stream",
     "text": [
      "[Parallel(n_jobs=1)]: Using backend SequentialBackend with 1 concurrent workers.\n",
      "[Parallel(n_jobs=1)]: Done 120 out of 120 | elapsed:  1.4min finished\n"
     ]
    },
    {
     "name": "stdout",
     "output_type": "stream",
     "text": [
      "best score: 0.7051282051282052\n",
      "Fitting 10 folds for each of 12 candidates, totalling 120 fits\n"
     ]
    },
    {
     "name": "stderr",
     "output_type": "stream",
     "text": [
      "[Parallel(n_jobs=1)]: Using backend SequentialBackend with 1 concurrent workers.\n",
      "[Parallel(n_jobs=1)]: Done 120 out of 120 | elapsed:   43.2s finished\n"
     ]
    },
    {
     "name": "stdout",
     "output_type": "stream",
     "text": [
      "best score: 0.7051282051282052\n",
      "Split: 1\n",
      "Split: 2\n",
      "Split: 3\n",
      "Split: 4\n",
      "Split: 5\n",
      "Split: 6\n",
      "Split: 7\n",
      "Split: 8\n",
      "Split: 9\n",
      "Split: 10\n",
      "Training Testing Accuracy for n_games=10 team=2 : 59.15% (9.00%)\n",
      "(172, 1874)\n",
      "(172, 1)\n",
      "X_train shape: (154, 3086)\n",
      "X_test shape: (18, 3086)\n",
      "Fitting 10 folds for each of 12 candidates, totalling 120 fits\n"
     ]
    },
    {
     "name": "stderr",
     "output_type": "stream",
     "text": [
      "[Parallel(n_jobs=1)]: Using backend SequentialBackend with 1 concurrent workers.\n",
      "[Parallel(n_jobs=1)]: Done 120 out of 120 | elapsed:   43.5s finished\n"
     ]
    },
    {
     "name": "stdout",
     "output_type": "stream",
     "text": [
      "best score: 0.7142857142857143\n",
      "Fitting 10 folds for each of 12 candidates, totalling 120 fits\n"
     ]
    },
    {
     "name": "stderr",
     "output_type": "stream",
     "text": [
      "[Parallel(n_jobs=1)]: Using backend SequentialBackend with 1 concurrent workers.\n",
      "[Parallel(n_jobs=1)]: Done 120 out of 120 | elapsed:   48.4s finished\n"
     ]
    },
    {
     "name": "stdout",
     "output_type": "stream",
     "text": [
      "best score: 0.7142857142857143\n",
      "Fitting 10 folds for each of 12 candidates, totalling 120 fits\n"
     ]
    },
    {
     "name": "stderr",
     "output_type": "stream",
     "text": [
      "[Parallel(n_jobs=1)]: Using backend SequentialBackend with 1 concurrent workers.\n",
      "[Parallel(n_jobs=1)]: Done 120 out of 120 | elapsed:   58.4s finished\n"
     ]
    },
    {
     "name": "stdout",
     "output_type": "stream",
     "text": [
      "best score: 0.7142857142857143\n",
      "Fitting 10 folds for each of 12 candidates, totalling 120 fits\n"
     ]
    },
    {
     "name": "stderr",
     "output_type": "stream",
     "text": [
      "[Parallel(n_jobs=1)]: Using backend SequentialBackend with 1 concurrent workers.\n",
      "[Parallel(n_jobs=1)]: Done 120 out of 120 | elapsed:   39.8s finished\n"
     ]
    },
    {
     "name": "stdout",
     "output_type": "stream",
     "text": [
      "best score: 0.7142857142857143\n",
      "Fitting 10 folds for each of 12 candidates, totalling 120 fits\n"
     ]
    },
    {
     "name": "stderr",
     "output_type": "stream",
     "text": [
      "[Parallel(n_jobs=1)]: Using backend SequentialBackend with 1 concurrent workers.\n",
      "[Parallel(n_jobs=1)]: Done 120 out of 120 | elapsed:   34.7s finished\n"
     ]
    },
    {
     "name": "stdout",
     "output_type": "stream",
     "text": [
      "best score: 0.7142857142857143\n",
      "Split: 1\n",
      "Split: 2\n",
      "Split: 3\n",
      "Split: 4\n",
      "Split: 5\n",
      "Split: 6\n",
      "Split: 7\n",
      "Split: 8\n",
      "Split: 9\n",
      "Split: 10\n",
      "Training Testing Accuracy for n_games=10 team=3 : 70.36% (1.32%)\n",
      "(177, 1874)\n",
      "(177, 1)\n",
      "X_train shape: (159, 3080)\n",
      "X_test shape: (18, 3080)\n",
      "Fitting 10 folds for each of 12 candidates, totalling 120 fits\n"
     ]
    },
    {
     "name": "stderr",
     "output_type": "stream",
     "text": [
      "[Parallel(n_jobs=1)]: Using backend SequentialBackend with 1 concurrent workers.\n",
      "[Parallel(n_jobs=1)]: Done 120 out of 120 | elapsed:   44.8s finished\n"
     ]
    },
    {
     "name": "stdout",
     "output_type": "stream",
     "text": [
      "best score: 0.5471698113207547\n",
      "Fitting 10 folds for each of 12 candidates, totalling 120 fits\n"
     ]
    },
    {
     "name": "stderr",
     "output_type": "stream",
     "text": [
      "[Parallel(n_jobs=1)]: Using backend SequentialBackend with 1 concurrent workers.\n",
      "[Parallel(n_jobs=1)]: Done 120 out of 120 | elapsed:   43.2s finished\n"
     ]
    },
    {
     "name": "stdout",
     "output_type": "stream",
     "text": [
      "best score: 0.5723270440251572\n",
      "Fitting 10 folds for each of 12 candidates, totalling 120 fits\n"
     ]
    },
    {
     "name": "stderr",
     "output_type": "stream",
     "text": [
      "[Parallel(n_jobs=1)]: Using backend SequentialBackend with 1 concurrent workers.\n",
      "[Parallel(n_jobs=1)]: Done 120 out of 120 | elapsed:   33.5s finished\n"
     ]
    },
    {
     "name": "stdout",
     "output_type": "stream",
     "text": [
      "best score: 0.5723270440251572\n",
      "Fitting 10 folds for each of 12 candidates, totalling 120 fits\n"
     ]
    },
    {
     "name": "stderr",
     "output_type": "stream",
     "text": [
      "[Parallel(n_jobs=1)]: Using backend SequentialBackend with 1 concurrent workers.\n",
      "[Parallel(n_jobs=1)]: Done 120 out of 120 | elapsed:  1.2min finished\n"
     ]
    },
    {
     "name": "stdout",
     "output_type": "stream",
     "text": [
      "best score: 0.5723270440251572\n",
      "Fitting 10 folds for each of 12 candidates, totalling 120 fits\n"
     ]
    },
    {
     "name": "stderr",
     "output_type": "stream",
     "text": [
      "[Parallel(n_jobs=1)]: Using backend SequentialBackend with 1 concurrent workers.\n",
      "[Parallel(n_jobs=1)]: Done 120 out of 120 | elapsed:  2.1min finished\n"
     ]
    },
    {
     "name": "stdout",
     "output_type": "stream",
     "text": [
      "best score: 0.5723270440251572\n",
      "Split: 1\n",
      "Split: 2\n",
      "Split: 3\n",
      "Split: 4\n",
      "Split: 5\n",
      "Split: 6\n",
      "Split: 7\n",
      "Split: 8\n",
      "Split: 9\n",
      "Split: 10\n",
      "Training Testing Accuracy for n_games=10 team=4 : 53.01% (12.81%)\n",
      "(174, 1874)\n",
      "(174, 1)\n",
      "X_train shape: (156, 3058)\n",
      "X_test shape: (18, 3058)\n",
      "Fitting 10 folds for each of 12 candidates, totalling 120 fits\n"
     ]
    },
    {
     "name": "stderr",
     "output_type": "stream",
     "text": [
      "[Parallel(n_jobs=1)]: Using backend SequentialBackend with 1 concurrent workers.\n",
      "[Parallel(n_jobs=1)]: Done 120 out of 120 | elapsed:   44.4s finished\n"
     ]
    },
    {
     "name": "stdout",
     "output_type": "stream",
     "text": [
      "best score: 0.5961538461538461\n",
      "Fitting 10 folds for each of 12 candidates, totalling 120 fits\n"
     ]
    },
    {
     "name": "stderr",
     "output_type": "stream",
     "text": [
      "[Parallel(n_jobs=1)]: Using backend SequentialBackend with 1 concurrent workers.\n",
      "[Parallel(n_jobs=1)]: Done 120 out of 120 | elapsed:   38.9s finished\n"
     ]
    },
    {
     "name": "stdout",
     "output_type": "stream",
     "text": [
      "best score: 0.5961538461538461\n",
      "Fitting 10 folds for each of 12 candidates, totalling 120 fits\n"
     ]
    },
    {
     "name": "stderr",
     "output_type": "stream",
     "text": [
      "[Parallel(n_jobs=1)]: Using backend SequentialBackend with 1 concurrent workers.\n",
      "[Parallel(n_jobs=1)]: Done 120 out of 120 | elapsed:   44.8s finished\n"
     ]
    },
    {
     "name": "stdout",
     "output_type": "stream",
     "text": [
      "best score: 0.5961538461538461\n",
      "Fitting 10 folds for each of 12 candidates, totalling 120 fits\n"
     ]
    },
    {
     "name": "stderr",
     "output_type": "stream",
     "text": [
      "[Parallel(n_jobs=1)]: Using backend SequentialBackend with 1 concurrent workers.\n",
      "[Parallel(n_jobs=1)]: Done 120 out of 120 | elapsed:   53.3s finished\n"
     ]
    },
    {
     "name": "stdout",
     "output_type": "stream",
     "text": [
      "best score: 0.5961538461538461\n",
      "Fitting 10 folds for each of 12 candidates, totalling 120 fits\n"
     ]
    },
    {
     "name": "stderr",
     "output_type": "stream",
     "text": [
      "[Parallel(n_jobs=1)]: Using backend SequentialBackend with 1 concurrent workers.\n",
      "[Parallel(n_jobs=1)]: Done 120 out of 120 | elapsed:   44.4s finished\n"
     ]
    },
    {
     "name": "stdout",
     "output_type": "stream",
     "text": [
      "best score: 0.5961538461538461\n",
      "Split: 1\n",
      "Split: 2\n",
      "Split: 3\n",
      "Split: 4\n",
      "Split: 5\n",
      "Split: 6\n",
      "Split: 7\n",
      "Split: 8\n",
      "Split: 9\n",
      "Split: 10\n",
      "Training Testing Accuracy for n_games=10 team=5 : 56.86% (8.94%)\n",
      "(177, 1874)\n",
      "(177, 1)\n",
      "X_train shape: (159, 3103)\n",
      "X_test shape: (18, 3103)\n",
      "Fitting 10 folds for each of 12 candidates, totalling 120 fits\n"
     ]
    },
    {
     "name": "stderr",
     "output_type": "stream",
     "text": [
      "[Parallel(n_jobs=1)]: Using backend SequentialBackend with 1 concurrent workers.\n",
      "[Parallel(n_jobs=1)]: Done 120 out of 120 | elapsed:   44.8s finished\n"
     ]
    },
    {
     "name": "stdout",
     "output_type": "stream",
     "text": [
      "best score: 0.559748427672956\n",
      "Fitting 10 folds for each of 12 candidates, totalling 120 fits\n"
     ]
    },
    {
     "name": "stderr",
     "output_type": "stream",
     "text": [
      "[Parallel(n_jobs=1)]: Using backend SequentialBackend with 1 concurrent workers.\n",
      "[Parallel(n_jobs=1)]: Done 120 out of 120 | elapsed:   32.2s finished\n"
     ]
    },
    {
     "name": "stdout",
     "output_type": "stream",
     "text": [
      "best score: 0.5660377358490566\n",
      "Fitting 10 folds for each of 12 candidates, totalling 120 fits\n"
     ]
    },
    {
     "name": "stderr",
     "output_type": "stream",
     "text": [
      "[Parallel(n_jobs=1)]: Using backend SequentialBackend with 1 concurrent workers.\n",
      "[Parallel(n_jobs=1)]: Done 120 out of 120 | elapsed:   50.4s finished\n"
     ]
    },
    {
     "name": "stdout",
     "output_type": "stream",
     "text": [
      "best score: 0.5660377358490566\n",
      "Fitting 10 folds for each of 12 candidates, totalling 120 fits\n"
     ]
    },
    {
     "name": "stderr",
     "output_type": "stream",
     "text": [
      "[Parallel(n_jobs=1)]: Using backend SequentialBackend with 1 concurrent workers.\n",
      "[Parallel(n_jobs=1)]: Done 120 out of 120 | elapsed:   35.3s finished\n"
     ]
    },
    {
     "name": "stdout",
     "output_type": "stream",
     "text": [
      "best score: 0.5660377358490566\n",
      "Fitting 10 folds for each of 12 candidates, totalling 120 fits\n"
     ]
    },
    {
     "name": "stderr",
     "output_type": "stream",
     "text": [
      "[Parallel(n_jobs=1)]: Using backend SequentialBackend with 1 concurrent workers.\n",
      "[Parallel(n_jobs=1)]: Done 120 out of 120 | elapsed:   42.9s finished\n"
     ]
    },
    {
     "name": "stdout",
     "output_type": "stream",
     "text": [
      "best score: 0.5723270440251572\n",
      "Split: 1\n",
      "Split: 2\n",
      "Split: 3\n",
      "Split: 4\n",
      "Split: 5\n",
      "Split: 6\n",
      "Split: 7\n",
      "Split: 8\n",
      "Split: 9\n",
      "Split: 10\n",
      "Training Testing Accuracy for n_games=10 team=6 : 44.67% (10.14%)\n",
      "(186, 1874)\n",
      "(186, 1)\n",
      "X_train shape: (167, 3093)\n",
      "X_test shape: (19, 3093)\n",
      "Fitting 10 folds for each of 12 candidates, totalling 120 fits\n"
     ]
    },
    {
     "name": "stderr",
     "output_type": "stream",
     "text": [
      "[Parallel(n_jobs=1)]: Using backend SequentialBackend with 1 concurrent workers.\n",
      "[Parallel(n_jobs=1)]: Done 120 out of 120 | elapsed:   45.4s finished\n"
     ]
    },
    {
     "name": "stdout",
     "output_type": "stream",
     "text": [
      "best score: 0.6586826347305389\n",
      "Fitting 10 folds for each of 12 candidates, totalling 120 fits\n"
     ]
    },
    {
     "name": "stderr",
     "output_type": "stream",
     "text": [
      "[Parallel(n_jobs=1)]: Using backend SequentialBackend with 1 concurrent workers.\n",
      "[Parallel(n_jobs=1)]: Done 120 out of 120 | elapsed:   38.9s finished\n"
     ]
    },
    {
     "name": "stdout",
     "output_type": "stream",
     "text": [
      "best score: 0.6826347305389222\n",
      "Fitting 10 folds for each of 12 candidates, totalling 120 fits\n"
     ]
    },
    {
     "name": "stderr",
     "output_type": "stream",
     "text": [
      "[Parallel(n_jobs=1)]: Using backend SequentialBackend with 1 concurrent workers.\n",
      "[Parallel(n_jobs=1)]: Done 120 out of 120 | elapsed:  1.0min finished\n"
     ]
    },
    {
     "name": "stdout",
     "output_type": "stream",
     "text": [
      "best score: 0.6826347305389222\n",
      "Fitting 10 folds for each of 12 candidates, totalling 120 fits\n"
     ]
    },
    {
     "name": "stderr",
     "output_type": "stream",
     "text": [
      "[Parallel(n_jobs=1)]: Using backend SequentialBackend with 1 concurrent workers.\n",
      "[Parallel(n_jobs=1)]: Done 120 out of 120 | elapsed:   34.5s finished\n"
     ]
    },
    {
     "name": "stdout",
     "output_type": "stream",
     "text": [
      "best score: 0.6826347305389222\n",
      "Fitting 10 folds for each of 12 candidates, totalling 120 fits\n"
     ]
    },
    {
     "name": "stderr",
     "output_type": "stream",
     "text": [
      "[Parallel(n_jobs=1)]: Using backend SequentialBackend with 1 concurrent workers.\n",
      "[Parallel(n_jobs=1)]: Done 120 out of 120 | elapsed:   35.4s finished\n"
     ]
    },
    {
     "name": "stdout",
     "output_type": "stream",
     "text": [
      "best score: 0.6826347305389222\n",
      "Split: 1\n",
      "Split: 2\n",
      "Split: 3\n",
      "Split: 4\n",
      "Split: 5\n",
      "Split: 6\n",
      "Split: 7\n",
      "Split: 8\n",
      "Split: 9\n",
      "Split: 10\n",
      "Training Testing Accuracy for n_games=10 team=7 : 63.95% (6.52%)\n",
      "(170, 1874)\n",
      "(170, 1)\n",
      "X_train shape: (153, 3102)\n",
      "X_test shape: (17, 3102)\n",
      "Fitting 10 folds for each of 12 candidates, totalling 120 fits\n"
     ]
    },
    {
     "name": "stderr",
     "output_type": "stream",
     "text": [
      "[Parallel(n_jobs=1)]: Using backend SequentialBackend with 1 concurrent workers.\n",
      "[Parallel(n_jobs=1)]: Done 120 out of 120 | elapsed:   42.7s finished\n"
     ]
    },
    {
     "name": "stdout",
     "output_type": "stream",
     "text": [
      "best score: 0.7450980392156863\n",
      "Fitting 10 folds for each of 12 candidates, totalling 120 fits\n"
     ]
    },
    {
     "name": "stderr",
     "output_type": "stream",
     "text": [
      "[Parallel(n_jobs=1)]: Using backend SequentialBackend with 1 concurrent workers.\n",
      "[Parallel(n_jobs=1)]: Done 120 out of 120 | elapsed:  1.2min finished\n"
     ]
    },
    {
     "name": "stdout",
     "output_type": "stream",
     "text": [
      "best score: 0.7450980392156863\n",
      "Fitting 10 folds for each of 12 candidates, totalling 120 fits\n"
     ]
    },
    {
     "name": "stderr",
     "output_type": "stream",
     "text": [
      "[Parallel(n_jobs=1)]: Using backend SequentialBackend with 1 concurrent workers.\n",
      "[Parallel(n_jobs=1)]: Done 120 out of 120 | elapsed:  1.1min finished\n"
     ]
    },
    {
     "name": "stdout",
     "output_type": "stream",
     "text": [
      "best score: 0.7450980392156863\n",
      "Fitting 10 folds for each of 12 candidates, totalling 120 fits\n"
     ]
    },
    {
     "name": "stderr",
     "output_type": "stream",
     "text": [
      "[Parallel(n_jobs=1)]: Using backend SequentialBackend with 1 concurrent workers.\n",
      "[Parallel(n_jobs=1)]: Done 120 out of 120 | elapsed:   35.8s finished\n"
     ]
    },
    {
     "name": "stdout",
     "output_type": "stream",
     "text": [
      "best score: 0.7450980392156863\n",
      "Fitting 10 folds for each of 12 candidates, totalling 120 fits\n"
     ]
    },
    {
     "name": "stderr",
     "output_type": "stream",
     "text": [
      "[Parallel(n_jobs=1)]: Using backend SequentialBackend with 1 concurrent workers.\n",
      "[Parallel(n_jobs=1)]: Done 120 out of 120 | elapsed:   34.8s finished\n"
     ]
    },
    {
     "name": "stdout",
     "output_type": "stream",
     "text": [
      "best score: 0.7450980392156863\n",
      "Split: 1\n",
      "Split: 2\n",
      "Split: 3\n",
      "Split: 4\n",
      "Split: 5\n",
      "Split: 6\n",
      "Split: 7\n",
      "Split: 8\n",
      "Split: 9\n",
      "Split: 10\n",
      "Training Testing Accuracy for n_games=10 team=8 : 73.53% (6.03%)\n",
      "(183, 1874)\n",
      "(183, 1)\n",
      "X_train shape: (164, 3116)\n",
      "X_test shape: (19, 3116)\n",
      "Fitting 10 folds for each of 12 candidates, totalling 120 fits\n"
     ]
    },
    {
     "name": "stderr",
     "output_type": "stream",
     "text": [
      "[Parallel(n_jobs=1)]: Using backend SequentialBackend with 1 concurrent workers.\n",
      "[Parallel(n_jobs=1)]: Done 120 out of 120 | elapsed:   44.6s finished\n"
     ]
    },
    {
     "name": "stdout",
     "output_type": "stream",
     "text": [
      "best score: 0.5609756097560976\n",
      "Fitting 10 folds for each of 12 candidates, totalling 120 fits\n"
     ]
    },
    {
     "name": "stderr",
     "output_type": "stream",
     "text": [
      "[Parallel(n_jobs=1)]: Using backend SequentialBackend with 1 concurrent workers.\n",
      "[Parallel(n_jobs=1)]: Done 120 out of 120 | elapsed:  1.1min finished\n"
     ]
    },
    {
     "name": "stdout",
     "output_type": "stream",
     "text": [
      "best score: 0.5792682926829268\n",
      "Fitting 10 folds for each of 12 candidates, totalling 120 fits\n"
     ]
    },
    {
     "name": "stderr",
     "output_type": "stream",
     "text": [
      "[Parallel(n_jobs=1)]: Using backend SequentialBackend with 1 concurrent workers.\n",
      "[Parallel(n_jobs=1)]: Done 120 out of 120 | elapsed:  1.3min finished\n"
     ]
    },
    {
     "name": "stdout",
     "output_type": "stream",
     "text": [
      "best score: 0.5914634146341463\n",
      "Fitting 10 folds for each of 12 candidates, totalling 120 fits\n"
     ]
    },
    {
     "name": "stderr",
     "output_type": "stream",
     "text": [
      "[Parallel(n_jobs=1)]: Using backend SequentialBackend with 1 concurrent workers.\n",
      "[Parallel(n_jobs=1)]: Done 120 out of 120 | elapsed:   33.7s finished\n"
     ]
    },
    {
     "name": "stdout",
     "output_type": "stream",
     "text": [
      "best score: 0.5914634146341463\n",
      "Fitting 10 folds for each of 12 candidates, totalling 120 fits\n"
     ]
    },
    {
     "name": "stderr",
     "output_type": "stream",
     "text": [
      "[Parallel(n_jobs=1)]: Using backend SequentialBackend with 1 concurrent workers.\n",
      "[Parallel(n_jobs=1)]: Done 120 out of 120 | elapsed:  1.1min finished\n"
     ]
    },
    {
     "name": "stdout",
     "output_type": "stream",
     "text": [
      "best score: 0.5914634146341463\n",
      "Split: 1\n",
      "Split: 2\n",
      "Split: 3\n",
      "Split: 4\n",
      "Split: 5\n",
      "Split: 6\n",
      "Split: 7\n",
      "Split: 8\n",
      "Split: 9\n",
      "Split: 10\n",
      "Training Testing Accuracy for n_games=10 team=9 : 49.21% (8.29%)\n",
      "(184, 1874)\n",
      "(184, 1)\n",
      "X_train shape: (165, 3103)\n",
      "X_test shape: (19, 3103)\n",
      "Fitting 10 folds for each of 12 candidates, totalling 120 fits\n"
     ]
    },
    {
     "name": "stderr",
     "output_type": "stream",
     "text": [
      "[Parallel(n_jobs=1)]: Using backend SequentialBackend with 1 concurrent workers.\n",
      "[Parallel(n_jobs=1)]: Done 120 out of 120 | elapsed:   44.2s finished\n"
     ]
    },
    {
     "name": "stdout",
     "output_type": "stream",
     "text": [
      "best score: 0.6666666666666666\n",
      "Fitting 10 folds for each of 12 candidates, totalling 120 fits\n"
     ]
    },
    {
     "name": "stderr",
     "output_type": "stream",
     "text": [
      "[Parallel(n_jobs=1)]: Using backend SequentialBackend with 1 concurrent workers.\n",
      "[Parallel(n_jobs=1)]: Done 120 out of 120 | elapsed:  1.1min finished\n"
     ]
    },
    {
     "name": "stdout",
     "output_type": "stream",
     "text": [
      "best score: 0.6666666666666666\n",
      "Fitting 10 folds for each of 12 candidates, totalling 120 fits\n"
     ]
    },
    {
     "name": "stderr",
     "output_type": "stream",
     "text": [
      "[Parallel(n_jobs=1)]: Using backend SequentialBackend with 1 concurrent workers.\n",
      "[Parallel(n_jobs=1)]: Done 120 out of 120 | elapsed:   44.9s finished\n"
     ]
    },
    {
     "name": "stdout",
     "output_type": "stream",
     "text": [
      "best score: 0.6727272727272727\n",
      "Fitting 10 folds for each of 12 candidates, totalling 120 fits\n"
     ]
    },
    {
     "name": "stderr",
     "output_type": "stream",
     "text": [
      "[Parallel(n_jobs=1)]: Using backend SequentialBackend with 1 concurrent workers.\n",
      "[Parallel(n_jobs=1)]: Done 120 out of 120 | elapsed:   44.9s finished\n"
     ]
    },
    {
     "name": "stdout",
     "output_type": "stream",
     "text": [
      "best score: 0.6727272727272727\n",
      "Fitting 10 folds for each of 12 candidates, totalling 120 fits\n"
     ]
    },
    {
     "name": "stderr",
     "output_type": "stream",
     "text": [
      "[Parallel(n_jobs=1)]: Using backend SequentialBackend with 1 concurrent workers.\n",
      "[Parallel(n_jobs=1)]: Done 120 out of 120 | elapsed:   40.5s finished\n"
     ]
    },
    {
     "name": "stdout",
     "output_type": "stream",
     "text": [
      "best score: 0.6727272727272727\n",
      "Split: 1\n",
      "Split: 2\n",
      "Split: 3\n",
      "Split: 4\n",
      "Split: 5\n",
      "Split: 6\n",
      "Split: 7\n",
      "Split: 8\n",
      "Split: 9\n",
      "Split: 10\n",
      "Training Testing Accuracy for n_games=10 team=10 : 61.43% (4.81%)\n",
      "(176, 1874)\n",
      "(176, 1)\n",
      "X_train shape: (158, 3115)\n",
      "X_test shape: (18, 3115)\n",
      "Fitting 10 folds for each of 12 candidates, totalling 120 fits\n"
     ]
    },
    {
     "name": "stderr",
     "output_type": "stream",
     "text": [
      "[Parallel(n_jobs=1)]: Using backend SequentialBackend with 1 concurrent workers.\n",
      "[Parallel(n_jobs=1)]: Done 120 out of 120 | elapsed:   44.7s finished\n"
     ]
    },
    {
     "name": "stdout",
     "output_type": "stream",
     "text": [
      "best score: 0.6012658227848101\n",
      "Fitting 10 folds for each of 12 candidates, totalling 120 fits\n"
     ]
    },
    {
     "name": "stderr",
     "output_type": "stream",
     "text": [
      "[Parallel(n_jobs=1)]: Using backend SequentialBackend with 1 concurrent workers.\n",
      "[Parallel(n_jobs=1)]: Done 120 out of 120 | elapsed:   40.9s finished\n"
     ]
    },
    {
     "name": "stdout",
     "output_type": "stream",
     "text": [
      "best score: 0.6012658227848101\n",
      "Fitting 10 folds for each of 12 candidates, totalling 120 fits\n"
     ]
    },
    {
     "name": "stderr",
     "output_type": "stream",
     "text": [
      "[Parallel(n_jobs=1)]: Using backend SequentialBackend with 1 concurrent workers.\n",
      "[Parallel(n_jobs=1)]: Done 120 out of 120 | elapsed:  1.1min finished\n"
     ]
    },
    {
     "name": "stdout",
     "output_type": "stream",
     "text": [
      "best score: 0.6012658227848101\n",
      "Fitting 10 folds for each of 12 candidates, totalling 120 fits\n"
     ]
    },
    {
     "name": "stderr",
     "output_type": "stream",
     "text": [
      "[Parallel(n_jobs=1)]: Using backend SequentialBackend with 1 concurrent workers.\n",
      "[Parallel(n_jobs=1)]: Done 120 out of 120 | elapsed:  1.1min finished\n"
     ]
    },
    {
     "name": "stdout",
     "output_type": "stream",
     "text": [
      "best score: 0.6265822784810127\n",
      "Fitting 10 folds for each of 12 candidates, totalling 120 fits\n"
     ]
    },
    {
     "name": "stderr",
     "output_type": "stream",
     "text": [
      "[Parallel(n_jobs=1)]: Using backend SequentialBackend with 1 concurrent workers.\n",
      "[Parallel(n_jobs=1)]: Done 120 out of 120 | elapsed:   42.3s finished\n"
     ]
    },
    {
     "name": "stdout",
     "output_type": "stream",
     "text": [
      "best score: 0.6265822784810127\n",
      "Split: 1\n",
      "Split: 2\n",
      "Split: 3\n",
      "Split: 4\n",
      "Split: 5\n",
      "Split: 6\n",
      "Split: 7\n",
      "Split: 8\n",
      "Split: 9\n",
      "Split: 10\n",
      "Training Testing Accuracy for n_games=10 team=11 : 53.27% (10.70%)\n",
      "(177, 1874)\n",
      "(177, 1)\n",
      "X_train shape: (159, 3099)\n",
      "X_test shape: (18, 3099)\n",
      "Fitting 10 folds for each of 12 candidates, totalling 120 fits\n"
     ]
    },
    {
     "name": "stderr",
     "output_type": "stream",
     "text": [
      "[Parallel(n_jobs=1)]: Using backend SequentialBackend with 1 concurrent workers.\n",
      "[Parallel(n_jobs=1)]: Done 120 out of 120 | elapsed:   44.9s finished\n"
     ]
    },
    {
     "name": "stdout",
     "output_type": "stream",
     "text": [
      "best score: 0.559748427672956\n",
      "Fitting 10 folds for each of 12 candidates, totalling 120 fits\n"
     ]
    },
    {
     "name": "stderr",
     "output_type": "stream",
     "text": [
      "[Parallel(n_jobs=1)]: Using backend SequentialBackend with 1 concurrent workers.\n",
      "[Parallel(n_jobs=1)]: Done 120 out of 120 | elapsed:   58.0s finished\n"
     ]
    },
    {
     "name": "stdout",
     "output_type": "stream",
     "text": [
      "best score: 0.559748427672956\n",
      "Fitting 10 folds for each of 12 candidates, totalling 120 fits\n"
     ]
    },
    {
     "name": "stderr",
     "output_type": "stream",
     "text": [
      "[Parallel(n_jobs=1)]: Using backend SequentialBackend with 1 concurrent workers.\n",
      "[Parallel(n_jobs=1)]: Done 120 out of 120 | elapsed:   36.8s finished\n"
     ]
    },
    {
     "name": "stdout",
     "output_type": "stream",
     "text": [
      "best score: 0.559748427672956\n",
      "Fitting 10 folds for each of 12 candidates, totalling 120 fits\n"
     ]
    },
    {
     "name": "stderr",
     "output_type": "stream",
     "text": [
      "[Parallel(n_jobs=1)]: Using backend SequentialBackend with 1 concurrent workers.\n",
      "[Parallel(n_jobs=1)]: Done 120 out of 120 | elapsed:   28.0s finished\n"
     ]
    },
    {
     "name": "stdout",
     "output_type": "stream",
     "text": [
      "best score: 0.559748427672956\n",
      "Fitting 10 folds for each of 12 candidates, totalling 120 fits\n"
     ]
    },
    {
     "name": "stderr",
     "output_type": "stream",
     "text": [
      "[Parallel(n_jobs=1)]: Using backend SequentialBackend with 1 concurrent workers.\n",
      "[Parallel(n_jobs=1)]: Done 120 out of 120 | elapsed:   39.1s finished\n"
     ]
    },
    {
     "name": "stdout",
     "output_type": "stream",
     "text": [
      "best score: 0.559748427672956\n",
      "Split: 1\n",
      "Split: 2\n",
      "Split: 3\n",
      "Split: 4\n",
      "Split: 5\n",
      "Split: 6\n",
      "Split: 7\n",
      "Split: 8\n",
      "Split: 9\n",
      "Split: 10\n",
      "Training Testing Accuracy for n_games=10 team=12 : 56.44% (8.31%)\n",
      "(178, 1874)\n",
      "(178, 1)\n",
      "X_train shape: (160, 3128)\n",
      "X_test shape: (18, 3128)\n",
      "Fitting 10 folds for each of 12 candidates, totalling 120 fits\n"
     ]
    },
    {
     "name": "stderr",
     "output_type": "stream",
     "text": [
      "[Parallel(n_jobs=1)]: Using backend SequentialBackend with 1 concurrent workers.\n",
      "[Parallel(n_jobs=1)]: Done 120 out of 120 | elapsed:   43.9s finished\n"
     ]
    },
    {
     "name": "stdout",
     "output_type": "stream",
     "text": [
      "best score: 0.65\n",
      "Fitting 10 folds for each of 12 candidates, totalling 120 fits\n"
     ]
    },
    {
     "name": "stderr",
     "output_type": "stream",
     "text": [
      "[Parallel(n_jobs=1)]: Using backend SequentialBackend with 1 concurrent workers.\n",
      "[Parallel(n_jobs=1)]: Done 120 out of 120 | elapsed:   34.3s finished\n"
     ]
    },
    {
     "name": "stdout",
     "output_type": "stream",
     "text": [
      "best score: 0.65\n",
      "Fitting 10 folds for each of 12 candidates, totalling 120 fits\n"
     ]
    },
    {
     "name": "stderr",
     "output_type": "stream",
     "text": [
      "[Parallel(n_jobs=1)]: Using backend SequentialBackend with 1 concurrent workers.\n",
      "[Parallel(n_jobs=1)]: Done 120 out of 120 | elapsed:   35.2s finished\n"
     ]
    },
    {
     "name": "stdout",
     "output_type": "stream",
     "text": [
      "best score: 0.65\n",
      "Fitting 10 folds for each of 12 candidates, totalling 120 fits\n"
     ]
    },
    {
     "name": "stderr",
     "output_type": "stream",
     "text": [
      "[Parallel(n_jobs=1)]: Using backend SequentialBackend with 1 concurrent workers.\n",
      "[Parallel(n_jobs=1)]: Done 120 out of 120 | elapsed:   47.1s finished\n"
     ]
    },
    {
     "name": "stdout",
     "output_type": "stream",
     "text": [
      "best score: 0.6625\n",
      "Fitting 10 folds for each of 12 candidates, totalling 120 fits\n"
     ]
    },
    {
     "name": "stderr",
     "output_type": "stream",
     "text": [
      "[Parallel(n_jobs=1)]: Using backend SequentialBackend with 1 concurrent workers.\n",
      "[Parallel(n_jobs=1)]: Done 120 out of 120 | elapsed:  1.2min finished\n"
     ]
    },
    {
     "name": "stdout",
     "output_type": "stream",
     "text": [
      "best score: 0.6625\n",
      "Split: 1\n",
      "Split: 2\n",
      "Split: 3\n",
      "Split: 4\n",
      "Split: 5\n",
      "Split: 6\n",
      "Split: 7\n",
      "Split: 8\n",
      "Split: 9\n",
      "Split: 10\n",
      "Training Testing Accuracy for n_games=10 team=13 : 64.08% (12.29%)\n",
      "(181, 1874)\n",
      "(181, 1)\n",
      "X_train shape: (162, 3101)\n",
      "X_test shape: (19, 3101)\n",
      "Fitting 10 folds for each of 12 candidates, totalling 120 fits\n"
     ]
    },
    {
     "name": "stderr",
     "output_type": "stream",
     "text": [
      "[Parallel(n_jobs=1)]: Using backend SequentialBackend with 1 concurrent workers.\n",
      "[Parallel(n_jobs=1)]: Done 120 out of 120 | elapsed:   44.0s finished\n"
     ]
    },
    {
     "name": "stdout",
     "output_type": "stream",
     "text": [
      "best score: 0.6358024691358025\n",
      "Fitting 10 folds for each of 12 candidates, totalling 120 fits\n"
     ]
    },
    {
     "name": "stderr",
     "output_type": "stream",
     "text": [
      "[Parallel(n_jobs=1)]: Using backend SequentialBackend with 1 concurrent workers.\n",
      "[Parallel(n_jobs=1)]: Done 120 out of 120 | elapsed:   50.8s finished\n"
     ]
    },
    {
     "name": "stdout",
     "output_type": "stream",
     "text": [
      "best score: 0.6358024691358025\n",
      "Fitting 10 folds for each of 12 candidates, totalling 120 fits\n"
     ]
    },
    {
     "name": "stderr",
     "output_type": "stream",
     "text": [
      "[Parallel(n_jobs=1)]: Using backend SequentialBackend with 1 concurrent workers.\n",
      "[Parallel(n_jobs=1)]: Done 120 out of 120 | elapsed:   46.6s finished\n"
     ]
    },
    {
     "name": "stdout",
     "output_type": "stream",
     "text": [
      "best score: 0.6358024691358025\n",
      "Fitting 10 folds for each of 12 candidates, totalling 120 fits\n"
     ]
    },
    {
     "name": "stderr",
     "output_type": "stream",
     "text": [
      "[Parallel(n_jobs=1)]: Using backend SequentialBackend with 1 concurrent workers.\n",
      "[Parallel(n_jobs=1)]: Done 120 out of 120 | elapsed:   37.8s finished\n"
     ]
    },
    {
     "name": "stdout",
     "output_type": "stream",
     "text": [
      "best score: 0.6666666666666666\n",
      "Fitting 10 folds for each of 12 candidates, totalling 120 fits\n"
     ]
    },
    {
     "name": "stderr",
     "output_type": "stream",
     "text": [
      "[Parallel(n_jobs=1)]: Using backend SequentialBackend with 1 concurrent workers.\n",
      "[Parallel(n_jobs=1)]: Done 120 out of 120 | elapsed:   40.9s finished\n"
     ]
    },
    {
     "name": "stdout",
     "output_type": "stream",
     "text": [
      "best score: 0.6666666666666666\n",
      "Split: 1\n",
      "Split: 2\n",
      "Split: 3\n",
      "Split: 4\n",
      "Split: 5\n",
      "Split: 6\n",
      "Split: 7\n",
      "Split: 8\n",
      "Split: 9\n",
      "Split: 10\n",
      "Training Testing Accuracy for n_games=10 team=14 : 68.57% (6.65%)\n",
      "(170, 1874)\n",
      "(170, 1)\n",
      "X_train shape: (153, 3099)\n",
      "X_test shape: (17, 3099)\n",
      "Fitting 10 folds for each of 12 candidates, totalling 120 fits\n"
     ]
    },
    {
     "name": "stderr",
     "output_type": "stream",
     "text": [
      "[Parallel(n_jobs=1)]: Using backend SequentialBackend with 1 concurrent workers.\n",
      "[Parallel(n_jobs=1)]: Done 120 out of 120 | elapsed:   44.1s finished\n"
     ]
    },
    {
     "name": "stdout",
     "output_type": "stream",
     "text": [
      "best score: 0.6078431372549019\n",
      "Fitting 10 folds for each of 12 candidates, totalling 120 fits\n"
     ]
    },
    {
     "name": "stderr",
     "output_type": "stream",
     "text": [
      "[Parallel(n_jobs=1)]: Using backend SequentialBackend with 1 concurrent workers.\n",
      "[Parallel(n_jobs=1)]: Done 120 out of 120 | elapsed:   35.4s finished\n"
     ]
    },
    {
     "name": "stdout",
     "output_type": "stream",
     "text": [
      "best score: 0.6078431372549019\n",
      "Fitting 10 folds for each of 12 candidates, totalling 120 fits\n"
     ]
    },
    {
     "name": "stderr",
     "output_type": "stream",
     "text": [
      "[Parallel(n_jobs=1)]: Using backend SequentialBackend with 1 concurrent workers.\n",
      "[Parallel(n_jobs=1)]: Done 120 out of 120 | elapsed:   34.4s finished\n"
     ]
    },
    {
     "name": "stdout",
     "output_type": "stream",
     "text": [
      "best score: 0.6078431372549019\n",
      "Fitting 10 folds for each of 12 candidates, totalling 120 fits\n"
     ]
    },
    {
     "name": "stderr",
     "output_type": "stream",
     "text": [
      "[Parallel(n_jobs=1)]: Using backend SequentialBackend with 1 concurrent workers.\n",
      "[Parallel(n_jobs=1)]: Done 120 out of 120 | elapsed:   39.0s finished\n"
     ]
    },
    {
     "name": "stdout",
     "output_type": "stream",
     "text": [
      "best score: 0.6078431372549019\n",
      "Fitting 10 folds for each of 12 candidates, totalling 120 fits\n"
     ]
    },
    {
     "name": "stderr",
     "output_type": "stream",
     "text": [
      "[Parallel(n_jobs=1)]: Using backend SequentialBackend with 1 concurrent workers.\n",
      "[Parallel(n_jobs=1)]: Done 120 out of 120 | elapsed:   37.2s finished\n"
     ]
    },
    {
     "name": "stdout",
     "output_type": "stream",
     "text": [
      "best score: 0.6078431372549019\n",
      "Split: 1\n",
      "Split: 2\n",
      "Split: 3\n",
      "Split: 4\n",
      "Split: 5\n",
      "Split: 6\n",
      "Split: 7\n",
      "Split: 8\n",
      "Split: 9\n",
      "Split: 10\n",
      "Training Testing Accuracy for n_games=10 team=15 : 62.35% (2.88%)\n",
      "(186, 1874)\n",
      "(186, 1)\n",
      "X_train shape: (167, 3114)\n",
      "X_test shape: (19, 3114)\n",
      "Fitting 10 folds for each of 12 candidates, totalling 120 fits\n"
     ]
    },
    {
     "name": "stderr",
     "output_type": "stream",
     "text": [
      "[Parallel(n_jobs=1)]: Using backend SequentialBackend with 1 concurrent workers.\n",
      "[Parallel(n_jobs=1)]: Done 120 out of 120 | elapsed:   45.4s finished\n"
     ]
    },
    {
     "name": "stdout",
     "output_type": "stream",
     "text": [
      "best score: 0.6646706586826348\n",
      "Fitting 10 folds for each of 12 candidates, totalling 120 fits\n"
     ]
    },
    {
     "name": "stderr",
     "output_type": "stream",
     "text": [
      "[Parallel(n_jobs=1)]: Using backend SequentialBackend with 1 concurrent workers.\n",
      "[Parallel(n_jobs=1)]: Done 120 out of 120 | elapsed:  1.1min finished\n"
     ]
    },
    {
     "name": "stdout",
     "output_type": "stream",
     "text": [
      "best score: 0.6646706586826348\n",
      "Fitting 10 folds for each of 12 candidates, totalling 120 fits\n"
     ]
    },
    {
     "name": "stderr",
     "output_type": "stream",
     "text": [
      "[Parallel(n_jobs=1)]: Using backend SequentialBackend with 1 concurrent workers.\n",
      "[Parallel(n_jobs=1)]: Done 120 out of 120 | elapsed:   53.9s finished\n"
     ]
    },
    {
     "name": "stdout",
     "output_type": "stream",
     "text": [
      "best score: 0.6646706586826348\n",
      "Fitting 10 folds for each of 12 candidates, totalling 120 fits\n"
     ]
    },
    {
     "name": "stderr",
     "output_type": "stream",
     "text": [
      "[Parallel(n_jobs=1)]: Using backend SequentialBackend with 1 concurrent workers.\n",
      "[Parallel(n_jobs=1)]: Done 120 out of 120 | elapsed:   36.7s finished\n"
     ]
    },
    {
     "name": "stdout",
     "output_type": "stream",
     "text": [
      "best score: 0.6646706586826348\n",
      "Fitting 10 folds for each of 12 candidates, totalling 120 fits\n"
     ]
    },
    {
     "name": "stderr",
     "output_type": "stream",
     "text": [
      "[Parallel(n_jobs=1)]: Using backend SequentialBackend with 1 concurrent workers.\n",
      "[Parallel(n_jobs=1)]: Done 120 out of 120 | elapsed:   35.8s finished\n"
     ]
    },
    {
     "name": "stdout",
     "output_type": "stream",
     "text": [
      "best score: 0.6766467065868264\n",
      "Split: 1\n",
      "Split: 2\n",
      "Split: 3\n",
      "Split: 4\n",
      "Split: 5\n",
      "Split: 6\n",
      "Split: 7\n",
      "Split: 8\n",
      "Split: 9\n",
      "Split: 10\n",
      "Training Testing Accuracy for n_games=10 team=16 : 59.04% (11.08%)\n",
      "(181, 1874)\n",
      "(181, 1)\n",
      "X_train shape: (162, 3113)\n",
      "X_test shape: (19, 3113)\n",
      "Fitting 10 folds for each of 12 candidates, totalling 120 fits\n"
     ]
    },
    {
     "name": "stderr",
     "output_type": "stream",
     "text": [
      "[Parallel(n_jobs=1)]: Using backend SequentialBackend with 1 concurrent workers.\n",
      "[Parallel(n_jobs=1)]: Done 120 out of 120 | elapsed:   44.9s finished\n"
     ]
    },
    {
     "name": "stdout",
     "output_type": "stream",
     "text": [
      "best score: 0.6049382716049383\n",
      "Fitting 10 folds for each of 12 candidates, totalling 120 fits\n"
     ]
    },
    {
     "name": "stderr",
     "output_type": "stream",
     "text": [
      "[Parallel(n_jobs=1)]: Using backend SequentialBackend with 1 concurrent workers.\n",
      "[Parallel(n_jobs=1)]: Done 120 out of 120 | elapsed:   33.9s finished\n"
     ]
    },
    {
     "name": "stdout",
     "output_type": "stream",
     "text": [
      "best score: 0.6049382716049383\n",
      "Fitting 10 folds for each of 12 candidates, totalling 120 fits\n"
     ]
    },
    {
     "name": "stderr",
     "output_type": "stream",
     "text": [
      "[Parallel(n_jobs=1)]: Using backend SequentialBackend with 1 concurrent workers.\n",
      "[Parallel(n_jobs=1)]: Done 120 out of 120 | elapsed:   34.0s finished\n"
     ]
    },
    {
     "name": "stdout",
     "output_type": "stream",
     "text": [
      "best score: 0.6049382716049383\n",
      "Fitting 10 folds for each of 12 candidates, totalling 120 fits\n"
     ]
    },
    {
     "name": "stderr",
     "output_type": "stream",
     "text": [
      "[Parallel(n_jobs=1)]: Using backend SequentialBackend with 1 concurrent workers.\n",
      "[Parallel(n_jobs=1)]: Done 120 out of 120 | elapsed:   34.4s finished\n"
     ]
    },
    {
     "name": "stdout",
     "output_type": "stream",
     "text": [
      "best score: 0.6049382716049383\n",
      "Fitting 10 folds for each of 12 candidates, totalling 120 fits\n"
     ]
    },
    {
     "name": "stderr",
     "output_type": "stream",
     "text": [
      "[Parallel(n_jobs=1)]: Using backend SequentialBackend with 1 concurrent workers.\n",
      "[Parallel(n_jobs=1)]: Done 120 out of 120 | elapsed:   33.5s finished\n"
     ]
    },
    {
     "name": "stdout",
     "output_type": "stream",
     "text": [
      "best score: 0.6111111111111112\n",
      "Split: 1\n",
      "Split: 2\n",
      "Split: 3\n",
      "Split: 4\n",
      "Split: 5\n",
      "Split: 6\n",
      "Split: 7\n",
      "Split: 8\n",
      "Split: 9\n",
      "Split: 10\n",
      "Training Testing Accuracy for n_games=10 team=17 : 58.01% (7.90%)\n",
      "(180, 1874)\n",
      "(180, 1)\n",
      "X_train shape: (162, 3127)\n",
      "X_test shape: (18, 3127)\n",
      "Fitting 10 folds for each of 12 candidates, totalling 120 fits\n"
     ]
    },
    {
     "name": "stderr",
     "output_type": "stream",
     "text": [
      "[Parallel(n_jobs=1)]: Using backend SequentialBackend with 1 concurrent workers.\n",
      "[Parallel(n_jobs=1)]: Done 120 out of 120 | elapsed:   45.3s finished\n"
     ]
    },
    {
     "name": "stdout",
     "output_type": "stream",
     "text": [
      "best score: 0.5493827160493827\n",
      "Fitting 10 folds for each of 12 candidates, totalling 120 fits\n"
     ]
    },
    {
     "name": "stderr",
     "output_type": "stream",
     "text": [
      "[Parallel(n_jobs=1)]: Using backend SequentialBackend with 1 concurrent workers.\n",
      "[Parallel(n_jobs=1)]: Done 120 out of 120 | elapsed:   39.8s finished\n"
     ]
    },
    {
     "name": "stdout",
     "output_type": "stream",
     "text": [
      "best score: 0.5493827160493827\n",
      "Fitting 10 folds for each of 12 candidates, totalling 120 fits\n"
     ]
    },
    {
     "name": "stderr",
     "output_type": "stream",
     "text": [
      "[Parallel(n_jobs=1)]: Using backend SequentialBackend with 1 concurrent workers.\n",
      "[Parallel(n_jobs=1)]: Done 120 out of 120 | elapsed:   44.2s finished\n"
     ]
    },
    {
     "name": "stdout",
     "output_type": "stream",
     "text": [
      "best score: 0.6172839506172839\n",
      "Fitting 10 folds for each of 12 candidates, totalling 120 fits\n"
     ]
    },
    {
     "name": "stderr",
     "output_type": "stream",
     "text": [
      "[Parallel(n_jobs=1)]: Using backend SequentialBackend with 1 concurrent workers.\n",
      "[Parallel(n_jobs=1)]: Done 120 out of 120 | elapsed:   58.3s finished\n"
     ]
    },
    {
     "name": "stdout",
     "output_type": "stream",
     "text": [
      "best score: 0.6172839506172839\n",
      "Fitting 10 folds for each of 12 candidates, totalling 120 fits\n"
     ]
    },
    {
     "name": "stderr",
     "output_type": "stream",
     "text": [
      "[Parallel(n_jobs=1)]: Using backend SequentialBackend with 1 concurrent workers.\n",
      "[Parallel(n_jobs=1)]: Done 120 out of 120 | elapsed:   58.4s finished\n"
     ]
    },
    {
     "name": "stdout",
     "output_type": "stream",
     "text": [
      "best score: 0.6172839506172839\n",
      "Split: 1\n",
      "Split: 2\n",
      "Split: 3\n",
      "Split: 4\n",
      "Split: 5\n",
      "Split: 6\n",
      "Split: 7\n",
      "Split: 8\n",
      "Split: 9\n",
      "Split: 10\n",
      "Training Testing Accuracy for n_games=10 team=18 : 54.44% (5.44%)\n",
      "Accuracy for Team Models for n_games= 10 : 59.12% (7.12%)\n"
     ]
    }
   ],
   "source": [
    "import warnings\n",
    "warnings.filterwarnings('ignore')\n",
    "for n in range(1,11):\n",
    "    averages = []\n",
    "    for tn in range(1,19):\n",
    "        a = run_team_models(n, tn)\n",
    "        averages.append(a)\n",
    "    print(\"Accuracy for Team Models for n_games= \"+str(n)+\" : %.2f%% (%.2f%%)\" % (np.mean(averages), np.std(averages)))"
   ]
  },
  {
   "cell_type": "markdown",
   "metadata": {},
   "source": [
    "# Nearest Centroid"
   ]
  },
  {
   "cell_type": "code",
   "execution_count": 7,
   "metadata": {},
   "outputs": [],
   "source": [
    "import pandas as pd\n",
    "import numpy as np\n",
    "from sklearn.model_selection import train_test_split\n",
    "from Gather_AFL_Data import gatherer as gad\n",
    "from sklearn.preprocessing import OneHotEncoder\n",
    "from sklearn.model_selection import StratifiedKFold\n",
    "import pickle\n",
    "from sklearn.neighbors import NearestCentroid\n",
    "import re\n",
    "from numpy import arange\n",
    "from sklearn.datasets import make_classification\n",
    "from sklearn.model_selection import GridSearchCV\n",
    "from sklearn.model_selection import RepeatedStratifiedKFold\n",
    "from sklearn.neighbors import NearestCentroid\n",
    "from sklearn.svm import NuSVC\n",
    "from sklearn.naive_bayes import BernoulliNB"
   ]
  },
  {
   "cell_type": "code",
   "execution_count": 6,
   "metadata": {},
   "outputs": [],
   "source": [
    "def load_data(n_games):\n",
    "    h = get_headers(n_games)\n",
    "    h = clean_headers(h)\n",
    "    cv = generate_categorical_headers(h)\n",
    "\n",
    "    #to get names of teams from index\n",
    "    g = gad()\n",
    "    teams = g.createTeamDict()\n",
    "\n",
    "    #load Data\n",
    "    x_data = pd.read_csv('Data/assembled_stat_matrix_no2020'+str(n_games)+'_games.csv')\n",
    "\n",
    "    #make empty OHE object\n",
    "    na_enc = OneHotEncoder(handle_unknown='ignore', sparse=False)\n",
    "\n",
    "    #one hot encode data with new one hot encoder, saves ohe for later use\n",
    "    x_data, ohe = ohe_data(x_data, na_enc, 0, cv)\n",
    "\n",
    "    #reset headers\n",
    "    feature_names = x_data.columns\n",
    "\n",
    "    #loads the ylabel matrix,\n",
    "    y_label = pd.read_csv('Data/assembled_labelled_ymatrix_no2020'+str(n_games)+'_games.csv')\n",
    "\n",
    "    #loads margin as the y_label\n",
    "    margin_label = pd.read_csv('Data/assembled_margin_ymatrix_no2020'+str(n_games)+'_games.csv')\n",
    "\n",
    "    print(margin_label.shape)\n",
    "    print(y_label.shape)\n",
    "    print(x_data.shape)\n",
    "\n",
    "    #regex solution which is apparently necessary??\n",
    "    regex = re.compile(r\"\\[|\\]|<\", re.IGNORECASE)\n",
    "    x_data.columns = [regex.sub(\"_\", col) if any(x in str(col) for x in set(('[', ']', '<'))) else col for col in x_data.columns.values]\n",
    "    return x_data, y_label"
   ]
  },
  {
   "cell_type": "code",
   "execution_count": null,
   "metadata": {},
   "outputs": [],
   "source": [
    "def params_NC(x_data, y_label):\n",
    "# define model\n",
    "    print(\"optimising hyperparameters\")\n",
    "    model = NearestCentroid()\n",
    "    # define model evaluation method\n",
    "    cv = RepeatedStratifiedKFold(n_splits=10, n_repeats=3, random_state=1)\n",
    "    # define grid\n",
    "    grid = dict()\n",
    "    grid['shrink_threshold'] = arange(0, 1.01, 0.01)\n",
    "    grid['metric'] = ['euclidean', 'manhattan']\n",
    "    # define search\n",
    "    search = GridSearchCV(model, grid, scoring='accuracy', cv=cv, n_jobs=-1)\n",
    "    # perform the search\n",
    "    results = search.fit(x_data, y_label.values.ravel())\n",
    "    # summarize\n",
    "    print('Mean Accuracy: %.3f' % results.best_score_)\n",
    "    print('Config: %s' % results.best_params_)\n",
    "    return results.best_params_"
   ]
  },
  {
   "cell_type": "code",
   "execution_count": null,
   "metadata": {},
   "outputs": [],
   "source": [
    "def eval_NC(x, y, m):\n",
    "    cv = StratifiedKFold(n_splits=10, shuffle=True)\n",
    "    results = []\n",
    "    print(x)\n",
    "    count = 0\n",
    "    best_w = m\n",
    "    high_w = 0\n",
    "    for train,test in cv.split(x,y):\n",
    "        count = count + 1\n",
    "        print(\"Split: \" + str(count))\n",
    "        x_train = x.loc[train]\n",
    "        y_train = y.loc[train].values.ravel()\n",
    "        x_test = x.loc[test]\n",
    "        y_test = y.loc[test]\n",
    "        m.fit(x_train,y_train)\n",
    "        y_pred = m.predict(x_test)\n",
    "        predictions = [round(value) for value in y_pred]\n",
    "        #sees how accurate the model was when testing the test set\n",
    "        accuracy = accuracy_score(y_test, predictions)\n",
    "        pcent = accuracy * 100.0\n",
    "        results.append(pcent)\n",
    "        if(pcent > high_w):\n",
    "            print(\"found new best classify\")\n",
    "            best_w = m\n",
    "            high_w = pcent\n",
    "    print(\"Best win percentage split = \" +str(high_w))\n",
    "    print(\"Training Testing Accuracy: %.2f%% (%.2f%%)\" % (np.mean(results), np.std(results)))\n",
    "    return best_w"
   ]
  },
  {
   "cell_type": "code",
   "execution_count": null,
   "metadata": {
    "scrolled": true
   },
   "outputs": [],
   "source": [
    "def run_all_NC(n):\n",
    "    x_data, y_label = load_data(n)\n",
    "    best_params = params_NC(x_data, y_label)\n",
    "    model = NearestCentroid(**best_params)\n",
    "    best_NC_clas = eval_NC(x_data, y_label, model)\n",
    "    pickle.dump(best_NC_clas, open(\"Models/best_NC_clas_no2020\"+str(n_games)+'_games.sav', 'wb'))"
   ]
  },
  {
   "cell_type": "code",
   "execution_count": null,
   "metadata": {},
   "outputs": [],
   "source": [
    "n_games = [1,2,3,4,5,6,7,10]\n",
    "for n in n_games:\n",
    "    run_all_NC(n)"
   ]
  },
  {
   "cell_type": "markdown",
   "metadata": {},
   "source": [
    "# BernoulliNB"
   ]
  },
  {
   "cell_type": "code",
   "execution_count": 23,
   "metadata": {},
   "outputs": [],
   "source": [
    "def params_BNB(x_data, y_label):\n",
    "# define model\n",
    "    print(\"optimising hyperparameters\")\n",
    "    model = BernoulliNB()\n",
    "    # define model evaluation method\n",
    "    cv = RepeatedStratifiedKFold(n_splits=10, n_repeats=3, random_state=1)\n",
    "    # define grid\n",
    "    grid = dict()\n",
    "    grid['alpha'] = arange(0.01, 1.01, 0.01)\n",
    "    # define search\n",
    "    search = GridSearchCV(model, grid, scoring='accuracy', cv=cv, n_jobs=1, verbose=1)\n",
    "    # perform the search\n",
    "    results = search.fit(x_data, y_label.values.ravel())\n",
    "    # summarize\n",
    "    print('Mean Accuracy: %.3f' % results.best_score_)\n",
    "    print('Config: %s' % results.best_params_)\n",
    "    return results.best_params_"
   ]
  },
  {
   "cell_type": "code",
   "execution_count": 18,
   "metadata": {},
   "outputs": [],
   "source": [
    "def eval_BNB(x, y, m):\n",
    "    cv = StratifiedKFold(n_splits=10, shuffle=True)\n",
    "    results = []\n",
    "    print(x)\n",
    "    count = 0\n",
    "    best_w = m\n",
    "    high_w = 0\n",
    "    for train,test in cv.split(x,y):\n",
    "        count = count + 1\n",
    "        print(\"Split: \" + str(count))\n",
    "        x_train = x.loc[train]\n",
    "        y_train = y.loc[train].values.ravel()\n",
    "        x_test = x.loc[test]\n",
    "        y_test = y.loc[test]\n",
    "        m.fit(x_train,y_train)\n",
    "        y_pred = m.predict(x_test)\n",
    "        predictions = [round(value) for value in y_pred]\n",
    "        #sees how accurate the model was when testing the test set\n",
    "        accuracy = accuracy_score(y_test, predictions)\n",
    "        pcent = accuracy * 100.0\n",
    "        results.append(pcent)\n",
    "        if(pcent > high_w):\n",
    "            print(\"found new best classify\")\n",
    "            best_w = m\n",
    "            high_w = pcent\n",
    "    print(\"Best win percentage split = \" +str(high_w))\n",
    "    print(\"Training Testing Accuracy: %.2f%% (%.2f%%)\" % (np.mean(results), np.std(results)))\n",
    "    return best_w"
   ]
  },
  {
   "cell_type": "code",
   "execution_count": 19,
   "metadata": {},
   "outputs": [],
   "source": [
    "def run_all_BNB(n):\n",
    "    x_data, y_label = load_data(n)\n",
    "    best_params = params_BNB(x_data, y_label)\n",
    "    model = BernoulliNB(**best_params)\n",
    "    best_BNB_clas = eval_BNB(x_data, y_label, model)\n",
    "    pickle.dump(best_BNB_clas, open(\"Models/best_BNB_clas_no2020\"+str(n_games)+'_games.sav', 'wb'))"
   ]
  },
  {
   "cell_type": "code",
   "execution_count": 24,
   "metadata": {
    "scrolled": true
   },
   "outputs": [
    {
     "name": "stdout",
     "output_type": "stream",
     "text": [
      "(1646, 1)\n",
      "(1646, 1)\n",
      "(1646, 409)\n",
      "optimising hyperparameters\n",
      "Fitting 30 folds for each of 100 candidates, totalling 3000 fits\n"
     ]
    },
    {
     "name": "stderr",
     "output_type": "stream",
     "text": [
      "[Parallel(n_jobs=1)]: Using backend SequentialBackend with 1 concurrent workers.\n",
      "[Parallel(n_jobs=1)]: Done 3000 out of 3000 | elapsed:   56.7s finished\n"
     ]
    },
    {
     "name": "stdout",
     "output_type": "stream",
     "text": [
      "Mean Accuracy: 0.602\n",
      "Config: {'alpha': 0.89}\n",
      "      Ladder Pos_H  Form_H  Season Wins_H  Season Loss_H  Season Draw_H  \\\n",
      "0             12.0     0.0            0.0            1.0            0.0   \n",
      "1              4.0     1.0            1.0            0.0            0.0   \n",
      "2              2.0     1.0            1.0            0.0            0.0   \n",
      "3             17.0     0.0            0.0            1.0            0.0   \n",
      "4              1.0     1.0            1.0            0.0            0.0   \n",
      "...            ...     ...            ...            ...            ...   \n",
      "1641           3.0     0.0           16.0            6.0            0.0   \n",
      "1642           4.0     1.0           15.0            7.0            0.0   \n",
      "1643           1.0     1.0           17.0            4.0            1.0   \n",
      "1644           2.0     1.0           17.0            5.0            0.0   \n",
      "1645           1.0     1.0           17.0            4.0            1.0   \n",
      "\n",
      "      H_H/A? n-1  H_H/A Win? n-1  H_Points For n-1  H_Points Against n-1  \\\n",
      "0            1.0             0.0              77.0                  90.0   \n",
      "1            1.0             1.0             106.0                  76.0   \n",
      "2            0.0             0.0             127.0                  59.0   \n",
      "3            1.0             0.0              59.0                 127.0   \n",
      "4            1.0             1.0             133.0                  54.0   \n",
      "...          ...             ...               ...                   ...   \n",
      "1641         1.0             0.0              43.0                  86.0   \n",
      "1642         1.0             0.0              60.0                  93.0   \n",
      "1643         0.0             0.0              93.0                  60.0   \n",
      "1644         0.0             0.0              86.0                  43.0   \n",
      "1645         0.0             0.0             125.0                  42.0   \n",
      "\n",
      "      H_Margin n-1  ...  A_Venue n-1_Mars Stadium  A_Venue n-1_Marvel Stadium  \\\n",
      "0            -13.0  ...                       0.0                         0.0   \n",
      "1             30.0  ...                       0.0                         0.0   \n",
      "2             68.0  ...                       0.0                         0.0   \n",
      "3            -68.0  ...                       0.0                         0.0   \n",
      "4             79.0  ...                       0.0                         0.0   \n",
      "...            ...  ...                       ...                         ...   \n",
      "1641         -43.0  ...                       0.0                         0.0   \n",
      "1642         -33.0  ...                       0.0                         0.0   \n",
      "1643          33.0  ...                       0.0                         0.0   \n",
      "1644          43.0  ...                       0.0                         0.0   \n",
      "1645          83.0  ...                       0.0                         0.0   \n",
      "\n",
      "      A_Venue n-1_Metricon Stadium  A_Venue n-1_Optus Stadium  \\\n",
      "0                              0.0                        0.0   \n",
      "1                              1.0                        0.0   \n",
      "2                              0.0                        0.0   \n",
      "3                              0.0                        0.0   \n",
      "4                              0.0                        0.0   \n",
      "...                            ...                        ...   \n",
      "1641                           0.0                        0.0   \n",
      "1642                           0.0                        0.0   \n",
      "1643                           0.0                        1.0   \n",
      "1644                           0.0                        0.0   \n",
      "1645                           0.0                        0.0   \n",
      "\n",
      "      A_Venue n-1_Riverway Stadium  A_Venue n-1_SCG  A_Venue n-1_TIO Stadium  \\\n",
      "0                              0.0              0.0                      0.0   \n",
      "1                              0.0              0.0                      0.0   \n",
      "2                              0.0              0.0                      0.0   \n",
      "3                              0.0              0.0                      0.0   \n",
      "4                              0.0              0.0                      0.0   \n",
      "...                            ...              ...                      ...   \n",
      "1641                           0.0              0.0                      0.0   \n",
      "1642                           0.0              0.0                      0.0   \n",
      "1643                           0.0              0.0                      0.0   \n",
      "1644                           0.0              0.0                      0.0   \n",
      "1645                           0.0              0.0                      0.0   \n",
      "\n",
      "      A_Venue n-1_TIO Traeger Park  \\\n",
      "0                              0.0   \n",
      "1                              0.0   \n",
      "2                              0.0   \n",
      "3                              0.0   \n",
      "4                              0.0   \n",
      "...                            ...   \n",
      "1641                           0.0   \n",
      "1642                           0.0   \n",
      "1643                           0.0   \n",
      "1644                           0.0   \n",
      "1645                           0.0   \n",
      "\n",
      "      A_Venue n-1_University of Tasmania Stadium  A_Venue n-1_Westpac Stadium  \n",
      "0                                            0.0                          0.0  \n",
      "1                                            0.0                          0.0  \n",
      "2                                            0.0                          0.0  \n",
      "3                                            0.0                          0.0  \n",
      "4                                            0.0                          0.0  \n",
      "...                                          ...                          ...  \n",
      "1641                                         1.0                          0.0  \n",
      "1642                                         1.0                          0.0  \n",
      "1643                                         0.0                          0.0  \n",
      "1644                                         0.0                          0.0  \n",
      "1645                                         0.0                          0.0  \n",
      "\n",
      "[1646 rows x 409 columns]\n",
      "Split: 1\n",
      "found new best classify\n",
      "Split: 2\n",
      "Split: 3\n",
      "found new best classify\n",
      "Split: 4\n",
      "Split: 5\n",
      "Split: 6\n",
      "Split: 7\n",
      "Split: 8\n",
      "Split: 9\n",
      "Split: 10\n",
      "Best win percentage split = 66.66666666666666\n",
      "Training Testing Accuracy: 60.20% (4.04%)\n",
      "(1637, 1)\n",
      "(1637, 1)\n",
      "(1637, 722)\n",
      "optimising hyperparameters\n",
      "Fitting 30 folds for each of 100 candidates, totalling 3000 fits\n"
     ]
    },
    {
     "name": "stderr",
     "output_type": "stream",
     "text": [
      "[Parallel(n_jobs=1)]: Using backend SequentialBackend with 1 concurrent workers.\n",
      "[Parallel(n_jobs=1)]: Done 3000 out of 3000 | elapsed:  1.4min finished\n"
     ]
    },
    {
     "name": "stdout",
     "output_type": "stream",
     "text": [
      "Mean Accuracy: 0.599\n",
      "Config: {'alpha': 0.7000000000000001}\n",
      "      Ladder Pos_H  Form_H  Season Wins_H  Season Loss_H  Season Draw_H  \\\n",
      "0              4.0     2.0            2.0            0.0            0.0   \n",
      "1             12.0     0.0            0.0            2.0            0.0   \n",
      "2             18.0     0.0            0.0            2.0            0.0   \n",
      "3             16.0     0.0            0.0            2.0            0.0   \n",
      "4             11.0     1.0            1.0            1.0            0.0   \n",
      "...            ...     ...            ...            ...            ...   \n",
      "1632           3.0     1.0           16.0            6.0            0.0   \n",
      "1633           4.0     2.0           15.0            7.0            0.0   \n",
      "1634           1.0     2.0           17.0            4.0            1.0   \n",
      "1635           2.0     2.0           17.0            5.0            0.0   \n",
      "1636           1.0     2.0           17.0            4.0            1.0   \n",
      "\n",
      "      H_H/A? n-1  H_H/A Win? n-1  H_Points For n-1  H_Points Against n-1  \\\n",
      "0            1.0             1.0             106.0                  78.0   \n",
      "1            1.0             0.0             108.0                 112.0   \n",
      "2            1.0             0.0              36.0                 184.0   \n",
      "3            1.0             0.0              78.0                 134.0   \n",
      "4            1.0             0.0              73.0                 114.0   \n",
      "...          ...             ...               ...                   ...   \n",
      "1632         1.0             0.0              43.0                  86.0   \n",
      "1633         1.0             0.0              60.0                  93.0   \n",
      "1634         0.0             0.0              93.0                  60.0   \n",
      "1635         0.0             0.0              86.0                  43.0   \n",
      "1636         0.0             0.0             125.0                  42.0   \n",
      "\n",
      "      H_Margin n-1  ...  A_Venue n-2_Manuka Oval  A_Venue n-2_Mars Stadium  \\\n",
      "0             28.0  ...                      0.0                       0.0   \n",
      "1             -4.0  ...                      0.0                       0.0   \n",
      "2           -148.0  ...                      0.0                       0.0   \n",
      "3            -56.0  ...                      0.0                       0.0   \n",
      "4            -41.0  ...                      0.0                       0.0   \n",
      "...            ...  ...                      ...                       ...   \n",
      "1632         -43.0  ...                      0.0                       0.0   \n",
      "1633         -33.0  ...                      0.0                       0.0   \n",
      "1634          33.0  ...                      0.0                       0.0   \n",
      "1635          43.0  ...                      0.0                       0.0   \n",
      "1636          83.0  ...                      0.0                       0.0   \n",
      "\n",
      "      A_Venue n-2_Marvel Stadium  A_Venue n-2_Metricon Stadium  \\\n",
      "0                            0.0                           0.0   \n",
      "1                            0.0                           0.0   \n",
      "2                            0.0                           0.0   \n",
      "3                            0.0                           1.0   \n",
      "4                            1.0                           0.0   \n",
      "...                          ...                           ...   \n",
      "1632                         1.0                           0.0   \n",
      "1633                         1.0                           0.0   \n",
      "1634                         0.0                           0.0   \n",
      "1635                         0.0                           0.0   \n",
      "1636                         0.0                           0.0   \n",
      "\n",
      "      A_Venue n-2_Optus Stadium  A_Venue n-2_SCG  A_Venue n-2_TIO Stadium  \\\n",
      "0                           0.0              0.0                      0.0   \n",
      "1                           0.0              0.0                      0.0   \n",
      "2                           0.0              0.0                      0.0   \n",
      "3                           0.0              0.0                      0.0   \n",
      "4                           0.0              0.0                      0.0   \n",
      "...                         ...              ...                      ...   \n",
      "1632                        0.0              0.0                      0.0   \n",
      "1633                        0.0              0.0                      0.0   \n",
      "1634                        0.0              0.0                      0.0   \n",
      "1635                        0.0              0.0                      0.0   \n",
      "1636                        0.0              0.0                      0.0   \n",
      "\n",
      "      A_Venue n-2_TIO Traeger Park  \\\n",
      "0                              0.0   \n",
      "1                              0.0   \n",
      "2                              0.0   \n",
      "3                              0.0   \n",
      "4                              0.0   \n",
      "...                            ...   \n",
      "1632                           0.0   \n",
      "1633                           0.0   \n",
      "1634                           0.0   \n",
      "1635                           0.0   \n",
      "1636                           0.0   \n",
      "\n",
      "      A_Venue n-2_University of Tasmania Stadium  A_Venue n-2_Westpac Stadium  \n",
      "0                                            0.0                          0.0  \n",
      "1                                            0.0                          0.0  \n",
      "2                                            0.0                          0.0  \n",
      "3                                            0.0                          0.0  \n",
      "4                                            0.0                          0.0  \n",
      "...                                          ...                          ...  \n",
      "1632                                         0.0                          0.0  \n",
      "1633                                         0.0                          0.0  \n",
      "1634                                         0.0                          0.0  \n",
      "1635                                         1.0                          0.0  \n",
      "1636                                         0.0                          0.0  \n",
      "\n",
      "[1637 rows x 722 columns]\n",
      "Split: 1\n",
      "found new best classify\n",
      "Split: 2\n",
      "found new best classify\n",
      "Split: 3\n",
      "Split: 4\n",
      "Split: 5\n",
      "Split: 6\n",
      "found new best classify\n",
      "Split: 7\n",
      "Split: 8\n",
      "Split: 9\n",
      "Split: 10\n",
      "Best win percentage split = 67.07317073170732\n",
      "Training Testing Accuracy: 60.54% (3.92%)\n",
      "(1628, 1)\n",
      "(1628, 1)\n",
      "(1628, 1036)\n",
      "optimising hyperparameters\n",
      "Fitting 30 folds for each of 100 candidates, totalling 3000 fits\n"
     ]
    },
    {
     "name": "stderr",
     "output_type": "stream",
     "text": [
      "[Parallel(n_jobs=1)]: Using backend SequentialBackend with 1 concurrent workers.\n",
      "[Parallel(n_jobs=1)]: Done 3000 out of 3000 | elapsed:  1.9min finished\n"
     ]
    },
    {
     "name": "stdout",
     "output_type": "stream",
     "text": [
      "Mean Accuracy: 0.611\n",
      "Config: {'alpha': 0.46}\n",
      "      Ladder Pos_H  Form_H  Season Wins_H  Season Loss_H  Season Draw_H  \\\n",
      "0              3.0     3.0            3.0            0.0            0.0   \n",
      "1              6.0     2.0            2.0            1.0            0.0   \n",
      "2              4.0     3.0            3.0            0.0            0.0   \n",
      "3              9.0     1.0            1.0            2.0            0.0   \n",
      "4             10.0     1.0            1.0            2.0            0.0   \n",
      "...            ...     ...            ...            ...            ...   \n",
      "1623           3.0     1.0           16.0            6.0            0.0   \n",
      "1624           4.0     3.0           15.0            7.0            0.0   \n",
      "1625           1.0     3.0           17.0            4.0            1.0   \n",
      "1626           2.0     3.0           17.0            5.0            0.0   \n",
      "1627           1.0     3.0           17.0            4.0            1.0   \n",
      "\n",
      "      H_H/A? n-1  H_H/A Win? n-1  H_Points For n-1  H_Points Against n-1  \\\n",
      "0            1.0             1.0             131.0                  92.0   \n",
      "1            1.0             1.0             145.0                  90.0   \n",
      "2            0.0             0.0             135.0                  68.0   \n",
      "3            1.0             1.0             140.0                  68.0   \n",
      "4            1.0             1.0             177.0                  83.0   \n",
      "...          ...             ...               ...                   ...   \n",
      "1623         1.0             0.0              43.0                  86.0   \n",
      "1624         1.0             0.0              60.0                  93.0   \n",
      "1625         0.0             0.0              93.0                  60.0   \n",
      "1626         0.0             0.0              86.0                  43.0   \n",
      "1627         0.0             0.0             125.0                  42.0   \n",
      "\n",
      "      H_Margin n-1  ...  A_Venue n-3_Mars Stadium  A_Venue n-3_Marvel Stadium  \\\n",
      "0             39.0  ...                       0.0                         0.0   \n",
      "1             55.0  ...                       0.0                         0.0   \n",
      "2             67.0  ...                       0.0                         1.0   \n",
      "3             72.0  ...                       0.0                         0.0   \n",
      "4             94.0  ...                       0.0                         0.0   \n",
      "...            ...  ...                       ...                         ...   \n",
      "1623         -43.0  ...                       0.0                         1.0   \n",
      "1624         -33.0  ...                       0.0                         0.0   \n",
      "1625          33.0  ...                       0.0                         0.0   \n",
      "1626          43.0  ...                       0.0                         1.0   \n",
      "1627          83.0  ...                       0.0                         0.0   \n",
      "\n",
      "      A_Venue n-3_Metricon Stadium  A_Venue n-3_Optus Stadium  \\\n",
      "0                              0.0                        0.0   \n",
      "1                              0.0                        0.0   \n",
      "2                              0.0                        0.0   \n",
      "3                              0.0                        0.0   \n",
      "4                              0.0                        0.0   \n",
      "...                            ...                        ...   \n",
      "1623                           0.0                        0.0   \n",
      "1624                           0.0                        0.0   \n",
      "1625                           0.0                        0.0   \n",
      "1626                           0.0                        0.0   \n",
      "1627                           0.0                        0.0   \n",
      "\n",
      "      A_Venue n-3_Riverway Stadium  A_Venue n-3_SCG  A_Venue n-3_TIO Stadium  \\\n",
      "0                              0.0              0.0                      0.0   \n",
      "1                              0.0              0.0                      0.0   \n",
      "2                              0.0              0.0                      0.0   \n",
      "3                              0.0              0.0                      0.0   \n",
      "4                              0.0              0.0                      0.0   \n",
      "...                            ...              ...                      ...   \n",
      "1623                           0.0              0.0                      0.0   \n",
      "1624                           0.0              0.0                      0.0   \n",
      "1625                           0.0              0.0                      0.0   \n",
      "1626                           0.0              0.0                      0.0   \n",
      "1627                           0.0              0.0                      0.0   \n",
      "\n",
      "      A_Venue n-3_TIO Traeger Park  \\\n",
      "0                              0.0   \n",
      "1                              0.0   \n",
      "2                              0.0   \n",
      "3                              0.0   \n",
      "4                              0.0   \n",
      "...                            ...   \n",
      "1623                           0.0   \n",
      "1624                           0.0   \n",
      "1625                           0.0   \n",
      "1626                           0.0   \n",
      "1627                           0.0   \n",
      "\n",
      "      A_Venue n-3_University of Tasmania Stadium  A_Venue n-3_Westpac Stadium  \n",
      "0                                            0.0                          0.0  \n",
      "1                                            0.0                          0.0  \n",
      "2                                            0.0                          0.0  \n",
      "3                                            0.0                          0.0  \n",
      "4                                            0.0                          0.0  \n",
      "...                                          ...                          ...  \n",
      "1623                                         0.0                          0.0  \n",
      "1624                                         1.0                          0.0  \n",
      "1625                                         0.0                          0.0  \n",
      "1626                                         0.0                          0.0  \n",
      "1627                                         1.0                          0.0  \n",
      "\n",
      "[1628 rows x 1036 columns]\n",
      "Split: 1\n",
      "found new best classify\n",
      "Split: 2\n",
      "found new best classify\n",
      "Split: 3\n",
      "Split: 4\n",
      "Split: 5\n",
      "Split: 6\n",
      "Split: 7\n",
      "Split: 8\n",
      "Split: 9\n",
      "Split: 10\n",
      "Best win percentage split = 66.25766871165644\n",
      "Training Testing Accuracy: 61.12% (3.22%)\n",
      "(1619, 1)\n",
      "(1619, 1)\n",
      "(1619, 1349)\n",
      "optimising hyperparameters\n",
      "Fitting 30 folds for each of 100 candidates, totalling 3000 fits\n"
     ]
    },
    {
     "name": "stderr",
     "output_type": "stream",
     "text": [
      "[Parallel(n_jobs=1)]: Using backend SequentialBackend with 1 concurrent workers.\n",
      "[Parallel(n_jobs=1)]: Done 3000 out of 3000 | elapsed:  2.7min finished\n"
     ]
    },
    {
     "name": "stdout",
     "output_type": "stream",
     "text": [
      "Mean Accuracy: 0.610\n",
      "Config: {'alpha': 0.42000000000000004}\n",
      "      Ladder Pos_H  Form_H  Season Wins_H  Season Loss_H  Season Draw_H  \\\n",
      "0              1.0     4.0            4.0            0.0            0.0   \n",
      "1             10.0     1.0            1.0            3.0            0.0   \n",
      "2              9.0     2.0            2.0            2.0            0.0   \n",
      "3             18.0     0.0            0.0            4.0            0.0   \n",
      "4             13.0     1.0            1.0            3.0            0.0   \n",
      "...            ...     ...            ...            ...            ...   \n",
      "1614           3.0     2.0           16.0            6.0            0.0   \n",
      "1615           4.0     3.0           15.0            7.0            0.0   \n",
      "1616           1.0     4.0           17.0            4.0            1.0   \n",
      "1617           2.0     4.0           17.0            5.0            0.0   \n",
      "1618           1.0     4.0           17.0            4.0            1.0   \n",
      "\n",
      "      H_H/A? n-1  H_H/A Win? n-1  H_Points For n-1  H_Points Against n-1  \\\n",
      "0            1.0             1.0             128.0                  91.0   \n",
      "1            0.0             1.0              91.0                 128.0   \n",
      "2            1.0             0.0              76.0                 118.0   \n",
      "3            1.0             0.0             103.0                 144.0   \n",
      "4            1.0             1.0              89.0                  65.0   \n",
      "...          ...             ...               ...                   ...   \n",
      "1614         1.0             0.0              43.0                  86.0   \n",
      "1615         1.0             0.0              60.0                  93.0   \n",
      "1616         0.0             0.0              93.0                  60.0   \n",
      "1617         0.0             0.0              86.0                  43.0   \n",
      "1618         0.0             0.0             125.0                  42.0   \n",
      "\n",
      "      H_Margin n-1  ...  A_Venue n-4_Mars Stadium  A_Venue n-4_Marvel Stadium  \\\n",
      "0             37.0  ...                       0.0                         1.0   \n",
      "1            -37.0  ...                       0.0                         0.0   \n",
      "2            -42.0  ...                       0.0                         0.0   \n",
      "3            -41.0  ...                       0.0                         0.0   \n",
      "4             24.0  ...                       0.0                         0.0   \n",
      "...            ...  ...                       ...                         ...   \n",
      "1614         -43.0  ...                       0.0                         0.0   \n",
      "1615         -33.0  ...                       0.0                         1.0   \n",
      "1616          33.0  ...                       0.0                         0.0   \n",
      "1617          43.0  ...                       0.0                         0.0   \n",
      "1618          83.0  ...                       0.0                         1.0   \n",
      "\n",
      "      A_Venue n-4_Metricon Stadium  A_Venue n-4_Optus Stadium  \\\n",
      "0                              0.0                        0.0   \n",
      "1                              0.0                        0.0   \n",
      "2                              0.0                        0.0   \n",
      "3                              1.0                        0.0   \n",
      "4                              0.0                        0.0   \n",
      "...                            ...                        ...   \n",
      "1614                           0.0                        0.0   \n",
      "1615                           0.0                        0.0   \n",
      "1616                           0.0                        0.0   \n",
      "1617                           0.0                        0.0   \n",
      "1618                           0.0                        0.0   \n",
      "\n",
      "      A_Venue n-4_Riverway Stadium  A_Venue n-4_SCG  A_Venue n-4_TIO Stadium  \\\n",
      "0                              0.0              0.0                      0.0   \n",
      "1                              0.0              0.0                      0.0   \n",
      "2                              0.0              0.0                      0.0   \n",
      "3                              0.0              0.0                      0.0   \n",
      "4                              0.0              0.0                      0.0   \n",
      "...                            ...              ...                      ...   \n",
      "1614                           0.0              0.0                      0.0   \n",
      "1615                           0.0              0.0                      0.0   \n",
      "1616                           0.0              0.0                      0.0   \n",
      "1617                           0.0              0.0                      0.0   \n",
      "1618                           0.0              0.0                      0.0   \n",
      "\n",
      "      A_Venue n-4_TIO Traeger Park  \\\n",
      "0                              0.0   \n",
      "1                              0.0   \n",
      "2                              0.0   \n",
      "3                              0.0   \n",
      "4                              0.0   \n",
      "...                            ...   \n",
      "1614                           0.0   \n",
      "1615                           0.0   \n",
      "1616                           0.0   \n",
      "1617                           0.0   \n",
      "1618                           0.0   \n",
      "\n",
      "      A_Venue n-4_University of Tasmania Stadium  A_Venue n-4_Westpac Stadium  \n",
      "0                                            0.0                          0.0  \n",
      "1                                            0.0                          0.0  \n",
      "2                                            0.0                          0.0  \n",
      "3                                            0.0                          0.0  \n",
      "4                                            0.0                          0.0  \n",
      "...                                          ...                          ...  \n",
      "1614                                         0.0                          0.0  \n",
      "1615                                         0.0                          0.0  \n",
      "1616                                         0.0                          0.0  \n",
      "1617                                         1.0                          0.0  \n",
      "1618                                         0.0                          0.0  \n",
      "\n",
      "[1619 rows x 1349 columns]\n",
      "Split: 1\n",
      "found new best classify\n",
      "Split: 2\n",
      "found new best classify\n",
      "Split: 3\n",
      "Split: 4\n",
      "found new best classify\n",
      "Split: 5\n",
      "Split: 6\n",
      "Split: 7\n",
      "found new best classify\n",
      "Split: 8\n",
      "Split: 9\n",
      "Split: 10\n",
      "Best win percentage split = 62.96296296296296\n",
      "Training Testing Accuracy: 59.30% (2.67%)\n",
      "(1610, 1)\n",
      "(1610, 1)\n",
      "(1610, 1662)\n",
      "optimising hyperparameters\n",
      "Fitting 30 folds for each of 100 candidates, totalling 3000 fits\n"
     ]
    },
    {
     "name": "stderr",
     "output_type": "stream",
     "text": [
      "[Parallel(n_jobs=1)]: Using backend SequentialBackend with 1 concurrent workers.\n",
      "[Parallel(n_jobs=1)]: Done 3000 out of 3000 | elapsed:  3.4min finished\n"
     ]
    },
    {
     "name": "stdout",
     "output_type": "stream",
     "text": [
      "Mean Accuracy: 0.617\n",
      "Config: {'alpha': 1.0}\n",
      "      Ladder Pos_H  Form_H  Season Wins_H  Season Loss_H  Season Draw_H  \\\n",
      "0              8.0     3.0            3.0            2.0            0.0   \n",
      "1              1.0     5.0            5.0            0.0            0.0   \n",
      "2             13.0     1.0            1.0            4.0            0.0   \n",
      "3             10.0     2.0            2.0            3.0            0.0   \n",
      "4             11.0     2.0            2.0            3.0            0.0   \n",
      "...            ...     ...            ...            ...            ...   \n",
      "1605           3.0     3.0           16.0            6.0            0.0   \n",
      "1606           4.0     4.0           15.0            7.0            0.0   \n",
      "1607           1.0     4.0           17.0            4.0            1.0   \n",
      "1608           2.0     5.0           17.0            5.0            0.0   \n",
      "1609           1.0     4.0           17.0            4.0            1.0   \n",
      "\n",
      "      H_H/A? n-1  H_H/A Win? n-1  H_Points For n-1  H_Points Against n-1  \\\n",
      "0            1.0             0.0              75.0                 121.0   \n",
      "1            0.0             0.0             121.0                  75.0   \n",
      "2            1.0             0.0              96.0                  99.0   \n",
      "3            1.0             0.0              83.0                 115.0   \n",
      "4            1.0             1.0             148.0                 104.0   \n",
      "...          ...             ...               ...                   ...   \n",
      "1605         1.0             0.0              43.0                  86.0   \n",
      "1606         1.0             0.0              60.0                  93.0   \n",
      "1607         0.0             0.0              93.0                  60.0   \n",
      "1608         0.0             0.0              86.0                  43.0   \n",
      "1609         0.0             0.0             125.0                  42.0   \n",
      "\n",
      "      H_Margin n-1  ...  A_Venue n-5_Manuka Oval  A_Venue n-5_Mars Stadium  \\\n",
      "0            -46.0  ...                      0.0                       0.0   \n",
      "1             46.0  ...                      0.0                       0.0   \n",
      "2             -3.0  ...                      0.0                       0.0   \n",
      "3            -32.0  ...                      0.0                       0.0   \n",
      "4             44.0  ...                      0.0                       0.0   \n",
      "...            ...  ...                      ...                       ...   \n",
      "1605         -43.0  ...                      0.0                       0.0   \n",
      "1606         -33.0  ...                      0.0                       1.0   \n",
      "1607          33.0  ...                      0.0                       0.0   \n",
      "1608          43.0  ...                      0.0                       0.0   \n",
      "1609          83.0  ...                      0.0                       0.0   \n",
      "\n",
      "      A_Venue n-5_Marvel Stadium  A_Venue n-5_Metricon Stadium  \\\n",
      "0                            0.0                           1.0   \n",
      "1                            0.0                           0.0   \n",
      "2                            0.0                           0.0   \n",
      "3                            0.0                           0.0   \n",
      "4                            0.0                           0.0   \n",
      "...                          ...                           ...   \n",
      "1605                         1.0                           0.0   \n",
      "1606                         0.0                           0.0   \n",
      "1607                         0.0                           0.0   \n",
      "1608                         1.0                           0.0   \n",
      "1609                         0.0                           0.0   \n",
      "\n",
      "      A_Venue n-5_Optus Stadium  A_Venue n-5_SCG  A_Venue n-5_TIO Stadium  \\\n",
      "0                           0.0              0.0                      0.0   \n",
      "1                           0.0              0.0                      0.0   \n",
      "2                           0.0              0.0                      0.0   \n",
      "3                           0.0              0.0                      0.0   \n",
      "4                           0.0              0.0                      0.0   \n",
      "...                         ...              ...                      ...   \n",
      "1605                        0.0              0.0                      0.0   \n",
      "1606                        0.0              0.0                      0.0   \n",
      "1607                        0.0              0.0                      0.0   \n",
      "1608                        0.0              0.0                      0.0   \n",
      "1609                        0.0              0.0                      0.0   \n",
      "\n",
      "      A_Venue n-5_TIO Traeger Park  \\\n",
      "0                              0.0   \n",
      "1                              0.0   \n",
      "2                              0.0   \n",
      "3                              0.0   \n",
      "4                              0.0   \n",
      "...                            ...   \n",
      "1605                           0.0   \n",
      "1606                           0.0   \n",
      "1607                           0.0   \n",
      "1608                           0.0   \n",
      "1609                           0.0   \n",
      "\n",
      "      A_Venue n-5_University of Tasmania Stadium  A_Venue n-5_Westpac Stadium  \n",
      "0                                            0.0                          0.0  \n",
      "1                                            0.0                          0.0  \n",
      "2                                            0.0                          0.0  \n",
      "3                                            0.0                          0.0  \n",
      "4                                            0.0                          0.0  \n",
      "...                                          ...                          ...  \n",
      "1605                                         0.0                          0.0  \n",
      "1606                                         0.0                          0.0  \n",
      "1607                                         0.0                          0.0  \n",
      "1608                                         0.0                          0.0  \n",
      "1609                                         1.0                          0.0  \n",
      "\n",
      "[1610 rows x 1662 columns]\n",
      "Split: 1\n",
      "found new best classify\n",
      "Split: 2\n",
      "Split: 3\n",
      "Split: 4\n",
      "Split: 5\n",
      "Split: 6\n",
      "Split: 7\n",
      "Split: 8\n",
      "Split: 9\n",
      "Split: 10\n",
      "Best win percentage split = 67.70186335403726\n",
      "Training Testing Accuracy: 60.56% (3.46%)\n",
      "(1601, 1)\n",
      "(1601, 1)\n",
      "(1601, 1976)\n",
      "optimising hyperparameters\n",
      "Fitting 30 folds for each of 100 candidates, totalling 3000 fits\n"
     ]
    },
    {
     "name": "stderr",
     "output_type": "stream",
     "text": [
      "[Parallel(n_jobs=1)]: Using backend SequentialBackend with 1 concurrent workers.\n",
      "[Parallel(n_jobs=1)]: Done 3000 out of 3000 | elapsed:  3.9min finished\n"
     ]
    },
    {
     "name": "stdout",
     "output_type": "stream",
     "text": [
      "Mean Accuracy: 0.611\n",
      "Config: {'alpha': 0.9500000000000001}\n",
      "      Ladder Pos_H  Form_H  Season Wins_H  Season Loss_H  Season Draw_H  \\\n",
      "0              2.0     6.0            6.0            0.0            0.0   \n",
      "1              3.0     5.0            5.0            1.0            0.0   \n",
      "2             14.0     2.0            2.0            4.0            0.0   \n",
      "3             16.0     1.0            1.0            5.0            0.0   \n",
      "4              6.0     4.0            4.0            2.0            0.0   \n",
      "...            ...     ...            ...            ...            ...   \n",
      "1596           3.0     4.0           16.0            6.0            0.0   \n",
      "1597           4.0     4.0           15.0            7.0            0.0   \n",
      "1598           1.0     4.0           17.0            4.0            1.0   \n",
      "1599           2.0     6.0           17.0            5.0            0.0   \n",
      "1600           1.0     4.0           17.0            4.0            1.0   \n",
      "\n",
      "      H_H/A? n-1  H_H/A Win? n-1  H_Points For n-1  H_Points Against n-1  \\\n",
      "0            1.0             1.0             131.0                  87.0   \n",
      "1            1.0             0.0              83.0                  93.0   \n",
      "2            1.0             0.0              55.0                 115.0   \n",
      "3            1.0             0.0              67.0                 137.0   \n",
      "4            1.0             1.0              99.0                  54.0   \n",
      "...          ...             ...               ...                   ...   \n",
      "1596         1.0             0.0              43.0                  86.0   \n",
      "1597         1.0             0.0              60.0                  93.0   \n",
      "1598         0.0             0.0              93.0                  60.0   \n",
      "1599         0.0             0.0              86.0                  43.0   \n",
      "1600         0.0             0.0             125.0                  42.0   \n",
      "\n",
      "      H_Margin n-1  ...  A_Venue n-6_Mars Stadium  A_Venue n-6_Marvel Stadium  \\\n",
      "0             44.0  ...                       0.0                         0.0   \n",
      "1            -10.0  ...                       0.0                         0.0   \n",
      "2            -60.0  ...                       0.0                         0.0   \n",
      "3            -70.0  ...                       0.0                         1.0   \n",
      "4             45.0  ...                       0.0                         1.0   \n",
      "...            ...  ...                       ...                         ...   \n",
      "1596         -43.0  ...                       0.0                         0.0   \n",
      "1597         -33.0  ...                       0.0                         0.0   \n",
      "1598          33.0  ...                       0.0                         0.0   \n",
      "1599          43.0  ...                       1.0                         0.0   \n",
      "1600          83.0  ...                       0.0                         1.0   \n",
      "\n",
      "      A_Venue n-6_Metricon Stadium  A_Venue n-6_Optus Stadium  \\\n",
      "0                              0.0                        0.0   \n",
      "1                              0.0                        0.0   \n",
      "2                              0.0                        0.0   \n",
      "3                              0.0                        0.0   \n",
      "4                              0.0                        0.0   \n",
      "...                            ...                        ...   \n",
      "1596                           1.0                        0.0   \n",
      "1597                           0.0                        0.0   \n",
      "1598                           0.0                        0.0   \n",
      "1599                           0.0                        0.0   \n",
      "1600                           0.0                        0.0   \n",
      "\n",
      "      A_Venue n-6_Riverway Stadium  A_Venue n-6_SCG  A_Venue n-6_TIO Stadium  \\\n",
      "0                              0.0              0.0                      0.0   \n",
      "1                              0.0              0.0                      0.0   \n",
      "2                              0.0              0.0                      0.0   \n",
      "3                              0.0              0.0                      0.0   \n",
      "4                              0.0              0.0                      0.0   \n",
      "...                            ...              ...                      ...   \n",
      "1596                           0.0              0.0                      0.0   \n",
      "1597                           0.0              0.0                      0.0   \n",
      "1598                           0.0              0.0                      0.0   \n",
      "1599                           0.0              0.0                      0.0   \n",
      "1600                           0.0              0.0                      0.0   \n",
      "\n",
      "      A_Venue n-6_TIO Traeger Park  \\\n",
      "0                              0.0   \n",
      "1                              0.0   \n",
      "2                              0.0   \n",
      "3                              0.0   \n",
      "4                              0.0   \n",
      "...                            ...   \n",
      "1596                           0.0   \n",
      "1597                           0.0   \n",
      "1598                           0.0   \n",
      "1599                           0.0   \n",
      "1600                           0.0   \n",
      "\n",
      "      A_Venue n-6_University of Tasmania Stadium  A_Venue n-6_Westpac Stadium  \n",
      "0                                            0.0                          0.0  \n",
      "1                                            0.0                          0.0  \n",
      "2                                            0.0                          0.0  \n",
      "3                                            0.0                          0.0  \n",
      "4                                            0.0                          0.0  \n",
      "...                                          ...                          ...  \n",
      "1596                                         0.0                          0.0  \n",
      "1597                                         0.0                          0.0  \n",
      "1598                                         0.0                          0.0  \n",
      "1599                                         0.0                          0.0  \n",
      "1600                                         0.0                          0.0  \n",
      "\n",
      "[1601 rows x 1976 columns]\n",
      "Split: 1\n",
      "found new best classify\n",
      "Split: 2\n",
      "Split: 3\n",
      "found new best classify\n",
      "Split: 4\n",
      "Split: 5\n",
      "Split: 6\n",
      "Split: 7\n",
      "Split: 8\n",
      "Split: 9\n",
      "Split: 10\n",
      "Best win percentage split = 70.0\n",
      "Training Testing Accuracy: 61.34% (5.52%)\n",
      "(1592, 1)\n",
      "(1592, 1)\n",
      "(1592, 2289)\n",
      "optimising hyperparameters\n",
      "Fitting 30 folds for each of 100 candidates, totalling 3000 fits\n"
     ]
    },
    {
     "name": "stderr",
     "output_type": "stream",
     "text": [
      "[Parallel(n_jobs=1)]: Using backend SequentialBackend with 1 concurrent workers.\n",
      "[Parallel(n_jobs=1)]: Done 3000 out of 3000 | elapsed:  4.8min finished\n"
     ]
    },
    {
     "name": "stdout",
     "output_type": "stream",
     "text": [
      "Mean Accuracy: 0.608\n",
      "Config: {'alpha': 1.0}\n",
      "      Ladder Pos_H  Form_H  Season Wins_H  Season Loss_H  Season Draw_H  \\\n",
      "0             10.0     3.0            3.0            4.0            0.0   \n",
      "1              2.0     6.0            6.0            1.0            0.0   \n",
      "2              3.0     6.0            6.0            1.0            0.0   \n",
      "3             13.0     3.0            3.0            4.0            0.0   \n",
      "4              5.0     5.0            5.0            2.0            0.0   \n",
      "...            ...     ...            ...            ...            ...   \n",
      "1587           3.0     5.0           16.0            6.0            0.0   \n",
      "1588           4.0     4.0           15.0            7.0            0.0   \n",
      "1589           1.0     5.0           17.0            4.0            1.0   \n",
      "1590           2.0     6.0           17.0            5.0            0.0   \n",
      "1591           1.0     5.0           17.0            4.0            1.0   \n",
      "\n",
      "      H_H/A? n-1  H_H/A Win? n-1  H_Points For n-1  H_Points Against n-1  \\\n",
      "0            1.0             1.0             108.0                  82.0   \n",
      "1            1.0             0.0              85.0                 113.0   \n",
      "2            0.0             0.0             119.0                  82.0   \n",
      "3            1.0             1.0             114.0                  54.0   \n",
      "4            1.0             0.0              82.0                 119.0   \n",
      "...          ...             ...               ...                   ...   \n",
      "1587         1.0             0.0              43.0                  86.0   \n",
      "1588         1.0             0.0              60.0                  93.0   \n",
      "1589         0.0             0.0              93.0                  60.0   \n",
      "1590         0.0             0.0              86.0                  43.0   \n",
      "1591         0.0             0.0             125.0                  42.0   \n",
      "\n",
      "      H_Margin n-1  ...  A_Venue n-7_Mars Stadium  A_Venue n-7_Marvel Stadium  \\\n",
      "0             26.0  ...                       0.0                         1.0   \n",
      "1            -28.0  ...                       0.0                         1.0   \n",
      "2             37.0  ...                       0.0                         0.0   \n",
      "3             60.0  ...                       0.0                         1.0   \n",
      "4            -37.0  ...                       0.0                         0.0   \n",
      "...            ...  ...                       ...                         ...   \n",
      "1587         -43.0  ...                       0.0                         0.0   \n",
      "1588         -33.0  ...                       0.0                         0.0   \n",
      "1589          33.0  ...                       0.0                         0.0   \n",
      "1590          43.0  ...                       0.0                         0.0   \n",
      "1591          83.0  ...                       1.0                         0.0   \n",
      "\n",
      "      A_Venue n-7_Metricon Stadium  A_Venue n-7_Optus Stadium  \\\n",
      "0                              0.0                        0.0   \n",
      "1                              0.0                        0.0   \n",
      "2                              0.0                        0.0   \n",
      "3                              0.0                        0.0   \n",
      "4                              0.0                        0.0   \n",
      "...                            ...                        ...   \n",
      "1587                           1.0                        0.0   \n",
      "1588                           1.0                        0.0   \n",
      "1589                           0.0                        0.0   \n",
      "1590                           0.0                        0.0   \n",
      "1591                           0.0                        0.0   \n",
      "\n",
      "      A_Venue n-7_Riverway Stadium  A_Venue n-7_SCG  A_Venue n-7_TIO Stadium  \\\n",
      "0                              0.0              0.0                      0.0   \n",
      "1                              0.0              0.0                      0.0   \n",
      "2                              0.0              0.0                      0.0   \n",
      "3                              0.0              0.0                      0.0   \n",
      "4                              0.0              0.0                      0.0   \n",
      "...                            ...              ...                      ...   \n",
      "1587                           0.0              0.0                      0.0   \n",
      "1588                           0.0              0.0                      0.0   \n",
      "1589                           0.0              0.0                      0.0   \n",
      "1590                           0.0              0.0                      0.0   \n",
      "1591                           0.0              0.0                      0.0   \n",
      "\n",
      "      A_Venue n-7_TIO Traeger Park  \\\n",
      "0                              0.0   \n",
      "1                              0.0   \n",
      "2                              0.0   \n",
      "3                              0.0   \n",
      "4                              0.0   \n",
      "...                            ...   \n",
      "1587                           0.0   \n",
      "1588                           0.0   \n",
      "1589                           0.0   \n",
      "1590                           0.0   \n",
      "1591                           0.0   \n",
      "\n",
      "      A_Venue n-7_University of Tasmania Stadium  A_Venue n-7_Westpac Stadium  \n",
      "0                                            0.0                          0.0  \n",
      "1                                            0.0                          0.0  \n",
      "2                                            0.0                          0.0  \n",
      "3                                            0.0                          0.0  \n",
      "4                                            0.0                          0.0  \n",
      "...                                          ...                          ...  \n",
      "1587                                         0.0                          0.0  \n",
      "1588                                         0.0                          0.0  \n",
      "1589                                         0.0                          0.0  \n",
      "1590                                         0.0                          0.0  \n",
      "1591                                         0.0                          0.0  \n",
      "\n",
      "[1592 rows x 2289 columns]\n",
      "Split: 1\n",
      "found new best classify\n",
      "Split: 2\n",
      "Split: 3\n",
      "Split: 4\n",
      "Split: 5\n",
      "found new best classify\n",
      "Split: 6\n",
      "Split: 7\n",
      "Split: 8\n",
      "Split: 9\n",
      "Split: 10\n",
      "Best win percentage split = 69.18238993710692\n",
      "Training Testing Accuracy: 60.87% (3.24%)\n",
      "(1565, 1)\n",
      "(1565, 1)\n",
      "(1565, 3228)\n",
      "optimising hyperparameters\n",
      "Fitting 30 folds for each of 100 candidates, totalling 3000 fits\n"
     ]
    },
    {
     "name": "stderr",
     "output_type": "stream",
     "text": [
      "[Parallel(n_jobs=1)]: Using backend SequentialBackend with 1 concurrent workers.\n",
      "[Parallel(n_jobs=1)]: Done 3000 out of 3000 | elapsed:  6.8min finished\n"
     ]
    },
    {
     "name": "stdout",
     "output_type": "stream",
     "text": [
      "Mean Accuracy: 0.603\n",
      "Config: {'alpha': 0.060000000000000005}\n",
      "      Ladder Pos_H  Form_H  Season Wins_H  Season Loss_H  Season Draw_H  \\\n",
      "0              5.0     7.0            7.0            3.0            0.0   \n",
      "1             18.0     0.0            0.0           10.0            0.0   \n",
      "2              9.0     5.0            5.0            5.0            0.0   \n",
      "3             13.0     4.0            4.0            6.0            0.0   \n",
      "4             16.0     2.0            2.0            8.0            0.0   \n",
      "...            ...     ...            ...            ...            ...   \n",
      "1560           3.0     7.0           16.0            6.0            0.0   \n",
      "1561           4.0     7.0           15.0            7.0            0.0   \n",
      "1562           1.0     6.0           17.0            4.0            1.0   \n",
      "1563           2.0     9.0           17.0            5.0            0.0   \n",
      "1564           1.0     6.0           17.0            4.0            1.0   \n",
      "\n",
      "      H_H/A? n-1  H_H/A Win? n-1  H_Points For n-1  H_Points Against n-1  \\\n",
      "0            1.0             0.0              71.0                 115.0   \n",
      "1            1.0             0.0              54.0                 148.0   \n",
      "2            0.0             1.0              59.0                  66.0   \n",
      "3            1.0             0.0              71.0                 123.0   \n",
      "4            1.0             0.0              65.0                 133.0   \n",
      "...          ...             ...               ...                   ...   \n",
      "1560         1.0             0.0              43.0                  86.0   \n",
      "1561         1.0             0.0              60.0                  93.0   \n",
      "1562         0.0             0.0              93.0                  60.0   \n",
      "1563         0.0             0.0              86.0                  43.0   \n",
      "1564         0.0             0.0             125.0                  42.0   \n",
      "\n",
      "      H_Margin n-1  ...  A_Venue n-10_Mars Stadium  \\\n",
      "0            -44.0  ...                        0.0   \n",
      "1            -94.0  ...                        0.0   \n",
      "2             -7.0  ...                        0.0   \n",
      "3            -52.0  ...                        0.0   \n",
      "4            -68.0  ...                        0.0   \n",
      "...            ...  ...                        ...   \n",
      "1560         -43.0  ...                        0.0   \n",
      "1561         -33.0  ...                        0.0   \n",
      "1562          33.0  ...                        0.0   \n",
      "1563          43.0  ...                        0.0   \n",
      "1564          83.0  ...                        0.0   \n",
      "\n",
      "      A_Venue n-10_Marvel Stadium  A_Venue n-10_Metricon Stadium  \\\n",
      "0                             0.0                            0.0   \n",
      "1                             0.0                            0.0   \n",
      "2                             0.0                            0.0   \n",
      "3                             1.0                            0.0   \n",
      "4                             0.0                            0.0   \n",
      "...                           ...                            ...   \n",
      "1560                          0.0                            0.0   \n",
      "1561                          0.0                            0.0   \n",
      "1562                          0.0                            0.0   \n",
      "1563                          1.0                            0.0   \n",
      "1564                          1.0                            0.0   \n",
      "\n",
      "      A_Venue n-10_Optus Stadium  A_Venue n-10_Riverway Stadium  \\\n",
      "0                            0.0                            0.0   \n",
      "1                            0.0                            0.0   \n",
      "2                            0.0                            0.0   \n",
      "3                            0.0                            0.0   \n",
      "4                            0.0                            0.0   \n",
      "...                          ...                            ...   \n",
      "1560                         0.0                            0.0   \n",
      "1561                         1.0                            0.0   \n",
      "1562                         0.0                            0.0   \n",
      "1563                         0.0                            0.0   \n",
      "1564                         0.0                            0.0   \n",
      "\n",
      "      A_Venue n-10_SCG  A_Venue n-10_TIO Stadium  \\\n",
      "0                  0.0                       0.0   \n",
      "1                  0.0                       0.0   \n",
      "2                  0.0                       0.0   \n",
      "3                  0.0                       0.0   \n",
      "4                  0.0                       0.0   \n",
      "...                ...                       ...   \n",
      "1560               0.0                       0.0   \n",
      "1561               0.0                       0.0   \n",
      "1562               0.0                       0.0   \n",
      "1563               0.0                       0.0   \n",
      "1564               0.0                       0.0   \n",
      "\n",
      "      A_Venue n-10_TIO Traeger Park  \\\n",
      "0                               0.0   \n",
      "1                               0.0   \n",
      "2                               0.0   \n",
      "3                               0.0   \n",
      "4                               0.0   \n",
      "...                             ...   \n",
      "1560                            0.0   \n",
      "1561                            0.0   \n",
      "1562                            0.0   \n",
      "1563                            0.0   \n",
      "1564                            0.0   \n",
      "\n",
      "      A_Venue n-10_University of Tasmania Stadium  \\\n",
      "0                                             0.0   \n",
      "1                                             0.0   \n",
      "2                                             0.0   \n",
      "3                                             0.0   \n",
      "4                                             0.0   \n",
      "...                                           ...   \n",
      "1560                                          0.0   \n",
      "1561                                          0.0   \n",
      "1562                                          0.0   \n",
      "1563                                          0.0   \n",
      "1564                                          0.0   \n",
      "\n",
      "      A_Venue n-10_Westpac Stadium  \n",
      "0                              0.0  \n",
      "1                              0.0  \n",
      "2                              0.0  \n",
      "3                              0.0  \n",
      "4                              0.0  \n",
      "...                            ...  \n",
      "1560                           0.0  \n",
      "1561                           0.0  \n",
      "1562                           0.0  \n",
      "1563                           0.0  \n",
      "1564                           0.0  \n",
      "\n",
      "[1565 rows x 3228 columns]\n",
      "Split: 1\n",
      "found new best classify\n",
      "Split: 2\n",
      "found new best classify\n",
      "Split: 3\n",
      "Split: 4\n",
      "Split: 5\n",
      "Split: 6\n",
      "Split: 7\n",
      "Split: 8\n",
      "Split: 9\n",
      "found new best classify\n",
      "Split: 10\n",
      "Best win percentage split = 67.94871794871796\n",
      "Training Testing Accuracy: 61.79% (3.42%)\n"
     ]
    }
   ],
   "source": [
    "n_games = [1,2,3,4,5,6,7,10]\n",
    "for n in n_games:\n",
    "    run_all_BNB(n)"
   ]
  },
  {
   "cell_type": "markdown",
   "metadata": {},
   "source": [
    "# LAZY PREDICT"
   ]
  },
  {
   "cell_type": "code",
   "execution_count": null,
   "metadata": {},
   "outputs": [],
   "source": []
  },
  {
   "cell_type": "code",
   "execution_count": null,
   "metadata": {},
   "outputs": [],
   "source": [
    "import pandas as pd\n",
    "import numpy as np\n",
    "from lazypredict.Supervised import LazyClassifier, LazyRegressor\n",
    "from sklearn.model_selection import train_test_split\n",
    "from Gather_AFL_Data import gatherer as gad\n",
    "from sklearn.preprocessing import OneHotEncoder\n",
    "from sklearn.model_selection import StratifiedKFold\n",
    "import pickle"
   ]
  },
  {
   "cell_type": "code",
   "execution_count": null,
   "metadata": {},
   "outputs": [],
   "source": [
    "def eval_lazy_predict(x, y, my):\n",
    "    cv = StratifiedKFold(n_splits=10, shuffle=True)\n",
    "    all_clf_models = []\n",
    "    all_reg_models = []\n",
    "    count = 0\n",
    "    for train,test in cv.split(x,y):\n",
    "       # print(len(train))\n",
    "        count = count + 1\n",
    "        print(\"Split: \" + str(count))\n",
    "        #classifier\n",
    "        X_train = x.loc[train]\n",
    "        X_test = x.loc[test]\n",
    "        y_train = y.loc[train]\n",
    "        y_test = y.loc[test]\n",
    "        my_train = my.loc[train]\n",
    "        my_test = my.loc[test]\n",
    "        clf = LazyClassifier(predictions=True)\n",
    "        reg = LazyRegressor(predictions=True)\n",
    "        if(count == 1):\n",
    "            all_clf_models, predictions = clf.fit(X_train, X_test, y_train, y_test)\n",
    "          #  all_reg_models, reg_predictions = reg.fit(X_train, X_test, my_train, my_test)\n",
    "            all_clf_models.sort_index(inplace=True)\n",
    "           # all_reg_models.sort_index(inplace=True)\n",
    "            #print(all_models)\n",
    "        else:\n",
    "            new_clf_models, predictions = clf.fit(X_train, X_test, y_train, y_test)\n",
    "           # new_reg_models, reg_predictions = reg.fit(X_train, X_test, my_train, my_test)\n",
    "            new_clf_models.sort_index(inplace=True)\n",
    "           # new_reg_models.sort_index(inplace=True)\n",
    "            #print(new_models)\n",
    "            all_clf_models = all_clf_models.add(new_clf_models)\n",
    "           # all_reg_models = all_reg_models.add(new_reg_models)\n",
    "    return all_clf_models#, all_reg_models"
   ]
  },
  {
   "cell_type": "code",
   "execution_count": null,
   "metadata": {
    "scrolled": true
   },
   "outputs": [],
   "source": [
    "def run_all_lp(n_games):\n",
    "    h = get_headers(n_games)\n",
    "    h = clean_headers(h)\n",
    "    cv = generate_categorical_headers(h)\n",
    "\n",
    "    #to get names of teams from index\n",
    "    g = gad()\n",
    "    teams = g.createTeamDict()\n",
    "\n",
    "    #load Data\n",
    "    x_data = pd.read_csv('Data/assembled_stat_matrix_no2020'+str(n_games)+'_games.csv')\n",
    "\n",
    "    #make empty OHE object\n",
    "    na_enc = OneHotEncoder(handle_unknown='ignore', sparse=False)\n",
    "\n",
    "    #one hot encode data with new one hot encoder, saves ohe for later use\n",
    "    x_data, ohe = ohe_data(x_data, na_enc, 0, cv)\n",
    "\n",
    "    #reset headers\n",
    "    feature_names = x_data.columns\n",
    "\n",
    "    #loads the ylabel matrix,\n",
    "    y_label = pd.read_csv('Data/assembled_labelled_ymatrix_no2020'+str(n_games)+'_games.csv')\n",
    "\n",
    "    #do margins in a second when this works\n",
    "    margin_label = pd.read_csv('Data/assembled_margin_ymatrix_no2020'+str(n_games)+'_games.csv')\n",
    "    margin_label = abs(margin_label)\n",
    "\n",
    "    clf_lp = eval_lazy_predict(x_data, y_label, margin_label)\n",
    "\n",
    "    clf_lp.sort_values(by='Accuracy', ascending=False, inplace=True)\n",
    "    #reg_lp.sort_values(by='RMSE', inplace=True)\n",
    "    pct_lp = clf_lp*10\n",
    "    print(pct_lp)"
   ]
  },
  {
   "cell_type": "code",
   "execution_count": null,
   "metadata": {
    "scrolled": true
   },
   "outputs": [],
   "source": [
    "#as one big script to go through n_games\n",
    "n_games = [1,2,3,4,5,6,7,10]\n",
    "for n in n_games:\n",
    "    run_all_lp(n)"
   ]
  },
  {
   "cell_type": "code",
   "execution_count": null,
   "metadata": {},
   "outputs": [],
   "source": []
  },
  {
   "cell_type": "code",
   "execution_count": null,
   "metadata": {},
   "outputs": [],
   "source": []
  },
  {
   "cell_type": "code",
   "execution_count": null,
   "metadata": {},
   "outputs": [],
   "source": []
  },
  {
   "cell_type": "markdown",
   "metadata": {},
   "source": [
    "# Deep Learningggg"
   ]
  },
  {
   "cell_type": "code",
   "execution_count": null,
   "metadata": {},
   "outputs": [],
   "source": [
    "def build_DNN_model(x_len):\n",
    "    model = Sequential()\n",
    "    model.add(Dense(63, input_dim = x_len))\n",
    "    model.add(Activation('relu'))\n",
    "    model.add(Dropout(0.03))\n",
    "    model.add(BatchNormalization())\n",
    "\n",
    "    model.add(Dense(32))\n",
    "    model.add(Activation('relu'))\n",
    "    model.add(Dropout(0.02))\n",
    "\n",
    "    model.add(Dense(16))\n",
    "    model.add(Activation('relu'))\n",
    "\n",
    "    model.add(Dense(8))\n",
    "    model.add(Activation('relu'))\n",
    "    #add output layer\n",
    "    model.add(Dense(1, activation='linear'))\n",
    "    opt = tf.keras.optimizers.Adamax(learning_rate=0.003)\n",
    "\n",
    "    model.compile(loss=\"mean_squared_error\", optimizer=opt, metrics=[tf.keras.metrics.RootMeanSquaredError()])\n",
    "    print(model.summary())\n",
    "    return model"
   ]
  },
  {
   "cell_type": "code",
   "execution_count": null,
   "metadata": {},
   "outputs": [],
   "source": [
    "def build_CNN_model(x_len):\n",
    "    #del model\n",
    "    model = Sequential()\n",
    "    model.add(Conv1D(filters=32, kernel_size=14,\n",
    "                     input_shape=(x_len, 1)))\n",
    "    model.add(Activation('relu'))\n",
    "    model.add(Dropout(0.2))\n",
    "    model.add(Conv1D(filters=16, kernel_size=10,\n",
    "                     input_shape=(32, 1)))\n",
    "    model.add(Activation('linear'))\n",
    "    model.add(Dropout(0.1))\n",
    "    model.add(Conv1D(filters=10, kernel_size=8,\n",
    "                     input_shape=(16, 1)))\n",
    "    model.add(Activation('linear'))\n",
    "    model.add(MaxPooling1D(pool_size=2))\n",
    "    model.add(BatchNormalization())\n",
    "    model.add(Flatten())\n",
    "    model.add(Dense(64, activation='linear'))\n",
    "    model.add(Dense(32, activation='linear'))\n",
    "    model.add(Dense(16, activation='linear'))\n",
    "    model.add(BatchNormalization())\n",
    "    model.add(Dense(1, activation='linear'))\n",
    "    opt = tf.keras.optimizers.Adamax(learning_rate=0.003)#, beta_1=0.9, beta_2=0.999, epsilon=1e-07, name=\"Adamax\"\n",
    "\n",
    "\n",
    "    model.compile(loss=\"mean_squared_error\", optimizer=opt, metrics=[tf.keras.metrics.RootMeanSquaredError()])\n",
    "\n",
    "    print(model.summary())\n",
    "    return model"
   ]
  },
  {
   "cell_type": "code",
   "execution_count": null,
   "metadata": {},
   "outputs": [],
   "source": [
    "#flag = 0 (DNN)\n",
    "#flag = 1 (CNN)\n",
    "def eval_dl(x,y,k,flag):\n",
    "    cv = StratifiedKFold(n_splits=k,shuffle=True)\n",
    "    best_model = []\n",
    "    results = []\n",
    "    highest = 0\n",
    "    i = 1\n",
    "    for train,test in cv.split(x,y):\n",
    "        if(flag == 0):\n",
    "            model = build_DNN_model(x[train].shape[1])\n",
    "        if(flag == 1):\n",
    "            x = x.reshape(x.shape[0], x.shape[1], 1)\n",
    "            model = build_CNN_model(x[train].shape[1])\n",
    "        bs = ((x[train].shape[0])/20)\n",
    "        bs = round(bs)\n",
    "        history = model.fit(x[train], y[train], validation_data=(x[test], y[test]), epochs = 50, batch_size=bs)\n",
    "        _, accuracy = model.evaluate(x[test], y[test], batch_size=bs, verbose=0)\n",
    "        accuracy = accuracy * 100\n",
    "        print(\"accuracy for model \" + str(i) + \" is \" + str(accuracy))\n",
    "        if(accuracy > highest):\n",
    "            highest = accuracy\n",
    "            best_model = model\n",
    "        results.append(accuracy)\n",
    "        i = i + 1\n",
    "    print(\"highest accuracy is: \" + str(highest))\n",
    "    print(\"Training Testing Accuracy: %.2f%% (%.2f%%)\" % (np.mean(results), np.std(results)))\n",
    "    return best_model"
   ]
  }
 ],
 "metadata": {
  "kernelspec": {
   "display_name": "Python 3 (ipykernel)",
   "language": "python",
   "name": "python3"
  },
  "language_info": {
   "codemirror_mode": {
    "name": "ipython",
    "version": 3
   },
   "file_extension": ".py",
   "mimetype": "text/x-python",
   "name": "python",
   "nbconvert_exporter": "python",
   "pygments_lexer": "ipython3",
   "version": "3.8.5"
  }
 },
 "nbformat": 4,
 "nbformat_minor": 4
}
