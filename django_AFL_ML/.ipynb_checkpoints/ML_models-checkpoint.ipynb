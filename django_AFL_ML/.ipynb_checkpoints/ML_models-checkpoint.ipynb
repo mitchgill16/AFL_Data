{
 "cells": [
  {
   "cell_type": "code",
   "execution_count": null,
   "metadata": {},
   "outputs": [],
   "source": [
    "###Models to do"
   ]
  },
  {
   "cell_type": "code",
   "execution_count": 1,
   "metadata": {},
   "outputs": [
    {
     "name": "stderr",
     "output_type": "stream",
     "text": [
      "/home/chris/anaconda3/lib/python3.8/site-packages/xgboost/compat.py:93: FutureWarning: pandas.Int64Index is deprecated and will be removed from pandas in a future version. Use pandas.Index with the appropriate dtype instead.\n",
      "  from pandas import MultiIndex, Int64Index\n"
     ]
    },
    {
     "name": "stdout",
     "output_type": "stream",
     "text": [
      "2.2.0\n",
      "2.4.3\n"
     ]
    }
   ],
   "source": [
    "import re\n",
    "import xgboost as xgb\n",
    "import tensorflow as tf; print(tf.__version__)\n",
    "import keras; print(keras.__version__)\n",
    "#import torch.nn as nn\n",
    "#import touch.nn.functional as F\n",
    "import pandas as pd\n",
    "import numpy as np\n",
    "from sklearn.model_selection import train_test_split\n",
    "from sklearn.metrics import accuracy_score\n",
    "from random import randint\n",
    "from Gather_AFL_Data import gatherer as gad\n",
    "#from fdnn import feature_extractor as fex\n",
    "import skopt\n",
    "from skopt.searchcv import BayesSearchCV\n",
    "from skopt.space import Real, Categorical, Integer\n",
    "from sklearn.model_selection import StratifiedKFold\n",
    "import pickle\n",
    "from sklearn.preprocessing import OneHotEncoder\n",
    "from sklearn.metrics import mean_squared_error\n",
    "from math import sqrt\n",
    "from sklearn.model_selection import cross_val_score, KFold\n",
    "from joblib import dump, load"
   ]
  },
  {
   "cell_type": "code",
   "execution_count": 2,
   "metadata": {},
   "outputs": [
    {
     "name": "stdout",
     "output_type": "stream",
     "text": [
      "2.2.0\n",
      "2.4.3\n"
     ]
    }
   ],
   "source": [
    "import re\n",
    "import xgboost as xgb\n",
    "import tensorflow as tf; print(tf.__version__)\n",
    "import keras; print(keras.__version__)\n",
    "#import torch.nn as nn\n",
    "#import touch.nn.functional as F\n",
    "import pandas as pd\n",
    "import numpy as np\n",
    "from sklearn.model_selection import train_test_split\n",
    "from sklearn.metrics import accuracy_score\n",
    "from random import randint\n",
    "from Gather_AFL_Data import gatherer as gad\n",
    "#from fdnn import feature_extractor as fex\n",
    "import skopt\n",
    "from skopt.searchcv import BayesSearchCV\n",
    "from skopt.space import Real, Categorical, Integer\n",
    "from sklearn.model_selection import StratifiedKFold\n",
    "import pickle\n",
    "from sklearn.preprocessing import OneHotEncoder\n",
    "from tensorflow.keras.models import Sequential\n",
    "from tensorflow.keras.layers import Dense\n",
    "from tensorflow.keras.layers import Flatten\n",
    "from tensorflow.keras.layers import Dropout\n",
    "from tensorflow.keras.layers import Input\n",
    "from tensorflow.keras.layers import BatchNormalization\n",
    "from tensorflow.keras.layers import Conv1D\n",
    "from tensorflow.keras.layers import MaxPooling1D\n",
    "from tensorflow.keras.utils import to_categorical\n",
    "from keras.utils.vis_utils import plot_model\n",
    "from tensorflow.keras.layers import LSTM\n",
    "from tensorflow.keras.layers import Embedding\n",
    "from tensorflow.keras.preprocessing import sequence\n",
    "import matplotlib.pyplot as plt\n",
    "from tensorflow.keras.layers import Activation\n",
    "from sklearn.metrics import mean_squared_error\n",
    "from math import sqrt\n",
    "from sklearn.model_selection import cross_val_score, KFold"
   ]
  },
  {
   "cell_type": "code",
   "execution_count": 3,
   "metadata": {},
   "outputs": [],
   "source": [
    "#get headers\n",
    "#feed this into a bigger function which specifies the amount of games to go through \n",
    "def get_headers(n_games):\n",
    "    headers = ['Round', 'Home_Team', 'Away_Team', 'Venue', 'H_PAV_Sum', 'A_PAV_Sum']\n",
    "    example_file = pd.read_csv('Data/Fremantle_clean_stats.csv')\n",
    "    cl_h = example_file.columns\n",
    "    cl_h = cl_h[:-5]\n",
    "    ladder_header = ['Ladder Pos_H', 'Form_H', 'Season Wins_H', 'Season Loss_H', 'Season Draw_H']\n",
    "    headers = [*headers, *ladder_header]\n",
    "    j = 1\n",
    "    while j <= n_games:\n",
    "        for x in cl_h:\n",
    "            if 'Match_ID' in x or 'Year' in x:\n",
    "                continue\n",
    "            x = 'H_'+ x + ' n-' + str(j)\n",
    "            headers.append(x)\n",
    "        j = j + 1\n",
    "    j = 1\n",
    "    ladder_header = ['Ladder Pos_A', 'Form_A', 'Season Wins_A', 'Season Loss_A', 'Season Draw_A']\n",
    "    headers = [*headers, *ladder_header]\n",
    "    while j <= n_games:\n",
    "        for x in cl_h:\n",
    "            if 'Match_ID' in x or 'Year' in x:\n",
    "                continue\n",
    "            x = 'A_'+ x + ' n-' + str(j)\n",
    "            headers.append(x)\n",
    "        j = j + 1\n",
    "    return headers"
   ]
  },
  {
   "cell_type": "code",
   "execution_count": 4,
   "metadata": {},
   "outputs": [],
   "source": [
    "def clean_headers(h):\n",
    "    headers = []\n",
    "    for x in h:\n",
    "        if '<' in x or '>' in x:\n",
    "            x = x.replace('<',\"lt_\")\n",
    "            x = x.replace('>', \"gt_\")\n",
    "            #print(x)\n",
    "        headers.append(str(x))\n",
    "    return headers"
   ]
  },
  {
   "cell_type": "code",
   "execution_count": 5,
   "metadata": {},
   "outputs": [],
   "source": [
    "def generate_categorical_headers(h):\n",
    "    cat_var = ['Round', 'Home_Team', 'Away_Team']\n",
    "    skip = 0\n",
    "    for x in h:\n",
    "        if 'Round' in x:\n",
    "            if (skip == 0):\n",
    "                skip = 1\n",
    "                continue\n",
    "            cat_var.append(x)\n",
    "            #print(x)\n",
    "        elif 'Team_against_ID' in x:\n",
    "            #print(x)\n",
    "            cat_var.append(x)\n",
    "        elif 'Venue' in x:\n",
    "            cat_var.append(x)\n",
    "    return cat_var"
   ]
  },
  {
   "cell_type": "code",
   "execution_count": 6,
   "metadata": {},
   "outputs": [],
   "source": [
    "#one hot encode data and transform the X_data\n",
    "#first redo, find the categorial variables\n",
    "def ohe_data(x_data, enc, flag,cat_var):\n",
    "    #data has not been previously one hot encoded\n",
    "    if (flag == 0):\n",
    "        #get columns with categorical data and drop from main DF\n",
    "        categorical_data = x_data[cat_var]\n",
    "        x_data = x_data.drop(cat_var, axis = 1)\n",
    "        #define and fit new OHE. Use it on our categorical data by transforming\n",
    "        ohe = OneHotEncoder(handle_unknown='ignore', sparse=False)\n",
    "        ohe = ohe.fit(categorical_data)\n",
    "        categorical_data = ohe.transform(categorical_data)\n",
    "        #get feature names for better labelling\n",
    "        fn = ohe.get_feature_names(cat_var)\n",
    "        #make a dataframe with new OHE data and feature names\n",
    "            #would have been good to have coded it like this for my Masters project...\n",
    "        categorical_data = pd.DataFrame(categorical_data)\n",
    "        categorical_data.columns = fn\n",
    "        #ensure that it won't get cranky about any different indexes(shouldn't be any but just a good check)\n",
    "        x_data.reset_index(drop=True, inplace=True)\n",
    "        categorical_data.reset_index(drop=True, inplace=True)\n",
    "        #concatenate along column axis\n",
    "        x_data = pd.concat([x_data, categorical_data], axis = 1)\n",
    "    else:\n",
    "        #same as above except used already fitted ohe\n",
    "        categorical_data = x_data[cat_var]\n",
    "        x_data = x_data.drop(cat_var, axis = 1)\n",
    "        categorical_data = enc.transform(categorical_data)\n",
    "        fn = enc.get_feature_names(cat_var)\n",
    "        categorical_data = pd.DataFrame(categorical_data)\n",
    "        categorical_data.columns = fn\n",
    "        x_data.reset_index(drop=True, inplace=True)\n",
    "        categorical_data.reset_index(drop=True, inplace=True)\n",
    "        x_data = pd.concat([x_data, categorical_data], axis = 1, ignore_index=True)\n",
    "        ohe = enc\n",
    "    return x_data, ohe"
   ]
  },
  {
   "cell_type": "code",
   "execution_count": 7,
   "metadata": {},
   "outputs": [],
   "source": [
    "#search parameters for best XGB classifier or best XGB regressor\n",
    "\n",
    "def param_search(x_data, y_label, class_reg):\n",
    "\n",
    "    def on_step(optim_result):\n",
    "        \"\"\"\n",
    "        Callback meant to view scores after\n",
    "        each iteration while performing Bayesian\n",
    "        Optimization in Skopt\"\"\"\n",
    "        score = xgb_bayes_search.best_score_\n",
    "        print(\"best score: %s\" % score)\n",
    "        if score >= 0.98:\n",
    "            print('Interrupting!')\n",
    "            return True\n",
    "    X_train, X_test, y_train, y_test = train_test_split(x_data, y_label, test_size=0.1, random_state=157732)\n",
    "    print(\"X_train shape: \" + str(X_train.shape))\n",
    "    print(\"X_test shape: \" + str(X_test.shape))\n",
    "  #  print(\"y_train shape: \" + str(y_train.shape))\n",
    "  #  print(\"y_test shape: \" + str(y_test.shape))\n",
    "    space ={'learning_rate': Real(0.01, 1.0, 'log-uniform'),\n",
    "        'min_child_weight': Integer(0, 10),\n",
    "        'max_depth': Integer(0, 50),\n",
    "        'max_delta_step': Integer(0, 20),\n",
    "        'subsample': Real(0.01, 1.0, 'uniform'),\n",
    "        'colsample_bytree': Real(0.01, 1.0, 'uniform'),\n",
    "        'colsample_bylevel': Real(0.01, 1.0, 'uniform'),\n",
    "        'reg_lambda': Real(1e-9, 1000, 'log-uniform'),\n",
    "        'reg_alpha': Real(1e-9, 1.0, 'log-uniform'),\n",
    "        'gamma': Real(1e-9, 0.5, 'log-uniform'),\n",
    "        'min_child_weight': Integer(0, 5),\n",
    "        'n_estimators': Integer(50, 200),\n",
    "        'scale_pos_weight': Real(1e-6, 500, 'log-uniform')}\n",
    "    if(class_reg == 0):\n",
    "        xgbclass = xgb.XGBClassifier(random_state=27022013)\n",
    "    else:\n",
    "        xgbclass = xgb.XGBRegressor(random_state=27022013)\n",
    "    xgb_bayes_search = BayesSearchCV(xgbclass, space, n_iter=60, # specify how many iterations\n",
    "                                    scoring=None, n_jobs=1, cv=10, verbose=1, random_state=42, n_points=12,\n",
    "                                 refit=True)\n",
    "  #  kk = np.isinf(X_train)\n",
    "  #  if True in kk:\n",
    "  #  \tprint(\"aaaaaaa\")\n",
    "  #  kk = np.isinf(y_train)\n",
    "  #  if True in kk:\n",
    "  #  \tprint(\"reeeeeee\")\n",
    "    try:\n",
    "        xgb_bayes_search.fit(X_train, y_train.values.ravel(), callback = on_step)\n",
    "    except:\n",
    "        xgb_bayes_search.fit(X_train, y_train.values.ravel(), callback = on_step)\n",
    "  #  print(\"BEST PARAMS ARE HERE\")\n",
    " #   print(xgb_bayes_search.best_params_)\n",
    "    model = xgb_bayes_search.best_estimator_\n",
    "\n",
    "    return model"
   ]
  },
  {
   "cell_type": "code",
   "execution_count": 8,
   "metadata": {},
   "outputs": [],
   "source": [
    "#x = all data\n",
    "#y = label of whether home team or away team won\n",
    "#m = xgb classifier for winner prediction\n",
    "#my = labels of margins\n",
    "    #try absolute values\n",
    "#mm = xgb regressor for margin prediction\n",
    "def eval_xgb_games_margins(x, y, m, my, mm):\n",
    "    results = []\n",
    "    error = []\n",
    "    count = 0\n",
    "    best_w = m\n",
    "    high_w = 0\n",
    "    best_m = mm\n",
    "    high_m = 100\n",
    "    cv = StratifiedKFold(n_splits=10, shuffle=True)\n",
    "    print(x)\n",
    "    for train,test in cv.split(x,y):\n",
    "       # print(len(train))\n",
    "        count = count + 1\n",
    "        print(\"Split: \" + str(count))\n",
    "        #comment out fit steps for random forest i guess lol\n",
    "        prediction = m.fit(x.loc[train],y.loc[train]).predict_proba(x.loc[test])\n",
    "        margin_pred = mm.fit(x.loc[train], my.loc[train])\n",
    "        print(\"variables for auroc curve done. Processing fold accuracy + checking best model\")\n",
    "        y_pred = m.predict(x.loc[test])\n",
    "        #print(y_pred)\n",
    "        m_pred = mm.predict(x.loc[test])\n",
    "        print(m_pred)\n",
    "        predictions = [round(value) for value in y_pred]\n",
    "        #sees how accurate the model was when testing the test set\n",
    "        accuracy = accuracy_score(y.loc[test], predictions)\n",
    "        pcent = accuracy * 100.0\n",
    "        print(\"The accuracy of this model is\" + str(pcent))\n",
    "        rmse = sqrt(mean_squared_error(m_pred, my.loc[test]))\n",
    "        print(\"The rmse of this model is\" + str(rmse))\n",
    "        results.append(pcent)\n",
    "        error.append(rmse)\n",
    "        #change the best model to equal current model\n",
    "        if(pcent > high_w):\n",
    "            print(\"found new best classify\")\n",
    "            best_w = m\n",
    "            high_w = pcent\n",
    "        if(rmse < high_m):\n",
    "            print(\"found best new margin\")\n",
    "            best_m = mm\n",
    "            high_m = rmse\n",
    "    print(\"Best win percentage split = \" +str(high_w))\n",
    "    print(\"Best margin rmse = \"+str(high_m))\n",
    "    print(\"Training Testing Accuracy: %.2f%% (%.2f%%)\" % (np.mean(results), np.std(results)))\n",
    "    print(\"Training Testing Margins: %.2f%% (%.2f%%)\" % (np.mean(error), np.std(error)))\n",
    "    return best_w, best_m"
   ]
  },
  {
   "cell_type": "code",
   "execution_count": 9,
   "metadata": {},
   "outputs": [],
   "source": [
    "#make this a method param later\n",
    "#n_games = 5\n",
    "def run_all_models(n_games):\n",
    "    #load headers and then subsequently categorical headers\n",
    "    h = get_headers(n_games)\n",
    "    h = clean_headers(h)\n",
    "    cv = generate_categorical_headers(h)\n",
    "\n",
    "    #to get names of teams from index\n",
    "    g = gad()\n",
    "    teams = g.createTeamDict()\n",
    "\n",
    "    #load Data\n",
    "    x_data = pd.read_csv('Data/assembled_stat_matrix_no2020'+str(n_games)+'_games.csv')\n",
    "\n",
    "    #make empty OHE object\n",
    "    na_enc = OneHotEncoder(handle_unknown='ignore', sparse=False)\n",
    "\n",
    "    #one hot encode data with new one hot encoder, saves ohe for later use\n",
    "    x_data, ohe = ohe_data(x_data, na_enc, 0, cv)\n",
    "    filename = 'Models/ohe_'+str(n_games)+'_no_2021_games.dat'\n",
    "    pickle.dump(ohe, open(filename, \"wb\"))\n",
    "    #reset headers\n",
    "    feature_names = x_data.columns\n",
    "\n",
    "    #loads the ylabel matrix,\n",
    "    y_label = pd.read_csv('Data/assembled_labelled_ymatrix_no2020'+str(n_games)+'_games.csv')\n",
    "\n",
    "    #loads margin as the y_label\n",
    "    margin_label = pd.read_csv('Data/assembled_margin_ymatrix_no2020'+str(n_games)+'_games.csv')\n",
    "\n",
    "    print(margin_label.shape)\n",
    "    print(y_label.shape)\n",
    "    print(x_data.shape)\n",
    "\n",
    "    #regex solution which is apparently necessary??\n",
    "    regex = re.compile(r\"\\[|\\]|<\", re.IGNORECASE)\n",
    "    x_data.columns = [regex.sub(\"_\", col) if any(x in str(col) for x in set(('[', ']', '<'))) else col for col in x_data.columns.values]\n",
    "\n",
    "    #optimise XGBoost model\n",
    "\n",
    "    #for predicting win\n",
    "    model = param_search(x_data, y_label, 0)\n",
    "    #for predicting margin\n",
    "    #margin_label = abs(margin_label)\n",
    "    margin_model = param_search(x_data, margin_label, 1)\n",
    "\n",
    "   # margin_label = abs(margin_label)\n",
    "    print(margin_label)\n",
    "    best_xgb_clas, best_xgb_reg = eval_xgb_games_margins(x_data, y_label, model, margin_label, margin_model)\n",
    "\n",
    "    #save\n",
    "    pickle.dump(best_xgb_clas, open(\"Models/best_xgb_clas_no2020_\"+str(n_games)+\"_games.dat\", \"wb\"))\n",
    "    pickle.dump(best_xgb_reg, open(\"Models/best_xgb_reg_no2020_\"+str(n_games)+\"_games.dat\", \"wb\"))"
   ]
  },
  {
   "cell_type": "code",
   "execution_count": 10,
   "metadata": {
    "scrolled": true
   },
   "outputs": [
    {
     "name": "stdout",
     "output_type": "stream",
     "text": [
      "(1841, 1)\n",
      "(1841, 1)\n",
      "(1841, 733)\n",
      "X_train shape: (1656, 733)\n",
      "X_test shape: (185, 733)\n",
      "Fitting 10 folds for each of 12 candidates, totalling 120 fits\n"
     ]
    },
    {
     "name": "stderr",
     "output_type": "stream",
     "text": [
      "[Parallel(n_jobs=1)]: Using backend SequentialBackend with 1 concurrent workers.\n",
      "[Parallel(n_jobs=1)]: Done 120 out of 120 | elapsed:  1.1min finished\n"
     ]
    },
    {
     "name": "stdout",
     "output_type": "stream",
     "text": [
      "best score: 0.6533816425120773\n",
      "Fitting 10 folds for each of 12 candidates, totalling 120 fits\n"
     ]
    },
    {
     "name": "stderr",
     "output_type": "stream",
     "text": [
      "[Parallel(n_jobs=1)]: Using backend SequentialBackend with 1 concurrent workers.\n",
      "[Parallel(n_jobs=1)]: Done 120 out of 120 | elapsed:   45.5s finished\n"
     ]
    },
    {
     "name": "stdout",
     "output_type": "stream",
     "text": [
      "best score: 0.6533816425120773\n",
      "Fitting 10 folds for each of 12 candidates, totalling 120 fits\n"
     ]
    },
    {
     "name": "stderr",
     "output_type": "stream",
     "text": [
      "[Parallel(n_jobs=1)]: Using backend SequentialBackend with 1 concurrent workers.\n",
      "[Parallel(n_jobs=1)]: Done 120 out of 120 | elapsed:  2.3min finished\n"
     ]
    },
    {
     "name": "stdout",
     "output_type": "stream",
     "text": [
      "best score: 0.6533816425120773\n",
      "Fitting 10 folds for each of 12 candidates, totalling 120 fits\n"
     ]
    },
    {
     "name": "stderr",
     "output_type": "stream",
     "text": [
      "[Parallel(n_jobs=1)]: Using backend SequentialBackend with 1 concurrent workers.\n",
      "[Parallel(n_jobs=1)]: Done 120 out of 120 | elapsed:  2.3min finished\n"
     ]
    },
    {
     "name": "stdout",
     "output_type": "stream",
     "text": [
      "best score: 0.6630434782608695\n",
      "Fitting 10 folds for each of 12 candidates, totalling 120 fits\n"
     ]
    },
    {
     "name": "stderr",
     "output_type": "stream",
     "text": [
      "[Parallel(n_jobs=1)]: Using backend SequentialBackend with 1 concurrent workers.\n",
      "[Parallel(n_jobs=1)]: Done 120 out of 120 | elapsed:  1.3min finished\n"
     ]
    },
    {
     "name": "stdout",
     "output_type": "stream",
     "text": [
      "best score: 0.6630434782608695\n",
      "X_train shape: (1656, 733)\n",
      "X_test shape: (185, 733)\n",
      "Fitting 10 folds for each of 12 candidates, totalling 120 fits\n"
     ]
    },
    {
     "name": "stderr",
     "output_type": "stream",
     "text": [
      "[Parallel(n_jobs=1)]: Using backend SequentialBackend with 1 concurrent workers.\n",
      "[Parallel(n_jobs=1)]: Done 120 out of 120 | elapsed:  1.8min finished\n"
     ]
    },
    {
     "name": "stdout",
     "output_type": "stream",
     "text": [
      "best score: 0.2182725616609007\n",
      "Fitting 10 folds for each of 12 candidates, totalling 120 fits\n"
     ]
    },
    {
     "name": "stderr",
     "output_type": "stream",
     "text": [
      "[Parallel(n_jobs=1)]: Using backend SequentialBackend with 1 concurrent workers.\n",
      "[Parallel(n_jobs=1)]: Done 120 out of 120 | elapsed:   36.3s finished\n"
     ]
    },
    {
     "name": "stdout",
     "output_type": "stream",
     "text": [
      "best score: 0.2182725616609007\n",
      "Fitting 10 folds for each of 12 candidates, totalling 120 fits\n"
     ]
    },
    {
     "name": "stderr",
     "output_type": "stream",
     "text": [
      "[Parallel(n_jobs=1)]: Using backend SequentialBackend with 1 concurrent workers.\n",
      "[Parallel(n_jobs=1)]: Done 120 out of 120 | elapsed:  1.5min finished\n"
     ]
    },
    {
     "name": "stdout",
     "output_type": "stream",
     "text": [
      "best score: 0.24124893435693762\n",
      "Fitting 10 folds for each of 12 candidates, totalling 120 fits\n"
     ]
    },
    {
     "name": "stderr",
     "output_type": "stream",
     "text": [
      "[Parallel(n_jobs=1)]: Using backend SequentialBackend with 1 concurrent workers.\n",
      "[Parallel(n_jobs=1)]: Done 120 out of 120 | elapsed:  3.5min finished\n"
     ]
    },
    {
     "name": "stdout",
     "output_type": "stream",
     "text": [
      "best score: 0.26383986393492664\n",
      "Fitting 10 folds for each of 12 candidates, totalling 120 fits\n"
     ]
    },
    {
     "name": "stderr",
     "output_type": "stream",
     "text": [
      "[Parallel(n_jobs=1)]: Using backend SequentialBackend with 1 concurrent workers.\n",
      "[Parallel(n_jobs=1)]: Done 120 out of 120 | elapsed:   42.4s finished\n"
     ]
    },
    {
     "name": "stdout",
     "output_type": "stream",
     "text": [
      "best score: 0.26383986393492664\n",
      "      Margin\n",
      "0       -4.0\n",
      "1      -39.0\n",
      "2      -94.0\n",
      "3      -72.0\n",
      "4       -2.0\n",
      "...      ...\n",
      "1836   -22.0\n",
      "1837     6.0\n",
      "1838    13.0\n",
      "1839   -13.0\n",
      "1840    20.0\n",
      "\n",
      "[1841 rows x 1 columns]\n",
      "      H_PAV_Sum  A_PAV_Sum  Ladder Pos_H  Form_H  Season Wins_H  \\\n",
      "0        225.28     213.14           4.0     2.0            2.0   \n",
      "1        232.38     230.38          12.0     0.0            0.0   \n",
      "2        147.24     226.84          18.0     0.0            0.0   \n",
      "3        149.67     226.28          16.0     0.0            0.0   \n",
      "4        118.17     201.00          11.0     1.0            1.0   \n",
      "...         ...        ...           ...     ...            ...   \n",
      "1836     272.96     289.18           2.0     2.0           16.0   \n",
      "1837     295.43     269.96           1.0     2.0           18.0   \n",
      "1838     264.04     231.33           5.0     2.0           15.0   \n",
      "1839     272.96     233.21           2.0     2.0           16.0   \n",
      "1840     259.44     264.04           4.0     1.0           16.0   \n",
      "\n",
      "      Season Loss_H  Season Draw_H  H_H/A? n-1  H_H/A Win? n-1  \\\n",
      "0               0.0            0.0         1.0             1.0   \n",
      "1               2.0            0.0         1.0             0.0   \n",
      "2               2.0            0.0         1.0             0.0   \n",
      "3               2.0            0.0         1.0             0.0   \n",
      "4               1.0            0.0         1.0             0.0   \n",
      "...             ...            ...         ...             ...   \n",
      "1836            6.0            0.0         1.0             1.0   \n",
      "1837            4.0            0.0         0.0             0.0   \n",
      "1838            6.0            1.0         1.0             1.0   \n",
      "1839            6.0            0.0         0.0             1.0   \n",
      "1840            6.0            0.0         1.0             0.0   \n",
      "\n",
      "      H_Points For n-1  ...  A_Venue n-2_Manuka Oval  \\\n",
      "0                106.0  ...                      0.0   \n",
      "1                108.0  ...                      0.0   \n",
      "2                 36.0  ...                      0.0   \n",
      "3                 78.0  ...                      0.0   \n",
      "4                 73.0  ...                      0.0   \n",
      "...                ...  ...                      ...   \n",
      "1836             115.0  ...                      0.0   \n",
      "1837             131.0  ...                      0.0   \n",
      "1838              89.0  ...                      0.0   \n",
      "1839              69.0  ...                      0.0   \n",
      "1840              72.0  ...                      1.0   \n",
      "\n",
      "      A_Venue n-2_Mars Stadium  A_Venue n-2_Marvel Stadium  \\\n",
      "0                          0.0                         0.0   \n",
      "1                          0.0                         0.0   \n",
      "2                          0.0                         0.0   \n",
      "3                          0.0                         0.0   \n",
      "4                          0.0                         1.0   \n",
      "...                        ...                         ...   \n",
      "1836                       0.0                         0.0   \n",
      "1837                       0.0                         0.0   \n",
      "1838                       0.0                         1.0   \n",
      "1839                       0.0                         0.0   \n",
      "1840                       0.0                         0.0   \n",
      "\n",
      "      A_Venue n-2_Metricon Stadium  A_Venue n-2_Optus Stadium  \\\n",
      "0                              0.0                        0.0   \n",
      "1                              0.0                        0.0   \n",
      "2                              0.0                        0.0   \n",
      "3                              1.0                        0.0   \n",
      "4                              0.0                        0.0   \n",
      "...                            ...                        ...   \n",
      "1836                           0.0                        0.0   \n",
      "1837                           0.0                        0.0   \n",
      "1838                           0.0                        0.0   \n",
      "1839                           0.0                        0.0   \n",
      "1840                           0.0                        0.0   \n",
      "\n",
      "      A_Venue n-2_SCG  A_Venue n-2_TIO Stadium  A_Venue n-2_TIO Traeger Park  \\\n",
      "0                 0.0                      0.0                           0.0   \n",
      "1                 0.0                      0.0                           0.0   \n",
      "2                 0.0                      0.0                           0.0   \n",
      "3                 0.0                      0.0                           0.0   \n",
      "4                 0.0                      0.0                           0.0   \n",
      "...               ...                      ...                           ...   \n",
      "1836              1.0                      0.0                           0.0   \n",
      "1837              1.0                      0.0                           0.0   \n",
      "1838              0.0                      0.0                           0.0   \n",
      "1839              0.0                      0.0                           0.0   \n",
      "1840              0.0                      0.0                           0.0   \n",
      "\n",
      "      A_Venue n-2_University of Tasmania Stadium  A_Venue n-2_Westpac Stadium  \n",
      "0                                            0.0                          0.0  \n",
      "1                                            0.0                          0.0  \n",
      "2                                            0.0                          0.0  \n",
      "3                                            0.0                          0.0  \n",
      "4                                            0.0                          0.0  \n",
      "...                                          ...                          ...  \n",
      "1836                                         0.0                          0.0  \n",
      "1837                                         0.0                          0.0  \n",
      "1838                                         0.0                          0.0  \n",
      "1839                                         0.0                          0.0  \n",
      "1840                                         0.0                          0.0  \n",
      "\n",
      "[1841 rows x 733 columns]\n",
      "Split: 1\n"
     ]
    },
    {
     "name": "stderr",
     "output_type": "stream",
     "text": [
      "/home/chris/anaconda3/lib/python3.8/site-packages/sklearn/preprocessing/_label.py:235: DataConversionWarning: A column-vector y was passed when a 1d array was expected. Please change the shape of y to (n_samples, ), for example using ravel().\n",
      "  y = column_or_1d(y, warn=True)\n",
      "/home/chris/anaconda3/lib/python3.8/site-packages/sklearn/preprocessing/_label.py:268: DataConversionWarning: A column-vector y was passed when a 1d array was expected. Please change the shape of y to (n_samples, ), for example using ravel().\n",
      "  y = column_or_1d(y, warn=True)\n"
     ]
    },
    {
     "name": "stdout",
     "output_type": "stream",
     "text": [
      "variables for auroc curve done. Processing fold accuracy + checking best model\n",
      "[-2.35792103e+01  1.30620980e+00  5.58057308e-01 -1.32856426e+01\n",
      "  4.24297905e+01  5.42328548e+00 -3.31614456e+01 -4.51434040e+00\n",
      "  5.16351318e+01 -2.15981522e+01 -2.18425083e+01 -5.44651489e+01\n",
      " -1.40886717e+01  2.58472214e+01  3.53988037e+01 -3.24325447e+01\n",
      " -1.00607176e+01  2.08915615e+00 -2.24461019e-01  3.45090342e+00\n",
      " -2.27603683e+01 -1.09512568e+01 -7.20445442e+00  2.88020115e+01\n",
      "  1.99571095e+01  7.51803303e+00  1.07207575e+01 -3.44540520e+01\n",
      "  4.01639061e+01  4.79856777e+00  1.10719080e+01  3.99088097e+01\n",
      "  4.37682152e+01 -1.21085014e+01 -2.85702825e+00  1.31157866e+01\n",
      " -2.92322330e+01 -3.82410097e+00  9.62080121e-01  1.96589470e+01\n",
      "  1.64944229e+01 -2.10350990e+01 -3.50081139e+01 -9.99907017e+00\n",
      "  2.84255867e+01 -3.52884178e+01  3.59560318e+01 -2.08803864e+01\n",
      "  1.65497303e+01  2.62813568e+01 -1.04604378e+01  1.32323205e-01\n",
      " -2.58074818e+01 -1.24125481e+01 -1.44269133e+01  8.62795734e+00\n",
      "  6.81598902e-01  3.20114784e+01  2.07802696e+01  8.76037502e+00\n",
      " -3.61956329e+01 -1.22094841e+01  1.10153561e+01 -3.03212280e+01\n",
      "  1.61305656e+01 -1.69645100e+01  1.25716162e+01 -1.33687124e+01\n",
      " -1.70986462e+01 -2.11410141e+00  1.38810902e+01  3.95770226e+01\n",
      "  1.36897016e+00  6.43600006e+01  1.34476614e+01 -2.20570660e+01\n",
      " -1.88284469e+00  3.60291672e+01 -1.49343376e+01  2.04725151e+01\n",
      " -1.02229509e+01  2.61496506e+01 -1.13038864e+01  1.57852106e+01\n",
      "  2.39332409e+01  1.10891819e+01  1.81902008e+01  1.32808905e+01\n",
      "  5.59129333e+00  2.12196827e+01  2.46669369e+01  1.85026722e+01\n",
      " -3.36722908e+01 -2.44272137e+01  2.36653557e+01  2.93653431e+01\n",
      "  1.65375500e+01  7.79034734e-01 -9.95374084e-01 -3.86330376e+01\n",
      "  4.10875473e+01  7.74420023e+00  1.59899740e+01  1.10893812e+01\n",
      " -2.57306099e+01  2.46750393e+01  1.77035866e+01 -1.33439026e+01\n",
      "  2.21139193e+00 -2.74048734e+00  1.76944180e+01  1.51808095e+00\n",
      "  3.80392151e+01  2.24982109e+01  1.06696262e+01  7.17400122e+00\n",
      "  2.69560432e+01  1.69464703e+01  3.50066924e+00  8.60510063e+00\n",
      "  3.83701096e+01 -3.76286163e+01  8.46971130e+00 -2.24611111e+01\n",
      " -7.14363861e+00  2.02109089e+01 -1.67255383e+01  1.88124835e+00\n",
      "  1.27144737e+01  6.53028965e+00 -1.40509481e+01 -1.30709829e+01\n",
      "  6.05614042e+00 -1.74580460e+01 -6.72403955e+00 -7.71997929e+00\n",
      "  3.29827881e+01  3.20184402e+01 -4.45773935e+00 -1.07448540e+01\n",
      "  1.61137276e+01  1.05343733e+01 -1.62332630e+01  1.96628895e+01\n",
      "  1.38014002e+01  8.61134529e+00  1.00609503e+01  4.12949371e+01\n",
      "  2.78209324e+01  1.77687912e+01  2.21174145e+01  4.71918881e-02\n",
      " -5.77675200e+00 -1.82406855e+00  2.43871460e+01  1.79971886e+01\n",
      " -5.14570093e+00  1.27926407e+01 -8.26557159e+00  2.91646423e+01\n",
      "  8.61268711e+00  2.36645699e+01  2.40249710e+01  9.78593922e+00\n",
      " -5.17651677e-01  1.46848240e+01 -1.82683754e+01  4.36136360e+01\n",
      "  1.22777319e+00 -8.41912150e-01  1.81453552e+01  3.78914223e+01\n",
      " -1.14258013e+01  4.08371620e+01 -2.36602402e+01  1.85751686e+01\n",
      " -1.14578619e+01 -1.70639210e+01  6.16068382e+01  7.36681747e+00\n",
      "  3.89591827e+01 -5.00948954e+00  1.88120575e+01 -2.29780407e+01\n",
      " -1.12032881e+01]\n",
      "The accuracy of this model is67.56756756756756\n",
      "The rmse of this model is36.348958440259985\n",
      "found new best classify\n",
      "found best new margin\n",
      "Split: 2\n"
     ]
    },
    {
     "name": "stderr",
     "output_type": "stream",
     "text": [
      "/home/chris/anaconda3/lib/python3.8/site-packages/sklearn/preprocessing/_label.py:235: DataConversionWarning: A column-vector y was passed when a 1d array was expected. Please change the shape of y to (n_samples, ), for example using ravel().\n",
      "  y = column_or_1d(y, warn=True)\n",
      "/home/chris/anaconda3/lib/python3.8/site-packages/sklearn/preprocessing/_label.py:268: DataConversionWarning: A column-vector y was passed when a 1d array was expected. Please change the shape of y to (n_samples, ), for example using ravel().\n",
      "  y = column_or_1d(y, warn=True)\n"
     ]
    },
    {
     "name": "stdout",
     "output_type": "stream",
     "text": [
      "variables for auroc curve done. Processing fold accuracy + checking best model\n",
      "[  9.82845     -5.4352593    2.0151865  -15.2829275   -6.9467487\n",
      "  29.03524     64.351746    12.197175    37.626915     3.1194162\n",
      "  63.481434    -8.544089    -8.464172     7.0387096   33.750805\n",
      "  -0.21059823 -10.804873    16.704758    -0.91494536  -8.7424135\n",
      "  -5.4377494  -11.481049    -7.645014    22.704597   -16.967894\n",
      "  24.69821    -21.024754     7.0398397    5.322181    14.167359\n",
      "   1.5184413  -17.742413    19.721735    47.05834     -3.0688896\n",
      "  23.590694    26.774422    12.451961    29.661753   -24.831255\n",
      "  11.653779    -0.11893815  18.058455    24.217634     7.7978015\n",
      "  -5.586566    30.816288     5.031017    26.623962   -49.426815\n",
      " -10.670302   -31.187237     8.44526      3.4234958   35.735195\n",
      "  24.229065    39.60505    -15.300342    22.024097   -12.577357\n",
      " -17.167631    -8.416086    16.852125   -13.204155    -4.1602426\n",
      " -32.562443    10.779128    -8.745268     0.8419726   36.941288\n",
      "  -9.327146    -7.900223    12.640982    29.826305    21.242962\n",
      "  27.484388    14.259681   -11.348122     1.6224296   10.348274\n",
      " -39.110565     9.41401      9.161916    13.630801   -22.60683\n",
      "   5.5507026  -24.888296    26.10867    -27.741016    22.680508\n",
      "  24.899364    13.481499    10.965289    16.25893     20.828333\n",
      " -10.870218    12.8761635  -17.418432    25.459352    -9.841748\n",
      "  14.953426   -22.093338    -3.897221    20.854467    56.560936\n",
      "  11.960735    49.514797   -18.779938    45.06786     16.643967\n",
      "   7.748984     8.494409     0.37959516  42.32422    -11.295812\n",
      " -20.829985     6.1054745   10.9584675  -25.167206    30.060057\n",
      "   6.2039976   14.566881   -36.544224    -8.195483    32.37227\n",
      "  28.699276   -43.362865    -2.4125607   10.541753     9.47845\n",
      "  20.060823     2.8586118    4.105076    17.145586    38.572052\n",
      "  -4.507113   -14.476732    14.99126     -0.5004884   26.790485\n",
      " -12.724857   -22.011618     3.0435557   11.062567    23.546406\n",
      "  18.048117    25.682003     9.180221    -1.342628    12.141864\n",
      "  -3.4132605   -3.3925705   -7.542268    25.374939     0.45779043\n",
      " -22.111904     9.594168    10.930996    -5.279444    -4.668559\n",
      "  -0.19949013   9.855185     2.86342    -25.556816   -20.62864\n",
      "   2.9347034   14.769847    26.118061    -5.765429    14.448778\n",
      " -28.436096     6.03883     29.529041    -5.871671    28.127096\n",
      "  25.545042     9.220746    26.536514     8.667186     0.42518345\n",
      "  10.484781    -7.2344155   30.151386    14.458996  ]\n",
      "The accuracy of this model is60.86956521739131\n",
      "The rmse of this model is38.02671556066888\n",
      "Split: 3\n"
     ]
    },
    {
     "name": "stderr",
     "output_type": "stream",
     "text": [
      "/home/chris/anaconda3/lib/python3.8/site-packages/sklearn/preprocessing/_label.py:235: DataConversionWarning: A column-vector y was passed when a 1d array was expected. Please change the shape of y to (n_samples, ), for example using ravel().\n",
      "  y = column_or_1d(y, warn=True)\n",
      "/home/chris/anaconda3/lib/python3.8/site-packages/sklearn/preprocessing/_label.py:268: DataConversionWarning: A column-vector y was passed when a 1d array was expected. Please change the shape of y to (n_samples, ), for example using ravel().\n",
      "  y = column_or_1d(y, warn=True)\n"
     ]
    },
    {
     "name": "stdout",
     "output_type": "stream",
     "text": [
      "variables for auroc curve done. Processing fold accuracy + checking best model\n",
      "[-13.395843    -1.1952828   -6.835143   -19.692684    17.682169\n",
      "  20.462765    36.99028    -14.07697      9.314153    32.992447\n",
      "  28.311441     4.9125338  -26.450092    12.281627   -21.079428\n",
      "  59.934174     3.3072019    3.619161    13.429129    36.475403\n",
      "  27.21731     16.748777    25.788101   -14.257193    16.555876\n",
      " -22.462837    13.458834   -22.958944     0.8575366    4.2027826\n",
      " -33.430466    12.77982     19.449053   -17.30066     18.342482\n",
      "   1.9061911    6.228607    12.194209   -42.65309     22.52878\n",
      "   6.701447    20.144583    13.503945    32.62917    -10.497748\n",
      "  25.900457   -18.276022    27.112785   -11.495418    20.23482\n",
      " -18.376957   -44.993233   -28.39701    -18.347065   -13.21537\n",
      "   3.1787872  -41.08258     10.344017     3.2444248   31.988503\n",
      "   4.991591     2.0722818   17.457726    -1.3230813   -9.632715\n",
      " -30.60145    -25.514109    14.293029    19.955135    -0.6517979\n",
      "   8.062117   -18.366629    28.490633     8.112137     3.2913387\n",
      " -29.061762   -43.754036    -4.315504   -33.144093    13.602937\n",
      " -11.359862   -20.75798     36.731865     1.7867534   18.388674\n",
      "  -5.432382    16.106947     5.3430033    6.4851837   27.474276\n",
      "  15.86185     -0.6358788    7.3762007    6.2642107   37.162678\n",
      " -17.862823   -21.633097    32.552883   -25.606432   -10.261217\n",
      " -10.645933    12.173156    16.772005     2.1429062    0.2536752\n",
      "  -9.598284    -7.5599613  -17.229837     8.184128    38.825184\n",
      "  -2.7818093  -19.3156      -2.894373    -2.6440182   -9.851705\n",
      "  28.797365    -7.9304476   27.558275    11.324113   -29.892546\n",
      " -21.007898   -36.725834     7.718046    28.745672   -23.512642\n",
      "  11.424444     1.9248681    0.21791768  -6.633695    14.295051\n",
      "   3.262444    40.055325     8.336524    35.538486    10.528637\n",
      "  -5.052799     6.9718738   21.807545    -1.692785     1.9051937\n",
      "   6.3594413   -3.9739394   55.731598    16.474754     6.089686\n",
      " -10.108884    12.569393   -11.330905   -13.299592    -5.9595\n",
      "  -8.793903    -9.103338     3.1060598   -9.267811    32.232132\n",
      "  -8.427772    10.330397     4.421767    22.491617     3.8921363\n",
      " -15.560907    18.768488    32.115616    16.11168    -19.258217\n",
      " -30.557253    14.768564    27.689365    18.726141     0.69551027\n",
      "   2.8088639   13.277844   -10.2231245   24.20254     -1.7008739\n",
      "  -9.6230545    3.4496107  -27.22306    -29.053392   -30.92797\n",
      "  19.691269    19.557642     6.1167784   -8.570581  ]\n",
      "The accuracy of this model is66.84782608695652\n",
      "The rmse of this model is34.997131764538075\n",
      "found best new margin\n",
      "Split: 4\n"
     ]
    },
    {
     "name": "stderr",
     "output_type": "stream",
     "text": [
      "/home/chris/anaconda3/lib/python3.8/site-packages/sklearn/preprocessing/_label.py:235: DataConversionWarning: A column-vector y was passed when a 1d array was expected. Please change the shape of y to (n_samples, ), for example using ravel().\n",
      "  y = column_or_1d(y, warn=True)\n",
      "/home/chris/anaconda3/lib/python3.8/site-packages/sklearn/preprocessing/_label.py:268: DataConversionWarning: A column-vector y was passed when a 1d array was expected. Please change the shape of y to (n_samples, ), for example using ravel().\n",
      "  y = column_or_1d(y, warn=True)\n"
     ]
    },
    {
     "name": "stdout",
     "output_type": "stream",
     "text": [
      "variables for auroc curve done. Processing fold accuracy + checking best model\n",
      "[  4.2536764    3.4392653   17.81002     15.605774   -37.54819\n",
      " -57.14427    -18.321808     8.1436      20.53059     -1.7879491\n",
      "   3.6303406   16.800997    23.322084     0.16263622  24.97818\n",
      "   4.718524    25.292402     1.4067488    4.329336    33.416367\n",
      "  14.997392   -23.605925    -7.234779    19.711815   -18.187473\n",
      "  14.59042    -26.234604   -18.139856    51.58449    -51.941383\n",
      "  12.224935    17.078821   -23.986849   -18.98183    -20.453772\n",
      " -14.490958     2.5985384   10.338734    19.357552    19.101128\n",
      "  41.38628     35.469902     6.2718396   36.16926      0.5342994\n",
      "  17.365238     7.994559    -6.908527    56.12604     44.98432\n",
      " -11.909164   -23.376492    -4.5309086    5.545104   -42.53206\n",
      " -11.92026     -8.713877    22.805504    55.897846    12.30781\n",
      "  12.241617    10.085336     5.6522875   -3.5440803    2.084656\n",
      " -11.988842   -18.539373     1.2167304  -16.308449     6.6172066\n",
      "  19.005411    -0.5300405   -4.6317196   23.047007   -23.842049\n",
      " -17.877447   -19.6581      16.319357    19.756418     9.502153\n",
      " -20.921877     2.5098283  -22.166172     9.761575    16.756355\n",
      "  -5.5349894   -2.0356896   29.83677     -0.92011106   2.219905\n",
      " -27.09248     10.961703    10.833595   -42.87863     -9.503076\n",
      "  28.35789     13.7968     -13.509136    28.827946   -10.950684\n",
      "   1.6703378   30.384615    53.6167      34.55263     -3.4304404\n",
      " -43.02277     -5.350624    40.11717     13.577653     6.8446865\n",
      "  22.937004    10.933444   -13.594408    16.694183    17.608\n",
      "   0.45883054  28.760399    19.706556   -15.0144005   -5.67303\n",
      "   8.862539   -20.360556   -11.145252    11.917379   -18.087831\n",
      "  -1.1895103   23.577204   -19.617203    13.18027     21.886951\n",
      "  -2.1275759  -20.049908    -3.3829174   13.87289      0.33218434\n",
      "   7.6631236   23.605978    28.135687    16.074724    -0.23151857\n",
      "  11.275864    44.343636    15.12003    -25.740685    11.327362\n",
      "  -1.7209945    0.6672656   -0.40771854  -0.12935597  28.935078\n",
      " -21.897875     8.493271    28.47531    -14.1571865   30.297283\n",
      "  34.808746   -29.971453     8.404531    27.148046   -34.77081\n",
      "  16.339226    -5.947358     9.40202      1.2290663   12.237798\n",
      " -35.135986     1.9263834    7.7266984   29.019516     7.075265\n",
      "  38.107445   -15.065629    13.732655   -24.904362    -1.9760203\n",
      "   0.6218684  -23.772514     2.465126    -2.6703763   27.492895\n",
      "  49.021317    30.821033    15.255523     9.901739  ]\n",
      "The accuracy of this model is70.1086956521739\n",
      "The rmse of this model is34.578191962644446\n",
      "found new best classify\n",
      "found best new margin\n",
      "Split: 5\n"
     ]
    },
    {
     "name": "stderr",
     "output_type": "stream",
     "text": [
      "/home/chris/anaconda3/lib/python3.8/site-packages/sklearn/preprocessing/_label.py:235: DataConversionWarning: A column-vector y was passed when a 1d array was expected. Please change the shape of y to (n_samples, ), for example using ravel().\n",
      "  y = column_or_1d(y, warn=True)\n",
      "/home/chris/anaconda3/lib/python3.8/site-packages/sklearn/preprocessing/_label.py:268: DataConversionWarning: A column-vector y was passed when a 1d array was expected. Please change the shape of y to (n_samples, ), for example using ravel().\n",
      "  y = column_or_1d(y, warn=True)\n"
     ]
    },
    {
     "name": "stdout",
     "output_type": "stream",
     "text": [
      "variables for auroc curve done. Processing fold accuracy + checking best model\n",
      "[-28.754257     6.080381    27.10348     19.014544   -19.748034\n",
      "  39.40083     25.550688    12.334906     0.135562    30.747478\n",
      "   5.24868     29.45423    -29.6093       5.951838    13.633562\n",
      " -15.532549   -36.626133     8.435743    15.162477   -13.908223\n",
      "   7.808878    17.652285    -3.2707517   26.240828   -17.135305\n",
      " -52.25996     45.45165     -8.413883    19.321028    11.645631\n",
      " -39.4822      -8.057732   -18.498201    12.214862     0.09223059\n",
      "  11.180931    10.701967    28.987362     9.917942    40.624866\n",
      "  22.645426     2.6003697  -34.694263    21.69822      3.775854\n",
      "  10.278806    10.831166   -13.372687   -15.188782    39.586147\n",
      "   6.094905    32.387444     8.563748    -3.2761445   40.903313\n",
      "  -7.4150815   -3.5791373   11.772364    10.4377775   22.330292\n",
      "  -5.9853797   17.109545   -19.566978    13.666968   -13.449339\n",
      " -29.579313    10.5376625   36.112267   -10.687176    18.564226\n",
      "  39.795826    27.325785   -36.51377     22.356476   -39.449562\n",
      "  -3.545609     5.3100047  -10.16996    -20.180508    48.366695\n",
      "  48.396473    -0.9798256    5.765209    -2.622882     8.966469\n",
      "   2.8760633   27.460405    36.83514     -8.674218   -14.979235\n",
      " -47.24552     32.189213    34.551186    16.365736   -15.131247\n",
      "   3.3208845   -3.942059    10.340694   -17.828676    19.475014\n",
      "  23.433693    -1.0571058   -2.8445444  -22.65197     45.124866\n",
      "  -0.73478913  18.505209    33.23511    -20.259045     3.6531606\n",
      "  13.95396    -24.809624   -22.364172    42.30949     37.726967\n",
      "  33.25126      8.267723    10.160181    39.825054   -19.74142\n",
      "   1.888366    16.323582     5.19475      4.175252    19.223465\n",
      "  -5.1413336   15.492782    10.742415   -30.160614    16.20963\n",
      "  12.766385    46.578323   -27.00384    -37.427998   -20.225523\n",
      " -10.80033     23.400831   -21.216202   -12.038689    -5.2174325\n",
      " -30.920643    14.452551     3.189768    -5.6610355   10.220706\n",
      "  -4.2689967  -10.910693     0.7022544   -0.07962441  22.44755\n",
      "  13.2792635  -27.75835     20.237717   -17.345606    -0.21540415\n",
      "  14.054324     8.428436    19.21502     -0.24957693  20.291021\n",
      "  -8.44013     -2.3824885    8.704852     0.5028154   13.222563\n",
      "  16.317322    10.143641   -10.10829      9.9705       3.3507228\n",
      "   5.501987   -32.29318     18.724373     6.475436    28.563902\n",
      "  29.750391    10.052353   -14.315573     7.1829824   12.314002\n",
      "  10.586642     7.266084     1.3016342    5.6145205 ]\n",
      "The accuracy of this model is60.32608695652174\n",
      "The rmse of this model is37.712764592413485\n",
      "Split: 6\n"
     ]
    },
    {
     "name": "stderr",
     "output_type": "stream",
     "text": [
      "/home/chris/anaconda3/lib/python3.8/site-packages/sklearn/preprocessing/_label.py:235: DataConversionWarning: A column-vector y was passed when a 1d array was expected. Please change the shape of y to (n_samples, ), for example using ravel().\n",
      "  y = column_or_1d(y, warn=True)\n",
      "/home/chris/anaconda3/lib/python3.8/site-packages/sklearn/preprocessing/_label.py:268: DataConversionWarning: A column-vector y was passed when a 1d array was expected. Please change the shape of y to (n_samples, ), for example using ravel().\n",
      "  y = column_or_1d(y, warn=True)\n"
     ]
    },
    {
     "name": "stdout",
     "output_type": "stream",
     "text": [
      "variables for auroc curve done. Processing fold accuracy + checking best model\n",
      "[-25.280306    33.032112    -9.831923    -9.562906   -11.974165\n",
      "  45.338562    16.184572    20.202993   -24.668242    16.71105\n",
      "   5.2024183    6.2025924  -17.066568   -34.113773    50.66738\n",
      "  -2.8147058   18.237005    15.297261    -8.686233    11.258321\n",
      "  30.705929    -7.8340406   29.27947     14.077266    29.565828\n",
      "  -1.5812614    0.08537894  40.18204    -25.482805   -12.206243\n",
      "   1.1568685   40.985664    -4.1434646   23.84528     -6.109181\n",
      "   8.6794195   18.126892    15.772187    13.934657   -13.778678\n",
      "  31.007078    25.24289     57.2287       1.5200286   13.926226\n",
      " -32.454914     5.199816     6.9290075  -22.916916    20.31374\n",
      "  30.090921    -9.464507    31.493496     8.58194     14.770399\n",
      "  -0.83765316  49.179516    11.244718    -0.25492352  12.850866\n",
      "  -7.131811    -4.198514   -29.877304    18.088737   -10.164856\n",
      "  -2.5012407    6.5961814   31.345785     0.59231126 -30.598488\n",
      "   5.4706073   14.763403    13.323779    30.996025    27.869076\n",
      "  10.341861    21.463524    -7.3007903  -17.702408    38.42498\n",
      "  20.931322    24.618713     9.626807    25.460424    32.50989\n",
      "  -5.7823358  -10.24451     -2.1237319    3.6658285   -0.7905408\n",
      "   6.9772596   -1.384158   -23.106577   -17.467028    -2.3563635\n",
      "   3.6544375    5.964358     5.4345403   21.901848    -2.014459\n",
      "   7.484361    -0.14539206 -16.304842     0.33777487 -16.23573\n",
      " -35.510334     3.6751208    1.5559952   18.301226   -26.162165\n",
      " -21.30185     29.277601    40.47313     43.884735    32.29921\n",
      "   2.4480453   -6.3216357    1.3225613   29.307514     5.2954903\n",
      "  12.237338   -30.436132    16.745546    -2.0976458   25.965263\n",
      "   7.7947745  -22.609652   -12.27682     -3.845152     2.4924407\n",
      " -20.454262    -1.5207334    8.280905   -22.012142     4.2296486\n",
      "  45.05247     11.88338     10.829112    29.582043   -13.484801\n",
      " -41.331482    35.72161     21.244759    21.019642     7.9721804\n",
      "  -1.3537862  -33.812973     7.1680956    6.3160915   42.507294\n",
      "  13.431869   -19.417507     7.3562164   23.21789     22.941315\n",
      "   9.499857    18.104652    18.887787    -4.0875716   10.439435\n",
      "  12.223584   -17.903639     3.9091768   -8.090089   -26.228773\n",
      "  44.06887     10.27969      6.1219845  -23.409775    29.385378\n",
      "  25.345795   -27.573933   -11.39665     17.700005   -34.588974\n",
      "   1.7375288  -16.24746     15.8045435   41.418133    -3.4129622\n",
      "  19.934427   -13.773037     3.8516362  -18.882309  ]\n",
      "The accuracy of this model is66.84782608695652\n",
      "The rmse of this model is36.81647562137086\n",
      "Split: 7\n"
     ]
    },
    {
     "name": "stderr",
     "output_type": "stream",
     "text": [
      "/home/chris/anaconda3/lib/python3.8/site-packages/sklearn/preprocessing/_label.py:235: DataConversionWarning: A column-vector y was passed when a 1d array was expected. Please change the shape of y to (n_samples, ), for example using ravel().\n",
      "  y = column_or_1d(y, warn=True)\n",
      "/home/chris/anaconda3/lib/python3.8/site-packages/sklearn/preprocessing/_label.py:268: DataConversionWarning: A column-vector y was passed when a 1d array was expected. Please change the shape of y to (n_samples, ), for example using ravel().\n",
      "  y = column_or_1d(y, warn=True)\n"
     ]
    },
    {
     "name": "stdout",
     "output_type": "stream",
     "text": [
      "variables for auroc curve done. Processing fold accuracy + checking best model\n",
      "[-35.963352   -27.014376     7.3155413  -24.149158   -19.90574\n",
      "   0.8987373    9.504754    31.207226    18.198183   -11.044984\n",
      " -18.583427   -12.240872    -2.1852741   24.732664    34.620514\n",
      "  24.759562    -2.4184272   -1.8673077   18.287167    33.353596\n",
      "   1.0563214   21.6432      29.561436    25.629423    -5.026222\n",
      "  24.21944    -10.07522     25.36889     12.856634    41.13514\n",
      "   4.4239798   30.618114    18.078712    -2.0580115   -3.841281\n",
      "   7.468387    39.89821    -24.968908   -22.177769   -22.51887\n",
      "  10.535516     8.742799    14.595416    -5.298254   -16.595572\n",
      "  27.473682   -32.968792     6.6020613   -3.4597301  -34.596912\n",
      "  -1.3722568   21.202406    48.5741     -21.944124     6.4712067\n",
      "  24.606186    33.64932     10.509019    17.020828    42.029034\n",
      "  37.07399     22.514105    20.978447    -0.7664046   10.355405\n",
      "  24.62628     -2.5287383   -7.8434715    6.7262397   18.753174\n",
      "   2.02857      4.8373766   -2.558345    41.266518   -11.056654\n",
      "   4.026326    18.449028    12.644309    14.192798    27.275236\n",
      " -21.650377   -25.538244    30.56599     16.481625    24.570244\n",
      "  26.84911     12.016157    12.021308     3.2961502    0.761745\n",
      "  -6.6537433  -13.823309    29.959751   -15.483887    21.14309\n",
      "  -5.020069    25.34746     40.989624    18.56663     31.35745\n",
      "   8.023838    22.823778   -16.427057    29.731966     4.2586827\n",
      "  -4.9017196  -12.190308    22.531572    34.121086    -8.792116\n",
      "   0.71201867 -39.12194     36.33108    -35.427322    -6.0819693\n",
      "   2.9249084   38.629433    -7.6163826    1.9260267   17.335173\n",
      "  14.44369     -3.6461358   12.950082     9.342162    39.861603\n",
      "  15.178918     8.97303      2.087842    -2.185139    -0.95949435\n",
      "  18.638166     2.0080237   15.990235    25.767021    33.93495\n",
      " -11.026357    -4.206986   -11.098925     6.970555    26.028877\n",
      "  -6.2023954    1.278975     4.334206    -2.7715287   13.137289\n",
      "  22.344418    12.813741    27.053953     5.8168607   26.46773\n",
      "  -8.952455    26.946852   -10.522894    18.74524     12.476506\n",
      "  -9.128917     6.9839525    7.3178234   23.62254     -3.2860627\n",
      "  38.473816    14.121611    11.633349    10.2112255   25.925766\n",
      "   4.851758    10.9405365   21.291689   -16.068104   -21.809887\n",
      "   0.27877325  -1.2900934   22.191092   -43.148296    -3.4324381\n",
      " -17.127604   -11.073076    19.716692    20.36408     22.879005\n",
      "  40.42699     -9.21396    -39.42912     29.28559   ]\n",
      "The accuracy of this model is65.76086956521739\n",
      "The rmse of this model is35.684747313430755\n",
      "Split: 8\n"
     ]
    },
    {
     "name": "stderr",
     "output_type": "stream",
     "text": [
      "/home/chris/anaconda3/lib/python3.8/site-packages/sklearn/preprocessing/_label.py:235: DataConversionWarning: A column-vector y was passed when a 1d array was expected. Please change the shape of y to (n_samples, ), for example using ravel().\n",
      "  y = column_or_1d(y, warn=True)\n",
      "/home/chris/anaconda3/lib/python3.8/site-packages/sklearn/preprocessing/_label.py:268: DataConversionWarning: A column-vector y was passed when a 1d array was expected. Please change the shape of y to (n_samples, ), for example using ravel().\n",
      "  y = column_or_1d(y, warn=True)\n"
     ]
    },
    {
     "name": "stdout",
     "output_type": "stream",
     "text": [
      "variables for auroc curve done. Processing fold accuracy + checking best model\n",
      "[ 25.538008     4.540774    31.919031   -18.13309     22.722128\n",
      "   0.4428174   51.32606    -11.612846    23.18779     20.359808\n",
      "  14.514719    33.16326     31.436733   -24.907097    -7.8154383\n",
      "  49.86476     20.391909    -9.097175    -0.50052905  42.454357\n",
      "  -8.098025     4.2078094   15.409016    36.532516    20.858753\n",
      "  -8.911237    25.868595     0.11238292  31.283445     2.3659968\n",
      " -17.530607    -4.4962635    6.0325913   41.71917     20.59602\n",
      "  14.8697605   27.970236    -2.2241504   51.167072   -38.733555\n",
      "  12.905758    23.558752    23.879213     3.5160437   34.257576\n",
      "  -2.6508229   -2.7165892   10.096615     9.499377     5.2187037\n",
      "  31.345802     0.10254008  39.077576     8.862051   -17.49405\n",
      " -19.246634   -10.415335    48.972126    26.977867   -13.772758\n",
      " -15.162282   -26.651884   -18.034819     9.84019     -1.5956743\n",
      "  -9.998742    29.936832     0.40818387 -11.745777     2.3621178\n",
      "  -0.32146996  11.277916    29.270788    47.13948     37.807068\n",
      "  55.71084    -28.682693    19.475143    -9.37653    -36.01025\n",
      "   7.7269363  -18.300783    14.234214    10.467827    25.151705\n",
      "  18.046337    33.394623    -5.9299746   27.844042    38.29416\n",
      " -11.898894    12.003319   -11.129153   -20.384865    24.871588\n",
      "  26.363647    -8.505478     5.93175      6.118794     7.653078\n",
      "  25.326416   -14.610516    20.463417    13.168317    -0.4790166\n",
      "  23.796612   -11.512058    26.107533   -26.41614      4.2796226\n",
      " -18.848467    -7.018767   -22.755144   -13.136951     6.8999667\n",
      "   9.504526     2.355265   -20.329311   -18.799639    13.23896\n",
      "  30.182003     5.758484     9.51255     40.601738   -28.830605\n",
      " -10.826593     6.626963   -29.859257    -9.054815     7.082625\n",
      "  24.912222     2.2009459    7.7832365   -0.15710205   3.8321083\n",
      "  11.029825    10.217232     7.3865848  -19.532326   -19.983278\n",
      " -21.753181     8.567513    22.482899    24.332113     6.4393225\n",
      "  10.708963     1.8638235    3.82464    -19.696146   -21.487436\n",
      "   7.929615    12.16031      7.819787   -10.415912   -10.797491\n",
      "  12.214182     9.331417   -28.731558    -7.703085    20.085676\n",
      "   9.696499   -23.55035    -15.941565   -14.362093   -23.695896\n",
      "  14.341857    21.94541    -17.63522     -0.12117267  22.125778\n",
      "  28.046757   -22.730457    46.653954    33.303917     2.6832876\n",
      "  30.499283    12.631211    41.065643   -16.890118    -2.4476676\n",
      "  -2.6153464  -22.44895     12.509334    -2.7360587 ]\n",
      "The accuracy of this model is69.02173913043478\n",
      "The rmse of this model is38.2450584706422\n",
      "Split: 9\n"
     ]
    },
    {
     "name": "stderr",
     "output_type": "stream",
     "text": [
      "/home/chris/anaconda3/lib/python3.8/site-packages/sklearn/preprocessing/_label.py:235: DataConversionWarning: A column-vector y was passed when a 1d array was expected. Please change the shape of y to (n_samples, ), for example using ravel().\n",
      "  y = column_or_1d(y, warn=True)\n",
      "/home/chris/anaconda3/lib/python3.8/site-packages/sklearn/preprocessing/_label.py:268: DataConversionWarning: A column-vector y was passed when a 1d array was expected. Please change the shape of y to (n_samples, ), for example using ravel().\n",
      "  y = column_or_1d(y, warn=True)\n"
     ]
    },
    {
     "name": "stdout",
     "output_type": "stream",
     "text": [
      "variables for auroc curve done. Processing fold accuracy + checking best model\n",
      "[-32.20466    -22.949106    -4.663933    -8.266744   -35.86446\n",
      "   2.719427   -25.219524    24.327906    -5.713427   -10.541479\n",
      "  35.496338    -3.767036   -33.59296     11.851435   -19.935383\n",
      "  35.407127    11.833495    17.982515    -0.32504028   3.6712751\n",
      "  23.686165    12.184613     2.3072243    6.5635805   19.448057\n",
      " -13.794346     0.4446367   -4.405011    13.96254    -25.420765\n",
      "  51.471573     9.565374    15.118265    -8.288281    -2.4262516\n",
      "  12.12505    -43.7507       3.3422306  -12.3738      -0.7126863\n",
      "  14.434109    44.377308    27.538506    19.157047    29.154196\n",
      "  -0.9894326  -24.530602    21.343952   -20.495987    10.645581\n",
      " -10.540355   -24.824867   -38.71269      6.3754926  -21.167154\n",
      "   4.8449473   33.535667    -0.10056585  42.51356    -14.766765\n",
      "  44.39855     51.12844     23.253206    11.632286   -13.011824\n",
      " -16.072533    17.267614    25.600542    35.40782     -0.2398622\n",
      "  14.905497    21.059076     7.179917    -1.3195925   12.250499\n",
      "  -5.291475    43.753765    29.071518    10.981931    36.0575\n",
      " -17.80041      3.6969597   32.192924    -2.0323825   -2.1016307\n",
      "   9.316652    -3.7189865   -6.8848534    2.762035    -8.498721\n",
      " -45.608414    17.085073    -8.25296     10.995199    19.24507\n",
      "  13.6462     -16.26736     29.961418    20.882526   -15.419643\n",
      "  25.43433     19.619535    48.620743    -7.086464    -9.919489\n",
      " -24.122126    17.81411    -22.348518    18.614418    15.292806\n",
      "   8.500938    -4.9135423  -25.723343    13.518501    37.017994\n",
      " -27.99563    -24.075987    20.258923   -23.264442     1.929475\n",
      " -37.340923     8.824494    15.469328   -34.211395    15.265423\n",
      "  14.489592    18.987663    12.609361    23.881794    25.249865\n",
      "  17.979935    21.117714   -31.474596     7.2745056   -1.7026932\n",
      " -23.810476     6.7620873    3.8325021   18.94014     14.553323\n",
      " -16.433195     1.5822314    5.060314    -2.1195428   25.249552\n",
      "  34.335163     4.851309   -12.039504   -18.89502      3.6369534\n",
      " -18.397314    -4.2753754   -6.6854124  -18.803703     2.0179377\n",
      " -27.221657     4.2719445    3.0785112   24.987902    42.969376\n",
      "  -4.775961   -14.801185    46.386814   -15.663918     4.6795583\n",
      " -19.44181     10.040867   -14.783033    -9.499257    31.47968\n",
      "  -3.3407326   11.085578    23.743315   -11.800392     9.6620655\n",
      "  30.633877    12.0107      22.35169    -36.723877    -6.669136\n",
      "   5.7687826  -18.698694     9.835768    47.59463   ]\n",
      "The accuracy of this model is64.67391304347827\n",
      "The rmse of this model is37.913387315246126\n",
      "Split: 10\n"
     ]
    },
    {
     "name": "stderr",
     "output_type": "stream",
     "text": [
      "/home/chris/anaconda3/lib/python3.8/site-packages/sklearn/preprocessing/_label.py:235: DataConversionWarning: A column-vector y was passed when a 1d array was expected. Please change the shape of y to (n_samples, ), for example using ravel().\n",
      "  y = column_or_1d(y, warn=True)\n",
      "/home/chris/anaconda3/lib/python3.8/site-packages/sklearn/preprocessing/_label.py:268: DataConversionWarning: A column-vector y was passed when a 1d array was expected. Please change the shape of y to (n_samples, ), for example using ravel().\n",
      "  y = column_or_1d(y, warn=True)\n"
     ]
    },
    {
     "name": "stdout",
     "output_type": "stream",
     "text": [
      "variables for auroc curve done. Processing fold accuracy + checking best model\n",
      "[ 39.016453     1.1251992    8.922911    22.064207    19.275038\n",
      "  -5.873116    14.253734    15.709724    35.05584    -33.25769\n",
      "  17.878992    26.652115   -10.221799    19.738632    32.141907\n",
      "   6.741198    14.874338    11.88767    -13.477448    10.578567\n",
      "  -0.06740755  13.478608     5.0038      19.7757       5.313198\n",
      "   6.626789   -23.042145    -0.5980927  -25.339863    17.15545\n",
      " -20.620588   -36.285355   -15.0470495   27.600883    27.28527\n",
      "  25.997442     4.1520433  -21.922619   -19.793398   -21.50566\n",
      "  -1.7760298   11.547114    18.997889     5.24679     14.302672\n",
      "  19.109324   -11.603497    40.3577       7.543979    -5.403037\n",
      "  -6.8293657   12.448397    36.433334    16.882807     5.563706\n",
      "  -1.8444426   43.469852     4.005427   -26.816525    26.415258\n",
      " -40.754654    15.939938   -25.874548    18.281172    19.702076\n",
      " -11.154118    16.042633    28.86072      2.2894125  -14.483014\n",
      "  -5.157313    13.894859   -29.106375    19.860521     8.187193\n",
      " -32.00392     54.25143     -0.7699667   12.287824     3.03629\n",
      "   1.9328789    1.1211356  -15.114018    14.3768635   13.091707\n",
      "  18.774801    13.605347     2.6320615   34.88882      4.549098\n",
      "  10.623786    -1.9866471   23.962212    13.417557     3.2094858\n",
      "  27.196648   -15.149328    -6.0687733  -17.605307   -13.595779\n",
      " -12.630062    10.215004    20.819399    -5.401178    19.581074\n",
      "   2.8854911    1.9279964   27.39381     12.540916   -12.3382845\n",
      "   9.97669     -0.44074792 -20.50757     -4.371477    -9.880434\n",
      "   1.4835558   27.782118     7.215926    -3.0244133   -4.3633122\n",
      "   5.7716494   28.986362     8.972713    13.8471365    5.157218\n",
      "   6.551964    11.204835     1.054315     8.676651    13.539317\n",
      " -27.303194     0.919011    -3.454314   -22.665272    -8.2671175\n",
      "  21.420464     9.929416    14.356375    11.2673855    3.4498281\n",
      "  18.619175    17.29061     -1.2100402  -18.302738    20.902962\n",
      " -21.139519    12.995082    37.334763    -4.8354397   28.509197\n",
      "  17.480846    10.69593     24.296572   -23.696564     0.81061447\n",
      "  17.2353     -10.899358    -5.512841    -1.2911857   36.51801\n",
      " -16.94535    -27.418169     7.4273434   -3.7337723   13.4822\n",
      " -27.155163    20.125624    -5.839394     2.806848    36.50467\n",
      "   5.924941    40.767616     0.40126348  28.832735    -1.2712916\n",
      "  24.695047    48.439022    18.738712     5.1227226   17.878624\n",
      "  10.41767    -14.101508    -7.8847685    2.7633684 ]\n",
      "The accuracy of this model is72.28260869565217\n",
      "The rmse of this model is35.49432674797647\n",
      "found new best classify\n",
      "Best win percentage split = 72.28260869565217\n",
      "Best margin rmse = 34.578191962644446\n",
      "Training Testing Accuracy: 66.43% (3.58%)\n",
      "Training Testing Margins: 36.58% (1.29%)\n",
      "(1832, 1)\n",
      "(1832, 1)\n",
      "(1832, 1051)\n",
      "X_train shape: (1648, 1051)\n",
      "X_test shape: (184, 1051)\n",
      "Fitting 10 folds for each of 12 candidates, totalling 120 fits\n"
     ]
    },
    {
     "name": "stderr",
     "output_type": "stream",
     "text": [
      "[Parallel(n_jobs=1)]: Using backend SequentialBackend with 1 concurrent workers.\n",
      "[Parallel(n_jobs=1)]: Done 120 out of 120 | elapsed:  1.2min finished\n"
     ]
    },
    {
     "name": "stdout",
     "output_type": "stream",
     "text": [
      "best score: 0.6535194174757282\n",
      "Fitting 10 folds for each of 12 candidates, totalling 120 fits\n"
     ]
    },
    {
     "name": "stderr",
     "output_type": "stream",
     "text": [
      "[Parallel(n_jobs=1)]: Using backend SequentialBackend with 1 concurrent workers.\n",
      "[Parallel(n_jobs=1)]: Done 120 out of 120 | elapsed:  3.5min finished\n"
     ]
    },
    {
     "name": "stdout",
     "output_type": "stream",
     "text": [
      "best score: 0.6741504854368932\n",
      "Fitting 10 folds for each of 12 candidates, totalling 120 fits\n"
     ]
    },
    {
     "name": "stderr",
     "output_type": "stream",
     "text": [
      "[Parallel(n_jobs=1)]: Using backend SequentialBackend with 1 concurrent workers.\n",
      "[Parallel(n_jobs=1)]: Done 120 out of 120 | elapsed:  1.5min finished\n"
     ]
    },
    {
     "name": "stdout",
     "output_type": "stream",
     "text": [
      "best score: 0.6741504854368932\n",
      "Fitting 10 folds for each of 12 candidates, totalling 120 fits\n"
     ]
    },
    {
     "name": "stderr",
     "output_type": "stream",
     "text": [
      "[Parallel(n_jobs=1)]: Using backend SequentialBackend with 1 concurrent workers.\n",
      "[Parallel(n_jobs=1)]: Done 120 out of 120 | elapsed:  5.2min finished\n"
     ]
    },
    {
     "name": "stdout",
     "output_type": "stream",
     "text": [
      "best score: 0.6802184466019418\n",
      "Fitting 10 folds for each of 12 candidates, totalling 120 fits\n"
     ]
    },
    {
     "name": "stderr",
     "output_type": "stream",
     "text": [
      "[Parallel(n_jobs=1)]: Using backend SequentialBackend with 1 concurrent workers.\n",
      "[Parallel(n_jobs=1)]: Done 120 out of 120 | elapsed:  2.6min finished\n"
     ]
    },
    {
     "name": "stdout",
     "output_type": "stream",
     "text": [
      "best score: 0.6844660194174758\n",
      "X_train shape: (1648, 1051)\n",
      "X_test shape: (184, 1051)\n",
      "Fitting 10 folds for each of 12 candidates, totalling 120 fits\n"
     ]
    },
    {
     "name": "stderr",
     "output_type": "stream",
     "text": [
      "[Parallel(n_jobs=1)]: Using backend SequentialBackend with 1 concurrent workers.\n",
      "[Parallel(n_jobs=1)]: Done 120 out of 120 | elapsed:  2.5min finished\n"
     ]
    },
    {
     "name": "stdout",
     "output_type": "stream",
     "text": [
      "best score: 0.2529062986734527\n",
      "Fitting 10 folds for each of 12 candidates, totalling 120 fits\n"
     ]
    },
    {
     "name": "stderr",
     "output_type": "stream",
     "text": [
      "[Parallel(n_jobs=1)]: Using backend SequentialBackend with 1 concurrent workers.\n",
      "[Parallel(n_jobs=1)]: Done 120 out of 120 | elapsed:  1.7min finished\n"
     ]
    },
    {
     "name": "stdout",
     "output_type": "stream",
     "text": [
      "best score: 0.2529062986734527\n",
      "Fitting 10 folds for each of 12 candidates, totalling 120 fits\n"
     ]
    },
    {
     "name": "stderr",
     "output_type": "stream",
     "text": [
      "[Parallel(n_jobs=1)]: Using backend SequentialBackend with 1 concurrent workers.\n",
      "[Parallel(n_jobs=1)]: Done 120 out of 120 | elapsed:  3.4min finished\n"
     ]
    },
    {
     "name": "stdout",
     "output_type": "stream",
     "text": [
      "best score: 0.27918868899573224\n",
      "Fitting 10 folds for each of 12 candidates, totalling 120 fits\n"
     ]
    },
    {
     "name": "stderr",
     "output_type": "stream",
     "text": [
      "[Parallel(n_jobs=1)]: Using backend SequentialBackend with 1 concurrent workers.\n",
      "[Parallel(n_jobs=1)]: Done 120 out of 120 | elapsed: 13.1min finished\n"
     ]
    },
    {
     "name": "stdout",
     "output_type": "stream",
     "text": [
      "best score: 0.27918868899573224\n",
      "Fitting 10 folds for each of 12 candidates, totalling 120 fits\n"
     ]
    },
    {
     "name": "stderr",
     "output_type": "stream",
     "text": [
      "[Parallel(n_jobs=1)]: Using backend SequentialBackend with 1 concurrent workers.\n",
      "[Parallel(n_jobs=1)]: Done 120 out of 120 | elapsed:  6.2min finished\n"
     ]
    },
    {
     "name": "stdout",
     "output_type": "stream",
     "text": [
      "best score: 0.27918868899573224\n",
      "      Margin\n",
      "0      -21.0\n",
      "1       42.0\n",
      "2      -34.0\n",
      "3      -37.0\n",
      "4      -24.0\n",
      "...      ...\n",
      "1827   -22.0\n",
      "1828     6.0\n",
      "1829    13.0\n",
      "1830   -13.0\n",
      "1831    20.0\n",
      "\n",
      "[1832 rows x 1 columns]\n",
      "      H_PAV_Sum  A_PAV_Sum  Ladder Pos_H  Form_H  Season Wins_H  \\\n",
      "0        215.03     251.84           3.0     3.0            3.0   \n",
      "1        257.08     204.98           6.0     2.0            2.0   \n",
      "2        258.08     178.63           4.0     3.0            3.0   \n",
      "3        226.35     190.95           9.0     1.0            1.0   \n",
      "4        235.92     212.38          10.0     1.0            1.0   \n",
      "...         ...        ...           ...     ...            ...   \n",
      "1827     272.96     289.18           2.0     2.0           16.0   \n",
      "1828     295.43     269.96           1.0     3.0           18.0   \n",
      "1829     264.04     231.33           5.0     3.0           15.0   \n",
      "1830     272.96     233.21           2.0     2.0           16.0   \n",
      "1831     259.44     264.04           4.0     2.0           16.0   \n",
      "\n",
      "      Season Loss_H  Season Draw_H  H_H/A? n-1  H_H/A Win? n-1  \\\n",
      "0               0.0            0.0         1.0             1.0   \n",
      "1               1.0            0.0         1.0             1.0   \n",
      "2               0.0            0.0         0.0             0.0   \n",
      "3               2.0            0.0         1.0             1.0   \n",
      "4               2.0            0.0         1.0             1.0   \n",
      "...             ...            ...         ...             ...   \n",
      "1827            6.0            0.0         1.0             1.0   \n",
      "1828            4.0            0.0         0.0             0.0   \n",
      "1829            6.0            1.0         1.0             1.0   \n",
      "1830            6.0            0.0         0.0             1.0   \n",
      "1831            6.0            0.0         1.0             0.0   \n",
      "\n",
      "      H_Points For n-1  ...  A_Venue n-3_Mars Stadium  \\\n",
      "0                131.0  ...                       0.0   \n",
      "1                145.0  ...                       0.0   \n",
      "2                135.0  ...                       0.0   \n",
      "3                140.0  ...                       0.0   \n",
      "4                177.0  ...                       0.0   \n",
      "...                ...  ...                       ...   \n",
      "1827             115.0  ...                       0.0   \n",
      "1828             131.0  ...                       0.0   \n",
      "1829              89.0  ...                       0.0   \n",
      "1830              69.0  ...                       0.0   \n",
      "1831              72.0  ...                       0.0   \n",
      "\n",
      "      A_Venue n-3_Marvel Stadium  A_Venue n-3_Metricon Stadium  \\\n",
      "0                            0.0                           0.0   \n",
      "1                            0.0                           0.0   \n",
      "2                            1.0                           0.0   \n",
      "3                            0.0                           0.0   \n",
      "4                            0.0                           0.0   \n",
      "...                          ...                           ...   \n",
      "1827                         1.0                           0.0   \n",
      "1828                         0.0                           0.0   \n",
      "1829                         1.0                           0.0   \n",
      "1830                         1.0                           0.0   \n",
      "1831                         0.0                           0.0   \n",
      "\n",
      "      A_Venue n-3_Optus Stadium  A_Venue n-3_Riverway Stadium  \\\n",
      "0                           0.0                           0.0   \n",
      "1                           0.0                           0.0   \n",
      "2                           0.0                           0.0   \n",
      "3                           0.0                           0.0   \n",
      "4                           0.0                           0.0   \n",
      "...                         ...                           ...   \n",
      "1827                        0.0                           0.0   \n",
      "1828                        0.0                           0.0   \n",
      "1829                        0.0                           0.0   \n",
      "1830                        0.0                           0.0   \n",
      "1831                        1.0                           0.0   \n",
      "\n",
      "      A_Venue n-3_SCG  A_Venue n-3_TIO Stadium  A_Venue n-3_TIO Traeger Park  \\\n",
      "0                 0.0                      0.0                           0.0   \n",
      "1                 0.0                      0.0                           0.0   \n",
      "2                 0.0                      0.0                           0.0   \n",
      "3                 0.0                      0.0                           0.0   \n",
      "4                 0.0                      0.0                           0.0   \n",
      "...               ...                      ...                           ...   \n",
      "1827              0.0                      0.0                           0.0   \n",
      "1828              0.0                      0.0                           0.0   \n",
      "1829              0.0                      0.0                           0.0   \n",
      "1830              0.0                      0.0                           0.0   \n",
      "1831              0.0                      0.0                           0.0   \n",
      "\n",
      "      A_Venue n-3_University of Tasmania Stadium  A_Venue n-3_Westpac Stadium  \n",
      "0                                            0.0                          0.0  \n",
      "1                                            0.0                          0.0  \n",
      "2                                            0.0                          0.0  \n",
      "3                                            0.0                          0.0  \n",
      "4                                            0.0                          0.0  \n",
      "...                                          ...                          ...  \n",
      "1827                                         0.0                          0.0  \n",
      "1828                                         0.0                          0.0  \n",
      "1829                                         0.0                          0.0  \n",
      "1830                                         0.0                          0.0  \n",
      "1831                                         0.0                          0.0  \n",
      "\n",
      "[1832 rows x 1051 columns]\n",
      "Split: 1\n"
     ]
    },
    {
     "name": "stderr",
     "output_type": "stream",
     "text": [
      "/home/chris/anaconda3/lib/python3.8/site-packages/sklearn/preprocessing/_label.py:235: DataConversionWarning: A column-vector y was passed when a 1d array was expected. Please change the shape of y to (n_samples, ), for example using ravel().\n",
      "  y = column_or_1d(y, warn=True)\n",
      "/home/chris/anaconda3/lib/python3.8/site-packages/sklearn/preprocessing/_label.py:268: DataConversionWarning: A column-vector y was passed when a 1d array was expected. Please change the shape of y to (n_samples, ), for example using ravel().\n",
      "  y = column_or_1d(y, warn=True)\n"
     ]
    },
    {
     "name": "stdout",
     "output_type": "stream",
     "text": [
      "variables for auroc curve done. Processing fold accuracy + checking best model\n",
      "[ 6.60743179e+01 -6.13889694e+00  1.35364795e+00 -5.43985863e+01\n",
      " -1.26570358e+01  1.30990744e+01 -2.51530528e+00 -2.43167858e+01\n",
      "  3.41344452e+01  1.07053213e+01 -1.01629198e+00  8.69177170e+01\n",
      " -1.60088406e+01  1.27233706e+01  2.13322411e+01  1.29209518e+01\n",
      "  3.68385601e+00  3.19600601e+01 -7.63096428e+00 -1.07673388e+01\n",
      "  4.30215111e+01  4.21261635e+01  7.27638674e+00  2.25287209e+01\n",
      " -1.99916019e+01  2.99241962e+01  1.57325611e+01 -3.91527100e+01\n",
      "  6.93271494e+00  1.68303204e+01 -3.18541756e+01  9.15655804e+00\n",
      " -7.08365631e+00 -1.17186565e+01  3.21466827e+01 -1.78058529e+00\n",
      " -3.48658333e+01 -3.39066887e+01  3.45469170e+01  6.06007729e+01\n",
      "  1.09978018e+01  8.64998722e+00  1.34693146e+01  3.19319916e+01\n",
      "  5.19992495e+00 -1.69301376e+01 -2.41506233e+01  1.54245224e+01\n",
      " -1.38435717e+01 -3.96169434e+01 -3.54853401e+01  2.58181896e+01\n",
      "  7.21677208e+00  5.60577164e+01  6.18436241e+00  3.14897404e+01\n",
      "  4.06261292e+01  2.82359047e+01  8.24628830e+01  5.02529526e+01\n",
      "  4.61619339e+01 -1.31051073e+01 -3.27987938e+01 -9.38935089e+00\n",
      "  1.40203447e+01 -7.88476086e+00  5.23110428e+01 -1.39829865e+01\n",
      "  1.60932052e+00  2.05662289e+01 -9.91088867e+00  1.71186600e+01\n",
      " -4.10788231e+01  1.97603912e+01  4.31610336e+01  1.33015556e+01\n",
      "  1.26658993e+01  3.26084709e+01 -3.46685350e-01  5.92122383e+01\n",
      "  3.47542458e+01  4.65228882e+01 -3.52137299e+01 -8.77673149e+00\n",
      "  3.46196060e+01  4.33217096e+00 -1.21502771e+01  1.56327772e+01\n",
      "  4.62272186e+01 -9.28697491e+00 -1.64057446e+01  1.22977133e+01\n",
      " -6.38056517e+00  4.71418953e+01 -3.20556164e-01 -7.06774473e+00\n",
      "  3.99473915e+01 -1.10026093e+01  1.32312040e+01  1.18444042e+01\n",
      " -5.74033976e+00  2.50005493e+01 -9.62781334e+00 -1.09489346e+01\n",
      " -1.53080463e+00  2.33071685e+00  1.11671467e+01 -3.95193787e+01\n",
      "  2.00702209e+01  1.66324959e+01 -2.28622150e+00  3.81514053e+01\n",
      " -2.94613266e+00 -3.38376961e+01  1.48282824e+01  3.10826969e+01\n",
      " -7.48242807e+00  1.87012081e+01  3.55143051e+01  3.15835476e+01\n",
      "  3.83313484e+01 -5.53074455e+00 -2.33315105e+01  3.72650604e+01\n",
      "  3.98598404e+01 -2.96434479e+01  3.79578590e-01  5.62988129e+01\n",
      "  1.53617468e+01  1.64585457e+01  8.99126720e+00  1.24185343e+01\n",
      " -1.38492298e+00  8.39423752e+00  1.20887995e-01 -1.18090272e+00\n",
      "  3.31008873e+01 -6.70009851e+00 -1.33605394e+01  1.17194569e+00\n",
      "  1.87193146e+01  2.69544239e+01  3.79667473e+01 -1.96800995e+01\n",
      " -1.81510715e+01 -1.21770353e+01  3.93855515e+01  8.08747959e+00\n",
      "  2.09273396e+01  1.14706411e+01  1.31463175e+01 -2.12398314e+00\n",
      "  3.32517052e+01  1.64331932e+01  1.07636662e+01  3.17399085e-01\n",
      " -2.53281784e+00  1.20206966e+01 -3.22491169e+00  6.50311661e+00\n",
      " -1.32798872e+01  6.43763542e+00  9.49003315e+00  2.97318287e+01\n",
      " -3.68327980e+01  2.89161415e+01 -1.37399149e+01 -2.87846050e+01\n",
      "  2.37242737e+01  7.93711996e+00 -2.68124542e+01 -1.07822104e+01\n",
      " -6.91024399e+00  8.26360035e+00  2.97073956e+01 -2.79778252e+01\n",
      "  2.27670574e+01 -2.45033627e+01 -3.10753479e+01  4.41756248e+00\n",
      "  1.38365107e+01  4.53994870e-02  2.22163277e+01 -8.12497520e+00]\n",
      "The accuracy of this model is68.47826086956522\n",
      "The rmse of this model is36.60037510882959\n",
      "found new best classify\n",
      "found best new margin\n",
      "Split: 2\n"
     ]
    },
    {
     "name": "stderr",
     "output_type": "stream",
     "text": [
      "/home/chris/anaconda3/lib/python3.8/site-packages/sklearn/preprocessing/_label.py:235: DataConversionWarning: A column-vector y was passed when a 1d array was expected. Please change the shape of y to (n_samples, ), for example using ravel().\n",
      "  y = column_or_1d(y, warn=True)\n",
      "/home/chris/anaconda3/lib/python3.8/site-packages/sklearn/preprocessing/_label.py:268: DataConversionWarning: A column-vector y was passed when a 1d array was expected. Please change the shape of y to (n_samples, ), for example using ravel().\n",
      "  y = column_or_1d(y, warn=True)\n"
     ]
    },
    {
     "name": "stdout",
     "output_type": "stream",
     "text": [
      "variables for auroc curve done. Processing fold accuracy + checking best model\n",
      "[ -6.6609764  -15.482249     6.9011717   21.968494   -56.65524\n",
      "  50.682316    25.055595    -3.0523744    9.988397    39.492184\n",
      "   4.3625736   17.376202    -3.1056502   31.810371    14.196511\n",
      "  21.403357    12.867165    24.490469    14.843635    45.088478\n",
      "  -2.5286157   -6.043755    48.81172    -20.832258     9.937681\n",
      " -30.8763      33.80041     46.488197    -4.764658    33.882114\n",
      "  -4.4328594  -23.029255    11.657836     5.1468062    6.5573297\n",
      "  33.49576    -26.90209     -0.36336464  17.247429    46.084118\n",
      "  41.365986    16.429152    12.214637     6.385619    57.94512\n",
      "  17.707617    33.05328     -3.8145075   45.14812    -28.681854\n",
      " -21.95634     34.09749     17.760418    -7.440819    63.984753\n",
      "  29.831553    -4.5809994    0.49644297  22.074673    26.429966\n",
      " -12.863543    -7.7196016  -20.071465     8.31149    -37.854805\n",
      " -19.712034     7.671379    21.588959    10.973364     6.884394\n",
      "  -5.8725224   16.453754   -44.86319    -18.286093    32.710697\n",
      "  23.882042     2.6036298   24.814972   -53.103638    -3.8491244\n",
      "  70.534744    -4.669519    13.827563     8.028324   -23.432364\n",
      " -11.777202   -33.899174    27.298212    13.108755    25.209322\n",
      " -24.023642   -43.108036    25.595125   -10.199701    31.525331\n",
      "  -2.2411332    0.9659038   -8.747211    28.410233   -24.138878\n",
      "  23.871513   -42.16348      9.728711     7.5970635    8.792019\n",
      "  25.753721    24.990955   -10.437445     3.8656137    4.979692\n",
      "  10.40023     -8.800762     0.6729176   18.042414    -4.139472\n",
      "  16.4861      29.10935     16.834616     0.37583292  -4.388281\n",
      "  41.85037    -11.631449   -22.92507    -43.602837    31.724548\n",
      "   1.1424978   20.065348    17.208727    16.246819    16.347733\n",
      "  -1.8760765    0.20081976   1.1364241   14.383497   -13.738635\n",
      "  -7.2602096   17.033339    -3.9086428   23.625717    -2.3278031\n",
      "  41.64095     47.815598   -20.001621    37.949883    52.846836\n",
      " -10.392202    11.485523    27.024963    33.606247     0.65546894\n",
      " -16.676092    19.843882   -11.729343    14.937662   -15.856573\n",
      " -13.254806    36.082348   -27.103958     4.7061734  -19.371202\n",
      "  -0.3361466   17.402376    26.42653      5.7806654    1.8005209\n",
      "   8.880553   -12.122802   -16.693697    28.233742    10.177536\n",
      "  23.809797    28.937803    12.050401    29.734076     1.6395111\n",
      "  27.592695    -9.759016    27.796213   -10.003741   -14.849228\n",
      "  19.63503      7.8299375   33.816647    -1.1685088 ]\n",
      "The accuracy of this model is67.93478260869566\n",
      "The rmse of this model is38.02402298218386\n",
      "Split: 3\n"
     ]
    },
    {
     "name": "stderr",
     "output_type": "stream",
     "text": [
      "/home/chris/anaconda3/lib/python3.8/site-packages/sklearn/preprocessing/_label.py:235: DataConversionWarning: A column-vector y was passed when a 1d array was expected. Please change the shape of y to (n_samples, ), for example using ravel().\n",
      "  y = column_or_1d(y, warn=True)\n",
      "/home/chris/anaconda3/lib/python3.8/site-packages/sklearn/preprocessing/_label.py:268: DataConversionWarning: A column-vector y was passed when a 1d array was expected. Please change the shape of y to (n_samples, ), for example using ravel().\n",
      "  y = column_or_1d(y, warn=True)\n"
     ]
    },
    {
     "name": "stdout",
     "output_type": "stream",
     "text": [
      "variables for auroc curve done. Processing fold accuracy + checking best model\n",
      "[ 45.751133     2.823686    -8.5639305  -14.600103    -3.788166\n",
      " -16.951488    63.680706    10.5506735    9.7855425   52.894802\n",
      "  44.82582     22.181      -19.611502    -2.677251    -1.4519161\n",
      "  27.412401    -1.8471987  -25.284845    12.003909   -27.234137\n",
      "  30.804213     1.5777434   29.658205   -11.043448   -17.259083\n",
      " -10.331634     1.0901155   -2.800869    39.813644   -10.431364\n",
      " -25.38658    -18.529295   -10.066693    -9.141933    28.880606\n",
      "   3.948022    48.53203     -5.644435     0.88259757 -49.863808\n",
      "  -2.5576315   15.791859     2.252131    15.685949     7.498445\n",
      "  48.05839     21.960896   -12.957671    45.383114   -21.037481\n",
      " -36.461414    12.943439    16.857922    -7.223484   -37.576008\n",
      "   4.382271   -20.23639     24.265863    17.14068     -6.37153\n",
      "  -0.83898914  39.240406   -18.067347    42.002388    20.753727\n",
      " -41.737244    -3.962604    33.607327    -4.075013    42.104374\n",
      "  15.801759    -3.713966     6.310758    -1.2263625   14.1100025\n",
      "  22.138748    23.58781      7.3277926  -23.322237   -26.14138\n",
      "   6.881969     3.9123335  -19.078476    39.82121      5.9483547\n",
      "  27.872147    22.299782     7.901028    38.07984    -30.843594\n",
      "  13.500765    27.14645     27.994972    40.353783    30.226505\n",
      "  22.601206    16.501255    21.131294    23.415041    -5.3606863\n",
      "  -2.7719738   28.885536    52.63498      8.132355     1.6600243\n",
      "   7.6140556   12.909354    33.209007    12.111016    15.00102\n",
      "  10.80196    -14.651763    22.378798     2.8868878  -21.580587\n",
      "  44.861744    23.747684    10.64048    -33.221767   -57.448986\n",
      "   5.652279    20.605593     4.0857286   22.616734     6.676575\n",
      "  22.889263    15.5781975   -8.4611635  -13.9570875  -24.722553\n",
      " -10.319067    -5.4831886   19.37137    -20.750158    -4.907119\n",
      "  58.96938     21.68411     10.985492    -2.5647357  -11.332924\n",
      "  23.295544    -7.8921585   -0.77995336 -16.789604    -8.439537\n",
      "  -2.9867265   22.918354    12.402315    34.275795   -26.500628\n",
      "   7.053889   -11.029766    21.131744     8.507452    19.645832\n",
      " -20.730919   -15.957998   -24.54922     19.046734    10.768717\n",
      "   2.6419446    6.423747    17.490263    55.01034     12.648199\n",
      " -10.0591345   -2.774248   -38.07071     25.497421    14.241428\n",
      "  17.64984     35.579453   -23.579393    17.449347    17.165537\n",
      "  15.530113   -26.44151     10.937162    21.882645     9.133973\n",
      "   7.993543    -8.787689    49.974014  ]\n",
      "The accuracy of this model is69.39890710382514\n",
      "The rmse of this model is35.50420325966846\n",
      "found new best classify\n",
      "found best new margin\n",
      "Split: 4\n"
     ]
    },
    {
     "name": "stderr",
     "output_type": "stream",
     "text": [
      "/home/chris/anaconda3/lib/python3.8/site-packages/sklearn/preprocessing/_label.py:235: DataConversionWarning: A column-vector y was passed when a 1d array was expected. Please change the shape of y to (n_samples, ), for example using ravel().\n",
      "  y = column_or_1d(y, warn=True)\n",
      "/home/chris/anaconda3/lib/python3.8/site-packages/sklearn/preprocessing/_label.py:268: DataConversionWarning: A column-vector y was passed when a 1d array was expected. Please change the shape of y to (n_samples, ), for example using ravel().\n",
      "  y = column_or_1d(y, warn=True)\n"
     ]
    },
    {
     "name": "stdout",
     "output_type": "stream",
     "text": [
      "variables for auroc curve done. Processing fold accuracy + checking best model\n",
      "[ 17.389978   -13.03529     31.41245     -3.7348986  -20.534365\n",
      " -19.846909    -1.9024408   36.331665   -16.152271    22.709278\n",
      "  -6.4450345   52.43845     36.337254     0.8444176   22.304808\n",
      "  -0.20512372   5.8992896   11.339851    15.328628    15.789548\n",
      "  23.88769    -10.973342   -29.833527     7.823754    48.02431\n",
      "   9.957947     8.10766     -7.115567    48.511932    23.569777\n",
      "  22.154816    19.323767    48.72724      4.9860263  -10.229345\n",
      "  23.248241     3.9776206   24.313438    51.7024       6.232373\n",
      "  23.787199    39.215553    -3.3532903   -3.2222602  -20.291094\n",
      " -12.703332    -4.471684    37.04358    -41.57207     -9.059298\n",
      "  -5.9893694   15.123174     3.822066    -0.7021165   20.4057\n",
      "  -7.0607314    3.2996712   -3.9917054   81.828156    15.944012\n",
      "   7.71171     42.09513     11.055653    25.38499     -6.865847\n",
      "  -5.9858356  -11.1208725   10.446925    73.93412     15.11602\n",
      " -45.97502     11.411888   -10.521266   -30.213696    16.81697\n",
      "  25.151783    15.104133    49.370663    13.196957   -11.894738\n",
      "  23.330881    41.73525      9.47289     31.069689   -34.847897\n",
      " -13.624243     1.788218    33.7974      -2.3320124    6.717748\n",
      " -17.669924     9.8272915   37.73541    -22.599024    37.90805\n",
      "  57.60884     14.477469    16.778782    17.844719     5.345169\n",
      "  16.690317    21.721464     9.505451     4.0244503   -3.9305816\n",
      "  -5.1866517    8.587971    20.478008     3.592025   -18.90821\n",
      " -14.840802    33.082775    60.412952    37.62984    -31.904938\n",
      "  14.947932   -23.976269    11.840999     4.793592    19.368822\n",
      " -22.731222    13.737606     8.497928     5.778617    -9.3616495\n",
      "  43.15283      2.4575374    6.3255825   -4.134285   -15.983366\n",
      "   5.1828885  -10.503772     1.0536139   23.74855     -9.087655\n",
      "  12.250986     1.2609093   41.093506     5.5540237   -1.4831303\n",
      "  22.680618     3.2377763  -17.857908     8.328565    23.930323\n",
      "   6.604625     0.19415396  62.374615    -3.064196    24.851688\n",
      "  67.619514    -9.281111    -8.064763    23.842958     0.51694226\n",
      "  38.274513   -22.255756    17.387735     4.867909    -5.7301807\n",
      "   0.84613246 -13.416592     9.829403    25.706738    -7.1686926\n",
      " -11.504901    12.517925    43.134342     1.8418607    3.5622802\n",
      "   2.3047862  -11.643408     7.8916364    8.525552     7.240756\n",
      "   4.457512    -5.296618    13.709349   -13.598915   -18.022757\n",
      " -26.250067     3.03763    -21.952843  ]\n",
      "The accuracy of this model is68.30601092896174\n",
      "The rmse of this model is34.28093188001723\n",
      "found best new margin\n",
      "Split: 5\n"
     ]
    },
    {
     "name": "stderr",
     "output_type": "stream",
     "text": [
      "/home/chris/anaconda3/lib/python3.8/site-packages/sklearn/preprocessing/_label.py:235: DataConversionWarning: A column-vector y was passed when a 1d array was expected. Please change the shape of y to (n_samples, ), for example using ravel().\n",
      "  y = column_or_1d(y, warn=True)\n",
      "/home/chris/anaconda3/lib/python3.8/site-packages/sklearn/preprocessing/_label.py:268: DataConversionWarning: A column-vector y was passed when a 1d array was expected. Please change the shape of y to (n_samples, ), for example using ravel().\n",
      "  y = column_or_1d(y, warn=True)\n"
     ]
    },
    {
     "name": "stdout",
     "output_type": "stream",
     "text": [
      "variables for auroc curve done. Processing fold accuracy + checking best model\n",
      "[ 19.214725    -4.191541    15.756961    40.655354    55.33505\n",
      " -24.396479    57.222744   -42.009747    56.848484   -49.81769\n",
      " -38.799088     0.77842885   9.558726    24.953167   -24.398527\n",
      "   4.5313034    3.7020946   -9.598425    -6.829985     2.1260989\n",
      "   1.3027933   15.169118    28.573997    39.04766     33.288887\n",
      "  15.497207    20.351128   -31.111813   -31.324183    59.523773\n",
      "   9.207619    10.994644   -13.563575    13.851405     5.223216\n",
      " -30.909943    32.574265   -24.9261      62.75483     48.59837\n",
      "  13.423098    -4.750147   -12.686761   -16.80028      7.5342145\n",
      "  39.15861    -53.904842   -20.877604   -21.26202    -14.32699\n",
      "  24.719595   -39.82984    -20.449984     3.168548    -2.372371\n",
      " -12.540847   -30.458807    18.247505    -0.5581529   31.608547\n",
      "  -3.3474438  -12.204104    46.507915     8.789034    34.113457\n",
      "  33.353306   -32.320705    21.75425     11.4356     -38.992596\n",
      " -21.998854     4.3779225  -24.851347    10.645134    13.080792\n",
      "  14.784037     5.0443835   35.98056     21.30755      5.191949\n",
      " -18.668568   -13.791011    -6.100048    -8.736157   -10.423321\n",
      "  25.06193     31.129637    -1.6529872    0.51157796  -7.484973\n",
      " -43.655357    34.450546    17.39148     51.33138     11.424225\n",
      "  23.132807    30.935644    15.385791    -5.069258     6.8721585\n",
      "  14.387782   -15.767942     3.0135891   39.52282    -55.564846\n",
      "  -4.8181224    5.685145    -1.5594172   31.211946   -30.441902\n",
      "  49.045734    44.430817   -15.228316    13.93174     -5.0607576\n",
      "  23.289598    13.115732    30.677683     5.0591216   45.260838\n",
      "   0.4943899   21.338087    27.052742    -7.5765324  -16.142773\n",
      "  13.246181    19.317873   -17.711176    14.427851    23.434864\n",
      "  11.706068   -13.096092    18.324621     0.98764694 -17.638224\n",
      "  38.29178     -1.706763   -36.30513     22.880095    25.9157\n",
      "  33.376534     3.3548908   10.436465     2.087368   -12.601459\n",
      "   6.9102707    7.136608    -7.496746    18.653145   -44.121006\n",
      "   8.640089    -3.6141353   -5.425565     3.678582    21.216858\n",
      "  29.614723   -25.037102   -16.23741      5.898447     3.2959383\n",
      "  27.53545     20.050087    43.510273   -25.489782    35.82246\n",
      "  16.540194    27.329622    47.040085     3.8093655    4.868939\n",
      "   8.562668    37.986816   -29.280298    14.220843    32.429665\n",
      "  12.88411     -6.179207   -13.330649    41.6118      31.003767\n",
      " -26.811655    -3.2960668    6.157878  ]\n",
      "The accuracy of this model is69.39890710382514\n",
      "The rmse of this model is34.230272057952426\n",
      "found best new margin\n",
      "Split: 6\n"
     ]
    },
    {
     "name": "stderr",
     "output_type": "stream",
     "text": [
      "/home/chris/anaconda3/lib/python3.8/site-packages/sklearn/preprocessing/_label.py:235: DataConversionWarning: A column-vector y was passed when a 1d array was expected. Please change the shape of y to (n_samples, ), for example using ravel().\n",
      "  y = column_or_1d(y, warn=True)\n",
      "/home/chris/anaconda3/lib/python3.8/site-packages/sklearn/preprocessing/_label.py:268: DataConversionWarning: A column-vector y was passed when a 1d array was expected. Please change the shape of y to (n_samples, ), for example using ravel().\n",
      "  y = column_or_1d(y, warn=True)\n"
     ]
    },
    {
     "name": "stdout",
     "output_type": "stream",
     "text": [
      "variables for auroc curve done. Processing fold accuracy + checking best model\n",
      "[ 2.46347256e+01  2.08727932e+01 -2.34458714e+01 -2.99459209e+01\n",
      " -1.07058125e+01  2.03796158e+01  8.42355042e+01  7.57150364e+00\n",
      "  1.52057886e+01  6.67269850e+00 -3.84187851e+01  3.81991434e+00\n",
      " -6.30295753e+01  5.38884087e+01 -1.68855038e+01  2.14914627e+01\n",
      "  1.42733231e+01  8.86572647e+00  4.55582657e+01 -3.85300636e+01\n",
      "  3.97667198e+01  1.23735323e+01 -1.83685088e+00  1.44630070e+01\n",
      " -7.73735046e+00 -2.28593998e+01 -4.67554855e+01  1.65496063e+01\n",
      "  1.36262331e+01  2.09602852e+01  1.00557995e+01 -3.70257339e+01\n",
      " -1.50390348e+01 -2.49558086e+01 -2.50919247e+01 -8.73048782e+00\n",
      " -1.59218197e+01 -1.38727367e+00  1.39990215e+01 -3.16983247e+00\n",
      " -6.48051548e+00  3.68213921e+01 -3.63551044e+00 -1.93240318e+01\n",
      " -1.72664700e+01 -2.07878189e+01 -1.60434494e+01 -1.93939543e+00\n",
      " -7.34590816e+00  1.38341703e+01 -8.64097595e-01 -3.49124603e+01\n",
      " -1.08839397e+01  2.14328365e+01 -2.99754620e+01  6.21067200e+01\n",
      "  1.71318417e+01  3.31167145e+01  2.32849121e+01  1.11051979e+01\n",
      "  4.65375786e+01  4.30977974e+01  3.19769020e+01 -4.22901511e-02\n",
      " -2.01126232e+01 -3.71596527e+00 -7.02006197e+00  3.07019005e+01\n",
      " -1.24156103e+01 -2.50615635e+01 -6.69941568e+00  1.87053852e+01\n",
      " -2.37005920e+01  2.71072540e+01  2.40718689e+01 -2.73242340e+01\n",
      " -2.90148392e+01  3.41977286e+00  8.10615158e+00 -4.59651756e+00\n",
      "  8.51756668e+00 -2.12033916e+00  7.33996658e+01  5.65005875e+00\n",
      " -2.72809219e+01  2.23892822e+01  1.44349661e+01  2.75143986e+01\n",
      "  2.85202103e+01  5.09588814e+01 -6.65424204e+00 -2.16247292e+01\n",
      "  2.03434200e+01 -1.83093476e+00 -9.94861507e+00 -5.58091736e+00\n",
      "  1.65320168e+01  3.66497002e+01  1.54552879e+01  3.08614502e+01\n",
      " -1.29594202e+01 -2.66806793e+00 -1.70220242e+01 -6.88855886e+00\n",
      "  1.65702248e+01  5.42900801e+00  1.10717745e+01  2.06249642e+00\n",
      " -2.43872108e+01 -1.59673862e+01  4.45820389e+01  1.31233263e+01\n",
      " -2.71825180e+01  2.16384392e+01 -1.67714462e+01  3.55497131e+01\n",
      "  5.28380775e+01 -3.26824045e+00 -2.81109858e+00  2.40017338e+01\n",
      " -3.82791758e-02  1.22419872e+01  1.36424637e+00  1.66839352e+01\n",
      " -4.50964928e+00  1.39458179e+00  1.01216927e+01 -3.22527199e+01\n",
      "  1.15831318e+01 -1.06288233e+01 -2.17136025e+00 -2.61227226e+00\n",
      " -1.42883253e+01  1.17150486e+00  1.80994110e+01  1.24073095e+01\n",
      " -2.81576276e+00  5.56958580e+01  4.73947573e+00  3.64178734e+01\n",
      "  9.48125744e+00  3.46718712e+01 -1.36711760e+01  1.68742313e+01\n",
      "  1.29120111e+01 -1.22428303e+01 -2.32975826e+01 -3.05564041e+01\n",
      "  3.51521158e+00 -3.48889923e+00  1.40193672e+01 -1.14996328e+01\n",
      "  5.15809822e+00 -1.14766264e+01 -9.34111786e+00  4.45120525e+00\n",
      "  2.82572479e+01  2.67589927e+00 -1.65519714e+00  2.11407299e+01\n",
      " -2.44206524e+01  5.16177559e+01 -3.01598740e+01 -2.33263817e+01\n",
      "  3.24456100e+01  3.26091123e+00  2.12685719e+01 -5.07468939e+00\n",
      "  2.85437355e+01  1.43580914e+01 -1.93594170e+01  2.91055107e+01\n",
      " -1.61413422e+01 -4.28495932e+00  3.11375446e+01 -1.49015961e+01\n",
      " -5.76652956e+00  6.02792454e+00 -1.98134937e+01 -1.92244606e+01\n",
      " -3.43038344e+00  3.97687912e+01  2.32380371e+01]\n",
      "The accuracy of this model is69.94535519125684\n",
      "The rmse of this model is36.01776826640921\n",
      "found new best classify\n",
      "Split: 7\n"
     ]
    },
    {
     "name": "stderr",
     "output_type": "stream",
     "text": [
      "/home/chris/anaconda3/lib/python3.8/site-packages/sklearn/preprocessing/_label.py:235: DataConversionWarning: A column-vector y was passed when a 1d array was expected. Please change the shape of y to (n_samples, ), for example using ravel().\n",
      "  y = column_or_1d(y, warn=True)\n",
      "/home/chris/anaconda3/lib/python3.8/site-packages/sklearn/preprocessing/_label.py:268: DataConversionWarning: A column-vector y was passed when a 1d array was expected. Please change the shape of y to (n_samples, ), for example using ravel().\n",
      "  y = column_or_1d(y, warn=True)\n"
     ]
    },
    {
     "name": "stdout",
     "output_type": "stream",
     "text": [
      "variables for auroc curve done. Processing fold accuracy + checking best model\n",
      "[-2.38912761e-01  3.38146019e+01  3.01464615e+01  2.64683571e+01\n",
      "  2.05573196e+01  1.47666912e+01 -2.28482285e+01 -1.04290781e+01\n",
      "  2.22145844e+01 -2.41225681e+01 -2.83677197e+01 -3.76820374e+01\n",
      "  1.42723389e+01  3.85054665e+01 -3.89406700e+01 -1.77439117e+01\n",
      "  3.23256874e+01 -1.75933895e+01 -7.66740131e+00  1.48611622e+01\n",
      "  7.23904657e+00  2.76283741e+01  5.13909340e+00  9.20890713e+00\n",
      " -1.90927982e-02 -3.43194313e+01  5.61266937e+01  6.74563217e+00\n",
      " -1.18178062e+01 -1.43394156e+01  1.28948679e+01  5.82886276e+01\n",
      " -5.30840874e+01 -8.01655579e+00  3.71138916e+01 -8.39171314e+00\n",
      " -1.72505131e+01 -5.11850595e-01  7.89086151e+00  5.80723763e+01\n",
      " -3.16766472e+01  5.71039162e+01  4.26445808e+01  2.45262718e+01\n",
      " -3.04670086e+01  3.74355850e+01 -9.73807049e+00  2.12891560e+01\n",
      "  4.88364639e+01 -1.69312038e+01 -2.68054752e+01 -3.57515488e+01\n",
      " -3.22704010e+01  1.47864065e+01  2.32091370e+01  2.03474712e+01\n",
      " -4.15001678e+00 -1.43612313e+00  1.96154079e+01  1.69892254e+01\n",
      "  1.05715504e+01  3.97900939e+00  6.89409714e+01  7.93171406e+00\n",
      "  4.55215607e+01 -1.41229315e+01 -2.62100677e+01  1.10945578e+01\n",
      " -5.16107407e+01 -5.30984521e-01  2.39214535e+01 -2.97306085e+00\n",
      "  3.39945679e+01 -2.46602917e+01  1.57911520e+01 -5.61158829e+01\n",
      "  3.03937931e+01  1.21820068e+01  6.19349861e+00 -5.57977581e+00\n",
      "  3.86491699e+01  2.73977261e+01 -2.20482273e+01  1.85937786e+01\n",
      " -1.96669140e+01 -1.20351944e+01 -3.45300903e+01 -2.16370068e+01\n",
      " -6.12849617e+00 -2.47422714e+01  9.39168262e+00  3.78923874e+01\n",
      " -2.09641285e+01  1.33337641e+01  6.01767254e+00 -6.37316704e-02\n",
      "  7.29676914e+00 -2.54130592e+01 -1.30382166e+01 -8.29942513e+00\n",
      " -1.71190872e+01  5.73067589e+01  2.83438683e+01 -4.61340380e+00\n",
      "  5.60954895e+01 -1.10034382e+00 -2.95101318e+01  2.43526912e+00\n",
      "  3.14257336e+01  2.97552280e+01  4.79430103e+00  8.18615150e+00\n",
      " -5.89829254e+00  8.04069877e-01 -2.93581963e+00  2.30616540e-01\n",
      " -3.33707199e+01  3.28987236e+01  1.21401453e+01  1.36790657e+01\n",
      " -2.41922722e+01  9.58252716e+00  2.04277325e+01 -3.97867727e+00\n",
      "  2.70778694e+01 -5.75296450e+00  1.22568817e+01  2.04417920e+00\n",
      " -2.01014805e+01  1.42544003e+01 -1.44809713e+01  1.13489389e+01\n",
      " -3.02892818e+01  2.55105953e+01 -6.86068201e+00  6.11752224e+00\n",
      " -1.24285851e+01  2.45237923e+01 -4.76833820e+00 -9.15454388e-01\n",
      "  1.94830418e+01 -1.85906639e+01 -8.49516296e+00  1.08806133e+00\n",
      " -6.18155622e+00  2.40627651e+01  2.39375687e+01  1.04894829e+01\n",
      "  4.88303041e+00  7.40572023e+00  4.68427086e+01 -2.02963104e+01\n",
      " -3.20791130e+01  2.85831604e+01 -5.54887009e+00  4.36887856e+01\n",
      " -6.30199862e+00  1.62629223e+01  2.78224621e+01  1.20972710e+01\n",
      " -3.14025135e+01  3.37405090e+01  4.91395721e+01 -2.93957520e+01\n",
      "  2.36086774e+00  2.54984283e+00  9.87448025e+00 -1.33403502e+01\n",
      "  2.04972267e+01 -2.13744450e+01 -2.14826298e+01 -5.78805017e+00\n",
      " -1.73299618e+01  4.38436928e+01 -2.42315555e+00  1.40954275e+01\n",
      " -1.05912089e-02  3.20444560e+00  3.31621265e+00 -2.37661433e+00\n",
      " -4.35966682e+01  4.52962074e+01 -1.41890030e+01]\n",
      "The accuracy of this model is57.377049180327866\n",
      "The rmse of this model is39.795906099434085\n",
      "Split: 8\n"
     ]
    },
    {
     "name": "stderr",
     "output_type": "stream",
     "text": [
      "/home/chris/anaconda3/lib/python3.8/site-packages/sklearn/preprocessing/_label.py:235: DataConversionWarning: A column-vector y was passed when a 1d array was expected. Please change the shape of y to (n_samples, ), for example using ravel().\n",
      "  y = column_or_1d(y, warn=True)\n",
      "/home/chris/anaconda3/lib/python3.8/site-packages/sklearn/preprocessing/_label.py:268: DataConversionWarning: A column-vector y was passed when a 1d array was expected. Please change the shape of y to (n_samples, ), for example using ravel().\n",
      "  y = column_or_1d(y, warn=True)\n"
     ]
    },
    {
     "name": "stdout",
     "output_type": "stream",
     "text": [
      "variables for auroc curve done. Processing fold accuracy + checking best model\n",
      "[-5.7532301e+00 -1.4504857e+01 -1.2730172e+01  1.4266790e+01\n",
      "  5.1081757e+01 -1.5263851e+01 -5.3230157e+00 -3.1107567e+01\n",
      " -2.9051037e+00  3.0965940e+01  1.1939836e+01  1.7856433e+00\n",
      "  7.4632668e+00  5.2307384e+01  3.3988365e+01 -2.2117191e+01\n",
      "  6.9340720e+00  3.0031023e+00  6.3232942e+00  2.3052174e+01\n",
      "  2.4965645e+01 -8.6464796e+00 -1.0961436e+01  4.0709362e+01\n",
      " -1.6931324e+00  2.2144993e+01 -1.2311784e+01  4.4902580e+01\n",
      "  1.8823366e+01  9.8545847e+00 -7.6385965e+00 -2.8384209e+01\n",
      "  1.8786043e-02  4.5311386e+01  3.8286762e+01  8.5829659e+00\n",
      " -8.4559555e+00  1.2894347e+01  1.4188297e+01  3.2237030e+01\n",
      "  3.4183472e+01 -1.9946821e+01 -2.5545580e+01  4.8731934e+01\n",
      "  2.9498764e+01  8.1961012e+00 -2.3844082e+00  1.9517820e+01\n",
      "  2.6521013e+01  1.0724941e+01  1.5402496e+01  1.5029942e+01\n",
      "  5.2340097e+00  1.1754978e+01 -2.1716068e+01  1.7712275e+01\n",
      " -1.8012077e+01  2.8331268e+00 -2.4229143e+01 -1.2586138e+01\n",
      " -4.0682373e+01  2.9178448e+01 -1.8243420e+01  2.4047692e+00\n",
      " -1.3109890e+01 -3.3655952e+01 -1.4050040e+01  2.1172352e+01\n",
      "  1.6658802e+01  2.9971731e+01  9.6541386e+00 -6.3594413e+00\n",
      "  2.3528263e+01  8.6045237e+00 -1.3261008e+01 -1.1593126e+01\n",
      " -3.1071085e+01  5.4258246e+00  9.9621754e+00  9.1059752e+00\n",
      "  2.6551136e+01  3.6914925e+01  3.3418545e-01  7.0685077e+00\n",
      " -2.9266497e+01 -6.1584845e+00  8.5169210e+00 -1.1075711e+01\n",
      " -1.6096760e+01  5.6562496e+01 -1.0438193e+01 -6.6000113e+00\n",
      " -1.3112189e+01  8.2292576e+00 -3.8810551e+01 -2.1115677e+01\n",
      "  2.1022158e+01 -1.2833005e+01 -4.2501993e+00  2.7347580e+01\n",
      " -9.1886349e+00  2.3778700e+01  3.8462875e+00  3.5273674e+00\n",
      " -8.3945618e+00  4.1816864e+00 -1.0368132e+01 -4.0738846e+01\n",
      "  2.9115101e+01 -1.0670349e+01 -1.0437164e+00  1.6388180e+01\n",
      " -3.6176693e+01  4.9229595e+01 -3.3076024e+00  1.6599445e+01\n",
      "  1.4155615e+01 -1.7696388e+01 -3.7180016e+01  5.4035199e-01\n",
      " -2.6741018e+00  1.6542770e+01  2.3252590e+01 -2.0484638e+00\n",
      "  6.4939137e+00 -2.6007318e+00 -1.4744919e+01 -7.7182398e+00\n",
      "  3.8456981e+00 -1.6536964e+01 -7.9492569e+00 -3.4215896e+00\n",
      "  3.7370074e+00  2.6190250e+01 -1.8273195e+01 -2.6085987e+01\n",
      " -7.1510415e+00  6.7607079e+00 -5.1070824e+00  9.6027498e+00\n",
      "  1.3280741e+01  3.9071000e+00 -2.4279789e+01  8.2150135e+00\n",
      " -3.9041896e+00 -1.0945469e+01 -2.5453377e+01  1.4517789e+01\n",
      "  3.0393000e+00 -9.7424593e+00 -6.6318593e+00  1.7828134e+00\n",
      "  1.8152355e+01  2.5438723e+01 -1.2607702e+01 -9.5031881e+00\n",
      "  1.0861597e+01  3.7154594e+01  2.6300371e+01  1.1121506e+01\n",
      " -1.4719771e+01 -2.8339128e+00 -2.9365826e+00 -1.4647549e+01\n",
      "  2.6873142e+01  3.2322098e+01  1.2250951e+01  9.8024244e+00\n",
      " -6.6066656e+00  2.7511547e+01  5.3519489e+01 -5.3415799e+00\n",
      "  6.3747948e+01 -1.1273888e+01  2.4935282e+01  7.7129936e+00\n",
      "  1.0314695e+01 -5.2693123e+01 -1.6895592e+01  5.9829731e+00\n",
      " -5.5923286e+01 -6.9502163e-01  2.7831139e+01]\n",
      "The accuracy of this model is60.65573770491803\n",
      "The rmse of this model is37.593267505488626\n",
      "Split: 9\n"
     ]
    },
    {
     "name": "stderr",
     "output_type": "stream",
     "text": [
      "/home/chris/anaconda3/lib/python3.8/site-packages/sklearn/preprocessing/_label.py:235: DataConversionWarning: A column-vector y was passed when a 1d array was expected. Please change the shape of y to (n_samples, ), for example using ravel().\n",
      "  y = column_or_1d(y, warn=True)\n",
      "/home/chris/anaconda3/lib/python3.8/site-packages/sklearn/preprocessing/_label.py:268: DataConversionWarning: A column-vector y was passed when a 1d array was expected. Please change the shape of y to (n_samples, ), for example using ravel().\n",
      "  y = column_or_1d(y, warn=True)\n"
     ]
    },
    {
     "name": "stdout",
     "output_type": "stream",
     "text": [
      "variables for auroc curve done. Processing fold accuracy + checking best model\n",
      "[ 53.44204     -5.87419     -0.89638996  -1.2152038  -13.057657\n",
      "  -6.2144384   17.766268    35.56598    -27.474203    43.000782\n",
      "   9.858479    56.12206     46.59909    -45.394024    -7.2268133\n",
      "  34.11513     16.907814    47.30806      1.2408339   55.581234\n",
      "   1.3453877    8.619099    39.45953      1.5262173  -13.115459\n",
      "   4.651192    14.0871525  -15.856934    12.342269    28.28107\n",
      "  11.593445    -0.48314315  26.414387     6.4359574   27.766188\n",
      "  69.329544     9.306258    49.088367    -5.791849    29.086945\n",
      "   2.472108    28.234524   -32.063477   -13.597251    -8.060321\n",
      " -29.809967   -17.760738    40.642044    -8.331799   -37.398136\n",
      "  -5.364617   -21.295486   -13.7314005  -11.071428   -15.175444\n",
      " -35.572308    18.152288    33.107315   -24.157053   -12.742604\n",
      "  40.521294     4.2770042   31.540447    39.49628     11.522819\n",
      " -19.779726     0.7069957  -10.080487    11.42288     -4.3279953\n",
      "  22.087934    24.07273     -6.7510595   22.121332    22.821058\n",
      " -17.206347    11.296833   -23.38907    -28.945189    23.900248\n",
      "   5.726006    43.96916    -12.58564     32.70141     35.527103\n",
      " -11.6666       6.696805    31.977581   -26.841146    37.80709\n",
      "   3.5596979    0.74406445  24.351515    39.280483     5.721554\n",
      "  -9.666024    -7.014754    49.521694   -14.617137    11.285316\n",
      " -11.583378    36.778126     4.7741094   29.151812     0.86931586\n",
      " -15.072981   -28.882065     0.4113238   -0.23431432  21.325193\n",
      "   2.4369247  -46.946045   -34.053013    -8.132265     9.988823\n",
      "  19.956854   -35.08552     -6.505942     1.4193125   25.615133\n",
      " -53.40952     11.257837    20.587292    -8.021025     7.7504306\n",
      "  28.807549     3.779122    -9.929629     7.9456396   -3.331572\n",
      "  -5.9344707    5.6802154   26.172447   -18.311884     8.570864\n",
      " -19.230679    29.16531     -1.8816884   33.121304    23.572577\n",
      "  16.740297   -11.315093   -13.619724    21.644604    17.335567\n",
      " -18.045647    -2.9288895   18.409782   -28.498528    14.88108\n",
      "  -9.0360985    5.459158    21.426489    -0.78145707 -12.412628\n",
      " -19.013773   -13.460747     8.332176    22.488245    19.067621\n",
      "  12.690939    -2.206905    23.403805   -25.658112    24.048532\n",
      "   6.191139   -26.225613    13.996799    19.430271    -2.642087\n",
      " -28.268976   -37.427113    13.74528     -9.061232    61.437267\n",
      "  -5.7575536   17.324043    13.473482     7.919498     8.4693775\n",
      " -15.290729    -6.482829   -14.754241  ]\n",
      "The accuracy of this model is65.57377049180327\n",
      "The rmse of this model is34.6321756658815\n",
      "Split: 10\n"
     ]
    },
    {
     "name": "stderr",
     "output_type": "stream",
     "text": [
      "/home/chris/anaconda3/lib/python3.8/site-packages/sklearn/preprocessing/_label.py:235: DataConversionWarning: A column-vector y was passed when a 1d array was expected. Please change the shape of y to (n_samples, ), for example using ravel().\n",
      "  y = column_or_1d(y, warn=True)\n",
      "/home/chris/anaconda3/lib/python3.8/site-packages/sklearn/preprocessing/_label.py:268: DataConversionWarning: A column-vector y was passed when a 1d array was expected. Please change the shape of y to (n_samples, ), for example using ravel().\n",
      "  y = column_or_1d(y, warn=True)\n"
     ]
    },
    {
     "name": "stdout",
     "output_type": "stream",
     "text": [
      "variables for auroc curve done. Processing fold accuracy + checking best model\n",
      "[ 1.12380323e+01  1.73145008e+01 -6.60381012e+01 -5.89878511e+00\n",
      "  4.17482986e+01  3.05968151e+01 -2.15950146e+01  2.91978607e+01\n",
      " -3.61445427e+01  1.97063885e+01  6.95862818e+00  1.37951841e+01\n",
      " -1.56816578e+01  2.91374550e+01  2.71333847e+01  1.67179239e+00\n",
      "  1.11708176e+00  5.95882463e+00 -8.38247108e+00  2.00277367e+01\n",
      " -4.89724083e+01  1.78155613e+01 -1.28385353e+01  1.54686368e+00\n",
      " -7.32055235e+00 -1.12591686e+01  2.14621468e+01  4.31199379e+01\n",
      "  2.19395409e+01 -9.78740692e+00  2.43261662e+01 -4.21486626e+01\n",
      " -2.73400669e+01 -2.81317711e-01 -4.09806252e+01 -2.80198040e+01\n",
      " -5.35853195e+01  4.43971825e+01  6.52892208e+00  2.03376102e+00\n",
      "  1.36695757e+01  1.84623833e+01  5.12154245e+00 -1.46622610e+01\n",
      "  4.31997204e+00  2.80771542e+01 -4.62483835e+00  2.62119026e+01\n",
      "  2.39071732e+01 -1.19305763e+01  3.97897911e+01  6.61516647e+01\n",
      " -1.02939558e+01  2.63661652e+01  6.26509619e+00  4.43373966e+00\n",
      "  4.14017029e+01 -2.86839237e+01  6.39244366e+00  2.44840088e+01\n",
      "  6.66487122e+01 -1.78194656e+01  2.20452070e+00  3.00388050e+01\n",
      " -1.42666125e+00  7.78687429e+00  2.31704273e+01  1.84895575e+00\n",
      " -1.26292753e+01  2.65003662e+01  1.28332949e+01 -1.56867237e+01\n",
      "  3.26870956e+01 -2.58491898e+01  2.23776340e+01 -2.26301289e+01\n",
      "  7.84768066e+01  2.22857952e+01  6.94707155e-01 -1.09766665e+01\n",
      " -5.26923180e+01 -7.74627590e+00  2.74923000e+01  1.93901119e+01\n",
      " -2.53086224e+01  1.83806431e+00  2.10673571e-01  2.62872658e+01\n",
      "  3.08290939e+01  1.02308950e+01 -1.55188608e+00  2.52854710e+01\n",
      "  2.43604965e+01  1.37418261e+01  3.92255630e+01  2.91068993e+01\n",
      "  1.86485350e+00 -3.21250379e-01  8.30814171e+00  4.38002968e+00\n",
      " -1.20295792e+01  4.32220650e+01 -4.69121857e+01  4.38511467e+00\n",
      "  2.36036682e+01  1.85084891e+00 -2.50698471e+01  2.17973557e+01\n",
      " -1.77864027e+00 -1.28735828e+01  2.18131542e+01 -2.35761795e+01\n",
      " -1.70399704e+01 -1.09798937e+01  5.25666580e+01 -5.40997148e-01\n",
      " -1.46164179e+01 -3.26573677e+01 -2.15617085e+01 -1.73090720e+00\n",
      "  6.89589548e+00  2.35590515e+01 -2.47260761e+00  3.69710159e+01\n",
      "  8.52069664e+00  6.08345032e+01  5.08161831e+00 -4.79477549e+00\n",
      "  2.64578362e+01  1.84329071e+01 -5.77094030e+00 -3.29506087e+00\n",
      "  1.50581989e+01  1.58726287e+00  4.41350365e+00  1.12234898e+01\n",
      "  3.15259361e+01 -8.97179508e+00  5.54879723e+01  2.50530491e+01\n",
      " -2.67153549e+00 -7.83045769e+00  1.84049873e+01  3.70146066e-01\n",
      "  1.23067951e+01 -8.84388733e+00  4.15890026e+00 -2.17481709e+00\n",
      "  1.19869585e+01 -1.28387213e-01 -1.15057096e+01  1.07134619e+01\n",
      "  3.63517570e+01  2.75285168e+01  3.71885223e+01  1.18454561e+01\n",
      " -3.25423393e+01  6.85954237e+00  8.22767448e+00 -2.95373173e+01\n",
      " -4.86241531e+00  1.70348663e+01  3.20133820e+01  3.08127766e+01\n",
      " -3.71595993e+01  8.36313248e-01 -1.48894234e+01  2.41431427e+01\n",
      " -1.78137183e+00  3.05352116e+01  1.27678890e+01 -1.57019768e+01\n",
      " -6.38887167e+00 -2.05175996e-01 -3.57712326e+01 -2.53516464e+01\n",
      "  4.75900602e+00  2.74893975e+00  4.68199844e+01 -8.55886936e-03\n",
      " -1.53942623e+01  4.94405098e+01 -9.66545677e+00]\n",
      "The accuracy of this model is69.39890710382514\n",
      "The rmse of this model is32.66872253347274\n",
      "found best new margin\n",
      "Best win percentage split = 69.94535519125684\n",
      "Best margin rmse = 32.66872253347274\n",
      "Training Testing Accuracy: 66.65% (4.05%)\n",
      "Training Testing Margins: 35.93% (2.02%)\n",
      "(1769, 1)\n",
      "(1769, 1)\n",
      "(1769, 3268)\n",
      "X_train shape: (1592, 3268)\n",
      "X_test shape: (177, 3268)\n",
      "Fitting 10 folds for each of 12 candidates, totalling 120 fits\n"
     ]
    },
    {
     "name": "stderr",
     "output_type": "stream",
     "text": [
      "[Parallel(n_jobs=1)]: Using backend SequentialBackend with 1 concurrent workers.\n",
      "[Parallel(n_jobs=1)]: Done 120 out of 120 | elapsed:  3.6min finished\n"
     ]
    },
    {
     "name": "stdout",
     "output_type": "stream",
     "text": [
      "best score: 0.6526381909547738\n",
      "Fitting 10 folds for each of 12 candidates, totalling 120 fits\n"
     ]
    },
    {
     "name": "stderr",
     "output_type": "stream",
     "text": [
      "[Parallel(n_jobs=1)]: Using backend SequentialBackend with 1 concurrent workers.\n",
      "[Parallel(n_jobs=1)]: Done 120 out of 120 | elapsed:  2.7min finished\n"
     ]
    },
    {
     "name": "stdout",
     "output_type": "stream",
     "text": [
      "best score: 0.6526381909547738\n",
      "Fitting 10 folds for each of 12 candidates, totalling 120 fits\n"
     ]
    },
    {
     "name": "stderr",
     "output_type": "stream",
     "text": [
      "[Parallel(n_jobs=1)]: Using backend SequentialBackend with 1 concurrent workers.\n",
      "[Parallel(n_jobs=1)]: Done 120 out of 120 | elapsed:  3.8min finished\n"
     ]
    },
    {
     "name": "stdout",
     "output_type": "stream",
     "text": [
      "best score: 0.6664572864321608\n",
      "Fitting 10 folds for each of 12 candidates, totalling 120 fits\n"
     ]
    },
    {
     "name": "stderr",
     "output_type": "stream",
     "text": [
      "[Parallel(n_jobs=1)]: Using backend SequentialBackend with 1 concurrent workers.\n",
      "[Parallel(n_jobs=1)]: Done 120 out of 120 | elapsed: 10.5min finished\n"
     ]
    },
    {
     "name": "stdout",
     "output_type": "stream",
     "text": [
      "best score: 0.6727386934673367\n",
      "Fitting 10 folds for each of 12 candidates, totalling 120 fits\n"
     ]
    },
    {
     "name": "stderr",
     "output_type": "stream",
     "text": [
      "[Parallel(n_jobs=1)]: Using backend SequentialBackend with 1 concurrent workers.\n",
      "[Parallel(n_jobs=1)]: Done 120 out of 120 | elapsed: 17.1min finished\n"
     ]
    },
    {
     "name": "stdout",
     "output_type": "stream",
     "text": [
      "best score: 0.6771356783919598\n",
      "X_train shape: (1592, 3268)\n",
      "X_test shape: (177, 3268)\n",
      "Fitting 10 folds for each of 12 candidates, totalling 120 fits\n"
     ]
    },
    {
     "name": "stderr",
     "output_type": "stream",
     "text": [
      "[Parallel(n_jobs=1)]: Using backend SequentialBackend with 1 concurrent workers.\n",
      "[Parallel(n_jobs=1)]: Done 120 out of 120 | elapsed:  7.4min finished\n"
     ]
    },
    {
     "name": "stdout",
     "output_type": "stream",
     "text": [
      "best score: 0.2367219763365788\n",
      "Fitting 10 folds for each of 12 candidates, totalling 120 fits\n"
     ]
    },
    {
     "name": "stderr",
     "output_type": "stream",
     "text": [
      "[Parallel(n_jobs=1)]: Using backend SequentialBackend with 1 concurrent workers.\n",
      "[Parallel(n_jobs=1)]: Done 120 out of 120 | elapsed:  9.3min finished\n"
     ]
    },
    {
     "name": "stdout",
     "output_type": "stream",
     "text": [
      "best score: 0.24025584213637927\n",
      "Fitting 10 folds for each of 12 candidates, totalling 120 fits\n"
     ]
    },
    {
     "name": "stderr",
     "output_type": "stream",
     "text": [
      "[Parallel(n_jobs=1)]: Using backend SequentialBackend with 1 concurrent workers.\n",
      "[Parallel(n_jobs=1)]: Done 120 out of 120 | elapsed:  6.7min finished\n"
     ]
    },
    {
     "name": "stdout",
     "output_type": "stream",
     "text": [
      "best score: 0.24025584213637927\n",
      "Fitting 10 folds for each of 12 candidates, totalling 120 fits\n"
     ]
    },
    {
     "name": "stderr",
     "output_type": "stream",
     "text": [
      "[Parallel(n_jobs=1)]: Using backend SequentialBackend with 1 concurrent workers.\n",
      "[Parallel(n_jobs=1)]: Done 120 out of 120 | elapsed:  8.8min finished\n"
     ]
    },
    {
     "name": "stdout",
     "output_type": "stream",
     "text": [
      "best score: 0.24025584213637927\n",
      "Fitting 10 folds for each of 12 candidates, totalling 120 fits\n"
     ]
    },
    {
     "name": "stderr",
     "output_type": "stream",
     "text": [
      "[Parallel(n_jobs=1)]: Using backend SequentialBackend with 1 concurrent workers.\n",
      "[Parallel(n_jobs=1)]: Done 120 out of 120 | elapsed:  9.6min finished\n"
     ]
    },
    {
     "name": "stdout",
     "output_type": "stream",
     "text": [
      "best score: 0.24025584213637927\n",
      "      Margin\n",
      "0        5.0\n",
      "1      -59.0\n",
      "2      -77.0\n",
      "3       15.0\n",
      "4       -4.0\n",
      "...      ...\n",
      "1764   -22.0\n",
      "1765     6.0\n",
      "1766    13.0\n",
      "1767   -13.0\n",
      "1768    20.0\n",
      "\n",
      "[1769 rows x 1 columns]\n",
      "      H_PAV_Sum  A_PAV_Sum  Ladder Pos_H  Form_H  Season Wins_H  \\\n",
      "0        239.37     261.62           5.0     7.0            7.0   \n",
      "1        178.78     239.86          18.0     0.0            0.0   \n",
      "2        240.11     240.13           9.0     5.0            5.0   \n",
      "3        175.47     262.28          13.0     4.0            4.0   \n",
      "4        219.37     196.24          16.0     2.0            2.0   \n",
      "...         ...        ...           ...     ...            ...   \n",
      "1764     272.96     289.18           2.0     6.0           16.0   \n",
      "1765     295.43     269.96           1.0    10.0           18.0   \n",
      "1766     264.04     231.33           5.0     6.0           15.0   \n",
      "1767     272.96     233.21           2.0     6.0           16.0   \n",
      "1768     259.44     264.04           4.0     9.0           16.0   \n",
      "\n",
      "      Season Loss_H  Season Draw_H  H_H/A? n-1  H_H/A Win? n-1  \\\n",
      "0               3.0            0.0         1.0             0.0   \n",
      "1              10.0            0.0         1.0             0.0   \n",
      "2               5.0            0.0         0.0             1.0   \n",
      "3               6.0            0.0         1.0             0.0   \n",
      "4               8.0            0.0         1.0             0.0   \n",
      "...             ...            ...         ...             ...   \n",
      "1764            6.0            0.0         1.0             1.0   \n",
      "1765            4.0            0.0         0.0             0.0   \n",
      "1766            6.0            1.0         1.0             1.0   \n",
      "1767            6.0            0.0         0.0             1.0   \n",
      "1768            6.0            0.0         1.0             0.0   \n",
      "\n",
      "      H_Points For n-1  ...  A_Venue n-10_Mars Stadium  \\\n",
      "0                 71.0  ...                        0.0   \n",
      "1                 54.0  ...                        0.0   \n",
      "2                 59.0  ...                        0.0   \n",
      "3                 71.0  ...                        0.0   \n",
      "4                 65.0  ...                        0.0   \n",
      "...                ...  ...                        ...   \n",
      "1764             115.0  ...                        0.0   \n",
      "1765             131.0  ...                        0.0   \n",
      "1766              89.0  ...                        0.0   \n",
      "1767              69.0  ...                        0.0   \n",
      "1768              72.0  ...                        0.0   \n",
      "\n",
      "      A_Venue n-10_Marvel Stadium  A_Venue n-10_Metricon Stadium  \\\n",
      "0                             0.0                            0.0   \n",
      "1                             0.0                            0.0   \n",
      "2                             0.0                            0.0   \n",
      "3                             1.0                            0.0   \n",
      "4                             0.0                            0.0   \n",
      "...                           ...                            ...   \n",
      "1764                          0.0                            0.0   \n",
      "1765                          0.0                            0.0   \n",
      "1766                          0.0                            0.0   \n",
      "1767                          0.0                            0.0   \n",
      "1768                          1.0                            0.0   \n",
      "\n",
      "      A_Venue n-10_Optus Stadium  A_Venue n-10_Riverway Stadium  \\\n",
      "0                            0.0                            0.0   \n",
      "1                            0.0                            0.0   \n",
      "2                            0.0                            0.0   \n",
      "3                            0.0                            0.0   \n",
      "4                            0.0                            0.0   \n",
      "...                          ...                            ...   \n",
      "1764                         0.0                            0.0   \n",
      "1765                         0.0                            0.0   \n",
      "1766                         0.0                            0.0   \n",
      "1767                         0.0                            0.0   \n",
      "1768                         0.0                            0.0   \n",
      "\n",
      "      A_Venue n-10_SCG  A_Venue n-10_TIO Stadium  \\\n",
      "0                  0.0                       0.0   \n",
      "1                  0.0                       0.0   \n",
      "2                  0.0                       0.0   \n",
      "3                  0.0                       0.0   \n",
      "4                  0.0                       0.0   \n",
      "...                ...                       ...   \n",
      "1764               0.0                       0.0   \n",
      "1765               0.0                       0.0   \n",
      "1766               0.0                       0.0   \n",
      "1767               0.0                       0.0   \n",
      "1768               0.0                       0.0   \n",
      "\n",
      "      A_Venue n-10_TIO Traeger Park  \\\n",
      "0                               0.0   \n",
      "1                               0.0   \n",
      "2                               0.0   \n",
      "3                               0.0   \n",
      "4                               0.0   \n",
      "...                             ...   \n",
      "1764                            0.0   \n",
      "1765                            0.0   \n",
      "1766                            0.0   \n",
      "1767                            0.0   \n",
      "1768                            0.0   \n",
      "\n",
      "      A_Venue n-10_University of Tasmania Stadium  \\\n",
      "0                                             0.0   \n",
      "1                                             0.0   \n",
      "2                                             0.0   \n",
      "3                                             0.0   \n",
      "4                                             0.0   \n",
      "...                                           ...   \n",
      "1764                                          0.0   \n",
      "1765                                          0.0   \n",
      "1766                                          0.0   \n",
      "1767                                          0.0   \n",
      "1768                                          0.0   \n",
      "\n",
      "      A_Venue n-10_Westpac Stadium  \n",
      "0                              0.0  \n",
      "1                              0.0  \n",
      "2                              0.0  \n",
      "3                              0.0  \n",
      "4                              0.0  \n",
      "...                            ...  \n",
      "1764                           0.0  \n",
      "1765                           0.0  \n",
      "1766                           0.0  \n",
      "1767                           0.0  \n",
      "1768                           0.0  \n",
      "\n",
      "[1769 rows x 3268 columns]\n",
      "Split: 1\n"
     ]
    },
    {
     "name": "stderr",
     "output_type": "stream",
     "text": [
      "/home/chris/anaconda3/lib/python3.8/site-packages/sklearn/preprocessing/_label.py:235: DataConversionWarning: A column-vector y was passed when a 1d array was expected. Please change the shape of y to (n_samples, ), for example using ravel().\n",
      "  y = column_or_1d(y, warn=True)\n",
      "/home/chris/anaconda3/lib/python3.8/site-packages/sklearn/preprocessing/_label.py:268: DataConversionWarning: A column-vector y was passed when a 1d array was expected. Please change the shape of y to (n_samples, ), for example using ravel().\n",
      "  y = column_or_1d(y, warn=True)\n"
     ]
    },
    {
     "name": "stdout",
     "output_type": "stream",
     "text": [
      "variables for auroc curve done. Processing fold accuracy + checking best model\n",
      "[ 17.483315    -2.7906964  -10.534229    18.572855   -17.846972\n",
      "  -4.9658914   15.832847    -7.4756684    7.7595863  -25.653418\n",
      "  44.03535     15.87049     38.35236    -36.35628      0.35097155\n",
      "  11.2401705  -22.723248    -6.9974275    9.311874    -3.7991567\n",
      "  11.448795    12.77713    -15.766483    11.711488    22.059933\n",
      " -26.787024    -7.087307     3.5203576  -28.384544    -1.4788225\n",
      "  -7.6647177    6.079122   -23.253382    12.355951     6.254536\n",
      "   7.6084404   11.628927   -17.597124    20.682856    22.946774\n",
      "  19.498589    -8.581619   -10.737518     0.6566017   22.67194\n",
      "  -0.304604     5.2570343   31.19196     10.83335     10.861148\n",
      "   5.8999286   19.873457    15.7795725  -11.575739    11.470216\n",
      " -25.268944     1.7283521   14.360209    10.547906    37.234997\n",
      "   5.4774456   22.095314    22.795168     1.8895327   -2.2010443\n",
      " -37.985363     4.5165195   18.253448    17.098204   -18.56117\n",
      "  -5.6021066  -23.290428    28.025711    21.76319     22.674994\n",
      "   1.0008845    0.10434672   4.75316     -4.433082     0.2553151\n",
      "  45.86826     26.298054    25.218357    19.136055     6.9255114\n",
      "   1.8474691  -19.510458    25.217434     6.609011    -9.071833\n",
      "  -0.6604637    6.2521887   10.7885475   -2.8316286  -11.999125\n",
      " -29.24802     13.494816    34.994274    -5.924953    -7.61318\n",
      "  21.88882     27.374714    13.348184     9.908168    33.484436\n",
      "  39.903084   -17.643038    29.528954    22.942308    40.34635\n",
      "  -1.7117336   35.252323    -1.6593933  -36.94958     -2.686706\n",
      "  -1.7287073  -29.018871   -34.328274    12.958773   -26.372568\n",
      " -19.859009    10.018279    13.048124    18.600138     3.3099244\n",
      "  -0.22301894  -1.2676678   -6.94866     -4.8638744   -5.5516734\n",
      "  -6.108749     1.3111498   27.736786     8.788733   -16.41112\n",
      " -14.026372   -16.391573    33.324562    20.622776    14.258662\n",
      "  28.485403     1.587136    -3.7004013  -21.777132     5.7888246\n",
      "  26.284525    -4.6603484   -1.5607698    9.744186    -1.2950561\n",
      "  17.397993     7.739138    22.525497     0.71309453 -18.84001\n",
      "  13.197306    18.273165    -8.321232    16.851614     9.447066\n",
      "  -0.2610227   15.781422     6.926258     0.5636239  -11.646603\n",
      "  11.346819   -26.382463    25.854492     8.61555     28.570108\n",
      " -37.302357    19.57561     37.29881     15.988322    28.769726\n",
      "  -3.8499637   -3.3279152 ]\n",
      "The accuracy of this model is67.2316384180791\n",
      "The rmse of this model is37.54546646168996\n",
      "found new best classify\n",
      "found best new margin\n",
      "Split: 2\n"
     ]
    },
    {
     "name": "stderr",
     "output_type": "stream",
     "text": [
      "/home/chris/anaconda3/lib/python3.8/site-packages/sklearn/preprocessing/_label.py:235: DataConversionWarning: A column-vector y was passed when a 1d array was expected. Please change the shape of y to (n_samples, ), for example using ravel().\n",
      "  y = column_or_1d(y, warn=True)\n",
      "/home/chris/anaconda3/lib/python3.8/site-packages/sklearn/preprocessing/_label.py:268: DataConversionWarning: A column-vector y was passed when a 1d array was expected. Please change the shape of y to (n_samples, ), for example using ravel().\n",
      "  y = column_or_1d(y, warn=True)\n"
     ]
    },
    {
     "name": "stdout",
     "output_type": "stream",
     "text": [
      "variables for auroc curve done. Processing fold accuracy + checking best model\n",
      "[ 2.43659153e+01 -1.63605404e+01  5.19966240e+01  1.62699623e+01\n",
      "  2.50464649e+01 -4.41303749e+01 -2.42671657e+00  1.78172512e+01\n",
      " -3.13628197e+01  1.35290976e+01 -4.27058315e+00  2.00270157e+01\n",
      "  2.42693748e+01 -1.64342833e+00 -1.33256998e+01  1.43363638e+01\n",
      " -5.93567944e+00 -1.03386536e+01 -1.86730080e+01  1.39142237e+01\n",
      " -1.26866055e+01  8.74883556e+00 -2.88475666e+01 -2.81794376e+01\n",
      "  1.55242605e+01  6.18126822e+00  2.58595123e+01 -1.73487449e+00\n",
      "  3.78373528e+01  2.25657387e+01  3.46724701e+01 -2.25077286e+01\n",
      "  8.62131405e+00 -3.05203700e+00  2.46845245e+01  1.28916502e+00\n",
      "  1.06156216e+01 -1.75108128e+01  1.04872150e+01  1.81474590e+01\n",
      " -3.54975986e+00  2.27208424e+01  3.32522049e+01  2.42832108e+01\n",
      " -1.77238941e+01  2.10210819e+01  2.76313763e+01  8.45329571e+00\n",
      " -1.53911495e+01 -3.02110405e+01 -6.42753363e+00 -3.55964813e+01\n",
      "  6.23072195e+00  3.45131207e+00 -2.49851685e+01  2.61930656e+01\n",
      "  2.34674816e+01  5.77652779e+01  2.89882507e+01 -8.31640244e+00\n",
      "  6.63962746e+00  1.22306471e+01 -2.50074921e+01  4.50843573e+00\n",
      " -1.15906134e+01  6.29620838e+00  2.43748474e+01  1.42277765e+01\n",
      " -1.48290663e+01  1.33808069e+01  7.42040348e+00 -6.50116444e+00\n",
      " -9.40817738e+00  2.45639648e+01 -2.28831983e+00  3.26772614e+01\n",
      "  1.82691898e+01 -5.04638863e+00  3.06939335e+01 -2.40341949e+00\n",
      "  1.56851492e+01  8.44946766e+00  4.31633854e+00 -2.53966408e+01\n",
      "  2.52480373e+01  1.77120399e+01  1.47916059e+01 -6.14653540e+00\n",
      "  9.61445904e+00  1.21049213e+01  3.00483108e+00  1.94271450e+01\n",
      " -5.44382524e+00 -1.80824471e+01 -9.31805611e+00  9.96815205e+00\n",
      "  9.06055260e+00  1.39814291e+01  7.25344038e+00 -1.07109032e+01\n",
      " -1.59358025e+01  6.50883341e+00  3.63808823e+01  3.94721527e+01\n",
      "  2.15869865e+01  7.00570345e+00  4.31115799e+01  3.01673775e+01\n",
      "  4.08023977e+00  1.93760319e+01  2.70241117e+00 -1.18671980e+01\n",
      "  1.58309278e+01  3.06858425e+01  1.62027855e+01  1.78040981e+01\n",
      " -9.13331127e+00  1.64773331e+01  3.55485106e+00  1.57207985e+01\n",
      " -3.20280910e-01  5.63630867e+00  2.16150641e+00 -1.38011765e+00\n",
      "  1.26430006e+01 -7.58817673e+00  2.35353889e+01 -3.76127815e+00\n",
      " -2.23628368e+01  2.34607887e+01 -1.05063896e+01  5.16728210e+00\n",
      " -9.08061886e+00  1.49929209e+01 -1.40394983e+01 -1.21333015e+00\n",
      "  1.31143618e+01 -2.06725574e+00  2.18139229e+01  2.93233871e+00\n",
      "  9.92417049e+00  2.07827663e+01  1.07521400e+01 -3.42584252e+00\n",
      " -3.73784924e+00  2.15552711e+01  1.18954916e+01  9.41436100e+00\n",
      "  1.76070518e+01  2.52141533e+01  5.93555975e+00  1.26703751e+00\n",
      "  8.29650879e-01 -3.50098610e-02  4.02572708e+01 -5.25922418e-01\n",
      "  2.12189217e+01  3.03625469e+01  1.38769989e+01  2.47531967e+01\n",
      " -1.87177525e+01 -2.65929151e+00 -2.29867649e+01 -4.81652021e-01\n",
      "  2.27967415e+01  1.81398716e+01 -2.39289570e+01  2.00959225e+01\n",
      "  3.66014624e+00 -1.23942356e+01  1.76713257e+01  3.43324776e+01\n",
      "  3.49513664e+01  1.35978298e+01  1.13118243e+00 -1.59501038e+01\n",
      "  3.12425957e+01]\n",
      "The accuracy of this model is68.92655367231639\n",
      "The rmse of this model is37.794709121505434\n",
      "found new best classify\n",
      "Split: 3\n"
     ]
    },
    {
     "name": "stderr",
     "output_type": "stream",
     "text": [
      "/home/chris/anaconda3/lib/python3.8/site-packages/sklearn/preprocessing/_label.py:235: DataConversionWarning: A column-vector y was passed when a 1d array was expected. Please change the shape of y to (n_samples, ), for example using ravel().\n",
      "  y = column_or_1d(y, warn=True)\n",
      "/home/chris/anaconda3/lib/python3.8/site-packages/sklearn/preprocessing/_label.py:268: DataConversionWarning: A column-vector y was passed when a 1d array was expected. Please change the shape of y to (n_samples, ), for example using ravel().\n",
      "  y = column_or_1d(y, warn=True)\n"
     ]
    },
    {
     "name": "stdout",
     "output_type": "stream",
     "text": [
      "variables for auroc curve done. Processing fold accuracy + checking best model\n",
      "[  8.026599    27.112062   -14.970526     4.721549   -23.312014\n",
      "  -0.4184147   -0.93097055 -11.490714     4.0566463  -18.531286\n",
      " -17.715101    38.11354     -1.6620562  -10.28022      8.396469\n",
      "  10.826368     3.7187026    6.8622193   14.957463    29.26333\n",
      "  10.292282   -12.395974   -15.638182    16.137486     4.485982\n",
      "  24.456133     6.8027625   12.397944   -16.830053    24.140625\n",
      "  -3.375662    20.431051     1.6963192   -5.137871     2.5261638\n",
      " -13.327684     7.735094    30.591566   -16.983334     9.296423\n",
      "  13.840433    36.852684    19.92396      7.0500646   13.982953\n",
      "  37.1489      17.357672    -5.3513823   16.588396    25.095587\n",
      "   3.4105291   25.252289    13.511751    15.002603    -5.421332\n",
      "  18.037235    -8.941822    25.806017   -16.108131   -11.91952\n",
      "   2.5227985   11.765861     5.5561457    1.8031617   -2.416374\n",
      "   5.45285     15.62699     14.35639      8.630937     8.250416\n",
      "  31.24899    -30.158375    -1.8543818   11.620121    15.342846\n",
      "  33.37585      6.8526716   -8.749562     8.03738    -17.97948\n",
      " -11.143538   -38.82798     23.797321     1.1347072   -9.239374\n",
      "  26.875275    23.387377     6.015083    14.526944    -8.711805\n",
      "  25.883919    -8.540577   -19.239292   -15.831219   -15.634937\n",
      "  31.099289    32.13226    -10.110013    12.22532    -16.27692\n",
      "  34.308342    11.138466    24.640717   -11.758789    11.624498\n",
      "  21.90644     15.967155    -8.466056    -3.5761852    2.658709\n",
      "   2.8144283   31.753365   -12.021866   -19.207787     9.730623\n",
      "  -4.2372046    6.3437495    7.439699     5.0785213   11.112333\n",
      "  41.604607    -9.617501    26.745115   -34.443516    11.754328\n",
      "   9.402129    -0.6962476    0.44962755  12.546869     1.9102943\n",
      " -11.15305      8.338657     9.2897005    1.2826301   -4.1418138\n",
      "  23.098783    -9.445396     7.330304    -9.774222    49.901726\n",
      "   4.028689    -5.9811263    0.29641926  33.609188     0.42995685\n",
      "  16.061264   -20.34037      8.336479    10.208987    20.135307\n",
      "  25.916431    -9.157532    -7.812333     2.9594367   29.259346\n",
      " -10.863782   -11.816657   -10.411724   -22.014652    -0.64429283\n",
      " -25.789644   -18.532349    19.957216    12.224017    29.795534\n",
      "  21.90156     23.976833    41.8638     -26.399115    23.677324\n",
      "  52.474823    -0.9360944   13.812729     3.482331   -20.905884\n",
      "  -2.8867059   18.326908  ]\n",
      "The accuracy of this model is68.36158192090396\n",
      "The rmse of this model is38.30459760634365\n",
      "Split: 4\n"
     ]
    },
    {
     "name": "stderr",
     "output_type": "stream",
     "text": [
      "/home/chris/anaconda3/lib/python3.8/site-packages/sklearn/preprocessing/_label.py:235: DataConversionWarning: A column-vector y was passed when a 1d array was expected. Please change the shape of y to (n_samples, ), for example using ravel().\n",
      "  y = column_or_1d(y, warn=True)\n",
      "/home/chris/anaconda3/lib/python3.8/site-packages/sklearn/preprocessing/_label.py:268: DataConversionWarning: A column-vector y was passed when a 1d array was expected. Please change the shape of y to (n_samples, ), for example using ravel().\n",
      "  y = column_or_1d(y, warn=True)\n"
     ]
    },
    {
     "name": "stdout",
     "output_type": "stream",
     "text": [
      "variables for auroc curve done. Processing fold accuracy + checking best model\n",
      "[-2.66945477e+01  3.37396851e+01  8.95092106e+00 -7.91644192e+00\n",
      "  3.63682747e+01  1.40794992e+01  2.04993954e+01  1.77173862e+01\n",
      "  1.77905025e+01  3.22439575e+01  1.96053715e+01  3.32810516e+01\n",
      " -5.10776758e+00 -1.24633276e+00 -7.72429466e+00  1.21612444e+01\n",
      "  1.86581020e+01  3.35979691e+01  1.13366499e+01 -7.04071522e+00\n",
      "  1.03894300e+01  6.91961145e+00  3.52402472e+00  5.32089567e+00\n",
      "  3.45948677e+01  4.06461906e+01  1.28659143e+01 -2.53128719e+00\n",
      " -1.17009697e+01 -1.14239883e+01  6.78056097e+00  1.76810322e+01\n",
      " -2.48697357e+01 -8.30780268e-02  1.65406590e+01 -3.49487066e+00\n",
      "  1.06336632e+01  2.14813099e+01  2.35557899e+01  7.34381151e+00\n",
      " -2.12011967e+01 -4.74275856e+01  1.25957279e+01  3.98444748e+01\n",
      " -4.81265020e+00  1.42684307e+01  8.59721184e+00  2.17820883e+00\n",
      "  5.52503204e+00 -4.94430923e+00  2.80811501e+01  2.76574802e+00\n",
      "  1.62835121e+01  2.15905266e+01  2.22095051e+01  6.43887424e+00\n",
      " -9.70905685e+00  2.37031536e+01  1.18751192e+00  1.11750202e+01\n",
      " -6.33239841e+00 -2.98437929e+00  1.29448671e+01  1.70268383e+01\n",
      " -1.74630146e+01 -6.87191391e+00  3.94465408e+01  2.48079128e+01\n",
      "  2.45534821e+01 -5.39085770e+00  8.12528610e+00  1.87806654e+00\n",
      "  3.88933830e+01  3.54706001e+00 -3.53521347e+01  1.09257050e+01\n",
      "  3.19602795e+01  2.02454433e+01  2.59958458e+01 -8.83646584e+00\n",
      "  3.42311935e+01 -8.56211567e+00 -2.02295456e+01  1.30811234e+01\n",
      " -5.30334330e+00 -4.09490871e+00  3.43450584e+01 -1.69580326e+01\n",
      "  2.61693954e+01 -2.39612045e+01  3.70933843e+00  1.16473179e+01\n",
      "  1.17687998e+01  4.80149422e+01 -1.38513489e+01  7.55826187e+00\n",
      " -7.05077457e+00 -2.30315361e+01  3.46877975e+01 -6.13536358e+00\n",
      "  1.55241899e+01  1.07828226e+01 -2.25203876e+01  3.61835785e+01\n",
      " -4.63755083e+00  1.90399599e+00 -6.88465548e+00 -2.31784363e+01\n",
      "  3.19197617e+01 -6.16515827e+00  2.48543110e+01  8.92687702e+00\n",
      "  2.00838051e+01  2.81219864e+01  1.12672653e+01  1.06446638e+01\n",
      " -2.73593354e+00 -1.58956394e+01  1.30598755e+01 -2.61944256e+01\n",
      "  2.47049179e+01  1.32616997e+01  1.79734612e+01  1.33968592e+01\n",
      " -2.44758606e+01 -2.12282920e+00 -6.95444393e+00  1.06318274e+01\n",
      " -3.05726604e+01  9.15976715e+00  6.04352760e+00 -3.06820774e+00\n",
      "  3.11854477e+01  4.57792816e+01  7.64779139e+00 -6.89685345e+00\n",
      " -4.89116430e+00 -1.23731976e+01  8.50899506e+00  1.66575947e+01\n",
      "  1.10763378e+01  8.47048378e+00 -1.36523561e+01 -1.82134438e+00\n",
      " -4.39112854e+00 -9.02898502e+00  4.81707335e+00  7.12159753e-01\n",
      "  2.10953350e+01  1.69100914e+01 -1.26899700e+01  5.69251180e-03\n",
      "  1.04942007e+01  1.12835455e+01 -1.27189982e+00 -1.01337481e+01\n",
      " -2.31075325e+01 -8.93403339e+00 -1.36361313e+01  1.21695137e+01\n",
      " -8.89086008e-01  1.02941265e+01 -7.85901070e+00  1.82096303e+00\n",
      "  2.40915737e+01 -1.75276241e+01  4.17195606e+00  1.12039328e+01\n",
      "  3.78644943e+01  9.67293620e-01  4.04354286e+01 -3.28695335e+01\n",
      " -1.29363823e+01 -2.52944908e+01  4.93339109e+00  1.57167215e+01\n",
      " -7.43663216e+00]\n",
      "The accuracy of this model is71.1864406779661\n",
      "The rmse of this model is37.98877647675182\n",
      "found new best classify\n",
      "Split: 5\n"
     ]
    },
    {
     "name": "stderr",
     "output_type": "stream",
     "text": [
      "/home/chris/anaconda3/lib/python3.8/site-packages/sklearn/preprocessing/_label.py:235: DataConversionWarning: A column-vector y was passed when a 1d array was expected. Please change the shape of y to (n_samples, ), for example using ravel().\n",
      "  y = column_or_1d(y, warn=True)\n",
      "/home/chris/anaconda3/lib/python3.8/site-packages/sklearn/preprocessing/_label.py:268: DataConversionWarning: A column-vector y was passed when a 1d array was expected. Please change the shape of y to (n_samples, ), for example using ravel().\n",
      "  y = column_or_1d(y, warn=True)\n"
     ]
    },
    {
     "name": "stdout",
     "output_type": "stream",
     "text": [
      "variables for auroc curve done. Processing fold accuracy + checking best model\n",
      "[  9.433647    -0.618618     1.5765322  -15.828274    15.348397\n",
      "   7.9528975   25.37621     -0.5659306   25.13424      8.887449\n",
      " -17.83919      2.8445988   14.566453   -16.623053    26.971405\n",
      "  -1.3567615   24.645086    -5.123106    15.344939   -27.612501\n",
      " -14.282853    12.022136    26.633148   -20.518848    40.26097\n",
      "   7.2256155   40.57546     34.559547     2.4044275    6.393611\n",
      "   8.25808     -4.0226674   47.215557    17.424416    30.69526\n",
      "  -1.7589548  -10.583016    24.137459    -1.4560256  -34.407055\n",
      "  -8.437426    31.237785     8.929829   -18.013474    -8.401775\n",
      "  12.178761     0.6907814   36.32764      9.961051   -24.242655\n",
      "  21.677715     5.8688602   28.650414     1.2232839   15.616671\n",
      "  -6.773907   -19.878723     1.0352728  -16.403381    37.393085\n",
      " -20.946638     7.605677    20.969044    -8.80912     -2.1494393\n",
      " -26.356485   -14.496212    11.74817     20.672075    15.149222\n",
      "  11.268261   -17.659819    20.246891   -31.349695     8.495901\n",
      "   3.0665286    6.975444   -17.025269    26.514711    12.00023\n",
      "  14.943422   -11.80948     16.20751     10.142309    50.03308\n",
      "  -2.3986175   -7.6949253   19.959171    23.644028     4.2670774\n",
      "  25.12172     18.247375     5.763611    35.130745    18.013767\n",
      "  18.207422    -0.73055065   0.4494171    0.30604687  -3.997365\n",
      "   6.398929    32.330513     0.5569002    8.367308    30.713116\n",
      "  14.104643    31.004507   -31.038973    -1.0089169   18.456013\n",
      "  10.874221   -16.440456     9.716812   -22.941593   -20.449629\n",
      "  29.802078    -4.8921914   -6.6278195  -16.741674    19.273806\n",
      "  19.170906   -13.264716    -2.590084    -1.5033839   30.144638\n",
      "  12.369359    18.544743    18.121248    24.773705    16.565948\n",
      "  -3.5273328   10.451193   -19.846151   -12.394286   -11.370358\n",
      "   2.3954258   22.475271     3.1842544   -0.58691144  18.516453\n",
      "   3.5126798   13.346714     2.8198793  -15.223105    10.483963\n",
      "  28.697548     0.8690657   16.687939    14.980108   -23.540361\n",
      "   0.3789028   14.6228895   31.782236    28.892118    35.795666\n",
      "  14.670891    -3.1055226    7.579523    10.736363    -9.880075\n",
      "  16.108246    29.51134      6.3944297  -26.153841    16.889252\n",
      " -31.292542    12.321537    11.532914    -9.014987    24.815763\n",
      "   5.0004725    8.537976     8.032107    35.602875     5.91793\n",
      " -21.117155   -21.398561  ]\n",
      "The accuracy of this model is67.79661016949152\n",
      "The rmse of this model is40.46628195025669\n",
      "Split: 6\n"
     ]
    },
    {
     "name": "stderr",
     "output_type": "stream",
     "text": [
      "/home/chris/anaconda3/lib/python3.8/site-packages/sklearn/preprocessing/_label.py:235: DataConversionWarning: A column-vector y was passed when a 1d array was expected. Please change the shape of y to (n_samples, ), for example using ravel().\n",
      "  y = column_or_1d(y, warn=True)\n",
      "/home/chris/anaconda3/lib/python3.8/site-packages/sklearn/preprocessing/_label.py:268: DataConversionWarning: A column-vector y was passed when a 1d array was expected. Please change the shape of y to (n_samples, ), for example using ravel().\n",
      "  y = column_or_1d(y, warn=True)\n"
     ]
    },
    {
     "name": "stdout",
     "output_type": "stream",
     "text": [
      "variables for auroc curve done. Processing fold accuracy + checking best model\n",
      "[ 9.14355183e+00  2.32902431e+01 -2.07616978e+01  3.39236908e+01\n",
      "  1.41486683e+01  2.33567162e+01  3.59191132e+01 -2.11716712e-01\n",
      "  1.51939812e+01 -5.89423752e+00  1.98838387e+01  7.50580120e+00\n",
      "  8.50606060e+00  5.92404008e-01  9.19806290e+00  6.20470905e+00\n",
      " -1.12261076e+01 -3.72291851e+00 -1.54364128e+01  4.06924248e+01\n",
      " -1.78869324e+01  2.49921703e+01  7.42785645e+00  8.09952736e+00\n",
      " -1.32308798e+01  1.38464203e+01  2.85012321e+01 -4.81019497e+00\n",
      "  3.54852486e+01 -1.05111952e+01 -2.76394119e+01  2.31112404e+01\n",
      "  2.64773774e+00 -2.50911694e+01  2.91808167e+01  2.00917721e+01\n",
      " -4.60702972e+01 -7.81033635e-01  1.16494322e+01 -3.72430611e+01\n",
      "  2.26360416e+01 -1.38059053e+01 -3.75816193e+01 -7.36772680e+00\n",
      "  2.97216568e+01 -2.02680135e+00  9.55306435e+00  5.10356369e+01\n",
      "  1.41910524e+01  3.78918719e+00 -1.85788250e+00 -8.06908798e+00\n",
      " -1.03245974e-02  2.46694031e+01  1.88560009e+01  1.47636185e+01\n",
      " -2.44667315e+00 -1.03118029e+01  1.30365429e+01  8.77243900e+00\n",
      "  2.07385826e+00  2.80597568e+00  2.75917892e+01 -2.87949228e+00\n",
      " -3.74535675e+01  1.72128448e+01  3.25414314e+01  1.43858433e+00\n",
      " -1.42010918e+01  1.10500646e+00 -1.94306552e-01 -1.06746025e+01\n",
      "  2.92819786e+01 -5.68475246e+00  3.48324432e+01 -2.26728988e+00\n",
      " -9.92552280e+00  1.89008083e+01 -4.82882500e+00  2.47519703e+01\n",
      "  3.25662208e+00  1.48735368e+00  3.90944977e+01  3.03767090e+01\n",
      "  1.38599291e+01  1.91865501e+01 -1.43223393e+00 -9.72229290e+00\n",
      " -1.10870819e+01  3.29806442e+01  3.08393116e+01  2.48718834e+00\n",
      " -2.81650352e+01 -2.21793613e+01  5.38616657e+00  1.40426664e+01\n",
      "  1.38139257e+01 -6.25594521e+00 -3.28185349e+01 -2.22668839e+01\n",
      "  3.28381920e+00  1.10859680e+00 -1.26659203e+01 -3.24451637e+01\n",
      "  5.07686329e+00  4.04754400e-01 -7.06735563e+00  1.81112366e+01\n",
      "  4.13402319e-01  2.33743076e+01  5.60170352e-01 -1.75515604e+00\n",
      " -8.16887140e-01  1.79169731e+01  1.70919628e+01  8.79930878e+00\n",
      " -4.40939808e+00  2.63279037e+01  8.57518387e+00 -3.25024986e+00\n",
      " -7.93514824e+00 -1.53059568e+01  1.71790066e+01  1.00096416e+00\n",
      "  1.86167755e+01 -6.53616524e+00  1.20184641e+01 -3.71044827e+00\n",
      "  1.81375904e+01 -5.96949387e+00  1.92297096e+01  3.43659706e+01\n",
      "  1.95851612e+01  1.67472696e+00 -3.42182279e+00 -1.48244848e+01\n",
      "  4.46127415e+00 -4.03424644e+00 -3.79975224e+00  1.09055352e+00\n",
      " -1.05897617e+01 -9.78524208e+00  1.83425083e+01 -2.90796185e+01\n",
      "  3.14240685e+01 -1.36785402e+01 -1.53879852e+01  1.78289247e+00\n",
      " -3.01240330e+01  5.68912172e+00 -2.65237451e-01  1.25552845e+01\n",
      "  2.52216969e+01  8.54468155e+00 -4.77848709e-01  1.99060574e+01\n",
      " -2.78770103e+01  1.05304585e+01  3.10468063e+01  8.71697664e-02\n",
      "  9.35037994e+00 -1.63038635e+00  1.09223118e+01 -1.29964399e+00\n",
      "  1.15851831e+01 -2.79791088e+01  1.23110275e+01  3.40479240e+01\n",
      "  3.29437995e+00  1.36564627e+01  1.46036301e+01  1.25402045e+00\n",
      "  2.03549004e+01  9.08289433e+00 -4.56670952e+01  2.08664398e+01\n",
      " -9.93418598e+00]\n",
      "The accuracy of this model is66.66666666666666\n",
      "The rmse of this model is31.286462237255318\n",
      "found best new margin\n",
      "Split: 7\n"
     ]
    },
    {
     "name": "stderr",
     "output_type": "stream",
     "text": [
      "/home/chris/anaconda3/lib/python3.8/site-packages/sklearn/preprocessing/_label.py:235: DataConversionWarning: A column-vector y was passed when a 1d array was expected. Please change the shape of y to (n_samples, ), for example using ravel().\n",
      "  y = column_or_1d(y, warn=True)\n",
      "/home/chris/anaconda3/lib/python3.8/site-packages/sklearn/preprocessing/_label.py:268: DataConversionWarning: A column-vector y was passed when a 1d array was expected. Please change the shape of y to (n_samples, ), for example using ravel().\n",
      "  y = column_or_1d(y, warn=True)\n"
     ]
    },
    {
     "name": "stdout",
     "output_type": "stream",
     "text": [
      "variables for auroc curve done. Processing fold accuracy + checking best model\n",
      "[-44.686123     0.6905043  -27.740606    19.866062   -16.025307\n",
      "  19.505474    18.663193    18.410507    -4.9529557   41.38594\n",
      "  13.555216    -5.374768     3.4665713   15.429183    -0.60430646\n",
      "  10.504518   -24.852304    12.582395    12.336266    10.975287\n",
      "  11.24655      0.8747271  -18.338608     7.7487125   21.203764\n",
      "  -5.5315146   31.123865    25.567514    10.29692      0.21023577\n",
      "  -7.4931726   25.45295     12.624344    -7.971116    12.167248\n",
      "  -7.960329    25.352488   -18.49759      0.8619199   13.153001\n",
      "  -3.6719003   45.73371    -10.975882    10.805389    -8.527867\n",
      "  16.881449    12.11175      8.55619     31.505062    24.703106\n",
      "  -8.468946     5.7105594   10.806943     6.688237     5.3916445\n",
      "  16.42052     -7.613778   -20.067465    29.655853    13.422029\n",
      " -17.968107    37.065598    35.385624    27.351408   -20.56446\n",
      "  -7.8441515   28.31865     25.21497    -33.428185   -14.941909\n",
      "   1.1766443  -17.047506     8.727936     9.10602     -8.588955\n",
      "  28.736723   -17.360394    18.549202   -20.134285    28.964277\n",
      "   7.4217596    5.350031    10.6488     -13.341774   -10.352658\n",
      " -24.7943     -21.540886    10.309489     0.17760366 -15.123667\n",
      "   8.481783     9.110844    -6.3006706   10.247516   -30.04606\n",
      "  -6.776801    -5.339687    25.615856    16.327429    27.161776\n",
      "   9.467518   -14.217977    -5.6099567   15.973108    16.541464\n",
      "   2.0602524    1.1209639    0.09533     17.46272     12.212032\n",
      " -11.149584     4.566838    16.718763    20.70963    -26.954819\n",
      "  14.1294155    2.033948    14.313965    13.973643     4.4887924\n",
      " -11.612419    13.659251     7.8733573    4.269225    -2.2959244\n",
      "  17.485722     4.958133   -18.391972   -12.073616     3.7992141\n",
      "  -6.3435073    7.326321    18.964212   -30.982758    20.685661\n",
      "  -7.5408382  -18.672167    -3.6413183   23.191875     5.907357\n",
      "  26.96352    -24.400108    26.808125    14.581376   -13.326111\n",
      "   9.676607    20.888536   -26.161129    23.665257    20.907227\n",
      "  29.18371    -13.722189     6.0028434   19.569637   -12.84785\n",
      "  -0.7351128   23.854685    10.98911      5.6480002   45.48565\n",
      " -14.556508    -6.31126     12.901537    23.30288      7.7722926\n",
      "   7.524059    -0.629917   -13.043348    -9.295238    -5.66373\n",
      " -15.057155    17.73175      9.212648    13.02537     -6.703051\n",
      " -20.65765      5.0739985 ]\n",
      "The accuracy of this model is67.79661016949152\n",
      "The rmse of this model is35.63799951544758\n",
      "Split: 8\n"
     ]
    },
    {
     "name": "stderr",
     "output_type": "stream",
     "text": [
      "/home/chris/anaconda3/lib/python3.8/site-packages/sklearn/preprocessing/_label.py:235: DataConversionWarning: A column-vector y was passed when a 1d array was expected. Please change the shape of y to (n_samples, ), for example using ravel().\n",
      "  y = column_or_1d(y, warn=True)\n",
      "/home/chris/anaconda3/lib/python3.8/site-packages/sklearn/preprocessing/_label.py:268: DataConversionWarning: A column-vector y was passed when a 1d array was expected. Please change the shape of y to (n_samples, ), for example using ravel().\n",
      "  y = column_or_1d(y, warn=True)\n"
     ]
    },
    {
     "name": "stdout",
     "output_type": "stream",
     "text": [
      "variables for auroc curve done. Processing fold accuracy + checking best model\n",
      "[ 1.08541555e+01 -2.16890583e+01  1.50254893e+00  4.88463707e+01\n",
      "  1.36258821e+01  9.60600185e+00 -2.25146503e+01 -2.58254986e+01\n",
      "  2.04649210e+00  2.02319965e+01  1.80078754e+01 -2.54154739e+01\n",
      "  5.84674549e+00 -1.18530617e+01 -3.30678642e-01  8.58770370e+00\n",
      "  1.16311998e+01 -4.59007931e+00  3.19244747e+01 -1.01023855e+01\n",
      " -2.80165672e+01  1.73681545e+01  7.92853546e+00  3.02560711e+01\n",
      "  1.33741198e+01 -4.52044868e+01 -3.05187645e+01  2.07088833e+01\n",
      "  2.34219246e+01  4.21841164e+01  3.37181282e+01 -3.17910886e+00\n",
      "  3.18006077e+01 -2.21975632e+01  1.36464758e+01 -1.86635838e+01\n",
      "  2.10677757e+01  1.92038422e+01  7.87243271e+00  2.07107620e+01\n",
      " -3.33418121e+01  1.69675827e+01  5.10852051e+00  3.90529585e+00\n",
      "  5.25750046e+01 -2.42818177e-01  2.79093914e+01  2.13580017e+01\n",
      "  5.11812162e+00  3.96030502e+01  4.51348343e+01  1.34346361e+01\n",
      "  7.21583796e+00 -2.37330132e+01  2.30400486e+01  2.60594025e+01\n",
      "  1.98073769e+01  3.88177452e+01  1.09720697e+01 -2.02087822e+01\n",
      "  2.42093220e+01  2.09443378e+01 -2.04465485e+01  1.27865915e+01\n",
      " -4.00245171e+01 -1.92320228e+00  9.80758953e+00  5.54478989e+01\n",
      "  2.50285492e+01  4.23593378e+00  2.06155872e+00  4.14204445e+01\n",
      "  2.55603256e+01  3.19042706e+00 -7.23487854e-01  2.02689648e+01\n",
      "  6.88842678e+00  3.01097755e+01  5.55153179e+00 -8.83107471e+00\n",
      "  4.32305565e+01 -9.51372719e+00  3.74527502e+00  6.38803625e+00\n",
      " -8.33944798e+00  1.68990173e+01  1.87101135e+01 -5.44685650e+00\n",
      "  2.50286655e+01  1.23095865e+01 -5.83825588e+00  3.09004927e+00\n",
      " -1.49978590e+01 -4.71096277e+00  2.83229828e+01 -1.23799305e+01\n",
      " -1.02650414e+01  7.47547865e+00 -6.36229658e+00 -8.76150608e+00\n",
      " -2.45265770e+00 -8.55551815e+00  3.36407828e+00  3.43675842e+01\n",
      "  4.66920912e-01  2.24518356e+01  9.88876152e+00  2.99446239e+01\n",
      "  9.94479561e+00  1.37186551e+00 -2.22208672e+01 -9.60131359e+00\n",
      "  6.50186110e+00 -1.83423972e+00  7.97951984e+00 -5.35316801e+00\n",
      "  1.25321217e+01  1.64178085e+01 -6.26006699e+00  1.41281807e+00\n",
      "  2.69897819e+00  3.07179332e+00  3.58764076e+01 -9.67144489e+00\n",
      "  2.64100075e+00 -2.60984302e-01  1.36075983e+01 -1.85975475e+01\n",
      "  1.76608896e+00  5.12019920e+00  7.26248503e+00  3.52650681e+01\n",
      "  9.66186905e+00  1.77143230e+01  9.67413998e+00  4.51135015e+00\n",
      " -9.80730820e+00 -4.91021872e-02  8.50981331e+00 -2.78254437e+00\n",
      "  2.94821501e+00  7.23418379e+00  3.79036713e+01 -1.67074757e+01\n",
      "  5.06188583e+00 -2.59809875e+00 -1.10425348e+01  2.72169075e+01\n",
      "  9.61151791e+00  2.65981841e+00  1.20830383e+01  3.48079834e+01\n",
      " -1.41329563e+00  2.42669563e+01  1.07241449e+01  1.82674465e+01\n",
      " -1.51959791e+01 -6.83761978e+00  1.48146114e+01  1.03126736e+01\n",
      " -2.28195357e+00  6.86898422e+00  3.80934296e+01  4.88427124e+01\n",
      " -3.18644714e+01  2.04009838e+01 -1.99030495e+01  2.43307114e+01\n",
      "  2.43865108e+00 -2.50487385e+01  7.73908424e+00  3.30872688e+01\n",
      "  2.01062202e+00  8.87157154e+00  1.78576126e+01  1.37124815e+01\n",
      "  2.50062542e+01]\n",
      "The accuracy of this model is64.97175141242938\n",
      "The rmse of this model is34.89119161078196\n",
      "Split: 9\n"
     ]
    },
    {
     "name": "stderr",
     "output_type": "stream",
     "text": [
      "/home/chris/anaconda3/lib/python3.8/site-packages/sklearn/preprocessing/_label.py:235: DataConversionWarning: A column-vector y was passed when a 1d array was expected. Please change the shape of y to (n_samples, ), for example using ravel().\n",
      "  y = column_or_1d(y, warn=True)\n",
      "/home/chris/anaconda3/lib/python3.8/site-packages/sklearn/preprocessing/_label.py:268: DataConversionWarning: A column-vector y was passed when a 1d array was expected. Please change the shape of y to (n_samples, ), for example using ravel().\n",
      "  y = column_or_1d(y, warn=True)\n"
     ]
    },
    {
     "name": "stdout",
     "output_type": "stream",
     "text": [
      "variables for auroc curve done. Processing fold accuracy + checking best model\n",
      "[ 1.1053222e+01  1.3278485e+01  3.3158165e+01 -1.3606023e+01\n",
      " -1.7648167e+01  3.5645885e+01 -1.5384692e-01  1.6283291e+01\n",
      "  1.1065949e+01 -1.2337618e+01  2.7282467e+01  7.4020267e+00\n",
      " -7.6758490e+00  2.9284946e+01  8.5097446e+00  1.9968688e+00\n",
      "  1.7272158e+01  2.4266924e+01 -7.9026318e+00  3.1511076e+01\n",
      " -8.5068979e+00  9.7837067e+00  5.2593050e+00  1.8010368e+01\n",
      "  4.1854980e+01 -3.2029987e+01 -6.3957973e+00 -1.1006583e+01\n",
      "  2.2697304e+01  5.5833534e+01 -2.7093313e+01  4.0835331e+01\n",
      "  1.5757385e+01 -1.1234504e+01  3.2984993e+01 -6.5509276e+00\n",
      " -1.9469542e+01 -5.0230587e-01  2.3405433e+00  1.9786703e+01\n",
      "  2.1926476e+01  8.2146616e+00 -1.9896847e+01  3.7707291e+00\n",
      "  2.0574079e+00  3.2394958e+01 -7.2731006e-01  5.6995809e-01\n",
      " -2.1238618e+00 -3.4218967e+01  2.0817242e+01  2.2885203e-04\n",
      " -1.3260643e+01 -8.7674487e-01  3.6777899e-01  5.6182723e+00\n",
      " -8.4200418e-01 -3.2767330e+01 -6.0436945e+00  9.0507421e+00\n",
      " -1.8697536e+00  1.1124592e+01  1.4950053e+01  3.8535416e+01\n",
      "  3.0682451e+01  1.1457687e+01  5.1675797e+00  4.9350743e+00\n",
      "  1.8372946e+01  3.6640911e+01  2.9230864e+01  2.0905702e+00\n",
      " -7.2525835e-01  8.6651955e+00  7.1215987e+00  3.2215173e+00\n",
      "  3.1139687e+01  2.1767363e+01  2.5129494e+01  2.8423149e+01\n",
      "  2.6873192e+01  1.0075497e+01 -1.2229809e+01 -1.0268662e+00\n",
      "  3.2663860e+01 -1.5975372e+01  1.4255251e+01 -6.0930767e+00\n",
      "  2.6835405e+01  1.9448324e+01 -7.3652940e+00  2.7300694e+01\n",
      " -1.7413229e+01  2.1300589e+01 -7.5737877e+00  3.3046623e+01\n",
      "  2.6088074e+01  7.6449356e+00 -6.3677149e+00  4.8052258e+00\n",
      "  1.1147945e+01 -2.0776570e+00  1.5951708e+01  3.6024605e+01\n",
      " -2.1077026e+01  1.4698986e+01 -1.3443289e+01 -7.3399153e+00\n",
      "  1.8985415e+01  1.6374127e+00  1.3941621e+01 -7.4533458e+00\n",
      "  1.6323292e+01 -1.7390629e+01 -4.4375844e+00 -8.7292604e+00\n",
      "  1.6633064e+01 -2.3450541e+01 -2.7396545e+01  3.6232418e+01\n",
      "  3.3388882e+01  2.5619566e-03  7.4714084e+00 -1.1283251e+01\n",
      "  2.1730894e+01  4.1368866e+01  1.8747728e+01  1.4328896e+01\n",
      "  1.7276783e+01 -9.1847599e-01 -1.3375776e+01 -4.6651955e+00\n",
      "  9.5067110e+00 -2.2021794e+00 -4.3325728e-01 -1.6000296e+01\n",
      "  1.4986522e+01  1.0505432e+01 -4.2359962e+00 -1.3849584e+01\n",
      "  1.6277573e+01  2.2885948e+01 -5.6680050e+00  2.1321795e+01\n",
      "  1.2670240e+01  3.1749104e+01  1.2483412e+01 -5.0650897e+00\n",
      "  1.8298696e+00  2.6066582e+00  2.0383286e+01  5.6695938e+00\n",
      "  1.5058717e+01  2.1835384e+00 -3.4558834e+01  1.5893759e+00\n",
      "  2.6643675e+01  3.0882555e+01  4.2462530e+00 -3.3652214e+01\n",
      " -4.2899327e+00  1.5192811e+01  2.9094105e+01  2.8808146e+00\n",
      "  1.3333339e+01  2.3860672e+01  1.7889795e+01 -2.6886290e+01\n",
      " -1.1601169e+01  2.4785381e+01  2.6176580e+01  2.5485533e+01\n",
      " -3.8420901e+00  3.4914127e+01  9.8974419e+00  6.7692680e+00\n",
      "  2.4532415e+01]\n",
      "The accuracy of this model is75.14124293785311\n",
      "The rmse of this model is36.18899698428827\n",
      "found new best classify\n",
      "Split: 10\n"
     ]
    },
    {
     "name": "stderr",
     "output_type": "stream",
     "text": [
      "/home/chris/anaconda3/lib/python3.8/site-packages/sklearn/preprocessing/_label.py:235: DataConversionWarning: A column-vector y was passed when a 1d array was expected. Please change the shape of y to (n_samples, ), for example using ravel().\n",
      "  y = column_or_1d(y, warn=True)\n",
      "/home/chris/anaconda3/lib/python3.8/site-packages/sklearn/preprocessing/_label.py:268: DataConversionWarning: A column-vector y was passed when a 1d array was expected. Please change the shape of y to (n_samples, ), for example using ravel().\n",
      "  y = column_or_1d(y, warn=True)\n"
     ]
    },
    {
     "name": "stdout",
     "output_type": "stream",
     "text": [
      "variables for auroc curve done. Processing fold accuracy + checking best model\n",
      "[ 1.90219955e+01  5.26470909e+01 -3.02069893e+01  4.97314644e+01\n",
      " -7.14768744e+00  4.72860241e+00  2.08376713e+01  1.75123749e+01\n",
      "  3.26791120e+00  2.37875195e+01 -1.94714165e+01 -5.56994677e+00\n",
      "  1.73193073e+01  2.02925529e+01 -2.56660442e+01  3.28837051e+01\n",
      "  8.20294952e+00  3.32808418e+01 -2.17099643e+00  1.26018953e+01\n",
      "  4.88588858e+00 -2.98438215e+00  1.43516140e+01 -4.63410521e+00\n",
      "  4.29307556e+00  9.55088902e+00 -2.18989420e+00  1.32187929e+01\n",
      "  2.80193067e+00  1.26804934e+01 -3.05730686e+01 -7.01674938e+00\n",
      " -1.26760941e+01  6.73624659e+00  2.05892181e+00 -1.40336218e+01\n",
      "  4.81822282e-01 -6.96208143e+00 -2.13095703e+01  2.72299271e+01\n",
      "  2.12197628e+01  9.85887432e+00  2.24697762e+01 -3.01315727e+01\n",
      " -2.98425407e+01 -4.55909872e+00  1.14694853e+01 -1.07986841e+01\n",
      "  1.44484015e+01  1.61743622e+01  2.58821602e+01  1.20169783e+00\n",
      " -1.63017464e+00 -1.61941967e+01 -3.09434724e+00 -1.26626587e+01\n",
      " -9.15669632e+00  2.82678776e+01  2.80191956e+01  9.91007710e+00\n",
      "  7.20791674e+00 -4.84623623e+00  1.29541368e+01  2.18588114e+00\n",
      " -8.51240253e+00  1.83199348e+01  2.81516147e+00 -9.03729725e+00\n",
      " -1.39706135e+01 -1.47429752e+00 -5.15020180e+00  1.11458817e+01\n",
      "  1.65549278e+01  1.50601416e+01 -2.47282481e+00  1.98802776e+01\n",
      "  4.12980537e+01 -7.42893171e+00  8.72903061e+00 -9.16779399e-01\n",
      "  1.63124352e+01 -5.59455824e+00  2.15581722e+01 -3.51797256e+01\n",
      "  1.08421717e+01  1.54344010e+00  2.71089211e+01  3.59167874e-01\n",
      "  2.37815647e+01 -2.07545280e+00  2.21678696e+01 -1.04668417e+01\n",
      "  3.21667957e+00  8.35208035e+00 -1.16335278e+01 -1.36220303e+01\n",
      "  1.19472122e+01  1.50052195e+01  1.03578167e+01  2.77467251e+00\n",
      "  1.28758869e+01  4.45222139e+00  2.94885654e+01  2.50184231e+01\n",
      " -8.55317020e+00 -7.40790081e+00 -1.24266043e+01 -3.37525826e+01\n",
      " -1.90845432e+01  1.03723888e+01  1.32250452e+01  1.09075308e+01\n",
      " -5.76173878e+00  8.19741821e+00  5.41722584e+00  3.04466701e+00\n",
      "  1.13953753e+01  1.35667658e+01  1.03559303e+00  8.35198784e+00\n",
      "  2.51010933e+01 -6.72933769e+00 -2.89969444e-02  1.18538780e+01\n",
      "  1.24592104e+01 -1.51085835e+01  8.58756733e+00  1.00760107e+01\n",
      "  6.65879107e+00  4.74350500e+00  5.35680771e+00  1.47796488e+01\n",
      " -6.48773789e-01  6.42992096e+01 -2.56408119e+00  7.20591974e+00\n",
      "  5.63936996e+00 -7.48001099e+00  1.69907303e+01  3.05909038e+00\n",
      " -3.99278784e+00  1.94198837e+01 -5.06136084e+00  6.88507080e+00\n",
      "  1.61610639e+00  2.79725666e+01  4.36186867e+01 -2.74330864e+01\n",
      " -2.01414871e+01 -4.57152176e+00  1.04606018e+01 -1.07520590e+01\n",
      " -9.21002293e+00  1.40992193e+01  4.64874077e+00  3.73883286e+01\n",
      "  8.62151241e+00 -1.02132940e+01  4.24846878e+01  3.38884811e+01\n",
      "  1.39692488e+01 -2.18138218e+01  3.22227299e-01 -1.05276299e+00\n",
      "  1.26165123e+01  1.04384911e+00  3.44775467e+01  5.22739840e+00\n",
      " -1.36481628e+01  9.10055876e-01 -1.90640144e+01 -6.66634989e+00\n",
      " -2.82677245e+00  1.96705093e+01  2.72451925e+00  8.18166924e+00]\n",
      "The accuracy of this model is57.95454545454546\n",
      "The rmse of this model is36.81658256753429\n",
      "Best win percentage split = 75.14124293785311\n",
      "Best margin rmse = 31.286462237255318\n",
      "Training Testing Accuracy: 67.60% (4.16%)\n",
      "Training Testing Margins: 36.69% (2.33%)\n"
     ]
    }
   ],
   "source": [
    "#as one big script to go through n_games\n",
    "n_games = [2,3,10]\n",
    "for n in n_games:\n",
    "    run_all_models(n)"
   ]
  },
  {
   "cell_type": "markdown",
   "metadata": {},
   "source": [
    "# Best of 3 Models"
   ]
  },
  {
   "cell_type": "code",
   "execution_count": 11,
   "metadata": {},
   "outputs": [],
   "source": [
    "def prep_data_test(n_games,ohe):\n",
    "    h = get_headers(n_games)\n",
    "    h = clean_headers(h)\n",
    "    cv = generate_categorical_headers(h)\n",
    "\n",
    "    #to get names of teams from index\n",
    "    g = gad()\n",
    "    teams = g.createTeamDict()\n",
    "\n",
    "    #load Data\n",
    "    x_data = pd.read_csv('Data/assembled_stat_matrix_no2020'+str(n_games)+'_games.csv')\n",
    "    #manual update cbf automating this part as this is just a rough check to see how well best of 3 does\n",
    "    x_data = x_data.tail(1769)\n",
    "    \n",
    "    #make empty OHE object\n",
    "    na_enc = OneHotEncoder(handle_unknown='ignore', sparse=False)\n",
    "\n",
    "    #one hot encode data with new one hot encoder, saves ohe for later use\n",
    "    x_data, ohe = ohe_data(x_data, ohe, 1, cv)\n",
    "    \n",
    "    regex = re.compile(r\"\\[|\\]|<\", re.IGNORECASE)\n",
    "    x_data.columns = [regex.sub(\"_\", col) if any(x in str(col) for x in set(('[', ']', '<'))) else col for col in x_data.columns.values]\n",
    "\n",
    "    return x_data"
   ]
  },
  {
   "cell_type": "code",
   "execution_count": 12,
   "metadata": {},
   "outputs": [],
   "source": [
    "def load_test_models(n):\n",
    "    clf = pickle.load(open(\"Models/best_xgb_clas_no2020_\"+str(n)+\"_games.dat\", \"rb\"))\n",
    "    ohe = pickle.load(open(\"Models/ohe_\"+str(n)+\"_no_2021_games.dat\", \"rb\"))\n",
    "    return clf, ohe"
   ]
  },
  {
   "cell_type": "code",
   "execution_count": 13,
   "metadata": {
    "scrolled": true
   },
   "outputs": [],
   "source": [
    "#load data\n",
    "y_label = pd.read_csv('Data/assembled_labelled_ymatrix_no202010_games.csv')\n",
    "\n",
    "model_2, ohe = load_test_models(2)\n",
    "x_2 = prep_data_test(2,ohe)\n",
    "model_3, ohe = load_test_models(3)\n",
    "x_3 = prep_data_test(3, ohe)\n",
    "model_10, ohe = load_test_models(10)\n",
    "x_10 = prep_data_test(10, ohe)\n"
   ]
  },
  {
   "cell_type": "code",
   "execution_count": 14,
   "metadata": {
    "scrolled": true
   },
   "outputs": [
    {
     "name": "stdout",
     "output_type": "stream",
     "text": [
      "Split: 1\n"
     ]
    },
    {
     "name": "stderr",
     "output_type": "stream",
     "text": [
      "/home/chris/anaconda3/lib/python3.8/site-packages/sklearn/preprocessing/_label.py:235: DataConversionWarning: A column-vector y was passed when a 1d array was expected. Please change the shape of y to (n_samples, ), for example using ravel().\n",
      "  y = column_or_1d(y, warn=True)\n",
      "/home/chris/anaconda3/lib/python3.8/site-packages/sklearn/preprocessing/_label.py:268: DataConversionWarning: A column-vector y was passed when a 1d array was expected. Please change the shape of y to (n_samples, ), for example using ravel().\n",
      "  y = column_or_1d(y, warn=True)\n",
      "/home/chris/anaconda3/lib/python3.8/site-packages/sklearn/preprocessing/_label.py:235: DataConversionWarning: A column-vector y was passed when a 1d array was expected. Please change the shape of y to (n_samples, ), for example using ravel().\n",
      "  y = column_or_1d(y, warn=True)\n",
      "/home/chris/anaconda3/lib/python3.8/site-packages/sklearn/preprocessing/_label.py:268: DataConversionWarning: A column-vector y was passed when a 1d array was expected. Please change the shape of y to (n_samples, ), for example using ravel().\n",
      "  y = column_or_1d(y, warn=True)\n",
      "/home/chris/anaconda3/lib/python3.8/site-packages/sklearn/preprocessing/_label.py:235: DataConversionWarning: A column-vector y was passed when a 1d array was expected. Please change the shape of y to (n_samples, ), for example using ravel().\n",
      "  y = column_or_1d(y, warn=True)\n",
      "/home/chris/anaconda3/lib/python3.8/site-packages/sklearn/preprocessing/_label.py:268: DataConversionWarning: A column-vector y was passed when a 1d array was expected. Please change the shape of y to (n_samples, ), for example using ravel().\n",
      "  y = column_or_1d(y, warn=True)\n"
     ]
    },
    {
     "name": "stdout",
     "output_type": "stream",
     "text": [
      "variables for auroc curve done. Processing fold accuracy + checking best model\n",
      "     y_pred_2  y_pred_3  y_pred_10   average\n",
      "0         0.0       0.0        0.0  0.000000\n",
      "1         0.0       0.0        0.0  0.000000\n",
      "2         0.0       0.0        0.0  0.000000\n",
      "3         0.0       0.0        0.0  0.000000\n",
      "4         0.0       0.0        0.0  0.000000\n",
      "..        ...       ...        ...       ...\n",
      "172       1.0       1.0        1.0  1.000000\n",
      "173       0.0       0.0        0.0  0.000000\n",
      "174       0.0       0.0        0.0  0.000000\n",
      "175       0.0       1.0        1.0  0.666667\n",
      "176       0.0       0.0        0.0  0.000000\n",
      "\n",
      "[177 rows x 4 columns]\n",
      "[0.0, 0.0, 0.0, 0.0, 0.0, 0.0, 0.0, 0.0, 0.3333333333333333, 1.0, 0.3333333333333333, 0.0, 1.0, 0.6666666666666666, 0.0, 0.0, 0.0, 0.0, 0.0, 0.3333333333333333, 1.0, 0.0, 0.0, 0.0, 0.0, 0.0, 1.0, 0.6666666666666666, 0.0, 1.0, 0.6666666666666666, 0.3333333333333333, 0.0, 1.0, 0.0, 1.0, 0.0, 0.0, 0.0, 1.0, 1.0, 0.0, 1.0, 0.0, 0.0, 0.0, 0.0, 0.3333333333333333, 0.0, 0.3333333333333333, 0.0, 1.0, 0.0, 0.3333333333333333, 0.3333333333333333, 0.0, 0.0, 0.0, 0.0, 0.3333333333333333, 1.0, 0.0, 0.0, 0.0, 0.0, 1.0, 1.0, 0.0, 0.3333333333333333, 1.0, 0.0, 0.0, 0.0, 0.3333333333333333, 0.0, 1.0, 0.0, 0.0, 0.0, 0.6666666666666666, 0.0, 0.0, 0.0, 0.0, 0.3333333333333333, 1.0, 0.3333333333333333, 0.0, 0.0, 0.3333333333333333, 0.0, 0.0, 0.0, 0.0, 0.0, 1.0, 1.0, 0.0, 0.0, 0.0, 0.0, 1.0, 1.0, 1.0, 0.0, 1.0, 0.6666666666666666, 0.3333333333333333, 0.0, 0.0, 0.3333333333333333, 0.0, 0.0, 0.0, 0.0, 0.3333333333333333, 0.0, 0.3333333333333333, 0.3333333333333333, 0.0, 0.0, 0.0, 0.0, 0.3333333333333333, 0.3333333333333333, 1.0, 0.0, 0.0, 0.6666666666666666, 1.0, 0.6666666666666666, 0.0, 0.0, 0.0, 0.0, 0.0, 1.0, 0.6666666666666666, 0.0, 1.0, 1.0, 0.3333333333333333, 0.6666666666666666, 0.3333333333333333, 1.0, 0.0, 1.0, 0.0, 0.0, 0.0, 0.3333333333333333, 0.6666666666666666, 1.0, 0.0, 0.0, 1.0, 1.0, 0.0, 0.3333333333333333, 0.0, 0.0, 0.0, 1.0, 0.0, 0.0, 0.0, 1.0, 0.3333333333333333, 0.3333333333333333, 0.0, 0.0, 0.0, 1.0, 0.0, 0.0, 0.6666666666666666, 0.0]\n",
      "[0, 0, 0, 0, 0, 0, 0, 0, 0, 1, 0, 0, 1, 1, 0, 0, 0, 0, 0, 0, 1, 0, 0, 0, 0, 0, 1, 1, 0, 1, 1, 0, 0, 1, 0, 1, 0, 0, 0, 1, 1, 0, 1, 0, 0, 0, 0, 0, 0, 0, 0, 1, 0, 0, 0, 0, 0, 0, 0, 0, 1, 0, 0, 0, 0, 1, 1, 0, 0, 1, 0, 0, 0, 0, 0, 1, 0, 0, 0, 1, 0, 0, 0, 0, 0, 1, 0, 0, 0, 0, 0, 0, 0, 0, 0, 1, 1, 0, 0, 0, 0, 1, 1, 1, 0, 1, 1, 0, 0, 0, 0, 0, 0, 0, 0, 0, 0, 0, 0, 0, 0, 0, 0, 0, 0, 1, 0, 0, 1, 1, 1, 0, 0, 0, 0, 0, 1, 1, 0, 1, 1, 0, 1, 0, 1, 0, 1, 0, 0, 0, 0, 1, 1, 0, 0, 1, 1, 0, 0, 0, 0, 0, 1, 0, 0, 0, 1, 0, 0, 0, 0, 0, 1, 0, 0, 1, 0]\n",
      "The accuracy of this model is71.1864406779661\n",
      "Split: 2\n"
     ]
    },
    {
     "name": "stderr",
     "output_type": "stream",
     "text": [
      "/home/chris/anaconda3/lib/python3.8/site-packages/sklearn/preprocessing/_label.py:235: DataConversionWarning: A column-vector y was passed when a 1d array was expected. Please change the shape of y to (n_samples, ), for example using ravel().\n",
      "  y = column_or_1d(y, warn=True)\n",
      "/home/chris/anaconda3/lib/python3.8/site-packages/sklearn/preprocessing/_label.py:268: DataConversionWarning: A column-vector y was passed when a 1d array was expected. Please change the shape of y to (n_samples, ), for example using ravel().\n",
      "  y = column_or_1d(y, warn=True)\n",
      "/home/chris/anaconda3/lib/python3.8/site-packages/sklearn/preprocessing/_label.py:235: DataConversionWarning: A column-vector y was passed when a 1d array was expected. Please change the shape of y to (n_samples, ), for example using ravel().\n",
      "  y = column_or_1d(y, warn=True)\n",
      "/home/chris/anaconda3/lib/python3.8/site-packages/sklearn/preprocessing/_label.py:268: DataConversionWarning: A column-vector y was passed when a 1d array was expected. Please change the shape of y to (n_samples, ), for example using ravel().\n",
      "  y = column_or_1d(y, warn=True)\n",
      "/home/chris/anaconda3/lib/python3.8/site-packages/sklearn/preprocessing/_label.py:235: DataConversionWarning: A column-vector y was passed when a 1d array was expected. Please change the shape of y to (n_samples, ), for example using ravel().\n",
      "  y = column_or_1d(y, warn=True)\n",
      "/home/chris/anaconda3/lib/python3.8/site-packages/sklearn/preprocessing/_label.py:268: DataConversionWarning: A column-vector y was passed when a 1d array was expected. Please change the shape of y to (n_samples, ), for example using ravel().\n",
      "  y = column_or_1d(y, warn=True)\n"
     ]
    },
    {
     "name": "stdout",
     "output_type": "stream",
     "text": [
      "variables for auroc curve done. Processing fold accuracy + checking best model\n",
      "     y_pred_2  y_pred_3  y_pred_10   average\n",
      "0         0.0       1.0        1.0  0.666667\n",
      "1         0.0       0.0        0.0  0.000000\n",
      "2         0.0       1.0        1.0  0.666667\n",
      "3         0.0       0.0        0.0  0.000000\n",
      "4         0.0       0.0        0.0  0.000000\n",
      "..        ...       ...        ...       ...\n",
      "172       1.0       1.0        0.0  0.666667\n",
      "173       0.0       0.0        0.0  0.000000\n",
      "174       1.0       1.0        1.0  1.000000\n",
      "175       0.0       0.0        0.0  0.000000\n",
      "176       0.0       1.0        0.0  0.333333\n",
      "\n",
      "[177 rows x 4 columns]\n",
      "[0.6666666666666666, 0.0, 0.6666666666666666, 0.0, 0.0, 0.0, 0.6666666666666666, 0.6666666666666666, 0.0, 1.0, 0.0, 0.6666666666666666, 1.0, 0.3333333333333333, 0.0, 0.3333333333333333, 0.0, 0.3333333333333333, 0.3333333333333333, 0.0, 0.0, 0.0, 0.3333333333333333, 0.6666666666666666, 0.0, 0.0, 0.3333333333333333, 0.6666666666666666, 0.0, 1.0, 0.0, 0.3333333333333333, 1.0, 1.0, 0.0, 0.0, 0.3333333333333333, 1.0, 0.3333333333333333, 0.0, 0.0, 0.3333333333333333, 0.0, 0.0, 0.0, 1.0, 0.6666666666666666, 1.0, 1.0, 0.0, 0.0, 0.0, 1.0, 0.0, 0.0, 0.0, 0.3333333333333333, 0.0, 0.6666666666666666, 0.6666666666666666, 0.0, 0.0, 0.3333333333333333, 0.0, 0.0, 0.0, 0.6666666666666666, 1.0, 1.0, 0.0, 0.0, 1.0, 0.0, 0.0, 1.0, 0.0, 0.6666666666666666, 0.3333333333333333, 0.0, 1.0, 0.0, 0.6666666666666666, 0.3333333333333333, 0.0, 0.0, 0.0, 0.0, 1.0, 0.0, 1.0, 0.0, 0.0, 1.0, 0.6666666666666666, 0.3333333333333333, 0.0, 1.0, 1.0, 0.3333333333333333, 0.3333333333333333, 1.0, 0.0, 1.0, 0.0, 0.0, 0.0, 0.0, 0.0, 0.6666666666666666, 0.0, 0.0, 0.0, 1.0, 0.6666666666666666, 0.3333333333333333, 1.0, 0.0, 0.3333333333333333, 1.0, 0.0, 1.0, 0.0, 0.0, 1.0, 0.0, 0.6666666666666666, 1.0, 0.6666666666666666, 0.0, 0.0, 0.0, 0.0, 0.0, 0.6666666666666666, 0.3333333333333333, 1.0, 1.0, 0.0, 0.3333333333333333, 0.0, 0.0, 0.6666666666666666, 0.0, 1.0, 0.0, 0.0, 0.3333333333333333, 0.0, 0.0, 0.0, 1.0, 1.0, 0.0, 0.0, 0.0, 1.0, 0.3333333333333333, 0.0, 0.0, 0.0, 0.0, 1.0, 0.0, 0.0, 1.0, 1.0, 0.3333333333333333, 0.0, 1.0, 1.0, 0.0, 0.6666666666666666, 0.6666666666666666, 0.0, 1.0, 0.0, 0.3333333333333333]\n",
      "[1, 0, 1, 0, 0, 0, 1, 1, 0, 1, 0, 1, 1, 0, 0, 0, 0, 0, 0, 0, 0, 0, 0, 1, 0, 0, 0, 1, 0, 1, 0, 0, 1, 1, 0, 0, 0, 1, 0, 0, 0, 0, 0, 0, 0, 1, 1, 1, 1, 0, 0, 0, 1, 0, 0, 0, 0, 0, 1, 1, 0, 0, 0, 0, 0, 0, 1, 1, 1, 0, 0, 1, 0, 0, 1, 0, 1, 0, 0, 1, 0, 1, 0, 0, 0, 0, 0, 1, 0, 1, 0, 0, 1, 1, 0, 0, 1, 1, 0, 0, 1, 0, 1, 0, 0, 0, 0, 0, 1, 0, 0, 0, 1, 1, 0, 1, 0, 0, 1, 0, 1, 0, 0, 1, 0, 1, 1, 1, 0, 0, 0, 0, 0, 1, 0, 1, 1, 0, 0, 0, 0, 1, 0, 1, 0, 0, 0, 0, 0, 0, 1, 1, 0, 0, 0, 1, 0, 0, 0, 0, 0, 1, 0, 0, 1, 1, 0, 0, 1, 1, 0, 1, 1, 0, 1, 0, 0]\n",
      "The accuracy of this model is63.84180790960452\n",
      "Split: 3\n"
     ]
    },
    {
     "name": "stderr",
     "output_type": "stream",
     "text": [
      "/home/chris/anaconda3/lib/python3.8/site-packages/sklearn/preprocessing/_label.py:235: DataConversionWarning: A column-vector y was passed when a 1d array was expected. Please change the shape of y to (n_samples, ), for example using ravel().\n",
      "  y = column_or_1d(y, warn=True)\n",
      "/home/chris/anaconda3/lib/python3.8/site-packages/sklearn/preprocessing/_label.py:268: DataConversionWarning: A column-vector y was passed when a 1d array was expected. Please change the shape of y to (n_samples, ), for example using ravel().\n",
      "  y = column_or_1d(y, warn=True)\n",
      "/home/chris/anaconda3/lib/python3.8/site-packages/sklearn/preprocessing/_label.py:235: DataConversionWarning: A column-vector y was passed when a 1d array was expected. Please change the shape of y to (n_samples, ), for example using ravel().\n",
      "  y = column_or_1d(y, warn=True)\n",
      "/home/chris/anaconda3/lib/python3.8/site-packages/sklearn/preprocessing/_label.py:268: DataConversionWarning: A column-vector y was passed when a 1d array was expected. Please change the shape of y to (n_samples, ), for example using ravel().\n",
      "  y = column_or_1d(y, warn=True)\n",
      "/home/chris/anaconda3/lib/python3.8/site-packages/sklearn/preprocessing/_label.py:235: DataConversionWarning: A column-vector y was passed when a 1d array was expected. Please change the shape of y to (n_samples, ), for example using ravel().\n",
      "  y = column_or_1d(y, warn=True)\n",
      "/home/chris/anaconda3/lib/python3.8/site-packages/sklearn/preprocessing/_label.py:268: DataConversionWarning: A column-vector y was passed when a 1d array was expected. Please change the shape of y to (n_samples, ), for example using ravel().\n",
      "  y = column_or_1d(y, warn=True)\n"
     ]
    },
    {
     "name": "stdout",
     "output_type": "stream",
     "text": [
      "variables for auroc curve done. Processing fold accuracy + checking best model\n",
      "     y_pred_2  y_pred_3  y_pred_10   average\n",
      "0         1.0       1.0        1.0  1.000000\n",
      "1         0.0       0.0        0.0  0.000000\n",
      "2         1.0       1.0        1.0  1.000000\n",
      "3         0.0       0.0        0.0  0.000000\n",
      "4         0.0       0.0        0.0  0.000000\n",
      "..        ...       ...        ...       ...\n",
      "172       0.0       0.0        0.0  0.000000\n",
      "173       0.0       0.0        0.0  0.000000\n",
      "174       0.0       0.0        0.0  0.000000\n",
      "175       0.0       1.0        1.0  0.666667\n",
      "176       0.0       0.0        0.0  0.000000\n",
      "\n",
      "[177 rows x 4 columns]\n",
      "[1.0, 0.0, 1.0, 0.0, 0.0, 0.0, 1.0, 0.0, 0.0, 0.0, 0.0, 0.3333333333333333, 0.6666666666666666, 0.3333333333333333, 0.0, 1.0, 1.0, 1.0, 0.0, 0.0, 0.0, 0.6666666666666666, 0.0, 0.0, 0.6666666666666666, 0.0, 1.0, 0.0, 0.0, 1.0, 0.0, 1.0, 0.0, 0.6666666666666666, 0.6666666666666666, 0.0, 0.0, 0.0, 0.0, 0.3333333333333333, 0.0, 0.0, 0.6666666666666666, 1.0, 0.0, 0.0, 1.0, 0.0, 0.3333333333333333, 1.0, 1.0, 1.0, 0.6666666666666666, 0.0, 0.3333333333333333, 0.0, 0.0, 0.0, 1.0, 0.0, 0.3333333333333333, 0.0, 0.0, 0.6666666666666666, 0.0, 0.0, 0.0, 0.0, 0.3333333333333333, 0.0, 1.0, 0.0, 0.0, 0.0, 0.6666666666666666, 0.3333333333333333, 0.0, 0.3333333333333333, 0.6666666666666666, 0.0, 1.0, 0.3333333333333333, 0.0, 0.3333333333333333, 0.3333333333333333, 0.6666666666666666, 0.6666666666666666, 0.0, 0.6666666666666666, 0.3333333333333333, 0.0, 1.0, 0.0, 0.0, 0.0, 0.3333333333333333, 0.3333333333333333, 0.3333333333333333, 0.0, 1.0, 0.0, 0.0, 0.3333333333333333, 1.0, 0.0, 0.0, 0.0, 0.0, 1.0, 0.0, 1.0, 0.3333333333333333, 0.0, 1.0, 0.0, 1.0, 0.0, 0.0, 0.0, 0.3333333333333333, 0.0, 0.6666666666666666, 0.0, 0.0, 0.0, 0.0, 1.0, 0.0, 1.0, 0.0, 0.0, 1.0, 0.0, 0.0, 0.6666666666666666, 0.3333333333333333, 1.0, 0.0, 0.0, 1.0, 0.3333333333333333, 0.0, 0.3333333333333333, 0.0, 0.0, 0.0, 0.3333333333333333, 0.0, 0.0, 0.3333333333333333, 0.0, 0.0, 1.0, 0.0, 0.3333333333333333, 0.6666666666666666, 1.0, 0.0, 0.3333333333333333, 0.0, 0.0, 0.6666666666666666, 0.0, 0.0, 0.0, 0.0, 0.0, 0.0, 0.0, 0.0, 1.0, 0.0, 0.0, 0.0, 0.0, 0.6666666666666666, 0.0]\n",
      "[1, 0, 1, 0, 0, 0, 1, 0, 0, 0, 0, 0, 1, 0, 0, 1, 1, 1, 0, 0, 0, 1, 0, 0, 1, 0, 1, 0, 0, 1, 0, 1, 0, 1, 1, 0, 0, 0, 0, 0, 0, 0, 1, 1, 0, 0, 1, 0, 0, 1, 1, 1, 1, 0, 0, 0, 0, 0, 1, 0, 0, 0, 0, 1, 0, 0, 0, 0, 0, 0, 1, 0, 0, 0, 1, 0, 0, 0, 1, 0, 1, 0, 0, 0, 0, 1, 1, 0, 1, 0, 0, 1, 0, 0, 0, 0, 0, 0, 0, 1, 0, 0, 0, 1, 0, 0, 0, 0, 1, 0, 1, 0, 0, 1, 0, 1, 0, 0, 0, 0, 0, 1, 0, 0, 0, 0, 1, 0, 1, 0, 0, 1, 0, 0, 1, 0, 1, 0, 0, 1, 0, 0, 0, 0, 0, 0, 0, 0, 0, 0, 0, 0, 1, 0, 0, 1, 1, 0, 0, 0, 0, 1, 0, 0, 0, 0, 0, 0, 0, 0, 1, 0, 0, 0, 0, 1, 0]\n",
      "The accuracy of this model is67.2316384180791\n",
      "Split: 4\n"
     ]
    },
    {
     "name": "stderr",
     "output_type": "stream",
     "text": [
      "/home/chris/anaconda3/lib/python3.8/site-packages/sklearn/preprocessing/_label.py:235: DataConversionWarning: A column-vector y was passed when a 1d array was expected. Please change the shape of y to (n_samples, ), for example using ravel().\n",
      "  y = column_or_1d(y, warn=True)\n",
      "/home/chris/anaconda3/lib/python3.8/site-packages/sklearn/preprocessing/_label.py:268: DataConversionWarning: A column-vector y was passed when a 1d array was expected. Please change the shape of y to (n_samples, ), for example using ravel().\n",
      "  y = column_or_1d(y, warn=True)\n",
      "/home/chris/anaconda3/lib/python3.8/site-packages/sklearn/preprocessing/_label.py:235: DataConversionWarning: A column-vector y was passed when a 1d array was expected. Please change the shape of y to (n_samples, ), for example using ravel().\n",
      "  y = column_or_1d(y, warn=True)\n",
      "/home/chris/anaconda3/lib/python3.8/site-packages/sklearn/preprocessing/_label.py:268: DataConversionWarning: A column-vector y was passed when a 1d array was expected. Please change the shape of y to (n_samples, ), for example using ravel().\n",
      "  y = column_or_1d(y, warn=True)\n",
      "/home/chris/anaconda3/lib/python3.8/site-packages/sklearn/preprocessing/_label.py:235: DataConversionWarning: A column-vector y was passed when a 1d array was expected. Please change the shape of y to (n_samples, ), for example using ravel().\n",
      "  y = column_or_1d(y, warn=True)\n",
      "/home/chris/anaconda3/lib/python3.8/site-packages/sklearn/preprocessing/_label.py:268: DataConversionWarning: A column-vector y was passed when a 1d array was expected. Please change the shape of y to (n_samples, ), for example using ravel().\n",
      "  y = column_or_1d(y, warn=True)\n"
     ]
    },
    {
     "name": "stdout",
     "output_type": "stream",
     "text": [
      "variables for auroc curve done. Processing fold accuracy + checking best model\n",
      "     y_pred_2  y_pred_3  y_pred_10   average\n",
      "0         0.0       1.0        1.0  0.666667\n",
      "1         0.0       0.0        1.0  0.333333\n",
      "2         1.0       1.0        1.0  1.000000\n",
      "3         0.0       0.0        0.0  0.000000\n",
      "4         0.0       0.0        1.0  0.333333\n",
      "..        ...       ...        ...       ...\n",
      "172       0.0       0.0        0.0  0.000000\n",
      "173       0.0       1.0        1.0  0.666667\n",
      "174       0.0       0.0        1.0  0.333333\n",
      "175       1.0       1.0        1.0  1.000000\n",
      "176       0.0       1.0        1.0  0.666667\n",
      "\n",
      "[177 rows x 4 columns]\n",
      "[0.6666666666666666, 0.3333333333333333, 1.0, 0.0, 0.3333333333333333, 1.0, 0.0, 0.6666666666666666, 0.0, 0.0, 0.0, 0.3333333333333333, 1.0, 0.0, 1.0, 0.0, 1.0, 0.0, 0.0, 1.0, 0.0, 1.0, 0.3333333333333333, 1.0, 1.0, 0.6666666666666666, 0.0, 0.0, 0.6666666666666666, 1.0, 0.6666666666666666, 0.0, 0.0, 0.3333333333333333, 0.3333333333333333, 0.0, 1.0, 0.0, 0.0, 0.0, 0.0, 1.0, 1.0, 1.0, 0.3333333333333333, 1.0, 0.6666666666666666, 0.0, 0.0, 1.0, 0.6666666666666666, 0.0, 0.0, 1.0, 0.0, 0.0, 0.0, 0.0, 0.0, 0.0, 0.6666666666666666, 1.0, 0.0, 0.6666666666666666, 1.0, 0.3333333333333333, 0.0, 1.0, 1.0, 0.0, 0.3333333333333333, 0.6666666666666666, 0.6666666666666666, 0.0, 0.0, 0.0, 0.3333333333333333, 0.0, 1.0, 1.0, 0.0, 0.0, 0.6666666666666666, 0.0, 0.0, 0.6666666666666666, 1.0, 0.0, 0.6666666666666666, 0.0, 1.0, 0.0, 0.0, 0.6666666666666666, 0.6666666666666666, 0.0, 1.0, 0.3333333333333333, 1.0, 0.6666666666666666, 1.0, 0.6666666666666666, 0.0, 0.0, 0.0, 1.0, 0.3333333333333333, 0.0, 0.0, 1.0, 0.0, 0.0, 1.0, 0.0, 0.0, 0.0, 0.0, 0.0, 0.0, 0.6666666666666666, 0.6666666666666666, 0.3333333333333333, 1.0, 0.0, 0.0, 0.0, 0.0, 0.3333333333333333, 0.0, 0.0, 0.0, 0.6666666666666666, 0.0, 0.6666666666666666, 1.0, 1.0, 0.6666666666666666, 1.0, 0.3333333333333333, 1.0, 0.0, 0.6666666666666666, 0.6666666666666666, 0.0, 0.0, 0.0, 1.0, 0.0, 0.0, 0.0, 0.0, 0.0, 1.0, 0.0, 0.6666666666666666, 0.6666666666666666, 0.0, 0.0, 0.0, 0.0, 0.6666666666666666, 1.0, 0.3333333333333333, 1.0, 0.0, 1.0, 0.3333333333333333, 0.0, 0.0, 0.6666666666666666, 0.6666666666666666, 0.0, 0.0, 0.6666666666666666, 0.3333333333333333, 1.0, 0.6666666666666666]\n",
      "[1, 0, 1, 0, 0, 1, 0, 1, 0, 0, 0, 0, 1, 0, 1, 0, 1, 0, 0, 1, 0, 1, 0, 1, 1, 1, 0, 0, 1, 1, 1, 0, 0, 0, 0, 0, 1, 0, 0, 0, 0, 1, 1, 1, 0, 1, 1, 0, 0, 1, 1, 0, 0, 1, 0, 0, 0, 0, 0, 0, 1, 1, 0, 1, 1, 0, 0, 1, 1, 0, 0, 1, 1, 0, 0, 0, 0, 0, 1, 1, 0, 0, 1, 0, 0, 1, 1, 0, 1, 0, 1, 0, 0, 1, 1, 0, 1, 0, 1, 1, 1, 1, 0, 0, 0, 1, 0, 0, 0, 1, 0, 0, 1, 0, 0, 0, 0, 0, 0, 1, 1, 0, 1, 0, 0, 0, 0, 0, 0, 0, 0, 1, 0, 1, 1, 1, 1, 1, 0, 1, 0, 1, 1, 0, 0, 0, 1, 0, 0, 0, 0, 0, 1, 0, 1, 1, 0, 0, 0, 0, 1, 1, 0, 1, 0, 1, 0, 0, 0, 1, 1, 0, 0, 1, 0, 1, 1]\n",
      "The accuracy of this model is64.97175141242938\n",
      "Split: 5\n"
     ]
    },
    {
     "name": "stderr",
     "output_type": "stream",
     "text": [
      "/home/chris/anaconda3/lib/python3.8/site-packages/sklearn/preprocessing/_label.py:235: DataConversionWarning: A column-vector y was passed when a 1d array was expected. Please change the shape of y to (n_samples, ), for example using ravel().\n",
      "  y = column_or_1d(y, warn=True)\n",
      "/home/chris/anaconda3/lib/python3.8/site-packages/sklearn/preprocessing/_label.py:268: DataConversionWarning: A column-vector y was passed when a 1d array was expected. Please change the shape of y to (n_samples, ), for example using ravel().\n",
      "  y = column_or_1d(y, warn=True)\n",
      "/home/chris/anaconda3/lib/python3.8/site-packages/sklearn/preprocessing/_label.py:235: DataConversionWarning: A column-vector y was passed when a 1d array was expected. Please change the shape of y to (n_samples, ), for example using ravel().\n",
      "  y = column_or_1d(y, warn=True)\n",
      "/home/chris/anaconda3/lib/python3.8/site-packages/sklearn/preprocessing/_label.py:268: DataConversionWarning: A column-vector y was passed when a 1d array was expected. Please change the shape of y to (n_samples, ), for example using ravel().\n",
      "  y = column_or_1d(y, warn=True)\n",
      "/home/chris/anaconda3/lib/python3.8/site-packages/sklearn/preprocessing/_label.py:235: DataConversionWarning: A column-vector y was passed when a 1d array was expected. Please change the shape of y to (n_samples, ), for example using ravel().\n",
      "  y = column_or_1d(y, warn=True)\n",
      "/home/chris/anaconda3/lib/python3.8/site-packages/sklearn/preprocessing/_label.py:268: DataConversionWarning: A column-vector y was passed when a 1d array was expected. Please change the shape of y to (n_samples, ), for example using ravel().\n",
      "  y = column_or_1d(y, warn=True)\n"
     ]
    },
    {
     "name": "stdout",
     "output_type": "stream",
     "text": [
      "variables for auroc curve done. Processing fold accuracy + checking best model\n",
      "     y_pred_2  y_pred_3  y_pred_10   average\n",
      "0         0.0       1.0        0.0  0.333333\n",
      "1         1.0       0.0        0.0  0.333333\n",
      "2         0.0       1.0        1.0  0.666667\n",
      "3         1.0       1.0        1.0  1.000000\n",
      "4         0.0       0.0        0.0  0.000000\n",
      "..        ...       ...        ...       ...\n",
      "172       0.0       1.0        1.0  0.666667\n",
      "173       0.0       0.0        0.0  0.000000\n",
      "174       0.0       1.0        0.0  0.333333\n",
      "175       0.0       0.0        0.0  0.000000\n",
      "176       0.0       0.0        0.0  0.000000\n",
      "\n",
      "[177 rows x 4 columns]\n",
      "[0.3333333333333333, 0.3333333333333333, 0.6666666666666666, 1.0, 0.0, 0.0, 1.0, 1.0, 0.0, 0.3333333333333333, 1.0, 1.0, 1.0, 0.0, 0.0, 0.0, 0.0, 0.3333333333333333, 0.6666666666666666, 0.0, 0.0, 0.0, 0.0, 0.0, 0.0, 0.0, 1.0, 1.0, 0.0, 0.0, 0.0, 1.0, 0.0, 0.0, 0.0, 0.0, 0.3333333333333333, 0.0, 0.6666666666666666, 1.0, 1.0, 0.0, 0.0, 0.0, 0.0, 0.0, 0.3333333333333333, 0.0, 0.0, 1.0, 1.0, 0.3333333333333333, 1.0, 0.3333333333333333, 0.6666666666666666, 0.0, 0.0, 0.6666666666666666, 1.0, 0.0, 1.0, 1.0, 0.0, 0.3333333333333333, 0.0, 0.6666666666666666, 0.0, 0.0, 0.0, 0.0, 0.6666666666666666, 1.0, 0.0, 0.0, 0.6666666666666666, 0.6666666666666666, 0.6666666666666666, 1.0, 0.3333333333333333, 0.3333333333333333, 0.0, 0.3333333333333333, 0.6666666666666666, 0.0, 1.0, 0.6666666666666666, 0.3333333333333333, 0.0, 1.0, 0.0, 0.0, 0.0, 0.0, 0.0, 0.0, 0.0, 0.0, 0.3333333333333333, 0.6666666666666666, 0.3333333333333333, 1.0, 0.0, 0.0, 0.6666666666666666, 1.0, 0.0, 1.0, 0.0, 0.6666666666666666, 0.3333333333333333, 0.3333333333333333, 0.0, 0.6666666666666666, 0.6666666666666666, 0.6666666666666666, 1.0, 0.0, 0.3333333333333333, 0.0, 0.0, 0.6666666666666666, 0.0, 0.0, 0.0, 0.0, 0.6666666666666666, 0.0, 0.6666666666666666, 1.0, 0.3333333333333333, 0.0, 0.3333333333333333, 0.0, 0.6666666666666666, 0.3333333333333333, 0.6666666666666666, 0.6666666666666666, 0.0, 0.0, 1.0, 1.0, 0.0, 0.6666666666666666, 0.0, 0.0, 0.3333333333333333, 0.6666666666666666, 0.6666666666666666, 1.0, 0.0, 1.0, 1.0, 0.0, 0.0, 0.0, 0.0, 0.0, 1.0, 0.0, 0.6666666666666666, 1.0, 0.0, 0.0, 0.0, 0.0, 0.0, 0.0, 0.0, 0.0, 0.0, 0.6666666666666666, 1.0, 0.6666666666666666, 0.0, 0.3333333333333333, 0.0, 0.0]\n",
      "[0, 0, 1, 1, 0, 0, 1, 1, 0, 0, 1, 1, 1, 0, 0, 0, 0, 0, 1, 0, 0, 0, 0, 0, 0, 0, 1, 1, 0, 0, 0, 1, 0, 0, 0, 0, 0, 0, 1, 1, 1, 0, 0, 0, 0, 0, 0, 0, 0, 1, 1, 0, 1, 0, 1, 0, 0, 1, 1, 0, 1, 1, 0, 0, 0, 1, 0, 0, 0, 0, 1, 1, 0, 0, 1, 1, 1, 1, 0, 0, 0, 0, 1, 0, 1, 1, 0, 0, 1, 0, 0, 0, 0, 0, 0, 0, 0, 0, 1, 0, 1, 0, 0, 1, 1, 0, 1, 0, 1, 0, 0, 0, 1, 1, 1, 1, 0, 0, 0, 0, 1, 0, 0, 0, 0, 1, 0, 1, 1, 0, 0, 0, 0, 1, 0, 1, 1, 0, 0, 1, 1, 0, 1, 0, 0, 0, 1, 1, 1, 0, 1, 1, 0, 0, 0, 0, 0, 1, 0, 1, 1, 0, 0, 0, 0, 0, 0, 0, 0, 0, 1, 1, 1, 0, 0, 0, 0]\n",
      "The accuracy of this model is67.2316384180791\n",
      "Split: 6\n"
     ]
    },
    {
     "name": "stderr",
     "output_type": "stream",
     "text": [
      "/home/chris/anaconda3/lib/python3.8/site-packages/sklearn/preprocessing/_label.py:235: DataConversionWarning: A column-vector y was passed when a 1d array was expected. Please change the shape of y to (n_samples, ), for example using ravel().\n",
      "  y = column_or_1d(y, warn=True)\n",
      "/home/chris/anaconda3/lib/python3.8/site-packages/sklearn/preprocessing/_label.py:268: DataConversionWarning: A column-vector y was passed when a 1d array was expected. Please change the shape of y to (n_samples, ), for example using ravel().\n",
      "  y = column_or_1d(y, warn=True)\n",
      "/home/chris/anaconda3/lib/python3.8/site-packages/sklearn/preprocessing/_label.py:235: DataConversionWarning: A column-vector y was passed when a 1d array was expected. Please change the shape of y to (n_samples, ), for example using ravel().\n",
      "  y = column_or_1d(y, warn=True)\n",
      "/home/chris/anaconda3/lib/python3.8/site-packages/sklearn/preprocessing/_label.py:268: DataConversionWarning: A column-vector y was passed when a 1d array was expected. Please change the shape of y to (n_samples, ), for example using ravel().\n",
      "  y = column_or_1d(y, warn=True)\n",
      "/home/chris/anaconda3/lib/python3.8/site-packages/sklearn/preprocessing/_label.py:235: DataConversionWarning: A column-vector y was passed when a 1d array was expected. Please change the shape of y to (n_samples, ), for example using ravel().\n",
      "  y = column_or_1d(y, warn=True)\n",
      "/home/chris/anaconda3/lib/python3.8/site-packages/sklearn/preprocessing/_label.py:268: DataConversionWarning: A column-vector y was passed when a 1d array was expected. Please change the shape of y to (n_samples, ), for example using ravel().\n",
      "  y = column_or_1d(y, warn=True)\n"
     ]
    },
    {
     "name": "stdout",
     "output_type": "stream",
     "text": [
      "variables for auroc curve done. Processing fold accuracy + checking best model\n",
      "     y_pred_2  y_pred_3  y_pred_10   average\n",
      "0         1.0       1.0        1.0  1.000000\n",
      "1         0.0       0.0        0.0  0.000000\n",
      "2         1.0       1.0        1.0  1.000000\n",
      "3         1.0       1.0        1.0  1.000000\n",
      "4         0.0       1.0        1.0  0.666667\n",
      "..        ...       ...        ...       ...\n",
      "172       1.0       0.0        0.0  0.333333\n",
      "173       0.0       0.0        0.0  0.000000\n",
      "174       0.0       0.0        0.0  0.000000\n",
      "175       0.0       0.0        0.0  0.000000\n",
      "176       0.0       0.0        0.0  0.000000\n",
      "\n",
      "[177 rows x 4 columns]\n",
      "[1.0, 0.0, 1.0, 1.0, 0.6666666666666666, 0.6666666666666666, 0.3333333333333333, 0.0, 0.3333333333333333, 1.0, 0.0, 0.0, 0.0, 0.0, 1.0, 0.0, 1.0, 1.0, 0.6666666666666666, 0.3333333333333333, 0.3333333333333333, 0.0, 0.0, 1.0, 1.0, 0.0, 0.0, 1.0, 1.0, 0.0, 0.0, 0.6666666666666666, 0.6666666666666666, 0.0, 0.0, 0.0, 0.0, 0.0, 1.0, 1.0, 0.0, 1.0, 0.0, 0.0, 0.0, 1.0, 0.3333333333333333, 0.6666666666666666, 1.0, 0.0, 0.0, 0.3333333333333333, 0.0, 0.3333333333333333, 0.0, 0.0, 0.3333333333333333, 0.3333333333333333, 0.0, 0.0, 0.0, 0.0, 0.0, 0.6666666666666666, 0.3333333333333333, 0.0, 1.0, 0.3333333333333333, 1.0, 0.3333333333333333, 0.3333333333333333, 0.0, 0.0, 1.0, 1.0, 1.0, 0.6666666666666666, 0.0, 0.0, 0.0, 0.0, 0.0, 0.6666666666666666, 0.0, 0.0, 0.0, 0.0, 0.0, 0.3333333333333333, 0.3333333333333333, 0.0, 0.0, 1.0, 0.0, 1.0, 0.0, 0.6666666666666666, 0.6666666666666666, 0.0, 0.0, 0.3333333333333333, 0.3333333333333333, 0.0, 0.0, 1.0, 0.0, 0.0, 0.0, 0.3333333333333333, 0.3333333333333333, 0.6666666666666666, 0.0, 0.6666666666666666, 0.0, 0.0, 0.0, 1.0, 0.3333333333333333, 0.0, 1.0, 0.6666666666666666, 0.6666666666666666, 0.0, 0.6666666666666666, 0.6666666666666666, 0.3333333333333333, 0.0, 0.0, 0.6666666666666666, 0.0, 0.0, 1.0, 0.0, 0.0, 0.0, 0.0, 0.0, 1.0, 0.0, 0.0, 0.3333333333333333, 0.0, 0.0, 0.6666666666666666, 0.6666666666666666, 0.3333333333333333, 1.0, 0.0, 0.6666666666666666, 1.0, 0.3333333333333333, 0.0, 1.0, 0.0, 1.0, 0.6666666666666666, 0.0, 0.3333333333333333, 1.0, 0.0, 1.0, 0.0, 1.0, 0.0, 0.0, 0.0, 0.0, 1.0, 0.6666666666666666, 0.0, 0.0, 0.0, 0.3333333333333333, 0.0, 0.0, 0.0, 0.0]\n",
      "[1, 0, 1, 1, 1, 1, 0, 0, 0, 1, 0, 0, 0, 0, 1, 0, 1, 1, 1, 0, 0, 0, 0, 1, 1, 0, 0, 1, 1, 0, 0, 1, 1, 0, 0, 0, 0, 0, 1, 1, 0, 1, 0, 0, 0, 1, 0, 1, 1, 0, 0, 0, 0, 0, 0, 0, 0, 0, 0, 0, 0, 0, 0, 1, 0, 0, 1, 0, 1, 0, 0, 0, 0, 1, 1, 1, 1, 0, 0, 0, 0, 0, 1, 0, 0, 0, 0, 0, 0, 0, 0, 0, 1, 0, 1, 0, 1, 1, 0, 0, 0, 0, 0, 0, 1, 0, 0, 0, 0, 0, 1, 0, 1, 0, 0, 0, 1, 0, 0, 1, 1, 1, 0, 1, 1, 0, 0, 0, 1, 0, 0, 1, 0, 0, 0, 0, 0, 1, 0, 0, 0, 0, 0, 1, 1, 0, 1, 0, 1, 1, 0, 0, 1, 0, 1, 1, 0, 0, 1, 0, 1, 0, 1, 0, 0, 0, 0, 1, 1, 0, 0, 0, 0, 0, 0, 0, 0]\n",
      "The accuracy of this model is65.5367231638418\n",
      "Split: 7\n"
     ]
    },
    {
     "name": "stderr",
     "output_type": "stream",
     "text": [
      "/home/chris/anaconda3/lib/python3.8/site-packages/sklearn/preprocessing/_label.py:235: DataConversionWarning: A column-vector y was passed when a 1d array was expected. Please change the shape of y to (n_samples, ), for example using ravel().\n",
      "  y = column_or_1d(y, warn=True)\n",
      "/home/chris/anaconda3/lib/python3.8/site-packages/sklearn/preprocessing/_label.py:268: DataConversionWarning: A column-vector y was passed when a 1d array was expected. Please change the shape of y to (n_samples, ), for example using ravel().\n",
      "  y = column_or_1d(y, warn=True)\n",
      "/home/chris/anaconda3/lib/python3.8/site-packages/sklearn/preprocessing/_label.py:235: DataConversionWarning: A column-vector y was passed when a 1d array was expected. Please change the shape of y to (n_samples, ), for example using ravel().\n",
      "  y = column_or_1d(y, warn=True)\n",
      "/home/chris/anaconda3/lib/python3.8/site-packages/sklearn/preprocessing/_label.py:268: DataConversionWarning: A column-vector y was passed when a 1d array was expected. Please change the shape of y to (n_samples, ), for example using ravel().\n",
      "  y = column_or_1d(y, warn=True)\n",
      "/home/chris/anaconda3/lib/python3.8/site-packages/sklearn/preprocessing/_label.py:235: DataConversionWarning: A column-vector y was passed when a 1d array was expected. Please change the shape of y to (n_samples, ), for example using ravel().\n",
      "  y = column_or_1d(y, warn=True)\n",
      "/home/chris/anaconda3/lib/python3.8/site-packages/sklearn/preprocessing/_label.py:268: DataConversionWarning: A column-vector y was passed when a 1d array was expected. Please change the shape of y to (n_samples, ), for example using ravel().\n",
      "  y = column_or_1d(y, warn=True)\n"
     ]
    },
    {
     "name": "stdout",
     "output_type": "stream",
     "text": [
      "variables for auroc curve done. Processing fold accuracy + checking best model\n",
      "     y_pred_2  y_pred_3  y_pred_10   average\n",
      "0         1.0       1.0        1.0  1.000000\n",
      "1         0.0       1.0        0.0  0.333333\n",
      "2         0.0       0.0        0.0  0.000000\n",
      "3         1.0       1.0        1.0  1.000000\n",
      "4         0.0       0.0        0.0  0.000000\n",
      "..        ...       ...        ...       ...\n",
      "172       0.0       1.0        1.0  0.666667\n",
      "173       1.0       1.0        1.0  1.000000\n",
      "174       0.0       0.0        0.0  0.000000\n",
      "175       0.0       0.0        0.0  0.000000\n",
      "176       1.0       0.0        0.0  0.333333\n",
      "\n",
      "[177 rows x 4 columns]\n",
      "[1.0, 0.3333333333333333, 0.0, 1.0, 0.0, 0.0, 0.0, 0.0, 1.0, 0.0, 1.0, 0.3333333333333333, 0.0, 0.6666666666666666, 0.3333333333333333, 0.0, 0.0, 0.0, 1.0, 1.0, 1.0, 1.0, 1.0, 0.6666666666666666, 1.0, 0.0, 0.3333333333333333, 0.6666666666666666, 0.0, 0.0, 0.3333333333333333, 0.0, 0.0, 1.0, 0.3333333333333333, 0.0, 0.0, 1.0, 0.0, 1.0, 1.0, 0.0, 0.0, 1.0, 0.0, 0.6666666666666666, 1.0, 0.0, 0.3333333333333333, 0.6666666666666666, 0.6666666666666666, 0.0, 0.6666666666666666, 0.0, 0.3333333333333333, 0.0, 1.0, 0.6666666666666666, 1.0, 0.0, 0.0, 0.0, 0.3333333333333333, 0.0, 0.3333333333333333, 0.0, 1.0, 1.0, 1.0, 1.0, 0.0, 0.6666666666666666, 1.0, 0.0, 1.0, 0.0, 1.0, 0.6666666666666666, 1.0, 0.0, 0.6666666666666666, 0.3333333333333333, 0.0, 0.0, 0.0, 0.0, 0.0, 0.0, 0.3333333333333333, 0.6666666666666666, 0.0, 0.0, 0.0, 0.3333333333333333, 0.3333333333333333, 1.0, 1.0, 0.6666666666666666, 1.0, 0.6666666666666666, 0.0, 0.0, 0.0, 0.0, 0.6666666666666666, 0.0, 0.0, 1.0, 1.0, 0.0, 0.0, 0.0, 0.6666666666666666, 0.3333333333333333, 1.0, 0.0, 1.0, 0.6666666666666666, 0.3333333333333333, 0.0, 0.3333333333333333, 0.0, 0.0, 0.6666666666666666, 0.0, 1.0, 0.0, 0.3333333333333333, 1.0, 1.0, 0.3333333333333333, 1.0, 0.0, 0.3333333333333333, 0.3333333333333333, 0.0, 1.0, 0.0, 0.6666666666666666, 0.0, 0.3333333333333333, 0.0, 0.0, 0.0, 0.0, 0.0, 0.0, 1.0, 0.0, 0.0, 0.6666666666666666, 0.0, 1.0, 0.0, 0.0, 1.0, 0.0, 1.0, 0.0, 1.0, 1.0, 1.0, 0.0, 0.6666666666666666, 0.6666666666666666, 0.0, 0.0, 1.0, 0.0, 0.3333333333333333, 1.0, 0.3333333333333333, 0.6666666666666666, 1.0, 0.0, 0.0, 0.3333333333333333]\n",
      "[1, 0, 0, 1, 0, 0, 0, 0, 1, 0, 1, 0, 0, 1, 0, 0, 0, 0, 1, 1, 1, 1, 1, 1, 1, 0, 0, 1, 0, 0, 0, 0, 0, 1, 0, 0, 0, 1, 0, 1, 1, 0, 0, 1, 0, 1, 1, 0, 0, 1, 1, 0, 1, 0, 0, 0, 1, 1, 1, 0, 0, 0, 0, 0, 0, 0, 1, 1, 1, 1, 0, 1, 1, 0, 1, 0, 1, 1, 1, 0, 1, 0, 0, 0, 0, 0, 0, 0, 0, 1, 0, 0, 0, 0, 0, 1, 1, 1, 1, 1, 0, 0, 0, 0, 1, 0, 0, 1, 1, 0, 0, 0, 1, 0, 1, 0, 1, 1, 0, 0, 0, 0, 0, 1, 0, 1, 0, 0, 1, 1, 0, 1, 0, 0, 0, 0, 1, 0, 1, 0, 0, 0, 0, 0, 0, 0, 0, 1, 0, 0, 1, 0, 1, 0, 0, 1, 0, 1, 0, 1, 1, 1, 0, 1, 1, 0, 0, 1, 0, 0, 1, 0, 1, 1, 0, 0, 0]\n",
      "The accuracy of this model is67.79661016949152\n",
      "Split: 8\n"
     ]
    },
    {
     "name": "stderr",
     "output_type": "stream",
     "text": [
      "/home/chris/anaconda3/lib/python3.8/site-packages/sklearn/preprocessing/_label.py:235: DataConversionWarning: A column-vector y was passed when a 1d array was expected. Please change the shape of y to (n_samples, ), for example using ravel().\n",
      "  y = column_or_1d(y, warn=True)\n",
      "/home/chris/anaconda3/lib/python3.8/site-packages/sklearn/preprocessing/_label.py:268: DataConversionWarning: A column-vector y was passed when a 1d array was expected. Please change the shape of y to (n_samples, ), for example using ravel().\n",
      "  y = column_or_1d(y, warn=True)\n",
      "/home/chris/anaconda3/lib/python3.8/site-packages/sklearn/preprocessing/_label.py:235: DataConversionWarning: A column-vector y was passed when a 1d array was expected. Please change the shape of y to (n_samples, ), for example using ravel().\n",
      "  y = column_or_1d(y, warn=True)\n",
      "/home/chris/anaconda3/lib/python3.8/site-packages/sklearn/preprocessing/_label.py:268: DataConversionWarning: A column-vector y was passed when a 1d array was expected. Please change the shape of y to (n_samples, ), for example using ravel().\n",
      "  y = column_or_1d(y, warn=True)\n",
      "/home/chris/anaconda3/lib/python3.8/site-packages/sklearn/preprocessing/_label.py:235: DataConversionWarning: A column-vector y was passed when a 1d array was expected. Please change the shape of y to (n_samples, ), for example using ravel().\n",
      "  y = column_or_1d(y, warn=True)\n",
      "/home/chris/anaconda3/lib/python3.8/site-packages/sklearn/preprocessing/_label.py:268: DataConversionWarning: A column-vector y was passed when a 1d array was expected. Please change the shape of y to (n_samples, ), for example using ravel().\n",
      "  y = column_or_1d(y, warn=True)\n"
     ]
    },
    {
     "name": "stdout",
     "output_type": "stream",
     "text": [
      "variables for auroc curve done. Processing fold accuracy + checking best model\n",
      "     y_pred_2  y_pred_3  y_pred_10   average\n",
      "0         0.0       0.0        0.0  0.000000\n",
      "1         1.0       1.0        1.0  1.000000\n",
      "2         0.0       0.0        1.0  0.333333\n",
      "3         0.0       0.0        0.0  0.000000\n",
      "4         1.0       1.0        1.0  1.000000\n",
      "..        ...       ...        ...       ...\n",
      "172       1.0       1.0        1.0  1.000000\n",
      "173       1.0       1.0        1.0  1.000000\n",
      "174       0.0       1.0        1.0  0.666667\n",
      "175       1.0       1.0        1.0  1.000000\n",
      "176       0.0       0.0        0.0  0.000000\n",
      "\n",
      "[177 rows x 4 columns]\n",
      "[0.0, 1.0, 0.3333333333333333, 0.0, 1.0, 0.3333333333333333, 1.0, 0.0, 0.3333333333333333, 0.3333333333333333, 0.3333333333333333, 0.6666666666666666, 0.0, 0.6666666666666666, 0.0, 0.0, 0.0, 0.0, 0.0, 1.0, 1.0, 0.3333333333333333, 0.0, 0.0, 0.3333333333333333, 0.0, 1.0, 0.0, 0.0, 0.0, 0.0, 1.0, 0.3333333333333333, 0.0, 0.3333333333333333, 0.6666666666666666, 0.0, 0.0, 0.0, 1.0, 1.0, 0.0, 1.0, 1.0, 0.0, 0.0, 0.0, 1.0, 0.0, 0.0, 0.0, 0.3333333333333333, 0.3333333333333333, 0.6666666666666666, 0.0, 0.6666666666666666, 0.3333333333333333, 0.6666666666666666, 0.0, 0.3333333333333333, 0.6666666666666666, 0.3333333333333333, 0.0, 0.0, 1.0, 0.0, 0.0, 0.6666666666666666, 1.0, 0.0, 0.0, 0.6666666666666666, 0.0, 0.0, 0.3333333333333333, 0.0, 0.0, 0.0, 0.6666666666666666, 0.3333333333333333, 0.3333333333333333, 0.0, 0.6666666666666666, 0.0, 0.6666666666666666, 0.6666666666666666, 0.0, 0.0, 0.0, 0.6666666666666666, 1.0, 0.3333333333333333, 1.0, 1.0, 0.0, 1.0, 1.0, 1.0, 0.0, 0.0, 0.0, 0.0, 1.0, 0.0, 0.0, 0.0, 0.6666666666666666, 1.0, 0.0, 0.6666666666666666, 0.3333333333333333, 0.0, 0.0, 0.0, 0.6666666666666666, 0.0, 1.0, 1.0, 0.3333333333333333, 0.3333333333333333, 0.3333333333333333, 0.0, 0.3333333333333333, 0.3333333333333333, 0.6666666666666666, 0.3333333333333333, 0.3333333333333333, 1.0, 0.0, 0.0, 0.3333333333333333, 0.3333333333333333, 1.0, 0.0, 0.0, 1.0, 0.0, 0.6666666666666666, 0.3333333333333333, 0.0, 0.6666666666666666, 0.0, 0.3333333333333333, 0.0, 0.0, 0.0, 1.0, 0.0, 0.6666666666666666, 1.0, 1.0, 1.0, 0.0, 0.0, 0.3333333333333333, 1.0, 0.0, 1.0, 1.0, 1.0, 0.0, 0.0, 0.3333333333333333, 0.0, 0.3333333333333333, 0.0, 0.6666666666666666, 1.0, 0.0, 0.0, 0.0, 0.0, 1.0, 1.0, 0.6666666666666666, 1.0, 0.0]\n",
      "[0, 1, 0, 0, 1, 0, 1, 0, 0, 0, 0, 1, 0, 1, 0, 0, 0, 0, 0, 1, 1, 0, 0, 0, 0, 0, 1, 0, 0, 0, 0, 1, 0, 0, 0, 1, 0, 0, 0, 1, 1, 0, 1, 1, 0, 0, 0, 1, 0, 0, 0, 0, 0, 1, 0, 1, 0, 1, 0, 0, 1, 0, 0, 0, 1, 0, 0, 1, 1, 0, 0, 1, 0, 0, 0, 0, 0, 0, 1, 0, 0, 0, 1, 0, 1, 1, 0, 0, 0, 1, 1, 0, 1, 1, 0, 1, 1, 1, 0, 0, 0, 0, 1, 0, 0, 0, 1, 1, 0, 1, 0, 0, 0, 0, 1, 0, 1, 1, 0, 0, 0, 0, 0, 0, 1, 0, 0, 1, 0, 0, 0, 0, 1, 0, 0, 1, 0, 1, 0, 0, 1, 0, 0, 0, 0, 0, 1, 0, 1, 1, 1, 1, 0, 0, 0, 1, 0, 1, 1, 1, 0, 0, 0, 0, 0, 0, 1, 1, 0, 0, 0, 0, 1, 1, 1, 1, 0]\n",
      "The accuracy of this model is72.88135593220339\n",
      "Split: 9\n"
     ]
    },
    {
     "name": "stderr",
     "output_type": "stream",
     "text": [
      "/home/chris/anaconda3/lib/python3.8/site-packages/sklearn/preprocessing/_label.py:235: DataConversionWarning: A column-vector y was passed when a 1d array was expected. Please change the shape of y to (n_samples, ), for example using ravel().\n",
      "  y = column_or_1d(y, warn=True)\n",
      "/home/chris/anaconda3/lib/python3.8/site-packages/sklearn/preprocessing/_label.py:268: DataConversionWarning: A column-vector y was passed when a 1d array was expected. Please change the shape of y to (n_samples, ), for example using ravel().\n",
      "  y = column_or_1d(y, warn=True)\n",
      "/home/chris/anaconda3/lib/python3.8/site-packages/sklearn/preprocessing/_label.py:235: DataConversionWarning: A column-vector y was passed when a 1d array was expected. Please change the shape of y to (n_samples, ), for example using ravel().\n",
      "  y = column_or_1d(y, warn=True)\n",
      "/home/chris/anaconda3/lib/python3.8/site-packages/sklearn/preprocessing/_label.py:268: DataConversionWarning: A column-vector y was passed when a 1d array was expected. Please change the shape of y to (n_samples, ), for example using ravel().\n",
      "  y = column_or_1d(y, warn=True)\n",
      "/home/chris/anaconda3/lib/python3.8/site-packages/sklearn/preprocessing/_label.py:235: DataConversionWarning: A column-vector y was passed when a 1d array was expected. Please change the shape of y to (n_samples, ), for example using ravel().\n",
      "  y = column_or_1d(y, warn=True)\n",
      "/home/chris/anaconda3/lib/python3.8/site-packages/sklearn/preprocessing/_label.py:268: DataConversionWarning: A column-vector y was passed when a 1d array was expected. Please change the shape of y to (n_samples, ), for example using ravel().\n",
      "  y = column_or_1d(y, warn=True)\n"
     ]
    },
    {
     "name": "stdout",
     "output_type": "stream",
     "text": [
      "variables for auroc curve done. Processing fold accuracy + checking best model\n",
      "     y_pred_2  y_pred_3  y_pred_10   average\n",
      "0         0.0       0.0        0.0  0.000000\n",
      "1         0.0       0.0        0.0  0.000000\n",
      "2         0.0       0.0        0.0  0.000000\n",
      "3         0.0       0.0        0.0  0.000000\n",
      "4         0.0       0.0        0.0  0.000000\n",
      "..        ...       ...        ...       ...\n",
      "172       0.0       0.0        0.0  0.000000\n",
      "173       0.0       0.0        0.0  0.000000\n",
      "174       1.0       0.0        1.0  0.666667\n",
      "175       1.0       1.0        1.0  1.000000\n",
      "176       0.0       1.0        1.0  0.666667\n",
      "\n",
      "[177 rows x 4 columns]\n",
      "[0.0, 0.0, 0.0, 0.0, 0.0, 0.3333333333333333, 0.0, 0.0, 0.0, 0.3333333333333333, 1.0, 0.0, 0.3333333333333333, 0.3333333333333333, 0.0, 0.0, 0.3333333333333333, 0.0, 0.0, 0.6666666666666666, 0.6666666666666666, 0.0, 0.0, 0.6666666666666666, 0.0, 1.0, 0.3333333333333333, 0.0, 0.0, 0.0, 0.0, 0.6666666666666666, 0.6666666666666666, 0.3333333333333333, 0.3333333333333333, 1.0, 0.0, 0.0, 1.0, 0.0, 0.0, 0.0, 0.0, 1.0, 0.0, 0.0, 0.0, 0.6666666666666666, 0.0, 1.0, 0.0, 0.0, 1.0, 0.6666666666666666, 0.6666666666666666, 0.0, 1.0, 0.0, 0.3333333333333333, 0.0, 1.0, 0.0, 1.0, 0.0, 1.0, 0.0, 0.0, 0.0, 1.0, 0.6666666666666666, 0.0, 1.0, 0.0, 0.0, 0.0, 0.0, 1.0, 0.0, 0.0, 0.0, 0.0, 1.0, 0.0, 1.0, 0.0, 1.0, 0.0, 1.0, 0.0, 0.0, 0.0, 0.0, 0.0, 0.3333333333333333, 0.0, 1.0, 1.0, 1.0, 0.6666666666666666, 0.0, 0.0, 0.0, 0.0, 1.0, 1.0, 0.0, 0.0, 0.0, 0.0, 0.0, 0.0, 0.0, 0.3333333333333333, 1.0, 1.0, 1.0, 1.0, 0.0, 0.0, 0.0, 0.6666666666666666, 1.0, 0.6666666666666666, 0.0, 0.3333333333333333, 0.6666666666666666, 0.3333333333333333, 0.3333333333333333, 0.0, 1.0, 1.0, 0.0, 0.0, 0.3333333333333333, 0.0, 0.0, 0.0, 0.0, 1.0, 0.0, 0.0, 0.3333333333333333, 0.0, 0.0, 0.0, 0.0, 0.0, 0.0, 0.3333333333333333, 0.3333333333333333, 0.0, 0.0, 0.3333333333333333, 0.6666666666666666, 0.0, 0.0, 0.6666666666666666, 0.0, 1.0, 0.6666666666666666, 0.6666666666666666, 0.0, 0.3333333333333333, 0.6666666666666666, 1.0, 0.3333333333333333, 0.6666666666666666, 0.0, 0.0, 0.3333333333333333, 1.0, 0.0, 0.0, 0.0, 0.6666666666666666, 1.0, 0.6666666666666666]\n",
      "[0, 0, 0, 0, 0, 0, 0, 0, 0, 0, 1, 0, 0, 0, 0, 0, 0, 0, 0, 1, 1, 0, 0, 1, 0, 1, 0, 0, 0, 0, 0, 1, 1, 0, 0, 1, 0, 0, 1, 0, 0, 0, 0, 1, 0, 0, 0, 1, 0, 1, 0, 0, 1, 1, 1, 0, 1, 0, 0, 0, 1, 0, 1, 0, 1, 0, 0, 0, 1, 1, 0, 1, 0, 0, 0, 0, 1, 0, 0, 0, 0, 1, 0, 1, 0, 1, 0, 1, 0, 0, 0, 0, 0, 0, 0, 1, 1, 1, 1, 0, 0, 0, 0, 1, 1, 0, 0, 0, 0, 0, 0, 0, 0, 1, 1, 1, 1, 0, 0, 0, 1, 1, 1, 0, 0, 1, 0, 0, 0, 1, 1, 0, 0, 0, 0, 0, 0, 0, 1, 0, 0, 0, 0, 0, 0, 0, 0, 0, 0, 0, 0, 0, 0, 1, 0, 0, 1, 0, 1, 1, 1, 0, 0, 1, 1, 0, 1, 0, 0, 0, 1, 0, 0, 0, 1, 1, 1]\n",
      "The accuracy of this model is71.75141242937853\n",
      "Split: 10\n"
     ]
    },
    {
     "name": "stderr",
     "output_type": "stream",
     "text": [
      "/home/chris/anaconda3/lib/python3.8/site-packages/sklearn/preprocessing/_label.py:235: DataConversionWarning: A column-vector y was passed when a 1d array was expected. Please change the shape of y to (n_samples, ), for example using ravel().\n",
      "  y = column_or_1d(y, warn=True)\n",
      "/home/chris/anaconda3/lib/python3.8/site-packages/sklearn/preprocessing/_label.py:268: DataConversionWarning: A column-vector y was passed when a 1d array was expected. Please change the shape of y to (n_samples, ), for example using ravel().\n",
      "  y = column_or_1d(y, warn=True)\n",
      "/home/chris/anaconda3/lib/python3.8/site-packages/sklearn/preprocessing/_label.py:235: DataConversionWarning: A column-vector y was passed when a 1d array was expected. Please change the shape of y to (n_samples, ), for example using ravel().\n",
      "  y = column_or_1d(y, warn=True)\n",
      "/home/chris/anaconda3/lib/python3.8/site-packages/sklearn/preprocessing/_label.py:268: DataConversionWarning: A column-vector y was passed when a 1d array was expected. Please change the shape of y to (n_samples, ), for example using ravel().\n",
      "  y = column_or_1d(y, warn=True)\n",
      "/home/chris/anaconda3/lib/python3.8/site-packages/sklearn/preprocessing/_label.py:235: DataConversionWarning: A column-vector y was passed when a 1d array was expected. Please change the shape of y to (n_samples, ), for example using ravel().\n",
      "  y = column_or_1d(y, warn=True)\n",
      "/home/chris/anaconda3/lib/python3.8/site-packages/sklearn/preprocessing/_label.py:268: DataConversionWarning: A column-vector y was passed when a 1d array was expected. Please change the shape of y to (n_samples, ), for example using ravel().\n",
      "  y = column_or_1d(y, warn=True)\n"
     ]
    },
    {
     "name": "stdout",
     "output_type": "stream",
     "text": [
      "variables for auroc curve done. Processing fold accuracy + checking best model\n",
      "     y_pred_2  y_pred_3  y_pred_10   average\n",
      "0         0.0       0.0        0.0  0.000000\n",
      "1         1.0       1.0        1.0  1.000000\n",
      "2         0.0       1.0        1.0  0.666667\n",
      "3         0.0       0.0        0.0  0.000000\n",
      "4         0.0       0.0        0.0  0.000000\n",
      "..        ...       ...        ...       ...\n",
      "171       0.0       0.0        0.0  0.000000\n",
      "172       0.0       0.0        0.0  0.000000\n",
      "173       0.0       0.0        0.0  0.000000\n",
      "174       0.0       0.0        0.0  0.000000\n",
      "175       0.0       0.0        1.0  0.333333\n",
      "\n",
      "[176 rows x 4 columns]\n",
      "[0.0, 1.0, 0.6666666666666666, 0.0, 0.0, 0.0, 0.0, 0.0, 0.0, 0.0, 0.0, 0.6666666666666666, 0.0, 0.3333333333333333, 0.6666666666666666, 0.0, 0.0, 0.3333333333333333, 1.0, 0.0, 0.0, 1.0, 1.0, 0.0, 0.0, 0.3333333333333333, 0.0, 1.0, 1.0, 0.0, 0.0, 0.0, 1.0, 0.0, 0.0, 0.3333333333333333, 0.0, 0.0, 0.0, 1.0, 0.0, 1.0, 0.0, 0.0, 0.3333333333333333, 1.0, 0.0, 0.3333333333333333, 0.0, 0.0, 0.0, 1.0, 0.0, 0.3333333333333333, 0.0, 1.0, 0.3333333333333333, 0.0, 0.0, 1.0, 0.0, 1.0, 0.0, 0.3333333333333333, 1.0, 0.0, 0.0, 0.6666666666666666, 0.0, 0.0, 0.6666666666666666, 0.0, 1.0, 0.0, 0.0, 0.0, 1.0, 0.0, 1.0, 1.0, 0.0, 1.0, 1.0, 0.6666666666666666, 0.0, 1.0, 0.6666666666666666, 1.0, 0.3333333333333333, 1.0, 1.0, 0.6666666666666666, 1.0, 0.6666666666666666, 0.3333333333333333, 0.6666666666666666, 0.0, 0.6666666666666666, 0.0, 0.0, 1.0, 0.0, 0.6666666666666666, 1.0, 0.0, 0.6666666666666666, 1.0, 0.0, 0.0, 1.0, 0.0, 0.0, 0.0, 0.3333333333333333, 0.0, 0.3333333333333333, 0.3333333333333333, 1.0, 0.0, 0.0, 0.0, 0.3333333333333333, 1.0, 0.6666666666666666, 1.0, 1.0, 0.3333333333333333, 1.0, 1.0, 1.0, 1.0, 0.0, 0.3333333333333333, 0.0, 0.0, 0.3333333333333333, 0.6666666666666666, 0.0, 0.0, 1.0, 1.0, 0.0, 0.0, 0.3333333333333333, 0.6666666666666666, 1.0, 1.0, 1.0, 1.0, 0.0, 0.3333333333333333, 0.0, 0.0, 0.3333333333333333, 0.6666666666666666, 1.0, 0.0, 0.0, 0.0, 0.0, 0.0, 0.0, 1.0, 0.6666666666666666, 0.3333333333333333, 0.0, 0.3333333333333333, 0.0, 1.0, 0.3333333333333333, 0.0, 0.0, 0.0, 0.0, 0.0, 0.3333333333333333]\n",
      "[0, 1, 1, 0, 0, 0, 0, 0, 0, 0, 0, 1, 0, 0, 1, 0, 0, 0, 1, 0, 0, 1, 1, 0, 0, 0, 0, 1, 1, 0, 0, 0, 1, 0, 0, 0, 0, 0, 0, 1, 0, 1, 0, 0, 0, 1, 0, 0, 0, 0, 0, 1, 0, 0, 0, 1, 0, 0, 0, 1, 0, 1, 0, 0, 1, 0, 0, 1, 0, 0, 1, 0, 1, 0, 0, 0, 1, 0, 1, 1, 0, 1, 1, 1, 0, 1, 1, 1, 0, 1, 1, 1, 1, 1, 0, 1, 0, 1, 0, 0, 1, 0, 1, 1, 0, 1, 1, 0, 0, 1, 0, 0, 0, 0, 0, 0, 0, 1, 0, 0, 0, 0, 1, 1, 1, 1, 0, 1, 1, 1, 1, 0, 0, 0, 0, 0, 1, 0, 0, 1, 1, 0, 0, 0, 1, 1, 1, 1, 1, 0, 0, 0, 0, 0, 1, 1, 0, 0, 0, 0, 0, 0, 1, 1, 0, 0, 0, 0, 1, 0, 0, 0, 0, 0, 0, 0]\n",
      "The accuracy of this model is67.04545454545455\n",
      "Best win percentage split = 0\n",
      "Training Testing Accuracy: 67.95% (2.88%)\n"
     ]
    }
   ],
   "source": [
    "results = []\n",
    "count = 0\n",
    "high_w = 0\n",
    "cv = StratifiedKFold(n_splits=10, shuffle=True)\n",
    "y = y_label\n",
    "for train,test in cv.split(x_2,y):\n",
    "    count = count + 1\n",
    "    print(\"Split: \" + str(count))\n",
    "    prediction = model_2.fit(x_2.loc[train],y.loc[train]).predict_proba(x_2.loc[test])\n",
    "    prediction = model_3.fit(x_3.loc[train],y.loc[train]).predict_proba(x_3.loc[test])\n",
    "    prediction = model_10.fit(x_10.loc[train],y.loc[train]).predict_proba(x_10.loc[test])\n",
    "    print(\"variables for auroc curve done. Processing fold accuracy + checking best model\")\n",
    "    d = {'y_pred_2':model_2.predict(x_2.loc[test]), 'y_pred_3':model_3.predict(x_3.loc[test]),\n",
    "         'y_pred_10':model_10.predict(x_10.loc[test])}\n",
    "    pred_df = pd.DataFrame(data=d)\n",
    "    summary_ave_data = pred_df.copy()\n",
    "    summary_ave_data['average'] = summary_ave_data.mean(numeric_only=True, axis=1)\n",
    "    print(summary_ave_data)\n",
    "    y_pred = summary_ave_data[\"average\"].tolist()\n",
    "    print(y_pred)\n",
    "    predictions = [round(value) for value in y_pred]\n",
    "    print(predictions)\n",
    "    #sees how accurate the model was when testing the test set\n",
    "    accuracy = accuracy_score(y.loc[test], predictions)\n",
    "    pcent = accuracy * 100.0\n",
    "    print(\"The accuracy of this model is\" + str(pcent))\n",
    "    results.append(pcent)\n",
    "print(\"Best win percentage split = \" +str(high_w))\n",
    "print(\"Training Testing Accuracy: %.2f%% (%.2f%%)\" % (np.mean(results), np.std(results)))"
   ]
  },
  {
   "cell_type": "markdown",
   "metadata": {},
   "source": [
    "# Clean Data Testing Ground"
   ]
  },
  {
   "cell_type": "code",
   "execution_count": 11,
   "metadata": {},
   "outputs": [],
   "source": [
    "def create_R_TeamDict():\n",
    "    teams = {\n",
    "    \"1\" : \"Adelaide Crows\",\n",
    "    \"2\" : \"Brisbane Lions\",\n",
    "    \"3\" : \"Carlton\",\n",
    "    \"4\" : \"Collingwood\",\n",
    "    \"5\" : \"Essendon\",\n",
    "    \"6\" : \"Fremantle\",\n",
    "    \"7\" : \"Geelong Cats\",\n",
    "    \"8\" : \"Gold Coast Suns\",\n",
    "    \"9\" : \"GWS Giants\",\n",
    "    \"10\": \"Hawthorn\",\n",
    "    \"11\": \"Melbourne\",\n",
    "    \"12\": \"North Melbourne\",\n",
    "    \"13\": \"Port Adelaide\",\n",
    "    \"14\": \"Richmond\",\n",
    "    \"15\": \"St Kilda\",\n",
    "    \"16\": \"Sydney Swans\",\n",
    "    \"17\": \"West Coast Eagles\",\n",
    "    \"18\": \"Western Bulldogs\"\n",
    "    }\n",
    "    return teams"
   ]
  },
  {
   "cell_type": "code",
   "execution_count": 20,
   "metadata": {},
   "outputs": [],
   "source": []
  },
  {
   "cell_type": "code",
   "execution_count": 157,
   "metadata": {},
   "outputs": [],
   "source": [
    "team_int = 6"
   ]
  },
  {
   "cell_type": "code",
   "execution_count": 162,
   "metadata": {},
   "outputs": [
    {
     "data": {
      "text/html": [
       "<div>\n",
       "<style scoped>\n",
       "    .dataframe tbody tr th:only-of-type {\n",
       "        vertical-align: middle;\n",
       "    }\n",
       "\n",
       "    .dataframe tbody tr th {\n",
       "        vertical-align: top;\n",
       "    }\n",
       "\n",
       "    .dataframe thead th {\n",
       "        text-align: right;\n",
       "    }\n",
       "</style>\n",
       "<table border=\"1\" class=\"dataframe\">\n",
       "  <thead>\n",
       "    <tr style=\"text-align: right;\">\n",
       "      <th></th>\n",
       "      <th>Year</th>\n",
       "      <th>Round</th>\n",
       "      <th>Team_ID</th>\n",
       "      <th>Player_PAV_Total</th>\n",
       "    </tr>\n",
       "  </thead>\n",
       "  <tbody>\n",
       "    <tr>\n",
       "      <th>1012</th>\n",
       "      <td>2013</td>\n",
       "      <td>1</td>\n",
       "      <td>6</td>\n",
       "      <td>233.52</td>\n",
       "    </tr>\n",
       "    <tr>\n",
       "      <th>1013</th>\n",
       "      <td>2013</td>\n",
       "      <td>2</td>\n",
       "      <td>6</td>\n",
       "      <td>219.10</td>\n",
       "    </tr>\n",
       "    <tr>\n",
       "      <th>1014</th>\n",
       "      <td>2013</td>\n",
       "      <td>3</td>\n",
       "      <td>6</td>\n",
       "      <td>225.28</td>\n",
       "    </tr>\n",
       "    <tr>\n",
       "      <th>1015</th>\n",
       "      <td>2013</td>\n",
       "      <td>4</td>\n",
       "      <td>6</td>\n",
       "      <td>204.98</td>\n",
       "    </tr>\n",
       "    <tr>\n",
       "      <th>1016</th>\n",
       "      <td>2013</td>\n",
       "      <td>5</td>\n",
       "      <td>6</td>\n",
       "      <td>213.05</td>\n",
       "    </tr>\n",
       "    <tr>\n",
       "      <th>...</th>\n",
       "      <td>...</td>\n",
       "      <td>...</td>\n",
       "      <td>...</td>\n",
       "      <td>...</td>\n",
       "    </tr>\n",
       "    <tr>\n",
       "      <th>1211</th>\n",
       "      <td>2021</td>\n",
       "      <td>23</td>\n",
       "      <td>6</td>\n",
       "      <td>181.11</td>\n",
       "    </tr>\n",
       "    <tr>\n",
       "      <th>1212</th>\n",
       "      <td>2022</td>\n",
       "      <td>1</td>\n",
       "      <td>6</td>\n",
       "      <td>173.39</td>\n",
       "    </tr>\n",
       "    <tr>\n",
       "      <th>1213</th>\n",
       "      <td>2022</td>\n",
       "      <td>2</td>\n",
       "      <td>6</td>\n",
       "      <td>168.25</td>\n",
       "    </tr>\n",
       "    <tr>\n",
       "      <th>1214</th>\n",
       "      <td>2022</td>\n",
       "      <td>3</td>\n",
       "      <td>6</td>\n",
       "      <td>133.87</td>\n",
       "    </tr>\n",
       "    <tr>\n",
       "      <th>1215</th>\n",
       "      <td>2022</td>\n",
       "      <td>4</td>\n",
       "      <td>6</td>\n",
       "      <td>166.42</td>\n",
       "    </tr>\n",
       "  </tbody>\n",
       "</table>\n",
       "<p>204 rows × 4 columns</p>\n",
       "</div>"
      ],
      "text/plain": [
       "      Year  Round  Team_ID  Player_PAV_Total\n",
       "1012  2013      1        6            233.52\n",
       "1013  2013      2        6            219.10\n",
       "1014  2013      3        6            225.28\n",
       "1015  2013      4        6            204.98\n",
       "1016  2013      5        6            213.05\n",
       "...    ...    ...      ...               ...\n",
       "1211  2021     23        6            181.11\n",
       "1212  2022      1        6            173.39\n",
       "1213  2022      2        6            168.25\n",
       "1214  2022      3        6            133.87\n",
       "1215  2022      4        6            166.42\n",
       "\n",
       "[204 rows x 4 columns]"
      ]
     },
     "execution_count": 162,
     "metadata": {},
     "output_type": "execute_result"
    }
   ],
   "source": [
    "pavs = pd.read_csv(\"R_Code/all_team_pavs.csv\")\n",
    "team_pavs = pavs.loc[(pavs[\"Team_ID\"]==team_int)]\n",
    "team_pavs"
   ]
  },
  {
   "cell_type": "code",
   "execution_count": 159,
   "metadata": {},
   "outputs": [
    {
     "data": {
      "text/plain": [
       "(204, 100)"
      ]
     },
     "execution_count": 159,
     "metadata": {},
     "output_type": "execute_result"
    }
   ],
   "source": [
    "df.shape"
   ]
  },
  {
   "cell_type": "code",
   "execution_count": 15,
   "metadata": {},
   "outputs": [],
   "source": [
    "def calc_sum_pav(year, rnd, team_int):\n",
    "    #do calc\n",
    "    g = gad()\n",
    "    team_dict = g.createTeamDict()\n",
    "    r_dict = create_R_TeamDict()\n",
    "    current_team = (team_dict[str(team_int)])\n",
    "    df = pd.read_csv(\"Data/\"+current_team+'_clean_stats.csv')\n",
    "    current_r_team = (r_dict[str(team_int)])\n",
    "    lineups = pd.read_csv(\"R_Code/all_lineups.csv\")\n",
    "    lineups = lineups[lineups.isin([current_r_team]).any(axis=1)]\n",
    "    lineups = lineups[lineups.isin([year]).any(axis=1)]\n",
    "    lineups = lineups[lineups.isin([rnd]).any(axis=1)]\n",
    "    lineups['team'] = team_int\n",
    "    if(rnd < 11):\n",
    "        lineups['year'] = (year-1)\n",
    "    lineups.columns = ['year', 'teamname', 'roundNumber', 'firstname', 'surname', 'team']\n",
    "    cols = ['team', 'year', 'firstname', 'surname']\n",
    "    lineups = lineups[cols]\n",
    "    all_pavs = pd.read_csv(\"R_Code/all_player_PAVs.csv\")\n",
    "    \n",
    "    lineups.firstname = lineups.firstname.str.split(' ').str[0]\n",
    "    all_pavs.firstname = all_pavs.firstname.str.replace(' ','')\n",
    "    \n",
    "    lineups = lineups.merge(all_pavs, how='inner', on=['team', 'year', 'firstname', 'surname'])\n",
    "    if(lineups.shape[0] > 0):\n",
    "        pav = lineups['PAV_total'].sum()\n",
    "    else:\n",
    "        pav = 999\n",
    "    print(pav)\n",
    "    pav_array = [year, rnd, team_int, pav]\n",
    "    return pav_array"
   ]
  },
  {
   "cell_type": "code",
   "execution_count": 18,
   "metadata": {
    "scrolled": true
   },
   "outputs": [
    {
     "name": "stdout",
     "output_type": "stream",
     "text": [
      "1_2022_1\n",
      "156.19000000000003\n",
      "1_2022_2\n",
      "144.26000000000002\n",
      "1_2022_3\n",
      "153.15000000000003\n",
      "1_2022_4\n",
      "174.11000000000004\n",
      "2_2022_1\n",
      "265.28000000000003\n",
      "2_2022_2\n",
      "256.13\n",
      "2_2022_3\n",
      "265.28\n",
      "2_2022_4\n",
      "250.97000000000003\n",
      "3_2022_1\n",
      "156.67000000000002\n",
      "3_2022_2\n",
      "178.84000000000003\n",
      "3_2022_3\n",
      "157.47\n",
      "3_2022_4\n",
      "169.10999999999999\n",
      "4_2022_1\n",
      "177.64000000000001\n",
      "4_2022_2\n",
      "191.04000000000002\n",
      "4_2022_3\n",
      "201.59\n",
      "4_2022_4\n",
      "195.71\n",
      "5_2022_1\n",
      "214.8\n",
      "5_2022_2\n",
      "230.61999999999995\n",
      "5_2022_3\n",
      "203.24\n",
      "5_2022_4\n",
      "191.28000000000003\n",
      "6_2022_1\n",
      "173.39\n",
      "6_2022_2\n",
      "168.25\n",
      "6_2022_3\n",
      "133.87\n",
      "6_2022_4\n",
      "166.42000000000002\n",
      "7_2022_1\n",
      "236.32000000000002\n",
      "7_2022_2\n",
      "251.10000000000002\n",
      "7_2022_3\n",
      "249.79\n",
      "7_2022_4\n",
      "218.20999999999998\n",
      "8_2022_1\n",
      "185.58\n",
      "8_2022_2\n",
      "177.15\n",
      "8_2022_3\n",
      "182.41\n",
      "8_2022_4\n",
      "176.84\n",
      "9_2022_1\n",
      "206.89000000000001\n",
      "9_2022_2\n",
      "200.72\n",
      "9_2022_3\n",
      "190.59\n",
      "9_2022_4\n",
      "182.04\n",
      "10_2022_1\n",
      "149.82\n",
      "10_2022_2\n",
      "166.4\n",
      "10_2022_3\n",
      "151.77999999999997\n",
      "10_2022_4\n",
      "145.51\n",
      "11_2022_1\n",
      "279.64\n",
      "11_2022_2\n",
      "273.71999999999997\n",
      "11_2022_3\n",
      "267.33\n",
      "11_2022_4\n",
      "282.88\n",
      "12_2022_1\n",
      "197.87\n",
      "12_2022_2\n",
      "189.13\n",
      "12_2022_3\n",
      "177.45\n",
      "12_2022_4\n",
      "184.37\n",
      "13_2022_1\n",
      "253.73999999999998\n",
      "13_2022_2\n",
      "227.26999999999998\n",
      "13_2022_3\n",
      "226.42\n",
      "13_2022_4\n",
      "228.89999999999995\n",
      "14_2022_1\n",
      "220.09\n",
      "14_2022_2\n",
      "184.17\n",
      "14_2022_3\n",
      "193.96\n",
      "14_2022_4\n",
      "198.42000000000002\n",
      "15_2022_1\n",
      "202.23\n",
      "15_2022_2\n",
      "187.05\n",
      "15_2022_3\n",
      "205.96\n",
      "15_2022_4\n",
      "201.83\n",
      "16_2022_1\n",
      "223.09000000000003\n",
      "16_2022_2\n",
      "235.90000000000006\n",
      "16_2022_3\n",
      "236.37000000000003\n",
      "16_2022_4\n",
      "221.81000000000003\n",
      "17_2022_1\n",
      "140.9\n",
      "17_2022_2\n",
      "91.48000000000002\n",
      "17_2022_3\n",
      "163.2\n",
      "17_2022_4\n",
      "152.34000000000003\n",
      "18_2022_1\n",
      "258.22\n",
      "18_2022_2\n",
      "255.87000000000003\n",
      "18_2022_3\n",
      "259.08000000000004\n",
      "18_2022_4\n",
      "245.74\n",
      "    Year  Round  Team_ID  Player_PAV_Total\n",
      "0   2022      1        1            156.19\n",
      "1   2022      2        1            144.26\n",
      "2   2022      3        1            153.15\n",
      "3   2022      4        1            174.11\n",
      "4   2022      1        2            265.28\n",
      "..   ...    ...      ...               ...\n",
      "67  2022      4       17            152.34\n",
      "68  2022      1       18            258.22\n",
      "69  2022      2       18            255.87\n",
      "70  2022      3       18            259.08\n",
      "71  2022      4       18            245.74\n",
      "\n",
      "[72 rows x 4 columns]\n",
      "      Year  Round  Team_ID  Player_PAV_Total\n",
      "0     2013      1        1            239.55\n",
      "1     2013      2        1            238.73\n",
      "2     2013      3        1            236.09\n",
      "3     2013      4        1            214.43\n",
      "4     2013      5        1            226.69\n",
      "...    ...    ...      ...               ...\n",
      "3701  2022      4       17            152.34\n",
      "3702  2022      1       18            258.22\n",
      "3703  2022      2       18            255.87\n",
      "3704  2022      3       18            259.08\n",
      "3705  2022      4       18            245.74\n",
      "\n",
      "[3706 rows x 4 columns]\n"
     ]
    }
   ],
   "source": [
    "pav_array = []\n",
    "for team_id in range(1,19):\n",
    "    for year in range(2022, 2023):\n",
    "        for rnd in range(1,5):\n",
    "            print(str(team_id) + '_' + str(year)+'_'+str(rnd))\n",
    "            pa = calc_sum_pav(year, rnd, team_id)\n",
    "            if(pa[3] == 999):\n",
    "                continue\n",
    "            pav_array.append(pa)\n",
    "pav_df = pd.DataFrame(pav_array, columns=['Year', 'Round', 'Team_ID', 'Player_PAV_Total'])\n",
    "all_pav_df = pd.read_csv('R_Code/all_team_pavs.csv')\n",
    "all_pav_df = pd.concat([all_pav_df, pav_df], ignore_index=True)\n",
    "print(pav_df)\n",
    "print(all_pav_df)\n",
    "all_pav_df.to_csv(\"R_Code/all_team_pavs.csv\", header=True, index=False)"
   ]
  },
  {
   "cell_type": "markdown",
   "metadata": {},
   "source": [
    "# Trend Based Dataset Testing"
   ]
  },
  {
   "cell_type": "code",
   "execution_count": 98,
   "metadata": {},
   "outputs": [],
   "source": [
    "#get assemble_df code from the clean_dataset csv\n",
    "#do the usual stuff appended at the front eg. venue, ladder, round, H_team_id, A_team_id\n",
    "#pick averageable statistics and get n_game average for home and away\n",
    "#function to workout from clean_dataset home_team wins against away team in last 5\n",
    "    #5-home_team_wins to get away team wins against oppo\n",
    "    #append to new X_data\n",
    "#save to new assemble_df.csv\n",
    "\n",
    "match_id = 10576\n",
    "team_id = 9\n",
    "oppo_id = 6\n",
    "g = gad()\n",
    "teams = g.createTeamDict()\n",
    "n_games = 3\n"
   ]
  },
  {
   "cell_type": "code",
   "execution_count": 135,
   "metadata": {},
   "outputs": [],
   "source": [
    "def find_form(ct, ot, match_id):\n",
    "    g = gad()\n",
    "    teams = g.createTeamDict()\n",
    "    current_team = (teams[str(ct)])\n",
    "    team_string = current_team+\"_clean_stats.csv\"\n",
    "    df = pd.read_csv(\"Data/\"+team_string)\n",
    "    idx = df.index[df['Match_ID'] == match_id]\n",
    "    my_idx = idx[0]\n",
    "    df = df.loc[0:my_idx-1,:]\n",
    "    prev_games = df.loc[(df['Team_against_ID']==ot)]\n",
    "    #return last 5 games against each other and 8th column is whether the ct won against ot\n",
    "    l = 5\n",
    "    if(prev_games.shape[0] < 5):\n",
    "        l = prev_games.shape[0]\n",
    "    if(l==0):\n",
    "        wins = 0\n",
    "    else:\n",
    "        prev_games = prev_games.iloc[-l: , 8]\n",
    "        wins = prev_games.sum()\n",
    "    return wins"
   ]
  },
  {
   "cell_type": "code",
   "execution_count": 130,
   "metadata": {},
   "outputs": [],
   "source": [
    "def create_prev_games(match_id, team_id, teams, n_games, oppo_id):\n",
    "    margin = None\n",
    "    ma = None\n",
    "    y_label = None\n",
    "    trend_cg = []\n",
    "    current_team = (teams[str(team_id)])\n",
    "    print(current_team)\n",
    "    print(match_id)\n",
    "    team_string = current_team+\"_clean_stats.csv\"\n",
    "    df = pd.read_csv(\"Data/\"+team_string)\n",
    "    #drops ladder stats\n",
    "    #finds where in the dataframe the current match is\n",
    "    idx = df.index[df['Match_ID'] == match_id]\n",
    "    #print(idx)\n",
    "    my_idx = idx[0]\n",
    "    #splits dataframe into game data and end of round ladder data\n",
    "    l_df = df.iloc[:,-5:]\n",
    "    t_df = df.iloc[: , :-5]\n",
    "    current_year = t_df.loc[my_idx][1]\n",
    "    if(current_year == 2020.0):\n",
    "        print('game in 2020')\n",
    "        margin = 8888\n",
    "    else:\n",
    "        #turns the WWWLL form column into # of W\n",
    "        n_form = []\n",
    "        for x in l_df['form']:\n",
    "            if(len(x)<n_games):\n",
    "                y=float(x.count(\"W\"))\n",
    "                n_form.append(y)\n",
    "            else:\n",
    "                x=x[-n_games:]\n",
    "                y=float(x.count(\"W\"))\n",
    "                n_form.append(y)\n",
    "        l_df['form'] = n_form\n",
    "        #checks to make sure there is enough games to go through\n",
    "        if(my_idx < (n_games)):\n",
    "            print('Num of Prev Games Exceeds previous games')\n",
    "            margin = 9999\n",
    "        else:\n",
    "            #start match array with the ladder values from end of previous round (as this would be current for predicting round)\n",
    "            ma = l_df.loc[my_idx-1].values\n",
    "            #finds both labels for models\n",
    "            y_label = t_df.loc[my_idx][\"H/A Win?\"]\n",
    "            margin = t_df.loc[my_idx][\"Margin\"]\n",
    "            #start from the previous game to current game\n",
    "            #i is to know how many games included\n",
    "            i = 1\n",
    "            #j finds the previous game and allows for 2020 exclusion\n",
    "            j = 1\n",
    "            while i <= n_games:\n",
    "                year = t_df.loc[my_idx-j][1]\n",
    "                if(year == 2020.0):\n",
    "                    j = j + 1\n",
    "                    continue\n",
    "                cg = t_df.loc[my_idx-j][2:].values\n",
    "                trend_cg.append(cg)\n",
    "                i = i + 1\n",
    "                j = j + 1\n",
    "            my_df = pd.DataFrame(trend_cg, columns = t_df.columns[2:])\n",
    "            my_df = my_df.iloc[:,3:-1]\n",
    "            cg = my_df.mean(axis=0)\n",
    "            ma = [*ma, *cg]\n",
    "            h_form = find_form(team_id, oppo_id, match_id)\n",
    "            o_form = find_form(oppo_id, team_id, match_id)\n",
    "            form_diff = h_form-o_form\n",
    "            ma.append(form_diff)\n",
    "    return ma, y_label, margin"
   ]
  },
  {
   "cell_type": "code",
   "execution_count": 136,
   "metadata": {
    "scrolled": false
   },
   "outputs": [
    {
     "name": "stdout",
     "output_type": "stream",
     "text": [
      "GWS\n",
      "5720\n",
      "18\n",
      "0\n",
      "0\n",
      "0\n"
     ]
    }
   ],
   "source": [
    "home_array, y_label, margin = create_prev_games(5720, team_id, teams, 3, oppo_id)"
   ]
  },
  {
   "cell_type": "code",
   "execution_count": 110,
   "metadata": {},
   "outputs": [
    {
     "data": {
      "text/plain": [
       "95"
      ]
     },
     "execution_count": 110,
     "metadata": {},
     "output_type": "execute_result"
    }
   ],
   "source": [
    "len(home_array)"
   ]
  },
  {
   "cell_type": "code",
   "execution_count": 107,
   "metadata": {},
   "outputs": [
    {
     "data": {
      "text/plain": [
       "194"
      ]
     },
     "execution_count": 107,
     "metadata": {},
     "output_type": "execute_result"
    }
   ],
   "source": [
    "headers = ['Round', 'Home_Team', 'Away_Team', 'Venue']\n",
    "example_file = pd.read_csv('Data/Fremantle_clean_stats.csv')\n",
    "cl_h = example_file.columns\n",
    "cl_h = cl_h[5:-6]\n",
    "ladder_header = ['Ladder Pos_H', 'Form_H', 'Season Wins_H', 'Season Loss_H', 'Season Draw_H']\n",
    "headers = [*headers, *ladder_header]\n",
    "for x in cl_h:\n",
    "    if 'Match_ID' in x or 'Year' in x:\n",
    "        continue\n",
    "    x = 'H_'+ x + ' avg'\n",
    "    headers.append(x)\n",
    "headers.append(\"H_Recent_Matchup_Diff\")\n",
    "ladder_header = ['Ladder Pos_A', 'Form_A', 'Season Wins_A', 'Season Loss_A', 'Season Draw_A']\n",
    "headers = [*headers, *ladder_header]\n",
    "for x in cl_h:\n",
    "    if 'Match_ID' in x or 'Year' in x:\n",
    "        continue\n",
    "    x = 'A_'+ x + ' avg'\n",
    "    headers.append(x)\n",
    "headers.append(\"A_Recent_Matchup_Diff\")\n",
    "len(headers)"
   ]
  },
  {
   "cell_type": "markdown",
   "metadata": {},
   "source": [
    "# Team Specific Models\n",
    "## Averaged about 60%"
   ]
  },
  {
   "cell_type": "code",
   "execution_count": 121,
   "metadata": {},
   "outputs": [],
   "source": [
    "def get_team_specific_dataset(n_games, tn):\n",
    "    h = get_headers(n_games)\n",
    "    h = clean_headers(h)\n",
    "    cv = generate_categorical_headers(h)\n",
    "\n",
    "    #to get names of teams from index\n",
    "    g = gad()\n",
    "    teams = g.createTeamDict()\n",
    "    #load in x_data and y_label for n = 1 (quicker)\n",
    "    x_data = pd.read_csv('Data/assembled_stat_matrix_no2020'+str(n_games)+'_games.csv')\n",
    "    y_label = pd.read_csv('Data/assembled_labelled_ymatrix_no2020'+str(n_games)+'_games.csv')\n",
    "\n",
    "    #finds team index\n",
    "    team_idx = x_data.index[(x_data['Home_Team']==tn) | (x_data['Away_Team']==tn)]\n",
    "    team_x_data = x_data.iloc[team_idx]\n",
    "    team_y_data = y_label.iloc[team_idx]\n",
    "    team_x_data.reset_index(drop=True, inplace=True)\n",
    "    team_y_data.reset_index(drop=True, inplace=True)\n",
    "\n",
    "    #quick shape check\n",
    "    print(team_x_data.shape)\n",
    "    print(team_y_data.shape)\n",
    "    l = team_x_data.shape[0]\n",
    "\n",
    "    #loop for new y_array\n",
    "    i = 0\n",
    "    new_team_y = []\n",
    "    while i < l:\n",
    "        x = team_x_data.iloc[i]\n",
    "        y = team_y_data.iloc[i]\n",
    "        #if our team for current model is the home team\n",
    "        if(x[\"Home_Team\"] == tn):\n",
    "            #and the home team has won\n",
    "            if(y[\"H/A Win?\"] == 0):\n",
    "                #set win val to 1\n",
    "                w_val = 1\n",
    "            #else they're the home team but the away team won\n",
    "            else:\n",
    "                #set win val to 0\n",
    "                w_val = 0\n",
    "        #else they're the away team\n",
    "        else:\n",
    "            #if the home team won, that means they lost\n",
    "            if(y[\"H/A Win?\"] == 0):\n",
    "                w_val = 0\n",
    "            #else they're the away team and they won\n",
    "            else:\n",
    "                w_val = 1\n",
    "        i = i + 1\n",
    "        new_team_y.append(w_val)\n",
    "    ny = pd.DataFrame(new_team_y, columns=['Team Won?'])\n",
    "    return team_x_data, ny"
   ]
  },
  {
   "cell_type": "code",
   "execution_count": 116,
   "metadata": {},
   "outputs": [
    {
     "name": "stdout",
     "output_type": "stream",
     "text": [
      "(176, 1874)\n",
      "(176, 1)\n"
     ]
    },
    {
     "data": {
      "text/html": [
       "<div>\n",
       "<style scoped>\n",
       "    .dataframe tbody tr th:only-of-type {\n",
       "        vertical-align: middle;\n",
       "    }\n",
       "\n",
       "    .dataframe tbody tr th {\n",
       "        vertical-align: top;\n",
       "    }\n",
       "\n",
       "    .dataframe thead th {\n",
       "        text-align: right;\n",
       "    }\n",
       "</style>\n",
       "<table border=\"1\" class=\"dataframe\">\n",
       "  <thead>\n",
       "    <tr style=\"text-align: right;\">\n",
       "      <th></th>\n",
       "      <th>Team Won?</th>\n",
       "    </tr>\n",
       "  </thead>\n",
       "  <tbody>\n",
       "    <tr>\n",
       "      <th>0</th>\n",
       "      <td>0</td>\n",
       "    </tr>\n",
       "    <tr>\n",
       "      <th>1</th>\n",
       "      <td>0</td>\n",
       "    </tr>\n",
       "    <tr>\n",
       "      <th>2</th>\n",
       "      <td>1</td>\n",
       "    </tr>\n",
       "    <tr>\n",
       "      <th>3</th>\n",
       "      <td>0</td>\n",
       "    </tr>\n",
       "    <tr>\n",
       "      <th>4</th>\n",
       "      <td>0</td>\n",
       "    </tr>\n",
       "    <tr>\n",
       "      <th>...</th>\n",
       "      <td>...</td>\n",
       "    </tr>\n",
       "    <tr>\n",
       "      <th>171</th>\n",
       "      <td>0</td>\n",
       "    </tr>\n",
       "    <tr>\n",
       "      <th>172</th>\n",
       "      <td>0</td>\n",
       "    </tr>\n",
       "    <tr>\n",
       "      <th>173</th>\n",
       "      <td>0</td>\n",
       "    </tr>\n",
       "    <tr>\n",
       "      <th>174</th>\n",
       "      <td>1</td>\n",
       "    </tr>\n",
       "    <tr>\n",
       "      <th>175</th>\n",
       "      <td>0</td>\n",
       "    </tr>\n",
       "  </tbody>\n",
       "</table>\n",
       "<p>176 rows × 1 columns</p>\n",
       "</div>"
      ],
      "text/plain": [
       "     Team Won?\n",
       "0            0\n",
       "1            0\n",
       "2            1\n",
       "3            0\n",
       "4            0\n",
       "..         ...\n",
       "171          0\n",
       "172          0\n",
       "173          0\n",
       "174          1\n",
       "175          0\n",
       "\n",
       "[176 rows x 1 columns]"
      ]
     },
     "execution_count": 116,
     "metadata": {},
     "output_type": "execute_result"
    }
   ],
   "source": [
    "x, y = get_team_specific_dataset(10, 1)"
   ]
  },
  {
   "cell_type": "code",
   "execution_count": 136,
   "metadata": {},
   "outputs": [],
   "source": [
    "def eval_team_xgb_games(x, y, m, n_games, tn):\n",
    "    results = []\n",
    "    error = []\n",
    "    count = 0\n",
    "    best_w = m\n",
    "    high_w = 0\n",
    "    cv = StratifiedKFold(n_splits=10, shuffle=True)\n",
    "    for train,test in cv.split(x,y):\n",
    "       # print(len(train))\n",
    "        count = count + 1\n",
    "        print(\"Split: \" + str(count))\n",
    "        #comment out fit steps for random forest i guess lol\n",
    "        prediction = m.fit(x.loc[train],y.loc[train]).predict_proba(x.loc[test])\n",
    "        y_pred = m.predict(x.loc[test])\n",
    "        predictions = [round(value) for value in y_pred]\n",
    "        #sees how accurate the model was when testing the test set\n",
    "        accuracy = accuracy_score(y.loc[test], predictions)\n",
    "        pcent = accuracy * 100.0\n",
    "        results.append(pcent)\n",
    "        #change the best model to equal current model\n",
    "        if(pcent > high_w):\n",
    "            best_w = m\n",
    "            high_w = pcent\n",
    "    print(\"Training Testing Accuracy for n_games=\"+str(n_games)+\" team=\"+str(tn)+\" : %.2f%% (%.2f%%)\" % (np.mean(results), np.std(results)))\n",
    "    return best_w, np.mean(results)"
   ]
  },
  {
   "cell_type": "code",
   "execution_count": 132,
   "metadata": {},
   "outputs": [],
   "source": [
    "def run_team_models(n_games, tn):\n",
    "    #load headers and then subsequently categorical headers\n",
    "    h = get_headers(n_games)\n",
    "    h = clean_headers(h)\n",
    "    cv = generate_categorical_headers(h)\n",
    "\n",
    "    #to get names of teams from index\n",
    "    g = gad()\n",
    "    teams = g.createTeamDict()\n",
    "\n",
    "    #load Data\n",
    "    x_data, y_label = get_team_specific_dataset(n_games, tn)\n",
    "\n",
    "    #make empty OHE object\n",
    "    na_enc = OneHotEncoder(handle_unknown='ignore', sparse=False)\n",
    "\n",
    "    #one hot encode data with new one hot encoder, saves ohe for later use\n",
    "    x_data, ohe = ohe_data(x_data, na_enc, 0, cv)\n",
    "    filename = 'Models/Team_OHE/ohe_'+str(n_games)+\"_team_specific_\"+str(tn)+'_no_2020_games.dat'\n",
    "    pickle.dump(ohe, open(filename, \"wb\"))\n",
    "    #reset headers\n",
    "    feature_names = x_data.columns\n",
    "\n",
    "    #regex solution which is apparently necessary??\n",
    "    regex = re.compile(r\"\\[|\\]|<\", re.IGNORECASE)\n",
    "    x_data.columns = [regex.sub(\"_\", col) if any(x in str(col) for x in set(('[', ']', '<'))) else col for col in x_data.columns.values]\n",
    "\n",
    "    #optimise XGBoost model\n",
    "    #print(x_data)\n",
    "    #for predicting win\n",
    "    model = param_search(x_data, y_label, 0)\n",
    "    best_xgb_clas, model_av = eval_team_xgb_games(x_data, y_label, model, n_games, tn)\n",
    "\n",
    "    #save\n",
    "    pickle.dump(best_xgb_clas, open(\"Models/Team_Models/best_xgb_clas_no2020_\"+str(n_games)+\"_team_specific_\"+str(tn)+'_.dat', \"wb\"))\n",
    "    return model_av"
   ]
  },
  {
   "cell_type": "code",
   "execution_count": 138,
   "metadata": {
    "scrolled": true
   },
   "outputs": [
    {
     "name": "stdout",
     "output_type": "stream",
     "text": [
      "(185, 200)\n",
      "(185, 1)\n",
      "X_train shape: (166, 392)\n",
      "X_test shape: (19, 392)\n",
      "Fitting 10 folds for each of 12 candidates, totalling 120 fits\n"
     ]
    },
    {
     "name": "stderr",
     "output_type": "stream",
     "text": [
      "[Parallel(n_jobs=1)]: Using backend SequentialBackend with 1 concurrent workers.\n",
      "[Parallel(n_jobs=1)]: Done 120 out of 120 | elapsed:    8.2s finished\n"
     ]
    },
    {
     "name": "stdout",
     "output_type": "stream",
     "text": [
      "best score: 0.5602409638554217\n",
      "Fitting 10 folds for each of 12 candidates, totalling 120 fits\n"
     ]
    },
    {
     "name": "stderr",
     "output_type": "stream",
     "text": [
      "[Parallel(n_jobs=1)]: Using backend SequentialBackend with 1 concurrent workers.\n",
      "[Parallel(n_jobs=1)]: Done 120 out of 120 | elapsed:    6.7s finished\n"
     ]
    },
    {
     "name": "stdout",
     "output_type": "stream",
     "text": [
      "best score: 0.5602409638554217\n",
      "Fitting 10 folds for each of 12 candidates, totalling 120 fits\n"
     ]
    },
    {
     "name": "stderr",
     "output_type": "stream",
     "text": [
      "[Parallel(n_jobs=1)]: Using backend SequentialBackend with 1 concurrent workers.\n",
      "[Parallel(n_jobs=1)]: Done 120 out of 120 | elapsed:    7.5s finished\n"
     ]
    },
    {
     "name": "stdout",
     "output_type": "stream",
     "text": [
      "best score: 0.5602409638554217\n",
      "Fitting 10 folds for each of 12 candidates, totalling 120 fits\n"
     ]
    },
    {
     "name": "stderr",
     "output_type": "stream",
     "text": [
      "[Parallel(n_jobs=1)]: Using backend SequentialBackend with 1 concurrent workers.\n",
      "[Parallel(n_jobs=1)]: Done 120 out of 120 | elapsed:    9.7s finished\n"
     ]
    },
    {
     "name": "stdout",
     "output_type": "stream",
     "text": [
      "best score: 0.6024096385542169\n",
      "Fitting 10 folds for each of 12 candidates, totalling 120 fits\n"
     ]
    },
    {
     "name": "stderr",
     "output_type": "stream",
     "text": [
      "[Parallel(n_jobs=1)]: Using backend SequentialBackend with 1 concurrent workers.\n",
      "[Parallel(n_jobs=1)]: Done 120 out of 120 | elapsed:    6.8s finished\n"
     ]
    },
    {
     "name": "stdout",
     "output_type": "stream",
     "text": [
      "best score: 0.6024096385542169\n",
      "Split: 1\n",
      "Split: 2\n",
      "Split: 3\n",
      "Split: 4\n",
      "Split: 5\n",
      "Split: 6\n",
      "Split: 7\n",
      "Split: 8\n",
      "Split: 9\n",
      "Split: 10\n",
      "Training Testing Accuracy for n_games=1 team=1 : 62.54% (10.39%)\n",
      "(183, 200)\n",
      "(183, 1)\n",
      "X_train shape: (164, 386)\n",
      "X_test shape: (19, 386)\n",
      "Fitting 10 folds for each of 12 candidates, totalling 120 fits\n"
     ]
    },
    {
     "name": "stderr",
     "output_type": "stream",
     "text": [
      "[Parallel(n_jobs=1)]: Using backend SequentialBackend with 1 concurrent workers.\n",
      "[Parallel(n_jobs=1)]: Done 120 out of 120 | elapsed:    7.9s finished\n"
     ]
    },
    {
     "name": "stdout",
     "output_type": "stream",
     "text": [
      "best score: 0.6219512195121951\n",
      "Fitting 10 folds for each of 12 candidates, totalling 120 fits\n"
     ]
    },
    {
     "name": "stderr",
     "output_type": "stream",
     "text": [
      "[Parallel(n_jobs=1)]: Using backend SequentialBackend with 1 concurrent workers.\n",
      "[Parallel(n_jobs=1)]: Done 120 out of 120 | elapsed:    6.7s finished\n"
     ]
    },
    {
     "name": "stdout",
     "output_type": "stream",
     "text": [
      "best score: 0.6463414634146342\n",
      "Fitting 10 folds for each of 12 candidates, totalling 120 fits\n"
     ]
    },
    {
     "name": "stderr",
     "output_type": "stream",
     "text": [
      "[Parallel(n_jobs=1)]: Using backend SequentialBackend with 1 concurrent workers.\n",
      "[Parallel(n_jobs=1)]: Done 120 out of 120 | elapsed:    7.6s finished\n"
     ]
    },
    {
     "name": "stdout",
     "output_type": "stream",
     "text": [
      "best score: 0.6463414634146342\n",
      "Fitting 10 folds for each of 12 candidates, totalling 120 fits\n"
     ]
    },
    {
     "name": "stderr",
     "output_type": "stream",
     "text": [
      "[Parallel(n_jobs=1)]: Using backend SequentialBackend with 1 concurrent workers.\n",
      "[Parallel(n_jobs=1)]: Done 120 out of 120 | elapsed:    9.1s finished\n"
     ]
    },
    {
     "name": "stdout",
     "output_type": "stream",
     "text": [
      "best score: 0.6463414634146342\n",
      "Fitting 10 folds for each of 12 candidates, totalling 120 fits\n"
     ]
    },
    {
     "name": "stderr",
     "output_type": "stream",
     "text": [
      "[Parallel(n_jobs=1)]: Using backend SequentialBackend with 1 concurrent workers.\n",
      "[Parallel(n_jobs=1)]: Done 120 out of 120 | elapsed:    6.6s finished\n"
     ]
    },
    {
     "name": "stdout",
     "output_type": "stream",
     "text": [
      "best score: 0.6463414634146342\n",
      "Split: 1\n",
      "Split: 2\n",
      "Split: 3\n",
      "Split: 4\n",
      "Split: 5\n",
      "Split: 6\n",
      "Split: 7\n",
      "Split: 8\n",
      "Split: 9\n",
      "Split: 10\n",
      "Training Testing Accuracy for n_games=1 team=2 : 57.34% (7.86%)\n",
      "(181, 200)\n",
      "(181, 1)\n",
      "X_train shape: (162, 382)\n",
      "X_test shape: (19, 382)\n",
      "Fitting 10 folds for each of 12 candidates, totalling 120 fits\n"
     ]
    },
    {
     "name": "stderr",
     "output_type": "stream",
     "text": [
      "[Parallel(n_jobs=1)]: Using backend SequentialBackend with 1 concurrent workers.\n",
      "[Parallel(n_jobs=1)]: Done 120 out of 120 | elapsed:    7.7s finished\n"
     ]
    },
    {
     "name": "stdout",
     "output_type": "stream",
     "text": [
      "best score: 0.691358024691358\n",
      "Fitting 10 folds for each of 12 candidates, totalling 120 fits\n"
     ]
    },
    {
     "name": "stderr",
     "output_type": "stream",
     "text": [
      "[Parallel(n_jobs=1)]: Using backend SequentialBackend with 1 concurrent workers.\n",
      "[Parallel(n_jobs=1)]: Done 120 out of 120 | elapsed:    6.4s finished\n"
     ]
    },
    {
     "name": "stdout",
     "output_type": "stream",
     "text": [
      "best score: 0.691358024691358\n",
      "Fitting 10 folds for each of 12 candidates, totalling 120 fits\n"
     ]
    },
    {
     "name": "stderr",
     "output_type": "stream",
     "text": [
      "[Parallel(n_jobs=1)]: Using backend SequentialBackend with 1 concurrent workers.\n",
      "[Parallel(n_jobs=1)]: Done 120 out of 120 | elapsed:    5.0s finished\n"
     ]
    },
    {
     "name": "stdout",
     "output_type": "stream",
     "text": [
      "best score: 0.691358024691358\n",
      "Fitting 10 folds for each of 12 candidates, totalling 120 fits\n"
     ]
    },
    {
     "name": "stderr",
     "output_type": "stream",
     "text": [
      "[Parallel(n_jobs=1)]: Using backend SequentialBackend with 1 concurrent workers.\n",
      "[Parallel(n_jobs=1)]: Done 120 out of 120 | elapsed:    5.1s finished\n"
     ]
    },
    {
     "name": "stdout",
     "output_type": "stream",
     "text": [
      "best score: 0.691358024691358\n",
      "Fitting 10 folds for each of 12 candidates, totalling 120 fits\n"
     ]
    },
    {
     "name": "stderr",
     "output_type": "stream",
     "text": [
      "[Parallel(n_jobs=1)]: Using backend SequentialBackend with 1 concurrent workers.\n",
      "[Parallel(n_jobs=1)]: Done 120 out of 120 | elapsed:    5.2s finished\n"
     ]
    },
    {
     "name": "stdout",
     "output_type": "stream",
     "text": [
      "best score: 0.691358024691358\n",
      "Split: 1\n",
      "Split: 2\n",
      "Split: 3\n",
      "Split: 4\n",
      "Split: 5\n",
      "Split: 6\n",
      "Split: 7\n",
      "Split: 8\n",
      "Split: 9\n",
      "Split: 10\n",
      "Training Testing Accuracy for n_games=1 team=3 : 68.51% (2.48%)\n",
      "(186, 200)\n",
      "(186, 1)\n",
      "X_train shape: (167, 388)\n",
      "X_test shape: (19, 388)\n",
      "Fitting 10 folds for each of 12 candidates, totalling 120 fits\n"
     ]
    },
    {
     "name": "stderr",
     "output_type": "stream",
     "text": [
      "[Parallel(n_jobs=1)]: Using backend SequentialBackend with 1 concurrent workers.\n",
      "[Parallel(n_jobs=1)]: Done 120 out of 120 | elapsed:    7.9s finished\n"
     ]
    },
    {
     "name": "stdout",
     "output_type": "stream",
     "text": [
      "best score: 0.5808383233532934\n",
      "Fitting 10 folds for each of 12 candidates, totalling 120 fits\n"
     ]
    },
    {
     "name": "stderr",
     "output_type": "stream",
     "text": [
      "[Parallel(n_jobs=1)]: Using backend SequentialBackend with 1 concurrent workers.\n",
      "[Parallel(n_jobs=1)]: Done 120 out of 120 | elapsed:    9.3s finished\n"
     ]
    },
    {
     "name": "stdout",
     "output_type": "stream",
     "text": [
      "best score: 0.5988023952095808\n",
      "Fitting 10 folds for each of 12 candidates, totalling 120 fits\n"
     ]
    },
    {
     "name": "stderr",
     "output_type": "stream",
     "text": [
      "[Parallel(n_jobs=1)]: Using backend SequentialBackend with 1 concurrent workers.\n",
      "[Parallel(n_jobs=1)]: Done 120 out of 120 | elapsed:    7.9s finished\n"
     ]
    },
    {
     "name": "stdout",
     "output_type": "stream",
     "text": [
      "best score: 0.5988023952095808\n",
      "Fitting 10 folds for each of 12 candidates, totalling 120 fits\n"
     ]
    },
    {
     "name": "stderr",
     "output_type": "stream",
     "text": [
      "[Parallel(n_jobs=1)]: Using backend SequentialBackend with 1 concurrent workers.\n",
      "[Parallel(n_jobs=1)]: Done 120 out of 120 | elapsed:   15.9s finished\n"
     ]
    },
    {
     "name": "stdout",
     "output_type": "stream",
     "text": [
      "best score: 0.6167664670658682\n",
      "Fitting 10 folds for each of 12 candidates, totalling 120 fits\n"
     ]
    },
    {
     "name": "stderr",
     "output_type": "stream",
     "text": [
      "[Parallel(n_jobs=1)]: Using backend SequentialBackend with 1 concurrent workers.\n",
      "[Parallel(n_jobs=1)]: Done 120 out of 120 | elapsed:    9.7s finished\n"
     ]
    },
    {
     "name": "stdout",
     "output_type": "stream",
     "text": [
      "best score: 0.6167664670658682\n",
      "Split: 1\n",
      "Split: 2\n",
      "Split: 3\n",
      "Split: 4\n",
      "Split: 5\n",
      "Split: 6\n",
      "Split: 7\n",
      "Split: 8\n",
      "Split: 9\n",
      "Split: 10\n",
      "Training Testing Accuracy for n_games=1 team=4 : 50.58% (7.07%)\n",
      "(183, 200)\n",
      "(183, 1)\n",
      "X_train shape: (164, 383)\n",
      "X_test shape: (19, 383)\n",
      "Fitting 10 folds for each of 12 candidates, totalling 120 fits\n"
     ]
    },
    {
     "name": "stderr",
     "output_type": "stream",
     "text": [
      "[Parallel(n_jobs=1)]: Using backend SequentialBackend with 1 concurrent workers.\n",
      "[Parallel(n_jobs=1)]: Done 120 out of 120 | elapsed:    7.9s finished\n"
     ]
    },
    {
     "name": "stdout",
     "output_type": "stream",
     "text": [
      "best score: 0.5609756097560976\n",
      "Fitting 10 folds for each of 12 candidates, totalling 120 fits\n"
     ]
    },
    {
     "name": "stderr",
     "output_type": "stream",
     "text": [
      "[Parallel(n_jobs=1)]: Using backend SequentialBackend with 1 concurrent workers.\n",
      "[Parallel(n_jobs=1)]: Done 120 out of 120 | elapsed:    6.5s finished\n"
     ]
    },
    {
     "name": "stdout",
     "output_type": "stream",
     "text": [
      "best score: 0.5609756097560976\n",
      "Fitting 10 folds for each of 12 candidates, totalling 120 fits\n"
     ]
    },
    {
     "name": "stderr",
     "output_type": "stream",
     "text": [
      "[Parallel(n_jobs=1)]: Using backend SequentialBackend with 1 concurrent workers.\n",
      "[Parallel(n_jobs=1)]: Done 120 out of 120 | elapsed:   11.9s finished\n"
     ]
    },
    {
     "name": "stdout",
     "output_type": "stream",
     "text": [
      "best score: 0.5609756097560976\n",
      "Fitting 10 folds for each of 12 candidates, totalling 120 fits\n"
     ]
    },
    {
     "name": "stderr",
     "output_type": "stream",
     "text": [
      "[Parallel(n_jobs=1)]: Using backend SequentialBackend with 1 concurrent workers.\n",
      "[Parallel(n_jobs=1)]: Done 120 out of 120 | elapsed:    6.0s finished\n"
     ]
    },
    {
     "name": "stdout",
     "output_type": "stream",
     "text": [
      "best score: 0.5609756097560976\n",
      "Fitting 10 folds for each of 12 candidates, totalling 120 fits\n"
     ]
    },
    {
     "name": "stderr",
     "output_type": "stream",
     "text": [
      "[Parallel(n_jobs=1)]: Using backend SequentialBackend with 1 concurrent workers.\n",
      "[Parallel(n_jobs=1)]: Done 120 out of 120 | elapsed:    6.0s finished\n"
     ]
    },
    {
     "name": "stdout",
     "output_type": "stream",
     "text": [
      "best score: 0.5609756097560976\n",
      "Split: 1\n",
      "Split: 2\n",
      "Split: 3\n",
      "Split: 4\n",
      "Split: 5\n",
      "Split: 6\n",
      "Split: 7\n",
      "Split: 8\n",
      "Split: 9\n",
      "Split: 10\n",
      "Training Testing Accuracy for n_games=1 team=5 : 55.20% (1.46%)\n",
      "(186, 200)\n",
      "(186, 1)\n",
      "X_train shape: (167, 389)\n",
      "X_test shape: (19, 389)\n",
      "Fitting 10 folds for each of 12 candidates, totalling 120 fits\n"
     ]
    },
    {
     "name": "stderr",
     "output_type": "stream",
     "text": [
      "[Parallel(n_jobs=1)]: Using backend SequentialBackend with 1 concurrent workers.\n",
      "[Parallel(n_jobs=1)]: Done 120 out of 120 | elapsed:    8.1s finished\n"
     ]
    },
    {
     "name": "stdout",
     "output_type": "stream",
     "text": [
      "best score: 0.6407185628742516\n",
      "Fitting 10 folds for each of 12 candidates, totalling 120 fits\n"
     ]
    },
    {
     "name": "stderr",
     "output_type": "stream",
     "text": [
      "[Parallel(n_jobs=1)]: Using backend SequentialBackend with 1 concurrent workers.\n",
      "[Parallel(n_jobs=1)]: Done 120 out of 120 | elapsed:    6.2s finished\n"
     ]
    },
    {
     "name": "stdout",
     "output_type": "stream",
     "text": [
      "best score: 0.6407185628742516\n",
      "Fitting 10 folds for each of 12 candidates, totalling 120 fits\n"
     ]
    },
    {
     "name": "stderr",
     "output_type": "stream",
     "text": [
      "[Parallel(n_jobs=1)]: Using backend SequentialBackend with 1 concurrent workers.\n",
      "[Parallel(n_jobs=1)]: Done 120 out of 120 | elapsed:   10.5s finished\n"
     ]
    },
    {
     "name": "stdout",
     "output_type": "stream",
     "text": [
      "best score: 0.6407185628742516\n",
      "Fitting 10 folds for each of 12 candidates, totalling 120 fits\n"
     ]
    },
    {
     "name": "stderr",
     "output_type": "stream",
     "text": [
      "[Parallel(n_jobs=1)]: Using backend SequentialBackend with 1 concurrent workers.\n",
      "[Parallel(n_jobs=1)]: Done 120 out of 120 | elapsed:   10.3s finished\n"
     ]
    },
    {
     "name": "stdout",
     "output_type": "stream",
     "text": [
      "best score: 0.6407185628742516\n",
      "Fitting 10 folds for each of 12 candidates, totalling 120 fits\n"
     ]
    },
    {
     "name": "stderr",
     "output_type": "stream",
     "text": [
      "[Parallel(n_jobs=1)]: Using backend SequentialBackend with 1 concurrent workers.\n",
      "[Parallel(n_jobs=1)]: Done 120 out of 120 | elapsed:   18.7s finished\n"
     ]
    },
    {
     "name": "stdout",
     "output_type": "stream",
     "text": [
      "best score: 0.6946107784431138\n",
      "Split: 1\n",
      "Split: 2\n",
      "Split: 3\n",
      "Split: 4\n",
      "Split: 5\n",
      "Split: 6\n",
      "Split: 7\n",
      "Split: 8\n",
      "Split: 9\n",
      "Split: 10\n",
      "Training Testing Accuracy for n_games=1 team=6 : 61.29% (10.05%)\n",
      "(195, 200)\n",
      "(195, 1)\n",
      "X_train shape: (175, 387)\n",
      "X_test shape: (20, 387)\n",
      "Fitting 10 folds for each of 12 candidates, totalling 120 fits\n"
     ]
    },
    {
     "name": "stderr",
     "output_type": "stream",
     "text": [
      "[Parallel(n_jobs=1)]: Using backend SequentialBackend with 1 concurrent workers.\n",
      "[Parallel(n_jobs=1)]: Done 120 out of 120 | elapsed:    7.8s finished\n"
     ]
    },
    {
     "name": "stdout",
     "output_type": "stream",
     "text": [
      "best score: 0.68\n",
      "Fitting 10 folds for each of 12 candidates, totalling 120 fits\n"
     ]
    },
    {
     "name": "stderr",
     "output_type": "stream",
     "text": [
      "[Parallel(n_jobs=1)]: Using backend SequentialBackend with 1 concurrent workers.\n",
      "[Parallel(n_jobs=1)]: Done 120 out of 120 | elapsed:   10.2s finished\n"
     ]
    },
    {
     "name": "stdout",
     "output_type": "stream",
     "text": [
      "best score: 0.68\n",
      "Fitting 10 folds for each of 12 candidates, totalling 120 fits\n"
     ]
    },
    {
     "name": "stderr",
     "output_type": "stream",
     "text": [
      "[Parallel(n_jobs=1)]: Using backend SequentialBackend with 1 concurrent workers.\n",
      "[Parallel(n_jobs=1)]: Done 120 out of 120 | elapsed:    6.5s finished\n"
     ]
    },
    {
     "name": "stdout",
     "output_type": "stream",
     "text": [
      "best score: 0.6914285714285714\n",
      "Fitting 10 folds for each of 12 candidates, totalling 120 fits\n"
     ]
    },
    {
     "name": "stderr",
     "output_type": "stream",
     "text": [
      "[Parallel(n_jobs=1)]: Using backend SequentialBackend with 1 concurrent workers.\n",
      "[Parallel(n_jobs=1)]: Done 120 out of 120 | elapsed:   12.6s finished\n"
     ]
    },
    {
     "name": "stdout",
     "output_type": "stream",
     "text": [
      "best score: 0.7028571428571428\n",
      "Fitting 10 folds for each of 12 candidates, totalling 120 fits\n"
     ]
    },
    {
     "name": "stderr",
     "output_type": "stream",
     "text": [
      "[Parallel(n_jobs=1)]: Using backend SequentialBackend with 1 concurrent workers.\n",
      "[Parallel(n_jobs=1)]: Done 120 out of 120 | elapsed:    6.4s finished\n"
     ]
    },
    {
     "name": "stdout",
     "output_type": "stream",
     "text": [
      "best score: 0.7028571428571428\n",
      "Split: 1\n",
      "Split: 2\n",
      "Split: 3\n",
      "Split: 4\n",
      "Split: 5\n",
      "Split: 6\n",
      "Split: 7\n",
      "Split: 8\n",
      "Split: 9\n",
      "Split: 10\n",
      "Training Testing Accuracy for n_games=1 team=7 : 66.74% (5.32%)\n",
      "(179, 200)\n",
      "(179, 1)\n",
      "X_train shape: (161, 384)\n",
      "X_test shape: (18, 384)\n",
      "Fitting 10 folds for each of 12 candidates, totalling 120 fits\n"
     ]
    },
    {
     "name": "stderr",
     "output_type": "stream",
     "text": [
      "[Parallel(n_jobs=1)]: Using backend SequentialBackend with 1 concurrent workers.\n",
      "[Parallel(n_jobs=1)]: Done 120 out of 120 | elapsed:    7.6s finished\n"
     ]
    },
    {
     "name": "stdout",
     "output_type": "stream",
     "text": [
      "best score: 0.7453416149068323\n",
      "Fitting 10 folds for each of 12 candidates, totalling 120 fits\n"
     ]
    },
    {
     "name": "stderr",
     "output_type": "stream",
     "text": [
      "[Parallel(n_jobs=1)]: Using backend SequentialBackend with 1 concurrent workers.\n",
      "[Parallel(n_jobs=1)]: Done 120 out of 120 | elapsed:    7.9s finished\n"
     ]
    },
    {
     "name": "stdout",
     "output_type": "stream",
     "text": [
      "best score: 0.7453416149068323\n",
      "Fitting 10 folds for each of 12 candidates, totalling 120 fits\n"
     ]
    },
    {
     "name": "stderr",
     "output_type": "stream",
     "text": [
      "[Parallel(n_jobs=1)]: Using backend SequentialBackend with 1 concurrent workers.\n",
      "[Parallel(n_jobs=1)]: Done 120 out of 120 | elapsed:   11.9s finished\n"
     ]
    },
    {
     "name": "stdout",
     "output_type": "stream",
     "text": [
      "best score: 0.7453416149068323\n",
      "Fitting 10 folds for each of 12 candidates, totalling 120 fits\n"
     ]
    },
    {
     "name": "stderr",
     "output_type": "stream",
     "text": [
      "[Parallel(n_jobs=1)]: Using backend SequentialBackend with 1 concurrent workers.\n",
      "[Parallel(n_jobs=1)]: Done 120 out of 120 | elapsed:    7.9s finished\n"
     ]
    },
    {
     "name": "stdout",
     "output_type": "stream",
     "text": [
      "best score: 0.7453416149068323\n",
      "Fitting 10 folds for each of 12 candidates, totalling 120 fits\n"
     ]
    },
    {
     "name": "stderr",
     "output_type": "stream",
     "text": [
      "[Parallel(n_jobs=1)]: Using backend SequentialBackend with 1 concurrent workers.\n",
      "[Parallel(n_jobs=1)]: Done 120 out of 120 | elapsed:    6.0s finished\n"
     ]
    },
    {
     "name": "stdout",
     "output_type": "stream",
     "text": [
      "best score: 0.7453416149068323\n",
      "Split: 1\n",
      "Split: 2\n",
      "Split: 3\n",
      "Split: 4\n",
      "Split: 5\n",
      "Split: 6\n",
      "Split: 7\n",
      "Split: 8\n",
      "Split: 9\n",
      "Split: 10\n",
      "Training Testing Accuracy for n_games=1 team=8 : 72.06% (0.49%)\n",
      "(192, 200)\n",
      "(192, 1)\n",
      "X_train shape: (172, 396)\n",
      "X_test shape: (20, 396)\n",
      "Fitting 10 folds for each of 12 candidates, totalling 120 fits\n"
     ]
    },
    {
     "name": "stderr",
     "output_type": "stream",
     "text": [
      "[Parallel(n_jobs=1)]: Using backend SequentialBackend with 1 concurrent workers.\n",
      "[Parallel(n_jobs=1)]: Done 120 out of 120 | elapsed:    8.0s finished\n"
     ]
    },
    {
     "name": "stdout",
     "output_type": "stream",
     "text": [
      "best score: 0.5755813953488372\n",
      "Fitting 10 folds for each of 12 candidates, totalling 120 fits\n"
     ]
    },
    {
     "name": "stderr",
     "output_type": "stream",
     "text": [
      "[Parallel(n_jobs=1)]: Using backend SequentialBackend with 1 concurrent workers.\n",
      "[Parallel(n_jobs=1)]: Done 120 out of 120 | elapsed:   21.4s finished\n"
     ]
    },
    {
     "name": "stdout",
     "output_type": "stream",
     "text": [
      "best score: 0.6337209302325582\n",
      "Fitting 10 folds for each of 12 candidates, totalling 120 fits\n"
     ]
    },
    {
     "name": "stderr",
     "output_type": "stream",
     "text": [
      "[Parallel(n_jobs=1)]: Using backend SequentialBackend with 1 concurrent workers.\n",
      "[Parallel(n_jobs=1)]: Done 120 out of 120 | elapsed:    5.8s finished\n"
     ]
    },
    {
     "name": "stdout",
     "output_type": "stream",
     "text": [
      "best score: 0.6337209302325582\n",
      "Fitting 10 folds for each of 12 candidates, totalling 120 fits\n"
     ]
    },
    {
     "name": "stderr",
     "output_type": "stream",
     "text": [
      "[Parallel(n_jobs=1)]: Using backend SequentialBackend with 1 concurrent workers.\n",
      "[Parallel(n_jobs=1)]: Done 120 out of 120 | elapsed:   17.3s finished\n"
     ]
    },
    {
     "name": "stdout",
     "output_type": "stream",
     "text": [
      "best score: 0.6337209302325582\n",
      "Fitting 10 folds for each of 12 candidates, totalling 120 fits\n"
     ]
    },
    {
     "name": "stderr",
     "output_type": "stream",
     "text": [
      "[Parallel(n_jobs=1)]: Using backend SequentialBackend with 1 concurrent workers.\n",
      "[Parallel(n_jobs=1)]: Done 120 out of 120 | elapsed:   14.9s finished\n"
     ]
    },
    {
     "name": "stdout",
     "output_type": "stream",
     "text": [
      "best score: 0.6337209302325582\n",
      "Split: 1\n",
      "Split: 2\n",
      "Split: 3\n",
      "Split: 4\n",
      "Split: 5\n",
      "Split: 6\n",
      "Split: 7\n",
      "Split: 8\n",
      "Split: 9\n",
      "Split: 10\n",
      "Training Testing Accuracy for n_games=1 team=9 : 60.89% (6.90%)\n",
      "(193, 200)\n",
      "(193, 1)\n",
      "X_train shape: (173, 386)\n",
      "X_test shape: (20, 386)\n",
      "Fitting 10 folds for each of 12 candidates, totalling 120 fits\n"
     ]
    },
    {
     "name": "stderr",
     "output_type": "stream",
     "text": [
      "[Parallel(n_jobs=1)]: Using backend SequentialBackend with 1 concurrent workers.\n",
      "[Parallel(n_jobs=1)]: Done 120 out of 120 | elapsed:    7.8s finished\n"
     ]
    },
    {
     "name": "stdout",
     "output_type": "stream",
     "text": [
      "best score: 0.6358381502890174\n",
      "Fitting 10 folds for each of 12 candidates, totalling 120 fits\n"
     ]
    },
    {
     "name": "stderr",
     "output_type": "stream",
     "text": [
      "[Parallel(n_jobs=1)]: Using backend SequentialBackend with 1 concurrent workers.\n",
      "[Parallel(n_jobs=1)]: Done 120 out of 120 | elapsed:    5.2s finished\n"
     ]
    },
    {
     "name": "stdout",
     "output_type": "stream",
     "text": [
      "best score: 0.6358381502890174\n",
      "Fitting 10 folds for each of 12 candidates, totalling 120 fits\n"
     ]
    },
    {
     "name": "stderr",
     "output_type": "stream",
     "text": [
      "[Parallel(n_jobs=1)]: Using backend SequentialBackend with 1 concurrent workers.\n",
      "[Parallel(n_jobs=1)]: Done 120 out of 120 | elapsed:    7.4s finished\n"
     ]
    },
    {
     "name": "stdout",
     "output_type": "stream",
     "text": [
      "best score: 0.653179190751445\n",
      "Fitting 10 folds for each of 12 candidates, totalling 120 fits\n"
     ]
    },
    {
     "name": "stderr",
     "output_type": "stream",
     "text": [
      "[Parallel(n_jobs=1)]: Using backend SequentialBackend with 1 concurrent workers.\n",
      "[Parallel(n_jobs=1)]: Done 120 out of 120 | elapsed:    5.5s finished\n"
     ]
    },
    {
     "name": "stdout",
     "output_type": "stream",
     "text": [
      "best score: 0.653179190751445\n",
      "Fitting 10 folds for each of 12 candidates, totalling 120 fits\n"
     ]
    },
    {
     "name": "stderr",
     "output_type": "stream",
     "text": [
      "[Parallel(n_jobs=1)]: Using backend SequentialBackend with 1 concurrent workers.\n",
      "[Parallel(n_jobs=1)]: Done 120 out of 120 | elapsed:    7.4s finished\n"
     ]
    },
    {
     "name": "stdout",
     "output_type": "stream",
     "text": [
      "best score: 0.653179190751445\n",
      "Split: 1\n",
      "Split: 2\n",
      "Split: 3\n",
      "Split: 4\n",
      "Split: 5\n",
      "Split: 6\n",
      "Split: 7\n",
      "Split: 8\n",
      "Split: 9\n",
      "Split: 10\n",
      "Training Testing Accuracy for n_games=1 team=10 : 63.16% (5.25%)\n",
      "(185, 200)\n",
      "(185, 1)\n",
      "X_train shape: (166, 390)\n",
      "X_test shape: (19, 390)\n",
      "Fitting 10 folds for each of 12 candidates, totalling 120 fits\n"
     ]
    },
    {
     "name": "stderr",
     "output_type": "stream",
     "text": [
      "[Parallel(n_jobs=1)]: Using backend SequentialBackend with 1 concurrent workers.\n",
      "[Parallel(n_jobs=1)]: Done 120 out of 120 | elapsed:    8.3s finished\n"
     ]
    },
    {
     "name": "stdout",
     "output_type": "stream",
     "text": [
      "best score: 0.5783132530120482\n",
      "Fitting 10 folds for each of 12 candidates, totalling 120 fits\n"
     ]
    },
    {
     "name": "stderr",
     "output_type": "stream",
     "text": [
      "[Parallel(n_jobs=1)]: Using backend SequentialBackend with 1 concurrent workers.\n",
      "[Parallel(n_jobs=1)]: Done 120 out of 120 | elapsed:    9.7s finished\n"
     ]
    },
    {
     "name": "stdout",
     "output_type": "stream",
     "text": [
      "best score: 0.5783132530120482\n",
      "Fitting 10 folds for each of 12 candidates, totalling 120 fits\n"
     ]
    },
    {
     "name": "stderr",
     "output_type": "stream",
     "text": [
      "[Parallel(n_jobs=1)]: Using backend SequentialBackend with 1 concurrent workers.\n",
      "[Parallel(n_jobs=1)]: Done 120 out of 120 | elapsed:    5.9s finished\n"
     ]
    },
    {
     "name": "stdout",
     "output_type": "stream",
     "text": [
      "best score: 0.5783132530120482\n",
      "Fitting 10 folds for each of 12 candidates, totalling 120 fits\n"
     ]
    },
    {
     "name": "stderr",
     "output_type": "stream",
     "text": [
      "[Parallel(n_jobs=1)]: Using backend SequentialBackend with 1 concurrent workers.\n",
      "[Parallel(n_jobs=1)]: Done 120 out of 120 | elapsed:    6.6s finished\n"
     ]
    },
    {
     "name": "stdout",
     "output_type": "stream",
     "text": [
      "best score: 0.608433734939759\n",
      "Fitting 10 folds for each of 12 candidates, totalling 120 fits\n"
     ]
    },
    {
     "name": "stderr",
     "output_type": "stream",
     "text": [
      "[Parallel(n_jobs=1)]: Using backend SequentialBackend with 1 concurrent workers.\n",
      "[Parallel(n_jobs=1)]: Done 120 out of 120 | elapsed:    7.1s finished\n"
     ]
    },
    {
     "name": "stdout",
     "output_type": "stream",
     "text": [
      "best score: 0.608433734939759\n",
      "Split: 1\n",
      "Split: 2\n",
      "Split: 3\n",
      "Split: 4\n",
      "Split: 5\n",
      "Split: 6\n",
      "Split: 7\n",
      "Split: 8\n",
      "Split: 9\n",
      "Split: 10\n",
      "Training Testing Accuracy for n_games=1 team=11 : 61.11% (6.10%)\n",
      "(186, 200)\n",
      "(186, 1)\n",
      "X_train shape: (167, 386)\n",
      "X_test shape: (19, 386)\n",
      "Fitting 10 folds for each of 12 candidates, totalling 120 fits\n"
     ]
    },
    {
     "name": "stderr",
     "output_type": "stream",
     "text": [
      "[Parallel(n_jobs=1)]: Using backend SequentialBackend with 1 concurrent workers.\n",
      "[Parallel(n_jobs=1)]: Done 120 out of 120 | elapsed:    8.0s finished\n"
     ]
    },
    {
     "name": "stdout",
     "output_type": "stream",
     "text": [
      "best score: 0.5329341317365269\n",
      "Fitting 10 folds for each of 12 candidates, totalling 120 fits\n"
     ]
    },
    {
     "name": "stderr",
     "output_type": "stream",
     "text": [
      "[Parallel(n_jobs=1)]: Using backend SequentialBackend with 1 concurrent workers.\n",
      "[Parallel(n_jobs=1)]: Done 120 out of 120 | elapsed:   13.4s finished\n"
     ]
    },
    {
     "name": "stdout",
     "output_type": "stream",
     "text": [
      "best score: 0.5568862275449101\n",
      "Fitting 10 folds for each of 12 candidates, totalling 120 fits\n"
     ]
    },
    {
     "name": "stderr",
     "output_type": "stream",
     "text": [
      "[Parallel(n_jobs=1)]: Using backend SequentialBackend with 1 concurrent workers.\n",
      "[Parallel(n_jobs=1)]: Done 120 out of 120 | elapsed:   13.1s finished\n"
     ]
    },
    {
     "name": "stdout",
     "output_type": "stream",
     "text": [
      "best score: 0.5748502994011976\n",
      "Fitting 10 folds for each of 12 candidates, totalling 120 fits\n"
     ]
    },
    {
     "name": "stderr",
     "output_type": "stream",
     "text": [
      "[Parallel(n_jobs=1)]: Using backend SequentialBackend with 1 concurrent workers.\n",
      "[Parallel(n_jobs=1)]: Done 120 out of 120 | elapsed:    6.4s finished\n"
     ]
    },
    {
     "name": "stdout",
     "output_type": "stream",
     "text": [
      "best score: 0.5748502994011976\n",
      "Fitting 10 folds for each of 12 candidates, totalling 120 fits\n"
     ]
    },
    {
     "name": "stderr",
     "output_type": "stream",
     "text": [
      "[Parallel(n_jobs=1)]: Using backend SequentialBackend with 1 concurrent workers.\n",
      "[Parallel(n_jobs=1)]: Done 120 out of 120 | elapsed:    5.3s finished\n"
     ]
    },
    {
     "name": "stdout",
     "output_type": "stream",
     "text": [
      "best score: 0.5748502994011976\n",
      "Split: 1\n",
      "Split: 2\n",
      "Split: 3\n",
      "Split: 4\n",
      "Split: 5\n",
      "Split: 6\n",
      "Split: 7\n",
      "Split: 8\n",
      "Split: 9\n",
      "Split: 10\n",
      "Training Testing Accuracy for n_games=1 team=12 : 53.77% (7.47%)\n",
      "(187, 200)\n",
      "(187, 1)\n",
      "X_train shape: (168, 393)\n",
      "X_test shape: (19, 393)\n",
      "Fitting 10 folds for each of 12 candidates, totalling 120 fits\n"
     ]
    },
    {
     "name": "stderr",
     "output_type": "stream",
     "text": [
      "[Parallel(n_jobs=1)]: Using backend SequentialBackend with 1 concurrent workers.\n",
      "[Parallel(n_jobs=1)]: Done 120 out of 120 | elapsed:    7.9s finished\n"
     ]
    },
    {
     "name": "stdout",
     "output_type": "stream",
     "text": [
      "best score: 0.6130952380952381\n",
      "Fitting 10 folds for each of 12 candidates, totalling 120 fits\n"
     ]
    },
    {
     "name": "stderr",
     "output_type": "stream",
     "text": [
      "[Parallel(n_jobs=1)]: Using backend SequentialBackend with 1 concurrent workers.\n",
      "[Parallel(n_jobs=1)]: Done 120 out of 120 | elapsed:   13.7s finished\n"
     ]
    },
    {
     "name": "stdout",
     "output_type": "stream",
     "text": [
      "best score: 0.6547619047619048\n",
      "Fitting 10 folds for each of 12 candidates, totalling 120 fits\n"
     ]
    },
    {
     "name": "stderr",
     "output_type": "stream",
     "text": [
      "[Parallel(n_jobs=1)]: Using backend SequentialBackend with 1 concurrent workers.\n",
      "[Parallel(n_jobs=1)]: Done 120 out of 120 | elapsed:   19.4s finished\n"
     ]
    },
    {
     "name": "stdout",
     "output_type": "stream",
     "text": [
      "best score: 0.6547619047619048\n",
      "Fitting 10 folds for each of 12 candidates, totalling 120 fits\n"
     ]
    },
    {
     "name": "stderr",
     "output_type": "stream",
     "text": [
      "[Parallel(n_jobs=1)]: Using backend SequentialBackend with 1 concurrent workers.\n",
      "[Parallel(n_jobs=1)]: Done 120 out of 120 | elapsed:    7.5s finished\n"
     ]
    },
    {
     "name": "stdout",
     "output_type": "stream",
     "text": [
      "best score: 0.6547619047619048\n",
      "Fitting 10 folds for each of 12 candidates, totalling 120 fits\n"
     ]
    },
    {
     "name": "stderr",
     "output_type": "stream",
     "text": [
      "[Parallel(n_jobs=1)]: Using backend SequentialBackend with 1 concurrent workers.\n",
      "[Parallel(n_jobs=1)]: Done 120 out of 120 | elapsed:   17.5s finished\n"
     ]
    },
    {
     "name": "stdout",
     "output_type": "stream",
     "text": [
      "best score: 0.6547619047619048\n",
      "Split: 1\n",
      "Split: 2\n",
      "Split: 3\n",
      "Split: 4\n",
      "Split: 5\n",
      "Split: 6\n",
      "Split: 7\n",
      "Split: 8\n",
      "Split: 9\n",
      "Split: 10\n",
      "Training Testing Accuracy for n_games=1 team=13 : 58.25% (4.26%)\n",
      "(190, 200)\n",
      "(190, 1)\n",
      "X_train shape: (171, 387)\n",
      "X_test shape: (19, 387)\n",
      "Fitting 10 folds for each of 12 candidates, totalling 120 fits\n"
     ]
    },
    {
     "name": "stderr",
     "output_type": "stream",
     "text": [
      "[Parallel(n_jobs=1)]: Using backend SequentialBackend with 1 concurrent workers.\n",
      "[Parallel(n_jobs=1)]: Done 120 out of 120 | elapsed:    7.8s finished\n"
     ]
    },
    {
     "name": "stdout",
     "output_type": "stream",
     "text": [
      "best score: 0.631578947368421\n",
      "Fitting 10 folds for each of 12 candidates, totalling 120 fits\n"
     ]
    },
    {
     "name": "stderr",
     "output_type": "stream",
     "text": [
      "[Parallel(n_jobs=1)]: Using backend SequentialBackend with 1 concurrent workers.\n",
      "[Parallel(n_jobs=1)]: Done 120 out of 120 | elapsed:    6.1s finished\n"
     ]
    },
    {
     "name": "stdout",
     "output_type": "stream",
     "text": [
      "best score: 0.631578947368421\n",
      "Fitting 10 folds for each of 12 candidates, totalling 120 fits\n"
     ]
    },
    {
     "name": "stderr",
     "output_type": "stream",
     "text": [
      "[Parallel(n_jobs=1)]: Using backend SequentialBackend with 1 concurrent workers.\n",
      "[Parallel(n_jobs=1)]: Done 120 out of 120 | elapsed:    6.2s finished\n"
     ]
    },
    {
     "name": "stdout",
     "output_type": "stream",
     "text": [
      "best score: 0.631578947368421\n",
      "Fitting 10 folds for each of 12 candidates, totalling 120 fits\n"
     ]
    },
    {
     "name": "stderr",
     "output_type": "stream",
     "text": [
      "[Parallel(n_jobs=1)]: Using backend SequentialBackend with 1 concurrent workers.\n",
      "[Parallel(n_jobs=1)]: Done 120 out of 120 | elapsed:    9.3s finished\n"
     ]
    },
    {
     "name": "stdout",
     "output_type": "stream",
     "text": [
      "best score: 0.631578947368421\n",
      "Fitting 10 folds for each of 12 candidates, totalling 120 fits\n"
     ]
    },
    {
     "name": "stderr",
     "output_type": "stream",
     "text": [
      "[Parallel(n_jobs=1)]: Using backend SequentialBackend with 1 concurrent workers.\n",
      "[Parallel(n_jobs=1)]: Done 120 out of 120 | elapsed:    5.7s finished\n"
     ]
    },
    {
     "name": "stdout",
     "output_type": "stream",
     "text": [
      "best score: 0.631578947368421\n",
      "Split: 1\n",
      "Split: 2\n",
      "Split: 3\n",
      "Split: 4\n",
      "Split: 5\n",
      "Split: 6\n",
      "Split: 7\n",
      "Split: 8\n",
      "Split: 9\n",
      "Split: 10\n",
      "Training Testing Accuracy for n_games=1 team=14 : 61.58% (2.41%)\n",
      "(179, 200)\n",
      "(179, 1)\n",
      "X_train shape: (161, 387)\n",
      "X_test shape: (18, 387)\n",
      "Fitting 10 folds for each of 12 candidates, totalling 120 fits\n"
     ]
    },
    {
     "name": "stderr",
     "output_type": "stream",
     "text": [
      "[Parallel(n_jobs=1)]: Using backend SequentialBackend with 1 concurrent workers.\n",
      "[Parallel(n_jobs=1)]: Done 120 out of 120 | elapsed:   11.1s finished\n"
     ]
    },
    {
     "name": "stdout",
     "output_type": "stream",
     "text": [
      "best score: 0.6583850931677019\n",
      "Fitting 10 folds for each of 12 candidates, totalling 120 fits\n"
     ]
    },
    {
     "name": "stderr",
     "output_type": "stream",
     "text": [
      "[Parallel(n_jobs=1)]: Using backend SequentialBackend with 1 concurrent workers.\n",
      "[Parallel(n_jobs=1)]: Done 120 out of 120 | elapsed:    8.8s finished\n"
     ]
    },
    {
     "name": "stdout",
     "output_type": "stream",
     "text": [
      "best score: 0.6583850931677019\n",
      "Fitting 10 folds for each of 12 candidates, totalling 120 fits\n"
     ]
    },
    {
     "name": "stderr",
     "output_type": "stream",
     "text": [
      "[Parallel(n_jobs=1)]: Using backend SequentialBackend with 1 concurrent workers.\n",
      "[Parallel(n_jobs=1)]: Done 120 out of 120 | elapsed:    7.1s finished\n"
     ]
    },
    {
     "name": "stdout",
     "output_type": "stream",
     "text": [
      "best score: 0.6583850931677019\n",
      "Fitting 10 folds for each of 12 candidates, totalling 120 fits\n"
     ]
    },
    {
     "name": "stderr",
     "output_type": "stream",
     "text": [
      "[Parallel(n_jobs=1)]: Using backend SequentialBackend with 1 concurrent workers.\n",
      "[Parallel(n_jobs=1)]: Done 120 out of 120 | elapsed:    9.3s finished\n"
     ]
    },
    {
     "name": "stdout",
     "output_type": "stream",
     "text": [
      "best score: 0.6645962732919255\n",
      "Fitting 10 folds for each of 12 candidates, totalling 120 fits\n"
     ]
    },
    {
     "name": "stderr",
     "output_type": "stream",
     "text": [
      "[Parallel(n_jobs=1)]: Using backend SequentialBackend with 1 concurrent workers.\n",
      "[Parallel(n_jobs=1)]: Done 120 out of 120 | elapsed:    8.1s finished\n"
     ]
    },
    {
     "name": "stdout",
     "output_type": "stream",
     "text": [
      "best score: 0.6645962732919255\n",
      "Split: 1\n",
      "Split: 2\n",
      "Split: 3\n",
      "Split: 4\n",
      "Split: 5\n",
      "Split: 6\n",
      "Split: 7\n",
      "Split: 8\n",
      "Split: 9\n",
      "Split: 10\n",
      "Training Testing Accuracy for n_games=1 team=15 : 64.87% (10.10%)\n",
      "(195, 200)\n",
      "(195, 1)\n",
      "X_train shape: (175, 390)\n",
      "X_test shape: (20, 390)\n",
      "Fitting 10 folds for each of 12 candidates, totalling 120 fits\n"
     ]
    },
    {
     "name": "stderr",
     "output_type": "stream",
     "text": [
      "[Parallel(n_jobs=1)]: Using backend SequentialBackend with 1 concurrent workers.\n",
      "[Parallel(n_jobs=1)]: Done 120 out of 120 | elapsed:    9.5s finished\n"
     ]
    },
    {
     "name": "stdout",
     "output_type": "stream",
     "text": [
      "best score: 0.64\n",
      "Fitting 10 folds for each of 12 candidates, totalling 120 fits\n"
     ]
    },
    {
     "name": "stderr",
     "output_type": "stream",
     "text": [
      "[Parallel(n_jobs=1)]: Using backend SequentialBackend with 1 concurrent workers.\n",
      "[Parallel(n_jobs=1)]: Done 120 out of 120 | elapsed:    8.7s finished\n"
     ]
    },
    {
     "name": "stdout",
     "output_type": "stream",
     "text": [
      "best score: 0.64\n",
      "Fitting 10 folds for each of 12 candidates, totalling 120 fits\n"
     ]
    },
    {
     "name": "stderr",
     "output_type": "stream",
     "text": [
      "[Parallel(n_jobs=1)]: Using backend SequentialBackend with 1 concurrent workers.\n",
      "[Parallel(n_jobs=1)]: Done 120 out of 120 | elapsed:   17.5s finished\n"
     ]
    },
    {
     "name": "stdout",
     "output_type": "stream",
     "text": [
      "best score: 0.64\n",
      "Fitting 10 folds for each of 12 candidates, totalling 120 fits\n"
     ]
    },
    {
     "name": "stderr",
     "output_type": "stream",
     "text": [
      "[Parallel(n_jobs=1)]: Using backend SequentialBackend with 1 concurrent workers.\n",
      "[Parallel(n_jobs=1)]: Done 120 out of 120 | elapsed:   14.3s finished\n"
     ]
    },
    {
     "name": "stdout",
     "output_type": "stream",
     "text": [
      "best score: 0.64\n",
      "Fitting 10 folds for each of 12 candidates, totalling 120 fits\n"
     ]
    },
    {
     "name": "stderr",
     "output_type": "stream",
     "text": [
      "[Parallel(n_jobs=1)]: Using backend SequentialBackend with 1 concurrent workers.\n",
      "[Parallel(n_jobs=1)]: Done 120 out of 120 | elapsed:    7.1s finished\n"
     ]
    },
    {
     "name": "stdout",
     "output_type": "stream",
     "text": [
      "best score: 0.64\n",
      "Split: 1\n",
      "Split: 2\n",
      "Split: 3\n",
      "Split: 4\n",
      "Split: 5\n",
      "Split: 6\n",
      "Split: 7\n",
      "Split: 8\n",
      "Split: 9\n",
      "Split: 10\n",
      "Training Testing Accuracy for n_games=1 team=16 : 64.08% (0.92%)\n",
      "(190, 200)\n",
      "(190, 1)\n",
      "X_train shape: (171, 386)\n",
      "X_test shape: (19, 386)\n",
      "Fitting 10 folds for each of 12 candidates, totalling 120 fits\n"
     ]
    },
    {
     "name": "stderr",
     "output_type": "stream",
     "text": [
      "[Parallel(n_jobs=1)]: Using backend SequentialBackend with 1 concurrent workers.\n",
      "[Parallel(n_jobs=1)]: Done 120 out of 120 | elapsed:    7.8s finished\n"
     ]
    },
    {
     "name": "stdout",
     "output_type": "stream",
     "text": [
      "best score: 0.6198830409356725\n",
      "Fitting 10 folds for each of 12 candidates, totalling 120 fits\n"
     ]
    },
    {
     "name": "stderr",
     "output_type": "stream",
     "text": [
      "[Parallel(n_jobs=1)]: Using backend SequentialBackend with 1 concurrent workers.\n",
      "[Parallel(n_jobs=1)]: Done 120 out of 120 | elapsed:    5.8s finished\n"
     ]
    },
    {
     "name": "stdout",
     "output_type": "stream",
     "text": [
      "best score: 0.6198830409356725\n",
      "Fitting 10 folds for each of 12 candidates, totalling 120 fits\n"
     ]
    },
    {
     "name": "stderr",
     "output_type": "stream",
     "text": [
      "[Parallel(n_jobs=1)]: Using backend SequentialBackend with 1 concurrent workers.\n",
      "[Parallel(n_jobs=1)]: Done 120 out of 120 | elapsed:    6.8s finished\n"
     ]
    },
    {
     "name": "stdout",
     "output_type": "stream",
     "text": [
      "best score: 0.631578947368421\n",
      "Fitting 10 folds for each of 12 candidates, totalling 120 fits\n"
     ]
    },
    {
     "name": "stderr",
     "output_type": "stream",
     "text": [
      "[Parallel(n_jobs=1)]: Using backend SequentialBackend with 1 concurrent workers.\n",
      "[Parallel(n_jobs=1)]: Done 120 out of 120 | elapsed:    7.1s finished\n"
     ]
    },
    {
     "name": "stdout",
     "output_type": "stream",
     "text": [
      "best score: 0.631578947368421\n",
      "Fitting 10 folds for each of 12 candidates, totalling 120 fits\n"
     ]
    },
    {
     "name": "stderr",
     "output_type": "stream",
     "text": [
      "[Parallel(n_jobs=1)]: Using backend SequentialBackend with 1 concurrent workers.\n",
      "[Parallel(n_jobs=1)]: Done 120 out of 120 | elapsed:    8.8s finished\n"
     ]
    },
    {
     "name": "stdout",
     "output_type": "stream",
     "text": [
      "best score: 0.6549707602339181\n",
      "Split: 1\n",
      "Split: 2\n",
      "Split: 3\n",
      "Split: 4\n",
      "Split: 5\n",
      "Split: 6\n",
      "Split: 7\n",
      "Split: 8\n",
      "Split: 9\n",
      "Split: 10\n",
      "Training Testing Accuracy for n_games=1 team=17 : 59.47% (4.74%)\n",
      "(189, 200)\n",
      "(189, 1)\n",
      "X_train shape: (170, 394)\n",
      "X_test shape: (19, 394)\n",
      "Fitting 10 folds for each of 12 candidates, totalling 120 fits\n"
     ]
    },
    {
     "name": "stderr",
     "output_type": "stream",
     "text": [
      "[Parallel(n_jobs=1)]: Using backend SequentialBackend with 1 concurrent workers.\n",
      "[Parallel(n_jobs=1)]: Done 120 out of 120 | elapsed:    8.0s finished\n"
     ]
    },
    {
     "name": "stdout",
     "output_type": "stream",
     "text": [
      "best score: 0.5823529411764706\n",
      "Fitting 10 folds for each of 12 candidates, totalling 120 fits\n"
     ]
    },
    {
     "name": "stderr",
     "output_type": "stream",
     "text": [
      "[Parallel(n_jobs=1)]: Using backend SequentialBackend with 1 concurrent workers.\n",
      "[Parallel(n_jobs=1)]: Done 120 out of 120 | elapsed:   11.8s finished\n"
     ]
    },
    {
     "name": "stdout",
     "output_type": "stream",
     "text": [
      "best score: 0.5823529411764706\n",
      "Fitting 10 folds for each of 12 candidates, totalling 120 fits\n"
     ]
    },
    {
     "name": "stderr",
     "output_type": "stream",
     "text": [
      "[Parallel(n_jobs=1)]: Using backend SequentialBackend with 1 concurrent workers.\n",
      "[Parallel(n_jobs=1)]: Done 120 out of 120 | elapsed:    7.7s finished\n"
     ]
    },
    {
     "name": "stdout",
     "output_type": "stream",
     "text": [
      "best score: 0.5823529411764706\n",
      "Fitting 10 folds for each of 12 candidates, totalling 120 fits\n"
     ]
    },
    {
     "name": "stderr",
     "output_type": "stream",
     "text": [
      "[Parallel(n_jobs=1)]: Using backend SequentialBackend with 1 concurrent workers.\n",
      "[Parallel(n_jobs=1)]: Done 120 out of 120 | elapsed:   10.9s finished\n"
     ]
    },
    {
     "name": "stdout",
     "output_type": "stream",
     "text": [
      "best score: 0.5823529411764706\n",
      "Fitting 10 folds for each of 12 candidates, totalling 120 fits\n"
     ]
    },
    {
     "name": "stderr",
     "output_type": "stream",
     "text": [
      "[Parallel(n_jobs=1)]: Using backend SequentialBackend with 1 concurrent workers.\n",
      "[Parallel(n_jobs=1)]: Done 120 out of 120 | elapsed:    6.9s finished\n"
     ]
    },
    {
     "name": "stdout",
     "output_type": "stream",
     "text": [
      "best score: 0.5823529411764706\n",
      "Split: 1\n",
      "Split: 2\n",
      "Split: 3\n",
      "Split: 4\n",
      "Split: 5\n",
      "Split: 6\n",
      "Split: 7\n",
      "Split: 8\n",
      "Split: 9\n",
      "Split: 10\n",
      "Training Testing Accuracy for n_games=1 team=18 : 53.33% (16.50%)\n",
      "Accuracy for Team Models for n_games= 1 : 60.82% (5.37%)\n",
      "(184, 386)\n",
      "(184, 1)\n",
      "X_train shape: (165, 695)\n",
      "X_test shape: (19, 695)\n",
      "Fitting 10 folds for each of 12 candidates, totalling 120 fits\n"
     ]
    },
    {
     "name": "stderr",
     "output_type": "stream",
     "text": [
      "[Parallel(n_jobs=1)]: Using backend SequentialBackend with 1 concurrent workers.\n",
      "[Parallel(n_jobs=1)]: Done 120 out of 120 | elapsed:   12.3s finished\n"
     ]
    },
    {
     "name": "stdout",
     "output_type": "stream",
     "text": [
      "best score: 0.6121212121212121\n",
      "Fitting 10 folds for each of 12 candidates, totalling 120 fits\n"
     ]
    },
    {
     "name": "stderr",
     "output_type": "stream",
     "text": [
      "[Parallel(n_jobs=1)]: Using backend SequentialBackend with 1 concurrent workers.\n",
      "[Parallel(n_jobs=1)]: Done 120 out of 120 | elapsed:   32.0s finished\n"
     ]
    },
    {
     "name": "stdout",
     "output_type": "stream",
     "text": [
      "best score: 0.6121212121212121\n",
      "Fitting 10 folds for each of 12 candidates, totalling 120 fits\n"
     ]
    },
    {
     "name": "stderr",
     "output_type": "stream",
     "text": [
      "[Parallel(n_jobs=1)]: Using backend SequentialBackend with 1 concurrent workers.\n",
      "[Parallel(n_jobs=1)]: Done 120 out of 120 | elapsed:   11.6s finished\n"
     ]
    },
    {
     "name": "stdout",
     "output_type": "stream",
     "text": [
      "best score: 0.6121212121212121\n",
      "Fitting 10 folds for each of 12 candidates, totalling 120 fits\n"
     ]
    },
    {
     "name": "stderr",
     "output_type": "stream",
     "text": [
      "[Parallel(n_jobs=1)]: Using backend SequentialBackend with 1 concurrent workers.\n",
      "[Parallel(n_jobs=1)]: Done 120 out of 120 | elapsed:    8.9s finished\n"
     ]
    },
    {
     "name": "stdout",
     "output_type": "stream",
     "text": [
      "best score: 0.6121212121212121\n",
      "Fitting 10 folds for each of 12 candidates, totalling 120 fits\n"
     ]
    },
    {
     "name": "stderr",
     "output_type": "stream",
     "text": [
      "[Parallel(n_jobs=1)]: Using backend SequentialBackend with 1 concurrent workers.\n",
      "[Parallel(n_jobs=1)]: Done 120 out of 120 | elapsed:   19.9s finished\n"
     ]
    },
    {
     "name": "stdout",
     "output_type": "stream",
     "text": [
      "best score: 0.6121212121212121\n",
      "Split: 1\n",
      "Split: 2\n",
      "Split: 3\n",
      "Split: 4\n",
      "Split: 5\n",
      "Split: 6\n",
      "Split: 7\n",
      "Split: 8\n",
      "Split: 9\n",
      "Split: 10\n",
      "Training Testing Accuracy for n_games=2 team=1 : 54.42% (3.32%)\n",
      "(182, 386)\n",
      "(182, 1)\n",
      "X_train shape: (163, 685)\n",
      "X_test shape: (19, 685)\n",
      "Fitting 10 folds for each of 12 candidates, totalling 120 fits\n"
     ]
    },
    {
     "name": "stderr",
     "output_type": "stream",
     "text": [
      "[Parallel(n_jobs=1)]: Using backend SequentialBackend with 1 concurrent workers.\n",
      "[Parallel(n_jobs=1)]: Done 120 out of 120 | elapsed:   13.7s finished\n"
     ]
    },
    {
     "name": "stdout",
     "output_type": "stream",
     "text": [
      "best score: 0.6134969325153374\n",
      "Fitting 10 folds for each of 12 candidates, totalling 120 fits\n"
     ]
    },
    {
     "name": "stderr",
     "output_type": "stream",
     "text": [
      "[Parallel(n_jobs=1)]: Using backend SequentialBackend with 1 concurrent workers.\n",
      "[Parallel(n_jobs=1)]: Done 120 out of 120 | elapsed:    9.9s finished\n"
     ]
    },
    {
     "name": "stdout",
     "output_type": "stream",
     "text": [
      "best score: 0.6134969325153374\n",
      "Fitting 10 folds for each of 12 candidates, totalling 120 fits\n"
     ]
    },
    {
     "name": "stderr",
     "output_type": "stream",
     "text": [
      "[Parallel(n_jobs=1)]: Using backend SequentialBackend with 1 concurrent workers.\n",
      "[Parallel(n_jobs=1)]: Done 120 out of 120 | elapsed:    9.1s finished\n"
     ]
    },
    {
     "name": "stdout",
     "output_type": "stream",
     "text": [
      "best score: 0.6134969325153374\n",
      "Fitting 10 folds for each of 12 candidates, totalling 120 fits\n"
     ]
    },
    {
     "name": "stderr",
     "output_type": "stream",
     "text": [
      "[Parallel(n_jobs=1)]: Using backend SequentialBackend with 1 concurrent workers.\n",
      "[Parallel(n_jobs=1)]: Done 120 out of 120 | elapsed:    9.8s finished\n"
     ]
    },
    {
     "name": "stdout",
     "output_type": "stream",
     "text": [
      "best score: 0.6257668711656442\n",
      "Fitting 10 folds for each of 12 candidates, totalling 120 fits\n"
     ]
    },
    {
     "name": "stderr",
     "output_type": "stream",
     "text": [
      "[Parallel(n_jobs=1)]: Using backend SequentialBackend with 1 concurrent workers.\n",
      "[Parallel(n_jobs=1)]: Done 120 out of 120 | elapsed:   16.9s finished\n"
     ]
    },
    {
     "name": "stdout",
     "output_type": "stream",
     "text": [
      "best score: 0.6625766871165644\n",
      "Split: 1\n",
      "Split: 2\n",
      "Split: 3\n",
      "Split: 4\n",
      "Split: 5\n",
      "Split: 6\n",
      "Split: 7\n",
      "Split: 8\n",
      "Split: 9\n",
      "Split: 10\n",
      "Training Testing Accuracy for n_games=2 team=2 : 67.54% (5.40%)\n",
      "(180, 386)\n",
      "(180, 1)\n",
      "X_train shape: (162, 683)\n",
      "X_test shape: (18, 683)\n",
      "Fitting 10 folds for each of 12 candidates, totalling 120 fits\n"
     ]
    },
    {
     "name": "stderr",
     "output_type": "stream",
     "text": [
      "[Parallel(n_jobs=1)]: Using backend SequentialBackend with 1 concurrent workers.\n",
      "[Parallel(n_jobs=1)]: Done 120 out of 120 | elapsed:   11.5s finished\n"
     ]
    },
    {
     "name": "stdout",
     "output_type": "stream",
     "text": [
      "best score: 0.6851851851851852\n",
      "Fitting 10 folds for each of 12 candidates, totalling 120 fits\n"
     ]
    },
    {
     "name": "stderr",
     "output_type": "stream",
     "text": [
      "[Parallel(n_jobs=1)]: Using backend SequentialBackend with 1 concurrent workers.\n",
      "[Parallel(n_jobs=1)]: Done 120 out of 120 | elapsed:   11.0s finished\n"
     ]
    },
    {
     "name": "stdout",
     "output_type": "stream",
     "text": [
      "best score: 0.6851851851851852\n",
      "Fitting 10 folds for each of 12 candidates, totalling 120 fits\n"
     ]
    },
    {
     "name": "stderr",
     "output_type": "stream",
     "text": [
      "[Parallel(n_jobs=1)]: Using backend SequentialBackend with 1 concurrent workers.\n",
      "[Parallel(n_jobs=1)]: Done 120 out of 120 | elapsed:    8.1s finished\n"
     ]
    },
    {
     "name": "stdout",
     "output_type": "stream",
     "text": [
      "best score: 0.6851851851851852\n",
      "Fitting 10 folds for each of 12 candidates, totalling 120 fits\n"
     ]
    },
    {
     "name": "stderr",
     "output_type": "stream",
     "text": [
      "[Parallel(n_jobs=1)]: Using backend SequentialBackend with 1 concurrent workers.\n",
      "[Parallel(n_jobs=1)]: Done 120 out of 120 | elapsed:   10.0s finished\n"
     ]
    },
    {
     "name": "stdout",
     "output_type": "stream",
     "text": [
      "best score: 0.6851851851851852\n",
      "Fitting 10 folds for each of 12 candidates, totalling 120 fits\n"
     ]
    },
    {
     "name": "stderr",
     "output_type": "stream",
     "text": [
      "[Parallel(n_jobs=1)]: Using backend SequentialBackend with 1 concurrent workers.\n",
      "[Parallel(n_jobs=1)]: Done 120 out of 120 | elapsed:    9.4s finished\n"
     ]
    },
    {
     "name": "stdout",
     "output_type": "stream",
     "text": [
      "best score: 0.6851851851851852\n",
      "Split: 1\n",
      "Split: 2\n",
      "Split: 3\n",
      "Split: 4\n",
      "Split: 5\n",
      "Split: 6\n",
      "Split: 7\n",
      "Split: 8\n",
      "Split: 9\n",
      "Split: 10\n",
      "Training Testing Accuracy for n_games=2 team=3 : 68.33% (2.55%)\n",
      "(185, 386)\n",
      "(185, 1)\n",
      "X_train shape: (166, 687)\n",
      "X_test shape: (19, 687)\n",
      "Fitting 10 folds for each of 12 candidates, totalling 120 fits\n"
     ]
    },
    {
     "name": "stderr",
     "output_type": "stream",
     "text": [
      "[Parallel(n_jobs=1)]: Using backend SequentialBackend with 1 concurrent workers.\n",
      "[Parallel(n_jobs=1)]: Done 120 out of 120 | elapsed:   12.1s finished\n"
     ]
    },
    {
     "name": "stdout",
     "output_type": "stream",
     "text": [
      "best score: 0.6024096385542169\n",
      "Fitting 10 folds for each of 12 candidates, totalling 120 fits\n"
     ]
    },
    {
     "name": "stderr",
     "output_type": "stream",
     "text": [
      "[Parallel(n_jobs=1)]: Using backend SequentialBackend with 1 concurrent workers.\n",
      "[Parallel(n_jobs=1)]: Done 120 out of 120 | elapsed:   17.3s finished\n"
     ]
    },
    {
     "name": "stdout",
     "output_type": "stream",
     "text": [
      "best score: 0.6024096385542169\n",
      "Fitting 10 folds for each of 12 candidates, totalling 120 fits\n"
     ]
    },
    {
     "name": "stderr",
     "output_type": "stream",
     "text": [
      "[Parallel(n_jobs=1)]: Using backend SequentialBackend with 1 concurrent workers.\n",
      "[Parallel(n_jobs=1)]: Done 120 out of 120 | elapsed:   12.2s finished\n"
     ]
    },
    {
     "name": "stdout",
     "output_type": "stream",
     "text": [
      "best score: 0.6024096385542169\n",
      "Fitting 10 folds for each of 12 candidates, totalling 120 fits\n"
     ]
    },
    {
     "name": "stderr",
     "output_type": "stream",
     "text": [
      "[Parallel(n_jobs=1)]: Using backend SequentialBackend with 1 concurrent workers.\n",
      "[Parallel(n_jobs=1)]: Done 120 out of 120 | elapsed:   11.3s finished\n"
     ]
    },
    {
     "name": "stdout",
     "output_type": "stream",
     "text": [
      "best score: 0.6024096385542169\n",
      "Fitting 10 folds for each of 12 candidates, totalling 120 fits\n"
     ]
    },
    {
     "name": "stderr",
     "output_type": "stream",
     "text": [
      "[Parallel(n_jobs=1)]: Using backend SequentialBackend with 1 concurrent workers.\n",
      "[Parallel(n_jobs=1)]: Done 120 out of 120 | elapsed:   15.1s finished\n"
     ]
    },
    {
     "name": "stdout",
     "output_type": "stream",
     "text": [
      "best score: 0.6024096385542169\n",
      "Split: 1\n",
      "Split: 2\n",
      "Split: 3\n",
      "Split: 4\n",
      "Split: 5\n",
      "Split: 6\n",
      "Split: 7\n",
      "Split: 8\n",
      "Split: 9\n",
      "Split: 10\n",
      "Training Testing Accuracy for n_games=2 team=4 : 56.73% (7.86%)\n",
      "(182, 386)\n",
      "(182, 1)\n",
      "X_train shape: (163, 683)\n",
      "X_test shape: (19, 683)\n",
      "Fitting 10 folds for each of 12 candidates, totalling 120 fits\n"
     ]
    },
    {
     "name": "stderr",
     "output_type": "stream",
     "text": [
      "[Parallel(n_jobs=1)]: Using backend SequentialBackend with 1 concurrent workers.\n",
      "[Parallel(n_jobs=1)]: Done 120 out of 120 | elapsed:   11.9s finished\n"
     ]
    },
    {
     "name": "stdout",
     "output_type": "stream",
     "text": [
      "best score: 0.5521472392638037\n",
      "Fitting 10 folds for each of 12 candidates, totalling 120 fits\n"
     ]
    },
    {
     "name": "stderr",
     "output_type": "stream",
     "text": [
      "[Parallel(n_jobs=1)]: Using backend SequentialBackend with 1 concurrent workers.\n",
      "[Parallel(n_jobs=1)]: Done 120 out of 120 | elapsed:   10.6s finished\n"
     ]
    },
    {
     "name": "stdout",
     "output_type": "stream",
     "text": [
      "best score: 0.5521472392638037\n",
      "Fitting 10 folds for each of 12 candidates, totalling 120 fits\n"
     ]
    },
    {
     "name": "stderr",
     "output_type": "stream",
     "text": [
      "[Parallel(n_jobs=1)]: Using backend SequentialBackend with 1 concurrent workers.\n",
      "[Parallel(n_jobs=1)]: Done 120 out of 120 | elapsed:   25.9s finished\n"
     ]
    },
    {
     "name": "stdout",
     "output_type": "stream",
     "text": [
      "best score: 0.5521472392638037\n",
      "Fitting 10 folds for each of 12 candidates, totalling 120 fits\n"
     ]
    },
    {
     "name": "stderr",
     "output_type": "stream",
     "text": [
      "[Parallel(n_jobs=1)]: Using backend SequentialBackend with 1 concurrent workers.\n",
      "[Parallel(n_jobs=1)]: Done 120 out of 120 | elapsed:    8.0s finished\n"
     ]
    },
    {
     "name": "stdout",
     "output_type": "stream",
     "text": [
      "best score: 0.5521472392638037\n",
      "Fitting 10 folds for each of 12 candidates, totalling 120 fits\n"
     ]
    },
    {
     "name": "stderr",
     "output_type": "stream",
     "text": [
      "[Parallel(n_jobs=1)]: Using backend SequentialBackend with 1 concurrent workers.\n",
      "[Parallel(n_jobs=1)]: Done 120 out of 120 | elapsed:    7.6s finished\n"
     ]
    },
    {
     "name": "stdout",
     "output_type": "stream",
     "text": [
      "best score: 0.5521472392638037\n",
      "Split: 1\n",
      "Split: 2\n",
      "Split: 3\n",
      "Split: 4\n",
      "Split: 5\n",
      "Split: 6\n",
      "Split: 7\n",
      "Split: 8\n",
      "Split: 9\n",
      "Split: 10\n",
      "Training Testing Accuracy for n_games=2 team=5 : 55.50% (1.18%)\n",
      "(185, 386)\n",
      "(185, 1)\n",
      "X_train shape: (166, 693)\n",
      "X_test shape: (19, 693)\n",
      "Fitting 10 folds for each of 12 candidates, totalling 120 fits\n"
     ]
    },
    {
     "name": "stderr",
     "output_type": "stream",
     "text": [
      "[Parallel(n_jobs=1)]: Using backend SequentialBackend with 1 concurrent workers.\n",
      "[Parallel(n_jobs=1)]: Done 120 out of 120 | elapsed:   12.3s finished\n"
     ]
    },
    {
     "name": "stdout",
     "output_type": "stream",
     "text": [
      "best score: 0.6445783132530121\n",
      "Fitting 10 folds for each of 12 candidates, totalling 120 fits\n"
     ]
    },
    {
     "name": "stderr",
     "output_type": "stream",
     "text": [
      "[Parallel(n_jobs=1)]: Using backend SequentialBackend with 1 concurrent workers.\n",
      "[Parallel(n_jobs=1)]: Done 120 out of 120 | elapsed:    9.3s finished\n"
     ]
    },
    {
     "name": "stdout",
     "output_type": "stream",
     "text": [
      "best score: 0.6445783132530121\n",
      "Fitting 10 folds for each of 12 candidates, totalling 120 fits\n"
     ]
    },
    {
     "name": "stderr",
     "output_type": "stream",
     "text": [
      "[Parallel(n_jobs=1)]: Using backend SequentialBackend with 1 concurrent workers.\n",
      "[Parallel(n_jobs=1)]: Done 120 out of 120 | elapsed:    9.8s finished\n"
     ]
    },
    {
     "name": "stdout",
     "output_type": "stream",
     "text": [
      "best score: 0.6445783132530121\n",
      "Fitting 10 folds for each of 12 candidates, totalling 120 fits\n"
     ]
    },
    {
     "name": "stderr",
     "output_type": "stream",
     "text": [
      "[Parallel(n_jobs=1)]: Using backend SequentialBackend with 1 concurrent workers.\n",
      "[Parallel(n_jobs=1)]: Done 120 out of 120 | elapsed:   13.0s finished\n"
     ]
    },
    {
     "name": "stdout",
     "output_type": "stream",
     "text": [
      "best score: 0.6566265060240963\n",
      "Fitting 10 folds for each of 12 candidates, totalling 120 fits\n"
     ]
    },
    {
     "name": "stderr",
     "output_type": "stream",
     "text": [
      "[Parallel(n_jobs=1)]: Using backend SequentialBackend with 1 concurrent workers.\n",
      "[Parallel(n_jobs=1)]: Done 120 out of 120 | elapsed:   15.5s finished\n"
     ]
    },
    {
     "name": "stdout",
     "output_type": "stream",
     "text": [
      "best score: 0.6566265060240963\n",
      "Split: 1\n",
      "Split: 2\n",
      "Split: 3\n",
      "Split: 4\n",
      "Split: 5\n",
      "Split: 6\n",
      "Split: 7\n",
      "Split: 8\n",
      "Split: 9\n",
      "Split: 10\n",
      "Training Testing Accuracy for n_games=2 team=6 : 64.33% (11.34%)\n",
      "(194, 386)\n",
      "(194, 1)\n",
      "X_train shape: (174, 688)\n",
      "X_test shape: (20, 688)\n",
      "Fitting 10 folds for each of 12 candidates, totalling 120 fits\n"
     ]
    },
    {
     "name": "stderr",
     "output_type": "stream",
     "text": [
      "[Parallel(n_jobs=1)]: Using backend SequentialBackend with 1 concurrent workers.\n",
      "[Parallel(n_jobs=1)]: Done 120 out of 120 | elapsed:   12.2s finished\n"
     ]
    },
    {
     "name": "stdout",
     "output_type": "stream",
     "text": [
      "best score: 0.6724137931034483\n",
      "Fitting 10 folds for each of 12 candidates, totalling 120 fits\n"
     ]
    },
    {
     "name": "stderr",
     "output_type": "stream",
     "text": [
      "[Parallel(n_jobs=1)]: Using backend SequentialBackend with 1 concurrent workers.\n",
      "[Parallel(n_jobs=1)]: Done 120 out of 120 | elapsed:    7.9s finished\n"
     ]
    },
    {
     "name": "stdout",
     "output_type": "stream",
     "text": [
      "best score: 0.6724137931034483\n",
      "Fitting 10 folds for each of 12 candidates, totalling 120 fits\n"
     ]
    },
    {
     "name": "stderr",
     "output_type": "stream",
     "text": [
      "[Parallel(n_jobs=1)]: Using backend SequentialBackend with 1 concurrent workers.\n",
      "[Parallel(n_jobs=1)]: Done 120 out of 120 | elapsed:    8.5s finished\n"
     ]
    },
    {
     "name": "stdout",
     "output_type": "stream",
     "text": [
      "best score: 0.6724137931034483\n",
      "Fitting 10 folds for each of 12 candidates, totalling 120 fits\n"
     ]
    },
    {
     "name": "stderr",
     "output_type": "stream",
     "text": [
      "[Parallel(n_jobs=1)]: Using backend SequentialBackend with 1 concurrent workers.\n",
      "[Parallel(n_jobs=1)]: Done 120 out of 120 | elapsed:    9.8s finished\n"
     ]
    },
    {
     "name": "stdout",
     "output_type": "stream",
     "text": [
      "best score: 0.6724137931034483\n",
      "Fitting 10 folds for each of 12 candidates, totalling 120 fits\n"
     ]
    },
    {
     "name": "stderr",
     "output_type": "stream",
     "text": [
      "[Parallel(n_jobs=1)]: Using backend SequentialBackend with 1 concurrent workers.\n",
      "[Parallel(n_jobs=1)]: Done 120 out of 120 | elapsed:    8.3s finished\n"
     ]
    },
    {
     "name": "stdout",
     "output_type": "stream",
     "text": [
      "best score: 0.6724137931034483\n",
      "Split: 1\n",
      "Split: 2\n",
      "Split: 3\n",
      "Split: 4\n",
      "Split: 5\n",
      "Split: 6\n",
      "Split: 7\n",
      "Split: 8\n",
      "Split: 9\n",
      "Split: 10\n",
      "Training Testing Accuracy for n_games=2 team=7 : 66.53% (1.97%)\n",
      "(178, 386)\n",
      "(178, 1)\n",
      "X_train shape: (160, 685)\n",
      "X_test shape: (18, 685)\n",
      "Fitting 10 folds for each of 12 candidates, totalling 120 fits\n"
     ]
    },
    {
     "name": "stderr",
     "output_type": "stream",
     "text": [
      "[Parallel(n_jobs=1)]: Using backend SequentialBackend with 1 concurrent workers.\n",
      "[Parallel(n_jobs=1)]: Done 120 out of 120 | elapsed:   11.4s finished\n"
     ]
    },
    {
     "name": "stdout",
     "output_type": "stream",
     "text": [
      "best score: 0.74375\n",
      "Fitting 10 folds for each of 12 candidates, totalling 120 fits\n"
     ]
    },
    {
     "name": "stderr",
     "output_type": "stream",
     "text": [
      "[Parallel(n_jobs=1)]: Using backend SequentialBackend with 1 concurrent workers.\n",
      "[Parallel(n_jobs=1)]: Done 120 out of 120 | elapsed:   21.0s finished\n"
     ]
    },
    {
     "name": "stdout",
     "output_type": "stream",
     "text": [
      "best score: 0.74375\n",
      "Fitting 10 folds for each of 12 candidates, totalling 120 fits\n"
     ]
    },
    {
     "name": "stderr",
     "output_type": "stream",
     "text": [
      "[Parallel(n_jobs=1)]: Using backend SequentialBackend with 1 concurrent workers.\n",
      "[Parallel(n_jobs=1)]: Done 120 out of 120 | elapsed:    9.5s finished\n"
     ]
    },
    {
     "name": "stdout",
     "output_type": "stream",
     "text": [
      "best score: 0.74375\n",
      "Fitting 10 folds for each of 12 candidates, totalling 120 fits\n"
     ]
    },
    {
     "name": "stderr",
     "output_type": "stream",
     "text": [
      "[Parallel(n_jobs=1)]: Using backend SequentialBackend with 1 concurrent workers.\n",
      "[Parallel(n_jobs=1)]: Done 120 out of 120 | elapsed:   10.1s finished\n"
     ]
    },
    {
     "name": "stdout",
     "output_type": "stream",
     "text": [
      "best score: 0.74375\n",
      "Fitting 10 folds for each of 12 candidates, totalling 120 fits\n"
     ]
    },
    {
     "name": "stderr",
     "output_type": "stream",
     "text": [
      "[Parallel(n_jobs=1)]: Using backend SequentialBackend with 1 concurrent workers.\n",
      "[Parallel(n_jobs=1)]: Done 120 out of 120 | elapsed:    7.3s finished\n"
     ]
    },
    {
     "name": "stdout",
     "output_type": "stream",
     "text": [
      "best score: 0.74375\n",
      "Split: 1\n",
      "Split: 2\n",
      "Split: 3\n",
      "Split: 4\n",
      "Split: 5\n",
      "Split: 6\n",
      "Split: 7\n",
      "Split: 8\n",
      "Split: 9\n",
      "Split: 10\n",
      "Training Testing Accuracy for n_games=2 team=8 : 71.86% (2.98%)\n",
      "(191, 386)\n",
      "(191, 1)\n",
      "X_train shape: (171, 698)\n",
      "X_test shape: (20, 698)\n",
      "Fitting 10 folds for each of 12 candidates, totalling 120 fits\n"
     ]
    },
    {
     "name": "stderr",
     "output_type": "stream",
     "text": [
      "[Parallel(n_jobs=1)]: Using backend SequentialBackend with 1 concurrent workers.\n",
      "[Parallel(n_jobs=1)]: Done 120 out of 120 | elapsed:   12.0s finished\n"
     ]
    },
    {
     "name": "stdout",
     "output_type": "stream",
     "text": [
      "best score: 0.5906432748538012\n",
      "Fitting 10 folds for each of 12 candidates, totalling 120 fits\n"
     ]
    },
    {
     "name": "stderr",
     "output_type": "stream",
     "text": [
      "[Parallel(n_jobs=1)]: Using backend SequentialBackend with 1 concurrent workers.\n",
      "[Parallel(n_jobs=1)]: Done 120 out of 120 | elapsed:   10.6s finished\n"
     ]
    },
    {
     "name": "stdout",
     "output_type": "stream",
     "text": [
      "best score: 0.5906432748538012\n",
      "Fitting 10 folds for each of 12 candidates, totalling 120 fits\n"
     ]
    },
    {
     "name": "stderr",
     "output_type": "stream",
     "text": [
      "[Parallel(n_jobs=1)]: Using backend SequentialBackend with 1 concurrent workers.\n",
      "[Parallel(n_jobs=1)]: Done 120 out of 120 | elapsed:   15.1s finished\n"
     ]
    },
    {
     "name": "stdout",
     "output_type": "stream",
     "text": [
      "best score: 0.631578947368421\n",
      "Fitting 10 folds for each of 12 candidates, totalling 120 fits\n"
     ]
    },
    {
     "name": "stderr",
     "output_type": "stream",
     "text": [
      "[Parallel(n_jobs=1)]: Using backend SequentialBackend with 1 concurrent workers.\n",
      "[Parallel(n_jobs=1)]: Done 120 out of 120 | elapsed:   21.1s finished\n"
     ]
    },
    {
     "name": "stdout",
     "output_type": "stream",
     "text": [
      "best score: 0.6374269005847953\n",
      "Fitting 10 folds for each of 12 candidates, totalling 120 fits\n"
     ]
    },
    {
     "name": "stderr",
     "output_type": "stream",
     "text": [
      "[Parallel(n_jobs=1)]: Using backend SequentialBackend with 1 concurrent workers.\n",
      "[Parallel(n_jobs=1)]: Done 120 out of 120 | elapsed:   18.3s finished\n"
     ]
    },
    {
     "name": "stdout",
     "output_type": "stream",
     "text": [
      "best score: 0.6374269005847953\n",
      "Split: 1\n",
      "Split: 2\n",
      "Split: 3\n",
      "Split: 4\n",
      "Split: 5\n",
      "Split: 6\n",
      "Split: 7\n",
      "Split: 8\n",
      "Split: 9\n",
      "Split: 10\n",
      "Training Testing Accuracy for n_games=2 team=9 : 59.24% (8.86%)\n",
      "(192, 386)\n",
      "(192, 1)\n",
      "X_train shape: (172, 689)\n",
      "X_test shape: (20, 689)\n",
      "Fitting 10 folds for each of 12 candidates, totalling 120 fits\n"
     ]
    },
    {
     "name": "stderr",
     "output_type": "stream",
     "text": [
      "[Parallel(n_jobs=1)]: Using backend SequentialBackend with 1 concurrent workers.\n",
      "[Parallel(n_jobs=1)]: Done 120 out of 120 | elapsed:   11.8s finished\n"
     ]
    },
    {
     "name": "stdout",
     "output_type": "stream",
     "text": [
      "best score: 0.6918604651162791\n",
      "Fitting 10 folds for each of 12 candidates, totalling 120 fits\n"
     ]
    },
    {
     "name": "stderr",
     "output_type": "stream",
     "text": [
      "[Parallel(n_jobs=1)]: Using backend SequentialBackend with 1 concurrent workers.\n",
      "[Parallel(n_jobs=1)]: Done 120 out of 120 | elapsed:   30.4s finished\n"
     ]
    },
    {
     "name": "stdout",
     "output_type": "stream",
     "text": [
      "best score: 0.6918604651162791\n",
      "Fitting 10 folds for each of 12 candidates, totalling 120 fits\n"
     ]
    },
    {
     "name": "stderr",
     "output_type": "stream",
     "text": [
      "[Parallel(n_jobs=1)]: Using backend SequentialBackend with 1 concurrent workers.\n",
      "[Parallel(n_jobs=1)]: Done 120 out of 120 | elapsed:   10.2s finished\n"
     ]
    },
    {
     "name": "stdout",
     "output_type": "stream",
     "text": [
      "best score: 0.6918604651162791\n",
      "Fitting 10 folds for each of 12 candidates, totalling 120 fits\n"
     ]
    },
    {
     "name": "stderr",
     "output_type": "stream",
     "text": [
      "[Parallel(n_jobs=1)]: Using backend SequentialBackend with 1 concurrent workers.\n",
      "[Parallel(n_jobs=1)]: Done 120 out of 120 | elapsed:   11.0s finished\n"
     ]
    },
    {
     "name": "stdout",
     "output_type": "stream",
     "text": [
      "best score: 0.6918604651162791\n",
      "Fitting 10 folds for each of 12 candidates, totalling 120 fits\n"
     ]
    },
    {
     "name": "stderr",
     "output_type": "stream",
     "text": [
      "[Parallel(n_jobs=1)]: Using backend SequentialBackend with 1 concurrent workers.\n",
      "[Parallel(n_jobs=1)]: Done 120 out of 120 | elapsed:   12.8s finished\n"
     ]
    },
    {
     "name": "stdout",
     "output_type": "stream",
     "text": [
      "best score: 0.7267441860465116\n",
      "Split: 1\n",
      "Split: 2\n",
      "Split: 3\n",
      "Split: 4\n",
      "Split: 5\n",
      "Split: 6\n",
      "Split: 7\n",
      "Split: 8\n",
      "Split: 9\n",
      "Split: 10\n",
      "Training Testing Accuracy for n_games=2 team=10 : 66.63% (10.29%)\n",
      "(184, 386)\n",
      "(184, 1)\n",
      "X_train shape: (165, 691)\n",
      "X_test shape: (19, 691)\n",
      "Fitting 10 folds for each of 12 candidates, totalling 120 fits\n"
     ]
    },
    {
     "name": "stderr",
     "output_type": "stream",
     "text": [
      "[Parallel(n_jobs=1)]: Using backend SequentialBackend with 1 concurrent workers.\n",
      "[Parallel(n_jobs=1)]: Done 120 out of 120 | elapsed:   12.1s finished\n"
     ]
    },
    {
     "name": "stdout",
     "output_type": "stream",
     "text": [
      "best score: 0.5636363636363636\n",
      "Fitting 10 folds for each of 12 candidates, totalling 120 fits\n"
     ]
    },
    {
     "name": "stderr",
     "output_type": "stream",
     "text": [
      "[Parallel(n_jobs=1)]: Using backend SequentialBackend with 1 concurrent workers.\n",
      "[Parallel(n_jobs=1)]: Done 120 out of 120 | elapsed:   11.3s finished\n"
     ]
    },
    {
     "name": "stdout",
     "output_type": "stream",
     "text": [
      "best score: 0.5636363636363636\n",
      "Fitting 10 folds for each of 12 candidates, totalling 120 fits\n"
     ]
    },
    {
     "name": "stderr",
     "output_type": "stream",
     "text": [
      "[Parallel(n_jobs=1)]: Using backend SequentialBackend with 1 concurrent workers.\n",
      "[Parallel(n_jobs=1)]: Done 120 out of 120 | elapsed:    9.5s finished\n"
     ]
    },
    {
     "name": "stdout",
     "output_type": "stream",
     "text": [
      "best score: 0.5636363636363636\n",
      "Fitting 10 folds for each of 12 candidates, totalling 120 fits\n"
     ]
    },
    {
     "name": "stderr",
     "output_type": "stream",
     "text": [
      "[Parallel(n_jobs=1)]: Using backend SequentialBackend with 1 concurrent workers.\n",
      "[Parallel(n_jobs=1)]: Done 120 out of 120 | elapsed:    9.6s finished\n"
     ]
    },
    {
     "name": "stdout",
     "output_type": "stream",
     "text": [
      "best score: 0.5636363636363636\n",
      "Fitting 10 folds for each of 12 candidates, totalling 120 fits\n"
     ]
    },
    {
     "name": "stderr",
     "output_type": "stream",
     "text": [
      "[Parallel(n_jobs=1)]: Using backend SequentialBackend with 1 concurrent workers.\n",
      "[Parallel(n_jobs=1)]: Done 120 out of 120 | elapsed:   10.2s finished\n"
     ]
    },
    {
     "name": "stdout",
     "output_type": "stream",
     "text": [
      "best score: 0.5636363636363636\n",
      "Split: 1\n",
      "Split: 2\n",
      "Split: 3\n",
      "Split: 4\n",
      "Split: 5\n",
      "Split: 6\n",
      "Split: 7\n",
      "Split: 8\n",
      "Split: 9\n",
      "Split: 10\n",
      "Training Testing Accuracy for n_games=2 team=11 : 55.96% (1.53%)\n",
      "(185, 386)\n",
      "(185, 1)\n",
      "X_train shape: (166, 686)\n",
      "X_test shape: (19, 686)\n",
      "Fitting 10 folds for each of 12 candidates, totalling 120 fits\n"
     ]
    },
    {
     "name": "stderr",
     "output_type": "stream",
     "text": [
      "[Parallel(n_jobs=1)]: Using backend SequentialBackend with 1 concurrent workers.\n",
      "[Parallel(n_jobs=1)]: Done 120 out of 120 | elapsed:   12.2s finished\n"
     ]
    },
    {
     "name": "stdout",
     "output_type": "stream",
     "text": [
      "best score: 0.5602409638554217\n",
      "Fitting 10 folds for each of 12 candidates, totalling 120 fits\n"
     ]
    },
    {
     "name": "stderr",
     "output_type": "stream",
     "text": [
      "[Parallel(n_jobs=1)]: Using backend SequentialBackend with 1 concurrent workers.\n",
      "[Parallel(n_jobs=1)]: Done 120 out of 120 | elapsed:    8.9s finished\n"
     ]
    },
    {
     "name": "stdout",
     "output_type": "stream",
     "text": [
      "best score: 0.5602409638554217\n",
      "Fitting 10 folds for each of 12 candidates, totalling 120 fits\n"
     ]
    },
    {
     "name": "stderr",
     "output_type": "stream",
     "text": [
      "[Parallel(n_jobs=1)]: Using backend SequentialBackend with 1 concurrent workers.\n",
      "[Parallel(n_jobs=1)]: Done 120 out of 120 | elapsed:    9.4s finished\n"
     ]
    },
    {
     "name": "stdout",
     "output_type": "stream",
     "text": [
      "best score: 0.5602409638554217\n",
      "Fitting 10 folds for each of 12 candidates, totalling 120 fits\n"
     ]
    },
    {
     "name": "stderr",
     "output_type": "stream",
     "text": [
      "[Parallel(n_jobs=1)]: Using backend SequentialBackend with 1 concurrent workers.\n",
      "[Parallel(n_jobs=1)]: Done 120 out of 120 | elapsed:    9.1s finished\n"
     ]
    },
    {
     "name": "stdout",
     "output_type": "stream",
     "text": [
      "best score: 0.5662650602409639\n",
      "Fitting 10 folds for each of 12 candidates, totalling 120 fits\n"
     ]
    },
    {
     "name": "stderr",
     "output_type": "stream",
     "text": [
      "[Parallel(n_jobs=1)]: Using backend SequentialBackend with 1 concurrent workers.\n",
      "[Parallel(n_jobs=1)]: Done 120 out of 120 | elapsed:    8.5s finished\n"
     ]
    },
    {
     "name": "stdout",
     "output_type": "stream",
     "text": [
      "best score: 0.572289156626506\n",
      "Split: 1\n",
      "Split: 2\n",
      "Split: 3\n",
      "Split: 4\n",
      "Split: 5\n",
      "Split: 6\n",
      "Split: 7\n",
      "Split: 8\n",
      "Split: 9\n",
      "Split: 10\n",
      "Training Testing Accuracy for n_games=2 team=12 : 51.96% (16.20%)\n",
      "(186, 386)\n",
      "(186, 1)\n",
      "X_train shape: (167, 695)\n",
      "X_test shape: (19, 695)\n",
      "Fitting 10 folds for each of 12 candidates, totalling 120 fits\n"
     ]
    },
    {
     "name": "stderr",
     "output_type": "stream",
     "text": [
      "[Parallel(n_jobs=1)]: Using backend SequentialBackend with 1 concurrent workers.\n",
      "[Parallel(n_jobs=1)]: Done 120 out of 120 | elapsed:   12.1s finished\n"
     ]
    },
    {
     "name": "stdout",
     "output_type": "stream",
     "text": [
      "best score: 0.5988023952095808\n",
      "Fitting 10 folds for each of 12 candidates, totalling 120 fits\n"
     ]
    },
    {
     "name": "stderr",
     "output_type": "stream",
     "text": [
      "[Parallel(n_jobs=1)]: Using backend SequentialBackend with 1 concurrent workers.\n",
      "[Parallel(n_jobs=1)]: Done 120 out of 120 | elapsed:   16.7s finished\n"
     ]
    },
    {
     "name": "stdout",
     "output_type": "stream",
     "text": [
      "best score: 0.6167664670658682\n",
      "Fitting 10 folds for each of 12 candidates, totalling 120 fits\n"
     ]
    },
    {
     "name": "stderr",
     "output_type": "stream",
     "text": [
      "[Parallel(n_jobs=1)]: Using backend SequentialBackend with 1 concurrent workers.\n",
      "[Parallel(n_jobs=1)]: Done 120 out of 120 | elapsed:   12.5s finished\n"
     ]
    },
    {
     "name": "stdout",
     "output_type": "stream",
     "text": [
      "best score: 0.6167664670658682\n",
      "Fitting 10 folds for each of 12 candidates, totalling 120 fits\n"
     ]
    },
    {
     "name": "stderr",
     "output_type": "stream",
     "text": [
      "[Parallel(n_jobs=1)]: Using backend SequentialBackend with 1 concurrent workers.\n",
      "[Parallel(n_jobs=1)]: Done 120 out of 120 | elapsed:   12.3s finished\n"
     ]
    },
    {
     "name": "stdout",
     "output_type": "stream",
     "text": [
      "best score: 0.6167664670658682\n",
      "Fitting 10 folds for each of 12 candidates, totalling 120 fits\n"
     ]
    },
    {
     "name": "stderr",
     "output_type": "stream",
     "text": [
      "[Parallel(n_jobs=1)]: Using backend SequentialBackend with 1 concurrent workers.\n",
      "[Parallel(n_jobs=1)]: Done 120 out of 120 | elapsed:   13.3s finished\n"
     ]
    },
    {
     "name": "stdout",
     "output_type": "stream",
     "text": [
      "best score: 0.6227544910179641\n",
      "Split: 1\n",
      "Split: 2\n",
      "Split: 3\n",
      "Split: 4\n",
      "Split: 5\n",
      "Split: 6\n",
      "Split: 7\n",
      "Split: 8\n",
      "Split: 9\n",
      "Split: 10\n",
      "Training Testing Accuracy for n_games=2 team=13 : 59.15% (7.52%)\n",
      "(189, 386)\n",
      "(189, 1)\n",
      "X_train shape: (170, 689)\n",
      "X_test shape: (19, 689)\n",
      "Fitting 10 folds for each of 12 candidates, totalling 120 fits\n"
     ]
    },
    {
     "name": "stderr",
     "output_type": "stream",
     "text": [
      "[Parallel(n_jobs=1)]: Using backend SequentialBackend with 1 concurrent workers.\n",
      "[Parallel(n_jobs=1)]: Done 120 out of 120 | elapsed:   12.4s finished\n"
     ]
    },
    {
     "name": "stdout",
     "output_type": "stream",
     "text": [
      "best score: 0.6235294117647059\n",
      "Fitting 10 folds for each of 12 candidates, totalling 120 fits\n"
     ]
    },
    {
     "name": "stderr",
     "output_type": "stream",
     "text": [
      "[Parallel(n_jobs=1)]: Using backend SequentialBackend with 1 concurrent workers.\n",
      "[Parallel(n_jobs=1)]: Done 120 out of 120 | elapsed:    9.2s finished\n"
     ]
    },
    {
     "name": "stdout",
     "output_type": "stream",
     "text": [
      "best score: 0.6235294117647059\n",
      "Fitting 10 folds for each of 12 candidates, totalling 120 fits\n"
     ]
    },
    {
     "name": "stderr",
     "output_type": "stream",
     "text": [
      "[Parallel(n_jobs=1)]: Using backend SequentialBackend with 1 concurrent workers.\n",
      "[Parallel(n_jobs=1)]: Done 120 out of 120 | elapsed:   27.3s finished\n"
     ]
    },
    {
     "name": "stdout",
     "output_type": "stream",
     "text": [
      "best score: 0.6470588235294118\n",
      "Fitting 10 folds for each of 12 candidates, totalling 120 fits\n"
     ]
    },
    {
     "name": "stderr",
     "output_type": "stream",
     "text": [
      "[Parallel(n_jobs=1)]: Using backend SequentialBackend with 1 concurrent workers.\n",
      "[Parallel(n_jobs=1)]: Done 120 out of 120 | elapsed:   13.6s finished\n"
     ]
    },
    {
     "name": "stdout",
     "output_type": "stream",
     "text": [
      "best score: 0.6470588235294118\n",
      "Fitting 10 folds for each of 12 candidates, totalling 120 fits\n"
     ]
    },
    {
     "name": "stderr",
     "output_type": "stream",
     "text": [
      "[Parallel(n_jobs=1)]: Using backend SequentialBackend with 1 concurrent workers.\n",
      "[Parallel(n_jobs=1)]: Done 120 out of 120 | elapsed:    7.8s finished\n"
     ]
    },
    {
     "name": "stdout",
     "output_type": "stream",
     "text": [
      "best score: 0.6470588235294118\n",
      "Split: 1\n",
      "Split: 2\n",
      "Split: 3\n",
      "Split: 4\n",
      "Split: 5\n",
      "Split: 6\n",
      "Split: 7\n",
      "Split: 8\n",
      "Split: 9\n",
      "Split: 10\n",
      "Training Testing Accuracy for n_games=2 team=14 : 65.58% (6.87%)\n",
      "(178, 386)\n",
      "(178, 1)\n",
      "X_train shape: (160, 689)\n",
      "X_test shape: (18, 689)\n",
      "Fitting 10 folds for each of 12 candidates, totalling 120 fits\n"
     ]
    },
    {
     "name": "stderr",
     "output_type": "stream",
     "text": [
      "[Parallel(n_jobs=1)]: Using backend SequentialBackend with 1 concurrent workers.\n",
      "[Parallel(n_jobs=1)]: Done 120 out of 120 | elapsed:   11.6s finished\n"
     ]
    },
    {
     "name": "stdout",
     "output_type": "stream",
     "text": [
      "best score: 0.63125\n",
      "Fitting 10 folds for each of 12 candidates, totalling 120 fits\n"
     ]
    },
    {
     "name": "stderr",
     "output_type": "stream",
     "text": [
      "[Parallel(n_jobs=1)]: Using backend SequentialBackend with 1 concurrent workers.\n",
      "[Parallel(n_jobs=1)]: Done 120 out of 120 | elapsed:   12.6s finished\n"
     ]
    },
    {
     "name": "stdout",
     "output_type": "stream",
     "text": [
      "best score: 0.63125\n",
      "Fitting 10 folds for each of 12 candidates, totalling 120 fits\n"
     ]
    },
    {
     "name": "stderr",
     "output_type": "stream",
     "text": [
      "[Parallel(n_jobs=1)]: Using backend SequentialBackend with 1 concurrent workers.\n",
      "[Parallel(n_jobs=1)]: Done 120 out of 120 | elapsed:    9.9s finished\n"
     ]
    },
    {
     "name": "stdout",
     "output_type": "stream",
     "text": [
      "best score: 0.63125\n",
      "Fitting 10 folds for each of 12 candidates, totalling 120 fits\n"
     ]
    },
    {
     "name": "stderr",
     "output_type": "stream",
     "text": [
      "[Parallel(n_jobs=1)]: Using backend SequentialBackend with 1 concurrent workers.\n",
      "[Parallel(n_jobs=1)]: Done 120 out of 120 | elapsed:   11.0s finished\n"
     ]
    },
    {
     "name": "stdout",
     "output_type": "stream",
     "text": [
      "best score: 0.6375\n",
      "Fitting 10 folds for each of 12 candidates, totalling 120 fits\n"
     ]
    },
    {
     "name": "stderr",
     "output_type": "stream",
     "text": [
      "[Parallel(n_jobs=1)]: Using backend SequentialBackend with 1 concurrent workers.\n",
      "[Parallel(n_jobs=1)]: Done 120 out of 120 | elapsed:   21.8s finished\n"
     ]
    },
    {
     "name": "stdout",
     "output_type": "stream",
     "text": [
      "best score: 0.6375\n",
      "Split: 1\n",
      "Split: 2\n",
      "Split: 3\n",
      "Split: 4\n",
      "Split: 5\n",
      "Split: 6\n",
      "Split: 7\n",
      "Split: 8\n",
      "Split: 9\n",
      "Split: 10\n",
      "Training Testing Accuracy for n_games=2 team=15 : 64.64% (5.90%)\n",
      "(194, 386)\n",
      "(194, 1)\n",
      "X_train shape: (174, 696)\n",
      "X_test shape: (20, 696)\n",
      "Fitting 10 folds for each of 12 candidates, totalling 120 fits\n"
     ]
    },
    {
     "name": "stderr",
     "output_type": "stream",
     "text": [
      "[Parallel(n_jobs=1)]: Using backend SequentialBackend with 1 concurrent workers.\n",
      "[Parallel(n_jobs=1)]: Done 120 out of 120 | elapsed:   12.1s finished\n"
     ]
    },
    {
     "name": "stdout",
     "output_type": "stream",
     "text": [
      "best score: 0.6379310344827587\n",
      "Fitting 10 folds for each of 12 candidates, totalling 120 fits\n"
     ]
    },
    {
     "name": "stderr",
     "output_type": "stream",
     "text": [
      "[Parallel(n_jobs=1)]: Using backend SequentialBackend with 1 concurrent workers.\n",
      "[Parallel(n_jobs=1)]: Done 120 out of 120 | elapsed:   13.0s finished\n"
     ]
    },
    {
     "name": "stdout",
     "output_type": "stream",
     "text": [
      "best score: 0.6379310344827587\n",
      "Fitting 10 folds for each of 12 candidates, totalling 120 fits\n"
     ]
    },
    {
     "name": "stderr",
     "output_type": "stream",
     "text": [
      "[Parallel(n_jobs=1)]: Using backend SequentialBackend with 1 concurrent workers.\n",
      "[Parallel(n_jobs=1)]: Done 120 out of 120 | elapsed:   15.6s finished\n"
     ]
    },
    {
     "name": "stdout",
     "output_type": "stream",
     "text": [
      "best score: 0.6379310344827587\n",
      "Fitting 10 folds for each of 12 candidates, totalling 120 fits\n"
     ]
    },
    {
     "name": "stderr",
     "output_type": "stream",
     "text": [
      "[Parallel(n_jobs=1)]: Using backend SequentialBackend with 1 concurrent workers.\n",
      "[Parallel(n_jobs=1)]: Done 120 out of 120 | elapsed:    9.0s finished\n"
     ]
    },
    {
     "name": "stdout",
     "output_type": "stream",
     "text": [
      "best score: 0.6379310344827587\n",
      "Fitting 10 folds for each of 12 candidates, totalling 120 fits\n"
     ]
    },
    {
     "name": "stderr",
     "output_type": "stream",
     "text": [
      "[Parallel(n_jobs=1)]: Using backend SequentialBackend with 1 concurrent workers.\n",
      "[Parallel(n_jobs=1)]: Done 120 out of 120 | elapsed:   10.1s finished\n"
     ]
    },
    {
     "name": "stdout",
     "output_type": "stream",
     "text": [
      "best score: 0.6379310344827587\n",
      "Split: 1\n",
      "Split: 2\n",
      "Split: 3\n",
      "Split: 4\n",
      "Split: 5\n",
      "Split: 6\n",
      "Split: 7\n",
      "Split: 8\n",
      "Split: 9\n",
      "Split: 10\n",
      "Training Testing Accuracy for n_games=2 team=16 : 63.89% (0.90%)\n",
      "(189, 386)\n",
      "(189, 1)\n",
      "X_train shape: (170, 688)\n",
      "X_test shape: (19, 688)\n",
      "Fitting 10 folds for each of 12 candidates, totalling 120 fits\n"
     ]
    },
    {
     "name": "stderr",
     "output_type": "stream",
     "text": [
      "[Parallel(n_jobs=1)]: Using backend SequentialBackend with 1 concurrent workers.\n",
      "[Parallel(n_jobs=1)]: Done 120 out of 120 | elapsed:   11.8s finished\n"
     ]
    },
    {
     "name": "stdout",
     "output_type": "stream",
     "text": [
      "best score: 0.6411764705882353\n",
      "Fitting 10 folds for each of 12 candidates, totalling 120 fits\n"
     ]
    },
    {
     "name": "stderr",
     "output_type": "stream",
     "text": [
      "[Parallel(n_jobs=1)]: Using backend SequentialBackend with 1 concurrent workers.\n",
      "[Parallel(n_jobs=1)]: Done 120 out of 120 | elapsed:   11.7s finished\n"
     ]
    },
    {
     "name": "stdout",
     "output_type": "stream",
     "text": [
      "best score: 0.6411764705882353\n",
      "Fitting 10 folds for each of 12 candidates, totalling 120 fits\n"
     ]
    },
    {
     "name": "stderr",
     "output_type": "stream",
     "text": [
      "[Parallel(n_jobs=1)]: Using backend SequentialBackend with 1 concurrent workers.\n",
      "[Parallel(n_jobs=1)]: Done 120 out of 120 | elapsed:    8.4s finished\n"
     ]
    },
    {
     "name": "stdout",
     "output_type": "stream",
     "text": [
      "best score: 0.6411764705882353\n",
      "Fitting 10 folds for each of 12 candidates, totalling 120 fits\n"
     ]
    },
    {
     "name": "stderr",
     "output_type": "stream",
     "text": [
      "[Parallel(n_jobs=1)]: Using backend SequentialBackend with 1 concurrent workers.\n",
      "[Parallel(n_jobs=1)]: Done 120 out of 120 | elapsed:   17.8s finished\n"
     ]
    },
    {
     "name": "stdout",
     "output_type": "stream",
     "text": [
      "best score: 0.6411764705882353\n",
      "Fitting 10 folds for each of 12 candidates, totalling 120 fits\n"
     ]
    },
    {
     "name": "stderr",
     "output_type": "stream",
     "text": [
      "[Parallel(n_jobs=1)]: Using backend SequentialBackend with 1 concurrent workers.\n",
      "[Parallel(n_jobs=1)]: Done 120 out of 120 | elapsed:    8.6s finished\n"
     ]
    },
    {
     "name": "stdout",
     "output_type": "stream",
     "text": [
      "best score: 0.6411764705882353\n",
      "Split: 1\n",
      "Split: 2\n",
      "Split: 3\n",
      "Split: 4\n",
      "Split: 5\n",
      "Split: 6\n",
      "Split: 7\n",
      "Split: 8\n",
      "Split: 9\n",
      "Split: 10\n",
      "Training Testing Accuracy for n_games=2 team=17 : 63.48% (6.89%)\n",
      "(188, 386)\n",
      "(188, 1)\n",
      "X_train shape: (169, 700)\n",
      "X_test shape: (19, 700)\n",
      "Fitting 10 folds for each of 12 candidates, totalling 120 fits\n"
     ]
    },
    {
     "name": "stderr",
     "output_type": "stream",
     "text": [
      "[Parallel(n_jobs=1)]: Using backend SequentialBackend with 1 concurrent workers.\n",
      "[Parallel(n_jobs=1)]: Done 120 out of 120 | elapsed:   12.1s finished\n"
     ]
    },
    {
     "name": "stdout",
     "output_type": "stream",
     "text": [
      "best score: 0.5739644970414202\n",
      "Fitting 10 folds for each of 12 candidates, totalling 120 fits\n"
     ]
    },
    {
     "name": "stderr",
     "output_type": "stream",
     "text": [
      "[Parallel(n_jobs=1)]: Using backend SequentialBackend with 1 concurrent workers.\n",
      "[Parallel(n_jobs=1)]: Done 120 out of 120 | elapsed:    8.9s finished\n"
     ]
    },
    {
     "name": "stdout",
     "output_type": "stream",
     "text": [
      "best score: 0.5739644970414202\n",
      "Fitting 10 folds for each of 12 candidates, totalling 120 fits\n"
     ]
    },
    {
     "name": "stderr",
     "output_type": "stream",
     "text": [
      "[Parallel(n_jobs=1)]: Using backend SequentialBackend with 1 concurrent workers.\n",
      "[Parallel(n_jobs=1)]: Done 120 out of 120 | elapsed:   10.8s finished\n"
     ]
    },
    {
     "name": "stdout",
     "output_type": "stream",
     "text": [
      "best score: 0.5739644970414202\n",
      "Fitting 10 folds for each of 12 candidates, totalling 120 fits\n"
     ]
    },
    {
     "name": "stderr",
     "output_type": "stream",
     "text": [
      "[Parallel(n_jobs=1)]: Using backend SequentialBackend with 1 concurrent workers.\n",
      "[Parallel(n_jobs=1)]: Done 120 out of 120 | elapsed:    9.4s finished\n"
     ]
    },
    {
     "name": "stdout",
     "output_type": "stream",
     "text": [
      "best score: 0.5739644970414202\n",
      "Fitting 10 folds for each of 12 candidates, totalling 120 fits\n"
     ]
    },
    {
     "name": "stderr",
     "output_type": "stream",
     "text": [
      "[Parallel(n_jobs=1)]: Using backend SequentialBackend with 1 concurrent workers.\n",
      "[Parallel(n_jobs=1)]: Done 120 out of 120 | elapsed:   18.9s finished\n"
     ]
    },
    {
     "name": "stdout",
     "output_type": "stream",
     "text": [
      "best score: 0.5739644970414202\n",
      "Split: 1\n",
      "Split: 2\n",
      "Split: 3\n",
      "Split: 4\n",
      "Split: 5\n",
      "Split: 6\n",
      "Split: 7\n",
      "Split: 8\n",
      "Split: 9\n",
      "Split: 10\n",
      "Training Testing Accuracy for n_games=2 team=18 : 57.87% (10.09%)\n",
      "Accuracy for Team Models for n_games= 2 : 61.87% (5.47%)\n",
      "(183, 572)\n",
      "(183, 1)\n",
      "X_train shape: (164, 996)\n",
      "X_test shape: (19, 996)\n",
      "Fitting 10 folds for each of 12 candidates, totalling 120 fits\n"
     ]
    },
    {
     "name": "stderr",
     "output_type": "stream",
     "text": [
      "[Parallel(n_jobs=1)]: Using backend SequentialBackend with 1 concurrent workers.\n",
      "[Parallel(n_jobs=1)]: Done 120 out of 120 | elapsed:   16.6s finished\n"
     ]
    },
    {
     "name": "stdout",
     "output_type": "stream",
     "text": [
      "best score: 0.5304878048780488\n",
      "Fitting 10 folds for each of 12 candidates, totalling 120 fits\n"
     ]
    },
    {
     "name": "stderr",
     "output_type": "stream",
     "text": [
      "[Parallel(n_jobs=1)]: Using backend SequentialBackend with 1 concurrent workers.\n",
      "[Parallel(n_jobs=1)]: Done 120 out of 120 | elapsed:   11.1s finished\n"
     ]
    },
    {
     "name": "stdout",
     "output_type": "stream",
     "text": [
      "best score: 0.5975609756097561\n",
      "Fitting 10 folds for each of 12 candidates, totalling 120 fits\n"
     ]
    },
    {
     "name": "stderr",
     "output_type": "stream",
     "text": [
      "[Parallel(n_jobs=1)]: Using backend SequentialBackend with 1 concurrent workers.\n",
      "[Parallel(n_jobs=1)]: Done 120 out of 120 | elapsed:   13.2s finished\n"
     ]
    },
    {
     "name": "stdout",
     "output_type": "stream",
     "text": [
      "best score: 0.5975609756097561\n",
      "Fitting 10 folds for each of 12 candidates, totalling 120 fits\n"
     ]
    },
    {
     "name": "stderr",
     "output_type": "stream",
     "text": [
      "[Parallel(n_jobs=1)]: Using backend SequentialBackend with 1 concurrent workers.\n",
      "[Parallel(n_jobs=1)]: Done 120 out of 120 | elapsed:   11.7s finished\n"
     ]
    },
    {
     "name": "stdout",
     "output_type": "stream",
     "text": [
      "best score: 0.5975609756097561\n",
      "Fitting 10 folds for each of 12 candidates, totalling 120 fits\n"
     ]
    },
    {
     "name": "stderr",
     "output_type": "stream",
     "text": [
      "[Parallel(n_jobs=1)]: Using backend SequentialBackend with 1 concurrent workers.\n",
      "[Parallel(n_jobs=1)]: Done 120 out of 120 | elapsed:   11.7s finished\n"
     ]
    },
    {
     "name": "stdout",
     "output_type": "stream",
     "text": [
      "best score: 0.5975609756097561\n",
      "Split: 1\n",
      "Split: 2\n",
      "Split: 3\n",
      "Split: 4\n",
      "Split: 5\n",
      "Split: 6\n",
      "Split: 7\n",
      "Split: 8\n",
      "Split: 9\n",
      "Split: 10\n",
      "Training Testing Accuracy for n_games=3 team=1 : 49.71% (8.90%)\n",
      "(181, 572)\n",
      "(181, 1)\n",
      "X_train shape: (162, 984)\n",
      "X_test shape: (19, 984)\n",
      "Fitting 10 folds for each of 12 candidates, totalling 120 fits\n"
     ]
    },
    {
     "name": "stderr",
     "output_type": "stream",
     "text": [
      "[Parallel(n_jobs=1)]: Using backend SequentialBackend with 1 concurrent workers.\n",
      "[Parallel(n_jobs=1)]: Done 120 out of 120 | elapsed:   15.8s finished\n"
     ]
    },
    {
     "name": "stdout",
     "output_type": "stream",
     "text": [
      "best score: 0.6666666666666666\n",
      "Fitting 10 folds for each of 12 candidates, totalling 120 fits\n"
     ]
    },
    {
     "name": "stderr",
     "output_type": "stream",
     "text": [
      "[Parallel(n_jobs=1)]: Using backend SequentialBackend with 1 concurrent workers.\n",
      "[Parallel(n_jobs=1)]: Done 120 out of 120 | elapsed:   13.8s finished\n"
     ]
    },
    {
     "name": "stdout",
     "output_type": "stream",
     "text": [
      "best score: 0.6666666666666666\n",
      "Fitting 10 folds for each of 12 candidates, totalling 120 fits\n"
     ]
    },
    {
     "name": "stderr",
     "output_type": "stream",
     "text": [
      "[Parallel(n_jobs=1)]: Using backend SequentialBackend with 1 concurrent workers.\n",
      "[Parallel(n_jobs=1)]: Done 120 out of 120 | elapsed:   14.0s finished\n"
     ]
    },
    {
     "name": "stdout",
     "output_type": "stream",
     "text": [
      "best score: 0.6666666666666666\n",
      "Fitting 10 folds for each of 12 candidates, totalling 120 fits\n"
     ]
    },
    {
     "name": "stderr",
     "output_type": "stream",
     "text": [
      "[Parallel(n_jobs=1)]: Using backend SequentialBackend with 1 concurrent workers.\n",
      "[Parallel(n_jobs=1)]: Done 120 out of 120 | elapsed:   11.7s finished\n"
     ]
    },
    {
     "name": "stdout",
     "output_type": "stream",
     "text": [
      "best score: 0.6666666666666666\n",
      "Fitting 10 folds for each of 12 candidates, totalling 120 fits\n"
     ]
    },
    {
     "name": "stderr",
     "output_type": "stream",
     "text": [
      "[Parallel(n_jobs=1)]: Using backend SequentialBackend with 1 concurrent workers.\n",
      "[Parallel(n_jobs=1)]: Done 120 out of 120 | elapsed:   13.3s finished\n"
     ]
    },
    {
     "name": "stdout",
     "output_type": "stream",
     "text": [
      "best score: 0.6790123456790124\n",
      "Split: 1\n",
      "Split: 2\n",
      "Split: 3\n",
      "Split: 4\n",
      "Split: 5\n",
      "Split: 6\n",
      "Split: 7\n",
      "Split: 8\n",
      "Split: 9\n",
      "Split: 10\n",
      "Training Testing Accuracy for n_games=3 team=2 : 67.37% (9.53%)\n",
      "(179, 572)\n",
      "(179, 1)\n",
      "X_train shape: (161, 984)\n",
      "X_test shape: (18, 984)\n",
      "Fitting 10 folds for each of 12 candidates, totalling 120 fits\n"
     ]
    },
    {
     "name": "stderr",
     "output_type": "stream",
     "text": [
      "[Parallel(n_jobs=1)]: Using backend SequentialBackend with 1 concurrent workers.\n",
      "[Parallel(n_jobs=1)]: Done 120 out of 120 | elapsed:   15.5s finished\n"
     ]
    },
    {
     "name": "stdout",
     "output_type": "stream",
     "text": [
      "best score: 0.6708074534161491\n",
      "Fitting 10 folds for each of 12 candidates, totalling 120 fits\n"
     ]
    },
    {
     "name": "stderr",
     "output_type": "stream",
     "text": [
      "[Parallel(n_jobs=1)]: Using backend SequentialBackend with 1 concurrent workers.\n",
      "[Parallel(n_jobs=1)]: Done 120 out of 120 | elapsed:   11.8s finished\n"
     ]
    },
    {
     "name": "stdout",
     "output_type": "stream",
     "text": [
      "best score: 0.6708074534161491\n",
      "Fitting 10 folds for each of 12 candidates, totalling 120 fits\n"
     ]
    },
    {
     "name": "stderr",
     "output_type": "stream",
     "text": [
      "[Parallel(n_jobs=1)]: Using backend SequentialBackend with 1 concurrent workers.\n",
      "[Parallel(n_jobs=1)]: Done 120 out of 120 | elapsed:   13.5s finished\n"
     ]
    },
    {
     "name": "stdout",
     "output_type": "stream",
     "text": [
      "best score: 0.6708074534161491\n",
      "Fitting 10 folds for each of 12 candidates, totalling 120 fits\n"
     ]
    },
    {
     "name": "stderr",
     "output_type": "stream",
     "text": [
      "[Parallel(n_jobs=1)]: Using backend SequentialBackend with 1 concurrent workers.\n",
      "[Parallel(n_jobs=1)]: Done 120 out of 120 | elapsed:   21.5s finished\n"
     ]
    },
    {
     "name": "stdout",
     "output_type": "stream",
     "text": [
      "best score: 0.6708074534161491\n",
      "Fitting 10 folds for each of 12 candidates, totalling 120 fits\n"
     ]
    },
    {
     "name": "stderr",
     "output_type": "stream",
     "text": [
      "[Parallel(n_jobs=1)]: Using backend SequentialBackend with 1 concurrent workers.\n",
      "[Parallel(n_jobs=1)]: Done 120 out of 120 | elapsed:   14.2s finished\n"
     ]
    },
    {
     "name": "stdout",
     "output_type": "stream",
     "text": [
      "best score: 0.6708074534161491\n",
      "Split: 1\n",
      "Split: 2\n",
      "Split: 3\n",
      "Split: 4\n",
      "Split: 5\n",
      "Split: 6\n",
      "Split: 7\n",
      "Split: 8\n",
      "Split: 9\n",
      "Split: 10\n",
      "Training Testing Accuracy for n_games=3 team=3 : 68.17% (2.33%)\n",
      "(184, 572)\n",
      "(184, 1)\n",
      "X_train shape: (165, 986)\n",
      "X_test shape: (19, 986)\n",
      "Fitting 10 folds for each of 12 candidates, totalling 120 fits\n"
     ]
    },
    {
     "name": "stderr",
     "output_type": "stream",
     "text": [
      "[Parallel(n_jobs=1)]: Using backend SequentialBackend with 1 concurrent workers.\n",
      "[Parallel(n_jobs=1)]: Done 120 out of 120 | elapsed:   15.9s finished\n"
     ]
    },
    {
     "name": "stdout",
     "output_type": "stream",
     "text": [
      "best score: 0.5333333333333333\n",
      "Fitting 10 folds for each of 12 candidates, totalling 120 fits\n"
     ]
    },
    {
     "name": "stderr",
     "output_type": "stream",
     "text": [
      "[Parallel(n_jobs=1)]: Using backend SequentialBackend with 1 concurrent workers.\n",
      "[Parallel(n_jobs=1)]: Done 120 out of 120 | elapsed:   14.5s finished\n"
     ]
    },
    {
     "name": "stdout",
     "output_type": "stream",
     "text": [
      "best score: 0.5333333333333333\n",
      "Fitting 10 folds for each of 12 candidates, totalling 120 fits\n"
     ]
    },
    {
     "name": "stderr",
     "output_type": "stream",
     "text": [
      "[Parallel(n_jobs=1)]: Using backend SequentialBackend with 1 concurrent workers.\n",
      "[Parallel(n_jobs=1)]: Done 120 out of 120 | elapsed:   12.2s finished\n"
     ]
    },
    {
     "name": "stdout",
     "output_type": "stream",
     "text": [
      "best score: 0.5333333333333333\n",
      "Fitting 10 folds for each of 12 candidates, totalling 120 fits\n"
     ]
    },
    {
     "name": "stderr",
     "output_type": "stream",
     "text": [
      "[Parallel(n_jobs=1)]: Using backend SequentialBackend with 1 concurrent workers.\n",
      "[Parallel(n_jobs=1)]: Done 120 out of 120 | elapsed:   11.3s finished\n"
     ]
    },
    {
     "name": "stdout",
     "output_type": "stream",
     "text": [
      "best score: 0.5333333333333333\n",
      "Fitting 10 folds for each of 12 candidates, totalling 120 fits\n"
     ]
    },
    {
     "name": "stderr",
     "output_type": "stream",
     "text": [
      "[Parallel(n_jobs=1)]: Using backend SequentialBackend with 1 concurrent workers.\n",
      "[Parallel(n_jobs=1)]: Done 120 out of 120 | elapsed:   11.9s finished\n"
     ]
    },
    {
     "name": "stdout",
     "output_type": "stream",
     "text": [
      "best score: 0.5757575757575758\n",
      "Split: 1\n",
      "Split: 2\n",
      "Split: 3\n",
      "Split: 4\n",
      "Split: 5\n",
      "Split: 6\n",
      "Split: 7\n",
      "Split: 8\n",
      "Split: 9\n",
      "Split: 10\n",
      "Training Testing Accuracy for n_games=3 team=4 : 53.77% (8.69%)\n",
      "(181, 572)\n",
      "(181, 1)\n",
      "X_train shape: (162, 980)\n",
      "X_test shape: (19, 980)\n",
      "Fitting 10 folds for each of 12 candidates, totalling 120 fits\n"
     ]
    },
    {
     "name": "stderr",
     "output_type": "stream",
     "text": [
      "[Parallel(n_jobs=1)]: Using backend SequentialBackend with 1 concurrent workers.\n",
      "[Parallel(n_jobs=1)]: Done 120 out of 120 | elapsed:   15.8s finished\n"
     ]
    },
    {
     "name": "stdout",
     "output_type": "stream",
     "text": [
      "best score: 0.5617283950617284\n",
      "Fitting 10 folds for each of 12 candidates, totalling 120 fits\n"
     ]
    },
    {
     "name": "stderr",
     "output_type": "stream",
     "text": [
      "[Parallel(n_jobs=1)]: Using backend SequentialBackend with 1 concurrent workers.\n",
      "[Parallel(n_jobs=1)]: Done 120 out of 120 | elapsed:   31.4s finished\n"
     ]
    },
    {
     "name": "stdout",
     "output_type": "stream",
     "text": [
      "best score: 0.5617283950617284\n",
      "Fitting 10 folds for each of 12 candidates, totalling 120 fits\n"
     ]
    },
    {
     "name": "stderr",
     "output_type": "stream",
     "text": [
      "[Parallel(n_jobs=1)]: Using backend SequentialBackend with 1 concurrent workers.\n",
      "[Parallel(n_jobs=1)]: Done 120 out of 120 | elapsed:   13.4s finished\n"
     ]
    },
    {
     "name": "stdout",
     "output_type": "stream",
     "text": [
      "best score: 0.5617283950617284\n",
      "Fitting 10 folds for each of 12 candidates, totalling 120 fits\n"
     ]
    },
    {
     "name": "stderr",
     "output_type": "stream",
     "text": [
      "[Parallel(n_jobs=1)]: Using backend SequentialBackend with 1 concurrent workers.\n",
      "[Parallel(n_jobs=1)]: Done 120 out of 120 | elapsed:   10.3s finished\n"
     ]
    },
    {
     "name": "stdout",
     "output_type": "stream",
     "text": [
      "best score: 0.5617283950617284\n",
      "Fitting 10 folds for each of 12 candidates, totalling 120 fits\n"
     ]
    },
    {
     "name": "stderr",
     "output_type": "stream",
     "text": [
      "[Parallel(n_jobs=1)]: Using backend SequentialBackend with 1 concurrent workers.\n",
      "[Parallel(n_jobs=1)]: Done 120 out of 120 | elapsed:   12.7s finished\n"
     ]
    },
    {
     "name": "stdout",
     "output_type": "stream",
     "text": [
      "best score: 0.5740740740740741\n",
      "Split: 1\n",
      "Split: 2\n",
      "Split: 3\n",
      "Split: 4\n",
      "Split: 5\n",
      "Split: 6\n",
      "Split: 7\n",
      "Split: 8\n",
      "Split: 9\n",
      "Split: 10\n",
      "Training Testing Accuracy for n_games=3 team=5 : 54.68% (10.53%)\n",
      "(184, 572)\n",
      "(184, 1)\n",
      "X_train shape: (165, 995)\n",
      "X_test shape: (19, 995)\n",
      "Fitting 10 folds for each of 12 candidates, totalling 120 fits\n"
     ]
    },
    {
     "name": "stderr",
     "output_type": "stream",
     "text": [
      "[Parallel(n_jobs=1)]: Using backend SequentialBackend with 1 concurrent workers.\n",
      "[Parallel(n_jobs=1)]: Done 120 out of 120 | elapsed:   16.2s finished\n"
     ]
    },
    {
     "name": "stdout",
     "output_type": "stream",
     "text": [
      "best score: 0.6121212121212121\n",
      "Fitting 10 folds for each of 12 candidates, totalling 120 fits\n"
     ]
    },
    {
     "name": "stderr",
     "output_type": "stream",
     "text": [
      "[Parallel(n_jobs=1)]: Using backend SequentialBackend with 1 concurrent workers.\n",
      "[Parallel(n_jobs=1)]: Done 120 out of 120 | elapsed:   13.6s finished\n"
     ]
    },
    {
     "name": "stdout",
     "output_type": "stream",
     "text": [
      "best score: 0.6121212121212121\n",
      "Fitting 10 folds for each of 12 candidates, totalling 120 fits\n"
     ]
    },
    {
     "name": "stderr",
     "output_type": "stream",
     "text": [
      "[Parallel(n_jobs=1)]: Using backend SequentialBackend with 1 concurrent workers.\n",
      "[Parallel(n_jobs=1)]: Done 120 out of 120 | elapsed:   14.8s finished\n"
     ]
    },
    {
     "name": "stdout",
     "output_type": "stream",
     "text": [
      "best score: 0.6121212121212121\n",
      "Fitting 10 folds for each of 12 candidates, totalling 120 fits\n"
     ]
    },
    {
     "name": "stderr",
     "output_type": "stream",
     "text": [
      "[Parallel(n_jobs=1)]: Using backend SequentialBackend with 1 concurrent workers.\n",
      "[Parallel(n_jobs=1)]: Done 120 out of 120 | elapsed:   15.4s finished\n"
     ]
    },
    {
     "name": "stdout",
     "output_type": "stream",
     "text": [
      "best score: 0.6121212121212121\n",
      "Fitting 10 folds for each of 12 candidates, totalling 120 fits\n"
     ]
    },
    {
     "name": "stderr",
     "output_type": "stream",
     "text": [
      "[Parallel(n_jobs=1)]: Using backend SequentialBackend with 1 concurrent workers.\n",
      "[Parallel(n_jobs=1)]: Done 120 out of 120 | elapsed:   20.6s finished\n"
     ]
    },
    {
     "name": "stdout",
     "output_type": "stream",
     "text": [
      "best score: 0.6121212121212121\n",
      "Split: 1\n",
      "Split: 2\n",
      "Split: 3\n",
      "Split: 4\n",
      "Split: 5\n",
      "Split: 6\n",
      "Split: 7\n",
      "Split: 8\n",
      "Split: 9\n",
      "Split: 10\n",
      "Training Testing Accuracy for n_games=3 team=6 : 61.90% (8.66%)\n",
      "(193, 572)\n",
      "(193, 1)\n",
      "X_train shape: (173, 988)\n",
      "X_test shape: (20, 988)\n",
      "Fitting 10 folds for each of 12 candidates, totalling 120 fits\n"
     ]
    },
    {
     "name": "stderr",
     "output_type": "stream",
     "text": [
      "[Parallel(n_jobs=1)]: Using backend SequentialBackend with 1 concurrent workers.\n",
      "[Parallel(n_jobs=1)]: Done 120 out of 120 | elapsed:   15.9s finished\n"
     ]
    },
    {
     "name": "stdout",
     "output_type": "stream",
     "text": [
      "best score: 0.653179190751445\n",
      "Fitting 10 folds for each of 12 candidates, totalling 120 fits\n"
     ]
    },
    {
     "name": "stderr",
     "output_type": "stream",
     "text": [
      "[Parallel(n_jobs=1)]: Using backend SequentialBackend with 1 concurrent workers.\n",
      "[Parallel(n_jobs=1)]: Done 120 out of 120 | elapsed:   39.1s finished\n"
     ]
    },
    {
     "name": "stdout",
     "output_type": "stream",
     "text": [
      "best score: 0.653179190751445\n",
      "Fitting 10 folds for each of 12 candidates, totalling 120 fits\n"
     ]
    },
    {
     "name": "stderr",
     "output_type": "stream",
     "text": [
      "[Parallel(n_jobs=1)]: Using backend SequentialBackend with 1 concurrent workers.\n",
      "[Parallel(n_jobs=1)]: Done 120 out of 120 | elapsed:   11.5s finished\n"
     ]
    },
    {
     "name": "stdout",
     "output_type": "stream",
     "text": [
      "best score: 0.653179190751445\n",
      "Fitting 10 folds for each of 12 candidates, totalling 120 fits\n"
     ]
    },
    {
     "name": "stderr",
     "output_type": "stream",
     "text": [
      "[Parallel(n_jobs=1)]: Using backend SequentialBackend with 1 concurrent workers.\n",
      "[Parallel(n_jobs=1)]: Done 120 out of 120 | elapsed:   11.0s finished\n"
     ]
    },
    {
     "name": "stdout",
     "output_type": "stream",
     "text": [
      "best score: 0.653179190751445\n",
      "Fitting 10 folds for each of 12 candidates, totalling 120 fits\n"
     ]
    },
    {
     "name": "stderr",
     "output_type": "stream",
     "text": [
      "[Parallel(n_jobs=1)]: Using backend SequentialBackend with 1 concurrent workers.\n",
      "[Parallel(n_jobs=1)]: Done 120 out of 120 | elapsed:   21.3s finished\n"
     ]
    },
    {
     "name": "stdout",
     "output_type": "stream",
     "text": [
      "best score: 0.653179190751445\n",
      "Split: 1\n",
      "Split: 2\n",
      "Split: 3\n",
      "Split: 4\n",
      "Split: 5\n",
      "Split: 6\n",
      "Split: 7\n",
      "Split: 8\n",
      "Split: 9\n",
      "Split: 10\n",
      "Training Testing Accuracy for n_games=3 team=7 : 66.34% (2.17%)\n",
      "(177, 572)\n",
      "(177, 1)\n",
      "X_train shape: (159, 991)\n",
      "X_test shape: (18, 991)\n",
      "Fitting 10 folds for each of 12 candidates, totalling 120 fits\n"
     ]
    },
    {
     "name": "stderr",
     "output_type": "stream",
     "text": [
      "[Parallel(n_jobs=1)]: Using backend SequentialBackend with 1 concurrent workers.\n",
      "[Parallel(n_jobs=1)]: Done 120 out of 120 | elapsed:   16.3s finished\n"
     ]
    },
    {
     "name": "stdout",
     "output_type": "stream",
     "text": [
      "best score: 0.710691823899371\n",
      "Fitting 10 folds for each of 12 candidates, totalling 120 fits\n"
     ]
    },
    {
     "name": "stderr",
     "output_type": "stream",
     "text": [
      "[Parallel(n_jobs=1)]: Using backend SequentialBackend with 1 concurrent workers.\n",
      "[Parallel(n_jobs=1)]: Done 120 out of 120 | elapsed:   22.0s finished\n"
     ]
    },
    {
     "name": "stdout",
     "output_type": "stream",
     "text": [
      "best score: 0.710691823899371\n",
      "Fitting 10 folds for each of 12 candidates, totalling 120 fits\n"
     ]
    },
    {
     "name": "stderr",
     "output_type": "stream",
     "text": [
      "[Parallel(n_jobs=1)]: Using backend SequentialBackend with 1 concurrent workers.\n",
      "[Parallel(n_jobs=1)]: Done 120 out of 120 | elapsed:   13.1s finished\n"
     ]
    },
    {
     "name": "stdout",
     "output_type": "stream",
     "text": [
      "best score: 0.710691823899371\n",
      "Fitting 10 folds for each of 12 candidates, totalling 120 fits\n"
     ]
    },
    {
     "name": "stderr",
     "output_type": "stream",
     "text": [
      "[Parallel(n_jobs=1)]: Using backend SequentialBackend with 1 concurrent workers.\n",
      "[Parallel(n_jobs=1)]: Done 120 out of 120 | elapsed:   12.8s finished\n"
     ]
    },
    {
     "name": "stdout",
     "output_type": "stream",
     "text": [
      "best score: 0.710691823899371\n",
      "Fitting 10 folds for each of 12 candidates, totalling 120 fits\n"
     ]
    },
    {
     "name": "stderr",
     "output_type": "stream",
     "text": [
      "[Parallel(n_jobs=1)]: Using backend SequentialBackend with 1 concurrent workers.\n",
      "[Parallel(n_jobs=1)]: Done 120 out of 120 | elapsed:   15.4s finished\n"
     ]
    },
    {
     "name": "stdout",
     "output_type": "stream",
     "text": [
      "best score: 0.710691823899371\n",
      "Split: 1\n",
      "Split: 2\n",
      "Split: 3\n",
      "Split: 4\n",
      "Split: 5\n",
      "Split: 6\n",
      "Split: 7\n",
      "Split: 8\n",
      "Split: 9\n",
      "Split: 10\n",
      "Training Testing Accuracy for n_games=3 team=8 : 75.16% (4.37%)\n",
      "(190, 572)\n",
      "(190, 1)\n",
      "X_train shape: (171, 1001)\n",
      "X_test shape: (19, 1001)\n",
      "Fitting 10 folds for each of 12 candidates, totalling 120 fits\n"
     ]
    },
    {
     "name": "stderr",
     "output_type": "stream",
     "text": [
      "[Parallel(n_jobs=1)]: Using backend SequentialBackend with 1 concurrent workers.\n",
      "[Parallel(n_jobs=1)]: Done 120 out of 120 | elapsed:   16.1s finished\n"
     ]
    },
    {
     "name": "stdout",
     "output_type": "stream",
     "text": [
      "best score: 0.5555555555555556\n",
      "Fitting 10 folds for each of 12 candidates, totalling 120 fits\n"
     ]
    },
    {
     "name": "stderr",
     "output_type": "stream",
     "text": [
      "[Parallel(n_jobs=1)]: Using backend SequentialBackend with 1 concurrent workers.\n",
      "[Parallel(n_jobs=1)]: Done 120 out of 120 | elapsed:   10.8s finished\n"
     ]
    },
    {
     "name": "stdout",
     "output_type": "stream",
     "text": [
      "best score: 0.5555555555555556\n",
      "Fitting 10 folds for each of 12 candidates, totalling 120 fits\n"
     ]
    },
    {
     "name": "stderr",
     "output_type": "stream",
     "text": [
      "[Parallel(n_jobs=1)]: Using backend SequentialBackend with 1 concurrent workers.\n",
      "[Parallel(n_jobs=1)]: Done 120 out of 120 | elapsed:   25.6s finished\n"
     ]
    },
    {
     "name": "stdout",
     "output_type": "stream",
     "text": [
      "best score: 0.5614035087719298\n",
      "Fitting 10 folds for each of 12 candidates, totalling 120 fits\n"
     ]
    },
    {
     "name": "stderr",
     "output_type": "stream",
     "text": [
      "[Parallel(n_jobs=1)]: Using backend SequentialBackend with 1 concurrent workers.\n",
      "[Parallel(n_jobs=1)]: Done 120 out of 120 | elapsed:   14.5s finished\n"
     ]
    },
    {
     "name": "stdout",
     "output_type": "stream",
     "text": [
      "best score: 0.5614035087719298\n",
      "Fitting 10 folds for each of 12 candidates, totalling 120 fits\n"
     ]
    },
    {
     "name": "stderr",
     "output_type": "stream",
     "text": [
      "[Parallel(n_jobs=1)]: Using backend SequentialBackend with 1 concurrent workers.\n",
      "[Parallel(n_jobs=1)]: Done 120 out of 120 | elapsed:   27.4s finished\n"
     ]
    },
    {
     "name": "stdout",
     "output_type": "stream",
     "text": [
      "best score: 0.5614035087719298\n",
      "Split: 1\n",
      "Split: 2\n",
      "Split: 3\n",
      "Split: 4\n",
      "Split: 5\n",
      "Split: 6\n",
      "Split: 7\n",
      "Split: 8\n",
      "Split: 9\n",
      "Split: 10\n",
      "Training Testing Accuracy for n_games=3 team=9 : 61.05% (11.09%)\n",
      "(191, 572)\n",
      "(191, 1)\n",
      "X_train shape: (171, 990)\n",
      "X_test shape: (20, 990)\n",
      "Fitting 10 folds for each of 12 candidates, totalling 120 fits\n"
     ]
    },
    {
     "name": "stderr",
     "output_type": "stream",
     "text": [
      "[Parallel(n_jobs=1)]: Using backend SequentialBackend with 1 concurrent workers.\n",
      "[Parallel(n_jobs=1)]: Done 120 out of 120 | elapsed:   15.9s finished\n"
     ]
    },
    {
     "name": "stdout",
     "output_type": "stream",
     "text": [
      "best score: 0.6432748538011696\n",
      "Fitting 10 folds for each of 12 candidates, totalling 120 fits\n"
     ]
    },
    {
     "name": "stderr",
     "output_type": "stream",
     "text": [
      "[Parallel(n_jobs=1)]: Using backend SequentialBackend with 1 concurrent workers.\n",
      "[Parallel(n_jobs=1)]: Done 120 out of 120 | elapsed:   13.7s finished\n"
     ]
    },
    {
     "name": "stdout",
     "output_type": "stream",
     "text": [
      "best score: 0.6432748538011696\n",
      "Fitting 10 folds for each of 12 candidates, totalling 120 fits\n"
     ]
    },
    {
     "name": "stderr",
     "output_type": "stream",
     "text": [
      "[Parallel(n_jobs=1)]: Using backend SequentialBackend with 1 concurrent workers.\n",
      "[Parallel(n_jobs=1)]: Done 120 out of 120 | elapsed:   34.3s finished\n"
     ]
    },
    {
     "name": "stdout",
     "output_type": "stream",
     "text": [
      "best score: 0.672514619883041\n",
      "Fitting 10 folds for each of 12 candidates, totalling 120 fits\n"
     ]
    },
    {
     "name": "stderr",
     "output_type": "stream",
     "text": [
      "[Parallel(n_jobs=1)]: Using backend SequentialBackend with 1 concurrent workers.\n",
      "[Parallel(n_jobs=1)]: Done 120 out of 120 | elapsed:   14.5s finished\n"
     ]
    },
    {
     "name": "stdout",
     "output_type": "stream",
     "text": [
      "best score: 0.672514619883041\n",
      "Fitting 10 folds for each of 12 candidates, totalling 120 fits\n"
     ]
    },
    {
     "name": "stderr",
     "output_type": "stream",
     "text": [
      "[Parallel(n_jobs=1)]: Using backend SequentialBackend with 1 concurrent workers.\n",
      "[Parallel(n_jobs=1)]: Done 120 out of 120 | elapsed:   23.2s finished\n"
     ]
    },
    {
     "name": "stdout",
     "output_type": "stream",
     "text": [
      "best score: 0.672514619883041\n",
      "Split: 1\n",
      "Split: 2\n",
      "Split: 3\n",
      "Split: 4\n",
      "Split: 5\n",
      "Split: 6\n",
      "Split: 7\n",
      "Split: 8\n",
      "Split: 9\n",
      "Split: 10\n",
      "Training Testing Accuracy for n_games=3 team=10 : 62.84% (6.30%)\n",
      "(183, 572)\n",
      "(183, 1)\n",
      "X_train shape: (164, 993)\n",
      "X_test shape: (19, 993)\n",
      "Fitting 10 folds for each of 12 candidates, totalling 120 fits\n"
     ]
    },
    {
     "name": "stderr",
     "output_type": "stream",
     "text": [
      "[Parallel(n_jobs=1)]: Using backend SequentialBackend with 1 concurrent workers.\n",
      "[Parallel(n_jobs=1)]: Done 120 out of 120 | elapsed:   16.0s finished\n"
     ]
    },
    {
     "name": "stdout",
     "output_type": "stream",
     "text": [
      "best score: 0.5792682926829268\n",
      "Fitting 10 folds for each of 12 candidates, totalling 120 fits\n"
     ]
    },
    {
     "name": "stderr",
     "output_type": "stream",
     "text": [
      "[Parallel(n_jobs=1)]: Using backend SequentialBackend with 1 concurrent workers.\n",
      "[Parallel(n_jobs=1)]: Done 120 out of 120 | elapsed:   17.7s finished\n"
     ]
    },
    {
     "name": "stdout",
     "output_type": "stream",
     "text": [
      "best score: 0.6280487804878049\n",
      "Fitting 10 folds for each of 12 candidates, totalling 120 fits\n"
     ]
    },
    {
     "name": "stderr",
     "output_type": "stream",
     "text": [
      "[Parallel(n_jobs=1)]: Using backend SequentialBackend with 1 concurrent workers.\n",
      "[Parallel(n_jobs=1)]: Done 120 out of 120 | elapsed:   16.3s finished\n"
     ]
    },
    {
     "name": "stdout",
     "output_type": "stream",
     "text": [
      "best score: 0.6280487804878049\n",
      "Fitting 10 folds for each of 12 candidates, totalling 120 fits\n"
     ]
    },
    {
     "name": "stderr",
     "output_type": "stream",
     "text": [
      "[Parallel(n_jobs=1)]: Using backend SequentialBackend with 1 concurrent workers.\n",
      "[Parallel(n_jobs=1)]: Done 120 out of 120 | elapsed:   14.3s finished\n"
     ]
    },
    {
     "name": "stdout",
     "output_type": "stream",
     "text": [
      "best score: 0.6280487804878049\n",
      "Fitting 10 folds for each of 12 candidates, totalling 120 fits\n"
     ]
    },
    {
     "name": "stderr",
     "output_type": "stream",
     "text": [
      "[Parallel(n_jobs=1)]: Using backend SequentialBackend with 1 concurrent workers.\n",
      "[Parallel(n_jobs=1)]: Done 120 out of 120 | elapsed:   13.8s finished\n"
     ]
    },
    {
     "name": "stdout",
     "output_type": "stream",
     "text": [
      "best score: 0.6280487804878049\n",
      "Split: 1\n",
      "Split: 2\n",
      "Split: 3\n",
      "Split: 4\n",
      "Split: 5\n",
      "Split: 6\n",
      "Split: 7\n",
      "Split: 8\n",
      "Split: 9\n",
      "Split: 10\n",
      "Training Testing Accuracy for n_games=3 team=11 : 57.95% (13.91%)\n",
      "(184, 572)\n",
      "(184, 1)\n",
      "X_train shape: (165, 987)\n",
      "X_test shape: (19, 987)\n",
      "Fitting 10 folds for each of 12 candidates, totalling 120 fits\n"
     ]
    },
    {
     "name": "stderr",
     "output_type": "stream",
     "text": [
      "[Parallel(n_jobs=1)]: Using backend SequentialBackend with 1 concurrent workers.\n",
      "[Parallel(n_jobs=1)]: Done 120 out of 120 | elapsed:   16.2s finished\n"
     ]
    },
    {
     "name": "stdout",
     "output_type": "stream",
     "text": [
      "best score: 0.593939393939394\n",
      "Fitting 10 folds for each of 12 candidates, totalling 120 fits\n"
     ]
    },
    {
     "name": "stderr",
     "output_type": "stream",
     "text": [
      "[Parallel(n_jobs=1)]: Using backend SequentialBackend with 1 concurrent workers.\n",
      "[Parallel(n_jobs=1)]: Done 120 out of 120 | elapsed:   18.5s finished\n"
     ]
    },
    {
     "name": "stdout",
     "output_type": "stream",
     "text": [
      "best score: 0.593939393939394\n",
      "Fitting 10 folds for each of 12 candidates, totalling 120 fits\n"
     ]
    },
    {
     "name": "stderr",
     "output_type": "stream",
     "text": [
      "[Parallel(n_jobs=1)]: Using backend SequentialBackend with 1 concurrent workers.\n",
      "[Parallel(n_jobs=1)]: Done 120 out of 120 | elapsed:   11.1s finished\n"
     ]
    },
    {
     "name": "stdout",
     "output_type": "stream",
     "text": [
      "best score: 0.593939393939394\n",
      "Fitting 10 folds for each of 12 candidates, totalling 120 fits\n"
     ]
    },
    {
     "name": "stderr",
     "output_type": "stream",
     "text": [
      "[Parallel(n_jobs=1)]: Using backend SequentialBackend with 1 concurrent workers.\n",
      "[Parallel(n_jobs=1)]: Done 120 out of 120 | elapsed:   33.9s finished\n"
     ]
    },
    {
     "name": "stdout",
     "output_type": "stream",
     "text": [
      "best score: 0.593939393939394\n",
      "Fitting 10 folds for each of 12 candidates, totalling 120 fits\n"
     ]
    },
    {
     "name": "stderr",
     "output_type": "stream",
     "text": [
      "[Parallel(n_jobs=1)]: Using backend SequentialBackend with 1 concurrent workers.\n",
      "[Parallel(n_jobs=1)]: Done 120 out of 120 | elapsed:   15.0s finished\n"
     ]
    },
    {
     "name": "stdout",
     "output_type": "stream",
     "text": [
      "best score: 0.593939393939394\n",
      "Split: 1\n",
      "Split: 2\n",
      "Split: 3\n",
      "Split: 4\n",
      "Split: 5\n",
      "Split: 6\n",
      "Split: 7\n",
      "Split: 8\n",
      "Split: 9\n",
      "Split: 10\n",
      "Training Testing Accuracy for n_games=3 team=12 : 53.92% (15.12%)\n",
      "(185, 572)\n",
      "(185, 1)\n",
      "X_train shape: (166, 1000)\n",
      "X_test shape: (19, 1000)\n",
      "Fitting 10 folds for each of 12 candidates, totalling 120 fits\n"
     ]
    },
    {
     "name": "stderr",
     "output_type": "stream",
     "text": [
      "[Parallel(n_jobs=1)]: Using backend SequentialBackend with 1 concurrent workers.\n",
      "[Parallel(n_jobs=1)]: Done 120 out of 120 | elapsed:   16.3s finished\n"
     ]
    },
    {
     "name": "stdout",
     "output_type": "stream",
     "text": [
      "best score: 0.6204819277108434\n",
      "Fitting 10 folds for each of 12 candidates, totalling 120 fits\n"
     ]
    },
    {
     "name": "stderr",
     "output_type": "stream",
     "text": [
      "[Parallel(n_jobs=1)]: Using backend SequentialBackend with 1 concurrent workers.\n",
      "[Parallel(n_jobs=1)]: Done 120 out of 120 | elapsed:   16.3s finished\n"
     ]
    },
    {
     "name": "stdout",
     "output_type": "stream",
     "text": [
      "best score: 0.6204819277108434\n",
      "Fitting 10 folds for each of 12 candidates, totalling 120 fits\n"
     ]
    },
    {
     "name": "stderr",
     "output_type": "stream",
     "text": [
      "[Parallel(n_jobs=1)]: Using backend SequentialBackend with 1 concurrent workers.\n",
      "[Parallel(n_jobs=1)]: Done 120 out of 120 | elapsed:   14.9s finished\n"
     ]
    },
    {
     "name": "stdout",
     "output_type": "stream",
     "text": [
      "best score: 0.6204819277108434\n",
      "Fitting 10 folds for each of 12 candidates, totalling 120 fits\n"
     ]
    },
    {
     "name": "stderr",
     "output_type": "stream",
     "text": [
      "[Parallel(n_jobs=1)]: Using backend SequentialBackend with 1 concurrent workers.\n",
      "[Parallel(n_jobs=1)]: Done 120 out of 120 | elapsed:   12.6s finished\n"
     ]
    },
    {
     "name": "stdout",
     "output_type": "stream",
     "text": [
      "best score: 0.6325301204819277\n",
      "Fitting 10 folds for each of 12 candidates, totalling 120 fits\n"
     ]
    },
    {
     "name": "stderr",
     "output_type": "stream",
     "text": [
      "[Parallel(n_jobs=1)]: Using backend SequentialBackend with 1 concurrent workers.\n",
      "[Parallel(n_jobs=1)]: Done 120 out of 120 | elapsed:   37.2s finished\n"
     ]
    },
    {
     "name": "stdout",
     "output_type": "stream",
     "text": [
      "best score: 0.6445783132530121\n",
      "Split: 1\n",
      "Split: 2\n",
      "Split: 3\n",
      "Split: 4\n",
      "Split: 5\n",
      "Split: 6\n",
      "Split: 7\n",
      "Split: 8\n",
      "Split: 9\n",
      "Split: 10\n",
      "Training Testing Accuracy for n_games=3 team=13 : 53.45% (9.46%)\n",
      "(188, 572)\n",
      "(188, 1)\n",
      "X_train shape: (169, 991)\n",
      "X_test shape: (19, 991)\n",
      "Fitting 10 folds for each of 12 candidates, totalling 120 fits\n"
     ]
    },
    {
     "name": "stderr",
     "output_type": "stream",
     "text": [
      "[Parallel(n_jobs=1)]: Using backend SequentialBackend with 1 concurrent workers.\n",
      "[Parallel(n_jobs=1)]: Done 120 out of 120 | elapsed:   16.1s finished\n"
     ]
    },
    {
     "name": "stdout",
     "output_type": "stream",
     "text": [
      "best score: 0.6153846153846154\n",
      "Fitting 10 folds for each of 12 candidates, totalling 120 fits\n"
     ]
    },
    {
     "name": "stderr",
     "output_type": "stream",
     "text": [
      "[Parallel(n_jobs=1)]: Using backend SequentialBackend with 1 concurrent workers.\n",
      "[Parallel(n_jobs=1)]: Done 120 out of 120 | elapsed:   26.5s finished\n"
     ]
    },
    {
     "name": "stdout",
     "output_type": "stream",
     "text": [
      "best score: 0.6331360946745562\n",
      "Fitting 10 folds for each of 12 candidates, totalling 120 fits\n"
     ]
    },
    {
     "name": "stderr",
     "output_type": "stream",
     "text": [
      "[Parallel(n_jobs=1)]: Using backend SequentialBackend with 1 concurrent workers.\n",
      "[Parallel(n_jobs=1)]: Done 120 out of 120 | elapsed:   14.9s finished\n"
     ]
    },
    {
     "name": "stdout",
     "output_type": "stream",
     "text": [
      "best score: 0.6331360946745562\n",
      "Fitting 10 folds for each of 12 candidates, totalling 120 fits\n"
     ]
    },
    {
     "name": "stderr",
     "output_type": "stream",
     "text": [
      "[Parallel(n_jobs=1)]: Using backend SequentialBackend with 1 concurrent workers.\n",
      "[Parallel(n_jobs=1)]: Done 120 out of 120 | elapsed:   14.7s finished\n"
     ]
    },
    {
     "name": "stdout",
     "output_type": "stream",
     "text": [
      "best score: 0.6331360946745562\n",
      "Fitting 10 folds for each of 12 candidates, totalling 120 fits\n"
     ]
    },
    {
     "name": "stderr",
     "output_type": "stream",
     "text": [
      "[Parallel(n_jobs=1)]: Using backend SequentialBackend with 1 concurrent workers.\n",
      "[Parallel(n_jobs=1)]: Done 120 out of 120 | elapsed:   17.6s finished\n"
     ]
    },
    {
     "name": "stdout",
     "output_type": "stream",
     "text": [
      "best score: 0.6331360946745562\n",
      "Split: 1\n",
      "Split: 2\n",
      "Split: 3\n",
      "Split: 4\n",
      "Split: 5\n",
      "Split: 6\n",
      "Split: 7\n",
      "Split: 8\n",
      "Split: 9\n",
      "Split: 10\n",
      "Training Testing Accuracy for n_games=3 team=14 : 60.58% (5.27%)\n",
      "(177, 572)\n",
      "(177, 1)\n",
      "X_train shape: (159, 987)\n",
      "X_test shape: (18, 987)\n",
      "Fitting 10 folds for each of 12 candidates, totalling 120 fits\n"
     ]
    },
    {
     "name": "stderr",
     "output_type": "stream",
     "text": [
      "[Parallel(n_jobs=1)]: Using backend SequentialBackend with 1 concurrent workers.\n",
      "[Parallel(n_jobs=1)]: Done 120 out of 120 | elapsed:   16.0s finished\n"
     ]
    },
    {
     "name": "stdout",
     "output_type": "stream",
     "text": [
      "best score: 0.6415094339622641\n",
      "Fitting 10 folds for each of 12 candidates, totalling 120 fits\n"
     ]
    },
    {
     "name": "stderr",
     "output_type": "stream",
     "text": [
      "[Parallel(n_jobs=1)]: Using backend SequentialBackend with 1 concurrent workers.\n",
      "[Parallel(n_jobs=1)]: Done 120 out of 120 | elapsed:   14.6s finished\n"
     ]
    },
    {
     "name": "stdout",
     "output_type": "stream",
     "text": [
      "best score: 0.6415094339622641\n",
      "Fitting 10 folds for each of 12 candidates, totalling 120 fits\n"
     ]
    },
    {
     "name": "stderr",
     "output_type": "stream",
     "text": [
      "[Parallel(n_jobs=1)]: Using backend SequentialBackend with 1 concurrent workers.\n",
      "[Parallel(n_jobs=1)]: Done 120 out of 120 | elapsed:   14.2s finished\n"
     ]
    },
    {
     "name": "stdout",
     "output_type": "stream",
     "text": [
      "best score: 0.6415094339622641\n",
      "Fitting 10 folds for each of 12 candidates, totalling 120 fits\n"
     ]
    },
    {
     "name": "stderr",
     "output_type": "stream",
     "text": [
      "[Parallel(n_jobs=1)]: Using backend SequentialBackend with 1 concurrent workers.\n",
      "[Parallel(n_jobs=1)]: Done 120 out of 120 | elapsed:   15.8s finished\n"
     ]
    },
    {
     "name": "stdout",
     "output_type": "stream",
     "text": [
      "best score: 0.6415094339622641\n",
      "Fitting 10 folds for each of 12 candidates, totalling 120 fits\n"
     ]
    },
    {
     "name": "stderr",
     "output_type": "stream",
     "text": [
      "[Parallel(n_jobs=1)]: Using backend SequentialBackend with 1 concurrent workers.\n",
      "[Parallel(n_jobs=1)]: Done 120 out of 120 | elapsed:   19.6s finished\n"
     ]
    },
    {
     "name": "stdout",
     "output_type": "stream",
     "text": [
      "best score: 0.6415094339622641\n",
      "Split: 1\n",
      "Split: 2\n",
      "Split: 3\n",
      "Split: 4\n",
      "Split: 5\n",
      "Split: 6\n",
      "Split: 7\n",
      "Split: 8\n",
      "Split: 9\n",
      "Split: 10\n",
      "Training Testing Accuracy for n_games=3 team=15 : 63.30% (2.29%)\n",
      "(193, 572)\n",
      "(193, 1)\n",
      "X_train shape: (173, 997)\n",
      "X_test shape: (20, 997)\n",
      "Fitting 10 folds for each of 12 candidates, totalling 120 fits\n"
     ]
    },
    {
     "name": "stderr",
     "output_type": "stream",
     "text": [
      "[Parallel(n_jobs=1)]: Using backend SequentialBackend with 1 concurrent workers.\n",
      "[Parallel(n_jobs=1)]: Done 120 out of 120 | elapsed:   16.2s finished\n"
     ]
    },
    {
     "name": "stdout",
     "output_type": "stream",
     "text": [
      "best score: 0.6184971098265896\n",
      "Fitting 10 folds for each of 12 candidates, totalling 120 fits\n"
     ]
    },
    {
     "name": "stderr",
     "output_type": "stream",
     "text": [
      "[Parallel(n_jobs=1)]: Using backend SequentialBackend with 1 concurrent workers.\n",
      "[Parallel(n_jobs=1)]: Done 120 out of 120 | elapsed:   13.4s finished\n"
     ]
    },
    {
     "name": "stdout",
     "output_type": "stream",
     "text": [
      "best score: 0.630057803468208\n",
      "Fitting 10 folds for each of 12 candidates, totalling 120 fits\n"
     ]
    },
    {
     "name": "stderr",
     "output_type": "stream",
     "text": [
      "[Parallel(n_jobs=1)]: Using backend SequentialBackend with 1 concurrent workers.\n",
      "[Parallel(n_jobs=1)]: Done 120 out of 120 | elapsed:   15.6s finished\n"
     ]
    },
    {
     "name": "stdout",
     "output_type": "stream",
     "text": [
      "best score: 0.6416184971098265\n",
      "Fitting 10 folds for each of 12 candidates, totalling 120 fits\n"
     ]
    },
    {
     "name": "stderr",
     "output_type": "stream",
     "text": [
      "[Parallel(n_jobs=1)]: Using backend SequentialBackend with 1 concurrent workers.\n",
      "[Parallel(n_jobs=1)]: Done 120 out of 120 | elapsed:   14.7s finished\n"
     ]
    },
    {
     "name": "stdout",
     "output_type": "stream",
     "text": [
      "best score: 0.6416184971098265\n",
      "Fitting 10 folds for each of 12 candidates, totalling 120 fits\n"
     ]
    },
    {
     "name": "stderr",
     "output_type": "stream",
     "text": [
      "[Parallel(n_jobs=1)]: Using backend SequentialBackend with 1 concurrent workers.\n",
      "[Parallel(n_jobs=1)]: Done 120 out of 120 | elapsed:   24.8s finished\n"
     ]
    },
    {
     "name": "stdout",
     "output_type": "stream",
     "text": [
      "best score: 0.6416184971098265\n",
      "Split: 1\n",
      "Split: 2\n",
      "Split: 3\n",
      "Split: 4\n",
      "Split: 5\n",
      "Split: 6\n",
      "Split: 7\n",
      "Split: 8\n",
      "Split: 9\n",
      "Split: 10\n",
      "Training Testing Accuracy for n_games=3 team=16 : 64.74% (2.37%)\n",
      "(188, 572)\n",
      "(188, 1)\n",
      "X_train shape: (169, 995)\n",
      "X_test shape: (19, 995)\n",
      "Fitting 10 folds for each of 12 candidates, totalling 120 fits\n"
     ]
    },
    {
     "name": "stderr",
     "output_type": "stream",
     "text": [
      "[Parallel(n_jobs=1)]: Using backend SequentialBackend with 1 concurrent workers.\n",
      "[Parallel(n_jobs=1)]: Done 120 out of 120 | elapsed:   15.8s finished\n"
     ]
    },
    {
     "name": "stdout",
     "output_type": "stream",
     "text": [
      "best score: 0.6390532544378699\n",
      "Fitting 10 folds for each of 12 candidates, totalling 120 fits\n"
     ]
    },
    {
     "name": "stderr",
     "output_type": "stream",
     "text": [
      "[Parallel(n_jobs=1)]: Using backend SequentialBackend with 1 concurrent workers.\n",
      "[Parallel(n_jobs=1)]: Done 120 out of 120 | elapsed:   16.2s finished\n"
     ]
    },
    {
     "name": "stdout",
     "output_type": "stream",
     "text": [
      "best score: 0.6390532544378699\n",
      "Fitting 10 folds for each of 12 candidates, totalling 120 fits\n"
     ]
    },
    {
     "name": "stderr",
     "output_type": "stream",
     "text": [
      "[Parallel(n_jobs=1)]: Using backend SequentialBackend with 1 concurrent workers.\n",
      "[Parallel(n_jobs=1)]: Done 120 out of 120 | elapsed:   13.4s finished\n"
     ]
    },
    {
     "name": "stdout",
     "output_type": "stream",
     "text": [
      "best score: 0.6390532544378699\n",
      "Fitting 10 folds for each of 12 candidates, totalling 120 fits\n"
     ]
    },
    {
     "name": "stderr",
     "output_type": "stream",
     "text": [
      "[Parallel(n_jobs=1)]: Using backend SequentialBackend with 1 concurrent workers.\n",
      "[Parallel(n_jobs=1)]: Done 120 out of 120 | elapsed:   28.8s finished\n"
     ]
    },
    {
     "name": "stdout",
     "output_type": "stream",
     "text": [
      "best score: 0.6390532544378699\n",
      "Fitting 10 folds for each of 12 candidates, totalling 120 fits\n"
     ]
    },
    {
     "name": "stderr",
     "output_type": "stream",
     "text": [
      "[Parallel(n_jobs=1)]: Using backend SequentialBackend with 1 concurrent workers.\n",
      "[Parallel(n_jobs=1)]: Done 120 out of 120 | elapsed:   29.6s finished\n"
     ]
    },
    {
     "name": "stdout",
     "output_type": "stream",
     "text": [
      "best score: 0.6390532544378699\n",
      "Split: 1\n",
      "Split: 2\n",
      "Split: 3\n",
      "Split: 4\n",
      "Split: 5\n",
      "Split: 6\n",
      "Split: 7\n",
      "Split: 8\n",
      "Split: 9\n",
      "Split: 10\n",
      "Training Testing Accuracy for n_games=3 team=17 : 63.33% (11.54%)\n",
      "(187, 572)\n",
      "(187, 1)\n",
      "X_train shape: (168, 1005)\n",
      "X_test shape: (19, 1005)\n",
      "Fitting 10 folds for each of 12 candidates, totalling 120 fits\n"
     ]
    },
    {
     "name": "stderr",
     "output_type": "stream",
     "text": [
      "[Parallel(n_jobs=1)]: Using backend SequentialBackend with 1 concurrent workers.\n",
      "[Parallel(n_jobs=1)]: Done 120 out of 120 | elapsed:   16.4s finished\n"
     ]
    },
    {
     "name": "stdout",
     "output_type": "stream",
     "text": [
      "best score: 0.5476190476190477\n",
      "Fitting 10 folds for each of 12 candidates, totalling 120 fits\n"
     ]
    },
    {
     "name": "stderr",
     "output_type": "stream",
     "text": [
      "[Parallel(n_jobs=1)]: Using backend SequentialBackend with 1 concurrent workers.\n",
      "[Parallel(n_jobs=1)]: Done 120 out of 120 | elapsed:   21.5s finished\n"
     ]
    },
    {
     "name": "stdout",
     "output_type": "stream",
     "text": [
      "best score: 0.5476190476190477\n",
      "Fitting 10 folds for each of 12 candidates, totalling 120 fits\n"
     ]
    },
    {
     "name": "stderr",
     "output_type": "stream",
     "text": [
      "[Parallel(n_jobs=1)]: Using backend SequentialBackend with 1 concurrent workers.\n",
      "[Parallel(n_jobs=1)]: Done 120 out of 120 | elapsed:   32.2s finished\n"
     ]
    },
    {
     "name": "stdout",
     "output_type": "stream",
     "text": [
      "best score: 0.5476190476190477\n",
      "Fitting 10 folds for each of 12 candidates, totalling 120 fits\n"
     ]
    },
    {
     "name": "stderr",
     "output_type": "stream",
     "text": [
      "[Parallel(n_jobs=1)]: Using backend SequentialBackend with 1 concurrent workers.\n",
      "[Parallel(n_jobs=1)]: Done 120 out of 120 | elapsed:   24.6s finished\n"
     ]
    },
    {
     "name": "stdout",
     "output_type": "stream",
     "text": [
      "best score: 0.5476190476190477\n",
      "Fitting 10 folds for each of 12 candidates, totalling 120 fits\n"
     ]
    },
    {
     "name": "stderr",
     "output_type": "stream",
     "text": [
      "[Parallel(n_jobs=1)]: Using backend SequentialBackend with 1 concurrent workers.\n",
      "[Parallel(n_jobs=1)]: Done 120 out of 120 | elapsed:   23.7s finished\n"
     ]
    },
    {
     "name": "stdout",
     "output_type": "stream",
     "text": [
      "best score: 0.5476190476190477\n",
      "Split: 1\n",
      "Split: 2\n",
      "Split: 3\n",
      "Split: 4\n",
      "Split: 5\n",
      "Split: 6\n",
      "Split: 7\n",
      "Split: 8\n",
      "Split: 9\n",
      "Split: 10\n",
      "Training Testing Accuracy for n_games=3 team=18 : 53.63% (12.69%)\n",
      "Accuracy for Team Models for n_games= 3 : 60.66% (6.41%)\n",
      "(182, 758)\n",
      "(182, 1)\n",
      "X_train shape: (163, 1299)\n",
      "X_test shape: (19, 1299)\n",
      "Fitting 10 folds for each of 12 candidates, totalling 120 fits\n"
     ]
    },
    {
     "name": "stderr",
     "output_type": "stream",
     "text": [
      "[Parallel(n_jobs=1)]: Using backend SequentialBackend with 1 concurrent workers.\n",
      "[Parallel(n_jobs=1)]: Done 120 out of 120 | elapsed:   20.1s finished\n"
     ]
    },
    {
     "name": "stdout",
     "output_type": "stream",
     "text": [
      "best score: 0.5644171779141104\n",
      "Fitting 10 folds for each of 12 candidates, totalling 120 fits\n"
     ]
    },
    {
     "name": "stderr",
     "output_type": "stream",
     "text": [
      "[Parallel(n_jobs=1)]: Using backend SequentialBackend with 1 concurrent workers.\n",
      "[Parallel(n_jobs=1)]: Done 120 out of 120 | elapsed:   26.7s finished\n"
     ]
    },
    {
     "name": "stdout",
     "output_type": "stream",
     "text": [
      "best score: 0.5644171779141104\n",
      "Fitting 10 folds for each of 12 candidates, totalling 120 fits\n"
     ]
    },
    {
     "name": "stderr",
     "output_type": "stream",
     "text": [
      "[Parallel(n_jobs=1)]: Using backend SequentialBackend with 1 concurrent workers.\n",
      "[Parallel(n_jobs=1)]: Done 120 out of 120 | elapsed:   33.8s finished\n"
     ]
    },
    {
     "name": "stdout",
     "output_type": "stream",
     "text": [
      "best score: 0.5705521472392638\n",
      "Fitting 10 folds for each of 12 candidates, totalling 120 fits\n"
     ]
    },
    {
     "name": "stderr",
     "output_type": "stream",
     "text": [
      "[Parallel(n_jobs=1)]: Using backend SequentialBackend with 1 concurrent workers.\n",
      "[Parallel(n_jobs=1)]: Done 120 out of 120 | elapsed:   26.6s finished\n"
     ]
    },
    {
     "name": "stdout",
     "output_type": "stream",
     "text": [
      "best score: 0.6319018404907976\n",
      "Fitting 10 folds for each of 12 candidates, totalling 120 fits\n"
     ]
    },
    {
     "name": "stderr",
     "output_type": "stream",
     "text": [
      "[Parallel(n_jobs=1)]: Using backend SequentialBackend with 1 concurrent workers.\n",
      "[Parallel(n_jobs=1)]: Done 120 out of 120 | elapsed:   14.8s finished\n"
     ]
    },
    {
     "name": "stdout",
     "output_type": "stream",
     "text": [
      "best score: 0.6319018404907976\n",
      "Split: 1\n",
      "Split: 2\n",
      "Split: 3\n",
      "Split: 4\n",
      "Split: 5\n",
      "Split: 6\n",
      "Split: 7\n",
      "Split: 8\n",
      "Split: 9\n",
      "Split: 10\n",
      "Training Testing Accuracy for n_games=4 team=1 : 58.30% (6.60%)\n",
      "(180, 758)\n",
      "(180, 1)\n",
      "X_train shape: (162, 1285)\n",
      "X_test shape: (18, 1285)\n",
      "Fitting 10 folds for each of 12 candidates, totalling 120 fits\n"
     ]
    },
    {
     "name": "stderr",
     "output_type": "stream",
     "text": [
      "[Parallel(n_jobs=1)]: Using backend SequentialBackend with 1 concurrent workers.\n",
      "[Parallel(n_jobs=1)]: Done 120 out of 120 | elapsed:   19.5s finished\n"
     ]
    },
    {
     "name": "stdout",
     "output_type": "stream",
     "text": [
      "best score: 0.6666666666666666\n",
      "Fitting 10 folds for each of 12 candidates, totalling 120 fits\n"
     ]
    },
    {
     "name": "stderr",
     "output_type": "stream",
     "text": [
      "[Parallel(n_jobs=1)]: Using backend SequentialBackend with 1 concurrent workers.\n",
      "[Parallel(n_jobs=1)]: Done 120 out of 120 | elapsed:   38.9s finished\n"
     ]
    },
    {
     "name": "stdout",
     "output_type": "stream",
     "text": [
      "best score: 0.6666666666666666\n",
      "Fitting 10 folds for each of 12 candidates, totalling 120 fits\n"
     ]
    },
    {
     "name": "stderr",
     "output_type": "stream",
     "text": [
      "[Parallel(n_jobs=1)]: Using backend SequentialBackend with 1 concurrent workers.\n",
      "[Parallel(n_jobs=1)]: Done 120 out of 120 | elapsed:   29.5s finished\n"
     ]
    },
    {
     "name": "stdout",
     "output_type": "stream",
     "text": [
      "best score: 0.6790123456790124\n",
      "Fitting 10 folds for each of 12 candidates, totalling 120 fits\n"
     ]
    },
    {
     "name": "stderr",
     "output_type": "stream",
     "text": [
      "[Parallel(n_jobs=1)]: Using backend SequentialBackend with 1 concurrent workers.\n",
      "[Parallel(n_jobs=1)]: Done 120 out of 120 | elapsed:   24.3s finished\n"
     ]
    },
    {
     "name": "stdout",
     "output_type": "stream",
     "text": [
      "best score: 0.6790123456790124\n",
      "Fitting 10 folds for each of 12 candidates, totalling 120 fits\n"
     ]
    },
    {
     "name": "stderr",
     "output_type": "stream",
     "text": [
      "[Parallel(n_jobs=1)]: Using backend SequentialBackend with 1 concurrent workers.\n",
      "[Parallel(n_jobs=1)]: Done 120 out of 120 | elapsed:   18.2s finished\n"
     ]
    },
    {
     "name": "stdout",
     "output_type": "stream",
     "text": [
      "best score: 0.6790123456790124\n",
      "Split: 1\n",
      "Split: 2\n",
      "Split: 3\n",
      "Split: 4\n",
      "Split: 5\n",
      "Split: 6\n",
      "Split: 7\n",
      "Split: 8\n",
      "Split: 9\n",
      "Split: 10\n",
      "Training Testing Accuracy for n_games=4 team=2 : 64.44% (6.19%)\n",
      "(178, 758)\n",
      "(178, 1)\n",
      "X_train shape: (160, 1285)\n",
      "X_test shape: (18, 1285)\n",
      "Fitting 10 folds for each of 12 candidates, totalling 120 fits\n"
     ]
    },
    {
     "name": "stderr",
     "output_type": "stream",
     "text": [
      "[Parallel(n_jobs=1)]: Using backend SequentialBackend with 1 concurrent workers.\n",
      "[Parallel(n_jobs=1)]: Done 120 out of 120 | elapsed:   19.6s finished\n"
     ]
    },
    {
     "name": "stdout",
     "output_type": "stream",
     "text": [
      "best score: 0.675\n",
      "Fitting 10 folds for each of 12 candidates, totalling 120 fits\n"
     ]
    },
    {
     "name": "stderr",
     "output_type": "stream",
     "text": [
      "[Parallel(n_jobs=1)]: Using backend SequentialBackend with 1 concurrent workers.\n",
      "[Parallel(n_jobs=1)]: Done 120 out of 120 | elapsed:   15.9s finished\n"
     ]
    },
    {
     "name": "stdout",
     "output_type": "stream",
     "text": [
      "best score: 0.675\n",
      "Fitting 10 folds for each of 12 candidates, totalling 120 fits\n"
     ]
    },
    {
     "name": "stderr",
     "output_type": "stream",
     "text": [
      "[Parallel(n_jobs=1)]: Using backend SequentialBackend with 1 concurrent workers.\n",
      "[Parallel(n_jobs=1)]: Done 120 out of 120 | elapsed:   14.2s finished\n"
     ]
    },
    {
     "name": "stdout",
     "output_type": "stream",
     "text": [
      "best score: 0.675\n",
      "Fitting 10 folds for each of 12 candidates, totalling 120 fits\n"
     ]
    },
    {
     "name": "stderr",
     "output_type": "stream",
     "text": [
      "[Parallel(n_jobs=1)]: Using backend SequentialBackend with 1 concurrent workers.\n",
      "[Parallel(n_jobs=1)]: Done 120 out of 120 | elapsed:   16.9s finished\n"
     ]
    },
    {
     "name": "stdout",
     "output_type": "stream",
     "text": [
      "best score: 0.675\n",
      "Fitting 10 folds for each of 12 candidates, totalling 120 fits\n"
     ]
    },
    {
     "name": "stderr",
     "output_type": "stream",
     "text": [
      "[Parallel(n_jobs=1)]: Using backend SequentialBackend with 1 concurrent workers.\n",
      "[Parallel(n_jobs=1)]: Done 120 out of 120 | elapsed:   14.8s finished\n"
     ]
    },
    {
     "name": "stdout",
     "output_type": "stream",
     "text": [
      "best score: 0.675\n",
      "Split: 1\n",
      "Split: 2\n",
      "Split: 3\n",
      "Split: 4\n",
      "Split: 5\n",
      "Split: 6\n",
      "Split: 7\n",
      "Split: 8\n",
      "Split: 9\n",
      "Split: 10\n",
      "Training Testing Accuracy for n_games=4 team=3 : 68.56% (2.38%)\n",
      "(183, 758)\n",
      "(183, 1)\n",
      "X_train shape: (164, 1286)\n",
      "X_test shape: (19, 1286)\n",
      "Fitting 10 folds for each of 12 candidates, totalling 120 fits\n"
     ]
    },
    {
     "name": "stderr",
     "output_type": "stream",
     "text": [
      "[Parallel(n_jobs=1)]: Using backend SequentialBackend with 1 concurrent workers.\n",
      "[Parallel(n_jobs=1)]: Done 120 out of 120 | elapsed:   19.8s finished\n"
     ]
    },
    {
     "name": "stdout",
     "output_type": "stream",
     "text": [
      "best score: 0.5792682926829268\n",
      "Fitting 10 folds for each of 12 candidates, totalling 120 fits\n"
     ]
    },
    {
     "name": "stderr",
     "output_type": "stream",
     "text": [
      "[Parallel(n_jobs=1)]: Using backend SequentialBackend with 1 concurrent workers.\n",
      "[Parallel(n_jobs=1)]: Done 120 out of 120 | elapsed:   16.3s finished\n"
     ]
    },
    {
     "name": "stdout",
     "output_type": "stream",
     "text": [
      "best score: 0.5792682926829268\n",
      "Fitting 10 folds for each of 12 candidates, totalling 120 fits\n"
     ]
    },
    {
     "name": "stderr",
     "output_type": "stream",
     "text": [
      "[Parallel(n_jobs=1)]: Using backend SequentialBackend with 1 concurrent workers.\n",
      "[Parallel(n_jobs=1)]: Done 120 out of 120 | elapsed:   22.9s finished\n"
     ]
    },
    {
     "name": "stdout",
     "output_type": "stream",
     "text": [
      "best score: 0.5792682926829268\n",
      "Fitting 10 folds for each of 12 candidates, totalling 120 fits\n"
     ]
    },
    {
     "name": "stderr",
     "output_type": "stream",
     "text": [
      "[Parallel(n_jobs=1)]: Using backend SequentialBackend with 1 concurrent workers.\n",
      "[Parallel(n_jobs=1)]: Done 120 out of 120 | elapsed:   50.6s finished\n"
     ]
    },
    {
     "name": "stdout",
     "output_type": "stream",
     "text": [
      "best score: 0.6036585365853658\n",
      "Fitting 10 folds for each of 12 candidates, totalling 120 fits\n"
     ]
    },
    {
     "name": "stderr",
     "output_type": "stream",
     "text": [
      "[Parallel(n_jobs=1)]: Using backend SequentialBackend with 1 concurrent workers.\n",
      "[Parallel(n_jobs=1)]: Done 120 out of 120 | elapsed:  1.6min finished\n"
     ]
    },
    {
     "name": "stdout",
     "output_type": "stream",
     "text": [
      "best score: 0.6097560975609756\n",
      "Split: 1\n",
      "Split: 2\n",
      "Split: 3\n",
      "Split: 4\n",
      "Split: 5\n",
      "Split: 6\n",
      "Split: 7\n",
      "Split: 8\n",
      "Split: 9\n",
      "Split: 10\n",
      "Training Testing Accuracy for n_games=4 team=4 : 49.71% (6.39%)\n",
      "(180, 758)\n",
      "(180, 1)\n",
      "X_train shape: (162, 1278)\n",
      "X_test shape: (18, 1278)\n",
      "Fitting 10 folds for each of 12 candidates, totalling 120 fits\n"
     ]
    },
    {
     "name": "stderr",
     "output_type": "stream",
     "text": [
      "[Parallel(n_jobs=1)]: Using backend SequentialBackend with 1 concurrent workers.\n",
      "[Parallel(n_jobs=1)]: Done 120 out of 120 | elapsed:   19.5s finished\n"
     ]
    },
    {
     "name": "stdout",
     "output_type": "stream",
     "text": [
      "best score: 0.5740740740740741\n",
      "Fitting 10 folds for each of 12 candidates, totalling 120 fits\n"
     ]
    },
    {
     "name": "stderr",
     "output_type": "stream",
     "text": [
      "[Parallel(n_jobs=1)]: Using backend SequentialBackend with 1 concurrent workers.\n",
      "[Parallel(n_jobs=1)]: Done 120 out of 120 | elapsed:   16.0s finished\n"
     ]
    },
    {
     "name": "stdout",
     "output_type": "stream",
     "text": [
      "best score: 0.5925925925925926\n",
      "Fitting 10 folds for each of 12 candidates, totalling 120 fits\n"
     ]
    },
    {
     "name": "stderr",
     "output_type": "stream",
     "text": [
      "[Parallel(n_jobs=1)]: Using backend SequentialBackend with 1 concurrent workers.\n",
      "[Parallel(n_jobs=1)]: Done 120 out of 120 | elapsed:   15.0s finished\n"
     ]
    },
    {
     "name": "stdout",
     "output_type": "stream",
     "text": [
      "best score: 0.5925925925925926\n",
      "Fitting 10 folds for each of 12 candidates, totalling 120 fits\n"
     ]
    },
    {
     "name": "stderr",
     "output_type": "stream",
     "text": [
      "[Parallel(n_jobs=1)]: Using backend SequentialBackend with 1 concurrent workers.\n",
      "[Parallel(n_jobs=1)]: Done 120 out of 120 | elapsed:   15.9s finished\n"
     ]
    },
    {
     "name": "stdout",
     "output_type": "stream",
     "text": [
      "best score: 0.5925925925925926\n",
      "Fitting 10 folds for each of 12 candidates, totalling 120 fits\n"
     ]
    },
    {
     "name": "stderr",
     "output_type": "stream",
     "text": [
      "[Parallel(n_jobs=1)]: Using backend SequentialBackend with 1 concurrent workers.\n",
      "[Parallel(n_jobs=1)]: Done 120 out of 120 | elapsed:   16.5s finished\n"
     ]
    },
    {
     "name": "stdout",
     "output_type": "stream",
     "text": [
      "best score: 0.5925925925925926\n",
      "Split: 1\n",
      "Split: 2\n",
      "Split: 3\n",
      "Split: 4\n",
      "Split: 5\n",
      "Split: 6\n",
      "Split: 7\n",
      "Split: 8\n",
      "Split: 9\n",
      "Split: 10\n",
      "Training Testing Accuracy for n_games=4 team=5 : 53.89% (11.67%)\n",
      "(183, 758)\n",
      "(183, 1)\n",
      "X_train shape: (164, 1297)\n",
      "X_test shape: (19, 1297)\n",
      "Fitting 10 folds for each of 12 candidates, totalling 120 fits\n"
     ]
    },
    {
     "name": "stderr",
     "output_type": "stream",
     "text": [
      "[Parallel(n_jobs=1)]: Using backend SequentialBackend with 1 concurrent workers.\n",
      "[Parallel(n_jobs=1)]: Done 120 out of 120 | elapsed:   20.0s finished\n"
     ]
    },
    {
     "name": "stdout",
     "output_type": "stream",
     "text": [
      "best score: 0.5670731707317073\n",
      "Fitting 10 folds for each of 12 candidates, totalling 120 fits\n"
     ]
    },
    {
     "name": "stderr",
     "output_type": "stream",
     "text": [
      "[Parallel(n_jobs=1)]: Using backend SequentialBackend with 1 concurrent workers.\n",
      "[Parallel(n_jobs=1)]: Done 120 out of 120 | elapsed:   29.9s finished\n"
     ]
    },
    {
     "name": "stdout",
     "output_type": "stream",
     "text": [
      "best score: 0.573170731707317\n",
      "Fitting 10 folds for each of 12 candidates, totalling 120 fits\n"
     ]
    },
    {
     "name": "stderr",
     "output_type": "stream",
     "text": [
      "[Parallel(n_jobs=1)]: Using backend SequentialBackend with 1 concurrent workers.\n",
      "[Parallel(n_jobs=1)]: Done 120 out of 120 | elapsed:   20.5s finished\n"
     ]
    },
    {
     "name": "stdout",
     "output_type": "stream",
     "text": [
      "best score: 0.573170731707317\n",
      "Fitting 10 folds for each of 12 candidates, totalling 120 fits\n"
     ]
    },
    {
     "name": "stderr",
     "output_type": "stream",
     "text": [
      "[Parallel(n_jobs=1)]: Using backend SequentialBackend with 1 concurrent workers.\n",
      "[Parallel(n_jobs=1)]: Done 120 out of 120 | elapsed:   23.7s finished\n"
     ]
    },
    {
     "name": "stdout",
     "output_type": "stream",
     "text": [
      "best score: 0.573170731707317\n",
      "Fitting 10 folds for each of 12 candidates, totalling 120 fits\n"
     ]
    },
    {
     "name": "stderr",
     "output_type": "stream",
     "text": [
      "[Parallel(n_jobs=1)]: Using backend SequentialBackend with 1 concurrent workers.\n",
      "[Parallel(n_jobs=1)]: Done 120 out of 120 | elapsed:   22.2s finished\n"
     ]
    },
    {
     "name": "stdout",
     "output_type": "stream",
     "text": [
      "best score: 0.573170731707317\n",
      "Split: 1\n",
      "Split: 2\n",
      "Split: 3\n",
      "Split: 4\n",
      "Split: 5\n",
      "Split: 6\n",
      "Split: 7\n",
      "Split: 8\n",
      "Split: 9\n",
      "Split: 10\n",
      "Training Testing Accuracy for n_games=4 team=6 : 54.09% (8.89%)\n",
      "(192, 758)\n",
      "(192, 1)\n",
      "X_train shape: (172, 1287)\n",
      "X_test shape: (20, 1287)\n",
      "Fitting 10 folds for each of 12 candidates, totalling 120 fits\n"
     ]
    },
    {
     "name": "stderr",
     "output_type": "stream",
     "text": [
      "[Parallel(n_jobs=1)]: Using backend SequentialBackend with 1 concurrent workers.\n",
      "[Parallel(n_jobs=1)]: Done 120 out of 120 | elapsed:   20.0s finished\n"
     ]
    },
    {
     "name": "stdout",
     "output_type": "stream",
     "text": [
      "best score: 0.6802325581395349\n",
      "Fitting 10 folds for each of 12 candidates, totalling 120 fits\n"
     ]
    },
    {
     "name": "stderr",
     "output_type": "stream",
     "text": [
      "[Parallel(n_jobs=1)]: Using backend SequentialBackend with 1 concurrent workers.\n",
      "[Parallel(n_jobs=1)]: Done 120 out of 120 | elapsed:   16.9s finished\n"
     ]
    },
    {
     "name": "stdout",
     "output_type": "stream",
     "text": [
      "best score: 0.6802325581395349\n",
      "Fitting 10 folds for each of 12 candidates, totalling 120 fits\n"
     ]
    },
    {
     "name": "stderr",
     "output_type": "stream",
     "text": [
      "[Parallel(n_jobs=1)]: Using backend SequentialBackend with 1 concurrent workers.\n",
      "[Parallel(n_jobs=1)]: Done 120 out of 120 | elapsed:   43.1s finished\n"
     ]
    },
    {
     "name": "stdout",
     "output_type": "stream",
     "text": [
      "best score: 0.6802325581395349\n",
      "Fitting 10 folds for each of 12 candidates, totalling 120 fits\n"
     ]
    },
    {
     "name": "stderr",
     "output_type": "stream",
     "text": [
      "[Parallel(n_jobs=1)]: Using backend SequentialBackend with 1 concurrent workers.\n",
      "[Parallel(n_jobs=1)]: Done 120 out of 120 | elapsed:   21.2s finished\n"
     ]
    },
    {
     "name": "stdout",
     "output_type": "stream",
     "text": [
      "best score: 0.6802325581395349\n",
      "Fitting 10 folds for each of 12 candidates, totalling 120 fits\n"
     ]
    },
    {
     "name": "stderr",
     "output_type": "stream",
     "text": [
      "[Parallel(n_jobs=1)]: Using backend SequentialBackend with 1 concurrent workers.\n",
      "[Parallel(n_jobs=1)]: Done 120 out of 120 | elapsed:   18.0s finished\n"
     ]
    },
    {
     "name": "stdout",
     "output_type": "stream",
     "text": [
      "best score: 0.6802325581395349\n",
      "Split: 1\n",
      "Split: 2\n",
      "Split: 3\n",
      "Split: 4\n",
      "Split: 5\n",
      "Split: 6\n",
      "Split: 7\n",
      "Split: 8\n",
      "Split: 9\n",
      "Split: 10\n",
      "Training Testing Accuracy for n_games=4 team=7 : 63.50% (4.93%)\n",
      "(176, 758)\n",
      "(176, 1)\n",
      "X_train shape: (158, 1293)\n",
      "X_test shape: (18, 1293)\n",
      "Fitting 10 folds for each of 12 candidates, totalling 120 fits\n"
     ]
    },
    {
     "name": "stderr",
     "output_type": "stream",
     "text": [
      "[Parallel(n_jobs=1)]: Using backend SequentialBackend with 1 concurrent workers.\n",
      "[Parallel(n_jobs=1)]: Done 120 out of 120 | elapsed:   19.8s finished\n"
     ]
    },
    {
     "name": "stdout",
     "output_type": "stream",
     "text": [
      "best score: 0.7151898734177216\n",
      "Fitting 10 folds for each of 12 candidates, totalling 120 fits\n"
     ]
    },
    {
     "name": "stderr",
     "output_type": "stream",
     "text": [
      "[Parallel(n_jobs=1)]: Using backend SequentialBackend with 1 concurrent workers.\n",
      "[Parallel(n_jobs=1)]: Done 120 out of 120 | elapsed:   25.8s finished\n"
     ]
    },
    {
     "name": "stdout",
     "output_type": "stream",
     "text": [
      "best score: 0.7151898734177216\n",
      "Fitting 10 folds for each of 12 candidates, totalling 120 fits\n"
     ]
    },
    {
     "name": "stderr",
     "output_type": "stream",
     "text": [
      "[Parallel(n_jobs=1)]: Using backend SequentialBackend with 1 concurrent workers.\n",
      "[Parallel(n_jobs=1)]: Done 120 out of 120 | elapsed:   16.5s finished\n"
     ]
    },
    {
     "name": "stdout",
     "output_type": "stream",
     "text": [
      "best score: 0.7151898734177216\n",
      "Fitting 10 folds for each of 12 candidates, totalling 120 fits\n"
     ]
    },
    {
     "name": "stderr",
     "output_type": "stream",
     "text": [
      "[Parallel(n_jobs=1)]: Using backend SequentialBackend with 1 concurrent workers.\n",
      "[Parallel(n_jobs=1)]: Done 120 out of 120 | elapsed:   17.2s finished\n"
     ]
    },
    {
     "name": "stdout",
     "output_type": "stream",
     "text": [
      "best score: 0.7151898734177216\n",
      "Fitting 10 folds for each of 12 candidates, totalling 120 fits\n"
     ]
    },
    {
     "name": "stderr",
     "output_type": "stream",
     "text": [
      "[Parallel(n_jobs=1)]: Using backend SequentialBackend with 1 concurrent workers.\n",
      "[Parallel(n_jobs=1)]: Done 120 out of 120 | elapsed:   22.7s finished\n"
     ]
    },
    {
     "name": "stdout",
     "output_type": "stream",
     "text": [
      "best score: 0.7151898734177216\n",
      "Split: 1\n",
      "Split: 2\n",
      "Split: 3\n",
      "Split: 4\n",
      "Split: 5\n",
      "Split: 6\n",
      "Split: 7\n",
      "Split: 8\n",
      "Split: 9\n",
      "Split: 10\n",
      "Training Testing Accuracy for n_games=4 team=8 : 72.19% (4.59%)\n",
      "(189, 758)\n",
      "(189, 1)\n",
      "X_train shape: (170, 1300)\n",
      "X_test shape: (19, 1300)\n",
      "Fitting 10 folds for each of 12 candidates, totalling 120 fits\n"
     ]
    },
    {
     "name": "stderr",
     "output_type": "stream",
     "text": [
      "[Parallel(n_jobs=1)]: Using backend SequentialBackend with 1 concurrent workers.\n",
      "[Parallel(n_jobs=1)]: Done 120 out of 120 | elapsed:   20.1s finished\n"
     ]
    },
    {
     "name": "stdout",
     "output_type": "stream",
     "text": [
      "best score: 0.5941176470588235\n",
      "Fitting 10 folds for each of 12 candidates, totalling 120 fits\n"
     ]
    },
    {
     "name": "stderr",
     "output_type": "stream",
     "text": [
      "[Parallel(n_jobs=1)]: Using backend SequentialBackend with 1 concurrent workers.\n",
      "[Parallel(n_jobs=1)]: Done 120 out of 120 | elapsed:   16.3s finished\n"
     ]
    },
    {
     "name": "stdout",
     "output_type": "stream",
     "text": [
      "best score: 0.5941176470588235\n",
      "Fitting 10 folds for each of 12 candidates, totalling 120 fits\n"
     ]
    },
    {
     "name": "stderr",
     "output_type": "stream",
     "text": [
      "[Parallel(n_jobs=1)]: Using backend SequentialBackend with 1 concurrent workers.\n",
      "[Parallel(n_jobs=1)]: Done 120 out of 120 | elapsed:   22.3s finished\n"
     ]
    },
    {
     "name": "stdout",
     "output_type": "stream",
     "text": [
      "best score: 0.6058823529411764\n",
      "Fitting 10 folds for each of 12 candidates, totalling 120 fits\n"
     ]
    },
    {
     "name": "stderr",
     "output_type": "stream",
     "text": [
      "[Parallel(n_jobs=1)]: Using backend SequentialBackend with 1 concurrent workers.\n",
      "[Parallel(n_jobs=1)]: Done 120 out of 120 | elapsed:   21.0s finished\n"
     ]
    },
    {
     "name": "stdout",
     "output_type": "stream",
     "text": [
      "best score: 0.6058823529411764\n",
      "Fitting 10 folds for each of 12 candidates, totalling 120 fits\n"
     ]
    },
    {
     "name": "stderr",
     "output_type": "stream",
     "text": [
      "[Parallel(n_jobs=1)]: Using backend SequentialBackend with 1 concurrent workers.\n",
      "[Parallel(n_jobs=1)]: Done 120 out of 120 | elapsed:   18.0s finished\n"
     ]
    },
    {
     "name": "stdout",
     "output_type": "stream",
     "text": [
      "best score: 0.6058823529411764\n",
      "Split: 1\n",
      "Split: 2\n",
      "Split: 3\n",
      "Split: 4\n",
      "Split: 5\n",
      "Split: 6\n",
      "Split: 7\n",
      "Split: 8\n",
      "Split: 9\n",
      "Split: 10\n",
      "Training Testing Accuracy for n_games=4 team=9 : 60.32% (10.29%)\n",
      "(190, 758)\n",
      "(190, 1)\n",
      "X_train shape: (171, 1293)\n",
      "X_test shape: (19, 1293)\n",
      "Fitting 10 folds for each of 12 candidates, totalling 120 fits\n"
     ]
    },
    {
     "name": "stderr",
     "output_type": "stream",
     "text": [
      "[Parallel(n_jobs=1)]: Using backend SequentialBackend with 1 concurrent workers.\n",
      "[Parallel(n_jobs=1)]: Done 120 out of 120 | elapsed:   19.8s finished\n"
     ]
    },
    {
     "name": "stdout",
     "output_type": "stream",
     "text": [
      "best score: 0.6491228070175439\n",
      "Fitting 10 folds for each of 12 candidates, totalling 120 fits\n"
     ]
    },
    {
     "name": "stderr",
     "output_type": "stream",
     "text": [
      "[Parallel(n_jobs=1)]: Using backend SequentialBackend with 1 concurrent workers.\n",
      "[Parallel(n_jobs=1)]: Done 120 out of 120 | elapsed:   23.2s finished\n"
     ]
    },
    {
     "name": "stdout",
     "output_type": "stream",
     "text": [
      "best score: 0.6491228070175439\n",
      "Fitting 10 folds for each of 12 candidates, totalling 120 fits\n"
     ]
    },
    {
     "name": "stderr",
     "output_type": "stream",
     "text": [
      "[Parallel(n_jobs=1)]: Using backend SequentialBackend with 1 concurrent workers.\n",
      "[Parallel(n_jobs=1)]: Done 120 out of 120 | elapsed:   16.3s finished\n"
     ]
    },
    {
     "name": "stdout",
     "output_type": "stream",
     "text": [
      "best score: 0.6608187134502924\n",
      "Fitting 10 folds for each of 12 candidates, totalling 120 fits\n"
     ]
    },
    {
     "name": "stderr",
     "output_type": "stream",
     "text": [
      "[Parallel(n_jobs=1)]: Using backend SequentialBackend with 1 concurrent workers.\n",
      "[Parallel(n_jobs=1)]: Done 120 out of 120 | elapsed:   17.1s finished\n"
     ]
    },
    {
     "name": "stdout",
     "output_type": "stream",
     "text": [
      "best score: 0.6608187134502924\n",
      "Fitting 10 folds for each of 12 candidates, totalling 120 fits\n"
     ]
    },
    {
     "name": "stderr",
     "output_type": "stream",
     "text": [
      "[Parallel(n_jobs=1)]: Using backend SequentialBackend with 1 concurrent workers.\n",
      "[Parallel(n_jobs=1)]: Done 120 out of 120 | elapsed:   13.2s finished\n"
     ]
    },
    {
     "name": "stdout",
     "output_type": "stream",
     "text": [
      "best score: 0.6608187134502924\n",
      "Split: 1\n",
      "Split: 2\n",
      "Split: 3\n",
      "Split: 4\n",
      "Split: 5\n",
      "Split: 6\n",
      "Split: 7\n",
      "Split: 8\n",
      "Split: 9\n",
      "Split: 10\n",
      "Training Testing Accuracy for n_games=4 team=10 : 66.32% (4.82%)\n",
      "(182, 758)\n",
      "(182, 1)\n",
      "X_train shape: (163, 1296)\n",
      "X_test shape: (19, 1296)\n",
      "Fitting 10 folds for each of 12 candidates, totalling 120 fits\n"
     ]
    },
    {
     "name": "stderr",
     "output_type": "stream",
     "text": [
      "[Parallel(n_jobs=1)]: Using backend SequentialBackend with 1 concurrent workers.\n",
      "[Parallel(n_jobs=1)]: Done 120 out of 120 | elapsed:   19.8s finished\n"
     ]
    },
    {
     "name": "stdout",
     "output_type": "stream",
     "text": [
      "best score: 0.6134969325153374\n",
      "Fitting 10 folds for each of 12 candidates, totalling 120 fits\n"
     ]
    },
    {
     "name": "stderr",
     "output_type": "stream",
     "text": [
      "[Parallel(n_jobs=1)]: Using backend SequentialBackend with 1 concurrent workers.\n",
      "[Parallel(n_jobs=1)]: Done 120 out of 120 | elapsed:   22.0s finished\n"
     ]
    },
    {
     "name": "stdout",
     "output_type": "stream",
     "text": [
      "best score: 0.6134969325153374\n",
      "Fitting 10 folds for each of 12 candidates, totalling 120 fits\n"
     ]
    },
    {
     "name": "stderr",
     "output_type": "stream",
     "text": [
      "[Parallel(n_jobs=1)]: Using backend SequentialBackend with 1 concurrent workers.\n",
      "[Parallel(n_jobs=1)]: Done 120 out of 120 | elapsed:   16.9s finished\n"
     ]
    },
    {
     "name": "stdout",
     "output_type": "stream",
     "text": [
      "best score: 0.6134969325153374\n",
      "Fitting 10 folds for each of 12 candidates, totalling 120 fits\n"
     ]
    },
    {
     "name": "stderr",
     "output_type": "stream",
     "text": [
      "[Parallel(n_jobs=1)]: Using backend SequentialBackend with 1 concurrent workers.\n",
      "[Parallel(n_jobs=1)]: Done 120 out of 120 | elapsed:   17.8s finished\n"
     ]
    },
    {
     "name": "stdout",
     "output_type": "stream",
     "text": [
      "best score: 0.6134969325153374\n",
      "Fitting 10 folds for each of 12 candidates, totalling 120 fits\n"
     ]
    },
    {
     "name": "stderr",
     "output_type": "stream",
     "text": [
      "[Parallel(n_jobs=1)]: Using backend SequentialBackend with 1 concurrent workers.\n",
      "[Parallel(n_jobs=1)]: Done 120 out of 120 | elapsed:   19.2s finished\n"
     ]
    },
    {
     "name": "stdout",
     "output_type": "stream",
     "text": [
      "best score: 0.6503067484662577\n",
      "Split: 1\n",
      "Split: 2\n",
      "Split: 3\n",
      "Split: 4\n",
      "Split: 5\n",
      "Split: 6\n",
      "Split: 7\n",
      "Split: 8\n",
      "Split: 9\n",
      "Split: 10\n",
      "Training Testing Accuracy for n_games=4 team=11 : 62.08% (12.01%)\n",
      "(183, 758)\n",
      "(183, 1)\n",
      "X_train shape: (164, 1289)\n",
      "X_test shape: (19, 1289)\n",
      "Fitting 10 folds for each of 12 candidates, totalling 120 fits\n"
     ]
    },
    {
     "name": "stderr",
     "output_type": "stream",
     "text": [
      "[Parallel(n_jobs=1)]: Using backend SequentialBackend with 1 concurrent workers.\n",
      "[Parallel(n_jobs=1)]: Done 120 out of 120 | elapsed:   20.1s finished\n"
     ]
    },
    {
     "name": "stdout",
     "output_type": "stream",
     "text": [
      "best score: 0.5670731707317073\n",
      "Fitting 10 folds for each of 12 candidates, totalling 120 fits\n"
     ]
    },
    {
     "name": "stderr",
     "output_type": "stream",
     "text": [
      "[Parallel(n_jobs=1)]: Using backend SequentialBackend with 1 concurrent workers.\n",
      "[Parallel(n_jobs=1)]: Done 120 out of 120 | elapsed:   17.2s finished\n"
     ]
    },
    {
     "name": "stdout",
     "output_type": "stream",
     "text": [
      "best score: 0.5670731707317073\n",
      "Fitting 10 folds for each of 12 candidates, totalling 120 fits\n"
     ]
    },
    {
     "name": "stderr",
     "output_type": "stream",
     "text": [
      "[Parallel(n_jobs=1)]: Using backend SequentialBackend with 1 concurrent workers.\n",
      "[Parallel(n_jobs=1)]: Done 120 out of 120 | elapsed:   18.1s finished\n"
     ]
    },
    {
     "name": "stdout",
     "output_type": "stream",
     "text": [
      "best score: 0.5670731707317073\n",
      "Fitting 10 folds for each of 12 candidates, totalling 120 fits\n"
     ]
    },
    {
     "name": "stderr",
     "output_type": "stream",
     "text": [
      "[Parallel(n_jobs=1)]: Using backend SequentialBackend with 1 concurrent workers.\n",
      "[Parallel(n_jobs=1)]: Done 120 out of 120 | elapsed:   31.5s finished\n"
     ]
    },
    {
     "name": "stdout",
     "output_type": "stream",
     "text": [
      "best score: 0.5670731707317073\n",
      "Fitting 10 folds for each of 12 candidates, totalling 120 fits\n"
     ]
    },
    {
     "name": "stderr",
     "output_type": "stream",
     "text": [
      "[Parallel(n_jobs=1)]: Using backend SequentialBackend with 1 concurrent workers.\n",
      "[Parallel(n_jobs=1)]: Done 120 out of 120 | elapsed:   14.4s finished\n"
     ]
    },
    {
     "name": "stdout",
     "output_type": "stream",
     "text": [
      "best score: 0.5670731707317073\n",
      "Split: 1\n",
      "Split: 2\n",
      "Split: 3\n",
      "Split: 4\n",
      "Split: 5\n",
      "Split: 6\n",
      "Split: 7\n",
      "Split: 8\n",
      "Split: 9\n",
      "Split: 10\n",
      "Training Testing Accuracy for n_games=4 team=12 : 53.01% (2.31%)\n",
      "(184, 758)\n",
      "(184, 1)\n",
      "X_train shape: (165, 1305)\n",
      "X_test shape: (19, 1305)\n",
      "Fitting 10 folds for each of 12 candidates, totalling 120 fits\n"
     ]
    },
    {
     "name": "stderr",
     "output_type": "stream",
     "text": [
      "[Parallel(n_jobs=1)]: Using backend SequentialBackend with 1 concurrent workers.\n",
      "[Parallel(n_jobs=1)]: Done 120 out of 120 | elapsed:   20.4s finished\n"
     ]
    },
    {
     "name": "stdout",
     "output_type": "stream",
     "text": [
      "best score: 0.6181818181818182\n",
      "Fitting 10 folds for each of 12 candidates, totalling 120 fits\n"
     ]
    },
    {
     "name": "stderr",
     "output_type": "stream",
     "text": [
      "[Parallel(n_jobs=1)]: Using backend SequentialBackend with 1 concurrent workers.\n",
      "[Parallel(n_jobs=1)]: Done 120 out of 120 | elapsed:   17.1s finished\n"
     ]
    },
    {
     "name": "stdout",
     "output_type": "stream",
     "text": [
      "best score: 0.6181818181818182\n",
      "Fitting 10 folds for each of 12 candidates, totalling 120 fits\n"
     ]
    },
    {
     "name": "stderr",
     "output_type": "stream",
     "text": [
      "[Parallel(n_jobs=1)]: Using backend SequentialBackend with 1 concurrent workers.\n",
      "[Parallel(n_jobs=1)]: Done 120 out of 120 | elapsed:   19.0s finished\n"
     ]
    },
    {
     "name": "stdout",
     "output_type": "stream",
     "text": [
      "best score: 0.6181818181818182\n",
      "Fitting 10 folds for each of 12 candidates, totalling 120 fits\n"
     ]
    },
    {
     "name": "stderr",
     "output_type": "stream",
     "text": [
      "[Parallel(n_jobs=1)]: Using backend SequentialBackend with 1 concurrent workers.\n",
      "[Parallel(n_jobs=1)]: Done 120 out of 120 | elapsed:   21.0s finished\n"
     ]
    },
    {
     "name": "stdout",
     "output_type": "stream",
     "text": [
      "best score: 0.6181818181818182\n",
      "Fitting 10 folds for each of 12 candidates, totalling 120 fits\n"
     ]
    },
    {
     "name": "stderr",
     "output_type": "stream",
     "text": [
      "[Parallel(n_jobs=1)]: Using backend SequentialBackend with 1 concurrent workers.\n",
      "[Parallel(n_jobs=1)]: Done 120 out of 120 | elapsed:   23.8s finished\n"
     ]
    },
    {
     "name": "stdout",
     "output_type": "stream",
     "text": [
      "best score: 0.6545454545454545\n",
      "Split: 1\n",
      "Split: 2\n",
      "Split: 3\n",
      "Split: 4\n",
      "Split: 5\n",
      "Split: 6\n",
      "Split: 7\n",
      "Split: 8\n",
      "Split: 9\n",
      "Split: 10\n",
      "Training Testing Accuracy for n_games=4 team=13 : 62.87% (12.55%)\n",
      "(187, 758)\n",
      "(187, 1)\n",
      "X_train shape: (168, 1292)\n",
      "X_test shape: (19, 1292)\n",
      "Fitting 10 folds for each of 12 candidates, totalling 120 fits\n"
     ]
    },
    {
     "name": "stderr",
     "output_type": "stream",
     "text": [
      "[Parallel(n_jobs=1)]: Using backend SequentialBackend with 1 concurrent workers.\n",
      "[Parallel(n_jobs=1)]: Done 120 out of 120 | elapsed:   20.0s finished\n"
     ]
    },
    {
     "name": "stdout",
     "output_type": "stream",
     "text": [
      "best score: 0.6547619047619048\n",
      "Fitting 10 folds for each of 12 candidates, totalling 120 fits\n"
     ]
    },
    {
     "name": "stderr",
     "output_type": "stream",
     "text": [
      "[Parallel(n_jobs=1)]: Using backend SequentialBackend with 1 concurrent workers.\n",
      "[Parallel(n_jobs=1)]: Done 120 out of 120 | elapsed:   21.7s finished\n"
     ]
    },
    {
     "name": "stdout",
     "output_type": "stream",
     "text": [
      "best score: 0.6547619047619048\n",
      "Fitting 10 folds for each of 12 candidates, totalling 120 fits\n"
     ]
    },
    {
     "name": "stderr",
     "output_type": "stream",
     "text": [
      "[Parallel(n_jobs=1)]: Using backend SequentialBackend with 1 concurrent workers.\n",
      "[Parallel(n_jobs=1)]: Done 120 out of 120 | elapsed:   15.6s finished\n"
     ]
    },
    {
     "name": "stdout",
     "output_type": "stream",
     "text": [
      "best score: 0.6547619047619048\n",
      "Fitting 10 folds for each of 12 candidates, totalling 120 fits\n"
     ]
    },
    {
     "name": "stderr",
     "output_type": "stream",
     "text": [
      "[Parallel(n_jobs=1)]: Using backend SequentialBackend with 1 concurrent workers.\n",
      "[Parallel(n_jobs=1)]: Done 120 out of 120 | elapsed:   19.3s finished\n"
     ]
    },
    {
     "name": "stdout",
     "output_type": "stream",
     "text": [
      "best score: 0.6547619047619048\n",
      "Fitting 10 folds for each of 12 candidates, totalling 120 fits\n"
     ]
    },
    {
     "name": "stderr",
     "output_type": "stream",
     "text": [
      "[Parallel(n_jobs=1)]: Using backend SequentialBackend with 1 concurrent workers.\n",
      "[Parallel(n_jobs=1)]: Done 120 out of 120 | elapsed:   16.7s finished\n"
     ]
    },
    {
     "name": "stdout",
     "output_type": "stream",
     "text": [
      "best score: 0.6547619047619048\n",
      "Split: 1\n",
      "Split: 2\n",
      "Split: 3\n",
      "Split: 4\n",
      "Split: 5\n",
      "Split: 6\n",
      "Split: 7\n",
      "Split: 8\n",
      "Split: 9\n",
      "Split: 10\n",
      "Training Testing Accuracy for n_games=4 team=14 : 58.80% (5.50%)\n",
      "(176, 758)\n",
      "(176, 1)\n",
      "X_train shape: (158, 1289)\n",
      "X_test shape: (18, 1289)\n",
      "Fitting 10 folds for each of 12 candidates, totalling 120 fits\n"
     ]
    },
    {
     "name": "stderr",
     "output_type": "stream",
     "text": [
      "[Parallel(n_jobs=1)]: Using backend SequentialBackend with 1 concurrent workers.\n",
      "[Parallel(n_jobs=1)]: Done 120 out of 120 | elapsed:   19.8s finished\n"
     ]
    },
    {
     "name": "stdout",
     "output_type": "stream",
     "text": [
      "best score: 0.6265822784810127\n",
      "Fitting 10 folds for each of 12 candidates, totalling 120 fits\n"
     ]
    },
    {
     "name": "stderr",
     "output_type": "stream",
     "text": [
      "[Parallel(n_jobs=1)]: Using backend SequentialBackend with 1 concurrent workers.\n",
      "[Parallel(n_jobs=1)]: Done 120 out of 120 | elapsed:   17.6s finished\n"
     ]
    },
    {
     "name": "stdout",
     "output_type": "stream",
     "text": [
      "best score: 0.6265822784810127\n",
      "Fitting 10 folds for each of 12 candidates, totalling 120 fits\n"
     ]
    },
    {
     "name": "stderr",
     "output_type": "stream",
     "text": [
      "[Parallel(n_jobs=1)]: Using backend SequentialBackend with 1 concurrent workers.\n",
      "[Parallel(n_jobs=1)]: Done 120 out of 120 | elapsed:   14.4s finished\n"
     ]
    },
    {
     "name": "stdout",
     "output_type": "stream",
     "text": [
      "best score: 0.6329113924050633\n",
      "Fitting 10 folds for each of 12 candidates, totalling 120 fits\n"
     ]
    },
    {
     "name": "stderr",
     "output_type": "stream",
     "text": [
      "[Parallel(n_jobs=1)]: Using backend SequentialBackend with 1 concurrent workers.\n",
      "[Parallel(n_jobs=1)]: Done 120 out of 120 | elapsed:   14.7s finished\n"
     ]
    },
    {
     "name": "stdout",
     "output_type": "stream",
     "text": [
      "best score: 0.6329113924050633\n",
      "Fitting 10 folds for each of 12 candidates, totalling 120 fits\n"
     ]
    },
    {
     "name": "stderr",
     "output_type": "stream",
     "text": [
      "[Parallel(n_jobs=1)]: Using backend SequentialBackend with 1 concurrent workers.\n",
      "[Parallel(n_jobs=1)]: Done 120 out of 120 | elapsed:   17.7s finished\n"
     ]
    },
    {
     "name": "stdout",
     "output_type": "stream",
     "text": [
      "best score: 0.6329113924050633\n",
      "Split: 1\n",
      "Split: 2\n",
      "Split: 3\n",
      "Split: 4\n",
      "Split: 5\n",
      "Split: 6\n",
      "Split: 7\n",
      "Split: 8\n",
      "Split: 9\n",
      "Split: 10\n",
      "Training Testing Accuracy for n_games=4 team=15 : 64.28% (7.98%)\n",
      "(192, 758)\n",
      "(192, 1)\n",
      "X_train shape: (172, 1299)\n",
      "X_test shape: (20, 1299)\n",
      "Fitting 10 folds for each of 12 candidates, totalling 120 fits\n"
     ]
    },
    {
     "name": "stderr",
     "output_type": "stream",
     "text": [
      "[Parallel(n_jobs=1)]: Using backend SequentialBackend with 1 concurrent workers.\n",
      "[Parallel(n_jobs=1)]: Done 120 out of 120 | elapsed:   20.0s finished\n"
     ]
    },
    {
     "name": "stdout",
     "output_type": "stream",
     "text": [
      "best score: 0.6627906976744186\n",
      "Fitting 10 folds for each of 12 candidates, totalling 120 fits\n"
     ]
    },
    {
     "name": "stderr",
     "output_type": "stream",
     "text": [
      "[Parallel(n_jobs=1)]: Using backend SequentialBackend with 1 concurrent workers.\n",
      "[Parallel(n_jobs=1)]: Done 120 out of 120 | elapsed:   38.1s finished\n"
     ]
    },
    {
     "name": "stdout",
     "output_type": "stream",
     "text": [
      "best score: 0.6686046511627907\n",
      "Fitting 10 folds for each of 12 candidates, totalling 120 fits\n"
     ]
    },
    {
     "name": "stderr",
     "output_type": "stream",
     "text": [
      "[Parallel(n_jobs=1)]: Using backend SequentialBackend with 1 concurrent workers.\n",
      "[Parallel(n_jobs=1)]: Done 120 out of 120 | elapsed:   21.2s finished\n"
     ]
    },
    {
     "name": "stdout",
     "output_type": "stream",
     "text": [
      "best score: 0.6686046511627907\n",
      "Fitting 10 folds for each of 12 candidates, totalling 120 fits\n"
     ]
    },
    {
     "name": "stderr",
     "output_type": "stream",
     "text": [
      "[Parallel(n_jobs=1)]: Using backend SequentialBackend with 1 concurrent workers.\n",
      "[Parallel(n_jobs=1)]: Done 120 out of 120 | elapsed:   39.0s finished\n"
     ]
    },
    {
     "name": "stdout",
     "output_type": "stream",
     "text": [
      "best score: 0.6686046511627907\n",
      "Fitting 10 folds for each of 12 candidates, totalling 120 fits\n"
     ]
    },
    {
     "name": "stderr",
     "output_type": "stream",
     "text": [
      "[Parallel(n_jobs=1)]: Using backend SequentialBackend with 1 concurrent workers.\n",
      "[Parallel(n_jobs=1)]: Done 120 out of 120 | elapsed:   18.4s finished\n"
     ]
    },
    {
     "name": "stdout",
     "output_type": "stream",
     "text": [
      "best score: 0.6686046511627907\n",
      "Split: 1\n",
      "Split: 2\n",
      "Split: 3\n",
      "Split: 4\n",
      "Split: 5\n",
      "Split: 6\n",
      "Split: 7\n",
      "Split: 8\n",
      "Split: 9\n",
      "Split: 10\n",
      "Training Testing Accuracy for n_games=4 team=16 : 63.05% (3.12%)\n",
      "(187, 758)\n",
      "(187, 1)\n",
      "X_train shape: (168, 1299)\n",
      "X_test shape: (19, 1299)\n",
      "Fitting 10 folds for each of 12 candidates, totalling 120 fits\n"
     ]
    },
    {
     "name": "stderr",
     "output_type": "stream",
     "text": [
      "[Parallel(n_jobs=1)]: Using backend SequentialBackend with 1 concurrent workers.\n",
      "[Parallel(n_jobs=1)]: Done 120 out of 120 | elapsed:   20.8s finished\n"
     ]
    },
    {
     "name": "stdout",
     "output_type": "stream",
     "text": [
      "best score: 0.6130952380952381\n",
      "Fitting 10 folds for each of 12 candidates, totalling 120 fits\n"
     ]
    },
    {
     "name": "stderr",
     "output_type": "stream",
     "text": [
      "[Parallel(n_jobs=1)]: Using backend SequentialBackend with 1 concurrent workers.\n",
      "[Parallel(n_jobs=1)]: Done 120 out of 120 | elapsed:   18.0s finished\n"
     ]
    },
    {
     "name": "stdout",
     "output_type": "stream",
     "text": [
      "best score: 0.6130952380952381\n",
      "Fitting 10 folds for each of 12 candidates, totalling 120 fits\n"
     ]
    },
    {
     "name": "stderr",
     "output_type": "stream",
     "text": [
      "[Parallel(n_jobs=1)]: Using backend SequentialBackend with 1 concurrent workers.\n",
      "[Parallel(n_jobs=1)]: Done 120 out of 120 | elapsed:   18.3s finished\n"
     ]
    },
    {
     "name": "stdout",
     "output_type": "stream",
     "text": [
      "best score: 0.6369047619047619\n",
      "Fitting 10 folds for each of 12 candidates, totalling 120 fits\n"
     ]
    },
    {
     "name": "stderr",
     "output_type": "stream",
     "text": [
      "[Parallel(n_jobs=1)]: Using backend SequentialBackend with 1 concurrent workers.\n",
      "[Parallel(n_jobs=1)]: Done 120 out of 120 | elapsed:   16.5s finished\n"
     ]
    },
    {
     "name": "stdout",
     "output_type": "stream",
     "text": [
      "best score: 0.6369047619047619\n",
      "Fitting 10 folds for each of 12 candidates, totalling 120 fits\n"
     ]
    },
    {
     "name": "stderr",
     "output_type": "stream",
     "text": [
      "[Parallel(n_jobs=1)]: Using backend SequentialBackend with 1 concurrent workers.\n",
      "[Parallel(n_jobs=1)]: Done 120 out of 120 | elapsed:   41.5s finished\n"
     ]
    },
    {
     "name": "stdout",
     "output_type": "stream",
     "text": [
      "best score: 0.6369047619047619\n",
      "Split: 1\n",
      "Split: 2\n",
      "Split: 3\n",
      "Split: 4\n",
      "Split: 5\n",
      "Split: 6\n",
      "Split: 7\n",
      "Split: 8\n",
      "Split: 9\n",
      "Split: 10\n",
      "Training Testing Accuracy for n_games=4 team=17 : 63.16% (8.08%)\n",
      "(186, 758)\n",
      "(186, 1)\n",
      "X_train shape: (167, 1308)\n",
      "X_test shape: (19, 1308)\n",
      "Fitting 10 folds for each of 12 candidates, totalling 120 fits\n"
     ]
    },
    {
     "name": "stderr",
     "output_type": "stream",
     "text": [
      "[Parallel(n_jobs=1)]: Using backend SequentialBackend with 1 concurrent workers.\n",
      "[Parallel(n_jobs=1)]: Done 120 out of 120 | elapsed:   20.6s finished\n"
     ]
    },
    {
     "name": "stdout",
     "output_type": "stream",
     "text": [
      "best score: 0.5988023952095808\n",
      "Fitting 10 folds for each of 12 candidates, totalling 120 fits\n"
     ]
    },
    {
     "name": "stderr",
     "output_type": "stream",
     "text": [
      "[Parallel(n_jobs=1)]: Using backend SequentialBackend with 1 concurrent workers.\n",
      "[Parallel(n_jobs=1)]: Done 120 out of 120 | elapsed:   19.9s finished\n"
     ]
    },
    {
     "name": "stdout",
     "output_type": "stream",
     "text": [
      "best score: 0.5988023952095808\n",
      "Fitting 10 folds for each of 12 candidates, totalling 120 fits\n"
     ]
    },
    {
     "name": "stderr",
     "output_type": "stream",
     "text": [
      "[Parallel(n_jobs=1)]: Using backend SequentialBackend with 1 concurrent workers.\n",
      "[Parallel(n_jobs=1)]: Done 120 out of 120 | elapsed:   24.9s finished\n"
     ]
    },
    {
     "name": "stdout",
     "output_type": "stream",
     "text": [
      "best score: 0.5988023952095808\n",
      "Fitting 10 folds for each of 12 candidates, totalling 120 fits\n"
     ]
    },
    {
     "name": "stderr",
     "output_type": "stream",
     "text": [
      "[Parallel(n_jobs=1)]: Using backend SequentialBackend with 1 concurrent workers.\n",
      "[Parallel(n_jobs=1)]: Done 120 out of 120 | elapsed:   26.1s finished\n"
     ]
    },
    {
     "name": "stdout",
     "output_type": "stream",
     "text": [
      "best score: 0.5988023952095808\n",
      "Fitting 10 folds for each of 12 candidates, totalling 120 fits\n"
     ]
    },
    {
     "name": "stderr",
     "output_type": "stream",
     "text": [
      "[Parallel(n_jobs=1)]: Using backend SequentialBackend with 1 concurrent workers.\n",
      "[Parallel(n_jobs=1)]: Done 120 out of 120 | elapsed:   34.7s finished\n"
     ]
    },
    {
     "name": "stdout",
     "output_type": "stream",
     "text": [
      "best score: 0.5988023952095808\n",
      "Split: 1\n",
      "Split: 2\n",
      "Split: 3\n",
      "Split: 4\n",
      "Split: 5\n",
      "Split: 6\n",
      "Split: 7\n",
      "Split: 8\n",
      "Split: 9\n",
      "Split: 10\n",
      "Training Testing Accuracy for n_games=4 team=18 : 59.77% (11.64%)\n",
      "Accuracy for Team Models for n_games= 4 : 61.02% (5.56%)\n",
      "(181, 944)\n",
      "(181, 1)\n",
      "X_train shape: (162, 1603)\n",
      "X_test shape: (19, 1603)\n",
      "Fitting 10 folds for each of 12 candidates, totalling 120 fits\n"
     ]
    },
    {
     "name": "stderr",
     "output_type": "stream",
     "text": [
      "[Parallel(n_jobs=1)]: Using backend SequentialBackend with 1 concurrent workers.\n",
      "[Parallel(n_jobs=1)]: Done 120 out of 120 | elapsed:   24.0s finished\n"
     ]
    },
    {
     "name": "stdout",
     "output_type": "stream",
     "text": [
      "best score: 0.5740740740740741\n",
      "Fitting 10 folds for each of 12 candidates, totalling 120 fits\n"
     ]
    },
    {
     "name": "stderr",
     "output_type": "stream",
     "text": [
      "[Parallel(n_jobs=1)]: Using backend SequentialBackend with 1 concurrent workers.\n",
      "[Parallel(n_jobs=1)]: Done 120 out of 120 | elapsed:   55.1s finished\n"
     ]
    },
    {
     "name": "stdout",
     "output_type": "stream",
     "text": [
      "best score: 0.5925925925925926\n",
      "Fitting 10 folds for each of 12 candidates, totalling 120 fits\n"
     ]
    },
    {
     "name": "stderr",
     "output_type": "stream",
     "text": [
      "[Parallel(n_jobs=1)]: Using backend SequentialBackend with 1 concurrent workers.\n",
      "[Parallel(n_jobs=1)]: Done 120 out of 120 | elapsed:   38.5s finished\n"
     ]
    },
    {
     "name": "stdout",
     "output_type": "stream",
     "text": [
      "best score: 0.5925925925925926\n",
      "Fitting 10 folds for each of 12 candidates, totalling 120 fits\n"
     ]
    },
    {
     "name": "stderr",
     "output_type": "stream",
     "text": [
      "[Parallel(n_jobs=1)]: Using backend SequentialBackend with 1 concurrent workers.\n",
      "[Parallel(n_jobs=1)]: Done 120 out of 120 | elapsed:   57.2s finished\n"
     ]
    },
    {
     "name": "stdout",
     "output_type": "stream",
     "text": [
      "best score: 0.6049382716049383\n",
      "Fitting 10 folds for each of 12 candidates, totalling 120 fits\n"
     ]
    },
    {
     "name": "stderr",
     "output_type": "stream",
     "text": [
      "[Parallel(n_jobs=1)]: Using backend SequentialBackend with 1 concurrent workers.\n",
      "[Parallel(n_jobs=1)]: Done 120 out of 120 | elapsed:   54.6s finished\n"
     ]
    },
    {
     "name": "stdout",
     "output_type": "stream",
     "text": [
      "best score: 0.6049382716049383\n",
      "Split: 1\n",
      "Split: 2\n",
      "Split: 3\n",
      "Split: 4\n",
      "Split: 5\n",
      "Split: 6\n",
      "Split: 7\n",
      "Split: 8\n",
      "Split: 9\n",
      "Split: 10\n",
      "Training Testing Accuracy for n_games=5 team=1 : 49.74% (7.50%)\n",
      "(179, 944)\n",
      "(179, 1)\n",
      "X_train shape: (161, 1587)\n",
      "X_test shape: (18, 1587)\n",
      "Fitting 10 folds for each of 12 candidates, totalling 120 fits\n"
     ]
    },
    {
     "name": "stderr",
     "output_type": "stream",
     "text": [
      "[Parallel(n_jobs=1)]: Using backend SequentialBackend with 1 concurrent workers.\n",
      "[Parallel(n_jobs=1)]: Done 120 out of 120 | elapsed:   23.3s finished\n"
     ]
    },
    {
     "name": "stdout",
     "output_type": "stream",
     "text": [
      "best score: 0.6583850931677019\n",
      "Fitting 10 folds for each of 12 candidates, totalling 120 fits\n"
     ]
    },
    {
     "name": "stderr",
     "output_type": "stream",
     "text": [
      "[Parallel(n_jobs=1)]: Using backend SequentialBackend with 1 concurrent workers.\n",
      "[Parallel(n_jobs=1)]: Done 120 out of 120 | elapsed:   23.4s finished\n"
     ]
    },
    {
     "name": "stdout",
     "output_type": "stream",
     "text": [
      "best score: 0.6645962732919255\n",
      "Fitting 10 folds for each of 12 candidates, totalling 120 fits\n"
     ]
    },
    {
     "name": "stderr",
     "output_type": "stream",
     "text": [
      "[Parallel(n_jobs=1)]: Using backend SequentialBackend with 1 concurrent workers.\n",
      "[Parallel(n_jobs=1)]: Done 120 out of 120 | elapsed:   17.0s finished\n"
     ]
    },
    {
     "name": "stdout",
     "output_type": "stream",
     "text": [
      "best score: 0.6645962732919255\n",
      "Fitting 10 folds for each of 12 candidates, totalling 120 fits\n"
     ]
    },
    {
     "name": "stderr",
     "output_type": "stream",
     "text": [
      "[Parallel(n_jobs=1)]: Using backend SequentialBackend with 1 concurrent workers.\n",
      "[Parallel(n_jobs=1)]: Done 120 out of 120 | elapsed:   16.7s finished\n"
     ]
    },
    {
     "name": "stdout",
     "output_type": "stream",
     "text": [
      "best score: 0.6645962732919255\n",
      "Fitting 10 folds for each of 12 candidates, totalling 120 fits\n"
     ]
    },
    {
     "name": "stderr",
     "output_type": "stream",
     "text": [
      "[Parallel(n_jobs=1)]: Using backend SequentialBackend with 1 concurrent workers.\n",
      "[Parallel(n_jobs=1)]: Done 120 out of 120 | elapsed:   15.7s finished\n"
     ]
    },
    {
     "name": "stdout",
     "output_type": "stream",
     "text": [
      "best score: 0.6645962732919255\n",
      "Split: 1\n",
      "Split: 2\n",
      "Split: 3\n",
      "Split: 4\n",
      "Split: 5\n",
      "Split: 6\n",
      "Split: 7\n",
      "Split: 8\n",
      "Split: 9\n",
      "Split: 10\n",
      "Training Testing Accuracy for n_games=5 team=2 : 61.47% (6.18%)\n",
      "(177, 944)\n",
      "(177, 1)\n",
      "X_train shape: (159, 1584)\n",
      "X_test shape: (18, 1584)\n",
      "Fitting 10 folds for each of 12 candidates, totalling 120 fits\n"
     ]
    },
    {
     "name": "stderr",
     "output_type": "stream",
     "text": [
      "[Parallel(n_jobs=1)]: Using backend SequentialBackend with 1 concurrent workers.\n",
      "[Parallel(n_jobs=1)]: Done 120 out of 120 | elapsed:   23.8s finished\n"
     ]
    },
    {
     "name": "stdout",
     "output_type": "stream",
     "text": [
      "best score: 0.6918238993710691\n",
      "Fitting 10 folds for each of 12 candidates, totalling 120 fits\n"
     ]
    },
    {
     "name": "stderr",
     "output_type": "stream",
     "text": [
      "[Parallel(n_jobs=1)]: Using backend SequentialBackend with 1 concurrent workers.\n",
      "[Parallel(n_jobs=1)]: Done 120 out of 120 | elapsed:   20.6s finished\n"
     ]
    },
    {
     "name": "stdout",
     "output_type": "stream",
     "text": [
      "best score: 0.6918238993710691\n",
      "Fitting 10 folds for each of 12 candidates, totalling 120 fits\n"
     ]
    },
    {
     "name": "stderr",
     "output_type": "stream",
     "text": [
      "[Parallel(n_jobs=1)]: Using backend SequentialBackend with 1 concurrent workers.\n",
      "[Parallel(n_jobs=1)]: Done 120 out of 120 | elapsed:   21.8s finished\n"
     ]
    },
    {
     "name": "stdout",
     "output_type": "stream",
     "text": [
      "best score: 0.6981132075471698\n",
      "Fitting 10 folds for each of 12 candidates, totalling 120 fits\n"
     ]
    },
    {
     "name": "stderr",
     "output_type": "stream",
     "text": [
      "[Parallel(n_jobs=1)]: Using backend SequentialBackend with 1 concurrent workers.\n",
      "[Parallel(n_jobs=1)]: Done 120 out of 120 | elapsed:   19.7s finished\n"
     ]
    },
    {
     "name": "stdout",
     "output_type": "stream",
     "text": [
      "best score: 0.6981132075471698\n",
      "Fitting 10 folds for each of 12 candidates, totalling 120 fits\n"
     ]
    },
    {
     "name": "stderr",
     "output_type": "stream",
     "text": [
      "[Parallel(n_jobs=1)]: Using backend SequentialBackend with 1 concurrent workers.\n",
      "[Parallel(n_jobs=1)]: Done 120 out of 120 | elapsed:   30.6s finished\n"
     ]
    },
    {
     "name": "stdout",
     "output_type": "stream",
     "text": [
      "best score: 0.6981132075471698\n",
      "Split: 1\n",
      "Split: 2\n",
      "Split: 3\n",
      "Split: 4\n",
      "Split: 5\n",
      "Split: 6\n",
      "Split: 7\n",
      "Split: 8\n",
      "Split: 9\n",
      "Split: 10\n",
      "Training Testing Accuracy for n_games=5 team=3 : 71.18% (5.24%)\n",
      "(182, 944)\n",
      "(182, 1)\n",
      "X_train shape: (163, 1589)\n",
      "X_test shape: (19, 1589)\n",
      "Fitting 10 folds for each of 12 candidates, totalling 120 fits\n"
     ]
    },
    {
     "name": "stderr",
     "output_type": "stream",
     "text": [
      "[Parallel(n_jobs=1)]: Using backend SequentialBackend with 1 concurrent workers.\n",
      "[Parallel(n_jobs=1)]: Done 120 out of 120 | elapsed:   23.9s finished\n"
     ]
    },
    {
     "name": "stdout",
     "output_type": "stream",
     "text": [
      "best score: 0.5828220858895705\n",
      "Fitting 10 folds for each of 12 candidates, totalling 120 fits\n"
     ]
    },
    {
     "name": "stderr",
     "output_type": "stream",
     "text": [
      "[Parallel(n_jobs=1)]: Using backend SequentialBackend with 1 concurrent workers.\n",
      "[Parallel(n_jobs=1)]: Done 120 out of 120 | elapsed:   22.9s finished\n"
     ]
    },
    {
     "name": "stdout",
     "output_type": "stream",
     "text": [
      "best score: 0.5828220858895705\n",
      "Fitting 10 folds for each of 12 candidates, totalling 120 fits\n"
     ]
    },
    {
     "name": "stderr",
     "output_type": "stream",
     "text": [
      "[Parallel(n_jobs=1)]: Using backend SequentialBackend with 1 concurrent workers.\n",
      "[Parallel(n_jobs=1)]: Done 120 out of 120 | elapsed:   30.4s finished\n"
     ]
    },
    {
     "name": "stdout",
     "output_type": "stream",
     "text": [
      "best score: 0.5828220858895705\n",
      "Fitting 10 folds for each of 12 candidates, totalling 120 fits\n"
     ]
    },
    {
     "name": "stderr",
     "output_type": "stream",
     "text": [
      "[Parallel(n_jobs=1)]: Using backend SequentialBackend with 1 concurrent workers.\n",
      "[Parallel(n_jobs=1)]: Done 120 out of 120 | elapsed:   26.2s finished\n"
     ]
    },
    {
     "name": "stdout",
     "output_type": "stream",
     "text": [
      "best score: 0.6196319018404908\n",
      "Fitting 10 folds for each of 12 candidates, totalling 120 fits\n"
     ]
    },
    {
     "name": "stderr",
     "output_type": "stream",
     "text": [
      "[Parallel(n_jobs=1)]: Using backend SequentialBackend with 1 concurrent workers.\n",
      "[Parallel(n_jobs=1)]: Done 120 out of 120 | elapsed:   27.9s finished\n"
     ]
    },
    {
     "name": "stdout",
     "output_type": "stream",
     "text": [
      "best score: 0.6196319018404908\n",
      "Split: 1\n",
      "Split: 2\n",
      "Split: 3\n",
      "Split: 4\n",
      "Split: 5\n",
      "Split: 6\n",
      "Split: 7\n",
      "Split: 8\n",
      "Split: 9\n",
      "Split: 10\n",
      "Training Testing Accuracy for n_games=5 team=4 : 59.91% (7.66%)\n",
      "(179, 944)\n",
      "(179, 1)\n",
      "X_train shape: (161, 1578)\n",
      "X_test shape: (18, 1578)\n",
      "Fitting 10 folds for each of 12 candidates, totalling 120 fits\n"
     ]
    },
    {
     "name": "stderr",
     "output_type": "stream",
     "text": [
      "[Parallel(n_jobs=1)]: Using backend SequentialBackend with 1 concurrent workers.\n",
      "[Parallel(n_jobs=1)]: Done 120 out of 120 | elapsed:   23.8s finished\n"
     ]
    },
    {
     "name": "stdout",
     "output_type": "stream",
     "text": [
      "best score: 0.5838509316770186\n",
      "Fitting 10 folds for each of 12 candidates, totalling 120 fits\n"
     ]
    },
    {
     "name": "stderr",
     "output_type": "stream",
     "text": [
      "[Parallel(n_jobs=1)]: Using backend SequentialBackend with 1 concurrent workers.\n",
      "[Parallel(n_jobs=1)]: Done 120 out of 120 | elapsed:   17.9s finished\n"
     ]
    },
    {
     "name": "stdout",
     "output_type": "stream",
     "text": [
      "best score: 0.5838509316770186\n",
      "Fitting 10 folds for each of 12 candidates, totalling 120 fits\n"
     ]
    },
    {
     "name": "stderr",
     "output_type": "stream",
     "text": [
      "[Parallel(n_jobs=1)]: Using backend SequentialBackend with 1 concurrent workers.\n",
      "[Parallel(n_jobs=1)]: Done 120 out of 120 | elapsed:   19.3s finished\n"
     ]
    },
    {
     "name": "stdout",
     "output_type": "stream",
     "text": [
      "best score: 0.5838509316770186\n",
      "Fitting 10 folds for each of 12 candidates, totalling 120 fits\n"
     ]
    },
    {
     "name": "stderr",
     "output_type": "stream",
     "text": [
      "[Parallel(n_jobs=1)]: Using backend SequentialBackend with 1 concurrent workers.\n",
      "[Parallel(n_jobs=1)]: Done 120 out of 120 | elapsed:   17.6s finished\n"
     ]
    },
    {
     "name": "stdout",
     "output_type": "stream",
     "text": [
      "best score: 0.5838509316770186\n",
      "Fitting 10 folds for each of 12 candidates, totalling 120 fits\n"
     ]
    },
    {
     "name": "stderr",
     "output_type": "stream",
     "text": [
      "[Parallel(n_jobs=1)]: Using backend SequentialBackend with 1 concurrent workers.\n",
      "[Parallel(n_jobs=1)]: Done 120 out of 120 | elapsed:   21.3s finished\n"
     ]
    },
    {
     "name": "stdout",
     "output_type": "stream",
     "text": [
      "best score: 0.5900621118012422\n",
      "Split: 1\n",
      "Split: 2\n",
      "Split: 3\n",
      "Split: 4\n",
      "Split: 5\n",
      "Split: 6\n",
      "Split: 7\n",
      "Split: 8\n",
      "Split: 9\n",
      "Split: 10\n",
      "Training Testing Accuracy for n_games=5 team=5 : 54.22% (8.01%)\n",
      "(182, 944)\n",
      "(182, 1)\n",
      "X_train shape: (163, 1597)\n",
      "X_test shape: (19, 1597)\n",
      "Fitting 10 folds for each of 12 candidates, totalling 120 fits\n"
     ]
    },
    {
     "name": "stderr",
     "output_type": "stream",
     "text": [
      "[Parallel(n_jobs=1)]: Using backend SequentialBackend with 1 concurrent workers.\n",
      "[Parallel(n_jobs=1)]: Done 120 out of 120 | elapsed:   24.0s finished\n"
     ]
    },
    {
     "name": "stdout",
     "output_type": "stream",
     "text": [
      "best score: 0.5950920245398773\n",
      "Fitting 10 folds for each of 12 candidates, totalling 120 fits\n"
     ]
    },
    {
     "name": "stderr",
     "output_type": "stream",
     "text": [
      "[Parallel(n_jobs=1)]: Using backend SequentialBackend with 1 concurrent workers.\n",
      "[Parallel(n_jobs=1)]: Done 120 out of 120 | elapsed:   25.9s finished\n"
     ]
    },
    {
     "name": "stdout",
     "output_type": "stream",
     "text": [
      "best score: 0.5950920245398773\n",
      "Fitting 10 folds for each of 12 candidates, totalling 120 fits\n"
     ]
    },
    {
     "name": "stderr",
     "output_type": "stream",
     "text": [
      "[Parallel(n_jobs=1)]: Using backend SequentialBackend with 1 concurrent workers.\n",
      "[Parallel(n_jobs=1)]: Done 120 out of 120 | elapsed:   25.9s finished\n"
     ]
    },
    {
     "name": "stdout",
     "output_type": "stream",
     "text": [
      "best score: 0.5950920245398773\n",
      "Fitting 10 folds for each of 12 candidates, totalling 120 fits\n"
     ]
    },
    {
     "name": "stderr",
     "output_type": "stream",
     "text": [
      "[Parallel(n_jobs=1)]: Using backend SequentialBackend with 1 concurrent workers.\n",
      "[Parallel(n_jobs=1)]: Done 120 out of 120 | elapsed:   20.4s finished\n"
     ]
    },
    {
     "name": "stdout",
     "output_type": "stream",
     "text": [
      "best score: 0.5950920245398773\n",
      "Fitting 10 folds for each of 12 candidates, totalling 120 fits\n"
     ]
    },
    {
     "name": "stderr",
     "output_type": "stream",
     "text": [
      "[Parallel(n_jobs=1)]: Using backend SequentialBackend with 1 concurrent workers.\n",
      "[Parallel(n_jobs=1)]: Done 120 out of 120 | elapsed:   28.0s finished\n"
     ]
    },
    {
     "name": "stdout",
     "output_type": "stream",
     "text": [
      "best score: 0.5950920245398773\n",
      "Split: 1\n",
      "Split: 2\n",
      "Split: 3\n",
      "Split: 4\n",
      "Split: 5\n",
      "Split: 6\n",
      "Split: 7\n",
      "Split: 8\n",
      "Split: 9\n",
      "Split: 10\n",
      "Training Testing Accuracy for n_games=5 team=6 : 58.36% (8.57%)\n",
      "(191, 944)\n",
      "(191, 1)\n",
      "X_train shape: (171, 1586)\n",
      "X_test shape: (20, 1586)\n",
      "Fitting 10 folds for each of 12 candidates, totalling 120 fits\n"
     ]
    },
    {
     "name": "stderr",
     "output_type": "stream",
     "text": [
      "[Parallel(n_jobs=1)]: Using backend SequentialBackend with 1 concurrent workers.\n",
      "[Parallel(n_jobs=1)]: Done 120 out of 120 | elapsed:   24.0s finished\n"
     ]
    },
    {
     "name": "stdout",
     "output_type": "stream",
     "text": [
      "best score: 0.6374269005847953\n",
      "Fitting 10 folds for each of 12 candidates, totalling 120 fits\n"
     ]
    },
    {
     "name": "stderr",
     "output_type": "stream",
     "text": [
      "[Parallel(n_jobs=1)]: Using backend SequentialBackend with 1 concurrent workers.\n",
      "[Parallel(n_jobs=1)]: Done 120 out of 120 | elapsed:   18.7s finished\n"
     ]
    },
    {
     "name": "stdout",
     "output_type": "stream",
     "text": [
      "best score: 0.6374269005847953\n",
      "Fitting 10 folds for each of 12 candidates, totalling 120 fits\n"
     ]
    },
    {
     "name": "stderr",
     "output_type": "stream",
     "text": [
      "[Parallel(n_jobs=1)]: Using backend SequentialBackend with 1 concurrent workers.\n",
      "[Parallel(n_jobs=1)]: Done 120 out of 120 | elapsed:   33.4s finished\n"
     ]
    },
    {
     "name": "stdout",
     "output_type": "stream",
     "text": [
      "best score: 0.6374269005847953\n",
      "Fitting 10 folds for each of 12 candidates, totalling 120 fits\n"
     ]
    },
    {
     "name": "stderr",
     "output_type": "stream",
     "text": [
      "[Parallel(n_jobs=1)]: Using backend SequentialBackend with 1 concurrent workers.\n",
      "[Parallel(n_jobs=1)]: Done 120 out of 120 | elapsed:   40.5s finished\n"
     ]
    },
    {
     "name": "stdout",
     "output_type": "stream",
     "text": [
      "best score: 0.6374269005847953\n",
      "Fitting 10 folds for each of 12 candidates, totalling 120 fits\n"
     ]
    },
    {
     "name": "stderr",
     "output_type": "stream",
     "text": [
      "[Parallel(n_jobs=1)]: Using backend SequentialBackend with 1 concurrent workers.\n",
      "[Parallel(n_jobs=1)]: Done 120 out of 120 | elapsed:   18.4s finished\n"
     ]
    },
    {
     "name": "stdout",
     "output_type": "stream",
     "text": [
      "best score: 0.6374269005847953\n",
      "Split: 1\n",
      "Split: 2\n",
      "Split: 3\n",
      "Split: 4\n",
      "Split: 5\n",
      "Split: 6\n",
      "Split: 7\n",
      "Split: 8\n",
      "Split: 9\n",
      "Split: 10\n",
      "Training Testing Accuracy for n_games=5 team=7 : 65.97% (2.50%)\n",
      "(175, 944)\n",
      "(175, 1)\n",
      "X_train shape: (157, 1590)\n",
      "X_test shape: (18, 1590)\n",
      "Fitting 10 folds for each of 12 candidates, totalling 120 fits\n"
     ]
    },
    {
     "name": "stderr",
     "output_type": "stream",
     "text": [
      "[Parallel(n_jobs=1)]: Using backend SequentialBackend with 1 concurrent workers.\n",
      "[Parallel(n_jobs=1)]: Done 120 out of 120 | elapsed:   23.8s finished\n"
     ]
    },
    {
     "name": "stdout",
     "output_type": "stream",
     "text": [
      "best score: 0.7388535031847133\n",
      "Fitting 10 folds for each of 12 candidates, totalling 120 fits\n"
     ]
    },
    {
     "name": "stderr",
     "output_type": "stream",
     "text": [
      "[Parallel(n_jobs=1)]: Using backend SequentialBackend with 1 concurrent workers.\n",
      "[Parallel(n_jobs=1)]: Done 120 out of 120 | elapsed:   28.1s finished\n"
     ]
    },
    {
     "name": "stdout",
     "output_type": "stream",
     "text": [
      "best score: 0.7388535031847133\n",
      "Fitting 10 folds for each of 12 candidates, totalling 120 fits\n"
     ]
    },
    {
     "name": "stderr",
     "output_type": "stream",
     "text": [
      "[Parallel(n_jobs=1)]: Using backend SequentialBackend with 1 concurrent workers.\n",
      "[Parallel(n_jobs=1)]: Done 120 out of 120 | elapsed:   19.0s finished\n"
     ]
    },
    {
     "name": "stdout",
     "output_type": "stream",
     "text": [
      "best score: 0.7388535031847133\n",
      "Fitting 10 folds for each of 12 candidates, totalling 120 fits\n"
     ]
    },
    {
     "name": "stderr",
     "output_type": "stream",
     "text": [
      "[Parallel(n_jobs=1)]: Using backend SequentialBackend with 1 concurrent workers.\n",
      "[Parallel(n_jobs=1)]: Done 120 out of 120 | elapsed:   19.9s finished\n"
     ]
    },
    {
     "name": "stdout",
     "output_type": "stream",
     "text": [
      "best score: 0.7388535031847133\n",
      "Fitting 10 folds for each of 12 candidates, totalling 120 fits\n"
     ]
    },
    {
     "name": "stderr",
     "output_type": "stream",
     "text": [
      "[Parallel(n_jobs=1)]: Using backend SequentialBackend with 1 concurrent workers.\n",
      "[Parallel(n_jobs=1)]: Done 120 out of 120 | elapsed:   17.0s finished\n"
     ]
    },
    {
     "name": "stdout",
     "output_type": "stream",
     "text": [
      "best score: 0.7388535031847133\n",
      "Split: 1\n",
      "Split: 2\n",
      "Split: 3\n",
      "Split: 4\n",
      "Split: 5\n",
      "Split: 6\n",
      "Split: 7\n",
      "Split: 8\n",
      "Split: 9\n",
      "Split: 10\n",
      "Training Testing Accuracy for n_games=5 team=8 : 70.88% (2.69%)\n",
      "(188, 944)\n",
      "(188, 1)\n",
      "X_train shape: (169, 1598)\n",
      "X_test shape: (19, 1598)\n",
      "Fitting 10 folds for each of 12 candidates, totalling 120 fits\n"
     ]
    },
    {
     "name": "stderr",
     "output_type": "stream",
     "text": [
      "[Parallel(n_jobs=1)]: Using backend SequentialBackend with 1 concurrent workers.\n",
      "[Parallel(n_jobs=1)]: Done 120 out of 120 | elapsed:   23.8s finished\n"
     ]
    },
    {
     "name": "stdout",
     "output_type": "stream",
     "text": [
      "best score: 0.5443786982248521\n",
      "Fitting 10 folds for each of 12 candidates, totalling 120 fits\n"
     ]
    },
    {
     "name": "stderr",
     "output_type": "stream",
     "text": [
      "[Parallel(n_jobs=1)]: Using backend SequentialBackend with 1 concurrent workers.\n",
      "[Parallel(n_jobs=1)]: Done 120 out of 120 | elapsed:   31.9s finished\n"
     ]
    },
    {
     "name": "stdout",
     "output_type": "stream",
     "text": [
      "best score: 0.5621301775147929\n",
      "Fitting 10 folds for each of 12 candidates, totalling 120 fits\n"
     ]
    },
    {
     "name": "stderr",
     "output_type": "stream",
     "text": [
      "[Parallel(n_jobs=1)]: Using backend SequentialBackend with 1 concurrent workers.\n",
      "[Parallel(n_jobs=1)]: Done 120 out of 120 | elapsed:  1.2min finished\n"
     ]
    },
    {
     "name": "stdout",
     "output_type": "stream",
     "text": [
      "best score: 0.621301775147929\n",
      "Fitting 10 folds for each of 12 candidates, totalling 120 fits\n"
     ]
    },
    {
     "name": "stderr",
     "output_type": "stream",
     "text": [
      "[Parallel(n_jobs=1)]: Using backend SequentialBackend with 1 concurrent workers.\n",
      "[Parallel(n_jobs=1)]: Done 120 out of 120 | elapsed:   40.4s finished\n"
     ]
    },
    {
     "name": "stdout",
     "output_type": "stream",
     "text": [
      "best score: 0.621301775147929\n",
      "Fitting 10 folds for each of 12 candidates, totalling 120 fits\n"
     ]
    },
    {
     "name": "stderr",
     "output_type": "stream",
     "text": [
      "[Parallel(n_jobs=1)]: Using backend SequentialBackend with 1 concurrent workers.\n",
      "[Parallel(n_jobs=1)]: Done 120 out of 120 | elapsed:   49.4s finished\n"
     ]
    },
    {
     "name": "stdout",
     "output_type": "stream",
     "text": [
      "best score: 0.621301775147929\n",
      "Split: 1\n",
      "Split: 2\n",
      "Split: 3\n",
      "Split: 4\n",
      "Split: 5\n",
      "Split: 6\n",
      "Split: 7\n",
      "Split: 8\n",
      "Split: 9\n",
      "Split: 10\n",
      "Training Testing Accuracy for n_games=5 team=9 : 55.41% (10.04%)\n",
      "(189, 944)\n",
      "(189, 1)\n",
      "X_train shape: (170, 1596)\n",
      "X_test shape: (19, 1596)\n",
      "Fitting 10 folds for each of 12 candidates, totalling 120 fits\n"
     ]
    },
    {
     "name": "stderr",
     "output_type": "stream",
     "text": [
      "[Parallel(n_jobs=1)]: Using backend SequentialBackend with 1 concurrent workers.\n",
      "[Parallel(n_jobs=1)]: Done 120 out of 120 | elapsed:   23.6s finished\n"
     ]
    },
    {
     "name": "stdout",
     "output_type": "stream",
     "text": [
      "best score: 0.6764705882352942\n",
      "Fitting 10 folds for each of 12 candidates, totalling 120 fits\n"
     ]
    },
    {
     "name": "stderr",
     "output_type": "stream",
     "text": [
      "[Parallel(n_jobs=1)]: Using backend SequentialBackend with 1 concurrent workers.\n",
      "[Parallel(n_jobs=1)]: Done 120 out of 120 | elapsed:   22.1s finished\n"
     ]
    },
    {
     "name": "stdout",
     "output_type": "stream",
     "text": [
      "best score: 0.6764705882352942\n",
      "Fitting 10 folds for each of 12 candidates, totalling 120 fits\n"
     ]
    },
    {
     "name": "stderr",
     "output_type": "stream",
     "text": [
      "[Parallel(n_jobs=1)]: Using backend SequentialBackend with 1 concurrent workers.\n",
      "[Parallel(n_jobs=1)]: Done 120 out of 120 | elapsed:   33.2s finished\n"
     ]
    },
    {
     "name": "stdout",
     "output_type": "stream",
     "text": [
      "best score: 0.6764705882352942\n",
      "Fitting 10 folds for each of 12 candidates, totalling 120 fits\n"
     ]
    },
    {
     "name": "stderr",
     "output_type": "stream",
     "text": [
      "[Parallel(n_jobs=1)]: Using backend SequentialBackend with 1 concurrent workers.\n",
      "[Parallel(n_jobs=1)]: Done 120 out of 120 | elapsed:   29.7s finished\n"
     ]
    },
    {
     "name": "stdout",
     "output_type": "stream",
     "text": [
      "best score: 0.6764705882352942\n",
      "Fitting 10 folds for each of 12 candidates, totalling 120 fits\n"
     ]
    },
    {
     "name": "stderr",
     "output_type": "stream",
     "text": [
      "[Parallel(n_jobs=1)]: Using backend SequentialBackend with 1 concurrent workers.\n",
      "[Parallel(n_jobs=1)]: Done 120 out of 120 | elapsed:   29.2s finished\n"
     ]
    },
    {
     "name": "stdout",
     "output_type": "stream",
     "text": [
      "best score: 0.6764705882352942\n",
      "Split: 1\n",
      "Split: 2\n",
      "Split: 3\n",
      "Split: 4\n",
      "Split: 5\n",
      "Split: 6\n",
      "Split: 7\n",
      "Split: 8\n",
      "Split: 9\n",
      "Split: 10\n",
      "Training Testing Accuracy for n_games=5 team=10 : 68.25% (4.11%)\n",
      "(181, 944)\n",
      "(181, 1)\n",
      "X_train shape: (162, 1601)\n",
      "X_test shape: (19, 1601)\n",
      "Fitting 10 folds for each of 12 candidates, totalling 120 fits\n"
     ]
    },
    {
     "name": "stderr",
     "output_type": "stream",
     "text": [
      "[Parallel(n_jobs=1)]: Using backend SequentialBackend with 1 concurrent workers.\n",
      "[Parallel(n_jobs=1)]: Done 120 out of 120 | elapsed:   24.1s finished\n"
     ]
    },
    {
     "name": "stdout",
     "output_type": "stream",
     "text": [
      "best score: 0.6111111111111112\n",
      "Fitting 10 folds for each of 12 candidates, totalling 120 fits\n"
     ]
    },
    {
     "name": "stderr",
     "output_type": "stream",
     "text": [
      "[Parallel(n_jobs=1)]: Using backend SequentialBackend with 1 concurrent workers.\n",
      "[Parallel(n_jobs=1)]: Done 120 out of 120 | elapsed:   48.9s finished\n"
     ]
    },
    {
     "name": "stdout",
     "output_type": "stream",
     "text": [
      "best score: 0.6111111111111112\n",
      "Fitting 10 folds for each of 12 candidates, totalling 120 fits\n"
     ]
    },
    {
     "name": "stderr",
     "output_type": "stream",
     "text": [
      "[Parallel(n_jobs=1)]: Using backend SequentialBackend with 1 concurrent workers.\n",
      "[Parallel(n_jobs=1)]: Done 120 out of 120 | elapsed:   32.5s finished\n"
     ]
    },
    {
     "name": "stdout",
     "output_type": "stream",
     "text": [
      "best score: 0.6172839506172839\n",
      "Fitting 10 folds for each of 12 candidates, totalling 120 fits\n"
     ]
    },
    {
     "name": "stderr",
     "output_type": "stream",
     "text": [
      "[Parallel(n_jobs=1)]: Using backend SequentialBackend with 1 concurrent workers.\n",
      "[Parallel(n_jobs=1)]: Done 120 out of 120 | elapsed:   24.1s finished\n"
     ]
    },
    {
     "name": "stdout",
     "output_type": "stream",
     "text": [
      "best score: 0.6172839506172839\n",
      "Fitting 10 folds for each of 12 candidates, totalling 120 fits\n"
     ]
    },
    {
     "name": "stderr",
     "output_type": "stream",
     "text": [
      "[Parallel(n_jobs=1)]: Using backend SequentialBackend with 1 concurrent workers.\n",
      "[Parallel(n_jobs=1)]: Done 120 out of 120 | elapsed:   22.9s finished\n"
     ]
    },
    {
     "name": "stdout",
     "output_type": "stream",
     "text": [
      "best score: 0.6172839506172839\n",
      "Split: 1\n",
      "Split: 2\n",
      "Split: 3\n",
      "Split: 4\n",
      "Split: 5\n",
      "Split: 6\n",
      "Split: 7\n",
      "Split: 8\n",
      "Split: 9\n",
      "Split: 10\n",
      "Training Testing Accuracy for n_games=5 team=11 : 58.54% (6.33%)\n",
      "(182, 944)\n",
      "(182, 1)\n",
      "X_train shape: (163, 1591)\n",
      "X_test shape: (19, 1591)\n",
      "Fitting 10 folds for each of 12 candidates, totalling 120 fits\n"
     ]
    },
    {
     "name": "stderr",
     "output_type": "stream",
     "text": [
      "[Parallel(n_jobs=1)]: Using backend SequentialBackend with 1 concurrent workers.\n",
      "[Parallel(n_jobs=1)]: Done 120 out of 120 | elapsed:   24.7s finished\n"
     ]
    },
    {
     "name": "stdout",
     "output_type": "stream",
     "text": [
      "best score: 0.5705521472392638\n",
      "Fitting 10 folds for each of 12 candidates, totalling 120 fits\n"
     ]
    },
    {
     "name": "stderr",
     "output_type": "stream",
     "text": [
      "[Parallel(n_jobs=1)]: Using backend SequentialBackend with 1 concurrent workers.\n",
      "[Parallel(n_jobs=1)]: Done 120 out of 120 | elapsed:   39.2s finished\n"
     ]
    },
    {
     "name": "stdout",
     "output_type": "stream",
     "text": [
      "best score: 0.5705521472392638\n",
      "Fitting 10 folds for each of 12 candidates, totalling 120 fits\n"
     ]
    },
    {
     "name": "stderr",
     "output_type": "stream",
     "text": [
      "[Parallel(n_jobs=1)]: Using backend SequentialBackend with 1 concurrent workers.\n",
      "[Parallel(n_jobs=1)]: Done 120 out of 120 | elapsed:   23.0s finished\n"
     ]
    },
    {
     "name": "stdout",
     "output_type": "stream",
     "text": [
      "best score: 0.5705521472392638\n",
      "Fitting 10 folds for each of 12 candidates, totalling 120 fits\n"
     ]
    },
    {
     "name": "stderr",
     "output_type": "stream",
     "text": [
      "[Parallel(n_jobs=1)]: Using backend SequentialBackend with 1 concurrent workers.\n",
      "[Parallel(n_jobs=1)]: Done 120 out of 120 | elapsed:   26.5s finished\n"
     ]
    },
    {
     "name": "stdout",
     "output_type": "stream",
     "text": [
      "best score: 0.5705521472392638\n",
      "Fitting 10 folds for each of 12 candidates, totalling 120 fits\n"
     ]
    },
    {
     "name": "stderr",
     "output_type": "stream",
     "text": [
      "[Parallel(n_jobs=1)]: Using backend SequentialBackend with 1 concurrent workers.\n",
      "[Parallel(n_jobs=1)]: Done 120 out of 120 | elapsed:   23.0s finished\n"
     ]
    },
    {
     "name": "stdout",
     "output_type": "stream",
     "text": [
      "best score: 0.5705521472392638\n",
      "Split: 1\n",
      "Split: 2\n",
      "Split: 3\n",
      "Split: 4\n",
      "Split: 5\n",
      "Split: 6\n",
      "Split: 7\n",
      "Split: 8\n",
      "Split: 9\n",
      "Split: 10\n",
      "Training Testing Accuracy for n_games=5 team=12 : 50.61% (7.27%)\n",
      "(183, 944)\n",
      "(183, 1)\n",
      "X_train shape: (164, 1613)\n",
      "X_test shape: (19, 1613)\n",
      "Fitting 10 folds for each of 12 candidates, totalling 120 fits\n"
     ]
    },
    {
     "name": "stderr",
     "output_type": "stream",
     "text": [
      "[Parallel(n_jobs=1)]: Using backend SequentialBackend with 1 concurrent workers.\n",
      "[Parallel(n_jobs=1)]: Done 120 out of 120 | elapsed:   24.2s finished\n"
     ]
    },
    {
     "name": "stdout",
     "output_type": "stream",
     "text": [
      "best score: 0.6036585365853658\n",
      "Fitting 10 folds for each of 12 candidates, totalling 120 fits\n"
     ]
    },
    {
     "name": "stderr",
     "output_type": "stream",
     "text": [
      "[Parallel(n_jobs=1)]: Using backend SequentialBackend with 1 concurrent workers.\n",
      "[Parallel(n_jobs=1)]: Done 120 out of 120 | elapsed:   21.2s finished\n"
     ]
    },
    {
     "name": "stdout",
     "output_type": "stream",
     "text": [
      "best score: 0.6036585365853658\n",
      "Fitting 10 folds for each of 12 candidates, totalling 120 fits\n"
     ]
    },
    {
     "name": "stderr",
     "output_type": "stream",
     "text": [
      "[Parallel(n_jobs=1)]: Using backend SequentialBackend with 1 concurrent workers.\n",
      "[Parallel(n_jobs=1)]: Done 120 out of 120 | elapsed:   21.3s finished\n"
     ]
    },
    {
     "name": "stdout",
     "output_type": "stream",
     "text": [
      "best score: 0.6036585365853658\n",
      "Fitting 10 folds for each of 12 candidates, totalling 120 fits\n"
     ]
    },
    {
     "name": "stderr",
     "output_type": "stream",
     "text": [
      "[Parallel(n_jobs=1)]: Using backend SequentialBackend with 1 concurrent workers.\n",
      "[Parallel(n_jobs=1)]: Done 120 out of 120 | elapsed:   32.9s finished\n"
     ]
    },
    {
     "name": "stdout",
     "output_type": "stream",
     "text": [
      "best score: 0.6280487804878049\n",
      "Fitting 10 folds for each of 12 candidates, totalling 120 fits\n"
     ]
    },
    {
     "name": "stderr",
     "output_type": "stream",
     "text": [
      "[Parallel(n_jobs=1)]: Using backend SequentialBackend with 1 concurrent workers.\n",
      "[Parallel(n_jobs=1)]: Done 120 out of 120 | elapsed:   21.2s finished\n"
     ]
    },
    {
     "name": "stdout",
     "output_type": "stream",
     "text": [
      "best score: 0.6280487804878049\n",
      "Split: 1\n",
      "Split: 2\n",
      "Split: 3\n",
      "Split: 4\n",
      "Split: 5\n",
      "Split: 6\n",
      "Split: 7\n",
      "Split: 8\n",
      "Split: 9\n",
      "Split: 10\n",
      "Training Testing Accuracy for n_games=5 team=13 : 58.68% (11.79%)\n",
      "(186, 944)\n",
      "(186, 1)\n",
      "X_train shape: (167, 1593)\n",
      "X_test shape: (19, 1593)\n",
      "Fitting 10 folds for each of 12 candidates, totalling 120 fits\n"
     ]
    },
    {
     "name": "stderr",
     "output_type": "stream",
     "text": [
      "[Parallel(n_jobs=1)]: Using backend SequentialBackend with 1 concurrent workers.\n",
      "[Parallel(n_jobs=1)]: Done 120 out of 120 | elapsed:   24.3s finished\n"
     ]
    },
    {
     "name": "stdout",
     "output_type": "stream",
     "text": [
      "best score: 0.6347305389221557\n",
      "Fitting 10 folds for each of 12 candidates, totalling 120 fits\n"
     ]
    },
    {
     "name": "stderr",
     "output_type": "stream",
     "text": [
      "[Parallel(n_jobs=1)]: Using backend SequentialBackend with 1 concurrent workers.\n",
      "[Parallel(n_jobs=1)]: Done 120 out of 120 | elapsed:   17.6s finished\n"
     ]
    },
    {
     "name": "stdout",
     "output_type": "stream",
     "text": [
      "best score: 0.6347305389221557\n",
      "Fitting 10 folds for each of 12 candidates, totalling 120 fits\n"
     ]
    },
    {
     "name": "stderr",
     "output_type": "stream",
     "text": [
      "[Parallel(n_jobs=1)]: Using backend SequentialBackend with 1 concurrent workers.\n",
      "[Parallel(n_jobs=1)]: Done 120 out of 120 | elapsed:   21.2s finished\n"
     ]
    },
    {
     "name": "stdout",
     "output_type": "stream",
     "text": [
      "best score: 0.6347305389221557\n",
      "Fitting 10 folds for each of 12 candidates, totalling 120 fits\n"
     ]
    },
    {
     "name": "stderr",
     "output_type": "stream",
     "text": [
      "[Parallel(n_jobs=1)]: Using backend SequentialBackend with 1 concurrent workers.\n",
      "[Parallel(n_jobs=1)]: Done 120 out of 120 | elapsed:   20.4s finished\n"
     ]
    },
    {
     "name": "stdout",
     "output_type": "stream",
     "text": [
      "best score: 0.6347305389221557\n",
      "Fitting 10 folds for each of 12 candidates, totalling 120 fits\n"
     ]
    },
    {
     "name": "stderr",
     "output_type": "stream",
     "text": [
      "[Parallel(n_jobs=1)]: Using backend SequentialBackend with 1 concurrent workers.\n",
      "[Parallel(n_jobs=1)]: Done 120 out of 120 | elapsed:   17.6s finished\n"
     ]
    },
    {
     "name": "stdout",
     "output_type": "stream",
     "text": [
      "best score: 0.6347305389221557\n",
      "Split: 1\n",
      "Split: 2\n",
      "Split: 3\n",
      "Split: 4\n",
      "Split: 5\n",
      "Split: 6\n",
      "Split: 7\n",
      "Split: 8\n",
      "Split: 9\n",
      "Split: 10\n",
      "Training Testing Accuracy for n_games=5 team=14 : 60.79% (3.67%)\n",
      "(175, 944)\n",
      "(175, 1)\n",
      "X_train shape: (157, 1588)\n",
      "X_test shape: (18, 1588)\n",
      "Fitting 10 folds for each of 12 candidates, totalling 120 fits\n"
     ]
    },
    {
     "name": "stderr",
     "output_type": "stream",
     "text": [
      "[Parallel(n_jobs=1)]: Using backend SequentialBackend with 1 concurrent workers.\n",
      "[Parallel(n_jobs=1)]: Done 120 out of 120 | elapsed:   24.4s finished\n"
     ]
    },
    {
     "name": "stdout",
     "output_type": "stream",
     "text": [
      "best score: 0.6687898089171974\n",
      "Fitting 10 folds for each of 12 candidates, totalling 120 fits\n"
     ]
    },
    {
     "name": "stderr",
     "output_type": "stream",
     "text": [
      "[Parallel(n_jobs=1)]: Using backend SequentialBackend with 1 concurrent workers.\n",
      "[Parallel(n_jobs=1)]: Done 120 out of 120 | elapsed:   25.2s finished\n"
     ]
    },
    {
     "name": "stdout",
     "output_type": "stream",
     "text": [
      "best score: 0.6687898089171974\n",
      "Fitting 10 folds for each of 12 candidates, totalling 120 fits\n"
     ]
    },
    {
     "name": "stderr",
     "output_type": "stream",
     "text": [
      "[Parallel(n_jobs=1)]: Using backend SequentialBackend with 1 concurrent workers.\n",
      "[Parallel(n_jobs=1)]: Done 120 out of 120 | elapsed:   17.1s finished\n"
     ]
    },
    {
     "name": "stdout",
     "output_type": "stream",
     "text": [
      "best score: 0.6687898089171974\n",
      "Fitting 10 folds for each of 12 candidates, totalling 120 fits\n"
     ]
    },
    {
     "name": "stderr",
     "output_type": "stream",
     "text": [
      "[Parallel(n_jobs=1)]: Using backend SequentialBackend with 1 concurrent workers.\n",
      "[Parallel(n_jobs=1)]: Done 120 out of 120 | elapsed:   23.1s finished\n"
     ]
    },
    {
     "name": "stdout",
     "output_type": "stream",
     "text": [
      "best score: 0.6687898089171974\n",
      "Fitting 10 folds for each of 12 candidates, totalling 120 fits\n"
     ]
    },
    {
     "name": "stderr",
     "output_type": "stream",
     "text": [
      "[Parallel(n_jobs=1)]: Using backend SequentialBackend with 1 concurrent workers.\n",
      "[Parallel(n_jobs=1)]: Done 120 out of 120 | elapsed:   17.0s finished\n"
     ]
    },
    {
     "name": "stdout",
     "output_type": "stream",
     "text": [
      "best score: 0.6687898089171974\n",
      "Split: 1\n",
      "Split: 2\n",
      "Split: 3\n",
      "Split: 4\n",
      "Split: 5\n",
      "Split: 6\n",
      "Split: 7\n",
      "Split: 8\n",
      "Split: 9\n",
      "Split: 10\n",
      "Training Testing Accuracy for n_games=5 team=15 : 64.64% (6.22%)\n",
      "(191, 944)\n",
      "(191, 1)\n",
      "X_train shape: (171, 1602)\n",
      "X_test shape: (20, 1602)\n",
      "Fitting 10 folds for each of 12 candidates, totalling 120 fits\n"
     ]
    },
    {
     "name": "stderr",
     "output_type": "stream",
     "text": [
      "[Parallel(n_jobs=1)]: Using backend SequentialBackend with 1 concurrent workers.\n",
      "[Parallel(n_jobs=1)]: Done 120 out of 120 | elapsed:   23.9s finished\n"
     ]
    },
    {
     "name": "stdout",
     "output_type": "stream",
     "text": [
      "best score: 0.6432748538011696\n",
      "Fitting 10 folds for each of 12 candidates, totalling 120 fits\n"
     ]
    },
    {
     "name": "stderr",
     "output_type": "stream",
     "text": [
      "[Parallel(n_jobs=1)]: Using backend SequentialBackend with 1 concurrent workers.\n",
      "[Parallel(n_jobs=1)]: Done 120 out of 120 | elapsed:   17.4s finished\n"
     ]
    },
    {
     "name": "stdout",
     "output_type": "stream",
     "text": [
      "best score: 0.6432748538011696\n",
      "Fitting 10 folds for each of 12 candidates, totalling 120 fits\n"
     ]
    },
    {
     "name": "stderr",
     "output_type": "stream",
     "text": [
      "[Parallel(n_jobs=1)]: Using backend SequentialBackend with 1 concurrent workers.\n",
      "[Parallel(n_jobs=1)]: Done 120 out of 120 | elapsed:   19.9s finished\n"
     ]
    },
    {
     "name": "stdout",
     "output_type": "stream",
     "text": [
      "best score: 0.6432748538011696\n",
      "Fitting 10 folds for each of 12 candidates, totalling 120 fits\n"
     ]
    },
    {
     "name": "stderr",
     "output_type": "stream",
     "text": [
      "[Parallel(n_jobs=1)]: Using backend SequentialBackend with 1 concurrent workers.\n",
      "[Parallel(n_jobs=1)]: Done 120 out of 120 | elapsed:   20.8s finished\n"
     ]
    },
    {
     "name": "stdout",
     "output_type": "stream",
     "text": [
      "best score: 0.6432748538011696\n",
      "Fitting 10 folds for each of 12 candidates, totalling 120 fits\n"
     ]
    },
    {
     "name": "stderr",
     "output_type": "stream",
     "text": [
      "[Parallel(n_jobs=1)]: Using backend SequentialBackend with 1 concurrent workers.\n",
      "[Parallel(n_jobs=1)]: Done 120 out of 120 | elapsed:   20.2s finished\n"
     ]
    },
    {
     "name": "stdout",
     "output_type": "stream",
     "text": [
      "best score: 0.6432748538011696\n",
      "Split: 1\n",
      "Split: 2\n",
      "Split: 3\n",
      "Split: 4\n",
      "Split: 5\n",
      "Split: 6\n",
      "Split: 7\n",
      "Split: 8\n",
      "Split: 9\n",
      "Split: 10\n",
      "Training Testing Accuracy for n_games=5 team=16 : 63.87% (1.61%)\n",
      "(186, 944)\n",
      "(186, 1)\n",
      "X_train shape: (167, 1600)\n",
      "X_test shape: (19, 1600)\n",
      "Fitting 10 folds for each of 12 candidates, totalling 120 fits\n"
     ]
    },
    {
     "name": "stderr",
     "output_type": "stream",
     "text": [
      "[Parallel(n_jobs=1)]: Using backend SequentialBackend with 1 concurrent workers.\n",
      "[Parallel(n_jobs=1)]: Done 120 out of 120 | elapsed:   24.8s finished\n"
     ]
    },
    {
     "name": "stdout",
     "output_type": "stream",
     "text": [
      "best score: 0.6107784431137725\n",
      "Fitting 10 folds for each of 12 candidates, totalling 120 fits\n"
     ]
    },
    {
     "name": "stderr",
     "output_type": "stream",
     "text": [
      "[Parallel(n_jobs=1)]: Using backend SequentialBackend with 1 concurrent workers.\n",
      "[Parallel(n_jobs=1)]: Done 120 out of 120 | elapsed:   24.3s finished\n"
     ]
    },
    {
     "name": "stdout",
     "output_type": "stream",
     "text": [
      "best score: 0.6287425149700598\n",
      "Fitting 10 folds for each of 12 candidates, totalling 120 fits\n"
     ]
    },
    {
     "name": "stderr",
     "output_type": "stream",
     "text": [
      "[Parallel(n_jobs=1)]: Using backend SequentialBackend with 1 concurrent workers.\n",
      "[Parallel(n_jobs=1)]: Done 120 out of 120 | elapsed:   31.7s finished\n"
     ]
    },
    {
     "name": "stdout",
     "output_type": "stream",
     "text": [
      "best score: 0.6287425149700598\n",
      "Fitting 10 folds for each of 12 candidates, totalling 120 fits\n"
     ]
    },
    {
     "name": "stderr",
     "output_type": "stream",
     "text": [
      "[Parallel(n_jobs=1)]: Using backend SequentialBackend with 1 concurrent workers.\n",
      "[Parallel(n_jobs=1)]: Done 120 out of 120 | elapsed:   22.7s finished\n"
     ]
    },
    {
     "name": "stdout",
     "output_type": "stream",
     "text": [
      "best score: 0.6407185628742516\n",
      "Fitting 10 folds for each of 12 candidates, totalling 120 fits\n"
     ]
    },
    {
     "name": "stderr",
     "output_type": "stream",
     "text": [
      "[Parallel(n_jobs=1)]: Using backend SequentialBackend with 1 concurrent workers.\n",
      "[Parallel(n_jobs=1)]: Done 120 out of 120 | elapsed:   20.6s finished\n"
     ]
    },
    {
     "name": "stdout",
     "output_type": "stream",
     "text": [
      "best score: 0.6407185628742516\n",
      "Split: 1\n",
      "Split: 2\n",
      "Split: 3\n",
      "Split: 4\n",
      "Split: 5\n",
      "Split: 6\n",
      "Split: 7\n",
      "Split: 8\n",
      "Split: 9\n",
      "Split: 10\n",
      "Training Testing Accuracy for n_games=5 team=17 : 65.20% (10.65%)\n",
      "(185, 944)\n",
      "(185, 1)\n",
      "X_train shape: (166, 1613)\n",
      "X_test shape: (19, 1613)\n",
      "Fitting 10 folds for each of 12 candidates, totalling 120 fits\n"
     ]
    },
    {
     "name": "stderr",
     "output_type": "stream",
     "text": [
      "[Parallel(n_jobs=1)]: Using backend SequentialBackend with 1 concurrent workers.\n",
      "[Parallel(n_jobs=1)]: Done 120 out of 120 | elapsed:   24.7s finished\n"
     ]
    },
    {
     "name": "stdout",
     "output_type": "stream",
     "text": [
      "best score: 0.5602409638554217\n",
      "Fitting 10 folds for each of 12 candidates, totalling 120 fits\n"
     ]
    },
    {
     "name": "stderr",
     "output_type": "stream",
     "text": [
      "[Parallel(n_jobs=1)]: Using backend SequentialBackend with 1 concurrent workers.\n",
      "[Parallel(n_jobs=1)]: Done 120 out of 120 | elapsed:   17.7s finished\n"
     ]
    },
    {
     "name": "stdout",
     "output_type": "stream",
     "text": [
      "best score: 0.5602409638554217\n",
      "Fitting 10 folds for each of 12 candidates, totalling 120 fits\n"
     ]
    },
    {
     "name": "stderr",
     "output_type": "stream",
     "text": [
      "[Parallel(n_jobs=1)]: Using backend SequentialBackend with 1 concurrent workers.\n",
      "[Parallel(n_jobs=1)]: Done 120 out of 120 | elapsed:   24.6s finished\n"
     ]
    },
    {
     "name": "stdout",
     "output_type": "stream",
     "text": [
      "best score: 0.5602409638554217\n",
      "Fitting 10 folds for each of 12 candidates, totalling 120 fits\n"
     ]
    },
    {
     "name": "stderr",
     "output_type": "stream",
     "text": [
      "[Parallel(n_jobs=1)]: Using backend SequentialBackend with 1 concurrent workers.\n",
      "[Parallel(n_jobs=1)]: Done 120 out of 120 | elapsed:  1.2min finished\n"
     ]
    },
    {
     "name": "stdout",
     "output_type": "stream",
     "text": [
      "best score: 0.5602409638554217\n",
      "Fitting 10 folds for each of 12 candidates, totalling 120 fits\n"
     ]
    },
    {
     "name": "stderr",
     "output_type": "stream",
     "text": [
      "[Parallel(n_jobs=1)]: Using backend SequentialBackend with 1 concurrent workers.\n",
      "[Parallel(n_jobs=1)]: Done 120 out of 120 | elapsed:   18.9s finished\n"
     ]
    },
    {
     "name": "stdout",
     "output_type": "stream",
     "text": [
      "best score: 0.5662650602409639\n",
      "Split: 1\n",
      "Split: 2\n",
      "Split: 3\n",
      "Split: 4\n",
      "Split: 5\n",
      "Split: 6\n",
      "Split: 7\n",
      "Split: 8\n",
      "Split: 9\n",
      "Split: 10\n",
      "Training Testing Accuracy for n_games=5 team=18 : 52.87% (8.25%)\n",
      "Accuracy for Team Models for n_games= 5 : 60.59% (6.29%)\n",
      "(180, 1130)\n",
      "(180, 1)\n",
      "X_train shape: (162, 1909)\n",
      "X_test shape: (18, 1909)\n",
      "Fitting 10 folds for each of 12 candidates, totalling 120 fits\n"
     ]
    },
    {
     "name": "stderr",
     "output_type": "stream",
     "text": [
      "[Parallel(n_jobs=1)]: Using backend SequentialBackend with 1 concurrent workers.\n",
      "[Parallel(n_jobs=1)]: Done 120 out of 120 | elapsed:   28.0s finished\n"
     ]
    },
    {
     "name": "stdout",
     "output_type": "stream",
     "text": [
      "best score: 0.5617283950617284\n",
      "Fitting 10 folds for each of 12 candidates, totalling 120 fits\n"
     ]
    },
    {
     "name": "stderr",
     "output_type": "stream",
     "text": [
      "[Parallel(n_jobs=1)]: Using backend SequentialBackend with 1 concurrent workers.\n",
      "[Parallel(n_jobs=1)]: Done 120 out of 120 | elapsed:   24.6s finished\n"
     ]
    },
    {
     "name": "stdout",
     "output_type": "stream",
     "text": [
      "best score: 0.5617283950617284\n",
      "Fitting 10 folds for each of 12 candidates, totalling 120 fits\n"
     ]
    },
    {
     "name": "stderr",
     "output_type": "stream",
     "text": [
      "[Parallel(n_jobs=1)]: Using backend SequentialBackend with 1 concurrent workers.\n",
      "[Parallel(n_jobs=1)]: Done 120 out of 120 | elapsed:   22.9s finished\n"
     ]
    },
    {
     "name": "stdout",
     "output_type": "stream",
     "text": [
      "best score: 0.5617283950617284\n",
      "Fitting 10 folds for each of 12 candidates, totalling 120 fits\n"
     ]
    },
    {
     "name": "stderr",
     "output_type": "stream",
     "text": [
      "[Parallel(n_jobs=1)]: Using backend SequentialBackend with 1 concurrent workers.\n",
      "[Parallel(n_jobs=1)]: Done 120 out of 120 | elapsed:   41.5s finished\n"
     ]
    },
    {
     "name": "stdout",
     "output_type": "stream",
     "text": [
      "best score: 0.5617283950617284\n",
      "Fitting 10 folds for each of 12 candidates, totalling 120 fits\n"
     ]
    },
    {
     "name": "stderr",
     "output_type": "stream",
     "text": [
      "[Parallel(n_jobs=1)]: Using backend SequentialBackend with 1 concurrent workers.\n",
      "[Parallel(n_jobs=1)]: Done 120 out of 120 | elapsed:   19.8s finished\n"
     ]
    },
    {
     "name": "stdout",
     "output_type": "stream",
     "text": [
      "best score: 0.5617283950617284\n",
      "Split: 1\n",
      "Split: 2\n",
      "Split: 3\n",
      "Split: 4\n",
      "Split: 5\n",
      "Split: 6\n",
      "Split: 7\n",
      "Split: 8\n",
      "Split: 9\n",
      "Split: 10\n",
      "Training Testing Accuracy for n_games=6 team=1 : 60.00% (11.86%)\n",
      "(178, 1130)\n",
      "(178, 1)\n",
      "X_train shape: (160, 1886)\n",
      "X_test shape: (18, 1886)\n",
      "Fitting 10 folds for each of 12 candidates, totalling 120 fits\n"
     ]
    },
    {
     "name": "stderr",
     "output_type": "stream",
     "text": [
      "[Parallel(n_jobs=1)]: Using backend SequentialBackend with 1 concurrent workers.\n",
      "[Parallel(n_jobs=1)]: Done 120 out of 120 | elapsed:   27.3s finished\n"
     ]
    },
    {
     "name": "stdout",
     "output_type": "stream",
     "text": [
      "best score: 0.66875\n",
      "Fitting 10 folds for each of 12 candidates, totalling 120 fits\n"
     ]
    },
    {
     "name": "stderr",
     "output_type": "stream",
     "text": [
      "[Parallel(n_jobs=1)]: Using backend SequentialBackend with 1 concurrent workers.\n",
      "[Parallel(n_jobs=1)]: Done 120 out of 120 | elapsed:   44.5s finished\n"
     ]
    },
    {
     "name": "stdout",
     "output_type": "stream",
     "text": [
      "best score: 0.66875\n",
      "Fitting 10 folds for each of 12 candidates, totalling 120 fits\n"
     ]
    },
    {
     "name": "stderr",
     "output_type": "stream",
     "text": [
      "[Parallel(n_jobs=1)]: Using backend SequentialBackend with 1 concurrent workers.\n",
      "[Parallel(n_jobs=1)]: Done 120 out of 120 | elapsed:   23.7s finished\n"
     ]
    },
    {
     "name": "stdout",
     "output_type": "stream",
     "text": [
      "best score: 0.66875\n",
      "Fitting 10 folds for each of 12 candidates, totalling 120 fits\n"
     ]
    },
    {
     "name": "stderr",
     "output_type": "stream",
     "text": [
      "[Parallel(n_jobs=1)]: Using backend SequentialBackend with 1 concurrent workers.\n",
      "[Parallel(n_jobs=1)]: Done 120 out of 120 | elapsed:   24.4s finished\n"
     ]
    },
    {
     "name": "stdout",
     "output_type": "stream",
     "text": [
      "best score: 0.66875\n",
      "Fitting 10 folds for each of 12 candidates, totalling 120 fits\n"
     ]
    },
    {
     "name": "stderr",
     "output_type": "stream",
     "text": [
      "[Parallel(n_jobs=1)]: Using backend SequentialBackend with 1 concurrent workers.\n",
      "[Parallel(n_jobs=1)]: Done 120 out of 120 | elapsed:   25.8s finished\n"
     ]
    },
    {
     "name": "stdout",
     "output_type": "stream",
     "text": [
      "best score: 0.66875\n",
      "Split: 1\n",
      "Split: 2\n",
      "Split: 3\n",
      "Split: 4\n",
      "Split: 5\n",
      "Split: 6\n",
      "Split: 7\n",
      "Split: 8\n",
      "Split: 9\n",
      "Split: 10\n",
      "Training Testing Accuracy for n_games=6 team=2 : 66.31% (5.98%)\n",
      "(176, 1130)\n",
      "(176, 1)\n",
      "X_train shape: (158, 1884)\n",
      "X_test shape: (18, 1884)\n",
      "Fitting 10 folds for each of 12 candidates, totalling 120 fits\n"
     ]
    },
    {
     "name": "stderr",
     "output_type": "stream",
     "text": [
      "[Parallel(n_jobs=1)]: Using backend SequentialBackend with 1 concurrent workers.\n",
      "[Parallel(n_jobs=1)]: Done 120 out of 120 | elapsed:   27.4s finished\n"
     ]
    },
    {
     "name": "stdout",
     "output_type": "stream",
     "text": [
      "best score: 0.7025316455696202\n",
      "Fitting 10 folds for each of 12 candidates, totalling 120 fits\n"
     ]
    },
    {
     "name": "stderr",
     "output_type": "stream",
     "text": [
      "[Parallel(n_jobs=1)]: Using backend SequentialBackend with 1 concurrent workers.\n",
      "[Parallel(n_jobs=1)]: Done 120 out of 120 | elapsed:   21.2s finished\n"
     ]
    },
    {
     "name": "stdout",
     "output_type": "stream",
     "text": [
      "best score: 0.7025316455696202\n",
      "Fitting 10 folds for each of 12 candidates, totalling 120 fits\n"
     ]
    },
    {
     "name": "stderr",
     "output_type": "stream",
     "text": [
      "[Parallel(n_jobs=1)]: Using backend SequentialBackend with 1 concurrent workers.\n",
      "[Parallel(n_jobs=1)]: Done 120 out of 120 | elapsed:   22.0s finished\n"
     ]
    },
    {
     "name": "stdout",
     "output_type": "stream",
     "text": [
      "best score: 0.7025316455696202\n",
      "Fitting 10 folds for each of 12 candidates, totalling 120 fits\n"
     ]
    },
    {
     "name": "stderr",
     "output_type": "stream",
     "text": [
      "[Parallel(n_jobs=1)]: Using backend SequentialBackend with 1 concurrent workers.\n",
      "[Parallel(n_jobs=1)]: Done 120 out of 120 | elapsed:  1.2min finished\n"
     ]
    },
    {
     "name": "stdout",
     "output_type": "stream",
     "text": [
      "best score: 0.7025316455696202\n",
      "Fitting 10 folds for each of 12 candidates, totalling 120 fits\n"
     ]
    },
    {
     "name": "stderr",
     "output_type": "stream",
     "text": [
      "[Parallel(n_jobs=1)]: Using backend SequentialBackend with 1 concurrent workers.\n",
      "[Parallel(n_jobs=1)]: Done 120 out of 120 | elapsed:   26.6s finished\n"
     ]
    },
    {
     "name": "stdout",
     "output_type": "stream",
     "text": [
      "best score: 0.7025316455696202\n",
      "Split: 1\n",
      "Split: 2\n",
      "Split: 3\n",
      "Split: 4\n",
      "Split: 5\n",
      "Split: 6\n",
      "Split: 7\n",
      "Split: 8\n",
      "Split: 9\n",
      "Split: 10\n",
      "Training Testing Accuracy for n_games=6 team=3 : 69.35% (2.27%)\n",
      "(181, 1130)\n",
      "(181, 1)\n",
      "X_train shape: (162, 1889)\n",
      "X_test shape: (19, 1889)\n",
      "Fitting 10 folds for each of 12 candidates, totalling 120 fits\n"
     ]
    },
    {
     "name": "stderr",
     "output_type": "stream",
     "text": [
      "[Parallel(n_jobs=1)]: Using backend SequentialBackend with 1 concurrent workers.\n",
      "[Parallel(n_jobs=1)]: Done 120 out of 120 | elapsed:   27.8s finished\n"
     ]
    },
    {
     "name": "stdout",
     "output_type": "stream",
     "text": [
      "best score: 0.6790123456790124\n",
      "Fitting 10 folds for each of 12 candidates, totalling 120 fits\n"
     ]
    },
    {
     "name": "stderr",
     "output_type": "stream",
     "text": [
      "[Parallel(n_jobs=1)]: Using backend SequentialBackend with 1 concurrent workers.\n",
      "[Parallel(n_jobs=1)]: Done 120 out of 120 | elapsed:   32.1s finished\n"
     ]
    },
    {
     "name": "stdout",
     "output_type": "stream",
     "text": [
      "best score: 0.6790123456790124\n",
      "Fitting 10 folds for each of 12 candidates, totalling 120 fits\n"
     ]
    },
    {
     "name": "stderr",
     "output_type": "stream",
     "text": [
      "[Parallel(n_jobs=1)]: Using backend SequentialBackend with 1 concurrent workers.\n",
      "[Parallel(n_jobs=1)]: Done 120 out of 120 | elapsed:   32.9s finished\n"
     ]
    },
    {
     "name": "stdout",
     "output_type": "stream",
     "text": [
      "best score: 0.6790123456790124\n",
      "Fitting 10 folds for each of 12 candidates, totalling 120 fits\n"
     ]
    },
    {
     "name": "stderr",
     "output_type": "stream",
     "text": [
      "[Parallel(n_jobs=1)]: Using backend SequentialBackend with 1 concurrent workers.\n",
      "[Parallel(n_jobs=1)]: Done 120 out of 120 | elapsed:   21.2s finished\n"
     ]
    },
    {
     "name": "stdout",
     "output_type": "stream",
     "text": [
      "best score: 0.6790123456790124\n",
      "Fitting 10 folds for each of 12 candidates, totalling 120 fits\n"
     ]
    },
    {
     "name": "stderr",
     "output_type": "stream",
     "text": [
      "[Parallel(n_jobs=1)]: Using backend SequentialBackend with 1 concurrent workers.\n",
      "[Parallel(n_jobs=1)]: Done 120 out of 120 | elapsed:   54.6s finished\n"
     ]
    },
    {
     "name": "stdout",
     "output_type": "stream",
     "text": [
      "best score: 0.6790123456790124\n",
      "Split: 1\n",
      "Split: 2\n",
      "Split: 3\n",
      "Split: 4\n",
      "Split: 5\n",
      "Split: 6\n",
      "Split: 7\n",
      "Split: 8\n",
      "Split: 9\n",
      "Split: 10\n",
      "Training Testing Accuracy for n_games=6 team=4 : 57.46% (8.96%)\n",
      "(178, 1130)\n",
      "(178, 1)\n",
      "X_train shape: (160, 1873)\n",
      "X_test shape: (18, 1873)\n",
      "Fitting 10 folds for each of 12 candidates, totalling 120 fits\n"
     ]
    },
    {
     "name": "stderr",
     "output_type": "stream",
     "text": [
      "[Parallel(n_jobs=1)]: Using backend SequentialBackend with 1 concurrent workers.\n",
      "[Parallel(n_jobs=1)]: Done 120 out of 120 | elapsed:   27.1s finished\n"
     ]
    },
    {
     "name": "stdout",
     "output_type": "stream",
     "text": [
      "best score: 0.61875\n",
      "Fitting 10 folds for each of 12 candidates, totalling 120 fits\n"
     ]
    },
    {
     "name": "stderr",
     "output_type": "stream",
     "text": [
      "[Parallel(n_jobs=1)]: Using backend SequentialBackend with 1 concurrent workers.\n",
      "[Parallel(n_jobs=1)]: Done 120 out of 120 | elapsed:   55.3s finished\n"
     ]
    },
    {
     "name": "stdout",
     "output_type": "stream",
     "text": [
      "best score: 0.61875\n",
      "Fitting 10 folds for each of 12 candidates, totalling 120 fits\n"
     ]
    },
    {
     "name": "stderr",
     "output_type": "stream",
     "text": [
      "[Parallel(n_jobs=1)]: Using backend SequentialBackend with 1 concurrent workers.\n",
      "[Parallel(n_jobs=1)]: Done 120 out of 120 | elapsed:   57.1s finished\n"
     ]
    },
    {
     "name": "stdout",
     "output_type": "stream",
     "text": [
      "best score: 0.61875\n",
      "Fitting 10 folds for each of 12 candidates, totalling 120 fits\n"
     ]
    },
    {
     "name": "stderr",
     "output_type": "stream",
     "text": [
      "[Parallel(n_jobs=1)]: Using backend SequentialBackend with 1 concurrent workers.\n",
      "[Parallel(n_jobs=1)]: Done 120 out of 120 | elapsed:   48.2s finished\n"
     ]
    },
    {
     "name": "stdout",
     "output_type": "stream",
     "text": [
      "best score: 0.61875\n",
      "Fitting 10 folds for each of 12 candidates, totalling 120 fits\n"
     ]
    },
    {
     "name": "stderr",
     "output_type": "stream",
     "text": [
      "[Parallel(n_jobs=1)]: Using backend SequentialBackend with 1 concurrent workers.\n",
      "[Parallel(n_jobs=1)]: Done 120 out of 120 | elapsed:   20.7s finished\n"
     ]
    },
    {
     "name": "stdout",
     "output_type": "stream",
     "text": [
      "best score: 0.61875\n",
      "Split: 1\n",
      "Split: 2\n",
      "Split: 3\n",
      "Split: 4\n",
      "Split: 5\n",
      "Split: 6\n",
      "Split: 7\n",
      "Split: 8\n",
      "Split: 9\n",
      "Split: 10\n",
      "Training Testing Accuracy for n_games=6 team=5 : 56.73% (6.24%)\n",
      "(181, 1130)\n",
      "(181, 1)\n",
      "X_train shape: (162, 1898)\n",
      "X_test shape: (19, 1898)\n",
      "Fitting 10 folds for each of 12 candidates, totalling 120 fits\n"
     ]
    },
    {
     "name": "stderr",
     "output_type": "stream",
     "text": [
      "[Parallel(n_jobs=1)]: Using backend SequentialBackend with 1 concurrent workers.\n",
      "[Parallel(n_jobs=1)]: Done 120 out of 120 | elapsed:   28.2s finished\n"
     ]
    },
    {
     "name": "stdout",
     "output_type": "stream",
     "text": [
      "best score: 0.5987654320987654\n",
      "Fitting 10 folds for each of 12 candidates, totalling 120 fits\n"
     ]
    },
    {
     "name": "stderr",
     "output_type": "stream",
     "text": [
      "[Parallel(n_jobs=1)]: Using backend SequentialBackend with 1 concurrent workers.\n",
      "[Parallel(n_jobs=1)]: Done 120 out of 120 | elapsed:   28.1s finished\n"
     ]
    },
    {
     "name": "stdout",
     "output_type": "stream",
     "text": [
      "best score: 0.5987654320987654\n",
      "Fitting 10 folds for each of 12 candidates, totalling 120 fits\n"
     ]
    },
    {
     "name": "stderr",
     "output_type": "stream",
     "text": [
      "[Parallel(n_jobs=1)]: Using backend SequentialBackend with 1 concurrent workers.\n",
      "[Parallel(n_jobs=1)]: Done 120 out of 120 | elapsed:   31.4s finished\n"
     ]
    },
    {
     "name": "stdout",
     "output_type": "stream",
     "text": [
      "best score: 0.5987654320987654\n",
      "Fitting 10 folds for each of 12 candidates, totalling 120 fits\n"
     ]
    },
    {
     "name": "stderr",
     "output_type": "stream",
     "text": [
      "[Parallel(n_jobs=1)]: Using backend SequentialBackend with 1 concurrent workers.\n",
      "[Parallel(n_jobs=1)]: Done 120 out of 120 | elapsed:   24.2s finished\n"
     ]
    },
    {
     "name": "stdout",
     "output_type": "stream",
     "text": [
      "best score: 0.5987654320987654\n",
      "Fitting 10 folds for each of 12 candidates, totalling 120 fits\n"
     ]
    },
    {
     "name": "stderr",
     "output_type": "stream",
     "text": [
      "[Parallel(n_jobs=1)]: Using backend SequentialBackend with 1 concurrent workers.\n",
      "[Parallel(n_jobs=1)]: Done 120 out of 120 | elapsed:   46.1s finished\n"
     ]
    },
    {
     "name": "stdout",
     "output_type": "stream",
     "text": [
      "best score: 0.5987654320987654\n",
      "Split: 1\n",
      "Split: 2\n",
      "Split: 3\n",
      "Split: 4\n",
      "Split: 5\n",
      "Split: 6\n",
      "Split: 7\n",
      "Split: 8\n",
      "Split: 9\n",
      "Split: 10\n",
      "Training Testing Accuracy for n_games=6 team=6 : 57.46% (8.61%)\n",
      "(190, 1130)\n",
      "(190, 1)\n",
      "X_train shape: (171, 1887)\n",
      "X_test shape: (19, 1887)\n",
      "Fitting 10 folds for each of 12 candidates, totalling 120 fits\n"
     ]
    },
    {
     "name": "stderr",
     "output_type": "stream",
     "text": [
      "[Parallel(n_jobs=1)]: Using backend SequentialBackend with 1 concurrent workers.\n",
      "[Parallel(n_jobs=1)]: Done 120 out of 120 | elapsed:   28.7s finished\n"
     ]
    },
    {
     "name": "stdout",
     "output_type": "stream",
     "text": [
      "best score: 0.6783625730994152\n",
      "Fitting 10 folds for each of 12 candidates, totalling 120 fits\n"
     ]
    },
    {
     "name": "stderr",
     "output_type": "stream",
     "text": [
      "[Parallel(n_jobs=1)]: Using backend SequentialBackend with 1 concurrent workers.\n",
      "[Parallel(n_jobs=1)]: Done 120 out of 120 | elapsed:   38.7s finished\n"
     ]
    },
    {
     "name": "stdout",
     "output_type": "stream",
     "text": [
      "best score: 0.6783625730994152\n",
      "Fitting 10 folds for each of 12 candidates, totalling 120 fits\n"
     ]
    },
    {
     "name": "stderr",
     "output_type": "stream",
     "text": [
      "[Parallel(n_jobs=1)]: Using backend SequentialBackend with 1 concurrent workers.\n",
      "[Parallel(n_jobs=1)]: Done 120 out of 120 | elapsed:   24.4s finished\n"
     ]
    },
    {
     "name": "stdout",
     "output_type": "stream",
     "text": [
      "best score: 0.6783625730994152\n",
      "Fitting 10 folds for each of 12 candidates, totalling 120 fits\n"
     ]
    },
    {
     "name": "stderr",
     "output_type": "stream",
     "text": [
      "[Parallel(n_jobs=1)]: Using backend SequentialBackend with 1 concurrent workers.\n",
      "[Parallel(n_jobs=1)]: Done 120 out of 120 | elapsed:   20.4s finished\n"
     ]
    },
    {
     "name": "stdout",
     "output_type": "stream",
     "text": [
      "best score: 0.6783625730994152\n",
      "Fitting 10 folds for each of 12 candidates, totalling 120 fits\n"
     ]
    },
    {
     "name": "stderr",
     "output_type": "stream",
     "text": [
      "[Parallel(n_jobs=1)]: Using backend SequentialBackend with 1 concurrent workers.\n",
      "[Parallel(n_jobs=1)]: Done 120 out of 120 | elapsed:   22.7s finished\n"
     ]
    },
    {
     "name": "stdout",
     "output_type": "stream",
     "text": [
      "best score: 0.6783625730994152\n",
      "Split: 1\n",
      "Split: 2\n",
      "Split: 3\n",
      "Split: 4\n",
      "Split: 5\n",
      "Split: 6\n",
      "Split: 7\n",
      "Split: 8\n",
      "Split: 9\n",
      "Split: 10\n",
      "Training Testing Accuracy for n_games=6 team=7 : 65.79% (2.63%)\n",
      "(174, 1130)\n",
      "(174, 1)\n",
      "X_train shape: (156, 1891)\n",
      "X_test shape: (18, 1891)\n",
      "Fitting 10 folds for each of 12 candidates, totalling 120 fits\n"
     ]
    },
    {
     "name": "stderr",
     "output_type": "stream",
     "text": [
      "[Parallel(n_jobs=1)]: Using backend SequentialBackend with 1 concurrent workers.\n",
      "[Parallel(n_jobs=1)]: Done 120 out of 120 | elapsed:   27.3s finished\n"
     ]
    },
    {
     "name": "stdout",
     "output_type": "stream",
     "text": [
      "best score: 0.717948717948718\n",
      "Fitting 10 folds for each of 12 candidates, totalling 120 fits\n"
     ]
    },
    {
     "name": "stderr",
     "output_type": "stream",
     "text": [
      "[Parallel(n_jobs=1)]: Using backend SequentialBackend with 1 concurrent workers.\n",
      "[Parallel(n_jobs=1)]: Done 120 out of 120 | elapsed:   22.6s finished\n"
     ]
    },
    {
     "name": "stdout",
     "output_type": "stream",
     "text": [
      "best score: 0.717948717948718\n",
      "Fitting 10 folds for each of 12 candidates, totalling 120 fits\n"
     ]
    },
    {
     "name": "stderr",
     "output_type": "stream",
     "text": [
      "[Parallel(n_jobs=1)]: Using backend SequentialBackend with 1 concurrent workers.\n",
      "[Parallel(n_jobs=1)]: Done 120 out of 120 | elapsed:   21.1s finished\n"
     ]
    },
    {
     "name": "stdout",
     "output_type": "stream",
     "text": [
      "best score: 0.717948717948718\n",
      "Fitting 10 folds for each of 12 candidates, totalling 120 fits\n"
     ]
    },
    {
     "name": "stderr",
     "output_type": "stream",
     "text": [
      "[Parallel(n_jobs=1)]: Using backend SequentialBackend with 1 concurrent workers.\n",
      "[Parallel(n_jobs=1)]: Done 120 out of 120 | elapsed:   22.1s finished\n"
     ]
    },
    {
     "name": "stdout",
     "output_type": "stream",
     "text": [
      "best score: 0.717948717948718\n",
      "Fitting 10 folds for each of 12 candidates, totalling 120 fits\n"
     ]
    },
    {
     "name": "stderr",
     "output_type": "stream",
     "text": [
      "[Parallel(n_jobs=1)]: Using backend SequentialBackend with 1 concurrent workers.\n",
      "[Parallel(n_jobs=1)]: Done 120 out of 120 | elapsed:   20.9s finished\n"
     ]
    },
    {
     "name": "stdout",
     "output_type": "stream",
     "text": [
      "best score: 0.717948717948718\n",
      "Split: 1\n",
      "Split: 2\n",
      "Split: 3\n",
      "Split: 4\n",
      "Split: 5\n",
      "Split: 6\n",
      "Split: 7\n",
      "Split: 8\n",
      "Split: 9\n",
      "Split: 10\n",
      "Training Testing Accuracy for n_games=6 team=8 : 71.83% (1.73%)\n",
      "(187, 1130)\n",
      "(187, 1)\n",
      "X_train shape: (168, 1901)\n",
      "X_test shape: (19, 1901)\n",
      "Fitting 10 folds for each of 12 candidates, totalling 120 fits\n"
     ]
    },
    {
     "name": "stderr",
     "output_type": "stream",
     "text": [
      "[Parallel(n_jobs=1)]: Using backend SequentialBackend with 1 concurrent workers.\n",
      "[Parallel(n_jobs=1)]: Done 120 out of 120 | elapsed:   28.7s finished\n"
     ]
    },
    {
     "name": "stdout",
     "output_type": "stream",
     "text": [
      "best score: 0.5952380952380952\n",
      "Fitting 10 folds for each of 12 candidates, totalling 120 fits\n"
     ]
    },
    {
     "name": "stderr",
     "output_type": "stream",
     "text": [
      "[Parallel(n_jobs=1)]: Using backend SequentialBackend with 1 concurrent workers.\n",
      "[Parallel(n_jobs=1)]: Done 120 out of 120 | elapsed:   59.2s finished\n"
     ]
    },
    {
     "name": "stdout",
     "output_type": "stream",
     "text": [
      "best score: 0.5952380952380952\n",
      "Fitting 10 folds for each of 12 candidates, totalling 120 fits\n"
     ]
    },
    {
     "name": "stderr",
     "output_type": "stream",
     "text": [
      "[Parallel(n_jobs=1)]: Using backend SequentialBackend with 1 concurrent workers.\n",
      "[Parallel(n_jobs=1)]: Done 120 out of 120 | elapsed:   29.3s finished\n"
     ]
    },
    {
     "name": "stdout",
     "output_type": "stream",
     "text": [
      "best score: 0.5952380952380952\n",
      "Fitting 10 folds for each of 12 candidates, totalling 120 fits\n"
     ]
    },
    {
     "name": "stderr",
     "output_type": "stream",
     "text": [
      "[Parallel(n_jobs=1)]: Using backend SequentialBackend with 1 concurrent workers.\n",
      "[Parallel(n_jobs=1)]: Done 120 out of 120 | elapsed:   28.1s finished\n"
     ]
    },
    {
     "name": "stdout",
     "output_type": "stream",
     "text": [
      "best score: 0.5952380952380952\n",
      "Fitting 10 folds for each of 12 candidates, totalling 120 fits\n"
     ]
    },
    {
     "name": "stderr",
     "output_type": "stream",
     "text": [
      "[Parallel(n_jobs=1)]: Using backend SequentialBackend with 1 concurrent workers.\n",
      "[Parallel(n_jobs=1)]: Done 120 out of 120 | elapsed:   30.1s finished\n"
     ]
    },
    {
     "name": "stdout",
     "output_type": "stream",
     "text": [
      "best score: 0.5952380952380952\n",
      "Split: 1\n",
      "Split: 2\n",
      "Split: 3\n",
      "Split: 4\n",
      "Split: 5\n",
      "Split: 6\n",
      "Split: 7\n",
      "Split: 8\n",
      "Split: 9\n",
      "Split: 10\n",
      "Training Testing Accuracy for n_games=6 team=9 : 57.22% (9.19%)\n",
      "(188, 1130)\n",
      "(188, 1)\n",
      "X_train shape: (169, 1896)\n",
      "X_test shape: (19, 1896)\n",
      "Fitting 10 folds for each of 12 candidates, totalling 120 fits\n"
     ]
    },
    {
     "name": "stderr",
     "output_type": "stream",
     "text": [
      "[Parallel(n_jobs=1)]: Using backend SequentialBackend with 1 concurrent workers.\n",
      "[Parallel(n_jobs=1)]: Done 120 out of 120 | elapsed:   27.7s finished\n"
     ]
    },
    {
     "name": "stdout",
     "output_type": "stream",
     "text": [
      "best score: 0.6449704142011834\n",
      "Fitting 10 folds for each of 12 candidates, totalling 120 fits\n"
     ]
    },
    {
     "name": "stderr",
     "output_type": "stream",
     "text": [
      "[Parallel(n_jobs=1)]: Using backend SequentialBackend with 1 concurrent workers.\n",
      "[Parallel(n_jobs=1)]: Done 120 out of 120 | elapsed:   24.0s finished\n"
     ]
    },
    {
     "name": "stdout",
     "output_type": "stream",
     "text": [
      "best score: 0.6686390532544378\n",
      "Fitting 10 folds for each of 12 candidates, totalling 120 fits\n"
     ]
    },
    {
     "name": "stderr",
     "output_type": "stream",
     "text": [
      "[Parallel(n_jobs=1)]: Using backend SequentialBackend with 1 concurrent workers.\n",
      "[Parallel(n_jobs=1)]: Done 120 out of 120 | elapsed:   27.6s finished\n"
     ]
    },
    {
     "name": "stdout",
     "output_type": "stream",
     "text": [
      "best score: 0.6804733727810651\n",
      "Fitting 10 folds for each of 12 candidates, totalling 120 fits\n"
     ]
    },
    {
     "name": "stderr",
     "output_type": "stream",
     "text": [
      "[Parallel(n_jobs=1)]: Using backend SequentialBackend with 1 concurrent workers.\n",
      "[Parallel(n_jobs=1)]: Done 120 out of 120 | elapsed:   23.9s finished\n"
     ]
    },
    {
     "name": "stdout",
     "output_type": "stream",
     "text": [
      "best score: 0.6804733727810651\n",
      "Fitting 10 folds for each of 12 candidates, totalling 120 fits\n"
     ]
    },
    {
     "name": "stderr",
     "output_type": "stream",
     "text": [
      "[Parallel(n_jobs=1)]: Using backend SequentialBackend with 1 concurrent workers.\n",
      "[Parallel(n_jobs=1)]: Done 120 out of 120 | elapsed:   28.0s finished\n"
     ]
    },
    {
     "name": "stdout",
     "output_type": "stream",
     "text": [
      "best score: 0.6923076923076923\n",
      "Split: 1\n",
      "Split: 2\n",
      "Split: 3\n",
      "Split: 4\n",
      "Split: 5\n",
      "Split: 6\n",
      "Split: 7\n",
      "Split: 8\n",
      "Split: 9\n",
      "Split: 10\n",
      "Training Testing Accuracy for n_games=6 team=10 : 64.42% (9.01%)\n",
      "(180, 1130)\n",
      "(180, 1)\n",
      "X_train shape: (162, 1903)\n",
      "X_test shape: (18, 1903)\n",
      "Fitting 10 folds for each of 12 candidates, totalling 120 fits\n"
     ]
    },
    {
     "name": "stderr",
     "output_type": "stream",
     "text": [
      "[Parallel(n_jobs=1)]: Using backend SequentialBackend with 1 concurrent workers.\n",
      "[Parallel(n_jobs=1)]: Done 120 out of 120 | elapsed:   27.8s finished\n"
     ]
    },
    {
     "name": "stdout",
     "output_type": "stream",
     "text": [
      "best score: 0.5802469135802469\n",
      "Fitting 10 folds for each of 12 candidates, totalling 120 fits\n"
     ]
    },
    {
     "name": "stderr",
     "output_type": "stream",
     "text": [
      "[Parallel(n_jobs=1)]: Using backend SequentialBackend with 1 concurrent workers.\n",
      "[Parallel(n_jobs=1)]: Done 120 out of 120 | elapsed:   28.0s finished\n"
     ]
    },
    {
     "name": "stdout",
     "output_type": "stream",
     "text": [
      "best score: 0.5987654320987654\n",
      "Fitting 10 folds for each of 12 candidates, totalling 120 fits\n"
     ]
    },
    {
     "name": "stderr",
     "output_type": "stream",
     "text": [
      "[Parallel(n_jobs=1)]: Using backend SequentialBackend with 1 concurrent workers.\n",
      "[Parallel(n_jobs=1)]: Done 120 out of 120 | elapsed:   32.3s finished\n"
     ]
    },
    {
     "name": "stdout",
     "output_type": "stream",
     "text": [
      "best score: 0.5987654320987654\n",
      "Fitting 10 folds for each of 12 candidates, totalling 120 fits\n"
     ]
    },
    {
     "name": "stderr",
     "output_type": "stream",
     "text": [
      "[Parallel(n_jobs=1)]: Using backend SequentialBackend with 1 concurrent workers.\n",
      "[Parallel(n_jobs=1)]: Done 120 out of 120 | elapsed:   26.9s finished\n"
     ]
    },
    {
     "name": "stdout",
     "output_type": "stream",
     "text": [
      "best score: 0.6234567901234568\n",
      "Fitting 10 folds for each of 12 candidates, totalling 120 fits\n"
     ]
    },
    {
     "name": "stderr",
     "output_type": "stream",
     "text": [
      "[Parallel(n_jobs=1)]: Using backend SequentialBackend with 1 concurrent workers.\n",
      "[Parallel(n_jobs=1)]: Done 120 out of 120 | elapsed:   40.4s finished\n"
     ]
    },
    {
     "name": "stdout",
     "output_type": "stream",
     "text": [
      "best score: 0.6296296296296297\n",
      "Split: 1\n",
      "Split: 2\n",
      "Split: 3\n",
      "Split: 4\n",
      "Split: 5\n",
      "Split: 6\n",
      "Split: 7\n",
      "Split: 8\n",
      "Split: 9\n",
      "Split: 10\n",
      "Training Testing Accuracy for n_games=6 team=11 : 58.89% (6.19%)\n",
      "(181, 1130)\n",
      "(181, 1)\n",
      "X_train shape: (162, 1894)\n",
      "X_test shape: (19, 1894)\n",
      "Fitting 10 folds for each of 12 candidates, totalling 120 fits\n"
     ]
    },
    {
     "name": "stderr",
     "output_type": "stream",
     "text": [
      "[Parallel(n_jobs=1)]: Using backend SequentialBackend with 1 concurrent workers.\n",
      "[Parallel(n_jobs=1)]: Done 120 out of 120 | elapsed:   28.1s finished\n"
     ]
    },
    {
     "name": "stdout",
     "output_type": "stream",
     "text": [
      "best score: 0.5802469135802469\n",
      "Fitting 10 folds for each of 12 candidates, totalling 120 fits\n"
     ]
    },
    {
     "name": "stderr",
     "output_type": "stream",
     "text": [
      "[Parallel(n_jobs=1)]: Using backend SequentialBackend with 1 concurrent workers.\n",
      "[Parallel(n_jobs=1)]: Done 120 out of 120 | elapsed:   26.6s finished\n"
     ]
    },
    {
     "name": "stdout",
     "output_type": "stream",
     "text": [
      "best score: 0.5802469135802469\n",
      "Fitting 10 folds for each of 12 candidates, totalling 120 fits\n"
     ]
    },
    {
     "name": "stderr",
     "output_type": "stream",
     "text": [
      "[Parallel(n_jobs=1)]: Using backend SequentialBackend with 1 concurrent workers.\n",
      "[Parallel(n_jobs=1)]: Done 120 out of 120 | elapsed:   22.1s finished\n"
     ]
    },
    {
     "name": "stdout",
     "output_type": "stream",
     "text": [
      "best score: 0.5802469135802469\n",
      "Fitting 10 folds for each of 12 candidates, totalling 120 fits\n"
     ]
    },
    {
     "name": "stderr",
     "output_type": "stream",
     "text": [
      "[Parallel(n_jobs=1)]: Using backend SequentialBackend with 1 concurrent workers.\n",
      "[Parallel(n_jobs=1)]: Done 120 out of 120 | elapsed:   24.0s finished\n"
     ]
    },
    {
     "name": "stdout",
     "output_type": "stream",
     "text": [
      "best score: 0.5802469135802469\n",
      "Fitting 10 folds for each of 12 candidates, totalling 120 fits\n"
     ]
    },
    {
     "name": "stderr",
     "output_type": "stream",
     "text": [
      "[Parallel(n_jobs=1)]: Using backend SequentialBackend with 1 concurrent workers.\n",
      "[Parallel(n_jobs=1)]: Done 120 out of 120 | elapsed:   51.5s finished\n"
     ]
    },
    {
     "name": "stdout",
     "output_type": "stream",
     "text": [
      "best score: 0.5802469135802469\n",
      "Split: 1\n",
      "Split: 2\n",
      "Split: 3\n",
      "Split: 4\n",
      "Split: 5\n",
      "Split: 6\n",
      "Split: 7\n",
      "Split: 8\n",
      "Split: 9\n",
      "Split: 10\n",
      "Training Testing Accuracy for n_games=6 team=12 : 53.07% (9.81%)\n",
      "(182, 1130)\n",
      "(182, 1)\n",
      "X_train shape: (163, 1916)\n",
      "X_test shape: (19, 1916)\n",
      "Fitting 10 folds for each of 12 candidates, totalling 120 fits\n"
     ]
    },
    {
     "name": "stderr",
     "output_type": "stream",
     "text": [
      "[Parallel(n_jobs=1)]: Using backend SequentialBackend with 1 concurrent workers.\n",
      "[Parallel(n_jobs=1)]: Done 120 out of 120 | elapsed:   28.3s finished\n"
     ]
    },
    {
     "name": "stdout",
     "output_type": "stream",
     "text": [
      "best score: 0.6134969325153374\n",
      "Fitting 10 folds for each of 12 candidates, totalling 120 fits\n"
     ]
    },
    {
     "name": "stderr",
     "output_type": "stream",
     "text": [
      "[Parallel(n_jobs=1)]: Using backend SequentialBackend with 1 concurrent workers.\n",
      "[Parallel(n_jobs=1)]: Done 120 out of 120 | elapsed:   34.4s finished\n"
     ]
    },
    {
     "name": "stdout",
     "output_type": "stream",
     "text": [
      "best score: 0.6134969325153374\n",
      "Fitting 10 folds for each of 12 candidates, totalling 120 fits\n"
     ]
    },
    {
     "name": "stderr",
     "output_type": "stream",
     "text": [
      "[Parallel(n_jobs=1)]: Using backend SequentialBackend with 1 concurrent workers.\n",
      "[Parallel(n_jobs=1)]: Done 120 out of 120 | elapsed:   29.1s finished\n"
     ]
    },
    {
     "name": "stdout",
     "output_type": "stream",
     "text": [
      "best score: 0.6257668711656442\n",
      "Fitting 10 folds for each of 12 candidates, totalling 120 fits\n"
     ]
    },
    {
     "name": "stderr",
     "output_type": "stream",
     "text": [
      "[Parallel(n_jobs=1)]: Using backend SequentialBackend with 1 concurrent workers.\n",
      "[Parallel(n_jobs=1)]: Done 120 out of 120 | elapsed:   25.2s finished\n"
     ]
    },
    {
     "name": "stdout",
     "output_type": "stream",
     "text": [
      "best score: 0.6441717791411042\n",
      "Fitting 10 folds for each of 12 candidates, totalling 120 fits\n"
     ]
    },
    {
     "name": "stderr",
     "output_type": "stream",
     "text": [
      "[Parallel(n_jobs=1)]: Using backend SequentialBackend with 1 concurrent workers.\n",
      "[Parallel(n_jobs=1)]: Done 120 out of 120 | elapsed:   28.0s finished\n"
     ]
    },
    {
     "name": "stdout",
     "output_type": "stream",
     "text": [
      "best score: 0.6503067484662577\n",
      "Split: 1\n",
      "Split: 2\n",
      "Split: 3\n",
      "Split: 4\n",
      "Split: 5\n",
      "Split: 6\n",
      "Split: 7\n",
      "Split: 8\n",
      "Split: 9\n",
      "Split: 10\n",
      "Training Testing Accuracy for n_games=6 team=13 : 59.74% (7.94%)\n",
      "(185, 1130)\n",
      "(185, 1)\n",
      "X_train shape: (166, 1895)\n",
      "X_test shape: (19, 1895)\n",
      "Fitting 10 folds for each of 12 candidates, totalling 120 fits\n"
     ]
    },
    {
     "name": "stderr",
     "output_type": "stream",
     "text": [
      "[Parallel(n_jobs=1)]: Using backend SequentialBackend with 1 concurrent workers.\n",
      "[Parallel(n_jobs=1)]: Done 120 out of 120 | elapsed:   28.0s finished\n"
     ]
    },
    {
     "name": "stdout",
     "output_type": "stream",
     "text": [
      "best score: 0.6265060240963856\n",
      "Fitting 10 folds for each of 12 candidates, totalling 120 fits\n"
     ]
    },
    {
     "name": "stderr",
     "output_type": "stream",
     "text": [
      "[Parallel(n_jobs=1)]: Using backend SequentialBackend with 1 concurrent workers.\n",
      "[Parallel(n_jobs=1)]: Done 120 out of 120 | elapsed:   35.8s finished\n"
     ]
    },
    {
     "name": "stdout",
     "output_type": "stream",
     "text": [
      "best score: 0.6265060240963856\n",
      "Fitting 10 folds for each of 12 candidates, totalling 120 fits\n"
     ]
    },
    {
     "name": "stderr",
     "output_type": "stream",
     "text": [
      "[Parallel(n_jobs=1)]: Using backend SequentialBackend with 1 concurrent workers.\n",
      "[Parallel(n_jobs=1)]: Done 120 out of 120 | elapsed:   28.9s finished\n"
     ]
    },
    {
     "name": "stdout",
     "output_type": "stream",
     "text": [
      "best score: 0.6325301204819277\n",
      "Fitting 10 folds for each of 12 candidates, totalling 120 fits\n"
     ]
    },
    {
     "name": "stderr",
     "output_type": "stream",
     "text": [
      "[Parallel(n_jobs=1)]: Using backend SequentialBackend with 1 concurrent workers.\n",
      "[Parallel(n_jobs=1)]: Done 120 out of 120 | elapsed:   23.2s finished\n"
     ]
    },
    {
     "name": "stdout",
     "output_type": "stream",
     "text": [
      "best score: 0.6325301204819277\n",
      "Fitting 10 folds for each of 12 candidates, totalling 120 fits\n"
     ]
    },
    {
     "name": "stderr",
     "output_type": "stream",
     "text": [
      "[Parallel(n_jobs=1)]: Using backend SequentialBackend with 1 concurrent workers.\n",
      "[Parallel(n_jobs=1)]: Done 120 out of 120 | elapsed:   25.9s finished\n"
     ]
    },
    {
     "name": "stdout",
     "output_type": "stream",
     "text": [
      "best score: 0.6325301204819277\n",
      "Split: 1\n",
      "Split: 2\n",
      "Split: 3\n",
      "Split: 4\n",
      "Split: 5\n",
      "Split: 6\n",
      "Split: 7\n",
      "Split: 8\n",
      "Split: 9\n",
      "Split: 10\n",
      "Training Testing Accuracy for n_games=6 team=14 : 61.61% (4.58%)\n",
      "(174, 1130)\n",
      "(174, 1)\n",
      "X_train shape: (156, 1892)\n",
      "X_test shape: (18, 1892)\n",
      "Fitting 10 folds for each of 12 candidates, totalling 120 fits\n"
     ]
    },
    {
     "name": "stderr",
     "output_type": "stream",
     "text": [
      "[Parallel(n_jobs=1)]: Using backend SequentialBackend with 1 concurrent workers.\n",
      "[Parallel(n_jobs=1)]: Done 120 out of 120 | elapsed:   28.1s finished\n"
     ]
    },
    {
     "name": "stdout",
     "output_type": "stream",
     "text": [
      "best score: 0.6666666666666666\n",
      "Fitting 10 folds for each of 12 candidates, totalling 120 fits\n"
     ]
    },
    {
     "name": "stderr",
     "output_type": "stream",
     "text": [
      "[Parallel(n_jobs=1)]: Using backend SequentialBackend with 1 concurrent workers.\n",
      "[Parallel(n_jobs=1)]: Done 120 out of 120 | elapsed:   27.9s finished\n"
     ]
    },
    {
     "name": "stdout",
     "output_type": "stream",
     "text": [
      "best score: 0.6666666666666666\n",
      "Fitting 10 folds for each of 12 candidates, totalling 120 fits\n"
     ]
    },
    {
     "name": "stderr",
     "output_type": "stream",
     "text": [
      "[Parallel(n_jobs=1)]: Using backend SequentialBackend with 1 concurrent workers.\n",
      "[Parallel(n_jobs=1)]: Done 120 out of 120 | elapsed:   20.3s finished\n"
     ]
    },
    {
     "name": "stdout",
     "output_type": "stream",
     "text": [
      "best score: 0.6666666666666666\n",
      "Fitting 10 folds for each of 12 candidates, totalling 120 fits\n"
     ]
    },
    {
     "name": "stderr",
     "output_type": "stream",
     "text": [
      "[Parallel(n_jobs=1)]: Using backend SequentialBackend with 1 concurrent workers.\n",
      "[Parallel(n_jobs=1)]: Done 120 out of 120 | elapsed:   24.7s finished\n"
     ]
    },
    {
     "name": "stdout",
     "output_type": "stream",
     "text": [
      "best score: 0.6666666666666666\n",
      "Fitting 10 folds for each of 12 candidates, totalling 120 fits\n"
     ]
    },
    {
     "name": "stderr",
     "output_type": "stream",
     "text": [
      "[Parallel(n_jobs=1)]: Using backend SequentialBackend with 1 concurrent workers.\n",
      "[Parallel(n_jobs=1)]: Done 120 out of 120 | elapsed:   28.5s finished\n"
     ]
    },
    {
     "name": "stdout",
     "output_type": "stream",
     "text": [
      "best score: 0.6666666666666666\n",
      "Split: 1\n",
      "Split: 2\n",
      "Split: 3\n",
      "Split: 4\n",
      "Split: 5\n",
      "Split: 6\n",
      "Split: 7\n",
      "Split: 8\n",
      "Split: 9\n",
      "Split: 10\n",
      "Training Testing Accuracy for n_games=6 team=15 : 60.95% (6.57%)\n",
      "(190, 1130)\n",
      "(190, 1)\n",
      "X_train shape: (171, 1904)\n",
      "X_test shape: (19, 1904)\n",
      "Fitting 10 folds for each of 12 candidates, totalling 120 fits\n"
     ]
    },
    {
     "name": "stderr",
     "output_type": "stream",
     "text": [
      "[Parallel(n_jobs=1)]: Using backend SequentialBackend with 1 concurrent workers.\n",
      "[Parallel(n_jobs=1)]: Done 120 out of 120 | elapsed:   28.0s finished\n"
     ]
    },
    {
     "name": "stdout",
     "output_type": "stream",
     "text": [
      "best score: 0.6432748538011696\n",
      "Fitting 10 folds for each of 12 candidates, totalling 120 fits\n"
     ]
    },
    {
     "name": "stderr",
     "output_type": "stream",
     "text": [
      "[Parallel(n_jobs=1)]: Using backend SequentialBackend with 1 concurrent workers.\n",
      "[Parallel(n_jobs=1)]: Done 120 out of 120 | elapsed:   35.9s finished\n"
     ]
    },
    {
     "name": "stdout",
     "output_type": "stream",
     "text": [
      "best score: 0.6666666666666666\n",
      "Fitting 10 folds for each of 12 candidates, totalling 120 fits\n"
     ]
    },
    {
     "name": "stderr",
     "output_type": "stream",
     "text": [
      "[Parallel(n_jobs=1)]: Using backend SequentialBackend with 1 concurrent workers.\n",
      "[Parallel(n_jobs=1)]: Done 120 out of 120 | elapsed:   30.7s finished\n"
     ]
    },
    {
     "name": "stdout",
     "output_type": "stream",
     "text": [
      "best score: 0.6666666666666666\n",
      "Fitting 10 folds for each of 12 candidates, totalling 120 fits\n"
     ]
    },
    {
     "name": "stderr",
     "output_type": "stream",
     "text": [
      "[Parallel(n_jobs=1)]: Using backend SequentialBackend with 1 concurrent workers.\n",
      "[Parallel(n_jobs=1)]: Done 120 out of 120 | elapsed:   19.2s finished\n"
     ]
    },
    {
     "name": "stdout",
     "output_type": "stream",
     "text": [
      "best score: 0.6666666666666666\n",
      "Fitting 10 folds for each of 12 candidates, totalling 120 fits\n"
     ]
    },
    {
     "name": "stderr",
     "output_type": "stream",
     "text": [
      "[Parallel(n_jobs=1)]: Using backend SequentialBackend with 1 concurrent workers.\n",
      "[Parallel(n_jobs=1)]: Done 120 out of 120 | elapsed:   20.7s finished\n"
     ]
    },
    {
     "name": "stdout",
     "output_type": "stream",
     "text": [
      "best score: 0.6666666666666666\n",
      "Split: 1\n",
      "Split: 2\n",
      "Split: 3\n",
      "Split: 4\n",
      "Split: 5\n",
      "Split: 6\n",
      "Split: 7\n",
      "Split: 8\n",
      "Split: 9\n",
      "Split: 10\n",
      "Training Testing Accuracy for n_games=6 team=16 : 63.16% (4.08%)\n",
      "(185, 1130)\n",
      "(185, 1)\n",
      "X_train shape: (166, 1905)\n",
      "X_test shape: (19, 1905)\n",
      "Fitting 10 folds for each of 12 candidates, totalling 120 fits\n"
     ]
    },
    {
     "name": "stderr",
     "output_type": "stream",
     "text": [
      "[Parallel(n_jobs=1)]: Using backend SequentialBackend with 1 concurrent workers.\n",
      "[Parallel(n_jobs=1)]: Done 120 out of 120 | elapsed:   28.3s finished\n"
     ]
    },
    {
     "name": "stdout",
     "output_type": "stream",
     "text": [
      "best score: 0.6445783132530121\n",
      "Fitting 10 folds for each of 12 candidates, totalling 120 fits\n"
     ]
    },
    {
     "name": "stderr",
     "output_type": "stream",
     "text": [
      "[Parallel(n_jobs=1)]: Using backend SequentialBackend with 1 concurrent workers.\n",
      "[Parallel(n_jobs=1)]: Done 120 out of 120 | elapsed:   36.3s finished\n"
     ]
    },
    {
     "name": "stdout",
     "output_type": "stream",
     "text": [
      "best score: 0.6445783132530121\n",
      "Fitting 10 folds for each of 12 candidates, totalling 120 fits\n"
     ]
    },
    {
     "name": "stderr",
     "output_type": "stream",
     "text": [
      "[Parallel(n_jobs=1)]: Using backend SequentialBackend with 1 concurrent workers.\n",
      "[Parallel(n_jobs=1)]: Done 120 out of 120 | elapsed:   21.7s finished\n"
     ]
    },
    {
     "name": "stdout",
     "output_type": "stream",
     "text": [
      "best score: 0.6445783132530121\n",
      "Fitting 10 folds for each of 12 candidates, totalling 120 fits\n"
     ]
    },
    {
     "name": "stderr",
     "output_type": "stream",
     "text": [
      "[Parallel(n_jobs=1)]: Using backend SequentialBackend with 1 concurrent workers.\n",
      "[Parallel(n_jobs=1)]: Done 120 out of 120 | elapsed:   54.7s finished\n"
     ]
    },
    {
     "name": "stdout",
     "output_type": "stream",
     "text": [
      "best score: 0.6445783132530121\n",
      "Fitting 10 folds for each of 12 candidates, totalling 120 fits\n"
     ]
    },
    {
     "name": "stderr",
     "output_type": "stream",
     "text": [
      "[Parallel(n_jobs=1)]: Using backend SequentialBackend with 1 concurrent workers.\n",
      "[Parallel(n_jobs=1)]: Done 120 out of 120 | elapsed:   22.7s finished\n"
     ]
    },
    {
     "name": "stdout",
     "output_type": "stream",
     "text": [
      "best score: 0.6445783132530121\n",
      "Split: 1\n",
      "Split: 2\n",
      "Split: 3\n",
      "Split: 4\n",
      "Split: 5\n",
      "Split: 6\n",
      "Split: 7\n",
      "Split: 8\n",
      "Split: 9\n",
      "Split: 10\n",
      "Training Testing Accuracy for n_games=6 team=17 : 63.25% (9.59%)\n",
      "(184, 1130)\n",
      "(184, 1)\n",
      "X_train shape: (165, 1918)\n",
      "X_test shape: (19, 1918)\n",
      "Fitting 10 folds for each of 12 candidates, totalling 120 fits\n"
     ]
    },
    {
     "name": "stderr",
     "output_type": "stream",
     "text": [
      "[Parallel(n_jobs=1)]: Using backend SequentialBackend with 1 concurrent workers.\n",
      "[Parallel(n_jobs=1)]: Done 120 out of 120 | elapsed:   28.6s finished\n"
     ]
    },
    {
     "name": "stdout",
     "output_type": "stream",
     "text": [
      "best score: 0.5878787878787879\n",
      "Fitting 10 folds for each of 12 candidates, totalling 120 fits\n"
     ]
    },
    {
     "name": "stderr",
     "output_type": "stream",
     "text": [
      "[Parallel(n_jobs=1)]: Using backend SequentialBackend with 1 concurrent workers.\n",
      "[Parallel(n_jobs=1)]: Done 120 out of 120 | elapsed:   42.7s finished\n"
     ]
    },
    {
     "name": "stdout",
     "output_type": "stream",
     "text": [
      "best score: 0.5878787878787879\n",
      "Fitting 10 folds for each of 12 candidates, totalling 120 fits\n"
     ]
    },
    {
     "name": "stderr",
     "output_type": "stream",
     "text": [
      "[Parallel(n_jobs=1)]: Using backend SequentialBackend with 1 concurrent workers.\n",
      "[Parallel(n_jobs=1)]: Done 120 out of 120 | elapsed:   44.5s finished\n"
     ]
    },
    {
     "name": "stdout",
     "output_type": "stream",
     "text": [
      "best score: 0.5878787878787879\n",
      "Fitting 10 folds for each of 12 candidates, totalling 120 fits\n"
     ]
    },
    {
     "name": "stderr",
     "output_type": "stream",
     "text": [
      "[Parallel(n_jobs=1)]: Using backend SequentialBackend with 1 concurrent workers.\n",
      "[Parallel(n_jobs=1)]: Done 120 out of 120 | elapsed:   37.2s finished\n"
     ]
    },
    {
     "name": "stdout",
     "output_type": "stream",
     "text": [
      "best score: 0.5878787878787879\n",
      "Fitting 10 folds for each of 12 candidates, totalling 120 fits\n"
     ]
    },
    {
     "name": "stderr",
     "output_type": "stream",
     "text": [
      "[Parallel(n_jobs=1)]: Using backend SequentialBackend with 1 concurrent workers.\n",
      "[Parallel(n_jobs=1)]: Done 120 out of 120 | elapsed:   35.6s finished\n"
     ]
    },
    {
     "name": "stdout",
     "output_type": "stream",
     "text": [
      "best score: 0.5878787878787879\n",
      "Split: 1\n",
      "Split: 2\n",
      "Split: 3\n",
      "Split: 4\n",
      "Split: 5\n",
      "Split: 6\n",
      "Split: 7\n",
      "Split: 8\n",
      "Split: 9\n",
      "Split: 10\n",
      "Training Testing Accuracy for n_games=6 team=18 : 50.53% (12.04%)\n",
      "Accuracy for Team Models for n_games= 6 : 60.99% (5.25%)\n",
      "(179, 1316)\n",
      "(179, 1)\n",
      "X_train shape: (161, 2211)\n",
      "X_test shape: (18, 2211)\n",
      "Fitting 10 folds for each of 12 candidates, totalling 120 fits\n"
     ]
    },
    {
     "name": "stderr",
     "output_type": "stream",
     "text": [
      "[Parallel(n_jobs=1)]: Using backend SequentialBackend with 1 concurrent workers.\n",
      "[Parallel(n_jobs=1)]: Done 120 out of 120 | elapsed:   32.3s finished\n"
     ]
    },
    {
     "name": "stdout",
     "output_type": "stream",
     "text": [
      "best score: 0.6086956521739131\n",
      "Fitting 10 folds for each of 12 candidates, totalling 120 fits\n"
     ]
    },
    {
     "name": "stderr",
     "output_type": "stream",
     "text": [
      "[Parallel(n_jobs=1)]: Using backend SequentialBackend with 1 concurrent workers.\n",
      "[Parallel(n_jobs=1)]: Done 120 out of 120 | elapsed:   26.3s finished\n"
     ]
    },
    {
     "name": "stdout",
     "output_type": "stream",
     "text": [
      "best score: 0.6086956521739131\n",
      "Fitting 10 folds for each of 12 candidates, totalling 120 fits\n"
     ]
    },
    {
     "name": "stderr",
     "output_type": "stream",
     "text": [
      "[Parallel(n_jobs=1)]: Using backend SequentialBackend with 1 concurrent workers.\n",
      "[Parallel(n_jobs=1)]: Done 120 out of 120 | elapsed:  2.2min finished\n"
     ]
    },
    {
     "name": "stdout",
     "output_type": "stream",
     "text": [
      "best score: 0.6273291925465838\n",
      "Fitting 10 folds for each of 12 candidates, totalling 120 fits\n"
     ]
    },
    {
     "name": "stderr",
     "output_type": "stream",
     "text": [
      "[Parallel(n_jobs=1)]: Using backend SequentialBackend with 1 concurrent workers.\n",
      "[Parallel(n_jobs=1)]: Done 120 out of 120 | elapsed:  1.2min finished\n"
     ]
    },
    {
     "name": "stdout",
     "output_type": "stream",
     "text": [
      "best score: 0.6335403726708074\n",
      "Fitting 10 folds for each of 12 candidates, totalling 120 fits\n"
     ]
    },
    {
     "name": "stderr",
     "output_type": "stream",
     "text": [
      "[Parallel(n_jobs=1)]: Using backend SequentialBackend with 1 concurrent workers.\n",
      "[Parallel(n_jobs=1)]: Done 120 out of 120 | elapsed:   33.2s finished\n"
     ]
    },
    {
     "name": "stdout",
     "output_type": "stream",
     "text": [
      "best score: 0.6335403726708074\n",
      "Split: 1\n",
      "Split: 2\n",
      "Split: 3\n",
      "Split: 4\n",
      "Split: 5\n",
      "Split: 6\n",
      "Split: 7\n",
      "Split: 8\n",
      "Split: 9\n",
      "Split: 10\n",
      "Training Testing Accuracy for n_games=7 team=1 : 59.67% (11.00%)\n",
      "(177, 1316)\n",
      "(177, 1)\n",
      "X_train shape: (159, 2190)\n",
      "X_test shape: (18, 2190)\n",
      "Fitting 10 folds for each of 12 candidates, totalling 120 fits\n"
     ]
    },
    {
     "name": "stderr",
     "output_type": "stream",
     "text": [
      "[Parallel(n_jobs=1)]: Using backend SequentialBackend with 1 concurrent workers.\n",
      "[Parallel(n_jobs=1)]: Done 120 out of 120 | elapsed:   32.0s finished\n"
     ]
    },
    {
     "name": "stdout",
     "output_type": "stream",
     "text": [
      "best score: 0.6540880503144654\n",
      "Fitting 10 folds for each of 12 candidates, totalling 120 fits\n"
     ]
    },
    {
     "name": "stderr",
     "output_type": "stream",
     "text": [
      "[Parallel(n_jobs=1)]: Using backend SequentialBackend with 1 concurrent workers.\n",
      "[Parallel(n_jobs=1)]: Done 120 out of 120 | elapsed:   26.8s finished\n"
     ]
    },
    {
     "name": "stdout",
     "output_type": "stream",
     "text": [
      "best score: 0.6540880503144654\n",
      "Fitting 10 folds for each of 12 candidates, totalling 120 fits\n"
     ]
    },
    {
     "name": "stderr",
     "output_type": "stream",
     "text": [
      "[Parallel(n_jobs=1)]: Using backend SequentialBackend with 1 concurrent workers.\n",
      "[Parallel(n_jobs=1)]: Done 120 out of 120 | elapsed:   30.4s finished\n"
     ]
    },
    {
     "name": "stdout",
     "output_type": "stream",
     "text": [
      "best score: 0.6540880503144654\n",
      "Fitting 10 folds for each of 12 candidates, totalling 120 fits\n"
     ]
    },
    {
     "name": "stderr",
     "output_type": "stream",
     "text": [
      "[Parallel(n_jobs=1)]: Using backend SequentialBackend with 1 concurrent workers.\n",
      "[Parallel(n_jobs=1)]: Done 120 out of 120 | elapsed:   45.5s finished\n"
     ]
    },
    {
     "name": "stdout",
     "output_type": "stream",
     "text": [
      "best score: 0.6540880503144654\n",
      "Fitting 10 folds for each of 12 candidates, totalling 120 fits\n"
     ]
    },
    {
     "name": "stderr",
     "output_type": "stream",
     "text": [
      "[Parallel(n_jobs=1)]: Using backend SequentialBackend with 1 concurrent workers.\n",
      "[Parallel(n_jobs=1)]: Done 120 out of 120 | elapsed:   27.8s finished\n"
     ]
    },
    {
     "name": "stdout",
     "output_type": "stream",
     "text": [
      "best score: 0.6540880503144654\n",
      "Split: 1\n",
      "Split: 2\n",
      "Split: 3\n",
      "Split: 4\n",
      "Split: 5\n",
      "Split: 6\n",
      "Split: 7\n",
      "Split: 8\n",
      "Split: 9\n",
      "Split: 10\n",
      "Training Testing Accuracy for n_games=7 team=2 : 62.71% (8.36%)\n",
      "(175, 1316)\n",
      "(175, 1)\n",
      "X_train shape: (157, 2184)\n",
      "X_test shape: (18, 2184)\n",
      "Fitting 10 folds for each of 12 candidates, totalling 120 fits\n"
     ]
    },
    {
     "name": "stderr",
     "output_type": "stream",
     "text": [
      "[Parallel(n_jobs=1)]: Using backend SequentialBackend with 1 concurrent workers.\n",
      "[Parallel(n_jobs=1)]: Done 120 out of 120 | elapsed:   31.2s finished\n"
     ]
    },
    {
     "name": "stdout",
     "output_type": "stream",
     "text": [
      "best score: 0.7070063694267515\n",
      "Fitting 10 folds for each of 12 candidates, totalling 120 fits\n"
     ]
    },
    {
     "name": "stderr",
     "output_type": "stream",
     "text": [
      "[Parallel(n_jobs=1)]: Using backend SequentialBackend with 1 concurrent workers.\n",
      "[Parallel(n_jobs=1)]: Done 120 out of 120 | elapsed:   27.4s finished\n"
     ]
    },
    {
     "name": "stdout",
     "output_type": "stream",
     "text": [
      "best score: 0.7133757961783439\n",
      "Fitting 10 folds for each of 12 candidates, totalling 120 fits\n"
     ]
    },
    {
     "name": "stderr",
     "output_type": "stream",
     "text": [
      "[Parallel(n_jobs=1)]: Using backend SequentialBackend with 1 concurrent workers.\n",
      "[Parallel(n_jobs=1)]: Done 120 out of 120 | elapsed:   31.2s finished\n"
     ]
    },
    {
     "name": "stdout",
     "output_type": "stream",
     "text": [
      "best score: 0.7261146496815286\n",
      "Fitting 10 folds for each of 12 candidates, totalling 120 fits\n"
     ]
    },
    {
     "name": "stderr",
     "output_type": "stream",
     "text": [
      "[Parallel(n_jobs=1)]: Using backend SequentialBackend with 1 concurrent workers.\n",
      "[Parallel(n_jobs=1)]: Done 120 out of 120 | elapsed:   25.7s finished\n"
     ]
    },
    {
     "name": "stdout",
     "output_type": "stream",
     "text": [
      "best score: 0.7261146496815286\n",
      "Fitting 10 folds for each of 12 candidates, totalling 120 fits\n"
     ]
    },
    {
     "name": "stderr",
     "output_type": "stream",
     "text": [
      "[Parallel(n_jobs=1)]: Using backend SequentialBackend with 1 concurrent workers.\n",
      "[Parallel(n_jobs=1)]: Done 120 out of 120 | elapsed:   27.2s finished\n"
     ]
    },
    {
     "name": "stdout",
     "output_type": "stream",
     "text": [
      "best score: 0.7261146496815286\n",
      "Split: 1\n",
      "Split: 2\n",
      "Split: 3\n",
      "Split: 4\n",
      "Split: 5\n",
      "Split: 6\n",
      "Split: 7\n",
      "Split: 8\n",
      "Split: 9\n",
      "Split: 10\n",
      "Training Testing Accuracy for n_games=7 team=3 : 62.81% (7.00%)\n",
      "(180, 1316)\n",
      "(180, 1)\n",
      "X_train shape: (162, 2187)\n",
      "X_test shape: (18, 2187)\n",
      "Fitting 10 folds for each of 12 candidates, totalling 120 fits\n"
     ]
    },
    {
     "name": "stderr",
     "output_type": "stream",
     "text": [
      "[Parallel(n_jobs=1)]: Using backend SequentialBackend with 1 concurrent workers.\n",
      "[Parallel(n_jobs=1)]: Done 120 out of 120 | elapsed:   31.6s finished\n"
     ]
    },
    {
     "name": "stdout",
     "output_type": "stream",
     "text": [
      "best score: 0.5864197530864198\n",
      "Fitting 10 folds for each of 12 candidates, totalling 120 fits\n"
     ]
    },
    {
     "name": "stderr",
     "output_type": "stream",
     "text": [
      "[Parallel(n_jobs=1)]: Using backend SequentialBackend with 1 concurrent workers.\n",
      "[Parallel(n_jobs=1)]: Done 120 out of 120 | elapsed:   30.6s finished\n"
     ]
    },
    {
     "name": "stdout",
     "output_type": "stream",
     "text": [
      "best score: 0.5864197530864198\n",
      "Fitting 10 folds for each of 12 candidates, totalling 120 fits\n"
     ]
    },
    {
     "name": "stderr",
     "output_type": "stream",
     "text": [
      "[Parallel(n_jobs=1)]: Using backend SequentialBackend with 1 concurrent workers.\n",
      "[Parallel(n_jobs=1)]: Done 120 out of 120 | elapsed:   27.2s finished\n"
     ]
    },
    {
     "name": "stdout",
     "output_type": "stream",
     "text": [
      "best score: 0.5864197530864198\n",
      "Fitting 10 folds for each of 12 candidates, totalling 120 fits\n"
     ]
    },
    {
     "name": "stderr",
     "output_type": "stream",
     "text": [
      "[Parallel(n_jobs=1)]: Using backend SequentialBackend with 1 concurrent workers.\n",
      "[Parallel(n_jobs=1)]: Done 120 out of 120 | elapsed:   45.2s finished\n"
     ]
    },
    {
     "name": "stdout",
     "output_type": "stream",
     "text": [
      "best score: 0.5864197530864198\n",
      "Fitting 10 folds for each of 12 candidates, totalling 120 fits\n"
     ]
    },
    {
     "name": "stderr",
     "output_type": "stream",
     "text": [
      "[Parallel(n_jobs=1)]: Using backend SequentialBackend with 1 concurrent workers.\n",
      "[Parallel(n_jobs=1)]: Done 120 out of 120 | elapsed:  1.1min finished\n"
     ]
    },
    {
     "name": "stdout",
     "output_type": "stream",
     "text": [
      "best score: 0.5864197530864198\n",
      "Split: 1\n",
      "Split: 2\n",
      "Split: 3\n",
      "Split: 4\n",
      "Split: 5\n",
      "Split: 6\n",
      "Split: 7\n",
      "Split: 8\n",
      "Split: 9\n",
      "Split: 10\n",
      "Training Testing Accuracy for n_games=7 team=4 : 58.33% (14.96%)\n",
      "(177, 1316)\n",
      "(177, 1)\n",
      "X_train shape: (159, 2171)\n",
      "X_test shape: (18, 2171)\n",
      "Fitting 10 folds for each of 12 candidates, totalling 120 fits\n"
     ]
    },
    {
     "name": "stderr",
     "output_type": "stream",
     "text": [
      "[Parallel(n_jobs=1)]: Using backend SequentialBackend with 1 concurrent workers.\n",
      "[Parallel(n_jobs=1)]: Done 120 out of 120 | elapsed:   32.0s finished\n"
     ]
    },
    {
     "name": "stdout",
     "output_type": "stream",
     "text": [
      "best score: 0.5660377358490566\n",
      "Fitting 10 folds for each of 12 candidates, totalling 120 fits\n"
     ]
    },
    {
     "name": "stderr",
     "output_type": "stream",
     "text": [
      "[Parallel(n_jobs=1)]: Using backend SequentialBackend with 1 concurrent workers.\n",
      "[Parallel(n_jobs=1)]: Done 120 out of 120 | elapsed:   32.3s finished\n"
     ]
    },
    {
     "name": "stdout",
     "output_type": "stream",
     "text": [
      "best score: 0.5786163522012578\n",
      "Fitting 10 folds for each of 12 candidates, totalling 120 fits\n"
     ]
    },
    {
     "name": "stderr",
     "output_type": "stream",
     "text": [
      "[Parallel(n_jobs=1)]: Using backend SequentialBackend with 1 concurrent workers.\n",
      "[Parallel(n_jobs=1)]: Done 120 out of 120 | elapsed:   25.4s finished\n"
     ]
    },
    {
     "name": "stdout",
     "output_type": "stream",
     "text": [
      "best score: 0.5786163522012578\n",
      "Fitting 10 folds for each of 12 candidates, totalling 120 fits\n"
     ]
    },
    {
     "name": "stderr",
     "output_type": "stream",
     "text": [
      "[Parallel(n_jobs=1)]: Using backend SequentialBackend with 1 concurrent workers.\n",
      "[Parallel(n_jobs=1)]: Done 120 out of 120 | elapsed:   28.9s finished\n"
     ]
    },
    {
     "name": "stdout",
     "output_type": "stream",
     "text": [
      "best score: 0.5786163522012578\n",
      "Fitting 10 folds for each of 12 candidates, totalling 120 fits\n"
     ]
    },
    {
     "name": "stderr",
     "output_type": "stream",
     "text": [
      "[Parallel(n_jobs=1)]: Using backend SequentialBackend with 1 concurrent workers.\n",
      "[Parallel(n_jobs=1)]: Done 120 out of 120 | elapsed:   23.9s finished\n"
     ]
    },
    {
     "name": "stdout",
     "output_type": "stream",
     "text": [
      "best score: 0.5786163522012578\n",
      "Split: 1\n",
      "Split: 2\n",
      "Split: 3\n",
      "Split: 4\n",
      "Split: 5\n",
      "Split: 6\n",
      "Split: 7\n",
      "Split: 8\n",
      "Split: 9\n",
      "Split: 10\n",
      "Training Testing Accuracy for n_games=7 team=5 : 55.72% (14.90%)\n",
      "(180, 1316)\n",
      "(180, 1)\n",
      "X_train shape: (162, 2199)\n",
      "X_test shape: (18, 2199)\n",
      "Fitting 10 folds for each of 12 candidates, totalling 120 fits\n"
     ]
    },
    {
     "name": "stderr",
     "output_type": "stream",
     "text": [
      "[Parallel(n_jobs=1)]: Using backend SequentialBackend with 1 concurrent workers.\n",
      "[Parallel(n_jobs=1)]: Done 120 out of 120 | elapsed:   32.0s finished\n"
     ]
    },
    {
     "name": "stdout",
     "output_type": "stream",
     "text": [
      "best score: 0.5061728395061729\n",
      "Fitting 10 folds for each of 12 candidates, totalling 120 fits\n"
     ]
    },
    {
     "name": "stderr",
     "output_type": "stream",
     "text": [
      "[Parallel(n_jobs=1)]: Using backend SequentialBackend with 1 concurrent workers.\n",
      "[Parallel(n_jobs=1)]: Done 120 out of 120 | elapsed:   22.8s finished\n"
     ]
    },
    {
     "name": "stdout",
     "output_type": "stream",
     "text": [
      "best score: 0.5061728395061729\n",
      "Fitting 10 folds for each of 12 candidates, totalling 120 fits\n"
     ]
    },
    {
     "name": "stderr",
     "output_type": "stream",
     "text": [
      "[Parallel(n_jobs=1)]: Using backend SequentialBackend with 1 concurrent workers.\n",
      "[Parallel(n_jobs=1)]: Done 120 out of 120 | elapsed:   24.7s finished\n"
     ]
    },
    {
     "name": "stdout",
     "output_type": "stream",
     "text": [
      "best score: 0.5061728395061729\n",
      "Fitting 10 folds for each of 12 candidates, totalling 120 fits\n"
     ]
    },
    {
     "name": "stderr",
     "output_type": "stream",
     "text": [
      "[Parallel(n_jobs=1)]: Using backend SequentialBackend with 1 concurrent workers.\n",
      "[Parallel(n_jobs=1)]: Done 120 out of 120 | elapsed:   30.5s finished\n"
     ]
    },
    {
     "name": "stdout",
     "output_type": "stream",
     "text": [
      "best score: 0.5061728395061729\n",
      "Fitting 10 folds for each of 12 candidates, totalling 120 fits\n"
     ]
    },
    {
     "name": "stderr",
     "output_type": "stream",
     "text": [
      "[Parallel(n_jobs=1)]: Using backend SequentialBackend with 1 concurrent workers.\n",
      "[Parallel(n_jobs=1)]: Done 120 out of 120 | elapsed:   26.7s finished\n"
     ]
    },
    {
     "name": "stdout",
     "output_type": "stream",
     "text": [
      "best score: 0.5061728395061729\n",
      "Split: 1\n",
      "Split: 2\n",
      "Split: 3\n",
      "Split: 4\n",
      "Split: 5\n",
      "Split: 6\n",
      "Split: 7\n",
      "Split: 8\n",
      "Split: 9\n",
      "Split: 10\n",
      "Training Testing Accuracy for n_games=7 team=6 : 50.56% (1.67%)\n",
      "(189, 1316)\n",
      "(189, 1)\n",
      "X_train shape: (170, 2190)\n",
      "X_test shape: (19, 2190)\n",
      "Fitting 10 folds for each of 12 candidates, totalling 120 fits\n"
     ]
    },
    {
     "name": "stderr",
     "output_type": "stream",
     "text": [
      "[Parallel(n_jobs=1)]: Using backend SequentialBackend with 1 concurrent workers.\n",
      "[Parallel(n_jobs=1)]: Done 120 out of 120 | elapsed:   31.7s finished\n"
     ]
    },
    {
     "name": "stdout",
     "output_type": "stream",
     "text": [
      "best score: 0.6764705882352942\n",
      "Fitting 10 folds for each of 12 candidates, totalling 120 fits\n"
     ]
    },
    {
     "name": "stderr",
     "output_type": "stream",
     "text": [
      "[Parallel(n_jobs=1)]: Using backend SequentialBackend with 1 concurrent workers.\n",
      "[Parallel(n_jobs=1)]: Done 120 out of 120 | elapsed:   28.1s finished\n"
     ]
    },
    {
     "name": "stdout",
     "output_type": "stream",
     "text": [
      "best score: 0.6764705882352942\n",
      "Fitting 10 folds for each of 12 candidates, totalling 120 fits\n"
     ]
    },
    {
     "name": "stderr",
     "output_type": "stream",
     "text": [
      "[Parallel(n_jobs=1)]: Using backend SequentialBackend with 1 concurrent workers.\n",
      "[Parallel(n_jobs=1)]: Done 120 out of 120 | elapsed:   54.4s finished\n"
     ]
    },
    {
     "name": "stdout",
     "output_type": "stream",
     "text": [
      "best score: 0.6764705882352942\n",
      "Fitting 10 folds for each of 12 candidates, totalling 120 fits\n"
     ]
    },
    {
     "name": "stderr",
     "output_type": "stream",
     "text": [
      "[Parallel(n_jobs=1)]: Using backend SequentialBackend with 1 concurrent workers.\n",
      "[Parallel(n_jobs=1)]: Done 120 out of 120 | elapsed:   22.4s finished\n"
     ]
    },
    {
     "name": "stdout",
     "output_type": "stream",
     "text": [
      "best score: 0.6764705882352942\n",
      "Fitting 10 folds for each of 12 candidates, totalling 120 fits\n"
     ]
    },
    {
     "name": "stderr",
     "output_type": "stream",
     "text": [
      "[Parallel(n_jobs=1)]: Using backend SequentialBackend with 1 concurrent workers.\n",
      "[Parallel(n_jobs=1)]: Done 120 out of 120 | elapsed:   29.2s finished\n"
     ]
    },
    {
     "name": "stdout",
     "output_type": "stream",
     "text": [
      "best score: 0.6764705882352942\n",
      "Split: 1\n",
      "Split: 2\n",
      "Split: 3\n",
      "Split: 4\n",
      "Split: 5\n",
      "Split: 6\n",
      "Split: 7\n",
      "Split: 8\n",
      "Split: 9\n",
      "Split: 10\n",
      "Training Testing Accuracy for n_games=7 team=7 : 64.53% (3.52%)\n",
      "(173, 1316)\n",
      "(173, 1)\n",
      "X_train shape: (155, 2195)\n",
      "X_test shape: (18, 2195)\n",
      "Fitting 10 folds for each of 12 candidates, totalling 120 fits\n"
     ]
    },
    {
     "name": "stderr",
     "output_type": "stream",
     "text": [
      "[Parallel(n_jobs=1)]: Using backend SequentialBackend with 1 concurrent workers.\n",
      "[Parallel(n_jobs=1)]: Done 120 out of 120 | elapsed:   31.0s finished\n"
     ]
    },
    {
     "name": "stdout",
     "output_type": "stream",
     "text": [
      "best score: 0.7483870967741936\n",
      "Fitting 10 folds for each of 12 candidates, totalling 120 fits\n"
     ]
    },
    {
     "name": "stderr",
     "output_type": "stream",
     "text": [
      "[Parallel(n_jobs=1)]: Using backend SequentialBackend with 1 concurrent workers.\n",
      "[Parallel(n_jobs=1)]: Done 120 out of 120 | elapsed:  1.0min finished\n"
     ]
    },
    {
     "name": "stdout",
     "output_type": "stream",
     "text": [
      "best score: 0.7483870967741936\n",
      "Fitting 10 folds for each of 12 candidates, totalling 120 fits\n"
     ]
    },
    {
     "name": "stderr",
     "output_type": "stream",
     "text": [
      "[Parallel(n_jobs=1)]: Using backend SequentialBackend with 1 concurrent workers.\n",
      "[Parallel(n_jobs=1)]: Done 120 out of 120 | elapsed:   31.8s finished\n"
     ]
    },
    {
     "name": "stdout",
     "output_type": "stream",
     "text": [
      "best score: 0.7483870967741936\n",
      "Fitting 10 folds for each of 12 candidates, totalling 120 fits\n"
     ]
    },
    {
     "name": "stderr",
     "output_type": "stream",
     "text": [
      "[Parallel(n_jobs=1)]: Using backend SequentialBackend with 1 concurrent workers.\n",
      "[Parallel(n_jobs=1)]: Done 120 out of 120 | elapsed:   42.7s finished\n"
     ]
    },
    {
     "name": "stdout",
     "output_type": "stream",
     "text": [
      "best score: 0.7483870967741936\n",
      "Fitting 10 folds for each of 12 candidates, totalling 120 fits\n"
     ]
    },
    {
     "name": "stderr",
     "output_type": "stream",
     "text": [
      "[Parallel(n_jobs=1)]: Using backend SequentialBackend with 1 concurrent workers.\n",
      "[Parallel(n_jobs=1)]: Done 120 out of 120 | elapsed:   38.7s finished\n"
     ]
    },
    {
     "name": "stdout",
     "output_type": "stream",
     "text": [
      "best score: 0.7483870967741936\n",
      "Split: 1\n",
      "Split: 2\n",
      "Split: 3\n",
      "Split: 4\n",
      "Split: 5\n",
      "Split: 6\n",
      "Split: 7\n",
      "Split: 8\n",
      "Split: 9\n",
      "Split: 10\n",
      "Training Testing Accuracy for n_games=7 team=8 : 74.54% (3.87%)\n",
      "(186, 1316)\n",
      "(186, 1)\n",
      "X_train shape: (167, 2202)\n",
      "X_test shape: (19, 2202)\n",
      "Fitting 10 folds for each of 12 candidates, totalling 120 fits\n"
     ]
    },
    {
     "name": "stderr",
     "output_type": "stream",
     "text": [
      "[Parallel(n_jobs=1)]: Using backend SequentialBackend with 1 concurrent workers.\n",
      "[Parallel(n_jobs=1)]: Done 120 out of 120 | elapsed:   32.8s finished\n"
     ]
    },
    {
     "name": "stdout",
     "output_type": "stream",
     "text": [
      "best score: 0.5329341317365269\n",
      "Fitting 10 folds for each of 12 candidates, totalling 120 fits\n"
     ]
    },
    {
     "name": "stderr",
     "output_type": "stream",
     "text": [
      "[Parallel(n_jobs=1)]: Using backend SequentialBackend with 1 concurrent workers.\n",
      "[Parallel(n_jobs=1)]: Done 120 out of 120 | elapsed:   24.8s finished\n"
     ]
    },
    {
     "name": "stdout",
     "output_type": "stream",
     "text": [
      "best score: 0.5329341317365269\n",
      "Fitting 10 folds for each of 12 candidates, totalling 120 fits\n"
     ]
    },
    {
     "name": "stderr",
     "output_type": "stream",
     "text": [
      "[Parallel(n_jobs=1)]: Using backend SequentialBackend with 1 concurrent workers.\n",
      "[Parallel(n_jobs=1)]: Done 120 out of 120 | elapsed:   24.6s finished\n"
     ]
    },
    {
     "name": "stdout",
     "output_type": "stream",
     "text": [
      "best score: 0.5688622754491018\n",
      "Fitting 10 folds for each of 12 candidates, totalling 120 fits\n"
     ]
    },
    {
     "name": "stderr",
     "output_type": "stream",
     "text": [
      "[Parallel(n_jobs=1)]: Using backend SequentialBackend with 1 concurrent workers.\n",
      "[Parallel(n_jobs=1)]: Done 120 out of 120 | elapsed:   24.3s finished\n"
     ]
    },
    {
     "name": "stdout",
     "output_type": "stream",
     "text": [
      "best score: 0.5688622754491018\n",
      "Fitting 10 folds for each of 12 candidates, totalling 120 fits\n"
     ]
    },
    {
     "name": "stderr",
     "output_type": "stream",
     "text": [
      "[Parallel(n_jobs=1)]: Using backend SequentialBackend with 1 concurrent workers.\n",
      "[Parallel(n_jobs=1)]: Done 120 out of 120 | elapsed:   29.4s finished\n"
     ]
    },
    {
     "name": "stdout",
     "output_type": "stream",
     "text": [
      "best score: 0.5688622754491018\n",
      "Split: 1\n",
      "Split: 2\n",
      "Split: 3\n",
      "Split: 4\n",
      "Split: 5\n",
      "Split: 6\n",
      "Split: 7\n",
      "Split: 8\n",
      "Split: 9\n",
      "Split: 10\n",
      "Training Testing Accuracy for n_games=7 team=9 : 52.60% (10.61%)\n",
      "(187, 1316)\n",
      "(187, 1)\n",
      "X_train shape: (168, 2195)\n",
      "X_test shape: (19, 2195)\n",
      "Fitting 10 folds for each of 12 candidates, totalling 120 fits\n"
     ]
    },
    {
     "name": "stderr",
     "output_type": "stream",
     "text": [
      "[Parallel(n_jobs=1)]: Using backend SequentialBackend with 1 concurrent workers.\n",
      "[Parallel(n_jobs=1)]: Done 120 out of 120 | elapsed:   32.2s finished\n"
     ]
    },
    {
     "name": "stdout",
     "output_type": "stream",
     "text": [
      "best score: 0.6428571428571429\n",
      "Fitting 10 folds for each of 12 candidates, totalling 120 fits\n"
     ]
    },
    {
     "name": "stderr",
     "output_type": "stream",
     "text": [
      "[Parallel(n_jobs=1)]: Using backend SequentialBackend with 1 concurrent workers.\n",
      "[Parallel(n_jobs=1)]: Done 120 out of 120 | elapsed:   26.1s finished\n"
     ]
    },
    {
     "name": "stdout",
     "output_type": "stream",
     "text": [
      "best score: 0.6428571428571429\n",
      "Fitting 10 folds for each of 12 candidates, totalling 120 fits\n"
     ]
    },
    {
     "name": "stderr",
     "output_type": "stream",
     "text": [
      "[Parallel(n_jobs=1)]: Using backend SequentialBackend with 1 concurrent workers.\n",
      "[Parallel(n_jobs=1)]: Done 120 out of 120 | elapsed:   39.1s finished\n"
     ]
    },
    {
     "name": "stdout",
     "output_type": "stream",
     "text": [
      "best score: 0.6428571428571429\n",
      "Fitting 10 folds for each of 12 candidates, totalling 120 fits\n"
     ]
    },
    {
     "name": "stderr",
     "output_type": "stream",
     "text": [
      "[Parallel(n_jobs=1)]: Using backend SequentialBackend with 1 concurrent workers.\n",
      "[Parallel(n_jobs=1)]: Done 120 out of 120 | elapsed:   24.2s finished\n"
     ]
    },
    {
     "name": "stdout",
     "output_type": "stream",
     "text": [
      "best score: 0.6428571428571429\n",
      "Fitting 10 folds for each of 12 candidates, totalling 120 fits\n"
     ]
    },
    {
     "name": "stderr",
     "output_type": "stream",
     "text": [
      "[Parallel(n_jobs=1)]: Using backend SequentialBackend with 1 concurrent workers.\n",
      "[Parallel(n_jobs=1)]: Done 120 out of 120 | elapsed:   38.0s finished\n"
     ]
    },
    {
     "name": "stdout",
     "output_type": "stream",
     "text": [
      "best score: 0.6428571428571429\n",
      "Split: 1\n",
      "Split: 2\n",
      "Split: 3\n",
      "Split: 4\n",
      "Split: 5\n",
      "Split: 6\n",
      "Split: 7\n",
      "Split: 8\n",
      "Split: 9\n",
      "Split: 10\n",
      "Training Testing Accuracy for n_games=7 team=10 : 65.20% (7.47%)\n",
      "(179, 1316)\n",
      "(179, 1)\n",
      "X_train shape: (161, 2210)\n",
      "X_test shape: (18, 2210)\n",
      "Fitting 10 folds for each of 12 candidates, totalling 120 fits\n"
     ]
    },
    {
     "name": "stderr",
     "output_type": "stream",
     "text": [
      "[Parallel(n_jobs=1)]: Using backend SequentialBackend with 1 concurrent workers.\n",
      "[Parallel(n_jobs=1)]: Done 120 out of 120 | elapsed:   31.6s finished\n"
     ]
    },
    {
     "name": "stdout",
     "output_type": "stream",
     "text": [
      "best score: 0.5962732919254659\n",
      "Fitting 10 folds for each of 12 candidates, totalling 120 fits\n"
     ]
    },
    {
     "name": "stderr",
     "output_type": "stream",
     "text": [
      "[Parallel(n_jobs=1)]: Using backend SequentialBackend with 1 concurrent workers.\n",
      "[Parallel(n_jobs=1)]: Done 120 out of 120 | elapsed:   25.3s finished\n"
     ]
    },
    {
     "name": "stdout",
     "output_type": "stream",
     "text": [
      "best score: 0.5962732919254659\n",
      "Fitting 10 folds for each of 12 candidates, totalling 120 fits\n"
     ]
    },
    {
     "name": "stderr",
     "output_type": "stream",
     "text": [
      "[Parallel(n_jobs=1)]: Using backend SequentialBackend with 1 concurrent workers.\n",
      "[Parallel(n_jobs=1)]: Done 120 out of 120 | elapsed:   31.8s finished\n"
     ]
    },
    {
     "name": "stdout",
     "output_type": "stream",
     "text": [
      "best score: 0.5962732919254659\n",
      "Fitting 10 folds for each of 12 candidates, totalling 120 fits\n"
     ]
    },
    {
     "name": "stderr",
     "output_type": "stream",
     "text": [
      "[Parallel(n_jobs=1)]: Using backend SequentialBackend with 1 concurrent workers.\n",
      "[Parallel(n_jobs=1)]: Done 120 out of 120 | elapsed:   43.2s finished\n"
     ]
    },
    {
     "name": "stdout",
     "output_type": "stream",
     "text": [
      "best score: 0.6335403726708074\n",
      "Fitting 10 folds for each of 12 candidates, totalling 120 fits\n"
     ]
    },
    {
     "name": "stderr",
     "output_type": "stream",
     "text": [
      "[Parallel(n_jobs=1)]: Using backend SequentialBackend with 1 concurrent workers.\n",
      "[Parallel(n_jobs=1)]: Done 120 out of 120 | elapsed:  1.1min finished\n"
     ]
    },
    {
     "name": "stdout",
     "output_type": "stream",
     "text": [
      "best score: 0.6335403726708074\n",
      "Split: 1\n",
      "Split: 2\n",
      "Split: 3\n",
      "Split: 4\n",
      "Split: 5\n",
      "Split: 6\n",
      "Split: 7\n",
      "Split: 8\n",
      "Split: 9\n",
      "Split: 10\n",
      "Training Testing Accuracy for n_games=7 team=11 : 61.47% (10.30%)\n",
      "(180, 1316)\n",
      "(180, 1)\n",
      "X_train shape: (162, 2194)\n",
      "X_test shape: (18, 2194)\n",
      "Fitting 10 folds for each of 12 candidates, totalling 120 fits\n"
     ]
    },
    {
     "name": "stderr",
     "output_type": "stream",
     "text": [
      "[Parallel(n_jobs=1)]: Using backend SequentialBackend with 1 concurrent workers.\n",
      "[Parallel(n_jobs=1)]: Done 120 out of 120 | elapsed:   32.6s finished\n"
     ]
    },
    {
     "name": "stdout",
     "output_type": "stream",
     "text": [
      "best score: 0.5370370370370371\n",
      "Fitting 10 folds for each of 12 candidates, totalling 120 fits\n"
     ]
    },
    {
     "name": "stderr",
     "output_type": "stream",
     "text": [
      "[Parallel(n_jobs=1)]: Using backend SequentialBackend with 1 concurrent workers.\n",
      "[Parallel(n_jobs=1)]: Done 120 out of 120 | elapsed:   26.3s finished\n"
     ]
    },
    {
     "name": "stdout",
     "output_type": "stream",
     "text": [
      "best score: 0.5370370370370371\n",
      "Fitting 10 folds for each of 12 candidates, totalling 120 fits\n"
     ]
    },
    {
     "name": "stderr",
     "output_type": "stream",
     "text": [
      "[Parallel(n_jobs=1)]: Using backend SequentialBackend with 1 concurrent workers.\n",
      "[Parallel(n_jobs=1)]: Done 120 out of 120 | elapsed:   25.8s finished\n"
     ]
    },
    {
     "name": "stdout",
     "output_type": "stream",
     "text": [
      "best score: 0.5370370370370371\n",
      "Fitting 10 folds for each of 12 candidates, totalling 120 fits\n"
     ]
    },
    {
     "name": "stderr",
     "output_type": "stream",
     "text": [
      "[Parallel(n_jobs=1)]: Using backend SequentialBackend with 1 concurrent workers.\n",
      "[Parallel(n_jobs=1)]: Done 120 out of 120 | elapsed:   26.8s finished\n"
     ]
    },
    {
     "name": "stdout",
     "output_type": "stream",
     "text": [
      "best score: 0.5370370370370371\n",
      "Fitting 10 folds for each of 12 candidates, totalling 120 fits\n"
     ]
    },
    {
     "name": "stderr",
     "output_type": "stream",
     "text": [
      "[Parallel(n_jobs=1)]: Using backend SequentialBackend with 1 concurrent workers.\n",
      "[Parallel(n_jobs=1)]: Done 120 out of 120 | elapsed:   21.3s finished\n"
     ]
    },
    {
     "name": "stdout",
     "output_type": "stream",
     "text": [
      "best score: 0.5493827160493827\n",
      "Split: 1\n",
      "Split: 2\n",
      "Split: 3\n",
      "Split: 4\n",
      "Split: 5\n",
      "Split: 6\n",
      "Split: 7\n",
      "Split: 8\n",
      "Split: 9\n",
      "Split: 10\n",
      "Training Testing Accuracy for n_games=7 team=12 : 55.00% (11.24%)\n",
      "(181, 1316)\n",
      "(181, 1)\n",
      "X_train shape: (162, 2221)\n",
      "X_test shape: (19, 2221)\n",
      "Fitting 10 folds for each of 12 candidates, totalling 120 fits\n"
     ]
    },
    {
     "name": "stderr",
     "output_type": "stream",
     "text": [
      "[Parallel(n_jobs=1)]: Using backend SequentialBackend with 1 concurrent workers.\n",
      "[Parallel(n_jobs=1)]: Done 120 out of 120 | elapsed:   31.9s finished\n"
     ]
    },
    {
     "name": "stdout",
     "output_type": "stream",
     "text": [
      "best score: 0.5802469135802469\n",
      "Fitting 10 folds for each of 12 candidates, totalling 120 fits\n"
     ]
    },
    {
     "name": "stderr",
     "output_type": "stream",
     "text": [
      "[Parallel(n_jobs=1)]: Using backend SequentialBackend with 1 concurrent workers.\n",
      "[Parallel(n_jobs=1)]: Done 120 out of 120 | elapsed:   39.4s finished\n"
     ]
    },
    {
     "name": "stdout",
     "output_type": "stream",
     "text": [
      "best score: 0.6111111111111112\n",
      "Fitting 10 folds for each of 12 candidates, totalling 120 fits\n"
     ]
    },
    {
     "name": "stderr",
     "output_type": "stream",
     "text": [
      "[Parallel(n_jobs=1)]: Using backend SequentialBackend with 1 concurrent workers.\n",
      "[Parallel(n_jobs=1)]: Done 120 out of 120 | elapsed:   34.5s finished\n"
     ]
    },
    {
     "name": "stdout",
     "output_type": "stream",
     "text": [
      "best score: 0.6111111111111112\n",
      "Fitting 10 folds for each of 12 candidates, totalling 120 fits\n"
     ]
    },
    {
     "name": "stderr",
     "output_type": "stream",
     "text": [
      "[Parallel(n_jobs=1)]: Using backend SequentialBackend with 1 concurrent workers.\n",
      "[Parallel(n_jobs=1)]: Done 120 out of 120 | elapsed:   22.8s finished\n"
     ]
    },
    {
     "name": "stdout",
     "output_type": "stream",
     "text": [
      "best score: 0.6111111111111112\n",
      "Fitting 10 folds for each of 12 candidates, totalling 120 fits\n"
     ]
    },
    {
     "name": "stderr",
     "output_type": "stream",
     "text": [
      "[Parallel(n_jobs=1)]: Using backend SequentialBackend with 1 concurrent workers.\n",
      "[Parallel(n_jobs=1)]: Done 120 out of 120 | elapsed:   25.6s finished\n"
     ]
    },
    {
     "name": "stdout",
     "output_type": "stream",
     "text": [
      "best score: 0.6111111111111112\n",
      "Split: 1\n",
      "Split: 2\n",
      "Split: 3\n",
      "Split: 4\n",
      "Split: 5\n",
      "Split: 6\n",
      "Split: 7\n",
      "Split: 8\n",
      "Split: 9\n",
      "Split: 10\n",
      "Training Testing Accuracy for n_games=7 team=13 : 51.96% (9.13%)\n",
      "(184, 1316)\n",
      "(184, 1)\n",
      "X_train shape: (165, 2193)\n",
      "X_test shape: (19, 2193)\n",
      "Fitting 10 folds for each of 12 candidates, totalling 120 fits\n"
     ]
    },
    {
     "name": "stderr",
     "output_type": "stream",
     "text": [
      "[Parallel(n_jobs=1)]: Using backend SequentialBackend with 1 concurrent workers.\n",
      "[Parallel(n_jobs=1)]: Done 120 out of 120 | elapsed:   32.0s finished\n"
     ]
    },
    {
     "name": "stdout",
     "output_type": "stream",
     "text": [
      "best score: 0.6060606060606061\n",
      "Fitting 10 folds for each of 12 candidates, totalling 120 fits\n"
     ]
    },
    {
     "name": "stderr",
     "output_type": "stream",
     "text": [
      "[Parallel(n_jobs=1)]: Using backend SequentialBackend with 1 concurrent workers.\n",
      "[Parallel(n_jobs=1)]: Done 120 out of 120 | elapsed:   34.1s finished\n"
     ]
    },
    {
     "name": "stdout",
     "output_type": "stream",
     "text": [
      "best score: 0.6121212121212121\n",
      "Fitting 10 folds for each of 12 candidates, totalling 120 fits\n"
     ]
    },
    {
     "name": "stderr",
     "output_type": "stream",
     "text": [
      "[Parallel(n_jobs=1)]: Using backend SequentialBackend with 1 concurrent workers.\n",
      "[Parallel(n_jobs=1)]: Done 120 out of 120 | elapsed:   47.5s finished\n"
     ]
    },
    {
     "name": "stdout",
     "output_type": "stream",
     "text": [
      "best score: 0.6121212121212121\n",
      "Fitting 10 folds for each of 12 candidates, totalling 120 fits\n"
     ]
    },
    {
     "name": "stderr",
     "output_type": "stream",
     "text": [
      "[Parallel(n_jobs=1)]: Using backend SequentialBackend with 1 concurrent workers.\n",
      "[Parallel(n_jobs=1)]: Done 120 out of 120 | elapsed:   24.1s finished\n"
     ]
    },
    {
     "name": "stdout",
     "output_type": "stream",
     "text": [
      "best score: 0.6121212121212121\n",
      "Fitting 10 folds for each of 12 candidates, totalling 120 fits\n"
     ]
    },
    {
     "name": "stderr",
     "output_type": "stream",
     "text": [
      "[Parallel(n_jobs=1)]: Using backend SequentialBackend with 1 concurrent workers.\n",
      "[Parallel(n_jobs=1)]: Done 120 out of 120 | elapsed:   20.9s finished\n"
     ]
    },
    {
     "name": "stdout",
     "output_type": "stream",
     "text": [
      "best score: 0.6121212121212121\n",
      "Split: 1\n",
      "Split: 2\n",
      "Split: 3\n",
      "Split: 4\n",
      "Split: 5\n",
      "Split: 6\n",
      "Split: 7\n",
      "Split: 8\n",
      "Split: 9\n",
      "Split: 10\n",
      "Training Testing Accuracy for n_games=7 team=14 : 61.93% (1.00%)\n",
      "(173, 1316)\n",
      "(173, 1)\n",
      "X_train shape: (155, 2194)\n",
      "X_test shape: (18, 2194)\n",
      "Fitting 10 folds for each of 12 candidates, totalling 120 fits\n"
     ]
    },
    {
     "name": "stderr",
     "output_type": "stream",
     "text": [
      "[Parallel(n_jobs=1)]: Using backend SequentialBackend with 1 concurrent workers.\n",
      "[Parallel(n_jobs=1)]: Done 120 out of 120 | elapsed:   31.7s finished\n"
     ]
    },
    {
     "name": "stdout",
     "output_type": "stream",
     "text": [
      "best score: 0.6129032258064516\n",
      "Fitting 10 folds for each of 12 candidates, totalling 120 fits\n"
     ]
    },
    {
     "name": "stderr",
     "output_type": "stream",
     "text": [
      "[Parallel(n_jobs=1)]: Using backend SequentialBackend with 1 concurrent workers.\n",
      "[Parallel(n_jobs=1)]: Done 120 out of 120 | elapsed:   28.8s finished\n"
     ]
    },
    {
     "name": "stdout",
     "output_type": "stream",
     "text": [
      "best score: 0.6129032258064516\n",
      "Fitting 10 folds for each of 12 candidates, totalling 120 fits\n"
     ]
    },
    {
     "name": "stderr",
     "output_type": "stream",
     "text": [
      "[Parallel(n_jobs=1)]: Using backend SequentialBackend with 1 concurrent workers.\n",
      "[Parallel(n_jobs=1)]: Done 120 out of 120 | elapsed:   26.4s finished\n"
     ]
    },
    {
     "name": "stdout",
     "output_type": "stream",
     "text": [
      "best score: 0.6129032258064516\n",
      "Fitting 10 folds for each of 12 candidates, totalling 120 fits\n"
     ]
    },
    {
     "name": "stderr",
     "output_type": "stream",
     "text": [
      "[Parallel(n_jobs=1)]: Using backend SequentialBackend with 1 concurrent workers.\n",
      "[Parallel(n_jobs=1)]: Done 120 out of 120 | elapsed:   49.6s finished\n"
     ]
    },
    {
     "name": "stdout",
     "output_type": "stream",
     "text": [
      "best score: 0.6129032258064516\n",
      "Fitting 10 folds for each of 12 candidates, totalling 120 fits\n"
     ]
    },
    {
     "name": "stderr",
     "output_type": "stream",
     "text": [
      "[Parallel(n_jobs=1)]: Using backend SequentialBackend with 1 concurrent workers.\n",
      "[Parallel(n_jobs=1)]: Done 120 out of 120 | elapsed:   26.1s finished\n"
     ]
    },
    {
     "name": "stdout",
     "output_type": "stream",
     "text": [
      "best score: 0.6129032258064516\n",
      "Split: 1\n",
      "Split: 2\n",
      "Split: 3\n",
      "Split: 4\n",
      "Split: 5\n",
      "Split: 6\n",
      "Split: 7\n",
      "Split: 8\n",
      "Split: 9\n",
      "Split: 10\n",
      "Training Testing Accuracy for n_games=7 team=15 : 63.04% (2.14%)\n",
      "(189, 1316)\n",
      "(189, 1)\n",
      "X_train shape: (170, 2204)\n",
      "X_test shape: (19, 2204)\n",
      "Fitting 10 folds for each of 12 candidates, totalling 120 fits\n"
     ]
    },
    {
     "name": "stderr",
     "output_type": "stream",
     "text": [
      "[Parallel(n_jobs=1)]: Using backend SequentialBackend with 1 concurrent workers.\n",
      "[Parallel(n_jobs=1)]: Done 120 out of 120 | elapsed:   31.9s finished\n"
     ]
    },
    {
     "name": "stdout",
     "output_type": "stream",
     "text": [
      "best score: 0.6411764705882353\n",
      "Fitting 10 folds for each of 12 candidates, totalling 120 fits\n"
     ]
    },
    {
     "name": "stderr",
     "output_type": "stream",
     "text": [
      "[Parallel(n_jobs=1)]: Using backend SequentialBackend with 1 concurrent workers.\n",
      "[Parallel(n_jobs=1)]: Done 120 out of 120 | elapsed:   33.6s finished\n"
     ]
    },
    {
     "name": "stdout",
     "output_type": "stream",
     "text": [
      "best score: 0.6470588235294118\n",
      "Fitting 10 folds for each of 12 candidates, totalling 120 fits\n"
     ]
    },
    {
     "name": "stderr",
     "output_type": "stream",
     "text": [
      "[Parallel(n_jobs=1)]: Using backend SequentialBackend with 1 concurrent workers.\n",
      "[Parallel(n_jobs=1)]: Done 120 out of 120 | elapsed:   46.4s finished\n"
     ]
    },
    {
     "name": "stdout",
     "output_type": "stream",
     "text": [
      "best score: 0.6470588235294118\n",
      "Fitting 10 folds for each of 12 candidates, totalling 120 fits\n"
     ]
    },
    {
     "name": "stderr",
     "output_type": "stream",
     "text": [
      "[Parallel(n_jobs=1)]: Using backend SequentialBackend with 1 concurrent workers.\n",
      "[Parallel(n_jobs=1)]: Done 120 out of 120 | elapsed:  1.2min finished\n"
     ]
    },
    {
     "name": "stdout",
     "output_type": "stream",
     "text": [
      "best score: 0.6470588235294118\n",
      "Fitting 10 folds for each of 12 candidates, totalling 120 fits\n"
     ]
    },
    {
     "name": "stderr",
     "output_type": "stream",
     "text": [
      "[Parallel(n_jobs=1)]: Using backend SequentialBackend with 1 concurrent workers.\n",
      "[Parallel(n_jobs=1)]: Done 120 out of 120 | elapsed:   28.4s finished\n"
     ]
    },
    {
     "name": "stdout",
     "output_type": "stream",
     "text": [
      "best score: 0.6470588235294118\n",
      "Split: 1\n",
      "Split: 2\n",
      "Split: 3\n",
      "Split: 4\n",
      "Split: 5\n",
      "Split: 6\n",
      "Split: 7\n",
      "Split: 8\n",
      "Split: 9\n",
      "Split: 10\n",
      "Training Testing Accuracy for n_games=7 team=16 : 58.80% (10.80%)\n",
      "(184, 1316)\n",
      "(184, 1)\n",
      "X_train shape: (165, 2209)\n",
      "X_test shape: (19, 2209)\n",
      "Fitting 10 folds for each of 12 candidates, totalling 120 fits\n"
     ]
    },
    {
     "name": "stderr",
     "output_type": "stream",
     "text": [
      "[Parallel(n_jobs=1)]: Using backend SequentialBackend with 1 concurrent workers.\n",
      "[Parallel(n_jobs=1)]: Done 120 out of 120 | elapsed:   33.5s finished\n"
     ]
    },
    {
     "name": "stdout",
     "output_type": "stream",
     "text": [
      "best score: 0.6121212121212121\n",
      "Fitting 10 folds for each of 12 candidates, totalling 120 fits\n"
     ]
    },
    {
     "name": "stderr",
     "output_type": "stream",
     "text": [
      "[Parallel(n_jobs=1)]: Using backend SequentialBackend with 1 concurrent workers.\n",
      "[Parallel(n_jobs=1)]: Done 120 out of 120 | elapsed:   25.8s finished\n"
     ]
    },
    {
     "name": "stdout",
     "output_type": "stream",
     "text": [
      "best score: 0.6121212121212121\n",
      "Fitting 10 folds for each of 12 candidates, totalling 120 fits\n"
     ]
    },
    {
     "name": "stderr",
     "output_type": "stream",
     "text": [
      "[Parallel(n_jobs=1)]: Using backend SequentialBackend with 1 concurrent workers.\n",
      "[Parallel(n_jobs=1)]: Done 120 out of 120 | elapsed:   29.7s finished\n"
     ]
    },
    {
     "name": "stdout",
     "output_type": "stream",
     "text": [
      "best score: 0.6121212121212121\n",
      "Fitting 10 folds for each of 12 candidates, totalling 120 fits\n"
     ]
    },
    {
     "name": "stderr",
     "output_type": "stream",
     "text": [
      "[Parallel(n_jobs=1)]: Using backend SequentialBackend with 1 concurrent workers.\n",
      "[Parallel(n_jobs=1)]: Done 120 out of 120 | elapsed:   26.4s finished\n"
     ]
    },
    {
     "name": "stdout",
     "output_type": "stream",
     "text": [
      "best score: 0.6121212121212121\n",
      "Fitting 10 folds for each of 12 candidates, totalling 120 fits\n"
     ]
    },
    {
     "name": "stderr",
     "output_type": "stream",
     "text": [
      "[Parallel(n_jobs=1)]: Using backend SequentialBackend with 1 concurrent workers.\n",
      "[Parallel(n_jobs=1)]: Done 120 out of 120 | elapsed:   40.4s finished\n"
     ]
    },
    {
     "name": "stdout",
     "output_type": "stream",
     "text": [
      "best score: 0.6121212121212121\n",
      "Split: 1\n",
      "Split: 2\n",
      "Split: 3\n",
      "Split: 4\n",
      "Split: 5\n",
      "Split: 6\n",
      "Split: 7\n",
      "Split: 8\n",
      "Split: 9\n",
      "Split: 10\n",
      "Training Testing Accuracy for n_games=7 team=17 : 59.82% (1.58%)\n",
      "(183, 1316)\n",
      "(183, 1)\n",
      "X_train shape: (164, 2218)\n",
      "X_test shape: (19, 2218)\n",
      "Fitting 10 folds for each of 12 candidates, totalling 120 fits\n"
     ]
    },
    {
     "name": "stderr",
     "output_type": "stream",
     "text": [
      "[Parallel(n_jobs=1)]: Using backend SequentialBackend with 1 concurrent workers.\n",
      "[Parallel(n_jobs=1)]: Done 120 out of 120 | elapsed:   33.4s finished\n"
     ]
    },
    {
     "name": "stdout",
     "output_type": "stream",
     "text": [
      "best score: 0.6219512195121951\n",
      "Fitting 10 folds for each of 12 candidates, totalling 120 fits\n"
     ]
    },
    {
     "name": "stderr",
     "output_type": "stream",
     "text": [
      "[Parallel(n_jobs=1)]: Using backend SequentialBackend with 1 concurrent workers.\n",
      "[Parallel(n_jobs=1)]: Done 120 out of 120 | elapsed:   37.9s finished\n"
     ]
    },
    {
     "name": "stdout",
     "output_type": "stream",
     "text": [
      "best score: 0.6219512195121951\n",
      "Fitting 10 folds for each of 12 candidates, totalling 120 fits\n"
     ]
    },
    {
     "name": "stderr",
     "output_type": "stream",
     "text": [
      "[Parallel(n_jobs=1)]: Using backend SequentialBackend with 1 concurrent workers.\n",
      "[Parallel(n_jobs=1)]: Done 120 out of 120 | elapsed:  1.1min finished\n"
     ]
    },
    {
     "name": "stdout",
     "output_type": "stream",
     "text": [
      "best score: 0.6219512195121951\n",
      "Fitting 10 folds for each of 12 candidates, totalling 120 fits\n"
     ]
    },
    {
     "name": "stderr",
     "output_type": "stream",
     "text": [
      "[Parallel(n_jobs=1)]: Using backend SequentialBackend with 1 concurrent workers.\n",
      "[Parallel(n_jobs=1)]: Done 120 out of 120 | elapsed:  1.2min finished\n"
     ]
    },
    {
     "name": "stdout",
     "output_type": "stream",
     "text": [
      "best score: 0.6280487804878049\n",
      "Fitting 10 folds for each of 12 candidates, totalling 120 fits\n"
     ]
    },
    {
     "name": "stderr",
     "output_type": "stream",
     "text": [
      "[Parallel(n_jobs=1)]: Using backend SequentialBackend with 1 concurrent workers.\n",
      "[Parallel(n_jobs=1)]: Done 120 out of 120 | elapsed:   43.8s finished\n"
     ]
    },
    {
     "name": "stdout",
     "output_type": "stream",
     "text": [
      "best score: 0.6341463414634146\n",
      "Split: 1\n",
      "Split: 2\n",
      "Split: 3\n",
      "Split: 4\n",
      "Split: 5\n",
      "Split: 6\n",
      "Split: 7\n",
      "Split: 8\n",
      "Split: 9\n",
      "Split: 10\n",
      "Training Testing Accuracy for n_games=7 team=18 : 56.37% (7.47%)\n",
      "Accuracy for Team Models for n_games= 7 : 59.73% (5.57%)\n",
      "(178, 1502)\n",
      "(178, 1)\n",
      "X_train shape: (160, 2515)\n",
      "X_test shape: (18, 2515)\n",
      "Fitting 10 folds for each of 12 candidates, totalling 120 fits\n"
     ]
    },
    {
     "name": "stderr",
     "output_type": "stream",
     "text": [
      "[Parallel(n_jobs=1)]: Using backend SequentialBackend with 1 concurrent workers.\n",
      "[Parallel(n_jobs=1)]: Done 120 out of 120 | elapsed:   36.2s finished\n"
     ]
    },
    {
     "name": "stdout",
     "output_type": "stream",
     "text": [
      "best score: 0.58125\n",
      "Fitting 10 folds for each of 12 candidates, totalling 120 fits\n"
     ]
    },
    {
     "name": "stderr",
     "output_type": "stream",
     "text": [
      "[Parallel(n_jobs=1)]: Using backend SequentialBackend with 1 concurrent workers.\n",
      "[Parallel(n_jobs=1)]: Done 120 out of 120 | elapsed:   55.4s finished\n"
     ]
    },
    {
     "name": "stdout",
     "output_type": "stream",
     "text": [
      "best score: 0.5875\n",
      "Fitting 10 folds for each of 12 candidates, totalling 120 fits\n"
     ]
    },
    {
     "name": "stderr",
     "output_type": "stream",
     "text": [
      "[Parallel(n_jobs=1)]: Using backend SequentialBackend with 1 concurrent workers.\n",
      "[Parallel(n_jobs=1)]: Done 120 out of 120 | elapsed:   41.5s finished\n"
     ]
    },
    {
     "name": "stdout",
     "output_type": "stream",
     "text": [
      "best score: 0.5875\n",
      "Fitting 10 folds for each of 12 candidates, totalling 120 fits\n"
     ]
    },
    {
     "name": "stderr",
     "output_type": "stream",
     "text": [
      "[Parallel(n_jobs=1)]: Using backend SequentialBackend with 1 concurrent workers.\n",
      "[Parallel(n_jobs=1)]: Done 120 out of 120 | elapsed:   52.7s finished\n"
     ]
    },
    {
     "name": "stdout",
     "output_type": "stream",
     "text": [
      "best score: 0.5875\n",
      "Fitting 10 folds for each of 12 candidates, totalling 120 fits\n"
     ]
    },
    {
     "name": "stderr",
     "output_type": "stream",
     "text": [
      "[Parallel(n_jobs=1)]: Using backend SequentialBackend with 1 concurrent workers.\n",
      "[Parallel(n_jobs=1)]: Done 120 out of 120 | elapsed:   36.6s finished\n"
     ]
    },
    {
     "name": "stdout",
     "output_type": "stream",
     "text": [
      "best score: 0.5875\n",
      "Split: 1\n",
      "Split: 2\n",
      "Split: 3\n",
      "Split: 4\n",
      "Split: 5\n",
      "Split: 6\n",
      "Split: 7\n",
      "Split: 8\n",
      "Split: 9\n",
      "Split: 10\n",
      "Training Testing Accuracy for n_games=8 team=1 : 57.35% (4.65%)\n",
      "(176, 1502)\n",
      "(176, 1)\n",
      "X_train shape: (158, 2493)\n",
      "X_test shape: (18, 2493)\n",
      "Fitting 10 folds for each of 12 candidates, totalling 120 fits\n"
     ]
    },
    {
     "name": "stderr",
     "output_type": "stream",
     "text": [
      "[Parallel(n_jobs=1)]: Using backend SequentialBackend with 1 concurrent workers.\n",
      "[Parallel(n_jobs=1)]: Done 120 out of 120 | elapsed:   35.8s finished\n"
     ]
    },
    {
     "name": "stdout",
     "output_type": "stream",
     "text": [
      "best score: 0.7025316455696202\n",
      "Fitting 10 folds for each of 12 candidates, totalling 120 fits\n"
     ]
    },
    {
     "name": "stderr",
     "output_type": "stream",
     "text": [
      "[Parallel(n_jobs=1)]: Using backend SequentialBackend with 1 concurrent workers.\n",
      "[Parallel(n_jobs=1)]: Done 120 out of 120 | elapsed:   34.0s finished\n"
     ]
    },
    {
     "name": "stdout",
     "output_type": "stream",
     "text": [
      "best score: 0.7025316455696202\n",
      "Fitting 10 folds for each of 12 candidates, totalling 120 fits\n"
     ]
    },
    {
     "name": "stderr",
     "output_type": "stream",
     "text": [
      "[Parallel(n_jobs=1)]: Using backend SequentialBackend with 1 concurrent workers.\n",
      "[Parallel(n_jobs=1)]: Done 120 out of 120 | elapsed:   46.5s finished\n"
     ]
    },
    {
     "name": "stdout",
     "output_type": "stream",
     "text": [
      "best score: 0.7025316455696202\n",
      "Fitting 10 folds for each of 12 candidates, totalling 120 fits\n"
     ]
    },
    {
     "name": "stderr",
     "output_type": "stream",
     "text": [
      "[Parallel(n_jobs=1)]: Using backend SequentialBackend with 1 concurrent workers.\n",
      "[Parallel(n_jobs=1)]: Done 120 out of 120 | elapsed:   37.0s finished\n"
     ]
    },
    {
     "name": "stdout",
     "output_type": "stream",
     "text": [
      "best score: 0.7025316455696202\n",
      "Fitting 10 folds for each of 12 candidates, totalling 120 fits\n"
     ]
    },
    {
     "name": "stderr",
     "output_type": "stream",
     "text": [
      "[Parallel(n_jobs=1)]: Using backend SequentialBackend with 1 concurrent workers.\n",
      "[Parallel(n_jobs=1)]: Done 120 out of 120 | elapsed:  1.3min finished\n"
     ]
    },
    {
     "name": "stdout",
     "output_type": "stream",
     "text": [
      "best score: 0.7341772151898734\n",
      "Split: 1\n",
      "Split: 2\n",
      "Split: 3\n",
      "Split: 4\n",
      "Split: 5\n",
      "Split: 6\n",
      "Split: 7\n",
      "Split: 8\n",
      "Split: 9\n",
      "Split: 10\n",
      "Training Testing Accuracy for n_games=8 team=2 : 70.56% (8.27%)\n",
      "(174, 1502)\n",
      "(174, 1)\n",
      "X_train shape: (156, 2481)\n",
      "X_test shape: (18, 2481)\n",
      "Fitting 10 folds for each of 12 candidates, totalling 120 fits\n"
     ]
    },
    {
     "name": "stderr",
     "output_type": "stream",
     "text": [
      "[Parallel(n_jobs=1)]: Using backend SequentialBackend with 1 concurrent workers.\n",
      "[Parallel(n_jobs=1)]: Done 120 out of 120 | elapsed:   39.5s finished\n"
     ]
    },
    {
     "name": "stdout",
     "output_type": "stream",
     "text": [
      "best score: 0.717948717948718\n",
      "Fitting 10 folds for each of 12 candidates, totalling 120 fits\n"
     ]
    },
    {
     "name": "stderr",
     "output_type": "stream",
     "text": [
      "[Parallel(n_jobs=1)]: Using backend SequentialBackend with 1 concurrent workers.\n",
      "[Parallel(n_jobs=1)]: Done 120 out of 120 | elapsed:   41.2s finished\n"
     ]
    },
    {
     "name": "stdout",
     "output_type": "stream",
     "text": [
      "best score: 0.717948717948718\n",
      "Fitting 10 folds for each of 12 candidates, totalling 120 fits\n"
     ]
    },
    {
     "name": "stderr",
     "output_type": "stream",
     "text": [
      "[Parallel(n_jobs=1)]: Using backend SequentialBackend with 1 concurrent workers.\n",
      "[Parallel(n_jobs=1)]: Done 120 out of 120 | elapsed:   47.0s finished\n"
     ]
    },
    {
     "name": "stdout",
     "output_type": "stream",
     "text": [
      "best score: 0.717948717948718\n",
      "Fitting 10 folds for each of 12 candidates, totalling 120 fits\n"
     ]
    },
    {
     "name": "stderr",
     "output_type": "stream",
     "text": [
      "[Parallel(n_jobs=1)]: Using backend SequentialBackend with 1 concurrent workers.\n",
      "[Parallel(n_jobs=1)]: Done 120 out of 120 | elapsed:   28.7s finished\n"
     ]
    },
    {
     "name": "stdout",
     "output_type": "stream",
     "text": [
      "best score: 0.717948717948718\n",
      "Fitting 10 folds for each of 12 candidates, totalling 120 fits\n"
     ]
    },
    {
     "name": "stderr",
     "output_type": "stream",
     "text": [
      "[Parallel(n_jobs=1)]: Using backend SequentialBackend with 1 concurrent workers.\n",
      "[Parallel(n_jobs=1)]: Done 120 out of 120 | elapsed:   34.7s finished\n"
     ]
    },
    {
     "name": "stdout",
     "output_type": "stream",
     "text": [
      "best score: 0.717948717948718\n",
      "Split: 1\n",
      "Split: 2\n",
      "Split: 3\n",
      "Split: 4\n",
      "Split: 5\n",
      "Split: 6\n",
      "Split: 7\n",
      "Split: 8\n",
      "Split: 9\n",
      "Split: 10\n",
      "Training Testing Accuracy for n_games=8 team=3 : 69.58% (1.96%)\n",
      "(179, 1502)\n",
      "(179, 1)\n",
      "X_train shape: (161, 2488)\n",
      "X_test shape: (18, 2488)\n",
      "Fitting 10 folds for each of 12 candidates, totalling 120 fits\n"
     ]
    },
    {
     "name": "stderr",
     "output_type": "stream",
     "text": [
      "[Parallel(n_jobs=1)]: Using backend SequentialBackend with 1 concurrent workers.\n",
      "[Parallel(n_jobs=1)]: Done 120 out of 120 | elapsed:   37.5s finished\n"
     ]
    },
    {
     "name": "stdout",
     "output_type": "stream",
     "text": [
      "best score: 0.5341614906832298\n",
      "Fitting 10 folds for each of 12 candidates, totalling 120 fits\n"
     ]
    },
    {
     "name": "stderr",
     "output_type": "stream",
     "text": [
      "[Parallel(n_jobs=1)]: Using backend SequentialBackend with 1 concurrent workers.\n",
      "[Parallel(n_jobs=1)]: Done 120 out of 120 | elapsed:   52.8s finished\n"
     ]
    },
    {
     "name": "stdout",
     "output_type": "stream",
     "text": [
      "best score: 0.577639751552795\n",
      "Fitting 10 folds for each of 12 candidates, totalling 120 fits\n"
     ]
    },
    {
     "name": "stderr",
     "output_type": "stream",
     "text": [
      "[Parallel(n_jobs=1)]: Using backend SequentialBackend with 1 concurrent workers.\n",
      "[Parallel(n_jobs=1)]: Done 120 out of 120 | elapsed:   27.3s finished\n"
     ]
    },
    {
     "name": "stdout",
     "output_type": "stream",
     "text": [
      "best score: 0.577639751552795\n",
      "Fitting 10 folds for each of 12 candidates, totalling 120 fits\n"
     ]
    },
    {
     "name": "stderr",
     "output_type": "stream",
     "text": [
      "[Parallel(n_jobs=1)]: Using backend SequentialBackend with 1 concurrent workers.\n",
      "[Parallel(n_jobs=1)]: Done 120 out of 120 | elapsed:   33.9s finished\n"
     ]
    },
    {
     "name": "stdout",
     "output_type": "stream",
     "text": [
      "best score: 0.577639751552795\n",
      "Fitting 10 folds for each of 12 candidates, totalling 120 fits\n"
     ]
    },
    {
     "name": "stderr",
     "output_type": "stream",
     "text": [
      "[Parallel(n_jobs=1)]: Using backend SequentialBackend with 1 concurrent workers.\n",
      "[Parallel(n_jobs=1)]: Done 120 out of 120 | elapsed:   25.8s finished\n"
     ]
    },
    {
     "name": "stdout",
     "output_type": "stream",
     "text": [
      "best score: 0.577639751552795\n",
      "Split: 1\n",
      "Split: 2\n",
      "Split: 3\n",
      "Split: 4\n",
      "Split: 5\n",
      "Split: 6\n",
      "Split: 7\n",
      "Split: 8\n",
      "Split: 9\n",
      "Split: 10\n",
      "Training Testing Accuracy for n_games=8 team=4 : 54.18% (8.54%)\n",
      "(176, 1502)\n",
      "(176, 1)\n",
      "X_train shape: (158, 2467)\n",
      "X_test shape: (18, 2467)\n",
      "Fitting 10 folds for each of 12 candidates, totalling 120 fits\n"
     ]
    },
    {
     "name": "stderr",
     "output_type": "stream",
     "text": [
      "[Parallel(n_jobs=1)]: Using backend SequentialBackend with 1 concurrent workers.\n",
      "[Parallel(n_jobs=1)]: Done 120 out of 120 | elapsed:   35.8s finished\n"
     ]
    },
    {
     "name": "stdout",
     "output_type": "stream",
     "text": [
      "best score: 0.6012658227848101\n",
      "Fitting 10 folds for each of 12 candidates, totalling 120 fits\n"
     ]
    },
    {
     "name": "stderr",
     "output_type": "stream",
     "text": [
      "[Parallel(n_jobs=1)]: Using backend SequentialBackend with 1 concurrent workers.\n",
      "[Parallel(n_jobs=1)]: Done 120 out of 120 | elapsed:   35.5s finished\n"
     ]
    },
    {
     "name": "stdout",
     "output_type": "stream",
     "text": [
      "best score: 0.6329113924050633\n",
      "Fitting 10 folds for each of 12 candidates, totalling 120 fits\n"
     ]
    },
    {
     "name": "stderr",
     "output_type": "stream",
     "text": [
      "[Parallel(n_jobs=1)]: Using backend SequentialBackend with 1 concurrent workers.\n",
      "[Parallel(n_jobs=1)]: Done 120 out of 120 | elapsed:  1.1min finished\n"
     ]
    },
    {
     "name": "stdout",
     "output_type": "stream",
     "text": [
      "best score: 0.6329113924050633\n",
      "Fitting 10 folds for each of 12 candidates, totalling 120 fits\n"
     ]
    },
    {
     "name": "stderr",
     "output_type": "stream",
     "text": [
      "[Parallel(n_jobs=1)]: Using backend SequentialBackend with 1 concurrent workers.\n",
      "[Parallel(n_jobs=1)]: Done 120 out of 120 | elapsed:  1.6min finished\n"
     ]
    },
    {
     "name": "stdout",
     "output_type": "stream",
     "text": [
      "best score: 0.6329113924050633\n",
      "Fitting 10 folds for each of 12 candidates, totalling 120 fits\n"
     ]
    },
    {
     "name": "stderr",
     "output_type": "stream",
     "text": [
      "[Parallel(n_jobs=1)]: Using backend SequentialBackend with 1 concurrent workers.\n",
      "[Parallel(n_jobs=1)]: Done 120 out of 120 | elapsed:   35.3s finished\n"
     ]
    },
    {
     "name": "stdout",
     "output_type": "stream",
     "text": [
      "best score: 0.6329113924050633\n",
      "Split: 1\n",
      "Split: 2\n",
      "Split: 3\n",
      "Split: 4\n",
      "Split: 5\n",
      "Split: 6\n",
      "Split: 7\n",
      "Split: 8\n",
      "Split: 9\n",
      "Split: 10\n",
      "Training Testing Accuracy for n_games=8 team=5 : 60.85% (8.72%)\n",
      "(179, 1502)\n",
      "(179, 1)\n",
      "X_train shape: (161, 2501)\n",
      "X_test shape: (18, 2501)\n",
      "Fitting 10 folds for each of 12 candidates, totalling 120 fits\n"
     ]
    },
    {
     "name": "stderr",
     "output_type": "stream",
     "text": [
      "[Parallel(n_jobs=1)]: Using backend SequentialBackend with 1 concurrent workers.\n",
      "[Parallel(n_jobs=1)]: Done 120 out of 120 | elapsed:   35.8s finished\n"
     ]
    },
    {
     "name": "stdout",
     "output_type": "stream",
     "text": [
      "best score: 0.5714285714285714\n",
      "Fitting 10 folds for each of 12 candidates, totalling 120 fits\n"
     ]
    },
    {
     "name": "stderr",
     "output_type": "stream",
     "text": [
      "[Parallel(n_jobs=1)]: Using backend SequentialBackend with 1 concurrent workers.\n",
      "[Parallel(n_jobs=1)]: Done 120 out of 120 | elapsed:   31.0s finished\n"
     ]
    },
    {
     "name": "stdout",
     "output_type": "stream",
     "text": [
      "best score: 0.577639751552795\n",
      "Fitting 10 folds for each of 12 candidates, totalling 120 fits\n"
     ]
    },
    {
     "name": "stderr",
     "output_type": "stream",
     "text": [
      "[Parallel(n_jobs=1)]: Using backend SequentialBackend with 1 concurrent workers.\n",
      "[Parallel(n_jobs=1)]: Done 120 out of 120 | elapsed:   23.0s finished\n"
     ]
    },
    {
     "name": "stdout",
     "output_type": "stream",
     "text": [
      "best score: 0.577639751552795\n",
      "Fitting 10 folds for each of 12 candidates, totalling 120 fits\n"
     ]
    },
    {
     "name": "stderr",
     "output_type": "stream",
     "text": [
      "[Parallel(n_jobs=1)]: Using backend SequentialBackend with 1 concurrent workers.\n",
      "[Parallel(n_jobs=1)]: Done 120 out of 120 | elapsed:   48.8s finished\n"
     ]
    },
    {
     "name": "stdout",
     "output_type": "stream",
     "text": [
      "best score: 0.577639751552795\n",
      "Fitting 10 folds for each of 12 candidates, totalling 120 fits\n"
     ]
    },
    {
     "name": "stderr",
     "output_type": "stream",
     "text": [
      "[Parallel(n_jobs=1)]: Using backend SequentialBackend with 1 concurrent workers.\n",
      "[Parallel(n_jobs=1)]: Done 120 out of 120 | elapsed:   41.9s finished\n"
     ]
    },
    {
     "name": "stdout",
     "output_type": "stream",
     "text": [
      "best score: 0.577639751552795\n",
      "Split: 1\n",
      "Split: 2\n",
      "Split: 3\n",
      "Split: 4\n",
      "Split: 5\n",
      "Split: 6\n",
      "Split: 7\n",
      "Split: 8\n",
      "Split: 9\n",
      "Split: 10\n",
      "Training Testing Accuracy for n_games=8 team=6 : 49.12% (7.91%)\n",
      "(188, 1502)\n",
      "(188, 1)\n",
      "X_train shape: (169, 2492)\n",
      "X_test shape: (19, 2492)\n",
      "Fitting 10 folds for each of 12 candidates, totalling 120 fits\n"
     ]
    },
    {
     "name": "stderr",
     "output_type": "stream",
     "text": [
      "[Parallel(n_jobs=1)]: Using backend SequentialBackend with 1 concurrent workers.\n",
      "[Parallel(n_jobs=1)]: Done 120 out of 120 | elapsed:   35.5s finished\n"
     ]
    },
    {
     "name": "stdout",
     "output_type": "stream",
     "text": [
      "best score: 0.6804733727810651\n",
      "Fitting 10 folds for each of 12 candidates, totalling 120 fits\n"
     ]
    },
    {
     "name": "stderr",
     "output_type": "stream",
     "text": [
      "[Parallel(n_jobs=1)]: Using backend SequentialBackend with 1 concurrent workers.\n",
      "[Parallel(n_jobs=1)]: Done 120 out of 120 | elapsed:   29.6s finished\n"
     ]
    },
    {
     "name": "stdout",
     "output_type": "stream",
     "text": [
      "best score: 0.6804733727810651\n",
      "Fitting 10 folds for each of 12 candidates, totalling 120 fits\n"
     ]
    },
    {
     "name": "stderr",
     "output_type": "stream",
     "text": [
      "[Parallel(n_jobs=1)]: Using backend SequentialBackend with 1 concurrent workers.\n",
      "[Parallel(n_jobs=1)]: Done 120 out of 120 | elapsed:   46.5s finished\n"
     ]
    },
    {
     "name": "stdout",
     "output_type": "stream",
     "text": [
      "best score: 0.6863905325443787\n",
      "Fitting 10 folds for each of 12 candidates, totalling 120 fits\n"
     ]
    },
    {
     "name": "stderr",
     "output_type": "stream",
     "text": [
      "[Parallel(n_jobs=1)]: Using backend SequentialBackend with 1 concurrent workers.\n",
      "[Parallel(n_jobs=1)]: Done 120 out of 120 | elapsed:   29.7s finished\n"
     ]
    },
    {
     "name": "stdout",
     "output_type": "stream",
     "text": [
      "best score: 0.6863905325443787\n",
      "Fitting 10 folds for each of 12 candidates, totalling 120 fits\n"
     ]
    },
    {
     "name": "stderr",
     "output_type": "stream",
     "text": [
      "[Parallel(n_jobs=1)]: Using backend SequentialBackend with 1 concurrent workers.\n",
      "[Parallel(n_jobs=1)]: Done 120 out of 120 | elapsed:   34.4s finished\n"
     ]
    },
    {
     "name": "stdout",
     "output_type": "stream",
     "text": [
      "best score: 0.6863905325443787\n",
      "Split: 1\n",
      "Split: 2\n",
      "Split: 3\n",
      "Split: 4\n",
      "Split: 5\n",
      "Split: 6\n",
      "Split: 7\n",
      "Split: 8\n",
      "Split: 9\n",
      "Split: 10\n",
      "Training Testing Accuracy for n_games=8 team=7 : 65.44% (3.33%)\n",
      "(172, 1502)\n",
      "(172, 1)\n",
      "X_train shape: (154, 2499)\n",
      "X_test shape: (18, 2499)\n",
      "Fitting 10 folds for each of 12 candidates, totalling 120 fits\n"
     ]
    },
    {
     "name": "stderr",
     "output_type": "stream",
     "text": [
      "[Parallel(n_jobs=1)]: Using backend SequentialBackend with 1 concurrent workers.\n",
      "[Parallel(n_jobs=1)]: Done 120 out of 120 | elapsed:   35.1s finished\n"
     ]
    },
    {
     "name": "stdout",
     "output_type": "stream",
     "text": [
      "best score: 0.7662337662337663\n",
      "Fitting 10 folds for each of 12 candidates, totalling 120 fits\n"
     ]
    },
    {
     "name": "stderr",
     "output_type": "stream",
     "text": [
      "[Parallel(n_jobs=1)]: Using backend SequentialBackend with 1 concurrent workers.\n",
      "[Parallel(n_jobs=1)]: Done 120 out of 120 | elapsed:   30.5s finished\n"
     ]
    },
    {
     "name": "stdout",
     "output_type": "stream",
     "text": [
      "best score: 0.7662337662337663\n",
      "Fitting 10 folds for each of 12 candidates, totalling 120 fits\n"
     ]
    },
    {
     "name": "stderr",
     "output_type": "stream",
     "text": [
      "[Parallel(n_jobs=1)]: Using backend SequentialBackend with 1 concurrent workers.\n",
      "[Parallel(n_jobs=1)]: Done 120 out of 120 | elapsed:   48.6s finished\n"
     ]
    },
    {
     "name": "stdout",
     "output_type": "stream",
     "text": [
      "best score: 0.7662337662337663\n",
      "Fitting 10 folds for each of 12 candidates, totalling 120 fits\n"
     ]
    },
    {
     "name": "stderr",
     "output_type": "stream",
     "text": [
      "[Parallel(n_jobs=1)]: Using backend SequentialBackend with 1 concurrent workers.\n",
      "[Parallel(n_jobs=1)]: Done 120 out of 120 | elapsed:   34.0s finished\n"
     ]
    },
    {
     "name": "stdout",
     "output_type": "stream",
     "text": [
      "best score: 0.7662337662337663\n",
      "Fitting 10 folds for each of 12 candidates, totalling 120 fits\n"
     ]
    },
    {
     "name": "stderr",
     "output_type": "stream",
     "text": [
      "[Parallel(n_jobs=1)]: Using backend SequentialBackend with 1 concurrent workers.\n",
      "[Parallel(n_jobs=1)]: Done 120 out of 120 | elapsed:   41.5s finished\n"
     ]
    },
    {
     "name": "stdout",
     "output_type": "stream",
     "text": [
      "best score: 0.7662337662337663\n",
      "Split: 1\n",
      "Split: 2\n",
      "Split: 3\n",
      "Split: 4\n",
      "Split: 5\n",
      "Split: 6\n",
      "Split: 7\n",
      "Split: 8\n",
      "Split: 9\n",
      "Split: 10\n",
      "Training Testing Accuracy for n_games=8 team=8 : 75.62% (4.86%)\n",
      "(185, 1502)\n",
      "(185, 1)\n",
      "X_train shape: (166, 2506)\n",
      "X_test shape: (19, 2506)\n",
      "Fitting 10 folds for each of 12 candidates, totalling 120 fits\n"
     ]
    },
    {
     "name": "stderr",
     "output_type": "stream",
     "text": [
      "[Parallel(n_jobs=1)]: Using backend SequentialBackend with 1 concurrent workers.\n",
      "[Parallel(n_jobs=1)]: Done 120 out of 120 | elapsed:   36.7s finished\n"
     ]
    },
    {
     "name": "stdout",
     "output_type": "stream",
     "text": [
      "best score: 0.572289156626506\n",
      "Fitting 10 folds for each of 12 candidates, totalling 120 fits\n"
     ]
    },
    {
     "name": "stderr",
     "output_type": "stream",
     "text": [
      "[Parallel(n_jobs=1)]: Using backend SequentialBackend with 1 concurrent workers.\n",
      "[Parallel(n_jobs=1)]: Done 120 out of 120 | elapsed:   39.7s finished\n"
     ]
    },
    {
     "name": "stdout",
     "output_type": "stream",
     "text": [
      "best score: 0.572289156626506\n",
      "Fitting 10 folds for each of 12 candidates, totalling 120 fits\n"
     ]
    },
    {
     "name": "stderr",
     "output_type": "stream",
     "text": [
      "[Parallel(n_jobs=1)]: Using backend SequentialBackend with 1 concurrent workers.\n",
      "[Parallel(n_jobs=1)]: Done 120 out of 120 | elapsed:   47.8s finished\n"
     ]
    },
    {
     "name": "stdout",
     "output_type": "stream",
     "text": [
      "best score: 0.572289156626506\n",
      "Fitting 10 folds for each of 12 candidates, totalling 120 fits\n"
     ]
    },
    {
     "name": "stderr",
     "output_type": "stream",
     "text": [
      "[Parallel(n_jobs=1)]: Using backend SequentialBackend with 1 concurrent workers.\n",
      "[Parallel(n_jobs=1)]: Done 120 out of 120 | elapsed:   26.6s finished\n"
     ]
    },
    {
     "name": "stdout",
     "output_type": "stream",
     "text": [
      "best score: 0.572289156626506\n",
      "Fitting 10 folds for each of 12 candidates, totalling 120 fits\n"
     ]
    },
    {
     "name": "stderr",
     "output_type": "stream",
     "text": [
      "[Parallel(n_jobs=1)]: Using backend SequentialBackend with 1 concurrent workers.\n",
      "[Parallel(n_jobs=1)]: Done 120 out of 120 | elapsed:   34.9s finished\n"
     ]
    },
    {
     "name": "stdout",
     "output_type": "stream",
     "text": [
      "best score: 0.572289156626506\n",
      "Split: 1\n",
      "Split: 2\n",
      "Split: 3\n",
      "Split: 4\n",
      "Split: 5\n",
      "Split: 6\n",
      "Split: 7\n",
      "Split: 8\n",
      "Split: 9\n",
      "Split: 10\n",
      "Training Testing Accuracy for n_games=8 team=9 : 54.59% (9.94%)\n",
      "(186, 1502)\n",
      "(186, 1)\n",
      "X_train shape: (167, 2497)\n",
      "X_test shape: (19, 2497)\n",
      "Fitting 10 folds for each of 12 candidates, totalling 120 fits\n"
     ]
    },
    {
     "name": "stderr",
     "output_type": "stream",
     "text": [
      "[Parallel(n_jobs=1)]: Using backend SequentialBackend with 1 concurrent workers.\n",
      "[Parallel(n_jobs=1)]: Done 120 out of 120 | elapsed:   36.3s finished\n"
     ]
    },
    {
     "name": "stdout",
     "output_type": "stream",
     "text": [
      "best score: 0.6706586826347305\n",
      "Fitting 10 folds for each of 12 candidates, totalling 120 fits\n"
     ]
    },
    {
     "name": "stderr",
     "output_type": "stream",
     "text": [
      "[Parallel(n_jobs=1)]: Using backend SequentialBackend with 1 concurrent workers.\n",
      "[Parallel(n_jobs=1)]: Done 120 out of 120 | elapsed:   33.8s finished\n"
     ]
    },
    {
     "name": "stdout",
     "output_type": "stream",
     "text": [
      "best score: 0.6706586826347305\n",
      "Fitting 10 folds for each of 12 candidates, totalling 120 fits\n"
     ]
    },
    {
     "name": "stderr",
     "output_type": "stream",
     "text": [
      "[Parallel(n_jobs=1)]: Using backend SequentialBackend with 1 concurrent workers.\n",
      "[Parallel(n_jobs=1)]: Done 120 out of 120 | elapsed:   54.5s finished\n"
     ]
    },
    {
     "name": "stdout",
     "output_type": "stream",
     "text": [
      "best score: 0.6706586826347305\n",
      "Fitting 10 folds for each of 12 candidates, totalling 120 fits\n"
     ]
    },
    {
     "name": "stderr",
     "output_type": "stream",
     "text": [
      "[Parallel(n_jobs=1)]: Using backend SequentialBackend with 1 concurrent workers.\n",
      "[Parallel(n_jobs=1)]: Done 120 out of 120 | elapsed:   48.2s finished\n"
     ]
    },
    {
     "name": "stdout",
     "output_type": "stream",
     "text": [
      "best score: 0.6706586826347305\n",
      "Fitting 10 folds for each of 12 candidates, totalling 120 fits\n"
     ]
    },
    {
     "name": "stderr",
     "output_type": "stream",
     "text": [
      "[Parallel(n_jobs=1)]: Using backend SequentialBackend with 1 concurrent workers.\n",
      "[Parallel(n_jobs=1)]: Done 120 out of 120 | elapsed:   27.5s finished\n"
     ]
    },
    {
     "name": "stdout",
     "output_type": "stream",
     "text": [
      "best score: 0.6706586826347305\n",
      "Split: 1\n",
      "Split: 2\n",
      "Split: 3\n",
      "Split: 4\n",
      "Split: 5\n",
      "Split: 6\n",
      "Split: 7\n",
      "Split: 8\n",
      "Split: 9\n",
      "Split: 10\n",
      "Training Testing Accuracy for n_games=8 team=10 : 56.87% (8.60%)\n",
      "(178, 1502)\n",
      "(178, 1)\n",
      "X_train shape: (160, 2512)\n",
      "X_test shape: (18, 2512)\n",
      "Fitting 10 folds for each of 12 candidates, totalling 120 fits\n"
     ]
    },
    {
     "name": "stderr",
     "output_type": "stream",
     "text": [
      "[Parallel(n_jobs=1)]: Using backend SequentialBackend with 1 concurrent workers.\n",
      "[Parallel(n_jobs=1)]: Done 120 out of 120 | elapsed:   36.2s finished\n"
     ]
    },
    {
     "name": "stdout",
     "output_type": "stream",
     "text": [
      "best score: 0.60625\n",
      "Fitting 10 folds for each of 12 candidates, totalling 120 fits\n"
     ]
    },
    {
     "name": "stderr",
     "output_type": "stream",
     "text": [
      "[Parallel(n_jobs=1)]: Using backend SequentialBackend with 1 concurrent workers.\n",
      "[Parallel(n_jobs=1)]: Done 120 out of 120 | elapsed:   31.6s finished\n"
     ]
    },
    {
     "name": "stdout",
     "output_type": "stream",
     "text": [
      "best score: 0.60625\n",
      "Fitting 10 folds for each of 12 candidates, totalling 120 fits\n"
     ]
    },
    {
     "name": "stderr",
     "output_type": "stream",
     "text": [
      "[Parallel(n_jobs=1)]: Using backend SequentialBackend with 1 concurrent workers.\n",
      "[Parallel(n_jobs=1)]: Done 120 out of 120 | elapsed:  1.2min finished\n"
     ]
    },
    {
     "name": "stdout",
     "output_type": "stream",
     "text": [
      "best score: 0.60625\n",
      "Fitting 10 folds for each of 12 candidates, totalling 120 fits\n"
     ]
    },
    {
     "name": "stderr",
     "output_type": "stream",
     "text": [
      "[Parallel(n_jobs=1)]: Using backend SequentialBackend with 1 concurrent workers.\n",
      "[Parallel(n_jobs=1)]: Done 120 out of 120 | elapsed:   37.1s finished\n"
     ]
    },
    {
     "name": "stdout",
     "output_type": "stream",
     "text": [
      "best score: 0.6125\n",
      "Fitting 10 folds for each of 12 candidates, totalling 120 fits\n"
     ]
    },
    {
     "name": "stderr",
     "output_type": "stream",
     "text": [
      "[Parallel(n_jobs=1)]: Using backend SequentialBackend with 1 concurrent workers.\n",
      "[Parallel(n_jobs=1)]: Done 120 out of 120 | elapsed:   36.8s finished\n"
     ]
    },
    {
     "name": "stdout",
     "output_type": "stream",
     "text": [
      "best score: 0.6375\n",
      "Split: 1\n",
      "Split: 2\n",
      "Split: 3\n",
      "Split: 4\n",
      "Split: 5\n",
      "Split: 6\n",
      "Split: 7\n",
      "Split: 8\n",
      "Split: 9\n",
      "Split: 10\n",
      "Training Testing Accuracy for n_games=8 team=11 : 58.89% (8.51%)\n",
      "(179, 1502)\n",
      "(179, 1)\n",
      "X_train shape: (161, 2497)\n",
      "X_test shape: (18, 2497)\n",
      "Fitting 10 folds for each of 12 candidates, totalling 120 fits\n"
     ]
    },
    {
     "name": "stderr",
     "output_type": "stream",
     "text": [
      "[Parallel(n_jobs=1)]: Using backend SequentialBackend with 1 concurrent workers.\n",
      "[Parallel(n_jobs=1)]: Done 120 out of 120 | elapsed:   35.9s finished\n"
     ]
    },
    {
     "name": "stdout",
     "output_type": "stream",
     "text": [
      "best score: 0.5527950310559007\n",
      "Fitting 10 folds for each of 12 candidates, totalling 120 fits\n"
     ]
    },
    {
     "name": "stderr",
     "output_type": "stream",
     "text": [
      "[Parallel(n_jobs=1)]: Using backend SequentialBackend with 1 concurrent workers.\n",
      "[Parallel(n_jobs=1)]: Done 120 out of 120 | elapsed:   47.8s finished\n"
     ]
    },
    {
     "name": "stdout",
     "output_type": "stream",
     "text": [
      "best score: 0.5527950310559007\n",
      "Fitting 10 folds for each of 12 candidates, totalling 120 fits\n"
     ]
    },
    {
     "name": "stderr",
     "output_type": "stream",
     "text": [
      "[Parallel(n_jobs=1)]: Using backend SequentialBackend with 1 concurrent workers.\n",
      "[Parallel(n_jobs=1)]: Done 120 out of 120 | elapsed:   26.8s finished\n"
     ]
    },
    {
     "name": "stdout",
     "output_type": "stream",
     "text": [
      "best score: 0.5652173913043478\n",
      "Fitting 10 folds for each of 12 candidates, totalling 120 fits\n"
     ]
    },
    {
     "name": "stderr",
     "output_type": "stream",
     "text": [
      "[Parallel(n_jobs=1)]: Using backend SequentialBackend with 1 concurrent workers.\n",
      "[Parallel(n_jobs=1)]: Done 120 out of 120 | elapsed:   42.8s finished\n"
     ]
    },
    {
     "name": "stdout",
     "output_type": "stream",
     "text": [
      "best score: 0.5652173913043478\n",
      "Fitting 10 folds for each of 12 candidates, totalling 120 fits\n"
     ]
    },
    {
     "name": "stderr",
     "output_type": "stream",
     "text": [
      "[Parallel(n_jobs=1)]: Using backend SequentialBackend with 1 concurrent workers.\n",
      "[Parallel(n_jobs=1)]: Done 120 out of 120 | elapsed:   25.0s finished\n"
     ]
    },
    {
     "name": "stdout",
     "output_type": "stream",
     "text": [
      "best score: 0.5652173913043478\n",
      "Split: 1\n",
      "Split: 2\n",
      "Split: 3\n",
      "Split: 4\n",
      "Split: 5\n",
      "Split: 6\n",
      "Split: 7\n",
      "Split: 8\n",
      "Split: 9\n",
      "Split: 10\n",
      "Training Testing Accuracy for n_games=8 team=12 : 53.59% (5.85%)\n",
      "(180, 1502)\n",
      "(180, 1)\n",
      "X_train shape: (162, 2524)\n",
      "X_test shape: (18, 2524)\n",
      "Fitting 10 folds for each of 12 candidates, totalling 120 fits\n"
     ]
    },
    {
     "name": "stderr",
     "output_type": "stream",
     "text": [
      "[Parallel(n_jobs=1)]: Using backend SequentialBackend with 1 concurrent workers.\n",
      "[Parallel(n_jobs=1)]: Done 120 out of 120 | elapsed:   36.0s finished\n"
     ]
    },
    {
     "name": "stdout",
     "output_type": "stream",
     "text": [
      "best score: 0.5987654320987654\n",
      "Fitting 10 folds for each of 12 candidates, totalling 120 fits\n"
     ]
    },
    {
     "name": "stderr",
     "output_type": "stream",
     "text": [
      "[Parallel(n_jobs=1)]: Using backend SequentialBackend with 1 concurrent workers.\n",
      "[Parallel(n_jobs=1)]: Done 120 out of 120 | elapsed:   30.7s finished\n"
     ]
    },
    {
     "name": "stdout",
     "output_type": "stream",
     "text": [
      "best score: 0.5987654320987654\n",
      "Fitting 10 folds for each of 12 candidates, totalling 120 fits\n"
     ]
    },
    {
     "name": "stderr",
     "output_type": "stream",
     "text": [
      "[Parallel(n_jobs=1)]: Using backend SequentialBackend with 1 concurrent workers.\n",
      "[Parallel(n_jobs=1)]: Done 120 out of 120 | elapsed:   39.6s finished\n"
     ]
    },
    {
     "name": "stdout",
     "output_type": "stream",
     "text": [
      "best score: 0.5987654320987654\n",
      "Fitting 10 folds for each of 12 candidates, totalling 120 fits\n"
     ]
    },
    {
     "name": "stderr",
     "output_type": "stream",
     "text": [
      "[Parallel(n_jobs=1)]: Using backend SequentialBackend with 1 concurrent workers.\n",
      "[Parallel(n_jobs=1)]: Done 120 out of 120 | elapsed:   33.0s finished\n"
     ]
    },
    {
     "name": "stdout",
     "output_type": "stream",
     "text": [
      "best score: 0.5987654320987654\n",
      "Fitting 10 folds for each of 12 candidates, totalling 120 fits\n"
     ]
    },
    {
     "name": "stderr",
     "output_type": "stream",
     "text": [
      "[Parallel(n_jobs=1)]: Using backend SequentialBackend with 1 concurrent workers.\n",
      "[Parallel(n_jobs=1)]: Done 120 out of 120 | elapsed:   59.1s finished\n"
     ]
    },
    {
     "name": "stdout",
     "output_type": "stream",
     "text": [
      "best score: 0.5987654320987654\n",
      "Split: 1\n",
      "Split: 2\n",
      "Split: 3\n",
      "Split: 4\n",
      "Split: 5\n",
      "Split: 6\n",
      "Split: 7\n",
      "Split: 8\n",
      "Split: 9\n",
      "Split: 10\n",
      "Training Testing Accuracy for n_games=8 team=13 : 57.78% (8.31%)\n",
      "(183, 1502)\n",
      "(183, 1)\n",
      "X_train shape: (164, 2499)\n",
      "X_test shape: (19, 2499)\n",
      "Fitting 10 folds for each of 12 candidates, totalling 120 fits\n"
     ]
    },
    {
     "name": "stderr",
     "output_type": "stream",
     "text": [
      "[Parallel(n_jobs=1)]: Using backend SequentialBackend with 1 concurrent workers.\n",
      "[Parallel(n_jobs=1)]: Done 120 out of 120 | elapsed:   36.6s finished\n"
     ]
    },
    {
     "name": "stdout",
     "output_type": "stream",
     "text": [
      "best score: 0.6280487804878049\n",
      "Fitting 10 folds for each of 12 candidates, totalling 120 fits\n"
     ]
    },
    {
     "name": "stderr",
     "output_type": "stream",
     "text": [
      "[Parallel(n_jobs=1)]: Using backend SequentialBackend with 1 concurrent workers.\n",
      "[Parallel(n_jobs=1)]: Done 120 out of 120 | elapsed:   48.1s finished\n"
     ]
    },
    {
     "name": "stdout",
     "output_type": "stream",
     "text": [
      "best score: 0.6280487804878049\n",
      "Fitting 10 folds for each of 12 candidates, totalling 120 fits\n"
     ]
    },
    {
     "name": "stderr",
     "output_type": "stream",
     "text": [
      "[Parallel(n_jobs=1)]: Using backend SequentialBackend with 1 concurrent workers.\n",
      "[Parallel(n_jobs=1)]: Done 120 out of 120 | elapsed:   44.6s finished\n"
     ]
    },
    {
     "name": "stdout",
     "output_type": "stream",
     "text": [
      "best score: 0.6585365853658537\n",
      "Fitting 10 folds for each of 12 candidates, totalling 120 fits\n"
     ]
    },
    {
     "name": "stderr",
     "output_type": "stream",
     "text": [
      "[Parallel(n_jobs=1)]: Using backend SequentialBackend with 1 concurrent workers.\n",
      "[Parallel(n_jobs=1)]: Done 120 out of 120 | elapsed:   47.3s finished\n"
     ]
    },
    {
     "name": "stdout",
     "output_type": "stream",
     "text": [
      "best score: 0.6585365853658537\n",
      "Fitting 10 folds for each of 12 candidates, totalling 120 fits\n"
     ]
    },
    {
     "name": "stderr",
     "output_type": "stream",
     "text": [
      "[Parallel(n_jobs=1)]: Using backend SequentialBackend with 1 concurrent workers.\n",
      "[Parallel(n_jobs=1)]: Done 120 out of 120 | elapsed:   32.5s finished\n"
     ]
    },
    {
     "name": "stdout",
     "output_type": "stream",
     "text": [
      "best score: 0.6585365853658537\n",
      "Split: 1\n",
      "Split: 2\n",
      "Split: 3\n",
      "Split: 4\n",
      "Split: 5\n",
      "Split: 6\n",
      "Split: 7\n",
      "Split: 8\n",
      "Split: 9\n",
      "Split: 10\n",
      "Training Testing Accuracy for n_games=8 team=14 : 61.23% (8.99%)\n",
      "(172, 1502)\n",
      "(172, 1)\n",
      "X_train shape: (154, 2496)\n",
      "X_test shape: (18, 2496)\n",
      "Fitting 10 folds for each of 12 candidates, totalling 120 fits\n"
     ]
    },
    {
     "name": "stderr",
     "output_type": "stream",
     "text": [
      "[Parallel(n_jobs=1)]: Using backend SequentialBackend with 1 concurrent workers.\n",
      "[Parallel(n_jobs=1)]: Done 120 out of 120 | elapsed:   35.3s finished\n"
     ]
    },
    {
     "name": "stdout",
     "output_type": "stream",
     "text": [
      "best score: 0.6428571428571429\n",
      "Fitting 10 folds for each of 12 candidates, totalling 120 fits\n"
     ]
    },
    {
     "name": "stderr",
     "output_type": "stream",
     "text": [
      "[Parallel(n_jobs=1)]: Using backend SequentialBackend with 1 concurrent workers.\n",
      "[Parallel(n_jobs=1)]: Done 120 out of 120 | elapsed:   29.8s finished\n"
     ]
    },
    {
     "name": "stdout",
     "output_type": "stream",
     "text": [
      "best score: 0.6428571428571429\n",
      "Fitting 10 folds for each of 12 candidates, totalling 120 fits\n"
     ]
    },
    {
     "name": "stderr",
     "output_type": "stream",
     "text": [
      "[Parallel(n_jobs=1)]: Using backend SequentialBackend with 1 concurrent workers.\n",
      "[Parallel(n_jobs=1)]: Done 120 out of 120 | elapsed:   45.4s finished\n"
     ]
    },
    {
     "name": "stdout",
     "output_type": "stream",
     "text": [
      "best score: 0.6428571428571429\n",
      "Fitting 10 folds for each of 12 candidates, totalling 120 fits\n"
     ]
    },
    {
     "name": "stderr",
     "output_type": "stream",
     "text": [
      "[Parallel(n_jobs=1)]: Using backend SequentialBackend with 1 concurrent workers.\n",
      "[Parallel(n_jobs=1)]: Done 120 out of 120 | elapsed:   28.5s finished\n"
     ]
    },
    {
     "name": "stdout",
     "output_type": "stream",
     "text": [
      "best score: 0.6428571428571429\n",
      "Fitting 10 folds for each of 12 candidates, totalling 120 fits\n"
     ]
    },
    {
     "name": "stderr",
     "output_type": "stream",
     "text": [
      "[Parallel(n_jobs=1)]: Using backend SequentialBackend with 1 concurrent workers.\n",
      "[Parallel(n_jobs=1)]: Done 120 out of 120 | elapsed:   28.8s finished\n"
     ]
    },
    {
     "name": "stdout",
     "output_type": "stream",
     "text": [
      "best score: 0.6428571428571429\n",
      "Split: 1\n",
      "Split: 2\n",
      "Split: 3\n",
      "Split: 4\n",
      "Split: 5\n",
      "Split: 6\n",
      "Split: 7\n",
      "Split: 8\n",
      "Split: 9\n",
      "Split: 10\n",
      "Training Testing Accuracy for n_games=8 team=15 : 61.60% (8.04%)\n",
      "(188, 1502)\n",
      "(188, 1)\n",
      "X_train shape: (169, 2504)\n",
      "X_test shape: (19, 2504)\n",
      "Fitting 10 folds for each of 12 candidates, totalling 120 fits\n"
     ]
    },
    {
     "name": "stderr",
     "output_type": "stream",
     "text": [
      "[Parallel(n_jobs=1)]: Using backend SequentialBackend with 1 concurrent workers.\n",
      "[Parallel(n_jobs=1)]: Done 120 out of 120 | elapsed:   35.5s finished\n"
     ]
    },
    {
     "name": "stdout",
     "output_type": "stream",
     "text": [
      "best score: 0.6568047337278107\n",
      "Fitting 10 folds for each of 12 candidates, totalling 120 fits\n"
     ]
    },
    {
     "name": "stderr",
     "output_type": "stream",
     "text": [
      "[Parallel(n_jobs=1)]: Using backend SequentialBackend with 1 concurrent workers.\n",
      "[Parallel(n_jobs=1)]: Done 120 out of 120 | elapsed:   30.5s finished\n"
     ]
    },
    {
     "name": "stdout",
     "output_type": "stream",
     "text": [
      "best score: 0.6627218934911243\n",
      "Fitting 10 folds for each of 12 candidates, totalling 120 fits\n"
     ]
    },
    {
     "name": "stderr",
     "output_type": "stream",
     "text": [
      "[Parallel(n_jobs=1)]: Using backend SequentialBackend with 1 concurrent workers.\n",
      "[Parallel(n_jobs=1)]: Done 120 out of 120 | elapsed:   35.8s finished\n"
     ]
    },
    {
     "name": "stdout",
     "output_type": "stream",
     "text": [
      "best score: 0.6923076923076923\n",
      "Fitting 10 folds for each of 12 candidates, totalling 120 fits\n"
     ]
    },
    {
     "name": "stderr",
     "output_type": "stream",
     "text": [
      "[Parallel(n_jobs=1)]: Using backend SequentialBackend with 1 concurrent workers.\n",
      "[Parallel(n_jobs=1)]: Done 120 out of 120 | elapsed:   29.7s finished\n"
     ]
    },
    {
     "name": "stdout",
     "output_type": "stream",
     "text": [
      "best score: 0.6923076923076923\n",
      "Fitting 10 folds for each of 12 candidates, totalling 120 fits\n"
     ]
    },
    {
     "name": "stderr",
     "output_type": "stream",
     "text": [
      "[Parallel(n_jobs=1)]: Using backend SequentialBackend with 1 concurrent workers.\n",
      "[Parallel(n_jobs=1)]: Done 120 out of 120 | elapsed:   40.9s finished\n"
     ]
    },
    {
     "name": "stdout",
     "output_type": "stream",
     "text": [
      "best score: 0.6923076923076923\n",
      "Split: 1\n",
      "Split: 2\n",
      "Split: 3\n",
      "Split: 4\n",
      "Split: 5\n",
      "Split: 6\n",
      "Split: 7\n",
      "Split: 8\n",
      "Split: 9\n",
      "Split: 10\n",
      "Training Testing Accuracy for n_games=8 team=16 : 58.98% (13.60%)\n",
      "(183, 1502)\n",
      "(183, 1)\n",
      "X_train shape: (164, 2510)\n",
      "X_test shape: (19, 2510)\n",
      "Fitting 10 folds for each of 12 candidates, totalling 120 fits\n"
     ]
    },
    {
     "name": "stderr",
     "output_type": "stream",
     "text": [
      "[Parallel(n_jobs=1)]: Using backend SequentialBackend with 1 concurrent workers.\n",
      "[Parallel(n_jobs=1)]: Done 120 out of 120 | elapsed:   36.3s finished\n"
     ]
    },
    {
     "name": "stdout",
     "output_type": "stream",
     "text": [
      "best score: 0.6341463414634146\n",
      "Fitting 10 folds for each of 12 candidates, totalling 120 fits\n"
     ]
    },
    {
     "name": "stderr",
     "output_type": "stream",
     "text": [
      "[Parallel(n_jobs=1)]: Using backend SequentialBackend with 1 concurrent workers.\n",
      "[Parallel(n_jobs=1)]: Done 120 out of 120 | elapsed:   30.6s finished\n"
     ]
    },
    {
     "name": "stdout",
     "output_type": "stream",
     "text": [
      "best score: 0.6524390243902439\n",
      "Fitting 10 folds for each of 12 candidates, totalling 120 fits\n"
     ]
    },
    {
     "name": "stderr",
     "output_type": "stream",
     "text": [
      "[Parallel(n_jobs=1)]: Using backend SequentialBackend with 1 concurrent workers.\n",
      "[Parallel(n_jobs=1)]: Done 120 out of 120 | elapsed:   27.0s finished\n"
     ]
    },
    {
     "name": "stdout",
     "output_type": "stream",
     "text": [
      "best score: 0.6524390243902439\n",
      "Fitting 10 folds for each of 12 candidates, totalling 120 fits\n"
     ]
    },
    {
     "name": "stderr",
     "output_type": "stream",
     "text": [
      "[Parallel(n_jobs=1)]: Using backend SequentialBackend with 1 concurrent workers.\n",
      "[Parallel(n_jobs=1)]: Done 120 out of 120 | elapsed:   42.6s finished\n"
     ]
    },
    {
     "name": "stdout",
     "output_type": "stream",
     "text": [
      "best score: 0.6524390243902439\n",
      "Fitting 10 folds for each of 12 candidates, totalling 120 fits\n"
     ]
    },
    {
     "name": "stderr",
     "output_type": "stream",
     "text": [
      "[Parallel(n_jobs=1)]: Using backend SequentialBackend with 1 concurrent workers.\n",
      "[Parallel(n_jobs=1)]: Done 120 out of 120 | elapsed:   36.1s finished\n"
     ]
    },
    {
     "name": "stdout",
     "output_type": "stream",
     "text": [
      "best score: 0.6524390243902439\n",
      "Split: 1\n",
      "Split: 2\n",
      "Split: 3\n",
      "Split: 4\n",
      "Split: 5\n",
      "Split: 6\n",
      "Split: 7\n",
      "Split: 8\n",
      "Split: 9\n",
      "Split: 10\n",
      "Training Testing Accuracy for n_games=8 team=17 : 52.02% (9.32%)\n",
      "(182, 1502)\n",
      "(182, 1)\n",
      "X_train shape: (163, 2523)\n",
      "X_test shape: (19, 2523)\n",
      "Fitting 10 folds for each of 12 candidates, totalling 120 fits\n"
     ]
    },
    {
     "name": "stderr",
     "output_type": "stream",
     "text": [
      "[Parallel(n_jobs=1)]: Using backend SequentialBackend with 1 concurrent workers.\n",
      "[Parallel(n_jobs=1)]: Done 120 out of 120 | elapsed:   36.6s finished\n"
     ]
    },
    {
     "name": "stdout",
     "output_type": "stream",
     "text": [
      "best score: 0.5337423312883436\n",
      "Fitting 10 folds for each of 12 candidates, totalling 120 fits\n"
     ]
    },
    {
     "name": "stderr",
     "output_type": "stream",
     "text": [
      "[Parallel(n_jobs=1)]: Using backend SequentialBackend with 1 concurrent workers.\n",
      "[Parallel(n_jobs=1)]: Done 120 out of 120 | elapsed:   46.9s finished\n"
     ]
    },
    {
     "name": "stdout",
     "output_type": "stream",
     "text": [
      "best score: 0.5828220858895705\n",
      "Fitting 10 folds for each of 12 candidates, totalling 120 fits\n"
     ]
    },
    {
     "name": "stderr",
     "output_type": "stream",
     "text": [
      "[Parallel(n_jobs=1)]: Using backend SequentialBackend with 1 concurrent workers.\n",
      "[Parallel(n_jobs=1)]: Done 120 out of 120 | elapsed:   42.4s finished\n"
     ]
    },
    {
     "name": "stdout",
     "output_type": "stream",
     "text": [
      "best score: 0.6134969325153374\n",
      "Fitting 10 folds for each of 12 candidates, totalling 120 fits\n"
     ]
    },
    {
     "name": "stderr",
     "output_type": "stream",
     "text": [
      "[Parallel(n_jobs=1)]: Using backend SequentialBackend with 1 concurrent workers.\n",
      "[Parallel(n_jobs=1)]: Done 120 out of 120 | elapsed:  1.1min finished\n"
     ]
    },
    {
     "name": "stdout",
     "output_type": "stream",
     "text": [
      "best score: 0.6134969325153374\n",
      "Fitting 10 folds for each of 12 candidates, totalling 120 fits\n"
     ]
    },
    {
     "name": "stderr",
     "output_type": "stream",
     "text": [
      "[Parallel(n_jobs=1)]: Using backend SequentialBackend with 1 concurrent workers.\n",
      "[Parallel(n_jobs=1)]: Done 120 out of 120 | elapsed:   24.8s finished\n"
     ]
    },
    {
     "name": "stdout",
     "output_type": "stream",
     "text": [
      "best score: 0.6134969325153374\n",
      "Split: 1\n",
      "Split: 2\n",
      "Split: 3\n",
      "Split: 4\n",
      "Split: 5\n",
      "Split: 6\n",
      "Split: 7\n",
      "Split: 8\n",
      "Split: 9\n",
      "Split: 10\n",
      "Training Testing Accuracy for n_games=8 team=18 : 48.42% (5.89%)\n",
      "Accuracy for Team Models for n_games= 8 : 59.26% (7.13%)\n",
      "(177, 1688)\n",
      "(177, 1)\n",
      "X_train shape: (159, 2817)\n",
      "X_test shape: (18, 2817)\n",
      "Fitting 10 folds for each of 12 candidates, totalling 120 fits\n"
     ]
    },
    {
     "name": "stderr",
     "output_type": "stream",
     "text": [
      "[Parallel(n_jobs=1)]: Using backend SequentialBackend with 1 concurrent workers.\n",
      "[Parallel(n_jobs=1)]: Done 120 out of 120 | elapsed:   40.7s finished\n"
     ]
    },
    {
     "name": "stdout",
     "output_type": "stream",
     "text": [
      "best score: 0.6352201257861635\n",
      "Fitting 10 folds for each of 12 candidates, totalling 120 fits\n"
     ]
    },
    {
     "name": "stderr",
     "output_type": "stream",
     "text": [
      "[Parallel(n_jobs=1)]: Using backend SequentialBackend with 1 concurrent workers.\n",
      "[Parallel(n_jobs=1)]: Done 120 out of 120 | elapsed:   43.7s finished\n"
     ]
    },
    {
     "name": "stdout",
     "output_type": "stream",
     "text": [
      "best score: 0.6477987421383647\n",
      "Fitting 10 folds for each of 12 candidates, totalling 120 fits\n"
     ]
    },
    {
     "name": "stderr",
     "output_type": "stream",
     "text": [
      "[Parallel(n_jobs=1)]: Using backend SequentialBackend with 1 concurrent workers.\n",
      "[Parallel(n_jobs=1)]: Done 120 out of 120 | elapsed:   45.0s finished\n"
     ]
    },
    {
     "name": "stdout",
     "output_type": "stream",
     "text": [
      "best score: 0.6477987421383647\n",
      "Fitting 10 folds for each of 12 candidates, totalling 120 fits\n"
     ]
    },
    {
     "name": "stderr",
     "output_type": "stream",
     "text": [
      "[Parallel(n_jobs=1)]: Using backend SequentialBackend with 1 concurrent workers.\n",
      "[Parallel(n_jobs=1)]: Done 120 out of 120 | elapsed:   40.5s finished\n"
     ]
    },
    {
     "name": "stdout",
     "output_type": "stream",
     "text": [
      "best score: 0.6477987421383647\n",
      "Fitting 10 folds for each of 12 candidates, totalling 120 fits\n"
     ]
    },
    {
     "name": "stderr",
     "output_type": "stream",
     "text": [
      "[Parallel(n_jobs=1)]: Using backend SequentialBackend with 1 concurrent workers.\n",
      "[Parallel(n_jobs=1)]: Done 120 out of 120 | elapsed:  1.3min finished\n"
     ]
    },
    {
     "name": "stdout",
     "output_type": "stream",
     "text": [
      "best score: 0.6855345911949685\n",
      "Split: 1\n",
      "Split: 2\n",
      "Split: 3\n",
      "Split: 4\n",
      "Split: 5\n",
      "Split: 6\n",
      "Split: 7\n",
      "Split: 8\n",
      "Split: 9\n",
      "Split: 10\n",
      "Training Testing Accuracy for n_games=9 team=1 : 61.54% (6.26%)\n",
      "(175, 1688)\n",
      "(175, 1)\n",
      "X_train shape: (157, 2790)\n",
      "X_test shape: (18, 2790)\n",
      "Fitting 10 folds for each of 12 candidates, totalling 120 fits\n"
     ]
    },
    {
     "name": "stderr",
     "output_type": "stream",
     "text": [
      "[Parallel(n_jobs=1)]: Using backend SequentialBackend with 1 concurrent workers.\n",
      "[Parallel(n_jobs=1)]: Done 120 out of 120 | elapsed:   39.7s finished\n"
     ]
    },
    {
     "name": "stdout",
     "output_type": "stream",
     "text": [
      "best score: 0.6815286624203821\n",
      "Fitting 10 folds for each of 12 candidates, totalling 120 fits\n"
     ]
    },
    {
     "name": "stderr",
     "output_type": "stream",
     "text": [
      "[Parallel(n_jobs=1)]: Using backend SequentialBackend with 1 concurrent workers.\n",
      "[Parallel(n_jobs=1)]: Done 120 out of 120 | elapsed:   56.7s finished\n"
     ]
    },
    {
     "name": "stdout",
     "output_type": "stream",
     "text": [
      "best score: 0.6815286624203821\n",
      "Fitting 10 folds for each of 12 candidates, totalling 120 fits\n"
     ]
    },
    {
     "name": "stderr",
     "output_type": "stream",
     "text": [
      "[Parallel(n_jobs=1)]: Using backend SequentialBackend with 1 concurrent workers.\n",
      "[Parallel(n_jobs=1)]: Done 120 out of 120 | elapsed:   59.7s finished\n"
     ]
    },
    {
     "name": "stdout",
     "output_type": "stream",
     "text": [
      "best score: 0.6815286624203821\n",
      "Fitting 10 folds for each of 12 candidates, totalling 120 fits\n"
     ]
    },
    {
     "name": "stderr",
     "output_type": "stream",
     "text": [
      "[Parallel(n_jobs=1)]: Using backend SequentialBackend with 1 concurrent workers.\n",
      "[Parallel(n_jobs=1)]: Done 120 out of 120 | elapsed:   40.7s finished\n"
     ]
    },
    {
     "name": "stdout",
     "output_type": "stream",
     "text": [
      "best score: 0.6815286624203821\n",
      "Fitting 10 folds for each of 12 candidates, totalling 120 fits\n"
     ]
    },
    {
     "name": "stderr",
     "output_type": "stream",
     "text": [
      "[Parallel(n_jobs=1)]: Using backend SequentialBackend with 1 concurrent workers.\n",
      "[Parallel(n_jobs=1)]: Done 120 out of 120 | elapsed:  2.4min finished\n"
     ]
    },
    {
     "name": "stdout",
     "output_type": "stream",
     "text": [
      "best score: 0.6815286624203821\n",
      "Split: 1\n",
      "Split: 2\n",
      "Split: 3\n",
      "Split: 4\n",
      "Split: 5\n",
      "Split: 6\n",
      "Split: 7\n",
      "Split: 8\n",
      "Split: 9\n",
      "Split: 10\n",
      "Training Testing Accuracy for n_games=9 team=2 : 66.34% (8.90%)\n",
      "(173, 1688)\n",
      "(173, 1)\n",
      "X_train shape: (155, 2784)\n",
      "X_test shape: (18, 2784)\n",
      "Fitting 10 folds for each of 12 candidates, totalling 120 fits\n"
     ]
    },
    {
     "name": "stderr",
     "output_type": "stream",
     "text": [
      "[Parallel(n_jobs=1)]: Using backend SequentialBackend with 1 concurrent workers.\n",
      "[Parallel(n_jobs=1)]: Done 120 out of 120 | elapsed:   39.9s finished\n"
     ]
    },
    {
     "name": "stdout",
     "output_type": "stream",
     "text": [
      "best score: 0.6903225806451613\n",
      "Fitting 10 folds for each of 12 candidates, totalling 120 fits\n"
     ]
    },
    {
     "name": "stderr",
     "output_type": "stream",
     "text": [
      "[Parallel(n_jobs=1)]: Using backend SequentialBackend with 1 concurrent workers.\n",
      "[Parallel(n_jobs=1)]: Done 120 out of 120 | elapsed:   31.8s finished\n"
     ]
    },
    {
     "name": "stdout",
     "output_type": "stream",
     "text": [
      "best score: 0.6903225806451613\n",
      "Fitting 10 folds for each of 12 candidates, totalling 120 fits\n"
     ]
    },
    {
     "name": "stderr",
     "output_type": "stream",
     "text": [
      "[Parallel(n_jobs=1)]: Using backend SequentialBackend with 1 concurrent workers.\n",
      "[Parallel(n_jobs=1)]: Done 120 out of 120 | elapsed:   31.3s finished\n"
     ]
    },
    {
     "name": "stdout",
     "output_type": "stream",
     "text": [
      "best score: 0.6903225806451613\n",
      "Fitting 10 folds for each of 12 candidates, totalling 120 fits\n"
     ]
    },
    {
     "name": "stderr",
     "output_type": "stream",
     "text": [
      "[Parallel(n_jobs=1)]: Using backend SequentialBackend with 1 concurrent workers.\n",
      "[Parallel(n_jobs=1)]: Done 120 out of 120 | elapsed:   28.6s finished\n"
     ]
    },
    {
     "name": "stdout",
     "output_type": "stream",
     "text": [
      "best score: 0.6903225806451613\n",
      "Fitting 10 folds for each of 12 candidates, totalling 120 fits\n"
     ]
    },
    {
     "name": "stderr",
     "output_type": "stream",
     "text": [
      "[Parallel(n_jobs=1)]: Using backend SequentialBackend with 1 concurrent workers.\n",
      "[Parallel(n_jobs=1)]: Done 120 out of 120 | elapsed:   50.1s finished\n"
     ]
    },
    {
     "name": "stdout",
     "output_type": "stream",
     "text": [
      "best score: 0.6903225806451613\n",
      "Split: 1\n",
      "Split: 2\n",
      "Split: 3\n",
      "Split: 4\n",
      "Split: 5\n",
      "Split: 6\n",
      "Split: 7\n",
      "Split: 8\n",
      "Split: 9\n",
      "Split: 10\n",
      "Training Testing Accuracy for n_games=9 team=3 : 69.97% (1.72%)\n",
      "(178, 1688)\n",
      "(178, 1)\n",
      "X_train shape: (160, 2784)\n",
      "X_test shape: (18, 2784)\n",
      "Fitting 10 folds for each of 12 candidates, totalling 120 fits\n"
     ]
    },
    {
     "name": "stderr",
     "output_type": "stream",
     "text": [
      "[Parallel(n_jobs=1)]: Using backend SequentialBackend with 1 concurrent workers.\n",
      "[Parallel(n_jobs=1)]: Done 120 out of 120 | elapsed:   39.6s finished\n"
     ]
    },
    {
     "name": "stdout",
     "output_type": "stream",
     "text": [
      "best score: 0.625\n",
      "Fitting 10 folds for each of 12 candidates, totalling 120 fits\n"
     ]
    },
    {
     "name": "stderr",
     "output_type": "stream",
     "text": [
      "[Parallel(n_jobs=1)]: Using backend SequentialBackend with 1 concurrent workers.\n",
      "[Parallel(n_jobs=1)]: Done 120 out of 120 | elapsed:  1.2min finished\n"
     ]
    },
    {
     "name": "stdout",
     "output_type": "stream",
     "text": [
      "best score: 0.625\n",
      "Fitting 10 folds for each of 12 candidates, totalling 120 fits\n"
     ]
    },
    {
     "name": "stderr",
     "output_type": "stream",
     "text": [
      "[Parallel(n_jobs=1)]: Using backend SequentialBackend with 1 concurrent workers.\n",
      "[Parallel(n_jobs=1)]: Done 120 out of 120 | elapsed:   32.8s finished\n"
     ]
    },
    {
     "name": "stdout",
     "output_type": "stream",
     "text": [
      "best score: 0.63125\n",
      "Fitting 10 folds for each of 12 candidates, totalling 120 fits\n"
     ]
    },
    {
     "name": "stderr",
     "output_type": "stream",
     "text": [
      "[Parallel(n_jobs=1)]: Using backend SequentialBackend with 1 concurrent workers.\n",
      "[Parallel(n_jobs=1)]: Done 120 out of 120 | elapsed:   45.5s finished\n"
     ]
    },
    {
     "name": "stdout",
     "output_type": "stream",
     "text": [
      "best score: 0.63125\n",
      "Fitting 10 folds for each of 12 candidates, totalling 120 fits\n"
     ]
    },
    {
     "name": "stderr",
     "output_type": "stream",
     "text": [
      "[Parallel(n_jobs=1)]: Using backend SequentialBackend with 1 concurrent workers.\n",
      "[Parallel(n_jobs=1)]: Done 120 out of 120 | elapsed:   32.1s finished\n"
     ]
    },
    {
     "name": "stdout",
     "output_type": "stream",
     "text": [
      "best score: 0.63125\n",
      "Split: 1\n",
      "Split: 2\n",
      "Split: 3\n",
      "Split: 4\n",
      "Split: 5\n",
      "Split: 6\n",
      "Split: 7\n",
      "Split: 8\n",
      "Split: 9\n",
      "Split: 10\n",
      "Training Testing Accuracy for n_games=9 team=4 : 54.08% (9.10%)\n",
      "(175, 1688)\n",
      "(175, 1)\n",
      "X_train shape: (157, 2763)\n",
      "X_test shape: (18, 2763)\n",
      "Fitting 10 folds for each of 12 candidates, totalling 120 fits\n"
     ]
    },
    {
     "name": "stderr",
     "output_type": "stream",
     "text": [
      "[Parallel(n_jobs=1)]: Using backend SequentialBackend with 1 concurrent workers.\n",
      "[Parallel(n_jobs=1)]: Done 120 out of 120 | elapsed:   39.8s finished\n"
     ]
    },
    {
     "name": "stdout",
     "output_type": "stream",
     "text": [
      "best score: 0.5859872611464968\n",
      "Fitting 10 folds for each of 12 candidates, totalling 120 fits\n"
     ]
    },
    {
     "name": "stderr",
     "output_type": "stream",
     "text": [
      "[Parallel(n_jobs=1)]: Using backend SequentialBackend with 1 concurrent workers.\n",
      "[Parallel(n_jobs=1)]: Done 120 out of 120 | elapsed:  1.5min finished\n"
     ]
    },
    {
     "name": "stdout",
     "output_type": "stream",
     "text": [
      "best score: 0.5859872611464968\n",
      "Fitting 10 folds for each of 12 candidates, totalling 120 fits\n"
     ]
    },
    {
     "name": "stderr",
     "output_type": "stream",
     "text": [
      "[Parallel(n_jobs=1)]: Using backend SequentialBackend with 1 concurrent workers.\n",
      "[Parallel(n_jobs=1)]: Done 120 out of 120 | elapsed:   32.4s finished\n"
     ]
    },
    {
     "name": "stdout",
     "output_type": "stream",
     "text": [
      "best score: 0.5859872611464968\n",
      "Fitting 10 folds for each of 12 candidates, totalling 120 fits\n"
     ]
    },
    {
     "name": "stderr",
     "output_type": "stream",
     "text": [
      "[Parallel(n_jobs=1)]: Using backend SequentialBackend with 1 concurrent workers.\n",
      "[Parallel(n_jobs=1)]: Done 120 out of 120 | elapsed:   35.8s finished\n"
     ]
    },
    {
     "name": "stdout",
     "output_type": "stream",
     "text": [
      "best score: 0.5859872611464968\n",
      "Fitting 10 folds for each of 12 candidates, totalling 120 fits\n"
     ]
    },
    {
     "name": "stderr",
     "output_type": "stream",
     "text": [
      "[Parallel(n_jobs=1)]: Using backend SequentialBackend with 1 concurrent workers.\n",
      "[Parallel(n_jobs=1)]: Done 120 out of 120 | elapsed:   41.0s finished\n"
     ]
    },
    {
     "name": "stdout",
     "output_type": "stream",
     "text": [
      "best score: 0.6050955414012739\n",
      "Split: 1\n",
      "Split: 2\n",
      "Split: 3\n",
      "Split: 4\n",
      "Split: 5\n",
      "Split: 6\n",
      "Split: 7\n",
      "Split: 8\n",
      "Split: 9\n",
      "Split: 10\n",
      "Training Testing Accuracy for n_games=9 team=5 : 57.78% (9.17%)\n",
      "(178, 1688)\n",
      "(178, 1)\n",
      "X_train shape: (160, 2804)\n",
      "X_test shape: (18, 2804)\n",
      "Fitting 10 folds for each of 12 candidates, totalling 120 fits\n"
     ]
    },
    {
     "name": "stderr",
     "output_type": "stream",
     "text": [
      "[Parallel(n_jobs=1)]: Using backend SequentialBackend with 1 concurrent workers.\n",
      "[Parallel(n_jobs=1)]: Done 120 out of 120 | elapsed:   39.7s finished\n"
     ]
    },
    {
     "name": "stdout",
     "output_type": "stream",
     "text": [
      "best score: 0.54375\n",
      "Fitting 10 folds for each of 12 candidates, totalling 120 fits\n"
     ]
    },
    {
     "name": "stderr",
     "output_type": "stream",
     "text": [
      "[Parallel(n_jobs=1)]: Using backend SequentialBackend with 1 concurrent workers.\n",
      "[Parallel(n_jobs=1)]: Done 120 out of 120 | elapsed:   36.3s finished\n"
     ]
    },
    {
     "name": "stdout",
     "output_type": "stream",
     "text": [
      "best score: 0.54375\n",
      "Fitting 10 folds for each of 12 candidates, totalling 120 fits\n"
     ]
    },
    {
     "name": "stderr",
     "output_type": "stream",
     "text": [
      "[Parallel(n_jobs=1)]: Using backend SequentialBackend with 1 concurrent workers.\n",
      "[Parallel(n_jobs=1)]: Done 120 out of 120 | elapsed:   31.2s finished\n"
     ]
    },
    {
     "name": "stdout",
     "output_type": "stream",
     "text": [
      "best score: 0.5625\n",
      "Fitting 10 folds for each of 12 candidates, totalling 120 fits\n"
     ]
    },
    {
     "name": "stderr",
     "output_type": "stream",
     "text": [
      "[Parallel(n_jobs=1)]: Using backend SequentialBackend with 1 concurrent workers.\n",
      "[Parallel(n_jobs=1)]: Done 120 out of 120 | elapsed:   42.2s finished\n"
     ]
    },
    {
     "name": "stdout",
     "output_type": "stream",
     "text": [
      "best score: 0.5625\n",
      "Fitting 10 folds for each of 12 candidates, totalling 120 fits\n"
     ]
    },
    {
     "name": "stderr",
     "output_type": "stream",
     "text": [
      "[Parallel(n_jobs=1)]: Using backend SequentialBackend with 1 concurrent workers.\n",
      "[Parallel(n_jobs=1)]: Done 120 out of 120 | elapsed:   30.7s finished\n"
     ]
    },
    {
     "name": "stdout",
     "output_type": "stream",
     "text": [
      "best score: 0.5625\n",
      "Split: 1\n",
      "Split: 2\n",
      "Split: 3\n",
      "Split: 4\n",
      "Split: 5\n",
      "Split: 6\n",
      "Split: 7\n",
      "Split: 8\n",
      "Split: 9\n",
      "Split: 10\n",
      "Training Testing Accuracy for n_games=9 team=6 : 52.78% (4.67%)\n",
      "(187, 1688)\n",
      "(187, 1)\n",
      "X_train shape: (168, 2795)\n",
      "X_test shape: (19, 2795)\n",
      "Fitting 10 folds for each of 12 candidates, totalling 120 fits\n"
     ]
    },
    {
     "name": "stderr",
     "output_type": "stream",
     "text": [
      "[Parallel(n_jobs=1)]: Using backend SequentialBackend with 1 concurrent workers.\n",
      "[Parallel(n_jobs=1)]: Done 120 out of 120 | elapsed:   40.3s finished\n"
     ]
    },
    {
     "name": "stdout",
     "output_type": "stream",
     "text": [
      "best score: 0.6964285714285714\n",
      "Fitting 10 folds for each of 12 candidates, totalling 120 fits\n"
     ]
    },
    {
     "name": "stderr",
     "output_type": "stream",
     "text": [
      "[Parallel(n_jobs=1)]: Using backend SequentialBackend with 1 concurrent workers.\n",
      "[Parallel(n_jobs=1)]: Done 120 out of 120 | elapsed:   34.2s finished\n"
     ]
    },
    {
     "name": "stdout",
     "output_type": "stream",
     "text": [
      "best score: 0.6964285714285714\n",
      "Fitting 10 folds for each of 12 candidates, totalling 120 fits\n"
     ]
    },
    {
     "name": "stderr",
     "output_type": "stream",
     "text": [
      "[Parallel(n_jobs=1)]: Using backend SequentialBackend with 1 concurrent workers.\n",
      "[Parallel(n_jobs=1)]: Done 120 out of 120 | elapsed:   41.4s finished\n"
     ]
    },
    {
     "name": "stdout",
     "output_type": "stream",
     "text": [
      "best score: 0.6964285714285714\n",
      "Fitting 10 folds for each of 12 candidates, totalling 120 fits\n"
     ]
    },
    {
     "name": "stderr",
     "output_type": "stream",
     "text": [
      "[Parallel(n_jobs=1)]: Using backend SequentialBackend with 1 concurrent workers.\n",
      "[Parallel(n_jobs=1)]: Done 120 out of 120 | elapsed:   43.2s finished\n"
     ]
    },
    {
     "name": "stdout",
     "output_type": "stream",
     "text": [
      "best score: 0.6964285714285714\n",
      "Fitting 10 folds for each of 12 candidates, totalling 120 fits\n"
     ]
    },
    {
     "name": "stderr",
     "output_type": "stream",
     "text": [
      "[Parallel(n_jobs=1)]: Using backend SequentialBackend with 1 concurrent workers.\n",
      "[Parallel(n_jobs=1)]: Done 120 out of 120 | elapsed:   47.0s finished\n"
     ]
    },
    {
     "name": "stdout",
     "output_type": "stream",
     "text": [
      "best score: 0.6964285714285714\n",
      "Split: 1\n",
      "Split: 2\n",
      "Split: 3\n",
      "Split: 4\n",
      "Split: 5\n",
      "Split: 6\n",
      "Split: 7\n",
      "Split: 8\n",
      "Split: 9\n",
      "Split: 10\n",
      "Training Testing Accuracy for n_games=9 team=7 : 68.42% (5.08%)\n",
      "(171, 1688)\n",
      "(171, 1)\n",
      "X_train shape: (153, 2801)\n",
      "X_test shape: (18, 2801)\n",
      "Fitting 10 folds for each of 12 candidates, totalling 120 fits\n"
     ]
    },
    {
     "name": "stderr",
     "output_type": "stream",
     "text": [
      "[Parallel(n_jobs=1)]: Using backend SequentialBackend with 1 concurrent workers.\n",
      "[Parallel(n_jobs=1)]: Done 120 out of 120 | elapsed:   39.1s finished\n"
     ]
    },
    {
     "name": "stdout",
     "output_type": "stream",
     "text": [
      "best score: 0.7581699346405228\n",
      "Fitting 10 folds for each of 12 candidates, totalling 120 fits\n"
     ]
    },
    {
     "name": "stderr",
     "output_type": "stream",
     "text": [
      "[Parallel(n_jobs=1)]: Using backend SequentialBackend with 1 concurrent workers.\n",
      "[Parallel(n_jobs=1)]: Done 120 out of 120 | elapsed:   53.2s finished\n"
     ]
    },
    {
     "name": "stdout",
     "output_type": "stream",
     "text": [
      "best score: 0.7581699346405228\n",
      "Fitting 10 folds for each of 12 candidates, totalling 120 fits\n"
     ]
    },
    {
     "name": "stderr",
     "output_type": "stream",
     "text": [
      "[Parallel(n_jobs=1)]: Using backend SequentialBackend with 1 concurrent workers.\n",
      "[Parallel(n_jobs=1)]: Done 120 out of 120 | elapsed:   36.9s finished\n"
     ]
    },
    {
     "name": "stdout",
     "output_type": "stream",
     "text": [
      "best score: 0.7581699346405228\n",
      "Fitting 10 folds for each of 12 candidates, totalling 120 fits\n"
     ]
    },
    {
     "name": "stderr",
     "output_type": "stream",
     "text": [
      "[Parallel(n_jobs=1)]: Using backend SequentialBackend with 1 concurrent workers.\n",
      "[Parallel(n_jobs=1)]: Done 120 out of 120 | elapsed:   51.5s finished\n"
     ]
    },
    {
     "name": "stdout",
     "output_type": "stream",
     "text": [
      "best score: 0.7581699346405228\n",
      "Fitting 10 folds for each of 12 candidates, totalling 120 fits\n"
     ]
    },
    {
     "name": "stderr",
     "output_type": "stream",
     "text": [
      "[Parallel(n_jobs=1)]: Using backend SequentialBackend with 1 concurrent workers.\n",
      "[Parallel(n_jobs=1)]: Done 120 out of 120 | elapsed:   32.0s finished\n"
     ]
    },
    {
     "name": "stdout",
     "output_type": "stream",
     "text": [
      "best score: 0.7581699346405228\n",
      "Split: 1\n",
      "Split: 2\n",
      "Split: 3\n",
      "Split: 4\n",
      "Split: 5\n",
      "Split: 6\n",
      "Split: 7\n",
      "Split: 8\n",
      "Split: 9\n",
      "Split: 10\n",
      "Training Testing Accuracy for n_games=9 team=8 : 73.66% (3.09%)\n",
      "(184, 1688)\n",
      "(184, 1)\n",
      "X_train shape: (165, 2812)\n",
      "X_test shape: (19, 2812)\n",
      "Fitting 10 folds for each of 12 candidates, totalling 120 fits\n"
     ]
    },
    {
     "name": "stderr",
     "output_type": "stream",
     "text": [
      "[Parallel(n_jobs=1)]: Using backend SequentialBackend with 1 concurrent workers.\n",
      "[Parallel(n_jobs=1)]: Done 120 out of 120 | elapsed:   40.8s finished\n"
     ]
    },
    {
     "name": "stdout",
     "output_type": "stream",
     "text": [
      "best score: 0.6060606060606061\n",
      "Fitting 10 folds for each of 12 candidates, totalling 120 fits\n"
     ]
    },
    {
     "name": "stderr",
     "output_type": "stream",
     "text": [
      "[Parallel(n_jobs=1)]: Using backend SequentialBackend with 1 concurrent workers.\n",
      "[Parallel(n_jobs=1)]: Done 120 out of 120 | elapsed:   45.5s finished\n"
     ]
    },
    {
     "name": "stdout",
     "output_type": "stream",
     "text": [
      "best score: 0.6060606060606061\n",
      "Fitting 10 folds for each of 12 candidates, totalling 120 fits\n"
     ]
    },
    {
     "name": "stderr",
     "output_type": "stream",
     "text": [
      "[Parallel(n_jobs=1)]: Using backend SequentialBackend with 1 concurrent workers.\n",
      "[Parallel(n_jobs=1)]: Done 120 out of 120 | elapsed:  1.1min finished\n"
     ]
    },
    {
     "name": "stdout",
     "output_type": "stream",
     "text": [
      "best score: 0.6060606060606061\n",
      "Fitting 10 folds for each of 12 candidates, totalling 120 fits\n"
     ]
    },
    {
     "name": "stderr",
     "output_type": "stream",
     "text": [
      "[Parallel(n_jobs=1)]: Using backend SequentialBackend with 1 concurrent workers.\n",
      "[Parallel(n_jobs=1)]: Done 120 out of 120 | elapsed:   52.0s finished\n"
     ]
    },
    {
     "name": "stdout",
     "output_type": "stream",
     "text": [
      "best score: 0.6060606060606061\n",
      "Fitting 10 folds for each of 12 candidates, totalling 120 fits\n"
     ]
    },
    {
     "name": "stderr",
     "output_type": "stream",
     "text": [
      "[Parallel(n_jobs=1)]: Using backend SequentialBackend with 1 concurrent workers.\n",
      "[Parallel(n_jobs=1)]: Done 120 out of 120 | elapsed:   33.5s finished\n"
     ]
    },
    {
     "name": "stdout",
     "output_type": "stream",
     "text": [
      "best score: 0.6060606060606061\n",
      "Split: 1\n",
      "Split: 2\n",
      "Split: 3\n",
      "Split: 4\n",
      "Split: 5\n",
      "Split: 6\n",
      "Split: 7\n",
      "Split: 8\n",
      "Split: 9\n",
      "Split: 10\n",
      "Training Testing Accuracy for n_games=9 team=9 : 58.60% (10.72%)\n",
      "(185, 1688)\n",
      "(185, 1)\n",
      "X_train shape: (166, 2801)\n",
      "X_test shape: (19, 2801)\n",
      "Fitting 10 folds for each of 12 candidates, totalling 120 fits\n"
     ]
    },
    {
     "name": "stderr",
     "output_type": "stream",
     "text": [
      "[Parallel(n_jobs=1)]: Using backend SequentialBackend with 1 concurrent workers.\n",
      "[Parallel(n_jobs=1)]: Done 120 out of 120 | elapsed:   41.0s finished\n"
     ]
    },
    {
     "name": "stdout",
     "output_type": "stream",
     "text": [
      "best score: 0.6385542168674698\n",
      "Fitting 10 folds for each of 12 candidates, totalling 120 fits\n"
     ]
    },
    {
     "name": "stderr",
     "output_type": "stream",
     "text": [
      "[Parallel(n_jobs=1)]: Using backend SequentialBackend with 1 concurrent workers.\n",
      "[Parallel(n_jobs=1)]: Done 120 out of 120 | elapsed:   37.6s finished\n"
     ]
    },
    {
     "name": "stdout",
     "output_type": "stream",
     "text": [
      "best score: 0.6686746987951807\n",
      "Fitting 10 folds for each of 12 candidates, totalling 120 fits\n"
     ]
    },
    {
     "name": "stderr",
     "output_type": "stream",
     "text": [
      "[Parallel(n_jobs=1)]: Using backend SequentialBackend with 1 concurrent workers.\n",
      "[Parallel(n_jobs=1)]: Done 120 out of 120 | elapsed:   34.3s finished\n"
     ]
    },
    {
     "name": "stdout",
     "output_type": "stream",
     "text": [
      "best score: 0.6686746987951807\n",
      "Fitting 10 folds for each of 12 candidates, totalling 120 fits\n"
     ]
    },
    {
     "name": "stderr",
     "output_type": "stream",
     "text": [
      "[Parallel(n_jobs=1)]: Using backend SequentialBackend with 1 concurrent workers.\n",
      "[Parallel(n_jobs=1)]: Done 120 out of 120 | elapsed:  1.0min finished\n"
     ]
    },
    {
     "name": "stdout",
     "output_type": "stream",
     "text": [
      "best score: 0.6686746987951807\n",
      "Fitting 10 folds for each of 12 candidates, totalling 120 fits\n"
     ]
    },
    {
     "name": "stderr",
     "output_type": "stream",
     "text": [
      "[Parallel(n_jobs=1)]: Using backend SequentialBackend with 1 concurrent workers.\n",
      "[Parallel(n_jobs=1)]: Done 120 out of 120 | elapsed:   36.3s finished\n"
     ]
    },
    {
     "name": "stdout",
     "output_type": "stream",
     "text": [
      "best score: 0.6686746987951807\n",
      "Split: 1\n",
      "Split: 2\n",
      "Split: 3\n",
      "Split: 4\n",
      "Split: 5\n",
      "Split: 6\n",
      "Split: 7\n",
      "Split: 8\n",
      "Split: 9\n",
      "Split: 10\n",
      "Training Testing Accuracy for n_games=9 team=10 : 61.02% (3.71%)\n",
      "(177, 1688)\n",
      "(177, 1)\n",
      "X_train shape: (159, 2815)\n",
      "X_test shape: (18, 2815)\n",
      "Fitting 10 folds for each of 12 candidates, totalling 120 fits\n"
     ]
    },
    {
     "name": "stderr",
     "output_type": "stream",
     "text": [
      "[Parallel(n_jobs=1)]: Using backend SequentialBackend with 1 concurrent workers.\n",
      "[Parallel(n_jobs=1)]: Done 120 out of 120 | elapsed:   40.6s finished\n"
     ]
    },
    {
     "name": "stdout",
     "output_type": "stream",
     "text": [
      "best score: 0.5786163522012578\n",
      "Fitting 10 folds for each of 12 candidates, totalling 120 fits\n"
     ]
    },
    {
     "name": "stderr",
     "output_type": "stream",
     "text": [
      "[Parallel(n_jobs=1)]: Using backend SequentialBackend with 1 concurrent workers.\n",
      "[Parallel(n_jobs=1)]: Done 120 out of 120 | elapsed:  1.3min finished\n"
     ]
    },
    {
     "name": "stdout",
     "output_type": "stream",
     "text": [
      "best score: 0.5849056603773585\n",
      "Fitting 10 folds for each of 12 candidates, totalling 120 fits\n"
     ]
    },
    {
     "name": "stderr",
     "output_type": "stream",
     "text": [
      "[Parallel(n_jobs=1)]: Using backend SequentialBackend with 1 concurrent workers.\n",
      "[Parallel(n_jobs=1)]: Done 120 out of 120 | elapsed:   45.8s finished\n"
     ]
    },
    {
     "name": "stdout",
     "output_type": "stream",
     "text": [
      "best score: 0.5849056603773585\n",
      "Fitting 10 folds for each of 12 candidates, totalling 120 fits\n"
     ]
    },
    {
     "name": "stderr",
     "output_type": "stream",
     "text": [
      "[Parallel(n_jobs=1)]: Using backend SequentialBackend with 1 concurrent workers.\n",
      "[Parallel(n_jobs=1)]: Done 120 out of 120 | elapsed:   34.7s finished\n"
     ]
    },
    {
     "name": "stdout",
     "output_type": "stream",
     "text": [
      "best score: 0.5849056603773585\n",
      "Fitting 10 folds for each of 12 candidates, totalling 120 fits\n"
     ]
    },
    {
     "name": "stderr",
     "output_type": "stream",
     "text": [
      "[Parallel(n_jobs=1)]: Using backend SequentialBackend with 1 concurrent workers.\n",
      "[Parallel(n_jobs=1)]: Done 120 out of 120 | elapsed:  5.4min finished\n"
     ]
    },
    {
     "name": "stdout",
     "output_type": "stream",
     "text": [
      "best score: 0.5849056603773585\n",
      "Split: 1\n",
      "Split: 2\n",
      "Split: 3\n",
      "Split: 4\n",
      "Split: 5\n",
      "Split: 6\n",
      "Split: 7\n",
      "Split: 8\n",
      "Split: 9\n",
      "Split: 10\n",
      "Training Testing Accuracy for n_games=9 team=11 : 51.80% (13.09%)\n",
      "(178, 1688)\n",
      "(178, 1)\n",
      "X_train shape: (160, 2799)\n",
      "X_test shape: (18, 2799)\n",
      "Fitting 10 folds for each of 12 candidates, totalling 120 fits\n"
     ]
    },
    {
     "name": "stderr",
     "output_type": "stream",
     "text": [
      "[Parallel(n_jobs=1)]: Using backend SequentialBackend with 1 concurrent workers.\n",
      "[Parallel(n_jobs=1)]: Done 120 out of 120 | elapsed:   39.6s finished\n"
     ]
    },
    {
     "name": "stdout",
     "output_type": "stream",
     "text": [
      "best score: 0.55\n",
      "Fitting 10 folds for each of 12 candidates, totalling 120 fits\n"
     ]
    },
    {
     "name": "stderr",
     "output_type": "stream",
     "text": [
      "[Parallel(n_jobs=1)]: Using backend SequentialBackend with 1 concurrent workers.\n",
      "[Parallel(n_jobs=1)]: Done 120 out of 120 | elapsed:   44.9s finished\n"
     ]
    },
    {
     "name": "stdout",
     "output_type": "stream",
     "text": [
      "best score: 0.55\n",
      "Fitting 10 folds for each of 12 candidates, totalling 120 fits\n"
     ]
    },
    {
     "name": "stderr",
     "output_type": "stream",
     "text": [
      "[Parallel(n_jobs=1)]: Using backend SequentialBackend with 1 concurrent workers.\n",
      "[Parallel(n_jobs=1)]: Done 120 out of 120 | elapsed:  1.4min finished\n"
     ]
    },
    {
     "name": "stdout",
     "output_type": "stream",
     "text": [
      "best score: 0.55\n",
      "Fitting 10 folds for each of 12 candidates, totalling 120 fits\n"
     ]
    },
    {
     "name": "stderr",
     "output_type": "stream",
     "text": [
      "[Parallel(n_jobs=1)]: Using backend SequentialBackend with 1 concurrent workers.\n",
      "[Parallel(n_jobs=1)]: Done 120 out of 120 | elapsed:   55.1s finished\n"
     ]
    },
    {
     "name": "stdout",
     "output_type": "stream",
     "text": [
      "best score: 0.55\n",
      "Fitting 10 folds for each of 12 candidates, totalling 120 fits\n"
     ]
    },
    {
     "name": "stderr",
     "output_type": "stream",
     "text": [
      "[Parallel(n_jobs=1)]: Using backend SequentialBackend with 1 concurrent workers.\n",
      "[Parallel(n_jobs=1)]: Done 120 out of 120 | elapsed:   34.7s finished\n"
     ]
    },
    {
     "name": "stdout",
     "output_type": "stream",
     "text": [
      "best score: 0.55\n",
      "Split: 1\n",
      "Split: 2\n",
      "Split: 3\n",
      "Split: 4\n",
      "Split: 5\n",
      "Split: 6\n",
      "Split: 7\n",
      "Split: 8\n",
      "Split: 9\n",
      "Split: 10\n",
      "Training Testing Accuracy for n_games=9 team=12 : 54.61% (8.67%)\n",
      "(179, 1688)\n",
      "(179, 1)\n",
      "X_train shape: (161, 2826)\n",
      "X_test shape: (18, 2826)\n",
      "Fitting 10 folds for each of 12 candidates, totalling 120 fits\n"
     ]
    },
    {
     "name": "stderr",
     "output_type": "stream",
     "text": [
      "[Parallel(n_jobs=1)]: Using backend SequentialBackend with 1 concurrent workers.\n",
      "[Parallel(n_jobs=1)]: Done 120 out of 120 | elapsed:   40.0s finished\n"
     ]
    },
    {
     "name": "stdout",
     "output_type": "stream",
     "text": [
      "best score: 0.577639751552795\n",
      "Fitting 10 folds for each of 12 candidates, totalling 120 fits\n"
     ]
    },
    {
     "name": "stderr",
     "output_type": "stream",
     "text": [
      "[Parallel(n_jobs=1)]: Using backend SequentialBackend with 1 concurrent workers.\n",
      "[Parallel(n_jobs=1)]: Done 120 out of 120 | elapsed:   37.7s finished\n"
     ]
    },
    {
     "name": "stdout",
     "output_type": "stream",
     "text": [
      "best score: 0.6211180124223602\n",
      "Fitting 10 folds for each of 12 candidates, totalling 120 fits\n"
     ]
    },
    {
     "name": "stderr",
     "output_type": "stream",
     "text": [
      "[Parallel(n_jobs=1)]: Using backend SequentialBackend with 1 concurrent workers.\n",
      "[Parallel(n_jobs=1)]: Done 120 out of 120 | elapsed:   38.3s finished\n"
     ]
    },
    {
     "name": "stdout",
     "output_type": "stream",
     "text": [
      "best score: 0.6211180124223602\n",
      "Fitting 10 folds for each of 12 candidates, totalling 120 fits\n"
     ]
    },
    {
     "name": "stderr",
     "output_type": "stream",
     "text": [
      "[Parallel(n_jobs=1)]: Using backend SequentialBackend with 1 concurrent workers.\n",
      "[Parallel(n_jobs=1)]: Done 120 out of 120 | elapsed:   26.4s finished\n"
     ]
    },
    {
     "name": "stdout",
     "output_type": "stream",
     "text": [
      "best score: 0.6211180124223602\n",
      "Fitting 10 folds for each of 12 candidates, totalling 120 fits\n"
     ]
    },
    {
     "name": "stderr",
     "output_type": "stream",
     "text": [
      "[Parallel(n_jobs=1)]: Using backend SequentialBackend with 1 concurrent workers.\n",
      "[Parallel(n_jobs=1)]: Done 120 out of 120 | elapsed:   56.7s finished\n"
     ]
    },
    {
     "name": "stdout",
     "output_type": "stream",
     "text": [
      "best score: 0.6211180124223602\n",
      "Split: 1\n",
      "Split: 2\n",
      "Split: 3\n",
      "Split: 4\n",
      "Split: 5\n",
      "Split: 6\n",
      "Split: 7\n",
      "Split: 8\n",
      "Split: 9\n",
      "Split: 10\n",
      "Training Testing Accuracy for n_games=9 team=13 : 60.29% (8.23%)\n",
      "(182, 1688)\n",
      "(182, 1)\n",
      "X_train shape: (163, 2801)\n",
      "X_test shape: (19, 2801)\n",
      "Fitting 10 folds for each of 12 candidates, totalling 120 fits\n"
     ]
    },
    {
     "name": "stderr",
     "output_type": "stream",
     "text": [
      "[Parallel(n_jobs=1)]: Using backend SequentialBackend with 1 concurrent workers.\n",
      "[Parallel(n_jobs=1)]: Done 120 out of 120 | elapsed:   40.7s finished\n"
     ]
    },
    {
     "name": "stdout",
     "output_type": "stream",
     "text": [
      "best score: 0.6380368098159509\n",
      "Fitting 10 folds for each of 12 candidates, totalling 120 fits\n"
     ]
    },
    {
     "name": "stderr",
     "output_type": "stream",
     "text": [
      "[Parallel(n_jobs=1)]: Using backend SequentialBackend with 1 concurrent workers.\n",
      "[Parallel(n_jobs=1)]: Done 120 out of 120 | elapsed:   30.1s finished\n"
     ]
    },
    {
     "name": "stdout",
     "output_type": "stream",
     "text": [
      "best score: 0.6380368098159509\n",
      "Fitting 10 folds for each of 12 candidates, totalling 120 fits\n"
     ]
    },
    {
     "name": "stderr",
     "output_type": "stream",
     "text": [
      "[Parallel(n_jobs=1)]: Using backend SequentialBackend with 1 concurrent workers.\n",
      "[Parallel(n_jobs=1)]: Done 120 out of 120 | elapsed:   51.6s finished\n"
     ]
    },
    {
     "name": "stdout",
     "output_type": "stream",
     "text": [
      "best score: 0.6380368098159509\n",
      "Fitting 10 folds for each of 12 candidates, totalling 120 fits\n"
     ]
    },
    {
     "name": "stderr",
     "output_type": "stream",
     "text": [
      "[Parallel(n_jobs=1)]: Using backend SequentialBackend with 1 concurrent workers.\n",
      "[Parallel(n_jobs=1)]: Done 120 out of 120 | elapsed:  1.1min finished\n"
     ]
    },
    {
     "name": "stdout",
     "output_type": "stream",
     "text": [
      "best score: 0.6380368098159509\n",
      "Fitting 10 folds for each of 12 candidates, totalling 120 fits\n"
     ]
    },
    {
     "name": "stderr",
     "output_type": "stream",
     "text": [
      "[Parallel(n_jobs=1)]: Using backend SequentialBackend with 1 concurrent workers.\n",
      "[Parallel(n_jobs=1)]: Done 120 out of 120 | elapsed:   32.5s finished\n"
     ]
    },
    {
     "name": "stdout",
     "output_type": "stream",
     "text": [
      "best score: 0.6380368098159509\n",
      "Split: 1\n",
      "Split: 2\n",
      "Split: 3\n",
      "Split: 4\n",
      "Split: 5\n",
      "Split: 6\n",
      "Split: 7\n",
      "Split: 8\n",
      "Split: 9\n",
      "Split: 10\n",
      "Training Testing Accuracy for n_games=9 team=14 : 63.71% (2.87%)\n",
      "(171, 1688)\n",
      "(171, 1)\n",
      "X_train shape: (153, 2797)\n",
      "X_test shape: (18, 2797)\n",
      "Fitting 10 folds for each of 12 candidates, totalling 120 fits\n"
     ]
    },
    {
     "name": "stderr",
     "output_type": "stream",
     "text": [
      "[Parallel(n_jobs=1)]: Using backend SequentialBackend with 1 concurrent workers.\n",
      "[Parallel(n_jobs=1)]: Done 120 out of 120 | elapsed:   39.2s finished\n"
     ]
    },
    {
     "name": "stdout",
     "output_type": "stream",
     "text": [
      "best score: 0.6013071895424836\n",
      "Fitting 10 folds for each of 12 candidates, totalling 120 fits\n"
     ]
    },
    {
     "name": "stderr",
     "output_type": "stream",
     "text": [
      "[Parallel(n_jobs=1)]: Using backend SequentialBackend with 1 concurrent workers.\n",
      "[Parallel(n_jobs=1)]: Done 120 out of 120 | elapsed:   32.6s finished\n"
     ]
    },
    {
     "name": "stdout",
     "output_type": "stream",
     "text": [
      "best score: 0.6078431372549019\n",
      "Fitting 10 folds for each of 12 candidates, totalling 120 fits\n"
     ]
    },
    {
     "name": "stderr",
     "output_type": "stream",
     "text": [
      "[Parallel(n_jobs=1)]: Using backend SequentialBackend with 1 concurrent workers.\n",
      "[Parallel(n_jobs=1)]: Done 120 out of 120 | elapsed:   29.6s finished\n"
     ]
    },
    {
     "name": "stdout",
     "output_type": "stream",
     "text": [
      "best score: 0.6078431372549019\n",
      "Fitting 10 folds for each of 12 candidates, totalling 120 fits\n"
     ]
    },
    {
     "name": "stderr",
     "output_type": "stream",
     "text": [
      "[Parallel(n_jobs=1)]: Using backend SequentialBackend with 1 concurrent workers.\n",
      "[Parallel(n_jobs=1)]: Done 120 out of 120 | elapsed:   32.9s finished\n"
     ]
    },
    {
     "name": "stdout",
     "output_type": "stream",
     "text": [
      "best score: 0.6078431372549019\n",
      "Fitting 10 folds for each of 12 candidates, totalling 120 fits\n"
     ]
    },
    {
     "name": "stderr",
     "output_type": "stream",
     "text": [
      "[Parallel(n_jobs=1)]: Using backend SequentialBackend with 1 concurrent workers.\n",
      "[Parallel(n_jobs=1)]: Done 120 out of 120 | elapsed:   32.2s finished\n"
     ]
    },
    {
     "name": "stdout",
     "output_type": "stream",
     "text": [
      "best score: 0.6078431372549019\n",
      "Split: 1\n",
      "Split: 2\n",
      "Split: 3\n",
      "Split: 4\n",
      "Split: 5\n",
      "Split: 6\n",
      "Split: 7\n",
      "Split: 8\n",
      "Split: 9\n",
      "Split: 10\n",
      "Training Testing Accuracy for n_games=9 team=15 : 59.64% (3.20%)\n",
      "(187, 1688)\n",
      "(187, 1)\n",
      "X_train shape: (168, 2808)\n",
      "X_test shape: (19, 2808)\n",
      "Fitting 10 folds for each of 12 candidates, totalling 120 fits\n"
     ]
    },
    {
     "name": "stderr",
     "output_type": "stream",
     "text": [
      "[Parallel(n_jobs=1)]: Using backend SequentialBackend with 1 concurrent workers.\n",
      "[Parallel(n_jobs=1)]: Done 120 out of 120 | elapsed:   41.1s finished\n"
     ]
    },
    {
     "name": "stdout",
     "output_type": "stream",
     "text": [
      "best score: 0.6369047619047619\n",
      "Fitting 10 folds for each of 12 candidates, totalling 120 fits\n"
     ]
    },
    {
     "name": "stderr",
     "output_type": "stream",
     "text": [
      "[Parallel(n_jobs=1)]: Using backend SequentialBackend with 1 concurrent workers.\n",
      "[Parallel(n_jobs=1)]: Done 120 out of 120 | elapsed:   44.1s finished\n"
     ]
    },
    {
     "name": "stdout",
     "output_type": "stream",
     "text": [
      "best score: 0.6369047619047619\n",
      "Fitting 10 folds for each of 12 candidates, totalling 120 fits\n"
     ]
    },
    {
     "name": "stderr",
     "output_type": "stream",
     "text": [
      "[Parallel(n_jobs=1)]: Using backend SequentialBackend with 1 concurrent workers.\n",
      "[Parallel(n_jobs=1)]: Done 120 out of 120 | elapsed:  1.1min finished\n"
     ]
    },
    {
     "name": "stdout",
     "output_type": "stream",
     "text": [
      "best score: 0.6369047619047619\n",
      "Fitting 10 folds for each of 12 candidates, totalling 120 fits\n"
     ]
    },
    {
     "name": "stderr",
     "output_type": "stream",
     "text": [
      "[Parallel(n_jobs=1)]: Using backend SequentialBackend with 1 concurrent workers.\n",
      "[Parallel(n_jobs=1)]: Done 120 out of 120 | elapsed:   39.8s finished\n"
     ]
    },
    {
     "name": "stdout",
     "output_type": "stream",
     "text": [
      "best score: 0.6369047619047619\n",
      "Fitting 10 folds for each of 12 candidates, totalling 120 fits\n"
     ]
    },
    {
     "name": "stderr",
     "output_type": "stream",
     "text": [
      "[Parallel(n_jobs=1)]: Using backend SequentialBackend with 1 concurrent workers.\n",
      "[Parallel(n_jobs=1)]: Done 120 out of 120 | elapsed:   29.9s finished\n"
     ]
    },
    {
     "name": "stdout",
     "output_type": "stream",
     "text": [
      "best score: 0.6428571428571429\n",
      "Split: 1\n",
      "Split: 2\n",
      "Split: 3\n",
      "Split: 4\n",
      "Split: 5\n",
      "Split: 6\n",
      "Split: 7\n",
      "Split: 8\n",
      "Split: 9\n",
      "Split: 10\n",
      "Training Testing Accuracy for n_games=9 team=16 : 64.68% (3.77%)\n",
      "(182, 1688)\n",
      "(182, 1)\n",
      "X_train shape: (163, 2810)\n",
      "X_test shape: (19, 2810)\n",
      "Fitting 10 folds for each of 12 candidates, totalling 120 fits\n"
     ]
    },
    {
     "name": "stderr",
     "output_type": "stream",
     "text": [
      "[Parallel(n_jobs=1)]: Using backend SequentialBackend with 1 concurrent workers.\n",
      "[Parallel(n_jobs=1)]: Done 120 out of 120 | elapsed:   42.4s finished\n"
     ]
    },
    {
     "name": "stdout",
     "output_type": "stream",
     "text": [
      "best score: 0.588957055214724\n",
      "Fitting 10 folds for each of 12 candidates, totalling 120 fits\n"
     ]
    },
    {
     "name": "stderr",
     "output_type": "stream",
     "text": [
      "[Parallel(n_jobs=1)]: Using backend SequentialBackend with 1 concurrent workers.\n",
      "[Parallel(n_jobs=1)]: Done 120 out of 120 | elapsed:   50.5s finished\n"
     ]
    },
    {
     "name": "stdout",
     "output_type": "stream",
     "text": [
      "best score: 0.5950920245398773\n",
      "Fitting 10 folds for each of 12 candidates, totalling 120 fits\n"
     ]
    },
    {
     "name": "stderr",
     "output_type": "stream",
     "text": [
      "[Parallel(n_jobs=1)]: Using backend SequentialBackend with 1 concurrent workers.\n",
      "[Parallel(n_jobs=1)]: Done 120 out of 120 | elapsed:   37.5s finished\n"
     ]
    },
    {
     "name": "stdout",
     "output_type": "stream",
     "text": [
      "best score: 0.5950920245398773\n",
      "Fitting 10 folds for each of 12 candidates, totalling 120 fits\n"
     ]
    },
    {
     "name": "stderr",
     "output_type": "stream",
     "text": [
      "[Parallel(n_jobs=1)]: Using backend SequentialBackend with 1 concurrent workers.\n",
      "[Parallel(n_jobs=1)]: Done 120 out of 120 | elapsed:   30.6s finished\n"
     ]
    },
    {
     "name": "stdout",
     "output_type": "stream",
     "text": [
      "best score: 0.5950920245398773\n",
      "Fitting 10 folds for each of 12 candidates, totalling 120 fits\n"
     ]
    },
    {
     "name": "stderr",
     "output_type": "stream",
     "text": [
      "[Parallel(n_jobs=1)]: Using backend SequentialBackend with 1 concurrent workers.\n",
      "[Parallel(n_jobs=1)]: Done 120 out of 120 | elapsed:   31.2s finished\n"
     ]
    },
    {
     "name": "stdout",
     "output_type": "stream",
     "text": [
      "best score: 0.6073619631901841\n",
      "Split: 1\n",
      "Split: 2\n",
      "Split: 3\n",
      "Split: 4\n",
      "Split: 5\n",
      "Split: 6\n",
      "Split: 7\n",
      "Split: 8\n",
      "Split: 9\n",
      "Split: 10\n",
      "Training Testing Accuracy for n_games=9 team=17 : 59.88% (10.54%)\n",
      "(181, 1688)\n",
      "(181, 1)\n",
      "X_train shape: (162, 2826)\n",
      "X_test shape: (19, 2826)\n",
      "Fitting 10 folds for each of 12 candidates, totalling 120 fits\n"
     ]
    },
    {
     "name": "stderr",
     "output_type": "stream",
     "text": [
      "[Parallel(n_jobs=1)]: Using backend SequentialBackend with 1 concurrent workers.\n",
      "[Parallel(n_jobs=1)]: Done 120 out of 120 | elapsed:   40.4s finished\n"
     ]
    },
    {
     "name": "stdout",
     "output_type": "stream",
     "text": [
      "best score: 0.5740740740740741\n",
      "Fitting 10 folds for each of 12 candidates, totalling 120 fits\n"
     ]
    },
    {
     "name": "stderr",
     "output_type": "stream",
     "text": [
      "[Parallel(n_jobs=1)]: Using backend SequentialBackend with 1 concurrent workers.\n",
      "[Parallel(n_jobs=1)]: Done 120 out of 120 | elapsed:   41.5s finished\n"
     ]
    },
    {
     "name": "stdout",
     "output_type": "stream",
     "text": [
      "best score: 0.6172839506172839\n",
      "Fitting 10 folds for each of 12 candidates, totalling 120 fits\n"
     ]
    },
    {
     "name": "stderr",
     "output_type": "stream",
     "text": [
      "[Parallel(n_jobs=1)]: Using backend SequentialBackend with 1 concurrent workers.\n",
      "[Parallel(n_jobs=1)]: Done 120 out of 120 | elapsed:  1.0min finished\n"
     ]
    },
    {
     "name": "stdout",
     "output_type": "stream",
     "text": [
      "best score: 0.6172839506172839\n",
      "Fitting 10 folds for each of 12 candidates, totalling 120 fits\n"
     ]
    },
    {
     "name": "stderr",
     "output_type": "stream",
     "text": [
      "[Parallel(n_jobs=1)]: Using backend SequentialBackend with 1 concurrent workers.\n",
      "[Parallel(n_jobs=1)]: Done 120 out of 120 | elapsed:   35.9s finished\n"
     ]
    },
    {
     "name": "stdout",
     "output_type": "stream",
     "text": [
      "best score: 0.6172839506172839\n",
      "Fitting 10 folds for each of 12 candidates, totalling 120 fits\n"
     ]
    },
    {
     "name": "stderr",
     "output_type": "stream",
     "text": [
      "[Parallel(n_jobs=1)]: Using backend SequentialBackend with 1 concurrent workers.\n",
      "[Parallel(n_jobs=1)]: Done 120 out of 120 | elapsed:   53.5s finished\n"
     ]
    },
    {
     "name": "stdout",
     "output_type": "stream",
     "text": [
      "best score: 0.6172839506172839\n",
      "Split: 1\n",
      "Split: 2\n",
      "Split: 3\n",
      "Split: 4\n",
      "Split: 5\n",
      "Split: 6\n",
      "Split: 7\n",
      "Split: 8\n",
      "Split: 9\n",
      "Split: 10\n",
      "Training Testing Accuracy for n_games=9 team=18 : 54.77% (10.92%)\n",
      "Accuracy for Team Models for n_games= 9 : 60.75% (5.98%)\n",
      "(176, 1874)\n",
      "(176, 1)\n",
      "X_train shape: (158, 3119)\n",
      "X_test shape: (18, 3119)\n",
      "Fitting 10 folds for each of 12 candidates, totalling 120 fits\n"
     ]
    },
    {
     "name": "stderr",
     "output_type": "stream",
     "text": [
      "[Parallel(n_jobs=1)]: Using backend SequentialBackend with 1 concurrent workers.\n",
      "[Parallel(n_jobs=1)]: Done 120 out of 120 | elapsed:   45.9s finished\n"
     ]
    },
    {
     "name": "stdout",
     "output_type": "stream",
     "text": [
      "best score: 0.5632911392405063\n",
      "Fitting 10 folds for each of 12 candidates, totalling 120 fits\n"
     ]
    },
    {
     "name": "stderr",
     "output_type": "stream",
     "text": [
      "[Parallel(n_jobs=1)]: Using backend SequentialBackend with 1 concurrent workers.\n",
      "[Parallel(n_jobs=1)]: Done 120 out of 120 | elapsed:   40.7s finished\n"
     ]
    },
    {
     "name": "stdout",
     "output_type": "stream",
     "text": [
      "best score: 0.5632911392405063\n",
      "Fitting 10 folds for each of 12 candidates, totalling 120 fits\n"
     ]
    },
    {
     "name": "stderr",
     "output_type": "stream",
     "text": [
      "[Parallel(n_jobs=1)]: Using backend SequentialBackend with 1 concurrent workers.\n",
      "[Parallel(n_jobs=1)]: Done 120 out of 120 | elapsed:   49.9s finished\n"
     ]
    },
    {
     "name": "stdout",
     "output_type": "stream",
     "text": [
      "best score: 0.5759493670886076\n",
      "Fitting 10 folds for each of 12 candidates, totalling 120 fits\n"
     ]
    },
    {
     "name": "stderr",
     "output_type": "stream",
     "text": [
      "[Parallel(n_jobs=1)]: Using backend SequentialBackend with 1 concurrent workers.\n",
      "[Parallel(n_jobs=1)]: Done 120 out of 120 | elapsed:  1.2min finished\n"
     ]
    },
    {
     "name": "stdout",
     "output_type": "stream",
     "text": [
      "best score: 0.6139240506329114\n",
      "Fitting 10 folds for each of 12 candidates, totalling 120 fits\n"
     ]
    },
    {
     "name": "stderr",
     "output_type": "stream",
     "text": [
      "[Parallel(n_jobs=1)]: Using backend SequentialBackend with 1 concurrent workers.\n",
      "[Parallel(n_jobs=1)]: Done 120 out of 120 | elapsed:   58.4s finished\n"
     ]
    },
    {
     "name": "stdout",
     "output_type": "stream",
     "text": [
      "best score: 0.6139240506329114\n",
      "Split: 1\n",
      "Split: 2\n",
      "Split: 3\n",
      "Split: 4\n",
      "Split: 5\n",
      "Split: 6\n",
      "Split: 7\n",
      "Split: 8\n",
      "Split: 9\n",
      "Split: 10\n",
      "Training Testing Accuracy for n_games=10 team=1 : 55.78% (11.35%)\n",
      "(174, 1874)\n",
      "(174, 1)\n",
      "X_train shape: (156, 3092)\n",
      "X_test shape: (18, 3092)\n",
      "Fitting 10 folds for each of 12 candidates, totalling 120 fits\n"
     ]
    },
    {
     "name": "stderr",
     "output_type": "stream",
     "text": [
      "[Parallel(n_jobs=1)]: Using backend SequentialBackend with 1 concurrent workers.\n",
      "[Parallel(n_jobs=1)]: Done 120 out of 120 | elapsed:   44.7s finished\n"
     ]
    },
    {
     "name": "stdout",
     "output_type": "stream",
     "text": [
      "best score: 0.7051282051282052\n",
      "Fitting 10 folds for each of 12 candidates, totalling 120 fits\n"
     ]
    },
    {
     "name": "stderr",
     "output_type": "stream",
     "text": [
      "[Parallel(n_jobs=1)]: Using backend SequentialBackend with 1 concurrent workers.\n",
      "[Parallel(n_jobs=1)]: Done 120 out of 120 | elapsed:   48.2s finished\n"
     ]
    },
    {
     "name": "stdout",
     "output_type": "stream",
     "text": [
      "best score: 0.7051282051282052\n",
      "Fitting 10 folds for each of 12 candidates, totalling 120 fits\n"
     ]
    },
    {
     "name": "stderr",
     "output_type": "stream",
     "text": [
      "[Parallel(n_jobs=1)]: Using backend SequentialBackend with 1 concurrent workers.\n",
      "[Parallel(n_jobs=1)]: Done 120 out of 120 | elapsed:   51.1s finished\n"
     ]
    },
    {
     "name": "stdout",
     "output_type": "stream",
     "text": [
      "best score: 0.7051282051282052\n",
      "Fitting 10 folds for each of 12 candidates, totalling 120 fits\n"
     ]
    },
    {
     "name": "stderr",
     "output_type": "stream",
     "text": [
      "[Parallel(n_jobs=1)]: Using backend SequentialBackend with 1 concurrent workers.\n",
      "[Parallel(n_jobs=1)]: Done 120 out of 120 | elapsed:  1.4min finished\n"
     ]
    },
    {
     "name": "stdout",
     "output_type": "stream",
     "text": [
      "best score: 0.7051282051282052\n",
      "Fitting 10 folds for each of 12 candidates, totalling 120 fits\n"
     ]
    },
    {
     "name": "stderr",
     "output_type": "stream",
     "text": [
      "[Parallel(n_jobs=1)]: Using backend SequentialBackend with 1 concurrent workers.\n",
      "[Parallel(n_jobs=1)]: Done 120 out of 120 | elapsed:   43.2s finished\n"
     ]
    },
    {
     "name": "stdout",
     "output_type": "stream",
     "text": [
      "best score: 0.7051282051282052\n",
      "Split: 1\n",
      "Split: 2\n",
      "Split: 3\n",
      "Split: 4\n",
      "Split: 5\n",
      "Split: 6\n",
      "Split: 7\n",
      "Split: 8\n",
      "Split: 9\n",
      "Split: 10\n",
      "Training Testing Accuracy for n_games=10 team=2 : 59.15% (9.00%)\n",
      "(172, 1874)\n",
      "(172, 1)\n",
      "X_train shape: (154, 3086)\n",
      "X_test shape: (18, 3086)\n",
      "Fitting 10 folds for each of 12 candidates, totalling 120 fits\n"
     ]
    },
    {
     "name": "stderr",
     "output_type": "stream",
     "text": [
      "[Parallel(n_jobs=1)]: Using backend SequentialBackend with 1 concurrent workers.\n",
      "[Parallel(n_jobs=1)]: Done 120 out of 120 | elapsed:   43.5s finished\n"
     ]
    },
    {
     "name": "stdout",
     "output_type": "stream",
     "text": [
      "best score: 0.7142857142857143\n",
      "Fitting 10 folds for each of 12 candidates, totalling 120 fits\n"
     ]
    },
    {
     "name": "stderr",
     "output_type": "stream",
     "text": [
      "[Parallel(n_jobs=1)]: Using backend SequentialBackend with 1 concurrent workers.\n",
      "[Parallel(n_jobs=1)]: Done 120 out of 120 | elapsed:   48.4s finished\n"
     ]
    },
    {
     "name": "stdout",
     "output_type": "stream",
     "text": [
      "best score: 0.7142857142857143\n",
      "Fitting 10 folds for each of 12 candidates, totalling 120 fits\n"
     ]
    },
    {
     "name": "stderr",
     "output_type": "stream",
     "text": [
      "[Parallel(n_jobs=1)]: Using backend SequentialBackend with 1 concurrent workers.\n",
      "[Parallel(n_jobs=1)]: Done 120 out of 120 | elapsed:   58.4s finished\n"
     ]
    },
    {
     "name": "stdout",
     "output_type": "stream",
     "text": [
      "best score: 0.7142857142857143\n",
      "Fitting 10 folds for each of 12 candidates, totalling 120 fits\n"
     ]
    },
    {
     "name": "stderr",
     "output_type": "stream",
     "text": [
      "[Parallel(n_jobs=1)]: Using backend SequentialBackend with 1 concurrent workers.\n",
      "[Parallel(n_jobs=1)]: Done 120 out of 120 | elapsed:   39.8s finished\n"
     ]
    },
    {
     "name": "stdout",
     "output_type": "stream",
     "text": [
      "best score: 0.7142857142857143\n",
      "Fitting 10 folds for each of 12 candidates, totalling 120 fits\n"
     ]
    },
    {
     "name": "stderr",
     "output_type": "stream",
     "text": [
      "[Parallel(n_jobs=1)]: Using backend SequentialBackend with 1 concurrent workers.\n",
      "[Parallel(n_jobs=1)]: Done 120 out of 120 | elapsed:   34.7s finished\n"
     ]
    },
    {
     "name": "stdout",
     "output_type": "stream",
     "text": [
      "best score: 0.7142857142857143\n",
      "Split: 1\n",
      "Split: 2\n",
      "Split: 3\n",
      "Split: 4\n",
      "Split: 5\n",
      "Split: 6\n",
      "Split: 7\n",
      "Split: 8\n",
      "Split: 9\n",
      "Split: 10\n",
      "Training Testing Accuracy for n_games=10 team=3 : 70.36% (1.32%)\n",
      "(177, 1874)\n",
      "(177, 1)\n",
      "X_train shape: (159, 3080)\n",
      "X_test shape: (18, 3080)\n",
      "Fitting 10 folds for each of 12 candidates, totalling 120 fits\n"
     ]
    },
    {
     "name": "stderr",
     "output_type": "stream",
     "text": [
      "[Parallel(n_jobs=1)]: Using backend SequentialBackend with 1 concurrent workers.\n",
      "[Parallel(n_jobs=1)]: Done 120 out of 120 | elapsed:   44.8s finished\n"
     ]
    },
    {
     "name": "stdout",
     "output_type": "stream",
     "text": [
      "best score: 0.5471698113207547\n",
      "Fitting 10 folds for each of 12 candidates, totalling 120 fits\n"
     ]
    },
    {
     "name": "stderr",
     "output_type": "stream",
     "text": [
      "[Parallel(n_jobs=1)]: Using backend SequentialBackend with 1 concurrent workers.\n",
      "[Parallel(n_jobs=1)]: Done 120 out of 120 | elapsed:   43.2s finished\n"
     ]
    },
    {
     "name": "stdout",
     "output_type": "stream",
     "text": [
      "best score: 0.5723270440251572\n",
      "Fitting 10 folds for each of 12 candidates, totalling 120 fits\n"
     ]
    },
    {
     "name": "stderr",
     "output_type": "stream",
     "text": [
      "[Parallel(n_jobs=1)]: Using backend SequentialBackend with 1 concurrent workers.\n",
      "[Parallel(n_jobs=1)]: Done 120 out of 120 | elapsed:   33.5s finished\n"
     ]
    },
    {
     "name": "stdout",
     "output_type": "stream",
     "text": [
      "best score: 0.5723270440251572\n",
      "Fitting 10 folds for each of 12 candidates, totalling 120 fits\n"
     ]
    },
    {
     "name": "stderr",
     "output_type": "stream",
     "text": [
      "[Parallel(n_jobs=1)]: Using backend SequentialBackend with 1 concurrent workers.\n",
      "[Parallel(n_jobs=1)]: Done 120 out of 120 | elapsed:  1.2min finished\n"
     ]
    },
    {
     "name": "stdout",
     "output_type": "stream",
     "text": [
      "best score: 0.5723270440251572\n",
      "Fitting 10 folds for each of 12 candidates, totalling 120 fits\n"
     ]
    },
    {
     "name": "stderr",
     "output_type": "stream",
     "text": [
      "[Parallel(n_jobs=1)]: Using backend SequentialBackend with 1 concurrent workers.\n",
      "[Parallel(n_jobs=1)]: Done 120 out of 120 | elapsed:  2.1min finished\n"
     ]
    },
    {
     "name": "stdout",
     "output_type": "stream",
     "text": [
      "best score: 0.5723270440251572\n",
      "Split: 1\n",
      "Split: 2\n",
      "Split: 3\n",
      "Split: 4\n",
      "Split: 5\n",
      "Split: 6\n",
      "Split: 7\n",
      "Split: 8\n",
      "Split: 9\n",
      "Split: 10\n",
      "Training Testing Accuracy for n_games=10 team=4 : 53.01% (12.81%)\n",
      "(174, 1874)\n",
      "(174, 1)\n",
      "X_train shape: (156, 3058)\n",
      "X_test shape: (18, 3058)\n",
      "Fitting 10 folds for each of 12 candidates, totalling 120 fits\n"
     ]
    },
    {
     "name": "stderr",
     "output_type": "stream",
     "text": [
      "[Parallel(n_jobs=1)]: Using backend SequentialBackend with 1 concurrent workers.\n",
      "[Parallel(n_jobs=1)]: Done 120 out of 120 | elapsed:   44.4s finished\n"
     ]
    },
    {
     "name": "stdout",
     "output_type": "stream",
     "text": [
      "best score: 0.5961538461538461\n",
      "Fitting 10 folds for each of 12 candidates, totalling 120 fits\n"
     ]
    },
    {
     "name": "stderr",
     "output_type": "stream",
     "text": [
      "[Parallel(n_jobs=1)]: Using backend SequentialBackend with 1 concurrent workers.\n",
      "[Parallel(n_jobs=1)]: Done 120 out of 120 | elapsed:   38.9s finished\n"
     ]
    },
    {
     "name": "stdout",
     "output_type": "stream",
     "text": [
      "best score: 0.5961538461538461\n",
      "Fitting 10 folds for each of 12 candidates, totalling 120 fits\n"
     ]
    },
    {
     "name": "stderr",
     "output_type": "stream",
     "text": [
      "[Parallel(n_jobs=1)]: Using backend SequentialBackend with 1 concurrent workers.\n",
      "[Parallel(n_jobs=1)]: Done 120 out of 120 | elapsed:   44.8s finished\n"
     ]
    },
    {
     "name": "stdout",
     "output_type": "stream",
     "text": [
      "best score: 0.5961538461538461\n",
      "Fitting 10 folds for each of 12 candidates, totalling 120 fits\n"
     ]
    },
    {
     "name": "stderr",
     "output_type": "stream",
     "text": [
      "[Parallel(n_jobs=1)]: Using backend SequentialBackend with 1 concurrent workers.\n",
      "[Parallel(n_jobs=1)]: Done 120 out of 120 | elapsed:   53.3s finished\n"
     ]
    },
    {
     "name": "stdout",
     "output_type": "stream",
     "text": [
      "best score: 0.5961538461538461\n",
      "Fitting 10 folds for each of 12 candidates, totalling 120 fits\n"
     ]
    },
    {
     "name": "stderr",
     "output_type": "stream",
     "text": [
      "[Parallel(n_jobs=1)]: Using backend SequentialBackend with 1 concurrent workers.\n",
      "[Parallel(n_jobs=1)]: Done 120 out of 120 | elapsed:   44.4s finished\n"
     ]
    },
    {
     "name": "stdout",
     "output_type": "stream",
     "text": [
      "best score: 0.5961538461538461\n",
      "Split: 1\n",
      "Split: 2\n",
      "Split: 3\n",
      "Split: 4\n",
      "Split: 5\n",
      "Split: 6\n",
      "Split: 7\n",
      "Split: 8\n",
      "Split: 9\n",
      "Split: 10\n",
      "Training Testing Accuracy for n_games=10 team=5 : 56.86% (8.94%)\n",
      "(177, 1874)\n",
      "(177, 1)\n",
      "X_train shape: (159, 3103)\n",
      "X_test shape: (18, 3103)\n",
      "Fitting 10 folds for each of 12 candidates, totalling 120 fits\n"
     ]
    },
    {
     "name": "stderr",
     "output_type": "stream",
     "text": [
      "[Parallel(n_jobs=1)]: Using backend SequentialBackend with 1 concurrent workers.\n",
      "[Parallel(n_jobs=1)]: Done 120 out of 120 | elapsed:   44.8s finished\n"
     ]
    },
    {
     "name": "stdout",
     "output_type": "stream",
     "text": [
      "best score: 0.559748427672956\n",
      "Fitting 10 folds for each of 12 candidates, totalling 120 fits\n"
     ]
    },
    {
     "name": "stderr",
     "output_type": "stream",
     "text": [
      "[Parallel(n_jobs=1)]: Using backend SequentialBackend with 1 concurrent workers.\n",
      "[Parallel(n_jobs=1)]: Done 120 out of 120 | elapsed:   32.2s finished\n"
     ]
    },
    {
     "name": "stdout",
     "output_type": "stream",
     "text": [
      "best score: 0.5660377358490566\n",
      "Fitting 10 folds for each of 12 candidates, totalling 120 fits\n"
     ]
    },
    {
     "name": "stderr",
     "output_type": "stream",
     "text": [
      "[Parallel(n_jobs=1)]: Using backend SequentialBackend with 1 concurrent workers.\n",
      "[Parallel(n_jobs=1)]: Done 120 out of 120 | elapsed:   50.4s finished\n"
     ]
    },
    {
     "name": "stdout",
     "output_type": "stream",
     "text": [
      "best score: 0.5660377358490566\n",
      "Fitting 10 folds for each of 12 candidates, totalling 120 fits\n"
     ]
    },
    {
     "name": "stderr",
     "output_type": "stream",
     "text": [
      "[Parallel(n_jobs=1)]: Using backend SequentialBackend with 1 concurrent workers.\n",
      "[Parallel(n_jobs=1)]: Done 120 out of 120 | elapsed:   35.3s finished\n"
     ]
    },
    {
     "name": "stdout",
     "output_type": "stream",
     "text": [
      "best score: 0.5660377358490566\n",
      "Fitting 10 folds for each of 12 candidates, totalling 120 fits\n"
     ]
    },
    {
     "name": "stderr",
     "output_type": "stream",
     "text": [
      "[Parallel(n_jobs=1)]: Using backend SequentialBackend with 1 concurrent workers.\n",
      "[Parallel(n_jobs=1)]: Done 120 out of 120 | elapsed:   42.9s finished\n"
     ]
    },
    {
     "name": "stdout",
     "output_type": "stream",
     "text": [
      "best score: 0.5723270440251572\n",
      "Split: 1\n",
      "Split: 2\n",
      "Split: 3\n",
      "Split: 4\n",
      "Split: 5\n",
      "Split: 6\n",
      "Split: 7\n",
      "Split: 8\n",
      "Split: 9\n",
      "Split: 10\n",
      "Training Testing Accuracy for n_games=10 team=6 : 44.67% (10.14%)\n",
      "(186, 1874)\n",
      "(186, 1)\n",
      "X_train shape: (167, 3093)\n",
      "X_test shape: (19, 3093)\n",
      "Fitting 10 folds for each of 12 candidates, totalling 120 fits\n"
     ]
    },
    {
     "name": "stderr",
     "output_type": "stream",
     "text": [
      "[Parallel(n_jobs=1)]: Using backend SequentialBackend with 1 concurrent workers.\n",
      "[Parallel(n_jobs=1)]: Done 120 out of 120 | elapsed:   45.4s finished\n"
     ]
    },
    {
     "name": "stdout",
     "output_type": "stream",
     "text": [
      "best score: 0.6586826347305389\n",
      "Fitting 10 folds for each of 12 candidates, totalling 120 fits\n"
     ]
    },
    {
     "name": "stderr",
     "output_type": "stream",
     "text": [
      "[Parallel(n_jobs=1)]: Using backend SequentialBackend with 1 concurrent workers.\n",
      "[Parallel(n_jobs=1)]: Done 120 out of 120 | elapsed:   38.9s finished\n"
     ]
    },
    {
     "name": "stdout",
     "output_type": "stream",
     "text": [
      "best score: 0.6826347305389222\n",
      "Fitting 10 folds for each of 12 candidates, totalling 120 fits\n"
     ]
    },
    {
     "name": "stderr",
     "output_type": "stream",
     "text": [
      "[Parallel(n_jobs=1)]: Using backend SequentialBackend with 1 concurrent workers.\n",
      "[Parallel(n_jobs=1)]: Done 120 out of 120 | elapsed:  1.0min finished\n"
     ]
    },
    {
     "name": "stdout",
     "output_type": "stream",
     "text": [
      "best score: 0.6826347305389222\n",
      "Fitting 10 folds for each of 12 candidates, totalling 120 fits\n"
     ]
    },
    {
     "name": "stderr",
     "output_type": "stream",
     "text": [
      "[Parallel(n_jobs=1)]: Using backend SequentialBackend with 1 concurrent workers.\n",
      "[Parallel(n_jobs=1)]: Done 120 out of 120 | elapsed:   34.5s finished\n"
     ]
    },
    {
     "name": "stdout",
     "output_type": "stream",
     "text": [
      "best score: 0.6826347305389222\n",
      "Fitting 10 folds for each of 12 candidates, totalling 120 fits\n"
     ]
    },
    {
     "name": "stderr",
     "output_type": "stream",
     "text": [
      "[Parallel(n_jobs=1)]: Using backend SequentialBackend with 1 concurrent workers.\n",
      "[Parallel(n_jobs=1)]: Done 120 out of 120 | elapsed:   35.4s finished\n"
     ]
    },
    {
     "name": "stdout",
     "output_type": "stream",
     "text": [
      "best score: 0.6826347305389222\n",
      "Split: 1\n",
      "Split: 2\n",
      "Split: 3\n",
      "Split: 4\n",
      "Split: 5\n",
      "Split: 6\n",
      "Split: 7\n",
      "Split: 8\n",
      "Split: 9\n",
      "Split: 10\n",
      "Training Testing Accuracy for n_games=10 team=7 : 63.95% (6.52%)\n",
      "(170, 1874)\n",
      "(170, 1)\n",
      "X_train shape: (153, 3102)\n",
      "X_test shape: (17, 3102)\n",
      "Fitting 10 folds for each of 12 candidates, totalling 120 fits\n"
     ]
    },
    {
     "name": "stderr",
     "output_type": "stream",
     "text": [
      "[Parallel(n_jobs=1)]: Using backend SequentialBackend with 1 concurrent workers.\n",
      "[Parallel(n_jobs=1)]: Done 120 out of 120 | elapsed:   42.7s finished\n"
     ]
    },
    {
     "name": "stdout",
     "output_type": "stream",
     "text": [
      "best score: 0.7450980392156863\n",
      "Fitting 10 folds for each of 12 candidates, totalling 120 fits\n"
     ]
    },
    {
     "name": "stderr",
     "output_type": "stream",
     "text": [
      "[Parallel(n_jobs=1)]: Using backend SequentialBackend with 1 concurrent workers.\n",
      "[Parallel(n_jobs=1)]: Done 120 out of 120 | elapsed:  1.2min finished\n"
     ]
    },
    {
     "name": "stdout",
     "output_type": "stream",
     "text": [
      "best score: 0.7450980392156863\n",
      "Fitting 10 folds for each of 12 candidates, totalling 120 fits\n"
     ]
    },
    {
     "name": "stderr",
     "output_type": "stream",
     "text": [
      "[Parallel(n_jobs=1)]: Using backend SequentialBackend with 1 concurrent workers.\n",
      "[Parallel(n_jobs=1)]: Done 120 out of 120 | elapsed:  1.1min finished\n"
     ]
    },
    {
     "name": "stdout",
     "output_type": "stream",
     "text": [
      "best score: 0.7450980392156863\n",
      "Fitting 10 folds for each of 12 candidates, totalling 120 fits\n"
     ]
    },
    {
     "name": "stderr",
     "output_type": "stream",
     "text": [
      "[Parallel(n_jobs=1)]: Using backend SequentialBackend with 1 concurrent workers.\n",
      "[Parallel(n_jobs=1)]: Done 120 out of 120 | elapsed:   35.8s finished\n"
     ]
    },
    {
     "name": "stdout",
     "output_type": "stream",
     "text": [
      "best score: 0.7450980392156863\n",
      "Fitting 10 folds for each of 12 candidates, totalling 120 fits\n"
     ]
    },
    {
     "name": "stderr",
     "output_type": "stream",
     "text": [
      "[Parallel(n_jobs=1)]: Using backend SequentialBackend with 1 concurrent workers.\n",
      "[Parallel(n_jobs=1)]: Done 120 out of 120 | elapsed:   34.8s finished\n"
     ]
    },
    {
     "name": "stdout",
     "output_type": "stream",
     "text": [
      "best score: 0.7450980392156863\n",
      "Split: 1\n",
      "Split: 2\n",
      "Split: 3\n",
      "Split: 4\n",
      "Split: 5\n",
      "Split: 6\n",
      "Split: 7\n",
      "Split: 8\n",
      "Split: 9\n",
      "Split: 10\n",
      "Training Testing Accuracy for n_games=10 team=8 : 73.53% (6.03%)\n",
      "(183, 1874)\n",
      "(183, 1)\n",
      "X_train shape: (164, 3116)\n",
      "X_test shape: (19, 3116)\n",
      "Fitting 10 folds for each of 12 candidates, totalling 120 fits\n"
     ]
    },
    {
     "name": "stderr",
     "output_type": "stream",
     "text": [
      "[Parallel(n_jobs=1)]: Using backend SequentialBackend with 1 concurrent workers.\n",
      "[Parallel(n_jobs=1)]: Done 120 out of 120 | elapsed:   44.6s finished\n"
     ]
    },
    {
     "name": "stdout",
     "output_type": "stream",
     "text": [
      "best score: 0.5609756097560976\n",
      "Fitting 10 folds for each of 12 candidates, totalling 120 fits\n"
     ]
    },
    {
     "name": "stderr",
     "output_type": "stream",
     "text": [
      "[Parallel(n_jobs=1)]: Using backend SequentialBackend with 1 concurrent workers.\n",
      "[Parallel(n_jobs=1)]: Done 120 out of 120 | elapsed:  1.1min finished\n"
     ]
    },
    {
     "name": "stdout",
     "output_type": "stream",
     "text": [
      "best score: 0.5792682926829268\n",
      "Fitting 10 folds for each of 12 candidates, totalling 120 fits\n"
     ]
    },
    {
     "name": "stderr",
     "output_type": "stream",
     "text": [
      "[Parallel(n_jobs=1)]: Using backend SequentialBackend with 1 concurrent workers.\n",
      "[Parallel(n_jobs=1)]: Done 120 out of 120 | elapsed:  1.3min finished\n"
     ]
    },
    {
     "name": "stdout",
     "output_type": "stream",
     "text": [
      "best score: 0.5914634146341463\n",
      "Fitting 10 folds for each of 12 candidates, totalling 120 fits\n"
     ]
    },
    {
     "name": "stderr",
     "output_type": "stream",
     "text": [
      "[Parallel(n_jobs=1)]: Using backend SequentialBackend with 1 concurrent workers.\n",
      "[Parallel(n_jobs=1)]: Done 120 out of 120 | elapsed:   33.7s finished\n"
     ]
    },
    {
     "name": "stdout",
     "output_type": "stream",
     "text": [
      "best score: 0.5914634146341463\n",
      "Fitting 10 folds for each of 12 candidates, totalling 120 fits\n"
     ]
    },
    {
     "name": "stderr",
     "output_type": "stream",
     "text": [
      "[Parallel(n_jobs=1)]: Using backend SequentialBackend with 1 concurrent workers.\n",
      "[Parallel(n_jobs=1)]: Done 120 out of 120 | elapsed:  1.1min finished\n"
     ]
    },
    {
     "name": "stdout",
     "output_type": "stream",
     "text": [
      "best score: 0.5914634146341463\n",
      "Split: 1\n",
      "Split: 2\n",
      "Split: 3\n",
      "Split: 4\n",
      "Split: 5\n",
      "Split: 6\n",
      "Split: 7\n",
      "Split: 8\n",
      "Split: 9\n",
      "Split: 10\n",
      "Training Testing Accuracy for n_games=10 team=9 : 49.21% (8.29%)\n",
      "(184, 1874)\n",
      "(184, 1)\n",
      "X_train shape: (165, 3103)\n",
      "X_test shape: (19, 3103)\n",
      "Fitting 10 folds for each of 12 candidates, totalling 120 fits\n"
     ]
    },
    {
     "name": "stderr",
     "output_type": "stream",
     "text": [
      "[Parallel(n_jobs=1)]: Using backend SequentialBackend with 1 concurrent workers.\n",
      "[Parallel(n_jobs=1)]: Done 120 out of 120 | elapsed:   44.2s finished\n"
     ]
    },
    {
     "name": "stdout",
     "output_type": "stream",
     "text": [
      "best score: 0.6666666666666666\n",
      "Fitting 10 folds for each of 12 candidates, totalling 120 fits\n"
     ]
    },
    {
     "name": "stderr",
     "output_type": "stream",
     "text": [
      "[Parallel(n_jobs=1)]: Using backend SequentialBackend with 1 concurrent workers.\n",
      "[Parallel(n_jobs=1)]: Done 120 out of 120 | elapsed:  1.1min finished\n"
     ]
    },
    {
     "name": "stdout",
     "output_type": "stream",
     "text": [
      "best score: 0.6666666666666666\n",
      "Fitting 10 folds for each of 12 candidates, totalling 120 fits\n"
     ]
    },
    {
     "name": "stderr",
     "output_type": "stream",
     "text": [
      "[Parallel(n_jobs=1)]: Using backend SequentialBackend with 1 concurrent workers.\n",
      "[Parallel(n_jobs=1)]: Done 120 out of 120 | elapsed:   44.9s finished\n"
     ]
    },
    {
     "name": "stdout",
     "output_type": "stream",
     "text": [
      "best score: 0.6727272727272727\n",
      "Fitting 10 folds for each of 12 candidates, totalling 120 fits\n"
     ]
    },
    {
     "name": "stderr",
     "output_type": "stream",
     "text": [
      "[Parallel(n_jobs=1)]: Using backend SequentialBackend with 1 concurrent workers.\n",
      "[Parallel(n_jobs=1)]: Done 120 out of 120 | elapsed:   44.9s finished\n"
     ]
    },
    {
     "name": "stdout",
     "output_type": "stream",
     "text": [
      "best score: 0.6727272727272727\n",
      "Fitting 10 folds for each of 12 candidates, totalling 120 fits\n"
     ]
    },
    {
     "name": "stderr",
     "output_type": "stream",
     "text": [
      "[Parallel(n_jobs=1)]: Using backend SequentialBackend with 1 concurrent workers.\n",
      "[Parallel(n_jobs=1)]: Done 120 out of 120 | elapsed:   40.5s finished\n"
     ]
    },
    {
     "name": "stdout",
     "output_type": "stream",
     "text": [
      "best score: 0.6727272727272727\n",
      "Split: 1\n",
      "Split: 2\n",
      "Split: 3\n",
      "Split: 4\n",
      "Split: 5\n",
      "Split: 6\n",
      "Split: 7\n",
      "Split: 8\n",
      "Split: 9\n",
      "Split: 10\n",
      "Training Testing Accuracy for n_games=10 team=10 : 61.43% (4.81%)\n",
      "(176, 1874)\n",
      "(176, 1)\n",
      "X_train shape: (158, 3115)\n",
      "X_test shape: (18, 3115)\n",
      "Fitting 10 folds for each of 12 candidates, totalling 120 fits\n"
     ]
    },
    {
     "name": "stderr",
     "output_type": "stream",
     "text": [
      "[Parallel(n_jobs=1)]: Using backend SequentialBackend with 1 concurrent workers.\n",
      "[Parallel(n_jobs=1)]: Done 120 out of 120 | elapsed:   44.7s finished\n"
     ]
    },
    {
     "name": "stdout",
     "output_type": "stream",
     "text": [
      "best score: 0.6012658227848101\n",
      "Fitting 10 folds for each of 12 candidates, totalling 120 fits\n"
     ]
    },
    {
     "name": "stderr",
     "output_type": "stream",
     "text": [
      "[Parallel(n_jobs=1)]: Using backend SequentialBackend with 1 concurrent workers.\n",
      "[Parallel(n_jobs=1)]: Done 120 out of 120 | elapsed:   40.9s finished\n"
     ]
    },
    {
     "name": "stdout",
     "output_type": "stream",
     "text": [
      "best score: 0.6012658227848101\n",
      "Fitting 10 folds for each of 12 candidates, totalling 120 fits\n"
     ]
    },
    {
     "name": "stderr",
     "output_type": "stream",
     "text": [
      "[Parallel(n_jobs=1)]: Using backend SequentialBackend with 1 concurrent workers.\n",
      "[Parallel(n_jobs=1)]: Done 120 out of 120 | elapsed:  1.1min finished\n"
     ]
    },
    {
     "name": "stdout",
     "output_type": "stream",
     "text": [
      "best score: 0.6012658227848101\n",
      "Fitting 10 folds for each of 12 candidates, totalling 120 fits\n"
     ]
    },
    {
     "name": "stderr",
     "output_type": "stream",
     "text": [
      "[Parallel(n_jobs=1)]: Using backend SequentialBackend with 1 concurrent workers.\n",
      "[Parallel(n_jobs=1)]: Done 120 out of 120 | elapsed:  1.1min finished\n"
     ]
    },
    {
     "name": "stdout",
     "output_type": "stream",
     "text": [
      "best score: 0.6265822784810127\n",
      "Fitting 10 folds for each of 12 candidates, totalling 120 fits\n"
     ]
    },
    {
     "name": "stderr",
     "output_type": "stream",
     "text": [
      "[Parallel(n_jobs=1)]: Using backend SequentialBackend with 1 concurrent workers.\n",
      "[Parallel(n_jobs=1)]: Done 120 out of 120 | elapsed:   42.3s finished\n"
     ]
    },
    {
     "name": "stdout",
     "output_type": "stream",
     "text": [
      "best score: 0.6265822784810127\n",
      "Split: 1\n",
      "Split: 2\n",
      "Split: 3\n",
      "Split: 4\n",
      "Split: 5\n",
      "Split: 6\n",
      "Split: 7\n",
      "Split: 8\n",
      "Split: 9\n",
      "Split: 10\n",
      "Training Testing Accuracy for n_games=10 team=11 : 53.27% (10.70%)\n",
      "(177, 1874)\n",
      "(177, 1)\n",
      "X_train shape: (159, 3099)\n",
      "X_test shape: (18, 3099)\n",
      "Fitting 10 folds for each of 12 candidates, totalling 120 fits\n"
     ]
    },
    {
     "name": "stderr",
     "output_type": "stream",
     "text": [
      "[Parallel(n_jobs=1)]: Using backend SequentialBackend with 1 concurrent workers.\n",
      "[Parallel(n_jobs=1)]: Done 120 out of 120 | elapsed:   44.9s finished\n"
     ]
    },
    {
     "name": "stdout",
     "output_type": "stream",
     "text": [
      "best score: 0.559748427672956\n",
      "Fitting 10 folds for each of 12 candidates, totalling 120 fits\n"
     ]
    },
    {
     "name": "stderr",
     "output_type": "stream",
     "text": [
      "[Parallel(n_jobs=1)]: Using backend SequentialBackend with 1 concurrent workers.\n",
      "[Parallel(n_jobs=1)]: Done 120 out of 120 | elapsed:   58.0s finished\n"
     ]
    },
    {
     "name": "stdout",
     "output_type": "stream",
     "text": [
      "best score: 0.559748427672956\n",
      "Fitting 10 folds for each of 12 candidates, totalling 120 fits\n"
     ]
    },
    {
     "name": "stderr",
     "output_type": "stream",
     "text": [
      "[Parallel(n_jobs=1)]: Using backend SequentialBackend with 1 concurrent workers.\n",
      "[Parallel(n_jobs=1)]: Done 120 out of 120 | elapsed:   36.8s finished\n"
     ]
    },
    {
     "name": "stdout",
     "output_type": "stream",
     "text": [
      "best score: 0.559748427672956\n",
      "Fitting 10 folds for each of 12 candidates, totalling 120 fits\n"
     ]
    },
    {
     "name": "stderr",
     "output_type": "stream",
     "text": [
      "[Parallel(n_jobs=1)]: Using backend SequentialBackend with 1 concurrent workers.\n",
      "[Parallel(n_jobs=1)]: Done 120 out of 120 | elapsed:   28.0s finished\n"
     ]
    },
    {
     "name": "stdout",
     "output_type": "stream",
     "text": [
      "best score: 0.559748427672956\n",
      "Fitting 10 folds for each of 12 candidates, totalling 120 fits\n"
     ]
    },
    {
     "name": "stderr",
     "output_type": "stream",
     "text": [
      "[Parallel(n_jobs=1)]: Using backend SequentialBackend with 1 concurrent workers.\n",
      "[Parallel(n_jobs=1)]: Done 120 out of 120 | elapsed:   39.1s finished\n"
     ]
    },
    {
     "name": "stdout",
     "output_type": "stream",
     "text": [
      "best score: 0.559748427672956\n",
      "Split: 1\n",
      "Split: 2\n",
      "Split: 3\n",
      "Split: 4\n",
      "Split: 5\n",
      "Split: 6\n",
      "Split: 7\n",
      "Split: 8\n",
      "Split: 9\n",
      "Split: 10\n",
      "Training Testing Accuracy for n_games=10 team=12 : 56.44% (8.31%)\n",
      "(178, 1874)\n",
      "(178, 1)\n",
      "X_train shape: (160, 3128)\n",
      "X_test shape: (18, 3128)\n",
      "Fitting 10 folds for each of 12 candidates, totalling 120 fits\n"
     ]
    },
    {
     "name": "stderr",
     "output_type": "stream",
     "text": [
      "[Parallel(n_jobs=1)]: Using backend SequentialBackend with 1 concurrent workers.\n",
      "[Parallel(n_jobs=1)]: Done 120 out of 120 | elapsed:   43.9s finished\n"
     ]
    },
    {
     "name": "stdout",
     "output_type": "stream",
     "text": [
      "best score: 0.65\n",
      "Fitting 10 folds for each of 12 candidates, totalling 120 fits\n"
     ]
    },
    {
     "name": "stderr",
     "output_type": "stream",
     "text": [
      "[Parallel(n_jobs=1)]: Using backend SequentialBackend with 1 concurrent workers.\n",
      "[Parallel(n_jobs=1)]: Done 120 out of 120 | elapsed:   34.3s finished\n"
     ]
    },
    {
     "name": "stdout",
     "output_type": "stream",
     "text": [
      "best score: 0.65\n",
      "Fitting 10 folds for each of 12 candidates, totalling 120 fits\n"
     ]
    },
    {
     "name": "stderr",
     "output_type": "stream",
     "text": [
      "[Parallel(n_jobs=1)]: Using backend SequentialBackend with 1 concurrent workers.\n",
      "[Parallel(n_jobs=1)]: Done 120 out of 120 | elapsed:   35.2s finished\n"
     ]
    },
    {
     "name": "stdout",
     "output_type": "stream",
     "text": [
      "best score: 0.65\n",
      "Fitting 10 folds for each of 12 candidates, totalling 120 fits\n"
     ]
    },
    {
     "name": "stderr",
     "output_type": "stream",
     "text": [
      "[Parallel(n_jobs=1)]: Using backend SequentialBackend with 1 concurrent workers.\n",
      "[Parallel(n_jobs=1)]: Done 120 out of 120 | elapsed:   47.1s finished\n"
     ]
    },
    {
     "name": "stdout",
     "output_type": "stream",
     "text": [
      "best score: 0.6625\n",
      "Fitting 10 folds for each of 12 candidates, totalling 120 fits\n"
     ]
    },
    {
     "name": "stderr",
     "output_type": "stream",
     "text": [
      "[Parallel(n_jobs=1)]: Using backend SequentialBackend with 1 concurrent workers.\n",
      "[Parallel(n_jobs=1)]: Done 120 out of 120 | elapsed:  1.2min finished\n"
     ]
    },
    {
     "name": "stdout",
     "output_type": "stream",
     "text": [
      "best score: 0.6625\n",
      "Split: 1\n",
      "Split: 2\n",
      "Split: 3\n",
      "Split: 4\n",
      "Split: 5\n",
      "Split: 6\n",
      "Split: 7\n",
      "Split: 8\n",
      "Split: 9\n",
      "Split: 10\n",
      "Training Testing Accuracy for n_games=10 team=13 : 64.08% (12.29%)\n",
      "(181, 1874)\n",
      "(181, 1)\n",
      "X_train shape: (162, 3101)\n",
      "X_test shape: (19, 3101)\n",
      "Fitting 10 folds for each of 12 candidates, totalling 120 fits\n"
     ]
    },
    {
     "name": "stderr",
     "output_type": "stream",
     "text": [
      "[Parallel(n_jobs=1)]: Using backend SequentialBackend with 1 concurrent workers.\n",
      "[Parallel(n_jobs=1)]: Done 120 out of 120 | elapsed:   44.0s finished\n"
     ]
    },
    {
     "name": "stdout",
     "output_type": "stream",
     "text": [
      "best score: 0.6358024691358025\n",
      "Fitting 10 folds for each of 12 candidates, totalling 120 fits\n"
     ]
    },
    {
     "name": "stderr",
     "output_type": "stream",
     "text": [
      "[Parallel(n_jobs=1)]: Using backend SequentialBackend with 1 concurrent workers.\n",
      "[Parallel(n_jobs=1)]: Done 120 out of 120 | elapsed:   50.8s finished\n"
     ]
    },
    {
     "name": "stdout",
     "output_type": "stream",
     "text": [
      "best score: 0.6358024691358025\n",
      "Fitting 10 folds for each of 12 candidates, totalling 120 fits\n"
     ]
    },
    {
     "name": "stderr",
     "output_type": "stream",
     "text": [
      "[Parallel(n_jobs=1)]: Using backend SequentialBackend with 1 concurrent workers.\n",
      "[Parallel(n_jobs=1)]: Done 120 out of 120 | elapsed:   46.6s finished\n"
     ]
    },
    {
     "name": "stdout",
     "output_type": "stream",
     "text": [
      "best score: 0.6358024691358025\n",
      "Fitting 10 folds for each of 12 candidates, totalling 120 fits\n"
     ]
    },
    {
     "name": "stderr",
     "output_type": "stream",
     "text": [
      "[Parallel(n_jobs=1)]: Using backend SequentialBackend with 1 concurrent workers.\n",
      "[Parallel(n_jobs=1)]: Done 120 out of 120 | elapsed:   37.8s finished\n"
     ]
    },
    {
     "name": "stdout",
     "output_type": "stream",
     "text": [
      "best score: 0.6666666666666666\n",
      "Fitting 10 folds for each of 12 candidates, totalling 120 fits\n"
     ]
    },
    {
     "name": "stderr",
     "output_type": "stream",
     "text": [
      "[Parallel(n_jobs=1)]: Using backend SequentialBackend with 1 concurrent workers.\n",
      "[Parallel(n_jobs=1)]: Done 120 out of 120 | elapsed:   40.9s finished\n"
     ]
    },
    {
     "name": "stdout",
     "output_type": "stream",
     "text": [
      "best score: 0.6666666666666666\n",
      "Split: 1\n",
      "Split: 2\n",
      "Split: 3\n",
      "Split: 4\n",
      "Split: 5\n",
      "Split: 6\n",
      "Split: 7\n",
      "Split: 8\n",
      "Split: 9\n",
      "Split: 10\n",
      "Training Testing Accuracy for n_games=10 team=14 : 68.57% (6.65%)\n",
      "(170, 1874)\n",
      "(170, 1)\n",
      "X_train shape: (153, 3099)\n",
      "X_test shape: (17, 3099)\n",
      "Fitting 10 folds for each of 12 candidates, totalling 120 fits\n"
     ]
    },
    {
     "name": "stderr",
     "output_type": "stream",
     "text": [
      "[Parallel(n_jobs=1)]: Using backend SequentialBackend with 1 concurrent workers.\n",
      "[Parallel(n_jobs=1)]: Done 120 out of 120 | elapsed:   44.1s finished\n"
     ]
    },
    {
     "name": "stdout",
     "output_type": "stream",
     "text": [
      "best score: 0.6078431372549019\n",
      "Fitting 10 folds for each of 12 candidates, totalling 120 fits\n"
     ]
    },
    {
     "name": "stderr",
     "output_type": "stream",
     "text": [
      "[Parallel(n_jobs=1)]: Using backend SequentialBackend with 1 concurrent workers.\n",
      "[Parallel(n_jobs=1)]: Done 120 out of 120 | elapsed:   35.4s finished\n"
     ]
    },
    {
     "name": "stdout",
     "output_type": "stream",
     "text": [
      "best score: 0.6078431372549019\n",
      "Fitting 10 folds for each of 12 candidates, totalling 120 fits\n"
     ]
    },
    {
     "name": "stderr",
     "output_type": "stream",
     "text": [
      "[Parallel(n_jobs=1)]: Using backend SequentialBackend with 1 concurrent workers.\n",
      "[Parallel(n_jobs=1)]: Done 120 out of 120 | elapsed:   34.4s finished\n"
     ]
    },
    {
     "name": "stdout",
     "output_type": "stream",
     "text": [
      "best score: 0.6078431372549019\n",
      "Fitting 10 folds for each of 12 candidates, totalling 120 fits\n"
     ]
    },
    {
     "name": "stderr",
     "output_type": "stream",
     "text": [
      "[Parallel(n_jobs=1)]: Using backend SequentialBackend with 1 concurrent workers.\n",
      "[Parallel(n_jobs=1)]: Done 120 out of 120 | elapsed:   39.0s finished\n"
     ]
    },
    {
     "name": "stdout",
     "output_type": "stream",
     "text": [
      "best score: 0.6078431372549019\n",
      "Fitting 10 folds for each of 12 candidates, totalling 120 fits\n"
     ]
    },
    {
     "name": "stderr",
     "output_type": "stream",
     "text": [
      "[Parallel(n_jobs=1)]: Using backend SequentialBackend with 1 concurrent workers.\n",
      "[Parallel(n_jobs=1)]: Done 120 out of 120 | elapsed:   37.2s finished\n"
     ]
    },
    {
     "name": "stdout",
     "output_type": "stream",
     "text": [
      "best score: 0.6078431372549019\n",
      "Split: 1\n",
      "Split: 2\n",
      "Split: 3\n",
      "Split: 4\n",
      "Split: 5\n",
      "Split: 6\n",
      "Split: 7\n",
      "Split: 8\n",
      "Split: 9\n",
      "Split: 10\n",
      "Training Testing Accuracy for n_games=10 team=15 : 62.35% (2.88%)\n",
      "(186, 1874)\n",
      "(186, 1)\n",
      "X_train shape: (167, 3114)\n",
      "X_test shape: (19, 3114)\n",
      "Fitting 10 folds for each of 12 candidates, totalling 120 fits\n"
     ]
    },
    {
     "name": "stderr",
     "output_type": "stream",
     "text": [
      "[Parallel(n_jobs=1)]: Using backend SequentialBackend with 1 concurrent workers.\n",
      "[Parallel(n_jobs=1)]: Done 120 out of 120 | elapsed:   45.4s finished\n"
     ]
    },
    {
     "name": "stdout",
     "output_type": "stream",
     "text": [
      "best score: 0.6646706586826348\n",
      "Fitting 10 folds for each of 12 candidates, totalling 120 fits\n"
     ]
    },
    {
     "name": "stderr",
     "output_type": "stream",
     "text": [
      "[Parallel(n_jobs=1)]: Using backend SequentialBackend with 1 concurrent workers.\n",
      "[Parallel(n_jobs=1)]: Done 120 out of 120 | elapsed:  1.1min finished\n"
     ]
    },
    {
     "name": "stdout",
     "output_type": "stream",
     "text": [
      "best score: 0.6646706586826348\n",
      "Fitting 10 folds for each of 12 candidates, totalling 120 fits\n"
     ]
    },
    {
     "name": "stderr",
     "output_type": "stream",
     "text": [
      "[Parallel(n_jobs=1)]: Using backend SequentialBackend with 1 concurrent workers.\n",
      "[Parallel(n_jobs=1)]: Done 120 out of 120 | elapsed:   53.9s finished\n"
     ]
    },
    {
     "name": "stdout",
     "output_type": "stream",
     "text": [
      "best score: 0.6646706586826348\n",
      "Fitting 10 folds for each of 12 candidates, totalling 120 fits\n"
     ]
    },
    {
     "name": "stderr",
     "output_type": "stream",
     "text": [
      "[Parallel(n_jobs=1)]: Using backend SequentialBackend with 1 concurrent workers.\n",
      "[Parallel(n_jobs=1)]: Done 120 out of 120 | elapsed:   36.7s finished\n"
     ]
    },
    {
     "name": "stdout",
     "output_type": "stream",
     "text": [
      "best score: 0.6646706586826348\n",
      "Fitting 10 folds for each of 12 candidates, totalling 120 fits\n"
     ]
    },
    {
     "name": "stderr",
     "output_type": "stream",
     "text": [
      "[Parallel(n_jobs=1)]: Using backend SequentialBackend with 1 concurrent workers.\n",
      "[Parallel(n_jobs=1)]: Done 120 out of 120 | elapsed:   35.8s finished\n"
     ]
    },
    {
     "name": "stdout",
     "output_type": "stream",
     "text": [
      "best score: 0.6766467065868264\n",
      "Split: 1\n",
      "Split: 2\n",
      "Split: 3\n",
      "Split: 4\n",
      "Split: 5\n",
      "Split: 6\n",
      "Split: 7\n",
      "Split: 8\n",
      "Split: 9\n",
      "Split: 10\n",
      "Training Testing Accuracy for n_games=10 team=16 : 59.04% (11.08%)\n",
      "(181, 1874)\n",
      "(181, 1)\n",
      "X_train shape: (162, 3113)\n",
      "X_test shape: (19, 3113)\n",
      "Fitting 10 folds for each of 12 candidates, totalling 120 fits\n"
     ]
    },
    {
     "name": "stderr",
     "output_type": "stream",
     "text": [
      "[Parallel(n_jobs=1)]: Using backend SequentialBackend with 1 concurrent workers.\n",
      "[Parallel(n_jobs=1)]: Done 120 out of 120 | elapsed:   44.9s finished\n"
     ]
    },
    {
     "name": "stdout",
     "output_type": "stream",
     "text": [
      "best score: 0.6049382716049383\n",
      "Fitting 10 folds for each of 12 candidates, totalling 120 fits\n"
     ]
    },
    {
     "name": "stderr",
     "output_type": "stream",
     "text": [
      "[Parallel(n_jobs=1)]: Using backend SequentialBackend with 1 concurrent workers.\n",
      "[Parallel(n_jobs=1)]: Done 120 out of 120 | elapsed:   33.9s finished\n"
     ]
    },
    {
     "name": "stdout",
     "output_type": "stream",
     "text": [
      "best score: 0.6049382716049383\n",
      "Fitting 10 folds for each of 12 candidates, totalling 120 fits\n"
     ]
    },
    {
     "name": "stderr",
     "output_type": "stream",
     "text": [
      "[Parallel(n_jobs=1)]: Using backend SequentialBackend with 1 concurrent workers.\n",
      "[Parallel(n_jobs=1)]: Done 120 out of 120 | elapsed:   34.0s finished\n"
     ]
    },
    {
     "name": "stdout",
     "output_type": "stream",
     "text": [
      "best score: 0.6049382716049383\n",
      "Fitting 10 folds for each of 12 candidates, totalling 120 fits\n"
     ]
    },
    {
     "name": "stderr",
     "output_type": "stream",
     "text": [
      "[Parallel(n_jobs=1)]: Using backend SequentialBackend with 1 concurrent workers.\n",
      "[Parallel(n_jobs=1)]: Done 120 out of 120 | elapsed:   34.4s finished\n"
     ]
    },
    {
     "name": "stdout",
     "output_type": "stream",
     "text": [
      "best score: 0.6049382716049383\n",
      "Fitting 10 folds for each of 12 candidates, totalling 120 fits\n"
     ]
    },
    {
     "name": "stderr",
     "output_type": "stream",
     "text": [
      "[Parallel(n_jobs=1)]: Using backend SequentialBackend with 1 concurrent workers.\n",
      "[Parallel(n_jobs=1)]: Done 120 out of 120 | elapsed:   33.5s finished\n"
     ]
    },
    {
     "name": "stdout",
     "output_type": "stream",
     "text": [
      "best score: 0.6111111111111112\n",
      "Split: 1\n",
      "Split: 2\n",
      "Split: 3\n",
      "Split: 4\n",
      "Split: 5\n",
      "Split: 6\n",
      "Split: 7\n",
      "Split: 8\n",
      "Split: 9\n",
      "Split: 10\n",
      "Training Testing Accuracy for n_games=10 team=17 : 58.01% (7.90%)\n",
      "(180, 1874)\n",
      "(180, 1)\n",
      "X_train shape: (162, 3127)\n",
      "X_test shape: (18, 3127)\n",
      "Fitting 10 folds for each of 12 candidates, totalling 120 fits\n"
     ]
    },
    {
     "name": "stderr",
     "output_type": "stream",
     "text": [
      "[Parallel(n_jobs=1)]: Using backend SequentialBackend with 1 concurrent workers.\n",
      "[Parallel(n_jobs=1)]: Done 120 out of 120 | elapsed:   45.3s finished\n"
     ]
    },
    {
     "name": "stdout",
     "output_type": "stream",
     "text": [
      "best score: 0.5493827160493827\n",
      "Fitting 10 folds for each of 12 candidates, totalling 120 fits\n"
     ]
    },
    {
     "name": "stderr",
     "output_type": "stream",
     "text": [
      "[Parallel(n_jobs=1)]: Using backend SequentialBackend with 1 concurrent workers.\n",
      "[Parallel(n_jobs=1)]: Done 120 out of 120 | elapsed:   39.8s finished\n"
     ]
    },
    {
     "name": "stdout",
     "output_type": "stream",
     "text": [
      "best score: 0.5493827160493827\n",
      "Fitting 10 folds for each of 12 candidates, totalling 120 fits\n"
     ]
    },
    {
     "name": "stderr",
     "output_type": "stream",
     "text": [
      "[Parallel(n_jobs=1)]: Using backend SequentialBackend with 1 concurrent workers.\n",
      "[Parallel(n_jobs=1)]: Done 120 out of 120 | elapsed:   44.2s finished\n"
     ]
    },
    {
     "name": "stdout",
     "output_type": "stream",
     "text": [
      "best score: 0.6172839506172839\n",
      "Fitting 10 folds for each of 12 candidates, totalling 120 fits\n"
     ]
    },
    {
     "name": "stderr",
     "output_type": "stream",
     "text": [
      "[Parallel(n_jobs=1)]: Using backend SequentialBackend with 1 concurrent workers.\n",
      "[Parallel(n_jobs=1)]: Done 120 out of 120 | elapsed:   58.3s finished\n"
     ]
    },
    {
     "name": "stdout",
     "output_type": "stream",
     "text": [
      "best score: 0.6172839506172839\n",
      "Fitting 10 folds for each of 12 candidates, totalling 120 fits\n"
     ]
    },
    {
     "name": "stderr",
     "output_type": "stream",
     "text": [
      "[Parallel(n_jobs=1)]: Using backend SequentialBackend with 1 concurrent workers.\n",
      "[Parallel(n_jobs=1)]: Done 120 out of 120 | elapsed:   58.4s finished\n"
     ]
    },
    {
     "name": "stdout",
     "output_type": "stream",
     "text": [
      "best score: 0.6172839506172839\n",
      "Split: 1\n",
      "Split: 2\n",
      "Split: 3\n",
      "Split: 4\n",
      "Split: 5\n",
      "Split: 6\n",
      "Split: 7\n",
      "Split: 8\n",
      "Split: 9\n",
      "Split: 10\n",
      "Training Testing Accuracy for n_games=10 team=18 : 54.44% (5.44%)\n",
      "Accuracy for Team Models for n_games= 10 : 59.12% (7.12%)\n"
     ]
    }
   ],
   "source": [
    "import warnings\n",
    "warnings.filterwarnings('ignore')\n",
    "for n in range(1,11):\n",
    "    averages = []\n",
    "    for tn in range(1,19):\n",
    "        a = run_team_models(n, tn)\n",
    "        averages.append(a)\n",
    "    print(\"Accuracy for Team Models for n_games= \"+str(n)+\" : %.2f%% (%.2f%%)\" % (np.mean(averages), np.std(averages)))"
   ]
  },
  {
   "cell_type": "markdown",
   "metadata": {},
   "source": [
    "# Nearest Centroid"
   ]
  },
  {
   "cell_type": "code",
   "execution_count": 7,
   "metadata": {},
   "outputs": [],
   "source": [
    "import pandas as pd\n",
    "import numpy as np\n",
    "from sklearn.model_selection import train_test_split\n",
    "from Gather_AFL_Data import gatherer as gad\n",
    "from sklearn.preprocessing import OneHotEncoder\n",
    "from sklearn.model_selection import StratifiedKFold\n",
    "import pickle\n",
    "from sklearn.neighbors import NearestCentroid\n",
    "import re\n",
    "from numpy import arange\n",
    "from sklearn.datasets import make_classification\n",
    "from sklearn.model_selection import GridSearchCV\n",
    "from sklearn.model_selection import RepeatedStratifiedKFold\n",
    "from sklearn.neighbors import NearestCentroid\n",
    "from sklearn.svm import NuSVC\n",
    "from sklearn.naive_bayes import BernoulliNB"
   ]
  },
  {
   "cell_type": "code",
   "execution_count": 6,
   "metadata": {},
   "outputs": [],
   "source": [
    "def load_data(n_games):\n",
    "    h = get_headers(n_games)\n",
    "    h = clean_headers(h)\n",
    "    cv = generate_categorical_headers(h)\n",
    "\n",
    "    #to get names of teams from index\n",
    "    g = gad()\n",
    "    teams = g.createTeamDict()\n",
    "\n",
    "    #load Data\n",
    "    x_data = pd.read_csv('Data/assembled_stat_matrix_no2020'+str(n_games)+'_games.csv')\n",
    "\n",
    "    #make empty OHE object\n",
    "    na_enc = OneHotEncoder(handle_unknown='ignore', sparse=False)\n",
    "\n",
    "    #one hot encode data with new one hot encoder, saves ohe for later use\n",
    "    x_data, ohe = ohe_data(x_data, na_enc, 0, cv)\n",
    "\n",
    "    #reset headers\n",
    "    feature_names = x_data.columns\n",
    "\n",
    "    #loads the ylabel matrix,\n",
    "    y_label = pd.read_csv('Data/assembled_labelled_ymatrix_no2020'+str(n_games)+'_games.csv')\n",
    "\n",
    "    #loads margin as the y_label\n",
    "    margin_label = pd.read_csv('Data/assembled_margin_ymatrix_no2020'+str(n_games)+'_games.csv')\n",
    "\n",
    "    print(margin_label.shape)\n",
    "    print(y_label.shape)\n",
    "    print(x_data.shape)\n",
    "\n",
    "    #regex solution which is apparently necessary??\n",
    "    regex = re.compile(r\"\\[|\\]|<\", re.IGNORECASE)\n",
    "    x_data.columns = [regex.sub(\"_\", col) if any(x in str(col) for x in set(('[', ']', '<'))) else col for col in x_data.columns.values]\n",
    "    return x_data, y_label"
   ]
  },
  {
   "cell_type": "code",
   "execution_count": null,
   "metadata": {},
   "outputs": [],
   "source": [
    "def params_NC(x_data, y_label):\n",
    "# define model\n",
    "    print(\"optimising hyperparameters\")\n",
    "    model = NearestCentroid()\n",
    "    # define model evaluation method\n",
    "    cv = RepeatedStratifiedKFold(n_splits=10, n_repeats=3, random_state=1)\n",
    "    # define grid\n",
    "    grid = dict()\n",
    "    grid['shrink_threshold'] = arange(0, 1.01, 0.01)\n",
    "    grid['metric'] = ['euclidean', 'manhattan']\n",
    "    # define search\n",
    "    search = GridSearchCV(model, grid, scoring='accuracy', cv=cv, n_jobs=-1)\n",
    "    # perform the search\n",
    "    results = search.fit(x_data, y_label.values.ravel())\n",
    "    # summarize\n",
    "    print('Mean Accuracy: %.3f' % results.best_score_)\n",
    "    print('Config: %s' % results.best_params_)\n",
    "    return results.best_params_"
   ]
  },
  {
   "cell_type": "code",
   "execution_count": null,
   "metadata": {},
   "outputs": [],
   "source": [
    "def eval_NC(x, y, m):\n",
    "    cv = StratifiedKFold(n_splits=10, shuffle=True)\n",
    "    results = []\n",
    "    print(x)\n",
    "    count = 0\n",
    "    best_w = m\n",
    "    high_w = 0\n",
    "    for train,test in cv.split(x,y):\n",
    "        count = count + 1\n",
    "        print(\"Split: \" + str(count))\n",
    "        x_train = x.loc[train]\n",
    "        y_train = y.loc[train].values.ravel()\n",
    "        x_test = x.loc[test]\n",
    "        y_test = y.loc[test]\n",
    "        m.fit(x_train,y_train)\n",
    "        y_pred = m.predict(x_test)\n",
    "        predictions = [round(value) for value in y_pred]\n",
    "        #sees how accurate the model was when testing the test set\n",
    "        accuracy = accuracy_score(y_test, predictions)\n",
    "        pcent = accuracy * 100.0\n",
    "        results.append(pcent)\n",
    "        if(pcent > high_w):\n",
    "            print(\"found new best classify\")\n",
    "            best_w = m\n",
    "            high_w = pcent\n",
    "    print(\"Best win percentage split = \" +str(high_w))\n",
    "    print(\"Training Testing Accuracy: %.2f%% (%.2f%%)\" % (np.mean(results), np.std(results)))\n",
    "    return best_w"
   ]
  },
  {
   "cell_type": "code",
   "execution_count": null,
   "metadata": {
    "scrolled": true
   },
   "outputs": [],
   "source": [
    "def run_all_NC(n):\n",
    "    x_data, y_label = load_data(n)\n",
    "    best_params = params_NC(x_data, y_label)\n",
    "    model = NearestCentroid(**best_params)\n",
    "    best_NC_clas = eval_NC(x_data, y_label, model)\n",
    "    pickle.dump(best_NC_clas, open(\"Models/best_NC_clas_no2020\"+str(n_games)+'_games.sav', 'wb'))"
   ]
  },
  {
   "cell_type": "code",
   "execution_count": null,
   "metadata": {},
   "outputs": [],
   "source": [
    "n_games = [1,2,3,4,5,6,7,10]\n",
    "for n in n_games:\n",
    "    run_all_NC(n)"
   ]
  },
  {
   "cell_type": "markdown",
   "metadata": {},
   "source": [
    "# BernoulliNB"
   ]
  },
  {
   "cell_type": "code",
   "execution_count": 23,
   "metadata": {},
   "outputs": [],
   "source": [
    "def params_BNB(x_data, y_label):\n",
    "# define model\n",
    "    print(\"optimising hyperparameters\")\n",
    "    model = BernoulliNB()\n",
    "    # define model evaluation method\n",
    "    cv = RepeatedStratifiedKFold(n_splits=10, n_repeats=3, random_state=1)\n",
    "    # define grid\n",
    "    grid = dict()\n",
    "    grid['alpha'] = arange(0.01, 1.01, 0.01)\n",
    "    # define search\n",
    "    search = GridSearchCV(model, grid, scoring='accuracy', cv=cv, n_jobs=1, verbose=1)\n",
    "    # perform the search\n",
    "    results = search.fit(x_data, y_label.values.ravel())\n",
    "    # summarize\n",
    "    print('Mean Accuracy: %.3f' % results.best_score_)\n",
    "    print('Config: %s' % results.best_params_)\n",
    "    return results.best_params_"
   ]
  },
  {
   "cell_type": "code",
   "execution_count": 18,
   "metadata": {},
   "outputs": [],
   "source": [
    "def eval_BNB(x, y, m):\n",
    "    cv = StratifiedKFold(n_splits=10, shuffle=True)\n",
    "    results = []\n",
    "    print(x)\n",
    "    count = 0\n",
    "    best_w = m\n",
    "    high_w = 0\n",
    "    for train,test in cv.split(x,y):\n",
    "        count = count + 1\n",
    "        print(\"Split: \" + str(count))\n",
    "        x_train = x.loc[train]\n",
    "        y_train = y.loc[train].values.ravel()\n",
    "        x_test = x.loc[test]\n",
    "        y_test = y.loc[test]\n",
    "        m.fit(x_train,y_train)\n",
    "        y_pred = m.predict(x_test)\n",
    "        predictions = [round(value) for value in y_pred]\n",
    "        #sees how accurate the model was when testing the test set\n",
    "        accuracy = accuracy_score(y_test, predictions)\n",
    "        pcent = accuracy * 100.0\n",
    "        results.append(pcent)\n",
    "        if(pcent > high_w):\n",
    "            print(\"found new best classify\")\n",
    "            best_w = m\n",
    "            high_w = pcent\n",
    "    print(\"Best win percentage split = \" +str(high_w))\n",
    "    print(\"Training Testing Accuracy: %.2f%% (%.2f%%)\" % (np.mean(results), np.std(results)))\n",
    "    return best_w"
   ]
  },
  {
   "cell_type": "code",
   "execution_count": 19,
   "metadata": {},
   "outputs": [],
   "source": [
    "def run_all_BNB(n):\n",
    "    x_data, y_label = load_data(n)\n",
    "    best_params = params_BNB(x_data, y_label)\n",
    "    model = BernoulliNB(**best_params)\n",
    "    best_BNB_clas = eval_BNB(x_data, y_label, model)\n",
    "    pickle.dump(best_BNB_clas, open(\"Models/best_BNB_clas_no2020\"+str(n_games)+'_games.sav', 'wb'))"
   ]
  },
  {
   "cell_type": "code",
   "execution_count": 24,
   "metadata": {
    "scrolled": true
   },
   "outputs": [
    {
     "name": "stdout",
     "output_type": "stream",
     "text": [
      "(1646, 1)\n",
      "(1646, 1)\n",
      "(1646, 409)\n",
      "optimising hyperparameters\n",
      "Fitting 30 folds for each of 100 candidates, totalling 3000 fits\n"
     ]
    },
    {
     "name": "stderr",
     "output_type": "stream",
     "text": [
      "[Parallel(n_jobs=1)]: Using backend SequentialBackend with 1 concurrent workers.\n",
      "[Parallel(n_jobs=1)]: Done 3000 out of 3000 | elapsed:   56.7s finished\n"
     ]
    },
    {
     "name": "stdout",
     "output_type": "stream",
     "text": [
      "Mean Accuracy: 0.602\n",
      "Config: {'alpha': 0.89}\n",
      "      Ladder Pos_H  Form_H  Season Wins_H  Season Loss_H  Season Draw_H  \\\n",
      "0             12.0     0.0            0.0            1.0            0.0   \n",
      "1              4.0     1.0            1.0            0.0            0.0   \n",
      "2              2.0     1.0            1.0            0.0            0.0   \n",
      "3             17.0     0.0            0.0            1.0            0.0   \n",
      "4              1.0     1.0            1.0            0.0            0.0   \n",
      "...            ...     ...            ...            ...            ...   \n",
      "1641           3.0     0.0           16.0            6.0            0.0   \n",
      "1642           4.0     1.0           15.0            7.0            0.0   \n",
      "1643           1.0     1.0           17.0            4.0            1.0   \n",
      "1644           2.0     1.0           17.0            5.0            0.0   \n",
      "1645           1.0     1.0           17.0            4.0            1.0   \n",
      "\n",
      "      H_H/A? n-1  H_H/A Win? n-1  H_Points For n-1  H_Points Against n-1  \\\n",
      "0            1.0             0.0              77.0                  90.0   \n",
      "1            1.0             1.0             106.0                  76.0   \n",
      "2            0.0             0.0             127.0                  59.0   \n",
      "3            1.0             0.0              59.0                 127.0   \n",
      "4            1.0             1.0             133.0                  54.0   \n",
      "...          ...             ...               ...                   ...   \n",
      "1641         1.0             0.0              43.0                  86.0   \n",
      "1642         1.0             0.0              60.0                  93.0   \n",
      "1643         0.0             0.0              93.0                  60.0   \n",
      "1644         0.0             0.0              86.0                  43.0   \n",
      "1645         0.0             0.0             125.0                  42.0   \n",
      "\n",
      "      H_Margin n-1  ...  A_Venue n-1_Mars Stadium  A_Venue n-1_Marvel Stadium  \\\n",
      "0            -13.0  ...                       0.0                         0.0   \n",
      "1             30.0  ...                       0.0                         0.0   \n",
      "2             68.0  ...                       0.0                         0.0   \n",
      "3            -68.0  ...                       0.0                         0.0   \n",
      "4             79.0  ...                       0.0                         0.0   \n",
      "...            ...  ...                       ...                         ...   \n",
      "1641         -43.0  ...                       0.0                         0.0   \n",
      "1642         -33.0  ...                       0.0                         0.0   \n",
      "1643          33.0  ...                       0.0                         0.0   \n",
      "1644          43.0  ...                       0.0                         0.0   \n",
      "1645          83.0  ...                       0.0                         0.0   \n",
      "\n",
      "      A_Venue n-1_Metricon Stadium  A_Venue n-1_Optus Stadium  \\\n",
      "0                              0.0                        0.0   \n",
      "1                              1.0                        0.0   \n",
      "2                              0.0                        0.0   \n",
      "3                              0.0                        0.0   \n",
      "4                              0.0                        0.0   \n",
      "...                            ...                        ...   \n",
      "1641                           0.0                        0.0   \n",
      "1642                           0.0                        0.0   \n",
      "1643                           0.0                        1.0   \n",
      "1644                           0.0                        0.0   \n",
      "1645                           0.0                        0.0   \n",
      "\n",
      "      A_Venue n-1_Riverway Stadium  A_Venue n-1_SCG  A_Venue n-1_TIO Stadium  \\\n",
      "0                              0.0              0.0                      0.0   \n",
      "1                              0.0              0.0                      0.0   \n",
      "2                              0.0              0.0                      0.0   \n",
      "3                              0.0              0.0                      0.0   \n",
      "4                              0.0              0.0                      0.0   \n",
      "...                            ...              ...                      ...   \n",
      "1641                           0.0              0.0                      0.0   \n",
      "1642                           0.0              0.0                      0.0   \n",
      "1643                           0.0              0.0                      0.0   \n",
      "1644                           0.0              0.0                      0.0   \n",
      "1645                           0.0              0.0                      0.0   \n",
      "\n",
      "      A_Venue n-1_TIO Traeger Park  \\\n",
      "0                              0.0   \n",
      "1                              0.0   \n",
      "2                              0.0   \n",
      "3                              0.0   \n",
      "4                              0.0   \n",
      "...                            ...   \n",
      "1641                           0.0   \n",
      "1642                           0.0   \n",
      "1643                           0.0   \n",
      "1644                           0.0   \n",
      "1645                           0.0   \n",
      "\n",
      "      A_Venue n-1_University of Tasmania Stadium  A_Venue n-1_Westpac Stadium  \n",
      "0                                            0.0                          0.0  \n",
      "1                                            0.0                          0.0  \n",
      "2                                            0.0                          0.0  \n",
      "3                                            0.0                          0.0  \n",
      "4                                            0.0                          0.0  \n",
      "...                                          ...                          ...  \n",
      "1641                                         1.0                          0.0  \n",
      "1642                                         1.0                          0.0  \n",
      "1643                                         0.0                          0.0  \n",
      "1644                                         0.0                          0.0  \n",
      "1645                                         0.0                          0.0  \n",
      "\n",
      "[1646 rows x 409 columns]\n",
      "Split: 1\n",
      "found new best classify\n",
      "Split: 2\n",
      "Split: 3\n",
      "found new best classify\n",
      "Split: 4\n",
      "Split: 5\n",
      "Split: 6\n",
      "Split: 7\n",
      "Split: 8\n",
      "Split: 9\n",
      "Split: 10\n",
      "Best win percentage split = 66.66666666666666\n",
      "Training Testing Accuracy: 60.20% (4.04%)\n",
      "(1637, 1)\n",
      "(1637, 1)\n",
      "(1637, 722)\n",
      "optimising hyperparameters\n",
      "Fitting 30 folds for each of 100 candidates, totalling 3000 fits\n"
     ]
    },
    {
     "name": "stderr",
     "output_type": "stream",
     "text": [
      "[Parallel(n_jobs=1)]: Using backend SequentialBackend with 1 concurrent workers.\n",
      "[Parallel(n_jobs=1)]: Done 3000 out of 3000 | elapsed:  1.4min finished\n"
     ]
    },
    {
     "name": "stdout",
     "output_type": "stream",
     "text": [
      "Mean Accuracy: 0.599\n",
      "Config: {'alpha': 0.7000000000000001}\n",
      "      Ladder Pos_H  Form_H  Season Wins_H  Season Loss_H  Season Draw_H  \\\n",
      "0              4.0     2.0            2.0            0.0            0.0   \n",
      "1             12.0     0.0            0.0            2.0            0.0   \n",
      "2             18.0     0.0            0.0            2.0            0.0   \n",
      "3             16.0     0.0            0.0            2.0            0.0   \n",
      "4             11.0     1.0            1.0            1.0            0.0   \n",
      "...            ...     ...            ...            ...            ...   \n",
      "1632           3.0     1.0           16.0            6.0            0.0   \n",
      "1633           4.0     2.0           15.0            7.0            0.0   \n",
      "1634           1.0     2.0           17.0            4.0            1.0   \n",
      "1635           2.0     2.0           17.0            5.0            0.0   \n",
      "1636           1.0     2.0           17.0            4.0            1.0   \n",
      "\n",
      "      H_H/A? n-1  H_H/A Win? n-1  H_Points For n-1  H_Points Against n-1  \\\n",
      "0            1.0             1.0             106.0                  78.0   \n",
      "1            1.0             0.0             108.0                 112.0   \n",
      "2            1.0             0.0              36.0                 184.0   \n",
      "3            1.0             0.0              78.0                 134.0   \n",
      "4            1.0             0.0              73.0                 114.0   \n",
      "...          ...             ...               ...                   ...   \n",
      "1632         1.0             0.0              43.0                  86.0   \n",
      "1633         1.0             0.0              60.0                  93.0   \n",
      "1634         0.0             0.0              93.0                  60.0   \n",
      "1635         0.0             0.0              86.0                  43.0   \n",
      "1636         0.0             0.0             125.0                  42.0   \n",
      "\n",
      "      H_Margin n-1  ...  A_Venue n-2_Manuka Oval  A_Venue n-2_Mars Stadium  \\\n",
      "0             28.0  ...                      0.0                       0.0   \n",
      "1             -4.0  ...                      0.0                       0.0   \n",
      "2           -148.0  ...                      0.0                       0.0   \n",
      "3            -56.0  ...                      0.0                       0.0   \n",
      "4            -41.0  ...                      0.0                       0.0   \n",
      "...            ...  ...                      ...                       ...   \n",
      "1632         -43.0  ...                      0.0                       0.0   \n",
      "1633         -33.0  ...                      0.0                       0.0   \n",
      "1634          33.0  ...                      0.0                       0.0   \n",
      "1635          43.0  ...                      0.0                       0.0   \n",
      "1636          83.0  ...                      0.0                       0.0   \n",
      "\n",
      "      A_Venue n-2_Marvel Stadium  A_Venue n-2_Metricon Stadium  \\\n",
      "0                            0.0                           0.0   \n",
      "1                            0.0                           0.0   \n",
      "2                            0.0                           0.0   \n",
      "3                            0.0                           1.0   \n",
      "4                            1.0                           0.0   \n",
      "...                          ...                           ...   \n",
      "1632                         1.0                           0.0   \n",
      "1633                         1.0                           0.0   \n",
      "1634                         0.0                           0.0   \n",
      "1635                         0.0                           0.0   \n",
      "1636                         0.0                           0.0   \n",
      "\n",
      "      A_Venue n-2_Optus Stadium  A_Venue n-2_SCG  A_Venue n-2_TIO Stadium  \\\n",
      "0                           0.0              0.0                      0.0   \n",
      "1                           0.0              0.0                      0.0   \n",
      "2                           0.0              0.0                      0.0   \n",
      "3                           0.0              0.0                      0.0   \n",
      "4                           0.0              0.0                      0.0   \n",
      "...                         ...              ...                      ...   \n",
      "1632                        0.0              0.0                      0.0   \n",
      "1633                        0.0              0.0                      0.0   \n",
      "1634                        0.0              0.0                      0.0   \n",
      "1635                        0.0              0.0                      0.0   \n",
      "1636                        0.0              0.0                      0.0   \n",
      "\n",
      "      A_Venue n-2_TIO Traeger Park  \\\n",
      "0                              0.0   \n",
      "1                              0.0   \n",
      "2                              0.0   \n",
      "3                              0.0   \n",
      "4                              0.0   \n",
      "...                            ...   \n",
      "1632                           0.0   \n",
      "1633                           0.0   \n",
      "1634                           0.0   \n",
      "1635                           0.0   \n",
      "1636                           0.0   \n",
      "\n",
      "      A_Venue n-2_University of Tasmania Stadium  A_Venue n-2_Westpac Stadium  \n",
      "0                                            0.0                          0.0  \n",
      "1                                            0.0                          0.0  \n",
      "2                                            0.0                          0.0  \n",
      "3                                            0.0                          0.0  \n",
      "4                                            0.0                          0.0  \n",
      "...                                          ...                          ...  \n",
      "1632                                         0.0                          0.0  \n",
      "1633                                         0.0                          0.0  \n",
      "1634                                         0.0                          0.0  \n",
      "1635                                         1.0                          0.0  \n",
      "1636                                         0.0                          0.0  \n",
      "\n",
      "[1637 rows x 722 columns]\n",
      "Split: 1\n",
      "found new best classify\n",
      "Split: 2\n",
      "found new best classify\n",
      "Split: 3\n",
      "Split: 4\n",
      "Split: 5\n",
      "Split: 6\n",
      "found new best classify\n",
      "Split: 7\n",
      "Split: 8\n",
      "Split: 9\n",
      "Split: 10\n",
      "Best win percentage split = 67.07317073170732\n",
      "Training Testing Accuracy: 60.54% (3.92%)\n",
      "(1628, 1)\n",
      "(1628, 1)\n",
      "(1628, 1036)\n",
      "optimising hyperparameters\n",
      "Fitting 30 folds for each of 100 candidates, totalling 3000 fits\n"
     ]
    },
    {
     "name": "stderr",
     "output_type": "stream",
     "text": [
      "[Parallel(n_jobs=1)]: Using backend SequentialBackend with 1 concurrent workers.\n",
      "[Parallel(n_jobs=1)]: Done 3000 out of 3000 | elapsed:  1.9min finished\n"
     ]
    },
    {
     "name": "stdout",
     "output_type": "stream",
     "text": [
      "Mean Accuracy: 0.611\n",
      "Config: {'alpha': 0.46}\n",
      "      Ladder Pos_H  Form_H  Season Wins_H  Season Loss_H  Season Draw_H  \\\n",
      "0              3.0     3.0            3.0            0.0            0.0   \n",
      "1              6.0     2.0            2.0            1.0            0.0   \n",
      "2              4.0     3.0            3.0            0.0            0.0   \n",
      "3              9.0     1.0            1.0            2.0            0.0   \n",
      "4             10.0     1.0            1.0            2.0            0.0   \n",
      "...            ...     ...            ...            ...            ...   \n",
      "1623           3.0     1.0           16.0            6.0            0.0   \n",
      "1624           4.0     3.0           15.0            7.0            0.0   \n",
      "1625           1.0     3.0           17.0            4.0            1.0   \n",
      "1626           2.0     3.0           17.0            5.0            0.0   \n",
      "1627           1.0     3.0           17.0            4.0            1.0   \n",
      "\n",
      "      H_H/A? n-1  H_H/A Win? n-1  H_Points For n-1  H_Points Against n-1  \\\n",
      "0            1.0             1.0             131.0                  92.0   \n",
      "1            1.0             1.0             145.0                  90.0   \n",
      "2            0.0             0.0             135.0                  68.0   \n",
      "3            1.0             1.0             140.0                  68.0   \n",
      "4            1.0             1.0             177.0                  83.0   \n",
      "...          ...             ...               ...                   ...   \n",
      "1623         1.0             0.0              43.0                  86.0   \n",
      "1624         1.0             0.0              60.0                  93.0   \n",
      "1625         0.0             0.0              93.0                  60.0   \n",
      "1626         0.0             0.0              86.0                  43.0   \n",
      "1627         0.0             0.0             125.0                  42.0   \n",
      "\n",
      "      H_Margin n-1  ...  A_Venue n-3_Mars Stadium  A_Venue n-3_Marvel Stadium  \\\n",
      "0             39.0  ...                       0.0                         0.0   \n",
      "1             55.0  ...                       0.0                         0.0   \n",
      "2             67.0  ...                       0.0                         1.0   \n",
      "3             72.0  ...                       0.0                         0.0   \n",
      "4             94.0  ...                       0.0                         0.0   \n",
      "...            ...  ...                       ...                         ...   \n",
      "1623         -43.0  ...                       0.0                         1.0   \n",
      "1624         -33.0  ...                       0.0                         0.0   \n",
      "1625          33.0  ...                       0.0                         0.0   \n",
      "1626          43.0  ...                       0.0                         1.0   \n",
      "1627          83.0  ...                       0.0                         0.0   \n",
      "\n",
      "      A_Venue n-3_Metricon Stadium  A_Venue n-3_Optus Stadium  \\\n",
      "0                              0.0                        0.0   \n",
      "1                              0.0                        0.0   \n",
      "2                              0.0                        0.0   \n",
      "3                              0.0                        0.0   \n",
      "4                              0.0                        0.0   \n",
      "...                            ...                        ...   \n",
      "1623                           0.0                        0.0   \n",
      "1624                           0.0                        0.0   \n",
      "1625                           0.0                        0.0   \n",
      "1626                           0.0                        0.0   \n",
      "1627                           0.0                        0.0   \n",
      "\n",
      "      A_Venue n-3_Riverway Stadium  A_Venue n-3_SCG  A_Venue n-3_TIO Stadium  \\\n",
      "0                              0.0              0.0                      0.0   \n",
      "1                              0.0              0.0                      0.0   \n",
      "2                              0.0              0.0                      0.0   \n",
      "3                              0.0              0.0                      0.0   \n",
      "4                              0.0              0.0                      0.0   \n",
      "...                            ...              ...                      ...   \n",
      "1623                           0.0              0.0                      0.0   \n",
      "1624                           0.0              0.0                      0.0   \n",
      "1625                           0.0              0.0                      0.0   \n",
      "1626                           0.0              0.0                      0.0   \n",
      "1627                           0.0              0.0                      0.0   \n",
      "\n",
      "      A_Venue n-3_TIO Traeger Park  \\\n",
      "0                              0.0   \n",
      "1                              0.0   \n",
      "2                              0.0   \n",
      "3                              0.0   \n",
      "4                              0.0   \n",
      "...                            ...   \n",
      "1623                           0.0   \n",
      "1624                           0.0   \n",
      "1625                           0.0   \n",
      "1626                           0.0   \n",
      "1627                           0.0   \n",
      "\n",
      "      A_Venue n-3_University of Tasmania Stadium  A_Venue n-3_Westpac Stadium  \n",
      "0                                            0.0                          0.0  \n",
      "1                                            0.0                          0.0  \n",
      "2                                            0.0                          0.0  \n",
      "3                                            0.0                          0.0  \n",
      "4                                            0.0                          0.0  \n",
      "...                                          ...                          ...  \n",
      "1623                                         0.0                          0.0  \n",
      "1624                                         1.0                          0.0  \n",
      "1625                                         0.0                          0.0  \n",
      "1626                                         0.0                          0.0  \n",
      "1627                                         1.0                          0.0  \n",
      "\n",
      "[1628 rows x 1036 columns]\n",
      "Split: 1\n",
      "found new best classify\n",
      "Split: 2\n",
      "found new best classify\n",
      "Split: 3\n",
      "Split: 4\n",
      "Split: 5\n",
      "Split: 6\n",
      "Split: 7\n",
      "Split: 8\n",
      "Split: 9\n",
      "Split: 10\n",
      "Best win percentage split = 66.25766871165644\n",
      "Training Testing Accuracy: 61.12% (3.22%)\n",
      "(1619, 1)\n",
      "(1619, 1)\n",
      "(1619, 1349)\n",
      "optimising hyperparameters\n",
      "Fitting 30 folds for each of 100 candidates, totalling 3000 fits\n"
     ]
    },
    {
     "name": "stderr",
     "output_type": "stream",
     "text": [
      "[Parallel(n_jobs=1)]: Using backend SequentialBackend with 1 concurrent workers.\n",
      "[Parallel(n_jobs=1)]: Done 3000 out of 3000 | elapsed:  2.7min finished\n"
     ]
    },
    {
     "name": "stdout",
     "output_type": "stream",
     "text": [
      "Mean Accuracy: 0.610\n",
      "Config: {'alpha': 0.42000000000000004}\n",
      "      Ladder Pos_H  Form_H  Season Wins_H  Season Loss_H  Season Draw_H  \\\n",
      "0              1.0     4.0            4.0            0.0            0.0   \n",
      "1             10.0     1.0            1.0            3.0            0.0   \n",
      "2              9.0     2.0            2.0            2.0            0.0   \n",
      "3             18.0     0.0            0.0            4.0            0.0   \n",
      "4             13.0     1.0            1.0            3.0            0.0   \n",
      "...            ...     ...            ...            ...            ...   \n",
      "1614           3.0     2.0           16.0            6.0            0.0   \n",
      "1615           4.0     3.0           15.0            7.0            0.0   \n",
      "1616           1.0     4.0           17.0            4.0            1.0   \n",
      "1617           2.0     4.0           17.0            5.0            0.0   \n",
      "1618           1.0     4.0           17.0            4.0            1.0   \n",
      "\n",
      "      H_H/A? n-1  H_H/A Win? n-1  H_Points For n-1  H_Points Against n-1  \\\n",
      "0            1.0             1.0             128.0                  91.0   \n",
      "1            0.0             1.0              91.0                 128.0   \n",
      "2            1.0             0.0              76.0                 118.0   \n",
      "3            1.0             0.0             103.0                 144.0   \n",
      "4            1.0             1.0              89.0                  65.0   \n",
      "...          ...             ...               ...                   ...   \n",
      "1614         1.0             0.0              43.0                  86.0   \n",
      "1615         1.0             0.0              60.0                  93.0   \n",
      "1616         0.0             0.0              93.0                  60.0   \n",
      "1617         0.0             0.0              86.0                  43.0   \n",
      "1618         0.0             0.0             125.0                  42.0   \n",
      "\n",
      "      H_Margin n-1  ...  A_Venue n-4_Mars Stadium  A_Venue n-4_Marvel Stadium  \\\n",
      "0             37.0  ...                       0.0                         1.0   \n",
      "1            -37.0  ...                       0.0                         0.0   \n",
      "2            -42.0  ...                       0.0                         0.0   \n",
      "3            -41.0  ...                       0.0                         0.0   \n",
      "4             24.0  ...                       0.0                         0.0   \n",
      "...            ...  ...                       ...                         ...   \n",
      "1614         -43.0  ...                       0.0                         0.0   \n",
      "1615         -33.0  ...                       0.0                         1.0   \n",
      "1616          33.0  ...                       0.0                         0.0   \n",
      "1617          43.0  ...                       0.0                         0.0   \n",
      "1618          83.0  ...                       0.0                         1.0   \n",
      "\n",
      "      A_Venue n-4_Metricon Stadium  A_Venue n-4_Optus Stadium  \\\n",
      "0                              0.0                        0.0   \n",
      "1                              0.0                        0.0   \n",
      "2                              0.0                        0.0   \n",
      "3                              1.0                        0.0   \n",
      "4                              0.0                        0.0   \n",
      "...                            ...                        ...   \n",
      "1614                           0.0                        0.0   \n",
      "1615                           0.0                        0.0   \n",
      "1616                           0.0                        0.0   \n",
      "1617                           0.0                        0.0   \n",
      "1618                           0.0                        0.0   \n",
      "\n",
      "      A_Venue n-4_Riverway Stadium  A_Venue n-4_SCG  A_Venue n-4_TIO Stadium  \\\n",
      "0                              0.0              0.0                      0.0   \n",
      "1                              0.0              0.0                      0.0   \n",
      "2                              0.0              0.0                      0.0   \n",
      "3                              0.0              0.0                      0.0   \n",
      "4                              0.0              0.0                      0.0   \n",
      "...                            ...              ...                      ...   \n",
      "1614                           0.0              0.0                      0.0   \n",
      "1615                           0.0              0.0                      0.0   \n",
      "1616                           0.0              0.0                      0.0   \n",
      "1617                           0.0              0.0                      0.0   \n",
      "1618                           0.0              0.0                      0.0   \n",
      "\n",
      "      A_Venue n-4_TIO Traeger Park  \\\n",
      "0                              0.0   \n",
      "1                              0.0   \n",
      "2                              0.0   \n",
      "3                              0.0   \n",
      "4                              0.0   \n",
      "...                            ...   \n",
      "1614                           0.0   \n",
      "1615                           0.0   \n",
      "1616                           0.0   \n",
      "1617                           0.0   \n",
      "1618                           0.0   \n",
      "\n",
      "      A_Venue n-4_University of Tasmania Stadium  A_Venue n-4_Westpac Stadium  \n",
      "0                                            0.0                          0.0  \n",
      "1                                            0.0                          0.0  \n",
      "2                                            0.0                          0.0  \n",
      "3                                            0.0                          0.0  \n",
      "4                                            0.0                          0.0  \n",
      "...                                          ...                          ...  \n",
      "1614                                         0.0                          0.0  \n",
      "1615                                         0.0                          0.0  \n",
      "1616                                         0.0                          0.0  \n",
      "1617                                         1.0                          0.0  \n",
      "1618                                         0.0                          0.0  \n",
      "\n",
      "[1619 rows x 1349 columns]\n",
      "Split: 1\n",
      "found new best classify\n",
      "Split: 2\n",
      "found new best classify\n",
      "Split: 3\n",
      "Split: 4\n",
      "found new best classify\n",
      "Split: 5\n",
      "Split: 6\n",
      "Split: 7\n",
      "found new best classify\n",
      "Split: 8\n",
      "Split: 9\n",
      "Split: 10\n",
      "Best win percentage split = 62.96296296296296\n",
      "Training Testing Accuracy: 59.30% (2.67%)\n",
      "(1610, 1)\n",
      "(1610, 1)\n",
      "(1610, 1662)\n",
      "optimising hyperparameters\n",
      "Fitting 30 folds for each of 100 candidates, totalling 3000 fits\n"
     ]
    },
    {
     "name": "stderr",
     "output_type": "stream",
     "text": [
      "[Parallel(n_jobs=1)]: Using backend SequentialBackend with 1 concurrent workers.\n",
      "[Parallel(n_jobs=1)]: Done 3000 out of 3000 | elapsed:  3.4min finished\n"
     ]
    },
    {
     "name": "stdout",
     "output_type": "stream",
     "text": [
      "Mean Accuracy: 0.617\n",
      "Config: {'alpha': 1.0}\n",
      "      Ladder Pos_H  Form_H  Season Wins_H  Season Loss_H  Season Draw_H  \\\n",
      "0              8.0     3.0            3.0            2.0            0.0   \n",
      "1              1.0     5.0            5.0            0.0            0.0   \n",
      "2             13.0     1.0            1.0            4.0            0.0   \n",
      "3             10.0     2.0            2.0            3.0            0.0   \n",
      "4             11.0     2.0            2.0            3.0            0.0   \n",
      "...            ...     ...            ...            ...            ...   \n",
      "1605           3.0     3.0           16.0            6.0            0.0   \n",
      "1606           4.0     4.0           15.0            7.0            0.0   \n",
      "1607           1.0     4.0           17.0            4.0            1.0   \n",
      "1608           2.0     5.0           17.0            5.0            0.0   \n",
      "1609           1.0     4.0           17.0            4.0            1.0   \n",
      "\n",
      "      H_H/A? n-1  H_H/A Win? n-1  H_Points For n-1  H_Points Against n-1  \\\n",
      "0            1.0             0.0              75.0                 121.0   \n",
      "1            0.0             0.0             121.0                  75.0   \n",
      "2            1.0             0.0              96.0                  99.0   \n",
      "3            1.0             0.0              83.0                 115.0   \n",
      "4            1.0             1.0             148.0                 104.0   \n",
      "...          ...             ...               ...                   ...   \n",
      "1605         1.0             0.0              43.0                  86.0   \n",
      "1606         1.0             0.0              60.0                  93.0   \n",
      "1607         0.0             0.0              93.0                  60.0   \n",
      "1608         0.0             0.0              86.0                  43.0   \n",
      "1609         0.0             0.0             125.0                  42.0   \n",
      "\n",
      "      H_Margin n-1  ...  A_Venue n-5_Manuka Oval  A_Venue n-5_Mars Stadium  \\\n",
      "0            -46.0  ...                      0.0                       0.0   \n",
      "1             46.0  ...                      0.0                       0.0   \n",
      "2             -3.0  ...                      0.0                       0.0   \n",
      "3            -32.0  ...                      0.0                       0.0   \n",
      "4             44.0  ...                      0.0                       0.0   \n",
      "...            ...  ...                      ...                       ...   \n",
      "1605         -43.0  ...                      0.0                       0.0   \n",
      "1606         -33.0  ...                      0.0                       1.0   \n",
      "1607          33.0  ...                      0.0                       0.0   \n",
      "1608          43.0  ...                      0.0                       0.0   \n",
      "1609          83.0  ...                      0.0                       0.0   \n",
      "\n",
      "      A_Venue n-5_Marvel Stadium  A_Venue n-5_Metricon Stadium  \\\n",
      "0                            0.0                           1.0   \n",
      "1                            0.0                           0.0   \n",
      "2                            0.0                           0.0   \n",
      "3                            0.0                           0.0   \n",
      "4                            0.0                           0.0   \n",
      "...                          ...                           ...   \n",
      "1605                         1.0                           0.0   \n",
      "1606                         0.0                           0.0   \n",
      "1607                         0.0                           0.0   \n",
      "1608                         1.0                           0.0   \n",
      "1609                         0.0                           0.0   \n",
      "\n",
      "      A_Venue n-5_Optus Stadium  A_Venue n-5_SCG  A_Venue n-5_TIO Stadium  \\\n",
      "0                           0.0              0.0                      0.0   \n",
      "1                           0.0              0.0                      0.0   \n",
      "2                           0.0              0.0                      0.0   \n",
      "3                           0.0              0.0                      0.0   \n",
      "4                           0.0              0.0                      0.0   \n",
      "...                         ...              ...                      ...   \n",
      "1605                        0.0              0.0                      0.0   \n",
      "1606                        0.0              0.0                      0.0   \n",
      "1607                        0.0              0.0                      0.0   \n",
      "1608                        0.0              0.0                      0.0   \n",
      "1609                        0.0              0.0                      0.0   \n",
      "\n",
      "      A_Venue n-5_TIO Traeger Park  \\\n",
      "0                              0.0   \n",
      "1                              0.0   \n",
      "2                              0.0   \n",
      "3                              0.0   \n",
      "4                              0.0   \n",
      "...                            ...   \n",
      "1605                           0.0   \n",
      "1606                           0.0   \n",
      "1607                           0.0   \n",
      "1608                           0.0   \n",
      "1609                           0.0   \n",
      "\n",
      "      A_Venue n-5_University of Tasmania Stadium  A_Venue n-5_Westpac Stadium  \n",
      "0                                            0.0                          0.0  \n",
      "1                                            0.0                          0.0  \n",
      "2                                            0.0                          0.0  \n",
      "3                                            0.0                          0.0  \n",
      "4                                            0.0                          0.0  \n",
      "...                                          ...                          ...  \n",
      "1605                                         0.0                          0.0  \n",
      "1606                                         0.0                          0.0  \n",
      "1607                                         0.0                          0.0  \n",
      "1608                                         0.0                          0.0  \n",
      "1609                                         1.0                          0.0  \n",
      "\n",
      "[1610 rows x 1662 columns]\n",
      "Split: 1\n",
      "found new best classify\n",
      "Split: 2\n",
      "Split: 3\n",
      "Split: 4\n",
      "Split: 5\n",
      "Split: 6\n",
      "Split: 7\n",
      "Split: 8\n",
      "Split: 9\n",
      "Split: 10\n",
      "Best win percentage split = 67.70186335403726\n",
      "Training Testing Accuracy: 60.56% (3.46%)\n",
      "(1601, 1)\n",
      "(1601, 1)\n",
      "(1601, 1976)\n",
      "optimising hyperparameters\n",
      "Fitting 30 folds for each of 100 candidates, totalling 3000 fits\n"
     ]
    },
    {
     "name": "stderr",
     "output_type": "stream",
     "text": [
      "[Parallel(n_jobs=1)]: Using backend SequentialBackend with 1 concurrent workers.\n",
      "[Parallel(n_jobs=1)]: Done 3000 out of 3000 | elapsed:  3.9min finished\n"
     ]
    },
    {
     "name": "stdout",
     "output_type": "stream",
     "text": [
      "Mean Accuracy: 0.611\n",
      "Config: {'alpha': 0.9500000000000001}\n",
      "      Ladder Pos_H  Form_H  Season Wins_H  Season Loss_H  Season Draw_H  \\\n",
      "0              2.0     6.0            6.0            0.0            0.0   \n",
      "1              3.0     5.0            5.0            1.0            0.0   \n",
      "2             14.0     2.0            2.0            4.0            0.0   \n",
      "3             16.0     1.0            1.0            5.0            0.0   \n",
      "4              6.0     4.0            4.0            2.0            0.0   \n",
      "...            ...     ...            ...            ...            ...   \n",
      "1596           3.0     4.0           16.0            6.0            0.0   \n",
      "1597           4.0     4.0           15.0            7.0            0.0   \n",
      "1598           1.0     4.0           17.0            4.0            1.0   \n",
      "1599           2.0     6.0           17.0            5.0            0.0   \n",
      "1600           1.0     4.0           17.0            4.0            1.0   \n",
      "\n",
      "      H_H/A? n-1  H_H/A Win? n-1  H_Points For n-1  H_Points Against n-1  \\\n",
      "0            1.0             1.0             131.0                  87.0   \n",
      "1            1.0             0.0              83.0                  93.0   \n",
      "2            1.0             0.0              55.0                 115.0   \n",
      "3            1.0             0.0              67.0                 137.0   \n",
      "4            1.0             1.0              99.0                  54.0   \n",
      "...          ...             ...               ...                   ...   \n",
      "1596         1.0             0.0              43.0                  86.0   \n",
      "1597         1.0             0.0              60.0                  93.0   \n",
      "1598         0.0             0.0              93.0                  60.0   \n",
      "1599         0.0             0.0              86.0                  43.0   \n",
      "1600         0.0             0.0             125.0                  42.0   \n",
      "\n",
      "      H_Margin n-1  ...  A_Venue n-6_Mars Stadium  A_Venue n-6_Marvel Stadium  \\\n",
      "0             44.0  ...                       0.0                         0.0   \n",
      "1            -10.0  ...                       0.0                         0.0   \n",
      "2            -60.0  ...                       0.0                         0.0   \n",
      "3            -70.0  ...                       0.0                         1.0   \n",
      "4             45.0  ...                       0.0                         1.0   \n",
      "...            ...  ...                       ...                         ...   \n",
      "1596         -43.0  ...                       0.0                         0.0   \n",
      "1597         -33.0  ...                       0.0                         0.0   \n",
      "1598          33.0  ...                       0.0                         0.0   \n",
      "1599          43.0  ...                       1.0                         0.0   \n",
      "1600          83.0  ...                       0.0                         1.0   \n",
      "\n",
      "      A_Venue n-6_Metricon Stadium  A_Venue n-6_Optus Stadium  \\\n",
      "0                              0.0                        0.0   \n",
      "1                              0.0                        0.0   \n",
      "2                              0.0                        0.0   \n",
      "3                              0.0                        0.0   \n",
      "4                              0.0                        0.0   \n",
      "...                            ...                        ...   \n",
      "1596                           1.0                        0.0   \n",
      "1597                           0.0                        0.0   \n",
      "1598                           0.0                        0.0   \n",
      "1599                           0.0                        0.0   \n",
      "1600                           0.0                        0.0   \n",
      "\n",
      "      A_Venue n-6_Riverway Stadium  A_Venue n-6_SCG  A_Venue n-6_TIO Stadium  \\\n",
      "0                              0.0              0.0                      0.0   \n",
      "1                              0.0              0.0                      0.0   \n",
      "2                              0.0              0.0                      0.0   \n",
      "3                              0.0              0.0                      0.0   \n",
      "4                              0.0              0.0                      0.0   \n",
      "...                            ...              ...                      ...   \n",
      "1596                           0.0              0.0                      0.0   \n",
      "1597                           0.0              0.0                      0.0   \n",
      "1598                           0.0              0.0                      0.0   \n",
      "1599                           0.0              0.0                      0.0   \n",
      "1600                           0.0              0.0                      0.0   \n",
      "\n",
      "      A_Venue n-6_TIO Traeger Park  \\\n",
      "0                              0.0   \n",
      "1                              0.0   \n",
      "2                              0.0   \n",
      "3                              0.0   \n",
      "4                              0.0   \n",
      "...                            ...   \n",
      "1596                           0.0   \n",
      "1597                           0.0   \n",
      "1598                           0.0   \n",
      "1599                           0.0   \n",
      "1600                           0.0   \n",
      "\n",
      "      A_Venue n-6_University of Tasmania Stadium  A_Venue n-6_Westpac Stadium  \n",
      "0                                            0.0                          0.0  \n",
      "1                                            0.0                          0.0  \n",
      "2                                            0.0                          0.0  \n",
      "3                                            0.0                          0.0  \n",
      "4                                            0.0                          0.0  \n",
      "...                                          ...                          ...  \n",
      "1596                                         0.0                          0.0  \n",
      "1597                                         0.0                          0.0  \n",
      "1598                                         0.0                          0.0  \n",
      "1599                                         0.0                          0.0  \n",
      "1600                                         0.0                          0.0  \n",
      "\n",
      "[1601 rows x 1976 columns]\n",
      "Split: 1\n",
      "found new best classify\n",
      "Split: 2\n",
      "Split: 3\n",
      "found new best classify\n",
      "Split: 4\n",
      "Split: 5\n",
      "Split: 6\n",
      "Split: 7\n",
      "Split: 8\n",
      "Split: 9\n",
      "Split: 10\n",
      "Best win percentage split = 70.0\n",
      "Training Testing Accuracy: 61.34% (5.52%)\n",
      "(1592, 1)\n",
      "(1592, 1)\n",
      "(1592, 2289)\n",
      "optimising hyperparameters\n",
      "Fitting 30 folds for each of 100 candidates, totalling 3000 fits\n"
     ]
    },
    {
     "name": "stderr",
     "output_type": "stream",
     "text": [
      "[Parallel(n_jobs=1)]: Using backend SequentialBackend with 1 concurrent workers.\n",
      "[Parallel(n_jobs=1)]: Done 3000 out of 3000 | elapsed:  4.8min finished\n"
     ]
    },
    {
     "name": "stdout",
     "output_type": "stream",
     "text": [
      "Mean Accuracy: 0.608\n",
      "Config: {'alpha': 1.0}\n",
      "      Ladder Pos_H  Form_H  Season Wins_H  Season Loss_H  Season Draw_H  \\\n",
      "0             10.0     3.0            3.0            4.0            0.0   \n",
      "1              2.0     6.0            6.0            1.0            0.0   \n",
      "2              3.0     6.0            6.0            1.0            0.0   \n",
      "3             13.0     3.0            3.0            4.0            0.0   \n",
      "4              5.0     5.0            5.0            2.0            0.0   \n",
      "...            ...     ...            ...            ...            ...   \n",
      "1587           3.0     5.0           16.0            6.0            0.0   \n",
      "1588           4.0     4.0           15.0            7.0            0.0   \n",
      "1589           1.0     5.0           17.0            4.0            1.0   \n",
      "1590           2.0     6.0           17.0            5.0            0.0   \n",
      "1591           1.0     5.0           17.0            4.0            1.0   \n",
      "\n",
      "      H_H/A? n-1  H_H/A Win? n-1  H_Points For n-1  H_Points Against n-1  \\\n",
      "0            1.0             1.0             108.0                  82.0   \n",
      "1            1.0             0.0              85.0                 113.0   \n",
      "2            0.0             0.0             119.0                  82.0   \n",
      "3            1.0             1.0             114.0                  54.0   \n",
      "4            1.0             0.0              82.0                 119.0   \n",
      "...          ...             ...               ...                   ...   \n",
      "1587         1.0             0.0              43.0                  86.0   \n",
      "1588         1.0             0.0              60.0                  93.0   \n",
      "1589         0.0             0.0              93.0                  60.0   \n",
      "1590         0.0             0.0              86.0                  43.0   \n",
      "1591         0.0             0.0             125.0                  42.0   \n",
      "\n",
      "      H_Margin n-1  ...  A_Venue n-7_Mars Stadium  A_Venue n-7_Marvel Stadium  \\\n",
      "0             26.0  ...                       0.0                         1.0   \n",
      "1            -28.0  ...                       0.0                         1.0   \n",
      "2             37.0  ...                       0.0                         0.0   \n",
      "3             60.0  ...                       0.0                         1.0   \n",
      "4            -37.0  ...                       0.0                         0.0   \n",
      "...            ...  ...                       ...                         ...   \n",
      "1587         -43.0  ...                       0.0                         0.0   \n",
      "1588         -33.0  ...                       0.0                         0.0   \n",
      "1589          33.0  ...                       0.0                         0.0   \n",
      "1590          43.0  ...                       0.0                         0.0   \n",
      "1591          83.0  ...                       1.0                         0.0   \n",
      "\n",
      "      A_Venue n-7_Metricon Stadium  A_Venue n-7_Optus Stadium  \\\n",
      "0                              0.0                        0.0   \n",
      "1                              0.0                        0.0   \n",
      "2                              0.0                        0.0   \n",
      "3                              0.0                        0.0   \n",
      "4                              0.0                        0.0   \n",
      "...                            ...                        ...   \n",
      "1587                           1.0                        0.0   \n",
      "1588                           1.0                        0.0   \n",
      "1589                           0.0                        0.0   \n",
      "1590                           0.0                        0.0   \n",
      "1591                           0.0                        0.0   \n",
      "\n",
      "      A_Venue n-7_Riverway Stadium  A_Venue n-7_SCG  A_Venue n-7_TIO Stadium  \\\n",
      "0                              0.0              0.0                      0.0   \n",
      "1                              0.0              0.0                      0.0   \n",
      "2                              0.0              0.0                      0.0   \n",
      "3                              0.0              0.0                      0.0   \n",
      "4                              0.0              0.0                      0.0   \n",
      "...                            ...              ...                      ...   \n",
      "1587                           0.0              0.0                      0.0   \n",
      "1588                           0.0              0.0                      0.0   \n",
      "1589                           0.0              0.0                      0.0   \n",
      "1590                           0.0              0.0                      0.0   \n",
      "1591                           0.0              0.0                      0.0   \n",
      "\n",
      "      A_Venue n-7_TIO Traeger Park  \\\n",
      "0                              0.0   \n",
      "1                              0.0   \n",
      "2                              0.0   \n",
      "3                              0.0   \n",
      "4                              0.0   \n",
      "...                            ...   \n",
      "1587                           0.0   \n",
      "1588                           0.0   \n",
      "1589                           0.0   \n",
      "1590                           0.0   \n",
      "1591                           0.0   \n",
      "\n",
      "      A_Venue n-7_University of Tasmania Stadium  A_Venue n-7_Westpac Stadium  \n",
      "0                                            0.0                          0.0  \n",
      "1                                            0.0                          0.0  \n",
      "2                                            0.0                          0.0  \n",
      "3                                            0.0                          0.0  \n",
      "4                                            0.0                          0.0  \n",
      "...                                          ...                          ...  \n",
      "1587                                         0.0                          0.0  \n",
      "1588                                         0.0                          0.0  \n",
      "1589                                         0.0                          0.0  \n",
      "1590                                         0.0                          0.0  \n",
      "1591                                         0.0                          0.0  \n",
      "\n",
      "[1592 rows x 2289 columns]\n",
      "Split: 1\n",
      "found new best classify\n",
      "Split: 2\n",
      "Split: 3\n",
      "Split: 4\n",
      "Split: 5\n",
      "found new best classify\n",
      "Split: 6\n",
      "Split: 7\n",
      "Split: 8\n",
      "Split: 9\n",
      "Split: 10\n",
      "Best win percentage split = 69.18238993710692\n",
      "Training Testing Accuracy: 60.87% (3.24%)\n",
      "(1565, 1)\n",
      "(1565, 1)\n",
      "(1565, 3228)\n",
      "optimising hyperparameters\n",
      "Fitting 30 folds for each of 100 candidates, totalling 3000 fits\n"
     ]
    },
    {
     "name": "stderr",
     "output_type": "stream",
     "text": [
      "[Parallel(n_jobs=1)]: Using backend SequentialBackend with 1 concurrent workers.\n",
      "[Parallel(n_jobs=1)]: Done 3000 out of 3000 | elapsed:  6.8min finished\n"
     ]
    },
    {
     "name": "stdout",
     "output_type": "stream",
     "text": [
      "Mean Accuracy: 0.603\n",
      "Config: {'alpha': 0.060000000000000005}\n",
      "      Ladder Pos_H  Form_H  Season Wins_H  Season Loss_H  Season Draw_H  \\\n",
      "0              5.0     7.0            7.0            3.0            0.0   \n",
      "1             18.0     0.0            0.0           10.0            0.0   \n",
      "2              9.0     5.0            5.0            5.0            0.0   \n",
      "3             13.0     4.0            4.0            6.0            0.0   \n",
      "4             16.0     2.0            2.0            8.0            0.0   \n",
      "...            ...     ...            ...            ...            ...   \n",
      "1560           3.0     7.0           16.0            6.0            0.0   \n",
      "1561           4.0     7.0           15.0            7.0            0.0   \n",
      "1562           1.0     6.0           17.0            4.0            1.0   \n",
      "1563           2.0     9.0           17.0            5.0            0.0   \n",
      "1564           1.0     6.0           17.0            4.0            1.0   \n",
      "\n",
      "      H_H/A? n-1  H_H/A Win? n-1  H_Points For n-1  H_Points Against n-1  \\\n",
      "0            1.0             0.0              71.0                 115.0   \n",
      "1            1.0             0.0              54.0                 148.0   \n",
      "2            0.0             1.0              59.0                  66.0   \n",
      "3            1.0             0.0              71.0                 123.0   \n",
      "4            1.0             0.0              65.0                 133.0   \n",
      "...          ...             ...               ...                   ...   \n",
      "1560         1.0             0.0              43.0                  86.0   \n",
      "1561         1.0             0.0              60.0                  93.0   \n",
      "1562         0.0             0.0              93.0                  60.0   \n",
      "1563         0.0             0.0              86.0                  43.0   \n",
      "1564         0.0             0.0             125.0                  42.0   \n",
      "\n",
      "      H_Margin n-1  ...  A_Venue n-10_Mars Stadium  \\\n",
      "0            -44.0  ...                        0.0   \n",
      "1            -94.0  ...                        0.0   \n",
      "2             -7.0  ...                        0.0   \n",
      "3            -52.0  ...                        0.0   \n",
      "4            -68.0  ...                        0.0   \n",
      "...            ...  ...                        ...   \n",
      "1560         -43.0  ...                        0.0   \n",
      "1561         -33.0  ...                        0.0   \n",
      "1562          33.0  ...                        0.0   \n",
      "1563          43.0  ...                        0.0   \n",
      "1564          83.0  ...                        0.0   \n",
      "\n",
      "      A_Venue n-10_Marvel Stadium  A_Venue n-10_Metricon Stadium  \\\n",
      "0                             0.0                            0.0   \n",
      "1                             0.0                            0.0   \n",
      "2                             0.0                            0.0   \n",
      "3                             1.0                            0.0   \n",
      "4                             0.0                            0.0   \n",
      "...                           ...                            ...   \n",
      "1560                          0.0                            0.0   \n",
      "1561                          0.0                            0.0   \n",
      "1562                          0.0                            0.0   \n",
      "1563                          1.0                            0.0   \n",
      "1564                          1.0                            0.0   \n",
      "\n",
      "      A_Venue n-10_Optus Stadium  A_Venue n-10_Riverway Stadium  \\\n",
      "0                            0.0                            0.0   \n",
      "1                            0.0                            0.0   \n",
      "2                            0.0                            0.0   \n",
      "3                            0.0                            0.0   \n",
      "4                            0.0                            0.0   \n",
      "...                          ...                            ...   \n",
      "1560                         0.0                            0.0   \n",
      "1561                         1.0                            0.0   \n",
      "1562                         0.0                            0.0   \n",
      "1563                         0.0                            0.0   \n",
      "1564                         0.0                            0.0   \n",
      "\n",
      "      A_Venue n-10_SCG  A_Venue n-10_TIO Stadium  \\\n",
      "0                  0.0                       0.0   \n",
      "1                  0.0                       0.0   \n",
      "2                  0.0                       0.0   \n",
      "3                  0.0                       0.0   \n",
      "4                  0.0                       0.0   \n",
      "...                ...                       ...   \n",
      "1560               0.0                       0.0   \n",
      "1561               0.0                       0.0   \n",
      "1562               0.0                       0.0   \n",
      "1563               0.0                       0.0   \n",
      "1564               0.0                       0.0   \n",
      "\n",
      "      A_Venue n-10_TIO Traeger Park  \\\n",
      "0                               0.0   \n",
      "1                               0.0   \n",
      "2                               0.0   \n",
      "3                               0.0   \n",
      "4                               0.0   \n",
      "...                             ...   \n",
      "1560                            0.0   \n",
      "1561                            0.0   \n",
      "1562                            0.0   \n",
      "1563                            0.0   \n",
      "1564                            0.0   \n",
      "\n",
      "      A_Venue n-10_University of Tasmania Stadium  \\\n",
      "0                                             0.0   \n",
      "1                                             0.0   \n",
      "2                                             0.0   \n",
      "3                                             0.0   \n",
      "4                                             0.0   \n",
      "...                                           ...   \n",
      "1560                                          0.0   \n",
      "1561                                          0.0   \n",
      "1562                                          0.0   \n",
      "1563                                          0.0   \n",
      "1564                                          0.0   \n",
      "\n",
      "      A_Venue n-10_Westpac Stadium  \n",
      "0                              0.0  \n",
      "1                              0.0  \n",
      "2                              0.0  \n",
      "3                              0.0  \n",
      "4                              0.0  \n",
      "...                            ...  \n",
      "1560                           0.0  \n",
      "1561                           0.0  \n",
      "1562                           0.0  \n",
      "1563                           0.0  \n",
      "1564                           0.0  \n",
      "\n",
      "[1565 rows x 3228 columns]\n",
      "Split: 1\n",
      "found new best classify\n",
      "Split: 2\n",
      "found new best classify\n",
      "Split: 3\n",
      "Split: 4\n",
      "Split: 5\n",
      "Split: 6\n",
      "Split: 7\n",
      "Split: 8\n",
      "Split: 9\n",
      "found new best classify\n",
      "Split: 10\n",
      "Best win percentage split = 67.94871794871796\n",
      "Training Testing Accuracy: 61.79% (3.42%)\n"
     ]
    }
   ],
   "source": [
    "n_games = [1,2,3,4,5,6,7,10]\n",
    "for n in n_games:\n",
    "    run_all_BNB(n)"
   ]
  },
  {
   "cell_type": "markdown",
   "metadata": {},
   "source": [
    "# LAZY PREDICT"
   ]
  },
  {
   "cell_type": "code",
   "execution_count": null,
   "metadata": {},
   "outputs": [],
   "source": []
  },
  {
   "cell_type": "code",
   "execution_count": null,
   "metadata": {},
   "outputs": [],
   "source": [
    "import pandas as pd\n",
    "import numpy as np\n",
    "from lazypredict.Supervised import LazyClassifier, LazyRegressor\n",
    "from sklearn.model_selection import train_test_split\n",
    "from Gather_AFL_Data import gatherer as gad\n",
    "from sklearn.preprocessing import OneHotEncoder\n",
    "from sklearn.model_selection import StratifiedKFold\n",
    "import pickle"
   ]
  },
  {
   "cell_type": "code",
   "execution_count": null,
   "metadata": {},
   "outputs": [],
   "source": [
    "def eval_lazy_predict(x, y, my):\n",
    "    cv = StratifiedKFold(n_splits=10, shuffle=True)\n",
    "    all_clf_models = []\n",
    "    all_reg_models = []\n",
    "    count = 0\n",
    "    for train,test in cv.split(x,y):\n",
    "       # print(len(train))\n",
    "        count = count + 1\n",
    "        print(\"Split: \" + str(count))\n",
    "        #classifier\n",
    "        X_train = x.loc[train]\n",
    "        X_test = x.loc[test]\n",
    "        y_train = y.loc[train]\n",
    "        y_test = y.loc[test]\n",
    "        my_train = my.loc[train]\n",
    "        my_test = my.loc[test]\n",
    "        clf = LazyClassifier(predictions=True)\n",
    "        reg = LazyRegressor(predictions=True)\n",
    "        if(count == 1):\n",
    "            all_clf_models, predictions = clf.fit(X_train, X_test, y_train, y_test)\n",
    "          #  all_reg_models, reg_predictions = reg.fit(X_train, X_test, my_train, my_test)\n",
    "            all_clf_models.sort_index(inplace=True)\n",
    "           # all_reg_models.sort_index(inplace=True)\n",
    "            #print(all_models)\n",
    "        else:\n",
    "            new_clf_models, predictions = clf.fit(X_train, X_test, y_train, y_test)\n",
    "           # new_reg_models, reg_predictions = reg.fit(X_train, X_test, my_train, my_test)\n",
    "            new_clf_models.sort_index(inplace=True)\n",
    "           # new_reg_models.sort_index(inplace=True)\n",
    "            #print(new_models)\n",
    "            all_clf_models = all_clf_models.add(new_clf_models)\n",
    "           # all_reg_models = all_reg_models.add(new_reg_models)\n",
    "    return all_clf_models#, all_reg_models"
   ]
  },
  {
   "cell_type": "code",
   "execution_count": null,
   "metadata": {
    "scrolled": true
   },
   "outputs": [],
   "source": [
    "def run_all_lp(n_games):\n",
    "    h = get_headers(n_games)\n",
    "    h = clean_headers(h)\n",
    "    cv = generate_categorical_headers(h)\n",
    "\n",
    "    #to get names of teams from index\n",
    "    g = gad()\n",
    "    teams = g.createTeamDict()\n",
    "\n",
    "    #load Data\n",
    "    x_data = pd.read_csv('Data/assembled_stat_matrix_no2020'+str(n_games)+'_games.csv')\n",
    "\n",
    "    #make empty OHE object\n",
    "    na_enc = OneHotEncoder(handle_unknown='ignore', sparse=False)\n",
    "\n",
    "    #one hot encode data with new one hot encoder, saves ohe for later use\n",
    "    x_data, ohe = ohe_data(x_data, na_enc, 0, cv)\n",
    "\n",
    "    #reset headers\n",
    "    feature_names = x_data.columns\n",
    "\n",
    "    #loads the ylabel matrix,\n",
    "    y_label = pd.read_csv('Data/assembled_labelled_ymatrix_no2020'+str(n_games)+'_games.csv')\n",
    "\n",
    "    #do margins in a second when this works\n",
    "    margin_label = pd.read_csv('Data/assembled_margin_ymatrix_no2020'+str(n_games)+'_games.csv')\n",
    "    margin_label = abs(margin_label)\n",
    "\n",
    "    clf_lp = eval_lazy_predict(x_data, y_label, margin_label)\n",
    "\n",
    "    clf_lp.sort_values(by='Accuracy', ascending=False, inplace=True)\n",
    "    #reg_lp.sort_values(by='RMSE', inplace=True)\n",
    "    pct_lp = clf_lp*10\n",
    "    print(pct_lp)"
   ]
  },
  {
   "cell_type": "code",
   "execution_count": null,
   "metadata": {
    "scrolled": true
   },
   "outputs": [],
   "source": [
    "#as one big script to go through n_games\n",
    "n_games = [1,2,3,4,5,6,7,10]\n",
    "for n in n_games:\n",
    "    run_all_lp(n)"
   ]
  },
  {
   "cell_type": "code",
   "execution_count": null,
   "metadata": {},
   "outputs": [],
   "source": []
  },
  {
   "cell_type": "code",
   "execution_count": null,
   "metadata": {},
   "outputs": [],
   "source": []
  },
  {
   "cell_type": "code",
   "execution_count": null,
   "metadata": {},
   "outputs": [],
   "source": []
  },
  {
   "cell_type": "markdown",
   "metadata": {},
   "source": [
    "# Deep Learningggg"
   ]
  },
  {
   "cell_type": "code",
   "execution_count": null,
   "metadata": {},
   "outputs": [],
   "source": [
    "def build_DNN_model(x_len):\n",
    "    model = Sequential()\n",
    "    model.add(Dense(63, input_dim = x_len))\n",
    "    model.add(Activation('relu'))\n",
    "    model.add(Dropout(0.03))\n",
    "    model.add(BatchNormalization())\n",
    "\n",
    "    model.add(Dense(32))\n",
    "    model.add(Activation('relu'))\n",
    "    model.add(Dropout(0.02))\n",
    "\n",
    "    model.add(Dense(16))\n",
    "    model.add(Activation('relu'))\n",
    "\n",
    "    model.add(Dense(8))\n",
    "    model.add(Activation('relu'))\n",
    "    #add output layer\n",
    "    model.add(Dense(1, activation='linear'))\n",
    "    opt = tf.keras.optimizers.Adamax(learning_rate=0.003)\n",
    "\n",
    "    model.compile(loss=\"mean_squared_error\", optimizer=opt, metrics=[tf.keras.metrics.RootMeanSquaredError()])\n",
    "    print(model.summary())\n",
    "    return model"
   ]
  },
  {
   "cell_type": "code",
   "execution_count": null,
   "metadata": {},
   "outputs": [],
   "source": [
    "def build_CNN_model(x_len):\n",
    "    #del model\n",
    "    model = Sequential()\n",
    "    model.add(Conv1D(filters=32, kernel_size=14,\n",
    "                     input_shape=(x_len, 1)))\n",
    "    model.add(Activation('relu'))\n",
    "    model.add(Dropout(0.2))\n",
    "    model.add(Conv1D(filters=16, kernel_size=10,\n",
    "                     input_shape=(32, 1)))\n",
    "    model.add(Activation('linear'))\n",
    "    model.add(Dropout(0.1))\n",
    "    model.add(Conv1D(filters=10, kernel_size=8,\n",
    "                     input_shape=(16, 1)))\n",
    "    model.add(Activation('linear'))\n",
    "    model.add(MaxPooling1D(pool_size=2))\n",
    "    model.add(BatchNormalization())\n",
    "    model.add(Flatten())\n",
    "    model.add(Dense(64, activation='linear'))\n",
    "    model.add(Dense(32, activation='linear'))\n",
    "    model.add(Dense(16, activation='linear'))\n",
    "    model.add(BatchNormalization())\n",
    "    model.add(Dense(1, activation='linear'))\n",
    "    opt = tf.keras.optimizers.Adamax(learning_rate=0.003)#, beta_1=0.9, beta_2=0.999, epsilon=1e-07, name=\"Adamax\"\n",
    "\n",
    "\n",
    "    model.compile(loss=\"mean_squared_error\", optimizer=opt, metrics=[tf.keras.metrics.RootMeanSquaredError()])\n",
    "\n",
    "    print(model.summary())\n",
    "    return model"
   ]
  },
  {
   "cell_type": "code",
   "execution_count": null,
   "metadata": {},
   "outputs": [],
   "source": [
    "#flag = 0 (DNN)\n",
    "#flag = 1 (CNN)\n",
    "def eval_dl(x,y,k,flag):\n",
    "    cv = StratifiedKFold(n_splits=k,shuffle=True)\n",
    "    best_model = []\n",
    "    results = []\n",
    "    highest = 0\n",
    "    i = 1\n",
    "    for train,test in cv.split(x,y):\n",
    "        if(flag == 0):\n",
    "            model = build_DNN_model(x[train].shape[1])\n",
    "        if(flag == 1):\n",
    "            x = x.reshape(x.shape[0], x.shape[1], 1)\n",
    "            model = build_CNN_model(x[train].shape[1])\n",
    "        bs = ((x[train].shape[0])/20)\n",
    "        bs = round(bs)\n",
    "        history = model.fit(x[train], y[train], validation_data=(x[test], y[test]), epochs = 50, batch_size=bs)\n",
    "        _, accuracy = model.evaluate(x[test], y[test], batch_size=bs, verbose=0)\n",
    "        accuracy = accuracy * 100\n",
    "        print(\"accuracy for model \" + str(i) + \" is \" + str(accuracy))\n",
    "        if(accuracy > highest):\n",
    "            highest = accuracy\n",
    "            best_model = model\n",
    "        results.append(accuracy)\n",
    "        i = i + 1\n",
    "    print(\"highest accuracy is: \" + str(highest))\n",
    "    print(\"Training Testing Accuracy: %.2f%% (%.2f%%)\" % (np.mean(results), np.std(results)))\n",
    "    return best_model"
   ]
  }
 ],
 "metadata": {
  "kernelspec": {
   "display_name": "Python 3 (ipykernel)",
   "language": "python",
   "name": "python3"
  },
  "language_info": {
   "codemirror_mode": {
    "name": "ipython",
    "version": 3
   },
   "file_extension": ".py",
   "mimetype": "text/x-python",
   "name": "python",
   "nbconvert_exporter": "python",
   "pygments_lexer": "ipython3",
   "version": "3.8.5"
  }
 },
 "nbformat": 4,
 "nbformat_minor": 4
}
