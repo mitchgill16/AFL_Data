{
 "cells": [
  {
   "cell_type": "code",
   "execution_count": null,
   "metadata": {},
   "outputs": [],
   "source": [
    "###Models to do"
   ]
  },
  {
   "cell_type": "code",
   "execution_count": 1,
   "metadata": {},
   "outputs": [
    {
     "name": "stderr",
     "output_type": "stream",
     "text": [
      "/home/chris/anaconda3/lib/python3.8/site-packages/xgboost/compat.py:93: FutureWarning: pandas.Int64Index is deprecated and will be removed from pandas in a future version. Use pandas.Index with the appropriate dtype instead.\n",
      "  from pandas import MultiIndex, Int64Index\n"
     ]
    },
    {
     "name": "stdout",
     "output_type": "stream",
     "text": [
      "2.2.0\n",
      "2.4.3\n"
     ]
    }
   ],
   "source": [
    "import re\n",
    "import xgboost as xgb\n",
    "import tensorflow as tf; print(tf.__version__)\n",
    "import keras; print(keras.__version__)\n",
    "#import torch.nn as nn\n",
    "#import touch.nn.functional as F\n",
    "import pandas as pd\n",
    "import numpy as np\n",
    "from sklearn.model_selection import train_test_split\n",
    "from sklearn.metrics import accuracy_score\n",
    "from random import randint\n",
    "from Gather_AFL_Data import gatherer as gad\n",
    "#from fdnn import feature_extractor as fex\n",
    "import skopt\n",
    "from skopt.searchcv import BayesSearchCV\n",
    "from skopt.space import Real, Categorical, Integer\n",
    "from sklearn.model_selection import StratifiedKFold\n",
    "import pickle\n",
    "from sklearn.preprocessing import OneHotEncoder\n",
    "from sklearn.metrics import mean_squared_error\n",
    "from math import sqrt\n",
    "from sklearn.model_selection import cross_val_score, KFold\n",
    "from joblib import dump, load"
   ]
  },
  {
   "cell_type": "code",
   "execution_count": 2,
   "metadata": {},
   "outputs": [
    {
     "name": "stdout",
     "output_type": "stream",
     "text": [
      "2.2.0\n",
      "2.4.3\n"
     ]
    }
   ],
   "source": [
    "import re\n",
    "import xgboost as xgb\n",
    "import tensorflow as tf; print(tf.__version__)\n",
    "import keras; print(keras.__version__)\n",
    "#import torch.nn as nn\n",
    "#import touch.nn.functional as F\n",
    "import pandas as pd\n",
    "import numpy as np\n",
    "from sklearn.model_selection import train_test_split\n",
    "from sklearn.metrics import accuracy_score\n",
    "from random import randint\n",
    "from Gather_AFL_Data import gatherer as gad\n",
    "#from fdnn import feature_extractor as fex\n",
    "import skopt\n",
    "from skopt.searchcv import BayesSearchCV\n",
    "from skopt.space import Real, Categorical, Integer\n",
    "from sklearn.model_selection import StratifiedKFold\n",
    "import pickle\n",
    "from sklearn.preprocessing import OneHotEncoder\n",
    "from tensorflow.keras.models import Sequential\n",
    "from tensorflow.keras.layers import Dense\n",
    "from tensorflow.keras.layers import Flatten\n",
    "from tensorflow.keras.layers import Dropout\n",
    "from tensorflow.keras.layers import Input\n",
    "from tensorflow.keras.layers import BatchNormalization\n",
    "from tensorflow.keras.layers import Conv1D\n",
    "from tensorflow.keras.layers import MaxPooling1D\n",
    "from tensorflow.keras.utils import to_categorical\n",
    "from keras.utils.vis_utils import plot_model\n",
    "from tensorflow.keras.layers import LSTM\n",
    "from tensorflow.keras.layers import Embedding\n",
    "from tensorflow.keras.preprocessing import sequence\n",
    "import matplotlib.pyplot as plt\n",
    "from tensorflow.keras.layers import Activation\n",
    "from sklearn.metrics import mean_squared_error\n",
    "from math import sqrt\n",
    "from sklearn.model_selection import cross_val_score, KFold"
   ]
  },
  {
   "cell_type": "code",
   "execution_count": 2,
   "metadata": {},
   "outputs": [],
   "source": [
    "#get headers\n",
    "#feed this into a bigger function which specifies the amount of games to go through \n",
    "def get_headers(n_games):\n",
    "    headers = ['Round', 'Home_Team', 'Away_Team', 'Venue', 'H_PAV_Sum', 'A_PAV_Sum']\n",
    "    example_file = pd.read_csv('Data/Fremantle_clean_stats.csv')\n",
    "    cl_h = example_file.columns\n",
    "    cl_h = cl_h[:-5]\n",
    "    ladder_header = ['Ladder Pos_H', 'Form_H', 'Season Wins_H', 'Season Loss_H', 'Season Draw_H']\n",
    "    headers = [*headers, *ladder_header]\n",
    "    j = 1\n",
    "    while j <= n_games:\n",
    "        for x in cl_h:\n",
    "            if 'Match_ID' in x or 'Year' in x:\n",
    "                continue\n",
    "            x = 'H_'+ x + ' n-' + str(j)\n",
    "            headers.append(x)\n",
    "        j = j + 1\n",
    "    j = 1\n",
    "    ladder_header = ['Ladder Pos_A', 'Form_A', 'Season Wins_A', 'Season Loss_A', 'Season Draw_A']\n",
    "    headers = [*headers, *ladder_header]\n",
    "    while j <= n_games:\n",
    "        for x in cl_h:\n",
    "            if 'Match_ID' in x or 'Year' in x:\n",
    "                continue\n",
    "            x = 'A_'+ x + ' n-' + str(j)\n",
    "            headers.append(x)\n",
    "        j = j + 1\n",
    "    return headers"
   ]
  },
  {
   "cell_type": "code",
   "execution_count": 3,
   "metadata": {},
   "outputs": [],
   "source": [
    "def clean_headers(h):\n",
    "    headers = []\n",
    "    for x in h:\n",
    "        if '<' in x or '>' in x:\n",
    "            x = x.replace('<',\"lt_\")\n",
    "            x = x.replace('>', \"gt_\")\n",
    "            #print(x)\n",
    "        headers.append(str(x))\n",
    "    return headers"
   ]
  },
  {
   "cell_type": "code",
   "execution_count": 4,
   "metadata": {},
   "outputs": [],
   "source": [
    "def generate_categorical_headers(h):\n",
    "    cat_var = ['Round', 'Home_Team', 'Away_Team']\n",
    "    skip = 0\n",
    "    for x in h:\n",
    "        if 'Round' in x:\n",
    "            if (skip == 0):\n",
    "                skip = 1\n",
    "                continue\n",
    "            cat_var.append(x)\n",
    "            #print(x)\n",
    "        elif 'Team_against_ID' in x:\n",
    "            #print(x)\n",
    "            cat_var.append(x)\n",
    "        elif 'Venue' in x:\n",
    "            cat_var.append(x)\n",
    "    return cat_var"
   ]
  },
  {
   "cell_type": "code",
   "execution_count": 5,
   "metadata": {},
   "outputs": [],
   "source": [
    "#one hot encode data and transform the X_data\n",
    "#first redo, find the categorial variables\n",
    "def ohe_data(x_data, enc, flag,cat_var):\n",
    "    #data has not been previously one hot encoded\n",
    "    if (flag == 0):\n",
    "        #get columns with categorical data and drop from main DF\n",
    "        categorical_data = x_data[cat_var]\n",
    "        x_data = x_data.drop(cat_var, axis = 1)\n",
    "        #define and fit new OHE. Use it on our categorical data by transforming\n",
    "        ohe = OneHotEncoder(handle_unknown='ignore', sparse=False)\n",
    "        ohe = ohe.fit(categorical_data)\n",
    "        categorical_data = ohe.transform(categorical_data)\n",
    "        #get feature names for better labelling\n",
    "        fn = ohe.get_feature_names(cat_var)\n",
    "        #make a dataframe with new OHE data and feature names\n",
    "            #would have been good to have coded it like this for my Masters project...\n",
    "        categorical_data = pd.DataFrame(categorical_data)\n",
    "        categorical_data.columns = fn\n",
    "        #ensure that it won't get cranky about any different indexes(shouldn't be any but just a good check)\n",
    "        x_data.reset_index(drop=True, inplace=True)\n",
    "        categorical_data.reset_index(drop=True, inplace=True)\n",
    "        #concatenate along column axis\n",
    "        x_data = pd.concat([x_data, categorical_data], axis = 1)\n",
    "    else:\n",
    "        #same as above except used already fitted ohe\n",
    "        categorical_data = x_data[cat_var]\n",
    "        x_data = x_data.drop(cat_var, axis = 1)\n",
    "        categorical_data = enc.transform(categorical_data)\n",
    "        fn = enc.get_feature_names(cat_var)\n",
    "        categorical_data = pd.DataFrame(categorical_data)\n",
    "        categorical_data.columns = fn\n",
    "        x_data.reset_index(drop=True, inplace=True)\n",
    "        categorical_data.reset_index(drop=True, inplace=True)\n",
    "        x_data = pd.concat([x_data, categorical_data], axis = 1, ignore_index=True)\n",
    "        ohe = enc\n",
    "    return x_data, ohe"
   ]
  },
  {
   "cell_type": "code",
   "execution_count": 6,
   "metadata": {},
   "outputs": [],
   "source": [
    "#search parameters for best XGB classifier or best XGB regressor\n",
    "\n",
    "def param_search(x_data, y_label, class_reg):\n",
    "\n",
    "    def on_step(optim_result):\n",
    "        \"\"\"\n",
    "        Callback meant to view scores after\n",
    "        each iteration while performing Bayesian\n",
    "        Optimization in Skopt\"\"\"\n",
    "        score = xgb_bayes_search.best_score_\n",
    "        print(\"best score: %s\" % score)\n",
    "        if score >= 0.98:\n",
    "            print('Interrupting!')\n",
    "            return True\n",
    "    X_train, X_test, y_train, y_test = train_test_split(x_data, y_label, test_size=0.1, random_state=157732)\n",
    "    print(\"X_train shape: \" + str(X_train.shape))\n",
    "    print(\"X_test shape: \" + str(X_test.shape))\n",
    "  #  print(\"y_train shape: \" + str(y_train.shape))\n",
    "  #  print(\"y_test shape: \" + str(y_test.shape))\n",
    "    space ={'learning_rate': Real(0.01, 1.0, 'log-uniform'),\n",
    "        'min_child_weight': Integer(0, 10),\n",
    "        'max_depth': Integer(0, 50),\n",
    "        'max_delta_step': Integer(0, 20),\n",
    "        'subsample': Real(0.01, 1.0, 'uniform'),\n",
    "        'colsample_bytree': Real(0.01, 1.0, 'uniform'),\n",
    "        'colsample_bylevel': Real(0.01, 1.0, 'uniform'),\n",
    "        'reg_lambda': Real(1e-9, 1000, 'log-uniform'),\n",
    "        'reg_alpha': Real(1e-9, 1.0, 'log-uniform'),\n",
    "        'gamma': Real(1e-9, 0.5, 'log-uniform'),\n",
    "        'min_child_weight': Integer(0, 5),\n",
    "        'n_estimators': Integer(50, 200),\n",
    "        'scale_pos_weight': Real(1e-6, 500, 'log-uniform')}\n",
    "    if(class_reg == 0):\n",
    "        xgbclass = xgb.XGBClassifier(random_state=27022013)\n",
    "    else:\n",
    "        xgbclass = xgb.XGBRegressor(random_state=27022013)\n",
    "    xgb_bayes_search = BayesSearchCV(xgbclass, space, n_iter=60, # specify how many iterations\n",
    "                                    scoring=None, n_jobs=1, cv=10, verbose=1, random_state=42, n_points=12,\n",
    "                                 refit=True)\n",
    "  #  kk = np.isinf(X_train)\n",
    "  #  if True in kk:\n",
    "  #  \tprint(\"aaaaaaa\")\n",
    "  #  kk = np.isinf(y_train)\n",
    "  #  if True in kk:\n",
    "  #  \tprint(\"reeeeeee\")\n",
    "    try:\n",
    "        xgb_bayes_search.fit(X_train, y_train.values.ravel(), callback = on_step)\n",
    "    except:\n",
    "        xgb_bayes_search.fit(X_train, y_train.values.ravel(), callback = on_step)\n",
    "  #  print(\"BEST PARAMS ARE HERE\")\n",
    " #   print(xgb_bayes_search.best_params_)\n",
    "    model = xgb_bayes_search.best_estimator_\n",
    "\n",
    "    return model"
   ]
  },
  {
   "cell_type": "code",
   "execution_count": 7,
   "metadata": {},
   "outputs": [],
   "source": [
    "#x = all data\n",
    "#y = label of whether home team or away team won\n",
    "#m = xgb classifier for winner prediction\n",
    "#my = labels of margins\n",
    "    #try absolute values\n",
    "#mm = xgb regressor for margin prediction\n",
    "def eval_xgb_games_margins(x, y, m, my, mm):\n",
    "    results = []\n",
    "    error = []\n",
    "    count = 0\n",
    "    best_w = m\n",
    "    high_w = 0\n",
    "    best_m = mm\n",
    "    high_m = 100\n",
    "    cv = StratifiedKFold(n_splits=10, shuffle=True)\n",
    "    print(x)\n",
    "    for train,test in cv.split(x,y):\n",
    "       # print(len(train))\n",
    "        count = count + 1\n",
    "        print(\"Split: \" + str(count))\n",
    "        #comment out fit steps for random forest i guess lol\n",
    "        prediction = m.fit(x.loc[train],y.loc[train]).predict_proba(x.loc[test])\n",
    "        margin_pred = mm.fit(x.loc[train], my.loc[train])\n",
    "        print(\"variables for auroc curve done. Processing fold accuracy + checking best model\")\n",
    "        y_pred = m.predict(x.loc[test])\n",
    "        #print(y_pred)\n",
    "        m_pred = mm.predict(x.loc[test])\n",
    "        print(m_pred)\n",
    "        predictions = [round(value) for value in y_pred]\n",
    "        #sees how accurate the model was when testing the test set\n",
    "        accuracy = accuracy_score(y.loc[test], predictions)\n",
    "        pcent = accuracy * 100.0\n",
    "        print(\"The accuracy of this model is\" + str(pcent))\n",
    "        rmse = sqrt(mean_squared_error(m_pred, my.loc[test]))\n",
    "        print(\"The rmse of this model is\" + str(rmse))\n",
    "        results.append(pcent)\n",
    "        error.append(rmse)\n",
    "        #change the best model to equal current model\n",
    "        if(pcent > high_w):\n",
    "            print(\"found new best classify\")\n",
    "            best_w = m\n",
    "            high_w = pcent\n",
    "        if(rmse < high_m):\n",
    "            print(\"found best new margin\")\n",
    "            best_m = mm\n",
    "            high_m = rmse\n",
    "    print(\"Best win percentage split = \" +str(high_w))\n",
    "    print(\"Best margin rmse = \"+str(high_m))\n",
    "    print(\"Training Testing Accuracy: %.2f%% (%.2f%%)\" % (np.mean(results), np.std(results)))\n",
    "    print(\"Training Testing Margins: %.2f%% (%.2f%%)\" % (np.mean(error), np.std(error)))\n",
    "    return best_w, best_m"
   ]
  },
  {
   "cell_type": "code",
   "execution_count": 8,
   "metadata": {},
   "outputs": [],
   "source": [
    "#make this a method param later\n",
    "#n_games = 5\n",
    "def run_all_models(n_games):\n",
    "    #load headers and then subsequently categorical headers\n",
    "    h = get_headers(n_games)\n",
    "    h = clean_headers(h)\n",
    "    cv = generate_categorical_headers(h)\n",
    "\n",
    "    #to get names of teams from index\n",
    "    g = gad()\n",
    "    teams = g.createTeamDict()\n",
    "\n",
    "    #load Data\n",
    "    x_data = pd.read_csv('Data/assembled_stat_matrix_no2020'+str(n_games)+'_games.csv')\n",
    "\n",
    "    #make empty OHE object\n",
    "    na_enc = OneHotEncoder(handle_unknown='ignore', sparse=False)\n",
    "\n",
    "    #one hot encode data with new one hot encoder, saves ohe for later use\n",
    "    x_data, ohe = ohe_data(x_data, na_enc, 0, cv)\n",
    "    filename = 'Models/ohe_'+str(n_games)+'_no_2021_games.dat'\n",
    "    pickle.dump(ohe, open(filename, \"wb\"))\n",
    "    #reset headers\n",
    "    feature_names = x_data.columns\n",
    "\n",
    "    #loads the ylabel matrix,\n",
    "    y_label = pd.read_csv('Data/assembled_labelled_ymatrix_no2020'+str(n_games)+'_games.csv')\n",
    "\n",
    "    #loads margin as the y_label\n",
    "    margin_label = pd.read_csv('Data/assembled_margin_ymatrix_no2020'+str(n_games)+'_games.csv')\n",
    "\n",
    "    print(margin_label.shape)\n",
    "    print(y_label.shape)\n",
    "    print(x_data.shape)\n",
    "\n",
    "    #regex solution which is apparently necessary??\n",
    "    regex = re.compile(r\"\\[|\\]|<\", re.IGNORECASE)\n",
    "    x_data.columns = [regex.sub(\"_\", col) if any(x in str(col) for x in set(('[', ']', '<'))) else col for col in x_data.columns.values]\n",
    "\n",
    "    #optimise XGBoost model\n",
    "\n",
    "    #for predicting win\n",
    "    model = param_search(x_data, y_label, 0)\n",
    "    #for predicting margin\n",
    "    #margin_label = abs(margin_label)\n",
    "    margin_model = param_search(x_data, margin_label, 1)\n",
    "\n",
    "   # margin_label = abs(margin_label)\n",
    "    print(margin_label)\n",
    "    best_xgb_clas, best_xgb_reg = eval_xgb_games_margins(x_data, y_label, model, margin_label, margin_model)\n",
    "\n",
    "    #save\n",
    "    pickle.dump(best_xgb_clas, open(\"Models/best_xgb_clas_no2020_\"+str(n_games)+\"_games.dat\", \"wb\"))\n",
    "    pickle.dump(best_xgb_reg, open(\"Models/best_xgb_reg_no2020_\"+str(n_games)+\"_games.dat\", \"wb\"))"
   ]
  },
  {
   "cell_type": "code",
   "execution_count": 9,
   "metadata": {
    "scrolled": true
   },
   "outputs": [
    {
     "name": "stdout",
     "output_type": "stream",
     "text": [
      "(1781, 1)\n",
      "(1781, 1)\n",
      "(1781, 733)\n",
      "X_train shape: (1602, 733)\n",
      "X_test shape: (179, 733)\n",
      "Fitting 10 folds for each of 12 candidates, totalling 120 fits\n"
     ]
    },
    {
     "name": "stderr",
     "output_type": "stream",
     "text": [
      "[Parallel(n_jobs=1)]: Using backend SequentialBackend with 1 concurrent workers.\n",
      "[Parallel(n_jobs=1)]: Done 120 out of 120 | elapsed:  1.0min finished\n"
     ]
    },
    {
     "name": "stdout",
     "output_type": "stream",
     "text": [
      "best score: 0.6579275905118602\n",
      "Fitting 10 folds for each of 12 candidates, totalling 120 fits\n"
     ]
    },
    {
     "name": "stderr",
     "output_type": "stream",
     "text": [
      "[Parallel(n_jobs=1)]: Using backend SequentialBackend with 1 concurrent workers.\n",
      "[Parallel(n_jobs=1)]: Done 120 out of 120 | elapsed:   44.1s finished\n"
     ]
    },
    {
     "name": "stdout",
     "output_type": "stream",
     "text": [
      "best score: 0.6579275905118602\n",
      "Fitting 10 folds for each of 12 candidates, totalling 120 fits\n"
     ]
    },
    {
     "name": "stderr",
     "output_type": "stream",
     "text": [
      "[Parallel(n_jobs=1)]: Using backend SequentialBackend with 1 concurrent workers.\n",
      "[Parallel(n_jobs=1)]: Done 120 out of 120 | elapsed:  1.1min finished\n"
     ]
    },
    {
     "name": "stdout",
     "output_type": "stream",
     "text": [
      "best score: 0.6579275905118602\n",
      "Fitting 10 folds for each of 12 candidates, totalling 120 fits\n"
     ]
    },
    {
     "name": "stderr",
     "output_type": "stream",
     "text": [
      "[Parallel(n_jobs=1)]: Using backend SequentialBackend with 1 concurrent workers.\n",
      "[Parallel(n_jobs=1)]: Done 120 out of 120 | elapsed:  4.1min finished\n"
     ]
    },
    {
     "name": "stdout",
     "output_type": "stream",
     "text": [
      "best score: 0.6666666666666666\n",
      "Fitting 10 folds for each of 12 candidates, totalling 120 fits\n"
     ]
    },
    {
     "name": "stderr",
     "output_type": "stream",
     "text": [
      "[Parallel(n_jobs=1)]: Using backend SequentialBackend with 1 concurrent workers.\n",
      "[Parallel(n_jobs=1)]: Done 120 out of 120 | elapsed:  2.6min finished\n"
     ]
    },
    {
     "name": "stdout",
     "output_type": "stream",
     "text": [
      "best score: 0.6666666666666666\n",
      "X_train shape: (1602, 733)\n",
      "X_test shape: (179, 733)\n",
      "Fitting 10 folds for each of 12 candidates, totalling 120 fits\n"
     ]
    },
    {
     "name": "stderr",
     "output_type": "stream",
     "text": [
      "[Parallel(n_jobs=1)]: Using backend SequentialBackend with 1 concurrent workers.\n",
      "[Parallel(n_jobs=1)]: Done 120 out of 120 | elapsed:  1.8min finished\n"
     ]
    },
    {
     "name": "stdout",
     "output_type": "stream",
     "text": [
      "best score: 0.23231902453456835\n",
      "Fitting 10 folds for each of 12 candidates, totalling 120 fits\n"
     ]
    },
    {
     "name": "stderr",
     "output_type": "stream",
     "text": [
      "[Parallel(n_jobs=1)]: Using backend SequentialBackend with 1 concurrent workers.\n",
      "[Parallel(n_jobs=1)]: Done 120 out of 120 | elapsed:  1.0min finished\n"
     ]
    },
    {
     "name": "stdout",
     "output_type": "stream",
     "text": [
      "best score: 0.26871706545096957\n",
      "Fitting 10 folds for each of 12 candidates, totalling 120 fits\n"
     ]
    },
    {
     "name": "stderr",
     "output_type": "stream",
     "text": [
      "[Parallel(n_jobs=1)]: Using backend SequentialBackend with 1 concurrent workers.\n",
      "[Parallel(n_jobs=1)]: Done 120 out of 120 | elapsed:  6.3min finished\n"
     ]
    },
    {
     "name": "stdout",
     "output_type": "stream",
     "text": [
      "best score: 0.26871706545096957\n",
      "Fitting 10 folds for each of 12 candidates, totalling 120 fits\n"
     ]
    },
    {
     "name": "stderr",
     "output_type": "stream",
     "text": [
      "[Parallel(n_jobs=1)]: Using backend SequentialBackend with 1 concurrent workers.\n",
      "[Parallel(n_jobs=1)]: Done 120 out of 120 | elapsed:   52.0s finished\n"
     ]
    },
    {
     "name": "stdout",
     "output_type": "stream",
     "text": [
      "best score: 0.26871706545096957\n",
      "Fitting 10 folds for each of 12 candidates, totalling 120 fits\n"
     ]
    },
    {
     "name": "stderr",
     "output_type": "stream",
     "text": [
      "[Parallel(n_jobs=1)]: Using backend SequentialBackend with 1 concurrent workers.\n",
      "[Parallel(n_jobs=1)]: Done 120 out of 120 | elapsed: 11.7min finished\n"
     ]
    },
    {
     "name": "stdout",
     "output_type": "stream",
     "text": [
      "best score: 0.26871706545096957\n",
      "      Margin\n",
      "0       -4.0\n",
      "1      -39.0\n",
      "2      -94.0\n",
      "3      -72.0\n",
      "4       -2.0\n",
      "...      ...\n",
      "1776    32.0\n",
      "1777   -41.0\n",
      "1778    53.0\n",
      "1779    55.0\n",
      "1780   -63.0\n",
      "\n",
      "[1781 rows x 1 columns]\n",
      "      H_PAV_Sum  A_PAV_Sum  Ladder Pos_H  Form_H  Season Wins_H  \\\n",
      "0        225.28     213.14           4.0     2.0            2.0   \n",
      "1        232.38     230.38          12.0     0.0            0.0   \n",
      "2        147.24     226.84          18.0     0.0            0.0   \n",
      "3        149.67     226.28          16.0     0.0            0.0   \n",
      "4        118.17     201.00          11.0     1.0            1.0   \n",
      "...         ...        ...           ...     ...            ...   \n",
      "1776     203.49     170.85          15.0     0.0            4.0   \n",
      "1777     250.34     262.25           9.0     1.0            9.0   \n",
      "1778     263.09     229.68           8.0     1.0            9.0   \n",
      "1779     258.96     211.34          12.0     1.0            7.0   \n",
      "1780     144.93     250.72          17.0     1.0            2.0   \n",
      "\n",
      "      Season Loss_H  Season Draw_H  H_H/A? n-1  H_H/A Win? n-1  \\\n",
      "0               0.0            0.0         1.0             1.0   \n",
      "1               2.0            0.0         1.0             0.0   \n",
      "2               2.0            0.0         1.0             0.0   \n",
      "3               2.0            0.0         1.0             0.0   \n",
      "4               1.0            0.0         1.0             0.0   \n",
      "...             ...            ...         ...             ...   \n",
      "1776           11.0            0.0         1.0             0.0   \n",
      "1777            6.0            0.0         1.0             1.0   \n",
      "1778            6.0            0.0         1.0             0.0   \n",
      "1779            8.0            0.0         1.0             0.0   \n",
      "1780           13.0            0.0         1.0             0.0   \n",
      "\n",
      "      H_Points For n-1  ...  A_Venue n-2_Manuka Oval  \\\n",
      "0                106.0  ...                      0.0   \n",
      "1                108.0  ...                      0.0   \n",
      "2                 36.0  ...                      0.0   \n",
      "3                 78.0  ...                      0.0   \n",
      "4                 73.0  ...                      0.0   \n",
      "...                ...  ...                      ...   \n",
      "1776              50.0  ...                      0.0   \n",
      "1777              93.0  ...                      0.0   \n",
      "1778              86.0  ...                      0.0   \n",
      "1779              91.0  ...                      0.0   \n",
      "1780              93.0  ...                      0.0   \n",
      "\n",
      "      A_Venue n-2_Mars Stadium  A_Venue n-2_Marvel Stadium  \\\n",
      "0                          0.0                         0.0   \n",
      "1                          0.0                         0.0   \n",
      "2                          0.0                         0.0   \n",
      "3                          0.0                         0.0   \n",
      "4                          0.0                         1.0   \n",
      "...                        ...                         ...   \n",
      "1776                       0.0                         0.0   \n",
      "1777                       0.0                         1.0   \n",
      "1778                       0.0                         1.0   \n",
      "1779                       0.0                         0.0   \n",
      "1780                       0.0                         1.0   \n",
      "\n",
      "      A_Venue n-2_Metricon Stadium  A_Venue n-2_Optus Stadium  \\\n",
      "0                              0.0                        0.0   \n",
      "1                              0.0                        0.0   \n",
      "2                              0.0                        0.0   \n",
      "3                              1.0                        0.0   \n",
      "4                              0.0                        0.0   \n",
      "...                            ...                        ...   \n",
      "1776                           0.0                        0.0   \n",
      "1777                           0.0                        0.0   \n",
      "1778                           0.0                        0.0   \n",
      "1779                           0.0                        0.0   \n",
      "1780                           0.0                        0.0   \n",
      "\n",
      "      A_Venue n-2_SCG  A_Venue n-2_TIO Stadium  A_Venue n-2_TIO Traeger Park  \\\n",
      "0                 0.0                      0.0                           0.0   \n",
      "1                 0.0                      0.0                           0.0   \n",
      "2                 0.0                      0.0                           0.0   \n",
      "3                 0.0                      0.0                           0.0   \n",
      "4                 0.0                      0.0                           0.0   \n",
      "...               ...                      ...                           ...   \n",
      "1776              0.0                      0.0                           0.0   \n",
      "1777              0.0                      0.0                           0.0   \n",
      "1778              0.0                      0.0                           0.0   \n",
      "1779              0.0                      0.0                           0.0   \n",
      "1780              0.0                      0.0                           0.0   \n",
      "\n",
      "      A_Venue n-2_University of Tasmania Stadium  A_Venue n-2_Westpac Stadium  \n",
      "0                                            0.0                          0.0  \n",
      "1                                            0.0                          0.0  \n",
      "2                                            0.0                          0.0  \n",
      "3                                            0.0                          0.0  \n",
      "4                                            0.0                          0.0  \n",
      "...                                          ...                          ...  \n",
      "1776                                         0.0                          0.0  \n",
      "1777                                         0.0                          0.0  \n",
      "1778                                         0.0                          0.0  \n",
      "1779                                         0.0                          0.0  \n",
      "1780                                         0.0                          0.0  \n",
      "\n",
      "[1781 rows x 733 columns]\n",
      "Split: 1\n"
     ]
    },
    {
     "name": "stderr",
     "output_type": "stream",
     "text": [
      "/home/chris/anaconda3/lib/python3.8/site-packages/sklearn/preprocessing/_label.py:235: DataConversionWarning: A column-vector y was passed when a 1d array was expected. Please change the shape of y to (n_samples, ), for example using ravel().\n",
      "  y = column_or_1d(y, warn=True)\n",
      "/home/chris/anaconda3/lib/python3.8/site-packages/sklearn/preprocessing/_label.py:268: DataConversionWarning: A column-vector y was passed when a 1d array was expected. Please change the shape of y to (n_samples, ), for example using ravel().\n",
      "  y = column_or_1d(y, warn=True)\n"
     ]
    },
    {
     "name": "stdout",
     "output_type": "stream",
     "text": [
      "variables for auroc curve done. Processing fold accuracy + checking best model\n",
      "[ -8.380355    22.690868    -0.23675925  42.02676     29.53716\n",
      "  50.275566   -12.256953    33.118053    10.967261    11.6501665\n",
      "  48.15236    -32.722286    37.4593       9.603425    -5.384178\n",
      "  23.737566    12.560157   -10.00838     17.875137    19.048449\n",
      "  -3.8464508   21.775051     6.969856     8.216976   -40.49174\n",
      "  13.922159     6.9557266    4.8842473   21.183561    30.06131\n",
      "  -1.5104752   12.179608    28.35609     20.821161    13.730139\n",
      "  31.895187   -12.677528    10.154046     7.9379754    1.4031773\n",
      "  18.331482   -17.535036   -13.964122   -34.52256    -26.357746\n",
      "  21.078167     6.0012593  -36.755733    14.157827    50.477905\n",
      "  -9.610441    32.17154     17.624735    32.0896     -41.222603\n",
      "  15.541192   -28.562044   -20.612326    60.61595     33.72553\n",
      "   6.5440483    2.8267426  -11.664149     4.995826    -5.6104784\n",
      " -13.334043    25.3114     -13.66308     11.604844    24.945127\n",
      "  16.600185   -22.173481    32.56323    -23.841251    34.209595\n",
      "  26.741014    17.027517   -21.736721     0.2895164    3.2145176\n",
      "  -4.300193    -5.0916424  -11.261549     5.4793553   28.129766\n",
      "  22.132793     8.963368     1.4245174  -24.55254    -11.1205\n",
      " -11.694422   -12.587865     6.959751    31.96446    -18.835209\n",
      "   8.624155   -13.633332    23.227638    -5.274935    22.238218\n",
      "  28.156803    10.074132    14.897743    -4.3379602    2.263886\n",
      " -33.601444   -24.921543    16.019161     5.389876     8.867706\n",
      "  -7.6993637   24.355618     8.233589    45.38371     12.62202\n",
      " -38.164658    22.081648   -27.430132    -0.1921385   17.08073\n",
      "  14.267078    23.538122     0.1023837    7.9825115    1.8120965\n",
      " -10.776258    -8.966131    10.470677    25.27813     16.488552\n",
      "  48.964645     7.4176054   18.504782    31.180338    15.869222\n",
      "  29.74065     34.03411    -19.64121      1.3829163   11.0513115\n",
      "  21.871778    31.296509   -13.969226     2.387023     4.354847\n",
      "  27.739176     6.8831806   -6.6319227   -1.9045243    8.535253\n",
      "  -8.850525    14.083869    10.789294    -4.467401   -28.61423\n",
      "  43.417027   -12.529594    15.252395    16.749403    10.253684\n",
      "  -4.7306542  -33.451225     4.1688967    2.8968673  -16.06468\n",
      "  -6.7730947   13.605684     4.9707375   15.788616   -26.055222\n",
      "  36.538086    12.411298    14.182928     6.79827      9.690853\n",
      " -35.98957    -31.3821      11.62086     -2.6685913 ]\n",
      "The accuracy of this model is60.893854748603346\n",
      "The rmse of this model is36.41264360387885\n",
      "found new best classify\n",
      "found best new margin\n",
      "Split: 2\n"
     ]
    },
    {
     "name": "stderr",
     "output_type": "stream",
     "text": [
      "/home/chris/anaconda3/lib/python3.8/site-packages/sklearn/preprocessing/_label.py:235: DataConversionWarning: A column-vector y was passed when a 1d array was expected. Please change the shape of y to (n_samples, ), for example using ravel().\n",
      "  y = column_or_1d(y, warn=True)\n",
      "/home/chris/anaconda3/lib/python3.8/site-packages/sklearn/preprocessing/_label.py:268: DataConversionWarning: A column-vector y was passed when a 1d array was expected. Please change the shape of y to (n_samples, ), for example using ravel().\n",
      "  y = column_or_1d(y, warn=True)\n"
     ]
    },
    {
     "name": "stdout",
     "output_type": "stream",
     "text": [
      "variables for auroc curve done. Processing fold accuracy + checking best model\n",
      "[ 28.862776     2.7961557  -13.703328   -24.466946    22.891779\n",
      "  11.343233    13.364191    19.688492    49.073227    18.8945\n",
      "   4.3897657   49.369484   -22.859325    34.03367    -19.293257\n",
      "   2.7383635   23.60876     25.025133   -47.487293     9.175014\n",
      " -32.69699     19.038046   -23.213385    -7.2892265    3.2183537\n",
      "  -0.16475952 -26.870386     0.50949967  34.20427     16.431114\n",
      " -28.386312    -1.5520916  -12.919819   -31.723408   -13.707821\n",
      "  -9.031445    11.868744    23.984602   -13.551033    -4.8108964\n",
      " -15.657543   -16.327505    19.680164    -4.815818   -26.910097\n",
      "  -2.732094    30.790209     1.6012932   40.758415    -4.323036\n",
      "  35.57571    -11.606766     2.6579807   12.399898     1.5133348\n",
      " -19.693949    53.445103    56.679115    -9.077842    15.868766\n",
      "   7.920165   -28.687193   -19.76873     41.044357     1.6488647\n",
      " -12.243475   -36.486305    15.765087   -17.012749   -25.236595\n",
      "   4.0068426   -6.6231785    1.0406582   44.490356    -9.423191\n",
      "  -4.1124396  -25.444239    46.74304     19.252583    19.77248\n",
      " -42.815792     2.5120862   -0.60293996   4.7868376  -15.603985\n",
      "  29.918055    23.172556     7.7640038  -34.0928       7.804782\n",
      "  15.752486   -12.385109     6.890491     8.34503      2.66996\n",
      "  -1.3898559  -10.725312    15.934633    49.976257   -15.283274\n",
      " -12.297404   -44.56372     15.516945     6.942013   -19.406168\n",
      " -14.933848   -25.408604    -7.7224703  -28.401207    47.045864\n",
      "  10.082822   -35.79106     17.10236     18.51262     34.19423\n",
      "  26.501757   -29.333761   -19.042503    18.635725   -26.994547\n",
      "   1.679138     8.552427    12.887869   -12.877589     6.7671423\n",
      "  -2.469469    -3.252834   -11.793333   -19.572105    21.997562\n",
      " -21.71166    -20.321852    18.969196   -18.855093    25.887228\n",
      " -21.359129    30.40359    -20.076601   -24.236605    -2.973953\n",
      " -15.42343      7.838609    32.07338     12.875225   -20.857841\n",
      "  -4.5776906  -17.895695    -3.5059628  -20.064638     4.7622895\n",
      "  29.933657    -0.16269827   9.960234    13.498532   -21.127457\n",
      "  39.751385    43.422817   -16.106602    19.527437   -22.843811\n",
      "   7.4065514   49.445625    22.191366    25.279705     9.898482\n",
      "  24.768957     4.2123137   15.328764    25.268152   -11.431576\n",
      "  16.124855    20.295282   -32.731594   -13.50596     10.939615\n",
      "  13.839034    -3.6768098   -7.295888  ]\n",
      "The accuracy of this model is64.60674157303372\n",
      "The rmse of this model is33.94833515426545\n",
      "found new best classify\n",
      "found best new margin\n",
      "Split: 3\n"
     ]
    },
    {
     "name": "stderr",
     "output_type": "stream",
     "text": [
      "/home/chris/anaconda3/lib/python3.8/site-packages/sklearn/preprocessing/_label.py:235: DataConversionWarning: A column-vector y was passed when a 1d array was expected. Please change the shape of y to (n_samples, ), for example using ravel().\n",
      "  y = column_or_1d(y, warn=True)\n",
      "/home/chris/anaconda3/lib/python3.8/site-packages/sklearn/preprocessing/_label.py:268: DataConversionWarning: A column-vector y was passed when a 1d array was expected. Please change the shape of y to (n_samples, ), for example using ravel().\n",
      "  y = column_or_1d(y, warn=True)\n"
     ]
    },
    {
     "name": "stdout",
     "output_type": "stream",
     "text": [
      "variables for auroc curve done. Processing fold accuracy + checking best model\n",
      "[-2.38218918e+01  1.03848047e+01  1.86656322e+01  6.12190771e+00\n",
      " -6.53918934e+00 -6.07909393e+00  2.43133030e+01  1.75958467e+00\n",
      " -2.34753494e+01 -1.63583164e+01 -1.11841812e+01 -2.50183887e+01\n",
      "  9.09169865e+00  2.30034676e+01  7.17062712e+00 -1.81353836e+01\n",
      " -1.28866272e+01  2.22638874e+01  1.68825779e+01  3.11744714e+00\n",
      " -7.77801800e+00  1.36486025e+01  1.67864857e+01 -5.27051926e+00\n",
      " -4.63246918e+00  2.11981735e+01  2.24064484e+01 -2.01169052e+01\n",
      " -1.21631317e+01  1.65355568e+01  1.40797644e+01  4.41668034e+00\n",
      "  3.88248215e+01  1.58297834e+01  1.23483295e+01  3.49260750e+01\n",
      "  4.46547050e+01  2.87965908e+01 -8.35573101e+00  5.16927261e+01\n",
      "  4.14793777e+01  4.40132618e+00  6.33570814e+00  2.78177476e+00\n",
      "  1.70984783e+01  5.30400705e+00  1.50672932e+01 -1.98980045e+01\n",
      "  3.17110825e+01 -4.22367477e+01  1.43361893e+01 -1.87336178e+01\n",
      " -3.20506477e+01 -9.98057842e+00 -3.30015526e+01  1.88297615e+01\n",
      " -2.70033398e+01  1.06517849e+01 -2.92097988e+01 -2.96821098e+01\n",
      "  4.58011856e+01  2.50558090e+00  2.46826720e+00  4.77966728e+01\n",
      " -1.65343590e+01 -8.39201450e-01 -1.69313788e+00  1.92734528e+01\n",
      "  2.08045139e+01 -3.96980238e+00 -1.93679428e+00  5.80567818e+01\n",
      "  1.92752380e+01 -5.68168402e+00 -4.53623247e+00 -6.65914631e+00\n",
      " -2.88032475e+01 -2.70180130e+01 -2.51082764e+01  1.14833193e+01\n",
      "  2.06694450e+01 -3.09862537e+01  2.94298935e+01  4.13139439e+00\n",
      "  5.37362576e+00  7.77425051e+00  2.63762836e+01  1.66334610e+01\n",
      "  1.52010908e+01  1.22238588e+00  1.26371956e+01  3.02885189e+01\n",
      "  1.56643915e+00  1.83942928e+01 -2.56936665e+01 -3.06377029e+01\n",
      "  2.07295055e+01  9.74228573e+00  1.55324316e+01 -1.18098545e+00\n",
      " -2.22933559e+01  3.53219318e+00  3.33630447e+01  6.62719727e+00\n",
      "  1.82935486e+01  3.85909986e+00  2.74509583e+01  3.27484779e+01\n",
      "  1.84417419e+01  8.74759960e+00 -1.91613636e+01  3.94891143e-01\n",
      "  8.16330338e+00 -1.44929533e+01  1.90869117e+00 -3.55690765e+01\n",
      "  7.91907072e+00  1.58930130e+01 -2.94131927e+01 -1.47911587e+01\n",
      " -1.41956806e-02  1.90693913e+01 -1.40968263e+00  1.13778248e+01\n",
      "  1.12455530e+01  1.05188990e+01  7.10604858e+00 -4.59214687e+00\n",
      "  1.90524406e+01 -1.82750664e+01  9.14799500e+00  9.40298748e+00\n",
      "  1.80186152e+00  2.19607472e+00 -7.45692301e+00 -2.05636806e+01\n",
      " -1.87040138e+01  2.16539745e+01  8.37281227e+00  1.01071558e+01\n",
      "  1.85569823e-01 -2.33299465e+01 -4.08526764e+01  3.31329231e+01\n",
      " -2.56436043e+01 -2.01979904e+01  2.39449120e+01 -6.44935846e+00\n",
      " -1.79484425e+01  2.22285271e+01  3.15898781e+01 -2.05946884e+01\n",
      "  1.21274862e+01  1.09855928e+01  1.93362033e+00  4.36389923e+00\n",
      " -1.00627232e+01 -6.50718927e+00  3.56164360e+01  1.13456516e+01\n",
      "  3.78626213e+01  3.11461473e+00  1.44235172e+01  1.20936985e+01\n",
      "  1.75898819e+01 -2.53789482e+01  1.20780411e+01 -2.23037281e+01\n",
      " -1.62191887e+01  3.10501976e+01  2.31159058e+01  2.31844845e+01\n",
      "  4.62187996e+01  7.97489691e+00  1.28014479e+01  2.58538876e+01\n",
      "  1.54068918e+01 -1.88373337e+01]\n",
      "The accuracy of this model is73.59550561797754\n",
      "The rmse of this model is36.72187548627978\n",
      "found new best classify\n",
      "Split: 4\n"
     ]
    },
    {
     "name": "stderr",
     "output_type": "stream",
     "text": [
      "/home/chris/anaconda3/lib/python3.8/site-packages/sklearn/preprocessing/_label.py:235: DataConversionWarning: A column-vector y was passed when a 1d array was expected. Please change the shape of y to (n_samples, ), for example using ravel().\n",
      "  y = column_or_1d(y, warn=True)\n",
      "/home/chris/anaconda3/lib/python3.8/site-packages/sklearn/preprocessing/_label.py:268: DataConversionWarning: A column-vector y was passed when a 1d array was expected. Please change the shape of y to (n_samples, ), for example using ravel().\n",
      "  y = column_or_1d(y, warn=True)\n"
     ]
    },
    {
     "name": "stdout",
     "output_type": "stream",
     "text": [
      "variables for auroc curve done. Processing fold accuracy + checking best model\n",
      "[ -0.16040528  -1.3212458   -9.763563    -6.2603717   -8.519193\n",
      " -23.727823    22.693789    57.76805      5.583455    -3.861351\n",
      "  39.602238    46.457874    15.059316   -48.23936     18.476427\n",
      " -21.869606     4.369939    57.112568   -20.847631   -10.465984\n",
      " -28.19154     52.163242    13.160999    29.706388    20.764837\n",
      "  -2.1146307    6.7484055   34.439323   -21.515312   -13.580838\n",
      "  14.816103    16.54565    -24.340635    -0.5093099   37.124706\n",
      " -14.592681   -14.064839   -33.549152     8.815768    13.591896\n",
      "  12.640229   -20.768677    15.873196    20.743122   -23.666674\n",
      "  33.421265     4.8161044    9.481034    -7.7861032   19.878914\n",
      "  10.531302    10.048716    11.8329735    7.573302    36.58729\n",
      "  -0.79956555   3.0008652   34.21172    -32.91422     19.889555\n",
      " -26.76719     25.478497    11.089348    33.6486       1.8447428\n",
      "  19.226843    23.920984     8.936104     3.7609708  -12.447685\n",
      "  14.749533    20.125774     0.582322    18.806742    -7.2180634\n",
      "   8.072552    32.945984    22.881247   -11.075608    16.08455\n",
      "  -9.583293     5.743309    -5.945315    15.888188    -5.774825\n",
      " -11.648206    22.49511      6.509394     4.44971     -1.5222633\n",
      "   7.5776186   28.181444   -14.503696   -15.562513    26.00251\n",
      "  24.40221      1.923092    18.795042    12.523317    -3.570232\n",
      "  14.94756     47.05017     22.896101    -9.249629   -13.937019\n",
      "  27.378292    33.743805    17.791328    -9.19585     21.639845\n",
      "  36.891087    -1.7594182   18.109186     1.5939087    6.2285714\n",
      "  31.211306    24.923428    11.955034    -3.949482    10.04949\n",
      "   2.0615187    6.6217694   21.58786     25.12263     26.486225\n",
      "  -3.2346587   11.601676     2.692534    -4.3509636    4.3555126\n",
      "  21.623955    26.95059     -9.410094     2.0234656   -0.26883036\n",
      "   1.3673694  -27.440697   -16.029234     9.633364     9.996597\n",
      "  12.543193    17.046457    -4.497929    -3.0027332    0.6676145\n",
      "  10.771544    25.540064    17.06731     -6.8560405   21.504137\n",
      "   0.7467288  -19.632113   -15.540993     2.0865924   20.020617\n",
      " -18.711308    31.38703    -13.51985     20.95291      0.52649856\n",
      "  22.712862    30.617981   -16.937183    14.170078    -1.2633784\n",
      " -28.045706    16.335264    16.939724    33.460827    28.590176\n",
      "  23.067165    11.847519    30.278822     8.712804     5.4390144\n",
      "   1.552772    17.198488    51.70781   ]\n",
      "The accuracy of this model is65.1685393258427\n",
      "The rmse of this model is37.00469408109646\n",
      "Split: 5\n"
     ]
    },
    {
     "name": "stderr",
     "output_type": "stream",
     "text": [
      "/home/chris/anaconda3/lib/python3.8/site-packages/sklearn/preprocessing/_label.py:235: DataConversionWarning: A column-vector y was passed when a 1d array was expected. Please change the shape of y to (n_samples, ), for example using ravel().\n",
      "  y = column_or_1d(y, warn=True)\n",
      "/home/chris/anaconda3/lib/python3.8/site-packages/sklearn/preprocessing/_label.py:268: DataConversionWarning: A column-vector y was passed when a 1d array was expected. Please change the shape of y to (n_samples, ), for example using ravel().\n",
      "  y = column_or_1d(y, warn=True)\n"
     ]
    },
    {
     "name": "stdout",
     "output_type": "stream",
     "text": [
      "variables for auroc curve done. Processing fold accuracy + checking best model\n",
      "[ 27.702143    24.745699    11.728979     4.0418406   20.597301\n",
      "  28.455904    43.49883    -14.970604    49.232445   -42.982285\n",
      " -28.880217    27.313208    28.386717    -0.7550082   14.853145\n",
      " -30.26597     12.974385     4.164042    40.519466    19.819717\n",
      "  30.609434    -4.3465443   38.703396     6.8164096   17.492222\n",
      "  12.270135    25.530228    19.207022   -27.455227     7.2627645\n",
      "  -2.689845    24.615042    36.524002   -32.880943    13.913164\n",
      "  54.56407     17.94819     14.473376    12.387676   -15.173268\n",
      "   3.562581    31.477745    23.08966     17.771828    14.22713\n",
      " -22.270163    29.125454    39.327633     2.1565058    0.8496853\n",
      " -10.186118     7.046395     0.64673287  39.043602    -2.260715\n",
      " -11.411171    22.538603   -35.910328   -22.16623     -4.038302\n",
      " -16.389687     4.4683795  -15.516106    -6.9234014   32.696728\n",
      "  32.41968    -23.056269    -3.7140484   -8.529385    -4.289135\n",
      " -23.856981    14.543293    19.288485    27.891321    27.802212\n",
      "  50.22003    -23.609875    13.114746    18.86448     17.27935\n",
      "  18.279827    20.007315   -28.408129    -9.966627    -3.9368663\n",
      "  -7.69635     28.69203     -4.6853285   15.091447    -8.756849\n",
      "  33.519432    -2.3543642  -13.935584   -11.740772    27.743074\n",
      "  50.101826    10.65443    -17.323593    13.532271    34.242096\n",
      " -46.787457    18.09202     -1.3116152   16.04707     26.235691\n",
      "  43.9599      -9.964096   -32.36508     -6.976876    40.845245\n",
      "   5.5873084    4.100189    -6.8567977   42.28043     15.243004\n",
      "   0.33405268  18.323162    35.772232    12.970016   -34.196644\n",
      "  16.447279     5.8818207   18.773489     2.5639486    7.1336784\n",
      " -32.176212     7.813765    -9.167764    21.961367    13.972718\n",
      " -28.223059    15.726602     3.7859182    9.878694    -2.1169095\n",
      " -30.215746    18.704489    14.959273    15.274886     1.6522477\n",
      "   1.1705806   -2.6250577    4.3428726   29.955595    22.208347\n",
      " -16.897451    14.210316   -18.912853    11.677715    11.892667\n",
      " -18.926859    -6.469595    26.875557    -7.820507   -14.876494\n",
      "  10.609046    15.718445    -1.4813924   24.541182    15.5378\n",
      "  28.912733     2.3119059   -6.0084577   30.023186    -1.3879458\n",
      "  -3.2591715   -4.88651    -17.30111    -33.41474     44.38234\n",
      "  17.961596   -28.074951    11.642758    34.951992    35.40806\n",
      "  20.84912     44.81205     -2.0839458 ]\n",
      "The accuracy of this model is70.2247191011236\n",
      "The rmse of this model is36.88108436959364\n",
      "Split: 6\n"
     ]
    },
    {
     "name": "stderr",
     "output_type": "stream",
     "text": [
      "/home/chris/anaconda3/lib/python3.8/site-packages/sklearn/preprocessing/_label.py:235: DataConversionWarning: A column-vector y was passed when a 1d array was expected. Please change the shape of y to (n_samples, ), for example using ravel().\n",
      "  y = column_or_1d(y, warn=True)\n",
      "/home/chris/anaconda3/lib/python3.8/site-packages/sklearn/preprocessing/_label.py:268: DataConversionWarning: A column-vector y was passed when a 1d array was expected. Please change the shape of y to (n_samples, ), for example using ravel().\n",
      "  y = column_or_1d(y, warn=True)\n"
     ]
    },
    {
     "name": "stdout",
     "output_type": "stream",
     "text": [
      "variables for auroc curve done. Processing fold accuracy + checking best model\n",
      "[ 17.704584  -13.954633   12.229452   20.959772  -50.58428    28.711031\n",
      "   0.2499946   6.6936154  33.33031    21.91178    -0.8325043  -2.28576\n",
      " -12.738534    4.2514353  39.918175   27.27055    -4.55351   -43.664024\n",
      "   4.026944    1.5327163  12.202744   32.88588   -16.057703    9.144705\n",
      "  20.128277  -16.204992   26.657444  -18.543074   28.182987    6.2812986\n",
      " -25.420357  -10.600383   11.3770275 -30.655666    8.692534  -26.978918\n",
      "  25.912233  -24.1016     15.821202   18.941612   32.835667  -31.652233\n",
      "   1.3638986 -18.561445  -23.477703   46.079132  -37.30626     9.246333\n",
      "  15.075349   -1.2272873  19.556252    5.4594207  56.657818   22.05597\n",
      "  33.209854   -6.741932   25.581877   -9.644551   18.30756    20.872734\n",
      "  30.415167  -13.381534    6.1757703  14.597258   16.364515    5.5072436\n",
      " -10.539985  -27.915312  -21.619652  -39.678333  -30.03954    15.939294\n",
      "  24.150644   -1.42804    28.062328   36.003914  -40.849564   17.543365\n",
      "  23.315483  -22.686798   15.15374    14.868181   15.793583   30.83181\n",
      "  33.178734   13.75352   -16.913887   41.61787    35.57718   -30.665909\n",
      "  -6.621246   35.628483  -15.711315   15.416434  -10.1746025 -15.462996\n",
      " -30.558569   15.013542  -11.627546   12.28235     2.4507294  14.688689\n",
      "  11.102383   -8.921438    4.8710427   9.722901   -8.961911    6.097126\n",
      "  -1.5275192  27.10661   -15.979563   32.225464   28.80767     7.8767567\n",
      "  11.69502    37.16647    -4.311747   11.583078   46.819077    2.8382678\n",
      " -17.728035   10.50157    18.09947   -34.259544   22.772884   18.185314\n",
      "  27.661825   17.37884    19.815979   -2.2894166   6.049016  -33.763874\n",
      "   9.515337   14.375481  -18.48965    37.275738   22.075167    2.0853944\n",
      "  -7.102847    5.0529046  16.718973    2.918158    7.2635646  11.391949\n",
      "   5.6052356  -7.241293   16.99196    24.149569   20.673819   58.71229\n",
      " -18.406652    8.271275   31.207432   19.731722   -4.2927375   8.018118\n",
      "  18.156633  -11.506377    8.970802  -10.672392    3.007165   16.763126\n",
      " -22.65209   -25.239473  -17.112175    1.2872992  12.239981  -22.853409\n",
      " -37.665874  -25.314276   18.73416     9.442674   35.833576  -21.5901\n",
      " -10.6809635  30.612673   27.149794  -11.407211 ]\n",
      "The accuracy of this model is65.1685393258427\n",
      "The rmse of this model is33.46762013861878\n",
      "found best new margin\n",
      "Split: 7\n"
     ]
    },
    {
     "name": "stderr",
     "output_type": "stream",
     "text": [
      "/home/chris/anaconda3/lib/python3.8/site-packages/sklearn/preprocessing/_label.py:235: DataConversionWarning: A column-vector y was passed when a 1d array was expected. Please change the shape of y to (n_samples, ), for example using ravel().\n",
      "  y = column_or_1d(y, warn=True)\n",
      "/home/chris/anaconda3/lib/python3.8/site-packages/sklearn/preprocessing/_label.py:268: DataConversionWarning: A column-vector y was passed when a 1d array was expected. Please change the shape of y to (n_samples, ), for example using ravel().\n",
      "  y = column_or_1d(y, warn=True)\n"
     ]
    },
    {
     "name": "stdout",
     "output_type": "stream",
     "text": [
      "variables for auroc curve done. Processing fold accuracy + checking best model\n",
      "[-24.887512    25.801569   -12.3962145  -10.742713   -33.506767\n",
      " -12.950687   -32.732155   -30.270926    20.190777    -6.6774683\n",
      " -12.529331     6.45177    -22.887215    42.8633     -13.389727\n",
      "  30.6438      19.285889    18.972046    14.515653     6.7693954\n",
      "   2.8604865   30.281403     4.352576   -26.374437    18.979443\n",
      "  49.479645    31.590622    45.66482     34.7874     -27.46405\n",
      "  31.233194     3.1833723   11.90034     14.596413    11.112186\n",
      "   9.166105     7.1716247    8.122461   -14.356587     3.1157105\n",
      "  17.53233     36.262222     0.54957616 -23.541752    -3.1874669\n",
      "  22.278078   -38.941914    -3.7781014   13.295209    26.609797\n",
      "   7.224633    27.264969     6.1323023   -7.7491713   12.746746\n",
      "  31.466547    11.537858    -5.9815297   12.199211    23.525429\n",
      "  23.747906   -12.051641    23.868174   -20.834469   -10.112969\n",
      "  -8.551961    16.04551      9.898793   -20.452526    14.13077\n",
      "   0.40942776  17.031958    11.879082   -39.451683    21.77291\n",
      " -35.33841      5.988761   -19.20149     36.30443     19.022722\n",
      " -10.126522    15.230186    23.226204     8.924831   -36.08548\n",
      " -36.374275    21.722189    22.017649    16.480309   -11.914256\n",
      "   5.995707    -1.4680264  -11.919706    -0.3783393  -12.099728\n",
      "  -0.57330513  -4.7068825   17.956106    -4.786631    19.176678\n",
      "   4.8557754   -4.263585   -34.199516     9.48796     15.345944\n",
      "  18.132215     1.9188162   40.01648      7.1417055   37.800343\n",
      " -32.14191     43.276985    45.427765   -32.79636     12.626908\n",
      "   7.062242   -28.868366     9.185165    -4.6394854   43.95792\n",
      "  -3.4587135    3.2485776   10.517767     5.966009     4.341282\n",
      "  24.20797     18.285303    12.456204    46.13911    -10.613687\n",
      " -12.85923     34.53015     21.226835     0.91007614  35.144184\n",
      "   5.025035   -15.339056    46.873203   -10.498287   -23.590387\n",
      "  35.142616   -29.426107   -27.014307    10.526623   -25.156122\n",
      "  13.6273      34.026894   -30.100668    -2.6068895   12.919975\n",
      "  15.959678     4.910863    21.944902   -15.978395     3.7057736\n",
      "   3.8434384  -29.926258    -4.005301    32.21102      7.81283\n",
      "  34.130848   -21.93264      5.0661945   35.100735   -12.452484\n",
      "  35.02305    -29.791458     9.164561   -38.36007     -4.003437\n",
      "  -8.772517   -43.256523    22.028427    13.834278    -5.650779\n",
      "  31.722843     4.3664675   -2.1501224 ]\n",
      "The accuracy of this model is68.53932584269663\n",
      "The rmse of this model is39.75713612977935\n",
      "Split: 8\n"
     ]
    },
    {
     "name": "stderr",
     "output_type": "stream",
     "text": [
      "/home/chris/anaconda3/lib/python3.8/site-packages/sklearn/preprocessing/_label.py:235: DataConversionWarning: A column-vector y was passed when a 1d array was expected. Please change the shape of y to (n_samples, ), for example using ravel().\n",
      "  y = column_or_1d(y, warn=True)\n",
      "/home/chris/anaconda3/lib/python3.8/site-packages/sklearn/preprocessing/_label.py:268: DataConversionWarning: A column-vector y was passed when a 1d array was expected. Please change the shape of y to (n_samples, ), for example using ravel().\n",
      "  y = column_or_1d(y, warn=True)\n"
     ]
    },
    {
     "name": "stdout",
     "output_type": "stream",
     "text": [
      "variables for auroc curve done. Processing fold accuracy + checking best model\n",
      "[  1.0872526   27.237242    14.812086   -13.088427   -11.60714\n",
      " -19.623121    23.871002    36.575974   -31.385294     7.9594197\n",
      "  22.096523   -15.4610815   30.99567     26.189127    26.61834\n",
      "  -1.8226855   19.15429     11.945255     6.236601    14.019335\n",
      " -12.812964    -3.6121001  -18.708023    17.442184     5.6230335\n",
      "  -3.3288417  -25.801065    17.793543    20.728346    -1.0223652\n",
      " -26.976944    42.572678     1.909771   -45.803066    -5.5695453\n",
      "  -5.3185635  -17.634657    46.47711     39.10772    -13.705234\n",
      "  -5.8817935   14.62167    -26.821012     6.1152015  -14.143636\n",
      " -18.731564    -1.3016968    1.3149003    3.6079996  -16.688652\n",
      " -10.94928     40.89221    -15.743362     0.56294423   5.102127\n",
      " -31.549915    -8.528546    21.369312   -29.183304   -21.318087\n",
      "  14.309593    23.892609   -52.8092      12.632095     7.825981\n",
      " -14.572444    19.318096     3.6737564   35.993725    28.964798\n",
      " -16.967606   -36.187363    45.382442   -24.756298     3.8869803\n",
      "  29.786505    33.259895    20.040571     9.861446    16.594856\n",
      "   1.2378249    2.7551014    1.6325891   36.506374   -32.819275\n",
      "  -9.414521    20.356937    33.46655     26.483273     7.9532905\n",
      "  14.4036      35.996006     2.0127068   -6.571491    25.808697\n",
      " -15.622343     0.83665705  -9.591375    31.928598    -0.8239192\n",
      "   6.269874    30.948288   -27.200653     1.0437102   19.063604\n",
      "  25.284891    -3.705287    -6.078377    35.483807    25.595509\n",
      "  23.375107     7.023248   -17.574352    13.3701     -17.5559\n",
      "  16.235977    14.227235     2.0130424    4.001292   -29.990906\n",
      " -28.300974    22.04156     44.02238     32.917343    -0.8718426\n",
      "  -0.09273237  16.321712   -38.8341       5.124823     3.4023912\n",
      " -31.74749      8.189518    26.27981     17.102034    22.939964\n",
      "  14.653906   -20.474396    -3.752119   -27.010782   -11.147138\n",
      "  10.327884     2.0710511   -4.907961    31.749392    39.266384\n",
      "  17.433336    47.7233      11.561595   -13.854299     2.1969662\n",
      "  10.15694     14.387044   -24.804522    25.0534      20.705282\n",
      "  -4.6731315   28.900469     9.179985    33.430706    13.868856\n",
      "  16.222637    13.4381     -15.83754     18.328938     8.828498\n",
      "  30.71228     -0.74339604   4.362773     4.316412   -30.814173\n",
      "   6.5291514   12.981027    38.058784   -31.771152     6.72513\n",
      " -10.199834    46.749237    20.737495  ]\n",
      "The accuracy of this model is67.41573033707866\n",
      "The rmse of this model is32.888867192754304\n",
      "found best new margin\n",
      "Split: 9\n"
     ]
    },
    {
     "name": "stderr",
     "output_type": "stream",
     "text": [
      "/home/chris/anaconda3/lib/python3.8/site-packages/sklearn/preprocessing/_label.py:235: DataConversionWarning: A column-vector y was passed when a 1d array was expected. Please change the shape of y to (n_samples, ), for example using ravel().\n",
      "  y = column_or_1d(y, warn=True)\n",
      "/home/chris/anaconda3/lib/python3.8/site-packages/sklearn/preprocessing/_label.py:268: DataConversionWarning: A column-vector y was passed when a 1d array was expected. Please change the shape of y to (n_samples, ), for example using ravel().\n",
      "  y = column_or_1d(y, warn=True)\n"
     ]
    },
    {
     "name": "stdout",
     "output_type": "stream",
     "text": [
      "variables for auroc curve done. Processing fold accuracy + checking best model\n",
      "[ -9.409868    30.210201    -1.1987717    8.460293    54.644695\n",
      "  -8.553445    18.001593     1.6731764   32.29445     12.669811\n",
      "  -1.1268704   24.861849    -2.3614051   -8.563104    25.921083\n",
      "  -8.090516    26.36403     -4.9272923   40.009693    11.368443\n",
      "  -8.679698    17.453197   -24.010204   -37.36496     31.750196\n",
      " -18.322493    33.651196    15.427843   -11.608867    25.138794\n",
      " -21.425207    33.802555    -5.1696       8.239536    34.551086\n",
      "  44.02487      3.463577    38.26415     22.020708    -3.9819393\n",
      "  26.152044    43.140762   -44.60909     -2.6856675   34.835102\n",
      "  -3.731238    19.253416    37.58663    -14.440486   -11.918146\n",
      " -28.902384    41.67356      5.1174436   34.92714     -8.721311\n",
      "   8.344503    28.69698     32.33824    -10.661318    -2.151368\n",
      "  20.668882    26.795637    47.536896    27.546513   -12.387764\n",
      " -12.026138   -27.915096    18.407948     1.4636745    1.2967553\n",
      "  -5.613808    10.2844515   19.076385    15.598547    42.54406\n",
      "   4.2099934   44.965042   -13.527335    17.382494   -19.420197\n",
      " -12.213585     6.0774093   -6.667578    13.558312     9.676794\n",
      "  23.421461     3.5226035    7.054134     0.80207396  11.472393\n",
      "   0.7098887   32.804924    -7.8293934   44.60744     24.427431\n",
      "   1.9222662   39.1596       7.941394     4.8390164    6.4279833\n",
      "  -6.5611506   -9.90062     13.292941    16.480267     5.11113\n",
      "  19.544882     7.490583    36.20868     -7.739006   -32.817524\n",
      "  31.739872    34.177082   -28.365873    10.933191    34.367878\n",
      "  -6.5239997    4.778263   -10.402116    43.37952      8.076093\n",
      "   4.946091     2.0393631    7.811449     6.759694    -5.1873574\n",
      "  47.699173    12.201043     9.612244    -8.232933   -27.892906\n",
      "  -4.4156995   26.49838      5.9124866   20.802155    -3.753533\n",
      "  14.110827     9.248897    18.462616   -16.090166    -1.2116724\n",
      "  -0.7177869   21.990847    21.71271     30.340528    21.237726\n",
      "  -9.560967    -9.57279     13.5218935  -47.83779     20.214474\n",
      "  -6.892798   -17.751537   -37.599037    13.5173435   -8.281096\n",
      "   0.93960047   7.489351    20.579685     3.036643    21.841932\n",
      "  32.605858    19.923899    30.566612     7.2318144  -33.020275\n",
      "   4.5701885   24.614223    -4.8159614   10.153428    40.176327\n",
      "   1.3446703   -7.3566437   33.924892    10.257905    37.398804\n",
      "  -1.3341153  -36.28242    -22.371405  ]\n",
      "The accuracy of this model is66.29213483146067\n",
      "The rmse of this model is37.14267786075605\n",
      "Split: 10\n"
     ]
    },
    {
     "name": "stderr",
     "output_type": "stream",
     "text": [
      "/home/chris/anaconda3/lib/python3.8/site-packages/sklearn/preprocessing/_label.py:235: DataConversionWarning: A column-vector y was passed when a 1d array was expected. Please change the shape of y to (n_samples, ), for example using ravel().\n",
      "  y = column_or_1d(y, warn=True)\n",
      "/home/chris/anaconda3/lib/python3.8/site-packages/sklearn/preprocessing/_label.py:268: DataConversionWarning: A column-vector y was passed when a 1d array was expected. Please change the shape of y to (n_samples, ), for example using ravel().\n",
      "  y = column_or_1d(y, warn=True)\n"
     ]
    },
    {
     "name": "stdout",
     "output_type": "stream",
     "text": [
      "variables for auroc curve done. Processing fold accuracy + checking best model\n",
      "[ -7.86604    -42.300312   -17.142708    19.084026    15.64226\n",
      "  -0.5610055   27.39565      5.79134      2.4163895   42.035675\n",
      "  33.821472   -15.535736   -36.6321      12.005892    -3.8201036\n",
      " -17.605074    20.321697     2.0383844   11.738956    29.359106\n",
      "  28.417414   -12.994258     2.7499168   24.319796    16.050694\n",
      "  -8.063007    17.64872     44.838665    21.56646     12.099075\n",
      "   5.7633634   -9.3914585  -21.75609    -17.153389   -30.864471\n",
      " -31.58086     21.212194     6.0236297    8.726211    -1.0161582\n",
      "   6.463462   -12.422073    32.258892     8.7978115  -22.415697\n",
      " -20.310472   -29.577711    21.885078    22.705484    16.301975\n",
      "   4.0660405   -1.614547   -35.796825     7.2613106   12.504923\n",
      "  12.50494      0.21278462  12.216805    27.846724    54.40619\n",
      " -16.168743    30.566673    18.2936      14.459091   -10.48454\n",
      "  13.054349    43.091488    29.173315    -1.4466459   -6.9839134\n",
      "  40.235935     4.8738637   26.048868    33.05331     34.75382\n",
      " -39.54035    -18.574322    11.782678     7.1288986   -9.578245\n",
      "   8.442806    -6.3318644  -16.408611    18.218037    -1.0283225\n",
      " -23.887882    15.310279   -17.574364    35.82283    -11.122473\n",
      "  20.743013    29.6296     -25.55835    -37.88068     24.019423\n",
      "  25.447994    23.528467   -26.364841    38.3249      29.26086\n",
      " -19.163368   -18.932253    11.633336     9.645204    14.350215\n",
      " -14.440773    39.077236    33.425728     5.260795   -21.168772\n",
      "  -2.1841323   -0.51532876 -20.719776     3.9398725  -14.235095\n",
      "   0.55716425  20.672916   -25.063786   -21.853235    -4.609134\n",
      " -13.6441965   39.947        6.2579308    8.498468   -37.264683\n",
      " -41.099358    38.94562     30.713339     2.9579139   -8.118204\n",
      "   8.631529    -3.0335577   13.908993   -21.492722    42.85375\n",
      "  -9.929763    15.401798    27.41951     31.85282    -13.819956\n",
      "   5.405893    21.864449   -11.377957    -1.6561818  -16.287369\n",
      "  20.663101   -20.971666    25.461226    10.289862     7.8489194\n",
      "   6.7101164   10.881362    15.2093725  -31.646492    -2.1294363\n",
      " -14.242879     4.815424    25.73405    -23.243742    -7.027432\n",
      "  13.1719       8.736812     9.707191     7.42258    -14.622584\n",
      " -28.855747   -30.191063    38.619186    43.98843     26.260654\n",
      " -23.069637   -19.553       -5.4713893  -17.037273   -10.920488\n",
      " -20.198076    31.620329    26.147684  ]\n",
      "The accuracy of this model is69.66292134831461\n",
      "The rmse of this model is34.90788756132845\n",
      "Best win percentage split = 73.59550561797754\n",
      "Best margin rmse = 32.888867192754304\n",
      "Training Testing Accuracy: 67.16% (3.37%)\n",
      "Training Testing Margins: 35.91% (1.98%)\n",
      "(1772, 1)\n",
      "(1772, 1)\n",
      "(1772, 1051)\n",
      "X_train shape: (1594, 1051)\n",
      "X_test shape: (178, 1051)\n",
      "Fitting 10 folds for each of 12 candidates, totalling 120 fits\n"
     ]
    },
    {
     "name": "stderr",
     "output_type": "stream",
     "text": [
      "[Parallel(n_jobs=1)]: Using backend SequentialBackend with 1 concurrent workers.\n",
      "[Parallel(n_jobs=1)]: Done 120 out of 120 | elapsed:  2.2min finished\n"
     ]
    },
    {
     "name": "stdout",
     "output_type": "stream",
     "text": [
      "best score: 0.6687578419071518\n",
      "Fitting 10 folds for each of 12 candidates, totalling 120 fits\n"
     ]
    },
    {
     "name": "stderr",
     "output_type": "stream",
     "text": [
      "[Parallel(n_jobs=1)]: Using backend SequentialBackend with 1 concurrent workers.\n",
      "[Parallel(n_jobs=1)]: Done 120 out of 120 | elapsed:  4.1min finished\n"
     ]
    },
    {
     "name": "stdout",
     "output_type": "stream",
     "text": [
      "best score: 0.6687578419071518\n",
      "Fitting 10 folds for each of 12 candidates, totalling 120 fits\n"
     ]
    },
    {
     "name": "stderr",
     "output_type": "stream",
     "text": [
      "[Parallel(n_jobs=1)]: Using backend SequentialBackend with 1 concurrent workers.\n",
      "[Parallel(n_jobs=1)]: Done 120 out of 120 | elapsed:  2.7min finished\n"
     ]
    },
    {
     "name": "stdout",
     "output_type": "stream",
     "text": [
      "best score: 0.6687578419071518\n",
      "Fitting 10 folds for each of 12 candidates, totalling 120 fits\n"
     ]
    },
    {
     "name": "stderr",
     "output_type": "stream",
     "text": [
      "[Parallel(n_jobs=1)]: Using backend SequentialBackend with 1 concurrent workers.\n",
      "[Parallel(n_jobs=1)]: Done 120 out of 120 | elapsed:  1.3min finished\n"
     ]
    },
    {
     "name": "stdout",
     "output_type": "stream",
     "text": [
      "best score: 0.6687578419071518\n",
      "Fitting 10 folds for each of 12 candidates, totalling 120 fits\n"
     ]
    },
    {
     "name": "stderr",
     "output_type": "stream",
     "text": [
      "[Parallel(n_jobs=1)]: Using backend SequentialBackend with 1 concurrent workers.\n",
      "[Parallel(n_jobs=1)]: Done 120 out of 120 | elapsed:  1.1min finished\n"
     ]
    },
    {
     "name": "stdout",
     "output_type": "stream",
     "text": [
      "best score: 0.679422835633626\n",
      "X_train shape: (1594, 1051)\n",
      "X_test shape: (178, 1051)\n",
      "Fitting 10 folds for each of 12 candidates, totalling 120 fits\n"
     ]
    },
    {
     "name": "stderr",
     "output_type": "stream",
     "text": [
      "[Parallel(n_jobs=1)]: Using backend SequentialBackend with 1 concurrent workers.\n",
      "[Parallel(n_jobs=1)]: Done 120 out of 120 | elapsed:  2.5min finished\n"
     ]
    },
    {
     "name": "stdout",
     "output_type": "stream",
     "text": [
      "best score: 0.24049176556010718\n",
      "Fitting 10 folds for each of 12 candidates, totalling 120 fits\n"
     ]
    },
    {
     "name": "stderr",
     "output_type": "stream",
     "text": [
      "[Parallel(n_jobs=1)]: Using backend SequentialBackend with 1 concurrent workers.\n",
      "[Parallel(n_jobs=1)]: Done 120 out of 120 | elapsed:  1.5min finished\n"
     ]
    },
    {
     "name": "stdout",
     "output_type": "stream",
     "text": [
      "best score: 0.24049176556010718\n",
      "Fitting 10 folds for each of 12 candidates, totalling 120 fits\n"
     ]
    },
    {
     "name": "stderr",
     "output_type": "stream",
     "text": [
      "[Parallel(n_jobs=1)]: Using backend SequentialBackend with 1 concurrent workers.\n",
      "[Parallel(n_jobs=1)]: Done 120 out of 120 | elapsed:  1.9min finished\n"
     ]
    },
    {
     "name": "stdout",
     "output_type": "stream",
     "text": [
      "best score: 0.27117671873176025\n",
      "Fitting 10 folds for each of 12 candidates, totalling 120 fits\n"
     ]
    },
    {
     "name": "stderr",
     "output_type": "stream",
     "text": [
      "[Parallel(n_jobs=1)]: Using backend SequentialBackend with 1 concurrent workers.\n",
      "[Parallel(n_jobs=1)]: Done 120 out of 120 | elapsed:  2.5min finished\n"
     ]
    },
    {
     "name": "stdout",
     "output_type": "stream",
     "text": [
      "best score: 0.27117671873176025\n",
      "Fitting 10 folds for each of 12 candidates, totalling 120 fits\n"
     ]
    },
    {
     "name": "stderr",
     "output_type": "stream",
     "text": [
      "[Parallel(n_jobs=1)]: Using backend SequentialBackend with 1 concurrent workers.\n",
      "[Parallel(n_jobs=1)]: Done 120 out of 120 | elapsed:  4.2min finished\n"
     ]
    },
    {
     "name": "stdout",
     "output_type": "stream",
     "text": [
      "best score: 0.27117671873176025\n",
      "      Margin\n",
      "0      -21.0\n",
      "1       42.0\n",
      "2      -34.0\n",
      "3      -37.0\n",
      "4      -24.0\n",
      "...      ...\n",
      "1767    32.0\n",
      "1768   -41.0\n",
      "1769    53.0\n",
      "1770    55.0\n",
      "1771   -63.0\n",
      "\n",
      "[1772 rows x 1 columns]\n",
      "      H_PAV_Sum  A_PAV_Sum  Ladder Pos_H  Form_H  Season Wins_H  \\\n",
      "0        215.03     251.84           3.0     3.0            3.0   \n",
      "1        257.08     204.98           6.0     2.0            2.0   \n",
      "2        258.08     178.63           4.0     3.0            3.0   \n",
      "3        226.35     190.95           9.0     1.0            1.0   \n",
      "4        235.92     212.38          10.0     1.0            1.0   \n",
      "...         ...        ...           ...     ...            ...   \n",
      "1767     203.49     170.85          15.0     0.0            4.0   \n",
      "1768     250.34     262.25           9.0     1.0            9.0   \n",
      "1769     263.09     229.68           8.0     1.0            9.0   \n",
      "1770     258.96     211.34          12.0     2.0            7.0   \n",
      "1771     144.93     250.72          17.0     1.0            2.0   \n",
      "\n",
      "      Season Loss_H  Season Draw_H  H_H/A? n-1  H_H/A Win? n-1  \\\n",
      "0               0.0            0.0         1.0             1.0   \n",
      "1               1.0            0.0         1.0             1.0   \n",
      "2               0.0            0.0         0.0             0.0   \n",
      "3               2.0            0.0         1.0             1.0   \n",
      "4               2.0            0.0         1.0             1.0   \n",
      "...             ...            ...         ...             ...   \n",
      "1767           11.0            0.0         1.0             0.0   \n",
      "1768            6.0            0.0         1.0             1.0   \n",
      "1769            6.0            0.0         1.0             0.0   \n",
      "1770            8.0            0.0         1.0             0.0   \n",
      "1771           13.0            0.0         1.0             0.0   \n",
      "\n",
      "      H_Points For n-1  ...  A_Venue n-3_Mars Stadium  \\\n",
      "0                131.0  ...                       0.0   \n",
      "1                145.0  ...                       0.0   \n",
      "2                135.0  ...                       0.0   \n",
      "3                140.0  ...                       0.0   \n",
      "4                177.0  ...                       0.0   \n",
      "...                ...  ...                       ...   \n",
      "1767              50.0  ...                       0.0   \n",
      "1768              93.0  ...                       0.0   \n",
      "1769              86.0  ...                       0.0   \n",
      "1770              91.0  ...                       0.0   \n",
      "1771              93.0  ...                       0.0   \n",
      "\n",
      "      A_Venue n-3_Marvel Stadium  A_Venue n-3_Metricon Stadium  \\\n",
      "0                            0.0                           0.0   \n",
      "1                            0.0                           0.0   \n",
      "2                            1.0                           0.0   \n",
      "3                            0.0                           0.0   \n",
      "4                            0.0                           0.0   \n",
      "...                          ...                           ...   \n",
      "1767                         0.0                           1.0   \n",
      "1768                         0.0                           0.0   \n",
      "1769                         0.0                           0.0   \n",
      "1770                         0.0                           0.0   \n",
      "1771                         0.0                           0.0   \n",
      "\n",
      "      A_Venue n-3_Optus Stadium  A_Venue n-3_Riverway Stadium  \\\n",
      "0                           0.0                           0.0   \n",
      "1                           0.0                           0.0   \n",
      "2                           0.0                           0.0   \n",
      "3                           0.0                           0.0   \n",
      "4                           0.0                           0.0   \n",
      "...                         ...                           ...   \n",
      "1767                        0.0                           0.0   \n",
      "1768                        1.0                           0.0   \n",
      "1769                        0.0                           0.0   \n",
      "1770                        0.0                           0.0   \n",
      "1771                        0.0                           0.0   \n",
      "\n",
      "      A_Venue n-3_SCG  A_Venue n-3_TIO Stadium  A_Venue n-3_TIO Traeger Park  \\\n",
      "0                 0.0                      0.0                           0.0   \n",
      "1                 0.0                      0.0                           0.0   \n",
      "2                 0.0                      0.0                           0.0   \n",
      "3                 0.0                      0.0                           0.0   \n",
      "4                 0.0                      0.0                           0.0   \n",
      "...               ...                      ...                           ...   \n",
      "1767              0.0                      0.0                           0.0   \n",
      "1768              0.0                      0.0                           0.0   \n",
      "1769              0.0                      0.0                           0.0   \n",
      "1770              0.0                      0.0                           0.0   \n",
      "1771              0.0                      0.0                           0.0   \n",
      "\n",
      "      A_Venue n-3_University of Tasmania Stadium  A_Venue n-3_Westpac Stadium  \n",
      "0                                            0.0                          0.0  \n",
      "1                                            0.0                          0.0  \n",
      "2                                            0.0                          0.0  \n",
      "3                                            0.0                          0.0  \n",
      "4                                            0.0                          0.0  \n",
      "...                                          ...                          ...  \n",
      "1767                                         0.0                          0.0  \n",
      "1768                                         0.0                          0.0  \n",
      "1769                                         0.0                          0.0  \n",
      "1770                                         0.0                          0.0  \n",
      "1771                                         0.0                          0.0  \n",
      "\n",
      "[1772 rows x 1051 columns]\n",
      "Split: 1\n"
     ]
    },
    {
     "name": "stderr",
     "output_type": "stream",
     "text": [
      "/home/chris/anaconda3/lib/python3.8/site-packages/sklearn/preprocessing/_label.py:235: DataConversionWarning: A column-vector y was passed when a 1d array was expected. Please change the shape of y to (n_samples, ), for example using ravel().\n",
      "  y = column_or_1d(y, warn=True)\n",
      "/home/chris/anaconda3/lib/python3.8/site-packages/sklearn/preprocessing/_label.py:268: DataConversionWarning: A column-vector y was passed when a 1d array was expected. Please change the shape of y to (n_samples, ), for example using ravel().\n",
      "  y = column_or_1d(y, warn=True)\n"
     ]
    },
    {
     "name": "stdout",
     "output_type": "stream",
     "text": [
      "variables for auroc curve done. Processing fold accuracy + checking best model\n",
      "[ 2.44128170e+01 -5.08859777e+00 -8.59548473e+00 -1.32032614e+01\n",
      "  4.76189194e+01  7.29154348e+00 -2.52583694e+01  4.90846901e+01\n",
      "  5.52776070e+01  1.33555508e+01 -5.93140602e-01  2.48389606e+01\n",
      "  1.86446915e+01 -1.13788157e+01  1.64472294e+01 -5.39506578e+00\n",
      " -1.52579679e+01 -3.40891457e+00  2.54890213e+01  1.70460796e+01\n",
      " -2.65537663e+01  3.85064812e+01 -4.52092028e+00  1.13709764e+01\n",
      " -7.13531637e+00 -2.54527359e+01  4.51051941e+01  8.28961372e+00\n",
      " -1.07111015e+01  3.18146658e+00 -1.59044991e+01  3.01505566e+01\n",
      " -2.82530479e+01  4.75470543e+01  3.85751038e+01  8.26411533e+00\n",
      "  4.91907349e+01 -4.11175117e+01  5.16652374e+01 -6.59561539e+00\n",
      " -2.49074173e+01 -3.95522118e+01 -4.31888466e+01  2.99217949e+01\n",
      " -2.74537010e+01  4.02030182e+00 -1.60059032e+01  1.41662340e+01\n",
      "  6.17780638e+00  1.22225943e+01  1.02083683e+01  2.89050865e+01\n",
      "  1.88199120e+01 -2.15581207e+01  4.26049156e+01  1.12120562e+01\n",
      " -2.14502125e+01  4.08913078e+01 -1.19805727e+01 -2.06596375e+01\n",
      "  2.27755184e+01  2.11055870e+01  1.90467529e+01  4.00024567e+01\n",
      "  7.78395939e+00  3.27270079e+00 -1.17762232e+00 -4.73146744e+01\n",
      " -1.00031013e+01 -5.10792136e-01  5.84960709e+01  2.60728893e+01\n",
      "  1.51767254e+00  1.89198570e+01  3.37475967e+01  3.77415085e+00\n",
      " -3.07172832e+01 -4.15538940e+01 -3.11922207e+01 -2.38811016e+01\n",
      "  1.94185658e+01  6.06567430e+00  5.74462318e+00 -2.28834343e+01\n",
      " -2.99817133e+00  2.19327965e+01  6.57307816e+00  3.04710350e+01\n",
      " -3.34897690e+01  4.38026094e+00  7.98828125e+00 -1.20188255e+01\n",
      " -1.56840572e+01  9.73302174e+00  3.01119137e+01  9.72564125e+00\n",
      "  3.37283134e+01  6.65259552e+00  1.79365788e+01 -5.75382090e+00\n",
      " -1.18368101e+00 -1.79356251e+01 -1.03324385e+01  1.27144308e+01\n",
      "  6.19706106e+00  7.75241375e+00  4.53071899e+01 -5.40015507e+00\n",
      "  3.36573067e+01  2.93550205e+01 -1.92765350e+01 -1.83698921e+01\n",
      "  1.59382925e+01  6.29206085e+00  1.92119884e+01 -3.10080681e+01\n",
      " -1.43636150e+01 -5.78597260e+00  1.42315483e+00  1.55966682e+01\n",
      " -1.26143563e+00 -5.20449257e+00  5.13556862e+00 -1.21459894e+01\n",
      " -3.73120308e-02  3.36507950e+01  1.72475338e+01  9.50855160e+00\n",
      "  6.16600561e+00  4.18520927e+00 -2.39978962e+01 -1.25913010e+01\n",
      "  1.70168324e+01 -3.91511202e+00  1.77047291e+01 -5.02549362e+00\n",
      "  1.50276365e+01 -1.53079557e+01  8.19716644e+00  1.42106762e+01\n",
      " -1.15345573e+01  7.03596830e+00 -1.35507727e+01  9.94251728e+00\n",
      " -2.49400692e+01  2.81600914e+01 -1.94246330e+01  2.20982685e+01\n",
      "  1.39901991e+01  2.79959202e+01  4.20464020e+01  3.91125526e+01\n",
      "  9.08092117e+00 -1.90908909e+01  2.33636837e+01 -2.00843849e+01\n",
      "  2.40206671e+00 -1.67038040e+01 -6.18844748e-01  2.47741842e+00\n",
      " -1.54201136e+01  2.20408344e+00  3.42607651e+01  2.11673012e+01\n",
      "  2.58276863e+01  1.57586193e+01  6.37396455e-01 -4.67113018e+00\n",
      "  2.95135784e+01 -5.31078644e+01  1.42354259e+01 -1.56108322e+01\n",
      "  3.89573479e+01 -2.72126913e+00  3.45322456e+01 -3.35078468e+01\n",
      "  5.47126465e+01  2.15233078e+01]\n",
      "The accuracy of this model is66.29213483146067\n",
      "The rmse of this model is36.6894199480724\n",
      "found new best classify\n",
      "found best new margin\n",
      "Split: 2\n"
     ]
    },
    {
     "name": "stderr",
     "output_type": "stream",
     "text": [
      "/home/chris/anaconda3/lib/python3.8/site-packages/sklearn/preprocessing/_label.py:235: DataConversionWarning: A column-vector y was passed when a 1d array was expected. Please change the shape of y to (n_samples, ), for example using ravel().\n",
      "  y = column_or_1d(y, warn=True)\n",
      "/home/chris/anaconda3/lib/python3.8/site-packages/sklearn/preprocessing/_label.py:268: DataConversionWarning: A column-vector y was passed when a 1d array was expected. Please change the shape of y to (n_samples, ), for example using ravel().\n",
      "  y = column_or_1d(y, warn=True)\n"
     ]
    },
    {
     "name": "stdout",
     "output_type": "stream",
     "text": [
      "variables for auroc curve done. Processing fold accuracy + checking best model\n",
      "[ 19.628616   -50.462875    25.32667    -11.010156    19.056\n",
      "  34.374863    -5.24164      4.0309153    1.359101   -31.603806\n",
      "  27.153515    33.700073    26.802233    45.380753    15.515099\n",
      "   8.158922     4.474983   -12.385765    20.640306   -27.40662\n",
      "  22.106274    -1.1387159   18.658035    40.119987   -19.976896\n",
      "  13.660569   -39.548656   -34.502827     8.944102   -14.739703\n",
      "   6.546507     4.5628443   -0.29907012  23.675333   -14.180151\n",
      "   4.39596     17.24886      9.234393    36.53542     19.663126\n",
      " -23.05696     15.035112    10.678821    36.863373   -17.216034\n",
      " -31.973896    37.162476   -17.695383    -6.220604    17.344091\n",
      " -10.398108   -19.214521    18.653257    17.992054    -9.372295\n",
      "  -7.9732075    0.91472006 -22.813297   -18.192839    -4.6374397\n",
      "  25.233885   -36.00518    -16.642828    -1.6344285  -56.517673\n",
      "  20.0487      14.955031    15.291288     6.333185     8.767216\n",
      "   2.5477967   17.581526    29.282225    46.122177   -33.710613\n",
      "  16.38147     -3.148274   -14.992588    21.11633     25.412317\n",
      "  19.72769     21.516891     2.4103394   39.71277      4.716124\n",
      "  20.296124   -22.486622    17.435843    38.3619     -17.397797\n",
      "  24.786268    35.618095    10.621621   -43.55428     -2.2992432\n",
      "   2.885644   -13.237975    10.012691    43.036022    14.995777\n",
      "  30.358065     2.2799408   13.889141   -10.6503725    7.6330686\n",
      "  -4.2729573    0.5253151   34.899094     4.1130257   -5.9665112\n",
      "   6.5002666   -5.2808447   -6.251874    -6.184042    -2.839655\n",
      "  32.763878    14.718724    -3.6174679   25.809717    44.21099\n",
      "   0.42005616  42.32265     13.659517    25.947485     8.85835\n",
      " -10.450319    18.206291     7.997026    -1.930058    -2.5499372\n",
      "  -8.051546    21.11929     14.816211   -14.593539   -10.203981\n",
      "  -8.195409   -14.61318    -12.40706     27.479733   -18.321108\n",
      " -14.299581   -12.027645     7.294403     4.604001    -5.8365865\n",
      "   7.717437     9.937259   -15.476986   -10.451783   -21.488586\n",
      "  40.269108     3.4457545    3.2080207   34.195686   -33.494045\n",
      " -12.97467     32.493294     0.6865504  -20.666721    -6.455428\n",
      "   2.14573      8.655059   -22.023123    37.30014     20.937527\n",
      " -30.673328    10.813517    33.676712   -11.759116    28.676231\n",
      "  14.582037    -5.8608494   -2.7387528   14.766829    15.748565\n",
      "  -1.409467    31.635712    12.760334  ]\n",
      "The accuracy of this model is64.60674157303372\n",
      "The rmse of this model is36.85856104757177\n",
      "Split: 3\n"
     ]
    },
    {
     "name": "stderr",
     "output_type": "stream",
     "text": [
      "/home/chris/anaconda3/lib/python3.8/site-packages/sklearn/preprocessing/_label.py:235: DataConversionWarning: A column-vector y was passed when a 1d array was expected. Please change the shape of y to (n_samples, ), for example using ravel().\n",
      "  y = column_or_1d(y, warn=True)\n",
      "/home/chris/anaconda3/lib/python3.8/site-packages/sklearn/preprocessing/_label.py:268: DataConversionWarning: A column-vector y was passed when a 1d array was expected. Please change the shape of y to (n_samples, ), for example using ravel().\n",
      "  y = column_or_1d(y, warn=True)\n"
     ]
    },
    {
     "name": "stdout",
     "output_type": "stream",
     "text": [
      "variables for auroc curve done. Processing fold accuracy + checking best model\n",
      "[ 44.414024    44.554375    15.919524    19.065084    24.713722\n",
      "  38.072506    13.030884    17.76373     18.611567    28.472002\n",
      " -18.902613    40.660282    37.263195   -31.639202   -39.28503\n",
      "  12.457246    23.007856    15.300343    -4.544218   -12.846111\n",
      " -11.50778      3.492405    42.570404    40.239132    10.840735\n",
      " -33.99871    -51.55848     -1.2537774   37.076923   -28.287064\n",
      "  26.00897    -14.036619   -33.87109     63.885746    51.26735\n",
      "  10.7689495   13.5901      -7.2546344  -10.114806   -32.26093\n",
      "  41.073326    34.966316    25.83262     -2.8337667   51.20032\n",
      "  36.42248    -23.072693    -0.506125   -13.727217    33.443813\n",
      "  23.373964   -10.708757    31.381765    39.73069     -9.16958\n",
      " -40.697216   -18.082851    -6.8069224   23.14737     13.5827675\n",
      "  22.310616    20.222136    21.861338   -10.040825    -5.673233\n",
      "  18.298763    17.483368    28.5295     -10.377729   -18.775524\n",
      "   5.241615    -2.4411528   -4.913018     7.372857    13.260925\n",
      " -16.489973   -37.522644     4.267265   -10.257891   -29.396397\n",
      " -29.735483     5.446491    17.961742    47.949764    20.9001\n",
      " -30.342134   -16.257177   -10.918669   -16.141636   -22.925976\n",
      "   8.1121025    2.9885116    2.1198468  -11.940898     8.735537\n",
      "  13.92261    -37.99774     23.626846     8.268628     8.714475\n",
      "  -7.5127935  -14.15947     23.578747   -10.728459    17.048546\n",
      "  40.36654     45.030445    -0.28295732  23.017683    13.524617\n",
      "   8.683147     8.354349   -37.998505    22.3665      11.816445\n",
      " -24.812574   -11.713694    12.094516    23.71666     -4.6440125\n",
      "   1.5654176   22.769037   -27.178991   -20.331564   -19.630646\n",
      "  11.369387    21.136793     5.501767   -10.415665    10.890539\n",
      "  32.14836      8.507308     9.795269    17.952812     1.1476797\n",
      "  11.058304   -13.400184    -4.1086874  -14.620175   -14.285712\n",
      "  10.653154    28.576618    31.833818    22.788403     0.7227931\n",
      " -25.248444    23.394619   -13.653492     5.269595    15.019352\n",
      "   4.186892    -0.9141828  -22.93696     -9.57277     18.97892\n",
      "  25.36669     16.729818     2.7407835   17.582504   -23.70525\n",
      " -24.259222    -8.423439   -25.391651    14.412219    16.966272\n",
      "   5.157168   -23.061426    18.047337   -17.579712    18.620358\n",
      "  31.244188   -31.91576     -0.63844705  13.1769495   -7.039648\n",
      " -21.289232    24.840937  ]\n",
      "The accuracy of this model is62.14689265536724\n",
      "The rmse of this model is36.667889639387724\n",
      "found best new margin\n",
      "Split: 4\n"
     ]
    },
    {
     "name": "stderr",
     "output_type": "stream",
     "text": [
      "/home/chris/anaconda3/lib/python3.8/site-packages/sklearn/preprocessing/_label.py:235: DataConversionWarning: A column-vector y was passed when a 1d array was expected. Please change the shape of y to (n_samples, ), for example using ravel().\n",
      "  y = column_or_1d(y, warn=True)\n",
      "/home/chris/anaconda3/lib/python3.8/site-packages/sklearn/preprocessing/_label.py:268: DataConversionWarning: A column-vector y was passed when a 1d array was expected. Please change the shape of y to (n_samples, ), for example using ravel().\n",
      "  y = column_or_1d(y, warn=True)\n"
     ]
    },
    {
     "name": "stdout",
     "output_type": "stream",
     "text": [
      "variables for auroc curve done. Processing fold accuracy + checking best model\n",
      "[-1.17813396e+00  1.86292000e+01  1.20649748e+01 -1.11482315e+01\n",
      "  2.97758412e+00 -6.20583773e+00 -4.21908569e+01  3.50093231e+01\n",
      " -1.01691608e+01  3.22699013e+01  5.19446487e+01  1.12630959e+01\n",
      " -2.26936893e+01  7.55872202e+00  3.37198029e+01  2.83705235e+01\n",
      "  1.52349091e+01 -1.16885233e+01  8.43985176e+00  9.36792374e+00\n",
      " -2.89750595e+01  6.34007311e+00  4.87436028e+01  4.12627983e+01\n",
      "  1.03037167e+01  1.82906036e+01 -1.15838852e+01 -3.47875710e+01\n",
      " -2.18348103e+01  4.10505333e+01 -8.13523006e+00 -2.25962582e+01\n",
      " -3.06874847e+01  4.64279327e+01 -5.24922729e-01  1.50121899e+01\n",
      " -2.78793144e+01  1.49032631e+01 -2.17559261e+01 -1.03420095e+01\n",
      "  2.07149773e+01  1.03912611e+01  2.09279499e+01  2.97812843e+01\n",
      " -4.74523163e+00 -2.91507320e+01  2.38879967e+01  4.99834824e+01\n",
      " -2.04963112e+01  1.99787540e+01  4.27807808e+01  4.70360136e+00\n",
      "  1.33000021e+01  5.50511627e+01  4.42481232e+00  1.32452106e+01\n",
      "  2.39177227e+01  3.79677162e+01 -1.54335489e+01 -1.21836243e+01\n",
      "  3.04694843e+01 -3.89442110e+00  1.65999317e+01 -2.78947258e+00\n",
      "  2.27674541e+01 -5.52335091e+01  1.52076426e+01  1.80894489e+01\n",
      " -8.31925201e+00  3.72474251e+01 -3.42060890e+01  1.62920551e+01\n",
      "  1.14844494e+01 -4.93489742e+00 -3.33594742e+01  1.04284401e+01\n",
      "  7.13250256e+00 -3.94876599e-02 -1.78364325e+00  7.41223240e+00\n",
      " -8.87748432e+00  4.39463568e+00 -1.88994598e+01 -4.32746124e+01\n",
      " -1.04075298e+01  1.04623365e+01 -2.97597828e+01  3.29340096e+01\n",
      " -1.12593098e+01 -1.15536690e+00  6.21809101e+00 -1.65705585e+00\n",
      "  2.42463417e+01 -2.43771820e+01  6.97740412e+00 -2.08293021e-01\n",
      " -1.18122597e+01 -3.17128525e+01  2.81365776e+01  5.22683680e-01\n",
      " -3.81375790e+00  3.06572914e+01  4.11440048e+01  7.25338125e+00\n",
      "  6.97727156e+00 -1.37455845e+01 -2.84780712e+01  2.11672630e+01\n",
      " -7.50246048e+00 -7.17148685e+00  4.15895004e+01 -3.70898056e+01\n",
      " -6.14948320e+00 -9.07182026e+00  3.75693369e+00 -2.13687687e+01\n",
      " -5.84933519e+00  1.23009853e+01  1.47450581e+01  4.45457764e+01\n",
      " -2.27503433e+01  2.78850765e+01  8.38244438e+00  3.03018284e+00\n",
      " -7.88623142e+00 -1.22929966e+00  2.19013348e+01 -3.07104988e+01\n",
      "  1.04172764e+01  8.72822380e+00 -2.85186825e+01  7.47474384e+00\n",
      "  2.54512548e+00  1.84565461e+00 -1.54741545e+01  1.60163078e+01\n",
      "  6.32340145e+00  1.25920572e+01 -1.33798313e+01  1.84026070e+01\n",
      "  2.88254528e+01  1.66978753e+00 -2.59010811e+01  5.27987766e+00\n",
      "  4.59225693e+01 -3.51655045e+01  1.56937037e+01 -2.08507767e+01\n",
      "  1.45236671e+00 -4.95921850e+00  2.84252014e+01  5.22575712e+00\n",
      " -8.95254254e-01  1.37044258e+01 -3.97319508e+00 -2.39656544e+00\n",
      "  2.95339870e+01 -2.36608868e+01 -2.31368008e+01  1.74185524e+01\n",
      "  4.43395386e+01  2.33497009e+01 -1.24406137e+01  4.73576117e+00\n",
      "  4.47329426e+00  1.81326561e+01  3.80617943e+01  2.05222569e+01\n",
      " -2.35481586e+01  2.14754372e+01  1.69664726e+01  4.20433760e+00\n",
      "  4.64252930e+01  3.35702248e+01 -2.24346638e+00  7.46122742e+00\n",
      "  3.09254894e+01]\n",
      "The accuracy of this model is66.66666666666666\n",
      "The rmse of this model is39.438567272688424\n",
      "found new best classify\n",
      "Split: 5\n"
     ]
    },
    {
     "name": "stderr",
     "output_type": "stream",
     "text": [
      "/home/chris/anaconda3/lib/python3.8/site-packages/sklearn/preprocessing/_label.py:235: DataConversionWarning: A column-vector y was passed when a 1d array was expected. Please change the shape of y to (n_samples, ), for example using ravel().\n",
      "  y = column_or_1d(y, warn=True)\n",
      "/home/chris/anaconda3/lib/python3.8/site-packages/sklearn/preprocessing/_label.py:268: DataConversionWarning: A column-vector y was passed when a 1d array was expected. Please change the shape of y to (n_samples, ), for example using ravel().\n",
      "  y = column_or_1d(y, warn=True)\n"
     ]
    },
    {
     "name": "stdout",
     "output_type": "stream",
     "text": [
      "variables for auroc curve done. Processing fold accuracy + checking best model\n",
      "[ 33.72046    -36.723648     0.6119647  -18.292513    55.28954\n",
      "   8.96071    -24.519281    34.61701     18.11839    -10.092359\n",
      " -24.726162    55.141003   -20.478914    11.717943    -4.0420656\n",
      "  16.073372    -8.717433     7.3830304   21.104937   -29.637997\n",
      "   3.6543555   15.319438    28.813923   -16.158854    24.00974\n",
      "  21.150555     1.9933522  -14.546736    27.748613   -14.26509\n",
      "  13.096117    39.641422    48.823746    -1.4893115  -22.62927\n",
      "  26.09435    -41.64457     13.819169    14.559974    16.587053\n",
      "  10.212443   -14.472713    33.91586    -33.634632    15.624383\n",
      " -44.01153    -23.930302    21.95661     14.101116   -20.375687\n",
      " -23.402294    22.756937     2.9597452   10.49045    -40.75518\n",
      "  18.242294    30.54207      2.517169    28.064283   -37.857582\n",
      "  18.038227    -2.55711     21.247847     8.338435    35.095417\n",
      " -14.709813    13.422881    24.85861    -14.558271     2.1380901\n",
      " -35.639652     5.1673717    9.781958    -2.275871     4.053224\n",
      "  40.061943    20.377117    33.24092    -10.278394    28.250704\n",
      "  14.830119    18.47002     18.586287   -23.4265       9.084252\n",
      " -31.769417    48.24166      1.142494   -17.322487    16.967367\n",
      " -18.4319      -5.775455    46.145664    27.778894   -11.055769\n",
      "  -0.92757416  -6.22882     31.321106    25.485783    19.355299\n",
      "  16.137909    34.393127    40.485783    -8.373701    18.407295\n",
      "   1.0497432   20.609928   -40.253757     5.290669    23.417347\n",
      "  25.726105    20.562836    27.429173   -42.5316     -33.60912\n",
      " -28.16947     25.763037     1.9122015   38.460316    22.838463\n",
      " -21.668873    19.471502     7.7887983    9.987639     7.9404154\n",
      "  14.446905    20.501614     6.0500674   11.535708     1.1445459\n",
      "   4.191288    22.277763   -40.5445      -4.2528853  -24.45745\n",
      "  -0.181584   -23.548113     9.708469    21.977842    39.210007\n",
      "   9.42072      3.4677825   18.27098    -36.330826     3.6497164\n",
      "  -4.586192    25.605532    28.703121    10.642413    -6.3810244\n",
      "  22.22105    -19.515894   -29.80314      9.183203     6.4405537\n",
      "   5.9721785  -12.093298   -24.113949     1.0550926    8.503104\n",
      " -20.516047    32.032444   -29.932203    34.338272    22.100943\n",
      "  16.063286    -7.046721   -29.330841     2.6776116  -36.250977\n",
      " -43.037704     9.996268    34.774384    41.786327     3.858351\n",
      "  14.66323    -24.164812  ]\n",
      "The accuracy of this model is64.40677966101694\n",
      "The rmse of this model is32.97650653161094\n",
      "found best new margin\n",
      "Split: 6\n"
     ]
    },
    {
     "name": "stderr",
     "output_type": "stream",
     "text": [
      "/home/chris/anaconda3/lib/python3.8/site-packages/sklearn/preprocessing/_label.py:235: DataConversionWarning: A column-vector y was passed when a 1d array was expected. Please change the shape of y to (n_samples, ), for example using ravel().\n",
      "  y = column_or_1d(y, warn=True)\n",
      "/home/chris/anaconda3/lib/python3.8/site-packages/sklearn/preprocessing/_label.py:268: DataConversionWarning: A column-vector y was passed when a 1d array was expected. Please change the shape of y to (n_samples, ), for example using ravel().\n",
      "  y = column_or_1d(y, warn=True)\n"
     ]
    },
    {
     "name": "stdout",
     "output_type": "stream",
     "text": [
      "variables for auroc curve done. Processing fold accuracy + checking best model\n",
      "[ 5.89915657e+00  1.03222835e+00  5.49167442e+01  9.37724590e+00\n",
      "  2.46423206e+01  3.12024250e+01 -6.83997059e+00  1.48019791e-02\n",
      "  1.40395432e+01 -5.39179153e+01 -3.60809288e+01  2.32501335e+01\n",
      "  3.20966530e+01  4.94489098e+01  3.24660721e+01 -5.08992243e+00\n",
      " -1.97966957e+00 -1.30421388e+00 -3.98893595e+00 -2.77909145e+01\n",
      "  2.63878231e+01 -2.53881035e+01  3.49624777e+00  7.88293457e+00\n",
      " -3.98318291e+01  1.12605944e+01  5.33672104e+01 -1.29336348e+01\n",
      "  3.98744888e+01  3.16179104e+01 -2.71497416e+00 -1.25814705e+01\n",
      "  5.86255932e+00 -7.99608898e+00  1.89625397e+01  1.80325050e+01\n",
      "  1.08356180e+01  8.59390068e+00  3.65484238e+01  2.14140987e+01\n",
      " -6.67496824e+00 -1.78468590e+01 -3.51495056e+01  4.01400795e+01\n",
      " -6.50663471e+00 -2.93102245e+01 -3.28411179e+01 -4.09930801e+00\n",
      "  1.94738731e+01 -3.27885361e+01 -5.74919415e+00 -2.95867863e+01\n",
      "  2.09605942e+01  1.65347233e+01  1.97552452e+01 -1.91538506e+01\n",
      "  9.86259878e-02 -4.87550402e+00  4.54604454e+01  9.53342056e+00\n",
      " -3.05048752e+01  2.25324821e+01  4.04803848e+01  7.93343925e+00\n",
      " -1.35992241e+01  1.89704075e+01 -3.41796517e+00 -9.35923195e+00\n",
      " -3.54369812e+01 -3.39184189e+00  4.93834114e+01 -2.10156784e+01\n",
      "  2.05794792e+01 -2.78453255e+00  3.44628983e+01  7.79924631e+00\n",
      "  5.11408234e+01 -7.07481575e+00  1.26969891e+01  6.45098639e+00\n",
      " -4.86224747e+00  1.15454330e+01  2.47286377e+01  3.73212509e+01\n",
      "  1.76371765e+01 -9.21868992e+00 -4.28870630e+00  2.48396873e+00\n",
      " -1.77366886e+01 -4.29651880e+00  3.19620075e+01 -1.87305470e+01\n",
      "  2.96920910e+01  3.25362701e+01 -1.16135607e+01  1.07276440e+01\n",
      "  8.52384090e+00  5.91166763e+01  1.27237520e+01 -3.37625027e-01\n",
      "  1.87015076e+01  1.15091267e+01 -3.45264006e+00 -2.24868641e+01\n",
      " -2.95362854e+01  2.21701431e+01  4.00631040e-01  4.26324730e+01\n",
      "  2.37628593e+01  7.87998915e+00  1.62404633e+01  5.69503927e+00\n",
      " -2.61991138e+01  3.39325447e+01  8.42766380e+00  3.22033596e+00\n",
      "  5.78983784e+00  1.29623423e+01 -5.30187225e+00  1.60535107e+01\n",
      "  1.62153511e+01  2.56500053e+01 -1.27094240e+01 -1.96775932e+01\n",
      "  5.24738216e+00  5.07540321e+00  1.32512646e+01  9.47410393e+00\n",
      "  3.84201393e+01  5.83285236e+00  2.95413609e+01  2.54476280e+01\n",
      "  1.03548555e+01  1.80417347e+01  3.15939980e+01  3.41497536e+01\n",
      "  7.34731674e+00  1.46242085e+01  3.86665034e+00  1.79942760e+01\n",
      " -1.64046936e+01 -1.73115292e+01 -6.63081074e+00  5.84622879e+01\n",
      " -3.45056801e+01  2.63311696e+00  2.18647423e+01  1.20873194e+01\n",
      " -1.78923283e+01  2.08480396e+01  4.09296761e+01 -1.33431587e+01\n",
      " -6.19990587e+00 -3.90844464e-01 -9.03639507e+00  4.32107620e+01\n",
      " -5.56198311e+00  3.93415070e+01 -9.98285580e+00  1.92342644e+01\n",
      " -1.50326576e+01  1.97195492e+01  2.78076625e+00  1.78723736e+01\n",
      " -2.89734859e+01  1.91441078e+01  5.91730728e+01  8.47801399e+00\n",
      "  2.89505939e+01 -3.28258133e+01 -1.01661377e+01  4.16862030e+01\n",
      "  2.49209633e+01  1.02574129e+01  3.60435181e+01  8.10013580e+00\n",
      "  7.51407337e+00]\n",
      "The accuracy of this model is68.36158192090396\n",
      "The rmse of this model is31.694023772796665\n",
      "found new best classify\n",
      "found best new margin\n",
      "Split: 7\n"
     ]
    },
    {
     "name": "stderr",
     "output_type": "stream",
     "text": [
      "/home/chris/anaconda3/lib/python3.8/site-packages/sklearn/preprocessing/_label.py:235: DataConversionWarning: A column-vector y was passed when a 1d array was expected. Please change the shape of y to (n_samples, ), for example using ravel().\n",
      "  y = column_or_1d(y, warn=True)\n",
      "/home/chris/anaconda3/lib/python3.8/site-packages/sklearn/preprocessing/_label.py:268: DataConversionWarning: A column-vector y was passed when a 1d array was expected. Please change the shape of y to (n_samples, ), for example using ravel().\n",
      "  y = column_or_1d(y, warn=True)\n"
     ]
    },
    {
     "name": "stdout",
     "output_type": "stream",
     "text": [
      "variables for auroc curve done. Processing fold accuracy + checking best model\n",
      "[  6.440192     0.6078645   10.637131    -6.9923635    0.27410835\n",
      "  -8.98493     -7.832923    57.36857     36.10096    -22.775307\n",
      "  51.854237    11.314103    10.081029    43.19506     37.333443\n",
      "  25.702496     5.4316034   10.159987     5.3863354  -47.719048\n",
      "   8.017363     4.1054134    3.8159573   18.991354    14.608141\n",
      "  31.67572    -43.120617    -8.293468   -34.075596    24.175097\n",
      "  31.70429     27.711079    23.870865     9.190969    -6.573523\n",
      "   6.922602    17.789318    15.620537    31.103981   -16.317652\n",
      " -22.097864   -26.630428     8.868769    41.59051    -13.13226\n",
      " -22.267036    43.581615    -6.711665   -42.112747   -40.913902\n",
      "  -3.9237943  -24.50004    -12.801769    -3.6053648  -31.693153\n",
      "  15.691294     9.834259     8.119567     2.5831437    8.0997715\n",
      "  25.468872    11.001243     5.278086   -16.5534      22.062569\n",
      " -25.876863    10.720647    40.150116     9.59211    -18.105013\n",
      "  42.466736     7.685218    -2.317104    47.31054    -12.136709\n",
      "  31.999577    -4.125473    30.006096    -4.7682405    4.47398\n",
      "  15.778615   -35.032158    33.067345   -19.699785    25.587044\n",
      "   9.365375    24.840063    19.59812     26.382658   -24.848177\n",
      " -35.584106   -26.88755     17.211514   -21.233925    -4.7146235\n",
      "  39.679092    14.983747   -40.325542    29.21249     -0.1076405\n",
      " -22.879547   -16.237581    42.728634    21.824245    18.830496\n",
      "  -2.3346834   16.473871   -20.970478     9.120328   -26.02113\n",
      "  37.620304   -34.139446    -8.14508     17.36965      1.3023821\n",
      " -37.34304    -32.965763     7.9076347  -28.736391    38.314266\n",
      "  56.125805    17.56007     16.263279     5.0627756   52.28719\n",
      "  -5.2845387   22.40483      6.720589    29.57644     35.64556\n",
      "  29.225897    -3.7104888  -31.975204    18.724796   -10.205638\n",
      "  13.917711   -14.060802    51.418674    18.373075    35.297935\n",
      "  15.014862    18.286505     7.600096    10.976352   -32.64463\n",
      "  -2.9908304   20.025991    -2.9064772   16.13245    -31.362383\n",
      "  10.149133    10.60486     24.603823   -31.787724   -16.662607\n",
      "   1.7842885   39.71515    -14.652751    30.035028   -10.136177\n",
      "  18.03623     16.024254   -19.597532    27.410553    -6.2846727\n",
      "  18.707888    28.14701     26.932072    30.536753    -8.994907\n",
      "  -1.1747029    5.151918   -29.12532     -8.768557   -31.170046\n",
      "   2.9563613    6.8125844 ]\n",
      "The accuracy of this model is65.5367231638418\n",
      "The rmse of this model is36.191104093597396\n",
      "Split: 8\n"
     ]
    },
    {
     "name": "stderr",
     "output_type": "stream",
     "text": [
      "/home/chris/anaconda3/lib/python3.8/site-packages/sklearn/preprocessing/_label.py:235: DataConversionWarning: A column-vector y was passed when a 1d array was expected. Please change the shape of y to (n_samples, ), for example using ravel().\n",
      "  y = column_or_1d(y, warn=True)\n",
      "/home/chris/anaconda3/lib/python3.8/site-packages/sklearn/preprocessing/_label.py:268: DataConversionWarning: A column-vector y was passed when a 1d array was expected. Please change the shape of y to (n_samples, ), for example using ravel().\n",
      "  y = column_or_1d(y, warn=True)\n"
     ]
    },
    {
     "name": "stdout",
     "output_type": "stream",
     "text": [
      "variables for auroc curve done. Processing fold accuracy + checking best model\n",
      "[ 21.829735   -3.5316777 -12.894994    2.8051953  49.916718   -5.943688\n",
      " -48.178352   -6.723339   -2.2755432  29.22848   -18.093159  -10.195907\n",
      " -28.003096   15.444319   45.365215   17.994816   -7.7246304  -3.7999716\n",
      "  15.716383   20.536642   -9.1619215 -19.645828    1.5897423  30.645954\n",
      "  -5.028195    6.895258  -29.72527    -5.1927576  27.254414   20.777033\n",
      "  -5.573384  -20.052416   23.61535     1.9857433   1.4773912   3.7187972\n",
      " -24.030369  -30.973242  -25.721228   23.030941   12.699419    3.2752984\n",
      "  28.640934   20.00067   -13.672537  -12.909891   19.242628   11.5238285\n",
      "  20.809198  -11.247479   26.225042  -10.083983    8.616991  -49.577866\n",
      "  16.547457  -45.824295  -31.740978   16.116978   25.934725    2.5230408\n",
      "  12.063755  -42.469166   23.609327    0.6471102 -11.617548   15.700052\n",
      "  41.92972    46.23749    23.46711   -31.827026   20.614292   30.310371\n",
      " -33.64307   -18.425858   -4.1245966 -23.809752  -10.828591   22.124537\n",
      "  15.275358   33.85085    -9.0695      0.7733724 -20.849558   14.700854\n",
      " -20.667217  -13.192502   -4.5873904  19.745111    9.663967   23.487259\n",
      "  33.39544    30.99441    29.219797  -17.347563   18.351439    6.138236\n",
      "  -1.4880447   9.885317   24.830671   16.346107   12.825071   37.474926\n",
      "  47.091553   -3.0611517  29.60079    -1.4750872 -21.618921  -11.774538\n",
      "  25.204529   50.269596   17.250666  -22.74447   -30.478533  -27.273409\n",
      " -10.24556    13.79924     2.3372736  38.19237     8.861341   47.147167\n",
      " -50.804916   24.908875    5.099895    9.020979  -39.597965    6.487467\n",
      "  15.849345   -7.747308    2.9720662  17.261374   21.845436  -18.100388\n",
      "   0.3156885   2.8842044  12.60902    50.7439     17.662365   14.383766\n",
      "  -2.1578717 -28.85619   -13.405018   19.076077   31.819054   -7.059658\n",
      " -25.408249   17.673141    1.0978818  18.356855   36.029408   10.715049\n",
      "   9.755934   19.785812    2.6976297  -1.0612748  16.782299  -13.270508\n",
      "  22.70745     5.9717827  -7.182949   29.452698   41.29219   -25.21186\n",
      "  26.481815  -13.828213  -39.177773   17.989542    0.5025141 -20.771029\n",
      "  36.30294    14.122144  -10.749877   -2.5118916  -4.9219484  11.261019\n",
      "   9.387628  -40.763474   10.780563 ]\n",
      "The accuracy of this model is66.66666666666666\n",
      "The rmse of this model is38.32406032806876\n",
      "Split: 9\n"
     ]
    },
    {
     "name": "stderr",
     "output_type": "stream",
     "text": [
      "/home/chris/anaconda3/lib/python3.8/site-packages/sklearn/preprocessing/_label.py:235: DataConversionWarning: A column-vector y was passed when a 1d array was expected. Please change the shape of y to (n_samples, ), for example using ravel().\n",
      "  y = column_or_1d(y, warn=True)\n",
      "/home/chris/anaconda3/lib/python3.8/site-packages/sklearn/preprocessing/_label.py:268: DataConversionWarning: A column-vector y was passed when a 1d array was expected. Please change the shape of y to (n_samples, ), for example using ravel().\n",
      "  y = column_or_1d(y, warn=True)\n"
     ]
    },
    {
     "name": "stdout",
     "output_type": "stream",
     "text": [
      "variables for auroc curve done. Processing fold accuracy + checking best model\n",
      "[ 2.65308208e+01 -1.96674671e+01 -3.82653198e+01 -5.59254913e+01\n",
      " -1.87307129e+01  1.95077152e+01 -3.98854599e+01  3.60722542e+01\n",
      "  5.06421149e-01 -1.40264864e+01  2.11790085e+01 -1.95015507e+01\n",
      " -9.35664845e+00 -3.04196205e+01  3.23669510e+01 -3.09504547e+01\n",
      "  3.42528687e+01 -1.56997490e+01 -3.26764631e+00  2.07455883e+01\n",
      "  6.44433022e+00 -1.49257498e+01  1.07591944e+01  5.11947203e+00\n",
      "  7.95990849e+00  1.67985649e+01 -3.55177193e+01  1.54052601e+01\n",
      "  2.91391888e+01 -4.17212486e+00  2.59349213e+01  8.08921051e+00\n",
      "  6.25492477e+00  3.75242729e+01  7.15476322e+00  2.49667721e+01\n",
      " -5.96468163e+00  2.43678131e+01  5.79071951e+00  2.41596851e+01\n",
      "  5.18780708e+01 -3.19555116e+00  2.47588024e+01  2.90684853e+01\n",
      " -1.95592046e-02  4.30515938e+01 -1.99544754e+01 -3.68045769e+01\n",
      " -1.70482712e+01  3.82993927e+01  6.27887306e+01  9.39970970e+00\n",
      "  3.96269760e+01  1.58889380e+01  7.94667912e+00 -8.03971767e+00\n",
      " -3.32584648e+01 -6.10986948e-01  1.69036026e+01  4.83717880e+01\n",
      "  1.19644203e+01  7.40788984e+00  6.72615623e+00  3.59042511e+01\n",
      " -8.43089008e+00 -2.35665321e+01  3.49395370e+01  3.54313240e+01\n",
      " -2.43485737e+01  5.30326042e+01 -1.63212795e+01  1.84853516e+01\n",
      "  2.85495815e+01 -2.81023064e+01  6.47150803e+00  1.82401776e-01\n",
      " -1.45244703e+01  2.73805847e+01 -3.80293808e+01 -1.30294333e+01\n",
      "  1.90434189e+01 -1.98404369e+01  3.08200016e+01  2.75076675e+01\n",
      "  4.15579491e+01  2.58308201e+01  3.00590019e+01  1.81952629e+01\n",
      "  1.97353249e+01  1.21928978e+01  3.65808067e+01  6.03112221e+01\n",
      "  1.78625565e+01  3.06895027e+01  3.20919533e+01 -1.63154068e+01\n",
      "  3.29485664e+01 -2.56027260e+01 -1.38638277e+01  1.18795404e+01\n",
      " -6.34024239e+00 -1.13510551e+01 -6.75230598e+00  1.45870714e+01\n",
      "  1.51667604e+01  6.91498089e+00 -1.06828289e+01 -5.28960838e+01\n",
      "  2.71354694e+01 -5.58119678e+00  1.16512461e+01  3.33135033e+01\n",
      " -1.74693131e+00  5.78362007e+01  8.75272465e+00 -1.20938454e+01\n",
      "  2.24816680e+00  2.74181938e+00  2.18219585e+01  3.57923164e+01\n",
      "  4.38260651e+01  2.04977036e+01  1.95492973e+01  1.48439646e+01\n",
      " -4.69924831e+00 -2.66676407e+01 -2.13363018e+01  7.92898273e+00\n",
      "  2.12638779e+01  1.92565346e+01  3.23606873e+01 -1.58720360e+01\n",
      " -3.56488514e+00  1.76111412e+00  2.14815865e+01 -8.48623371e+00\n",
      "  1.75697193e+01  4.47029710e-01 -3.69273453e+01  2.89577751e+01\n",
      " -2.78916335e+00 -1.45185423e+01  4.08243904e+01  1.86744633e+01\n",
      " -2.40253448e+01 -3.43756180e+01 -1.40388775e+01  3.37302818e+01\n",
      "  1.85903568e+01  3.69488411e+01 -3.83199978e+00  2.13541389e-01\n",
      "  4.44141769e+00  1.80920486e+01 -3.63178611e-01  3.91552963e+01\n",
      "  8.67778015e+00  2.05374088e+01  2.42006550e+01  3.30826492e+01\n",
      "  5.05965900e+00  2.18828754e+01  9.56128216e+00  6.45185471e+00\n",
      "  8.37394238e+00  4.12982979e+01  2.14888248e+01 -3.53622551e+01\n",
      " -1.56367645e+01 -3.88175888e+01  2.01419334e+01  4.10383759e+01\n",
      "  1.01318026e+01 -2.19700012e+01  4.86781158e+01  1.19900646e+01\n",
      " -3.71587038e-01]\n",
      "The accuracy of this model is68.92655367231639\n",
      "The rmse of this model is36.296397387901145\n",
      "found new best classify\n",
      "Split: 10\n"
     ]
    },
    {
     "name": "stderr",
     "output_type": "stream",
     "text": [
      "/home/chris/anaconda3/lib/python3.8/site-packages/sklearn/preprocessing/_label.py:235: DataConversionWarning: A column-vector y was passed when a 1d array was expected. Please change the shape of y to (n_samples, ), for example using ravel().\n",
      "  y = column_or_1d(y, warn=True)\n",
      "/home/chris/anaconda3/lib/python3.8/site-packages/sklearn/preprocessing/_label.py:268: DataConversionWarning: A column-vector y was passed when a 1d array was expected. Please change the shape of y to (n_samples, ), for example using ravel().\n",
      "  y = column_or_1d(y, warn=True)\n"
     ]
    },
    {
     "name": "stdout",
     "output_type": "stream",
     "text": [
      "variables for auroc curve done. Processing fold accuracy + checking best model\n",
      "[ -2.7991219  -15.682951    -4.270596    26.23067     -7.0135446\n",
      "  18.738565   -42.995255    -6.812316    42.808643   -12.699544\n",
      "  12.479371     5.9399433  -29.67522     -6.330668   -17.643044\n",
      " -33.34844     15.004578   -37.482296    19.686571    22.740005\n",
      "  27.205544    15.00544     22.500458     7.289556    -7.8899965\n",
      "  10.820527     7.800136    30.580402    29.023918     1.5784767\n",
      "  -0.83486366 -38.693073    50.425514    -8.078707   -14.927902\n",
      "   2.814987     7.9158125    7.3542447  -22.537325    33.391457\n",
      "   3.5132568   15.131094    -1.0439003   23.782635     3.708646\n",
      "  -4.005062     5.818105    36.727627     2.7962236  -16.153852\n",
      "  18.614414    -7.4115157   10.724979    32.331367    17.551033\n",
      "  40.17053    -15.765268    35.739407    25.75534     12.669298\n",
      " -43.883312    12.813739    24.60479     56.674774    -7.7890387\n",
      " -21.049477   -14.085289    27.892221   -17.601004   -20.555416\n",
      "   2.3209388  -22.444853     9.022136   -24.06189     14.727237\n",
      "  10.774043   -21.431936   -25.271027     5.9421153   -0.493118\n",
      "  19.469303    32.954556    -9.111285    38.33365     -4.298934\n",
      "  -4.4189844  -31.611721    11.342277    14.279828    28.474623\n",
      "  -4.026556    38.12084     38.56336     -6.866706    17.856544\n",
      "  28.73104     -5.863015    12.604626   -28.174603    47.171215\n",
      "  24.9212      -8.876251   -15.42737    -19.939411    29.261574\n",
      "  -0.1978792   15.135787   -27.783184     6.8119063   29.93709\n",
      "   6.3009386   28.514547    23.184124    26.407858    -7.2423844\n",
      " -24.667454    -1.8286781   56.644512   -34.110886     6.1355376\n",
      " -13.15097    -29.633465    46.77625    -32.489235   -40.05132\n",
      "   0.83060193   5.3030252   14.174498     0.306184     8.304491\n",
      "   1.619405    37.541298    21.81392      9.554707     7.763392\n",
      "  -6.3310633    2.7305944  -33.07307      6.666782   -27.297548\n",
      "   8.798315     1.8711717    2.8005419   42.042767    11.903354\n",
      "  23.499525     3.8710368  -18.616144    30.881592     4.4621773\n",
      "  -4.807793     3.900971     0.6402719   31.170992   -18.38549\n",
      " -25.510553    14.981084     2.820711    -3.917251   -17.337517\n",
      "  24.325586    21.904408   -18.478308    13.605007    18.373468\n",
      " -19.853045    -0.3362794    2.167356     7.2831964    1.3329251\n",
      "  42.22581      8.603851    22.91847    -41.49592     45.463264\n",
      " -26.486313    31.705542  ]\n",
      "The accuracy of this model is69.49152542372882\n",
      "The rmse of this model is35.231872721704654\n",
      "found new best classify\n",
      "Best win percentage split = 69.49152542372882\n",
      "Best margin rmse = 31.694023772796665\n",
      "Training Testing Accuracy: 66.31% (2.14%)\n",
      "Training Testing Margins: 36.04% (2.17%)\n",
      "(1709, 1)\n",
      "(1709, 1)\n",
      "(1709, 3268)\n",
      "X_train shape: (1538, 3268)\n",
      "X_test shape: (171, 3268)\n",
      "Fitting 10 folds for each of 12 candidates, totalling 120 fits\n"
     ]
    },
    {
     "name": "stderr",
     "output_type": "stream",
     "text": [
      "[Parallel(n_jobs=1)]: Using backend SequentialBackend with 1 concurrent workers.\n",
      "[Parallel(n_jobs=1)]: Done 120 out of 120 | elapsed:  3.6min finished\n"
     ]
    },
    {
     "name": "stdout",
     "output_type": "stream",
     "text": [
      "best score: 0.6417425227568271\n",
      "Fitting 10 folds for each of 12 candidates, totalling 120 fits\n"
     ]
    },
    {
     "name": "stderr",
     "output_type": "stream",
     "text": [
      "[Parallel(n_jobs=1)]: Using backend SequentialBackend with 1 concurrent workers.\n",
      "[Parallel(n_jobs=1)]: Done 120 out of 120 | elapsed: 12.4min finished\n"
     ]
    },
    {
     "name": "stdout",
     "output_type": "stream",
     "text": [
      "best score: 0.6605981794538361\n",
      "Fitting 10 folds for each of 12 candidates, totalling 120 fits\n"
     ]
    },
    {
     "name": "stderr",
     "output_type": "stream",
     "text": [
      "[Parallel(n_jobs=1)]: Using backend SequentialBackend with 1 concurrent workers.\n",
      "[Parallel(n_jobs=1)]: Done 120 out of 120 | elapsed:  5.6min finished\n"
     ]
    },
    {
     "name": "stdout",
     "output_type": "stream",
     "text": [
      "best score: 0.6684005201560468\n",
      "Fitting 10 folds for each of 12 candidates, totalling 120 fits\n"
     ]
    },
    {
     "name": "stderr",
     "output_type": "stream",
     "text": [
      "[Parallel(n_jobs=1)]: Using backend SequentialBackend with 1 concurrent workers.\n",
      "[Parallel(n_jobs=1)]: Done 120 out of 120 | elapsed:  7.5min finished\n"
     ]
    },
    {
     "name": "stdout",
     "output_type": "stream",
     "text": [
      "best score: 0.6684005201560468\n",
      "Fitting 10 folds for each of 12 candidates, totalling 120 fits\n"
     ]
    },
    {
     "name": "stderr",
     "output_type": "stream",
     "text": [
      "[Parallel(n_jobs=1)]: Using backend SequentialBackend with 1 concurrent workers.\n",
      "[Parallel(n_jobs=1)]: Done 120 out of 120 | elapsed: 12.6min finished\n"
     ]
    },
    {
     "name": "stdout",
     "output_type": "stream",
     "text": [
      "best score: 0.6684005201560468\n",
      "X_train shape: (1538, 3268)\n",
      "X_test shape: (171, 3268)\n",
      "Fitting 10 folds for each of 12 candidates, totalling 120 fits\n"
     ]
    },
    {
     "name": "stderr",
     "output_type": "stream",
     "text": [
      "[Parallel(n_jobs=1)]: Using backend SequentialBackend with 1 concurrent workers.\n",
      "[Parallel(n_jobs=1)]: Done 120 out of 120 | elapsed:  7.3min finished\n"
     ]
    },
    {
     "name": "stdout",
     "output_type": "stream",
     "text": [
      "best score: 0.2163994950584917\n",
      "Fitting 10 folds for each of 12 candidates, totalling 120 fits\n"
     ]
    },
    {
     "name": "stderr",
     "output_type": "stream",
     "text": [
      "[Parallel(n_jobs=1)]: Using backend SequentialBackend with 1 concurrent workers.\n",
      "[Parallel(n_jobs=1)]: Done 120 out of 120 | elapsed:  4.3min finished\n"
     ]
    },
    {
     "name": "stdout",
     "output_type": "stream",
     "text": [
      "best score: 0.2265271611420923\n",
      "Fitting 10 folds for each of 12 candidates, totalling 120 fits\n"
     ]
    },
    {
     "name": "stderr",
     "output_type": "stream",
     "text": [
      "[Parallel(n_jobs=1)]: Using backend SequentialBackend with 1 concurrent workers.\n",
      "[Parallel(n_jobs=1)]: Done 120 out of 120 | elapsed:  6.1min finished\n"
     ]
    },
    {
     "name": "stdout",
     "output_type": "stream",
     "text": [
      "best score: 0.2265271611420923\n",
      "Fitting 10 folds for each of 12 candidates, totalling 120 fits\n"
     ]
    },
    {
     "name": "stderr",
     "output_type": "stream",
     "text": [
      "[Parallel(n_jobs=1)]: Using backend SequentialBackend with 1 concurrent workers.\n",
      "[Parallel(n_jobs=1)]: Done 120 out of 120 | elapsed: 23.0min finished\n"
     ]
    },
    {
     "name": "stdout",
     "output_type": "stream",
     "text": [
      "best score: 0.22772448957203986\n",
      "Fitting 10 folds for each of 12 candidates, totalling 120 fits\n"
     ]
    },
    {
     "name": "stderr",
     "output_type": "stream",
     "text": [
      "[Parallel(n_jobs=1)]: Using backend SequentialBackend with 1 concurrent workers.\n",
      "[Parallel(n_jobs=1)]: Done 120 out of 120 | elapsed: 16.8min finished\n"
     ]
    },
    {
     "name": "stdout",
     "output_type": "stream",
     "text": [
      "best score: 0.22772448957203986\n",
      "      Margin\n",
      "0        5.0\n",
      "1      -59.0\n",
      "2      -77.0\n",
      "3       15.0\n",
      "4       -4.0\n",
      "...      ...\n",
      "1704    32.0\n",
      "1705   -41.0\n",
      "1706    53.0\n",
      "1707    55.0\n",
      "1708   -63.0\n",
      "\n",
      "[1709 rows x 1 columns]\n",
      "      H_PAV_Sum  A_PAV_Sum  Ladder Pos_H  Form_H  Season Wins_H  \\\n",
      "0        239.37     261.62           5.0     7.0            7.0   \n",
      "1        178.78     239.86          18.0     0.0            0.0   \n",
      "2        240.11     240.13           9.0     5.0            5.0   \n",
      "3        175.47     262.28          13.0     4.0            4.0   \n",
      "4        219.37     196.24          16.0     2.0            2.0   \n",
      "...         ...        ...           ...     ...            ...   \n",
      "1704     203.49     170.85          15.0     1.0            4.0   \n",
      "1705     250.34     262.25           9.0     5.0            9.0   \n",
      "1706     263.09     229.68           8.0     5.0            9.0   \n",
      "1707     258.96     211.34          12.0     7.0            7.0   \n",
      "1708     144.93     250.72          17.0     1.0            2.0   \n",
      "\n",
      "      Season Loss_H  Season Draw_H  H_H/A? n-1  H_H/A Win? n-1  \\\n",
      "0               3.0            0.0         1.0             0.0   \n",
      "1              10.0            0.0         1.0             0.0   \n",
      "2               5.0            0.0         0.0             1.0   \n",
      "3               6.0            0.0         1.0             0.0   \n",
      "4               8.0            0.0         1.0             0.0   \n",
      "...             ...            ...         ...             ...   \n",
      "1704           11.0            0.0         1.0             0.0   \n",
      "1705            6.0            0.0         1.0             1.0   \n",
      "1706            6.0            0.0         1.0             0.0   \n",
      "1707            8.0            0.0         1.0             0.0   \n",
      "1708           13.0            0.0         1.0             0.0   \n",
      "\n",
      "      H_Points For n-1  ...  A_Venue n-10_Mars Stadium  \\\n",
      "0                 71.0  ...                        0.0   \n",
      "1                 54.0  ...                        0.0   \n",
      "2                 59.0  ...                        0.0   \n",
      "3                 71.0  ...                        0.0   \n",
      "4                 65.0  ...                        0.0   \n",
      "...                ...  ...                        ...   \n",
      "1704              50.0  ...                        1.0   \n",
      "1705              93.0  ...                        0.0   \n",
      "1706              86.0  ...                        1.0   \n",
      "1707              91.0  ...                        0.0   \n",
      "1708              93.0  ...                        0.0   \n",
      "\n",
      "      A_Venue n-10_Marvel Stadium  A_Venue n-10_Metricon Stadium  \\\n",
      "0                             0.0                            0.0   \n",
      "1                             0.0                            0.0   \n",
      "2                             0.0                            0.0   \n",
      "3                             1.0                            0.0   \n",
      "4                             0.0                            0.0   \n",
      "...                           ...                            ...   \n",
      "1704                          0.0                            0.0   \n",
      "1705                          0.0                            0.0   \n",
      "1706                          0.0                            0.0   \n",
      "1707                          0.0                            0.0   \n",
      "1708                          0.0                            0.0   \n",
      "\n",
      "      A_Venue n-10_Optus Stadium  A_Venue n-10_Riverway Stadium  \\\n",
      "0                            0.0                            0.0   \n",
      "1                            0.0                            0.0   \n",
      "2                            0.0                            0.0   \n",
      "3                            0.0                            0.0   \n",
      "4                            0.0                            0.0   \n",
      "...                          ...                            ...   \n",
      "1704                         0.0                            0.0   \n",
      "1705                         1.0                            0.0   \n",
      "1706                         0.0                            0.0   \n",
      "1707                         0.0                            0.0   \n",
      "1708                         1.0                            0.0   \n",
      "\n",
      "      A_Venue n-10_SCG  A_Venue n-10_TIO Stadium  \\\n",
      "0                  0.0                       0.0   \n",
      "1                  0.0                       0.0   \n",
      "2                  0.0                       0.0   \n",
      "3                  0.0                       0.0   \n",
      "4                  0.0                       0.0   \n",
      "...                ...                       ...   \n",
      "1704               0.0                       0.0   \n",
      "1705               0.0                       0.0   \n",
      "1706               0.0                       0.0   \n",
      "1707               0.0                       0.0   \n",
      "1708               0.0                       0.0   \n",
      "\n",
      "      A_Venue n-10_TIO Traeger Park  \\\n",
      "0                               0.0   \n",
      "1                               0.0   \n",
      "2                               0.0   \n",
      "3                               0.0   \n",
      "4                               0.0   \n",
      "...                             ...   \n",
      "1704                            0.0   \n",
      "1705                            0.0   \n",
      "1706                            0.0   \n",
      "1707                            0.0   \n",
      "1708                            0.0   \n",
      "\n",
      "      A_Venue n-10_University of Tasmania Stadium  \\\n",
      "0                                             0.0   \n",
      "1                                             0.0   \n",
      "2                                             0.0   \n",
      "3                                             0.0   \n",
      "4                                             0.0   \n",
      "...                                           ...   \n",
      "1704                                          0.0   \n",
      "1705                                          0.0   \n",
      "1706                                          0.0   \n",
      "1707                                          0.0   \n",
      "1708                                          0.0   \n",
      "\n",
      "      A_Venue n-10_Westpac Stadium  \n",
      "0                              0.0  \n",
      "1                              0.0  \n",
      "2                              0.0  \n",
      "3                              0.0  \n",
      "4                              0.0  \n",
      "...                            ...  \n",
      "1704                           0.0  \n",
      "1705                           0.0  \n",
      "1706                           0.0  \n",
      "1707                           0.0  \n",
      "1708                           0.0  \n",
      "\n",
      "[1709 rows x 3268 columns]\n",
      "Split: 1\n"
     ]
    },
    {
     "name": "stderr",
     "output_type": "stream",
     "text": [
      "/home/chris/anaconda3/lib/python3.8/site-packages/sklearn/preprocessing/_label.py:235: DataConversionWarning: A column-vector y was passed when a 1d array was expected. Please change the shape of y to (n_samples, ), for example using ravel().\n",
      "  y = column_or_1d(y, warn=True)\n",
      "/home/chris/anaconda3/lib/python3.8/site-packages/sklearn/preprocessing/_label.py:268: DataConversionWarning: A column-vector y was passed when a 1d array was expected. Please change the shape of y to (n_samples, ), for example using ravel().\n",
      "  y = column_or_1d(y, warn=True)\n"
     ]
    },
    {
     "name": "stdout",
     "output_type": "stream",
     "text": [
      "variables for auroc curve done. Processing fold accuracy + checking best model\n",
      "[-27.440876     6.6696362  -16.964294     9.184614    32.662926\n",
      "   2.3018928   29.110256     4.048579    21.154713    25.990551\n",
      "  28.859713   -24.741808    13.655757     0.4840852   -8.309317\n",
      "  15.819018    20.604986    -5.827255   -17.335674   -23.622313\n",
      "  -6.500984   -18.178638    19.270641    41.752617    22.628902\n",
      " -13.244483    -2.285188   -25.161734     2.3786893   12.420664\n",
      " -13.476457    12.674385    19.960785   -30.36832     43.106293\n",
      "  41.594353    16.872034    -3.3391547    5.3851213   42.86787\n",
      "  -4.2835355   -0.7108172   49.69786     48.122227    30.246222\n",
      " -16.0194      -7.133302    17.381771   -16.827475    -0.16146213\n",
      " -29.25        23.14669    -11.418544    17.01058      6.4061484\n",
      "  27.586817     3.489183     8.821898    20.286573   -17.733282\n",
      " -12.045765    34.51961     19.248005    11.658796    24.094797\n",
      "   3.7701616    0.17838246  17.531004    -4.117834   -44.93985\n",
      "  25.595203     2.5500019   31.099897    11.701866     9.491672\n",
      " -19.496756    15.29367     15.066896    18.794138    -4.6658897\n",
      "  -5.1110563   42.145237   -13.974022   -11.452137   -12.622074\n",
      "  -4.347674    15.516607    24.44915     -7.2775154   22.764305\n",
      "  23.216799    -9.297764    -2.6646485   35.748787   -22.07221\n",
      "  22.663815   -27.251408    -3.3192232   41.939816     1.3900108\n",
      " -11.664209   -26.778984   -21.73622     22.16243      7.3463583\n",
      " -31.230764    23.540123    25.215754    45.658173    10.641401\n",
      "  19.523062    18.343927     6.748382   -21.615234    11.973903\n",
      "  11.393813    -1.1178601  -39.68068      5.4216647   16.479855\n",
      "   5.557616     2.2039871   35.92225    -11.302614   -35.662334\n",
      "  37.107662     3.3510604   29.861326   -19.415623     6.1721945\n",
      "  26.209719     5.380766    24.957096     1.0815036    5.787089\n",
      "  11.540031     5.3220234   23.125       -3.5109735   23.202873\n",
      "  -9.385232     2.2599154    4.260297    -4.1577506  -12.839022\n",
      " -23.494898    17.170818    23.193539     7.326655   -25.627954\n",
      "  30.220144    19.157307     0.36436278  19.045761   -30.399508\n",
      "  -0.6989714   -4.6531334  -30.720783    17.260052    10.01223\n",
      "  -9.138673     4.744302   -33.230927    49.978024     0.97881305\n",
      "  20.730503   -23.394197    31.260393     0.48173276 -34.885582\n",
      "  -0.19979078]\n",
      "The accuracy of this model is65.49707602339181\n",
      "The rmse of this model is38.90309066214156\n",
      "found new best classify\n",
      "found best new margin\n",
      "Split: 2\n"
     ]
    },
    {
     "name": "stderr",
     "output_type": "stream",
     "text": [
      "/home/chris/anaconda3/lib/python3.8/site-packages/sklearn/preprocessing/_label.py:235: DataConversionWarning: A column-vector y was passed when a 1d array was expected. Please change the shape of y to (n_samples, ), for example using ravel().\n",
      "  y = column_or_1d(y, warn=True)\n",
      "/home/chris/anaconda3/lib/python3.8/site-packages/sklearn/preprocessing/_label.py:268: DataConversionWarning: A column-vector y was passed when a 1d array was expected. Please change the shape of y to (n_samples, ), for example using ravel().\n",
      "  y = column_or_1d(y, warn=True)\n"
     ]
    },
    {
     "name": "stdout",
     "output_type": "stream",
     "text": [
      "variables for auroc curve done. Processing fold accuracy + checking best model\n",
      "[ 20.586817     5.6315026   17.420015   -13.518238     8.56164\n",
      "  38.758343   -25.764185    10.530211    -3.442449    24.201313\n",
      "  15.313719    -1.741111    33.659534    26.391886    20.584776\n",
      " -27.33282     20.912956     5.8885365  -20.459627   -14.328193\n",
      "  -3.1418986  -27.007277    12.043319   -10.448785     0.27857715\n",
      " -31.462133     6.573212    20.675636    49.226746    37.720776\n",
      " -38.610626     5.295967    13.510477   -18.917454    18.973753\n",
      "  -1.3658369   27.459358    42.895054   -14.244697    -8.599055\n",
      " -14.902731    32.939823   -10.688785    12.084058   -17.34544\n",
      " -27.585766    12.960306    -7.275364   -34.936314     6.178849\n",
      " -40.24263     36.93545     -0.61967504  46.153965   -13.277476\n",
      "  11.398905   -24.783838    -3.6908798   37.5277      33.223473\n",
      "   4.157748    -3.8203902   -8.34978     26.758802   -39.21066\n",
      " -11.030277    22.442581   -39.930332    31.497187    25.685751\n",
      " -10.366311    22.92331    -18.529121    22.646477   -26.402767\n",
      "  33.1362       4.3170133    1.2776893   12.425336    15.077553\n",
      "  -4.2281623    6.63019    -28.649027    27.49578     45.190937\n",
      " -52.113167    25.527617     0.4370481   38.9006     -11.811245\n",
      "  -2.1682775  -11.001707    24.55421     -6.4940934   11.068168\n",
      "  -0.80220485  27.074282    22.02556     -5.9633827    6.1944423\n",
      " -32.938442    11.324366     0.36168873  -7.2230916    8.299885\n",
      "   6.1183667   -4.6468654    2.7385457   47.422394    -8.630145\n",
      "   8.582378    34.420887    -7.6872168   13.157481    36.377903\n",
      "  -6.0809236   -0.6805502   52.312706    12.954084   -21.057428\n",
      "  47.939274    11.210743   -44.089905    20.482265    34.970566\n",
      "  33.900578    12.349712    -6.3738375   31.566093    26.892797\n",
      "   4.148574    16.043205   -10.774817    26.228998    -5.516124\n",
      "  -6.3891177   -0.32929277  11.0624275   34.747787     8.527533\n",
      "  18.716736   -10.267797     1.5692143   42.547386     0.3816015\n",
      "  -7.668453   -28.268852    29.561165    27.775352   -11.862249\n",
      "  20.705849    -3.6179738    0.74386096 -23.749187     5.574732\n",
      "   3.5834484    7.30918     19.897076    30.498987    11.503334\n",
      "  -0.05788779  33.31831     -1.4326297   48.114857     5.919091\n",
      "  24.767189     6.618595    15.434159     0.42549697  -1.0482688\n",
      "  25.63696   ]\n",
      "The accuracy of this model is68.42105263157895\n",
      "The rmse of this model is35.27842736615736\n",
      "found new best classify\n",
      "found best new margin\n",
      "Split: 3\n"
     ]
    },
    {
     "name": "stderr",
     "output_type": "stream",
     "text": [
      "/home/chris/anaconda3/lib/python3.8/site-packages/sklearn/preprocessing/_label.py:235: DataConversionWarning: A column-vector y was passed when a 1d array was expected. Please change the shape of y to (n_samples, ), for example using ravel().\n",
      "  y = column_or_1d(y, warn=True)\n",
      "/home/chris/anaconda3/lib/python3.8/site-packages/sklearn/preprocessing/_label.py:268: DataConversionWarning: A column-vector y was passed when a 1d array was expected. Please change the shape of y to (n_samples, ), for example using ravel().\n",
      "  y = column_or_1d(y, warn=True)\n"
     ]
    },
    {
     "name": "stdout",
     "output_type": "stream",
     "text": [
      "variables for auroc curve done. Processing fold accuracy + checking best model\n",
      "[-11.156669   -35.732044   -10.30468     -2.8153756  -26.182253\n",
      "  30.938475    26.693544   -15.371364    19.161304     7.2443147\n",
      " -37.241856    28.284695   -31.467434    44.815628    25.012707\n",
      " -35.009125    26.465685    -6.436414   -37.69366    -30.256521\n",
      "  15.876588    -5.6121006    2.112935    43.203003   -35.66069\n",
      "  -8.186386    18.020405   -35.533405    31.175455   -10.241372\n",
      "  56.23105     -7.5037613  -17.105347   -47.340946    26.572449\n",
      "  40.84528     27.884714    40.862114     9.901847    10.166039\n",
      "   2.8354018   33.139202    -3.0737588   25.593575   -32.315094\n",
      " -30.212595    31.115295   -31.578709    25.696253    -9.290616\n",
      "  16.263489   -23.556997   -16.432228     6.9471335  -14.781072\n",
      "   1.1653678   11.699868    -4.5657706   11.241195    16.057146\n",
      "  -2.2019608  -23.99844     -8.779359    -8.653839    43.727013\n",
      " -15.863657     0.316662    30.834642    10.3028145    7.5740843\n",
      " -30.770596     4.635084    16.521511    -1.8172703   42.189693\n",
      "  19.222849    37.758068     2.692916    -5.9163966   44.113415\n",
      " -24.572594   -23.784964   -20.229105   -42.36577    -11.55395\n",
      "  43.85904    -17.730322     2.2268248   38.371944    21.272964\n",
      " -25.984035     5.809727    27.722178    16.292997    27.563519\n",
      "  23.849966    11.398008    33.055134   -21.545055     6.557606\n",
      "   3.5331917   10.159964     2.3535168    9.828018     0.2348193\n",
      "   2.6934493  -24.809753   -31.912827    15.700302     4.364469\n",
      "   5.861257   -15.201007   -32.44568     21.53363    -28.97244\n",
      "  -1.7166784    0.35135025  12.611264    -3.9337478    5.587418\n",
      "  25.940447   -28.784899    22.882002   -18.579916    -2.0974617\n",
      " -10.246922   -19.181076    -3.7564783    1.0797801   35.561707\n",
      " -42.86854     -6.0444155    9.946573   -15.137915    25.768919\n",
      "  -4.6307993   -5.467457    24.737608    -9.83683    -36.180378\n",
      "  -6.010813     2.1032424  -15.423902    23.635202    23.514729\n",
      "  28.726625     2.4869385    6.2427855   27.296722    31.103184\n",
      " -33.57631    -19.70889      3.1999567   34.07251    -15.661245\n",
      "   5.325354   -17.910748   -18.43343     26.061563    -4.43434\n",
      "   6.1535025   32.838383   -37.28757    -20.10658     23.861156\n",
      "   3.2433941   19.18357     22.179438   -41.37282     44.898792\n",
      "  -8.867145  ]\n",
      "The accuracy of this model is68.42105263157895\n",
      "The rmse of this model is35.750887415290656\n",
      "Split: 4\n"
     ]
    },
    {
     "name": "stderr",
     "output_type": "stream",
     "text": [
      "/home/chris/anaconda3/lib/python3.8/site-packages/sklearn/preprocessing/_label.py:235: DataConversionWarning: A column-vector y was passed when a 1d array was expected. Please change the shape of y to (n_samples, ), for example using ravel().\n",
      "  y = column_or_1d(y, warn=True)\n",
      "/home/chris/anaconda3/lib/python3.8/site-packages/sklearn/preprocessing/_label.py:268: DataConversionWarning: A column-vector y was passed when a 1d array was expected. Please change the shape of y to (n_samples, ), for example using ravel().\n",
      "  y = column_or_1d(y, warn=True)\n"
     ]
    },
    {
     "name": "stdout",
     "output_type": "stream",
     "text": [
      "variables for auroc curve done. Processing fold accuracy + checking best model\n",
      "[ 29.032963   27.764832   17.419374  -20.550058   12.809736   32.351204\n",
      "  73.60928     1.4371191 -24.420187   19.978579   25.828466    7.045142\n",
      " -21.539751   -3.3844383   7.5986943  16.326914   39.1603     26.155647\n",
      "  20.701763   12.904805    5.49079    50.398335   11.112169  -31.276606\n",
      "  -7.9160614  -1.3546482 -26.219946   15.967833   14.194702   25.567125\n",
      "  15.610893   28.55232    -8.267888    8.340032    5.863753   11.22271\n",
      "   3.0909212  42.913177   22.418304  -11.857358   41.748753  -40.560715\n",
      "  11.063723   14.313511  -13.996444   41.416992   25.791685    4.6251183\n",
      " -30.111927  -23.990503   24.156929   14.399141   12.356206   -0.9276074\n",
      "  42.443027  -32.249447   14.058913  -20.283855  -18.510357    9.505103\n",
      "  -4.6590886  34.753582  -32.314133  -29.930552   20.610847  -37.88229\n",
      "   5.6304564   9.593064    7.857601  -11.460256   27.38005     4.220255\n",
      "  28.581367   25.847685   -8.220734   23.991495  -34.055458   15.560955\n",
      "  22.567944   12.629686  -10.669078   47.498966   19.018679  -18.895596\n",
      "  15.78702     9.919285  -19.065336  -20.123554   -9.833432   16.15937\n",
      "  14.167363   -4.4372134  40.72729    30.246075   28.412945  -17.600258\n",
      " -14.601093   42.719566   37.961174   40.246178  -18.418173   11.6641245\n",
      "  35.26076    22.821293  -35.24946    57.048008  -40.322536   18.285992\n",
      "  53.989212    9.137634   20.872318   24.33557    -1.4472051   3.0183346\n",
      " -12.177573  -10.650933    2.9617546 -12.690048   32.425888   18.51089\n",
      "  13.81106     6.8371763 -12.694334   20.401718   19.254648  -33.506763\n",
      "  -7.0036306  35.686832   26.852314  -13.1238985  -8.6024685  11.62413\n",
      "  26.85298    12.289226   10.013009   34.67619     9.709827  -19.695774\n",
      " -33.887104   20.920158   -5.790467   26.823366   29.475174   25.320856\n",
      " -15.736961   20.597416   30.329315   47.948387    8.008763   45.785053\n",
      "  23.792366   15.824126   34.96271    21.106348   23.943684   16.537365\n",
      " -10.9885     42.195606    6.36999    19.130836   25.312231   -8.233811\n",
      "  13.818762  -41.3681    -13.079043   18.092415   23.46009     1.5418773\n",
      "  -2.2263665  46.346363    3.3027515]\n",
      "The accuracy of this model is71.34502923976608\n",
      "The rmse of this model is36.69272808148553\n",
      "found new best classify\n",
      "Split: 5\n"
     ]
    },
    {
     "name": "stderr",
     "output_type": "stream",
     "text": [
      "/home/chris/anaconda3/lib/python3.8/site-packages/sklearn/preprocessing/_label.py:235: DataConversionWarning: A column-vector y was passed when a 1d array was expected. Please change the shape of y to (n_samples, ), for example using ravel().\n",
      "  y = column_or_1d(y, warn=True)\n",
      "/home/chris/anaconda3/lib/python3.8/site-packages/sklearn/preprocessing/_label.py:268: DataConversionWarning: A column-vector y was passed when a 1d array was expected. Please change the shape of y to (n_samples, ), for example using ravel().\n",
      "  y = column_or_1d(y, warn=True)\n"
     ]
    },
    {
     "name": "stdout",
     "output_type": "stream",
     "text": [
      "variables for auroc curve done. Processing fold accuracy + checking best model\n",
      "[ -8.025579    -5.0931935   24.21645     -3.432909   -11.751975\n",
      " -23.332136    47.902657    -8.187648    24.888596    10.505977\n",
      "  21.051277     8.477751    32.525635    42.042046    18.43971\n",
      "  19.214874    10.168924    -3.9962168  -19.241074    13.562666\n",
      "  31.213747    17.97967    -15.470808    -7.8627014  -42.284195\n",
      "  31.344343   -17.491018     3.1066365   -1.6095304   35.526295\n",
      "  13.192207    28.301342    12.015047   -27.932098    11.987749\n",
      "  29.477823    17.531345    10.39928      1.7508472  -24.194462\n",
      "  11.708289   -41.11881     21.644484    44.450386    19.21209\n",
      "  42.27524     12.855108   -12.283479    34.071606   -10.595117\n",
      "  51.57331     11.806014    -4.331729    18.683424    -4.614054\n",
      "   1.6568068  -31.08325    -13.774809    28.279432   -12.174585\n",
      "  32.653564    25.312674   -15.405185    33.2008     -45.128677\n",
      "  -7.1335893   58.077717    -6.370752   -16.795794    29.14849\n",
      " -20.239508    -2.975357    20.320963    15.193929    22.70943\n",
      "  -9.881867    -0.6918076    3.5098665   28.655773    13.030577\n",
      "   8.296663     1.0962152  -33.141953   -34.365395    29.382238\n",
      " -27.279776   -36.35543      5.5757303   -7.368424    39.147873\n",
      "  18.926579    29.322151   -15.083829   -41.006077   -22.189352\n",
      "  19.804678   -15.513458   -36.797577    40.377525    20.60804\n",
      "  -7.164614     0.61434317   6.998596   -15.812172     6.330054\n",
      " -33.28484     20.729399    -3.5919614   10.328013    36.079674\n",
      " -44.35092     14.525121    14.211226    13.388949   -17.604286\n",
      " -13.037964    25.86256     -4.448823     5.397776    35.998035\n",
      "  10.484089    25.83078      2.18549     -0.85834956 -17.456882\n",
      " -16.693241   -34.381775   -17.675697    15.187733     2.141864\n",
      "  27.346733     2.7101238   23.001093    29.071526   -16.559452\n",
      "  19.45753      9.004826    10.480725    14.416803     8.71885\n",
      "  -8.853782    43.58309    -26.560883    -5.198059   -16.855072\n",
      " -17.518473     6.7628317    5.490734    35.718212   -26.439066\n",
      "   3.3260238    9.563222     6.3191977  -11.081222    14.104734\n",
      " -33.28022     -7.2640104    9.146551     7.614798    -6.159211\n",
      " -19.364435   -43.585125    47.001873    12.157013    -2.1568022\n",
      "   9.525626    31.883314   -11.439122    20.49246     -0.41578394\n",
      " -31.024302  ]\n",
      "The accuracy of this model is63.1578947368421\n",
      "The rmse of this model is34.00892523882573\n",
      "found best new margin\n",
      "Split: 6\n"
     ]
    },
    {
     "name": "stderr",
     "output_type": "stream",
     "text": [
      "/home/chris/anaconda3/lib/python3.8/site-packages/sklearn/preprocessing/_label.py:235: DataConversionWarning: A column-vector y was passed when a 1d array was expected. Please change the shape of y to (n_samples, ), for example using ravel().\n",
      "  y = column_or_1d(y, warn=True)\n",
      "/home/chris/anaconda3/lib/python3.8/site-packages/sklearn/preprocessing/_label.py:268: DataConversionWarning: A column-vector y was passed when a 1d array was expected. Please change the shape of y to (n_samples, ), for example using ravel().\n",
      "  y = column_or_1d(y, warn=True)\n"
     ]
    },
    {
     "name": "stdout",
     "output_type": "stream",
     "text": [
      "variables for auroc curve done. Processing fold accuracy + checking best model\n",
      "[ 11.920872   -26.534178   -13.847577   -33.06208    -23.199001\n",
      " -33.034428    -4.058721    10.07053     27.776793    28.352865\n",
      " -12.525243    41.164204    -1.1606683   -6.247079   -20.485842\n",
      " -21.5913      35.418938   -13.658011   -16.486765    10.453082\n",
      "  18.739927   -24.379585     0.9276586   55.04791      8.037287\n",
      "  -6.0277233   24.929728    33.031536    22.652111    30.226503\n",
      "  12.97496     10.513498     6.693248     2.1598628  -21.955984\n",
      " -53.59154     -0.47684407   9.96155      5.4276237   -6.495375\n",
      "  -6.0078063    0.6226241  -18.945833    21.859465     9.9857855\n",
      "   0.72258186 -11.583029   -35.00315     -2.001382    21.649313\n",
      " -11.986866   -21.935192     9.892313    39.122704    50.896603\n",
      "  13.649466    -2.5213625  -20.47011    -32.557743   -11.809795\n",
      "  12.45768     18.54686     29.637503   -26.651985   -41.528473\n",
      " -12.696489   -36.868107   -10.340232   -24.332071    30.208145\n",
      "  -2.9545255   30.041283    22.664206    20.949047    30.475216\n",
      "   2.2427926   22.11756     33.144035    -5.712227     5.6284604\n",
      "  13.10079    -39.774544     6.9093237   23.124521    -4.0626736\n",
      "  13.702123    34.14881     12.336548   -32.978878    -1.6753595\n",
      "  15.678146   -23.543259    -5.646013    30.234932   -27.33121\n",
      "  40.64234      7.508291    16.709534     3.887597    22.970491\n",
      "  -7.554243    18.022877     4.1762376  -24.494848    41.28436\n",
      "  13.96604     45.228107    39.08727     23.136211   -12.419354\n",
      "  45.16524     16.40155     19.419691     8.830505    38.57789\n",
      " -17.622776    15.571911    -4.673688   -29.239576     1.5218945\n",
      "  25.950623     6.688161    -4.1975236   -1.5956945   23.652534\n",
      " -24.316242    14.029717    20.885826   -12.3078575   34.799946\n",
      " -15.230598    -7.346087   -38.794804    -1.5879397    5.7372456\n",
      "  14.0988245  -10.464535    10.746319    18.581116    -4.263557\n",
      "  -3.5728092  -28.41481    -24.208433     2.0069413   19.495262\n",
      "  -9.766253    25.086464    12.76268    -18.272352   -13.547228\n",
      "  39.97611     32.180325    11.930491    15.4048      -8.85666\n",
      " -21.5378      -0.6225951  -23.58669     -4.5017133   33.70067\n",
      " -34.76646     24.429977   -38.852036     7.3838024   35.18778\n",
      "  25.656464    31.151287   -29.652271     8.887189    45.103096\n",
      "  50.814365  ]\n",
      "The accuracy of this model is65.49707602339181\n",
      "The rmse of this model is38.47548258315092\n",
      "Split: 7\n"
     ]
    },
    {
     "name": "stderr",
     "output_type": "stream",
     "text": [
      "/home/chris/anaconda3/lib/python3.8/site-packages/sklearn/preprocessing/_label.py:235: DataConversionWarning: A column-vector y was passed when a 1d array was expected. Please change the shape of y to (n_samples, ), for example using ravel().\n",
      "  y = column_or_1d(y, warn=True)\n",
      "/home/chris/anaconda3/lib/python3.8/site-packages/sklearn/preprocessing/_label.py:268: DataConversionWarning: A column-vector y was passed when a 1d array was expected. Please change the shape of y to (n_samples, ), for example using ravel().\n",
      "  y = column_or_1d(y, warn=True)\n"
     ]
    },
    {
     "name": "stdout",
     "output_type": "stream",
     "text": [
      "variables for auroc curve done. Processing fold accuracy + checking best model\n",
      "[-1.92172241e+01  5.97450590e+00 -1.99239616e+01  1.79496746e+01\n",
      "  3.15581951e+01  1.02597523e+01 -2.06088161e+01  2.65262260e+01\n",
      "  1.60595436e+01  2.73475218e+00  3.83532619e+00  2.15572720e+01\n",
      " -8.61452579e+00 -1.14391909e+01  1.68601742e+01  1.05799675e+01\n",
      "  9.71226501e+00  2.55008144e+01 -1.90440044e+01 -1.61602325e+01\n",
      " -4.47808647e+01  2.15956974e+01  1.92737045e+01 -1.56795025e+01\n",
      " -2.65587387e+01  9.17924595e+00  3.55071211e+00 -3.66683617e+01\n",
      "  3.20637012e+00  4.10199051e+01  1.11517019e+01 -1.90963497e+01\n",
      "  3.09285011e+01  1.42556438e+01  2.02368011e+01  2.00503445e+01\n",
      " -6.71911716e+00 -2.93368111e+01 -3.15485153e+01  2.85775890e+01\n",
      "  1.00251379e+01  2.08349590e+01  2.38215294e+01 -3.04447289e+01\n",
      "  4.14514389e+01 -3.63944969e+01  1.35449257e+01 -1.39145889e+01\n",
      "  2.69226933e+01  2.19233066e-01  2.07263756e+01  3.38633957e+01\n",
      "  1.46113348e+01  3.97507248e+01  5.43697500e+00 -1.24317741e+01\n",
      " -3.40764923e+01  8.53739548e+00  6.12043095e+00 -6.17714357e+00\n",
      "  1.84610176e+01  9.95779705e+00 -2.28282661e+01  4.18591022e+00\n",
      "  2.07762394e+01  2.40202675e+01  5.08343010e+01  1.59987555e+01\n",
      " -8.82435799e+00  1.77012768e+01 -1.79722977e+01  3.15660954e+01\n",
      " -8.84147644e+00 -4.24703293e+01 -1.26107893e+01  1.02505660e+00\n",
      " -2.16946816e+00 -3.62062454e+01  2.74416466e+01  2.10788918e+01\n",
      " -7.94940376e+00 -2.52323551e+01  1.15332451e+01  1.46982498e+01\n",
      "  1.07477779e+01  3.95252113e+01  2.97722187e+01  1.05858765e+01\n",
      "  2.38882580e+01 -1.54800100e+01  1.63472044e+00  5.40215588e+00\n",
      "  1.94782853e+00 -7.63482571e-01 -3.49526024e+01  3.26916313e+01\n",
      "  3.37915306e+01  3.86151428e+01  3.66593552e+01  1.85343971e+01\n",
      "  1.73040600e+01  4.58428459e+01 -1.82226396e+00 -3.44675560e+01\n",
      "  2.28091087e+01 -3.72644463e+01  2.74535865e-01  1.19184837e+01\n",
      " -3.48182464e+00 -3.44203472e+00  1.02736759e+01  2.64362011e+01\n",
      "  1.67202892e+01  1.00913811e+01 -2.52832069e+01  1.42350769e+01\n",
      " -1.85451317e+01 -1.90647984e+01  1.67859821e+01 -7.69604492e+00\n",
      " -4.01837730e+00 -2.73974762e+01  2.33195877e+01 -2.33891869e+01\n",
      "  2.15713668e+00 -8.84898186e+00  2.38661251e+01  5.84185600e+00\n",
      "  1.13620043e+01  3.18484249e+01 -7.61659026e-01  1.60880241e+01\n",
      "  1.53039992e+00  4.84406352e-02  2.12034302e+01 -4.46182680e+00\n",
      " -1.03054543e+01  2.75842171e+01  2.66772575e+01  2.35636950e+00\n",
      " -2.29233437e+01 -1.86887875e+01  1.63916435e+01  1.70832233e+01\n",
      "  1.50594759e+01 -2.28613663e+01 -2.68327637e+01  3.02002430e+01\n",
      " -2.40813065e+01  7.52040339e+00 -4.30228653e+01  3.33678818e+01\n",
      "  1.53459654e+01  2.00121098e+01 -7.48083925e+00  8.82629395e+00\n",
      "  1.17607746e+01  3.20098662e+00  3.55492477e+01  3.64563255e+01\n",
      "  3.03305607e+01 -1.52609043e+01  2.73790741e+01  5.19456053e+00\n",
      " -2.58543930e+01  2.68210392e+01  6.60078144e+00  2.90559349e+01\n",
      " -1.11982050e+01  5.55659828e+01 -9.90473175e+00]\n",
      "The accuracy of this model is66.66666666666666\n",
      "The rmse of this model is34.94899233066723\n",
      "Split: 8\n"
     ]
    },
    {
     "name": "stderr",
     "output_type": "stream",
     "text": [
      "/home/chris/anaconda3/lib/python3.8/site-packages/sklearn/preprocessing/_label.py:235: DataConversionWarning: A column-vector y was passed when a 1d array was expected. Please change the shape of y to (n_samples, ), for example using ravel().\n",
      "  y = column_or_1d(y, warn=True)\n",
      "/home/chris/anaconda3/lib/python3.8/site-packages/sklearn/preprocessing/_label.py:268: DataConversionWarning: A column-vector y was passed when a 1d array was expected. Please change the shape of y to (n_samples, ), for example using ravel().\n",
      "  y = column_or_1d(y, warn=True)\n"
     ]
    },
    {
     "name": "stdout",
     "output_type": "stream",
     "text": [
      "variables for auroc curve done. Processing fold accuracy + checking best model\n",
      "[  6.0036244   41.4095      10.076539    -0.7105161   37.043186\n",
      " -20.95876    -26.938671    47.150173    42.806183    -3.2882059\n",
      "   1.0599906  -26.99977    -14.73464     32.30175      3.1639006\n",
      "  19.128233    15.470542     0.14405152  -9.999247    30.460247\n",
      "  14.448002    44.75957     19.66362     49.740334   -11.929168\n",
      "  24.174059    -7.241201   -26.73472    -26.82195    -13.955746\n",
      "  14.728666    33.043766    39.93591     11.6033745    2.5243177\n",
      " -28.410795   -25.01298    -16.052656   -26.0039      45.6817\n",
      "  25.994047    -7.812314     6.2821765   31.073006   -30.849014\n",
      "  12.502668    21.353981    -2.644896    -7.982791    18.935694\n",
      "  34.805515    26.281874    21.538929    54.366203    -6.2658257\n",
      "  39.481552     3.8934612   36.862297     9.274507   -19.90519\n",
      "  27.028841    43.146538    37.120026    48.257996    19.44976\n",
      "  25.38244     29.047508   -37.231026    36.934242    31.800335\n",
      "   1.0365703   18.265345    14.293778    -0.07763237  37.189545\n",
      " -34.6585      21.04119     39.073685    20.958096    -1.1772138\n",
      "  -0.767828    20.933342     0.593368   -14.179492   -17.335045\n",
      "   0.08754411 -14.234072   -28.858423    45.265045    15.292509\n",
      "  21.443844   -17.477865    -4.218716   -16.329805    59.736824\n",
      "  -5.5947466   21.20419     -5.290537    12.508483    49.902878\n",
      " -24.80663     -9.106901    -2.987884     5.3505416   14.736995\n",
      " -16.26428     23.693495     5.60197    -13.229826     9.948005\n",
      "   0.784481   -10.861765   -45.281704     4.948037   -30.533115\n",
      " -41.95399     26.649548     2.3225162  -10.693316    10.674611\n",
      "  17.792828     0.70331275  -6.1088457   -1.0386238   10.878536\n",
      " -35.739735    -4.870785    22.272343    16.304333   -21.117378\n",
      "  -8.912729   -17.725716     9.037813     1.6919847   -4.021563\n",
      "  13.199275   -20.490805    59.08201    -12.552167    -0.946723\n",
      "  32.504574   -14.803244    -5.961344    -0.35850394  12.979928\n",
      "  27.607996    20.778852   -17.724405    15.236975   -45.655636\n",
      "  14.535592   -10.641134     3.284217     3.033044     2.6752388\n",
      "  17.795511     5.5433373   23.510107    32.705574    19.913242\n",
      "  43.37509     32.122444    42.84558     -2.3380425    6.7744117\n",
      " -23.598568    -6.3646393   -3.5242648  -20.035004   -26.318172\n",
      "  25.506506  ]\n",
      "The accuracy of this model is74.85380116959064\n",
      "The rmse of this model is36.65109100543861\n",
      "found new best classify\n",
      "Split: 9\n"
     ]
    },
    {
     "name": "stderr",
     "output_type": "stream",
     "text": [
      "/home/chris/anaconda3/lib/python3.8/site-packages/sklearn/preprocessing/_label.py:235: DataConversionWarning: A column-vector y was passed when a 1d array was expected. Please change the shape of y to (n_samples, ), for example using ravel().\n",
      "  y = column_or_1d(y, warn=True)\n",
      "/home/chris/anaconda3/lib/python3.8/site-packages/sklearn/preprocessing/_label.py:268: DataConversionWarning: A column-vector y was passed when a 1d array was expected. Please change the shape of y to (n_samples, ), for example using ravel().\n",
      "  y = column_or_1d(y, warn=True)\n"
     ]
    },
    {
     "name": "stdout",
     "output_type": "stream",
     "text": [
      "variables for auroc curve done. Processing fold accuracy + checking best model\n",
      "[-12.942797   -21.011808    40.161133    36.79393     12.799622\n",
      "   9.503778    39.84193     -3.672742    28.543863     1.455803\n",
      "  18.765953    24.698067    41.097485     0.2359244    2.6509085\n",
      "  14.515106     6.8931      -1.1608487   29.327982   -21.551857\n",
      "  12.900197    13.507366    -8.17999    -23.866188   -37.374218\n",
      "  13.894188    49.65395    -21.110153    40.860676    58.770054\n",
      "  12.95409     23.268127     9.024772    50.347748    38.352676\n",
      "  21.161098    33.440823   -27.891697    -3.4489915   37.615532\n",
      " -35.032978     5.5668263   -3.4942622   34.370445     9.261447\n",
      "  23.337282     2.7644553   41.526867     8.756794    -9.136169\n",
      "  25.305832    19.113989    -1.2817167    3.0276039   35.47878\n",
      "  31.163935    31.39221     -5.9761043   35.20042     -3.624474\n",
      "  27.493504    20.039343    -8.395576   -15.485466    -0.1583376\n",
      "  -2.7317796   34.26842    -18.250307    22.635176   -32.878845\n",
      "  39.1063      -2.881119   -27.630192    -9.098252   -17.784079\n",
      "   7.2813215  -20.344482    42.840694    29.392042    48.56825\n",
      "  43.2961      25.95592     28.117289    -6.8268657   -3.433033\n",
      "  15.035074    13.987341    -1.9158189  -23.031754    29.80013\n",
      "   8.705876     6.916774   -26.669163    49.492695   -51.13447\n",
      "  -4.4212317   16.956694   -42.71381      6.5379796   -3.203787\n",
      "   7.31281    -32.005577     9.808501    33.37449     16.85896\n",
      "  18.8303      -3.4561634   -0.17697626  12.528778    -4.6212654\n",
      "  26.657475    16.678856    11.805586   -24.660433    15.368959\n",
      " -27.039402   -27.31411     22.292969     2.8021433    9.130243\n",
      "   3.9347842  -18.938997     7.039712   -28.22426     10.3619175\n",
      "  26.32255      3.360986    23.225946    24.494045    15.674809\n",
      "   4.3357544    8.416474     4.2054167   20.70224      1.0487225\n",
      "   9.757918    -4.1513953  -19.873386    10.343099    17.682487\n",
      "  26.561424   -10.1082535   15.999233     7.743929    10.281872\n",
      "  -1.0901762  -19.6473      -9.015541   -19.305372    18.087837\n",
      " -10.852017    10.326279    11.628744    31.00372     -2.981194\n",
      " -20.699224    -2.3766077   -7.515951    -9.134792   -10.712736\n",
      "  13.483097    -0.39868551 -39.305244    20.93339     17.478039\n",
      " -22.74425    -35.92215      9.8492     -35.354034     7.3972406\n",
      "  11.449306  ]\n",
      "The accuracy of this model is66.08187134502924\n",
      "The rmse of this model is36.40225669460485\n",
      "Split: 10\n"
     ]
    },
    {
     "name": "stderr",
     "output_type": "stream",
     "text": [
      "/home/chris/anaconda3/lib/python3.8/site-packages/sklearn/preprocessing/_label.py:235: DataConversionWarning: A column-vector y was passed when a 1d array was expected. Please change the shape of y to (n_samples, ), for example using ravel().\n",
      "  y = column_or_1d(y, warn=True)\n",
      "/home/chris/anaconda3/lib/python3.8/site-packages/sklearn/preprocessing/_label.py:268: DataConversionWarning: A column-vector y was passed when a 1d array was expected. Please change the shape of y to (n_samples, ), for example using ravel().\n",
      "  y = column_or_1d(y, warn=True)\n"
     ]
    },
    {
     "name": "stdout",
     "output_type": "stream",
     "text": [
      "variables for auroc curve done. Processing fold accuracy + checking best model\n",
      "[-51.99032     -9.114788    34.81403     22.869503    -8.206114\n",
      "  41.120186     3.4428995   -9.080948    -8.185306    24.68636\n",
      " -32.694542    31.274914   -10.051827    27.284851    12.488837\n",
      "  36.388794    19.933025    22.94015     12.151478    -2.4484668\n",
      "  30.846645     2.4456353   16.136597    10.06893     25.697681\n",
      "  37.35163     33.247913     2.1733584  -22.381306    11.675027\n",
      " -23.824732    15.9413      30.866615    23.937014    34.480953\n",
      "  -0.16294432  19.992899    31.820171     9.926288    -2.4782763\n",
      "  10.109017   -15.711067    -0.9391929  -10.7798815   10.8487425\n",
      " -28.046936    15.338108    42.558372    19.504684   -34.97635\n",
      "  18.904007    14.227111    27.104979     7.7991548    7.6917357\n",
      " -23.953539     5.3562946    5.9508357   26.562607    21.440025\n",
      "   2.4654264   21.104303     4.2677383    6.15553     -0.28385735\n",
      " -18.287153    24.098162     3.742172     3.9565096   20.643673\n",
      "   9.438491     0.6195463    8.189655    -9.301552     4.275283\n",
      "  17.108854    38.325653    14.770466    -7.8885555   56.559887\n",
      "   8.948049    10.5838585   -5.7789493   24.539375     7.7450542\n",
      " -22.821842    31.104637    42.8721      -9.687074   -18.038124\n",
      "  -3.3474662  -14.617442     4.6294947   44.99472     12.285376\n",
      "  31.313992     7.361271    25.907043     4.3775373   32.547585\n",
      "  21.343714    33.472446    -8.136417    66.32561     48.399483\n",
      "  -8.311677    58.32952     -7.3775344  -13.159146    18.896395\n",
      " -42.843636    -6.47627    -20.099476    18.417027    -4.0016923\n",
      "  -4.40696    -13.8380375   14.495064     9.44181    -11.345763\n",
      "  -3.731833     2.2263227  -11.323557   -29.460278     7.109445\n",
      "  23.049143    26.148985    -6.2113504    8.999339     8.603645\n",
      "  14.164442    -1.0669698    4.068207     9.189684    -4.7906237\n",
      "  38.382675    -4.1190104   -5.411424    -2.6868608   55.235962\n",
      "  20.837887    23.887808     5.769546    55.383755    19.589737\n",
      " -26.47603     -8.022052   -14.712427   -19.382408    23.245697\n",
      "   7.253551    19.14583     12.329323    10.265237   -18.487267\n",
      "   2.9211953   18.937592    16.401802   -27.015076   -16.915638\n",
      "   7.561849    15.34404     17.987328    28.820187    -1.3987079\n",
      "  37.587166    10.657589   -43.93454     32.108772   -34.75229   ]\n",
      "The accuracy of this model is63.52941176470588\n",
      "The rmse of this model is37.88619957057328\n",
      "Best win percentage split = 74.85380116959064\n",
      "Best margin rmse = 34.00892523882573\n",
      "Training Testing Accuracy: 67.35% (3.40%)\n",
      "Training Testing Margins: 36.50% (1.49%)\n"
     ]
    }
   ],
   "source": [
    "#as one big script to go through n_games\n",
    "n_games = [2,3,10]\n",
    "for n in n_games:\n",
    "    run_all_models(n)"
   ]
  },
  {
   "cell_type": "markdown",
   "metadata": {},
   "source": [
    "# Best of 3 Models"
   ]
  },
  {
   "cell_type": "code",
   "execution_count": 14,
   "metadata": {},
   "outputs": [],
   "source": [
    "def prep_data_test(n_games,ohe):\n",
    "    h = get_headers(n_games)\n",
    "    h = clean_headers(h)\n",
    "    cv = generate_categorical_headers(h)\n",
    "\n",
    "    #to get names of teams from index\n",
    "    g = gad()\n",
    "    teams = g.createTeamDict()\n",
    "\n",
    "    #load Data\n",
    "    x_data = pd.read_csv('Data/assembled_stat_matrix_no2020'+str(n_games)+'_games.csv')\n",
    "    x_data = x_data.tail(1709)\n",
    "    \n",
    "    #make empty OHE object\n",
    "    na_enc = OneHotEncoder(handle_unknown='ignore', sparse=False)\n",
    "\n",
    "    #one hot encode data with new one hot encoder, saves ohe for later use\n",
    "    x_data, ohe = ohe_data(x_data, ohe, 1, cv)\n",
    "    \n",
    "    regex = re.compile(r\"\\[|\\]|<\", re.IGNORECASE)\n",
    "    x_data.columns = [regex.sub(\"_\", col) if any(x in str(col) for x in set(('[', ']', '<'))) else col for col in x_data.columns.values]\n",
    "\n",
    "    return x_data"
   ]
  },
  {
   "cell_type": "code",
   "execution_count": 15,
   "metadata": {},
   "outputs": [],
   "source": [
    "def load_test_models(n):\n",
    "    clf = pickle.load(open(\"Models/best_xgb_clas_no2020_\"+str(n)+\"_games.dat\", \"rb\"))\n",
    "    ohe = pickle.load(open(\"Models/ohe_\"+str(n)+\"_no_2021_games.dat\", \"rb\"))\n",
    "    return clf, ohe"
   ]
  },
  {
   "cell_type": "code",
   "execution_count": 16,
   "metadata": {
    "scrolled": true
   },
   "outputs": [],
   "source": [
    "#load data\n",
    "y_label = pd.read_csv('Data/assembled_labelled_ymatrix_no202010_games.csv')\n",
    "\n",
    "model_2, ohe = load_test_models(2)\n",
    "x_2 = prep_data_test(2,ohe)\n",
    "model_3, ohe = load_test_models(3)\n",
    "x_3 = prep_data_test(3, ohe)\n",
    "model_10, ohe = load_test_models(10)\n",
    "x_10 = prep_data_test(10, ohe)\n"
   ]
  },
  {
   "cell_type": "code",
   "execution_count": 17,
   "metadata": {},
   "outputs": [
    {
     "name": "stdout",
     "output_type": "stream",
     "text": [
      "Split: 1\n"
     ]
    },
    {
     "name": "stderr",
     "output_type": "stream",
     "text": [
      "/home/chris/anaconda3/lib/python3.8/site-packages/sklearn/preprocessing/_label.py:235: DataConversionWarning: A column-vector y was passed when a 1d array was expected. Please change the shape of y to (n_samples, ), for example using ravel().\n",
      "  y = column_or_1d(y, warn=True)\n",
      "/home/chris/anaconda3/lib/python3.8/site-packages/sklearn/preprocessing/_label.py:268: DataConversionWarning: A column-vector y was passed when a 1d array was expected. Please change the shape of y to (n_samples, ), for example using ravel().\n",
      "  y = column_or_1d(y, warn=True)\n",
      "/home/chris/anaconda3/lib/python3.8/site-packages/sklearn/preprocessing/_label.py:235: DataConversionWarning: A column-vector y was passed when a 1d array was expected. Please change the shape of y to (n_samples, ), for example using ravel().\n",
      "  y = column_or_1d(y, warn=True)\n",
      "/home/chris/anaconda3/lib/python3.8/site-packages/sklearn/preprocessing/_label.py:268: DataConversionWarning: A column-vector y was passed when a 1d array was expected. Please change the shape of y to (n_samples, ), for example using ravel().\n",
      "  y = column_or_1d(y, warn=True)\n",
      "/home/chris/anaconda3/lib/python3.8/site-packages/sklearn/preprocessing/_label.py:235: DataConversionWarning: A column-vector y was passed when a 1d array was expected. Please change the shape of y to (n_samples, ), for example using ravel().\n",
      "  y = column_or_1d(y, warn=True)\n",
      "/home/chris/anaconda3/lib/python3.8/site-packages/sklearn/preprocessing/_label.py:268: DataConversionWarning: A column-vector y was passed when a 1d array was expected. Please change the shape of y to (n_samples, ), for example using ravel().\n",
      "  y = column_or_1d(y, warn=True)\n"
     ]
    },
    {
     "name": "stdout",
     "output_type": "stream",
     "text": [
      "variables for auroc curve done. Processing fold accuracy + checking best model\n",
      "     y_pred_2  y_pred_3  y_pred_10   average\n",
      "0         0.0       0.0        1.0  0.333333\n",
      "1         1.0       1.0        1.0  1.000000\n",
      "2         0.0       0.0        0.0  0.000000\n",
      "3         0.0       1.0        0.0  0.333333\n",
      "4         0.0       0.0        0.0  0.000000\n",
      "..        ...       ...        ...       ...\n",
      "166       0.0       0.0        0.0  0.000000\n",
      "167       0.0       0.0        0.0  0.000000\n",
      "168       0.0       0.0        0.0  0.000000\n",
      "169       0.0       0.0        0.0  0.000000\n",
      "170       1.0       1.0        0.0  0.666667\n",
      "\n",
      "[171 rows x 4 columns]\n",
      "[0.3333333333333333, 1.0, 0.0, 0.3333333333333333, 0.0, 1.0, 0.0, 0.0, 0.0, 1.0, 1.0, 0.3333333333333333, 0.6666666666666666, 0.0, 1.0, 1.0, 1.0, 0.0, 0.0, 0.0, 0.3333333333333333, 0.3333333333333333, 0.0, 0.0, 1.0, 1.0, 1.0, 1.0, 1.0, 0.0, 0.0, 1.0, 0.0, 0.0, 1.0, 0.0, 1.0, 0.3333333333333333, 0.0, 1.0, 0.6666666666666666, 1.0, 0.6666666666666666, 1.0, 0.0, 0.0, 0.0, 1.0, 0.0, 0.0, 0.0, 0.0, 0.3333333333333333, 0.0, 1.0, 0.0, 0.0, 0.0, 0.3333333333333333, 0.0, 0.0, 0.3333333333333333, 0.3333333333333333, 0.0, 0.0, 0.0, 0.6666666666666666, 1.0, 1.0, 1.0, 0.0, 0.0, 0.3333333333333333, 1.0, 0.0, 0.0, 0.6666666666666666, 1.0, 0.0, 0.6666666666666666, 0.3333333333333333, 1.0, 0.0, 0.3333333333333333, 0.0, 1.0, 1.0, 0.0, 0.3333333333333333, 1.0, 0.0, 0.0, 0.0, 1.0, 0.0, 1.0, 0.0, 0.0, 0.6666666666666666, 0.0, 0.0, 0.0, 1.0, 0.0, 0.0, 1.0, 1.0, 1.0, 1.0, 1.0, 0.0, 0.0, 0.3333333333333333, 0.0, 0.0, 0.6666666666666666, 1.0, 1.0, 0.0, 0.0, 0.0, 1.0, 0.3333333333333333, 0.6666666666666666, 0.0, 0.0, 0.0, 0.6666666666666666, 0.0, 0.6666666666666666, 0.0, 0.6666666666666666, 0.0, 0.6666666666666666, 1.0, 0.0, 0.0, 0.0, 0.6666666666666666, 1.0, 0.6666666666666666, 0.6666666666666666, 1.0, 0.0, 0.0, 1.0, 1.0, 1.0, 0.0, 0.0, 1.0, 1.0, 0.6666666666666666, 0.3333333333333333, 0.0, 1.0, 1.0, 1.0, 1.0, 0.0, 0.0, 1.0, 1.0, 1.0, 0.0, 0.0, 0.0, 0.0, 0.0, 0.0, 0.6666666666666666]\n",
      "[0, 1, 0, 0, 0, 1, 0, 0, 0, 1, 1, 0, 1, 0, 1, 1, 1, 0, 0, 0, 0, 0, 0, 0, 1, 1, 1, 1, 1, 0, 0, 1, 0, 0, 1, 0, 1, 0, 0, 1, 1, 1, 1, 1, 0, 0, 0, 1, 0, 0, 0, 0, 0, 0, 1, 0, 0, 0, 0, 0, 0, 0, 0, 0, 0, 0, 1, 1, 1, 1, 0, 0, 0, 1, 0, 0, 1, 1, 0, 1, 0, 1, 0, 0, 0, 1, 1, 0, 0, 1, 0, 0, 0, 1, 0, 1, 0, 0, 1, 0, 0, 0, 1, 0, 0, 1, 1, 1, 1, 1, 0, 0, 0, 0, 0, 1, 1, 1, 0, 0, 0, 1, 0, 1, 0, 0, 0, 1, 0, 1, 0, 1, 0, 1, 1, 0, 0, 0, 1, 1, 1, 1, 1, 0, 0, 1, 1, 1, 0, 0, 1, 1, 1, 0, 0, 1, 1, 1, 1, 0, 0, 1, 1, 1, 0, 0, 0, 0, 0, 0, 1]\n",
      "The accuracy of this model is69.5906432748538\n",
      "Split: 2\n"
     ]
    },
    {
     "name": "stderr",
     "output_type": "stream",
     "text": [
      "/home/chris/anaconda3/lib/python3.8/site-packages/sklearn/preprocessing/_label.py:235: DataConversionWarning: A column-vector y was passed when a 1d array was expected. Please change the shape of y to (n_samples, ), for example using ravel().\n",
      "  y = column_or_1d(y, warn=True)\n",
      "/home/chris/anaconda3/lib/python3.8/site-packages/sklearn/preprocessing/_label.py:268: DataConversionWarning: A column-vector y was passed when a 1d array was expected. Please change the shape of y to (n_samples, ), for example using ravel().\n",
      "  y = column_or_1d(y, warn=True)\n",
      "/home/chris/anaconda3/lib/python3.8/site-packages/sklearn/preprocessing/_label.py:235: DataConversionWarning: A column-vector y was passed when a 1d array was expected. Please change the shape of y to (n_samples, ), for example using ravel().\n",
      "  y = column_or_1d(y, warn=True)\n",
      "/home/chris/anaconda3/lib/python3.8/site-packages/sklearn/preprocessing/_label.py:268: DataConversionWarning: A column-vector y was passed when a 1d array was expected. Please change the shape of y to (n_samples, ), for example using ravel().\n",
      "  y = column_or_1d(y, warn=True)\n",
      "/home/chris/anaconda3/lib/python3.8/site-packages/sklearn/preprocessing/_label.py:235: DataConversionWarning: A column-vector y was passed when a 1d array was expected. Please change the shape of y to (n_samples, ), for example using ravel().\n",
      "  y = column_or_1d(y, warn=True)\n",
      "/home/chris/anaconda3/lib/python3.8/site-packages/sklearn/preprocessing/_label.py:268: DataConversionWarning: A column-vector y was passed when a 1d array was expected. Please change the shape of y to (n_samples, ), for example using ravel().\n",
      "  y = column_or_1d(y, warn=True)\n"
     ]
    },
    {
     "name": "stdout",
     "output_type": "stream",
     "text": [
      "variables for auroc curve done. Processing fold accuracy + checking best model\n",
      "     y_pred_2  y_pred_3  y_pred_10   average\n",
      "0         0.0       0.0        0.0  0.000000\n",
      "1         0.0       0.0        0.0  0.000000\n",
      "2         0.0       0.0        0.0  0.000000\n",
      "3         1.0       1.0        1.0  1.000000\n",
      "4         0.0       0.0        0.0  0.000000\n",
      "..        ...       ...        ...       ...\n",
      "166       0.0       0.0        0.0  0.000000\n",
      "167       0.0       0.0        1.0  0.333333\n",
      "168       0.0       1.0        0.0  0.333333\n",
      "169       0.0       0.0        0.0  0.000000\n",
      "170       0.0       0.0        0.0  0.000000\n",
      "\n",
      "[171 rows x 4 columns]\n",
      "[0.0, 0.0, 0.0, 1.0, 0.0, 0.0, 0.6666666666666666, 0.0, 1.0, 1.0, 1.0, 0.6666666666666666, 0.0, 0.3333333333333333, 1.0, 0.3333333333333333, 0.0, 0.0, 0.0, 0.3333333333333333, 1.0, 0.0, 0.6666666666666666, 1.0, 0.0, 0.0, 0.3333333333333333, 0.0, 0.0, 1.0, 1.0, 1.0, 0.0, 0.3333333333333333, 1.0, 0.0, 0.0, 0.0, 0.0, 1.0, 0.0, 0.6666666666666666, 0.0, 0.6666666666666666, 0.0, 0.0, 1.0, 0.0, 0.0, 1.0, 0.0, 0.0, 0.0, 0.3333333333333333, 0.0, 1.0, 0.0, 0.0, 0.6666666666666666, 0.0, 1.0, 0.0, 0.0, 1.0, 0.0, 1.0, 0.6666666666666666, 1.0, 1.0, 1.0, 1.0, 0.6666666666666666, 1.0, 0.3333333333333333, 0.0, 0.6666666666666666, 0.6666666666666666, 0.0, 1.0, 0.0, 0.0, 0.3333333333333333, 0.0, 0.0, 0.0, 1.0, 1.0, 0.3333333333333333, 0.0, 1.0, 0.0, 1.0, 1.0, 1.0, 0.0, 0.6666666666666666, 0.0, 1.0, 0.6666666666666666, 0.0, 0.0, 0.3333333333333333, 0.6666666666666666, 0.3333333333333333, 0.0, 0.0, 0.3333333333333333, 1.0, 0.0, 0.0, 0.0, 1.0, 1.0, 0.0, 0.0, 0.0, 0.6666666666666666, 0.3333333333333333, 0.0, 1.0, 0.0, 0.3333333333333333, 1.0, 0.0, 1.0, 0.0, 0.0, 1.0, 1.0, 0.0, 0.0, 0.0, 0.3333333333333333, 1.0, 0.0, 1.0, 0.0, 0.0, 0.0, 0.0, 0.6666666666666666, 1.0, 0.0, 0.0, 0.3333333333333333, 0.6666666666666666, 0.0, 0.6666666666666666, 0.0, 1.0, 0.0, 1.0, 0.0, 0.0, 0.6666666666666666, 0.3333333333333333, 0.0, 0.3333333333333333, 0.0, 0.3333333333333333, 0.0, 0.0, 0.0, 1.0, 0.0, 0.0, 0.0, 0.3333333333333333, 0.3333333333333333, 0.0, 0.0]\n",
      "[0, 0, 0, 1, 0, 0, 1, 0, 1, 1, 1, 1, 0, 0, 1, 0, 0, 0, 0, 0, 1, 0, 1, 1, 0, 0, 0, 0, 0, 1, 1, 1, 0, 0, 1, 0, 0, 0, 0, 1, 0, 1, 0, 1, 0, 0, 1, 0, 0, 1, 0, 0, 0, 0, 0, 1, 0, 0, 1, 0, 1, 0, 0, 1, 0, 1, 1, 1, 1, 1, 1, 1, 1, 0, 0, 1, 1, 0, 1, 0, 0, 0, 0, 0, 0, 1, 1, 0, 0, 1, 0, 1, 1, 1, 0, 1, 0, 1, 1, 0, 0, 0, 1, 0, 0, 0, 0, 1, 0, 0, 0, 1, 1, 0, 0, 0, 1, 0, 0, 1, 0, 0, 1, 0, 1, 0, 0, 1, 1, 0, 0, 0, 0, 1, 0, 1, 0, 0, 0, 0, 1, 1, 0, 0, 0, 1, 0, 1, 0, 1, 0, 1, 0, 0, 1, 0, 0, 0, 0, 0, 0, 0, 0, 1, 0, 0, 0, 0, 0, 0, 0]\n",
      "The accuracy of this model is61.40350877192983\n",
      "Split: 3\n"
     ]
    },
    {
     "name": "stderr",
     "output_type": "stream",
     "text": [
      "/home/chris/anaconda3/lib/python3.8/site-packages/sklearn/preprocessing/_label.py:235: DataConversionWarning: A column-vector y was passed when a 1d array was expected. Please change the shape of y to (n_samples, ), for example using ravel().\n",
      "  y = column_or_1d(y, warn=True)\n",
      "/home/chris/anaconda3/lib/python3.8/site-packages/sklearn/preprocessing/_label.py:268: DataConversionWarning: A column-vector y was passed when a 1d array was expected. Please change the shape of y to (n_samples, ), for example using ravel().\n",
      "  y = column_or_1d(y, warn=True)\n",
      "/home/chris/anaconda3/lib/python3.8/site-packages/sklearn/preprocessing/_label.py:235: DataConversionWarning: A column-vector y was passed when a 1d array was expected. Please change the shape of y to (n_samples, ), for example using ravel().\n",
      "  y = column_or_1d(y, warn=True)\n",
      "/home/chris/anaconda3/lib/python3.8/site-packages/sklearn/preprocessing/_label.py:268: DataConversionWarning: A column-vector y was passed when a 1d array was expected. Please change the shape of y to (n_samples, ), for example using ravel().\n",
      "  y = column_or_1d(y, warn=True)\n",
      "/home/chris/anaconda3/lib/python3.8/site-packages/sklearn/preprocessing/_label.py:235: DataConversionWarning: A column-vector y was passed when a 1d array was expected. Please change the shape of y to (n_samples, ), for example using ravel().\n",
      "  y = column_or_1d(y, warn=True)\n",
      "/home/chris/anaconda3/lib/python3.8/site-packages/sklearn/preprocessing/_label.py:268: DataConversionWarning: A column-vector y was passed when a 1d array was expected. Please change the shape of y to (n_samples, ), for example using ravel().\n",
      "  y = column_or_1d(y, warn=True)\n"
     ]
    },
    {
     "name": "stdout",
     "output_type": "stream",
     "text": [
      "variables for auroc curve done. Processing fold accuracy + checking best model\n",
      "     y_pred_2  y_pred_3  y_pred_10   average\n",
      "0         0.0       0.0        0.0  0.000000\n",
      "1         1.0       0.0        0.0  0.333333\n",
      "2         0.0       0.0        0.0  0.000000\n",
      "3         1.0       0.0        1.0  0.666667\n",
      "4         0.0       0.0        0.0  0.000000\n",
      "..        ...       ...        ...       ...\n",
      "166       1.0       1.0        1.0  1.000000\n",
      "167       1.0       1.0        1.0  1.000000\n",
      "168       0.0       0.0        0.0  0.000000\n",
      "169       1.0       1.0        1.0  1.000000\n",
      "170       0.0       0.0        0.0  0.000000\n",
      "\n",
      "[171 rows x 4 columns]\n",
      "[0.0, 0.3333333333333333, 0.0, 0.6666666666666666, 0.0, 0.0, 0.0, 0.3333333333333333, 0.3333333333333333, 0.0, 0.3333333333333333, 0.0, 0.6666666666666666, 0.0, 0.3333333333333333, 1.0, 0.0, 0.0, 1.0, 0.6666666666666666, 0.0, 1.0, 1.0, 1.0, 1.0, 1.0, 1.0, 0.0, 0.0, 1.0, 0.3333333333333333, 0.0, 0.0, 1.0, 0.0, 1.0, 1.0, 1.0, 0.0, 1.0, 0.6666666666666666, 0.0, 0.0, 0.0, 0.0, 0.0, 0.3333333333333333, 0.0, 0.0, 0.0, 0.0, 0.6666666666666666, 0.6666666666666666, 0.0, 0.3333333333333333, 0.6666666666666666, 0.0, 0.0, 1.0, 0.0, 0.3333333333333333, 0.3333333333333333, 0.0, 0.0, 0.0, 1.0, 0.0, 0.0, 0.6666666666666666, 0.0, 0.0, 0.3333333333333333, 1.0, 1.0, 0.0, 0.3333333333333333, 1.0, 1.0, 0.3333333333333333, 0.0, 1.0, 0.6666666666666666, 0.3333333333333333, 0.0, 0.0, 0.6666666666666666, 0.0, 0.0, 0.0, 1.0, 0.0, 0.0, 0.3333333333333333, 0.0, 0.0, 0.0, 1.0, 0.0, 0.6666666666666666, 0.0, 0.0, 1.0, 1.0, 1.0, 0.6666666666666666, 1.0, 1.0, 0.0, 0.0, 1.0, 1.0, 1.0, 1.0, 0.3333333333333333, 0.3333333333333333, 1.0, 0.0, 0.0, 0.0, 1.0, 0.3333333333333333, 0.0, 0.6666666666666666, 1.0, 0.3333333333333333, 0.0, 0.3333333333333333, 0.0, 0.3333333333333333, 0.3333333333333333, 0.3333333333333333, 1.0, 0.0, 0.0, 0.6666666666666666, 0.0, 1.0, 0.3333333333333333, 0.6666666666666666, 0.0, 1.0, 0.0, 0.0, 1.0, 0.3333333333333333, 0.3333333333333333, 0.3333333333333333, 1.0, 0.0, 0.0, 0.0, 0.0, 0.0, 0.0, 0.0, 1.0, 0.0, 0.3333333333333333, 0.3333333333333333, 1.0, 1.0, 0.0, 0.0, 0.6666666666666666, 0.0, 0.0, 1.0, 1.0, 0.0, 1.0, 0.0]\n",
      "[0, 0, 0, 1, 0, 0, 0, 0, 0, 0, 0, 0, 1, 0, 0, 1, 0, 0, 1, 1, 0, 1, 1, 1, 1, 1, 1, 0, 0, 1, 0, 0, 0, 1, 0, 1, 1, 1, 0, 1, 1, 0, 0, 0, 0, 0, 0, 0, 0, 0, 0, 1, 1, 0, 0, 1, 0, 0, 1, 0, 0, 0, 0, 0, 0, 1, 0, 0, 1, 0, 0, 0, 1, 1, 0, 0, 1, 1, 0, 0, 1, 1, 0, 0, 0, 1, 0, 0, 0, 1, 0, 0, 0, 0, 0, 0, 1, 0, 1, 0, 0, 1, 1, 1, 1, 1, 1, 0, 0, 1, 1, 1, 1, 0, 0, 1, 0, 0, 0, 1, 0, 0, 1, 1, 0, 0, 0, 0, 0, 0, 0, 1, 0, 0, 1, 0, 1, 0, 1, 0, 1, 0, 0, 1, 0, 0, 0, 1, 0, 0, 0, 0, 0, 0, 0, 1, 0, 0, 0, 1, 1, 0, 0, 1, 0, 0, 1, 1, 0, 1, 0]\n",
      "The accuracy of this model is69.00584795321637\n",
      "Split: 4\n"
     ]
    },
    {
     "name": "stderr",
     "output_type": "stream",
     "text": [
      "/home/chris/anaconda3/lib/python3.8/site-packages/sklearn/preprocessing/_label.py:235: DataConversionWarning: A column-vector y was passed when a 1d array was expected. Please change the shape of y to (n_samples, ), for example using ravel().\n",
      "  y = column_or_1d(y, warn=True)\n",
      "/home/chris/anaconda3/lib/python3.8/site-packages/sklearn/preprocessing/_label.py:268: DataConversionWarning: A column-vector y was passed when a 1d array was expected. Please change the shape of y to (n_samples, ), for example using ravel().\n",
      "  y = column_or_1d(y, warn=True)\n",
      "/home/chris/anaconda3/lib/python3.8/site-packages/sklearn/preprocessing/_label.py:235: DataConversionWarning: A column-vector y was passed when a 1d array was expected. Please change the shape of y to (n_samples, ), for example using ravel().\n",
      "  y = column_or_1d(y, warn=True)\n",
      "/home/chris/anaconda3/lib/python3.8/site-packages/sklearn/preprocessing/_label.py:268: DataConversionWarning: A column-vector y was passed when a 1d array was expected. Please change the shape of y to (n_samples, ), for example using ravel().\n",
      "  y = column_or_1d(y, warn=True)\n",
      "/home/chris/anaconda3/lib/python3.8/site-packages/sklearn/preprocessing/_label.py:235: DataConversionWarning: A column-vector y was passed when a 1d array was expected. Please change the shape of y to (n_samples, ), for example using ravel().\n",
      "  y = column_or_1d(y, warn=True)\n",
      "/home/chris/anaconda3/lib/python3.8/site-packages/sklearn/preprocessing/_label.py:268: DataConversionWarning: A column-vector y was passed when a 1d array was expected. Please change the shape of y to (n_samples, ), for example using ravel().\n",
      "  y = column_or_1d(y, warn=True)\n"
     ]
    },
    {
     "name": "stdout",
     "output_type": "stream",
     "text": [
      "variables for auroc curve done. Processing fold accuracy + checking best model\n",
      "     y_pred_2  y_pred_3  y_pred_10  average\n",
      "0         1.0       1.0        1.0      1.0\n",
      "1         1.0       1.0        1.0      1.0\n",
      "2         0.0       0.0        0.0      0.0\n",
      "3         1.0       1.0        1.0      1.0\n",
      "4         0.0       0.0        0.0      0.0\n",
      "..        ...       ...        ...      ...\n",
      "166       0.0       0.0        0.0      0.0\n",
      "167       0.0       0.0        0.0      0.0\n",
      "168       0.0       0.0        0.0      0.0\n",
      "169       0.0       0.0        0.0      0.0\n",
      "170       0.0       0.0        0.0      0.0\n",
      "\n",
      "[171 rows x 4 columns]\n",
      "[1.0, 1.0, 0.0, 1.0, 0.0, 0.6666666666666666, 0.0, 0.3333333333333333, 1.0, 0.0, 1.0, 0.0, 0.0, 0.6666666666666666, 0.0, 0.6666666666666666, 1.0, 0.0, 0.0, 0.3333333333333333, 0.6666666666666666, 0.3333333333333333, 0.0, 0.0, 0.0, 0.6666666666666666, 0.0, 1.0, 0.0, 0.3333333333333333, 0.0, 0.3333333333333333, 1.0, 0.0, 0.0, 0.6666666666666666, 0.0, 0.3333333333333333, 0.0, 0.0, 1.0, 0.6666666666666666, 0.6666666666666666, 0.0, 1.0, 0.0, 1.0, 1.0, 0.3333333333333333, 1.0, 0.0, 0.0, 0.6666666666666666, 0.6666666666666666, 1.0, 0.0, 0.6666666666666666, 0.0, 0.3333333333333333, 0.3333333333333333, 1.0, 1.0, 1.0, 0.0, 0.3333333333333333, 0.0, 0.6666666666666666, 1.0, 1.0, 0.0, 0.0, 1.0, 0.3333333333333333, 0.0, 0.0, 0.0, 0.0, 0.0, 0.6666666666666666, 0.0, 1.0, 0.0, 0.6666666666666666, 1.0, 0.0, 1.0, 0.0, 1.0, 0.3333333333333333, 0.0, 1.0, 1.0, 1.0, 1.0, 0.6666666666666666, 0.3333333333333333, 1.0, 0.6666666666666666, 1.0, 0.6666666666666666, 0.3333333333333333, 1.0, 1.0, 0.0, 0.6666666666666666, 0.0, 0.0, 0.0, 1.0, 0.0, 1.0, 0.0, 0.0, 1.0, 1.0, 0.6666666666666666, 0.0, 0.0, 0.0, 0.3333333333333333, 0.6666666666666666, 0.3333333333333333, 0.0, 0.0, 0.6666666666666666, 1.0, 1.0, 0.6666666666666666, 1.0, 0.6666666666666666, 1.0, 0.0, 0.0, 1.0, 0.3333333333333333, 0.0, 0.0, 0.6666666666666666, 0.0, 0.3333333333333333, 0.0, 0.6666666666666666, 1.0, 1.0, 0.0, 0.0, 0.0, 0.3333333333333333, 0.3333333333333333, 0.0, 0.0, 1.0, 0.6666666666666666, 0.0, 1.0, 0.0, 0.0, 0.3333333333333333, 0.0, 0.0, 0.0, 1.0, 0.0, 1.0, 0.0, 0.0, 0.0, 0.0, 0.0, 0.0, 0.0]\n",
      "[1, 1, 0, 1, 0, 1, 0, 0, 1, 0, 1, 0, 0, 1, 0, 1, 1, 0, 0, 0, 1, 0, 0, 0, 0, 1, 0, 1, 0, 0, 0, 0, 1, 0, 0, 1, 0, 0, 0, 0, 1, 1, 1, 0, 1, 0, 1, 1, 0, 1, 0, 0, 1, 1, 1, 0, 1, 0, 0, 0, 1, 1, 1, 0, 0, 0, 1, 1, 1, 0, 0, 1, 0, 0, 0, 0, 0, 0, 1, 0, 1, 0, 1, 1, 0, 1, 0, 1, 0, 0, 1, 1, 1, 1, 1, 0, 1, 1, 1, 1, 0, 1, 1, 0, 1, 0, 0, 0, 1, 0, 1, 0, 0, 1, 1, 1, 0, 0, 0, 0, 1, 0, 0, 0, 1, 1, 1, 1, 1, 1, 1, 0, 0, 1, 0, 0, 0, 1, 0, 0, 0, 1, 1, 1, 0, 0, 0, 0, 0, 0, 0, 1, 1, 0, 1, 0, 0, 0, 0, 0, 0, 1, 0, 1, 0, 0, 0, 0, 0, 0, 0]\n",
      "The accuracy of this model is73.09941520467837\n",
      "Split: 5\n"
     ]
    },
    {
     "name": "stderr",
     "output_type": "stream",
     "text": [
      "/home/chris/anaconda3/lib/python3.8/site-packages/sklearn/preprocessing/_label.py:235: DataConversionWarning: A column-vector y was passed when a 1d array was expected. Please change the shape of y to (n_samples, ), for example using ravel().\n",
      "  y = column_or_1d(y, warn=True)\n",
      "/home/chris/anaconda3/lib/python3.8/site-packages/sklearn/preprocessing/_label.py:268: DataConversionWarning: A column-vector y was passed when a 1d array was expected. Please change the shape of y to (n_samples, ), for example using ravel().\n",
      "  y = column_or_1d(y, warn=True)\n",
      "/home/chris/anaconda3/lib/python3.8/site-packages/sklearn/preprocessing/_label.py:235: DataConversionWarning: A column-vector y was passed when a 1d array was expected. Please change the shape of y to (n_samples, ), for example using ravel().\n",
      "  y = column_or_1d(y, warn=True)\n",
      "/home/chris/anaconda3/lib/python3.8/site-packages/sklearn/preprocessing/_label.py:268: DataConversionWarning: A column-vector y was passed when a 1d array was expected. Please change the shape of y to (n_samples, ), for example using ravel().\n",
      "  y = column_or_1d(y, warn=True)\n",
      "/home/chris/anaconda3/lib/python3.8/site-packages/sklearn/preprocessing/_label.py:235: DataConversionWarning: A column-vector y was passed when a 1d array was expected. Please change the shape of y to (n_samples, ), for example using ravel().\n",
      "  y = column_or_1d(y, warn=True)\n",
      "/home/chris/anaconda3/lib/python3.8/site-packages/sklearn/preprocessing/_label.py:268: DataConversionWarning: A column-vector y was passed when a 1d array was expected. Please change the shape of y to (n_samples, ), for example using ravel().\n",
      "  y = column_or_1d(y, warn=True)\n"
     ]
    },
    {
     "name": "stdout",
     "output_type": "stream",
     "text": [
      "variables for auroc curve done. Processing fold accuracy + checking best model\n",
      "     y_pred_2  y_pred_3  y_pred_10   average\n",
      "0         0.0       0.0        0.0  0.000000\n",
      "1         1.0       0.0        0.0  0.333333\n",
      "2         0.0       0.0        0.0  0.000000\n",
      "3         1.0       1.0        1.0  1.000000\n",
      "4         0.0       0.0        1.0  0.333333\n",
      "..        ...       ...        ...       ...\n",
      "166       0.0       1.0        0.0  0.333333\n",
      "167       0.0       0.0        1.0  0.333333\n",
      "168       0.0       0.0        0.0  0.000000\n",
      "169       1.0       1.0        1.0  1.000000\n",
      "170       1.0       1.0        1.0  1.000000\n",
      "\n",
      "[171 rows x 4 columns]\n",
      "[0.0, 0.3333333333333333, 0.0, 1.0, 0.3333333333333333, 0.0, 0.0, 0.0, 0.0, 1.0, 1.0, 0.6666666666666666, 0.6666666666666666, 0.0, 0.0, 0.0, 0.3333333333333333, 0.0, 0.3333333333333333, 0.0, 0.0, 0.6666666666666666, 0.0, 0.0, 0.0, 0.6666666666666666, 0.0, 0.0, 1.0, 1.0, 1.0, 0.0, 0.0, 0.0, 0.0, 0.3333333333333333, 0.3333333333333333, 0.6666666666666666, 0.0, 1.0, 0.0, 0.0, 0.0, 0.0, 0.3333333333333333, 1.0, 0.0, 0.0, 1.0, 0.0, 0.3333333333333333, 0.0, 1.0, 0.0, 1.0, 0.0, 0.0, 0.0, 1.0, 0.0, 0.0, 1.0, 0.0, 0.0, 0.0, 0.0, 0.0, 0.0, 0.3333333333333333, 0.0, 0.0, 1.0, 0.0, 0.6666666666666666, 0.3333333333333333, 1.0, 0.0, 1.0, 0.0, 1.0, 0.0, 0.0, 1.0, 0.0, 0.0, 0.6666666666666666, 1.0, 0.3333333333333333, 0.0, 0.0, 0.0, 0.3333333333333333, 1.0, 0.0, 0.0, 0.0, 1.0, 1.0, 0.0, 1.0, 1.0, 0.0, 0.0, 0.0, 0.0, 0.0, 0.0, 1.0, 0.6666666666666666, 0.0, 0.0, 0.3333333333333333, 0.0, 0.0, 0.0, 1.0, 0.0, 1.0, 0.6666666666666666, 0.3333333333333333, 0.0, 1.0, 1.0, 0.0, 0.3333333333333333, 0.0, 0.0, 0.0, 1.0, 0.0, 0.0, 0.0, 1.0, 1.0, 0.0, 0.0, 0.0, 1.0, 1.0, 0.0, 0.3333333333333333, 1.0, 0.3333333333333333, 0.0, 1.0, 1.0, 1.0, 0.0, 0.0, 0.0, 1.0, 1.0, 1.0, 1.0, 0.6666666666666666, 0.0, 0.0, 1.0, 0.3333333333333333, 0.0, 0.0, 1.0, 1.0, 1.0, 0.6666666666666666, 0.0, 0.3333333333333333, 0.3333333333333333, 0.0, 1.0, 1.0]\n",
      "[0, 0, 0, 1, 0, 0, 0, 0, 0, 1, 1, 1, 1, 0, 0, 0, 0, 0, 0, 0, 0, 1, 0, 0, 0, 1, 0, 0, 1, 1, 1, 0, 0, 0, 0, 0, 0, 1, 0, 1, 0, 0, 0, 0, 0, 1, 0, 0, 1, 0, 0, 0, 1, 0, 1, 0, 0, 0, 1, 0, 0, 1, 0, 0, 0, 0, 0, 0, 0, 0, 0, 1, 0, 1, 0, 1, 0, 1, 0, 1, 0, 0, 1, 0, 0, 1, 1, 0, 0, 0, 0, 0, 1, 0, 0, 0, 1, 1, 0, 1, 1, 0, 0, 0, 0, 0, 0, 1, 1, 0, 0, 0, 0, 0, 0, 1, 0, 1, 1, 0, 0, 1, 1, 0, 0, 0, 0, 0, 1, 0, 0, 0, 1, 1, 0, 0, 0, 1, 1, 0, 0, 1, 0, 0, 1, 1, 1, 0, 0, 0, 1, 1, 1, 1, 1, 0, 0, 1, 0, 0, 0, 1, 1, 1, 1, 0, 0, 0, 0, 1, 1]\n",
      "The accuracy of this model is66.08187134502924\n",
      "Split: 6\n"
     ]
    },
    {
     "name": "stderr",
     "output_type": "stream",
     "text": [
      "/home/chris/anaconda3/lib/python3.8/site-packages/sklearn/preprocessing/_label.py:235: DataConversionWarning: A column-vector y was passed when a 1d array was expected. Please change the shape of y to (n_samples, ), for example using ravel().\n",
      "  y = column_or_1d(y, warn=True)\n",
      "/home/chris/anaconda3/lib/python3.8/site-packages/sklearn/preprocessing/_label.py:268: DataConversionWarning: A column-vector y was passed when a 1d array was expected. Please change the shape of y to (n_samples, ), for example using ravel().\n",
      "  y = column_or_1d(y, warn=True)\n",
      "/home/chris/anaconda3/lib/python3.8/site-packages/sklearn/preprocessing/_label.py:235: DataConversionWarning: A column-vector y was passed when a 1d array was expected. Please change the shape of y to (n_samples, ), for example using ravel().\n",
      "  y = column_or_1d(y, warn=True)\n",
      "/home/chris/anaconda3/lib/python3.8/site-packages/sklearn/preprocessing/_label.py:268: DataConversionWarning: A column-vector y was passed when a 1d array was expected. Please change the shape of y to (n_samples, ), for example using ravel().\n",
      "  y = column_or_1d(y, warn=True)\n",
      "/home/chris/anaconda3/lib/python3.8/site-packages/sklearn/preprocessing/_label.py:235: DataConversionWarning: A column-vector y was passed when a 1d array was expected. Please change the shape of y to (n_samples, ), for example using ravel().\n",
      "  y = column_or_1d(y, warn=True)\n",
      "/home/chris/anaconda3/lib/python3.8/site-packages/sklearn/preprocessing/_label.py:268: DataConversionWarning: A column-vector y was passed when a 1d array was expected. Please change the shape of y to (n_samples, ), for example using ravel().\n",
      "  y = column_or_1d(y, warn=True)\n"
     ]
    },
    {
     "name": "stdout",
     "output_type": "stream",
     "text": [
      "variables for auroc curve done. Processing fold accuracy + checking best model\n",
      "     y_pred_2  y_pred_3  y_pred_10   average\n",
      "0         0.0       1.0        1.0  0.666667\n",
      "1         0.0       1.0        0.0  0.333333\n",
      "2         1.0       1.0        1.0  1.000000\n",
      "3         0.0       0.0        0.0  0.000000\n",
      "4         1.0       1.0        1.0  1.000000\n",
      "..        ...       ...        ...       ...\n",
      "166       0.0       0.0        0.0  0.000000\n",
      "167       0.0       0.0        0.0  0.000000\n",
      "168       1.0       1.0        1.0  1.000000\n",
      "169       1.0       1.0        1.0  1.000000\n",
      "170       1.0       1.0        1.0  1.000000\n",
      "\n",
      "[171 rows x 4 columns]\n",
      "[0.6666666666666666, 0.3333333333333333, 1.0, 0.0, 1.0, 0.3333333333333333, 0.3333333333333333, 0.0, 0.0, 0.6666666666666666, 0.6666666666666666, 0.3333333333333333, 1.0, 0.0, 1.0, 1.0, 1.0, 0.0, 0.6666666666666666, 1.0, 0.0, 0.6666666666666666, 0.6666666666666666, 0.0, 1.0, 1.0, 0.0, 1.0, 0.0, 0.0, 0.0, 0.0, 0.0, 0.0, 0.0, 0.0, 0.3333333333333333, 0.0, 0.0, 1.0, 0.0, 1.0, 1.0, 1.0, 0.0, 1.0, 1.0, 0.0, 0.0, 0.0, 0.0, 0.6666666666666666, 0.0, 0.0, 0.0, 0.0, 0.0, 1.0, 0.0, 0.0, 0.0, 0.6666666666666666, 0.3333333333333333, 0.0, 0.0, 0.0, 0.3333333333333333, 1.0, 0.6666666666666666, 1.0, 1.0, 0.0, 1.0, 1.0, 0.0, 1.0, 1.0, 0.0, 1.0, 1.0, 0.0, 0.0, 0.0, 0.6666666666666666, 0.0, 0.6666666666666666, 1.0, 0.0, 0.6666666666666666, 0.0, 0.0, 0.0, 0.0, 0.3333333333333333, 0.0, 1.0, 0.3333333333333333, 0.0, 0.3333333333333333, 0.0, 0.6666666666666666, 0.0, 0.0, 1.0, 0.0, 1.0, 0.0, 1.0, 0.3333333333333333, 0.3333333333333333, 1.0, 0.0, 0.0, 0.0, 0.0, 0.0, 0.0, 0.0, 0.0, 0.3333333333333333, 0.6666666666666666, 0.0, 0.6666666666666666, 0.0, 0.0, 0.0, 0.0, 0.3333333333333333, 0.3333333333333333, 0.0, 0.0, 1.0, 0.6666666666666666, 0.3333333333333333, 0.0, 0.0, 1.0, 0.0, 0.0, 0.0, 0.0, 0.0, 0.0, 1.0, 0.0, 1.0, 0.0, 0.0, 0.3333333333333333, 0.0, 0.6666666666666666, 1.0, 0.0, 1.0, 0.0, 0.6666666666666666, 0.3333333333333333, 0.0, 0.0, 0.0, 0.0, 1.0, 1.0, 0.0, 0.0, 0.3333333333333333, 0.0, 0.0, 1.0, 1.0, 1.0]\n",
      "[1, 0, 1, 0, 1, 0, 0, 0, 0, 1, 1, 0, 1, 0, 1, 1, 1, 0, 1, 1, 0, 1, 1, 0, 1, 1, 0, 1, 0, 0, 0, 0, 0, 0, 0, 0, 0, 0, 0, 1, 0, 1, 1, 1, 0, 1, 1, 0, 0, 0, 0, 1, 0, 0, 0, 0, 0, 1, 0, 0, 0, 1, 0, 0, 0, 0, 0, 1, 1, 1, 1, 0, 1, 1, 0, 1, 1, 0, 1, 1, 0, 0, 0, 1, 0, 1, 1, 0, 1, 0, 0, 0, 0, 0, 0, 1, 0, 0, 0, 0, 1, 0, 0, 1, 0, 1, 0, 1, 0, 0, 1, 0, 0, 0, 0, 0, 0, 0, 0, 0, 1, 0, 1, 0, 0, 0, 0, 0, 0, 0, 0, 1, 1, 0, 0, 0, 1, 0, 0, 0, 0, 0, 0, 1, 0, 1, 0, 0, 0, 0, 1, 1, 0, 1, 0, 1, 0, 0, 0, 0, 0, 1, 1, 0, 0, 0, 0, 0, 1, 1, 1]\n",
      "The accuracy of this model is64.32748538011695\n",
      "Split: 7\n"
     ]
    },
    {
     "name": "stderr",
     "output_type": "stream",
     "text": [
      "/home/chris/anaconda3/lib/python3.8/site-packages/sklearn/preprocessing/_label.py:235: DataConversionWarning: A column-vector y was passed when a 1d array was expected. Please change the shape of y to (n_samples, ), for example using ravel().\n",
      "  y = column_or_1d(y, warn=True)\n",
      "/home/chris/anaconda3/lib/python3.8/site-packages/sklearn/preprocessing/_label.py:268: DataConversionWarning: A column-vector y was passed when a 1d array was expected. Please change the shape of y to (n_samples, ), for example using ravel().\n",
      "  y = column_or_1d(y, warn=True)\n",
      "/home/chris/anaconda3/lib/python3.8/site-packages/sklearn/preprocessing/_label.py:235: DataConversionWarning: A column-vector y was passed when a 1d array was expected. Please change the shape of y to (n_samples, ), for example using ravel().\n",
      "  y = column_or_1d(y, warn=True)\n",
      "/home/chris/anaconda3/lib/python3.8/site-packages/sklearn/preprocessing/_label.py:268: DataConversionWarning: A column-vector y was passed when a 1d array was expected. Please change the shape of y to (n_samples, ), for example using ravel().\n",
      "  y = column_or_1d(y, warn=True)\n",
      "/home/chris/anaconda3/lib/python3.8/site-packages/sklearn/preprocessing/_label.py:235: DataConversionWarning: A column-vector y was passed when a 1d array was expected. Please change the shape of y to (n_samples, ), for example using ravel().\n",
      "  y = column_or_1d(y, warn=True)\n",
      "/home/chris/anaconda3/lib/python3.8/site-packages/sklearn/preprocessing/_label.py:268: DataConversionWarning: A column-vector y was passed when a 1d array was expected. Please change the shape of y to (n_samples, ), for example using ravel().\n",
      "  y = column_or_1d(y, warn=True)\n"
     ]
    },
    {
     "name": "stdout",
     "output_type": "stream",
     "text": [
      "variables for auroc curve done. Processing fold accuracy + checking best model\n",
      "     y_pred_2  y_pred_3  y_pred_10   average\n",
      "0         0.0       0.0        0.0  0.000000\n",
      "1         1.0       1.0        1.0  1.000000\n",
      "2         1.0       1.0        1.0  1.000000\n",
      "3         1.0       1.0        1.0  1.000000\n",
      "4         1.0       1.0        1.0  1.000000\n",
      "..        ...       ...        ...       ...\n",
      "166       0.0       1.0        1.0  0.666667\n",
      "167       0.0       0.0        0.0  0.000000\n",
      "168       0.0       0.0        0.0  0.000000\n",
      "169       0.0       0.0        0.0  0.000000\n",
      "170       0.0       0.0        0.0  0.000000\n",
      "\n",
      "[171 rows x 4 columns]\n",
      "[0.0, 1.0, 1.0, 1.0, 1.0, 1.0, 0.0, 0.0, 0.6666666666666666, 0.3333333333333333, 0.3333333333333333, 0.0, 0.3333333333333333, 0.0, 1.0, 0.0, 0.0, 0.0, 0.0, 0.0, 0.0, 0.0, 0.0, 0.0, 0.0, 1.0, 0.0, 1.0, 0.3333333333333333, 0.3333333333333333, 0.3333333333333333, 1.0, 0.0, 0.0, 0.3333333333333333, 1.0, 0.0, 0.3333333333333333, 0.6666666666666666, 0.0, 0.0, 0.0, 1.0, 1.0, 0.0, 1.0, 1.0, 0.0, 0.6666666666666666, 1.0, 1.0, 0.0, 1.0, 0.0, 0.0, 1.0, 0.3333333333333333, 0.0, 0.0, 0.0, 0.3333333333333333, 0.0, 0.0, 1.0, 0.0, 0.0, 0.0, 1.0, 1.0, 0.6666666666666666, 1.0, 0.0, 0.0, 0.0, 0.6666666666666666, 1.0, 0.3333333333333333, 0.3333333333333333, 0.3333333333333333, 0.0, 1.0, 0.0, 1.0, 0.0, 0.0, 0.0, 0.0, 0.0, 0.0, 1.0, 0.3333333333333333, 0.0, 1.0, 0.6666666666666666, 1.0, 1.0, 0.0, 0.6666666666666666, 0.0, 1.0, 0.0, 0.0, 0.3333333333333333, 1.0, 0.0, 0.0, 0.3333333333333333, 0.0, 0.6666666666666666, 0.0, 0.0, 0.6666666666666666, 1.0, 0.0, 0.6666666666666666, 1.0, 0.0, 0.0, 1.0, 0.0, 0.0, 0.6666666666666666, 1.0, 1.0, 1.0, 0.6666666666666666, 1.0, 1.0, 0.3333333333333333, 1.0, 0.0, 0.0, 0.0, 1.0, 0.6666666666666666, 0.0, 0.6666666666666666, 0.6666666666666666, 0.0, 0.6666666666666666, 0.0, 0.0, 0.0, 1.0, 0.6666666666666666, 0.0, 0.3333333333333333, 0.0, 1.0, 0.6666666666666666, 1.0, 0.3333333333333333, 0.6666666666666666, 0.0, 0.3333333333333333, 0.0, 0.3333333333333333, 0.0, 0.0, 1.0, 0.0, 1.0, 0.0, 0.0, 1.0, 0.0, 0.6666666666666666, 0.0, 0.0, 0.0, 0.0]\n",
      "[0, 1, 1, 1, 1, 1, 0, 0, 1, 0, 0, 0, 0, 0, 1, 0, 0, 0, 0, 0, 0, 0, 0, 0, 0, 1, 0, 1, 0, 0, 0, 1, 0, 0, 0, 1, 0, 0, 1, 0, 0, 0, 1, 1, 0, 1, 1, 0, 1, 1, 1, 0, 1, 0, 0, 1, 0, 0, 0, 0, 0, 0, 0, 1, 0, 0, 0, 1, 1, 1, 1, 0, 0, 0, 1, 1, 0, 0, 0, 0, 1, 0, 1, 0, 0, 0, 0, 0, 0, 1, 0, 0, 1, 1, 1, 1, 0, 1, 0, 1, 0, 0, 0, 1, 0, 0, 0, 0, 1, 0, 0, 1, 1, 0, 1, 1, 0, 0, 1, 0, 0, 1, 1, 1, 1, 1, 1, 1, 0, 1, 0, 0, 0, 1, 1, 0, 1, 1, 0, 1, 0, 0, 0, 1, 1, 0, 0, 0, 1, 1, 1, 0, 1, 0, 0, 0, 0, 0, 0, 1, 0, 1, 0, 0, 1, 0, 1, 0, 0, 0, 0]\n",
      "The accuracy of this model is70.17543859649122\n",
      "Split: 8\n"
     ]
    },
    {
     "name": "stderr",
     "output_type": "stream",
     "text": [
      "/home/chris/anaconda3/lib/python3.8/site-packages/sklearn/preprocessing/_label.py:235: DataConversionWarning: A column-vector y was passed when a 1d array was expected. Please change the shape of y to (n_samples, ), for example using ravel().\n",
      "  y = column_or_1d(y, warn=True)\n",
      "/home/chris/anaconda3/lib/python3.8/site-packages/sklearn/preprocessing/_label.py:268: DataConversionWarning: A column-vector y was passed when a 1d array was expected. Please change the shape of y to (n_samples, ), for example using ravel().\n",
      "  y = column_or_1d(y, warn=True)\n",
      "/home/chris/anaconda3/lib/python3.8/site-packages/sklearn/preprocessing/_label.py:235: DataConversionWarning: A column-vector y was passed when a 1d array was expected. Please change the shape of y to (n_samples, ), for example using ravel().\n",
      "  y = column_or_1d(y, warn=True)\n",
      "/home/chris/anaconda3/lib/python3.8/site-packages/sklearn/preprocessing/_label.py:268: DataConversionWarning: A column-vector y was passed when a 1d array was expected. Please change the shape of y to (n_samples, ), for example using ravel().\n",
      "  y = column_or_1d(y, warn=True)\n",
      "/home/chris/anaconda3/lib/python3.8/site-packages/sklearn/preprocessing/_label.py:235: DataConversionWarning: A column-vector y was passed when a 1d array was expected. Please change the shape of y to (n_samples, ), for example using ravel().\n",
      "  y = column_or_1d(y, warn=True)\n",
      "/home/chris/anaconda3/lib/python3.8/site-packages/sklearn/preprocessing/_label.py:268: DataConversionWarning: A column-vector y was passed when a 1d array was expected. Please change the shape of y to (n_samples, ), for example using ravel().\n",
      "  y = column_or_1d(y, warn=True)\n"
     ]
    },
    {
     "name": "stdout",
     "output_type": "stream",
     "text": [
      "variables for auroc curve done. Processing fold accuracy + checking best model\n",
      "     y_pred_2  y_pred_3  y_pred_10  average\n",
      "0         1.0       1.0        1.0      1.0\n",
      "1         1.0       1.0        1.0      1.0\n",
      "2         0.0       0.0        0.0      0.0\n",
      "3         0.0       0.0        0.0      0.0\n",
      "4         1.0       1.0        1.0      1.0\n",
      "..        ...       ...        ...      ...\n",
      "166       0.0       0.0        0.0      0.0\n",
      "167       0.0       0.0        0.0      0.0\n",
      "168       1.0       1.0        1.0      1.0\n",
      "169       1.0       1.0        1.0      1.0\n",
      "170       0.0       0.0        0.0      0.0\n",
      "\n",
      "[171 rows x 4 columns]\n",
      "[1.0, 1.0, 0.0, 0.0, 1.0, 0.3333333333333333, 0.0, 0.3333333333333333, 0.0, 0.0, 0.0, 0.0, 0.3333333333333333, 0.3333333333333333, 0.0, 0.0, 0.6666666666666666, 0.0, 0.3333333333333333, 1.0, 1.0, 1.0, 0.0, 0.0, 0.0, 0.0, 0.0, 0.0, 0.0, 0.0, 1.0, 0.0, 0.0, 0.3333333333333333, 0.0, 0.3333333333333333, 0.0, 0.0, 0.3333333333333333, 0.0, 0.6666666666666666, 1.0, 0.0, 0.3333333333333333, 0.0, 0.6666666666666666, 0.0, 1.0, 0.0, 0.6666666666666666, 0.0, 0.0, 0.6666666666666666, 1.0, 1.0, 0.0, 0.0, 0.0, 0.0, 1.0, 0.0, 0.0, 1.0, 0.0, 0.0, 0.6666666666666666, 0.0, 0.6666666666666666, 0.0, 0.0, 0.6666666666666666, 0.3333333333333333, 0.0, 0.0, 1.0, 0.0, 0.0, 1.0, 1.0, 0.0, 0.0, 0.6666666666666666, 0.6666666666666666, 0.0, 0.0, 0.0, 1.0, 0.0, 1.0, 0.6666666666666666, 1.0, 0.0, 0.0, 0.0, 0.3333333333333333, 0.6666666666666666, 0.6666666666666666, 1.0, 0.0, 0.0, 0.6666666666666666, 0.0, 0.0, 0.6666666666666666, 0.0, 0.0, 0.3333333333333333, 0.0, 1.0, 0.3333333333333333, 1.0, 0.3333333333333333, 0.6666666666666666, 0.0, 0.3333333333333333, 1.0, 0.0, 0.0, 0.0, 1.0, 0.0, 0.3333333333333333, 1.0, 0.0, 1.0, 0.0, 1.0, 0.0, 0.0, 1.0, 0.0, 0.0, 0.0, 1.0, 1.0, 0.0, 0.0, 0.0, 0.0, 0.0, 0.0, 0.3333333333333333, 0.0, 0.3333333333333333, 0.0, 0.0, 0.0, 1.0, 1.0, 0.0, 1.0, 0.0, 0.6666666666666666, 0.3333333333333333, 0.0, 0.0, 0.0, 0.0, 0.0, 0.0, 1.0, 0.0, 0.3333333333333333, 0.0, 1.0, 0.0, 0.0, 0.0, 1.0, 1.0, 0.0]\n",
      "[1, 1, 0, 0, 1, 0, 0, 0, 0, 0, 0, 0, 0, 0, 0, 0, 1, 0, 0, 1, 1, 1, 0, 0, 0, 0, 0, 0, 0, 0, 1, 0, 0, 0, 0, 0, 0, 0, 0, 0, 1, 1, 0, 0, 0, 1, 0, 1, 0, 1, 0, 0, 1, 1, 1, 0, 0, 0, 0, 1, 0, 0, 1, 0, 0, 1, 0, 1, 0, 0, 1, 0, 0, 0, 1, 0, 0, 1, 1, 0, 0, 1, 1, 0, 0, 0, 1, 0, 1, 1, 1, 0, 0, 0, 0, 1, 1, 1, 0, 0, 1, 0, 0, 1, 0, 0, 0, 0, 1, 0, 1, 0, 1, 0, 0, 1, 0, 0, 0, 1, 0, 0, 1, 0, 1, 0, 1, 0, 0, 1, 0, 0, 0, 1, 1, 0, 0, 0, 0, 0, 0, 0, 0, 0, 0, 0, 0, 1, 1, 0, 1, 0, 1, 0, 0, 0, 0, 0, 0, 0, 1, 0, 0, 0, 1, 0, 0, 0, 1, 1, 0]\n",
      "The accuracy of this model is64.91228070175438\n",
      "Split: 9\n"
     ]
    },
    {
     "name": "stderr",
     "output_type": "stream",
     "text": [
      "/home/chris/anaconda3/lib/python3.8/site-packages/sklearn/preprocessing/_label.py:235: DataConversionWarning: A column-vector y was passed when a 1d array was expected. Please change the shape of y to (n_samples, ), for example using ravel().\n",
      "  y = column_or_1d(y, warn=True)\n",
      "/home/chris/anaconda3/lib/python3.8/site-packages/sklearn/preprocessing/_label.py:268: DataConversionWarning: A column-vector y was passed when a 1d array was expected. Please change the shape of y to (n_samples, ), for example using ravel().\n",
      "  y = column_or_1d(y, warn=True)\n",
      "/home/chris/anaconda3/lib/python3.8/site-packages/sklearn/preprocessing/_label.py:235: DataConversionWarning: A column-vector y was passed when a 1d array was expected. Please change the shape of y to (n_samples, ), for example using ravel().\n",
      "  y = column_or_1d(y, warn=True)\n",
      "/home/chris/anaconda3/lib/python3.8/site-packages/sklearn/preprocessing/_label.py:268: DataConversionWarning: A column-vector y was passed when a 1d array was expected. Please change the shape of y to (n_samples, ), for example using ravel().\n",
      "  y = column_or_1d(y, warn=True)\n",
      "/home/chris/anaconda3/lib/python3.8/site-packages/sklearn/preprocessing/_label.py:235: DataConversionWarning: A column-vector y was passed when a 1d array was expected. Please change the shape of y to (n_samples, ), for example using ravel().\n",
      "  y = column_or_1d(y, warn=True)\n",
      "/home/chris/anaconda3/lib/python3.8/site-packages/sklearn/preprocessing/_label.py:268: DataConversionWarning: A column-vector y was passed when a 1d array was expected. Please change the shape of y to (n_samples, ), for example using ravel().\n",
      "  y = column_or_1d(y, warn=True)\n"
     ]
    },
    {
     "name": "stdout",
     "output_type": "stream",
     "text": [
      "variables for auroc curve done. Processing fold accuracy + checking best model\n",
      "     y_pred_2  y_pred_3  y_pred_10   average\n",
      "0         0.0       0.0        0.0  0.000000\n",
      "1         1.0       1.0        1.0  1.000000\n",
      "2         0.0       0.0        0.0  0.000000\n",
      "3         0.0       0.0        0.0  0.000000\n",
      "4         1.0       1.0        0.0  0.666667\n",
      "..        ...       ...        ...       ...\n",
      "166       0.0       0.0        0.0  0.000000\n",
      "167       1.0       1.0        0.0  0.666667\n",
      "168       0.0       0.0        0.0  0.000000\n",
      "169       0.0       0.0        0.0  0.000000\n",
      "170       0.0       1.0        1.0  0.666667\n",
      "\n",
      "[171 rows x 4 columns]\n",
      "[0.0, 1.0, 0.0, 0.0, 0.6666666666666666, 0.0, 0.0, 0.0, 0.0, 0.0, 1.0, 0.0, 0.0, 0.0, 1.0, 1.0, 0.0, 0.0, 0.0, 0.0, 0.3333333333333333, 1.0, 0.0, 0.3333333333333333, 0.6666666666666666, 1.0, 0.0, 1.0, 0.0, 0.0, 0.0, 0.0, 1.0, 0.0, 0.0, 0.0, 0.0, 0.0, 1.0, 0.0, 0.0, 0.0, 0.3333333333333333, 0.0, 1.0, 0.6666666666666666, 1.0, 0.0, 0.6666666666666666, 0.0, 0.0, 0.0, 1.0, 0.0, 0.6666666666666666, 0.6666666666666666, 1.0, 0.0, 1.0, 0.6666666666666666, 0.0, 0.0, 0.6666666666666666, 0.0, 1.0, 1.0, 0.0, 0.0, 0.0, 0.0, 0.6666666666666666, 0.0, 0.0, 0.0, 0.0, 0.0, 0.0, 0.0, 0.0, 0.3333333333333333, 1.0, 0.6666666666666666, 0.0, 0.6666666666666666, 0.0, 0.0, 0.0, 1.0, 0.0, 0.0, 1.0, 0.0, 0.0, 0.6666666666666666, 1.0, 0.6666666666666666, 0.0, 0.0, 0.3333333333333333, 0.0, 0.0, 1.0, 0.0, 0.0, 0.0, 0.0, 1.0, 0.6666666666666666, 0.6666666666666666, 0.0, 0.3333333333333333, 0.3333333333333333, 1.0, 0.0, 1.0, 0.0, 0.0, 0.0, 0.3333333333333333, 1.0, 0.3333333333333333, 0.0, 0.0, 0.0, 0.6666666666666666, 0.3333333333333333, 0.3333333333333333, 0.3333333333333333, 1.0, 1.0, 0.3333333333333333, 0.0, 0.0, 0.3333333333333333, 0.3333333333333333, 1.0, 0.0, 0.3333333333333333, 0.6666666666666666, 0.0, 0.6666666666666666, 1.0, 1.0, 0.0, 0.0, 0.0, 0.0, 0.0, 1.0, 1.0, 1.0, 0.0, 0.3333333333333333, 0.0, 0.0, 0.0, 0.0, 0.0, 0.0, 0.3333333333333333, 0.0, 0.6666666666666666, 0.6666666666666666, 0.0, 0.6666666666666666, 0.0, 0.0, 0.6666666666666666, 0.0, 0.0, 0.6666666666666666]\n",
      "[0, 1, 0, 0, 1, 0, 0, 0, 0, 0, 1, 0, 0, 0, 1, 1, 0, 0, 0, 0, 0, 1, 0, 0, 1, 1, 0, 1, 0, 0, 0, 0, 1, 0, 0, 0, 0, 0, 1, 0, 0, 0, 0, 0, 1, 1, 1, 0, 1, 0, 0, 0, 1, 0, 1, 1, 1, 0, 1, 1, 0, 0, 1, 0, 1, 1, 0, 0, 0, 0, 1, 0, 0, 0, 0, 0, 0, 0, 0, 0, 1, 1, 0, 1, 0, 0, 0, 1, 0, 0, 1, 0, 0, 1, 1, 1, 0, 0, 0, 0, 0, 1, 0, 0, 0, 0, 1, 1, 1, 0, 0, 0, 1, 0, 1, 0, 0, 0, 0, 1, 0, 0, 0, 0, 1, 0, 0, 0, 1, 1, 0, 0, 0, 0, 0, 1, 0, 0, 1, 0, 1, 1, 1, 0, 0, 0, 0, 0, 1, 1, 1, 0, 0, 0, 0, 0, 0, 0, 0, 0, 0, 1, 1, 0, 1, 0, 0, 1, 0, 0, 1]\n",
      "The accuracy of this model is68.42105263157895\n",
      "Split: 10\n"
     ]
    },
    {
     "name": "stderr",
     "output_type": "stream",
     "text": [
      "/home/chris/anaconda3/lib/python3.8/site-packages/sklearn/preprocessing/_label.py:235: DataConversionWarning: A column-vector y was passed when a 1d array was expected. Please change the shape of y to (n_samples, ), for example using ravel().\n",
      "  y = column_or_1d(y, warn=True)\n",
      "/home/chris/anaconda3/lib/python3.8/site-packages/sklearn/preprocessing/_label.py:268: DataConversionWarning: A column-vector y was passed when a 1d array was expected. Please change the shape of y to (n_samples, ), for example using ravel().\n",
      "  y = column_or_1d(y, warn=True)\n",
      "/home/chris/anaconda3/lib/python3.8/site-packages/sklearn/preprocessing/_label.py:235: DataConversionWarning: A column-vector y was passed when a 1d array was expected. Please change the shape of y to (n_samples, ), for example using ravel().\n",
      "  y = column_or_1d(y, warn=True)\n",
      "/home/chris/anaconda3/lib/python3.8/site-packages/sklearn/preprocessing/_label.py:268: DataConversionWarning: A column-vector y was passed when a 1d array was expected. Please change the shape of y to (n_samples, ), for example using ravel().\n",
      "  y = column_or_1d(y, warn=True)\n",
      "/home/chris/anaconda3/lib/python3.8/site-packages/sklearn/preprocessing/_label.py:235: DataConversionWarning: A column-vector y was passed when a 1d array was expected. Please change the shape of y to (n_samples, ), for example using ravel().\n",
      "  y = column_or_1d(y, warn=True)\n",
      "/home/chris/anaconda3/lib/python3.8/site-packages/sklearn/preprocessing/_label.py:268: DataConversionWarning: A column-vector y was passed when a 1d array was expected. Please change the shape of y to (n_samples, ), for example using ravel().\n",
      "  y = column_or_1d(y, warn=True)\n"
     ]
    },
    {
     "name": "stdout",
     "output_type": "stream",
     "text": [
      "variables for auroc curve done. Processing fold accuracy + checking best model\n",
      "     y_pred_2  y_pred_3  y_pred_10   average\n",
      "0         1.0       1.0        1.0  1.000000\n",
      "1         1.0       1.0        1.0  1.000000\n",
      "2         0.0       0.0        0.0  0.000000\n",
      "3         1.0       1.0        1.0  1.000000\n",
      "4         0.0       1.0        0.0  0.333333\n",
      "..        ...       ...        ...       ...\n",
      "165       0.0       0.0        0.0  0.000000\n",
      "166       1.0       1.0        1.0  1.000000\n",
      "167       0.0       0.0        0.0  0.000000\n",
      "168       1.0       1.0        1.0  1.000000\n",
      "169       0.0       0.0        0.0  0.000000\n",
      "\n",
      "[170 rows x 4 columns]\n",
      "[1.0, 1.0, 0.0, 1.0, 0.3333333333333333, 1.0, 0.0, 0.0, 0.0, 1.0, 0.0, 0.0, 0.0, 0.0, 1.0, 0.3333333333333333, 0.0, 0.0, 0.0, 1.0, 0.6666666666666666, 1.0, 0.0, 0.3333333333333333, 0.6666666666666666, 0.0, 0.0, 0.0, 0.0, 0.0, 1.0, 0.0, 1.0, 1.0, 0.0, 0.6666666666666666, 0.0, 1.0, 1.0, 0.6666666666666666, 1.0, 1.0, 0.0, 1.0, 0.0, 0.0, 1.0, 0.3333333333333333, 0.3333333333333333, 0.0, 1.0, 1.0, 0.0, 0.0, 1.0, 1.0, 1.0, 0.6666666666666666, 0.0, 0.0, 0.0, 1.0, 0.0, 0.0, 0.0, 0.0, 1.0, 0.6666666666666666, 0.0, 0.0, 1.0, 0.0, 0.6666666666666666, 0.0, 0.0, 0.6666666666666666, 0.0, 0.0, 0.0, 0.0, 0.3333333333333333, 0.0, 0.0, 1.0, 0.0, 0.0, 1.0, 0.3333333333333333, 0.3333333333333333, 0.0, 0.0, 0.6666666666666666, 1.0, 1.0, 0.6666666666666666, 0.0, 0.3333333333333333, 0.0, 0.3333333333333333, 0.6666666666666666, 1.0, 0.6666666666666666, 0.0, 1.0, 0.6666666666666666, 1.0, 0.0, 1.0, 0.0, 0.0, 0.3333333333333333, 1.0, 0.6666666666666666, 0.0, 0.3333333333333333, 0.0, 0.3333333333333333, 0.0, 0.6666666666666666, 0.6666666666666666, 0.3333333333333333, 0.3333333333333333, 0.0, 1.0, 0.3333333333333333, 0.0, 0.3333333333333333, 0.6666666666666666, 0.0, 0.0, 0.3333333333333333, 0.0, 1.0, 0.6666666666666666, 1.0, 0.0, 0.0, 0.0, 1.0, 0.6666666666666666, 0.6666666666666666, 0.0, 0.3333333333333333, 0.0, 0.0, 0.0, 0.3333333333333333, 0.3333333333333333, 1.0, 0.3333333333333333, 1.0, 1.0, 0.6666666666666666, 1.0, 0.3333333333333333, 0.0, 1.0, 1.0, 1.0, 0.6666666666666666, 1.0, 1.0, 0.0, 0.0, 0.0, 0.0, 1.0, 0.0, 1.0, 0.0]\n",
      "[1, 1, 0, 1, 0, 1, 0, 0, 0, 1, 0, 0, 0, 0, 1, 0, 0, 0, 0, 1, 1, 1, 0, 0, 1, 0, 0, 0, 0, 0, 1, 0, 1, 1, 0, 1, 0, 1, 1, 1, 1, 1, 0, 1, 0, 0, 1, 0, 0, 0, 1, 1, 0, 0, 1, 1, 1, 1, 0, 0, 0, 1, 0, 0, 0, 0, 1, 1, 0, 0, 1, 0, 1, 0, 0, 1, 0, 0, 0, 0, 0, 0, 0, 1, 0, 0, 1, 0, 0, 0, 0, 1, 1, 1, 1, 0, 0, 0, 0, 1, 1, 1, 0, 1, 1, 1, 0, 1, 0, 0, 0, 1, 1, 0, 0, 0, 0, 0, 1, 1, 0, 0, 0, 1, 0, 0, 0, 1, 0, 0, 0, 0, 1, 1, 1, 0, 0, 0, 1, 1, 1, 0, 0, 0, 0, 0, 0, 0, 1, 0, 1, 1, 1, 1, 0, 0, 1, 1, 1, 1, 1, 1, 0, 0, 0, 0, 1, 0, 1, 0]\n",
      "The accuracy of this model is72.94117647058823\n",
      "Best win percentage split = 0\n",
      "Training Testing Accuracy: 68.00% (3.59%)\n"
     ]
    }
   ],
   "source": [
    "results = []\n",
    "count = 0\n",
    "high_w = 0\n",
    "cv = StratifiedKFold(n_splits=10, shuffle=True)\n",
    "y = y_label\n",
    "for train,test in cv.split(x_2,y):\n",
    "    count = count + 1\n",
    "    print(\"Split: \" + str(count))\n",
    "    prediction = model_2.fit(x_2.loc[train],y.loc[train]).predict_proba(x_2.loc[test])\n",
    "    prediction = model_3.fit(x_3.loc[train],y.loc[train]).predict_proba(x_3.loc[test])\n",
    "    prediction = model_10.fit(x_10.loc[train],y.loc[train]).predict_proba(x_10.loc[test])\n",
    "    print(\"variables for auroc curve done. Processing fold accuracy + checking best model\")\n",
    "    d = {'y_pred_2':model_2.predict(x_2.loc[test]), 'y_pred_3':model_3.predict(x_3.loc[test]),\n",
    "         'y_pred_10':model_10.predict(x_10.loc[test])}\n",
    "    pred_df = pd.DataFrame(data=d)\n",
    "    summary_ave_data = pred_df.copy()\n",
    "    summary_ave_data['average'] = summary_ave_data.mean(numeric_only=True, axis=1)\n",
    "    print(summary_ave_data)\n",
    "    y_pred = summary_ave_data[\"average\"].tolist()\n",
    "    print(y_pred)\n",
    "    predictions = [round(value) for value in y_pred]\n",
    "    print(predictions)\n",
    "    #sees how accurate the model was when testing the test set\n",
    "    accuracy = accuracy_score(y.loc[test], predictions)\n",
    "    pcent = accuracy * 100.0\n",
    "    print(\"The accuracy of this model is\" + str(pcent))\n",
    "    results.append(pcent)\n",
    "print(\"Best win percentage split = \" +str(high_w))\n",
    "print(\"Training Testing Accuracy: %.2f%% (%.2f%%)\" % (np.mean(results), np.std(results)))"
   ]
  },
  {
   "cell_type": "markdown",
   "metadata": {},
   "source": [
    "# Clean Data Testing Ground"
   ]
  },
  {
   "cell_type": "code",
   "execution_count": 11,
   "metadata": {},
   "outputs": [],
   "source": [
    "def create_R_TeamDict():\n",
    "    teams = {\n",
    "    \"1\" : \"Adelaide Crows\",\n",
    "    \"2\" : \"Brisbane Lions\",\n",
    "    \"3\" : \"Carlton\",\n",
    "    \"4\" : \"Collingwood\",\n",
    "    \"5\" : \"Essendon\",\n",
    "    \"6\" : \"Fremantle\",\n",
    "    \"7\" : \"Geelong Cats\",\n",
    "    \"8\" : \"Gold Coast Suns\",\n",
    "    \"9\" : \"GWS Giants\",\n",
    "    \"10\": \"Hawthorn\",\n",
    "    \"11\": \"Melbourne\",\n",
    "    \"12\": \"North Melbourne\",\n",
    "    \"13\": \"Port Adelaide\",\n",
    "    \"14\": \"Richmond\",\n",
    "    \"15\": \"St Kilda\",\n",
    "    \"16\": \"Sydney Swans\",\n",
    "    \"17\": \"West Coast Eagles\",\n",
    "    \"18\": \"Western Bulldogs\"\n",
    "    }\n",
    "    return teams"
   ]
  },
  {
   "cell_type": "code",
   "execution_count": 20,
   "metadata": {},
   "outputs": [],
   "source": []
  },
  {
   "cell_type": "code",
   "execution_count": 157,
   "metadata": {},
   "outputs": [],
   "source": [
    "team_int = 6"
   ]
  },
  {
   "cell_type": "code",
   "execution_count": 162,
   "metadata": {},
   "outputs": [
    {
     "data": {
      "text/html": [
       "<div>\n",
       "<style scoped>\n",
       "    .dataframe tbody tr th:only-of-type {\n",
       "        vertical-align: middle;\n",
       "    }\n",
       "\n",
       "    .dataframe tbody tr th {\n",
       "        vertical-align: top;\n",
       "    }\n",
       "\n",
       "    .dataframe thead th {\n",
       "        text-align: right;\n",
       "    }\n",
       "</style>\n",
       "<table border=\"1\" class=\"dataframe\">\n",
       "  <thead>\n",
       "    <tr style=\"text-align: right;\">\n",
       "      <th></th>\n",
       "      <th>Year</th>\n",
       "      <th>Round</th>\n",
       "      <th>Team_ID</th>\n",
       "      <th>Player_PAV_Total</th>\n",
       "    </tr>\n",
       "  </thead>\n",
       "  <tbody>\n",
       "    <tr>\n",
       "      <th>1012</th>\n",
       "      <td>2013</td>\n",
       "      <td>1</td>\n",
       "      <td>6</td>\n",
       "      <td>233.52</td>\n",
       "    </tr>\n",
       "    <tr>\n",
       "      <th>1013</th>\n",
       "      <td>2013</td>\n",
       "      <td>2</td>\n",
       "      <td>6</td>\n",
       "      <td>219.10</td>\n",
       "    </tr>\n",
       "    <tr>\n",
       "      <th>1014</th>\n",
       "      <td>2013</td>\n",
       "      <td>3</td>\n",
       "      <td>6</td>\n",
       "      <td>225.28</td>\n",
       "    </tr>\n",
       "    <tr>\n",
       "      <th>1015</th>\n",
       "      <td>2013</td>\n",
       "      <td>4</td>\n",
       "      <td>6</td>\n",
       "      <td>204.98</td>\n",
       "    </tr>\n",
       "    <tr>\n",
       "      <th>1016</th>\n",
       "      <td>2013</td>\n",
       "      <td>5</td>\n",
       "      <td>6</td>\n",
       "      <td>213.05</td>\n",
       "    </tr>\n",
       "    <tr>\n",
       "      <th>...</th>\n",
       "      <td>...</td>\n",
       "      <td>...</td>\n",
       "      <td>...</td>\n",
       "      <td>...</td>\n",
       "    </tr>\n",
       "    <tr>\n",
       "      <th>1211</th>\n",
       "      <td>2021</td>\n",
       "      <td>23</td>\n",
       "      <td>6</td>\n",
       "      <td>181.11</td>\n",
       "    </tr>\n",
       "    <tr>\n",
       "      <th>1212</th>\n",
       "      <td>2022</td>\n",
       "      <td>1</td>\n",
       "      <td>6</td>\n",
       "      <td>173.39</td>\n",
       "    </tr>\n",
       "    <tr>\n",
       "      <th>1213</th>\n",
       "      <td>2022</td>\n",
       "      <td>2</td>\n",
       "      <td>6</td>\n",
       "      <td>168.25</td>\n",
       "    </tr>\n",
       "    <tr>\n",
       "      <th>1214</th>\n",
       "      <td>2022</td>\n",
       "      <td>3</td>\n",
       "      <td>6</td>\n",
       "      <td>133.87</td>\n",
       "    </tr>\n",
       "    <tr>\n",
       "      <th>1215</th>\n",
       "      <td>2022</td>\n",
       "      <td>4</td>\n",
       "      <td>6</td>\n",
       "      <td>166.42</td>\n",
       "    </tr>\n",
       "  </tbody>\n",
       "</table>\n",
       "<p>204 rows × 4 columns</p>\n",
       "</div>"
      ],
      "text/plain": [
       "      Year  Round  Team_ID  Player_PAV_Total\n",
       "1012  2013      1        6            233.52\n",
       "1013  2013      2        6            219.10\n",
       "1014  2013      3        6            225.28\n",
       "1015  2013      4        6            204.98\n",
       "1016  2013      5        6            213.05\n",
       "...    ...    ...      ...               ...\n",
       "1211  2021     23        6            181.11\n",
       "1212  2022      1        6            173.39\n",
       "1213  2022      2        6            168.25\n",
       "1214  2022      3        6            133.87\n",
       "1215  2022      4        6            166.42\n",
       "\n",
       "[204 rows x 4 columns]"
      ]
     },
     "execution_count": 162,
     "metadata": {},
     "output_type": "execute_result"
    }
   ],
   "source": [
    "pavs = pd.read_csv(\"R_Code/all_team_pavs.csv\")\n",
    "team_pavs = pavs.loc[(pavs[\"Team_ID\"]==team_int)]\n",
    "team_pavs"
   ]
  },
  {
   "cell_type": "code",
   "execution_count": 159,
   "metadata": {},
   "outputs": [
    {
     "data": {
      "text/plain": [
       "(204, 100)"
      ]
     },
     "execution_count": 159,
     "metadata": {},
     "output_type": "execute_result"
    }
   ],
   "source": [
    "df.shape"
   ]
  },
  {
   "cell_type": "code",
   "execution_count": 15,
   "metadata": {},
   "outputs": [],
   "source": [
    "def calc_sum_pav(year, rnd, team_int):\n",
    "    #do calc\n",
    "    g = gad()\n",
    "    team_dict = g.createTeamDict()\n",
    "    r_dict = create_R_TeamDict()\n",
    "    current_team = (team_dict[str(team_int)])\n",
    "    df = pd.read_csv(\"Data/\"+current_team+'_clean_stats.csv')\n",
    "    current_r_team = (r_dict[str(team_int)])\n",
    "    lineups = pd.read_csv(\"R_Code/all_lineups.csv\")\n",
    "    lineups = lineups[lineups.isin([current_r_team]).any(axis=1)]\n",
    "    lineups = lineups[lineups.isin([year]).any(axis=1)]\n",
    "    lineups = lineups[lineups.isin([rnd]).any(axis=1)]\n",
    "    lineups['team'] = team_int\n",
    "    if(rnd < 11):\n",
    "        lineups['year'] = (year-1)\n",
    "    lineups.columns = ['year', 'teamname', 'roundNumber', 'firstname', 'surname', 'team']\n",
    "    cols = ['team', 'year', 'firstname', 'surname']\n",
    "    lineups = lineups[cols]\n",
    "    all_pavs = pd.read_csv(\"R_Code/all_player_PAVs.csv\")\n",
    "    \n",
    "    lineups.firstname = lineups.firstname.str.split(' ').str[0]\n",
    "    all_pavs.firstname = all_pavs.firstname.str.replace(' ','')\n",
    "    \n",
    "    lineups = lineups.merge(all_pavs, how='inner', on=['team', 'year', 'firstname', 'surname'])\n",
    "    if(lineups.shape[0] > 0):\n",
    "        pav = lineups['PAV_total'].sum()\n",
    "    else:\n",
    "        pav = 999\n",
    "    print(pav)\n",
    "    pav_array = [year, rnd, team_int, pav]\n",
    "    return pav_array"
   ]
  },
  {
   "cell_type": "code",
   "execution_count": 18,
   "metadata": {
    "scrolled": true
   },
   "outputs": [
    {
     "name": "stdout",
     "output_type": "stream",
     "text": [
      "1_2022_1\n",
      "156.19000000000003\n",
      "1_2022_2\n",
      "144.26000000000002\n",
      "1_2022_3\n",
      "153.15000000000003\n",
      "1_2022_4\n",
      "174.11000000000004\n",
      "2_2022_1\n",
      "265.28000000000003\n",
      "2_2022_2\n",
      "256.13\n",
      "2_2022_3\n",
      "265.28\n",
      "2_2022_4\n",
      "250.97000000000003\n",
      "3_2022_1\n",
      "156.67000000000002\n",
      "3_2022_2\n",
      "178.84000000000003\n",
      "3_2022_3\n",
      "157.47\n",
      "3_2022_4\n",
      "169.10999999999999\n",
      "4_2022_1\n",
      "177.64000000000001\n",
      "4_2022_2\n",
      "191.04000000000002\n",
      "4_2022_3\n",
      "201.59\n",
      "4_2022_4\n",
      "195.71\n",
      "5_2022_1\n",
      "214.8\n",
      "5_2022_2\n",
      "230.61999999999995\n",
      "5_2022_3\n",
      "203.24\n",
      "5_2022_4\n",
      "191.28000000000003\n",
      "6_2022_1\n",
      "173.39\n",
      "6_2022_2\n",
      "168.25\n",
      "6_2022_3\n",
      "133.87\n",
      "6_2022_4\n",
      "166.42000000000002\n",
      "7_2022_1\n",
      "236.32000000000002\n",
      "7_2022_2\n",
      "251.10000000000002\n",
      "7_2022_3\n",
      "249.79\n",
      "7_2022_4\n",
      "218.20999999999998\n",
      "8_2022_1\n",
      "185.58\n",
      "8_2022_2\n",
      "177.15\n",
      "8_2022_3\n",
      "182.41\n",
      "8_2022_4\n",
      "176.84\n",
      "9_2022_1\n",
      "206.89000000000001\n",
      "9_2022_2\n",
      "200.72\n",
      "9_2022_3\n",
      "190.59\n",
      "9_2022_4\n",
      "182.04\n",
      "10_2022_1\n",
      "149.82\n",
      "10_2022_2\n",
      "166.4\n",
      "10_2022_3\n",
      "151.77999999999997\n",
      "10_2022_4\n",
      "145.51\n",
      "11_2022_1\n",
      "279.64\n",
      "11_2022_2\n",
      "273.71999999999997\n",
      "11_2022_3\n",
      "267.33\n",
      "11_2022_4\n",
      "282.88\n",
      "12_2022_1\n",
      "197.87\n",
      "12_2022_2\n",
      "189.13\n",
      "12_2022_3\n",
      "177.45\n",
      "12_2022_4\n",
      "184.37\n",
      "13_2022_1\n",
      "253.73999999999998\n",
      "13_2022_2\n",
      "227.26999999999998\n",
      "13_2022_3\n",
      "226.42\n",
      "13_2022_4\n",
      "228.89999999999995\n",
      "14_2022_1\n",
      "220.09\n",
      "14_2022_2\n",
      "184.17\n",
      "14_2022_3\n",
      "193.96\n",
      "14_2022_4\n",
      "198.42000000000002\n",
      "15_2022_1\n",
      "202.23\n",
      "15_2022_2\n",
      "187.05\n",
      "15_2022_3\n",
      "205.96\n",
      "15_2022_4\n",
      "201.83\n",
      "16_2022_1\n",
      "223.09000000000003\n",
      "16_2022_2\n",
      "235.90000000000006\n",
      "16_2022_3\n",
      "236.37000000000003\n",
      "16_2022_4\n",
      "221.81000000000003\n",
      "17_2022_1\n",
      "140.9\n",
      "17_2022_2\n",
      "91.48000000000002\n",
      "17_2022_3\n",
      "163.2\n",
      "17_2022_4\n",
      "152.34000000000003\n",
      "18_2022_1\n",
      "258.22\n",
      "18_2022_2\n",
      "255.87000000000003\n",
      "18_2022_3\n",
      "259.08000000000004\n",
      "18_2022_4\n",
      "245.74\n",
      "    Year  Round  Team_ID  Player_PAV_Total\n",
      "0   2022      1        1            156.19\n",
      "1   2022      2        1            144.26\n",
      "2   2022      3        1            153.15\n",
      "3   2022      4        1            174.11\n",
      "4   2022      1        2            265.28\n",
      "..   ...    ...      ...               ...\n",
      "67  2022      4       17            152.34\n",
      "68  2022      1       18            258.22\n",
      "69  2022      2       18            255.87\n",
      "70  2022      3       18            259.08\n",
      "71  2022      4       18            245.74\n",
      "\n",
      "[72 rows x 4 columns]\n",
      "      Year  Round  Team_ID  Player_PAV_Total\n",
      "0     2013      1        1            239.55\n",
      "1     2013      2        1            238.73\n",
      "2     2013      3        1            236.09\n",
      "3     2013      4        1            214.43\n",
      "4     2013      5        1            226.69\n",
      "...    ...    ...      ...               ...\n",
      "3701  2022      4       17            152.34\n",
      "3702  2022      1       18            258.22\n",
      "3703  2022      2       18            255.87\n",
      "3704  2022      3       18            259.08\n",
      "3705  2022      4       18            245.74\n",
      "\n",
      "[3706 rows x 4 columns]\n"
     ]
    }
   ],
   "source": [
    "pav_array = []\n",
    "for team_id in range(1,19):\n",
    "    for year in range(2022, 2023):\n",
    "        for rnd in range(1,5):\n",
    "            print(str(team_id) + '_' + str(year)+'_'+str(rnd))\n",
    "            pa = calc_sum_pav(year, rnd, team_id)\n",
    "            if(pa[3] == 999):\n",
    "                continue\n",
    "            pav_array.append(pa)\n",
    "pav_df = pd.DataFrame(pav_array, columns=['Year', 'Round', 'Team_ID', 'Player_PAV_Total'])\n",
    "all_pav_df = pd.read_csv('R_Code/all_team_pavs.csv')\n",
    "all_pav_df = pd.concat([all_pav_df, pav_df], ignore_index=True)\n",
    "print(pav_df)\n",
    "print(all_pav_df)\n",
    "all_pav_df.to_csv(\"R_Code/all_team_pavs.csv\", header=True, index=False)"
   ]
  },
  {
   "cell_type": "markdown",
   "metadata": {},
   "source": [
    "# Trend Based Dataset Testing"
   ]
  },
  {
   "cell_type": "code",
   "execution_count": 98,
   "metadata": {},
   "outputs": [],
   "source": [
    "#get assemble_df code from the clean_dataset csv\n",
    "#do the usual stuff appended at the front eg. venue, ladder, round, H_team_id, A_team_id\n",
    "#pick averageable statistics and get n_game average for home and away\n",
    "#function to workout from clean_dataset home_team wins against away team in last 5\n",
    "    #5-home_team_wins to get away team wins against oppo\n",
    "    #append to new X_data\n",
    "#save to new assemble_df.csv\n",
    "\n",
    "match_id = 10576\n",
    "team_id = 9\n",
    "oppo_id = 6\n",
    "g = gad()\n",
    "teams = g.createTeamDict()\n",
    "n_games = 3\n"
   ]
  },
  {
   "cell_type": "code",
   "execution_count": 135,
   "metadata": {},
   "outputs": [],
   "source": [
    "def find_form(ct, ot, match_id):\n",
    "    g = gad()\n",
    "    teams = g.createTeamDict()\n",
    "    current_team = (teams[str(ct)])\n",
    "    team_string = current_team+\"_clean_stats.csv\"\n",
    "    df = pd.read_csv(\"Data/\"+team_string)\n",
    "    idx = df.index[df['Match_ID'] == match_id]\n",
    "    my_idx = idx[0]\n",
    "    df = df.loc[0:my_idx-1,:]\n",
    "    prev_games = df.loc[(df['Team_against_ID']==ot)]\n",
    "    #return last 5 games against each other and 8th column is whether the ct won against ot\n",
    "    l = 5\n",
    "    if(prev_games.shape[0] < 5):\n",
    "        l = prev_games.shape[0]\n",
    "    if(l==0):\n",
    "        wins = 0\n",
    "    else:\n",
    "        prev_games = prev_games.iloc[-l: , 8]\n",
    "        wins = prev_games.sum()\n",
    "    return wins"
   ]
  },
  {
   "cell_type": "code",
   "execution_count": 130,
   "metadata": {},
   "outputs": [],
   "source": [
    "def create_prev_games(match_id, team_id, teams, n_games, oppo_id):\n",
    "    margin = None\n",
    "    ma = None\n",
    "    y_label = None\n",
    "    trend_cg = []\n",
    "    current_team = (teams[str(team_id)])\n",
    "    print(current_team)\n",
    "    print(match_id)\n",
    "    team_string = current_team+\"_clean_stats.csv\"\n",
    "    df = pd.read_csv(\"Data/\"+team_string)\n",
    "    #drops ladder stats\n",
    "    #finds where in the dataframe the current match is\n",
    "    idx = df.index[df['Match_ID'] == match_id]\n",
    "    #print(idx)\n",
    "    my_idx = idx[0]\n",
    "    #splits dataframe into game data and end of round ladder data\n",
    "    l_df = df.iloc[:,-5:]\n",
    "    t_df = df.iloc[: , :-5]\n",
    "    current_year = t_df.loc[my_idx][1]\n",
    "    if(current_year == 2020.0):\n",
    "        print('game in 2020')\n",
    "        margin = 8888\n",
    "    else:\n",
    "        #turns the WWWLL form column into # of W\n",
    "        n_form = []\n",
    "        for x in l_df['form']:\n",
    "            if(len(x)<n_games):\n",
    "                y=float(x.count(\"W\"))\n",
    "                n_form.append(y)\n",
    "            else:\n",
    "                x=x[-n_games:]\n",
    "                y=float(x.count(\"W\"))\n",
    "                n_form.append(y)\n",
    "        l_df['form'] = n_form\n",
    "        #checks to make sure there is enough games to go through\n",
    "        if(my_idx < (n_games)):\n",
    "            print('Num of Prev Games Exceeds previous games')\n",
    "            margin = 9999\n",
    "        else:\n",
    "            #start match array with the ladder values from end of previous round (as this would be current for predicting round)\n",
    "            ma = l_df.loc[my_idx-1].values\n",
    "            #finds both labels for models\n",
    "            y_label = t_df.loc[my_idx][\"H/A Win?\"]\n",
    "            margin = t_df.loc[my_idx][\"Margin\"]\n",
    "            #start from the previous game to current game\n",
    "            #i is to know how many games included\n",
    "            i = 1\n",
    "            #j finds the previous game and allows for 2020 exclusion\n",
    "            j = 1\n",
    "            while i <= n_games:\n",
    "                year = t_df.loc[my_idx-j][1]\n",
    "                if(year == 2020.0):\n",
    "                    j = j + 1\n",
    "                    continue\n",
    "                cg = t_df.loc[my_idx-j][2:].values\n",
    "                trend_cg.append(cg)\n",
    "                i = i + 1\n",
    "                j = j + 1\n",
    "            my_df = pd.DataFrame(trend_cg, columns = t_df.columns[2:])\n",
    "            my_df = my_df.iloc[:,3:-1]\n",
    "            cg = my_df.mean(axis=0)\n",
    "            ma = [*ma, *cg]\n",
    "            h_form = find_form(team_id, oppo_id, match_id)\n",
    "            o_form = find_form(oppo_id, team_id, match_id)\n",
    "            form_diff = h_form-o_form\n",
    "            ma.append(form_diff)\n",
    "    return ma, y_label, margin"
   ]
  },
  {
   "cell_type": "code",
   "execution_count": 136,
   "metadata": {
    "scrolled": false
   },
   "outputs": [
    {
     "name": "stdout",
     "output_type": "stream",
     "text": [
      "GWS\n",
      "5720\n",
      "18\n",
      "0\n",
      "0\n",
      "0\n"
     ]
    }
   ],
   "source": [
    "home_array, y_label, margin = create_prev_games(5720, team_id, teams, 3, oppo_id)"
   ]
  },
  {
   "cell_type": "code",
   "execution_count": 110,
   "metadata": {},
   "outputs": [
    {
     "data": {
      "text/plain": [
       "95"
      ]
     },
     "execution_count": 110,
     "metadata": {},
     "output_type": "execute_result"
    }
   ],
   "source": [
    "len(home_array)"
   ]
  },
  {
   "cell_type": "code",
   "execution_count": 107,
   "metadata": {},
   "outputs": [
    {
     "data": {
      "text/plain": [
       "194"
      ]
     },
     "execution_count": 107,
     "metadata": {},
     "output_type": "execute_result"
    }
   ],
   "source": [
    "headers = ['Round', 'Home_Team', 'Away_Team', 'Venue']\n",
    "example_file = pd.read_csv('Data/Fremantle_clean_stats.csv')\n",
    "cl_h = example_file.columns\n",
    "cl_h = cl_h[5:-6]\n",
    "ladder_header = ['Ladder Pos_H', 'Form_H', 'Season Wins_H', 'Season Loss_H', 'Season Draw_H']\n",
    "headers = [*headers, *ladder_header]\n",
    "for x in cl_h:\n",
    "    if 'Match_ID' in x or 'Year' in x:\n",
    "        continue\n",
    "    x = 'H_'+ x + ' avg'\n",
    "    headers.append(x)\n",
    "headers.append(\"H_Recent_Matchup_Diff\")\n",
    "ladder_header = ['Ladder Pos_A', 'Form_A', 'Season Wins_A', 'Season Loss_A', 'Season Draw_A']\n",
    "headers = [*headers, *ladder_header]\n",
    "for x in cl_h:\n",
    "    if 'Match_ID' in x or 'Year' in x:\n",
    "        continue\n",
    "    x = 'A_'+ x + ' avg'\n",
    "    headers.append(x)\n",
    "headers.append(\"A_Recent_Matchup_Diff\")\n",
    "len(headers)"
   ]
  },
  {
   "cell_type": "markdown",
   "metadata": {},
   "source": [
    "# Team Specific Models\n",
    "## Averaged about 60%"
   ]
  },
  {
   "cell_type": "code",
   "execution_count": 121,
   "metadata": {},
   "outputs": [],
   "source": [
    "def get_team_specific_dataset(n_games, tn):\n",
    "    h = get_headers(n_games)\n",
    "    h = clean_headers(h)\n",
    "    cv = generate_categorical_headers(h)\n",
    "\n",
    "    #to get names of teams from index\n",
    "    g = gad()\n",
    "    teams = g.createTeamDict()\n",
    "    #load in x_data and y_label for n = 1 (quicker)\n",
    "    x_data = pd.read_csv('Data/assembled_stat_matrix_no2020'+str(n_games)+'_games.csv')\n",
    "    y_label = pd.read_csv('Data/assembled_labelled_ymatrix_no2020'+str(n_games)+'_games.csv')\n",
    "\n",
    "    #finds team index\n",
    "    team_idx = x_data.index[(x_data['Home_Team']==tn) | (x_data['Away_Team']==tn)]\n",
    "    team_x_data = x_data.iloc[team_idx]\n",
    "    team_y_data = y_label.iloc[team_idx]\n",
    "    team_x_data.reset_index(drop=True, inplace=True)\n",
    "    team_y_data.reset_index(drop=True, inplace=True)\n",
    "\n",
    "    #quick shape check\n",
    "    print(team_x_data.shape)\n",
    "    print(team_y_data.shape)\n",
    "    l = team_x_data.shape[0]\n",
    "\n",
    "    #loop for new y_array\n",
    "    i = 0\n",
    "    new_team_y = []\n",
    "    while i < l:\n",
    "        x = team_x_data.iloc[i]\n",
    "        y = team_y_data.iloc[i]\n",
    "        #if our team for current model is the home team\n",
    "        if(x[\"Home_Team\"] == tn):\n",
    "            #and the home team has won\n",
    "            if(y[\"H/A Win?\"] == 0):\n",
    "                #set win val to 1\n",
    "                w_val = 1\n",
    "            #else they're the home team but the away team won\n",
    "            else:\n",
    "                #set win val to 0\n",
    "                w_val = 0\n",
    "        #else they're the away team\n",
    "        else:\n",
    "            #if the home team won, that means they lost\n",
    "            if(y[\"H/A Win?\"] == 0):\n",
    "                w_val = 0\n",
    "            #else they're the away team and they won\n",
    "            else:\n",
    "                w_val = 1\n",
    "        i = i + 1\n",
    "        new_team_y.append(w_val)\n",
    "    ny = pd.DataFrame(new_team_y, columns=['Team Won?'])\n",
    "    return team_x_data, ny"
   ]
  },
  {
   "cell_type": "code",
   "execution_count": 116,
   "metadata": {},
   "outputs": [
    {
     "name": "stdout",
     "output_type": "stream",
     "text": [
      "(176, 1874)\n",
      "(176, 1)\n"
     ]
    },
    {
     "data": {
      "text/html": [
       "<div>\n",
       "<style scoped>\n",
       "    .dataframe tbody tr th:only-of-type {\n",
       "        vertical-align: middle;\n",
       "    }\n",
       "\n",
       "    .dataframe tbody tr th {\n",
       "        vertical-align: top;\n",
       "    }\n",
       "\n",
       "    .dataframe thead th {\n",
       "        text-align: right;\n",
       "    }\n",
       "</style>\n",
       "<table border=\"1\" class=\"dataframe\">\n",
       "  <thead>\n",
       "    <tr style=\"text-align: right;\">\n",
       "      <th></th>\n",
       "      <th>Team Won?</th>\n",
       "    </tr>\n",
       "  </thead>\n",
       "  <tbody>\n",
       "    <tr>\n",
       "      <th>0</th>\n",
       "      <td>0</td>\n",
       "    </tr>\n",
       "    <tr>\n",
       "      <th>1</th>\n",
       "      <td>0</td>\n",
       "    </tr>\n",
       "    <tr>\n",
       "      <th>2</th>\n",
       "      <td>1</td>\n",
       "    </tr>\n",
       "    <tr>\n",
       "      <th>3</th>\n",
       "      <td>0</td>\n",
       "    </tr>\n",
       "    <tr>\n",
       "      <th>4</th>\n",
       "      <td>0</td>\n",
       "    </tr>\n",
       "    <tr>\n",
       "      <th>...</th>\n",
       "      <td>...</td>\n",
       "    </tr>\n",
       "    <tr>\n",
       "      <th>171</th>\n",
       "      <td>0</td>\n",
       "    </tr>\n",
       "    <tr>\n",
       "      <th>172</th>\n",
       "      <td>0</td>\n",
       "    </tr>\n",
       "    <tr>\n",
       "      <th>173</th>\n",
       "      <td>0</td>\n",
       "    </tr>\n",
       "    <tr>\n",
       "      <th>174</th>\n",
       "      <td>1</td>\n",
       "    </tr>\n",
       "    <tr>\n",
       "      <th>175</th>\n",
       "      <td>0</td>\n",
       "    </tr>\n",
       "  </tbody>\n",
       "</table>\n",
       "<p>176 rows × 1 columns</p>\n",
       "</div>"
      ],
      "text/plain": [
       "     Team Won?\n",
       "0            0\n",
       "1            0\n",
       "2            1\n",
       "3            0\n",
       "4            0\n",
       "..         ...\n",
       "171          0\n",
       "172          0\n",
       "173          0\n",
       "174          1\n",
       "175          0\n",
       "\n",
       "[176 rows x 1 columns]"
      ]
     },
     "execution_count": 116,
     "metadata": {},
     "output_type": "execute_result"
    }
   ],
   "source": [
    "x, y = get_team_specific_dataset(10, 1)"
   ]
  },
  {
   "cell_type": "code",
   "execution_count": 136,
   "metadata": {},
   "outputs": [],
   "source": [
    "def eval_team_xgb_games(x, y, m, n_games, tn):\n",
    "    results = []\n",
    "    error = []\n",
    "    count = 0\n",
    "    best_w = m\n",
    "    high_w = 0\n",
    "    cv = StratifiedKFold(n_splits=10, shuffle=True)\n",
    "    for train,test in cv.split(x,y):\n",
    "       # print(len(train))\n",
    "        count = count + 1\n",
    "        print(\"Split: \" + str(count))\n",
    "        #comment out fit steps for random forest i guess lol\n",
    "        prediction = m.fit(x.loc[train],y.loc[train]).predict_proba(x.loc[test])\n",
    "        y_pred = m.predict(x.loc[test])\n",
    "        predictions = [round(value) for value in y_pred]\n",
    "        #sees how accurate the model was when testing the test set\n",
    "        accuracy = accuracy_score(y.loc[test], predictions)\n",
    "        pcent = accuracy * 100.0\n",
    "        results.append(pcent)\n",
    "        #change the best model to equal current model\n",
    "        if(pcent > high_w):\n",
    "            best_w = m\n",
    "            high_w = pcent\n",
    "    print(\"Training Testing Accuracy for n_games=\"+str(n_games)+\" team=\"+str(tn)+\" : %.2f%% (%.2f%%)\" % (np.mean(results), np.std(results)))\n",
    "    return best_w, np.mean(results)"
   ]
  },
  {
   "cell_type": "code",
   "execution_count": 132,
   "metadata": {},
   "outputs": [],
   "source": [
    "def run_team_models(n_games, tn):\n",
    "    #load headers and then subsequently categorical headers\n",
    "    h = get_headers(n_games)\n",
    "    h = clean_headers(h)\n",
    "    cv = generate_categorical_headers(h)\n",
    "\n",
    "    #to get names of teams from index\n",
    "    g = gad()\n",
    "    teams = g.createTeamDict()\n",
    "\n",
    "    #load Data\n",
    "    x_data, y_label = get_team_specific_dataset(n_games, tn)\n",
    "\n",
    "    #make empty OHE object\n",
    "    na_enc = OneHotEncoder(handle_unknown='ignore', sparse=False)\n",
    "\n",
    "    #one hot encode data with new one hot encoder, saves ohe for later use\n",
    "    x_data, ohe = ohe_data(x_data, na_enc, 0, cv)\n",
    "    filename = 'Models/Team_OHE/ohe_'+str(n_games)+\"_team_specific_\"+str(tn)+'_no_2020_games.dat'\n",
    "    pickle.dump(ohe, open(filename, \"wb\"))\n",
    "    #reset headers\n",
    "    feature_names = x_data.columns\n",
    "\n",
    "    #regex solution which is apparently necessary??\n",
    "    regex = re.compile(r\"\\[|\\]|<\", re.IGNORECASE)\n",
    "    x_data.columns = [regex.sub(\"_\", col) if any(x in str(col) for x in set(('[', ']', '<'))) else col for col in x_data.columns.values]\n",
    "\n",
    "    #optimise XGBoost model\n",
    "    #print(x_data)\n",
    "    #for predicting win\n",
    "    model = param_search(x_data, y_label, 0)\n",
    "    best_xgb_clas, model_av = eval_team_xgb_games(x_data, y_label, model, n_games, tn)\n",
    "\n",
    "    #save\n",
    "    pickle.dump(best_xgb_clas, open(\"Models/Team_Models/best_xgb_clas_no2020_\"+str(n_games)+\"_team_specific_\"+str(tn)+'_.dat', \"wb\"))\n",
    "    return model_av"
   ]
  },
  {
   "cell_type": "code",
   "execution_count": 138,
   "metadata": {
    "scrolled": true
   },
   "outputs": [
    {
     "name": "stdout",
     "output_type": "stream",
     "text": [
      "(185, 200)\n",
      "(185, 1)\n",
      "X_train shape: (166, 392)\n",
      "X_test shape: (19, 392)\n",
      "Fitting 10 folds for each of 12 candidates, totalling 120 fits\n"
     ]
    },
    {
     "name": "stderr",
     "output_type": "stream",
     "text": [
      "[Parallel(n_jobs=1)]: Using backend SequentialBackend with 1 concurrent workers.\n",
      "[Parallel(n_jobs=1)]: Done 120 out of 120 | elapsed:    8.2s finished\n"
     ]
    },
    {
     "name": "stdout",
     "output_type": "stream",
     "text": [
      "best score: 0.5602409638554217\n",
      "Fitting 10 folds for each of 12 candidates, totalling 120 fits\n"
     ]
    },
    {
     "name": "stderr",
     "output_type": "stream",
     "text": [
      "[Parallel(n_jobs=1)]: Using backend SequentialBackend with 1 concurrent workers.\n",
      "[Parallel(n_jobs=1)]: Done 120 out of 120 | elapsed:    6.7s finished\n"
     ]
    },
    {
     "name": "stdout",
     "output_type": "stream",
     "text": [
      "best score: 0.5602409638554217\n",
      "Fitting 10 folds for each of 12 candidates, totalling 120 fits\n"
     ]
    },
    {
     "name": "stderr",
     "output_type": "stream",
     "text": [
      "[Parallel(n_jobs=1)]: Using backend SequentialBackend with 1 concurrent workers.\n",
      "[Parallel(n_jobs=1)]: Done 120 out of 120 | elapsed:    7.5s finished\n"
     ]
    },
    {
     "name": "stdout",
     "output_type": "stream",
     "text": [
      "best score: 0.5602409638554217\n",
      "Fitting 10 folds for each of 12 candidates, totalling 120 fits\n"
     ]
    },
    {
     "name": "stderr",
     "output_type": "stream",
     "text": [
      "[Parallel(n_jobs=1)]: Using backend SequentialBackend with 1 concurrent workers.\n",
      "[Parallel(n_jobs=1)]: Done 120 out of 120 | elapsed:    9.7s finished\n"
     ]
    },
    {
     "name": "stdout",
     "output_type": "stream",
     "text": [
      "best score: 0.6024096385542169\n",
      "Fitting 10 folds for each of 12 candidates, totalling 120 fits\n"
     ]
    },
    {
     "name": "stderr",
     "output_type": "stream",
     "text": [
      "[Parallel(n_jobs=1)]: Using backend SequentialBackend with 1 concurrent workers.\n",
      "[Parallel(n_jobs=1)]: Done 120 out of 120 | elapsed:    6.8s finished\n"
     ]
    },
    {
     "name": "stdout",
     "output_type": "stream",
     "text": [
      "best score: 0.6024096385542169\n",
      "Split: 1\n",
      "Split: 2\n",
      "Split: 3\n",
      "Split: 4\n",
      "Split: 5\n",
      "Split: 6\n",
      "Split: 7\n",
      "Split: 8\n",
      "Split: 9\n",
      "Split: 10\n",
      "Training Testing Accuracy for n_games=1 team=1 : 62.54% (10.39%)\n",
      "(183, 200)\n",
      "(183, 1)\n",
      "X_train shape: (164, 386)\n",
      "X_test shape: (19, 386)\n",
      "Fitting 10 folds for each of 12 candidates, totalling 120 fits\n"
     ]
    },
    {
     "name": "stderr",
     "output_type": "stream",
     "text": [
      "[Parallel(n_jobs=1)]: Using backend SequentialBackend with 1 concurrent workers.\n",
      "[Parallel(n_jobs=1)]: Done 120 out of 120 | elapsed:    7.9s finished\n"
     ]
    },
    {
     "name": "stdout",
     "output_type": "stream",
     "text": [
      "best score: 0.6219512195121951\n",
      "Fitting 10 folds for each of 12 candidates, totalling 120 fits\n"
     ]
    },
    {
     "name": "stderr",
     "output_type": "stream",
     "text": [
      "[Parallel(n_jobs=1)]: Using backend SequentialBackend with 1 concurrent workers.\n",
      "[Parallel(n_jobs=1)]: Done 120 out of 120 | elapsed:    6.7s finished\n"
     ]
    },
    {
     "name": "stdout",
     "output_type": "stream",
     "text": [
      "best score: 0.6463414634146342\n",
      "Fitting 10 folds for each of 12 candidates, totalling 120 fits\n"
     ]
    },
    {
     "name": "stderr",
     "output_type": "stream",
     "text": [
      "[Parallel(n_jobs=1)]: Using backend SequentialBackend with 1 concurrent workers.\n",
      "[Parallel(n_jobs=1)]: Done 120 out of 120 | elapsed:    7.6s finished\n"
     ]
    },
    {
     "name": "stdout",
     "output_type": "stream",
     "text": [
      "best score: 0.6463414634146342\n",
      "Fitting 10 folds for each of 12 candidates, totalling 120 fits\n"
     ]
    },
    {
     "name": "stderr",
     "output_type": "stream",
     "text": [
      "[Parallel(n_jobs=1)]: Using backend SequentialBackend with 1 concurrent workers.\n",
      "[Parallel(n_jobs=1)]: Done 120 out of 120 | elapsed:    9.1s finished\n"
     ]
    },
    {
     "name": "stdout",
     "output_type": "stream",
     "text": [
      "best score: 0.6463414634146342\n",
      "Fitting 10 folds for each of 12 candidates, totalling 120 fits\n"
     ]
    },
    {
     "name": "stderr",
     "output_type": "stream",
     "text": [
      "[Parallel(n_jobs=1)]: Using backend SequentialBackend with 1 concurrent workers.\n",
      "[Parallel(n_jobs=1)]: Done 120 out of 120 | elapsed:    6.6s finished\n"
     ]
    },
    {
     "name": "stdout",
     "output_type": "stream",
     "text": [
      "best score: 0.6463414634146342\n",
      "Split: 1\n",
      "Split: 2\n",
      "Split: 3\n",
      "Split: 4\n",
      "Split: 5\n",
      "Split: 6\n",
      "Split: 7\n",
      "Split: 8\n",
      "Split: 9\n",
      "Split: 10\n",
      "Training Testing Accuracy for n_games=1 team=2 : 57.34% (7.86%)\n",
      "(181, 200)\n",
      "(181, 1)\n",
      "X_train shape: (162, 382)\n",
      "X_test shape: (19, 382)\n",
      "Fitting 10 folds for each of 12 candidates, totalling 120 fits\n"
     ]
    },
    {
     "name": "stderr",
     "output_type": "stream",
     "text": [
      "[Parallel(n_jobs=1)]: Using backend SequentialBackend with 1 concurrent workers.\n",
      "[Parallel(n_jobs=1)]: Done 120 out of 120 | elapsed:    7.7s finished\n"
     ]
    },
    {
     "name": "stdout",
     "output_type": "stream",
     "text": [
      "best score: 0.691358024691358\n",
      "Fitting 10 folds for each of 12 candidates, totalling 120 fits\n"
     ]
    },
    {
     "name": "stderr",
     "output_type": "stream",
     "text": [
      "[Parallel(n_jobs=1)]: Using backend SequentialBackend with 1 concurrent workers.\n",
      "[Parallel(n_jobs=1)]: Done 120 out of 120 | elapsed:    6.4s finished\n"
     ]
    },
    {
     "name": "stdout",
     "output_type": "stream",
     "text": [
      "best score: 0.691358024691358\n",
      "Fitting 10 folds for each of 12 candidates, totalling 120 fits\n"
     ]
    },
    {
     "name": "stderr",
     "output_type": "stream",
     "text": [
      "[Parallel(n_jobs=1)]: Using backend SequentialBackend with 1 concurrent workers.\n",
      "[Parallel(n_jobs=1)]: Done 120 out of 120 | elapsed:    5.0s finished\n"
     ]
    },
    {
     "name": "stdout",
     "output_type": "stream",
     "text": [
      "best score: 0.691358024691358\n",
      "Fitting 10 folds for each of 12 candidates, totalling 120 fits\n"
     ]
    },
    {
     "name": "stderr",
     "output_type": "stream",
     "text": [
      "[Parallel(n_jobs=1)]: Using backend SequentialBackend with 1 concurrent workers.\n",
      "[Parallel(n_jobs=1)]: Done 120 out of 120 | elapsed:    5.1s finished\n"
     ]
    },
    {
     "name": "stdout",
     "output_type": "stream",
     "text": [
      "best score: 0.691358024691358\n",
      "Fitting 10 folds for each of 12 candidates, totalling 120 fits\n"
     ]
    },
    {
     "name": "stderr",
     "output_type": "stream",
     "text": [
      "[Parallel(n_jobs=1)]: Using backend SequentialBackend with 1 concurrent workers.\n",
      "[Parallel(n_jobs=1)]: Done 120 out of 120 | elapsed:    5.2s finished\n"
     ]
    },
    {
     "name": "stdout",
     "output_type": "stream",
     "text": [
      "best score: 0.691358024691358\n",
      "Split: 1\n",
      "Split: 2\n",
      "Split: 3\n",
      "Split: 4\n",
      "Split: 5\n",
      "Split: 6\n",
      "Split: 7\n",
      "Split: 8\n",
      "Split: 9\n",
      "Split: 10\n",
      "Training Testing Accuracy for n_games=1 team=3 : 68.51% (2.48%)\n",
      "(186, 200)\n",
      "(186, 1)\n",
      "X_train shape: (167, 388)\n",
      "X_test shape: (19, 388)\n",
      "Fitting 10 folds for each of 12 candidates, totalling 120 fits\n"
     ]
    },
    {
     "name": "stderr",
     "output_type": "stream",
     "text": [
      "[Parallel(n_jobs=1)]: Using backend SequentialBackend with 1 concurrent workers.\n",
      "[Parallel(n_jobs=1)]: Done 120 out of 120 | elapsed:    7.9s finished\n"
     ]
    },
    {
     "name": "stdout",
     "output_type": "stream",
     "text": [
      "best score: 0.5808383233532934\n",
      "Fitting 10 folds for each of 12 candidates, totalling 120 fits\n"
     ]
    },
    {
     "name": "stderr",
     "output_type": "stream",
     "text": [
      "[Parallel(n_jobs=1)]: Using backend SequentialBackend with 1 concurrent workers.\n",
      "[Parallel(n_jobs=1)]: Done 120 out of 120 | elapsed:    9.3s finished\n"
     ]
    },
    {
     "name": "stdout",
     "output_type": "stream",
     "text": [
      "best score: 0.5988023952095808\n",
      "Fitting 10 folds for each of 12 candidates, totalling 120 fits\n"
     ]
    },
    {
     "name": "stderr",
     "output_type": "stream",
     "text": [
      "[Parallel(n_jobs=1)]: Using backend SequentialBackend with 1 concurrent workers.\n",
      "[Parallel(n_jobs=1)]: Done 120 out of 120 | elapsed:    7.9s finished\n"
     ]
    },
    {
     "name": "stdout",
     "output_type": "stream",
     "text": [
      "best score: 0.5988023952095808\n",
      "Fitting 10 folds for each of 12 candidates, totalling 120 fits\n"
     ]
    },
    {
     "name": "stderr",
     "output_type": "stream",
     "text": [
      "[Parallel(n_jobs=1)]: Using backend SequentialBackend with 1 concurrent workers.\n",
      "[Parallel(n_jobs=1)]: Done 120 out of 120 | elapsed:   15.9s finished\n"
     ]
    },
    {
     "name": "stdout",
     "output_type": "stream",
     "text": [
      "best score: 0.6167664670658682\n",
      "Fitting 10 folds for each of 12 candidates, totalling 120 fits\n"
     ]
    },
    {
     "name": "stderr",
     "output_type": "stream",
     "text": [
      "[Parallel(n_jobs=1)]: Using backend SequentialBackend with 1 concurrent workers.\n",
      "[Parallel(n_jobs=1)]: Done 120 out of 120 | elapsed:    9.7s finished\n"
     ]
    },
    {
     "name": "stdout",
     "output_type": "stream",
     "text": [
      "best score: 0.6167664670658682\n",
      "Split: 1\n",
      "Split: 2\n",
      "Split: 3\n",
      "Split: 4\n",
      "Split: 5\n",
      "Split: 6\n",
      "Split: 7\n",
      "Split: 8\n",
      "Split: 9\n",
      "Split: 10\n",
      "Training Testing Accuracy for n_games=1 team=4 : 50.58% (7.07%)\n",
      "(183, 200)\n",
      "(183, 1)\n",
      "X_train shape: (164, 383)\n",
      "X_test shape: (19, 383)\n",
      "Fitting 10 folds for each of 12 candidates, totalling 120 fits\n"
     ]
    },
    {
     "name": "stderr",
     "output_type": "stream",
     "text": [
      "[Parallel(n_jobs=1)]: Using backend SequentialBackend with 1 concurrent workers.\n",
      "[Parallel(n_jobs=1)]: Done 120 out of 120 | elapsed:    7.9s finished\n"
     ]
    },
    {
     "name": "stdout",
     "output_type": "stream",
     "text": [
      "best score: 0.5609756097560976\n",
      "Fitting 10 folds for each of 12 candidates, totalling 120 fits\n"
     ]
    },
    {
     "name": "stderr",
     "output_type": "stream",
     "text": [
      "[Parallel(n_jobs=1)]: Using backend SequentialBackend with 1 concurrent workers.\n",
      "[Parallel(n_jobs=1)]: Done 120 out of 120 | elapsed:    6.5s finished\n"
     ]
    },
    {
     "name": "stdout",
     "output_type": "stream",
     "text": [
      "best score: 0.5609756097560976\n",
      "Fitting 10 folds for each of 12 candidates, totalling 120 fits\n"
     ]
    },
    {
     "name": "stderr",
     "output_type": "stream",
     "text": [
      "[Parallel(n_jobs=1)]: Using backend SequentialBackend with 1 concurrent workers.\n",
      "[Parallel(n_jobs=1)]: Done 120 out of 120 | elapsed:   11.9s finished\n"
     ]
    },
    {
     "name": "stdout",
     "output_type": "stream",
     "text": [
      "best score: 0.5609756097560976\n",
      "Fitting 10 folds for each of 12 candidates, totalling 120 fits\n"
     ]
    },
    {
     "name": "stderr",
     "output_type": "stream",
     "text": [
      "[Parallel(n_jobs=1)]: Using backend SequentialBackend with 1 concurrent workers.\n",
      "[Parallel(n_jobs=1)]: Done 120 out of 120 | elapsed:    6.0s finished\n"
     ]
    },
    {
     "name": "stdout",
     "output_type": "stream",
     "text": [
      "best score: 0.5609756097560976\n",
      "Fitting 10 folds for each of 12 candidates, totalling 120 fits\n"
     ]
    },
    {
     "name": "stderr",
     "output_type": "stream",
     "text": [
      "[Parallel(n_jobs=1)]: Using backend SequentialBackend with 1 concurrent workers.\n",
      "[Parallel(n_jobs=1)]: Done 120 out of 120 | elapsed:    6.0s finished\n"
     ]
    },
    {
     "name": "stdout",
     "output_type": "stream",
     "text": [
      "best score: 0.5609756097560976\n",
      "Split: 1\n",
      "Split: 2\n",
      "Split: 3\n",
      "Split: 4\n",
      "Split: 5\n",
      "Split: 6\n",
      "Split: 7\n",
      "Split: 8\n",
      "Split: 9\n",
      "Split: 10\n",
      "Training Testing Accuracy for n_games=1 team=5 : 55.20% (1.46%)\n",
      "(186, 200)\n",
      "(186, 1)\n",
      "X_train shape: (167, 389)\n",
      "X_test shape: (19, 389)\n",
      "Fitting 10 folds for each of 12 candidates, totalling 120 fits\n"
     ]
    },
    {
     "name": "stderr",
     "output_type": "stream",
     "text": [
      "[Parallel(n_jobs=1)]: Using backend SequentialBackend with 1 concurrent workers.\n",
      "[Parallel(n_jobs=1)]: Done 120 out of 120 | elapsed:    8.1s finished\n"
     ]
    },
    {
     "name": "stdout",
     "output_type": "stream",
     "text": [
      "best score: 0.6407185628742516\n",
      "Fitting 10 folds for each of 12 candidates, totalling 120 fits\n"
     ]
    },
    {
     "name": "stderr",
     "output_type": "stream",
     "text": [
      "[Parallel(n_jobs=1)]: Using backend SequentialBackend with 1 concurrent workers.\n",
      "[Parallel(n_jobs=1)]: Done 120 out of 120 | elapsed:    6.2s finished\n"
     ]
    },
    {
     "name": "stdout",
     "output_type": "stream",
     "text": [
      "best score: 0.6407185628742516\n",
      "Fitting 10 folds for each of 12 candidates, totalling 120 fits\n"
     ]
    },
    {
     "name": "stderr",
     "output_type": "stream",
     "text": [
      "[Parallel(n_jobs=1)]: Using backend SequentialBackend with 1 concurrent workers.\n",
      "[Parallel(n_jobs=1)]: Done 120 out of 120 | elapsed:   10.5s finished\n"
     ]
    },
    {
     "name": "stdout",
     "output_type": "stream",
     "text": [
      "best score: 0.6407185628742516\n",
      "Fitting 10 folds for each of 12 candidates, totalling 120 fits\n"
     ]
    },
    {
     "name": "stderr",
     "output_type": "stream",
     "text": [
      "[Parallel(n_jobs=1)]: Using backend SequentialBackend with 1 concurrent workers.\n",
      "[Parallel(n_jobs=1)]: Done 120 out of 120 | elapsed:   10.3s finished\n"
     ]
    },
    {
     "name": "stdout",
     "output_type": "stream",
     "text": [
      "best score: 0.6407185628742516\n",
      "Fitting 10 folds for each of 12 candidates, totalling 120 fits\n"
     ]
    },
    {
     "name": "stderr",
     "output_type": "stream",
     "text": [
      "[Parallel(n_jobs=1)]: Using backend SequentialBackend with 1 concurrent workers.\n",
      "[Parallel(n_jobs=1)]: Done 120 out of 120 | elapsed:   18.7s finished\n"
     ]
    },
    {
     "name": "stdout",
     "output_type": "stream",
     "text": [
      "best score: 0.6946107784431138\n",
      "Split: 1\n",
      "Split: 2\n",
      "Split: 3\n",
      "Split: 4\n",
      "Split: 5\n",
      "Split: 6\n",
      "Split: 7\n",
      "Split: 8\n",
      "Split: 9\n",
      "Split: 10\n",
      "Training Testing Accuracy for n_games=1 team=6 : 61.29% (10.05%)\n",
      "(195, 200)\n",
      "(195, 1)\n",
      "X_train shape: (175, 387)\n",
      "X_test shape: (20, 387)\n",
      "Fitting 10 folds for each of 12 candidates, totalling 120 fits\n"
     ]
    },
    {
     "name": "stderr",
     "output_type": "stream",
     "text": [
      "[Parallel(n_jobs=1)]: Using backend SequentialBackend with 1 concurrent workers.\n",
      "[Parallel(n_jobs=1)]: Done 120 out of 120 | elapsed:    7.8s finished\n"
     ]
    },
    {
     "name": "stdout",
     "output_type": "stream",
     "text": [
      "best score: 0.68\n",
      "Fitting 10 folds for each of 12 candidates, totalling 120 fits\n"
     ]
    },
    {
     "name": "stderr",
     "output_type": "stream",
     "text": [
      "[Parallel(n_jobs=1)]: Using backend SequentialBackend with 1 concurrent workers.\n",
      "[Parallel(n_jobs=1)]: Done 120 out of 120 | elapsed:   10.2s finished\n"
     ]
    },
    {
     "name": "stdout",
     "output_type": "stream",
     "text": [
      "best score: 0.68\n",
      "Fitting 10 folds for each of 12 candidates, totalling 120 fits\n"
     ]
    },
    {
     "name": "stderr",
     "output_type": "stream",
     "text": [
      "[Parallel(n_jobs=1)]: Using backend SequentialBackend with 1 concurrent workers.\n",
      "[Parallel(n_jobs=1)]: Done 120 out of 120 | elapsed:    6.5s finished\n"
     ]
    },
    {
     "name": "stdout",
     "output_type": "stream",
     "text": [
      "best score: 0.6914285714285714\n",
      "Fitting 10 folds for each of 12 candidates, totalling 120 fits\n"
     ]
    },
    {
     "name": "stderr",
     "output_type": "stream",
     "text": [
      "[Parallel(n_jobs=1)]: Using backend SequentialBackend with 1 concurrent workers.\n",
      "[Parallel(n_jobs=1)]: Done 120 out of 120 | elapsed:   12.6s finished\n"
     ]
    },
    {
     "name": "stdout",
     "output_type": "stream",
     "text": [
      "best score: 0.7028571428571428\n",
      "Fitting 10 folds for each of 12 candidates, totalling 120 fits\n"
     ]
    },
    {
     "name": "stderr",
     "output_type": "stream",
     "text": [
      "[Parallel(n_jobs=1)]: Using backend SequentialBackend with 1 concurrent workers.\n",
      "[Parallel(n_jobs=1)]: Done 120 out of 120 | elapsed:    6.4s finished\n"
     ]
    },
    {
     "name": "stdout",
     "output_type": "stream",
     "text": [
      "best score: 0.7028571428571428\n",
      "Split: 1\n",
      "Split: 2\n",
      "Split: 3\n",
      "Split: 4\n",
      "Split: 5\n",
      "Split: 6\n",
      "Split: 7\n",
      "Split: 8\n",
      "Split: 9\n",
      "Split: 10\n",
      "Training Testing Accuracy for n_games=1 team=7 : 66.74% (5.32%)\n",
      "(179, 200)\n",
      "(179, 1)\n",
      "X_train shape: (161, 384)\n",
      "X_test shape: (18, 384)\n",
      "Fitting 10 folds for each of 12 candidates, totalling 120 fits\n"
     ]
    },
    {
     "name": "stderr",
     "output_type": "stream",
     "text": [
      "[Parallel(n_jobs=1)]: Using backend SequentialBackend with 1 concurrent workers.\n",
      "[Parallel(n_jobs=1)]: Done 120 out of 120 | elapsed:    7.6s finished\n"
     ]
    },
    {
     "name": "stdout",
     "output_type": "stream",
     "text": [
      "best score: 0.7453416149068323\n",
      "Fitting 10 folds for each of 12 candidates, totalling 120 fits\n"
     ]
    },
    {
     "name": "stderr",
     "output_type": "stream",
     "text": [
      "[Parallel(n_jobs=1)]: Using backend SequentialBackend with 1 concurrent workers.\n",
      "[Parallel(n_jobs=1)]: Done 120 out of 120 | elapsed:    7.9s finished\n"
     ]
    },
    {
     "name": "stdout",
     "output_type": "stream",
     "text": [
      "best score: 0.7453416149068323\n",
      "Fitting 10 folds for each of 12 candidates, totalling 120 fits\n"
     ]
    },
    {
     "name": "stderr",
     "output_type": "stream",
     "text": [
      "[Parallel(n_jobs=1)]: Using backend SequentialBackend with 1 concurrent workers.\n",
      "[Parallel(n_jobs=1)]: Done 120 out of 120 | elapsed:   11.9s finished\n"
     ]
    },
    {
     "name": "stdout",
     "output_type": "stream",
     "text": [
      "best score: 0.7453416149068323\n",
      "Fitting 10 folds for each of 12 candidates, totalling 120 fits\n"
     ]
    },
    {
     "name": "stderr",
     "output_type": "stream",
     "text": [
      "[Parallel(n_jobs=1)]: Using backend SequentialBackend with 1 concurrent workers.\n",
      "[Parallel(n_jobs=1)]: Done 120 out of 120 | elapsed:    7.9s finished\n"
     ]
    },
    {
     "name": "stdout",
     "output_type": "stream",
     "text": [
      "best score: 0.7453416149068323\n",
      "Fitting 10 folds for each of 12 candidates, totalling 120 fits\n"
     ]
    },
    {
     "name": "stderr",
     "output_type": "stream",
     "text": [
      "[Parallel(n_jobs=1)]: Using backend SequentialBackend with 1 concurrent workers.\n",
      "[Parallel(n_jobs=1)]: Done 120 out of 120 | elapsed:    6.0s finished\n"
     ]
    },
    {
     "name": "stdout",
     "output_type": "stream",
     "text": [
      "best score: 0.7453416149068323\n",
      "Split: 1\n",
      "Split: 2\n",
      "Split: 3\n",
      "Split: 4\n",
      "Split: 5\n",
      "Split: 6\n",
      "Split: 7\n",
      "Split: 8\n",
      "Split: 9\n",
      "Split: 10\n",
      "Training Testing Accuracy for n_games=1 team=8 : 72.06% (0.49%)\n",
      "(192, 200)\n",
      "(192, 1)\n",
      "X_train shape: (172, 396)\n",
      "X_test shape: (20, 396)\n",
      "Fitting 10 folds for each of 12 candidates, totalling 120 fits\n"
     ]
    },
    {
     "name": "stderr",
     "output_type": "stream",
     "text": [
      "[Parallel(n_jobs=1)]: Using backend SequentialBackend with 1 concurrent workers.\n",
      "[Parallel(n_jobs=1)]: Done 120 out of 120 | elapsed:    8.0s finished\n"
     ]
    },
    {
     "name": "stdout",
     "output_type": "stream",
     "text": [
      "best score: 0.5755813953488372\n",
      "Fitting 10 folds for each of 12 candidates, totalling 120 fits\n"
     ]
    },
    {
     "name": "stderr",
     "output_type": "stream",
     "text": [
      "[Parallel(n_jobs=1)]: Using backend SequentialBackend with 1 concurrent workers.\n",
      "[Parallel(n_jobs=1)]: Done 120 out of 120 | elapsed:   21.4s finished\n"
     ]
    },
    {
     "name": "stdout",
     "output_type": "stream",
     "text": [
      "best score: 0.6337209302325582\n",
      "Fitting 10 folds for each of 12 candidates, totalling 120 fits\n"
     ]
    },
    {
     "name": "stderr",
     "output_type": "stream",
     "text": [
      "[Parallel(n_jobs=1)]: Using backend SequentialBackend with 1 concurrent workers.\n",
      "[Parallel(n_jobs=1)]: Done 120 out of 120 | elapsed:    5.8s finished\n"
     ]
    },
    {
     "name": "stdout",
     "output_type": "stream",
     "text": [
      "best score: 0.6337209302325582\n",
      "Fitting 10 folds for each of 12 candidates, totalling 120 fits\n"
     ]
    },
    {
     "name": "stderr",
     "output_type": "stream",
     "text": [
      "[Parallel(n_jobs=1)]: Using backend SequentialBackend with 1 concurrent workers.\n",
      "[Parallel(n_jobs=1)]: Done 120 out of 120 | elapsed:   17.3s finished\n"
     ]
    },
    {
     "name": "stdout",
     "output_type": "stream",
     "text": [
      "best score: 0.6337209302325582\n",
      "Fitting 10 folds for each of 12 candidates, totalling 120 fits\n"
     ]
    },
    {
     "name": "stderr",
     "output_type": "stream",
     "text": [
      "[Parallel(n_jobs=1)]: Using backend SequentialBackend with 1 concurrent workers.\n",
      "[Parallel(n_jobs=1)]: Done 120 out of 120 | elapsed:   14.9s finished\n"
     ]
    },
    {
     "name": "stdout",
     "output_type": "stream",
     "text": [
      "best score: 0.6337209302325582\n",
      "Split: 1\n",
      "Split: 2\n",
      "Split: 3\n",
      "Split: 4\n",
      "Split: 5\n",
      "Split: 6\n",
      "Split: 7\n",
      "Split: 8\n",
      "Split: 9\n",
      "Split: 10\n",
      "Training Testing Accuracy for n_games=1 team=9 : 60.89% (6.90%)\n",
      "(193, 200)\n",
      "(193, 1)\n",
      "X_train shape: (173, 386)\n",
      "X_test shape: (20, 386)\n",
      "Fitting 10 folds for each of 12 candidates, totalling 120 fits\n"
     ]
    },
    {
     "name": "stderr",
     "output_type": "stream",
     "text": [
      "[Parallel(n_jobs=1)]: Using backend SequentialBackend with 1 concurrent workers.\n",
      "[Parallel(n_jobs=1)]: Done 120 out of 120 | elapsed:    7.8s finished\n"
     ]
    },
    {
     "name": "stdout",
     "output_type": "stream",
     "text": [
      "best score: 0.6358381502890174\n",
      "Fitting 10 folds for each of 12 candidates, totalling 120 fits\n"
     ]
    },
    {
     "name": "stderr",
     "output_type": "stream",
     "text": [
      "[Parallel(n_jobs=1)]: Using backend SequentialBackend with 1 concurrent workers.\n",
      "[Parallel(n_jobs=1)]: Done 120 out of 120 | elapsed:    5.2s finished\n"
     ]
    },
    {
     "name": "stdout",
     "output_type": "stream",
     "text": [
      "best score: 0.6358381502890174\n",
      "Fitting 10 folds for each of 12 candidates, totalling 120 fits\n"
     ]
    },
    {
     "name": "stderr",
     "output_type": "stream",
     "text": [
      "[Parallel(n_jobs=1)]: Using backend SequentialBackend with 1 concurrent workers.\n",
      "[Parallel(n_jobs=1)]: Done 120 out of 120 | elapsed:    7.4s finished\n"
     ]
    },
    {
     "name": "stdout",
     "output_type": "stream",
     "text": [
      "best score: 0.653179190751445\n",
      "Fitting 10 folds for each of 12 candidates, totalling 120 fits\n"
     ]
    },
    {
     "name": "stderr",
     "output_type": "stream",
     "text": [
      "[Parallel(n_jobs=1)]: Using backend SequentialBackend with 1 concurrent workers.\n",
      "[Parallel(n_jobs=1)]: Done 120 out of 120 | elapsed:    5.5s finished\n"
     ]
    },
    {
     "name": "stdout",
     "output_type": "stream",
     "text": [
      "best score: 0.653179190751445\n",
      "Fitting 10 folds for each of 12 candidates, totalling 120 fits\n"
     ]
    },
    {
     "name": "stderr",
     "output_type": "stream",
     "text": [
      "[Parallel(n_jobs=1)]: Using backend SequentialBackend with 1 concurrent workers.\n",
      "[Parallel(n_jobs=1)]: Done 120 out of 120 | elapsed:    7.4s finished\n"
     ]
    },
    {
     "name": "stdout",
     "output_type": "stream",
     "text": [
      "best score: 0.653179190751445\n",
      "Split: 1\n",
      "Split: 2\n",
      "Split: 3\n",
      "Split: 4\n",
      "Split: 5\n",
      "Split: 6\n",
      "Split: 7\n",
      "Split: 8\n",
      "Split: 9\n",
      "Split: 10\n",
      "Training Testing Accuracy for n_games=1 team=10 : 63.16% (5.25%)\n",
      "(185, 200)\n",
      "(185, 1)\n",
      "X_train shape: (166, 390)\n",
      "X_test shape: (19, 390)\n",
      "Fitting 10 folds for each of 12 candidates, totalling 120 fits\n"
     ]
    },
    {
     "name": "stderr",
     "output_type": "stream",
     "text": [
      "[Parallel(n_jobs=1)]: Using backend SequentialBackend with 1 concurrent workers.\n",
      "[Parallel(n_jobs=1)]: Done 120 out of 120 | elapsed:    8.3s finished\n"
     ]
    },
    {
     "name": "stdout",
     "output_type": "stream",
     "text": [
      "best score: 0.5783132530120482\n",
      "Fitting 10 folds for each of 12 candidates, totalling 120 fits\n"
     ]
    },
    {
     "name": "stderr",
     "output_type": "stream",
     "text": [
      "[Parallel(n_jobs=1)]: Using backend SequentialBackend with 1 concurrent workers.\n",
      "[Parallel(n_jobs=1)]: Done 120 out of 120 | elapsed:    9.7s finished\n"
     ]
    },
    {
     "name": "stdout",
     "output_type": "stream",
     "text": [
      "best score: 0.5783132530120482\n",
      "Fitting 10 folds for each of 12 candidates, totalling 120 fits\n"
     ]
    },
    {
     "name": "stderr",
     "output_type": "stream",
     "text": [
      "[Parallel(n_jobs=1)]: Using backend SequentialBackend with 1 concurrent workers.\n",
      "[Parallel(n_jobs=1)]: Done 120 out of 120 | elapsed:    5.9s finished\n"
     ]
    },
    {
     "name": "stdout",
     "output_type": "stream",
     "text": [
      "best score: 0.5783132530120482\n",
      "Fitting 10 folds for each of 12 candidates, totalling 120 fits\n"
     ]
    },
    {
     "name": "stderr",
     "output_type": "stream",
     "text": [
      "[Parallel(n_jobs=1)]: Using backend SequentialBackend with 1 concurrent workers.\n",
      "[Parallel(n_jobs=1)]: Done 120 out of 120 | elapsed:    6.6s finished\n"
     ]
    },
    {
     "name": "stdout",
     "output_type": "stream",
     "text": [
      "best score: 0.608433734939759\n",
      "Fitting 10 folds for each of 12 candidates, totalling 120 fits\n"
     ]
    },
    {
     "name": "stderr",
     "output_type": "stream",
     "text": [
      "[Parallel(n_jobs=1)]: Using backend SequentialBackend with 1 concurrent workers.\n",
      "[Parallel(n_jobs=1)]: Done 120 out of 120 | elapsed:    7.1s finished\n"
     ]
    },
    {
     "name": "stdout",
     "output_type": "stream",
     "text": [
      "best score: 0.608433734939759\n",
      "Split: 1\n",
      "Split: 2\n",
      "Split: 3\n",
      "Split: 4\n",
      "Split: 5\n",
      "Split: 6\n",
      "Split: 7\n",
      "Split: 8\n",
      "Split: 9\n",
      "Split: 10\n",
      "Training Testing Accuracy for n_games=1 team=11 : 61.11% (6.10%)\n",
      "(186, 200)\n",
      "(186, 1)\n",
      "X_train shape: (167, 386)\n",
      "X_test shape: (19, 386)\n",
      "Fitting 10 folds for each of 12 candidates, totalling 120 fits\n"
     ]
    },
    {
     "name": "stderr",
     "output_type": "stream",
     "text": [
      "[Parallel(n_jobs=1)]: Using backend SequentialBackend with 1 concurrent workers.\n",
      "[Parallel(n_jobs=1)]: Done 120 out of 120 | elapsed:    8.0s finished\n"
     ]
    },
    {
     "name": "stdout",
     "output_type": "stream",
     "text": [
      "best score: 0.5329341317365269\n",
      "Fitting 10 folds for each of 12 candidates, totalling 120 fits\n"
     ]
    },
    {
     "name": "stderr",
     "output_type": "stream",
     "text": [
      "[Parallel(n_jobs=1)]: Using backend SequentialBackend with 1 concurrent workers.\n",
      "[Parallel(n_jobs=1)]: Done 120 out of 120 | elapsed:   13.4s finished\n"
     ]
    },
    {
     "name": "stdout",
     "output_type": "stream",
     "text": [
      "best score: 0.5568862275449101\n",
      "Fitting 10 folds for each of 12 candidates, totalling 120 fits\n"
     ]
    },
    {
     "name": "stderr",
     "output_type": "stream",
     "text": [
      "[Parallel(n_jobs=1)]: Using backend SequentialBackend with 1 concurrent workers.\n",
      "[Parallel(n_jobs=1)]: Done 120 out of 120 | elapsed:   13.1s finished\n"
     ]
    },
    {
     "name": "stdout",
     "output_type": "stream",
     "text": [
      "best score: 0.5748502994011976\n",
      "Fitting 10 folds for each of 12 candidates, totalling 120 fits\n"
     ]
    },
    {
     "name": "stderr",
     "output_type": "stream",
     "text": [
      "[Parallel(n_jobs=1)]: Using backend SequentialBackend with 1 concurrent workers.\n",
      "[Parallel(n_jobs=1)]: Done 120 out of 120 | elapsed:    6.4s finished\n"
     ]
    },
    {
     "name": "stdout",
     "output_type": "stream",
     "text": [
      "best score: 0.5748502994011976\n",
      "Fitting 10 folds for each of 12 candidates, totalling 120 fits\n"
     ]
    },
    {
     "name": "stderr",
     "output_type": "stream",
     "text": [
      "[Parallel(n_jobs=1)]: Using backend SequentialBackend with 1 concurrent workers.\n",
      "[Parallel(n_jobs=1)]: Done 120 out of 120 | elapsed:    5.3s finished\n"
     ]
    },
    {
     "name": "stdout",
     "output_type": "stream",
     "text": [
      "best score: 0.5748502994011976\n",
      "Split: 1\n",
      "Split: 2\n",
      "Split: 3\n",
      "Split: 4\n",
      "Split: 5\n",
      "Split: 6\n",
      "Split: 7\n",
      "Split: 8\n",
      "Split: 9\n",
      "Split: 10\n",
      "Training Testing Accuracy for n_games=1 team=12 : 53.77% (7.47%)\n",
      "(187, 200)\n",
      "(187, 1)\n",
      "X_train shape: (168, 393)\n",
      "X_test shape: (19, 393)\n",
      "Fitting 10 folds for each of 12 candidates, totalling 120 fits\n"
     ]
    },
    {
     "name": "stderr",
     "output_type": "stream",
     "text": [
      "[Parallel(n_jobs=1)]: Using backend SequentialBackend with 1 concurrent workers.\n",
      "[Parallel(n_jobs=1)]: Done 120 out of 120 | elapsed:    7.9s finished\n"
     ]
    },
    {
     "name": "stdout",
     "output_type": "stream",
     "text": [
      "best score: 0.6130952380952381\n",
      "Fitting 10 folds for each of 12 candidates, totalling 120 fits\n"
     ]
    },
    {
     "name": "stderr",
     "output_type": "stream",
     "text": [
      "[Parallel(n_jobs=1)]: Using backend SequentialBackend with 1 concurrent workers.\n",
      "[Parallel(n_jobs=1)]: Done 120 out of 120 | elapsed:   13.7s finished\n"
     ]
    },
    {
     "name": "stdout",
     "output_type": "stream",
     "text": [
      "best score: 0.6547619047619048\n",
      "Fitting 10 folds for each of 12 candidates, totalling 120 fits\n"
     ]
    },
    {
     "name": "stderr",
     "output_type": "stream",
     "text": [
      "[Parallel(n_jobs=1)]: Using backend SequentialBackend with 1 concurrent workers.\n",
      "[Parallel(n_jobs=1)]: Done 120 out of 120 | elapsed:   19.4s finished\n"
     ]
    },
    {
     "name": "stdout",
     "output_type": "stream",
     "text": [
      "best score: 0.6547619047619048\n",
      "Fitting 10 folds for each of 12 candidates, totalling 120 fits\n"
     ]
    },
    {
     "name": "stderr",
     "output_type": "stream",
     "text": [
      "[Parallel(n_jobs=1)]: Using backend SequentialBackend with 1 concurrent workers.\n",
      "[Parallel(n_jobs=1)]: Done 120 out of 120 | elapsed:    7.5s finished\n"
     ]
    },
    {
     "name": "stdout",
     "output_type": "stream",
     "text": [
      "best score: 0.6547619047619048\n",
      "Fitting 10 folds for each of 12 candidates, totalling 120 fits\n"
     ]
    },
    {
     "name": "stderr",
     "output_type": "stream",
     "text": [
      "[Parallel(n_jobs=1)]: Using backend SequentialBackend with 1 concurrent workers.\n",
      "[Parallel(n_jobs=1)]: Done 120 out of 120 | elapsed:   17.5s finished\n"
     ]
    },
    {
     "name": "stdout",
     "output_type": "stream",
     "text": [
      "best score: 0.6547619047619048\n",
      "Split: 1\n",
      "Split: 2\n",
      "Split: 3\n",
      "Split: 4\n",
      "Split: 5\n",
      "Split: 6\n",
      "Split: 7\n",
      "Split: 8\n",
      "Split: 9\n",
      "Split: 10\n",
      "Training Testing Accuracy for n_games=1 team=13 : 58.25% (4.26%)\n",
      "(190, 200)\n",
      "(190, 1)\n",
      "X_train shape: (171, 387)\n",
      "X_test shape: (19, 387)\n",
      "Fitting 10 folds for each of 12 candidates, totalling 120 fits\n"
     ]
    },
    {
     "name": "stderr",
     "output_type": "stream",
     "text": [
      "[Parallel(n_jobs=1)]: Using backend SequentialBackend with 1 concurrent workers.\n",
      "[Parallel(n_jobs=1)]: Done 120 out of 120 | elapsed:    7.8s finished\n"
     ]
    },
    {
     "name": "stdout",
     "output_type": "stream",
     "text": [
      "best score: 0.631578947368421\n",
      "Fitting 10 folds for each of 12 candidates, totalling 120 fits\n"
     ]
    },
    {
     "name": "stderr",
     "output_type": "stream",
     "text": [
      "[Parallel(n_jobs=1)]: Using backend SequentialBackend with 1 concurrent workers.\n",
      "[Parallel(n_jobs=1)]: Done 120 out of 120 | elapsed:    6.1s finished\n"
     ]
    },
    {
     "name": "stdout",
     "output_type": "stream",
     "text": [
      "best score: 0.631578947368421\n",
      "Fitting 10 folds for each of 12 candidates, totalling 120 fits\n"
     ]
    },
    {
     "name": "stderr",
     "output_type": "stream",
     "text": [
      "[Parallel(n_jobs=1)]: Using backend SequentialBackend with 1 concurrent workers.\n",
      "[Parallel(n_jobs=1)]: Done 120 out of 120 | elapsed:    6.2s finished\n"
     ]
    },
    {
     "name": "stdout",
     "output_type": "stream",
     "text": [
      "best score: 0.631578947368421\n",
      "Fitting 10 folds for each of 12 candidates, totalling 120 fits\n"
     ]
    },
    {
     "name": "stderr",
     "output_type": "stream",
     "text": [
      "[Parallel(n_jobs=1)]: Using backend SequentialBackend with 1 concurrent workers.\n",
      "[Parallel(n_jobs=1)]: Done 120 out of 120 | elapsed:    9.3s finished\n"
     ]
    },
    {
     "name": "stdout",
     "output_type": "stream",
     "text": [
      "best score: 0.631578947368421\n",
      "Fitting 10 folds for each of 12 candidates, totalling 120 fits\n"
     ]
    },
    {
     "name": "stderr",
     "output_type": "stream",
     "text": [
      "[Parallel(n_jobs=1)]: Using backend SequentialBackend with 1 concurrent workers.\n",
      "[Parallel(n_jobs=1)]: Done 120 out of 120 | elapsed:    5.7s finished\n"
     ]
    },
    {
     "name": "stdout",
     "output_type": "stream",
     "text": [
      "best score: 0.631578947368421\n",
      "Split: 1\n",
      "Split: 2\n",
      "Split: 3\n",
      "Split: 4\n",
      "Split: 5\n",
      "Split: 6\n",
      "Split: 7\n",
      "Split: 8\n",
      "Split: 9\n",
      "Split: 10\n",
      "Training Testing Accuracy for n_games=1 team=14 : 61.58% (2.41%)\n",
      "(179, 200)\n",
      "(179, 1)\n",
      "X_train shape: (161, 387)\n",
      "X_test shape: (18, 387)\n",
      "Fitting 10 folds for each of 12 candidates, totalling 120 fits\n"
     ]
    },
    {
     "name": "stderr",
     "output_type": "stream",
     "text": [
      "[Parallel(n_jobs=1)]: Using backend SequentialBackend with 1 concurrent workers.\n",
      "[Parallel(n_jobs=1)]: Done 120 out of 120 | elapsed:   11.1s finished\n"
     ]
    },
    {
     "name": "stdout",
     "output_type": "stream",
     "text": [
      "best score: 0.6583850931677019\n",
      "Fitting 10 folds for each of 12 candidates, totalling 120 fits\n"
     ]
    },
    {
     "name": "stderr",
     "output_type": "stream",
     "text": [
      "[Parallel(n_jobs=1)]: Using backend SequentialBackend with 1 concurrent workers.\n",
      "[Parallel(n_jobs=1)]: Done 120 out of 120 | elapsed:    8.8s finished\n"
     ]
    },
    {
     "name": "stdout",
     "output_type": "stream",
     "text": [
      "best score: 0.6583850931677019\n",
      "Fitting 10 folds for each of 12 candidates, totalling 120 fits\n"
     ]
    },
    {
     "name": "stderr",
     "output_type": "stream",
     "text": [
      "[Parallel(n_jobs=1)]: Using backend SequentialBackend with 1 concurrent workers.\n",
      "[Parallel(n_jobs=1)]: Done 120 out of 120 | elapsed:    7.1s finished\n"
     ]
    },
    {
     "name": "stdout",
     "output_type": "stream",
     "text": [
      "best score: 0.6583850931677019\n",
      "Fitting 10 folds for each of 12 candidates, totalling 120 fits\n"
     ]
    },
    {
     "name": "stderr",
     "output_type": "stream",
     "text": [
      "[Parallel(n_jobs=1)]: Using backend SequentialBackend with 1 concurrent workers.\n",
      "[Parallel(n_jobs=1)]: Done 120 out of 120 | elapsed:    9.3s finished\n"
     ]
    },
    {
     "name": "stdout",
     "output_type": "stream",
     "text": [
      "best score: 0.6645962732919255\n",
      "Fitting 10 folds for each of 12 candidates, totalling 120 fits\n"
     ]
    },
    {
     "name": "stderr",
     "output_type": "stream",
     "text": [
      "[Parallel(n_jobs=1)]: Using backend SequentialBackend with 1 concurrent workers.\n",
      "[Parallel(n_jobs=1)]: Done 120 out of 120 | elapsed:    8.1s finished\n"
     ]
    },
    {
     "name": "stdout",
     "output_type": "stream",
     "text": [
      "best score: 0.6645962732919255\n",
      "Split: 1\n",
      "Split: 2\n",
      "Split: 3\n",
      "Split: 4\n",
      "Split: 5\n",
      "Split: 6\n",
      "Split: 7\n",
      "Split: 8\n",
      "Split: 9\n",
      "Split: 10\n",
      "Training Testing Accuracy for n_games=1 team=15 : 64.87% (10.10%)\n",
      "(195, 200)\n",
      "(195, 1)\n",
      "X_train shape: (175, 390)\n",
      "X_test shape: (20, 390)\n",
      "Fitting 10 folds for each of 12 candidates, totalling 120 fits\n"
     ]
    },
    {
     "name": "stderr",
     "output_type": "stream",
     "text": [
      "[Parallel(n_jobs=1)]: Using backend SequentialBackend with 1 concurrent workers.\n",
      "[Parallel(n_jobs=1)]: Done 120 out of 120 | elapsed:    9.5s finished\n"
     ]
    },
    {
     "name": "stdout",
     "output_type": "stream",
     "text": [
      "best score: 0.64\n",
      "Fitting 10 folds for each of 12 candidates, totalling 120 fits\n"
     ]
    },
    {
     "name": "stderr",
     "output_type": "stream",
     "text": [
      "[Parallel(n_jobs=1)]: Using backend SequentialBackend with 1 concurrent workers.\n",
      "[Parallel(n_jobs=1)]: Done 120 out of 120 | elapsed:    8.7s finished\n"
     ]
    },
    {
     "name": "stdout",
     "output_type": "stream",
     "text": [
      "best score: 0.64\n",
      "Fitting 10 folds for each of 12 candidates, totalling 120 fits\n"
     ]
    },
    {
     "name": "stderr",
     "output_type": "stream",
     "text": [
      "[Parallel(n_jobs=1)]: Using backend SequentialBackend with 1 concurrent workers.\n",
      "[Parallel(n_jobs=1)]: Done 120 out of 120 | elapsed:   17.5s finished\n"
     ]
    },
    {
     "name": "stdout",
     "output_type": "stream",
     "text": [
      "best score: 0.64\n",
      "Fitting 10 folds for each of 12 candidates, totalling 120 fits\n"
     ]
    },
    {
     "name": "stderr",
     "output_type": "stream",
     "text": [
      "[Parallel(n_jobs=1)]: Using backend SequentialBackend with 1 concurrent workers.\n",
      "[Parallel(n_jobs=1)]: Done 120 out of 120 | elapsed:   14.3s finished\n"
     ]
    },
    {
     "name": "stdout",
     "output_type": "stream",
     "text": [
      "best score: 0.64\n",
      "Fitting 10 folds for each of 12 candidates, totalling 120 fits\n"
     ]
    },
    {
     "name": "stderr",
     "output_type": "stream",
     "text": [
      "[Parallel(n_jobs=1)]: Using backend SequentialBackend with 1 concurrent workers.\n",
      "[Parallel(n_jobs=1)]: Done 120 out of 120 | elapsed:    7.1s finished\n"
     ]
    },
    {
     "name": "stdout",
     "output_type": "stream",
     "text": [
      "best score: 0.64\n",
      "Split: 1\n",
      "Split: 2\n",
      "Split: 3\n",
      "Split: 4\n",
      "Split: 5\n",
      "Split: 6\n",
      "Split: 7\n",
      "Split: 8\n",
      "Split: 9\n",
      "Split: 10\n",
      "Training Testing Accuracy for n_games=1 team=16 : 64.08% (0.92%)\n",
      "(190, 200)\n",
      "(190, 1)\n",
      "X_train shape: (171, 386)\n",
      "X_test shape: (19, 386)\n",
      "Fitting 10 folds for each of 12 candidates, totalling 120 fits\n"
     ]
    },
    {
     "name": "stderr",
     "output_type": "stream",
     "text": [
      "[Parallel(n_jobs=1)]: Using backend SequentialBackend with 1 concurrent workers.\n",
      "[Parallel(n_jobs=1)]: Done 120 out of 120 | elapsed:    7.8s finished\n"
     ]
    },
    {
     "name": "stdout",
     "output_type": "stream",
     "text": [
      "best score: 0.6198830409356725\n",
      "Fitting 10 folds for each of 12 candidates, totalling 120 fits\n"
     ]
    },
    {
     "name": "stderr",
     "output_type": "stream",
     "text": [
      "[Parallel(n_jobs=1)]: Using backend SequentialBackend with 1 concurrent workers.\n",
      "[Parallel(n_jobs=1)]: Done 120 out of 120 | elapsed:    5.8s finished\n"
     ]
    },
    {
     "name": "stdout",
     "output_type": "stream",
     "text": [
      "best score: 0.6198830409356725\n",
      "Fitting 10 folds for each of 12 candidates, totalling 120 fits\n"
     ]
    },
    {
     "name": "stderr",
     "output_type": "stream",
     "text": [
      "[Parallel(n_jobs=1)]: Using backend SequentialBackend with 1 concurrent workers.\n",
      "[Parallel(n_jobs=1)]: Done 120 out of 120 | elapsed:    6.8s finished\n"
     ]
    },
    {
     "name": "stdout",
     "output_type": "stream",
     "text": [
      "best score: 0.631578947368421\n",
      "Fitting 10 folds for each of 12 candidates, totalling 120 fits\n"
     ]
    },
    {
     "name": "stderr",
     "output_type": "stream",
     "text": [
      "[Parallel(n_jobs=1)]: Using backend SequentialBackend with 1 concurrent workers.\n",
      "[Parallel(n_jobs=1)]: Done 120 out of 120 | elapsed:    7.1s finished\n"
     ]
    },
    {
     "name": "stdout",
     "output_type": "stream",
     "text": [
      "best score: 0.631578947368421\n",
      "Fitting 10 folds for each of 12 candidates, totalling 120 fits\n"
     ]
    },
    {
     "name": "stderr",
     "output_type": "stream",
     "text": [
      "[Parallel(n_jobs=1)]: Using backend SequentialBackend with 1 concurrent workers.\n",
      "[Parallel(n_jobs=1)]: Done 120 out of 120 | elapsed:    8.8s finished\n"
     ]
    },
    {
     "name": "stdout",
     "output_type": "stream",
     "text": [
      "best score: 0.6549707602339181\n",
      "Split: 1\n",
      "Split: 2\n",
      "Split: 3\n",
      "Split: 4\n",
      "Split: 5\n",
      "Split: 6\n",
      "Split: 7\n",
      "Split: 8\n",
      "Split: 9\n",
      "Split: 10\n",
      "Training Testing Accuracy for n_games=1 team=17 : 59.47% (4.74%)\n",
      "(189, 200)\n",
      "(189, 1)\n",
      "X_train shape: (170, 394)\n",
      "X_test shape: (19, 394)\n",
      "Fitting 10 folds for each of 12 candidates, totalling 120 fits\n"
     ]
    },
    {
     "name": "stderr",
     "output_type": "stream",
     "text": [
      "[Parallel(n_jobs=1)]: Using backend SequentialBackend with 1 concurrent workers.\n",
      "[Parallel(n_jobs=1)]: Done 120 out of 120 | elapsed:    8.0s finished\n"
     ]
    },
    {
     "name": "stdout",
     "output_type": "stream",
     "text": [
      "best score: 0.5823529411764706\n",
      "Fitting 10 folds for each of 12 candidates, totalling 120 fits\n"
     ]
    },
    {
     "name": "stderr",
     "output_type": "stream",
     "text": [
      "[Parallel(n_jobs=1)]: Using backend SequentialBackend with 1 concurrent workers.\n",
      "[Parallel(n_jobs=1)]: Done 120 out of 120 | elapsed:   11.8s finished\n"
     ]
    },
    {
     "name": "stdout",
     "output_type": "stream",
     "text": [
      "best score: 0.5823529411764706\n",
      "Fitting 10 folds for each of 12 candidates, totalling 120 fits\n"
     ]
    },
    {
     "name": "stderr",
     "output_type": "stream",
     "text": [
      "[Parallel(n_jobs=1)]: Using backend SequentialBackend with 1 concurrent workers.\n",
      "[Parallel(n_jobs=1)]: Done 120 out of 120 | elapsed:    7.7s finished\n"
     ]
    },
    {
     "name": "stdout",
     "output_type": "stream",
     "text": [
      "best score: 0.5823529411764706\n",
      "Fitting 10 folds for each of 12 candidates, totalling 120 fits\n"
     ]
    },
    {
     "name": "stderr",
     "output_type": "stream",
     "text": [
      "[Parallel(n_jobs=1)]: Using backend SequentialBackend with 1 concurrent workers.\n",
      "[Parallel(n_jobs=1)]: Done 120 out of 120 | elapsed:   10.9s finished\n"
     ]
    },
    {
     "name": "stdout",
     "output_type": "stream",
     "text": [
      "best score: 0.5823529411764706\n",
      "Fitting 10 folds for each of 12 candidates, totalling 120 fits\n"
     ]
    },
    {
     "name": "stderr",
     "output_type": "stream",
     "text": [
      "[Parallel(n_jobs=1)]: Using backend SequentialBackend with 1 concurrent workers.\n",
      "[Parallel(n_jobs=1)]: Done 120 out of 120 | elapsed:    6.9s finished\n"
     ]
    },
    {
     "name": "stdout",
     "output_type": "stream",
     "text": [
      "best score: 0.5823529411764706\n",
      "Split: 1\n",
      "Split: 2\n",
      "Split: 3\n",
      "Split: 4\n",
      "Split: 5\n",
      "Split: 6\n",
      "Split: 7\n",
      "Split: 8\n",
      "Split: 9\n",
      "Split: 10\n",
      "Training Testing Accuracy for n_games=1 team=18 : 53.33% (16.50%)\n",
      "Accuracy for Team Models for n_games= 1 : 60.82% (5.37%)\n",
      "(184, 386)\n",
      "(184, 1)\n",
      "X_train shape: (165, 695)\n",
      "X_test shape: (19, 695)\n",
      "Fitting 10 folds for each of 12 candidates, totalling 120 fits\n"
     ]
    },
    {
     "name": "stderr",
     "output_type": "stream",
     "text": [
      "[Parallel(n_jobs=1)]: Using backend SequentialBackend with 1 concurrent workers.\n",
      "[Parallel(n_jobs=1)]: Done 120 out of 120 | elapsed:   12.3s finished\n"
     ]
    },
    {
     "name": "stdout",
     "output_type": "stream",
     "text": [
      "best score: 0.6121212121212121\n",
      "Fitting 10 folds for each of 12 candidates, totalling 120 fits\n"
     ]
    },
    {
     "name": "stderr",
     "output_type": "stream",
     "text": [
      "[Parallel(n_jobs=1)]: Using backend SequentialBackend with 1 concurrent workers.\n",
      "[Parallel(n_jobs=1)]: Done 120 out of 120 | elapsed:   32.0s finished\n"
     ]
    },
    {
     "name": "stdout",
     "output_type": "stream",
     "text": [
      "best score: 0.6121212121212121\n",
      "Fitting 10 folds for each of 12 candidates, totalling 120 fits\n"
     ]
    },
    {
     "name": "stderr",
     "output_type": "stream",
     "text": [
      "[Parallel(n_jobs=1)]: Using backend SequentialBackend with 1 concurrent workers.\n",
      "[Parallel(n_jobs=1)]: Done 120 out of 120 | elapsed:   11.6s finished\n"
     ]
    },
    {
     "name": "stdout",
     "output_type": "stream",
     "text": [
      "best score: 0.6121212121212121\n",
      "Fitting 10 folds for each of 12 candidates, totalling 120 fits\n"
     ]
    },
    {
     "name": "stderr",
     "output_type": "stream",
     "text": [
      "[Parallel(n_jobs=1)]: Using backend SequentialBackend with 1 concurrent workers.\n",
      "[Parallel(n_jobs=1)]: Done 120 out of 120 | elapsed:    8.9s finished\n"
     ]
    },
    {
     "name": "stdout",
     "output_type": "stream",
     "text": [
      "best score: 0.6121212121212121\n",
      "Fitting 10 folds for each of 12 candidates, totalling 120 fits\n"
     ]
    },
    {
     "name": "stderr",
     "output_type": "stream",
     "text": [
      "[Parallel(n_jobs=1)]: Using backend SequentialBackend with 1 concurrent workers.\n",
      "[Parallel(n_jobs=1)]: Done 120 out of 120 | elapsed:   19.9s finished\n"
     ]
    },
    {
     "name": "stdout",
     "output_type": "stream",
     "text": [
      "best score: 0.6121212121212121\n",
      "Split: 1\n",
      "Split: 2\n",
      "Split: 3\n",
      "Split: 4\n",
      "Split: 5\n",
      "Split: 6\n",
      "Split: 7\n",
      "Split: 8\n",
      "Split: 9\n",
      "Split: 10\n",
      "Training Testing Accuracy for n_games=2 team=1 : 54.42% (3.32%)\n",
      "(182, 386)\n",
      "(182, 1)\n",
      "X_train shape: (163, 685)\n",
      "X_test shape: (19, 685)\n",
      "Fitting 10 folds for each of 12 candidates, totalling 120 fits\n"
     ]
    },
    {
     "name": "stderr",
     "output_type": "stream",
     "text": [
      "[Parallel(n_jobs=1)]: Using backend SequentialBackend with 1 concurrent workers.\n",
      "[Parallel(n_jobs=1)]: Done 120 out of 120 | elapsed:   13.7s finished\n"
     ]
    },
    {
     "name": "stdout",
     "output_type": "stream",
     "text": [
      "best score: 0.6134969325153374\n",
      "Fitting 10 folds for each of 12 candidates, totalling 120 fits\n"
     ]
    },
    {
     "name": "stderr",
     "output_type": "stream",
     "text": [
      "[Parallel(n_jobs=1)]: Using backend SequentialBackend with 1 concurrent workers.\n",
      "[Parallel(n_jobs=1)]: Done 120 out of 120 | elapsed:    9.9s finished\n"
     ]
    },
    {
     "name": "stdout",
     "output_type": "stream",
     "text": [
      "best score: 0.6134969325153374\n",
      "Fitting 10 folds for each of 12 candidates, totalling 120 fits\n"
     ]
    },
    {
     "name": "stderr",
     "output_type": "stream",
     "text": [
      "[Parallel(n_jobs=1)]: Using backend SequentialBackend with 1 concurrent workers.\n",
      "[Parallel(n_jobs=1)]: Done 120 out of 120 | elapsed:    9.1s finished\n"
     ]
    },
    {
     "name": "stdout",
     "output_type": "stream",
     "text": [
      "best score: 0.6134969325153374\n",
      "Fitting 10 folds for each of 12 candidates, totalling 120 fits\n"
     ]
    },
    {
     "name": "stderr",
     "output_type": "stream",
     "text": [
      "[Parallel(n_jobs=1)]: Using backend SequentialBackend with 1 concurrent workers.\n",
      "[Parallel(n_jobs=1)]: Done 120 out of 120 | elapsed:    9.8s finished\n"
     ]
    },
    {
     "name": "stdout",
     "output_type": "stream",
     "text": [
      "best score: 0.6257668711656442\n",
      "Fitting 10 folds for each of 12 candidates, totalling 120 fits\n"
     ]
    },
    {
     "name": "stderr",
     "output_type": "stream",
     "text": [
      "[Parallel(n_jobs=1)]: Using backend SequentialBackend with 1 concurrent workers.\n",
      "[Parallel(n_jobs=1)]: Done 120 out of 120 | elapsed:   16.9s finished\n"
     ]
    },
    {
     "name": "stdout",
     "output_type": "stream",
     "text": [
      "best score: 0.6625766871165644\n",
      "Split: 1\n",
      "Split: 2\n",
      "Split: 3\n",
      "Split: 4\n",
      "Split: 5\n",
      "Split: 6\n",
      "Split: 7\n",
      "Split: 8\n",
      "Split: 9\n",
      "Split: 10\n",
      "Training Testing Accuracy for n_games=2 team=2 : 67.54% (5.40%)\n",
      "(180, 386)\n",
      "(180, 1)\n",
      "X_train shape: (162, 683)\n",
      "X_test shape: (18, 683)\n",
      "Fitting 10 folds for each of 12 candidates, totalling 120 fits\n"
     ]
    },
    {
     "name": "stderr",
     "output_type": "stream",
     "text": [
      "[Parallel(n_jobs=1)]: Using backend SequentialBackend with 1 concurrent workers.\n",
      "[Parallel(n_jobs=1)]: Done 120 out of 120 | elapsed:   11.5s finished\n"
     ]
    },
    {
     "name": "stdout",
     "output_type": "stream",
     "text": [
      "best score: 0.6851851851851852\n",
      "Fitting 10 folds for each of 12 candidates, totalling 120 fits\n"
     ]
    },
    {
     "name": "stderr",
     "output_type": "stream",
     "text": [
      "[Parallel(n_jobs=1)]: Using backend SequentialBackend with 1 concurrent workers.\n",
      "[Parallel(n_jobs=1)]: Done 120 out of 120 | elapsed:   11.0s finished\n"
     ]
    },
    {
     "name": "stdout",
     "output_type": "stream",
     "text": [
      "best score: 0.6851851851851852\n",
      "Fitting 10 folds for each of 12 candidates, totalling 120 fits\n"
     ]
    },
    {
     "name": "stderr",
     "output_type": "stream",
     "text": [
      "[Parallel(n_jobs=1)]: Using backend SequentialBackend with 1 concurrent workers.\n",
      "[Parallel(n_jobs=1)]: Done 120 out of 120 | elapsed:    8.1s finished\n"
     ]
    },
    {
     "name": "stdout",
     "output_type": "stream",
     "text": [
      "best score: 0.6851851851851852\n",
      "Fitting 10 folds for each of 12 candidates, totalling 120 fits\n"
     ]
    },
    {
     "name": "stderr",
     "output_type": "stream",
     "text": [
      "[Parallel(n_jobs=1)]: Using backend SequentialBackend with 1 concurrent workers.\n",
      "[Parallel(n_jobs=1)]: Done 120 out of 120 | elapsed:   10.0s finished\n"
     ]
    },
    {
     "name": "stdout",
     "output_type": "stream",
     "text": [
      "best score: 0.6851851851851852\n",
      "Fitting 10 folds for each of 12 candidates, totalling 120 fits\n"
     ]
    },
    {
     "name": "stderr",
     "output_type": "stream",
     "text": [
      "[Parallel(n_jobs=1)]: Using backend SequentialBackend with 1 concurrent workers.\n",
      "[Parallel(n_jobs=1)]: Done 120 out of 120 | elapsed:    9.4s finished\n"
     ]
    },
    {
     "name": "stdout",
     "output_type": "stream",
     "text": [
      "best score: 0.6851851851851852\n",
      "Split: 1\n",
      "Split: 2\n",
      "Split: 3\n",
      "Split: 4\n",
      "Split: 5\n",
      "Split: 6\n",
      "Split: 7\n",
      "Split: 8\n",
      "Split: 9\n",
      "Split: 10\n",
      "Training Testing Accuracy for n_games=2 team=3 : 68.33% (2.55%)\n",
      "(185, 386)\n",
      "(185, 1)\n",
      "X_train shape: (166, 687)\n",
      "X_test shape: (19, 687)\n",
      "Fitting 10 folds for each of 12 candidates, totalling 120 fits\n"
     ]
    },
    {
     "name": "stderr",
     "output_type": "stream",
     "text": [
      "[Parallel(n_jobs=1)]: Using backend SequentialBackend with 1 concurrent workers.\n",
      "[Parallel(n_jobs=1)]: Done 120 out of 120 | elapsed:   12.1s finished\n"
     ]
    },
    {
     "name": "stdout",
     "output_type": "stream",
     "text": [
      "best score: 0.6024096385542169\n",
      "Fitting 10 folds for each of 12 candidates, totalling 120 fits\n"
     ]
    },
    {
     "name": "stderr",
     "output_type": "stream",
     "text": [
      "[Parallel(n_jobs=1)]: Using backend SequentialBackend with 1 concurrent workers.\n",
      "[Parallel(n_jobs=1)]: Done 120 out of 120 | elapsed:   17.3s finished\n"
     ]
    },
    {
     "name": "stdout",
     "output_type": "stream",
     "text": [
      "best score: 0.6024096385542169\n",
      "Fitting 10 folds for each of 12 candidates, totalling 120 fits\n"
     ]
    },
    {
     "name": "stderr",
     "output_type": "stream",
     "text": [
      "[Parallel(n_jobs=1)]: Using backend SequentialBackend with 1 concurrent workers.\n",
      "[Parallel(n_jobs=1)]: Done 120 out of 120 | elapsed:   12.2s finished\n"
     ]
    },
    {
     "name": "stdout",
     "output_type": "stream",
     "text": [
      "best score: 0.6024096385542169\n",
      "Fitting 10 folds for each of 12 candidates, totalling 120 fits\n"
     ]
    },
    {
     "name": "stderr",
     "output_type": "stream",
     "text": [
      "[Parallel(n_jobs=1)]: Using backend SequentialBackend with 1 concurrent workers.\n",
      "[Parallel(n_jobs=1)]: Done 120 out of 120 | elapsed:   11.3s finished\n"
     ]
    },
    {
     "name": "stdout",
     "output_type": "stream",
     "text": [
      "best score: 0.6024096385542169\n",
      "Fitting 10 folds for each of 12 candidates, totalling 120 fits\n"
     ]
    },
    {
     "name": "stderr",
     "output_type": "stream",
     "text": [
      "[Parallel(n_jobs=1)]: Using backend SequentialBackend with 1 concurrent workers.\n",
      "[Parallel(n_jobs=1)]: Done 120 out of 120 | elapsed:   15.1s finished\n"
     ]
    },
    {
     "name": "stdout",
     "output_type": "stream",
     "text": [
      "best score: 0.6024096385542169\n",
      "Split: 1\n",
      "Split: 2\n",
      "Split: 3\n",
      "Split: 4\n",
      "Split: 5\n",
      "Split: 6\n",
      "Split: 7\n",
      "Split: 8\n",
      "Split: 9\n",
      "Split: 10\n",
      "Training Testing Accuracy for n_games=2 team=4 : 56.73% (7.86%)\n",
      "(182, 386)\n",
      "(182, 1)\n",
      "X_train shape: (163, 683)\n",
      "X_test shape: (19, 683)\n",
      "Fitting 10 folds for each of 12 candidates, totalling 120 fits\n"
     ]
    },
    {
     "name": "stderr",
     "output_type": "stream",
     "text": [
      "[Parallel(n_jobs=1)]: Using backend SequentialBackend with 1 concurrent workers.\n",
      "[Parallel(n_jobs=1)]: Done 120 out of 120 | elapsed:   11.9s finished\n"
     ]
    },
    {
     "name": "stdout",
     "output_type": "stream",
     "text": [
      "best score: 0.5521472392638037\n",
      "Fitting 10 folds for each of 12 candidates, totalling 120 fits\n"
     ]
    },
    {
     "name": "stderr",
     "output_type": "stream",
     "text": [
      "[Parallel(n_jobs=1)]: Using backend SequentialBackend with 1 concurrent workers.\n",
      "[Parallel(n_jobs=1)]: Done 120 out of 120 | elapsed:   10.6s finished\n"
     ]
    },
    {
     "name": "stdout",
     "output_type": "stream",
     "text": [
      "best score: 0.5521472392638037\n",
      "Fitting 10 folds for each of 12 candidates, totalling 120 fits\n"
     ]
    },
    {
     "name": "stderr",
     "output_type": "stream",
     "text": [
      "[Parallel(n_jobs=1)]: Using backend SequentialBackend with 1 concurrent workers.\n",
      "[Parallel(n_jobs=1)]: Done 120 out of 120 | elapsed:   25.9s finished\n"
     ]
    },
    {
     "name": "stdout",
     "output_type": "stream",
     "text": [
      "best score: 0.5521472392638037\n",
      "Fitting 10 folds for each of 12 candidates, totalling 120 fits\n"
     ]
    },
    {
     "name": "stderr",
     "output_type": "stream",
     "text": [
      "[Parallel(n_jobs=1)]: Using backend SequentialBackend with 1 concurrent workers.\n",
      "[Parallel(n_jobs=1)]: Done 120 out of 120 | elapsed:    8.0s finished\n"
     ]
    },
    {
     "name": "stdout",
     "output_type": "stream",
     "text": [
      "best score: 0.5521472392638037\n",
      "Fitting 10 folds for each of 12 candidates, totalling 120 fits\n"
     ]
    },
    {
     "name": "stderr",
     "output_type": "stream",
     "text": [
      "[Parallel(n_jobs=1)]: Using backend SequentialBackend with 1 concurrent workers.\n",
      "[Parallel(n_jobs=1)]: Done 120 out of 120 | elapsed:    7.6s finished\n"
     ]
    },
    {
     "name": "stdout",
     "output_type": "stream",
     "text": [
      "best score: 0.5521472392638037\n",
      "Split: 1\n",
      "Split: 2\n",
      "Split: 3\n",
      "Split: 4\n",
      "Split: 5\n",
      "Split: 6\n",
      "Split: 7\n",
      "Split: 8\n",
      "Split: 9\n",
      "Split: 10\n",
      "Training Testing Accuracy for n_games=2 team=5 : 55.50% (1.18%)\n",
      "(185, 386)\n",
      "(185, 1)\n",
      "X_train shape: (166, 693)\n",
      "X_test shape: (19, 693)\n",
      "Fitting 10 folds for each of 12 candidates, totalling 120 fits\n"
     ]
    },
    {
     "name": "stderr",
     "output_type": "stream",
     "text": [
      "[Parallel(n_jobs=1)]: Using backend SequentialBackend with 1 concurrent workers.\n",
      "[Parallel(n_jobs=1)]: Done 120 out of 120 | elapsed:   12.3s finished\n"
     ]
    },
    {
     "name": "stdout",
     "output_type": "stream",
     "text": [
      "best score: 0.6445783132530121\n",
      "Fitting 10 folds for each of 12 candidates, totalling 120 fits\n"
     ]
    },
    {
     "name": "stderr",
     "output_type": "stream",
     "text": [
      "[Parallel(n_jobs=1)]: Using backend SequentialBackend with 1 concurrent workers.\n",
      "[Parallel(n_jobs=1)]: Done 120 out of 120 | elapsed:    9.3s finished\n"
     ]
    },
    {
     "name": "stdout",
     "output_type": "stream",
     "text": [
      "best score: 0.6445783132530121\n",
      "Fitting 10 folds for each of 12 candidates, totalling 120 fits\n"
     ]
    },
    {
     "name": "stderr",
     "output_type": "stream",
     "text": [
      "[Parallel(n_jobs=1)]: Using backend SequentialBackend with 1 concurrent workers.\n",
      "[Parallel(n_jobs=1)]: Done 120 out of 120 | elapsed:    9.8s finished\n"
     ]
    },
    {
     "name": "stdout",
     "output_type": "stream",
     "text": [
      "best score: 0.6445783132530121\n",
      "Fitting 10 folds for each of 12 candidates, totalling 120 fits\n"
     ]
    },
    {
     "name": "stderr",
     "output_type": "stream",
     "text": [
      "[Parallel(n_jobs=1)]: Using backend SequentialBackend with 1 concurrent workers.\n",
      "[Parallel(n_jobs=1)]: Done 120 out of 120 | elapsed:   13.0s finished\n"
     ]
    },
    {
     "name": "stdout",
     "output_type": "stream",
     "text": [
      "best score: 0.6566265060240963\n",
      "Fitting 10 folds for each of 12 candidates, totalling 120 fits\n"
     ]
    },
    {
     "name": "stderr",
     "output_type": "stream",
     "text": [
      "[Parallel(n_jobs=1)]: Using backend SequentialBackend with 1 concurrent workers.\n",
      "[Parallel(n_jobs=1)]: Done 120 out of 120 | elapsed:   15.5s finished\n"
     ]
    },
    {
     "name": "stdout",
     "output_type": "stream",
     "text": [
      "best score: 0.6566265060240963\n",
      "Split: 1\n",
      "Split: 2\n",
      "Split: 3\n",
      "Split: 4\n",
      "Split: 5\n",
      "Split: 6\n",
      "Split: 7\n",
      "Split: 8\n",
      "Split: 9\n",
      "Split: 10\n",
      "Training Testing Accuracy for n_games=2 team=6 : 64.33% (11.34%)\n",
      "(194, 386)\n",
      "(194, 1)\n",
      "X_train shape: (174, 688)\n",
      "X_test shape: (20, 688)\n",
      "Fitting 10 folds for each of 12 candidates, totalling 120 fits\n"
     ]
    },
    {
     "name": "stderr",
     "output_type": "stream",
     "text": [
      "[Parallel(n_jobs=1)]: Using backend SequentialBackend with 1 concurrent workers.\n",
      "[Parallel(n_jobs=1)]: Done 120 out of 120 | elapsed:   12.2s finished\n"
     ]
    },
    {
     "name": "stdout",
     "output_type": "stream",
     "text": [
      "best score: 0.6724137931034483\n",
      "Fitting 10 folds for each of 12 candidates, totalling 120 fits\n"
     ]
    },
    {
     "name": "stderr",
     "output_type": "stream",
     "text": [
      "[Parallel(n_jobs=1)]: Using backend SequentialBackend with 1 concurrent workers.\n",
      "[Parallel(n_jobs=1)]: Done 120 out of 120 | elapsed:    7.9s finished\n"
     ]
    },
    {
     "name": "stdout",
     "output_type": "stream",
     "text": [
      "best score: 0.6724137931034483\n",
      "Fitting 10 folds for each of 12 candidates, totalling 120 fits\n"
     ]
    },
    {
     "name": "stderr",
     "output_type": "stream",
     "text": [
      "[Parallel(n_jobs=1)]: Using backend SequentialBackend with 1 concurrent workers.\n",
      "[Parallel(n_jobs=1)]: Done 120 out of 120 | elapsed:    8.5s finished\n"
     ]
    },
    {
     "name": "stdout",
     "output_type": "stream",
     "text": [
      "best score: 0.6724137931034483\n",
      "Fitting 10 folds for each of 12 candidates, totalling 120 fits\n"
     ]
    },
    {
     "name": "stderr",
     "output_type": "stream",
     "text": [
      "[Parallel(n_jobs=1)]: Using backend SequentialBackend with 1 concurrent workers.\n",
      "[Parallel(n_jobs=1)]: Done 120 out of 120 | elapsed:    9.8s finished\n"
     ]
    },
    {
     "name": "stdout",
     "output_type": "stream",
     "text": [
      "best score: 0.6724137931034483\n",
      "Fitting 10 folds for each of 12 candidates, totalling 120 fits\n"
     ]
    },
    {
     "name": "stderr",
     "output_type": "stream",
     "text": [
      "[Parallel(n_jobs=1)]: Using backend SequentialBackend with 1 concurrent workers.\n",
      "[Parallel(n_jobs=1)]: Done 120 out of 120 | elapsed:    8.3s finished\n"
     ]
    },
    {
     "name": "stdout",
     "output_type": "stream",
     "text": [
      "best score: 0.6724137931034483\n",
      "Split: 1\n",
      "Split: 2\n",
      "Split: 3\n",
      "Split: 4\n",
      "Split: 5\n",
      "Split: 6\n",
      "Split: 7\n",
      "Split: 8\n",
      "Split: 9\n",
      "Split: 10\n",
      "Training Testing Accuracy for n_games=2 team=7 : 66.53% (1.97%)\n",
      "(178, 386)\n",
      "(178, 1)\n",
      "X_train shape: (160, 685)\n",
      "X_test shape: (18, 685)\n",
      "Fitting 10 folds for each of 12 candidates, totalling 120 fits\n"
     ]
    },
    {
     "name": "stderr",
     "output_type": "stream",
     "text": [
      "[Parallel(n_jobs=1)]: Using backend SequentialBackend with 1 concurrent workers.\n",
      "[Parallel(n_jobs=1)]: Done 120 out of 120 | elapsed:   11.4s finished\n"
     ]
    },
    {
     "name": "stdout",
     "output_type": "stream",
     "text": [
      "best score: 0.74375\n",
      "Fitting 10 folds for each of 12 candidates, totalling 120 fits\n"
     ]
    },
    {
     "name": "stderr",
     "output_type": "stream",
     "text": [
      "[Parallel(n_jobs=1)]: Using backend SequentialBackend with 1 concurrent workers.\n",
      "[Parallel(n_jobs=1)]: Done 120 out of 120 | elapsed:   21.0s finished\n"
     ]
    },
    {
     "name": "stdout",
     "output_type": "stream",
     "text": [
      "best score: 0.74375\n",
      "Fitting 10 folds for each of 12 candidates, totalling 120 fits\n"
     ]
    },
    {
     "name": "stderr",
     "output_type": "stream",
     "text": [
      "[Parallel(n_jobs=1)]: Using backend SequentialBackend with 1 concurrent workers.\n",
      "[Parallel(n_jobs=1)]: Done 120 out of 120 | elapsed:    9.5s finished\n"
     ]
    },
    {
     "name": "stdout",
     "output_type": "stream",
     "text": [
      "best score: 0.74375\n",
      "Fitting 10 folds for each of 12 candidates, totalling 120 fits\n"
     ]
    },
    {
     "name": "stderr",
     "output_type": "stream",
     "text": [
      "[Parallel(n_jobs=1)]: Using backend SequentialBackend with 1 concurrent workers.\n",
      "[Parallel(n_jobs=1)]: Done 120 out of 120 | elapsed:   10.1s finished\n"
     ]
    },
    {
     "name": "stdout",
     "output_type": "stream",
     "text": [
      "best score: 0.74375\n",
      "Fitting 10 folds for each of 12 candidates, totalling 120 fits\n"
     ]
    },
    {
     "name": "stderr",
     "output_type": "stream",
     "text": [
      "[Parallel(n_jobs=1)]: Using backend SequentialBackend with 1 concurrent workers.\n",
      "[Parallel(n_jobs=1)]: Done 120 out of 120 | elapsed:    7.3s finished\n"
     ]
    },
    {
     "name": "stdout",
     "output_type": "stream",
     "text": [
      "best score: 0.74375\n",
      "Split: 1\n",
      "Split: 2\n",
      "Split: 3\n",
      "Split: 4\n",
      "Split: 5\n",
      "Split: 6\n",
      "Split: 7\n",
      "Split: 8\n",
      "Split: 9\n",
      "Split: 10\n",
      "Training Testing Accuracy for n_games=2 team=8 : 71.86% (2.98%)\n",
      "(191, 386)\n",
      "(191, 1)\n",
      "X_train shape: (171, 698)\n",
      "X_test shape: (20, 698)\n",
      "Fitting 10 folds for each of 12 candidates, totalling 120 fits\n"
     ]
    },
    {
     "name": "stderr",
     "output_type": "stream",
     "text": [
      "[Parallel(n_jobs=1)]: Using backend SequentialBackend with 1 concurrent workers.\n",
      "[Parallel(n_jobs=1)]: Done 120 out of 120 | elapsed:   12.0s finished\n"
     ]
    },
    {
     "name": "stdout",
     "output_type": "stream",
     "text": [
      "best score: 0.5906432748538012\n",
      "Fitting 10 folds for each of 12 candidates, totalling 120 fits\n"
     ]
    },
    {
     "name": "stderr",
     "output_type": "stream",
     "text": [
      "[Parallel(n_jobs=1)]: Using backend SequentialBackend with 1 concurrent workers.\n",
      "[Parallel(n_jobs=1)]: Done 120 out of 120 | elapsed:   10.6s finished\n"
     ]
    },
    {
     "name": "stdout",
     "output_type": "stream",
     "text": [
      "best score: 0.5906432748538012\n",
      "Fitting 10 folds for each of 12 candidates, totalling 120 fits\n"
     ]
    },
    {
     "name": "stderr",
     "output_type": "stream",
     "text": [
      "[Parallel(n_jobs=1)]: Using backend SequentialBackend with 1 concurrent workers.\n",
      "[Parallel(n_jobs=1)]: Done 120 out of 120 | elapsed:   15.1s finished\n"
     ]
    },
    {
     "name": "stdout",
     "output_type": "stream",
     "text": [
      "best score: 0.631578947368421\n",
      "Fitting 10 folds for each of 12 candidates, totalling 120 fits\n"
     ]
    },
    {
     "name": "stderr",
     "output_type": "stream",
     "text": [
      "[Parallel(n_jobs=1)]: Using backend SequentialBackend with 1 concurrent workers.\n",
      "[Parallel(n_jobs=1)]: Done 120 out of 120 | elapsed:   21.1s finished\n"
     ]
    },
    {
     "name": "stdout",
     "output_type": "stream",
     "text": [
      "best score: 0.6374269005847953\n",
      "Fitting 10 folds for each of 12 candidates, totalling 120 fits\n"
     ]
    },
    {
     "name": "stderr",
     "output_type": "stream",
     "text": [
      "[Parallel(n_jobs=1)]: Using backend SequentialBackend with 1 concurrent workers.\n",
      "[Parallel(n_jobs=1)]: Done 120 out of 120 | elapsed:   18.3s finished\n"
     ]
    },
    {
     "name": "stdout",
     "output_type": "stream",
     "text": [
      "best score: 0.6374269005847953\n",
      "Split: 1\n",
      "Split: 2\n",
      "Split: 3\n",
      "Split: 4\n",
      "Split: 5\n",
      "Split: 6\n",
      "Split: 7\n",
      "Split: 8\n",
      "Split: 9\n",
      "Split: 10\n",
      "Training Testing Accuracy for n_games=2 team=9 : 59.24% (8.86%)\n",
      "(192, 386)\n",
      "(192, 1)\n",
      "X_train shape: (172, 689)\n",
      "X_test shape: (20, 689)\n",
      "Fitting 10 folds for each of 12 candidates, totalling 120 fits\n"
     ]
    },
    {
     "name": "stderr",
     "output_type": "stream",
     "text": [
      "[Parallel(n_jobs=1)]: Using backend SequentialBackend with 1 concurrent workers.\n",
      "[Parallel(n_jobs=1)]: Done 120 out of 120 | elapsed:   11.8s finished\n"
     ]
    },
    {
     "name": "stdout",
     "output_type": "stream",
     "text": [
      "best score: 0.6918604651162791\n",
      "Fitting 10 folds for each of 12 candidates, totalling 120 fits\n"
     ]
    },
    {
     "name": "stderr",
     "output_type": "stream",
     "text": [
      "[Parallel(n_jobs=1)]: Using backend SequentialBackend with 1 concurrent workers.\n",
      "[Parallel(n_jobs=1)]: Done 120 out of 120 | elapsed:   30.4s finished\n"
     ]
    },
    {
     "name": "stdout",
     "output_type": "stream",
     "text": [
      "best score: 0.6918604651162791\n",
      "Fitting 10 folds for each of 12 candidates, totalling 120 fits\n"
     ]
    },
    {
     "name": "stderr",
     "output_type": "stream",
     "text": [
      "[Parallel(n_jobs=1)]: Using backend SequentialBackend with 1 concurrent workers.\n",
      "[Parallel(n_jobs=1)]: Done 120 out of 120 | elapsed:   10.2s finished\n"
     ]
    },
    {
     "name": "stdout",
     "output_type": "stream",
     "text": [
      "best score: 0.6918604651162791\n",
      "Fitting 10 folds for each of 12 candidates, totalling 120 fits\n"
     ]
    },
    {
     "name": "stderr",
     "output_type": "stream",
     "text": [
      "[Parallel(n_jobs=1)]: Using backend SequentialBackend with 1 concurrent workers.\n",
      "[Parallel(n_jobs=1)]: Done 120 out of 120 | elapsed:   11.0s finished\n"
     ]
    },
    {
     "name": "stdout",
     "output_type": "stream",
     "text": [
      "best score: 0.6918604651162791\n",
      "Fitting 10 folds for each of 12 candidates, totalling 120 fits\n"
     ]
    },
    {
     "name": "stderr",
     "output_type": "stream",
     "text": [
      "[Parallel(n_jobs=1)]: Using backend SequentialBackend with 1 concurrent workers.\n",
      "[Parallel(n_jobs=1)]: Done 120 out of 120 | elapsed:   12.8s finished\n"
     ]
    },
    {
     "name": "stdout",
     "output_type": "stream",
     "text": [
      "best score: 0.7267441860465116\n",
      "Split: 1\n",
      "Split: 2\n",
      "Split: 3\n",
      "Split: 4\n",
      "Split: 5\n",
      "Split: 6\n",
      "Split: 7\n",
      "Split: 8\n",
      "Split: 9\n",
      "Split: 10\n",
      "Training Testing Accuracy for n_games=2 team=10 : 66.63% (10.29%)\n",
      "(184, 386)\n",
      "(184, 1)\n",
      "X_train shape: (165, 691)\n",
      "X_test shape: (19, 691)\n",
      "Fitting 10 folds for each of 12 candidates, totalling 120 fits\n"
     ]
    },
    {
     "name": "stderr",
     "output_type": "stream",
     "text": [
      "[Parallel(n_jobs=1)]: Using backend SequentialBackend with 1 concurrent workers.\n",
      "[Parallel(n_jobs=1)]: Done 120 out of 120 | elapsed:   12.1s finished\n"
     ]
    },
    {
     "name": "stdout",
     "output_type": "stream",
     "text": [
      "best score: 0.5636363636363636\n",
      "Fitting 10 folds for each of 12 candidates, totalling 120 fits\n"
     ]
    },
    {
     "name": "stderr",
     "output_type": "stream",
     "text": [
      "[Parallel(n_jobs=1)]: Using backend SequentialBackend with 1 concurrent workers.\n",
      "[Parallel(n_jobs=1)]: Done 120 out of 120 | elapsed:   11.3s finished\n"
     ]
    },
    {
     "name": "stdout",
     "output_type": "stream",
     "text": [
      "best score: 0.5636363636363636\n",
      "Fitting 10 folds for each of 12 candidates, totalling 120 fits\n"
     ]
    },
    {
     "name": "stderr",
     "output_type": "stream",
     "text": [
      "[Parallel(n_jobs=1)]: Using backend SequentialBackend with 1 concurrent workers.\n",
      "[Parallel(n_jobs=1)]: Done 120 out of 120 | elapsed:    9.5s finished\n"
     ]
    },
    {
     "name": "stdout",
     "output_type": "stream",
     "text": [
      "best score: 0.5636363636363636\n",
      "Fitting 10 folds for each of 12 candidates, totalling 120 fits\n"
     ]
    },
    {
     "name": "stderr",
     "output_type": "stream",
     "text": [
      "[Parallel(n_jobs=1)]: Using backend SequentialBackend with 1 concurrent workers.\n",
      "[Parallel(n_jobs=1)]: Done 120 out of 120 | elapsed:    9.6s finished\n"
     ]
    },
    {
     "name": "stdout",
     "output_type": "stream",
     "text": [
      "best score: 0.5636363636363636\n",
      "Fitting 10 folds for each of 12 candidates, totalling 120 fits\n"
     ]
    },
    {
     "name": "stderr",
     "output_type": "stream",
     "text": [
      "[Parallel(n_jobs=1)]: Using backend SequentialBackend with 1 concurrent workers.\n",
      "[Parallel(n_jobs=1)]: Done 120 out of 120 | elapsed:   10.2s finished\n"
     ]
    },
    {
     "name": "stdout",
     "output_type": "stream",
     "text": [
      "best score: 0.5636363636363636\n",
      "Split: 1\n",
      "Split: 2\n",
      "Split: 3\n",
      "Split: 4\n",
      "Split: 5\n",
      "Split: 6\n",
      "Split: 7\n",
      "Split: 8\n",
      "Split: 9\n",
      "Split: 10\n",
      "Training Testing Accuracy for n_games=2 team=11 : 55.96% (1.53%)\n",
      "(185, 386)\n",
      "(185, 1)\n",
      "X_train shape: (166, 686)\n",
      "X_test shape: (19, 686)\n",
      "Fitting 10 folds for each of 12 candidates, totalling 120 fits\n"
     ]
    },
    {
     "name": "stderr",
     "output_type": "stream",
     "text": [
      "[Parallel(n_jobs=1)]: Using backend SequentialBackend with 1 concurrent workers.\n",
      "[Parallel(n_jobs=1)]: Done 120 out of 120 | elapsed:   12.2s finished\n"
     ]
    },
    {
     "name": "stdout",
     "output_type": "stream",
     "text": [
      "best score: 0.5602409638554217\n",
      "Fitting 10 folds for each of 12 candidates, totalling 120 fits\n"
     ]
    },
    {
     "name": "stderr",
     "output_type": "stream",
     "text": [
      "[Parallel(n_jobs=1)]: Using backend SequentialBackend with 1 concurrent workers.\n",
      "[Parallel(n_jobs=1)]: Done 120 out of 120 | elapsed:    8.9s finished\n"
     ]
    },
    {
     "name": "stdout",
     "output_type": "stream",
     "text": [
      "best score: 0.5602409638554217\n",
      "Fitting 10 folds for each of 12 candidates, totalling 120 fits\n"
     ]
    },
    {
     "name": "stderr",
     "output_type": "stream",
     "text": [
      "[Parallel(n_jobs=1)]: Using backend SequentialBackend with 1 concurrent workers.\n",
      "[Parallel(n_jobs=1)]: Done 120 out of 120 | elapsed:    9.4s finished\n"
     ]
    },
    {
     "name": "stdout",
     "output_type": "stream",
     "text": [
      "best score: 0.5602409638554217\n",
      "Fitting 10 folds for each of 12 candidates, totalling 120 fits\n"
     ]
    },
    {
     "name": "stderr",
     "output_type": "stream",
     "text": [
      "[Parallel(n_jobs=1)]: Using backend SequentialBackend with 1 concurrent workers.\n",
      "[Parallel(n_jobs=1)]: Done 120 out of 120 | elapsed:    9.1s finished\n"
     ]
    },
    {
     "name": "stdout",
     "output_type": "stream",
     "text": [
      "best score: 0.5662650602409639\n",
      "Fitting 10 folds for each of 12 candidates, totalling 120 fits\n"
     ]
    },
    {
     "name": "stderr",
     "output_type": "stream",
     "text": [
      "[Parallel(n_jobs=1)]: Using backend SequentialBackend with 1 concurrent workers.\n",
      "[Parallel(n_jobs=1)]: Done 120 out of 120 | elapsed:    8.5s finished\n"
     ]
    },
    {
     "name": "stdout",
     "output_type": "stream",
     "text": [
      "best score: 0.572289156626506\n",
      "Split: 1\n",
      "Split: 2\n",
      "Split: 3\n",
      "Split: 4\n",
      "Split: 5\n",
      "Split: 6\n",
      "Split: 7\n",
      "Split: 8\n",
      "Split: 9\n",
      "Split: 10\n",
      "Training Testing Accuracy for n_games=2 team=12 : 51.96% (16.20%)\n",
      "(186, 386)\n",
      "(186, 1)\n",
      "X_train shape: (167, 695)\n",
      "X_test shape: (19, 695)\n",
      "Fitting 10 folds for each of 12 candidates, totalling 120 fits\n"
     ]
    },
    {
     "name": "stderr",
     "output_type": "stream",
     "text": [
      "[Parallel(n_jobs=1)]: Using backend SequentialBackend with 1 concurrent workers.\n",
      "[Parallel(n_jobs=1)]: Done 120 out of 120 | elapsed:   12.1s finished\n"
     ]
    },
    {
     "name": "stdout",
     "output_type": "stream",
     "text": [
      "best score: 0.5988023952095808\n",
      "Fitting 10 folds for each of 12 candidates, totalling 120 fits\n"
     ]
    },
    {
     "name": "stderr",
     "output_type": "stream",
     "text": [
      "[Parallel(n_jobs=1)]: Using backend SequentialBackend with 1 concurrent workers.\n",
      "[Parallel(n_jobs=1)]: Done 120 out of 120 | elapsed:   16.7s finished\n"
     ]
    },
    {
     "name": "stdout",
     "output_type": "stream",
     "text": [
      "best score: 0.6167664670658682\n",
      "Fitting 10 folds for each of 12 candidates, totalling 120 fits\n"
     ]
    },
    {
     "name": "stderr",
     "output_type": "stream",
     "text": [
      "[Parallel(n_jobs=1)]: Using backend SequentialBackend with 1 concurrent workers.\n",
      "[Parallel(n_jobs=1)]: Done 120 out of 120 | elapsed:   12.5s finished\n"
     ]
    },
    {
     "name": "stdout",
     "output_type": "stream",
     "text": [
      "best score: 0.6167664670658682\n",
      "Fitting 10 folds for each of 12 candidates, totalling 120 fits\n"
     ]
    },
    {
     "name": "stderr",
     "output_type": "stream",
     "text": [
      "[Parallel(n_jobs=1)]: Using backend SequentialBackend with 1 concurrent workers.\n",
      "[Parallel(n_jobs=1)]: Done 120 out of 120 | elapsed:   12.3s finished\n"
     ]
    },
    {
     "name": "stdout",
     "output_type": "stream",
     "text": [
      "best score: 0.6167664670658682\n",
      "Fitting 10 folds for each of 12 candidates, totalling 120 fits\n"
     ]
    },
    {
     "name": "stderr",
     "output_type": "stream",
     "text": [
      "[Parallel(n_jobs=1)]: Using backend SequentialBackend with 1 concurrent workers.\n",
      "[Parallel(n_jobs=1)]: Done 120 out of 120 | elapsed:   13.3s finished\n"
     ]
    },
    {
     "name": "stdout",
     "output_type": "stream",
     "text": [
      "best score: 0.6227544910179641\n",
      "Split: 1\n",
      "Split: 2\n",
      "Split: 3\n",
      "Split: 4\n",
      "Split: 5\n",
      "Split: 6\n",
      "Split: 7\n",
      "Split: 8\n",
      "Split: 9\n",
      "Split: 10\n",
      "Training Testing Accuracy for n_games=2 team=13 : 59.15% (7.52%)\n",
      "(189, 386)\n",
      "(189, 1)\n",
      "X_train shape: (170, 689)\n",
      "X_test shape: (19, 689)\n",
      "Fitting 10 folds for each of 12 candidates, totalling 120 fits\n"
     ]
    },
    {
     "name": "stderr",
     "output_type": "stream",
     "text": [
      "[Parallel(n_jobs=1)]: Using backend SequentialBackend with 1 concurrent workers.\n",
      "[Parallel(n_jobs=1)]: Done 120 out of 120 | elapsed:   12.4s finished\n"
     ]
    },
    {
     "name": "stdout",
     "output_type": "stream",
     "text": [
      "best score: 0.6235294117647059\n",
      "Fitting 10 folds for each of 12 candidates, totalling 120 fits\n"
     ]
    },
    {
     "name": "stderr",
     "output_type": "stream",
     "text": [
      "[Parallel(n_jobs=1)]: Using backend SequentialBackend with 1 concurrent workers.\n",
      "[Parallel(n_jobs=1)]: Done 120 out of 120 | elapsed:    9.2s finished\n"
     ]
    },
    {
     "name": "stdout",
     "output_type": "stream",
     "text": [
      "best score: 0.6235294117647059\n",
      "Fitting 10 folds for each of 12 candidates, totalling 120 fits\n"
     ]
    },
    {
     "name": "stderr",
     "output_type": "stream",
     "text": [
      "[Parallel(n_jobs=1)]: Using backend SequentialBackend with 1 concurrent workers.\n",
      "[Parallel(n_jobs=1)]: Done 120 out of 120 | elapsed:   27.3s finished\n"
     ]
    },
    {
     "name": "stdout",
     "output_type": "stream",
     "text": [
      "best score: 0.6470588235294118\n",
      "Fitting 10 folds for each of 12 candidates, totalling 120 fits\n"
     ]
    },
    {
     "name": "stderr",
     "output_type": "stream",
     "text": [
      "[Parallel(n_jobs=1)]: Using backend SequentialBackend with 1 concurrent workers.\n",
      "[Parallel(n_jobs=1)]: Done 120 out of 120 | elapsed:   13.6s finished\n"
     ]
    },
    {
     "name": "stdout",
     "output_type": "stream",
     "text": [
      "best score: 0.6470588235294118\n",
      "Fitting 10 folds for each of 12 candidates, totalling 120 fits\n"
     ]
    },
    {
     "name": "stderr",
     "output_type": "stream",
     "text": [
      "[Parallel(n_jobs=1)]: Using backend SequentialBackend with 1 concurrent workers.\n",
      "[Parallel(n_jobs=1)]: Done 120 out of 120 | elapsed:    7.8s finished\n"
     ]
    },
    {
     "name": "stdout",
     "output_type": "stream",
     "text": [
      "best score: 0.6470588235294118\n",
      "Split: 1\n",
      "Split: 2\n",
      "Split: 3\n",
      "Split: 4\n",
      "Split: 5\n",
      "Split: 6\n",
      "Split: 7\n",
      "Split: 8\n",
      "Split: 9\n",
      "Split: 10\n",
      "Training Testing Accuracy for n_games=2 team=14 : 65.58% (6.87%)\n",
      "(178, 386)\n",
      "(178, 1)\n",
      "X_train shape: (160, 689)\n",
      "X_test shape: (18, 689)\n",
      "Fitting 10 folds for each of 12 candidates, totalling 120 fits\n"
     ]
    },
    {
     "name": "stderr",
     "output_type": "stream",
     "text": [
      "[Parallel(n_jobs=1)]: Using backend SequentialBackend with 1 concurrent workers.\n",
      "[Parallel(n_jobs=1)]: Done 120 out of 120 | elapsed:   11.6s finished\n"
     ]
    },
    {
     "name": "stdout",
     "output_type": "stream",
     "text": [
      "best score: 0.63125\n",
      "Fitting 10 folds for each of 12 candidates, totalling 120 fits\n"
     ]
    },
    {
     "name": "stderr",
     "output_type": "stream",
     "text": [
      "[Parallel(n_jobs=1)]: Using backend SequentialBackend with 1 concurrent workers.\n",
      "[Parallel(n_jobs=1)]: Done 120 out of 120 | elapsed:   12.6s finished\n"
     ]
    },
    {
     "name": "stdout",
     "output_type": "stream",
     "text": [
      "best score: 0.63125\n",
      "Fitting 10 folds for each of 12 candidates, totalling 120 fits\n"
     ]
    },
    {
     "name": "stderr",
     "output_type": "stream",
     "text": [
      "[Parallel(n_jobs=1)]: Using backend SequentialBackend with 1 concurrent workers.\n",
      "[Parallel(n_jobs=1)]: Done 120 out of 120 | elapsed:    9.9s finished\n"
     ]
    },
    {
     "name": "stdout",
     "output_type": "stream",
     "text": [
      "best score: 0.63125\n",
      "Fitting 10 folds for each of 12 candidates, totalling 120 fits\n"
     ]
    },
    {
     "name": "stderr",
     "output_type": "stream",
     "text": [
      "[Parallel(n_jobs=1)]: Using backend SequentialBackend with 1 concurrent workers.\n",
      "[Parallel(n_jobs=1)]: Done 120 out of 120 | elapsed:   11.0s finished\n"
     ]
    },
    {
     "name": "stdout",
     "output_type": "stream",
     "text": [
      "best score: 0.6375\n",
      "Fitting 10 folds for each of 12 candidates, totalling 120 fits\n"
     ]
    },
    {
     "name": "stderr",
     "output_type": "stream",
     "text": [
      "[Parallel(n_jobs=1)]: Using backend SequentialBackend with 1 concurrent workers.\n",
      "[Parallel(n_jobs=1)]: Done 120 out of 120 | elapsed:   21.8s finished\n"
     ]
    },
    {
     "name": "stdout",
     "output_type": "stream",
     "text": [
      "best score: 0.6375\n",
      "Split: 1\n",
      "Split: 2\n",
      "Split: 3\n",
      "Split: 4\n",
      "Split: 5\n",
      "Split: 6\n",
      "Split: 7\n",
      "Split: 8\n",
      "Split: 9\n",
      "Split: 10\n",
      "Training Testing Accuracy for n_games=2 team=15 : 64.64% (5.90%)\n",
      "(194, 386)\n",
      "(194, 1)\n",
      "X_train shape: (174, 696)\n",
      "X_test shape: (20, 696)\n",
      "Fitting 10 folds for each of 12 candidates, totalling 120 fits\n"
     ]
    },
    {
     "name": "stderr",
     "output_type": "stream",
     "text": [
      "[Parallel(n_jobs=1)]: Using backend SequentialBackend with 1 concurrent workers.\n",
      "[Parallel(n_jobs=1)]: Done 120 out of 120 | elapsed:   12.1s finished\n"
     ]
    },
    {
     "name": "stdout",
     "output_type": "stream",
     "text": [
      "best score: 0.6379310344827587\n",
      "Fitting 10 folds for each of 12 candidates, totalling 120 fits\n"
     ]
    },
    {
     "name": "stderr",
     "output_type": "stream",
     "text": [
      "[Parallel(n_jobs=1)]: Using backend SequentialBackend with 1 concurrent workers.\n",
      "[Parallel(n_jobs=1)]: Done 120 out of 120 | elapsed:   13.0s finished\n"
     ]
    },
    {
     "name": "stdout",
     "output_type": "stream",
     "text": [
      "best score: 0.6379310344827587\n",
      "Fitting 10 folds for each of 12 candidates, totalling 120 fits\n"
     ]
    },
    {
     "name": "stderr",
     "output_type": "stream",
     "text": [
      "[Parallel(n_jobs=1)]: Using backend SequentialBackend with 1 concurrent workers.\n",
      "[Parallel(n_jobs=1)]: Done 120 out of 120 | elapsed:   15.6s finished\n"
     ]
    },
    {
     "name": "stdout",
     "output_type": "stream",
     "text": [
      "best score: 0.6379310344827587\n",
      "Fitting 10 folds for each of 12 candidates, totalling 120 fits\n"
     ]
    },
    {
     "name": "stderr",
     "output_type": "stream",
     "text": [
      "[Parallel(n_jobs=1)]: Using backend SequentialBackend with 1 concurrent workers.\n",
      "[Parallel(n_jobs=1)]: Done 120 out of 120 | elapsed:    9.0s finished\n"
     ]
    },
    {
     "name": "stdout",
     "output_type": "stream",
     "text": [
      "best score: 0.6379310344827587\n",
      "Fitting 10 folds for each of 12 candidates, totalling 120 fits\n"
     ]
    },
    {
     "name": "stderr",
     "output_type": "stream",
     "text": [
      "[Parallel(n_jobs=1)]: Using backend SequentialBackend with 1 concurrent workers.\n",
      "[Parallel(n_jobs=1)]: Done 120 out of 120 | elapsed:   10.1s finished\n"
     ]
    },
    {
     "name": "stdout",
     "output_type": "stream",
     "text": [
      "best score: 0.6379310344827587\n",
      "Split: 1\n",
      "Split: 2\n",
      "Split: 3\n",
      "Split: 4\n",
      "Split: 5\n",
      "Split: 6\n",
      "Split: 7\n",
      "Split: 8\n",
      "Split: 9\n",
      "Split: 10\n",
      "Training Testing Accuracy for n_games=2 team=16 : 63.89% (0.90%)\n",
      "(189, 386)\n",
      "(189, 1)\n",
      "X_train shape: (170, 688)\n",
      "X_test shape: (19, 688)\n",
      "Fitting 10 folds for each of 12 candidates, totalling 120 fits\n"
     ]
    },
    {
     "name": "stderr",
     "output_type": "stream",
     "text": [
      "[Parallel(n_jobs=1)]: Using backend SequentialBackend with 1 concurrent workers.\n",
      "[Parallel(n_jobs=1)]: Done 120 out of 120 | elapsed:   11.8s finished\n"
     ]
    },
    {
     "name": "stdout",
     "output_type": "stream",
     "text": [
      "best score: 0.6411764705882353\n",
      "Fitting 10 folds for each of 12 candidates, totalling 120 fits\n"
     ]
    },
    {
     "name": "stderr",
     "output_type": "stream",
     "text": [
      "[Parallel(n_jobs=1)]: Using backend SequentialBackend with 1 concurrent workers.\n",
      "[Parallel(n_jobs=1)]: Done 120 out of 120 | elapsed:   11.7s finished\n"
     ]
    },
    {
     "name": "stdout",
     "output_type": "stream",
     "text": [
      "best score: 0.6411764705882353\n",
      "Fitting 10 folds for each of 12 candidates, totalling 120 fits\n"
     ]
    },
    {
     "name": "stderr",
     "output_type": "stream",
     "text": [
      "[Parallel(n_jobs=1)]: Using backend SequentialBackend with 1 concurrent workers.\n",
      "[Parallel(n_jobs=1)]: Done 120 out of 120 | elapsed:    8.4s finished\n"
     ]
    },
    {
     "name": "stdout",
     "output_type": "stream",
     "text": [
      "best score: 0.6411764705882353\n",
      "Fitting 10 folds for each of 12 candidates, totalling 120 fits\n"
     ]
    },
    {
     "name": "stderr",
     "output_type": "stream",
     "text": [
      "[Parallel(n_jobs=1)]: Using backend SequentialBackend with 1 concurrent workers.\n",
      "[Parallel(n_jobs=1)]: Done 120 out of 120 | elapsed:   17.8s finished\n"
     ]
    },
    {
     "name": "stdout",
     "output_type": "stream",
     "text": [
      "best score: 0.6411764705882353\n",
      "Fitting 10 folds for each of 12 candidates, totalling 120 fits\n"
     ]
    },
    {
     "name": "stderr",
     "output_type": "stream",
     "text": [
      "[Parallel(n_jobs=1)]: Using backend SequentialBackend with 1 concurrent workers.\n",
      "[Parallel(n_jobs=1)]: Done 120 out of 120 | elapsed:    8.6s finished\n"
     ]
    },
    {
     "name": "stdout",
     "output_type": "stream",
     "text": [
      "best score: 0.6411764705882353\n",
      "Split: 1\n",
      "Split: 2\n",
      "Split: 3\n",
      "Split: 4\n",
      "Split: 5\n",
      "Split: 6\n",
      "Split: 7\n",
      "Split: 8\n",
      "Split: 9\n",
      "Split: 10\n",
      "Training Testing Accuracy for n_games=2 team=17 : 63.48% (6.89%)\n",
      "(188, 386)\n",
      "(188, 1)\n",
      "X_train shape: (169, 700)\n",
      "X_test shape: (19, 700)\n",
      "Fitting 10 folds for each of 12 candidates, totalling 120 fits\n"
     ]
    },
    {
     "name": "stderr",
     "output_type": "stream",
     "text": [
      "[Parallel(n_jobs=1)]: Using backend SequentialBackend with 1 concurrent workers.\n",
      "[Parallel(n_jobs=1)]: Done 120 out of 120 | elapsed:   12.1s finished\n"
     ]
    },
    {
     "name": "stdout",
     "output_type": "stream",
     "text": [
      "best score: 0.5739644970414202\n",
      "Fitting 10 folds for each of 12 candidates, totalling 120 fits\n"
     ]
    },
    {
     "name": "stderr",
     "output_type": "stream",
     "text": [
      "[Parallel(n_jobs=1)]: Using backend SequentialBackend with 1 concurrent workers.\n",
      "[Parallel(n_jobs=1)]: Done 120 out of 120 | elapsed:    8.9s finished\n"
     ]
    },
    {
     "name": "stdout",
     "output_type": "stream",
     "text": [
      "best score: 0.5739644970414202\n",
      "Fitting 10 folds for each of 12 candidates, totalling 120 fits\n"
     ]
    },
    {
     "name": "stderr",
     "output_type": "stream",
     "text": [
      "[Parallel(n_jobs=1)]: Using backend SequentialBackend with 1 concurrent workers.\n",
      "[Parallel(n_jobs=1)]: Done 120 out of 120 | elapsed:   10.8s finished\n"
     ]
    },
    {
     "name": "stdout",
     "output_type": "stream",
     "text": [
      "best score: 0.5739644970414202\n",
      "Fitting 10 folds for each of 12 candidates, totalling 120 fits\n"
     ]
    },
    {
     "name": "stderr",
     "output_type": "stream",
     "text": [
      "[Parallel(n_jobs=1)]: Using backend SequentialBackend with 1 concurrent workers.\n",
      "[Parallel(n_jobs=1)]: Done 120 out of 120 | elapsed:    9.4s finished\n"
     ]
    },
    {
     "name": "stdout",
     "output_type": "stream",
     "text": [
      "best score: 0.5739644970414202\n",
      "Fitting 10 folds for each of 12 candidates, totalling 120 fits\n"
     ]
    },
    {
     "name": "stderr",
     "output_type": "stream",
     "text": [
      "[Parallel(n_jobs=1)]: Using backend SequentialBackend with 1 concurrent workers.\n",
      "[Parallel(n_jobs=1)]: Done 120 out of 120 | elapsed:   18.9s finished\n"
     ]
    },
    {
     "name": "stdout",
     "output_type": "stream",
     "text": [
      "best score: 0.5739644970414202\n",
      "Split: 1\n",
      "Split: 2\n",
      "Split: 3\n",
      "Split: 4\n",
      "Split: 5\n",
      "Split: 6\n",
      "Split: 7\n",
      "Split: 8\n",
      "Split: 9\n",
      "Split: 10\n",
      "Training Testing Accuracy for n_games=2 team=18 : 57.87% (10.09%)\n",
      "Accuracy for Team Models for n_games= 2 : 61.87% (5.47%)\n",
      "(183, 572)\n",
      "(183, 1)\n",
      "X_train shape: (164, 996)\n",
      "X_test shape: (19, 996)\n",
      "Fitting 10 folds for each of 12 candidates, totalling 120 fits\n"
     ]
    },
    {
     "name": "stderr",
     "output_type": "stream",
     "text": [
      "[Parallel(n_jobs=1)]: Using backend SequentialBackend with 1 concurrent workers.\n",
      "[Parallel(n_jobs=1)]: Done 120 out of 120 | elapsed:   16.6s finished\n"
     ]
    },
    {
     "name": "stdout",
     "output_type": "stream",
     "text": [
      "best score: 0.5304878048780488\n",
      "Fitting 10 folds for each of 12 candidates, totalling 120 fits\n"
     ]
    },
    {
     "name": "stderr",
     "output_type": "stream",
     "text": [
      "[Parallel(n_jobs=1)]: Using backend SequentialBackend with 1 concurrent workers.\n",
      "[Parallel(n_jobs=1)]: Done 120 out of 120 | elapsed:   11.1s finished\n"
     ]
    },
    {
     "name": "stdout",
     "output_type": "stream",
     "text": [
      "best score: 0.5975609756097561\n",
      "Fitting 10 folds for each of 12 candidates, totalling 120 fits\n"
     ]
    },
    {
     "name": "stderr",
     "output_type": "stream",
     "text": [
      "[Parallel(n_jobs=1)]: Using backend SequentialBackend with 1 concurrent workers.\n",
      "[Parallel(n_jobs=1)]: Done 120 out of 120 | elapsed:   13.2s finished\n"
     ]
    },
    {
     "name": "stdout",
     "output_type": "stream",
     "text": [
      "best score: 0.5975609756097561\n",
      "Fitting 10 folds for each of 12 candidates, totalling 120 fits\n"
     ]
    },
    {
     "name": "stderr",
     "output_type": "stream",
     "text": [
      "[Parallel(n_jobs=1)]: Using backend SequentialBackend with 1 concurrent workers.\n",
      "[Parallel(n_jobs=1)]: Done 120 out of 120 | elapsed:   11.7s finished\n"
     ]
    },
    {
     "name": "stdout",
     "output_type": "stream",
     "text": [
      "best score: 0.5975609756097561\n",
      "Fitting 10 folds for each of 12 candidates, totalling 120 fits\n"
     ]
    },
    {
     "name": "stderr",
     "output_type": "stream",
     "text": [
      "[Parallel(n_jobs=1)]: Using backend SequentialBackend with 1 concurrent workers.\n",
      "[Parallel(n_jobs=1)]: Done 120 out of 120 | elapsed:   11.7s finished\n"
     ]
    },
    {
     "name": "stdout",
     "output_type": "stream",
     "text": [
      "best score: 0.5975609756097561\n",
      "Split: 1\n",
      "Split: 2\n",
      "Split: 3\n",
      "Split: 4\n",
      "Split: 5\n",
      "Split: 6\n",
      "Split: 7\n",
      "Split: 8\n",
      "Split: 9\n",
      "Split: 10\n",
      "Training Testing Accuracy for n_games=3 team=1 : 49.71% (8.90%)\n",
      "(181, 572)\n",
      "(181, 1)\n",
      "X_train shape: (162, 984)\n",
      "X_test shape: (19, 984)\n",
      "Fitting 10 folds for each of 12 candidates, totalling 120 fits\n"
     ]
    },
    {
     "name": "stderr",
     "output_type": "stream",
     "text": [
      "[Parallel(n_jobs=1)]: Using backend SequentialBackend with 1 concurrent workers.\n",
      "[Parallel(n_jobs=1)]: Done 120 out of 120 | elapsed:   15.8s finished\n"
     ]
    },
    {
     "name": "stdout",
     "output_type": "stream",
     "text": [
      "best score: 0.6666666666666666\n",
      "Fitting 10 folds for each of 12 candidates, totalling 120 fits\n"
     ]
    },
    {
     "name": "stderr",
     "output_type": "stream",
     "text": [
      "[Parallel(n_jobs=1)]: Using backend SequentialBackend with 1 concurrent workers.\n",
      "[Parallel(n_jobs=1)]: Done 120 out of 120 | elapsed:   13.8s finished\n"
     ]
    },
    {
     "name": "stdout",
     "output_type": "stream",
     "text": [
      "best score: 0.6666666666666666\n",
      "Fitting 10 folds for each of 12 candidates, totalling 120 fits\n"
     ]
    },
    {
     "name": "stderr",
     "output_type": "stream",
     "text": [
      "[Parallel(n_jobs=1)]: Using backend SequentialBackend with 1 concurrent workers.\n",
      "[Parallel(n_jobs=1)]: Done 120 out of 120 | elapsed:   14.0s finished\n"
     ]
    },
    {
     "name": "stdout",
     "output_type": "stream",
     "text": [
      "best score: 0.6666666666666666\n",
      "Fitting 10 folds for each of 12 candidates, totalling 120 fits\n"
     ]
    },
    {
     "name": "stderr",
     "output_type": "stream",
     "text": [
      "[Parallel(n_jobs=1)]: Using backend SequentialBackend with 1 concurrent workers.\n",
      "[Parallel(n_jobs=1)]: Done 120 out of 120 | elapsed:   11.7s finished\n"
     ]
    },
    {
     "name": "stdout",
     "output_type": "stream",
     "text": [
      "best score: 0.6666666666666666\n",
      "Fitting 10 folds for each of 12 candidates, totalling 120 fits\n"
     ]
    },
    {
     "name": "stderr",
     "output_type": "stream",
     "text": [
      "[Parallel(n_jobs=1)]: Using backend SequentialBackend with 1 concurrent workers.\n",
      "[Parallel(n_jobs=1)]: Done 120 out of 120 | elapsed:   13.3s finished\n"
     ]
    },
    {
     "name": "stdout",
     "output_type": "stream",
     "text": [
      "best score: 0.6790123456790124\n",
      "Split: 1\n",
      "Split: 2\n",
      "Split: 3\n",
      "Split: 4\n",
      "Split: 5\n",
      "Split: 6\n",
      "Split: 7\n",
      "Split: 8\n",
      "Split: 9\n",
      "Split: 10\n",
      "Training Testing Accuracy for n_games=3 team=2 : 67.37% (9.53%)\n",
      "(179, 572)\n",
      "(179, 1)\n",
      "X_train shape: (161, 984)\n",
      "X_test shape: (18, 984)\n",
      "Fitting 10 folds for each of 12 candidates, totalling 120 fits\n"
     ]
    },
    {
     "name": "stderr",
     "output_type": "stream",
     "text": [
      "[Parallel(n_jobs=1)]: Using backend SequentialBackend with 1 concurrent workers.\n",
      "[Parallel(n_jobs=1)]: Done 120 out of 120 | elapsed:   15.5s finished\n"
     ]
    },
    {
     "name": "stdout",
     "output_type": "stream",
     "text": [
      "best score: 0.6708074534161491\n",
      "Fitting 10 folds for each of 12 candidates, totalling 120 fits\n"
     ]
    },
    {
     "name": "stderr",
     "output_type": "stream",
     "text": [
      "[Parallel(n_jobs=1)]: Using backend SequentialBackend with 1 concurrent workers.\n",
      "[Parallel(n_jobs=1)]: Done 120 out of 120 | elapsed:   11.8s finished\n"
     ]
    },
    {
     "name": "stdout",
     "output_type": "stream",
     "text": [
      "best score: 0.6708074534161491\n",
      "Fitting 10 folds for each of 12 candidates, totalling 120 fits\n"
     ]
    },
    {
     "name": "stderr",
     "output_type": "stream",
     "text": [
      "[Parallel(n_jobs=1)]: Using backend SequentialBackend with 1 concurrent workers.\n",
      "[Parallel(n_jobs=1)]: Done 120 out of 120 | elapsed:   13.5s finished\n"
     ]
    },
    {
     "name": "stdout",
     "output_type": "stream",
     "text": [
      "best score: 0.6708074534161491\n",
      "Fitting 10 folds for each of 12 candidates, totalling 120 fits\n"
     ]
    },
    {
     "name": "stderr",
     "output_type": "stream",
     "text": [
      "[Parallel(n_jobs=1)]: Using backend SequentialBackend with 1 concurrent workers.\n",
      "[Parallel(n_jobs=1)]: Done 120 out of 120 | elapsed:   21.5s finished\n"
     ]
    },
    {
     "name": "stdout",
     "output_type": "stream",
     "text": [
      "best score: 0.6708074534161491\n",
      "Fitting 10 folds for each of 12 candidates, totalling 120 fits\n"
     ]
    },
    {
     "name": "stderr",
     "output_type": "stream",
     "text": [
      "[Parallel(n_jobs=1)]: Using backend SequentialBackend with 1 concurrent workers.\n",
      "[Parallel(n_jobs=1)]: Done 120 out of 120 | elapsed:   14.2s finished\n"
     ]
    },
    {
     "name": "stdout",
     "output_type": "stream",
     "text": [
      "best score: 0.6708074534161491\n",
      "Split: 1\n",
      "Split: 2\n",
      "Split: 3\n",
      "Split: 4\n",
      "Split: 5\n",
      "Split: 6\n",
      "Split: 7\n",
      "Split: 8\n",
      "Split: 9\n",
      "Split: 10\n",
      "Training Testing Accuracy for n_games=3 team=3 : 68.17% (2.33%)\n",
      "(184, 572)\n",
      "(184, 1)\n",
      "X_train shape: (165, 986)\n",
      "X_test shape: (19, 986)\n",
      "Fitting 10 folds for each of 12 candidates, totalling 120 fits\n"
     ]
    },
    {
     "name": "stderr",
     "output_type": "stream",
     "text": [
      "[Parallel(n_jobs=1)]: Using backend SequentialBackend with 1 concurrent workers.\n",
      "[Parallel(n_jobs=1)]: Done 120 out of 120 | elapsed:   15.9s finished\n"
     ]
    },
    {
     "name": "stdout",
     "output_type": "stream",
     "text": [
      "best score: 0.5333333333333333\n",
      "Fitting 10 folds for each of 12 candidates, totalling 120 fits\n"
     ]
    },
    {
     "name": "stderr",
     "output_type": "stream",
     "text": [
      "[Parallel(n_jobs=1)]: Using backend SequentialBackend with 1 concurrent workers.\n",
      "[Parallel(n_jobs=1)]: Done 120 out of 120 | elapsed:   14.5s finished\n"
     ]
    },
    {
     "name": "stdout",
     "output_type": "stream",
     "text": [
      "best score: 0.5333333333333333\n",
      "Fitting 10 folds for each of 12 candidates, totalling 120 fits\n"
     ]
    },
    {
     "name": "stderr",
     "output_type": "stream",
     "text": [
      "[Parallel(n_jobs=1)]: Using backend SequentialBackend with 1 concurrent workers.\n",
      "[Parallel(n_jobs=1)]: Done 120 out of 120 | elapsed:   12.2s finished\n"
     ]
    },
    {
     "name": "stdout",
     "output_type": "stream",
     "text": [
      "best score: 0.5333333333333333\n",
      "Fitting 10 folds for each of 12 candidates, totalling 120 fits\n"
     ]
    },
    {
     "name": "stderr",
     "output_type": "stream",
     "text": [
      "[Parallel(n_jobs=1)]: Using backend SequentialBackend with 1 concurrent workers.\n",
      "[Parallel(n_jobs=1)]: Done 120 out of 120 | elapsed:   11.3s finished\n"
     ]
    },
    {
     "name": "stdout",
     "output_type": "stream",
     "text": [
      "best score: 0.5333333333333333\n",
      "Fitting 10 folds for each of 12 candidates, totalling 120 fits\n"
     ]
    },
    {
     "name": "stderr",
     "output_type": "stream",
     "text": [
      "[Parallel(n_jobs=1)]: Using backend SequentialBackend with 1 concurrent workers.\n",
      "[Parallel(n_jobs=1)]: Done 120 out of 120 | elapsed:   11.9s finished\n"
     ]
    },
    {
     "name": "stdout",
     "output_type": "stream",
     "text": [
      "best score: 0.5757575757575758\n",
      "Split: 1\n",
      "Split: 2\n",
      "Split: 3\n",
      "Split: 4\n",
      "Split: 5\n",
      "Split: 6\n",
      "Split: 7\n",
      "Split: 8\n",
      "Split: 9\n",
      "Split: 10\n",
      "Training Testing Accuracy for n_games=3 team=4 : 53.77% (8.69%)\n",
      "(181, 572)\n",
      "(181, 1)\n",
      "X_train shape: (162, 980)\n",
      "X_test shape: (19, 980)\n",
      "Fitting 10 folds for each of 12 candidates, totalling 120 fits\n"
     ]
    },
    {
     "name": "stderr",
     "output_type": "stream",
     "text": [
      "[Parallel(n_jobs=1)]: Using backend SequentialBackend with 1 concurrent workers.\n",
      "[Parallel(n_jobs=1)]: Done 120 out of 120 | elapsed:   15.8s finished\n"
     ]
    },
    {
     "name": "stdout",
     "output_type": "stream",
     "text": [
      "best score: 0.5617283950617284\n",
      "Fitting 10 folds for each of 12 candidates, totalling 120 fits\n"
     ]
    },
    {
     "name": "stderr",
     "output_type": "stream",
     "text": [
      "[Parallel(n_jobs=1)]: Using backend SequentialBackend with 1 concurrent workers.\n",
      "[Parallel(n_jobs=1)]: Done 120 out of 120 | elapsed:   31.4s finished\n"
     ]
    },
    {
     "name": "stdout",
     "output_type": "stream",
     "text": [
      "best score: 0.5617283950617284\n",
      "Fitting 10 folds for each of 12 candidates, totalling 120 fits\n"
     ]
    },
    {
     "name": "stderr",
     "output_type": "stream",
     "text": [
      "[Parallel(n_jobs=1)]: Using backend SequentialBackend with 1 concurrent workers.\n",
      "[Parallel(n_jobs=1)]: Done 120 out of 120 | elapsed:   13.4s finished\n"
     ]
    },
    {
     "name": "stdout",
     "output_type": "stream",
     "text": [
      "best score: 0.5617283950617284\n",
      "Fitting 10 folds for each of 12 candidates, totalling 120 fits\n"
     ]
    },
    {
     "name": "stderr",
     "output_type": "stream",
     "text": [
      "[Parallel(n_jobs=1)]: Using backend SequentialBackend with 1 concurrent workers.\n",
      "[Parallel(n_jobs=1)]: Done 120 out of 120 | elapsed:   10.3s finished\n"
     ]
    },
    {
     "name": "stdout",
     "output_type": "stream",
     "text": [
      "best score: 0.5617283950617284\n",
      "Fitting 10 folds for each of 12 candidates, totalling 120 fits\n"
     ]
    },
    {
     "name": "stderr",
     "output_type": "stream",
     "text": [
      "[Parallel(n_jobs=1)]: Using backend SequentialBackend with 1 concurrent workers.\n",
      "[Parallel(n_jobs=1)]: Done 120 out of 120 | elapsed:   12.7s finished\n"
     ]
    },
    {
     "name": "stdout",
     "output_type": "stream",
     "text": [
      "best score: 0.5740740740740741\n",
      "Split: 1\n",
      "Split: 2\n",
      "Split: 3\n",
      "Split: 4\n",
      "Split: 5\n",
      "Split: 6\n",
      "Split: 7\n",
      "Split: 8\n",
      "Split: 9\n",
      "Split: 10\n",
      "Training Testing Accuracy for n_games=3 team=5 : 54.68% (10.53%)\n",
      "(184, 572)\n",
      "(184, 1)\n",
      "X_train shape: (165, 995)\n",
      "X_test shape: (19, 995)\n",
      "Fitting 10 folds for each of 12 candidates, totalling 120 fits\n"
     ]
    },
    {
     "name": "stderr",
     "output_type": "stream",
     "text": [
      "[Parallel(n_jobs=1)]: Using backend SequentialBackend with 1 concurrent workers.\n",
      "[Parallel(n_jobs=1)]: Done 120 out of 120 | elapsed:   16.2s finished\n"
     ]
    },
    {
     "name": "stdout",
     "output_type": "stream",
     "text": [
      "best score: 0.6121212121212121\n",
      "Fitting 10 folds for each of 12 candidates, totalling 120 fits\n"
     ]
    },
    {
     "name": "stderr",
     "output_type": "stream",
     "text": [
      "[Parallel(n_jobs=1)]: Using backend SequentialBackend with 1 concurrent workers.\n",
      "[Parallel(n_jobs=1)]: Done 120 out of 120 | elapsed:   13.6s finished\n"
     ]
    },
    {
     "name": "stdout",
     "output_type": "stream",
     "text": [
      "best score: 0.6121212121212121\n",
      "Fitting 10 folds for each of 12 candidates, totalling 120 fits\n"
     ]
    },
    {
     "name": "stderr",
     "output_type": "stream",
     "text": [
      "[Parallel(n_jobs=1)]: Using backend SequentialBackend with 1 concurrent workers.\n",
      "[Parallel(n_jobs=1)]: Done 120 out of 120 | elapsed:   14.8s finished\n"
     ]
    },
    {
     "name": "stdout",
     "output_type": "stream",
     "text": [
      "best score: 0.6121212121212121\n",
      "Fitting 10 folds for each of 12 candidates, totalling 120 fits\n"
     ]
    },
    {
     "name": "stderr",
     "output_type": "stream",
     "text": [
      "[Parallel(n_jobs=1)]: Using backend SequentialBackend with 1 concurrent workers.\n",
      "[Parallel(n_jobs=1)]: Done 120 out of 120 | elapsed:   15.4s finished\n"
     ]
    },
    {
     "name": "stdout",
     "output_type": "stream",
     "text": [
      "best score: 0.6121212121212121\n",
      "Fitting 10 folds for each of 12 candidates, totalling 120 fits\n"
     ]
    },
    {
     "name": "stderr",
     "output_type": "stream",
     "text": [
      "[Parallel(n_jobs=1)]: Using backend SequentialBackend with 1 concurrent workers.\n",
      "[Parallel(n_jobs=1)]: Done 120 out of 120 | elapsed:   20.6s finished\n"
     ]
    },
    {
     "name": "stdout",
     "output_type": "stream",
     "text": [
      "best score: 0.6121212121212121\n",
      "Split: 1\n",
      "Split: 2\n",
      "Split: 3\n",
      "Split: 4\n",
      "Split: 5\n",
      "Split: 6\n",
      "Split: 7\n",
      "Split: 8\n",
      "Split: 9\n",
      "Split: 10\n",
      "Training Testing Accuracy for n_games=3 team=6 : 61.90% (8.66%)\n",
      "(193, 572)\n",
      "(193, 1)\n",
      "X_train shape: (173, 988)\n",
      "X_test shape: (20, 988)\n",
      "Fitting 10 folds for each of 12 candidates, totalling 120 fits\n"
     ]
    },
    {
     "name": "stderr",
     "output_type": "stream",
     "text": [
      "[Parallel(n_jobs=1)]: Using backend SequentialBackend with 1 concurrent workers.\n",
      "[Parallel(n_jobs=1)]: Done 120 out of 120 | elapsed:   15.9s finished\n"
     ]
    },
    {
     "name": "stdout",
     "output_type": "stream",
     "text": [
      "best score: 0.653179190751445\n",
      "Fitting 10 folds for each of 12 candidates, totalling 120 fits\n"
     ]
    },
    {
     "name": "stderr",
     "output_type": "stream",
     "text": [
      "[Parallel(n_jobs=1)]: Using backend SequentialBackend with 1 concurrent workers.\n",
      "[Parallel(n_jobs=1)]: Done 120 out of 120 | elapsed:   39.1s finished\n"
     ]
    },
    {
     "name": "stdout",
     "output_type": "stream",
     "text": [
      "best score: 0.653179190751445\n",
      "Fitting 10 folds for each of 12 candidates, totalling 120 fits\n"
     ]
    },
    {
     "name": "stderr",
     "output_type": "stream",
     "text": [
      "[Parallel(n_jobs=1)]: Using backend SequentialBackend with 1 concurrent workers.\n",
      "[Parallel(n_jobs=1)]: Done 120 out of 120 | elapsed:   11.5s finished\n"
     ]
    },
    {
     "name": "stdout",
     "output_type": "stream",
     "text": [
      "best score: 0.653179190751445\n",
      "Fitting 10 folds for each of 12 candidates, totalling 120 fits\n"
     ]
    },
    {
     "name": "stderr",
     "output_type": "stream",
     "text": [
      "[Parallel(n_jobs=1)]: Using backend SequentialBackend with 1 concurrent workers.\n",
      "[Parallel(n_jobs=1)]: Done 120 out of 120 | elapsed:   11.0s finished\n"
     ]
    },
    {
     "name": "stdout",
     "output_type": "stream",
     "text": [
      "best score: 0.653179190751445\n",
      "Fitting 10 folds for each of 12 candidates, totalling 120 fits\n"
     ]
    },
    {
     "name": "stderr",
     "output_type": "stream",
     "text": [
      "[Parallel(n_jobs=1)]: Using backend SequentialBackend with 1 concurrent workers.\n",
      "[Parallel(n_jobs=1)]: Done 120 out of 120 | elapsed:   21.3s finished\n"
     ]
    },
    {
     "name": "stdout",
     "output_type": "stream",
     "text": [
      "best score: 0.653179190751445\n",
      "Split: 1\n",
      "Split: 2\n",
      "Split: 3\n",
      "Split: 4\n",
      "Split: 5\n",
      "Split: 6\n",
      "Split: 7\n",
      "Split: 8\n",
      "Split: 9\n",
      "Split: 10\n",
      "Training Testing Accuracy for n_games=3 team=7 : 66.34% (2.17%)\n",
      "(177, 572)\n",
      "(177, 1)\n",
      "X_train shape: (159, 991)\n",
      "X_test shape: (18, 991)\n",
      "Fitting 10 folds for each of 12 candidates, totalling 120 fits\n"
     ]
    },
    {
     "name": "stderr",
     "output_type": "stream",
     "text": [
      "[Parallel(n_jobs=1)]: Using backend SequentialBackend with 1 concurrent workers.\n",
      "[Parallel(n_jobs=1)]: Done 120 out of 120 | elapsed:   16.3s finished\n"
     ]
    },
    {
     "name": "stdout",
     "output_type": "stream",
     "text": [
      "best score: 0.710691823899371\n",
      "Fitting 10 folds for each of 12 candidates, totalling 120 fits\n"
     ]
    },
    {
     "name": "stderr",
     "output_type": "stream",
     "text": [
      "[Parallel(n_jobs=1)]: Using backend SequentialBackend with 1 concurrent workers.\n",
      "[Parallel(n_jobs=1)]: Done 120 out of 120 | elapsed:   22.0s finished\n"
     ]
    },
    {
     "name": "stdout",
     "output_type": "stream",
     "text": [
      "best score: 0.710691823899371\n",
      "Fitting 10 folds for each of 12 candidates, totalling 120 fits\n"
     ]
    },
    {
     "name": "stderr",
     "output_type": "stream",
     "text": [
      "[Parallel(n_jobs=1)]: Using backend SequentialBackend with 1 concurrent workers.\n",
      "[Parallel(n_jobs=1)]: Done 120 out of 120 | elapsed:   13.1s finished\n"
     ]
    },
    {
     "name": "stdout",
     "output_type": "stream",
     "text": [
      "best score: 0.710691823899371\n",
      "Fitting 10 folds for each of 12 candidates, totalling 120 fits\n"
     ]
    },
    {
     "name": "stderr",
     "output_type": "stream",
     "text": [
      "[Parallel(n_jobs=1)]: Using backend SequentialBackend with 1 concurrent workers.\n",
      "[Parallel(n_jobs=1)]: Done 120 out of 120 | elapsed:   12.8s finished\n"
     ]
    },
    {
     "name": "stdout",
     "output_type": "stream",
     "text": [
      "best score: 0.710691823899371\n",
      "Fitting 10 folds for each of 12 candidates, totalling 120 fits\n"
     ]
    },
    {
     "name": "stderr",
     "output_type": "stream",
     "text": [
      "[Parallel(n_jobs=1)]: Using backend SequentialBackend with 1 concurrent workers.\n",
      "[Parallel(n_jobs=1)]: Done 120 out of 120 | elapsed:   15.4s finished\n"
     ]
    },
    {
     "name": "stdout",
     "output_type": "stream",
     "text": [
      "best score: 0.710691823899371\n",
      "Split: 1\n",
      "Split: 2\n",
      "Split: 3\n",
      "Split: 4\n",
      "Split: 5\n",
      "Split: 6\n",
      "Split: 7\n",
      "Split: 8\n",
      "Split: 9\n",
      "Split: 10\n",
      "Training Testing Accuracy for n_games=3 team=8 : 75.16% (4.37%)\n",
      "(190, 572)\n",
      "(190, 1)\n",
      "X_train shape: (171, 1001)\n",
      "X_test shape: (19, 1001)\n",
      "Fitting 10 folds for each of 12 candidates, totalling 120 fits\n"
     ]
    },
    {
     "name": "stderr",
     "output_type": "stream",
     "text": [
      "[Parallel(n_jobs=1)]: Using backend SequentialBackend with 1 concurrent workers.\n",
      "[Parallel(n_jobs=1)]: Done 120 out of 120 | elapsed:   16.1s finished\n"
     ]
    },
    {
     "name": "stdout",
     "output_type": "stream",
     "text": [
      "best score: 0.5555555555555556\n",
      "Fitting 10 folds for each of 12 candidates, totalling 120 fits\n"
     ]
    },
    {
     "name": "stderr",
     "output_type": "stream",
     "text": [
      "[Parallel(n_jobs=1)]: Using backend SequentialBackend with 1 concurrent workers.\n",
      "[Parallel(n_jobs=1)]: Done 120 out of 120 | elapsed:   10.8s finished\n"
     ]
    },
    {
     "name": "stdout",
     "output_type": "stream",
     "text": [
      "best score: 0.5555555555555556\n",
      "Fitting 10 folds for each of 12 candidates, totalling 120 fits\n"
     ]
    },
    {
     "name": "stderr",
     "output_type": "stream",
     "text": [
      "[Parallel(n_jobs=1)]: Using backend SequentialBackend with 1 concurrent workers.\n",
      "[Parallel(n_jobs=1)]: Done 120 out of 120 | elapsed:   25.6s finished\n"
     ]
    },
    {
     "name": "stdout",
     "output_type": "stream",
     "text": [
      "best score: 0.5614035087719298\n",
      "Fitting 10 folds for each of 12 candidates, totalling 120 fits\n"
     ]
    },
    {
     "name": "stderr",
     "output_type": "stream",
     "text": [
      "[Parallel(n_jobs=1)]: Using backend SequentialBackend with 1 concurrent workers.\n",
      "[Parallel(n_jobs=1)]: Done 120 out of 120 | elapsed:   14.5s finished\n"
     ]
    },
    {
     "name": "stdout",
     "output_type": "stream",
     "text": [
      "best score: 0.5614035087719298\n",
      "Fitting 10 folds for each of 12 candidates, totalling 120 fits\n"
     ]
    },
    {
     "name": "stderr",
     "output_type": "stream",
     "text": [
      "[Parallel(n_jobs=1)]: Using backend SequentialBackend with 1 concurrent workers.\n",
      "[Parallel(n_jobs=1)]: Done 120 out of 120 | elapsed:   27.4s finished\n"
     ]
    },
    {
     "name": "stdout",
     "output_type": "stream",
     "text": [
      "best score: 0.5614035087719298\n",
      "Split: 1\n",
      "Split: 2\n",
      "Split: 3\n",
      "Split: 4\n",
      "Split: 5\n",
      "Split: 6\n",
      "Split: 7\n",
      "Split: 8\n",
      "Split: 9\n",
      "Split: 10\n",
      "Training Testing Accuracy for n_games=3 team=9 : 61.05% (11.09%)\n",
      "(191, 572)\n",
      "(191, 1)\n",
      "X_train shape: (171, 990)\n",
      "X_test shape: (20, 990)\n",
      "Fitting 10 folds for each of 12 candidates, totalling 120 fits\n"
     ]
    },
    {
     "name": "stderr",
     "output_type": "stream",
     "text": [
      "[Parallel(n_jobs=1)]: Using backend SequentialBackend with 1 concurrent workers.\n",
      "[Parallel(n_jobs=1)]: Done 120 out of 120 | elapsed:   15.9s finished\n"
     ]
    },
    {
     "name": "stdout",
     "output_type": "stream",
     "text": [
      "best score: 0.6432748538011696\n",
      "Fitting 10 folds for each of 12 candidates, totalling 120 fits\n"
     ]
    },
    {
     "name": "stderr",
     "output_type": "stream",
     "text": [
      "[Parallel(n_jobs=1)]: Using backend SequentialBackend with 1 concurrent workers.\n",
      "[Parallel(n_jobs=1)]: Done 120 out of 120 | elapsed:   13.7s finished\n"
     ]
    },
    {
     "name": "stdout",
     "output_type": "stream",
     "text": [
      "best score: 0.6432748538011696\n",
      "Fitting 10 folds for each of 12 candidates, totalling 120 fits\n"
     ]
    },
    {
     "name": "stderr",
     "output_type": "stream",
     "text": [
      "[Parallel(n_jobs=1)]: Using backend SequentialBackend with 1 concurrent workers.\n",
      "[Parallel(n_jobs=1)]: Done 120 out of 120 | elapsed:   34.3s finished\n"
     ]
    },
    {
     "name": "stdout",
     "output_type": "stream",
     "text": [
      "best score: 0.672514619883041\n",
      "Fitting 10 folds for each of 12 candidates, totalling 120 fits\n"
     ]
    },
    {
     "name": "stderr",
     "output_type": "stream",
     "text": [
      "[Parallel(n_jobs=1)]: Using backend SequentialBackend with 1 concurrent workers.\n",
      "[Parallel(n_jobs=1)]: Done 120 out of 120 | elapsed:   14.5s finished\n"
     ]
    },
    {
     "name": "stdout",
     "output_type": "stream",
     "text": [
      "best score: 0.672514619883041\n",
      "Fitting 10 folds for each of 12 candidates, totalling 120 fits\n"
     ]
    },
    {
     "name": "stderr",
     "output_type": "stream",
     "text": [
      "[Parallel(n_jobs=1)]: Using backend SequentialBackend with 1 concurrent workers.\n",
      "[Parallel(n_jobs=1)]: Done 120 out of 120 | elapsed:   23.2s finished\n"
     ]
    },
    {
     "name": "stdout",
     "output_type": "stream",
     "text": [
      "best score: 0.672514619883041\n",
      "Split: 1\n",
      "Split: 2\n",
      "Split: 3\n",
      "Split: 4\n",
      "Split: 5\n",
      "Split: 6\n",
      "Split: 7\n",
      "Split: 8\n",
      "Split: 9\n",
      "Split: 10\n",
      "Training Testing Accuracy for n_games=3 team=10 : 62.84% (6.30%)\n",
      "(183, 572)\n",
      "(183, 1)\n",
      "X_train shape: (164, 993)\n",
      "X_test shape: (19, 993)\n",
      "Fitting 10 folds for each of 12 candidates, totalling 120 fits\n"
     ]
    },
    {
     "name": "stderr",
     "output_type": "stream",
     "text": [
      "[Parallel(n_jobs=1)]: Using backend SequentialBackend with 1 concurrent workers.\n",
      "[Parallel(n_jobs=1)]: Done 120 out of 120 | elapsed:   16.0s finished\n"
     ]
    },
    {
     "name": "stdout",
     "output_type": "stream",
     "text": [
      "best score: 0.5792682926829268\n",
      "Fitting 10 folds for each of 12 candidates, totalling 120 fits\n"
     ]
    },
    {
     "name": "stderr",
     "output_type": "stream",
     "text": [
      "[Parallel(n_jobs=1)]: Using backend SequentialBackend with 1 concurrent workers.\n",
      "[Parallel(n_jobs=1)]: Done 120 out of 120 | elapsed:   17.7s finished\n"
     ]
    },
    {
     "name": "stdout",
     "output_type": "stream",
     "text": [
      "best score: 0.6280487804878049\n",
      "Fitting 10 folds for each of 12 candidates, totalling 120 fits\n"
     ]
    },
    {
     "name": "stderr",
     "output_type": "stream",
     "text": [
      "[Parallel(n_jobs=1)]: Using backend SequentialBackend with 1 concurrent workers.\n",
      "[Parallel(n_jobs=1)]: Done 120 out of 120 | elapsed:   16.3s finished\n"
     ]
    },
    {
     "name": "stdout",
     "output_type": "stream",
     "text": [
      "best score: 0.6280487804878049\n",
      "Fitting 10 folds for each of 12 candidates, totalling 120 fits\n"
     ]
    },
    {
     "name": "stderr",
     "output_type": "stream",
     "text": [
      "[Parallel(n_jobs=1)]: Using backend SequentialBackend with 1 concurrent workers.\n",
      "[Parallel(n_jobs=1)]: Done 120 out of 120 | elapsed:   14.3s finished\n"
     ]
    },
    {
     "name": "stdout",
     "output_type": "stream",
     "text": [
      "best score: 0.6280487804878049\n",
      "Fitting 10 folds for each of 12 candidates, totalling 120 fits\n"
     ]
    },
    {
     "name": "stderr",
     "output_type": "stream",
     "text": [
      "[Parallel(n_jobs=1)]: Using backend SequentialBackend with 1 concurrent workers.\n",
      "[Parallel(n_jobs=1)]: Done 120 out of 120 | elapsed:   13.8s finished\n"
     ]
    },
    {
     "name": "stdout",
     "output_type": "stream",
     "text": [
      "best score: 0.6280487804878049\n",
      "Split: 1\n",
      "Split: 2\n",
      "Split: 3\n",
      "Split: 4\n",
      "Split: 5\n",
      "Split: 6\n",
      "Split: 7\n",
      "Split: 8\n",
      "Split: 9\n",
      "Split: 10\n",
      "Training Testing Accuracy for n_games=3 team=11 : 57.95% (13.91%)\n",
      "(184, 572)\n",
      "(184, 1)\n",
      "X_train shape: (165, 987)\n",
      "X_test shape: (19, 987)\n",
      "Fitting 10 folds for each of 12 candidates, totalling 120 fits\n"
     ]
    },
    {
     "name": "stderr",
     "output_type": "stream",
     "text": [
      "[Parallel(n_jobs=1)]: Using backend SequentialBackend with 1 concurrent workers.\n",
      "[Parallel(n_jobs=1)]: Done 120 out of 120 | elapsed:   16.2s finished\n"
     ]
    },
    {
     "name": "stdout",
     "output_type": "stream",
     "text": [
      "best score: 0.593939393939394\n",
      "Fitting 10 folds for each of 12 candidates, totalling 120 fits\n"
     ]
    },
    {
     "name": "stderr",
     "output_type": "stream",
     "text": [
      "[Parallel(n_jobs=1)]: Using backend SequentialBackend with 1 concurrent workers.\n",
      "[Parallel(n_jobs=1)]: Done 120 out of 120 | elapsed:   18.5s finished\n"
     ]
    },
    {
     "name": "stdout",
     "output_type": "stream",
     "text": [
      "best score: 0.593939393939394\n",
      "Fitting 10 folds for each of 12 candidates, totalling 120 fits\n"
     ]
    },
    {
     "name": "stderr",
     "output_type": "stream",
     "text": [
      "[Parallel(n_jobs=1)]: Using backend SequentialBackend with 1 concurrent workers.\n",
      "[Parallel(n_jobs=1)]: Done 120 out of 120 | elapsed:   11.1s finished\n"
     ]
    },
    {
     "name": "stdout",
     "output_type": "stream",
     "text": [
      "best score: 0.593939393939394\n",
      "Fitting 10 folds for each of 12 candidates, totalling 120 fits\n"
     ]
    },
    {
     "name": "stderr",
     "output_type": "stream",
     "text": [
      "[Parallel(n_jobs=1)]: Using backend SequentialBackend with 1 concurrent workers.\n",
      "[Parallel(n_jobs=1)]: Done 120 out of 120 | elapsed:   33.9s finished\n"
     ]
    },
    {
     "name": "stdout",
     "output_type": "stream",
     "text": [
      "best score: 0.593939393939394\n",
      "Fitting 10 folds for each of 12 candidates, totalling 120 fits\n"
     ]
    },
    {
     "name": "stderr",
     "output_type": "stream",
     "text": [
      "[Parallel(n_jobs=1)]: Using backend SequentialBackend with 1 concurrent workers.\n",
      "[Parallel(n_jobs=1)]: Done 120 out of 120 | elapsed:   15.0s finished\n"
     ]
    },
    {
     "name": "stdout",
     "output_type": "stream",
     "text": [
      "best score: 0.593939393939394\n",
      "Split: 1\n",
      "Split: 2\n",
      "Split: 3\n",
      "Split: 4\n",
      "Split: 5\n",
      "Split: 6\n",
      "Split: 7\n",
      "Split: 8\n",
      "Split: 9\n",
      "Split: 10\n",
      "Training Testing Accuracy for n_games=3 team=12 : 53.92% (15.12%)\n",
      "(185, 572)\n",
      "(185, 1)\n",
      "X_train shape: (166, 1000)\n",
      "X_test shape: (19, 1000)\n",
      "Fitting 10 folds for each of 12 candidates, totalling 120 fits\n"
     ]
    },
    {
     "name": "stderr",
     "output_type": "stream",
     "text": [
      "[Parallel(n_jobs=1)]: Using backend SequentialBackend with 1 concurrent workers.\n",
      "[Parallel(n_jobs=1)]: Done 120 out of 120 | elapsed:   16.3s finished\n"
     ]
    },
    {
     "name": "stdout",
     "output_type": "stream",
     "text": [
      "best score: 0.6204819277108434\n",
      "Fitting 10 folds for each of 12 candidates, totalling 120 fits\n"
     ]
    },
    {
     "name": "stderr",
     "output_type": "stream",
     "text": [
      "[Parallel(n_jobs=1)]: Using backend SequentialBackend with 1 concurrent workers.\n",
      "[Parallel(n_jobs=1)]: Done 120 out of 120 | elapsed:   16.3s finished\n"
     ]
    },
    {
     "name": "stdout",
     "output_type": "stream",
     "text": [
      "best score: 0.6204819277108434\n",
      "Fitting 10 folds for each of 12 candidates, totalling 120 fits\n"
     ]
    },
    {
     "name": "stderr",
     "output_type": "stream",
     "text": [
      "[Parallel(n_jobs=1)]: Using backend SequentialBackend with 1 concurrent workers.\n",
      "[Parallel(n_jobs=1)]: Done 120 out of 120 | elapsed:   14.9s finished\n"
     ]
    },
    {
     "name": "stdout",
     "output_type": "stream",
     "text": [
      "best score: 0.6204819277108434\n",
      "Fitting 10 folds for each of 12 candidates, totalling 120 fits\n"
     ]
    },
    {
     "name": "stderr",
     "output_type": "stream",
     "text": [
      "[Parallel(n_jobs=1)]: Using backend SequentialBackend with 1 concurrent workers.\n",
      "[Parallel(n_jobs=1)]: Done 120 out of 120 | elapsed:   12.6s finished\n"
     ]
    },
    {
     "name": "stdout",
     "output_type": "stream",
     "text": [
      "best score: 0.6325301204819277\n",
      "Fitting 10 folds for each of 12 candidates, totalling 120 fits\n"
     ]
    },
    {
     "name": "stderr",
     "output_type": "stream",
     "text": [
      "[Parallel(n_jobs=1)]: Using backend SequentialBackend with 1 concurrent workers.\n",
      "[Parallel(n_jobs=1)]: Done 120 out of 120 | elapsed:   37.2s finished\n"
     ]
    },
    {
     "name": "stdout",
     "output_type": "stream",
     "text": [
      "best score: 0.6445783132530121\n",
      "Split: 1\n",
      "Split: 2\n",
      "Split: 3\n",
      "Split: 4\n",
      "Split: 5\n",
      "Split: 6\n",
      "Split: 7\n",
      "Split: 8\n",
      "Split: 9\n",
      "Split: 10\n",
      "Training Testing Accuracy for n_games=3 team=13 : 53.45% (9.46%)\n",
      "(188, 572)\n",
      "(188, 1)\n",
      "X_train shape: (169, 991)\n",
      "X_test shape: (19, 991)\n",
      "Fitting 10 folds for each of 12 candidates, totalling 120 fits\n"
     ]
    },
    {
     "name": "stderr",
     "output_type": "stream",
     "text": [
      "[Parallel(n_jobs=1)]: Using backend SequentialBackend with 1 concurrent workers.\n",
      "[Parallel(n_jobs=1)]: Done 120 out of 120 | elapsed:   16.1s finished\n"
     ]
    },
    {
     "name": "stdout",
     "output_type": "stream",
     "text": [
      "best score: 0.6153846153846154\n",
      "Fitting 10 folds for each of 12 candidates, totalling 120 fits\n"
     ]
    },
    {
     "name": "stderr",
     "output_type": "stream",
     "text": [
      "[Parallel(n_jobs=1)]: Using backend SequentialBackend with 1 concurrent workers.\n",
      "[Parallel(n_jobs=1)]: Done 120 out of 120 | elapsed:   26.5s finished\n"
     ]
    },
    {
     "name": "stdout",
     "output_type": "stream",
     "text": [
      "best score: 0.6331360946745562\n",
      "Fitting 10 folds for each of 12 candidates, totalling 120 fits\n"
     ]
    },
    {
     "name": "stderr",
     "output_type": "stream",
     "text": [
      "[Parallel(n_jobs=1)]: Using backend SequentialBackend with 1 concurrent workers.\n",
      "[Parallel(n_jobs=1)]: Done 120 out of 120 | elapsed:   14.9s finished\n"
     ]
    },
    {
     "name": "stdout",
     "output_type": "stream",
     "text": [
      "best score: 0.6331360946745562\n",
      "Fitting 10 folds for each of 12 candidates, totalling 120 fits\n"
     ]
    },
    {
     "name": "stderr",
     "output_type": "stream",
     "text": [
      "[Parallel(n_jobs=1)]: Using backend SequentialBackend with 1 concurrent workers.\n",
      "[Parallel(n_jobs=1)]: Done 120 out of 120 | elapsed:   14.7s finished\n"
     ]
    },
    {
     "name": "stdout",
     "output_type": "stream",
     "text": [
      "best score: 0.6331360946745562\n",
      "Fitting 10 folds for each of 12 candidates, totalling 120 fits\n"
     ]
    },
    {
     "name": "stderr",
     "output_type": "stream",
     "text": [
      "[Parallel(n_jobs=1)]: Using backend SequentialBackend with 1 concurrent workers.\n",
      "[Parallel(n_jobs=1)]: Done 120 out of 120 | elapsed:   17.6s finished\n"
     ]
    },
    {
     "name": "stdout",
     "output_type": "stream",
     "text": [
      "best score: 0.6331360946745562\n",
      "Split: 1\n",
      "Split: 2\n",
      "Split: 3\n",
      "Split: 4\n",
      "Split: 5\n",
      "Split: 6\n",
      "Split: 7\n",
      "Split: 8\n",
      "Split: 9\n",
      "Split: 10\n",
      "Training Testing Accuracy for n_games=3 team=14 : 60.58% (5.27%)\n",
      "(177, 572)\n",
      "(177, 1)\n",
      "X_train shape: (159, 987)\n",
      "X_test shape: (18, 987)\n",
      "Fitting 10 folds for each of 12 candidates, totalling 120 fits\n"
     ]
    },
    {
     "name": "stderr",
     "output_type": "stream",
     "text": [
      "[Parallel(n_jobs=1)]: Using backend SequentialBackend with 1 concurrent workers.\n",
      "[Parallel(n_jobs=1)]: Done 120 out of 120 | elapsed:   16.0s finished\n"
     ]
    },
    {
     "name": "stdout",
     "output_type": "stream",
     "text": [
      "best score: 0.6415094339622641\n",
      "Fitting 10 folds for each of 12 candidates, totalling 120 fits\n"
     ]
    },
    {
     "name": "stderr",
     "output_type": "stream",
     "text": [
      "[Parallel(n_jobs=1)]: Using backend SequentialBackend with 1 concurrent workers.\n",
      "[Parallel(n_jobs=1)]: Done 120 out of 120 | elapsed:   14.6s finished\n"
     ]
    },
    {
     "name": "stdout",
     "output_type": "stream",
     "text": [
      "best score: 0.6415094339622641\n",
      "Fitting 10 folds for each of 12 candidates, totalling 120 fits\n"
     ]
    },
    {
     "name": "stderr",
     "output_type": "stream",
     "text": [
      "[Parallel(n_jobs=1)]: Using backend SequentialBackend with 1 concurrent workers.\n",
      "[Parallel(n_jobs=1)]: Done 120 out of 120 | elapsed:   14.2s finished\n"
     ]
    },
    {
     "name": "stdout",
     "output_type": "stream",
     "text": [
      "best score: 0.6415094339622641\n",
      "Fitting 10 folds for each of 12 candidates, totalling 120 fits\n"
     ]
    },
    {
     "name": "stderr",
     "output_type": "stream",
     "text": [
      "[Parallel(n_jobs=1)]: Using backend SequentialBackend with 1 concurrent workers.\n",
      "[Parallel(n_jobs=1)]: Done 120 out of 120 | elapsed:   15.8s finished\n"
     ]
    },
    {
     "name": "stdout",
     "output_type": "stream",
     "text": [
      "best score: 0.6415094339622641\n",
      "Fitting 10 folds for each of 12 candidates, totalling 120 fits\n"
     ]
    },
    {
     "name": "stderr",
     "output_type": "stream",
     "text": [
      "[Parallel(n_jobs=1)]: Using backend SequentialBackend with 1 concurrent workers.\n",
      "[Parallel(n_jobs=1)]: Done 120 out of 120 | elapsed:   19.6s finished\n"
     ]
    },
    {
     "name": "stdout",
     "output_type": "stream",
     "text": [
      "best score: 0.6415094339622641\n",
      "Split: 1\n",
      "Split: 2\n",
      "Split: 3\n",
      "Split: 4\n",
      "Split: 5\n",
      "Split: 6\n",
      "Split: 7\n",
      "Split: 8\n",
      "Split: 9\n",
      "Split: 10\n",
      "Training Testing Accuracy for n_games=3 team=15 : 63.30% (2.29%)\n",
      "(193, 572)\n",
      "(193, 1)\n",
      "X_train shape: (173, 997)\n",
      "X_test shape: (20, 997)\n",
      "Fitting 10 folds for each of 12 candidates, totalling 120 fits\n"
     ]
    },
    {
     "name": "stderr",
     "output_type": "stream",
     "text": [
      "[Parallel(n_jobs=1)]: Using backend SequentialBackend with 1 concurrent workers.\n",
      "[Parallel(n_jobs=1)]: Done 120 out of 120 | elapsed:   16.2s finished\n"
     ]
    },
    {
     "name": "stdout",
     "output_type": "stream",
     "text": [
      "best score: 0.6184971098265896\n",
      "Fitting 10 folds for each of 12 candidates, totalling 120 fits\n"
     ]
    },
    {
     "name": "stderr",
     "output_type": "stream",
     "text": [
      "[Parallel(n_jobs=1)]: Using backend SequentialBackend with 1 concurrent workers.\n",
      "[Parallel(n_jobs=1)]: Done 120 out of 120 | elapsed:   13.4s finished\n"
     ]
    },
    {
     "name": "stdout",
     "output_type": "stream",
     "text": [
      "best score: 0.630057803468208\n",
      "Fitting 10 folds for each of 12 candidates, totalling 120 fits\n"
     ]
    },
    {
     "name": "stderr",
     "output_type": "stream",
     "text": [
      "[Parallel(n_jobs=1)]: Using backend SequentialBackend with 1 concurrent workers.\n",
      "[Parallel(n_jobs=1)]: Done 120 out of 120 | elapsed:   15.6s finished\n"
     ]
    },
    {
     "name": "stdout",
     "output_type": "stream",
     "text": [
      "best score: 0.6416184971098265\n",
      "Fitting 10 folds for each of 12 candidates, totalling 120 fits\n"
     ]
    },
    {
     "name": "stderr",
     "output_type": "stream",
     "text": [
      "[Parallel(n_jobs=1)]: Using backend SequentialBackend with 1 concurrent workers.\n",
      "[Parallel(n_jobs=1)]: Done 120 out of 120 | elapsed:   14.7s finished\n"
     ]
    },
    {
     "name": "stdout",
     "output_type": "stream",
     "text": [
      "best score: 0.6416184971098265\n",
      "Fitting 10 folds for each of 12 candidates, totalling 120 fits\n"
     ]
    },
    {
     "name": "stderr",
     "output_type": "stream",
     "text": [
      "[Parallel(n_jobs=1)]: Using backend SequentialBackend with 1 concurrent workers.\n",
      "[Parallel(n_jobs=1)]: Done 120 out of 120 | elapsed:   24.8s finished\n"
     ]
    },
    {
     "name": "stdout",
     "output_type": "stream",
     "text": [
      "best score: 0.6416184971098265\n",
      "Split: 1\n",
      "Split: 2\n",
      "Split: 3\n",
      "Split: 4\n",
      "Split: 5\n",
      "Split: 6\n",
      "Split: 7\n",
      "Split: 8\n",
      "Split: 9\n",
      "Split: 10\n",
      "Training Testing Accuracy for n_games=3 team=16 : 64.74% (2.37%)\n",
      "(188, 572)\n",
      "(188, 1)\n",
      "X_train shape: (169, 995)\n",
      "X_test shape: (19, 995)\n",
      "Fitting 10 folds for each of 12 candidates, totalling 120 fits\n"
     ]
    },
    {
     "name": "stderr",
     "output_type": "stream",
     "text": [
      "[Parallel(n_jobs=1)]: Using backend SequentialBackend with 1 concurrent workers.\n",
      "[Parallel(n_jobs=1)]: Done 120 out of 120 | elapsed:   15.8s finished\n"
     ]
    },
    {
     "name": "stdout",
     "output_type": "stream",
     "text": [
      "best score: 0.6390532544378699\n",
      "Fitting 10 folds for each of 12 candidates, totalling 120 fits\n"
     ]
    },
    {
     "name": "stderr",
     "output_type": "stream",
     "text": [
      "[Parallel(n_jobs=1)]: Using backend SequentialBackend with 1 concurrent workers.\n",
      "[Parallel(n_jobs=1)]: Done 120 out of 120 | elapsed:   16.2s finished\n"
     ]
    },
    {
     "name": "stdout",
     "output_type": "stream",
     "text": [
      "best score: 0.6390532544378699\n",
      "Fitting 10 folds for each of 12 candidates, totalling 120 fits\n"
     ]
    },
    {
     "name": "stderr",
     "output_type": "stream",
     "text": [
      "[Parallel(n_jobs=1)]: Using backend SequentialBackend with 1 concurrent workers.\n",
      "[Parallel(n_jobs=1)]: Done 120 out of 120 | elapsed:   13.4s finished\n"
     ]
    },
    {
     "name": "stdout",
     "output_type": "stream",
     "text": [
      "best score: 0.6390532544378699\n",
      "Fitting 10 folds for each of 12 candidates, totalling 120 fits\n"
     ]
    },
    {
     "name": "stderr",
     "output_type": "stream",
     "text": [
      "[Parallel(n_jobs=1)]: Using backend SequentialBackend with 1 concurrent workers.\n",
      "[Parallel(n_jobs=1)]: Done 120 out of 120 | elapsed:   28.8s finished\n"
     ]
    },
    {
     "name": "stdout",
     "output_type": "stream",
     "text": [
      "best score: 0.6390532544378699\n",
      "Fitting 10 folds for each of 12 candidates, totalling 120 fits\n"
     ]
    },
    {
     "name": "stderr",
     "output_type": "stream",
     "text": [
      "[Parallel(n_jobs=1)]: Using backend SequentialBackend with 1 concurrent workers.\n",
      "[Parallel(n_jobs=1)]: Done 120 out of 120 | elapsed:   29.6s finished\n"
     ]
    },
    {
     "name": "stdout",
     "output_type": "stream",
     "text": [
      "best score: 0.6390532544378699\n",
      "Split: 1\n",
      "Split: 2\n",
      "Split: 3\n",
      "Split: 4\n",
      "Split: 5\n",
      "Split: 6\n",
      "Split: 7\n",
      "Split: 8\n",
      "Split: 9\n",
      "Split: 10\n",
      "Training Testing Accuracy for n_games=3 team=17 : 63.33% (11.54%)\n",
      "(187, 572)\n",
      "(187, 1)\n",
      "X_train shape: (168, 1005)\n",
      "X_test shape: (19, 1005)\n",
      "Fitting 10 folds for each of 12 candidates, totalling 120 fits\n"
     ]
    },
    {
     "name": "stderr",
     "output_type": "stream",
     "text": [
      "[Parallel(n_jobs=1)]: Using backend SequentialBackend with 1 concurrent workers.\n",
      "[Parallel(n_jobs=1)]: Done 120 out of 120 | elapsed:   16.4s finished\n"
     ]
    },
    {
     "name": "stdout",
     "output_type": "stream",
     "text": [
      "best score: 0.5476190476190477\n",
      "Fitting 10 folds for each of 12 candidates, totalling 120 fits\n"
     ]
    },
    {
     "name": "stderr",
     "output_type": "stream",
     "text": [
      "[Parallel(n_jobs=1)]: Using backend SequentialBackend with 1 concurrent workers.\n",
      "[Parallel(n_jobs=1)]: Done 120 out of 120 | elapsed:   21.5s finished\n"
     ]
    },
    {
     "name": "stdout",
     "output_type": "stream",
     "text": [
      "best score: 0.5476190476190477\n",
      "Fitting 10 folds for each of 12 candidates, totalling 120 fits\n"
     ]
    },
    {
     "name": "stderr",
     "output_type": "stream",
     "text": [
      "[Parallel(n_jobs=1)]: Using backend SequentialBackend with 1 concurrent workers.\n",
      "[Parallel(n_jobs=1)]: Done 120 out of 120 | elapsed:   32.2s finished\n"
     ]
    },
    {
     "name": "stdout",
     "output_type": "stream",
     "text": [
      "best score: 0.5476190476190477\n",
      "Fitting 10 folds for each of 12 candidates, totalling 120 fits\n"
     ]
    },
    {
     "name": "stderr",
     "output_type": "stream",
     "text": [
      "[Parallel(n_jobs=1)]: Using backend SequentialBackend with 1 concurrent workers.\n",
      "[Parallel(n_jobs=1)]: Done 120 out of 120 | elapsed:   24.6s finished\n"
     ]
    },
    {
     "name": "stdout",
     "output_type": "stream",
     "text": [
      "best score: 0.5476190476190477\n",
      "Fitting 10 folds for each of 12 candidates, totalling 120 fits\n"
     ]
    },
    {
     "name": "stderr",
     "output_type": "stream",
     "text": [
      "[Parallel(n_jobs=1)]: Using backend SequentialBackend with 1 concurrent workers.\n",
      "[Parallel(n_jobs=1)]: Done 120 out of 120 | elapsed:   23.7s finished\n"
     ]
    },
    {
     "name": "stdout",
     "output_type": "stream",
     "text": [
      "best score: 0.5476190476190477\n",
      "Split: 1\n",
      "Split: 2\n",
      "Split: 3\n",
      "Split: 4\n",
      "Split: 5\n",
      "Split: 6\n",
      "Split: 7\n",
      "Split: 8\n",
      "Split: 9\n",
      "Split: 10\n",
      "Training Testing Accuracy for n_games=3 team=18 : 53.63% (12.69%)\n",
      "Accuracy for Team Models for n_games= 3 : 60.66% (6.41%)\n",
      "(182, 758)\n",
      "(182, 1)\n",
      "X_train shape: (163, 1299)\n",
      "X_test shape: (19, 1299)\n",
      "Fitting 10 folds for each of 12 candidates, totalling 120 fits\n"
     ]
    },
    {
     "name": "stderr",
     "output_type": "stream",
     "text": [
      "[Parallel(n_jobs=1)]: Using backend SequentialBackend with 1 concurrent workers.\n",
      "[Parallel(n_jobs=1)]: Done 120 out of 120 | elapsed:   20.1s finished\n"
     ]
    },
    {
     "name": "stdout",
     "output_type": "stream",
     "text": [
      "best score: 0.5644171779141104\n",
      "Fitting 10 folds for each of 12 candidates, totalling 120 fits\n"
     ]
    },
    {
     "name": "stderr",
     "output_type": "stream",
     "text": [
      "[Parallel(n_jobs=1)]: Using backend SequentialBackend with 1 concurrent workers.\n",
      "[Parallel(n_jobs=1)]: Done 120 out of 120 | elapsed:   26.7s finished\n"
     ]
    },
    {
     "name": "stdout",
     "output_type": "stream",
     "text": [
      "best score: 0.5644171779141104\n",
      "Fitting 10 folds for each of 12 candidates, totalling 120 fits\n"
     ]
    },
    {
     "name": "stderr",
     "output_type": "stream",
     "text": [
      "[Parallel(n_jobs=1)]: Using backend SequentialBackend with 1 concurrent workers.\n",
      "[Parallel(n_jobs=1)]: Done 120 out of 120 | elapsed:   33.8s finished\n"
     ]
    },
    {
     "name": "stdout",
     "output_type": "stream",
     "text": [
      "best score: 0.5705521472392638\n",
      "Fitting 10 folds for each of 12 candidates, totalling 120 fits\n"
     ]
    },
    {
     "name": "stderr",
     "output_type": "stream",
     "text": [
      "[Parallel(n_jobs=1)]: Using backend SequentialBackend with 1 concurrent workers.\n",
      "[Parallel(n_jobs=1)]: Done 120 out of 120 | elapsed:   26.6s finished\n"
     ]
    },
    {
     "name": "stdout",
     "output_type": "stream",
     "text": [
      "best score: 0.6319018404907976\n",
      "Fitting 10 folds for each of 12 candidates, totalling 120 fits\n"
     ]
    },
    {
     "name": "stderr",
     "output_type": "stream",
     "text": [
      "[Parallel(n_jobs=1)]: Using backend SequentialBackend with 1 concurrent workers.\n",
      "[Parallel(n_jobs=1)]: Done 120 out of 120 | elapsed:   14.8s finished\n"
     ]
    },
    {
     "name": "stdout",
     "output_type": "stream",
     "text": [
      "best score: 0.6319018404907976\n",
      "Split: 1\n",
      "Split: 2\n",
      "Split: 3\n",
      "Split: 4\n",
      "Split: 5\n",
      "Split: 6\n",
      "Split: 7\n",
      "Split: 8\n",
      "Split: 9\n",
      "Split: 10\n",
      "Training Testing Accuracy for n_games=4 team=1 : 58.30% (6.60%)\n",
      "(180, 758)\n",
      "(180, 1)\n",
      "X_train shape: (162, 1285)\n",
      "X_test shape: (18, 1285)\n",
      "Fitting 10 folds for each of 12 candidates, totalling 120 fits\n"
     ]
    },
    {
     "name": "stderr",
     "output_type": "stream",
     "text": [
      "[Parallel(n_jobs=1)]: Using backend SequentialBackend with 1 concurrent workers.\n",
      "[Parallel(n_jobs=1)]: Done 120 out of 120 | elapsed:   19.5s finished\n"
     ]
    },
    {
     "name": "stdout",
     "output_type": "stream",
     "text": [
      "best score: 0.6666666666666666\n",
      "Fitting 10 folds for each of 12 candidates, totalling 120 fits\n"
     ]
    },
    {
     "name": "stderr",
     "output_type": "stream",
     "text": [
      "[Parallel(n_jobs=1)]: Using backend SequentialBackend with 1 concurrent workers.\n",
      "[Parallel(n_jobs=1)]: Done 120 out of 120 | elapsed:   38.9s finished\n"
     ]
    },
    {
     "name": "stdout",
     "output_type": "stream",
     "text": [
      "best score: 0.6666666666666666\n",
      "Fitting 10 folds for each of 12 candidates, totalling 120 fits\n"
     ]
    },
    {
     "name": "stderr",
     "output_type": "stream",
     "text": [
      "[Parallel(n_jobs=1)]: Using backend SequentialBackend with 1 concurrent workers.\n",
      "[Parallel(n_jobs=1)]: Done 120 out of 120 | elapsed:   29.5s finished\n"
     ]
    },
    {
     "name": "stdout",
     "output_type": "stream",
     "text": [
      "best score: 0.6790123456790124\n",
      "Fitting 10 folds for each of 12 candidates, totalling 120 fits\n"
     ]
    },
    {
     "name": "stderr",
     "output_type": "stream",
     "text": [
      "[Parallel(n_jobs=1)]: Using backend SequentialBackend with 1 concurrent workers.\n",
      "[Parallel(n_jobs=1)]: Done 120 out of 120 | elapsed:   24.3s finished\n"
     ]
    },
    {
     "name": "stdout",
     "output_type": "stream",
     "text": [
      "best score: 0.6790123456790124\n",
      "Fitting 10 folds for each of 12 candidates, totalling 120 fits\n"
     ]
    },
    {
     "name": "stderr",
     "output_type": "stream",
     "text": [
      "[Parallel(n_jobs=1)]: Using backend SequentialBackend with 1 concurrent workers.\n",
      "[Parallel(n_jobs=1)]: Done 120 out of 120 | elapsed:   18.2s finished\n"
     ]
    },
    {
     "name": "stdout",
     "output_type": "stream",
     "text": [
      "best score: 0.6790123456790124\n",
      "Split: 1\n",
      "Split: 2\n",
      "Split: 3\n",
      "Split: 4\n",
      "Split: 5\n",
      "Split: 6\n",
      "Split: 7\n",
      "Split: 8\n",
      "Split: 9\n",
      "Split: 10\n",
      "Training Testing Accuracy for n_games=4 team=2 : 64.44% (6.19%)\n",
      "(178, 758)\n",
      "(178, 1)\n",
      "X_train shape: (160, 1285)\n",
      "X_test shape: (18, 1285)\n",
      "Fitting 10 folds for each of 12 candidates, totalling 120 fits\n"
     ]
    },
    {
     "name": "stderr",
     "output_type": "stream",
     "text": [
      "[Parallel(n_jobs=1)]: Using backend SequentialBackend with 1 concurrent workers.\n",
      "[Parallel(n_jobs=1)]: Done 120 out of 120 | elapsed:   19.6s finished\n"
     ]
    },
    {
     "name": "stdout",
     "output_type": "stream",
     "text": [
      "best score: 0.675\n",
      "Fitting 10 folds for each of 12 candidates, totalling 120 fits\n"
     ]
    },
    {
     "name": "stderr",
     "output_type": "stream",
     "text": [
      "[Parallel(n_jobs=1)]: Using backend SequentialBackend with 1 concurrent workers.\n",
      "[Parallel(n_jobs=1)]: Done 120 out of 120 | elapsed:   15.9s finished\n"
     ]
    },
    {
     "name": "stdout",
     "output_type": "stream",
     "text": [
      "best score: 0.675\n",
      "Fitting 10 folds for each of 12 candidates, totalling 120 fits\n"
     ]
    },
    {
     "name": "stderr",
     "output_type": "stream",
     "text": [
      "[Parallel(n_jobs=1)]: Using backend SequentialBackend with 1 concurrent workers.\n",
      "[Parallel(n_jobs=1)]: Done 120 out of 120 | elapsed:   14.2s finished\n"
     ]
    },
    {
     "name": "stdout",
     "output_type": "stream",
     "text": [
      "best score: 0.675\n",
      "Fitting 10 folds for each of 12 candidates, totalling 120 fits\n"
     ]
    },
    {
     "name": "stderr",
     "output_type": "stream",
     "text": [
      "[Parallel(n_jobs=1)]: Using backend SequentialBackend with 1 concurrent workers.\n",
      "[Parallel(n_jobs=1)]: Done 120 out of 120 | elapsed:   16.9s finished\n"
     ]
    },
    {
     "name": "stdout",
     "output_type": "stream",
     "text": [
      "best score: 0.675\n",
      "Fitting 10 folds for each of 12 candidates, totalling 120 fits\n"
     ]
    },
    {
     "name": "stderr",
     "output_type": "stream",
     "text": [
      "[Parallel(n_jobs=1)]: Using backend SequentialBackend with 1 concurrent workers.\n",
      "[Parallel(n_jobs=1)]: Done 120 out of 120 | elapsed:   14.8s finished\n"
     ]
    },
    {
     "name": "stdout",
     "output_type": "stream",
     "text": [
      "best score: 0.675\n",
      "Split: 1\n",
      "Split: 2\n",
      "Split: 3\n",
      "Split: 4\n",
      "Split: 5\n",
      "Split: 6\n",
      "Split: 7\n",
      "Split: 8\n",
      "Split: 9\n",
      "Split: 10\n",
      "Training Testing Accuracy for n_games=4 team=3 : 68.56% (2.38%)\n",
      "(183, 758)\n",
      "(183, 1)\n",
      "X_train shape: (164, 1286)\n",
      "X_test shape: (19, 1286)\n",
      "Fitting 10 folds for each of 12 candidates, totalling 120 fits\n"
     ]
    },
    {
     "name": "stderr",
     "output_type": "stream",
     "text": [
      "[Parallel(n_jobs=1)]: Using backend SequentialBackend with 1 concurrent workers.\n",
      "[Parallel(n_jobs=1)]: Done 120 out of 120 | elapsed:   19.8s finished\n"
     ]
    },
    {
     "name": "stdout",
     "output_type": "stream",
     "text": [
      "best score: 0.5792682926829268\n",
      "Fitting 10 folds for each of 12 candidates, totalling 120 fits\n"
     ]
    },
    {
     "name": "stderr",
     "output_type": "stream",
     "text": [
      "[Parallel(n_jobs=1)]: Using backend SequentialBackend with 1 concurrent workers.\n",
      "[Parallel(n_jobs=1)]: Done 120 out of 120 | elapsed:   16.3s finished\n"
     ]
    },
    {
     "name": "stdout",
     "output_type": "stream",
     "text": [
      "best score: 0.5792682926829268\n",
      "Fitting 10 folds for each of 12 candidates, totalling 120 fits\n"
     ]
    },
    {
     "name": "stderr",
     "output_type": "stream",
     "text": [
      "[Parallel(n_jobs=1)]: Using backend SequentialBackend with 1 concurrent workers.\n",
      "[Parallel(n_jobs=1)]: Done 120 out of 120 | elapsed:   22.9s finished\n"
     ]
    },
    {
     "name": "stdout",
     "output_type": "stream",
     "text": [
      "best score: 0.5792682926829268\n",
      "Fitting 10 folds for each of 12 candidates, totalling 120 fits\n"
     ]
    },
    {
     "name": "stderr",
     "output_type": "stream",
     "text": [
      "[Parallel(n_jobs=1)]: Using backend SequentialBackend with 1 concurrent workers.\n",
      "[Parallel(n_jobs=1)]: Done 120 out of 120 | elapsed:   50.6s finished\n"
     ]
    },
    {
     "name": "stdout",
     "output_type": "stream",
     "text": [
      "best score: 0.6036585365853658\n",
      "Fitting 10 folds for each of 12 candidates, totalling 120 fits\n"
     ]
    },
    {
     "name": "stderr",
     "output_type": "stream",
     "text": [
      "[Parallel(n_jobs=1)]: Using backend SequentialBackend with 1 concurrent workers.\n",
      "[Parallel(n_jobs=1)]: Done 120 out of 120 | elapsed:  1.6min finished\n"
     ]
    },
    {
     "name": "stdout",
     "output_type": "stream",
     "text": [
      "best score: 0.6097560975609756\n",
      "Split: 1\n",
      "Split: 2\n",
      "Split: 3\n",
      "Split: 4\n",
      "Split: 5\n",
      "Split: 6\n",
      "Split: 7\n",
      "Split: 8\n",
      "Split: 9\n",
      "Split: 10\n",
      "Training Testing Accuracy for n_games=4 team=4 : 49.71% (6.39%)\n",
      "(180, 758)\n",
      "(180, 1)\n",
      "X_train shape: (162, 1278)\n",
      "X_test shape: (18, 1278)\n",
      "Fitting 10 folds for each of 12 candidates, totalling 120 fits\n"
     ]
    },
    {
     "name": "stderr",
     "output_type": "stream",
     "text": [
      "[Parallel(n_jobs=1)]: Using backend SequentialBackend with 1 concurrent workers.\n",
      "[Parallel(n_jobs=1)]: Done 120 out of 120 | elapsed:   19.5s finished\n"
     ]
    },
    {
     "name": "stdout",
     "output_type": "stream",
     "text": [
      "best score: 0.5740740740740741\n",
      "Fitting 10 folds for each of 12 candidates, totalling 120 fits\n"
     ]
    },
    {
     "name": "stderr",
     "output_type": "stream",
     "text": [
      "[Parallel(n_jobs=1)]: Using backend SequentialBackend with 1 concurrent workers.\n",
      "[Parallel(n_jobs=1)]: Done 120 out of 120 | elapsed:   16.0s finished\n"
     ]
    },
    {
     "name": "stdout",
     "output_type": "stream",
     "text": [
      "best score: 0.5925925925925926\n",
      "Fitting 10 folds for each of 12 candidates, totalling 120 fits\n"
     ]
    },
    {
     "name": "stderr",
     "output_type": "stream",
     "text": [
      "[Parallel(n_jobs=1)]: Using backend SequentialBackend with 1 concurrent workers.\n",
      "[Parallel(n_jobs=1)]: Done 120 out of 120 | elapsed:   15.0s finished\n"
     ]
    },
    {
     "name": "stdout",
     "output_type": "stream",
     "text": [
      "best score: 0.5925925925925926\n",
      "Fitting 10 folds for each of 12 candidates, totalling 120 fits\n"
     ]
    },
    {
     "name": "stderr",
     "output_type": "stream",
     "text": [
      "[Parallel(n_jobs=1)]: Using backend SequentialBackend with 1 concurrent workers.\n",
      "[Parallel(n_jobs=1)]: Done 120 out of 120 | elapsed:   15.9s finished\n"
     ]
    },
    {
     "name": "stdout",
     "output_type": "stream",
     "text": [
      "best score: 0.5925925925925926\n",
      "Fitting 10 folds for each of 12 candidates, totalling 120 fits\n"
     ]
    },
    {
     "name": "stderr",
     "output_type": "stream",
     "text": [
      "[Parallel(n_jobs=1)]: Using backend SequentialBackend with 1 concurrent workers.\n",
      "[Parallel(n_jobs=1)]: Done 120 out of 120 | elapsed:   16.5s finished\n"
     ]
    },
    {
     "name": "stdout",
     "output_type": "stream",
     "text": [
      "best score: 0.5925925925925926\n",
      "Split: 1\n",
      "Split: 2\n",
      "Split: 3\n",
      "Split: 4\n",
      "Split: 5\n",
      "Split: 6\n",
      "Split: 7\n",
      "Split: 8\n",
      "Split: 9\n",
      "Split: 10\n",
      "Training Testing Accuracy for n_games=4 team=5 : 53.89% (11.67%)\n",
      "(183, 758)\n",
      "(183, 1)\n",
      "X_train shape: (164, 1297)\n",
      "X_test shape: (19, 1297)\n",
      "Fitting 10 folds for each of 12 candidates, totalling 120 fits\n"
     ]
    },
    {
     "name": "stderr",
     "output_type": "stream",
     "text": [
      "[Parallel(n_jobs=1)]: Using backend SequentialBackend with 1 concurrent workers.\n",
      "[Parallel(n_jobs=1)]: Done 120 out of 120 | elapsed:   20.0s finished\n"
     ]
    },
    {
     "name": "stdout",
     "output_type": "stream",
     "text": [
      "best score: 0.5670731707317073\n",
      "Fitting 10 folds for each of 12 candidates, totalling 120 fits\n"
     ]
    },
    {
     "name": "stderr",
     "output_type": "stream",
     "text": [
      "[Parallel(n_jobs=1)]: Using backend SequentialBackend with 1 concurrent workers.\n",
      "[Parallel(n_jobs=1)]: Done 120 out of 120 | elapsed:   29.9s finished\n"
     ]
    },
    {
     "name": "stdout",
     "output_type": "stream",
     "text": [
      "best score: 0.573170731707317\n",
      "Fitting 10 folds for each of 12 candidates, totalling 120 fits\n"
     ]
    },
    {
     "name": "stderr",
     "output_type": "stream",
     "text": [
      "[Parallel(n_jobs=1)]: Using backend SequentialBackend with 1 concurrent workers.\n",
      "[Parallel(n_jobs=1)]: Done 120 out of 120 | elapsed:   20.5s finished\n"
     ]
    },
    {
     "name": "stdout",
     "output_type": "stream",
     "text": [
      "best score: 0.573170731707317\n",
      "Fitting 10 folds for each of 12 candidates, totalling 120 fits\n"
     ]
    },
    {
     "name": "stderr",
     "output_type": "stream",
     "text": [
      "[Parallel(n_jobs=1)]: Using backend SequentialBackend with 1 concurrent workers.\n",
      "[Parallel(n_jobs=1)]: Done 120 out of 120 | elapsed:   23.7s finished\n"
     ]
    },
    {
     "name": "stdout",
     "output_type": "stream",
     "text": [
      "best score: 0.573170731707317\n",
      "Fitting 10 folds for each of 12 candidates, totalling 120 fits\n"
     ]
    },
    {
     "name": "stderr",
     "output_type": "stream",
     "text": [
      "[Parallel(n_jobs=1)]: Using backend SequentialBackend with 1 concurrent workers.\n",
      "[Parallel(n_jobs=1)]: Done 120 out of 120 | elapsed:   22.2s finished\n"
     ]
    },
    {
     "name": "stdout",
     "output_type": "stream",
     "text": [
      "best score: 0.573170731707317\n",
      "Split: 1\n",
      "Split: 2\n",
      "Split: 3\n",
      "Split: 4\n",
      "Split: 5\n",
      "Split: 6\n",
      "Split: 7\n",
      "Split: 8\n",
      "Split: 9\n",
      "Split: 10\n",
      "Training Testing Accuracy for n_games=4 team=6 : 54.09% (8.89%)\n",
      "(192, 758)\n",
      "(192, 1)\n",
      "X_train shape: (172, 1287)\n",
      "X_test shape: (20, 1287)\n",
      "Fitting 10 folds for each of 12 candidates, totalling 120 fits\n"
     ]
    },
    {
     "name": "stderr",
     "output_type": "stream",
     "text": [
      "[Parallel(n_jobs=1)]: Using backend SequentialBackend with 1 concurrent workers.\n",
      "[Parallel(n_jobs=1)]: Done 120 out of 120 | elapsed:   20.0s finished\n"
     ]
    },
    {
     "name": "stdout",
     "output_type": "stream",
     "text": [
      "best score: 0.6802325581395349\n",
      "Fitting 10 folds for each of 12 candidates, totalling 120 fits\n"
     ]
    },
    {
     "name": "stderr",
     "output_type": "stream",
     "text": [
      "[Parallel(n_jobs=1)]: Using backend SequentialBackend with 1 concurrent workers.\n",
      "[Parallel(n_jobs=1)]: Done 120 out of 120 | elapsed:   16.9s finished\n"
     ]
    },
    {
     "name": "stdout",
     "output_type": "stream",
     "text": [
      "best score: 0.6802325581395349\n",
      "Fitting 10 folds for each of 12 candidates, totalling 120 fits\n"
     ]
    },
    {
     "name": "stderr",
     "output_type": "stream",
     "text": [
      "[Parallel(n_jobs=1)]: Using backend SequentialBackend with 1 concurrent workers.\n",
      "[Parallel(n_jobs=1)]: Done 120 out of 120 | elapsed:   43.1s finished\n"
     ]
    },
    {
     "name": "stdout",
     "output_type": "stream",
     "text": [
      "best score: 0.6802325581395349\n",
      "Fitting 10 folds for each of 12 candidates, totalling 120 fits\n"
     ]
    },
    {
     "name": "stderr",
     "output_type": "stream",
     "text": [
      "[Parallel(n_jobs=1)]: Using backend SequentialBackend with 1 concurrent workers.\n",
      "[Parallel(n_jobs=1)]: Done 120 out of 120 | elapsed:   21.2s finished\n"
     ]
    },
    {
     "name": "stdout",
     "output_type": "stream",
     "text": [
      "best score: 0.6802325581395349\n",
      "Fitting 10 folds for each of 12 candidates, totalling 120 fits\n"
     ]
    },
    {
     "name": "stderr",
     "output_type": "stream",
     "text": [
      "[Parallel(n_jobs=1)]: Using backend SequentialBackend with 1 concurrent workers.\n",
      "[Parallel(n_jobs=1)]: Done 120 out of 120 | elapsed:   18.0s finished\n"
     ]
    },
    {
     "name": "stdout",
     "output_type": "stream",
     "text": [
      "best score: 0.6802325581395349\n",
      "Split: 1\n",
      "Split: 2\n",
      "Split: 3\n",
      "Split: 4\n",
      "Split: 5\n",
      "Split: 6\n",
      "Split: 7\n",
      "Split: 8\n",
      "Split: 9\n",
      "Split: 10\n",
      "Training Testing Accuracy for n_games=4 team=7 : 63.50% (4.93%)\n",
      "(176, 758)\n",
      "(176, 1)\n",
      "X_train shape: (158, 1293)\n",
      "X_test shape: (18, 1293)\n",
      "Fitting 10 folds for each of 12 candidates, totalling 120 fits\n"
     ]
    },
    {
     "name": "stderr",
     "output_type": "stream",
     "text": [
      "[Parallel(n_jobs=1)]: Using backend SequentialBackend with 1 concurrent workers.\n",
      "[Parallel(n_jobs=1)]: Done 120 out of 120 | elapsed:   19.8s finished\n"
     ]
    },
    {
     "name": "stdout",
     "output_type": "stream",
     "text": [
      "best score: 0.7151898734177216\n",
      "Fitting 10 folds for each of 12 candidates, totalling 120 fits\n"
     ]
    },
    {
     "name": "stderr",
     "output_type": "stream",
     "text": [
      "[Parallel(n_jobs=1)]: Using backend SequentialBackend with 1 concurrent workers.\n",
      "[Parallel(n_jobs=1)]: Done 120 out of 120 | elapsed:   25.8s finished\n"
     ]
    },
    {
     "name": "stdout",
     "output_type": "stream",
     "text": [
      "best score: 0.7151898734177216\n",
      "Fitting 10 folds for each of 12 candidates, totalling 120 fits\n"
     ]
    },
    {
     "name": "stderr",
     "output_type": "stream",
     "text": [
      "[Parallel(n_jobs=1)]: Using backend SequentialBackend with 1 concurrent workers.\n",
      "[Parallel(n_jobs=1)]: Done 120 out of 120 | elapsed:   16.5s finished\n"
     ]
    },
    {
     "name": "stdout",
     "output_type": "stream",
     "text": [
      "best score: 0.7151898734177216\n",
      "Fitting 10 folds for each of 12 candidates, totalling 120 fits\n"
     ]
    },
    {
     "name": "stderr",
     "output_type": "stream",
     "text": [
      "[Parallel(n_jobs=1)]: Using backend SequentialBackend with 1 concurrent workers.\n",
      "[Parallel(n_jobs=1)]: Done 120 out of 120 | elapsed:   17.2s finished\n"
     ]
    },
    {
     "name": "stdout",
     "output_type": "stream",
     "text": [
      "best score: 0.7151898734177216\n",
      "Fitting 10 folds for each of 12 candidates, totalling 120 fits\n"
     ]
    },
    {
     "name": "stderr",
     "output_type": "stream",
     "text": [
      "[Parallel(n_jobs=1)]: Using backend SequentialBackend with 1 concurrent workers.\n",
      "[Parallel(n_jobs=1)]: Done 120 out of 120 | elapsed:   22.7s finished\n"
     ]
    },
    {
     "name": "stdout",
     "output_type": "stream",
     "text": [
      "best score: 0.7151898734177216\n",
      "Split: 1\n",
      "Split: 2\n",
      "Split: 3\n",
      "Split: 4\n",
      "Split: 5\n",
      "Split: 6\n",
      "Split: 7\n",
      "Split: 8\n",
      "Split: 9\n",
      "Split: 10\n",
      "Training Testing Accuracy for n_games=4 team=8 : 72.19% (4.59%)\n",
      "(189, 758)\n",
      "(189, 1)\n",
      "X_train shape: (170, 1300)\n",
      "X_test shape: (19, 1300)\n",
      "Fitting 10 folds for each of 12 candidates, totalling 120 fits\n"
     ]
    },
    {
     "name": "stderr",
     "output_type": "stream",
     "text": [
      "[Parallel(n_jobs=1)]: Using backend SequentialBackend with 1 concurrent workers.\n",
      "[Parallel(n_jobs=1)]: Done 120 out of 120 | elapsed:   20.1s finished\n"
     ]
    },
    {
     "name": "stdout",
     "output_type": "stream",
     "text": [
      "best score: 0.5941176470588235\n",
      "Fitting 10 folds for each of 12 candidates, totalling 120 fits\n"
     ]
    },
    {
     "name": "stderr",
     "output_type": "stream",
     "text": [
      "[Parallel(n_jobs=1)]: Using backend SequentialBackend with 1 concurrent workers.\n",
      "[Parallel(n_jobs=1)]: Done 120 out of 120 | elapsed:   16.3s finished\n"
     ]
    },
    {
     "name": "stdout",
     "output_type": "stream",
     "text": [
      "best score: 0.5941176470588235\n",
      "Fitting 10 folds for each of 12 candidates, totalling 120 fits\n"
     ]
    },
    {
     "name": "stderr",
     "output_type": "stream",
     "text": [
      "[Parallel(n_jobs=1)]: Using backend SequentialBackend with 1 concurrent workers.\n",
      "[Parallel(n_jobs=1)]: Done 120 out of 120 | elapsed:   22.3s finished\n"
     ]
    },
    {
     "name": "stdout",
     "output_type": "stream",
     "text": [
      "best score: 0.6058823529411764\n",
      "Fitting 10 folds for each of 12 candidates, totalling 120 fits\n"
     ]
    },
    {
     "name": "stderr",
     "output_type": "stream",
     "text": [
      "[Parallel(n_jobs=1)]: Using backend SequentialBackend with 1 concurrent workers.\n",
      "[Parallel(n_jobs=1)]: Done 120 out of 120 | elapsed:   21.0s finished\n"
     ]
    },
    {
     "name": "stdout",
     "output_type": "stream",
     "text": [
      "best score: 0.6058823529411764\n",
      "Fitting 10 folds for each of 12 candidates, totalling 120 fits\n"
     ]
    },
    {
     "name": "stderr",
     "output_type": "stream",
     "text": [
      "[Parallel(n_jobs=1)]: Using backend SequentialBackend with 1 concurrent workers.\n",
      "[Parallel(n_jobs=1)]: Done 120 out of 120 | elapsed:   18.0s finished\n"
     ]
    },
    {
     "name": "stdout",
     "output_type": "stream",
     "text": [
      "best score: 0.6058823529411764\n",
      "Split: 1\n",
      "Split: 2\n",
      "Split: 3\n",
      "Split: 4\n",
      "Split: 5\n",
      "Split: 6\n",
      "Split: 7\n",
      "Split: 8\n",
      "Split: 9\n",
      "Split: 10\n",
      "Training Testing Accuracy for n_games=4 team=9 : 60.32% (10.29%)\n",
      "(190, 758)\n",
      "(190, 1)\n",
      "X_train shape: (171, 1293)\n",
      "X_test shape: (19, 1293)\n",
      "Fitting 10 folds for each of 12 candidates, totalling 120 fits\n"
     ]
    },
    {
     "name": "stderr",
     "output_type": "stream",
     "text": [
      "[Parallel(n_jobs=1)]: Using backend SequentialBackend with 1 concurrent workers.\n",
      "[Parallel(n_jobs=1)]: Done 120 out of 120 | elapsed:   19.8s finished\n"
     ]
    },
    {
     "name": "stdout",
     "output_type": "stream",
     "text": [
      "best score: 0.6491228070175439\n",
      "Fitting 10 folds for each of 12 candidates, totalling 120 fits\n"
     ]
    },
    {
     "name": "stderr",
     "output_type": "stream",
     "text": [
      "[Parallel(n_jobs=1)]: Using backend SequentialBackend with 1 concurrent workers.\n",
      "[Parallel(n_jobs=1)]: Done 120 out of 120 | elapsed:   23.2s finished\n"
     ]
    },
    {
     "name": "stdout",
     "output_type": "stream",
     "text": [
      "best score: 0.6491228070175439\n",
      "Fitting 10 folds for each of 12 candidates, totalling 120 fits\n"
     ]
    },
    {
     "name": "stderr",
     "output_type": "stream",
     "text": [
      "[Parallel(n_jobs=1)]: Using backend SequentialBackend with 1 concurrent workers.\n",
      "[Parallel(n_jobs=1)]: Done 120 out of 120 | elapsed:   16.3s finished\n"
     ]
    },
    {
     "name": "stdout",
     "output_type": "stream",
     "text": [
      "best score: 0.6608187134502924\n",
      "Fitting 10 folds for each of 12 candidates, totalling 120 fits\n"
     ]
    },
    {
     "name": "stderr",
     "output_type": "stream",
     "text": [
      "[Parallel(n_jobs=1)]: Using backend SequentialBackend with 1 concurrent workers.\n",
      "[Parallel(n_jobs=1)]: Done 120 out of 120 | elapsed:   17.1s finished\n"
     ]
    },
    {
     "name": "stdout",
     "output_type": "stream",
     "text": [
      "best score: 0.6608187134502924\n",
      "Fitting 10 folds for each of 12 candidates, totalling 120 fits\n"
     ]
    },
    {
     "name": "stderr",
     "output_type": "stream",
     "text": [
      "[Parallel(n_jobs=1)]: Using backend SequentialBackend with 1 concurrent workers.\n",
      "[Parallel(n_jobs=1)]: Done 120 out of 120 | elapsed:   13.2s finished\n"
     ]
    },
    {
     "name": "stdout",
     "output_type": "stream",
     "text": [
      "best score: 0.6608187134502924\n",
      "Split: 1\n",
      "Split: 2\n",
      "Split: 3\n",
      "Split: 4\n",
      "Split: 5\n",
      "Split: 6\n",
      "Split: 7\n",
      "Split: 8\n",
      "Split: 9\n",
      "Split: 10\n",
      "Training Testing Accuracy for n_games=4 team=10 : 66.32% (4.82%)\n",
      "(182, 758)\n",
      "(182, 1)\n",
      "X_train shape: (163, 1296)\n",
      "X_test shape: (19, 1296)\n",
      "Fitting 10 folds for each of 12 candidates, totalling 120 fits\n"
     ]
    },
    {
     "name": "stderr",
     "output_type": "stream",
     "text": [
      "[Parallel(n_jobs=1)]: Using backend SequentialBackend with 1 concurrent workers.\n",
      "[Parallel(n_jobs=1)]: Done 120 out of 120 | elapsed:   19.8s finished\n"
     ]
    },
    {
     "name": "stdout",
     "output_type": "stream",
     "text": [
      "best score: 0.6134969325153374\n",
      "Fitting 10 folds for each of 12 candidates, totalling 120 fits\n"
     ]
    },
    {
     "name": "stderr",
     "output_type": "stream",
     "text": [
      "[Parallel(n_jobs=1)]: Using backend SequentialBackend with 1 concurrent workers.\n",
      "[Parallel(n_jobs=1)]: Done 120 out of 120 | elapsed:   22.0s finished\n"
     ]
    },
    {
     "name": "stdout",
     "output_type": "stream",
     "text": [
      "best score: 0.6134969325153374\n",
      "Fitting 10 folds for each of 12 candidates, totalling 120 fits\n"
     ]
    },
    {
     "name": "stderr",
     "output_type": "stream",
     "text": [
      "[Parallel(n_jobs=1)]: Using backend SequentialBackend with 1 concurrent workers.\n",
      "[Parallel(n_jobs=1)]: Done 120 out of 120 | elapsed:   16.9s finished\n"
     ]
    },
    {
     "name": "stdout",
     "output_type": "stream",
     "text": [
      "best score: 0.6134969325153374\n",
      "Fitting 10 folds for each of 12 candidates, totalling 120 fits\n"
     ]
    },
    {
     "name": "stderr",
     "output_type": "stream",
     "text": [
      "[Parallel(n_jobs=1)]: Using backend SequentialBackend with 1 concurrent workers.\n",
      "[Parallel(n_jobs=1)]: Done 120 out of 120 | elapsed:   17.8s finished\n"
     ]
    },
    {
     "name": "stdout",
     "output_type": "stream",
     "text": [
      "best score: 0.6134969325153374\n",
      "Fitting 10 folds for each of 12 candidates, totalling 120 fits\n"
     ]
    },
    {
     "name": "stderr",
     "output_type": "stream",
     "text": [
      "[Parallel(n_jobs=1)]: Using backend SequentialBackend with 1 concurrent workers.\n",
      "[Parallel(n_jobs=1)]: Done 120 out of 120 | elapsed:   19.2s finished\n"
     ]
    },
    {
     "name": "stdout",
     "output_type": "stream",
     "text": [
      "best score: 0.6503067484662577\n",
      "Split: 1\n",
      "Split: 2\n",
      "Split: 3\n",
      "Split: 4\n",
      "Split: 5\n",
      "Split: 6\n",
      "Split: 7\n",
      "Split: 8\n",
      "Split: 9\n",
      "Split: 10\n",
      "Training Testing Accuracy for n_games=4 team=11 : 62.08% (12.01%)\n",
      "(183, 758)\n",
      "(183, 1)\n",
      "X_train shape: (164, 1289)\n",
      "X_test shape: (19, 1289)\n",
      "Fitting 10 folds for each of 12 candidates, totalling 120 fits\n"
     ]
    },
    {
     "name": "stderr",
     "output_type": "stream",
     "text": [
      "[Parallel(n_jobs=1)]: Using backend SequentialBackend with 1 concurrent workers.\n",
      "[Parallel(n_jobs=1)]: Done 120 out of 120 | elapsed:   20.1s finished\n"
     ]
    },
    {
     "name": "stdout",
     "output_type": "stream",
     "text": [
      "best score: 0.5670731707317073\n",
      "Fitting 10 folds for each of 12 candidates, totalling 120 fits\n"
     ]
    },
    {
     "name": "stderr",
     "output_type": "stream",
     "text": [
      "[Parallel(n_jobs=1)]: Using backend SequentialBackend with 1 concurrent workers.\n",
      "[Parallel(n_jobs=1)]: Done 120 out of 120 | elapsed:   17.2s finished\n"
     ]
    },
    {
     "name": "stdout",
     "output_type": "stream",
     "text": [
      "best score: 0.5670731707317073\n",
      "Fitting 10 folds for each of 12 candidates, totalling 120 fits\n"
     ]
    },
    {
     "name": "stderr",
     "output_type": "stream",
     "text": [
      "[Parallel(n_jobs=1)]: Using backend SequentialBackend with 1 concurrent workers.\n",
      "[Parallel(n_jobs=1)]: Done 120 out of 120 | elapsed:   18.1s finished\n"
     ]
    },
    {
     "name": "stdout",
     "output_type": "stream",
     "text": [
      "best score: 0.5670731707317073\n",
      "Fitting 10 folds for each of 12 candidates, totalling 120 fits\n"
     ]
    },
    {
     "name": "stderr",
     "output_type": "stream",
     "text": [
      "[Parallel(n_jobs=1)]: Using backend SequentialBackend with 1 concurrent workers.\n",
      "[Parallel(n_jobs=1)]: Done 120 out of 120 | elapsed:   31.5s finished\n"
     ]
    },
    {
     "name": "stdout",
     "output_type": "stream",
     "text": [
      "best score: 0.5670731707317073\n",
      "Fitting 10 folds for each of 12 candidates, totalling 120 fits\n"
     ]
    },
    {
     "name": "stderr",
     "output_type": "stream",
     "text": [
      "[Parallel(n_jobs=1)]: Using backend SequentialBackend with 1 concurrent workers.\n",
      "[Parallel(n_jobs=1)]: Done 120 out of 120 | elapsed:   14.4s finished\n"
     ]
    },
    {
     "name": "stdout",
     "output_type": "stream",
     "text": [
      "best score: 0.5670731707317073\n",
      "Split: 1\n",
      "Split: 2\n",
      "Split: 3\n",
      "Split: 4\n",
      "Split: 5\n",
      "Split: 6\n",
      "Split: 7\n",
      "Split: 8\n",
      "Split: 9\n",
      "Split: 10\n",
      "Training Testing Accuracy for n_games=4 team=12 : 53.01% (2.31%)\n",
      "(184, 758)\n",
      "(184, 1)\n",
      "X_train shape: (165, 1305)\n",
      "X_test shape: (19, 1305)\n",
      "Fitting 10 folds for each of 12 candidates, totalling 120 fits\n"
     ]
    },
    {
     "name": "stderr",
     "output_type": "stream",
     "text": [
      "[Parallel(n_jobs=1)]: Using backend SequentialBackend with 1 concurrent workers.\n",
      "[Parallel(n_jobs=1)]: Done 120 out of 120 | elapsed:   20.4s finished\n"
     ]
    },
    {
     "name": "stdout",
     "output_type": "stream",
     "text": [
      "best score: 0.6181818181818182\n",
      "Fitting 10 folds for each of 12 candidates, totalling 120 fits\n"
     ]
    },
    {
     "name": "stderr",
     "output_type": "stream",
     "text": [
      "[Parallel(n_jobs=1)]: Using backend SequentialBackend with 1 concurrent workers.\n",
      "[Parallel(n_jobs=1)]: Done 120 out of 120 | elapsed:   17.1s finished\n"
     ]
    },
    {
     "name": "stdout",
     "output_type": "stream",
     "text": [
      "best score: 0.6181818181818182\n",
      "Fitting 10 folds for each of 12 candidates, totalling 120 fits\n"
     ]
    },
    {
     "name": "stderr",
     "output_type": "stream",
     "text": [
      "[Parallel(n_jobs=1)]: Using backend SequentialBackend with 1 concurrent workers.\n",
      "[Parallel(n_jobs=1)]: Done 120 out of 120 | elapsed:   19.0s finished\n"
     ]
    },
    {
     "name": "stdout",
     "output_type": "stream",
     "text": [
      "best score: 0.6181818181818182\n",
      "Fitting 10 folds for each of 12 candidates, totalling 120 fits\n"
     ]
    },
    {
     "name": "stderr",
     "output_type": "stream",
     "text": [
      "[Parallel(n_jobs=1)]: Using backend SequentialBackend with 1 concurrent workers.\n",
      "[Parallel(n_jobs=1)]: Done 120 out of 120 | elapsed:   21.0s finished\n"
     ]
    },
    {
     "name": "stdout",
     "output_type": "stream",
     "text": [
      "best score: 0.6181818181818182\n",
      "Fitting 10 folds for each of 12 candidates, totalling 120 fits\n"
     ]
    },
    {
     "name": "stderr",
     "output_type": "stream",
     "text": [
      "[Parallel(n_jobs=1)]: Using backend SequentialBackend with 1 concurrent workers.\n",
      "[Parallel(n_jobs=1)]: Done 120 out of 120 | elapsed:   23.8s finished\n"
     ]
    },
    {
     "name": "stdout",
     "output_type": "stream",
     "text": [
      "best score: 0.6545454545454545\n",
      "Split: 1\n",
      "Split: 2\n",
      "Split: 3\n",
      "Split: 4\n",
      "Split: 5\n",
      "Split: 6\n",
      "Split: 7\n",
      "Split: 8\n",
      "Split: 9\n",
      "Split: 10\n",
      "Training Testing Accuracy for n_games=4 team=13 : 62.87% (12.55%)\n",
      "(187, 758)\n",
      "(187, 1)\n",
      "X_train shape: (168, 1292)\n",
      "X_test shape: (19, 1292)\n",
      "Fitting 10 folds for each of 12 candidates, totalling 120 fits\n"
     ]
    },
    {
     "name": "stderr",
     "output_type": "stream",
     "text": [
      "[Parallel(n_jobs=1)]: Using backend SequentialBackend with 1 concurrent workers.\n",
      "[Parallel(n_jobs=1)]: Done 120 out of 120 | elapsed:   20.0s finished\n"
     ]
    },
    {
     "name": "stdout",
     "output_type": "stream",
     "text": [
      "best score: 0.6547619047619048\n",
      "Fitting 10 folds for each of 12 candidates, totalling 120 fits\n"
     ]
    },
    {
     "name": "stderr",
     "output_type": "stream",
     "text": [
      "[Parallel(n_jobs=1)]: Using backend SequentialBackend with 1 concurrent workers.\n",
      "[Parallel(n_jobs=1)]: Done 120 out of 120 | elapsed:   21.7s finished\n"
     ]
    },
    {
     "name": "stdout",
     "output_type": "stream",
     "text": [
      "best score: 0.6547619047619048\n",
      "Fitting 10 folds for each of 12 candidates, totalling 120 fits\n"
     ]
    },
    {
     "name": "stderr",
     "output_type": "stream",
     "text": [
      "[Parallel(n_jobs=1)]: Using backend SequentialBackend with 1 concurrent workers.\n",
      "[Parallel(n_jobs=1)]: Done 120 out of 120 | elapsed:   15.6s finished\n"
     ]
    },
    {
     "name": "stdout",
     "output_type": "stream",
     "text": [
      "best score: 0.6547619047619048\n",
      "Fitting 10 folds for each of 12 candidates, totalling 120 fits\n"
     ]
    },
    {
     "name": "stderr",
     "output_type": "stream",
     "text": [
      "[Parallel(n_jobs=1)]: Using backend SequentialBackend with 1 concurrent workers.\n",
      "[Parallel(n_jobs=1)]: Done 120 out of 120 | elapsed:   19.3s finished\n"
     ]
    },
    {
     "name": "stdout",
     "output_type": "stream",
     "text": [
      "best score: 0.6547619047619048\n",
      "Fitting 10 folds for each of 12 candidates, totalling 120 fits\n"
     ]
    },
    {
     "name": "stderr",
     "output_type": "stream",
     "text": [
      "[Parallel(n_jobs=1)]: Using backend SequentialBackend with 1 concurrent workers.\n",
      "[Parallel(n_jobs=1)]: Done 120 out of 120 | elapsed:   16.7s finished\n"
     ]
    },
    {
     "name": "stdout",
     "output_type": "stream",
     "text": [
      "best score: 0.6547619047619048\n",
      "Split: 1\n",
      "Split: 2\n",
      "Split: 3\n",
      "Split: 4\n",
      "Split: 5\n",
      "Split: 6\n",
      "Split: 7\n",
      "Split: 8\n",
      "Split: 9\n",
      "Split: 10\n",
      "Training Testing Accuracy for n_games=4 team=14 : 58.80% (5.50%)\n",
      "(176, 758)\n",
      "(176, 1)\n",
      "X_train shape: (158, 1289)\n",
      "X_test shape: (18, 1289)\n",
      "Fitting 10 folds for each of 12 candidates, totalling 120 fits\n"
     ]
    },
    {
     "name": "stderr",
     "output_type": "stream",
     "text": [
      "[Parallel(n_jobs=1)]: Using backend SequentialBackend with 1 concurrent workers.\n",
      "[Parallel(n_jobs=1)]: Done 120 out of 120 | elapsed:   19.8s finished\n"
     ]
    },
    {
     "name": "stdout",
     "output_type": "stream",
     "text": [
      "best score: 0.6265822784810127\n",
      "Fitting 10 folds for each of 12 candidates, totalling 120 fits\n"
     ]
    },
    {
     "name": "stderr",
     "output_type": "stream",
     "text": [
      "[Parallel(n_jobs=1)]: Using backend SequentialBackend with 1 concurrent workers.\n",
      "[Parallel(n_jobs=1)]: Done 120 out of 120 | elapsed:   17.6s finished\n"
     ]
    },
    {
     "name": "stdout",
     "output_type": "stream",
     "text": [
      "best score: 0.6265822784810127\n",
      "Fitting 10 folds for each of 12 candidates, totalling 120 fits\n"
     ]
    },
    {
     "name": "stderr",
     "output_type": "stream",
     "text": [
      "[Parallel(n_jobs=1)]: Using backend SequentialBackend with 1 concurrent workers.\n",
      "[Parallel(n_jobs=1)]: Done 120 out of 120 | elapsed:   14.4s finished\n"
     ]
    },
    {
     "name": "stdout",
     "output_type": "stream",
     "text": [
      "best score: 0.6329113924050633\n",
      "Fitting 10 folds for each of 12 candidates, totalling 120 fits\n"
     ]
    },
    {
     "name": "stderr",
     "output_type": "stream",
     "text": [
      "[Parallel(n_jobs=1)]: Using backend SequentialBackend with 1 concurrent workers.\n",
      "[Parallel(n_jobs=1)]: Done 120 out of 120 | elapsed:   14.7s finished\n"
     ]
    },
    {
     "name": "stdout",
     "output_type": "stream",
     "text": [
      "best score: 0.6329113924050633\n",
      "Fitting 10 folds for each of 12 candidates, totalling 120 fits\n"
     ]
    },
    {
     "name": "stderr",
     "output_type": "stream",
     "text": [
      "[Parallel(n_jobs=1)]: Using backend SequentialBackend with 1 concurrent workers.\n",
      "[Parallel(n_jobs=1)]: Done 120 out of 120 | elapsed:   17.7s finished\n"
     ]
    },
    {
     "name": "stdout",
     "output_type": "stream",
     "text": [
      "best score: 0.6329113924050633\n",
      "Split: 1\n",
      "Split: 2\n",
      "Split: 3\n",
      "Split: 4\n",
      "Split: 5\n",
      "Split: 6\n",
      "Split: 7\n",
      "Split: 8\n",
      "Split: 9\n",
      "Split: 10\n",
      "Training Testing Accuracy for n_games=4 team=15 : 64.28% (7.98%)\n",
      "(192, 758)\n",
      "(192, 1)\n",
      "X_train shape: (172, 1299)\n",
      "X_test shape: (20, 1299)\n",
      "Fitting 10 folds for each of 12 candidates, totalling 120 fits\n"
     ]
    },
    {
     "name": "stderr",
     "output_type": "stream",
     "text": [
      "[Parallel(n_jobs=1)]: Using backend SequentialBackend with 1 concurrent workers.\n",
      "[Parallel(n_jobs=1)]: Done 120 out of 120 | elapsed:   20.0s finished\n"
     ]
    },
    {
     "name": "stdout",
     "output_type": "stream",
     "text": [
      "best score: 0.6627906976744186\n",
      "Fitting 10 folds for each of 12 candidates, totalling 120 fits\n"
     ]
    },
    {
     "name": "stderr",
     "output_type": "stream",
     "text": [
      "[Parallel(n_jobs=1)]: Using backend SequentialBackend with 1 concurrent workers.\n",
      "[Parallel(n_jobs=1)]: Done 120 out of 120 | elapsed:   38.1s finished\n"
     ]
    },
    {
     "name": "stdout",
     "output_type": "stream",
     "text": [
      "best score: 0.6686046511627907\n",
      "Fitting 10 folds for each of 12 candidates, totalling 120 fits\n"
     ]
    },
    {
     "name": "stderr",
     "output_type": "stream",
     "text": [
      "[Parallel(n_jobs=1)]: Using backend SequentialBackend with 1 concurrent workers.\n",
      "[Parallel(n_jobs=1)]: Done 120 out of 120 | elapsed:   21.2s finished\n"
     ]
    },
    {
     "name": "stdout",
     "output_type": "stream",
     "text": [
      "best score: 0.6686046511627907\n",
      "Fitting 10 folds for each of 12 candidates, totalling 120 fits\n"
     ]
    },
    {
     "name": "stderr",
     "output_type": "stream",
     "text": [
      "[Parallel(n_jobs=1)]: Using backend SequentialBackend with 1 concurrent workers.\n",
      "[Parallel(n_jobs=1)]: Done 120 out of 120 | elapsed:   39.0s finished\n"
     ]
    },
    {
     "name": "stdout",
     "output_type": "stream",
     "text": [
      "best score: 0.6686046511627907\n",
      "Fitting 10 folds for each of 12 candidates, totalling 120 fits\n"
     ]
    },
    {
     "name": "stderr",
     "output_type": "stream",
     "text": [
      "[Parallel(n_jobs=1)]: Using backend SequentialBackend with 1 concurrent workers.\n",
      "[Parallel(n_jobs=1)]: Done 120 out of 120 | elapsed:   18.4s finished\n"
     ]
    },
    {
     "name": "stdout",
     "output_type": "stream",
     "text": [
      "best score: 0.6686046511627907\n",
      "Split: 1\n",
      "Split: 2\n",
      "Split: 3\n",
      "Split: 4\n",
      "Split: 5\n",
      "Split: 6\n",
      "Split: 7\n",
      "Split: 8\n",
      "Split: 9\n",
      "Split: 10\n",
      "Training Testing Accuracy for n_games=4 team=16 : 63.05% (3.12%)\n",
      "(187, 758)\n",
      "(187, 1)\n",
      "X_train shape: (168, 1299)\n",
      "X_test shape: (19, 1299)\n",
      "Fitting 10 folds for each of 12 candidates, totalling 120 fits\n"
     ]
    },
    {
     "name": "stderr",
     "output_type": "stream",
     "text": [
      "[Parallel(n_jobs=1)]: Using backend SequentialBackend with 1 concurrent workers.\n",
      "[Parallel(n_jobs=1)]: Done 120 out of 120 | elapsed:   20.8s finished\n"
     ]
    },
    {
     "name": "stdout",
     "output_type": "stream",
     "text": [
      "best score: 0.6130952380952381\n",
      "Fitting 10 folds for each of 12 candidates, totalling 120 fits\n"
     ]
    },
    {
     "name": "stderr",
     "output_type": "stream",
     "text": [
      "[Parallel(n_jobs=1)]: Using backend SequentialBackend with 1 concurrent workers.\n",
      "[Parallel(n_jobs=1)]: Done 120 out of 120 | elapsed:   18.0s finished\n"
     ]
    },
    {
     "name": "stdout",
     "output_type": "stream",
     "text": [
      "best score: 0.6130952380952381\n",
      "Fitting 10 folds for each of 12 candidates, totalling 120 fits\n"
     ]
    },
    {
     "name": "stderr",
     "output_type": "stream",
     "text": [
      "[Parallel(n_jobs=1)]: Using backend SequentialBackend with 1 concurrent workers.\n",
      "[Parallel(n_jobs=1)]: Done 120 out of 120 | elapsed:   18.3s finished\n"
     ]
    },
    {
     "name": "stdout",
     "output_type": "stream",
     "text": [
      "best score: 0.6369047619047619\n",
      "Fitting 10 folds for each of 12 candidates, totalling 120 fits\n"
     ]
    },
    {
     "name": "stderr",
     "output_type": "stream",
     "text": [
      "[Parallel(n_jobs=1)]: Using backend SequentialBackend with 1 concurrent workers.\n",
      "[Parallel(n_jobs=1)]: Done 120 out of 120 | elapsed:   16.5s finished\n"
     ]
    },
    {
     "name": "stdout",
     "output_type": "stream",
     "text": [
      "best score: 0.6369047619047619\n",
      "Fitting 10 folds for each of 12 candidates, totalling 120 fits\n"
     ]
    },
    {
     "name": "stderr",
     "output_type": "stream",
     "text": [
      "[Parallel(n_jobs=1)]: Using backend SequentialBackend with 1 concurrent workers.\n",
      "[Parallel(n_jobs=1)]: Done 120 out of 120 | elapsed:   41.5s finished\n"
     ]
    },
    {
     "name": "stdout",
     "output_type": "stream",
     "text": [
      "best score: 0.6369047619047619\n",
      "Split: 1\n",
      "Split: 2\n",
      "Split: 3\n",
      "Split: 4\n",
      "Split: 5\n",
      "Split: 6\n",
      "Split: 7\n",
      "Split: 8\n",
      "Split: 9\n",
      "Split: 10\n",
      "Training Testing Accuracy for n_games=4 team=17 : 63.16% (8.08%)\n",
      "(186, 758)\n",
      "(186, 1)\n",
      "X_train shape: (167, 1308)\n",
      "X_test shape: (19, 1308)\n",
      "Fitting 10 folds for each of 12 candidates, totalling 120 fits\n"
     ]
    },
    {
     "name": "stderr",
     "output_type": "stream",
     "text": [
      "[Parallel(n_jobs=1)]: Using backend SequentialBackend with 1 concurrent workers.\n",
      "[Parallel(n_jobs=1)]: Done 120 out of 120 | elapsed:   20.6s finished\n"
     ]
    },
    {
     "name": "stdout",
     "output_type": "stream",
     "text": [
      "best score: 0.5988023952095808\n",
      "Fitting 10 folds for each of 12 candidates, totalling 120 fits\n"
     ]
    },
    {
     "name": "stderr",
     "output_type": "stream",
     "text": [
      "[Parallel(n_jobs=1)]: Using backend SequentialBackend with 1 concurrent workers.\n",
      "[Parallel(n_jobs=1)]: Done 120 out of 120 | elapsed:   19.9s finished\n"
     ]
    },
    {
     "name": "stdout",
     "output_type": "stream",
     "text": [
      "best score: 0.5988023952095808\n",
      "Fitting 10 folds for each of 12 candidates, totalling 120 fits\n"
     ]
    },
    {
     "name": "stderr",
     "output_type": "stream",
     "text": [
      "[Parallel(n_jobs=1)]: Using backend SequentialBackend with 1 concurrent workers.\n",
      "[Parallel(n_jobs=1)]: Done 120 out of 120 | elapsed:   24.9s finished\n"
     ]
    },
    {
     "name": "stdout",
     "output_type": "stream",
     "text": [
      "best score: 0.5988023952095808\n",
      "Fitting 10 folds for each of 12 candidates, totalling 120 fits\n"
     ]
    },
    {
     "name": "stderr",
     "output_type": "stream",
     "text": [
      "[Parallel(n_jobs=1)]: Using backend SequentialBackend with 1 concurrent workers.\n",
      "[Parallel(n_jobs=1)]: Done 120 out of 120 | elapsed:   26.1s finished\n"
     ]
    },
    {
     "name": "stdout",
     "output_type": "stream",
     "text": [
      "best score: 0.5988023952095808\n",
      "Fitting 10 folds for each of 12 candidates, totalling 120 fits\n"
     ]
    },
    {
     "name": "stderr",
     "output_type": "stream",
     "text": [
      "[Parallel(n_jobs=1)]: Using backend SequentialBackend with 1 concurrent workers.\n",
      "[Parallel(n_jobs=1)]: Done 120 out of 120 | elapsed:   34.7s finished\n"
     ]
    },
    {
     "name": "stdout",
     "output_type": "stream",
     "text": [
      "best score: 0.5988023952095808\n",
      "Split: 1\n",
      "Split: 2\n",
      "Split: 3\n",
      "Split: 4\n",
      "Split: 5\n",
      "Split: 6\n",
      "Split: 7\n",
      "Split: 8\n",
      "Split: 9\n",
      "Split: 10\n",
      "Training Testing Accuracy for n_games=4 team=18 : 59.77% (11.64%)\n",
      "Accuracy for Team Models for n_games= 4 : 61.02% (5.56%)\n",
      "(181, 944)\n",
      "(181, 1)\n",
      "X_train shape: (162, 1603)\n",
      "X_test shape: (19, 1603)\n",
      "Fitting 10 folds for each of 12 candidates, totalling 120 fits\n"
     ]
    },
    {
     "name": "stderr",
     "output_type": "stream",
     "text": [
      "[Parallel(n_jobs=1)]: Using backend SequentialBackend with 1 concurrent workers.\n",
      "[Parallel(n_jobs=1)]: Done 120 out of 120 | elapsed:   24.0s finished\n"
     ]
    },
    {
     "name": "stdout",
     "output_type": "stream",
     "text": [
      "best score: 0.5740740740740741\n",
      "Fitting 10 folds for each of 12 candidates, totalling 120 fits\n"
     ]
    },
    {
     "name": "stderr",
     "output_type": "stream",
     "text": [
      "[Parallel(n_jobs=1)]: Using backend SequentialBackend with 1 concurrent workers.\n",
      "[Parallel(n_jobs=1)]: Done 120 out of 120 | elapsed:   55.1s finished\n"
     ]
    },
    {
     "name": "stdout",
     "output_type": "stream",
     "text": [
      "best score: 0.5925925925925926\n",
      "Fitting 10 folds for each of 12 candidates, totalling 120 fits\n"
     ]
    },
    {
     "name": "stderr",
     "output_type": "stream",
     "text": [
      "[Parallel(n_jobs=1)]: Using backend SequentialBackend with 1 concurrent workers.\n",
      "[Parallel(n_jobs=1)]: Done 120 out of 120 | elapsed:   38.5s finished\n"
     ]
    },
    {
     "name": "stdout",
     "output_type": "stream",
     "text": [
      "best score: 0.5925925925925926\n",
      "Fitting 10 folds for each of 12 candidates, totalling 120 fits\n"
     ]
    },
    {
     "name": "stderr",
     "output_type": "stream",
     "text": [
      "[Parallel(n_jobs=1)]: Using backend SequentialBackend with 1 concurrent workers.\n",
      "[Parallel(n_jobs=1)]: Done 120 out of 120 | elapsed:   57.2s finished\n"
     ]
    },
    {
     "name": "stdout",
     "output_type": "stream",
     "text": [
      "best score: 0.6049382716049383\n",
      "Fitting 10 folds for each of 12 candidates, totalling 120 fits\n"
     ]
    },
    {
     "name": "stderr",
     "output_type": "stream",
     "text": [
      "[Parallel(n_jobs=1)]: Using backend SequentialBackend with 1 concurrent workers.\n",
      "[Parallel(n_jobs=1)]: Done 120 out of 120 | elapsed:   54.6s finished\n"
     ]
    },
    {
     "name": "stdout",
     "output_type": "stream",
     "text": [
      "best score: 0.6049382716049383\n",
      "Split: 1\n",
      "Split: 2\n",
      "Split: 3\n",
      "Split: 4\n",
      "Split: 5\n",
      "Split: 6\n",
      "Split: 7\n",
      "Split: 8\n",
      "Split: 9\n",
      "Split: 10\n",
      "Training Testing Accuracy for n_games=5 team=1 : 49.74% (7.50%)\n",
      "(179, 944)\n",
      "(179, 1)\n",
      "X_train shape: (161, 1587)\n",
      "X_test shape: (18, 1587)\n",
      "Fitting 10 folds for each of 12 candidates, totalling 120 fits\n"
     ]
    },
    {
     "name": "stderr",
     "output_type": "stream",
     "text": [
      "[Parallel(n_jobs=1)]: Using backend SequentialBackend with 1 concurrent workers.\n",
      "[Parallel(n_jobs=1)]: Done 120 out of 120 | elapsed:   23.3s finished\n"
     ]
    },
    {
     "name": "stdout",
     "output_type": "stream",
     "text": [
      "best score: 0.6583850931677019\n",
      "Fitting 10 folds for each of 12 candidates, totalling 120 fits\n"
     ]
    },
    {
     "name": "stderr",
     "output_type": "stream",
     "text": [
      "[Parallel(n_jobs=1)]: Using backend SequentialBackend with 1 concurrent workers.\n",
      "[Parallel(n_jobs=1)]: Done 120 out of 120 | elapsed:   23.4s finished\n"
     ]
    },
    {
     "name": "stdout",
     "output_type": "stream",
     "text": [
      "best score: 0.6645962732919255\n",
      "Fitting 10 folds for each of 12 candidates, totalling 120 fits\n"
     ]
    },
    {
     "name": "stderr",
     "output_type": "stream",
     "text": [
      "[Parallel(n_jobs=1)]: Using backend SequentialBackend with 1 concurrent workers.\n",
      "[Parallel(n_jobs=1)]: Done 120 out of 120 | elapsed:   17.0s finished\n"
     ]
    },
    {
     "name": "stdout",
     "output_type": "stream",
     "text": [
      "best score: 0.6645962732919255\n",
      "Fitting 10 folds for each of 12 candidates, totalling 120 fits\n"
     ]
    },
    {
     "name": "stderr",
     "output_type": "stream",
     "text": [
      "[Parallel(n_jobs=1)]: Using backend SequentialBackend with 1 concurrent workers.\n",
      "[Parallel(n_jobs=1)]: Done 120 out of 120 | elapsed:   16.7s finished\n"
     ]
    },
    {
     "name": "stdout",
     "output_type": "stream",
     "text": [
      "best score: 0.6645962732919255\n",
      "Fitting 10 folds for each of 12 candidates, totalling 120 fits\n"
     ]
    },
    {
     "name": "stderr",
     "output_type": "stream",
     "text": [
      "[Parallel(n_jobs=1)]: Using backend SequentialBackend with 1 concurrent workers.\n",
      "[Parallel(n_jobs=1)]: Done 120 out of 120 | elapsed:   15.7s finished\n"
     ]
    },
    {
     "name": "stdout",
     "output_type": "stream",
     "text": [
      "best score: 0.6645962732919255\n",
      "Split: 1\n",
      "Split: 2\n",
      "Split: 3\n",
      "Split: 4\n",
      "Split: 5\n",
      "Split: 6\n",
      "Split: 7\n",
      "Split: 8\n",
      "Split: 9\n",
      "Split: 10\n",
      "Training Testing Accuracy for n_games=5 team=2 : 61.47% (6.18%)\n",
      "(177, 944)\n",
      "(177, 1)\n",
      "X_train shape: (159, 1584)\n",
      "X_test shape: (18, 1584)\n",
      "Fitting 10 folds for each of 12 candidates, totalling 120 fits\n"
     ]
    },
    {
     "name": "stderr",
     "output_type": "stream",
     "text": [
      "[Parallel(n_jobs=1)]: Using backend SequentialBackend with 1 concurrent workers.\n",
      "[Parallel(n_jobs=1)]: Done 120 out of 120 | elapsed:   23.8s finished\n"
     ]
    },
    {
     "name": "stdout",
     "output_type": "stream",
     "text": [
      "best score: 0.6918238993710691\n",
      "Fitting 10 folds for each of 12 candidates, totalling 120 fits\n"
     ]
    },
    {
     "name": "stderr",
     "output_type": "stream",
     "text": [
      "[Parallel(n_jobs=1)]: Using backend SequentialBackend with 1 concurrent workers.\n",
      "[Parallel(n_jobs=1)]: Done 120 out of 120 | elapsed:   20.6s finished\n"
     ]
    },
    {
     "name": "stdout",
     "output_type": "stream",
     "text": [
      "best score: 0.6918238993710691\n",
      "Fitting 10 folds for each of 12 candidates, totalling 120 fits\n"
     ]
    },
    {
     "name": "stderr",
     "output_type": "stream",
     "text": [
      "[Parallel(n_jobs=1)]: Using backend SequentialBackend with 1 concurrent workers.\n",
      "[Parallel(n_jobs=1)]: Done 120 out of 120 | elapsed:   21.8s finished\n"
     ]
    },
    {
     "name": "stdout",
     "output_type": "stream",
     "text": [
      "best score: 0.6981132075471698\n",
      "Fitting 10 folds for each of 12 candidates, totalling 120 fits\n"
     ]
    },
    {
     "name": "stderr",
     "output_type": "stream",
     "text": [
      "[Parallel(n_jobs=1)]: Using backend SequentialBackend with 1 concurrent workers.\n",
      "[Parallel(n_jobs=1)]: Done 120 out of 120 | elapsed:   19.7s finished\n"
     ]
    },
    {
     "name": "stdout",
     "output_type": "stream",
     "text": [
      "best score: 0.6981132075471698\n",
      "Fitting 10 folds for each of 12 candidates, totalling 120 fits\n"
     ]
    },
    {
     "name": "stderr",
     "output_type": "stream",
     "text": [
      "[Parallel(n_jobs=1)]: Using backend SequentialBackend with 1 concurrent workers.\n",
      "[Parallel(n_jobs=1)]: Done 120 out of 120 | elapsed:   30.6s finished\n"
     ]
    },
    {
     "name": "stdout",
     "output_type": "stream",
     "text": [
      "best score: 0.6981132075471698\n",
      "Split: 1\n",
      "Split: 2\n",
      "Split: 3\n",
      "Split: 4\n",
      "Split: 5\n",
      "Split: 6\n",
      "Split: 7\n",
      "Split: 8\n",
      "Split: 9\n",
      "Split: 10\n",
      "Training Testing Accuracy for n_games=5 team=3 : 71.18% (5.24%)\n",
      "(182, 944)\n",
      "(182, 1)\n",
      "X_train shape: (163, 1589)\n",
      "X_test shape: (19, 1589)\n",
      "Fitting 10 folds for each of 12 candidates, totalling 120 fits\n"
     ]
    },
    {
     "name": "stderr",
     "output_type": "stream",
     "text": [
      "[Parallel(n_jobs=1)]: Using backend SequentialBackend with 1 concurrent workers.\n",
      "[Parallel(n_jobs=1)]: Done 120 out of 120 | elapsed:   23.9s finished\n"
     ]
    },
    {
     "name": "stdout",
     "output_type": "stream",
     "text": [
      "best score: 0.5828220858895705\n",
      "Fitting 10 folds for each of 12 candidates, totalling 120 fits\n"
     ]
    },
    {
     "name": "stderr",
     "output_type": "stream",
     "text": [
      "[Parallel(n_jobs=1)]: Using backend SequentialBackend with 1 concurrent workers.\n",
      "[Parallel(n_jobs=1)]: Done 120 out of 120 | elapsed:   22.9s finished\n"
     ]
    },
    {
     "name": "stdout",
     "output_type": "stream",
     "text": [
      "best score: 0.5828220858895705\n",
      "Fitting 10 folds for each of 12 candidates, totalling 120 fits\n"
     ]
    },
    {
     "name": "stderr",
     "output_type": "stream",
     "text": [
      "[Parallel(n_jobs=1)]: Using backend SequentialBackend with 1 concurrent workers.\n",
      "[Parallel(n_jobs=1)]: Done 120 out of 120 | elapsed:   30.4s finished\n"
     ]
    },
    {
     "name": "stdout",
     "output_type": "stream",
     "text": [
      "best score: 0.5828220858895705\n",
      "Fitting 10 folds for each of 12 candidates, totalling 120 fits\n"
     ]
    },
    {
     "name": "stderr",
     "output_type": "stream",
     "text": [
      "[Parallel(n_jobs=1)]: Using backend SequentialBackend with 1 concurrent workers.\n",
      "[Parallel(n_jobs=1)]: Done 120 out of 120 | elapsed:   26.2s finished\n"
     ]
    },
    {
     "name": "stdout",
     "output_type": "stream",
     "text": [
      "best score: 0.6196319018404908\n",
      "Fitting 10 folds for each of 12 candidates, totalling 120 fits\n"
     ]
    },
    {
     "name": "stderr",
     "output_type": "stream",
     "text": [
      "[Parallel(n_jobs=1)]: Using backend SequentialBackend with 1 concurrent workers.\n",
      "[Parallel(n_jobs=1)]: Done 120 out of 120 | elapsed:   27.9s finished\n"
     ]
    },
    {
     "name": "stdout",
     "output_type": "stream",
     "text": [
      "best score: 0.6196319018404908\n",
      "Split: 1\n",
      "Split: 2\n",
      "Split: 3\n",
      "Split: 4\n",
      "Split: 5\n",
      "Split: 6\n",
      "Split: 7\n",
      "Split: 8\n",
      "Split: 9\n",
      "Split: 10\n",
      "Training Testing Accuracy for n_games=5 team=4 : 59.91% (7.66%)\n",
      "(179, 944)\n",
      "(179, 1)\n",
      "X_train shape: (161, 1578)\n",
      "X_test shape: (18, 1578)\n",
      "Fitting 10 folds for each of 12 candidates, totalling 120 fits\n"
     ]
    },
    {
     "name": "stderr",
     "output_type": "stream",
     "text": [
      "[Parallel(n_jobs=1)]: Using backend SequentialBackend with 1 concurrent workers.\n",
      "[Parallel(n_jobs=1)]: Done 120 out of 120 | elapsed:   23.8s finished\n"
     ]
    },
    {
     "name": "stdout",
     "output_type": "stream",
     "text": [
      "best score: 0.5838509316770186\n",
      "Fitting 10 folds for each of 12 candidates, totalling 120 fits\n"
     ]
    },
    {
     "name": "stderr",
     "output_type": "stream",
     "text": [
      "[Parallel(n_jobs=1)]: Using backend SequentialBackend with 1 concurrent workers.\n",
      "[Parallel(n_jobs=1)]: Done 120 out of 120 | elapsed:   17.9s finished\n"
     ]
    },
    {
     "name": "stdout",
     "output_type": "stream",
     "text": [
      "best score: 0.5838509316770186\n",
      "Fitting 10 folds for each of 12 candidates, totalling 120 fits\n"
     ]
    },
    {
     "name": "stderr",
     "output_type": "stream",
     "text": [
      "[Parallel(n_jobs=1)]: Using backend SequentialBackend with 1 concurrent workers.\n",
      "[Parallel(n_jobs=1)]: Done 120 out of 120 | elapsed:   19.3s finished\n"
     ]
    },
    {
     "name": "stdout",
     "output_type": "stream",
     "text": [
      "best score: 0.5838509316770186\n",
      "Fitting 10 folds for each of 12 candidates, totalling 120 fits\n"
     ]
    },
    {
     "name": "stderr",
     "output_type": "stream",
     "text": [
      "[Parallel(n_jobs=1)]: Using backend SequentialBackend with 1 concurrent workers.\n",
      "[Parallel(n_jobs=1)]: Done 120 out of 120 | elapsed:   17.6s finished\n"
     ]
    },
    {
     "name": "stdout",
     "output_type": "stream",
     "text": [
      "best score: 0.5838509316770186\n",
      "Fitting 10 folds for each of 12 candidates, totalling 120 fits\n"
     ]
    },
    {
     "name": "stderr",
     "output_type": "stream",
     "text": [
      "[Parallel(n_jobs=1)]: Using backend SequentialBackend with 1 concurrent workers.\n",
      "[Parallel(n_jobs=1)]: Done 120 out of 120 | elapsed:   21.3s finished\n"
     ]
    },
    {
     "name": "stdout",
     "output_type": "stream",
     "text": [
      "best score: 0.5900621118012422\n",
      "Split: 1\n",
      "Split: 2\n",
      "Split: 3\n",
      "Split: 4\n",
      "Split: 5\n",
      "Split: 6\n",
      "Split: 7\n",
      "Split: 8\n",
      "Split: 9\n",
      "Split: 10\n",
      "Training Testing Accuracy for n_games=5 team=5 : 54.22% (8.01%)\n",
      "(182, 944)\n",
      "(182, 1)\n",
      "X_train shape: (163, 1597)\n",
      "X_test shape: (19, 1597)\n",
      "Fitting 10 folds for each of 12 candidates, totalling 120 fits\n"
     ]
    },
    {
     "name": "stderr",
     "output_type": "stream",
     "text": [
      "[Parallel(n_jobs=1)]: Using backend SequentialBackend with 1 concurrent workers.\n",
      "[Parallel(n_jobs=1)]: Done 120 out of 120 | elapsed:   24.0s finished\n"
     ]
    },
    {
     "name": "stdout",
     "output_type": "stream",
     "text": [
      "best score: 0.5950920245398773\n",
      "Fitting 10 folds for each of 12 candidates, totalling 120 fits\n"
     ]
    },
    {
     "name": "stderr",
     "output_type": "stream",
     "text": [
      "[Parallel(n_jobs=1)]: Using backend SequentialBackend with 1 concurrent workers.\n",
      "[Parallel(n_jobs=1)]: Done 120 out of 120 | elapsed:   25.9s finished\n"
     ]
    },
    {
     "name": "stdout",
     "output_type": "stream",
     "text": [
      "best score: 0.5950920245398773\n",
      "Fitting 10 folds for each of 12 candidates, totalling 120 fits\n"
     ]
    },
    {
     "name": "stderr",
     "output_type": "stream",
     "text": [
      "[Parallel(n_jobs=1)]: Using backend SequentialBackend with 1 concurrent workers.\n",
      "[Parallel(n_jobs=1)]: Done 120 out of 120 | elapsed:   25.9s finished\n"
     ]
    },
    {
     "name": "stdout",
     "output_type": "stream",
     "text": [
      "best score: 0.5950920245398773\n",
      "Fitting 10 folds for each of 12 candidates, totalling 120 fits\n"
     ]
    },
    {
     "name": "stderr",
     "output_type": "stream",
     "text": [
      "[Parallel(n_jobs=1)]: Using backend SequentialBackend with 1 concurrent workers.\n",
      "[Parallel(n_jobs=1)]: Done 120 out of 120 | elapsed:   20.4s finished\n"
     ]
    },
    {
     "name": "stdout",
     "output_type": "stream",
     "text": [
      "best score: 0.5950920245398773\n",
      "Fitting 10 folds for each of 12 candidates, totalling 120 fits\n"
     ]
    },
    {
     "name": "stderr",
     "output_type": "stream",
     "text": [
      "[Parallel(n_jobs=1)]: Using backend SequentialBackend with 1 concurrent workers.\n",
      "[Parallel(n_jobs=1)]: Done 120 out of 120 | elapsed:   28.0s finished\n"
     ]
    },
    {
     "name": "stdout",
     "output_type": "stream",
     "text": [
      "best score: 0.5950920245398773\n",
      "Split: 1\n",
      "Split: 2\n",
      "Split: 3\n",
      "Split: 4\n",
      "Split: 5\n",
      "Split: 6\n",
      "Split: 7\n",
      "Split: 8\n",
      "Split: 9\n",
      "Split: 10\n",
      "Training Testing Accuracy for n_games=5 team=6 : 58.36% (8.57%)\n",
      "(191, 944)\n",
      "(191, 1)\n",
      "X_train shape: (171, 1586)\n",
      "X_test shape: (20, 1586)\n",
      "Fitting 10 folds for each of 12 candidates, totalling 120 fits\n"
     ]
    },
    {
     "name": "stderr",
     "output_type": "stream",
     "text": [
      "[Parallel(n_jobs=1)]: Using backend SequentialBackend with 1 concurrent workers.\n",
      "[Parallel(n_jobs=1)]: Done 120 out of 120 | elapsed:   24.0s finished\n"
     ]
    },
    {
     "name": "stdout",
     "output_type": "stream",
     "text": [
      "best score: 0.6374269005847953\n",
      "Fitting 10 folds for each of 12 candidates, totalling 120 fits\n"
     ]
    },
    {
     "name": "stderr",
     "output_type": "stream",
     "text": [
      "[Parallel(n_jobs=1)]: Using backend SequentialBackend with 1 concurrent workers.\n",
      "[Parallel(n_jobs=1)]: Done 120 out of 120 | elapsed:   18.7s finished\n"
     ]
    },
    {
     "name": "stdout",
     "output_type": "stream",
     "text": [
      "best score: 0.6374269005847953\n",
      "Fitting 10 folds for each of 12 candidates, totalling 120 fits\n"
     ]
    },
    {
     "name": "stderr",
     "output_type": "stream",
     "text": [
      "[Parallel(n_jobs=1)]: Using backend SequentialBackend with 1 concurrent workers.\n",
      "[Parallel(n_jobs=1)]: Done 120 out of 120 | elapsed:   33.4s finished\n"
     ]
    },
    {
     "name": "stdout",
     "output_type": "stream",
     "text": [
      "best score: 0.6374269005847953\n",
      "Fitting 10 folds for each of 12 candidates, totalling 120 fits\n"
     ]
    },
    {
     "name": "stderr",
     "output_type": "stream",
     "text": [
      "[Parallel(n_jobs=1)]: Using backend SequentialBackend with 1 concurrent workers.\n",
      "[Parallel(n_jobs=1)]: Done 120 out of 120 | elapsed:   40.5s finished\n"
     ]
    },
    {
     "name": "stdout",
     "output_type": "stream",
     "text": [
      "best score: 0.6374269005847953\n",
      "Fitting 10 folds for each of 12 candidates, totalling 120 fits\n"
     ]
    },
    {
     "name": "stderr",
     "output_type": "stream",
     "text": [
      "[Parallel(n_jobs=1)]: Using backend SequentialBackend with 1 concurrent workers.\n",
      "[Parallel(n_jobs=1)]: Done 120 out of 120 | elapsed:   18.4s finished\n"
     ]
    },
    {
     "name": "stdout",
     "output_type": "stream",
     "text": [
      "best score: 0.6374269005847953\n",
      "Split: 1\n",
      "Split: 2\n",
      "Split: 3\n",
      "Split: 4\n",
      "Split: 5\n",
      "Split: 6\n",
      "Split: 7\n",
      "Split: 8\n",
      "Split: 9\n",
      "Split: 10\n",
      "Training Testing Accuracy for n_games=5 team=7 : 65.97% (2.50%)\n",
      "(175, 944)\n",
      "(175, 1)\n",
      "X_train shape: (157, 1590)\n",
      "X_test shape: (18, 1590)\n",
      "Fitting 10 folds for each of 12 candidates, totalling 120 fits\n"
     ]
    },
    {
     "name": "stderr",
     "output_type": "stream",
     "text": [
      "[Parallel(n_jobs=1)]: Using backend SequentialBackend with 1 concurrent workers.\n",
      "[Parallel(n_jobs=1)]: Done 120 out of 120 | elapsed:   23.8s finished\n"
     ]
    },
    {
     "name": "stdout",
     "output_type": "stream",
     "text": [
      "best score: 0.7388535031847133\n",
      "Fitting 10 folds for each of 12 candidates, totalling 120 fits\n"
     ]
    },
    {
     "name": "stderr",
     "output_type": "stream",
     "text": [
      "[Parallel(n_jobs=1)]: Using backend SequentialBackend with 1 concurrent workers.\n",
      "[Parallel(n_jobs=1)]: Done 120 out of 120 | elapsed:   28.1s finished\n"
     ]
    },
    {
     "name": "stdout",
     "output_type": "stream",
     "text": [
      "best score: 0.7388535031847133\n",
      "Fitting 10 folds for each of 12 candidates, totalling 120 fits\n"
     ]
    },
    {
     "name": "stderr",
     "output_type": "stream",
     "text": [
      "[Parallel(n_jobs=1)]: Using backend SequentialBackend with 1 concurrent workers.\n",
      "[Parallel(n_jobs=1)]: Done 120 out of 120 | elapsed:   19.0s finished\n"
     ]
    },
    {
     "name": "stdout",
     "output_type": "stream",
     "text": [
      "best score: 0.7388535031847133\n",
      "Fitting 10 folds for each of 12 candidates, totalling 120 fits\n"
     ]
    },
    {
     "name": "stderr",
     "output_type": "stream",
     "text": [
      "[Parallel(n_jobs=1)]: Using backend SequentialBackend with 1 concurrent workers.\n",
      "[Parallel(n_jobs=1)]: Done 120 out of 120 | elapsed:   19.9s finished\n"
     ]
    },
    {
     "name": "stdout",
     "output_type": "stream",
     "text": [
      "best score: 0.7388535031847133\n",
      "Fitting 10 folds for each of 12 candidates, totalling 120 fits\n"
     ]
    },
    {
     "name": "stderr",
     "output_type": "stream",
     "text": [
      "[Parallel(n_jobs=1)]: Using backend SequentialBackend with 1 concurrent workers.\n",
      "[Parallel(n_jobs=1)]: Done 120 out of 120 | elapsed:   17.0s finished\n"
     ]
    },
    {
     "name": "stdout",
     "output_type": "stream",
     "text": [
      "best score: 0.7388535031847133\n",
      "Split: 1\n",
      "Split: 2\n",
      "Split: 3\n",
      "Split: 4\n",
      "Split: 5\n",
      "Split: 6\n",
      "Split: 7\n",
      "Split: 8\n",
      "Split: 9\n",
      "Split: 10\n",
      "Training Testing Accuracy for n_games=5 team=8 : 70.88% (2.69%)\n",
      "(188, 944)\n",
      "(188, 1)\n",
      "X_train shape: (169, 1598)\n",
      "X_test shape: (19, 1598)\n",
      "Fitting 10 folds for each of 12 candidates, totalling 120 fits\n"
     ]
    },
    {
     "name": "stderr",
     "output_type": "stream",
     "text": [
      "[Parallel(n_jobs=1)]: Using backend SequentialBackend with 1 concurrent workers.\n",
      "[Parallel(n_jobs=1)]: Done 120 out of 120 | elapsed:   23.8s finished\n"
     ]
    },
    {
     "name": "stdout",
     "output_type": "stream",
     "text": [
      "best score: 0.5443786982248521\n",
      "Fitting 10 folds for each of 12 candidates, totalling 120 fits\n"
     ]
    },
    {
     "name": "stderr",
     "output_type": "stream",
     "text": [
      "[Parallel(n_jobs=1)]: Using backend SequentialBackend with 1 concurrent workers.\n",
      "[Parallel(n_jobs=1)]: Done 120 out of 120 | elapsed:   31.9s finished\n"
     ]
    },
    {
     "name": "stdout",
     "output_type": "stream",
     "text": [
      "best score: 0.5621301775147929\n",
      "Fitting 10 folds for each of 12 candidates, totalling 120 fits\n"
     ]
    },
    {
     "name": "stderr",
     "output_type": "stream",
     "text": [
      "[Parallel(n_jobs=1)]: Using backend SequentialBackend with 1 concurrent workers.\n",
      "[Parallel(n_jobs=1)]: Done 120 out of 120 | elapsed:  1.2min finished\n"
     ]
    },
    {
     "name": "stdout",
     "output_type": "stream",
     "text": [
      "best score: 0.621301775147929\n",
      "Fitting 10 folds for each of 12 candidates, totalling 120 fits\n"
     ]
    },
    {
     "name": "stderr",
     "output_type": "stream",
     "text": [
      "[Parallel(n_jobs=1)]: Using backend SequentialBackend with 1 concurrent workers.\n",
      "[Parallel(n_jobs=1)]: Done 120 out of 120 | elapsed:   40.4s finished\n"
     ]
    },
    {
     "name": "stdout",
     "output_type": "stream",
     "text": [
      "best score: 0.621301775147929\n",
      "Fitting 10 folds for each of 12 candidates, totalling 120 fits\n"
     ]
    },
    {
     "name": "stderr",
     "output_type": "stream",
     "text": [
      "[Parallel(n_jobs=1)]: Using backend SequentialBackend with 1 concurrent workers.\n",
      "[Parallel(n_jobs=1)]: Done 120 out of 120 | elapsed:   49.4s finished\n"
     ]
    },
    {
     "name": "stdout",
     "output_type": "stream",
     "text": [
      "best score: 0.621301775147929\n",
      "Split: 1\n",
      "Split: 2\n",
      "Split: 3\n",
      "Split: 4\n",
      "Split: 5\n",
      "Split: 6\n",
      "Split: 7\n",
      "Split: 8\n",
      "Split: 9\n",
      "Split: 10\n",
      "Training Testing Accuracy for n_games=5 team=9 : 55.41% (10.04%)\n",
      "(189, 944)\n",
      "(189, 1)\n",
      "X_train shape: (170, 1596)\n",
      "X_test shape: (19, 1596)\n",
      "Fitting 10 folds for each of 12 candidates, totalling 120 fits\n"
     ]
    },
    {
     "name": "stderr",
     "output_type": "stream",
     "text": [
      "[Parallel(n_jobs=1)]: Using backend SequentialBackend with 1 concurrent workers.\n",
      "[Parallel(n_jobs=1)]: Done 120 out of 120 | elapsed:   23.6s finished\n"
     ]
    },
    {
     "name": "stdout",
     "output_type": "stream",
     "text": [
      "best score: 0.6764705882352942\n",
      "Fitting 10 folds for each of 12 candidates, totalling 120 fits\n"
     ]
    },
    {
     "name": "stderr",
     "output_type": "stream",
     "text": [
      "[Parallel(n_jobs=1)]: Using backend SequentialBackend with 1 concurrent workers.\n",
      "[Parallel(n_jobs=1)]: Done 120 out of 120 | elapsed:   22.1s finished\n"
     ]
    },
    {
     "name": "stdout",
     "output_type": "stream",
     "text": [
      "best score: 0.6764705882352942\n",
      "Fitting 10 folds for each of 12 candidates, totalling 120 fits\n"
     ]
    },
    {
     "name": "stderr",
     "output_type": "stream",
     "text": [
      "[Parallel(n_jobs=1)]: Using backend SequentialBackend with 1 concurrent workers.\n",
      "[Parallel(n_jobs=1)]: Done 120 out of 120 | elapsed:   33.2s finished\n"
     ]
    },
    {
     "name": "stdout",
     "output_type": "stream",
     "text": [
      "best score: 0.6764705882352942\n",
      "Fitting 10 folds for each of 12 candidates, totalling 120 fits\n"
     ]
    },
    {
     "name": "stderr",
     "output_type": "stream",
     "text": [
      "[Parallel(n_jobs=1)]: Using backend SequentialBackend with 1 concurrent workers.\n",
      "[Parallel(n_jobs=1)]: Done 120 out of 120 | elapsed:   29.7s finished\n"
     ]
    },
    {
     "name": "stdout",
     "output_type": "stream",
     "text": [
      "best score: 0.6764705882352942\n",
      "Fitting 10 folds for each of 12 candidates, totalling 120 fits\n"
     ]
    },
    {
     "name": "stderr",
     "output_type": "stream",
     "text": [
      "[Parallel(n_jobs=1)]: Using backend SequentialBackend with 1 concurrent workers.\n",
      "[Parallel(n_jobs=1)]: Done 120 out of 120 | elapsed:   29.2s finished\n"
     ]
    },
    {
     "name": "stdout",
     "output_type": "stream",
     "text": [
      "best score: 0.6764705882352942\n",
      "Split: 1\n",
      "Split: 2\n",
      "Split: 3\n",
      "Split: 4\n",
      "Split: 5\n",
      "Split: 6\n",
      "Split: 7\n",
      "Split: 8\n",
      "Split: 9\n",
      "Split: 10\n",
      "Training Testing Accuracy for n_games=5 team=10 : 68.25% (4.11%)\n",
      "(181, 944)\n",
      "(181, 1)\n",
      "X_train shape: (162, 1601)\n",
      "X_test shape: (19, 1601)\n",
      "Fitting 10 folds for each of 12 candidates, totalling 120 fits\n"
     ]
    },
    {
     "name": "stderr",
     "output_type": "stream",
     "text": [
      "[Parallel(n_jobs=1)]: Using backend SequentialBackend with 1 concurrent workers.\n",
      "[Parallel(n_jobs=1)]: Done 120 out of 120 | elapsed:   24.1s finished\n"
     ]
    },
    {
     "name": "stdout",
     "output_type": "stream",
     "text": [
      "best score: 0.6111111111111112\n",
      "Fitting 10 folds for each of 12 candidates, totalling 120 fits\n"
     ]
    },
    {
     "name": "stderr",
     "output_type": "stream",
     "text": [
      "[Parallel(n_jobs=1)]: Using backend SequentialBackend with 1 concurrent workers.\n",
      "[Parallel(n_jobs=1)]: Done 120 out of 120 | elapsed:   48.9s finished\n"
     ]
    },
    {
     "name": "stdout",
     "output_type": "stream",
     "text": [
      "best score: 0.6111111111111112\n",
      "Fitting 10 folds for each of 12 candidates, totalling 120 fits\n"
     ]
    },
    {
     "name": "stderr",
     "output_type": "stream",
     "text": [
      "[Parallel(n_jobs=1)]: Using backend SequentialBackend with 1 concurrent workers.\n",
      "[Parallel(n_jobs=1)]: Done 120 out of 120 | elapsed:   32.5s finished\n"
     ]
    },
    {
     "name": "stdout",
     "output_type": "stream",
     "text": [
      "best score: 0.6172839506172839\n",
      "Fitting 10 folds for each of 12 candidates, totalling 120 fits\n"
     ]
    },
    {
     "name": "stderr",
     "output_type": "stream",
     "text": [
      "[Parallel(n_jobs=1)]: Using backend SequentialBackend with 1 concurrent workers.\n",
      "[Parallel(n_jobs=1)]: Done 120 out of 120 | elapsed:   24.1s finished\n"
     ]
    },
    {
     "name": "stdout",
     "output_type": "stream",
     "text": [
      "best score: 0.6172839506172839\n",
      "Fitting 10 folds for each of 12 candidates, totalling 120 fits\n"
     ]
    },
    {
     "name": "stderr",
     "output_type": "stream",
     "text": [
      "[Parallel(n_jobs=1)]: Using backend SequentialBackend with 1 concurrent workers.\n",
      "[Parallel(n_jobs=1)]: Done 120 out of 120 | elapsed:   22.9s finished\n"
     ]
    },
    {
     "name": "stdout",
     "output_type": "stream",
     "text": [
      "best score: 0.6172839506172839\n",
      "Split: 1\n",
      "Split: 2\n",
      "Split: 3\n",
      "Split: 4\n",
      "Split: 5\n",
      "Split: 6\n",
      "Split: 7\n",
      "Split: 8\n",
      "Split: 9\n",
      "Split: 10\n",
      "Training Testing Accuracy for n_games=5 team=11 : 58.54% (6.33%)\n",
      "(182, 944)\n",
      "(182, 1)\n",
      "X_train shape: (163, 1591)\n",
      "X_test shape: (19, 1591)\n",
      "Fitting 10 folds for each of 12 candidates, totalling 120 fits\n"
     ]
    },
    {
     "name": "stderr",
     "output_type": "stream",
     "text": [
      "[Parallel(n_jobs=1)]: Using backend SequentialBackend with 1 concurrent workers.\n",
      "[Parallel(n_jobs=1)]: Done 120 out of 120 | elapsed:   24.7s finished\n"
     ]
    },
    {
     "name": "stdout",
     "output_type": "stream",
     "text": [
      "best score: 0.5705521472392638\n",
      "Fitting 10 folds for each of 12 candidates, totalling 120 fits\n"
     ]
    },
    {
     "name": "stderr",
     "output_type": "stream",
     "text": [
      "[Parallel(n_jobs=1)]: Using backend SequentialBackend with 1 concurrent workers.\n",
      "[Parallel(n_jobs=1)]: Done 120 out of 120 | elapsed:   39.2s finished\n"
     ]
    },
    {
     "name": "stdout",
     "output_type": "stream",
     "text": [
      "best score: 0.5705521472392638\n",
      "Fitting 10 folds for each of 12 candidates, totalling 120 fits\n"
     ]
    },
    {
     "name": "stderr",
     "output_type": "stream",
     "text": [
      "[Parallel(n_jobs=1)]: Using backend SequentialBackend with 1 concurrent workers.\n",
      "[Parallel(n_jobs=1)]: Done 120 out of 120 | elapsed:   23.0s finished\n"
     ]
    },
    {
     "name": "stdout",
     "output_type": "stream",
     "text": [
      "best score: 0.5705521472392638\n",
      "Fitting 10 folds for each of 12 candidates, totalling 120 fits\n"
     ]
    },
    {
     "name": "stderr",
     "output_type": "stream",
     "text": [
      "[Parallel(n_jobs=1)]: Using backend SequentialBackend with 1 concurrent workers.\n",
      "[Parallel(n_jobs=1)]: Done 120 out of 120 | elapsed:   26.5s finished\n"
     ]
    },
    {
     "name": "stdout",
     "output_type": "stream",
     "text": [
      "best score: 0.5705521472392638\n",
      "Fitting 10 folds for each of 12 candidates, totalling 120 fits\n"
     ]
    },
    {
     "name": "stderr",
     "output_type": "stream",
     "text": [
      "[Parallel(n_jobs=1)]: Using backend SequentialBackend with 1 concurrent workers.\n",
      "[Parallel(n_jobs=1)]: Done 120 out of 120 | elapsed:   23.0s finished\n"
     ]
    },
    {
     "name": "stdout",
     "output_type": "stream",
     "text": [
      "best score: 0.5705521472392638\n",
      "Split: 1\n",
      "Split: 2\n",
      "Split: 3\n",
      "Split: 4\n",
      "Split: 5\n",
      "Split: 6\n",
      "Split: 7\n",
      "Split: 8\n",
      "Split: 9\n",
      "Split: 10\n",
      "Training Testing Accuracy for n_games=5 team=12 : 50.61% (7.27%)\n",
      "(183, 944)\n",
      "(183, 1)\n",
      "X_train shape: (164, 1613)\n",
      "X_test shape: (19, 1613)\n",
      "Fitting 10 folds for each of 12 candidates, totalling 120 fits\n"
     ]
    },
    {
     "name": "stderr",
     "output_type": "stream",
     "text": [
      "[Parallel(n_jobs=1)]: Using backend SequentialBackend with 1 concurrent workers.\n",
      "[Parallel(n_jobs=1)]: Done 120 out of 120 | elapsed:   24.2s finished\n"
     ]
    },
    {
     "name": "stdout",
     "output_type": "stream",
     "text": [
      "best score: 0.6036585365853658\n",
      "Fitting 10 folds for each of 12 candidates, totalling 120 fits\n"
     ]
    },
    {
     "name": "stderr",
     "output_type": "stream",
     "text": [
      "[Parallel(n_jobs=1)]: Using backend SequentialBackend with 1 concurrent workers.\n",
      "[Parallel(n_jobs=1)]: Done 120 out of 120 | elapsed:   21.2s finished\n"
     ]
    },
    {
     "name": "stdout",
     "output_type": "stream",
     "text": [
      "best score: 0.6036585365853658\n",
      "Fitting 10 folds for each of 12 candidates, totalling 120 fits\n"
     ]
    },
    {
     "name": "stderr",
     "output_type": "stream",
     "text": [
      "[Parallel(n_jobs=1)]: Using backend SequentialBackend with 1 concurrent workers.\n",
      "[Parallel(n_jobs=1)]: Done 120 out of 120 | elapsed:   21.3s finished\n"
     ]
    },
    {
     "name": "stdout",
     "output_type": "stream",
     "text": [
      "best score: 0.6036585365853658\n",
      "Fitting 10 folds for each of 12 candidates, totalling 120 fits\n"
     ]
    },
    {
     "name": "stderr",
     "output_type": "stream",
     "text": [
      "[Parallel(n_jobs=1)]: Using backend SequentialBackend with 1 concurrent workers.\n",
      "[Parallel(n_jobs=1)]: Done 120 out of 120 | elapsed:   32.9s finished\n"
     ]
    },
    {
     "name": "stdout",
     "output_type": "stream",
     "text": [
      "best score: 0.6280487804878049\n",
      "Fitting 10 folds for each of 12 candidates, totalling 120 fits\n"
     ]
    },
    {
     "name": "stderr",
     "output_type": "stream",
     "text": [
      "[Parallel(n_jobs=1)]: Using backend SequentialBackend with 1 concurrent workers.\n",
      "[Parallel(n_jobs=1)]: Done 120 out of 120 | elapsed:   21.2s finished\n"
     ]
    },
    {
     "name": "stdout",
     "output_type": "stream",
     "text": [
      "best score: 0.6280487804878049\n",
      "Split: 1\n",
      "Split: 2\n",
      "Split: 3\n",
      "Split: 4\n",
      "Split: 5\n",
      "Split: 6\n",
      "Split: 7\n",
      "Split: 8\n",
      "Split: 9\n",
      "Split: 10\n",
      "Training Testing Accuracy for n_games=5 team=13 : 58.68% (11.79%)\n",
      "(186, 944)\n",
      "(186, 1)\n",
      "X_train shape: (167, 1593)\n",
      "X_test shape: (19, 1593)\n",
      "Fitting 10 folds for each of 12 candidates, totalling 120 fits\n"
     ]
    },
    {
     "name": "stderr",
     "output_type": "stream",
     "text": [
      "[Parallel(n_jobs=1)]: Using backend SequentialBackend with 1 concurrent workers.\n",
      "[Parallel(n_jobs=1)]: Done 120 out of 120 | elapsed:   24.3s finished\n"
     ]
    },
    {
     "name": "stdout",
     "output_type": "stream",
     "text": [
      "best score: 0.6347305389221557\n",
      "Fitting 10 folds for each of 12 candidates, totalling 120 fits\n"
     ]
    },
    {
     "name": "stderr",
     "output_type": "stream",
     "text": [
      "[Parallel(n_jobs=1)]: Using backend SequentialBackend with 1 concurrent workers.\n",
      "[Parallel(n_jobs=1)]: Done 120 out of 120 | elapsed:   17.6s finished\n"
     ]
    },
    {
     "name": "stdout",
     "output_type": "stream",
     "text": [
      "best score: 0.6347305389221557\n",
      "Fitting 10 folds for each of 12 candidates, totalling 120 fits\n"
     ]
    },
    {
     "name": "stderr",
     "output_type": "stream",
     "text": [
      "[Parallel(n_jobs=1)]: Using backend SequentialBackend with 1 concurrent workers.\n",
      "[Parallel(n_jobs=1)]: Done 120 out of 120 | elapsed:   21.2s finished\n"
     ]
    },
    {
     "name": "stdout",
     "output_type": "stream",
     "text": [
      "best score: 0.6347305389221557\n",
      "Fitting 10 folds for each of 12 candidates, totalling 120 fits\n"
     ]
    },
    {
     "name": "stderr",
     "output_type": "stream",
     "text": [
      "[Parallel(n_jobs=1)]: Using backend SequentialBackend with 1 concurrent workers.\n",
      "[Parallel(n_jobs=1)]: Done 120 out of 120 | elapsed:   20.4s finished\n"
     ]
    },
    {
     "name": "stdout",
     "output_type": "stream",
     "text": [
      "best score: 0.6347305389221557\n",
      "Fitting 10 folds for each of 12 candidates, totalling 120 fits\n"
     ]
    },
    {
     "name": "stderr",
     "output_type": "stream",
     "text": [
      "[Parallel(n_jobs=1)]: Using backend SequentialBackend with 1 concurrent workers.\n",
      "[Parallel(n_jobs=1)]: Done 120 out of 120 | elapsed:   17.6s finished\n"
     ]
    },
    {
     "name": "stdout",
     "output_type": "stream",
     "text": [
      "best score: 0.6347305389221557\n",
      "Split: 1\n",
      "Split: 2\n",
      "Split: 3\n",
      "Split: 4\n",
      "Split: 5\n",
      "Split: 6\n",
      "Split: 7\n",
      "Split: 8\n",
      "Split: 9\n",
      "Split: 10\n",
      "Training Testing Accuracy for n_games=5 team=14 : 60.79% (3.67%)\n",
      "(175, 944)\n",
      "(175, 1)\n",
      "X_train shape: (157, 1588)\n",
      "X_test shape: (18, 1588)\n",
      "Fitting 10 folds for each of 12 candidates, totalling 120 fits\n"
     ]
    },
    {
     "name": "stderr",
     "output_type": "stream",
     "text": [
      "[Parallel(n_jobs=1)]: Using backend SequentialBackend with 1 concurrent workers.\n",
      "[Parallel(n_jobs=1)]: Done 120 out of 120 | elapsed:   24.4s finished\n"
     ]
    },
    {
     "name": "stdout",
     "output_type": "stream",
     "text": [
      "best score: 0.6687898089171974\n",
      "Fitting 10 folds for each of 12 candidates, totalling 120 fits\n"
     ]
    },
    {
     "name": "stderr",
     "output_type": "stream",
     "text": [
      "[Parallel(n_jobs=1)]: Using backend SequentialBackend with 1 concurrent workers.\n",
      "[Parallel(n_jobs=1)]: Done 120 out of 120 | elapsed:   25.2s finished\n"
     ]
    },
    {
     "name": "stdout",
     "output_type": "stream",
     "text": [
      "best score: 0.6687898089171974\n",
      "Fitting 10 folds for each of 12 candidates, totalling 120 fits\n"
     ]
    },
    {
     "name": "stderr",
     "output_type": "stream",
     "text": [
      "[Parallel(n_jobs=1)]: Using backend SequentialBackend with 1 concurrent workers.\n",
      "[Parallel(n_jobs=1)]: Done 120 out of 120 | elapsed:   17.1s finished\n"
     ]
    },
    {
     "name": "stdout",
     "output_type": "stream",
     "text": [
      "best score: 0.6687898089171974\n",
      "Fitting 10 folds for each of 12 candidates, totalling 120 fits\n"
     ]
    },
    {
     "name": "stderr",
     "output_type": "stream",
     "text": [
      "[Parallel(n_jobs=1)]: Using backend SequentialBackend with 1 concurrent workers.\n",
      "[Parallel(n_jobs=1)]: Done 120 out of 120 | elapsed:   23.1s finished\n"
     ]
    },
    {
     "name": "stdout",
     "output_type": "stream",
     "text": [
      "best score: 0.6687898089171974\n",
      "Fitting 10 folds for each of 12 candidates, totalling 120 fits\n"
     ]
    },
    {
     "name": "stderr",
     "output_type": "stream",
     "text": [
      "[Parallel(n_jobs=1)]: Using backend SequentialBackend with 1 concurrent workers.\n",
      "[Parallel(n_jobs=1)]: Done 120 out of 120 | elapsed:   17.0s finished\n"
     ]
    },
    {
     "name": "stdout",
     "output_type": "stream",
     "text": [
      "best score: 0.6687898089171974\n",
      "Split: 1\n",
      "Split: 2\n",
      "Split: 3\n",
      "Split: 4\n",
      "Split: 5\n",
      "Split: 6\n",
      "Split: 7\n",
      "Split: 8\n",
      "Split: 9\n",
      "Split: 10\n",
      "Training Testing Accuracy for n_games=5 team=15 : 64.64% (6.22%)\n",
      "(191, 944)\n",
      "(191, 1)\n",
      "X_train shape: (171, 1602)\n",
      "X_test shape: (20, 1602)\n",
      "Fitting 10 folds for each of 12 candidates, totalling 120 fits\n"
     ]
    },
    {
     "name": "stderr",
     "output_type": "stream",
     "text": [
      "[Parallel(n_jobs=1)]: Using backend SequentialBackend with 1 concurrent workers.\n",
      "[Parallel(n_jobs=1)]: Done 120 out of 120 | elapsed:   23.9s finished\n"
     ]
    },
    {
     "name": "stdout",
     "output_type": "stream",
     "text": [
      "best score: 0.6432748538011696\n",
      "Fitting 10 folds for each of 12 candidates, totalling 120 fits\n"
     ]
    },
    {
     "name": "stderr",
     "output_type": "stream",
     "text": [
      "[Parallel(n_jobs=1)]: Using backend SequentialBackend with 1 concurrent workers.\n",
      "[Parallel(n_jobs=1)]: Done 120 out of 120 | elapsed:   17.4s finished\n"
     ]
    },
    {
     "name": "stdout",
     "output_type": "stream",
     "text": [
      "best score: 0.6432748538011696\n",
      "Fitting 10 folds for each of 12 candidates, totalling 120 fits\n"
     ]
    },
    {
     "name": "stderr",
     "output_type": "stream",
     "text": [
      "[Parallel(n_jobs=1)]: Using backend SequentialBackend with 1 concurrent workers.\n",
      "[Parallel(n_jobs=1)]: Done 120 out of 120 | elapsed:   19.9s finished\n"
     ]
    },
    {
     "name": "stdout",
     "output_type": "stream",
     "text": [
      "best score: 0.6432748538011696\n",
      "Fitting 10 folds for each of 12 candidates, totalling 120 fits\n"
     ]
    },
    {
     "name": "stderr",
     "output_type": "stream",
     "text": [
      "[Parallel(n_jobs=1)]: Using backend SequentialBackend with 1 concurrent workers.\n",
      "[Parallel(n_jobs=1)]: Done 120 out of 120 | elapsed:   20.8s finished\n"
     ]
    },
    {
     "name": "stdout",
     "output_type": "stream",
     "text": [
      "best score: 0.6432748538011696\n",
      "Fitting 10 folds for each of 12 candidates, totalling 120 fits\n"
     ]
    },
    {
     "name": "stderr",
     "output_type": "stream",
     "text": [
      "[Parallel(n_jobs=1)]: Using backend SequentialBackend with 1 concurrent workers.\n",
      "[Parallel(n_jobs=1)]: Done 120 out of 120 | elapsed:   20.2s finished\n"
     ]
    },
    {
     "name": "stdout",
     "output_type": "stream",
     "text": [
      "best score: 0.6432748538011696\n",
      "Split: 1\n",
      "Split: 2\n",
      "Split: 3\n",
      "Split: 4\n",
      "Split: 5\n",
      "Split: 6\n",
      "Split: 7\n",
      "Split: 8\n",
      "Split: 9\n",
      "Split: 10\n",
      "Training Testing Accuracy for n_games=5 team=16 : 63.87% (1.61%)\n",
      "(186, 944)\n",
      "(186, 1)\n",
      "X_train shape: (167, 1600)\n",
      "X_test shape: (19, 1600)\n",
      "Fitting 10 folds for each of 12 candidates, totalling 120 fits\n"
     ]
    },
    {
     "name": "stderr",
     "output_type": "stream",
     "text": [
      "[Parallel(n_jobs=1)]: Using backend SequentialBackend with 1 concurrent workers.\n",
      "[Parallel(n_jobs=1)]: Done 120 out of 120 | elapsed:   24.8s finished\n"
     ]
    },
    {
     "name": "stdout",
     "output_type": "stream",
     "text": [
      "best score: 0.6107784431137725\n",
      "Fitting 10 folds for each of 12 candidates, totalling 120 fits\n"
     ]
    },
    {
     "name": "stderr",
     "output_type": "stream",
     "text": [
      "[Parallel(n_jobs=1)]: Using backend SequentialBackend with 1 concurrent workers.\n",
      "[Parallel(n_jobs=1)]: Done 120 out of 120 | elapsed:   24.3s finished\n"
     ]
    },
    {
     "name": "stdout",
     "output_type": "stream",
     "text": [
      "best score: 0.6287425149700598\n",
      "Fitting 10 folds for each of 12 candidates, totalling 120 fits\n"
     ]
    },
    {
     "name": "stderr",
     "output_type": "stream",
     "text": [
      "[Parallel(n_jobs=1)]: Using backend SequentialBackend with 1 concurrent workers.\n",
      "[Parallel(n_jobs=1)]: Done 120 out of 120 | elapsed:   31.7s finished\n"
     ]
    },
    {
     "name": "stdout",
     "output_type": "stream",
     "text": [
      "best score: 0.6287425149700598\n",
      "Fitting 10 folds for each of 12 candidates, totalling 120 fits\n"
     ]
    },
    {
     "name": "stderr",
     "output_type": "stream",
     "text": [
      "[Parallel(n_jobs=1)]: Using backend SequentialBackend with 1 concurrent workers.\n",
      "[Parallel(n_jobs=1)]: Done 120 out of 120 | elapsed:   22.7s finished\n"
     ]
    },
    {
     "name": "stdout",
     "output_type": "stream",
     "text": [
      "best score: 0.6407185628742516\n",
      "Fitting 10 folds for each of 12 candidates, totalling 120 fits\n"
     ]
    },
    {
     "name": "stderr",
     "output_type": "stream",
     "text": [
      "[Parallel(n_jobs=1)]: Using backend SequentialBackend with 1 concurrent workers.\n",
      "[Parallel(n_jobs=1)]: Done 120 out of 120 | elapsed:   20.6s finished\n"
     ]
    },
    {
     "name": "stdout",
     "output_type": "stream",
     "text": [
      "best score: 0.6407185628742516\n",
      "Split: 1\n",
      "Split: 2\n",
      "Split: 3\n",
      "Split: 4\n",
      "Split: 5\n",
      "Split: 6\n",
      "Split: 7\n",
      "Split: 8\n",
      "Split: 9\n",
      "Split: 10\n",
      "Training Testing Accuracy for n_games=5 team=17 : 65.20% (10.65%)\n",
      "(185, 944)\n",
      "(185, 1)\n",
      "X_train shape: (166, 1613)\n",
      "X_test shape: (19, 1613)\n",
      "Fitting 10 folds for each of 12 candidates, totalling 120 fits\n"
     ]
    },
    {
     "name": "stderr",
     "output_type": "stream",
     "text": [
      "[Parallel(n_jobs=1)]: Using backend SequentialBackend with 1 concurrent workers.\n",
      "[Parallel(n_jobs=1)]: Done 120 out of 120 | elapsed:   24.7s finished\n"
     ]
    },
    {
     "name": "stdout",
     "output_type": "stream",
     "text": [
      "best score: 0.5602409638554217\n",
      "Fitting 10 folds for each of 12 candidates, totalling 120 fits\n"
     ]
    },
    {
     "name": "stderr",
     "output_type": "stream",
     "text": [
      "[Parallel(n_jobs=1)]: Using backend SequentialBackend with 1 concurrent workers.\n",
      "[Parallel(n_jobs=1)]: Done 120 out of 120 | elapsed:   17.7s finished\n"
     ]
    },
    {
     "name": "stdout",
     "output_type": "stream",
     "text": [
      "best score: 0.5602409638554217\n",
      "Fitting 10 folds for each of 12 candidates, totalling 120 fits\n"
     ]
    },
    {
     "name": "stderr",
     "output_type": "stream",
     "text": [
      "[Parallel(n_jobs=1)]: Using backend SequentialBackend with 1 concurrent workers.\n",
      "[Parallel(n_jobs=1)]: Done 120 out of 120 | elapsed:   24.6s finished\n"
     ]
    },
    {
     "name": "stdout",
     "output_type": "stream",
     "text": [
      "best score: 0.5602409638554217\n",
      "Fitting 10 folds for each of 12 candidates, totalling 120 fits\n"
     ]
    },
    {
     "name": "stderr",
     "output_type": "stream",
     "text": [
      "[Parallel(n_jobs=1)]: Using backend SequentialBackend with 1 concurrent workers.\n",
      "[Parallel(n_jobs=1)]: Done 120 out of 120 | elapsed:  1.2min finished\n"
     ]
    },
    {
     "name": "stdout",
     "output_type": "stream",
     "text": [
      "best score: 0.5602409638554217\n",
      "Fitting 10 folds for each of 12 candidates, totalling 120 fits\n"
     ]
    },
    {
     "name": "stderr",
     "output_type": "stream",
     "text": [
      "[Parallel(n_jobs=1)]: Using backend SequentialBackend with 1 concurrent workers.\n",
      "[Parallel(n_jobs=1)]: Done 120 out of 120 | elapsed:   18.9s finished\n"
     ]
    },
    {
     "name": "stdout",
     "output_type": "stream",
     "text": [
      "best score: 0.5662650602409639\n",
      "Split: 1\n",
      "Split: 2\n",
      "Split: 3\n",
      "Split: 4\n",
      "Split: 5\n",
      "Split: 6\n",
      "Split: 7\n",
      "Split: 8\n",
      "Split: 9\n",
      "Split: 10\n",
      "Training Testing Accuracy for n_games=5 team=18 : 52.87% (8.25%)\n",
      "Accuracy for Team Models for n_games= 5 : 60.59% (6.29%)\n",
      "(180, 1130)\n",
      "(180, 1)\n",
      "X_train shape: (162, 1909)\n",
      "X_test shape: (18, 1909)\n",
      "Fitting 10 folds for each of 12 candidates, totalling 120 fits\n"
     ]
    },
    {
     "name": "stderr",
     "output_type": "stream",
     "text": [
      "[Parallel(n_jobs=1)]: Using backend SequentialBackend with 1 concurrent workers.\n",
      "[Parallel(n_jobs=1)]: Done 120 out of 120 | elapsed:   28.0s finished\n"
     ]
    },
    {
     "name": "stdout",
     "output_type": "stream",
     "text": [
      "best score: 0.5617283950617284\n",
      "Fitting 10 folds for each of 12 candidates, totalling 120 fits\n"
     ]
    },
    {
     "name": "stderr",
     "output_type": "stream",
     "text": [
      "[Parallel(n_jobs=1)]: Using backend SequentialBackend with 1 concurrent workers.\n",
      "[Parallel(n_jobs=1)]: Done 120 out of 120 | elapsed:   24.6s finished\n"
     ]
    },
    {
     "name": "stdout",
     "output_type": "stream",
     "text": [
      "best score: 0.5617283950617284\n",
      "Fitting 10 folds for each of 12 candidates, totalling 120 fits\n"
     ]
    },
    {
     "name": "stderr",
     "output_type": "stream",
     "text": [
      "[Parallel(n_jobs=1)]: Using backend SequentialBackend with 1 concurrent workers.\n",
      "[Parallel(n_jobs=1)]: Done 120 out of 120 | elapsed:   22.9s finished\n"
     ]
    },
    {
     "name": "stdout",
     "output_type": "stream",
     "text": [
      "best score: 0.5617283950617284\n",
      "Fitting 10 folds for each of 12 candidates, totalling 120 fits\n"
     ]
    },
    {
     "name": "stderr",
     "output_type": "stream",
     "text": [
      "[Parallel(n_jobs=1)]: Using backend SequentialBackend with 1 concurrent workers.\n",
      "[Parallel(n_jobs=1)]: Done 120 out of 120 | elapsed:   41.5s finished\n"
     ]
    },
    {
     "name": "stdout",
     "output_type": "stream",
     "text": [
      "best score: 0.5617283950617284\n",
      "Fitting 10 folds for each of 12 candidates, totalling 120 fits\n"
     ]
    },
    {
     "name": "stderr",
     "output_type": "stream",
     "text": [
      "[Parallel(n_jobs=1)]: Using backend SequentialBackend with 1 concurrent workers.\n",
      "[Parallel(n_jobs=1)]: Done 120 out of 120 | elapsed:   19.8s finished\n"
     ]
    },
    {
     "name": "stdout",
     "output_type": "stream",
     "text": [
      "best score: 0.5617283950617284\n",
      "Split: 1\n",
      "Split: 2\n",
      "Split: 3\n",
      "Split: 4\n",
      "Split: 5\n",
      "Split: 6\n",
      "Split: 7\n",
      "Split: 8\n",
      "Split: 9\n",
      "Split: 10\n",
      "Training Testing Accuracy for n_games=6 team=1 : 60.00% (11.86%)\n",
      "(178, 1130)\n",
      "(178, 1)\n",
      "X_train shape: (160, 1886)\n",
      "X_test shape: (18, 1886)\n",
      "Fitting 10 folds for each of 12 candidates, totalling 120 fits\n"
     ]
    },
    {
     "name": "stderr",
     "output_type": "stream",
     "text": [
      "[Parallel(n_jobs=1)]: Using backend SequentialBackend with 1 concurrent workers.\n",
      "[Parallel(n_jobs=1)]: Done 120 out of 120 | elapsed:   27.3s finished\n"
     ]
    },
    {
     "name": "stdout",
     "output_type": "stream",
     "text": [
      "best score: 0.66875\n",
      "Fitting 10 folds for each of 12 candidates, totalling 120 fits\n"
     ]
    },
    {
     "name": "stderr",
     "output_type": "stream",
     "text": [
      "[Parallel(n_jobs=1)]: Using backend SequentialBackend with 1 concurrent workers.\n",
      "[Parallel(n_jobs=1)]: Done 120 out of 120 | elapsed:   44.5s finished\n"
     ]
    },
    {
     "name": "stdout",
     "output_type": "stream",
     "text": [
      "best score: 0.66875\n",
      "Fitting 10 folds for each of 12 candidates, totalling 120 fits\n"
     ]
    },
    {
     "name": "stderr",
     "output_type": "stream",
     "text": [
      "[Parallel(n_jobs=1)]: Using backend SequentialBackend with 1 concurrent workers.\n",
      "[Parallel(n_jobs=1)]: Done 120 out of 120 | elapsed:   23.7s finished\n"
     ]
    },
    {
     "name": "stdout",
     "output_type": "stream",
     "text": [
      "best score: 0.66875\n",
      "Fitting 10 folds for each of 12 candidates, totalling 120 fits\n"
     ]
    },
    {
     "name": "stderr",
     "output_type": "stream",
     "text": [
      "[Parallel(n_jobs=1)]: Using backend SequentialBackend with 1 concurrent workers.\n",
      "[Parallel(n_jobs=1)]: Done 120 out of 120 | elapsed:   24.4s finished\n"
     ]
    },
    {
     "name": "stdout",
     "output_type": "stream",
     "text": [
      "best score: 0.66875\n",
      "Fitting 10 folds for each of 12 candidates, totalling 120 fits\n"
     ]
    },
    {
     "name": "stderr",
     "output_type": "stream",
     "text": [
      "[Parallel(n_jobs=1)]: Using backend SequentialBackend with 1 concurrent workers.\n",
      "[Parallel(n_jobs=1)]: Done 120 out of 120 | elapsed:   25.8s finished\n"
     ]
    },
    {
     "name": "stdout",
     "output_type": "stream",
     "text": [
      "best score: 0.66875\n",
      "Split: 1\n",
      "Split: 2\n",
      "Split: 3\n",
      "Split: 4\n",
      "Split: 5\n",
      "Split: 6\n",
      "Split: 7\n",
      "Split: 8\n",
      "Split: 9\n",
      "Split: 10\n",
      "Training Testing Accuracy for n_games=6 team=2 : 66.31% (5.98%)\n",
      "(176, 1130)\n",
      "(176, 1)\n",
      "X_train shape: (158, 1884)\n",
      "X_test shape: (18, 1884)\n",
      "Fitting 10 folds for each of 12 candidates, totalling 120 fits\n"
     ]
    },
    {
     "name": "stderr",
     "output_type": "stream",
     "text": [
      "[Parallel(n_jobs=1)]: Using backend SequentialBackend with 1 concurrent workers.\n",
      "[Parallel(n_jobs=1)]: Done 120 out of 120 | elapsed:   27.4s finished\n"
     ]
    },
    {
     "name": "stdout",
     "output_type": "stream",
     "text": [
      "best score: 0.7025316455696202\n",
      "Fitting 10 folds for each of 12 candidates, totalling 120 fits\n"
     ]
    },
    {
     "name": "stderr",
     "output_type": "stream",
     "text": [
      "[Parallel(n_jobs=1)]: Using backend SequentialBackend with 1 concurrent workers.\n",
      "[Parallel(n_jobs=1)]: Done 120 out of 120 | elapsed:   21.2s finished\n"
     ]
    },
    {
     "name": "stdout",
     "output_type": "stream",
     "text": [
      "best score: 0.7025316455696202\n",
      "Fitting 10 folds for each of 12 candidates, totalling 120 fits\n"
     ]
    },
    {
     "name": "stderr",
     "output_type": "stream",
     "text": [
      "[Parallel(n_jobs=1)]: Using backend SequentialBackend with 1 concurrent workers.\n",
      "[Parallel(n_jobs=1)]: Done 120 out of 120 | elapsed:   22.0s finished\n"
     ]
    },
    {
     "name": "stdout",
     "output_type": "stream",
     "text": [
      "best score: 0.7025316455696202\n",
      "Fitting 10 folds for each of 12 candidates, totalling 120 fits\n"
     ]
    },
    {
     "name": "stderr",
     "output_type": "stream",
     "text": [
      "[Parallel(n_jobs=1)]: Using backend SequentialBackend with 1 concurrent workers.\n",
      "[Parallel(n_jobs=1)]: Done 120 out of 120 | elapsed:  1.2min finished\n"
     ]
    },
    {
     "name": "stdout",
     "output_type": "stream",
     "text": [
      "best score: 0.7025316455696202\n",
      "Fitting 10 folds for each of 12 candidates, totalling 120 fits\n"
     ]
    },
    {
     "name": "stderr",
     "output_type": "stream",
     "text": [
      "[Parallel(n_jobs=1)]: Using backend SequentialBackend with 1 concurrent workers.\n",
      "[Parallel(n_jobs=1)]: Done 120 out of 120 | elapsed:   26.6s finished\n"
     ]
    },
    {
     "name": "stdout",
     "output_type": "stream",
     "text": [
      "best score: 0.7025316455696202\n",
      "Split: 1\n",
      "Split: 2\n",
      "Split: 3\n",
      "Split: 4\n",
      "Split: 5\n",
      "Split: 6\n",
      "Split: 7\n",
      "Split: 8\n",
      "Split: 9\n",
      "Split: 10\n",
      "Training Testing Accuracy for n_games=6 team=3 : 69.35% (2.27%)\n",
      "(181, 1130)\n",
      "(181, 1)\n",
      "X_train shape: (162, 1889)\n",
      "X_test shape: (19, 1889)\n",
      "Fitting 10 folds for each of 12 candidates, totalling 120 fits\n"
     ]
    },
    {
     "name": "stderr",
     "output_type": "stream",
     "text": [
      "[Parallel(n_jobs=1)]: Using backend SequentialBackend with 1 concurrent workers.\n",
      "[Parallel(n_jobs=1)]: Done 120 out of 120 | elapsed:   27.8s finished\n"
     ]
    },
    {
     "name": "stdout",
     "output_type": "stream",
     "text": [
      "best score: 0.6790123456790124\n",
      "Fitting 10 folds for each of 12 candidates, totalling 120 fits\n"
     ]
    },
    {
     "name": "stderr",
     "output_type": "stream",
     "text": [
      "[Parallel(n_jobs=1)]: Using backend SequentialBackend with 1 concurrent workers.\n",
      "[Parallel(n_jobs=1)]: Done 120 out of 120 | elapsed:   32.1s finished\n"
     ]
    },
    {
     "name": "stdout",
     "output_type": "stream",
     "text": [
      "best score: 0.6790123456790124\n",
      "Fitting 10 folds for each of 12 candidates, totalling 120 fits\n"
     ]
    },
    {
     "name": "stderr",
     "output_type": "stream",
     "text": [
      "[Parallel(n_jobs=1)]: Using backend SequentialBackend with 1 concurrent workers.\n",
      "[Parallel(n_jobs=1)]: Done 120 out of 120 | elapsed:   32.9s finished\n"
     ]
    },
    {
     "name": "stdout",
     "output_type": "stream",
     "text": [
      "best score: 0.6790123456790124\n",
      "Fitting 10 folds for each of 12 candidates, totalling 120 fits\n"
     ]
    },
    {
     "name": "stderr",
     "output_type": "stream",
     "text": [
      "[Parallel(n_jobs=1)]: Using backend SequentialBackend with 1 concurrent workers.\n",
      "[Parallel(n_jobs=1)]: Done 120 out of 120 | elapsed:   21.2s finished\n"
     ]
    },
    {
     "name": "stdout",
     "output_type": "stream",
     "text": [
      "best score: 0.6790123456790124\n",
      "Fitting 10 folds for each of 12 candidates, totalling 120 fits\n"
     ]
    },
    {
     "name": "stderr",
     "output_type": "stream",
     "text": [
      "[Parallel(n_jobs=1)]: Using backend SequentialBackend with 1 concurrent workers.\n",
      "[Parallel(n_jobs=1)]: Done 120 out of 120 | elapsed:   54.6s finished\n"
     ]
    },
    {
     "name": "stdout",
     "output_type": "stream",
     "text": [
      "best score: 0.6790123456790124\n",
      "Split: 1\n",
      "Split: 2\n",
      "Split: 3\n",
      "Split: 4\n",
      "Split: 5\n",
      "Split: 6\n",
      "Split: 7\n",
      "Split: 8\n",
      "Split: 9\n",
      "Split: 10\n",
      "Training Testing Accuracy for n_games=6 team=4 : 57.46% (8.96%)\n",
      "(178, 1130)\n",
      "(178, 1)\n",
      "X_train shape: (160, 1873)\n",
      "X_test shape: (18, 1873)\n",
      "Fitting 10 folds for each of 12 candidates, totalling 120 fits\n"
     ]
    },
    {
     "name": "stderr",
     "output_type": "stream",
     "text": [
      "[Parallel(n_jobs=1)]: Using backend SequentialBackend with 1 concurrent workers.\n",
      "[Parallel(n_jobs=1)]: Done 120 out of 120 | elapsed:   27.1s finished\n"
     ]
    },
    {
     "name": "stdout",
     "output_type": "stream",
     "text": [
      "best score: 0.61875\n",
      "Fitting 10 folds for each of 12 candidates, totalling 120 fits\n"
     ]
    },
    {
     "name": "stderr",
     "output_type": "stream",
     "text": [
      "[Parallel(n_jobs=1)]: Using backend SequentialBackend with 1 concurrent workers.\n",
      "[Parallel(n_jobs=1)]: Done 120 out of 120 | elapsed:   55.3s finished\n"
     ]
    },
    {
     "name": "stdout",
     "output_type": "stream",
     "text": [
      "best score: 0.61875\n",
      "Fitting 10 folds for each of 12 candidates, totalling 120 fits\n"
     ]
    },
    {
     "name": "stderr",
     "output_type": "stream",
     "text": [
      "[Parallel(n_jobs=1)]: Using backend SequentialBackend with 1 concurrent workers.\n",
      "[Parallel(n_jobs=1)]: Done 120 out of 120 | elapsed:   57.1s finished\n"
     ]
    },
    {
     "name": "stdout",
     "output_type": "stream",
     "text": [
      "best score: 0.61875\n",
      "Fitting 10 folds for each of 12 candidates, totalling 120 fits\n"
     ]
    },
    {
     "name": "stderr",
     "output_type": "stream",
     "text": [
      "[Parallel(n_jobs=1)]: Using backend SequentialBackend with 1 concurrent workers.\n",
      "[Parallel(n_jobs=1)]: Done 120 out of 120 | elapsed:   48.2s finished\n"
     ]
    },
    {
     "name": "stdout",
     "output_type": "stream",
     "text": [
      "best score: 0.61875\n",
      "Fitting 10 folds for each of 12 candidates, totalling 120 fits\n"
     ]
    },
    {
     "name": "stderr",
     "output_type": "stream",
     "text": [
      "[Parallel(n_jobs=1)]: Using backend SequentialBackend with 1 concurrent workers.\n",
      "[Parallel(n_jobs=1)]: Done 120 out of 120 | elapsed:   20.7s finished\n"
     ]
    },
    {
     "name": "stdout",
     "output_type": "stream",
     "text": [
      "best score: 0.61875\n",
      "Split: 1\n",
      "Split: 2\n",
      "Split: 3\n",
      "Split: 4\n",
      "Split: 5\n",
      "Split: 6\n",
      "Split: 7\n",
      "Split: 8\n",
      "Split: 9\n",
      "Split: 10\n",
      "Training Testing Accuracy for n_games=6 team=5 : 56.73% (6.24%)\n",
      "(181, 1130)\n",
      "(181, 1)\n",
      "X_train shape: (162, 1898)\n",
      "X_test shape: (19, 1898)\n",
      "Fitting 10 folds for each of 12 candidates, totalling 120 fits\n"
     ]
    },
    {
     "name": "stderr",
     "output_type": "stream",
     "text": [
      "[Parallel(n_jobs=1)]: Using backend SequentialBackend with 1 concurrent workers.\n",
      "[Parallel(n_jobs=1)]: Done 120 out of 120 | elapsed:   28.2s finished\n"
     ]
    },
    {
     "name": "stdout",
     "output_type": "stream",
     "text": [
      "best score: 0.5987654320987654\n",
      "Fitting 10 folds for each of 12 candidates, totalling 120 fits\n"
     ]
    },
    {
     "name": "stderr",
     "output_type": "stream",
     "text": [
      "[Parallel(n_jobs=1)]: Using backend SequentialBackend with 1 concurrent workers.\n",
      "[Parallel(n_jobs=1)]: Done 120 out of 120 | elapsed:   28.1s finished\n"
     ]
    },
    {
     "name": "stdout",
     "output_type": "stream",
     "text": [
      "best score: 0.5987654320987654\n",
      "Fitting 10 folds for each of 12 candidates, totalling 120 fits\n"
     ]
    },
    {
     "name": "stderr",
     "output_type": "stream",
     "text": [
      "[Parallel(n_jobs=1)]: Using backend SequentialBackend with 1 concurrent workers.\n",
      "[Parallel(n_jobs=1)]: Done 120 out of 120 | elapsed:   31.4s finished\n"
     ]
    },
    {
     "name": "stdout",
     "output_type": "stream",
     "text": [
      "best score: 0.5987654320987654\n",
      "Fitting 10 folds for each of 12 candidates, totalling 120 fits\n"
     ]
    },
    {
     "name": "stderr",
     "output_type": "stream",
     "text": [
      "[Parallel(n_jobs=1)]: Using backend SequentialBackend with 1 concurrent workers.\n",
      "[Parallel(n_jobs=1)]: Done 120 out of 120 | elapsed:   24.2s finished\n"
     ]
    },
    {
     "name": "stdout",
     "output_type": "stream",
     "text": [
      "best score: 0.5987654320987654\n",
      "Fitting 10 folds for each of 12 candidates, totalling 120 fits\n"
     ]
    },
    {
     "name": "stderr",
     "output_type": "stream",
     "text": [
      "[Parallel(n_jobs=1)]: Using backend SequentialBackend with 1 concurrent workers.\n",
      "[Parallel(n_jobs=1)]: Done 120 out of 120 | elapsed:   46.1s finished\n"
     ]
    },
    {
     "name": "stdout",
     "output_type": "stream",
     "text": [
      "best score: 0.5987654320987654\n",
      "Split: 1\n",
      "Split: 2\n",
      "Split: 3\n",
      "Split: 4\n",
      "Split: 5\n",
      "Split: 6\n",
      "Split: 7\n",
      "Split: 8\n",
      "Split: 9\n",
      "Split: 10\n",
      "Training Testing Accuracy for n_games=6 team=6 : 57.46% (8.61%)\n",
      "(190, 1130)\n",
      "(190, 1)\n",
      "X_train shape: (171, 1887)\n",
      "X_test shape: (19, 1887)\n",
      "Fitting 10 folds for each of 12 candidates, totalling 120 fits\n"
     ]
    },
    {
     "name": "stderr",
     "output_type": "stream",
     "text": [
      "[Parallel(n_jobs=1)]: Using backend SequentialBackend with 1 concurrent workers.\n",
      "[Parallel(n_jobs=1)]: Done 120 out of 120 | elapsed:   28.7s finished\n"
     ]
    },
    {
     "name": "stdout",
     "output_type": "stream",
     "text": [
      "best score: 0.6783625730994152\n",
      "Fitting 10 folds for each of 12 candidates, totalling 120 fits\n"
     ]
    },
    {
     "name": "stderr",
     "output_type": "stream",
     "text": [
      "[Parallel(n_jobs=1)]: Using backend SequentialBackend with 1 concurrent workers.\n",
      "[Parallel(n_jobs=1)]: Done 120 out of 120 | elapsed:   38.7s finished\n"
     ]
    },
    {
     "name": "stdout",
     "output_type": "stream",
     "text": [
      "best score: 0.6783625730994152\n",
      "Fitting 10 folds for each of 12 candidates, totalling 120 fits\n"
     ]
    },
    {
     "name": "stderr",
     "output_type": "stream",
     "text": [
      "[Parallel(n_jobs=1)]: Using backend SequentialBackend with 1 concurrent workers.\n",
      "[Parallel(n_jobs=1)]: Done 120 out of 120 | elapsed:   24.4s finished\n"
     ]
    },
    {
     "name": "stdout",
     "output_type": "stream",
     "text": [
      "best score: 0.6783625730994152\n",
      "Fitting 10 folds for each of 12 candidates, totalling 120 fits\n"
     ]
    },
    {
     "name": "stderr",
     "output_type": "stream",
     "text": [
      "[Parallel(n_jobs=1)]: Using backend SequentialBackend with 1 concurrent workers.\n",
      "[Parallel(n_jobs=1)]: Done 120 out of 120 | elapsed:   20.4s finished\n"
     ]
    },
    {
     "name": "stdout",
     "output_type": "stream",
     "text": [
      "best score: 0.6783625730994152\n",
      "Fitting 10 folds for each of 12 candidates, totalling 120 fits\n"
     ]
    },
    {
     "name": "stderr",
     "output_type": "stream",
     "text": [
      "[Parallel(n_jobs=1)]: Using backend SequentialBackend with 1 concurrent workers.\n",
      "[Parallel(n_jobs=1)]: Done 120 out of 120 | elapsed:   22.7s finished\n"
     ]
    },
    {
     "name": "stdout",
     "output_type": "stream",
     "text": [
      "best score: 0.6783625730994152\n",
      "Split: 1\n",
      "Split: 2\n",
      "Split: 3\n",
      "Split: 4\n",
      "Split: 5\n",
      "Split: 6\n",
      "Split: 7\n",
      "Split: 8\n",
      "Split: 9\n",
      "Split: 10\n",
      "Training Testing Accuracy for n_games=6 team=7 : 65.79% (2.63%)\n",
      "(174, 1130)\n",
      "(174, 1)\n",
      "X_train shape: (156, 1891)\n",
      "X_test shape: (18, 1891)\n",
      "Fitting 10 folds for each of 12 candidates, totalling 120 fits\n"
     ]
    },
    {
     "name": "stderr",
     "output_type": "stream",
     "text": [
      "[Parallel(n_jobs=1)]: Using backend SequentialBackend with 1 concurrent workers.\n",
      "[Parallel(n_jobs=1)]: Done 120 out of 120 | elapsed:   27.3s finished\n"
     ]
    },
    {
     "name": "stdout",
     "output_type": "stream",
     "text": [
      "best score: 0.717948717948718\n",
      "Fitting 10 folds for each of 12 candidates, totalling 120 fits\n"
     ]
    },
    {
     "name": "stderr",
     "output_type": "stream",
     "text": [
      "[Parallel(n_jobs=1)]: Using backend SequentialBackend with 1 concurrent workers.\n",
      "[Parallel(n_jobs=1)]: Done 120 out of 120 | elapsed:   22.6s finished\n"
     ]
    },
    {
     "name": "stdout",
     "output_type": "stream",
     "text": [
      "best score: 0.717948717948718\n",
      "Fitting 10 folds for each of 12 candidates, totalling 120 fits\n"
     ]
    },
    {
     "name": "stderr",
     "output_type": "stream",
     "text": [
      "[Parallel(n_jobs=1)]: Using backend SequentialBackend with 1 concurrent workers.\n",
      "[Parallel(n_jobs=1)]: Done 120 out of 120 | elapsed:   21.1s finished\n"
     ]
    },
    {
     "name": "stdout",
     "output_type": "stream",
     "text": [
      "best score: 0.717948717948718\n",
      "Fitting 10 folds for each of 12 candidates, totalling 120 fits\n"
     ]
    },
    {
     "name": "stderr",
     "output_type": "stream",
     "text": [
      "[Parallel(n_jobs=1)]: Using backend SequentialBackend with 1 concurrent workers.\n",
      "[Parallel(n_jobs=1)]: Done 120 out of 120 | elapsed:   22.1s finished\n"
     ]
    },
    {
     "name": "stdout",
     "output_type": "stream",
     "text": [
      "best score: 0.717948717948718\n",
      "Fitting 10 folds for each of 12 candidates, totalling 120 fits\n"
     ]
    },
    {
     "name": "stderr",
     "output_type": "stream",
     "text": [
      "[Parallel(n_jobs=1)]: Using backend SequentialBackend with 1 concurrent workers.\n",
      "[Parallel(n_jobs=1)]: Done 120 out of 120 | elapsed:   20.9s finished\n"
     ]
    },
    {
     "name": "stdout",
     "output_type": "stream",
     "text": [
      "best score: 0.717948717948718\n",
      "Split: 1\n",
      "Split: 2\n",
      "Split: 3\n",
      "Split: 4\n",
      "Split: 5\n",
      "Split: 6\n",
      "Split: 7\n",
      "Split: 8\n",
      "Split: 9\n",
      "Split: 10\n",
      "Training Testing Accuracy for n_games=6 team=8 : 71.83% (1.73%)\n",
      "(187, 1130)\n",
      "(187, 1)\n",
      "X_train shape: (168, 1901)\n",
      "X_test shape: (19, 1901)\n",
      "Fitting 10 folds for each of 12 candidates, totalling 120 fits\n"
     ]
    },
    {
     "name": "stderr",
     "output_type": "stream",
     "text": [
      "[Parallel(n_jobs=1)]: Using backend SequentialBackend with 1 concurrent workers.\n",
      "[Parallel(n_jobs=1)]: Done 120 out of 120 | elapsed:   28.7s finished\n"
     ]
    },
    {
     "name": "stdout",
     "output_type": "stream",
     "text": [
      "best score: 0.5952380952380952\n",
      "Fitting 10 folds for each of 12 candidates, totalling 120 fits\n"
     ]
    },
    {
     "name": "stderr",
     "output_type": "stream",
     "text": [
      "[Parallel(n_jobs=1)]: Using backend SequentialBackend with 1 concurrent workers.\n",
      "[Parallel(n_jobs=1)]: Done 120 out of 120 | elapsed:   59.2s finished\n"
     ]
    },
    {
     "name": "stdout",
     "output_type": "stream",
     "text": [
      "best score: 0.5952380952380952\n",
      "Fitting 10 folds for each of 12 candidates, totalling 120 fits\n"
     ]
    },
    {
     "name": "stderr",
     "output_type": "stream",
     "text": [
      "[Parallel(n_jobs=1)]: Using backend SequentialBackend with 1 concurrent workers.\n",
      "[Parallel(n_jobs=1)]: Done 120 out of 120 | elapsed:   29.3s finished\n"
     ]
    },
    {
     "name": "stdout",
     "output_type": "stream",
     "text": [
      "best score: 0.5952380952380952\n",
      "Fitting 10 folds for each of 12 candidates, totalling 120 fits\n"
     ]
    },
    {
     "name": "stderr",
     "output_type": "stream",
     "text": [
      "[Parallel(n_jobs=1)]: Using backend SequentialBackend with 1 concurrent workers.\n",
      "[Parallel(n_jobs=1)]: Done 120 out of 120 | elapsed:   28.1s finished\n"
     ]
    },
    {
     "name": "stdout",
     "output_type": "stream",
     "text": [
      "best score: 0.5952380952380952\n",
      "Fitting 10 folds for each of 12 candidates, totalling 120 fits\n"
     ]
    },
    {
     "name": "stderr",
     "output_type": "stream",
     "text": [
      "[Parallel(n_jobs=1)]: Using backend SequentialBackend with 1 concurrent workers.\n",
      "[Parallel(n_jobs=1)]: Done 120 out of 120 | elapsed:   30.1s finished\n"
     ]
    },
    {
     "name": "stdout",
     "output_type": "stream",
     "text": [
      "best score: 0.5952380952380952\n",
      "Split: 1\n",
      "Split: 2\n",
      "Split: 3\n",
      "Split: 4\n",
      "Split: 5\n",
      "Split: 6\n",
      "Split: 7\n",
      "Split: 8\n",
      "Split: 9\n",
      "Split: 10\n",
      "Training Testing Accuracy for n_games=6 team=9 : 57.22% (9.19%)\n",
      "(188, 1130)\n",
      "(188, 1)\n",
      "X_train shape: (169, 1896)\n",
      "X_test shape: (19, 1896)\n",
      "Fitting 10 folds for each of 12 candidates, totalling 120 fits\n"
     ]
    },
    {
     "name": "stderr",
     "output_type": "stream",
     "text": [
      "[Parallel(n_jobs=1)]: Using backend SequentialBackend with 1 concurrent workers.\n",
      "[Parallel(n_jobs=1)]: Done 120 out of 120 | elapsed:   27.7s finished\n"
     ]
    },
    {
     "name": "stdout",
     "output_type": "stream",
     "text": [
      "best score: 0.6449704142011834\n",
      "Fitting 10 folds for each of 12 candidates, totalling 120 fits\n"
     ]
    },
    {
     "name": "stderr",
     "output_type": "stream",
     "text": [
      "[Parallel(n_jobs=1)]: Using backend SequentialBackend with 1 concurrent workers.\n",
      "[Parallel(n_jobs=1)]: Done 120 out of 120 | elapsed:   24.0s finished\n"
     ]
    },
    {
     "name": "stdout",
     "output_type": "stream",
     "text": [
      "best score: 0.6686390532544378\n",
      "Fitting 10 folds for each of 12 candidates, totalling 120 fits\n"
     ]
    },
    {
     "name": "stderr",
     "output_type": "stream",
     "text": [
      "[Parallel(n_jobs=1)]: Using backend SequentialBackend with 1 concurrent workers.\n",
      "[Parallel(n_jobs=1)]: Done 120 out of 120 | elapsed:   27.6s finished\n"
     ]
    },
    {
     "name": "stdout",
     "output_type": "stream",
     "text": [
      "best score: 0.6804733727810651\n",
      "Fitting 10 folds for each of 12 candidates, totalling 120 fits\n"
     ]
    },
    {
     "name": "stderr",
     "output_type": "stream",
     "text": [
      "[Parallel(n_jobs=1)]: Using backend SequentialBackend with 1 concurrent workers.\n",
      "[Parallel(n_jobs=1)]: Done 120 out of 120 | elapsed:   23.9s finished\n"
     ]
    },
    {
     "name": "stdout",
     "output_type": "stream",
     "text": [
      "best score: 0.6804733727810651\n",
      "Fitting 10 folds for each of 12 candidates, totalling 120 fits\n"
     ]
    },
    {
     "name": "stderr",
     "output_type": "stream",
     "text": [
      "[Parallel(n_jobs=1)]: Using backend SequentialBackend with 1 concurrent workers.\n",
      "[Parallel(n_jobs=1)]: Done 120 out of 120 | elapsed:   28.0s finished\n"
     ]
    },
    {
     "name": "stdout",
     "output_type": "stream",
     "text": [
      "best score: 0.6923076923076923\n",
      "Split: 1\n",
      "Split: 2\n",
      "Split: 3\n",
      "Split: 4\n",
      "Split: 5\n",
      "Split: 6\n",
      "Split: 7\n",
      "Split: 8\n",
      "Split: 9\n",
      "Split: 10\n",
      "Training Testing Accuracy for n_games=6 team=10 : 64.42% (9.01%)\n",
      "(180, 1130)\n",
      "(180, 1)\n",
      "X_train shape: (162, 1903)\n",
      "X_test shape: (18, 1903)\n",
      "Fitting 10 folds for each of 12 candidates, totalling 120 fits\n"
     ]
    },
    {
     "name": "stderr",
     "output_type": "stream",
     "text": [
      "[Parallel(n_jobs=1)]: Using backend SequentialBackend with 1 concurrent workers.\n",
      "[Parallel(n_jobs=1)]: Done 120 out of 120 | elapsed:   27.8s finished\n"
     ]
    },
    {
     "name": "stdout",
     "output_type": "stream",
     "text": [
      "best score: 0.5802469135802469\n",
      "Fitting 10 folds for each of 12 candidates, totalling 120 fits\n"
     ]
    },
    {
     "name": "stderr",
     "output_type": "stream",
     "text": [
      "[Parallel(n_jobs=1)]: Using backend SequentialBackend with 1 concurrent workers.\n",
      "[Parallel(n_jobs=1)]: Done 120 out of 120 | elapsed:   28.0s finished\n"
     ]
    },
    {
     "name": "stdout",
     "output_type": "stream",
     "text": [
      "best score: 0.5987654320987654\n",
      "Fitting 10 folds for each of 12 candidates, totalling 120 fits\n"
     ]
    },
    {
     "name": "stderr",
     "output_type": "stream",
     "text": [
      "[Parallel(n_jobs=1)]: Using backend SequentialBackend with 1 concurrent workers.\n",
      "[Parallel(n_jobs=1)]: Done 120 out of 120 | elapsed:   32.3s finished\n"
     ]
    },
    {
     "name": "stdout",
     "output_type": "stream",
     "text": [
      "best score: 0.5987654320987654\n",
      "Fitting 10 folds for each of 12 candidates, totalling 120 fits\n"
     ]
    },
    {
     "name": "stderr",
     "output_type": "stream",
     "text": [
      "[Parallel(n_jobs=1)]: Using backend SequentialBackend with 1 concurrent workers.\n",
      "[Parallel(n_jobs=1)]: Done 120 out of 120 | elapsed:   26.9s finished\n"
     ]
    },
    {
     "name": "stdout",
     "output_type": "stream",
     "text": [
      "best score: 0.6234567901234568\n",
      "Fitting 10 folds for each of 12 candidates, totalling 120 fits\n"
     ]
    },
    {
     "name": "stderr",
     "output_type": "stream",
     "text": [
      "[Parallel(n_jobs=1)]: Using backend SequentialBackend with 1 concurrent workers.\n",
      "[Parallel(n_jobs=1)]: Done 120 out of 120 | elapsed:   40.4s finished\n"
     ]
    },
    {
     "name": "stdout",
     "output_type": "stream",
     "text": [
      "best score: 0.6296296296296297\n",
      "Split: 1\n",
      "Split: 2\n",
      "Split: 3\n",
      "Split: 4\n",
      "Split: 5\n",
      "Split: 6\n",
      "Split: 7\n",
      "Split: 8\n",
      "Split: 9\n",
      "Split: 10\n",
      "Training Testing Accuracy for n_games=6 team=11 : 58.89% (6.19%)\n",
      "(181, 1130)\n",
      "(181, 1)\n",
      "X_train shape: (162, 1894)\n",
      "X_test shape: (19, 1894)\n",
      "Fitting 10 folds for each of 12 candidates, totalling 120 fits\n"
     ]
    },
    {
     "name": "stderr",
     "output_type": "stream",
     "text": [
      "[Parallel(n_jobs=1)]: Using backend SequentialBackend with 1 concurrent workers.\n",
      "[Parallel(n_jobs=1)]: Done 120 out of 120 | elapsed:   28.1s finished\n"
     ]
    },
    {
     "name": "stdout",
     "output_type": "stream",
     "text": [
      "best score: 0.5802469135802469\n",
      "Fitting 10 folds for each of 12 candidates, totalling 120 fits\n"
     ]
    },
    {
     "name": "stderr",
     "output_type": "stream",
     "text": [
      "[Parallel(n_jobs=1)]: Using backend SequentialBackend with 1 concurrent workers.\n",
      "[Parallel(n_jobs=1)]: Done 120 out of 120 | elapsed:   26.6s finished\n"
     ]
    },
    {
     "name": "stdout",
     "output_type": "stream",
     "text": [
      "best score: 0.5802469135802469\n",
      "Fitting 10 folds for each of 12 candidates, totalling 120 fits\n"
     ]
    },
    {
     "name": "stderr",
     "output_type": "stream",
     "text": [
      "[Parallel(n_jobs=1)]: Using backend SequentialBackend with 1 concurrent workers.\n",
      "[Parallel(n_jobs=1)]: Done 120 out of 120 | elapsed:   22.1s finished\n"
     ]
    },
    {
     "name": "stdout",
     "output_type": "stream",
     "text": [
      "best score: 0.5802469135802469\n",
      "Fitting 10 folds for each of 12 candidates, totalling 120 fits\n"
     ]
    },
    {
     "name": "stderr",
     "output_type": "stream",
     "text": [
      "[Parallel(n_jobs=1)]: Using backend SequentialBackend with 1 concurrent workers.\n",
      "[Parallel(n_jobs=1)]: Done 120 out of 120 | elapsed:   24.0s finished\n"
     ]
    },
    {
     "name": "stdout",
     "output_type": "stream",
     "text": [
      "best score: 0.5802469135802469\n",
      "Fitting 10 folds for each of 12 candidates, totalling 120 fits\n"
     ]
    },
    {
     "name": "stderr",
     "output_type": "stream",
     "text": [
      "[Parallel(n_jobs=1)]: Using backend SequentialBackend with 1 concurrent workers.\n",
      "[Parallel(n_jobs=1)]: Done 120 out of 120 | elapsed:   51.5s finished\n"
     ]
    },
    {
     "name": "stdout",
     "output_type": "stream",
     "text": [
      "best score: 0.5802469135802469\n",
      "Split: 1\n",
      "Split: 2\n",
      "Split: 3\n",
      "Split: 4\n",
      "Split: 5\n",
      "Split: 6\n",
      "Split: 7\n",
      "Split: 8\n",
      "Split: 9\n",
      "Split: 10\n",
      "Training Testing Accuracy for n_games=6 team=12 : 53.07% (9.81%)\n",
      "(182, 1130)\n",
      "(182, 1)\n",
      "X_train shape: (163, 1916)\n",
      "X_test shape: (19, 1916)\n",
      "Fitting 10 folds for each of 12 candidates, totalling 120 fits\n"
     ]
    },
    {
     "name": "stderr",
     "output_type": "stream",
     "text": [
      "[Parallel(n_jobs=1)]: Using backend SequentialBackend with 1 concurrent workers.\n",
      "[Parallel(n_jobs=1)]: Done 120 out of 120 | elapsed:   28.3s finished\n"
     ]
    },
    {
     "name": "stdout",
     "output_type": "stream",
     "text": [
      "best score: 0.6134969325153374\n",
      "Fitting 10 folds for each of 12 candidates, totalling 120 fits\n"
     ]
    },
    {
     "name": "stderr",
     "output_type": "stream",
     "text": [
      "[Parallel(n_jobs=1)]: Using backend SequentialBackend with 1 concurrent workers.\n",
      "[Parallel(n_jobs=1)]: Done 120 out of 120 | elapsed:   34.4s finished\n"
     ]
    },
    {
     "name": "stdout",
     "output_type": "stream",
     "text": [
      "best score: 0.6134969325153374\n",
      "Fitting 10 folds for each of 12 candidates, totalling 120 fits\n"
     ]
    },
    {
     "name": "stderr",
     "output_type": "stream",
     "text": [
      "[Parallel(n_jobs=1)]: Using backend SequentialBackend with 1 concurrent workers.\n",
      "[Parallel(n_jobs=1)]: Done 120 out of 120 | elapsed:   29.1s finished\n"
     ]
    },
    {
     "name": "stdout",
     "output_type": "stream",
     "text": [
      "best score: 0.6257668711656442\n",
      "Fitting 10 folds for each of 12 candidates, totalling 120 fits\n"
     ]
    },
    {
     "name": "stderr",
     "output_type": "stream",
     "text": [
      "[Parallel(n_jobs=1)]: Using backend SequentialBackend with 1 concurrent workers.\n",
      "[Parallel(n_jobs=1)]: Done 120 out of 120 | elapsed:   25.2s finished\n"
     ]
    },
    {
     "name": "stdout",
     "output_type": "stream",
     "text": [
      "best score: 0.6441717791411042\n",
      "Fitting 10 folds for each of 12 candidates, totalling 120 fits\n"
     ]
    },
    {
     "name": "stderr",
     "output_type": "stream",
     "text": [
      "[Parallel(n_jobs=1)]: Using backend SequentialBackend with 1 concurrent workers.\n",
      "[Parallel(n_jobs=1)]: Done 120 out of 120 | elapsed:   28.0s finished\n"
     ]
    },
    {
     "name": "stdout",
     "output_type": "stream",
     "text": [
      "best score: 0.6503067484662577\n",
      "Split: 1\n",
      "Split: 2\n",
      "Split: 3\n",
      "Split: 4\n",
      "Split: 5\n",
      "Split: 6\n",
      "Split: 7\n",
      "Split: 8\n",
      "Split: 9\n",
      "Split: 10\n",
      "Training Testing Accuracy for n_games=6 team=13 : 59.74% (7.94%)\n",
      "(185, 1130)\n",
      "(185, 1)\n",
      "X_train shape: (166, 1895)\n",
      "X_test shape: (19, 1895)\n",
      "Fitting 10 folds for each of 12 candidates, totalling 120 fits\n"
     ]
    },
    {
     "name": "stderr",
     "output_type": "stream",
     "text": [
      "[Parallel(n_jobs=1)]: Using backend SequentialBackend with 1 concurrent workers.\n",
      "[Parallel(n_jobs=1)]: Done 120 out of 120 | elapsed:   28.0s finished\n"
     ]
    },
    {
     "name": "stdout",
     "output_type": "stream",
     "text": [
      "best score: 0.6265060240963856\n",
      "Fitting 10 folds for each of 12 candidates, totalling 120 fits\n"
     ]
    },
    {
     "name": "stderr",
     "output_type": "stream",
     "text": [
      "[Parallel(n_jobs=1)]: Using backend SequentialBackend with 1 concurrent workers.\n",
      "[Parallel(n_jobs=1)]: Done 120 out of 120 | elapsed:   35.8s finished\n"
     ]
    },
    {
     "name": "stdout",
     "output_type": "stream",
     "text": [
      "best score: 0.6265060240963856\n",
      "Fitting 10 folds for each of 12 candidates, totalling 120 fits\n"
     ]
    },
    {
     "name": "stderr",
     "output_type": "stream",
     "text": [
      "[Parallel(n_jobs=1)]: Using backend SequentialBackend with 1 concurrent workers.\n",
      "[Parallel(n_jobs=1)]: Done 120 out of 120 | elapsed:   28.9s finished\n"
     ]
    },
    {
     "name": "stdout",
     "output_type": "stream",
     "text": [
      "best score: 0.6325301204819277\n",
      "Fitting 10 folds for each of 12 candidates, totalling 120 fits\n"
     ]
    },
    {
     "name": "stderr",
     "output_type": "stream",
     "text": [
      "[Parallel(n_jobs=1)]: Using backend SequentialBackend with 1 concurrent workers.\n",
      "[Parallel(n_jobs=1)]: Done 120 out of 120 | elapsed:   23.2s finished\n"
     ]
    },
    {
     "name": "stdout",
     "output_type": "stream",
     "text": [
      "best score: 0.6325301204819277\n",
      "Fitting 10 folds for each of 12 candidates, totalling 120 fits\n"
     ]
    },
    {
     "name": "stderr",
     "output_type": "stream",
     "text": [
      "[Parallel(n_jobs=1)]: Using backend SequentialBackend with 1 concurrent workers.\n",
      "[Parallel(n_jobs=1)]: Done 120 out of 120 | elapsed:   25.9s finished\n"
     ]
    },
    {
     "name": "stdout",
     "output_type": "stream",
     "text": [
      "best score: 0.6325301204819277\n",
      "Split: 1\n",
      "Split: 2\n",
      "Split: 3\n",
      "Split: 4\n",
      "Split: 5\n",
      "Split: 6\n",
      "Split: 7\n",
      "Split: 8\n",
      "Split: 9\n",
      "Split: 10\n",
      "Training Testing Accuracy for n_games=6 team=14 : 61.61% (4.58%)\n",
      "(174, 1130)\n",
      "(174, 1)\n",
      "X_train shape: (156, 1892)\n",
      "X_test shape: (18, 1892)\n",
      "Fitting 10 folds for each of 12 candidates, totalling 120 fits\n"
     ]
    },
    {
     "name": "stderr",
     "output_type": "stream",
     "text": [
      "[Parallel(n_jobs=1)]: Using backend SequentialBackend with 1 concurrent workers.\n",
      "[Parallel(n_jobs=1)]: Done 120 out of 120 | elapsed:   28.1s finished\n"
     ]
    },
    {
     "name": "stdout",
     "output_type": "stream",
     "text": [
      "best score: 0.6666666666666666\n",
      "Fitting 10 folds for each of 12 candidates, totalling 120 fits\n"
     ]
    },
    {
     "name": "stderr",
     "output_type": "stream",
     "text": [
      "[Parallel(n_jobs=1)]: Using backend SequentialBackend with 1 concurrent workers.\n",
      "[Parallel(n_jobs=1)]: Done 120 out of 120 | elapsed:   27.9s finished\n"
     ]
    },
    {
     "name": "stdout",
     "output_type": "stream",
     "text": [
      "best score: 0.6666666666666666\n",
      "Fitting 10 folds for each of 12 candidates, totalling 120 fits\n"
     ]
    },
    {
     "name": "stderr",
     "output_type": "stream",
     "text": [
      "[Parallel(n_jobs=1)]: Using backend SequentialBackend with 1 concurrent workers.\n",
      "[Parallel(n_jobs=1)]: Done 120 out of 120 | elapsed:   20.3s finished\n"
     ]
    },
    {
     "name": "stdout",
     "output_type": "stream",
     "text": [
      "best score: 0.6666666666666666\n",
      "Fitting 10 folds for each of 12 candidates, totalling 120 fits\n"
     ]
    },
    {
     "name": "stderr",
     "output_type": "stream",
     "text": [
      "[Parallel(n_jobs=1)]: Using backend SequentialBackend with 1 concurrent workers.\n",
      "[Parallel(n_jobs=1)]: Done 120 out of 120 | elapsed:   24.7s finished\n"
     ]
    },
    {
     "name": "stdout",
     "output_type": "stream",
     "text": [
      "best score: 0.6666666666666666\n",
      "Fitting 10 folds for each of 12 candidates, totalling 120 fits\n"
     ]
    },
    {
     "name": "stderr",
     "output_type": "stream",
     "text": [
      "[Parallel(n_jobs=1)]: Using backend SequentialBackend with 1 concurrent workers.\n",
      "[Parallel(n_jobs=1)]: Done 120 out of 120 | elapsed:   28.5s finished\n"
     ]
    },
    {
     "name": "stdout",
     "output_type": "stream",
     "text": [
      "best score: 0.6666666666666666\n",
      "Split: 1\n",
      "Split: 2\n",
      "Split: 3\n",
      "Split: 4\n",
      "Split: 5\n",
      "Split: 6\n",
      "Split: 7\n",
      "Split: 8\n",
      "Split: 9\n",
      "Split: 10\n",
      "Training Testing Accuracy for n_games=6 team=15 : 60.95% (6.57%)\n",
      "(190, 1130)\n",
      "(190, 1)\n",
      "X_train shape: (171, 1904)\n",
      "X_test shape: (19, 1904)\n",
      "Fitting 10 folds for each of 12 candidates, totalling 120 fits\n"
     ]
    },
    {
     "name": "stderr",
     "output_type": "stream",
     "text": [
      "[Parallel(n_jobs=1)]: Using backend SequentialBackend with 1 concurrent workers.\n",
      "[Parallel(n_jobs=1)]: Done 120 out of 120 | elapsed:   28.0s finished\n"
     ]
    },
    {
     "name": "stdout",
     "output_type": "stream",
     "text": [
      "best score: 0.6432748538011696\n",
      "Fitting 10 folds for each of 12 candidates, totalling 120 fits\n"
     ]
    },
    {
     "name": "stderr",
     "output_type": "stream",
     "text": [
      "[Parallel(n_jobs=1)]: Using backend SequentialBackend with 1 concurrent workers.\n",
      "[Parallel(n_jobs=1)]: Done 120 out of 120 | elapsed:   35.9s finished\n"
     ]
    },
    {
     "name": "stdout",
     "output_type": "stream",
     "text": [
      "best score: 0.6666666666666666\n",
      "Fitting 10 folds for each of 12 candidates, totalling 120 fits\n"
     ]
    },
    {
     "name": "stderr",
     "output_type": "stream",
     "text": [
      "[Parallel(n_jobs=1)]: Using backend SequentialBackend with 1 concurrent workers.\n",
      "[Parallel(n_jobs=1)]: Done 120 out of 120 | elapsed:   30.7s finished\n"
     ]
    },
    {
     "name": "stdout",
     "output_type": "stream",
     "text": [
      "best score: 0.6666666666666666\n",
      "Fitting 10 folds for each of 12 candidates, totalling 120 fits\n"
     ]
    },
    {
     "name": "stderr",
     "output_type": "stream",
     "text": [
      "[Parallel(n_jobs=1)]: Using backend SequentialBackend with 1 concurrent workers.\n",
      "[Parallel(n_jobs=1)]: Done 120 out of 120 | elapsed:   19.2s finished\n"
     ]
    },
    {
     "name": "stdout",
     "output_type": "stream",
     "text": [
      "best score: 0.6666666666666666\n",
      "Fitting 10 folds for each of 12 candidates, totalling 120 fits\n"
     ]
    },
    {
     "name": "stderr",
     "output_type": "stream",
     "text": [
      "[Parallel(n_jobs=1)]: Using backend SequentialBackend with 1 concurrent workers.\n",
      "[Parallel(n_jobs=1)]: Done 120 out of 120 | elapsed:   20.7s finished\n"
     ]
    },
    {
     "name": "stdout",
     "output_type": "stream",
     "text": [
      "best score: 0.6666666666666666\n",
      "Split: 1\n",
      "Split: 2\n",
      "Split: 3\n",
      "Split: 4\n",
      "Split: 5\n",
      "Split: 6\n",
      "Split: 7\n",
      "Split: 8\n",
      "Split: 9\n",
      "Split: 10\n",
      "Training Testing Accuracy for n_games=6 team=16 : 63.16% (4.08%)\n",
      "(185, 1130)\n",
      "(185, 1)\n",
      "X_train shape: (166, 1905)\n",
      "X_test shape: (19, 1905)\n",
      "Fitting 10 folds for each of 12 candidates, totalling 120 fits\n"
     ]
    },
    {
     "name": "stderr",
     "output_type": "stream",
     "text": [
      "[Parallel(n_jobs=1)]: Using backend SequentialBackend with 1 concurrent workers.\n",
      "[Parallel(n_jobs=1)]: Done 120 out of 120 | elapsed:   28.3s finished\n"
     ]
    },
    {
     "name": "stdout",
     "output_type": "stream",
     "text": [
      "best score: 0.6445783132530121\n",
      "Fitting 10 folds for each of 12 candidates, totalling 120 fits\n"
     ]
    },
    {
     "name": "stderr",
     "output_type": "stream",
     "text": [
      "[Parallel(n_jobs=1)]: Using backend SequentialBackend with 1 concurrent workers.\n",
      "[Parallel(n_jobs=1)]: Done 120 out of 120 | elapsed:   36.3s finished\n"
     ]
    },
    {
     "name": "stdout",
     "output_type": "stream",
     "text": [
      "best score: 0.6445783132530121\n",
      "Fitting 10 folds for each of 12 candidates, totalling 120 fits\n"
     ]
    },
    {
     "name": "stderr",
     "output_type": "stream",
     "text": [
      "[Parallel(n_jobs=1)]: Using backend SequentialBackend with 1 concurrent workers.\n",
      "[Parallel(n_jobs=1)]: Done 120 out of 120 | elapsed:   21.7s finished\n"
     ]
    },
    {
     "name": "stdout",
     "output_type": "stream",
     "text": [
      "best score: 0.6445783132530121\n",
      "Fitting 10 folds for each of 12 candidates, totalling 120 fits\n"
     ]
    },
    {
     "name": "stderr",
     "output_type": "stream",
     "text": [
      "[Parallel(n_jobs=1)]: Using backend SequentialBackend with 1 concurrent workers.\n",
      "[Parallel(n_jobs=1)]: Done 120 out of 120 | elapsed:   54.7s finished\n"
     ]
    },
    {
     "name": "stdout",
     "output_type": "stream",
     "text": [
      "best score: 0.6445783132530121\n",
      "Fitting 10 folds for each of 12 candidates, totalling 120 fits\n"
     ]
    },
    {
     "name": "stderr",
     "output_type": "stream",
     "text": [
      "[Parallel(n_jobs=1)]: Using backend SequentialBackend with 1 concurrent workers.\n",
      "[Parallel(n_jobs=1)]: Done 120 out of 120 | elapsed:   22.7s finished\n"
     ]
    },
    {
     "name": "stdout",
     "output_type": "stream",
     "text": [
      "best score: 0.6445783132530121\n",
      "Split: 1\n",
      "Split: 2\n",
      "Split: 3\n",
      "Split: 4\n",
      "Split: 5\n",
      "Split: 6\n",
      "Split: 7\n",
      "Split: 8\n",
      "Split: 9\n",
      "Split: 10\n",
      "Training Testing Accuracy for n_games=6 team=17 : 63.25% (9.59%)\n",
      "(184, 1130)\n",
      "(184, 1)\n",
      "X_train shape: (165, 1918)\n",
      "X_test shape: (19, 1918)\n",
      "Fitting 10 folds for each of 12 candidates, totalling 120 fits\n"
     ]
    },
    {
     "name": "stderr",
     "output_type": "stream",
     "text": [
      "[Parallel(n_jobs=1)]: Using backend SequentialBackend with 1 concurrent workers.\n",
      "[Parallel(n_jobs=1)]: Done 120 out of 120 | elapsed:   28.6s finished\n"
     ]
    },
    {
     "name": "stdout",
     "output_type": "stream",
     "text": [
      "best score: 0.5878787878787879\n",
      "Fitting 10 folds for each of 12 candidates, totalling 120 fits\n"
     ]
    },
    {
     "name": "stderr",
     "output_type": "stream",
     "text": [
      "[Parallel(n_jobs=1)]: Using backend SequentialBackend with 1 concurrent workers.\n",
      "[Parallel(n_jobs=1)]: Done 120 out of 120 | elapsed:   42.7s finished\n"
     ]
    },
    {
     "name": "stdout",
     "output_type": "stream",
     "text": [
      "best score: 0.5878787878787879\n",
      "Fitting 10 folds for each of 12 candidates, totalling 120 fits\n"
     ]
    },
    {
     "name": "stderr",
     "output_type": "stream",
     "text": [
      "[Parallel(n_jobs=1)]: Using backend SequentialBackend with 1 concurrent workers.\n",
      "[Parallel(n_jobs=1)]: Done 120 out of 120 | elapsed:   44.5s finished\n"
     ]
    },
    {
     "name": "stdout",
     "output_type": "stream",
     "text": [
      "best score: 0.5878787878787879\n",
      "Fitting 10 folds for each of 12 candidates, totalling 120 fits\n"
     ]
    },
    {
     "name": "stderr",
     "output_type": "stream",
     "text": [
      "[Parallel(n_jobs=1)]: Using backend SequentialBackend with 1 concurrent workers.\n",
      "[Parallel(n_jobs=1)]: Done 120 out of 120 | elapsed:   37.2s finished\n"
     ]
    },
    {
     "name": "stdout",
     "output_type": "stream",
     "text": [
      "best score: 0.5878787878787879\n",
      "Fitting 10 folds for each of 12 candidates, totalling 120 fits\n"
     ]
    },
    {
     "name": "stderr",
     "output_type": "stream",
     "text": [
      "[Parallel(n_jobs=1)]: Using backend SequentialBackend with 1 concurrent workers.\n",
      "[Parallel(n_jobs=1)]: Done 120 out of 120 | elapsed:   35.6s finished\n"
     ]
    },
    {
     "name": "stdout",
     "output_type": "stream",
     "text": [
      "best score: 0.5878787878787879\n",
      "Split: 1\n",
      "Split: 2\n",
      "Split: 3\n",
      "Split: 4\n",
      "Split: 5\n",
      "Split: 6\n",
      "Split: 7\n",
      "Split: 8\n",
      "Split: 9\n",
      "Split: 10\n",
      "Training Testing Accuracy for n_games=6 team=18 : 50.53% (12.04%)\n",
      "Accuracy for Team Models for n_games= 6 : 60.99% (5.25%)\n",
      "(179, 1316)\n",
      "(179, 1)\n",
      "X_train shape: (161, 2211)\n",
      "X_test shape: (18, 2211)\n",
      "Fitting 10 folds for each of 12 candidates, totalling 120 fits\n"
     ]
    },
    {
     "name": "stderr",
     "output_type": "stream",
     "text": [
      "[Parallel(n_jobs=1)]: Using backend SequentialBackend with 1 concurrent workers.\n",
      "[Parallel(n_jobs=1)]: Done 120 out of 120 | elapsed:   32.3s finished\n"
     ]
    },
    {
     "name": "stdout",
     "output_type": "stream",
     "text": [
      "best score: 0.6086956521739131\n",
      "Fitting 10 folds for each of 12 candidates, totalling 120 fits\n"
     ]
    },
    {
     "name": "stderr",
     "output_type": "stream",
     "text": [
      "[Parallel(n_jobs=1)]: Using backend SequentialBackend with 1 concurrent workers.\n",
      "[Parallel(n_jobs=1)]: Done 120 out of 120 | elapsed:   26.3s finished\n"
     ]
    },
    {
     "name": "stdout",
     "output_type": "stream",
     "text": [
      "best score: 0.6086956521739131\n",
      "Fitting 10 folds for each of 12 candidates, totalling 120 fits\n"
     ]
    },
    {
     "name": "stderr",
     "output_type": "stream",
     "text": [
      "[Parallel(n_jobs=1)]: Using backend SequentialBackend with 1 concurrent workers.\n",
      "[Parallel(n_jobs=1)]: Done 120 out of 120 | elapsed:  2.2min finished\n"
     ]
    },
    {
     "name": "stdout",
     "output_type": "stream",
     "text": [
      "best score: 0.6273291925465838\n",
      "Fitting 10 folds for each of 12 candidates, totalling 120 fits\n"
     ]
    },
    {
     "name": "stderr",
     "output_type": "stream",
     "text": [
      "[Parallel(n_jobs=1)]: Using backend SequentialBackend with 1 concurrent workers.\n",
      "[Parallel(n_jobs=1)]: Done 120 out of 120 | elapsed:  1.2min finished\n"
     ]
    },
    {
     "name": "stdout",
     "output_type": "stream",
     "text": [
      "best score: 0.6335403726708074\n",
      "Fitting 10 folds for each of 12 candidates, totalling 120 fits\n"
     ]
    },
    {
     "name": "stderr",
     "output_type": "stream",
     "text": [
      "[Parallel(n_jobs=1)]: Using backend SequentialBackend with 1 concurrent workers.\n",
      "[Parallel(n_jobs=1)]: Done 120 out of 120 | elapsed:   33.2s finished\n"
     ]
    },
    {
     "name": "stdout",
     "output_type": "stream",
     "text": [
      "best score: 0.6335403726708074\n",
      "Split: 1\n",
      "Split: 2\n",
      "Split: 3\n",
      "Split: 4\n",
      "Split: 5\n",
      "Split: 6\n",
      "Split: 7\n",
      "Split: 8\n",
      "Split: 9\n",
      "Split: 10\n",
      "Training Testing Accuracy for n_games=7 team=1 : 59.67% (11.00%)\n",
      "(177, 1316)\n",
      "(177, 1)\n",
      "X_train shape: (159, 2190)\n",
      "X_test shape: (18, 2190)\n",
      "Fitting 10 folds for each of 12 candidates, totalling 120 fits\n"
     ]
    },
    {
     "name": "stderr",
     "output_type": "stream",
     "text": [
      "[Parallel(n_jobs=1)]: Using backend SequentialBackend with 1 concurrent workers.\n",
      "[Parallel(n_jobs=1)]: Done 120 out of 120 | elapsed:   32.0s finished\n"
     ]
    },
    {
     "name": "stdout",
     "output_type": "stream",
     "text": [
      "best score: 0.6540880503144654\n",
      "Fitting 10 folds for each of 12 candidates, totalling 120 fits\n"
     ]
    },
    {
     "name": "stderr",
     "output_type": "stream",
     "text": [
      "[Parallel(n_jobs=1)]: Using backend SequentialBackend with 1 concurrent workers.\n",
      "[Parallel(n_jobs=1)]: Done 120 out of 120 | elapsed:   26.8s finished\n"
     ]
    },
    {
     "name": "stdout",
     "output_type": "stream",
     "text": [
      "best score: 0.6540880503144654\n",
      "Fitting 10 folds for each of 12 candidates, totalling 120 fits\n"
     ]
    },
    {
     "name": "stderr",
     "output_type": "stream",
     "text": [
      "[Parallel(n_jobs=1)]: Using backend SequentialBackend with 1 concurrent workers.\n",
      "[Parallel(n_jobs=1)]: Done 120 out of 120 | elapsed:   30.4s finished\n"
     ]
    },
    {
     "name": "stdout",
     "output_type": "stream",
     "text": [
      "best score: 0.6540880503144654\n",
      "Fitting 10 folds for each of 12 candidates, totalling 120 fits\n"
     ]
    },
    {
     "name": "stderr",
     "output_type": "stream",
     "text": [
      "[Parallel(n_jobs=1)]: Using backend SequentialBackend with 1 concurrent workers.\n",
      "[Parallel(n_jobs=1)]: Done 120 out of 120 | elapsed:   45.5s finished\n"
     ]
    },
    {
     "name": "stdout",
     "output_type": "stream",
     "text": [
      "best score: 0.6540880503144654\n",
      "Fitting 10 folds for each of 12 candidates, totalling 120 fits\n"
     ]
    },
    {
     "name": "stderr",
     "output_type": "stream",
     "text": [
      "[Parallel(n_jobs=1)]: Using backend SequentialBackend with 1 concurrent workers.\n",
      "[Parallel(n_jobs=1)]: Done 120 out of 120 | elapsed:   27.8s finished\n"
     ]
    },
    {
     "name": "stdout",
     "output_type": "stream",
     "text": [
      "best score: 0.6540880503144654\n",
      "Split: 1\n",
      "Split: 2\n",
      "Split: 3\n",
      "Split: 4\n",
      "Split: 5\n",
      "Split: 6\n",
      "Split: 7\n",
      "Split: 8\n",
      "Split: 9\n",
      "Split: 10\n",
      "Training Testing Accuracy for n_games=7 team=2 : 62.71% (8.36%)\n",
      "(175, 1316)\n",
      "(175, 1)\n",
      "X_train shape: (157, 2184)\n",
      "X_test shape: (18, 2184)\n",
      "Fitting 10 folds for each of 12 candidates, totalling 120 fits\n"
     ]
    },
    {
     "name": "stderr",
     "output_type": "stream",
     "text": [
      "[Parallel(n_jobs=1)]: Using backend SequentialBackend with 1 concurrent workers.\n",
      "[Parallel(n_jobs=1)]: Done 120 out of 120 | elapsed:   31.2s finished\n"
     ]
    },
    {
     "name": "stdout",
     "output_type": "stream",
     "text": [
      "best score: 0.7070063694267515\n",
      "Fitting 10 folds for each of 12 candidates, totalling 120 fits\n"
     ]
    },
    {
     "name": "stderr",
     "output_type": "stream",
     "text": [
      "[Parallel(n_jobs=1)]: Using backend SequentialBackend with 1 concurrent workers.\n",
      "[Parallel(n_jobs=1)]: Done 120 out of 120 | elapsed:   27.4s finished\n"
     ]
    },
    {
     "name": "stdout",
     "output_type": "stream",
     "text": [
      "best score: 0.7133757961783439\n",
      "Fitting 10 folds for each of 12 candidates, totalling 120 fits\n"
     ]
    },
    {
     "name": "stderr",
     "output_type": "stream",
     "text": [
      "[Parallel(n_jobs=1)]: Using backend SequentialBackend with 1 concurrent workers.\n",
      "[Parallel(n_jobs=1)]: Done 120 out of 120 | elapsed:   31.2s finished\n"
     ]
    },
    {
     "name": "stdout",
     "output_type": "stream",
     "text": [
      "best score: 0.7261146496815286\n",
      "Fitting 10 folds for each of 12 candidates, totalling 120 fits\n"
     ]
    },
    {
     "name": "stderr",
     "output_type": "stream",
     "text": [
      "[Parallel(n_jobs=1)]: Using backend SequentialBackend with 1 concurrent workers.\n",
      "[Parallel(n_jobs=1)]: Done 120 out of 120 | elapsed:   25.7s finished\n"
     ]
    },
    {
     "name": "stdout",
     "output_type": "stream",
     "text": [
      "best score: 0.7261146496815286\n",
      "Fitting 10 folds for each of 12 candidates, totalling 120 fits\n"
     ]
    },
    {
     "name": "stderr",
     "output_type": "stream",
     "text": [
      "[Parallel(n_jobs=1)]: Using backend SequentialBackend with 1 concurrent workers.\n",
      "[Parallel(n_jobs=1)]: Done 120 out of 120 | elapsed:   27.2s finished\n"
     ]
    },
    {
     "name": "stdout",
     "output_type": "stream",
     "text": [
      "best score: 0.7261146496815286\n",
      "Split: 1\n",
      "Split: 2\n",
      "Split: 3\n",
      "Split: 4\n",
      "Split: 5\n",
      "Split: 6\n",
      "Split: 7\n",
      "Split: 8\n",
      "Split: 9\n",
      "Split: 10\n",
      "Training Testing Accuracy for n_games=7 team=3 : 62.81% (7.00%)\n",
      "(180, 1316)\n",
      "(180, 1)\n",
      "X_train shape: (162, 2187)\n",
      "X_test shape: (18, 2187)\n",
      "Fitting 10 folds for each of 12 candidates, totalling 120 fits\n"
     ]
    },
    {
     "name": "stderr",
     "output_type": "stream",
     "text": [
      "[Parallel(n_jobs=1)]: Using backend SequentialBackend with 1 concurrent workers.\n",
      "[Parallel(n_jobs=1)]: Done 120 out of 120 | elapsed:   31.6s finished\n"
     ]
    },
    {
     "name": "stdout",
     "output_type": "stream",
     "text": [
      "best score: 0.5864197530864198\n",
      "Fitting 10 folds for each of 12 candidates, totalling 120 fits\n"
     ]
    },
    {
     "name": "stderr",
     "output_type": "stream",
     "text": [
      "[Parallel(n_jobs=1)]: Using backend SequentialBackend with 1 concurrent workers.\n",
      "[Parallel(n_jobs=1)]: Done 120 out of 120 | elapsed:   30.6s finished\n"
     ]
    },
    {
     "name": "stdout",
     "output_type": "stream",
     "text": [
      "best score: 0.5864197530864198\n",
      "Fitting 10 folds for each of 12 candidates, totalling 120 fits\n"
     ]
    },
    {
     "name": "stderr",
     "output_type": "stream",
     "text": [
      "[Parallel(n_jobs=1)]: Using backend SequentialBackend with 1 concurrent workers.\n",
      "[Parallel(n_jobs=1)]: Done 120 out of 120 | elapsed:   27.2s finished\n"
     ]
    },
    {
     "name": "stdout",
     "output_type": "stream",
     "text": [
      "best score: 0.5864197530864198\n",
      "Fitting 10 folds for each of 12 candidates, totalling 120 fits\n"
     ]
    },
    {
     "name": "stderr",
     "output_type": "stream",
     "text": [
      "[Parallel(n_jobs=1)]: Using backend SequentialBackend with 1 concurrent workers.\n",
      "[Parallel(n_jobs=1)]: Done 120 out of 120 | elapsed:   45.2s finished\n"
     ]
    },
    {
     "name": "stdout",
     "output_type": "stream",
     "text": [
      "best score: 0.5864197530864198\n",
      "Fitting 10 folds for each of 12 candidates, totalling 120 fits\n"
     ]
    },
    {
     "name": "stderr",
     "output_type": "stream",
     "text": [
      "[Parallel(n_jobs=1)]: Using backend SequentialBackend with 1 concurrent workers.\n",
      "[Parallel(n_jobs=1)]: Done 120 out of 120 | elapsed:  1.1min finished\n"
     ]
    },
    {
     "name": "stdout",
     "output_type": "stream",
     "text": [
      "best score: 0.5864197530864198\n",
      "Split: 1\n",
      "Split: 2\n",
      "Split: 3\n",
      "Split: 4\n",
      "Split: 5\n",
      "Split: 6\n",
      "Split: 7\n",
      "Split: 8\n",
      "Split: 9\n",
      "Split: 10\n",
      "Training Testing Accuracy for n_games=7 team=4 : 58.33% (14.96%)\n",
      "(177, 1316)\n",
      "(177, 1)\n",
      "X_train shape: (159, 2171)\n",
      "X_test shape: (18, 2171)\n",
      "Fitting 10 folds for each of 12 candidates, totalling 120 fits\n"
     ]
    },
    {
     "name": "stderr",
     "output_type": "stream",
     "text": [
      "[Parallel(n_jobs=1)]: Using backend SequentialBackend with 1 concurrent workers.\n",
      "[Parallel(n_jobs=1)]: Done 120 out of 120 | elapsed:   32.0s finished\n"
     ]
    },
    {
     "name": "stdout",
     "output_type": "stream",
     "text": [
      "best score: 0.5660377358490566\n",
      "Fitting 10 folds for each of 12 candidates, totalling 120 fits\n"
     ]
    },
    {
     "name": "stderr",
     "output_type": "stream",
     "text": [
      "[Parallel(n_jobs=1)]: Using backend SequentialBackend with 1 concurrent workers.\n",
      "[Parallel(n_jobs=1)]: Done 120 out of 120 | elapsed:   32.3s finished\n"
     ]
    },
    {
     "name": "stdout",
     "output_type": "stream",
     "text": [
      "best score: 0.5786163522012578\n",
      "Fitting 10 folds for each of 12 candidates, totalling 120 fits\n"
     ]
    },
    {
     "name": "stderr",
     "output_type": "stream",
     "text": [
      "[Parallel(n_jobs=1)]: Using backend SequentialBackend with 1 concurrent workers.\n",
      "[Parallel(n_jobs=1)]: Done 120 out of 120 | elapsed:   25.4s finished\n"
     ]
    },
    {
     "name": "stdout",
     "output_type": "stream",
     "text": [
      "best score: 0.5786163522012578\n",
      "Fitting 10 folds for each of 12 candidates, totalling 120 fits\n"
     ]
    },
    {
     "name": "stderr",
     "output_type": "stream",
     "text": [
      "[Parallel(n_jobs=1)]: Using backend SequentialBackend with 1 concurrent workers.\n",
      "[Parallel(n_jobs=1)]: Done 120 out of 120 | elapsed:   28.9s finished\n"
     ]
    },
    {
     "name": "stdout",
     "output_type": "stream",
     "text": [
      "best score: 0.5786163522012578\n",
      "Fitting 10 folds for each of 12 candidates, totalling 120 fits\n"
     ]
    },
    {
     "name": "stderr",
     "output_type": "stream",
     "text": [
      "[Parallel(n_jobs=1)]: Using backend SequentialBackend with 1 concurrent workers.\n",
      "[Parallel(n_jobs=1)]: Done 120 out of 120 | elapsed:   23.9s finished\n"
     ]
    },
    {
     "name": "stdout",
     "output_type": "stream",
     "text": [
      "best score: 0.5786163522012578\n",
      "Split: 1\n",
      "Split: 2\n",
      "Split: 3\n",
      "Split: 4\n",
      "Split: 5\n",
      "Split: 6\n",
      "Split: 7\n",
      "Split: 8\n",
      "Split: 9\n",
      "Split: 10\n",
      "Training Testing Accuracy for n_games=7 team=5 : 55.72% (14.90%)\n",
      "(180, 1316)\n",
      "(180, 1)\n",
      "X_train shape: (162, 2199)\n",
      "X_test shape: (18, 2199)\n",
      "Fitting 10 folds for each of 12 candidates, totalling 120 fits\n"
     ]
    },
    {
     "name": "stderr",
     "output_type": "stream",
     "text": [
      "[Parallel(n_jobs=1)]: Using backend SequentialBackend with 1 concurrent workers.\n",
      "[Parallel(n_jobs=1)]: Done 120 out of 120 | elapsed:   32.0s finished\n"
     ]
    },
    {
     "name": "stdout",
     "output_type": "stream",
     "text": [
      "best score: 0.5061728395061729\n",
      "Fitting 10 folds for each of 12 candidates, totalling 120 fits\n"
     ]
    },
    {
     "name": "stderr",
     "output_type": "stream",
     "text": [
      "[Parallel(n_jobs=1)]: Using backend SequentialBackend with 1 concurrent workers.\n",
      "[Parallel(n_jobs=1)]: Done 120 out of 120 | elapsed:   22.8s finished\n"
     ]
    },
    {
     "name": "stdout",
     "output_type": "stream",
     "text": [
      "best score: 0.5061728395061729\n",
      "Fitting 10 folds for each of 12 candidates, totalling 120 fits\n"
     ]
    },
    {
     "name": "stderr",
     "output_type": "stream",
     "text": [
      "[Parallel(n_jobs=1)]: Using backend SequentialBackend with 1 concurrent workers.\n",
      "[Parallel(n_jobs=1)]: Done 120 out of 120 | elapsed:   24.7s finished\n"
     ]
    },
    {
     "name": "stdout",
     "output_type": "stream",
     "text": [
      "best score: 0.5061728395061729\n",
      "Fitting 10 folds for each of 12 candidates, totalling 120 fits\n"
     ]
    },
    {
     "name": "stderr",
     "output_type": "stream",
     "text": [
      "[Parallel(n_jobs=1)]: Using backend SequentialBackend with 1 concurrent workers.\n",
      "[Parallel(n_jobs=1)]: Done 120 out of 120 | elapsed:   30.5s finished\n"
     ]
    },
    {
     "name": "stdout",
     "output_type": "stream",
     "text": [
      "best score: 0.5061728395061729\n",
      "Fitting 10 folds for each of 12 candidates, totalling 120 fits\n"
     ]
    },
    {
     "name": "stderr",
     "output_type": "stream",
     "text": [
      "[Parallel(n_jobs=1)]: Using backend SequentialBackend with 1 concurrent workers.\n",
      "[Parallel(n_jobs=1)]: Done 120 out of 120 | elapsed:   26.7s finished\n"
     ]
    },
    {
     "name": "stdout",
     "output_type": "stream",
     "text": [
      "best score: 0.5061728395061729\n",
      "Split: 1\n",
      "Split: 2\n",
      "Split: 3\n",
      "Split: 4\n",
      "Split: 5\n",
      "Split: 6\n",
      "Split: 7\n",
      "Split: 8\n",
      "Split: 9\n",
      "Split: 10\n",
      "Training Testing Accuracy for n_games=7 team=6 : 50.56% (1.67%)\n",
      "(189, 1316)\n",
      "(189, 1)\n",
      "X_train shape: (170, 2190)\n",
      "X_test shape: (19, 2190)\n",
      "Fitting 10 folds for each of 12 candidates, totalling 120 fits\n"
     ]
    },
    {
     "name": "stderr",
     "output_type": "stream",
     "text": [
      "[Parallel(n_jobs=1)]: Using backend SequentialBackend with 1 concurrent workers.\n",
      "[Parallel(n_jobs=1)]: Done 120 out of 120 | elapsed:   31.7s finished\n"
     ]
    },
    {
     "name": "stdout",
     "output_type": "stream",
     "text": [
      "best score: 0.6764705882352942\n",
      "Fitting 10 folds for each of 12 candidates, totalling 120 fits\n"
     ]
    },
    {
     "name": "stderr",
     "output_type": "stream",
     "text": [
      "[Parallel(n_jobs=1)]: Using backend SequentialBackend with 1 concurrent workers.\n",
      "[Parallel(n_jobs=1)]: Done 120 out of 120 | elapsed:   28.1s finished\n"
     ]
    },
    {
     "name": "stdout",
     "output_type": "stream",
     "text": [
      "best score: 0.6764705882352942\n",
      "Fitting 10 folds for each of 12 candidates, totalling 120 fits\n"
     ]
    },
    {
     "name": "stderr",
     "output_type": "stream",
     "text": [
      "[Parallel(n_jobs=1)]: Using backend SequentialBackend with 1 concurrent workers.\n",
      "[Parallel(n_jobs=1)]: Done 120 out of 120 | elapsed:   54.4s finished\n"
     ]
    },
    {
     "name": "stdout",
     "output_type": "stream",
     "text": [
      "best score: 0.6764705882352942\n",
      "Fitting 10 folds for each of 12 candidates, totalling 120 fits\n"
     ]
    },
    {
     "name": "stderr",
     "output_type": "stream",
     "text": [
      "[Parallel(n_jobs=1)]: Using backend SequentialBackend with 1 concurrent workers.\n",
      "[Parallel(n_jobs=1)]: Done 120 out of 120 | elapsed:   22.4s finished\n"
     ]
    },
    {
     "name": "stdout",
     "output_type": "stream",
     "text": [
      "best score: 0.6764705882352942\n",
      "Fitting 10 folds for each of 12 candidates, totalling 120 fits\n"
     ]
    },
    {
     "name": "stderr",
     "output_type": "stream",
     "text": [
      "[Parallel(n_jobs=1)]: Using backend SequentialBackend with 1 concurrent workers.\n",
      "[Parallel(n_jobs=1)]: Done 120 out of 120 | elapsed:   29.2s finished\n"
     ]
    },
    {
     "name": "stdout",
     "output_type": "stream",
     "text": [
      "best score: 0.6764705882352942\n",
      "Split: 1\n",
      "Split: 2\n",
      "Split: 3\n",
      "Split: 4\n",
      "Split: 5\n",
      "Split: 6\n",
      "Split: 7\n",
      "Split: 8\n",
      "Split: 9\n",
      "Split: 10\n",
      "Training Testing Accuracy for n_games=7 team=7 : 64.53% (3.52%)\n",
      "(173, 1316)\n",
      "(173, 1)\n",
      "X_train shape: (155, 2195)\n",
      "X_test shape: (18, 2195)\n",
      "Fitting 10 folds for each of 12 candidates, totalling 120 fits\n"
     ]
    },
    {
     "name": "stderr",
     "output_type": "stream",
     "text": [
      "[Parallel(n_jobs=1)]: Using backend SequentialBackend with 1 concurrent workers.\n",
      "[Parallel(n_jobs=1)]: Done 120 out of 120 | elapsed:   31.0s finished\n"
     ]
    },
    {
     "name": "stdout",
     "output_type": "stream",
     "text": [
      "best score: 0.7483870967741936\n",
      "Fitting 10 folds for each of 12 candidates, totalling 120 fits\n"
     ]
    },
    {
     "name": "stderr",
     "output_type": "stream",
     "text": [
      "[Parallel(n_jobs=1)]: Using backend SequentialBackend with 1 concurrent workers.\n",
      "[Parallel(n_jobs=1)]: Done 120 out of 120 | elapsed:  1.0min finished\n"
     ]
    },
    {
     "name": "stdout",
     "output_type": "stream",
     "text": [
      "best score: 0.7483870967741936\n",
      "Fitting 10 folds for each of 12 candidates, totalling 120 fits\n"
     ]
    },
    {
     "name": "stderr",
     "output_type": "stream",
     "text": [
      "[Parallel(n_jobs=1)]: Using backend SequentialBackend with 1 concurrent workers.\n",
      "[Parallel(n_jobs=1)]: Done 120 out of 120 | elapsed:   31.8s finished\n"
     ]
    },
    {
     "name": "stdout",
     "output_type": "stream",
     "text": [
      "best score: 0.7483870967741936\n",
      "Fitting 10 folds for each of 12 candidates, totalling 120 fits\n"
     ]
    },
    {
     "name": "stderr",
     "output_type": "stream",
     "text": [
      "[Parallel(n_jobs=1)]: Using backend SequentialBackend with 1 concurrent workers.\n",
      "[Parallel(n_jobs=1)]: Done 120 out of 120 | elapsed:   42.7s finished\n"
     ]
    },
    {
     "name": "stdout",
     "output_type": "stream",
     "text": [
      "best score: 0.7483870967741936\n",
      "Fitting 10 folds for each of 12 candidates, totalling 120 fits\n"
     ]
    },
    {
     "name": "stderr",
     "output_type": "stream",
     "text": [
      "[Parallel(n_jobs=1)]: Using backend SequentialBackend with 1 concurrent workers.\n",
      "[Parallel(n_jobs=1)]: Done 120 out of 120 | elapsed:   38.7s finished\n"
     ]
    },
    {
     "name": "stdout",
     "output_type": "stream",
     "text": [
      "best score: 0.7483870967741936\n",
      "Split: 1\n",
      "Split: 2\n",
      "Split: 3\n",
      "Split: 4\n",
      "Split: 5\n",
      "Split: 6\n",
      "Split: 7\n",
      "Split: 8\n",
      "Split: 9\n",
      "Split: 10\n",
      "Training Testing Accuracy for n_games=7 team=8 : 74.54% (3.87%)\n",
      "(186, 1316)\n",
      "(186, 1)\n",
      "X_train shape: (167, 2202)\n",
      "X_test shape: (19, 2202)\n",
      "Fitting 10 folds for each of 12 candidates, totalling 120 fits\n"
     ]
    },
    {
     "name": "stderr",
     "output_type": "stream",
     "text": [
      "[Parallel(n_jobs=1)]: Using backend SequentialBackend with 1 concurrent workers.\n",
      "[Parallel(n_jobs=1)]: Done 120 out of 120 | elapsed:   32.8s finished\n"
     ]
    },
    {
     "name": "stdout",
     "output_type": "stream",
     "text": [
      "best score: 0.5329341317365269\n",
      "Fitting 10 folds for each of 12 candidates, totalling 120 fits\n"
     ]
    },
    {
     "name": "stderr",
     "output_type": "stream",
     "text": [
      "[Parallel(n_jobs=1)]: Using backend SequentialBackend with 1 concurrent workers.\n",
      "[Parallel(n_jobs=1)]: Done 120 out of 120 | elapsed:   24.8s finished\n"
     ]
    },
    {
     "name": "stdout",
     "output_type": "stream",
     "text": [
      "best score: 0.5329341317365269\n",
      "Fitting 10 folds for each of 12 candidates, totalling 120 fits\n"
     ]
    },
    {
     "name": "stderr",
     "output_type": "stream",
     "text": [
      "[Parallel(n_jobs=1)]: Using backend SequentialBackend with 1 concurrent workers.\n",
      "[Parallel(n_jobs=1)]: Done 120 out of 120 | elapsed:   24.6s finished\n"
     ]
    },
    {
     "name": "stdout",
     "output_type": "stream",
     "text": [
      "best score: 0.5688622754491018\n",
      "Fitting 10 folds for each of 12 candidates, totalling 120 fits\n"
     ]
    },
    {
     "name": "stderr",
     "output_type": "stream",
     "text": [
      "[Parallel(n_jobs=1)]: Using backend SequentialBackend with 1 concurrent workers.\n",
      "[Parallel(n_jobs=1)]: Done 120 out of 120 | elapsed:   24.3s finished\n"
     ]
    },
    {
     "name": "stdout",
     "output_type": "stream",
     "text": [
      "best score: 0.5688622754491018\n",
      "Fitting 10 folds for each of 12 candidates, totalling 120 fits\n"
     ]
    },
    {
     "name": "stderr",
     "output_type": "stream",
     "text": [
      "[Parallel(n_jobs=1)]: Using backend SequentialBackend with 1 concurrent workers.\n",
      "[Parallel(n_jobs=1)]: Done 120 out of 120 | elapsed:   29.4s finished\n"
     ]
    },
    {
     "name": "stdout",
     "output_type": "stream",
     "text": [
      "best score: 0.5688622754491018\n",
      "Split: 1\n",
      "Split: 2\n",
      "Split: 3\n",
      "Split: 4\n",
      "Split: 5\n",
      "Split: 6\n",
      "Split: 7\n",
      "Split: 8\n",
      "Split: 9\n",
      "Split: 10\n",
      "Training Testing Accuracy for n_games=7 team=9 : 52.60% (10.61%)\n",
      "(187, 1316)\n",
      "(187, 1)\n",
      "X_train shape: (168, 2195)\n",
      "X_test shape: (19, 2195)\n",
      "Fitting 10 folds for each of 12 candidates, totalling 120 fits\n"
     ]
    },
    {
     "name": "stderr",
     "output_type": "stream",
     "text": [
      "[Parallel(n_jobs=1)]: Using backend SequentialBackend with 1 concurrent workers.\n",
      "[Parallel(n_jobs=1)]: Done 120 out of 120 | elapsed:   32.2s finished\n"
     ]
    },
    {
     "name": "stdout",
     "output_type": "stream",
     "text": [
      "best score: 0.6428571428571429\n",
      "Fitting 10 folds for each of 12 candidates, totalling 120 fits\n"
     ]
    },
    {
     "name": "stderr",
     "output_type": "stream",
     "text": [
      "[Parallel(n_jobs=1)]: Using backend SequentialBackend with 1 concurrent workers.\n",
      "[Parallel(n_jobs=1)]: Done 120 out of 120 | elapsed:   26.1s finished\n"
     ]
    },
    {
     "name": "stdout",
     "output_type": "stream",
     "text": [
      "best score: 0.6428571428571429\n",
      "Fitting 10 folds for each of 12 candidates, totalling 120 fits\n"
     ]
    },
    {
     "name": "stderr",
     "output_type": "stream",
     "text": [
      "[Parallel(n_jobs=1)]: Using backend SequentialBackend with 1 concurrent workers.\n",
      "[Parallel(n_jobs=1)]: Done 120 out of 120 | elapsed:   39.1s finished\n"
     ]
    },
    {
     "name": "stdout",
     "output_type": "stream",
     "text": [
      "best score: 0.6428571428571429\n",
      "Fitting 10 folds for each of 12 candidates, totalling 120 fits\n"
     ]
    },
    {
     "name": "stderr",
     "output_type": "stream",
     "text": [
      "[Parallel(n_jobs=1)]: Using backend SequentialBackend with 1 concurrent workers.\n",
      "[Parallel(n_jobs=1)]: Done 120 out of 120 | elapsed:   24.2s finished\n"
     ]
    },
    {
     "name": "stdout",
     "output_type": "stream",
     "text": [
      "best score: 0.6428571428571429\n",
      "Fitting 10 folds for each of 12 candidates, totalling 120 fits\n"
     ]
    },
    {
     "name": "stderr",
     "output_type": "stream",
     "text": [
      "[Parallel(n_jobs=1)]: Using backend SequentialBackend with 1 concurrent workers.\n",
      "[Parallel(n_jobs=1)]: Done 120 out of 120 | elapsed:   38.0s finished\n"
     ]
    },
    {
     "name": "stdout",
     "output_type": "stream",
     "text": [
      "best score: 0.6428571428571429\n",
      "Split: 1\n",
      "Split: 2\n",
      "Split: 3\n",
      "Split: 4\n",
      "Split: 5\n",
      "Split: 6\n",
      "Split: 7\n",
      "Split: 8\n",
      "Split: 9\n",
      "Split: 10\n",
      "Training Testing Accuracy for n_games=7 team=10 : 65.20% (7.47%)\n",
      "(179, 1316)\n",
      "(179, 1)\n",
      "X_train shape: (161, 2210)\n",
      "X_test shape: (18, 2210)\n",
      "Fitting 10 folds for each of 12 candidates, totalling 120 fits\n"
     ]
    },
    {
     "name": "stderr",
     "output_type": "stream",
     "text": [
      "[Parallel(n_jobs=1)]: Using backend SequentialBackend with 1 concurrent workers.\n",
      "[Parallel(n_jobs=1)]: Done 120 out of 120 | elapsed:   31.6s finished\n"
     ]
    },
    {
     "name": "stdout",
     "output_type": "stream",
     "text": [
      "best score: 0.5962732919254659\n",
      "Fitting 10 folds for each of 12 candidates, totalling 120 fits\n"
     ]
    },
    {
     "name": "stderr",
     "output_type": "stream",
     "text": [
      "[Parallel(n_jobs=1)]: Using backend SequentialBackend with 1 concurrent workers.\n",
      "[Parallel(n_jobs=1)]: Done 120 out of 120 | elapsed:   25.3s finished\n"
     ]
    },
    {
     "name": "stdout",
     "output_type": "stream",
     "text": [
      "best score: 0.5962732919254659\n",
      "Fitting 10 folds for each of 12 candidates, totalling 120 fits\n"
     ]
    },
    {
     "name": "stderr",
     "output_type": "stream",
     "text": [
      "[Parallel(n_jobs=1)]: Using backend SequentialBackend with 1 concurrent workers.\n",
      "[Parallel(n_jobs=1)]: Done 120 out of 120 | elapsed:   31.8s finished\n"
     ]
    },
    {
     "name": "stdout",
     "output_type": "stream",
     "text": [
      "best score: 0.5962732919254659\n",
      "Fitting 10 folds for each of 12 candidates, totalling 120 fits\n"
     ]
    },
    {
     "name": "stderr",
     "output_type": "stream",
     "text": [
      "[Parallel(n_jobs=1)]: Using backend SequentialBackend with 1 concurrent workers.\n",
      "[Parallel(n_jobs=1)]: Done 120 out of 120 | elapsed:   43.2s finished\n"
     ]
    },
    {
     "name": "stdout",
     "output_type": "stream",
     "text": [
      "best score: 0.6335403726708074\n",
      "Fitting 10 folds for each of 12 candidates, totalling 120 fits\n"
     ]
    },
    {
     "name": "stderr",
     "output_type": "stream",
     "text": [
      "[Parallel(n_jobs=1)]: Using backend SequentialBackend with 1 concurrent workers.\n",
      "[Parallel(n_jobs=1)]: Done 120 out of 120 | elapsed:  1.1min finished\n"
     ]
    },
    {
     "name": "stdout",
     "output_type": "stream",
     "text": [
      "best score: 0.6335403726708074\n",
      "Split: 1\n",
      "Split: 2\n",
      "Split: 3\n",
      "Split: 4\n",
      "Split: 5\n",
      "Split: 6\n",
      "Split: 7\n",
      "Split: 8\n",
      "Split: 9\n",
      "Split: 10\n",
      "Training Testing Accuracy for n_games=7 team=11 : 61.47% (10.30%)\n",
      "(180, 1316)\n",
      "(180, 1)\n",
      "X_train shape: (162, 2194)\n",
      "X_test shape: (18, 2194)\n",
      "Fitting 10 folds for each of 12 candidates, totalling 120 fits\n"
     ]
    },
    {
     "name": "stderr",
     "output_type": "stream",
     "text": [
      "[Parallel(n_jobs=1)]: Using backend SequentialBackend with 1 concurrent workers.\n",
      "[Parallel(n_jobs=1)]: Done 120 out of 120 | elapsed:   32.6s finished\n"
     ]
    },
    {
     "name": "stdout",
     "output_type": "stream",
     "text": [
      "best score: 0.5370370370370371\n",
      "Fitting 10 folds for each of 12 candidates, totalling 120 fits\n"
     ]
    },
    {
     "name": "stderr",
     "output_type": "stream",
     "text": [
      "[Parallel(n_jobs=1)]: Using backend SequentialBackend with 1 concurrent workers.\n",
      "[Parallel(n_jobs=1)]: Done 120 out of 120 | elapsed:   26.3s finished\n"
     ]
    },
    {
     "name": "stdout",
     "output_type": "stream",
     "text": [
      "best score: 0.5370370370370371\n",
      "Fitting 10 folds for each of 12 candidates, totalling 120 fits\n"
     ]
    },
    {
     "name": "stderr",
     "output_type": "stream",
     "text": [
      "[Parallel(n_jobs=1)]: Using backend SequentialBackend with 1 concurrent workers.\n",
      "[Parallel(n_jobs=1)]: Done 120 out of 120 | elapsed:   25.8s finished\n"
     ]
    },
    {
     "name": "stdout",
     "output_type": "stream",
     "text": [
      "best score: 0.5370370370370371\n",
      "Fitting 10 folds for each of 12 candidates, totalling 120 fits\n"
     ]
    },
    {
     "name": "stderr",
     "output_type": "stream",
     "text": [
      "[Parallel(n_jobs=1)]: Using backend SequentialBackend with 1 concurrent workers.\n",
      "[Parallel(n_jobs=1)]: Done 120 out of 120 | elapsed:   26.8s finished\n"
     ]
    },
    {
     "name": "stdout",
     "output_type": "stream",
     "text": [
      "best score: 0.5370370370370371\n",
      "Fitting 10 folds for each of 12 candidates, totalling 120 fits\n"
     ]
    },
    {
     "name": "stderr",
     "output_type": "stream",
     "text": [
      "[Parallel(n_jobs=1)]: Using backend SequentialBackend with 1 concurrent workers.\n",
      "[Parallel(n_jobs=1)]: Done 120 out of 120 | elapsed:   21.3s finished\n"
     ]
    },
    {
     "name": "stdout",
     "output_type": "stream",
     "text": [
      "best score: 0.5493827160493827\n",
      "Split: 1\n",
      "Split: 2\n",
      "Split: 3\n",
      "Split: 4\n",
      "Split: 5\n",
      "Split: 6\n",
      "Split: 7\n",
      "Split: 8\n",
      "Split: 9\n",
      "Split: 10\n",
      "Training Testing Accuracy for n_games=7 team=12 : 55.00% (11.24%)\n",
      "(181, 1316)\n",
      "(181, 1)\n",
      "X_train shape: (162, 2221)\n",
      "X_test shape: (19, 2221)\n",
      "Fitting 10 folds for each of 12 candidates, totalling 120 fits\n"
     ]
    },
    {
     "name": "stderr",
     "output_type": "stream",
     "text": [
      "[Parallel(n_jobs=1)]: Using backend SequentialBackend with 1 concurrent workers.\n",
      "[Parallel(n_jobs=1)]: Done 120 out of 120 | elapsed:   31.9s finished\n"
     ]
    },
    {
     "name": "stdout",
     "output_type": "stream",
     "text": [
      "best score: 0.5802469135802469\n",
      "Fitting 10 folds for each of 12 candidates, totalling 120 fits\n"
     ]
    },
    {
     "name": "stderr",
     "output_type": "stream",
     "text": [
      "[Parallel(n_jobs=1)]: Using backend SequentialBackend with 1 concurrent workers.\n",
      "[Parallel(n_jobs=1)]: Done 120 out of 120 | elapsed:   39.4s finished\n"
     ]
    },
    {
     "name": "stdout",
     "output_type": "stream",
     "text": [
      "best score: 0.6111111111111112\n",
      "Fitting 10 folds for each of 12 candidates, totalling 120 fits\n"
     ]
    },
    {
     "name": "stderr",
     "output_type": "stream",
     "text": [
      "[Parallel(n_jobs=1)]: Using backend SequentialBackend with 1 concurrent workers.\n",
      "[Parallel(n_jobs=1)]: Done 120 out of 120 | elapsed:   34.5s finished\n"
     ]
    },
    {
     "name": "stdout",
     "output_type": "stream",
     "text": [
      "best score: 0.6111111111111112\n",
      "Fitting 10 folds for each of 12 candidates, totalling 120 fits\n"
     ]
    },
    {
     "name": "stderr",
     "output_type": "stream",
     "text": [
      "[Parallel(n_jobs=1)]: Using backend SequentialBackend with 1 concurrent workers.\n",
      "[Parallel(n_jobs=1)]: Done 120 out of 120 | elapsed:   22.8s finished\n"
     ]
    },
    {
     "name": "stdout",
     "output_type": "stream",
     "text": [
      "best score: 0.6111111111111112\n",
      "Fitting 10 folds for each of 12 candidates, totalling 120 fits\n"
     ]
    },
    {
     "name": "stderr",
     "output_type": "stream",
     "text": [
      "[Parallel(n_jobs=1)]: Using backend SequentialBackend with 1 concurrent workers.\n",
      "[Parallel(n_jobs=1)]: Done 120 out of 120 | elapsed:   25.6s finished\n"
     ]
    },
    {
     "name": "stdout",
     "output_type": "stream",
     "text": [
      "best score: 0.6111111111111112\n",
      "Split: 1\n",
      "Split: 2\n",
      "Split: 3\n",
      "Split: 4\n",
      "Split: 5\n",
      "Split: 6\n",
      "Split: 7\n",
      "Split: 8\n",
      "Split: 9\n",
      "Split: 10\n",
      "Training Testing Accuracy for n_games=7 team=13 : 51.96% (9.13%)\n",
      "(184, 1316)\n",
      "(184, 1)\n",
      "X_train shape: (165, 2193)\n",
      "X_test shape: (19, 2193)\n",
      "Fitting 10 folds for each of 12 candidates, totalling 120 fits\n"
     ]
    },
    {
     "name": "stderr",
     "output_type": "stream",
     "text": [
      "[Parallel(n_jobs=1)]: Using backend SequentialBackend with 1 concurrent workers.\n",
      "[Parallel(n_jobs=1)]: Done 120 out of 120 | elapsed:   32.0s finished\n"
     ]
    },
    {
     "name": "stdout",
     "output_type": "stream",
     "text": [
      "best score: 0.6060606060606061\n",
      "Fitting 10 folds for each of 12 candidates, totalling 120 fits\n"
     ]
    },
    {
     "name": "stderr",
     "output_type": "stream",
     "text": [
      "[Parallel(n_jobs=1)]: Using backend SequentialBackend with 1 concurrent workers.\n",
      "[Parallel(n_jobs=1)]: Done 120 out of 120 | elapsed:   34.1s finished\n"
     ]
    },
    {
     "name": "stdout",
     "output_type": "stream",
     "text": [
      "best score: 0.6121212121212121\n",
      "Fitting 10 folds for each of 12 candidates, totalling 120 fits\n"
     ]
    },
    {
     "name": "stderr",
     "output_type": "stream",
     "text": [
      "[Parallel(n_jobs=1)]: Using backend SequentialBackend with 1 concurrent workers.\n",
      "[Parallel(n_jobs=1)]: Done 120 out of 120 | elapsed:   47.5s finished\n"
     ]
    },
    {
     "name": "stdout",
     "output_type": "stream",
     "text": [
      "best score: 0.6121212121212121\n",
      "Fitting 10 folds for each of 12 candidates, totalling 120 fits\n"
     ]
    },
    {
     "name": "stderr",
     "output_type": "stream",
     "text": [
      "[Parallel(n_jobs=1)]: Using backend SequentialBackend with 1 concurrent workers.\n",
      "[Parallel(n_jobs=1)]: Done 120 out of 120 | elapsed:   24.1s finished\n"
     ]
    },
    {
     "name": "stdout",
     "output_type": "stream",
     "text": [
      "best score: 0.6121212121212121\n",
      "Fitting 10 folds for each of 12 candidates, totalling 120 fits\n"
     ]
    },
    {
     "name": "stderr",
     "output_type": "stream",
     "text": [
      "[Parallel(n_jobs=1)]: Using backend SequentialBackend with 1 concurrent workers.\n",
      "[Parallel(n_jobs=1)]: Done 120 out of 120 | elapsed:   20.9s finished\n"
     ]
    },
    {
     "name": "stdout",
     "output_type": "stream",
     "text": [
      "best score: 0.6121212121212121\n",
      "Split: 1\n",
      "Split: 2\n",
      "Split: 3\n",
      "Split: 4\n",
      "Split: 5\n",
      "Split: 6\n",
      "Split: 7\n",
      "Split: 8\n",
      "Split: 9\n",
      "Split: 10\n",
      "Training Testing Accuracy for n_games=7 team=14 : 61.93% (1.00%)\n",
      "(173, 1316)\n",
      "(173, 1)\n",
      "X_train shape: (155, 2194)\n",
      "X_test shape: (18, 2194)\n",
      "Fitting 10 folds for each of 12 candidates, totalling 120 fits\n"
     ]
    },
    {
     "name": "stderr",
     "output_type": "stream",
     "text": [
      "[Parallel(n_jobs=1)]: Using backend SequentialBackend with 1 concurrent workers.\n",
      "[Parallel(n_jobs=1)]: Done 120 out of 120 | elapsed:   31.7s finished\n"
     ]
    },
    {
     "name": "stdout",
     "output_type": "stream",
     "text": [
      "best score: 0.6129032258064516\n",
      "Fitting 10 folds for each of 12 candidates, totalling 120 fits\n"
     ]
    },
    {
     "name": "stderr",
     "output_type": "stream",
     "text": [
      "[Parallel(n_jobs=1)]: Using backend SequentialBackend with 1 concurrent workers.\n",
      "[Parallel(n_jobs=1)]: Done 120 out of 120 | elapsed:   28.8s finished\n"
     ]
    },
    {
     "name": "stdout",
     "output_type": "stream",
     "text": [
      "best score: 0.6129032258064516\n",
      "Fitting 10 folds for each of 12 candidates, totalling 120 fits\n"
     ]
    },
    {
     "name": "stderr",
     "output_type": "stream",
     "text": [
      "[Parallel(n_jobs=1)]: Using backend SequentialBackend with 1 concurrent workers.\n",
      "[Parallel(n_jobs=1)]: Done 120 out of 120 | elapsed:   26.4s finished\n"
     ]
    },
    {
     "name": "stdout",
     "output_type": "stream",
     "text": [
      "best score: 0.6129032258064516\n",
      "Fitting 10 folds for each of 12 candidates, totalling 120 fits\n"
     ]
    },
    {
     "name": "stderr",
     "output_type": "stream",
     "text": [
      "[Parallel(n_jobs=1)]: Using backend SequentialBackend with 1 concurrent workers.\n",
      "[Parallel(n_jobs=1)]: Done 120 out of 120 | elapsed:   49.6s finished\n"
     ]
    },
    {
     "name": "stdout",
     "output_type": "stream",
     "text": [
      "best score: 0.6129032258064516\n",
      "Fitting 10 folds for each of 12 candidates, totalling 120 fits\n"
     ]
    },
    {
     "name": "stderr",
     "output_type": "stream",
     "text": [
      "[Parallel(n_jobs=1)]: Using backend SequentialBackend with 1 concurrent workers.\n",
      "[Parallel(n_jobs=1)]: Done 120 out of 120 | elapsed:   26.1s finished\n"
     ]
    },
    {
     "name": "stdout",
     "output_type": "stream",
     "text": [
      "best score: 0.6129032258064516\n",
      "Split: 1\n",
      "Split: 2\n",
      "Split: 3\n",
      "Split: 4\n",
      "Split: 5\n",
      "Split: 6\n",
      "Split: 7\n",
      "Split: 8\n",
      "Split: 9\n",
      "Split: 10\n",
      "Training Testing Accuracy for n_games=7 team=15 : 63.04% (2.14%)\n",
      "(189, 1316)\n",
      "(189, 1)\n",
      "X_train shape: (170, 2204)\n",
      "X_test shape: (19, 2204)\n",
      "Fitting 10 folds for each of 12 candidates, totalling 120 fits\n"
     ]
    },
    {
     "name": "stderr",
     "output_type": "stream",
     "text": [
      "[Parallel(n_jobs=1)]: Using backend SequentialBackend with 1 concurrent workers.\n",
      "[Parallel(n_jobs=1)]: Done 120 out of 120 | elapsed:   31.9s finished\n"
     ]
    },
    {
     "name": "stdout",
     "output_type": "stream",
     "text": [
      "best score: 0.6411764705882353\n",
      "Fitting 10 folds for each of 12 candidates, totalling 120 fits\n"
     ]
    },
    {
     "name": "stderr",
     "output_type": "stream",
     "text": [
      "[Parallel(n_jobs=1)]: Using backend SequentialBackend with 1 concurrent workers.\n",
      "[Parallel(n_jobs=1)]: Done 120 out of 120 | elapsed:   33.6s finished\n"
     ]
    },
    {
     "name": "stdout",
     "output_type": "stream",
     "text": [
      "best score: 0.6470588235294118\n",
      "Fitting 10 folds for each of 12 candidates, totalling 120 fits\n"
     ]
    },
    {
     "name": "stderr",
     "output_type": "stream",
     "text": [
      "[Parallel(n_jobs=1)]: Using backend SequentialBackend with 1 concurrent workers.\n",
      "[Parallel(n_jobs=1)]: Done 120 out of 120 | elapsed:   46.4s finished\n"
     ]
    },
    {
     "name": "stdout",
     "output_type": "stream",
     "text": [
      "best score: 0.6470588235294118\n",
      "Fitting 10 folds for each of 12 candidates, totalling 120 fits\n"
     ]
    },
    {
     "name": "stderr",
     "output_type": "stream",
     "text": [
      "[Parallel(n_jobs=1)]: Using backend SequentialBackend with 1 concurrent workers.\n",
      "[Parallel(n_jobs=1)]: Done 120 out of 120 | elapsed:  1.2min finished\n"
     ]
    },
    {
     "name": "stdout",
     "output_type": "stream",
     "text": [
      "best score: 0.6470588235294118\n",
      "Fitting 10 folds for each of 12 candidates, totalling 120 fits\n"
     ]
    },
    {
     "name": "stderr",
     "output_type": "stream",
     "text": [
      "[Parallel(n_jobs=1)]: Using backend SequentialBackend with 1 concurrent workers.\n",
      "[Parallel(n_jobs=1)]: Done 120 out of 120 | elapsed:   28.4s finished\n"
     ]
    },
    {
     "name": "stdout",
     "output_type": "stream",
     "text": [
      "best score: 0.6470588235294118\n",
      "Split: 1\n",
      "Split: 2\n",
      "Split: 3\n",
      "Split: 4\n",
      "Split: 5\n",
      "Split: 6\n",
      "Split: 7\n",
      "Split: 8\n",
      "Split: 9\n",
      "Split: 10\n",
      "Training Testing Accuracy for n_games=7 team=16 : 58.80% (10.80%)\n",
      "(184, 1316)\n",
      "(184, 1)\n",
      "X_train shape: (165, 2209)\n",
      "X_test shape: (19, 2209)\n",
      "Fitting 10 folds for each of 12 candidates, totalling 120 fits\n"
     ]
    },
    {
     "name": "stderr",
     "output_type": "stream",
     "text": [
      "[Parallel(n_jobs=1)]: Using backend SequentialBackend with 1 concurrent workers.\n",
      "[Parallel(n_jobs=1)]: Done 120 out of 120 | elapsed:   33.5s finished\n"
     ]
    },
    {
     "name": "stdout",
     "output_type": "stream",
     "text": [
      "best score: 0.6121212121212121\n",
      "Fitting 10 folds for each of 12 candidates, totalling 120 fits\n"
     ]
    },
    {
     "name": "stderr",
     "output_type": "stream",
     "text": [
      "[Parallel(n_jobs=1)]: Using backend SequentialBackend with 1 concurrent workers.\n",
      "[Parallel(n_jobs=1)]: Done 120 out of 120 | elapsed:   25.8s finished\n"
     ]
    },
    {
     "name": "stdout",
     "output_type": "stream",
     "text": [
      "best score: 0.6121212121212121\n",
      "Fitting 10 folds for each of 12 candidates, totalling 120 fits\n"
     ]
    },
    {
     "name": "stderr",
     "output_type": "stream",
     "text": [
      "[Parallel(n_jobs=1)]: Using backend SequentialBackend with 1 concurrent workers.\n",
      "[Parallel(n_jobs=1)]: Done 120 out of 120 | elapsed:   29.7s finished\n"
     ]
    },
    {
     "name": "stdout",
     "output_type": "stream",
     "text": [
      "best score: 0.6121212121212121\n",
      "Fitting 10 folds for each of 12 candidates, totalling 120 fits\n"
     ]
    },
    {
     "name": "stderr",
     "output_type": "stream",
     "text": [
      "[Parallel(n_jobs=1)]: Using backend SequentialBackend with 1 concurrent workers.\n",
      "[Parallel(n_jobs=1)]: Done 120 out of 120 | elapsed:   26.4s finished\n"
     ]
    },
    {
     "name": "stdout",
     "output_type": "stream",
     "text": [
      "best score: 0.6121212121212121\n",
      "Fitting 10 folds for each of 12 candidates, totalling 120 fits\n"
     ]
    },
    {
     "name": "stderr",
     "output_type": "stream",
     "text": [
      "[Parallel(n_jobs=1)]: Using backend SequentialBackend with 1 concurrent workers.\n",
      "[Parallel(n_jobs=1)]: Done 120 out of 120 | elapsed:   40.4s finished\n"
     ]
    },
    {
     "name": "stdout",
     "output_type": "stream",
     "text": [
      "best score: 0.6121212121212121\n",
      "Split: 1\n",
      "Split: 2\n",
      "Split: 3\n",
      "Split: 4\n",
      "Split: 5\n",
      "Split: 6\n",
      "Split: 7\n",
      "Split: 8\n",
      "Split: 9\n",
      "Split: 10\n",
      "Training Testing Accuracy for n_games=7 team=17 : 59.82% (1.58%)\n",
      "(183, 1316)\n",
      "(183, 1)\n",
      "X_train shape: (164, 2218)\n",
      "X_test shape: (19, 2218)\n",
      "Fitting 10 folds for each of 12 candidates, totalling 120 fits\n"
     ]
    },
    {
     "name": "stderr",
     "output_type": "stream",
     "text": [
      "[Parallel(n_jobs=1)]: Using backend SequentialBackend with 1 concurrent workers.\n",
      "[Parallel(n_jobs=1)]: Done 120 out of 120 | elapsed:   33.4s finished\n"
     ]
    },
    {
     "name": "stdout",
     "output_type": "stream",
     "text": [
      "best score: 0.6219512195121951\n",
      "Fitting 10 folds for each of 12 candidates, totalling 120 fits\n"
     ]
    },
    {
     "name": "stderr",
     "output_type": "stream",
     "text": [
      "[Parallel(n_jobs=1)]: Using backend SequentialBackend with 1 concurrent workers.\n",
      "[Parallel(n_jobs=1)]: Done 120 out of 120 | elapsed:   37.9s finished\n"
     ]
    },
    {
     "name": "stdout",
     "output_type": "stream",
     "text": [
      "best score: 0.6219512195121951\n",
      "Fitting 10 folds for each of 12 candidates, totalling 120 fits\n"
     ]
    },
    {
     "name": "stderr",
     "output_type": "stream",
     "text": [
      "[Parallel(n_jobs=1)]: Using backend SequentialBackend with 1 concurrent workers.\n",
      "[Parallel(n_jobs=1)]: Done 120 out of 120 | elapsed:  1.1min finished\n"
     ]
    },
    {
     "name": "stdout",
     "output_type": "stream",
     "text": [
      "best score: 0.6219512195121951\n",
      "Fitting 10 folds for each of 12 candidates, totalling 120 fits\n"
     ]
    },
    {
     "name": "stderr",
     "output_type": "stream",
     "text": [
      "[Parallel(n_jobs=1)]: Using backend SequentialBackend with 1 concurrent workers.\n",
      "[Parallel(n_jobs=1)]: Done 120 out of 120 | elapsed:  1.2min finished\n"
     ]
    },
    {
     "name": "stdout",
     "output_type": "stream",
     "text": [
      "best score: 0.6280487804878049\n",
      "Fitting 10 folds for each of 12 candidates, totalling 120 fits\n"
     ]
    },
    {
     "name": "stderr",
     "output_type": "stream",
     "text": [
      "[Parallel(n_jobs=1)]: Using backend SequentialBackend with 1 concurrent workers.\n",
      "[Parallel(n_jobs=1)]: Done 120 out of 120 | elapsed:   43.8s finished\n"
     ]
    },
    {
     "name": "stdout",
     "output_type": "stream",
     "text": [
      "best score: 0.6341463414634146\n",
      "Split: 1\n",
      "Split: 2\n",
      "Split: 3\n",
      "Split: 4\n",
      "Split: 5\n",
      "Split: 6\n",
      "Split: 7\n",
      "Split: 8\n",
      "Split: 9\n",
      "Split: 10\n",
      "Training Testing Accuracy for n_games=7 team=18 : 56.37% (7.47%)\n",
      "Accuracy for Team Models for n_games= 7 : 59.73% (5.57%)\n",
      "(178, 1502)\n",
      "(178, 1)\n",
      "X_train shape: (160, 2515)\n",
      "X_test shape: (18, 2515)\n",
      "Fitting 10 folds for each of 12 candidates, totalling 120 fits\n"
     ]
    },
    {
     "name": "stderr",
     "output_type": "stream",
     "text": [
      "[Parallel(n_jobs=1)]: Using backend SequentialBackend with 1 concurrent workers.\n",
      "[Parallel(n_jobs=1)]: Done 120 out of 120 | elapsed:   36.2s finished\n"
     ]
    },
    {
     "name": "stdout",
     "output_type": "stream",
     "text": [
      "best score: 0.58125\n",
      "Fitting 10 folds for each of 12 candidates, totalling 120 fits\n"
     ]
    },
    {
     "name": "stderr",
     "output_type": "stream",
     "text": [
      "[Parallel(n_jobs=1)]: Using backend SequentialBackend with 1 concurrent workers.\n",
      "[Parallel(n_jobs=1)]: Done 120 out of 120 | elapsed:   55.4s finished\n"
     ]
    },
    {
     "name": "stdout",
     "output_type": "stream",
     "text": [
      "best score: 0.5875\n",
      "Fitting 10 folds for each of 12 candidates, totalling 120 fits\n"
     ]
    },
    {
     "name": "stderr",
     "output_type": "stream",
     "text": [
      "[Parallel(n_jobs=1)]: Using backend SequentialBackend with 1 concurrent workers.\n",
      "[Parallel(n_jobs=1)]: Done 120 out of 120 | elapsed:   41.5s finished\n"
     ]
    },
    {
     "name": "stdout",
     "output_type": "stream",
     "text": [
      "best score: 0.5875\n",
      "Fitting 10 folds for each of 12 candidates, totalling 120 fits\n"
     ]
    },
    {
     "name": "stderr",
     "output_type": "stream",
     "text": [
      "[Parallel(n_jobs=1)]: Using backend SequentialBackend with 1 concurrent workers.\n",
      "[Parallel(n_jobs=1)]: Done 120 out of 120 | elapsed:   52.7s finished\n"
     ]
    },
    {
     "name": "stdout",
     "output_type": "stream",
     "text": [
      "best score: 0.5875\n",
      "Fitting 10 folds for each of 12 candidates, totalling 120 fits\n"
     ]
    },
    {
     "name": "stderr",
     "output_type": "stream",
     "text": [
      "[Parallel(n_jobs=1)]: Using backend SequentialBackend with 1 concurrent workers.\n",
      "[Parallel(n_jobs=1)]: Done 120 out of 120 | elapsed:   36.6s finished\n"
     ]
    },
    {
     "name": "stdout",
     "output_type": "stream",
     "text": [
      "best score: 0.5875\n",
      "Split: 1\n",
      "Split: 2\n",
      "Split: 3\n",
      "Split: 4\n",
      "Split: 5\n",
      "Split: 6\n",
      "Split: 7\n",
      "Split: 8\n",
      "Split: 9\n",
      "Split: 10\n",
      "Training Testing Accuracy for n_games=8 team=1 : 57.35% (4.65%)\n",
      "(176, 1502)\n",
      "(176, 1)\n",
      "X_train shape: (158, 2493)\n",
      "X_test shape: (18, 2493)\n",
      "Fitting 10 folds for each of 12 candidates, totalling 120 fits\n"
     ]
    },
    {
     "name": "stderr",
     "output_type": "stream",
     "text": [
      "[Parallel(n_jobs=1)]: Using backend SequentialBackend with 1 concurrent workers.\n",
      "[Parallel(n_jobs=1)]: Done 120 out of 120 | elapsed:   35.8s finished\n"
     ]
    },
    {
     "name": "stdout",
     "output_type": "stream",
     "text": [
      "best score: 0.7025316455696202\n",
      "Fitting 10 folds for each of 12 candidates, totalling 120 fits\n"
     ]
    },
    {
     "name": "stderr",
     "output_type": "stream",
     "text": [
      "[Parallel(n_jobs=1)]: Using backend SequentialBackend with 1 concurrent workers.\n",
      "[Parallel(n_jobs=1)]: Done 120 out of 120 | elapsed:   34.0s finished\n"
     ]
    },
    {
     "name": "stdout",
     "output_type": "stream",
     "text": [
      "best score: 0.7025316455696202\n",
      "Fitting 10 folds for each of 12 candidates, totalling 120 fits\n"
     ]
    },
    {
     "name": "stderr",
     "output_type": "stream",
     "text": [
      "[Parallel(n_jobs=1)]: Using backend SequentialBackend with 1 concurrent workers.\n",
      "[Parallel(n_jobs=1)]: Done 120 out of 120 | elapsed:   46.5s finished\n"
     ]
    },
    {
     "name": "stdout",
     "output_type": "stream",
     "text": [
      "best score: 0.7025316455696202\n",
      "Fitting 10 folds for each of 12 candidates, totalling 120 fits\n"
     ]
    },
    {
     "name": "stderr",
     "output_type": "stream",
     "text": [
      "[Parallel(n_jobs=1)]: Using backend SequentialBackend with 1 concurrent workers.\n",
      "[Parallel(n_jobs=1)]: Done 120 out of 120 | elapsed:   37.0s finished\n"
     ]
    },
    {
     "name": "stdout",
     "output_type": "stream",
     "text": [
      "best score: 0.7025316455696202\n",
      "Fitting 10 folds for each of 12 candidates, totalling 120 fits\n"
     ]
    },
    {
     "name": "stderr",
     "output_type": "stream",
     "text": [
      "[Parallel(n_jobs=1)]: Using backend SequentialBackend with 1 concurrent workers.\n",
      "[Parallel(n_jobs=1)]: Done 120 out of 120 | elapsed:  1.3min finished\n"
     ]
    },
    {
     "name": "stdout",
     "output_type": "stream",
     "text": [
      "best score: 0.7341772151898734\n",
      "Split: 1\n",
      "Split: 2\n",
      "Split: 3\n",
      "Split: 4\n",
      "Split: 5\n",
      "Split: 6\n",
      "Split: 7\n",
      "Split: 8\n",
      "Split: 9\n",
      "Split: 10\n",
      "Training Testing Accuracy for n_games=8 team=2 : 70.56% (8.27%)\n",
      "(174, 1502)\n",
      "(174, 1)\n",
      "X_train shape: (156, 2481)\n",
      "X_test shape: (18, 2481)\n",
      "Fitting 10 folds for each of 12 candidates, totalling 120 fits\n"
     ]
    },
    {
     "name": "stderr",
     "output_type": "stream",
     "text": [
      "[Parallel(n_jobs=1)]: Using backend SequentialBackend with 1 concurrent workers.\n",
      "[Parallel(n_jobs=1)]: Done 120 out of 120 | elapsed:   39.5s finished\n"
     ]
    },
    {
     "name": "stdout",
     "output_type": "stream",
     "text": [
      "best score: 0.717948717948718\n",
      "Fitting 10 folds for each of 12 candidates, totalling 120 fits\n"
     ]
    },
    {
     "name": "stderr",
     "output_type": "stream",
     "text": [
      "[Parallel(n_jobs=1)]: Using backend SequentialBackend with 1 concurrent workers.\n",
      "[Parallel(n_jobs=1)]: Done 120 out of 120 | elapsed:   41.2s finished\n"
     ]
    },
    {
     "name": "stdout",
     "output_type": "stream",
     "text": [
      "best score: 0.717948717948718\n",
      "Fitting 10 folds for each of 12 candidates, totalling 120 fits\n"
     ]
    },
    {
     "name": "stderr",
     "output_type": "stream",
     "text": [
      "[Parallel(n_jobs=1)]: Using backend SequentialBackend with 1 concurrent workers.\n",
      "[Parallel(n_jobs=1)]: Done 120 out of 120 | elapsed:   47.0s finished\n"
     ]
    },
    {
     "name": "stdout",
     "output_type": "stream",
     "text": [
      "best score: 0.717948717948718\n",
      "Fitting 10 folds for each of 12 candidates, totalling 120 fits\n"
     ]
    },
    {
     "name": "stderr",
     "output_type": "stream",
     "text": [
      "[Parallel(n_jobs=1)]: Using backend SequentialBackend with 1 concurrent workers.\n",
      "[Parallel(n_jobs=1)]: Done 120 out of 120 | elapsed:   28.7s finished\n"
     ]
    },
    {
     "name": "stdout",
     "output_type": "stream",
     "text": [
      "best score: 0.717948717948718\n",
      "Fitting 10 folds for each of 12 candidates, totalling 120 fits\n"
     ]
    },
    {
     "name": "stderr",
     "output_type": "stream",
     "text": [
      "[Parallel(n_jobs=1)]: Using backend SequentialBackend with 1 concurrent workers.\n",
      "[Parallel(n_jobs=1)]: Done 120 out of 120 | elapsed:   34.7s finished\n"
     ]
    },
    {
     "name": "stdout",
     "output_type": "stream",
     "text": [
      "best score: 0.717948717948718\n",
      "Split: 1\n",
      "Split: 2\n",
      "Split: 3\n",
      "Split: 4\n",
      "Split: 5\n",
      "Split: 6\n",
      "Split: 7\n",
      "Split: 8\n",
      "Split: 9\n",
      "Split: 10\n",
      "Training Testing Accuracy for n_games=8 team=3 : 69.58% (1.96%)\n",
      "(179, 1502)\n",
      "(179, 1)\n",
      "X_train shape: (161, 2488)\n",
      "X_test shape: (18, 2488)\n",
      "Fitting 10 folds for each of 12 candidates, totalling 120 fits\n"
     ]
    },
    {
     "name": "stderr",
     "output_type": "stream",
     "text": [
      "[Parallel(n_jobs=1)]: Using backend SequentialBackend with 1 concurrent workers.\n",
      "[Parallel(n_jobs=1)]: Done 120 out of 120 | elapsed:   37.5s finished\n"
     ]
    },
    {
     "name": "stdout",
     "output_type": "stream",
     "text": [
      "best score: 0.5341614906832298\n",
      "Fitting 10 folds for each of 12 candidates, totalling 120 fits\n"
     ]
    },
    {
     "name": "stderr",
     "output_type": "stream",
     "text": [
      "[Parallel(n_jobs=1)]: Using backend SequentialBackend with 1 concurrent workers.\n",
      "[Parallel(n_jobs=1)]: Done 120 out of 120 | elapsed:   52.8s finished\n"
     ]
    },
    {
     "name": "stdout",
     "output_type": "stream",
     "text": [
      "best score: 0.577639751552795\n",
      "Fitting 10 folds for each of 12 candidates, totalling 120 fits\n"
     ]
    },
    {
     "name": "stderr",
     "output_type": "stream",
     "text": [
      "[Parallel(n_jobs=1)]: Using backend SequentialBackend with 1 concurrent workers.\n",
      "[Parallel(n_jobs=1)]: Done 120 out of 120 | elapsed:   27.3s finished\n"
     ]
    },
    {
     "name": "stdout",
     "output_type": "stream",
     "text": [
      "best score: 0.577639751552795\n",
      "Fitting 10 folds for each of 12 candidates, totalling 120 fits\n"
     ]
    },
    {
     "name": "stderr",
     "output_type": "stream",
     "text": [
      "[Parallel(n_jobs=1)]: Using backend SequentialBackend with 1 concurrent workers.\n",
      "[Parallel(n_jobs=1)]: Done 120 out of 120 | elapsed:   33.9s finished\n"
     ]
    },
    {
     "name": "stdout",
     "output_type": "stream",
     "text": [
      "best score: 0.577639751552795\n",
      "Fitting 10 folds for each of 12 candidates, totalling 120 fits\n"
     ]
    },
    {
     "name": "stderr",
     "output_type": "stream",
     "text": [
      "[Parallel(n_jobs=1)]: Using backend SequentialBackend with 1 concurrent workers.\n",
      "[Parallel(n_jobs=1)]: Done 120 out of 120 | elapsed:   25.8s finished\n"
     ]
    },
    {
     "name": "stdout",
     "output_type": "stream",
     "text": [
      "best score: 0.577639751552795\n",
      "Split: 1\n",
      "Split: 2\n",
      "Split: 3\n",
      "Split: 4\n",
      "Split: 5\n",
      "Split: 6\n",
      "Split: 7\n",
      "Split: 8\n",
      "Split: 9\n",
      "Split: 10\n",
      "Training Testing Accuracy for n_games=8 team=4 : 54.18% (8.54%)\n",
      "(176, 1502)\n",
      "(176, 1)\n",
      "X_train shape: (158, 2467)\n",
      "X_test shape: (18, 2467)\n",
      "Fitting 10 folds for each of 12 candidates, totalling 120 fits\n"
     ]
    },
    {
     "name": "stderr",
     "output_type": "stream",
     "text": [
      "[Parallel(n_jobs=1)]: Using backend SequentialBackend with 1 concurrent workers.\n",
      "[Parallel(n_jobs=1)]: Done 120 out of 120 | elapsed:   35.8s finished\n"
     ]
    },
    {
     "name": "stdout",
     "output_type": "stream",
     "text": [
      "best score: 0.6012658227848101\n",
      "Fitting 10 folds for each of 12 candidates, totalling 120 fits\n"
     ]
    },
    {
     "name": "stderr",
     "output_type": "stream",
     "text": [
      "[Parallel(n_jobs=1)]: Using backend SequentialBackend with 1 concurrent workers.\n",
      "[Parallel(n_jobs=1)]: Done 120 out of 120 | elapsed:   35.5s finished\n"
     ]
    },
    {
     "name": "stdout",
     "output_type": "stream",
     "text": [
      "best score: 0.6329113924050633\n",
      "Fitting 10 folds for each of 12 candidates, totalling 120 fits\n"
     ]
    },
    {
     "name": "stderr",
     "output_type": "stream",
     "text": [
      "[Parallel(n_jobs=1)]: Using backend SequentialBackend with 1 concurrent workers.\n",
      "[Parallel(n_jobs=1)]: Done 120 out of 120 | elapsed:  1.1min finished\n"
     ]
    },
    {
     "name": "stdout",
     "output_type": "stream",
     "text": [
      "best score: 0.6329113924050633\n",
      "Fitting 10 folds for each of 12 candidates, totalling 120 fits\n"
     ]
    },
    {
     "name": "stderr",
     "output_type": "stream",
     "text": [
      "[Parallel(n_jobs=1)]: Using backend SequentialBackend with 1 concurrent workers.\n",
      "[Parallel(n_jobs=1)]: Done 120 out of 120 | elapsed:  1.6min finished\n"
     ]
    },
    {
     "name": "stdout",
     "output_type": "stream",
     "text": [
      "best score: 0.6329113924050633\n",
      "Fitting 10 folds for each of 12 candidates, totalling 120 fits\n"
     ]
    },
    {
     "name": "stderr",
     "output_type": "stream",
     "text": [
      "[Parallel(n_jobs=1)]: Using backend SequentialBackend with 1 concurrent workers.\n",
      "[Parallel(n_jobs=1)]: Done 120 out of 120 | elapsed:   35.3s finished\n"
     ]
    },
    {
     "name": "stdout",
     "output_type": "stream",
     "text": [
      "best score: 0.6329113924050633\n",
      "Split: 1\n",
      "Split: 2\n",
      "Split: 3\n",
      "Split: 4\n",
      "Split: 5\n",
      "Split: 6\n",
      "Split: 7\n",
      "Split: 8\n",
      "Split: 9\n",
      "Split: 10\n",
      "Training Testing Accuracy for n_games=8 team=5 : 60.85% (8.72%)\n",
      "(179, 1502)\n",
      "(179, 1)\n",
      "X_train shape: (161, 2501)\n",
      "X_test shape: (18, 2501)\n",
      "Fitting 10 folds for each of 12 candidates, totalling 120 fits\n"
     ]
    },
    {
     "name": "stderr",
     "output_type": "stream",
     "text": [
      "[Parallel(n_jobs=1)]: Using backend SequentialBackend with 1 concurrent workers.\n",
      "[Parallel(n_jobs=1)]: Done 120 out of 120 | elapsed:   35.8s finished\n"
     ]
    },
    {
     "name": "stdout",
     "output_type": "stream",
     "text": [
      "best score: 0.5714285714285714\n",
      "Fitting 10 folds for each of 12 candidates, totalling 120 fits\n"
     ]
    },
    {
     "name": "stderr",
     "output_type": "stream",
     "text": [
      "[Parallel(n_jobs=1)]: Using backend SequentialBackend with 1 concurrent workers.\n",
      "[Parallel(n_jobs=1)]: Done 120 out of 120 | elapsed:   31.0s finished\n"
     ]
    },
    {
     "name": "stdout",
     "output_type": "stream",
     "text": [
      "best score: 0.577639751552795\n",
      "Fitting 10 folds for each of 12 candidates, totalling 120 fits\n"
     ]
    },
    {
     "name": "stderr",
     "output_type": "stream",
     "text": [
      "[Parallel(n_jobs=1)]: Using backend SequentialBackend with 1 concurrent workers.\n",
      "[Parallel(n_jobs=1)]: Done 120 out of 120 | elapsed:   23.0s finished\n"
     ]
    },
    {
     "name": "stdout",
     "output_type": "stream",
     "text": [
      "best score: 0.577639751552795\n",
      "Fitting 10 folds for each of 12 candidates, totalling 120 fits\n"
     ]
    },
    {
     "name": "stderr",
     "output_type": "stream",
     "text": [
      "[Parallel(n_jobs=1)]: Using backend SequentialBackend with 1 concurrent workers.\n",
      "[Parallel(n_jobs=1)]: Done 120 out of 120 | elapsed:   48.8s finished\n"
     ]
    },
    {
     "name": "stdout",
     "output_type": "stream",
     "text": [
      "best score: 0.577639751552795\n",
      "Fitting 10 folds for each of 12 candidates, totalling 120 fits\n"
     ]
    },
    {
     "name": "stderr",
     "output_type": "stream",
     "text": [
      "[Parallel(n_jobs=1)]: Using backend SequentialBackend with 1 concurrent workers.\n",
      "[Parallel(n_jobs=1)]: Done 120 out of 120 | elapsed:   41.9s finished\n"
     ]
    },
    {
     "name": "stdout",
     "output_type": "stream",
     "text": [
      "best score: 0.577639751552795\n",
      "Split: 1\n",
      "Split: 2\n",
      "Split: 3\n",
      "Split: 4\n",
      "Split: 5\n",
      "Split: 6\n",
      "Split: 7\n",
      "Split: 8\n",
      "Split: 9\n",
      "Split: 10\n",
      "Training Testing Accuracy for n_games=8 team=6 : 49.12% (7.91%)\n",
      "(188, 1502)\n",
      "(188, 1)\n",
      "X_train shape: (169, 2492)\n",
      "X_test shape: (19, 2492)\n",
      "Fitting 10 folds for each of 12 candidates, totalling 120 fits\n"
     ]
    },
    {
     "name": "stderr",
     "output_type": "stream",
     "text": [
      "[Parallel(n_jobs=1)]: Using backend SequentialBackend with 1 concurrent workers.\n",
      "[Parallel(n_jobs=1)]: Done 120 out of 120 | elapsed:   35.5s finished\n"
     ]
    },
    {
     "name": "stdout",
     "output_type": "stream",
     "text": [
      "best score: 0.6804733727810651\n",
      "Fitting 10 folds for each of 12 candidates, totalling 120 fits\n"
     ]
    },
    {
     "name": "stderr",
     "output_type": "stream",
     "text": [
      "[Parallel(n_jobs=1)]: Using backend SequentialBackend with 1 concurrent workers.\n",
      "[Parallel(n_jobs=1)]: Done 120 out of 120 | elapsed:   29.6s finished\n"
     ]
    },
    {
     "name": "stdout",
     "output_type": "stream",
     "text": [
      "best score: 0.6804733727810651\n",
      "Fitting 10 folds for each of 12 candidates, totalling 120 fits\n"
     ]
    },
    {
     "name": "stderr",
     "output_type": "stream",
     "text": [
      "[Parallel(n_jobs=1)]: Using backend SequentialBackend with 1 concurrent workers.\n",
      "[Parallel(n_jobs=1)]: Done 120 out of 120 | elapsed:   46.5s finished\n"
     ]
    },
    {
     "name": "stdout",
     "output_type": "stream",
     "text": [
      "best score: 0.6863905325443787\n",
      "Fitting 10 folds for each of 12 candidates, totalling 120 fits\n"
     ]
    },
    {
     "name": "stderr",
     "output_type": "stream",
     "text": [
      "[Parallel(n_jobs=1)]: Using backend SequentialBackend with 1 concurrent workers.\n",
      "[Parallel(n_jobs=1)]: Done 120 out of 120 | elapsed:   29.7s finished\n"
     ]
    },
    {
     "name": "stdout",
     "output_type": "stream",
     "text": [
      "best score: 0.6863905325443787\n",
      "Fitting 10 folds for each of 12 candidates, totalling 120 fits\n"
     ]
    },
    {
     "name": "stderr",
     "output_type": "stream",
     "text": [
      "[Parallel(n_jobs=1)]: Using backend SequentialBackend with 1 concurrent workers.\n",
      "[Parallel(n_jobs=1)]: Done 120 out of 120 | elapsed:   34.4s finished\n"
     ]
    },
    {
     "name": "stdout",
     "output_type": "stream",
     "text": [
      "best score: 0.6863905325443787\n",
      "Split: 1\n",
      "Split: 2\n",
      "Split: 3\n",
      "Split: 4\n",
      "Split: 5\n",
      "Split: 6\n",
      "Split: 7\n",
      "Split: 8\n",
      "Split: 9\n",
      "Split: 10\n",
      "Training Testing Accuracy for n_games=8 team=7 : 65.44% (3.33%)\n",
      "(172, 1502)\n",
      "(172, 1)\n",
      "X_train shape: (154, 2499)\n",
      "X_test shape: (18, 2499)\n",
      "Fitting 10 folds for each of 12 candidates, totalling 120 fits\n"
     ]
    },
    {
     "name": "stderr",
     "output_type": "stream",
     "text": [
      "[Parallel(n_jobs=1)]: Using backend SequentialBackend with 1 concurrent workers.\n",
      "[Parallel(n_jobs=1)]: Done 120 out of 120 | elapsed:   35.1s finished\n"
     ]
    },
    {
     "name": "stdout",
     "output_type": "stream",
     "text": [
      "best score: 0.7662337662337663\n",
      "Fitting 10 folds for each of 12 candidates, totalling 120 fits\n"
     ]
    },
    {
     "name": "stderr",
     "output_type": "stream",
     "text": [
      "[Parallel(n_jobs=1)]: Using backend SequentialBackend with 1 concurrent workers.\n",
      "[Parallel(n_jobs=1)]: Done 120 out of 120 | elapsed:   30.5s finished\n"
     ]
    },
    {
     "name": "stdout",
     "output_type": "stream",
     "text": [
      "best score: 0.7662337662337663\n",
      "Fitting 10 folds for each of 12 candidates, totalling 120 fits\n"
     ]
    },
    {
     "name": "stderr",
     "output_type": "stream",
     "text": [
      "[Parallel(n_jobs=1)]: Using backend SequentialBackend with 1 concurrent workers.\n",
      "[Parallel(n_jobs=1)]: Done 120 out of 120 | elapsed:   48.6s finished\n"
     ]
    },
    {
     "name": "stdout",
     "output_type": "stream",
     "text": [
      "best score: 0.7662337662337663\n",
      "Fitting 10 folds for each of 12 candidates, totalling 120 fits\n"
     ]
    },
    {
     "name": "stderr",
     "output_type": "stream",
     "text": [
      "[Parallel(n_jobs=1)]: Using backend SequentialBackend with 1 concurrent workers.\n",
      "[Parallel(n_jobs=1)]: Done 120 out of 120 | elapsed:   34.0s finished\n"
     ]
    },
    {
     "name": "stdout",
     "output_type": "stream",
     "text": [
      "best score: 0.7662337662337663\n",
      "Fitting 10 folds for each of 12 candidates, totalling 120 fits\n"
     ]
    },
    {
     "name": "stderr",
     "output_type": "stream",
     "text": [
      "[Parallel(n_jobs=1)]: Using backend SequentialBackend with 1 concurrent workers.\n",
      "[Parallel(n_jobs=1)]: Done 120 out of 120 | elapsed:   41.5s finished\n"
     ]
    },
    {
     "name": "stdout",
     "output_type": "stream",
     "text": [
      "best score: 0.7662337662337663\n",
      "Split: 1\n",
      "Split: 2\n",
      "Split: 3\n",
      "Split: 4\n",
      "Split: 5\n",
      "Split: 6\n",
      "Split: 7\n",
      "Split: 8\n",
      "Split: 9\n",
      "Split: 10\n",
      "Training Testing Accuracy for n_games=8 team=8 : 75.62% (4.86%)\n",
      "(185, 1502)\n",
      "(185, 1)\n",
      "X_train shape: (166, 2506)\n",
      "X_test shape: (19, 2506)\n",
      "Fitting 10 folds for each of 12 candidates, totalling 120 fits\n"
     ]
    },
    {
     "name": "stderr",
     "output_type": "stream",
     "text": [
      "[Parallel(n_jobs=1)]: Using backend SequentialBackend with 1 concurrent workers.\n",
      "[Parallel(n_jobs=1)]: Done 120 out of 120 | elapsed:   36.7s finished\n"
     ]
    },
    {
     "name": "stdout",
     "output_type": "stream",
     "text": [
      "best score: 0.572289156626506\n",
      "Fitting 10 folds for each of 12 candidates, totalling 120 fits\n"
     ]
    },
    {
     "name": "stderr",
     "output_type": "stream",
     "text": [
      "[Parallel(n_jobs=1)]: Using backend SequentialBackend with 1 concurrent workers.\n",
      "[Parallel(n_jobs=1)]: Done 120 out of 120 | elapsed:   39.7s finished\n"
     ]
    },
    {
     "name": "stdout",
     "output_type": "stream",
     "text": [
      "best score: 0.572289156626506\n",
      "Fitting 10 folds for each of 12 candidates, totalling 120 fits\n"
     ]
    },
    {
     "name": "stderr",
     "output_type": "stream",
     "text": [
      "[Parallel(n_jobs=1)]: Using backend SequentialBackend with 1 concurrent workers.\n",
      "[Parallel(n_jobs=1)]: Done 120 out of 120 | elapsed:   47.8s finished\n"
     ]
    },
    {
     "name": "stdout",
     "output_type": "stream",
     "text": [
      "best score: 0.572289156626506\n",
      "Fitting 10 folds for each of 12 candidates, totalling 120 fits\n"
     ]
    },
    {
     "name": "stderr",
     "output_type": "stream",
     "text": [
      "[Parallel(n_jobs=1)]: Using backend SequentialBackend with 1 concurrent workers.\n",
      "[Parallel(n_jobs=1)]: Done 120 out of 120 | elapsed:   26.6s finished\n"
     ]
    },
    {
     "name": "stdout",
     "output_type": "stream",
     "text": [
      "best score: 0.572289156626506\n",
      "Fitting 10 folds for each of 12 candidates, totalling 120 fits\n"
     ]
    },
    {
     "name": "stderr",
     "output_type": "stream",
     "text": [
      "[Parallel(n_jobs=1)]: Using backend SequentialBackend with 1 concurrent workers.\n",
      "[Parallel(n_jobs=1)]: Done 120 out of 120 | elapsed:   34.9s finished\n"
     ]
    },
    {
     "name": "stdout",
     "output_type": "stream",
     "text": [
      "best score: 0.572289156626506\n",
      "Split: 1\n",
      "Split: 2\n",
      "Split: 3\n",
      "Split: 4\n",
      "Split: 5\n",
      "Split: 6\n",
      "Split: 7\n",
      "Split: 8\n",
      "Split: 9\n",
      "Split: 10\n",
      "Training Testing Accuracy for n_games=8 team=9 : 54.59% (9.94%)\n",
      "(186, 1502)\n",
      "(186, 1)\n",
      "X_train shape: (167, 2497)\n",
      "X_test shape: (19, 2497)\n",
      "Fitting 10 folds for each of 12 candidates, totalling 120 fits\n"
     ]
    },
    {
     "name": "stderr",
     "output_type": "stream",
     "text": [
      "[Parallel(n_jobs=1)]: Using backend SequentialBackend with 1 concurrent workers.\n",
      "[Parallel(n_jobs=1)]: Done 120 out of 120 | elapsed:   36.3s finished\n"
     ]
    },
    {
     "name": "stdout",
     "output_type": "stream",
     "text": [
      "best score: 0.6706586826347305\n",
      "Fitting 10 folds for each of 12 candidates, totalling 120 fits\n"
     ]
    },
    {
     "name": "stderr",
     "output_type": "stream",
     "text": [
      "[Parallel(n_jobs=1)]: Using backend SequentialBackend with 1 concurrent workers.\n",
      "[Parallel(n_jobs=1)]: Done 120 out of 120 | elapsed:   33.8s finished\n"
     ]
    },
    {
     "name": "stdout",
     "output_type": "stream",
     "text": [
      "best score: 0.6706586826347305\n",
      "Fitting 10 folds for each of 12 candidates, totalling 120 fits\n"
     ]
    },
    {
     "name": "stderr",
     "output_type": "stream",
     "text": [
      "[Parallel(n_jobs=1)]: Using backend SequentialBackend with 1 concurrent workers.\n",
      "[Parallel(n_jobs=1)]: Done 120 out of 120 | elapsed:   54.5s finished\n"
     ]
    },
    {
     "name": "stdout",
     "output_type": "stream",
     "text": [
      "best score: 0.6706586826347305\n",
      "Fitting 10 folds for each of 12 candidates, totalling 120 fits\n"
     ]
    },
    {
     "name": "stderr",
     "output_type": "stream",
     "text": [
      "[Parallel(n_jobs=1)]: Using backend SequentialBackend with 1 concurrent workers.\n",
      "[Parallel(n_jobs=1)]: Done 120 out of 120 | elapsed:   48.2s finished\n"
     ]
    },
    {
     "name": "stdout",
     "output_type": "stream",
     "text": [
      "best score: 0.6706586826347305\n",
      "Fitting 10 folds for each of 12 candidates, totalling 120 fits\n"
     ]
    },
    {
     "name": "stderr",
     "output_type": "stream",
     "text": [
      "[Parallel(n_jobs=1)]: Using backend SequentialBackend with 1 concurrent workers.\n",
      "[Parallel(n_jobs=1)]: Done 120 out of 120 | elapsed:   27.5s finished\n"
     ]
    },
    {
     "name": "stdout",
     "output_type": "stream",
     "text": [
      "best score: 0.6706586826347305\n",
      "Split: 1\n",
      "Split: 2\n",
      "Split: 3\n",
      "Split: 4\n",
      "Split: 5\n",
      "Split: 6\n",
      "Split: 7\n",
      "Split: 8\n",
      "Split: 9\n",
      "Split: 10\n",
      "Training Testing Accuracy for n_games=8 team=10 : 56.87% (8.60%)\n",
      "(178, 1502)\n",
      "(178, 1)\n",
      "X_train shape: (160, 2512)\n",
      "X_test shape: (18, 2512)\n",
      "Fitting 10 folds for each of 12 candidates, totalling 120 fits\n"
     ]
    },
    {
     "name": "stderr",
     "output_type": "stream",
     "text": [
      "[Parallel(n_jobs=1)]: Using backend SequentialBackend with 1 concurrent workers.\n",
      "[Parallel(n_jobs=1)]: Done 120 out of 120 | elapsed:   36.2s finished\n"
     ]
    },
    {
     "name": "stdout",
     "output_type": "stream",
     "text": [
      "best score: 0.60625\n",
      "Fitting 10 folds for each of 12 candidates, totalling 120 fits\n"
     ]
    },
    {
     "name": "stderr",
     "output_type": "stream",
     "text": [
      "[Parallel(n_jobs=1)]: Using backend SequentialBackend with 1 concurrent workers.\n",
      "[Parallel(n_jobs=1)]: Done 120 out of 120 | elapsed:   31.6s finished\n"
     ]
    },
    {
     "name": "stdout",
     "output_type": "stream",
     "text": [
      "best score: 0.60625\n",
      "Fitting 10 folds for each of 12 candidates, totalling 120 fits\n"
     ]
    },
    {
     "name": "stderr",
     "output_type": "stream",
     "text": [
      "[Parallel(n_jobs=1)]: Using backend SequentialBackend with 1 concurrent workers.\n",
      "[Parallel(n_jobs=1)]: Done 120 out of 120 | elapsed:  1.2min finished\n"
     ]
    },
    {
     "name": "stdout",
     "output_type": "stream",
     "text": [
      "best score: 0.60625\n",
      "Fitting 10 folds for each of 12 candidates, totalling 120 fits\n"
     ]
    },
    {
     "name": "stderr",
     "output_type": "stream",
     "text": [
      "[Parallel(n_jobs=1)]: Using backend SequentialBackend with 1 concurrent workers.\n",
      "[Parallel(n_jobs=1)]: Done 120 out of 120 | elapsed:   37.1s finished\n"
     ]
    },
    {
     "name": "stdout",
     "output_type": "stream",
     "text": [
      "best score: 0.6125\n",
      "Fitting 10 folds for each of 12 candidates, totalling 120 fits\n"
     ]
    },
    {
     "name": "stderr",
     "output_type": "stream",
     "text": [
      "[Parallel(n_jobs=1)]: Using backend SequentialBackend with 1 concurrent workers.\n",
      "[Parallel(n_jobs=1)]: Done 120 out of 120 | elapsed:   36.8s finished\n"
     ]
    },
    {
     "name": "stdout",
     "output_type": "stream",
     "text": [
      "best score: 0.6375\n",
      "Split: 1\n",
      "Split: 2\n",
      "Split: 3\n",
      "Split: 4\n",
      "Split: 5\n",
      "Split: 6\n",
      "Split: 7\n",
      "Split: 8\n",
      "Split: 9\n",
      "Split: 10\n",
      "Training Testing Accuracy for n_games=8 team=11 : 58.89% (8.51%)\n",
      "(179, 1502)\n",
      "(179, 1)\n",
      "X_train shape: (161, 2497)\n",
      "X_test shape: (18, 2497)\n",
      "Fitting 10 folds for each of 12 candidates, totalling 120 fits\n"
     ]
    },
    {
     "name": "stderr",
     "output_type": "stream",
     "text": [
      "[Parallel(n_jobs=1)]: Using backend SequentialBackend with 1 concurrent workers.\n",
      "[Parallel(n_jobs=1)]: Done 120 out of 120 | elapsed:   35.9s finished\n"
     ]
    },
    {
     "name": "stdout",
     "output_type": "stream",
     "text": [
      "best score: 0.5527950310559007\n",
      "Fitting 10 folds for each of 12 candidates, totalling 120 fits\n"
     ]
    },
    {
     "name": "stderr",
     "output_type": "stream",
     "text": [
      "[Parallel(n_jobs=1)]: Using backend SequentialBackend with 1 concurrent workers.\n",
      "[Parallel(n_jobs=1)]: Done 120 out of 120 | elapsed:   47.8s finished\n"
     ]
    },
    {
     "name": "stdout",
     "output_type": "stream",
     "text": [
      "best score: 0.5527950310559007\n",
      "Fitting 10 folds for each of 12 candidates, totalling 120 fits\n"
     ]
    },
    {
     "name": "stderr",
     "output_type": "stream",
     "text": [
      "[Parallel(n_jobs=1)]: Using backend SequentialBackend with 1 concurrent workers.\n",
      "[Parallel(n_jobs=1)]: Done 120 out of 120 | elapsed:   26.8s finished\n"
     ]
    },
    {
     "name": "stdout",
     "output_type": "stream",
     "text": [
      "best score: 0.5652173913043478\n",
      "Fitting 10 folds for each of 12 candidates, totalling 120 fits\n"
     ]
    },
    {
     "name": "stderr",
     "output_type": "stream",
     "text": [
      "[Parallel(n_jobs=1)]: Using backend SequentialBackend with 1 concurrent workers.\n",
      "[Parallel(n_jobs=1)]: Done 120 out of 120 | elapsed:   42.8s finished\n"
     ]
    },
    {
     "name": "stdout",
     "output_type": "stream",
     "text": [
      "best score: 0.5652173913043478\n",
      "Fitting 10 folds for each of 12 candidates, totalling 120 fits\n"
     ]
    },
    {
     "name": "stderr",
     "output_type": "stream",
     "text": [
      "[Parallel(n_jobs=1)]: Using backend SequentialBackend with 1 concurrent workers.\n",
      "[Parallel(n_jobs=1)]: Done 120 out of 120 | elapsed:   25.0s finished\n"
     ]
    },
    {
     "name": "stdout",
     "output_type": "stream",
     "text": [
      "best score: 0.5652173913043478\n",
      "Split: 1\n",
      "Split: 2\n",
      "Split: 3\n",
      "Split: 4\n",
      "Split: 5\n",
      "Split: 6\n",
      "Split: 7\n",
      "Split: 8\n",
      "Split: 9\n",
      "Split: 10\n",
      "Training Testing Accuracy for n_games=8 team=12 : 53.59% (5.85%)\n",
      "(180, 1502)\n",
      "(180, 1)\n",
      "X_train shape: (162, 2524)\n",
      "X_test shape: (18, 2524)\n",
      "Fitting 10 folds for each of 12 candidates, totalling 120 fits\n"
     ]
    },
    {
     "name": "stderr",
     "output_type": "stream",
     "text": [
      "[Parallel(n_jobs=1)]: Using backend SequentialBackend with 1 concurrent workers.\n",
      "[Parallel(n_jobs=1)]: Done 120 out of 120 | elapsed:   36.0s finished\n"
     ]
    },
    {
     "name": "stdout",
     "output_type": "stream",
     "text": [
      "best score: 0.5987654320987654\n",
      "Fitting 10 folds for each of 12 candidates, totalling 120 fits\n"
     ]
    },
    {
     "name": "stderr",
     "output_type": "stream",
     "text": [
      "[Parallel(n_jobs=1)]: Using backend SequentialBackend with 1 concurrent workers.\n",
      "[Parallel(n_jobs=1)]: Done 120 out of 120 | elapsed:   30.7s finished\n"
     ]
    },
    {
     "name": "stdout",
     "output_type": "stream",
     "text": [
      "best score: 0.5987654320987654\n",
      "Fitting 10 folds for each of 12 candidates, totalling 120 fits\n"
     ]
    },
    {
     "name": "stderr",
     "output_type": "stream",
     "text": [
      "[Parallel(n_jobs=1)]: Using backend SequentialBackend with 1 concurrent workers.\n",
      "[Parallel(n_jobs=1)]: Done 120 out of 120 | elapsed:   39.6s finished\n"
     ]
    },
    {
     "name": "stdout",
     "output_type": "stream",
     "text": [
      "best score: 0.5987654320987654\n",
      "Fitting 10 folds for each of 12 candidates, totalling 120 fits\n"
     ]
    },
    {
     "name": "stderr",
     "output_type": "stream",
     "text": [
      "[Parallel(n_jobs=1)]: Using backend SequentialBackend with 1 concurrent workers.\n",
      "[Parallel(n_jobs=1)]: Done 120 out of 120 | elapsed:   33.0s finished\n"
     ]
    },
    {
     "name": "stdout",
     "output_type": "stream",
     "text": [
      "best score: 0.5987654320987654\n",
      "Fitting 10 folds for each of 12 candidates, totalling 120 fits\n"
     ]
    },
    {
     "name": "stderr",
     "output_type": "stream",
     "text": [
      "[Parallel(n_jobs=1)]: Using backend SequentialBackend with 1 concurrent workers.\n",
      "[Parallel(n_jobs=1)]: Done 120 out of 120 | elapsed:   59.1s finished\n"
     ]
    },
    {
     "name": "stdout",
     "output_type": "stream",
     "text": [
      "best score: 0.5987654320987654\n",
      "Split: 1\n",
      "Split: 2\n",
      "Split: 3\n",
      "Split: 4\n",
      "Split: 5\n",
      "Split: 6\n",
      "Split: 7\n",
      "Split: 8\n",
      "Split: 9\n",
      "Split: 10\n",
      "Training Testing Accuracy for n_games=8 team=13 : 57.78% (8.31%)\n",
      "(183, 1502)\n",
      "(183, 1)\n",
      "X_train shape: (164, 2499)\n",
      "X_test shape: (19, 2499)\n",
      "Fitting 10 folds for each of 12 candidates, totalling 120 fits\n"
     ]
    },
    {
     "name": "stderr",
     "output_type": "stream",
     "text": [
      "[Parallel(n_jobs=1)]: Using backend SequentialBackend with 1 concurrent workers.\n",
      "[Parallel(n_jobs=1)]: Done 120 out of 120 | elapsed:   36.6s finished\n"
     ]
    },
    {
     "name": "stdout",
     "output_type": "stream",
     "text": [
      "best score: 0.6280487804878049\n",
      "Fitting 10 folds for each of 12 candidates, totalling 120 fits\n"
     ]
    },
    {
     "name": "stderr",
     "output_type": "stream",
     "text": [
      "[Parallel(n_jobs=1)]: Using backend SequentialBackend with 1 concurrent workers.\n",
      "[Parallel(n_jobs=1)]: Done 120 out of 120 | elapsed:   48.1s finished\n"
     ]
    },
    {
     "name": "stdout",
     "output_type": "stream",
     "text": [
      "best score: 0.6280487804878049\n",
      "Fitting 10 folds for each of 12 candidates, totalling 120 fits\n"
     ]
    },
    {
     "name": "stderr",
     "output_type": "stream",
     "text": [
      "[Parallel(n_jobs=1)]: Using backend SequentialBackend with 1 concurrent workers.\n",
      "[Parallel(n_jobs=1)]: Done 120 out of 120 | elapsed:   44.6s finished\n"
     ]
    },
    {
     "name": "stdout",
     "output_type": "stream",
     "text": [
      "best score: 0.6585365853658537\n",
      "Fitting 10 folds for each of 12 candidates, totalling 120 fits\n"
     ]
    },
    {
     "name": "stderr",
     "output_type": "stream",
     "text": [
      "[Parallel(n_jobs=1)]: Using backend SequentialBackend with 1 concurrent workers.\n",
      "[Parallel(n_jobs=1)]: Done 120 out of 120 | elapsed:   47.3s finished\n"
     ]
    },
    {
     "name": "stdout",
     "output_type": "stream",
     "text": [
      "best score: 0.6585365853658537\n",
      "Fitting 10 folds for each of 12 candidates, totalling 120 fits\n"
     ]
    },
    {
     "name": "stderr",
     "output_type": "stream",
     "text": [
      "[Parallel(n_jobs=1)]: Using backend SequentialBackend with 1 concurrent workers.\n",
      "[Parallel(n_jobs=1)]: Done 120 out of 120 | elapsed:   32.5s finished\n"
     ]
    },
    {
     "name": "stdout",
     "output_type": "stream",
     "text": [
      "best score: 0.6585365853658537\n",
      "Split: 1\n",
      "Split: 2\n",
      "Split: 3\n",
      "Split: 4\n",
      "Split: 5\n",
      "Split: 6\n",
      "Split: 7\n",
      "Split: 8\n",
      "Split: 9\n",
      "Split: 10\n",
      "Training Testing Accuracy for n_games=8 team=14 : 61.23% (8.99%)\n",
      "(172, 1502)\n",
      "(172, 1)\n",
      "X_train shape: (154, 2496)\n",
      "X_test shape: (18, 2496)\n",
      "Fitting 10 folds for each of 12 candidates, totalling 120 fits\n"
     ]
    },
    {
     "name": "stderr",
     "output_type": "stream",
     "text": [
      "[Parallel(n_jobs=1)]: Using backend SequentialBackend with 1 concurrent workers.\n",
      "[Parallel(n_jobs=1)]: Done 120 out of 120 | elapsed:   35.3s finished\n"
     ]
    },
    {
     "name": "stdout",
     "output_type": "stream",
     "text": [
      "best score: 0.6428571428571429\n",
      "Fitting 10 folds for each of 12 candidates, totalling 120 fits\n"
     ]
    },
    {
     "name": "stderr",
     "output_type": "stream",
     "text": [
      "[Parallel(n_jobs=1)]: Using backend SequentialBackend with 1 concurrent workers.\n",
      "[Parallel(n_jobs=1)]: Done 120 out of 120 | elapsed:   29.8s finished\n"
     ]
    },
    {
     "name": "stdout",
     "output_type": "stream",
     "text": [
      "best score: 0.6428571428571429\n",
      "Fitting 10 folds for each of 12 candidates, totalling 120 fits\n"
     ]
    },
    {
     "name": "stderr",
     "output_type": "stream",
     "text": [
      "[Parallel(n_jobs=1)]: Using backend SequentialBackend with 1 concurrent workers.\n",
      "[Parallel(n_jobs=1)]: Done 120 out of 120 | elapsed:   45.4s finished\n"
     ]
    },
    {
     "name": "stdout",
     "output_type": "stream",
     "text": [
      "best score: 0.6428571428571429\n",
      "Fitting 10 folds for each of 12 candidates, totalling 120 fits\n"
     ]
    },
    {
     "name": "stderr",
     "output_type": "stream",
     "text": [
      "[Parallel(n_jobs=1)]: Using backend SequentialBackend with 1 concurrent workers.\n",
      "[Parallel(n_jobs=1)]: Done 120 out of 120 | elapsed:   28.5s finished\n"
     ]
    },
    {
     "name": "stdout",
     "output_type": "stream",
     "text": [
      "best score: 0.6428571428571429\n",
      "Fitting 10 folds for each of 12 candidates, totalling 120 fits\n"
     ]
    },
    {
     "name": "stderr",
     "output_type": "stream",
     "text": [
      "[Parallel(n_jobs=1)]: Using backend SequentialBackend with 1 concurrent workers.\n",
      "[Parallel(n_jobs=1)]: Done 120 out of 120 | elapsed:   28.8s finished\n"
     ]
    },
    {
     "name": "stdout",
     "output_type": "stream",
     "text": [
      "best score: 0.6428571428571429\n",
      "Split: 1\n",
      "Split: 2\n",
      "Split: 3\n",
      "Split: 4\n",
      "Split: 5\n",
      "Split: 6\n",
      "Split: 7\n",
      "Split: 8\n",
      "Split: 9\n",
      "Split: 10\n",
      "Training Testing Accuracy for n_games=8 team=15 : 61.60% (8.04%)\n",
      "(188, 1502)\n",
      "(188, 1)\n",
      "X_train shape: (169, 2504)\n",
      "X_test shape: (19, 2504)\n",
      "Fitting 10 folds for each of 12 candidates, totalling 120 fits\n"
     ]
    },
    {
     "name": "stderr",
     "output_type": "stream",
     "text": [
      "[Parallel(n_jobs=1)]: Using backend SequentialBackend with 1 concurrent workers.\n",
      "[Parallel(n_jobs=1)]: Done 120 out of 120 | elapsed:   35.5s finished\n"
     ]
    },
    {
     "name": "stdout",
     "output_type": "stream",
     "text": [
      "best score: 0.6568047337278107\n",
      "Fitting 10 folds for each of 12 candidates, totalling 120 fits\n"
     ]
    },
    {
     "name": "stderr",
     "output_type": "stream",
     "text": [
      "[Parallel(n_jobs=1)]: Using backend SequentialBackend with 1 concurrent workers.\n",
      "[Parallel(n_jobs=1)]: Done 120 out of 120 | elapsed:   30.5s finished\n"
     ]
    },
    {
     "name": "stdout",
     "output_type": "stream",
     "text": [
      "best score: 0.6627218934911243\n",
      "Fitting 10 folds for each of 12 candidates, totalling 120 fits\n"
     ]
    },
    {
     "name": "stderr",
     "output_type": "stream",
     "text": [
      "[Parallel(n_jobs=1)]: Using backend SequentialBackend with 1 concurrent workers.\n",
      "[Parallel(n_jobs=1)]: Done 120 out of 120 | elapsed:   35.8s finished\n"
     ]
    },
    {
     "name": "stdout",
     "output_type": "stream",
     "text": [
      "best score: 0.6923076923076923\n",
      "Fitting 10 folds for each of 12 candidates, totalling 120 fits\n"
     ]
    },
    {
     "name": "stderr",
     "output_type": "stream",
     "text": [
      "[Parallel(n_jobs=1)]: Using backend SequentialBackend with 1 concurrent workers.\n",
      "[Parallel(n_jobs=1)]: Done 120 out of 120 | elapsed:   29.7s finished\n"
     ]
    },
    {
     "name": "stdout",
     "output_type": "stream",
     "text": [
      "best score: 0.6923076923076923\n",
      "Fitting 10 folds for each of 12 candidates, totalling 120 fits\n"
     ]
    },
    {
     "name": "stderr",
     "output_type": "stream",
     "text": [
      "[Parallel(n_jobs=1)]: Using backend SequentialBackend with 1 concurrent workers.\n",
      "[Parallel(n_jobs=1)]: Done 120 out of 120 | elapsed:   40.9s finished\n"
     ]
    },
    {
     "name": "stdout",
     "output_type": "stream",
     "text": [
      "best score: 0.6923076923076923\n",
      "Split: 1\n",
      "Split: 2\n",
      "Split: 3\n",
      "Split: 4\n",
      "Split: 5\n",
      "Split: 6\n",
      "Split: 7\n",
      "Split: 8\n",
      "Split: 9\n",
      "Split: 10\n",
      "Training Testing Accuracy for n_games=8 team=16 : 58.98% (13.60%)\n",
      "(183, 1502)\n",
      "(183, 1)\n",
      "X_train shape: (164, 2510)\n",
      "X_test shape: (19, 2510)\n",
      "Fitting 10 folds for each of 12 candidates, totalling 120 fits\n"
     ]
    },
    {
     "name": "stderr",
     "output_type": "stream",
     "text": [
      "[Parallel(n_jobs=1)]: Using backend SequentialBackend with 1 concurrent workers.\n",
      "[Parallel(n_jobs=1)]: Done 120 out of 120 | elapsed:   36.3s finished\n"
     ]
    },
    {
     "name": "stdout",
     "output_type": "stream",
     "text": [
      "best score: 0.6341463414634146\n",
      "Fitting 10 folds for each of 12 candidates, totalling 120 fits\n"
     ]
    },
    {
     "name": "stderr",
     "output_type": "stream",
     "text": [
      "[Parallel(n_jobs=1)]: Using backend SequentialBackend with 1 concurrent workers.\n",
      "[Parallel(n_jobs=1)]: Done 120 out of 120 | elapsed:   30.6s finished\n"
     ]
    },
    {
     "name": "stdout",
     "output_type": "stream",
     "text": [
      "best score: 0.6524390243902439\n",
      "Fitting 10 folds for each of 12 candidates, totalling 120 fits\n"
     ]
    },
    {
     "name": "stderr",
     "output_type": "stream",
     "text": [
      "[Parallel(n_jobs=1)]: Using backend SequentialBackend with 1 concurrent workers.\n",
      "[Parallel(n_jobs=1)]: Done 120 out of 120 | elapsed:   27.0s finished\n"
     ]
    },
    {
     "name": "stdout",
     "output_type": "stream",
     "text": [
      "best score: 0.6524390243902439\n",
      "Fitting 10 folds for each of 12 candidates, totalling 120 fits\n"
     ]
    },
    {
     "name": "stderr",
     "output_type": "stream",
     "text": [
      "[Parallel(n_jobs=1)]: Using backend SequentialBackend with 1 concurrent workers.\n",
      "[Parallel(n_jobs=1)]: Done 120 out of 120 | elapsed:   42.6s finished\n"
     ]
    },
    {
     "name": "stdout",
     "output_type": "stream",
     "text": [
      "best score: 0.6524390243902439\n",
      "Fitting 10 folds for each of 12 candidates, totalling 120 fits\n"
     ]
    },
    {
     "name": "stderr",
     "output_type": "stream",
     "text": [
      "[Parallel(n_jobs=1)]: Using backend SequentialBackend with 1 concurrent workers.\n",
      "[Parallel(n_jobs=1)]: Done 120 out of 120 | elapsed:   36.1s finished\n"
     ]
    },
    {
     "name": "stdout",
     "output_type": "stream",
     "text": [
      "best score: 0.6524390243902439\n",
      "Split: 1\n",
      "Split: 2\n",
      "Split: 3\n",
      "Split: 4\n",
      "Split: 5\n",
      "Split: 6\n",
      "Split: 7\n",
      "Split: 8\n",
      "Split: 9\n",
      "Split: 10\n",
      "Training Testing Accuracy for n_games=8 team=17 : 52.02% (9.32%)\n",
      "(182, 1502)\n",
      "(182, 1)\n",
      "X_train shape: (163, 2523)\n",
      "X_test shape: (19, 2523)\n",
      "Fitting 10 folds for each of 12 candidates, totalling 120 fits\n"
     ]
    },
    {
     "name": "stderr",
     "output_type": "stream",
     "text": [
      "[Parallel(n_jobs=1)]: Using backend SequentialBackend with 1 concurrent workers.\n",
      "[Parallel(n_jobs=1)]: Done 120 out of 120 | elapsed:   36.6s finished\n"
     ]
    },
    {
     "name": "stdout",
     "output_type": "stream",
     "text": [
      "best score: 0.5337423312883436\n",
      "Fitting 10 folds for each of 12 candidates, totalling 120 fits\n"
     ]
    },
    {
     "name": "stderr",
     "output_type": "stream",
     "text": [
      "[Parallel(n_jobs=1)]: Using backend SequentialBackend with 1 concurrent workers.\n",
      "[Parallel(n_jobs=1)]: Done 120 out of 120 | elapsed:   46.9s finished\n"
     ]
    },
    {
     "name": "stdout",
     "output_type": "stream",
     "text": [
      "best score: 0.5828220858895705\n",
      "Fitting 10 folds for each of 12 candidates, totalling 120 fits\n"
     ]
    },
    {
     "name": "stderr",
     "output_type": "stream",
     "text": [
      "[Parallel(n_jobs=1)]: Using backend SequentialBackend with 1 concurrent workers.\n",
      "[Parallel(n_jobs=1)]: Done 120 out of 120 | elapsed:   42.4s finished\n"
     ]
    },
    {
     "name": "stdout",
     "output_type": "stream",
     "text": [
      "best score: 0.6134969325153374\n",
      "Fitting 10 folds for each of 12 candidates, totalling 120 fits\n"
     ]
    },
    {
     "name": "stderr",
     "output_type": "stream",
     "text": [
      "[Parallel(n_jobs=1)]: Using backend SequentialBackend with 1 concurrent workers.\n",
      "[Parallel(n_jobs=1)]: Done 120 out of 120 | elapsed:  1.1min finished\n"
     ]
    },
    {
     "name": "stdout",
     "output_type": "stream",
     "text": [
      "best score: 0.6134969325153374\n",
      "Fitting 10 folds for each of 12 candidates, totalling 120 fits\n"
     ]
    },
    {
     "name": "stderr",
     "output_type": "stream",
     "text": [
      "[Parallel(n_jobs=1)]: Using backend SequentialBackend with 1 concurrent workers.\n",
      "[Parallel(n_jobs=1)]: Done 120 out of 120 | elapsed:   24.8s finished\n"
     ]
    },
    {
     "name": "stdout",
     "output_type": "stream",
     "text": [
      "best score: 0.6134969325153374\n",
      "Split: 1\n",
      "Split: 2\n",
      "Split: 3\n",
      "Split: 4\n",
      "Split: 5\n",
      "Split: 6\n",
      "Split: 7\n",
      "Split: 8\n",
      "Split: 9\n",
      "Split: 10\n",
      "Training Testing Accuracy for n_games=8 team=18 : 48.42% (5.89%)\n",
      "Accuracy for Team Models for n_games= 8 : 59.26% (7.13%)\n",
      "(177, 1688)\n",
      "(177, 1)\n",
      "X_train shape: (159, 2817)\n",
      "X_test shape: (18, 2817)\n",
      "Fitting 10 folds for each of 12 candidates, totalling 120 fits\n"
     ]
    },
    {
     "name": "stderr",
     "output_type": "stream",
     "text": [
      "[Parallel(n_jobs=1)]: Using backend SequentialBackend with 1 concurrent workers.\n",
      "[Parallel(n_jobs=1)]: Done 120 out of 120 | elapsed:   40.7s finished\n"
     ]
    },
    {
     "name": "stdout",
     "output_type": "stream",
     "text": [
      "best score: 0.6352201257861635\n",
      "Fitting 10 folds for each of 12 candidates, totalling 120 fits\n"
     ]
    },
    {
     "name": "stderr",
     "output_type": "stream",
     "text": [
      "[Parallel(n_jobs=1)]: Using backend SequentialBackend with 1 concurrent workers.\n",
      "[Parallel(n_jobs=1)]: Done 120 out of 120 | elapsed:   43.7s finished\n"
     ]
    },
    {
     "name": "stdout",
     "output_type": "stream",
     "text": [
      "best score: 0.6477987421383647\n",
      "Fitting 10 folds for each of 12 candidates, totalling 120 fits\n"
     ]
    },
    {
     "name": "stderr",
     "output_type": "stream",
     "text": [
      "[Parallel(n_jobs=1)]: Using backend SequentialBackend with 1 concurrent workers.\n",
      "[Parallel(n_jobs=1)]: Done 120 out of 120 | elapsed:   45.0s finished\n"
     ]
    },
    {
     "name": "stdout",
     "output_type": "stream",
     "text": [
      "best score: 0.6477987421383647\n",
      "Fitting 10 folds for each of 12 candidates, totalling 120 fits\n"
     ]
    },
    {
     "name": "stderr",
     "output_type": "stream",
     "text": [
      "[Parallel(n_jobs=1)]: Using backend SequentialBackend with 1 concurrent workers.\n",
      "[Parallel(n_jobs=1)]: Done 120 out of 120 | elapsed:   40.5s finished\n"
     ]
    },
    {
     "name": "stdout",
     "output_type": "stream",
     "text": [
      "best score: 0.6477987421383647\n",
      "Fitting 10 folds for each of 12 candidates, totalling 120 fits\n"
     ]
    },
    {
     "name": "stderr",
     "output_type": "stream",
     "text": [
      "[Parallel(n_jobs=1)]: Using backend SequentialBackend with 1 concurrent workers.\n",
      "[Parallel(n_jobs=1)]: Done 120 out of 120 | elapsed:  1.3min finished\n"
     ]
    },
    {
     "name": "stdout",
     "output_type": "stream",
     "text": [
      "best score: 0.6855345911949685\n",
      "Split: 1\n",
      "Split: 2\n",
      "Split: 3\n",
      "Split: 4\n",
      "Split: 5\n",
      "Split: 6\n",
      "Split: 7\n",
      "Split: 8\n",
      "Split: 9\n",
      "Split: 10\n",
      "Training Testing Accuracy for n_games=9 team=1 : 61.54% (6.26%)\n",
      "(175, 1688)\n",
      "(175, 1)\n",
      "X_train shape: (157, 2790)\n",
      "X_test shape: (18, 2790)\n",
      "Fitting 10 folds for each of 12 candidates, totalling 120 fits\n"
     ]
    },
    {
     "name": "stderr",
     "output_type": "stream",
     "text": [
      "[Parallel(n_jobs=1)]: Using backend SequentialBackend with 1 concurrent workers.\n",
      "[Parallel(n_jobs=1)]: Done 120 out of 120 | elapsed:   39.7s finished\n"
     ]
    },
    {
     "name": "stdout",
     "output_type": "stream",
     "text": [
      "best score: 0.6815286624203821\n",
      "Fitting 10 folds for each of 12 candidates, totalling 120 fits\n"
     ]
    },
    {
     "name": "stderr",
     "output_type": "stream",
     "text": [
      "[Parallel(n_jobs=1)]: Using backend SequentialBackend with 1 concurrent workers.\n",
      "[Parallel(n_jobs=1)]: Done 120 out of 120 | elapsed:   56.7s finished\n"
     ]
    },
    {
     "name": "stdout",
     "output_type": "stream",
     "text": [
      "best score: 0.6815286624203821\n",
      "Fitting 10 folds for each of 12 candidates, totalling 120 fits\n"
     ]
    },
    {
     "name": "stderr",
     "output_type": "stream",
     "text": [
      "[Parallel(n_jobs=1)]: Using backend SequentialBackend with 1 concurrent workers.\n",
      "[Parallel(n_jobs=1)]: Done 120 out of 120 | elapsed:   59.7s finished\n"
     ]
    },
    {
     "name": "stdout",
     "output_type": "stream",
     "text": [
      "best score: 0.6815286624203821\n",
      "Fitting 10 folds for each of 12 candidates, totalling 120 fits\n"
     ]
    },
    {
     "name": "stderr",
     "output_type": "stream",
     "text": [
      "[Parallel(n_jobs=1)]: Using backend SequentialBackend with 1 concurrent workers.\n",
      "[Parallel(n_jobs=1)]: Done 120 out of 120 | elapsed:   40.7s finished\n"
     ]
    },
    {
     "name": "stdout",
     "output_type": "stream",
     "text": [
      "best score: 0.6815286624203821\n",
      "Fitting 10 folds for each of 12 candidates, totalling 120 fits\n"
     ]
    },
    {
     "name": "stderr",
     "output_type": "stream",
     "text": [
      "[Parallel(n_jobs=1)]: Using backend SequentialBackend with 1 concurrent workers.\n",
      "[Parallel(n_jobs=1)]: Done 120 out of 120 | elapsed:  2.4min finished\n"
     ]
    },
    {
     "name": "stdout",
     "output_type": "stream",
     "text": [
      "best score: 0.6815286624203821\n",
      "Split: 1\n",
      "Split: 2\n",
      "Split: 3\n",
      "Split: 4\n",
      "Split: 5\n",
      "Split: 6\n",
      "Split: 7\n",
      "Split: 8\n",
      "Split: 9\n",
      "Split: 10\n",
      "Training Testing Accuracy for n_games=9 team=2 : 66.34% (8.90%)\n",
      "(173, 1688)\n",
      "(173, 1)\n",
      "X_train shape: (155, 2784)\n",
      "X_test shape: (18, 2784)\n",
      "Fitting 10 folds for each of 12 candidates, totalling 120 fits\n"
     ]
    },
    {
     "name": "stderr",
     "output_type": "stream",
     "text": [
      "[Parallel(n_jobs=1)]: Using backend SequentialBackend with 1 concurrent workers.\n",
      "[Parallel(n_jobs=1)]: Done 120 out of 120 | elapsed:   39.9s finished\n"
     ]
    },
    {
     "name": "stdout",
     "output_type": "stream",
     "text": [
      "best score: 0.6903225806451613\n",
      "Fitting 10 folds for each of 12 candidates, totalling 120 fits\n"
     ]
    },
    {
     "name": "stderr",
     "output_type": "stream",
     "text": [
      "[Parallel(n_jobs=1)]: Using backend SequentialBackend with 1 concurrent workers.\n",
      "[Parallel(n_jobs=1)]: Done 120 out of 120 | elapsed:   31.8s finished\n"
     ]
    },
    {
     "name": "stdout",
     "output_type": "stream",
     "text": [
      "best score: 0.6903225806451613\n",
      "Fitting 10 folds for each of 12 candidates, totalling 120 fits\n"
     ]
    },
    {
     "name": "stderr",
     "output_type": "stream",
     "text": [
      "[Parallel(n_jobs=1)]: Using backend SequentialBackend with 1 concurrent workers.\n",
      "[Parallel(n_jobs=1)]: Done 120 out of 120 | elapsed:   31.3s finished\n"
     ]
    },
    {
     "name": "stdout",
     "output_type": "stream",
     "text": [
      "best score: 0.6903225806451613\n",
      "Fitting 10 folds for each of 12 candidates, totalling 120 fits\n"
     ]
    },
    {
     "name": "stderr",
     "output_type": "stream",
     "text": [
      "[Parallel(n_jobs=1)]: Using backend SequentialBackend with 1 concurrent workers.\n",
      "[Parallel(n_jobs=1)]: Done 120 out of 120 | elapsed:   28.6s finished\n"
     ]
    },
    {
     "name": "stdout",
     "output_type": "stream",
     "text": [
      "best score: 0.6903225806451613\n",
      "Fitting 10 folds for each of 12 candidates, totalling 120 fits\n"
     ]
    },
    {
     "name": "stderr",
     "output_type": "stream",
     "text": [
      "[Parallel(n_jobs=1)]: Using backend SequentialBackend with 1 concurrent workers.\n",
      "[Parallel(n_jobs=1)]: Done 120 out of 120 | elapsed:   50.1s finished\n"
     ]
    },
    {
     "name": "stdout",
     "output_type": "stream",
     "text": [
      "best score: 0.6903225806451613\n",
      "Split: 1\n",
      "Split: 2\n",
      "Split: 3\n",
      "Split: 4\n",
      "Split: 5\n",
      "Split: 6\n",
      "Split: 7\n",
      "Split: 8\n",
      "Split: 9\n",
      "Split: 10\n",
      "Training Testing Accuracy for n_games=9 team=3 : 69.97% (1.72%)\n",
      "(178, 1688)\n",
      "(178, 1)\n",
      "X_train shape: (160, 2784)\n",
      "X_test shape: (18, 2784)\n",
      "Fitting 10 folds for each of 12 candidates, totalling 120 fits\n"
     ]
    },
    {
     "name": "stderr",
     "output_type": "stream",
     "text": [
      "[Parallel(n_jobs=1)]: Using backend SequentialBackend with 1 concurrent workers.\n",
      "[Parallel(n_jobs=1)]: Done 120 out of 120 | elapsed:   39.6s finished\n"
     ]
    },
    {
     "name": "stdout",
     "output_type": "stream",
     "text": [
      "best score: 0.625\n",
      "Fitting 10 folds for each of 12 candidates, totalling 120 fits\n"
     ]
    },
    {
     "name": "stderr",
     "output_type": "stream",
     "text": [
      "[Parallel(n_jobs=1)]: Using backend SequentialBackend with 1 concurrent workers.\n",
      "[Parallel(n_jobs=1)]: Done 120 out of 120 | elapsed:  1.2min finished\n"
     ]
    },
    {
     "name": "stdout",
     "output_type": "stream",
     "text": [
      "best score: 0.625\n",
      "Fitting 10 folds for each of 12 candidates, totalling 120 fits\n"
     ]
    },
    {
     "name": "stderr",
     "output_type": "stream",
     "text": [
      "[Parallel(n_jobs=1)]: Using backend SequentialBackend with 1 concurrent workers.\n",
      "[Parallel(n_jobs=1)]: Done 120 out of 120 | elapsed:   32.8s finished\n"
     ]
    },
    {
     "name": "stdout",
     "output_type": "stream",
     "text": [
      "best score: 0.63125\n",
      "Fitting 10 folds for each of 12 candidates, totalling 120 fits\n"
     ]
    },
    {
     "name": "stderr",
     "output_type": "stream",
     "text": [
      "[Parallel(n_jobs=1)]: Using backend SequentialBackend with 1 concurrent workers.\n",
      "[Parallel(n_jobs=1)]: Done 120 out of 120 | elapsed:   45.5s finished\n"
     ]
    },
    {
     "name": "stdout",
     "output_type": "stream",
     "text": [
      "best score: 0.63125\n",
      "Fitting 10 folds for each of 12 candidates, totalling 120 fits\n"
     ]
    },
    {
     "name": "stderr",
     "output_type": "stream",
     "text": [
      "[Parallel(n_jobs=1)]: Using backend SequentialBackend with 1 concurrent workers.\n",
      "[Parallel(n_jobs=1)]: Done 120 out of 120 | elapsed:   32.1s finished\n"
     ]
    },
    {
     "name": "stdout",
     "output_type": "stream",
     "text": [
      "best score: 0.63125\n",
      "Split: 1\n",
      "Split: 2\n",
      "Split: 3\n",
      "Split: 4\n",
      "Split: 5\n",
      "Split: 6\n",
      "Split: 7\n",
      "Split: 8\n",
      "Split: 9\n",
      "Split: 10\n",
      "Training Testing Accuracy for n_games=9 team=4 : 54.08% (9.10%)\n",
      "(175, 1688)\n",
      "(175, 1)\n",
      "X_train shape: (157, 2763)\n",
      "X_test shape: (18, 2763)\n",
      "Fitting 10 folds for each of 12 candidates, totalling 120 fits\n"
     ]
    },
    {
     "name": "stderr",
     "output_type": "stream",
     "text": [
      "[Parallel(n_jobs=1)]: Using backend SequentialBackend with 1 concurrent workers.\n",
      "[Parallel(n_jobs=1)]: Done 120 out of 120 | elapsed:   39.8s finished\n"
     ]
    },
    {
     "name": "stdout",
     "output_type": "stream",
     "text": [
      "best score: 0.5859872611464968\n",
      "Fitting 10 folds for each of 12 candidates, totalling 120 fits\n"
     ]
    },
    {
     "name": "stderr",
     "output_type": "stream",
     "text": [
      "[Parallel(n_jobs=1)]: Using backend SequentialBackend with 1 concurrent workers.\n",
      "[Parallel(n_jobs=1)]: Done 120 out of 120 | elapsed:  1.5min finished\n"
     ]
    },
    {
     "name": "stdout",
     "output_type": "stream",
     "text": [
      "best score: 0.5859872611464968\n",
      "Fitting 10 folds for each of 12 candidates, totalling 120 fits\n"
     ]
    },
    {
     "name": "stderr",
     "output_type": "stream",
     "text": [
      "[Parallel(n_jobs=1)]: Using backend SequentialBackend with 1 concurrent workers.\n",
      "[Parallel(n_jobs=1)]: Done 120 out of 120 | elapsed:   32.4s finished\n"
     ]
    },
    {
     "name": "stdout",
     "output_type": "stream",
     "text": [
      "best score: 0.5859872611464968\n",
      "Fitting 10 folds for each of 12 candidates, totalling 120 fits\n"
     ]
    },
    {
     "name": "stderr",
     "output_type": "stream",
     "text": [
      "[Parallel(n_jobs=1)]: Using backend SequentialBackend with 1 concurrent workers.\n",
      "[Parallel(n_jobs=1)]: Done 120 out of 120 | elapsed:   35.8s finished\n"
     ]
    },
    {
     "name": "stdout",
     "output_type": "stream",
     "text": [
      "best score: 0.5859872611464968\n",
      "Fitting 10 folds for each of 12 candidates, totalling 120 fits\n"
     ]
    },
    {
     "name": "stderr",
     "output_type": "stream",
     "text": [
      "[Parallel(n_jobs=1)]: Using backend SequentialBackend with 1 concurrent workers.\n",
      "[Parallel(n_jobs=1)]: Done 120 out of 120 | elapsed:   41.0s finished\n"
     ]
    },
    {
     "name": "stdout",
     "output_type": "stream",
     "text": [
      "best score: 0.6050955414012739\n",
      "Split: 1\n",
      "Split: 2\n",
      "Split: 3\n",
      "Split: 4\n",
      "Split: 5\n",
      "Split: 6\n",
      "Split: 7\n",
      "Split: 8\n",
      "Split: 9\n",
      "Split: 10\n",
      "Training Testing Accuracy for n_games=9 team=5 : 57.78% (9.17%)\n",
      "(178, 1688)\n",
      "(178, 1)\n",
      "X_train shape: (160, 2804)\n",
      "X_test shape: (18, 2804)\n",
      "Fitting 10 folds for each of 12 candidates, totalling 120 fits\n"
     ]
    },
    {
     "name": "stderr",
     "output_type": "stream",
     "text": [
      "[Parallel(n_jobs=1)]: Using backend SequentialBackend with 1 concurrent workers.\n",
      "[Parallel(n_jobs=1)]: Done 120 out of 120 | elapsed:   39.7s finished\n"
     ]
    },
    {
     "name": "stdout",
     "output_type": "stream",
     "text": [
      "best score: 0.54375\n",
      "Fitting 10 folds for each of 12 candidates, totalling 120 fits\n"
     ]
    },
    {
     "name": "stderr",
     "output_type": "stream",
     "text": [
      "[Parallel(n_jobs=1)]: Using backend SequentialBackend with 1 concurrent workers.\n",
      "[Parallel(n_jobs=1)]: Done 120 out of 120 | elapsed:   36.3s finished\n"
     ]
    },
    {
     "name": "stdout",
     "output_type": "stream",
     "text": [
      "best score: 0.54375\n",
      "Fitting 10 folds for each of 12 candidates, totalling 120 fits\n"
     ]
    },
    {
     "name": "stderr",
     "output_type": "stream",
     "text": [
      "[Parallel(n_jobs=1)]: Using backend SequentialBackend with 1 concurrent workers.\n",
      "[Parallel(n_jobs=1)]: Done 120 out of 120 | elapsed:   31.2s finished\n"
     ]
    },
    {
     "name": "stdout",
     "output_type": "stream",
     "text": [
      "best score: 0.5625\n",
      "Fitting 10 folds for each of 12 candidates, totalling 120 fits\n"
     ]
    },
    {
     "name": "stderr",
     "output_type": "stream",
     "text": [
      "[Parallel(n_jobs=1)]: Using backend SequentialBackend with 1 concurrent workers.\n",
      "[Parallel(n_jobs=1)]: Done 120 out of 120 | elapsed:   42.2s finished\n"
     ]
    },
    {
     "name": "stdout",
     "output_type": "stream",
     "text": [
      "best score: 0.5625\n",
      "Fitting 10 folds for each of 12 candidates, totalling 120 fits\n"
     ]
    },
    {
     "name": "stderr",
     "output_type": "stream",
     "text": [
      "[Parallel(n_jobs=1)]: Using backend SequentialBackend with 1 concurrent workers.\n",
      "[Parallel(n_jobs=1)]: Done 120 out of 120 | elapsed:   30.7s finished\n"
     ]
    },
    {
     "name": "stdout",
     "output_type": "stream",
     "text": [
      "best score: 0.5625\n",
      "Split: 1\n",
      "Split: 2\n",
      "Split: 3\n",
      "Split: 4\n",
      "Split: 5\n",
      "Split: 6\n",
      "Split: 7\n",
      "Split: 8\n",
      "Split: 9\n",
      "Split: 10\n",
      "Training Testing Accuracy for n_games=9 team=6 : 52.78% (4.67%)\n",
      "(187, 1688)\n",
      "(187, 1)\n",
      "X_train shape: (168, 2795)\n",
      "X_test shape: (19, 2795)\n",
      "Fitting 10 folds for each of 12 candidates, totalling 120 fits\n"
     ]
    },
    {
     "name": "stderr",
     "output_type": "stream",
     "text": [
      "[Parallel(n_jobs=1)]: Using backend SequentialBackend with 1 concurrent workers.\n",
      "[Parallel(n_jobs=1)]: Done 120 out of 120 | elapsed:   40.3s finished\n"
     ]
    },
    {
     "name": "stdout",
     "output_type": "stream",
     "text": [
      "best score: 0.6964285714285714\n",
      "Fitting 10 folds for each of 12 candidates, totalling 120 fits\n"
     ]
    },
    {
     "name": "stderr",
     "output_type": "stream",
     "text": [
      "[Parallel(n_jobs=1)]: Using backend SequentialBackend with 1 concurrent workers.\n",
      "[Parallel(n_jobs=1)]: Done 120 out of 120 | elapsed:   34.2s finished\n"
     ]
    },
    {
     "name": "stdout",
     "output_type": "stream",
     "text": [
      "best score: 0.6964285714285714\n",
      "Fitting 10 folds for each of 12 candidates, totalling 120 fits\n"
     ]
    },
    {
     "name": "stderr",
     "output_type": "stream",
     "text": [
      "[Parallel(n_jobs=1)]: Using backend SequentialBackend with 1 concurrent workers.\n",
      "[Parallel(n_jobs=1)]: Done 120 out of 120 | elapsed:   41.4s finished\n"
     ]
    },
    {
     "name": "stdout",
     "output_type": "stream",
     "text": [
      "best score: 0.6964285714285714\n",
      "Fitting 10 folds for each of 12 candidates, totalling 120 fits\n"
     ]
    },
    {
     "name": "stderr",
     "output_type": "stream",
     "text": [
      "[Parallel(n_jobs=1)]: Using backend SequentialBackend with 1 concurrent workers.\n",
      "[Parallel(n_jobs=1)]: Done 120 out of 120 | elapsed:   43.2s finished\n"
     ]
    },
    {
     "name": "stdout",
     "output_type": "stream",
     "text": [
      "best score: 0.6964285714285714\n",
      "Fitting 10 folds for each of 12 candidates, totalling 120 fits\n"
     ]
    },
    {
     "name": "stderr",
     "output_type": "stream",
     "text": [
      "[Parallel(n_jobs=1)]: Using backend SequentialBackend with 1 concurrent workers.\n",
      "[Parallel(n_jobs=1)]: Done 120 out of 120 | elapsed:   47.0s finished\n"
     ]
    },
    {
     "name": "stdout",
     "output_type": "stream",
     "text": [
      "best score: 0.6964285714285714\n",
      "Split: 1\n",
      "Split: 2\n",
      "Split: 3\n",
      "Split: 4\n",
      "Split: 5\n",
      "Split: 6\n",
      "Split: 7\n",
      "Split: 8\n",
      "Split: 9\n",
      "Split: 10\n",
      "Training Testing Accuracy for n_games=9 team=7 : 68.42% (5.08%)\n",
      "(171, 1688)\n",
      "(171, 1)\n",
      "X_train shape: (153, 2801)\n",
      "X_test shape: (18, 2801)\n",
      "Fitting 10 folds for each of 12 candidates, totalling 120 fits\n"
     ]
    },
    {
     "name": "stderr",
     "output_type": "stream",
     "text": [
      "[Parallel(n_jobs=1)]: Using backend SequentialBackend with 1 concurrent workers.\n",
      "[Parallel(n_jobs=1)]: Done 120 out of 120 | elapsed:   39.1s finished\n"
     ]
    },
    {
     "name": "stdout",
     "output_type": "stream",
     "text": [
      "best score: 0.7581699346405228\n",
      "Fitting 10 folds for each of 12 candidates, totalling 120 fits\n"
     ]
    },
    {
     "name": "stderr",
     "output_type": "stream",
     "text": [
      "[Parallel(n_jobs=1)]: Using backend SequentialBackend with 1 concurrent workers.\n",
      "[Parallel(n_jobs=1)]: Done 120 out of 120 | elapsed:   53.2s finished\n"
     ]
    },
    {
     "name": "stdout",
     "output_type": "stream",
     "text": [
      "best score: 0.7581699346405228\n",
      "Fitting 10 folds for each of 12 candidates, totalling 120 fits\n"
     ]
    },
    {
     "name": "stderr",
     "output_type": "stream",
     "text": [
      "[Parallel(n_jobs=1)]: Using backend SequentialBackend with 1 concurrent workers.\n",
      "[Parallel(n_jobs=1)]: Done 120 out of 120 | elapsed:   36.9s finished\n"
     ]
    },
    {
     "name": "stdout",
     "output_type": "stream",
     "text": [
      "best score: 0.7581699346405228\n",
      "Fitting 10 folds for each of 12 candidates, totalling 120 fits\n"
     ]
    },
    {
     "name": "stderr",
     "output_type": "stream",
     "text": [
      "[Parallel(n_jobs=1)]: Using backend SequentialBackend with 1 concurrent workers.\n",
      "[Parallel(n_jobs=1)]: Done 120 out of 120 | elapsed:   51.5s finished\n"
     ]
    },
    {
     "name": "stdout",
     "output_type": "stream",
     "text": [
      "best score: 0.7581699346405228\n",
      "Fitting 10 folds for each of 12 candidates, totalling 120 fits\n"
     ]
    },
    {
     "name": "stderr",
     "output_type": "stream",
     "text": [
      "[Parallel(n_jobs=1)]: Using backend SequentialBackend with 1 concurrent workers.\n",
      "[Parallel(n_jobs=1)]: Done 120 out of 120 | elapsed:   32.0s finished\n"
     ]
    },
    {
     "name": "stdout",
     "output_type": "stream",
     "text": [
      "best score: 0.7581699346405228\n",
      "Split: 1\n",
      "Split: 2\n",
      "Split: 3\n",
      "Split: 4\n",
      "Split: 5\n",
      "Split: 6\n",
      "Split: 7\n",
      "Split: 8\n",
      "Split: 9\n",
      "Split: 10\n",
      "Training Testing Accuracy for n_games=9 team=8 : 73.66% (3.09%)\n",
      "(184, 1688)\n",
      "(184, 1)\n",
      "X_train shape: (165, 2812)\n",
      "X_test shape: (19, 2812)\n",
      "Fitting 10 folds for each of 12 candidates, totalling 120 fits\n"
     ]
    },
    {
     "name": "stderr",
     "output_type": "stream",
     "text": [
      "[Parallel(n_jobs=1)]: Using backend SequentialBackend with 1 concurrent workers.\n",
      "[Parallel(n_jobs=1)]: Done 120 out of 120 | elapsed:   40.8s finished\n"
     ]
    },
    {
     "name": "stdout",
     "output_type": "stream",
     "text": [
      "best score: 0.6060606060606061\n",
      "Fitting 10 folds for each of 12 candidates, totalling 120 fits\n"
     ]
    },
    {
     "name": "stderr",
     "output_type": "stream",
     "text": [
      "[Parallel(n_jobs=1)]: Using backend SequentialBackend with 1 concurrent workers.\n",
      "[Parallel(n_jobs=1)]: Done 120 out of 120 | elapsed:   45.5s finished\n"
     ]
    },
    {
     "name": "stdout",
     "output_type": "stream",
     "text": [
      "best score: 0.6060606060606061\n",
      "Fitting 10 folds for each of 12 candidates, totalling 120 fits\n"
     ]
    },
    {
     "name": "stderr",
     "output_type": "stream",
     "text": [
      "[Parallel(n_jobs=1)]: Using backend SequentialBackend with 1 concurrent workers.\n",
      "[Parallel(n_jobs=1)]: Done 120 out of 120 | elapsed:  1.1min finished\n"
     ]
    },
    {
     "name": "stdout",
     "output_type": "stream",
     "text": [
      "best score: 0.6060606060606061\n",
      "Fitting 10 folds for each of 12 candidates, totalling 120 fits\n"
     ]
    },
    {
     "name": "stderr",
     "output_type": "stream",
     "text": [
      "[Parallel(n_jobs=1)]: Using backend SequentialBackend with 1 concurrent workers.\n",
      "[Parallel(n_jobs=1)]: Done 120 out of 120 | elapsed:   52.0s finished\n"
     ]
    },
    {
     "name": "stdout",
     "output_type": "stream",
     "text": [
      "best score: 0.6060606060606061\n",
      "Fitting 10 folds for each of 12 candidates, totalling 120 fits\n"
     ]
    },
    {
     "name": "stderr",
     "output_type": "stream",
     "text": [
      "[Parallel(n_jobs=1)]: Using backend SequentialBackend with 1 concurrent workers.\n",
      "[Parallel(n_jobs=1)]: Done 120 out of 120 | elapsed:   33.5s finished\n"
     ]
    },
    {
     "name": "stdout",
     "output_type": "stream",
     "text": [
      "best score: 0.6060606060606061\n",
      "Split: 1\n",
      "Split: 2\n",
      "Split: 3\n",
      "Split: 4\n",
      "Split: 5\n",
      "Split: 6\n",
      "Split: 7\n",
      "Split: 8\n",
      "Split: 9\n",
      "Split: 10\n",
      "Training Testing Accuracy for n_games=9 team=9 : 58.60% (10.72%)\n",
      "(185, 1688)\n",
      "(185, 1)\n",
      "X_train shape: (166, 2801)\n",
      "X_test shape: (19, 2801)\n",
      "Fitting 10 folds for each of 12 candidates, totalling 120 fits\n"
     ]
    },
    {
     "name": "stderr",
     "output_type": "stream",
     "text": [
      "[Parallel(n_jobs=1)]: Using backend SequentialBackend with 1 concurrent workers.\n",
      "[Parallel(n_jobs=1)]: Done 120 out of 120 | elapsed:   41.0s finished\n"
     ]
    },
    {
     "name": "stdout",
     "output_type": "stream",
     "text": [
      "best score: 0.6385542168674698\n",
      "Fitting 10 folds for each of 12 candidates, totalling 120 fits\n"
     ]
    },
    {
     "name": "stderr",
     "output_type": "stream",
     "text": [
      "[Parallel(n_jobs=1)]: Using backend SequentialBackend with 1 concurrent workers.\n",
      "[Parallel(n_jobs=1)]: Done 120 out of 120 | elapsed:   37.6s finished\n"
     ]
    },
    {
     "name": "stdout",
     "output_type": "stream",
     "text": [
      "best score: 0.6686746987951807\n",
      "Fitting 10 folds for each of 12 candidates, totalling 120 fits\n"
     ]
    },
    {
     "name": "stderr",
     "output_type": "stream",
     "text": [
      "[Parallel(n_jobs=1)]: Using backend SequentialBackend with 1 concurrent workers.\n",
      "[Parallel(n_jobs=1)]: Done 120 out of 120 | elapsed:   34.3s finished\n"
     ]
    },
    {
     "name": "stdout",
     "output_type": "stream",
     "text": [
      "best score: 0.6686746987951807\n",
      "Fitting 10 folds for each of 12 candidates, totalling 120 fits\n"
     ]
    },
    {
     "name": "stderr",
     "output_type": "stream",
     "text": [
      "[Parallel(n_jobs=1)]: Using backend SequentialBackend with 1 concurrent workers.\n",
      "[Parallel(n_jobs=1)]: Done 120 out of 120 | elapsed:  1.0min finished\n"
     ]
    },
    {
     "name": "stdout",
     "output_type": "stream",
     "text": [
      "best score: 0.6686746987951807\n",
      "Fitting 10 folds for each of 12 candidates, totalling 120 fits\n"
     ]
    },
    {
     "name": "stderr",
     "output_type": "stream",
     "text": [
      "[Parallel(n_jobs=1)]: Using backend SequentialBackend with 1 concurrent workers.\n",
      "[Parallel(n_jobs=1)]: Done 120 out of 120 | elapsed:   36.3s finished\n"
     ]
    },
    {
     "name": "stdout",
     "output_type": "stream",
     "text": [
      "best score: 0.6686746987951807\n",
      "Split: 1\n",
      "Split: 2\n",
      "Split: 3\n",
      "Split: 4\n",
      "Split: 5\n",
      "Split: 6\n",
      "Split: 7\n",
      "Split: 8\n",
      "Split: 9\n",
      "Split: 10\n",
      "Training Testing Accuracy for n_games=9 team=10 : 61.02% (3.71%)\n",
      "(177, 1688)\n",
      "(177, 1)\n",
      "X_train shape: (159, 2815)\n",
      "X_test shape: (18, 2815)\n",
      "Fitting 10 folds for each of 12 candidates, totalling 120 fits\n"
     ]
    },
    {
     "name": "stderr",
     "output_type": "stream",
     "text": [
      "[Parallel(n_jobs=1)]: Using backend SequentialBackend with 1 concurrent workers.\n",
      "[Parallel(n_jobs=1)]: Done 120 out of 120 | elapsed:   40.6s finished\n"
     ]
    },
    {
     "name": "stdout",
     "output_type": "stream",
     "text": [
      "best score: 0.5786163522012578\n",
      "Fitting 10 folds for each of 12 candidates, totalling 120 fits\n"
     ]
    },
    {
     "name": "stderr",
     "output_type": "stream",
     "text": [
      "[Parallel(n_jobs=1)]: Using backend SequentialBackend with 1 concurrent workers.\n",
      "[Parallel(n_jobs=1)]: Done 120 out of 120 | elapsed:  1.3min finished\n"
     ]
    },
    {
     "name": "stdout",
     "output_type": "stream",
     "text": [
      "best score: 0.5849056603773585\n",
      "Fitting 10 folds for each of 12 candidates, totalling 120 fits\n"
     ]
    },
    {
     "name": "stderr",
     "output_type": "stream",
     "text": [
      "[Parallel(n_jobs=1)]: Using backend SequentialBackend with 1 concurrent workers.\n",
      "[Parallel(n_jobs=1)]: Done 120 out of 120 | elapsed:   45.8s finished\n"
     ]
    },
    {
     "name": "stdout",
     "output_type": "stream",
     "text": [
      "best score: 0.5849056603773585\n",
      "Fitting 10 folds for each of 12 candidates, totalling 120 fits\n"
     ]
    },
    {
     "name": "stderr",
     "output_type": "stream",
     "text": [
      "[Parallel(n_jobs=1)]: Using backend SequentialBackend with 1 concurrent workers.\n",
      "[Parallel(n_jobs=1)]: Done 120 out of 120 | elapsed:   34.7s finished\n"
     ]
    },
    {
     "name": "stdout",
     "output_type": "stream",
     "text": [
      "best score: 0.5849056603773585\n",
      "Fitting 10 folds for each of 12 candidates, totalling 120 fits\n"
     ]
    },
    {
     "name": "stderr",
     "output_type": "stream",
     "text": [
      "[Parallel(n_jobs=1)]: Using backend SequentialBackend with 1 concurrent workers.\n",
      "[Parallel(n_jobs=1)]: Done 120 out of 120 | elapsed:  5.4min finished\n"
     ]
    },
    {
     "name": "stdout",
     "output_type": "stream",
     "text": [
      "best score: 0.5849056603773585\n",
      "Split: 1\n",
      "Split: 2\n",
      "Split: 3\n",
      "Split: 4\n",
      "Split: 5\n",
      "Split: 6\n",
      "Split: 7\n",
      "Split: 8\n",
      "Split: 9\n",
      "Split: 10\n",
      "Training Testing Accuracy for n_games=9 team=11 : 51.80% (13.09%)\n",
      "(178, 1688)\n",
      "(178, 1)\n",
      "X_train shape: (160, 2799)\n",
      "X_test shape: (18, 2799)\n",
      "Fitting 10 folds for each of 12 candidates, totalling 120 fits\n"
     ]
    },
    {
     "name": "stderr",
     "output_type": "stream",
     "text": [
      "[Parallel(n_jobs=1)]: Using backend SequentialBackend with 1 concurrent workers.\n",
      "[Parallel(n_jobs=1)]: Done 120 out of 120 | elapsed:   39.6s finished\n"
     ]
    },
    {
     "name": "stdout",
     "output_type": "stream",
     "text": [
      "best score: 0.55\n",
      "Fitting 10 folds for each of 12 candidates, totalling 120 fits\n"
     ]
    },
    {
     "name": "stderr",
     "output_type": "stream",
     "text": [
      "[Parallel(n_jobs=1)]: Using backend SequentialBackend with 1 concurrent workers.\n",
      "[Parallel(n_jobs=1)]: Done 120 out of 120 | elapsed:   44.9s finished\n"
     ]
    },
    {
     "name": "stdout",
     "output_type": "stream",
     "text": [
      "best score: 0.55\n",
      "Fitting 10 folds for each of 12 candidates, totalling 120 fits\n"
     ]
    },
    {
     "name": "stderr",
     "output_type": "stream",
     "text": [
      "[Parallel(n_jobs=1)]: Using backend SequentialBackend with 1 concurrent workers.\n",
      "[Parallel(n_jobs=1)]: Done 120 out of 120 | elapsed:  1.4min finished\n"
     ]
    },
    {
     "name": "stdout",
     "output_type": "stream",
     "text": [
      "best score: 0.55\n",
      "Fitting 10 folds for each of 12 candidates, totalling 120 fits\n"
     ]
    },
    {
     "name": "stderr",
     "output_type": "stream",
     "text": [
      "[Parallel(n_jobs=1)]: Using backend SequentialBackend with 1 concurrent workers.\n",
      "[Parallel(n_jobs=1)]: Done 120 out of 120 | elapsed:   55.1s finished\n"
     ]
    },
    {
     "name": "stdout",
     "output_type": "stream",
     "text": [
      "best score: 0.55\n",
      "Fitting 10 folds for each of 12 candidates, totalling 120 fits\n"
     ]
    },
    {
     "name": "stderr",
     "output_type": "stream",
     "text": [
      "[Parallel(n_jobs=1)]: Using backend SequentialBackend with 1 concurrent workers.\n",
      "[Parallel(n_jobs=1)]: Done 120 out of 120 | elapsed:   34.7s finished\n"
     ]
    },
    {
     "name": "stdout",
     "output_type": "stream",
     "text": [
      "best score: 0.55\n",
      "Split: 1\n",
      "Split: 2\n",
      "Split: 3\n",
      "Split: 4\n",
      "Split: 5\n",
      "Split: 6\n",
      "Split: 7\n",
      "Split: 8\n",
      "Split: 9\n",
      "Split: 10\n",
      "Training Testing Accuracy for n_games=9 team=12 : 54.61% (8.67%)\n",
      "(179, 1688)\n",
      "(179, 1)\n",
      "X_train shape: (161, 2826)\n",
      "X_test shape: (18, 2826)\n",
      "Fitting 10 folds for each of 12 candidates, totalling 120 fits\n"
     ]
    },
    {
     "name": "stderr",
     "output_type": "stream",
     "text": [
      "[Parallel(n_jobs=1)]: Using backend SequentialBackend with 1 concurrent workers.\n",
      "[Parallel(n_jobs=1)]: Done 120 out of 120 | elapsed:   40.0s finished\n"
     ]
    },
    {
     "name": "stdout",
     "output_type": "stream",
     "text": [
      "best score: 0.577639751552795\n",
      "Fitting 10 folds for each of 12 candidates, totalling 120 fits\n"
     ]
    },
    {
     "name": "stderr",
     "output_type": "stream",
     "text": [
      "[Parallel(n_jobs=1)]: Using backend SequentialBackend with 1 concurrent workers.\n",
      "[Parallel(n_jobs=1)]: Done 120 out of 120 | elapsed:   37.7s finished\n"
     ]
    },
    {
     "name": "stdout",
     "output_type": "stream",
     "text": [
      "best score: 0.6211180124223602\n",
      "Fitting 10 folds for each of 12 candidates, totalling 120 fits\n"
     ]
    },
    {
     "name": "stderr",
     "output_type": "stream",
     "text": [
      "[Parallel(n_jobs=1)]: Using backend SequentialBackend with 1 concurrent workers.\n",
      "[Parallel(n_jobs=1)]: Done 120 out of 120 | elapsed:   38.3s finished\n"
     ]
    },
    {
     "name": "stdout",
     "output_type": "stream",
     "text": [
      "best score: 0.6211180124223602\n",
      "Fitting 10 folds for each of 12 candidates, totalling 120 fits\n"
     ]
    },
    {
     "name": "stderr",
     "output_type": "stream",
     "text": [
      "[Parallel(n_jobs=1)]: Using backend SequentialBackend with 1 concurrent workers.\n",
      "[Parallel(n_jobs=1)]: Done 120 out of 120 | elapsed:   26.4s finished\n"
     ]
    },
    {
     "name": "stdout",
     "output_type": "stream",
     "text": [
      "best score: 0.6211180124223602\n",
      "Fitting 10 folds for each of 12 candidates, totalling 120 fits\n"
     ]
    },
    {
     "name": "stderr",
     "output_type": "stream",
     "text": [
      "[Parallel(n_jobs=1)]: Using backend SequentialBackend with 1 concurrent workers.\n",
      "[Parallel(n_jobs=1)]: Done 120 out of 120 | elapsed:   56.7s finished\n"
     ]
    },
    {
     "name": "stdout",
     "output_type": "stream",
     "text": [
      "best score: 0.6211180124223602\n",
      "Split: 1\n",
      "Split: 2\n",
      "Split: 3\n",
      "Split: 4\n",
      "Split: 5\n",
      "Split: 6\n",
      "Split: 7\n",
      "Split: 8\n",
      "Split: 9\n",
      "Split: 10\n",
      "Training Testing Accuracy for n_games=9 team=13 : 60.29% (8.23%)\n",
      "(182, 1688)\n",
      "(182, 1)\n",
      "X_train shape: (163, 2801)\n",
      "X_test shape: (19, 2801)\n",
      "Fitting 10 folds for each of 12 candidates, totalling 120 fits\n"
     ]
    },
    {
     "name": "stderr",
     "output_type": "stream",
     "text": [
      "[Parallel(n_jobs=1)]: Using backend SequentialBackend with 1 concurrent workers.\n",
      "[Parallel(n_jobs=1)]: Done 120 out of 120 | elapsed:   40.7s finished\n"
     ]
    },
    {
     "name": "stdout",
     "output_type": "stream",
     "text": [
      "best score: 0.6380368098159509\n",
      "Fitting 10 folds for each of 12 candidates, totalling 120 fits\n"
     ]
    },
    {
     "name": "stderr",
     "output_type": "stream",
     "text": [
      "[Parallel(n_jobs=1)]: Using backend SequentialBackend with 1 concurrent workers.\n",
      "[Parallel(n_jobs=1)]: Done 120 out of 120 | elapsed:   30.1s finished\n"
     ]
    },
    {
     "name": "stdout",
     "output_type": "stream",
     "text": [
      "best score: 0.6380368098159509\n",
      "Fitting 10 folds for each of 12 candidates, totalling 120 fits\n"
     ]
    },
    {
     "name": "stderr",
     "output_type": "stream",
     "text": [
      "[Parallel(n_jobs=1)]: Using backend SequentialBackend with 1 concurrent workers.\n",
      "[Parallel(n_jobs=1)]: Done 120 out of 120 | elapsed:   51.6s finished\n"
     ]
    },
    {
     "name": "stdout",
     "output_type": "stream",
     "text": [
      "best score: 0.6380368098159509\n",
      "Fitting 10 folds for each of 12 candidates, totalling 120 fits\n"
     ]
    },
    {
     "name": "stderr",
     "output_type": "stream",
     "text": [
      "[Parallel(n_jobs=1)]: Using backend SequentialBackend with 1 concurrent workers.\n",
      "[Parallel(n_jobs=1)]: Done 120 out of 120 | elapsed:  1.1min finished\n"
     ]
    },
    {
     "name": "stdout",
     "output_type": "stream",
     "text": [
      "best score: 0.6380368098159509\n",
      "Fitting 10 folds for each of 12 candidates, totalling 120 fits\n"
     ]
    },
    {
     "name": "stderr",
     "output_type": "stream",
     "text": [
      "[Parallel(n_jobs=1)]: Using backend SequentialBackend with 1 concurrent workers.\n",
      "[Parallel(n_jobs=1)]: Done 120 out of 120 | elapsed:   32.5s finished\n"
     ]
    },
    {
     "name": "stdout",
     "output_type": "stream",
     "text": [
      "best score: 0.6380368098159509\n",
      "Split: 1\n",
      "Split: 2\n",
      "Split: 3\n",
      "Split: 4\n",
      "Split: 5\n",
      "Split: 6\n",
      "Split: 7\n",
      "Split: 8\n",
      "Split: 9\n",
      "Split: 10\n",
      "Training Testing Accuracy for n_games=9 team=14 : 63.71% (2.87%)\n",
      "(171, 1688)\n",
      "(171, 1)\n",
      "X_train shape: (153, 2797)\n",
      "X_test shape: (18, 2797)\n",
      "Fitting 10 folds for each of 12 candidates, totalling 120 fits\n"
     ]
    },
    {
     "name": "stderr",
     "output_type": "stream",
     "text": [
      "[Parallel(n_jobs=1)]: Using backend SequentialBackend with 1 concurrent workers.\n",
      "[Parallel(n_jobs=1)]: Done 120 out of 120 | elapsed:   39.2s finished\n"
     ]
    },
    {
     "name": "stdout",
     "output_type": "stream",
     "text": [
      "best score: 0.6013071895424836\n",
      "Fitting 10 folds for each of 12 candidates, totalling 120 fits\n"
     ]
    },
    {
     "name": "stderr",
     "output_type": "stream",
     "text": [
      "[Parallel(n_jobs=1)]: Using backend SequentialBackend with 1 concurrent workers.\n",
      "[Parallel(n_jobs=1)]: Done 120 out of 120 | elapsed:   32.6s finished\n"
     ]
    },
    {
     "name": "stdout",
     "output_type": "stream",
     "text": [
      "best score: 0.6078431372549019\n",
      "Fitting 10 folds for each of 12 candidates, totalling 120 fits\n"
     ]
    },
    {
     "name": "stderr",
     "output_type": "stream",
     "text": [
      "[Parallel(n_jobs=1)]: Using backend SequentialBackend with 1 concurrent workers.\n",
      "[Parallel(n_jobs=1)]: Done 120 out of 120 | elapsed:   29.6s finished\n"
     ]
    },
    {
     "name": "stdout",
     "output_type": "stream",
     "text": [
      "best score: 0.6078431372549019\n",
      "Fitting 10 folds for each of 12 candidates, totalling 120 fits\n"
     ]
    },
    {
     "name": "stderr",
     "output_type": "stream",
     "text": [
      "[Parallel(n_jobs=1)]: Using backend SequentialBackend with 1 concurrent workers.\n",
      "[Parallel(n_jobs=1)]: Done 120 out of 120 | elapsed:   32.9s finished\n"
     ]
    },
    {
     "name": "stdout",
     "output_type": "stream",
     "text": [
      "best score: 0.6078431372549019\n",
      "Fitting 10 folds for each of 12 candidates, totalling 120 fits\n"
     ]
    },
    {
     "name": "stderr",
     "output_type": "stream",
     "text": [
      "[Parallel(n_jobs=1)]: Using backend SequentialBackend with 1 concurrent workers.\n",
      "[Parallel(n_jobs=1)]: Done 120 out of 120 | elapsed:   32.2s finished\n"
     ]
    },
    {
     "name": "stdout",
     "output_type": "stream",
     "text": [
      "best score: 0.6078431372549019\n",
      "Split: 1\n",
      "Split: 2\n",
      "Split: 3\n",
      "Split: 4\n",
      "Split: 5\n",
      "Split: 6\n",
      "Split: 7\n",
      "Split: 8\n",
      "Split: 9\n",
      "Split: 10\n",
      "Training Testing Accuracy for n_games=9 team=15 : 59.64% (3.20%)\n",
      "(187, 1688)\n",
      "(187, 1)\n",
      "X_train shape: (168, 2808)\n",
      "X_test shape: (19, 2808)\n",
      "Fitting 10 folds for each of 12 candidates, totalling 120 fits\n"
     ]
    },
    {
     "name": "stderr",
     "output_type": "stream",
     "text": [
      "[Parallel(n_jobs=1)]: Using backend SequentialBackend with 1 concurrent workers.\n",
      "[Parallel(n_jobs=1)]: Done 120 out of 120 | elapsed:   41.1s finished\n"
     ]
    },
    {
     "name": "stdout",
     "output_type": "stream",
     "text": [
      "best score: 0.6369047619047619\n",
      "Fitting 10 folds for each of 12 candidates, totalling 120 fits\n"
     ]
    },
    {
     "name": "stderr",
     "output_type": "stream",
     "text": [
      "[Parallel(n_jobs=1)]: Using backend SequentialBackend with 1 concurrent workers.\n",
      "[Parallel(n_jobs=1)]: Done 120 out of 120 | elapsed:   44.1s finished\n"
     ]
    },
    {
     "name": "stdout",
     "output_type": "stream",
     "text": [
      "best score: 0.6369047619047619\n",
      "Fitting 10 folds for each of 12 candidates, totalling 120 fits\n"
     ]
    },
    {
     "name": "stderr",
     "output_type": "stream",
     "text": [
      "[Parallel(n_jobs=1)]: Using backend SequentialBackend with 1 concurrent workers.\n",
      "[Parallel(n_jobs=1)]: Done 120 out of 120 | elapsed:  1.1min finished\n"
     ]
    },
    {
     "name": "stdout",
     "output_type": "stream",
     "text": [
      "best score: 0.6369047619047619\n",
      "Fitting 10 folds for each of 12 candidates, totalling 120 fits\n"
     ]
    },
    {
     "name": "stderr",
     "output_type": "stream",
     "text": [
      "[Parallel(n_jobs=1)]: Using backend SequentialBackend with 1 concurrent workers.\n",
      "[Parallel(n_jobs=1)]: Done 120 out of 120 | elapsed:   39.8s finished\n"
     ]
    },
    {
     "name": "stdout",
     "output_type": "stream",
     "text": [
      "best score: 0.6369047619047619\n",
      "Fitting 10 folds for each of 12 candidates, totalling 120 fits\n"
     ]
    },
    {
     "name": "stderr",
     "output_type": "stream",
     "text": [
      "[Parallel(n_jobs=1)]: Using backend SequentialBackend with 1 concurrent workers.\n",
      "[Parallel(n_jobs=1)]: Done 120 out of 120 | elapsed:   29.9s finished\n"
     ]
    },
    {
     "name": "stdout",
     "output_type": "stream",
     "text": [
      "best score: 0.6428571428571429\n",
      "Split: 1\n",
      "Split: 2\n",
      "Split: 3\n",
      "Split: 4\n",
      "Split: 5\n",
      "Split: 6\n",
      "Split: 7\n",
      "Split: 8\n",
      "Split: 9\n",
      "Split: 10\n",
      "Training Testing Accuracy for n_games=9 team=16 : 64.68% (3.77%)\n",
      "(182, 1688)\n",
      "(182, 1)\n",
      "X_train shape: (163, 2810)\n",
      "X_test shape: (19, 2810)\n",
      "Fitting 10 folds for each of 12 candidates, totalling 120 fits\n"
     ]
    },
    {
     "name": "stderr",
     "output_type": "stream",
     "text": [
      "[Parallel(n_jobs=1)]: Using backend SequentialBackend with 1 concurrent workers.\n",
      "[Parallel(n_jobs=1)]: Done 120 out of 120 | elapsed:   42.4s finished\n"
     ]
    },
    {
     "name": "stdout",
     "output_type": "stream",
     "text": [
      "best score: 0.588957055214724\n",
      "Fitting 10 folds for each of 12 candidates, totalling 120 fits\n"
     ]
    },
    {
     "name": "stderr",
     "output_type": "stream",
     "text": [
      "[Parallel(n_jobs=1)]: Using backend SequentialBackend with 1 concurrent workers.\n",
      "[Parallel(n_jobs=1)]: Done 120 out of 120 | elapsed:   50.5s finished\n"
     ]
    },
    {
     "name": "stdout",
     "output_type": "stream",
     "text": [
      "best score: 0.5950920245398773\n",
      "Fitting 10 folds for each of 12 candidates, totalling 120 fits\n"
     ]
    },
    {
     "name": "stderr",
     "output_type": "stream",
     "text": [
      "[Parallel(n_jobs=1)]: Using backend SequentialBackend with 1 concurrent workers.\n",
      "[Parallel(n_jobs=1)]: Done 120 out of 120 | elapsed:   37.5s finished\n"
     ]
    },
    {
     "name": "stdout",
     "output_type": "stream",
     "text": [
      "best score: 0.5950920245398773\n",
      "Fitting 10 folds for each of 12 candidates, totalling 120 fits\n"
     ]
    },
    {
     "name": "stderr",
     "output_type": "stream",
     "text": [
      "[Parallel(n_jobs=1)]: Using backend SequentialBackend with 1 concurrent workers.\n",
      "[Parallel(n_jobs=1)]: Done 120 out of 120 | elapsed:   30.6s finished\n"
     ]
    },
    {
     "name": "stdout",
     "output_type": "stream",
     "text": [
      "best score: 0.5950920245398773\n",
      "Fitting 10 folds for each of 12 candidates, totalling 120 fits\n"
     ]
    },
    {
     "name": "stderr",
     "output_type": "stream",
     "text": [
      "[Parallel(n_jobs=1)]: Using backend SequentialBackend with 1 concurrent workers.\n",
      "[Parallel(n_jobs=1)]: Done 120 out of 120 | elapsed:   31.2s finished\n"
     ]
    },
    {
     "name": "stdout",
     "output_type": "stream",
     "text": [
      "best score: 0.6073619631901841\n",
      "Split: 1\n",
      "Split: 2\n",
      "Split: 3\n",
      "Split: 4\n",
      "Split: 5\n",
      "Split: 6\n",
      "Split: 7\n",
      "Split: 8\n",
      "Split: 9\n",
      "Split: 10\n",
      "Training Testing Accuracy for n_games=9 team=17 : 59.88% (10.54%)\n",
      "(181, 1688)\n",
      "(181, 1)\n",
      "X_train shape: (162, 2826)\n",
      "X_test shape: (19, 2826)\n",
      "Fitting 10 folds for each of 12 candidates, totalling 120 fits\n"
     ]
    },
    {
     "name": "stderr",
     "output_type": "stream",
     "text": [
      "[Parallel(n_jobs=1)]: Using backend SequentialBackend with 1 concurrent workers.\n",
      "[Parallel(n_jobs=1)]: Done 120 out of 120 | elapsed:   40.4s finished\n"
     ]
    },
    {
     "name": "stdout",
     "output_type": "stream",
     "text": [
      "best score: 0.5740740740740741\n",
      "Fitting 10 folds for each of 12 candidates, totalling 120 fits\n"
     ]
    },
    {
     "name": "stderr",
     "output_type": "stream",
     "text": [
      "[Parallel(n_jobs=1)]: Using backend SequentialBackend with 1 concurrent workers.\n",
      "[Parallel(n_jobs=1)]: Done 120 out of 120 | elapsed:   41.5s finished\n"
     ]
    },
    {
     "name": "stdout",
     "output_type": "stream",
     "text": [
      "best score: 0.6172839506172839\n",
      "Fitting 10 folds for each of 12 candidates, totalling 120 fits\n"
     ]
    },
    {
     "name": "stderr",
     "output_type": "stream",
     "text": [
      "[Parallel(n_jobs=1)]: Using backend SequentialBackend with 1 concurrent workers.\n",
      "[Parallel(n_jobs=1)]: Done 120 out of 120 | elapsed:  1.0min finished\n"
     ]
    },
    {
     "name": "stdout",
     "output_type": "stream",
     "text": [
      "best score: 0.6172839506172839\n",
      "Fitting 10 folds for each of 12 candidates, totalling 120 fits\n"
     ]
    },
    {
     "name": "stderr",
     "output_type": "stream",
     "text": [
      "[Parallel(n_jobs=1)]: Using backend SequentialBackend with 1 concurrent workers.\n",
      "[Parallel(n_jobs=1)]: Done 120 out of 120 | elapsed:   35.9s finished\n"
     ]
    },
    {
     "name": "stdout",
     "output_type": "stream",
     "text": [
      "best score: 0.6172839506172839\n",
      "Fitting 10 folds for each of 12 candidates, totalling 120 fits\n"
     ]
    },
    {
     "name": "stderr",
     "output_type": "stream",
     "text": [
      "[Parallel(n_jobs=1)]: Using backend SequentialBackend with 1 concurrent workers.\n",
      "[Parallel(n_jobs=1)]: Done 120 out of 120 | elapsed:   53.5s finished\n"
     ]
    },
    {
     "name": "stdout",
     "output_type": "stream",
     "text": [
      "best score: 0.6172839506172839\n",
      "Split: 1\n",
      "Split: 2\n",
      "Split: 3\n",
      "Split: 4\n",
      "Split: 5\n",
      "Split: 6\n",
      "Split: 7\n",
      "Split: 8\n",
      "Split: 9\n",
      "Split: 10\n",
      "Training Testing Accuracy for n_games=9 team=18 : 54.77% (10.92%)\n",
      "Accuracy for Team Models for n_games= 9 : 60.75% (5.98%)\n",
      "(176, 1874)\n",
      "(176, 1)\n",
      "X_train shape: (158, 3119)\n",
      "X_test shape: (18, 3119)\n",
      "Fitting 10 folds for each of 12 candidates, totalling 120 fits\n"
     ]
    },
    {
     "name": "stderr",
     "output_type": "stream",
     "text": [
      "[Parallel(n_jobs=1)]: Using backend SequentialBackend with 1 concurrent workers.\n",
      "[Parallel(n_jobs=1)]: Done 120 out of 120 | elapsed:   45.9s finished\n"
     ]
    },
    {
     "name": "stdout",
     "output_type": "stream",
     "text": [
      "best score: 0.5632911392405063\n",
      "Fitting 10 folds for each of 12 candidates, totalling 120 fits\n"
     ]
    },
    {
     "name": "stderr",
     "output_type": "stream",
     "text": [
      "[Parallel(n_jobs=1)]: Using backend SequentialBackend with 1 concurrent workers.\n",
      "[Parallel(n_jobs=1)]: Done 120 out of 120 | elapsed:   40.7s finished\n"
     ]
    },
    {
     "name": "stdout",
     "output_type": "stream",
     "text": [
      "best score: 0.5632911392405063\n",
      "Fitting 10 folds for each of 12 candidates, totalling 120 fits\n"
     ]
    },
    {
     "name": "stderr",
     "output_type": "stream",
     "text": [
      "[Parallel(n_jobs=1)]: Using backend SequentialBackend with 1 concurrent workers.\n",
      "[Parallel(n_jobs=1)]: Done 120 out of 120 | elapsed:   49.9s finished\n"
     ]
    },
    {
     "name": "stdout",
     "output_type": "stream",
     "text": [
      "best score: 0.5759493670886076\n",
      "Fitting 10 folds for each of 12 candidates, totalling 120 fits\n"
     ]
    },
    {
     "name": "stderr",
     "output_type": "stream",
     "text": [
      "[Parallel(n_jobs=1)]: Using backend SequentialBackend with 1 concurrent workers.\n",
      "[Parallel(n_jobs=1)]: Done 120 out of 120 | elapsed:  1.2min finished\n"
     ]
    },
    {
     "name": "stdout",
     "output_type": "stream",
     "text": [
      "best score: 0.6139240506329114\n",
      "Fitting 10 folds for each of 12 candidates, totalling 120 fits\n"
     ]
    },
    {
     "name": "stderr",
     "output_type": "stream",
     "text": [
      "[Parallel(n_jobs=1)]: Using backend SequentialBackend with 1 concurrent workers.\n",
      "[Parallel(n_jobs=1)]: Done 120 out of 120 | elapsed:   58.4s finished\n"
     ]
    },
    {
     "name": "stdout",
     "output_type": "stream",
     "text": [
      "best score: 0.6139240506329114\n",
      "Split: 1\n",
      "Split: 2\n",
      "Split: 3\n",
      "Split: 4\n",
      "Split: 5\n",
      "Split: 6\n",
      "Split: 7\n",
      "Split: 8\n",
      "Split: 9\n",
      "Split: 10\n",
      "Training Testing Accuracy for n_games=10 team=1 : 55.78% (11.35%)\n",
      "(174, 1874)\n",
      "(174, 1)\n",
      "X_train shape: (156, 3092)\n",
      "X_test shape: (18, 3092)\n",
      "Fitting 10 folds for each of 12 candidates, totalling 120 fits\n"
     ]
    },
    {
     "name": "stderr",
     "output_type": "stream",
     "text": [
      "[Parallel(n_jobs=1)]: Using backend SequentialBackend with 1 concurrent workers.\n",
      "[Parallel(n_jobs=1)]: Done 120 out of 120 | elapsed:   44.7s finished\n"
     ]
    },
    {
     "name": "stdout",
     "output_type": "stream",
     "text": [
      "best score: 0.7051282051282052\n",
      "Fitting 10 folds for each of 12 candidates, totalling 120 fits\n"
     ]
    },
    {
     "name": "stderr",
     "output_type": "stream",
     "text": [
      "[Parallel(n_jobs=1)]: Using backend SequentialBackend with 1 concurrent workers.\n",
      "[Parallel(n_jobs=1)]: Done 120 out of 120 | elapsed:   48.2s finished\n"
     ]
    },
    {
     "name": "stdout",
     "output_type": "stream",
     "text": [
      "best score: 0.7051282051282052\n",
      "Fitting 10 folds for each of 12 candidates, totalling 120 fits\n"
     ]
    },
    {
     "name": "stderr",
     "output_type": "stream",
     "text": [
      "[Parallel(n_jobs=1)]: Using backend SequentialBackend with 1 concurrent workers.\n",
      "[Parallel(n_jobs=1)]: Done 120 out of 120 | elapsed:   51.1s finished\n"
     ]
    },
    {
     "name": "stdout",
     "output_type": "stream",
     "text": [
      "best score: 0.7051282051282052\n",
      "Fitting 10 folds for each of 12 candidates, totalling 120 fits\n"
     ]
    },
    {
     "name": "stderr",
     "output_type": "stream",
     "text": [
      "[Parallel(n_jobs=1)]: Using backend SequentialBackend with 1 concurrent workers.\n",
      "[Parallel(n_jobs=1)]: Done 120 out of 120 | elapsed:  1.4min finished\n"
     ]
    },
    {
     "name": "stdout",
     "output_type": "stream",
     "text": [
      "best score: 0.7051282051282052\n",
      "Fitting 10 folds for each of 12 candidates, totalling 120 fits\n"
     ]
    },
    {
     "name": "stderr",
     "output_type": "stream",
     "text": [
      "[Parallel(n_jobs=1)]: Using backend SequentialBackend with 1 concurrent workers.\n",
      "[Parallel(n_jobs=1)]: Done 120 out of 120 | elapsed:   43.2s finished\n"
     ]
    },
    {
     "name": "stdout",
     "output_type": "stream",
     "text": [
      "best score: 0.7051282051282052\n",
      "Split: 1\n",
      "Split: 2\n",
      "Split: 3\n",
      "Split: 4\n",
      "Split: 5\n",
      "Split: 6\n",
      "Split: 7\n",
      "Split: 8\n",
      "Split: 9\n",
      "Split: 10\n",
      "Training Testing Accuracy for n_games=10 team=2 : 59.15% (9.00%)\n",
      "(172, 1874)\n",
      "(172, 1)\n",
      "X_train shape: (154, 3086)\n",
      "X_test shape: (18, 3086)\n",
      "Fitting 10 folds for each of 12 candidates, totalling 120 fits\n"
     ]
    },
    {
     "name": "stderr",
     "output_type": "stream",
     "text": [
      "[Parallel(n_jobs=1)]: Using backend SequentialBackend with 1 concurrent workers.\n",
      "[Parallel(n_jobs=1)]: Done 120 out of 120 | elapsed:   43.5s finished\n"
     ]
    },
    {
     "name": "stdout",
     "output_type": "stream",
     "text": [
      "best score: 0.7142857142857143\n",
      "Fitting 10 folds for each of 12 candidates, totalling 120 fits\n"
     ]
    },
    {
     "name": "stderr",
     "output_type": "stream",
     "text": [
      "[Parallel(n_jobs=1)]: Using backend SequentialBackend with 1 concurrent workers.\n",
      "[Parallel(n_jobs=1)]: Done 120 out of 120 | elapsed:   48.4s finished\n"
     ]
    },
    {
     "name": "stdout",
     "output_type": "stream",
     "text": [
      "best score: 0.7142857142857143\n",
      "Fitting 10 folds for each of 12 candidates, totalling 120 fits\n"
     ]
    },
    {
     "name": "stderr",
     "output_type": "stream",
     "text": [
      "[Parallel(n_jobs=1)]: Using backend SequentialBackend with 1 concurrent workers.\n",
      "[Parallel(n_jobs=1)]: Done 120 out of 120 | elapsed:   58.4s finished\n"
     ]
    },
    {
     "name": "stdout",
     "output_type": "stream",
     "text": [
      "best score: 0.7142857142857143\n",
      "Fitting 10 folds for each of 12 candidates, totalling 120 fits\n"
     ]
    },
    {
     "name": "stderr",
     "output_type": "stream",
     "text": [
      "[Parallel(n_jobs=1)]: Using backend SequentialBackend with 1 concurrent workers.\n",
      "[Parallel(n_jobs=1)]: Done 120 out of 120 | elapsed:   39.8s finished\n"
     ]
    },
    {
     "name": "stdout",
     "output_type": "stream",
     "text": [
      "best score: 0.7142857142857143\n",
      "Fitting 10 folds for each of 12 candidates, totalling 120 fits\n"
     ]
    },
    {
     "name": "stderr",
     "output_type": "stream",
     "text": [
      "[Parallel(n_jobs=1)]: Using backend SequentialBackend with 1 concurrent workers.\n",
      "[Parallel(n_jobs=1)]: Done 120 out of 120 | elapsed:   34.7s finished\n"
     ]
    },
    {
     "name": "stdout",
     "output_type": "stream",
     "text": [
      "best score: 0.7142857142857143\n",
      "Split: 1\n",
      "Split: 2\n",
      "Split: 3\n",
      "Split: 4\n",
      "Split: 5\n",
      "Split: 6\n",
      "Split: 7\n",
      "Split: 8\n",
      "Split: 9\n",
      "Split: 10\n",
      "Training Testing Accuracy for n_games=10 team=3 : 70.36% (1.32%)\n",
      "(177, 1874)\n",
      "(177, 1)\n",
      "X_train shape: (159, 3080)\n",
      "X_test shape: (18, 3080)\n",
      "Fitting 10 folds for each of 12 candidates, totalling 120 fits\n"
     ]
    },
    {
     "name": "stderr",
     "output_type": "stream",
     "text": [
      "[Parallel(n_jobs=1)]: Using backend SequentialBackend with 1 concurrent workers.\n",
      "[Parallel(n_jobs=1)]: Done 120 out of 120 | elapsed:   44.8s finished\n"
     ]
    },
    {
     "name": "stdout",
     "output_type": "stream",
     "text": [
      "best score: 0.5471698113207547\n",
      "Fitting 10 folds for each of 12 candidates, totalling 120 fits\n"
     ]
    },
    {
     "name": "stderr",
     "output_type": "stream",
     "text": [
      "[Parallel(n_jobs=1)]: Using backend SequentialBackend with 1 concurrent workers.\n",
      "[Parallel(n_jobs=1)]: Done 120 out of 120 | elapsed:   43.2s finished\n"
     ]
    },
    {
     "name": "stdout",
     "output_type": "stream",
     "text": [
      "best score: 0.5723270440251572\n",
      "Fitting 10 folds for each of 12 candidates, totalling 120 fits\n"
     ]
    },
    {
     "name": "stderr",
     "output_type": "stream",
     "text": [
      "[Parallel(n_jobs=1)]: Using backend SequentialBackend with 1 concurrent workers.\n",
      "[Parallel(n_jobs=1)]: Done 120 out of 120 | elapsed:   33.5s finished\n"
     ]
    },
    {
     "name": "stdout",
     "output_type": "stream",
     "text": [
      "best score: 0.5723270440251572\n",
      "Fitting 10 folds for each of 12 candidates, totalling 120 fits\n"
     ]
    },
    {
     "name": "stderr",
     "output_type": "stream",
     "text": [
      "[Parallel(n_jobs=1)]: Using backend SequentialBackend with 1 concurrent workers.\n",
      "[Parallel(n_jobs=1)]: Done 120 out of 120 | elapsed:  1.2min finished\n"
     ]
    },
    {
     "name": "stdout",
     "output_type": "stream",
     "text": [
      "best score: 0.5723270440251572\n",
      "Fitting 10 folds for each of 12 candidates, totalling 120 fits\n"
     ]
    },
    {
     "name": "stderr",
     "output_type": "stream",
     "text": [
      "[Parallel(n_jobs=1)]: Using backend SequentialBackend with 1 concurrent workers.\n",
      "[Parallel(n_jobs=1)]: Done 120 out of 120 | elapsed:  2.1min finished\n"
     ]
    },
    {
     "name": "stdout",
     "output_type": "stream",
     "text": [
      "best score: 0.5723270440251572\n",
      "Split: 1\n",
      "Split: 2\n",
      "Split: 3\n",
      "Split: 4\n",
      "Split: 5\n",
      "Split: 6\n",
      "Split: 7\n",
      "Split: 8\n",
      "Split: 9\n",
      "Split: 10\n",
      "Training Testing Accuracy for n_games=10 team=4 : 53.01% (12.81%)\n",
      "(174, 1874)\n",
      "(174, 1)\n",
      "X_train shape: (156, 3058)\n",
      "X_test shape: (18, 3058)\n",
      "Fitting 10 folds for each of 12 candidates, totalling 120 fits\n"
     ]
    },
    {
     "name": "stderr",
     "output_type": "stream",
     "text": [
      "[Parallel(n_jobs=1)]: Using backend SequentialBackend with 1 concurrent workers.\n",
      "[Parallel(n_jobs=1)]: Done 120 out of 120 | elapsed:   44.4s finished\n"
     ]
    },
    {
     "name": "stdout",
     "output_type": "stream",
     "text": [
      "best score: 0.5961538461538461\n",
      "Fitting 10 folds for each of 12 candidates, totalling 120 fits\n"
     ]
    },
    {
     "name": "stderr",
     "output_type": "stream",
     "text": [
      "[Parallel(n_jobs=1)]: Using backend SequentialBackend with 1 concurrent workers.\n",
      "[Parallel(n_jobs=1)]: Done 120 out of 120 | elapsed:   38.9s finished\n"
     ]
    },
    {
     "name": "stdout",
     "output_type": "stream",
     "text": [
      "best score: 0.5961538461538461\n",
      "Fitting 10 folds for each of 12 candidates, totalling 120 fits\n"
     ]
    },
    {
     "name": "stderr",
     "output_type": "stream",
     "text": [
      "[Parallel(n_jobs=1)]: Using backend SequentialBackend with 1 concurrent workers.\n",
      "[Parallel(n_jobs=1)]: Done 120 out of 120 | elapsed:   44.8s finished\n"
     ]
    },
    {
     "name": "stdout",
     "output_type": "stream",
     "text": [
      "best score: 0.5961538461538461\n",
      "Fitting 10 folds for each of 12 candidates, totalling 120 fits\n"
     ]
    },
    {
     "name": "stderr",
     "output_type": "stream",
     "text": [
      "[Parallel(n_jobs=1)]: Using backend SequentialBackend with 1 concurrent workers.\n",
      "[Parallel(n_jobs=1)]: Done 120 out of 120 | elapsed:   53.3s finished\n"
     ]
    },
    {
     "name": "stdout",
     "output_type": "stream",
     "text": [
      "best score: 0.5961538461538461\n",
      "Fitting 10 folds for each of 12 candidates, totalling 120 fits\n"
     ]
    },
    {
     "name": "stderr",
     "output_type": "stream",
     "text": [
      "[Parallel(n_jobs=1)]: Using backend SequentialBackend with 1 concurrent workers.\n",
      "[Parallel(n_jobs=1)]: Done 120 out of 120 | elapsed:   44.4s finished\n"
     ]
    },
    {
     "name": "stdout",
     "output_type": "stream",
     "text": [
      "best score: 0.5961538461538461\n",
      "Split: 1\n",
      "Split: 2\n",
      "Split: 3\n",
      "Split: 4\n",
      "Split: 5\n",
      "Split: 6\n",
      "Split: 7\n",
      "Split: 8\n",
      "Split: 9\n",
      "Split: 10\n",
      "Training Testing Accuracy for n_games=10 team=5 : 56.86% (8.94%)\n",
      "(177, 1874)\n",
      "(177, 1)\n",
      "X_train shape: (159, 3103)\n",
      "X_test shape: (18, 3103)\n",
      "Fitting 10 folds for each of 12 candidates, totalling 120 fits\n"
     ]
    },
    {
     "name": "stderr",
     "output_type": "stream",
     "text": [
      "[Parallel(n_jobs=1)]: Using backend SequentialBackend with 1 concurrent workers.\n",
      "[Parallel(n_jobs=1)]: Done 120 out of 120 | elapsed:   44.8s finished\n"
     ]
    },
    {
     "name": "stdout",
     "output_type": "stream",
     "text": [
      "best score: 0.559748427672956\n",
      "Fitting 10 folds for each of 12 candidates, totalling 120 fits\n"
     ]
    },
    {
     "name": "stderr",
     "output_type": "stream",
     "text": [
      "[Parallel(n_jobs=1)]: Using backend SequentialBackend with 1 concurrent workers.\n",
      "[Parallel(n_jobs=1)]: Done 120 out of 120 | elapsed:   32.2s finished\n"
     ]
    },
    {
     "name": "stdout",
     "output_type": "stream",
     "text": [
      "best score: 0.5660377358490566\n",
      "Fitting 10 folds for each of 12 candidates, totalling 120 fits\n"
     ]
    },
    {
     "name": "stderr",
     "output_type": "stream",
     "text": [
      "[Parallel(n_jobs=1)]: Using backend SequentialBackend with 1 concurrent workers.\n",
      "[Parallel(n_jobs=1)]: Done 120 out of 120 | elapsed:   50.4s finished\n"
     ]
    },
    {
     "name": "stdout",
     "output_type": "stream",
     "text": [
      "best score: 0.5660377358490566\n",
      "Fitting 10 folds for each of 12 candidates, totalling 120 fits\n"
     ]
    },
    {
     "name": "stderr",
     "output_type": "stream",
     "text": [
      "[Parallel(n_jobs=1)]: Using backend SequentialBackend with 1 concurrent workers.\n",
      "[Parallel(n_jobs=1)]: Done 120 out of 120 | elapsed:   35.3s finished\n"
     ]
    },
    {
     "name": "stdout",
     "output_type": "stream",
     "text": [
      "best score: 0.5660377358490566\n",
      "Fitting 10 folds for each of 12 candidates, totalling 120 fits\n"
     ]
    },
    {
     "name": "stderr",
     "output_type": "stream",
     "text": [
      "[Parallel(n_jobs=1)]: Using backend SequentialBackend with 1 concurrent workers.\n",
      "[Parallel(n_jobs=1)]: Done 120 out of 120 | elapsed:   42.9s finished\n"
     ]
    },
    {
     "name": "stdout",
     "output_type": "stream",
     "text": [
      "best score: 0.5723270440251572\n",
      "Split: 1\n",
      "Split: 2\n",
      "Split: 3\n",
      "Split: 4\n",
      "Split: 5\n",
      "Split: 6\n",
      "Split: 7\n",
      "Split: 8\n",
      "Split: 9\n",
      "Split: 10\n",
      "Training Testing Accuracy for n_games=10 team=6 : 44.67% (10.14%)\n",
      "(186, 1874)\n",
      "(186, 1)\n",
      "X_train shape: (167, 3093)\n",
      "X_test shape: (19, 3093)\n",
      "Fitting 10 folds for each of 12 candidates, totalling 120 fits\n"
     ]
    },
    {
     "name": "stderr",
     "output_type": "stream",
     "text": [
      "[Parallel(n_jobs=1)]: Using backend SequentialBackend with 1 concurrent workers.\n",
      "[Parallel(n_jobs=1)]: Done 120 out of 120 | elapsed:   45.4s finished\n"
     ]
    },
    {
     "name": "stdout",
     "output_type": "stream",
     "text": [
      "best score: 0.6586826347305389\n",
      "Fitting 10 folds for each of 12 candidates, totalling 120 fits\n"
     ]
    },
    {
     "name": "stderr",
     "output_type": "stream",
     "text": [
      "[Parallel(n_jobs=1)]: Using backend SequentialBackend with 1 concurrent workers.\n",
      "[Parallel(n_jobs=1)]: Done 120 out of 120 | elapsed:   38.9s finished\n"
     ]
    },
    {
     "name": "stdout",
     "output_type": "stream",
     "text": [
      "best score: 0.6826347305389222\n",
      "Fitting 10 folds for each of 12 candidates, totalling 120 fits\n"
     ]
    },
    {
     "name": "stderr",
     "output_type": "stream",
     "text": [
      "[Parallel(n_jobs=1)]: Using backend SequentialBackend with 1 concurrent workers.\n",
      "[Parallel(n_jobs=1)]: Done 120 out of 120 | elapsed:  1.0min finished\n"
     ]
    },
    {
     "name": "stdout",
     "output_type": "stream",
     "text": [
      "best score: 0.6826347305389222\n",
      "Fitting 10 folds for each of 12 candidates, totalling 120 fits\n"
     ]
    },
    {
     "name": "stderr",
     "output_type": "stream",
     "text": [
      "[Parallel(n_jobs=1)]: Using backend SequentialBackend with 1 concurrent workers.\n",
      "[Parallel(n_jobs=1)]: Done 120 out of 120 | elapsed:   34.5s finished\n"
     ]
    },
    {
     "name": "stdout",
     "output_type": "stream",
     "text": [
      "best score: 0.6826347305389222\n",
      "Fitting 10 folds for each of 12 candidates, totalling 120 fits\n"
     ]
    },
    {
     "name": "stderr",
     "output_type": "stream",
     "text": [
      "[Parallel(n_jobs=1)]: Using backend SequentialBackend with 1 concurrent workers.\n",
      "[Parallel(n_jobs=1)]: Done 120 out of 120 | elapsed:   35.4s finished\n"
     ]
    },
    {
     "name": "stdout",
     "output_type": "stream",
     "text": [
      "best score: 0.6826347305389222\n",
      "Split: 1\n",
      "Split: 2\n",
      "Split: 3\n",
      "Split: 4\n",
      "Split: 5\n",
      "Split: 6\n",
      "Split: 7\n",
      "Split: 8\n",
      "Split: 9\n",
      "Split: 10\n",
      "Training Testing Accuracy for n_games=10 team=7 : 63.95% (6.52%)\n",
      "(170, 1874)\n",
      "(170, 1)\n",
      "X_train shape: (153, 3102)\n",
      "X_test shape: (17, 3102)\n",
      "Fitting 10 folds for each of 12 candidates, totalling 120 fits\n"
     ]
    },
    {
     "name": "stderr",
     "output_type": "stream",
     "text": [
      "[Parallel(n_jobs=1)]: Using backend SequentialBackend with 1 concurrent workers.\n",
      "[Parallel(n_jobs=1)]: Done 120 out of 120 | elapsed:   42.7s finished\n"
     ]
    },
    {
     "name": "stdout",
     "output_type": "stream",
     "text": [
      "best score: 0.7450980392156863\n",
      "Fitting 10 folds for each of 12 candidates, totalling 120 fits\n"
     ]
    },
    {
     "name": "stderr",
     "output_type": "stream",
     "text": [
      "[Parallel(n_jobs=1)]: Using backend SequentialBackend with 1 concurrent workers.\n",
      "[Parallel(n_jobs=1)]: Done 120 out of 120 | elapsed:  1.2min finished\n"
     ]
    },
    {
     "name": "stdout",
     "output_type": "stream",
     "text": [
      "best score: 0.7450980392156863\n",
      "Fitting 10 folds for each of 12 candidates, totalling 120 fits\n"
     ]
    },
    {
     "name": "stderr",
     "output_type": "stream",
     "text": [
      "[Parallel(n_jobs=1)]: Using backend SequentialBackend with 1 concurrent workers.\n",
      "[Parallel(n_jobs=1)]: Done 120 out of 120 | elapsed:  1.1min finished\n"
     ]
    },
    {
     "name": "stdout",
     "output_type": "stream",
     "text": [
      "best score: 0.7450980392156863\n",
      "Fitting 10 folds for each of 12 candidates, totalling 120 fits\n"
     ]
    },
    {
     "name": "stderr",
     "output_type": "stream",
     "text": [
      "[Parallel(n_jobs=1)]: Using backend SequentialBackend with 1 concurrent workers.\n",
      "[Parallel(n_jobs=1)]: Done 120 out of 120 | elapsed:   35.8s finished\n"
     ]
    },
    {
     "name": "stdout",
     "output_type": "stream",
     "text": [
      "best score: 0.7450980392156863\n",
      "Fitting 10 folds for each of 12 candidates, totalling 120 fits\n"
     ]
    },
    {
     "name": "stderr",
     "output_type": "stream",
     "text": [
      "[Parallel(n_jobs=1)]: Using backend SequentialBackend with 1 concurrent workers.\n",
      "[Parallel(n_jobs=1)]: Done 120 out of 120 | elapsed:   34.8s finished\n"
     ]
    },
    {
     "name": "stdout",
     "output_type": "stream",
     "text": [
      "best score: 0.7450980392156863\n",
      "Split: 1\n",
      "Split: 2\n",
      "Split: 3\n",
      "Split: 4\n",
      "Split: 5\n",
      "Split: 6\n",
      "Split: 7\n",
      "Split: 8\n",
      "Split: 9\n",
      "Split: 10\n",
      "Training Testing Accuracy for n_games=10 team=8 : 73.53% (6.03%)\n",
      "(183, 1874)\n",
      "(183, 1)\n",
      "X_train shape: (164, 3116)\n",
      "X_test shape: (19, 3116)\n",
      "Fitting 10 folds for each of 12 candidates, totalling 120 fits\n"
     ]
    },
    {
     "name": "stderr",
     "output_type": "stream",
     "text": [
      "[Parallel(n_jobs=1)]: Using backend SequentialBackend with 1 concurrent workers.\n",
      "[Parallel(n_jobs=1)]: Done 120 out of 120 | elapsed:   44.6s finished\n"
     ]
    },
    {
     "name": "stdout",
     "output_type": "stream",
     "text": [
      "best score: 0.5609756097560976\n",
      "Fitting 10 folds for each of 12 candidates, totalling 120 fits\n"
     ]
    },
    {
     "name": "stderr",
     "output_type": "stream",
     "text": [
      "[Parallel(n_jobs=1)]: Using backend SequentialBackend with 1 concurrent workers.\n",
      "[Parallel(n_jobs=1)]: Done 120 out of 120 | elapsed:  1.1min finished\n"
     ]
    },
    {
     "name": "stdout",
     "output_type": "stream",
     "text": [
      "best score: 0.5792682926829268\n",
      "Fitting 10 folds for each of 12 candidates, totalling 120 fits\n"
     ]
    },
    {
     "name": "stderr",
     "output_type": "stream",
     "text": [
      "[Parallel(n_jobs=1)]: Using backend SequentialBackend with 1 concurrent workers.\n",
      "[Parallel(n_jobs=1)]: Done 120 out of 120 | elapsed:  1.3min finished\n"
     ]
    },
    {
     "name": "stdout",
     "output_type": "stream",
     "text": [
      "best score: 0.5914634146341463\n",
      "Fitting 10 folds for each of 12 candidates, totalling 120 fits\n"
     ]
    },
    {
     "name": "stderr",
     "output_type": "stream",
     "text": [
      "[Parallel(n_jobs=1)]: Using backend SequentialBackend with 1 concurrent workers.\n",
      "[Parallel(n_jobs=1)]: Done 120 out of 120 | elapsed:   33.7s finished\n"
     ]
    },
    {
     "name": "stdout",
     "output_type": "stream",
     "text": [
      "best score: 0.5914634146341463\n",
      "Fitting 10 folds for each of 12 candidates, totalling 120 fits\n"
     ]
    },
    {
     "name": "stderr",
     "output_type": "stream",
     "text": [
      "[Parallel(n_jobs=1)]: Using backend SequentialBackend with 1 concurrent workers.\n",
      "[Parallel(n_jobs=1)]: Done 120 out of 120 | elapsed:  1.1min finished\n"
     ]
    },
    {
     "name": "stdout",
     "output_type": "stream",
     "text": [
      "best score: 0.5914634146341463\n",
      "Split: 1\n",
      "Split: 2\n",
      "Split: 3\n",
      "Split: 4\n",
      "Split: 5\n",
      "Split: 6\n",
      "Split: 7\n",
      "Split: 8\n",
      "Split: 9\n",
      "Split: 10\n",
      "Training Testing Accuracy for n_games=10 team=9 : 49.21% (8.29%)\n",
      "(184, 1874)\n",
      "(184, 1)\n",
      "X_train shape: (165, 3103)\n",
      "X_test shape: (19, 3103)\n",
      "Fitting 10 folds for each of 12 candidates, totalling 120 fits\n"
     ]
    },
    {
     "name": "stderr",
     "output_type": "stream",
     "text": [
      "[Parallel(n_jobs=1)]: Using backend SequentialBackend with 1 concurrent workers.\n",
      "[Parallel(n_jobs=1)]: Done 120 out of 120 | elapsed:   44.2s finished\n"
     ]
    },
    {
     "name": "stdout",
     "output_type": "stream",
     "text": [
      "best score: 0.6666666666666666\n",
      "Fitting 10 folds for each of 12 candidates, totalling 120 fits\n"
     ]
    },
    {
     "name": "stderr",
     "output_type": "stream",
     "text": [
      "[Parallel(n_jobs=1)]: Using backend SequentialBackend with 1 concurrent workers.\n",
      "[Parallel(n_jobs=1)]: Done 120 out of 120 | elapsed:  1.1min finished\n"
     ]
    },
    {
     "name": "stdout",
     "output_type": "stream",
     "text": [
      "best score: 0.6666666666666666\n",
      "Fitting 10 folds for each of 12 candidates, totalling 120 fits\n"
     ]
    },
    {
     "name": "stderr",
     "output_type": "stream",
     "text": [
      "[Parallel(n_jobs=1)]: Using backend SequentialBackend with 1 concurrent workers.\n",
      "[Parallel(n_jobs=1)]: Done 120 out of 120 | elapsed:   44.9s finished\n"
     ]
    },
    {
     "name": "stdout",
     "output_type": "stream",
     "text": [
      "best score: 0.6727272727272727\n",
      "Fitting 10 folds for each of 12 candidates, totalling 120 fits\n"
     ]
    },
    {
     "name": "stderr",
     "output_type": "stream",
     "text": [
      "[Parallel(n_jobs=1)]: Using backend SequentialBackend with 1 concurrent workers.\n",
      "[Parallel(n_jobs=1)]: Done 120 out of 120 | elapsed:   44.9s finished\n"
     ]
    },
    {
     "name": "stdout",
     "output_type": "stream",
     "text": [
      "best score: 0.6727272727272727\n",
      "Fitting 10 folds for each of 12 candidates, totalling 120 fits\n"
     ]
    },
    {
     "name": "stderr",
     "output_type": "stream",
     "text": [
      "[Parallel(n_jobs=1)]: Using backend SequentialBackend with 1 concurrent workers.\n",
      "[Parallel(n_jobs=1)]: Done 120 out of 120 | elapsed:   40.5s finished\n"
     ]
    },
    {
     "name": "stdout",
     "output_type": "stream",
     "text": [
      "best score: 0.6727272727272727\n",
      "Split: 1\n",
      "Split: 2\n",
      "Split: 3\n",
      "Split: 4\n",
      "Split: 5\n",
      "Split: 6\n",
      "Split: 7\n",
      "Split: 8\n",
      "Split: 9\n",
      "Split: 10\n",
      "Training Testing Accuracy for n_games=10 team=10 : 61.43% (4.81%)\n",
      "(176, 1874)\n",
      "(176, 1)\n",
      "X_train shape: (158, 3115)\n",
      "X_test shape: (18, 3115)\n",
      "Fitting 10 folds for each of 12 candidates, totalling 120 fits\n"
     ]
    },
    {
     "name": "stderr",
     "output_type": "stream",
     "text": [
      "[Parallel(n_jobs=1)]: Using backend SequentialBackend with 1 concurrent workers.\n",
      "[Parallel(n_jobs=1)]: Done 120 out of 120 | elapsed:   44.7s finished\n"
     ]
    },
    {
     "name": "stdout",
     "output_type": "stream",
     "text": [
      "best score: 0.6012658227848101\n",
      "Fitting 10 folds for each of 12 candidates, totalling 120 fits\n"
     ]
    },
    {
     "name": "stderr",
     "output_type": "stream",
     "text": [
      "[Parallel(n_jobs=1)]: Using backend SequentialBackend with 1 concurrent workers.\n",
      "[Parallel(n_jobs=1)]: Done 120 out of 120 | elapsed:   40.9s finished\n"
     ]
    },
    {
     "name": "stdout",
     "output_type": "stream",
     "text": [
      "best score: 0.6012658227848101\n",
      "Fitting 10 folds for each of 12 candidates, totalling 120 fits\n"
     ]
    },
    {
     "name": "stderr",
     "output_type": "stream",
     "text": [
      "[Parallel(n_jobs=1)]: Using backend SequentialBackend with 1 concurrent workers.\n",
      "[Parallel(n_jobs=1)]: Done 120 out of 120 | elapsed:  1.1min finished\n"
     ]
    },
    {
     "name": "stdout",
     "output_type": "stream",
     "text": [
      "best score: 0.6012658227848101\n",
      "Fitting 10 folds for each of 12 candidates, totalling 120 fits\n"
     ]
    },
    {
     "name": "stderr",
     "output_type": "stream",
     "text": [
      "[Parallel(n_jobs=1)]: Using backend SequentialBackend with 1 concurrent workers.\n",
      "[Parallel(n_jobs=1)]: Done 120 out of 120 | elapsed:  1.1min finished\n"
     ]
    },
    {
     "name": "stdout",
     "output_type": "stream",
     "text": [
      "best score: 0.6265822784810127\n",
      "Fitting 10 folds for each of 12 candidates, totalling 120 fits\n"
     ]
    },
    {
     "name": "stderr",
     "output_type": "stream",
     "text": [
      "[Parallel(n_jobs=1)]: Using backend SequentialBackend with 1 concurrent workers.\n",
      "[Parallel(n_jobs=1)]: Done 120 out of 120 | elapsed:   42.3s finished\n"
     ]
    },
    {
     "name": "stdout",
     "output_type": "stream",
     "text": [
      "best score: 0.6265822784810127\n",
      "Split: 1\n",
      "Split: 2\n",
      "Split: 3\n",
      "Split: 4\n",
      "Split: 5\n",
      "Split: 6\n",
      "Split: 7\n",
      "Split: 8\n",
      "Split: 9\n",
      "Split: 10\n",
      "Training Testing Accuracy for n_games=10 team=11 : 53.27% (10.70%)\n",
      "(177, 1874)\n",
      "(177, 1)\n",
      "X_train shape: (159, 3099)\n",
      "X_test shape: (18, 3099)\n",
      "Fitting 10 folds for each of 12 candidates, totalling 120 fits\n"
     ]
    },
    {
     "name": "stderr",
     "output_type": "stream",
     "text": [
      "[Parallel(n_jobs=1)]: Using backend SequentialBackend with 1 concurrent workers.\n",
      "[Parallel(n_jobs=1)]: Done 120 out of 120 | elapsed:   44.9s finished\n"
     ]
    },
    {
     "name": "stdout",
     "output_type": "stream",
     "text": [
      "best score: 0.559748427672956\n",
      "Fitting 10 folds for each of 12 candidates, totalling 120 fits\n"
     ]
    },
    {
     "name": "stderr",
     "output_type": "stream",
     "text": [
      "[Parallel(n_jobs=1)]: Using backend SequentialBackend with 1 concurrent workers.\n",
      "[Parallel(n_jobs=1)]: Done 120 out of 120 | elapsed:   58.0s finished\n"
     ]
    },
    {
     "name": "stdout",
     "output_type": "stream",
     "text": [
      "best score: 0.559748427672956\n",
      "Fitting 10 folds for each of 12 candidates, totalling 120 fits\n"
     ]
    },
    {
     "name": "stderr",
     "output_type": "stream",
     "text": [
      "[Parallel(n_jobs=1)]: Using backend SequentialBackend with 1 concurrent workers.\n",
      "[Parallel(n_jobs=1)]: Done 120 out of 120 | elapsed:   36.8s finished\n"
     ]
    },
    {
     "name": "stdout",
     "output_type": "stream",
     "text": [
      "best score: 0.559748427672956\n",
      "Fitting 10 folds for each of 12 candidates, totalling 120 fits\n"
     ]
    },
    {
     "name": "stderr",
     "output_type": "stream",
     "text": [
      "[Parallel(n_jobs=1)]: Using backend SequentialBackend with 1 concurrent workers.\n",
      "[Parallel(n_jobs=1)]: Done 120 out of 120 | elapsed:   28.0s finished\n"
     ]
    },
    {
     "name": "stdout",
     "output_type": "stream",
     "text": [
      "best score: 0.559748427672956\n",
      "Fitting 10 folds for each of 12 candidates, totalling 120 fits\n"
     ]
    },
    {
     "name": "stderr",
     "output_type": "stream",
     "text": [
      "[Parallel(n_jobs=1)]: Using backend SequentialBackend with 1 concurrent workers.\n",
      "[Parallel(n_jobs=1)]: Done 120 out of 120 | elapsed:   39.1s finished\n"
     ]
    },
    {
     "name": "stdout",
     "output_type": "stream",
     "text": [
      "best score: 0.559748427672956\n",
      "Split: 1\n",
      "Split: 2\n",
      "Split: 3\n",
      "Split: 4\n",
      "Split: 5\n",
      "Split: 6\n",
      "Split: 7\n",
      "Split: 8\n",
      "Split: 9\n",
      "Split: 10\n",
      "Training Testing Accuracy for n_games=10 team=12 : 56.44% (8.31%)\n",
      "(178, 1874)\n",
      "(178, 1)\n",
      "X_train shape: (160, 3128)\n",
      "X_test shape: (18, 3128)\n",
      "Fitting 10 folds for each of 12 candidates, totalling 120 fits\n"
     ]
    },
    {
     "name": "stderr",
     "output_type": "stream",
     "text": [
      "[Parallel(n_jobs=1)]: Using backend SequentialBackend with 1 concurrent workers.\n",
      "[Parallel(n_jobs=1)]: Done 120 out of 120 | elapsed:   43.9s finished\n"
     ]
    },
    {
     "name": "stdout",
     "output_type": "stream",
     "text": [
      "best score: 0.65\n",
      "Fitting 10 folds for each of 12 candidates, totalling 120 fits\n"
     ]
    },
    {
     "name": "stderr",
     "output_type": "stream",
     "text": [
      "[Parallel(n_jobs=1)]: Using backend SequentialBackend with 1 concurrent workers.\n",
      "[Parallel(n_jobs=1)]: Done 120 out of 120 | elapsed:   34.3s finished\n"
     ]
    },
    {
     "name": "stdout",
     "output_type": "stream",
     "text": [
      "best score: 0.65\n",
      "Fitting 10 folds for each of 12 candidates, totalling 120 fits\n"
     ]
    },
    {
     "name": "stderr",
     "output_type": "stream",
     "text": [
      "[Parallel(n_jobs=1)]: Using backend SequentialBackend with 1 concurrent workers.\n",
      "[Parallel(n_jobs=1)]: Done 120 out of 120 | elapsed:   35.2s finished\n"
     ]
    },
    {
     "name": "stdout",
     "output_type": "stream",
     "text": [
      "best score: 0.65\n",
      "Fitting 10 folds for each of 12 candidates, totalling 120 fits\n"
     ]
    },
    {
     "name": "stderr",
     "output_type": "stream",
     "text": [
      "[Parallel(n_jobs=1)]: Using backend SequentialBackend with 1 concurrent workers.\n",
      "[Parallel(n_jobs=1)]: Done 120 out of 120 | elapsed:   47.1s finished\n"
     ]
    },
    {
     "name": "stdout",
     "output_type": "stream",
     "text": [
      "best score: 0.6625\n",
      "Fitting 10 folds for each of 12 candidates, totalling 120 fits\n"
     ]
    },
    {
     "name": "stderr",
     "output_type": "stream",
     "text": [
      "[Parallel(n_jobs=1)]: Using backend SequentialBackend with 1 concurrent workers.\n",
      "[Parallel(n_jobs=1)]: Done 120 out of 120 | elapsed:  1.2min finished\n"
     ]
    },
    {
     "name": "stdout",
     "output_type": "stream",
     "text": [
      "best score: 0.6625\n",
      "Split: 1\n",
      "Split: 2\n",
      "Split: 3\n",
      "Split: 4\n",
      "Split: 5\n",
      "Split: 6\n",
      "Split: 7\n",
      "Split: 8\n",
      "Split: 9\n",
      "Split: 10\n",
      "Training Testing Accuracy for n_games=10 team=13 : 64.08% (12.29%)\n",
      "(181, 1874)\n",
      "(181, 1)\n",
      "X_train shape: (162, 3101)\n",
      "X_test shape: (19, 3101)\n",
      "Fitting 10 folds for each of 12 candidates, totalling 120 fits\n"
     ]
    },
    {
     "name": "stderr",
     "output_type": "stream",
     "text": [
      "[Parallel(n_jobs=1)]: Using backend SequentialBackend with 1 concurrent workers.\n",
      "[Parallel(n_jobs=1)]: Done 120 out of 120 | elapsed:   44.0s finished\n"
     ]
    },
    {
     "name": "stdout",
     "output_type": "stream",
     "text": [
      "best score: 0.6358024691358025\n",
      "Fitting 10 folds for each of 12 candidates, totalling 120 fits\n"
     ]
    },
    {
     "name": "stderr",
     "output_type": "stream",
     "text": [
      "[Parallel(n_jobs=1)]: Using backend SequentialBackend with 1 concurrent workers.\n",
      "[Parallel(n_jobs=1)]: Done 120 out of 120 | elapsed:   50.8s finished\n"
     ]
    },
    {
     "name": "stdout",
     "output_type": "stream",
     "text": [
      "best score: 0.6358024691358025\n",
      "Fitting 10 folds for each of 12 candidates, totalling 120 fits\n"
     ]
    },
    {
     "name": "stderr",
     "output_type": "stream",
     "text": [
      "[Parallel(n_jobs=1)]: Using backend SequentialBackend with 1 concurrent workers.\n",
      "[Parallel(n_jobs=1)]: Done 120 out of 120 | elapsed:   46.6s finished\n"
     ]
    },
    {
     "name": "stdout",
     "output_type": "stream",
     "text": [
      "best score: 0.6358024691358025\n",
      "Fitting 10 folds for each of 12 candidates, totalling 120 fits\n"
     ]
    },
    {
     "name": "stderr",
     "output_type": "stream",
     "text": [
      "[Parallel(n_jobs=1)]: Using backend SequentialBackend with 1 concurrent workers.\n",
      "[Parallel(n_jobs=1)]: Done 120 out of 120 | elapsed:   37.8s finished\n"
     ]
    },
    {
     "name": "stdout",
     "output_type": "stream",
     "text": [
      "best score: 0.6666666666666666\n",
      "Fitting 10 folds for each of 12 candidates, totalling 120 fits\n"
     ]
    },
    {
     "name": "stderr",
     "output_type": "stream",
     "text": [
      "[Parallel(n_jobs=1)]: Using backend SequentialBackend with 1 concurrent workers.\n",
      "[Parallel(n_jobs=1)]: Done 120 out of 120 | elapsed:   40.9s finished\n"
     ]
    },
    {
     "name": "stdout",
     "output_type": "stream",
     "text": [
      "best score: 0.6666666666666666\n",
      "Split: 1\n",
      "Split: 2\n",
      "Split: 3\n",
      "Split: 4\n",
      "Split: 5\n",
      "Split: 6\n",
      "Split: 7\n",
      "Split: 8\n",
      "Split: 9\n",
      "Split: 10\n",
      "Training Testing Accuracy for n_games=10 team=14 : 68.57% (6.65%)\n",
      "(170, 1874)\n",
      "(170, 1)\n",
      "X_train shape: (153, 3099)\n",
      "X_test shape: (17, 3099)\n",
      "Fitting 10 folds for each of 12 candidates, totalling 120 fits\n"
     ]
    },
    {
     "name": "stderr",
     "output_type": "stream",
     "text": [
      "[Parallel(n_jobs=1)]: Using backend SequentialBackend with 1 concurrent workers.\n",
      "[Parallel(n_jobs=1)]: Done 120 out of 120 | elapsed:   44.1s finished\n"
     ]
    },
    {
     "name": "stdout",
     "output_type": "stream",
     "text": [
      "best score: 0.6078431372549019\n",
      "Fitting 10 folds for each of 12 candidates, totalling 120 fits\n"
     ]
    },
    {
     "name": "stderr",
     "output_type": "stream",
     "text": [
      "[Parallel(n_jobs=1)]: Using backend SequentialBackend with 1 concurrent workers.\n",
      "[Parallel(n_jobs=1)]: Done 120 out of 120 | elapsed:   35.4s finished\n"
     ]
    },
    {
     "name": "stdout",
     "output_type": "stream",
     "text": [
      "best score: 0.6078431372549019\n",
      "Fitting 10 folds for each of 12 candidates, totalling 120 fits\n"
     ]
    },
    {
     "name": "stderr",
     "output_type": "stream",
     "text": [
      "[Parallel(n_jobs=1)]: Using backend SequentialBackend with 1 concurrent workers.\n",
      "[Parallel(n_jobs=1)]: Done 120 out of 120 | elapsed:   34.4s finished\n"
     ]
    },
    {
     "name": "stdout",
     "output_type": "stream",
     "text": [
      "best score: 0.6078431372549019\n",
      "Fitting 10 folds for each of 12 candidates, totalling 120 fits\n"
     ]
    },
    {
     "name": "stderr",
     "output_type": "stream",
     "text": [
      "[Parallel(n_jobs=1)]: Using backend SequentialBackend with 1 concurrent workers.\n",
      "[Parallel(n_jobs=1)]: Done 120 out of 120 | elapsed:   39.0s finished\n"
     ]
    },
    {
     "name": "stdout",
     "output_type": "stream",
     "text": [
      "best score: 0.6078431372549019\n",
      "Fitting 10 folds for each of 12 candidates, totalling 120 fits\n"
     ]
    },
    {
     "name": "stderr",
     "output_type": "stream",
     "text": [
      "[Parallel(n_jobs=1)]: Using backend SequentialBackend with 1 concurrent workers.\n",
      "[Parallel(n_jobs=1)]: Done 120 out of 120 | elapsed:   37.2s finished\n"
     ]
    },
    {
     "name": "stdout",
     "output_type": "stream",
     "text": [
      "best score: 0.6078431372549019\n",
      "Split: 1\n",
      "Split: 2\n",
      "Split: 3\n",
      "Split: 4\n",
      "Split: 5\n",
      "Split: 6\n",
      "Split: 7\n",
      "Split: 8\n",
      "Split: 9\n",
      "Split: 10\n",
      "Training Testing Accuracy for n_games=10 team=15 : 62.35% (2.88%)\n",
      "(186, 1874)\n",
      "(186, 1)\n",
      "X_train shape: (167, 3114)\n",
      "X_test shape: (19, 3114)\n",
      "Fitting 10 folds for each of 12 candidates, totalling 120 fits\n"
     ]
    },
    {
     "name": "stderr",
     "output_type": "stream",
     "text": [
      "[Parallel(n_jobs=1)]: Using backend SequentialBackend with 1 concurrent workers.\n",
      "[Parallel(n_jobs=1)]: Done 120 out of 120 | elapsed:   45.4s finished\n"
     ]
    },
    {
     "name": "stdout",
     "output_type": "stream",
     "text": [
      "best score: 0.6646706586826348\n",
      "Fitting 10 folds for each of 12 candidates, totalling 120 fits\n"
     ]
    },
    {
     "name": "stderr",
     "output_type": "stream",
     "text": [
      "[Parallel(n_jobs=1)]: Using backend SequentialBackend with 1 concurrent workers.\n",
      "[Parallel(n_jobs=1)]: Done 120 out of 120 | elapsed:  1.1min finished\n"
     ]
    },
    {
     "name": "stdout",
     "output_type": "stream",
     "text": [
      "best score: 0.6646706586826348\n",
      "Fitting 10 folds for each of 12 candidates, totalling 120 fits\n"
     ]
    },
    {
     "name": "stderr",
     "output_type": "stream",
     "text": [
      "[Parallel(n_jobs=1)]: Using backend SequentialBackend with 1 concurrent workers.\n",
      "[Parallel(n_jobs=1)]: Done 120 out of 120 | elapsed:   53.9s finished\n"
     ]
    },
    {
     "name": "stdout",
     "output_type": "stream",
     "text": [
      "best score: 0.6646706586826348\n",
      "Fitting 10 folds for each of 12 candidates, totalling 120 fits\n"
     ]
    },
    {
     "name": "stderr",
     "output_type": "stream",
     "text": [
      "[Parallel(n_jobs=1)]: Using backend SequentialBackend with 1 concurrent workers.\n",
      "[Parallel(n_jobs=1)]: Done 120 out of 120 | elapsed:   36.7s finished\n"
     ]
    },
    {
     "name": "stdout",
     "output_type": "stream",
     "text": [
      "best score: 0.6646706586826348\n",
      "Fitting 10 folds for each of 12 candidates, totalling 120 fits\n"
     ]
    },
    {
     "name": "stderr",
     "output_type": "stream",
     "text": [
      "[Parallel(n_jobs=1)]: Using backend SequentialBackend with 1 concurrent workers.\n",
      "[Parallel(n_jobs=1)]: Done 120 out of 120 | elapsed:   35.8s finished\n"
     ]
    },
    {
     "name": "stdout",
     "output_type": "stream",
     "text": [
      "best score: 0.6766467065868264\n",
      "Split: 1\n",
      "Split: 2\n",
      "Split: 3\n",
      "Split: 4\n",
      "Split: 5\n",
      "Split: 6\n",
      "Split: 7\n",
      "Split: 8\n",
      "Split: 9\n",
      "Split: 10\n",
      "Training Testing Accuracy for n_games=10 team=16 : 59.04% (11.08%)\n",
      "(181, 1874)\n",
      "(181, 1)\n",
      "X_train shape: (162, 3113)\n",
      "X_test shape: (19, 3113)\n",
      "Fitting 10 folds for each of 12 candidates, totalling 120 fits\n"
     ]
    },
    {
     "name": "stderr",
     "output_type": "stream",
     "text": [
      "[Parallel(n_jobs=1)]: Using backend SequentialBackend with 1 concurrent workers.\n",
      "[Parallel(n_jobs=1)]: Done 120 out of 120 | elapsed:   44.9s finished\n"
     ]
    },
    {
     "name": "stdout",
     "output_type": "stream",
     "text": [
      "best score: 0.6049382716049383\n",
      "Fitting 10 folds for each of 12 candidates, totalling 120 fits\n"
     ]
    },
    {
     "name": "stderr",
     "output_type": "stream",
     "text": [
      "[Parallel(n_jobs=1)]: Using backend SequentialBackend with 1 concurrent workers.\n",
      "[Parallel(n_jobs=1)]: Done 120 out of 120 | elapsed:   33.9s finished\n"
     ]
    },
    {
     "name": "stdout",
     "output_type": "stream",
     "text": [
      "best score: 0.6049382716049383\n",
      "Fitting 10 folds for each of 12 candidates, totalling 120 fits\n"
     ]
    },
    {
     "name": "stderr",
     "output_type": "stream",
     "text": [
      "[Parallel(n_jobs=1)]: Using backend SequentialBackend with 1 concurrent workers.\n",
      "[Parallel(n_jobs=1)]: Done 120 out of 120 | elapsed:   34.0s finished\n"
     ]
    },
    {
     "name": "stdout",
     "output_type": "stream",
     "text": [
      "best score: 0.6049382716049383\n",
      "Fitting 10 folds for each of 12 candidates, totalling 120 fits\n"
     ]
    },
    {
     "name": "stderr",
     "output_type": "stream",
     "text": [
      "[Parallel(n_jobs=1)]: Using backend SequentialBackend with 1 concurrent workers.\n",
      "[Parallel(n_jobs=1)]: Done 120 out of 120 | elapsed:   34.4s finished\n"
     ]
    },
    {
     "name": "stdout",
     "output_type": "stream",
     "text": [
      "best score: 0.6049382716049383\n",
      "Fitting 10 folds for each of 12 candidates, totalling 120 fits\n"
     ]
    },
    {
     "name": "stderr",
     "output_type": "stream",
     "text": [
      "[Parallel(n_jobs=1)]: Using backend SequentialBackend with 1 concurrent workers.\n",
      "[Parallel(n_jobs=1)]: Done 120 out of 120 | elapsed:   33.5s finished\n"
     ]
    },
    {
     "name": "stdout",
     "output_type": "stream",
     "text": [
      "best score: 0.6111111111111112\n",
      "Split: 1\n",
      "Split: 2\n",
      "Split: 3\n",
      "Split: 4\n",
      "Split: 5\n",
      "Split: 6\n",
      "Split: 7\n",
      "Split: 8\n",
      "Split: 9\n",
      "Split: 10\n",
      "Training Testing Accuracy for n_games=10 team=17 : 58.01% (7.90%)\n",
      "(180, 1874)\n",
      "(180, 1)\n",
      "X_train shape: (162, 3127)\n",
      "X_test shape: (18, 3127)\n",
      "Fitting 10 folds for each of 12 candidates, totalling 120 fits\n"
     ]
    },
    {
     "name": "stderr",
     "output_type": "stream",
     "text": [
      "[Parallel(n_jobs=1)]: Using backend SequentialBackend with 1 concurrent workers.\n",
      "[Parallel(n_jobs=1)]: Done 120 out of 120 | elapsed:   45.3s finished\n"
     ]
    },
    {
     "name": "stdout",
     "output_type": "stream",
     "text": [
      "best score: 0.5493827160493827\n",
      "Fitting 10 folds for each of 12 candidates, totalling 120 fits\n"
     ]
    },
    {
     "name": "stderr",
     "output_type": "stream",
     "text": [
      "[Parallel(n_jobs=1)]: Using backend SequentialBackend with 1 concurrent workers.\n",
      "[Parallel(n_jobs=1)]: Done 120 out of 120 | elapsed:   39.8s finished\n"
     ]
    },
    {
     "name": "stdout",
     "output_type": "stream",
     "text": [
      "best score: 0.5493827160493827\n",
      "Fitting 10 folds for each of 12 candidates, totalling 120 fits\n"
     ]
    },
    {
     "name": "stderr",
     "output_type": "stream",
     "text": [
      "[Parallel(n_jobs=1)]: Using backend SequentialBackend with 1 concurrent workers.\n",
      "[Parallel(n_jobs=1)]: Done 120 out of 120 | elapsed:   44.2s finished\n"
     ]
    },
    {
     "name": "stdout",
     "output_type": "stream",
     "text": [
      "best score: 0.6172839506172839\n",
      "Fitting 10 folds for each of 12 candidates, totalling 120 fits\n"
     ]
    },
    {
     "name": "stderr",
     "output_type": "stream",
     "text": [
      "[Parallel(n_jobs=1)]: Using backend SequentialBackend with 1 concurrent workers.\n",
      "[Parallel(n_jobs=1)]: Done 120 out of 120 | elapsed:   58.3s finished\n"
     ]
    },
    {
     "name": "stdout",
     "output_type": "stream",
     "text": [
      "best score: 0.6172839506172839\n",
      "Fitting 10 folds for each of 12 candidates, totalling 120 fits\n"
     ]
    },
    {
     "name": "stderr",
     "output_type": "stream",
     "text": [
      "[Parallel(n_jobs=1)]: Using backend SequentialBackend with 1 concurrent workers.\n",
      "[Parallel(n_jobs=1)]: Done 120 out of 120 | elapsed:   58.4s finished\n"
     ]
    },
    {
     "name": "stdout",
     "output_type": "stream",
     "text": [
      "best score: 0.6172839506172839\n",
      "Split: 1\n",
      "Split: 2\n",
      "Split: 3\n",
      "Split: 4\n",
      "Split: 5\n",
      "Split: 6\n",
      "Split: 7\n",
      "Split: 8\n",
      "Split: 9\n",
      "Split: 10\n",
      "Training Testing Accuracy for n_games=10 team=18 : 54.44% (5.44%)\n",
      "Accuracy for Team Models for n_games= 10 : 59.12% (7.12%)\n"
     ]
    }
   ],
   "source": [
    "import warnings\n",
    "warnings.filterwarnings('ignore')\n",
    "for n in range(1,11):\n",
    "    averages = []\n",
    "    for tn in range(1,19):\n",
    "        a = run_team_models(n, tn)\n",
    "        averages.append(a)\n",
    "    print(\"Accuracy for Team Models for n_games= \"+str(n)+\" : %.2f%% (%.2f%%)\" % (np.mean(averages), np.std(averages)))"
   ]
  },
  {
   "cell_type": "markdown",
   "metadata": {},
   "source": [
    "# Nearest Centroid"
   ]
  },
  {
   "cell_type": "code",
   "execution_count": 7,
   "metadata": {},
   "outputs": [],
   "source": [
    "import pandas as pd\n",
    "import numpy as np\n",
    "from sklearn.model_selection import train_test_split\n",
    "from Gather_AFL_Data import gatherer as gad\n",
    "from sklearn.preprocessing import OneHotEncoder\n",
    "from sklearn.model_selection import StratifiedKFold\n",
    "import pickle\n",
    "from sklearn.neighbors import NearestCentroid\n",
    "import re\n",
    "from numpy import arange\n",
    "from sklearn.datasets import make_classification\n",
    "from sklearn.model_selection import GridSearchCV\n",
    "from sklearn.model_selection import RepeatedStratifiedKFold\n",
    "from sklearn.neighbors import NearestCentroid\n",
    "from sklearn.svm import NuSVC\n",
    "from sklearn.naive_bayes import BernoulliNB"
   ]
  },
  {
   "cell_type": "code",
   "execution_count": 6,
   "metadata": {},
   "outputs": [],
   "source": [
    "def load_data(n_games):\n",
    "    h = get_headers(n_games)\n",
    "    h = clean_headers(h)\n",
    "    cv = generate_categorical_headers(h)\n",
    "\n",
    "    #to get names of teams from index\n",
    "    g = gad()\n",
    "    teams = g.createTeamDict()\n",
    "\n",
    "    #load Data\n",
    "    x_data = pd.read_csv('Data/assembled_stat_matrix_no2020'+str(n_games)+'_games.csv')\n",
    "\n",
    "    #make empty OHE object\n",
    "    na_enc = OneHotEncoder(handle_unknown='ignore', sparse=False)\n",
    "\n",
    "    #one hot encode data with new one hot encoder, saves ohe for later use\n",
    "    x_data, ohe = ohe_data(x_data, na_enc, 0, cv)\n",
    "\n",
    "    #reset headers\n",
    "    feature_names = x_data.columns\n",
    "\n",
    "    #loads the ylabel matrix,\n",
    "    y_label = pd.read_csv('Data/assembled_labelled_ymatrix_no2020'+str(n_games)+'_games.csv')\n",
    "\n",
    "    #loads margin as the y_label\n",
    "    margin_label = pd.read_csv('Data/assembled_margin_ymatrix_no2020'+str(n_games)+'_games.csv')\n",
    "\n",
    "    print(margin_label.shape)\n",
    "    print(y_label.shape)\n",
    "    print(x_data.shape)\n",
    "\n",
    "    #regex solution which is apparently necessary??\n",
    "    regex = re.compile(r\"\\[|\\]|<\", re.IGNORECASE)\n",
    "    x_data.columns = [regex.sub(\"_\", col) if any(x in str(col) for x in set(('[', ']', '<'))) else col for col in x_data.columns.values]\n",
    "    return x_data, y_label"
   ]
  },
  {
   "cell_type": "code",
   "execution_count": null,
   "metadata": {},
   "outputs": [],
   "source": [
    "def params_NC(x_data, y_label):\n",
    "# define model\n",
    "    print(\"optimising hyperparameters\")\n",
    "    model = NearestCentroid()\n",
    "    # define model evaluation method\n",
    "    cv = RepeatedStratifiedKFold(n_splits=10, n_repeats=3, random_state=1)\n",
    "    # define grid\n",
    "    grid = dict()\n",
    "    grid['shrink_threshold'] = arange(0, 1.01, 0.01)\n",
    "    grid['metric'] = ['euclidean', 'manhattan']\n",
    "    # define search\n",
    "    search = GridSearchCV(model, grid, scoring='accuracy', cv=cv, n_jobs=-1)\n",
    "    # perform the search\n",
    "    results = search.fit(x_data, y_label.values.ravel())\n",
    "    # summarize\n",
    "    print('Mean Accuracy: %.3f' % results.best_score_)\n",
    "    print('Config: %s' % results.best_params_)\n",
    "    return results.best_params_"
   ]
  },
  {
   "cell_type": "code",
   "execution_count": null,
   "metadata": {},
   "outputs": [],
   "source": [
    "def eval_NC(x, y, m):\n",
    "    cv = StratifiedKFold(n_splits=10, shuffle=True)\n",
    "    results = []\n",
    "    print(x)\n",
    "    count = 0\n",
    "    best_w = m\n",
    "    high_w = 0\n",
    "    for train,test in cv.split(x,y):\n",
    "        count = count + 1\n",
    "        print(\"Split: \" + str(count))\n",
    "        x_train = x.loc[train]\n",
    "        y_train = y.loc[train].values.ravel()\n",
    "        x_test = x.loc[test]\n",
    "        y_test = y.loc[test]\n",
    "        m.fit(x_train,y_train)\n",
    "        y_pred = m.predict(x_test)\n",
    "        predictions = [round(value) for value in y_pred]\n",
    "        #sees how accurate the model was when testing the test set\n",
    "        accuracy = accuracy_score(y_test, predictions)\n",
    "        pcent = accuracy * 100.0\n",
    "        results.append(pcent)\n",
    "        if(pcent > high_w):\n",
    "            print(\"found new best classify\")\n",
    "            best_w = m\n",
    "            high_w = pcent\n",
    "    print(\"Best win percentage split = \" +str(high_w))\n",
    "    print(\"Training Testing Accuracy: %.2f%% (%.2f%%)\" % (np.mean(results), np.std(results)))\n",
    "    return best_w"
   ]
  },
  {
   "cell_type": "code",
   "execution_count": null,
   "metadata": {
    "scrolled": true
   },
   "outputs": [],
   "source": [
    "def run_all_NC(n):\n",
    "    x_data, y_label = load_data(n)\n",
    "    best_params = params_NC(x_data, y_label)\n",
    "    model = NearestCentroid(**best_params)\n",
    "    best_NC_clas = eval_NC(x_data, y_label, model)\n",
    "    pickle.dump(best_NC_clas, open(\"Models/best_NC_clas_no2020\"+str(n_games)+'_games.sav', 'wb'))"
   ]
  },
  {
   "cell_type": "code",
   "execution_count": null,
   "metadata": {},
   "outputs": [],
   "source": [
    "n_games = [1,2,3,4,5,6,7,10]\n",
    "for n in n_games:\n",
    "    run_all_NC(n)"
   ]
  },
  {
   "cell_type": "markdown",
   "metadata": {},
   "source": [
    "# BernoulliNB"
   ]
  },
  {
   "cell_type": "code",
   "execution_count": 23,
   "metadata": {},
   "outputs": [],
   "source": [
    "def params_BNB(x_data, y_label):\n",
    "# define model\n",
    "    print(\"optimising hyperparameters\")\n",
    "    model = BernoulliNB()\n",
    "    # define model evaluation method\n",
    "    cv = RepeatedStratifiedKFold(n_splits=10, n_repeats=3, random_state=1)\n",
    "    # define grid\n",
    "    grid = dict()\n",
    "    grid['alpha'] = arange(0.01, 1.01, 0.01)\n",
    "    # define search\n",
    "    search = GridSearchCV(model, grid, scoring='accuracy', cv=cv, n_jobs=1, verbose=1)\n",
    "    # perform the search\n",
    "    results = search.fit(x_data, y_label.values.ravel())\n",
    "    # summarize\n",
    "    print('Mean Accuracy: %.3f' % results.best_score_)\n",
    "    print('Config: %s' % results.best_params_)\n",
    "    return results.best_params_"
   ]
  },
  {
   "cell_type": "code",
   "execution_count": 18,
   "metadata": {},
   "outputs": [],
   "source": [
    "def eval_BNB(x, y, m):\n",
    "    cv = StratifiedKFold(n_splits=10, shuffle=True)\n",
    "    results = []\n",
    "    print(x)\n",
    "    count = 0\n",
    "    best_w = m\n",
    "    high_w = 0\n",
    "    for train,test in cv.split(x,y):\n",
    "        count = count + 1\n",
    "        print(\"Split: \" + str(count))\n",
    "        x_train = x.loc[train]\n",
    "        y_train = y.loc[train].values.ravel()\n",
    "        x_test = x.loc[test]\n",
    "        y_test = y.loc[test]\n",
    "        m.fit(x_train,y_train)\n",
    "        y_pred = m.predict(x_test)\n",
    "        predictions = [round(value) for value in y_pred]\n",
    "        #sees how accurate the model was when testing the test set\n",
    "        accuracy = accuracy_score(y_test, predictions)\n",
    "        pcent = accuracy * 100.0\n",
    "        results.append(pcent)\n",
    "        if(pcent > high_w):\n",
    "            print(\"found new best classify\")\n",
    "            best_w = m\n",
    "            high_w = pcent\n",
    "    print(\"Best win percentage split = \" +str(high_w))\n",
    "    print(\"Training Testing Accuracy: %.2f%% (%.2f%%)\" % (np.mean(results), np.std(results)))\n",
    "    return best_w"
   ]
  },
  {
   "cell_type": "code",
   "execution_count": 19,
   "metadata": {},
   "outputs": [],
   "source": [
    "def run_all_BNB(n):\n",
    "    x_data, y_label = load_data(n)\n",
    "    best_params = params_BNB(x_data, y_label)\n",
    "    model = BernoulliNB(**best_params)\n",
    "    best_BNB_clas = eval_BNB(x_data, y_label, model)\n",
    "    pickle.dump(best_BNB_clas, open(\"Models/best_BNB_clas_no2020\"+str(n_games)+'_games.sav', 'wb'))"
   ]
  },
  {
   "cell_type": "code",
   "execution_count": 24,
   "metadata": {
    "scrolled": true
   },
   "outputs": [
    {
     "name": "stdout",
     "output_type": "stream",
     "text": [
      "(1646, 1)\n",
      "(1646, 1)\n",
      "(1646, 409)\n",
      "optimising hyperparameters\n",
      "Fitting 30 folds for each of 100 candidates, totalling 3000 fits\n"
     ]
    },
    {
     "name": "stderr",
     "output_type": "stream",
     "text": [
      "[Parallel(n_jobs=1)]: Using backend SequentialBackend with 1 concurrent workers.\n",
      "[Parallel(n_jobs=1)]: Done 3000 out of 3000 | elapsed:   56.7s finished\n"
     ]
    },
    {
     "name": "stdout",
     "output_type": "stream",
     "text": [
      "Mean Accuracy: 0.602\n",
      "Config: {'alpha': 0.89}\n",
      "      Ladder Pos_H  Form_H  Season Wins_H  Season Loss_H  Season Draw_H  \\\n",
      "0             12.0     0.0            0.0            1.0            0.0   \n",
      "1              4.0     1.0            1.0            0.0            0.0   \n",
      "2              2.0     1.0            1.0            0.0            0.0   \n",
      "3             17.0     0.0            0.0            1.0            0.0   \n",
      "4              1.0     1.0            1.0            0.0            0.0   \n",
      "...            ...     ...            ...            ...            ...   \n",
      "1641           3.0     0.0           16.0            6.0            0.0   \n",
      "1642           4.0     1.0           15.0            7.0            0.0   \n",
      "1643           1.0     1.0           17.0            4.0            1.0   \n",
      "1644           2.0     1.0           17.0            5.0            0.0   \n",
      "1645           1.0     1.0           17.0            4.0            1.0   \n",
      "\n",
      "      H_H/A? n-1  H_H/A Win? n-1  H_Points For n-1  H_Points Against n-1  \\\n",
      "0            1.0             0.0              77.0                  90.0   \n",
      "1            1.0             1.0             106.0                  76.0   \n",
      "2            0.0             0.0             127.0                  59.0   \n",
      "3            1.0             0.0              59.0                 127.0   \n",
      "4            1.0             1.0             133.0                  54.0   \n",
      "...          ...             ...               ...                   ...   \n",
      "1641         1.0             0.0              43.0                  86.0   \n",
      "1642         1.0             0.0              60.0                  93.0   \n",
      "1643         0.0             0.0              93.0                  60.0   \n",
      "1644         0.0             0.0              86.0                  43.0   \n",
      "1645         0.0             0.0             125.0                  42.0   \n",
      "\n",
      "      H_Margin n-1  ...  A_Venue n-1_Mars Stadium  A_Venue n-1_Marvel Stadium  \\\n",
      "0            -13.0  ...                       0.0                         0.0   \n",
      "1             30.0  ...                       0.0                         0.0   \n",
      "2             68.0  ...                       0.0                         0.0   \n",
      "3            -68.0  ...                       0.0                         0.0   \n",
      "4             79.0  ...                       0.0                         0.0   \n",
      "...            ...  ...                       ...                         ...   \n",
      "1641         -43.0  ...                       0.0                         0.0   \n",
      "1642         -33.0  ...                       0.0                         0.0   \n",
      "1643          33.0  ...                       0.0                         0.0   \n",
      "1644          43.0  ...                       0.0                         0.0   \n",
      "1645          83.0  ...                       0.0                         0.0   \n",
      "\n",
      "      A_Venue n-1_Metricon Stadium  A_Venue n-1_Optus Stadium  \\\n",
      "0                              0.0                        0.0   \n",
      "1                              1.0                        0.0   \n",
      "2                              0.0                        0.0   \n",
      "3                              0.0                        0.0   \n",
      "4                              0.0                        0.0   \n",
      "...                            ...                        ...   \n",
      "1641                           0.0                        0.0   \n",
      "1642                           0.0                        0.0   \n",
      "1643                           0.0                        1.0   \n",
      "1644                           0.0                        0.0   \n",
      "1645                           0.0                        0.0   \n",
      "\n",
      "      A_Venue n-1_Riverway Stadium  A_Venue n-1_SCG  A_Venue n-1_TIO Stadium  \\\n",
      "0                              0.0              0.0                      0.0   \n",
      "1                              0.0              0.0                      0.0   \n",
      "2                              0.0              0.0                      0.0   \n",
      "3                              0.0              0.0                      0.0   \n",
      "4                              0.0              0.0                      0.0   \n",
      "...                            ...              ...                      ...   \n",
      "1641                           0.0              0.0                      0.0   \n",
      "1642                           0.0              0.0                      0.0   \n",
      "1643                           0.0              0.0                      0.0   \n",
      "1644                           0.0              0.0                      0.0   \n",
      "1645                           0.0              0.0                      0.0   \n",
      "\n",
      "      A_Venue n-1_TIO Traeger Park  \\\n",
      "0                              0.0   \n",
      "1                              0.0   \n",
      "2                              0.0   \n",
      "3                              0.0   \n",
      "4                              0.0   \n",
      "...                            ...   \n",
      "1641                           0.0   \n",
      "1642                           0.0   \n",
      "1643                           0.0   \n",
      "1644                           0.0   \n",
      "1645                           0.0   \n",
      "\n",
      "      A_Venue n-1_University of Tasmania Stadium  A_Venue n-1_Westpac Stadium  \n",
      "0                                            0.0                          0.0  \n",
      "1                                            0.0                          0.0  \n",
      "2                                            0.0                          0.0  \n",
      "3                                            0.0                          0.0  \n",
      "4                                            0.0                          0.0  \n",
      "...                                          ...                          ...  \n",
      "1641                                         1.0                          0.0  \n",
      "1642                                         1.0                          0.0  \n",
      "1643                                         0.0                          0.0  \n",
      "1644                                         0.0                          0.0  \n",
      "1645                                         0.0                          0.0  \n",
      "\n",
      "[1646 rows x 409 columns]\n",
      "Split: 1\n",
      "found new best classify\n",
      "Split: 2\n",
      "Split: 3\n",
      "found new best classify\n",
      "Split: 4\n",
      "Split: 5\n",
      "Split: 6\n",
      "Split: 7\n",
      "Split: 8\n",
      "Split: 9\n",
      "Split: 10\n",
      "Best win percentage split = 66.66666666666666\n",
      "Training Testing Accuracy: 60.20% (4.04%)\n",
      "(1637, 1)\n",
      "(1637, 1)\n",
      "(1637, 722)\n",
      "optimising hyperparameters\n",
      "Fitting 30 folds for each of 100 candidates, totalling 3000 fits\n"
     ]
    },
    {
     "name": "stderr",
     "output_type": "stream",
     "text": [
      "[Parallel(n_jobs=1)]: Using backend SequentialBackend with 1 concurrent workers.\n",
      "[Parallel(n_jobs=1)]: Done 3000 out of 3000 | elapsed:  1.4min finished\n"
     ]
    },
    {
     "name": "stdout",
     "output_type": "stream",
     "text": [
      "Mean Accuracy: 0.599\n",
      "Config: {'alpha': 0.7000000000000001}\n",
      "      Ladder Pos_H  Form_H  Season Wins_H  Season Loss_H  Season Draw_H  \\\n",
      "0              4.0     2.0            2.0            0.0            0.0   \n",
      "1             12.0     0.0            0.0            2.0            0.0   \n",
      "2             18.0     0.0            0.0            2.0            0.0   \n",
      "3             16.0     0.0            0.0            2.0            0.0   \n",
      "4             11.0     1.0            1.0            1.0            0.0   \n",
      "...            ...     ...            ...            ...            ...   \n",
      "1632           3.0     1.0           16.0            6.0            0.0   \n",
      "1633           4.0     2.0           15.0            7.0            0.0   \n",
      "1634           1.0     2.0           17.0            4.0            1.0   \n",
      "1635           2.0     2.0           17.0            5.0            0.0   \n",
      "1636           1.0     2.0           17.0            4.0            1.0   \n",
      "\n",
      "      H_H/A? n-1  H_H/A Win? n-1  H_Points For n-1  H_Points Against n-1  \\\n",
      "0            1.0             1.0             106.0                  78.0   \n",
      "1            1.0             0.0             108.0                 112.0   \n",
      "2            1.0             0.0              36.0                 184.0   \n",
      "3            1.0             0.0              78.0                 134.0   \n",
      "4            1.0             0.0              73.0                 114.0   \n",
      "...          ...             ...               ...                   ...   \n",
      "1632         1.0             0.0              43.0                  86.0   \n",
      "1633         1.0             0.0              60.0                  93.0   \n",
      "1634         0.0             0.0              93.0                  60.0   \n",
      "1635         0.0             0.0              86.0                  43.0   \n",
      "1636         0.0             0.0             125.0                  42.0   \n",
      "\n",
      "      H_Margin n-1  ...  A_Venue n-2_Manuka Oval  A_Venue n-2_Mars Stadium  \\\n",
      "0             28.0  ...                      0.0                       0.0   \n",
      "1             -4.0  ...                      0.0                       0.0   \n",
      "2           -148.0  ...                      0.0                       0.0   \n",
      "3            -56.0  ...                      0.0                       0.0   \n",
      "4            -41.0  ...                      0.0                       0.0   \n",
      "...            ...  ...                      ...                       ...   \n",
      "1632         -43.0  ...                      0.0                       0.0   \n",
      "1633         -33.0  ...                      0.0                       0.0   \n",
      "1634          33.0  ...                      0.0                       0.0   \n",
      "1635          43.0  ...                      0.0                       0.0   \n",
      "1636          83.0  ...                      0.0                       0.0   \n",
      "\n",
      "      A_Venue n-2_Marvel Stadium  A_Venue n-2_Metricon Stadium  \\\n",
      "0                            0.0                           0.0   \n",
      "1                            0.0                           0.0   \n",
      "2                            0.0                           0.0   \n",
      "3                            0.0                           1.0   \n",
      "4                            1.0                           0.0   \n",
      "...                          ...                           ...   \n",
      "1632                         1.0                           0.0   \n",
      "1633                         1.0                           0.0   \n",
      "1634                         0.0                           0.0   \n",
      "1635                         0.0                           0.0   \n",
      "1636                         0.0                           0.0   \n",
      "\n",
      "      A_Venue n-2_Optus Stadium  A_Venue n-2_SCG  A_Venue n-2_TIO Stadium  \\\n",
      "0                           0.0              0.0                      0.0   \n",
      "1                           0.0              0.0                      0.0   \n",
      "2                           0.0              0.0                      0.0   \n",
      "3                           0.0              0.0                      0.0   \n",
      "4                           0.0              0.0                      0.0   \n",
      "...                         ...              ...                      ...   \n",
      "1632                        0.0              0.0                      0.0   \n",
      "1633                        0.0              0.0                      0.0   \n",
      "1634                        0.0              0.0                      0.0   \n",
      "1635                        0.0              0.0                      0.0   \n",
      "1636                        0.0              0.0                      0.0   \n",
      "\n",
      "      A_Venue n-2_TIO Traeger Park  \\\n",
      "0                              0.0   \n",
      "1                              0.0   \n",
      "2                              0.0   \n",
      "3                              0.0   \n",
      "4                              0.0   \n",
      "...                            ...   \n",
      "1632                           0.0   \n",
      "1633                           0.0   \n",
      "1634                           0.0   \n",
      "1635                           0.0   \n",
      "1636                           0.0   \n",
      "\n",
      "      A_Venue n-2_University of Tasmania Stadium  A_Venue n-2_Westpac Stadium  \n",
      "0                                            0.0                          0.0  \n",
      "1                                            0.0                          0.0  \n",
      "2                                            0.0                          0.0  \n",
      "3                                            0.0                          0.0  \n",
      "4                                            0.0                          0.0  \n",
      "...                                          ...                          ...  \n",
      "1632                                         0.0                          0.0  \n",
      "1633                                         0.0                          0.0  \n",
      "1634                                         0.0                          0.0  \n",
      "1635                                         1.0                          0.0  \n",
      "1636                                         0.0                          0.0  \n",
      "\n",
      "[1637 rows x 722 columns]\n",
      "Split: 1\n",
      "found new best classify\n",
      "Split: 2\n",
      "found new best classify\n",
      "Split: 3\n",
      "Split: 4\n",
      "Split: 5\n",
      "Split: 6\n",
      "found new best classify\n",
      "Split: 7\n",
      "Split: 8\n",
      "Split: 9\n",
      "Split: 10\n",
      "Best win percentage split = 67.07317073170732\n",
      "Training Testing Accuracy: 60.54% (3.92%)\n",
      "(1628, 1)\n",
      "(1628, 1)\n",
      "(1628, 1036)\n",
      "optimising hyperparameters\n",
      "Fitting 30 folds for each of 100 candidates, totalling 3000 fits\n"
     ]
    },
    {
     "name": "stderr",
     "output_type": "stream",
     "text": [
      "[Parallel(n_jobs=1)]: Using backend SequentialBackend with 1 concurrent workers.\n",
      "[Parallel(n_jobs=1)]: Done 3000 out of 3000 | elapsed:  1.9min finished\n"
     ]
    },
    {
     "name": "stdout",
     "output_type": "stream",
     "text": [
      "Mean Accuracy: 0.611\n",
      "Config: {'alpha': 0.46}\n",
      "      Ladder Pos_H  Form_H  Season Wins_H  Season Loss_H  Season Draw_H  \\\n",
      "0              3.0     3.0            3.0            0.0            0.0   \n",
      "1              6.0     2.0            2.0            1.0            0.0   \n",
      "2              4.0     3.0            3.0            0.0            0.0   \n",
      "3              9.0     1.0            1.0            2.0            0.0   \n",
      "4             10.0     1.0            1.0            2.0            0.0   \n",
      "...            ...     ...            ...            ...            ...   \n",
      "1623           3.0     1.0           16.0            6.0            0.0   \n",
      "1624           4.0     3.0           15.0            7.0            0.0   \n",
      "1625           1.0     3.0           17.0            4.0            1.0   \n",
      "1626           2.0     3.0           17.0            5.0            0.0   \n",
      "1627           1.0     3.0           17.0            4.0            1.0   \n",
      "\n",
      "      H_H/A? n-1  H_H/A Win? n-1  H_Points For n-1  H_Points Against n-1  \\\n",
      "0            1.0             1.0             131.0                  92.0   \n",
      "1            1.0             1.0             145.0                  90.0   \n",
      "2            0.0             0.0             135.0                  68.0   \n",
      "3            1.0             1.0             140.0                  68.0   \n",
      "4            1.0             1.0             177.0                  83.0   \n",
      "...          ...             ...               ...                   ...   \n",
      "1623         1.0             0.0              43.0                  86.0   \n",
      "1624         1.0             0.0              60.0                  93.0   \n",
      "1625         0.0             0.0              93.0                  60.0   \n",
      "1626         0.0             0.0              86.0                  43.0   \n",
      "1627         0.0             0.0             125.0                  42.0   \n",
      "\n",
      "      H_Margin n-1  ...  A_Venue n-3_Mars Stadium  A_Venue n-3_Marvel Stadium  \\\n",
      "0             39.0  ...                       0.0                         0.0   \n",
      "1             55.0  ...                       0.0                         0.0   \n",
      "2             67.0  ...                       0.0                         1.0   \n",
      "3             72.0  ...                       0.0                         0.0   \n",
      "4             94.0  ...                       0.0                         0.0   \n",
      "...            ...  ...                       ...                         ...   \n",
      "1623         -43.0  ...                       0.0                         1.0   \n",
      "1624         -33.0  ...                       0.0                         0.0   \n",
      "1625          33.0  ...                       0.0                         0.0   \n",
      "1626          43.0  ...                       0.0                         1.0   \n",
      "1627          83.0  ...                       0.0                         0.0   \n",
      "\n",
      "      A_Venue n-3_Metricon Stadium  A_Venue n-3_Optus Stadium  \\\n",
      "0                              0.0                        0.0   \n",
      "1                              0.0                        0.0   \n",
      "2                              0.0                        0.0   \n",
      "3                              0.0                        0.0   \n",
      "4                              0.0                        0.0   \n",
      "...                            ...                        ...   \n",
      "1623                           0.0                        0.0   \n",
      "1624                           0.0                        0.0   \n",
      "1625                           0.0                        0.0   \n",
      "1626                           0.0                        0.0   \n",
      "1627                           0.0                        0.0   \n",
      "\n",
      "      A_Venue n-3_Riverway Stadium  A_Venue n-3_SCG  A_Venue n-3_TIO Stadium  \\\n",
      "0                              0.0              0.0                      0.0   \n",
      "1                              0.0              0.0                      0.0   \n",
      "2                              0.0              0.0                      0.0   \n",
      "3                              0.0              0.0                      0.0   \n",
      "4                              0.0              0.0                      0.0   \n",
      "...                            ...              ...                      ...   \n",
      "1623                           0.0              0.0                      0.0   \n",
      "1624                           0.0              0.0                      0.0   \n",
      "1625                           0.0              0.0                      0.0   \n",
      "1626                           0.0              0.0                      0.0   \n",
      "1627                           0.0              0.0                      0.0   \n",
      "\n",
      "      A_Venue n-3_TIO Traeger Park  \\\n",
      "0                              0.0   \n",
      "1                              0.0   \n",
      "2                              0.0   \n",
      "3                              0.0   \n",
      "4                              0.0   \n",
      "...                            ...   \n",
      "1623                           0.0   \n",
      "1624                           0.0   \n",
      "1625                           0.0   \n",
      "1626                           0.0   \n",
      "1627                           0.0   \n",
      "\n",
      "      A_Venue n-3_University of Tasmania Stadium  A_Venue n-3_Westpac Stadium  \n",
      "0                                            0.0                          0.0  \n",
      "1                                            0.0                          0.0  \n",
      "2                                            0.0                          0.0  \n",
      "3                                            0.0                          0.0  \n",
      "4                                            0.0                          0.0  \n",
      "...                                          ...                          ...  \n",
      "1623                                         0.0                          0.0  \n",
      "1624                                         1.0                          0.0  \n",
      "1625                                         0.0                          0.0  \n",
      "1626                                         0.0                          0.0  \n",
      "1627                                         1.0                          0.0  \n",
      "\n",
      "[1628 rows x 1036 columns]\n",
      "Split: 1\n",
      "found new best classify\n",
      "Split: 2\n",
      "found new best classify\n",
      "Split: 3\n",
      "Split: 4\n",
      "Split: 5\n",
      "Split: 6\n",
      "Split: 7\n",
      "Split: 8\n",
      "Split: 9\n",
      "Split: 10\n",
      "Best win percentage split = 66.25766871165644\n",
      "Training Testing Accuracy: 61.12% (3.22%)\n",
      "(1619, 1)\n",
      "(1619, 1)\n",
      "(1619, 1349)\n",
      "optimising hyperparameters\n",
      "Fitting 30 folds for each of 100 candidates, totalling 3000 fits\n"
     ]
    },
    {
     "name": "stderr",
     "output_type": "stream",
     "text": [
      "[Parallel(n_jobs=1)]: Using backend SequentialBackend with 1 concurrent workers.\n",
      "[Parallel(n_jobs=1)]: Done 3000 out of 3000 | elapsed:  2.7min finished\n"
     ]
    },
    {
     "name": "stdout",
     "output_type": "stream",
     "text": [
      "Mean Accuracy: 0.610\n",
      "Config: {'alpha': 0.42000000000000004}\n",
      "      Ladder Pos_H  Form_H  Season Wins_H  Season Loss_H  Season Draw_H  \\\n",
      "0              1.0     4.0            4.0            0.0            0.0   \n",
      "1             10.0     1.0            1.0            3.0            0.0   \n",
      "2              9.0     2.0            2.0            2.0            0.0   \n",
      "3             18.0     0.0            0.0            4.0            0.0   \n",
      "4             13.0     1.0            1.0            3.0            0.0   \n",
      "...            ...     ...            ...            ...            ...   \n",
      "1614           3.0     2.0           16.0            6.0            0.0   \n",
      "1615           4.0     3.0           15.0            7.0            0.0   \n",
      "1616           1.0     4.0           17.0            4.0            1.0   \n",
      "1617           2.0     4.0           17.0            5.0            0.0   \n",
      "1618           1.0     4.0           17.0            4.0            1.0   \n",
      "\n",
      "      H_H/A? n-1  H_H/A Win? n-1  H_Points For n-1  H_Points Against n-1  \\\n",
      "0            1.0             1.0             128.0                  91.0   \n",
      "1            0.0             1.0              91.0                 128.0   \n",
      "2            1.0             0.0              76.0                 118.0   \n",
      "3            1.0             0.0             103.0                 144.0   \n",
      "4            1.0             1.0              89.0                  65.0   \n",
      "...          ...             ...               ...                   ...   \n",
      "1614         1.0             0.0              43.0                  86.0   \n",
      "1615         1.0             0.0              60.0                  93.0   \n",
      "1616         0.0             0.0              93.0                  60.0   \n",
      "1617         0.0             0.0              86.0                  43.0   \n",
      "1618         0.0             0.0             125.0                  42.0   \n",
      "\n",
      "      H_Margin n-1  ...  A_Venue n-4_Mars Stadium  A_Venue n-4_Marvel Stadium  \\\n",
      "0             37.0  ...                       0.0                         1.0   \n",
      "1            -37.0  ...                       0.0                         0.0   \n",
      "2            -42.0  ...                       0.0                         0.0   \n",
      "3            -41.0  ...                       0.0                         0.0   \n",
      "4             24.0  ...                       0.0                         0.0   \n",
      "...            ...  ...                       ...                         ...   \n",
      "1614         -43.0  ...                       0.0                         0.0   \n",
      "1615         -33.0  ...                       0.0                         1.0   \n",
      "1616          33.0  ...                       0.0                         0.0   \n",
      "1617          43.0  ...                       0.0                         0.0   \n",
      "1618          83.0  ...                       0.0                         1.0   \n",
      "\n",
      "      A_Venue n-4_Metricon Stadium  A_Venue n-4_Optus Stadium  \\\n",
      "0                              0.0                        0.0   \n",
      "1                              0.0                        0.0   \n",
      "2                              0.0                        0.0   \n",
      "3                              1.0                        0.0   \n",
      "4                              0.0                        0.0   \n",
      "...                            ...                        ...   \n",
      "1614                           0.0                        0.0   \n",
      "1615                           0.0                        0.0   \n",
      "1616                           0.0                        0.0   \n",
      "1617                           0.0                        0.0   \n",
      "1618                           0.0                        0.0   \n",
      "\n",
      "      A_Venue n-4_Riverway Stadium  A_Venue n-4_SCG  A_Venue n-4_TIO Stadium  \\\n",
      "0                              0.0              0.0                      0.0   \n",
      "1                              0.0              0.0                      0.0   \n",
      "2                              0.0              0.0                      0.0   \n",
      "3                              0.0              0.0                      0.0   \n",
      "4                              0.0              0.0                      0.0   \n",
      "...                            ...              ...                      ...   \n",
      "1614                           0.0              0.0                      0.0   \n",
      "1615                           0.0              0.0                      0.0   \n",
      "1616                           0.0              0.0                      0.0   \n",
      "1617                           0.0              0.0                      0.0   \n",
      "1618                           0.0              0.0                      0.0   \n",
      "\n",
      "      A_Venue n-4_TIO Traeger Park  \\\n",
      "0                              0.0   \n",
      "1                              0.0   \n",
      "2                              0.0   \n",
      "3                              0.0   \n",
      "4                              0.0   \n",
      "...                            ...   \n",
      "1614                           0.0   \n",
      "1615                           0.0   \n",
      "1616                           0.0   \n",
      "1617                           0.0   \n",
      "1618                           0.0   \n",
      "\n",
      "      A_Venue n-4_University of Tasmania Stadium  A_Venue n-4_Westpac Stadium  \n",
      "0                                            0.0                          0.0  \n",
      "1                                            0.0                          0.0  \n",
      "2                                            0.0                          0.0  \n",
      "3                                            0.0                          0.0  \n",
      "4                                            0.0                          0.0  \n",
      "...                                          ...                          ...  \n",
      "1614                                         0.0                          0.0  \n",
      "1615                                         0.0                          0.0  \n",
      "1616                                         0.0                          0.0  \n",
      "1617                                         1.0                          0.0  \n",
      "1618                                         0.0                          0.0  \n",
      "\n",
      "[1619 rows x 1349 columns]\n",
      "Split: 1\n",
      "found new best classify\n",
      "Split: 2\n",
      "found new best classify\n",
      "Split: 3\n",
      "Split: 4\n",
      "found new best classify\n",
      "Split: 5\n",
      "Split: 6\n",
      "Split: 7\n",
      "found new best classify\n",
      "Split: 8\n",
      "Split: 9\n",
      "Split: 10\n",
      "Best win percentage split = 62.96296296296296\n",
      "Training Testing Accuracy: 59.30% (2.67%)\n",
      "(1610, 1)\n",
      "(1610, 1)\n",
      "(1610, 1662)\n",
      "optimising hyperparameters\n",
      "Fitting 30 folds for each of 100 candidates, totalling 3000 fits\n"
     ]
    },
    {
     "name": "stderr",
     "output_type": "stream",
     "text": [
      "[Parallel(n_jobs=1)]: Using backend SequentialBackend with 1 concurrent workers.\n",
      "[Parallel(n_jobs=1)]: Done 3000 out of 3000 | elapsed:  3.4min finished\n"
     ]
    },
    {
     "name": "stdout",
     "output_type": "stream",
     "text": [
      "Mean Accuracy: 0.617\n",
      "Config: {'alpha': 1.0}\n",
      "      Ladder Pos_H  Form_H  Season Wins_H  Season Loss_H  Season Draw_H  \\\n",
      "0              8.0     3.0            3.0            2.0            0.0   \n",
      "1              1.0     5.0            5.0            0.0            0.0   \n",
      "2             13.0     1.0            1.0            4.0            0.0   \n",
      "3             10.0     2.0            2.0            3.0            0.0   \n",
      "4             11.0     2.0            2.0            3.0            0.0   \n",
      "...            ...     ...            ...            ...            ...   \n",
      "1605           3.0     3.0           16.0            6.0            0.0   \n",
      "1606           4.0     4.0           15.0            7.0            0.0   \n",
      "1607           1.0     4.0           17.0            4.0            1.0   \n",
      "1608           2.0     5.0           17.0            5.0            0.0   \n",
      "1609           1.0     4.0           17.0            4.0            1.0   \n",
      "\n",
      "      H_H/A? n-1  H_H/A Win? n-1  H_Points For n-1  H_Points Against n-1  \\\n",
      "0            1.0             0.0              75.0                 121.0   \n",
      "1            0.0             0.0             121.0                  75.0   \n",
      "2            1.0             0.0              96.0                  99.0   \n",
      "3            1.0             0.0              83.0                 115.0   \n",
      "4            1.0             1.0             148.0                 104.0   \n",
      "...          ...             ...               ...                   ...   \n",
      "1605         1.0             0.0              43.0                  86.0   \n",
      "1606         1.0             0.0              60.0                  93.0   \n",
      "1607         0.0             0.0              93.0                  60.0   \n",
      "1608         0.0             0.0              86.0                  43.0   \n",
      "1609         0.0             0.0             125.0                  42.0   \n",
      "\n",
      "      H_Margin n-1  ...  A_Venue n-5_Manuka Oval  A_Venue n-5_Mars Stadium  \\\n",
      "0            -46.0  ...                      0.0                       0.0   \n",
      "1             46.0  ...                      0.0                       0.0   \n",
      "2             -3.0  ...                      0.0                       0.0   \n",
      "3            -32.0  ...                      0.0                       0.0   \n",
      "4             44.0  ...                      0.0                       0.0   \n",
      "...            ...  ...                      ...                       ...   \n",
      "1605         -43.0  ...                      0.0                       0.0   \n",
      "1606         -33.0  ...                      0.0                       1.0   \n",
      "1607          33.0  ...                      0.0                       0.0   \n",
      "1608          43.0  ...                      0.0                       0.0   \n",
      "1609          83.0  ...                      0.0                       0.0   \n",
      "\n",
      "      A_Venue n-5_Marvel Stadium  A_Venue n-5_Metricon Stadium  \\\n",
      "0                            0.0                           1.0   \n",
      "1                            0.0                           0.0   \n",
      "2                            0.0                           0.0   \n",
      "3                            0.0                           0.0   \n",
      "4                            0.0                           0.0   \n",
      "...                          ...                           ...   \n",
      "1605                         1.0                           0.0   \n",
      "1606                         0.0                           0.0   \n",
      "1607                         0.0                           0.0   \n",
      "1608                         1.0                           0.0   \n",
      "1609                         0.0                           0.0   \n",
      "\n",
      "      A_Venue n-5_Optus Stadium  A_Venue n-5_SCG  A_Venue n-5_TIO Stadium  \\\n",
      "0                           0.0              0.0                      0.0   \n",
      "1                           0.0              0.0                      0.0   \n",
      "2                           0.0              0.0                      0.0   \n",
      "3                           0.0              0.0                      0.0   \n",
      "4                           0.0              0.0                      0.0   \n",
      "...                         ...              ...                      ...   \n",
      "1605                        0.0              0.0                      0.0   \n",
      "1606                        0.0              0.0                      0.0   \n",
      "1607                        0.0              0.0                      0.0   \n",
      "1608                        0.0              0.0                      0.0   \n",
      "1609                        0.0              0.0                      0.0   \n",
      "\n",
      "      A_Venue n-5_TIO Traeger Park  \\\n",
      "0                              0.0   \n",
      "1                              0.0   \n",
      "2                              0.0   \n",
      "3                              0.0   \n",
      "4                              0.0   \n",
      "...                            ...   \n",
      "1605                           0.0   \n",
      "1606                           0.0   \n",
      "1607                           0.0   \n",
      "1608                           0.0   \n",
      "1609                           0.0   \n",
      "\n",
      "      A_Venue n-5_University of Tasmania Stadium  A_Venue n-5_Westpac Stadium  \n",
      "0                                            0.0                          0.0  \n",
      "1                                            0.0                          0.0  \n",
      "2                                            0.0                          0.0  \n",
      "3                                            0.0                          0.0  \n",
      "4                                            0.0                          0.0  \n",
      "...                                          ...                          ...  \n",
      "1605                                         0.0                          0.0  \n",
      "1606                                         0.0                          0.0  \n",
      "1607                                         0.0                          0.0  \n",
      "1608                                         0.0                          0.0  \n",
      "1609                                         1.0                          0.0  \n",
      "\n",
      "[1610 rows x 1662 columns]\n",
      "Split: 1\n",
      "found new best classify\n",
      "Split: 2\n",
      "Split: 3\n",
      "Split: 4\n",
      "Split: 5\n",
      "Split: 6\n",
      "Split: 7\n",
      "Split: 8\n",
      "Split: 9\n",
      "Split: 10\n",
      "Best win percentage split = 67.70186335403726\n",
      "Training Testing Accuracy: 60.56% (3.46%)\n",
      "(1601, 1)\n",
      "(1601, 1)\n",
      "(1601, 1976)\n",
      "optimising hyperparameters\n",
      "Fitting 30 folds for each of 100 candidates, totalling 3000 fits\n"
     ]
    },
    {
     "name": "stderr",
     "output_type": "stream",
     "text": [
      "[Parallel(n_jobs=1)]: Using backend SequentialBackend with 1 concurrent workers.\n",
      "[Parallel(n_jobs=1)]: Done 3000 out of 3000 | elapsed:  3.9min finished\n"
     ]
    },
    {
     "name": "stdout",
     "output_type": "stream",
     "text": [
      "Mean Accuracy: 0.611\n",
      "Config: {'alpha': 0.9500000000000001}\n",
      "      Ladder Pos_H  Form_H  Season Wins_H  Season Loss_H  Season Draw_H  \\\n",
      "0              2.0     6.0            6.0            0.0            0.0   \n",
      "1              3.0     5.0            5.0            1.0            0.0   \n",
      "2             14.0     2.0            2.0            4.0            0.0   \n",
      "3             16.0     1.0            1.0            5.0            0.0   \n",
      "4              6.0     4.0            4.0            2.0            0.0   \n",
      "...            ...     ...            ...            ...            ...   \n",
      "1596           3.0     4.0           16.0            6.0            0.0   \n",
      "1597           4.0     4.0           15.0            7.0            0.0   \n",
      "1598           1.0     4.0           17.0            4.0            1.0   \n",
      "1599           2.0     6.0           17.0            5.0            0.0   \n",
      "1600           1.0     4.0           17.0            4.0            1.0   \n",
      "\n",
      "      H_H/A? n-1  H_H/A Win? n-1  H_Points For n-1  H_Points Against n-1  \\\n",
      "0            1.0             1.0             131.0                  87.0   \n",
      "1            1.0             0.0              83.0                  93.0   \n",
      "2            1.0             0.0              55.0                 115.0   \n",
      "3            1.0             0.0              67.0                 137.0   \n",
      "4            1.0             1.0              99.0                  54.0   \n",
      "...          ...             ...               ...                   ...   \n",
      "1596         1.0             0.0              43.0                  86.0   \n",
      "1597         1.0             0.0              60.0                  93.0   \n",
      "1598         0.0             0.0              93.0                  60.0   \n",
      "1599         0.0             0.0              86.0                  43.0   \n",
      "1600         0.0             0.0             125.0                  42.0   \n",
      "\n",
      "      H_Margin n-1  ...  A_Venue n-6_Mars Stadium  A_Venue n-6_Marvel Stadium  \\\n",
      "0             44.0  ...                       0.0                         0.0   \n",
      "1            -10.0  ...                       0.0                         0.0   \n",
      "2            -60.0  ...                       0.0                         0.0   \n",
      "3            -70.0  ...                       0.0                         1.0   \n",
      "4             45.0  ...                       0.0                         1.0   \n",
      "...            ...  ...                       ...                         ...   \n",
      "1596         -43.0  ...                       0.0                         0.0   \n",
      "1597         -33.0  ...                       0.0                         0.0   \n",
      "1598          33.0  ...                       0.0                         0.0   \n",
      "1599          43.0  ...                       1.0                         0.0   \n",
      "1600          83.0  ...                       0.0                         1.0   \n",
      "\n",
      "      A_Venue n-6_Metricon Stadium  A_Venue n-6_Optus Stadium  \\\n",
      "0                              0.0                        0.0   \n",
      "1                              0.0                        0.0   \n",
      "2                              0.0                        0.0   \n",
      "3                              0.0                        0.0   \n",
      "4                              0.0                        0.0   \n",
      "...                            ...                        ...   \n",
      "1596                           1.0                        0.0   \n",
      "1597                           0.0                        0.0   \n",
      "1598                           0.0                        0.0   \n",
      "1599                           0.0                        0.0   \n",
      "1600                           0.0                        0.0   \n",
      "\n",
      "      A_Venue n-6_Riverway Stadium  A_Venue n-6_SCG  A_Venue n-6_TIO Stadium  \\\n",
      "0                              0.0              0.0                      0.0   \n",
      "1                              0.0              0.0                      0.0   \n",
      "2                              0.0              0.0                      0.0   \n",
      "3                              0.0              0.0                      0.0   \n",
      "4                              0.0              0.0                      0.0   \n",
      "...                            ...              ...                      ...   \n",
      "1596                           0.0              0.0                      0.0   \n",
      "1597                           0.0              0.0                      0.0   \n",
      "1598                           0.0              0.0                      0.0   \n",
      "1599                           0.0              0.0                      0.0   \n",
      "1600                           0.0              0.0                      0.0   \n",
      "\n",
      "      A_Venue n-6_TIO Traeger Park  \\\n",
      "0                              0.0   \n",
      "1                              0.0   \n",
      "2                              0.0   \n",
      "3                              0.0   \n",
      "4                              0.0   \n",
      "...                            ...   \n",
      "1596                           0.0   \n",
      "1597                           0.0   \n",
      "1598                           0.0   \n",
      "1599                           0.0   \n",
      "1600                           0.0   \n",
      "\n",
      "      A_Venue n-6_University of Tasmania Stadium  A_Venue n-6_Westpac Stadium  \n",
      "0                                            0.0                          0.0  \n",
      "1                                            0.0                          0.0  \n",
      "2                                            0.0                          0.0  \n",
      "3                                            0.0                          0.0  \n",
      "4                                            0.0                          0.0  \n",
      "...                                          ...                          ...  \n",
      "1596                                         0.0                          0.0  \n",
      "1597                                         0.0                          0.0  \n",
      "1598                                         0.0                          0.0  \n",
      "1599                                         0.0                          0.0  \n",
      "1600                                         0.0                          0.0  \n",
      "\n",
      "[1601 rows x 1976 columns]\n",
      "Split: 1\n",
      "found new best classify\n",
      "Split: 2\n",
      "Split: 3\n",
      "found new best classify\n",
      "Split: 4\n",
      "Split: 5\n",
      "Split: 6\n",
      "Split: 7\n",
      "Split: 8\n",
      "Split: 9\n",
      "Split: 10\n",
      "Best win percentage split = 70.0\n",
      "Training Testing Accuracy: 61.34% (5.52%)\n",
      "(1592, 1)\n",
      "(1592, 1)\n",
      "(1592, 2289)\n",
      "optimising hyperparameters\n",
      "Fitting 30 folds for each of 100 candidates, totalling 3000 fits\n"
     ]
    },
    {
     "name": "stderr",
     "output_type": "stream",
     "text": [
      "[Parallel(n_jobs=1)]: Using backend SequentialBackend with 1 concurrent workers.\n",
      "[Parallel(n_jobs=1)]: Done 3000 out of 3000 | elapsed:  4.8min finished\n"
     ]
    },
    {
     "name": "stdout",
     "output_type": "stream",
     "text": [
      "Mean Accuracy: 0.608\n",
      "Config: {'alpha': 1.0}\n",
      "      Ladder Pos_H  Form_H  Season Wins_H  Season Loss_H  Season Draw_H  \\\n",
      "0             10.0     3.0            3.0            4.0            0.0   \n",
      "1              2.0     6.0            6.0            1.0            0.0   \n",
      "2              3.0     6.0            6.0            1.0            0.0   \n",
      "3             13.0     3.0            3.0            4.0            0.0   \n",
      "4              5.0     5.0            5.0            2.0            0.0   \n",
      "...            ...     ...            ...            ...            ...   \n",
      "1587           3.0     5.0           16.0            6.0            0.0   \n",
      "1588           4.0     4.0           15.0            7.0            0.0   \n",
      "1589           1.0     5.0           17.0            4.0            1.0   \n",
      "1590           2.0     6.0           17.0            5.0            0.0   \n",
      "1591           1.0     5.0           17.0            4.0            1.0   \n",
      "\n",
      "      H_H/A? n-1  H_H/A Win? n-1  H_Points For n-1  H_Points Against n-1  \\\n",
      "0            1.0             1.0             108.0                  82.0   \n",
      "1            1.0             0.0              85.0                 113.0   \n",
      "2            0.0             0.0             119.0                  82.0   \n",
      "3            1.0             1.0             114.0                  54.0   \n",
      "4            1.0             0.0              82.0                 119.0   \n",
      "...          ...             ...               ...                   ...   \n",
      "1587         1.0             0.0              43.0                  86.0   \n",
      "1588         1.0             0.0              60.0                  93.0   \n",
      "1589         0.0             0.0              93.0                  60.0   \n",
      "1590         0.0             0.0              86.0                  43.0   \n",
      "1591         0.0             0.0             125.0                  42.0   \n",
      "\n",
      "      H_Margin n-1  ...  A_Venue n-7_Mars Stadium  A_Venue n-7_Marvel Stadium  \\\n",
      "0             26.0  ...                       0.0                         1.0   \n",
      "1            -28.0  ...                       0.0                         1.0   \n",
      "2             37.0  ...                       0.0                         0.0   \n",
      "3             60.0  ...                       0.0                         1.0   \n",
      "4            -37.0  ...                       0.0                         0.0   \n",
      "...            ...  ...                       ...                         ...   \n",
      "1587         -43.0  ...                       0.0                         0.0   \n",
      "1588         -33.0  ...                       0.0                         0.0   \n",
      "1589          33.0  ...                       0.0                         0.0   \n",
      "1590          43.0  ...                       0.0                         0.0   \n",
      "1591          83.0  ...                       1.0                         0.0   \n",
      "\n",
      "      A_Venue n-7_Metricon Stadium  A_Venue n-7_Optus Stadium  \\\n",
      "0                              0.0                        0.0   \n",
      "1                              0.0                        0.0   \n",
      "2                              0.0                        0.0   \n",
      "3                              0.0                        0.0   \n",
      "4                              0.0                        0.0   \n",
      "...                            ...                        ...   \n",
      "1587                           1.0                        0.0   \n",
      "1588                           1.0                        0.0   \n",
      "1589                           0.0                        0.0   \n",
      "1590                           0.0                        0.0   \n",
      "1591                           0.0                        0.0   \n",
      "\n",
      "      A_Venue n-7_Riverway Stadium  A_Venue n-7_SCG  A_Venue n-7_TIO Stadium  \\\n",
      "0                              0.0              0.0                      0.0   \n",
      "1                              0.0              0.0                      0.0   \n",
      "2                              0.0              0.0                      0.0   \n",
      "3                              0.0              0.0                      0.0   \n",
      "4                              0.0              0.0                      0.0   \n",
      "...                            ...              ...                      ...   \n",
      "1587                           0.0              0.0                      0.0   \n",
      "1588                           0.0              0.0                      0.0   \n",
      "1589                           0.0              0.0                      0.0   \n",
      "1590                           0.0              0.0                      0.0   \n",
      "1591                           0.0              0.0                      0.0   \n",
      "\n",
      "      A_Venue n-7_TIO Traeger Park  \\\n",
      "0                              0.0   \n",
      "1                              0.0   \n",
      "2                              0.0   \n",
      "3                              0.0   \n",
      "4                              0.0   \n",
      "...                            ...   \n",
      "1587                           0.0   \n",
      "1588                           0.0   \n",
      "1589                           0.0   \n",
      "1590                           0.0   \n",
      "1591                           0.0   \n",
      "\n",
      "      A_Venue n-7_University of Tasmania Stadium  A_Venue n-7_Westpac Stadium  \n",
      "0                                            0.0                          0.0  \n",
      "1                                            0.0                          0.0  \n",
      "2                                            0.0                          0.0  \n",
      "3                                            0.0                          0.0  \n",
      "4                                            0.0                          0.0  \n",
      "...                                          ...                          ...  \n",
      "1587                                         0.0                          0.0  \n",
      "1588                                         0.0                          0.0  \n",
      "1589                                         0.0                          0.0  \n",
      "1590                                         0.0                          0.0  \n",
      "1591                                         0.0                          0.0  \n",
      "\n",
      "[1592 rows x 2289 columns]\n",
      "Split: 1\n",
      "found new best classify\n",
      "Split: 2\n",
      "Split: 3\n",
      "Split: 4\n",
      "Split: 5\n",
      "found new best classify\n",
      "Split: 6\n",
      "Split: 7\n",
      "Split: 8\n",
      "Split: 9\n",
      "Split: 10\n",
      "Best win percentage split = 69.18238993710692\n",
      "Training Testing Accuracy: 60.87% (3.24%)\n",
      "(1565, 1)\n",
      "(1565, 1)\n",
      "(1565, 3228)\n",
      "optimising hyperparameters\n",
      "Fitting 30 folds for each of 100 candidates, totalling 3000 fits\n"
     ]
    },
    {
     "name": "stderr",
     "output_type": "stream",
     "text": [
      "[Parallel(n_jobs=1)]: Using backend SequentialBackend with 1 concurrent workers.\n",
      "[Parallel(n_jobs=1)]: Done 3000 out of 3000 | elapsed:  6.8min finished\n"
     ]
    },
    {
     "name": "stdout",
     "output_type": "stream",
     "text": [
      "Mean Accuracy: 0.603\n",
      "Config: {'alpha': 0.060000000000000005}\n",
      "      Ladder Pos_H  Form_H  Season Wins_H  Season Loss_H  Season Draw_H  \\\n",
      "0              5.0     7.0            7.0            3.0            0.0   \n",
      "1             18.0     0.0            0.0           10.0            0.0   \n",
      "2              9.0     5.0            5.0            5.0            0.0   \n",
      "3             13.0     4.0            4.0            6.0            0.0   \n",
      "4             16.0     2.0            2.0            8.0            0.0   \n",
      "...            ...     ...            ...            ...            ...   \n",
      "1560           3.0     7.0           16.0            6.0            0.0   \n",
      "1561           4.0     7.0           15.0            7.0            0.0   \n",
      "1562           1.0     6.0           17.0            4.0            1.0   \n",
      "1563           2.0     9.0           17.0            5.0            0.0   \n",
      "1564           1.0     6.0           17.0            4.0            1.0   \n",
      "\n",
      "      H_H/A? n-1  H_H/A Win? n-1  H_Points For n-1  H_Points Against n-1  \\\n",
      "0            1.0             0.0              71.0                 115.0   \n",
      "1            1.0             0.0              54.0                 148.0   \n",
      "2            0.0             1.0              59.0                  66.0   \n",
      "3            1.0             0.0              71.0                 123.0   \n",
      "4            1.0             0.0              65.0                 133.0   \n",
      "...          ...             ...               ...                   ...   \n",
      "1560         1.0             0.0              43.0                  86.0   \n",
      "1561         1.0             0.0              60.0                  93.0   \n",
      "1562         0.0             0.0              93.0                  60.0   \n",
      "1563         0.0             0.0              86.0                  43.0   \n",
      "1564         0.0             0.0             125.0                  42.0   \n",
      "\n",
      "      H_Margin n-1  ...  A_Venue n-10_Mars Stadium  \\\n",
      "0            -44.0  ...                        0.0   \n",
      "1            -94.0  ...                        0.0   \n",
      "2             -7.0  ...                        0.0   \n",
      "3            -52.0  ...                        0.0   \n",
      "4            -68.0  ...                        0.0   \n",
      "...            ...  ...                        ...   \n",
      "1560         -43.0  ...                        0.0   \n",
      "1561         -33.0  ...                        0.0   \n",
      "1562          33.0  ...                        0.0   \n",
      "1563          43.0  ...                        0.0   \n",
      "1564          83.0  ...                        0.0   \n",
      "\n",
      "      A_Venue n-10_Marvel Stadium  A_Venue n-10_Metricon Stadium  \\\n",
      "0                             0.0                            0.0   \n",
      "1                             0.0                            0.0   \n",
      "2                             0.0                            0.0   \n",
      "3                             1.0                            0.0   \n",
      "4                             0.0                            0.0   \n",
      "...                           ...                            ...   \n",
      "1560                          0.0                            0.0   \n",
      "1561                          0.0                            0.0   \n",
      "1562                          0.0                            0.0   \n",
      "1563                          1.0                            0.0   \n",
      "1564                          1.0                            0.0   \n",
      "\n",
      "      A_Venue n-10_Optus Stadium  A_Venue n-10_Riverway Stadium  \\\n",
      "0                            0.0                            0.0   \n",
      "1                            0.0                            0.0   \n",
      "2                            0.0                            0.0   \n",
      "3                            0.0                            0.0   \n",
      "4                            0.0                            0.0   \n",
      "...                          ...                            ...   \n",
      "1560                         0.0                            0.0   \n",
      "1561                         1.0                            0.0   \n",
      "1562                         0.0                            0.0   \n",
      "1563                         0.0                            0.0   \n",
      "1564                         0.0                            0.0   \n",
      "\n",
      "      A_Venue n-10_SCG  A_Venue n-10_TIO Stadium  \\\n",
      "0                  0.0                       0.0   \n",
      "1                  0.0                       0.0   \n",
      "2                  0.0                       0.0   \n",
      "3                  0.0                       0.0   \n",
      "4                  0.0                       0.0   \n",
      "...                ...                       ...   \n",
      "1560               0.0                       0.0   \n",
      "1561               0.0                       0.0   \n",
      "1562               0.0                       0.0   \n",
      "1563               0.0                       0.0   \n",
      "1564               0.0                       0.0   \n",
      "\n",
      "      A_Venue n-10_TIO Traeger Park  \\\n",
      "0                               0.0   \n",
      "1                               0.0   \n",
      "2                               0.0   \n",
      "3                               0.0   \n",
      "4                               0.0   \n",
      "...                             ...   \n",
      "1560                            0.0   \n",
      "1561                            0.0   \n",
      "1562                            0.0   \n",
      "1563                            0.0   \n",
      "1564                            0.0   \n",
      "\n",
      "      A_Venue n-10_University of Tasmania Stadium  \\\n",
      "0                                             0.0   \n",
      "1                                             0.0   \n",
      "2                                             0.0   \n",
      "3                                             0.0   \n",
      "4                                             0.0   \n",
      "...                                           ...   \n",
      "1560                                          0.0   \n",
      "1561                                          0.0   \n",
      "1562                                          0.0   \n",
      "1563                                          0.0   \n",
      "1564                                          0.0   \n",
      "\n",
      "      A_Venue n-10_Westpac Stadium  \n",
      "0                              0.0  \n",
      "1                              0.0  \n",
      "2                              0.0  \n",
      "3                              0.0  \n",
      "4                              0.0  \n",
      "...                            ...  \n",
      "1560                           0.0  \n",
      "1561                           0.0  \n",
      "1562                           0.0  \n",
      "1563                           0.0  \n",
      "1564                           0.0  \n",
      "\n",
      "[1565 rows x 3228 columns]\n",
      "Split: 1\n",
      "found new best classify\n",
      "Split: 2\n",
      "found new best classify\n",
      "Split: 3\n",
      "Split: 4\n",
      "Split: 5\n",
      "Split: 6\n",
      "Split: 7\n",
      "Split: 8\n",
      "Split: 9\n",
      "found new best classify\n",
      "Split: 10\n",
      "Best win percentage split = 67.94871794871796\n",
      "Training Testing Accuracy: 61.79% (3.42%)\n"
     ]
    }
   ],
   "source": [
    "n_games = [1,2,3,4,5,6,7,10]\n",
    "for n in n_games:\n",
    "    run_all_BNB(n)"
   ]
  },
  {
   "cell_type": "markdown",
   "metadata": {},
   "source": [
    "# LAZY PREDICT"
   ]
  },
  {
   "cell_type": "code",
   "execution_count": null,
   "metadata": {},
   "outputs": [],
   "source": []
  },
  {
   "cell_type": "code",
   "execution_count": null,
   "metadata": {},
   "outputs": [],
   "source": [
    "import pandas as pd\n",
    "import numpy as np\n",
    "from lazypredict.Supervised import LazyClassifier, LazyRegressor\n",
    "from sklearn.model_selection import train_test_split\n",
    "from Gather_AFL_Data import gatherer as gad\n",
    "from sklearn.preprocessing import OneHotEncoder\n",
    "from sklearn.model_selection import StratifiedKFold\n",
    "import pickle"
   ]
  },
  {
   "cell_type": "code",
   "execution_count": null,
   "metadata": {},
   "outputs": [],
   "source": [
    "def eval_lazy_predict(x, y, my):\n",
    "    cv = StratifiedKFold(n_splits=10, shuffle=True)\n",
    "    all_clf_models = []\n",
    "    all_reg_models = []\n",
    "    count = 0\n",
    "    for train,test in cv.split(x,y):\n",
    "       # print(len(train))\n",
    "        count = count + 1\n",
    "        print(\"Split: \" + str(count))\n",
    "        #classifier\n",
    "        X_train = x.loc[train]\n",
    "        X_test = x.loc[test]\n",
    "        y_train = y.loc[train]\n",
    "        y_test = y.loc[test]\n",
    "        my_train = my.loc[train]\n",
    "        my_test = my.loc[test]\n",
    "        clf = LazyClassifier(predictions=True)\n",
    "        reg = LazyRegressor(predictions=True)\n",
    "        if(count == 1):\n",
    "            all_clf_models, predictions = clf.fit(X_train, X_test, y_train, y_test)\n",
    "          #  all_reg_models, reg_predictions = reg.fit(X_train, X_test, my_train, my_test)\n",
    "            all_clf_models.sort_index(inplace=True)\n",
    "           # all_reg_models.sort_index(inplace=True)\n",
    "            #print(all_models)\n",
    "        else:\n",
    "            new_clf_models, predictions = clf.fit(X_train, X_test, y_train, y_test)\n",
    "           # new_reg_models, reg_predictions = reg.fit(X_train, X_test, my_train, my_test)\n",
    "            new_clf_models.sort_index(inplace=True)\n",
    "           # new_reg_models.sort_index(inplace=True)\n",
    "            #print(new_models)\n",
    "            all_clf_models = all_clf_models.add(new_clf_models)\n",
    "           # all_reg_models = all_reg_models.add(new_reg_models)\n",
    "    return all_clf_models#, all_reg_models"
   ]
  },
  {
   "cell_type": "code",
   "execution_count": null,
   "metadata": {
    "scrolled": true
   },
   "outputs": [],
   "source": [
    "def run_all_lp(n_games):\n",
    "    h = get_headers(n_games)\n",
    "    h = clean_headers(h)\n",
    "    cv = generate_categorical_headers(h)\n",
    "\n",
    "    #to get names of teams from index\n",
    "    g = gad()\n",
    "    teams = g.createTeamDict()\n",
    "\n",
    "    #load Data\n",
    "    x_data = pd.read_csv('Data/assembled_stat_matrix_no2020'+str(n_games)+'_games.csv')\n",
    "\n",
    "    #make empty OHE object\n",
    "    na_enc = OneHotEncoder(handle_unknown='ignore', sparse=False)\n",
    "\n",
    "    #one hot encode data with new one hot encoder, saves ohe for later use\n",
    "    x_data, ohe = ohe_data(x_data, na_enc, 0, cv)\n",
    "\n",
    "    #reset headers\n",
    "    feature_names = x_data.columns\n",
    "\n",
    "    #loads the ylabel matrix,\n",
    "    y_label = pd.read_csv('Data/assembled_labelled_ymatrix_no2020'+str(n_games)+'_games.csv')\n",
    "\n",
    "    #do margins in a second when this works\n",
    "    margin_label = pd.read_csv('Data/assembled_margin_ymatrix_no2020'+str(n_games)+'_games.csv')\n",
    "    margin_label = abs(margin_label)\n",
    "\n",
    "    clf_lp = eval_lazy_predict(x_data, y_label, margin_label)\n",
    "\n",
    "    clf_lp.sort_values(by='Accuracy', ascending=False, inplace=True)\n",
    "    #reg_lp.sort_values(by='RMSE', inplace=True)\n",
    "    pct_lp = clf_lp*10\n",
    "    print(pct_lp)"
   ]
  },
  {
   "cell_type": "code",
   "execution_count": null,
   "metadata": {
    "scrolled": true
   },
   "outputs": [],
   "source": [
    "#as one big script to go through n_games\n",
    "n_games = [1,2,3,4,5,6,7,10]\n",
    "for n in n_games:\n",
    "    run_all_lp(n)"
   ]
  },
  {
   "cell_type": "code",
   "execution_count": null,
   "metadata": {},
   "outputs": [],
   "source": []
  },
  {
   "cell_type": "code",
   "execution_count": null,
   "metadata": {},
   "outputs": [],
   "source": []
  },
  {
   "cell_type": "code",
   "execution_count": null,
   "metadata": {},
   "outputs": [],
   "source": []
  },
  {
   "cell_type": "markdown",
   "metadata": {},
   "source": [
    "# Deep Learningggg"
   ]
  },
  {
   "cell_type": "code",
   "execution_count": null,
   "metadata": {},
   "outputs": [],
   "source": [
    "def build_DNN_model(x_len):\n",
    "    model = Sequential()\n",
    "    model.add(Dense(63, input_dim = x_len))\n",
    "    model.add(Activation('relu'))\n",
    "    model.add(Dropout(0.03))\n",
    "    model.add(BatchNormalization())\n",
    "\n",
    "    model.add(Dense(32))\n",
    "    model.add(Activation('relu'))\n",
    "    model.add(Dropout(0.02))\n",
    "\n",
    "    model.add(Dense(16))\n",
    "    model.add(Activation('relu'))\n",
    "\n",
    "    model.add(Dense(8))\n",
    "    model.add(Activation('relu'))\n",
    "    #add output layer\n",
    "    model.add(Dense(1, activation='linear'))\n",
    "    opt = tf.keras.optimizers.Adamax(learning_rate=0.003)\n",
    "\n",
    "    model.compile(loss=\"mean_squared_error\", optimizer=opt, metrics=[tf.keras.metrics.RootMeanSquaredError()])\n",
    "    print(model.summary())\n",
    "    return model"
   ]
  },
  {
   "cell_type": "code",
   "execution_count": null,
   "metadata": {},
   "outputs": [],
   "source": [
    "def build_CNN_model(x_len):\n",
    "    #del model\n",
    "    model = Sequential()\n",
    "    model.add(Conv1D(filters=32, kernel_size=14,\n",
    "                     input_shape=(x_len, 1)))\n",
    "    model.add(Activation('relu'))\n",
    "    model.add(Dropout(0.2))\n",
    "    model.add(Conv1D(filters=16, kernel_size=10,\n",
    "                     input_shape=(32, 1)))\n",
    "    model.add(Activation('linear'))\n",
    "    model.add(Dropout(0.1))\n",
    "    model.add(Conv1D(filters=10, kernel_size=8,\n",
    "                     input_shape=(16, 1)))\n",
    "    model.add(Activation('linear'))\n",
    "    model.add(MaxPooling1D(pool_size=2))\n",
    "    model.add(BatchNormalization())\n",
    "    model.add(Flatten())\n",
    "    model.add(Dense(64, activation='linear'))\n",
    "    model.add(Dense(32, activation='linear'))\n",
    "    model.add(Dense(16, activation='linear'))\n",
    "    model.add(BatchNormalization())\n",
    "    model.add(Dense(1, activation='linear'))\n",
    "    opt = tf.keras.optimizers.Adamax(learning_rate=0.003)#, beta_1=0.9, beta_2=0.999, epsilon=1e-07, name=\"Adamax\"\n",
    "\n",
    "\n",
    "    model.compile(loss=\"mean_squared_error\", optimizer=opt, metrics=[tf.keras.metrics.RootMeanSquaredError()])\n",
    "\n",
    "    print(model.summary())\n",
    "    return model"
   ]
  },
  {
   "cell_type": "code",
   "execution_count": null,
   "metadata": {},
   "outputs": [],
   "source": [
    "#flag = 0 (DNN)\n",
    "#flag = 1 (CNN)\n",
    "def eval_dl(x,y,k,flag):\n",
    "    cv = StratifiedKFold(n_splits=k,shuffle=True)\n",
    "    best_model = []\n",
    "    results = []\n",
    "    highest = 0\n",
    "    i = 1\n",
    "    for train,test in cv.split(x,y):\n",
    "        if(flag == 0):\n",
    "            model = build_DNN_model(x[train].shape[1])\n",
    "        if(flag == 1):\n",
    "            x = x.reshape(x.shape[0], x.shape[1], 1)\n",
    "            model = build_CNN_model(x[train].shape[1])\n",
    "        bs = ((x[train].shape[0])/20)\n",
    "        bs = round(bs)\n",
    "        history = model.fit(x[train], y[train], validation_data=(x[test], y[test]), epochs = 50, batch_size=bs)\n",
    "        _, accuracy = model.evaluate(x[test], y[test], batch_size=bs, verbose=0)\n",
    "        accuracy = accuracy * 100\n",
    "        print(\"accuracy for model \" + str(i) + \" is \" + str(accuracy))\n",
    "        if(accuracy > highest):\n",
    "            highest = accuracy\n",
    "            best_model = model\n",
    "        results.append(accuracy)\n",
    "        i = i + 1\n",
    "    print(\"highest accuracy is: \" + str(highest))\n",
    "    print(\"Training Testing Accuracy: %.2f%% (%.2f%%)\" % (np.mean(results), np.std(results)))\n",
    "    return best_model"
   ]
  }
 ],
 "metadata": {
  "kernelspec": {
   "display_name": "Python 3 (ipykernel)",
   "language": "python",
   "name": "python3"
  },
  "language_info": {
   "codemirror_mode": {
    "name": "ipython",
    "version": 3
   },
   "file_extension": ".py",
   "mimetype": "text/x-python",
   "name": "python",
   "nbconvert_exporter": "python",
   "pygments_lexer": "ipython3",
   "version": "3.8.5"
  }
 },
 "nbformat": 4,
 "nbformat_minor": 4
}
