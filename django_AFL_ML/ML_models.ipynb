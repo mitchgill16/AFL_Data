{
 "cells": [
  {
   "cell_type": "code",
   "execution_count": null,
   "metadata": {},
   "outputs": [],
   "source": [
    "###Models to do\n",
    "# models on cleaned data\n",
    "# models on averages/trend data\n",
    "# models on new data (eg. PAV, ladder, ohe venue)\n",
    "    #make sure to include absolute margin when testing and evaluating these\n",
    "    #keep track in excel?\n",
    "# lazy predict"
   ]
  },
  {
   "cell_type": "code",
   "execution_count": null,
   "metadata": {},
   "outputs": [],
   "source": [
    "import re\n",
    "import xgboost as xgb\n",
    "import tensorflow as tf; print(tf.__version__)\n",
    "import keras; print(keras.__version__)\n",
    "#import torch.nn as nn\n",
    "#import touch.nn.functional as F\n",
    "import pandas as pd\n",
    "import numpy as np\n",
    "from sklearn.model_selection import train_test_split\n",
    "from sklearn.metrics import accuracy_score\n",
    "from random import randint\n",
    "from Gather_AFL_Data import gatherer as gad\n",
    "#from fdnn import feature_extractor as fex\n",
    "import skopt\n",
    "from skopt.searchcv import BayesSearchCV\n",
    "from skopt.space import Real, Categorical, Integer\n",
    "from sklearn.model_selection import StratifiedKFold\n",
    "import pickle\n",
    "from sklearn.preprocessing import OneHotEncoder\n",
    "from tensorflow.keras.models import Sequential\n",
    "from tensorflow.keras.layers import Dense\n",
    "from tensorflow.keras.layers import Flatten\n",
    "from tensorflow.keras.layers import Dropout\n",
    "from tensorflow.keras.layers import Input\n",
    "from tensorflow.keras.layers import BatchNormalization\n",
    "from tensorflow.keras.layers import Conv1D\n",
    "from tensorflow.keras.layers import MaxPooling1D\n",
    "from tensorflow.keras.utils import to_categorical\n",
    "from keras.utils.vis_utils import plot_model\n",
    "from tensorflow.keras.layers import LSTM\n",
    "from tensorflow.keras.layers import Embedding\n",
    "from tensorflow.keras.preprocessing import sequence\n",
    "import matplotlib.pyplot as plt\n",
    "from tensorflow.keras.layers import Activation\n",
    "from sklearn.metrics import mean_squared_error\n",
    "from math import sqrt\n",
    "from sklearn.model_selection import cross_val_score, KFold"
   ]
  },
  {
   "cell_type": "code",
   "execution_count": 4,
   "metadata": {},
   "outputs": [],
   "source": [
    "#get headers\n",
    "#feed this into a bigger function which specifies the amount of games to go through \n",
    "def get_headers(n_games):\n",
    "    headers = ['Round', 'Home_Team', 'Away_Team', 'Venue']\n",
    "    example_file = pd.read_csv('Data/Fremantle_clean_stats.csv')\n",
    "    cl_h = example_file.columns\n",
    "    cl_h = cl_h[:-5]\n",
    "    ladder_header = ['Ladder Pos_H', 'Form_H', 'Season Wins_H', 'Season Loss_H', 'Season Draw_H']\n",
    "    headers = [*headers, *ladder_header]\n",
    "    j = 1\n",
    "    while j <= n_games:\n",
    "        for x in cl_h:\n",
    "            if 'Match_ID' in x or 'Year' in x:\n",
    "                continue\n",
    "            x = 'H_'+ x + ' n-' + str(j)\n",
    "            headers.append(x)\n",
    "        j = j + 1\n",
    "    j = 1\n",
    "    ladder_header = ['Ladder Pos_A', 'Form_A', 'Season Wins_A', 'Season Loss_A', 'Season Draw_A']\n",
    "    headers = [*headers, *ladder_header]\n",
    "    while j <= n_games:\n",
    "        for x in cl_h:\n",
    "            if 'Match_ID' in x or 'Year' in x:\n",
    "                continue\n",
    "            x = 'A_'+ x + ' n-' + str(j)\n",
    "            headers.append(x)\n",
    "        j = j + 1\n",
    "    return headers\n"
   ]
  },
  {
   "cell_type": "code",
   "execution_count": 5,
   "metadata": {},
   "outputs": [],
   "source": [
    "def clean_headers(h):\n",
    "    headers = []\n",
    "    for x in h:\n",
    "        if '<' in x or '>' in x:\n",
    "            x = x.replace('<',\"lt_\")\n",
    "            x = x.replace('>', \"gt_\")\n",
    "            #print(x)\n",
    "        headers.append(str(x))\n",
    "    return headers"
   ]
  },
  {
   "cell_type": "code",
   "execution_count": 6,
   "metadata": {},
   "outputs": [],
   "source": [
    "def generate_categorical_headers(h):\n",
    "    cat_var = ['Round', 'Home_Team', 'Away_Team']\n",
    "    skip = 0\n",
    "    for x in h:\n",
    "        if 'Round' in x:\n",
    "            if (skip == 0):\n",
    "                skip = 1\n",
    "                continue\n",
    "            cat_var.append(x)\n",
    "            #print(x)\n",
    "        elif 'Team_against_ID' in x:\n",
    "            #print(x)\n",
    "            cat_var.append(x)\n",
    "        elif 'Venue' in x:\n",
    "            cat_var.append(x)\n",
    "    return cat_var"
   ]
  },
  {
   "cell_type": "code",
   "execution_count": 16,
   "metadata": {},
   "outputs": [],
   "source": [
    "#one hot encode data and transform the X_data\n",
    "#first redo, find the categorial variables\n",
    "def ohe_data(x_data, enc, flag,cat_var):\n",
    "    #data has not been previously one hot encoded\n",
    "    if (flag == 0):\n",
    "        #get columns with categorical data and drop from main DF\n",
    "        categorical_data = x_data[cat_var]\n",
    "        x_data = x_data.drop(cat_var, axis = 1)\n",
    "        #define and fit new OHE. Use it on our categorical data by transforming\n",
    "        ohe = OneHotEncoder(handle_unknown='ignore', sparse=False)\n",
    "        ohe = ohe.fit(categorical_data)\n",
    "        categorical_data = ohe.transform(categorical_data)\n",
    "        #get feature names for better labelling\n",
    "        fn = ohe.get_feature_names(cat_var)\n",
    "        #make a dataframe with new OHE data and feature names\n",
    "            #would have been good to have coded it like this for my Masters project...\n",
    "        categorical_data = pd.DataFrame(categorical_data)\n",
    "        categorical_data.columns = fn\n",
    "        #ensure that it won't get cranky about any different indexes(shouldn't be any but just a good check)\n",
    "        x_data.reset_index(drop=True, inplace=True)\n",
    "        categorical_data.reset_index(drop=True, inplace=True)\n",
    "        #concatenate along column axis\n",
    "        x_data = pd.concat([x_data, categorical_data], axis = 1)\n",
    "    else:\n",
    "        #same as above except used already fitted ohe\n",
    "        categorical_data = x_data[cat_var]\n",
    "        x_data = x_data.drop(cat_var, axis = 1)\n",
    "        categorical_data = enc.transform(categorical_data)\n",
    "        fn = enc.get_feature_names(cat_var)\n",
    "        categorical_data = pd.DataFrame(categorical_data)\n",
    "        categorical_data.columns = fn\n",
    "        x_data.reset_index(drop=True, inplace=True)\n",
    "        categorical_data.reset_index(drop=True, inplace=True)\n",
    "        x_data = pd.concat([x_data, categorical_data], axis = 1, ignore_index=True)\n",
    "        ohe = enc\n",
    "    return x_data, ohe"
   ]
  },
  {
   "cell_type": "code",
   "execution_count": null,
   "metadata": {},
   "outputs": [],
   "source": [
    "#search parameters for best XGB classifier or best XGB regressor\n",
    "\n",
    "def param_search(x_data, y_label, class_reg):\n",
    "\n",
    "    def on_step(optim_result):\n",
    "        \"\"\"\n",
    "        Callback meant to view scores after\n",
    "        each iteration while performing Bayesian\n",
    "        Optimization in Skopt\"\"\"\n",
    "        score = xgb_bayes_search.best_score_\n",
    "        print(\"best score: %s\" % score)\n",
    "        if score >= 0.98:\n",
    "            print('Interrupting!')\n",
    "            return True\n",
    "    X_train, X_test, y_train, y_test = train_test_split(x_data, y_label, test_size=0.1, random_state=157732)\n",
    "    print(\"X_train shape: \" + str(X_train.shape))\n",
    "    print(\"X_test shape: \" + str(X_test.shape))\n",
    "    print(\"y_train shape: \" + str(y_train.shape))\n",
    "    print(\"y_test shape: \" + str(y_test.shape))\n",
    "    space ={'learning_rate': Real(0.01, 1.0, 'log-uniform'),\n",
    "        'min_child_weight': Integer(0, 10),\n",
    "        'max_depth': Integer(0, 50),\n",
    "        'max_delta_step': Integer(0, 20),\n",
    "        'subsample': Real(0.01, 1.0, 'uniform'),\n",
    "        'colsample_bytree': Real(0.01, 1.0, 'uniform'),\n",
    "        'colsample_bylevel': Real(0.01, 1.0, 'uniform'),\n",
    "        'reg_lambda': Real(1e-9, 1000, 'log-uniform'),\n",
    "        'reg_alpha': Real(1e-9, 1.0, 'log-uniform'),\n",
    "        'gamma': Real(1e-9, 0.5, 'log-uniform'),\n",
    "        'min_child_weight': Integer(0, 5),\n",
    "        'n_estimators': Integer(50, 200),\n",
    "        'scale_pos_weight': Real(1e-6, 500, 'log-uniform')}\n",
    "    if(class_reg == 0):\n",
    "        xgbclass = xgb.XGBClassifier(random_state=27022013)\n",
    "    else:\n",
    "        xgbclass = xgb.XGBRegressor(random_state=27022013)\n",
    "    xgb_bayes_search = BayesSearchCV(xgbclass, space, n_iter=60, # specify how many iterations\n",
    "                                    scoring=None, n_jobs=1, cv=10, verbose=1, random_state=42, n_points=12,\n",
    "                                 refit=True)\n",
    "    kk = np.isinf(X_train)\n",
    "    if True in kk:\n",
    "    \tprint(\"aaaaaaa\")\n",
    "    kk = np.isinf(y_train)\n",
    "    if True in kk:\n",
    "    \tprint(\"reeeeeee\")\n",
    "    try:\n",
    "        xgb_bayes_search.fit(X_train, y_train, callback = on_step)\n",
    "    except:\n",
    "        xgb_bayes_search.fit(X_train, y_train, callback = on_step)\n",
    "    print(\"BEST PARAMS ARE HERE\")\n",
    "    print(xgb_bayes_search.best_params_)\n",
    "    model = xgb_bayes_search.best_estimator_\n",
    "\n",
    "    return model"
   ]
  },
  {
   "cell_type": "code",
   "execution_count": null,
   "metadata": {},
   "outputs": [],
   "source": [
    "#x = all data\n",
    "#y = label of whether home team or away team won\n",
    "#m = xgb classifier for winner prediction\n",
    "#my = labels of margins\n",
    "    #try absolute values\n",
    "#mm = xgb regressor for margin prediction\n",
    "def eval_xgb_games_margins(x, y, m, my, mm):\n",
    "    results = []\n",
    "    error = []\n",
    "    count = 0\n",
    "    best_w = m\n",
    "    high_w = 0\n",
    "    best_m = mm\n",
    "    high_m = 100\n",
    "    cv = StratifiedKFold(n_splits=10, shuffle=True)\n",
    "    print(x)\n",
    "    for train,test in cv.split(x,y):\n",
    "       # print(len(train))\n",
    "        count = count + 1\n",
    "        print(\"Split: \" + str(count))\n",
    "        #comment out fit steps for random forest i guess lol\n",
    "        prediction = m.fit(x.loc[train],y.loc[train]).predict_proba(x.loc[test])\n",
    "        margin_pred = mm.fit(x.loc[train], my.loc[train])\n",
    "        print(\"variables for auroc curve done. Processing fold accuracy + checking best model\")\n",
    "        y_pred = m.predict(x.loc[test])\n",
    "        #print(y_pred)\n",
    "        m_pred = mm.predict(x.loc[test])\n",
    "        #print(m_pred)\n",
    "        predictions = [round(value) for value in y_pred]\n",
    "        #sees how accurate the model was when testing the test set\n",
    "        accuracy = accuracy_score(y.loc[test], predictions)\n",
    "        pcent = accuracy * 100.0\n",
    "       # print(\"The accuracy of this model is\" + str(pcent))\n",
    "        rmse = sqrt(mean_squared_error(m_pred, my.loc[test]))\n",
    "       # print(\"The rmse of this model is\" + str(rmse))\n",
    "        results.append(pcent)\n",
    "        error.append(rmse)\n",
    "        #change the best model to equal current model\n",
    "        if(pcent > high_w):\n",
    "            print(\"found new best classify\")\n",
    "            best_w = m\n",
    "            high_w = pcent\n",
    "        if(rmse < high_m):\n",
    "            print(\"found best new margin\")\n",
    "            best_m = mm\n",
    "            high_m = rmse\n",
    "    print(\"Best win percentage split = \" +str(high_w))\n",
    "    print(\"Best margin rmse = \"+str(high_m))\n",
    "    print(\"Training Testing Accuracy: %.2f%% (%.2f%%)\" % (np.mean(results), np.std(results)))\n",
    "    print(\"Training Testing Margins: %.2f%% (%.2f%%)\" % (np.mean(error), np.std(error)))\n",
    "    return best_w, best_m"
   ]
  },
  {
   "cell_type": "code",
   "execution_count": null,
   "metadata": {},
   "outputs": [],
   "source": [
    "#make this a method param later\n",
    "#n_games = 5\n",
    "def run_all_models(n_games):\n",
    "    #load headers and then subsequently categorical headers\n",
    "    h = get_headers(n_games)\n",
    "    h = clean_headers(h)\n",
    "    cv = generate_categorical_headers(h)\n",
    "\n",
    "    #to get names of teams from index\n",
    "    g = gad()\n",
    "    teams = g.createTeamDict()\n",
    "\n",
    "    #load Data\n",
    "    x_data = pd.read_csv('Data/assembled_stat_matrix_no2020'+str(n_games)+'_games.csv')\n",
    "\n",
    "    #make empty OHE object\n",
    "    na_enc = OneHotEncoder(handle_unknown='ignore', sparse=False)\n",
    "\n",
    "    #one hot encode data with new one hot encoder, saves ohe for later use\n",
    "    x_data, ohe = ohe_data(x_data, na_enc, 0, cv)\n",
    "\n",
    "    #reset headers\n",
    "    feature_names = x_data.columns\n",
    "\n",
    "    #loads the ylabel matrix,\n",
    "    y_label = pd.read_csv('Data/assembled_labelled_ymatrix_no2020'+str(n_games)+'_games.csv')\n",
    "\n",
    "    #loads margin as the y_label\n",
    "    margin_label = pd.read_csv('Data/assembled_margin_ymatrix_no2020'+str(n_games)+'_games.csv')\n",
    "\n",
    "    print(margin_label.shape)\n",
    "    print(y_label.shape)\n",
    "    print(x_data.shape)\n",
    "\n",
    "    #regex solution which is apparently necessary??\n",
    "    regex = re.compile(r\"\\[|\\]|<\", re.IGNORECASE)\n",
    "    x_data.columns = [regex.sub(\"_\", col) if any(x in str(col) for x in set(('[', ']', '<'))) else col for col in x_data.columns.values]\n",
    "\n",
    "    #optimise XGBoost model\n",
    "\n",
    "    #for predicting win\n",
    "    model = param_search(x_data, y_label, 0)\n",
    "    #for predicting margin\n",
    "    margin_label = abs(margin_label)\n",
    "    margin_model = param_search(x_data, margin_label, 1)\n",
    "\n",
    "    margin_label = abs(margin_label)\n",
    "\n",
    "    best_xgb_clas, best_xgb_reg = eval_xgb_games_margins(x_data, y_label, model, margin_label, margin_model)\n",
    "\n",
    "    #save\n",
    "    best_xgb_clas.save_model(\"Models/best_xgb_clas_no2020_\"+str(n_games)+'_games.bin')\n",
    "    best_xgb_reg.save_model(\"Models/best_xgb_reg_no2020_\"+str(n_games)+'_games.bin')"
   ]
  },
  {
   "cell_type": "code",
   "execution_count": null,
   "metadata": {
    "scrolled": true
   },
   "outputs": [],
   "source": [
    "#as one big script to go through n_games\n",
    "n_games = [1,2,3,4,5,6,7,10]\n",
    "for n in n_games:\n",
    "    run_all_models(n)"
   ]
  },
  {
   "cell_type": "markdown",
   "metadata": {},
   "source": [
    "# Other Shit Model Testing"
   ]
  },
  {
   "cell_type": "markdown",
   "metadata": {},
   "source": [
    "# LAZY PREDICT"
   ]
  },
  {
   "cell_type": "code",
   "execution_count": 8,
   "metadata": {},
   "outputs": [],
   "source": [
    "import pandas as pd\n",
    "import numpy as np\n",
    "from lazypredict.Supervised import LazyClassifier, LazyRegressor\n",
    "from sklearn.model_selection import train_test_split\n",
    "from Gather_AFL_Data import gatherer as gad\n",
    "from sklearn.preprocessing import OneHotEncoder\n",
    "from sklearn.model_selection import StratifiedKFold\n",
    "import pickle"
   ]
  },
  {
   "cell_type": "code",
   "execution_count": 18,
   "metadata": {},
   "outputs": [],
   "source": [
    "def eval_lazy_predict(x, y, my):\n",
    "    cv = StratifiedKFold(n_splits=10, shuffle=True)\n",
    "    all_clf_models = []\n",
    "    all_reg_models = []\n",
    "    count = 0\n",
    "    for train,test in cv.split(x,y):\n",
    "       # print(len(train))\n",
    "        count = count + 1\n",
    "        print(\"Split: \" + str(count))\n",
    "        #classifier\n",
    "        X_train = x.loc[train]\n",
    "        X_test = x.loc[test]\n",
    "        y_train = y.loc[train]\n",
    "        y_test = y.loc[test]\n",
    "        my_train = my.loc[train]\n",
    "        my_test = my.loc[test]\n",
    "        clf = LazyClassifier(predictions=True)\n",
    "        reg = LazyRegressor(predictions=True)\n",
    "        if(count == 1):\n",
    "            all_clf_models, predictions = clf.fit(X_train, X_test, y_train, y_test)\n",
    "          #  all_reg_models, reg_predictions = reg.fit(X_train, X_test, my_train, my_test)\n",
    "            all_clf_models.sort_index(inplace=True)\n",
    "           # all_reg_models.sort_index(inplace=True)\n",
    "            #print(all_models)\n",
    "        else:\n",
    "            new_clf_models, predictions = clf.fit(X_train, X_test, y_train, y_test)\n",
    "           # new_reg_models, reg_predictions = reg.fit(X_train, X_test, my_train, my_test)\n",
    "            new_clf_models.sort_index(inplace=True)\n",
    "           # new_reg_models.sort_index(inplace=True)\n",
    "            #print(new_models)\n",
    "            all_clf_models = all_clf_models.add(new_clf_models)\n",
    "           # all_reg_models = all_reg_models.add(new_reg_models)\n",
    "    return all_clf_models#, all_reg_models"
   ]
  },
  {
   "cell_type": "code",
   "execution_count": 21,
   "metadata": {
    "scrolled": true
   },
   "outputs": [],
   "source": [
    "def run_all_lp(n_games):\n",
    "    h = get_headers(n_games)\n",
    "    h = clean_headers(h)\n",
    "    cv = generate_categorical_headers(h)\n",
    "\n",
    "    #to get names of teams from index\n",
    "    g = gad()\n",
    "    teams = g.createTeamDict()\n",
    "\n",
    "    #load Data\n",
    "    x_data = pd.read_csv('Data/assembled_stat_matrix_no2020'+str(n_games)+'_games.csv')\n",
    "\n",
    "    #make empty OHE object\n",
    "    na_enc = OneHotEncoder(handle_unknown='ignore', sparse=False)\n",
    "\n",
    "    #one hot encode data with new one hot encoder, saves ohe for later use\n",
    "    x_data, ohe = ohe_data(x_data, na_enc, 0, cv)\n",
    "\n",
    "    #reset headers\n",
    "    feature_names = x_data.columns\n",
    "\n",
    "    #loads the ylabel matrix,\n",
    "    y_label = pd.read_csv('Data/assembled_labelled_ymatrix_no2020'+str(n_games)+'_games.csv')\n",
    "\n",
    "    #do margins in a second when this works\n",
    "    margin_label = pd.read_csv('Data/assembled_margin_ymatrix_no2020'+str(n_games)+'_games.csv')\n",
    "    margin_label = abs(margin_label)\n",
    "\n",
    "    clf_lp = eval_lazy_predict(x_data, y_label, margin_label)\n",
    "\n",
    "    clf_lp.sort_values(by='Accuracy', ascending=False, inplace=True)\n",
    "    #reg_lp.sort_values(by='RMSE', inplace=True)\n",
    "    pct_lp = clf_lp*10\n",
    "    print(pct_lp)"
   ]
  },
  {
   "cell_type": "code",
   "execution_count": 22,
   "metadata": {
    "scrolled": true
   },
   "outputs": [
    {
     "name": "stderr",
     "output_type": "stream",
     "text": [
      "\r",
      "  0%|          | 0/29 [00:00<?, ?it/s]"
     ]
    },
    {
     "name": "stdout",
     "output_type": "stream",
     "text": [
      "Split: 1\n"
     ]
    },
    {
     "name": "stderr",
     "output_type": "stream",
     "text": [
      "100%|██████████| 29/29 [00:14<00:00,  2.03it/s]\n",
      "  0%|          | 0/29 [00:00<?, ?it/s]"
     ]
    },
    {
     "name": "stdout",
     "output_type": "stream",
     "text": [
      "Split: 2\n"
     ]
    },
    {
     "name": "stderr",
     "output_type": "stream",
     "text": [
      "100%|██████████| 29/29 [00:14<00:00,  1.98it/s]\n",
      "  0%|          | 0/29 [00:00<?, ?it/s]"
     ]
    },
    {
     "name": "stdout",
     "output_type": "stream",
     "text": [
      "Split: 3\n"
     ]
    },
    {
     "name": "stderr",
     "output_type": "stream",
     "text": [
      "100%|██████████| 29/29 [00:14<00:00,  2.03it/s]\n",
      "  0%|          | 0/29 [00:00<?, ?it/s]"
     ]
    },
    {
     "name": "stdout",
     "output_type": "stream",
     "text": [
      "Split: 4\n"
     ]
    },
    {
     "name": "stderr",
     "output_type": "stream",
     "text": [
      "100%|██████████| 29/29 [00:14<00:00,  2.04it/s]\n",
      "  0%|          | 0/29 [00:00<?, ?it/s]"
     ]
    },
    {
     "name": "stdout",
     "output_type": "stream",
     "text": [
      "Split: 5\n"
     ]
    },
    {
     "name": "stderr",
     "output_type": "stream",
     "text": [
      "100%|██████████| 29/29 [00:14<00:00,  2.03it/s]\n",
      "  0%|          | 0/29 [00:00<?, ?it/s]"
     ]
    },
    {
     "name": "stdout",
     "output_type": "stream",
     "text": [
      "Split: 6\n"
     ]
    },
    {
     "name": "stderr",
     "output_type": "stream",
     "text": [
      "100%|██████████| 29/29 [00:14<00:00,  2.00it/s]\n",
      "  0%|          | 0/29 [00:00<?, ?it/s]"
     ]
    },
    {
     "name": "stdout",
     "output_type": "stream",
     "text": [
      "Split: 7\n"
     ]
    },
    {
     "name": "stderr",
     "output_type": "stream",
     "text": [
      "100%|██████████| 29/29 [00:14<00:00,  2.06it/s]\n",
      "  0%|          | 0/29 [00:00<?, ?it/s]"
     ]
    },
    {
     "name": "stdout",
     "output_type": "stream",
     "text": [
      "Split: 8\n"
     ]
    },
    {
     "name": "stderr",
     "output_type": "stream",
     "text": [
      "100%|██████████| 29/29 [00:14<00:00,  2.03it/s]\n",
      "  0%|          | 0/29 [00:00<?, ?it/s]"
     ]
    },
    {
     "name": "stdout",
     "output_type": "stream",
     "text": [
      "Split: 9\n"
     ]
    },
    {
     "name": "stderr",
     "output_type": "stream",
     "text": [
      "100%|██████████| 29/29 [00:14<00:00,  2.04it/s]\n",
      "  0%|          | 0/29 [00:00<?, ?it/s]"
     ]
    },
    {
     "name": "stdout",
     "output_type": "stream",
     "text": [
      "Split: 10\n"
     ]
    },
    {
     "name": "stderr",
     "output_type": "stream",
     "text": [
      "100%|██████████| 29/29 [00:14<00:00,  2.03it/s]\n"
     ]
    },
    {
     "name": "stdout",
     "output_type": "stream",
     "text": [
      "                               Accuracy  Balanced Accuracy  ROC AUC  F1 Score  \\\n",
      "Model                                                                           \n",
      "RandomForestClassifier            65.13              62.70    62.70     63.64   \n",
      "ExtraTreesClassifier              64.58              62.42    62.42     63.45   \n",
      "SVC                               64.21              62.39    62.39     63.43   \n",
      "LGBMClassifier                    63.48              62.16    62.16     63.08   \n",
      "NuSVC                             63.42              62.18    62.18     63.09   \n",
      "NearestCentroid                   62.63              62.59    62.59     62.71   \n",
      "BernoulliNB                       62.57              62.21    62.21     62.62   \n",
      "XGBClassifier                     62.33              61.06    61.06     62.00   \n",
      "AdaBoostClassifier                62.15              61.05    61.05     61.92   \n",
      "BaggingClassifier                 61.78              59.43    59.43     60.39   \n",
      "CalibratedClassifierCV            61.24              57.64    57.64     57.83   \n",
      "RidgeClassifierCV                 60.93              60.05    60.05     60.80   \n",
      "LinearDiscriminantAnalysis        60.57              59.70    59.70     60.44   \n",
      "RidgeClassifier                   60.45              59.54    59.54     60.29   \n",
      "LinearSVC                         59.53              58.72    58.72     59.39   \n",
      "SGDClassifier                     59.41              58.64    58.64     59.35   \n",
      "PassiveAggressiveClassifier       59.29              58.70    58.70     59.28   \n",
      "GaussianNB                        58.86              54.29    54.29     51.56   \n",
      "Perceptron                        57.83              57.16    57.16     57.83   \n",
      "DecisionTreeClassifier            57.05              56.32    56.32     56.97   \n",
      "ExtraTreeClassifier               56.86              56.21    56.21     56.83   \n",
      "LabelSpreading                    56.56              50.00    50.00     40.87   \n",
      "LabelPropagation                  56.56              50.00    50.00     40.87   \n",
      "KNeighborsClassifier              55.59              53.65    53.65     54.64   \n",
      "QuadraticDiscriminantAnalysis     52.30              51.11    51.11     51.71   \n",
      "DummyClassifier                   49.63              48.22    48.22     49.28   \n",
      "\n",
      "                               Time Taken  \n",
      "Model                                      \n",
      "RandomForestClassifier              75.10  \n",
      "ExtraTreesClassifier                46.71  \n",
      "SVC                                 96.38  \n",
      "LGBMClassifier                      66.49  \n",
      "NuSVC                              106.71  \n",
      "NearestCentroid                      5.35  \n",
      "BernoulliNB                          5.64  \n",
      "XGBClassifier                       76.70  \n",
      "AdaBoostClassifier                  84.91  \n",
      "BaggingClassifier                  112.27  \n",
      "CalibratedClassifierCV             444.24  \n",
      "RidgeClassifierCV                   12.72  \n",
      "LinearDiscriminantAnalysis          16.75  \n",
      "RidgeClassifier                      6.55  \n",
      "LinearSVC                          125.31  \n",
      "SGDClassifier                       14.98  \n",
      "PassiveAggressiveClassifier          7.59  \n",
      "GaussianNB                           5.62  \n",
      "Perceptron                           6.08  \n",
      "DecisionTreeClassifier              20.95  \n",
      "ExtraTreeClassifier                  4.95  \n",
      "LabelSpreading                      14.66  \n",
      "LabelPropagation                    13.79  \n",
      "KNeighborsClassifier                23.63  \n",
      "QuadraticDiscriminantAnalysis       15.40  \n",
      "DummyClassifier                      4.75  \n",
      "Split: 1\n"
     ]
    },
    {
     "name": "stderr",
     "output_type": "stream",
     "text": [
      "100%|██████████| 29/29 [00:22<00:00,  1.31it/s]\n",
      "  0%|          | 0/29 [00:00<?, ?it/s]"
     ]
    },
    {
     "name": "stdout",
     "output_type": "stream",
     "text": [
      "Split: 2\n"
     ]
    },
    {
     "name": "stderr",
     "output_type": "stream",
     "text": [
      "100%|██████████| 29/29 [00:22<00:00,  1.32it/s]\n",
      "  0%|          | 0/29 [00:00<?, ?it/s]"
     ]
    },
    {
     "name": "stdout",
     "output_type": "stream",
     "text": [
      "Split: 3\n"
     ]
    },
    {
     "name": "stderr",
     "output_type": "stream",
     "text": [
      "100%|██████████| 29/29 [00:21<00:00,  1.32it/s]\n",
      "  0%|          | 0/29 [00:00<?, ?it/s]"
     ]
    },
    {
     "name": "stdout",
     "output_type": "stream",
     "text": [
      "Split: 4\n"
     ]
    },
    {
     "name": "stderr",
     "output_type": "stream",
     "text": [
      "100%|██████████| 29/29 [00:22<00:00,  1.29it/s]\n",
      "  0%|          | 0/29 [00:00<?, ?it/s]"
     ]
    },
    {
     "name": "stdout",
     "output_type": "stream",
     "text": [
      "Split: 5\n"
     ]
    },
    {
     "name": "stderr",
     "output_type": "stream",
     "text": [
      "100%|██████████| 29/29 [00:22<00:00,  1.27it/s]\n",
      "  0%|          | 0/29 [00:00<?, ?it/s]"
     ]
    },
    {
     "name": "stdout",
     "output_type": "stream",
     "text": [
      "Split: 6\n"
     ]
    },
    {
     "name": "stderr",
     "output_type": "stream",
     "text": [
      "100%|██████████| 29/29 [00:22<00:00,  1.30it/s]\n",
      "  0%|          | 0/29 [00:00<?, ?it/s]"
     ]
    },
    {
     "name": "stdout",
     "output_type": "stream",
     "text": [
      "Split: 7\n"
     ]
    },
    {
     "name": "stderr",
     "output_type": "stream",
     "text": [
      "100%|██████████| 29/29 [00:22<00:00,  1.31it/s]\n",
      "  0%|          | 0/29 [00:00<?, ?it/s]"
     ]
    },
    {
     "name": "stdout",
     "output_type": "stream",
     "text": [
      "Split: 8\n"
     ]
    },
    {
     "name": "stderr",
     "output_type": "stream",
     "text": [
      "100%|██████████| 29/29 [00:21<00:00,  1.33it/s]\n",
      "  0%|          | 0/29 [00:00<?, ?it/s]"
     ]
    },
    {
     "name": "stdout",
     "output_type": "stream",
     "text": [
      "Split: 9\n"
     ]
    },
    {
     "name": "stderr",
     "output_type": "stream",
     "text": [
      "100%|██████████| 29/29 [00:22<00:00,  1.31it/s]\n",
      "  0%|          | 0/29 [00:00<?, ?it/s]"
     ]
    },
    {
     "name": "stdout",
     "output_type": "stream",
     "text": [
      "Split: 10\n"
     ]
    },
    {
     "name": "stderr",
     "output_type": "stream",
     "text": [
      "100%|██████████| 29/29 [00:22<00:00,  1.32it/s]\n"
     ]
    },
    {
     "name": "stdout",
     "output_type": "stream",
     "text": [
      "                               Accuracy  Balanced Accuracy  ROC AUC  F1 Score  \\\n",
      "Model                                                                           \n",
      "SVC                               64.64              62.82    62.82     63.83   \n",
      "NearestCentroid                   64.39              64.24    64.24     64.46   \n",
      "RandomForestClassifier            64.20              61.39    61.39     62.30   \n",
      "NuSVC                             64.09              62.76    62.76     63.65   \n",
      "ExtraTreesClassifier              64.03              61.42    61.42     62.32   \n",
      "BernoulliNB                       63.77              63.55    63.55     63.87   \n",
      "XGBClassifier                     62.26              60.76    60.76     61.74   \n",
      "LGBMClassifier                    62.13              60.56    60.56     61.55   \n",
      "BaggingClassifier                 61.15              58.73    58.73     59.68   \n",
      "RidgeClassifierCV                 60.54              59.53    59.53     60.32   \n",
      "AdaBoostClassifier                59.32              57.92    57.92     58.85   \n",
      "RidgeClassifier                   59.07              58.21    58.21     58.93   \n",
      "Perceptron                        58.77              57.88    57.88     58.63   \n",
      "CalibratedClassifierCV            58.52              53.79    53.79     51.74   \n",
      "GaussianNB                        58.22              54.41    54.41     53.35   \n",
      "LinearDiscriminantAnalysis        57.67              56.81    56.81     57.54   \n",
      "PassiveAggressiveClassifier       57.24              56.61    56.61     57.23   \n",
      "DecisionTreeClassifier            57.06              56.21    56.21     56.98   \n",
      "QuadraticDiscriminantAnalysis     56.99              50.70    50.70     43.15   \n",
      "SGDClassifier                     56.75              55.89    55.89     56.66   \n",
      "LinearSVC                         56.57              55.81    55.81     56.51   \n",
      "LabelPropagation                  56.57              50.00    50.00     40.87   \n",
      "LabelSpreading                    56.57              50.00    50.00     40.87   \n",
      "KNeighborsClassifier              55.77              54.41    54.41     55.40   \n",
      "ExtraTreeClassifier               53.94              53.33    53.33     53.96   \n",
      "DummyClassifier                   50.70              49.34    49.34     50.38   \n",
      "\n",
      "                               Time Taken  \n",
      "Model                                      \n",
      "SVC                                174.33  \n",
      "NearestCentroid                      7.59  \n",
      "RandomForestClassifier              99.95  \n",
      "NuSVC                              188.05  \n",
      "ExtraTreesClassifier                58.93  \n",
      "BernoulliNB                          8.69  \n",
      "XGBClassifier                      131.30  \n",
      "LGBMClassifier                     120.63  \n",
      "BaggingClassifier                  212.26  \n",
      "RidgeClassifierCV                   28.90  \n",
      "AdaBoostClassifier                 152.94  \n",
      "RidgeClassifier                     11.00  \n",
      "Perceptron                          10.96  \n",
      "CalibratedClassifierCV             566.70  \n",
      "GaussianNB                           8.58  \n",
      "LinearDiscriminantAnalysis          34.97  \n",
      "PassiveAggressiveClassifier         14.79  \n",
      "DecisionTreeClassifier              39.69  \n",
      "QuadraticDiscriminantAnalysis       32.78  \n",
      "SGDClassifier                       21.54  \n",
      "LinearSVC                          176.91  \n",
      "LabelPropagation                    17.79  \n",
      "LabelSpreading                      17.77  \n",
      "KNeighborsClassifier                40.68  \n",
      "ExtraTreeClassifier                  7.51  \n",
      "DummyClassifier                      7.14  \n"
     ]
    },
    {
     "name": "stderr",
     "output_type": "stream",
     "text": [
      "\r",
      "  0%|          | 0/29 [00:00<?, ?it/s]"
     ]
    },
    {
     "name": "stdout",
     "output_type": "stream",
     "text": [
      "Split: 1\n"
     ]
    },
    {
     "name": "stderr",
     "output_type": "stream",
     "text": [
      "100%|██████████| 29/29 [00:30<00:00,  1.04s/it]\n",
      "  0%|          | 0/29 [00:00<?, ?it/s]"
     ]
    },
    {
     "name": "stdout",
     "output_type": "stream",
     "text": [
      "Split: 2\n"
     ]
    },
    {
     "name": "stderr",
     "output_type": "stream",
     "text": [
      "100%|██████████| 29/29 [00:29<00:00,  1.03s/it]\n",
      "  0%|          | 0/29 [00:00<?, ?it/s]"
     ]
    },
    {
     "name": "stdout",
     "output_type": "stream",
     "text": [
      "Split: 3\n"
     ]
    },
    {
     "name": "stderr",
     "output_type": "stream",
     "text": [
      "100%|██████████| 29/29 [00:29<00:00,  1.03s/it]\n",
      "  0%|          | 0/29 [00:00<?, ?it/s]"
     ]
    },
    {
     "name": "stdout",
     "output_type": "stream",
     "text": [
      "Split: 4\n"
     ]
    },
    {
     "name": "stderr",
     "output_type": "stream",
     "text": [
      "100%|██████████| 29/29 [00:29<00:00,  1.03s/it]\n",
      "  0%|          | 0/29 [00:00<?, ?it/s]"
     ]
    },
    {
     "name": "stdout",
     "output_type": "stream",
     "text": [
      "Split: 5\n"
     ]
    },
    {
     "name": "stderr",
     "output_type": "stream",
     "text": [
      "100%|██████████| 29/29 [00:30<00:00,  1.05s/it]\n",
      "  0%|          | 0/29 [00:00<?, ?it/s]"
     ]
    },
    {
     "name": "stdout",
     "output_type": "stream",
     "text": [
      "Split: 6\n"
     ]
    },
    {
     "name": "stderr",
     "output_type": "stream",
     "text": [
      "100%|██████████| 29/29 [00:30<00:00,  1.04s/it]\n",
      "  0%|          | 0/29 [00:00<?, ?it/s]"
     ]
    },
    {
     "name": "stdout",
     "output_type": "stream",
     "text": [
      "Split: 7\n"
     ]
    },
    {
     "name": "stderr",
     "output_type": "stream",
     "text": [
      "100%|██████████| 29/29 [00:30<00:00,  1.04s/it]\n",
      "  0%|          | 0/29 [00:00<?, ?it/s]"
     ]
    },
    {
     "name": "stdout",
     "output_type": "stream",
     "text": [
      "Split: 8\n"
     ]
    },
    {
     "name": "stderr",
     "output_type": "stream",
     "text": [
      "100%|██████████| 29/29 [00:29<00:00,  1.03s/it]\n",
      "  0%|          | 0/29 [00:00<?, ?it/s]"
     ]
    },
    {
     "name": "stdout",
     "output_type": "stream",
     "text": [
      "Split: 9\n"
     ]
    },
    {
     "name": "stderr",
     "output_type": "stream",
     "text": [
      "100%|██████████| 29/29 [00:29<00:00,  1.02s/it]\n",
      "  0%|          | 0/29 [00:00<?, ?it/s]"
     ]
    },
    {
     "name": "stdout",
     "output_type": "stream",
     "text": [
      "Split: 10\n"
     ]
    },
    {
     "name": "stderr",
     "output_type": "stream",
     "text": [
      "100%|██████████| 29/29 [00:30<00:00,  1.04s/it]\n"
     ]
    },
    {
     "name": "stdout",
     "output_type": "stream",
     "text": [
      "                               Accuracy  Balanced Accuracy  ROC AUC  F1 Score  \\\n",
      "Model                                                                           \n",
      "NuSVC                             65.42              64.15    64.15     65.08   \n",
      "SVC                               64.99              63.02    63.02     64.11   \n",
      "ExtraTreesClassifier              64.50              61.78    61.78     62.77   \n",
      "RandomForestClassifier            63.76              60.89    60.89     61.81   \n",
      "NearestCentroid                   63.70              63.56    63.56     63.78   \n",
      "BernoulliNB                       63.64              63.38    63.38     63.70   \n",
      "XGBClassifier                     62.84              61.43    61.43     62.42   \n",
      "LGBMClassifier                    62.65              61.06    61.06     62.08   \n",
      "GaussianNB                        60.81              58.73    58.73     59.03   \n",
      "BaggingClassifier                 60.08              57.32    57.32     58.20   \n",
      "AdaBoostClassifier                59.70              58.55    58.55     59.45   \n",
      "Perceptron                        59.15              58.45    58.45     59.12   \n",
      "RidgeClassifierCV                 58.48              57.82    57.82     58.48   \n",
      "SGDClassifier                     58.29              57.46    57.46     58.20   \n",
      "PassiveAggressiveClassifier       58.17              57.32    57.32     58.07   \n",
      "KNeighborsClassifier              57.98              56.39    56.39     57.44   \n",
      "CalibratedClassifierCV            57.25              51.87    51.87     48.16   \n",
      "LinearSVC                         57.19              56.50    56.50     57.17   \n",
      "LabelPropagation                  56.70              50.00    50.00     41.03   \n",
      "LabelSpreading                    56.70              50.00    50.00     41.03   \n",
      "RidgeClassifier                   56.02              55.50    55.50     56.08   \n",
      "DecisionTreeClassifier            55.52              54.65    54.65     55.44   \n",
      "QuadraticDiscriminantAnalysis     54.98              50.78    50.78     49.90   \n",
      "LinearDiscriminantAnalysis        54.42              53.95    53.95     54.51   \n",
      "ExtraTreeClassifier               53.14              52.39    52.39     53.14   \n",
      "DummyClassifier                   51.04              49.67    49.67     50.75   \n",
      "\n",
      "                               Time Taken  \n",
      "Model                                      \n",
      "NuSVC                              262.21  \n",
      "SVC                                244.57  \n",
      "ExtraTreesClassifier                73.51  \n",
      "RandomForestClassifier             122.51  \n",
      "NearestCentroid                     10.04  \n",
      "BernoulliNB                         11.55  \n",
      "XGBClassifier                      185.37  \n",
      "LGBMClassifier                     176.17  \n",
      "GaussianNB                          11.58  \n",
      "BaggingClassifier                  302.76  \n",
      "AdaBoostClassifier                 217.15  \n",
      "Perceptron                          18.16  \n",
      "RidgeClassifierCV                   74.62  \n",
      "SGDClassifier                       28.03  \n",
      "PassiveAggressiveClassifier         28.84  \n",
      "KNeighborsClassifier                56.57  \n",
      "CalibratedClassifierCV             693.68  \n",
      "LinearSVC                          187.93  \n",
      "LabelPropagation                    20.60  \n",
      "LabelSpreading                      20.62  \n",
      "RidgeClassifier                     15.19  \n",
      "DecisionTreeClassifier              56.46  \n",
      "QuadraticDiscriminantAnalysis       48.11  \n",
      "LinearDiscriminantAnalysis          84.15  \n",
      "ExtraTreeClassifier                  9.82  \n",
      "DummyClassifier                      9.20  \n"
     ]
    },
    {
     "name": "stderr",
     "output_type": "stream",
     "text": [
      "\r",
      "  0%|          | 0/29 [00:00<?, ?it/s]"
     ]
    },
    {
     "name": "stdout",
     "output_type": "stream",
     "text": [
      "Split: 1\n"
     ]
    },
    {
     "name": "stderr",
     "output_type": "stream",
     "text": [
      "100%|██████████| 29/29 [00:38<00:00,  1.32s/it]\n",
      "  0%|          | 0/29 [00:00<?, ?it/s]"
     ]
    },
    {
     "name": "stdout",
     "output_type": "stream",
     "text": [
      "Split: 2\n"
     ]
    },
    {
     "name": "stderr",
     "output_type": "stream",
     "text": [
      "100%|██████████| 29/29 [00:37<00:00,  1.31s/it]\n",
      "  0%|          | 0/29 [00:00<?, ?it/s]"
     ]
    },
    {
     "name": "stdout",
     "output_type": "stream",
     "text": [
      "Split: 3\n"
     ]
    },
    {
     "name": "stderr",
     "output_type": "stream",
     "text": [
      "100%|██████████| 29/29 [00:39<00:00,  1.36s/it]\n",
      "  0%|          | 0/29 [00:00<?, ?it/s]"
     ]
    },
    {
     "name": "stdout",
     "output_type": "stream",
     "text": [
      "Split: 4\n"
     ]
    },
    {
     "name": "stderr",
     "output_type": "stream",
     "text": [
      "100%|██████████| 29/29 [00:38<00:00,  1.34s/it]\n",
      "  0%|          | 0/29 [00:00<?, ?it/s]"
     ]
    },
    {
     "name": "stdout",
     "output_type": "stream",
     "text": [
      "Split: 5\n"
     ]
    },
    {
     "name": "stderr",
     "output_type": "stream",
     "text": [
      "100%|██████████| 29/29 [00:39<00:00,  1.37s/it]\n",
      "  0%|          | 0/29 [00:00<?, ?it/s]"
     ]
    },
    {
     "name": "stdout",
     "output_type": "stream",
     "text": [
      "Split: 6\n"
     ]
    },
    {
     "name": "stderr",
     "output_type": "stream",
     "text": [
      "100%|██████████| 29/29 [00:39<00:00,  1.35s/it]\n",
      "  0%|          | 0/29 [00:00<?, ?it/s]"
     ]
    },
    {
     "name": "stdout",
     "output_type": "stream",
     "text": [
      "Split: 7\n"
     ]
    },
    {
     "name": "stderr",
     "output_type": "stream",
     "text": [
      "100%|██████████| 29/29 [00:39<00:00,  1.37s/it]\n",
      "  0%|          | 0/29 [00:00<?, ?it/s]"
     ]
    },
    {
     "name": "stdout",
     "output_type": "stream",
     "text": [
      "Split: 8\n"
     ]
    },
    {
     "name": "stderr",
     "output_type": "stream",
     "text": [
      "100%|██████████| 29/29 [00:37<00:00,  1.30s/it]\n",
      "  0%|          | 0/29 [00:00<?, ?it/s]"
     ]
    },
    {
     "name": "stdout",
     "output_type": "stream",
     "text": [
      "Split: 9\n"
     ]
    },
    {
     "name": "stderr",
     "output_type": "stream",
     "text": [
      "100%|██████████| 29/29 [00:39<00:00,  1.35s/it]\n",
      "  0%|          | 0/29 [00:00<?, ?it/s]"
     ]
    },
    {
     "name": "stdout",
     "output_type": "stream",
     "text": [
      "Split: 10\n"
     ]
    },
    {
     "name": "stderr",
     "output_type": "stream",
     "text": [
      "100%|██████████| 29/29 [00:39<00:00,  1.36s/it]\n"
     ]
    },
    {
     "name": "stdout",
     "output_type": "stream",
     "text": [
      "                               Accuracy  Balanced Accuracy  ROC AUC  F1 Score  \\\n",
      "Model                                                                           \n",
      "NearestCentroid                   64.98              64.83    64.83     65.06   \n",
      "SVC                               64.98              62.84    62.84     63.97   \n",
      "RandomForestClassifier            64.37              61.58    61.58     62.59   \n",
      "NuSVC                             64.30              62.75    62.75     63.75   \n",
      "BernoulliNB                       64.24              63.90    63.90     64.31   \n",
      "ExtraTreesClassifier              64.05              61.26    61.26     62.26   \n",
      "XGBClassifier                     63.50              62.12    62.12     63.04   \n",
      "LGBMClassifier                    62.45              60.81    60.81     61.80   \n",
      "BaggingClassifier                 62.26              59.73    59.73     60.77   \n",
      "AdaBoostClassifier                59.48              58.21    58.21     59.13   \n",
      "SGDClassifier                     59.48              58.52    58.52     59.36   \n",
      "PassiveAggressiveClassifier       59.36              58.60    58.60     59.31   \n",
      "CalibratedClassifierCV            59.30              55.05    55.05     54.50   \n",
      "LinearSVC                         58.99              58.33    58.33     58.97   \n",
      "Perceptron                        58.62              57.92    57.92     58.62   \n",
      "KNeighborsClassifier              58.55              57.08    57.08     58.12   \n",
      "GaussianNB                        57.94              58.12    58.12     56.99   \n",
      "RidgeClassifierCV                 57.07              56.49    56.49     57.09   \n",
      "LabelPropagation                  56.76              50.00    50.00     41.11   \n",
      "LabelSpreading                    56.76              50.00    50.00     41.11   \n",
      "DecisionTreeClassifier            56.76              56.08    56.08     56.80   \n",
      "RidgeClassifier                   55.10              54.73    54.73     55.18   \n",
      "LinearDiscriminantAnalysis        53.92              53.59    53.59     54.03   \n",
      "ExtraTreeClassifier               53.67              53.07    53.07     53.71   \n",
      "DummyClassifier                   52.25              50.85    50.85     51.93   \n",
      "QuadraticDiscriminantAnalysis     51.76              50.95    50.95     51.63   \n",
      "\n",
      "                               Time Taken  \n",
      "Model                                      \n",
      "NearestCentroid                     12.67  \n",
      "SVC                                308.59  \n",
      "RandomForestClassifier             138.81  \n",
      "NuSVC                              331.15  \n",
      "BernoulliNB                         14.27  \n",
      "ExtraTreesClassifier                84.79  \n",
      "XGBClassifier                      240.07  \n",
      "LGBMClassifier                     233.64  \n",
      "BaggingClassifier                  410.77  \n",
      "AdaBoostClassifier                 282.05  \n",
      "SGDClassifier                       28.89  \n",
      "PassiveAggressiveClassifier         74.31  \n",
      "CalibratedClassifierCV             870.07  \n",
      "LinearSVC                          238.31  \n",
      "Perceptron                          26.25  \n",
      "KNeighborsClassifier                73.46  \n",
      "GaussianNB                          14.22  \n",
      "RidgeClassifierCV                  108.14  \n",
      "LabelPropagation                    24.12  \n",
      "LabelSpreading                      24.62  \n",
      "DecisionTreeClassifier              75.45  \n",
      "RidgeClassifier                     21.74  \n",
      "LinearDiscriminantAnalysis         125.85  \n",
      "ExtraTreeClassifier                 12.62  \n",
      "DummyClassifier                     11.48  \n",
      "QuadraticDiscriminantAnalysis       56.10  \n"
     ]
    },
    {
     "name": "stderr",
     "output_type": "stream",
     "text": [
      "\r",
      "  0%|          | 0/29 [00:00<?, ?it/s]"
     ]
    },
    {
     "name": "stdout",
     "output_type": "stream",
     "text": [
      "Split: 1\n"
     ]
    },
    {
     "name": "stderr",
     "output_type": "stream",
     "text": [
      "100%|██████████| 29/29 [00:41<00:00,  1.43s/it]\n",
      "  0%|          | 0/29 [00:00<?, ?it/s]"
     ]
    },
    {
     "name": "stdout",
     "output_type": "stream",
     "text": [
      "Split: 2\n"
     ]
    },
    {
     "name": "stderr",
     "output_type": "stream",
     "text": [
      "100%|██████████| 29/29 [00:40<00:00,  1.41s/it]\n",
      "  0%|          | 0/29 [00:00<?, ?it/s]"
     ]
    },
    {
     "name": "stdout",
     "output_type": "stream",
     "text": [
      "Split: 3\n"
     ]
    },
    {
     "name": "stderr",
     "output_type": "stream",
     "text": [
      "100%|██████████| 29/29 [00:40<00:00,  1.39s/it]\n",
      "  0%|          | 0/29 [00:00<?, ?it/s]"
     ]
    },
    {
     "name": "stdout",
     "output_type": "stream",
     "text": [
      "Split: 4\n"
     ]
    },
    {
     "name": "stderr",
     "output_type": "stream",
     "text": [
      "100%|██████████| 29/29 [00:40<00:00,  1.41s/it]\n",
      "  0%|          | 0/29 [00:00<?, ?it/s]"
     ]
    },
    {
     "name": "stdout",
     "output_type": "stream",
     "text": [
      "Split: 5\n"
     ]
    },
    {
     "name": "stderr",
     "output_type": "stream",
     "text": [
      "100%|██████████| 29/29 [00:39<00:00,  1.38s/it]\n",
      "  0%|          | 0/29 [00:00<?, ?it/s]"
     ]
    },
    {
     "name": "stdout",
     "output_type": "stream",
     "text": [
      "Split: 6\n"
     ]
    },
    {
     "name": "stderr",
     "output_type": "stream",
     "text": [
      "100%|██████████| 29/29 [00:40<00:00,  1.41s/it]\n",
      "  0%|          | 0/29 [00:00<?, ?it/s]"
     ]
    },
    {
     "name": "stdout",
     "output_type": "stream",
     "text": [
      "Split: 7\n"
     ]
    },
    {
     "name": "stderr",
     "output_type": "stream",
     "text": [
      "100%|██████████| 29/29 [00:41<00:00,  1.43s/it]\n",
      "  0%|          | 0/29 [00:00<?, ?it/s]"
     ]
    },
    {
     "name": "stdout",
     "output_type": "stream",
     "text": [
      "Split: 8\n"
     ]
    },
    {
     "name": "stderr",
     "output_type": "stream",
     "text": [
      "100%|██████████| 29/29 [00:40<00:00,  1.39s/it]\n",
      "  0%|          | 0/29 [00:00<?, ?it/s]"
     ]
    },
    {
     "name": "stdout",
     "output_type": "stream",
     "text": [
      "Split: 9\n"
     ]
    },
    {
     "name": "stderr",
     "output_type": "stream",
     "text": [
      "100%|██████████| 29/29 [00:40<00:00,  1.40s/it]\n",
      "  0%|          | 0/29 [00:00<?, ?it/s]"
     ]
    },
    {
     "name": "stdout",
     "output_type": "stream",
     "text": [
      "Split: 10\n"
     ]
    },
    {
     "name": "stderr",
     "output_type": "stream",
     "text": [
      "100%|██████████| 29/29 [00:40<00:00,  1.40s/it]\n"
     ]
    },
    {
     "name": "stdout",
     "output_type": "stream",
     "text": [
      "                               Accuracy  Balanced Accuracy  ROC AUC  F1 Score  \\\n",
      "Model                                                                           \n",
      "BernoulliNB                       64.72              64.49    64.49     64.76   \n",
      "SVC                               64.29              62.35    62.35     63.44   \n",
      "ExtraTreesClassifier              64.10              61.25    61.25     62.21   \n",
      "NearestCentroid                   63.98              63.87    63.87     64.03   \n",
      "NuSVC                             63.91              62.42    62.42     63.41   \n",
      "LGBMClassifier                    63.04              61.41    61.41     62.40   \n",
      "RandomForestClassifier            63.04              60.20    60.20     61.13   \n",
      "BaggingClassifier                 62.24              59.65    59.65     60.64   \n",
      "XGBClassifier                     62.11              60.54    60.54     61.55   \n",
      "AdaBoostClassifier                60.99              59.61    59.61     60.61   \n",
      "GaussianNB                        59.81              59.86    59.86     59.55   \n",
      "CalibratedClassifierCV            59.01              54.68    54.68     53.90   \n",
      "SGDClassifier                     58.63              57.22    57.22     58.21   \n",
      "KNeighborsClassifier              58.57              57.25    57.25     58.22   \n",
      "Perceptron                        58.20              57.35    57.35     58.10   \n",
      "PassiveAggressiveClassifier       57.95              57.20    57.20     57.89   \n",
      "LinearSVC                         57.70              57.02    57.02     57.68   \n",
      "DecisionTreeClassifier            57.45              56.54    56.54     57.34   \n",
      "LabelPropagation                  56.71              50.00    50.00     41.04   \n",
      "LabelSpreading                    56.71              50.00    50.00     41.04   \n",
      "RidgeClassifierCV                 55.59              55.09    55.09     55.61   \n",
      "ExtraTreeClassifier               53.42              52.35    52.35     53.24   \n",
      "DummyClassifier                   53.11              51.68    51.68     52.75   \n",
      "RidgeClassifier                   52.61              52.44    52.44     52.74   \n",
      "LinearDiscriminantAnalysis        51.06              50.97    50.97     51.17   \n",
      "QuadraticDiscriminantAnalysis     50.25              49.82    49.82     50.25   \n",
      "\n",
      "                               Time Taken  \n",
      "Model                                      \n",
      "BernoulliNB                         16.57  \n",
      "SVC                                367.51  \n",
      "ExtraTreesClassifier                93.39  \n",
      "NearestCentroid                     14.27  \n",
      "NuSVC                              394.56  \n",
      "LGBMClassifier                     303.82  \n",
      "RandomForestClassifier             152.64  \n",
      "BaggingClassifier                  493.59  \n",
      "XGBClassifier                      288.20  \n",
      "AdaBoostClassifier                 341.20  \n",
      "GaussianNB                          16.63  \n",
      "CalibratedClassifierCV             559.37  \n",
      "SGDClassifier                       28.06  \n",
      "KNeighborsClassifier                87.10  \n",
      "Perceptron                          26.51  \n",
      "PassiveAggressiveClassifier         61.05  \n",
      "LinearSVC                          266.85  \n",
      "DecisionTreeClassifier              91.88  \n",
      "LabelPropagation                    27.66  \n",
      "LabelSpreading                      27.10  \n",
      "RidgeClassifierCV                   68.17  \n",
      "ExtraTreeClassifier                 14.54  \n",
      "DummyClassifier                     13.23  \n",
      "RidgeClassifier                     24.91  \n",
      "LinearDiscriminantAnalysis         171.25  \n",
      "QuadraticDiscriminantAnalysis       63.24  \n"
     ]
    },
    {
     "name": "stderr",
     "output_type": "stream",
     "text": [
      "\r",
      "  0%|          | 0/29 [00:00<?, ?it/s]"
     ]
    },
    {
     "name": "stdout",
     "output_type": "stream",
     "text": [
      "Split: 1\n"
     ]
    },
    {
     "name": "stderr",
     "output_type": "stream",
     "text": [
      "100%|██████████| 29/29 [00:44<00:00,  1.52s/it]\n",
      "  0%|          | 0/29 [00:00<?, ?it/s]"
     ]
    },
    {
     "name": "stdout",
     "output_type": "stream",
     "text": [
      "Split: 2\n"
     ]
    },
    {
     "name": "stderr",
     "output_type": "stream",
     "text": [
      "100%|██████████| 29/29 [00:44<00:00,  1.53s/it]\n",
      "  0%|          | 0/29 [00:00<?, ?it/s]"
     ]
    },
    {
     "name": "stdout",
     "output_type": "stream",
     "text": [
      "Split: 3\n"
     ]
    },
    {
     "name": "stderr",
     "output_type": "stream",
     "text": [
      "100%|██████████| 29/29 [00:44<00:00,  1.52s/it]\n",
      "  0%|          | 0/29 [00:00<?, ?it/s]"
     ]
    },
    {
     "name": "stdout",
     "output_type": "stream",
     "text": [
      "Split: 4\n"
     ]
    },
    {
     "name": "stderr",
     "output_type": "stream",
     "text": [
      "100%|██████████| 29/29 [00:44<00:00,  1.53s/it]\n",
      "  0%|          | 0/29 [00:00<?, ?it/s]"
     ]
    },
    {
     "name": "stdout",
     "output_type": "stream",
     "text": [
      "Split: 5\n"
     ]
    },
    {
     "name": "stderr",
     "output_type": "stream",
     "text": [
      "100%|██████████| 29/29 [00:44<00:00,  1.54s/it]\n",
      "  0%|          | 0/29 [00:00<?, ?it/s]"
     ]
    },
    {
     "name": "stdout",
     "output_type": "stream",
     "text": [
      "Split: 6\n"
     ]
    },
    {
     "name": "stderr",
     "output_type": "stream",
     "text": [
      "100%|██████████| 29/29 [00:43<00:00,  1.51s/it]\n",
      "  0%|          | 0/29 [00:00<?, ?it/s]"
     ]
    },
    {
     "name": "stdout",
     "output_type": "stream",
     "text": [
      "Split: 7\n"
     ]
    },
    {
     "name": "stderr",
     "output_type": "stream",
     "text": [
      "100%|██████████| 29/29 [00:44<00:00,  1.53s/it]\n",
      "  0%|          | 0/29 [00:00<?, ?it/s]"
     ]
    },
    {
     "name": "stdout",
     "output_type": "stream",
     "text": [
      "Split: 8\n"
     ]
    },
    {
     "name": "stderr",
     "output_type": "stream",
     "text": [
      "100%|██████████| 29/29 [00:44<00:00,  1.54s/it]\n",
      "  0%|          | 0/29 [00:00<?, ?it/s]"
     ]
    },
    {
     "name": "stdout",
     "output_type": "stream",
     "text": [
      "Split: 9\n"
     ]
    },
    {
     "name": "stderr",
     "output_type": "stream",
     "text": [
      "100%|██████████| 29/29 [00:44<00:00,  1.55s/it]\n",
      "  0%|          | 0/29 [00:00<?, ?it/s]"
     ]
    },
    {
     "name": "stdout",
     "output_type": "stream",
     "text": [
      "Split: 10\n"
     ]
    },
    {
     "name": "stderr",
     "output_type": "stream",
     "text": [
      "100%|██████████| 29/29 [00:45<00:00,  1.58s/it]\n"
     ]
    },
    {
     "name": "stdout",
     "output_type": "stream",
     "text": [
      "                               Accuracy  Balanced Accuracy  ROC AUC  F1 Score  \\\n",
      "Model                                                                           \n",
      "SVC                               65.15              63.26    63.26     64.33   \n",
      "LGBMClassifier                    65.09              63.44    63.44     64.43   \n",
      "ExtraTreesClassifier              64.96              61.95    61.95     62.77   \n",
      "BernoulliNB                       64.21              63.98    63.98     64.27   \n",
      "RandomForestClassifier            63.90              61.15    61.15     62.08   \n",
      "NuSVC                             63.84              62.49    62.49     63.44   \n",
      "NearestCentroid                   63.59              63.49    63.49     63.68   \n",
      "XGBClassifier                     63.21              61.58    61.58     62.60   \n",
      "BaggingClassifier                 61.21              58.45    58.45     59.22   \n",
      "SGDClassifier                     59.84              58.33    58.33     59.36   \n",
      "AdaBoostClassifier                59.47              58.44    58.44     59.25   \n",
      "CalibratedClassifierCV            59.09              54.58    54.58     53.22   \n",
      "GaussianNB                        58.90              58.86    58.86     58.51   \n",
      "Perceptron                        58.78              58.27    58.27     58.80   \n",
      "PassiveAggressiveClassifier       58.34              57.73    57.73     58.35   \n",
      "LinearSVC                         58.09              57.60    57.60     58.15   \n",
      "KNeighborsClassifier              57.84              56.65    56.65     57.58   \n",
      "DecisionTreeClassifier            57.22              56.68    56.68     57.26   \n",
      "LabelPropagation                  56.65              50.00    50.00     40.98   \n",
      "LabelSpreading                    56.65              50.00    50.00     40.98   \n",
      "RidgeClassifierCV                 56.15              55.81    55.81     56.22   \n",
      "ExtraTreeClassifier               54.09              53.45    53.45     54.11   \n",
      "RidgeClassifier                   54.03              53.65    53.65     54.07   \n",
      "LinearDiscriminantAnalysis        53.22              52.95    52.95     53.32   \n",
      "QuadraticDiscriminantAnalysis     51.78              51.42    51.42     51.89   \n",
      "DummyClassifier                   50.03              48.58    48.58     49.67   \n",
      "\n",
      "                               Time Taken  \n",
      "Model                                      \n",
      "SVC                                435.44  \n",
      "LGBMClassifier                     355.45  \n",
      "ExtraTreesClassifier               102.96  \n",
      "BernoulliNB                         19.91  \n",
      "RandomForestClassifier             168.44  \n",
      "NuSVC                              464.35  \n",
      "NearestCentroid                     16.74  \n",
      "XGBClassifier                      338.28  \n",
      "BaggingClassifier                  599.60  \n",
      "SGDClassifier                       30.23  \n",
      "AdaBoostClassifier                 405.86  \n",
      "CalibratedClassifierCV             441.58  \n",
      "GaussianNB                          19.98  \n",
      "Perceptron                          29.55  \n",
      "PassiveAggressiveClassifier         58.03  \n",
      "LinearSVC                          218.01  \n",
      "KNeighborsClassifier               101.11  \n",
      "DecisionTreeClassifier             109.70  \n",
      "LabelPropagation                    29.67  \n",
      "LabelSpreading                      29.45  \n",
      "RidgeClassifierCV                   66.53  \n",
      "ExtraTreeClassifier                 17.19  \n",
      "RidgeClassifier                     27.92  \n",
      "LinearDiscriminantAnalysis         214.91  \n",
      "QuadraticDiscriminantAnalysis       69.89  \n",
      "DummyClassifier                     15.62  \n"
     ]
    },
    {
     "name": "stderr",
     "output_type": "stream",
     "text": [
      "\r",
      "  0%|          | 0/29 [00:00<?, ?it/s]"
     ]
    },
    {
     "name": "stdout",
     "output_type": "stream",
     "text": [
      "Split: 1\n"
     ]
    },
    {
     "name": "stderr",
     "output_type": "stream",
     "text": [
      "100%|██████████| 29/29 [00:48<00:00,  1.66s/it]\n",
      "  0%|          | 0/29 [00:00<?, ?it/s]"
     ]
    },
    {
     "name": "stdout",
     "output_type": "stream",
     "text": [
      "Split: 2\n"
     ]
    },
    {
     "name": "stderr",
     "output_type": "stream",
     "text": [
      "100%|██████████| 29/29 [00:47<00:00,  1.64s/it]\n",
      "  0%|          | 0/29 [00:00<?, ?it/s]"
     ]
    },
    {
     "name": "stdout",
     "output_type": "stream",
     "text": [
      "Split: 3\n"
     ]
    },
    {
     "name": "stderr",
     "output_type": "stream",
     "text": [
      "100%|██████████| 29/29 [00:47<00:00,  1.63s/it]\n",
      "  0%|          | 0/29 [00:00<?, ?it/s]"
     ]
    },
    {
     "name": "stdout",
     "output_type": "stream",
     "text": [
      "Split: 4\n"
     ]
    },
    {
     "name": "stderr",
     "output_type": "stream",
     "text": [
      "100%|██████████| 29/29 [00:48<00:00,  1.68s/it]\n",
      "  0%|          | 0/29 [00:00<?, ?it/s]"
     ]
    },
    {
     "name": "stdout",
     "output_type": "stream",
     "text": [
      "Split: 5\n"
     ]
    },
    {
     "name": "stderr",
     "output_type": "stream",
     "text": [
      "100%|██████████| 29/29 [00:47<00:00,  1.65s/it]\n",
      "  0%|          | 0/29 [00:00<?, ?it/s]"
     ]
    },
    {
     "name": "stdout",
     "output_type": "stream",
     "text": [
      "Split: 6\n"
     ]
    },
    {
     "name": "stderr",
     "output_type": "stream",
     "text": [
      "100%|██████████| 29/29 [00:47<00:00,  1.65s/it]\n",
      "  0%|          | 0/29 [00:00<?, ?it/s]"
     ]
    },
    {
     "name": "stdout",
     "output_type": "stream",
     "text": [
      "Split: 7\n"
     ]
    },
    {
     "name": "stderr",
     "output_type": "stream",
     "text": [
      "100%|██████████| 29/29 [00:47<00:00,  1.65s/it]\n",
      "  0%|          | 0/29 [00:00<?, ?it/s]"
     ]
    },
    {
     "name": "stdout",
     "output_type": "stream",
     "text": [
      "Split: 8\n"
     ]
    },
    {
     "name": "stderr",
     "output_type": "stream",
     "text": [
      "100%|██████████| 29/29 [00:48<00:00,  1.68s/it]\n",
      "  0%|          | 0/29 [00:00<?, ?it/s]"
     ]
    },
    {
     "name": "stdout",
     "output_type": "stream",
     "text": [
      "Split: 9\n"
     ]
    },
    {
     "name": "stderr",
     "output_type": "stream",
     "text": [
      "100%|██████████| 29/29 [00:47<00:00,  1.64s/it]\n",
      "  0%|          | 0/29 [00:00<?, ?it/s]"
     ]
    },
    {
     "name": "stdout",
     "output_type": "stream",
     "text": [
      "Split: 10\n"
     ]
    },
    {
     "name": "stderr",
     "output_type": "stream",
     "text": [
      "100%|██████████| 29/29 [00:48<00:00,  1.66s/it]\n"
     ]
    },
    {
     "name": "stdout",
     "output_type": "stream",
     "text": [
      "                               Accuracy  Balanced Accuracy  ROC AUC  F1 Score  \\\n",
      "Model                                                                           \n",
      "SVC                               65.64              63.73    63.73     64.77   \n",
      "NuSVC                             65.45              64.09    64.09     64.98   \n",
      "RandomForestClassifier            65.26              62.51    62.51     63.52   \n",
      "BernoulliNB                       64.76              64.55    64.55     64.83   \n",
      "NearestCentroid                   64.32              64.20    64.20     64.40   \n",
      "LGBMClassifier                    63.94              62.26    62.26     63.31   \n",
      "ExtraTreesClassifier              63.88              60.96    60.96     61.85   \n",
      "XGBClassifier                     63.31              61.81    61.81     62.82   \n",
      "AdaBoostClassifier                62.00              60.77    60.77     61.70   \n",
      "BaggingClassifier                 61.50              58.85    58.85     59.80   \n",
      "SGDClassifier                     60.17              58.57    58.57     59.52   \n",
      "PassiveAggressiveClassifier       59.86              59.19    59.19     59.72   \n",
      "Perceptron                        59.48              58.84    58.84     59.38   \n",
      "CalibratedClassifierCV            59.24              55.14    55.14     54.68   \n",
      "DecisionTreeClassifier            58.98              58.04    58.04     58.84   \n",
      "LinearSVC                         58.23              57.54    57.54     58.11   \n",
      "GaussianNB                        58.04              58.90    58.90     57.67   \n",
      "KNeighborsClassifier              57.72              56.26    56.26     57.21   \n",
      "ExtraTreeClassifier               56.85              55.88    55.88     56.68   \n",
      "LabelSpreading                    56.72              50.00    50.00     41.06   \n",
      "LabelPropagation                  56.72              50.00    50.00     41.06   \n",
      "RidgeClassifierCV                 53.77              53.49    53.49     53.85   \n",
      "LinearDiscriminantAnalysis        53.08              52.69    52.69     53.18   \n",
      "RidgeClassifier                   52.76              52.53    52.53     52.90   \n",
      "DummyClassifier                   50.19              48.70    48.70     49.81   \n",
      "QuadraticDiscriminantAnalysis     48.25              48.15    48.15     48.41   \n",
      "\n",
      "                               Time Taken  \n",
      "Model                                      \n",
      "SVC                                496.82  \n",
      "NuSVC                              526.51  \n",
      "RandomForestClassifier             178.33  \n",
      "BernoulliNB                         22.53  \n",
      "NearestCentroid                     19.58  \n",
      "LGBMClassifier                     417.29  \n",
      "ExtraTreesClassifier               109.41  \n",
      "XGBClassifier                      386.45  \n",
      "AdaBoostClassifier                 469.64  \n",
      "BaggingClassifier                  685.52  \n",
      "SGDClassifier                       30.91  \n",
      "PassiveAggressiveClassifier         55.51  \n",
      "Perceptron                          31.60  \n",
      "CalibratedClassifierCV             359.27  \n",
      "DecisionTreeClassifier             122.25  \n",
      "LinearSVC                          162.08  \n",
      "GaussianNB                          22.31  \n",
      "KNeighborsClassifier               119.70  \n",
      "ExtraTreeClassifier                 18.97  \n",
      "LabelSpreading                      32.94  \n",
      "LabelPropagation                    33.36  \n",
      "RidgeClassifierCV                   71.43  \n",
      "LinearDiscriminantAnalysis         219.89  \n",
      "RidgeClassifier                     32.18  \n",
      "DummyClassifier                     17.40  \n",
      "QuadraticDiscriminantAnalysis       77.88  \n"
     ]
    },
    {
     "name": "stderr",
     "output_type": "stream",
     "text": [
      "\r",
      "  0%|          | 0/29 [00:00<?, ?it/s]"
     ]
    },
    {
     "name": "stdout",
     "output_type": "stream",
     "text": [
      "Split: 1\n"
     ]
    },
    {
     "name": "stderr",
     "output_type": "stream",
     "text": [
      "100%|██████████| 29/29 [01:01<00:00,  2.12s/it]\n",
      "  0%|          | 0/29 [00:00<?, ?it/s]"
     ]
    },
    {
     "name": "stdout",
     "output_type": "stream",
     "text": [
      "Split: 2\n"
     ]
    },
    {
     "name": "stderr",
     "output_type": "stream",
     "text": [
      "100%|██████████| 29/29 [01:01<00:00,  2.13s/it]\n",
      "  0%|          | 0/29 [00:00<?, ?it/s]"
     ]
    },
    {
     "name": "stdout",
     "output_type": "stream",
     "text": [
      "Split: 3\n"
     ]
    },
    {
     "name": "stderr",
     "output_type": "stream",
     "text": [
      "100%|██████████| 29/29 [01:01<00:00,  2.11s/it]\n",
      "  0%|          | 0/29 [00:00<?, ?it/s]"
     ]
    },
    {
     "name": "stdout",
     "output_type": "stream",
     "text": [
      "Split: 4\n"
     ]
    },
    {
     "name": "stderr",
     "output_type": "stream",
     "text": [
      "100%|██████████| 29/29 [01:00<00:00,  2.10s/it]\n",
      "  0%|          | 0/29 [00:00<?, ?it/s]"
     ]
    },
    {
     "name": "stdout",
     "output_type": "stream",
     "text": [
      "Split: 5\n"
     ]
    },
    {
     "name": "stderr",
     "output_type": "stream",
     "text": [
      "100%|██████████| 29/29 [01:01<00:00,  2.12s/it]\n",
      "  0%|          | 0/29 [00:00<?, ?it/s]"
     ]
    },
    {
     "name": "stdout",
     "output_type": "stream",
     "text": [
      "Split: 6\n"
     ]
    },
    {
     "name": "stderr",
     "output_type": "stream",
     "text": [
      "100%|██████████| 29/29 [01:01<00:00,  2.13s/it]\n",
      "  0%|          | 0/29 [00:00<?, ?it/s]"
     ]
    },
    {
     "name": "stdout",
     "output_type": "stream",
     "text": [
      "Split: 7\n"
     ]
    },
    {
     "name": "stderr",
     "output_type": "stream",
     "text": [
      "100%|██████████| 29/29 [01:01<00:00,  2.11s/it]\n",
      "  0%|          | 0/29 [00:00<?, ?it/s]"
     ]
    },
    {
     "name": "stdout",
     "output_type": "stream",
     "text": [
      "Split: 8\n"
     ]
    },
    {
     "name": "stderr",
     "output_type": "stream",
     "text": [
      "100%|██████████| 29/29 [01:01<00:00,  2.12s/it]\n",
      "  0%|          | 0/29 [00:00<?, ?it/s]"
     ]
    },
    {
     "name": "stdout",
     "output_type": "stream",
     "text": [
      "Split: 9\n"
     ]
    },
    {
     "name": "stderr",
     "output_type": "stream",
     "text": [
      "100%|██████████| 29/29 [01:01<00:00,  2.14s/it]\n",
      "  0%|          | 0/29 [00:00<?, ?it/s]"
     ]
    },
    {
     "name": "stdout",
     "output_type": "stream",
     "text": [
      "Split: 10\n"
     ]
    },
    {
     "name": "stderr",
     "output_type": "stream",
     "text": [
      "100%|██████████| 29/29 [01:01<00:00,  2.10s/it]"
     ]
    },
    {
     "name": "stdout",
     "output_type": "stream",
     "text": [
      "                               Accuracy  Balanced Accuracy  ROC AUC  F1 Score  \\\n",
      "Model                                                                           \n",
      "SVC                               65.05              63.12    63.12     64.18   \n",
      "NuSVC                             64.98              63.49    63.49     64.45   \n",
      "BernoulliNB                       64.92              64.78    64.78     65.01   \n",
      "XGBClassifier                     64.53              62.84    62.84     63.90   \n",
      "NearestCentroid                   64.09              64.05    64.05     64.19   \n",
      "RandomForestClassifier            63.64              60.61    60.61     61.48   \n",
      "LGBMClassifier                    63.58              61.79    61.79     62.84   \n",
      "ExtraTreesClassifier              63.51              60.50    60.50     61.33   \n",
      "SGDClassifier                     61.73              59.44    59.44     60.47   \n",
      "AdaBoostClassifier                61.15              60.03    60.03     60.89   \n",
      "Perceptron                        60.83              60.01    60.01     60.69   \n",
      "PassiveAggressiveClassifier       60.57              59.92    59.92     60.47   \n",
      "BaggingClassifier                 60.45              57.81    57.81     58.80   \n",
      "CalibratedClassifierCV            60.32              55.86    55.86     54.98   \n",
      "LinearSVC                         59.74              59.22    59.22     59.72   \n",
      "KNeighborsClassifier              59.04              57.97    57.97     58.82   \n",
      "LabelPropagation                  56.74              50.00    50.00     41.08   \n",
      "LabelSpreading                    56.74              50.00    50.00     41.08   \n",
      "RidgeClassifierCV                 56.23              55.84    55.84     56.29   \n",
      "LinearDiscriminantAnalysis        56.23              55.62    55.62     56.20   \n",
      "RidgeClassifier                   56.04              55.64    55.64     56.12   \n",
      "DecisionTreeClassifier            54.31              53.37    53.37     54.16   \n",
      "ExtraTreeClassifier               53.99              52.95    52.95     53.78   \n",
      "GaussianNB                        53.09              56.32    56.32     50.30   \n",
      "DummyClassifier                   52.72              51.21    51.21     52.31   \n",
      "QuadraticDiscriminantAnalysis     50.55              49.85    49.85     50.57   \n",
      "\n",
      "                               Time Taken  \n",
      "Model                                      \n",
      "SVC                                674.35  \n",
      "NuSVC                              712.50  \n",
      "BernoulliNB                         30.69  \n",
      "XGBClassifier                      526.08  \n",
      "NearestCentroid                     26.47  \n",
      "RandomForestClassifier             211.94  \n",
      "LGBMClassifier                     611.86  \n",
      "ExtraTreesClassifier               129.19  \n",
      "SGDClassifier                       39.21  \n",
      "AdaBoostClassifier                 648.88  \n",
      "Perceptron                          40.43  \n",
      "PassiveAggressiveClassifier         59.63  \n",
      "BaggingClassifier                  942.73  \n",
      "CalibratedClassifierCV             319.36  \n",
      "LinearSVC                          121.09  \n",
      "KNeighborsClassifier               159.61  \n",
      "LabelPropagation                    42.65  \n",
      "LabelSpreading                      43.15  \n",
      "RidgeClassifierCV                   80.27  \n",
      "LinearDiscriminantAnalysis         241.98  \n",
      "RidgeClassifier                     41.67  \n",
      "DecisionTreeClassifier             166.28  \n",
      "ExtraTreeClassifier                 25.40  \n",
      "GaussianNB                          30.50  \n",
      "DummyClassifier                     23.52  \n",
      "QuadraticDiscriminantAnalysis      100.57  \n"
     ]
    },
    {
     "name": "stderr",
     "output_type": "stream",
     "text": [
      "\n"
     ]
    }
   ],
   "source": [
    "#as one big script to go through n_games\n",
    "n_games = [1,2,3,4,5,6,7,10]\n",
    "for n in n_games:\n",
    "    run_all_lp(n)"
   ]
  },
  {
   "cell_type": "code",
   "execution_count": null,
   "metadata": {},
   "outputs": [],
   "source": []
  },
  {
   "cell_type": "code",
   "execution_count": null,
   "metadata": {},
   "outputs": [],
   "source": []
  },
  {
   "cell_type": "code",
   "execution_count": null,
   "metadata": {},
   "outputs": [],
   "source": []
  },
  {
   "cell_type": "markdown",
   "metadata": {},
   "source": [
    "# Deep Learningggg"
   ]
  },
  {
   "cell_type": "code",
   "execution_count": null,
   "metadata": {},
   "outputs": [],
   "source": [
    "def build_DNN_model(x_len):\n",
    "    model = Sequential()\n",
    "    model.add(Dense(63, input_dim = x_len))\n",
    "    model.add(Activation('relu'))\n",
    "    model.add(Dropout(0.03))\n",
    "    model.add(BatchNormalization())\n",
    "\n",
    "    model.add(Dense(32))\n",
    "    model.add(Activation('relu'))\n",
    "    model.add(Dropout(0.02))\n",
    "\n",
    "    model.add(Dense(16))\n",
    "    model.add(Activation('relu'))\n",
    "\n",
    "    model.add(Dense(8))\n",
    "    model.add(Activation('relu'))\n",
    "    #add output layer\n",
    "    model.add(Dense(1, activation='linear'))\n",
    "    opt = tf.keras.optimizers.Adamax(learning_rate=0.003)\n",
    "\n",
    "    model.compile(loss=\"mean_squared_error\", optimizer=opt, metrics=[tf.keras.metrics.RootMeanSquaredError()])\n",
    "    print(model.summary())\n",
    "    return model"
   ]
  },
  {
   "cell_type": "code",
   "execution_count": null,
   "metadata": {},
   "outputs": [],
   "source": [
    "def build_CNN_model(x_len):\n",
    "    #del model\n",
    "    model = Sequential()\n",
    "    model.add(Conv1D(filters=32, kernel_size=14,\n",
    "                     input_shape=(x_len, 1)))\n",
    "    model.add(Activation('relu'))\n",
    "    model.add(Dropout(0.2))\n",
    "    model.add(Conv1D(filters=16, kernel_size=10,\n",
    "                     input_shape=(32, 1)))\n",
    "    model.add(Activation('linear'))\n",
    "    model.add(Dropout(0.1))\n",
    "    model.add(Conv1D(filters=10, kernel_size=8,\n",
    "                     input_shape=(16, 1)))\n",
    "    model.add(Activation('linear'))\n",
    "    model.add(MaxPooling1D(pool_size=2))\n",
    "    model.add(BatchNormalization())\n",
    "    model.add(Flatten())\n",
    "    model.add(Dense(64, activation='linear'))\n",
    "    model.add(Dense(32, activation='linear'))\n",
    "    model.add(Dense(16, activation='linear'))\n",
    "    model.add(BatchNormalization())\n",
    "    model.add(Dense(1, activation='linear'))\n",
    "    opt = tf.keras.optimizers.Adamax(learning_rate=0.003)#, beta_1=0.9, beta_2=0.999, epsilon=1e-07, name=\"Adamax\"\n",
    "\n",
    "\n",
    "    model.compile(loss=\"mean_squared_error\", optimizer=opt, metrics=[tf.keras.metrics.RootMeanSquaredError()])\n",
    "\n",
    "    print(model.summary())\n",
    "    return model"
   ]
  },
  {
   "cell_type": "code",
   "execution_count": null,
   "metadata": {},
   "outputs": [],
   "source": [
    "#flag = 0 (DNN)\n",
    "#flag = 1 (CNN)\n",
    "def eval_dl(x,y,k,flag):\n",
    "    cv = StratifiedKFold(n_splits=k,shuffle=True)\n",
    "    best_model = []\n",
    "    results = []\n",
    "    highest = 0\n",
    "    i = 1\n",
    "    for train,test in cv.split(x,y):\n",
    "        if(flag == 0):\n",
    "            model = build_DNN_model(x[train].shape[1])\n",
    "        if(flag == 1):\n",
    "            x = x.reshape(x.shape[0], x.shape[1], 1)\n",
    "            model = build_CNN_model(x[train].shape[1])\n",
    "        bs = ((x[train].shape[0])/20)\n",
    "        bs = round(bs)\n",
    "        history = model.fit(x[train], y[train], validation_data=(x[test], y[test]), epochs = 50, batch_size=bs)\n",
    "        _, accuracy = model.evaluate(x[test], y[test], batch_size=bs, verbose=0)\n",
    "        accuracy = accuracy * 100\n",
    "        print(\"accuracy for model \" + str(i) + \" is \" + str(accuracy))\n",
    "        if(accuracy > highest):\n",
    "            highest = accuracy\n",
    "            best_model = model\n",
    "        results.append(accuracy)\n",
    "        i = i + 1\n",
    "    print(\"highest accuracy is: \" + str(highest))\n",
    "    print(\"Training Testing Accuracy: %.2f%% (%.2f%%)\" % (np.mean(results), np.std(results)))\n",
    "    return best_model"
   ]
  }
 ],
 "metadata": {
  "kernelspec": {
   "display_name": "Python 3",
   "language": "python",
   "name": "python3"
  },
  "language_info": {
   "codemirror_mode": {
    "name": "ipython",
    "version": 3
   },
   "file_extension": ".py",
   "mimetype": "text/x-python",
   "name": "python",
   "nbconvert_exporter": "python",
   "pygments_lexer": "ipython3",
   "version": "3.8.5"
  }
 },
 "nbformat": 4,
 "nbformat_minor": 4
}
