{
 "cells": [
  {
   "cell_type": "code",
   "execution_count": 1,
   "metadata": {},
   "outputs": [
    {
     "name": "stdout",
     "output_type": "stream",
     "text": [
      "2.2.0\n",
      "2.4.3\n"
     ]
    }
   ],
   "source": [
    "import xgboost as xgb\n",
    "import tensorflow as tf; print(tf.__version__)\n",
    "import keras; print(keras.__version__)\n",
    "#import torch.nn as nn\n",
    "#import touch.nn.functional as F\n",
    "import pandas as pd\n",
    "import numpy as np\n",
    "from sklearn.model_selection import train_test_split\n",
    "from sklearn.metrics import accuracy_score\n",
    "from random import randint\n",
    "from Gather_AFL_Data import gatherer as gad\n",
    "#from fdnn import feature_extractor as fex\n",
    "import skopt\n",
    "from skopt.searchcv import BayesSearchCV\n",
    "from skopt.space import Real, Categorical, Integer\n",
    "from sklearn.model_selection import StratifiedKFold\n",
    "import pickle\n",
    "from sklearn.preprocessing import OneHotEncoder\n",
    "from tensorflow.keras.models import Sequential\n",
    "from tensorflow.keras.layers import Dense\n",
    "from tensorflow.keras.layers import Flatten\n",
    "from tensorflow.keras.layers import Dropout\n",
    "from tensorflow.keras.layers import Input\n",
    "from tensorflow.keras.layers import BatchNormalization\n",
    "from tensorflow.keras.layers import Conv1D\n",
    "from tensorflow.keras.layers import MaxPooling1D\n",
    "from tensorflow.keras.utils import to_categorical\n",
    "from keras.utils.vis_utils import plot_model\n",
    "from tensorflow.keras.layers import LSTM\n",
    "from tensorflow.keras.layers import Embedding\n",
    "from tensorflow.keras.preprocessing import sequence\n",
    "import matplotlib.pyplot as plt\n",
    "from tensorflow.keras.layers import Activation\n",
    "from sklearn.metrics import mean_squared_error\n",
    "from math import sqrt\n",
    "from sklearn.model_selection import cross_val_score, KFold"
   ]
  },
  {
   "cell_type": "code",
   "execution_count": 2,
   "metadata": {},
   "outputs": [],
   "source": [
    "#one hot encode data and transform the X_data\n",
    "\n",
    "def ohe_data(x_data, enc, flag):\n",
    "    cat_var= [1,2,10,110,210,310,410,510,610,710,810,910,1010,1110,1210,1310,1410,1510,1610,1710,1810,1910]\n",
    "    if (flag == 0):\n",
    "        #transposes the matrix as xgboost wants examples as rows\n",
    "        #each input category is a column\n",
    "        x_t_data = x_data.T\n",
    "        #converts to numpy array\n",
    "        x_data = x_t_data.to_numpy()\n",
    "        #removes the first row as its a leftover label\n",
    "        x_data = np.delete(x_data,0,0)\n",
    "        x_data = pd.DataFrame(data=x_data)\n",
    "        categorical_data = x_data[cat_var]\n",
    "        x_data = x_data.drop(cat_var, axis = 1)\n",
    "        ohe = OneHotEncoder(handle_unknown='ignore', sparse=False)\n",
    "        ohe = ohe.fit(categorical_data)\n",
    "        categorical_data = ohe.transform(categorical_data)\n",
    "        categorical_data = pd.DataFrame(categorical_data)\n",
    "        x_data = pd.concat([x_data, categorical_data], axis = 1)\n",
    "        x_data = x_data.to_numpy()\n",
    "    else:\n",
    "        #transposes the matrix as xgboost wants examples as rows\n",
    "        #each input category is a column\n",
    "        x_t_data = x_data.T\n",
    "        #converts to numpy array\n",
    "        x_data = x_t_data.to_numpy()\n",
    "        #removes the first row as its a leftover label\n",
    "        x_data = pd.DataFrame(x_data)\n",
    "        categorical_data = x_data[cat_var]\n",
    "        #print(categorical_data)\n",
    "        x_data = x_data.drop(cat_var, axis = 1)\n",
    "        categorical_data = enc.transform(categorical_data)\n",
    "        #print(categorical_data)\n",
    "        categorical_data = pd.DataFrame(categorical_data)\n",
    "        x_data = pd.concat([x_data, categorical_data], axis = 1)\n",
    "        x_data = x_data.to_numpy()\n",
    "        #print(x_data.shape)\n",
    "        ohe = enc\n",
    "    return x_data, ohe"
   ]
  },
  {
   "cell_type": "code",
   "execution_count": 3,
   "metadata": {},
   "outputs": [],
   "source": [
    "#search parameters for best XGB classifier or best XGB regressor\n",
    "\n",
    "def param_search(x_data, y_label, class_reg):\n",
    "\n",
    "    def on_step(optim_result):\n",
    "        \"\"\"\n",
    "        Callback meant to view scores after\n",
    "        each iteration while performing Bayesian\n",
    "        Optimization in Skopt\"\"\"\n",
    "        score = xgb_bayes_search.best_score_\n",
    "        print(\"best score: %s\" % score)\n",
    "        if score >= 0.98:\n",
    "            print('Interrupting!')\n",
    "            return True\n",
    "    X_train, X_test, y_train, y_test = train_test_split(x_data, y_label, test_size=0.2, random_state=27022013)\n",
    "    space ={'learning_rate': Real(0.01, 1.0, 'log-uniform'),\n",
    "        'min_child_weight': Integer(0, 10),\n",
    "        'max_depth': Integer(0, 50),\n",
    "        'max_delta_step': Integer(0, 20),\n",
    "        'subsample': Real(0.01, 1.0, 'uniform'),\n",
    "        'colsample_bytree': Real(0.01, 1.0, 'uniform'),\n",
    "        'colsample_bylevel': Real(0.01, 1.0, 'uniform'),\n",
    "        'reg_lambda': Real(1e-9, 1000, 'log-uniform'),\n",
    "        'reg_alpha': Real(1e-9, 1.0, 'log-uniform'),\n",
    "        'gamma': Real(1e-9, 0.5, 'log-uniform'),\n",
    "        'min_child_weight': Integer(0, 5),\n",
    "        'n_estimators': Integer(50, 200),\n",
    "        'scale_pos_weight': Real(1e-6, 500, 'log-uniform')}\n",
    "    if(class_reg == 0):\n",
    "        xgbclass = xgb.XGBClassifier(random_state=27022013)\n",
    "    else:\n",
    "        xgbclass = xgb.XGBRegressor(random_state=27022013)\n",
    "    xgb_bayes_search = BayesSearchCV(xgbclass, space, n_iter=60, # specify how many iterations\n",
    "                                    scoring=None, n_jobs=1, cv=5, verbose=3, random_state=42, n_points=12,\n",
    "                                 refit=True)\n",
    "    kk = np.isinf(X_train)\n",
    "    if True in kk:\n",
    "    \tprint(\"aaaaaaa\")\n",
    "    kk = np.isinf(y_train)\n",
    "    if True in kk:\n",
    "    \tprint(\"reeeeeee\")\n",
    "    try:\n",
    "        xgb_bayes_search.fit(X_train, y_train.ravel(), callback = on_step)\n",
    "    except:\n",
    "        xgb_bayes_search.fit(X_train, y_train.ravel(), callback = on_step)\n",
    "    print(\"BEST PARAMS ARE HERE\")\n",
    "    print(xgb_bayes_search.best_params_)\n",
    "    model = xgb_bayes_search.best_estimator_\n",
    "\n",
    "    return model"
   ]
  },
  {
   "cell_type": "code",
   "execution_count": 5,
   "metadata": {},
   "outputs": [
    {
     "name": "stdout",
     "output_type": "stream",
     "text": [
      "[[-44.]\n",
      " [ 22.]\n",
      " [-41.]\n",
      " ...\n",
      " [ 12.]\n",
      " [ 45.]\n",
      " [ 74.]]\n"
     ]
    }
   ],
   "source": [
    "#load in data\n",
    "\n",
    "g = gad()\n",
    "teams = g.createTeamDict()\n",
    "#makes an array that keeps track of how many wins a team has for the random run\n",
    "#loads the input data from the assembled matrix in assemble_df.py\n",
    "x_data = pd.read_csv('Data/assembled_stat_matrix.csv')\n",
    "na_enc = OneHotEncoder(handle_unknown='ignore', sparse=False)\n",
    "x_data, ohe = ohe_data(x_data, na_enc, 0)\n",
    "\n",
    "#loads the ylabel matrix,\n",
    "y_label = pd.read_csv('Data/assembled_labelled_ymatrix.csv')\n",
    "#transposes y_label\n",
    "y_t_label = y_label.T\n",
    "#converts to numpy\n",
    "y_label = y_t_label.to_numpy()\n",
    "#removes the first row, as its not an accruate outcome label, its just a row label\n",
    "y_label = np.delete(y_label, 0, 0)\n",
    "\n",
    "#loads margin as the y_label\n",
    "margin_label = pd.read_csv('Data/assembled_margin_ymatrix.csv')\n",
    "margin_t_label = margin_label.T\n",
    "margin_label = margin_t_label.to_numpy()\n",
    "margin_label = np.delete(margin_label, 0, 0)\n",
    "print(margin_label)"
   ]
  },
  {
   "cell_type": "code",
   "execution_count": 7,
   "metadata": {
    "scrolled": true
   },
   "outputs": [
    {
     "name": "stdout",
     "output_type": "stream",
     "text": [
      "Fitting 5 folds for each of 12 candidates, totalling 60 fits\n",
      "[CV] colsample_bylevel=0.4160029192647807, colsample_bytree=0.7304484857455519, gamma=0.13031389926541354, learning_rate=0.042815319280763466, max_delta_step=13, max_depth=21, min_child_weight=2, n_estimators=161, reg_alpha=5.497557739289786e-07, reg_lambda=0.05936070635912049, scale_pos_weight=0.060830282487222144, subsample=0.13556548021189216 \n"
     ]
    },
    {
     "name": "stderr",
     "output_type": "stream",
     "text": [
      "[Parallel(n_jobs=1)]: Using backend SequentialBackend with 1 concurrent workers.\n"
     ]
    },
    {
     "name": "stdout",
     "output_type": "stream",
     "text": [
      "[CV]  colsample_bylevel=0.4160029192647807, colsample_bytree=0.7304484857455519, gamma=0.13031389926541354, learning_rate=0.042815319280763466, max_delta_step=13, max_depth=21, min_child_weight=2, n_estimators=161, reg_alpha=5.497557739289786e-07, reg_lambda=0.05936070635912049, scale_pos_weight=0.060830282487222144, subsample=0.13556548021189216, score=-0.092, total=   3.7s\n",
      "[CV] colsample_bylevel=0.4160029192647807, colsample_bytree=0.7304484857455519, gamma=0.13031389926541354, learning_rate=0.042815319280763466, max_delta_step=13, max_depth=21, min_child_weight=2, n_estimators=161, reg_alpha=5.497557739289786e-07, reg_lambda=0.05936070635912049, scale_pos_weight=0.060830282487222144, subsample=0.13556548021189216 \n"
     ]
    },
    {
     "name": "stderr",
     "output_type": "stream",
     "text": [
      "[Parallel(n_jobs=1)]: Done   1 out of   1 | elapsed:    3.7s remaining:    0.0s\n"
     ]
    },
    {
     "name": "stdout",
     "output_type": "stream",
     "text": [
      "[CV]  colsample_bylevel=0.4160029192647807, colsample_bytree=0.7304484857455519, gamma=0.13031389926541354, learning_rate=0.042815319280763466, max_delta_step=13, max_depth=21, min_child_weight=2, n_estimators=161, reg_alpha=5.497557739289786e-07, reg_lambda=0.05936070635912049, scale_pos_weight=0.060830282487222144, subsample=0.13556548021189216, score=-0.037, total=   3.4s\n",
      "[CV] colsample_bylevel=0.4160029192647807, colsample_bytree=0.7304484857455519, gamma=0.13031389926541354, learning_rate=0.042815319280763466, max_delta_step=13, max_depth=21, min_child_weight=2, n_estimators=161, reg_alpha=5.497557739289786e-07, reg_lambda=0.05936070635912049, scale_pos_weight=0.060830282487222144, subsample=0.13556548021189216 \n"
     ]
    },
    {
     "name": "stderr",
     "output_type": "stream",
     "text": [
      "[Parallel(n_jobs=1)]: Done   2 out of   2 | elapsed:    7.1s remaining:    0.0s\n"
     ]
    },
    {
     "name": "stdout",
     "output_type": "stream",
     "text": [
      "[CV]  colsample_bylevel=0.4160029192647807, colsample_bytree=0.7304484857455519, gamma=0.13031389926541354, learning_rate=0.042815319280763466, max_delta_step=13, max_depth=21, min_child_weight=2, n_estimators=161, reg_alpha=5.497557739289786e-07, reg_lambda=0.05936070635912049, scale_pos_weight=0.060830282487222144, subsample=0.13556548021189216, score=-0.064, total=   3.4s\n",
      "[CV] colsample_bylevel=0.4160029192647807, colsample_bytree=0.7304484857455519, gamma=0.13031389926541354, learning_rate=0.042815319280763466, max_delta_step=13, max_depth=21, min_child_weight=2, n_estimators=161, reg_alpha=5.497557739289786e-07, reg_lambda=0.05936070635912049, scale_pos_weight=0.060830282487222144, subsample=0.13556548021189216 \n",
      "[CV]  colsample_bylevel=0.4160029192647807, colsample_bytree=0.7304484857455519, gamma=0.13031389926541354, learning_rate=0.042815319280763466, max_delta_step=13, max_depth=21, min_child_weight=2, n_estimators=161, reg_alpha=5.497557739289786e-07, reg_lambda=0.05936070635912049, scale_pos_weight=0.060830282487222144, subsample=0.13556548021189216, score=0.001, total=   3.5s\n",
      "[CV] colsample_bylevel=0.4160029192647807, colsample_bytree=0.7304484857455519, gamma=0.13031389926541354, learning_rate=0.042815319280763466, max_delta_step=13, max_depth=21, min_child_weight=2, n_estimators=161, reg_alpha=5.497557739289786e-07, reg_lambda=0.05936070635912049, scale_pos_weight=0.060830282487222144, subsample=0.13556548021189216 \n",
      "[CV]  colsample_bylevel=0.4160029192647807, colsample_bytree=0.7304484857455519, gamma=0.13031389926541354, learning_rate=0.042815319280763466, max_delta_step=13, max_depth=21, min_child_weight=2, n_estimators=161, reg_alpha=5.497557739289786e-07, reg_lambda=0.05936070635912049, scale_pos_weight=0.060830282487222144, subsample=0.13556548021189216, score=-0.083, total=   3.6s\n",
      "[CV] colsample_bylevel=0.18630307921210337, colsample_bytree=0.6357746718688816, gamma=4.759632988007942e-09, learning_rate=0.21560448660617149, max_delta_step=14, max_depth=39, min_child_weight=0, n_estimators=198, reg_alpha=1.307103676304351e-05, reg_lambda=1.1326211354138217e-09, scale_pos_weight=22.356393886375308, subsample=0.7121579996266859 \n",
      "[CV]  colsample_bylevel=0.18630307921210337, colsample_bytree=0.6357746718688816, gamma=4.759632988007942e-09, learning_rate=0.21560448660617149, max_delta_step=14, max_depth=39, min_child_weight=0, n_estimators=198, reg_alpha=1.307103676304351e-05, reg_lambda=1.1326211354138217e-09, scale_pos_weight=22.356393886375308, subsample=0.7121579996266859, score=-0.042, total=   5.8s\n",
      "[CV] colsample_bylevel=0.18630307921210337, colsample_bytree=0.6357746718688816, gamma=4.759632988007942e-09, learning_rate=0.21560448660617149, max_delta_step=14, max_depth=39, min_child_weight=0, n_estimators=198, reg_alpha=1.307103676304351e-05, reg_lambda=1.1326211354138217e-09, scale_pos_weight=22.356393886375308, subsample=0.7121579996266859 \n",
      "[CV]  colsample_bylevel=0.18630307921210337, colsample_bytree=0.6357746718688816, gamma=4.759632988007942e-09, learning_rate=0.21560448660617149, max_delta_step=14, max_depth=39, min_child_weight=0, n_estimators=198, reg_alpha=1.307103676304351e-05, reg_lambda=1.1326211354138217e-09, scale_pos_weight=22.356393886375308, subsample=0.7121579996266859, score=-0.100, total=   5.4s\n",
      "[CV] colsample_bylevel=0.18630307921210337, colsample_bytree=0.6357746718688816, gamma=4.759632988007942e-09, learning_rate=0.21560448660617149, max_delta_step=14, max_depth=39, min_child_weight=0, n_estimators=198, reg_alpha=1.307103676304351e-05, reg_lambda=1.1326211354138217e-09, scale_pos_weight=22.356393886375308, subsample=0.7121579996266859 \n",
      "[CV]  colsample_bylevel=0.18630307921210337, colsample_bytree=0.6357746718688816, gamma=4.759632988007942e-09, learning_rate=0.21560448660617149, max_delta_step=14, max_depth=39, min_child_weight=0, n_estimators=198, reg_alpha=1.307103676304351e-05, reg_lambda=1.1326211354138217e-09, scale_pos_weight=22.356393886375308, subsample=0.7121579996266859, score=0.008, total=   5.5s\n",
      "[CV] colsample_bylevel=0.18630307921210337, colsample_bytree=0.6357746718688816, gamma=4.759632988007942e-09, learning_rate=0.21560448660617149, max_delta_step=14, max_depth=39, min_child_weight=0, n_estimators=198, reg_alpha=1.307103676304351e-05, reg_lambda=1.1326211354138217e-09, scale_pos_weight=22.356393886375308, subsample=0.7121579996266859 \n",
      "[CV]  colsample_bylevel=0.18630307921210337, colsample_bytree=0.6357746718688816, gamma=4.759632988007942e-09, learning_rate=0.21560448660617149, max_delta_step=14, max_depth=39, min_child_weight=0, n_estimators=198, reg_alpha=1.307103676304351e-05, reg_lambda=1.1326211354138217e-09, scale_pos_weight=22.356393886375308, subsample=0.7121579996266859, score=0.048, total=   5.6s\n",
      "[CV] colsample_bylevel=0.18630307921210337, colsample_bytree=0.6357746718688816, gamma=4.759632988007942e-09, learning_rate=0.21560448660617149, max_delta_step=14, max_depth=39, min_child_weight=0, n_estimators=198, reg_alpha=1.307103676304351e-05, reg_lambda=1.1326211354138217e-09, scale_pos_weight=22.356393886375308, subsample=0.7121579996266859 \n",
      "[CV]  colsample_bylevel=0.18630307921210337, colsample_bytree=0.6357746718688816, gamma=4.759632988007942e-09, learning_rate=0.21560448660617149, max_delta_step=14, max_depth=39, min_child_weight=0, n_estimators=198, reg_alpha=1.307103676304351e-05, reg_lambda=1.1326211354138217e-09, scale_pos_weight=22.356393886375308, subsample=0.7121579996266859, score=-0.039, total=   5.4s\n",
      "[CV] colsample_bylevel=0.25617325301227906, colsample_bytree=0.7083937150495909, gamma=2.41812432168581e-07, learning_rate=0.13965555720269418, max_delta_step=10, max_depth=27, min_child_weight=1, n_estimators=76, reg_alpha=3.178148842971562e-08, reg_lambda=0.005381781269387993, scale_pos_weight=0.23835043249575294, subsample=0.9559763235078597 \n",
      "[CV]  colsample_bylevel=0.25617325301227906, colsample_bytree=0.7083937150495909, gamma=2.41812432168581e-07, learning_rate=0.13965555720269418, max_delta_step=10, max_depth=27, min_child_weight=1, n_estimators=76, reg_alpha=3.178148842971562e-08, reg_lambda=0.005381781269387993, scale_pos_weight=0.23835043249575294, subsample=0.9559763235078597, score=0.037, total=   3.6s\n",
      "[CV] colsample_bylevel=0.25617325301227906, colsample_bytree=0.7083937150495909, gamma=2.41812432168581e-07, learning_rate=0.13965555720269418, max_delta_step=10, max_depth=27, min_child_weight=1, n_estimators=76, reg_alpha=3.178148842971562e-08, reg_lambda=0.005381781269387993, scale_pos_weight=0.23835043249575294, subsample=0.9559763235078597 \n",
      "[CV]  colsample_bylevel=0.25617325301227906, colsample_bytree=0.7083937150495909, gamma=2.41812432168581e-07, learning_rate=0.13965555720269418, max_delta_step=10, max_depth=27, min_child_weight=1, n_estimators=76, reg_alpha=3.178148842971562e-08, reg_lambda=0.005381781269387993, scale_pos_weight=0.23835043249575294, subsample=0.9559763235078597, score=-0.045, total=   3.4s\n",
      "[CV] colsample_bylevel=0.25617325301227906, colsample_bytree=0.7083937150495909, gamma=2.41812432168581e-07, learning_rate=0.13965555720269418, max_delta_step=10, max_depth=27, min_child_weight=1, n_estimators=76, reg_alpha=3.178148842971562e-08, reg_lambda=0.005381781269387993, scale_pos_weight=0.23835043249575294, subsample=0.9559763235078597 \n",
      "[CV]  colsample_bylevel=0.25617325301227906, colsample_bytree=0.7083937150495909, gamma=2.41812432168581e-07, learning_rate=0.13965555720269418, max_delta_step=10, max_depth=27, min_child_weight=1, n_estimators=76, reg_alpha=3.178148842971562e-08, reg_lambda=0.005381781269387993, scale_pos_weight=0.23835043249575294, subsample=0.9559763235078597, score=0.017, total=   3.3s\n",
      "[CV] colsample_bylevel=0.25617325301227906, colsample_bytree=0.7083937150495909, gamma=2.41812432168581e-07, learning_rate=0.13965555720269418, max_delta_step=10, max_depth=27, min_child_weight=1, n_estimators=76, reg_alpha=3.178148842971562e-08, reg_lambda=0.005381781269387993, scale_pos_weight=0.23835043249575294, subsample=0.9559763235078597 \n",
      "[CV]  colsample_bylevel=0.25617325301227906, colsample_bytree=0.7083937150495909, gamma=2.41812432168581e-07, learning_rate=0.13965555720269418, max_delta_step=10, max_depth=27, min_child_weight=1, n_estimators=76, reg_alpha=3.178148842971562e-08, reg_lambda=0.005381781269387993, scale_pos_weight=0.23835043249575294, subsample=0.9559763235078597, score=0.019, total=   3.3s\n",
      "[CV] colsample_bylevel=0.25617325301227906, colsample_bytree=0.7083937150495909, gamma=2.41812432168581e-07, learning_rate=0.13965555720269418, max_delta_step=10, max_depth=27, min_child_weight=1, n_estimators=76, reg_alpha=3.178148842971562e-08, reg_lambda=0.005381781269387993, scale_pos_weight=0.23835043249575294, subsample=0.9559763235078597 \n"
     ]
    },
    {
     "name": "stdout",
     "output_type": "stream",
     "text": [
      "[CV]  colsample_bylevel=0.25617325301227906, colsample_bytree=0.7083937150495909, gamma=2.41812432168581e-07, learning_rate=0.13965555720269418, max_delta_step=10, max_depth=27, min_child_weight=1, n_estimators=76, reg_alpha=3.178148842971562e-08, reg_lambda=0.005381781269387993, scale_pos_weight=0.23835043249575294, subsample=0.9559763235078597, score=0.013, total=   3.3s\n",
      "[CV] colsample_bylevel=0.7711308526006485, colsample_bytree=0.07988300914246868, gamma=1.3877597085692663e-08, learning_rate=0.15021004353467043, max_delta_step=6, max_depth=3, min_child_weight=3, n_estimators=77, reg_alpha=0.006097622112520179, reg_lambda=1.9368851099909265e-09, scale_pos_weight=6.97020795804701e-06, subsample=0.46717487628832827 \n",
      "[CV]  colsample_bylevel=0.7711308526006485, colsample_bytree=0.07988300914246868, gamma=1.3877597085692663e-08, learning_rate=0.15021004353467043, max_delta_step=6, max_depth=3, min_child_weight=3, n_estimators=77, reg_alpha=0.006097622112520179, reg_lambda=1.9368851099909265e-09, scale_pos_weight=6.97020795804701e-06, subsample=0.46717487628832827, score=-0.036, total=   0.4s\n",
      "[CV] colsample_bylevel=0.7711308526006485, colsample_bytree=0.07988300914246868, gamma=1.3877597085692663e-08, learning_rate=0.15021004353467043, max_delta_step=6, max_depth=3, min_child_weight=3, n_estimators=77, reg_alpha=0.006097622112520179, reg_lambda=1.9368851099909265e-09, scale_pos_weight=6.97020795804701e-06, subsample=0.46717487628832827 \n",
      "[CV]  colsample_bylevel=0.7711308526006485, colsample_bytree=0.07988300914246868, gamma=1.3877597085692663e-08, learning_rate=0.15021004353467043, max_delta_step=6, max_depth=3, min_child_weight=3, n_estimators=77, reg_alpha=0.006097622112520179, reg_lambda=1.9368851099909265e-09, scale_pos_weight=6.97020795804701e-06, subsample=0.46717487628832827, score=-0.044, total=   0.4s\n",
      "[CV] colsample_bylevel=0.7711308526006485, colsample_bytree=0.07988300914246868, gamma=1.3877597085692663e-08, learning_rate=0.15021004353467043, max_delta_step=6, max_depth=3, min_child_weight=3, n_estimators=77, reg_alpha=0.006097622112520179, reg_lambda=1.9368851099909265e-09, scale_pos_weight=6.97020795804701e-06, subsample=0.46717487628832827 \n",
      "[CV]  colsample_bylevel=0.7711308526006485, colsample_bytree=0.07988300914246868, gamma=1.3877597085692663e-08, learning_rate=0.15021004353467043, max_delta_step=6, max_depth=3, min_child_weight=3, n_estimators=77, reg_alpha=0.006097622112520179, reg_lambda=1.9368851099909265e-09, scale_pos_weight=6.97020795804701e-06, subsample=0.46717487628832827, score=0.020, total=   0.4s\n",
      "[CV] colsample_bylevel=0.7711308526006485, colsample_bytree=0.07988300914246868, gamma=1.3877597085692663e-08, learning_rate=0.15021004353467043, max_delta_step=6, max_depth=3, min_child_weight=3, n_estimators=77, reg_alpha=0.006097622112520179, reg_lambda=1.9368851099909265e-09, scale_pos_weight=6.97020795804701e-06, subsample=0.46717487628832827 \n",
      "[CV]  colsample_bylevel=0.7711308526006485, colsample_bytree=0.07988300914246868, gamma=1.3877597085692663e-08, learning_rate=0.15021004353467043, max_delta_step=6, max_depth=3, min_child_weight=3, n_estimators=77, reg_alpha=0.006097622112520179, reg_lambda=1.9368851099909265e-09, scale_pos_weight=6.97020795804701e-06, subsample=0.46717487628832827, score=0.008, total=   0.4s\n",
      "[CV] colsample_bylevel=0.7711308526006485, colsample_bytree=0.07988300914246868, gamma=1.3877597085692663e-08, learning_rate=0.15021004353467043, max_delta_step=6, max_depth=3, min_child_weight=3, n_estimators=77, reg_alpha=0.006097622112520179, reg_lambda=1.9368851099909265e-09, scale_pos_weight=6.97020795804701e-06, subsample=0.46717487628832827 \n",
      "[CV]  colsample_bylevel=0.7711308526006485, colsample_bytree=0.07988300914246868, gamma=1.3877597085692663e-08, learning_rate=0.15021004353467043, max_delta_step=6, max_depth=3, min_child_weight=3, n_estimators=77, reg_alpha=0.006097622112520179, reg_lambda=1.9368851099909265e-09, scale_pos_weight=6.97020795804701e-06, subsample=0.46717487628832827, score=0.002, total=   0.4s\n",
      "[CV] colsample_bylevel=0.9132100359267209, colsample_bytree=0.7679711803126804, gamma=2.428808912219129e-07, learning_rate=0.03511167856740689, max_delta_step=3, max_depth=8, min_child_weight=4, n_estimators=197, reg_alpha=0.023358352781682152, reg_lambda=2.1396512525873352e-07, scale_pos_weight=0.001760608876847004, subsample=0.15990388740095085 \n",
      "[CV]  colsample_bylevel=0.9132100359267209, colsample_bytree=0.7679711803126804, gamma=2.428808912219129e-07, learning_rate=0.03511167856740689, max_delta_step=3, max_depth=8, min_child_weight=4, n_estimators=197, reg_alpha=0.023358352781682152, reg_lambda=2.1396512525873352e-07, scale_pos_weight=0.001760608876847004, subsample=0.15990388740095085, score=-0.513, total=   3.6s\n",
      "[CV] colsample_bylevel=0.9132100359267209, colsample_bytree=0.7679711803126804, gamma=2.428808912219129e-07, learning_rate=0.03511167856740689, max_delta_step=3, max_depth=8, min_child_weight=4, n_estimators=197, reg_alpha=0.023358352781682152, reg_lambda=2.1396512525873352e-07, scale_pos_weight=0.001760608876847004, subsample=0.15990388740095085 \n",
      "[CV]  colsample_bylevel=0.9132100359267209, colsample_bytree=0.7679711803126804, gamma=2.428808912219129e-07, learning_rate=0.03511167856740689, max_delta_step=3, max_depth=8, min_child_weight=4, n_estimators=197, reg_alpha=0.023358352781682152, reg_lambda=2.1396512525873352e-07, scale_pos_weight=0.001760608876847004, subsample=0.15990388740095085, score=-0.413, total=   3.7s\n",
      "[CV] colsample_bylevel=0.9132100359267209, colsample_bytree=0.7679711803126804, gamma=2.428808912219129e-07, learning_rate=0.03511167856740689, max_delta_step=3, max_depth=8, min_child_weight=4, n_estimators=197, reg_alpha=0.023358352781682152, reg_lambda=2.1396512525873352e-07, scale_pos_weight=0.001760608876847004, subsample=0.15990388740095085 \n",
      "[CV]  colsample_bylevel=0.9132100359267209, colsample_bytree=0.7679711803126804, gamma=2.428808912219129e-07, learning_rate=0.03511167856740689, max_delta_step=3, max_depth=8, min_child_weight=4, n_estimators=197, reg_alpha=0.023358352781682152, reg_lambda=2.1396512525873352e-07, scale_pos_weight=0.001760608876847004, subsample=0.15990388740095085, score=-0.413, total=   3.6s\n",
      "[CV] colsample_bylevel=0.9132100359267209, colsample_bytree=0.7679711803126804, gamma=2.428808912219129e-07, learning_rate=0.03511167856740689, max_delta_step=3, max_depth=8, min_child_weight=4, n_estimators=197, reg_alpha=0.023358352781682152, reg_lambda=2.1396512525873352e-07, scale_pos_weight=0.001760608876847004, subsample=0.15990388740095085 \n",
      "[CV]  colsample_bylevel=0.9132100359267209, colsample_bytree=0.7679711803126804, gamma=2.428808912219129e-07, learning_rate=0.03511167856740689, max_delta_step=3, max_depth=8, min_child_weight=4, n_estimators=197, reg_alpha=0.023358352781682152, reg_lambda=2.1396512525873352e-07, scale_pos_weight=0.001760608876847004, subsample=0.15990388740095085, score=-0.346, total=   3.6s\n",
      "[CV] colsample_bylevel=0.9132100359267209, colsample_bytree=0.7679711803126804, gamma=2.428808912219129e-07, learning_rate=0.03511167856740689, max_delta_step=3, max_depth=8, min_child_weight=4, n_estimators=197, reg_alpha=0.023358352781682152, reg_lambda=2.1396512525873352e-07, scale_pos_weight=0.001760608876847004, subsample=0.15990388740095085 \n",
      "[CV]  colsample_bylevel=0.9132100359267209, colsample_bytree=0.7679711803126804, gamma=2.428808912219129e-07, learning_rate=0.03511167856740689, max_delta_step=3, max_depth=8, min_child_weight=4, n_estimators=197, reg_alpha=0.023358352781682152, reg_lambda=2.1396512525873352e-07, scale_pos_weight=0.001760608876847004, subsample=0.15990388740095085, score=-0.462, total=   3.8s\n",
      "[CV] colsample_bylevel=0.3569079180734289, colsample_bytree=0.1120289995668169, gamma=0.05034432042804318, learning_rate=0.7467518194835729, max_delta_step=7, max_depth=47, min_child_weight=1, n_estimators=67, reg_alpha=0.005500281359785164, reg_lambda=6.3166999939833564e-06, scale_pos_weight=0.4420166988445819, subsample=0.037978567417966985 \n",
      "[CV]  colsample_bylevel=0.3569079180734289, colsample_bytree=0.1120289995668169, gamma=0.05034432042804318, learning_rate=0.7467518194835729, max_delta_step=7, max_depth=47, min_child_weight=1, n_estimators=67, reg_alpha=0.005500281359785164, reg_lambda=6.3166999939833564e-06, scale_pos_weight=0.4420166988445819, subsample=0.037978567417966985, score=-2.059, total=   0.4s\n",
      "[CV] colsample_bylevel=0.3569079180734289, colsample_bytree=0.1120289995668169, gamma=0.05034432042804318, learning_rate=0.7467518194835729, max_delta_step=7, max_depth=47, min_child_weight=1, n_estimators=67, reg_alpha=0.005500281359785164, reg_lambda=6.3166999939833564e-06, scale_pos_weight=0.4420166988445819, subsample=0.037978567417966985 \n"
     ]
    },
    {
     "name": "stdout",
     "output_type": "stream",
     "text": [
      "[CV]  colsample_bylevel=0.3569079180734289, colsample_bytree=0.1120289995668169, gamma=0.05034432042804318, learning_rate=0.7467518194835729, max_delta_step=7, max_depth=47, min_child_weight=1, n_estimators=67, reg_alpha=0.005500281359785164, reg_lambda=6.3166999939833564e-06, scale_pos_weight=0.4420166988445819, subsample=0.037978567417966985, score=-1.634, total=   0.4s\n",
      "[CV] colsample_bylevel=0.3569079180734289, colsample_bytree=0.1120289995668169, gamma=0.05034432042804318, learning_rate=0.7467518194835729, max_delta_step=7, max_depth=47, min_child_weight=1, n_estimators=67, reg_alpha=0.005500281359785164, reg_lambda=6.3166999939833564e-06, scale_pos_weight=0.4420166988445819, subsample=0.037978567417966985 \n",
      "[CV]  colsample_bylevel=0.3569079180734289, colsample_bytree=0.1120289995668169, gamma=0.05034432042804318, learning_rate=0.7467518194835729, max_delta_step=7, max_depth=47, min_child_weight=1, n_estimators=67, reg_alpha=0.005500281359785164, reg_lambda=6.3166999939833564e-06, scale_pos_weight=0.4420166988445819, subsample=0.037978567417966985, score=-2.078, total=   0.4s\n",
      "[CV] colsample_bylevel=0.3569079180734289, colsample_bytree=0.1120289995668169, gamma=0.05034432042804318, learning_rate=0.7467518194835729, max_delta_step=7, max_depth=47, min_child_weight=1, n_estimators=67, reg_alpha=0.005500281359785164, reg_lambda=6.3166999939833564e-06, scale_pos_weight=0.4420166988445819, subsample=0.037978567417966985 \n",
      "[CV]  colsample_bylevel=0.3569079180734289, colsample_bytree=0.1120289995668169, gamma=0.05034432042804318, learning_rate=0.7467518194835729, max_delta_step=7, max_depth=47, min_child_weight=1, n_estimators=67, reg_alpha=0.005500281359785164, reg_lambda=6.3166999939833564e-06, scale_pos_weight=0.4420166988445819, subsample=0.037978567417966985, score=-1.830, total=   0.4s\n",
      "[CV] colsample_bylevel=0.3569079180734289, colsample_bytree=0.1120289995668169, gamma=0.05034432042804318, learning_rate=0.7467518194835729, max_delta_step=7, max_depth=47, min_child_weight=1, n_estimators=67, reg_alpha=0.005500281359785164, reg_lambda=6.3166999939833564e-06, scale_pos_weight=0.4420166988445819, subsample=0.037978567417966985 \n",
      "[CV]  colsample_bylevel=0.3569079180734289, colsample_bytree=0.1120289995668169, gamma=0.05034432042804318, learning_rate=0.7467518194835729, max_delta_step=7, max_depth=47, min_child_weight=1, n_estimators=67, reg_alpha=0.005500281359785164, reg_lambda=6.3166999939833564e-06, scale_pos_weight=0.4420166988445819, subsample=0.037978567417966985, score=-2.832, total=   0.4s\n",
      "[CV] colsample_bylevel=0.3173884684879576, colsample_bytree=0.9154083808190769, gamma=0.37957777315906627, learning_rate=0.046564465205051725, max_delta_step=5, max_depth=25, min_child_weight=4, n_estimators=98, reg_alpha=1.8932210348902655e-05, reg_lambda=10.393593598030753, scale_pos_weight=0.019183460268621746, subsample=0.6299477217301774 \n",
      "[CV]  colsample_bylevel=0.3173884684879576, colsample_bytree=0.9154083808190769, gamma=0.37957777315906627, learning_rate=0.046564465205051725, max_delta_step=5, max_depth=25, min_child_weight=4, n_estimators=98, reg_alpha=1.8932210348902655e-05, reg_lambda=10.393593598030753, scale_pos_weight=0.019183460268621746, subsample=0.6299477217301774, score=-0.327, total=   4.0s\n",
      "[CV] colsample_bylevel=0.3173884684879576, colsample_bytree=0.9154083808190769, gamma=0.37957777315906627, learning_rate=0.046564465205051725, max_delta_step=5, max_depth=25, min_child_weight=4, n_estimators=98, reg_alpha=1.8932210348902655e-05, reg_lambda=10.393593598030753, scale_pos_weight=0.019183460268621746, subsample=0.6299477217301774 \n",
      "[CV]  colsample_bylevel=0.3173884684879576, colsample_bytree=0.9154083808190769, gamma=0.37957777315906627, learning_rate=0.046564465205051725, max_delta_step=5, max_depth=25, min_child_weight=4, n_estimators=98, reg_alpha=1.8932210348902655e-05, reg_lambda=10.393593598030753, scale_pos_weight=0.019183460268621746, subsample=0.6299477217301774, score=-0.270, total=   4.2s\n",
      "[CV] colsample_bylevel=0.3173884684879576, colsample_bytree=0.9154083808190769, gamma=0.37957777315906627, learning_rate=0.046564465205051725, max_delta_step=5, max_depth=25, min_child_weight=4, n_estimators=98, reg_alpha=1.8932210348902655e-05, reg_lambda=10.393593598030753, scale_pos_weight=0.019183460268621746, subsample=0.6299477217301774 \n",
      "[CV]  colsample_bylevel=0.3173884684879576, colsample_bytree=0.9154083808190769, gamma=0.37957777315906627, learning_rate=0.046564465205051725, max_delta_step=5, max_depth=25, min_child_weight=4, n_estimators=98, reg_alpha=1.8932210348902655e-05, reg_lambda=10.393593598030753, scale_pos_weight=0.019183460268621746, subsample=0.6299477217301774, score=-0.271, total=   3.8s\n",
      "[CV] colsample_bylevel=0.3173884684879576, colsample_bytree=0.9154083808190769, gamma=0.37957777315906627, learning_rate=0.046564465205051725, max_delta_step=5, max_depth=25, min_child_weight=4, n_estimators=98, reg_alpha=1.8932210348902655e-05, reg_lambda=10.393593598030753, scale_pos_weight=0.019183460268621746, subsample=0.6299477217301774 \n",
      "[CV]  colsample_bylevel=0.3173884684879576, colsample_bytree=0.9154083808190769, gamma=0.37957777315906627, learning_rate=0.046564465205051725, max_delta_step=5, max_depth=25, min_child_weight=4, n_estimators=98, reg_alpha=1.8932210348902655e-05, reg_lambda=10.393593598030753, scale_pos_weight=0.019183460268621746, subsample=0.6299477217301774, score=-0.191, total=   3.8s\n",
      "[CV] colsample_bylevel=0.3173884684879576, colsample_bytree=0.9154083808190769, gamma=0.37957777315906627, learning_rate=0.046564465205051725, max_delta_step=5, max_depth=25, min_child_weight=4, n_estimators=98, reg_alpha=1.8932210348902655e-05, reg_lambda=10.393593598030753, scale_pos_weight=0.019183460268621746, subsample=0.6299477217301774 \n",
      "[CV]  colsample_bylevel=0.3173884684879576, colsample_bytree=0.9154083808190769, gamma=0.37957777315906627, learning_rate=0.046564465205051725, max_delta_step=5, max_depth=25, min_child_weight=4, n_estimators=98, reg_alpha=1.8932210348902655e-05, reg_lambda=10.393593598030753, scale_pos_weight=0.019183460268621746, subsample=0.6299477217301774, score=-0.285, total=   4.2s\n",
      "[CV] colsample_bylevel=0.19358622710388942, colsample_bytree=0.9236239290551462, gamma=6.242737149649543e-09, learning_rate=0.5839290998374393, max_delta_step=9, max_depth=2, min_child_weight=1, n_estimators=157, reg_alpha=0.32247446903004606, reg_lambda=5.7439751766594195e-06, scale_pos_weight=1.6287615199535114e-06, subsample=0.9872483677632868 \n",
      "[CV]  colsample_bylevel=0.19358622710388942, colsample_bytree=0.9236239290551462, gamma=6.242737149649543e-09, learning_rate=0.5839290998374393, max_delta_step=9, max_depth=2, min_child_weight=1, n_estimators=157, reg_alpha=0.32247446903004606, reg_lambda=5.7439751766594195e-06, scale_pos_weight=1.6287615199535114e-06, subsample=0.9872483677632868, score=-0.260, total=   0.9s\n",
      "[CV] colsample_bylevel=0.19358622710388942, colsample_bytree=0.9236239290551462, gamma=6.242737149649543e-09, learning_rate=0.5839290998374393, max_delta_step=9, max_depth=2, min_child_weight=1, n_estimators=157, reg_alpha=0.32247446903004606, reg_lambda=5.7439751766594195e-06, scale_pos_weight=1.6287615199535114e-06, subsample=0.9872483677632868 \n",
      "[CV]  colsample_bylevel=0.19358622710388942, colsample_bytree=0.9236239290551462, gamma=6.242737149649543e-09, learning_rate=0.5839290998374393, max_delta_step=9, max_depth=2, min_child_weight=1, n_estimators=157, reg_alpha=0.32247446903004606, reg_lambda=5.7439751766594195e-06, scale_pos_weight=1.6287615199535114e-06, subsample=0.9872483677632868, score=-0.316, total=   1.0s\n",
      "[CV] colsample_bylevel=0.19358622710388942, colsample_bytree=0.9236239290551462, gamma=6.242737149649543e-09, learning_rate=0.5839290998374393, max_delta_step=9, max_depth=2, min_child_weight=1, n_estimators=157, reg_alpha=0.32247446903004606, reg_lambda=5.7439751766594195e-06, scale_pos_weight=1.6287615199535114e-06, subsample=0.9872483677632868 \n",
      "[CV]  colsample_bylevel=0.19358622710388942, colsample_bytree=0.9236239290551462, gamma=6.242737149649543e-09, learning_rate=0.5839290998374393, max_delta_step=9, max_depth=2, min_child_weight=1, n_estimators=157, reg_alpha=0.32247446903004606, reg_lambda=5.7439751766594195e-06, scale_pos_weight=1.6287615199535114e-06, subsample=0.9872483677632868, score=-0.141, total=   1.0s\n",
      "[CV] colsample_bylevel=0.19358622710388942, colsample_bytree=0.9236239290551462, gamma=6.242737149649543e-09, learning_rate=0.5839290998374393, max_delta_step=9, max_depth=2, min_child_weight=1, n_estimators=157, reg_alpha=0.32247446903004606, reg_lambda=5.7439751766594195e-06, scale_pos_weight=1.6287615199535114e-06, subsample=0.9872483677632868 \n"
     ]
    },
    {
     "name": "stdout",
     "output_type": "stream",
     "text": [
      "[CV]  colsample_bylevel=0.19358622710388942, colsample_bytree=0.9236239290551462, gamma=6.242737149649543e-09, learning_rate=0.5839290998374393, max_delta_step=9, max_depth=2, min_child_weight=1, n_estimators=157, reg_alpha=0.32247446903004606, reg_lambda=5.7439751766594195e-06, scale_pos_weight=1.6287615199535114e-06, subsample=0.9872483677632868, score=-0.133, total=   1.0s\n",
      "[CV] colsample_bylevel=0.19358622710388942, colsample_bytree=0.9236239290551462, gamma=6.242737149649543e-09, learning_rate=0.5839290998374393, max_delta_step=9, max_depth=2, min_child_weight=1, n_estimators=157, reg_alpha=0.32247446903004606, reg_lambda=5.7439751766594195e-06, scale_pos_weight=1.6287615199535114e-06, subsample=0.9872483677632868 \n",
      "[CV]  colsample_bylevel=0.19358622710388942, colsample_bytree=0.9236239290551462, gamma=6.242737149649543e-09, learning_rate=0.5839290998374393, max_delta_step=9, max_depth=2, min_child_weight=1, n_estimators=157, reg_alpha=0.32247446903004606, reg_lambda=5.7439751766594195e-06, scale_pos_weight=1.6287615199535114e-06, subsample=0.9872483677632868, score=-0.198, total=   0.9s\n",
      "[CV] colsample_bylevel=0.06936552953088004, colsample_bytree=0.5708703891954323, gamma=1.9956389638103137e-08, learning_rate=0.09010297955022104, max_delta_step=9, max_depth=25, min_child_weight=2, n_estimators=139, reg_alpha=0.9824119669778386, reg_lambda=0.00017577858139476563, scale_pos_weight=261.4450653749918, subsample=0.14242164035537377 \n",
      "[CV]  colsample_bylevel=0.06936552953088004, colsample_bytree=0.5708703891954323, gamma=1.9956389638103137e-08, learning_rate=0.09010297955022104, max_delta_step=9, max_depth=25, min_child_weight=2, n_estimators=139, reg_alpha=0.9824119669778386, reg_lambda=0.00017577858139476563, scale_pos_weight=261.4450653749918, subsample=0.14242164035537377, score=-0.134, total=   1.2s\n",
      "[CV] colsample_bylevel=0.06936552953088004, colsample_bytree=0.5708703891954323, gamma=1.9956389638103137e-08, learning_rate=0.09010297955022104, max_delta_step=9, max_depth=25, min_child_weight=2, n_estimators=139, reg_alpha=0.9824119669778386, reg_lambda=0.00017577858139476563, scale_pos_weight=261.4450653749918, subsample=0.14242164035537377 \n",
      "[CV]  colsample_bylevel=0.06936552953088004, colsample_bytree=0.5708703891954323, gamma=1.9956389638103137e-08, learning_rate=0.09010297955022104, max_delta_step=9, max_depth=25, min_child_weight=2, n_estimators=139, reg_alpha=0.9824119669778386, reg_lambda=0.00017577858139476563, scale_pos_weight=261.4450653749918, subsample=0.14242164035537377, score=-0.139, total=   1.4s\n",
      "[CV] colsample_bylevel=0.06936552953088004, colsample_bytree=0.5708703891954323, gamma=1.9956389638103137e-08, learning_rate=0.09010297955022104, max_delta_step=9, max_depth=25, min_child_weight=2, n_estimators=139, reg_alpha=0.9824119669778386, reg_lambda=0.00017577858139476563, scale_pos_weight=261.4450653749918, subsample=0.14242164035537377 \n",
      "[CV]  colsample_bylevel=0.06936552953088004, colsample_bytree=0.5708703891954323, gamma=1.9956389638103137e-08, learning_rate=0.09010297955022104, max_delta_step=9, max_depth=25, min_child_weight=2, n_estimators=139, reg_alpha=0.9824119669778386, reg_lambda=0.00017577858139476563, scale_pos_weight=261.4450653749918, subsample=0.14242164035537377, score=-0.126, total=   1.3s\n",
      "[CV] colsample_bylevel=0.06936552953088004, colsample_bytree=0.5708703891954323, gamma=1.9956389638103137e-08, learning_rate=0.09010297955022104, max_delta_step=9, max_depth=25, min_child_weight=2, n_estimators=139, reg_alpha=0.9824119669778386, reg_lambda=0.00017577858139476563, scale_pos_weight=261.4450653749918, subsample=0.14242164035537377 \n",
      "[CV]  colsample_bylevel=0.06936552953088004, colsample_bytree=0.5708703891954323, gamma=1.9956389638103137e-08, learning_rate=0.09010297955022104, max_delta_step=9, max_depth=25, min_child_weight=2, n_estimators=139, reg_alpha=0.9824119669778386, reg_lambda=0.00017577858139476563, scale_pos_weight=261.4450653749918, subsample=0.14242164035537377, score=-0.068, total=   1.1s\n",
      "[CV] colsample_bylevel=0.06936552953088004, colsample_bytree=0.5708703891954323, gamma=1.9956389638103137e-08, learning_rate=0.09010297955022104, max_delta_step=9, max_depth=25, min_child_weight=2, n_estimators=139, reg_alpha=0.9824119669778386, reg_lambda=0.00017577858139476563, scale_pos_weight=261.4450653749918, subsample=0.14242164035537377 \n",
      "[CV]  colsample_bylevel=0.06936552953088004, colsample_bytree=0.5708703891954323, gamma=1.9956389638103137e-08, learning_rate=0.09010297955022104, max_delta_step=9, max_depth=25, min_child_weight=2, n_estimators=139, reg_alpha=0.9824119669778386, reg_lambda=0.00017577858139476563, scale_pos_weight=261.4450653749918, subsample=0.14242164035537377, score=-0.148, total=   1.3s\n",
      "[CV] colsample_bylevel=0.1798648261515349, colsample_bytree=0.1536154650973617, gamma=2.692171045057089e-07, learning_rate=0.031045751168128115, max_delta_step=12, max_depth=24, min_child_weight=3, n_estimators=113, reg_alpha=0.0011518554964803237, reg_lambda=3.9270934206560135e-05, scale_pos_weight=0.036328353682153036, subsample=0.5123744729843144 \n",
      "[CV]  colsample_bylevel=0.1798648261515349, colsample_bytree=0.1536154650973617, gamma=2.692171045057089e-07, learning_rate=0.031045751168128115, max_delta_step=12, max_depth=24, min_child_weight=3, n_estimators=113, reg_alpha=0.0011518554964803237, reg_lambda=3.9270934206560135e-05, scale_pos_weight=0.036328353682153036, subsample=0.5123744729843144, score=-0.125, total=   1.4s\n",
      "[CV] colsample_bylevel=0.1798648261515349, colsample_bytree=0.1536154650973617, gamma=2.692171045057089e-07, learning_rate=0.031045751168128115, max_delta_step=12, max_depth=24, min_child_weight=3, n_estimators=113, reg_alpha=0.0011518554964803237, reg_lambda=3.9270934206560135e-05, scale_pos_weight=0.036328353682153036, subsample=0.5123744729843144 \n",
      "[CV]  colsample_bylevel=0.1798648261515349, colsample_bytree=0.1536154650973617, gamma=2.692171045057089e-07, learning_rate=0.031045751168128115, max_delta_step=12, max_depth=24, min_child_weight=3, n_estimators=113, reg_alpha=0.0011518554964803237, reg_lambda=3.9270934206560135e-05, scale_pos_weight=0.036328353682153036, subsample=0.5123744729843144, score=-0.084, total=   1.1s\n",
      "[CV] colsample_bylevel=0.1798648261515349, colsample_bytree=0.1536154650973617, gamma=2.692171045057089e-07, learning_rate=0.031045751168128115, max_delta_step=12, max_depth=24, min_child_weight=3, n_estimators=113, reg_alpha=0.0011518554964803237, reg_lambda=3.9270934206560135e-05, scale_pos_weight=0.036328353682153036, subsample=0.5123744729843144 \n",
      "[CV]  colsample_bylevel=0.1798648261515349, colsample_bytree=0.1536154650973617, gamma=2.692171045057089e-07, learning_rate=0.031045751168128115, max_delta_step=12, max_depth=24, min_child_weight=3, n_estimators=113, reg_alpha=0.0011518554964803237, reg_lambda=3.9270934206560135e-05, scale_pos_weight=0.036328353682153036, subsample=0.5123744729843144, score=-0.100, total=   1.1s\n",
      "[CV] colsample_bylevel=0.1798648261515349, colsample_bytree=0.1536154650973617, gamma=2.692171045057089e-07, learning_rate=0.031045751168128115, max_delta_step=12, max_depth=24, min_child_weight=3, n_estimators=113, reg_alpha=0.0011518554964803237, reg_lambda=3.9270934206560135e-05, scale_pos_weight=0.036328353682153036, subsample=0.5123744729843144 \n",
      "[CV]  colsample_bylevel=0.1798648261515349, colsample_bytree=0.1536154650973617, gamma=2.692171045057089e-07, learning_rate=0.031045751168128115, max_delta_step=12, max_depth=24, min_child_weight=3, n_estimators=113, reg_alpha=0.0011518554964803237, reg_lambda=3.9270934206560135e-05, scale_pos_weight=0.036328353682153036, subsample=0.5123744729843144, score=-0.023, total=   1.5s\n",
      "[CV] colsample_bylevel=0.1798648261515349, colsample_bytree=0.1536154650973617, gamma=2.692171045057089e-07, learning_rate=0.031045751168128115, max_delta_step=12, max_depth=24, min_child_weight=3, n_estimators=113, reg_alpha=0.0011518554964803237, reg_lambda=3.9270934206560135e-05, scale_pos_weight=0.036328353682153036, subsample=0.5123744729843144 \n",
      "[CV]  colsample_bylevel=0.1798648261515349, colsample_bytree=0.1536154650973617, gamma=2.692171045057089e-07, learning_rate=0.031045751168128115, max_delta_step=12, max_depth=24, min_child_weight=3, n_estimators=113, reg_alpha=0.0011518554964803237, reg_lambda=3.9270934206560135e-05, scale_pos_weight=0.036328353682153036, subsample=0.5123744729843144, score=-0.071, total=   1.1s\n",
      "[CV] colsample_bylevel=0.8477171831834894, colsample_bytree=0.9590782028716157, gamma=0.4419705200245942, learning_rate=0.010068534554171981, max_delta_step=18, max_depth=46, min_child_weight=5, n_estimators=66, reg_alpha=1.3396471230171212e-09, reg_lambda=0.1502689667792386, scale_pos_weight=5.68219069233494e-06, subsample=0.3682037565911086 \n"
     ]
    },
    {
     "name": "stdout",
     "output_type": "stream",
     "text": [
      "[CV]  colsample_bylevel=0.8477171831834894, colsample_bytree=0.9590782028716157, gamma=0.4419705200245942, learning_rate=0.010068534554171981, max_delta_step=18, max_depth=46, min_child_weight=5, n_estimators=66, reg_alpha=1.3396471230171212e-09, reg_lambda=0.1502689667792386, scale_pos_weight=5.68219069233494e-06, subsample=0.3682037565911086, score=-0.909, total=   8.8s\n",
      "[CV] colsample_bylevel=0.8477171831834894, colsample_bytree=0.9590782028716157, gamma=0.4419705200245942, learning_rate=0.010068534554171981, max_delta_step=18, max_depth=46, min_child_weight=5, n_estimators=66, reg_alpha=1.3396471230171212e-09, reg_lambda=0.1502689667792386, scale_pos_weight=5.68219069233494e-06, subsample=0.3682037565911086 \n",
      "[CV]  colsample_bylevel=0.8477171831834894, colsample_bytree=0.9590782028716157, gamma=0.4419705200245942, learning_rate=0.010068534554171981, max_delta_step=18, max_depth=46, min_child_weight=5, n_estimators=66, reg_alpha=1.3396471230171212e-09, reg_lambda=0.1502689667792386, scale_pos_weight=5.68219069233494e-06, subsample=0.3682037565911086, score=-0.801, total=   8.2s\n",
      "[CV] colsample_bylevel=0.8477171831834894, colsample_bytree=0.9590782028716157, gamma=0.4419705200245942, learning_rate=0.010068534554171981, max_delta_step=18, max_depth=46, min_child_weight=5, n_estimators=66, reg_alpha=1.3396471230171212e-09, reg_lambda=0.1502689667792386, scale_pos_weight=5.68219069233494e-06, subsample=0.3682037565911086 \n",
      "[CV]  colsample_bylevel=0.8477171831834894, colsample_bytree=0.9590782028716157, gamma=0.4419705200245942, learning_rate=0.010068534554171981, max_delta_step=18, max_depth=46, min_child_weight=5, n_estimators=66, reg_alpha=1.3396471230171212e-09, reg_lambda=0.1502689667792386, scale_pos_weight=5.68219069233494e-06, subsample=0.3682037565911086, score=-0.770, total=   7.8s\n",
      "[CV] colsample_bylevel=0.8477171831834894, colsample_bytree=0.9590782028716157, gamma=0.4419705200245942, learning_rate=0.010068534554171981, max_delta_step=18, max_depth=46, min_child_weight=5, n_estimators=66, reg_alpha=1.3396471230171212e-09, reg_lambda=0.1502689667792386, scale_pos_weight=5.68219069233494e-06, subsample=0.3682037565911086 \n",
      "[CV]  colsample_bylevel=0.8477171831834894, colsample_bytree=0.9590782028716157, gamma=0.4419705200245942, learning_rate=0.010068534554171981, max_delta_step=18, max_depth=46, min_child_weight=5, n_estimators=66, reg_alpha=1.3396471230171212e-09, reg_lambda=0.1502689667792386, scale_pos_weight=5.68219069233494e-06, subsample=0.3682037565911086, score=-0.697, total=   7.7s\n",
      "[CV] colsample_bylevel=0.8477171831834894, colsample_bytree=0.9590782028716157, gamma=0.4419705200245942, learning_rate=0.010068534554171981, max_delta_step=18, max_depth=46, min_child_weight=5, n_estimators=66, reg_alpha=1.3396471230171212e-09, reg_lambda=0.1502689667792386, scale_pos_weight=5.68219069233494e-06, subsample=0.3682037565911086 \n",
      "[CV]  colsample_bylevel=0.8477171831834894, colsample_bytree=0.9590782028716157, gamma=0.4419705200245942, learning_rate=0.010068534554171981, max_delta_step=18, max_depth=46, min_child_weight=5, n_estimators=66, reg_alpha=1.3396471230171212e-09, reg_lambda=0.1502689667792386, scale_pos_weight=5.68219069233494e-06, subsample=0.3682037565911086, score=-0.916, total=   8.2s\n",
      "[CV] colsample_bylevel=0.88542798001491, colsample_bytree=0.15107725561517718, gamma=0.09274068410384222, learning_rate=0.11437510345794359, max_delta_step=0, max_depth=6, min_child_weight=5, n_estimators=200, reg_alpha=1.2952579279714691e-08, reg_lambda=0.45707493844512304, scale_pos_weight=10.561837873121673, subsample=0.9105119208713889 \n",
      "[CV]  colsample_bylevel=0.88542798001491, colsample_bytree=0.15107725561517718, gamma=0.09274068410384222, learning_rate=0.11437510345794359, max_delta_step=0, max_depth=6, min_child_weight=5, n_estimators=200, reg_alpha=1.2952579279714691e-08, reg_lambda=0.45707493844512304, scale_pos_weight=10.561837873121673, subsample=0.9105119208713889, score=-0.009, total=   1.9s\n",
      "[CV] colsample_bylevel=0.88542798001491, colsample_bytree=0.15107725561517718, gamma=0.09274068410384222, learning_rate=0.11437510345794359, max_delta_step=0, max_depth=6, min_child_weight=5, n_estimators=200, reg_alpha=1.2952579279714691e-08, reg_lambda=0.45707493844512304, scale_pos_weight=10.561837873121673, subsample=0.9105119208713889 \n",
      "[CV]  colsample_bylevel=0.88542798001491, colsample_bytree=0.15107725561517718, gamma=0.09274068410384222, learning_rate=0.11437510345794359, max_delta_step=0, max_depth=6, min_child_weight=5, n_estimators=200, reg_alpha=1.2952579279714691e-08, reg_lambda=0.45707493844512304, scale_pos_weight=10.561837873121673, subsample=0.9105119208713889, score=-0.085, total=   2.0s\n",
      "[CV] colsample_bylevel=0.88542798001491, colsample_bytree=0.15107725561517718, gamma=0.09274068410384222, learning_rate=0.11437510345794359, max_delta_step=0, max_depth=6, min_child_weight=5, n_estimators=200, reg_alpha=1.2952579279714691e-08, reg_lambda=0.45707493844512304, scale_pos_weight=10.561837873121673, subsample=0.9105119208713889 \n",
      "[CV]  colsample_bylevel=0.88542798001491, colsample_bytree=0.15107725561517718, gamma=0.09274068410384222, learning_rate=0.11437510345794359, max_delta_step=0, max_depth=6, min_child_weight=5, n_estimators=200, reg_alpha=1.2952579279714691e-08, reg_lambda=0.45707493844512304, scale_pos_weight=10.561837873121673, subsample=0.9105119208713889, score=0.038, total=   1.7s\n",
      "[CV] colsample_bylevel=0.88542798001491, colsample_bytree=0.15107725561517718, gamma=0.09274068410384222, learning_rate=0.11437510345794359, max_delta_step=0, max_depth=6, min_child_weight=5, n_estimators=200, reg_alpha=1.2952579279714691e-08, reg_lambda=0.45707493844512304, scale_pos_weight=10.561837873121673, subsample=0.9105119208713889 \n",
      "[CV]  colsample_bylevel=0.88542798001491, colsample_bytree=0.15107725561517718, gamma=0.09274068410384222, learning_rate=0.11437510345794359, max_delta_step=0, max_depth=6, min_child_weight=5, n_estimators=200, reg_alpha=1.2952579279714691e-08, reg_lambda=0.45707493844512304, scale_pos_weight=10.561837873121673, subsample=0.9105119208713889, score=0.010, total=   1.8s\n",
      "[CV] colsample_bylevel=0.88542798001491, colsample_bytree=0.15107725561517718, gamma=0.09274068410384222, learning_rate=0.11437510345794359, max_delta_step=0, max_depth=6, min_child_weight=5, n_estimators=200, reg_alpha=1.2952579279714691e-08, reg_lambda=0.45707493844512304, scale_pos_weight=10.561837873121673, subsample=0.9105119208713889 \n",
      "[CV]  colsample_bylevel=0.88542798001491, colsample_bytree=0.15107725561517718, gamma=0.09274068410384222, learning_rate=0.11437510345794359, max_delta_step=0, max_depth=6, min_child_weight=5, n_estimators=200, reg_alpha=1.2952579279714691e-08, reg_lambda=0.45707493844512304, scale_pos_weight=10.561837873121673, subsample=0.9105119208713889, score=0.076, total=   1.9s\n"
     ]
    },
    {
     "name": "stderr",
     "output_type": "stream",
     "text": [
      "[Parallel(n_jobs=1)]: Done  60 out of  60 | elapsed:  2.9min finished\n"
     ]
    },
    {
     "name": "stdout",
     "output_type": "stream",
     "text": [
      "best score: 0.008161616845787138\n",
      "Fitting 5 folds for each of 12 candidates, totalling 60 fits\n",
      "[CV] colsample_bylevel=0.4705870008018754, colsample_bytree=1.0, gamma=0.49999999999999994, learning_rate=0.01, max_delta_step=20, max_depth=4, min_child_weight=0, n_estimators=50, reg_alpha=1e-09, reg_lambda=2.8470649180227854, scale_pos_weight=0.00013819099402149907, subsample=0.15196963720090306 \n"
     ]
    },
    {
     "name": "stderr",
     "output_type": "stream",
     "text": [
      "[Parallel(n_jobs=1)]: Using backend SequentialBackend with 1 concurrent workers.\n"
     ]
    },
    {
     "name": "stdout",
     "output_type": "stream",
     "text": [
      "[CV]  colsample_bylevel=0.4705870008018754, colsample_bytree=1.0, gamma=0.49999999999999994, learning_rate=0.01, max_delta_step=20, max_depth=4, min_child_weight=0, n_estimators=50, reg_alpha=1e-09, reg_lambda=2.8470649180227854, scale_pos_weight=0.00013819099402149907, subsample=0.15196963720090306, score=-0.968, total=   0.6s\n",
      "[CV] colsample_bylevel=0.4705870008018754, colsample_bytree=1.0, gamma=0.49999999999999994, learning_rate=0.01, max_delta_step=20, max_depth=4, min_child_weight=0, n_estimators=50, reg_alpha=1e-09, reg_lambda=2.8470649180227854, scale_pos_weight=0.00013819099402149907, subsample=0.15196963720090306 \n"
     ]
    },
    {
     "name": "stderr",
     "output_type": "stream",
     "text": [
      "[Parallel(n_jobs=1)]: Done   1 out of   1 | elapsed:    0.6s remaining:    0.0s\n"
     ]
    },
    {
     "name": "stdout",
     "output_type": "stream",
     "text": [
      "[CV]  colsample_bylevel=0.4705870008018754, colsample_bytree=1.0, gamma=0.49999999999999994, learning_rate=0.01, max_delta_step=20, max_depth=4, min_child_weight=0, n_estimators=50, reg_alpha=1e-09, reg_lambda=2.8470649180227854, scale_pos_weight=0.00013819099402149907, subsample=0.15196963720090306, score=-0.858, total=   0.6s\n",
      "[CV] colsample_bylevel=0.4705870008018754, colsample_bytree=1.0, gamma=0.49999999999999994, learning_rate=0.01, max_delta_step=20, max_depth=4, min_child_weight=0, n_estimators=50, reg_alpha=1e-09, reg_lambda=2.8470649180227854, scale_pos_weight=0.00013819099402149907, subsample=0.15196963720090306 \n"
     ]
    },
    {
     "name": "stderr",
     "output_type": "stream",
     "text": [
      "[Parallel(n_jobs=1)]: Done   2 out of   2 | elapsed:    1.3s remaining:    0.0s\n"
     ]
    },
    {
     "name": "stdout",
     "output_type": "stream",
     "text": [
      "[CV]  colsample_bylevel=0.4705870008018754, colsample_bytree=1.0, gamma=0.49999999999999994, learning_rate=0.01, max_delta_step=20, max_depth=4, min_child_weight=0, n_estimators=50, reg_alpha=1e-09, reg_lambda=2.8470649180227854, scale_pos_weight=0.00013819099402149907, subsample=0.15196963720090306, score=-0.820, total=   0.6s\n",
      "[CV] colsample_bylevel=0.4705870008018754, colsample_bytree=1.0, gamma=0.49999999999999994, learning_rate=0.01, max_delta_step=20, max_depth=4, min_child_weight=0, n_estimators=50, reg_alpha=1e-09, reg_lambda=2.8470649180227854, scale_pos_weight=0.00013819099402149907, subsample=0.15196963720090306 \n",
      "[CV]  colsample_bylevel=0.4705870008018754, colsample_bytree=1.0, gamma=0.49999999999999994, learning_rate=0.01, max_delta_step=20, max_depth=4, min_child_weight=0, n_estimators=50, reg_alpha=1e-09, reg_lambda=2.8470649180227854, scale_pos_weight=0.00013819099402149907, subsample=0.15196963720090306, score=-0.756, total=   0.6s\n",
      "[CV] colsample_bylevel=0.4705870008018754, colsample_bytree=1.0, gamma=0.49999999999999994, learning_rate=0.01, max_delta_step=20, max_depth=4, min_child_weight=0, n_estimators=50, reg_alpha=1e-09, reg_lambda=2.8470649180227854, scale_pos_weight=0.00013819099402149907, subsample=0.15196963720090306 \n",
      "[CV]  colsample_bylevel=0.4705870008018754, colsample_bytree=1.0, gamma=0.49999999999999994, learning_rate=0.01, max_delta_step=20, max_depth=4, min_child_weight=0, n_estimators=50, reg_alpha=1e-09, reg_lambda=2.8470649180227854, scale_pos_weight=0.00013819099402149907, subsample=0.15196963720090306, score=-0.983, total=   0.7s\n",
      "[CV] colsample_bylevel=0.01, colsample_bytree=0.3642079515727229, gamma=1e-09, learning_rate=0.16772291818368806, max_delta_step=20, max_depth=33, min_child_weight=0, n_estimators=143, reg_alpha=5.357655854487331e-05, reg_lambda=1e-09, scale_pos_weight=499.99999999999994, subsample=0.6116120094561706 \n",
      "[CV]  colsample_bylevel=0.01, colsample_bytree=0.3642079515727229, gamma=1e-09, learning_rate=0.16772291818368806, max_delta_step=20, max_depth=33, min_child_weight=0, n_estimators=143, reg_alpha=5.357655854487331e-05, reg_lambda=1e-09, scale_pos_weight=499.99999999999994, subsample=0.6116120094561706, score=-0.071, total=   1.5s\n",
      "[CV] colsample_bylevel=0.01, colsample_bytree=0.3642079515727229, gamma=1e-09, learning_rate=0.16772291818368806, max_delta_step=20, max_depth=33, min_child_weight=0, n_estimators=143, reg_alpha=5.357655854487331e-05, reg_lambda=1e-09, scale_pos_weight=499.99999999999994, subsample=0.6116120094561706 \n",
      "[CV]  colsample_bylevel=0.01, colsample_bytree=0.3642079515727229, gamma=1e-09, learning_rate=0.16772291818368806, max_delta_step=20, max_depth=33, min_child_weight=0, n_estimators=143, reg_alpha=5.357655854487331e-05, reg_lambda=1e-09, scale_pos_weight=499.99999999999994, subsample=0.6116120094561706, score=-0.111, total=   1.2s\n",
      "[CV] colsample_bylevel=0.01, colsample_bytree=0.3642079515727229, gamma=1e-09, learning_rate=0.16772291818368806, max_delta_step=20, max_depth=33, min_child_weight=0, n_estimators=143, reg_alpha=5.357655854487331e-05, reg_lambda=1e-09, scale_pos_weight=499.99999999999994, subsample=0.6116120094561706 \n",
      "[CV]  colsample_bylevel=0.01, colsample_bytree=0.3642079515727229, gamma=1e-09, learning_rate=0.16772291818368806, max_delta_step=20, max_depth=33, min_child_weight=0, n_estimators=143, reg_alpha=5.357655854487331e-05, reg_lambda=1e-09, scale_pos_weight=499.99999999999994, subsample=0.6116120094561706, score=-0.019, total=   1.3s\n",
      "[CV] colsample_bylevel=0.01, colsample_bytree=0.3642079515727229, gamma=1e-09, learning_rate=0.16772291818368806, max_delta_step=20, max_depth=33, min_child_weight=0, n_estimators=143, reg_alpha=5.357655854487331e-05, reg_lambda=1e-09, scale_pos_weight=499.99999999999994, subsample=0.6116120094561706 \n",
      "[CV]  colsample_bylevel=0.01, colsample_bytree=0.3642079515727229, gamma=1e-09, learning_rate=0.16772291818368806, max_delta_step=20, max_depth=33, min_child_weight=0, n_estimators=143, reg_alpha=5.357655854487331e-05, reg_lambda=1e-09, scale_pos_weight=499.99999999999994, subsample=0.6116120094561706, score=-0.007, total=   1.3s\n",
      "[CV] colsample_bylevel=0.01, colsample_bytree=0.3642079515727229, gamma=1e-09, learning_rate=0.16772291818368806, max_delta_step=20, max_depth=33, min_child_weight=0, n_estimators=143, reg_alpha=5.357655854487331e-05, reg_lambda=1e-09, scale_pos_weight=499.99999999999994, subsample=0.6116120094561706 \n",
      "[CV]  colsample_bylevel=0.01, colsample_bytree=0.3642079515727229, gamma=1e-09, learning_rate=0.16772291818368806, max_delta_step=20, max_depth=33, min_child_weight=0, n_estimators=143, reg_alpha=5.357655854487331e-05, reg_lambda=1e-09, scale_pos_weight=499.99999999999994, subsample=0.6116120094561706, score=-0.030, total=   1.3s\n",
      "[CV] colsample_bylevel=0.4869069339921786, colsample_bytree=0.6023143459561281, gamma=0.07653089359538183, learning_rate=0.03174451119930921, max_delta_step=20, max_depth=16, min_child_weight=1, n_estimators=187, reg_alpha=3.02617564510839e-09, reg_lambda=0.006033042766392696, scale_pos_weight=0.05110468663185064, subsample=0.01 \n",
      "[CV]  colsample_bylevel=0.4869069339921786, colsample_bytree=0.6023143459561281, gamma=0.07653089359538183, learning_rate=0.03174451119930921, max_delta_step=20, max_depth=16, min_child_weight=1, n_estimators=187, reg_alpha=3.02617564510839e-09, reg_lambda=0.006033042766392696, scale_pos_weight=0.05110468663185064, subsample=0.01, score=-0.073, total=   1.2s\n",
      "[CV] colsample_bylevel=0.4869069339921786, colsample_bytree=0.6023143459561281, gamma=0.07653089359538183, learning_rate=0.03174451119930921, max_delta_step=20, max_depth=16, min_child_weight=1, n_estimators=187, reg_alpha=3.02617564510839e-09, reg_lambda=0.006033042766392696, scale_pos_weight=0.05110468663185064, subsample=0.01 \n",
      "[CV]  colsample_bylevel=0.4869069339921786, colsample_bytree=0.6023143459561281, gamma=0.07653089359538183, learning_rate=0.03174451119930921, max_delta_step=20, max_depth=16, min_child_weight=1, n_estimators=187, reg_alpha=3.02617564510839e-09, reg_lambda=0.006033042766392696, scale_pos_weight=0.05110468663185064, subsample=0.01, score=-0.040, total=   1.4s\n",
      "[CV] colsample_bylevel=0.4869069339921786, colsample_bytree=0.6023143459561281, gamma=0.07653089359538183, learning_rate=0.03174451119930921, max_delta_step=20, max_depth=16, min_child_weight=1, n_estimators=187, reg_alpha=3.02617564510839e-09, reg_lambda=0.006033042766392696, scale_pos_weight=0.05110468663185064, subsample=0.01 \n",
      "[CV]  colsample_bylevel=0.4869069339921786, colsample_bytree=0.6023143459561281, gamma=0.07653089359538183, learning_rate=0.03174451119930921, max_delta_step=20, max_depth=16, min_child_weight=1, n_estimators=187, reg_alpha=3.02617564510839e-09, reg_lambda=0.006033042766392696, scale_pos_weight=0.05110468663185064, subsample=0.01, score=-0.069, total=   1.4s\n",
      "[CV] colsample_bylevel=0.4869069339921786, colsample_bytree=0.6023143459561281, gamma=0.07653089359538183, learning_rate=0.03174451119930921, max_delta_step=20, max_depth=16, min_child_weight=1, n_estimators=187, reg_alpha=3.02617564510839e-09, reg_lambda=0.006033042766392696, scale_pos_weight=0.05110468663185064, subsample=0.01 \n",
      "[CV]  colsample_bylevel=0.4869069339921786, colsample_bytree=0.6023143459561281, gamma=0.07653089359538183, learning_rate=0.03174451119930921, max_delta_step=20, max_depth=16, min_child_weight=1, n_estimators=187, reg_alpha=3.02617564510839e-09, reg_lambda=0.006033042766392696, scale_pos_weight=0.05110468663185064, subsample=0.01, score=-0.067, total=   1.4s\n",
      "[CV] colsample_bylevel=0.4869069339921786, colsample_bytree=0.6023143459561281, gamma=0.07653089359538183, learning_rate=0.03174451119930921, max_delta_step=20, max_depth=16, min_child_weight=1, n_estimators=187, reg_alpha=3.02617564510839e-09, reg_lambda=0.006033042766392696, scale_pos_weight=0.05110468663185064, subsample=0.01 \n",
      "[CV]  colsample_bylevel=0.4869069339921786, colsample_bytree=0.6023143459561281, gamma=0.07653089359538183, learning_rate=0.03174451119930921, max_delta_step=20, max_depth=16, min_child_weight=1, n_estimators=187, reg_alpha=3.02617564510839e-09, reg_lambda=0.006033042766392696, scale_pos_weight=0.05110468663185064, subsample=0.01, score=-0.093, total=   1.4s\n",
      "[CV] colsample_bylevel=1.0, colsample_bytree=1.0, gamma=1e-09, learning_rate=0.01, max_delta_step=0, max_depth=48, min_child_weight=0, n_estimators=50, reg_alpha=1e-09, reg_lambda=0.03996813950903098, scale_pos_weight=2.4892630708960817, subsample=1.0 \n"
     ]
    },
    {
     "name": "stdout",
     "output_type": "stream",
     "text": [
      "[CV]  colsample_bylevel=1.0, colsample_bytree=1.0, gamma=1e-09, learning_rate=0.01, max_delta_step=0, max_depth=48, min_child_weight=0, n_estimators=50, reg_alpha=1e-09, reg_lambda=0.03996813950903098, scale_pos_weight=2.4892630708960817, subsample=1.0, score=-0.677, total=  14.3s\n",
      "[CV] colsample_bylevel=1.0, colsample_bytree=1.0, gamma=1e-09, learning_rate=0.01, max_delta_step=0, max_depth=48, min_child_weight=0, n_estimators=50, reg_alpha=1e-09, reg_lambda=0.03996813950903098, scale_pos_weight=2.4892630708960817, subsample=1.0 \n",
      "[CV]  colsample_bylevel=1.0, colsample_bytree=1.0, gamma=1e-09, learning_rate=0.01, max_delta_step=0, max_depth=48, min_child_weight=0, n_estimators=50, reg_alpha=1e-09, reg_lambda=0.03996813950903098, scale_pos_weight=2.4892630708960817, subsample=1.0, score=-0.684, total=  13.5s\n",
      "[CV] colsample_bylevel=1.0, colsample_bytree=1.0, gamma=1e-09, learning_rate=0.01, max_delta_step=0, max_depth=48, min_child_weight=0, n_estimators=50, reg_alpha=1e-09, reg_lambda=0.03996813950903098, scale_pos_weight=2.4892630708960817, subsample=1.0 \n",
      "[CV]  colsample_bylevel=1.0, colsample_bytree=1.0, gamma=1e-09, learning_rate=0.01, max_delta_step=0, max_depth=48, min_child_weight=0, n_estimators=50, reg_alpha=1e-09, reg_lambda=0.03996813950903098, scale_pos_weight=2.4892630708960817, subsample=1.0, score=-0.602, total=  15.3s\n",
      "[CV] colsample_bylevel=1.0, colsample_bytree=1.0, gamma=1e-09, learning_rate=0.01, max_delta_step=0, max_depth=48, min_child_weight=0, n_estimators=50, reg_alpha=1e-09, reg_lambda=0.03996813950903098, scale_pos_weight=2.4892630708960817, subsample=1.0 \n",
      "[CV]  colsample_bylevel=1.0, colsample_bytree=1.0, gamma=1e-09, learning_rate=0.01, max_delta_step=0, max_depth=48, min_child_weight=0, n_estimators=50, reg_alpha=1e-09, reg_lambda=0.03996813950903098, scale_pos_weight=2.4892630708960817, subsample=1.0, score=-0.520, total=  16.6s\n",
      "[CV] colsample_bylevel=1.0, colsample_bytree=1.0, gamma=1e-09, learning_rate=0.01, max_delta_step=0, max_depth=48, min_child_weight=0, n_estimators=50, reg_alpha=1e-09, reg_lambda=0.03996813950903098, scale_pos_weight=2.4892630708960817, subsample=1.0 \n",
      "[CV]  colsample_bylevel=1.0, colsample_bytree=1.0, gamma=1e-09, learning_rate=0.01, max_delta_step=0, max_depth=48, min_child_weight=0, n_estimators=50, reg_alpha=1e-09, reg_lambda=0.03996813950903098, scale_pos_weight=2.4892630708960817, subsample=1.0, score=-0.759, total=  14.0s\n",
      "[CV] colsample_bylevel=0.7562471036634106, colsample_bytree=0.462837675298688, gamma=2.0885517368587415e-06, learning_rate=0.031421943450366606, max_delta_step=10, max_depth=50, min_child_weight=5, n_estimators=69, reg_alpha=3.790144982878035e-08, reg_lambda=6.8514638224746545, scale_pos_weight=9.914622833834523, subsample=0.5416702280708956 \n",
      "[CV]  colsample_bylevel=0.7562471036634106, colsample_bytree=0.462837675298688, gamma=2.0885517368587415e-06, learning_rate=0.031421943450366606, max_delta_step=10, max_depth=50, min_child_weight=5, n_estimators=69, reg_alpha=3.790144982878035e-08, reg_lambda=6.8514638224746545, scale_pos_weight=9.914622833834523, subsample=0.5416702280708956, score=-0.436, total=   5.7s\n",
      "[CV] colsample_bylevel=0.7562471036634106, colsample_bytree=0.462837675298688, gamma=2.0885517368587415e-06, learning_rate=0.031421943450366606, max_delta_step=10, max_depth=50, min_child_weight=5, n_estimators=69, reg_alpha=3.790144982878035e-08, reg_lambda=6.8514638224746545, scale_pos_weight=9.914622833834523, subsample=0.5416702280708956 \n",
      "[CV]  colsample_bylevel=0.7562471036634106, colsample_bytree=0.462837675298688, gamma=2.0885517368587415e-06, learning_rate=0.031421943450366606, max_delta_step=10, max_depth=50, min_child_weight=5, n_estimators=69, reg_alpha=3.790144982878035e-08, reg_lambda=6.8514638224746545, scale_pos_weight=9.914622833834523, subsample=0.5416702280708956, score=-0.382, total=   4.8s\n",
      "[CV] colsample_bylevel=0.7562471036634106, colsample_bytree=0.462837675298688, gamma=2.0885517368587415e-06, learning_rate=0.031421943450366606, max_delta_step=10, max_depth=50, min_child_weight=5, n_estimators=69, reg_alpha=3.790144982878035e-08, reg_lambda=6.8514638224746545, scale_pos_weight=9.914622833834523, subsample=0.5416702280708956 \n",
      "[CV]  colsample_bylevel=0.7562471036634106, colsample_bytree=0.462837675298688, gamma=2.0885517368587415e-06, learning_rate=0.031421943450366606, max_delta_step=10, max_depth=50, min_child_weight=5, n_estimators=69, reg_alpha=3.790144982878035e-08, reg_lambda=6.8514638224746545, scale_pos_weight=9.914622833834523, subsample=0.5416702280708956, score=-0.365, total=   4.7s\n",
      "[CV] colsample_bylevel=0.7562471036634106, colsample_bytree=0.462837675298688, gamma=2.0885517368587415e-06, learning_rate=0.031421943450366606, max_delta_step=10, max_depth=50, min_child_weight=5, n_estimators=69, reg_alpha=3.790144982878035e-08, reg_lambda=6.8514638224746545, scale_pos_weight=9.914622833834523, subsample=0.5416702280708956 \n",
      "[CV]  colsample_bylevel=0.7562471036634106, colsample_bytree=0.462837675298688, gamma=2.0885517368587415e-06, learning_rate=0.031421943450366606, max_delta_step=10, max_depth=50, min_child_weight=5, n_estimators=69, reg_alpha=3.790144982878035e-08, reg_lambda=6.8514638224746545, scale_pos_weight=9.914622833834523, subsample=0.5416702280708956, score=-0.282, total=   4.3s\n",
      "[CV] colsample_bylevel=0.7562471036634106, colsample_bytree=0.462837675298688, gamma=2.0885517368587415e-06, learning_rate=0.031421943450366606, max_delta_step=10, max_depth=50, min_child_weight=5, n_estimators=69, reg_alpha=3.790144982878035e-08, reg_lambda=6.8514638224746545, scale_pos_weight=9.914622833834523, subsample=0.5416702280708956 \n",
      "[CV]  colsample_bylevel=0.7562471036634106, colsample_bytree=0.462837675298688, gamma=2.0885517368587415e-06, learning_rate=0.031421943450366606, max_delta_step=10, max_depth=50, min_child_weight=5, n_estimators=69, reg_alpha=3.790144982878035e-08, reg_lambda=6.8514638224746545, scale_pos_weight=9.914622833834523, subsample=0.5416702280708956, score=-0.402, total=   4.6s\n",
      "[CV] colsample_bylevel=0.7579222999246642, colsample_bytree=0.4575103331718012, gamma=8.632287328002134e-07, learning_rate=0.026433123916656392, max_delta_step=10, max_depth=49, min_child_weight=5, n_estimators=66, reg_alpha=6.670978138932994e-09, reg_lambda=6.161482843120106, scale_pos_weight=5.969824385352938, subsample=0.662486992076159 \n",
      "[CV]  colsample_bylevel=0.7579222999246642, colsample_bytree=0.4575103331718012, gamma=8.632287328002134e-07, learning_rate=0.026433123916656392, max_delta_step=10, max_depth=49, min_child_weight=5, n_estimators=66, reg_alpha=6.670978138932994e-09, reg_lambda=6.161482843120106, scale_pos_weight=5.969824385352938, subsample=0.662486992076159, score=-0.564, total=   5.1s\n",
      "[CV] colsample_bylevel=0.7579222999246642, colsample_bytree=0.4575103331718012, gamma=8.632287328002134e-07, learning_rate=0.026433123916656392, max_delta_step=10, max_depth=49, min_child_weight=5, n_estimators=66, reg_alpha=6.670978138932994e-09, reg_lambda=6.161482843120106, scale_pos_weight=5.969824385352938, subsample=0.662486992076159 \n",
      "[CV]  colsample_bylevel=0.7579222999246642, colsample_bytree=0.4575103331718012, gamma=8.632287328002134e-07, learning_rate=0.026433123916656392, max_delta_step=10, max_depth=49, min_child_weight=5, n_estimators=66, reg_alpha=6.670978138932994e-09, reg_lambda=6.161482843120106, scale_pos_weight=5.969824385352938, subsample=0.662486992076159, score=-0.494, total=   4.9s\n",
      "[CV] colsample_bylevel=0.7579222999246642, colsample_bytree=0.4575103331718012, gamma=8.632287328002134e-07, learning_rate=0.026433123916656392, max_delta_step=10, max_depth=49, min_child_weight=5, n_estimators=66, reg_alpha=6.670978138932994e-09, reg_lambda=6.161482843120106, scale_pos_weight=5.969824385352938, subsample=0.662486992076159 \n",
      "[CV]  colsample_bylevel=0.7579222999246642, colsample_bytree=0.4575103331718012, gamma=8.632287328002134e-07, learning_rate=0.026433123916656392, max_delta_step=10, max_depth=49, min_child_weight=5, n_estimators=66, reg_alpha=6.670978138932994e-09, reg_lambda=6.161482843120106, scale_pos_weight=5.969824385352938, subsample=0.662486992076159, score=-0.470, total=   5.3s\n",
      "[CV] colsample_bylevel=0.7579222999246642, colsample_bytree=0.4575103331718012, gamma=8.632287328002134e-07, learning_rate=0.026433123916656392, max_delta_step=10, max_depth=49, min_child_weight=5, n_estimators=66, reg_alpha=6.670978138932994e-09, reg_lambda=6.161482843120106, scale_pos_weight=5.969824385352938, subsample=0.662486992076159 \n"
     ]
    },
    {
     "name": "stdout",
     "output_type": "stream",
     "text": [
      "[CV]  colsample_bylevel=0.7579222999246642, colsample_bytree=0.4575103331718012, gamma=8.632287328002134e-07, learning_rate=0.026433123916656392, max_delta_step=10, max_depth=49, min_child_weight=5, n_estimators=66, reg_alpha=6.670978138932994e-09, reg_lambda=6.161482843120106, scale_pos_weight=5.969824385352938, subsample=0.662486992076159, score=-0.384, total=   5.4s\n",
      "[CV] colsample_bylevel=0.7579222999246642, colsample_bytree=0.4575103331718012, gamma=8.632287328002134e-07, learning_rate=0.026433123916656392, max_delta_step=10, max_depth=49, min_child_weight=5, n_estimators=66, reg_alpha=6.670978138932994e-09, reg_lambda=6.161482843120106, scale_pos_weight=5.969824385352938, subsample=0.662486992076159 \n",
      "[CV]  colsample_bylevel=0.7579222999246642, colsample_bytree=0.4575103331718012, gamma=8.632287328002134e-07, learning_rate=0.026433123916656392, max_delta_step=10, max_depth=49, min_child_weight=5, n_estimators=66, reg_alpha=6.670978138932994e-09, reg_lambda=6.161482843120106, scale_pos_weight=5.969824385352938, subsample=0.662486992076159, score=-0.536, total=   4.8s\n",
      "[CV] colsample_bylevel=0.6561247697585704, colsample_bytree=1.0, gamma=1.5592026542550208e-06, learning_rate=0.0302897805869201, max_delta_step=5, max_depth=20, min_child_weight=3, n_estimators=166, reg_alpha=0.005886447102417574, reg_lambda=0.006166098156036429, scale_pos_weight=1.6651777186591378e-06, subsample=0.764401773909835 \n",
      "[CV]  colsample_bylevel=0.6561247697585704, colsample_bytree=1.0, gamma=1.5592026542550208e-06, learning_rate=0.0302897805869201, max_delta_step=5, max_depth=20, min_child_weight=3, n_estimators=166, reg_alpha=0.005886447102417574, reg_lambda=0.006166098156036429, scale_pos_weight=1.6651777186591378e-06, subsample=0.764401773909835, score=-0.247, total=  15.6s\n",
      "[CV] colsample_bylevel=0.6561247697585704, colsample_bytree=1.0, gamma=1.5592026542550208e-06, learning_rate=0.0302897805869201, max_delta_step=5, max_depth=20, min_child_weight=3, n_estimators=166, reg_alpha=0.005886447102417574, reg_lambda=0.006166098156036429, scale_pos_weight=1.6651777186591378e-06, subsample=0.764401773909835 \n",
      "[CV]  colsample_bylevel=0.6561247697585704, colsample_bytree=1.0, gamma=1.5592026542550208e-06, learning_rate=0.0302897805869201, max_delta_step=5, max_depth=20, min_child_weight=3, n_estimators=166, reg_alpha=0.005886447102417574, reg_lambda=0.006166098156036429, scale_pos_weight=1.6651777186591378e-06, subsample=0.764401773909835, score=-0.213, total=  15.5s\n",
      "[CV] colsample_bylevel=0.6561247697585704, colsample_bytree=1.0, gamma=1.5592026542550208e-06, learning_rate=0.0302897805869201, max_delta_step=5, max_depth=20, min_child_weight=3, n_estimators=166, reg_alpha=0.005886447102417574, reg_lambda=0.006166098156036429, scale_pos_weight=1.6651777186591378e-06, subsample=0.764401773909835 \n",
      "[CV]  colsample_bylevel=0.6561247697585704, colsample_bytree=1.0, gamma=1.5592026542550208e-06, learning_rate=0.0302897805869201, max_delta_step=5, max_depth=20, min_child_weight=3, n_estimators=166, reg_alpha=0.005886447102417574, reg_lambda=0.006166098156036429, scale_pos_weight=1.6651777186591378e-06, subsample=0.764401773909835, score=-0.201, total=  15.7s\n",
      "[CV] colsample_bylevel=0.6561247697585704, colsample_bytree=1.0, gamma=1.5592026542550208e-06, learning_rate=0.0302897805869201, max_delta_step=5, max_depth=20, min_child_weight=3, n_estimators=166, reg_alpha=0.005886447102417574, reg_lambda=0.006166098156036429, scale_pos_weight=1.6651777186591378e-06, subsample=0.764401773909835 \n",
      "[CV]  colsample_bylevel=0.6561247697585704, colsample_bytree=1.0, gamma=1.5592026542550208e-06, learning_rate=0.0302897805869201, max_delta_step=5, max_depth=20, min_child_weight=3, n_estimators=166, reg_alpha=0.005886447102417574, reg_lambda=0.006166098156036429, scale_pos_weight=1.6651777186591378e-06, subsample=0.764401773909835, score=-0.122, total=  16.1s\n",
      "[CV] colsample_bylevel=0.6561247697585704, colsample_bytree=1.0, gamma=1.5592026542550208e-06, learning_rate=0.0302897805869201, max_delta_step=5, max_depth=20, min_child_weight=3, n_estimators=166, reg_alpha=0.005886447102417574, reg_lambda=0.006166098156036429, scale_pos_weight=1.6651777186591378e-06, subsample=0.764401773909835 \n",
      "[CV]  colsample_bylevel=0.6561247697585704, colsample_bytree=1.0, gamma=1.5592026542550208e-06, learning_rate=0.0302897805869201, max_delta_step=5, max_depth=20, min_child_weight=3, n_estimators=166, reg_alpha=0.005886447102417574, reg_lambda=0.006166098156036429, scale_pos_weight=1.6651777186591378e-06, subsample=0.764401773909835, score=-0.212, total=  15.7s\n",
      "[CV] colsample_bylevel=0.4140457217296958, colsample_bytree=0.6464750792898242, gamma=0.0010946226409818186, learning_rate=0.046414155138375816, max_delta_step=17, max_depth=19, min_child_weight=1, n_estimators=150, reg_alpha=2.996223359830951e-09, reg_lambda=0.008564056014533479, scale_pos_weight=0.10905696380103287, subsample=0.33413574340142854 \n",
      "[CV]  colsample_bylevel=0.4140457217296958, colsample_bytree=0.6464750792898242, gamma=0.0010946226409818186, learning_rate=0.046414155138375816, max_delta_step=17, max_depth=19, min_child_weight=1, n_estimators=150, reg_alpha=2.996223359830951e-09, reg_lambda=0.008564056014533479, scale_pos_weight=0.10905696380103287, subsample=0.33413574340142854, score=-0.001, total=   5.5s\n",
      "[CV] colsample_bylevel=0.4140457217296958, colsample_bytree=0.6464750792898242, gamma=0.0010946226409818186, learning_rate=0.046414155138375816, max_delta_step=17, max_depth=19, min_child_weight=1, n_estimators=150, reg_alpha=2.996223359830951e-09, reg_lambda=0.008564056014533479, scale_pos_weight=0.10905696380103287, subsample=0.33413574340142854 \n",
      "[CV]  colsample_bylevel=0.4140457217296958, colsample_bytree=0.6464750792898242, gamma=0.0010946226409818186, learning_rate=0.046414155138375816, max_delta_step=17, max_depth=19, min_child_weight=1, n_estimators=150, reg_alpha=2.996223359830951e-09, reg_lambda=0.008564056014533479, scale_pos_weight=0.10905696380103287, subsample=0.33413574340142854, score=-0.038, total=   5.6s\n",
      "[CV] colsample_bylevel=0.4140457217296958, colsample_bytree=0.6464750792898242, gamma=0.0010946226409818186, learning_rate=0.046414155138375816, max_delta_step=17, max_depth=19, min_child_weight=1, n_estimators=150, reg_alpha=2.996223359830951e-09, reg_lambda=0.008564056014533479, scale_pos_weight=0.10905696380103287, subsample=0.33413574340142854 \n",
      "[CV]  colsample_bylevel=0.4140457217296958, colsample_bytree=0.6464750792898242, gamma=0.0010946226409818186, learning_rate=0.046414155138375816, max_delta_step=17, max_depth=19, min_child_weight=1, n_estimators=150, reg_alpha=2.996223359830951e-09, reg_lambda=0.008564056014533479, scale_pos_weight=0.10905696380103287, subsample=0.33413574340142854, score=0.025, total=   5.4s\n",
      "[CV] colsample_bylevel=0.4140457217296958, colsample_bytree=0.6464750792898242, gamma=0.0010946226409818186, learning_rate=0.046414155138375816, max_delta_step=17, max_depth=19, min_child_weight=1, n_estimators=150, reg_alpha=2.996223359830951e-09, reg_lambda=0.008564056014533479, scale_pos_weight=0.10905696380103287, subsample=0.33413574340142854 \n",
      "[CV]  colsample_bylevel=0.4140457217296958, colsample_bytree=0.6464750792898242, gamma=0.0010946226409818186, learning_rate=0.046414155138375816, max_delta_step=17, max_depth=19, min_child_weight=1, n_estimators=150, reg_alpha=2.996223359830951e-09, reg_lambda=0.008564056014533479, scale_pos_weight=0.10905696380103287, subsample=0.33413574340142854, score=0.052, total=   5.4s\n",
      "[CV] colsample_bylevel=0.4140457217296958, colsample_bytree=0.6464750792898242, gamma=0.0010946226409818186, learning_rate=0.046414155138375816, max_delta_step=17, max_depth=19, min_child_weight=1, n_estimators=150, reg_alpha=2.996223359830951e-09, reg_lambda=0.008564056014533479, scale_pos_weight=0.10905696380103287, subsample=0.33413574340142854 \n",
      "[CV]  colsample_bylevel=0.4140457217296958, colsample_bytree=0.6464750792898242, gamma=0.0010946226409818186, learning_rate=0.046414155138375816, max_delta_step=17, max_depth=19, min_child_weight=1, n_estimators=150, reg_alpha=2.996223359830951e-09, reg_lambda=0.008564056014533479, scale_pos_weight=0.10905696380103287, subsample=0.33413574340142854, score=0.049, total=   5.5s\n",
      "[CV] colsample_bylevel=1.0, colsample_bytree=0.01, gamma=1.2201313617348596e-09, learning_rate=0.8138177728846138, max_delta_step=0, max_depth=0, min_child_weight=3, n_estimators=50, reg_alpha=0.03316972024684496, reg_lambda=1e-09, scale_pos_weight=1e-06, subsample=0.40470904471774344 \n"
     ]
    },
    {
     "name": "stdout",
     "output_type": "stream",
     "text": [
      "[CV]  colsample_bylevel=1.0, colsample_bytree=0.01, gamma=1.2201313617348596e-09, learning_rate=0.8138177728846138, max_delta_step=0, max_depth=0, min_child_weight=3, n_estimators=50, reg_alpha=0.03316972024684496, reg_lambda=1e-09, scale_pos_weight=1e-06, subsample=0.40470904471774344, score=-0.007, total=   0.3s\n",
      "[CV] colsample_bylevel=1.0, colsample_bytree=0.01, gamma=1.2201313617348596e-09, learning_rate=0.8138177728846138, max_delta_step=0, max_depth=0, min_child_weight=3, n_estimators=50, reg_alpha=0.03316972024684496, reg_lambda=1e-09, scale_pos_weight=1e-06, subsample=0.40470904471774344 \n",
      "[CV]  colsample_bylevel=1.0, colsample_bytree=0.01, gamma=1.2201313617348596e-09, learning_rate=0.8138177728846138, max_delta_step=0, max_depth=0, min_child_weight=3, n_estimators=50, reg_alpha=0.03316972024684496, reg_lambda=1e-09, scale_pos_weight=1e-06, subsample=0.40470904471774344, score=-0.000, total=   0.3s\n",
      "[CV] colsample_bylevel=1.0, colsample_bytree=0.01, gamma=1.2201313617348596e-09, learning_rate=0.8138177728846138, max_delta_step=0, max_depth=0, min_child_weight=3, n_estimators=50, reg_alpha=0.03316972024684496, reg_lambda=1e-09, scale_pos_weight=1e-06, subsample=0.40470904471774344 \n",
      "[CV]  colsample_bylevel=1.0, colsample_bytree=0.01, gamma=1.2201313617348596e-09, learning_rate=0.8138177728846138, max_delta_step=0, max_depth=0, min_child_weight=3, n_estimators=50, reg_alpha=0.03316972024684496, reg_lambda=1e-09, scale_pos_weight=1e-06, subsample=0.40470904471774344, score=-0.000, total=   0.3s\n",
      "[CV] colsample_bylevel=1.0, colsample_bytree=0.01, gamma=1.2201313617348596e-09, learning_rate=0.8138177728846138, max_delta_step=0, max_depth=0, min_child_weight=3, n_estimators=50, reg_alpha=0.03316972024684496, reg_lambda=1e-09, scale_pos_weight=1e-06, subsample=0.40470904471774344 \n",
      "[CV]  colsample_bylevel=1.0, colsample_bytree=0.01, gamma=1.2201313617348596e-09, learning_rate=0.8138177728846138, max_delta_step=0, max_depth=0, min_child_weight=3, n_estimators=50, reg_alpha=0.03316972024684496, reg_lambda=1e-09, scale_pos_weight=1e-06, subsample=0.40470904471774344, score=-0.020, total=   0.3s\n",
      "[CV] colsample_bylevel=1.0, colsample_bytree=0.01, gamma=1.2201313617348596e-09, learning_rate=0.8138177728846138, max_delta_step=0, max_depth=0, min_child_weight=3, n_estimators=50, reg_alpha=0.03316972024684496, reg_lambda=1e-09, scale_pos_weight=1e-06, subsample=0.40470904471774344 \n",
      "[CV]  colsample_bylevel=1.0, colsample_bytree=0.01, gamma=1.2201313617348596e-09, learning_rate=0.8138177728846138, max_delta_step=0, max_depth=0, min_child_weight=3, n_estimators=50, reg_alpha=0.03316972024684496, reg_lambda=1e-09, scale_pos_weight=1e-06, subsample=0.40470904471774344, score=-0.003, total=   0.3s\n",
      "[CV] colsample_bylevel=0.7668109163309105, colsample_bytree=0.01, gamma=2.488834908674899e-06, learning_rate=0.07735333539493897, max_delta_step=17, max_depth=4, min_child_weight=0, n_estimators=68, reg_alpha=0.9123146284399278, reg_lambda=24.21648227017632, scale_pos_weight=6.130165605160799e-06, subsample=0.35746380496513974 \n",
      "[CV]  colsample_bylevel=0.7668109163309105, colsample_bytree=0.01, gamma=2.488834908674899e-06, learning_rate=0.07735333539493897, max_delta_step=17, max_depth=4, min_child_weight=0, n_estimators=68, reg_alpha=0.9123146284399278, reg_lambda=24.21648227017632, scale_pos_weight=6.130165605160799e-06, subsample=0.35746380496513974, score=-0.015, total=   0.3s\n",
      "[CV] colsample_bylevel=0.7668109163309105, colsample_bytree=0.01, gamma=2.488834908674899e-06, learning_rate=0.07735333539493897, max_delta_step=17, max_depth=4, min_child_weight=0, n_estimators=68, reg_alpha=0.9123146284399278, reg_lambda=24.21648227017632, scale_pos_weight=6.130165605160799e-06, subsample=0.35746380496513974 \n",
      "[CV]  colsample_bylevel=0.7668109163309105, colsample_bytree=0.01, gamma=2.488834908674899e-06, learning_rate=0.07735333539493897, max_delta_step=17, max_depth=4, min_child_weight=0, n_estimators=68, reg_alpha=0.9123146284399278, reg_lambda=24.21648227017632, scale_pos_weight=6.130165605160799e-06, subsample=0.35746380496513974, score=0.005, total=   0.3s\n",
      "[CV] colsample_bylevel=0.7668109163309105, colsample_bytree=0.01, gamma=2.488834908674899e-06, learning_rate=0.07735333539493897, max_delta_step=17, max_depth=4, min_child_weight=0, n_estimators=68, reg_alpha=0.9123146284399278, reg_lambda=24.21648227017632, scale_pos_weight=6.130165605160799e-06, subsample=0.35746380496513974 \n",
      "[CV]  colsample_bylevel=0.7668109163309105, colsample_bytree=0.01, gamma=2.488834908674899e-06, learning_rate=0.07735333539493897, max_delta_step=17, max_depth=4, min_child_weight=0, n_estimators=68, reg_alpha=0.9123146284399278, reg_lambda=24.21648227017632, scale_pos_weight=6.130165605160799e-06, subsample=0.35746380496513974, score=0.011, total=   0.4s\n",
      "[CV] colsample_bylevel=0.7668109163309105, colsample_bytree=0.01, gamma=2.488834908674899e-06, learning_rate=0.07735333539493897, max_delta_step=17, max_depth=4, min_child_weight=0, n_estimators=68, reg_alpha=0.9123146284399278, reg_lambda=24.21648227017632, scale_pos_weight=6.130165605160799e-06, subsample=0.35746380496513974 \n",
      "[CV]  colsample_bylevel=0.7668109163309105, colsample_bytree=0.01, gamma=2.488834908674899e-06, learning_rate=0.07735333539493897, max_delta_step=17, max_depth=4, min_child_weight=0, n_estimators=68, reg_alpha=0.9123146284399278, reg_lambda=24.21648227017632, scale_pos_weight=6.130165605160799e-06, subsample=0.35746380496513974, score=-0.006, total=   0.3s\n",
      "[CV] colsample_bylevel=0.7668109163309105, colsample_bytree=0.01, gamma=2.488834908674899e-06, learning_rate=0.07735333539493897, max_delta_step=17, max_depth=4, min_child_weight=0, n_estimators=68, reg_alpha=0.9123146284399278, reg_lambda=24.21648227017632, scale_pos_weight=6.130165605160799e-06, subsample=0.35746380496513974 \n",
      "[CV]  colsample_bylevel=0.7668109163309105, colsample_bytree=0.01, gamma=2.488834908674899e-06, learning_rate=0.07735333539493897, max_delta_step=17, max_depth=4, min_child_weight=0, n_estimators=68, reg_alpha=0.9123146284399278, reg_lambda=24.21648227017632, scale_pos_weight=6.130165605160799e-06, subsample=0.35746380496513974, score=0.040, total=   0.4s\n",
      "[CV] colsample_bylevel=0.8620596916920447, colsample_bytree=0.01, gamma=3.837698204204378e-09, learning_rate=0.20730947726451227, max_delta_step=11, max_depth=19, min_child_weight=3, n_estimators=149, reg_alpha=0.0022287049055535334, reg_lambda=1.2005274920086834e-05, scale_pos_weight=42.22309566617416, subsample=0.871963721198761 \n",
      "[CV]  colsample_bylevel=0.8620596916920447, colsample_bytree=0.01, gamma=3.837698204204378e-09, learning_rate=0.20730947726451227, max_delta_step=11, max_depth=19, min_child_weight=3, n_estimators=149, reg_alpha=0.0022287049055535334, reg_lambda=1.2005274920086834e-05, scale_pos_weight=42.22309566617416, subsample=0.871963721198761, score=-0.043, total=   1.3s\n",
      "[CV] colsample_bylevel=0.8620596916920447, colsample_bytree=0.01, gamma=3.837698204204378e-09, learning_rate=0.20730947726451227, max_delta_step=11, max_depth=19, min_child_weight=3, n_estimators=149, reg_alpha=0.0022287049055535334, reg_lambda=1.2005274920086834e-05, scale_pos_weight=42.22309566617416, subsample=0.871963721198761 \n",
      "[CV]  colsample_bylevel=0.8620596916920447, colsample_bytree=0.01, gamma=3.837698204204378e-09, learning_rate=0.20730947726451227, max_delta_step=11, max_depth=19, min_child_weight=3, n_estimators=149, reg_alpha=0.0022287049055535334, reg_lambda=1.2005274920086834e-05, scale_pos_weight=42.22309566617416, subsample=0.871963721198761, score=-0.057, total=   1.0s\n",
      "[CV] colsample_bylevel=0.8620596916920447, colsample_bytree=0.01, gamma=3.837698204204378e-09, learning_rate=0.20730947726451227, max_delta_step=11, max_depth=19, min_child_weight=3, n_estimators=149, reg_alpha=0.0022287049055535334, reg_lambda=1.2005274920086834e-05, scale_pos_weight=42.22309566617416, subsample=0.871963721198761 \n",
      "[CV]  colsample_bylevel=0.8620596916920447, colsample_bytree=0.01, gamma=3.837698204204378e-09, learning_rate=0.20730947726451227, max_delta_step=11, max_depth=19, min_child_weight=3, n_estimators=149, reg_alpha=0.0022287049055535334, reg_lambda=1.2005274920086834e-05, scale_pos_weight=42.22309566617416, subsample=0.871963721198761, score=-0.006, total=   1.0s\n",
      "[CV] colsample_bylevel=0.8620596916920447, colsample_bytree=0.01, gamma=3.837698204204378e-09, learning_rate=0.20730947726451227, max_delta_step=11, max_depth=19, min_child_weight=3, n_estimators=149, reg_alpha=0.0022287049055535334, reg_lambda=1.2005274920086834e-05, scale_pos_weight=42.22309566617416, subsample=0.871963721198761 \n"
     ]
    },
    {
     "name": "stdout",
     "output_type": "stream",
     "text": [
      "[CV]  colsample_bylevel=0.8620596916920447, colsample_bytree=0.01, gamma=3.837698204204378e-09, learning_rate=0.20730947726451227, max_delta_step=11, max_depth=19, min_child_weight=3, n_estimators=149, reg_alpha=0.0022287049055535334, reg_lambda=1.2005274920086834e-05, scale_pos_weight=42.22309566617416, subsample=0.871963721198761, score=-0.092, total=   1.2s\n",
      "[CV] colsample_bylevel=0.8620596916920447, colsample_bytree=0.01, gamma=3.837698204204378e-09, learning_rate=0.20730947726451227, max_delta_step=11, max_depth=19, min_child_weight=3, n_estimators=149, reg_alpha=0.0022287049055535334, reg_lambda=1.2005274920086834e-05, scale_pos_weight=42.22309566617416, subsample=0.871963721198761 \n",
      "[CV]  colsample_bylevel=0.8620596916920447, colsample_bytree=0.01, gamma=3.837698204204378e-09, learning_rate=0.20730947726451227, max_delta_step=11, max_depth=19, min_child_weight=3, n_estimators=149, reg_alpha=0.0022287049055535334, reg_lambda=1.2005274920086834e-05, scale_pos_weight=42.22309566617416, subsample=0.871963721198761, score=-0.044, total=   1.1s\n",
      "[CV] colsample_bylevel=0.9513609812587015, colsample_bytree=0.11035857233120498, gamma=1.2719039152014485e-05, learning_rate=0.029835690917307346, max_delta_step=17, max_depth=50, min_child_weight=5, n_estimators=64, reg_alpha=8.870316763654575e-05, reg_lambda=2.0376686719182366e-05, scale_pos_weight=1.2994695440041069e-05, subsample=0.21564921474212667 \n",
      "[CV]  colsample_bylevel=0.9513609812587015, colsample_bytree=0.11035857233120498, gamma=1.2719039152014485e-05, learning_rate=0.029835690917307346, max_delta_step=17, max_depth=50, min_child_weight=5, n_estimators=64, reg_alpha=8.870316763654575e-05, reg_lambda=2.0376686719182366e-05, scale_pos_weight=1.2994695440041069e-05, subsample=0.21564921474212667, score=-0.278, total=   0.8s\n",
      "[CV] colsample_bylevel=0.9513609812587015, colsample_bytree=0.11035857233120498, gamma=1.2719039152014485e-05, learning_rate=0.029835690917307346, max_delta_step=17, max_depth=50, min_child_weight=5, n_estimators=64, reg_alpha=8.870316763654575e-05, reg_lambda=2.0376686719182366e-05, scale_pos_weight=1.2994695440041069e-05, subsample=0.21564921474212667 \n",
      "[CV]  colsample_bylevel=0.9513609812587015, colsample_bytree=0.11035857233120498, gamma=1.2719039152014485e-05, learning_rate=0.029835690917307346, max_delta_step=17, max_depth=50, min_child_weight=5, n_estimators=64, reg_alpha=8.870316763654575e-05, reg_lambda=2.0376686719182366e-05, scale_pos_weight=1.2994695440041069e-05, subsample=0.21564921474212667, score=-0.217, total=   0.8s\n",
      "[CV] colsample_bylevel=0.9513609812587015, colsample_bytree=0.11035857233120498, gamma=1.2719039152014485e-05, learning_rate=0.029835690917307346, max_delta_step=17, max_depth=50, min_child_weight=5, n_estimators=64, reg_alpha=8.870316763654575e-05, reg_lambda=2.0376686719182366e-05, scale_pos_weight=1.2994695440041069e-05, subsample=0.21564921474212667 \n",
      "[CV]  colsample_bylevel=0.9513609812587015, colsample_bytree=0.11035857233120498, gamma=1.2719039152014485e-05, learning_rate=0.029835690917307346, max_delta_step=17, max_depth=50, min_child_weight=5, n_estimators=64, reg_alpha=8.870316763654575e-05, reg_lambda=2.0376686719182366e-05, scale_pos_weight=1.2994695440041069e-05, subsample=0.21564921474212667, score=-0.212, total=   0.8s\n",
      "[CV] colsample_bylevel=0.9513609812587015, colsample_bytree=0.11035857233120498, gamma=1.2719039152014485e-05, learning_rate=0.029835690917307346, max_delta_step=17, max_depth=50, min_child_weight=5, n_estimators=64, reg_alpha=8.870316763654575e-05, reg_lambda=2.0376686719182366e-05, scale_pos_weight=1.2994695440041069e-05, subsample=0.21564921474212667 \n",
      "[CV]  colsample_bylevel=0.9513609812587015, colsample_bytree=0.11035857233120498, gamma=1.2719039152014485e-05, learning_rate=0.029835690917307346, max_delta_step=17, max_depth=50, min_child_weight=5, n_estimators=64, reg_alpha=8.870316763654575e-05, reg_lambda=2.0376686719182366e-05, scale_pos_weight=1.2994695440041069e-05, subsample=0.21564921474212667, score=-0.131, total=   0.8s\n",
      "[CV] colsample_bylevel=0.9513609812587015, colsample_bytree=0.11035857233120498, gamma=1.2719039152014485e-05, learning_rate=0.029835690917307346, max_delta_step=17, max_depth=50, min_child_weight=5, n_estimators=64, reg_alpha=8.870316763654575e-05, reg_lambda=2.0376686719182366e-05, scale_pos_weight=1.2994695440041069e-05, subsample=0.21564921474212667 \n",
      "[CV]  colsample_bylevel=0.9513609812587015, colsample_bytree=0.11035857233120498, gamma=1.2719039152014485e-05, learning_rate=0.029835690917307346, max_delta_step=17, max_depth=50, min_child_weight=5, n_estimators=64, reg_alpha=8.870316763654575e-05, reg_lambda=2.0376686719182366e-05, scale_pos_weight=1.2994695440041069e-05, subsample=0.21564921474212667, score=-0.226, total=   0.8s\n"
     ]
    },
    {
     "name": "stderr",
     "output_type": "stream",
     "text": [
      "[Parallel(n_jobs=1)]: Done  60 out of  60 | elapsed:  4.3min finished\n"
     ]
    },
    {
     "name": "stdout",
     "output_type": "stream",
     "text": [
      "best score: 0.017321199565029657\n",
      "Fitting 5 folds for each of 12 candidates, totalling 60 fits\n",
      "[CV] colsample_bylevel=0.42658016065650545, colsample_bytree=0.5440828278481777, gamma=4.550054777481182e-06, learning_rate=0.04983031994258388, max_delta_step=20, max_depth=18, min_child_weight=0, n_estimators=160, reg_alpha=3.3382426957343072e-09, reg_lambda=0.0008588703945916468, scale_pos_weight=0.1303585644792417, subsample=0.41273788978282033 \n"
     ]
    },
    {
     "name": "stderr",
     "output_type": "stream",
     "text": [
      "[Parallel(n_jobs=1)]: Using backend SequentialBackend with 1 concurrent workers.\n"
     ]
    },
    {
     "name": "stdout",
     "output_type": "stream",
     "text": [
      "[CV]  colsample_bylevel=0.42658016065650545, colsample_bytree=0.5440828278481777, gamma=4.550054777481182e-06, learning_rate=0.04983031994258388, max_delta_step=20, max_depth=18, min_child_weight=0, n_estimators=160, reg_alpha=3.3382426957343072e-09, reg_lambda=0.0008588703945916468, scale_pos_weight=0.1303585644792417, subsample=0.41273788978282033, score=0.005, total=   5.1s\n",
      "[CV] colsample_bylevel=0.42658016065650545, colsample_bytree=0.5440828278481777, gamma=4.550054777481182e-06, learning_rate=0.04983031994258388, max_delta_step=20, max_depth=18, min_child_weight=0, n_estimators=160, reg_alpha=3.3382426957343072e-09, reg_lambda=0.0008588703945916468, scale_pos_weight=0.1303585644792417, subsample=0.41273788978282033 \n"
     ]
    },
    {
     "name": "stderr",
     "output_type": "stream",
     "text": [
      "[Parallel(n_jobs=1)]: Done   1 out of   1 | elapsed:    5.1s remaining:    0.0s\n"
     ]
    },
    {
     "name": "stdout",
     "output_type": "stream",
     "text": [
      "[CV]  colsample_bylevel=0.42658016065650545, colsample_bytree=0.5440828278481777, gamma=4.550054777481182e-06, learning_rate=0.04983031994258388, max_delta_step=20, max_depth=18, min_child_weight=0, n_estimators=160, reg_alpha=3.3382426957343072e-09, reg_lambda=0.0008588703945916468, scale_pos_weight=0.1303585644792417, subsample=0.41273788978282033, score=-0.054, total=   5.0s\n",
      "[CV] colsample_bylevel=0.42658016065650545, colsample_bytree=0.5440828278481777, gamma=4.550054777481182e-06, learning_rate=0.04983031994258388, max_delta_step=20, max_depth=18, min_child_weight=0, n_estimators=160, reg_alpha=3.3382426957343072e-09, reg_lambda=0.0008588703945916468, scale_pos_weight=0.1303585644792417, subsample=0.41273788978282033 \n"
     ]
    },
    {
     "name": "stderr",
     "output_type": "stream",
     "text": [
      "[Parallel(n_jobs=1)]: Done   2 out of   2 | elapsed:   10.1s remaining:    0.0s\n"
     ]
    },
    {
     "name": "stdout",
     "output_type": "stream",
     "text": [
      "[CV]  colsample_bylevel=0.42658016065650545, colsample_bytree=0.5440828278481777, gamma=4.550054777481182e-06, learning_rate=0.04983031994258388, max_delta_step=20, max_depth=18, min_child_weight=0, n_estimators=160, reg_alpha=3.3382426957343072e-09, reg_lambda=0.0008588703945916468, scale_pos_weight=0.1303585644792417, subsample=0.41273788978282033, score=0.089, total=   5.0s\n",
      "[CV] colsample_bylevel=0.42658016065650545, colsample_bytree=0.5440828278481777, gamma=4.550054777481182e-06, learning_rate=0.04983031994258388, max_delta_step=20, max_depth=18, min_child_weight=0, n_estimators=160, reg_alpha=3.3382426957343072e-09, reg_lambda=0.0008588703945916468, scale_pos_weight=0.1303585644792417, subsample=0.41273788978282033 \n",
      "[CV]  colsample_bylevel=0.42658016065650545, colsample_bytree=0.5440828278481777, gamma=4.550054777481182e-06, learning_rate=0.04983031994258388, max_delta_step=20, max_depth=18, min_child_weight=0, n_estimators=160, reg_alpha=3.3382426957343072e-09, reg_lambda=0.0008588703945916468, scale_pos_weight=0.1303585644792417, subsample=0.41273788978282033, score=0.000, total=   5.1s\n",
      "[CV] colsample_bylevel=0.42658016065650545, colsample_bytree=0.5440828278481777, gamma=4.550054777481182e-06, learning_rate=0.04983031994258388, max_delta_step=20, max_depth=18, min_child_weight=0, n_estimators=160, reg_alpha=3.3382426957343072e-09, reg_lambda=0.0008588703945916468, scale_pos_weight=0.1303585644792417, subsample=0.41273788978282033 \n",
      "[CV]  colsample_bylevel=0.42658016065650545, colsample_bytree=0.5440828278481777, gamma=4.550054777481182e-06, learning_rate=0.04983031994258388, max_delta_step=20, max_depth=18, min_child_weight=0, n_estimators=160, reg_alpha=3.3382426957343072e-09, reg_lambda=0.0008588703945916468, scale_pos_weight=0.1303585644792417, subsample=0.41273788978282033, score=0.063, total=   5.1s\n",
      "[CV] colsample_bylevel=0.3368288278796782, colsample_bytree=0.25077865966028445, gamma=0.0013159803529620147, learning_rate=0.041256935565467785, max_delta_step=20, max_depth=21, min_child_weight=0, n_estimators=163, reg_alpha=1e-09, reg_lambda=0.0002975361349381499, scale_pos_weight=0.02168971662594459, subsample=0.06760288325655162 \n",
      "[CV]  colsample_bylevel=0.3368288278796782, colsample_bytree=0.25077865966028445, gamma=0.0013159803529620147, learning_rate=0.041256935565467785, max_delta_step=20, max_depth=21, min_child_weight=0, n_estimators=163, reg_alpha=1e-09, reg_lambda=0.0002975361349381499, scale_pos_weight=0.02168971662594459, subsample=0.06760288325655162, score=-0.090, total=   1.1s\n",
      "[CV] colsample_bylevel=0.3368288278796782, colsample_bytree=0.25077865966028445, gamma=0.0013159803529620147, learning_rate=0.041256935565467785, max_delta_step=20, max_depth=21, min_child_weight=0, n_estimators=163, reg_alpha=1e-09, reg_lambda=0.0002975361349381499, scale_pos_weight=0.02168971662594459, subsample=0.06760288325655162 \n",
      "[CV]  colsample_bylevel=0.3368288278796782, colsample_bytree=0.25077865966028445, gamma=0.0013159803529620147, learning_rate=0.041256935565467785, max_delta_step=20, max_depth=21, min_child_weight=0, n_estimators=163, reg_alpha=1e-09, reg_lambda=0.0002975361349381499, scale_pos_weight=0.02168971662594459, subsample=0.06760288325655162, score=-0.127, total=   1.2s\n",
      "[CV] colsample_bylevel=0.3368288278796782, colsample_bytree=0.25077865966028445, gamma=0.0013159803529620147, learning_rate=0.041256935565467785, max_delta_step=20, max_depth=21, min_child_weight=0, n_estimators=163, reg_alpha=1e-09, reg_lambda=0.0002975361349381499, scale_pos_weight=0.02168971662594459, subsample=0.06760288325655162 \n",
      "[CV]  colsample_bylevel=0.3368288278796782, colsample_bytree=0.25077865966028445, gamma=0.0013159803529620147, learning_rate=0.041256935565467785, max_delta_step=20, max_depth=21, min_child_weight=0, n_estimators=163, reg_alpha=1e-09, reg_lambda=0.0002975361349381499, scale_pos_weight=0.02168971662594459, subsample=0.06760288325655162, score=-0.061, total=   1.2s\n",
      "[CV] colsample_bylevel=0.3368288278796782, colsample_bytree=0.25077865966028445, gamma=0.0013159803529620147, learning_rate=0.041256935565467785, max_delta_step=20, max_depth=21, min_child_weight=0, n_estimators=163, reg_alpha=1e-09, reg_lambda=0.0002975361349381499, scale_pos_weight=0.02168971662594459, subsample=0.06760288325655162 \n",
      "[CV]  colsample_bylevel=0.3368288278796782, colsample_bytree=0.25077865966028445, gamma=0.0013159803529620147, learning_rate=0.041256935565467785, max_delta_step=20, max_depth=21, min_child_weight=0, n_estimators=163, reg_alpha=1e-09, reg_lambda=0.0002975361349381499, scale_pos_weight=0.02168971662594459, subsample=0.06760288325655162, score=-0.042, total=   1.2s\n",
      "[CV] colsample_bylevel=0.3368288278796782, colsample_bytree=0.25077865966028445, gamma=0.0013159803529620147, learning_rate=0.041256935565467785, max_delta_step=20, max_depth=21, min_child_weight=0, n_estimators=163, reg_alpha=1e-09, reg_lambda=0.0002975361349381499, scale_pos_weight=0.02168971662594459, subsample=0.06760288325655162 \n",
      "[CV]  colsample_bylevel=0.3368288278796782, colsample_bytree=0.25077865966028445, gamma=0.0013159803529620147, learning_rate=0.041256935565467785, max_delta_step=20, max_depth=21, min_child_weight=0, n_estimators=163, reg_alpha=1e-09, reg_lambda=0.0002975361349381499, scale_pos_weight=0.02168971662594459, subsample=0.06760288325655162, score=-0.010, total=   1.1s\n",
      "[CV] colsample_bylevel=1.0, colsample_bytree=0.06737249786626087, gamma=0.49999999999999994, learning_rate=0.09885001128290748, max_delta_step=20, max_depth=50, min_child_weight=2, n_estimators=200, reg_alpha=1e-09, reg_lambda=0.15236729378642289, scale_pos_weight=1e-06, subsample=1.0 \n",
      "[CV]  colsample_bylevel=1.0, colsample_bytree=0.06737249786626087, gamma=0.49999999999999994, learning_rate=0.09885001128290748, max_delta_step=20, max_depth=50, min_child_weight=2, n_estimators=200, reg_alpha=1e-09, reg_lambda=0.15236729378642289, scale_pos_weight=1e-06, subsample=1.0, score=0.075, total=   4.9s\n",
      "[CV] colsample_bylevel=1.0, colsample_bytree=0.06737249786626087, gamma=0.49999999999999994, learning_rate=0.09885001128290748, max_delta_step=20, max_depth=50, min_child_weight=2, n_estimators=200, reg_alpha=1e-09, reg_lambda=0.15236729378642289, scale_pos_weight=1e-06, subsample=1.0 \n",
      "[CV]  colsample_bylevel=1.0, colsample_bytree=0.06737249786626087, gamma=0.49999999999999994, learning_rate=0.09885001128290748, max_delta_step=20, max_depth=50, min_child_weight=2, n_estimators=200, reg_alpha=1e-09, reg_lambda=0.15236729378642289, scale_pos_weight=1e-06, subsample=1.0, score=-0.049, total=   6.0s\n",
      "[CV] colsample_bylevel=1.0, colsample_bytree=0.06737249786626087, gamma=0.49999999999999994, learning_rate=0.09885001128290748, max_delta_step=20, max_depth=50, min_child_weight=2, n_estimators=200, reg_alpha=1e-09, reg_lambda=0.15236729378642289, scale_pos_weight=1e-06, subsample=1.0 \n",
      "[CV]  colsample_bylevel=1.0, colsample_bytree=0.06737249786626087, gamma=0.49999999999999994, learning_rate=0.09885001128290748, max_delta_step=20, max_depth=50, min_child_weight=2, n_estimators=200, reg_alpha=1e-09, reg_lambda=0.15236729378642289, scale_pos_weight=1e-06, subsample=1.0, score=0.097, total=   4.9s\n",
      "[CV] colsample_bylevel=1.0, colsample_bytree=0.06737249786626087, gamma=0.49999999999999994, learning_rate=0.09885001128290748, max_delta_step=20, max_depth=50, min_child_weight=2, n_estimators=200, reg_alpha=1e-09, reg_lambda=0.15236729378642289, scale_pos_weight=1e-06, subsample=1.0 \n",
      "[CV]  colsample_bylevel=1.0, colsample_bytree=0.06737249786626087, gamma=0.49999999999999994, learning_rate=0.09885001128290748, max_delta_step=20, max_depth=50, min_child_weight=2, n_estimators=200, reg_alpha=1e-09, reg_lambda=0.15236729378642289, scale_pos_weight=1e-06, subsample=1.0, score=0.042, total=   5.1s\n",
      "[CV] colsample_bylevel=1.0, colsample_bytree=0.06737249786626087, gamma=0.49999999999999994, learning_rate=0.09885001128290748, max_delta_step=20, max_depth=50, min_child_weight=2, n_estimators=200, reg_alpha=1e-09, reg_lambda=0.15236729378642289, scale_pos_weight=1e-06, subsample=1.0 \n",
      "[CV]  colsample_bylevel=1.0, colsample_bytree=0.06737249786626087, gamma=0.49999999999999994, learning_rate=0.09885001128290748, max_delta_step=20, max_depth=50, min_child_weight=2, n_estimators=200, reg_alpha=1e-09, reg_lambda=0.15236729378642289, scale_pos_weight=1e-06, subsample=1.0, score=0.026, total=   5.9s\n",
      "[CV] colsample_bylevel=0.4496532403055572, colsample_bytree=0.9454483717706619, gamma=8.94655447797269e-06, learning_rate=0.17397089537976623, max_delta_step=9, max_depth=36, min_child_weight=1, n_estimators=188, reg_alpha=1e-09, reg_lambda=3.207122753391257e-05, scale_pos_weight=8.196152426641108e-05, subsample=1.0 \n"
     ]
    },
    {
     "name": "stdout",
     "output_type": "stream",
     "text": [
      "[CV]  colsample_bylevel=0.4496532403055572, colsample_bytree=0.9454483717706619, gamma=8.94655447797269e-06, learning_rate=0.17397089537976623, max_delta_step=9, max_depth=36, min_child_weight=1, n_estimators=188, reg_alpha=1e-09, reg_lambda=3.207122753391257e-05, scale_pos_weight=8.196152426641108e-05, subsample=1.0, score=0.036, total=  22.8s\n",
      "[CV] colsample_bylevel=0.4496532403055572, colsample_bytree=0.9454483717706619, gamma=8.94655447797269e-06, learning_rate=0.17397089537976623, max_delta_step=9, max_depth=36, min_child_weight=1, n_estimators=188, reg_alpha=1e-09, reg_lambda=3.207122753391257e-05, scale_pos_weight=8.196152426641108e-05, subsample=1.0 \n",
      "[CV]  colsample_bylevel=0.4496532403055572, colsample_bytree=0.9454483717706619, gamma=8.94655447797269e-06, learning_rate=0.17397089537976623, max_delta_step=9, max_depth=36, min_child_weight=1, n_estimators=188, reg_alpha=1e-09, reg_lambda=3.207122753391257e-05, scale_pos_weight=8.196152426641108e-05, subsample=1.0, score=-0.111, total=  23.4s\n",
      "[CV] colsample_bylevel=0.4496532403055572, colsample_bytree=0.9454483717706619, gamma=8.94655447797269e-06, learning_rate=0.17397089537976623, max_delta_step=9, max_depth=36, min_child_weight=1, n_estimators=188, reg_alpha=1e-09, reg_lambda=3.207122753391257e-05, scale_pos_weight=8.196152426641108e-05, subsample=1.0 \n",
      "[CV]  colsample_bylevel=0.4496532403055572, colsample_bytree=0.9454483717706619, gamma=8.94655447797269e-06, learning_rate=0.17397089537976623, max_delta_step=9, max_depth=36, min_child_weight=1, n_estimators=188, reg_alpha=1e-09, reg_lambda=3.207122753391257e-05, scale_pos_weight=8.196152426641108e-05, subsample=1.0, score=0.008, total=  23.6s\n",
      "[CV] colsample_bylevel=0.4496532403055572, colsample_bytree=0.9454483717706619, gamma=8.94655447797269e-06, learning_rate=0.17397089537976623, max_delta_step=9, max_depth=36, min_child_weight=1, n_estimators=188, reg_alpha=1e-09, reg_lambda=3.207122753391257e-05, scale_pos_weight=8.196152426641108e-05, subsample=1.0 \n",
      "[CV]  colsample_bylevel=0.4496532403055572, colsample_bytree=0.9454483717706619, gamma=8.94655447797269e-06, learning_rate=0.17397089537976623, max_delta_step=9, max_depth=36, min_child_weight=1, n_estimators=188, reg_alpha=1e-09, reg_lambda=3.207122753391257e-05, scale_pos_weight=8.196152426641108e-05, subsample=1.0, score=-0.027, total=  23.1s\n",
      "[CV] colsample_bylevel=0.4496532403055572, colsample_bytree=0.9454483717706619, gamma=8.94655447797269e-06, learning_rate=0.17397089537976623, max_delta_step=9, max_depth=36, min_child_weight=1, n_estimators=188, reg_alpha=1e-09, reg_lambda=3.207122753391257e-05, scale_pos_weight=8.196152426641108e-05, subsample=1.0 \n",
      "[CV]  colsample_bylevel=0.4496532403055572, colsample_bytree=0.9454483717706619, gamma=8.94655447797269e-06, learning_rate=0.17397089537976623, max_delta_step=9, max_depth=36, min_child_weight=1, n_estimators=188, reg_alpha=1e-09, reg_lambda=3.207122753391257e-05, scale_pos_weight=8.196152426641108e-05, subsample=1.0, score=-0.030, total=  23.5s\n",
      "[CV] colsample_bylevel=1.0, colsample_bytree=0.8549931990201683, gamma=9.408044831928504e-05, learning_rate=0.15529293307878922, max_delta_step=5, max_depth=20, min_child_weight=2, n_estimators=82, reg_alpha=1e-09, reg_lambda=1000.0, scale_pos_weight=0.14264730002038928, subsample=1.0 \n",
      "[CV]  colsample_bylevel=1.0, colsample_bytree=0.8549931990201683, gamma=9.408044831928504e-05, learning_rate=0.15529293307878922, max_delta_step=5, max_depth=20, min_child_weight=2, n_estimators=82, reg_alpha=1e-09, reg_lambda=1000.0, scale_pos_weight=0.14264730002038928, subsample=1.0, score=-0.015, total=  11.2s\n",
      "[CV] colsample_bylevel=1.0, colsample_bytree=0.8549931990201683, gamma=9.408044831928504e-05, learning_rate=0.15529293307878922, max_delta_step=5, max_depth=20, min_child_weight=2, n_estimators=82, reg_alpha=1e-09, reg_lambda=1000.0, scale_pos_weight=0.14264730002038928, subsample=1.0 \n",
      "[CV]  colsample_bylevel=1.0, colsample_bytree=0.8549931990201683, gamma=9.408044831928504e-05, learning_rate=0.15529293307878922, max_delta_step=5, max_depth=20, min_child_weight=2, n_estimators=82, reg_alpha=1e-09, reg_lambda=1000.0, scale_pos_weight=0.14264730002038928, subsample=1.0, score=-0.039, total=  11.2s\n",
      "[CV] colsample_bylevel=1.0, colsample_bytree=0.8549931990201683, gamma=9.408044831928504e-05, learning_rate=0.15529293307878922, max_delta_step=5, max_depth=20, min_child_weight=2, n_estimators=82, reg_alpha=1e-09, reg_lambda=1000.0, scale_pos_weight=0.14264730002038928, subsample=1.0 \n",
      "[CV]  colsample_bylevel=1.0, colsample_bytree=0.8549931990201683, gamma=9.408044831928504e-05, learning_rate=0.15529293307878922, max_delta_step=5, max_depth=20, min_child_weight=2, n_estimators=82, reg_alpha=1e-09, reg_lambda=1000.0, scale_pos_weight=0.14264730002038928, subsample=1.0, score=0.007, total=  11.1s\n",
      "[CV] colsample_bylevel=1.0, colsample_bytree=0.8549931990201683, gamma=9.408044831928504e-05, learning_rate=0.15529293307878922, max_delta_step=5, max_depth=20, min_child_weight=2, n_estimators=82, reg_alpha=1e-09, reg_lambda=1000.0, scale_pos_weight=0.14264730002038928, subsample=1.0 \n",
      "[CV]  colsample_bylevel=1.0, colsample_bytree=0.8549931990201683, gamma=9.408044831928504e-05, learning_rate=0.15529293307878922, max_delta_step=5, max_depth=20, min_child_weight=2, n_estimators=82, reg_alpha=1e-09, reg_lambda=1000.0, scale_pos_weight=0.14264730002038928, subsample=1.0, score=0.031, total=  11.1s\n",
      "[CV] colsample_bylevel=1.0, colsample_bytree=0.8549931990201683, gamma=9.408044831928504e-05, learning_rate=0.15529293307878922, max_delta_step=5, max_depth=20, min_child_weight=2, n_estimators=82, reg_alpha=1e-09, reg_lambda=1000.0, scale_pos_weight=0.14264730002038928, subsample=1.0 \n",
      "[CV]  colsample_bylevel=1.0, colsample_bytree=0.8549931990201683, gamma=9.408044831928504e-05, learning_rate=0.15529293307878922, max_delta_step=5, max_depth=20, min_child_weight=2, n_estimators=82, reg_alpha=1e-09, reg_lambda=1000.0, scale_pos_weight=0.14264730002038928, subsample=1.0, score=0.004, total=   9.8s\n",
      "[CV] colsample_bylevel=1.0, colsample_bytree=0.01, gamma=1e-09, learning_rate=1.0, max_delta_step=20, max_depth=0, min_child_weight=5, n_estimators=50, reg_alpha=1e-09, reg_lambda=1e-09, scale_pos_weight=499.99999999999994, subsample=0.01 \n",
      "[CV]  colsample_bylevel=1.0, colsample_bytree=0.01, gamma=1e-09, learning_rate=1.0, max_delta_step=20, max_depth=0, min_child_weight=5, n_estimators=50, reg_alpha=1e-09, reg_lambda=1e-09, scale_pos_weight=499.99999999999994, subsample=0.01, score=-0.540, total=   0.2s\n",
      "[CV] colsample_bylevel=1.0, colsample_bytree=0.01, gamma=1e-09, learning_rate=1.0, max_delta_step=20, max_depth=0, min_child_weight=5, n_estimators=50, reg_alpha=1e-09, reg_lambda=1e-09, scale_pos_weight=499.99999999999994, subsample=0.01 \n",
      "[CV]  colsample_bylevel=1.0, colsample_bytree=0.01, gamma=1e-09, learning_rate=1.0, max_delta_step=20, max_depth=0, min_child_weight=5, n_estimators=50, reg_alpha=1e-09, reg_lambda=1e-09, scale_pos_weight=499.99999999999994, subsample=0.01, score=-0.038, total=   0.3s\n",
      "[CV] colsample_bylevel=1.0, colsample_bytree=0.01, gamma=1e-09, learning_rate=1.0, max_delta_step=20, max_depth=0, min_child_weight=5, n_estimators=50, reg_alpha=1e-09, reg_lambda=1e-09, scale_pos_weight=499.99999999999994, subsample=0.01 \n",
      "[CV]  colsample_bylevel=1.0, colsample_bytree=0.01, gamma=1e-09, learning_rate=1.0, max_delta_step=20, max_depth=0, min_child_weight=5, n_estimators=50, reg_alpha=1e-09, reg_lambda=1e-09, scale_pos_weight=499.99999999999994, subsample=0.01, score=-0.068, total=   0.2s\n",
      "[CV] colsample_bylevel=1.0, colsample_bytree=0.01, gamma=1e-09, learning_rate=1.0, max_delta_step=20, max_depth=0, min_child_weight=5, n_estimators=50, reg_alpha=1e-09, reg_lambda=1e-09, scale_pos_weight=499.99999999999994, subsample=0.01 \n",
      "[CV]  colsample_bylevel=1.0, colsample_bytree=0.01, gamma=1e-09, learning_rate=1.0, max_delta_step=20, max_depth=0, min_child_weight=5, n_estimators=50, reg_alpha=1e-09, reg_lambda=1e-09, scale_pos_weight=499.99999999999994, subsample=0.01, score=-0.234, total=   0.2s\n",
      "[CV] colsample_bylevel=1.0, colsample_bytree=0.01, gamma=1e-09, learning_rate=1.0, max_delta_step=20, max_depth=0, min_child_weight=5, n_estimators=50, reg_alpha=1e-09, reg_lambda=1e-09, scale_pos_weight=499.99999999999994, subsample=0.01 \n"
     ]
    },
    {
     "name": "stdout",
     "output_type": "stream",
     "text": [
      "[CV]  colsample_bylevel=1.0, colsample_bytree=0.01, gamma=1e-09, learning_rate=1.0, max_delta_step=20, max_depth=0, min_child_weight=5, n_estimators=50, reg_alpha=1e-09, reg_lambda=1e-09, scale_pos_weight=499.99999999999994, subsample=0.01, score=-0.455, total=   0.2s\n",
      "[CV] colsample_bylevel=0.4136760133888395, colsample_bytree=0.1995782991809466, gamma=0.29294527102867907, learning_rate=0.040794759430200354, max_delta_step=20, max_depth=19, min_child_weight=0, n_estimators=123, reg_alpha=1e-09, reg_lambda=0.0036858249671001056, scale_pos_weight=0.1374801994200496, subsample=0.010566360787561015 \n",
      "[CV]  colsample_bylevel=0.4136760133888395, colsample_bytree=0.1995782991809466, gamma=0.29294527102867907, learning_rate=0.040794759430200354, max_delta_step=20, max_depth=19, min_child_weight=0, n_estimators=123, reg_alpha=1e-09, reg_lambda=0.0036858249671001056, scale_pos_weight=0.1374801994200496, subsample=0.010566360787561015, score=-0.115, total=   0.6s\n",
      "[CV] colsample_bylevel=0.4136760133888395, colsample_bytree=0.1995782991809466, gamma=0.29294527102867907, learning_rate=0.040794759430200354, max_delta_step=20, max_depth=19, min_child_weight=0, n_estimators=123, reg_alpha=1e-09, reg_lambda=0.0036858249671001056, scale_pos_weight=0.1374801994200496, subsample=0.010566360787561015 \n",
      "[CV]  colsample_bylevel=0.4136760133888395, colsample_bytree=0.1995782991809466, gamma=0.29294527102867907, learning_rate=0.040794759430200354, max_delta_step=20, max_depth=19, min_child_weight=0, n_estimators=123, reg_alpha=1e-09, reg_lambda=0.0036858249671001056, scale_pos_weight=0.1374801994200496, subsample=0.010566360787561015, score=-0.098, total=   0.5s\n",
      "[CV] colsample_bylevel=0.4136760133888395, colsample_bytree=0.1995782991809466, gamma=0.29294527102867907, learning_rate=0.040794759430200354, max_delta_step=20, max_depth=19, min_child_weight=0, n_estimators=123, reg_alpha=1e-09, reg_lambda=0.0036858249671001056, scale_pos_weight=0.1374801994200496, subsample=0.010566360787561015 \n",
      "[CV]  colsample_bylevel=0.4136760133888395, colsample_bytree=0.1995782991809466, gamma=0.29294527102867907, learning_rate=0.040794759430200354, max_delta_step=20, max_depth=19, min_child_weight=0, n_estimators=123, reg_alpha=1e-09, reg_lambda=0.0036858249671001056, scale_pos_weight=0.1374801994200496, subsample=0.010566360787561015, score=-0.081, total=   0.5s\n",
      "[CV] colsample_bylevel=0.4136760133888395, colsample_bytree=0.1995782991809466, gamma=0.29294527102867907, learning_rate=0.040794759430200354, max_delta_step=20, max_depth=19, min_child_weight=0, n_estimators=123, reg_alpha=1e-09, reg_lambda=0.0036858249671001056, scale_pos_weight=0.1374801994200496, subsample=0.010566360787561015 \n",
      "[CV]  colsample_bylevel=0.4136760133888395, colsample_bytree=0.1995782991809466, gamma=0.29294527102867907, learning_rate=0.040794759430200354, max_delta_step=20, max_depth=19, min_child_weight=0, n_estimators=123, reg_alpha=1e-09, reg_lambda=0.0036858249671001056, scale_pos_weight=0.1374801994200496, subsample=0.010566360787561015, score=-0.067, total=   0.5s\n",
      "[CV] colsample_bylevel=0.4136760133888395, colsample_bytree=0.1995782991809466, gamma=0.29294527102867907, learning_rate=0.040794759430200354, max_delta_step=20, max_depth=19, min_child_weight=0, n_estimators=123, reg_alpha=1e-09, reg_lambda=0.0036858249671001056, scale_pos_weight=0.1374801994200496, subsample=0.010566360787561015 \n",
      "[CV]  colsample_bylevel=0.4136760133888395, colsample_bytree=0.1995782991809466, gamma=0.29294527102867907, learning_rate=0.040794759430200354, max_delta_step=20, max_depth=19, min_child_weight=0, n_estimators=123, reg_alpha=1e-09, reg_lambda=0.0036858249671001056, scale_pos_weight=0.1374801994200496, subsample=0.010566360787561015, score=-0.048, total=   0.5s\n",
      "[CV] colsample_bylevel=1.0, colsample_bytree=0.01, gamma=5.36677588635253e-09, learning_rate=1.0, max_delta_step=2, max_depth=0, min_child_weight=4, n_estimators=50, reg_alpha=1.7250809956520362e-08, reg_lambda=1e-09, scale_pos_weight=0.021866280747669574, subsample=0.09516267504287992 \n",
      "[CV]  colsample_bylevel=1.0, colsample_bytree=0.01, gamma=5.36677588635253e-09, learning_rate=1.0, max_delta_step=2, max_depth=0, min_child_weight=4, n_estimators=50, reg_alpha=1.7250809956520362e-08, reg_lambda=1e-09, scale_pos_weight=0.021866280747669574, subsample=0.09516267504287992, score=-0.012, total=   0.2s\n",
      "[CV] colsample_bylevel=1.0, colsample_bytree=0.01, gamma=5.36677588635253e-09, learning_rate=1.0, max_delta_step=2, max_depth=0, min_child_weight=4, n_estimators=50, reg_alpha=1.7250809956520362e-08, reg_lambda=1e-09, scale_pos_weight=0.021866280747669574, subsample=0.09516267504287992 \n",
      "[CV]  colsample_bylevel=1.0, colsample_bytree=0.01, gamma=5.36677588635253e-09, learning_rate=1.0, max_delta_step=2, max_depth=0, min_child_weight=4, n_estimators=50, reg_alpha=1.7250809956520362e-08, reg_lambda=1e-09, scale_pos_weight=0.021866280747669574, subsample=0.09516267504287992, score=-0.000, total=   0.2s\n",
      "[CV] colsample_bylevel=1.0, colsample_bytree=0.01, gamma=5.36677588635253e-09, learning_rate=1.0, max_delta_step=2, max_depth=0, min_child_weight=4, n_estimators=50, reg_alpha=1.7250809956520362e-08, reg_lambda=1e-09, scale_pos_weight=0.021866280747669574, subsample=0.09516267504287992 \n",
      "[CV]  colsample_bylevel=1.0, colsample_bytree=0.01, gamma=5.36677588635253e-09, learning_rate=1.0, max_delta_step=2, max_depth=0, min_child_weight=4, n_estimators=50, reg_alpha=1.7250809956520362e-08, reg_lambda=1e-09, scale_pos_weight=0.021866280747669574, subsample=0.09516267504287992, score=-0.002, total=   0.2s\n",
      "[CV] colsample_bylevel=1.0, colsample_bytree=0.01, gamma=5.36677588635253e-09, learning_rate=1.0, max_delta_step=2, max_depth=0, min_child_weight=4, n_estimators=50, reg_alpha=1.7250809956520362e-08, reg_lambda=1e-09, scale_pos_weight=0.021866280747669574, subsample=0.09516267504287992 \n",
      "[CV]  colsample_bylevel=1.0, colsample_bytree=0.01, gamma=5.36677588635253e-09, learning_rate=1.0, max_delta_step=2, max_depth=0, min_child_weight=4, n_estimators=50, reg_alpha=1.7250809956520362e-08, reg_lambda=1e-09, scale_pos_weight=0.021866280747669574, subsample=0.09516267504287992, score=-0.007, total=   0.2s\n",
      "[CV] colsample_bylevel=1.0, colsample_bytree=0.01, gamma=5.36677588635253e-09, learning_rate=1.0, max_delta_step=2, max_depth=0, min_child_weight=4, n_estimators=50, reg_alpha=1.7250809956520362e-08, reg_lambda=1e-09, scale_pos_weight=0.021866280747669574, subsample=0.09516267504287992 \n",
      "[CV]  colsample_bylevel=1.0, colsample_bytree=0.01, gamma=5.36677588635253e-09, learning_rate=1.0, max_delta_step=2, max_depth=0, min_child_weight=4, n_estimators=50, reg_alpha=1.7250809956520362e-08, reg_lambda=1e-09, scale_pos_weight=0.021866280747669574, subsample=0.09516267504287992, score=-0.010, total=   0.2s\n",
      "[CV] colsample_bylevel=0.01, colsample_bytree=1.0, gamma=1.0154733241662217e-08, learning_rate=0.11496932057112658, max_delta_step=0, max_depth=0, min_child_weight=5, n_estimators=199, reg_alpha=1e-09, reg_lambda=1000.0, scale_pos_weight=0.08128677814302367, subsample=1.0 \n",
      "[CV]  colsample_bylevel=0.01, colsample_bytree=1.0, gamma=1.0154733241662217e-08, learning_rate=0.11496932057112658, max_delta_step=0, max_depth=0, min_child_weight=5, n_estimators=199, reg_alpha=1e-09, reg_lambda=1000.0, scale_pos_weight=0.08128677814302367, subsample=1.0, score=-0.004, total=   0.6s\n",
      "[CV] colsample_bylevel=0.01, colsample_bytree=1.0, gamma=1.0154733241662217e-08, learning_rate=0.11496932057112658, max_delta_step=0, max_depth=0, min_child_weight=5, n_estimators=199, reg_alpha=1e-09, reg_lambda=1000.0, scale_pos_weight=0.08128677814302367, subsample=1.0 \n",
      "[CV]  colsample_bylevel=0.01, colsample_bytree=1.0, gamma=1.0154733241662217e-08, learning_rate=0.11496932057112658, max_delta_step=0, max_depth=0, min_child_weight=5, n_estimators=199, reg_alpha=1e-09, reg_lambda=1000.0, scale_pos_weight=0.08128677814302367, subsample=1.0, score=-0.000, total=   0.6s\n",
      "[CV] colsample_bylevel=0.01, colsample_bytree=1.0, gamma=1.0154733241662217e-08, learning_rate=0.11496932057112658, max_delta_step=0, max_depth=0, min_child_weight=5, n_estimators=199, reg_alpha=1e-09, reg_lambda=1000.0, scale_pos_weight=0.08128677814302367, subsample=1.0 \n"
     ]
    },
    {
     "name": "stdout",
     "output_type": "stream",
     "text": [
      "[CV]  colsample_bylevel=0.01, colsample_bytree=1.0, gamma=1.0154733241662217e-08, learning_rate=0.11496932057112658, max_delta_step=0, max_depth=0, min_child_weight=5, n_estimators=199, reg_alpha=1e-09, reg_lambda=1000.0, scale_pos_weight=0.08128677814302367, subsample=1.0, score=-0.000, total=   0.6s\n",
      "[CV] colsample_bylevel=0.01, colsample_bytree=1.0, gamma=1.0154733241662217e-08, learning_rate=0.11496932057112658, max_delta_step=0, max_depth=0, min_child_weight=5, n_estimators=199, reg_alpha=1e-09, reg_lambda=1000.0, scale_pos_weight=0.08128677814302367, subsample=1.0 \n",
      "[CV]  colsample_bylevel=0.01, colsample_bytree=1.0, gamma=1.0154733241662217e-08, learning_rate=0.11496932057112658, max_delta_step=0, max_depth=0, min_child_weight=5, n_estimators=199, reg_alpha=1e-09, reg_lambda=1000.0, scale_pos_weight=0.08128677814302367, subsample=1.0, score=-0.012, total=   0.6s\n",
      "[CV] colsample_bylevel=0.01, colsample_bytree=1.0, gamma=1.0154733241662217e-08, learning_rate=0.11496932057112658, max_delta_step=0, max_depth=0, min_child_weight=5, n_estimators=199, reg_alpha=1e-09, reg_lambda=1000.0, scale_pos_weight=0.08128677814302367, subsample=1.0 \n",
      "[CV]  colsample_bylevel=0.01, colsample_bytree=1.0, gamma=1.0154733241662217e-08, learning_rate=0.11496932057112658, max_delta_step=0, max_depth=0, min_child_weight=5, n_estimators=199, reg_alpha=1e-09, reg_lambda=1000.0, scale_pos_weight=0.08128677814302367, subsample=1.0, score=-0.002, total=   0.6s\n",
      "[CV] colsample_bylevel=0.01, colsample_bytree=0.3997672161732929, gamma=2.2343385605647842e-05, learning_rate=0.09788205855197038, max_delta_step=0, max_depth=50, min_child_weight=0, n_estimators=200, reg_alpha=1e-09, reg_lambda=1e-09, scale_pos_weight=1.266580292580952, subsample=0.4186512220891012 \n",
      "[CV]  colsample_bylevel=0.01, colsample_bytree=0.3997672161732929, gamma=2.2343385605647842e-05, learning_rate=0.09788205855197038, max_delta_step=0, max_depth=50, min_child_weight=0, n_estimators=200, reg_alpha=1e-09, reg_lambda=1e-09, scale_pos_weight=1.266580292580952, subsample=0.4186512220891012, score=0.001, total=   1.4s\n",
      "[CV] colsample_bylevel=0.01, colsample_bytree=0.3997672161732929, gamma=2.2343385605647842e-05, learning_rate=0.09788205855197038, max_delta_step=0, max_depth=50, min_child_weight=0, n_estimators=200, reg_alpha=1e-09, reg_lambda=1e-09, scale_pos_weight=1.266580292580952, subsample=0.4186512220891012 \n",
      "[CV]  colsample_bylevel=0.01, colsample_bytree=0.3997672161732929, gamma=2.2343385605647842e-05, learning_rate=0.09788205855197038, max_delta_step=0, max_depth=50, min_child_weight=0, n_estimators=200, reg_alpha=1e-09, reg_lambda=1e-09, scale_pos_weight=1.266580292580952, subsample=0.4186512220891012, score=-0.088, total=   1.4s\n",
      "[CV] colsample_bylevel=0.01, colsample_bytree=0.3997672161732929, gamma=2.2343385605647842e-05, learning_rate=0.09788205855197038, max_delta_step=0, max_depth=50, min_child_weight=0, n_estimators=200, reg_alpha=1e-09, reg_lambda=1e-09, scale_pos_weight=1.266580292580952, subsample=0.4186512220891012 \n",
      "[CV]  colsample_bylevel=0.01, colsample_bytree=0.3997672161732929, gamma=2.2343385605647842e-05, learning_rate=0.09788205855197038, max_delta_step=0, max_depth=50, min_child_weight=0, n_estimators=200, reg_alpha=1e-09, reg_lambda=1e-09, scale_pos_weight=1.266580292580952, subsample=0.4186512220891012, score=-0.009, total=   1.5s\n",
      "[CV] colsample_bylevel=0.01, colsample_bytree=0.3997672161732929, gamma=2.2343385605647842e-05, learning_rate=0.09788205855197038, max_delta_step=0, max_depth=50, min_child_weight=0, n_estimators=200, reg_alpha=1e-09, reg_lambda=1e-09, scale_pos_weight=1.266580292580952, subsample=0.4186512220891012 \n",
      "[CV]  colsample_bylevel=0.01, colsample_bytree=0.3997672161732929, gamma=2.2343385605647842e-05, learning_rate=0.09788205855197038, max_delta_step=0, max_depth=50, min_child_weight=0, n_estimators=200, reg_alpha=1e-09, reg_lambda=1e-09, scale_pos_weight=1.266580292580952, subsample=0.4186512220891012, score=-0.081, total=   1.3s\n",
      "[CV] colsample_bylevel=0.01, colsample_bytree=0.3997672161732929, gamma=2.2343385605647842e-05, learning_rate=0.09788205855197038, max_delta_step=0, max_depth=50, min_child_weight=0, n_estimators=200, reg_alpha=1e-09, reg_lambda=1e-09, scale_pos_weight=1.266580292580952, subsample=0.4186512220891012 \n",
      "[CV]  colsample_bylevel=0.01, colsample_bytree=0.3997672161732929, gamma=2.2343385605647842e-05, learning_rate=0.09788205855197038, max_delta_step=0, max_depth=50, min_child_weight=0, n_estimators=200, reg_alpha=1e-09, reg_lambda=1e-09, scale_pos_weight=1.266580292580952, subsample=0.4186512220891012, score=0.001, total=   1.4s\n",
      "[CV] colsample_bylevel=0.32327635358152323, colsample_bytree=0.20281555874043355, gamma=0.011082903172960155, learning_rate=0.04743612009762787, max_delta_step=15, max_depth=17, min_child_weight=0, n_estimators=124, reg_alpha=1e-09, reg_lambda=0.006845237811919934, scale_pos_weight=132.1725305760123, subsample=0.10588097631548732 \n",
      "[CV]  colsample_bylevel=0.32327635358152323, colsample_bytree=0.20281555874043355, gamma=0.011082903172960155, learning_rate=0.04743612009762787, max_delta_step=15, max_depth=17, min_child_weight=0, n_estimators=124, reg_alpha=1e-09, reg_lambda=0.006845237811919934, scale_pos_weight=132.1725305760123, subsample=0.10588097631548732, score=-0.095, total=   0.9s\n",
      "[CV] colsample_bylevel=0.32327635358152323, colsample_bytree=0.20281555874043355, gamma=0.011082903172960155, learning_rate=0.04743612009762787, max_delta_step=15, max_depth=17, min_child_weight=0, n_estimators=124, reg_alpha=1e-09, reg_lambda=0.006845237811919934, scale_pos_weight=132.1725305760123, subsample=0.10588097631548732 \n",
      "[CV]  colsample_bylevel=0.32327635358152323, colsample_bytree=0.20281555874043355, gamma=0.011082903172960155, learning_rate=0.04743612009762787, max_delta_step=15, max_depth=17, min_child_weight=0, n_estimators=124, reg_alpha=1e-09, reg_lambda=0.006845237811919934, scale_pos_weight=132.1725305760123, subsample=0.10588097631548732, score=-0.106, total=   0.9s\n",
      "[CV] colsample_bylevel=0.32327635358152323, colsample_bytree=0.20281555874043355, gamma=0.011082903172960155, learning_rate=0.04743612009762787, max_delta_step=15, max_depth=17, min_child_weight=0, n_estimators=124, reg_alpha=1e-09, reg_lambda=0.006845237811919934, scale_pos_weight=132.1725305760123, subsample=0.10588097631548732 \n",
      "[CV]  colsample_bylevel=0.32327635358152323, colsample_bytree=0.20281555874043355, gamma=0.011082903172960155, learning_rate=0.04743612009762787, max_delta_step=15, max_depth=17, min_child_weight=0, n_estimators=124, reg_alpha=1e-09, reg_lambda=0.006845237811919934, scale_pos_weight=132.1725305760123, subsample=0.10588097631548732, score=-0.085, total=   0.9s\n",
      "[CV] colsample_bylevel=0.32327635358152323, colsample_bytree=0.20281555874043355, gamma=0.011082903172960155, learning_rate=0.04743612009762787, max_delta_step=15, max_depth=17, min_child_weight=0, n_estimators=124, reg_alpha=1e-09, reg_lambda=0.006845237811919934, scale_pos_weight=132.1725305760123, subsample=0.10588097631548732 \n",
      "[CV]  colsample_bylevel=0.32327635358152323, colsample_bytree=0.20281555874043355, gamma=0.011082903172960155, learning_rate=0.04743612009762787, max_delta_step=15, max_depth=17, min_child_weight=0, n_estimators=124, reg_alpha=1e-09, reg_lambda=0.006845237811919934, scale_pos_weight=132.1725305760123, subsample=0.10588097631548732, score=-0.053, total=   0.9s\n",
      "[CV] colsample_bylevel=0.32327635358152323, colsample_bytree=0.20281555874043355, gamma=0.011082903172960155, learning_rate=0.04743612009762787, max_delta_step=15, max_depth=17, min_child_weight=0, n_estimators=124, reg_alpha=1e-09, reg_lambda=0.006845237811919934, scale_pos_weight=132.1725305760123, subsample=0.10588097631548732 \n",
      "[CV]  colsample_bylevel=0.32327635358152323, colsample_bytree=0.20281555874043355, gamma=0.011082903172960155, learning_rate=0.04743612009762787, max_delta_step=15, max_depth=17, min_child_weight=0, n_estimators=124, reg_alpha=1e-09, reg_lambda=0.006845237811919934, scale_pos_weight=132.1725305760123, subsample=0.10588097631548732, score=-0.082, total=   0.9s\n",
      "[CV] colsample_bylevel=0.2623276939557458, colsample_bytree=0.028837857999257595, gamma=3.984033306100734e-06, learning_rate=0.09665766025018421, max_delta_step=14, max_depth=3, min_child_weight=0, n_estimators=72, reg_alpha=5.211370845500907e-08, reg_lambda=1000.0, scale_pos_weight=0.00014534982103942814, subsample=0.6078884219321011 \n"
     ]
    },
    {
     "name": "stdout",
     "output_type": "stream",
     "text": [
      "[CV]  colsample_bylevel=0.2623276939557458, colsample_bytree=0.028837857999257595, gamma=3.984033306100734e-06, learning_rate=0.09665766025018421, max_delta_step=14, max_depth=3, min_child_weight=0, n_estimators=72, reg_alpha=5.211370845500907e-08, reg_lambda=1000.0, scale_pos_weight=0.00014534982103942814, subsample=0.6078884219321011, score=-0.014, total=   0.3s\n",
      "[CV] colsample_bylevel=0.2623276939557458, colsample_bytree=0.028837857999257595, gamma=3.984033306100734e-06, learning_rate=0.09665766025018421, max_delta_step=14, max_depth=3, min_child_weight=0, n_estimators=72, reg_alpha=5.211370845500907e-08, reg_lambda=1000.0, scale_pos_weight=0.00014534982103942814, subsample=0.6078884219321011 \n",
      "[CV]  colsample_bylevel=0.2623276939557458, colsample_bytree=0.028837857999257595, gamma=3.984033306100734e-06, learning_rate=0.09665766025018421, max_delta_step=14, max_depth=3, min_child_weight=0, n_estimators=72, reg_alpha=5.211370845500907e-08, reg_lambda=1000.0, scale_pos_weight=0.00014534982103942814, subsample=0.6078884219321011, score=-0.008, total=   0.3s\n",
      "[CV] colsample_bylevel=0.2623276939557458, colsample_bytree=0.028837857999257595, gamma=3.984033306100734e-06, learning_rate=0.09665766025018421, max_delta_step=14, max_depth=3, min_child_weight=0, n_estimators=72, reg_alpha=5.211370845500907e-08, reg_lambda=1000.0, scale_pos_weight=0.00014534982103942814, subsample=0.6078884219321011 \n",
      "[CV]  colsample_bylevel=0.2623276939557458, colsample_bytree=0.028837857999257595, gamma=3.984033306100734e-06, learning_rate=0.09665766025018421, max_delta_step=14, max_depth=3, min_child_weight=0, n_estimators=72, reg_alpha=5.211370845500907e-08, reg_lambda=1000.0, scale_pos_weight=0.00014534982103942814, subsample=0.6078884219321011, score=0.005, total=   0.3s\n",
      "[CV] colsample_bylevel=0.2623276939557458, colsample_bytree=0.028837857999257595, gamma=3.984033306100734e-06, learning_rate=0.09665766025018421, max_delta_step=14, max_depth=3, min_child_weight=0, n_estimators=72, reg_alpha=5.211370845500907e-08, reg_lambda=1000.0, scale_pos_weight=0.00014534982103942814, subsample=0.6078884219321011 \n",
      "[CV]  colsample_bylevel=0.2623276939557458, colsample_bytree=0.028837857999257595, gamma=3.984033306100734e-06, learning_rate=0.09665766025018421, max_delta_step=14, max_depth=3, min_child_weight=0, n_estimators=72, reg_alpha=5.211370845500907e-08, reg_lambda=1000.0, scale_pos_weight=0.00014534982103942814, subsample=0.6078884219321011, score=0.010, total=   0.3s\n",
      "[CV] colsample_bylevel=0.2623276939557458, colsample_bytree=0.028837857999257595, gamma=3.984033306100734e-06, learning_rate=0.09665766025018421, max_delta_step=14, max_depth=3, min_child_weight=0, n_estimators=72, reg_alpha=5.211370845500907e-08, reg_lambda=1000.0, scale_pos_weight=0.00014534982103942814, subsample=0.6078884219321011 \n",
      "[CV]  colsample_bylevel=0.2623276939557458, colsample_bytree=0.028837857999257595, gamma=3.984033306100734e-06, learning_rate=0.09665766025018421, max_delta_step=14, max_depth=3, min_child_weight=0, n_estimators=72, reg_alpha=5.211370845500907e-08, reg_lambda=1000.0, scale_pos_weight=0.00014534982103942814, subsample=0.6078884219321011, score=0.017, total=   0.3s\n"
     ]
    },
    {
     "name": "stderr",
     "output_type": "stream",
     "text": [
      "[Parallel(n_jobs=1)]: Done  60 out of  60 | elapsed:  4.2min finished\n"
     ]
    },
    {
     "name": "stdout",
     "output_type": "stream",
     "text": [
      "best score: 0.03816985360773876\n",
      "Fitting 5 folds for each of 12 candidates, totalling 60 fits\n",
      "[CV] colsample_bylevel=0.19370871070018936, colsample_bytree=1.0, gamma=0.00010873216461087879, learning_rate=0.04831843127079818, max_delta_step=18, max_depth=19, min_child_weight=3, n_estimators=160, reg_alpha=8.730401032311007e-07, reg_lambda=4.824496688515205, scale_pos_weight=0.0007544982691902775, subsample=0.6421940324108979 \n"
     ]
    },
    {
     "name": "stderr",
     "output_type": "stream",
     "text": [
      "[Parallel(n_jobs=1)]: Using backend SequentialBackend with 1 concurrent workers.\n"
     ]
    },
    {
     "name": "stdout",
     "output_type": "stream",
     "text": [
      "[CV]  colsample_bylevel=0.19370871070018936, colsample_bytree=1.0, gamma=0.00010873216461087879, learning_rate=0.04831843127079818, max_delta_step=18, max_depth=19, min_child_weight=3, n_estimators=160, reg_alpha=8.730401032311007e-07, reg_lambda=4.824496688515205, scale_pos_weight=0.0007544982691902775, subsample=0.6421940324108979, score=0.021, total=   4.6s\n",
      "[CV] colsample_bylevel=0.19370871070018936, colsample_bytree=1.0, gamma=0.00010873216461087879, learning_rate=0.04831843127079818, max_delta_step=18, max_depth=19, min_child_weight=3, n_estimators=160, reg_alpha=8.730401032311007e-07, reg_lambda=4.824496688515205, scale_pos_weight=0.0007544982691902775, subsample=0.6421940324108979 \n"
     ]
    },
    {
     "name": "stderr",
     "output_type": "stream",
     "text": [
      "[Parallel(n_jobs=1)]: Done   1 out of   1 | elapsed:    4.6s remaining:    0.0s\n"
     ]
    },
    {
     "name": "stdout",
     "output_type": "stream",
     "text": [
      "[CV]  colsample_bylevel=0.19370871070018936, colsample_bytree=1.0, gamma=0.00010873216461087879, learning_rate=0.04831843127079818, max_delta_step=18, max_depth=19, min_child_weight=3, n_estimators=160, reg_alpha=8.730401032311007e-07, reg_lambda=4.824496688515205, scale_pos_weight=0.0007544982691902775, subsample=0.6421940324108979, score=-0.038, total=   4.7s\n",
      "[CV] colsample_bylevel=0.19370871070018936, colsample_bytree=1.0, gamma=0.00010873216461087879, learning_rate=0.04831843127079818, max_delta_step=18, max_depth=19, min_child_weight=3, n_estimators=160, reg_alpha=8.730401032311007e-07, reg_lambda=4.824496688515205, scale_pos_weight=0.0007544982691902775, subsample=0.6421940324108979 \n"
     ]
    },
    {
     "name": "stderr",
     "output_type": "stream",
     "text": [
      "[Parallel(n_jobs=1)]: Done   2 out of   2 | elapsed:    9.3s remaining:    0.0s\n"
     ]
    },
    {
     "name": "stdout",
     "output_type": "stream",
     "text": [
      "[CV]  colsample_bylevel=0.19370871070018936, colsample_bytree=1.0, gamma=0.00010873216461087879, learning_rate=0.04831843127079818, max_delta_step=18, max_depth=19, min_child_weight=3, n_estimators=160, reg_alpha=8.730401032311007e-07, reg_lambda=4.824496688515205, scale_pos_weight=0.0007544982691902775, subsample=0.6421940324108979, score=0.072, total=   4.7s\n",
      "[CV] colsample_bylevel=0.19370871070018936, colsample_bytree=1.0, gamma=0.00010873216461087879, learning_rate=0.04831843127079818, max_delta_step=18, max_depth=19, min_child_weight=3, n_estimators=160, reg_alpha=8.730401032311007e-07, reg_lambda=4.824496688515205, scale_pos_weight=0.0007544982691902775, subsample=0.6421940324108979 \n",
      "[CV]  colsample_bylevel=0.19370871070018936, colsample_bytree=1.0, gamma=0.00010873216461087879, learning_rate=0.04831843127079818, max_delta_step=18, max_depth=19, min_child_weight=3, n_estimators=160, reg_alpha=8.730401032311007e-07, reg_lambda=4.824496688515205, scale_pos_weight=0.0007544982691902775, subsample=0.6421940324108979, score=0.063, total=   4.9s\n",
      "[CV] colsample_bylevel=0.19370871070018936, colsample_bytree=1.0, gamma=0.00010873216461087879, learning_rate=0.04831843127079818, max_delta_step=18, max_depth=19, min_child_weight=3, n_estimators=160, reg_alpha=8.730401032311007e-07, reg_lambda=4.824496688515205, scale_pos_weight=0.0007544982691902775, subsample=0.6421940324108979 \n",
      "[CV]  colsample_bylevel=0.19370871070018936, colsample_bytree=1.0, gamma=0.00010873216461087879, learning_rate=0.04831843127079818, max_delta_step=18, max_depth=19, min_child_weight=3, n_estimators=160, reg_alpha=8.730401032311007e-07, reg_lambda=4.824496688515205, scale_pos_weight=0.0007544982691902775, subsample=0.6421940324108979, score=0.086, total=   5.9s\n",
      "[CV] colsample_bylevel=0.6444217421637581, colsample_bytree=1.0, gamma=3.387729526531274e-08, learning_rate=0.052101244123085665, max_delta_step=20, max_depth=18, min_child_weight=2, n_estimators=192, reg_alpha=8.878269592609937e-06, reg_lambda=0.014682528660265474, scale_pos_weight=3.0322359562394824e-06, subsample=1.0 \n",
      "[CV]  colsample_bylevel=0.6444217421637581, colsample_bytree=1.0, gamma=3.387729526531274e-08, learning_rate=0.052101244123085665, max_delta_step=20, max_depth=18, min_child_weight=2, n_estimators=192, reg_alpha=8.878269592609937e-06, reg_lambda=0.014682528660265474, scale_pos_weight=3.0322359562394824e-06, subsample=1.0, score=0.055, total=  21.7s\n",
      "[CV] colsample_bylevel=0.6444217421637581, colsample_bytree=1.0, gamma=3.387729526531274e-08, learning_rate=0.052101244123085665, max_delta_step=20, max_depth=18, min_child_weight=2, n_estimators=192, reg_alpha=8.878269592609937e-06, reg_lambda=0.014682528660265474, scale_pos_weight=3.0322359562394824e-06, subsample=1.0 \n",
      "[CV]  colsample_bylevel=0.6444217421637581, colsample_bytree=1.0, gamma=3.387729526531274e-08, learning_rate=0.052101244123085665, max_delta_step=20, max_depth=18, min_child_weight=2, n_estimators=192, reg_alpha=8.878269592609937e-06, reg_lambda=0.014682528660265474, scale_pos_weight=3.0322359562394824e-06, subsample=1.0, score=-0.034, total=  20.1s\n",
      "[CV] colsample_bylevel=0.6444217421637581, colsample_bytree=1.0, gamma=3.387729526531274e-08, learning_rate=0.052101244123085665, max_delta_step=20, max_depth=18, min_child_weight=2, n_estimators=192, reg_alpha=8.878269592609937e-06, reg_lambda=0.014682528660265474, scale_pos_weight=3.0322359562394824e-06, subsample=1.0 \n",
      "[CV]  colsample_bylevel=0.6444217421637581, colsample_bytree=1.0, gamma=3.387729526531274e-08, learning_rate=0.052101244123085665, max_delta_step=20, max_depth=18, min_child_weight=2, n_estimators=192, reg_alpha=8.878269592609937e-06, reg_lambda=0.014682528660265474, scale_pos_weight=3.0322359562394824e-06, subsample=1.0, score=0.073, total=  20.3s\n",
      "[CV] colsample_bylevel=0.6444217421637581, colsample_bytree=1.0, gamma=3.387729526531274e-08, learning_rate=0.052101244123085665, max_delta_step=20, max_depth=18, min_child_weight=2, n_estimators=192, reg_alpha=8.878269592609937e-06, reg_lambda=0.014682528660265474, scale_pos_weight=3.0322359562394824e-06, subsample=1.0 \n",
      "[CV]  colsample_bylevel=0.6444217421637581, colsample_bytree=1.0, gamma=3.387729526531274e-08, learning_rate=0.052101244123085665, max_delta_step=20, max_depth=18, min_child_weight=2, n_estimators=192, reg_alpha=8.878269592609937e-06, reg_lambda=0.014682528660265474, scale_pos_weight=3.0322359562394824e-06, subsample=1.0, score=0.000, total=  20.4s\n",
      "[CV] colsample_bylevel=0.6444217421637581, colsample_bytree=1.0, gamma=3.387729526531274e-08, learning_rate=0.052101244123085665, max_delta_step=20, max_depth=18, min_child_weight=2, n_estimators=192, reg_alpha=8.878269592609937e-06, reg_lambda=0.014682528660265474, scale_pos_weight=3.0322359562394824e-06, subsample=1.0 \n",
      "[CV]  colsample_bylevel=0.6444217421637581, colsample_bytree=1.0, gamma=3.387729526531274e-08, learning_rate=0.052101244123085665, max_delta_step=20, max_depth=18, min_child_weight=2, n_estimators=192, reg_alpha=8.878269592609937e-06, reg_lambda=0.014682528660265474, scale_pos_weight=3.0322359562394824e-06, subsample=1.0, score=0.039, total=  21.0s\n",
      "[CV] colsample_bylevel=0.03666061966098422, colsample_bytree=0.01, gamma=2.4770935048682203e-08, learning_rate=0.14365338369926042, max_delta_step=11, max_depth=50, min_child_weight=1, n_estimators=81, reg_alpha=2.3356550084776643e-07, reg_lambda=0.5363282722966903, scale_pos_weight=22.433482720004427, subsample=0.01 \n",
      "[CV]  colsample_bylevel=0.03666061966098422, colsample_bytree=0.01, gamma=2.4770935048682203e-08, learning_rate=0.14365338369926042, max_delta_step=11, max_depth=50, min_child_weight=1, n_estimators=81, reg_alpha=2.3356550084776643e-07, reg_lambda=0.5363282722966903, scale_pos_weight=22.433482720004427, subsample=0.01, score=-0.233, total=   0.4s\n",
      "[CV] colsample_bylevel=0.03666061966098422, colsample_bytree=0.01, gamma=2.4770935048682203e-08, learning_rate=0.14365338369926042, max_delta_step=11, max_depth=50, min_child_weight=1, n_estimators=81, reg_alpha=2.3356550084776643e-07, reg_lambda=0.5363282722966903, scale_pos_weight=22.433482720004427, subsample=0.01 \n",
      "[CV]  colsample_bylevel=0.03666061966098422, colsample_bytree=0.01, gamma=2.4770935048682203e-08, learning_rate=0.14365338369926042, max_delta_step=11, max_depth=50, min_child_weight=1, n_estimators=81, reg_alpha=2.3356550084776643e-07, reg_lambda=0.5363282722966903, scale_pos_weight=22.433482720004427, subsample=0.01, score=-0.193, total=   0.4s\n",
      "[CV] colsample_bylevel=0.03666061966098422, colsample_bytree=0.01, gamma=2.4770935048682203e-08, learning_rate=0.14365338369926042, max_delta_step=11, max_depth=50, min_child_weight=1, n_estimators=81, reg_alpha=2.3356550084776643e-07, reg_lambda=0.5363282722966903, scale_pos_weight=22.433482720004427, subsample=0.01 \n",
      "[CV]  colsample_bylevel=0.03666061966098422, colsample_bytree=0.01, gamma=2.4770935048682203e-08, learning_rate=0.14365338369926042, max_delta_step=11, max_depth=50, min_child_weight=1, n_estimators=81, reg_alpha=2.3356550084776643e-07, reg_lambda=0.5363282722966903, scale_pos_weight=22.433482720004427, subsample=0.01, score=-0.139, total=   0.4s\n",
      "[CV] colsample_bylevel=0.03666061966098422, colsample_bytree=0.01, gamma=2.4770935048682203e-08, learning_rate=0.14365338369926042, max_delta_step=11, max_depth=50, min_child_weight=1, n_estimators=81, reg_alpha=2.3356550084776643e-07, reg_lambda=0.5363282722966903, scale_pos_weight=22.433482720004427, subsample=0.01 \n",
      "[CV]  colsample_bylevel=0.03666061966098422, colsample_bytree=0.01, gamma=2.4770935048682203e-08, learning_rate=0.14365338369926042, max_delta_step=11, max_depth=50, min_child_weight=1, n_estimators=81, reg_alpha=2.3356550084776643e-07, reg_lambda=0.5363282722966903, scale_pos_weight=22.433482720004427, subsample=0.01, score=-0.122, total=   0.3s\n",
      "[CV] colsample_bylevel=0.03666061966098422, colsample_bytree=0.01, gamma=2.4770935048682203e-08, learning_rate=0.14365338369926042, max_delta_step=11, max_depth=50, min_child_weight=1, n_estimators=81, reg_alpha=2.3356550084776643e-07, reg_lambda=0.5363282722966903, scale_pos_weight=22.433482720004427, subsample=0.01 \n",
      "[CV]  colsample_bylevel=0.03666061966098422, colsample_bytree=0.01, gamma=2.4770935048682203e-08, learning_rate=0.14365338369926042, max_delta_step=11, max_depth=50, min_child_weight=1, n_estimators=81, reg_alpha=2.3356550084776643e-07, reg_lambda=0.5363282722966903, scale_pos_weight=22.433482720004427, subsample=0.01, score=-0.085, total=   0.4s\n",
      "[CV] colsample_bylevel=0.82916996965449, colsample_bytree=1.0, gamma=1.104836019777642e-09, learning_rate=0.15608865589085494, max_delta_step=20, max_depth=50, min_child_weight=3, n_estimators=50, reg_alpha=5.008930278002728e-06, reg_lambda=1e-09, scale_pos_weight=0.22678945637249365, subsample=0.9132269631545189 \n"
     ]
    },
    {
     "name": "stdout",
     "output_type": "stream",
     "text": [
      "[CV]  colsample_bylevel=0.82916996965449, colsample_bytree=1.0, gamma=1.104836019777642e-09, learning_rate=0.15608865589085494, max_delta_step=20, max_depth=50, min_child_weight=3, n_estimators=50, reg_alpha=5.008930278002728e-06, reg_lambda=1e-09, scale_pos_weight=0.22678945637249365, subsample=0.9132269631545189, score=-0.034, total=  15.6s\n",
      "[CV] colsample_bylevel=0.82916996965449, colsample_bytree=1.0, gamma=1.104836019777642e-09, learning_rate=0.15608865589085494, max_delta_step=20, max_depth=50, min_child_weight=3, n_estimators=50, reg_alpha=5.008930278002728e-06, reg_lambda=1e-09, scale_pos_weight=0.22678945637249365, subsample=0.9132269631545189 \n",
      "[CV]  colsample_bylevel=0.82916996965449, colsample_bytree=1.0, gamma=1.104836019777642e-09, learning_rate=0.15608865589085494, max_delta_step=20, max_depth=50, min_child_weight=3, n_estimators=50, reg_alpha=5.008930278002728e-06, reg_lambda=1e-09, scale_pos_weight=0.22678945637249365, subsample=0.9132269631545189, score=-0.088, total=  16.3s\n",
      "[CV] colsample_bylevel=0.82916996965449, colsample_bytree=1.0, gamma=1.104836019777642e-09, learning_rate=0.15608865589085494, max_delta_step=20, max_depth=50, min_child_weight=3, n_estimators=50, reg_alpha=5.008930278002728e-06, reg_lambda=1e-09, scale_pos_weight=0.22678945637249365, subsample=0.9132269631545189 \n",
      "[CV]  colsample_bylevel=0.82916996965449, colsample_bytree=1.0, gamma=1.104836019777642e-09, learning_rate=0.15608865589085494, max_delta_step=20, max_depth=50, min_child_weight=3, n_estimators=50, reg_alpha=5.008930278002728e-06, reg_lambda=1e-09, scale_pos_weight=0.22678945637249365, subsample=0.9132269631545189, score=0.042, total=  16.0s\n",
      "[CV] colsample_bylevel=0.82916996965449, colsample_bytree=1.0, gamma=1.104836019777642e-09, learning_rate=0.15608865589085494, max_delta_step=20, max_depth=50, min_child_weight=3, n_estimators=50, reg_alpha=5.008930278002728e-06, reg_lambda=1e-09, scale_pos_weight=0.22678945637249365, subsample=0.9132269631545189 \n",
      "[CV]  colsample_bylevel=0.82916996965449, colsample_bytree=1.0, gamma=1.104836019777642e-09, learning_rate=0.15608865589085494, max_delta_step=20, max_depth=50, min_child_weight=3, n_estimators=50, reg_alpha=5.008930278002728e-06, reg_lambda=1e-09, scale_pos_weight=0.22678945637249365, subsample=0.9132269631545189, score=-0.046, total=  16.2s\n",
      "[CV] colsample_bylevel=0.82916996965449, colsample_bytree=1.0, gamma=1.104836019777642e-09, learning_rate=0.15608865589085494, max_delta_step=20, max_depth=50, min_child_weight=3, n_estimators=50, reg_alpha=5.008930278002728e-06, reg_lambda=1e-09, scale_pos_weight=0.22678945637249365, subsample=0.9132269631545189 \n",
      "[CV]  colsample_bylevel=0.82916996965449, colsample_bytree=1.0, gamma=1.104836019777642e-09, learning_rate=0.15608865589085494, max_delta_step=20, max_depth=50, min_child_weight=3, n_estimators=50, reg_alpha=5.008930278002728e-06, reg_lambda=1e-09, scale_pos_weight=0.22678945637249365, subsample=0.9132269631545189, score=0.029, total=  16.1s\n",
      "[CV] colsample_bylevel=0.3878525602276434, colsample_bytree=0.19127478154921337, gamma=9.37737771815576e-09, learning_rate=0.13347331891482528, max_delta_step=13, max_depth=50, min_child_weight=2, n_estimators=111, reg_alpha=9.378744227288776e-05, reg_lambda=1e-09, scale_pos_weight=499.99999999999994, subsample=0.562302896313071 \n",
      "[CV]  colsample_bylevel=0.3878525602276434, colsample_bytree=0.19127478154921337, gamma=9.37737771815576e-09, learning_rate=0.13347331891482528, max_delta_step=13, max_depth=50, min_child_weight=2, n_estimators=111, reg_alpha=9.378744227288776e-05, reg_lambda=1e-09, scale_pos_weight=499.99999999999994, subsample=0.562302896313071, score=0.002, total=   2.6s\n",
      "[CV] colsample_bylevel=0.3878525602276434, colsample_bytree=0.19127478154921337, gamma=9.37737771815576e-09, learning_rate=0.13347331891482528, max_delta_step=13, max_depth=50, min_child_weight=2, n_estimators=111, reg_alpha=9.378744227288776e-05, reg_lambda=1e-09, scale_pos_weight=499.99999999999994, subsample=0.562302896313071 \n",
      "[CV]  colsample_bylevel=0.3878525602276434, colsample_bytree=0.19127478154921337, gamma=9.37737771815576e-09, learning_rate=0.13347331891482528, max_delta_step=13, max_depth=50, min_child_weight=2, n_estimators=111, reg_alpha=9.378744227288776e-05, reg_lambda=1e-09, scale_pos_weight=499.99999999999994, subsample=0.562302896313071, score=-0.038, total=   2.4s\n",
      "[CV] colsample_bylevel=0.3878525602276434, colsample_bytree=0.19127478154921337, gamma=9.37737771815576e-09, learning_rate=0.13347331891482528, max_delta_step=13, max_depth=50, min_child_weight=2, n_estimators=111, reg_alpha=9.378744227288776e-05, reg_lambda=1e-09, scale_pos_weight=499.99999999999994, subsample=0.562302896313071 \n",
      "[CV]  colsample_bylevel=0.3878525602276434, colsample_bytree=0.19127478154921337, gamma=9.37737771815576e-09, learning_rate=0.13347331891482528, max_delta_step=13, max_depth=50, min_child_weight=2, n_estimators=111, reg_alpha=9.378744227288776e-05, reg_lambda=1e-09, scale_pos_weight=499.99999999999994, subsample=0.562302896313071, score=0.027, total=   2.5s\n",
      "[CV] colsample_bylevel=0.3878525602276434, colsample_bytree=0.19127478154921337, gamma=9.37737771815576e-09, learning_rate=0.13347331891482528, max_delta_step=13, max_depth=50, min_child_weight=2, n_estimators=111, reg_alpha=9.378744227288776e-05, reg_lambda=1e-09, scale_pos_weight=499.99999999999994, subsample=0.562302896313071 \n",
      "[CV]  colsample_bylevel=0.3878525602276434, colsample_bytree=0.19127478154921337, gamma=9.37737771815576e-09, learning_rate=0.13347331891482528, max_delta_step=13, max_depth=50, min_child_weight=2, n_estimators=111, reg_alpha=9.378744227288776e-05, reg_lambda=1e-09, scale_pos_weight=499.99999999999994, subsample=0.562302896313071, score=-0.007, total=   2.6s\n",
      "[CV] colsample_bylevel=0.3878525602276434, colsample_bytree=0.19127478154921337, gamma=9.37737771815576e-09, learning_rate=0.13347331891482528, max_delta_step=13, max_depth=50, min_child_weight=2, n_estimators=111, reg_alpha=9.378744227288776e-05, reg_lambda=1e-09, scale_pos_weight=499.99999999999994, subsample=0.562302896313071 \n",
      "[CV]  colsample_bylevel=0.3878525602276434, colsample_bytree=0.19127478154921337, gamma=9.37737771815576e-09, learning_rate=0.13347331891482528, max_delta_step=13, max_depth=50, min_child_weight=2, n_estimators=111, reg_alpha=9.378744227288776e-05, reg_lambda=1e-09, scale_pos_weight=499.99999999999994, subsample=0.562302896313071, score=0.017, total=   2.9s\n",
      "[CV] colsample_bylevel=0.21909165044032092, colsample_bytree=0.01, gamma=1.1308522747107362e-09, learning_rate=0.05667063953140767, max_delta_step=20, max_depth=50, min_child_weight=4, n_estimators=50, reg_alpha=0.006004806598424553, reg_lambda=1.0935356901881994e-06, scale_pos_weight=462.619952617919, subsample=0.7298489149879892 \n",
      "[CV]  colsample_bylevel=0.21909165044032092, colsample_bytree=0.01, gamma=1.1308522747107362e-09, learning_rate=0.05667063953140767, max_delta_step=20, max_depth=50, min_child_weight=4, n_estimators=50, reg_alpha=0.006004806598424553, reg_lambda=1.0935356901881994e-06, scale_pos_weight=462.619952617919, subsample=0.7298489149879892, score=-0.060, total=   0.3s\n",
      "[CV] colsample_bylevel=0.21909165044032092, colsample_bytree=0.01, gamma=1.1308522747107362e-09, learning_rate=0.05667063953140767, max_delta_step=20, max_depth=50, min_child_weight=4, n_estimators=50, reg_alpha=0.006004806598424553, reg_lambda=1.0935356901881994e-06, scale_pos_weight=462.619952617919, subsample=0.7298489149879892 \n",
      "[CV]  colsample_bylevel=0.21909165044032092, colsample_bytree=0.01, gamma=1.1308522747107362e-09, learning_rate=0.05667063953140767, max_delta_step=20, max_depth=50, min_child_weight=4, n_estimators=50, reg_alpha=0.006004806598424553, reg_lambda=1.0935356901881994e-06, scale_pos_weight=462.619952617919, subsample=0.7298489149879892, score=-0.033, total=   0.4s\n",
      "[CV] colsample_bylevel=0.21909165044032092, colsample_bytree=0.01, gamma=1.1308522747107362e-09, learning_rate=0.05667063953140767, max_delta_step=20, max_depth=50, min_child_weight=4, n_estimators=50, reg_alpha=0.006004806598424553, reg_lambda=1.0935356901881994e-06, scale_pos_weight=462.619952617919, subsample=0.7298489149879892 \n",
      "[CV]  colsample_bylevel=0.21909165044032092, colsample_bytree=0.01, gamma=1.1308522747107362e-09, learning_rate=0.05667063953140767, max_delta_step=20, max_depth=50, min_child_weight=4, n_estimators=50, reg_alpha=0.006004806598424553, reg_lambda=1.0935356901881994e-06, scale_pos_weight=462.619952617919, subsample=0.7298489149879892, score=-0.039, total=   0.3s\n",
      "[CV] colsample_bylevel=0.21909165044032092, colsample_bytree=0.01, gamma=1.1308522747107362e-09, learning_rate=0.05667063953140767, max_delta_step=20, max_depth=50, min_child_weight=4, n_estimators=50, reg_alpha=0.006004806598424553, reg_lambda=1.0935356901881994e-06, scale_pos_weight=462.619952617919, subsample=0.7298489149879892 \n"
     ]
    },
    {
     "name": "stdout",
     "output_type": "stream",
     "text": [
      "[CV]  colsample_bylevel=0.21909165044032092, colsample_bytree=0.01, gamma=1.1308522747107362e-09, learning_rate=0.05667063953140767, max_delta_step=20, max_depth=50, min_child_weight=4, n_estimators=50, reg_alpha=0.006004806598424553, reg_lambda=1.0935356901881994e-06, scale_pos_weight=462.619952617919, subsample=0.7298489149879892, score=-0.019, total=   0.4s\n",
      "[CV] colsample_bylevel=0.21909165044032092, colsample_bytree=0.01, gamma=1.1308522747107362e-09, learning_rate=0.05667063953140767, max_delta_step=20, max_depth=50, min_child_weight=4, n_estimators=50, reg_alpha=0.006004806598424553, reg_lambda=1.0935356901881994e-06, scale_pos_weight=462.619952617919, subsample=0.7298489149879892 \n",
      "[CV]  colsample_bylevel=0.21909165044032092, colsample_bytree=0.01, gamma=1.1308522747107362e-09, learning_rate=0.05667063953140767, max_delta_step=20, max_depth=50, min_child_weight=4, n_estimators=50, reg_alpha=0.006004806598424553, reg_lambda=1.0935356901881994e-06, scale_pos_weight=462.619952617919, subsample=0.7298489149879892, score=-0.001, total=   0.3s\n",
      "[CV] colsample_bylevel=0.5582240697075325, colsample_bytree=1.0, gamma=0.000613940792741491, learning_rate=0.050588708046333954, max_delta_step=18, max_depth=19, min_child_weight=2, n_estimators=198, reg_alpha=1.1391831171301241e-07, reg_lambda=0.00027459142087891904, scale_pos_weight=2.0840301594517152e-05, subsample=0.6457980337053144 \n",
      "[CV]  colsample_bylevel=0.5582240697075325, colsample_bytree=1.0, gamma=0.000613940792741491, learning_rate=0.050588708046333954, max_delta_step=18, max_depth=19, min_child_weight=2, n_estimators=198, reg_alpha=1.1391831171301241e-07, reg_lambda=0.00027459142087891904, scale_pos_weight=2.0840301594517152e-05, subsample=0.6457980337053144, score=-0.016, total=  17.9s\n",
      "[CV] colsample_bylevel=0.5582240697075325, colsample_bytree=1.0, gamma=0.000613940792741491, learning_rate=0.050588708046333954, max_delta_step=18, max_depth=19, min_child_weight=2, n_estimators=198, reg_alpha=1.1391831171301241e-07, reg_lambda=0.00027459142087891904, scale_pos_weight=2.0840301594517152e-05, subsample=0.6457980337053144 \n",
      "[CV]  colsample_bylevel=0.5582240697075325, colsample_bytree=1.0, gamma=0.000613940792741491, learning_rate=0.050588708046333954, max_delta_step=18, max_depth=19, min_child_weight=2, n_estimators=198, reg_alpha=1.1391831171301241e-07, reg_lambda=0.00027459142087891904, scale_pos_weight=2.0840301594517152e-05, subsample=0.6457980337053144, score=-0.065, total=  18.5s\n",
      "[CV] colsample_bylevel=0.5582240697075325, colsample_bytree=1.0, gamma=0.000613940792741491, learning_rate=0.050588708046333954, max_delta_step=18, max_depth=19, min_child_weight=2, n_estimators=198, reg_alpha=1.1391831171301241e-07, reg_lambda=0.00027459142087891904, scale_pos_weight=2.0840301594517152e-05, subsample=0.6457980337053144 \n",
      "[CV]  colsample_bylevel=0.5582240697075325, colsample_bytree=1.0, gamma=0.000613940792741491, learning_rate=0.050588708046333954, max_delta_step=18, max_depth=19, min_child_weight=2, n_estimators=198, reg_alpha=1.1391831171301241e-07, reg_lambda=0.00027459142087891904, scale_pos_weight=2.0840301594517152e-05, subsample=0.6457980337053144, score=0.076, total=  19.4s\n",
      "[CV] colsample_bylevel=0.5582240697075325, colsample_bytree=1.0, gamma=0.000613940792741491, learning_rate=0.050588708046333954, max_delta_step=18, max_depth=19, min_child_weight=2, n_estimators=198, reg_alpha=1.1391831171301241e-07, reg_lambda=0.00027459142087891904, scale_pos_weight=2.0840301594517152e-05, subsample=0.6457980337053144 \n",
      "[CV]  colsample_bylevel=0.5582240697075325, colsample_bytree=1.0, gamma=0.000613940792741491, learning_rate=0.050588708046333954, max_delta_step=18, max_depth=19, min_child_weight=2, n_estimators=198, reg_alpha=1.1391831171301241e-07, reg_lambda=0.00027459142087891904, scale_pos_weight=2.0840301594517152e-05, subsample=0.6457980337053144, score=0.025, total=  17.3s\n",
      "[CV] colsample_bylevel=0.5582240697075325, colsample_bytree=1.0, gamma=0.000613940792741491, learning_rate=0.050588708046333954, max_delta_step=18, max_depth=19, min_child_weight=2, n_estimators=198, reg_alpha=1.1391831171301241e-07, reg_lambda=0.00027459142087891904, scale_pos_weight=2.0840301594517152e-05, subsample=0.6457980337053144 \n",
      "[CV]  colsample_bylevel=0.5582240697075325, colsample_bytree=1.0, gamma=0.000613940792741491, learning_rate=0.050588708046333954, max_delta_step=18, max_depth=19, min_child_weight=2, n_estimators=198, reg_alpha=1.1391831171301241e-07, reg_lambda=0.00027459142087891904, scale_pos_weight=2.0840301594517152e-05, subsample=0.6457980337053144, score=0.086, total=  17.6s\n",
      "[CV] colsample_bylevel=0.12259347583797917, colsample_bytree=1.0, gamma=0.49999999999999994, learning_rate=0.07857099436792256, max_delta_step=20, max_depth=0, min_child_weight=3, n_estimators=149, reg_alpha=1e-09, reg_lambda=1e-09, scale_pos_weight=499.99999999999994, subsample=0.5258606471886655 \n",
      "[CV]  colsample_bylevel=0.12259347583797917, colsample_bytree=1.0, gamma=0.49999999999999994, learning_rate=0.07857099436792256, max_delta_step=20, max_depth=0, min_child_weight=3, n_estimators=149, reg_alpha=1e-09, reg_lambda=1e-09, scale_pos_weight=499.99999999999994, subsample=0.5258606471886655, score=-1.385, total=   0.5s\n",
      "[CV] colsample_bylevel=0.12259347583797917, colsample_bytree=1.0, gamma=0.49999999999999994, learning_rate=0.07857099436792256, max_delta_step=20, max_depth=0, min_child_weight=3, n_estimators=149, reg_alpha=1e-09, reg_lambda=1e-09, scale_pos_weight=499.99999999999994, subsample=0.5258606471886655 \n",
      "[CV]  colsample_bylevel=0.12259347583797917, colsample_bytree=1.0, gamma=0.49999999999999994, learning_rate=0.07857099436792256, max_delta_step=20, max_depth=0, min_child_weight=3, n_estimators=149, reg_alpha=1e-09, reg_lambda=1e-09, scale_pos_weight=499.99999999999994, subsample=0.5258606471886655, score=-1.237, total=   0.5s\n",
      "[CV] colsample_bylevel=0.12259347583797917, colsample_bytree=1.0, gamma=0.49999999999999994, learning_rate=0.07857099436792256, max_delta_step=20, max_depth=0, min_child_weight=3, n_estimators=149, reg_alpha=1e-09, reg_lambda=1e-09, scale_pos_weight=499.99999999999994, subsample=0.5258606471886655 \n",
      "[CV]  colsample_bylevel=0.12259347583797917, colsample_bytree=1.0, gamma=0.49999999999999994, learning_rate=0.07857099436792256, max_delta_step=20, max_depth=0, min_child_weight=3, n_estimators=149, reg_alpha=1e-09, reg_lambda=1e-09, scale_pos_weight=499.99999999999994, subsample=0.5258606471886655, score=-1.184, total=   0.5s\n",
      "[CV] colsample_bylevel=0.12259347583797917, colsample_bytree=1.0, gamma=0.49999999999999994, learning_rate=0.07857099436792256, max_delta_step=20, max_depth=0, min_child_weight=3, n_estimators=149, reg_alpha=1e-09, reg_lambda=1e-09, scale_pos_weight=499.99999999999994, subsample=0.5258606471886655 \n",
      "[CV]  colsample_bylevel=0.12259347583797917, colsample_bytree=1.0, gamma=0.49999999999999994, learning_rate=0.07857099436792256, max_delta_step=20, max_depth=0, min_child_weight=3, n_estimators=149, reg_alpha=1e-09, reg_lambda=1e-09, scale_pos_weight=499.99999999999994, subsample=0.5258606471886655, score=-1.068, total=   0.5s\n",
      "[CV] colsample_bylevel=0.12259347583797917, colsample_bytree=1.0, gamma=0.49999999999999994, learning_rate=0.07857099436792256, max_delta_step=20, max_depth=0, min_child_weight=3, n_estimators=149, reg_alpha=1e-09, reg_lambda=1e-09, scale_pos_weight=499.99999999999994, subsample=0.5258606471886655 \n",
      "[CV]  colsample_bylevel=0.12259347583797917, colsample_bytree=1.0, gamma=0.49999999999999994, learning_rate=0.07857099436792256, max_delta_step=20, max_depth=0, min_child_weight=3, n_estimators=149, reg_alpha=1e-09, reg_lambda=1e-09, scale_pos_weight=499.99999999999994, subsample=0.5258606471886655, score=-1.360, total=   0.6s\n",
      "[CV] colsample_bylevel=1.0, colsample_bytree=0.18459813487016868, gamma=1e-09, learning_rate=0.9023250831633199, max_delta_step=0, max_depth=4, min_child_weight=4, n_estimators=53, reg_alpha=1.8351809839491515e-08, reg_lambda=7.111854201233347e-08, scale_pos_weight=0.006025279082279948, subsample=0.18268112954337615 \n",
      "[CV]  colsample_bylevel=1.0, colsample_bytree=0.18459813487016868, gamma=1e-09, learning_rate=0.9023250831633199, max_delta_step=0, max_depth=4, min_child_weight=4, n_estimators=53, reg_alpha=1.8351809839491515e-08, reg_lambda=7.111854201233347e-08, scale_pos_weight=0.006025279082279948, subsample=0.18268112954337615, score=-9887.987, total=   0.4s\n",
      "[CV] colsample_bylevel=1.0, colsample_bytree=0.18459813487016868, gamma=1e-09, learning_rate=0.9023250831633199, max_delta_step=0, max_depth=4, min_child_weight=4, n_estimators=53, reg_alpha=1.8351809839491515e-08, reg_lambda=7.111854201233347e-08, scale_pos_weight=0.006025279082279948, subsample=0.18268112954337615 \n"
     ]
    },
    {
     "name": "stdout",
     "output_type": "stream",
     "text": [
      "[CV]  colsample_bylevel=1.0, colsample_bytree=0.18459813487016868, gamma=1e-09, learning_rate=0.9023250831633199, max_delta_step=0, max_depth=4, min_child_weight=4, n_estimators=53, reg_alpha=1.8351809839491515e-08, reg_lambda=7.111854201233347e-08, scale_pos_weight=0.006025279082279948, subsample=0.18268112954337615, score=-4462.393, total=   0.4s\n",
      "[CV] colsample_bylevel=1.0, colsample_bytree=0.18459813487016868, gamma=1e-09, learning_rate=0.9023250831633199, max_delta_step=0, max_depth=4, min_child_weight=4, n_estimators=53, reg_alpha=1.8351809839491515e-08, reg_lambda=7.111854201233347e-08, scale_pos_weight=0.006025279082279948, subsample=0.18268112954337615 \n",
      "[CV]  colsample_bylevel=1.0, colsample_bytree=0.18459813487016868, gamma=1e-09, learning_rate=0.9023250831633199, max_delta_step=0, max_depth=4, min_child_weight=4, n_estimators=53, reg_alpha=1.8351809839491515e-08, reg_lambda=7.111854201233347e-08, scale_pos_weight=0.006025279082279948, subsample=0.18268112954337615, score=-6919.565, total=   0.4s\n",
      "[CV] colsample_bylevel=1.0, colsample_bytree=0.18459813487016868, gamma=1e-09, learning_rate=0.9023250831633199, max_delta_step=0, max_depth=4, min_child_weight=4, n_estimators=53, reg_alpha=1.8351809839491515e-08, reg_lambda=7.111854201233347e-08, scale_pos_weight=0.006025279082279948, subsample=0.18268112954337615 \n",
      "[CV]  colsample_bylevel=1.0, colsample_bytree=0.18459813487016868, gamma=1e-09, learning_rate=0.9023250831633199, max_delta_step=0, max_depth=4, min_child_weight=4, n_estimators=53, reg_alpha=1.8351809839491515e-08, reg_lambda=7.111854201233347e-08, scale_pos_weight=0.006025279082279948, subsample=0.18268112954337615, score=-10762.905, total=   0.4s\n",
      "[CV] colsample_bylevel=1.0, colsample_bytree=0.18459813487016868, gamma=1e-09, learning_rate=0.9023250831633199, max_delta_step=0, max_depth=4, min_child_weight=4, n_estimators=53, reg_alpha=1.8351809839491515e-08, reg_lambda=7.111854201233347e-08, scale_pos_weight=0.006025279082279948, subsample=0.18268112954337615 \n",
      "[CV]  colsample_bylevel=1.0, colsample_bytree=0.18459813487016868, gamma=1e-09, learning_rate=0.9023250831633199, max_delta_step=0, max_depth=4, min_child_weight=4, n_estimators=53, reg_alpha=1.8351809839491515e-08, reg_lambda=7.111854201233347e-08, scale_pos_weight=0.006025279082279948, subsample=0.18268112954337615, score=-4277.180, total=   0.4s\n",
      "[CV] colsample_bylevel=0.9119509554949372, colsample_bytree=1.0, gamma=3.8360939198033756e-07, learning_rate=0.05650863510514484, max_delta_step=20, max_depth=47, min_child_weight=0, n_estimators=101, reg_alpha=0.009158184989390222, reg_lambda=1000.0, scale_pos_weight=1e-06, subsample=1.0 \n",
      "[CV]  colsample_bylevel=0.9119509554949372, colsample_bytree=1.0, gamma=3.8360939198033756e-07, learning_rate=0.05650863510514484, max_delta_step=20, max_depth=47, min_child_weight=0, n_estimators=101, reg_alpha=0.009158184989390222, reg_lambda=1000.0, scale_pos_weight=1e-06, subsample=1.0, score=-0.042, total=  29.2s\n",
      "[CV] colsample_bylevel=0.9119509554949372, colsample_bytree=1.0, gamma=3.8360939198033756e-07, learning_rate=0.05650863510514484, max_delta_step=20, max_depth=47, min_child_weight=0, n_estimators=101, reg_alpha=0.009158184989390222, reg_lambda=1000.0, scale_pos_weight=1e-06, subsample=1.0 \n",
      "[CV]  colsample_bylevel=0.9119509554949372, colsample_bytree=1.0, gamma=3.8360939198033756e-07, learning_rate=0.05650863510514484, max_delta_step=20, max_depth=47, min_child_weight=0, n_estimators=101, reg_alpha=0.009158184989390222, reg_lambda=1000.0, scale_pos_weight=1e-06, subsample=1.0, score=-0.067, total=  28.8s\n",
      "[CV] colsample_bylevel=0.9119509554949372, colsample_bytree=1.0, gamma=3.8360939198033756e-07, learning_rate=0.05650863510514484, max_delta_step=20, max_depth=47, min_child_weight=0, n_estimators=101, reg_alpha=0.009158184989390222, reg_lambda=1000.0, scale_pos_weight=1e-06, subsample=1.0 \n",
      "[CV]  colsample_bylevel=0.9119509554949372, colsample_bytree=1.0, gamma=3.8360939198033756e-07, learning_rate=0.05650863510514484, max_delta_step=20, max_depth=47, min_child_weight=0, n_estimators=101, reg_alpha=0.009158184989390222, reg_lambda=1000.0, scale_pos_weight=1e-06, subsample=1.0, score=-0.064, total=  28.4s\n",
      "[CV] colsample_bylevel=0.9119509554949372, colsample_bytree=1.0, gamma=3.8360939198033756e-07, learning_rate=0.05650863510514484, max_delta_step=20, max_depth=47, min_child_weight=0, n_estimators=101, reg_alpha=0.009158184989390222, reg_lambda=1000.0, scale_pos_weight=1e-06, subsample=1.0 \n",
      "[CV]  colsample_bylevel=0.9119509554949372, colsample_bytree=1.0, gamma=3.8360939198033756e-07, learning_rate=0.05650863510514484, max_delta_step=20, max_depth=47, min_child_weight=0, n_estimators=101, reg_alpha=0.009158184989390222, reg_lambda=1000.0, scale_pos_weight=1e-06, subsample=1.0, score=0.006, total=  28.8s\n",
      "[CV] colsample_bylevel=0.9119509554949372, colsample_bytree=1.0, gamma=3.8360939198033756e-07, learning_rate=0.05650863510514484, max_delta_step=20, max_depth=47, min_child_weight=0, n_estimators=101, reg_alpha=0.009158184989390222, reg_lambda=1000.0, scale_pos_weight=1e-06, subsample=1.0 \n",
      "[CV]  colsample_bylevel=0.9119509554949372, colsample_bytree=1.0, gamma=3.8360939198033756e-07, learning_rate=0.05650863510514484, max_delta_step=20, max_depth=47, min_child_weight=0, n_estimators=101, reg_alpha=0.009158184989390222, reg_lambda=1000.0, scale_pos_weight=1e-06, subsample=1.0, score=-0.055, total=  29.5s\n",
      "[CV] colsample_bylevel=0.01, colsample_bytree=1.0, gamma=3.057001601438046e-06, learning_rate=0.04103110180684913, max_delta_step=20, max_depth=17, min_child_weight=1, n_estimators=200, reg_alpha=1.0, reg_lambda=0.00020708603243493854, scale_pos_weight=1e-06, subsample=1.0 \n",
      "[CV]  colsample_bylevel=0.01, colsample_bytree=1.0, gamma=3.057001601438046e-06, learning_rate=0.04103110180684913, max_delta_step=20, max_depth=17, min_child_weight=1, n_estimators=200, reg_alpha=1.0, reg_lambda=0.00020708603243493854, scale_pos_weight=1e-06, subsample=1.0, score=0.057, total=   1.5s\n",
      "[CV] colsample_bylevel=0.01, colsample_bytree=1.0, gamma=3.057001601438046e-06, learning_rate=0.04103110180684913, max_delta_step=20, max_depth=17, min_child_weight=1, n_estimators=200, reg_alpha=1.0, reg_lambda=0.00020708603243493854, scale_pos_weight=1e-06, subsample=1.0 \n",
      "[CV]  colsample_bylevel=0.01, colsample_bytree=1.0, gamma=3.057001601438046e-06, learning_rate=0.04103110180684913, max_delta_step=20, max_depth=17, min_child_weight=1, n_estimators=200, reg_alpha=1.0, reg_lambda=0.00020708603243493854, scale_pos_weight=1e-06, subsample=1.0, score=-0.017, total=   1.6s\n",
      "[CV] colsample_bylevel=0.01, colsample_bytree=1.0, gamma=3.057001601438046e-06, learning_rate=0.04103110180684913, max_delta_step=20, max_depth=17, min_child_weight=1, n_estimators=200, reg_alpha=1.0, reg_lambda=0.00020708603243493854, scale_pos_weight=1e-06, subsample=1.0 \n",
      "[CV]  colsample_bylevel=0.01, colsample_bytree=1.0, gamma=3.057001601438046e-06, learning_rate=0.04103110180684913, max_delta_step=20, max_depth=17, min_child_weight=1, n_estimators=200, reg_alpha=1.0, reg_lambda=0.00020708603243493854, scale_pos_weight=1e-06, subsample=1.0, score=0.069, total=   1.6s\n",
      "[CV] colsample_bylevel=0.01, colsample_bytree=1.0, gamma=3.057001601438046e-06, learning_rate=0.04103110180684913, max_delta_step=20, max_depth=17, min_child_weight=1, n_estimators=200, reg_alpha=1.0, reg_lambda=0.00020708603243493854, scale_pos_weight=1e-06, subsample=1.0 \n",
      "[CV]  colsample_bylevel=0.01, colsample_bytree=1.0, gamma=3.057001601438046e-06, learning_rate=0.04103110180684913, max_delta_step=20, max_depth=17, min_child_weight=1, n_estimators=200, reg_alpha=1.0, reg_lambda=0.00020708603243493854, scale_pos_weight=1e-06, subsample=1.0, score=0.028, total=   1.8s\n",
      "[CV] colsample_bylevel=0.01, colsample_bytree=1.0, gamma=3.057001601438046e-06, learning_rate=0.04103110180684913, max_delta_step=20, max_depth=17, min_child_weight=1, n_estimators=200, reg_alpha=1.0, reg_lambda=0.00020708603243493854, scale_pos_weight=1e-06, subsample=1.0 \n",
      "[CV]  colsample_bylevel=0.01, colsample_bytree=1.0, gamma=3.057001601438046e-06, learning_rate=0.04103110180684913, max_delta_step=20, max_depth=17, min_child_weight=1, n_estimators=200, reg_alpha=1.0, reg_lambda=0.00020708603243493854, scale_pos_weight=1e-06, subsample=1.0, score=0.079, total=   1.8s\n",
      "[CV] colsample_bylevel=0.6611720249602756, colsample_bytree=0.7017573398934125, gamma=0.1267719299925729, learning_rate=0.07424541009399398, max_delta_step=18, max_depth=10, min_child_weight=2, n_estimators=200, reg_alpha=1e-09, reg_lambda=0.0024662618394377224, scale_pos_weight=0.010926045947332288, subsample=0.9100031049168784 \n"
     ]
    },
    {
     "name": "stdout",
     "output_type": "stream",
     "text": [
      "[CV]  colsample_bylevel=0.6611720249602756, colsample_bytree=0.7017573398934125, gamma=0.1267719299925729, learning_rate=0.07424541009399398, max_delta_step=18, max_depth=10, min_child_weight=2, n_estimators=200, reg_alpha=1e-09, reg_lambda=0.0024662618394377224, scale_pos_weight=0.010926045947332288, subsample=0.9100031049168784, score=0.005, total=   9.3s\n",
      "[CV] colsample_bylevel=0.6611720249602756, colsample_bytree=0.7017573398934125, gamma=0.1267719299925729, learning_rate=0.07424541009399398, max_delta_step=18, max_depth=10, min_child_weight=2, n_estimators=200, reg_alpha=1e-09, reg_lambda=0.0024662618394377224, scale_pos_weight=0.010926045947332288, subsample=0.9100031049168784 \n",
      "[CV]  colsample_bylevel=0.6611720249602756, colsample_bytree=0.7017573398934125, gamma=0.1267719299925729, learning_rate=0.07424541009399398, max_delta_step=18, max_depth=10, min_child_weight=2, n_estimators=200, reg_alpha=1e-09, reg_lambda=0.0024662618394377224, scale_pos_weight=0.010926045947332288, subsample=0.9100031049168784, score=-0.017, total=   8.6s\n",
      "[CV] colsample_bylevel=0.6611720249602756, colsample_bytree=0.7017573398934125, gamma=0.1267719299925729, learning_rate=0.07424541009399398, max_delta_step=18, max_depth=10, min_child_weight=2, n_estimators=200, reg_alpha=1e-09, reg_lambda=0.0024662618394377224, scale_pos_weight=0.010926045947332288, subsample=0.9100031049168784 \n",
      "[CV]  colsample_bylevel=0.6611720249602756, colsample_bytree=0.7017573398934125, gamma=0.1267719299925729, learning_rate=0.07424541009399398, max_delta_step=18, max_depth=10, min_child_weight=2, n_estimators=200, reg_alpha=1e-09, reg_lambda=0.0024662618394377224, scale_pos_weight=0.010926045947332288, subsample=0.9100031049168784, score=0.064, total=   9.0s\n",
      "[CV] colsample_bylevel=0.6611720249602756, colsample_bytree=0.7017573398934125, gamma=0.1267719299925729, learning_rate=0.07424541009399398, max_delta_step=18, max_depth=10, min_child_weight=2, n_estimators=200, reg_alpha=1e-09, reg_lambda=0.0024662618394377224, scale_pos_weight=0.010926045947332288, subsample=0.9100031049168784 \n",
      "[CV]  colsample_bylevel=0.6611720249602756, colsample_bytree=0.7017573398934125, gamma=0.1267719299925729, learning_rate=0.07424541009399398, max_delta_step=18, max_depth=10, min_child_weight=2, n_estimators=200, reg_alpha=1e-09, reg_lambda=0.0024662618394377224, scale_pos_weight=0.010926045947332288, subsample=0.9100031049168784, score=0.028, total=   9.0s\n",
      "[CV] colsample_bylevel=0.6611720249602756, colsample_bytree=0.7017573398934125, gamma=0.1267719299925729, learning_rate=0.07424541009399398, max_delta_step=18, max_depth=10, min_child_weight=2, n_estimators=200, reg_alpha=1e-09, reg_lambda=0.0024662618394377224, scale_pos_weight=0.010926045947332288, subsample=0.9100031049168784 \n",
      "[CV]  colsample_bylevel=0.6611720249602756, colsample_bytree=0.7017573398934125, gamma=0.1267719299925729, learning_rate=0.07424541009399398, max_delta_step=18, max_depth=10, min_child_weight=2, n_estimators=200, reg_alpha=1e-09, reg_lambda=0.0024662618394377224, scale_pos_weight=0.010926045947332288, subsample=0.9100031049168784, score=0.061, total=   9.3s\n"
     ]
    },
    {
     "name": "stderr",
     "output_type": "stream",
     "text": [
      "[Parallel(n_jobs=1)]: Done  60 out of  60 | elapsed:  8.7min finished\n"
     ]
    },
    {
     "name": "stdout",
     "output_type": "stream",
     "text": [
      "best score: 0.04303032072739401\n",
      "Fitting 5 folds for each of 12 candidates, totalling 60 fits\n",
      "[CV] colsample_bylevel=0.17613992551875562, colsample_bytree=0.4443411407170544, gamma=3.0008794869185364e-09, learning_rate=0.08323728437646849, max_delta_step=18, max_depth=41, min_child_weight=4, n_estimators=109, reg_alpha=0.022789931751074723, reg_lambda=0.0012101481590678699, scale_pos_weight=0.0015326636898062716, subsample=0.9434173592656733 \n"
     ]
    },
    {
     "name": "stderr",
     "output_type": "stream",
     "text": [
      "[Parallel(n_jobs=1)]: Using backend SequentialBackend with 1 concurrent workers.\n"
     ]
    },
    {
     "name": "stdout",
     "output_type": "stream",
     "text": [
      "[CV]  colsample_bylevel=0.17613992551875562, colsample_bytree=0.4443411407170544, gamma=3.0008794869185364e-09, learning_rate=0.08323728437646849, max_delta_step=18, max_depth=41, min_child_weight=4, n_estimators=109, reg_alpha=0.022789931751074723, reg_lambda=0.0012101481590678699, scale_pos_weight=0.0015326636898062716, subsample=0.9434173592656733, score=0.007, total=   3.1s\n",
      "[CV] colsample_bylevel=0.17613992551875562, colsample_bytree=0.4443411407170544, gamma=3.0008794869185364e-09, learning_rate=0.08323728437646849, max_delta_step=18, max_depth=41, min_child_weight=4, n_estimators=109, reg_alpha=0.022789931751074723, reg_lambda=0.0012101481590678699, scale_pos_weight=0.0015326636898062716, subsample=0.9434173592656733 \n"
     ]
    },
    {
     "name": "stderr",
     "output_type": "stream",
     "text": [
      "[Parallel(n_jobs=1)]: Done   1 out of   1 | elapsed:    3.1s remaining:    0.0s\n"
     ]
    },
    {
     "name": "stdout",
     "output_type": "stream",
     "text": [
      "[CV]  colsample_bylevel=0.17613992551875562, colsample_bytree=0.4443411407170544, gamma=3.0008794869185364e-09, learning_rate=0.08323728437646849, max_delta_step=18, max_depth=41, min_child_weight=4, n_estimators=109, reg_alpha=0.022789931751074723, reg_lambda=0.0012101481590678699, scale_pos_weight=0.0015326636898062716, subsample=0.9434173592656733, score=-0.056, total=   3.1s\n",
      "[CV] colsample_bylevel=0.17613992551875562, colsample_bytree=0.4443411407170544, gamma=3.0008794869185364e-09, learning_rate=0.08323728437646849, max_delta_step=18, max_depth=41, min_child_weight=4, n_estimators=109, reg_alpha=0.022789931751074723, reg_lambda=0.0012101481590678699, scale_pos_weight=0.0015326636898062716, subsample=0.9434173592656733 \n"
     ]
    },
    {
     "name": "stderr",
     "output_type": "stream",
     "text": [
      "[Parallel(n_jobs=1)]: Done   2 out of   2 | elapsed:    6.2s remaining:    0.0s\n"
     ]
    },
    {
     "name": "stdout",
     "output_type": "stream",
     "text": [
      "[CV]  colsample_bylevel=0.17613992551875562, colsample_bytree=0.4443411407170544, gamma=3.0008794869185364e-09, learning_rate=0.08323728437646849, max_delta_step=18, max_depth=41, min_child_weight=4, n_estimators=109, reg_alpha=0.022789931751074723, reg_lambda=0.0012101481590678699, scale_pos_weight=0.0015326636898062716, subsample=0.9434173592656733, score=0.050, total=   2.9s\n",
      "[CV] colsample_bylevel=0.17613992551875562, colsample_bytree=0.4443411407170544, gamma=3.0008794869185364e-09, learning_rate=0.08323728437646849, max_delta_step=18, max_depth=41, min_child_weight=4, n_estimators=109, reg_alpha=0.022789931751074723, reg_lambda=0.0012101481590678699, scale_pos_weight=0.0015326636898062716, subsample=0.9434173592656733 \n",
      "[CV]  colsample_bylevel=0.17613992551875562, colsample_bytree=0.4443411407170544, gamma=3.0008794869185364e-09, learning_rate=0.08323728437646849, max_delta_step=18, max_depth=41, min_child_weight=4, n_estimators=109, reg_alpha=0.022789931751074723, reg_lambda=0.0012101481590678699, scale_pos_weight=0.0015326636898062716, subsample=0.9434173592656733, score=0.039, total=   3.0s\n",
      "[CV] colsample_bylevel=0.17613992551875562, colsample_bytree=0.4443411407170544, gamma=3.0008794869185364e-09, learning_rate=0.08323728437646849, max_delta_step=18, max_depth=41, min_child_weight=4, n_estimators=109, reg_alpha=0.022789931751074723, reg_lambda=0.0012101481590678699, scale_pos_weight=0.0015326636898062716, subsample=0.9434173592656733 \n",
      "[CV]  colsample_bylevel=0.17613992551875562, colsample_bytree=0.4443411407170544, gamma=3.0008794869185364e-09, learning_rate=0.08323728437646849, max_delta_step=18, max_depth=41, min_child_weight=4, n_estimators=109, reg_alpha=0.022789931751074723, reg_lambda=0.0012101481590678699, scale_pos_weight=0.0015326636898062716, subsample=0.9434173592656733, score=0.046, total=   2.9s\n",
      "[CV] colsample_bylevel=0.22446380102480537, colsample_bytree=0.6574744892510911, gamma=7.533550376481637e-05, learning_rate=0.0936114694596873, max_delta_step=7, max_depth=36, min_child_weight=0, n_estimators=87, reg_alpha=2.3941298941716515e-06, reg_lambda=9.929638161940552e-09, scale_pos_weight=5.92700398500255, subsample=0.17283829532014833 \n",
      "[CV]  colsample_bylevel=0.22446380102480537, colsample_bytree=0.6574744892510911, gamma=7.533550376481637e-05, learning_rate=0.0936114694596873, max_delta_step=7, max_depth=36, min_child_weight=0, n_estimators=87, reg_alpha=2.3941298941716515e-06, reg_lambda=9.929638161940552e-09, scale_pos_weight=5.92700398500255, subsample=0.17283829532014833, score=-0.257, total=   2.1s\n",
      "[CV] colsample_bylevel=0.22446380102480537, colsample_bytree=0.6574744892510911, gamma=7.533550376481637e-05, learning_rate=0.0936114694596873, max_delta_step=7, max_depth=36, min_child_weight=0, n_estimators=87, reg_alpha=2.3941298941716515e-06, reg_lambda=9.929638161940552e-09, scale_pos_weight=5.92700398500255, subsample=0.17283829532014833 \n",
      "[CV]  colsample_bylevel=0.22446380102480537, colsample_bytree=0.6574744892510911, gamma=7.533550376481637e-05, learning_rate=0.0936114694596873, max_delta_step=7, max_depth=36, min_child_weight=0, n_estimators=87, reg_alpha=2.3941298941716515e-06, reg_lambda=9.929638161940552e-09, scale_pos_weight=5.92700398500255, subsample=0.17283829532014833, score=-0.240, total=   2.1s\n",
      "[CV] colsample_bylevel=0.22446380102480537, colsample_bytree=0.6574744892510911, gamma=7.533550376481637e-05, learning_rate=0.0936114694596873, max_delta_step=7, max_depth=36, min_child_weight=0, n_estimators=87, reg_alpha=2.3941298941716515e-06, reg_lambda=9.929638161940552e-09, scale_pos_weight=5.92700398500255, subsample=0.17283829532014833 \n",
      "[CV]  colsample_bylevel=0.22446380102480537, colsample_bytree=0.6574744892510911, gamma=7.533550376481637e-05, learning_rate=0.0936114694596873, max_delta_step=7, max_depth=36, min_child_weight=0, n_estimators=87, reg_alpha=2.3941298941716515e-06, reg_lambda=9.929638161940552e-09, scale_pos_weight=5.92700398500255, subsample=0.17283829532014833, score=-0.251, total=   2.1s\n",
      "[CV] colsample_bylevel=0.22446380102480537, colsample_bytree=0.6574744892510911, gamma=7.533550376481637e-05, learning_rate=0.0936114694596873, max_delta_step=7, max_depth=36, min_child_weight=0, n_estimators=87, reg_alpha=2.3941298941716515e-06, reg_lambda=9.929638161940552e-09, scale_pos_weight=5.92700398500255, subsample=0.17283829532014833 \n",
      "[CV]  colsample_bylevel=0.22446380102480537, colsample_bytree=0.6574744892510911, gamma=7.533550376481637e-05, learning_rate=0.0936114694596873, max_delta_step=7, max_depth=36, min_child_weight=0, n_estimators=87, reg_alpha=2.3941298941716515e-06, reg_lambda=9.929638161940552e-09, scale_pos_weight=5.92700398500255, subsample=0.17283829532014833, score=-0.147, total=   2.2s\n",
      "[CV] colsample_bylevel=0.22446380102480537, colsample_bytree=0.6574744892510911, gamma=7.533550376481637e-05, learning_rate=0.0936114694596873, max_delta_step=7, max_depth=36, min_child_weight=0, n_estimators=87, reg_alpha=2.3941298941716515e-06, reg_lambda=9.929638161940552e-09, scale_pos_weight=5.92700398500255, subsample=0.17283829532014833 \n",
      "[CV]  colsample_bylevel=0.22446380102480537, colsample_bytree=0.6574744892510911, gamma=7.533550376481637e-05, learning_rate=0.0936114694596873, max_delta_step=7, max_depth=36, min_child_weight=0, n_estimators=87, reg_alpha=2.3941298941716515e-06, reg_lambda=9.929638161940552e-09, scale_pos_weight=5.92700398500255, subsample=0.17283829532014833, score=-0.284, total=   2.1s\n",
      "[CV] colsample_bylevel=0.0725037761097378, colsample_bytree=0.7482333410739963, gamma=0.00024819083009962675, learning_rate=0.014283533071314478, max_delta_step=8, max_depth=40, min_child_weight=3, n_estimators=67, reg_alpha=0.007554366483970607, reg_lambda=3.881045784103212e-09, scale_pos_weight=2.340871842367792e-05, subsample=0.5469393325158296 \n",
      "[CV]  colsample_bylevel=0.0725037761097378, colsample_bytree=0.7482333410739963, gamma=0.00024819083009962675, learning_rate=0.014283533071314478, max_delta_step=8, max_depth=40, min_child_weight=3, n_estimators=67, reg_alpha=0.007554366483970607, reg_lambda=3.881045784103212e-09, scale_pos_weight=2.340871842367792e-05, subsample=0.5469393325158296, score=-1.079, total=   0.8s\n",
      "[CV] colsample_bylevel=0.0725037761097378, colsample_bytree=0.7482333410739963, gamma=0.00024819083009962675, learning_rate=0.014283533071314478, max_delta_step=8, max_depth=40, min_child_weight=3, n_estimators=67, reg_alpha=0.007554366483970607, reg_lambda=3.881045784103212e-09, scale_pos_weight=2.340871842367792e-05, subsample=0.5469393325158296 \n",
      "[CV]  colsample_bylevel=0.0725037761097378, colsample_bytree=0.7482333410739963, gamma=0.00024819083009962675, learning_rate=0.014283533071314478, max_delta_step=8, max_depth=40, min_child_weight=3, n_estimators=67, reg_alpha=0.007554366483970607, reg_lambda=3.881045784103212e-09, scale_pos_weight=2.340871842367792e-05, subsample=0.5469393325158296, score=-0.965, total=   0.7s\n",
      "[CV] colsample_bylevel=0.0725037761097378, colsample_bytree=0.7482333410739963, gamma=0.00024819083009962675, learning_rate=0.014283533071314478, max_delta_step=8, max_depth=40, min_child_weight=3, n_estimators=67, reg_alpha=0.007554366483970607, reg_lambda=3.881045784103212e-09, scale_pos_weight=2.340871842367792e-05, subsample=0.5469393325158296 \n",
      "[CV]  colsample_bylevel=0.0725037761097378, colsample_bytree=0.7482333410739963, gamma=0.00024819083009962675, learning_rate=0.014283533071314478, max_delta_step=8, max_depth=40, min_child_weight=3, n_estimators=67, reg_alpha=0.007554366483970607, reg_lambda=3.881045784103212e-09, scale_pos_weight=2.340871842367792e-05, subsample=0.5469393325158296, score=-0.922, total=   0.7s\n",
      "[CV] colsample_bylevel=0.0725037761097378, colsample_bytree=0.7482333410739963, gamma=0.00024819083009962675, learning_rate=0.014283533071314478, max_delta_step=8, max_depth=40, min_child_weight=3, n_estimators=67, reg_alpha=0.007554366483970607, reg_lambda=3.881045784103212e-09, scale_pos_weight=2.340871842367792e-05, subsample=0.5469393325158296 \n",
      "[CV]  colsample_bylevel=0.0725037761097378, colsample_bytree=0.7482333410739963, gamma=0.00024819083009962675, learning_rate=0.014283533071314478, max_delta_step=8, max_depth=40, min_child_weight=3, n_estimators=67, reg_alpha=0.007554366483970607, reg_lambda=3.881045784103212e-09, scale_pos_weight=2.340871842367792e-05, subsample=0.5469393325158296, score=-0.861, total=   0.7s\n",
      "[CV] colsample_bylevel=0.0725037761097378, colsample_bytree=0.7482333410739963, gamma=0.00024819083009962675, learning_rate=0.014283533071314478, max_delta_step=8, max_depth=40, min_child_weight=3, n_estimators=67, reg_alpha=0.007554366483970607, reg_lambda=3.881045784103212e-09, scale_pos_weight=2.340871842367792e-05, subsample=0.5469393325158296 \n"
     ]
    },
    {
     "name": "stdout",
     "output_type": "stream",
     "text": [
      "[CV]  colsample_bylevel=0.0725037761097378, colsample_bytree=0.7482333410739963, gamma=0.00024819083009962675, learning_rate=0.014283533071314478, max_delta_step=8, max_depth=40, min_child_weight=3, n_estimators=67, reg_alpha=0.007554366483970607, reg_lambda=3.881045784103212e-09, scale_pos_weight=2.340871842367792e-05, subsample=0.5469393325158296, score=-1.107, total=   0.8s\n",
      "[CV] colsample_bylevel=0.1618190450547474, colsample_bytree=0.48821032051986285, gamma=6.47437524211547e-08, learning_rate=0.14388349485748625, max_delta_step=8, max_depth=35, min_child_weight=3, n_estimators=108, reg_alpha=1.0120871696548227e-08, reg_lambda=2.5484324807172993, scale_pos_weight=0.0004722965156035153, subsample=0.4782521229380763 \n",
      "[CV]  colsample_bylevel=0.1618190450547474, colsample_bytree=0.48821032051986285, gamma=6.47437524211547e-08, learning_rate=0.14388349485748625, max_delta_step=8, max_depth=35, min_child_weight=3, n_estimators=108, reg_alpha=1.0120871696548227e-08, reg_lambda=2.5484324807172993, scale_pos_weight=0.0004722965156035153, subsample=0.4782521229380763, score=-0.026, total=   1.8s\n",
      "[CV] colsample_bylevel=0.1618190450547474, colsample_bytree=0.48821032051986285, gamma=6.47437524211547e-08, learning_rate=0.14388349485748625, max_delta_step=8, max_depth=35, min_child_weight=3, n_estimators=108, reg_alpha=1.0120871696548227e-08, reg_lambda=2.5484324807172993, scale_pos_weight=0.0004722965156035153, subsample=0.4782521229380763 \n",
      "[CV]  colsample_bylevel=0.1618190450547474, colsample_bytree=0.48821032051986285, gamma=6.47437524211547e-08, learning_rate=0.14388349485748625, max_delta_step=8, max_depth=35, min_child_weight=3, n_estimators=108, reg_alpha=1.0120871696548227e-08, reg_lambda=2.5484324807172993, scale_pos_weight=0.0004722965156035153, subsample=0.4782521229380763, score=-0.106, total=   1.7s\n",
      "[CV] colsample_bylevel=0.1618190450547474, colsample_bytree=0.48821032051986285, gamma=6.47437524211547e-08, learning_rate=0.14388349485748625, max_delta_step=8, max_depth=35, min_child_weight=3, n_estimators=108, reg_alpha=1.0120871696548227e-08, reg_lambda=2.5484324807172993, scale_pos_weight=0.0004722965156035153, subsample=0.4782521229380763 \n",
      "[CV]  colsample_bylevel=0.1618190450547474, colsample_bytree=0.48821032051986285, gamma=6.47437524211547e-08, learning_rate=0.14388349485748625, max_delta_step=8, max_depth=35, min_child_weight=3, n_estimators=108, reg_alpha=1.0120871696548227e-08, reg_lambda=2.5484324807172993, scale_pos_weight=0.0004722965156035153, subsample=0.4782521229380763, score=-0.058, total=   1.7s\n",
      "[CV] colsample_bylevel=0.1618190450547474, colsample_bytree=0.48821032051986285, gamma=6.47437524211547e-08, learning_rate=0.14388349485748625, max_delta_step=8, max_depth=35, min_child_weight=3, n_estimators=108, reg_alpha=1.0120871696548227e-08, reg_lambda=2.5484324807172993, scale_pos_weight=0.0004722965156035153, subsample=0.4782521229380763 \n",
      "[CV]  colsample_bylevel=0.1618190450547474, colsample_bytree=0.48821032051986285, gamma=6.47437524211547e-08, learning_rate=0.14388349485748625, max_delta_step=8, max_depth=35, min_child_weight=3, n_estimators=108, reg_alpha=1.0120871696548227e-08, reg_lambda=2.5484324807172993, scale_pos_weight=0.0004722965156035153, subsample=0.4782521229380763, score=-0.017, total=   1.8s\n",
      "[CV] colsample_bylevel=0.1618190450547474, colsample_bytree=0.48821032051986285, gamma=6.47437524211547e-08, learning_rate=0.14388349485748625, max_delta_step=8, max_depth=35, min_child_weight=3, n_estimators=108, reg_alpha=1.0120871696548227e-08, reg_lambda=2.5484324807172993, scale_pos_weight=0.0004722965156035153, subsample=0.4782521229380763 \n",
      "[CV]  colsample_bylevel=0.1618190450547474, colsample_bytree=0.48821032051986285, gamma=6.47437524211547e-08, learning_rate=0.14388349485748625, max_delta_step=8, max_depth=35, min_child_weight=3, n_estimators=108, reg_alpha=1.0120871696548227e-08, reg_lambda=2.5484324807172993, scale_pos_weight=0.0004722965156035153, subsample=0.4782521229380763, score=0.014, total=   1.8s\n",
      "[CV] colsample_bylevel=0.7677917311594651, colsample_bytree=0.20068114640003668, gamma=0.00012660913261104085, learning_rate=0.7643360368504284, max_delta_step=2, max_depth=26, min_child_weight=5, n_estimators=166, reg_alpha=0.1067036221033953, reg_lambda=152.07716125390357, scale_pos_weight=3.0607604548096588e-06, subsample=0.1683244120667579 \n",
      "[CV]  colsample_bylevel=0.7677917311594651, colsample_bytree=0.20068114640003668, gamma=0.00012660913261104085, learning_rate=0.7643360368504284, max_delta_step=2, max_depth=26, min_child_weight=5, n_estimators=166, reg_alpha=0.1067036221033953, reg_lambda=152.07716125390357, scale_pos_weight=3.0607604548096588e-06, subsample=0.1683244120667579, score=-0.213, total=   1.4s\n",
      "[CV] colsample_bylevel=0.7677917311594651, colsample_bytree=0.20068114640003668, gamma=0.00012660913261104085, learning_rate=0.7643360368504284, max_delta_step=2, max_depth=26, min_child_weight=5, n_estimators=166, reg_alpha=0.1067036221033953, reg_lambda=152.07716125390357, scale_pos_weight=3.0607604548096588e-06, subsample=0.1683244120667579 \n",
      "[CV]  colsample_bylevel=0.7677917311594651, colsample_bytree=0.20068114640003668, gamma=0.00012660913261104085, learning_rate=0.7643360368504284, max_delta_step=2, max_depth=26, min_child_weight=5, n_estimators=166, reg_alpha=0.1067036221033953, reg_lambda=152.07716125390357, scale_pos_weight=3.0607604548096588e-06, subsample=0.1683244120667579, score=-0.346, total=   1.5s\n",
      "[CV] colsample_bylevel=0.7677917311594651, colsample_bytree=0.20068114640003668, gamma=0.00012660913261104085, learning_rate=0.7643360368504284, max_delta_step=2, max_depth=26, min_child_weight=5, n_estimators=166, reg_alpha=0.1067036221033953, reg_lambda=152.07716125390357, scale_pos_weight=3.0607604548096588e-06, subsample=0.1683244120667579 \n",
      "[CV]  colsample_bylevel=0.7677917311594651, colsample_bytree=0.20068114640003668, gamma=0.00012660913261104085, learning_rate=0.7643360368504284, max_delta_step=2, max_depth=26, min_child_weight=5, n_estimators=166, reg_alpha=0.1067036221033953, reg_lambda=152.07716125390357, scale_pos_weight=3.0607604548096588e-06, subsample=0.1683244120667579, score=-0.124, total=   1.5s\n",
      "[CV] colsample_bylevel=0.7677917311594651, colsample_bytree=0.20068114640003668, gamma=0.00012660913261104085, learning_rate=0.7643360368504284, max_delta_step=2, max_depth=26, min_child_weight=5, n_estimators=166, reg_alpha=0.1067036221033953, reg_lambda=152.07716125390357, scale_pos_weight=3.0607604548096588e-06, subsample=0.1683244120667579 \n",
      "[CV]  colsample_bylevel=0.7677917311594651, colsample_bytree=0.20068114640003668, gamma=0.00012660913261104085, learning_rate=0.7643360368504284, max_delta_step=2, max_depth=26, min_child_weight=5, n_estimators=166, reg_alpha=0.1067036221033953, reg_lambda=152.07716125390357, scale_pos_weight=3.0607604548096588e-06, subsample=0.1683244120667579, score=-0.219, total=   1.5s\n",
      "[CV] colsample_bylevel=0.7677917311594651, colsample_bytree=0.20068114640003668, gamma=0.00012660913261104085, learning_rate=0.7643360368504284, max_delta_step=2, max_depth=26, min_child_weight=5, n_estimators=166, reg_alpha=0.1067036221033953, reg_lambda=152.07716125390357, scale_pos_weight=3.0607604548096588e-06, subsample=0.1683244120667579 \n",
      "[CV]  colsample_bylevel=0.7677917311594651, colsample_bytree=0.20068114640003668, gamma=0.00012660913261104085, learning_rate=0.7643360368504284, max_delta_step=2, max_depth=26, min_child_weight=5, n_estimators=166, reg_alpha=0.1067036221033953, reg_lambda=152.07716125390357, scale_pos_weight=3.0607604548096588e-06, subsample=0.1683244120667579, score=-0.155, total=   1.4s\n",
      "[CV] colsample_bylevel=0.33363769191440606, colsample_bytree=0.27266282444093226, gamma=0.0012999795535281783, learning_rate=0.2480089094428141, max_delta_step=15, max_depth=1, min_child_weight=3, n_estimators=105, reg_alpha=2.970945118365046e-07, reg_lambda=0.4390918584239411, scale_pos_weight=0.35411221642332225, subsample=0.41922374069827745 \n",
      "[CV]  colsample_bylevel=0.33363769191440606, colsample_bytree=0.27266282444093226, gamma=0.0012999795535281783, learning_rate=0.2480089094428141, max_delta_step=15, max_depth=1, min_child_weight=3, n_estimators=105, reg_alpha=2.970945118365046e-07, reg_lambda=0.4390918584239411, scale_pos_weight=0.35411221642332225, subsample=0.41922374069827745, score=-0.034, total=   0.4s\n",
      "[CV] colsample_bylevel=0.33363769191440606, colsample_bytree=0.27266282444093226, gamma=0.0012999795535281783, learning_rate=0.2480089094428141, max_delta_step=15, max_depth=1, min_child_weight=3, n_estimators=105, reg_alpha=2.970945118365046e-07, reg_lambda=0.4390918584239411, scale_pos_weight=0.35411221642332225, subsample=0.41922374069827745 \n"
     ]
    },
    {
     "name": "stdout",
     "output_type": "stream",
     "text": [
      "[CV]  colsample_bylevel=0.33363769191440606, colsample_bytree=0.27266282444093226, gamma=0.0012999795535281783, learning_rate=0.2480089094428141, max_delta_step=15, max_depth=1, min_child_weight=3, n_estimators=105, reg_alpha=2.970945118365046e-07, reg_lambda=0.4390918584239411, scale_pos_weight=0.35411221642332225, subsample=0.41922374069827745, score=-0.137, total=   0.5s\n",
      "[CV] colsample_bylevel=0.33363769191440606, colsample_bytree=0.27266282444093226, gamma=0.0012999795535281783, learning_rate=0.2480089094428141, max_delta_step=15, max_depth=1, min_child_weight=3, n_estimators=105, reg_alpha=2.970945118365046e-07, reg_lambda=0.4390918584239411, scale_pos_weight=0.35411221642332225, subsample=0.41922374069827745 \n",
      "[CV]  colsample_bylevel=0.33363769191440606, colsample_bytree=0.27266282444093226, gamma=0.0012999795535281783, learning_rate=0.2480089094428141, max_delta_step=15, max_depth=1, min_child_weight=3, n_estimators=105, reg_alpha=2.970945118365046e-07, reg_lambda=0.4390918584239411, scale_pos_weight=0.35411221642332225, subsample=0.41922374069827745, score=0.011, total=   0.6s\n",
      "[CV] colsample_bylevel=0.33363769191440606, colsample_bytree=0.27266282444093226, gamma=0.0012999795535281783, learning_rate=0.2480089094428141, max_delta_step=15, max_depth=1, min_child_weight=3, n_estimators=105, reg_alpha=2.970945118365046e-07, reg_lambda=0.4390918584239411, scale_pos_weight=0.35411221642332225, subsample=0.41922374069827745 \n",
      "[CV]  colsample_bylevel=0.33363769191440606, colsample_bytree=0.27266282444093226, gamma=0.0012999795535281783, learning_rate=0.2480089094428141, max_delta_step=15, max_depth=1, min_child_weight=3, n_estimators=105, reg_alpha=2.970945118365046e-07, reg_lambda=0.4390918584239411, scale_pos_weight=0.35411221642332225, subsample=0.41922374069827745, score=-0.068, total=   0.5s\n",
      "[CV] colsample_bylevel=0.33363769191440606, colsample_bytree=0.27266282444093226, gamma=0.0012999795535281783, learning_rate=0.2480089094428141, max_delta_step=15, max_depth=1, min_child_weight=3, n_estimators=105, reg_alpha=2.970945118365046e-07, reg_lambda=0.4390918584239411, scale_pos_weight=0.35411221642332225, subsample=0.41922374069827745 \n",
      "[CV]  colsample_bylevel=0.33363769191440606, colsample_bytree=0.27266282444093226, gamma=0.0012999795535281783, learning_rate=0.2480089094428141, max_delta_step=15, max_depth=1, min_child_weight=3, n_estimators=105, reg_alpha=2.970945118365046e-07, reg_lambda=0.4390918584239411, scale_pos_weight=0.35411221642332225, subsample=0.41922374069827745, score=0.013, total=   0.4s\n",
      "[CV] colsample_bylevel=0.5616540937604766, colsample_bytree=0.9753308496435634, gamma=5.324014695184021e-05, learning_rate=0.19070226933081663, max_delta_step=3, max_depth=31, min_child_weight=2, n_estimators=104, reg_alpha=0.0001697365478274605, reg_lambda=0.0007425895852438786, scale_pos_weight=47.10292191198514, subsample=0.37658742578258825 \n",
      "[CV]  colsample_bylevel=0.5616540937604766, colsample_bytree=0.9753308496435634, gamma=5.324014695184021e-05, learning_rate=0.19070226933081663, max_delta_step=3, max_depth=31, min_child_weight=2, n_estimators=104, reg_alpha=0.0001697365478274605, reg_lambda=0.0007425895852438786, scale_pos_weight=47.10292191198514, subsample=0.37658742578258825, score=-0.228, total=   9.4s\n",
      "[CV] colsample_bylevel=0.5616540937604766, colsample_bytree=0.9753308496435634, gamma=5.324014695184021e-05, learning_rate=0.19070226933081663, max_delta_step=3, max_depth=31, min_child_weight=2, n_estimators=104, reg_alpha=0.0001697365478274605, reg_lambda=0.0007425895852438786, scale_pos_weight=47.10292191198514, subsample=0.37658742578258825 \n",
      "[CV]  colsample_bylevel=0.5616540937604766, colsample_bytree=0.9753308496435634, gamma=5.324014695184021e-05, learning_rate=0.19070226933081663, max_delta_step=3, max_depth=31, min_child_weight=2, n_estimators=104, reg_alpha=0.0001697365478274605, reg_lambda=0.0007425895852438786, scale_pos_weight=47.10292191198514, subsample=0.37658742578258825, score=-0.173, total=   9.6s\n",
      "[CV] colsample_bylevel=0.5616540937604766, colsample_bytree=0.9753308496435634, gamma=5.324014695184021e-05, learning_rate=0.19070226933081663, max_delta_step=3, max_depth=31, min_child_weight=2, n_estimators=104, reg_alpha=0.0001697365478274605, reg_lambda=0.0007425895852438786, scale_pos_weight=47.10292191198514, subsample=0.37658742578258825 \n",
      "[CV]  colsample_bylevel=0.5616540937604766, colsample_bytree=0.9753308496435634, gamma=5.324014695184021e-05, learning_rate=0.19070226933081663, max_delta_step=3, max_depth=31, min_child_weight=2, n_estimators=104, reg_alpha=0.0001697365478274605, reg_lambda=0.0007425895852438786, scale_pos_weight=47.10292191198514, subsample=0.37658742578258825, score=-0.228, total=   9.0s\n",
      "[CV] colsample_bylevel=0.5616540937604766, colsample_bytree=0.9753308496435634, gamma=5.324014695184021e-05, learning_rate=0.19070226933081663, max_delta_step=3, max_depth=31, min_child_weight=2, n_estimators=104, reg_alpha=0.0001697365478274605, reg_lambda=0.0007425895852438786, scale_pos_weight=47.10292191198514, subsample=0.37658742578258825 \n",
      "[CV]  colsample_bylevel=0.5616540937604766, colsample_bytree=0.9753308496435634, gamma=5.324014695184021e-05, learning_rate=0.19070226933081663, max_delta_step=3, max_depth=31, min_child_weight=2, n_estimators=104, reg_alpha=0.0001697365478274605, reg_lambda=0.0007425895852438786, scale_pos_weight=47.10292191198514, subsample=0.37658742578258825, score=-0.097, total=   9.2s\n",
      "[CV] colsample_bylevel=0.5616540937604766, colsample_bytree=0.9753308496435634, gamma=5.324014695184021e-05, learning_rate=0.19070226933081663, max_delta_step=3, max_depth=31, min_child_weight=2, n_estimators=104, reg_alpha=0.0001697365478274605, reg_lambda=0.0007425895852438786, scale_pos_weight=47.10292191198514, subsample=0.37658742578258825 \n",
      "[CV]  colsample_bylevel=0.5616540937604766, colsample_bytree=0.9753308496435634, gamma=5.324014695184021e-05, learning_rate=0.19070226933081663, max_delta_step=3, max_depth=31, min_child_weight=2, n_estimators=104, reg_alpha=0.0001697365478274605, reg_lambda=0.0007425895852438786, scale_pos_weight=47.10292191198514, subsample=0.37658742578258825, score=-0.195, total=   9.2s\n",
      "[CV] colsample_bylevel=0.28221903610955507, colsample_bytree=0.7541155455481611, gamma=1.2840326020966642e-09, learning_rate=0.2706406052428242, max_delta_step=7, max_depth=46, min_child_weight=5, n_estimators=147, reg_alpha=0.0002806313557595054, reg_lambda=8.389573588831655e-09, scale_pos_weight=7.348442649772408e-05, subsample=0.9060622560005588 \n",
      "[CV]  colsample_bylevel=0.28221903610955507, colsample_bytree=0.7541155455481611, gamma=1.2840326020966642e-09, learning_rate=0.2706406052428242, max_delta_step=7, max_depth=46, min_child_weight=5, n_estimators=147, reg_alpha=0.0002806313557595054, reg_lambda=8.389573588831655e-09, scale_pos_weight=7.348442649772408e-05, subsample=0.9060622560005588, score=-0.037, total=  10.4s\n",
      "[CV] colsample_bylevel=0.28221903610955507, colsample_bytree=0.7541155455481611, gamma=1.2840326020966642e-09, learning_rate=0.2706406052428242, max_delta_step=7, max_depth=46, min_child_weight=5, n_estimators=147, reg_alpha=0.0002806313557595054, reg_lambda=8.389573588831655e-09, scale_pos_weight=7.348442649772408e-05, subsample=0.9060622560005588 \n",
      "[CV]  colsample_bylevel=0.28221903610955507, colsample_bytree=0.7541155455481611, gamma=1.2840326020966642e-09, learning_rate=0.2706406052428242, max_delta_step=7, max_depth=46, min_child_weight=5, n_estimators=147, reg_alpha=0.0002806313557595054, reg_lambda=8.389573588831655e-09, scale_pos_weight=7.348442649772408e-05, subsample=0.9060622560005588, score=-0.105, total=  10.6s\n",
      "[CV] colsample_bylevel=0.28221903610955507, colsample_bytree=0.7541155455481611, gamma=1.2840326020966642e-09, learning_rate=0.2706406052428242, max_delta_step=7, max_depth=46, min_child_weight=5, n_estimators=147, reg_alpha=0.0002806313557595054, reg_lambda=8.389573588831655e-09, scale_pos_weight=7.348442649772408e-05, subsample=0.9060622560005588 \n",
      "[CV]  colsample_bylevel=0.28221903610955507, colsample_bytree=0.7541155455481611, gamma=1.2840326020966642e-09, learning_rate=0.2706406052428242, max_delta_step=7, max_depth=46, min_child_weight=5, n_estimators=147, reg_alpha=0.0002806313557595054, reg_lambda=8.389573588831655e-09, scale_pos_weight=7.348442649772408e-05, subsample=0.9060622560005588, score=-0.001, total=  10.5s\n",
      "[CV] colsample_bylevel=0.28221903610955507, colsample_bytree=0.7541155455481611, gamma=1.2840326020966642e-09, learning_rate=0.2706406052428242, max_delta_step=7, max_depth=46, min_child_weight=5, n_estimators=147, reg_alpha=0.0002806313557595054, reg_lambda=8.389573588831655e-09, scale_pos_weight=7.348442649772408e-05, subsample=0.9060622560005588 \n"
     ]
    },
    {
     "name": "stdout",
     "output_type": "stream",
     "text": [
      "[CV]  colsample_bylevel=0.28221903610955507, colsample_bytree=0.7541155455481611, gamma=1.2840326020966642e-09, learning_rate=0.2706406052428242, max_delta_step=7, max_depth=46, min_child_weight=5, n_estimators=147, reg_alpha=0.0002806313557595054, reg_lambda=8.389573588831655e-09, scale_pos_weight=7.348442649772408e-05, subsample=0.9060622560005588, score=-0.013, total=  10.3s\n",
      "[CV] colsample_bylevel=0.28221903610955507, colsample_bytree=0.7541155455481611, gamma=1.2840326020966642e-09, learning_rate=0.2706406052428242, max_delta_step=7, max_depth=46, min_child_weight=5, n_estimators=147, reg_alpha=0.0002806313557595054, reg_lambda=8.389573588831655e-09, scale_pos_weight=7.348442649772408e-05, subsample=0.9060622560005588 \n",
      "[CV]  colsample_bylevel=0.28221903610955507, colsample_bytree=0.7541155455481611, gamma=1.2840326020966642e-09, learning_rate=0.2706406052428242, max_delta_step=7, max_depth=46, min_child_weight=5, n_estimators=147, reg_alpha=0.0002806313557595054, reg_lambda=8.389573588831655e-09, scale_pos_weight=7.348442649772408e-05, subsample=0.9060622560005588, score=-0.017, total=  10.6s\n",
      "[CV] colsample_bylevel=0.4183856000770114, colsample_bytree=0.6106533581441381, gamma=8.624236417217603e-09, learning_rate=0.16860779470684903, max_delta_step=11, max_depth=5, min_child_weight=3, n_estimators=92, reg_alpha=0.02445206037493467, reg_lambda=125.7676867845209, scale_pos_weight=0.000473940479631579, subsample=0.9138891022108913 \n",
      "[CV]  colsample_bylevel=0.4183856000770114, colsample_bytree=0.6106533581441381, gamma=8.624236417217603e-09, learning_rate=0.16860779470684903, max_delta_step=11, max_depth=5, min_child_weight=3, n_estimators=92, reg_alpha=0.02445206037493467, reg_lambda=125.7676867845209, scale_pos_weight=0.000473940479631579, subsample=0.9138891022108913, score=-0.020, total=   1.3s\n",
      "[CV] colsample_bylevel=0.4183856000770114, colsample_bytree=0.6106533581441381, gamma=8.624236417217603e-09, learning_rate=0.16860779470684903, max_delta_step=11, max_depth=5, min_child_weight=3, n_estimators=92, reg_alpha=0.02445206037493467, reg_lambda=125.7676867845209, scale_pos_weight=0.000473940479631579, subsample=0.9138891022108913 \n",
      "[CV]  colsample_bylevel=0.4183856000770114, colsample_bytree=0.6106533581441381, gamma=8.624236417217603e-09, learning_rate=0.16860779470684903, max_delta_step=11, max_depth=5, min_child_weight=3, n_estimators=92, reg_alpha=0.02445206037493467, reg_lambda=125.7676867845209, scale_pos_weight=0.000473940479631579, subsample=0.9138891022108913, score=-0.052, total=   1.3s\n",
      "[CV] colsample_bylevel=0.4183856000770114, colsample_bytree=0.6106533581441381, gamma=8.624236417217603e-09, learning_rate=0.16860779470684903, max_delta_step=11, max_depth=5, min_child_weight=3, n_estimators=92, reg_alpha=0.02445206037493467, reg_lambda=125.7676867845209, scale_pos_weight=0.000473940479631579, subsample=0.9138891022108913 \n",
      "[CV]  colsample_bylevel=0.4183856000770114, colsample_bytree=0.6106533581441381, gamma=8.624236417217603e-09, learning_rate=0.16860779470684903, max_delta_step=11, max_depth=5, min_child_weight=3, n_estimators=92, reg_alpha=0.02445206037493467, reg_lambda=125.7676867845209, scale_pos_weight=0.000473940479631579, subsample=0.9138891022108913, score=0.021, total=   1.4s\n",
      "[CV] colsample_bylevel=0.4183856000770114, colsample_bytree=0.6106533581441381, gamma=8.624236417217603e-09, learning_rate=0.16860779470684903, max_delta_step=11, max_depth=5, min_child_weight=3, n_estimators=92, reg_alpha=0.02445206037493467, reg_lambda=125.7676867845209, scale_pos_weight=0.000473940479631579, subsample=0.9138891022108913 \n",
      "[CV]  colsample_bylevel=0.4183856000770114, colsample_bytree=0.6106533581441381, gamma=8.624236417217603e-09, learning_rate=0.16860779470684903, max_delta_step=11, max_depth=5, min_child_weight=3, n_estimators=92, reg_alpha=0.02445206037493467, reg_lambda=125.7676867845209, scale_pos_weight=0.000473940479631579, subsample=0.9138891022108913, score=0.044, total=   1.4s\n",
      "[CV] colsample_bylevel=0.4183856000770114, colsample_bytree=0.6106533581441381, gamma=8.624236417217603e-09, learning_rate=0.16860779470684903, max_delta_step=11, max_depth=5, min_child_weight=3, n_estimators=92, reg_alpha=0.02445206037493467, reg_lambda=125.7676867845209, scale_pos_weight=0.000473940479631579, subsample=0.9138891022108913 \n",
      "[CV]  colsample_bylevel=0.4183856000770114, colsample_bytree=0.6106533581441381, gamma=8.624236417217603e-09, learning_rate=0.16860779470684903, max_delta_step=11, max_depth=5, min_child_weight=3, n_estimators=92, reg_alpha=0.02445206037493467, reg_lambda=125.7676867845209, scale_pos_weight=0.000473940479631579, subsample=0.9138891022108913, score=0.029, total=   1.6s\n",
      "[CV] colsample_bylevel=0.4607073373017155, colsample_bytree=0.8579008465654526, gamma=0.013691035837609227, learning_rate=0.013367851338545738, max_delta_step=10, max_depth=12, min_child_weight=3, n_estimators=155, reg_alpha=1.96058691506451e-09, reg_lambda=4.15266914291912e-08, scale_pos_weight=0.18808096998712068, subsample=0.9706081791515903 \n",
      "[CV]  colsample_bylevel=0.4607073373017155, colsample_bytree=0.8579008465654526, gamma=0.013691035837609227, learning_rate=0.013367851338545738, max_delta_step=10, max_depth=12, min_child_weight=3, n_estimators=155, reg_alpha=1.96058691506451e-09, reg_lambda=4.15266914291912e-08, scale_pos_weight=0.18808096998712068, subsample=0.9706081791515903, score=-0.356, total=   6.2s\n",
      "[CV] colsample_bylevel=0.4607073373017155, colsample_bytree=0.8579008465654526, gamma=0.013691035837609227, learning_rate=0.013367851338545738, max_delta_step=10, max_depth=12, min_child_weight=3, n_estimators=155, reg_alpha=1.96058691506451e-09, reg_lambda=4.15266914291912e-08, scale_pos_weight=0.18808096998712068, subsample=0.9706081791515903 \n",
      "[CV]  colsample_bylevel=0.4607073373017155, colsample_bytree=0.8579008465654526, gamma=0.013691035837609227, learning_rate=0.013367851338545738, max_delta_step=10, max_depth=12, min_child_weight=3, n_estimators=155, reg_alpha=1.96058691506451e-09, reg_lambda=4.15266914291912e-08, scale_pos_weight=0.18808096998712068, subsample=0.9706081791515903, score=-0.292, total=   5.8s\n",
      "[CV] colsample_bylevel=0.4607073373017155, colsample_bytree=0.8579008465654526, gamma=0.013691035837609227, learning_rate=0.013367851338545738, max_delta_step=10, max_depth=12, min_child_weight=3, n_estimators=155, reg_alpha=1.96058691506451e-09, reg_lambda=4.15266914291912e-08, scale_pos_weight=0.18808096998712068, subsample=0.9706081791515903 \n",
      "[CV]  colsample_bylevel=0.4607073373017155, colsample_bytree=0.8579008465654526, gamma=0.013691035837609227, learning_rate=0.013367851338545738, max_delta_step=10, max_depth=12, min_child_weight=3, n_estimators=155, reg_alpha=1.96058691506451e-09, reg_lambda=4.15266914291912e-08, scale_pos_weight=0.18808096998712068, subsample=0.9706081791515903, score=-0.277, total=   5.3s\n",
      "[CV] colsample_bylevel=0.4607073373017155, colsample_bytree=0.8579008465654526, gamma=0.013691035837609227, learning_rate=0.013367851338545738, max_delta_step=10, max_depth=12, min_child_weight=3, n_estimators=155, reg_alpha=1.96058691506451e-09, reg_lambda=4.15266914291912e-08, scale_pos_weight=0.18808096998712068, subsample=0.9706081791515903 \n",
      "[CV]  colsample_bylevel=0.4607073373017155, colsample_bytree=0.8579008465654526, gamma=0.013691035837609227, learning_rate=0.013367851338545738, max_delta_step=10, max_depth=12, min_child_weight=3, n_estimators=155, reg_alpha=1.96058691506451e-09, reg_lambda=4.15266914291912e-08, scale_pos_weight=0.18808096998712068, subsample=0.9706081791515903, score=-0.207, total=   5.5s\n",
      "[CV] colsample_bylevel=0.4607073373017155, colsample_bytree=0.8579008465654526, gamma=0.013691035837609227, learning_rate=0.013367851338545738, max_delta_step=10, max_depth=12, min_child_weight=3, n_estimators=155, reg_alpha=1.96058691506451e-09, reg_lambda=4.15266914291912e-08, scale_pos_weight=0.18808096998712068, subsample=0.9706081791515903 \n",
      "[CV]  colsample_bylevel=0.4607073373017155, colsample_bytree=0.8579008465654526, gamma=0.013691035837609227, learning_rate=0.013367851338545738, max_delta_step=10, max_depth=12, min_child_weight=3, n_estimators=155, reg_alpha=1.96058691506451e-09, reg_lambda=4.15266914291912e-08, scale_pos_weight=0.18808096998712068, subsample=0.9706081791515903, score=-0.313, total=   5.7s\n",
      "[CV] colsample_bylevel=0.9602898081949427, colsample_bytree=0.9790623543138794, gamma=0.15013885265576749, learning_rate=0.047881413261643295, max_delta_step=5, max_depth=7, min_child_weight=3, n_estimators=60, reg_alpha=7.619447287600697e-06, reg_lambda=0.01799115582190503, scale_pos_weight=0.0010358697811046606, subsample=0.7019349201340778 \n"
     ]
    },
    {
     "name": "stdout",
     "output_type": "stream",
     "text": [
      "[CV]  colsample_bylevel=0.9602898081949427, colsample_bytree=0.9790623543138794, gamma=0.15013885265576749, learning_rate=0.047881413261643295, max_delta_step=5, max_depth=7, min_child_weight=3, n_estimators=60, reg_alpha=7.619447287600697e-06, reg_lambda=0.01799115582190503, scale_pos_weight=0.0010358697811046606, subsample=0.7019349201340778, score=-0.630, total=   3.0s\n",
      "[CV] colsample_bylevel=0.9602898081949427, colsample_bytree=0.9790623543138794, gamma=0.15013885265576749, learning_rate=0.047881413261643295, max_delta_step=5, max_depth=7, min_child_weight=3, n_estimators=60, reg_alpha=7.619447287600697e-06, reg_lambda=0.01799115582190503, scale_pos_weight=0.0010358697811046606, subsample=0.7019349201340778 \n",
      "[CV]  colsample_bylevel=0.9602898081949427, colsample_bytree=0.9790623543138794, gamma=0.15013885265576749, learning_rate=0.047881413261643295, max_delta_step=5, max_depth=7, min_child_weight=3, n_estimators=60, reg_alpha=7.619447287600697e-06, reg_lambda=0.01799115582190503, scale_pos_weight=0.0010358697811046606, subsample=0.7019349201340778, score=-0.553, total=   3.0s\n",
      "[CV] colsample_bylevel=0.9602898081949427, colsample_bytree=0.9790623543138794, gamma=0.15013885265576749, learning_rate=0.047881413261643295, max_delta_step=5, max_depth=7, min_child_weight=3, n_estimators=60, reg_alpha=7.619447287600697e-06, reg_lambda=0.01799115582190503, scale_pos_weight=0.0010358697811046606, subsample=0.7019349201340778 \n",
      "[CV]  colsample_bylevel=0.9602898081949427, colsample_bytree=0.9790623543138794, gamma=0.15013885265576749, learning_rate=0.047881413261643295, max_delta_step=5, max_depth=7, min_child_weight=3, n_estimators=60, reg_alpha=7.619447287600697e-06, reg_lambda=0.01799115582190503, scale_pos_weight=0.0010358697811046606, subsample=0.7019349201340778, score=-0.521, total=   2.9s\n",
      "[CV] colsample_bylevel=0.9602898081949427, colsample_bytree=0.9790623543138794, gamma=0.15013885265576749, learning_rate=0.047881413261643295, max_delta_step=5, max_depth=7, min_child_weight=3, n_estimators=60, reg_alpha=7.619447287600697e-06, reg_lambda=0.01799115582190503, scale_pos_weight=0.0010358697811046606, subsample=0.7019349201340778 \n",
      "[CV]  colsample_bylevel=0.9602898081949427, colsample_bytree=0.9790623543138794, gamma=0.15013885265576749, learning_rate=0.047881413261643295, max_delta_step=5, max_depth=7, min_child_weight=3, n_estimators=60, reg_alpha=7.619447287600697e-06, reg_lambda=0.01799115582190503, scale_pos_weight=0.0010358697811046606, subsample=0.7019349201340778, score=-0.460, total=   2.9s\n",
      "[CV] colsample_bylevel=0.9602898081949427, colsample_bytree=0.9790623543138794, gamma=0.15013885265576749, learning_rate=0.047881413261643295, max_delta_step=5, max_depth=7, min_child_weight=3, n_estimators=60, reg_alpha=7.619447287600697e-06, reg_lambda=0.01799115582190503, scale_pos_weight=0.0010358697811046606, subsample=0.7019349201340778 \n",
      "[CV]  colsample_bylevel=0.9602898081949427, colsample_bytree=0.9790623543138794, gamma=0.15013885265576749, learning_rate=0.047881413261643295, max_delta_step=5, max_depth=7, min_child_weight=3, n_estimators=60, reg_alpha=7.619447287600697e-06, reg_lambda=0.01799115582190503, scale_pos_weight=0.0010358697811046606, subsample=0.7019349201340778, score=-0.614, total=   3.0s\n",
      "[CV] colsample_bylevel=0.9627980604102392, colsample_bytree=0.14316206698750417, gamma=4.042198546637113e-05, learning_rate=0.17418869218840588, max_delta_step=18, max_depth=17, min_child_weight=3, n_estimators=70, reg_alpha=0.9614007651742799, reg_lambda=38.32292133903063, scale_pos_weight=0.037406402050316805, subsample=0.8501322329922021 \n",
      "[CV]  colsample_bylevel=0.9627980604102392, colsample_bytree=0.14316206698750417, gamma=4.042198546637113e-05, learning_rate=0.17418869218840588, max_delta_step=18, max_depth=17, min_child_weight=3, n_estimators=70, reg_alpha=0.9614007651742799, reg_lambda=38.32292133903063, scale_pos_weight=0.037406402050316805, subsample=0.8501322329922021, score=0.037, total=   1.8s\n",
      "[CV] colsample_bylevel=0.9627980604102392, colsample_bytree=0.14316206698750417, gamma=4.042198546637113e-05, learning_rate=0.17418869218840588, max_delta_step=18, max_depth=17, min_child_weight=3, n_estimators=70, reg_alpha=0.9614007651742799, reg_lambda=38.32292133903063, scale_pos_weight=0.037406402050316805, subsample=0.8501322329922021 \n",
      "[CV]  colsample_bylevel=0.9627980604102392, colsample_bytree=0.14316206698750417, gamma=4.042198546637113e-05, learning_rate=0.17418869218840588, max_delta_step=18, max_depth=17, min_child_weight=3, n_estimators=70, reg_alpha=0.9614007651742799, reg_lambda=38.32292133903063, scale_pos_weight=0.037406402050316805, subsample=0.8501322329922021, score=-0.023, total=   1.7s\n",
      "[CV] colsample_bylevel=0.9627980604102392, colsample_bytree=0.14316206698750417, gamma=4.042198546637113e-05, learning_rate=0.17418869218840588, max_delta_step=18, max_depth=17, min_child_weight=3, n_estimators=70, reg_alpha=0.9614007651742799, reg_lambda=38.32292133903063, scale_pos_weight=0.037406402050316805, subsample=0.8501322329922021 \n",
      "[CV]  colsample_bylevel=0.9627980604102392, colsample_bytree=0.14316206698750417, gamma=4.042198546637113e-05, learning_rate=0.17418869218840588, max_delta_step=18, max_depth=17, min_child_weight=3, n_estimators=70, reg_alpha=0.9614007651742799, reg_lambda=38.32292133903063, scale_pos_weight=0.037406402050316805, subsample=0.8501322329922021, score=0.025, total=   1.6s\n",
      "[CV] colsample_bylevel=0.9627980604102392, colsample_bytree=0.14316206698750417, gamma=4.042198546637113e-05, learning_rate=0.17418869218840588, max_delta_step=18, max_depth=17, min_child_weight=3, n_estimators=70, reg_alpha=0.9614007651742799, reg_lambda=38.32292133903063, scale_pos_weight=0.037406402050316805, subsample=0.8501322329922021 \n",
      "[CV]  colsample_bylevel=0.9627980604102392, colsample_bytree=0.14316206698750417, gamma=4.042198546637113e-05, learning_rate=0.17418869218840588, max_delta_step=18, max_depth=17, min_child_weight=3, n_estimators=70, reg_alpha=0.9614007651742799, reg_lambda=38.32292133903063, scale_pos_weight=0.037406402050316805, subsample=0.8501322329922021, score=0.009, total=   1.6s\n",
      "[CV] colsample_bylevel=0.9627980604102392, colsample_bytree=0.14316206698750417, gamma=4.042198546637113e-05, learning_rate=0.17418869218840588, max_delta_step=18, max_depth=17, min_child_weight=3, n_estimators=70, reg_alpha=0.9614007651742799, reg_lambda=38.32292133903063, scale_pos_weight=0.037406402050316805, subsample=0.8501322329922021 \n",
      "[CV]  colsample_bylevel=0.9627980604102392, colsample_bytree=0.14316206698750417, gamma=4.042198546637113e-05, learning_rate=0.17418869218840588, max_delta_step=18, max_depth=17, min_child_weight=3, n_estimators=70, reg_alpha=0.9614007651742799, reg_lambda=38.32292133903063, scale_pos_weight=0.037406402050316805, subsample=0.8501322329922021, score=0.017, total=   1.5s\n"
     ]
    },
    {
     "name": "stderr",
     "output_type": "stream",
     "text": [
      "[Parallel(n_jobs=1)]: Done  60 out of  60 | elapsed:  3.4min finished\n"
     ]
    },
    {
     "name": "stdout",
     "output_type": "stream",
     "text": [
      "best score: 0.04303032072739401\n",
      "BEST PARAMS ARE HERE\n",
      "OrderedDict([('colsample_bylevel', 0.01), ('colsample_bytree', 1.0), ('gamma', 3.057001601438046e-06), ('learning_rate', 0.04103110180684913), ('max_delta_step', 20), ('max_depth', 17), ('min_child_weight', 1), ('n_estimators', 200), ('reg_alpha', 1.0), ('reg_lambda', 0.00020708603243493854), ('scale_pos_weight', 1e-06), ('subsample', 1.0)])\n"
     ]
    }
   ],
   "source": [
    "#optimise XGBoost model\n",
    "\n",
    "#for predicting win\n",
    "#model = param_search(x_data, y_label, 0)\n",
    "#for predicting margin\n",
    "margin_label = abs(margin_label)\n",
    "margin_model = param_search(x_data, margin_label, 1)"
   ]
  },
  {
   "cell_type": "code",
   "execution_count": 8,
   "metadata": {},
   "outputs": [],
   "source": [
    "#x = all data\n",
    "#y = label of whether home team or away team won\n",
    "#m = xgb classifier for winner prediction\n",
    "#my = labels of margins\n",
    "    #try absolute values\n",
    "#mm = xgb regressor for margin prediction\n",
    "def eval_xgb_games_margins(x, y, m, my, mm):\n",
    "    results = []\n",
    "    error = []\n",
    "    count = 0\n",
    "    best_w = m\n",
    "    high_w = 0\n",
    "    best_m = mm\n",
    "    high_m = 100\n",
    "    cv = StratifiedKFold(n_splits=10, shuffle=True)\n",
    "    for train,test in cv.split(x,y):\n",
    "        count = count + 1\n",
    "        print(\"Split: \" + str(count))\n",
    "        #comment out fit steps for random forest i guess lol\n",
    "        prediction = m.fit(x[train],y[train].ravel()).predict_proba(x[test])\n",
    "        margin_pred = mm.fit(x[train], my[train].ravel())\n",
    "        print(\"variables for auroc curve done. Processing fold accuracy + checking best model\")\n",
    "        y_pred = m.predict(x[test])\n",
    "        #print(y_pred)\n",
    "        m_pred = mm.predict(x[test])\n",
    "        #print(m_pred)\n",
    "        predictions = [round(value) for value in y_pred]\n",
    "        #sees how accurate the model was when testing the test set\n",
    "        accuracy = accuracy_score(y[test], predictions)\n",
    "        pcent = accuracy * 100.0\n",
    "       # print(\"The accuracy of this model is\" + str(pcent))\n",
    "        rmse = sqrt(mean_squared_error(m_pred, my[test]))\n",
    "       # print(\"The rmse of this model is\" + str(rmse))\n",
    "        results.append(pcent)\n",
    "        error.append(rmse)\n",
    "        #change the best model to equal current model\n",
    "        if(pcent > high_w):\n",
    "            print(\"found new best classify\")\n",
    "            best_w = m\n",
    "            high_w = pcent\n",
    "        if(rmse < high_m):\n",
    "            print(\"found best new margin\")\n",
    "            best_m = mm\n",
    "            high_m = rmse\n",
    "    print(\"Training Testing Accuracy: %.2f%% (%.2f%%)\" % (np.mean(results), np.std(results)))\n",
    "    print(\"Training Testing Margins: %.2f%% (%.2f%%)\" % (np.mean(error), np.std(error)))"
   ]
  },
  {
   "cell_type": "code",
   "execution_count": 9,
   "metadata": {},
   "outputs": [],
   "source": [
    "model = pickle.load(open(\"xgb_model.dat\", \"rb\"))\n",
    "#xgb_margin_model = pickle.load(open(\"xgb_margin_model.dat\", \"rb\"))"
   ]
  },
  {
   "cell_type": "code",
   "execution_count": 10,
   "metadata": {},
   "outputs": [
    {
     "name": "stdout",
     "output_type": "stream",
     "text": [
      "Split: 1\n",
      "variables for auroc curve done. Processing fold accuracy + checking best model\n",
      "found new best classify\n",
      "found best new margin\n",
      "Split: 2\n",
      "variables for auroc curve done. Processing fold accuracy + checking best model\n",
      "found new best classify\n",
      "found best new margin\n",
      "Split: 3\n",
      "variables for auroc curve done. Processing fold accuracy + checking best model\n",
      "Split: 4\n",
      "variables for auroc curve done. Processing fold accuracy + checking best model\n",
      "found best new margin\n",
      "Split: 5\n",
      "variables for auroc curve done. Processing fold accuracy + checking best model\n",
      "Split: 6\n",
      "variables for auroc curve done. Processing fold accuracy + checking best model\n",
      "Split: 7\n",
      "variables for auroc curve done. Processing fold accuracy + checking best model\n",
      "Split: 8\n",
      "variables for auroc curve done. Processing fold accuracy + checking best model\n",
      "Split: 9\n",
      "variables for auroc curve done. Processing fold accuracy + checking best model\n",
      "Split: 10\n",
      "variables for auroc curve done. Processing fold accuracy + checking best model\n",
      "Training Testing Accuracy: 66.05% (2.26%)\n",
      "Training Testing Margins: 25.86% (1.15%)\n"
     ]
    }
   ],
   "source": [
    "eval_xgb_games_margins(x_data, y_label, model, margin_label, margin_model)"
   ]
  },
  {
   "cell_type": "code",
   "execution_count": 27,
   "metadata": {},
   "outputs": [],
   "source": [
    "from sklearn.ensemble import *\n",
    "\n",
    "#random forest models\n",
    "#rf_model = RandomForestClassifier(max_depth=2, random_state=0)\n",
    "rf_margin_model = RandomForestRegressor(max_depth=2, random_state=0)\n",
    "\n",
    "#SVM\n",
    "from sklearn.svm import SVC\n",
    "from sklearn.svm import SVR\n",
    "svm_model = SVC(gamma='auto', probability=True)\n",
    "svm_margin_model = SVR(kernel = 'rbf')\n",
    "\n",
    "#BNB\n",
    "from sklearn.naive_bayes import BernoulliNB\n",
    "bnb_model = BernoulliNB()"
   ]
  },
  {
   "cell_type": "code",
   "execution_count": 23,
   "metadata": {},
   "outputs": [
    {
     "name": "stdout",
     "output_type": "stream",
     "text": [
      "Fitting 10 folds for each of 100 candidates, totalling 1000 fits\n"
     ]
    },
    {
     "name": "stderr",
     "output_type": "stream",
     "text": [
      "[Parallel(n_jobs=-1)]: Using backend LokyBackend with 8 concurrent workers.\n",
      "[Parallel(n_jobs=-1)]: Done  25 tasks      | elapsed:  3.2min\n",
      "[Parallel(n_jobs=-1)]: Done 146 tasks      | elapsed: 20.9min\n",
      "[Parallel(n_jobs=-1)]: Done 349 tasks      | elapsed: 50.4min\n",
      "[Parallel(n_jobs=-1)]: Done 632 tasks      | elapsed: 81.5min\n",
      "[Parallel(n_jobs=-1)]: Done 1000 out of 1000 | elapsed: 124.1min finished\n"
     ]
    },
    {
     "name": "stdout",
     "output_type": "stream",
     "text": [
      "Fitting 10 folds for each of 100 candidates, totalling 1000 fits\n"
     ]
    },
    {
     "name": "stderr",
     "output_type": "stream",
     "text": [
      "[Parallel(n_jobs=-1)]: Using backend LokyBackend with 8 concurrent workers.\n",
      "[Parallel(n_jobs=-1)]: Done  25 tasks      | elapsed:  3.0min\n",
      "ERROR:root:Internal Python error in the inspect module.\n",
      "Below is the traceback from this internal error.\n",
      "\n"
     ]
    },
    {
     "name": "stdout",
     "output_type": "stream",
     "text": [
      "Traceback (most recent call last):\n",
      "  File \"/home/chris/anaconda3/lib/python3.8/site-packages/IPython/core/interactiveshell.py\", line 3418, in run_code\n",
      "    exec(code_obj, self.user_global_ns, self.user_ns)\n",
      "  File \"<ipython-input-23-192914c5fafe>\", line 31, in <module>\n",
      "    rf_margin_model.fit(x_data, margin_label)\n",
      "  File \"/home/chris/anaconda3/lib/python3.8/site-packages/sklearn/model_selection/_search.py\", line 710, in fit\n",
      "    self._run_search(evaluate_candidates)\n",
      "  File \"/home/chris/anaconda3/lib/python3.8/site-packages/sklearn/model_selection/_search.py\", line 1482, in _run_search\n",
      "    evaluate_candidates(ParameterSampler(\n",
      "  File \"/home/chris/anaconda3/lib/python3.8/site-packages/sklearn/model_selection/_search.py\", line 682, in evaluate_candidates\n",
      "    out = parallel(delayed(_fit_and_score)(clone(base_estimator),\n",
      "  File \"/home/chris/anaconda3/lib/python3.8/site-packages/joblib/parallel.py\", line 1054, in __call__\n",
      "    self.retrieve()\n",
      "  File \"/home/chris/anaconda3/lib/python3.8/site-packages/joblib/parallel.py\", line 933, in retrieve\n",
      "    self._output.extend(job.get(timeout=self.timeout))\n",
      "  File \"/home/chris/anaconda3/lib/python3.8/site-packages/joblib/_parallel_backends.py\", line 542, in wrap_future_result\n",
      "    return future.result(timeout=timeout)\n",
      "  File \"/home/chris/anaconda3/lib/python3.8/concurrent/futures/_base.py\", line 434, in result\n",
      "    self._condition.wait(timeout)\n",
      "  File \"/home/chris/anaconda3/lib/python3.8/threading.py\", line 302, in wait\n",
      "    waiter.acquire()\n",
      "KeyboardInterrupt\n",
      "\n",
      "During handling of the above exception, another exception occurred:\n",
      "\n",
      "Traceback (most recent call last):\n",
      "  File \"/home/chris/anaconda3/lib/python3.8/site-packages/IPython/core/interactiveshell.py\", line 2045, in showtraceback\n",
      "    stb = value._render_traceback_()\n",
      "AttributeError: 'KeyboardInterrupt' object has no attribute '_render_traceback_'\n",
      "\n",
      "During handling of the above exception, another exception occurred:\n",
      "\n",
      "Traceback (most recent call last):\n",
      "  File \"/home/chris/anaconda3/lib/python3.8/site-packages/IPython/core/ultratb.py\", line 1170, in get_records\n",
      "    return _fixed_getinnerframes(etb, number_of_lines_of_context, tb_offset)\n",
      "  File \"/home/chris/anaconda3/lib/python3.8/site-packages/IPython/core/ultratb.py\", line 316, in wrapped\n",
      "    return f(*args, **kwargs)\n",
      "  File \"/home/chris/anaconda3/lib/python3.8/site-packages/IPython/core/ultratb.py\", line 350, in _fixed_getinnerframes\n",
      "    records = fix_frame_records_filenames(inspect.getinnerframes(etb, context))\n",
      "  File \"/home/chris/anaconda3/lib/python3.8/inspect.py\", line 1503, in getinnerframes\n",
      "    frameinfo = (tb.tb_frame,) + getframeinfo(tb, context)\n",
      "  File \"/home/chris/anaconda3/lib/python3.8/inspect.py\", line 1461, in getframeinfo\n",
      "    filename = getsourcefile(frame) or getfile(frame)\n",
      "  File \"/home/chris/anaconda3/lib/python3.8/inspect.py\", line 708, in getsourcefile\n",
      "    if getattr(getmodule(object, filename), '__loader__', None) is not None:\n",
      "  File \"/home/chris/anaconda3/lib/python3.8/inspect.py\", line 744, in getmodule\n",
      "    for modname, module in sys.modules.copy().items():\n",
      "KeyboardInterrupt\n"
     ]
    },
    {
     "ename": "TypeError",
     "evalue": "object of type 'NoneType' has no len()",
     "output_type": "error",
     "traceback": [
      "\u001b[0;31m---------------------------------------------------------------------------\u001b[0m",
      "\u001b[0;31mKeyboardInterrupt\u001b[0m                         Traceback (most recent call last)",
      "    \u001b[0;31m[... skipping hidden 1 frame]\u001b[0m\n",
      "\u001b[0;32m<ipython-input-23-192914c5fafe>\u001b[0m in \u001b[0;36m<module>\u001b[0;34m\u001b[0m\n\u001b[1;32m     30\u001b[0m \u001b[0;31m# Fit the random search model\u001b[0m\u001b[0;34m\u001b[0m\u001b[0;34m\u001b[0m\u001b[0;34m\u001b[0m\u001b[0m\n\u001b[0;32m---> 31\u001b[0;31m \u001b[0mrf_margin_model\u001b[0m\u001b[0;34m.\u001b[0m\u001b[0mfit\u001b[0m\u001b[0;34m(\u001b[0m\u001b[0mx_data\u001b[0m\u001b[0;34m,\u001b[0m \u001b[0mmargin_label\u001b[0m\u001b[0;34m)\u001b[0m\u001b[0;34m\u001b[0m\u001b[0;34m\u001b[0m\u001b[0m\n\u001b[0m",
      "\u001b[0;32m~/anaconda3/lib/python3.8/site-packages/sklearn/model_selection/_search.py\u001b[0m in \u001b[0;36mfit\u001b[0;34m(self, X, y, groups, **fit_params)\u001b[0m\n\u001b[1;32m    709\u001b[0m \u001b[0;34m\u001b[0m\u001b[0m\n\u001b[0;32m--> 710\u001b[0;31m             \u001b[0mself\u001b[0m\u001b[0;34m.\u001b[0m\u001b[0m_run_search\u001b[0m\u001b[0;34m(\u001b[0m\u001b[0mevaluate_candidates\u001b[0m\u001b[0;34m)\u001b[0m\u001b[0;34m\u001b[0m\u001b[0;34m\u001b[0m\u001b[0m\n\u001b[0m\u001b[1;32m    711\u001b[0m \u001b[0;34m\u001b[0m\u001b[0m\n",
      "\u001b[0;32m~/anaconda3/lib/python3.8/site-packages/sklearn/model_selection/_search.py\u001b[0m in \u001b[0;36m_run_search\u001b[0;34m(self, evaluate_candidates)\u001b[0m\n\u001b[1;32m   1481\u001b[0m         \u001b[0;34m\"\"\"Search n_iter candidates from param_distributions\"\"\"\u001b[0m\u001b[0;34m\u001b[0m\u001b[0;34m\u001b[0m\u001b[0m\n\u001b[0;32m-> 1482\u001b[0;31m         evaluate_candidates(ParameterSampler(\n\u001b[0m\u001b[1;32m   1483\u001b[0m             \u001b[0mself\u001b[0m\u001b[0;34m.\u001b[0m\u001b[0mparam_distributions\u001b[0m\u001b[0;34m,\u001b[0m \u001b[0mself\u001b[0m\u001b[0;34m.\u001b[0m\u001b[0mn_iter\u001b[0m\u001b[0;34m,\u001b[0m\u001b[0;34m\u001b[0m\u001b[0;34m\u001b[0m\u001b[0m\n",
      "\u001b[0;32m~/anaconda3/lib/python3.8/site-packages/sklearn/model_selection/_search.py\u001b[0m in \u001b[0;36mevaluate_candidates\u001b[0;34m(candidate_params)\u001b[0m\n\u001b[1;32m    681\u001b[0m \u001b[0;34m\u001b[0m\u001b[0m\n\u001b[0;32m--> 682\u001b[0;31m                 out = parallel(delayed(_fit_and_score)(clone(base_estimator),\n\u001b[0m\u001b[1;32m    683\u001b[0m                                                        \u001b[0mX\u001b[0m\u001b[0;34m,\u001b[0m \u001b[0my\u001b[0m\u001b[0;34m,\u001b[0m\u001b[0;34m\u001b[0m\u001b[0;34m\u001b[0m\u001b[0m\n",
      "\u001b[0;32m~/anaconda3/lib/python3.8/site-packages/joblib/parallel.py\u001b[0m in \u001b[0;36m__call__\u001b[0;34m(self, iterable)\u001b[0m\n\u001b[1;32m   1053\u001b[0m             \u001b[0;32mwith\u001b[0m \u001b[0mself\u001b[0m\u001b[0;34m.\u001b[0m\u001b[0m_backend\u001b[0m\u001b[0;34m.\u001b[0m\u001b[0mretrieval_context\u001b[0m\u001b[0;34m(\u001b[0m\u001b[0;34m)\u001b[0m\u001b[0;34m:\u001b[0m\u001b[0;34m\u001b[0m\u001b[0;34m\u001b[0m\u001b[0m\n\u001b[0;32m-> 1054\u001b[0;31m                 \u001b[0mself\u001b[0m\u001b[0;34m.\u001b[0m\u001b[0mretrieve\u001b[0m\u001b[0;34m(\u001b[0m\u001b[0;34m)\u001b[0m\u001b[0;34m\u001b[0m\u001b[0;34m\u001b[0m\u001b[0m\n\u001b[0m\u001b[1;32m   1055\u001b[0m             \u001b[0;31m# Make sure that we get a last message telling us we are done\u001b[0m\u001b[0;34m\u001b[0m\u001b[0;34m\u001b[0m\u001b[0;34m\u001b[0m\u001b[0m\n",
      "\u001b[0;32m~/anaconda3/lib/python3.8/site-packages/joblib/parallel.py\u001b[0m in \u001b[0;36mretrieve\u001b[0;34m(self)\u001b[0m\n\u001b[1;32m    932\u001b[0m                 \u001b[0;32mif\u001b[0m \u001b[0mgetattr\u001b[0m\u001b[0;34m(\u001b[0m\u001b[0mself\u001b[0m\u001b[0;34m.\u001b[0m\u001b[0m_backend\u001b[0m\u001b[0;34m,\u001b[0m \u001b[0;34m'supports_timeout'\u001b[0m\u001b[0;34m,\u001b[0m \u001b[0;32mFalse\u001b[0m\u001b[0;34m)\u001b[0m\u001b[0;34m:\u001b[0m\u001b[0;34m\u001b[0m\u001b[0;34m\u001b[0m\u001b[0m\n\u001b[0;32m--> 933\u001b[0;31m                     \u001b[0mself\u001b[0m\u001b[0;34m.\u001b[0m\u001b[0m_output\u001b[0m\u001b[0;34m.\u001b[0m\u001b[0mextend\u001b[0m\u001b[0;34m(\u001b[0m\u001b[0mjob\u001b[0m\u001b[0;34m.\u001b[0m\u001b[0mget\u001b[0m\u001b[0;34m(\u001b[0m\u001b[0mtimeout\u001b[0m\u001b[0;34m=\u001b[0m\u001b[0mself\u001b[0m\u001b[0;34m.\u001b[0m\u001b[0mtimeout\u001b[0m\u001b[0;34m)\u001b[0m\u001b[0;34m)\u001b[0m\u001b[0;34m\u001b[0m\u001b[0;34m\u001b[0m\u001b[0m\n\u001b[0m\u001b[1;32m    934\u001b[0m                 \u001b[0;32melse\u001b[0m\u001b[0;34m:\u001b[0m\u001b[0;34m\u001b[0m\u001b[0;34m\u001b[0m\u001b[0m\n",
      "\u001b[0;32m~/anaconda3/lib/python3.8/site-packages/joblib/_parallel_backends.py\u001b[0m in \u001b[0;36mwrap_future_result\u001b[0;34m(future, timeout)\u001b[0m\n\u001b[1;32m    541\u001b[0m         \u001b[0;32mtry\u001b[0m\u001b[0;34m:\u001b[0m\u001b[0;34m\u001b[0m\u001b[0;34m\u001b[0m\u001b[0m\n\u001b[0;32m--> 542\u001b[0;31m             \u001b[0;32mreturn\u001b[0m \u001b[0mfuture\u001b[0m\u001b[0;34m.\u001b[0m\u001b[0mresult\u001b[0m\u001b[0;34m(\u001b[0m\u001b[0mtimeout\u001b[0m\u001b[0;34m=\u001b[0m\u001b[0mtimeout\u001b[0m\u001b[0;34m)\u001b[0m\u001b[0;34m\u001b[0m\u001b[0;34m\u001b[0m\u001b[0m\n\u001b[0m\u001b[1;32m    543\u001b[0m         \u001b[0;32mexcept\u001b[0m \u001b[0mCfTimeoutError\u001b[0m \u001b[0;32mas\u001b[0m \u001b[0me\u001b[0m\u001b[0;34m:\u001b[0m\u001b[0;34m\u001b[0m\u001b[0;34m\u001b[0m\u001b[0m\n",
      "\u001b[0;32m~/anaconda3/lib/python3.8/concurrent/futures/_base.py\u001b[0m in \u001b[0;36mresult\u001b[0;34m(self, timeout)\u001b[0m\n\u001b[1;32m    433\u001b[0m \u001b[0;34m\u001b[0m\u001b[0m\n\u001b[0;32m--> 434\u001b[0;31m             \u001b[0mself\u001b[0m\u001b[0;34m.\u001b[0m\u001b[0m_condition\u001b[0m\u001b[0;34m.\u001b[0m\u001b[0mwait\u001b[0m\u001b[0;34m(\u001b[0m\u001b[0mtimeout\u001b[0m\u001b[0;34m)\u001b[0m\u001b[0;34m\u001b[0m\u001b[0;34m\u001b[0m\u001b[0m\n\u001b[0m\u001b[1;32m    435\u001b[0m \u001b[0;34m\u001b[0m\u001b[0m\n",
      "\u001b[0;32m~/anaconda3/lib/python3.8/threading.py\u001b[0m in \u001b[0;36mwait\u001b[0;34m(self, timeout)\u001b[0m\n\u001b[1;32m    301\u001b[0m             \u001b[0;32mif\u001b[0m \u001b[0mtimeout\u001b[0m \u001b[0;32mis\u001b[0m \u001b[0;32mNone\u001b[0m\u001b[0;34m:\u001b[0m\u001b[0;34m\u001b[0m\u001b[0;34m\u001b[0m\u001b[0m\n\u001b[0;32m--> 302\u001b[0;31m                 \u001b[0mwaiter\u001b[0m\u001b[0;34m.\u001b[0m\u001b[0macquire\u001b[0m\u001b[0;34m(\u001b[0m\u001b[0;34m)\u001b[0m\u001b[0;34m\u001b[0m\u001b[0;34m\u001b[0m\u001b[0m\n\u001b[0m\u001b[1;32m    303\u001b[0m                 \u001b[0mgotit\u001b[0m \u001b[0;34m=\u001b[0m \u001b[0;32mTrue\u001b[0m\u001b[0;34m\u001b[0m\u001b[0;34m\u001b[0m\u001b[0m\n",
      "\u001b[0;31mKeyboardInterrupt\u001b[0m: ",
      "\nDuring handling of the above exception, another exception occurred:\n",
      "\u001b[0;31mAttributeError\u001b[0m                            Traceback (most recent call last)",
      "\u001b[0;32m~/anaconda3/lib/python3.8/site-packages/IPython/core/interactiveshell.py\u001b[0m in \u001b[0;36mshowtraceback\u001b[0;34m(self, exc_tuple, filename, tb_offset, exception_only, running_compiled_code)\u001b[0m\n\u001b[1;32m   2044\u001b[0m                         \u001b[0;31m# in the engines. This should return a list of strings.\u001b[0m\u001b[0;34m\u001b[0m\u001b[0;34m\u001b[0m\u001b[0;34m\u001b[0m\u001b[0m\n\u001b[0;32m-> 2045\u001b[0;31m                         \u001b[0mstb\u001b[0m \u001b[0;34m=\u001b[0m \u001b[0mvalue\u001b[0m\u001b[0;34m.\u001b[0m\u001b[0m_render_traceback_\u001b[0m\u001b[0;34m(\u001b[0m\u001b[0;34m)\u001b[0m\u001b[0;34m\u001b[0m\u001b[0;34m\u001b[0m\u001b[0m\n\u001b[0m\u001b[1;32m   2046\u001b[0m                     \u001b[0;32mexcept\u001b[0m \u001b[0mException\u001b[0m\u001b[0;34m:\u001b[0m\u001b[0;34m\u001b[0m\u001b[0;34m\u001b[0m\u001b[0m\n",
      "\u001b[0;31mAttributeError\u001b[0m: 'KeyboardInterrupt' object has no attribute '_render_traceback_'",
      "\nDuring handling of the above exception, another exception occurred:\n",
      "\u001b[0;31mTypeError\u001b[0m                                 Traceback (most recent call last)",
      "    \u001b[0;31m[... skipping hidden 1 frame]\u001b[0m\n",
      "\u001b[0;32m~/anaconda3/lib/python3.8/site-packages/IPython/core/interactiveshell.py\u001b[0m in \u001b[0;36mshowtraceback\u001b[0;34m(self, exc_tuple, filename, tb_offset, exception_only, running_compiled_code)\u001b[0m\n\u001b[1;32m   2045\u001b[0m                         \u001b[0mstb\u001b[0m \u001b[0;34m=\u001b[0m \u001b[0mvalue\u001b[0m\u001b[0;34m.\u001b[0m\u001b[0m_render_traceback_\u001b[0m\u001b[0;34m(\u001b[0m\u001b[0;34m)\u001b[0m\u001b[0;34m\u001b[0m\u001b[0;34m\u001b[0m\u001b[0m\n\u001b[1;32m   2046\u001b[0m                     \u001b[0;32mexcept\u001b[0m \u001b[0mException\u001b[0m\u001b[0;34m:\u001b[0m\u001b[0;34m\u001b[0m\u001b[0;34m\u001b[0m\u001b[0m\n\u001b[0;32m-> 2047\u001b[0;31m                         stb = self.InteractiveTB.structured_traceback(etype,\n\u001b[0m\u001b[1;32m   2048\u001b[0m                                             value, tb, tb_offset=tb_offset)\n\u001b[1;32m   2049\u001b[0m \u001b[0;34m\u001b[0m\u001b[0m\n",
      "\u001b[0;32m~/anaconda3/lib/python3.8/site-packages/IPython/core/ultratb.py\u001b[0m in \u001b[0;36mstructured_traceback\u001b[0;34m(self, etype, value, tb, tb_offset, number_of_lines_of_context)\u001b[0m\n\u001b[1;32m   1434\u001b[0m         \u001b[0;32melse\u001b[0m\u001b[0;34m:\u001b[0m\u001b[0;34m\u001b[0m\u001b[0;34m\u001b[0m\u001b[0m\n\u001b[1;32m   1435\u001b[0m             \u001b[0mself\u001b[0m\u001b[0;34m.\u001b[0m\u001b[0mtb\u001b[0m \u001b[0;34m=\u001b[0m \u001b[0mtb\u001b[0m\u001b[0;34m\u001b[0m\u001b[0;34m\u001b[0m\u001b[0m\n\u001b[0;32m-> 1436\u001b[0;31m         return FormattedTB.structured_traceback(\n\u001b[0m\u001b[1;32m   1437\u001b[0m             self, etype, value, tb, tb_offset, number_of_lines_of_context)\n\u001b[1;32m   1438\u001b[0m \u001b[0;34m\u001b[0m\u001b[0m\n",
      "\u001b[0;32m~/anaconda3/lib/python3.8/site-packages/IPython/core/ultratb.py\u001b[0m in \u001b[0;36mstructured_traceback\u001b[0;34m(self, etype, value, tb, tb_offset, number_of_lines_of_context)\u001b[0m\n\u001b[1;32m   1334\u001b[0m         \u001b[0;32mif\u001b[0m \u001b[0mmode\u001b[0m \u001b[0;32min\u001b[0m \u001b[0mself\u001b[0m\u001b[0;34m.\u001b[0m\u001b[0mverbose_modes\u001b[0m\u001b[0;34m:\u001b[0m\u001b[0;34m\u001b[0m\u001b[0;34m\u001b[0m\u001b[0m\n\u001b[1;32m   1335\u001b[0m             \u001b[0;31m# Verbose modes need a full traceback\u001b[0m\u001b[0;34m\u001b[0m\u001b[0;34m\u001b[0m\u001b[0;34m\u001b[0m\u001b[0m\n\u001b[0;32m-> 1336\u001b[0;31m             return VerboseTB.structured_traceback(\n\u001b[0m\u001b[1;32m   1337\u001b[0m                 \u001b[0mself\u001b[0m\u001b[0;34m,\u001b[0m \u001b[0metype\u001b[0m\u001b[0;34m,\u001b[0m \u001b[0mvalue\u001b[0m\u001b[0;34m,\u001b[0m \u001b[0mtb\u001b[0m\u001b[0;34m,\u001b[0m \u001b[0mtb_offset\u001b[0m\u001b[0;34m,\u001b[0m \u001b[0mnumber_of_lines_of_context\u001b[0m\u001b[0;34m\u001b[0m\u001b[0;34m\u001b[0m\u001b[0m\n\u001b[1;32m   1338\u001b[0m             )\n",
      "\u001b[0;32m~/anaconda3/lib/python3.8/site-packages/IPython/core/ultratb.py\u001b[0m in \u001b[0;36mstructured_traceback\u001b[0;34m(self, etype, evalue, etb, tb_offset, number_of_lines_of_context)\u001b[0m\n\u001b[1;32m   1191\u001b[0m         \u001b[0;34m\"\"\"Return a nice text document describing the traceback.\"\"\"\u001b[0m\u001b[0;34m\u001b[0m\u001b[0;34m\u001b[0m\u001b[0m\n\u001b[1;32m   1192\u001b[0m \u001b[0;34m\u001b[0m\u001b[0m\n\u001b[0;32m-> 1193\u001b[0;31m         formatted_exception = self.format_exception_as_a_whole(etype, evalue, etb, number_of_lines_of_context,\n\u001b[0m\u001b[1;32m   1194\u001b[0m                                                                tb_offset)\n\u001b[1;32m   1195\u001b[0m \u001b[0;34m\u001b[0m\u001b[0m\n",
      "\u001b[0;32m~/anaconda3/lib/python3.8/site-packages/IPython/core/ultratb.py\u001b[0m in \u001b[0;36mformat_exception_as_a_whole\u001b[0;34m(self, etype, evalue, etb, number_of_lines_of_context, tb_offset)\u001b[0m\n\u001b[1;32m   1149\u001b[0m \u001b[0;34m\u001b[0m\u001b[0m\n\u001b[1;32m   1150\u001b[0m \u001b[0;34m\u001b[0m\u001b[0m\n\u001b[0;32m-> 1151\u001b[0;31m         \u001b[0mlast_unique\u001b[0m\u001b[0;34m,\u001b[0m \u001b[0mrecursion_repeat\u001b[0m \u001b[0;34m=\u001b[0m \u001b[0mfind_recursion\u001b[0m\u001b[0;34m(\u001b[0m\u001b[0morig_etype\u001b[0m\u001b[0;34m,\u001b[0m \u001b[0mevalue\u001b[0m\u001b[0;34m,\u001b[0m \u001b[0mrecords\u001b[0m\u001b[0;34m)\u001b[0m\u001b[0;34m\u001b[0m\u001b[0;34m\u001b[0m\u001b[0m\n\u001b[0m\u001b[1;32m   1152\u001b[0m \u001b[0;34m\u001b[0m\u001b[0m\n\u001b[1;32m   1153\u001b[0m         \u001b[0mframes\u001b[0m \u001b[0;34m=\u001b[0m \u001b[0mself\u001b[0m\u001b[0;34m.\u001b[0m\u001b[0mformat_records\u001b[0m\u001b[0;34m(\u001b[0m\u001b[0mrecords\u001b[0m\u001b[0;34m,\u001b[0m \u001b[0mlast_unique\u001b[0m\u001b[0;34m,\u001b[0m \u001b[0mrecursion_repeat\u001b[0m\u001b[0;34m)\u001b[0m\u001b[0;34m\u001b[0m\u001b[0;34m\u001b[0m\u001b[0m\n",
      "\u001b[0;32m~/anaconda3/lib/python3.8/site-packages/IPython/core/ultratb.py\u001b[0m in \u001b[0;36mfind_recursion\u001b[0;34m(etype, value, records)\u001b[0m\n\u001b[1;32m    449\u001b[0m     \u001b[0;31m# first frame (from in to out) that looks different.\u001b[0m\u001b[0;34m\u001b[0m\u001b[0;34m\u001b[0m\u001b[0;34m\u001b[0m\u001b[0m\n\u001b[1;32m    450\u001b[0m     \u001b[0;32mif\u001b[0m \u001b[0;32mnot\u001b[0m \u001b[0mis_recursion_error\u001b[0m\u001b[0;34m(\u001b[0m\u001b[0metype\u001b[0m\u001b[0;34m,\u001b[0m \u001b[0mvalue\u001b[0m\u001b[0;34m,\u001b[0m \u001b[0mrecords\u001b[0m\u001b[0;34m)\u001b[0m\u001b[0;34m:\u001b[0m\u001b[0;34m\u001b[0m\u001b[0;34m\u001b[0m\u001b[0m\n\u001b[0;32m--> 451\u001b[0;31m         \u001b[0;32mreturn\u001b[0m \u001b[0mlen\u001b[0m\u001b[0;34m(\u001b[0m\u001b[0mrecords\u001b[0m\u001b[0;34m)\u001b[0m\u001b[0;34m,\u001b[0m \u001b[0;36m0\u001b[0m\u001b[0;34m\u001b[0m\u001b[0;34m\u001b[0m\u001b[0m\n\u001b[0m\u001b[1;32m    452\u001b[0m \u001b[0;34m\u001b[0m\u001b[0m\n\u001b[1;32m    453\u001b[0m     \u001b[0;31m# Select filename, lineno, func_name to track frames with\u001b[0m\u001b[0;34m\u001b[0m\u001b[0;34m\u001b[0m\u001b[0;34m\u001b[0m\u001b[0m\n",
      "\u001b[0;31mTypeError\u001b[0m: object of type 'NoneType' has no len()"
     ]
    }
   ],
   "source": [
    "from sklearn.model_selection import RandomizedSearchCV\n",
    "#optimise rf models\n",
    "# Number of trees in random forest\n",
    "n_estimators = [int(x) for x in np.linspace(start = 200, stop = 2000, num = 10)]\n",
    "# Number of features to consider at every split\n",
    "max_features = ['auto', 'sqrt']\n",
    "# Maximum number of levels in tree\n",
    "max_depth = [int(x) for x in np.linspace(10, 110, num = 11)]\n",
    "max_depth.append(None)\n",
    "# Minimum number of samples required to split a node\n",
    "min_samples_split = [2, 5, 10]\n",
    "# Minimum number of samples required at each leaf node\n",
    "min_samples_leaf = [1, 2, 4]\n",
    "# Method of selecting samples for training each tree\n",
    "bootstrap = [True, False]# Create the random grid\n",
    "random_grid = {'n_estimators': n_estimators,\n",
    "               'max_features': max_features,\n",
    "               'max_depth': max_depth,\n",
    "               'min_samples_split': min_samples_split,\n",
    "               'min_samples_leaf': min_samples_leaf,\n",
    "               'bootstrap': bootstrap}\n",
    "\n",
    "rf_model = RandomizedSearchCV(estimator = rf_model, param_distributions = random_grid, n_iter = 100, cv = 10, verbose=2, random_state=42, n_jobs = -1)\n",
    "\n",
    "\n",
    "#TRAIN TEST SPLIT HERE 80:20\n",
    "\n",
    "# Fit the random search model\n",
    "#CHANGE TO X_TRAIN etc.\n",
    "rf_model.fit(x_data, y_label)\n",
    "\n",
    "#do the usual test eval here\n",
    "\n",
    "\n",
    "rf_margin_model = RandomizedSearchCV(estimator = rf_margin_model, param_distributions = random_grid, n_iter = 100, cv = 10, verbose=2, random_state=42, n_jobs = -1)\n",
    "\n",
    "# Fit the random search model\n",
    "rf_margin_model.fit(x_data, margin_label)"
   ]
  },
  {
   "cell_type": "code",
   "execution_count": null,
   "metadata": {},
   "outputs": [],
   "source": [
    "def build_DNN_model(x_len):\n",
    "    model = Sequential()\n",
    "    model.add(Dense(63, input_dim = x_len))\n",
    "    model.add(Activation('relu'))\n",
    "    model.add(Dropout(0.03))\n",
    "    model.add(BatchNormalization())\n",
    "\n",
    "    model.add(Dense(32))\n",
    "    model.add(Activation('relu'))\n",
    "    model.add(Dropout(0.02))\n",
    "\n",
    "    model.add(Dense(16))\n",
    "    model.add(Activation('relu'))\n",
    "\n",
    "    model.add(Dense(8))\n",
    "    model.add(Activation('relu'))\n",
    "    #add output layer\n",
    "    model.add(Dense(1, activation='linear'))\n",
    "    opt = tf.keras.optimizers.Adamax(learning_rate=0.003)\n",
    "\n",
    "    model.compile(loss=\"mean_squared_error\", optimizer=opt, metrics=[tf.keras.metrics.RootMeanSquaredError()])\n",
    "    print(model.summary())\n",
    "    return model"
   ]
  },
  {
   "cell_type": "code",
   "execution_count": null,
   "metadata": {},
   "outputs": [],
   "source": [
    "def build_CNN_model(x_len):\n",
    "    #del model\n",
    "    model = Sequential()\n",
    "    model.add(Conv1D(filters=32, kernel_size=14,\n",
    "                     input_shape=(x_len, 1)))\n",
    "    model.add(Activation('relu'))\n",
    "    model.add(Dropout(0.2))\n",
    "    model.add(Conv1D(filters=16, kernel_size=10,\n",
    "                     input_shape=(32, 1)))\n",
    "    model.add(Activation('linear'))\n",
    "    model.add(Dropout(0.1))\n",
    "    model.add(Conv1D(filters=10, kernel_size=8,\n",
    "                     input_shape=(16, 1)))\n",
    "    model.add(Activation('linear'))\n",
    "    model.add(MaxPooling1D(pool_size=2))\n",
    "    model.add(BatchNormalization())\n",
    "    model.add(Flatten())\n",
    "    model.add(Dense(64, activation='linear'))\n",
    "    model.add(Dense(32, activation='linear'))\n",
    "    model.add(Dense(16, activation='linear'))\n",
    "    model.add(BatchNormalization())\n",
    "    model.add(Dense(1, activation='linear'))\n",
    "    opt = tf.keras.optimizers.Adamax(learning_rate=0.003)#, beta_1=0.9, beta_2=0.999, epsilon=1e-07, name=\"Adamax\"\n",
    "\n",
    "\n",
    "    model.compile(loss=\"mean_squared_error\", optimizer=opt, metrics=[tf.keras.metrics.RootMeanSquaredError()])\n",
    "\n",
    "    print(model.summary())\n",
    "    return model"
   ]
  },
  {
   "cell_type": "code",
   "execution_count": null,
   "metadata": {},
   "outputs": [],
   "source": [
    "#flag = 0 (DNN)\n",
    "#flag = 1 (CNN)\n",
    "def eval_dl(x,y,k,flag):\n",
    "    cv = StratifiedKFold(n_splits=k,shuffle=True)\n",
    "    best_model = []\n",
    "    results = []\n",
    "    highest = 0\n",
    "    i = 1\n",
    "    for train,test in cv.split(x,y):\n",
    "        if(flag == 0):\n",
    "            model = build_DNN_model(x[train].shape[1])\n",
    "        if(flag == 1):\n",
    "            x = x.reshape(x.shape[0], x.shape[1], 1)\n",
    "            model = build_CNN_model(x[train].shape[1])\n",
    "        bs = ((x[train].shape[0])/20)\n",
    "        bs = round(bs)\n",
    "        history = model.fit(x[train], y[train], validation_data=(x[test], y[test]), epochs = 50, batch_size=bs)\n",
    "        _, accuracy = model.evaluate(x[test], y[test], batch_size=bs, verbose=0)\n",
    "        accuracy = accuracy * 100\n",
    "        print(\"accuracy for model \" + str(i) + \" is \" + str(accuracy))\n",
    "        if(accuracy > highest):\n",
    "            highest = accuracy\n",
    "            best_model = model\n",
    "        results.append(accuracy)\n",
    "        i = i + 1\n",
    "    print(\"highest accuracy is: \" + str(highest))\n",
    "    print(\"Training Testing Accuracy: %.2f%% (%.2f%%)\" % (np.mean(results), np.std(results)))\n",
    "    return best_model"
   ]
  }
 ],
 "metadata": {
  "kernelspec": {
   "display_name": "Python 3",
   "language": "python",
   "name": "python3"
  },
  "language_info": {
   "codemirror_mode": {
    "name": "ipython",
    "version": 3
   },
   "file_extension": ".py",
   "mimetype": "text/x-python",
   "name": "python",
   "nbconvert_exporter": "python",
   "pygments_lexer": "ipython3",
   "version": "3.8.5"
  }
 },
 "nbformat": 4,
 "nbformat_minor": 4
}
