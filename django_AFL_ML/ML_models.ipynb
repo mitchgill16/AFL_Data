{
 "cells": [
  {
   "cell_type": "code",
   "execution_count": null,
   "metadata": {},
   "outputs": [],
   "source": [
    "###Models to do\n",
    "# models on cleaned data\n",
    "# models on averages/trend data\n",
    "# models on new data (eg. PAV, ladder, ohe venue)\n",
    "    #make sure to include absolute margin when testing and evaluating these\n",
    "    #keep track in excel?\n",
    "# lazy predict"
   ]
  },
  {
   "cell_type": "code",
   "execution_count": 1,
   "metadata": {},
   "outputs": [
    {
     "name": "stderr",
     "output_type": "stream",
     "text": [
      "/home/chris/anaconda3/lib/python3.8/site-packages/xgboost/compat.py:93: FutureWarning: pandas.Int64Index is deprecated and will be removed from pandas in a future version. Use pandas.Index with the appropriate dtype instead.\n",
      "  from pandas import MultiIndex, Int64Index\n"
     ]
    },
    {
     "name": "stdout",
     "output_type": "stream",
     "text": [
      "2.2.0\n",
      "2.4.3\n"
     ]
    }
   ],
   "source": [
    "import re\n",
    "import xgboost as xgb\n",
    "import tensorflow as tf; print(tf.__version__)\n",
    "import keras; print(keras.__version__)\n",
    "#import torch.nn as nn\n",
    "#import touch.nn.functional as F\n",
    "import pandas as pd\n",
    "import numpy as np\n",
    "from sklearn.model_selection import train_test_split\n",
    "from sklearn.metrics import accuracy_score\n",
    "from random import randint\n",
    "from Gather_AFL_Data import gatherer as gad\n",
    "#from fdnn import feature_extractor as fex\n",
    "import skopt\n",
    "from skopt.searchcv import BayesSearchCV\n",
    "from skopt.space import Real, Categorical, Integer\n",
    "from sklearn.model_selection import StratifiedKFold\n",
    "import pickle\n",
    "from sklearn.preprocessing import OneHotEncoder\n",
    "from sklearn.metrics import mean_squared_error\n",
    "from math import sqrt\n",
    "from sklearn.model_selection import cross_val_score, KFold\n",
    "from joblib import dump, load"
   ]
  },
  {
   "cell_type": "code",
   "execution_count": 2,
   "metadata": {},
   "outputs": [
    {
     "name": "stdout",
     "output_type": "stream",
     "text": [
      "2.2.0\n",
      "2.4.3\n"
     ]
    }
   ],
   "source": [
    "import re\n",
    "import xgboost as xgb\n",
    "import tensorflow as tf; print(tf.__version__)\n",
    "import keras; print(keras.__version__)\n",
    "#import torch.nn as nn\n",
    "#import touch.nn.functional as F\n",
    "import pandas as pd\n",
    "import numpy as np\n",
    "from sklearn.model_selection import train_test_split\n",
    "from sklearn.metrics import accuracy_score\n",
    "from random import randint\n",
    "from Gather_AFL_Data import gatherer as gad\n",
    "#from fdnn import feature_extractor as fex\n",
    "import skopt\n",
    "from skopt.searchcv import BayesSearchCV\n",
    "from skopt.space import Real, Categorical, Integer\n",
    "from sklearn.model_selection import StratifiedKFold\n",
    "import pickle\n",
    "from sklearn.preprocessing import OneHotEncoder\n",
    "from tensorflow.keras.models import Sequential\n",
    "from tensorflow.keras.layers import Dense\n",
    "from tensorflow.keras.layers import Flatten\n",
    "from tensorflow.keras.layers import Dropout\n",
    "from tensorflow.keras.layers import Input\n",
    "from tensorflow.keras.layers import BatchNormalization\n",
    "from tensorflow.keras.layers import Conv1D\n",
    "from tensorflow.keras.layers import MaxPooling1D\n",
    "from tensorflow.keras.utils import to_categorical\n",
    "from keras.utils.vis_utils import plot_model\n",
    "from tensorflow.keras.layers import LSTM\n",
    "from tensorflow.keras.layers import Embedding\n",
    "from tensorflow.keras.preprocessing import sequence\n",
    "import matplotlib.pyplot as plt\n",
    "from tensorflow.keras.layers import Activation\n",
    "from sklearn.metrics import mean_squared_error\n",
    "from math import sqrt\n",
    "from sklearn.model_selection import cross_val_score, KFold"
   ]
  },
  {
   "cell_type": "code",
   "execution_count": 3,
   "metadata": {},
   "outputs": [],
   "source": [
    "#get headers\n",
    "#feed this into a bigger function which specifies the amount of games to go through \n",
    "def get_headers(n_games):\n",
    "    headers = ['Round', 'Home_Team', 'Away_Team', 'Venue', 'H_PAV_Sum', 'A_PAV_Sum']\n",
    "    example_file = pd.read_csv('Data/Fremantle_clean_stats.csv')\n",
    "    cl_h = example_file.columns\n",
    "    cl_h = cl_h[:-5]\n",
    "    ladder_header = ['Ladder Pos_H', 'Form_H', 'Season Wins_H', 'Season Loss_H', 'Season Draw_H']\n",
    "    headers = [*headers, *ladder_header]\n",
    "    j = 1\n",
    "    while j <= n_games:\n",
    "        for x in cl_h:\n",
    "            if 'Match_ID' in x or 'Year' in x:\n",
    "                continue\n",
    "            x = 'H_'+ x + ' n-' + str(j)\n",
    "            headers.append(x)\n",
    "        j = j + 1\n",
    "    j = 1\n",
    "    ladder_header = ['Ladder Pos_A', 'Form_A', 'Season Wins_A', 'Season Loss_A', 'Season Draw_A']\n",
    "    headers = [*headers, *ladder_header]\n",
    "    while j <= n_games:\n",
    "        for x in cl_h:\n",
    "            if 'Match_ID' in x or 'Year' in x:\n",
    "                continue\n",
    "            x = 'A_'+ x + ' n-' + str(j)\n",
    "            headers.append(x)\n",
    "        j = j + 1\n",
    "    return headers"
   ]
  },
  {
   "cell_type": "code",
   "execution_count": 4,
   "metadata": {},
   "outputs": [],
   "source": [
    "def clean_headers(h):\n",
    "    headers = []\n",
    "    for x in h:\n",
    "        if '<' in x or '>' in x:\n",
    "            x = x.replace('<',\"lt_\")\n",
    "            x = x.replace('>', \"gt_\")\n",
    "            #print(x)\n",
    "        headers.append(str(x))\n",
    "    return headers"
   ]
  },
  {
   "cell_type": "code",
   "execution_count": 5,
   "metadata": {},
   "outputs": [],
   "source": [
    "def generate_categorical_headers(h):\n",
    "    cat_var = ['Round', 'Home_Team', 'Away_Team']\n",
    "    skip = 0\n",
    "    for x in h:\n",
    "        if 'Round' in x:\n",
    "            if (skip == 0):\n",
    "                skip = 1\n",
    "                continue\n",
    "            cat_var.append(x)\n",
    "            #print(x)\n",
    "        elif 'Team_against_ID' in x:\n",
    "            #print(x)\n",
    "            cat_var.append(x)\n",
    "        elif 'Venue' in x:\n",
    "            cat_var.append(x)\n",
    "    return cat_var"
   ]
  },
  {
   "cell_type": "code",
   "execution_count": 6,
   "metadata": {},
   "outputs": [],
   "source": [
    "#one hot encode data and transform the X_data\n",
    "#first redo, find the categorial variables\n",
    "def ohe_data(x_data, enc, flag,cat_var):\n",
    "    #data has not been previously one hot encoded\n",
    "    if (flag == 0):\n",
    "        #get columns with categorical data and drop from main DF\n",
    "        categorical_data = x_data[cat_var]\n",
    "        x_data = x_data.drop(cat_var, axis = 1)\n",
    "        #define and fit new OHE. Use it on our categorical data by transforming\n",
    "        ohe = OneHotEncoder(handle_unknown='ignore', sparse=False)\n",
    "        ohe = ohe.fit(categorical_data)\n",
    "        categorical_data = ohe.transform(categorical_data)\n",
    "        #get feature names for better labelling\n",
    "        fn = ohe.get_feature_names(cat_var)\n",
    "        #make a dataframe with new OHE data and feature names\n",
    "            #would have been good to have coded it like this for my Masters project...\n",
    "        categorical_data = pd.DataFrame(categorical_data)\n",
    "        categorical_data.columns = fn\n",
    "        #ensure that it won't get cranky about any different indexes(shouldn't be any but just a good check)\n",
    "        x_data.reset_index(drop=True, inplace=True)\n",
    "        categorical_data.reset_index(drop=True, inplace=True)\n",
    "        #concatenate along column axis\n",
    "        x_data = pd.concat([x_data, categorical_data], axis = 1)\n",
    "    else:\n",
    "        #same as above except used already fitted ohe\n",
    "        categorical_data = x_data[cat_var]\n",
    "        x_data = x_data.drop(cat_var, axis = 1)\n",
    "        categorical_data = enc.transform(categorical_data)\n",
    "        fn = enc.get_feature_names(cat_var)\n",
    "        categorical_data = pd.DataFrame(categorical_data)\n",
    "        categorical_data.columns = fn\n",
    "        x_data.reset_index(drop=True, inplace=True)\n",
    "        categorical_data.reset_index(drop=True, inplace=True)\n",
    "        x_data = pd.concat([x_data, categorical_data], axis = 1, ignore_index=True)\n",
    "        ohe = enc\n",
    "    return x_data, ohe"
   ]
  },
  {
   "cell_type": "code",
   "execution_count": 7,
   "metadata": {},
   "outputs": [],
   "source": [
    "#search parameters for best XGB classifier or best XGB regressor\n",
    "\n",
    "def param_search(x_data, y_label, class_reg):\n",
    "\n",
    "    def on_step(optim_result):\n",
    "        \"\"\"\n",
    "        Callback meant to view scores after\n",
    "        each iteration while performing Bayesian\n",
    "        Optimization in Skopt\"\"\"\n",
    "        score = xgb_bayes_search.best_score_\n",
    "        print(\"best score: %s\" % score)\n",
    "        if score >= 0.98:\n",
    "            print('Interrupting!')\n",
    "            return True\n",
    "    X_train, X_test, y_train, y_test = train_test_split(x_data, y_label, test_size=0.1, random_state=157732)\n",
    "    print(\"X_train shape: \" + str(X_train.shape))\n",
    "    print(\"X_test shape: \" + str(X_test.shape))\n",
    "  #  print(\"y_train shape: \" + str(y_train.shape))\n",
    "  #  print(\"y_test shape: \" + str(y_test.shape))\n",
    "    space ={'learning_rate': Real(0.01, 1.0, 'log-uniform'),\n",
    "        'min_child_weight': Integer(0, 10),\n",
    "        'max_depth': Integer(0, 50),\n",
    "        'max_delta_step': Integer(0, 20),\n",
    "        'subsample': Real(0.01, 1.0, 'uniform'),\n",
    "        'colsample_bytree': Real(0.01, 1.0, 'uniform'),\n",
    "        'colsample_bylevel': Real(0.01, 1.0, 'uniform'),\n",
    "        'reg_lambda': Real(1e-9, 1000, 'log-uniform'),\n",
    "        'reg_alpha': Real(1e-9, 1.0, 'log-uniform'),\n",
    "        'gamma': Real(1e-9, 0.5, 'log-uniform'),\n",
    "        'min_child_weight': Integer(0, 5),\n",
    "        'n_estimators': Integer(50, 200),\n",
    "        'scale_pos_weight': Real(1e-6, 500, 'log-uniform')}\n",
    "    if(class_reg == 0):\n",
    "        xgbclass = xgb.XGBClassifier(random_state=27022013)\n",
    "    else:\n",
    "        xgbclass = xgb.XGBRegressor(random_state=27022013)\n",
    "    xgb_bayes_search = BayesSearchCV(xgbclass, space, n_iter=60, # specify how many iterations\n",
    "                                    scoring=None, n_jobs=1, cv=10, verbose=1, random_state=42, n_points=12,\n",
    "                                 refit=True)\n",
    "  #  kk = np.isinf(X_train)\n",
    "  #  if True in kk:\n",
    "  #  \tprint(\"aaaaaaa\")\n",
    "  #  kk = np.isinf(y_train)\n",
    "  #  if True in kk:\n",
    "  #  \tprint(\"reeeeeee\")\n",
    "    try:\n",
    "        xgb_bayes_search.fit(X_train, y_train.values.ravel(), callback = on_step)\n",
    "    except:\n",
    "        xgb_bayes_search.fit(X_train, y_train.values.ravel(), callback = on_step)\n",
    "  #  print(\"BEST PARAMS ARE HERE\")\n",
    " #   print(xgb_bayes_search.best_params_)\n",
    "    model = xgb_bayes_search.best_estimator_\n",
    "\n",
    "    return model"
   ]
  },
  {
   "cell_type": "code",
   "execution_count": 8,
   "metadata": {},
   "outputs": [],
   "source": [
    "#x = all data\n",
    "#y = label of whether home team or away team won\n",
    "#m = xgb classifier for winner prediction\n",
    "#my = labels of margins\n",
    "    #try absolute values\n",
    "#mm = xgb regressor for margin prediction\n",
    "def eval_xgb_games_margins(x, y, m, my, mm):\n",
    "    results = []\n",
    "    error = []\n",
    "    count = 0\n",
    "    best_w = m\n",
    "    high_w = 0\n",
    "    best_m = mm\n",
    "    high_m = 100\n",
    "    cv = StratifiedKFold(n_splits=10, shuffle=True)\n",
    "    print(x)\n",
    "    for train,test in cv.split(x,y):\n",
    "       # print(len(train))\n",
    "        count = count + 1\n",
    "        print(\"Split: \" + str(count))\n",
    "        #comment out fit steps for random forest i guess lol\n",
    "        prediction = m.fit(x.loc[train],y.loc[train]).predict_proba(x.loc[test])\n",
    "        margin_pred = mm.fit(x.loc[train], my.loc[train])\n",
    "        print(\"variables for auroc curve done. Processing fold accuracy + checking best model\")\n",
    "        y_pred = m.predict(x.loc[test])\n",
    "        #print(y_pred)\n",
    "        m_pred = mm.predict(x.loc[test])\n",
    "        print(m_pred)\n",
    "        predictions = [round(value) for value in y_pred]\n",
    "        #sees how accurate the model was when testing the test set\n",
    "        accuracy = accuracy_score(y.loc[test], predictions)\n",
    "        pcent = accuracy * 100.0\n",
    "        print(\"The accuracy of this model is\" + str(pcent))\n",
    "        rmse = sqrt(mean_squared_error(m_pred, my.loc[test]))\n",
    "        print(\"The rmse of this model is\" + str(rmse))\n",
    "        results.append(pcent)\n",
    "        error.append(rmse)\n",
    "        #change the best model to equal current model\n",
    "        if(pcent > high_w):\n",
    "            print(\"found new best classify\")\n",
    "            best_w = m\n",
    "            high_w = pcent\n",
    "        if(rmse < high_m):\n",
    "            print(\"found best new margin\")\n",
    "            best_m = mm\n",
    "            high_m = rmse\n",
    "    print(\"Best win percentage split = \" +str(high_w))\n",
    "    print(\"Best margin rmse = \"+str(high_m))\n",
    "    print(\"Training Testing Accuracy: %.2f%% (%.2f%%)\" % (np.mean(results), np.std(results)))\n",
    "    print(\"Training Testing Margins: %.2f%% (%.2f%%)\" % (np.mean(error), np.std(error)))\n",
    "    return best_w, best_m"
   ]
  },
  {
   "cell_type": "code",
   "execution_count": 9,
   "metadata": {},
   "outputs": [],
   "source": [
    "#make this a method param later\n",
    "#n_games = 5\n",
    "def run_all_models(n_games):\n",
    "    #load headers and then subsequently categorical headers\n",
    "    h = get_headers(n_games)\n",
    "    h = clean_headers(h)\n",
    "    cv = generate_categorical_headers(h)\n",
    "\n",
    "    #to get names of teams from index\n",
    "    g = gad()\n",
    "    teams = g.createTeamDict()\n",
    "\n",
    "    #load Data\n",
    "    x_data = pd.read_csv('Data/assembled_stat_matrix_no2020'+str(n_games)+'_games.csv')\n",
    "\n",
    "    #make empty OHE object\n",
    "    na_enc = OneHotEncoder(handle_unknown='ignore', sparse=False)\n",
    "\n",
    "    #one hot encode data with new one hot encoder, saves ohe for later use\n",
    "    x_data, ohe = ohe_data(x_data, na_enc, 0, cv)\n",
    "    filename = 'Models/ohe_'+str(n_games)+'_no_2021_games.dat'\n",
    "    pickle.dump(ohe, open(filename, \"wb\"))\n",
    "    #reset headers\n",
    "    feature_names = x_data.columns\n",
    "\n",
    "    #loads the ylabel matrix,\n",
    "    y_label = pd.read_csv('Data/assembled_labelled_ymatrix_no2020'+str(n_games)+'_games.csv')\n",
    "\n",
    "    #loads margin as the y_label\n",
    "    margin_label = pd.read_csv('Data/assembled_margin_ymatrix_no2020'+str(n_games)+'_games.csv')\n",
    "\n",
    "    print(margin_label.shape)\n",
    "    print(y_label.shape)\n",
    "    print(x_data.shape)\n",
    "\n",
    "    #regex solution which is apparently necessary??\n",
    "    regex = re.compile(r\"\\[|\\]|<\", re.IGNORECASE)\n",
    "    x_data.columns = [regex.sub(\"_\", col) if any(x in str(col) for x in set(('[', ']', '<'))) else col for col in x_data.columns.values]\n",
    "\n",
    "    #optimise XGBoost model\n",
    "\n",
    "    #for predicting win\n",
    "    model = param_search(x_data, y_label, 0)\n",
    "    #for predicting margin\n",
    "    #margin_label = abs(margin_label)\n",
    "    margin_model = param_search(x_data, margin_label, 1)\n",
    "\n",
    "   # margin_label = abs(margin_label)\n",
    "    print(margin_label)\n",
    "    best_xgb_clas, best_xgb_reg = eval_xgb_games_margins(x_data, y_label, model, margin_label, margin_model)\n",
    "\n",
    "    #save\n",
    "    pickle.dump(best_xgb_clas, open(\"Models/best_xgb_clas_no2020_\"+str(n_games)+\"_games.dat\", \"wb\"))\n",
    "    pickle.dump(best_xgb_reg, open(\"Models/best_xgb_reg_no2020_\"+str(n_games)+\"_games.dat\", \"wb\"))"
   ]
  },
  {
   "cell_type": "code",
   "execution_count": 10,
   "metadata": {
    "scrolled": true
   },
   "outputs": [
    {
     "name": "stdout",
     "output_type": "stream",
     "text": [
      "(1727, 1)\n",
      "(1727, 1)\n",
      "(1727, 733)\n",
      "X_train shape: (1554, 733)\n",
      "X_test shape: (173, 733)\n",
      "Fitting 10 folds for each of 12 candidates, totalling 120 fits\n"
     ]
    },
    {
     "name": "stderr",
     "output_type": "stream",
     "text": [
      "[Parallel(n_jobs=1)]: Using backend SequentialBackend with 1 concurrent workers.\n",
      "[Parallel(n_jobs=1)]: Done 120 out of 120 | elapsed:   58.0s finished\n"
     ]
    },
    {
     "name": "stdout",
     "output_type": "stream",
     "text": [
      "best score: 0.6492921492921493\n",
      "Fitting 10 folds for each of 12 candidates, totalling 120 fits\n"
     ]
    },
    {
     "name": "stderr",
     "output_type": "stream",
     "text": [
      "[Parallel(n_jobs=1)]: Using backend SequentialBackend with 1 concurrent workers.\n",
      "[Parallel(n_jobs=1)]: Done 120 out of 120 | elapsed:  5.8min finished\n"
     ]
    },
    {
     "name": "stdout",
     "output_type": "stream",
     "text": [
      "best score: 0.6492921492921493\n",
      "Fitting 10 folds for each of 12 candidates, totalling 120 fits\n"
     ]
    },
    {
     "name": "stderr",
     "output_type": "stream",
     "text": [
      "[Parallel(n_jobs=1)]: Using backend SequentialBackend with 1 concurrent workers.\n",
      "[Parallel(n_jobs=1)]: Done 120 out of 120 | elapsed:   39.0s finished\n"
     ]
    },
    {
     "name": "stdout",
     "output_type": "stream",
     "text": [
      "best score: 0.6492921492921493\n",
      "Fitting 10 folds for each of 12 candidates, totalling 120 fits\n"
     ]
    },
    {
     "name": "stderr",
     "output_type": "stream",
     "text": [
      "[Parallel(n_jobs=1)]: Using backend SequentialBackend with 1 concurrent workers.\n",
      "[Parallel(n_jobs=1)]: Done 120 out of 120 | elapsed:  1.6min finished\n"
     ]
    },
    {
     "name": "stdout",
     "output_type": "stream",
     "text": [
      "best score: 0.657014157014157\n",
      "Fitting 10 folds for each of 12 candidates, totalling 120 fits\n"
     ]
    },
    {
     "name": "stderr",
     "output_type": "stream",
     "text": [
      "[Parallel(n_jobs=1)]: Using backend SequentialBackend with 1 concurrent workers.\n",
      "[Parallel(n_jobs=1)]: Done 120 out of 120 | elapsed:  1.3min finished\n"
     ]
    },
    {
     "name": "stdout",
     "output_type": "stream",
     "text": [
      "best score: 0.657014157014157\n",
      "X_train shape: (1554, 733)\n",
      "X_test shape: (173, 733)\n",
      "Fitting 10 folds for each of 12 candidates, totalling 120 fits\n"
     ]
    },
    {
     "name": "stderr",
     "output_type": "stream",
     "text": [
      "[Parallel(n_jobs=1)]: Using backend SequentialBackend with 1 concurrent workers.\n",
      "[Parallel(n_jobs=1)]: Done 120 out of 120 | elapsed:  2.0min finished\n"
     ]
    },
    {
     "name": "stdout",
     "output_type": "stream",
     "text": [
      "best score: 0.24911630079651684\n",
      "Fitting 10 folds for each of 12 candidates, totalling 120 fits\n"
     ]
    },
    {
     "name": "stderr",
     "output_type": "stream",
     "text": [
      "[Parallel(n_jobs=1)]: Using backend SequentialBackend with 1 concurrent workers.\n",
      "[Parallel(n_jobs=1)]: Done 120 out of 120 | elapsed:  3.4min finished\n"
     ]
    },
    {
     "name": "stdout",
     "output_type": "stream",
     "text": [
      "best score: 0.24911630079651684\n",
      "Fitting 10 folds for each of 12 candidates, totalling 120 fits\n"
     ]
    },
    {
     "name": "stderr",
     "output_type": "stream",
     "text": [
      "[Parallel(n_jobs=1)]: Using backend SequentialBackend with 1 concurrent workers.\n",
      "[Parallel(n_jobs=1)]: Done 120 out of 120 | elapsed:  3.3min finished\n"
     ]
    },
    {
     "name": "stdout",
     "output_type": "stream",
     "text": [
      "best score: 0.24911630079651684\n",
      "Fitting 10 folds for each of 12 candidates, totalling 120 fits\n"
     ]
    },
    {
     "name": "stderr",
     "output_type": "stream",
     "text": [
      "[Parallel(n_jobs=1)]: Using backend SequentialBackend with 1 concurrent workers.\n",
      "[Parallel(n_jobs=1)]: Done 120 out of 120 | elapsed:  3.5min finished\n"
     ]
    },
    {
     "name": "stdout",
     "output_type": "stream",
     "text": [
      "best score: 0.24911630079651684\n",
      "Fitting 10 folds for each of 12 candidates, totalling 120 fits\n"
     ]
    },
    {
     "name": "stderr",
     "output_type": "stream",
     "text": [
      "[Parallel(n_jobs=1)]: Using backend SequentialBackend with 1 concurrent workers.\n",
      "[Parallel(n_jobs=1)]: Done 120 out of 120 | elapsed:  1.7min finished\n"
     ]
    },
    {
     "name": "stdout",
     "output_type": "stream",
     "text": [
      "best score: 0.2617549382834234\n",
      "      Margin\n",
      "0       -4.0\n",
      "1      -39.0\n",
      "2      -94.0\n",
      "3      -72.0\n",
      "4       -2.0\n",
      "...      ...\n",
      "1722   -47.0\n",
      "1723    32.0\n",
      "1724    19.0\n",
      "1725   -21.0\n",
      "1726   -36.0\n",
      "\n",
      "[1727 rows x 1 columns]\n",
      "      H_PAV_Sum  A_PAV_Sum  Ladder Pos_H  Form_H  Season Wins_H  \\\n",
      "0        225.28     213.14           4.0     2.0            2.0   \n",
      "1        232.38     230.38          12.0     0.0            0.0   \n",
      "2        147.24     226.84          18.0     0.0            0.0   \n",
      "3        149.67     226.28          16.0     0.0            0.0   \n",
      "4        118.17     201.00          11.0     1.0            1.0   \n",
      "...         ...        ...           ...     ...            ...   \n",
      "1722     208.80     267.28          17.0     0.0            1.0   \n",
      "1723     220.89     204.79           8.0     2.0            5.0   \n",
      "1724     189.67     251.66           9.0     1.0            4.0   \n",
      "1725     162.87     250.97          14.0     0.0            3.0   \n",
      "1726     271.18     233.58           3.0     1.0            7.0   \n",
      "\n",
      "      Season Loss_H  Season Draw_H  H_H/A? n-1  H_H/A Win? n-1  \\\n",
      "0               0.0            0.0         1.0             1.0   \n",
      "1               2.0            0.0         1.0             0.0   \n",
      "2               2.0            0.0         1.0             0.0   \n",
      "3               2.0            0.0         1.0             0.0   \n",
      "4               1.0            0.0         1.0             0.0   \n",
      "...             ...            ...         ...             ...   \n",
      "1722            8.0            0.0         0.0             1.0   \n",
      "1723            4.0            0.0         1.0             1.0   \n",
      "1724            5.0            0.0         1.0             1.0   \n",
      "1725            6.0            0.0         0.0             1.0   \n",
      "1726            2.0            0.0         1.0             0.0   \n",
      "\n",
      "      H_Points For n-1  ...  A_Venue n-2_Manuka Oval  \\\n",
      "0                106.0  ...                      0.0   \n",
      "1                108.0  ...                      0.0   \n",
      "2                 36.0  ...                      0.0   \n",
      "3                 78.0  ...                      0.0   \n",
      "4                 73.0  ...                      0.0   \n",
      "...                ...  ...                      ...   \n",
      "1722              46.0  ...                      0.0   \n",
      "1723             117.0  ...                      0.0   \n",
      "1724              99.0  ...                      0.0   \n",
      "1725              66.0  ...                      0.0   \n",
      "1726              33.0  ...                      0.0   \n",
      "\n",
      "      A_Venue n-2_Mars Stadium  A_Venue n-2_Marvel Stadium  \\\n",
      "0                          0.0                         0.0   \n",
      "1                          0.0                         0.0   \n",
      "2                          0.0                         0.0   \n",
      "3                          0.0                         0.0   \n",
      "4                          0.0                         1.0   \n",
      "...                        ...                         ...   \n",
      "1722                       0.0                         0.0   \n",
      "1723                       0.0                         1.0   \n",
      "1724                       0.0                         0.0   \n",
      "1725                       0.0                         0.0   \n",
      "1726                       0.0                         0.0   \n",
      "\n",
      "      A_Venue n-2_Metricon Stadium  A_Venue n-2_Optus Stadium  \\\n",
      "0                              0.0                        0.0   \n",
      "1                              0.0                        0.0   \n",
      "2                              0.0                        0.0   \n",
      "3                              1.0                        0.0   \n",
      "4                              0.0                        0.0   \n",
      "...                            ...                        ...   \n",
      "1722                           0.0                        0.0   \n",
      "1723                           0.0                        0.0   \n",
      "1724                           0.0                        0.0   \n",
      "1725                           0.0                        0.0   \n",
      "1726                           0.0                        0.0   \n",
      "\n",
      "      A_Venue n-2_SCG  A_Venue n-2_TIO Stadium  A_Venue n-2_TIO Traeger Park  \\\n",
      "0                 0.0                      0.0                           0.0   \n",
      "1                 0.0                      0.0                           0.0   \n",
      "2                 0.0                      0.0                           0.0   \n",
      "3                 0.0                      0.0                           0.0   \n",
      "4                 0.0                      0.0                           0.0   \n",
      "...               ...                      ...                           ...   \n",
      "1722              0.0                      0.0                           0.0   \n",
      "1723              0.0                      0.0                           0.0   \n",
      "1724              1.0                      0.0                           0.0   \n",
      "1725              0.0                      0.0                           0.0   \n",
      "1726              0.0                      0.0                           0.0   \n",
      "\n",
      "      A_Venue n-2_University of Tasmania Stadium  A_Venue n-2_Westpac Stadium  \n",
      "0                                            0.0                          0.0  \n",
      "1                                            0.0                          0.0  \n",
      "2                                            0.0                          0.0  \n",
      "3                                            0.0                          0.0  \n",
      "4                                            0.0                          0.0  \n",
      "...                                          ...                          ...  \n",
      "1722                                         0.0                          0.0  \n",
      "1723                                         0.0                          0.0  \n",
      "1724                                         0.0                          0.0  \n",
      "1725                                         0.0                          0.0  \n",
      "1726                                         0.0                          0.0  \n",
      "\n",
      "[1727 rows x 733 columns]\n",
      "Split: 1\n"
     ]
    },
    {
     "name": "stderr",
     "output_type": "stream",
     "text": [
      "/home/chris/anaconda3/lib/python3.8/site-packages/sklearn/preprocessing/_label.py:235: DataConversionWarning: A column-vector y was passed when a 1d array was expected. Please change the shape of y to (n_samples, ), for example using ravel().\n",
      "  y = column_or_1d(y, warn=True)\n",
      "/home/chris/anaconda3/lib/python3.8/site-packages/sklearn/preprocessing/_label.py:268: DataConversionWarning: A column-vector y was passed when a 1d array was expected. Please change the shape of y to (n_samples, ), for example using ravel().\n",
      "  y = column_or_1d(y, warn=True)\n"
     ]
    },
    {
     "name": "stdout",
     "output_type": "stream",
     "text": [
      "variables for auroc curve done. Processing fold accuracy + checking best model\n",
      "[-24.030876    11.913892    12.09786    -20.14563    -18.13597\n",
      "  24.459604    19.54099    -14.595603   -12.014527    13.895533\n",
      " -34.706013   -10.601601    -7.0755177  -11.481215    25.283155\n",
      "  28.237156     0.850413    39.61306     15.751528    35.47924\n",
      "  -9.892981    30.811546    40.014896   -14.610973    -2.5248334\n",
      "  30.493696    10.731483   -14.193968    -7.629306   -33.833527\n",
      "  44.89057     -0.7596774   25.754679    24.578146    33.55079\n",
      "   5.081794    12.795163   -14.38945    -38.803577    17.092707\n",
      "   9.934975   -27.139502   -24.5517       7.490286    10.044696\n",
      "   1.8314607  -28.44812    -25.709276   -10.015229    26.743225\n",
      " -12.647872    26.0646     -32.344025   -30.967186    12.109703\n",
      "  -1.2345759   10.777755    -0.553972    15.246558    18.931458\n",
      "  35.675625     8.223918   -33.95941     38.471485    46.97014\n",
      "  -5.0383577  -23.43952     33.000313    33.822033    27.781956\n",
      "  37.13946     -7.8057327  -38.891186    17.759563   -19.095602\n",
      "  42.075485    29.000557    12.047894     7.006418   -34.404743\n",
      "  29.569284   -12.404119     1.1637061    9.239141   -23.045954\n",
      "   9.625516    -8.831409     3.706328    24.78267      3.1378348\n",
      "  37.460632    40.182045    17.915085    14.583218    16.724697\n",
      "  28.222004    -1.32041     -3.642311   -27.05221     -2.5884666\n",
      " -21.625818    -9.102541   -15.683088   -12.271952    38.138092\n",
      "   7.684407   -10.424072     1.8138602   -8.322509    17.379393\n",
      "  16.068184   -17.994661    36.53173      1.1536114   -5.883998\n",
      "  -6.772573    -3.7757106   28.965895     3.8027399   17.860373\n",
      "  -2.592129    45.37701    -42.516617    16.443333    37.744865\n",
      "  17.372065    18.735128    42.516644     5.537812    -4.3999844\n",
      "  -4.964259     0.42614126   4.954987     7.016043   -20.534527\n",
      "  18.24419     11.489158     0.6445786   31.708838     6.55842\n",
      "   4.117852   -12.300163     9.3853655   34.295273    -7.81635\n",
      "  21.51688    -21.704304   -33.89229     -5.233942    31.0493\n",
      "  -8.131963    25.92821     28.609953    27.63515     27.342299\n",
      "  17.484991   -27.166983   -16.465881    36.02584     38.5735\n",
      " -37.964664    19.486345   -16.697607    20.460545    13.395728\n",
      "  28.244038    -8.487814     5.7100153   -6.0811443  -26.831074\n",
      " -19.222946   -21.943232   -40.136112  ]\n",
      "The accuracy of this model is72.83236994219652\n",
      "The rmse of this model is34.50415359416728\n",
      "found new best classify\n",
      "found best new margin\n",
      "Split: 2\n"
     ]
    },
    {
     "name": "stderr",
     "output_type": "stream",
     "text": [
      "/home/chris/anaconda3/lib/python3.8/site-packages/sklearn/preprocessing/_label.py:235: DataConversionWarning: A column-vector y was passed when a 1d array was expected. Please change the shape of y to (n_samples, ), for example using ravel().\n",
      "  y = column_or_1d(y, warn=True)\n",
      "/home/chris/anaconda3/lib/python3.8/site-packages/sklearn/preprocessing/_label.py:268: DataConversionWarning: A column-vector y was passed when a 1d array was expected. Please change the shape of y to (n_samples, ), for example using ravel().\n",
      "  y = column_or_1d(y, warn=True)\n"
     ]
    },
    {
     "name": "stdout",
     "output_type": "stream",
     "text": [
      "variables for auroc curve done. Processing fold accuracy + checking best model\n",
      "[ 40.023785   -13.807725    29.344843    40.174194    16.678265\n",
      "   6.406642     3.3708777  -46.314156    11.784004   -33.609222\n",
      "   4.717475     3.3483677  -21.590199   -28.878208   -14.069174\n",
      "   1.6058357  -14.611444     0.10933608   3.2066388  -21.571543\n",
      "  26.192266    -8.261222     7.0417876   20.305454   -21.555624\n",
      "   6.2421284  -18.119505    13.230267   -21.048153    52.754795\n",
      "  23.57819     20.623205     5.22325     27.006632   -15.420126\n",
      " -17.833786    10.963333    -2.4837995   29.494154   -21.601282\n",
      "  34.87372     44.384857   -28.390377    26.59107    -18.15381\n",
      " -21.4029       7.3817744   29.264814   -30.390835    36.810913\n",
      " -22.44142     13.854308    39.14811    -16.811909   -13.998466\n",
      "  15.303881   -32.017715    21.46014    -23.738302   -10.587313\n",
      "   7.3443604   20.875845   -27.219215   -16.210339    23.493612\n",
      "  19.723164   -35.22673     57.779575   -25.712873    17.385225\n",
      "  17.148994    21.942543    16.896122    25.90633     28.322765\n",
      "  -0.604751    -6.2003355    3.5274289    7.9037523  -33.255684\n",
      "  -8.439215    25.785315   -29.627796    41.81999    -41.021194\n",
      "  21.911268    40.73198     26.913311    32.75924     13.486344\n",
      " -20.951786   -14.686555     6.112719    35.460682    27.370958\n",
      "  37.865093     0.9720968  -24.29392    -12.051095     2.9517603\n",
      "  33.458       -7.3238974   30.090366    20.640388    46.682476\n",
      " -25.266129   -12.797816    36.917004   -10.109115     3.7029576\n",
      "  29.320309    28.523258    16.151554   -40.787365     0.44791305\n",
      "  42.146843    36.225418    13.788467    41.294098    40.060966\n",
      "   2.2848265  -22.342651    46.391495    -6.832194    25.642178\n",
      "   3.150229    -1.8874471   32.643353    11.0839815    9.121912\n",
      "   5.333454    36.09963    -15.568472   -27.049261     5.4631433\n",
      " -23.852264    22.340778   -21.796148    14.603495    11.429361\n",
      "   1.7429866    4.5077534  -11.515713   -27.821785    15.679377\n",
      "  13.115943    15.424293    32.61953     -0.11336005 -30.454805\n",
      "  19.64055     30.976534   -12.6676     -26.535873     5.436834\n",
      "  -2.1696186  -13.761123     7.3773456  -25.901552     3.900175\n",
      "   7.059446    38.479637   -23.251211    19.124287   -35.384865\n",
      "  37.21291      7.3675365  -24.67901     43.915863    20.314386\n",
      "  18.370258    -5.0646043    5.4311013 ]\n",
      "The accuracy of this model is68.78612716763006\n",
      "The rmse of this model is37.9198455313827\n",
      "Split: 3\n"
     ]
    },
    {
     "name": "stderr",
     "output_type": "stream",
     "text": [
      "/home/chris/anaconda3/lib/python3.8/site-packages/sklearn/preprocessing/_label.py:235: DataConversionWarning: A column-vector y was passed when a 1d array was expected. Please change the shape of y to (n_samples, ), for example using ravel().\n",
      "  y = column_or_1d(y, warn=True)\n",
      "/home/chris/anaconda3/lib/python3.8/site-packages/sklearn/preprocessing/_label.py:268: DataConversionWarning: A column-vector y was passed when a 1d array was expected. Please change the shape of y to (n_samples, ), for example using ravel().\n",
      "  y = column_or_1d(y, warn=True)\n"
     ]
    },
    {
     "name": "stdout",
     "output_type": "stream",
     "text": [
      "variables for auroc curve done. Processing fold accuracy + checking best model\n",
      "[ 2.78540211e+01 -2.58494830e+00  1.70660477e+01  4.04304810e+01\n",
      "  2.08354321e+01  3.99880180e+01  8.26111221e+00  8.44963741e+00\n",
      " -2.67336922e+01 -1.47047167e+01  3.32193642e+01  2.86375179e+01\n",
      " -1.82049541e+01  2.22111301e+01  3.12703228e+01  4.10358047e+01\n",
      " -3.30413170e+01  3.10349407e+01  6.19532824e+00  2.24443073e+01\n",
      "  2.04761105e+01 -1.40668898e+01 -2.00106640e+01  3.09302635e+01\n",
      "  3.13891392e+01 -1.55698833e+01 -3.66940079e+01  1.80383644e+01\n",
      " -1.41835690e+01  1.13951092e+01 -6.81948090e+00 -3.28022957e+01\n",
      " -3.09292049e+01 -1.81673765e-02 -6.98214626e+00 -3.29795036e+01\n",
      "  2.25434475e+01  1.26894960e+01  1.75566292e+00  1.45011616e+00\n",
      "  4.46383018e+01  2.06423454e+01 -6.68000507e+00 -6.41972589e+00\n",
      " -8.75479698e+00 -4.67725143e+01 -1.76498184e+01  3.94150085e+01\n",
      "  4.92943382e+01 -4.02868042e+01  9.61862850e+00  1.17648325e+01\n",
      "  3.33811188e+01 -1.05142391e+00  1.04195061e+01 -4.82384834e+01\n",
      " -2.02780495e+01  1.34659605e+01 -5.44555616e+00 -1.63736324e+01\n",
      " -3.17658663e+00 -2.26323247e+00  2.84328957e+01  3.31572609e+01\n",
      "  2.08889008e+01  1.93222313e+01 -1.59927597e+01  6.81453037e+00\n",
      "  1.16799784e+01 -2.85031166e+01 -2.13044662e+01 -3.39210548e+01\n",
      "  1.10860939e+01 -2.79762077e+00 -3.01136360e+01  2.00717449e+01\n",
      " -2.76489048e+01 -1.67564964e+01  2.12004414e+01 -1.81117935e+01\n",
      "  2.43545284e+01  1.96471024e+01 -3.41123581e+01  1.57957001e+01\n",
      "  1.62278862e+01  2.24487495e+01  3.01339645e+01  1.93332062e+01\n",
      " -2.31801968e+01  1.45619068e+01 -2.48513088e+01 -5.99065423e-01\n",
      " -2.17256248e-01 -1.50802221e+01  1.77121773e+01 -9.98531151e+00\n",
      "  6.97645485e-01  2.78605485e+00  1.48174486e+01  2.00893555e+01\n",
      " -1.49419718e+01  4.78754501e+01 -4.90284348e+00  1.65990334e+01\n",
      "  2.96520114e+00  1.77682552e+01  3.95457611e+01  1.67837124e+01\n",
      "  5.34597874e+00  3.53968620e+01  1.59460554e+01  2.00440884e+01\n",
      "  1.52015829e+01 -1.34396200e+01 -4.13406410e+01  3.28730087e+01\n",
      " -2.37406750e+01  4.05034332e+01  2.26575470e+01  7.42984867e+00\n",
      "  2.36149559e+01  3.28458519e+01 -1.72861271e+01  2.64129963e+01\n",
      " -1.28586841e+00  2.76907177e+01  3.07867069e+01  1.49602556e+01\n",
      "  1.29635839e+01  9.23117065e+00  2.27267017e+01  1.29112740e+01\n",
      " -2.13358192e+01  2.27762794e+01 -2.96313000e+01 -1.24225783e+00\n",
      " -9.38895798e+00 -1.52949591e+01 -1.05510378e+01 -3.23165202e+00\n",
      " -9.86215496e+00  1.34809637e+01 -2.34414043e+01  3.27982545e+00\n",
      "  3.14228687e+01  2.73751240e+01 -2.43032055e+01  2.07780437e+01\n",
      " -4.56772881e+01 -6.60120535e+00 -3.43604279e+01  2.86669064e+01\n",
      " -6.33709478e+00  2.80977440e+00 -3.19361267e+01 -2.11387959e+01\n",
      "  1.23810921e+01  2.26624718e+01  5.20613909e+00  1.07951689e+00\n",
      " -9.89858627e+00  4.13302650e+01  3.41755676e+01 -2.06433392e+01\n",
      "  3.02402725e+01  5.62910891e+00  1.24414635e+01 -3.82780609e+01\n",
      " -1.14869976e+01  1.09130840e+01 -9.69621849e+00  1.39223232e+01\n",
      "  2.65630798e+01]\n",
      "The accuracy of this model is65.89595375722543\n",
      "The rmse of this model is35.09376572323177\n",
      "Split: 4\n"
     ]
    },
    {
     "name": "stderr",
     "output_type": "stream",
     "text": [
      "/home/chris/anaconda3/lib/python3.8/site-packages/sklearn/preprocessing/_label.py:235: DataConversionWarning: A column-vector y was passed when a 1d array was expected. Please change the shape of y to (n_samples, ), for example using ravel().\n",
      "  y = column_or_1d(y, warn=True)\n",
      "/home/chris/anaconda3/lib/python3.8/site-packages/sklearn/preprocessing/_label.py:268: DataConversionWarning: A column-vector y was passed when a 1d array was expected. Please change the shape of y to (n_samples, ), for example using ravel().\n",
      "  y = column_or_1d(y, warn=True)\n"
     ]
    },
    {
     "name": "stdout",
     "output_type": "stream",
     "text": [
      "variables for auroc curve done. Processing fold accuracy + checking best model\n",
      "[-16.64708     23.913723    20.911934    29.941582   -29.271536\n",
      "  30.345959    46.940746   -37.42026     -5.179835    17.723013\n",
      "  -4.3795004  -18.830845    11.3655205  -11.916122    -0.4087674\n",
      "  33.514378    17.80997    -19.273386   -25.0004      40.274418\n",
      "  18.13305    -24.95715     55.555958   -40.168034    -8.669227\n",
      "   1.6990302   19.297014    -7.8934984  -34.967865    -9.03241\n",
      "   4.807162   -31.1629      51.3527      -0.61019135  41.832016\n",
      "  29.402815    51.183823    11.995671     2.8758163  -14.486059\n",
      "  14.036604    12.878262    14.781741   -28.354858    14.919153\n",
      "  11.533189     3.2896028   35.45857    -30.59468     17.832842\n",
      "  25.201859    13.777232   -41.271854   -21.680779     6.3493385\n",
      "  -4.325824   -14.431978   -38.510216   -14.361335   -22.338156\n",
      "  -2.2980323   13.846566   -16.468851    21.223145     0.4784118\n",
      " -12.121244    40.940983    27.866018    -0.6397947   11.142805\n",
      "  35.118786     2.8130429   -4.353443    26.75655     11.205292\n",
      "  -9.326237   -12.102303    30.827505    21.44526     13.602621\n",
      "  21.523144    21.590279    39.737934   -38.503       16.082165\n",
      "  20.550735   -41.456696   -11.635888    26.457895    -0.49295026\n",
      " -25.354376   -27.246511   -34.39043     15.094285    19.956778\n",
      "  32.37822     29.10229     -3.135795   -22.96426    -20.742357\n",
      " -24.153679    18.816635   -18.193449    16.09016     25.623398\n",
      "  32.101135    19.46897     -2.6026826    7.770844     8.588423\n",
      "  15.021015   -44.27388     -2.85335     11.127487    49.724148\n",
      "  34.19408     10.677087    13.751733    13.885814   -37.360237\n",
      "  17.23011    -11.913638    20.766462    25.45152      5.6179037\n",
      "   4.2371583   14.900923    15.542898     5.9392953    7.9521112\n",
      "   7.5278707   36.967457    14.054612     3.700083   -18.733604\n",
      " -21.360989   -18.534843   -24.256327   -30.325489    -0.389314\n",
      " -21.361406     4.0563183   20.919123    20.476665    43.382603\n",
      "  15.656826    -9.052978     1.8786197  -21.611063    27.786493\n",
      "   0.46171427   5.716098     8.921386     0.5679763   26.591446\n",
      "  10.190784   -23.948748    23.206715    -0.7302897   32.716377\n",
      "   7.800945    24.410233    18.315859    10.778327    19.942564\n",
      "  33.3139      14.917782   -35.539974    -2.0966845  -19.602205\n",
      "  -7.013574    -1.4453413   -9.564215  ]\n",
      "The accuracy of this model is65.3179190751445\n",
      "The rmse of this model is40.57305772599217\n",
      "Split: 5\n"
     ]
    },
    {
     "name": "stderr",
     "output_type": "stream",
     "text": [
      "/home/chris/anaconda3/lib/python3.8/site-packages/sklearn/preprocessing/_label.py:235: DataConversionWarning: A column-vector y was passed when a 1d array was expected. Please change the shape of y to (n_samples, ), for example using ravel().\n",
      "  y = column_or_1d(y, warn=True)\n",
      "/home/chris/anaconda3/lib/python3.8/site-packages/sklearn/preprocessing/_label.py:268: DataConversionWarning: A column-vector y was passed when a 1d array was expected. Please change the shape of y to (n_samples, ), for example using ravel().\n",
      "  y = column_or_1d(y, warn=True)\n"
     ]
    },
    {
     "name": "stdout",
     "output_type": "stream",
     "text": [
      "variables for auroc curve done. Processing fold accuracy + checking best model\n",
      "[-34.07718     -9.76803     -4.0645614   29.385798   -18.58491\n",
      " -11.33815    -39.540264    41.019283    15.49273     34.572613\n",
      "  12.659446    42.978603     2.4493756    5.3093185  -11.308483\n",
      "  48.93416     48.316944   -10.533162     8.581187     7.929433\n",
      "   8.641583    -3.649652    30.297813    11.042611     1.0900149\n",
      "  12.956685    -5.550698   -41.87203     44.264782    -1.3643901\n",
      "  27.65701      2.2377205   -4.245352    36.724476     4.3951464\n",
      " -25.669403    43.896027    37.690975    41.231426    28.528196\n",
      "  27.300203   -17.863785    -2.4019632    4.754374     4.6413755\n",
      "  38.73896     14.947997    43.054417    39.91809      1.4828894\n",
      "  10.290328    -1.4603587   21.010345   -19.49573     13.196864\n",
      "  44.64046     25.70081     37.238247    18.757833    22.164248\n",
      " -28.932316    23.203209    18.863888    -7.172293   -19.826632\n",
      "  25.212317   -32.708492    30.366045    34.69677     31.378185\n",
      "  32.45385      0.6082856    1.3632226  -26.207409    51.7726\n",
      "  16.625877    23.035357    -8.789365    15.129937    -4.7098265\n",
      "  29.507006    29.511032    -3.8917851   33.013817   -25.566404\n",
      "  13.2814455   14.914737    18.354795    46.291508    -5.1152973\n",
      "  -6.5486736   -7.644701     4.118631    -7.602215    27.977232\n",
      " -19.987       -1.3390002   -2.764804    -9.977483    14.604889\n",
      "  14.7158375   42.777275    10.280018     3.2386994   21.016611\n",
      "  -6.1633224  -22.424774     9.518151   -22.059557     6.10193\n",
      "  38.85101    -35.727627    43.373695    -4.156693   -14.821284\n",
      " -49.367313    32.538574     1.3426409    1.0574603   20.855062\n",
      "  -1.058177    25.942451    13.210928     7.0830364   -0.530499\n",
      " -40.776997    10.881155    21.084734    33.730125   -22.434856\n",
      "  23.443558    -5.2493134   27.3476     -19.812384    28.751053\n",
      " -27.880863    17.980299    -3.195847    32.78425    -10.697268\n",
      "  36.079872    21.054651    -4.454355    46.566868    32.1006\n",
      "  -6.4649677   16.057743    12.532068   -23.177797     1.256403\n",
      "  21.609797    -4.7968774  -20.15663     17.944447    23.713696\n",
      "  43.03287     -2.1480484   27.357208     1.0713007   18.026066\n",
      "  21.576626    32.22453      6.629264   -20.801542     1.9071836\n",
      "  28.519253    16.489115    18.648335    -0.49385864  -2.260676\n",
      "  34.621845   -34.400578   -44.14606   ]\n",
      "The accuracy of this model is66.47398843930635\n",
      "The rmse of this model is36.32084260061668\n",
      "Split: 6\n"
     ]
    },
    {
     "name": "stderr",
     "output_type": "stream",
     "text": [
      "/home/chris/anaconda3/lib/python3.8/site-packages/sklearn/preprocessing/_label.py:235: DataConversionWarning: A column-vector y was passed when a 1d array was expected. Please change the shape of y to (n_samples, ), for example using ravel().\n",
      "  y = column_or_1d(y, warn=True)\n",
      "/home/chris/anaconda3/lib/python3.8/site-packages/sklearn/preprocessing/_label.py:268: DataConversionWarning: A column-vector y was passed when a 1d array was expected. Please change the shape of y to (n_samples, ), for example using ravel().\n",
      "  y = column_or_1d(y, warn=True)\n"
     ]
    },
    {
     "name": "stdout",
     "output_type": "stream",
     "text": [
      "variables for auroc curve done. Processing fold accuracy + checking best model\n",
      "[ -3.5087357  -13.877666    -1.3311621  -43.786324    49.57461\n",
      "  25.617182    33.176464   -10.824922    35.32437     22.800123\n",
      "  20.654478   -34.29932     12.008759    36.39677    -47.164402\n",
      "   5.512301    11.909131    16.808203    19.166372   -22.91872\n",
      "  26.919146    16.509441    20.65794     32.180885     1.5331879\n",
      " -28.605583   -23.746202    32.692966   -33.1808      15.338704\n",
      " -44.81881     24.45105     30.035328    -1.6419115  -27.826128\n",
      "  45.332558     8.125519    39.02387     38.37976     -4.240456\n",
      "  15.624904     9.8208     -27.70131    -11.687413    -4.1292305\n",
      " -18.915537    -7.551962    45.094524   -10.345603    15.303664\n",
      "  31.39493     13.280362    -7.5333967  -41.56385    -12.287516\n",
      "  59.49637    -33.11865     -4.031876    10.63931     14.817113\n",
      "   9.182544    23.811398     2.0835364   -5.0110197    6.2086806\n",
      " -30.775297   -44.442516     4.20957     21.321068    -7.594472\n",
      "  -3.3827846    5.4710045  -25.585701    26.123795     5.501075\n",
      "  51.09038     46.17009     29.3609      23.163252    18.906107\n",
      "  12.17175     12.282974    16.360806    -7.650793    11.100238\n",
      "  39.93414     -5.4262795   -9.806564    24.968586   -18.270628\n",
      "  28.430489    -5.7208414   -2.0574045   -5.5721374   29.481918\n",
      " -25.973953   -35.49036     16.338432    16.208906   -30.808249\n",
      "  36.12919     57.35128      8.055231    13.327222   -36.263767\n",
      "  27.57225     25.326994    44.402023    32.56632     -7.6512566\n",
      " -22.590998   -13.877982     6.68644     16.392448     3.912826\n",
      " -30.215408    17.010952    35.91542     -9.814264    13.017782\n",
      "  24.480934    12.350022    15.47462    -38.195423   -34.926933\n",
      "  23.71046     -0.5080553    9.555663     2.5491128   33.53269\n",
      "  -9.968681   -32.74799     22.397942    10.957896    -8.056048\n",
      "   0.85492563  20.579132    34.913677     6.162227    43.725822\n",
      "   6.1540155  -10.745244    -7.7041826   20.592556   -27.03328\n",
      "  -2.8462453  -21.881025   -43.3346       6.6622434   12.633048\n",
      "  -3.9504857   16.459436    31.554502     7.4715796  -24.131535\n",
      "  20.250307    30.020685    -2.6166859  -28.209366    36.554848\n",
      "  -5.939929     6.912944    22.883862    -9.241882    32.972248\n",
      "   5.15098    -42.274227    10.189194   -24.23937     16.703432\n",
      "  46.81965    -14.904207   -38.66253   ]\n",
      "The accuracy of this model is58.95953757225434\n",
      "The rmse of this model is36.43024288450042\n",
      "Split: 7\n"
     ]
    },
    {
     "name": "stderr",
     "output_type": "stream",
     "text": [
      "/home/chris/anaconda3/lib/python3.8/site-packages/sklearn/preprocessing/_label.py:235: DataConversionWarning: A column-vector y was passed when a 1d array was expected. Please change the shape of y to (n_samples, ), for example using ravel().\n",
      "  y = column_or_1d(y, warn=True)\n",
      "/home/chris/anaconda3/lib/python3.8/site-packages/sklearn/preprocessing/_label.py:268: DataConversionWarning: A column-vector y was passed when a 1d array was expected. Please change the shape of y to (n_samples, ), for example using ravel().\n",
      "  y = column_or_1d(y, warn=True)\n"
     ]
    },
    {
     "name": "stdout",
     "output_type": "stream",
     "text": [
      "variables for auroc curve done. Processing fold accuracy + checking best model\n",
      "[ 18.134502    22.807503    -7.253763    47.249092    -4.114626\n",
      " -32.965023    40.533947    25.795424   -27.038052    11.883918\n",
      "   6.8363247  -23.382627    26.485716    32.289112    21.996326\n",
      "  15.051336     9.05761    -24.372602   -38.542656     7.4490128\n",
      "  18.195415    39.321354    -5.7346277   -3.3238852   27.37469\n",
      "   2.7825701   23.024796    12.584885    21.700094   -19.993357\n",
      "  24.827091    -9.554616    37.668785     6.241459    22.467165\n",
      "   5.5776176   -4.2384453   26.459988   -36.75666     27.873829\n",
      "   5.017395    19.402569    12.091239    12.134425     9.235818\n",
      " -24.695488   -30.786058    42.308044   -23.21396      7.123397\n",
      " -31.350079   -28.542126     0.05512878 -37.700047     2.9022002\n",
      "  15.236342    39.99219    -33.24821     36.588696     2.2917547\n",
      " -11.20347     -6.8655787    8.931496    -5.8926115   -6.263839\n",
      "  18.98023     29.473087     6.0827436    7.677098     1.9607282\n",
      "  46.254314   -25.60142      8.41908     13.971398   -22.018064\n",
      "  21.167368     2.416327    34.604145    -7.2119694  -28.416449\n",
      "   5.704404   -38.7797     -38.49179     27.44498     20.847637\n",
      "  29.59483    -14.701106    35.614002   -16.676355   -17.892859\n",
      "  25.08652     14.080803     5.454933    -2.4583435   19.725052\n",
      " -15.355533    19.73298     23.015474    35.683826    -5.232558\n",
      " -12.261738    19.938835    19.282177   -32.81903     -4.000509\n",
      "  35.24144     28.811493   -35.07067    -10.700688    10.834541\n",
      "  28.782307   -37.739815     7.117818   -23.691307     8.122437\n",
      "  -1.2266269   26.434586     9.362248    10.131034    28.698145\n",
      " -14.200993   -12.096556    26.079908   -10.429283     3.3585405\n",
      "  22.174664    16.12753     18.709547    -9.406141    32.46203\n",
      "   3.0226305   27.621222    24.506208    25.5138      21.367435\n",
      "  11.447981     0.15468636 -27.971344    10.056388   -12.693717\n",
      "  21.915892     1.2732148   33.15833     -5.1953883   33.048252\n",
      "   6.1465855   -6.5593014   29.195835    18.632858    39.87312\n",
      " -28.30574      9.8531065    6.5438685   21.73471     45.70598\n",
      "  14.012517    14.6133     -20.544104     7.541377   -27.298344\n",
      "  20.150776     6.6940923  -10.861119   -29.59046     24.961761\n",
      "  13.271646   -23.522669    11.135068    42.46545    -36.924416\n",
      " -15.7549515    8.109306    39.81455   ]\n",
      "The accuracy of this model is68.20809248554913\n",
      "The rmse of this model is34.88732074607075\n",
      "Split: 8\n"
     ]
    },
    {
     "name": "stderr",
     "output_type": "stream",
     "text": [
      "/home/chris/anaconda3/lib/python3.8/site-packages/sklearn/preprocessing/_label.py:235: DataConversionWarning: A column-vector y was passed when a 1d array was expected. Please change the shape of y to (n_samples, ), for example using ravel().\n",
      "  y = column_or_1d(y, warn=True)\n",
      "/home/chris/anaconda3/lib/python3.8/site-packages/sklearn/preprocessing/_label.py:268: DataConversionWarning: A column-vector y was passed when a 1d array was expected. Please change the shape of y to (n_samples, ), for example using ravel().\n",
      "  y = column_or_1d(y, warn=True)\n"
     ]
    },
    {
     "name": "stdout",
     "output_type": "stream",
     "text": [
      "variables for auroc curve done. Processing fold accuracy + checking best model\n",
      "[ 2.10136166e+01  1.23441715e+01  3.83207970e+01 -1.74290848e+01\n",
      "  1.78324070e+01  1.36087155e+00  2.05848255e+01 -3.04016228e+01\n",
      " -6.52755022e-01 -1.05446520e+01 -1.01979160e+01  4.58508348e+00\n",
      "  9.04285526e+00  2.67249546e+01  1.33053946e+00 -2.25832272e+01\n",
      "  2.70910664e+01  1.60755196e+01  2.21485291e+01  7.44069433e+00\n",
      "  9.95560551e+00 -2.32929554e+01 -7.70408916e+00  1.53720760e+01\n",
      " -7.02577448e+00 -1.12080717e+01  3.95195580e+00  5.52959824e+00\n",
      " -2.50811825e+01  3.94185181e+01  1.37841549e+01 -2.93665733e+01\n",
      "  1.15111885e+01 -2.58689613e+01  4.51326408e+01 -1.48857298e+01\n",
      " -1.05596771e+01  6.52965736e+00 -3.78567009e+01  1.76981049e+01\n",
      "  6.47517061e+00  1.25625629e+01 -2.83824368e+01  2.13116188e+01\n",
      "  3.88145332e+01  1.86671371e+01  2.18052750e+01  3.06116276e+01\n",
      "  3.61875076e+01  2.06193423e+00 -3.32184076e-01 -1.60152292e+00\n",
      " -1.16267576e+01  2.22222157e+01 -1.57471828e+01  1.49342508e+01\n",
      "  3.41318092e+01  2.92084179e+01 -6.86407566e+00  8.94586468e+00\n",
      "  1.41975861e+01 -1.82153130e+01  3.35158968e+00 -2.62025776e+01\n",
      "  1.39971018e+01  2.54273834e+01 -7.43165302e+00 -3.46453590e+01\n",
      "  8.06590271e+00 -1.64142399e+01  8.90826988e+00  1.83069420e+01\n",
      "  7.58880329e+00 -2.37446098e+01 -2.59913101e+01  2.64523239e+01\n",
      "  4.26516266e+01  2.83475113e+01 -1.65467892e+01 -8.81691265e+00\n",
      "  2.10549793e+01  2.15043468e+01  3.62815952e+00  3.95639725e+01\n",
      "  3.45781441e+01 -9.23741245e+00  2.12170010e+01  1.22947474e+01\n",
      "  2.32085152e+01  7.94857311e+00  6.03424406e+00  1.58155937e+01\n",
      "  4.12447739e+01  8.77022362e+00  3.38841133e+01  2.49738255e+01\n",
      "  8.37917042e+00  1.97776337e+01  2.89949455e+01  3.83736610e+01\n",
      " -6.95340633e+00 -4.09580183e+00 -4.86469865e-02  3.01323490e+01\n",
      "  2.55598278e+01  2.30526276e+01 -1.34827890e+01 -1.88045063e+01\n",
      " -3.27100677e+01  3.60754204e+01  1.38131952e+01  3.71886253e+00\n",
      " -4.92252960e+01  2.70889339e+01  3.63551445e+01  8.01640892e+00\n",
      " -1.24253788e+01  3.50759811e+01  1.54232085e+00 -4.48757696e+00\n",
      " -4.57810669e+01  9.04754639e+00  1.87647190e+01  3.71148014e+00\n",
      " -3.13204908e+00  6.54462147e+00 -1.35855520e+00 -7.42818165e+00\n",
      "  2.79882660e+01  1.43069041e+00 -3.66196480e+01  6.40624619e+00\n",
      " -1.80467663e+01 -1.41050930e+01  3.55258446e+01  8.03215981e+00\n",
      " -1.53600826e+01 -1.28726590e+00 -3.08594608e+01  1.86867142e+01\n",
      "  9.45216465e+00  1.04529076e+01  1.92382002e+00  1.15959406e+01\n",
      "  3.35466042e+01  3.20964661e+01  5.55696964e+00 -3.71590309e+01\n",
      "  1.42141705e+01  3.29715276e+00 -1.75058403e+01  3.17589970e+01\n",
      "  4.41359291e+01  7.39512539e+00 -7.67101479e+00 -1.60511761e+01\n",
      "  2.02283039e+01  2.51507797e+01 -3.19860764e+01 -1.41384125e+01\n",
      "  1.86916180e+01 -3.76966896e+01 -2.48985195e+01  2.52821789e+01\n",
      "  8.16902733e+00 -4.50030994e+00  3.20526505e+01  2.10438309e+01\n",
      " -2.26966000e+01  2.23230572e+01  4.33605719e+00  1.52890682e+01]\n",
      "The accuracy of this model is69.18604651162791\n",
      "The rmse of this model is34.86216076689103\n",
      "Split: 9\n"
     ]
    },
    {
     "name": "stderr",
     "output_type": "stream",
     "text": [
      "/home/chris/anaconda3/lib/python3.8/site-packages/sklearn/preprocessing/_label.py:235: DataConversionWarning: A column-vector y was passed when a 1d array was expected. Please change the shape of y to (n_samples, ), for example using ravel().\n",
      "  y = column_or_1d(y, warn=True)\n",
      "/home/chris/anaconda3/lib/python3.8/site-packages/sklearn/preprocessing/_label.py:268: DataConversionWarning: A column-vector y was passed when a 1d array was expected. Please change the shape of y to (n_samples, ), for example using ravel().\n",
      "  y = column_or_1d(y, warn=True)\n"
     ]
    },
    {
     "name": "stdout",
     "output_type": "stream",
     "text": [
      "variables for auroc curve done. Processing fold accuracy + checking best model\n",
      "[-11.061209    -6.805632    28.73485     -2.643131   -14.467791\n",
      "   2.9342656  -51.845387    38.05605    -11.564951    24.919388\n",
      "  46.696934    44.719166    27.50324     21.41503    -28.264456\n",
      " -19.1691       7.0184975  -19.079262     8.432476     6.6749306\n",
      "  17.843666     3.016288     3.986282    29.08388     31.972158\n",
      "  -0.1622011  -13.8726635  -10.818548    14.640804    15.175306\n",
      "  31.383196    13.705742   -15.831865   -17.483446    18.838041\n",
      "   8.5458555  -21.507513    17.044806   -21.499756   -16.198586\n",
      "  19.827517   -10.438632    30.891874    25.533354     0.45221117\n",
      "   3.0847094   37.487423    37.326008   -25.405087   -13.33354\n",
      "  12.893285    43.31845     20.969927   -31.840202    -4.43505\n",
      "  45.169945    29.772886     5.6846547   10.765678    -9.5814905\n",
      " -11.997571    23.335054   -38.09796     -1.9915261    5.459482\n",
      "  26.745832    19.687239    -7.58043     18.149754   -32.5949\n",
      "  38.67861     14.015026   -31.569134    11.232328    -4.328199\n",
      "  -9.294287   -23.142935     4.2943916    8.182718    27.000452\n",
      "  19.047058     9.184273   -38.371746    12.108359   -18.807924\n",
      " -33.656925    22.095528    43.176144    -9.462417   -23.798794\n",
      "  48.70949     19.706629    18.717707     6.914374    23.844954\n",
      "  41.661953    34.696026    18.339529   -40.623882    -6.650186\n",
      " -30.057384    15.888929    12.791027    -9.150585    37.18527\n",
      " -27.35895    -12.211689    41.596893     4.5132127   34.389805\n",
      "  27.653412   -45.2311       8.219002    -3.9845839   -4.1460953\n",
      "  19.194094    20.794945   -13.373979   -23.836943    30.785141\n",
      "   2.3734174  -32.925      -13.469964    30.559017    14.385011\n",
      "   8.908405    20.03433     35.64064      4.3099575  -35.5191\n",
      "   3.6631806  -14.673347    13.946402    -0.11650825  28.668291\n",
      "  23.591188   -18.944946     7.592387    14.81403     15.527148\n",
      "  39.178947     3.0021617   15.802999    25.872272    -6.2089605\n",
      " -31.234907    28.793852    53.025032     4.64679     30.168768\n",
      "  21.039167    13.493389    28.888086   -16.11596      7.7612324\n",
      " -18.762398   -22.458502    36.479366   -24.198889    10.993969\n",
      " -13.594       34.1853       9.697401     3.7015254   34.331005\n",
      "  32.609818    -4.2866955   37.52116     -1.7501309   -7.044747\n",
      "  33.444496    30.954601  ]\n",
      "The accuracy of this model is63.95348837209303\n",
      "The rmse of this model is36.893535421004906\n",
      "Split: 10\n"
     ]
    },
    {
     "name": "stderr",
     "output_type": "stream",
     "text": [
      "/home/chris/anaconda3/lib/python3.8/site-packages/sklearn/preprocessing/_label.py:235: DataConversionWarning: A column-vector y was passed when a 1d array was expected. Please change the shape of y to (n_samples, ), for example using ravel().\n",
      "  y = column_or_1d(y, warn=True)\n",
      "/home/chris/anaconda3/lib/python3.8/site-packages/sklearn/preprocessing/_label.py:268: DataConversionWarning: A column-vector y was passed when a 1d array was expected. Please change the shape of y to (n_samples, ), for example using ravel().\n",
      "  y = column_or_1d(y, warn=True)\n"
     ]
    },
    {
     "name": "stdout",
     "output_type": "stream",
     "text": [
      "variables for auroc curve done. Processing fold accuracy + checking best model\n",
      "[-19.142595    -2.0334725  -25.148449   -16.762173    29.804842\n",
      " -19.202095    19.058683    25.121967   -40.026722   -28.582401\n",
      "  18.908207   -30.433802    50.3227     -32.024574    10.344584\n",
      "  51.52221     30.877254    25.001236    37.39346      3.697347\n",
      " -26.851542   -37.57119     11.153111    14.834943    17.13619\n",
      "  21.136766     7.627177    -8.6044855   14.091857    42.7216\n",
      "  31.211256    48.712383     0.49453902   9.322033    23.488152\n",
      " -21.833387    40.151012    31.609114   -16.157879     4.7835917\n",
      "  25.082827   -18.096869     2.6886384   10.25235     31.335777\n",
      "  43.19769     -4.8383646   15.933842    37.700054    59.94995\n",
      "  27.788658   -27.930595   -18.950098    59.443043   -10.375199\n",
      "  30.515       28.904833    53.343113    -6.4039917    0.49387735\n",
      "   7.6236334    2.7558963   -8.34483    -15.692127    34.62244\n",
      " -34.950092    -3.642665    43.85359      9.695608   -30.287172\n",
      " -18.710754   -19.674948   -14.263624    31.362152     6.9090695\n",
      "  -3.6692195  -17.805931   -31.795944     4.2892904   -5.3574085\n",
      "  11.246236    27.463844    36.805794    -5.889235   -27.506832\n",
      "  19.872519    26.278336   -13.973506    37.723976    23.331453\n",
      "  37.799316    25.00005    -18.896498     3.6094782  -22.179651\n",
      "  -2.3913133    4.4871683  -15.713837   -15.228956   -16.277018\n",
      " -22.233356    14.910373     5.153587     7.0076914  -19.069109\n",
      " -41.430412    -2.06034    -35.05766     34.582928   -29.77485\n",
      " -27.157543    38.196926   -37.780643     7.510148    -5.2802906\n",
      " -31.64415      0.47146004  13.674169     7.4628887    1.6242025\n",
      "   6.283054    19.782904    30.35922    -30.968563   -23.245958\n",
      "  11.43581    -18.31756      5.0437055   15.49249      6.489481\n",
      " -24.018003    11.176996    -7.9325       9.929695     8.5029745\n",
      "  51.205803   -15.731472    -7.0967336  -32.46446     -1.1525153\n",
      "  42.81687     18.44891    -32.079826    26.155901    49.314114\n",
      "  -1.0687177   14.572263    17.126673    -6.745256    16.233295\n",
      " -22.47417    -16.029984     2.1456947   35.456966    -5.0733466\n",
      "  16.834364   -25.96101      2.2114837    3.3026834   23.893864\n",
      "   9.61464     29.755644     1.8572075   -2.0118973   -1.4015224\n",
      " -31.287882   -11.5079565  -12.615148    46.34105     14.65573\n",
      "  -7.302914   -30.77622   ]\n",
      "The accuracy of this model is65.11627906976744\n",
      "The rmse of this model is35.79373902556905\n",
      "Best win percentage split = 72.83236994219652\n",
      "Best margin rmse = 34.50415359416728\n",
      "Training Testing Accuracy: 66.47% (3.50%)\n",
      "Training Testing Margins: 36.33% (1.74%)\n",
      "(1718, 1)\n",
      "(1718, 1)\n",
      "(1718, 1051)\n",
      "X_train shape: (1546, 1051)\n",
      "X_test shape: (172, 1051)\n",
      "Fitting 10 folds for each of 12 candidates, totalling 120 fits\n"
     ]
    },
    {
     "name": "stderr",
     "output_type": "stream",
     "text": [
      "[Parallel(n_jobs=1)]: Using backend SequentialBackend with 1 concurrent workers.\n",
      "[Parallel(n_jobs=1)]: Done 120 out of 120 | elapsed:  1.4min finished\n"
     ]
    },
    {
     "name": "stdout",
     "output_type": "stream",
     "text": [
      "best score: 0.6688227684346701\n",
      "Fitting 10 folds for each of 12 candidates, totalling 120 fits\n"
     ]
    },
    {
     "name": "stderr",
     "output_type": "stream",
     "text": [
      "[Parallel(n_jobs=1)]: Using backend SequentialBackend with 1 concurrent workers.\n",
      "[Parallel(n_jobs=1)]: Done 120 out of 120 | elapsed:  2.6min finished\n"
     ]
    },
    {
     "name": "stdout",
     "output_type": "stream",
     "text": [
      "best score: 0.6688227684346701\n",
      "Fitting 10 folds for each of 12 candidates, totalling 120 fits\n"
     ]
    },
    {
     "name": "stderr",
     "output_type": "stream",
     "text": [
      "[Parallel(n_jobs=1)]: Using backend SequentialBackend with 1 concurrent workers.\n",
      "[Parallel(n_jobs=1)]: Done 120 out of 120 | elapsed:  1.6min finished\n"
     ]
    },
    {
     "name": "stdout",
     "output_type": "stream",
     "text": [
      "best score: 0.6688227684346701\n",
      "Fitting 10 folds for each of 12 candidates, totalling 120 fits\n"
     ]
    },
    {
     "name": "stderr",
     "output_type": "stream",
     "text": [
      "[Parallel(n_jobs=1)]: Using backend SequentialBackend with 1 concurrent workers.\n",
      "[Parallel(n_jobs=1)]: Done 120 out of 120 | elapsed:  3.4min finished\n"
     ]
    },
    {
     "name": "stdout",
     "output_type": "stream",
     "text": [
      "best score: 0.6688227684346701\n",
      "Fitting 10 folds for each of 12 candidates, totalling 120 fits\n"
     ]
    },
    {
     "name": "stderr",
     "output_type": "stream",
     "text": [
      "[Parallel(n_jobs=1)]: Using backend SequentialBackend with 1 concurrent workers.\n",
      "[Parallel(n_jobs=1)]: Done 120 out of 120 | elapsed:  3.6min finished\n"
     ]
    },
    {
     "name": "stdout",
     "output_type": "stream",
     "text": [
      "best score: 0.6688227684346701\n",
      "X_train shape: (1546, 1051)\n",
      "X_test shape: (172, 1051)\n",
      "Fitting 10 folds for each of 12 candidates, totalling 120 fits\n"
     ]
    },
    {
     "name": "stderr",
     "output_type": "stream",
     "text": [
      "[Parallel(n_jobs=1)]: Using backend SequentialBackend with 1 concurrent workers.\n",
      "[Parallel(n_jobs=1)]: Done 120 out of 120 | elapsed:  2.8min finished\n"
     ]
    },
    {
     "name": "stdout",
     "output_type": "stream",
     "text": [
      "best score: 0.2424253094895693\n",
      "Fitting 10 folds for each of 12 candidates, totalling 120 fits\n"
     ]
    },
    {
     "name": "stderr",
     "output_type": "stream",
     "text": [
      "[Parallel(n_jobs=1)]: Using backend SequentialBackend with 1 concurrent workers.\n",
      "[Parallel(n_jobs=1)]: Done 120 out of 120 | elapsed:  1.5min finished\n"
     ]
    },
    {
     "name": "stdout",
     "output_type": "stream",
     "text": [
      "best score: 0.2424253094895693\n",
      "Fitting 10 folds for each of 12 candidates, totalling 120 fits\n"
     ]
    },
    {
     "name": "stderr",
     "output_type": "stream",
     "text": [
      "[Parallel(n_jobs=1)]: Using backend SequentialBackend with 1 concurrent workers.\n",
      "[Parallel(n_jobs=1)]: Done 120 out of 120 | elapsed:  1.8min finished\n"
     ]
    },
    {
     "name": "stdout",
     "output_type": "stream",
     "text": [
      "best score: 0.26500935405231696\n",
      "Fitting 10 folds for each of 12 candidates, totalling 120 fits\n"
     ]
    },
    {
     "name": "stderr",
     "output_type": "stream",
     "text": [
      "[Parallel(n_jobs=1)]: Using backend SequentialBackend with 1 concurrent workers.\n",
      "[Parallel(n_jobs=1)]: Done 120 out of 120 | elapsed:  4.1min finished\n"
     ]
    },
    {
     "name": "stdout",
     "output_type": "stream",
     "text": [
      "best score: 0.26500935405231696\n",
      "Fitting 10 folds for each of 12 candidates, totalling 120 fits\n"
     ]
    },
    {
     "name": "stderr",
     "output_type": "stream",
     "text": [
      "[Parallel(n_jobs=1)]: Using backend SequentialBackend with 1 concurrent workers.\n",
      "[Parallel(n_jobs=1)]: Done 120 out of 120 | elapsed:  2.6min finished\n"
     ]
    },
    {
     "name": "stdout",
     "output_type": "stream",
     "text": [
      "best score: 0.26500935405231696\n",
      "      Margin\n",
      "0      -21.0\n",
      "1       42.0\n",
      "2      -34.0\n",
      "3      -37.0\n",
      "4      -24.0\n",
      "...      ...\n",
      "1713   -47.0\n",
      "1714    32.0\n",
      "1715    19.0\n",
      "1716   -21.0\n",
      "1717   -36.0\n",
      "\n",
      "[1718 rows x 1 columns]\n",
      "      H_PAV_Sum  A_PAV_Sum  Ladder Pos_H  Form_H  Season Wins_H  \\\n",
      "0        215.03     251.84           3.0     3.0            3.0   \n",
      "1        257.08     204.98           6.0     2.0            2.0   \n",
      "2        258.08     178.63           4.0     3.0            3.0   \n",
      "3        226.35     190.95           9.0     1.0            1.0   \n",
      "4        235.92     212.38          10.0     1.0            1.0   \n",
      "...         ...        ...           ...     ...            ...   \n",
      "1713     208.80     267.28          17.0     0.0            1.0   \n",
      "1714     220.89     204.79           8.0     3.0            5.0   \n",
      "1715     189.67     251.66           9.0     2.0            4.0   \n",
      "1716     162.87     250.97          14.0     0.0            3.0   \n",
      "1717     271.18     233.58           3.0     2.0            7.0   \n",
      "\n",
      "      Season Loss_H  Season Draw_H  H_H/A? n-1  H_H/A Win? n-1  \\\n",
      "0               0.0            0.0         1.0             1.0   \n",
      "1               1.0            0.0         1.0             1.0   \n",
      "2               0.0            0.0         0.0             0.0   \n",
      "3               2.0            0.0         1.0             1.0   \n",
      "4               2.0            0.0         1.0             1.0   \n",
      "...             ...            ...         ...             ...   \n",
      "1713            8.0            0.0         0.0             1.0   \n",
      "1714            4.0            0.0         1.0             1.0   \n",
      "1715            5.0            0.0         1.0             1.0   \n",
      "1716            6.0            0.0         0.0             1.0   \n",
      "1717            2.0            0.0         1.0             0.0   \n",
      "\n",
      "      H_Points For n-1  ...  A_Venue n-3_Mars Stadium  \\\n",
      "0                131.0  ...                       0.0   \n",
      "1                145.0  ...                       0.0   \n",
      "2                135.0  ...                       0.0   \n",
      "3                140.0  ...                       0.0   \n",
      "4                177.0  ...                       0.0   \n",
      "...                ...  ...                       ...   \n",
      "1713              46.0  ...                       0.0   \n",
      "1714             117.0  ...                       0.0   \n",
      "1715              99.0  ...                       0.0   \n",
      "1716              66.0  ...                       0.0   \n",
      "1717              33.0  ...                       0.0   \n",
      "\n",
      "      A_Venue n-3_Marvel Stadium  A_Venue n-3_Metricon Stadium  \\\n",
      "0                            0.0                           0.0   \n",
      "1                            0.0                           0.0   \n",
      "2                            1.0                           0.0   \n",
      "3                            0.0                           0.0   \n",
      "4                            0.0                           0.0   \n",
      "...                          ...                           ...   \n",
      "1713                         0.0                           0.0   \n",
      "1714                         1.0                           0.0   \n",
      "1715                         0.0                           0.0   \n",
      "1716                         0.0                           0.0   \n",
      "1717                         0.0                           0.0   \n",
      "\n",
      "      A_Venue n-3_Optus Stadium  A_Venue n-3_Riverway Stadium  \\\n",
      "0                           0.0                           0.0   \n",
      "1                           0.0                           0.0   \n",
      "2                           0.0                           0.0   \n",
      "3                           0.0                           0.0   \n",
      "4                           0.0                           0.0   \n",
      "...                         ...                           ...   \n",
      "1713                        0.0                           0.0   \n",
      "1714                        0.0                           0.0   \n",
      "1715                        0.0                           0.0   \n",
      "1716                        0.0                           0.0   \n",
      "1717                        0.0                           0.0   \n",
      "\n",
      "      A_Venue n-3_SCG  A_Venue n-3_TIO Stadium  A_Venue n-3_TIO Traeger Park  \\\n",
      "0                 0.0                      0.0                           0.0   \n",
      "1                 0.0                      0.0                           0.0   \n",
      "2                 0.0                      0.0                           0.0   \n",
      "3                 0.0                      0.0                           0.0   \n",
      "4                 0.0                      0.0                           0.0   \n",
      "...               ...                      ...                           ...   \n",
      "1713              0.0                      0.0                           0.0   \n",
      "1714              0.0                      0.0                           0.0   \n",
      "1715              0.0                      0.0                           0.0   \n",
      "1716              0.0                      0.0                           0.0   \n",
      "1717              0.0                      0.0                           0.0   \n",
      "\n",
      "      A_Venue n-3_University of Tasmania Stadium  A_Venue n-3_Westpac Stadium  \n",
      "0                                            0.0                          0.0  \n",
      "1                                            0.0                          0.0  \n",
      "2                                            0.0                          0.0  \n",
      "3                                            0.0                          0.0  \n",
      "4                                            0.0                          0.0  \n",
      "...                                          ...                          ...  \n",
      "1713                                         0.0                          0.0  \n",
      "1714                                         0.0                          0.0  \n",
      "1715                                         0.0                          0.0  \n",
      "1716                                         0.0                          0.0  \n",
      "1717                                         0.0                          0.0  \n",
      "\n",
      "[1718 rows x 1051 columns]\n",
      "Split: 1\n"
     ]
    },
    {
     "name": "stderr",
     "output_type": "stream",
     "text": [
      "/home/chris/anaconda3/lib/python3.8/site-packages/sklearn/preprocessing/_label.py:235: DataConversionWarning: A column-vector y was passed when a 1d array was expected. Please change the shape of y to (n_samples, ), for example using ravel().\n",
      "  y = column_or_1d(y, warn=True)\n",
      "/home/chris/anaconda3/lib/python3.8/site-packages/sklearn/preprocessing/_label.py:268: DataConversionWarning: A column-vector y was passed when a 1d array was expected. Please change the shape of y to (n_samples, ), for example using ravel().\n",
      "  y = column_or_1d(y, warn=True)\n"
     ]
    },
    {
     "name": "stdout",
     "output_type": "stream",
     "text": [
      "variables for auroc curve done. Processing fold accuracy + checking best model\n",
      "[ 20.471231     2.10042     26.57758     21.148582    12.673526\n",
      " -25.332006    22.589489    -3.5032434  -39.755272    11.568306\n",
      "  24.417295    -5.81497     31.505865    31.134459   -28.877117\n",
      "  37.058945   -28.354115    18.73139     -1.2210007   22.45316\n",
      "   8.706315    32.319263    -1.7674947   36.383415    23.703846\n",
      " -19.48311      7.230009   -38.857925    41.219433    20.174559\n",
      " -13.04703      1.6568708   17.578875     4.531458   -25.405025\n",
      "  24.541842    25.93503     12.130915    15.836225   -30.51566\n",
      "   1.8464212   -0.4305365    8.850066    22.633158    -4.0551176\n",
      "  10.756392    27.026817     9.009122     6.676508   -15.995226\n",
      " -20.361332   -19.712984     1.9770968   19.893883     1.3048277\n",
      "   3.4402792    1.9972031   -2.8525124    5.54992     19.135733\n",
      "  -8.980899   -33.36841     -0.39595294   0.90007806 -11.290493\n",
      " -24.838707   -12.747708    17.981985   -21.296614   -32.356636\n",
      " -25.251688    15.639198   -11.61517     20.29484     -0.23129243\n",
      "   1.9287493   -5.293358    14.427175    -4.844159     7.9515514\n",
      "  19.565348     3.3039587  -16.209759     0.05431157  15.053428\n",
      "   2.1294136   17.200966     6.2057657   37.45628    -23.792233\n",
      "  -3.4977198    8.425711    27.362707   -38.17978      6.503227\n",
      "  31.375801    36.295376    -2.2240233  -19.943174    -0.12913752\n",
      "  33.932102   -11.407299    -4.542612    39.46608    -16.438658\n",
      "  28.028412   -22.058653     6.693247    25.42308      2.2862887\n",
      "  10.749339    51.663994     5.8890696    7.5804377    7.095358\n",
      " -30.99886    -22.350384    28.567694    41.86389     -4.954191\n",
      " -30.785828     3.8130255  -10.980246    40.255493    -1.6485734\n",
      "  22.177046    29.76135    -10.5016365  -37.995094    41.811802\n",
      "   1.0624555   12.662325    10.0141735  -19.630327    20.057114\n",
      "  -9.31726      9.525603    27.97313    -35.668472     7.141556\n",
      "   0.7418444    4.2278814   29.544868    15.850711   -29.47684\n",
      "  -1.8655849   21.908945     8.073049    12.987583   -37.595345\n",
      "   1.8274783   28.720224     4.057443    25.411936    25.77743\n",
      " -29.576284    26.04655    -17.216017     0.39731932  24.67083\n",
      " -14.254176    -2.994547    10.539788     6.0702124   30.300573\n",
      "  14.584376    15.499104    16.507336    33.884007   -12.210538\n",
      "  13.625315    43.599842  ]\n",
      "The accuracy of this model is66.86046511627907\n",
      "The rmse of this model is35.34114797604094\n",
      "found new best classify\n",
      "found best new margin\n",
      "Split: 2\n"
     ]
    },
    {
     "name": "stderr",
     "output_type": "stream",
     "text": [
      "/home/chris/anaconda3/lib/python3.8/site-packages/sklearn/preprocessing/_label.py:235: DataConversionWarning: A column-vector y was passed when a 1d array was expected. Please change the shape of y to (n_samples, ), for example using ravel().\n",
      "  y = column_or_1d(y, warn=True)\n",
      "/home/chris/anaconda3/lib/python3.8/site-packages/sklearn/preprocessing/_label.py:268: DataConversionWarning: A column-vector y was passed when a 1d array was expected. Please change the shape of y to (n_samples, ), for example using ravel().\n",
      "  y = column_or_1d(y, warn=True)\n"
     ]
    },
    {
     "name": "stdout",
     "output_type": "stream",
     "text": [
      "variables for auroc curve done. Processing fold accuracy + checking best model\n",
      "[ 28.59059     -0.361525     2.829233   -13.600703    39.57542\n",
      "   4.6962833   16.09922     41.11227    -10.188163     1.568255\n",
      "  36.87767    -22.97524     22.01386      4.1403427   17.004347\n",
      "  52.907566    -1.5862644   -7.560195    14.022042   -23.279867\n",
      "  29.843185    30.677292    28.741938    -9.236185    18.23384\n",
      "  -8.167509     3.8896353  -15.402055     7.118311   -25.398554\n",
      "   5.863179     9.453533     7.408966   -25.404175    13.435261\n",
      "  -9.2599535   22.14353      9.222715     6.6155167   24.274954\n",
      "  16.23922     -9.456334     0.50170004 -24.716505    41.521717\n",
      "  21.729658     3.199247     6.11596    -32.038017    21.051373\n",
      "  40.678387    14.669735    -2.0201561   26.979454    33.252926\n",
      " -36.511818    15.575015    -0.73510516  -9.205004    37.15273\n",
      "  26.73371      0.13599348  -1.4126558  -10.004087   -39.015377\n",
      "   7.344262   -34.577965    35.072796   -13.098299     3.9327357\n",
      " -35.616566    25.658875   -24.77795     42.3695      34.061497\n",
      "  18.172497    -6.4408264  -20.087257    21.545618   -17.50591\n",
      "  12.910409     2.9126134   24.921602    -6.458103    -1.3683226\n",
      "  13.96422     17.458797    27.665129    -5.047138    -5.091405\n",
      " -16.041422    15.071559   -29.25983     12.922617     6.830537\n",
      " -15.533514     8.731558   -20.815273    36.59354     18.594257\n",
      " -19.62794     11.900119   -40.069565   -20.8524      -8.117683\n",
      " -16.44481    -21.56161     29.836065    42.685863   -26.216127\n",
      "  -9.209765   -31.859474     0.8550825  -32.199955    16.851267\n",
      "  16.086552   -33.050846    13.475603    17.630236    10.879014\n",
      " -22.389166    11.554565     8.019637     1.0158966    5.317543\n",
      "   4.3046517   13.684304     8.406582    21.211927     6.7137203\n",
      "  17.958118    35.82614     -4.0782614   15.733841   -22.790482\n",
      " -15.029565    23.82141     12.842588    16.457111   -11.4679575\n",
      "   6.324502   -10.03128     -7.413042     4.358433    17.321547\n",
      "  39.988586    -1.0699825  -24.266607    13.391459    41.919643\n",
      " -13.518483    -7.646496    23.112076    27.230171   -14.251382\n",
      "  -0.97240996  14.739692   -20.196367    35.575336   -17.816082\n",
      "  26.941221   -28.819607    23.185856   -20.489166   -14.406102\n",
      "   2.2320225    6.1930065   21.995266    14.997088    32.81411\n",
      " -36.952255   -12.6453705 ]\n",
      "The accuracy of this model is67.44186046511628\n",
      "The rmse of this model is32.12547680959192\n",
      "found new best classify\n",
      "found best new margin\n",
      "Split: 3\n"
     ]
    },
    {
     "name": "stderr",
     "output_type": "stream",
     "text": [
      "/home/chris/anaconda3/lib/python3.8/site-packages/sklearn/preprocessing/_label.py:235: DataConversionWarning: A column-vector y was passed when a 1d array was expected. Please change the shape of y to (n_samples, ), for example using ravel().\n",
      "  y = column_or_1d(y, warn=True)\n",
      "/home/chris/anaconda3/lib/python3.8/site-packages/sklearn/preprocessing/_label.py:268: DataConversionWarning: A column-vector y was passed when a 1d array was expected. Please change the shape of y to (n_samples, ), for example using ravel().\n",
      "  y = column_or_1d(y, warn=True)\n"
     ]
    },
    {
     "name": "stdout",
     "output_type": "stream",
     "text": [
      "variables for auroc curve done. Processing fold accuracy + checking best model\n",
      "[ 23.188416   -19.559294    34.75455      4.902323   -23.91479\n",
      " -22.34124    -34.79353      6.145338    17.100424    15.181067\n",
      "   4.657201    33.341938    34.175903   -10.961337    14.085042\n",
      "  33.54081     18.577732    17.599993   -10.498321    15.050471\n",
      "  20.373041     3.3811147   36.687325    34.68584    -22.279436\n",
      "  22.472647    -9.631422    18.55973     17.092514    11.973572\n",
      " -19.505579    -1.2649922   16.41373    -23.298502    29.971672\n",
      "  15.536722   -13.933721    -0.4699638   -1.4273851    6.47972\n",
      "   5.996421     6.81176      0.29499745 -12.757813     4.668601\n",
      " -27.68367     32.089676    -6.089341    31.356865    42.116337\n",
      "   2.383377    15.011683   -22.033272   -13.322394    16.130262\n",
      "  12.7834635   -8.113193   -21.944616   -18.245968     1.1075063\n",
      "   7.9114933   -4.2712145    3.3001006   21.109627   -34.358128\n",
      "  -9.537481    -8.146649    21.291948    36.004936    -4.8107204\n",
      "  28.630604    15.173319    34.216923    39.88084     11.173894\n",
      "  11.894193    -2.3305392   -9.785424    10.330764     8.098648\n",
      "   4.2273107   22.250704    10.162227    14.403644    -8.197076\n",
      "  -5.3673973   24.31215      4.1047516  -22.771162    35.879063\n",
      " -17.777657   -32.620903    14.170304   -10.279631   -21.953684\n",
      "   0.36814332 -19.813854   -23.794594    17.127295   -15.97541\n",
      "   2.054613    19.300165     3.208372   -18.230165   -14.190118\n",
      "  -0.4662149  -11.062407    25.778784    34.990276   -37.634415\n",
      "  26.571522    37.941193   -30.166382    25.184383    19.044647\n",
      "  21.777472    41.592648   -20.88083    -30.371376    16.29374\n",
      "  13.604739    18.336905    -7.707943    15.386507   -13.515886\n",
      "  16.295153    -3.6667223   -0.25192523 -19.764187     3.8041973\n",
      " -10.031896   -28.512705    -0.40270638  43.341877     6.1145267\n",
      "  16.430773   -10.285362     5.685217    18.054625    16.82407\n",
      "   7.443801    14.951223    10.395476    12.404118     6.698429\n",
      "   7.736764    23.149038    30.773886    -6.7865496  -12.171625\n",
      "  24.498735    16.466766    14.590405    17.191296     6.426384\n",
      "  14.411562     0.3211847   15.2603655   20.008802    -7.9511375\n",
      "   2.219338    17.530045    24.777935    15.357366    24.741222\n",
      " -30.961803    17.475288    -5.457534    18.545197    -5.7544203\n",
      "  -7.461894    31.498373  ]\n",
      "The accuracy of this model is59.30232558139535\n",
      "The rmse of this model is37.502807127203795\n",
      "Split: 4\n"
     ]
    },
    {
     "name": "stderr",
     "output_type": "stream",
     "text": [
      "/home/chris/anaconda3/lib/python3.8/site-packages/sklearn/preprocessing/_label.py:235: DataConversionWarning: A column-vector y was passed when a 1d array was expected. Please change the shape of y to (n_samples, ), for example using ravel().\n",
      "  y = column_or_1d(y, warn=True)\n",
      "/home/chris/anaconda3/lib/python3.8/site-packages/sklearn/preprocessing/_label.py:268: DataConversionWarning: A column-vector y was passed when a 1d array was expected. Please change the shape of y to (n_samples, ), for example using ravel().\n",
      "  y = column_or_1d(y, warn=True)\n"
     ]
    },
    {
     "name": "stdout",
     "output_type": "stream",
     "text": [
      "variables for auroc curve done. Processing fold accuracy + checking best model\n",
      "[  7.904351    15.337182    48.793667     7.156309     3.9208574\n",
      "  25.88293    -20.703838   -11.67966      9.302857    32.065277\n",
      " -20.867102   -31.82766      4.5274906  -36.28147     27.988876\n",
      "  21.690351    10.577958   -21.042276   -14.362123    -3.007273\n",
      "  28.273748    -5.730732     1.5060881   12.888539    45.934208\n",
      "  25.520792    29.547394   -30.419275    32.479065     2.0887685\n",
      " -25.649525     2.7972498  -38.821503    29.069794   -26.98329\n",
      "  42.192753    17.6721     -11.109813    17.056026    32.09919\n",
      " -24.08065    -26.678047    33.80748     -2.3271868  -38.607635\n",
      "   9.077916    23.703989    37.054283    24.454914   -14.509564\n",
      " -35.57685    -35.519684    38.650185    49.897987    29.249643\n",
      "  14.349861   -15.95256    -19.548975     1.8603287   32.23436\n",
      "  11.205995   -10.746346    31.51991     -6.049652    43.570847\n",
      "  24.916298    -9.953377    -9.150562    12.752887   -14.457465\n",
      "   7.7480397  -31.17748    -24.51484    -30.08891     31.137367\n",
      "  22.876713    27.840504    11.482339    26.413368    17.180954\n",
      "  24.739124    -3.6847973   32.181892   -36.86835      4.8150997\n",
      " -10.190143    11.158543   -19.691217    -5.6894083    8.979565\n",
      " -17.941467     6.4599466   34.96369    -14.599716    22.722086\n",
      "  21.262505    15.933224     9.128668    10.328567   -16.180504\n",
      " -11.7913685   25.122435     5.9952526   -7.98586     11.05429\n",
      "  16.434515   -10.034151    25.635344    17.394526    17.0468\n",
      "  10.202116    11.556723    19.042818     8.485943     6.9633465\n",
      "   3.9959052  -29.945604    -9.872391    31.639175     2.0789957\n",
      "  29.324102     9.169889    23.856857    27.573921    36.946236\n",
      "   3.5425391   -5.1014175  -22.478397    -5.063507    22.565754\n",
      "  39.59974     14.619188    15.43251     -8.787263    -4.6671524\n",
      "   0.90811265  -1.518544   -19.109758    41.892574     6.393442\n",
      "  17.170565     8.163253   -30.7675       0.6250857  -14.938422\n",
      "  16.253117    22.995296   -19.284737    28.906645    -3.032294\n",
      "  -1.4920058  -11.797882    -5.3415394  -32.73968     28.3366\n",
      "  -0.69902277  -9.404095    24.786762     7.7509465   18.08282\n",
      " -14.531545    40.295734    33.86774     -6.7907763   28.85793\n",
      "   6.8953533  -12.737212    19.424646   -37.159294    10.323511\n",
      " -24.162186   -23.963886  ]\n",
      "The accuracy of this model is69.18604651162791\n",
      "The rmse of this model is38.14494200762961\n",
      "found new best classify\n",
      "Split: 5\n"
     ]
    },
    {
     "name": "stderr",
     "output_type": "stream",
     "text": [
      "/home/chris/anaconda3/lib/python3.8/site-packages/sklearn/preprocessing/_label.py:235: DataConversionWarning: A column-vector y was passed when a 1d array was expected. Please change the shape of y to (n_samples, ), for example using ravel().\n",
      "  y = column_or_1d(y, warn=True)\n",
      "/home/chris/anaconda3/lib/python3.8/site-packages/sklearn/preprocessing/_label.py:268: DataConversionWarning: A column-vector y was passed when a 1d array was expected. Please change the shape of y to (n_samples, ), for example using ravel().\n",
      "  y = column_or_1d(y, warn=True)\n"
     ]
    },
    {
     "name": "stdout",
     "output_type": "stream",
     "text": [
      "variables for auroc curve done. Processing fold accuracy + checking best model\n",
      "[ 10.100414     8.645704   -39.907093    23.956846    -0.06938422\n",
      "   4.1646166    3.9702618    8.920417    11.587449    17.278763\n",
      "   6.3416796  -14.969604    27.564547   -25.314222    40.440037\n",
      "  12.444251    41.72275     -3.2286108  -26.045778     8.184683\n",
      "   8.212989    -5.5035563  -25.035175    32.080467    33.07635\n",
      "  14.349046   -22.171782    21.718044     8.429554     6.1634445\n",
      "   2.058062    10.797001    12.628612   -20.734901    38.211246\n",
      "  15.787045    25.263805   -31.456062    26.833992    24.31599\n",
      "  28.891712    33.4289       5.0676155   -5.4062834   20.67285\n",
      "  13.146471    42.873848    38.672863    -7.958761     7.5261354\n",
      " -21.818367   -12.41636     29.455236   -19.092407    20.65978\n",
      " -28.991556   -22.708313    50.24721     31.895554    38.43852\n",
      " -22.43443     -6.3565817   26.637188    -0.39746344 -39.200836\n",
      "  -2.948247    27.94269    -25.907135    16.197227   -24.646158\n",
      "   0.66039217 -18.151281    23.99433     36.89855     11.038924\n",
      " -33.112915    -8.806445     4.33076    -14.422594   -15.206553\n",
      "   6.5462055    1.3753098    8.382389   -33.25667     22.874315\n",
      "  45.894142    28.665705    15.789316    29.550121   -15.95096\n",
      "   7.315175    12.171485    21.281471    31.014671    30.978146\n",
      "  29.217188    29.111814   -12.681834   -23.270794     8.967095\n",
      "  37.170155    18.845194    -7.4607677   20.53938    -11.876234\n",
      " -14.301739    14.495887    23.590694     8.209969    13.632414\n",
      "  32.43067    -12.190102    10.16431    -20.942812   -25.261427\n",
      "  -7.7724266   19.791689     1.0025746   12.561225     4.7692866\n",
      " -15.050088   -33.64296     24.20967      8.949354   -34.73423\n",
      "  18.318876    10.823334     6.6251535    4.31711     -6.677842\n",
      "  -2.2721515   -3.3981624   -2.7722378  -22.05904     27.583553\n",
      "  29.384241     3.387264    -7.7192745   -8.235514   -15.279685\n",
      "  41.12515     11.645381    12.927226    31.295418    -6.1204023\n",
      "  16.695837    26.071154    37.018776    11.993843    16.245552\n",
      " -26.039646   -20.960138   -12.638326   -25.543808   -31.964977\n",
      " -30.26879      5.1530466   20.670443     1.0715497   15.52704\n",
      " -10.219639    29.719114     5.2410603    2.286696    24.296528\n",
      "  36.43283     19.224789     7.4110622   19.305803     9.177794\n",
      " -12.244507    12.796459  ]\n",
      "The accuracy of this model is70.34883720930233\n",
      "The rmse of this model is30.733453081911424\n",
      "found new best classify\n",
      "found best new margin\n",
      "Split: 6\n"
     ]
    },
    {
     "name": "stderr",
     "output_type": "stream",
     "text": [
      "/home/chris/anaconda3/lib/python3.8/site-packages/sklearn/preprocessing/_label.py:235: DataConversionWarning: A column-vector y was passed when a 1d array was expected. Please change the shape of y to (n_samples, ), for example using ravel().\n",
      "  y = column_or_1d(y, warn=True)\n",
      "/home/chris/anaconda3/lib/python3.8/site-packages/sklearn/preprocessing/_label.py:268: DataConversionWarning: A column-vector y was passed when a 1d array was expected. Please change the shape of y to (n_samples, ), for example using ravel().\n",
      "  y = column_or_1d(y, warn=True)\n"
     ]
    },
    {
     "name": "stdout",
     "output_type": "stream",
     "text": [
      "variables for auroc curve done. Processing fold accuracy + checking best model\n",
      "[ 4.51802330e+01 -6.33020878e+00 -1.77282219e+01 -2.63585434e+01\n",
      " -3.35343666e+01  4.44805489e+01 -1.54324379e+01  2.30468750e+01\n",
      "  2.77942123e+01  2.03350496e+00  3.41129417e+01 -2.31687126e+01\n",
      "  1.35172443e+01  2.83549652e+01 -4.39707279e+00  3.22841620e+00\n",
      " -1.42867746e+01  1.41299744e+01  7.20392990e+00  6.68769836e+00\n",
      "  4.28373814e-02  1.75948906e+01 -2.10041561e+01 -1.66961002e+01\n",
      " -2.35546207e+01  4.67324924e+00  2.17711678e+01 -2.59446697e+01\n",
      "  6.90816116e+00  1.11269464e+01  2.01817646e+01  1.01124973e+01\n",
      " -9.05287266e-02  1.94407043e+01  9.24783134e+00  3.80372925e+01\n",
      "  3.31460419e+01  1.71627007e+01  1.52533493e+01  3.16384926e+01\n",
      "  3.30147934e+01 -3.13909340e+00  1.80794659e+01 -9.02493763e+00\n",
      "  2.53585033e+01 -1.08280048e+01  6.02146816e+00 -2.62298603e+01\n",
      "  5.50381899e-01 -2.87508488e+01  2.12898769e+01  2.77004604e+01\n",
      "  2.59228477e+01  2.59488087e+01  2.10410881e+01 -2.45220871e+01\n",
      "  1.97670956e+01 -2.65130653e+01  7.67940283e-01  2.04141541e+01\n",
      "  1.48635447e+00  2.43193741e+01 -2.73164196e+01 -1.35221109e+01\n",
      "  1.15416737e+01  7.35255814e+00  3.44317894e+01 -3.13364639e+01\n",
      "  1.04616222e+01  4.22475204e+01 -1.77097893e+01 -3.95690689e+01\n",
      " -9.10081577e+00 -2.41806946e+01  1.80648823e+01  3.16605110e+01\n",
      "  2.00799809e+01  6.68921947e+00 -2.69990120e+01 -1.14406338e+01\n",
      "  2.80696793e+01 -2.53794575e+01  1.25771465e+01  5.43466210e-01\n",
      "  1.71832581e+01  3.00371623e+00  1.74691448e+01  2.84900513e+01\n",
      " -3.52741146e+00  3.06261845e+01  4.44452858e+01  1.88035259e+01\n",
      "  8.65999603e+00  2.54723206e+01  7.21692562e+00  7.97269154e+00\n",
      " -2.40225482e+00  2.09205170e+01  1.40946198e+01 -8.21493149e+00\n",
      " -1.76903477e+01  1.19102116e+01  3.02660370e+01  4.74532032e+00\n",
      " -1.23934758e+00  1.16716518e+01  1.59710860e+00 -2.91179771e+01\n",
      " -4.79989338e+00 -8.46730518e+00  6.00851631e+00  3.77598686e+01\n",
      "  3.01762295e+01 -2.89137115e+01 -3.95662117e+00 -1.36646147e+01\n",
      "  3.87425385e+01  1.36722298e+01  2.94906211e+00 -1.49777257e+00\n",
      "  2.73730717e+01  4.82689381e-01 -2.28271828e+01  1.34618168e+01\n",
      "  3.77162132e+01 -1.31467237e+01 -2.12777863e+01  7.47363758e+00\n",
      " -1.43115358e+01  2.31469746e+01  7.26605129e+00 -7.01234579e-01\n",
      "  3.39277916e+01 -3.98122635e+01 -1.53447895e+01  1.49506540e+01\n",
      " -1.40844746e+01  1.22974300e+01 -2.33561206e+00  1.65276756e+01\n",
      "  1.21466112e+01  9.11472893e+00  2.62021542e+01  2.75111160e+01\n",
      "  3.19446011e+01  3.45170250e+01  2.97104130e+01 -1.92221642e-01\n",
      " -1.66445885e+01 -1.24733696e+01 -2.27614155e+01  2.52095394e+01\n",
      "  2.56236362e+01  3.27033730e+01  1.23238630e+01 -2.33459606e+01\n",
      " -1.48838501e+01 -1.22032442e+01  2.90375271e+01  3.75881100e+00\n",
      " -2.34847140e+00 -3.05552330e+01  5.44214344e+00  3.07375574e+00\n",
      "  1.46096849e+00  2.76770344e+01  4.52786064e+00  2.10134048e+01\n",
      " -3.57086487e+01 -8.72658634e+00 -2.74079685e+01 -4.18737297e+01]\n",
      "The accuracy of this model is65.69767441860465\n",
      "The rmse of this model is39.20786104195024\n",
      "Split: 7\n"
     ]
    },
    {
     "name": "stderr",
     "output_type": "stream",
     "text": [
      "/home/chris/anaconda3/lib/python3.8/site-packages/sklearn/preprocessing/_label.py:235: DataConversionWarning: A column-vector y was passed when a 1d array was expected. Please change the shape of y to (n_samples, ), for example using ravel().\n",
      "  y = column_or_1d(y, warn=True)\n",
      "/home/chris/anaconda3/lib/python3.8/site-packages/sklearn/preprocessing/_label.py:268: DataConversionWarning: A column-vector y was passed when a 1d array was expected. Please change the shape of y to (n_samples, ), for example using ravel().\n",
      "  y = column_or_1d(y, warn=True)\n"
     ]
    },
    {
     "name": "stdout",
     "output_type": "stream",
     "text": [
      "variables for auroc curve done. Processing fold accuracy + checking best model\n",
      "[-1.16997938e+01  4.08926315e+01 -1.29062052e+01  2.34218006e+01\n",
      "  3.37946510e+01  2.15238976e+00  5.83645058e+00  3.26550713e+01\n",
      "  6.14128780e+00  7.14277267e+00 -1.64512367e+01 -2.09033279e+01\n",
      " -2.34780102e+01  1.70065746e+01  4.36040535e+01  4.67859993e+01\n",
      "  3.49236565e+01  2.85235176e+01 -6.12926960e+00  1.37227135e+01\n",
      " -3.13066149e+00  2.05159721e+01  1.28374777e+01 -2.65503483e+01\n",
      " -2.67447529e+01  3.87992592e+01 -9.24321556e+00  6.59495592e-01\n",
      " -2.84439945e+01  1.07443714e+00  4.27587929e+01 -7.60048962e+00\n",
      "  1.91743107e+01 -2.84863353e+00  3.51636925e+01  1.86337776e+01\n",
      " -2.80862637e+01 -2.52874603e+01 -4.33616295e+01 -4.03499870e+01\n",
      " -3.29954834e+01  1.46614265e+01  1.33181753e+01 -1.15234118e+01\n",
      "  4.86548271e+01 -2.03117752e+01  8.41237068e+00 -2.20476475e+01\n",
      " -1.33911667e+01 -2.20443077e+01  3.80640984e+01  3.07865734e+01\n",
      " -3.03372746e+01  2.23443623e+01  1.73223171e+01  1.98568096e+01\n",
      "  4.13469009e+01  6.04302883e+00  2.03683834e+01 -7.08613110e+00\n",
      "  1.69827595e+01  2.77735281e+00 -1.18538771e+01  3.01877666e+00\n",
      "  2.64141998e+01 -1.17202730e+01  3.44042230e+00  2.78082829e+01\n",
      " -2.49222040e-01  6.42202377e+00  6.81695843e+00  7.95114899e+00\n",
      "  2.67481422e+01  2.55437660e+01  1.22773829e+01 -2.47741089e+01\n",
      "  5.87534714e+00 -1.96956081e+01  2.76436272e+01 -7.05890274e+00\n",
      " -2.84870744e+00  6.18309689e+00 -2.59940600e+00  1.29705071e-01\n",
      " -2.73684072e+00 -1.44027271e+01  2.29330039e+00  4.08271637e+01\n",
      " -2.56849899e+01  3.56777763e+01 -1.73696804e+01 -3.45312843e+01\n",
      "  2.36745319e+01  8.59295464e+00  1.86905670e+01  3.14158001e+01\n",
      "  4.80687809e+00  4.30588608e+01 -4.29248619e+00 -5.62649822e+00\n",
      " -2.32347369e-01 -1.93512726e+01  1.75263329e+01  2.52983494e+01\n",
      "  2.66408882e+01  1.77056770e+01 -6.71299171e+00  1.49802008e+01\n",
      "  3.46800041e+01 -5.10850525e+00  2.37115955e+00  4.14918900e+01\n",
      "  2.79322205e+01 -2.70317898e+01  1.07000217e+01 -1.03388090e+01\n",
      " -5.21948814e+00 -3.31881180e+01  2.49219494e+01  2.19911289e+01\n",
      "  5.06251431e+00  6.41204071e+00  1.30676641e+01  2.07350903e+01\n",
      " -7.33254051e+00 -1.01904926e+01  2.12930813e+01  1.43277712e+01\n",
      " -1.79677963e+01 -1.24298215e-01 -1.95419159e+01 -8.01394939e-01\n",
      " -2.15459957e+01  3.49228787e+00  1.83497791e+01 -1.60434456e+01\n",
      "  2.17036552e+01 -1.17728972e+00 -1.85748529e+00  8.10482800e-01\n",
      "  9.75511551e+00  3.07721996e+00 -2.49038181e+01 -1.04885874e+01\n",
      "  1.33228445e+01 -2.29729414e-02 -5.42872429e+00  2.47516479e+01\n",
      " -1.67128448e+01 -5.80141449e+00  3.82856202e+00  2.02663784e+01\n",
      " -2.53951836e+01 -1.04156914e+01  8.00319290e+00  1.49715433e+01\n",
      "  2.63609943e+01  2.65682392e+01  2.26354256e+01 -2.76404572e+01\n",
      "  3.85935259e+00  2.36771660e+01  3.32216911e+01 -2.26795616e+01\n",
      " -6.82093716e+00  1.77254047e+01 -3.45945778e+01  1.18959916e+00\n",
      "  5.25922966e+00 -1.45658493e+00  8.56830883e+00  4.76349020e+00]\n",
      "The accuracy of this model is68.6046511627907\n",
      "The rmse of this model is38.40658117828981\n",
      "Split: 8\n"
     ]
    },
    {
     "name": "stderr",
     "output_type": "stream",
     "text": [
      "/home/chris/anaconda3/lib/python3.8/site-packages/sklearn/preprocessing/_label.py:235: DataConversionWarning: A column-vector y was passed when a 1d array was expected. Please change the shape of y to (n_samples, ), for example using ravel().\n",
      "  y = column_or_1d(y, warn=True)\n",
      "/home/chris/anaconda3/lib/python3.8/site-packages/sklearn/preprocessing/_label.py:268: DataConversionWarning: A column-vector y was passed when a 1d array was expected. Please change the shape of y to (n_samples, ), for example using ravel().\n",
      "  y = column_or_1d(y, warn=True)\n"
     ]
    },
    {
     "name": "stdout",
     "output_type": "stream",
     "text": [
      "variables for auroc curve done. Processing fold accuracy + checking best model\n",
      "[ 28.170588    7.095276    1.5646067 -29.137783   -6.976385   -5.3094435\n",
      "   0.2967425 -45.169834  -29.584158   48.571304  -16.041775   14.365314\n",
      " -10.466711   34.339607   28.563143   21.69331    13.249648   29.20254\n",
      "   9.831217   -7.964244   -1.255183   -9.214586   23.146515   11.76633\n",
      "  27.027634  -44.73094    40.953114    4.6018066  41.624348    3.0667198\n",
      " -35.53428   -25.133425   33.449177   19.977907   16.18315    14.057462\n",
      "  15.726654   25.944      -8.317643   43.30518    36.557617  -28.012438\n",
      " -28.83848    -1.04498    40.042118   18.391972  -10.593821   -0.6123183\n",
      "  10.0391655   5.2426014 -39.044052    6.737278    4.1136727 -20.324638\n",
      "  11.474885  -32.284115   26.611237   23.04059     4.211436   48.09402\n",
      "  22.161901   -7.5344553  22.142921   -4.2037706  33.19639     1.9306889\n",
      " -22.607853   23.154293   32.365574   32.66399    25.833931   28.553612\n",
      "  33.943073   -6.6538286 -19.345377  -25.290407    5.7710743 -25.118956\n",
      "  10.4369755  33.1332     26.805353   15.53492    15.83435    19.094315\n",
      "  29.176952   -3.254269   26.430239    9.085596   23.76531   -17.500425\n",
      "  15.428289  -22.022264   21.63602   -25.404      22.348755   -8.665615\n",
      " -34.393093    8.875402   34.391605  -16.925505   31.340256   34.86387\n",
      "  -6.6328125   8.013858  -14.0856085 -25.692501  -17.335152   40.335857\n",
      "   5.9699535  39.821056    6.038565   -8.9530945  16.461264  -16.758537\n",
      "   4.7198324   3.2380102  15.552002   25.961447   46.361168  -36.59595\n",
      "   9.659302   15.252669  -10.063065   12.668131    9.505283    5.813236\n",
      "  -4.140934    7.9059916 -17.488844   10.112862   12.287595  -15.311381\n",
      "  11.092633   -5.8076353  -9.611569   36.31004   -12.441385   -6.7948656\n",
      "   9.20011    20.461916   14.616094   42.984554   11.263926   25.754332\n",
      " -25.369696    5.9818897  20.866003   24.140087   29.577635  -16.019003\n",
      "  36.676853   16.144836    2.0519674 -18.089043  -25.893862   15.593739\n",
      "  15.016034   13.066736  -23.971865  -20.990551   22.902      24.720543\n",
      "  41.20633   -22.908924    8.764735    3.8794796 -21.339209  -19.830389\n",
      "  16.194965    7.056816  -22.91804    30.109003 ]\n",
      "The accuracy of this model is65.11627906976744\n",
      "The rmse of this model is39.523983740742274\n",
      "Split: 9\n"
     ]
    },
    {
     "name": "stderr",
     "output_type": "stream",
     "text": [
      "/home/chris/anaconda3/lib/python3.8/site-packages/sklearn/preprocessing/_label.py:235: DataConversionWarning: A column-vector y was passed when a 1d array was expected. Please change the shape of y to (n_samples, ), for example using ravel().\n",
      "  y = column_or_1d(y, warn=True)\n",
      "/home/chris/anaconda3/lib/python3.8/site-packages/sklearn/preprocessing/_label.py:268: DataConversionWarning: A column-vector y was passed when a 1d array was expected. Please change the shape of y to (n_samples, ), for example using ravel().\n",
      "  y = column_or_1d(y, warn=True)\n"
     ]
    },
    {
     "name": "stdout",
     "output_type": "stream",
     "text": [
      "variables for auroc curve done. Processing fold accuracy + checking best model\n",
      "[-15.311463   -24.128761     6.2125616   43.740055    36.467403\n",
      " -17.811972    -8.100075   -19.428654   -14.5387125   -9.794708\n",
      " -22.389166     2.1273522   23.507584    16.204023    25.35972\n",
      "  -0.9818952   11.186468    28.037193     4.118312    15.001631\n",
      "  -8.569981   -19.52496      3.8512585    2.6899517   -5.209852\n",
      "  30.130854    -7.5151567   38.2229     -20.060493    15.337219\n",
      "  12.823028     2.0160024   20.453411     9.019815   -11.901795\n",
      "   0.54155266  27.303019    -2.8551247   25.508776    42.398914\n",
      "  21.924566   -25.284073   -29.706146    -0.9006033   41.506794\n",
      "  -8.013134    10.829611    33.90796     10.02726      7.8128653\n",
      " -17.432014    -9.4944515  -12.2648945    5.926881    20.073414\n",
      "  36.005253    44.648777     2.4391036   26.616846    33.046402\n",
      " -14.926986    36.141685    32.777466     5.413892    -2.3944561\n",
      "   1.8174121   19.549835   -19.515795    30.06593      6.0193615\n",
      "   2.8074322   41.55001    -22.318056   -17.584852    -0.4918009\n",
      " -29.061445   -20.047182    -6.997691    11.023014    20.598831\n",
      "   6.2504835  -13.872241    34.278564     6.372287    32.75577\n",
      "  11.887222    13.614318    23.907656    -1.064822    -0.13973367\n",
      "  12.117848    -9.2227955    1.9127748   23.917425    -7.9193687\n",
      " -23.60097    -20.001791   -11.405559     0.6147952   24.735586\n",
      "  -8.513827    13.81332     24.799875    21.854677   -21.18777\n",
      "  20.152308    12.856064    27.793406    -0.95256686 -28.538492\n",
      " -15.657064    40.782745   -42.30181     27.516493    41.142178\n",
      "   5.4271       0.7653868  -41.936134    17.390182    17.826866\n",
      "  42.517776   -28.81841     15.463259     7.810727   -20.353458\n",
      "   2.2404346   38.111206    13.286875    14.868321   -30.852568\n",
      " -30.039673    -5.829667    -3.9971752    7.4357147   -5.855427\n",
      "  13.034751   -42.286964    -0.3011365  -19.207846     3.9399953\n",
      "  -1.6174908   23.98368     16.630474   -29.129744    23.671059\n",
      "  -2.9306138  -11.11259     23.972946    17.071634     7.607766\n",
      "   0.15600869   8.6654005    1.6901276   17.147366    22.757849\n",
      "   8.020391   -16.852213   -18.331818    -0.16291916  12.344418\n",
      "  28.784603    -4.571763    31.33191     11.02269     21.79922\n",
      "   1.0749545  -39.2187       8.336507    11.9967575   40.18477\n",
      " -31.520935  ]\n",
      "The accuracy of this model is64.32748538011695\n",
      "The rmse of this model is36.85443331454176\n",
      "Split: 10\n"
     ]
    },
    {
     "name": "stderr",
     "output_type": "stream",
     "text": [
      "/home/chris/anaconda3/lib/python3.8/site-packages/sklearn/preprocessing/_label.py:235: DataConversionWarning: A column-vector y was passed when a 1d array was expected. Please change the shape of y to (n_samples, ), for example using ravel().\n",
      "  y = column_or_1d(y, warn=True)\n",
      "/home/chris/anaconda3/lib/python3.8/site-packages/sklearn/preprocessing/_label.py:268: DataConversionWarning: A column-vector y was passed when a 1d array was expected. Please change the shape of y to (n_samples, ), for example using ravel().\n",
      "  y = column_or_1d(y, warn=True)\n"
     ]
    },
    {
     "name": "stdout",
     "output_type": "stream",
     "text": [
      "variables for auroc curve done. Processing fold accuracy + checking best model\n",
      "[-3.7843235e+01  2.2685724e+01  1.8543520e+01  1.4036528e+01\n",
      "  2.9771164e+01  2.3307878e+01  2.2127769e+01  1.9191501e+00\n",
      " -2.2593822e+01 -4.1027040e+00  2.3847942e+01  2.0833527e+01\n",
      " -6.6607637e+00  2.6564785e+01  1.8061712e+01  1.0976138e+01\n",
      "  2.3702631e+01 -3.0994177e-02  3.0366299e+01 -3.8345928e+01\n",
      " -2.1019213e+01 -1.7723368e+01  2.1981165e+01 -2.1621260e+01\n",
      " -2.5359816e+01  3.4826881e+01 -1.2888134e+00  3.7069309e+01\n",
      "  9.2616796e-01  1.6102404e+01  3.9827681e+00 -1.6450960e+01\n",
      "  1.5123313e+01  4.0990906e+01 -4.0075333e+01 -3.5307556e+01\n",
      " -3.3478149e+01  3.2752834e+01 -4.6130905e+00 -1.5614485e+01\n",
      "  7.3414240e+00  9.8047943e+00 -1.4956942e+01 -6.0711994e+00\n",
      "  1.5933830e+01  7.0480289e+00  9.1181726e+00 -1.2793795e+01\n",
      "  1.6893503e+01 -6.8504658e+00  7.3735371e+00  1.5911826e+01\n",
      "  1.4593722e+01  2.2673103e+01  2.9274747e+00  4.7106743e+00\n",
      " -1.5010615e+01  2.3918188e+01  1.6229925e+01  1.1129838e+01\n",
      " -1.5429481e+01 -1.5350702e+01  2.6681877e+01  2.8739649e+01\n",
      " -2.1573275e+01  3.2859073e+00 -1.6971565e+01 -7.7723732e+00\n",
      "  2.6452637e+01  4.8849659e+01  1.3306875e+01  2.3584745e+01\n",
      "  1.4101755e+01 -9.6138391e+00 -2.3148508e+01 -1.7045975e+00\n",
      " -4.4670055e+01  2.1956640e+01  2.0979876e+01  3.5467615e+00\n",
      "  2.1665168e-01  1.6157036e+01  5.1285071e+00  4.1056404e+01\n",
      " -2.3574884e+01 -1.1873987e+01 -1.4834824e+01 -2.3214872e+00\n",
      " -2.6736326e+01 -2.2590370e+01  3.0941091e+00 -4.3423920e+00\n",
      "  1.9978783e+01  3.1448994e+01 -1.5315534e+01  3.2232632e+01\n",
      "  4.4774790e+00 -8.7625437e+00  1.6814646e+01  2.3223270e+01\n",
      "  1.9844244e+01  1.2447963e+01  1.0591426e+01  3.9546211e+01\n",
      " -2.4539896e+01  3.6224171e+01  2.1971300e+01  9.2665541e-01\n",
      "  2.3550447e+01 -3.9648647e+01  4.2704067e+00 -5.7172151e+00\n",
      "  4.8963199e+00  3.2887390e+01  2.7950140e+01  7.4119225e+00\n",
      "  1.3765293e+01  2.9123041e+01  1.0234296e+01  1.4925416e+01\n",
      "  1.8725014e+01  1.6906521e+01  2.7547638e+01 -9.2932796e+00\n",
      " -1.2474287e+01  3.6468143e+01  7.2068605e+00  1.7210276e+00\n",
      "  1.0474134e+01  1.0054033e+01  1.7085278e+01  1.8821974e+01\n",
      " -2.1104475e+01  3.0129223e+01  1.1220643e+01  3.0008032e+01\n",
      "  9.6244011e+00  4.8146839e+00 -1.3138220e+01 -2.9418839e+01\n",
      "  2.1541843e+01  1.4046950e+01  3.1444209e+00  1.4608846e+01\n",
      " -1.5263985e+01 -1.6406229e+01 -3.0470369e+01  4.5584822e+00\n",
      " -7.8865786e+00  1.8160358e+01 -4.8200788e+00 -3.5953979e+01\n",
      "  1.1349414e+01  3.1423573e+01 -3.5319401e+01 -3.0626493e+01\n",
      "  1.1700487e+01  6.5672779e+00  4.3774853e+00  9.4252610e-01\n",
      "  3.4956116e+01  2.9716238e+01  1.2681272e+01  9.0267200e+00\n",
      " -1.7261267e+01 -2.1450792e+01  1.4480548e+01 -3.2055763e+01\n",
      "  3.6920929e+01  4.9203812e+01  1.6515593e+01]\n",
      "The accuracy of this model is62.57309941520468\n",
      "The rmse of this model is34.98688123716403\n",
      "Best win percentage split = 70.34883720930233\n",
      "Best margin rmse = 30.733453081911424\n",
      "Training Testing Accuracy: 65.95% (3.14%)\n",
      "Training Testing Margins: 36.28% (2.82%)\n",
      "(1655, 1)\n",
      "(1655, 1)\n",
      "(1655, 3266)\n",
      "X_train shape: (1489, 3266)\n",
      "X_test shape: (166, 3266)\n",
      "Fitting 10 folds for each of 12 candidates, totalling 120 fits\n"
     ]
    },
    {
     "name": "stderr",
     "output_type": "stream",
     "text": [
      "[Parallel(n_jobs=1)]: Using backend SequentialBackend with 1 concurrent workers.\n",
      "[Parallel(n_jobs=1)]: Done 120 out of 120 | elapsed:  4.0min finished\n"
     ]
    },
    {
     "name": "stdout",
     "output_type": "stream",
     "text": [
      "best score: 0.6440564137004701\n",
      "Fitting 10 folds for each of 12 candidates, totalling 120 fits\n"
     ]
    },
    {
     "name": "stderr",
     "output_type": "stream",
     "text": [
      "[Parallel(n_jobs=1)]: Using backend SequentialBackend with 1 concurrent workers.\n",
      "[Parallel(n_jobs=1)]: Done 120 out of 120 | elapsed:  6.9min finished\n"
     ]
    },
    {
     "name": "stdout",
     "output_type": "stream",
     "text": [
      "best score: 0.6440564137004701\n",
      "Fitting 10 folds for each of 12 candidates, totalling 120 fits\n"
     ]
    },
    {
     "name": "stderr",
     "output_type": "stream",
     "text": [
      "[Parallel(n_jobs=1)]: Using backend SequentialBackend with 1 concurrent workers.\n",
      "[Parallel(n_jobs=1)]: Done 120 out of 120 | elapsed:  3.0min finished\n"
     ]
    },
    {
     "name": "stdout",
     "output_type": "stream",
     "text": [
      "best score: 0.6581598388179987\n",
      "Fitting 10 folds for each of 12 candidates, totalling 120 fits\n"
     ]
    },
    {
     "name": "stderr",
     "output_type": "stream",
     "text": [
      "[Parallel(n_jobs=1)]: Using backend SequentialBackend with 1 concurrent workers.\n",
      "[Parallel(n_jobs=1)]: Done 120 out of 120 | elapsed:  4.9min finished\n"
     ]
    },
    {
     "name": "stdout",
     "output_type": "stream",
     "text": [
      "best score: 0.6581598388179987\n",
      "Fitting 10 folds for each of 12 candidates, totalling 120 fits\n"
     ]
    },
    {
     "name": "stderr",
     "output_type": "stream",
     "text": [
      "[Parallel(n_jobs=1)]: Using backend SequentialBackend with 1 concurrent workers.\n",
      "[Parallel(n_jobs=1)]: Done 120 out of 120 | elapsed:  4.5min finished\n"
     ]
    },
    {
     "name": "stdout",
     "output_type": "stream",
     "text": [
      "best score: 0.661517797179315\n",
      "X_train shape: (1489, 3266)\n",
      "X_test shape: (166, 3266)\n",
      "Fitting 10 folds for each of 12 candidates, totalling 120 fits\n"
     ]
    },
    {
     "name": "stderr",
     "output_type": "stream",
     "text": [
      "[Parallel(n_jobs=1)]: Using backend SequentialBackend with 1 concurrent workers.\n",
      "[Parallel(n_jobs=1)]: Done 120 out of 120 | elapsed:  7.5min finished\n"
     ]
    },
    {
     "name": "stdout",
     "output_type": "stream",
     "text": [
      "best score: 0.2124474945282363\n",
      "Fitting 10 folds for each of 12 candidates, totalling 120 fits\n"
     ]
    },
    {
     "name": "stderr",
     "output_type": "stream",
     "text": [
      "[Parallel(n_jobs=1)]: Using backend SequentialBackend with 1 concurrent workers.\n",
      "[Parallel(n_jobs=1)]: Done 120 out of 120 | elapsed:  6.4min finished\n"
     ]
    },
    {
     "name": "stdout",
     "output_type": "stream",
     "text": [
      "best score: 0.24304380726310534\n",
      "Fitting 10 folds for each of 12 candidates, totalling 120 fits\n"
     ]
    },
    {
     "name": "stderr",
     "output_type": "stream",
     "text": [
      "[Parallel(n_jobs=1)]: Using backend SequentialBackend with 1 concurrent workers.\n",
      "[Parallel(n_jobs=1)]: Done 120 out of 120 | elapsed: 15.5min finished\n"
     ]
    },
    {
     "name": "stdout",
     "output_type": "stream",
     "text": [
      "best score: 0.25116216038922523\n",
      "Fitting 10 folds for each of 12 candidates, totalling 120 fits\n"
     ]
    },
    {
     "name": "stderr",
     "output_type": "stream",
     "text": [
      "[Parallel(n_jobs=1)]: Using backend SequentialBackend with 1 concurrent workers.\n",
      "[Parallel(n_jobs=1)]: Done 120 out of 120 | elapsed:  7.5min finished\n"
     ]
    },
    {
     "name": "stdout",
     "output_type": "stream",
     "text": [
      "best score: 0.25116216038922523\n",
      "Fitting 10 folds for each of 12 candidates, totalling 120 fits\n"
     ]
    },
    {
     "name": "stderr",
     "output_type": "stream",
     "text": [
      "[Parallel(n_jobs=1)]: Using backend SequentialBackend with 1 concurrent workers.\n",
      "[Parallel(n_jobs=1)]: Done 120 out of 120 | elapsed:  4.9min finished\n"
     ]
    },
    {
     "name": "stdout",
     "output_type": "stream",
     "text": [
      "best score: 0.25116216038922523\n",
      "      Margin\n",
      "0        5.0\n",
      "1      -59.0\n",
      "2      -77.0\n",
      "3       15.0\n",
      "4       -4.0\n",
      "...      ...\n",
      "1650   -47.0\n",
      "1651    32.0\n",
      "1652    19.0\n",
      "1653   -21.0\n",
      "1654   -36.0\n",
      "\n",
      "[1655 rows x 1 columns]\n",
      "      H_PAV_Sum  A_PAV_Sum  Ladder Pos_H  Form_H  Season Wins_H  \\\n",
      "0        239.37     261.62           5.0     7.0            7.0   \n",
      "1        178.78     239.86          18.0     0.0            0.0   \n",
      "2        240.11     240.13           9.0     5.0            5.0   \n",
      "3        175.47     262.28          13.0     4.0            4.0   \n",
      "4        219.37     196.24          16.0     2.0            2.0   \n",
      "...         ...        ...           ...     ...            ...   \n",
      "1650     208.80     267.28          17.0     1.0            1.0   \n",
      "1651     220.89     204.79           8.0     5.0            5.0   \n",
      "1652     189.67     251.66           9.0     4.0            4.0   \n",
      "1653     162.87     250.97          14.0     3.0            3.0   \n",
      "1654     271.18     233.58           3.0     7.0            7.0   \n",
      "\n",
      "      Season Loss_H  Season Draw_H  H_H/A? n-1  H_H/A Win? n-1  \\\n",
      "0               3.0            0.0         1.0             0.0   \n",
      "1              10.0            0.0         1.0             0.0   \n",
      "2               5.0            0.0         0.0             1.0   \n",
      "3               6.0            0.0         1.0             0.0   \n",
      "4               8.0            0.0         1.0             0.0   \n",
      "...             ...            ...         ...             ...   \n",
      "1650            8.0            0.0         0.0             1.0   \n",
      "1651            4.0            0.0         1.0             1.0   \n",
      "1652            5.0            0.0         1.0             1.0   \n",
      "1653            6.0            0.0         0.0             1.0   \n",
      "1654            2.0            0.0         1.0             0.0   \n",
      "\n",
      "      H_Points For n-1  ...  A_Venue n-10_Mars Stadium  \\\n",
      "0                 71.0  ...                        0.0   \n",
      "1                 54.0  ...                        0.0   \n",
      "2                 59.0  ...                        0.0   \n",
      "3                 71.0  ...                        0.0   \n",
      "4                 65.0  ...                        0.0   \n",
      "...                ...  ...                        ...   \n",
      "1650              46.0  ...                        0.0   \n",
      "1651             117.0  ...                        0.0   \n",
      "1652              99.0  ...                        0.0   \n",
      "1653              66.0  ...                        0.0   \n",
      "1654              33.0  ...                        0.0   \n",
      "\n",
      "      A_Venue n-10_Marvel Stadium  A_Venue n-10_Metricon Stadium  \\\n",
      "0                             0.0                            0.0   \n",
      "1                             0.0                            0.0   \n",
      "2                             0.0                            0.0   \n",
      "3                             1.0                            0.0   \n",
      "4                             0.0                            0.0   \n",
      "...                           ...                            ...   \n",
      "1650                          0.0                            0.0   \n",
      "1651                          0.0                            0.0   \n",
      "1652                          1.0                            0.0   \n",
      "1653                          0.0                            0.0   \n",
      "1654                          0.0                            0.0   \n",
      "\n",
      "      A_Venue n-10_Optus Stadium  A_Venue n-10_Riverway Stadium  \\\n",
      "0                            0.0                            0.0   \n",
      "1                            0.0                            0.0   \n",
      "2                            0.0                            0.0   \n",
      "3                            0.0                            0.0   \n",
      "4                            0.0                            0.0   \n",
      "...                          ...                            ...   \n",
      "1650                         1.0                            0.0   \n",
      "1651                         0.0                            0.0   \n",
      "1652                         0.0                            0.0   \n",
      "1653                         0.0                            0.0   \n",
      "1654                         0.0                            0.0   \n",
      "\n",
      "      A_Venue n-10_SCG  A_Venue n-10_TIO Stadium  \\\n",
      "0                  0.0                       0.0   \n",
      "1                  0.0                       0.0   \n",
      "2                  0.0                       0.0   \n",
      "3                  0.0                       0.0   \n",
      "4                  0.0                       0.0   \n",
      "...                ...                       ...   \n",
      "1650               0.0                       0.0   \n",
      "1651               0.0                       0.0   \n",
      "1652               0.0                       0.0   \n",
      "1653               0.0                       0.0   \n",
      "1654               0.0                       0.0   \n",
      "\n",
      "      A_Venue n-10_TIO Traeger Park  \\\n",
      "0                               0.0   \n",
      "1                               0.0   \n",
      "2                               0.0   \n",
      "3                               0.0   \n",
      "4                               0.0   \n",
      "...                             ...   \n",
      "1650                            0.0   \n",
      "1651                            0.0   \n",
      "1652                            0.0   \n",
      "1653                            0.0   \n",
      "1654                            0.0   \n",
      "\n",
      "      A_Venue n-10_University of Tasmania Stadium  \\\n",
      "0                                             0.0   \n",
      "1                                             0.0   \n",
      "2                                             0.0   \n",
      "3                                             0.0   \n",
      "4                                             0.0   \n",
      "...                                           ...   \n",
      "1650                                          0.0   \n",
      "1651                                          1.0   \n",
      "1652                                          0.0   \n",
      "1653                                          0.0   \n",
      "1654                                          0.0   \n",
      "\n",
      "      A_Venue n-10_Westpac Stadium  \n",
      "0                              0.0  \n",
      "1                              0.0  \n",
      "2                              0.0  \n",
      "3                              0.0  \n",
      "4                              0.0  \n",
      "...                            ...  \n",
      "1650                           0.0  \n",
      "1651                           0.0  \n",
      "1652                           0.0  \n",
      "1653                           0.0  \n",
      "1654                           0.0  \n",
      "\n",
      "[1655 rows x 3266 columns]\n",
      "Split: 1\n"
     ]
    },
    {
     "name": "stderr",
     "output_type": "stream",
     "text": [
      "/home/chris/anaconda3/lib/python3.8/site-packages/sklearn/preprocessing/_label.py:235: DataConversionWarning: A column-vector y was passed when a 1d array was expected. Please change the shape of y to (n_samples, ), for example using ravel().\n",
      "  y = column_or_1d(y, warn=True)\n",
      "/home/chris/anaconda3/lib/python3.8/site-packages/sklearn/preprocessing/_label.py:268: DataConversionWarning: A column-vector y was passed when a 1d array was expected. Please change the shape of y to (n_samples, ), for example using ravel().\n",
      "  y = column_or_1d(y, warn=True)\n"
     ]
    },
    {
     "name": "stdout",
     "output_type": "stream",
     "text": [
      "variables for auroc curve done. Processing fold accuracy + checking best model\n",
      "[ 32.132805    29.327011    17.412624   -26.70149     27.728645\n",
      "  -9.439428    38.569332    46.569782     8.307585    12.583578\n",
      "  60.25899     20.469088    -7.8099613   -5.4477067   22.387201\n",
      "  -0.21153563  -2.1508725  -25.02191     14.338115    10.843667\n",
      "  13.451305    33.780556    -2.9474716   20.605434   -36.948765\n",
      "  16.120323     1.4390619   -6.472814   -19.515789    10.529444\n",
      "  12.290831   -41.01312     -9.2906      17.93779     26.717281\n",
      "  -1.1768134   -7.2941937  -13.227032    23.375412    26.698664\n",
      "  25.684143    49.159645   -22.966372    -1.3453116  -10.965439\n",
      "  -0.90205884   3.3225946   -9.679281    17.066124   -11.117673\n",
      "  57.74027    -26.974113    -0.5312531   -4.7130055    6.706881\n",
      "   7.859702   -16.83225    -14.987437     7.915392    38.75948\n",
      "   5.3945355    1.8848178    3.760268    24.474203    11.3873205\n",
      "  26.827831    18.518137   -13.182664    17.337164     8.7024355\n",
      " -22.592354    72.73171     -9.493359     1.8064764    7.135531\n",
      "  12.203867     6.5245085   29.152597    24.475452    43.886337\n",
      "  32.60471      7.8309875  -19.488409    25.973698    44.48088\n",
      "   5.63595     -0.5760685   15.6420355  -16.439182     5.4646926\n",
      " -17.040035   -15.779659   -14.193841    15.541334    19.661684\n",
      " -24.204754    14.6283655   -9.560433    16.357082    -0.7725456\n",
      "   1.2781515   -2.60977     10.901313    17.330034    -9.412473\n",
      "  18.837606    44.027077   -22.383856    20.87513      6.6411057\n",
      "  38.09254      5.642985     6.6951213   32.621193     4.8851185\n",
      "  11.618837   -21.966986   -20.70806     -5.8135247    7.291895\n",
      "  21.323322     6.4550357    5.400651     8.058815     6.929635\n",
      "  16.610382     6.306702     3.0784636   15.651717    -2.912722\n",
      "   3.9840877    3.9893508  -17.062881   -11.543438    31.590508\n",
      "   8.738926     5.835466     9.850325     5.13038      7.093131\n",
      "  17.839079     8.6227       4.7695518   -8.98538    -20.28984\n",
      "   1.6346868   -2.816602   -20.47958     15.061827    42.924465\n",
      "  25.070429   -13.054587   -14.497389    34.2289      14.302701\n",
      "  -8.727782     6.7076135   10.941117     9.501222    19.139925\n",
      "  40.162666    33.539158    32.3077      -9.726348   -20.609833\n",
      "  16.303509  ]\n",
      "The accuracy of this model is62.65060240963856\n",
      "The rmse of this model is35.51688671850033\n",
      "found new best classify\n",
      "found best new margin\n",
      "Split: 2\n"
     ]
    },
    {
     "name": "stderr",
     "output_type": "stream",
     "text": [
      "/home/chris/anaconda3/lib/python3.8/site-packages/sklearn/preprocessing/_label.py:235: DataConversionWarning: A column-vector y was passed when a 1d array was expected. Please change the shape of y to (n_samples, ), for example using ravel().\n",
      "  y = column_or_1d(y, warn=True)\n",
      "/home/chris/anaconda3/lib/python3.8/site-packages/sklearn/preprocessing/_label.py:268: DataConversionWarning: A column-vector y was passed when a 1d array was expected. Please change the shape of y to (n_samples, ), for example using ravel().\n",
      "  y = column_or_1d(y, warn=True)\n"
     ]
    },
    {
     "name": "stdout",
     "output_type": "stream",
     "text": [
      "variables for auroc curve done. Processing fold accuracy + checking best model\n",
      "[  8.436695   -26.046003    11.590875   -10.121183    21.839647\n",
      " -24.282534    13.57835     37.468742   -29.318329    -1.2593771\n",
      "  -2.9083536   20.08749     13.124004    56.973133   -14.022895\n",
      "  11.865784    11.280892     4.0300064   38.755238    35.47328\n",
      "  -2.1792262   -1.5242205   13.84876     12.369885    14.545364\n",
      "  33.05922    -11.92217    -28.393919   -16.06384     17.315638\n",
      "   9.033045     0.47972342 -20.075335    -4.283701    32.03376\n",
      "  11.433058    -1.4849474   28.65132     16.203594   -10.236718\n",
      "  24.74483     -8.802502   -19.072493     6.7278986    4.1394806\n",
      "   4.503676   -45.863663    34.442497   -16.076649    -7.564334\n",
      "  -7.07184      8.863288     9.486265     0.09530205  -7.3696218\n",
      "  35.781563   -27.226816   -12.325349    22.329664    11.966691\n",
      "  28.668888    29.797812   -20.397427     4.848412   -14.200082\n",
      "  10.033403    -6.9534307  -11.091704    15.164606    30.73097\n",
      "  31.043253    51.528824   -12.865928    19.77913     30.955025\n",
      "  28.894741    22.866287   -13.865415   -16.285957    14.482361\n",
      "  12.440016    34.27238    -21.184938    11.720908   -12.498214\n",
      "  -4.503814    -1.4269731   -1.1011609    6.2786903   46.273457\n",
      " -47.638153    19.416862    39.77953      5.7852516  -25.737818\n",
      "  37.20193      6.1695185   36.228855    43.0296       8.955376\n",
      "  12.843266    -9.281109    31.0088       5.4714518   -7.0623803\n",
      "  -0.09770989   7.5830455   -3.7708874    2.9626944   11.759585\n",
      "   7.5515466   14.362333   -41.72904     -0.4047985   36.35058\n",
      "  15.962676     9.077153    -3.1953063    5.322893    -7.6987524\n",
      "   9.854352   -26.000439    14.270607     9.290155    56.225136\n",
      "  -5.829873    12.705242    20.189838   -14.223846     1.6088759\n",
      "  19.390253    -2.0146608  -10.93714     12.678524     8.382372\n",
      "   6.723071   -23.331053    34.142597     9.005506    -8.205471\n",
      "  18.635763    31.082909   -12.124842    15.701878    43.993164\n",
      "   8.0898075  -20.939196     9.652435    -4.7044554   11.348866\n",
      "  -5.105499   -10.328103    -1.9422727   12.927346     6.644697\n",
      "   4.3234444   12.279958    13.403697    12.69613    -24.183823\n",
      "  32.474968    -4.3767424    0.18051082 -14.236931    -6.0283375\n",
      "  28.242723  ]\n",
      "The accuracy of this model is69.27710843373494\n",
      "The rmse of this model is36.17608908638943\n",
      "found new best classify\n",
      "Split: 3\n"
     ]
    },
    {
     "name": "stderr",
     "output_type": "stream",
     "text": [
      "/home/chris/anaconda3/lib/python3.8/site-packages/sklearn/preprocessing/_label.py:235: DataConversionWarning: A column-vector y was passed when a 1d array was expected. Please change the shape of y to (n_samples, ), for example using ravel().\n",
      "  y = column_or_1d(y, warn=True)\n",
      "/home/chris/anaconda3/lib/python3.8/site-packages/sklearn/preprocessing/_label.py:268: DataConversionWarning: A column-vector y was passed when a 1d array was expected. Please change the shape of y to (n_samples, ), for example using ravel().\n",
      "  y = column_or_1d(y, warn=True)\n"
     ]
    },
    {
     "name": "stdout",
     "output_type": "stream",
     "text": [
      "variables for auroc curve done. Processing fold accuracy + checking best model\n",
      "[-12.137826    -8.021443    49.33817     16.843323    -1.9037871\n",
      "  13.354472    20.75327     -4.0303674   29.508093     5.997299\n",
      "  12.905288    -2.6877916  -27.78433    -16.957754     9.4695635\n",
      "  26.860037    28.186764    15.336944     4.0247107   42.883785\n",
      "  26.910322    16.33627      3.3481884   -8.323683   -51.36593\n",
      " -17.152578    20.406178    -7.7010508   -2.737992   -32.318253\n",
      "  34.08657     33.288857    46.699738   -24.627987    56.300568\n",
      "  10.281224    12.812164    48.902313     3.4986348   -4.424469\n",
      "   4.420961    18.897926    -3.2332025   21.216383   -24.265388\n",
      " -40.437683   -23.368773    -1.6275358  -22.768799    -0.4599405\n",
      "  28.5507      -7.2971992  -40.882523    16.489475   -11.247469\n",
      "  28.063465    43.513256    14.288091   -34.65822     13.216805\n",
      "   0.8463075    0.5378093    1.0589074   13.95266     23.243727\n",
      " -16.163658     0.8312393  -27.196896     6.1755843   16.353392\n",
      "  -7.344462     3.8554802  -21.272654   -10.383755    14.204431\n",
      "  12.548196    10.249276    19.723267     7.8561172  -15.124662\n",
      " -24.034307   -10.697353    22.280249     4.6331835   33.734528\n",
      "   7.2225523   25.045101   -30.789568    30.899117   -13.188814\n",
      " -12.168978    17.43007     -4.9299955   21.357813     1.0776874\n",
      " -13.236594     9.005637     6.0829363  -13.928462    -6.2454786\n",
      "   1.9062562    5.8854346   16.203712    24.008965    -0.79261327\n",
      "  36.71051     19.04612    -40.086594     2.3410318   18.580599\n",
      "  18.650562   -38.481186    13.19861    -13.254345    34.900036\n",
      " -15.380098    14.360314   -27.28139      8.957235    14.216851\n",
      " -12.732817     8.030048     3.5164676   -3.9668798   22.972322\n",
      "   7.9013963    6.932223    20.86645     12.296381    -9.2825575\n",
      "  28.451704    17.886995   -17.081072    -0.86750805  19.134718\n",
      "  -5.7416596  -12.367093   -27.314718    25.414629    28.15222\n",
      "  10.237816     2.7652764    0.07878774  12.259577    15.059422\n",
      "  24.337286    16.659449    11.86343     -7.885927   -17.542368\n",
      "  14.103251    12.014238    -8.143329    -6.8410506   -3.126001\n",
      "  35.416225    -4.152172    -1.1333672   -4.000097    -5.92171\n",
      "  17.587564    -6.138549    41.82033     17.085604    15.005425\n",
      "  18.088213  ]\n",
      "The accuracy of this model is67.46987951807229\n",
      "The rmse of this model is37.23344915349765\n",
      "Split: 4\n"
     ]
    },
    {
     "name": "stderr",
     "output_type": "stream",
     "text": [
      "/home/chris/anaconda3/lib/python3.8/site-packages/sklearn/preprocessing/_label.py:235: DataConversionWarning: A column-vector y was passed when a 1d array was expected. Please change the shape of y to (n_samples, ), for example using ravel().\n",
      "  y = column_or_1d(y, warn=True)\n",
      "/home/chris/anaconda3/lib/python3.8/site-packages/sklearn/preprocessing/_label.py:268: DataConversionWarning: A column-vector y was passed when a 1d array was expected. Please change the shape of y to (n_samples, ), for example using ravel().\n",
      "  y = column_or_1d(y, warn=True)\n"
     ]
    },
    {
     "name": "stdout",
     "output_type": "stream",
     "text": [
      "variables for auroc curve done. Processing fold accuracy + checking best model\n",
      "[ 36.6907       8.34627    -12.87947      8.089293    -4.9853845\n",
      "  -4.856879    50.091225   -16.52083    -11.688227    22.149582\n",
      "  -4.9098697   23.307589     4.667755     5.521864    -8.504782\n",
      "   6.4546294   -1.6173694    6.8949566    5.523107    -8.858294\n",
      "  35.603764   -21.086817    32.735462   -45.185192    38.786556\n",
      "   7.34588     26.72772    -26.960941     3.2153344    1.8835806\n",
      "  11.974611     9.171904   -17.789747   -25.193478    13.679919\n",
      "  35.5106     -19.551592     2.1241884   37.261887    39.57736\n",
      "   1.3755633  -13.0624485   39.447224    -0.6509769   15.013052\n",
      " -14.688661   -27.947258    -5.309376    50.450924     7.1935043\n",
      "  37.632153     6.2398405   19.47909    -16.41646    -20.570196\n",
      "  24.544542    46.123833     0.09471974  14.582533    17.637514\n",
      "  32.129745    25.964748   -39.644405     5.428529    16.04974\n",
      " -18.896105     9.318555   -14.675838    -2.9927058  -31.967361\n",
      "  28.8323      -4.239982   -15.315462    33.842945   -32.288624\n",
      "  22.519594     0.14760849  27.008137    30.291039    14.809409\n",
      "   6.34288     42.01017      4.5337806   28.503479    33.317493\n",
      "  -3.81841      9.238306    43.180386    19.691362    16.44436\n",
      "  10.604762    10.360618     1.2722414   -5.0845423   -0.23319393\n",
      "  41.109615   -24.05501      2.9947252   -6.493881    10.388881\n",
      " -21.25857    -10.204822   -14.389484    11.239579    17.771622\n",
      "  31.843422     0.87923634 -39.125317    16.886398     8.724281\n",
      "  23.357407    -1.9226539  -11.1369505   17.290623    -0.9609095\n",
      "   0.8414588   -4.655563   -17.727905    21.874487   -21.352858\n",
      "   2.0456285   -8.244146    34.76604      1.8573751    7.020401\n",
      "  -6.1357985  -18.417973     5.691258    11.1374      -6.9060345\n",
      "   6.461935    16.337914    17.537596    17.431627     7.2276015\n",
      " -15.753078    12.311342     6.85091      8.928373     3.7079759\n",
      "   4.745372    -7.5800447   33.516045    -6.373062    24.519835\n",
      " -21.000624     8.556613    15.425111    -6.2411604   18.803839\n",
      "  30.23908      4.0628147   -8.667318   -12.89281     44.025425\n",
      "  13.21007     26.31247     14.257174    -1.8453958   20.485498\n",
      "  17.265707    11.423494    -0.17702806 -21.089025   -37.609035\n",
      " -47.697884  ]\n",
      "The accuracy of this model is69.27710843373494\n",
      "The rmse of this model is37.28356899124712\n",
      "Split: 5\n"
     ]
    },
    {
     "name": "stderr",
     "output_type": "stream",
     "text": [
      "/home/chris/anaconda3/lib/python3.8/site-packages/sklearn/preprocessing/_label.py:235: DataConversionWarning: A column-vector y was passed when a 1d array was expected. Please change the shape of y to (n_samples, ), for example using ravel().\n",
      "  y = column_or_1d(y, warn=True)\n",
      "/home/chris/anaconda3/lib/python3.8/site-packages/sklearn/preprocessing/_label.py:268: DataConversionWarning: A column-vector y was passed when a 1d array was expected. Please change the shape of y to (n_samples, ), for example using ravel().\n",
      "  y = column_or_1d(y, warn=True)\n"
     ]
    },
    {
     "name": "stdout",
     "output_type": "stream",
     "text": [
      "variables for auroc curve done. Processing fold accuracy + checking best model\n",
      "[-4.8557846e+01 -1.5950027e+01  2.5601954e+01  4.6444740e+01\n",
      "  1.2669032e+01  8.4674759e+00  1.4117794e+01  2.3943665e+01\n",
      "  5.4666839e+00  2.1427307e+01  3.6461250e+01  1.9775490e+01\n",
      " -1.9218879e+00  1.9426859e+01 -1.5096377e+01  2.5453489e+01\n",
      "  3.0515640e+01 -1.4127606e+01  4.6393536e+01  6.5722899e+00\n",
      "  2.1227093e+01  4.0897133e+01  1.1051136e+01  7.9567683e-01\n",
      " -2.8430019e+01 -2.0811825e+00  6.0175376e+00 -1.1393423e+01\n",
      "  2.3752659e+01  1.2393554e+01  2.3070253e+01 -2.6827436e+01\n",
      "  1.3660806e+01  1.8375933e+00  4.3453022e+01  2.6417885e+01\n",
      " -2.2278633e+01  1.4648583e+01  1.5472336e+01  9.6352758e+00\n",
      " -4.2172217e+00  7.8861666e+00  3.5877247e+01  8.4049911e+00\n",
      "  8.3840933e+00  1.8491833e+01  2.8825191e+01  1.5462271e+01\n",
      "  2.9797918e+01 -1.3274074e+01  1.9770510e+01  8.0012512e+00\n",
      "  2.0649865e+00 -2.3457617e+01  8.1205730e+00 -2.0172575e+01\n",
      "  2.0786972e+00  2.5079954e+01 -1.5873892e+01  2.9785830e+01\n",
      " -1.2707439e+01  1.6888405e+01  1.9861912e+00 -1.1718534e+01\n",
      " -1.2028782e+01  1.8792719e+01  5.4034653e+00  2.0067070e+01\n",
      " -2.3749855e+01  2.5697779e+01  2.4688671e+01  1.7025534e+00\n",
      "  3.3129058e+00  4.3079674e+01  2.6130466e+01  1.0476375e+01\n",
      "  2.3018452e+01 -1.8952332e+01 -1.3292305e+01 -1.9602606e+01\n",
      " -3.7769980e+00 -8.4194803e-01  8.1154919e+00 -2.2918236e+00\n",
      "  1.3056918e+01 -1.1715835e+01  1.6279881e+01  1.8042873e+01\n",
      " -2.5454800e+01  3.9846943e+01  1.0683600e+01  2.2058380e+01\n",
      "  1.9730686e+01  3.6799324e+01  3.7823677e+01 -1.3794273e+01\n",
      "  3.0763187e+01  3.5348133e+01 -6.0464656e-01 -2.2664898e+01\n",
      "  7.5361805e+00 -4.0004719e+01  1.0433795e+01  1.0547969e+00\n",
      "  1.5781170e+01 -2.8545578e+00  8.1310713e-01 -1.0645256e+01\n",
      "  1.4405741e+01  9.9440308e+00 -2.0115320e+01  2.6431540e+01\n",
      "  2.1037367e+01 -1.3661468e-01 -6.0894108e-01  2.2143679e+01\n",
      " -1.6105188e+01  1.8529394e+01 -3.0128956e+01  3.8447708e-02\n",
      "  1.5187853e+01 -4.5698386e-01 -1.2790902e+01  1.1026774e+01\n",
      "  1.5587307e+01  1.9917215e+01  1.7763432e+01  3.1144376e+00\n",
      " -1.5044596e+00  1.6676537e+00 -6.3153796e+00  2.1281713e+01\n",
      "  6.1631989e+00  2.7461579e+00 -2.4550419e+01  3.0186647e+01\n",
      " -8.8413944e+00  5.7086682e-01  1.2234067e+01  2.0027489e+01\n",
      "  8.1560612e-01  1.0461536e+01  6.1203723e+00 -1.4734833e+00\n",
      "  5.8699312e+00  1.2906507e+01  6.5943317e+00 -1.8669489e+01\n",
      " -7.3755918e+00  2.8345644e+01 -1.7065907e+01 -2.3961229e+01\n",
      " -5.3660016e+00  4.2048363e+01  1.5224847e+01  2.4216492e+01\n",
      "  2.7522705e+01  3.0595856e+01  3.7191601e+00 -4.5750966e+00\n",
      " -2.8212988e+00  1.2139503e+01 -9.4027529e+00  3.7105526e+01\n",
      "  1.6244419e+01 -2.6894638e+01]\n",
      "The accuracy of this model is61.44578313253012\n",
      "The rmse of this model is38.14708015024219\n",
      "Split: 6\n"
     ]
    },
    {
     "name": "stderr",
     "output_type": "stream",
     "text": [
      "/home/chris/anaconda3/lib/python3.8/site-packages/sklearn/preprocessing/_label.py:235: DataConversionWarning: A column-vector y was passed when a 1d array was expected. Please change the shape of y to (n_samples, ), for example using ravel().\n",
      "  y = column_or_1d(y, warn=True)\n",
      "/home/chris/anaconda3/lib/python3.8/site-packages/sklearn/preprocessing/_label.py:268: DataConversionWarning: A column-vector y was passed when a 1d array was expected. Please change the shape of y to (n_samples, ), for example using ravel().\n",
      "  y = column_or_1d(y, warn=True)\n"
     ]
    },
    {
     "name": "stdout",
     "output_type": "stream",
     "text": [
      "variables for auroc curve done. Processing fold accuracy + checking best model\n",
      "[-2.37654877e+01  4.11841354e+01  2.83580089e+00  2.63759756e+00\n",
      " -2.88612804e+01  3.58878822e+01  3.17066460e+01  1.45046558e+01\n",
      "  2.73296547e+01 -2.15095735e+00  1.15489902e+01 -1.90185814e+01\n",
      " -1.24276934e+01  2.91731682e+01  1.49322586e+01 -4.48746383e-01\n",
      "  1.98108597e+01 -2.39657664e+00 -1.34645724e+00  5.08497391e+01\n",
      " -1.37623796e+01 -1.55461464e+01 -2.80719719e+01  1.34316587e+01\n",
      "  3.84940147e+00  1.19769373e+01  4.93142853e+01  4.46150255e+00\n",
      "  1.51253710e+01  3.73948741e+00  1.47398376e+00  8.50676155e+00\n",
      " -1.51790738e-01 -8.27495766e+00  2.33660927e+01  3.49440460e+01\n",
      "  1.69661274e+01  9.28261375e+00 -1.08965945e+00  3.20822754e+01\n",
      " -3.65257034e+01  1.85491943e+01  2.20101871e+01  2.73222208e+00\n",
      "  1.19190950e+01  2.67032471e+01  1.85021229e+01  9.81693459e+00\n",
      "  1.87604351e+01 -1.23456550e+00  1.23758497e+01  1.15993681e+01\n",
      " -4.01613712e-02  2.53676205e+01 -6.59665108e+00  1.09451389e+00\n",
      "  3.13331814e+01  3.57909012e+01 -7.40995312e+00  1.97422063e+00\n",
      "  1.71090012e+01  2.40896969e+01  9.44267213e-01 -1.63681622e+01\n",
      "  4.81640015e+01  1.54718304e+01 -6.71373272e+00 -1.55504551e+01\n",
      " -1.11998882e+01  5.17575569e+01 -1.44241447e+01  1.35984385e+00\n",
      " -4.53620672e+00 -1.58912582e+01  1.01935558e+01 -1.05009012e+01\n",
      "  1.39656048e+01  1.19968681e+01  1.35917273e+01  3.06152368e+00\n",
      "  1.87454433e+01 -1.61883831e+00 -1.59650841e+01 -9.81062031e+00\n",
      "  1.96435833e+01  3.42232018e+01  3.53306770e+01  9.50855446e+00\n",
      "  1.07913933e+01 -1.93264413e+00  3.98223305e+00  8.30429363e+00\n",
      "  8.17335320e+00  9.01056290e+00 -1.79262018e+00 -3.51235819e+00\n",
      "  1.34168158e+01  3.72354851e+01 -5.54335237e-01 -8.14052773e+00\n",
      "  3.38667870e+01 -6.11511660e+00 -1.10618868e+01 -2.49238434e+01\n",
      "  5.22041273e+00  3.15365720e+00 -2.87989450e+00 -1.68047142e+01\n",
      " -6.88437510e+00 -2.53495598e+01  3.79613423e+00  3.60318336e+01\n",
      " -3.52392502e+01  4.09749091e-01 -6.10493565e+00 -3.22447815e+01\n",
      "  1.69681797e+01  4.08487167e+01 -3.27383101e-01 -8.09778214e+00\n",
      " -6.40552664e+00  1.37314901e+01  1.23853040e+00 -7.07954741e+00\n",
      "  1.72505989e+01  7.90892363e+00 -2.68035412e+01  2.52155819e+01\n",
      " -9.61014938e+00  1.73256760e+01 -1.17205162e+01  2.07773590e+01\n",
      "  1.22209520e+01 -8.63879013e+00  6.72363710e+00  7.19646120e+00\n",
      " -9.91242599e+00  4.07556572e+01 -1.64513836e+01 -2.85650468e+00\n",
      "  2.01584759e+01 -1.59134026e+01  8.58184338e+00  3.46352692e+01\n",
      "  2.43637714e+01  2.22112122e+01  4.52821541e+00  4.18416691e+00\n",
      " -3.20764923e+01  1.76755066e+01  1.53485928e+01  2.70465355e+01\n",
      " -2.15102017e-01 -2.94226379e+01  9.11176205e+00  4.80981827e+01\n",
      " -1.65170918e+01 -3.33425026e+01 -1.64999409e+01  2.45015125e+01\n",
      "  1.60050547e+00 -1.25792093e+01 -1.09829645e+01  1.07666178e+01\n",
      " -8.21936703e+00]\n",
      "The accuracy of this model is61.212121212121204\n",
      "The rmse of this model is35.617044645212516\n",
      "Split: 7\n"
     ]
    },
    {
     "name": "stderr",
     "output_type": "stream",
     "text": [
      "/home/chris/anaconda3/lib/python3.8/site-packages/sklearn/preprocessing/_label.py:235: DataConversionWarning: A column-vector y was passed when a 1d array was expected. Please change the shape of y to (n_samples, ), for example using ravel().\n",
      "  y = column_or_1d(y, warn=True)\n",
      "/home/chris/anaconda3/lib/python3.8/site-packages/sklearn/preprocessing/_label.py:268: DataConversionWarning: A column-vector y was passed when a 1d array was expected. Please change the shape of y to (n_samples, ), for example using ravel().\n",
      "  y = column_or_1d(y, warn=True)\n"
     ]
    },
    {
     "name": "stdout",
     "output_type": "stream",
     "text": [
      "variables for auroc curve done. Processing fold accuracy + checking best model\n",
      "[ 1.45304422e+01  2.03256626e+01 -1.51758528e+00 -1.98045235e+01\n",
      "  2.47234936e+01 -2.33735638e+01 -3.45589790e+01  1.68977108e+01\n",
      "  1.13358355e+01 -7.89842319e+00  2.97747860e+01  1.44790201e+01\n",
      "  1.16109705e+01  2.43195953e+01 -2.37282352e+01  1.47985220e+01\n",
      " -5.75435829e+00 -2.87337780e+00 -2.37780399e+01 -1.71304512e+01\n",
      "  1.05970526e+01  3.82482796e+01 -3.85783434e+00 -2.15291119e+01\n",
      "  2.71135640e+00  1.23804703e+01 -1.90608330e+01  3.85211539e+00\n",
      " -6.85496807e-01 -2.57395573e+01  2.17815514e+01  6.48264265e+00\n",
      " -8.43356323e+00 -2.69987679e+01 -1.13091297e+01 -2.18363094e+01\n",
      "  2.73081875e+01  1.09011993e+01  4.31800842e+00 -3.46304855e+01\n",
      "  3.77415085e+01 -2.54936943e+01  2.67469573e+00 -6.57298517e+00\n",
      "  2.55003071e+00 -3.49152017e+00 -4.40349340e-01 -1.81484547e+01\n",
      " -1.34018602e+01  1.90131969e+01  3.17147713e+01 -3.03062077e+01\n",
      "  1.61872444e+01 -1.37709033e+00  3.42525864e+01 -6.18855906e+00\n",
      " -2.00649452e+01  1.49322109e+01  7.19942141e+00 -2.43297234e+01\n",
      " -5.79402637e+00 -1.75061378e+01  2.26409016e+01 -1.22911654e+01\n",
      "  6.24232292e-01  4.36697731e+01  1.06226807e+01  1.47358885e+01\n",
      "  3.74974174e+01  5.77458420e+01  1.58240671e+01 -4.01032829e+01\n",
      "  1.73010159e+01 -1.18640480e+01 -1.83670349e+01  2.37920036e+01\n",
      " -2.04060578e+00 -4.67684650e+00  9.03255463e+00  7.61773348e+00\n",
      "  1.75360680e+01 -2.02738934e+01  1.42421603e+00  2.09922581e+01\n",
      " -5.52331805e-02  1.71832371e+01  3.04735107e+01  1.07103024e+01\n",
      " -3.27293396e+01  1.32359791e+01 -1.89605331e+01  1.24726667e+01\n",
      "  1.44681587e+01  2.22057495e+01  1.37352257e+01 -1.39456682e+01\n",
      "  9.38229561e+00 -6.72929621e+00  3.53511963e+01  5.58126068e+00\n",
      " -1.14978237e+01 -9.62981033e+00  2.19825287e+01 -3.29282498e+00\n",
      "  1.18115911e+01 -3.85594130e+00 -1.16469498e+01  3.41785774e+01\n",
      "  6.89428520e+00  4.93063974e+00  4.34804153e+00 -1.77112064e+01\n",
      "  2.36994228e+01  1.74077377e+01  3.92512131e+01  3.79270935e+01\n",
      "  1.25757465e+01 -1.38213456e-01  9.85562229e+00  1.50377083e+01\n",
      "  5.41521406e+00 -2.44809742e+01 -2.19895339e+00  1.88288841e+01\n",
      "  3.59839582e+00 -1.50965452e+01  1.45115137e+00  1.78893337e+01\n",
      " -5.89459419e+00  1.31706076e+01  9.42799759e+00 -1.92568264e+01\n",
      "  1.06258183e+01  1.99212399e+01 -1.83291111e+01 -2.19910085e-01\n",
      "  5.97338533e+00  3.12004833e+01  1.07059765e+01 -2.94807434e+00\n",
      " -2.51054382e+00 -1.70972919e+01  2.55078745e+00 -5.42755699e+00\n",
      "  1.69709325e-02  1.49514284e+01  1.55198660e+01 -6.36055231e-01\n",
      "  1.14210367e+01  1.88134174e+01  1.67637196e+01  1.86181183e+01\n",
      "  3.41174698e+01  1.58334303e+01  6.06822968e+00  3.30535984e+00\n",
      " -2.44503460e+01 -2.72539883e+01 -1.08270531e+01  2.51402721e+01\n",
      "  4.81531830e+01  1.60148182e+01 -3.62115097e+00 -7.36269665e+00\n",
      " -4.61652851e+00]\n",
      "The accuracy of this model is67.87878787878789\n",
      "The rmse of this model is32.89418554602562\n",
      "found best new margin\n",
      "Split: 8\n"
     ]
    },
    {
     "name": "stderr",
     "output_type": "stream",
     "text": [
      "/home/chris/anaconda3/lib/python3.8/site-packages/sklearn/preprocessing/_label.py:235: DataConversionWarning: A column-vector y was passed when a 1d array was expected. Please change the shape of y to (n_samples, ), for example using ravel().\n",
      "  y = column_or_1d(y, warn=True)\n",
      "/home/chris/anaconda3/lib/python3.8/site-packages/sklearn/preprocessing/_label.py:268: DataConversionWarning: A column-vector y was passed when a 1d array was expected. Please change the shape of y to (n_samples, ), for example using ravel().\n",
      "  y = column_or_1d(y, warn=True)\n"
     ]
    },
    {
     "name": "stdout",
     "output_type": "stream",
     "text": [
      "variables for auroc curve done. Processing fold accuracy + checking best model\n",
      "[-5.0663307e+01 -1.1573309e+00  6.4246984e+00 -1.5046401e+00\n",
      " -1.8680904e+01 -8.9271011e+00 -1.9109375e+01 -1.9979273e+01\n",
      " -2.0633360e+01 -2.8164385e+01  1.1684551e+01  4.7161331e+00\n",
      "  3.5064390e+00 -1.3206645e+01 -6.9359856e+00  1.3896693e+01\n",
      " -1.0677740e+01 -2.4046541e+01 -3.8098789e+01  1.5127554e+01\n",
      " -1.1224387e+01  3.3584000e+01 -1.6677730e+00 -4.4560590e+00\n",
      "  1.2746339e+01  1.0764902e+01  1.5734634e+01  2.7601852e+01\n",
      "  1.0028915e+01  1.6363844e+01 -4.4337764e+00  2.4475462e+01\n",
      "  7.2113199e+00  4.1405445e+01 -1.0486328e+01  1.5346259e+01\n",
      "  1.5290188e+01  4.2822021e+01 -2.7605460e+00 -5.2751846e+00\n",
      "  1.3105013e+01  9.5706539e+00  3.5308128e+01 -1.6055208e+01\n",
      " -3.0522038e+01 -1.2348662e+01  2.6363397e+00 -3.0074579e+01\n",
      " -2.8429334e+00  3.8635421e-01  4.9449879e+01  1.7233961e+01\n",
      " -1.4004637e+01  1.8626205e+01 -3.9896059e+00  1.3316734e+01\n",
      "  6.6243520e+00 -1.1724142e+00  3.1631432e+01  3.3126743e+01\n",
      "  3.0174568e+01 -4.6842224e+01  3.3451221e+01  2.4511766e+00\n",
      "  4.7280164e+00 -1.1349437e+01 -9.1620722e+00  5.3560247e+00\n",
      "  6.0721235e+00 -2.8650755e+01  2.6026211e+01  1.4740467e-01\n",
      " -2.0284615e+01 -1.6369371e+01 -1.2279123e+01  2.5951220e+01\n",
      "  3.5477667e+00 -3.9865994e+00 -5.9311800e+00  3.2750183e+01\n",
      " -1.1364726e+01  1.3138418e+01  2.9778002e+01  3.5253040e+01\n",
      "  2.1912897e+01 -1.5170480e+01  3.7896574e+00  9.7500324e+00\n",
      "  6.2626519e+00  2.2689798e+01  3.8261002e+01 -1.6061872e+01\n",
      " -1.5448842e+00  2.1122467e+01 -1.5394676e+01  7.7285023e+00\n",
      " -9.1716213e+00 -1.9587805e+01 -3.5629036e+01  4.9246071e+01\n",
      " -5.4129086e+00  2.0784227e+01  1.2679315e+01  4.9343491e+01\n",
      "  2.7404327e+01  1.3998072e+01 -8.7859182e+00  2.4394493e+01\n",
      "  2.1715193e+01 -3.3454359e-02 -4.1780481e+00 -2.3190891e+01\n",
      "  4.4763842e+00  4.1273067e+01 -1.5823574e+00  4.4681091e+00\n",
      "  4.1491016e+01  1.3599590e+01  8.3654251e+00  3.4710791e+00\n",
      "  3.9306812e+01  2.9017805e+01  6.5855801e-01  2.3347889e+01\n",
      "  1.9591896e+01  7.4447074e+00  2.6737614e+01  3.2725056e+01\n",
      "  1.6970512e+01  2.3517040e+01 -1.3397566e+01 -3.3138758e-01\n",
      "  6.9966550e+00 -3.3609182e-01  6.2763524e+00  4.3594303e+00\n",
      " -4.8618660e+00 -1.7891205e+01  6.2310094e-01 -2.7396870e+01\n",
      "  2.5523085e+01  9.0423136e+00 -1.7121820e+01 -1.9339584e+01\n",
      "  2.7333338e+01  1.9684696e+01  1.1939239e+01  1.0623745e+01\n",
      " -1.4058380e+01  1.7250615e+00  3.6754818e+01  5.5651302e+00\n",
      " -2.0161880e+01  6.6465673e+00  1.7058258e+01  1.8959991e+01\n",
      " -1.0142270e+01 -3.3036439e+00  2.7187174e+01  9.9379530e+00\n",
      "  2.3304985e+00 -3.6708878e+01  1.9383808e+01 -1.9170080e+01\n",
      "  1.4377221e+01]\n",
      "The accuracy of this model is67.87878787878789\n",
      "The rmse of this model is38.75060900474209\n",
      "Split: 9\n"
     ]
    },
    {
     "name": "stderr",
     "output_type": "stream",
     "text": [
      "/home/chris/anaconda3/lib/python3.8/site-packages/sklearn/preprocessing/_label.py:235: DataConversionWarning: A column-vector y was passed when a 1d array was expected. Please change the shape of y to (n_samples, ), for example using ravel().\n",
      "  y = column_or_1d(y, warn=True)\n",
      "/home/chris/anaconda3/lib/python3.8/site-packages/sklearn/preprocessing/_label.py:268: DataConversionWarning: A column-vector y was passed when a 1d array was expected. Please change the shape of y to (n_samples, ), for example using ravel().\n",
      "  y = column_or_1d(y, warn=True)\n"
     ]
    },
    {
     "name": "stdout",
     "output_type": "stream",
     "text": [
      "variables for auroc curve done. Processing fold accuracy + checking best model\n",
      "[ 10.611841    -1.3437532  -26.684675    -7.6530914   17.216497\n",
      "  57.696064    20.10271    -25.475338     0.81147665  16.582895\n",
      " -17.852745   -36.039536     2.1739929   20.714243     2.7345197\n",
      " -26.430706    -7.2504716  -32.963646    -5.066364     9.523913\n",
      "  19.304735    13.6379385  -27.037573   -25.796154     3.7596707\n",
      "  40.452877   -15.432645     4.5453916    7.4312687   27.391636\n",
      "  38.669094    39.821503    16.898966     9.296032    -6.9629645\n",
      "   8.77231      9.553026    30.567436    -2.2705166  -27.172419\n",
      "  12.407394    -7.468421     3.6700625   22.145428    36.194374\n",
      "  33.40088      2.0090685   -7.0991817  -35.58264     -8.393964\n",
      "   6.9108534    9.328843    14.205585    49.063473   -22.986366\n",
      "  38.116352    23.735516    15.822063     4.4178367   29.42389\n",
      " -22.208347    27.618542    37.852737   -15.408936    -7.1836514\n",
      "  48.14827      4.293752     3.2422543   17.290909    30.155949\n",
      " -24.518188    21.456993    22.923939     7.5078955  -30.20262\n",
      "   5.663063   -43.259716    10.41623     49.333305    13.415481\n",
      "  33.93567      9.371657    19.509281    18.96459      4.947788\n",
      " -11.433324    12.145543     7.5573683   16.382938   -20.121582\n",
      " -25.276115    -4.7119102   -8.435425    -4.9658594   31.768013\n",
      "  -5.1866746   20.010979   -17.999641   -19.347572    -5.6820283\n",
      "  -8.749866    36.797855     2.3235044   -5.1817985   27.596216\n",
      " -10.51801      6.322974     7.2511845   -2.959647    39.083214\n",
      "  -0.15768123  36.218807    -2.0070364    8.292179    10.493081\n",
      "  26.372982     4.292831   -25.93907     43.498936    -6.8371873\n",
      "  13.711518   -22.022148   -23.161358    11.1197815   20.185478\n",
      "  11.052401    10.560271    14.403051    17.52456     55.162262\n",
      "   2.6716886   18.830404    19.260988    15.310649    19.857935\n",
      " -20.683672    15.847668   -17.392899    -2.3602843   32.990665\n",
      "   5.6255345    1.4187498  -14.262983     1.2605724    3.822401\n",
      "  26.568087     1.5728354   19.518028     7.5942154   29.429798\n",
      "  -3.0415375   10.40046     11.693238   -27.336807    32.629288\n",
      "  32.203217    13.583905     1.2005706    5.311049   -18.415365\n",
      "  31.364092   -26.045044   -16.87023     37.906887     3.825139  ]\n",
      "The accuracy of this model is59.3939393939394\n",
      "The rmse of this model is33.643347048046955\n",
      "Split: 10\n"
     ]
    },
    {
     "name": "stderr",
     "output_type": "stream",
     "text": [
      "/home/chris/anaconda3/lib/python3.8/site-packages/sklearn/preprocessing/_label.py:235: DataConversionWarning: A column-vector y was passed when a 1d array was expected. Please change the shape of y to (n_samples, ), for example using ravel().\n",
      "  y = column_or_1d(y, warn=True)\n",
      "/home/chris/anaconda3/lib/python3.8/site-packages/sklearn/preprocessing/_label.py:268: DataConversionWarning: A column-vector y was passed when a 1d array was expected. Please change the shape of y to (n_samples, ), for example using ravel().\n",
      "  y = column_or_1d(y, warn=True)\n"
     ]
    },
    {
     "name": "stdout",
     "output_type": "stream",
     "text": [
      "variables for auroc curve done. Processing fold accuracy + checking best model\n",
      "[  6.1628733   31.977472   -15.680733    -4.9606485  -15.938332\n",
      "  37.514248    38.041973     6.197401    10.197627     1.0443907\n",
      "  26.813412    -5.171053    -5.328283    -0.94594145   8.578268\n",
      "  24.329847     3.3619924   26.033741    14.357881    20.779425\n",
      "   4.6384897   14.136189   -30.417765    42.817467   -23.67804\n",
      "  11.557793    17.85923     35.492096    32.90142     -0.4291826\n",
      "   6.214527   -25.807142    10.923281    10.730735    32.46081\n",
      "  33.789913    20.183588    43.74462     -4.7756743  -16.273167\n",
      "   8.124239   -27.371338    37.225124    -0.72857857  21.729284\n",
      "  -1.3461937   -8.761271    33.63508     41.201736    22.274544\n",
      "  -0.0757702    3.8587496  -12.569274    -7.957453    27.373585\n",
      "  31.354723    17.363234    20.859682   -38.63597    -38.83895\n",
      "  10.874514    13.192856     4.7514057   25.006529     3.913768\n",
      " -10.433552    13.934347    21.043901    -7.934148     0.29476762\n",
      " -14.361511   -21.638412     3.0347757   37.068104    13.558192\n",
      "  15.089145    19.471525    -0.0703277   28.11847     17.129389\n",
      " -22.357658    24.54053    -17.259077     9.947018    26.723585\n",
      "   8.209331    -2.8926692  -22.300869    38.587215    29.083439\n",
      "  26.25101     25.077047    30.56424      5.021928     3.229426\n",
      " -22.7911      -9.440307   -37.234272     9.999316     9.803355\n",
      "   4.7173543   31.937609   -20.039083    32.074547    22.78495\n",
      " -35.379852   -37.23963    -34.749413   -44.771202    39.144775\n",
      "  13.241875   -18.17604    -11.253217    -1.0576562   12.175192\n",
      "  27.396357     5.0742955   -7.030405    28.284367   -24.74397\n",
      " -22.08189      4.1776876  -17.270088     1.867824     7.4639745\n",
      "   0.38987094  -7.248025    29.610638    10.284075    -1.6913064\n",
      "   0.534977    20.970314   -13.078834   -15.5725     -19.274027\n",
      "  28.411411    -5.17901     29.545597    64.75532      8.095949\n",
      "  -4.439874    -6.5962563  -12.740215    -1.4026827  -18.549198\n",
      " -22.238153   -16.165493    32.76621     29.252087    -6.359467\n",
      " -18.107218    21.58709     19.102957     2.8402436   14.812821\n",
      "   5.941225     7.10854     22.445848    -9.457273   -27.58516\n",
      "   8.018041    29.679811    -3.5261092   -5.976489   -32.018063  ]\n",
      "The accuracy of this model is63.63636363636363\n",
      "The rmse of this model is38.527353208431656\n",
      "Best win percentage split = 69.27710843373494\n",
      "Best margin rmse = 32.89418554602562\n",
      "Training Testing Accuracy: 65.01% (3.54%)\n",
      "Training Testing Margins: 36.38% (1.89%)\n"
     ]
    }
   ],
   "source": [
    "#as one big script to go through n_games\n",
    "n_games = [2,3,10]\n",
    "for n in n_games:\n",
    "    run_all_models(n)"
   ]
  },
  {
   "cell_type": "markdown",
   "metadata": {},
   "source": [
    "# Best of 3 Models"
   ]
  },
  {
   "cell_type": "code",
   "execution_count": 16,
   "metadata": {},
   "outputs": [],
   "source": [
    "def prep_data_test(n_games,ohe):\n",
    "    h = get_headers(n_games)\n",
    "    h = clean_headers(h)\n",
    "    cv = generate_categorical_headers(h)\n",
    "\n",
    "    #to get names of teams from index\n",
    "    g = gad()\n",
    "    teams = g.createTeamDict()\n",
    "\n",
    "    #load Data\n",
    "    x_data = pd.read_csv('Data/assembled_stat_matrix_no2020'+str(n_games)+'_games.csv')\n",
    "    x_data = x_data.tail(1655)\n",
    "    \n",
    "    #make empty OHE object\n",
    "    na_enc = OneHotEncoder(handle_unknown='ignore', sparse=False)\n",
    "\n",
    "    #one hot encode data with new one hot encoder, saves ohe for later use\n",
    "    x_data, ohe = ohe_data(x_data, ohe, 1, cv)\n",
    "    \n",
    "    regex = re.compile(r\"\\[|\\]|<\", re.IGNORECASE)\n",
    "    x_data.columns = [regex.sub(\"_\", col) if any(x in str(col) for x in set(('[', ']', '<'))) else col for col in x_data.columns.values]\n",
    "\n",
    "    return x_data"
   ]
  },
  {
   "cell_type": "code",
   "execution_count": 17,
   "metadata": {},
   "outputs": [],
   "source": [
    "def load_test_models(n):\n",
    "    clf = pickle.load(open(\"Models/best_xgb_clas_no2020_\"+str(n)+\"_games.dat\", \"rb\"))\n",
    "    ohe = pickle.load(open(\"Models/ohe_\"+str(n)+\"_no_2021_games.dat\", \"rb\"))\n",
    "    return clf, ohe"
   ]
  },
  {
   "cell_type": "code",
   "execution_count": 18,
   "metadata": {
    "scrolled": true
   },
   "outputs": [],
   "source": [
    "#load data\n",
    "y_label = pd.read_csv('Data/assembled_labelled_ymatrix_no202010_games.csv')\n",
    "\n",
    "model_2, ohe = load_test_models(2)\n",
    "x_2 = prep_data_test(2,ohe)\n",
    "model_3, ohe = load_test_models(3)\n",
    "x_3 = prep_data_test(3, ohe)\n",
    "model_10, ohe = load_test_models(10)\n",
    "x_10 = prep_data_test(10, ohe)\n"
   ]
  },
  {
   "cell_type": "code",
   "execution_count": null,
   "metadata": {},
   "outputs": [
    {
     "name": "stdout",
     "output_type": "stream",
     "text": [
      "Split: 1\n"
     ]
    },
    {
     "name": "stderr",
     "output_type": "stream",
     "text": [
      "/home/chris/anaconda3/lib/python3.8/site-packages/sklearn/preprocessing/_label.py:235: DataConversionWarning: A column-vector y was passed when a 1d array was expected. Please change the shape of y to (n_samples, ), for example using ravel().\n",
      "  y = column_or_1d(y, warn=True)\n",
      "/home/chris/anaconda3/lib/python3.8/site-packages/sklearn/preprocessing/_label.py:268: DataConversionWarning: A column-vector y was passed when a 1d array was expected. Please change the shape of y to (n_samples, ), for example using ravel().\n",
      "  y = column_or_1d(y, warn=True)\n",
      "/home/chris/anaconda3/lib/python3.8/site-packages/sklearn/preprocessing/_label.py:235: DataConversionWarning: A column-vector y was passed when a 1d array was expected. Please change the shape of y to (n_samples, ), for example using ravel().\n",
      "  y = column_or_1d(y, warn=True)\n",
      "/home/chris/anaconda3/lib/python3.8/site-packages/sklearn/preprocessing/_label.py:268: DataConversionWarning: A column-vector y was passed when a 1d array was expected. Please change the shape of y to (n_samples, ), for example using ravel().\n",
      "  y = column_or_1d(y, warn=True)\n",
      "/home/chris/anaconda3/lib/python3.8/site-packages/sklearn/preprocessing/_label.py:235: DataConversionWarning: A column-vector y was passed when a 1d array was expected. Please change the shape of y to (n_samples, ), for example using ravel().\n",
      "  y = column_or_1d(y, warn=True)\n",
      "/home/chris/anaconda3/lib/python3.8/site-packages/sklearn/preprocessing/_label.py:268: DataConversionWarning: A column-vector y was passed when a 1d array was expected. Please change the shape of y to (n_samples, ), for example using ravel().\n",
      "  y = column_or_1d(y, warn=True)\n"
     ]
    },
    {
     "name": "stdout",
     "output_type": "stream",
     "text": [
      "variables for auroc curve done. Processing fold accuracy + checking best model\n",
      "     y_pred_2  y_pred_3  y_pred_10   average\n",
      "0         0.0       0.0        0.0  0.000000\n",
      "1         0.0       1.0        1.0  0.666667\n",
      "2         0.0       0.0        0.0  0.000000\n",
      "3         0.0       1.0        0.0  0.333333\n",
      "4         0.0       0.0        0.0  0.000000\n",
      "..        ...       ...        ...       ...\n",
      "161       1.0       1.0        0.0  0.666667\n",
      "162       0.0       0.0        0.0  0.000000\n",
      "163       1.0       1.0        1.0  1.000000\n",
      "164       0.0       0.0        0.0  0.000000\n",
      "165       1.0       1.0        1.0  1.000000\n",
      "\n",
      "[166 rows x 4 columns]\n",
      "[0.0, 0.6666666666666666, 0.0, 0.3333333333333333, 0.0, 0.6666666666666666, 0.0, 0.0, 0.0, 1.0, 0.0, 0.0, 0.0, 0.0, 0.3333333333333333, 0.0, 0.3333333333333333, 1.0, 0.0, 0.0, 0.0, 1.0, 1.0, 0.6666666666666666, 0.0, 0.0, 0.0, 0.0, 0.0, 0.0, 0.0, 0.0, 0.0, 0.6666666666666666, 0.3333333333333333, 0.0, 0.3333333333333333, 0.0, 1.0, 1.0, 1.0, 0.0, 0.0, 0.6666666666666666, 0.6666666666666666, 0.3333333333333333, 0.0, 0.0, 1.0, 0.0, 0.3333333333333333, 0.0, 0.0, 0.3333333333333333, 0.3333333333333333, 0.0, 0.0, 0.0, 0.0, 0.0, 0.0, 0.3333333333333333, 0.0, 0.0, 0.0, 0.3333333333333333, 0.6666666666666666, 0.0, 0.0, 0.0, 0.0, 0.0, 0.0, 1.0, 0.6666666666666666, 0.0, 0.3333333333333333, 0.0, 0.3333333333333333, 0.0, 0.0, 0.0, 0.0, 0.6666666666666666, 0.0, 1.0, 0.0, 0.3333333333333333, 0.0, 0.6666666666666666, 0.0, 1.0, 0.0, 1.0, 0.0, 0.6666666666666666, 0.6666666666666666, 0.0, 0.0, 1.0, 1.0, 0.0, 0.0, 0.0, 0.6666666666666666, 0.0, 1.0, 0.3333333333333333, 0.0, 1.0, 0.0, 0.0, 0.0, 0.0, 0.0, 0.0, 1.0, 0.0, 0.0, 0.0, 0.0, 0.3333333333333333, 0.6666666666666666, 0.0, 0.0, 0.6666666666666666, 0.0, 0.0, 0.0, 0.3333333333333333, 0.0, 1.0, 0.6666666666666666, 0.0, 0.0, 0.0, 0.0, 0.6666666666666666, 0.0, 0.0, 0.0, 1.0, 0.3333333333333333, 0.0, 0.0, 0.0, 0.0, 0.0, 0.0, 0.3333333333333333, 0.3333333333333333, 0.0, 0.3333333333333333, 0.0, 0.3333333333333333, 0.0, 0.6666666666666666, 0.0, 0.0, 0.0, 1.0, 0.6666666666666666, 0.0, 1.0, 0.0, 1.0]\n",
      "[0, 1, 0, 0, 0, 1, 0, 0, 0, 1, 0, 0, 0, 0, 0, 0, 0, 1, 0, 0, 0, 1, 1, 1, 0, 0, 0, 0, 0, 0, 0, 0, 0, 1, 0, 0, 0, 0, 1, 1, 1, 0, 0, 1, 1, 0, 0, 0, 1, 0, 0, 0, 0, 0, 0, 0, 0, 0, 0, 0, 0, 0, 0, 0, 0, 0, 1, 0, 0, 0, 0, 0, 0, 1, 1, 0, 0, 0, 0, 0, 0, 0, 0, 1, 0, 1, 0, 0, 0, 1, 0, 1, 0, 1, 0, 1, 1, 0, 0, 1, 1, 0, 0, 0, 1, 0, 1, 0, 0, 1, 0, 0, 0, 0, 0, 0, 1, 0, 0, 0, 0, 0, 1, 0, 0, 1, 0, 0, 0, 0, 0, 1, 1, 0, 0, 0, 0, 1, 0, 0, 0, 1, 0, 0, 0, 0, 0, 0, 0, 0, 0, 0, 0, 0, 0, 0, 1, 0, 0, 0, 1, 1, 0, 1, 0, 1]\n",
      "The accuracy of this model is64.45783132530121\n",
      "Split: 2\n"
     ]
    },
    {
     "name": "stderr",
     "output_type": "stream",
     "text": [
      "/home/chris/anaconda3/lib/python3.8/site-packages/sklearn/preprocessing/_label.py:235: DataConversionWarning: A column-vector y was passed when a 1d array was expected. Please change the shape of y to (n_samples, ), for example using ravel().\n",
      "  y = column_or_1d(y, warn=True)\n",
      "/home/chris/anaconda3/lib/python3.8/site-packages/sklearn/preprocessing/_label.py:268: DataConversionWarning: A column-vector y was passed when a 1d array was expected. Please change the shape of y to (n_samples, ), for example using ravel().\n",
      "  y = column_or_1d(y, warn=True)\n",
      "/home/chris/anaconda3/lib/python3.8/site-packages/sklearn/preprocessing/_label.py:235: DataConversionWarning: A column-vector y was passed when a 1d array was expected. Please change the shape of y to (n_samples, ), for example using ravel().\n",
      "  y = column_or_1d(y, warn=True)\n",
      "/home/chris/anaconda3/lib/python3.8/site-packages/sklearn/preprocessing/_label.py:268: DataConversionWarning: A column-vector y was passed when a 1d array was expected. Please change the shape of y to (n_samples, ), for example using ravel().\n",
      "  y = column_or_1d(y, warn=True)\n",
      "/home/chris/anaconda3/lib/python3.8/site-packages/sklearn/preprocessing/_label.py:235: DataConversionWarning: A column-vector y was passed when a 1d array was expected. Please change the shape of y to (n_samples, ), for example using ravel().\n",
      "  y = column_or_1d(y, warn=True)\n",
      "/home/chris/anaconda3/lib/python3.8/site-packages/sklearn/preprocessing/_label.py:268: DataConversionWarning: A column-vector y was passed when a 1d array was expected. Please change the shape of y to (n_samples, ), for example using ravel().\n",
      "  y = column_or_1d(y, warn=True)\n"
     ]
    },
    {
     "name": "stdout",
     "output_type": "stream",
     "text": [
      "variables for auroc curve done. Processing fold accuracy + checking best model\n",
      "     y_pred_2  y_pred_3  y_pred_10   average\n",
      "0         0.0       0.0        0.0  0.000000\n",
      "1         1.0       0.0        0.0  0.333333\n",
      "2         1.0       0.0        0.0  0.333333\n",
      "3         0.0       0.0        0.0  0.000000\n",
      "4         1.0       1.0        0.0  0.666667\n",
      "..        ...       ...        ...       ...\n",
      "161       0.0       0.0        0.0  0.000000\n",
      "162       1.0       1.0        1.0  1.000000\n",
      "163       0.0       1.0        0.0  0.333333\n",
      "164       1.0       0.0        0.0  0.333333\n",
      "165       0.0       0.0        0.0  0.000000\n",
      "\n",
      "[166 rows x 4 columns]\n",
      "[0.0, 0.3333333333333333, 0.3333333333333333, 0.0, 0.6666666666666666, 0.0, 0.0, 0.3333333333333333, 0.0, 0.0, 0.0, 1.0, 0.3333333333333333, 0.3333333333333333, 0.3333333333333333, 0.0, 1.0, 1.0, 0.0, 1.0, 0.6666666666666666, 0.3333333333333333, 0.0, 0.3333333333333333, 1.0, 0.0, 0.0, 0.0, 1.0, 0.0, 0.0, 0.6666666666666666, 1.0, 0.0, 1.0, 0.0, 0.0, 0.0, 0.0, 0.3333333333333333, 0.0, 0.3333333333333333, 0.3333333333333333, 1.0, 0.0, 0.3333333333333333, 1.0, 0.3333333333333333, 0.3333333333333333, 1.0, 0.6666666666666666, 0.0, 0.0, 1.0, 0.3333333333333333, 0.0, 0.3333333333333333, 1.0, 0.0, 0.0, 0.0, 0.3333333333333333, 0.6666666666666666, 0.0, 0.0, 1.0, 1.0, 0.0, 0.0, 1.0, 0.0, 0.0, 0.6666666666666666, 0.6666666666666666, 0.0, 0.0, 0.6666666666666666, 1.0, 0.6666666666666666, 0.0, 1.0, 0.0, 0.0, 1.0, 0.0, 0.0, 0.0, 0.6666666666666666, 0.0, 0.0, 0.6666666666666666, 0.6666666666666666, 0.3333333333333333, 0.6666666666666666, 0.0, 0.0, 0.6666666666666666, 0.6666666666666666, 0.0, 0.0, 0.0, 0.0, 0.3333333333333333, 0.0, 1.0, 0.3333333333333333, 1.0, 0.0, 1.0, 0.0, 0.0, 1.0, 0.3333333333333333, 0.3333333333333333, 0.0, 0.6666666666666666, 1.0, 1.0, 0.3333333333333333, 0.0, 0.0, 0.0, 0.0, 1.0, 0.3333333333333333, 1.0, 0.0, 0.0, 0.0, 0.0, 0.0, 1.0, 0.3333333333333333, 0.0, 0.3333333333333333, 0.0, 0.3333333333333333, 0.0, 0.0, 0.0, 0.0, 0.3333333333333333, 1.0, 0.0, 0.0, 0.0, 0.0, 0.3333333333333333, 1.0, 1.0, 0.0, 0.0, 0.0, 1.0, 1.0, 0.0, 0.0, 0.3333333333333333, 0.0, 0.0, 1.0, 0.0, 1.0, 0.3333333333333333, 0.3333333333333333, 0.0]\n",
      "[0, 0, 0, 0, 1, 0, 0, 0, 0, 0, 0, 1, 0, 0, 0, 0, 1, 1, 0, 1, 1, 0, 0, 0, 1, 0, 0, 0, 1, 0, 0, 1, 1, 0, 1, 0, 0, 0, 0, 0, 0, 0, 0, 1, 0, 0, 1, 0, 0, 1, 1, 0, 0, 1, 0, 0, 0, 1, 0, 0, 0, 0, 1, 0, 0, 1, 1, 0, 0, 1, 0, 0, 1, 1, 0, 0, 1, 1, 1, 0, 1, 0, 0, 1, 0, 0, 0, 1, 0, 0, 1, 1, 0, 1, 0, 0, 1, 1, 0, 0, 0, 0, 0, 0, 1, 0, 1, 0, 1, 0, 0, 1, 0, 0, 0, 1, 1, 1, 0, 0, 0, 0, 0, 1, 0, 1, 0, 0, 0, 0, 0, 1, 0, 0, 0, 0, 0, 0, 0, 0, 0, 0, 1, 0, 0, 0, 0, 0, 1, 1, 0, 0, 0, 1, 1, 0, 0, 0, 0, 0, 1, 0, 1, 0, 0, 0]\n",
      "The accuracy of this model is65.66265060240963\n",
      "Split: 3\n"
     ]
    },
    {
     "name": "stderr",
     "output_type": "stream",
     "text": [
      "/home/chris/anaconda3/lib/python3.8/site-packages/sklearn/preprocessing/_label.py:235: DataConversionWarning: A column-vector y was passed when a 1d array was expected. Please change the shape of y to (n_samples, ), for example using ravel().\n",
      "  y = column_or_1d(y, warn=True)\n",
      "/home/chris/anaconda3/lib/python3.8/site-packages/sklearn/preprocessing/_label.py:268: DataConversionWarning: A column-vector y was passed when a 1d array was expected. Please change the shape of y to (n_samples, ), for example using ravel().\n",
      "  y = column_or_1d(y, warn=True)\n",
      "/home/chris/anaconda3/lib/python3.8/site-packages/sklearn/preprocessing/_label.py:235: DataConversionWarning: A column-vector y was passed when a 1d array was expected. Please change the shape of y to (n_samples, ), for example using ravel().\n",
      "  y = column_or_1d(y, warn=True)\n",
      "/home/chris/anaconda3/lib/python3.8/site-packages/sklearn/preprocessing/_label.py:268: DataConversionWarning: A column-vector y was passed when a 1d array was expected. Please change the shape of y to (n_samples, ), for example using ravel().\n",
      "  y = column_or_1d(y, warn=True)\n",
      "/home/chris/anaconda3/lib/python3.8/site-packages/sklearn/preprocessing/_label.py:235: DataConversionWarning: A column-vector y was passed when a 1d array was expected. Please change the shape of y to (n_samples, ), for example using ravel().\n",
      "  y = column_or_1d(y, warn=True)\n",
      "/home/chris/anaconda3/lib/python3.8/site-packages/sklearn/preprocessing/_label.py:268: DataConversionWarning: A column-vector y was passed when a 1d array was expected. Please change the shape of y to (n_samples, ), for example using ravel().\n",
      "  y = column_or_1d(y, warn=True)\n"
     ]
    }
   ],
   "source": [
    "results = []\n",
    "count = 0\n",
    "high_w = 0\n",
    "cv = StratifiedKFold(n_splits=10, shuffle=True)\n",
    "y = y_label\n",
    "for train,test in cv.split(x_2,y):\n",
    "    count = count + 1\n",
    "    print(\"Split: \" + str(count))\n",
    "    prediction = model_2.fit(x_2.loc[train],y.loc[train]).predict_proba(x_2.loc[test])\n",
    "    prediction = model_3.fit(x_3.loc[train],y.loc[train]).predict_proba(x_3.loc[test])\n",
    "    prediction = model_10.fit(x_10.loc[train],y.loc[train]).predict_proba(x_10.loc[test])\n",
    "    print(\"variables for auroc curve done. Processing fold accuracy + checking best model\")\n",
    "    d = {'y_pred_2':model_2.predict(x_2.loc[test]), 'y_pred_3':model_3.predict(x_3.loc[test]),\n",
    "         'y_pred_10':model_10.predict(x_10.loc[test])}\n",
    "    pred_df = pd.DataFrame(data=d)\n",
    "    summary_ave_data = pred_df.copy()\n",
    "    summary_ave_data['average'] = summary_ave_data.mean(numeric_only=True, axis=1)\n",
    "    print(summary_ave_data)\n",
    "    y_pred = summary_ave_data[\"average\"].tolist()\n",
    "    print(y_pred)\n",
    "    predictions = [round(value) for value in y_pred]\n",
    "    print(predictions)\n",
    "    #sees how accurate the model was when testing the test set\n",
    "    accuracy = accuracy_score(y.loc[test], predictions)\n",
    "    pcent = accuracy * 100.0\n",
    "    print(\"The accuracy of this model is\" + str(pcent))\n",
    "    results.append(pcent)\n",
    "print(\"Best win percentage split = \" +str(high_w))\n",
    "print(\"Training Testing Accuracy: %.2f%% (%.2f%%)\" % (np.mean(results), np.std(results)))"
   ]
  },
  {
   "cell_type": "markdown",
   "metadata": {},
   "source": [
    "# Clean Data Testing Ground"
   ]
  },
  {
   "cell_type": "code",
   "execution_count": 11,
   "metadata": {},
   "outputs": [],
   "source": [
    "def create_R_TeamDict():\n",
    "    teams = {\n",
    "    \"1\" : \"Adelaide Crows\",\n",
    "    \"2\" : \"Brisbane Lions\",\n",
    "    \"3\" : \"Carlton\",\n",
    "    \"4\" : \"Collingwood\",\n",
    "    \"5\" : \"Essendon\",\n",
    "    \"6\" : \"Fremantle\",\n",
    "    \"7\" : \"Geelong Cats\",\n",
    "    \"8\" : \"Gold Coast Suns\",\n",
    "    \"9\" : \"GWS Giants\",\n",
    "    \"10\": \"Hawthorn\",\n",
    "    \"11\": \"Melbourne\",\n",
    "    \"12\": \"North Melbourne\",\n",
    "    \"13\": \"Port Adelaide\",\n",
    "    \"14\": \"Richmond\",\n",
    "    \"15\": \"St Kilda\",\n",
    "    \"16\": \"Sydney Swans\",\n",
    "    \"17\": \"West Coast Eagles\",\n",
    "    \"18\": \"Western Bulldogs\"\n",
    "    }\n",
    "    return teams"
   ]
  },
  {
   "cell_type": "code",
   "execution_count": 20,
   "metadata": {},
   "outputs": [],
   "source": []
  },
  {
   "cell_type": "code",
   "execution_count": 157,
   "metadata": {},
   "outputs": [],
   "source": [
    "team_int = 6"
   ]
  },
  {
   "cell_type": "code",
   "execution_count": 162,
   "metadata": {},
   "outputs": [
    {
     "data": {
      "text/html": [
       "<div>\n",
       "<style scoped>\n",
       "    .dataframe tbody tr th:only-of-type {\n",
       "        vertical-align: middle;\n",
       "    }\n",
       "\n",
       "    .dataframe tbody tr th {\n",
       "        vertical-align: top;\n",
       "    }\n",
       "\n",
       "    .dataframe thead th {\n",
       "        text-align: right;\n",
       "    }\n",
       "</style>\n",
       "<table border=\"1\" class=\"dataframe\">\n",
       "  <thead>\n",
       "    <tr style=\"text-align: right;\">\n",
       "      <th></th>\n",
       "      <th>Year</th>\n",
       "      <th>Round</th>\n",
       "      <th>Team_ID</th>\n",
       "      <th>Player_PAV_Total</th>\n",
       "    </tr>\n",
       "  </thead>\n",
       "  <tbody>\n",
       "    <tr>\n",
       "      <th>1012</th>\n",
       "      <td>2013</td>\n",
       "      <td>1</td>\n",
       "      <td>6</td>\n",
       "      <td>233.52</td>\n",
       "    </tr>\n",
       "    <tr>\n",
       "      <th>1013</th>\n",
       "      <td>2013</td>\n",
       "      <td>2</td>\n",
       "      <td>6</td>\n",
       "      <td>219.10</td>\n",
       "    </tr>\n",
       "    <tr>\n",
       "      <th>1014</th>\n",
       "      <td>2013</td>\n",
       "      <td>3</td>\n",
       "      <td>6</td>\n",
       "      <td>225.28</td>\n",
       "    </tr>\n",
       "    <tr>\n",
       "      <th>1015</th>\n",
       "      <td>2013</td>\n",
       "      <td>4</td>\n",
       "      <td>6</td>\n",
       "      <td>204.98</td>\n",
       "    </tr>\n",
       "    <tr>\n",
       "      <th>1016</th>\n",
       "      <td>2013</td>\n",
       "      <td>5</td>\n",
       "      <td>6</td>\n",
       "      <td>213.05</td>\n",
       "    </tr>\n",
       "    <tr>\n",
       "      <th>...</th>\n",
       "      <td>...</td>\n",
       "      <td>...</td>\n",
       "      <td>...</td>\n",
       "      <td>...</td>\n",
       "    </tr>\n",
       "    <tr>\n",
       "      <th>1211</th>\n",
       "      <td>2021</td>\n",
       "      <td>23</td>\n",
       "      <td>6</td>\n",
       "      <td>181.11</td>\n",
       "    </tr>\n",
       "    <tr>\n",
       "      <th>1212</th>\n",
       "      <td>2022</td>\n",
       "      <td>1</td>\n",
       "      <td>6</td>\n",
       "      <td>173.39</td>\n",
       "    </tr>\n",
       "    <tr>\n",
       "      <th>1213</th>\n",
       "      <td>2022</td>\n",
       "      <td>2</td>\n",
       "      <td>6</td>\n",
       "      <td>168.25</td>\n",
       "    </tr>\n",
       "    <tr>\n",
       "      <th>1214</th>\n",
       "      <td>2022</td>\n",
       "      <td>3</td>\n",
       "      <td>6</td>\n",
       "      <td>133.87</td>\n",
       "    </tr>\n",
       "    <tr>\n",
       "      <th>1215</th>\n",
       "      <td>2022</td>\n",
       "      <td>4</td>\n",
       "      <td>6</td>\n",
       "      <td>166.42</td>\n",
       "    </tr>\n",
       "  </tbody>\n",
       "</table>\n",
       "<p>204 rows × 4 columns</p>\n",
       "</div>"
      ],
      "text/plain": [
       "      Year  Round  Team_ID  Player_PAV_Total\n",
       "1012  2013      1        6            233.52\n",
       "1013  2013      2        6            219.10\n",
       "1014  2013      3        6            225.28\n",
       "1015  2013      4        6            204.98\n",
       "1016  2013      5        6            213.05\n",
       "...    ...    ...      ...               ...\n",
       "1211  2021     23        6            181.11\n",
       "1212  2022      1        6            173.39\n",
       "1213  2022      2        6            168.25\n",
       "1214  2022      3        6            133.87\n",
       "1215  2022      4        6            166.42\n",
       "\n",
       "[204 rows x 4 columns]"
      ]
     },
     "execution_count": 162,
     "metadata": {},
     "output_type": "execute_result"
    }
   ],
   "source": [
    "pavs = pd.read_csv(\"R_Code/all_team_pavs.csv\")\n",
    "team_pavs = pavs.loc[(pavs[\"Team_ID\"]==team_int)]\n",
    "team_pavs"
   ]
  },
  {
   "cell_type": "code",
   "execution_count": 159,
   "metadata": {},
   "outputs": [
    {
     "data": {
      "text/plain": [
       "(204, 100)"
      ]
     },
     "execution_count": 159,
     "metadata": {},
     "output_type": "execute_result"
    }
   ],
   "source": [
    "df.shape"
   ]
  },
  {
   "cell_type": "code",
   "execution_count": 15,
   "metadata": {},
   "outputs": [],
   "source": [
    "def calc_sum_pav(year, rnd, team_int):\n",
    "    #do calc\n",
    "    g = gad()\n",
    "    team_dict = g.createTeamDict()\n",
    "    r_dict = create_R_TeamDict()\n",
    "    current_team = (team_dict[str(team_int)])\n",
    "    df = pd.read_csv(\"Data/\"+current_team+'_clean_stats.csv')\n",
    "    current_r_team = (r_dict[str(team_int)])\n",
    "    lineups = pd.read_csv(\"R_Code/all_lineups.csv\")\n",
    "    lineups = lineups[lineups.isin([current_r_team]).any(axis=1)]\n",
    "    lineups = lineups[lineups.isin([year]).any(axis=1)]\n",
    "    lineups = lineups[lineups.isin([rnd]).any(axis=1)]\n",
    "    lineups['team'] = team_int\n",
    "    if(rnd < 11):\n",
    "        lineups['year'] = (year-1)\n",
    "    lineups.columns = ['year', 'teamname', 'roundNumber', 'firstname', 'surname', 'team']\n",
    "    cols = ['team', 'year', 'firstname', 'surname']\n",
    "    lineups = lineups[cols]\n",
    "    all_pavs = pd.read_csv(\"R_Code/all_player_PAVs.csv\")\n",
    "    \n",
    "    lineups.firstname = lineups.firstname.str.split(' ').str[0]\n",
    "    all_pavs.firstname = all_pavs.firstname.str.replace(' ','')\n",
    "    \n",
    "    lineups = lineups.merge(all_pavs, how='inner', on=['team', 'year', 'firstname', 'surname'])\n",
    "    if(lineups.shape[0] > 0):\n",
    "        pav = lineups['PAV_total'].sum()\n",
    "    else:\n",
    "        pav = 999\n",
    "    print(pav)\n",
    "    pav_array = [year, rnd, team_int, pav]\n",
    "    return pav_array"
   ]
  },
  {
   "cell_type": "code",
   "execution_count": 18,
   "metadata": {
    "scrolled": true
   },
   "outputs": [
    {
     "name": "stdout",
     "output_type": "stream",
     "text": [
      "1_2022_1\n",
      "156.19000000000003\n",
      "1_2022_2\n",
      "144.26000000000002\n",
      "1_2022_3\n",
      "153.15000000000003\n",
      "1_2022_4\n",
      "174.11000000000004\n",
      "2_2022_1\n",
      "265.28000000000003\n",
      "2_2022_2\n",
      "256.13\n",
      "2_2022_3\n",
      "265.28\n",
      "2_2022_4\n",
      "250.97000000000003\n",
      "3_2022_1\n",
      "156.67000000000002\n",
      "3_2022_2\n",
      "178.84000000000003\n",
      "3_2022_3\n",
      "157.47\n",
      "3_2022_4\n",
      "169.10999999999999\n",
      "4_2022_1\n",
      "177.64000000000001\n",
      "4_2022_2\n",
      "191.04000000000002\n",
      "4_2022_3\n",
      "201.59\n",
      "4_2022_4\n",
      "195.71\n",
      "5_2022_1\n",
      "214.8\n",
      "5_2022_2\n",
      "230.61999999999995\n",
      "5_2022_3\n",
      "203.24\n",
      "5_2022_4\n",
      "191.28000000000003\n",
      "6_2022_1\n",
      "173.39\n",
      "6_2022_2\n",
      "168.25\n",
      "6_2022_3\n",
      "133.87\n",
      "6_2022_4\n",
      "166.42000000000002\n",
      "7_2022_1\n",
      "236.32000000000002\n",
      "7_2022_2\n",
      "251.10000000000002\n",
      "7_2022_3\n",
      "249.79\n",
      "7_2022_4\n",
      "218.20999999999998\n",
      "8_2022_1\n",
      "185.58\n",
      "8_2022_2\n",
      "177.15\n",
      "8_2022_3\n",
      "182.41\n",
      "8_2022_4\n",
      "176.84\n",
      "9_2022_1\n",
      "206.89000000000001\n",
      "9_2022_2\n",
      "200.72\n",
      "9_2022_3\n",
      "190.59\n",
      "9_2022_4\n",
      "182.04\n",
      "10_2022_1\n",
      "149.82\n",
      "10_2022_2\n",
      "166.4\n",
      "10_2022_3\n",
      "151.77999999999997\n",
      "10_2022_4\n",
      "145.51\n",
      "11_2022_1\n",
      "279.64\n",
      "11_2022_2\n",
      "273.71999999999997\n",
      "11_2022_3\n",
      "267.33\n",
      "11_2022_4\n",
      "282.88\n",
      "12_2022_1\n",
      "197.87\n",
      "12_2022_2\n",
      "189.13\n",
      "12_2022_3\n",
      "177.45\n",
      "12_2022_4\n",
      "184.37\n",
      "13_2022_1\n",
      "253.73999999999998\n",
      "13_2022_2\n",
      "227.26999999999998\n",
      "13_2022_3\n",
      "226.42\n",
      "13_2022_4\n",
      "228.89999999999995\n",
      "14_2022_1\n",
      "220.09\n",
      "14_2022_2\n",
      "184.17\n",
      "14_2022_3\n",
      "193.96\n",
      "14_2022_4\n",
      "198.42000000000002\n",
      "15_2022_1\n",
      "202.23\n",
      "15_2022_2\n",
      "187.05\n",
      "15_2022_3\n",
      "205.96\n",
      "15_2022_4\n",
      "201.83\n",
      "16_2022_1\n",
      "223.09000000000003\n",
      "16_2022_2\n",
      "235.90000000000006\n",
      "16_2022_3\n",
      "236.37000000000003\n",
      "16_2022_4\n",
      "221.81000000000003\n",
      "17_2022_1\n",
      "140.9\n",
      "17_2022_2\n",
      "91.48000000000002\n",
      "17_2022_3\n",
      "163.2\n",
      "17_2022_4\n",
      "152.34000000000003\n",
      "18_2022_1\n",
      "258.22\n",
      "18_2022_2\n",
      "255.87000000000003\n",
      "18_2022_3\n",
      "259.08000000000004\n",
      "18_2022_4\n",
      "245.74\n",
      "    Year  Round  Team_ID  Player_PAV_Total\n",
      "0   2022      1        1            156.19\n",
      "1   2022      2        1            144.26\n",
      "2   2022      3        1            153.15\n",
      "3   2022      4        1            174.11\n",
      "4   2022      1        2            265.28\n",
      "..   ...    ...      ...               ...\n",
      "67  2022      4       17            152.34\n",
      "68  2022      1       18            258.22\n",
      "69  2022      2       18            255.87\n",
      "70  2022      3       18            259.08\n",
      "71  2022      4       18            245.74\n",
      "\n",
      "[72 rows x 4 columns]\n",
      "      Year  Round  Team_ID  Player_PAV_Total\n",
      "0     2013      1        1            239.55\n",
      "1     2013      2        1            238.73\n",
      "2     2013      3        1            236.09\n",
      "3     2013      4        1            214.43\n",
      "4     2013      5        1            226.69\n",
      "...    ...    ...      ...               ...\n",
      "3701  2022      4       17            152.34\n",
      "3702  2022      1       18            258.22\n",
      "3703  2022      2       18            255.87\n",
      "3704  2022      3       18            259.08\n",
      "3705  2022      4       18            245.74\n",
      "\n",
      "[3706 rows x 4 columns]\n"
     ]
    }
   ],
   "source": [
    "pav_array = []\n",
    "for team_id in range(1,19):\n",
    "    for year in range(2022, 2023):\n",
    "        for rnd in range(1,5):\n",
    "            print(str(team_id) + '_' + str(year)+'_'+str(rnd))\n",
    "            pa = calc_sum_pav(year, rnd, team_id)\n",
    "            if(pa[3] == 999):\n",
    "                continue\n",
    "            pav_array.append(pa)\n",
    "pav_df = pd.DataFrame(pav_array, columns=['Year', 'Round', 'Team_ID', 'Player_PAV_Total'])\n",
    "all_pav_df = pd.read_csv('R_Code/all_team_pavs.csv')\n",
    "all_pav_df = pd.concat([all_pav_df, pav_df], ignore_index=True)\n",
    "print(pav_df)\n",
    "print(all_pav_df)\n",
    "all_pav_df.to_csv(\"R_Code/all_team_pavs.csv\", header=True, index=False)"
   ]
  },
  {
   "cell_type": "markdown",
   "metadata": {},
   "source": [
    "# Trend Based Dataset Testing"
   ]
  },
  {
   "cell_type": "code",
   "execution_count": 98,
   "metadata": {},
   "outputs": [],
   "source": [
    "#get assemble_df code from the clean_dataset csv\n",
    "#do the usual stuff appended at the front eg. venue, ladder, round, H_team_id, A_team_id\n",
    "#pick averageable statistics and get n_game average for home and away\n",
    "#function to workout from clean_dataset home_team wins against away team in last 5\n",
    "    #5-home_team_wins to get away team wins against oppo\n",
    "    #append to new X_data\n",
    "#save to new assemble_df.csv\n",
    "\n",
    "match_id = 10576\n",
    "team_id = 9\n",
    "oppo_id = 6\n",
    "g = gad()\n",
    "teams = g.createTeamDict()\n",
    "n_games = 3\n"
   ]
  },
  {
   "cell_type": "code",
   "execution_count": 135,
   "metadata": {},
   "outputs": [],
   "source": [
    "def find_form(ct, ot, match_id):\n",
    "    g = gad()\n",
    "    teams = g.createTeamDict()\n",
    "    current_team = (teams[str(ct)])\n",
    "    team_string = current_team+\"_clean_stats.csv\"\n",
    "    df = pd.read_csv(\"Data/\"+team_string)\n",
    "    idx = df.index[df['Match_ID'] == match_id]\n",
    "    my_idx = idx[0]\n",
    "    df = df.loc[0:my_idx-1,:]\n",
    "    prev_games = df.loc[(df['Team_against_ID']==ot)]\n",
    "    #return last 5 games against each other and 8th column is whether the ct won against ot\n",
    "    l = 5\n",
    "    if(prev_games.shape[0] < 5):\n",
    "        l = prev_games.shape[0]\n",
    "    if(l==0):\n",
    "        wins = 0\n",
    "    else:\n",
    "        prev_games = prev_games.iloc[-l: , 8]\n",
    "        wins = prev_games.sum()\n",
    "    return wins"
   ]
  },
  {
   "cell_type": "code",
   "execution_count": 130,
   "metadata": {},
   "outputs": [],
   "source": [
    "def create_prev_games(match_id, team_id, teams, n_games, oppo_id):\n",
    "    margin = None\n",
    "    ma = None\n",
    "    y_label = None\n",
    "    trend_cg = []\n",
    "    current_team = (teams[str(team_id)])\n",
    "    print(current_team)\n",
    "    print(match_id)\n",
    "    team_string = current_team+\"_clean_stats.csv\"\n",
    "    df = pd.read_csv(\"Data/\"+team_string)\n",
    "    #drops ladder stats\n",
    "    #finds where in the dataframe the current match is\n",
    "    idx = df.index[df['Match_ID'] == match_id]\n",
    "    #print(idx)\n",
    "    my_idx = idx[0]\n",
    "    #splits dataframe into game data and end of round ladder data\n",
    "    l_df = df.iloc[:,-5:]\n",
    "    t_df = df.iloc[: , :-5]\n",
    "    current_year = t_df.loc[my_idx][1]\n",
    "    if(current_year == 2020.0):\n",
    "        print('game in 2020')\n",
    "        margin = 8888\n",
    "    else:\n",
    "        #turns the WWWLL form column into # of W\n",
    "        n_form = []\n",
    "        for x in l_df['form']:\n",
    "            if(len(x)<n_games):\n",
    "                y=float(x.count(\"W\"))\n",
    "                n_form.append(y)\n",
    "            else:\n",
    "                x=x[-n_games:]\n",
    "                y=float(x.count(\"W\"))\n",
    "                n_form.append(y)\n",
    "        l_df['form'] = n_form\n",
    "        #checks to make sure there is enough games to go through\n",
    "        if(my_idx < (n_games)):\n",
    "            print('Num of Prev Games Exceeds previous games')\n",
    "            margin = 9999\n",
    "        else:\n",
    "            #start match array with the ladder values from end of previous round (as this would be current for predicting round)\n",
    "            ma = l_df.loc[my_idx-1].values\n",
    "            #finds both labels for models\n",
    "            y_label = t_df.loc[my_idx][\"H/A Win?\"]\n",
    "            margin = t_df.loc[my_idx][\"Margin\"]\n",
    "            #start from the previous game to current game\n",
    "            #i is to know how many games included\n",
    "            i = 1\n",
    "            #j finds the previous game and allows for 2020 exclusion\n",
    "            j = 1\n",
    "            while i <= n_games:\n",
    "                year = t_df.loc[my_idx-j][1]\n",
    "                if(year == 2020.0):\n",
    "                    j = j + 1\n",
    "                    continue\n",
    "                cg = t_df.loc[my_idx-j][2:].values\n",
    "                trend_cg.append(cg)\n",
    "                i = i + 1\n",
    "                j = j + 1\n",
    "            my_df = pd.DataFrame(trend_cg, columns = t_df.columns[2:])\n",
    "            my_df = my_df.iloc[:,3:-1]\n",
    "            cg = my_df.mean(axis=0)\n",
    "            ma = [*ma, *cg]\n",
    "            h_form = find_form(team_id, oppo_id, match_id)\n",
    "            o_form = find_form(oppo_id, team_id, match_id)\n",
    "            form_diff = h_form-o_form\n",
    "            ma.append(form_diff)\n",
    "    return ma, y_label, margin"
   ]
  },
  {
   "cell_type": "code",
   "execution_count": 136,
   "metadata": {
    "scrolled": false
   },
   "outputs": [
    {
     "name": "stdout",
     "output_type": "stream",
     "text": [
      "GWS\n",
      "5720\n",
      "18\n",
      "0\n",
      "0\n",
      "0\n"
     ]
    }
   ],
   "source": [
    "home_array, y_label, margin = create_prev_games(5720, team_id, teams, 3, oppo_id)"
   ]
  },
  {
   "cell_type": "code",
   "execution_count": 110,
   "metadata": {},
   "outputs": [
    {
     "data": {
      "text/plain": [
       "95"
      ]
     },
     "execution_count": 110,
     "metadata": {},
     "output_type": "execute_result"
    }
   ],
   "source": [
    "len(home_array)"
   ]
  },
  {
   "cell_type": "code",
   "execution_count": 107,
   "metadata": {},
   "outputs": [
    {
     "data": {
      "text/plain": [
       "194"
      ]
     },
     "execution_count": 107,
     "metadata": {},
     "output_type": "execute_result"
    }
   ],
   "source": [
    "headers = ['Round', 'Home_Team', 'Away_Team', 'Venue']\n",
    "example_file = pd.read_csv('Data/Fremantle_clean_stats.csv')\n",
    "cl_h = example_file.columns\n",
    "cl_h = cl_h[5:-6]\n",
    "ladder_header = ['Ladder Pos_H', 'Form_H', 'Season Wins_H', 'Season Loss_H', 'Season Draw_H']\n",
    "headers = [*headers, *ladder_header]\n",
    "for x in cl_h:\n",
    "    if 'Match_ID' in x or 'Year' in x:\n",
    "        continue\n",
    "    x = 'H_'+ x + ' avg'\n",
    "    headers.append(x)\n",
    "headers.append(\"H_Recent_Matchup_Diff\")\n",
    "ladder_header = ['Ladder Pos_A', 'Form_A', 'Season Wins_A', 'Season Loss_A', 'Season Draw_A']\n",
    "headers = [*headers, *ladder_header]\n",
    "for x in cl_h:\n",
    "    if 'Match_ID' in x or 'Year' in x:\n",
    "        continue\n",
    "    x = 'A_'+ x + ' avg'\n",
    "    headers.append(x)\n",
    "headers.append(\"A_Recent_Matchup_Diff\")\n",
    "len(headers)"
   ]
  },
  {
   "cell_type": "markdown",
   "metadata": {},
   "source": [
    "# Team Specific Models\n",
    "## Averaged about 60%"
   ]
  },
  {
   "cell_type": "code",
   "execution_count": 121,
   "metadata": {},
   "outputs": [],
   "source": [
    "def get_team_specific_dataset(n_games, tn):\n",
    "    h = get_headers(n_games)\n",
    "    h = clean_headers(h)\n",
    "    cv = generate_categorical_headers(h)\n",
    "\n",
    "    #to get names of teams from index\n",
    "    g = gad()\n",
    "    teams = g.createTeamDict()\n",
    "    #load in x_data and y_label for n = 1 (quicker)\n",
    "    x_data = pd.read_csv('Data/assembled_stat_matrix_no2020'+str(n_games)+'_games.csv')\n",
    "    y_label = pd.read_csv('Data/assembled_labelled_ymatrix_no2020'+str(n_games)+'_games.csv')\n",
    "\n",
    "    #finds team index\n",
    "    team_idx = x_data.index[(x_data['Home_Team']==tn) | (x_data['Away_Team']==tn)]\n",
    "    team_x_data = x_data.iloc[team_idx]\n",
    "    team_y_data = y_label.iloc[team_idx]\n",
    "    team_x_data.reset_index(drop=True, inplace=True)\n",
    "    team_y_data.reset_index(drop=True, inplace=True)\n",
    "\n",
    "    #quick shape check\n",
    "    print(team_x_data.shape)\n",
    "    print(team_y_data.shape)\n",
    "    l = team_x_data.shape[0]\n",
    "\n",
    "    #loop for new y_array\n",
    "    i = 0\n",
    "    new_team_y = []\n",
    "    while i < l:\n",
    "        x = team_x_data.iloc[i]\n",
    "        y = team_y_data.iloc[i]\n",
    "        #if our team for current model is the home team\n",
    "        if(x[\"Home_Team\"] == tn):\n",
    "            #and the home team has won\n",
    "            if(y[\"H/A Win?\"] == 0):\n",
    "                #set win val to 1\n",
    "                w_val = 1\n",
    "            #else they're the home team but the away team won\n",
    "            else:\n",
    "                #set win val to 0\n",
    "                w_val = 0\n",
    "        #else they're the away team\n",
    "        else:\n",
    "            #if the home team won, that means they lost\n",
    "            if(y[\"H/A Win?\"] == 0):\n",
    "                w_val = 0\n",
    "            #else they're the away team and they won\n",
    "            else:\n",
    "                w_val = 1\n",
    "        i = i + 1\n",
    "        new_team_y.append(w_val)\n",
    "    ny = pd.DataFrame(new_team_y, columns=['Team Won?'])\n",
    "    return team_x_data, ny"
   ]
  },
  {
   "cell_type": "code",
   "execution_count": 116,
   "metadata": {},
   "outputs": [
    {
     "name": "stdout",
     "output_type": "stream",
     "text": [
      "(176, 1874)\n",
      "(176, 1)\n"
     ]
    },
    {
     "data": {
      "text/html": [
       "<div>\n",
       "<style scoped>\n",
       "    .dataframe tbody tr th:only-of-type {\n",
       "        vertical-align: middle;\n",
       "    }\n",
       "\n",
       "    .dataframe tbody tr th {\n",
       "        vertical-align: top;\n",
       "    }\n",
       "\n",
       "    .dataframe thead th {\n",
       "        text-align: right;\n",
       "    }\n",
       "</style>\n",
       "<table border=\"1\" class=\"dataframe\">\n",
       "  <thead>\n",
       "    <tr style=\"text-align: right;\">\n",
       "      <th></th>\n",
       "      <th>Team Won?</th>\n",
       "    </tr>\n",
       "  </thead>\n",
       "  <tbody>\n",
       "    <tr>\n",
       "      <th>0</th>\n",
       "      <td>0</td>\n",
       "    </tr>\n",
       "    <tr>\n",
       "      <th>1</th>\n",
       "      <td>0</td>\n",
       "    </tr>\n",
       "    <tr>\n",
       "      <th>2</th>\n",
       "      <td>1</td>\n",
       "    </tr>\n",
       "    <tr>\n",
       "      <th>3</th>\n",
       "      <td>0</td>\n",
       "    </tr>\n",
       "    <tr>\n",
       "      <th>4</th>\n",
       "      <td>0</td>\n",
       "    </tr>\n",
       "    <tr>\n",
       "      <th>...</th>\n",
       "      <td>...</td>\n",
       "    </tr>\n",
       "    <tr>\n",
       "      <th>171</th>\n",
       "      <td>0</td>\n",
       "    </tr>\n",
       "    <tr>\n",
       "      <th>172</th>\n",
       "      <td>0</td>\n",
       "    </tr>\n",
       "    <tr>\n",
       "      <th>173</th>\n",
       "      <td>0</td>\n",
       "    </tr>\n",
       "    <tr>\n",
       "      <th>174</th>\n",
       "      <td>1</td>\n",
       "    </tr>\n",
       "    <tr>\n",
       "      <th>175</th>\n",
       "      <td>0</td>\n",
       "    </tr>\n",
       "  </tbody>\n",
       "</table>\n",
       "<p>176 rows × 1 columns</p>\n",
       "</div>"
      ],
      "text/plain": [
       "     Team Won?\n",
       "0            0\n",
       "1            0\n",
       "2            1\n",
       "3            0\n",
       "4            0\n",
       "..         ...\n",
       "171          0\n",
       "172          0\n",
       "173          0\n",
       "174          1\n",
       "175          0\n",
       "\n",
       "[176 rows x 1 columns]"
      ]
     },
     "execution_count": 116,
     "metadata": {},
     "output_type": "execute_result"
    }
   ],
   "source": [
    "x, y = get_team_specific_dataset(10, 1)"
   ]
  },
  {
   "cell_type": "code",
   "execution_count": 136,
   "metadata": {},
   "outputs": [],
   "source": [
    "def eval_team_xgb_games(x, y, m, n_games, tn):\n",
    "    results = []\n",
    "    error = []\n",
    "    count = 0\n",
    "    best_w = m\n",
    "    high_w = 0\n",
    "    cv = StratifiedKFold(n_splits=10, shuffle=True)\n",
    "    for train,test in cv.split(x,y):\n",
    "       # print(len(train))\n",
    "        count = count + 1\n",
    "        print(\"Split: \" + str(count))\n",
    "        #comment out fit steps for random forest i guess lol\n",
    "        prediction = m.fit(x.loc[train],y.loc[train]).predict_proba(x.loc[test])\n",
    "        y_pred = m.predict(x.loc[test])\n",
    "        predictions = [round(value) for value in y_pred]\n",
    "        #sees how accurate the model was when testing the test set\n",
    "        accuracy = accuracy_score(y.loc[test], predictions)\n",
    "        pcent = accuracy * 100.0\n",
    "        results.append(pcent)\n",
    "        #change the best model to equal current model\n",
    "        if(pcent > high_w):\n",
    "            best_w = m\n",
    "            high_w = pcent\n",
    "    print(\"Training Testing Accuracy for n_games=\"+str(n_games)+\" team=\"+str(tn)+\" : %.2f%% (%.2f%%)\" % (np.mean(results), np.std(results)))\n",
    "    return best_w, np.mean(results)"
   ]
  },
  {
   "cell_type": "code",
   "execution_count": 132,
   "metadata": {},
   "outputs": [],
   "source": [
    "def run_team_models(n_games, tn):\n",
    "    #load headers and then subsequently categorical headers\n",
    "    h = get_headers(n_games)\n",
    "    h = clean_headers(h)\n",
    "    cv = generate_categorical_headers(h)\n",
    "\n",
    "    #to get names of teams from index\n",
    "    g = gad()\n",
    "    teams = g.createTeamDict()\n",
    "\n",
    "    #load Data\n",
    "    x_data, y_label = get_team_specific_dataset(n_games, tn)\n",
    "\n",
    "    #make empty OHE object\n",
    "    na_enc = OneHotEncoder(handle_unknown='ignore', sparse=False)\n",
    "\n",
    "    #one hot encode data with new one hot encoder, saves ohe for later use\n",
    "    x_data, ohe = ohe_data(x_data, na_enc, 0, cv)\n",
    "    filename = 'Models/Team_OHE/ohe_'+str(n_games)+\"_team_specific_\"+str(tn)+'_no_2020_games.dat'\n",
    "    pickle.dump(ohe, open(filename, \"wb\"))\n",
    "    #reset headers\n",
    "    feature_names = x_data.columns\n",
    "\n",
    "    #regex solution which is apparently necessary??\n",
    "    regex = re.compile(r\"\\[|\\]|<\", re.IGNORECASE)\n",
    "    x_data.columns = [regex.sub(\"_\", col) if any(x in str(col) for x in set(('[', ']', '<'))) else col for col in x_data.columns.values]\n",
    "\n",
    "    #optimise XGBoost model\n",
    "    #print(x_data)\n",
    "    #for predicting win\n",
    "    model = param_search(x_data, y_label, 0)\n",
    "    best_xgb_clas, model_av = eval_team_xgb_games(x_data, y_label, model, n_games, tn)\n",
    "\n",
    "    #save\n",
    "    pickle.dump(best_xgb_clas, open(\"Models/Team_Models/best_xgb_clas_no2020_\"+str(n_games)+\"_team_specific_\"+str(tn)+'_.dat', \"wb\"))\n",
    "    return model_av"
   ]
  },
  {
   "cell_type": "code",
   "execution_count": 138,
   "metadata": {
    "scrolled": true
   },
   "outputs": [
    {
     "name": "stdout",
     "output_type": "stream",
     "text": [
      "(185, 200)\n",
      "(185, 1)\n",
      "X_train shape: (166, 392)\n",
      "X_test shape: (19, 392)\n",
      "Fitting 10 folds for each of 12 candidates, totalling 120 fits\n"
     ]
    },
    {
     "name": "stderr",
     "output_type": "stream",
     "text": [
      "[Parallel(n_jobs=1)]: Using backend SequentialBackend with 1 concurrent workers.\n",
      "[Parallel(n_jobs=1)]: Done 120 out of 120 | elapsed:    8.2s finished\n"
     ]
    },
    {
     "name": "stdout",
     "output_type": "stream",
     "text": [
      "best score: 0.5602409638554217\n",
      "Fitting 10 folds for each of 12 candidates, totalling 120 fits\n"
     ]
    },
    {
     "name": "stderr",
     "output_type": "stream",
     "text": [
      "[Parallel(n_jobs=1)]: Using backend SequentialBackend with 1 concurrent workers.\n",
      "[Parallel(n_jobs=1)]: Done 120 out of 120 | elapsed:    6.7s finished\n"
     ]
    },
    {
     "name": "stdout",
     "output_type": "stream",
     "text": [
      "best score: 0.5602409638554217\n",
      "Fitting 10 folds for each of 12 candidates, totalling 120 fits\n"
     ]
    },
    {
     "name": "stderr",
     "output_type": "stream",
     "text": [
      "[Parallel(n_jobs=1)]: Using backend SequentialBackend with 1 concurrent workers.\n",
      "[Parallel(n_jobs=1)]: Done 120 out of 120 | elapsed:    7.5s finished\n"
     ]
    },
    {
     "name": "stdout",
     "output_type": "stream",
     "text": [
      "best score: 0.5602409638554217\n",
      "Fitting 10 folds for each of 12 candidates, totalling 120 fits\n"
     ]
    },
    {
     "name": "stderr",
     "output_type": "stream",
     "text": [
      "[Parallel(n_jobs=1)]: Using backend SequentialBackend with 1 concurrent workers.\n",
      "[Parallel(n_jobs=1)]: Done 120 out of 120 | elapsed:    9.7s finished\n"
     ]
    },
    {
     "name": "stdout",
     "output_type": "stream",
     "text": [
      "best score: 0.6024096385542169\n",
      "Fitting 10 folds for each of 12 candidates, totalling 120 fits\n"
     ]
    },
    {
     "name": "stderr",
     "output_type": "stream",
     "text": [
      "[Parallel(n_jobs=1)]: Using backend SequentialBackend with 1 concurrent workers.\n",
      "[Parallel(n_jobs=1)]: Done 120 out of 120 | elapsed:    6.8s finished\n"
     ]
    },
    {
     "name": "stdout",
     "output_type": "stream",
     "text": [
      "best score: 0.6024096385542169\n",
      "Split: 1\n",
      "Split: 2\n",
      "Split: 3\n",
      "Split: 4\n",
      "Split: 5\n",
      "Split: 6\n",
      "Split: 7\n",
      "Split: 8\n",
      "Split: 9\n",
      "Split: 10\n",
      "Training Testing Accuracy for n_games=1 team=1 : 62.54% (10.39%)\n",
      "(183, 200)\n",
      "(183, 1)\n",
      "X_train shape: (164, 386)\n",
      "X_test shape: (19, 386)\n",
      "Fitting 10 folds for each of 12 candidates, totalling 120 fits\n"
     ]
    },
    {
     "name": "stderr",
     "output_type": "stream",
     "text": [
      "[Parallel(n_jobs=1)]: Using backend SequentialBackend with 1 concurrent workers.\n",
      "[Parallel(n_jobs=1)]: Done 120 out of 120 | elapsed:    7.9s finished\n"
     ]
    },
    {
     "name": "stdout",
     "output_type": "stream",
     "text": [
      "best score: 0.6219512195121951\n",
      "Fitting 10 folds for each of 12 candidates, totalling 120 fits\n"
     ]
    },
    {
     "name": "stderr",
     "output_type": "stream",
     "text": [
      "[Parallel(n_jobs=1)]: Using backend SequentialBackend with 1 concurrent workers.\n",
      "[Parallel(n_jobs=1)]: Done 120 out of 120 | elapsed:    6.7s finished\n"
     ]
    },
    {
     "name": "stdout",
     "output_type": "stream",
     "text": [
      "best score: 0.6463414634146342\n",
      "Fitting 10 folds for each of 12 candidates, totalling 120 fits\n"
     ]
    },
    {
     "name": "stderr",
     "output_type": "stream",
     "text": [
      "[Parallel(n_jobs=1)]: Using backend SequentialBackend with 1 concurrent workers.\n",
      "[Parallel(n_jobs=1)]: Done 120 out of 120 | elapsed:    7.6s finished\n"
     ]
    },
    {
     "name": "stdout",
     "output_type": "stream",
     "text": [
      "best score: 0.6463414634146342\n",
      "Fitting 10 folds for each of 12 candidates, totalling 120 fits\n"
     ]
    },
    {
     "name": "stderr",
     "output_type": "stream",
     "text": [
      "[Parallel(n_jobs=1)]: Using backend SequentialBackend with 1 concurrent workers.\n",
      "[Parallel(n_jobs=1)]: Done 120 out of 120 | elapsed:    9.1s finished\n"
     ]
    },
    {
     "name": "stdout",
     "output_type": "stream",
     "text": [
      "best score: 0.6463414634146342\n",
      "Fitting 10 folds for each of 12 candidates, totalling 120 fits\n"
     ]
    },
    {
     "name": "stderr",
     "output_type": "stream",
     "text": [
      "[Parallel(n_jobs=1)]: Using backend SequentialBackend with 1 concurrent workers.\n",
      "[Parallel(n_jobs=1)]: Done 120 out of 120 | elapsed:    6.6s finished\n"
     ]
    },
    {
     "name": "stdout",
     "output_type": "stream",
     "text": [
      "best score: 0.6463414634146342\n",
      "Split: 1\n",
      "Split: 2\n",
      "Split: 3\n",
      "Split: 4\n",
      "Split: 5\n",
      "Split: 6\n",
      "Split: 7\n",
      "Split: 8\n",
      "Split: 9\n",
      "Split: 10\n",
      "Training Testing Accuracy for n_games=1 team=2 : 57.34% (7.86%)\n",
      "(181, 200)\n",
      "(181, 1)\n",
      "X_train shape: (162, 382)\n",
      "X_test shape: (19, 382)\n",
      "Fitting 10 folds for each of 12 candidates, totalling 120 fits\n"
     ]
    },
    {
     "name": "stderr",
     "output_type": "stream",
     "text": [
      "[Parallel(n_jobs=1)]: Using backend SequentialBackend with 1 concurrent workers.\n",
      "[Parallel(n_jobs=1)]: Done 120 out of 120 | elapsed:    7.7s finished\n"
     ]
    },
    {
     "name": "stdout",
     "output_type": "stream",
     "text": [
      "best score: 0.691358024691358\n",
      "Fitting 10 folds for each of 12 candidates, totalling 120 fits\n"
     ]
    },
    {
     "name": "stderr",
     "output_type": "stream",
     "text": [
      "[Parallel(n_jobs=1)]: Using backend SequentialBackend with 1 concurrent workers.\n",
      "[Parallel(n_jobs=1)]: Done 120 out of 120 | elapsed:    6.4s finished\n"
     ]
    },
    {
     "name": "stdout",
     "output_type": "stream",
     "text": [
      "best score: 0.691358024691358\n",
      "Fitting 10 folds for each of 12 candidates, totalling 120 fits\n"
     ]
    },
    {
     "name": "stderr",
     "output_type": "stream",
     "text": [
      "[Parallel(n_jobs=1)]: Using backend SequentialBackend with 1 concurrent workers.\n",
      "[Parallel(n_jobs=1)]: Done 120 out of 120 | elapsed:    5.0s finished\n"
     ]
    },
    {
     "name": "stdout",
     "output_type": "stream",
     "text": [
      "best score: 0.691358024691358\n",
      "Fitting 10 folds for each of 12 candidates, totalling 120 fits\n"
     ]
    },
    {
     "name": "stderr",
     "output_type": "stream",
     "text": [
      "[Parallel(n_jobs=1)]: Using backend SequentialBackend with 1 concurrent workers.\n",
      "[Parallel(n_jobs=1)]: Done 120 out of 120 | elapsed:    5.1s finished\n"
     ]
    },
    {
     "name": "stdout",
     "output_type": "stream",
     "text": [
      "best score: 0.691358024691358\n",
      "Fitting 10 folds for each of 12 candidates, totalling 120 fits\n"
     ]
    },
    {
     "name": "stderr",
     "output_type": "stream",
     "text": [
      "[Parallel(n_jobs=1)]: Using backend SequentialBackend with 1 concurrent workers.\n",
      "[Parallel(n_jobs=1)]: Done 120 out of 120 | elapsed:    5.2s finished\n"
     ]
    },
    {
     "name": "stdout",
     "output_type": "stream",
     "text": [
      "best score: 0.691358024691358\n",
      "Split: 1\n",
      "Split: 2\n",
      "Split: 3\n",
      "Split: 4\n",
      "Split: 5\n",
      "Split: 6\n",
      "Split: 7\n",
      "Split: 8\n",
      "Split: 9\n",
      "Split: 10\n",
      "Training Testing Accuracy for n_games=1 team=3 : 68.51% (2.48%)\n",
      "(186, 200)\n",
      "(186, 1)\n",
      "X_train shape: (167, 388)\n",
      "X_test shape: (19, 388)\n",
      "Fitting 10 folds for each of 12 candidates, totalling 120 fits\n"
     ]
    },
    {
     "name": "stderr",
     "output_type": "stream",
     "text": [
      "[Parallel(n_jobs=1)]: Using backend SequentialBackend with 1 concurrent workers.\n",
      "[Parallel(n_jobs=1)]: Done 120 out of 120 | elapsed:    7.9s finished\n"
     ]
    },
    {
     "name": "stdout",
     "output_type": "stream",
     "text": [
      "best score: 0.5808383233532934\n",
      "Fitting 10 folds for each of 12 candidates, totalling 120 fits\n"
     ]
    },
    {
     "name": "stderr",
     "output_type": "stream",
     "text": [
      "[Parallel(n_jobs=1)]: Using backend SequentialBackend with 1 concurrent workers.\n",
      "[Parallel(n_jobs=1)]: Done 120 out of 120 | elapsed:    9.3s finished\n"
     ]
    },
    {
     "name": "stdout",
     "output_type": "stream",
     "text": [
      "best score: 0.5988023952095808\n",
      "Fitting 10 folds for each of 12 candidates, totalling 120 fits\n"
     ]
    },
    {
     "name": "stderr",
     "output_type": "stream",
     "text": [
      "[Parallel(n_jobs=1)]: Using backend SequentialBackend with 1 concurrent workers.\n",
      "[Parallel(n_jobs=1)]: Done 120 out of 120 | elapsed:    7.9s finished\n"
     ]
    },
    {
     "name": "stdout",
     "output_type": "stream",
     "text": [
      "best score: 0.5988023952095808\n",
      "Fitting 10 folds for each of 12 candidates, totalling 120 fits\n"
     ]
    },
    {
     "name": "stderr",
     "output_type": "stream",
     "text": [
      "[Parallel(n_jobs=1)]: Using backend SequentialBackend with 1 concurrent workers.\n",
      "[Parallel(n_jobs=1)]: Done 120 out of 120 | elapsed:   15.9s finished\n"
     ]
    },
    {
     "name": "stdout",
     "output_type": "stream",
     "text": [
      "best score: 0.6167664670658682\n",
      "Fitting 10 folds for each of 12 candidates, totalling 120 fits\n"
     ]
    },
    {
     "name": "stderr",
     "output_type": "stream",
     "text": [
      "[Parallel(n_jobs=1)]: Using backend SequentialBackend with 1 concurrent workers.\n",
      "[Parallel(n_jobs=1)]: Done 120 out of 120 | elapsed:    9.7s finished\n"
     ]
    },
    {
     "name": "stdout",
     "output_type": "stream",
     "text": [
      "best score: 0.6167664670658682\n",
      "Split: 1\n",
      "Split: 2\n",
      "Split: 3\n",
      "Split: 4\n",
      "Split: 5\n",
      "Split: 6\n",
      "Split: 7\n",
      "Split: 8\n",
      "Split: 9\n",
      "Split: 10\n",
      "Training Testing Accuracy for n_games=1 team=4 : 50.58% (7.07%)\n",
      "(183, 200)\n",
      "(183, 1)\n",
      "X_train shape: (164, 383)\n",
      "X_test shape: (19, 383)\n",
      "Fitting 10 folds for each of 12 candidates, totalling 120 fits\n"
     ]
    },
    {
     "name": "stderr",
     "output_type": "stream",
     "text": [
      "[Parallel(n_jobs=1)]: Using backend SequentialBackend with 1 concurrent workers.\n",
      "[Parallel(n_jobs=1)]: Done 120 out of 120 | elapsed:    7.9s finished\n"
     ]
    },
    {
     "name": "stdout",
     "output_type": "stream",
     "text": [
      "best score: 0.5609756097560976\n",
      "Fitting 10 folds for each of 12 candidates, totalling 120 fits\n"
     ]
    },
    {
     "name": "stderr",
     "output_type": "stream",
     "text": [
      "[Parallel(n_jobs=1)]: Using backend SequentialBackend with 1 concurrent workers.\n",
      "[Parallel(n_jobs=1)]: Done 120 out of 120 | elapsed:    6.5s finished\n"
     ]
    },
    {
     "name": "stdout",
     "output_type": "stream",
     "text": [
      "best score: 0.5609756097560976\n",
      "Fitting 10 folds for each of 12 candidates, totalling 120 fits\n"
     ]
    },
    {
     "name": "stderr",
     "output_type": "stream",
     "text": [
      "[Parallel(n_jobs=1)]: Using backend SequentialBackend with 1 concurrent workers.\n",
      "[Parallel(n_jobs=1)]: Done 120 out of 120 | elapsed:   11.9s finished\n"
     ]
    },
    {
     "name": "stdout",
     "output_type": "stream",
     "text": [
      "best score: 0.5609756097560976\n",
      "Fitting 10 folds for each of 12 candidates, totalling 120 fits\n"
     ]
    },
    {
     "name": "stderr",
     "output_type": "stream",
     "text": [
      "[Parallel(n_jobs=1)]: Using backend SequentialBackend with 1 concurrent workers.\n",
      "[Parallel(n_jobs=1)]: Done 120 out of 120 | elapsed:    6.0s finished\n"
     ]
    },
    {
     "name": "stdout",
     "output_type": "stream",
     "text": [
      "best score: 0.5609756097560976\n",
      "Fitting 10 folds for each of 12 candidates, totalling 120 fits\n"
     ]
    },
    {
     "name": "stderr",
     "output_type": "stream",
     "text": [
      "[Parallel(n_jobs=1)]: Using backend SequentialBackend with 1 concurrent workers.\n",
      "[Parallel(n_jobs=1)]: Done 120 out of 120 | elapsed:    6.0s finished\n"
     ]
    },
    {
     "name": "stdout",
     "output_type": "stream",
     "text": [
      "best score: 0.5609756097560976\n",
      "Split: 1\n",
      "Split: 2\n",
      "Split: 3\n",
      "Split: 4\n",
      "Split: 5\n",
      "Split: 6\n",
      "Split: 7\n",
      "Split: 8\n",
      "Split: 9\n",
      "Split: 10\n",
      "Training Testing Accuracy for n_games=1 team=5 : 55.20% (1.46%)\n",
      "(186, 200)\n",
      "(186, 1)\n",
      "X_train shape: (167, 389)\n",
      "X_test shape: (19, 389)\n",
      "Fitting 10 folds for each of 12 candidates, totalling 120 fits\n"
     ]
    },
    {
     "name": "stderr",
     "output_type": "stream",
     "text": [
      "[Parallel(n_jobs=1)]: Using backend SequentialBackend with 1 concurrent workers.\n",
      "[Parallel(n_jobs=1)]: Done 120 out of 120 | elapsed:    8.1s finished\n"
     ]
    },
    {
     "name": "stdout",
     "output_type": "stream",
     "text": [
      "best score: 0.6407185628742516\n",
      "Fitting 10 folds for each of 12 candidates, totalling 120 fits\n"
     ]
    },
    {
     "name": "stderr",
     "output_type": "stream",
     "text": [
      "[Parallel(n_jobs=1)]: Using backend SequentialBackend with 1 concurrent workers.\n",
      "[Parallel(n_jobs=1)]: Done 120 out of 120 | elapsed:    6.2s finished\n"
     ]
    },
    {
     "name": "stdout",
     "output_type": "stream",
     "text": [
      "best score: 0.6407185628742516\n",
      "Fitting 10 folds for each of 12 candidates, totalling 120 fits\n"
     ]
    },
    {
     "name": "stderr",
     "output_type": "stream",
     "text": [
      "[Parallel(n_jobs=1)]: Using backend SequentialBackend with 1 concurrent workers.\n",
      "[Parallel(n_jobs=1)]: Done 120 out of 120 | elapsed:   10.5s finished\n"
     ]
    },
    {
     "name": "stdout",
     "output_type": "stream",
     "text": [
      "best score: 0.6407185628742516\n",
      "Fitting 10 folds for each of 12 candidates, totalling 120 fits\n"
     ]
    },
    {
     "name": "stderr",
     "output_type": "stream",
     "text": [
      "[Parallel(n_jobs=1)]: Using backend SequentialBackend with 1 concurrent workers.\n",
      "[Parallel(n_jobs=1)]: Done 120 out of 120 | elapsed:   10.3s finished\n"
     ]
    },
    {
     "name": "stdout",
     "output_type": "stream",
     "text": [
      "best score: 0.6407185628742516\n",
      "Fitting 10 folds for each of 12 candidates, totalling 120 fits\n"
     ]
    },
    {
     "name": "stderr",
     "output_type": "stream",
     "text": [
      "[Parallel(n_jobs=1)]: Using backend SequentialBackend with 1 concurrent workers.\n",
      "[Parallel(n_jobs=1)]: Done 120 out of 120 | elapsed:   18.7s finished\n"
     ]
    },
    {
     "name": "stdout",
     "output_type": "stream",
     "text": [
      "best score: 0.6946107784431138\n",
      "Split: 1\n",
      "Split: 2\n",
      "Split: 3\n",
      "Split: 4\n",
      "Split: 5\n",
      "Split: 6\n",
      "Split: 7\n",
      "Split: 8\n",
      "Split: 9\n",
      "Split: 10\n",
      "Training Testing Accuracy for n_games=1 team=6 : 61.29% (10.05%)\n",
      "(195, 200)\n",
      "(195, 1)\n",
      "X_train shape: (175, 387)\n",
      "X_test shape: (20, 387)\n",
      "Fitting 10 folds for each of 12 candidates, totalling 120 fits\n"
     ]
    },
    {
     "name": "stderr",
     "output_type": "stream",
     "text": [
      "[Parallel(n_jobs=1)]: Using backend SequentialBackend with 1 concurrent workers.\n",
      "[Parallel(n_jobs=1)]: Done 120 out of 120 | elapsed:    7.8s finished\n"
     ]
    },
    {
     "name": "stdout",
     "output_type": "stream",
     "text": [
      "best score: 0.68\n",
      "Fitting 10 folds for each of 12 candidates, totalling 120 fits\n"
     ]
    },
    {
     "name": "stderr",
     "output_type": "stream",
     "text": [
      "[Parallel(n_jobs=1)]: Using backend SequentialBackend with 1 concurrent workers.\n",
      "[Parallel(n_jobs=1)]: Done 120 out of 120 | elapsed:   10.2s finished\n"
     ]
    },
    {
     "name": "stdout",
     "output_type": "stream",
     "text": [
      "best score: 0.68\n",
      "Fitting 10 folds for each of 12 candidates, totalling 120 fits\n"
     ]
    },
    {
     "name": "stderr",
     "output_type": "stream",
     "text": [
      "[Parallel(n_jobs=1)]: Using backend SequentialBackend with 1 concurrent workers.\n",
      "[Parallel(n_jobs=1)]: Done 120 out of 120 | elapsed:    6.5s finished\n"
     ]
    },
    {
     "name": "stdout",
     "output_type": "stream",
     "text": [
      "best score: 0.6914285714285714\n",
      "Fitting 10 folds for each of 12 candidates, totalling 120 fits\n"
     ]
    },
    {
     "name": "stderr",
     "output_type": "stream",
     "text": [
      "[Parallel(n_jobs=1)]: Using backend SequentialBackend with 1 concurrent workers.\n",
      "[Parallel(n_jobs=1)]: Done 120 out of 120 | elapsed:   12.6s finished\n"
     ]
    },
    {
     "name": "stdout",
     "output_type": "stream",
     "text": [
      "best score: 0.7028571428571428\n",
      "Fitting 10 folds for each of 12 candidates, totalling 120 fits\n"
     ]
    },
    {
     "name": "stderr",
     "output_type": "stream",
     "text": [
      "[Parallel(n_jobs=1)]: Using backend SequentialBackend with 1 concurrent workers.\n",
      "[Parallel(n_jobs=1)]: Done 120 out of 120 | elapsed:    6.4s finished\n"
     ]
    },
    {
     "name": "stdout",
     "output_type": "stream",
     "text": [
      "best score: 0.7028571428571428\n",
      "Split: 1\n",
      "Split: 2\n",
      "Split: 3\n",
      "Split: 4\n",
      "Split: 5\n",
      "Split: 6\n",
      "Split: 7\n",
      "Split: 8\n",
      "Split: 9\n",
      "Split: 10\n",
      "Training Testing Accuracy for n_games=1 team=7 : 66.74% (5.32%)\n",
      "(179, 200)\n",
      "(179, 1)\n",
      "X_train shape: (161, 384)\n",
      "X_test shape: (18, 384)\n",
      "Fitting 10 folds for each of 12 candidates, totalling 120 fits\n"
     ]
    },
    {
     "name": "stderr",
     "output_type": "stream",
     "text": [
      "[Parallel(n_jobs=1)]: Using backend SequentialBackend with 1 concurrent workers.\n",
      "[Parallel(n_jobs=1)]: Done 120 out of 120 | elapsed:    7.6s finished\n"
     ]
    },
    {
     "name": "stdout",
     "output_type": "stream",
     "text": [
      "best score: 0.7453416149068323\n",
      "Fitting 10 folds for each of 12 candidates, totalling 120 fits\n"
     ]
    },
    {
     "name": "stderr",
     "output_type": "stream",
     "text": [
      "[Parallel(n_jobs=1)]: Using backend SequentialBackend with 1 concurrent workers.\n",
      "[Parallel(n_jobs=1)]: Done 120 out of 120 | elapsed:    7.9s finished\n"
     ]
    },
    {
     "name": "stdout",
     "output_type": "stream",
     "text": [
      "best score: 0.7453416149068323\n",
      "Fitting 10 folds for each of 12 candidates, totalling 120 fits\n"
     ]
    },
    {
     "name": "stderr",
     "output_type": "stream",
     "text": [
      "[Parallel(n_jobs=1)]: Using backend SequentialBackend with 1 concurrent workers.\n",
      "[Parallel(n_jobs=1)]: Done 120 out of 120 | elapsed:   11.9s finished\n"
     ]
    },
    {
     "name": "stdout",
     "output_type": "stream",
     "text": [
      "best score: 0.7453416149068323\n",
      "Fitting 10 folds for each of 12 candidates, totalling 120 fits\n"
     ]
    },
    {
     "name": "stderr",
     "output_type": "stream",
     "text": [
      "[Parallel(n_jobs=1)]: Using backend SequentialBackend with 1 concurrent workers.\n",
      "[Parallel(n_jobs=1)]: Done 120 out of 120 | elapsed:    7.9s finished\n"
     ]
    },
    {
     "name": "stdout",
     "output_type": "stream",
     "text": [
      "best score: 0.7453416149068323\n",
      "Fitting 10 folds for each of 12 candidates, totalling 120 fits\n"
     ]
    },
    {
     "name": "stderr",
     "output_type": "stream",
     "text": [
      "[Parallel(n_jobs=1)]: Using backend SequentialBackend with 1 concurrent workers.\n",
      "[Parallel(n_jobs=1)]: Done 120 out of 120 | elapsed:    6.0s finished\n"
     ]
    },
    {
     "name": "stdout",
     "output_type": "stream",
     "text": [
      "best score: 0.7453416149068323\n",
      "Split: 1\n",
      "Split: 2\n",
      "Split: 3\n",
      "Split: 4\n",
      "Split: 5\n",
      "Split: 6\n",
      "Split: 7\n",
      "Split: 8\n",
      "Split: 9\n",
      "Split: 10\n",
      "Training Testing Accuracy for n_games=1 team=8 : 72.06% (0.49%)\n",
      "(192, 200)\n",
      "(192, 1)\n",
      "X_train shape: (172, 396)\n",
      "X_test shape: (20, 396)\n",
      "Fitting 10 folds for each of 12 candidates, totalling 120 fits\n"
     ]
    },
    {
     "name": "stderr",
     "output_type": "stream",
     "text": [
      "[Parallel(n_jobs=1)]: Using backend SequentialBackend with 1 concurrent workers.\n",
      "[Parallel(n_jobs=1)]: Done 120 out of 120 | elapsed:    8.0s finished\n"
     ]
    },
    {
     "name": "stdout",
     "output_type": "stream",
     "text": [
      "best score: 0.5755813953488372\n",
      "Fitting 10 folds for each of 12 candidates, totalling 120 fits\n"
     ]
    },
    {
     "name": "stderr",
     "output_type": "stream",
     "text": [
      "[Parallel(n_jobs=1)]: Using backend SequentialBackend with 1 concurrent workers.\n",
      "[Parallel(n_jobs=1)]: Done 120 out of 120 | elapsed:   21.4s finished\n"
     ]
    },
    {
     "name": "stdout",
     "output_type": "stream",
     "text": [
      "best score: 0.6337209302325582\n",
      "Fitting 10 folds for each of 12 candidates, totalling 120 fits\n"
     ]
    },
    {
     "name": "stderr",
     "output_type": "stream",
     "text": [
      "[Parallel(n_jobs=1)]: Using backend SequentialBackend with 1 concurrent workers.\n",
      "[Parallel(n_jobs=1)]: Done 120 out of 120 | elapsed:    5.8s finished\n"
     ]
    },
    {
     "name": "stdout",
     "output_type": "stream",
     "text": [
      "best score: 0.6337209302325582\n",
      "Fitting 10 folds for each of 12 candidates, totalling 120 fits\n"
     ]
    },
    {
     "name": "stderr",
     "output_type": "stream",
     "text": [
      "[Parallel(n_jobs=1)]: Using backend SequentialBackend with 1 concurrent workers.\n",
      "[Parallel(n_jobs=1)]: Done 120 out of 120 | elapsed:   17.3s finished\n"
     ]
    },
    {
     "name": "stdout",
     "output_type": "stream",
     "text": [
      "best score: 0.6337209302325582\n",
      "Fitting 10 folds for each of 12 candidates, totalling 120 fits\n"
     ]
    },
    {
     "name": "stderr",
     "output_type": "stream",
     "text": [
      "[Parallel(n_jobs=1)]: Using backend SequentialBackend with 1 concurrent workers.\n",
      "[Parallel(n_jobs=1)]: Done 120 out of 120 | elapsed:   14.9s finished\n"
     ]
    },
    {
     "name": "stdout",
     "output_type": "stream",
     "text": [
      "best score: 0.6337209302325582\n",
      "Split: 1\n",
      "Split: 2\n",
      "Split: 3\n",
      "Split: 4\n",
      "Split: 5\n",
      "Split: 6\n",
      "Split: 7\n",
      "Split: 8\n",
      "Split: 9\n",
      "Split: 10\n",
      "Training Testing Accuracy for n_games=1 team=9 : 60.89% (6.90%)\n",
      "(193, 200)\n",
      "(193, 1)\n",
      "X_train shape: (173, 386)\n",
      "X_test shape: (20, 386)\n",
      "Fitting 10 folds for each of 12 candidates, totalling 120 fits\n"
     ]
    },
    {
     "name": "stderr",
     "output_type": "stream",
     "text": [
      "[Parallel(n_jobs=1)]: Using backend SequentialBackend with 1 concurrent workers.\n",
      "[Parallel(n_jobs=1)]: Done 120 out of 120 | elapsed:    7.8s finished\n"
     ]
    },
    {
     "name": "stdout",
     "output_type": "stream",
     "text": [
      "best score: 0.6358381502890174\n",
      "Fitting 10 folds for each of 12 candidates, totalling 120 fits\n"
     ]
    },
    {
     "name": "stderr",
     "output_type": "stream",
     "text": [
      "[Parallel(n_jobs=1)]: Using backend SequentialBackend with 1 concurrent workers.\n",
      "[Parallel(n_jobs=1)]: Done 120 out of 120 | elapsed:    5.2s finished\n"
     ]
    },
    {
     "name": "stdout",
     "output_type": "stream",
     "text": [
      "best score: 0.6358381502890174\n",
      "Fitting 10 folds for each of 12 candidates, totalling 120 fits\n"
     ]
    },
    {
     "name": "stderr",
     "output_type": "stream",
     "text": [
      "[Parallel(n_jobs=1)]: Using backend SequentialBackend with 1 concurrent workers.\n",
      "[Parallel(n_jobs=1)]: Done 120 out of 120 | elapsed:    7.4s finished\n"
     ]
    },
    {
     "name": "stdout",
     "output_type": "stream",
     "text": [
      "best score: 0.653179190751445\n",
      "Fitting 10 folds for each of 12 candidates, totalling 120 fits\n"
     ]
    },
    {
     "name": "stderr",
     "output_type": "stream",
     "text": [
      "[Parallel(n_jobs=1)]: Using backend SequentialBackend with 1 concurrent workers.\n",
      "[Parallel(n_jobs=1)]: Done 120 out of 120 | elapsed:    5.5s finished\n"
     ]
    },
    {
     "name": "stdout",
     "output_type": "stream",
     "text": [
      "best score: 0.653179190751445\n",
      "Fitting 10 folds for each of 12 candidates, totalling 120 fits\n"
     ]
    },
    {
     "name": "stderr",
     "output_type": "stream",
     "text": [
      "[Parallel(n_jobs=1)]: Using backend SequentialBackend with 1 concurrent workers.\n",
      "[Parallel(n_jobs=1)]: Done 120 out of 120 | elapsed:    7.4s finished\n"
     ]
    },
    {
     "name": "stdout",
     "output_type": "stream",
     "text": [
      "best score: 0.653179190751445\n",
      "Split: 1\n",
      "Split: 2\n",
      "Split: 3\n",
      "Split: 4\n",
      "Split: 5\n",
      "Split: 6\n",
      "Split: 7\n",
      "Split: 8\n",
      "Split: 9\n",
      "Split: 10\n",
      "Training Testing Accuracy for n_games=1 team=10 : 63.16% (5.25%)\n",
      "(185, 200)\n",
      "(185, 1)\n",
      "X_train shape: (166, 390)\n",
      "X_test shape: (19, 390)\n",
      "Fitting 10 folds for each of 12 candidates, totalling 120 fits\n"
     ]
    },
    {
     "name": "stderr",
     "output_type": "stream",
     "text": [
      "[Parallel(n_jobs=1)]: Using backend SequentialBackend with 1 concurrent workers.\n",
      "[Parallel(n_jobs=1)]: Done 120 out of 120 | elapsed:    8.3s finished\n"
     ]
    },
    {
     "name": "stdout",
     "output_type": "stream",
     "text": [
      "best score: 0.5783132530120482\n",
      "Fitting 10 folds for each of 12 candidates, totalling 120 fits\n"
     ]
    },
    {
     "name": "stderr",
     "output_type": "stream",
     "text": [
      "[Parallel(n_jobs=1)]: Using backend SequentialBackend with 1 concurrent workers.\n",
      "[Parallel(n_jobs=1)]: Done 120 out of 120 | elapsed:    9.7s finished\n"
     ]
    },
    {
     "name": "stdout",
     "output_type": "stream",
     "text": [
      "best score: 0.5783132530120482\n",
      "Fitting 10 folds for each of 12 candidates, totalling 120 fits\n"
     ]
    },
    {
     "name": "stderr",
     "output_type": "stream",
     "text": [
      "[Parallel(n_jobs=1)]: Using backend SequentialBackend with 1 concurrent workers.\n",
      "[Parallel(n_jobs=1)]: Done 120 out of 120 | elapsed:    5.9s finished\n"
     ]
    },
    {
     "name": "stdout",
     "output_type": "stream",
     "text": [
      "best score: 0.5783132530120482\n",
      "Fitting 10 folds for each of 12 candidates, totalling 120 fits\n"
     ]
    },
    {
     "name": "stderr",
     "output_type": "stream",
     "text": [
      "[Parallel(n_jobs=1)]: Using backend SequentialBackend with 1 concurrent workers.\n",
      "[Parallel(n_jobs=1)]: Done 120 out of 120 | elapsed:    6.6s finished\n"
     ]
    },
    {
     "name": "stdout",
     "output_type": "stream",
     "text": [
      "best score: 0.608433734939759\n",
      "Fitting 10 folds for each of 12 candidates, totalling 120 fits\n"
     ]
    },
    {
     "name": "stderr",
     "output_type": "stream",
     "text": [
      "[Parallel(n_jobs=1)]: Using backend SequentialBackend with 1 concurrent workers.\n",
      "[Parallel(n_jobs=1)]: Done 120 out of 120 | elapsed:    7.1s finished\n"
     ]
    },
    {
     "name": "stdout",
     "output_type": "stream",
     "text": [
      "best score: 0.608433734939759\n",
      "Split: 1\n",
      "Split: 2\n",
      "Split: 3\n",
      "Split: 4\n",
      "Split: 5\n",
      "Split: 6\n",
      "Split: 7\n",
      "Split: 8\n",
      "Split: 9\n",
      "Split: 10\n",
      "Training Testing Accuracy for n_games=1 team=11 : 61.11% (6.10%)\n",
      "(186, 200)\n",
      "(186, 1)\n",
      "X_train shape: (167, 386)\n",
      "X_test shape: (19, 386)\n",
      "Fitting 10 folds for each of 12 candidates, totalling 120 fits\n"
     ]
    },
    {
     "name": "stderr",
     "output_type": "stream",
     "text": [
      "[Parallel(n_jobs=1)]: Using backend SequentialBackend with 1 concurrent workers.\n",
      "[Parallel(n_jobs=1)]: Done 120 out of 120 | elapsed:    8.0s finished\n"
     ]
    },
    {
     "name": "stdout",
     "output_type": "stream",
     "text": [
      "best score: 0.5329341317365269\n",
      "Fitting 10 folds for each of 12 candidates, totalling 120 fits\n"
     ]
    },
    {
     "name": "stderr",
     "output_type": "stream",
     "text": [
      "[Parallel(n_jobs=1)]: Using backend SequentialBackend with 1 concurrent workers.\n",
      "[Parallel(n_jobs=1)]: Done 120 out of 120 | elapsed:   13.4s finished\n"
     ]
    },
    {
     "name": "stdout",
     "output_type": "stream",
     "text": [
      "best score: 0.5568862275449101\n",
      "Fitting 10 folds for each of 12 candidates, totalling 120 fits\n"
     ]
    },
    {
     "name": "stderr",
     "output_type": "stream",
     "text": [
      "[Parallel(n_jobs=1)]: Using backend SequentialBackend with 1 concurrent workers.\n",
      "[Parallel(n_jobs=1)]: Done 120 out of 120 | elapsed:   13.1s finished\n"
     ]
    },
    {
     "name": "stdout",
     "output_type": "stream",
     "text": [
      "best score: 0.5748502994011976\n",
      "Fitting 10 folds for each of 12 candidates, totalling 120 fits\n"
     ]
    },
    {
     "name": "stderr",
     "output_type": "stream",
     "text": [
      "[Parallel(n_jobs=1)]: Using backend SequentialBackend with 1 concurrent workers.\n",
      "[Parallel(n_jobs=1)]: Done 120 out of 120 | elapsed:    6.4s finished\n"
     ]
    },
    {
     "name": "stdout",
     "output_type": "stream",
     "text": [
      "best score: 0.5748502994011976\n",
      "Fitting 10 folds for each of 12 candidates, totalling 120 fits\n"
     ]
    },
    {
     "name": "stderr",
     "output_type": "stream",
     "text": [
      "[Parallel(n_jobs=1)]: Using backend SequentialBackend with 1 concurrent workers.\n",
      "[Parallel(n_jobs=1)]: Done 120 out of 120 | elapsed:    5.3s finished\n"
     ]
    },
    {
     "name": "stdout",
     "output_type": "stream",
     "text": [
      "best score: 0.5748502994011976\n",
      "Split: 1\n",
      "Split: 2\n",
      "Split: 3\n",
      "Split: 4\n",
      "Split: 5\n",
      "Split: 6\n",
      "Split: 7\n",
      "Split: 8\n",
      "Split: 9\n",
      "Split: 10\n",
      "Training Testing Accuracy for n_games=1 team=12 : 53.77% (7.47%)\n",
      "(187, 200)\n",
      "(187, 1)\n",
      "X_train shape: (168, 393)\n",
      "X_test shape: (19, 393)\n",
      "Fitting 10 folds for each of 12 candidates, totalling 120 fits\n"
     ]
    },
    {
     "name": "stderr",
     "output_type": "stream",
     "text": [
      "[Parallel(n_jobs=1)]: Using backend SequentialBackend with 1 concurrent workers.\n",
      "[Parallel(n_jobs=1)]: Done 120 out of 120 | elapsed:    7.9s finished\n"
     ]
    },
    {
     "name": "stdout",
     "output_type": "stream",
     "text": [
      "best score: 0.6130952380952381\n",
      "Fitting 10 folds for each of 12 candidates, totalling 120 fits\n"
     ]
    },
    {
     "name": "stderr",
     "output_type": "stream",
     "text": [
      "[Parallel(n_jobs=1)]: Using backend SequentialBackend with 1 concurrent workers.\n",
      "[Parallel(n_jobs=1)]: Done 120 out of 120 | elapsed:   13.7s finished\n"
     ]
    },
    {
     "name": "stdout",
     "output_type": "stream",
     "text": [
      "best score: 0.6547619047619048\n",
      "Fitting 10 folds for each of 12 candidates, totalling 120 fits\n"
     ]
    },
    {
     "name": "stderr",
     "output_type": "stream",
     "text": [
      "[Parallel(n_jobs=1)]: Using backend SequentialBackend with 1 concurrent workers.\n",
      "[Parallel(n_jobs=1)]: Done 120 out of 120 | elapsed:   19.4s finished\n"
     ]
    },
    {
     "name": "stdout",
     "output_type": "stream",
     "text": [
      "best score: 0.6547619047619048\n",
      "Fitting 10 folds for each of 12 candidates, totalling 120 fits\n"
     ]
    },
    {
     "name": "stderr",
     "output_type": "stream",
     "text": [
      "[Parallel(n_jobs=1)]: Using backend SequentialBackend with 1 concurrent workers.\n",
      "[Parallel(n_jobs=1)]: Done 120 out of 120 | elapsed:    7.5s finished\n"
     ]
    },
    {
     "name": "stdout",
     "output_type": "stream",
     "text": [
      "best score: 0.6547619047619048\n",
      "Fitting 10 folds for each of 12 candidates, totalling 120 fits\n"
     ]
    },
    {
     "name": "stderr",
     "output_type": "stream",
     "text": [
      "[Parallel(n_jobs=1)]: Using backend SequentialBackend with 1 concurrent workers.\n",
      "[Parallel(n_jobs=1)]: Done 120 out of 120 | elapsed:   17.5s finished\n"
     ]
    },
    {
     "name": "stdout",
     "output_type": "stream",
     "text": [
      "best score: 0.6547619047619048\n",
      "Split: 1\n",
      "Split: 2\n",
      "Split: 3\n",
      "Split: 4\n",
      "Split: 5\n",
      "Split: 6\n",
      "Split: 7\n",
      "Split: 8\n",
      "Split: 9\n",
      "Split: 10\n",
      "Training Testing Accuracy for n_games=1 team=13 : 58.25% (4.26%)\n",
      "(190, 200)\n",
      "(190, 1)\n",
      "X_train shape: (171, 387)\n",
      "X_test shape: (19, 387)\n",
      "Fitting 10 folds for each of 12 candidates, totalling 120 fits\n"
     ]
    },
    {
     "name": "stderr",
     "output_type": "stream",
     "text": [
      "[Parallel(n_jobs=1)]: Using backend SequentialBackend with 1 concurrent workers.\n",
      "[Parallel(n_jobs=1)]: Done 120 out of 120 | elapsed:    7.8s finished\n"
     ]
    },
    {
     "name": "stdout",
     "output_type": "stream",
     "text": [
      "best score: 0.631578947368421\n",
      "Fitting 10 folds for each of 12 candidates, totalling 120 fits\n"
     ]
    },
    {
     "name": "stderr",
     "output_type": "stream",
     "text": [
      "[Parallel(n_jobs=1)]: Using backend SequentialBackend with 1 concurrent workers.\n",
      "[Parallel(n_jobs=1)]: Done 120 out of 120 | elapsed:    6.1s finished\n"
     ]
    },
    {
     "name": "stdout",
     "output_type": "stream",
     "text": [
      "best score: 0.631578947368421\n",
      "Fitting 10 folds for each of 12 candidates, totalling 120 fits\n"
     ]
    },
    {
     "name": "stderr",
     "output_type": "stream",
     "text": [
      "[Parallel(n_jobs=1)]: Using backend SequentialBackend with 1 concurrent workers.\n",
      "[Parallel(n_jobs=1)]: Done 120 out of 120 | elapsed:    6.2s finished\n"
     ]
    },
    {
     "name": "stdout",
     "output_type": "stream",
     "text": [
      "best score: 0.631578947368421\n",
      "Fitting 10 folds for each of 12 candidates, totalling 120 fits\n"
     ]
    },
    {
     "name": "stderr",
     "output_type": "stream",
     "text": [
      "[Parallel(n_jobs=1)]: Using backend SequentialBackend with 1 concurrent workers.\n",
      "[Parallel(n_jobs=1)]: Done 120 out of 120 | elapsed:    9.3s finished\n"
     ]
    },
    {
     "name": "stdout",
     "output_type": "stream",
     "text": [
      "best score: 0.631578947368421\n",
      "Fitting 10 folds for each of 12 candidates, totalling 120 fits\n"
     ]
    },
    {
     "name": "stderr",
     "output_type": "stream",
     "text": [
      "[Parallel(n_jobs=1)]: Using backend SequentialBackend with 1 concurrent workers.\n",
      "[Parallel(n_jobs=1)]: Done 120 out of 120 | elapsed:    5.7s finished\n"
     ]
    },
    {
     "name": "stdout",
     "output_type": "stream",
     "text": [
      "best score: 0.631578947368421\n",
      "Split: 1\n",
      "Split: 2\n",
      "Split: 3\n",
      "Split: 4\n",
      "Split: 5\n",
      "Split: 6\n",
      "Split: 7\n",
      "Split: 8\n",
      "Split: 9\n",
      "Split: 10\n",
      "Training Testing Accuracy for n_games=1 team=14 : 61.58% (2.41%)\n",
      "(179, 200)\n",
      "(179, 1)\n",
      "X_train shape: (161, 387)\n",
      "X_test shape: (18, 387)\n",
      "Fitting 10 folds for each of 12 candidates, totalling 120 fits\n"
     ]
    },
    {
     "name": "stderr",
     "output_type": "stream",
     "text": [
      "[Parallel(n_jobs=1)]: Using backend SequentialBackend with 1 concurrent workers.\n",
      "[Parallel(n_jobs=1)]: Done 120 out of 120 | elapsed:   11.1s finished\n"
     ]
    },
    {
     "name": "stdout",
     "output_type": "stream",
     "text": [
      "best score: 0.6583850931677019\n",
      "Fitting 10 folds for each of 12 candidates, totalling 120 fits\n"
     ]
    },
    {
     "name": "stderr",
     "output_type": "stream",
     "text": [
      "[Parallel(n_jobs=1)]: Using backend SequentialBackend with 1 concurrent workers.\n",
      "[Parallel(n_jobs=1)]: Done 120 out of 120 | elapsed:    8.8s finished\n"
     ]
    },
    {
     "name": "stdout",
     "output_type": "stream",
     "text": [
      "best score: 0.6583850931677019\n",
      "Fitting 10 folds for each of 12 candidates, totalling 120 fits\n"
     ]
    },
    {
     "name": "stderr",
     "output_type": "stream",
     "text": [
      "[Parallel(n_jobs=1)]: Using backend SequentialBackend with 1 concurrent workers.\n",
      "[Parallel(n_jobs=1)]: Done 120 out of 120 | elapsed:    7.1s finished\n"
     ]
    },
    {
     "name": "stdout",
     "output_type": "stream",
     "text": [
      "best score: 0.6583850931677019\n",
      "Fitting 10 folds for each of 12 candidates, totalling 120 fits\n"
     ]
    },
    {
     "name": "stderr",
     "output_type": "stream",
     "text": [
      "[Parallel(n_jobs=1)]: Using backend SequentialBackend with 1 concurrent workers.\n",
      "[Parallel(n_jobs=1)]: Done 120 out of 120 | elapsed:    9.3s finished\n"
     ]
    },
    {
     "name": "stdout",
     "output_type": "stream",
     "text": [
      "best score: 0.6645962732919255\n",
      "Fitting 10 folds for each of 12 candidates, totalling 120 fits\n"
     ]
    },
    {
     "name": "stderr",
     "output_type": "stream",
     "text": [
      "[Parallel(n_jobs=1)]: Using backend SequentialBackend with 1 concurrent workers.\n",
      "[Parallel(n_jobs=1)]: Done 120 out of 120 | elapsed:    8.1s finished\n"
     ]
    },
    {
     "name": "stdout",
     "output_type": "stream",
     "text": [
      "best score: 0.6645962732919255\n",
      "Split: 1\n",
      "Split: 2\n",
      "Split: 3\n",
      "Split: 4\n",
      "Split: 5\n",
      "Split: 6\n",
      "Split: 7\n",
      "Split: 8\n",
      "Split: 9\n",
      "Split: 10\n",
      "Training Testing Accuracy for n_games=1 team=15 : 64.87% (10.10%)\n",
      "(195, 200)\n",
      "(195, 1)\n",
      "X_train shape: (175, 390)\n",
      "X_test shape: (20, 390)\n",
      "Fitting 10 folds for each of 12 candidates, totalling 120 fits\n"
     ]
    },
    {
     "name": "stderr",
     "output_type": "stream",
     "text": [
      "[Parallel(n_jobs=1)]: Using backend SequentialBackend with 1 concurrent workers.\n",
      "[Parallel(n_jobs=1)]: Done 120 out of 120 | elapsed:    9.5s finished\n"
     ]
    },
    {
     "name": "stdout",
     "output_type": "stream",
     "text": [
      "best score: 0.64\n",
      "Fitting 10 folds for each of 12 candidates, totalling 120 fits\n"
     ]
    },
    {
     "name": "stderr",
     "output_type": "stream",
     "text": [
      "[Parallel(n_jobs=1)]: Using backend SequentialBackend with 1 concurrent workers.\n",
      "[Parallel(n_jobs=1)]: Done 120 out of 120 | elapsed:    8.7s finished\n"
     ]
    },
    {
     "name": "stdout",
     "output_type": "stream",
     "text": [
      "best score: 0.64\n",
      "Fitting 10 folds for each of 12 candidates, totalling 120 fits\n"
     ]
    },
    {
     "name": "stderr",
     "output_type": "stream",
     "text": [
      "[Parallel(n_jobs=1)]: Using backend SequentialBackend with 1 concurrent workers.\n",
      "[Parallel(n_jobs=1)]: Done 120 out of 120 | elapsed:   17.5s finished\n"
     ]
    },
    {
     "name": "stdout",
     "output_type": "stream",
     "text": [
      "best score: 0.64\n",
      "Fitting 10 folds for each of 12 candidates, totalling 120 fits\n"
     ]
    },
    {
     "name": "stderr",
     "output_type": "stream",
     "text": [
      "[Parallel(n_jobs=1)]: Using backend SequentialBackend with 1 concurrent workers.\n",
      "[Parallel(n_jobs=1)]: Done 120 out of 120 | elapsed:   14.3s finished\n"
     ]
    },
    {
     "name": "stdout",
     "output_type": "stream",
     "text": [
      "best score: 0.64\n",
      "Fitting 10 folds for each of 12 candidates, totalling 120 fits\n"
     ]
    },
    {
     "name": "stderr",
     "output_type": "stream",
     "text": [
      "[Parallel(n_jobs=1)]: Using backend SequentialBackend with 1 concurrent workers.\n",
      "[Parallel(n_jobs=1)]: Done 120 out of 120 | elapsed:    7.1s finished\n"
     ]
    },
    {
     "name": "stdout",
     "output_type": "stream",
     "text": [
      "best score: 0.64\n",
      "Split: 1\n",
      "Split: 2\n",
      "Split: 3\n",
      "Split: 4\n",
      "Split: 5\n",
      "Split: 6\n",
      "Split: 7\n",
      "Split: 8\n",
      "Split: 9\n",
      "Split: 10\n",
      "Training Testing Accuracy for n_games=1 team=16 : 64.08% (0.92%)\n",
      "(190, 200)\n",
      "(190, 1)\n",
      "X_train shape: (171, 386)\n",
      "X_test shape: (19, 386)\n",
      "Fitting 10 folds for each of 12 candidates, totalling 120 fits\n"
     ]
    },
    {
     "name": "stderr",
     "output_type": "stream",
     "text": [
      "[Parallel(n_jobs=1)]: Using backend SequentialBackend with 1 concurrent workers.\n",
      "[Parallel(n_jobs=1)]: Done 120 out of 120 | elapsed:    7.8s finished\n"
     ]
    },
    {
     "name": "stdout",
     "output_type": "stream",
     "text": [
      "best score: 0.6198830409356725\n",
      "Fitting 10 folds for each of 12 candidates, totalling 120 fits\n"
     ]
    },
    {
     "name": "stderr",
     "output_type": "stream",
     "text": [
      "[Parallel(n_jobs=1)]: Using backend SequentialBackend with 1 concurrent workers.\n",
      "[Parallel(n_jobs=1)]: Done 120 out of 120 | elapsed:    5.8s finished\n"
     ]
    },
    {
     "name": "stdout",
     "output_type": "stream",
     "text": [
      "best score: 0.6198830409356725\n",
      "Fitting 10 folds for each of 12 candidates, totalling 120 fits\n"
     ]
    },
    {
     "name": "stderr",
     "output_type": "stream",
     "text": [
      "[Parallel(n_jobs=1)]: Using backend SequentialBackend with 1 concurrent workers.\n",
      "[Parallel(n_jobs=1)]: Done 120 out of 120 | elapsed:    6.8s finished\n"
     ]
    },
    {
     "name": "stdout",
     "output_type": "stream",
     "text": [
      "best score: 0.631578947368421\n",
      "Fitting 10 folds for each of 12 candidates, totalling 120 fits\n"
     ]
    },
    {
     "name": "stderr",
     "output_type": "stream",
     "text": [
      "[Parallel(n_jobs=1)]: Using backend SequentialBackend with 1 concurrent workers.\n",
      "[Parallel(n_jobs=1)]: Done 120 out of 120 | elapsed:    7.1s finished\n"
     ]
    },
    {
     "name": "stdout",
     "output_type": "stream",
     "text": [
      "best score: 0.631578947368421\n",
      "Fitting 10 folds for each of 12 candidates, totalling 120 fits\n"
     ]
    },
    {
     "name": "stderr",
     "output_type": "stream",
     "text": [
      "[Parallel(n_jobs=1)]: Using backend SequentialBackend with 1 concurrent workers.\n",
      "[Parallel(n_jobs=1)]: Done 120 out of 120 | elapsed:    8.8s finished\n"
     ]
    },
    {
     "name": "stdout",
     "output_type": "stream",
     "text": [
      "best score: 0.6549707602339181\n",
      "Split: 1\n",
      "Split: 2\n",
      "Split: 3\n",
      "Split: 4\n",
      "Split: 5\n",
      "Split: 6\n",
      "Split: 7\n",
      "Split: 8\n",
      "Split: 9\n",
      "Split: 10\n",
      "Training Testing Accuracy for n_games=1 team=17 : 59.47% (4.74%)\n",
      "(189, 200)\n",
      "(189, 1)\n",
      "X_train shape: (170, 394)\n",
      "X_test shape: (19, 394)\n",
      "Fitting 10 folds for each of 12 candidates, totalling 120 fits\n"
     ]
    },
    {
     "name": "stderr",
     "output_type": "stream",
     "text": [
      "[Parallel(n_jobs=1)]: Using backend SequentialBackend with 1 concurrent workers.\n",
      "[Parallel(n_jobs=1)]: Done 120 out of 120 | elapsed:    8.0s finished\n"
     ]
    },
    {
     "name": "stdout",
     "output_type": "stream",
     "text": [
      "best score: 0.5823529411764706\n",
      "Fitting 10 folds for each of 12 candidates, totalling 120 fits\n"
     ]
    },
    {
     "name": "stderr",
     "output_type": "stream",
     "text": [
      "[Parallel(n_jobs=1)]: Using backend SequentialBackend with 1 concurrent workers.\n",
      "[Parallel(n_jobs=1)]: Done 120 out of 120 | elapsed:   11.8s finished\n"
     ]
    },
    {
     "name": "stdout",
     "output_type": "stream",
     "text": [
      "best score: 0.5823529411764706\n",
      "Fitting 10 folds for each of 12 candidates, totalling 120 fits\n"
     ]
    },
    {
     "name": "stderr",
     "output_type": "stream",
     "text": [
      "[Parallel(n_jobs=1)]: Using backend SequentialBackend with 1 concurrent workers.\n",
      "[Parallel(n_jobs=1)]: Done 120 out of 120 | elapsed:    7.7s finished\n"
     ]
    },
    {
     "name": "stdout",
     "output_type": "stream",
     "text": [
      "best score: 0.5823529411764706\n",
      "Fitting 10 folds for each of 12 candidates, totalling 120 fits\n"
     ]
    },
    {
     "name": "stderr",
     "output_type": "stream",
     "text": [
      "[Parallel(n_jobs=1)]: Using backend SequentialBackend with 1 concurrent workers.\n",
      "[Parallel(n_jobs=1)]: Done 120 out of 120 | elapsed:   10.9s finished\n"
     ]
    },
    {
     "name": "stdout",
     "output_type": "stream",
     "text": [
      "best score: 0.5823529411764706\n",
      "Fitting 10 folds for each of 12 candidates, totalling 120 fits\n"
     ]
    },
    {
     "name": "stderr",
     "output_type": "stream",
     "text": [
      "[Parallel(n_jobs=1)]: Using backend SequentialBackend with 1 concurrent workers.\n",
      "[Parallel(n_jobs=1)]: Done 120 out of 120 | elapsed:    6.9s finished\n"
     ]
    },
    {
     "name": "stdout",
     "output_type": "stream",
     "text": [
      "best score: 0.5823529411764706\n",
      "Split: 1\n",
      "Split: 2\n",
      "Split: 3\n",
      "Split: 4\n",
      "Split: 5\n",
      "Split: 6\n",
      "Split: 7\n",
      "Split: 8\n",
      "Split: 9\n",
      "Split: 10\n",
      "Training Testing Accuracy for n_games=1 team=18 : 53.33% (16.50%)\n",
      "Accuracy for Team Models for n_games= 1 : 60.82% (5.37%)\n",
      "(184, 386)\n",
      "(184, 1)\n",
      "X_train shape: (165, 695)\n",
      "X_test shape: (19, 695)\n",
      "Fitting 10 folds for each of 12 candidates, totalling 120 fits\n"
     ]
    },
    {
     "name": "stderr",
     "output_type": "stream",
     "text": [
      "[Parallel(n_jobs=1)]: Using backend SequentialBackend with 1 concurrent workers.\n",
      "[Parallel(n_jobs=1)]: Done 120 out of 120 | elapsed:   12.3s finished\n"
     ]
    },
    {
     "name": "stdout",
     "output_type": "stream",
     "text": [
      "best score: 0.6121212121212121\n",
      "Fitting 10 folds for each of 12 candidates, totalling 120 fits\n"
     ]
    },
    {
     "name": "stderr",
     "output_type": "stream",
     "text": [
      "[Parallel(n_jobs=1)]: Using backend SequentialBackend with 1 concurrent workers.\n",
      "[Parallel(n_jobs=1)]: Done 120 out of 120 | elapsed:   32.0s finished\n"
     ]
    },
    {
     "name": "stdout",
     "output_type": "stream",
     "text": [
      "best score: 0.6121212121212121\n",
      "Fitting 10 folds for each of 12 candidates, totalling 120 fits\n"
     ]
    },
    {
     "name": "stderr",
     "output_type": "stream",
     "text": [
      "[Parallel(n_jobs=1)]: Using backend SequentialBackend with 1 concurrent workers.\n",
      "[Parallel(n_jobs=1)]: Done 120 out of 120 | elapsed:   11.6s finished\n"
     ]
    },
    {
     "name": "stdout",
     "output_type": "stream",
     "text": [
      "best score: 0.6121212121212121\n",
      "Fitting 10 folds for each of 12 candidates, totalling 120 fits\n"
     ]
    },
    {
     "name": "stderr",
     "output_type": "stream",
     "text": [
      "[Parallel(n_jobs=1)]: Using backend SequentialBackend with 1 concurrent workers.\n",
      "[Parallel(n_jobs=1)]: Done 120 out of 120 | elapsed:    8.9s finished\n"
     ]
    },
    {
     "name": "stdout",
     "output_type": "stream",
     "text": [
      "best score: 0.6121212121212121\n",
      "Fitting 10 folds for each of 12 candidates, totalling 120 fits\n"
     ]
    },
    {
     "name": "stderr",
     "output_type": "stream",
     "text": [
      "[Parallel(n_jobs=1)]: Using backend SequentialBackend with 1 concurrent workers.\n",
      "[Parallel(n_jobs=1)]: Done 120 out of 120 | elapsed:   19.9s finished\n"
     ]
    },
    {
     "name": "stdout",
     "output_type": "stream",
     "text": [
      "best score: 0.6121212121212121\n",
      "Split: 1\n",
      "Split: 2\n",
      "Split: 3\n",
      "Split: 4\n",
      "Split: 5\n",
      "Split: 6\n",
      "Split: 7\n",
      "Split: 8\n",
      "Split: 9\n",
      "Split: 10\n",
      "Training Testing Accuracy for n_games=2 team=1 : 54.42% (3.32%)\n",
      "(182, 386)\n",
      "(182, 1)\n",
      "X_train shape: (163, 685)\n",
      "X_test shape: (19, 685)\n",
      "Fitting 10 folds for each of 12 candidates, totalling 120 fits\n"
     ]
    },
    {
     "name": "stderr",
     "output_type": "stream",
     "text": [
      "[Parallel(n_jobs=1)]: Using backend SequentialBackend with 1 concurrent workers.\n",
      "[Parallel(n_jobs=1)]: Done 120 out of 120 | elapsed:   13.7s finished\n"
     ]
    },
    {
     "name": "stdout",
     "output_type": "stream",
     "text": [
      "best score: 0.6134969325153374\n",
      "Fitting 10 folds for each of 12 candidates, totalling 120 fits\n"
     ]
    },
    {
     "name": "stderr",
     "output_type": "stream",
     "text": [
      "[Parallel(n_jobs=1)]: Using backend SequentialBackend with 1 concurrent workers.\n",
      "[Parallel(n_jobs=1)]: Done 120 out of 120 | elapsed:    9.9s finished\n"
     ]
    },
    {
     "name": "stdout",
     "output_type": "stream",
     "text": [
      "best score: 0.6134969325153374\n",
      "Fitting 10 folds for each of 12 candidates, totalling 120 fits\n"
     ]
    },
    {
     "name": "stderr",
     "output_type": "stream",
     "text": [
      "[Parallel(n_jobs=1)]: Using backend SequentialBackend with 1 concurrent workers.\n",
      "[Parallel(n_jobs=1)]: Done 120 out of 120 | elapsed:    9.1s finished\n"
     ]
    },
    {
     "name": "stdout",
     "output_type": "stream",
     "text": [
      "best score: 0.6134969325153374\n",
      "Fitting 10 folds for each of 12 candidates, totalling 120 fits\n"
     ]
    },
    {
     "name": "stderr",
     "output_type": "stream",
     "text": [
      "[Parallel(n_jobs=1)]: Using backend SequentialBackend with 1 concurrent workers.\n",
      "[Parallel(n_jobs=1)]: Done 120 out of 120 | elapsed:    9.8s finished\n"
     ]
    },
    {
     "name": "stdout",
     "output_type": "stream",
     "text": [
      "best score: 0.6257668711656442\n",
      "Fitting 10 folds for each of 12 candidates, totalling 120 fits\n"
     ]
    },
    {
     "name": "stderr",
     "output_type": "stream",
     "text": [
      "[Parallel(n_jobs=1)]: Using backend SequentialBackend with 1 concurrent workers.\n",
      "[Parallel(n_jobs=1)]: Done 120 out of 120 | elapsed:   16.9s finished\n"
     ]
    },
    {
     "name": "stdout",
     "output_type": "stream",
     "text": [
      "best score: 0.6625766871165644\n",
      "Split: 1\n",
      "Split: 2\n",
      "Split: 3\n",
      "Split: 4\n",
      "Split: 5\n",
      "Split: 6\n",
      "Split: 7\n",
      "Split: 8\n",
      "Split: 9\n",
      "Split: 10\n",
      "Training Testing Accuracy for n_games=2 team=2 : 67.54% (5.40%)\n",
      "(180, 386)\n",
      "(180, 1)\n",
      "X_train shape: (162, 683)\n",
      "X_test shape: (18, 683)\n",
      "Fitting 10 folds for each of 12 candidates, totalling 120 fits\n"
     ]
    },
    {
     "name": "stderr",
     "output_type": "stream",
     "text": [
      "[Parallel(n_jobs=1)]: Using backend SequentialBackend with 1 concurrent workers.\n",
      "[Parallel(n_jobs=1)]: Done 120 out of 120 | elapsed:   11.5s finished\n"
     ]
    },
    {
     "name": "stdout",
     "output_type": "stream",
     "text": [
      "best score: 0.6851851851851852\n",
      "Fitting 10 folds for each of 12 candidates, totalling 120 fits\n"
     ]
    },
    {
     "name": "stderr",
     "output_type": "stream",
     "text": [
      "[Parallel(n_jobs=1)]: Using backend SequentialBackend with 1 concurrent workers.\n",
      "[Parallel(n_jobs=1)]: Done 120 out of 120 | elapsed:   11.0s finished\n"
     ]
    },
    {
     "name": "stdout",
     "output_type": "stream",
     "text": [
      "best score: 0.6851851851851852\n",
      "Fitting 10 folds for each of 12 candidates, totalling 120 fits\n"
     ]
    },
    {
     "name": "stderr",
     "output_type": "stream",
     "text": [
      "[Parallel(n_jobs=1)]: Using backend SequentialBackend with 1 concurrent workers.\n",
      "[Parallel(n_jobs=1)]: Done 120 out of 120 | elapsed:    8.1s finished\n"
     ]
    },
    {
     "name": "stdout",
     "output_type": "stream",
     "text": [
      "best score: 0.6851851851851852\n",
      "Fitting 10 folds for each of 12 candidates, totalling 120 fits\n"
     ]
    },
    {
     "name": "stderr",
     "output_type": "stream",
     "text": [
      "[Parallel(n_jobs=1)]: Using backend SequentialBackend with 1 concurrent workers.\n",
      "[Parallel(n_jobs=1)]: Done 120 out of 120 | elapsed:   10.0s finished\n"
     ]
    },
    {
     "name": "stdout",
     "output_type": "stream",
     "text": [
      "best score: 0.6851851851851852\n",
      "Fitting 10 folds for each of 12 candidates, totalling 120 fits\n"
     ]
    },
    {
     "name": "stderr",
     "output_type": "stream",
     "text": [
      "[Parallel(n_jobs=1)]: Using backend SequentialBackend with 1 concurrent workers.\n",
      "[Parallel(n_jobs=1)]: Done 120 out of 120 | elapsed:    9.4s finished\n"
     ]
    },
    {
     "name": "stdout",
     "output_type": "stream",
     "text": [
      "best score: 0.6851851851851852\n",
      "Split: 1\n",
      "Split: 2\n",
      "Split: 3\n",
      "Split: 4\n",
      "Split: 5\n",
      "Split: 6\n",
      "Split: 7\n",
      "Split: 8\n",
      "Split: 9\n",
      "Split: 10\n",
      "Training Testing Accuracy for n_games=2 team=3 : 68.33% (2.55%)\n",
      "(185, 386)\n",
      "(185, 1)\n",
      "X_train shape: (166, 687)\n",
      "X_test shape: (19, 687)\n",
      "Fitting 10 folds for each of 12 candidates, totalling 120 fits\n"
     ]
    },
    {
     "name": "stderr",
     "output_type": "stream",
     "text": [
      "[Parallel(n_jobs=1)]: Using backend SequentialBackend with 1 concurrent workers.\n",
      "[Parallel(n_jobs=1)]: Done 120 out of 120 | elapsed:   12.1s finished\n"
     ]
    },
    {
     "name": "stdout",
     "output_type": "stream",
     "text": [
      "best score: 0.6024096385542169\n",
      "Fitting 10 folds for each of 12 candidates, totalling 120 fits\n"
     ]
    },
    {
     "name": "stderr",
     "output_type": "stream",
     "text": [
      "[Parallel(n_jobs=1)]: Using backend SequentialBackend with 1 concurrent workers.\n",
      "[Parallel(n_jobs=1)]: Done 120 out of 120 | elapsed:   17.3s finished\n"
     ]
    },
    {
     "name": "stdout",
     "output_type": "stream",
     "text": [
      "best score: 0.6024096385542169\n",
      "Fitting 10 folds for each of 12 candidates, totalling 120 fits\n"
     ]
    },
    {
     "name": "stderr",
     "output_type": "stream",
     "text": [
      "[Parallel(n_jobs=1)]: Using backend SequentialBackend with 1 concurrent workers.\n",
      "[Parallel(n_jobs=1)]: Done 120 out of 120 | elapsed:   12.2s finished\n"
     ]
    },
    {
     "name": "stdout",
     "output_type": "stream",
     "text": [
      "best score: 0.6024096385542169\n",
      "Fitting 10 folds for each of 12 candidates, totalling 120 fits\n"
     ]
    },
    {
     "name": "stderr",
     "output_type": "stream",
     "text": [
      "[Parallel(n_jobs=1)]: Using backend SequentialBackend with 1 concurrent workers.\n",
      "[Parallel(n_jobs=1)]: Done 120 out of 120 | elapsed:   11.3s finished\n"
     ]
    },
    {
     "name": "stdout",
     "output_type": "stream",
     "text": [
      "best score: 0.6024096385542169\n",
      "Fitting 10 folds for each of 12 candidates, totalling 120 fits\n"
     ]
    },
    {
     "name": "stderr",
     "output_type": "stream",
     "text": [
      "[Parallel(n_jobs=1)]: Using backend SequentialBackend with 1 concurrent workers.\n",
      "[Parallel(n_jobs=1)]: Done 120 out of 120 | elapsed:   15.1s finished\n"
     ]
    },
    {
     "name": "stdout",
     "output_type": "stream",
     "text": [
      "best score: 0.6024096385542169\n",
      "Split: 1\n",
      "Split: 2\n",
      "Split: 3\n",
      "Split: 4\n",
      "Split: 5\n",
      "Split: 6\n",
      "Split: 7\n",
      "Split: 8\n",
      "Split: 9\n",
      "Split: 10\n",
      "Training Testing Accuracy for n_games=2 team=4 : 56.73% (7.86%)\n",
      "(182, 386)\n",
      "(182, 1)\n",
      "X_train shape: (163, 683)\n",
      "X_test shape: (19, 683)\n",
      "Fitting 10 folds for each of 12 candidates, totalling 120 fits\n"
     ]
    },
    {
     "name": "stderr",
     "output_type": "stream",
     "text": [
      "[Parallel(n_jobs=1)]: Using backend SequentialBackend with 1 concurrent workers.\n",
      "[Parallel(n_jobs=1)]: Done 120 out of 120 | elapsed:   11.9s finished\n"
     ]
    },
    {
     "name": "stdout",
     "output_type": "stream",
     "text": [
      "best score: 0.5521472392638037\n",
      "Fitting 10 folds for each of 12 candidates, totalling 120 fits\n"
     ]
    },
    {
     "name": "stderr",
     "output_type": "stream",
     "text": [
      "[Parallel(n_jobs=1)]: Using backend SequentialBackend with 1 concurrent workers.\n",
      "[Parallel(n_jobs=1)]: Done 120 out of 120 | elapsed:   10.6s finished\n"
     ]
    },
    {
     "name": "stdout",
     "output_type": "stream",
     "text": [
      "best score: 0.5521472392638037\n",
      "Fitting 10 folds for each of 12 candidates, totalling 120 fits\n"
     ]
    },
    {
     "name": "stderr",
     "output_type": "stream",
     "text": [
      "[Parallel(n_jobs=1)]: Using backend SequentialBackend with 1 concurrent workers.\n",
      "[Parallel(n_jobs=1)]: Done 120 out of 120 | elapsed:   25.9s finished\n"
     ]
    },
    {
     "name": "stdout",
     "output_type": "stream",
     "text": [
      "best score: 0.5521472392638037\n",
      "Fitting 10 folds for each of 12 candidates, totalling 120 fits\n"
     ]
    },
    {
     "name": "stderr",
     "output_type": "stream",
     "text": [
      "[Parallel(n_jobs=1)]: Using backend SequentialBackend with 1 concurrent workers.\n",
      "[Parallel(n_jobs=1)]: Done 120 out of 120 | elapsed:    8.0s finished\n"
     ]
    },
    {
     "name": "stdout",
     "output_type": "stream",
     "text": [
      "best score: 0.5521472392638037\n",
      "Fitting 10 folds for each of 12 candidates, totalling 120 fits\n"
     ]
    },
    {
     "name": "stderr",
     "output_type": "stream",
     "text": [
      "[Parallel(n_jobs=1)]: Using backend SequentialBackend with 1 concurrent workers.\n",
      "[Parallel(n_jobs=1)]: Done 120 out of 120 | elapsed:    7.6s finished\n"
     ]
    },
    {
     "name": "stdout",
     "output_type": "stream",
     "text": [
      "best score: 0.5521472392638037\n",
      "Split: 1\n",
      "Split: 2\n",
      "Split: 3\n",
      "Split: 4\n",
      "Split: 5\n",
      "Split: 6\n",
      "Split: 7\n",
      "Split: 8\n",
      "Split: 9\n",
      "Split: 10\n",
      "Training Testing Accuracy for n_games=2 team=5 : 55.50% (1.18%)\n",
      "(185, 386)\n",
      "(185, 1)\n",
      "X_train shape: (166, 693)\n",
      "X_test shape: (19, 693)\n",
      "Fitting 10 folds for each of 12 candidates, totalling 120 fits\n"
     ]
    },
    {
     "name": "stderr",
     "output_type": "stream",
     "text": [
      "[Parallel(n_jobs=1)]: Using backend SequentialBackend with 1 concurrent workers.\n",
      "[Parallel(n_jobs=1)]: Done 120 out of 120 | elapsed:   12.3s finished\n"
     ]
    },
    {
     "name": "stdout",
     "output_type": "stream",
     "text": [
      "best score: 0.6445783132530121\n",
      "Fitting 10 folds for each of 12 candidates, totalling 120 fits\n"
     ]
    },
    {
     "name": "stderr",
     "output_type": "stream",
     "text": [
      "[Parallel(n_jobs=1)]: Using backend SequentialBackend with 1 concurrent workers.\n",
      "[Parallel(n_jobs=1)]: Done 120 out of 120 | elapsed:    9.3s finished\n"
     ]
    },
    {
     "name": "stdout",
     "output_type": "stream",
     "text": [
      "best score: 0.6445783132530121\n",
      "Fitting 10 folds for each of 12 candidates, totalling 120 fits\n"
     ]
    },
    {
     "name": "stderr",
     "output_type": "stream",
     "text": [
      "[Parallel(n_jobs=1)]: Using backend SequentialBackend with 1 concurrent workers.\n",
      "[Parallel(n_jobs=1)]: Done 120 out of 120 | elapsed:    9.8s finished\n"
     ]
    },
    {
     "name": "stdout",
     "output_type": "stream",
     "text": [
      "best score: 0.6445783132530121\n",
      "Fitting 10 folds for each of 12 candidates, totalling 120 fits\n"
     ]
    },
    {
     "name": "stderr",
     "output_type": "stream",
     "text": [
      "[Parallel(n_jobs=1)]: Using backend SequentialBackend with 1 concurrent workers.\n",
      "[Parallel(n_jobs=1)]: Done 120 out of 120 | elapsed:   13.0s finished\n"
     ]
    },
    {
     "name": "stdout",
     "output_type": "stream",
     "text": [
      "best score: 0.6566265060240963\n",
      "Fitting 10 folds for each of 12 candidates, totalling 120 fits\n"
     ]
    },
    {
     "name": "stderr",
     "output_type": "stream",
     "text": [
      "[Parallel(n_jobs=1)]: Using backend SequentialBackend with 1 concurrent workers.\n",
      "[Parallel(n_jobs=1)]: Done 120 out of 120 | elapsed:   15.5s finished\n"
     ]
    },
    {
     "name": "stdout",
     "output_type": "stream",
     "text": [
      "best score: 0.6566265060240963\n",
      "Split: 1\n",
      "Split: 2\n",
      "Split: 3\n",
      "Split: 4\n",
      "Split: 5\n",
      "Split: 6\n",
      "Split: 7\n",
      "Split: 8\n",
      "Split: 9\n",
      "Split: 10\n",
      "Training Testing Accuracy for n_games=2 team=6 : 64.33% (11.34%)\n",
      "(194, 386)\n",
      "(194, 1)\n",
      "X_train shape: (174, 688)\n",
      "X_test shape: (20, 688)\n",
      "Fitting 10 folds for each of 12 candidates, totalling 120 fits\n"
     ]
    },
    {
     "name": "stderr",
     "output_type": "stream",
     "text": [
      "[Parallel(n_jobs=1)]: Using backend SequentialBackend with 1 concurrent workers.\n",
      "[Parallel(n_jobs=1)]: Done 120 out of 120 | elapsed:   12.2s finished\n"
     ]
    },
    {
     "name": "stdout",
     "output_type": "stream",
     "text": [
      "best score: 0.6724137931034483\n",
      "Fitting 10 folds for each of 12 candidates, totalling 120 fits\n"
     ]
    },
    {
     "name": "stderr",
     "output_type": "stream",
     "text": [
      "[Parallel(n_jobs=1)]: Using backend SequentialBackend with 1 concurrent workers.\n",
      "[Parallel(n_jobs=1)]: Done 120 out of 120 | elapsed:    7.9s finished\n"
     ]
    },
    {
     "name": "stdout",
     "output_type": "stream",
     "text": [
      "best score: 0.6724137931034483\n",
      "Fitting 10 folds for each of 12 candidates, totalling 120 fits\n"
     ]
    },
    {
     "name": "stderr",
     "output_type": "stream",
     "text": [
      "[Parallel(n_jobs=1)]: Using backend SequentialBackend with 1 concurrent workers.\n",
      "[Parallel(n_jobs=1)]: Done 120 out of 120 | elapsed:    8.5s finished\n"
     ]
    },
    {
     "name": "stdout",
     "output_type": "stream",
     "text": [
      "best score: 0.6724137931034483\n",
      "Fitting 10 folds for each of 12 candidates, totalling 120 fits\n"
     ]
    },
    {
     "name": "stderr",
     "output_type": "stream",
     "text": [
      "[Parallel(n_jobs=1)]: Using backend SequentialBackend with 1 concurrent workers.\n",
      "[Parallel(n_jobs=1)]: Done 120 out of 120 | elapsed:    9.8s finished\n"
     ]
    },
    {
     "name": "stdout",
     "output_type": "stream",
     "text": [
      "best score: 0.6724137931034483\n",
      "Fitting 10 folds for each of 12 candidates, totalling 120 fits\n"
     ]
    },
    {
     "name": "stderr",
     "output_type": "stream",
     "text": [
      "[Parallel(n_jobs=1)]: Using backend SequentialBackend with 1 concurrent workers.\n",
      "[Parallel(n_jobs=1)]: Done 120 out of 120 | elapsed:    8.3s finished\n"
     ]
    },
    {
     "name": "stdout",
     "output_type": "stream",
     "text": [
      "best score: 0.6724137931034483\n",
      "Split: 1\n",
      "Split: 2\n",
      "Split: 3\n",
      "Split: 4\n",
      "Split: 5\n",
      "Split: 6\n",
      "Split: 7\n",
      "Split: 8\n",
      "Split: 9\n",
      "Split: 10\n",
      "Training Testing Accuracy for n_games=2 team=7 : 66.53% (1.97%)\n",
      "(178, 386)\n",
      "(178, 1)\n",
      "X_train shape: (160, 685)\n",
      "X_test shape: (18, 685)\n",
      "Fitting 10 folds for each of 12 candidates, totalling 120 fits\n"
     ]
    },
    {
     "name": "stderr",
     "output_type": "stream",
     "text": [
      "[Parallel(n_jobs=1)]: Using backend SequentialBackend with 1 concurrent workers.\n",
      "[Parallel(n_jobs=1)]: Done 120 out of 120 | elapsed:   11.4s finished\n"
     ]
    },
    {
     "name": "stdout",
     "output_type": "stream",
     "text": [
      "best score: 0.74375\n",
      "Fitting 10 folds for each of 12 candidates, totalling 120 fits\n"
     ]
    },
    {
     "name": "stderr",
     "output_type": "stream",
     "text": [
      "[Parallel(n_jobs=1)]: Using backend SequentialBackend with 1 concurrent workers.\n",
      "[Parallel(n_jobs=1)]: Done 120 out of 120 | elapsed:   21.0s finished\n"
     ]
    },
    {
     "name": "stdout",
     "output_type": "stream",
     "text": [
      "best score: 0.74375\n",
      "Fitting 10 folds for each of 12 candidates, totalling 120 fits\n"
     ]
    },
    {
     "name": "stderr",
     "output_type": "stream",
     "text": [
      "[Parallel(n_jobs=1)]: Using backend SequentialBackend with 1 concurrent workers.\n",
      "[Parallel(n_jobs=1)]: Done 120 out of 120 | elapsed:    9.5s finished\n"
     ]
    },
    {
     "name": "stdout",
     "output_type": "stream",
     "text": [
      "best score: 0.74375\n",
      "Fitting 10 folds for each of 12 candidates, totalling 120 fits\n"
     ]
    },
    {
     "name": "stderr",
     "output_type": "stream",
     "text": [
      "[Parallel(n_jobs=1)]: Using backend SequentialBackend with 1 concurrent workers.\n",
      "[Parallel(n_jobs=1)]: Done 120 out of 120 | elapsed:   10.1s finished\n"
     ]
    },
    {
     "name": "stdout",
     "output_type": "stream",
     "text": [
      "best score: 0.74375\n",
      "Fitting 10 folds for each of 12 candidates, totalling 120 fits\n"
     ]
    },
    {
     "name": "stderr",
     "output_type": "stream",
     "text": [
      "[Parallel(n_jobs=1)]: Using backend SequentialBackend with 1 concurrent workers.\n",
      "[Parallel(n_jobs=1)]: Done 120 out of 120 | elapsed:    7.3s finished\n"
     ]
    },
    {
     "name": "stdout",
     "output_type": "stream",
     "text": [
      "best score: 0.74375\n",
      "Split: 1\n",
      "Split: 2\n",
      "Split: 3\n",
      "Split: 4\n",
      "Split: 5\n",
      "Split: 6\n",
      "Split: 7\n",
      "Split: 8\n",
      "Split: 9\n",
      "Split: 10\n",
      "Training Testing Accuracy for n_games=2 team=8 : 71.86% (2.98%)\n",
      "(191, 386)\n",
      "(191, 1)\n",
      "X_train shape: (171, 698)\n",
      "X_test shape: (20, 698)\n",
      "Fitting 10 folds for each of 12 candidates, totalling 120 fits\n"
     ]
    },
    {
     "name": "stderr",
     "output_type": "stream",
     "text": [
      "[Parallel(n_jobs=1)]: Using backend SequentialBackend with 1 concurrent workers.\n",
      "[Parallel(n_jobs=1)]: Done 120 out of 120 | elapsed:   12.0s finished\n"
     ]
    },
    {
     "name": "stdout",
     "output_type": "stream",
     "text": [
      "best score: 0.5906432748538012\n",
      "Fitting 10 folds for each of 12 candidates, totalling 120 fits\n"
     ]
    },
    {
     "name": "stderr",
     "output_type": "stream",
     "text": [
      "[Parallel(n_jobs=1)]: Using backend SequentialBackend with 1 concurrent workers.\n",
      "[Parallel(n_jobs=1)]: Done 120 out of 120 | elapsed:   10.6s finished\n"
     ]
    },
    {
     "name": "stdout",
     "output_type": "stream",
     "text": [
      "best score: 0.5906432748538012\n",
      "Fitting 10 folds for each of 12 candidates, totalling 120 fits\n"
     ]
    },
    {
     "name": "stderr",
     "output_type": "stream",
     "text": [
      "[Parallel(n_jobs=1)]: Using backend SequentialBackend with 1 concurrent workers.\n",
      "[Parallel(n_jobs=1)]: Done 120 out of 120 | elapsed:   15.1s finished\n"
     ]
    },
    {
     "name": "stdout",
     "output_type": "stream",
     "text": [
      "best score: 0.631578947368421\n",
      "Fitting 10 folds for each of 12 candidates, totalling 120 fits\n"
     ]
    },
    {
     "name": "stderr",
     "output_type": "stream",
     "text": [
      "[Parallel(n_jobs=1)]: Using backend SequentialBackend with 1 concurrent workers.\n",
      "[Parallel(n_jobs=1)]: Done 120 out of 120 | elapsed:   21.1s finished\n"
     ]
    },
    {
     "name": "stdout",
     "output_type": "stream",
     "text": [
      "best score: 0.6374269005847953\n",
      "Fitting 10 folds for each of 12 candidates, totalling 120 fits\n"
     ]
    },
    {
     "name": "stderr",
     "output_type": "stream",
     "text": [
      "[Parallel(n_jobs=1)]: Using backend SequentialBackend with 1 concurrent workers.\n",
      "[Parallel(n_jobs=1)]: Done 120 out of 120 | elapsed:   18.3s finished\n"
     ]
    },
    {
     "name": "stdout",
     "output_type": "stream",
     "text": [
      "best score: 0.6374269005847953\n",
      "Split: 1\n",
      "Split: 2\n",
      "Split: 3\n",
      "Split: 4\n",
      "Split: 5\n",
      "Split: 6\n",
      "Split: 7\n",
      "Split: 8\n",
      "Split: 9\n",
      "Split: 10\n",
      "Training Testing Accuracy for n_games=2 team=9 : 59.24% (8.86%)\n",
      "(192, 386)\n",
      "(192, 1)\n",
      "X_train shape: (172, 689)\n",
      "X_test shape: (20, 689)\n",
      "Fitting 10 folds for each of 12 candidates, totalling 120 fits\n"
     ]
    },
    {
     "name": "stderr",
     "output_type": "stream",
     "text": [
      "[Parallel(n_jobs=1)]: Using backend SequentialBackend with 1 concurrent workers.\n",
      "[Parallel(n_jobs=1)]: Done 120 out of 120 | elapsed:   11.8s finished\n"
     ]
    },
    {
     "name": "stdout",
     "output_type": "stream",
     "text": [
      "best score: 0.6918604651162791\n",
      "Fitting 10 folds for each of 12 candidates, totalling 120 fits\n"
     ]
    },
    {
     "name": "stderr",
     "output_type": "stream",
     "text": [
      "[Parallel(n_jobs=1)]: Using backend SequentialBackend with 1 concurrent workers.\n",
      "[Parallel(n_jobs=1)]: Done 120 out of 120 | elapsed:   30.4s finished\n"
     ]
    },
    {
     "name": "stdout",
     "output_type": "stream",
     "text": [
      "best score: 0.6918604651162791\n",
      "Fitting 10 folds for each of 12 candidates, totalling 120 fits\n"
     ]
    },
    {
     "name": "stderr",
     "output_type": "stream",
     "text": [
      "[Parallel(n_jobs=1)]: Using backend SequentialBackend with 1 concurrent workers.\n",
      "[Parallel(n_jobs=1)]: Done 120 out of 120 | elapsed:   10.2s finished\n"
     ]
    },
    {
     "name": "stdout",
     "output_type": "stream",
     "text": [
      "best score: 0.6918604651162791\n",
      "Fitting 10 folds for each of 12 candidates, totalling 120 fits\n"
     ]
    },
    {
     "name": "stderr",
     "output_type": "stream",
     "text": [
      "[Parallel(n_jobs=1)]: Using backend SequentialBackend with 1 concurrent workers.\n",
      "[Parallel(n_jobs=1)]: Done 120 out of 120 | elapsed:   11.0s finished\n"
     ]
    },
    {
     "name": "stdout",
     "output_type": "stream",
     "text": [
      "best score: 0.6918604651162791\n",
      "Fitting 10 folds for each of 12 candidates, totalling 120 fits\n"
     ]
    },
    {
     "name": "stderr",
     "output_type": "stream",
     "text": [
      "[Parallel(n_jobs=1)]: Using backend SequentialBackend with 1 concurrent workers.\n",
      "[Parallel(n_jobs=1)]: Done 120 out of 120 | elapsed:   12.8s finished\n"
     ]
    },
    {
     "name": "stdout",
     "output_type": "stream",
     "text": [
      "best score: 0.7267441860465116\n",
      "Split: 1\n",
      "Split: 2\n",
      "Split: 3\n",
      "Split: 4\n",
      "Split: 5\n",
      "Split: 6\n",
      "Split: 7\n",
      "Split: 8\n",
      "Split: 9\n",
      "Split: 10\n",
      "Training Testing Accuracy for n_games=2 team=10 : 66.63% (10.29%)\n",
      "(184, 386)\n",
      "(184, 1)\n",
      "X_train shape: (165, 691)\n",
      "X_test shape: (19, 691)\n",
      "Fitting 10 folds for each of 12 candidates, totalling 120 fits\n"
     ]
    },
    {
     "name": "stderr",
     "output_type": "stream",
     "text": [
      "[Parallel(n_jobs=1)]: Using backend SequentialBackend with 1 concurrent workers.\n",
      "[Parallel(n_jobs=1)]: Done 120 out of 120 | elapsed:   12.1s finished\n"
     ]
    },
    {
     "name": "stdout",
     "output_type": "stream",
     "text": [
      "best score: 0.5636363636363636\n",
      "Fitting 10 folds for each of 12 candidates, totalling 120 fits\n"
     ]
    },
    {
     "name": "stderr",
     "output_type": "stream",
     "text": [
      "[Parallel(n_jobs=1)]: Using backend SequentialBackend with 1 concurrent workers.\n",
      "[Parallel(n_jobs=1)]: Done 120 out of 120 | elapsed:   11.3s finished\n"
     ]
    },
    {
     "name": "stdout",
     "output_type": "stream",
     "text": [
      "best score: 0.5636363636363636\n",
      "Fitting 10 folds for each of 12 candidates, totalling 120 fits\n"
     ]
    },
    {
     "name": "stderr",
     "output_type": "stream",
     "text": [
      "[Parallel(n_jobs=1)]: Using backend SequentialBackend with 1 concurrent workers.\n",
      "[Parallel(n_jobs=1)]: Done 120 out of 120 | elapsed:    9.5s finished\n"
     ]
    },
    {
     "name": "stdout",
     "output_type": "stream",
     "text": [
      "best score: 0.5636363636363636\n",
      "Fitting 10 folds for each of 12 candidates, totalling 120 fits\n"
     ]
    },
    {
     "name": "stderr",
     "output_type": "stream",
     "text": [
      "[Parallel(n_jobs=1)]: Using backend SequentialBackend with 1 concurrent workers.\n",
      "[Parallel(n_jobs=1)]: Done 120 out of 120 | elapsed:    9.6s finished\n"
     ]
    },
    {
     "name": "stdout",
     "output_type": "stream",
     "text": [
      "best score: 0.5636363636363636\n",
      "Fitting 10 folds for each of 12 candidates, totalling 120 fits\n"
     ]
    },
    {
     "name": "stderr",
     "output_type": "stream",
     "text": [
      "[Parallel(n_jobs=1)]: Using backend SequentialBackend with 1 concurrent workers.\n",
      "[Parallel(n_jobs=1)]: Done 120 out of 120 | elapsed:   10.2s finished\n"
     ]
    },
    {
     "name": "stdout",
     "output_type": "stream",
     "text": [
      "best score: 0.5636363636363636\n",
      "Split: 1\n",
      "Split: 2\n",
      "Split: 3\n",
      "Split: 4\n",
      "Split: 5\n",
      "Split: 6\n",
      "Split: 7\n",
      "Split: 8\n",
      "Split: 9\n",
      "Split: 10\n",
      "Training Testing Accuracy for n_games=2 team=11 : 55.96% (1.53%)\n",
      "(185, 386)\n",
      "(185, 1)\n",
      "X_train shape: (166, 686)\n",
      "X_test shape: (19, 686)\n",
      "Fitting 10 folds for each of 12 candidates, totalling 120 fits\n"
     ]
    },
    {
     "name": "stderr",
     "output_type": "stream",
     "text": [
      "[Parallel(n_jobs=1)]: Using backend SequentialBackend with 1 concurrent workers.\n",
      "[Parallel(n_jobs=1)]: Done 120 out of 120 | elapsed:   12.2s finished\n"
     ]
    },
    {
     "name": "stdout",
     "output_type": "stream",
     "text": [
      "best score: 0.5602409638554217\n",
      "Fitting 10 folds for each of 12 candidates, totalling 120 fits\n"
     ]
    },
    {
     "name": "stderr",
     "output_type": "stream",
     "text": [
      "[Parallel(n_jobs=1)]: Using backend SequentialBackend with 1 concurrent workers.\n",
      "[Parallel(n_jobs=1)]: Done 120 out of 120 | elapsed:    8.9s finished\n"
     ]
    },
    {
     "name": "stdout",
     "output_type": "stream",
     "text": [
      "best score: 0.5602409638554217\n",
      "Fitting 10 folds for each of 12 candidates, totalling 120 fits\n"
     ]
    },
    {
     "name": "stderr",
     "output_type": "stream",
     "text": [
      "[Parallel(n_jobs=1)]: Using backend SequentialBackend with 1 concurrent workers.\n",
      "[Parallel(n_jobs=1)]: Done 120 out of 120 | elapsed:    9.4s finished\n"
     ]
    },
    {
     "name": "stdout",
     "output_type": "stream",
     "text": [
      "best score: 0.5602409638554217\n",
      "Fitting 10 folds for each of 12 candidates, totalling 120 fits\n"
     ]
    },
    {
     "name": "stderr",
     "output_type": "stream",
     "text": [
      "[Parallel(n_jobs=1)]: Using backend SequentialBackend with 1 concurrent workers.\n",
      "[Parallel(n_jobs=1)]: Done 120 out of 120 | elapsed:    9.1s finished\n"
     ]
    },
    {
     "name": "stdout",
     "output_type": "stream",
     "text": [
      "best score: 0.5662650602409639\n",
      "Fitting 10 folds for each of 12 candidates, totalling 120 fits\n"
     ]
    },
    {
     "name": "stderr",
     "output_type": "stream",
     "text": [
      "[Parallel(n_jobs=1)]: Using backend SequentialBackend with 1 concurrent workers.\n",
      "[Parallel(n_jobs=1)]: Done 120 out of 120 | elapsed:    8.5s finished\n"
     ]
    },
    {
     "name": "stdout",
     "output_type": "stream",
     "text": [
      "best score: 0.572289156626506\n",
      "Split: 1\n",
      "Split: 2\n",
      "Split: 3\n",
      "Split: 4\n",
      "Split: 5\n",
      "Split: 6\n",
      "Split: 7\n",
      "Split: 8\n",
      "Split: 9\n",
      "Split: 10\n",
      "Training Testing Accuracy for n_games=2 team=12 : 51.96% (16.20%)\n",
      "(186, 386)\n",
      "(186, 1)\n",
      "X_train shape: (167, 695)\n",
      "X_test shape: (19, 695)\n",
      "Fitting 10 folds for each of 12 candidates, totalling 120 fits\n"
     ]
    },
    {
     "name": "stderr",
     "output_type": "stream",
     "text": [
      "[Parallel(n_jobs=1)]: Using backend SequentialBackend with 1 concurrent workers.\n",
      "[Parallel(n_jobs=1)]: Done 120 out of 120 | elapsed:   12.1s finished\n"
     ]
    },
    {
     "name": "stdout",
     "output_type": "stream",
     "text": [
      "best score: 0.5988023952095808\n",
      "Fitting 10 folds for each of 12 candidates, totalling 120 fits\n"
     ]
    },
    {
     "name": "stderr",
     "output_type": "stream",
     "text": [
      "[Parallel(n_jobs=1)]: Using backend SequentialBackend with 1 concurrent workers.\n",
      "[Parallel(n_jobs=1)]: Done 120 out of 120 | elapsed:   16.7s finished\n"
     ]
    },
    {
     "name": "stdout",
     "output_type": "stream",
     "text": [
      "best score: 0.6167664670658682\n",
      "Fitting 10 folds for each of 12 candidates, totalling 120 fits\n"
     ]
    },
    {
     "name": "stderr",
     "output_type": "stream",
     "text": [
      "[Parallel(n_jobs=1)]: Using backend SequentialBackend with 1 concurrent workers.\n",
      "[Parallel(n_jobs=1)]: Done 120 out of 120 | elapsed:   12.5s finished\n"
     ]
    },
    {
     "name": "stdout",
     "output_type": "stream",
     "text": [
      "best score: 0.6167664670658682\n",
      "Fitting 10 folds for each of 12 candidates, totalling 120 fits\n"
     ]
    },
    {
     "name": "stderr",
     "output_type": "stream",
     "text": [
      "[Parallel(n_jobs=1)]: Using backend SequentialBackend with 1 concurrent workers.\n",
      "[Parallel(n_jobs=1)]: Done 120 out of 120 | elapsed:   12.3s finished\n"
     ]
    },
    {
     "name": "stdout",
     "output_type": "stream",
     "text": [
      "best score: 0.6167664670658682\n",
      "Fitting 10 folds for each of 12 candidates, totalling 120 fits\n"
     ]
    },
    {
     "name": "stderr",
     "output_type": "stream",
     "text": [
      "[Parallel(n_jobs=1)]: Using backend SequentialBackend with 1 concurrent workers.\n",
      "[Parallel(n_jobs=1)]: Done 120 out of 120 | elapsed:   13.3s finished\n"
     ]
    },
    {
     "name": "stdout",
     "output_type": "stream",
     "text": [
      "best score: 0.6227544910179641\n",
      "Split: 1\n",
      "Split: 2\n",
      "Split: 3\n",
      "Split: 4\n",
      "Split: 5\n",
      "Split: 6\n",
      "Split: 7\n",
      "Split: 8\n",
      "Split: 9\n",
      "Split: 10\n",
      "Training Testing Accuracy for n_games=2 team=13 : 59.15% (7.52%)\n",
      "(189, 386)\n",
      "(189, 1)\n",
      "X_train shape: (170, 689)\n",
      "X_test shape: (19, 689)\n",
      "Fitting 10 folds for each of 12 candidates, totalling 120 fits\n"
     ]
    },
    {
     "name": "stderr",
     "output_type": "stream",
     "text": [
      "[Parallel(n_jobs=1)]: Using backend SequentialBackend with 1 concurrent workers.\n",
      "[Parallel(n_jobs=1)]: Done 120 out of 120 | elapsed:   12.4s finished\n"
     ]
    },
    {
     "name": "stdout",
     "output_type": "stream",
     "text": [
      "best score: 0.6235294117647059\n",
      "Fitting 10 folds for each of 12 candidates, totalling 120 fits\n"
     ]
    },
    {
     "name": "stderr",
     "output_type": "stream",
     "text": [
      "[Parallel(n_jobs=1)]: Using backend SequentialBackend with 1 concurrent workers.\n",
      "[Parallel(n_jobs=1)]: Done 120 out of 120 | elapsed:    9.2s finished\n"
     ]
    },
    {
     "name": "stdout",
     "output_type": "stream",
     "text": [
      "best score: 0.6235294117647059\n",
      "Fitting 10 folds for each of 12 candidates, totalling 120 fits\n"
     ]
    },
    {
     "name": "stderr",
     "output_type": "stream",
     "text": [
      "[Parallel(n_jobs=1)]: Using backend SequentialBackend with 1 concurrent workers.\n",
      "[Parallel(n_jobs=1)]: Done 120 out of 120 | elapsed:   27.3s finished\n"
     ]
    },
    {
     "name": "stdout",
     "output_type": "stream",
     "text": [
      "best score: 0.6470588235294118\n",
      "Fitting 10 folds for each of 12 candidates, totalling 120 fits\n"
     ]
    },
    {
     "name": "stderr",
     "output_type": "stream",
     "text": [
      "[Parallel(n_jobs=1)]: Using backend SequentialBackend with 1 concurrent workers.\n",
      "[Parallel(n_jobs=1)]: Done 120 out of 120 | elapsed:   13.6s finished\n"
     ]
    },
    {
     "name": "stdout",
     "output_type": "stream",
     "text": [
      "best score: 0.6470588235294118\n",
      "Fitting 10 folds for each of 12 candidates, totalling 120 fits\n"
     ]
    },
    {
     "name": "stderr",
     "output_type": "stream",
     "text": [
      "[Parallel(n_jobs=1)]: Using backend SequentialBackend with 1 concurrent workers.\n",
      "[Parallel(n_jobs=1)]: Done 120 out of 120 | elapsed:    7.8s finished\n"
     ]
    },
    {
     "name": "stdout",
     "output_type": "stream",
     "text": [
      "best score: 0.6470588235294118\n",
      "Split: 1\n",
      "Split: 2\n",
      "Split: 3\n",
      "Split: 4\n",
      "Split: 5\n",
      "Split: 6\n",
      "Split: 7\n",
      "Split: 8\n",
      "Split: 9\n",
      "Split: 10\n",
      "Training Testing Accuracy for n_games=2 team=14 : 65.58% (6.87%)\n",
      "(178, 386)\n",
      "(178, 1)\n",
      "X_train shape: (160, 689)\n",
      "X_test shape: (18, 689)\n",
      "Fitting 10 folds for each of 12 candidates, totalling 120 fits\n"
     ]
    },
    {
     "name": "stderr",
     "output_type": "stream",
     "text": [
      "[Parallel(n_jobs=1)]: Using backend SequentialBackend with 1 concurrent workers.\n",
      "[Parallel(n_jobs=1)]: Done 120 out of 120 | elapsed:   11.6s finished\n"
     ]
    },
    {
     "name": "stdout",
     "output_type": "stream",
     "text": [
      "best score: 0.63125\n",
      "Fitting 10 folds for each of 12 candidates, totalling 120 fits\n"
     ]
    },
    {
     "name": "stderr",
     "output_type": "stream",
     "text": [
      "[Parallel(n_jobs=1)]: Using backend SequentialBackend with 1 concurrent workers.\n",
      "[Parallel(n_jobs=1)]: Done 120 out of 120 | elapsed:   12.6s finished\n"
     ]
    },
    {
     "name": "stdout",
     "output_type": "stream",
     "text": [
      "best score: 0.63125\n",
      "Fitting 10 folds for each of 12 candidates, totalling 120 fits\n"
     ]
    },
    {
     "name": "stderr",
     "output_type": "stream",
     "text": [
      "[Parallel(n_jobs=1)]: Using backend SequentialBackend with 1 concurrent workers.\n",
      "[Parallel(n_jobs=1)]: Done 120 out of 120 | elapsed:    9.9s finished\n"
     ]
    },
    {
     "name": "stdout",
     "output_type": "stream",
     "text": [
      "best score: 0.63125\n",
      "Fitting 10 folds for each of 12 candidates, totalling 120 fits\n"
     ]
    },
    {
     "name": "stderr",
     "output_type": "stream",
     "text": [
      "[Parallel(n_jobs=1)]: Using backend SequentialBackend with 1 concurrent workers.\n",
      "[Parallel(n_jobs=1)]: Done 120 out of 120 | elapsed:   11.0s finished\n"
     ]
    },
    {
     "name": "stdout",
     "output_type": "stream",
     "text": [
      "best score: 0.6375\n",
      "Fitting 10 folds for each of 12 candidates, totalling 120 fits\n"
     ]
    },
    {
     "name": "stderr",
     "output_type": "stream",
     "text": [
      "[Parallel(n_jobs=1)]: Using backend SequentialBackend with 1 concurrent workers.\n",
      "[Parallel(n_jobs=1)]: Done 120 out of 120 | elapsed:   21.8s finished\n"
     ]
    },
    {
     "name": "stdout",
     "output_type": "stream",
     "text": [
      "best score: 0.6375\n",
      "Split: 1\n",
      "Split: 2\n",
      "Split: 3\n",
      "Split: 4\n",
      "Split: 5\n",
      "Split: 6\n",
      "Split: 7\n",
      "Split: 8\n",
      "Split: 9\n",
      "Split: 10\n",
      "Training Testing Accuracy for n_games=2 team=15 : 64.64% (5.90%)\n",
      "(194, 386)\n",
      "(194, 1)\n",
      "X_train shape: (174, 696)\n",
      "X_test shape: (20, 696)\n",
      "Fitting 10 folds for each of 12 candidates, totalling 120 fits\n"
     ]
    },
    {
     "name": "stderr",
     "output_type": "stream",
     "text": [
      "[Parallel(n_jobs=1)]: Using backend SequentialBackend with 1 concurrent workers.\n",
      "[Parallel(n_jobs=1)]: Done 120 out of 120 | elapsed:   12.1s finished\n"
     ]
    },
    {
     "name": "stdout",
     "output_type": "stream",
     "text": [
      "best score: 0.6379310344827587\n",
      "Fitting 10 folds for each of 12 candidates, totalling 120 fits\n"
     ]
    },
    {
     "name": "stderr",
     "output_type": "stream",
     "text": [
      "[Parallel(n_jobs=1)]: Using backend SequentialBackend with 1 concurrent workers.\n",
      "[Parallel(n_jobs=1)]: Done 120 out of 120 | elapsed:   13.0s finished\n"
     ]
    },
    {
     "name": "stdout",
     "output_type": "stream",
     "text": [
      "best score: 0.6379310344827587\n",
      "Fitting 10 folds for each of 12 candidates, totalling 120 fits\n"
     ]
    },
    {
     "name": "stderr",
     "output_type": "stream",
     "text": [
      "[Parallel(n_jobs=1)]: Using backend SequentialBackend with 1 concurrent workers.\n",
      "[Parallel(n_jobs=1)]: Done 120 out of 120 | elapsed:   15.6s finished\n"
     ]
    },
    {
     "name": "stdout",
     "output_type": "stream",
     "text": [
      "best score: 0.6379310344827587\n",
      "Fitting 10 folds for each of 12 candidates, totalling 120 fits\n"
     ]
    },
    {
     "name": "stderr",
     "output_type": "stream",
     "text": [
      "[Parallel(n_jobs=1)]: Using backend SequentialBackend with 1 concurrent workers.\n",
      "[Parallel(n_jobs=1)]: Done 120 out of 120 | elapsed:    9.0s finished\n"
     ]
    },
    {
     "name": "stdout",
     "output_type": "stream",
     "text": [
      "best score: 0.6379310344827587\n",
      "Fitting 10 folds for each of 12 candidates, totalling 120 fits\n"
     ]
    },
    {
     "name": "stderr",
     "output_type": "stream",
     "text": [
      "[Parallel(n_jobs=1)]: Using backend SequentialBackend with 1 concurrent workers.\n",
      "[Parallel(n_jobs=1)]: Done 120 out of 120 | elapsed:   10.1s finished\n"
     ]
    },
    {
     "name": "stdout",
     "output_type": "stream",
     "text": [
      "best score: 0.6379310344827587\n",
      "Split: 1\n",
      "Split: 2\n",
      "Split: 3\n",
      "Split: 4\n",
      "Split: 5\n",
      "Split: 6\n",
      "Split: 7\n",
      "Split: 8\n",
      "Split: 9\n",
      "Split: 10\n",
      "Training Testing Accuracy for n_games=2 team=16 : 63.89% (0.90%)\n",
      "(189, 386)\n",
      "(189, 1)\n",
      "X_train shape: (170, 688)\n",
      "X_test shape: (19, 688)\n",
      "Fitting 10 folds for each of 12 candidates, totalling 120 fits\n"
     ]
    },
    {
     "name": "stderr",
     "output_type": "stream",
     "text": [
      "[Parallel(n_jobs=1)]: Using backend SequentialBackend with 1 concurrent workers.\n",
      "[Parallel(n_jobs=1)]: Done 120 out of 120 | elapsed:   11.8s finished\n"
     ]
    },
    {
     "name": "stdout",
     "output_type": "stream",
     "text": [
      "best score: 0.6411764705882353\n",
      "Fitting 10 folds for each of 12 candidates, totalling 120 fits\n"
     ]
    },
    {
     "name": "stderr",
     "output_type": "stream",
     "text": [
      "[Parallel(n_jobs=1)]: Using backend SequentialBackend with 1 concurrent workers.\n",
      "[Parallel(n_jobs=1)]: Done 120 out of 120 | elapsed:   11.7s finished\n"
     ]
    },
    {
     "name": "stdout",
     "output_type": "stream",
     "text": [
      "best score: 0.6411764705882353\n",
      "Fitting 10 folds for each of 12 candidates, totalling 120 fits\n"
     ]
    },
    {
     "name": "stderr",
     "output_type": "stream",
     "text": [
      "[Parallel(n_jobs=1)]: Using backend SequentialBackend with 1 concurrent workers.\n",
      "[Parallel(n_jobs=1)]: Done 120 out of 120 | elapsed:    8.4s finished\n"
     ]
    },
    {
     "name": "stdout",
     "output_type": "stream",
     "text": [
      "best score: 0.6411764705882353\n",
      "Fitting 10 folds for each of 12 candidates, totalling 120 fits\n"
     ]
    },
    {
     "name": "stderr",
     "output_type": "stream",
     "text": [
      "[Parallel(n_jobs=1)]: Using backend SequentialBackend with 1 concurrent workers.\n",
      "[Parallel(n_jobs=1)]: Done 120 out of 120 | elapsed:   17.8s finished\n"
     ]
    },
    {
     "name": "stdout",
     "output_type": "stream",
     "text": [
      "best score: 0.6411764705882353\n",
      "Fitting 10 folds for each of 12 candidates, totalling 120 fits\n"
     ]
    },
    {
     "name": "stderr",
     "output_type": "stream",
     "text": [
      "[Parallel(n_jobs=1)]: Using backend SequentialBackend with 1 concurrent workers.\n",
      "[Parallel(n_jobs=1)]: Done 120 out of 120 | elapsed:    8.6s finished\n"
     ]
    },
    {
     "name": "stdout",
     "output_type": "stream",
     "text": [
      "best score: 0.6411764705882353\n",
      "Split: 1\n",
      "Split: 2\n",
      "Split: 3\n",
      "Split: 4\n",
      "Split: 5\n",
      "Split: 6\n",
      "Split: 7\n",
      "Split: 8\n",
      "Split: 9\n",
      "Split: 10\n",
      "Training Testing Accuracy for n_games=2 team=17 : 63.48% (6.89%)\n",
      "(188, 386)\n",
      "(188, 1)\n",
      "X_train shape: (169, 700)\n",
      "X_test shape: (19, 700)\n",
      "Fitting 10 folds for each of 12 candidates, totalling 120 fits\n"
     ]
    },
    {
     "name": "stderr",
     "output_type": "stream",
     "text": [
      "[Parallel(n_jobs=1)]: Using backend SequentialBackend with 1 concurrent workers.\n",
      "[Parallel(n_jobs=1)]: Done 120 out of 120 | elapsed:   12.1s finished\n"
     ]
    },
    {
     "name": "stdout",
     "output_type": "stream",
     "text": [
      "best score: 0.5739644970414202\n",
      "Fitting 10 folds for each of 12 candidates, totalling 120 fits\n"
     ]
    },
    {
     "name": "stderr",
     "output_type": "stream",
     "text": [
      "[Parallel(n_jobs=1)]: Using backend SequentialBackend with 1 concurrent workers.\n",
      "[Parallel(n_jobs=1)]: Done 120 out of 120 | elapsed:    8.9s finished\n"
     ]
    },
    {
     "name": "stdout",
     "output_type": "stream",
     "text": [
      "best score: 0.5739644970414202\n",
      "Fitting 10 folds for each of 12 candidates, totalling 120 fits\n"
     ]
    },
    {
     "name": "stderr",
     "output_type": "stream",
     "text": [
      "[Parallel(n_jobs=1)]: Using backend SequentialBackend with 1 concurrent workers.\n",
      "[Parallel(n_jobs=1)]: Done 120 out of 120 | elapsed:   10.8s finished\n"
     ]
    },
    {
     "name": "stdout",
     "output_type": "stream",
     "text": [
      "best score: 0.5739644970414202\n",
      "Fitting 10 folds for each of 12 candidates, totalling 120 fits\n"
     ]
    },
    {
     "name": "stderr",
     "output_type": "stream",
     "text": [
      "[Parallel(n_jobs=1)]: Using backend SequentialBackend with 1 concurrent workers.\n",
      "[Parallel(n_jobs=1)]: Done 120 out of 120 | elapsed:    9.4s finished\n"
     ]
    },
    {
     "name": "stdout",
     "output_type": "stream",
     "text": [
      "best score: 0.5739644970414202\n",
      "Fitting 10 folds for each of 12 candidates, totalling 120 fits\n"
     ]
    },
    {
     "name": "stderr",
     "output_type": "stream",
     "text": [
      "[Parallel(n_jobs=1)]: Using backend SequentialBackend with 1 concurrent workers.\n",
      "[Parallel(n_jobs=1)]: Done 120 out of 120 | elapsed:   18.9s finished\n"
     ]
    },
    {
     "name": "stdout",
     "output_type": "stream",
     "text": [
      "best score: 0.5739644970414202\n",
      "Split: 1\n",
      "Split: 2\n",
      "Split: 3\n",
      "Split: 4\n",
      "Split: 5\n",
      "Split: 6\n",
      "Split: 7\n",
      "Split: 8\n",
      "Split: 9\n",
      "Split: 10\n",
      "Training Testing Accuracy for n_games=2 team=18 : 57.87% (10.09%)\n",
      "Accuracy for Team Models for n_games= 2 : 61.87% (5.47%)\n",
      "(183, 572)\n",
      "(183, 1)\n",
      "X_train shape: (164, 996)\n",
      "X_test shape: (19, 996)\n",
      "Fitting 10 folds for each of 12 candidates, totalling 120 fits\n"
     ]
    },
    {
     "name": "stderr",
     "output_type": "stream",
     "text": [
      "[Parallel(n_jobs=1)]: Using backend SequentialBackend with 1 concurrent workers.\n",
      "[Parallel(n_jobs=1)]: Done 120 out of 120 | elapsed:   16.6s finished\n"
     ]
    },
    {
     "name": "stdout",
     "output_type": "stream",
     "text": [
      "best score: 0.5304878048780488\n",
      "Fitting 10 folds for each of 12 candidates, totalling 120 fits\n"
     ]
    },
    {
     "name": "stderr",
     "output_type": "stream",
     "text": [
      "[Parallel(n_jobs=1)]: Using backend SequentialBackend with 1 concurrent workers.\n",
      "[Parallel(n_jobs=1)]: Done 120 out of 120 | elapsed:   11.1s finished\n"
     ]
    },
    {
     "name": "stdout",
     "output_type": "stream",
     "text": [
      "best score: 0.5975609756097561\n",
      "Fitting 10 folds for each of 12 candidates, totalling 120 fits\n"
     ]
    },
    {
     "name": "stderr",
     "output_type": "stream",
     "text": [
      "[Parallel(n_jobs=1)]: Using backend SequentialBackend with 1 concurrent workers.\n",
      "[Parallel(n_jobs=1)]: Done 120 out of 120 | elapsed:   13.2s finished\n"
     ]
    },
    {
     "name": "stdout",
     "output_type": "stream",
     "text": [
      "best score: 0.5975609756097561\n",
      "Fitting 10 folds for each of 12 candidates, totalling 120 fits\n"
     ]
    },
    {
     "name": "stderr",
     "output_type": "stream",
     "text": [
      "[Parallel(n_jobs=1)]: Using backend SequentialBackend with 1 concurrent workers.\n",
      "[Parallel(n_jobs=1)]: Done 120 out of 120 | elapsed:   11.7s finished\n"
     ]
    },
    {
     "name": "stdout",
     "output_type": "stream",
     "text": [
      "best score: 0.5975609756097561\n",
      "Fitting 10 folds for each of 12 candidates, totalling 120 fits\n"
     ]
    },
    {
     "name": "stderr",
     "output_type": "stream",
     "text": [
      "[Parallel(n_jobs=1)]: Using backend SequentialBackend with 1 concurrent workers.\n",
      "[Parallel(n_jobs=1)]: Done 120 out of 120 | elapsed:   11.7s finished\n"
     ]
    },
    {
     "name": "stdout",
     "output_type": "stream",
     "text": [
      "best score: 0.5975609756097561\n",
      "Split: 1\n",
      "Split: 2\n",
      "Split: 3\n",
      "Split: 4\n",
      "Split: 5\n",
      "Split: 6\n",
      "Split: 7\n",
      "Split: 8\n",
      "Split: 9\n",
      "Split: 10\n",
      "Training Testing Accuracy for n_games=3 team=1 : 49.71% (8.90%)\n",
      "(181, 572)\n",
      "(181, 1)\n",
      "X_train shape: (162, 984)\n",
      "X_test shape: (19, 984)\n",
      "Fitting 10 folds for each of 12 candidates, totalling 120 fits\n"
     ]
    },
    {
     "name": "stderr",
     "output_type": "stream",
     "text": [
      "[Parallel(n_jobs=1)]: Using backend SequentialBackend with 1 concurrent workers.\n",
      "[Parallel(n_jobs=1)]: Done 120 out of 120 | elapsed:   15.8s finished\n"
     ]
    },
    {
     "name": "stdout",
     "output_type": "stream",
     "text": [
      "best score: 0.6666666666666666\n",
      "Fitting 10 folds for each of 12 candidates, totalling 120 fits\n"
     ]
    },
    {
     "name": "stderr",
     "output_type": "stream",
     "text": [
      "[Parallel(n_jobs=1)]: Using backend SequentialBackend with 1 concurrent workers.\n",
      "[Parallel(n_jobs=1)]: Done 120 out of 120 | elapsed:   13.8s finished\n"
     ]
    },
    {
     "name": "stdout",
     "output_type": "stream",
     "text": [
      "best score: 0.6666666666666666\n",
      "Fitting 10 folds for each of 12 candidates, totalling 120 fits\n"
     ]
    },
    {
     "name": "stderr",
     "output_type": "stream",
     "text": [
      "[Parallel(n_jobs=1)]: Using backend SequentialBackend with 1 concurrent workers.\n",
      "[Parallel(n_jobs=1)]: Done 120 out of 120 | elapsed:   14.0s finished\n"
     ]
    },
    {
     "name": "stdout",
     "output_type": "stream",
     "text": [
      "best score: 0.6666666666666666\n",
      "Fitting 10 folds for each of 12 candidates, totalling 120 fits\n"
     ]
    },
    {
     "name": "stderr",
     "output_type": "stream",
     "text": [
      "[Parallel(n_jobs=1)]: Using backend SequentialBackend with 1 concurrent workers.\n",
      "[Parallel(n_jobs=1)]: Done 120 out of 120 | elapsed:   11.7s finished\n"
     ]
    },
    {
     "name": "stdout",
     "output_type": "stream",
     "text": [
      "best score: 0.6666666666666666\n",
      "Fitting 10 folds for each of 12 candidates, totalling 120 fits\n"
     ]
    },
    {
     "name": "stderr",
     "output_type": "stream",
     "text": [
      "[Parallel(n_jobs=1)]: Using backend SequentialBackend with 1 concurrent workers.\n",
      "[Parallel(n_jobs=1)]: Done 120 out of 120 | elapsed:   13.3s finished\n"
     ]
    },
    {
     "name": "stdout",
     "output_type": "stream",
     "text": [
      "best score: 0.6790123456790124\n",
      "Split: 1\n",
      "Split: 2\n",
      "Split: 3\n",
      "Split: 4\n",
      "Split: 5\n",
      "Split: 6\n",
      "Split: 7\n",
      "Split: 8\n",
      "Split: 9\n",
      "Split: 10\n",
      "Training Testing Accuracy for n_games=3 team=2 : 67.37% (9.53%)\n",
      "(179, 572)\n",
      "(179, 1)\n",
      "X_train shape: (161, 984)\n",
      "X_test shape: (18, 984)\n",
      "Fitting 10 folds for each of 12 candidates, totalling 120 fits\n"
     ]
    },
    {
     "name": "stderr",
     "output_type": "stream",
     "text": [
      "[Parallel(n_jobs=1)]: Using backend SequentialBackend with 1 concurrent workers.\n",
      "[Parallel(n_jobs=1)]: Done 120 out of 120 | elapsed:   15.5s finished\n"
     ]
    },
    {
     "name": "stdout",
     "output_type": "stream",
     "text": [
      "best score: 0.6708074534161491\n",
      "Fitting 10 folds for each of 12 candidates, totalling 120 fits\n"
     ]
    },
    {
     "name": "stderr",
     "output_type": "stream",
     "text": [
      "[Parallel(n_jobs=1)]: Using backend SequentialBackend with 1 concurrent workers.\n",
      "[Parallel(n_jobs=1)]: Done 120 out of 120 | elapsed:   11.8s finished\n"
     ]
    },
    {
     "name": "stdout",
     "output_type": "stream",
     "text": [
      "best score: 0.6708074534161491\n",
      "Fitting 10 folds for each of 12 candidates, totalling 120 fits\n"
     ]
    },
    {
     "name": "stderr",
     "output_type": "stream",
     "text": [
      "[Parallel(n_jobs=1)]: Using backend SequentialBackend with 1 concurrent workers.\n",
      "[Parallel(n_jobs=1)]: Done 120 out of 120 | elapsed:   13.5s finished\n"
     ]
    },
    {
     "name": "stdout",
     "output_type": "stream",
     "text": [
      "best score: 0.6708074534161491\n",
      "Fitting 10 folds for each of 12 candidates, totalling 120 fits\n"
     ]
    },
    {
     "name": "stderr",
     "output_type": "stream",
     "text": [
      "[Parallel(n_jobs=1)]: Using backend SequentialBackend with 1 concurrent workers.\n",
      "[Parallel(n_jobs=1)]: Done 120 out of 120 | elapsed:   21.5s finished\n"
     ]
    },
    {
     "name": "stdout",
     "output_type": "stream",
     "text": [
      "best score: 0.6708074534161491\n",
      "Fitting 10 folds for each of 12 candidates, totalling 120 fits\n"
     ]
    },
    {
     "name": "stderr",
     "output_type": "stream",
     "text": [
      "[Parallel(n_jobs=1)]: Using backend SequentialBackend with 1 concurrent workers.\n",
      "[Parallel(n_jobs=1)]: Done 120 out of 120 | elapsed:   14.2s finished\n"
     ]
    },
    {
     "name": "stdout",
     "output_type": "stream",
     "text": [
      "best score: 0.6708074534161491\n",
      "Split: 1\n",
      "Split: 2\n",
      "Split: 3\n",
      "Split: 4\n",
      "Split: 5\n",
      "Split: 6\n",
      "Split: 7\n",
      "Split: 8\n",
      "Split: 9\n",
      "Split: 10\n",
      "Training Testing Accuracy for n_games=3 team=3 : 68.17% (2.33%)\n",
      "(184, 572)\n",
      "(184, 1)\n",
      "X_train shape: (165, 986)\n",
      "X_test shape: (19, 986)\n",
      "Fitting 10 folds for each of 12 candidates, totalling 120 fits\n"
     ]
    },
    {
     "name": "stderr",
     "output_type": "stream",
     "text": [
      "[Parallel(n_jobs=1)]: Using backend SequentialBackend with 1 concurrent workers.\n",
      "[Parallel(n_jobs=1)]: Done 120 out of 120 | elapsed:   15.9s finished\n"
     ]
    },
    {
     "name": "stdout",
     "output_type": "stream",
     "text": [
      "best score: 0.5333333333333333\n",
      "Fitting 10 folds for each of 12 candidates, totalling 120 fits\n"
     ]
    },
    {
     "name": "stderr",
     "output_type": "stream",
     "text": [
      "[Parallel(n_jobs=1)]: Using backend SequentialBackend with 1 concurrent workers.\n",
      "[Parallel(n_jobs=1)]: Done 120 out of 120 | elapsed:   14.5s finished\n"
     ]
    },
    {
     "name": "stdout",
     "output_type": "stream",
     "text": [
      "best score: 0.5333333333333333\n",
      "Fitting 10 folds for each of 12 candidates, totalling 120 fits\n"
     ]
    },
    {
     "name": "stderr",
     "output_type": "stream",
     "text": [
      "[Parallel(n_jobs=1)]: Using backend SequentialBackend with 1 concurrent workers.\n",
      "[Parallel(n_jobs=1)]: Done 120 out of 120 | elapsed:   12.2s finished\n"
     ]
    },
    {
     "name": "stdout",
     "output_type": "stream",
     "text": [
      "best score: 0.5333333333333333\n",
      "Fitting 10 folds for each of 12 candidates, totalling 120 fits\n"
     ]
    },
    {
     "name": "stderr",
     "output_type": "stream",
     "text": [
      "[Parallel(n_jobs=1)]: Using backend SequentialBackend with 1 concurrent workers.\n",
      "[Parallel(n_jobs=1)]: Done 120 out of 120 | elapsed:   11.3s finished\n"
     ]
    },
    {
     "name": "stdout",
     "output_type": "stream",
     "text": [
      "best score: 0.5333333333333333\n",
      "Fitting 10 folds for each of 12 candidates, totalling 120 fits\n"
     ]
    },
    {
     "name": "stderr",
     "output_type": "stream",
     "text": [
      "[Parallel(n_jobs=1)]: Using backend SequentialBackend with 1 concurrent workers.\n",
      "[Parallel(n_jobs=1)]: Done 120 out of 120 | elapsed:   11.9s finished\n"
     ]
    },
    {
     "name": "stdout",
     "output_type": "stream",
     "text": [
      "best score: 0.5757575757575758\n",
      "Split: 1\n",
      "Split: 2\n",
      "Split: 3\n",
      "Split: 4\n",
      "Split: 5\n",
      "Split: 6\n",
      "Split: 7\n",
      "Split: 8\n",
      "Split: 9\n",
      "Split: 10\n",
      "Training Testing Accuracy for n_games=3 team=4 : 53.77% (8.69%)\n",
      "(181, 572)\n",
      "(181, 1)\n",
      "X_train shape: (162, 980)\n",
      "X_test shape: (19, 980)\n",
      "Fitting 10 folds for each of 12 candidates, totalling 120 fits\n"
     ]
    },
    {
     "name": "stderr",
     "output_type": "stream",
     "text": [
      "[Parallel(n_jobs=1)]: Using backend SequentialBackend with 1 concurrent workers.\n",
      "[Parallel(n_jobs=1)]: Done 120 out of 120 | elapsed:   15.8s finished\n"
     ]
    },
    {
     "name": "stdout",
     "output_type": "stream",
     "text": [
      "best score: 0.5617283950617284\n",
      "Fitting 10 folds for each of 12 candidates, totalling 120 fits\n"
     ]
    },
    {
     "name": "stderr",
     "output_type": "stream",
     "text": [
      "[Parallel(n_jobs=1)]: Using backend SequentialBackend with 1 concurrent workers.\n",
      "[Parallel(n_jobs=1)]: Done 120 out of 120 | elapsed:   31.4s finished\n"
     ]
    },
    {
     "name": "stdout",
     "output_type": "stream",
     "text": [
      "best score: 0.5617283950617284\n",
      "Fitting 10 folds for each of 12 candidates, totalling 120 fits\n"
     ]
    },
    {
     "name": "stderr",
     "output_type": "stream",
     "text": [
      "[Parallel(n_jobs=1)]: Using backend SequentialBackend with 1 concurrent workers.\n",
      "[Parallel(n_jobs=1)]: Done 120 out of 120 | elapsed:   13.4s finished\n"
     ]
    },
    {
     "name": "stdout",
     "output_type": "stream",
     "text": [
      "best score: 0.5617283950617284\n",
      "Fitting 10 folds for each of 12 candidates, totalling 120 fits\n"
     ]
    },
    {
     "name": "stderr",
     "output_type": "stream",
     "text": [
      "[Parallel(n_jobs=1)]: Using backend SequentialBackend with 1 concurrent workers.\n",
      "[Parallel(n_jobs=1)]: Done 120 out of 120 | elapsed:   10.3s finished\n"
     ]
    },
    {
     "name": "stdout",
     "output_type": "stream",
     "text": [
      "best score: 0.5617283950617284\n",
      "Fitting 10 folds for each of 12 candidates, totalling 120 fits\n"
     ]
    },
    {
     "name": "stderr",
     "output_type": "stream",
     "text": [
      "[Parallel(n_jobs=1)]: Using backend SequentialBackend with 1 concurrent workers.\n",
      "[Parallel(n_jobs=1)]: Done 120 out of 120 | elapsed:   12.7s finished\n"
     ]
    },
    {
     "name": "stdout",
     "output_type": "stream",
     "text": [
      "best score: 0.5740740740740741\n",
      "Split: 1\n",
      "Split: 2\n",
      "Split: 3\n",
      "Split: 4\n",
      "Split: 5\n",
      "Split: 6\n",
      "Split: 7\n",
      "Split: 8\n",
      "Split: 9\n",
      "Split: 10\n",
      "Training Testing Accuracy for n_games=3 team=5 : 54.68% (10.53%)\n",
      "(184, 572)\n",
      "(184, 1)\n",
      "X_train shape: (165, 995)\n",
      "X_test shape: (19, 995)\n",
      "Fitting 10 folds for each of 12 candidates, totalling 120 fits\n"
     ]
    },
    {
     "name": "stderr",
     "output_type": "stream",
     "text": [
      "[Parallel(n_jobs=1)]: Using backend SequentialBackend with 1 concurrent workers.\n",
      "[Parallel(n_jobs=1)]: Done 120 out of 120 | elapsed:   16.2s finished\n"
     ]
    },
    {
     "name": "stdout",
     "output_type": "stream",
     "text": [
      "best score: 0.6121212121212121\n",
      "Fitting 10 folds for each of 12 candidates, totalling 120 fits\n"
     ]
    },
    {
     "name": "stderr",
     "output_type": "stream",
     "text": [
      "[Parallel(n_jobs=1)]: Using backend SequentialBackend with 1 concurrent workers.\n",
      "[Parallel(n_jobs=1)]: Done 120 out of 120 | elapsed:   13.6s finished\n"
     ]
    },
    {
     "name": "stdout",
     "output_type": "stream",
     "text": [
      "best score: 0.6121212121212121\n",
      "Fitting 10 folds for each of 12 candidates, totalling 120 fits\n"
     ]
    },
    {
     "name": "stderr",
     "output_type": "stream",
     "text": [
      "[Parallel(n_jobs=1)]: Using backend SequentialBackend with 1 concurrent workers.\n",
      "[Parallel(n_jobs=1)]: Done 120 out of 120 | elapsed:   14.8s finished\n"
     ]
    },
    {
     "name": "stdout",
     "output_type": "stream",
     "text": [
      "best score: 0.6121212121212121\n",
      "Fitting 10 folds for each of 12 candidates, totalling 120 fits\n"
     ]
    },
    {
     "name": "stderr",
     "output_type": "stream",
     "text": [
      "[Parallel(n_jobs=1)]: Using backend SequentialBackend with 1 concurrent workers.\n",
      "[Parallel(n_jobs=1)]: Done 120 out of 120 | elapsed:   15.4s finished\n"
     ]
    },
    {
     "name": "stdout",
     "output_type": "stream",
     "text": [
      "best score: 0.6121212121212121\n",
      "Fitting 10 folds for each of 12 candidates, totalling 120 fits\n"
     ]
    },
    {
     "name": "stderr",
     "output_type": "stream",
     "text": [
      "[Parallel(n_jobs=1)]: Using backend SequentialBackend with 1 concurrent workers.\n",
      "[Parallel(n_jobs=1)]: Done 120 out of 120 | elapsed:   20.6s finished\n"
     ]
    },
    {
     "name": "stdout",
     "output_type": "stream",
     "text": [
      "best score: 0.6121212121212121\n",
      "Split: 1\n",
      "Split: 2\n",
      "Split: 3\n",
      "Split: 4\n",
      "Split: 5\n",
      "Split: 6\n",
      "Split: 7\n",
      "Split: 8\n",
      "Split: 9\n",
      "Split: 10\n",
      "Training Testing Accuracy for n_games=3 team=6 : 61.90% (8.66%)\n",
      "(193, 572)\n",
      "(193, 1)\n",
      "X_train shape: (173, 988)\n",
      "X_test shape: (20, 988)\n",
      "Fitting 10 folds for each of 12 candidates, totalling 120 fits\n"
     ]
    },
    {
     "name": "stderr",
     "output_type": "stream",
     "text": [
      "[Parallel(n_jobs=1)]: Using backend SequentialBackend with 1 concurrent workers.\n",
      "[Parallel(n_jobs=1)]: Done 120 out of 120 | elapsed:   15.9s finished\n"
     ]
    },
    {
     "name": "stdout",
     "output_type": "stream",
     "text": [
      "best score: 0.653179190751445\n",
      "Fitting 10 folds for each of 12 candidates, totalling 120 fits\n"
     ]
    },
    {
     "name": "stderr",
     "output_type": "stream",
     "text": [
      "[Parallel(n_jobs=1)]: Using backend SequentialBackend with 1 concurrent workers.\n",
      "[Parallel(n_jobs=1)]: Done 120 out of 120 | elapsed:   39.1s finished\n"
     ]
    },
    {
     "name": "stdout",
     "output_type": "stream",
     "text": [
      "best score: 0.653179190751445\n",
      "Fitting 10 folds for each of 12 candidates, totalling 120 fits\n"
     ]
    },
    {
     "name": "stderr",
     "output_type": "stream",
     "text": [
      "[Parallel(n_jobs=1)]: Using backend SequentialBackend with 1 concurrent workers.\n",
      "[Parallel(n_jobs=1)]: Done 120 out of 120 | elapsed:   11.5s finished\n"
     ]
    },
    {
     "name": "stdout",
     "output_type": "stream",
     "text": [
      "best score: 0.653179190751445\n",
      "Fitting 10 folds for each of 12 candidates, totalling 120 fits\n"
     ]
    },
    {
     "name": "stderr",
     "output_type": "stream",
     "text": [
      "[Parallel(n_jobs=1)]: Using backend SequentialBackend with 1 concurrent workers.\n",
      "[Parallel(n_jobs=1)]: Done 120 out of 120 | elapsed:   11.0s finished\n"
     ]
    },
    {
     "name": "stdout",
     "output_type": "stream",
     "text": [
      "best score: 0.653179190751445\n",
      "Fitting 10 folds for each of 12 candidates, totalling 120 fits\n"
     ]
    },
    {
     "name": "stderr",
     "output_type": "stream",
     "text": [
      "[Parallel(n_jobs=1)]: Using backend SequentialBackend with 1 concurrent workers.\n",
      "[Parallel(n_jobs=1)]: Done 120 out of 120 | elapsed:   21.3s finished\n"
     ]
    },
    {
     "name": "stdout",
     "output_type": "stream",
     "text": [
      "best score: 0.653179190751445\n",
      "Split: 1\n",
      "Split: 2\n",
      "Split: 3\n",
      "Split: 4\n",
      "Split: 5\n",
      "Split: 6\n",
      "Split: 7\n",
      "Split: 8\n",
      "Split: 9\n",
      "Split: 10\n",
      "Training Testing Accuracy for n_games=3 team=7 : 66.34% (2.17%)\n",
      "(177, 572)\n",
      "(177, 1)\n",
      "X_train shape: (159, 991)\n",
      "X_test shape: (18, 991)\n",
      "Fitting 10 folds for each of 12 candidates, totalling 120 fits\n"
     ]
    },
    {
     "name": "stderr",
     "output_type": "stream",
     "text": [
      "[Parallel(n_jobs=1)]: Using backend SequentialBackend with 1 concurrent workers.\n",
      "[Parallel(n_jobs=1)]: Done 120 out of 120 | elapsed:   16.3s finished\n"
     ]
    },
    {
     "name": "stdout",
     "output_type": "stream",
     "text": [
      "best score: 0.710691823899371\n",
      "Fitting 10 folds for each of 12 candidates, totalling 120 fits\n"
     ]
    },
    {
     "name": "stderr",
     "output_type": "stream",
     "text": [
      "[Parallel(n_jobs=1)]: Using backend SequentialBackend with 1 concurrent workers.\n",
      "[Parallel(n_jobs=1)]: Done 120 out of 120 | elapsed:   22.0s finished\n"
     ]
    },
    {
     "name": "stdout",
     "output_type": "stream",
     "text": [
      "best score: 0.710691823899371\n",
      "Fitting 10 folds for each of 12 candidates, totalling 120 fits\n"
     ]
    },
    {
     "name": "stderr",
     "output_type": "stream",
     "text": [
      "[Parallel(n_jobs=1)]: Using backend SequentialBackend with 1 concurrent workers.\n",
      "[Parallel(n_jobs=1)]: Done 120 out of 120 | elapsed:   13.1s finished\n"
     ]
    },
    {
     "name": "stdout",
     "output_type": "stream",
     "text": [
      "best score: 0.710691823899371\n",
      "Fitting 10 folds for each of 12 candidates, totalling 120 fits\n"
     ]
    },
    {
     "name": "stderr",
     "output_type": "stream",
     "text": [
      "[Parallel(n_jobs=1)]: Using backend SequentialBackend with 1 concurrent workers.\n",
      "[Parallel(n_jobs=1)]: Done 120 out of 120 | elapsed:   12.8s finished\n"
     ]
    },
    {
     "name": "stdout",
     "output_type": "stream",
     "text": [
      "best score: 0.710691823899371\n",
      "Fitting 10 folds for each of 12 candidates, totalling 120 fits\n"
     ]
    },
    {
     "name": "stderr",
     "output_type": "stream",
     "text": [
      "[Parallel(n_jobs=1)]: Using backend SequentialBackend with 1 concurrent workers.\n",
      "[Parallel(n_jobs=1)]: Done 120 out of 120 | elapsed:   15.4s finished\n"
     ]
    },
    {
     "name": "stdout",
     "output_type": "stream",
     "text": [
      "best score: 0.710691823899371\n",
      "Split: 1\n",
      "Split: 2\n",
      "Split: 3\n",
      "Split: 4\n",
      "Split: 5\n",
      "Split: 6\n",
      "Split: 7\n",
      "Split: 8\n",
      "Split: 9\n",
      "Split: 10\n",
      "Training Testing Accuracy for n_games=3 team=8 : 75.16% (4.37%)\n",
      "(190, 572)\n",
      "(190, 1)\n",
      "X_train shape: (171, 1001)\n",
      "X_test shape: (19, 1001)\n",
      "Fitting 10 folds for each of 12 candidates, totalling 120 fits\n"
     ]
    },
    {
     "name": "stderr",
     "output_type": "stream",
     "text": [
      "[Parallel(n_jobs=1)]: Using backend SequentialBackend with 1 concurrent workers.\n",
      "[Parallel(n_jobs=1)]: Done 120 out of 120 | elapsed:   16.1s finished\n"
     ]
    },
    {
     "name": "stdout",
     "output_type": "stream",
     "text": [
      "best score: 0.5555555555555556\n",
      "Fitting 10 folds for each of 12 candidates, totalling 120 fits\n"
     ]
    },
    {
     "name": "stderr",
     "output_type": "stream",
     "text": [
      "[Parallel(n_jobs=1)]: Using backend SequentialBackend with 1 concurrent workers.\n",
      "[Parallel(n_jobs=1)]: Done 120 out of 120 | elapsed:   10.8s finished\n"
     ]
    },
    {
     "name": "stdout",
     "output_type": "stream",
     "text": [
      "best score: 0.5555555555555556\n",
      "Fitting 10 folds for each of 12 candidates, totalling 120 fits\n"
     ]
    },
    {
     "name": "stderr",
     "output_type": "stream",
     "text": [
      "[Parallel(n_jobs=1)]: Using backend SequentialBackend with 1 concurrent workers.\n",
      "[Parallel(n_jobs=1)]: Done 120 out of 120 | elapsed:   25.6s finished\n"
     ]
    },
    {
     "name": "stdout",
     "output_type": "stream",
     "text": [
      "best score: 0.5614035087719298\n",
      "Fitting 10 folds for each of 12 candidates, totalling 120 fits\n"
     ]
    },
    {
     "name": "stderr",
     "output_type": "stream",
     "text": [
      "[Parallel(n_jobs=1)]: Using backend SequentialBackend with 1 concurrent workers.\n",
      "[Parallel(n_jobs=1)]: Done 120 out of 120 | elapsed:   14.5s finished\n"
     ]
    },
    {
     "name": "stdout",
     "output_type": "stream",
     "text": [
      "best score: 0.5614035087719298\n",
      "Fitting 10 folds for each of 12 candidates, totalling 120 fits\n"
     ]
    },
    {
     "name": "stderr",
     "output_type": "stream",
     "text": [
      "[Parallel(n_jobs=1)]: Using backend SequentialBackend with 1 concurrent workers.\n",
      "[Parallel(n_jobs=1)]: Done 120 out of 120 | elapsed:   27.4s finished\n"
     ]
    },
    {
     "name": "stdout",
     "output_type": "stream",
     "text": [
      "best score: 0.5614035087719298\n",
      "Split: 1\n",
      "Split: 2\n",
      "Split: 3\n",
      "Split: 4\n",
      "Split: 5\n",
      "Split: 6\n",
      "Split: 7\n",
      "Split: 8\n",
      "Split: 9\n",
      "Split: 10\n",
      "Training Testing Accuracy for n_games=3 team=9 : 61.05% (11.09%)\n",
      "(191, 572)\n",
      "(191, 1)\n",
      "X_train shape: (171, 990)\n",
      "X_test shape: (20, 990)\n",
      "Fitting 10 folds for each of 12 candidates, totalling 120 fits\n"
     ]
    },
    {
     "name": "stderr",
     "output_type": "stream",
     "text": [
      "[Parallel(n_jobs=1)]: Using backend SequentialBackend with 1 concurrent workers.\n",
      "[Parallel(n_jobs=1)]: Done 120 out of 120 | elapsed:   15.9s finished\n"
     ]
    },
    {
     "name": "stdout",
     "output_type": "stream",
     "text": [
      "best score: 0.6432748538011696\n",
      "Fitting 10 folds for each of 12 candidates, totalling 120 fits\n"
     ]
    },
    {
     "name": "stderr",
     "output_type": "stream",
     "text": [
      "[Parallel(n_jobs=1)]: Using backend SequentialBackend with 1 concurrent workers.\n",
      "[Parallel(n_jobs=1)]: Done 120 out of 120 | elapsed:   13.7s finished\n"
     ]
    },
    {
     "name": "stdout",
     "output_type": "stream",
     "text": [
      "best score: 0.6432748538011696\n",
      "Fitting 10 folds for each of 12 candidates, totalling 120 fits\n"
     ]
    },
    {
     "name": "stderr",
     "output_type": "stream",
     "text": [
      "[Parallel(n_jobs=1)]: Using backend SequentialBackend with 1 concurrent workers.\n",
      "[Parallel(n_jobs=1)]: Done 120 out of 120 | elapsed:   34.3s finished\n"
     ]
    },
    {
     "name": "stdout",
     "output_type": "stream",
     "text": [
      "best score: 0.672514619883041\n",
      "Fitting 10 folds for each of 12 candidates, totalling 120 fits\n"
     ]
    },
    {
     "name": "stderr",
     "output_type": "stream",
     "text": [
      "[Parallel(n_jobs=1)]: Using backend SequentialBackend with 1 concurrent workers.\n",
      "[Parallel(n_jobs=1)]: Done 120 out of 120 | elapsed:   14.5s finished\n"
     ]
    },
    {
     "name": "stdout",
     "output_type": "stream",
     "text": [
      "best score: 0.672514619883041\n",
      "Fitting 10 folds for each of 12 candidates, totalling 120 fits\n"
     ]
    },
    {
     "name": "stderr",
     "output_type": "stream",
     "text": [
      "[Parallel(n_jobs=1)]: Using backend SequentialBackend with 1 concurrent workers.\n",
      "[Parallel(n_jobs=1)]: Done 120 out of 120 | elapsed:   23.2s finished\n"
     ]
    },
    {
     "name": "stdout",
     "output_type": "stream",
     "text": [
      "best score: 0.672514619883041\n",
      "Split: 1\n",
      "Split: 2\n",
      "Split: 3\n",
      "Split: 4\n",
      "Split: 5\n",
      "Split: 6\n",
      "Split: 7\n",
      "Split: 8\n",
      "Split: 9\n",
      "Split: 10\n",
      "Training Testing Accuracy for n_games=3 team=10 : 62.84% (6.30%)\n",
      "(183, 572)\n",
      "(183, 1)\n",
      "X_train shape: (164, 993)\n",
      "X_test shape: (19, 993)\n",
      "Fitting 10 folds for each of 12 candidates, totalling 120 fits\n"
     ]
    },
    {
     "name": "stderr",
     "output_type": "stream",
     "text": [
      "[Parallel(n_jobs=1)]: Using backend SequentialBackend with 1 concurrent workers.\n",
      "[Parallel(n_jobs=1)]: Done 120 out of 120 | elapsed:   16.0s finished\n"
     ]
    },
    {
     "name": "stdout",
     "output_type": "stream",
     "text": [
      "best score: 0.5792682926829268\n",
      "Fitting 10 folds for each of 12 candidates, totalling 120 fits\n"
     ]
    },
    {
     "name": "stderr",
     "output_type": "stream",
     "text": [
      "[Parallel(n_jobs=1)]: Using backend SequentialBackend with 1 concurrent workers.\n",
      "[Parallel(n_jobs=1)]: Done 120 out of 120 | elapsed:   17.7s finished\n"
     ]
    },
    {
     "name": "stdout",
     "output_type": "stream",
     "text": [
      "best score: 0.6280487804878049\n",
      "Fitting 10 folds for each of 12 candidates, totalling 120 fits\n"
     ]
    },
    {
     "name": "stderr",
     "output_type": "stream",
     "text": [
      "[Parallel(n_jobs=1)]: Using backend SequentialBackend with 1 concurrent workers.\n",
      "[Parallel(n_jobs=1)]: Done 120 out of 120 | elapsed:   16.3s finished\n"
     ]
    },
    {
     "name": "stdout",
     "output_type": "stream",
     "text": [
      "best score: 0.6280487804878049\n",
      "Fitting 10 folds for each of 12 candidates, totalling 120 fits\n"
     ]
    },
    {
     "name": "stderr",
     "output_type": "stream",
     "text": [
      "[Parallel(n_jobs=1)]: Using backend SequentialBackend with 1 concurrent workers.\n",
      "[Parallel(n_jobs=1)]: Done 120 out of 120 | elapsed:   14.3s finished\n"
     ]
    },
    {
     "name": "stdout",
     "output_type": "stream",
     "text": [
      "best score: 0.6280487804878049\n",
      "Fitting 10 folds for each of 12 candidates, totalling 120 fits\n"
     ]
    },
    {
     "name": "stderr",
     "output_type": "stream",
     "text": [
      "[Parallel(n_jobs=1)]: Using backend SequentialBackend with 1 concurrent workers.\n",
      "[Parallel(n_jobs=1)]: Done 120 out of 120 | elapsed:   13.8s finished\n"
     ]
    },
    {
     "name": "stdout",
     "output_type": "stream",
     "text": [
      "best score: 0.6280487804878049\n",
      "Split: 1\n",
      "Split: 2\n",
      "Split: 3\n",
      "Split: 4\n",
      "Split: 5\n",
      "Split: 6\n",
      "Split: 7\n",
      "Split: 8\n",
      "Split: 9\n",
      "Split: 10\n",
      "Training Testing Accuracy for n_games=3 team=11 : 57.95% (13.91%)\n",
      "(184, 572)\n",
      "(184, 1)\n",
      "X_train shape: (165, 987)\n",
      "X_test shape: (19, 987)\n",
      "Fitting 10 folds for each of 12 candidates, totalling 120 fits\n"
     ]
    },
    {
     "name": "stderr",
     "output_type": "stream",
     "text": [
      "[Parallel(n_jobs=1)]: Using backend SequentialBackend with 1 concurrent workers.\n",
      "[Parallel(n_jobs=1)]: Done 120 out of 120 | elapsed:   16.2s finished\n"
     ]
    },
    {
     "name": "stdout",
     "output_type": "stream",
     "text": [
      "best score: 0.593939393939394\n",
      "Fitting 10 folds for each of 12 candidates, totalling 120 fits\n"
     ]
    },
    {
     "name": "stderr",
     "output_type": "stream",
     "text": [
      "[Parallel(n_jobs=1)]: Using backend SequentialBackend with 1 concurrent workers.\n",
      "[Parallel(n_jobs=1)]: Done 120 out of 120 | elapsed:   18.5s finished\n"
     ]
    },
    {
     "name": "stdout",
     "output_type": "stream",
     "text": [
      "best score: 0.593939393939394\n",
      "Fitting 10 folds for each of 12 candidates, totalling 120 fits\n"
     ]
    },
    {
     "name": "stderr",
     "output_type": "stream",
     "text": [
      "[Parallel(n_jobs=1)]: Using backend SequentialBackend with 1 concurrent workers.\n",
      "[Parallel(n_jobs=1)]: Done 120 out of 120 | elapsed:   11.1s finished\n"
     ]
    },
    {
     "name": "stdout",
     "output_type": "stream",
     "text": [
      "best score: 0.593939393939394\n",
      "Fitting 10 folds for each of 12 candidates, totalling 120 fits\n"
     ]
    },
    {
     "name": "stderr",
     "output_type": "stream",
     "text": [
      "[Parallel(n_jobs=1)]: Using backend SequentialBackend with 1 concurrent workers.\n",
      "[Parallel(n_jobs=1)]: Done 120 out of 120 | elapsed:   33.9s finished\n"
     ]
    },
    {
     "name": "stdout",
     "output_type": "stream",
     "text": [
      "best score: 0.593939393939394\n",
      "Fitting 10 folds for each of 12 candidates, totalling 120 fits\n"
     ]
    },
    {
     "name": "stderr",
     "output_type": "stream",
     "text": [
      "[Parallel(n_jobs=1)]: Using backend SequentialBackend with 1 concurrent workers.\n",
      "[Parallel(n_jobs=1)]: Done 120 out of 120 | elapsed:   15.0s finished\n"
     ]
    },
    {
     "name": "stdout",
     "output_type": "stream",
     "text": [
      "best score: 0.593939393939394\n",
      "Split: 1\n",
      "Split: 2\n",
      "Split: 3\n",
      "Split: 4\n",
      "Split: 5\n",
      "Split: 6\n",
      "Split: 7\n",
      "Split: 8\n",
      "Split: 9\n",
      "Split: 10\n",
      "Training Testing Accuracy for n_games=3 team=12 : 53.92% (15.12%)\n",
      "(185, 572)\n",
      "(185, 1)\n",
      "X_train shape: (166, 1000)\n",
      "X_test shape: (19, 1000)\n",
      "Fitting 10 folds for each of 12 candidates, totalling 120 fits\n"
     ]
    },
    {
     "name": "stderr",
     "output_type": "stream",
     "text": [
      "[Parallel(n_jobs=1)]: Using backend SequentialBackend with 1 concurrent workers.\n",
      "[Parallel(n_jobs=1)]: Done 120 out of 120 | elapsed:   16.3s finished\n"
     ]
    },
    {
     "name": "stdout",
     "output_type": "stream",
     "text": [
      "best score: 0.6204819277108434\n",
      "Fitting 10 folds for each of 12 candidates, totalling 120 fits\n"
     ]
    },
    {
     "name": "stderr",
     "output_type": "stream",
     "text": [
      "[Parallel(n_jobs=1)]: Using backend SequentialBackend with 1 concurrent workers.\n",
      "[Parallel(n_jobs=1)]: Done 120 out of 120 | elapsed:   16.3s finished\n"
     ]
    },
    {
     "name": "stdout",
     "output_type": "stream",
     "text": [
      "best score: 0.6204819277108434\n",
      "Fitting 10 folds for each of 12 candidates, totalling 120 fits\n"
     ]
    },
    {
     "name": "stderr",
     "output_type": "stream",
     "text": [
      "[Parallel(n_jobs=1)]: Using backend SequentialBackend with 1 concurrent workers.\n",
      "[Parallel(n_jobs=1)]: Done 120 out of 120 | elapsed:   14.9s finished\n"
     ]
    },
    {
     "name": "stdout",
     "output_type": "stream",
     "text": [
      "best score: 0.6204819277108434\n",
      "Fitting 10 folds for each of 12 candidates, totalling 120 fits\n"
     ]
    },
    {
     "name": "stderr",
     "output_type": "stream",
     "text": [
      "[Parallel(n_jobs=1)]: Using backend SequentialBackend with 1 concurrent workers.\n",
      "[Parallel(n_jobs=1)]: Done 120 out of 120 | elapsed:   12.6s finished\n"
     ]
    },
    {
     "name": "stdout",
     "output_type": "stream",
     "text": [
      "best score: 0.6325301204819277\n",
      "Fitting 10 folds for each of 12 candidates, totalling 120 fits\n"
     ]
    },
    {
     "name": "stderr",
     "output_type": "stream",
     "text": [
      "[Parallel(n_jobs=1)]: Using backend SequentialBackend with 1 concurrent workers.\n",
      "[Parallel(n_jobs=1)]: Done 120 out of 120 | elapsed:   37.2s finished\n"
     ]
    },
    {
     "name": "stdout",
     "output_type": "stream",
     "text": [
      "best score: 0.6445783132530121\n",
      "Split: 1\n",
      "Split: 2\n",
      "Split: 3\n",
      "Split: 4\n",
      "Split: 5\n",
      "Split: 6\n",
      "Split: 7\n",
      "Split: 8\n",
      "Split: 9\n",
      "Split: 10\n",
      "Training Testing Accuracy for n_games=3 team=13 : 53.45% (9.46%)\n",
      "(188, 572)\n",
      "(188, 1)\n",
      "X_train shape: (169, 991)\n",
      "X_test shape: (19, 991)\n",
      "Fitting 10 folds for each of 12 candidates, totalling 120 fits\n"
     ]
    },
    {
     "name": "stderr",
     "output_type": "stream",
     "text": [
      "[Parallel(n_jobs=1)]: Using backend SequentialBackend with 1 concurrent workers.\n",
      "[Parallel(n_jobs=1)]: Done 120 out of 120 | elapsed:   16.1s finished\n"
     ]
    },
    {
     "name": "stdout",
     "output_type": "stream",
     "text": [
      "best score: 0.6153846153846154\n",
      "Fitting 10 folds for each of 12 candidates, totalling 120 fits\n"
     ]
    },
    {
     "name": "stderr",
     "output_type": "stream",
     "text": [
      "[Parallel(n_jobs=1)]: Using backend SequentialBackend with 1 concurrent workers.\n",
      "[Parallel(n_jobs=1)]: Done 120 out of 120 | elapsed:   26.5s finished\n"
     ]
    },
    {
     "name": "stdout",
     "output_type": "stream",
     "text": [
      "best score: 0.6331360946745562\n",
      "Fitting 10 folds for each of 12 candidates, totalling 120 fits\n"
     ]
    },
    {
     "name": "stderr",
     "output_type": "stream",
     "text": [
      "[Parallel(n_jobs=1)]: Using backend SequentialBackend with 1 concurrent workers.\n",
      "[Parallel(n_jobs=1)]: Done 120 out of 120 | elapsed:   14.9s finished\n"
     ]
    },
    {
     "name": "stdout",
     "output_type": "stream",
     "text": [
      "best score: 0.6331360946745562\n",
      "Fitting 10 folds for each of 12 candidates, totalling 120 fits\n"
     ]
    },
    {
     "name": "stderr",
     "output_type": "stream",
     "text": [
      "[Parallel(n_jobs=1)]: Using backend SequentialBackend with 1 concurrent workers.\n",
      "[Parallel(n_jobs=1)]: Done 120 out of 120 | elapsed:   14.7s finished\n"
     ]
    },
    {
     "name": "stdout",
     "output_type": "stream",
     "text": [
      "best score: 0.6331360946745562\n",
      "Fitting 10 folds for each of 12 candidates, totalling 120 fits\n"
     ]
    },
    {
     "name": "stderr",
     "output_type": "stream",
     "text": [
      "[Parallel(n_jobs=1)]: Using backend SequentialBackend with 1 concurrent workers.\n",
      "[Parallel(n_jobs=1)]: Done 120 out of 120 | elapsed:   17.6s finished\n"
     ]
    },
    {
     "name": "stdout",
     "output_type": "stream",
     "text": [
      "best score: 0.6331360946745562\n",
      "Split: 1\n",
      "Split: 2\n",
      "Split: 3\n",
      "Split: 4\n",
      "Split: 5\n",
      "Split: 6\n",
      "Split: 7\n",
      "Split: 8\n",
      "Split: 9\n",
      "Split: 10\n",
      "Training Testing Accuracy for n_games=3 team=14 : 60.58% (5.27%)\n",
      "(177, 572)\n",
      "(177, 1)\n",
      "X_train shape: (159, 987)\n",
      "X_test shape: (18, 987)\n",
      "Fitting 10 folds for each of 12 candidates, totalling 120 fits\n"
     ]
    },
    {
     "name": "stderr",
     "output_type": "stream",
     "text": [
      "[Parallel(n_jobs=1)]: Using backend SequentialBackend with 1 concurrent workers.\n",
      "[Parallel(n_jobs=1)]: Done 120 out of 120 | elapsed:   16.0s finished\n"
     ]
    },
    {
     "name": "stdout",
     "output_type": "stream",
     "text": [
      "best score: 0.6415094339622641\n",
      "Fitting 10 folds for each of 12 candidates, totalling 120 fits\n"
     ]
    },
    {
     "name": "stderr",
     "output_type": "stream",
     "text": [
      "[Parallel(n_jobs=1)]: Using backend SequentialBackend with 1 concurrent workers.\n",
      "[Parallel(n_jobs=1)]: Done 120 out of 120 | elapsed:   14.6s finished\n"
     ]
    },
    {
     "name": "stdout",
     "output_type": "stream",
     "text": [
      "best score: 0.6415094339622641\n",
      "Fitting 10 folds for each of 12 candidates, totalling 120 fits\n"
     ]
    },
    {
     "name": "stderr",
     "output_type": "stream",
     "text": [
      "[Parallel(n_jobs=1)]: Using backend SequentialBackend with 1 concurrent workers.\n",
      "[Parallel(n_jobs=1)]: Done 120 out of 120 | elapsed:   14.2s finished\n"
     ]
    },
    {
     "name": "stdout",
     "output_type": "stream",
     "text": [
      "best score: 0.6415094339622641\n",
      "Fitting 10 folds for each of 12 candidates, totalling 120 fits\n"
     ]
    },
    {
     "name": "stderr",
     "output_type": "stream",
     "text": [
      "[Parallel(n_jobs=1)]: Using backend SequentialBackend with 1 concurrent workers.\n",
      "[Parallel(n_jobs=1)]: Done 120 out of 120 | elapsed:   15.8s finished\n"
     ]
    },
    {
     "name": "stdout",
     "output_type": "stream",
     "text": [
      "best score: 0.6415094339622641\n",
      "Fitting 10 folds for each of 12 candidates, totalling 120 fits\n"
     ]
    },
    {
     "name": "stderr",
     "output_type": "stream",
     "text": [
      "[Parallel(n_jobs=1)]: Using backend SequentialBackend with 1 concurrent workers.\n",
      "[Parallel(n_jobs=1)]: Done 120 out of 120 | elapsed:   19.6s finished\n"
     ]
    },
    {
     "name": "stdout",
     "output_type": "stream",
     "text": [
      "best score: 0.6415094339622641\n",
      "Split: 1\n",
      "Split: 2\n",
      "Split: 3\n",
      "Split: 4\n",
      "Split: 5\n",
      "Split: 6\n",
      "Split: 7\n",
      "Split: 8\n",
      "Split: 9\n",
      "Split: 10\n",
      "Training Testing Accuracy for n_games=3 team=15 : 63.30% (2.29%)\n",
      "(193, 572)\n",
      "(193, 1)\n",
      "X_train shape: (173, 997)\n",
      "X_test shape: (20, 997)\n",
      "Fitting 10 folds for each of 12 candidates, totalling 120 fits\n"
     ]
    },
    {
     "name": "stderr",
     "output_type": "stream",
     "text": [
      "[Parallel(n_jobs=1)]: Using backend SequentialBackend with 1 concurrent workers.\n",
      "[Parallel(n_jobs=1)]: Done 120 out of 120 | elapsed:   16.2s finished\n"
     ]
    },
    {
     "name": "stdout",
     "output_type": "stream",
     "text": [
      "best score: 0.6184971098265896\n",
      "Fitting 10 folds for each of 12 candidates, totalling 120 fits\n"
     ]
    },
    {
     "name": "stderr",
     "output_type": "stream",
     "text": [
      "[Parallel(n_jobs=1)]: Using backend SequentialBackend with 1 concurrent workers.\n",
      "[Parallel(n_jobs=1)]: Done 120 out of 120 | elapsed:   13.4s finished\n"
     ]
    },
    {
     "name": "stdout",
     "output_type": "stream",
     "text": [
      "best score: 0.630057803468208\n",
      "Fitting 10 folds for each of 12 candidates, totalling 120 fits\n"
     ]
    },
    {
     "name": "stderr",
     "output_type": "stream",
     "text": [
      "[Parallel(n_jobs=1)]: Using backend SequentialBackend with 1 concurrent workers.\n",
      "[Parallel(n_jobs=1)]: Done 120 out of 120 | elapsed:   15.6s finished\n"
     ]
    },
    {
     "name": "stdout",
     "output_type": "stream",
     "text": [
      "best score: 0.6416184971098265\n",
      "Fitting 10 folds for each of 12 candidates, totalling 120 fits\n"
     ]
    },
    {
     "name": "stderr",
     "output_type": "stream",
     "text": [
      "[Parallel(n_jobs=1)]: Using backend SequentialBackend with 1 concurrent workers.\n",
      "[Parallel(n_jobs=1)]: Done 120 out of 120 | elapsed:   14.7s finished\n"
     ]
    },
    {
     "name": "stdout",
     "output_type": "stream",
     "text": [
      "best score: 0.6416184971098265\n",
      "Fitting 10 folds for each of 12 candidates, totalling 120 fits\n"
     ]
    },
    {
     "name": "stderr",
     "output_type": "stream",
     "text": [
      "[Parallel(n_jobs=1)]: Using backend SequentialBackend with 1 concurrent workers.\n",
      "[Parallel(n_jobs=1)]: Done 120 out of 120 | elapsed:   24.8s finished\n"
     ]
    },
    {
     "name": "stdout",
     "output_type": "stream",
     "text": [
      "best score: 0.6416184971098265\n",
      "Split: 1\n",
      "Split: 2\n",
      "Split: 3\n",
      "Split: 4\n",
      "Split: 5\n",
      "Split: 6\n",
      "Split: 7\n",
      "Split: 8\n",
      "Split: 9\n",
      "Split: 10\n",
      "Training Testing Accuracy for n_games=3 team=16 : 64.74% (2.37%)\n",
      "(188, 572)\n",
      "(188, 1)\n",
      "X_train shape: (169, 995)\n",
      "X_test shape: (19, 995)\n",
      "Fitting 10 folds for each of 12 candidates, totalling 120 fits\n"
     ]
    },
    {
     "name": "stderr",
     "output_type": "stream",
     "text": [
      "[Parallel(n_jobs=1)]: Using backend SequentialBackend with 1 concurrent workers.\n",
      "[Parallel(n_jobs=1)]: Done 120 out of 120 | elapsed:   15.8s finished\n"
     ]
    },
    {
     "name": "stdout",
     "output_type": "stream",
     "text": [
      "best score: 0.6390532544378699\n",
      "Fitting 10 folds for each of 12 candidates, totalling 120 fits\n"
     ]
    },
    {
     "name": "stderr",
     "output_type": "stream",
     "text": [
      "[Parallel(n_jobs=1)]: Using backend SequentialBackend with 1 concurrent workers.\n",
      "[Parallel(n_jobs=1)]: Done 120 out of 120 | elapsed:   16.2s finished\n"
     ]
    },
    {
     "name": "stdout",
     "output_type": "stream",
     "text": [
      "best score: 0.6390532544378699\n",
      "Fitting 10 folds for each of 12 candidates, totalling 120 fits\n"
     ]
    },
    {
     "name": "stderr",
     "output_type": "stream",
     "text": [
      "[Parallel(n_jobs=1)]: Using backend SequentialBackend with 1 concurrent workers.\n",
      "[Parallel(n_jobs=1)]: Done 120 out of 120 | elapsed:   13.4s finished\n"
     ]
    },
    {
     "name": "stdout",
     "output_type": "stream",
     "text": [
      "best score: 0.6390532544378699\n",
      "Fitting 10 folds for each of 12 candidates, totalling 120 fits\n"
     ]
    },
    {
     "name": "stderr",
     "output_type": "stream",
     "text": [
      "[Parallel(n_jobs=1)]: Using backend SequentialBackend with 1 concurrent workers.\n",
      "[Parallel(n_jobs=1)]: Done 120 out of 120 | elapsed:   28.8s finished\n"
     ]
    },
    {
     "name": "stdout",
     "output_type": "stream",
     "text": [
      "best score: 0.6390532544378699\n",
      "Fitting 10 folds for each of 12 candidates, totalling 120 fits\n"
     ]
    },
    {
     "name": "stderr",
     "output_type": "stream",
     "text": [
      "[Parallel(n_jobs=1)]: Using backend SequentialBackend with 1 concurrent workers.\n",
      "[Parallel(n_jobs=1)]: Done 120 out of 120 | elapsed:   29.6s finished\n"
     ]
    },
    {
     "name": "stdout",
     "output_type": "stream",
     "text": [
      "best score: 0.6390532544378699\n",
      "Split: 1\n",
      "Split: 2\n",
      "Split: 3\n",
      "Split: 4\n",
      "Split: 5\n",
      "Split: 6\n",
      "Split: 7\n",
      "Split: 8\n",
      "Split: 9\n",
      "Split: 10\n",
      "Training Testing Accuracy for n_games=3 team=17 : 63.33% (11.54%)\n",
      "(187, 572)\n",
      "(187, 1)\n",
      "X_train shape: (168, 1005)\n",
      "X_test shape: (19, 1005)\n",
      "Fitting 10 folds for each of 12 candidates, totalling 120 fits\n"
     ]
    },
    {
     "name": "stderr",
     "output_type": "stream",
     "text": [
      "[Parallel(n_jobs=1)]: Using backend SequentialBackend with 1 concurrent workers.\n",
      "[Parallel(n_jobs=1)]: Done 120 out of 120 | elapsed:   16.4s finished\n"
     ]
    },
    {
     "name": "stdout",
     "output_type": "stream",
     "text": [
      "best score: 0.5476190476190477\n",
      "Fitting 10 folds for each of 12 candidates, totalling 120 fits\n"
     ]
    },
    {
     "name": "stderr",
     "output_type": "stream",
     "text": [
      "[Parallel(n_jobs=1)]: Using backend SequentialBackend with 1 concurrent workers.\n",
      "[Parallel(n_jobs=1)]: Done 120 out of 120 | elapsed:   21.5s finished\n"
     ]
    },
    {
     "name": "stdout",
     "output_type": "stream",
     "text": [
      "best score: 0.5476190476190477\n",
      "Fitting 10 folds for each of 12 candidates, totalling 120 fits\n"
     ]
    },
    {
     "name": "stderr",
     "output_type": "stream",
     "text": [
      "[Parallel(n_jobs=1)]: Using backend SequentialBackend with 1 concurrent workers.\n",
      "[Parallel(n_jobs=1)]: Done 120 out of 120 | elapsed:   32.2s finished\n"
     ]
    },
    {
     "name": "stdout",
     "output_type": "stream",
     "text": [
      "best score: 0.5476190476190477\n",
      "Fitting 10 folds for each of 12 candidates, totalling 120 fits\n"
     ]
    },
    {
     "name": "stderr",
     "output_type": "stream",
     "text": [
      "[Parallel(n_jobs=1)]: Using backend SequentialBackend with 1 concurrent workers.\n",
      "[Parallel(n_jobs=1)]: Done 120 out of 120 | elapsed:   24.6s finished\n"
     ]
    },
    {
     "name": "stdout",
     "output_type": "stream",
     "text": [
      "best score: 0.5476190476190477\n",
      "Fitting 10 folds for each of 12 candidates, totalling 120 fits\n"
     ]
    },
    {
     "name": "stderr",
     "output_type": "stream",
     "text": [
      "[Parallel(n_jobs=1)]: Using backend SequentialBackend with 1 concurrent workers.\n",
      "[Parallel(n_jobs=1)]: Done 120 out of 120 | elapsed:   23.7s finished\n"
     ]
    },
    {
     "name": "stdout",
     "output_type": "stream",
     "text": [
      "best score: 0.5476190476190477\n",
      "Split: 1\n",
      "Split: 2\n",
      "Split: 3\n",
      "Split: 4\n",
      "Split: 5\n",
      "Split: 6\n",
      "Split: 7\n",
      "Split: 8\n",
      "Split: 9\n",
      "Split: 10\n",
      "Training Testing Accuracy for n_games=3 team=18 : 53.63% (12.69%)\n",
      "Accuracy for Team Models for n_games= 3 : 60.66% (6.41%)\n",
      "(182, 758)\n",
      "(182, 1)\n",
      "X_train shape: (163, 1299)\n",
      "X_test shape: (19, 1299)\n",
      "Fitting 10 folds for each of 12 candidates, totalling 120 fits\n"
     ]
    },
    {
     "name": "stderr",
     "output_type": "stream",
     "text": [
      "[Parallel(n_jobs=1)]: Using backend SequentialBackend with 1 concurrent workers.\n",
      "[Parallel(n_jobs=1)]: Done 120 out of 120 | elapsed:   20.1s finished\n"
     ]
    },
    {
     "name": "stdout",
     "output_type": "stream",
     "text": [
      "best score: 0.5644171779141104\n",
      "Fitting 10 folds for each of 12 candidates, totalling 120 fits\n"
     ]
    },
    {
     "name": "stderr",
     "output_type": "stream",
     "text": [
      "[Parallel(n_jobs=1)]: Using backend SequentialBackend with 1 concurrent workers.\n",
      "[Parallel(n_jobs=1)]: Done 120 out of 120 | elapsed:   26.7s finished\n"
     ]
    },
    {
     "name": "stdout",
     "output_type": "stream",
     "text": [
      "best score: 0.5644171779141104\n",
      "Fitting 10 folds for each of 12 candidates, totalling 120 fits\n"
     ]
    },
    {
     "name": "stderr",
     "output_type": "stream",
     "text": [
      "[Parallel(n_jobs=1)]: Using backend SequentialBackend with 1 concurrent workers.\n",
      "[Parallel(n_jobs=1)]: Done 120 out of 120 | elapsed:   33.8s finished\n"
     ]
    },
    {
     "name": "stdout",
     "output_type": "stream",
     "text": [
      "best score: 0.5705521472392638\n",
      "Fitting 10 folds for each of 12 candidates, totalling 120 fits\n"
     ]
    },
    {
     "name": "stderr",
     "output_type": "stream",
     "text": [
      "[Parallel(n_jobs=1)]: Using backend SequentialBackend with 1 concurrent workers.\n",
      "[Parallel(n_jobs=1)]: Done 120 out of 120 | elapsed:   26.6s finished\n"
     ]
    },
    {
     "name": "stdout",
     "output_type": "stream",
     "text": [
      "best score: 0.6319018404907976\n",
      "Fitting 10 folds for each of 12 candidates, totalling 120 fits\n"
     ]
    },
    {
     "name": "stderr",
     "output_type": "stream",
     "text": [
      "[Parallel(n_jobs=1)]: Using backend SequentialBackend with 1 concurrent workers.\n",
      "[Parallel(n_jobs=1)]: Done 120 out of 120 | elapsed:   14.8s finished\n"
     ]
    },
    {
     "name": "stdout",
     "output_type": "stream",
     "text": [
      "best score: 0.6319018404907976\n",
      "Split: 1\n",
      "Split: 2\n",
      "Split: 3\n",
      "Split: 4\n",
      "Split: 5\n",
      "Split: 6\n",
      "Split: 7\n",
      "Split: 8\n",
      "Split: 9\n",
      "Split: 10\n",
      "Training Testing Accuracy for n_games=4 team=1 : 58.30% (6.60%)\n",
      "(180, 758)\n",
      "(180, 1)\n",
      "X_train shape: (162, 1285)\n",
      "X_test shape: (18, 1285)\n",
      "Fitting 10 folds for each of 12 candidates, totalling 120 fits\n"
     ]
    },
    {
     "name": "stderr",
     "output_type": "stream",
     "text": [
      "[Parallel(n_jobs=1)]: Using backend SequentialBackend with 1 concurrent workers.\n",
      "[Parallel(n_jobs=1)]: Done 120 out of 120 | elapsed:   19.5s finished\n"
     ]
    },
    {
     "name": "stdout",
     "output_type": "stream",
     "text": [
      "best score: 0.6666666666666666\n",
      "Fitting 10 folds for each of 12 candidates, totalling 120 fits\n"
     ]
    },
    {
     "name": "stderr",
     "output_type": "stream",
     "text": [
      "[Parallel(n_jobs=1)]: Using backend SequentialBackend with 1 concurrent workers.\n",
      "[Parallel(n_jobs=1)]: Done 120 out of 120 | elapsed:   38.9s finished\n"
     ]
    },
    {
     "name": "stdout",
     "output_type": "stream",
     "text": [
      "best score: 0.6666666666666666\n",
      "Fitting 10 folds for each of 12 candidates, totalling 120 fits\n"
     ]
    },
    {
     "name": "stderr",
     "output_type": "stream",
     "text": [
      "[Parallel(n_jobs=1)]: Using backend SequentialBackend with 1 concurrent workers.\n",
      "[Parallel(n_jobs=1)]: Done 120 out of 120 | elapsed:   29.5s finished\n"
     ]
    },
    {
     "name": "stdout",
     "output_type": "stream",
     "text": [
      "best score: 0.6790123456790124\n",
      "Fitting 10 folds for each of 12 candidates, totalling 120 fits\n"
     ]
    },
    {
     "name": "stderr",
     "output_type": "stream",
     "text": [
      "[Parallel(n_jobs=1)]: Using backend SequentialBackend with 1 concurrent workers.\n",
      "[Parallel(n_jobs=1)]: Done 120 out of 120 | elapsed:   24.3s finished\n"
     ]
    },
    {
     "name": "stdout",
     "output_type": "stream",
     "text": [
      "best score: 0.6790123456790124\n",
      "Fitting 10 folds for each of 12 candidates, totalling 120 fits\n"
     ]
    },
    {
     "name": "stderr",
     "output_type": "stream",
     "text": [
      "[Parallel(n_jobs=1)]: Using backend SequentialBackend with 1 concurrent workers.\n",
      "[Parallel(n_jobs=1)]: Done 120 out of 120 | elapsed:   18.2s finished\n"
     ]
    },
    {
     "name": "stdout",
     "output_type": "stream",
     "text": [
      "best score: 0.6790123456790124\n",
      "Split: 1\n",
      "Split: 2\n",
      "Split: 3\n",
      "Split: 4\n",
      "Split: 5\n",
      "Split: 6\n",
      "Split: 7\n",
      "Split: 8\n",
      "Split: 9\n",
      "Split: 10\n",
      "Training Testing Accuracy for n_games=4 team=2 : 64.44% (6.19%)\n",
      "(178, 758)\n",
      "(178, 1)\n",
      "X_train shape: (160, 1285)\n",
      "X_test shape: (18, 1285)\n",
      "Fitting 10 folds for each of 12 candidates, totalling 120 fits\n"
     ]
    },
    {
     "name": "stderr",
     "output_type": "stream",
     "text": [
      "[Parallel(n_jobs=1)]: Using backend SequentialBackend with 1 concurrent workers.\n",
      "[Parallel(n_jobs=1)]: Done 120 out of 120 | elapsed:   19.6s finished\n"
     ]
    },
    {
     "name": "stdout",
     "output_type": "stream",
     "text": [
      "best score: 0.675\n",
      "Fitting 10 folds for each of 12 candidates, totalling 120 fits\n"
     ]
    },
    {
     "name": "stderr",
     "output_type": "stream",
     "text": [
      "[Parallel(n_jobs=1)]: Using backend SequentialBackend with 1 concurrent workers.\n",
      "[Parallel(n_jobs=1)]: Done 120 out of 120 | elapsed:   15.9s finished\n"
     ]
    },
    {
     "name": "stdout",
     "output_type": "stream",
     "text": [
      "best score: 0.675\n",
      "Fitting 10 folds for each of 12 candidates, totalling 120 fits\n"
     ]
    },
    {
     "name": "stderr",
     "output_type": "stream",
     "text": [
      "[Parallel(n_jobs=1)]: Using backend SequentialBackend with 1 concurrent workers.\n",
      "[Parallel(n_jobs=1)]: Done 120 out of 120 | elapsed:   14.2s finished\n"
     ]
    },
    {
     "name": "stdout",
     "output_type": "stream",
     "text": [
      "best score: 0.675\n",
      "Fitting 10 folds for each of 12 candidates, totalling 120 fits\n"
     ]
    },
    {
     "name": "stderr",
     "output_type": "stream",
     "text": [
      "[Parallel(n_jobs=1)]: Using backend SequentialBackend with 1 concurrent workers.\n",
      "[Parallel(n_jobs=1)]: Done 120 out of 120 | elapsed:   16.9s finished\n"
     ]
    },
    {
     "name": "stdout",
     "output_type": "stream",
     "text": [
      "best score: 0.675\n",
      "Fitting 10 folds for each of 12 candidates, totalling 120 fits\n"
     ]
    },
    {
     "name": "stderr",
     "output_type": "stream",
     "text": [
      "[Parallel(n_jobs=1)]: Using backend SequentialBackend with 1 concurrent workers.\n",
      "[Parallel(n_jobs=1)]: Done 120 out of 120 | elapsed:   14.8s finished\n"
     ]
    },
    {
     "name": "stdout",
     "output_type": "stream",
     "text": [
      "best score: 0.675\n",
      "Split: 1\n",
      "Split: 2\n",
      "Split: 3\n",
      "Split: 4\n",
      "Split: 5\n",
      "Split: 6\n",
      "Split: 7\n",
      "Split: 8\n",
      "Split: 9\n",
      "Split: 10\n",
      "Training Testing Accuracy for n_games=4 team=3 : 68.56% (2.38%)\n",
      "(183, 758)\n",
      "(183, 1)\n",
      "X_train shape: (164, 1286)\n",
      "X_test shape: (19, 1286)\n",
      "Fitting 10 folds for each of 12 candidates, totalling 120 fits\n"
     ]
    },
    {
     "name": "stderr",
     "output_type": "stream",
     "text": [
      "[Parallel(n_jobs=1)]: Using backend SequentialBackend with 1 concurrent workers.\n",
      "[Parallel(n_jobs=1)]: Done 120 out of 120 | elapsed:   19.8s finished\n"
     ]
    },
    {
     "name": "stdout",
     "output_type": "stream",
     "text": [
      "best score: 0.5792682926829268\n",
      "Fitting 10 folds for each of 12 candidates, totalling 120 fits\n"
     ]
    },
    {
     "name": "stderr",
     "output_type": "stream",
     "text": [
      "[Parallel(n_jobs=1)]: Using backend SequentialBackend with 1 concurrent workers.\n",
      "[Parallel(n_jobs=1)]: Done 120 out of 120 | elapsed:   16.3s finished\n"
     ]
    },
    {
     "name": "stdout",
     "output_type": "stream",
     "text": [
      "best score: 0.5792682926829268\n",
      "Fitting 10 folds for each of 12 candidates, totalling 120 fits\n"
     ]
    },
    {
     "name": "stderr",
     "output_type": "stream",
     "text": [
      "[Parallel(n_jobs=1)]: Using backend SequentialBackend with 1 concurrent workers.\n",
      "[Parallel(n_jobs=1)]: Done 120 out of 120 | elapsed:   22.9s finished\n"
     ]
    },
    {
     "name": "stdout",
     "output_type": "stream",
     "text": [
      "best score: 0.5792682926829268\n",
      "Fitting 10 folds for each of 12 candidates, totalling 120 fits\n"
     ]
    },
    {
     "name": "stderr",
     "output_type": "stream",
     "text": [
      "[Parallel(n_jobs=1)]: Using backend SequentialBackend with 1 concurrent workers.\n",
      "[Parallel(n_jobs=1)]: Done 120 out of 120 | elapsed:   50.6s finished\n"
     ]
    },
    {
     "name": "stdout",
     "output_type": "stream",
     "text": [
      "best score: 0.6036585365853658\n",
      "Fitting 10 folds for each of 12 candidates, totalling 120 fits\n"
     ]
    },
    {
     "name": "stderr",
     "output_type": "stream",
     "text": [
      "[Parallel(n_jobs=1)]: Using backend SequentialBackend with 1 concurrent workers.\n",
      "[Parallel(n_jobs=1)]: Done 120 out of 120 | elapsed:  1.6min finished\n"
     ]
    },
    {
     "name": "stdout",
     "output_type": "stream",
     "text": [
      "best score: 0.6097560975609756\n",
      "Split: 1\n",
      "Split: 2\n",
      "Split: 3\n",
      "Split: 4\n",
      "Split: 5\n",
      "Split: 6\n",
      "Split: 7\n",
      "Split: 8\n",
      "Split: 9\n",
      "Split: 10\n",
      "Training Testing Accuracy for n_games=4 team=4 : 49.71% (6.39%)\n",
      "(180, 758)\n",
      "(180, 1)\n",
      "X_train shape: (162, 1278)\n",
      "X_test shape: (18, 1278)\n",
      "Fitting 10 folds for each of 12 candidates, totalling 120 fits\n"
     ]
    },
    {
     "name": "stderr",
     "output_type": "stream",
     "text": [
      "[Parallel(n_jobs=1)]: Using backend SequentialBackend with 1 concurrent workers.\n",
      "[Parallel(n_jobs=1)]: Done 120 out of 120 | elapsed:   19.5s finished\n"
     ]
    },
    {
     "name": "stdout",
     "output_type": "stream",
     "text": [
      "best score: 0.5740740740740741\n",
      "Fitting 10 folds for each of 12 candidates, totalling 120 fits\n"
     ]
    },
    {
     "name": "stderr",
     "output_type": "stream",
     "text": [
      "[Parallel(n_jobs=1)]: Using backend SequentialBackend with 1 concurrent workers.\n",
      "[Parallel(n_jobs=1)]: Done 120 out of 120 | elapsed:   16.0s finished\n"
     ]
    },
    {
     "name": "stdout",
     "output_type": "stream",
     "text": [
      "best score: 0.5925925925925926\n",
      "Fitting 10 folds for each of 12 candidates, totalling 120 fits\n"
     ]
    },
    {
     "name": "stderr",
     "output_type": "stream",
     "text": [
      "[Parallel(n_jobs=1)]: Using backend SequentialBackend with 1 concurrent workers.\n",
      "[Parallel(n_jobs=1)]: Done 120 out of 120 | elapsed:   15.0s finished\n"
     ]
    },
    {
     "name": "stdout",
     "output_type": "stream",
     "text": [
      "best score: 0.5925925925925926\n",
      "Fitting 10 folds for each of 12 candidates, totalling 120 fits\n"
     ]
    },
    {
     "name": "stderr",
     "output_type": "stream",
     "text": [
      "[Parallel(n_jobs=1)]: Using backend SequentialBackend with 1 concurrent workers.\n",
      "[Parallel(n_jobs=1)]: Done 120 out of 120 | elapsed:   15.9s finished\n"
     ]
    },
    {
     "name": "stdout",
     "output_type": "stream",
     "text": [
      "best score: 0.5925925925925926\n",
      "Fitting 10 folds for each of 12 candidates, totalling 120 fits\n"
     ]
    },
    {
     "name": "stderr",
     "output_type": "stream",
     "text": [
      "[Parallel(n_jobs=1)]: Using backend SequentialBackend with 1 concurrent workers.\n",
      "[Parallel(n_jobs=1)]: Done 120 out of 120 | elapsed:   16.5s finished\n"
     ]
    },
    {
     "name": "stdout",
     "output_type": "stream",
     "text": [
      "best score: 0.5925925925925926\n",
      "Split: 1\n",
      "Split: 2\n",
      "Split: 3\n",
      "Split: 4\n",
      "Split: 5\n",
      "Split: 6\n",
      "Split: 7\n",
      "Split: 8\n",
      "Split: 9\n",
      "Split: 10\n",
      "Training Testing Accuracy for n_games=4 team=5 : 53.89% (11.67%)\n",
      "(183, 758)\n",
      "(183, 1)\n",
      "X_train shape: (164, 1297)\n",
      "X_test shape: (19, 1297)\n",
      "Fitting 10 folds for each of 12 candidates, totalling 120 fits\n"
     ]
    },
    {
     "name": "stderr",
     "output_type": "stream",
     "text": [
      "[Parallel(n_jobs=1)]: Using backend SequentialBackend with 1 concurrent workers.\n",
      "[Parallel(n_jobs=1)]: Done 120 out of 120 | elapsed:   20.0s finished\n"
     ]
    },
    {
     "name": "stdout",
     "output_type": "stream",
     "text": [
      "best score: 0.5670731707317073\n",
      "Fitting 10 folds for each of 12 candidates, totalling 120 fits\n"
     ]
    },
    {
     "name": "stderr",
     "output_type": "stream",
     "text": [
      "[Parallel(n_jobs=1)]: Using backend SequentialBackend with 1 concurrent workers.\n",
      "[Parallel(n_jobs=1)]: Done 120 out of 120 | elapsed:   29.9s finished\n"
     ]
    },
    {
     "name": "stdout",
     "output_type": "stream",
     "text": [
      "best score: 0.573170731707317\n",
      "Fitting 10 folds for each of 12 candidates, totalling 120 fits\n"
     ]
    },
    {
     "name": "stderr",
     "output_type": "stream",
     "text": [
      "[Parallel(n_jobs=1)]: Using backend SequentialBackend with 1 concurrent workers.\n",
      "[Parallel(n_jobs=1)]: Done 120 out of 120 | elapsed:   20.5s finished\n"
     ]
    },
    {
     "name": "stdout",
     "output_type": "stream",
     "text": [
      "best score: 0.573170731707317\n",
      "Fitting 10 folds for each of 12 candidates, totalling 120 fits\n"
     ]
    },
    {
     "name": "stderr",
     "output_type": "stream",
     "text": [
      "[Parallel(n_jobs=1)]: Using backend SequentialBackend with 1 concurrent workers.\n",
      "[Parallel(n_jobs=1)]: Done 120 out of 120 | elapsed:   23.7s finished\n"
     ]
    },
    {
     "name": "stdout",
     "output_type": "stream",
     "text": [
      "best score: 0.573170731707317\n",
      "Fitting 10 folds for each of 12 candidates, totalling 120 fits\n"
     ]
    },
    {
     "name": "stderr",
     "output_type": "stream",
     "text": [
      "[Parallel(n_jobs=1)]: Using backend SequentialBackend with 1 concurrent workers.\n",
      "[Parallel(n_jobs=1)]: Done 120 out of 120 | elapsed:   22.2s finished\n"
     ]
    },
    {
     "name": "stdout",
     "output_type": "stream",
     "text": [
      "best score: 0.573170731707317\n",
      "Split: 1\n",
      "Split: 2\n",
      "Split: 3\n",
      "Split: 4\n",
      "Split: 5\n",
      "Split: 6\n",
      "Split: 7\n",
      "Split: 8\n",
      "Split: 9\n",
      "Split: 10\n",
      "Training Testing Accuracy for n_games=4 team=6 : 54.09% (8.89%)\n",
      "(192, 758)\n",
      "(192, 1)\n",
      "X_train shape: (172, 1287)\n",
      "X_test shape: (20, 1287)\n",
      "Fitting 10 folds for each of 12 candidates, totalling 120 fits\n"
     ]
    },
    {
     "name": "stderr",
     "output_type": "stream",
     "text": [
      "[Parallel(n_jobs=1)]: Using backend SequentialBackend with 1 concurrent workers.\n",
      "[Parallel(n_jobs=1)]: Done 120 out of 120 | elapsed:   20.0s finished\n"
     ]
    },
    {
     "name": "stdout",
     "output_type": "stream",
     "text": [
      "best score: 0.6802325581395349\n",
      "Fitting 10 folds for each of 12 candidates, totalling 120 fits\n"
     ]
    },
    {
     "name": "stderr",
     "output_type": "stream",
     "text": [
      "[Parallel(n_jobs=1)]: Using backend SequentialBackend with 1 concurrent workers.\n",
      "[Parallel(n_jobs=1)]: Done 120 out of 120 | elapsed:   16.9s finished\n"
     ]
    },
    {
     "name": "stdout",
     "output_type": "stream",
     "text": [
      "best score: 0.6802325581395349\n",
      "Fitting 10 folds for each of 12 candidates, totalling 120 fits\n"
     ]
    },
    {
     "name": "stderr",
     "output_type": "stream",
     "text": [
      "[Parallel(n_jobs=1)]: Using backend SequentialBackend with 1 concurrent workers.\n",
      "[Parallel(n_jobs=1)]: Done 120 out of 120 | elapsed:   43.1s finished\n"
     ]
    },
    {
     "name": "stdout",
     "output_type": "stream",
     "text": [
      "best score: 0.6802325581395349\n",
      "Fitting 10 folds for each of 12 candidates, totalling 120 fits\n"
     ]
    },
    {
     "name": "stderr",
     "output_type": "stream",
     "text": [
      "[Parallel(n_jobs=1)]: Using backend SequentialBackend with 1 concurrent workers.\n",
      "[Parallel(n_jobs=1)]: Done 120 out of 120 | elapsed:   21.2s finished\n"
     ]
    },
    {
     "name": "stdout",
     "output_type": "stream",
     "text": [
      "best score: 0.6802325581395349\n",
      "Fitting 10 folds for each of 12 candidates, totalling 120 fits\n"
     ]
    },
    {
     "name": "stderr",
     "output_type": "stream",
     "text": [
      "[Parallel(n_jobs=1)]: Using backend SequentialBackend with 1 concurrent workers.\n",
      "[Parallel(n_jobs=1)]: Done 120 out of 120 | elapsed:   18.0s finished\n"
     ]
    },
    {
     "name": "stdout",
     "output_type": "stream",
     "text": [
      "best score: 0.6802325581395349\n",
      "Split: 1\n",
      "Split: 2\n",
      "Split: 3\n",
      "Split: 4\n",
      "Split: 5\n",
      "Split: 6\n",
      "Split: 7\n",
      "Split: 8\n",
      "Split: 9\n",
      "Split: 10\n",
      "Training Testing Accuracy for n_games=4 team=7 : 63.50% (4.93%)\n",
      "(176, 758)\n",
      "(176, 1)\n",
      "X_train shape: (158, 1293)\n",
      "X_test shape: (18, 1293)\n",
      "Fitting 10 folds for each of 12 candidates, totalling 120 fits\n"
     ]
    },
    {
     "name": "stderr",
     "output_type": "stream",
     "text": [
      "[Parallel(n_jobs=1)]: Using backend SequentialBackend with 1 concurrent workers.\n",
      "[Parallel(n_jobs=1)]: Done 120 out of 120 | elapsed:   19.8s finished\n"
     ]
    },
    {
     "name": "stdout",
     "output_type": "stream",
     "text": [
      "best score: 0.7151898734177216\n",
      "Fitting 10 folds for each of 12 candidates, totalling 120 fits\n"
     ]
    },
    {
     "name": "stderr",
     "output_type": "stream",
     "text": [
      "[Parallel(n_jobs=1)]: Using backend SequentialBackend with 1 concurrent workers.\n",
      "[Parallel(n_jobs=1)]: Done 120 out of 120 | elapsed:   25.8s finished\n"
     ]
    },
    {
     "name": "stdout",
     "output_type": "stream",
     "text": [
      "best score: 0.7151898734177216\n",
      "Fitting 10 folds for each of 12 candidates, totalling 120 fits\n"
     ]
    },
    {
     "name": "stderr",
     "output_type": "stream",
     "text": [
      "[Parallel(n_jobs=1)]: Using backend SequentialBackend with 1 concurrent workers.\n",
      "[Parallel(n_jobs=1)]: Done 120 out of 120 | elapsed:   16.5s finished\n"
     ]
    },
    {
     "name": "stdout",
     "output_type": "stream",
     "text": [
      "best score: 0.7151898734177216\n",
      "Fitting 10 folds for each of 12 candidates, totalling 120 fits\n"
     ]
    },
    {
     "name": "stderr",
     "output_type": "stream",
     "text": [
      "[Parallel(n_jobs=1)]: Using backend SequentialBackend with 1 concurrent workers.\n",
      "[Parallel(n_jobs=1)]: Done 120 out of 120 | elapsed:   17.2s finished\n"
     ]
    },
    {
     "name": "stdout",
     "output_type": "stream",
     "text": [
      "best score: 0.7151898734177216\n",
      "Fitting 10 folds for each of 12 candidates, totalling 120 fits\n"
     ]
    },
    {
     "name": "stderr",
     "output_type": "stream",
     "text": [
      "[Parallel(n_jobs=1)]: Using backend SequentialBackend with 1 concurrent workers.\n",
      "[Parallel(n_jobs=1)]: Done 120 out of 120 | elapsed:   22.7s finished\n"
     ]
    },
    {
     "name": "stdout",
     "output_type": "stream",
     "text": [
      "best score: 0.7151898734177216\n",
      "Split: 1\n",
      "Split: 2\n",
      "Split: 3\n",
      "Split: 4\n",
      "Split: 5\n",
      "Split: 6\n",
      "Split: 7\n",
      "Split: 8\n",
      "Split: 9\n",
      "Split: 10\n",
      "Training Testing Accuracy for n_games=4 team=8 : 72.19% (4.59%)\n",
      "(189, 758)\n",
      "(189, 1)\n",
      "X_train shape: (170, 1300)\n",
      "X_test shape: (19, 1300)\n",
      "Fitting 10 folds for each of 12 candidates, totalling 120 fits\n"
     ]
    },
    {
     "name": "stderr",
     "output_type": "stream",
     "text": [
      "[Parallel(n_jobs=1)]: Using backend SequentialBackend with 1 concurrent workers.\n",
      "[Parallel(n_jobs=1)]: Done 120 out of 120 | elapsed:   20.1s finished\n"
     ]
    },
    {
     "name": "stdout",
     "output_type": "stream",
     "text": [
      "best score: 0.5941176470588235\n",
      "Fitting 10 folds for each of 12 candidates, totalling 120 fits\n"
     ]
    },
    {
     "name": "stderr",
     "output_type": "stream",
     "text": [
      "[Parallel(n_jobs=1)]: Using backend SequentialBackend with 1 concurrent workers.\n",
      "[Parallel(n_jobs=1)]: Done 120 out of 120 | elapsed:   16.3s finished\n"
     ]
    },
    {
     "name": "stdout",
     "output_type": "stream",
     "text": [
      "best score: 0.5941176470588235\n",
      "Fitting 10 folds for each of 12 candidates, totalling 120 fits\n"
     ]
    },
    {
     "name": "stderr",
     "output_type": "stream",
     "text": [
      "[Parallel(n_jobs=1)]: Using backend SequentialBackend with 1 concurrent workers.\n",
      "[Parallel(n_jobs=1)]: Done 120 out of 120 | elapsed:   22.3s finished\n"
     ]
    },
    {
     "name": "stdout",
     "output_type": "stream",
     "text": [
      "best score: 0.6058823529411764\n",
      "Fitting 10 folds for each of 12 candidates, totalling 120 fits\n"
     ]
    },
    {
     "name": "stderr",
     "output_type": "stream",
     "text": [
      "[Parallel(n_jobs=1)]: Using backend SequentialBackend with 1 concurrent workers.\n",
      "[Parallel(n_jobs=1)]: Done 120 out of 120 | elapsed:   21.0s finished\n"
     ]
    },
    {
     "name": "stdout",
     "output_type": "stream",
     "text": [
      "best score: 0.6058823529411764\n",
      "Fitting 10 folds for each of 12 candidates, totalling 120 fits\n"
     ]
    },
    {
     "name": "stderr",
     "output_type": "stream",
     "text": [
      "[Parallel(n_jobs=1)]: Using backend SequentialBackend with 1 concurrent workers.\n",
      "[Parallel(n_jobs=1)]: Done 120 out of 120 | elapsed:   18.0s finished\n"
     ]
    },
    {
     "name": "stdout",
     "output_type": "stream",
     "text": [
      "best score: 0.6058823529411764\n",
      "Split: 1\n",
      "Split: 2\n",
      "Split: 3\n",
      "Split: 4\n",
      "Split: 5\n",
      "Split: 6\n",
      "Split: 7\n",
      "Split: 8\n",
      "Split: 9\n",
      "Split: 10\n",
      "Training Testing Accuracy for n_games=4 team=9 : 60.32% (10.29%)\n",
      "(190, 758)\n",
      "(190, 1)\n",
      "X_train shape: (171, 1293)\n",
      "X_test shape: (19, 1293)\n",
      "Fitting 10 folds for each of 12 candidates, totalling 120 fits\n"
     ]
    },
    {
     "name": "stderr",
     "output_type": "stream",
     "text": [
      "[Parallel(n_jobs=1)]: Using backend SequentialBackend with 1 concurrent workers.\n",
      "[Parallel(n_jobs=1)]: Done 120 out of 120 | elapsed:   19.8s finished\n"
     ]
    },
    {
     "name": "stdout",
     "output_type": "stream",
     "text": [
      "best score: 0.6491228070175439\n",
      "Fitting 10 folds for each of 12 candidates, totalling 120 fits\n"
     ]
    },
    {
     "name": "stderr",
     "output_type": "stream",
     "text": [
      "[Parallel(n_jobs=1)]: Using backend SequentialBackend with 1 concurrent workers.\n",
      "[Parallel(n_jobs=1)]: Done 120 out of 120 | elapsed:   23.2s finished\n"
     ]
    },
    {
     "name": "stdout",
     "output_type": "stream",
     "text": [
      "best score: 0.6491228070175439\n",
      "Fitting 10 folds for each of 12 candidates, totalling 120 fits\n"
     ]
    },
    {
     "name": "stderr",
     "output_type": "stream",
     "text": [
      "[Parallel(n_jobs=1)]: Using backend SequentialBackend with 1 concurrent workers.\n",
      "[Parallel(n_jobs=1)]: Done 120 out of 120 | elapsed:   16.3s finished\n"
     ]
    },
    {
     "name": "stdout",
     "output_type": "stream",
     "text": [
      "best score: 0.6608187134502924\n",
      "Fitting 10 folds for each of 12 candidates, totalling 120 fits\n"
     ]
    },
    {
     "name": "stderr",
     "output_type": "stream",
     "text": [
      "[Parallel(n_jobs=1)]: Using backend SequentialBackend with 1 concurrent workers.\n",
      "[Parallel(n_jobs=1)]: Done 120 out of 120 | elapsed:   17.1s finished\n"
     ]
    },
    {
     "name": "stdout",
     "output_type": "stream",
     "text": [
      "best score: 0.6608187134502924\n",
      "Fitting 10 folds for each of 12 candidates, totalling 120 fits\n"
     ]
    },
    {
     "name": "stderr",
     "output_type": "stream",
     "text": [
      "[Parallel(n_jobs=1)]: Using backend SequentialBackend with 1 concurrent workers.\n",
      "[Parallel(n_jobs=1)]: Done 120 out of 120 | elapsed:   13.2s finished\n"
     ]
    },
    {
     "name": "stdout",
     "output_type": "stream",
     "text": [
      "best score: 0.6608187134502924\n",
      "Split: 1\n",
      "Split: 2\n",
      "Split: 3\n",
      "Split: 4\n",
      "Split: 5\n",
      "Split: 6\n",
      "Split: 7\n",
      "Split: 8\n",
      "Split: 9\n",
      "Split: 10\n",
      "Training Testing Accuracy for n_games=4 team=10 : 66.32% (4.82%)\n",
      "(182, 758)\n",
      "(182, 1)\n",
      "X_train shape: (163, 1296)\n",
      "X_test shape: (19, 1296)\n",
      "Fitting 10 folds for each of 12 candidates, totalling 120 fits\n"
     ]
    },
    {
     "name": "stderr",
     "output_type": "stream",
     "text": [
      "[Parallel(n_jobs=1)]: Using backend SequentialBackend with 1 concurrent workers.\n",
      "[Parallel(n_jobs=1)]: Done 120 out of 120 | elapsed:   19.8s finished\n"
     ]
    },
    {
     "name": "stdout",
     "output_type": "stream",
     "text": [
      "best score: 0.6134969325153374\n",
      "Fitting 10 folds for each of 12 candidates, totalling 120 fits\n"
     ]
    },
    {
     "name": "stderr",
     "output_type": "stream",
     "text": [
      "[Parallel(n_jobs=1)]: Using backend SequentialBackend with 1 concurrent workers.\n",
      "[Parallel(n_jobs=1)]: Done 120 out of 120 | elapsed:   22.0s finished\n"
     ]
    },
    {
     "name": "stdout",
     "output_type": "stream",
     "text": [
      "best score: 0.6134969325153374\n",
      "Fitting 10 folds for each of 12 candidates, totalling 120 fits\n"
     ]
    },
    {
     "name": "stderr",
     "output_type": "stream",
     "text": [
      "[Parallel(n_jobs=1)]: Using backend SequentialBackend with 1 concurrent workers.\n",
      "[Parallel(n_jobs=1)]: Done 120 out of 120 | elapsed:   16.9s finished\n"
     ]
    },
    {
     "name": "stdout",
     "output_type": "stream",
     "text": [
      "best score: 0.6134969325153374\n",
      "Fitting 10 folds for each of 12 candidates, totalling 120 fits\n"
     ]
    },
    {
     "name": "stderr",
     "output_type": "stream",
     "text": [
      "[Parallel(n_jobs=1)]: Using backend SequentialBackend with 1 concurrent workers.\n",
      "[Parallel(n_jobs=1)]: Done 120 out of 120 | elapsed:   17.8s finished\n"
     ]
    },
    {
     "name": "stdout",
     "output_type": "stream",
     "text": [
      "best score: 0.6134969325153374\n",
      "Fitting 10 folds for each of 12 candidates, totalling 120 fits\n"
     ]
    },
    {
     "name": "stderr",
     "output_type": "stream",
     "text": [
      "[Parallel(n_jobs=1)]: Using backend SequentialBackend with 1 concurrent workers.\n",
      "[Parallel(n_jobs=1)]: Done 120 out of 120 | elapsed:   19.2s finished\n"
     ]
    },
    {
     "name": "stdout",
     "output_type": "stream",
     "text": [
      "best score: 0.6503067484662577\n",
      "Split: 1\n",
      "Split: 2\n",
      "Split: 3\n",
      "Split: 4\n",
      "Split: 5\n",
      "Split: 6\n",
      "Split: 7\n",
      "Split: 8\n",
      "Split: 9\n",
      "Split: 10\n",
      "Training Testing Accuracy for n_games=4 team=11 : 62.08% (12.01%)\n",
      "(183, 758)\n",
      "(183, 1)\n",
      "X_train shape: (164, 1289)\n",
      "X_test shape: (19, 1289)\n",
      "Fitting 10 folds for each of 12 candidates, totalling 120 fits\n"
     ]
    },
    {
     "name": "stderr",
     "output_type": "stream",
     "text": [
      "[Parallel(n_jobs=1)]: Using backend SequentialBackend with 1 concurrent workers.\n",
      "[Parallel(n_jobs=1)]: Done 120 out of 120 | elapsed:   20.1s finished\n"
     ]
    },
    {
     "name": "stdout",
     "output_type": "stream",
     "text": [
      "best score: 0.5670731707317073\n",
      "Fitting 10 folds for each of 12 candidates, totalling 120 fits\n"
     ]
    },
    {
     "name": "stderr",
     "output_type": "stream",
     "text": [
      "[Parallel(n_jobs=1)]: Using backend SequentialBackend with 1 concurrent workers.\n",
      "[Parallel(n_jobs=1)]: Done 120 out of 120 | elapsed:   17.2s finished\n"
     ]
    },
    {
     "name": "stdout",
     "output_type": "stream",
     "text": [
      "best score: 0.5670731707317073\n",
      "Fitting 10 folds for each of 12 candidates, totalling 120 fits\n"
     ]
    },
    {
     "name": "stderr",
     "output_type": "stream",
     "text": [
      "[Parallel(n_jobs=1)]: Using backend SequentialBackend with 1 concurrent workers.\n",
      "[Parallel(n_jobs=1)]: Done 120 out of 120 | elapsed:   18.1s finished\n"
     ]
    },
    {
     "name": "stdout",
     "output_type": "stream",
     "text": [
      "best score: 0.5670731707317073\n",
      "Fitting 10 folds for each of 12 candidates, totalling 120 fits\n"
     ]
    },
    {
     "name": "stderr",
     "output_type": "stream",
     "text": [
      "[Parallel(n_jobs=1)]: Using backend SequentialBackend with 1 concurrent workers.\n",
      "[Parallel(n_jobs=1)]: Done 120 out of 120 | elapsed:   31.5s finished\n"
     ]
    },
    {
     "name": "stdout",
     "output_type": "stream",
     "text": [
      "best score: 0.5670731707317073\n",
      "Fitting 10 folds for each of 12 candidates, totalling 120 fits\n"
     ]
    },
    {
     "name": "stderr",
     "output_type": "stream",
     "text": [
      "[Parallel(n_jobs=1)]: Using backend SequentialBackend with 1 concurrent workers.\n",
      "[Parallel(n_jobs=1)]: Done 120 out of 120 | elapsed:   14.4s finished\n"
     ]
    },
    {
     "name": "stdout",
     "output_type": "stream",
     "text": [
      "best score: 0.5670731707317073\n",
      "Split: 1\n",
      "Split: 2\n",
      "Split: 3\n",
      "Split: 4\n",
      "Split: 5\n",
      "Split: 6\n",
      "Split: 7\n",
      "Split: 8\n",
      "Split: 9\n",
      "Split: 10\n",
      "Training Testing Accuracy for n_games=4 team=12 : 53.01% (2.31%)\n",
      "(184, 758)\n",
      "(184, 1)\n",
      "X_train shape: (165, 1305)\n",
      "X_test shape: (19, 1305)\n",
      "Fitting 10 folds for each of 12 candidates, totalling 120 fits\n"
     ]
    },
    {
     "name": "stderr",
     "output_type": "stream",
     "text": [
      "[Parallel(n_jobs=1)]: Using backend SequentialBackend with 1 concurrent workers.\n",
      "[Parallel(n_jobs=1)]: Done 120 out of 120 | elapsed:   20.4s finished\n"
     ]
    },
    {
     "name": "stdout",
     "output_type": "stream",
     "text": [
      "best score: 0.6181818181818182\n",
      "Fitting 10 folds for each of 12 candidates, totalling 120 fits\n"
     ]
    },
    {
     "name": "stderr",
     "output_type": "stream",
     "text": [
      "[Parallel(n_jobs=1)]: Using backend SequentialBackend with 1 concurrent workers.\n",
      "[Parallel(n_jobs=1)]: Done 120 out of 120 | elapsed:   17.1s finished\n"
     ]
    },
    {
     "name": "stdout",
     "output_type": "stream",
     "text": [
      "best score: 0.6181818181818182\n",
      "Fitting 10 folds for each of 12 candidates, totalling 120 fits\n"
     ]
    },
    {
     "name": "stderr",
     "output_type": "stream",
     "text": [
      "[Parallel(n_jobs=1)]: Using backend SequentialBackend with 1 concurrent workers.\n",
      "[Parallel(n_jobs=1)]: Done 120 out of 120 | elapsed:   19.0s finished\n"
     ]
    },
    {
     "name": "stdout",
     "output_type": "stream",
     "text": [
      "best score: 0.6181818181818182\n",
      "Fitting 10 folds for each of 12 candidates, totalling 120 fits\n"
     ]
    },
    {
     "name": "stderr",
     "output_type": "stream",
     "text": [
      "[Parallel(n_jobs=1)]: Using backend SequentialBackend with 1 concurrent workers.\n",
      "[Parallel(n_jobs=1)]: Done 120 out of 120 | elapsed:   21.0s finished\n"
     ]
    },
    {
     "name": "stdout",
     "output_type": "stream",
     "text": [
      "best score: 0.6181818181818182\n",
      "Fitting 10 folds for each of 12 candidates, totalling 120 fits\n"
     ]
    },
    {
     "name": "stderr",
     "output_type": "stream",
     "text": [
      "[Parallel(n_jobs=1)]: Using backend SequentialBackend with 1 concurrent workers.\n",
      "[Parallel(n_jobs=1)]: Done 120 out of 120 | elapsed:   23.8s finished\n"
     ]
    },
    {
     "name": "stdout",
     "output_type": "stream",
     "text": [
      "best score: 0.6545454545454545\n",
      "Split: 1\n",
      "Split: 2\n",
      "Split: 3\n",
      "Split: 4\n",
      "Split: 5\n",
      "Split: 6\n",
      "Split: 7\n",
      "Split: 8\n",
      "Split: 9\n",
      "Split: 10\n",
      "Training Testing Accuracy for n_games=4 team=13 : 62.87% (12.55%)\n",
      "(187, 758)\n",
      "(187, 1)\n",
      "X_train shape: (168, 1292)\n",
      "X_test shape: (19, 1292)\n",
      "Fitting 10 folds for each of 12 candidates, totalling 120 fits\n"
     ]
    },
    {
     "name": "stderr",
     "output_type": "stream",
     "text": [
      "[Parallel(n_jobs=1)]: Using backend SequentialBackend with 1 concurrent workers.\n",
      "[Parallel(n_jobs=1)]: Done 120 out of 120 | elapsed:   20.0s finished\n"
     ]
    },
    {
     "name": "stdout",
     "output_type": "stream",
     "text": [
      "best score: 0.6547619047619048\n",
      "Fitting 10 folds for each of 12 candidates, totalling 120 fits\n"
     ]
    },
    {
     "name": "stderr",
     "output_type": "stream",
     "text": [
      "[Parallel(n_jobs=1)]: Using backend SequentialBackend with 1 concurrent workers.\n",
      "[Parallel(n_jobs=1)]: Done 120 out of 120 | elapsed:   21.7s finished\n"
     ]
    },
    {
     "name": "stdout",
     "output_type": "stream",
     "text": [
      "best score: 0.6547619047619048\n",
      "Fitting 10 folds for each of 12 candidates, totalling 120 fits\n"
     ]
    },
    {
     "name": "stderr",
     "output_type": "stream",
     "text": [
      "[Parallel(n_jobs=1)]: Using backend SequentialBackend with 1 concurrent workers.\n",
      "[Parallel(n_jobs=1)]: Done 120 out of 120 | elapsed:   15.6s finished\n"
     ]
    },
    {
     "name": "stdout",
     "output_type": "stream",
     "text": [
      "best score: 0.6547619047619048\n",
      "Fitting 10 folds for each of 12 candidates, totalling 120 fits\n"
     ]
    },
    {
     "name": "stderr",
     "output_type": "stream",
     "text": [
      "[Parallel(n_jobs=1)]: Using backend SequentialBackend with 1 concurrent workers.\n",
      "[Parallel(n_jobs=1)]: Done 120 out of 120 | elapsed:   19.3s finished\n"
     ]
    },
    {
     "name": "stdout",
     "output_type": "stream",
     "text": [
      "best score: 0.6547619047619048\n",
      "Fitting 10 folds for each of 12 candidates, totalling 120 fits\n"
     ]
    },
    {
     "name": "stderr",
     "output_type": "stream",
     "text": [
      "[Parallel(n_jobs=1)]: Using backend SequentialBackend with 1 concurrent workers.\n",
      "[Parallel(n_jobs=1)]: Done 120 out of 120 | elapsed:   16.7s finished\n"
     ]
    },
    {
     "name": "stdout",
     "output_type": "stream",
     "text": [
      "best score: 0.6547619047619048\n",
      "Split: 1\n",
      "Split: 2\n",
      "Split: 3\n",
      "Split: 4\n",
      "Split: 5\n",
      "Split: 6\n",
      "Split: 7\n",
      "Split: 8\n",
      "Split: 9\n",
      "Split: 10\n",
      "Training Testing Accuracy for n_games=4 team=14 : 58.80% (5.50%)\n",
      "(176, 758)\n",
      "(176, 1)\n",
      "X_train shape: (158, 1289)\n",
      "X_test shape: (18, 1289)\n",
      "Fitting 10 folds for each of 12 candidates, totalling 120 fits\n"
     ]
    },
    {
     "name": "stderr",
     "output_type": "stream",
     "text": [
      "[Parallel(n_jobs=1)]: Using backend SequentialBackend with 1 concurrent workers.\n",
      "[Parallel(n_jobs=1)]: Done 120 out of 120 | elapsed:   19.8s finished\n"
     ]
    },
    {
     "name": "stdout",
     "output_type": "stream",
     "text": [
      "best score: 0.6265822784810127\n",
      "Fitting 10 folds for each of 12 candidates, totalling 120 fits\n"
     ]
    },
    {
     "name": "stderr",
     "output_type": "stream",
     "text": [
      "[Parallel(n_jobs=1)]: Using backend SequentialBackend with 1 concurrent workers.\n",
      "[Parallel(n_jobs=1)]: Done 120 out of 120 | elapsed:   17.6s finished\n"
     ]
    },
    {
     "name": "stdout",
     "output_type": "stream",
     "text": [
      "best score: 0.6265822784810127\n",
      "Fitting 10 folds for each of 12 candidates, totalling 120 fits\n"
     ]
    },
    {
     "name": "stderr",
     "output_type": "stream",
     "text": [
      "[Parallel(n_jobs=1)]: Using backend SequentialBackend with 1 concurrent workers.\n",
      "[Parallel(n_jobs=1)]: Done 120 out of 120 | elapsed:   14.4s finished\n"
     ]
    },
    {
     "name": "stdout",
     "output_type": "stream",
     "text": [
      "best score: 0.6329113924050633\n",
      "Fitting 10 folds for each of 12 candidates, totalling 120 fits\n"
     ]
    },
    {
     "name": "stderr",
     "output_type": "stream",
     "text": [
      "[Parallel(n_jobs=1)]: Using backend SequentialBackend with 1 concurrent workers.\n",
      "[Parallel(n_jobs=1)]: Done 120 out of 120 | elapsed:   14.7s finished\n"
     ]
    },
    {
     "name": "stdout",
     "output_type": "stream",
     "text": [
      "best score: 0.6329113924050633\n",
      "Fitting 10 folds for each of 12 candidates, totalling 120 fits\n"
     ]
    },
    {
     "name": "stderr",
     "output_type": "stream",
     "text": [
      "[Parallel(n_jobs=1)]: Using backend SequentialBackend with 1 concurrent workers.\n",
      "[Parallel(n_jobs=1)]: Done 120 out of 120 | elapsed:   17.7s finished\n"
     ]
    },
    {
     "name": "stdout",
     "output_type": "stream",
     "text": [
      "best score: 0.6329113924050633\n",
      "Split: 1\n",
      "Split: 2\n",
      "Split: 3\n",
      "Split: 4\n",
      "Split: 5\n",
      "Split: 6\n",
      "Split: 7\n",
      "Split: 8\n",
      "Split: 9\n",
      "Split: 10\n",
      "Training Testing Accuracy for n_games=4 team=15 : 64.28% (7.98%)\n",
      "(192, 758)\n",
      "(192, 1)\n",
      "X_train shape: (172, 1299)\n",
      "X_test shape: (20, 1299)\n",
      "Fitting 10 folds for each of 12 candidates, totalling 120 fits\n"
     ]
    },
    {
     "name": "stderr",
     "output_type": "stream",
     "text": [
      "[Parallel(n_jobs=1)]: Using backend SequentialBackend with 1 concurrent workers.\n",
      "[Parallel(n_jobs=1)]: Done 120 out of 120 | elapsed:   20.0s finished\n"
     ]
    },
    {
     "name": "stdout",
     "output_type": "stream",
     "text": [
      "best score: 0.6627906976744186\n",
      "Fitting 10 folds for each of 12 candidates, totalling 120 fits\n"
     ]
    },
    {
     "name": "stderr",
     "output_type": "stream",
     "text": [
      "[Parallel(n_jobs=1)]: Using backend SequentialBackend with 1 concurrent workers.\n",
      "[Parallel(n_jobs=1)]: Done 120 out of 120 | elapsed:   38.1s finished\n"
     ]
    },
    {
     "name": "stdout",
     "output_type": "stream",
     "text": [
      "best score: 0.6686046511627907\n",
      "Fitting 10 folds for each of 12 candidates, totalling 120 fits\n"
     ]
    },
    {
     "name": "stderr",
     "output_type": "stream",
     "text": [
      "[Parallel(n_jobs=1)]: Using backend SequentialBackend with 1 concurrent workers.\n",
      "[Parallel(n_jobs=1)]: Done 120 out of 120 | elapsed:   21.2s finished\n"
     ]
    },
    {
     "name": "stdout",
     "output_type": "stream",
     "text": [
      "best score: 0.6686046511627907\n",
      "Fitting 10 folds for each of 12 candidates, totalling 120 fits\n"
     ]
    },
    {
     "name": "stderr",
     "output_type": "stream",
     "text": [
      "[Parallel(n_jobs=1)]: Using backend SequentialBackend with 1 concurrent workers.\n",
      "[Parallel(n_jobs=1)]: Done 120 out of 120 | elapsed:   39.0s finished\n"
     ]
    },
    {
     "name": "stdout",
     "output_type": "stream",
     "text": [
      "best score: 0.6686046511627907\n",
      "Fitting 10 folds for each of 12 candidates, totalling 120 fits\n"
     ]
    },
    {
     "name": "stderr",
     "output_type": "stream",
     "text": [
      "[Parallel(n_jobs=1)]: Using backend SequentialBackend with 1 concurrent workers.\n",
      "[Parallel(n_jobs=1)]: Done 120 out of 120 | elapsed:   18.4s finished\n"
     ]
    },
    {
     "name": "stdout",
     "output_type": "stream",
     "text": [
      "best score: 0.6686046511627907\n",
      "Split: 1\n",
      "Split: 2\n",
      "Split: 3\n",
      "Split: 4\n",
      "Split: 5\n",
      "Split: 6\n",
      "Split: 7\n",
      "Split: 8\n",
      "Split: 9\n",
      "Split: 10\n",
      "Training Testing Accuracy for n_games=4 team=16 : 63.05% (3.12%)\n",
      "(187, 758)\n",
      "(187, 1)\n",
      "X_train shape: (168, 1299)\n",
      "X_test shape: (19, 1299)\n",
      "Fitting 10 folds for each of 12 candidates, totalling 120 fits\n"
     ]
    },
    {
     "name": "stderr",
     "output_type": "stream",
     "text": [
      "[Parallel(n_jobs=1)]: Using backend SequentialBackend with 1 concurrent workers.\n",
      "[Parallel(n_jobs=1)]: Done 120 out of 120 | elapsed:   20.8s finished\n"
     ]
    },
    {
     "name": "stdout",
     "output_type": "stream",
     "text": [
      "best score: 0.6130952380952381\n",
      "Fitting 10 folds for each of 12 candidates, totalling 120 fits\n"
     ]
    },
    {
     "name": "stderr",
     "output_type": "stream",
     "text": [
      "[Parallel(n_jobs=1)]: Using backend SequentialBackend with 1 concurrent workers.\n",
      "[Parallel(n_jobs=1)]: Done 120 out of 120 | elapsed:   18.0s finished\n"
     ]
    },
    {
     "name": "stdout",
     "output_type": "stream",
     "text": [
      "best score: 0.6130952380952381\n",
      "Fitting 10 folds for each of 12 candidates, totalling 120 fits\n"
     ]
    },
    {
     "name": "stderr",
     "output_type": "stream",
     "text": [
      "[Parallel(n_jobs=1)]: Using backend SequentialBackend with 1 concurrent workers.\n",
      "[Parallel(n_jobs=1)]: Done 120 out of 120 | elapsed:   18.3s finished\n"
     ]
    },
    {
     "name": "stdout",
     "output_type": "stream",
     "text": [
      "best score: 0.6369047619047619\n",
      "Fitting 10 folds for each of 12 candidates, totalling 120 fits\n"
     ]
    },
    {
     "name": "stderr",
     "output_type": "stream",
     "text": [
      "[Parallel(n_jobs=1)]: Using backend SequentialBackend with 1 concurrent workers.\n",
      "[Parallel(n_jobs=1)]: Done 120 out of 120 | elapsed:   16.5s finished\n"
     ]
    },
    {
     "name": "stdout",
     "output_type": "stream",
     "text": [
      "best score: 0.6369047619047619\n",
      "Fitting 10 folds for each of 12 candidates, totalling 120 fits\n"
     ]
    },
    {
     "name": "stderr",
     "output_type": "stream",
     "text": [
      "[Parallel(n_jobs=1)]: Using backend SequentialBackend with 1 concurrent workers.\n",
      "[Parallel(n_jobs=1)]: Done 120 out of 120 | elapsed:   41.5s finished\n"
     ]
    },
    {
     "name": "stdout",
     "output_type": "stream",
     "text": [
      "best score: 0.6369047619047619\n",
      "Split: 1\n",
      "Split: 2\n",
      "Split: 3\n",
      "Split: 4\n",
      "Split: 5\n",
      "Split: 6\n",
      "Split: 7\n",
      "Split: 8\n",
      "Split: 9\n",
      "Split: 10\n",
      "Training Testing Accuracy for n_games=4 team=17 : 63.16% (8.08%)\n",
      "(186, 758)\n",
      "(186, 1)\n",
      "X_train shape: (167, 1308)\n",
      "X_test shape: (19, 1308)\n",
      "Fitting 10 folds for each of 12 candidates, totalling 120 fits\n"
     ]
    },
    {
     "name": "stderr",
     "output_type": "stream",
     "text": [
      "[Parallel(n_jobs=1)]: Using backend SequentialBackend with 1 concurrent workers.\n",
      "[Parallel(n_jobs=1)]: Done 120 out of 120 | elapsed:   20.6s finished\n"
     ]
    },
    {
     "name": "stdout",
     "output_type": "stream",
     "text": [
      "best score: 0.5988023952095808\n",
      "Fitting 10 folds for each of 12 candidates, totalling 120 fits\n"
     ]
    },
    {
     "name": "stderr",
     "output_type": "stream",
     "text": [
      "[Parallel(n_jobs=1)]: Using backend SequentialBackend with 1 concurrent workers.\n",
      "[Parallel(n_jobs=1)]: Done 120 out of 120 | elapsed:   19.9s finished\n"
     ]
    },
    {
     "name": "stdout",
     "output_type": "stream",
     "text": [
      "best score: 0.5988023952095808\n",
      "Fitting 10 folds for each of 12 candidates, totalling 120 fits\n"
     ]
    },
    {
     "name": "stderr",
     "output_type": "stream",
     "text": [
      "[Parallel(n_jobs=1)]: Using backend SequentialBackend with 1 concurrent workers.\n",
      "[Parallel(n_jobs=1)]: Done 120 out of 120 | elapsed:   24.9s finished\n"
     ]
    },
    {
     "name": "stdout",
     "output_type": "stream",
     "text": [
      "best score: 0.5988023952095808\n",
      "Fitting 10 folds for each of 12 candidates, totalling 120 fits\n"
     ]
    },
    {
     "name": "stderr",
     "output_type": "stream",
     "text": [
      "[Parallel(n_jobs=1)]: Using backend SequentialBackend with 1 concurrent workers.\n",
      "[Parallel(n_jobs=1)]: Done 120 out of 120 | elapsed:   26.1s finished\n"
     ]
    },
    {
     "name": "stdout",
     "output_type": "stream",
     "text": [
      "best score: 0.5988023952095808\n",
      "Fitting 10 folds for each of 12 candidates, totalling 120 fits\n"
     ]
    },
    {
     "name": "stderr",
     "output_type": "stream",
     "text": [
      "[Parallel(n_jobs=1)]: Using backend SequentialBackend with 1 concurrent workers.\n",
      "[Parallel(n_jobs=1)]: Done 120 out of 120 | elapsed:   34.7s finished\n"
     ]
    },
    {
     "name": "stdout",
     "output_type": "stream",
     "text": [
      "best score: 0.5988023952095808\n",
      "Split: 1\n",
      "Split: 2\n",
      "Split: 3\n",
      "Split: 4\n",
      "Split: 5\n",
      "Split: 6\n",
      "Split: 7\n",
      "Split: 8\n",
      "Split: 9\n",
      "Split: 10\n",
      "Training Testing Accuracy for n_games=4 team=18 : 59.77% (11.64%)\n",
      "Accuracy for Team Models for n_games= 4 : 61.02% (5.56%)\n",
      "(181, 944)\n",
      "(181, 1)\n",
      "X_train shape: (162, 1603)\n",
      "X_test shape: (19, 1603)\n",
      "Fitting 10 folds for each of 12 candidates, totalling 120 fits\n"
     ]
    },
    {
     "name": "stderr",
     "output_type": "stream",
     "text": [
      "[Parallel(n_jobs=1)]: Using backend SequentialBackend with 1 concurrent workers.\n",
      "[Parallel(n_jobs=1)]: Done 120 out of 120 | elapsed:   24.0s finished\n"
     ]
    },
    {
     "name": "stdout",
     "output_type": "stream",
     "text": [
      "best score: 0.5740740740740741\n",
      "Fitting 10 folds for each of 12 candidates, totalling 120 fits\n"
     ]
    },
    {
     "name": "stderr",
     "output_type": "stream",
     "text": [
      "[Parallel(n_jobs=1)]: Using backend SequentialBackend with 1 concurrent workers.\n",
      "[Parallel(n_jobs=1)]: Done 120 out of 120 | elapsed:   55.1s finished\n"
     ]
    },
    {
     "name": "stdout",
     "output_type": "stream",
     "text": [
      "best score: 0.5925925925925926\n",
      "Fitting 10 folds for each of 12 candidates, totalling 120 fits\n"
     ]
    },
    {
     "name": "stderr",
     "output_type": "stream",
     "text": [
      "[Parallel(n_jobs=1)]: Using backend SequentialBackend with 1 concurrent workers.\n",
      "[Parallel(n_jobs=1)]: Done 120 out of 120 | elapsed:   38.5s finished\n"
     ]
    },
    {
     "name": "stdout",
     "output_type": "stream",
     "text": [
      "best score: 0.5925925925925926\n",
      "Fitting 10 folds for each of 12 candidates, totalling 120 fits\n"
     ]
    },
    {
     "name": "stderr",
     "output_type": "stream",
     "text": [
      "[Parallel(n_jobs=1)]: Using backend SequentialBackend with 1 concurrent workers.\n",
      "[Parallel(n_jobs=1)]: Done 120 out of 120 | elapsed:   57.2s finished\n"
     ]
    },
    {
     "name": "stdout",
     "output_type": "stream",
     "text": [
      "best score: 0.6049382716049383\n",
      "Fitting 10 folds for each of 12 candidates, totalling 120 fits\n"
     ]
    },
    {
     "name": "stderr",
     "output_type": "stream",
     "text": [
      "[Parallel(n_jobs=1)]: Using backend SequentialBackend with 1 concurrent workers.\n",
      "[Parallel(n_jobs=1)]: Done 120 out of 120 | elapsed:   54.6s finished\n"
     ]
    },
    {
     "name": "stdout",
     "output_type": "stream",
     "text": [
      "best score: 0.6049382716049383\n",
      "Split: 1\n",
      "Split: 2\n",
      "Split: 3\n",
      "Split: 4\n",
      "Split: 5\n",
      "Split: 6\n",
      "Split: 7\n",
      "Split: 8\n",
      "Split: 9\n",
      "Split: 10\n",
      "Training Testing Accuracy for n_games=5 team=1 : 49.74% (7.50%)\n",
      "(179, 944)\n",
      "(179, 1)\n",
      "X_train shape: (161, 1587)\n",
      "X_test shape: (18, 1587)\n",
      "Fitting 10 folds for each of 12 candidates, totalling 120 fits\n"
     ]
    },
    {
     "name": "stderr",
     "output_type": "stream",
     "text": [
      "[Parallel(n_jobs=1)]: Using backend SequentialBackend with 1 concurrent workers.\n",
      "[Parallel(n_jobs=1)]: Done 120 out of 120 | elapsed:   23.3s finished\n"
     ]
    },
    {
     "name": "stdout",
     "output_type": "stream",
     "text": [
      "best score: 0.6583850931677019\n",
      "Fitting 10 folds for each of 12 candidates, totalling 120 fits\n"
     ]
    },
    {
     "name": "stderr",
     "output_type": "stream",
     "text": [
      "[Parallel(n_jobs=1)]: Using backend SequentialBackend with 1 concurrent workers.\n",
      "[Parallel(n_jobs=1)]: Done 120 out of 120 | elapsed:   23.4s finished\n"
     ]
    },
    {
     "name": "stdout",
     "output_type": "stream",
     "text": [
      "best score: 0.6645962732919255\n",
      "Fitting 10 folds for each of 12 candidates, totalling 120 fits\n"
     ]
    },
    {
     "name": "stderr",
     "output_type": "stream",
     "text": [
      "[Parallel(n_jobs=1)]: Using backend SequentialBackend with 1 concurrent workers.\n",
      "[Parallel(n_jobs=1)]: Done 120 out of 120 | elapsed:   17.0s finished\n"
     ]
    },
    {
     "name": "stdout",
     "output_type": "stream",
     "text": [
      "best score: 0.6645962732919255\n",
      "Fitting 10 folds for each of 12 candidates, totalling 120 fits\n"
     ]
    },
    {
     "name": "stderr",
     "output_type": "stream",
     "text": [
      "[Parallel(n_jobs=1)]: Using backend SequentialBackend with 1 concurrent workers.\n",
      "[Parallel(n_jobs=1)]: Done 120 out of 120 | elapsed:   16.7s finished\n"
     ]
    },
    {
     "name": "stdout",
     "output_type": "stream",
     "text": [
      "best score: 0.6645962732919255\n",
      "Fitting 10 folds for each of 12 candidates, totalling 120 fits\n"
     ]
    },
    {
     "name": "stderr",
     "output_type": "stream",
     "text": [
      "[Parallel(n_jobs=1)]: Using backend SequentialBackend with 1 concurrent workers.\n",
      "[Parallel(n_jobs=1)]: Done 120 out of 120 | elapsed:   15.7s finished\n"
     ]
    },
    {
     "name": "stdout",
     "output_type": "stream",
     "text": [
      "best score: 0.6645962732919255\n",
      "Split: 1\n",
      "Split: 2\n",
      "Split: 3\n",
      "Split: 4\n",
      "Split: 5\n",
      "Split: 6\n",
      "Split: 7\n",
      "Split: 8\n",
      "Split: 9\n",
      "Split: 10\n",
      "Training Testing Accuracy for n_games=5 team=2 : 61.47% (6.18%)\n",
      "(177, 944)\n",
      "(177, 1)\n",
      "X_train shape: (159, 1584)\n",
      "X_test shape: (18, 1584)\n",
      "Fitting 10 folds for each of 12 candidates, totalling 120 fits\n"
     ]
    },
    {
     "name": "stderr",
     "output_type": "stream",
     "text": [
      "[Parallel(n_jobs=1)]: Using backend SequentialBackend with 1 concurrent workers.\n",
      "[Parallel(n_jobs=1)]: Done 120 out of 120 | elapsed:   23.8s finished\n"
     ]
    },
    {
     "name": "stdout",
     "output_type": "stream",
     "text": [
      "best score: 0.6918238993710691\n",
      "Fitting 10 folds for each of 12 candidates, totalling 120 fits\n"
     ]
    },
    {
     "name": "stderr",
     "output_type": "stream",
     "text": [
      "[Parallel(n_jobs=1)]: Using backend SequentialBackend with 1 concurrent workers.\n",
      "[Parallel(n_jobs=1)]: Done 120 out of 120 | elapsed:   20.6s finished\n"
     ]
    },
    {
     "name": "stdout",
     "output_type": "stream",
     "text": [
      "best score: 0.6918238993710691\n",
      "Fitting 10 folds for each of 12 candidates, totalling 120 fits\n"
     ]
    },
    {
     "name": "stderr",
     "output_type": "stream",
     "text": [
      "[Parallel(n_jobs=1)]: Using backend SequentialBackend with 1 concurrent workers.\n",
      "[Parallel(n_jobs=1)]: Done 120 out of 120 | elapsed:   21.8s finished\n"
     ]
    },
    {
     "name": "stdout",
     "output_type": "stream",
     "text": [
      "best score: 0.6981132075471698\n",
      "Fitting 10 folds for each of 12 candidates, totalling 120 fits\n"
     ]
    },
    {
     "name": "stderr",
     "output_type": "stream",
     "text": [
      "[Parallel(n_jobs=1)]: Using backend SequentialBackend with 1 concurrent workers.\n",
      "[Parallel(n_jobs=1)]: Done 120 out of 120 | elapsed:   19.7s finished\n"
     ]
    },
    {
     "name": "stdout",
     "output_type": "stream",
     "text": [
      "best score: 0.6981132075471698\n",
      "Fitting 10 folds for each of 12 candidates, totalling 120 fits\n"
     ]
    },
    {
     "name": "stderr",
     "output_type": "stream",
     "text": [
      "[Parallel(n_jobs=1)]: Using backend SequentialBackend with 1 concurrent workers.\n",
      "[Parallel(n_jobs=1)]: Done 120 out of 120 | elapsed:   30.6s finished\n"
     ]
    },
    {
     "name": "stdout",
     "output_type": "stream",
     "text": [
      "best score: 0.6981132075471698\n",
      "Split: 1\n",
      "Split: 2\n",
      "Split: 3\n",
      "Split: 4\n",
      "Split: 5\n",
      "Split: 6\n",
      "Split: 7\n",
      "Split: 8\n",
      "Split: 9\n",
      "Split: 10\n",
      "Training Testing Accuracy for n_games=5 team=3 : 71.18% (5.24%)\n",
      "(182, 944)\n",
      "(182, 1)\n",
      "X_train shape: (163, 1589)\n",
      "X_test shape: (19, 1589)\n",
      "Fitting 10 folds for each of 12 candidates, totalling 120 fits\n"
     ]
    },
    {
     "name": "stderr",
     "output_type": "stream",
     "text": [
      "[Parallel(n_jobs=1)]: Using backend SequentialBackend with 1 concurrent workers.\n",
      "[Parallel(n_jobs=1)]: Done 120 out of 120 | elapsed:   23.9s finished\n"
     ]
    },
    {
     "name": "stdout",
     "output_type": "stream",
     "text": [
      "best score: 0.5828220858895705\n",
      "Fitting 10 folds for each of 12 candidates, totalling 120 fits\n"
     ]
    },
    {
     "name": "stderr",
     "output_type": "stream",
     "text": [
      "[Parallel(n_jobs=1)]: Using backend SequentialBackend with 1 concurrent workers.\n",
      "[Parallel(n_jobs=1)]: Done 120 out of 120 | elapsed:   22.9s finished\n"
     ]
    },
    {
     "name": "stdout",
     "output_type": "stream",
     "text": [
      "best score: 0.5828220858895705\n",
      "Fitting 10 folds for each of 12 candidates, totalling 120 fits\n"
     ]
    },
    {
     "name": "stderr",
     "output_type": "stream",
     "text": [
      "[Parallel(n_jobs=1)]: Using backend SequentialBackend with 1 concurrent workers.\n",
      "[Parallel(n_jobs=1)]: Done 120 out of 120 | elapsed:   30.4s finished\n"
     ]
    },
    {
     "name": "stdout",
     "output_type": "stream",
     "text": [
      "best score: 0.5828220858895705\n",
      "Fitting 10 folds for each of 12 candidates, totalling 120 fits\n"
     ]
    },
    {
     "name": "stderr",
     "output_type": "stream",
     "text": [
      "[Parallel(n_jobs=1)]: Using backend SequentialBackend with 1 concurrent workers.\n",
      "[Parallel(n_jobs=1)]: Done 120 out of 120 | elapsed:   26.2s finished\n"
     ]
    },
    {
     "name": "stdout",
     "output_type": "stream",
     "text": [
      "best score: 0.6196319018404908\n",
      "Fitting 10 folds for each of 12 candidates, totalling 120 fits\n"
     ]
    },
    {
     "name": "stderr",
     "output_type": "stream",
     "text": [
      "[Parallel(n_jobs=1)]: Using backend SequentialBackend with 1 concurrent workers.\n",
      "[Parallel(n_jobs=1)]: Done 120 out of 120 | elapsed:   27.9s finished\n"
     ]
    },
    {
     "name": "stdout",
     "output_type": "stream",
     "text": [
      "best score: 0.6196319018404908\n",
      "Split: 1\n",
      "Split: 2\n",
      "Split: 3\n",
      "Split: 4\n",
      "Split: 5\n",
      "Split: 6\n",
      "Split: 7\n",
      "Split: 8\n",
      "Split: 9\n",
      "Split: 10\n",
      "Training Testing Accuracy for n_games=5 team=4 : 59.91% (7.66%)\n",
      "(179, 944)\n",
      "(179, 1)\n",
      "X_train shape: (161, 1578)\n",
      "X_test shape: (18, 1578)\n",
      "Fitting 10 folds for each of 12 candidates, totalling 120 fits\n"
     ]
    },
    {
     "name": "stderr",
     "output_type": "stream",
     "text": [
      "[Parallel(n_jobs=1)]: Using backend SequentialBackend with 1 concurrent workers.\n",
      "[Parallel(n_jobs=1)]: Done 120 out of 120 | elapsed:   23.8s finished\n"
     ]
    },
    {
     "name": "stdout",
     "output_type": "stream",
     "text": [
      "best score: 0.5838509316770186\n",
      "Fitting 10 folds for each of 12 candidates, totalling 120 fits\n"
     ]
    },
    {
     "name": "stderr",
     "output_type": "stream",
     "text": [
      "[Parallel(n_jobs=1)]: Using backend SequentialBackend with 1 concurrent workers.\n",
      "[Parallel(n_jobs=1)]: Done 120 out of 120 | elapsed:   17.9s finished\n"
     ]
    },
    {
     "name": "stdout",
     "output_type": "stream",
     "text": [
      "best score: 0.5838509316770186\n",
      "Fitting 10 folds for each of 12 candidates, totalling 120 fits\n"
     ]
    },
    {
     "name": "stderr",
     "output_type": "stream",
     "text": [
      "[Parallel(n_jobs=1)]: Using backend SequentialBackend with 1 concurrent workers.\n",
      "[Parallel(n_jobs=1)]: Done 120 out of 120 | elapsed:   19.3s finished\n"
     ]
    },
    {
     "name": "stdout",
     "output_type": "stream",
     "text": [
      "best score: 0.5838509316770186\n",
      "Fitting 10 folds for each of 12 candidates, totalling 120 fits\n"
     ]
    },
    {
     "name": "stderr",
     "output_type": "stream",
     "text": [
      "[Parallel(n_jobs=1)]: Using backend SequentialBackend with 1 concurrent workers.\n",
      "[Parallel(n_jobs=1)]: Done 120 out of 120 | elapsed:   17.6s finished\n"
     ]
    },
    {
     "name": "stdout",
     "output_type": "stream",
     "text": [
      "best score: 0.5838509316770186\n",
      "Fitting 10 folds for each of 12 candidates, totalling 120 fits\n"
     ]
    },
    {
     "name": "stderr",
     "output_type": "stream",
     "text": [
      "[Parallel(n_jobs=1)]: Using backend SequentialBackend with 1 concurrent workers.\n",
      "[Parallel(n_jobs=1)]: Done 120 out of 120 | elapsed:   21.3s finished\n"
     ]
    },
    {
     "name": "stdout",
     "output_type": "stream",
     "text": [
      "best score: 0.5900621118012422\n",
      "Split: 1\n",
      "Split: 2\n",
      "Split: 3\n",
      "Split: 4\n",
      "Split: 5\n",
      "Split: 6\n",
      "Split: 7\n",
      "Split: 8\n",
      "Split: 9\n",
      "Split: 10\n",
      "Training Testing Accuracy for n_games=5 team=5 : 54.22% (8.01%)\n",
      "(182, 944)\n",
      "(182, 1)\n",
      "X_train shape: (163, 1597)\n",
      "X_test shape: (19, 1597)\n",
      "Fitting 10 folds for each of 12 candidates, totalling 120 fits\n"
     ]
    },
    {
     "name": "stderr",
     "output_type": "stream",
     "text": [
      "[Parallel(n_jobs=1)]: Using backend SequentialBackend with 1 concurrent workers.\n",
      "[Parallel(n_jobs=1)]: Done 120 out of 120 | elapsed:   24.0s finished\n"
     ]
    },
    {
     "name": "stdout",
     "output_type": "stream",
     "text": [
      "best score: 0.5950920245398773\n",
      "Fitting 10 folds for each of 12 candidates, totalling 120 fits\n"
     ]
    },
    {
     "name": "stderr",
     "output_type": "stream",
     "text": [
      "[Parallel(n_jobs=1)]: Using backend SequentialBackend with 1 concurrent workers.\n",
      "[Parallel(n_jobs=1)]: Done 120 out of 120 | elapsed:   25.9s finished\n"
     ]
    },
    {
     "name": "stdout",
     "output_type": "stream",
     "text": [
      "best score: 0.5950920245398773\n",
      "Fitting 10 folds for each of 12 candidates, totalling 120 fits\n"
     ]
    },
    {
     "name": "stderr",
     "output_type": "stream",
     "text": [
      "[Parallel(n_jobs=1)]: Using backend SequentialBackend with 1 concurrent workers.\n",
      "[Parallel(n_jobs=1)]: Done 120 out of 120 | elapsed:   25.9s finished\n"
     ]
    },
    {
     "name": "stdout",
     "output_type": "stream",
     "text": [
      "best score: 0.5950920245398773\n",
      "Fitting 10 folds for each of 12 candidates, totalling 120 fits\n"
     ]
    },
    {
     "name": "stderr",
     "output_type": "stream",
     "text": [
      "[Parallel(n_jobs=1)]: Using backend SequentialBackend with 1 concurrent workers.\n",
      "[Parallel(n_jobs=1)]: Done 120 out of 120 | elapsed:   20.4s finished\n"
     ]
    },
    {
     "name": "stdout",
     "output_type": "stream",
     "text": [
      "best score: 0.5950920245398773\n",
      "Fitting 10 folds for each of 12 candidates, totalling 120 fits\n"
     ]
    },
    {
     "name": "stderr",
     "output_type": "stream",
     "text": [
      "[Parallel(n_jobs=1)]: Using backend SequentialBackend with 1 concurrent workers.\n",
      "[Parallel(n_jobs=1)]: Done 120 out of 120 | elapsed:   28.0s finished\n"
     ]
    },
    {
     "name": "stdout",
     "output_type": "stream",
     "text": [
      "best score: 0.5950920245398773\n",
      "Split: 1\n",
      "Split: 2\n",
      "Split: 3\n",
      "Split: 4\n",
      "Split: 5\n",
      "Split: 6\n",
      "Split: 7\n",
      "Split: 8\n",
      "Split: 9\n",
      "Split: 10\n",
      "Training Testing Accuracy for n_games=5 team=6 : 58.36% (8.57%)\n",
      "(191, 944)\n",
      "(191, 1)\n",
      "X_train shape: (171, 1586)\n",
      "X_test shape: (20, 1586)\n",
      "Fitting 10 folds for each of 12 candidates, totalling 120 fits\n"
     ]
    },
    {
     "name": "stderr",
     "output_type": "stream",
     "text": [
      "[Parallel(n_jobs=1)]: Using backend SequentialBackend with 1 concurrent workers.\n",
      "[Parallel(n_jobs=1)]: Done 120 out of 120 | elapsed:   24.0s finished\n"
     ]
    },
    {
     "name": "stdout",
     "output_type": "stream",
     "text": [
      "best score: 0.6374269005847953\n",
      "Fitting 10 folds for each of 12 candidates, totalling 120 fits\n"
     ]
    },
    {
     "name": "stderr",
     "output_type": "stream",
     "text": [
      "[Parallel(n_jobs=1)]: Using backend SequentialBackend with 1 concurrent workers.\n",
      "[Parallel(n_jobs=1)]: Done 120 out of 120 | elapsed:   18.7s finished\n"
     ]
    },
    {
     "name": "stdout",
     "output_type": "stream",
     "text": [
      "best score: 0.6374269005847953\n",
      "Fitting 10 folds for each of 12 candidates, totalling 120 fits\n"
     ]
    },
    {
     "name": "stderr",
     "output_type": "stream",
     "text": [
      "[Parallel(n_jobs=1)]: Using backend SequentialBackend with 1 concurrent workers.\n",
      "[Parallel(n_jobs=1)]: Done 120 out of 120 | elapsed:   33.4s finished\n"
     ]
    },
    {
     "name": "stdout",
     "output_type": "stream",
     "text": [
      "best score: 0.6374269005847953\n",
      "Fitting 10 folds for each of 12 candidates, totalling 120 fits\n"
     ]
    },
    {
     "name": "stderr",
     "output_type": "stream",
     "text": [
      "[Parallel(n_jobs=1)]: Using backend SequentialBackend with 1 concurrent workers.\n",
      "[Parallel(n_jobs=1)]: Done 120 out of 120 | elapsed:   40.5s finished\n"
     ]
    },
    {
     "name": "stdout",
     "output_type": "stream",
     "text": [
      "best score: 0.6374269005847953\n",
      "Fitting 10 folds for each of 12 candidates, totalling 120 fits\n"
     ]
    },
    {
     "name": "stderr",
     "output_type": "stream",
     "text": [
      "[Parallel(n_jobs=1)]: Using backend SequentialBackend with 1 concurrent workers.\n",
      "[Parallel(n_jobs=1)]: Done 120 out of 120 | elapsed:   18.4s finished\n"
     ]
    },
    {
     "name": "stdout",
     "output_type": "stream",
     "text": [
      "best score: 0.6374269005847953\n",
      "Split: 1\n",
      "Split: 2\n",
      "Split: 3\n",
      "Split: 4\n",
      "Split: 5\n",
      "Split: 6\n",
      "Split: 7\n",
      "Split: 8\n",
      "Split: 9\n",
      "Split: 10\n",
      "Training Testing Accuracy for n_games=5 team=7 : 65.97% (2.50%)\n",
      "(175, 944)\n",
      "(175, 1)\n",
      "X_train shape: (157, 1590)\n",
      "X_test shape: (18, 1590)\n",
      "Fitting 10 folds for each of 12 candidates, totalling 120 fits\n"
     ]
    },
    {
     "name": "stderr",
     "output_type": "stream",
     "text": [
      "[Parallel(n_jobs=1)]: Using backend SequentialBackend with 1 concurrent workers.\n",
      "[Parallel(n_jobs=1)]: Done 120 out of 120 | elapsed:   23.8s finished\n"
     ]
    },
    {
     "name": "stdout",
     "output_type": "stream",
     "text": [
      "best score: 0.7388535031847133\n",
      "Fitting 10 folds for each of 12 candidates, totalling 120 fits\n"
     ]
    },
    {
     "name": "stderr",
     "output_type": "stream",
     "text": [
      "[Parallel(n_jobs=1)]: Using backend SequentialBackend with 1 concurrent workers.\n",
      "[Parallel(n_jobs=1)]: Done 120 out of 120 | elapsed:   28.1s finished\n"
     ]
    },
    {
     "name": "stdout",
     "output_type": "stream",
     "text": [
      "best score: 0.7388535031847133\n",
      "Fitting 10 folds for each of 12 candidates, totalling 120 fits\n"
     ]
    },
    {
     "name": "stderr",
     "output_type": "stream",
     "text": [
      "[Parallel(n_jobs=1)]: Using backend SequentialBackend with 1 concurrent workers.\n",
      "[Parallel(n_jobs=1)]: Done 120 out of 120 | elapsed:   19.0s finished\n"
     ]
    },
    {
     "name": "stdout",
     "output_type": "stream",
     "text": [
      "best score: 0.7388535031847133\n",
      "Fitting 10 folds for each of 12 candidates, totalling 120 fits\n"
     ]
    },
    {
     "name": "stderr",
     "output_type": "stream",
     "text": [
      "[Parallel(n_jobs=1)]: Using backend SequentialBackend with 1 concurrent workers.\n",
      "[Parallel(n_jobs=1)]: Done 120 out of 120 | elapsed:   19.9s finished\n"
     ]
    },
    {
     "name": "stdout",
     "output_type": "stream",
     "text": [
      "best score: 0.7388535031847133\n",
      "Fitting 10 folds for each of 12 candidates, totalling 120 fits\n"
     ]
    },
    {
     "name": "stderr",
     "output_type": "stream",
     "text": [
      "[Parallel(n_jobs=1)]: Using backend SequentialBackend with 1 concurrent workers.\n",
      "[Parallel(n_jobs=1)]: Done 120 out of 120 | elapsed:   17.0s finished\n"
     ]
    },
    {
     "name": "stdout",
     "output_type": "stream",
     "text": [
      "best score: 0.7388535031847133\n",
      "Split: 1\n",
      "Split: 2\n",
      "Split: 3\n",
      "Split: 4\n",
      "Split: 5\n",
      "Split: 6\n",
      "Split: 7\n",
      "Split: 8\n",
      "Split: 9\n",
      "Split: 10\n",
      "Training Testing Accuracy for n_games=5 team=8 : 70.88% (2.69%)\n",
      "(188, 944)\n",
      "(188, 1)\n",
      "X_train shape: (169, 1598)\n",
      "X_test shape: (19, 1598)\n",
      "Fitting 10 folds for each of 12 candidates, totalling 120 fits\n"
     ]
    },
    {
     "name": "stderr",
     "output_type": "stream",
     "text": [
      "[Parallel(n_jobs=1)]: Using backend SequentialBackend with 1 concurrent workers.\n",
      "[Parallel(n_jobs=1)]: Done 120 out of 120 | elapsed:   23.8s finished\n"
     ]
    },
    {
     "name": "stdout",
     "output_type": "stream",
     "text": [
      "best score: 0.5443786982248521\n",
      "Fitting 10 folds for each of 12 candidates, totalling 120 fits\n"
     ]
    },
    {
     "name": "stderr",
     "output_type": "stream",
     "text": [
      "[Parallel(n_jobs=1)]: Using backend SequentialBackend with 1 concurrent workers.\n",
      "[Parallel(n_jobs=1)]: Done 120 out of 120 | elapsed:   31.9s finished\n"
     ]
    },
    {
     "name": "stdout",
     "output_type": "stream",
     "text": [
      "best score: 0.5621301775147929\n",
      "Fitting 10 folds for each of 12 candidates, totalling 120 fits\n"
     ]
    },
    {
     "name": "stderr",
     "output_type": "stream",
     "text": [
      "[Parallel(n_jobs=1)]: Using backend SequentialBackend with 1 concurrent workers.\n",
      "[Parallel(n_jobs=1)]: Done 120 out of 120 | elapsed:  1.2min finished\n"
     ]
    },
    {
     "name": "stdout",
     "output_type": "stream",
     "text": [
      "best score: 0.621301775147929\n",
      "Fitting 10 folds for each of 12 candidates, totalling 120 fits\n"
     ]
    },
    {
     "name": "stderr",
     "output_type": "stream",
     "text": [
      "[Parallel(n_jobs=1)]: Using backend SequentialBackend with 1 concurrent workers.\n",
      "[Parallel(n_jobs=1)]: Done 120 out of 120 | elapsed:   40.4s finished\n"
     ]
    },
    {
     "name": "stdout",
     "output_type": "stream",
     "text": [
      "best score: 0.621301775147929\n",
      "Fitting 10 folds for each of 12 candidates, totalling 120 fits\n"
     ]
    },
    {
     "name": "stderr",
     "output_type": "stream",
     "text": [
      "[Parallel(n_jobs=1)]: Using backend SequentialBackend with 1 concurrent workers.\n",
      "[Parallel(n_jobs=1)]: Done 120 out of 120 | elapsed:   49.4s finished\n"
     ]
    },
    {
     "name": "stdout",
     "output_type": "stream",
     "text": [
      "best score: 0.621301775147929\n",
      "Split: 1\n",
      "Split: 2\n",
      "Split: 3\n",
      "Split: 4\n",
      "Split: 5\n",
      "Split: 6\n",
      "Split: 7\n",
      "Split: 8\n",
      "Split: 9\n",
      "Split: 10\n",
      "Training Testing Accuracy for n_games=5 team=9 : 55.41% (10.04%)\n",
      "(189, 944)\n",
      "(189, 1)\n",
      "X_train shape: (170, 1596)\n",
      "X_test shape: (19, 1596)\n",
      "Fitting 10 folds for each of 12 candidates, totalling 120 fits\n"
     ]
    },
    {
     "name": "stderr",
     "output_type": "stream",
     "text": [
      "[Parallel(n_jobs=1)]: Using backend SequentialBackend with 1 concurrent workers.\n",
      "[Parallel(n_jobs=1)]: Done 120 out of 120 | elapsed:   23.6s finished\n"
     ]
    },
    {
     "name": "stdout",
     "output_type": "stream",
     "text": [
      "best score: 0.6764705882352942\n",
      "Fitting 10 folds for each of 12 candidates, totalling 120 fits\n"
     ]
    },
    {
     "name": "stderr",
     "output_type": "stream",
     "text": [
      "[Parallel(n_jobs=1)]: Using backend SequentialBackend with 1 concurrent workers.\n",
      "[Parallel(n_jobs=1)]: Done 120 out of 120 | elapsed:   22.1s finished\n"
     ]
    },
    {
     "name": "stdout",
     "output_type": "stream",
     "text": [
      "best score: 0.6764705882352942\n",
      "Fitting 10 folds for each of 12 candidates, totalling 120 fits\n"
     ]
    },
    {
     "name": "stderr",
     "output_type": "stream",
     "text": [
      "[Parallel(n_jobs=1)]: Using backend SequentialBackend with 1 concurrent workers.\n",
      "[Parallel(n_jobs=1)]: Done 120 out of 120 | elapsed:   33.2s finished\n"
     ]
    },
    {
     "name": "stdout",
     "output_type": "stream",
     "text": [
      "best score: 0.6764705882352942\n",
      "Fitting 10 folds for each of 12 candidates, totalling 120 fits\n"
     ]
    },
    {
     "name": "stderr",
     "output_type": "stream",
     "text": [
      "[Parallel(n_jobs=1)]: Using backend SequentialBackend with 1 concurrent workers.\n",
      "[Parallel(n_jobs=1)]: Done 120 out of 120 | elapsed:   29.7s finished\n"
     ]
    },
    {
     "name": "stdout",
     "output_type": "stream",
     "text": [
      "best score: 0.6764705882352942\n",
      "Fitting 10 folds for each of 12 candidates, totalling 120 fits\n"
     ]
    },
    {
     "name": "stderr",
     "output_type": "stream",
     "text": [
      "[Parallel(n_jobs=1)]: Using backend SequentialBackend with 1 concurrent workers.\n",
      "[Parallel(n_jobs=1)]: Done 120 out of 120 | elapsed:   29.2s finished\n"
     ]
    },
    {
     "name": "stdout",
     "output_type": "stream",
     "text": [
      "best score: 0.6764705882352942\n",
      "Split: 1\n",
      "Split: 2\n",
      "Split: 3\n",
      "Split: 4\n",
      "Split: 5\n",
      "Split: 6\n",
      "Split: 7\n",
      "Split: 8\n",
      "Split: 9\n",
      "Split: 10\n",
      "Training Testing Accuracy for n_games=5 team=10 : 68.25% (4.11%)\n",
      "(181, 944)\n",
      "(181, 1)\n",
      "X_train shape: (162, 1601)\n",
      "X_test shape: (19, 1601)\n",
      "Fitting 10 folds for each of 12 candidates, totalling 120 fits\n"
     ]
    },
    {
     "name": "stderr",
     "output_type": "stream",
     "text": [
      "[Parallel(n_jobs=1)]: Using backend SequentialBackend with 1 concurrent workers.\n",
      "[Parallel(n_jobs=1)]: Done 120 out of 120 | elapsed:   24.1s finished\n"
     ]
    },
    {
     "name": "stdout",
     "output_type": "stream",
     "text": [
      "best score: 0.6111111111111112\n",
      "Fitting 10 folds for each of 12 candidates, totalling 120 fits\n"
     ]
    },
    {
     "name": "stderr",
     "output_type": "stream",
     "text": [
      "[Parallel(n_jobs=1)]: Using backend SequentialBackend with 1 concurrent workers.\n",
      "[Parallel(n_jobs=1)]: Done 120 out of 120 | elapsed:   48.9s finished\n"
     ]
    },
    {
     "name": "stdout",
     "output_type": "stream",
     "text": [
      "best score: 0.6111111111111112\n",
      "Fitting 10 folds for each of 12 candidates, totalling 120 fits\n"
     ]
    },
    {
     "name": "stderr",
     "output_type": "stream",
     "text": [
      "[Parallel(n_jobs=1)]: Using backend SequentialBackend with 1 concurrent workers.\n",
      "[Parallel(n_jobs=1)]: Done 120 out of 120 | elapsed:   32.5s finished\n"
     ]
    },
    {
     "name": "stdout",
     "output_type": "stream",
     "text": [
      "best score: 0.6172839506172839\n",
      "Fitting 10 folds for each of 12 candidates, totalling 120 fits\n"
     ]
    },
    {
     "name": "stderr",
     "output_type": "stream",
     "text": [
      "[Parallel(n_jobs=1)]: Using backend SequentialBackend with 1 concurrent workers.\n",
      "[Parallel(n_jobs=1)]: Done 120 out of 120 | elapsed:   24.1s finished\n"
     ]
    },
    {
     "name": "stdout",
     "output_type": "stream",
     "text": [
      "best score: 0.6172839506172839\n",
      "Fitting 10 folds for each of 12 candidates, totalling 120 fits\n"
     ]
    },
    {
     "name": "stderr",
     "output_type": "stream",
     "text": [
      "[Parallel(n_jobs=1)]: Using backend SequentialBackend with 1 concurrent workers.\n",
      "[Parallel(n_jobs=1)]: Done 120 out of 120 | elapsed:   22.9s finished\n"
     ]
    },
    {
     "name": "stdout",
     "output_type": "stream",
     "text": [
      "best score: 0.6172839506172839\n",
      "Split: 1\n",
      "Split: 2\n",
      "Split: 3\n",
      "Split: 4\n",
      "Split: 5\n",
      "Split: 6\n",
      "Split: 7\n",
      "Split: 8\n",
      "Split: 9\n",
      "Split: 10\n",
      "Training Testing Accuracy for n_games=5 team=11 : 58.54% (6.33%)\n",
      "(182, 944)\n",
      "(182, 1)\n",
      "X_train shape: (163, 1591)\n",
      "X_test shape: (19, 1591)\n",
      "Fitting 10 folds for each of 12 candidates, totalling 120 fits\n"
     ]
    },
    {
     "name": "stderr",
     "output_type": "stream",
     "text": [
      "[Parallel(n_jobs=1)]: Using backend SequentialBackend with 1 concurrent workers.\n",
      "[Parallel(n_jobs=1)]: Done 120 out of 120 | elapsed:   24.7s finished\n"
     ]
    },
    {
     "name": "stdout",
     "output_type": "stream",
     "text": [
      "best score: 0.5705521472392638\n",
      "Fitting 10 folds for each of 12 candidates, totalling 120 fits\n"
     ]
    },
    {
     "name": "stderr",
     "output_type": "stream",
     "text": [
      "[Parallel(n_jobs=1)]: Using backend SequentialBackend with 1 concurrent workers.\n",
      "[Parallel(n_jobs=1)]: Done 120 out of 120 | elapsed:   39.2s finished\n"
     ]
    },
    {
     "name": "stdout",
     "output_type": "stream",
     "text": [
      "best score: 0.5705521472392638\n",
      "Fitting 10 folds for each of 12 candidates, totalling 120 fits\n"
     ]
    },
    {
     "name": "stderr",
     "output_type": "stream",
     "text": [
      "[Parallel(n_jobs=1)]: Using backend SequentialBackend with 1 concurrent workers.\n",
      "[Parallel(n_jobs=1)]: Done 120 out of 120 | elapsed:   23.0s finished\n"
     ]
    },
    {
     "name": "stdout",
     "output_type": "stream",
     "text": [
      "best score: 0.5705521472392638\n",
      "Fitting 10 folds for each of 12 candidates, totalling 120 fits\n"
     ]
    },
    {
     "name": "stderr",
     "output_type": "stream",
     "text": [
      "[Parallel(n_jobs=1)]: Using backend SequentialBackend with 1 concurrent workers.\n",
      "[Parallel(n_jobs=1)]: Done 120 out of 120 | elapsed:   26.5s finished\n"
     ]
    },
    {
     "name": "stdout",
     "output_type": "stream",
     "text": [
      "best score: 0.5705521472392638\n",
      "Fitting 10 folds for each of 12 candidates, totalling 120 fits\n"
     ]
    },
    {
     "name": "stderr",
     "output_type": "stream",
     "text": [
      "[Parallel(n_jobs=1)]: Using backend SequentialBackend with 1 concurrent workers.\n",
      "[Parallel(n_jobs=1)]: Done 120 out of 120 | elapsed:   23.0s finished\n"
     ]
    },
    {
     "name": "stdout",
     "output_type": "stream",
     "text": [
      "best score: 0.5705521472392638\n",
      "Split: 1\n",
      "Split: 2\n",
      "Split: 3\n",
      "Split: 4\n",
      "Split: 5\n",
      "Split: 6\n",
      "Split: 7\n",
      "Split: 8\n",
      "Split: 9\n",
      "Split: 10\n",
      "Training Testing Accuracy for n_games=5 team=12 : 50.61% (7.27%)\n",
      "(183, 944)\n",
      "(183, 1)\n",
      "X_train shape: (164, 1613)\n",
      "X_test shape: (19, 1613)\n",
      "Fitting 10 folds for each of 12 candidates, totalling 120 fits\n"
     ]
    },
    {
     "name": "stderr",
     "output_type": "stream",
     "text": [
      "[Parallel(n_jobs=1)]: Using backend SequentialBackend with 1 concurrent workers.\n",
      "[Parallel(n_jobs=1)]: Done 120 out of 120 | elapsed:   24.2s finished\n"
     ]
    },
    {
     "name": "stdout",
     "output_type": "stream",
     "text": [
      "best score: 0.6036585365853658\n",
      "Fitting 10 folds for each of 12 candidates, totalling 120 fits\n"
     ]
    },
    {
     "name": "stderr",
     "output_type": "stream",
     "text": [
      "[Parallel(n_jobs=1)]: Using backend SequentialBackend with 1 concurrent workers.\n",
      "[Parallel(n_jobs=1)]: Done 120 out of 120 | elapsed:   21.2s finished\n"
     ]
    },
    {
     "name": "stdout",
     "output_type": "stream",
     "text": [
      "best score: 0.6036585365853658\n",
      "Fitting 10 folds for each of 12 candidates, totalling 120 fits\n"
     ]
    },
    {
     "name": "stderr",
     "output_type": "stream",
     "text": [
      "[Parallel(n_jobs=1)]: Using backend SequentialBackend with 1 concurrent workers.\n",
      "[Parallel(n_jobs=1)]: Done 120 out of 120 | elapsed:   21.3s finished\n"
     ]
    },
    {
     "name": "stdout",
     "output_type": "stream",
     "text": [
      "best score: 0.6036585365853658\n",
      "Fitting 10 folds for each of 12 candidates, totalling 120 fits\n"
     ]
    },
    {
     "name": "stderr",
     "output_type": "stream",
     "text": [
      "[Parallel(n_jobs=1)]: Using backend SequentialBackend with 1 concurrent workers.\n",
      "[Parallel(n_jobs=1)]: Done 120 out of 120 | elapsed:   32.9s finished\n"
     ]
    },
    {
     "name": "stdout",
     "output_type": "stream",
     "text": [
      "best score: 0.6280487804878049\n",
      "Fitting 10 folds for each of 12 candidates, totalling 120 fits\n"
     ]
    },
    {
     "name": "stderr",
     "output_type": "stream",
     "text": [
      "[Parallel(n_jobs=1)]: Using backend SequentialBackend with 1 concurrent workers.\n",
      "[Parallel(n_jobs=1)]: Done 120 out of 120 | elapsed:   21.2s finished\n"
     ]
    },
    {
     "name": "stdout",
     "output_type": "stream",
     "text": [
      "best score: 0.6280487804878049\n",
      "Split: 1\n",
      "Split: 2\n",
      "Split: 3\n",
      "Split: 4\n",
      "Split: 5\n",
      "Split: 6\n",
      "Split: 7\n",
      "Split: 8\n",
      "Split: 9\n",
      "Split: 10\n",
      "Training Testing Accuracy for n_games=5 team=13 : 58.68% (11.79%)\n",
      "(186, 944)\n",
      "(186, 1)\n",
      "X_train shape: (167, 1593)\n",
      "X_test shape: (19, 1593)\n",
      "Fitting 10 folds for each of 12 candidates, totalling 120 fits\n"
     ]
    },
    {
     "name": "stderr",
     "output_type": "stream",
     "text": [
      "[Parallel(n_jobs=1)]: Using backend SequentialBackend with 1 concurrent workers.\n",
      "[Parallel(n_jobs=1)]: Done 120 out of 120 | elapsed:   24.3s finished\n"
     ]
    },
    {
     "name": "stdout",
     "output_type": "stream",
     "text": [
      "best score: 0.6347305389221557\n",
      "Fitting 10 folds for each of 12 candidates, totalling 120 fits\n"
     ]
    },
    {
     "name": "stderr",
     "output_type": "stream",
     "text": [
      "[Parallel(n_jobs=1)]: Using backend SequentialBackend with 1 concurrent workers.\n",
      "[Parallel(n_jobs=1)]: Done 120 out of 120 | elapsed:   17.6s finished\n"
     ]
    },
    {
     "name": "stdout",
     "output_type": "stream",
     "text": [
      "best score: 0.6347305389221557\n",
      "Fitting 10 folds for each of 12 candidates, totalling 120 fits\n"
     ]
    },
    {
     "name": "stderr",
     "output_type": "stream",
     "text": [
      "[Parallel(n_jobs=1)]: Using backend SequentialBackend with 1 concurrent workers.\n",
      "[Parallel(n_jobs=1)]: Done 120 out of 120 | elapsed:   21.2s finished\n"
     ]
    },
    {
     "name": "stdout",
     "output_type": "stream",
     "text": [
      "best score: 0.6347305389221557\n",
      "Fitting 10 folds for each of 12 candidates, totalling 120 fits\n"
     ]
    },
    {
     "name": "stderr",
     "output_type": "stream",
     "text": [
      "[Parallel(n_jobs=1)]: Using backend SequentialBackend with 1 concurrent workers.\n",
      "[Parallel(n_jobs=1)]: Done 120 out of 120 | elapsed:   20.4s finished\n"
     ]
    },
    {
     "name": "stdout",
     "output_type": "stream",
     "text": [
      "best score: 0.6347305389221557\n",
      "Fitting 10 folds for each of 12 candidates, totalling 120 fits\n"
     ]
    },
    {
     "name": "stderr",
     "output_type": "stream",
     "text": [
      "[Parallel(n_jobs=1)]: Using backend SequentialBackend with 1 concurrent workers.\n",
      "[Parallel(n_jobs=1)]: Done 120 out of 120 | elapsed:   17.6s finished\n"
     ]
    },
    {
     "name": "stdout",
     "output_type": "stream",
     "text": [
      "best score: 0.6347305389221557\n",
      "Split: 1\n",
      "Split: 2\n",
      "Split: 3\n",
      "Split: 4\n",
      "Split: 5\n",
      "Split: 6\n",
      "Split: 7\n",
      "Split: 8\n",
      "Split: 9\n",
      "Split: 10\n",
      "Training Testing Accuracy for n_games=5 team=14 : 60.79% (3.67%)\n",
      "(175, 944)\n",
      "(175, 1)\n",
      "X_train shape: (157, 1588)\n",
      "X_test shape: (18, 1588)\n",
      "Fitting 10 folds for each of 12 candidates, totalling 120 fits\n"
     ]
    },
    {
     "name": "stderr",
     "output_type": "stream",
     "text": [
      "[Parallel(n_jobs=1)]: Using backend SequentialBackend with 1 concurrent workers.\n",
      "[Parallel(n_jobs=1)]: Done 120 out of 120 | elapsed:   24.4s finished\n"
     ]
    },
    {
     "name": "stdout",
     "output_type": "stream",
     "text": [
      "best score: 0.6687898089171974\n",
      "Fitting 10 folds for each of 12 candidates, totalling 120 fits\n"
     ]
    },
    {
     "name": "stderr",
     "output_type": "stream",
     "text": [
      "[Parallel(n_jobs=1)]: Using backend SequentialBackend with 1 concurrent workers.\n",
      "[Parallel(n_jobs=1)]: Done 120 out of 120 | elapsed:   25.2s finished\n"
     ]
    },
    {
     "name": "stdout",
     "output_type": "stream",
     "text": [
      "best score: 0.6687898089171974\n",
      "Fitting 10 folds for each of 12 candidates, totalling 120 fits\n"
     ]
    },
    {
     "name": "stderr",
     "output_type": "stream",
     "text": [
      "[Parallel(n_jobs=1)]: Using backend SequentialBackend with 1 concurrent workers.\n",
      "[Parallel(n_jobs=1)]: Done 120 out of 120 | elapsed:   17.1s finished\n"
     ]
    },
    {
     "name": "stdout",
     "output_type": "stream",
     "text": [
      "best score: 0.6687898089171974\n",
      "Fitting 10 folds for each of 12 candidates, totalling 120 fits\n"
     ]
    },
    {
     "name": "stderr",
     "output_type": "stream",
     "text": [
      "[Parallel(n_jobs=1)]: Using backend SequentialBackend with 1 concurrent workers.\n",
      "[Parallel(n_jobs=1)]: Done 120 out of 120 | elapsed:   23.1s finished\n"
     ]
    },
    {
     "name": "stdout",
     "output_type": "stream",
     "text": [
      "best score: 0.6687898089171974\n",
      "Fitting 10 folds for each of 12 candidates, totalling 120 fits\n"
     ]
    },
    {
     "name": "stderr",
     "output_type": "stream",
     "text": [
      "[Parallel(n_jobs=1)]: Using backend SequentialBackend with 1 concurrent workers.\n",
      "[Parallel(n_jobs=1)]: Done 120 out of 120 | elapsed:   17.0s finished\n"
     ]
    },
    {
     "name": "stdout",
     "output_type": "stream",
     "text": [
      "best score: 0.6687898089171974\n",
      "Split: 1\n",
      "Split: 2\n",
      "Split: 3\n",
      "Split: 4\n",
      "Split: 5\n",
      "Split: 6\n",
      "Split: 7\n",
      "Split: 8\n",
      "Split: 9\n",
      "Split: 10\n",
      "Training Testing Accuracy for n_games=5 team=15 : 64.64% (6.22%)\n",
      "(191, 944)\n",
      "(191, 1)\n",
      "X_train shape: (171, 1602)\n",
      "X_test shape: (20, 1602)\n",
      "Fitting 10 folds for each of 12 candidates, totalling 120 fits\n"
     ]
    },
    {
     "name": "stderr",
     "output_type": "stream",
     "text": [
      "[Parallel(n_jobs=1)]: Using backend SequentialBackend with 1 concurrent workers.\n",
      "[Parallel(n_jobs=1)]: Done 120 out of 120 | elapsed:   23.9s finished\n"
     ]
    },
    {
     "name": "stdout",
     "output_type": "stream",
     "text": [
      "best score: 0.6432748538011696\n",
      "Fitting 10 folds for each of 12 candidates, totalling 120 fits\n"
     ]
    },
    {
     "name": "stderr",
     "output_type": "stream",
     "text": [
      "[Parallel(n_jobs=1)]: Using backend SequentialBackend with 1 concurrent workers.\n",
      "[Parallel(n_jobs=1)]: Done 120 out of 120 | elapsed:   17.4s finished\n"
     ]
    },
    {
     "name": "stdout",
     "output_type": "stream",
     "text": [
      "best score: 0.6432748538011696\n",
      "Fitting 10 folds for each of 12 candidates, totalling 120 fits\n"
     ]
    },
    {
     "name": "stderr",
     "output_type": "stream",
     "text": [
      "[Parallel(n_jobs=1)]: Using backend SequentialBackend with 1 concurrent workers.\n",
      "[Parallel(n_jobs=1)]: Done 120 out of 120 | elapsed:   19.9s finished\n"
     ]
    },
    {
     "name": "stdout",
     "output_type": "stream",
     "text": [
      "best score: 0.6432748538011696\n",
      "Fitting 10 folds for each of 12 candidates, totalling 120 fits\n"
     ]
    },
    {
     "name": "stderr",
     "output_type": "stream",
     "text": [
      "[Parallel(n_jobs=1)]: Using backend SequentialBackend with 1 concurrent workers.\n",
      "[Parallel(n_jobs=1)]: Done 120 out of 120 | elapsed:   20.8s finished\n"
     ]
    },
    {
     "name": "stdout",
     "output_type": "stream",
     "text": [
      "best score: 0.6432748538011696\n",
      "Fitting 10 folds for each of 12 candidates, totalling 120 fits\n"
     ]
    },
    {
     "name": "stderr",
     "output_type": "stream",
     "text": [
      "[Parallel(n_jobs=1)]: Using backend SequentialBackend with 1 concurrent workers.\n",
      "[Parallel(n_jobs=1)]: Done 120 out of 120 | elapsed:   20.2s finished\n"
     ]
    },
    {
     "name": "stdout",
     "output_type": "stream",
     "text": [
      "best score: 0.6432748538011696\n",
      "Split: 1\n",
      "Split: 2\n",
      "Split: 3\n",
      "Split: 4\n",
      "Split: 5\n",
      "Split: 6\n",
      "Split: 7\n",
      "Split: 8\n",
      "Split: 9\n",
      "Split: 10\n",
      "Training Testing Accuracy for n_games=5 team=16 : 63.87% (1.61%)\n",
      "(186, 944)\n",
      "(186, 1)\n",
      "X_train shape: (167, 1600)\n",
      "X_test shape: (19, 1600)\n",
      "Fitting 10 folds for each of 12 candidates, totalling 120 fits\n"
     ]
    },
    {
     "name": "stderr",
     "output_type": "stream",
     "text": [
      "[Parallel(n_jobs=1)]: Using backend SequentialBackend with 1 concurrent workers.\n",
      "[Parallel(n_jobs=1)]: Done 120 out of 120 | elapsed:   24.8s finished\n"
     ]
    },
    {
     "name": "stdout",
     "output_type": "stream",
     "text": [
      "best score: 0.6107784431137725\n",
      "Fitting 10 folds for each of 12 candidates, totalling 120 fits\n"
     ]
    },
    {
     "name": "stderr",
     "output_type": "stream",
     "text": [
      "[Parallel(n_jobs=1)]: Using backend SequentialBackend with 1 concurrent workers.\n",
      "[Parallel(n_jobs=1)]: Done 120 out of 120 | elapsed:   24.3s finished\n"
     ]
    },
    {
     "name": "stdout",
     "output_type": "stream",
     "text": [
      "best score: 0.6287425149700598\n",
      "Fitting 10 folds for each of 12 candidates, totalling 120 fits\n"
     ]
    },
    {
     "name": "stderr",
     "output_type": "stream",
     "text": [
      "[Parallel(n_jobs=1)]: Using backend SequentialBackend with 1 concurrent workers.\n",
      "[Parallel(n_jobs=1)]: Done 120 out of 120 | elapsed:   31.7s finished\n"
     ]
    },
    {
     "name": "stdout",
     "output_type": "stream",
     "text": [
      "best score: 0.6287425149700598\n",
      "Fitting 10 folds for each of 12 candidates, totalling 120 fits\n"
     ]
    },
    {
     "name": "stderr",
     "output_type": "stream",
     "text": [
      "[Parallel(n_jobs=1)]: Using backend SequentialBackend with 1 concurrent workers.\n",
      "[Parallel(n_jobs=1)]: Done 120 out of 120 | elapsed:   22.7s finished\n"
     ]
    },
    {
     "name": "stdout",
     "output_type": "stream",
     "text": [
      "best score: 0.6407185628742516\n",
      "Fitting 10 folds for each of 12 candidates, totalling 120 fits\n"
     ]
    },
    {
     "name": "stderr",
     "output_type": "stream",
     "text": [
      "[Parallel(n_jobs=1)]: Using backend SequentialBackend with 1 concurrent workers.\n",
      "[Parallel(n_jobs=1)]: Done 120 out of 120 | elapsed:   20.6s finished\n"
     ]
    },
    {
     "name": "stdout",
     "output_type": "stream",
     "text": [
      "best score: 0.6407185628742516\n",
      "Split: 1\n",
      "Split: 2\n",
      "Split: 3\n",
      "Split: 4\n",
      "Split: 5\n",
      "Split: 6\n",
      "Split: 7\n",
      "Split: 8\n",
      "Split: 9\n",
      "Split: 10\n",
      "Training Testing Accuracy for n_games=5 team=17 : 65.20% (10.65%)\n",
      "(185, 944)\n",
      "(185, 1)\n",
      "X_train shape: (166, 1613)\n",
      "X_test shape: (19, 1613)\n",
      "Fitting 10 folds for each of 12 candidates, totalling 120 fits\n"
     ]
    },
    {
     "name": "stderr",
     "output_type": "stream",
     "text": [
      "[Parallel(n_jobs=1)]: Using backend SequentialBackend with 1 concurrent workers.\n",
      "[Parallel(n_jobs=1)]: Done 120 out of 120 | elapsed:   24.7s finished\n"
     ]
    },
    {
     "name": "stdout",
     "output_type": "stream",
     "text": [
      "best score: 0.5602409638554217\n",
      "Fitting 10 folds for each of 12 candidates, totalling 120 fits\n"
     ]
    },
    {
     "name": "stderr",
     "output_type": "stream",
     "text": [
      "[Parallel(n_jobs=1)]: Using backend SequentialBackend with 1 concurrent workers.\n",
      "[Parallel(n_jobs=1)]: Done 120 out of 120 | elapsed:   17.7s finished\n"
     ]
    },
    {
     "name": "stdout",
     "output_type": "stream",
     "text": [
      "best score: 0.5602409638554217\n",
      "Fitting 10 folds for each of 12 candidates, totalling 120 fits\n"
     ]
    },
    {
     "name": "stderr",
     "output_type": "stream",
     "text": [
      "[Parallel(n_jobs=1)]: Using backend SequentialBackend with 1 concurrent workers.\n",
      "[Parallel(n_jobs=1)]: Done 120 out of 120 | elapsed:   24.6s finished\n"
     ]
    },
    {
     "name": "stdout",
     "output_type": "stream",
     "text": [
      "best score: 0.5602409638554217\n",
      "Fitting 10 folds for each of 12 candidates, totalling 120 fits\n"
     ]
    },
    {
     "name": "stderr",
     "output_type": "stream",
     "text": [
      "[Parallel(n_jobs=1)]: Using backend SequentialBackend with 1 concurrent workers.\n",
      "[Parallel(n_jobs=1)]: Done 120 out of 120 | elapsed:  1.2min finished\n"
     ]
    },
    {
     "name": "stdout",
     "output_type": "stream",
     "text": [
      "best score: 0.5602409638554217\n",
      "Fitting 10 folds for each of 12 candidates, totalling 120 fits\n"
     ]
    },
    {
     "name": "stderr",
     "output_type": "stream",
     "text": [
      "[Parallel(n_jobs=1)]: Using backend SequentialBackend with 1 concurrent workers.\n",
      "[Parallel(n_jobs=1)]: Done 120 out of 120 | elapsed:   18.9s finished\n"
     ]
    },
    {
     "name": "stdout",
     "output_type": "stream",
     "text": [
      "best score: 0.5662650602409639\n",
      "Split: 1\n",
      "Split: 2\n",
      "Split: 3\n",
      "Split: 4\n",
      "Split: 5\n",
      "Split: 6\n",
      "Split: 7\n",
      "Split: 8\n",
      "Split: 9\n",
      "Split: 10\n",
      "Training Testing Accuracy for n_games=5 team=18 : 52.87% (8.25%)\n",
      "Accuracy for Team Models for n_games= 5 : 60.59% (6.29%)\n",
      "(180, 1130)\n",
      "(180, 1)\n",
      "X_train shape: (162, 1909)\n",
      "X_test shape: (18, 1909)\n",
      "Fitting 10 folds for each of 12 candidates, totalling 120 fits\n"
     ]
    },
    {
     "name": "stderr",
     "output_type": "stream",
     "text": [
      "[Parallel(n_jobs=1)]: Using backend SequentialBackend with 1 concurrent workers.\n",
      "[Parallel(n_jobs=1)]: Done 120 out of 120 | elapsed:   28.0s finished\n"
     ]
    },
    {
     "name": "stdout",
     "output_type": "stream",
     "text": [
      "best score: 0.5617283950617284\n",
      "Fitting 10 folds for each of 12 candidates, totalling 120 fits\n"
     ]
    },
    {
     "name": "stderr",
     "output_type": "stream",
     "text": [
      "[Parallel(n_jobs=1)]: Using backend SequentialBackend with 1 concurrent workers.\n",
      "[Parallel(n_jobs=1)]: Done 120 out of 120 | elapsed:   24.6s finished\n"
     ]
    },
    {
     "name": "stdout",
     "output_type": "stream",
     "text": [
      "best score: 0.5617283950617284\n",
      "Fitting 10 folds for each of 12 candidates, totalling 120 fits\n"
     ]
    },
    {
     "name": "stderr",
     "output_type": "stream",
     "text": [
      "[Parallel(n_jobs=1)]: Using backend SequentialBackend with 1 concurrent workers.\n",
      "[Parallel(n_jobs=1)]: Done 120 out of 120 | elapsed:   22.9s finished\n"
     ]
    },
    {
     "name": "stdout",
     "output_type": "stream",
     "text": [
      "best score: 0.5617283950617284\n",
      "Fitting 10 folds for each of 12 candidates, totalling 120 fits\n"
     ]
    },
    {
     "name": "stderr",
     "output_type": "stream",
     "text": [
      "[Parallel(n_jobs=1)]: Using backend SequentialBackend with 1 concurrent workers.\n",
      "[Parallel(n_jobs=1)]: Done 120 out of 120 | elapsed:   41.5s finished\n"
     ]
    },
    {
     "name": "stdout",
     "output_type": "stream",
     "text": [
      "best score: 0.5617283950617284\n",
      "Fitting 10 folds for each of 12 candidates, totalling 120 fits\n"
     ]
    },
    {
     "name": "stderr",
     "output_type": "stream",
     "text": [
      "[Parallel(n_jobs=1)]: Using backend SequentialBackend with 1 concurrent workers.\n",
      "[Parallel(n_jobs=1)]: Done 120 out of 120 | elapsed:   19.8s finished\n"
     ]
    },
    {
     "name": "stdout",
     "output_type": "stream",
     "text": [
      "best score: 0.5617283950617284\n",
      "Split: 1\n",
      "Split: 2\n",
      "Split: 3\n",
      "Split: 4\n",
      "Split: 5\n",
      "Split: 6\n",
      "Split: 7\n",
      "Split: 8\n",
      "Split: 9\n",
      "Split: 10\n",
      "Training Testing Accuracy for n_games=6 team=1 : 60.00% (11.86%)\n",
      "(178, 1130)\n",
      "(178, 1)\n",
      "X_train shape: (160, 1886)\n",
      "X_test shape: (18, 1886)\n",
      "Fitting 10 folds for each of 12 candidates, totalling 120 fits\n"
     ]
    },
    {
     "name": "stderr",
     "output_type": "stream",
     "text": [
      "[Parallel(n_jobs=1)]: Using backend SequentialBackend with 1 concurrent workers.\n",
      "[Parallel(n_jobs=1)]: Done 120 out of 120 | elapsed:   27.3s finished\n"
     ]
    },
    {
     "name": "stdout",
     "output_type": "stream",
     "text": [
      "best score: 0.66875\n",
      "Fitting 10 folds for each of 12 candidates, totalling 120 fits\n"
     ]
    },
    {
     "name": "stderr",
     "output_type": "stream",
     "text": [
      "[Parallel(n_jobs=1)]: Using backend SequentialBackend with 1 concurrent workers.\n",
      "[Parallel(n_jobs=1)]: Done 120 out of 120 | elapsed:   44.5s finished\n"
     ]
    },
    {
     "name": "stdout",
     "output_type": "stream",
     "text": [
      "best score: 0.66875\n",
      "Fitting 10 folds for each of 12 candidates, totalling 120 fits\n"
     ]
    },
    {
     "name": "stderr",
     "output_type": "stream",
     "text": [
      "[Parallel(n_jobs=1)]: Using backend SequentialBackend with 1 concurrent workers.\n",
      "[Parallel(n_jobs=1)]: Done 120 out of 120 | elapsed:   23.7s finished\n"
     ]
    },
    {
     "name": "stdout",
     "output_type": "stream",
     "text": [
      "best score: 0.66875\n",
      "Fitting 10 folds for each of 12 candidates, totalling 120 fits\n"
     ]
    },
    {
     "name": "stderr",
     "output_type": "stream",
     "text": [
      "[Parallel(n_jobs=1)]: Using backend SequentialBackend with 1 concurrent workers.\n",
      "[Parallel(n_jobs=1)]: Done 120 out of 120 | elapsed:   24.4s finished\n"
     ]
    },
    {
     "name": "stdout",
     "output_type": "stream",
     "text": [
      "best score: 0.66875\n",
      "Fitting 10 folds for each of 12 candidates, totalling 120 fits\n"
     ]
    },
    {
     "name": "stderr",
     "output_type": "stream",
     "text": [
      "[Parallel(n_jobs=1)]: Using backend SequentialBackend with 1 concurrent workers.\n",
      "[Parallel(n_jobs=1)]: Done 120 out of 120 | elapsed:   25.8s finished\n"
     ]
    },
    {
     "name": "stdout",
     "output_type": "stream",
     "text": [
      "best score: 0.66875\n",
      "Split: 1\n",
      "Split: 2\n",
      "Split: 3\n",
      "Split: 4\n",
      "Split: 5\n",
      "Split: 6\n",
      "Split: 7\n",
      "Split: 8\n",
      "Split: 9\n",
      "Split: 10\n",
      "Training Testing Accuracy for n_games=6 team=2 : 66.31% (5.98%)\n",
      "(176, 1130)\n",
      "(176, 1)\n",
      "X_train shape: (158, 1884)\n",
      "X_test shape: (18, 1884)\n",
      "Fitting 10 folds for each of 12 candidates, totalling 120 fits\n"
     ]
    },
    {
     "name": "stderr",
     "output_type": "stream",
     "text": [
      "[Parallel(n_jobs=1)]: Using backend SequentialBackend with 1 concurrent workers.\n",
      "[Parallel(n_jobs=1)]: Done 120 out of 120 | elapsed:   27.4s finished\n"
     ]
    },
    {
     "name": "stdout",
     "output_type": "stream",
     "text": [
      "best score: 0.7025316455696202\n",
      "Fitting 10 folds for each of 12 candidates, totalling 120 fits\n"
     ]
    },
    {
     "name": "stderr",
     "output_type": "stream",
     "text": [
      "[Parallel(n_jobs=1)]: Using backend SequentialBackend with 1 concurrent workers.\n",
      "[Parallel(n_jobs=1)]: Done 120 out of 120 | elapsed:   21.2s finished\n"
     ]
    },
    {
     "name": "stdout",
     "output_type": "stream",
     "text": [
      "best score: 0.7025316455696202\n",
      "Fitting 10 folds for each of 12 candidates, totalling 120 fits\n"
     ]
    },
    {
     "name": "stderr",
     "output_type": "stream",
     "text": [
      "[Parallel(n_jobs=1)]: Using backend SequentialBackend with 1 concurrent workers.\n",
      "[Parallel(n_jobs=1)]: Done 120 out of 120 | elapsed:   22.0s finished\n"
     ]
    },
    {
     "name": "stdout",
     "output_type": "stream",
     "text": [
      "best score: 0.7025316455696202\n",
      "Fitting 10 folds for each of 12 candidates, totalling 120 fits\n"
     ]
    },
    {
     "name": "stderr",
     "output_type": "stream",
     "text": [
      "[Parallel(n_jobs=1)]: Using backend SequentialBackend with 1 concurrent workers.\n",
      "[Parallel(n_jobs=1)]: Done 120 out of 120 | elapsed:  1.2min finished\n"
     ]
    },
    {
     "name": "stdout",
     "output_type": "stream",
     "text": [
      "best score: 0.7025316455696202\n",
      "Fitting 10 folds for each of 12 candidates, totalling 120 fits\n"
     ]
    },
    {
     "name": "stderr",
     "output_type": "stream",
     "text": [
      "[Parallel(n_jobs=1)]: Using backend SequentialBackend with 1 concurrent workers.\n",
      "[Parallel(n_jobs=1)]: Done 120 out of 120 | elapsed:   26.6s finished\n"
     ]
    },
    {
     "name": "stdout",
     "output_type": "stream",
     "text": [
      "best score: 0.7025316455696202\n",
      "Split: 1\n",
      "Split: 2\n",
      "Split: 3\n",
      "Split: 4\n",
      "Split: 5\n",
      "Split: 6\n",
      "Split: 7\n",
      "Split: 8\n",
      "Split: 9\n",
      "Split: 10\n",
      "Training Testing Accuracy for n_games=6 team=3 : 69.35% (2.27%)\n",
      "(181, 1130)\n",
      "(181, 1)\n",
      "X_train shape: (162, 1889)\n",
      "X_test shape: (19, 1889)\n",
      "Fitting 10 folds for each of 12 candidates, totalling 120 fits\n"
     ]
    },
    {
     "name": "stderr",
     "output_type": "stream",
     "text": [
      "[Parallel(n_jobs=1)]: Using backend SequentialBackend with 1 concurrent workers.\n",
      "[Parallel(n_jobs=1)]: Done 120 out of 120 | elapsed:   27.8s finished\n"
     ]
    },
    {
     "name": "stdout",
     "output_type": "stream",
     "text": [
      "best score: 0.6790123456790124\n",
      "Fitting 10 folds for each of 12 candidates, totalling 120 fits\n"
     ]
    },
    {
     "name": "stderr",
     "output_type": "stream",
     "text": [
      "[Parallel(n_jobs=1)]: Using backend SequentialBackend with 1 concurrent workers.\n",
      "[Parallel(n_jobs=1)]: Done 120 out of 120 | elapsed:   32.1s finished\n"
     ]
    },
    {
     "name": "stdout",
     "output_type": "stream",
     "text": [
      "best score: 0.6790123456790124\n",
      "Fitting 10 folds for each of 12 candidates, totalling 120 fits\n"
     ]
    },
    {
     "name": "stderr",
     "output_type": "stream",
     "text": [
      "[Parallel(n_jobs=1)]: Using backend SequentialBackend with 1 concurrent workers.\n",
      "[Parallel(n_jobs=1)]: Done 120 out of 120 | elapsed:   32.9s finished\n"
     ]
    },
    {
     "name": "stdout",
     "output_type": "stream",
     "text": [
      "best score: 0.6790123456790124\n",
      "Fitting 10 folds for each of 12 candidates, totalling 120 fits\n"
     ]
    },
    {
     "name": "stderr",
     "output_type": "stream",
     "text": [
      "[Parallel(n_jobs=1)]: Using backend SequentialBackend with 1 concurrent workers.\n",
      "[Parallel(n_jobs=1)]: Done 120 out of 120 | elapsed:   21.2s finished\n"
     ]
    },
    {
     "name": "stdout",
     "output_type": "stream",
     "text": [
      "best score: 0.6790123456790124\n",
      "Fitting 10 folds for each of 12 candidates, totalling 120 fits\n"
     ]
    },
    {
     "name": "stderr",
     "output_type": "stream",
     "text": [
      "[Parallel(n_jobs=1)]: Using backend SequentialBackend with 1 concurrent workers.\n",
      "[Parallel(n_jobs=1)]: Done 120 out of 120 | elapsed:   54.6s finished\n"
     ]
    },
    {
     "name": "stdout",
     "output_type": "stream",
     "text": [
      "best score: 0.6790123456790124\n",
      "Split: 1\n",
      "Split: 2\n",
      "Split: 3\n",
      "Split: 4\n",
      "Split: 5\n",
      "Split: 6\n",
      "Split: 7\n",
      "Split: 8\n",
      "Split: 9\n",
      "Split: 10\n",
      "Training Testing Accuracy for n_games=6 team=4 : 57.46% (8.96%)\n",
      "(178, 1130)\n",
      "(178, 1)\n",
      "X_train shape: (160, 1873)\n",
      "X_test shape: (18, 1873)\n",
      "Fitting 10 folds for each of 12 candidates, totalling 120 fits\n"
     ]
    },
    {
     "name": "stderr",
     "output_type": "stream",
     "text": [
      "[Parallel(n_jobs=1)]: Using backend SequentialBackend with 1 concurrent workers.\n",
      "[Parallel(n_jobs=1)]: Done 120 out of 120 | elapsed:   27.1s finished\n"
     ]
    },
    {
     "name": "stdout",
     "output_type": "stream",
     "text": [
      "best score: 0.61875\n",
      "Fitting 10 folds for each of 12 candidates, totalling 120 fits\n"
     ]
    },
    {
     "name": "stderr",
     "output_type": "stream",
     "text": [
      "[Parallel(n_jobs=1)]: Using backend SequentialBackend with 1 concurrent workers.\n",
      "[Parallel(n_jobs=1)]: Done 120 out of 120 | elapsed:   55.3s finished\n"
     ]
    },
    {
     "name": "stdout",
     "output_type": "stream",
     "text": [
      "best score: 0.61875\n",
      "Fitting 10 folds for each of 12 candidates, totalling 120 fits\n"
     ]
    },
    {
     "name": "stderr",
     "output_type": "stream",
     "text": [
      "[Parallel(n_jobs=1)]: Using backend SequentialBackend with 1 concurrent workers.\n",
      "[Parallel(n_jobs=1)]: Done 120 out of 120 | elapsed:   57.1s finished\n"
     ]
    },
    {
     "name": "stdout",
     "output_type": "stream",
     "text": [
      "best score: 0.61875\n",
      "Fitting 10 folds for each of 12 candidates, totalling 120 fits\n"
     ]
    },
    {
     "name": "stderr",
     "output_type": "stream",
     "text": [
      "[Parallel(n_jobs=1)]: Using backend SequentialBackend with 1 concurrent workers.\n",
      "[Parallel(n_jobs=1)]: Done 120 out of 120 | elapsed:   48.2s finished\n"
     ]
    },
    {
     "name": "stdout",
     "output_type": "stream",
     "text": [
      "best score: 0.61875\n",
      "Fitting 10 folds for each of 12 candidates, totalling 120 fits\n"
     ]
    },
    {
     "name": "stderr",
     "output_type": "stream",
     "text": [
      "[Parallel(n_jobs=1)]: Using backend SequentialBackend with 1 concurrent workers.\n",
      "[Parallel(n_jobs=1)]: Done 120 out of 120 | elapsed:   20.7s finished\n"
     ]
    },
    {
     "name": "stdout",
     "output_type": "stream",
     "text": [
      "best score: 0.61875\n",
      "Split: 1\n",
      "Split: 2\n",
      "Split: 3\n",
      "Split: 4\n",
      "Split: 5\n",
      "Split: 6\n",
      "Split: 7\n",
      "Split: 8\n",
      "Split: 9\n",
      "Split: 10\n",
      "Training Testing Accuracy for n_games=6 team=5 : 56.73% (6.24%)\n",
      "(181, 1130)\n",
      "(181, 1)\n",
      "X_train shape: (162, 1898)\n",
      "X_test shape: (19, 1898)\n",
      "Fitting 10 folds for each of 12 candidates, totalling 120 fits\n"
     ]
    },
    {
     "name": "stderr",
     "output_type": "stream",
     "text": [
      "[Parallel(n_jobs=1)]: Using backend SequentialBackend with 1 concurrent workers.\n",
      "[Parallel(n_jobs=1)]: Done 120 out of 120 | elapsed:   28.2s finished\n"
     ]
    },
    {
     "name": "stdout",
     "output_type": "stream",
     "text": [
      "best score: 0.5987654320987654\n",
      "Fitting 10 folds for each of 12 candidates, totalling 120 fits\n"
     ]
    },
    {
     "name": "stderr",
     "output_type": "stream",
     "text": [
      "[Parallel(n_jobs=1)]: Using backend SequentialBackend with 1 concurrent workers.\n",
      "[Parallel(n_jobs=1)]: Done 120 out of 120 | elapsed:   28.1s finished\n"
     ]
    },
    {
     "name": "stdout",
     "output_type": "stream",
     "text": [
      "best score: 0.5987654320987654\n",
      "Fitting 10 folds for each of 12 candidates, totalling 120 fits\n"
     ]
    },
    {
     "name": "stderr",
     "output_type": "stream",
     "text": [
      "[Parallel(n_jobs=1)]: Using backend SequentialBackend with 1 concurrent workers.\n",
      "[Parallel(n_jobs=1)]: Done 120 out of 120 | elapsed:   31.4s finished\n"
     ]
    },
    {
     "name": "stdout",
     "output_type": "stream",
     "text": [
      "best score: 0.5987654320987654\n",
      "Fitting 10 folds for each of 12 candidates, totalling 120 fits\n"
     ]
    },
    {
     "name": "stderr",
     "output_type": "stream",
     "text": [
      "[Parallel(n_jobs=1)]: Using backend SequentialBackend with 1 concurrent workers.\n",
      "[Parallel(n_jobs=1)]: Done 120 out of 120 | elapsed:   24.2s finished\n"
     ]
    },
    {
     "name": "stdout",
     "output_type": "stream",
     "text": [
      "best score: 0.5987654320987654\n",
      "Fitting 10 folds for each of 12 candidates, totalling 120 fits\n"
     ]
    },
    {
     "name": "stderr",
     "output_type": "stream",
     "text": [
      "[Parallel(n_jobs=1)]: Using backend SequentialBackend with 1 concurrent workers.\n",
      "[Parallel(n_jobs=1)]: Done 120 out of 120 | elapsed:   46.1s finished\n"
     ]
    },
    {
     "name": "stdout",
     "output_type": "stream",
     "text": [
      "best score: 0.5987654320987654\n",
      "Split: 1\n",
      "Split: 2\n",
      "Split: 3\n",
      "Split: 4\n",
      "Split: 5\n",
      "Split: 6\n",
      "Split: 7\n",
      "Split: 8\n",
      "Split: 9\n",
      "Split: 10\n",
      "Training Testing Accuracy for n_games=6 team=6 : 57.46% (8.61%)\n",
      "(190, 1130)\n",
      "(190, 1)\n",
      "X_train shape: (171, 1887)\n",
      "X_test shape: (19, 1887)\n",
      "Fitting 10 folds for each of 12 candidates, totalling 120 fits\n"
     ]
    },
    {
     "name": "stderr",
     "output_type": "stream",
     "text": [
      "[Parallel(n_jobs=1)]: Using backend SequentialBackend with 1 concurrent workers.\n",
      "[Parallel(n_jobs=1)]: Done 120 out of 120 | elapsed:   28.7s finished\n"
     ]
    },
    {
     "name": "stdout",
     "output_type": "stream",
     "text": [
      "best score: 0.6783625730994152\n",
      "Fitting 10 folds for each of 12 candidates, totalling 120 fits\n"
     ]
    },
    {
     "name": "stderr",
     "output_type": "stream",
     "text": [
      "[Parallel(n_jobs=1)]: Using backend SequentialBackend with 1 concurrent workers.\n",
      "[Parallel(n_jobs=1)]: Done 120 out of 120 | elapsed:   38.7s finished\n"
     ]
    },
    {
     "name": "stdout",
     "output_type": "stream",
     "text": [
      "best score: 0.6783625730994152\n",
      "Fitting 10 folds for each of 12 candidates, totalling 120 fits\n"
     ]
    },
    {
     "name": "stderr",
     "output_type": "stream",
     "text": [
      "[Parallel(n_jobs=1)]: Using backend SequentialBackend with 1 concurrent workers.\n",
      "[Parallel(n_jobs=1)]: Done 120 out of 120 | elapsed:   24.4s finished\n"
     ]
    },
    {
     "name": "stdout",
     "output_type": "stream",
     "text": [
      "best score: 0.6783625730994152\n",
      "Fitting 10 folds for each of 12 candidates, totalling 120 fits\n"
     ]
    },
    {
     "name": "stderr",
     "output_type": "stream",
     "text": [
      "[Parallel(n_jobs=1)]: Using backend SequentialBackend with 1 concurrent workers.\n",
      "[Parallel(n_jobs=1)]: Done 120 out of 120 | elapsed:   20.4s finished\n"
     ]
    },
    {
     "name": "stdout",
     "output_type": "stream",
     "text": [
      "best score: 0.6783625730994152\n",
      "Fitting 10 folds for each of 12 candidates, totalling 120 fits\n"
     ]
    },
    {
     "name": "stderr",
     "output_type": "stream",
     "text": [
      "[Parallel(n_jobs=1)]: Using backend SequentialBackend with 1 concurrent workers.\n",
      "[Parallel(n_jobs=1)]: Done 120 out of 120 | elapsed:   22.7s finished\n"
     ]
    },
    {
     "name": "stdout",
     "output_type": "stream",
     "text": [
      "best score: 0.6783625730994152\n",
      "Split: 1\n",
      "Split: 2\n",
      "Split: 3\n",
      "Split: 4\n",
      "Split: 5\n",
      "Split: 6\n",
      "Split: 7\n",
      "Split: 8\n",
      "Split: 9\n",
      "Split: 10\n",
      "Training Testing Accuracy for n_games=6 team=7 : 65.79% (2.63%)\n",
      "(174, 1130)\n",
      "(174, 1)\n",
      "X_train shape: (156, 1891)\n",
      "X_test shape: (18, 1891)\n",
      "Fitting 10 folds for each of 12 candidates, totalling 120 fits\n"
     ]
    },
    {
     "name": "stderr",
     "output_type": "stream",
     "text": [
      "[Parallel(n_jobs=1)]: Using backend SequentialBackend with 1 concurrent workers.\n",
      "[Parallel(n_jobs=1)]: Done 120 out of 120 | elapsed:   27.3s finished\n"
     ]
    },
    {
     "name": "stdout",
     "output_type": "stream",
     "text": [
      "best score: 0.717948717948718\n",
      "Fitting 10 folds for each of 12 candidates, totalling 120 fits\n"
     ]
    },
    {
     "name": "stderr",
     "output_type": "stream",
     "text": [
      "[Parallel(n_jobs=1)]: Using backend SequentialBackend with 1 concurrent workers.\n",
      "[Parallel(n_jobs=1)]: Done 120 out of 120 | elapsed:   22.6s finished\n"
     ]
    },
    {
     "name": "stdout",
     "output_type": "stream",
     "text": [
      "best score: 0.717948717948718\n",
      "Fitting 10 folds for each of 12 candidates, totalling 120 fits\n"
     ]
    },
    {
     "name": "stderr",
     "output_type": "stream",
     "text": [
      "[Parallel(n_jobs=1)]: Using backend SequentialBackend with 1 concurrent workers.\n",
      "[Parallel(n_jobs=1)]: Done 120 out of 120 | elapsed:   21.1s finished\n"
     ]
    },
    {
     "name": "stdout",
     "output_type": "stream",
     "text": [
      "best score: 0.717948717948718\n",
      "Fitting 10 folds for each of 12 candidates, totalling 120 fits\n"
     ]
    },
    {
     "name": "stderr",
     "output_type": "stream",
     "text": [
      "[Parallel(n_jobs=1)]: Using backend SequentialBackend with 1 concurrent workers.\n",
      "[Parallel(n_jobs=1)]: Done 120 out of 120 | elapsed:   22.1s finished\n"
     ]
    },
    {
     "name": "stdout",
     "output_type": "stream",
     "text": [
      "best score: 0.717948717948718\n",
      "Fitting 10 folds for each of 12 candidates, totalling 120 fits\n"
     ]
    },
    {
     "name": "stderr",
     "output_type": "stream",
     "text": [
      "[Parallel(n_jobs=1)]: Using backend SequentialBackend with 1 concurrent workers.\n",
      "[Parallel(n_jobs=1)]: Done 120 out of 120 | elapsed:   20.9s finished\n"
     ]
    },
    {
     "name": "stdout",
     "output_type": "stream",
     "text": [
      "best score: 0.717948717948718\n",
      "Split: 1\n",
      "Split: 2\n",
      "Split: 3\n",
      "Split: 4\n",
      "Split: 5\n",
      "Split: 6\n",
      "Split: 7\n",
      "Split: 8\n",
      "Split: 9\n",
      "Split: 10\n",
      "Training Testing Accuracy for n_games=6 team=8 : 71.83% (1.73%)\n",
      "(187, 1130)\n",
      "(187, 1)\n",
      "X_train shape: (168, 1901)\n",
      "X_test shape: (19, 1901)\n",
      "Fitting 10 folds for each of 12 candidates, totalling 120 fits\n"
     ]
    },
    {
     "name": "stderr",
     "output_type": "stream",
     "text": [
      "[Parallel(n_jobs=1)]: Using backend SequentialBackend with 1 concurrent workers.\n",
      "[Parallel(n_jobs=1)]: Done 120 out of 120 | elapsed:   28.7s finished\n"
     ]
    },
    {
     "name": "stdout",
     "output_type": "stream",
     "text": [
      "best score: 0.5952380952380952\n",
      "Fitting 10 folds for each of 12 candidates, totalling 120 fits\n"
     ]
    },
    {
     "name": "stderr",
     "output_type": "stream",
     "text": [
      "[Parallel(n_jobs=1)]: Using backend SequentialBackend with 1 concurrent workers.\n",
      "[Parallel(n_jobs=1)]: Done 120 out of 120 | elapsed:   59.2s finished\n"
     ]
    },
    {
     "name": "stdout",
     "output_type": "stream",
     "text": [
      "best score: 0.5952380952380952\n",
      "Fitting 10 folds for each of 12 candidates, totalling 120 fits\n"
     ]
    },
    {
     "name": "stderr",
     "output_type": "stream",
     "text": [
      "[Parallel(n_jobs=1)]: Using backend SequentialBackend with 1 concurrent workers.\n",
      "[Parallel(n_jobs=1)]: Done 120 out of 120 | elapsed:   29.3s finished\n"
     ]
    },
    {
     "name": "stdout",
     "output_type": "stream",
     "text": [
      "best score: 0.5952380952380952\n",
      "Fitting 10 folds for each of 12 candidates, totalling 120 fits\n"
     ]
    },
    {
     "name": "stderr",
     "output_type": "stream",
     "text": [
      "[Parallel(n_jobs=1)]: Using backend SequentialBackend with 1 concurrent workers.\n",
      "[Parallel(n_jobs=1)]: Done 120 out of 120 | elapsed:   28.1s finished\n"
     ]
    },
    {
     "name": "stdout",
     "output_type": "stream",
     "text": [
      "best score: 0.5952380952380952\n",
      "Fitting 10 folds for each of 12 candidates, totalling 120 fits\n"
     ]
    },
    {
     "name": "stderr",
     "output_type": "stream",
     "text": [
      "[Parallel(n_jobs=1)]: Using backend SequentialBackend with 1 concurrent workers.\n",
      "[Parallel(n_jobs=1)]: Done 120 out of 120 | elapsed:   30.1s finished\n"
     ]
    },
    {
     "name": "stdout",
     "output_type": "stream",
     "text": [
      "best score: 0.5952380952380952\n",
      "Split: 1\n",
      "Split: 2\n",
      "Split: 3\n",
      "Split: 4\n",
      "Split: 5\n",
      "Split: 6\n",
      "Split: 7\n",
      "Split: 8\n",
      "Split: 9\n",
      "Split: 10\n",
      "Training Testing Accuracy for n_games=6 team=9 : 57.22% (9.19%)\n",
      "(188, 1130)\n",
      "(188, 1)\n",
      "X_train shape: (169, 1896)\n",
      "X_test shape: (19, 1896)\n",
      "Fitting 10 folds for each of 12 candidates, totalling 120 fits\n"
     ]
    },
    {
     "name": "stderr",
     "output_type": "stream",
     "text": [
      "[Parallel(n_jobs=1)]: Using backend SequentialBackend with 1 concurrent workers.\n",
      "[Parallel(n_jobs=1)]: Done 120 out of 120 | elapsed:   27.7s finished\n"
     ]
    },
    {
     "name": "stdout",
     "output_type": "stream",
     "text": [
      "best score: 0.6449704142011834\n",
      "Fitting 10 folds for each of 12 candidates, totalling 120 fits\n"
     ]
    },
    {
     "name": "stderr",
     "output_type": "stream",
     "text": [
      "[Parallel(n_jobs=1)]: Using backend SequentialBackend with 1 concurrent workers.\n",
      "[Parallel(n_jobs=1)]: Done 120 out of 120 | elapsed:   24.0s finished\n"
     ]
    },
    {
     "name": "stdout",
     "output_type": "stream",
     "text": [
      "best score: 0.6686390532544378\n",
      "Fitting 10 folds for each of 12 candidates, totalling 120 fits\n"
     ]
    },
    {
     "name": "stderr",
     "output_type": "stream",
     "text": [
      "[Parallel(n_jobs=1)]: Using backend SequentialBackend with 1 concurrent workers.\n",
      "[Parallel(n_jobs=1)]: Done 120 out of 120 | elapsed:   27.6s finished\n"
     ]
    },
    {
     "name": "stdout",
     "output_type": "stream",
     "text": [
      "best score: 0.6804733727810651\n",
      "Fitting 10 folds for each of 12 candidates, totalling 120 fits\n"
     ]
    },
    {
     "name": "stderr",
     "output_type": "stream",
     "text": [
      "[Parallel(n_jobs=1)]: Using backend SequentialBackend with 1 concurrent workers.\n",
      "[Parallel(n_jobs=1)]: Done 120 out of 120 | elapsed:   23.9s finished\n"
     ]
    },
    {
     "name": "stdout",
     "output_type": "stream",
     "text": [
      "best score: 0.6804733727810651\n",
      "Fitting 10 folds for each of 12 candidates, totalling 120 fits\n"
     ]
    },
    {
     "name": "stderr",
     "output_type": "stream",
     "text": [
      "[Parallel(n_jobs=1)]: Using backend SequentialBackend with 1 concurrent workers.\n",
      "[Parallel(n_jobs=1)]: Done 120 out of 120 | elapsed:   28.0s finished\n"
     ]
    },
    {
     "name": "stdout",
     "output_type": "stream",
     "text": [
      "best score: 0.6923076923076923\n",
      "Split: 1\n",
      "Split: 2\n",
      "Split: 3\n",
      "Split: 4\n",
      "Split: 5\n",
      "Split: 6\n",
      "Split: 7\n",
      "Split: 8\n",
      "Split: 9\n",
      "Split: 10\n",
      "Training Testing Accuracy for n_games=6 team=10 : 64.42% (9.01%)\n",
      "(180, 1130)\n",
      "(180, 1)\n",
      "X_train shape: (162, 1903)\n",
      "X_test shape: (18, 1903)\n",
      "Fitting 10 folds for each of 12 candidates, totalling 120 fits\n"
     ]
    },
    {
     "name": "stderr",
     "output_type": "stream",
     "text": [
      "[Parallel(n_jobs=1)]: Using backend SequentialBackend with 1 concurrent workers.\n",
      "[Parallel(n_jobs=1)]: Done 120 out of 120 | elapsed:   27.8s finished\n"
     ]
    },
    {
     "name": "stdout",
     "output_type": "stream",
     "text": [
      "best score: 0.5802469135802469\n",
      "Fitting 10 folds for each of 12 candidates, totalling 120 fits\n"
     ]
    },
    {
     "name": "stderr",
     "output_type": "stream",
     "text": [
      "[Parallel(n_jobs=1)]: Using backend SequentialBackend with 1 concurrent workers.\n",
      "[Parallel(n_jobs=1)]: Done 120 out of 120 | elapsed:   28.0s finished\n"
     ]
    },
    {
     "name": "stdout",
     "output_type": "stream",
     "text": [
      "best score: 0.5987654320987654\n",
      "Fitting 10 folds for each of 12 candidates, totalling 120 fits\n"
     ]
    },
    {
     "name": "stderr",
     "output_type": "stream",
     "text": [
      "[Parallel(n_jobs=1)]: Using backend SequentialBackend with 1 concurrent workers.\n",
      "[Parallel(n_jobs=1)]: Done 120 out of 120 | elapsed:   32.3s finished\n"
     ]
    },
    {
     "name": "stdout",
     "output_type": "stream",
     "text": [
      "best score: 0.5987654320987654\n",
      "Fitting 10 folds for each of 12 candidates, totalling 120 fits\n"
     ]
    },
    {
     "name": "stderr",
     "output_type": "stream",
     "text": [
      "[Parallel(n_jobs=1)]: Using backend SequentialBackend with 1 concurrent workers.\n",
      "[Parallel(n_jobs=1)]: Done 120 out of 120 | elapsed:   26.9s finished\n"
     ]
    },
    {
     "name": "stdout",
     "output_type": "stream",
     "text": [
      "best score: 0.6234567901234568\n",
      "Fitting 10 folds for each of 12 candidates, totalling 120 fits\n"
     ]
    },
    {
     "name": "stderr",
     "output_type": "stream",
     "text": [
      "[Parallel(n_jobs=1)]: Using backend SequentialBackend with 1 concurrent workers.\n",
      "[Parallel(n_jobs=1)]: Done 120 out of 120 | elapsed:   40.4s finished\n"
     ]
    },
    {
     "name": "stdout",
     "output_type": "stream",
     "text": [
      "best score: 0.6296296296296297\n",
      "Split: 1\n",
      "Split: 2\n",
      "Split: 3\n",
      "Split: 4\n",
      "Split: 5\n",
      "Split: 6\n",
      "Split: 7\n",
      "Split: 8\n",
      "Split: 9\n",
      "Split: 10\n",
      "Training Testing Accuracy for n_games=6 team=11 : 58.89% (6.19%)\n",
      "(181, 1130)\n",
      "(181, 1)\n",
      "X_train shape: (162, 1894)\n",
      "X_test shape: (19, 1894)\n",
      "Fitting 10 folds for each of 12 candidates, totalling 120 fits\n"
     ]
    },
    {
     "name": "stderr",
     "output_type": "stream",
     "text": [
      "[Parallel(n_jobs=1)]: Using backend SequentialBackend with 1 concurrent workers.\n",
      "[Parallel(n_jobs=1)]: Done 120 out of 120 | elapsed:   28.1s finished\n"
     ]
    },
    {
     "name": "stdout",
     "output_type": "stream",
     "text": [
      "best score: 0.5802469135802469\n",
      "Fitting 10 folds for each of 12 candidates, totalling 120 fits\n"
     ]
    },
    {
     "name": "stderr",
     "output_type": "stream",
     "text": [
      "[Parallel(n_jobs=1)]: Using backend SequentialBackend with 1 concurrent workers.\n",
      "[Parallel(n_jobs=1)]: Done 120 out of 120 | elapsed:   26.6s finished\n"
     ]
    },
    {
     "name": "stdout",
     "output_type": "stream",
     "text": [
      "best score: 0.5802469135802469\n",
      "Fitting 10 folds for each of 12 candidates, totalling 120 fits\n"
     ]
    },
    {
     "name": "stderr",
     "output_type": "stream",
     "text": [
      "[Parallel(n_jobs=1)]: Using backend SequentialBackend with 1 concurrent workers.\n",
      "[Parallel(n_jobs=1)]: Done 120 out of 120 | elapsed:   22.1s finished\n"
     ]
    },
    {
     "name": "stdout",
     "output_type": "stream",
     "text": [
      "best score: 0.5802469135802469\n",
      "Fitting 10 folds for each of 12 candidates, totalling 120 fits\n"
     ]
    },
    {
     "name": "stderr",
     "output_type": "stream",
     "text": [
      "[Parallel(n_jobs=1)]: Using backend SequentialBackend with 1 concurrent workers.\n",
      "[Parallel(n_jobs=1)]: Done 120 out of 120 | elapsed:   24.0s finished\n"
     ]
    },
    {
     "name": "stdout",
     "output_type": "stream",
     "text": [
      "best score: 0.5802469135802469\n",
      "Fitting 10 folds for each of 12 candidates, totalling 120 fits\n"
     ]
    },
    {
     "name": "stderr",
     "output_type": "stream",
     "text": [
      "[Parallel(n_jobs=1)]: Using backend SequentialBackend with 1 concurrent workers.\n",
      "[Parallel(n_jobs=1)]: Done 120 out of 120 | elapsed:   51.5s finished\n"
     ]
    },
    {
     "name": "stdout",
     "output_type": "stream",
     "text": [
      "best score: 0.5802469135802469\n",
      "Split: 1\n",
      "Split: 2\n",
      "Split: 3\n",
      "Split: 4\n",
      "Split: 5\n",
      "Split: 6\n",
      "Split: 7\n",
      "Split: 8\n",
      "Split: 9\n",
      "Split: 10\n",
      "Training Testing Accuracy for n_games=6 team=12 : 53.07% (9.81%)\n",
      "(182, 1130)\n",
      "(182, 1)\n",
      "X_train shape: (163, 1916)\n",
      "X_test shape: (19, 1916)\n",
      "Fitting 10 folds for each of 12 candidates, totalling 120 fits\n"
     ]
    },
    {
     "name": "stderr",
     "output_type": "stream",
     "text": [
      "[Parallel(n_jobs=1)]: Using backend SequentialBackend with 1 concurrent workers.\n",
      "[Parallel(n_jobs=1)]: Done 120 out of 120 | elapsed:   28.3s finished\n"
     ]
    },
    {
     "name": "stdout",
     "output_type": "stream",
     "text": [
      "best score: 0.6134969325153374\n",
      "Fitting 10 folds for each of 12 candidates, totalling 120 fits\n"
     ]
    },
    {
     "name": "stderr",
     "output_type": "stream",
     "text": [
      "[Parallel(n_jobs=1)]: Using backend SequentialBackend with 1 concurrent workers.\n",
      "[Parallel(n_jobs=1)]: Done 120 out of 120 | elapsed:   34.4s finished\n"
     ]
    },
    {
     "name": "stdout",
     "output_type": "stream",
     "text": [
      "best score: 0.6134969325153374\n",
      "Fitting 10 folds for each of 12 candidates, totalling 120 fits\n"
     ]
    },
    {
     "name": "stderr",
     "output_type": "stream",
     "text": [
      "[Parallel(n_jobs=1)]: Using backend SequentialBackend with 1 concurrent workers.\n",
      "[Parallel(n_jobs=1)]: Done 120 out of 120 | elapsed:   29.1s finished\n"
     ]
    },
    {
     "name": "stdout",
     "output_type": "stream",
     "text": [
      "best score: 0.6257668711656442\n",
      "Fitting 10 folds for each of 12 candidates, totalling 120 fits\n"
     ]
    },
    {
     "name": "stderr",
     "output_type": "stream",
     "text": [
      "[Parallel(n_jobs=1)]: Using backend SequentialBackend with 1 concurrent workers.\n",
      "[Parallel(n_jobs=1)]: Done 120 out of 120 | elapsed:   25.2s finished\n"
     ]
    },
    {
     "name": "stdout",
     "output_type": "stream",
     "text": [
      "best score: 0.6441717791411042\n",
      "Fitting 10 folds for each of 12 candidates, totalling 120 fits\n"
     ]
    },
    {
     "name": "stderr",
     "output_type": "stream",
     "text": [
      "[Parallel(n_jobs=1)]: Using backend SequentialBackend with 1 concurrent workers.\n",
      "[Parallel(n_jobs=1)]: Done 120 out of 120 | elapsed:   28.0s finished\n"
     ]
    },
    {
     "name": "stdout",
     "output_type": "stream",
     "text": [
      "best score: 0.6503067484662577\n",
      "Split: 1\n",
      "Split: 2\n",
      "Split: 3\n",
      "Split: 4\n",
      "Split: 5\n",
      "Split: 6\n",
      "Split: 7\n",
      "Split: 8\n",
      "Split: 9\n",
      "Split: 10\n",
      "Training Testing Accuracy for n_games=6 team=13 : 59.74% (7.94%)\n",
      "(185, 1130)\n",
      "(185, 1)\n",
      "X_train shape: (166, 1895)\n",
      "X_test shape: (19, 1895)\n",
      "Fitting 10 folds for each of 12 candidates, totalling 120 fits\n"
     ]
    },
    {
     "name": "stderr",
     "output_type": "stream",
     "text": [
      "[Parallel(n_jobs=1)]: Using backend SequentialBackend with 1 concurrent workers.\n",
      "[Parallel(n_jobs=1)]: Done 120 out of 120 | elapsed:   28.0s finished\n"
     ]
    },
    {
     "name": "stdout",
     "output_type": "stream",
     "text": [
      "best score: 0.6265060240963856\n",
      "Fitting 10 folds for each of 12 candidates, totalling 120 fits\n"
     ]
    },
    {
     "name": "stderr",
     "output_type": "stream",
     "text": [
      "[Parallel(n_jobs=1)]: Using backend SequentialBackend with 1 concurrent workers.\n",
      "[Parallel(n_jobs=1)]: Done 120 out of 120 | elapsed:   35.8s finished\n"
     ]
    },
    {
     "name": "stdout",
     "output_type": "stream",
     "text": [
      "best score: 0.6265060240963856\n",
      "Fitting 10 folds for each of 12 candidates, totalling 120 fits\n"
     ]
    },
    {
     "name": "stderr",
     "output_type": "stream",
     "text": [
      "[Parallel(n_jobs=1)]: Using backend SequentialBackend with 1 concurrent workers.\n",
      "[Parallel(n_jobs=1)]: Done 120 out of 120 | elapsed:   28.9s finished\n"
     ]
    },
    {
     "name": "stdout",
     "output_type": "stream",
     "text": [
      "best score: 0.6325301204819277\n",
      "Fitting 10 folds for each of 12 candidates, totalling 120 fits\n"
     ]
    },
    {
     "name": "stderr",
     "output_type": "stream",
     "text": [
      "[Parallel(n_jobs=1)]: Using backend SequentialBackend with 1 concurrent workers.\n",
      "[Parallel(n_jobs=1)]: Done 120 out of 120 | elapsed:   23.2s finished\n"
     ]
    },
    {
     "name": "stdout",
     "output_type": "stream",
     "text": [
      "best score: 0.6325301204819277\n",
      "Fitting 10 folds for each of 12 candidates, totalling 120 fits\n"
     ]
    },
    {
     "name": "stderr",
     "output_type": "stream",
     "text": [
      "[Parallel(n_jobs=1)]: Using backend SequentialBackend with 1 concurrent workers.\n",
      "[Parallel(n_jobs=1)]: Done 120 out of 120 | elapsed:   25.9s finished\n"
     ]
    },
    {
     "name": "stdout",
     "output_type": "stream",
     "text": [
      "best score: 0.6325301204819277\n",
      "Split: 1\n",
      "Split: 2\n",
      "Split: 3\n",
      "Split: 4\n",
      "Split: 5\n",
      "Split: 6\n",
      "Split: 7\n",
      "Split: 8\n",
      "Split: 9\n",
      "Split: 10\n",
      "Training Testing Accuracy for n_games=6 team=14 : 61.61% (4.58%)\n",
      "(174, 1130)\n",
      "(174, 1)\n",
      "X_train shape: (156, 1892)\n",
      "X_test shape: (18, 1892)\n",
      "Fitting 10 folds for each of 12 candidates, totalling 120 fits\n"
     ]
    },
    {
     "name": "stderr",
     "output_type": "stream",
     "text": [
      "[Parallel(n_jobs=1)]: Using backend SequentialBackend with 1 concurrent workers.\n",
      "[Parallel(n_jobs=1)]: Done 120 out of 120 | elapsed:   28.1s finished\n"
     ]
    },
    {
     "name": "stdout",
     "output_type": "stream",
     "text": [
      "best score: 0.6666666666666666\n",
      "Fitting 10 folds for each of 12 candidates, totalling 120 fits\n"
     ]
    },
    {
     "name": "stderr",
     "output_type": "stream",
     "text": [
      "[Parallel(n_jobs=1)]: Using backend SequentialBackend with 1 concurrent workers.\n",
      "[Parallel(n_jobs=1)]: Done 120 out of 120 | elapsed:   27.9s finished\n"
     ]
    },
    {
     "name": "stdout",
     "output_type": "stream",
     "text": [
      "best score: 0.6666666666666666\n",
      "Fitting 10 folds for each of 12 candidates, totalling 120 fits\n"
     ]
    },
    {
     "name": "stderr",
     "output_type": "stream",
     "text": [
      "[Parallel(n_jobs=1)]: Using backend SequentialBackend with 1 concurrent workers.\n",
      "[Parallel(n_jobs=1)]: Done 120 out of 120 | elapsed:   20.3s finished\n"
     ]
    },
    {
     "name": "stdout",
     "output_type": "stream",
     "text": [
      "best score: 0.6666666666666666\n",
      "Fitting 10 folds for each of 12 candidates, totalling 120 fits\n"
     ]
    },
    {
     "name": "stderr",
     "output_type": "stream",
     "text": [
      "[Parallel(n_jobs=1)]: Using backend SequentialBackend with 1 concurrent workers.\n",
      "[Parallel(n_jobs=1)]: Done 120 out of 120 | elapsed:   24.7s finished\n"
     ]
    },
    {
     "name": "stdout",
     "output_type": "stream",
     "text": [
      "best score: 0.6666666666666666\n",
      "Fitting 10 folds for each of 12 candidates, totalling 120 fits\n"
     ]
    },
    {
     "name": "stderr",
     "output_type": "stream",
     "text": [
      "[Parallel(n_jobs=1)]: Using backend SequentialBackend with 1 concurrent workers.\n",
      "[Parallel(n_jobs=1)]: Done 120 out of 120 | elapsed:   28.5s finished\n"
     ]
    },
    {
     "name": "stdout",
     "output_type": "stream",
     "text": [
      "best score: 0.6666666666666666\n",
      "Split: 1\n",
      "Split: 2\n",
      "Split: 3\n",
      "Split: 4\n",
      "Split: 5\n",
      "Split: 6\n",
      "Split: 7\n",
      "Split: 8\n",
      "Split: 9\n",
      "Split: 10\n",
      "Training Testing Accuracy for n_games=6 team=15 : 60.95% (6.57%)\n",
      "(190, 1130)\n",
      "(190, 1)\n",
      "X_train shape: (171, 1904)\n",
      "X_test shape: (19, 1904)\n",
      "Fitting 10 folds for each of 12 candidates, totalling 120 fits\n"
     ]
    },
    {
     "name": "stderr",
     "output_type": "stream",
     "text": [
      "[Parallel(n_jobs=1)]: Using backend SequentialBackend with 1 concurrent workers.\n",
      "[Parallel(n_jobs=1)]: Done 120 out of 120 | elapsed:   28.0s finished\n"
     ]
    },
    {
     "name": "stdout",
     "output_type": "stream",
     "text": [
      "best score: 0.6432748538011696\n",
      "Fitting 10 folds for each of 12 candidates, totalling 120 fits\n"
     ]
    },
    {
     "name": "stderr",
     "output_type": "stream",
     "text": [
      "[Parallel(n_jobs=1)]: Using backend SequentialBackend with 1 concurrent workers.\n",
      "[Parallel(n_jobs=1)]: Done 120 out of 120 | elapsed:   35.9s finished\n"
     ]
    },
    {
     "name": "stdout",
     "output_type": "stream",
     "text": [
      "best score: 0.6666666666666666\n",
      "Fitting 10 folds for each of 12 candidates, totalling 120 fits\n"
     ]
    },
    {
     "name": "stderr",
     "output_type": "stream",
     "text": [
      "[Parallel(n_jobs=1)]: Using backend SequentialBackend with 1 concurrent workers.\n",
      "[Parallel(n_jobs=1)]: Done 120 out of 120 | elapsed:   30.7s finished\n"
     ]
    },
    {
     "name": "stdout",
     "output_type": "stream",
     "text": [
      "best score: 0.6666666666666666\n",
      "Fitting 10 folds for each of 12 candidates, totalling 120 fits\n"
     ]
    },
    {
     "name": "stderr",
     "output_type": "stream",
     "text": [
      "[Parallel(n_jobs=1)]: Using backend SequentialBackend with 1 concurrent workers.\n",
      "[Parallel(n_jobs=1)]: Done 120 out of 120 | elapsed:   19.2s finished\n"
     ]
    },
    {
     "name": "stdout",
     "output_type": "stream",
     "text": [
      "best score: 0.6666666666666666\n",
      "Fitting 10 folds for each of 12 candidates, totalling 120 fits\n"
     ]
    },
    {
     "name": "stderr",
     "output_type": "stream",
     "text": [
      "[Parallel(n_jobs=1)]: Using backend SequentialBackend with 1 concurrent workers.\n",
      "[Parallel(n_jobs=1)]: Done 120 out of 120 | elapsed:   20.7s finished\n"
     ]
    },
    {
     "name": "stdout",
     "output_type": "stream",
     "text": [
      "best score: 0.6666666666666666\n",
      "Split: 1\n",
      "Split: 2\n",
      "Split: 3\n",
      "Split: 4\n",
      "Split: 5\n",
      "Split: 6\n",
      "Split: 7\n",
      "Split: 8\n",
      "Split: 9\n",
      "Split: 10\n",
      "Training Testing Accuracy for n_games=6 team=16 : 63.16% (4.08%)\n",
      "(185, 1130)\n",
      "(185, 1)\n",
      "X_train shape: (166, 1905)\n",
      "X_test shape: (19, 1905)\n",
      "Fitting 10 folds for each of 12 candidates, totalling 120 fits\n"
     ]
    },
    {
     "name": "stderr",
     "output_type": "stream",
     "text": [
      "[Parallel(n_jobs=1)]: Using backend SequentialBackend with 1 concurrent workers.\n",
      "[Parallel(n_jobs=1)]: Done 120 out of 120 | elapsed:   28.3s finished\n"
     ]
    },
    {
     "name": "stdout",
     "output_type": "stream",
     "text": [
      "best score: 0.6445783132530121\n",
      "Fitting 10 folds for each of 12 candidates, totalling 120 fits\n"
     ]
    },
    {
     "name": "stderr",
     "output_type": "stream",
     "text": [
      "[Parallel(n_jobs=1)]: Using backend SequentialBackend with 1 concurrent workers.\n",
      "[Parallel(n_jobs=1)]: Done 120 out of 120 | elapsed:   36.3s finished\n"
     ]
    },
    {
     "name": "stdout",
     "output_type": "stream",
     "text": [
      "best score: 0.6445783132530121\n",
      "Fitting 10 folds for each of 12 candidates, totalling 120 fits\n"
     ]
    },
    {
     "name": "stderr",
     "output_type": "stream",
     "text": [
      "[Parallel(n_jobs=1)]: Using backend SequentialBackend with 1 concurrent workers.\n",
      "[Parallel(n_jobs=1)]: Done 120 out of 120 | elapsed:   21.7s finished\n"
     ]
    },
    {
     "name": "stdout",
     "output_type": "stream",
     "text": [
      "best score: 0.6445783132530121\n",
      "Fitting 10 folds for each of 12 candidates, totalling 120 fits\n"
     ]
    },
    {
     "name": "stderr",
     "output_type": "stream",
     "text": [
      "[Parallel(n_jobs=1)]: Using backend SequentialBackend with 1 concurrent workers.\n",
      "[Parallel(n_jobs=1)]: Done 120 out of 120 | elapsed:   54.7s finished\n"
     ]
    },
    {
     "name": "stdout",
     "output_type": "stream",
     "text": [
      "best score: 0.6445783132530121\n",
      "Fitting 10 folds for each of 12 candidates, totalling 120 fits\n"
     ]
    },
    {
     "name": "stderr",
     "output_type": "stream",
     "text": [
      "[Parallel(n_jobs=1)]: Using backend SequentialBackend with 1 concurrent workers.\n",
      "[Parallel(n_jobs=1)]: Done 120 out of 120 | elapsed:   22.7s finished\n"
     ]
    },
    {
     "name": "stdout",
     "output_type": "stream",
     "text": [
      "best score: 0.6445783132530121\n",
      "Split: 1\n",
      "Split: 2\n",
      "Split: 3\n",
      "Split: 4\n",
      "Split: 5\n",
      "Split: 6\n",
      "Split: 7\n",
      "Split: 8\n",
      "Split: 9\n",
      "Split: 10\n",
      "Training Testing Accuracy for n_games=6 team=17 : 63.25% (9.59%)\n",
      "(184, 1130)\n",
      "(184, 1)\n",
      "X_train shape: (165, 1918)\n",
      "X_test shape: (19, 1918)\n",
      "Fitting 10 folds for each of 12 candidates, totalling 120 fits\n"
     ]
    },
    {
     "name": "stderr",
     "output_type": "stream",
     "text": [
      "[Parallel(n_jobs=1)]: Using backend SequentialBackend with 1 concurrent workers.\n",
      "[Parallel(n_jobs=1)]: Done 120 out of 120 | elapsed:   28.6s finished\n"
     ]
    },
    {
     "name": "stdout",
     "output_type": "stream",
     "text": [
      "best score: 0.5878787878787879\n",
      "Fitting 10 folds for each of 12 candidates, totalling 120 fits\n"
     ]
    },
    {
     "name": "stderr",
     "output_type": "stream",
     "text": [
      "[Parallel(n_jobs=1)]: Using backend SequentialBackend with 1 concurrent workers.\n",
      "[Parallel(n_jobs=1)]: Done 120 out of 120 | elapsed:   42.7s finished\n"
     ]
    },
    {
     "name": "stdout",
     "output_type": "stream",
     "text": [
      "best score: 0.5878787878787879\n",
      "Fitting 10 folds for each of 12 candidates, totalling 120 fits\n"
     ]
    },
    {
     "name": "stderr",
     "output_type": "stream",
     "text": [
      "[Parallel(n_jobs=1)]: Using backend SequentialBackend with 1 concurrent workers.\n",
      "[Parallel(n_jobs=1)]: Done 120 out of 120 | elapsed:   44.5s finished\n"
     ]
    },
    {
     "name": "stdout",
     "output_type": "stream",
     "text": [
      "best score: 0.5878787878787879\n",
      "Fitting 10 folds for each of 12 candidates, totalling 120 fits\n"
     ]
    },
    {
     "name": "stderr",
     "output_type": "stream",
     "text": [
      "[Parallel(n_jobs=1)]: Using backend SequentialBackend with 1 concurrent workers.\n",
      "[Parallel(n_jobs=1)]: Done 120 out of 120 | elapsed:   37.2s finished\n"
     ]
    },
    {
     "name": "stdout",
     "output_type": "stream",
     "text": [
      "best score: 0.5878787878787879\n",
      "Fitting 10 folds for each of 12 candidates, totalling 120 fits\n"
     ]
    },
    {
     "name": "stderr",
     "output_type": "stream",
     "text": [
      "[Parallel(n_jobs=1)]: Using backend SequentialBackend with 1 concurrent workers.\n",
      "[Parallel(n_jobs=1)]: Done 120 out of 120 | elapsed:   35.6s finished\n"
     ]
    },
    {
     "name": "stdout",
     "output_type": "stream",
     "text": [
      "best score: 0.5878787878787879\n",
      "Split: 1\n",
      "Split: 2\n",
      "Split: 3\n",
      "Split: 4\n",
      "Split: 5\n",
      "Split: 6\n",
      "Split: 7\n",
      "Split: 8\n",
      "Split: 9\n",
      "Split: 10\n",
      "Training Testing Accuracy for n_games=6 team=18 : 50.53% (12.04%)\n",
      "Accuracy for Team Models for n_games= 6 : 60.99% (5.25%)\n",
      "(179, 1316)\n",
      "(179, 1)\n",
      "X_train shape: (161, 2211)\n",
      "X_test shape: (18, 2211)\n",
      "Fitting 10 folds for each of 12 candidates, totalling 120 fits\n"
     ]
    },
    {
     "name": "stderr",
     "output_type": "stream",
     "text": [
      "[Parallel(n_jobs=1)]: Using backend SequentialBackend with 1 concurrent workers.\n",
      "[Parallel(n_jobs=1)]: Done 120 out of 120 | elapsed:   32.3s finished\n"
     ]
    },
    {
     "name": "stdout",
     "output_type": "stream",
     "text": [
      "best score: 0.6086956521739131\n",
      "Fitting 10 folds for each of 12 candidates, totalling 120 fits\n"
     ]
    },
    {
     "name": "stderr",
     "output_type": "stream",
     "text": [
      "[Parallel(n_jobs=1)]: Using backend SequentialBackend with 1 concurrent workers.\n",
      "[Parallel(n_jobs=1)]: Done 120 out of 120 | elapsed:   26.3s finished\n"
     ]
    },
    {
     "name": "stdout",
     "output_type": "stream",
     "text": [
      "best score: 0.6086956521739131\n",
      "Fitting 10 folds for each of 12 candidates, totalling 120 fits\n"
     ]
    },
    {
     "name": "stderr",
     "output_type": "stream",
     "text": [
      "[Parallel(n_jobs=1)]: Using backend SequentialBackend with 1 concurrent workers.\n",
      "[Parallel(n_jobs=1)]: Done 120 out of 120 | elapsed:  2.2min finished\n"
     ]
    },
    {
     "name": "stdout",
     "output_type": "stream",
     "text": [
      "best score: 0.6273291925465838\n",
      "Fitting 10 folds for each of 12 candidates, totalling 120 fits\n"
     ]
    },
    {
     "name": "stderr",
     "output_type": "stream",
     "text": [
      "[Parallel(n_jobs=1)]: Using backend SequentialBackend with 1 concurrent workers.\n",
      "[Parallel(n_jobs=1)]: Done 120 out of 120 | elapsed:  1.2min finished\n"
     ]
    },
    {
     "name": "stdout",
     "output_type": "stream",
     "text": [
      "best score: 0.6335403726708074\n",
      "Fitting 10 folds for each of 12 candidates, totalling 120 fits\n"
     ]
    },
    {
     "name": "stderr",
     "output_type": "stream",
     "text": [
      "[Parallel(n_jobs=1)]: Using backend SequentialBackend with 1 concurrent workers.\n",
      "[Parallel(n_jobs=1)]: Done 120 out of 120 | elapsed:   33.2s finished\n"
     ]
    },
    {
     "name": "stdout",
     "output_type": "stream",
     "text": [
      "best score: 0.6335403726708074\n",
      "Split: 1\n",
      "Split: 2\n",
      "Split: 3\n",
      "Split: 4\n",
      "Split: 5\n",
      "Split: 6\n",
      "Split: 7\n",
      "Split: 8\n",
      "Split: 9\n",
      "Split: 10\n",
      "Training Testing Accuracy for n_games=7 team=1 : 59.67% (11.00%)\n",
      "(177, 1316)\n",
      "(177, 1)\n",
      "X_train shape: (159, 2190)\n",
      "X_test shape: (18, 2190)\n",
      "Fitting 10 folds for each of 12 candidates, totalling 120 fits\n"
     ]
    },
    {
     "name": "stderr",
     "output_type": "stream",
     "text": [
      "[Parallel(n_jobs=1)]: Using backend SequentialBackend with 1 concurrent workers.\n",
      "[Parallel(n_jobs=1)]: Done 120 out of 120 | elapsed:   32.0s finished\n"
     ]
    },
    {
     "name": "stdout",
     "output_type": "stream",
     "text": [
      "best score: 0.6540880503144654\n",
      "Fitting 10 folds for each of 12 candidates, totalling 120 fits\n"
     ]
    },
    {
     "name": "stderr",
     "output_type": "stream",
     "text": [
      "[Parallel(n_jobs=1)]: Using backend SequentialBackend with 1 concurrent workers.\n",
      "[Parallel(n_jobs=1)]: Done 120 out of 120 | elapsed:   26.8s finished\n"
     ]
    },
    {
     "name": "stdout",
     "output_type": "stream",
     "text": [
      "best score: 0.6540880503144654\n",
      "Fitting 10 folds for each of 12 candidates, totalling 120 fits\n"
     ]
    },
    {
     "name": "stderr",
     "output_type": "stream",
     "text": [
      "[Parallel(n_jobs=1)]: Using backend SequentialBackend with 1 concurrent workers.\n",
      "[Parallel(n_jobs=1)]: Done 120 out of 120 | elapsed:   30.4s finished\n"
     ]
    },
    {
     "name": "stdout",
     "output_type": "stream",
     "text": [
      "best score: 0.6540880503144654\n",
      "Fitting 10 folds for each of 12 candidates, totalling 120 fits\n"
     ]
    },
    {
     "name": "stderr",
     "output_type": "stream",
     "text": [
      "[Parallel(n_jobs=1)]: Using backend SequentialBackend with 1 concurrent workers.\n",
      "[Parallel(n_jobs=1)]: Done 120 out of 120 | elapsed:   45.5s finished\n"
     ]
    },
    {
     "name": "stdout",
     "output_type": "stream",
     "text": [
      "best score: 0.6540880503144654\n",
      "Fitting 10 folds for each of 12 candidates, totalling 120 fits\n"
     ]
    },
    {
     "name": "stderr",
     "output_type": "stream",
     "text": [
      "[Parallel(n_jobs=1)]: Using backend SequentialBackend with 1 concurrent workers.\n",
      "[Parallel(n_jobs=1)]: Done 120 out of 120 | elapsed:   27.8s finished\n"
     ]
    },
    {
     "name": "stdout",
     "output_type": "stream",
     "text": [
      "best score: 0.6540880503144654\n",
      "Split: 1\n",
      "Split: 2\n",
      "Split: 3\n",
      "Split: 4\n",
      "Split: 5\n",
      "Split: 6\n",
      "Split: 7\n",
      "Split: 8\n",
      "Split: 9\n",
      "Split: 10\n",
      "Training Testing Accuracy for n_games=7 team=2 : 62.71% (8.36%)\n",
      "(175, 1316)\n",
      "(175, 1)\n",
      "X_train shape: (157, 2184)\n",
      "X_test shape: (18, 2184)\n",
      "Fitting 10 folds for each of 12 candidates, totalling 120 fits\n"
     ]
    },
    {
     "name": "stderr",
     "output_type": "stream",
     "text": [
      "[Parallel(n_jobs=1)]: Using backend SequentialBackend with 1 concurrent workers.\n",
      "[Parallel(n_jobs=1)]: Done 120 out of 120 | elapsed:   31.2s finished\n"
     ]
    },
    {
     "name": "stdout",
     "output_type": "stream",
     "text": [
      "best score: 0.7070063694267515\n",
      "Fitting 10 folds for each of 12 candidates, totalling 120 fits\n"
     ]
    },
    {
     "name": "stderr",
     "output_type": "stream",
     "text": [
      "[Parallel(n_jobs=1)]: Using backend SequentialBackend with 1 concurrent workers.\n",
      "[Parallel(n_jobs=1)]: Done 120 out of 120 | elapsed:   27.4s finished\n"
     ]
    },
    {
     "name": "stdout",
     "output_type": "stream",
     "text": [
      "best score: 0.7133757961783439\n",
      "Fitting 10 folds for each of 12 candidates, totalling 120 fits\n"
     ]
    },
    {
     "name": "stderr",
     "output_type": "stream",
     "text": [
      "[Parallel(n_jobs=1)]: Using backend SequentialBackend with 1 concurrent workers.\n",
      "[Parallel(n_jobs=1)]: Done 120 out of 120 | elapsed:   31.2s finished\n"
     ]
    },
    {
     "name": "stdout",
     "output_type": "stream",
     "text": [
      "best score: 0.7261146496815286\n",
      "Fitting 10 folds for each of 12 candidates, totalling 120 fits\n"
     ]
    },
    {
     "name": "stderr",
     "output_type": "stream",
     "text": [
      "[Parallel(n_jobs=1)]: Using backend SequentialBackend with 1 concurrent workers.\n",
      "[Parallel(n_jobs=1)]: Done 120 out of 120 | elapsed:   25.7s finished\n"
     ]
    },
    {
     "name": "stdout",
     "output_type": "stream",
     "text": [
      "best score: 0.7261146496815286\n",
      "Fitting 10 folds for each of 12 candidates, totalling 120 fits\n"
     ]
    },
    {
     "name": "stderr",
     "output_type": "stream",
     "text": [
      "[Parallel(n_jobs=1)]: Using backend SequentialBackend with 1 concurrent workers.\n",
      "[Parallel(n_jobs=1)]: Done 120 out of 120 | elapsed:   27.2s finished\n"
     ]
    },
    {
     "name": "stdout",
     "output_type": "stream",
     "text": [
      "best score: 0.7261146496815286\n",
      "Split: 1\n",
      "Split: 2\n",
      "Split: 3\n",
      "Split: 4\n",
      "Split: 5\n",
      "Split: 6\n",
      "Split: 7\n",
      "Split: 8\n",
      "Split: 9\n",
      "Split: 10\n",
      "Training Testing Accuracy for n_games=7 team=3 : 62.81% (7.00%)\n",
      "(180, 1316)\n",
      "(180, 1)\n",
      "X_train shape: (162, 2187)\n",
      "X_test shape: (18, 2187)\n",
      "Fitting 10 folds for each of 12 candidates, totalling 120 fits\n"
     ]
    },
    {
     "name": "stderr",
     "output_type": "stream",
     "text": [
      "[Parallel(n_jobs=1)]: Using backend SequentialBackend with 1 concurrent workers.\n",
      "[Parallel(n_jobs=1)]: Done 120 out of 120 | elapsed:   31.6s finished\n"
     ]
    },
    {
     "name": "stdout",
     "output_type": "stream",
     "text": [
      "best score: 0.5864197530864198\n",
      "Fitting 10 folds for each of 12 candidates, totalling 120 fits\n"
     ]
    },
    {
     "name": "stderr",
     "output_type": "stream",
     "text": [
      "[Parallel(n_jobs=1)]: Using backend SequentialBackend with 1 concurrent workers.\n",
      "[Parallel(n_jobs=1)]: Done 120 out of 120 | elapsed:   30.6s finished\n"
     ]
    },
    {
     "name": "stdout",
     "output_type": "stream",
     "text": [
      "best score: 0.5864197530864198\n",
      "Fitting 10 folds for each of 12 candidates, totalling 120 fits\n"
     ]
    },
    {
     "name": "stderr",
     "output_type": "stream",
     "text": [
      "[Parallel(n_jobs=1)]: Using backend SequentialBackend with 1 concurrent workers.\n",
      "[Parallel(n_jobs=1)]: Done 120 out of 120 | elapsed:   27.2s finished\n"
     ]
    },
    {
     "name": "stdout",
     "output_type": "stream",
     "text": [
      "best score: 0.5864197530864198\n",
      "Fitting 10 folds for each of 12 candidates, totalling 120 fits\n"
     ]
    },
    {
     "name": "stderr",
     "output_type": "stream",
     "text": [
      "[Parallel(n_jobs=1)]: Using backend SequentialBackend with 1 concurrent workers.\n",
      "[Parallel(n_jobs=1)]: Done 120 out of 120 | elapsed:   45.2s finished\n"
     ]
    },
    {
     "name": "stdout",
     "output_type": "stream",
     "text": [
      "best score: 0.5864197530864198\n",
      "Fitting 10 folds for each of 12 candidates, totalling 120 fits\n"
     ]
    },
    {
     "name": "stderr",
     "output_type": "stream",
     "text": [
      "[Parallel(n_jobs=1)]: Using backend SequentialBackend with 1 concurrent workers.\n",
      "[Parallel(n_jobs=1)]: Done 120 out of 120 | elapsed:  1.1min finished\n"
     ]
    },
    {
     "name": "stdout",
     "output_type": "stream",
     "text": [
      "best score: 0.5864197530864198\n",
      "Split: 1\n",
      "Split: 2\n",
      "Split: 3\n",
      "Split: 4\n",
      "Split: 5\n",
      "Split: 6\n",
      "Split: 7\n",
      "Split: 8\n",
      "Split: 9\n",
      "Split: 10\n",
      "Training Testing Accuracy for n_games=7 team=4 : 58.33% (14.96%)\n",
      "(177, 1316)\n",
      "(177, 1)\n",
      "X_train shape: (159, 2171)\n",
      "X_test shape: (18, 2171)\n",
      "Fitting 10 folds for each of 12 candidates, totalling 120 fits\n"
     ]
    },
    {
     "name": "stderr",
     "output_type": "stream",
     "text": [
      "[Parallel(n_jobs=1)]: Using backend SequentialBackend with 1 concurrent workers.\n",
      "[Parallel(n_jobs=1)]: Done 120 out of 120 | elapsed:   32.0s finished\n"
     ]
    },
    {
     "name": "stdout",
     "output_type": "stream",
     "text": [
      "best score: 0.5660377358490566\n",
      "Fitting 10 folds for each of 12 candidates, totalling 120 fits\n"
     ]
    },
    {
     "name": "stderr",
     "output_type": "stream",
     "text": [
      "[Parallel(n_jobs=1)]: Using backend SequentialBackend with 1 concurrent workers.\n",
      "[Parallel(n_jobs=1)]: Done 120 out of 120 | elapsed:   32.3s finished\n"
     ]
    },
    {
     "name": "stdout",
     "output_type": "stream",
     "text": [
      "best score: 0.5786163522012578\n",
      "Fitting 10 folds for each of 12 candidates, totalling 120 fits\n"
     ]
    },
    {
     "name": "stderr",
     "output_type": "stream",
     "text": [
      "[Parallel(n_jobs=1)]: Using backend SequentialBackend with 1 concurrent workers.\n",
      "[Parallel(n_jobs=1)]: Done 120 out of 120 | elapsed:   25.4s finished\n"
     ]
    },
    {
     "name": "stdout",
     "output_type": "stream",
     "text": [
      "best score: 0.5786163522012578\n",
      "Fitting 10 folds for each of 12 candidates, totalling 120 fits\n"
     ]
    },
    {
     "name": "stderr",
     "output_type": "stream",
     "text": [
      "[Parallel(n_jobs=1)]: Using backend SequentialBackend with 1 concurrent workers.\n",
      "[Parallel(n_jobs=1)]: Done 120 out of 120 | elapsed:   28.9s finished\n"
     ]
    },
    {
     "name": "stdout",
     "output_type": "stream",
     "text": [
      "best score: 0.5786163522012578\n",
      "Fitting 10 folds for each of 12 candidates, totalling 120 fits\n"
     ]
    },
    {
     "name": "stderr",
     "output_type": "stream",
     "text": [
      "[Parallel(n_jobs=1)]: Using backend SequentialBackend with 1 concurrent workers.\n",
      "[Parallel(n_jobs=1)]: Done 120 out of 120 | elapsed:   23.9s finished\n"
     ]
    },
    {
     "name": "stdout",
     "output_type": "stream",
     "text": [
      "best score: 0.5786163522012578\n",
      "Split: 1\n",
      "Split: 2\n",
      "Split: 3\n",
      "Split: 4\n",
      "Split: 5\n",
      "Split: 6\n",
      "Split: 7\n",
      "Split: 8\n",
      "Split: 9\n",
      "Split: 10\n",
      "Training Testing Accuracy for n_games=7 team=5 : 55.72% (14.90%)\n",
      "(180, 1316)\n",
      "(180, 1)\n",
      "X_train shape: (162, 2199)\n",
      "X_test shape: (18, 2199)\n",
      "Fitting 10 folds for each of 12 candidates, totalling 120 fits\n"
     ]
    },
    {
     "name": "stderr",
     "output_type": "stream",
     "text": [
      "[Parallel(n_jobs=1)]: Using backend SequentialBackend with 1 concurrent workers.\n",
      "[Parallel(n_jobs=1)]: Done 120 out of 120 | elapsed:   32.0s finished\n"
     ]
    },
    {
     "name": "stdout",
     "output_type": "stream",
     "text": [
      "best score: 0.5061728395061729\n",
      "Fitting 10 folds for each of 12 candidates, totalling 120 fits\n"
     ]
    },
    {
     "name": "stderr",
     "output_type": "stream",
     "text": [
      "[Parallel(n_jobs=1)]: Using backend SequentialBackend with 1 concurrent workers.\n",
      "[Parallel(n_jobs=1)]: Done 120 out of 120 | elapsed:   22.8s finished\n"
     ]
    },
    {
     "name": "stdout",
     "output_type": "stream",
     "text": [
      "best score: 0.5061728395061729\n",
      "Fitting 10 folds for each of 12 candidates, totalling 120 fits\n"
     ]
    },
    {
     "name": "stderr",
     "output_type": "stream",
     "text": [
      "[Parallel(n_jobs=1)]: Using backend SequentialBackend with 1 concurrent workers.\n",
      "[Parallel(n_jobs=1)]: Done 120 out of 120 | elapsed:   24.7s finished\n"
     ]
    },
    {
     "name": "stdout",
     "output_type": "stream",
     "text": [
      "best score: 0.5061728395061729\n",
      "Fitting 10 folds for each of 12 candidates, totalling 120 fits\n"
     ]
    },
    {
     "name": "stderr",
     "output_type": "stream",
     "text": [
      "[Parallel(n_jobs=1)]: Using backend SequentialBackend with 1 concurrent workers.\n",
      "[Parallel(n_jobs=1)]: Done 120 out of 120 | elapsed:   30.5s finished\n"
     ]
    },
    {
     "name": "stdout",
     "output_type": "stream",
     "text": [
      "best score: 0.5061728395061729\n",
      "Fitting 10 folds for each of 12 candidates, totalling 120 fits\n"
     ]
    },
    {
     "name": "stderr",
     "output_type": "stream",
     "text": [
      "[Parallel(n_jobs=1)]: Using backend SequentialBackend with 1 concurrent workers.\n",
      "[Parallel(n_jobs=1)]: Done 120 out of 120 | elapsed:   26.7s finished\n"
     ]
    },
    {
     "name": "stdout",
     "output_type": "stream",
     "text": [
      "best score: 0.5061728395061729\n",
      "Split: 1\n",
      "Split: 2\n",
      "Split: 3\n",
      "Split: 4\n",
      "Split: 5\n",
      "Split: 6\n",
      "Split: 7\n",
      "Split: 8\n",
      "Split: 9\n",
      "Split: 10\n",
      "Training Testing Accuracy for n_games=7 team=6 : 50.56% (1.67%)\n",
      "(189, 1316)\n",
      "(189, 1)\n",
      "X_train shape: (170, 2190)\n",
      "X_test shape: (19, 2190)\n",
      "Fitting 10 folds for each of 12 candidates, totalling 120 fits\n"
     ]
    },
    {
     "name": "stderr",
     "output_type": "stream",
     "text": [
      "[Parallel(n_jobs=1)]: Using backend SequentialBackend with 1 concurrent workers.\n",
      "[Parallel(n_jobs=1)]: Done 120 out of 120 | elapsed:   31.7s finished\n"
     ]
    },
    {
     "name": "stdout",
     "output_type": "stream",
     "text": [
      "best score: 0.6764705882352942\n",
      "Fitting 10 folds for each of 12 candidates, totalling 120 fits\n"
     ]
    },
    {
     "name": "stderr",
     "output_type": "stream",
     "text": [
      "[Parallel(n_jobs=1)]: Using backend SequentialBackend with 1 concurrent workers.\n",
      "[Parallel(n_jobs=1)]: Done 120 out of 120 | elapsed:   28.1s finished\n"
     ]
    },
    {
     "name": "stdout",
     "output_type": "stream",
     "text": [
      "best score: 0.6764705882352942\n",
      "Fitting 10 folds for each of 12 candidates, totalling 120 fits\n"
     ]
    },
    {
     "name": "stderr",
     "output_type": "stream",
     "text": [
      "[Parallel(n_jobs=1)]: Using backend SequentialBackend with 1 concurrent workers.\n",
      "[Parallel(n_jobs=1)]: Done 120 out of 120 | elapsed:   54.4s finished\n"
     ]
    },
    {
     "name": "stdout",
     "output_type": "stream",
     "text": [
      "best score: 0.6764705882352942\n",
      "Fitting 10 folds for each of 12 candidates, totalling 120 fits\n"
     ]
    },
    {
     "name": "stderr",
     "output_type": "stream",
     "text": [
      "[Parallel(n_jobs=1)]: Using backend SequentialBackend with 1 concurrent workers.\n",
      "[Parallel(n_jobs=1)]: Done 120 out of 120 | elapsed:   22.4s finished\n"
     ]
    },
    {
     "name": "stdout",
     "output_type": "stream",
     "text": [
      "best score: 0.6764705882352942\n",
      "Fitting 10 folds for each of 12 candidates, totalling 120 fits\n"
     ]
    },
    {
     "name": "stderr",
     "output_type": "stream",
     "text": [
      "[Parallel(n_jobs=1)]: Using backend SequentialBackend with 1 concurrent workers.\n",
      "[Parallel(n_jobs=1)]: Done 120 out of 120 | elapsed:   29.2s finished\n"
     ]
    },
    {
     "name": "stdout",
     "output_type": "stream",
     "text": [
      "best score: 0.6764705882352942\n",
      "Split: 1\n",
      "Split: 2\n",
      "Split: 3\n",
      "Split: 4\n",
      "Split: 5\n",
      "Split: 6\n",
      "Split: 7\n",
      "Split: 8\n",
      "Split: 9\n",
      "Split: 10\n",
      "Training Testing Accuracy for n_games=7 team=7 : 64.53% (3.52%)\n",
      "(173, 1316)\n",
      "(173, 1)\n",
      "X_train shape: (155, 2195)\n",
      "X_test shape: (18, 2195)\n",
      "Fitting 10 folds for each of 12 candidates, totalling 120 fits\n"
     ]
    },
    {
     "name": "stderr",
     "output_type": "stream",
     "text": [
      "[Parallel(n_jobs=1)]: Using backend SequentialBackend with 1 concurrent workers.\n",
      "[Parallel(n_jobs=1)]: Done 120 out of 120 | elapsed:   31.0s finished\n"
     ]
    },
    {
     "name": "stdout",
     "output_type": "stream",
     "text": [
      "best score: 0.7483870967741936\n",
      "Fitting 10 folds for each of 12 candidates, totalling 120 fits\n"
     ]
    },
    {
     "name": "stderr",
     "output_type": "stream",
     "text": [
      "[Parallel(n_jobs=1)]: Using backend SequentialBackend with 1 concurrent workers.\n",
      "[Parallel(n_jobs=1)]: Done 120 out of 120 | elapsed:  1.0min finished\n"
     ]
    },
    {
     "name": "stdout",
     "output_type": "stream",
     "text": [
      "best score: 0.7483870967741936\n",
      "Fitting 10 folds for each of 12 candidates, totalling 120 fits\n"
     ]
    },
    {
     "name": "stderr",
     "output_type": "stream",
     "text": [
      "[Parallel(n_jobs=1)]: Using backend SequentialBackend with 1 concurrent workers.\n",
      "[Parallel(n_jobs=1)]: Done 120 out of 120 | elapsed:   31.8s finished\n"
     ]
    },
    {
     "name": "stdout",
     "output_type": "stream",
     "text": [
      "best score: 0.7483870967741936\n",
      "Fitting 10 folds for each of 12 candidates, totalling 120 fits\n"
     ]
    },
    {
     "name": "stderr",
     "output_type": "stream",
     "text": [
      "[Parallel(n_jobs=1)]: Using backend SequentialBackend with 1 concurrent workers.\n",
      "[Parallel(n_jobs=1)]: Done 120 out of 120 | elapsed:   42.7s finished\n"
     ]
    },
    {
     "name": "stdout",
     "output_type": "stream",
     "text": [
      "best score: 0.7483870967741936\n",
      "Fitting 10 folds for each of 12 candidates, totalling 120 fits\n"
     ]
    },
    {
     "name": "stderr",
     "output_type": "stream",
     "text": [
      "[Parallel(n_jobs=1)]: Using backend SequentialBackend with 1 concurrent workers.\n",
      "[Parallel(n_jobs=1)]: Done 120 out of 120 | elapsed:   38.7s finished\n"
     ]
    },
    {
     "name": "stdout",
     "output_type": "stream",
     "text": [
      "best score: 0.7483870967741936\n",
      "Split: 1\n",
      "Split: 2\n",
      "Split: 3\n",
      "Split: 4\n",
      "Split: 5\n",
      "Split: 6\n",
      "Split: 7\n",
      "Split: 8\n",
      "Split: 9\n",
      "Split: 10\n",
      "Training Testing Accuracy for n_games=7 team=8 : 74.54% (3.87%)\n",
      "(186, 1316)\n",
      "(186, 1)\n",
      "X_train shape: (167, 2202)\n",
      "X_test shape: (19, 2202)\n",
      "Fitting 10 folds for each of 12 candidates, totalling 120 fits\n"
     ]
    },
    {
     "name": "stderr",
     "output_type": "stream",
     "text": [
      "[Parallel(n_jobs=1)]: Using backend SequentialBackend with 1 concurrent workers.\n",
      "[Parallel(n_jobs=1)]: Done 120 out of 120 | elapsed:   32.8s finished\n"
     ]
    },
    {
     "name": "stdout",
     "output_type": "stream",
     "text": [
      "best score: 0.5329341317365269\n",
      "Fitting 10 folds for each of 12 candidates, totalling 120 fits\n"
     ]
    },
    {
     "name": "stderr",
     "output_type": "stream",
     "text": [
      "[Parallel(n_jobs=1)]: Using backend SequentialBackend with 1 concurrent workers.\n",
      "[Parallel(n_jobs=1)]: Done 120 out of 120 | elapsed:   24.8s finished\n"
     ]
    },
    {
     "name": "stdout",
     "output_type": "stream",
     "text": [
      "best score: 0.5329341317365269\n",
      "Fitting 10 folds for each of 12 candidates, totalling 120 fits\n"
     ]
    },
    {
     "name": "stderr",
     "output_type": "stream",
     "text": [
      "[Parallel(n_jobs=1)]: Using backend SequentialBackend with 1 concurrent workers.\n",
      "[Parallel(n_jobs=1)]: Done 120 out of 120 | elapsed:   24.6s finished\n"
     ]
    },
    {
     "name": "stdout",
     "output_type": "stream",
     "text": [
      "best score: 0.5688622754491018\n",
      "Fitting 10 folds for each of 12 candidates, totalling 120 fits\n"
     ]
    },
    {
     "name": "stderr",
     "output_type": "stream",
     "text": [
      "[Parallel(n_jobs=1)]: Using backend SequentialBackend with 1 concurrent workers.\n",
      "[Parallel(n_jobs=1)]: Done 120 out of 120 | elapsed:   24.3s finished\n"
     ]
    },
    {
     "name": "stdout",
     "output_type": "stream",
     "text": [
      "best score: 0.5688622754491018\n",
      "Fitting 10 folds for each of 12 candidates, totalling 120 fits\n"
     ]
    },
    {
     "name": "stderr",
     "output_type": "stream",
     "text": [
      "[Parallel(n_jobs=1)]: Using backend SequentialBackend with 1 concurrent workers.\n",
      "[Parallel(n_jobs=1)]: Done 120 out of 120 | elapsed:   29.4s finished\n"
     ]
    },
    {
     "name": "stdout",
     "output_type": "stream",
     "text": [
      "best score: 0.5688622754491018\n",
      "Split: 1\n",
      "Split: 2\n",
      "Split: 3\n",
      "Split: 4\n",
      "Split: 5\n",
      "Split: 6\n",
      "Split: 7\n",
      "Split: 8\n",
      "Split: 9\n",
      "Split: 10\n",
      "Training Testing Accuracy for n_games=7 team=9 : 52.60% (10.61%)\n",
      "(187, 1316)\n",
      "(187, 1)\n",
      "X_train shape: (168, 2195)\n",
      "X_test shape: (19, 2195)\n",
      "Fitting 10 folds for each of 12 candidates, totalling 120 fits\n"
     ]
    },
    {
     "name": "stderr",
     "output_type": "stream",
     "text": [
      "[Parallel(n_jobs=1)]: Using backend SequentialBackend with 1 concurrent workers.\n",
      "[Parallel(n_jobs=1)]: Done 120 out of 120 | elapsed:   32.2s finished\n"
     ]
    },
    {
     "name": "stdout",
     "output_type": "stream",
     "text": [
      "best score: 0.6428571428571429\n",
      "Fitting 10 folds for each of 12 candidates, totalling 120 fits\n"
     ]
    },
    {
     "name": "stderr",
     "output_type": "stream",
     "text": [
      "[Parallel(n_jobs=1)]: Using backend SequentialBackend with 1 concurrent workers.\n",
      "[Parallel(n_jobs=1)]: Done 120 out of 120 | elapsed:   26.1s finished\n"
     ]
    },
    {
     "name": "stdout",
     "output_type": "stream",
     "text": [
      "best score: 0.6428571428571429\n",
      "Fitting 10 folds for each of 12 candidates, totalling 120 fits\n"
     ]
    },
    {
     "name": "stderr",
     "output_type": "stream",
     "text": [
      "[Parallel(n_jobs=1)]: Using backend SequentialBackend with 1 concurrent workers.\n",
      "[Parallel(n_jobs=1)]: Done 120 out of 120 | elapsed:   39.1s finished\n"
     ]
    },
    {
     "name": "stdout",
     "output_type": "stream",
     "text": [
      "best score: 0.6428571428571429\n",
      "Fitting 10 folds for each of 12 candidates, totalling 120 fits\n"
     ]
    },
    {
     "name": "stderr",
     "output_type": "stream",
     "text": [
      "[Parallel(n_jobs=1)]: Using backend SequentialBackend with 1 concurrent workers.\n",
      "[Parallel(n_jobs=1)]: Done 120 out of 120 | elapsed:   24.2s finished\n"
     ]
    },
    {
     "name": "stdout",
     "output_type": "stream",
     "text": [
      "best score: 0.6428571428571429\n",
      "Fitting 10 folds for each of 12 candidates, totalling 120 fits\n"
     ]
    },
    {
     "name": "stderr",
     "output_type": "stream",
     "text": [
      "[Parallel(n_jobs=1)]: Using backend SequentialBackend with 1 concurrent workers.\n",
      "[Parallel(n_jobs=1)]: Done 120 out of 120 | elapsed:   38.0s finished\n"
     ]
    },
    {
     "name": "stdout",
     "output_type": "stream",
     "text": [
      "best score: 0.6428571428571429\n",
      "Split: 1\n",
      "Split: 2\n",
      "Split: 3\n",
      "Split: 4\n",
      "Split: 5\n",
      "Split: 6\n",
      "Split: 7\n",
      "Split: 8\n",
      "Split: 9\n",
      "Split: 10\n",
      "Training Testing Accuracy for n_games=7 team=10 : 65.20% (7.47%)\n",
      "(179, 1316)\n",
      "(179, 1)\n",
      "X_train shape: (161, 2210)\n",
      "X_test shape: (18, 2210)\n",
      "Fitting 10 folds for each of 12 candidates, totalling 120 fits\n"
     ]
    },
    {
     "name": "stderr",
     "output_type": "stream",
     "text": [
      "[Parallel(n_jobs=1)]: Using backend SequentialBackend with 1 concurrent workers.\n",
      "[Parallel(n_jobs=1)]: Done 120 out of 120 | elapsed:   31.6s finished\n"
     ]
    },
    {
     "name": "stdout",
     "output_type": "stream",
     "text": [
      "best score: 0.5962732919254659\n",
      "Fitting 10 folds for each of 12 candidates, totalling 120 fits\n"
     ]
    },
    {
     "name": "stderr",
     "output_type": "stream",
     "text": [
      "[Parallel(n_jobs=1)]: Using backend SequentialBackend with 1 concurrent workers.\n",
      "[Parallel(n_jobs=1)]: Done 120 out of 120 | elapsed:   25.3s finished\n"
     ]
    },
    {
     "name": "stdout",
     "output_type": "stream",
     "text": [
      "best score: 0.5962732919254659\n",
      "Fitting 10 folds for each of 12 candidates, totalling 120 fits\n"
     ]
    },
    {
     "name": "stderr",
     "output_type": "stream",
     "text": [
      "[Parallel(n_jobs=1)]: Using backend SequentialBackend with 1 concurrent workers.\n",
      "[Parallel(n_jobs=1)]: Done 120 out of 120 | elapsed:   31.8s finished\n"
     ]
    },
    {
     "name": "stdout",
     "output_type": "stream",
     "text": [
      "best score: 0.5962732919254659\n",
      "Fitting 10 folds for each of 12 candidates, totalling 120 fits\n"
     ]
    },
    {
     "name": "stderr",
     "output_type": "stream",
     "text": [
      "[Parallel(n_jobs=1)]: Using backend SequentialBackend with 1 concurrent workers.\n",
      "[Parallel(n_jobs=1)]: Done 120 out of 120 | elapsed:   43.2s finished\n"
     ]
    },
    {
     "name": "stdout",
     "output_type": "stream",
     "text": [
      "best score: 0.6335403726708074\n",
      "Fitting 10 folds for each of 12 candidates, totalling 120 fits\n"
     ]
    },
    {
     "name": "stderr",
     "output_type": "stream",
     "text": [
      "[Parallel(n_jobs=1)]: Using backend SequentialBackend with 1 concurrent workers.\n",
      "[Parallel(n_jobs=1)]: Done 120 out of 120 | elapsed:  1.1min finished\n"
     ]
    },
    {
     "name": "stdout",
     "output_type": "stream",
     "text": [
      "best score: 0.6335403726708074\n",
      "Split: 1\n",
      "Split: 2\n",
      "Split: 3\n",
      "Split: 4\n",
      "Split: 5\n",
      "Split: 6\n",
      "Split: 7\n",
      "Split: 8\n",
      "Split: 9\n",
      "Split: 10\n",
      "Training Testing Accuracy for n_games=7 team=11 : 61.47% (10.30%)\n",
      "(180, 1316)\n",
      "(180, 1)\n",
      "X_train shape: (162, 2194)\n",
      "X_test shape: (18, 2194)\n",
      "Fitting 10 folds for each of 12 candidates, totalling 120 fits\n"
     ]
    },
    {
     "name": "stderr",
     "output_type": "stream",
     "text": [
      "[Parallel(n_jobs=1)]: Using backend SequentialBackend with 1 concurrent workers.\n",
      "[Parallel(n_jobs=1)]: Done 120 out of 120 | elapsed:   32.6s finished\n"
     ]
    },
    {
     "name": "stdout",
     "output_type": "stream",
     "text": [
      "best score: 0.5370370370370371\n",
      "Fitting 10 folds for each of 12 candidates, totalling 120 fits\n"
     ]
    },
    {
     "name": "stderr",
     "output_type": "stream",
     "text": [
      "[Parallel(n_jobs=1)]: Using backend SequentialBackend with 1 concurrent workers.\n",
      "[Parallel(n_jobs=1)]: Done 120 out of 120 | elapsed:   26.3s finished\n"
     ]
    },
    {
     "name": "stdout",
     "output_type": "stream",
     "text": [
      "best score: 0.5370370370370371\n",
      "Fitting 10 folds for each of 12 candidates, totalling 120 fits\n"
     ]
    },
    {
     "name": "stderr",
     "output_type": "stream",
     "text": [
      "[Parallel(n_jobs=1)]: Using backend SequentialBackend with 1 concurrent workers.\n",
      "[Parallel(n_jobs=1)]: Done 120 out of 120 | elapsed:   25.8s finished\n"
     ]
    },
    {
     "name": "stdout",
     "output_type": "stream",
     "text": [
      "best score: 0.5370370370370371\n",
      "Fitting 10 folds for each of 12 candidates, totalling 120 fits\n"
     ]
    },
    {
     "name": "stderr",
     "output_type": "stream",
     "text": [
      "[Parallel(n_jobs=1)]: Using backend SequentialBackend with 1 concurrent workers.\n",
      "[Parallel(n_jobs=1)]: Done 120 out of 120 | elapsed:   26.8s finished\n"
     ]
    },
    {
     "name": "stdout",
     "output_type": "stream",
     "text": [
      "best score: 0.5370370370370371\n",
      "Fitting 10 folds for each of 12 candidates, totalling 120 fits\n"
     ]
    },
    {
     "name": "stderr",
     "output_type": "stream",
     "text": [
      "[Parallel(n_jobs=1)]: Using backend SequentialBackend with 1 concurrent workers.\n",
      "[Parallel(n_jobs=1)]: Done 120 out of 120 | elapsed:   21.3s finished\n"
     ]
    },
    {
     "name": "stdout",
     "output_type": "stream",
     "text": [
      "best score: 0.5493827160493827\n",
      "Split: 1\n",
      "Split: 2\n",
      "Split: 3\n",
      "Split: 4\n",
      "Split: 5\n",
      "Split: 6\n",
      "Split: 7\n",
      "Split: 8\n",
      "Split: 9\n",
      "Split: 10\n",
      "Training Testing Accuracy for n_games=7 team=12 : 55.00% (11.24%)\n",
      "(181, 1316)\n",
      "(181, 1)\n",
      "X_train shape: (162, 2221)\n",
      "X_test shape: (19, 2221)\n",
      "Fitting 10 folds for each of 12 candidates, totalling 120 fits\n"
     ]
    },
    {
     "name": "stderr",
     "output_type": "stream",
     "text": [
      "[Parallel(n_jobs=1)]: Using backend SequentialBackend with 1 concurrent workers.\n",
      "[Parallel(n_jobs=1)]: Done 120 out of 120 | elapsed:   31.9s finished\n"
     ]
    },
    {
     "name": "stdout",
     "output_type": "stream",
     "text": [
      "best score: 0.5802469135802469\n",
      "Fitting 10 folds for each of 12 candidates, totalling 120 fits\n"
     ]
    },
    {
     "name": "stderr",
     "output_type": "stream",
     "text": [
      "[Parallel(n_jobs=1)]: Using backend SequentialBackend with 1 concurrent workers.\n",
      "[Parallel(n_jobs=1)]: Done 120 out of 120 | elapsed:   39.4s finished\n"
     ]
    },
    {
     "name": "stdout",
     "output_type": "stream",
     "text": [
      "best score: 0.6111111111111112\n",
      "Fitting 10 folds for each of 12 candidates, totalling 120 fits\n"
     ]
    },
    {
     "name": "stderr",
     "output_type": "stream",
     "text": [
      "[Parallel(n_jobs=1)]: Using backend SequentialBackend with 1 concurrent workers.\n",
      "[Parallel(n_jobs=1)]: Done 120 out of 120 | elapsed:   34.5s finished\n"
     ]
    },
    {
     "name": "stdout",
     "output_type": "stream",
     "text": [
      "best score: 0.6111111111111112\n",
      "Fitting 10 folds for each of 12 candidates, totalling 120 fits\n"
     ]
    },
    {
     "name": "stderr",
     "output_type": "stream",
     "text": [
      "[Parallel(n_jobs=1)]: Using backend SequentialBackend with 1 concurrent workers.\n",
      "[Parallel(n_jobs=1)]: Done 120 out of 120 | elapsed:   22.8s finished\n"
     ]
    },
    {
     "name": "stdout",
     "output_type": "stream",
     "text": [
      "best score: 0.6111111111111112\n",
      "Fitting 10 folds for each of 12 candidates, totalling 120 fits\n"
     ]
    },
    {
     "name": "stderr",
     "output_type": "stream",
     "text": [
      "[Parallel(n_jobs=1)]: Using backend SequentialBackend with 1 concurrent workers.\n",
      "[Parallel(n_jobs=1)]: Done 120 out of 120 | elapsed:   25.6s finished\n"
     ]
    },
    {
     "name": "stdout",
     "output_type": "stream",
     "text": [
      "best score: 0.6111111111111112\n",
      "Split: 1\n",
      "Split: 2\n",
      "Split: 3\n",
      "Split: 4\n",
      "Split: 5\n",
      "Split: 6\n",
      "Split: 7\n",
      "Split: 8\n",
      "Split: 9\n",
      "Split: 10\n",
      "Training Testing Accuracy for n_games=7 team=13 : 51.96% (9.13%)\n",
      "(184, 1316)\n",
      "(184, 1)\n",
      "X_train shape: (165, 2193)\n",
      "X_test shape: (19, 2193)\n",
      "Fitting 10 folds for each of 12 candidates, totalling 120 fits\n"
     ]
    },
    {
     "name": "stderr",
     "output_type": "stream",
     "text": [
      "[Parallel(n_jobs=1)]: Using backend SequentialBackend with 1 concurrent workers.\n",
      "[Parallel(n_jobs=1)]: Done 120 out of 120 | elapsed:   32.0s finished\n"
     ]
    },
    {
     "name": "stdout",
     "output_type": "stream",
     "text": [
      "best score: 0.6060606060606061\n",
      "Fitting 10 folds for each of 12 candidates, totalling 120 fits\n"
     ]
    },
    {
     "name": "stderr",
     "output_type": "stream",
     "text": [
      "[Parallel(n_jobs=1)]: Using backend SequentialBackend with 1 concurrent workers.\n",
      "[Parallel(n_jobs=1)]: Done 120 out of 120 | elapsed:   34.1s finished\n"
     ]
    },
    {
     "name": "stdout",
     "output_type": "stream",
     "text": [
      "best score: 0.6121212121212121\n",
      "Fitting 10 folds for each of 12 candidates, totalling 120 fits\n"
     ]
    },
    {
     "name": "stderr",
     "output_type": "stream",
     "text": [
      "[Parallel(n_jobs=1)]: Using backend SequentialBackend with 1 concurrent workers.\n",
      "[Parallel(n_jobs=1)]: Done 120 out of 120 | elapsed:   47.5s finished\n"
     ]
    },
    {
     "name": "stdout",
     "output_type": "stream",
     "text": [
      "best score: 0.6121212121212121\n",
      "Fitting 10 folds for each of 12 candidates, totalling 120 fits\n"
     ]
    },
    {
     "name": "stderr",
     "output_type": "stream",
     "text": [
      "[Parallel(n_jobs=1)]: Using backend SequentialBackend with 1 concurrent workers.\n",
      "[Parallel(n_jobs=1)]: Done 120 out of 120 | elapsed:   24.1s finished\n"
     ]
    },
    {
     "name": "stdout",
     "output_type": "stream",
     "text": [
      "best score: 0.6121212121212121\n",
      "Fitting 10 folds for each of 12 candidates, totalling 120 fits\n"
     ]
    },
    {
     "name": "stderr",
     "output_type": "stream",
     "text": [
      "[Parallel(n_jobs=1)]: Using backend SequentialBackend with 1 concurrent workers.\n",
      "[Parallel(n_jobs=1)]: Done 120 out of 120 | elapsed:   20.9s finished\n"
     ]
    },
    {
     "name": "stdout",
     "output_type": "stream",
     "text": [
      "best score: 0.6121212121212121\n",
      "Split: 1\n",
      "Split: 2\n",
      "Split: 3\n",
      "Split: 4\n",
      "Split: 5\n",
      "Split: 6\n",
      "Split: 7\n",
      "Split: 8\n",
      "Split: 9\n",
      "Split: 10\n",
      "Training Testing Accuracy for n_games=7 team=14 : 61.93% (1.00%)\n",
      "(173, 1316)\n",
      "(173, 1)\n",
      "X_train shape: (155, 2194)\n",
      "X_test shape: (18, 2194)\n",
      "Fitting 10 folds for each of 12 candidates, totalling 120 fits\n"
     ]
    },
    {
     "name": "stderr",
     "output_type": "stream",
     "text": [
      "[Parallel(n_jobs=1)]: Using backend SequentialBackend with 1 concurrent workers.\n",
      "[Parallel(n_jobs=1)]: Done 120 out of 120 | elapsed:   31.7s finished\n"
     ]
    },
    {
     "name": "stdout",
     "output_type": "stream",
     "text": [
      "best score: 0.6129032258064516\n",
      "Fitting 10 folds for each of 12 candidates, totalling 120 fits\n"
     ]
    },
    {
     "name": "stderr",
     "output_type": "stream",
     "text": [
      "[Parallel(n_jobs=1)]: Using backend SequentialBackend with 1 concurrent workers.\n",
      "[Parallel(n_jobs=1)]: Done 120 out of 120 | elapsed:   28.8s finished\n"
     ]
    },
    {
     "name": "stdout",
     "output_type": "stream",
     "text": [
      "best score: 0.6129032258064516\n",
      "Fitting 10 folds for each of 12 candidates, totalling 120 fits\n"
     ]
    },
    {
     "name": "stderr",
     "output_type": "stream",
     "text": [
      "[Parallel(n_jobs=1)]: Using backend SequentialBackend with 1 concurrent workers.\n",
      "[Parallel(n_jobs=1)]: Done 120 out of 120 | elapsed:   26.4s finished\n"
     ]
    },
    {
     "name": "stdout",
     "output_type": "stream",
     "text": [
      "best score: 0.6129032258064516\n",
      "Fitting 10 folds for each of 12 candidates, totalling 120 fits\n"
     ]
    },
    {
     "name": "stderr",
     "output_type": "stream",
     "text": [
      "[Parallel(n_jobs=1)]: Using backend SequentialBackend with 1 concurrent workers.\n",
      "[Parallel(n_jobs=1)]: Done 120 out of 120 | elapsed:   49.6s finished\n"
     ]
    },
    {
     "name": "stdout",
     "output_type": "stream",
     "text": [
      "best score: 0.6129032258064516\n",
      "Fitting 10 folds for each of 12 candidates, totalling 120 fits\n"
     ]
    },
    {
     "name": "stderr",
     "output_type": "stream",
     "text": [
      "[Parallel(n_jobs=1)]: Using backend SequentialBackend with 1 concurrent workers.\n",
      "[Parallel(n_jobs=1)]: Done 120 out of 120 | elapsed:   26.1s finished\n"
     ]
    },
    {
     "name": "stdout",
     "output_type": "stream",
     "text": [
      "best score: 0.6129032258064516\n",
      "Split: 1\n",
      "Split: 2\n",
      "Split: 3\n",
      "Split: 4\n",
      "Split: 5\n",
      "Split: 6\n",
      "Split: 7\n",
      "Split: 8\n",
      "Split: 9\n",
      "Split: 10\n",
      "Training Testing Accuracy for n_games=7 team=15 : 63.04% (2.14%)\n",
      "(189, 1316)\n",
      "(189, 1)\n",
      "X_train shape: (170, 2204)\n",
      "X_test shape: (19, 2204)\n",
      "Fitting 10 folds for each of 12 candidates, totalling 120 fits\n"
     ]
    },
    {
     "name": "stderr",
     "output_type": "stream",
     "text": [
      "[Parallel(n_jobs=1)]: Using backend SequentialBackend with 1 concurrent workers.\n",
      "[Parallel(n_jobs=1)]: Done 120 out of 120 | elapsed:   31.9s finished\n"
     ]
    },
    {
     "name": "stdout",
     "output_type": "stream",
     "text": [
      "best score: 0.6411764705882353\n",
      "Fitting 10 folds for each of 12 candidates, totalling 120 fits\n"
     ]
    },
    {
     "name": "stderr",
     "output_type": "stream",
     "text": [
      "[Parallel(n_jobs=1)]: Using backend SequentialBackend with 1 concurrent workers.\n",
      "[Parallel(n_jobs=1)]: Done 120 out of 120 | elapsed:   33.6s finished\n"
     ]
    },
    {
     "name": "stdout",
     "output_type": "stream",
     "text": [
      "best score: 0.6470588235294118\n",
      "Fitting 10 folds for each of 12 candidates, totalling 120 fits\n"
     ]
    },
    {
     "name": "stderr",
     "output_type": "stream",
     "text": [
      "[Parallel(n_jobs=1)]: Using backend SequentialBackend with 1 concurrent workers.\n",
      "[Parallel(n_jobs=1)]: Done 120 out of 120 | elapsed:   46.4s finished\n"
     ]
    },
    {
     "name": "stdout",
     "output_type": "stream",
     "text": [
      "best score: 0.6470588235294118\n",
      "Fitting 10 folds for each of 12 candidates, totalling 120 fits\n"
     ]
    },
    {
     "name": "stderr",
     "output_type": "stream",
     "text": [
      "[Parallel(n_jobs=1)]: Using backend SequentialBackend with 1 concurrent workers.\n",
      "[Parallel(n_jobs=1)]: Done 120 out of 120 | elapsed:  1.2min finished\n"
     ]
    },
    {
     "name": "stdout",
     "output_type": "stream",
     "text": [
      "best score: 0.6470588235294118\n",
      "Fitting 10 folds for each of 12 candidates, totalling 120 fits\n"
     ]
    },
    {
     "name": "stderr",
     "output_type": "stream",
     "text": [
      "[Parallel(n_jobs=1)]: Using backend SequentialBackend with 1 concurrent workers.\n",
      "[Parallel(n_jobs=1)]: Done 120 out of 120 | elapsed:   28.4s finished\n"
     ]
    },
    {
     "name": "stdout",
     "output_type": "stream",
     "text": [
      "best score: 0.6470588235294118\n",
      "Split: 1\n",
      "Split: 2\n",
      "Split: 3\n",
      "Split: 4\n",
      "Split: 5\n",
      "Split: 6\n",
      "Split: 7\n",
      "Split: 8\n",
      "Split: 9\n",
      "Split: 10\n",
      "Training Testing Accuracy for n_games=7 team=16 : 58.80% (10.80%)\n",
      "(184, 1316)\n",
      "(184, 1)\n",
      "X_train shape: (165, 2209)\n",
      "X_test shape: (19, 2209)\n",
      "Fitting 10 folds for each of 12 candidates, totalling 120 fits\n"
     ]
    },
    {
     "name": "stderr",
     "output_type": "stream",
     "text": [
      "[Parallel(n_jobs=1)]: Using backend SequentialBackend with 1 concurrent workers.\n",
      "[Parallel(n_jobs=1)]: Done 120 out of 120 | elapsed:   33.5s finished\n"
     ]
    },
    {
     "name": "stdout",
     "output_type": "stream",
     "text": [
      "best score: 0.6121212121212121\n",
      "Fitting 10 folds for each of 12 candidates, totalling 120 fits\n"
     ]
    },
    {
     "name": "stderr",
     "output_type": "stream",
     "text": [
      "[Parallel(n_jobs=1)]: Using backend SequentialBackend with 1 concurrent workers.\n",
      "[Parallel(n_jobs=1)]: Done 120 out of 120 | elapsed:   25.8s finished\n"
     ]
    },
    {
     "name": "stdout",
     "output_type": "stream",
     "text": [
      "best score: 0.6121212121212121\n",
      "Fitting 10 folds for each of 12 candidates, totalling 120 fits\n"
     ]
    },
    {
     "name": "stderr",
     "output_type": "stream",
     "text": [
      "[Parallel(n_jobs=1)]: Using backend SequentialBackend with 1 concurrent workers.\n",
      "[Parallel(n_jobs=1)]: Done 120 out of 120 | elapsed:   29.7s finished\n"
     ]
    },
    {
     "name": "stdout",
     "output_type": "stream",
     "text": [
      "best score: 0.6121212121212121\n",
      "Fitting 10 folds for each of 12 candidates, totalling 120 fits\n"
     ]
    },
    {
     "name": "stderr",
     "output_type": "stream",
     "text": [
      "[Parallel(n_jobs=1)]: Using backend SequentialBackend with 1 concurrent workers.\n",
      "[Parallel(n_jobs=1)]: Done 120 out of 120 | elapsed:   26.4s finished\n"
     ]
    },
    {
     "name": "stdout",
     "output_type": "stream",
     "text": [
      "best score: 0.6121212121212121\n",
      "Fitting 10 folds for each of 12 candidates, totalling 120 fits\n"
     ]
    },
    {
     "name": "stderr",
     "output_type": "stream",
     "text": [
      "[Parallel(n_jobs=1)]: Using backend SequentialBackend with 1 concurrent workers.\n",
      "[Parallel(n_jobs=1)]: Done 120 out of 120 | elapsed:   40.4s finished\n"
     ]
    },
    {
     "name": "stdout",
     "output_type": "stream",
     "text": [
      "best score: 0.6121212121212121\n",
      "Split: 1\n",
      "Split: 2\n",
      "Split: 3\n",
      "Split: 4\n",
      "Split: 5\n",
      "Split: 6\n",
      "Split: 7\n",
      "Split: 8\n",
      "Split: 9\n",
      "Split: 10\n",
      "Training Testing Accuracy for n_games=7 team=17 : 59.82% (1.58%)\n",
      "(183, 1316)\n",
      "(183, 1)\n",
      "X_train shape: (164, 2218)\n",
      "X_test shape: (19, 2218)\n",
      "Fitting 10 folds for each of 12 candidates, totalling 120 fits\n"
     ]
    },
    {
     "name": "stderr",
     "output_type": "stream",
     "text": [
      "[Parallel(n_jobs=1)]: Using backend SequentialBackend with 1 concurrent workers.\n",
      "[Parallel(n_jobs=1)]: Done 120 out of 120 | elapsed:   33.4s finished\n"
     ]
    },
    {
     "name": "stdout",
     "output_type": "stream",
     "text": [
      "best score: 0.6219512195121951\n",
      "Fitting 10 folds for each of 12 candidates, totalling 120 fits\n"
     ]
    },
    {
     "name": "stderr",
     "output_type": "stream",
     "text": [
      "[Parallel(n_jobs=1)]: Using backend SequentialBackend with 1 concurrent workers.\n",
      "[Parallel(n_jobs=1)]: Done 120 out of 120 | elapsed:   37.9s finished\n"
     ]
    },
    {
     "name": "stdout",
     "output_type": "stream",
     "text": [
      "best score: 0.6219512195121951\n",
      "Fitting 10 folds for each of 12 candidates, totalling 120 fits\n"
     ]
    },
    {
     "name": "stderr",
     "output_type": "stream",
     "text": [
      "[Parallel(n_jobs=1)]: Using backend SequentialBackend with 1 concurrent workers.\n",
      "[Parallel(n_jobs=1)]: Done 120 out of 120 | elapsed:  1.1min finished\n"
     ]
    },
    {
     "name": "stdout",
     "output_type": "stream",
     "text": [
      "best score: 0.6219512195121951\n",
      "Fitting 10 folds for each of 12 candidates, totalling 120 fits\n"
     ]
    },
    {
     "name": "stderr",
     "output_type": "stream",
     "text": [
      "[Parallel(n_jobs=1)]: Using backend SequentialBackend with 1 concurrent workers.\n",
      "[Parallel(n_jobs=1)]: Done 120 out of 120 | elapsed:  1.2min finished\n"
     ]
    },
    {
     "name": "stdout",
     "output_type": "stream",
     "text": [
      "best score: 0.6280487804878049\n",
      "Fitting 10 folds for each of 12 candidates, totalling 120 fits\n"
     ]
    },
    {
     "name": "stderr",
     "output_type": "stream",
     "text": [
      "[Parallel(n_jobs=1)]: Using backend SequentialBackend with 1 concurrent workers.\n",
      "[Parallel(n_jobs=1)]: Done 120 out of 120 | elapsed:   43.8s finished\n"
     ]
    },
    {
     "name": "stdout",
     "output_type": "stream",
     "text": [
      "best score: 0.6341463414634146\n",
      "Split: 1\n",
      "Split: 2\n",
      "Split: 3\n",
      "Split: 4\n",
      "Split: 5\n",
      "Split: 6\n",
      "Split: 7\n",
      "Split: 8\n",
      "Split: 9\n",
      "Split: 10\n",
      "Training Testing Accuracy for n_games=7 team=18 : 56.37% (7.47%)\n",
      "Accuracy for Team Models for n_games= 7 : 59.73% (5.57%)\n",
      "(178, 1502)\n",
      "(178, 1)\n",
      "X_train shape: (160, 2515)\n",
      "X_test shape: (18, 2515)\n",
      "Fitting 10 folds for each of 12 candidates, totalling 120 fits\n"
     ]
    },
    {
     "name": "stderr",
     "output_type": "stream",
     "text": [
      "[Parallel(n_jobs=1)]: Using backend SequentialBackend with 1 concurrent workers.\n",
      "[Parallel(n_jobs=1)]: Done 120 out of 120 | elapsed:   36.2s finished\n"
     ]
    },
    {
     "name": "stdout",
     "output_type": "stream",
     "text": [
      "best score: 0.58125\n",
      "Fitting 10 folds for each of 12 candidates, totalling 120 fits\n"
     ]
    },
    {
     "name": "stderr",
     "output_type": "stream",
     "text": [
      "[Parallel(n_jobs=1)]: Using backend SequentialBackend with 1 concurrent workers.\n",
      "[Parallel(n_jobs=1)]: Done 120 out of 120 | elapsed:   55.4s finished\n"
     ]
    },
    {
     "name": "stdout",
     "output_type": "stream",
     "text": [
      "best score: 0.5875\n",
      "Fitting 10 folds for each of 12 candidates, totalling 120 fits\n"
     ]
    },
    {
     "name": "stderr",
     "output_type": "stream",
     "text": [
      "[Parallel(n_jobs=1)]: Using backend SequentialBackend with 1 concurrent workers.\n",
      "[Parallel(n_jobs=1)]: Done 120 out of 120 | elapsed:   41.5s finished\n"
     ]
    },
    {
     "name": "stdout",
     "output_type": "stream",
     "text": [
      "best score: 0.5875\n",
      "Fitting 10 folds for each of 12 candidates, totalling 120 fits\n"
     ]
    },
    {
     "name": "stderr",
     "output_type": "stream",
     "text": [
      "[Parallel(n_jobs=1)]: Using backend SequentialBackend with 1 concurrent workers.\n",
      "[Parallel(n_jobs=1)]: Done 120 out of 120 | elapsed:   52.7s finished\n"
     ]
    },
    {
     "name": "stdout",
     "output_type": "stream",
     "text": [
      "best score: 0.5875\n",
      "Fitting 10 folds for each of 12 candidates, totalling 120 fits\n"
     ]
    },
    {
     "name": "stderr",
     "output_type": "stream",
     "text": [
      "[Parallel(n_jobs=1)]: Using backend SequentialBackend with 1 concurrent workers.\n",
      "[Parallel(n_jobs=1)]: Done 120 out of 120 | elapsed:   36.6s finished\n"
     ]
    },
    {
     "name": "stdout",
     "output_type": "stream",
     "text": [
      "best score: 0.5875\n",
      "Split: 1\n",
      "Split: 2\n",
      "Split: 3\n",
      "Split: 4\n",
      "Split: 5\n",
      "Split: 6\n",
      "Split: 7\n",
      "Split: 8\n",
      "Split: 9\n",
      "Split: 10\n",
      "Training Testing Accuracy for n_games=8 team=1 : 57.35% (4.65%)\n",
      "(176, 1502)\n",
      "(176, 1)\n",
      "X_train shape: (158, 2493)\n",
      "X_test shape: (18, 2493)\n",
      "Fitting 10 folds for each of 12 candidates, totalling 120 fits\n"
     ]
    },
    {
     "name": "stderr",
     "output_type": "stream",
     "text": [
      "[Parallel(n_jobs=1)]: Using backend SequentialBackend with 1 concurrent workers.\n",
      "[Parallel(n_jobs=1)]: Done 120 out of 120 | elapsed:   35.8s finished\n"
     ]
    },
    {
     "name": "stdout",
     "output_type": "stream",
     "text": [
      "best score: 0.7025316455696202\n",
      "Fitting 10 folds for each of 12 candidates, totalling 120 fits\n"
     ]
    },
    {
     "name": "stderr",
     "output_type": "stream",
     "text": [
      "[Parallel(n_jobs=1)]: Using backend SequentialBackend with 1 concurrent workers.\n",
      "[Parallel(n_jobs=1)]: Done 120 out of 120 | elapsed:   34.0s finished\n"
     ]
    },
    {
     "name": "stdout",
     "output_type": "stream",
     "text": [
      "best score: 0.7025316455696202\n",
      "Fitting 10 folds for each of 12 candidates, totalling 120 fits\n"
     ]
    },
    {
     "name": "stderr",
     "output_type": "stream",
     "text": [
      "[Parallel(n_jobs=1)]: Using backend SequentialBackend with 1 concurrent workers.\n",
      "[Parallel(n_jobs=1)]: Done 120 out of 120 | elapsed:   46.5s finished\n"
     ]
    },
    {
     "name": "stdout",
     "output_type": "stream",
     "text": [
      "best score: 0.7025316455696202\n",
      "Fitting 10 folds for each of 12 candidates, totalling 120 fits\n"
     ]
    },
    {
     "name": "stderr",
     "output_type": "stream",
     "text": [
      "[Parallel(n_jobs=1)]: Using backend SequentialBackend with 1 concurrent workers.\n",
      "[Parallel(n_jobs=1)]: Done 120 out of 120 | elapsed:   37.0s finished\n"
     ]
    },
    {
     "name": "stdout",
     "output_type": "stream",
     "text": [
      "best score: 0.7025316455696202\n",
      "Fitting 10 folds for each of 12 candidates, totalling 120 fits\n"
     ]
    },
    {
     "name": "stderr",
     "output_type": "stream",
     "text": [
      "[Parallel(n_jobs=1)]: Using backend SequentialBackend with 1 concurrent workers.\n",
      "[Parallel(n_jobs=1)]: Done 120 out of 120 | elapsed:  1.3min finished\n"
     ]
    },
    {
     "name": "stdout",
     "output_type": "stream",
     "text": [
      "best score: 0.7341772151898734\n",
      "Split: 1\n",
      "Split: 2\n",
      "Split: 3\n",
      "Split: 4\n",
      "Split: 5\n",
      "Split: 6\n",
      "Split: 7\n",
      "Split: 8\n",
      "Split: 9\n",
      "Split: 10\n",
      "Training Testing Accuracy for n_games=8 team=2 : 70.56% (8.27%)\n",
      "(174, 1502)\n",
      "(174, 1)\n",
      "X_train shape: (156, 2481)\n",
      "X_test shape: (18, 2481)\n",
      "Fitting 10 folds for each of 12 candidates, totalling 120 fits\n"
     ]
    },
    {
     "name": "stderr",
     "output_type": "stream",
     "text": [
      "[Parallel(n_jobs=1)]: Using backend SequentialBackend with 1 concurrent workers.\n",
      "[Parallel(n_jobs=1)]: Done 120 out of 120 | elapsed:   39.5s finished\n"
     ]
    },
    {
     "name": "stdout",
     "output_type": "stream",
     "text": [
      "best score: 0.717948717948718\n",
      "Fitting 10 folds for each of 12 candidates, totalling 120 fits\n"
     ]
    },
    {
     "name": "stderr",
     "output_type": "stream",
     "text": [
      "[Parallel(n_jobs=1)]: Using backend SequentialBackend with 1 concurrent workers.\n",
      "[Parallel(n_jobs=1)]: Done 120 out of 120 | elapsed:   41.2s finished\n"
     ]
    },
    {
     "name": "stdout",
     "output_type": "stream",
     "text": [
      "best score: 0.717948717948718\n",
      "Fitting 10 folds for each of 12 candidates, totalling 120 fits\n"
     ]
    },
    {
     "name": "stderr",
     "output_type": "stream",
     "text": [
      "[Parallel(n_jobs=1)]: Using backend SequentialBackend with 1 concurrent workers.\n",
      "[Parallel(n_jobs=1)]: Done 120 out of 120 | elapsed:   47.0s finished\n"
     ]
    },
    {
     "name": "stdout",
     "output_type": "stream",
     "text": [
      "best score: 0.717948717948718\n",
      "Fitting 10 folds for each of 12 candidates, totalling 120 fits\n"
     ]
    },
    {
     "name": "stderr",
     "output_type": "stream",
     "text": [
      "[Parallel(n_jobs=1)]: Using backend SequentialBackend with 1 concurrent workers.\n",
      "[Parallel(n_jobs=1)]: Done 120 out of 120 | elapsed:   28.7s finished\n"
     ]
    },
    {
     "name": "stdout",
     "output_type": "stream",
     "text": [
      "best score: 0.717948717948718\n",
      "Fitting 10 folds for each of 12 candidates, totalling 120 fits\n"
     ]
    },
    {
     "name": "stderr",
     "output_type": "stream",
     "text": [
      "[Parallel(n_jobs=1)]: Using backend SequentialBackend with 1 concurrent workers.\n",
      "[Parallel(n_jobs=1)]: Done 120 out of 120 | elapsed:   34.7s finished\n"
     ]
    },
    {
     "name": "stdout",
     "output_type": "stream",
     "text": [
      "best score: 0.717948717948718\n",
      "Split: 1\n",
      "Split: 2\n",
      "Split: 3\n",
      "Split: 4\n",
      "Split: 5\n",
      "Split: 6\n",
      "Split: 7\n",
      "Split: 8\n",
      "Split: 9\n",
      "Split: 10\n",
      "Training Testing Accuracy for n_games=8 team=3 : 69.58% (1.96%)\n",
      "(179, 1502)\n",
      "(179, 1)\n",
      "X_train shape: (161, 2488)\n",
      "X_test shape: (18, 2488)\n",
      "Fitting 10 folds for each of 12 candidates, totalling 120 fits\n"
     ]
    },
    {
     "name": "stderr",
     "output_type": "stream",
     "text": [
      "[Parallel(n_jobs=1)]: Using backend SequentialBackend with 1 concurrent workers.\n",
      "[Parallel(n_jobs=1)]: Done 120 out of 120 | elapsed:   37.5s finished\n"
     ]
    },
    {
     "name": "stdout",
     "output_type": "stream",
     "text": [
      "best score: 0.5341614906832298\n",
      "Fitting 10 folds for each of 12 candidates, totalling 120 fits\n"
     ]
    },
    {
     "name": "stderr",
     "output_type": "stream",
     "text": [
      "[Parallel(n_jobs=1)]: Using backend SequentialBackend with 1 concurrent workers.\n",
      "[Parallel(n_jobs=1)]: Done 120 out of 120 | elapsed:   52.8s finished\n"
     ]
    },
    {
     "name": "stdout",
     "output_type": "stream",
     "text": [
      "best score: 0.577639751552795\n",
      "Fitting 10 folds for each of 12 candidates, totalling 120 fits\n"
     ]
    },
    {
     "name": "stderr",
     "output_type": "stream",
     "text": [
      "[Parallel(n_jobs=1)]: Using backend SequentialBackend with 1 concurrent workers.\n",
      "[Parallel(n_jobs=1)]: Done 120 out of 120 | elapsed:   27.3s finished\n"
     ]
    },
    {
     "name": "stdout",
     "output_type": "stream",
     "text": [
      "best score: 0.577639751552795\n",
      "Fitting 10 folds for each of 12 candidates, totalling 120 fits\n"
     ]
    },
    {
     "name": "stderr",
     "output_type": "stream",
     "text": [
      "[Parallel(n_jobs=1)]: Using backend SequentialBackend with 1 concurrent workers.\n",
      "[Parallel(n_jobs=1)]: Done 120 out of 120 | elapsed:   33.9s finished\n"
     ]
    },
    {
     "name": "stdout",
     "output_type": "stream",
     "text": [
      "best score: 0.577639751552795\n",
      "Fitting 10 folds for each of 12 candidates, totalling 120 fits\n"
     ]
    },
    {
     "name": "stderr",
     "output_type": "stream",
     "text": [
      "[Parallel(n_jobs=1)]: Using backend SequentialBackend with 1 concurrent workers.\n",
      "[Parallel(n_jobs=1)]: Done 120 out of 120 | elapsed:   25.8s finished\n"
     ]
    },
    {
     "name": "stdout",
     "output_type": "stream",
     "text": [
      "best score: 0.577639751552795\n",
      "Split: 1\n",
      "Split: 2\n",
      "Split: 3\n",
      "Split: 4\n",
      "Split: 5\n",
      "Split: 6\n",
      "Split: 7\n",
      "Split: 8\n",
      "Split: 9\n",
      "Split: 10\n",
      "Training Testing Accuracy for n_games=8 team=4 : 54.18% (8.54%)\n",
      "(176, 1502)\n",
      "(176, 1)\n",
      "X_train shape: (158, 2467)\n",
      "X_test shape: (18, 2467)\n",
      "Fitting 10 folds for each of 12 candidates, totalling 120 fits\n"
     ]
    },
    {
     "name": "stderr",
     "output_type": "stream",
     "text": [
      "[Parallel(n_jobs=1)]: Using backend SequentialBackend with 1 concurrent workers.\n",
      "[Parallel(n_jobs=1)]: Done 120 out of 120 | elapsed:   35.8s finished\n"
     ]
    },
    {
     "name": "stdout",
     "output_type": "stream",
     "text": [
      "best score: 0.6012658227848101\n",
      "Fitting 10 folds for each of 12 candidates, totalling 120 fits\n"
     ]
    },
    {
     "name": "stderr",
     "output_type": "stream",
     "text": [
      "[Parallel(n_jobs=1)]: Using backend SequentialBackend with 1 concurrent workers.\n",
      "[Parallel(n_jobs=1)]: Done 120 out of 120 | elapsed:   35.5s finished\n"
     ]
    },
    {
     "name": "stdout",
     "output_type": "stream",
     "text": [
      "best score: 0.6329113924050633\n",
      "Fitting 10 folds for each of 12 candidates, totalling 120 fits\n"
     ]
    },
    {
     "name": "stderr",
     "output_type": "stream",
     "text": [
      "[Parallel(n_jobs=1)]: Using backend SequentialBackend with 1 concurrent workers.\n",
      "[Parallel(n_jobs=1)]: Done 120 out of 120 | elapsed:  1.1min finished\n"
     ]
    },
    {
     "name": "stdout",
     "output_type": "stream",
     "text": [
      "best score: 0.6329113924050633\n",
      "Fitting 10 folds for each of 12 candidates, totalling 120 fits\n"
     ]
    },
    {
     "name": "stderr",
     "output_type": "stream",
     "text": [
      "[Parallel(n_jobs=1)]: Using backend SequentialBackend with 1 concurrent workers.\n",
      "[Parallel(n_jobs=1)]: Done 120 out of 120 | elapsed:  1.6min finished\n"
     ]
    },
    {
     "name": "stdout",
     "output_type": "stream",
     "text": [
      "best score: 0.6329113924050633\n",
      "Fitting 10 folds for each of 12 candidates, totalling 120 fits\n"
     ]
    },
    {
     "name": "stderr",
     "output_type": "stream",
     "text": [
      "[Parallel(n_jobs=1)]: Using backend SequentialBackend with 1 concurrent workers.\n",
      "[Parallel(n_jobs=1)]: Done 120 out of 120 | elapsed:   35.3s finished\n"
     ]
    },
    {
     "name": "stdout",
     "output_type": "stream",
     "text": [
      "best score: 0.6329113924050633\n",
      "Split: 1\n",
      "Split: 2\n",
      "Split: 3\n",
      "Split: 4\n",
      "Split: 5\n",
      "Split: 6\n",
      "Split: 7\n",
      "Split: 8\n",
      "Split: 9\n",
      "Split: 10\n",
      "Training Testing Accuracy for n_games=8 team=5 : 60.85% (8.72%)\n",
      "(179, 1502)\n",
      "(179, 1)\n",
      "X_train shape: (161, 2501)\n",
      "X_test shape: (18, 2501)\n",
      "Fitting 10 folds for each of 12 candidates, totalling 120 fits\n"
     ]
    },
    {
     "name": "stderr",
     "output_type": "stream",
     "text": [
      "[Parallel(n_jobs=1)]: Using backend SequentialBackend with 1 concurrent workers.\n",
      "[Parallel(n_jobs=1)]: Done 120 out of 120 | elapsed:   35.8s finished\n"
     ]
    },
    {
     "name": "stdout",
     "output_type": "stream",
     "text": [
      "best score: 0.5714285714285714\n",
      "Fitting 10 folds for each of 12 candidates, totalling 120 fits\n"
     ]
    },
    {
     "name": "stderr",
     "output_type": "stream",
     "text": [
      "[Parallel(n_jobs=1)]: Using backend SequentialBackend with 1 concurrent workers.\n",
      "[Parallel(n_jobs=1)]: Done 120 out of 120 | elapsed:   31.0s finished\n"
     ]
    },
    {
     "name": "stdout",
     "output_type": "stream",
     "text": [
      "best score: 0.577639751552795\n",
      "Fitting 10 folds for each of 12 candidates, totalling 120 fits\n"
     ]
    },
    {
     "name": "stderr",
     "output_type": "stream",
     "text": [
      "[Parallel(n_jobs=1)]: Using backend SequentialBackend with 1 concurrent workers.\n",
      "[Parallel(n_jobs=1)]: Done 120 out of 120 | elapsed:   23.0s finished\n"
     ]
    },
    {
     "name": "stdout",
     "output_type": "stream",
     "text": [
      "best score: 0.577639751552795\n",
      "Fitting 10 folds for each of 12 candidates, totalling 120 fits\n"
     ]
    },
    {
     "name": "stderr",
     "output_type": "stream",
     "text": [
      "[Parallel(n_jobs=1)]: Using backend SequentialBackend with 1 concurrent workers.\n",
      "[Parallel(n_jobs=1)]: Done 120 out of 120 | elapsed:   48.8s finished\n"
     ]
    },
    {
     "name": "stdout",
     "output_type": "stream",
     "text": [
      "best score: 0.577639751552795\n",
      "Fitting 10 folds for each of 12 candidates, totalling 120 fits\n"
     ]
    },
    {
     "name": "stderr",
     "output_type": "stream",
     "text": [
      "[Parallel(n_jobs=1)]: Using backend SequentialBackend with 1 concurrent workers.\n",
      "[Parallel(n_jobs=1)]: Done 120 out of 120 | elapsed:   41.9s finished\n"
     ]
    },
    {
     "name": "stdout",
     "output_type": "stream",
     "text": [
      "best score: 0.577639751552795\n",
      "Split: 1\n",
      "Split: 2\n",
      "Split: 3\n",
      "Split: 4\n",
      "Split: 5\n",
      "Split: 6\n",
      "Split: 7\n",
      "Split: 8\n",
      "Split: 9\n",
      "Split: 10\n",
      "Training Testing Accuracy for n_games=8 team=6 : 49.12% (7.91%)\n",
      "(188, 1502)\n",
      "(188, 1)\n",
      "X_train shape: (169, 2492)\n",
      "X_test shape: (19, 2492)\n",
      "Fitting 10 folds for each of 12 candidates, totalling 120 fits\n"
     ]
    },
    {
     "name": "stderr",
     "output_type": "stream",
     "text": [
      "[Parallel(n_jobs=1)]: Using backend SequentialBackend with 1 concurrent workers.\n",
      "[Parallel(n_jobs=1)]: Done 120 out of 120 | elapsed:   35.5s finished\n"
     ]
    },
    {
     "name": "stdout",
     "output_type": "stream",
     "text": [
      "best score: 0.6804733727810651\n",
      "Fitting 10 folds for each of 12 candidates, totalling 120 fits\n"
     ]
    },
    {
     "name": "stderr",
     "output_type": "stream",
     "text": [
      "[Parallel(n_jobs=1)]: Using backend SequentialBackend with 1 concurrent workers.\n",
      "[Parallel(n_jobs=1)]: Done 120 out of 120 | elapsed:   29.6s finished\n"
     ]
    },
    {
     "name": "stdout",
     "output_type": "stream",
     "text": [
      "best score: 0.6804733727810651\n",
      "Fitting 10 folds for each of 12 candidates, totalling 120 fits\n"
     ]
    },
    {
     "name": "stderr",
     "output_type": "stream",
     "text": [
      "[Parallel(n_jobs=1)]: Using backend SequentialBackend with 1 concurrent workers.\n",
      "[Parallel(n_jobs=1)]: Done 120 out of 120 | elapsed:   46.5s finished\n"
     ]
    },
    {
     "name": "stdout",
     "output_type": "stream",
     "text": [
      "best score: 0.6863905325443787\n",
      "Fitting 10 folds for each of 12 candidates, totalling 120 fits\n"
     ]
    },
    {
     "name": "stderr",
     "output_type": "stream",
     "text": [
      "[Parallel(n_jobs=1)]: Using backend SequentialBackend with 1 concurrent workers.\n",
      "[Parallel(n_jobs=1)]: Done 120 out of 120 | elapsed:   29.7s finished\n"
     ]
    },
    {
     "name": "stdout",
     "output_type": "stream",
     "text": [
      "best score: 0.6863905325443787\n",
      "Fitting 10 folds for each of 12 candidates, totalling 120 fits\n"
     ]
    },
    {
     "name": "stderr",
     "output_type": "stream",
     "text": [
      "[Parallel(n_jobs=1)]: Using backend SequentialBackend with 1 concurrent workers.\n",
      "[Parallel(n_jobs=1)]: Done 120 out of 120 | elapsed:   34.4s finished\n"
     ]
    },
    {
     "name": "stdout",
     "output_type": "stream",
     "text": [
      "best score: 0.6863905325443787\n",
      "Split: 1\n",
      "Split: 2\n",
      "Split: 3\n",
      "Split: 4\n",
      "Split: 5\n",
      "Split: 6\n",
      "Split: 7\n",
      "Split: 8\n",
      "Split: 9\n",
      "Split: 10\n",
      "Training Testing Accuracy for n_games=8 team=7 : 65.44% (3.33%)\n",
      "(172, 1502)\n",
      "(172, 1)\n",
      "X_train shape: (154, 2499)\n",
      "X_test shape: (18, 2499)\n",
      "Fitting 10 folds for each of 12 candidates, totalling 120 fits\n"
     ]
    },
    {
     "name": "stderr",
     "output_type": "stream",
     "text": [
      "[Parallel(n_jobs=1)]: Using backend SequentialBackend with 1 concurrent workers.\n",
      "[Parallel(n_jobs=1)]: Done 120 out of 120 | elapsed:   35.1s finished\n"
     ]
    },
    {
     "name": "stdout",
     "output_type": "stream",
     "text": [
      "best score: 0.7662337662337663\n",
      "Fitting 10 folds for each of 12 candidates, totalling 120 fits\n"
     ]
    },
    {
     "name": "stderr",
     "output_type": "stream",
     "text": [
      "[Parallel(n_jobs=1)]: Using backend SequentialBackend with 1 concurrent workers.\n",
      "[Parallel(n_jobs=1)]: Done 120 out of 120 | elapsed:   30.5s finished\n"
     ]
    },
    {
     "name": "stdout",
     "output_type": "stream",
     "text": [
      "best score: 0.7662337662337663\n",
      "Fitting 10 folds for each of 12 candidates, totalling 120 fits\n"
     ]
    },
    {
     "name": "stderr",
     "output_type": "stream",
     "text": [
      "[Parallel(n_jobs=1)]: Using backend SequentialBackend with 1 concurrent workers.\n",
      "[Parallel(n_jobs=1)]: Done 120 out of 120 | elapsed:   48.6s finished\n"
     ]
    },
    {
     "name": "stdout",
     "output_type": "stream",
     "text": [
      "best score: 0.7662337662337663\n",
      "Fitting 10 folds for each of 12 candidates, totalling 120 fits\n"
     ]
    },
    {
     "name": "stderr",
     "output_type": "stream",
     "text": [
      "[Parallel(n_jobs=1)]: Using backend SequentialBackend with 1 concurrent workers.\n",
      "[Parallel(n_jobs=1)]: Done 120 out of 120 | elapsed:   34.0s finished\n"
     ]
    },
    {
     "name": "stdout",
     "output_type": "stream",
     "text": [
      "best score: 0.7662337662337663\n",
      "Fitting 10 folds for each of 12 candidates, totalling 120 fits\n"
     ]
    },
    {
     "name": "stderr",
     "output_type": "stream",
     "text": [
      "[Parallel(n_jobs=1)]: Using backend SequentialBackend with 1 concurrent workers.\n",
      "[Parallel(n_jobs=1)]: Done 120 out of 120 | elapsed:   41.5s finished\n"
     ]
    },
    {
     "name": "stdout",
     "output_type": "stream",
     "text": [
      "best score: 0.7662337662337663\n",
      "Split: 1\n",
      "Split: 2\n",
      "Split: 3\n",
      "Split: 4\n",
      "Split: 5\n",
      "Split: 6\n",
      "Split: 7\n",
      "Split: 8\n",
      "Split: 9\n",
      "Split: 10\n",
      "Training Testing Accuracy for n_games=8 team=8 : 75.62% (4.86%)\n",
      "(185, 1502)\n",
      "(185, 1)\n",
      "X_train shape: (166, 2506)\n",
      "X_test shape: (19, 2506)\n",
      "Fitting 10 folds for each of 12 candidates, totalling 120 fits\n"
     ]
    },
    {
     "name": "stderr",
     "output_type": "stream",
     "text": [
      "[Parallel(n_jobs=1)]: Using backend SequentialBackend with 1 concurrent workers.\n",
      "[Parallel(n_jobs=1)]: Done 120 out of 120 | elapsed:   36.7s finished\n"
     ]
    },
    {
     "name": "stdout",
     "output_type": "stream",
     "text": [
      "best score: 0.572289156626506\n",
      "Fitting 10 folds for each of 12 candidates, totalling 120 fits\n"
     ]
    },
    {
     "name": "stderr",
     "output_type": "stream",
     "text": [
      "[Parallel(n_jobs=1)]: Using backend SequentialBackend with 1 concurrent workers.\n",
      "[Parallel(n_jobs=1)]: Done 120 out of 120 | elapsed:   39.7s finished\n"
     ]
    },
    {
     "name": "stdout",
     "output_type": "stream",
     "text": [
      "best score: 0.572289156626506\n",
      "Fitting 10 folds for each of 12 candidates, totalling 120 fits\n"
     ]
    },
    {
     "name": "stderr",
     "output_type": "stream",
     "text": [
      "[Parallel(n_jobs=1)]: Using backend SequentialBackend with 1 concurrent workers.\n",
      "[Parallel(n_jobs=1)]: Done 120 out of 120 | elapsed:   47.8s finished\n"
     ]
    },
    {
     "name": "stdout",
     "output_type": "stream",
     "text": [
      "best score: 0.572289156626506\n",
      "Fitting 10 folds for each of 12 candidates, totalling 120 fits\n"
     ]
    },
    {
     "name": "stderr",
     "output_type": "stream",
     "text": [
      "[Parallel(n_jobs=1)]: Using backend SequentialBackend with 1 concurrent workers.\n",
      "[Parallel(n_jobs=1)]: Done 120 out of 120 | elapsed:   26.6s finished\n"
     ]
    },
    {
     "name": "stdout",
     "output_type": "stream",
     "text": [
      "best score: 0.572289156626506\n",
      "Fitting 10 folds for each of 12 candidates, totalling 120 fits\n"
     ]
    },
    {
     "name": "stderr",
     "output_type": "stream",
     "text": [
      "[Parallel(n_jobs=1)]: Using backend SequentialBackend with 1 concurrent workers.\n",
      "[Parallel(n_jobs=1)]: Done 120 out of 120 | elapsed:   34.9s finished\n"
     ]
    },
    {
     "name": "stdout",
     "output_type": "stream",
     "text": [
      "best score: 0.572289156626506\n",
      "Split: 1\n",
      "Split: 2\n",
      "Split: 3\n",
      "Split: 4\n",
      "Split: 5\n",
      "Split: 6\n",
      "Split: 7\n",
      "Split: 8\n",
      "Split: 9\n",
      "Split: 10\n",
      "Training Testing Accuracy for n_games=8 team=9 : 54.59% (9.94%)\n",
      "(186, 1502)\n",
      "(186, 1)\n",
      "X_train shape: (167, 2497)\n",
      "X_test shape: (19, 2497)\n",
      "Fitting 10 folds for each of 12 candidates, totalling 120 fits\n"
     ]
    },
    {
     "name": "stderr",
     "output_type": "stream",
     "text": [
      "[Parallel(n_jobs=1)]: Using backend SequentialBackend with 1 concurrent workers.\n",
      "[Parallel(n_jobs=1)]: Done 120 out of 120 | elapsed:   36.3s finished\n"
     ]
    },
    {
     "name": "stdout",
     "output_type": "stream",
     "text": [
      "best score: 0.6706586826347305\n",
      "Fitting 10 folds for each of 12 candidates, totalling 120 fits\n"
     ]
    },
    {
     "name": "stderr",
     "output_type": "stream",
     "text": [
      "[Parallel(n_jobs=1)]: Using backend SequentialBackend with 1 concurrent workers.\n",
      "[Parallel(n_jobs=1)]: Done 120 out of 120 | elapsed:   33.8s finished\n"
     ]
    },
    {
     "name": "stdout",
     "output_type": "stream",
     "text": [
      "best score: 0.6706586826347305\n",
      "Fitting 10 folds for each of 12 candidates, totalling 120 fits\n"
     ]
    },
    {
     "name": "stderr",
     "output_type": "stream",
     "text": [
      "[Parallel(n_jobs=1)]: Using backend SequentialBackend with 1 concurrent workers.\n",
      "[Parallel(n_jobs=1)]: Done 120 out of 120 | elapsed:   54.5s finished\n"
     ]
    },
    {
     "name": "stdout",
     "output_type": "stream",
     "text": [
      "best score: 0.6706586826347305\n",
      "Fitting 10 folds for each of 12 candidates, totalling 120 fits\n"
     ]
    },
    {
     "name": "stderr",
     "output_type": "stream",
     "text": [
      "[Parallel(n_jobs=1)]: Using backend SequentialBackend with 1 concurrent workers.\n",
      "[Parallel(n_jobs=1)]: Done 120 out of 120 | elapsed:   48.2s finished\n"
     ]
    },
    {
     "name": "stdout",
     "output_type": "stream",
     "text": [
      "best score: 0.6706586826347305\n",
      "Fitting 10 folds for each of 12 candidates, totalling 120 fits\n"
     ]
    },
    {
     "name": "stderr",
     "output_type": "stream",
     "text": [
      "[Parallel(n_jobs=1)]: Using backend SequentialBackend with 1 concurrent workers.\n",
      "[Parallel(n_jobs=1)]: Done 120 out of 120 | elapsed:   27.5s finished\n"
     ]
    },
    {
     "name": "stdout",
     "output_type": "stream",
     "text": [
      "best score: 0.6706586826347305\n",
      "Split: 1\n",
      "Split: 2\n",
      "Split: 3\n",
      "Split: 4\n",
      "Split: 5\n",
      "Split: 6\n",
      "Split: 7\n",
      "Split: 8\n",
      "Split: 9\n",
      "Split: 10\n",
      "Training Testing Accuracy for n_games=8 team=10 : 56.87% (8.60%)\n",
      "(178, 1502)\n",
      "(178, 1)\n",
      "X_train shape: (160, 2512)\n",
      "X_test shape: (18, 2512)\n",
      "Fitting 10 folds for each of 12 candidates, totalling 120 fits\n"
     ]
    },
    {
     "name": "stderr",
     "output_type": "stream",
     "text": [
      "[Parallel(n_jobs=1)]: Using backend SequentialBackend with 1 concurrent workers.\n",
      "[Parallel(n_jobs=1)]: Done 120 out of 120 | elapsed:   36.2s finished\n"
     ]
    },
    {
     "name": "stdout",
     "output_type": "stream",
     "text": [
      "best score: 0.60625\n",
      "Fitting 10 folds for each of 12 candidates, totalling 120 fits\n"
     ]
    },
    {
     "name": "stderr",
     "output_type": "stream",
     "text": [
      "[Parallel(n_jobs=1)]: Using backend SequentialBackend with 1 concurrent workers.\n",
      "[Parallel(n_jobs=1)]: Done 120 out of 120 | elapsed:   31.6s finished\n"
     ]
    },
    {
     "name": "stdout",
     "output_type": "stream",
     "text": [
      "best score: 0.60625\n",
      "Fitting 10 folds for each of 12 candidates, totalling 120 fits\n"
     ]
    },
    {
     "name": "stderr",
     "output_type": "stream",
     "text": [
      "[Parallel(n_jobs=1)]: Using backend SequentialBackend with 1 concurrent workers.\n",
      "[Parallel(n_jobs=1)]: Done 120 out of 120 | elapsed:  1.2min finished\n"
     ]
    },
    {
     "name": "stdout",
     "output_type": "stream",
     "text": [
      "best score: 0.60625\n",
      "Fitting 10 folds for each of 12 candidates, totalling 120 fits\n"
     ]
    },
    {
     "name": "stderr",
     "output_type": "stream",
     "text": [
      "[Parallel(n_jobs=1)]: Using backend SequentialBackend with 1 concurrent workers.\n",
      "[Parallel(n_jobs=1)]: Done 120 out of 120 | elapsed:   37.1s finished\n"
     ]
    },
    {
     "name": "stdout",
     "output_type": "stream",
     "text": [
      "best score: 0.6125\n",
      "Fitting 10 folds for each of 12 candidates, totalling 120 fits\n"
     ]
    },
    {
     "name": "stderr",
     "output_type": "stream",
     "text": [
      "[Parallel(n_jobs=1)]: Using backend SequentialBackend with 1 concurrent workers.\n",
      "[Parallel(n_jobs=1)]: Done 120 out of 120 | elapsed:   36.8s finished\n"
     ]
    },
    {
     "name": "stdout",
     "output_type": "stream",
     "text": [
      "best score: 0.6375\n",
      "Split: 1\n",
      "Split: 2\n",
      "Split: 3\n",
      "Split: 4\n",
      "Split: 5\n",
      "Split: 6\n",
      "Split: 7\n",
      "Split: 8\n",
      "Split: 9\n",
      "Split: 10\n",
      "Training Testing Accuracy for n_games=8 team=11 : 58.89% (8.51%)\n",
      "(179, 1502)\n",
      "(179, 1)\n",
      "X_train shape: (161, 2497)\n",
      "X_test shape: (18, 2497)\n",
      "Fitting 10 folds for each of 12 candidates, totalling 120 fits\n"
     ]
    },
    {
     "name": "stderr",
     "output_type": "stream",
     "text": [
      "[Parallel(n_jobs=1)]: Using backend SequentialBackend with 1 concurrent workers.\n",
      "[Parallel(n_jobs=1)]: Done 120 out of 120 | elapsed:   35.9s finished\n"
     ]
    },
    {
     "name": "stdout",
     "output_type": "stream",
     "text": [
      "best score: 0.5527950310559007\n",
      "Fitting 10 folds for each of 12 candidates, totalling 120 fits\n"
     ]
    },
    {
     "name": "stderr",
     "output_type": "stream",
     "text": [
      "[Parallel(n_jobs=1)]: Using backend SequentialBackend with 1 concurrent workers.\n",
      "[Parallel(n_jobs=1)]: Done 120 out of 120 | elapsed:   47.8s finished\n"
     ]
    },
    {
     "name": "stdout",
     "output_type": "stream",
     "text": [
      "best score: 0.5527950310559007\n",
      "Fitting 10 folds for each of 12 candidates, totalling 120 fits\n"
     ]
    },
    {
     "name": "stderr",
     "output_type": "stream",
     "text": [
      "[Parallel(n_jobs=1)]: Using backend SequentialBackend with 1 concurrent workers.\n",
      "[Parallel(n_jobs=1)]: Done 120 out of 120 | elapsed:   26.8s finished\n"
     ]
    },
    {
     "name": "stdout",
     "output_type": "stream",
     "text": [
      "best score: 0.5652173913043478\n",
      "Fitting 10 folds for each of 12 candidates, totalling 120 fits\n"
     ]
    },
    {
     "name": "stderr",
     "output_type": "stream",
     "text": [
      "[Parallel(n_jobs=1)]: Using backend SequentialBackend with 1 concurrent workers.\n",
      "[Parallel(n_jobs=1)]: Done 120 out of 120 | elapsed:   42.8s finished\n"
     ]
    },
    {
     "name": "stdout",
     "output_type": "stream",
     "text": [
      "best score: 0.5652173913043478\n",
      "Fitting 10 folds for each of 12 candidates, totalling 120 fits\n"
     ]
    },
    {
     "name": "stderr",
     "output_type": "stream",
     "text": [
      "[Parallel(n_jobs=1)]: Using backend SequentialBackend with 1 concurrent workers.\n",
      "[Parallel(n_jobs=1)]: Done 120 out of 120 | elapsed:   25.0s finished\n"
     ]
    },
    {
     "name": "stdout",
     "output_type": "stream",
     "text": [
      "best score: 0.5652173913043478\n",
      "Split: 1\n",
      "Split: 2\n",
      "Split: 3\n",
      "Split: 4\n",
      "Split: 5\n",
      "Split: 6\n",
      "Split: 7\n",
      "Split: 8\n",
      "Split: 9\n",
      "Split: 10\n",
      "Training Testing Accuracy for n_games=8 team=12 : 53.59% (5.85%)\n",
      "(180, 1502)\n",
      "(180, 1)\n",
      "X_train shape: (162, 2524)\n",
      "X_test shape: (18, 2524)\n",
      "Fitting 10 folds for each of 12 candidates, totalling 120 fits\n"
     ]
    },
    {
     "name": "stderr",
     "output_type": "stream",
     "text": [
      "[Parallel(n_jobs=1)]: Using backend SequentialBackend with 1 concurrent workers.\n",
      "[Parallel(n_jobs=1)]: Done 120 out of 120 | elapsed:   36.0s finished\n"
     ]
    },
    {
     "name": "stdout",
     "output_type": "stream",
     "text": [
      "best score: 0.5987654320987654\n",
      "Fitting 10 folds for each of 12 candidates, totalling 120 fits\n"
     ]
    },
    {
     "name": "stderr",
     "output_type": "stream",
     "text": [
      "[Parallel(n_jobs=1)]: Using backend SequentialBackend with 1 concurrent workers.\n",
      "[Parallel(n_jobs=1)]: Done 120 out of 120 | elapsed:   30.7s finished\n"
     ]
    },
    {
     "name": "stdout",
     "output_type": "stream",
     "text": [
      "best score: 0.5987654320987654\n",
      "Fitting 10 folds for each of 12 candidates, totalling 120 fits\n"
     ]
    },
    {
     "name": "stderr",
     "output_type": "stream",
     "text": [
      "[Parallel(n_jobs=1)]: Using backend SequentialBackend with 1 concurrent workers.\n",
      "[Parallel(n_jobs=1)]: Done 120 out of 120 | elapsed:   39.6s finished\n"
     ]
    },
    {
     "name": "stdout",
     "output_type": "stream",
     "text": [
      "best score: 0.5987654320987654\n",
      "Fitting 10 folds for each of 12 candidates, totalling 120 fits\n"
     ]
    },
    {
     "name": "stderr",
     "output_type": "stream",
     "text": [
      "[Parallel(n_jobs=1)]: Using backend SequentialBackend with 1 concurrent workers.\n",
      "[Parallel(n_jobs=1)]: Done 120 out of 120 | elapsed:   33.0s finished\n"
     ]
    },
    {
     "name": "stdout",
     "output_type": "stream",
     "text": [
      "best score: 0.5987654320987654\n",
      "Fitting 10 folds for each of 12 candidates, totalling 120 fits\n"
     ]
    },
    {
     "name": "stderr",
     "output_type": "stream",
     "text": [
      "[Parallel(n_jobs=1)]: Using backend SequentialBackend with 1 concurrent workers.\n",
      "[Parallel(n_jobs=1)]: Done 120 out of 120 | elapsed:   59.1s finished\n"
     ]
    },
    {
     "name": "stdout",
     "output_type": "stream",
     "text": [
      "best score: 0.5987654320987654\n",
      "Split: 1\n",
      "Split: 2\n",
      "Split: 3\n",
      "Split: 4\n",
      "Split: 5\n",
      "Split: 6\n",
      "Split: 7\n",
      "Split: 8\n",
      "Split: 9\n",
      "Split: 10\n",
      "Training Testing Accuracy for n_games=8 team=13 : 57.78% (8.31%)\n",
      "(183, 1502)\n",
      "(183, 1)\n",
      "X_train shape: (164, 2499)\n",
      "X_test shape: (19, 2499)\n",
      "Fitting 10 folds for each of 12 candidates, totalling 120 fits\n"
     ]
    },
    {
     "name": "stderr",
     "output_type": "stream",
     "text": [
      "[Parallel(n_jobs=1)]: Using backend SequentialBackend with 1 concurrent workers.\n",
      "[Parallel(n_jobs=1)]: Done 120 out of 120 | elapsed:   36.6s finished\n"
     ]
    },
    {
     "name": "stdout",
     "output_type": "stream",
     "text": [
      "best score: 0.6280487804878049\n",
      "Fitting 10 folds for each of 12 candidates, totalling 120 fits\n"
     ]
    },
    {
     "name": "stderr",
     "output_type": "stream",
     "text": [
      "[Parallel(n_jobs=1)]: Using backend SequentialBackend with 1 concurrent workers.\n",
      "[Parallel(n_jobs=1)]: Done 120 out of 120 | elapsed:   48.1s finished\n"
     ]
    },
    {
     "name": "stdout",
     "output_type": "stream",
     "text": [
      "best score: 0.6280487804878049\n",
      "Fitting 10 folds for each of 12 candidates, totalling 120 fits\n"
     ]
    },
    {
     "name": "stderr",
     "output_type": "stream",
     "text": [
      "[Parallel(n_jobs=1)]: Using backend SequentialBackend with 1 concurrent workers.\n",
      "[Parallel(n_jobs=1)]: Done 120 out of 120 | elapsed:   44.6s finished\n"
     ]
    },
    {
     "name": "stdout",
     "output_type": "stream",
     "text": [
      "best score: 0.6585365853658537\n",
      "Fitting 10 folds for each of 12 candidates, totalling 120 fits\n"
     ]
    },
    {
     "name": "stderr",
     "output_type": "stream",
     "text": [
      "[Parallel(n_jobs=1)]: Using backend SequentialBackend with 1 concurrent workers.\n",
      "[Parallel(n_jobs=1)]: Done 120 out of 120 | elapsed:   47.3s finished\n"
     ]
    },
    {
     "name": "stdout",
     "output_type": "stream",
     "text": [
      "best score: 0.6585365853658537\n",
      "Fitting 10 folds for each of 12 candidates, totalling 120 fits\n"
     ]
    },
    {
     "name": "stderr",
     "output_type": "stream",
     "text": [
      "[Parallel(n_jobs=1)]: Using backend SequentialBackend with 1 concurrent workers.\n",
      "[Parallel(n_jobs=1)]: Done 120 out of 120 | elapsed:   32.5s finished\n"
     ]
    },
    {
     "name": "stdout",
     "output_type": "stream",
     "text": [
      "best score: 0.6585365853658537\n",
      "Split: 1\n",
      "Split: 2\n",
      "Split: 3\n",
      "Split: 4\n",
      "Split: 5\n",
      "Split: 6\n",
      "Split: 7\n",
      "Split: 8\n",
      "Split: 9\n",
      "Split: 10\n",
      "Training Testing Accuracy for n_games=8 team=14 : 61.23% (8.99%)\n",
      "(172, 1502)\n",
      "(172, 1)\n",
      "X_train shape: (154, 2496)\n",
      "X_test shape: (18, 2496)\n",
      "Fitting 10 folds for each of 12 candidates, totalling 120 fits\n"
     ]
    },
    {
     "name": "stderr",
     "output_type": "stream",
     "text": [
      "[Parallel(n_jobs=1)]: Using backend SequentialBackend with 1 concurrent workers.\n",
      "[Parallel(n_jobs=1)]: Done 120 out of 120 | elapsed:   35.3s finished\n"
     ]
    },
    {
     "name": "stdout",
     "output_type": "stream",
     "text": [
      "best score: 0.6428571428571429\n",
      "Fitting 10 folds for each of 12 candidates, totalling 120 fits\n"
     ]
    },
    {
     "name": "stderr",
     "output_type": "stream",
     "text": [
      "[Parallel(n_jobs=1)]: Using backend SequentialBackend with 1 concurrent workers.\n",
      "[Parallel(n_jobs=1)]: Done 120 out of 120 | elapsed:   29.8s finished\n"
     ]
    },
    {
     "name": "stdout",
     "output_type": "stream",
     "text": [
      "best score: 0.6428571428571429\n",
      "Fitting 10 folds for each of 12 candidates, totalling 120 fits\n"
     ]
    },
    {
     "name": "stderr",
     "output_type": "stream",
     "text": [
      "[Parallel(n_jobs=1)]: Using backend SequentialBackend with 1 concurrent workers.\n",
      "[Parallel(n_jobs=1)]: Done 120 out of 120 | elapsed:   45.4s finished\n"
     ]
    },
    {
     "name": "stdout",
     "output_type": "stream",
     "text": [
      "best score: 0.6428571428571429\n",
      "Fitting 10 folds for each of 12 candidates, totalling 120 fits\n"
     ]
    },
    {
     "name": "stderr",
     "output_type": "stream",
     "text": [
      "[Parallel(n_jobs=1)]: Using backend SequentialBackend with 1 concurrent workers.\n",
      "[Parallel(n_jobs=1)]: Done 120 out of 120 | elapsed:   28.5s finished\n"
     ]
    },
    {
     "name": "stdout",
     "output_type": "stream",
     "text": [
      "best score: 0.6428571428571429\n",
      "Fitting 10 folds for each of 12 candidates, totalling 120 fits\n"
     ]
    },
    {
     "name": "stderr",
     "output_type": "stream",
     "text": [
      "[Parallel(n_jobs=1)]: Using backend SequentialBackend with 1 concurrent workers.\n",
      "[Parallel(n_jobs=1)]: Done 120 out of 120 | elapsed:   28.8s finished\n"
     ]
    },
    {
     "name": "stdout",
     "output_type": "stream",
     "text": [
      "best score: 0.6428571428571429\n",
      "Split: 1\n",
      "Split: 2\n",
      "Split: 3\n",
      "Split: 4\n",
      "Split: 5\n",
      "Split: 6\n",
      "Split: 7\n",
      "Split: 8\n",
      "Split: 9\n",
      "Split: 10\n",
      "Training Testing Accuracy for n_games=8 team=15 : 61.60% (8.04%)\n",
      "(188, 1502)\n",
      "(188, 1)\n",
      "X_train shape: (169, 2504)\n",
      "X_test shape: (19, 2504)\n",
      "Fitting 10 folds for each of 12 candidates, totalling 120 fits\n"
     ]
    },
    {
     "name": "stderr",
     "output_type": "stream",
     "text": [
      "[Parallel(n_jobs=1)]: Using backend SequentialBackend with 1 concurrent workers.\n",
      "[Parallel(n_jobs=1)]: Done 120 out of 120 | elapsed:   35.5s finished\n"
     ]
    },
    {
     "name": "stdout",
     "output_type": "stream",
     "text": [
      "best score: 0.6568047337278107\n",
      "Fitting 10 folds for each of 12 candidates, totalling 120 fits\n"
     ]
    },
    {
     "name": "stderr",
     "output_type": "stream",
     "text": [
      "[Parallel(n_jobs=1)]: Using backend SequentialBackend with 1 concurrent workers.\n",
      "[Parallel(n_jobs=1)]: Done 120 out of 120 | elapsed:   30.5s finished\n"
     ]
    },
    {
     "name": "stdout",
     "output_type": "stream",
     "text": [
      "best score: 0.6627218934911243\n",
      "Fitting 10 folds for each of 12 candidates, totalling 120 fits\n"
     ]
    },
    {
     "name": "stderr",
     "output_type": "stream",
     "text": [
      "[Parallel(n_jobs=1)]: Using backend SequentialBackend with 1 concurrent workers.\n",
      "[Parallel(n_jobs=1)]: Done 120 out of 120 | elapsed:   35.8s finished\n"
     ]
    },
    {
     "name": "stdout",
     "output_type": "stream",
     "text": [
      "best score: 0.6923076923076923\n",
      "Fitting 10 folds for each of 12 candidates, totalling 120 fits\n"
     ]
    },
    {
     "name": "stderr",
     "output_type": "stream",
     "text": [
      "[Parallel(n_jobs=1)]: Using backend SequentialBackend with 1 concurrent workers.\n",
      "[Parallel(n_jobs=1)]: Done 120 out of 120 | elapsed:   29.7s finished\n"
     ]
    },
    {
     "name": "stdout",
     "output_type": "stream",
     "text": [
      "best score: 0.6923076923076923\n",
      "Fitting 10 folds for each of 12 candidates, totalling 120 fits\n"
     ]
    },
    {
     "name": "stderr",
     "output_type": "stream",
     "text": [
      "[Parallel(n_jobs=1)]: Using backend SequentialBackend with 1 concurrent workers.\n",
      "[Parallel(n_jobs=1)]: Done 120 out of 120 | elapsed:   40.9s finished\n"
     ]
    },
    {
     "name": "stdout",
     "output_type": "stream",
     "text": [
      "best score: 0.6923076923076923\n",
      "Split: 1\n",
      "Split: 2\n",
      "Split: 3\n",
      "Split: 4\n",
      "Split: 5\n",
      "Split: 6\n",
      "Split: 7\n",
      "Split: 8\n",
      "Split: 9\n",
      "Split: 10\n",
      "Training Testing Accuracy for n_games=8 team=16 : 58.98% (13.60%)\n",
      "(183, 1502)\n",
      "(183, 1)\n",
      "X_train shape: (164, 2510)\n",
      "X_test shape: (19, 2510)\n",
      "Fitting 10 folds for each of 12 candidates, totalling 120 fits\n"
     ]
    },
    {
     "name": "stderr",
     "output_type": "stream",
     "text": [
      "[Parallel(n_jobs=1)]: Using backend SequentialBackend with 1 concurrent workers.\n",
      "[Parallel(n_jobs=1)]: Done 120 out of 120 | elapsed:   36.3s finished\n"
     ]
    },
    {
     "name": "stdout",
     "output_type": "stream",
     "text": [
      "best score: 0.6341463414634146\n",
      "Fitting 10 folds for each of 12 candidates, totalling 120 fits\n"
     ]
    },
    {
     "name": "stderr",
     "output_type": "stream",
     "text": [
      "[Parallel(n_jobs=1)]: Using backend SequentialBackend with 1 concurrent workers.\n",
      "[Parallel(n_jobs=1)]: Done 120 out of 120 | elapsed:   30.6s finished\n"
     ]
    },
    {
     "name": "stdout",
     "output_type": "stream",
     "text": [
      "best score: 0.6524390243902439\n",
      "Fitting 10 folds for each of 12 candidates, totalling 120 fits\n"
     ]
    },
    {
     "name": "stderr",
     "output_type": "stream",
     "text": [
      "[Parallel(n_jobs=1)]: Using backend SequentialBackend with 1 concurrent workers.\n",
      "[Parallel(n_jobs=1)]: Done 120 out of 120 | elapsed:   27.0s finished\n"
     ]
    },
    {
     "name": "stdout",
     "output_type": "stream",
     "text": [
      "best score: 0.6524390243902439\n",
      "Fitting 10 folds for each of 12 candidates, totalling 120 fits\n"
     ]
    },
    {
     "name": "stderr",
     "output_type": "stream",
     "text": [
      "[Parallel(n_jobs=1)]: Using backend SequentialBackend with 1 concurrent workers.\n",
      "[Parallel(n_jobs=1)]: Done 120 out of 120 | elapsed:   42.6s finished\n"
     ]
    },
    {
     "name": "stdout",
     "output_type": "stream",
     "text": [
      "best score: 0.6524390243902439\n",
      "Fitting 10 folds for each of 12 candidates, totalling 120 fits\n"
     ]
    },
    {
     "name": "stderr",
     "output_type": "stream",
     "text": [
      "[Parallel(n_jobs=1)]: Using backend SequentialBackend with 1 concurrent workers.\n",
      "[Parallel(n_jobs=1)]: Done 120 out of 120 | elapsed:   36.1s finished\n"
     ]
    },
    {
     "name": "stdout",
     "output_type": "stream",
     "text": [
      "best score: 0.6524390243902439\n",
      "Split: 1\n",
      "Split: 2\n",
      "Split: 3\n",
      "Split: 4\n",
      "Split: 5\n",
      "Split: 6\n",
      "Split: 7\n",
      "Split: 8\n",
      "Split: 9\n",
      "Split: 10\n",
      "Training Testing Accuracy for n_games=8 team=17 : 52.02% (9.32%)\n",
      "(182, 1502)\n",
      "(182, 1)\n",
      "X_train shape: (163, 2523)\n",
      "X_test shape: (19, 2523)\n",
      "Fitting 10 folds for each of 12 candidates, totalling 120 fits\n"
     ]
    },
    {
     "name": "stderr",
     "output_type": "stream",
     "text": [
      "[Parallel(n_jobs=1)]: Using backend SequentialBackend with 1 concurrent workers.\n",
      "[Parallel(n_jobs=1)]: Done 120 out of 120 | elapsed:   36.6s finished\n"
     ]
    },
    {
     "name": "stdout",
     "output_type": "stream",
     "text": [
      "best score: 0.5337423312883436\n",
      "Fitting 10 folds for each of 12 candidates, totalling 120 fits\n"
     ]
    },
    {
     "name": "stderr",
     "output_type": "stream",
     "text": [
      "[Parallel(n_jobs=1)]: Using backend SequentialBackend with 1 concurrent workers.\n",
      "[Parallel(n_jobs=1)]: Done 120 out of 120 | elapsed:   46.9s finished\n"
     ]
    },
    {
     "name": "stdout",
     "output_type": "stream",
     "text": [
      "best score: 0.5828220858895705\n",
      "Fitting 10 folds for each of 12 candidates, totalling 120 fits\n"
     ]
    },
    {
     "name": "stderr",
     "output_type": "stream",
     "text": [
      "[Parallel(n_jobs=1)]: Using backend SequentialBackend with 1 concurrent workers.\n",
      "[Parallel(n_jobs=1)]: Done 120 out of 120 | elapsed:   42.4s finished\n"
     ]
    },
    {
     "name": "stdout",
     "output_type": "stream",
     "text": [
      "best score: 0.6134969325153374\n",
      "Fitting 10 folds for each of 12 candidates, totalling 120 fits\n"
     ]
    },
    {
     "name": "stderr",
     "output_type": "stream",
     "text": [
      "[Parallel(n_jobs=1)]: Using backend SequentialBackend with 1 concurrent workers.\n",
      "[Parallel(n_jobs=1)]: Done 120 out of 120 | elapsed:  1.1min finished\n"
     ]
    },
    {
     "name": "stdout",
     "output_type": "stream",
     "text": [
      "best score: 0.6134969325153374\n",
      "Fitting 10 folds for each of 12 candidates, totalling 120 fits\n"
     ]
    },
    {
     "name": "stderr",
     "output_type": "stream",
     "text": [
      "[Parallel(n_jobs=1)]: Using backend SequentialBackend with 1 concurrent workers.\n",
      "[Parallel(n_jobs=1)]: Done 120 out of 120 | elapsed:   24.8s finished\n"
     ]
    },
    {
     "name": "stdout",
     "output_type": "stream",
     "text": [
      "best score: 0.6134969325153374\n",
      "Split: 1\n",
      "Split: 2\n",
      "Split: 3\n",
      "Split: 4\n",
      "Split: 5\n",
      "Split: 6\n",
      "Split: 7\n",
      "Split: 8\n",
      "Split: 9\n",
      "Split: 10\n",
      "Training Testing Accuracy for n_games=8 team=18 : 48.42% (5.89%)\n",
      "Accuracy for Team Models for n_games= 8 : 59.26% (7.13%)\n",
      "(177, 1688)\n",
      "(177, 1)\n",
      "X_train shape: (159, 2817)\n",
      "X_test shape: (18, 2817)\n",
      "Fitting 10 folds for each of 12 candidates, totalling 120 fits\n"
     ]
    },
    {
     "name": "stderr",
     "output_type": "stream",
     "text": [
      "[Parallel(n_jobs=1)]: Using backend SequentialBackend with 1 concurrent workers.\n",
      "[Parallel(n_jobs=1)]: Done 120 out of 120 | elapsed:   40.7s finished\n"
     ]
    },
    {
     "name": "stdout",
     "output_type": "stream",
     "text": [
      "best score: 0.6352201257861635\n",
      "Fitting 10 folds for each of 12 candidates, totalling 120 fits\n"
     ]
    },
    {
     "name": "stderr",
     "output_type": "stream",
     "text": [
      "[Parallel(n_jobs=1)]: Using backend SequentialBackend with 1 concurrent workers.\n",
      "[Parallel(n_jobs=1)]: Done 120 out of 120 | elapsed:   43.7s finished\n"
     ]
    },
    {
     "name": "stdout",
     "output_type": "stream",
     "text": [
      "best score: 0.6477987421383647\n",
      "Fitting 10 folds for each of 12 candidates, totalling 120 fits\n"
     ]
    },
    {
     "name": "stderr",
     "output_type": "stream",
     "text": [
      "[Parallel(n_jobs=1)]: Using backend SequentialBackend with 1 concurrent workers.\n",
      "[Parallel(n_jobs=1)]: Done 120 out of 120 | elapsed:   45.0s finished\n"
     ]
    },
    {
     "name": "stdout",
     "output_type": "stream",
     "text": [
      "best score: 0.6477987421383647\n",
      "Fitting 10 folds for each of 12 candidates, totalling 120 fits\n"
     ]
    },
    {
     "name": "stderr",
     "output_type": "stream",
     "text": [
      "[Parallel(n_jobs=1)]: Using backend SequentialBackend with 1 concurrent workers.\n",
      "[Parallel(n_jobs=1)]: Done 120 out of 120 | elapsed:   40.5s finished\n"
     ]
    },
    {
     "name": "stdout",
     "output_type": "stream",
     "text": [
      "best score: 0.6477987421383647\n",
      "Fitting 10 folds for each of 12 candidates, totalling 120 fits\n"
     ]
    },
    {
     "name": "stderr",
     "output_type": "stream",
     "text": [
      "[Parallel(n_jobs=1)]: Using backend SequentialBackend with 1 concurrent workers.\n",
      "[Parallel(n_jobs=1)]: Done 120 out of 120 | elapsed:  1.3min finished\n"
     ]
    },
    {
     "name": "stdout",
     "output_type": "stream",
     "text": [
      "best score: 0.6855345911949685\n",
      "Split: 1\n",
      "Split: 2\n",
      "Split: 3\n",
      "Split: 4\n",
      "Split: 5\n",
      "Split: 6\n",
      "Split: 7\n",
      "Split: 8\n",
      "Split: 9\n",
      "Split: 10\n",
      "Training Testing Accuracy for n_games=9 team=1 : 61.54% (6.26%)\n",
      "(175, 1688)\n",
      "(175, 1)\n",
      "X_train shape: (157, 2790)\n",
      "X_test shape: (18, 2790)\n",
      "Fitting 10 folds for each of 12 candidates, totalling 120 fits\n"
     ]
    },
    {
     "name": "stderr",
     "output_type": "stream",
     "text": [
      "[Parallel(n_jobs=1)]: Using backend SequentialBackend with 1 concurrent workers.\n",
      "[Parallel(n_jobs=1)]: Done 120 out of 120 | elapsed:   39.7s finished\n"
     ]
    },
    {
     "name": "stdout",
     "output_type": "stream",
     "text": [
      "best score: 0.6815286624203821\n",
      "Fitting 10 folds for each of 12 candidates, totalling 120 fits\n"
     ]
    },
    {
     "name": "stderr",
     "output_type": "stream",
     "text": [
      "[Parallel(n_jobs=1)]: Using backend SequentialBackend with 1 concurrent workers.\n",
      "[Parallel(n_jobs=1)]: Done 120 out of 120 | elapsed:   56.7s finished\n"
     ]
    },
    {
     "name": "stdout",
     "output_type": "stream",
     "text": [
      "best score: 0.6815286624203821\n",
      "Fitting 10 folds for each of 12 candidates, totalling 120 fits\n"
     ]
    },
    {
     "name": "stderr",
     "output_type": "stream",
     "text": [
      "[Parallel(n_jobs=1)]: Using backend SequentialBackend with 1 concurrent workers.\n",
      "[Parallel(n_jobs=1)]: Done 120 out of 120 | elapsed:   59.7s finished\n"
     ]
    },
    {
     "name": "stdout",
     "output_type": "stream",
     "text": [
      "best score: 0.6815286624203821\n",
      "Fitting 10 folds for each of 12 candidates, totalling 120 fits\n"
     ]
    },
    {
     "name": "stderr",
     "output_type": "stream",
     "text": [
      "[Parallel(n_jobs=1)]: Using backend SequentialBackend with 1 concurrent workers.\n",
      "[Parallel(n_jobs=1)]: Done 120 out of 120 | elapsed:   40.7s finished\n"
     ]
    },
    {
     "name": "stdout",
     "output_type": "stream",
     "text": [
      "best score: 0.6815286624203821\n",
      "Fitting 10 folds for each of 12 candidates, totalling 120 fits\n"
     ]
    },
    {
     "name": "stderr",
     "output_type": "stream",
     "text": [
      "[Parallel(n_jobs=1)]: Using backend SequentialBackend with 1 concurrent workers.\n",
      "[Parallel(n_jobs=1)]: Done 120 out of 120 | elapsed:  2.4min finished\n"
     ]
    },
    {
     "name": "stdout",
     "output_type": "stream",
     "text": [
      "best score: 0.6815286624203821\n",
      "Split: 1\n",
      "Split: 2\n",
      "Split: 3\n",
      "Split: 4\n",
      "Split: 5\n",
      "Split: 6\n",
      "Split: 7\n",
      "Split: 8\n",
      "Split: 9\n",
      "Split: 10\n",
      "Training Testing Accuracy for n_games=9 team=2 : 66.34% (8.90%)\n",
      "(173, 1688)\n",
      "(173, 1)\n",
      "X_train shape: (155, 2784)\n",
      "X_test shape: (18, 2784)\n",
      "Fitting 10 folds for each of 12 candidates, totalling 120 fits\n"
     ]
    },
    {
     "name": "stderr",
     "output_type": "stream",
     "text": [
      "[Parallel(n_jobs=1)]: Using backend SequentialBackend with 1 concurrent workers.\n",
      "[Parallel(n_jobs=1)]: Done 120 out of 120 | elapsed:   39.9s finished\n"
     ]
    },
    {
     "name": "stdout",
     "output_type": "stream",
     "text": [
      "best score: 0.6903225806451613\n",
      "Fitting 10 folds for each of 12 candidates, totalling 120 fits\n"
     ]
    },
    {
     "name": "stderr",
     "output_type": "stream",
     "text": [
      "[Parallel(n_jobs=1)]: Using backend SequentialBackend with 1 concurrent workers.\n",
      "[Parallel(n_jobs=1)]: Done 120 out of 120 | elapsed:   31.8s finished\n"
     ]
    },
    {
     "name": "stdout",
     "output_type": "stream",
     "text": [
      "best score: 0.6903225806451613\n",
      "Fitting 10 folds for each of 12 candidates, totalling 120 fits\n"
     ]
    },
    {
     "name": "stderr",
     "output_type": "stream",
     "text": [
      "[Parallel(n_jobs=1)]: Using backend SequentialBackend with 1 concurrent workers.\n",
      "[Parallel(n_jobs=1)]: Done 120 out of 120 | elapsed:   31.3s finished\n"
     ]
    },
    {
     "name": "stdout",
     "output_type": "stream",
     "text": [
      "best score: 0.6903225806451613\n",
      "Fitting 10 folds for each of 12 candidates, totalling 120 fits\n"
     ]
    },
    {
     "name": "stderr",
     "output_type": "stream",
     "text": [
      "[Parallel(n_jobs=1)]: Using backend SequentialBackend with 1 concurrent workers.\n",
      "[Parallel(n_jobs=1)]: Done 120 out of 120 | elapsed:   28.6s finished\n"
     ]
    },
    {
     "name": "stdout",
     "output_type": "stream",
     "text": [
      "best score: 0.6903225806451613\n",
      "Fitting 10 folds for each of 12 candidates, totalling 120 fits\n"
     ]
    },
    {
     "name": "stderr",
     "output_type": "stream",
     "text": [
      "[Parallel(n_jobs=1)]: Using backend SequentialBackend with 1 concurrent workers.\n",
      "[Parallel(n_jobs=1)]: Done 120 out of 120 | elapsed:   50.1s finished\n"
     ]
    },
    {
     "name": "stdout",
     "output_type": "stream",
     "text": [
      "best score: 0.6903225806451613\n",
      "Split: 1\n",
      "Split: 2\n",
      "Split: 3\n",
      "Split: 4\n",
      "Split: 5\n",
      "Split: 6\n",
      "Split: 7\n",
      "Split: 8\n",
      "Split: 9\n",
      "Split: 10\n",
      "Training Testing Accuracy for n_games=9 team=3 : 69.97% (1.72%)\n",
      "(178, 1688)\n",
      "(178, 1)\n",
      "X_train shape: (160, 2784)\n",
      "X_test shape: (18, 2784)\n",
      "Fitting 10 folds for each of 12 candidates, totalling 120 fits\n"
     ]
    },
    {
     "name": "stderr",
     "output_type": "stream",
     "text": [
      "[Parallel(n_jobs=1)]: Using backend SequentialBackend with 1 concurrent workers.\n",
      "[Parallel(n_jobs=1)]: Done 120 out of 120 | elapsed:   39.6s finished\n"
     ]
    },
    {
     "name": "stdout",
     "output_type": "stream",
     "text": [
      "best score: 0.625\n",
      "Fitting 10 folds for each of 12 candidates, totalling 120 fits\n"
     ]
    },
    {
     "name": "stderr",
     "output_type": "stream",
     "text": [
      "[Parallel(n_jobs=1)]: Using backend SequentialBackend with 1 concurrent workers.\n",
      "[Parallel(n_jobs=1)]: Done 120 out of 120 | elapsed:  1.2min finished\n"
     ]
    },
    {
     "name": "stdout",
     "output_type": "stream",
     "text": [
      "best score: 0.625\n",
      "Fitting 10 folds for each of 12 candidates, totalling 120 fits\n"
     ]
    },
    {
     "name": "stderr",
     "output_type": "stream",
     "text": [
      "[Parallel(n_jobs=1)]: Using backend SequentialBackend with 1 concurrent workers.\n",
      "[Parallel(n_jobs=1)]: Done 120 out of 120 | elapsed:   32.8s finished\n"
     ]
    },
    {
     "name": "stdout",
     "output_type": "stream",
     "text": [
      "best score: 0.63125\n",
      "Fitting 10 folds for each of 12 candidates, totalling 120 fits\n"
     ]
    },
    {
     "name": "stderr",
     "output_type": "stream",
     "text": [
      "[Parallel(n_jobs=1)]: Using backend SequentialBackend with 1 concurrent workers.\n",
      "[Parallel(n_jobs=1)]: Done 120 out of 120 | elapsed:   45.5s finished\n"
     ]
    },
    {
     "name": "stdout",
     "output_type": "stream",
     "text": [
      "best score: 0.63125\n",
      "Fitting 10 folds for each of 12 candidates, totalling 120 fits\n"
     ]
    },
    {
     "name": "stderr",
     "output_type": "stream",
     "text": [
      "[Parallel(n_jobs=1)]: Using backend SequentialBackend with 1 concurrent workers.\n",
      "[Parallel(n_jobs=1)]: Done 120 out of 120 | elapsed:   32.1s finished\n"
     ]
    },
    {
     "name": "stdout",
     "output_type": "stream",
     "text": [
      "best score: 0.63125\n",
      "Split: 1\n",
      "Split: 2\n",
      "Split: 3\n",
      "Split: 4\n",
      "Split: 5\n",
      "Split: 6\n",
      "Split: 7\n",
      "Split: 8\n",
      "Split: 9\n",
      "Split: 10\n",
      "Training Testing Accuracy for n_games=9 team=4 : 54.08% (9.10%)\n",
      "(175, 1688)\n",
      "(175, 1)\n",
      "X_train shape: (157, 2763)\n",
      "X_test shape: (18, 2763)\n",
      "Fitting 10 folds for each of 12 candidates, totalling 120 fits\n"
     ]
    },
    {
     "name": "stderr",
     "output_type": "stream",
     "text": [
      "[Parallel(n_jobs=1)]: Using backend SequentialBackend with 1 concurrent workers.\n",
      "[Parallel(n_jobs=1)]: Done 120 out of 120 | elapsed:   39.8s finished\n"
     ]
    },
    {
     "name": "stdout",
     "output_type": "stream",
     "text": [
      "best score: 0.5859872611464968\n",
      "Fitting 10 folds for each of 12 candidates, totalling 120 fits\n"
     ]
    },
    {
     "name": "stderr",
     "output_type": "stream",
     "text": [
      "[Parallel(n_jobs=1)]: Using backend SequentialBackend with 1 concurrent workers.\n",
      "[Parallel(n_jobs=1)]: Done 120 out of 120 | elapsed:  1.5min finished\n"
     ]
    },
    {
     "name": "stdout",
     "output_type": "stream",
     "text": [
      "best score: 0.5859872611464968\n",
      "Fitting 10 folds for each of 12 candidates, totalling 120 fits\n"
     ]
    },
    {
     "name": "stderr",
     "output_type": "stream",
     "text": [
      "[Parallel(n_jobs=1)]: Using backend SequentialBackend with 1 concurrent workers.\n",
      "[Parallel(n_jobs=1)]: Done 120 out of 120 | elapsed:   32.4s finished\n"
     ]
    },
    {
     "name": "stdout",
     "output_type": "stream",
     "text": [
      "best score: 0.5859872611464968\n",
      "Fitting 10 folds for each of 12 candidates, totalling 120 fits\n"
     ]
    },
    {
     "name": "stderr",
     "output_type": "stream",
     "text": [
      "[Parallel(n_jobs=1)]: Using backend SequentialBackend with 1 concurrent workers.\n",
      "[Parallel(n_jobs=1)]: Done 120 out of 120 | elapsed:   35.8s finished\n"
     ]
    },
    {
     "name": "stdout",
     "output_type": "stream",
     "text": [
      "best score: 0.5859872611464968\n",
      "Fitting 10 folds for each of 12 candidates, totalling 120 fits\n"
     ]
    },
    {
     "name": "stderr",
     "output_type": "stream",
     "text": [
      "[Parallel(n_jobs=1)]: Using backend SequentialBackend with 1 concurrent workers.\n",
      "[Parallel(n_jobs=1)]: Done 120 out of 120 | elapsed:   41.0s finished\n"
     ]
    },
    {
     "name": "stdout",
     "output_type": "stream",
     "text": [
      "best score: 0.6050955414012739\n",
      "Split: 1\n",
      "Split: 2\n",
      "Split: 3\n",
      "Split: 4\n",
      "Split: 5\n",
      "Split: 6\n",
      "Split: 7\n",
      "Split: 8\n",
      "Split: 9\n",
      "Split: 10\n",
      "Training Testing Accuracy for n_games=9 team=5 : 57.78% (9.17%)\n",
      "(178, 1688)\n",
      "(178, 1)\n",
      "X_train shape: (160, 2804)\n",
      "X_test shape: (18, 2804)\n",
      "Fitting 10 folds for each of 12 candidates, totalling 120 fits\n"
     ]
    },
    {
     "name": "stderr",
     "output_type": "stream",
     "text": [
      "[Parallel(n_jobs=1)]: Using backend SequentialBackend with 1 concurrent workers.\n",
      "[Parallel(n_jobs=1)]: Done 120 out of 120 | elapsed:   39.7s finished\n"
     ]
    },
    {
     "name": "stdout",
     "output_type": "stream",
     "text": [
      "best score: 0.54375\n",
      "Fitting 10 folds for each of 12 candidates, totalling 120 fits\n"
     ]
    },
    {
     "name": "stderr",
     "output_type": "stream",
     "text": [
      "[Parallel(n_jobs=1)]: Using backend SequentialBackend with 1 concurrent workers.\n",
      "[Parallel(n_jobs=1)]: Done 120 out of 120 | elapsed:   36.3s finished\n"
     ]
    },
    {
     "name": "stdout",
     "output_type": "stream",
     "text": [
      "best score: 0.54375\n",
      "Fitting 10 folds for each of 12 candidates, totalling 120 fits\n"
     ]
    },
    {
     "name": "stderr",
     "output_type": "stream",
     "text": [
      "[Parallel(n_jobs=1)]: Using backend SequentialBackend with 1 concurrent workers.\n",
      "[Parallel(n_jobs=1)]: Done 120 out of 120 | elapsed:   31.2s finished\n"
     ]
    },
    {
     "name": "stdout",
     "output_type": "stream",
     "text": [
      "best score: 0.5625\n",
      "Fitting 10 folds for each of 12 candidates, totalling 120 fits\n"
     ]
    },
    {
     "name": "stderr",
     "output_type": "stream",
     "text": [
      "[Parallel(n_jobs=1)]: Using backend SequentialBackend with 1 concurrent workers.\n",
      "[Parallel(n_jobs=1)]: Done 120 out of 120 | elapsed:   42.2s finished\n"
     ]
    },
    {
     "name": "stdout",
     "output_type": "stream",
     "text": [
      "best score: 0.5625\n",
      "Fitting 10 folds for each of 12 candidates, totalling 120 fits\n"
     ]
    },
    {
     "name": "stderr",
     "output_type": "stream",
     "text": [
      "[Parallel(n_jobs=1)]: Using backend SequentialBackend with 1 concurrent workers.\n",
      "[Parallel(n_jobs=1)]: Done 120 out of 120 | elapsed:   30.7s finished\n"
     ]
    },
    {
     "name": "stdout",
     "output_type": "stream",
     "text": [
      "best score: 0.5625\n",
      "Split: 1\n",
      "Split: 2\n",
      "Split: 3\n",
      "Split: 4\n",
      "Split: 5\n",
      "Split: 6\n",
      "Split: 7\n",
      "Split: 8\n",
      "Split: 9\n",
      "Split: 10\n",
      "Training Testing Accuracy for n_games=9 team=6 : 52.78% (4.67%)\n",
      "(187, 1688)\n",
      "(187, 1)\n",
      "X_train shape: (168, 2795)\n",
      "X_test shape: (19, 2795)\n",
      "Fitting 10 folds for each of 12 candidates, totalling 120 fits\n"
     ]
    },
    {
     "name": "stderr",
     "output_type": "stream",
     "text": [
      "[Parallel(n_jobs=1)]: Using backend SequentialBackend with 1 concurrent workers.\n",
      "[Parallel(n_jobs=1)]: Done 120 out of 120 | elapsed:   40.3s finished\n"
     ]
    },
    {
     "name": "stdout",
     "output_type": "stream",
     "text": [
      "best score: 0.6964285714285714\n",
      "Fitting 10 folds for each of 12 candidates, totalling 120 fits\n"
     ]
    },
    {
     "name": "stderr",
     "output_type": "stream",
     "text": [
      "[Parallel(n_jobs=1)]: Using backend SequentialBackend with 1 concurrent workers.\n",
      "[Parallel(n_jobs=1)]: Done 120 out of 120 | elapsed:   34.2s finished\n"
     ]
    },
    {
     "name": "stdout",
     "output_type": "stream",
     "text": [
      "best score: 0.6964285714285714\n",
      "Fitting 10 folds for each of 12 candidates, totalling 120 fits\n"
     ]
    },
    {
     "name": "stderr",
     "output_type": "stream",
     "text": [
      "[Parallel(n_jobs=1)]: Using backend SequentialBackend with 1 concurrent workers.\n",
      "[Parallel(n_jobs=1)]: Done 120 out of 120 | elapsed:   41.4s finished\n"
     ]
    },
    {
     "name": "stdout",
     "output_type": "stream",
     "text": [
      "best score: 0.6964285714285714\n",
      "Fitting 10 folds for each of 12 candidates, totalling 120 fits\n"
     ]
    },
    {
     "name": "stderr",
     "output_type": "stream",
     "text": [
      "[Parallel(n_jobs=1)]: Using backend SequentialBackend with 1 concurrent workers.\n",
      "[Parallel(n_jobs=1)]: Done 120 out of 120 | elapsed:   43.2s finished\n"
     ]
    },
    {
     "name": "stdout",
     "output_type": "stream",
     "text": [
      "best score: 0.6964285714285714\n",
      "Fitting 10 folds for each of 12 candidates, totalling 120 fits\n"
     ]
    },
    {
     "name": "stderr",
     "output_type": "stream",
     "text": [
      "[Parallel(n_jobs=1)]: Using backend SequentialBackend with 1 concurrent workers.\n",
      "[Parallel(n_jobs=1)]: Done 120 out of 120 | elapsed:   47.0s finished\n"
     ]
    },
    {
     "name": "stdout",
     "output_type": "stream",
     "text": [
      "best score: 0.6964285714285714\n",
      "Split: 1\n",
      "Split: 2\n",
      "Split: 3\n",
      "Split: 4\n",
      "Split: 5\n",
      "Split: 6\n",
      "Split: 7\n",
      "Split: 8\n",
      "Split: 9\n",
      "Split: 10\n",
      "Training Testing Accuracy for n_games=9 team=7 : 68.42% (5.08%)\n",
      "(171, 1688)\n",
      "(171, 1)\n",
      "X_train shape: (153, 2801)\n",
      "X_test shape: (18, 2801)\n",
      "Fitting 10 folds for each of 12 candidates, totalling 120 fits\n"
     ]
    },
    {
     "name": "stderr",
     "output_type": "stream",
     "text": [
      "[Parallel(n_jobs=1)]: Using backend SequentialBackend with 1 concurrent workers.\n",
      "[Parallel(n_jobs=1)]: Done 120 out of 120 | elapsed:   39.1s finished\n"
     ]
    },
    {
     "name": "stdout",
     "output_type": "stream",
     "text": [
      "best score: 0.7581699346405228\n",
      "Fitting 10 folds for each of 12 candidates, totalling 120 fits\n"
     ]
    },
    {
     "name": "stderr",
     "output_type": "stream",
     "text": [
      "[Parallel(n_jobs=1)]: Using backend SequentialBackend with 1 concurrent workers.\n",
      "[Parallel(n_jobs=1)]: Done 120 out of 120 | elapsed:   53.2s finished\n"
     ]
    },
    {
     "name": "stdout",
     "output_type": "stream",
     "text": [
      "best score: 0.7581699346405228\n",
      "Fitting 10 folds for each of 12 candidates, totalling 120 fits\n"
     ]
    },
    {
     "name": "stderr",
     "output_type": "stream",
     "text": [
      "[Parallel(n_jobs=1)]: Using backend SequentialBackend with 1 concurrent workers.\n",
      "[Parallel(n_jobs=1)]: Done 120 out of 120 | elapsed:   36.9s finished\n"
     ]
    },
    {
     "name": "stdout",
     "output_type": "stream",
     "text": [
      "best score: 0.7581699346405228\n",
      "Fitting 10 folds for each of 12 candidates, totalling 120 fits\n"
     ]
    },
    {
     "name": "stderr",
     "output_type": "stream",
     "text": [
      "[Parallel(n_jobs=1)]: Using backend SequentialBackend with 1 concurrent workers.\n",
      "[Parallel(n_jobs=1)]: Done 120 out of 120 | elapsed:   51.5s finished\n"
     ]
    },
    {
     "name": "stdout",
     "output_type": "stream",
     "text": [
      "best score: 0.7581699346405228\n",
      "Fitting 10 folds for each of 12 candidates, totalling 120 fits\n"
     ]
    },
    {
     "name": "stderr",
     "output_type": "stream",
     "text": [
      "[Parallel(n_jobs=1)]: Using backend SequentialBackend with 1 concurrent workers.\n",
      "[Parallel(n_jobs=1)]: Done 120 out of 120 | elapsed:   32.0s finished\n"
     ]
    },
    {
     "name": "stdout",
     "output_type": "stream",
     "text": [
      "best score: 0.7581699346405228\n",
      "Split: 1\n",
      "Split: 2\n",
      "Split: 3\n",
      "Split: 4\n",
      "Split: 5\n",
      "Split: 6\n",
      "Split: 7\n",
      "Split: 8\n",
      "Split: 9\n",
      "Split: 10\n",
      "Training Testing Accuracy for n_games=9 team=8 : 73.66% (3.09%)\n",
      "(184, 1688)\n",
      "(184, 1)\n",
      "X_train shape: (165, 2812)\n",
      "X_test shape: (19, 2812)\n",
      "Fitting 10 folds for each of 12 candidates, totalling 120 fits\n"
     ]
    },
    {
     "name": "stderr",
     "output_type": "stream",
     "text": [
      "[Parallel(n_jobs=1)]: Using backend SequentialBackend with 1 concurrent workers.\n",
      "[Parallel(n_jobs=1)]: Done 120 out of 120 | elapsed:   40.8s finished\n"
     ]
    },
    {
     "name": "stdout",
     "output_type": "stream",
     "text": [
      "best score: 0.6060606060606061\n",
      "Fitting 10 folds for each of 12 candidates, totalling 120 fits\n"
     ]
    },
    {
     "name": "stderr",
     "output_type": "stream",
     "text": [
      "[Parallel(n_jobs=1)]: Using backend SequentialBackend with 1 concurrent workers.\n",
      "[Parallel(n_jobs=1)]: Done 120 out of 120 | elapsed:   45.5s finished\n"
     ]
    },
    {
     "name": "stdout",
     "output_type": "stream",
     "text": [
      "best score: 0.6060606060606061\n",
      "Fitting 10 folds for each of 12 candidates, totalling 120 fits\n"
     ]
    },
    {
     "name": "stderr",
     "output_type": "stream",
     "text": [
      "[Parallel(n_jobs=1)]: Using backend SequentialBackend with 1 concurrent workers.\n",
      "[Parallel(n_jobs=1)]: Done 120 out of 120 | elapsed:  1.1min finished\n"
     ]
    },
    {
     "name": "stdout",
     "output_type": "stream",
     "text": [
      "best score: 0.6060606060606061\n",
      "Fitting 10 folds for each of 12 candidates, totalling 120 fits\n"
     ]
    },
    {
     "name": "stderr",
     "output_type": "stream",
     "text": [
      "[Parallel(n_jobs=1)]: Using backend SequentialBackend with 1 concurrent workers.\n",
      "[Parallel(n_jobs=1)]: Done 120 out of 120 | elapsed:   52.0s finished\n"
     ]
    },
    {
     "name": "stdout",
     "output_type": "stream",
     "text": [
      "best score: 0.6060606060606061\n",
      "Fitting 10 folds for each of 12 candidates, totalling 120 fits\n"
     ]
    },
    {
     "name": "stderr",
     "output_type": "stream",
     "text": [
      "[Parallel(n_jobs=1)]: Using backend SequentialBackend with 1 concurrent workers.\n",
      "[Parallel(n_jobs=1)]: Done 120 out of 120 | elapsed:   33.5s finished\n"
     ]
    },
    {
     "name": "stdout",
     "output_type": "stream",
     "text": [
      "best score: 0.6060606060606061\n",
      "Split: 1\n",
      "Split: 2\n",
      "Split: 3\n",
      "Split: 4\n",
      "Split: 5\n",
      "Split: 6\n",
      "Split: 7\n",
      "Split: 8\n",
      "Split: 9\n",
      "Split: 10\n",
      "Training Testing Accuracy for n_games=9 team=9 : 58.60% (10.72%)\n",
      "(185, 1688)\n",
      "(185, 1)\n",
      "X_train shape: (166, 2801)\n",
      "X_test shape: (19, 2801)\n",
      "Fitting 10 folds for each of 12 candidates, totalling 120 fits\n"
     ]
    },
    {
     "name": "stderr",
     "output_type": "stream",
     "text": [
      "[Parallel(n_jobs=1)]: Using backend SequentialBackend with 1 concurrent workers.\n",
      "[Parallel(n_jobs=1)]: Done 120 out of 120 | elapsed:   41.0s finished\n"
     ]
    },
    {
     "name": "stdout",
     "output_type": "stream",
     "text": [
      "best score: 0.6385542168674698\n",
      "Fitting 10 folds for each of 12 candidates, totalling 120 fits\n"
     ]
    },
    {
     "name": "stderr",
     "output_type": "stream",
     "text": [
      "[Parallel(n_jobs=1)]: Using backend SequentialBackend with 1 concurrent workers.\n",
      "[Parallel(n_jobs=1)]: Done 120 out of 120 | elapsed:   37.6s finished\n"
     ]
    },
    {
     "name": "stdout",
     "output_type": "stream",
     "text": [
      "best score: 0.6686746987951807\n",
      "Fitting 10 folds for each of 12 candidates, totalling 120 fits\n"
     ]
    },
    {
     "name": "stderr",
     "output_type": "stream",
     "text": [
      "[Parallel(n_jobs=1)]: Using backend SequentialBackend with 1 concurrent workers.\n",
      "[Parallel(n_jobs=1)]: Done 120 out of 120 | elapsed:   34.3s finished\n"
     ]
    },
    {
     "name": "stdout",
     "output_type": "stream",
     "text": [
      "best score: 0.6686746987951807\n",
      "Fitting 10 folds for each of 12 candidates, totalling 120 fits\n"
     ]
    },
    {
     "name": "stderr",
     "output_type": "stream",
     "text": [
      "[Parallel(n_jobs=1)]: Using backend SequentialBackend with 1 concurrent workers.\n",
      "[Parallel(n_jobs=1)]: Done 120 out of 120 | elapsed:  1.0min finished\n"
     ]
    },
    {
     "name": "stdout",
     "output_type": "stream",
     "text": [
      "best score: 0.6686746987951807\n",
      "Fitting 10 folds for each of 12 candidates, totalling 120 fits\n"
     ]
    },
    {
     "name": "stderr",
     "output_type": "stream",
     "text": [
      "[Parallel(n_jobs=1)]: Using backend SequentialBackend with 1 concurrent workers.\n",
      "[Parallel(n_jobs=1)]: Done 120 out of 120 | elapsed:   36.3s finished\n"
     ]
    },
    {
     "name": "stdout",
     "output_type": "stream",
     "text": [
      "best score: 0.6686746987951807\n",
      "Split: 1\n",
      "Split: 2\n",
      "Split: 3\n",
      "Split: 4\n",
      "Split: 5\n",
      "Split: 6\n",
      "Split: 7\n",
      "Split: 8\n",
      "Split: 9\n",
      "Split: 10\n",
      "Training Testing Accuracy for n_games=9 team=10 : 61.02% (3.71%)\n",
      "(177, 1688)\n",
      "(177, 1)\n",
      "X_train shape: (159, 2815)\n",
      "X_test shape: (18, 2815)\n",
      "Fitting 10 folds for each of 12 candidates, totalling 120 fits\n"
     ]
    },
    {
     "name": "stderr",
     "output_type": "stream",
     "text": [
      "[Parallel(n_jobs=1)]: Using backend SequentialBackend with 1 concurrent workers.\n",
      "[Parallel(n_jobs=1)]: Done 120 out of 120 | elapsed:   40.6s finished\n"
     ]
    },
    {
     "name": "stdout",
     "output_type": "stream",
     "text": [
      "best score: 0.5786163522012578\n",
      "Fitting 10 folds for each of 12 candidates, totalling 120 fits\n"
     ]
    },
    {
     "name": "stderr",
     "output_type": "stream",
     "text": [
      "[Parallel(n_jobs=1)]: Using backend SequentialBackend with 1 concurrent workers.\n",
      "[Parallel(n_jobs=1)]: Done 120 out of 120 | elapsed:  1.3min finished\n"
     ]
    },
    {
     "name": "stdout",
     "output_type": "stream",
     "text": [
      "best score: 0.5849056603773585\n",
      "Fitting 10 folds for each of 12 candidates, totalling 120 fits\n"
     ]
    },
    {
     "name": "stderr",
     "output_type": "stream",
     "text": [
      "[Parallel(n_jobs=1)]: Using backend SequentialBackend with 1 concurrent workers.\n",
      "[Parallel(n_jobs=1)]: Done 120 out of 120 | elapsed:   45.8s finished\n"
     ]
    },
    {
     "name": "stdout",
     "output_type": "stream",
     "text": [
      "best score: 0.5849056603773585\n",
      "Fitting 10 folds for each of 12 candidates, totalling 120 fits\n"
     ]
    },
    {
     "name": "stderr",
     "output_type": "stream",
     "text": [
      "[Parallel(n_jobs=1)]: Using backend SequentialBackend with 1 concurrent workers.\n",
      "[Parallel(n_jobs=1)]: Done 120 out of 120 | elapsed:   34.7s finished\n"
     ]
    },
    {
     "name": "stdout",
     "output_type": "stream",
     "text": [
      "best score: 0.5849056603773585\n",
      "Fitting 10 folds for each of 12 candidates, totalling 120 fits\n"
     ]
    },
    {
     "name": "stderr",
     "output_type": "stream",
     "text": [
      "[Parallel(n_jobs=1)]: Using backend SequentialBackend with 1 concurrent workers.\n",
      "[Parallel(n_jobs=1)]: Done 120 out of 120 | elapsed:  5.4min finished\n"
     ]
    },
    {
     "name": "stdout",
     "output_type": "stream",
     "text": [
      "best score: 0.5849056603773585\n",
      "Split: 1\n",
      "Split: 2\n",
      "Split: 3\n",
      "Split: 4\n",
      "Split: 5\n",
      "Split: 6\n",
      "Split: 7\n",
      "Split: 8\n",
      "Split: 9\n",
      "Split: 10\n",
      "Training Testing Accuracy for n_games=9 team=11 : 51.80% (13.09%)\n",
      "(178, 1688)\n",
      "(178, 1)\n",
      "X_train shape: (160, 2799)\n",
      "X_test shape: (18, 2799)\n",
      "Fitting 10 folds for each of 12 candidates, totalling 120 fits\n"
     ]
    },
    {
     "name": "stderr",
     "output_type": "stream",
     "text": [
      "[Parallel(n_jobs=1)]: Using backend SequentialBackend with 1 concurrent workers.\n",
      "[Parallel(n_jobs=1)]: Done 120 out of 120 | elapsed:   39.6s finished\n"
     ]
    },
    {
     "name": "stdout",
     "output_type": "stream",
     "text": [
      "best score: 0.55\n",
      "Fitting 10 folds for each of 12 candidates, totalling 120 fits\n"
     ]
    },
    {
     "name": "stderr",
     "output_type": "stream",
     "text": [
      "[Parallel(n_jobs=1)]: Using backend SequentialBackend with 1 concurrent workers.\n",
      "[Parallel(n_jobs=1)]: Done 120 out of 120 | elapsed:   44.9s finished\n"
     ]
    },
    {
     "name": "stdout",
     "output_type": "stream",
     "text": [
      "best score: 0.55\n",
      "Fitting 10 folds for each of 12 candidates, totalling 120 fits\n"
     ]
    },
    {
     "name": "stderr",
     "output_type": "stream",
     "text": [
      "[Parallel(n_jobs=1)]: Using backend SequentialBackend with 1 concurrent workers.\n",
      "[Parallel(n_jobs=1)]: Done 120 out of 120 | elapsed:  1.4min finished\n"
     ]
    },
    {
     "name": "stdout",
     "output_type": "stream",
     "text": [
      "best score: 0.55\n",
      "Fitting 10 folds for each of 12 candidates, totalling 120 fits\n"
     ]
    },
    {
     "name": "stderr",
     "output_type": "stream",
     "text": [
      "[Parallel(n_jobs=1)]: Using backend SequentialBackend with 1 concurrent workers.\n",
      "[Parallel(n_jobs=1)]: Done 120 out of 120 | elapsed:   55.1s finished\n"
     ]
    },
    {
     "name": "stdout",
     "output_type": "stream",
     "text": [
      "best score: 0.55\n",
      "Fitting 10 folds for each of 12 candidates, totalling 120 fits\n"
     ]
    },
    {
     "name": "stderr",
     "output_type": "stream",
     "text": [
      "[Parallel(n_jobs=1)]: Using backend SequentialBackend with 1 concurrent workers.\n",
      "[Parallel(n_jobs=1)]: Done 120 out of 120 | elapsed:   34.7s finished\n"
     ]
    },
    {
     "name": "stdout",
     "output_type": "stream",
     "text": [
      "best score: 0.55\n",
      "Split: 1\n",
      "Split: 2\n",
      "Split: 3\n",
      "Split: 4\n",
      "Split: 5\n",
      "Split: 6\n",
      "Split: 7\n",
      "Split: 8\n",
      "Split: 9\n",
      "Split: 10\n",
      "Training Testing Accuracy for n_games=9 team=12 : 54.61% (8.67%)\n",
      "(179, 1688)\n",
      "(179, 1)\n",
      "X_train shape: (161, 2826)\n",
      "X_test shape: (18, 2826)\n",
      "Fitting 10 folds for each of 12 candidates, totalling 120 fits\n"
     ]
    },
    {
     "name": "stderr",
     "output_type": "stream",
     "text": [
      "[Parallel(n_jobs=1)]: Using backend SequentialBackend with 1 concurrent workers.\n",
      "[Parallel(n_jobs=1)]: Done 120 out of 120 | elapsed:   40.0s finished\n"
     ]
    },
    {
     "name": "stdout",
     "output_type": "stream",
     "text": [
      "best score: 0.577639751552795\n",
      "Fitting 10 folds for each of 12 candidates, totalling 120 fits\n"
     ]
    },
    {
     "name": "stderr",
     "output_type": "stream",
     "text": [
      "[Parallel(n_jobs=1)]: Using backend SequentialBackend with 1 concurrent workers.\n",
      "[Parallel(n_jobs=1)]: Done 120 out of 120 | elapsed:   37.7s finished\n"
     ]
    },
    {
     "name": "stdout",
     "output_type": "stream",
     "text": [
      "best score: 0.6211180124223602\n",
      "Fitting 10 folds for each of 12 candidates, totalling 120 fits\n"
     ]
    },
    {
     "name": "stderr",
     "output_type": "stream",
     "text": [
      "[Parallel(n_jobs=1)]: Using backend SequentialBackend with 1 concurrent workers.\n",
      "[Parallel(n_jobs=1)]: Done 120 out of 120 | elapsed:   38.3s finished\n"
     ]
    },
    {
     "name": "stdout",
     "output_type": "stream",
     "text": [
      "best score: 0.6211180124223602\n",
      "Fitting 10 folds for each of 12 candidates, totalling 120 fits\n"
     ]
    },
    {
     "name": "stderr",
     "output_type": "stream",
     "text": [
      "[Parallel(n_jobs=1)]: Using backend SequentialBackend with 1 concurrent workers.\n",
      "[Parallel(n_jobs=1)]: Done 120 out of 120 | elapsed:   26.4s finished\n"
     ]
    },
    {
     "name": "stdout",
     "output_type": "stream",
     "text": [
      "best score: 0.6211180124223602\n",
      "Fitting 10 folds for each of 12 candidates, totalling 120 fits\n"
     ]
    },
    {
     "name": "stderr",
     "output_type": "stream",
     "text": [
      "[Parallel(n_jobs=1)]: Using backend SequentialBackend with 1 concurrent workers.\n",
      "[Parallel(n_jobs=1)]: Done 120 out of 120 | elapsed:   56.7s finished\n"
     ]
    },
    {
     "name": "stdout",
     "output_type": "stream",
     "text": [
      "best score: 0.6211180124223602\n",
      "Split: 1\n",
      "Split: 2\n",
      "Split: 3\n",
      "Split: 4\n",
      "Split: 5\n",
      "Split: 6\n",
      "Split: 7\n",
      "Split: 8\n",
      "Split: 9\n",
      "Split: 10\n",
      "Training Testing Accuracy for n_games=9 team=13 : 60.29% (8.23%)\n",
      "(182, 1688)\n",
      "(182, 1)\n",
      "X_train shape: (163, 2801)\n",
      "X_test shape: (19, 2801)\n",
      "Fitting 10 folds for each of 12 candidates, totalling 120 fits\n"
     ]
    },
    {
     "name": "stderr",
     "output_type": "stream",
     "text": [
      "[Parallel(n_jobs=1)]: Using backend SequentialBackend with 1 concurrent workers.\n",
      "[Parallel(n_jobs=1)]: Done 120 out of 120 | elapsed:   40.7s finished\n"
     ]
    },
    {
     "name": "stdout",
     "output_type": "stream",
     "text": [
      "best score: 0.6380368098159509\n",
      "Fitting 10 folds for each of 12 candidates, totalling 120 fits\n"
     ]
    },
    {
     "name": "stderr",
     "output_type": "stream",
     "text": [
      "[Parallel(n_jobs=1)]: Using backend SequentialBackend with 1 concurrent workers.\n",
      "[Parallel(n_jobs=1)]: Done 120 out of 120 | elapsed:   30.1s finished\n"
     ]
    },
    {
     "name": "stdout",
     "output_type": "stream",
     "text": [
      "best score: 0.6380368098159509\n",
      "Fitting 10 folds for each of 12 candidates, totalling 120 fits\n"
     ]
    },
    {
     "name": "stderr",
     "output_type": "stream",
     "text": [
      "[Parallel(n_jobs=1)]: Using backend SequentialBackend with 1 concurrent workers.\n",
      "[Parallel(n_jobs=1)]: Done 120 out of 120 | elapsed:   51.6s finished\n"
     ]
    },
    {
     "name": "stdout",
     "output_type": "stream",
     "text": [
      "best score: 0.6380368098159509\n",
      "Fitting 10 folds for each of 12 candidates, totalling 120 fits\n"
     ]
    },
    {
     "name": "stderr",
     "output_type": "stream",
     "text": [
      "[Parallel(n_jobs=1)]: Using backend SequentialBackend with 1 concurrent workers.\n",
      "[Parallel(n_jobs=1)]: Done 120 out of 120 | elapsed:  1.1min finished\n"
     ]
    },
    {
     "name": "stdout",
     "output_type": "stream",
     "text": [
      "best score: 0.6380368098159509\n",
      "Fitting 10 folds for each of 12 candidates, totalling 120 fits\n"
     ]
    },
    {
     "name": "stderr",
     "output_type": "stream",
     "text": [
      "[Parallel(n_jobs=1)]: Using backend SequentialBackend with 1 concurrent workers.\n",
      "[Parallel(n_jobs=1)]: Done 120 out of 120 | elapsed:   32.5s finished\n"
     ]
    },
    {
     "name": "stdout",
     "output_type": "stream",
     "text": [
      "best score: 0.6380368098159509\n",
      "Split: 1\n",
      "Split: 2\n",
      "Split: 3\n",
      "Split: 4\n",
      "Split: 5\n",
      "Split: 6\n",
      "Split: 7\n",
      "Split: 8\n",
      "Split: 9\n",
      "Split: 10\n",
      "Training Testing Accuracy for n_games=9 team=14 : 63.71% (2.87%)\n",
      "(171, 1688)\n",
      "(171, 1)\n",
      "X_train shape: (153, 2797)\n",
      "X_test shape: (18, 2797)\n",
      "Fitting 10 folds for each of 12 candidates, totalling 120 fits\n"
     ]
    },
    {
     "name": "stderr",
     "output_type": "stream",
     "text": [
      "[Parallel(n_jobs=1)]: Using backend SequentialBackend with 1 concurrent workers.\n",
      "[Parallel(n_jobs=1)]: Done 120 out of 120 | elapsed:   39.2s finished\n"
     ]
    },
    {
     "name": "stdout",
     "output_type": "stream",
     "text": [
      "best score: 0.6013071895424836\n",
      "Fitting 10 folds for each of 12 candidates, totalling 120 fits\n"
     ]
    },
    {
     "name": "stderr",
     "output_type": "stream",
     "text": [
      "[Parallel(n_jobs=1)]: Using backend SequentialBackend with 1 concurrent workers.\n",
      "[Parallel(n_jobs=1)]: Done 120 out of 120 | elapsed:   32.6s finished\n"
     ]
    },
    {
     "name": "stdout",
     "output_type": "stream",
     "text": [
      "best score: 0.6078431372549019\n",
      "Fitting 10 folds for each of 12 candidates, totalling 120 fits\n"
     ]
    },
    {
     "name": "stderr",
     "output_type": "stream",
     "text": [
      "[Parallel(n_jobs=1)]: Using backend SequentialBackend with 1 concurrent workers.\n",
      "[Parallel(n_jobs=1)]: Done 120 out of 120 | elapsed:   29.6s finished\n"
     ]
    },
    {
     "name": "stdout",
     "output_type": "stream",
     "text": [
      "best score: 0.6078431372549019\n",
      "Fitting 10 folds for each of 12 candidates, totalling 120 fits\n"
     ]
    },
    {
     "name": "stderr",
     "output_type": "stream",
     "text": [
      "[Parallel(n_jobs=1)]: Using backend SequentialBackend with 1 concurrent workers.\n",
      "[Parallel(n_jobs=1)]: Done 120 out of 120 | elapsed:   32.9s finished\n"
     ]
    },
    {
     "name": "stdout",
     "output_type": "stream",
     "text": [
      "best score: 0.6078431372549019\n",
      "Fitting 10 folds for each of 12 candidates, totalling 120 fits\n"
     ]
    },
    {
     "name": "stderr",
     "output_type": "stream",
     "text": [
      "[Parallel(n_jobs=1)]: Using backend SequentialBackend with 1 concurrent workers.\n",
      "[Parallel(n_jobs=1)]: Done 120 out of 120 | elapsed:   32.2s finished\n"
     ]
    },
    {
     "name": "stdout",
     "output_type": "stream",
     "text": [
      "best score: 0.6078431372549019\n",
      "Split: 1\n",
      "Split: 2\n",
      "Split: 3\n",
      "Split: 4\n",
      "Split: 5\n",
      "Split: 6\n",
      "Split: 7\n",
      "Split: 8\n",
      "Split: 9\n",
      "Split: 10\n",
      "Training Testing Accuracy for n_games=9 team=15 : 59.64% (3.20%)\n",
      "(187, 1688)\n",
      "(187, 1)\n",
      "X_train shape: (168, 2808)\n",
      "X_test shape: (19, 2808)\n",
      "Fitting 10 folds for each of 12 candidates, totalling 120 fits\n"
     ]
    },
    {
     "name": "stderr",
     "output_type": "stream",
     "text": [
      "[Parallel(n_jobs=1)]: Using backend SequentialBackend with 1 concurrent workers.\n",
      "[Parallel(n_jobs=1)]: Done 120 out of 120 | elapsed:   41.1s finished\n"
     ]
    },
    {
     "name": "stdout",
     "output_type": "stream",
     "text": [
      "best score: 0.6369047619047619\n",
      "Fitting 10 folds for each of 12 candidates, totalling 120 fits\n"
     ]
    },
    {
     "name": "stderr",
     "output_type": "stream",
     "text": [
      "[Parallel(n_jobs=1)]: Using backend SequentialBackend with 1 concurrent workers.\n",
      "[Parallel(n_jobs=1)]: Done 120 out of 120 | elapsed:   44.1s finished\n"
     ]
    },
    {
     "name": "stdout",
     "output_type": "stream",
     "text": [
      "best score: 0.6369047619047619\n",
      "Fitting 10 folds for each of 12 candidates, totalling 120 fits\n"
     ]
    },
    {
     "name": "stderr",
     "output_type": "stream",
     "text": [
      "[Parallel(n_jobs=1)]: Using backend SequentialBackend with 1 concurrent workers.\n",
      "[Parallel(n_jobs=1)]: Done 120 out of 120 | elapsed:  1.1min finished\n"
     ]
    },
    {
     "name": "stdout",
     "output_type": "stream",
     "text": [
      "best score: 0.6369047619047619\n",
      "Fitting 10 folds for each of 12 candidates, totalling 120 fits\n"
     ]
    },
    {
     "name": "stderr",
     "output_type": "stream",
     "text": [
      "[Parallel(n_jobs=1)]: Using backend SequentialBackend with 1 concurrent workers.\n",
      "[Parallel(n_jobs=1)]: Done 120 out of 120 | elapsed:   39.8s finished\n"
     ]
    },
    {
     "name": "stdout",
     "output_type": "stream",
     "text": [
      "best score: 0.6369047619047619\n",
      "Fitting 10 folds for each of 12 candidates, totalling 120 fits\n"
     ]
    },
    {
     "name": "stderr",
     "output_type": "stream",
     "text": [
      "[Parallel(n_jobs=1)]: Using backend SequentialBackend with 1 concurrent workers.\n",
      "[Parallel(n_jobs=1)]: Done 120 out of 120 | elapsed:   29.9s finished\n"
     ]
    },
    {
     "name": "stdout",
     "output_type": "stream",
     "text": [
      "best score: 0.6428571428571429\n",
      "Split: 1\n",
      "Split: 2\n",
      "Split: 3\n",
      "Split: 4\n",
      "Split: 5\n",
      "Split: 6\n",
      "Split: 7\n",
      "Split: 8\n",
      "Split: 9\n",
      "Split: 10\n",
      "Training Testing Accuracy for n_games=9 team=16 : 64.68% (3.77%)\n",
      "(182, 1688)\n",
      "(182, 1)\n",
      "X_train shape: (163, 2810)\n",
      "X_test shape: (19, 2810)\n",
      "Fitting 10 folds for each of 12 candidates, totalling 120 fits\n"
     ]
    },
    {
     "name": "stderr",
     "output_type": "stream",
     "text": [
      "[Parallel(n_jobs=1)]: Using backend SequentialBackend with 1 concurrent workers.\n",
      "[Parallel(n_jobs=1)]: Done 120 out of 120 | elapsed:   42.4s finished\n"
     ]
    },
    {
     "name": "stdout",
     "output_type": "stream",
     "text": [
      "best score: 0.588957055214724\n",
      "Fitting 10 folds for each of 12 candidates, totalling 120 fits\n"
     ]
    },
    {
     "name": "stderr",
     "output_type": "stream",
     "text": [
      "[Parallel(n_jobs=1)]: Using backend SequentialBackend with 1 concurrent workers.\n",
      "[Parallel(n_jobs=1)]: Done 120 out of 120 | elapsed:   50.5s finished\n"
     ]
    },
    {
     "name": "stdout",
     "output_type": "stream",
     "text": [
      "best score: 0.5950920245398773\n",
      "Fitting 10 folds for each of 12 candidates, totalling 120 fits\n"
     ]
    },
    {
     "name": "stderr",
     "output_type": "stream",
     "text": [
      "[Parallel(n_jobs=1)]: Using backend SequentialBackend with 1 concurrent workers.\n",
      "[Parallel(n_jobs=1)]: Done 120 out of 120 | elapsed:   37.5s finished\n"
     ]
    },
    {
     "name": "stdout",
     "output_type": "stream",
     "text": [
      "best score: 0.5950920245398773\n",
      "Fitting 10 folds for each of 12 candidates, totalling 120 fits\n"
     ]
    },
    {
     "name": "stderr",
     "output_type": "stream",
     "text": [
      "[Parallel(n_jobs=1)]: Using backend SequentialBackend with 1 concurrent workers.\n",
      "[Parallel(n_jobs=1)]: Done 120 out of 120 | elapsed:   30.6s finished\n"
     ]
    },
    {
     "name": "stdout",
     "output_type": "stream",
     "text": [
      "best score: 0.5950920245398773\n",
      "Fitting 10 folds for each of 12 candidates, totalling 120 fits\n"
     ]
    },
    {
     "name": "stderr",
     "output_type": "stream",
     "text": [
      "[Parallel(n_jobs=1)]: Using backend SequentialBackend with 1 concurrent workers.\n",
      "[Parallel(n_jobs=1)]: Done 120 out of 120 | elapsed:   31.2s finished\n"
     ]
    },
    {
     "name": "stdout",
     "output_type": "stream",
     "text": [
      "best score: 0.6073619631901841\n",
      "Split: 1\n",
      "Split: 2\n",
      "Split: 3\n",
      "Split: 4\n",
      "Split: 5\n",
      "Split: 6\n",
      "Split: 7\n",
      "Split: 8\n",
      "Split: 9\n",
      "Split: 10\n",
      "Training Testing Accuracy for n_games=9 team=17 : 59.88% (10.54%)\n",
      "(181, 1688)\n",
      "(181, 1)\n",
      "X_train shape: (162, 2826)\n",
      "X_test shape: (19, 2826)\n",
      "Fitting 10 folds for each of 12 candidates, totalling 120 fits\n"
     ]
    },
    {
     "name": "stderr",
     "output_type": "stream",
     "text": [
      "[Parallel(n_jobs=1)]: Using backend SequentialBackend with 1 concurrent workers.\n",
      "[Parallel(n_jobs=1)]: Done 120 out of 120 | elapsed:   40.4s finished\n"
     ]
    },
    {
     "name": "stdout",
     "output_type": "stream",
     "text": [
      "best score: 0.5740740740740741\n",
      "Fitting 10 folds for each of 12 candidates, totalling 120 fits\n"
     ]
    },
    {
     "name": "stderr",
     "output_type": "stream",
     "text": [
      "[Parallel(n_jobs=1)]: Using backend SequentialBackend with 1 concurrent workers.\n",
      "[Parallel(n_jobs=1)]: Done 120 out of 120 | elapsed:   41.5s finished\n"
     ]
    },
    {
     "name": "stdout",
     "output_type": "stream",
     "text": [
      "best score: 0.6172839506172839\n",
      "Fitting 10 folds for each of 12 candidates, totalling 120 fits\n"
     ]
    },
    {
     "name": "stderr",
     "output_type": "stream",
     "text": [
      "[Parallel(n_jobs=1)]: Using backend SequentialBackend with 1 concurrent workers.\n",
      "[Parallel(n_jobs=1)]: Done 120 out of 120 | elapsed:  1.0min finished\n"
     ]
    },
    {
     "name": "stdout",
     "output_type": "stream",
     "text": [
      "best score: 0.6172839506172839\n",
      "Fitting 10 folds for each of 12 candidates, totalling 120 fits\n"
     ]
    },
    {
     "name": "stderr",
     "output_type": "stream",
     "text": [
      "[Parallel(n_jobs=1)]: Using backend SequentialBackend with 1 concurrent workers.\n",
      "[Parallel(n_jobs=1)]: Done 120 out of 120 | elapsed:   35.9s finished\n"
     ]
    },
    {
     "name": "stdout",
     "output_type": "stream",
     "text": [
      "best score: 0.6172839506172839\n",
      "Fitting 10 folds for each of 12 candidates, totalling 120 fits\n"
     ]
    },
    {
     "name": "stderr",
     "output_type": "stream",
     "text": [
      "[Parallel(n_jobs=1)]: Using backend SequentialBackend with 1 concurrent workers.\n",
      "[Parallel(n_jobs=1)]: Done 120 out of 120 | elapsed:   53.5s finished\n"
     ]
    },
    {
     "name": "stdout",
     "output_type": "stream",
     "text": [
      "best score: 0.6172839506172839\n",
      "Split: 1\n",
      "Split: 2\n",
      "Split: 3\n",
      "Split: 4\n",
      "Split: 5\n",
      "Split: 6\n",
      "Split: 7\n",
      "Split: 8\n",
      "Split: 9\n",
      "Split: 10\n",
      "Training Testing Accuracy for n_games=9 team=18 : 54.77% (10.92%)\n",
      "Accuracy for Team Models for n_games= 9 : 60.75% (5.98%)\n",
      "(176, 1874)\n",
      "(176, 1)\n",
      "X_train shape: (158, 3119)\n",
      "X_test shape: (18, 3119)\n",
      "Fitting 10 folds for each of 12 candidates, totalling 120 fits\n"
     ]
    },
    {
     "name": "stderr",
     "output_type": "stream",
     "text": [
      "[Parallel(n_jobs=1)]: Using backend SequentialBackend with 1 concurrent workers.\n",
      "[Parallel(n_jobs=1)]: Done 120 out of 120 | elapsed:   45.9s finished\n"
     ]
    },
    {
     "name": "stdout",
     "output_type": "stream",
     "text": [
      "best score: 0.5632911392405063\n",
      "Fitting 10 folds for each of 12 candidates, totalling 120 fits\n"
     ]
    },
    {
     "name": "stderr",
     "output_type": "stream",
     "text": [
      "[Parallel(n_jobs=1)]: Using backend SequentialBackend with 1 concurrent workers.\n",
      "[Parallel(n_jobs=1)]: Done 120 out of 120 | elapsed:   40.7s finished\n"
     ]
    },
    {
     "name": "stdout",
     "output_type": "stream",
     "text": [
      "best score: 0.5632911392405063\n",
      "Fitting 10 folds for each of 12 candidates, totalling 120 fits\n"
     ]
    },
    {
     "name": "stderr",
     "output_type": "stream",
     "text": [
      "[Parallel(n_jobs=1)]: Using backend SequentialBackend with 1 concurrent workers.\n",
      "[Parallel(n_jobs=1)]: Done 120 out of 120 | elapsed:   49.9s finished\n"
     ]
    },
    {
     "name": "stdout",
     "output_type": "stream",
     "text": [
      "best score: 0.5759493670886076\n",
      "Fitting 10 folds for each of 12 candidates, totalling 120 fits\n"
     ]
    },
    {
     "name": "stderr",
     "output_type": "stream",
     "text": [
      "[Parallel(n_jobs=1)]: Using backend SequentialBackend with 1 concurrent workers.\n",
      "[Parallel(n_jobs=1)]: Done 120 out of 120 | elapsed:  1.2min finished\n"
     ]
    },
    {
     "name": "stdout",
     "output_type": "stream",
     "text": [
      "best score: 0.6139240506329114\n",
      "Fitting 10 folds for each of 12 candidates, totalling 120 fits\n"
     ]
    },
    {
     "name": "stderr",
     "output_type": "stream",
     "text": [
      "[Parallel(n_jobs=1)]: Using backend SequentialBackend with 1 concurrent workers.\n",
      "[Parallel(n_jobs=1)]: Done 120 out of 120 | elapsed:   58.4s finished\n"
     ]
    },
    {
     "name": "stdout",
     "output_type": "stream",
     "text": [
      "best score: 0.6139240506329114\n",
      "Split: 1\n",
      "Split: 2\n",
      "Split: 3\n",
      "Split: 4\n",
      "Split: 5\n",
      "Split: 6\n",
      "Split: 7\n",
      "Split: 8\n",
      "Split: 9\n",
      "Split: 10\n",
      "Training Testing Accuracy for n_games=10 team=1 : 55.78% (11.35%)\n",
      "(174, 1874)\n",
      "(174, 1)\n",
      "X_train shape: (156, 3092)\n",
      "X_test shape: (18, 3092)\n",
      "Fitting 10 folds for each of 12 candidates, totalling 120 fits\n"
     ]
    },
    {
     "name": "stderr",
     "output_type": "stream",
     "text": [
      "[Parallel(n_jobs=1)]: Using backend SequentialBackend with 1 concurrent workers.\n",
      "[Parallel(n_jobs=1)]: Done 120 out of 120 | elapsed:   44.7s finished\n"
     ]
    },
    {
     "name": "stdout",
     "output_type": "stream",
     "text": [
      "best score: 0.7051282051282052\n",
      "Fitting 10 folds for each of 12 candidates, totalling 120 fits\n"
     ]
    },
    {
     "name": "stderr",
     "output_type": "stream",
     "text": [
      "[Parallel(n_jobs=1)]: Using backend SequentialBackend with 1 concurrent workers.\n",
      "[Parallel(n_jobs=1)]: Done 120 out of 120 | elapsed:   48.2s finished\n"
     ]
    },
    {
     "name": "stdout",
     "output_type": "stream",
     "text": [
      "best score: 0.7051282051282052\n",
      "Fitting 10 folds for each of 12 candidates, totalling 120 fits\n"
     ]
    },
    {
     "name": "stderr",
     "output_type": "stream",
     "text": [
      "[Parallel(n_jobs=1)]: Using backend SequentialBackend with 1 concurrent workers.\n",
      "[Parallel(n_jobs=1)]: Done 120 out of 120 | elapsed:   51.1s finished\n"
     ]
    },
    {
     "name": "stdout",
     "output_type": "stream",
     "text": [
      "best score: 0.7051282051282052\n",
      "Fitting 10 folds for each of 12 candidates, totalling 120 fits\n"
     ]
    },
    {
     "name": "stderr",
     "output_type": "stream",
     "text": [
      "[Parallel(n_jobs=1)]: Using backend SequentialBackend with 1 concurrent workers.\n",
      "[Parallel(n_jobs=1)]: Done 120 out of 120 | elapsed:  1.4min finished\n"
     ]
    },
    {
     "name": "stdout",
     "output_type": "stream",
     "text": [
      "best score: 0.7051282051282052\n",
      "Fitting 10 folds for each of 12 candidates, totalling 120 fits\n"
     ]
    },
    {
     "name": "stderr",
     "output_type": "stream",
     "text": [
      "[Parallel(n_jobs=1)]: Using backend SequentialBackend with 1 concurrent workers.\n",
      "[Parallel(n_jobs=1)]: Done 120 out of 120 | elapsed:   43.2s finished\n"
     ]
    },
    {
     "name": "stdout",
     "output_type": "stream",
     "text": [
      "best score: 0.7051282051282052\n",
      "Split: 1\n",
      "Split: 2\n",
      "Split: 3\n",
      "Split: 4\n",
      "Split: 5\n",
      "Split: 6\n",
      "Split: 7\n",
      "Split: 8\n",
      "Split: 9\n",
      "Split: 10\n",
      "Training Testing Accuracy for n_games=10 team=2 : 59.15% (9.00%)\n",
      "(172, 1874)\n",
      "(172, 1)\n",
      "X_train shape: (154, 3086)\n",
      "X_test shape: (18, 3086)\n",
      "Fitting 10 folds for each of 12 candidates, totalling 120 fits\n"
     ]
    },
    {
     "name": "stderr",
     "output_type": "stream",
     "text": [
      "[Parallel(n_jobs=1)]: Using backend SequentialBackend with 1 concurrent workers.\n",
      "[Parallel(n_jobs=1)]: Done 120 out of 120 | elapsed:   43.5s finished\n"
     ]
    },
    {
     "name": "stdout",
     "output_type": "stream",
     "text": [
      "best score: 0.7142857142857143\n",
      "Fitting 10 folds for each of 12 candidates, totalling 120 fits\n"
     ]
    },
    {
     "name": "stderr",
     "output_type": "stream",
     "text": [
      "[Parallel(n_jobs=1)]: Using backend SequentialBackend with 1 concurrent workers.\n",
      "[Parallel(n_jobs=1)]: Done 120 out of 120 | elapsed:   48.4s finished\n"
     ]
    },
    {
     "name": "stdout",
     "output_type": "stream",
     "text": [
      "best score: 0.7142857142857143\n",
      "Fitting 10 folds for each of 12 candidates, totalling 120 fits\n"
     ]
    },
    {
     "name": "stderr",
     "output_type": "stream",
     "text": [
      "[Parallel(n_jobs=1)]: Using backend SequentialBackend with 1 concurrent workers.\n",
      "[Parallel(n_jobs=1)]: Done 120 out of 120 | elapsed:   58.4s finished\n"
     ]
    },
    {
     "name": "stdout",
     "output_type": "stream",
     "text": [
      "best score: 0.7142857142857143\n",
      "Fitting 10 folds for each of 12 candidates, totalling 120 fits\n"
     ]
    },
    {
     "name": "stderr",
     "output_type": "stream",
     "text": [
      "[Parallel(n_jobs=1)]: Using backend SequentialBackend with 1 concurrent workers.\n",
      "[Parallel(n_jobs=1)]: Done 120 out of 120 | elapsed:   39.8s finished\n"
     ]
    },
    {
     "name": "stdout",
     "output_type": "stream",
     "text": [
      "best score: 0.7142857142857143\n",
      "Fitting 10 folds for each of 12 candidates, totalling 120 fits\n"
     ]
    },
    {
     "name": "stderr",
     "output_type": "stream",
     "text": [
      "[Parallel(n_jobs=1)]: Using backend SequentialBackend with 1 concurrent workers.\n",
      "[Parallel(n_jobs=1)]: Done 120 out of 120 | elapsed:   34.7s finished\n"
     ]
    },
    {
     "name": "stdout",
     "output_type": "stream",
     "text": [
      "best score: 0.7142857142857143\n",
      "Split: 1\n",
      "Split: 2\n",
      "Split: 3\n",
      "Split: 4\n",
      "Split: 5\n",
      "Split: 6\n",
      "Split: 7\n",
      "Split: 8\n",
      "Split: 9\n",
      "Split: 10\n",
      "Training Testing Accuracy for n_games=10 team=3 : 70.36% (1.32%)\n",
      "(177, 1874)\n",
      "(177, 1)\n",
      "X_train shape: (159, 3080)\n",
      "X_test shape: (18, 3080)\n",
      "Fitting 10 folds for each of 12 candidates, totalling 120 fits\n"
     ]
    },
    {
     "name": "stderr",
     "output_type": "stream",
     "text": [
      "[Parallel(n_jobs=1)]: Using backend SequentialBackend with 1 concurrent workers.\n",
      "[Parallel(n_jobs=1)]: Done 120 out of 120 | elapsed:   44.8s finished\n"
     ]
    },
    {
     "name": "stdout",
     "output_type": "stream",
     "text": [
      "best score: 0.5471698113207547\n",
      "Fitting 10 folds for each of 12 candidates, totalling 120 fits\n"
     ]
    },
    {
     "name": "stderr",
     "output_type": "stream",
     "text": [
      "[Parallel(n_jobs=1)]: Using backend SequentialBackend with 1 concurrent workers.\n",
      "[Parallel(n_jobs=1)]: Done 120 out of 120 | elapsed:   43.2s finished\n"
     ]
    },
    {
     "name": "stdout",
     "output_type": "stream",
     "text": [
      "best score: 0.5723270440251572\n",
      "Fitting 10 folds for each of 12 candidates, totalling 120 fits\n"
     ]
    },
    {
     "name": "stderr",
     "output_type": "stream",
     "text": [
      "[Parallel(n_jobs=1)]: Using backend SequentialBackend with 1 concurrent workers.\n",
      "[Parallel(n_jobs=1)]: Done 120 out of 120 | elapsed:   33.5s finished\n"
     ]
    },
    {
     "name": "stdout",
     "output_type": "stream",
     "text": [
      "best score: 0.5723270440251572\n",
      "Fitting 10 folds for each of 12 candidates, totalling 120 fits\n"
     ]
    },
    {
     "name": "stderr",
     "output_type": "stream",
     "text": [
      "[Parallel(n_jobs=1)]: Using backend SequentialBackend with 1 concurrent workers.\n",
      "[Parallel(n_jobs=1)]: Done 120 out of 120 | elapsed:  1.2min finished\n"
     ]
    },
    {
     "name": "stdout",
     "output_type": "stream",
     "text": [
      "best score: 0.5723270440251572\n",
      "Fitting 10 folds for each of 12 candidates, totalling 120 fits\n"
     ]
    },
    {
     "name": "stderr",
     "output_type": "stream",
     "text": [
      "[Parallel(n_jobs=1)]: Using backend SequentialBackend with 1 concurrent workers.\n",
      "[Parallel(n_jobs=1)]: Done 120 out of 120 | elapsed:  2.1min finished\n"
     ]
    },
    {
     "name": "stdout",
     "output_type": "stream",
     "text": [
      "best score: 0.5723270440251572\n",
      "Split: 1\n",
      "Split: 2\n",
      "Split: 3\n",
      "Split: 4\n",
      "Split: 5\n",
      "Split: 6\n",
      "Split: 7\n",
      "Split: 8\n",
      "Split: 9\n",
      "Split: 10\n",
      "Training Testing Accuracy for n_games=10 team=4 : 53.01% (12.81%)\n",
      "(174, 1874)\n",
      "(174, 1)\n",
      "X_train shape: (156, 3058)\n",
      "X_test shape: (18, 3058)\n",
      "Fitting 10 folds for each of 12 candidates, totalling 120 fits\n"
     ]
    },
    {
     "name": "stderr",
     "output_type": "stream",
     "text": [
      "[Parallel(n_jobs=1)]: Using backend SequentialBackend with 1 concurrent workers.\n",
      "[Parallel(n_jobs=1)]: Done 120 out of 120 | elapsed:   44.4s finished\n"
     ]
    },
    {
     "name": "stdout",
     "output_type": "stream",
     "text": [
      "best score: 0.5961538461538461\n",
      "Fitting 10 folds for each of 12 candidates, totalling 120 fits\n"
     ]
    },
    {
     "name": "stderr",
     "output_type": "stream",
     "text": [
      "[Parallel(n_jobs=1)]: Using backend SequentialBackend with 1 concurrent workers.\n",
      "[Parallel(n_jobs=1)]: Done 120 out of 120 | elapsed:   38.9s finished\n"
     ]
    },
    {
     "name": "stdout",
     "output_type": "stream",
     "text": [
      "best score: 0.5961538461538461\n",
      "Fitting 10 folds for each of 12 candidates, totalling 120 fits\n"
     ]
    },
    {
     "name": "stderr",
     "output_type": "stream",
     "text": [
      "[Parallel(n_jobs=1)]: Using backend SequentialBackend with 1 concurrent workers.\n",
      "[Parallel(n_jobs=1)]: Done 120 out of 120 | elapsed:   44.8s finished\n"
     ]
    },
    {
     "name": "stdout",
     "output_type": "stream",
     "text": [
      "best score: 0.5961538461538461\n",
      "Fitting 10 folds for each of 12 candidates, totalling 120 fits\n"
     ]
    },
    {
     "name": "stderr",
     "output_type": "stream",
     "text": [
      "[Parallel(n_jobs=1)]: Using backend SequentialBackend with 1 concurrent workers.\n",
      "[Parallel(n_jobs=1)]: Done 120 out of 120 | elapsed:   53.3s finished\n"
     ]
    },
    {
     "name": "stdout",
     "output_type": "stream",
     "text": [
      "best score: 0.5961538461538461\n",
      "Fitting 10 folds for each of 12 candidates, totalling 120 fits\n"
     ]
    },
    {
     "name": "stderr",
     "output_type": "stream",
     "text": [
      "[Parallel(n_jobs=1)]: Using backend SequentialBackend with 1 concurrent workers.\n",
      "[Parallel(n_jobs=1)]: Done 120 out of 120 | elapsed:   44.4s finished\n"
     ]
    },
    {
     "name": "stdout",
     "output_type": "stream",
     "text": [
      "best score: 0.5961538461538461\n",
      "Split: 1\n",
      "Split: 2\n",
      "Split: 3\n",
      "Split: 4\n",
      "Split: 5\n",
      "Split: 6\n",
      "Split: 7\n",
      "Split: 8\n",
      "Split: 9\n",
      "Split: 10\n",
      "Training Testing Accuracy for n_games=10 team=5 : 56.86% (8.94%)\n",
      "(177, 1874)\n",
      "(177, 1)\n",
      "X_train shape: (159, 3103)\n",
      "X_test shape: (18, 3103)\n",
      "Fitting 10 folds for each of 12 candidates, totalling 120 fits\n"
     ]
    },
    {
     "name": "stderr",
     "output_type": "stream",
     "text": [
      "[Parallel(n_jobs=1)]: Using backend SequentialBackend with 1 concurrent workers.\n",
      "[Parallel(n_jobs=1)]: Done 120 out of 120 | elapsed:   44.8s finished\n"
     ]
    },
    {
     "name": "stdout",
     "output_type": "stream",
     "text": [
      "best score: 0.559748427672956\n",
      "Fitting 10 folds for each of 12 candidates, totalling 120 fits\n"
     ]
    },
    {
     "name": "stderr",
     "output_type": "stream",
     "text": [
      "[Parallel(n_jobs=1)]: Using backend SequentialBackend with 1 concurrent workers.\n",
      "[Parallel(n_jobs=1)]: Done 120 out of 120 | elapsed:   32.2s finished\n"
     ]
    },
    {
     "name": "stdout",
     "output_type": "stream",
     "text": [
      "best score: 0.5660377358490566\n",
      "Fitting 10 folds for each of 12 candidates, totalling 120 fits\n"
     ]
    },
    {
     "name": "stderr",
     "output_type": "stream",
     "text": [
      "[Parallel(n_jobs=1)]: Using backend SequentialBackend with 1 concurrent workers.\n",
      "[Parallel(n_jobs=1)]: Done 120 out of 120 | elapsed:   50.4s finished\n"
     ]
    },
    {
     "name": "stdout",
     "output_type": "stream",
     "text": [
      "best score: 0.5660377358490566\n",
      "Fitting 10 folds for each of 12 candidates, totalling 120 fits\n"
     ]
    },
    {
     "name": "stderr",
     "output_type": "stream",
     "text": [
      "[Parallel(n_jobs=1)]: Using backend SequentialBackend with 1 concurrent workers.\n",
      "[Parallel(n_jobs=1)]: Done 120 out of 120 | elapsed:   35.3s finished\n"
     ]
    },
    {
     "name": "stdout",
     "output_type": "stream",
     "text": [
      "best score: 0.5660377358490566\n",
      "Fitting 10 folds for each of 12 candidates, totalling 120 fits\n"
     ]
    },
    {
     "name": "stderr",
     "output_type": "stream",
     "text": [
      "[Parallel(n_jobs=1)]: Using backend SequentialBackend with 1 concurrent workers.\n",
      "[Parallel(n_jobs=1)]: Done 120 out of 120 | elapsed:   42.9s finished\n"
     ]
    },
    {
     "name": "stdout",
     "output_type": "stream",
     "text": [
      "best score: 0.5723270440251572\n",
      "Split: 1\n",
      "Split: 2\n",
      "Split: 3\n",
      "Split: 4\n",
      "Split: 5\n",
      "Split: 6\n",
      "Split: 7\n",
      "Split: 8\n",
      "Split: 9\n",
      "Split: 10\n",
      "Training Testing Accuracy for n_games=10 team=6 : 44.67% (10.14%)\n",
      "(186, 1874)\n",
      "(186, 1)\n",
      "X_train shape: (167, 3093)\n",
      "X_test shape: (19, 3093)\n",
      "Fitting 10 folds for each of 12 candidates, totalling 120 fits\n"
     ]
    },
    {
     "name": "stderr",
     "output_type": "stream",
     "text": [
      "[Parallel(n_jobs=1)]: Using backend SequentialBackend with 1 concurrent workers.\n",
      "[Parallel(n_jobs=1)]: Done 120 out of 120 | elapsed:   45.4s finished\n"
     ]
    },
    {
     "name": "stdout",
     "output_type": "stream",
     "text": [
      "best score: 0.6586826347305389\n",
      "Fitting 10 folds for each of 12 candidates, totalling 120 fits\n"
     ]
    },
    {
     "name": "stderr",
     "output_type": "stream",
     "text": [
      "[Parallel(n_jobs=1)]: Using backend SequentialBackend with 1 concurrent workers.\n",
      "[Parallel(n_jobs=1)]: Done 120 out of 120 | elapsed:   38.9s finished\n"
     ]
    },
    {
     "name": "stdout",
     "output_type": "stream",
     "text": [
      "best score: 0.6826347305389222\n",
      "Fitting 10 folds for each of 12 candidates, totalling 120 fits\n"
     ]
    },
    {
     "name": "stderr",
     "output_type": "stream",
     "text": [
      "[Parallel(n_jobs=1)]: Using backend SequentialBackend with 1 concurrent workers.\n",
      "[Parallel(n_jobs=1)]: Done 120 out of 120 | elapsed:  1.0min finished\n"
     ]
    },
    {
     "name": "stdout",
     "output_type": "stream",
     "text": [
      "best score: 0.6826347305389222\n",
      "Fitting 10 folds for each of 12 candidates, totalling 120 fits\n"
     ]
    },
    {
     "name": "stderr",
     "output_type": "stream",
     "text": [
      "[Parallel(n_jobs=1)]: Using backend SequentialBackend with 1 concurrent workers.\n",
      "[Parallel(n_jobs=1)]: Done 120 out of 120 | elapsed:   34.5s finished\n"
     ]
    },
    {
     "name": "stdout",
     "output_type": "stream",
     "text": [
      "best score: 0.6826347305389222\n",
      "Fitting 10 folds for each of 12 candidates, totalling 120 fits\n"
     ]
    },
    {
     "name": "stderr",
     "output_type": "stream",
     "text": [
      "[Parallel(n_jobs=1)]: Using backend SequentialBackend with 1 concurrent workers.\n",
      "[Parallel(n_jobs=1)]: Done 120 out of 120 | elapsed:   35.4s finished\n"
     ]
    },
    {
     "name": "stdout",
     "output_type": "stream",
     "text": [
      "best score: 0.6826347305389222\n",
      "Split: 1\n",
      "Split: 2\n",
      "Split: 3\n",
      "Split: 4\n",
      "Split: 5\n",
      "Split: 6\n",
      "Split: 7\n",
      "Split: 8\n",
      "Split: 9\n",
      "Split: 10\n",
      "Training Testing Accuracy for n_games=10 team=7 : 63.95% (6.52%)\n",
      "(170, 1874)\n",
      "(170, 1)\n",
      "X_train shape: (153, 3102)\n",
      "X_test shape: (17, 3102)\n",
      "Fitting 10 folds for each of 12 candidates, totalling 120 fits\n"
     ]
    },
    {
     "name": "stderr",
     "output_type": "stream",
     "text": [
      "[Parallel(n_jobs=1)]: Using backend SequentialBackend with 1 concurrent workers.\n",
      "[Parallel(n_jobs=1)]: Done 120 out of 120 | elapsed:   42.7s finished\n"
     ]
    },
    {
     "name": "stdout",
     "output_type": "stream",
     "text": [
      "best score: 0.7450980392156863\n",
      "Fitting 10 folds for each of 12 candidates, totalling 120 fits\n"
     ]
    },
    {
     "name": "stderr",
     "output_type": "stream",
     "text": [
      "[Parallel(n_jobs=1)]: Using backend SequentialBackend with 1 concurrent workers.\n",
      "[Parallel(n_jobs=1)]: Done 120 out of 120 | elapsed:  1.2min finished\n"
     ]
    },
    {
     "name": "stdout",
     "output_type": "stream",
     "text": [
      "best score: 0.7450980392156863\n",
      "Fitting 10 folds for each of 12 candidates, totalling 120 fits\n"
     ]
    },
    {
     "name": "stderr",
     "output_type": "stream",
     "text": [
      "[Parallel(n_jobs=1)]: Using backend SequentialBackend with 1 concurrent workers.\n",
      "[Parallel(n_jobs=1)]: Done 120 out of 120 | elapsed:  1.1min finished\n"
     ]
    },
    {
     "name": "stdout",
     "output_type": "stream",
     "text": [
      "best score: 0.7450980392156863\n",
      "Fitting 10 folds for each of 12 candidates, totalling 120 fits\n"
     ]
    },
    {
     "name": "stderr",
     "output_type": "stream",
     "text": [
      "[Parallel(n_jobs=1)]: Using backend SequentialBackend with 1 concurrent workers.\n",
      "[Parallel(n_jobs=1)]: Done 120 out of 120 | elapsed:   35.8s finished\n"
     ]
    },
    {
     "name": "stdout",
     "output_type": "stream",
     "text": [
      "best score: 0.7450980392156863\n",
      "Fitting 10 folds for each of 12 candidates, totalling 120 fits\n"
     ]
    },
    {
     "name": "stderr",
     "output_type": "stream",
     "text": [
      "[Parallel(n_jobs=1)]: Using backend SequentialBackend with 1 concurrent workers.\n",
      "[Parallel(n_jobs=1)]: Done 120 out of 120 | elapsed:   34.8s finished\n"
     ]
    },
    {
     "name": "stdout",
     "output_type": "stream",
     "text": [
      "best score: 0.7450980392156863\n",
      "Split: 1\n",
      "Split: 2\n",
      "Split: 3\n",
      "Split: 4\n",
      "Split: 5\n",
      "Split: 6\n",
      "Split: 7\n",
      "Split: 8\n",
      "Split: 9\n",
      "Split: 10\n",
      "Training Testing Accuracy for n_games=10 team=8 : 73.53% (6.03%)\n",
      "(183, 1874)\n",
      "(183, 1)\n",
      "X_train shape: (164, 3116)\n",
      "X_test shape: (19, 3116)\n",
      "Fitting 10 folds for each of 12 candidates, totalling 120 fits\n"
     ]
    },
    {
     "name": "stderr",
     "output_type": "stream",
     "text": [
      "[Parallel(n_jobs=1)]: Using backend SequentialBackend with 1 concurrent workers.\n",
      "[Parallel(n_jobs=1)]: Done 120 out of 120 | elapsed:   44.6s finished\n"
     ]
    },
    {
     "name": "stdout",
     "output_type": "stream",
     "text": [
      "best score: 0.5609756097560976\n",
      "Fitting 10 folds for each of 12 candidates, totalling 120 fits\n"
     ]
    },
    {
     "name": "stderr",
     "output_type": "stream",
     "text": [
      "[Parallel(n_jobs=1)]: Using backend SequentialBackend with 1 concurrent workers.\n",
      "[Parallel(n_jobs=1)]: Done 120 out of 120 | elapsed:  1.1min finished\n"
     ]
    },
    {
     "name": "stdout",
     "output_type": "stream",
     "text": [
      "best score: 0.5792682926829268\n",
      "Fitting 10 folds for each of 12 candidates, totalling 120 fits\n"
     ]
    },
    {
     "name": "stderr",
     "output_type": "stream",
     "text": [
      "[Parallel(n_jobs=1)]: Using backend SequentialBackend with 1 concurrent workers.\n",
      "[Parallel(n_jobs=1)]: Done 120 out of 120 | elapsed:  1.3min finished\n"
     ]
    },
    {
     "name": "stdout",
     "output_type": "stream",
     "text": [
      "best score: 0.5914634146341463\n",
      "Fitting 10 folds for each of 12 candidates, totalling 120 fits\n"
     ]
    },
    {
     "name": "stderr",
     "output_type": "stream",
     "text": [
      "[Parallel(n_jobs=1)]: Using backend SequentialBackend with 1 concurrent workers.\n",
      "[Parallel(n_jobs=1)]: Done 120 out of 120 | elapsed:   33.7s finished\n"
     ]
    },
    {
     "name": "stdout",
     "output_type": "stream",
     "text": [
      "best score: 0.5914634146341463\n",
      "Fitting 10 folds for each of 12 candidates, totalling 120 fits\n"
     ]
    },
    {
     "name": "stderr",
     "output_type": "stream",
     "text": [
      "[Parallel(n_jobs=1)]: Using backend SequentialBackend with 1 concurrent workers.\n",
      "[Parallel(n_jobs=1)]: Done 120 out of 120 | elapsed:  1.1min finished\n"
     ]
    },
    {
     "name": "stdout",
     "output_type": "stream",
     "text": [
      "best score: 0.5914634146341463\n",
      "Split: 1\n",
      "Split: 2\n",
      "Split: 3\n",
      "Split: 4\n",
      "Split: 5\n",
      "Split: 6\n",
      "Split: 7\n",
      "Split: 8\n",
      "Split: 9\n",
      "Split: 10\n",
      "Training Testing Accuracy for n_games=10 team=9 : 49.21% (8.29%)\n",
      "(184, 1874)\n",
      "(184, 1)\n",
      "X_train shape: (165, 3103)\n",
      "X_test shape: (19, 3103)\n",
      "Fitting 10 folds for each of 12 candidates, totalling 120 fits\n"
     ]
    },
    {
     "name": "stderr",
     "output_type": "stream",
     "text": [
      "[Parallel(n_jobs=1)]: Using backend SequentialBackend with 1 concurrent workers.\n",
      "[Parallel(n_jobs=1)]: Done 120 out of 120 | elapsed:   44.2s finished\n"
     ]
    },
    {
     "name": "stdout",
     "output_type": "stream",
     "text": [
      "best score: 0.6666666666666666\n",
      "Fitting 10 folds for each of 12 candidates, totalling 120 fits\n"
     ]
    },
    {
     "name": "stderr",
     "output_type": "stream",
     "text": [
      "[Parallel(n_jobs=1)]: Using backend SequentialBackend with 1 concurrent workers.\n",
      "[Parallel(n_jobs=1)]: Done 120 out of 120 | elapsed:  1.1min finished\n"
     ]
    },
    {
     "name": "stdout",
     "output_type": "stream",
     "text": [
      "best score: 0.6666666666666666\n",
      "Fitting 10 folds for each of 12 candidates, totalling 120 fits\n"
     ]
    },
    {
     "name": "stderr",
     "output_type": "stream",
     "text": [
      "[Parallel(n_jobs=1)]: Using backend SequentialBackend with 1 concurrent workers.\n",
      "[Parallel(n_jobs=1)]: Done 120 out of 120 | elapsed:   44.9s finished\n"
     ]
    },
    {
     "name": "stdout",
     "output_type": "stream",
     "text": [
      "best score: 0.6727272727272727\n",
      "Fitting 10 folds for each of 12 candidates, totalling 120 fits\n"
     ]
    },
    {
     "name": "stderr",
     "output_type": "stream",
     "text": [
      "[Parallel(n_jobs=1)]: Using backend SequentialBackend with 1 concurrent workers.\n",
      "[Parallel(n_jobs=1)]: Done 120 out of 120 | elapsed:   44.9s finished\n"
     ]
    },
    {
     "name": "stdout",
     "output_type": "stream",
     "text": [
      "best score: 0.6727272727272727\n",
      "Fitting 10 folds for each of 12 candidates, totalling 120 fits\n"
     ]
    },
    {
     "name": "stderr",
     "output_type": "stream",
     "text": [
      "[Parallel(n_jobs=1)]: Using backend SequentialBackend with 1 concurrent workers.\n",
      "[Parallel(n_jobs=1)]: Done 120 out of 120 | elapsed:   40.5s finished\n"
     ]
    },
    {
     "name": "stdout",
     "output_type": "stream",
     "text": [
      "best score: 0.6727272727272727\n",
      "Split: 1\n",
      "Split: 2\n",
      "Split: 3\n",
      "Split: 4\n",
      "Split: 5\n",
      "Split: 6\n",
      "Split: 7\n",
      "Split: 8\n",
      "Split: 9\n",
      "Split: 10\n",
      "Training Testing Accuracy for n_games=10 team=10 : 61.43% (4.81%)\n",
      "(176, 1874)\n",
      "(176, 1)\n",
      "X_train shape: (158, 3115)\n",
      "X_test shape: (18, 3115)\n",
      "Fitting 10 folds for each of 12 candidates, totalling 120 fits\n"
     ]
    },
    {
     "name": "stderr",
     "output_type": "stream",
     "text": [
      "[Parallel(n_jobs=1)]: Using backend SequentialBackend with 1 concurrent workers.\n",
      "[Parallel(n_jobs=1)]: Done 120 out of 120 | elapsed:   44.7s finished\n"
     ]
    },
    {
     "name": "stdout",
     "output_type": "stream",
     "text": [
      "best score: 0.6012658227848101\n",
      "Fitting 10 folds for each of 12 candidates, totalling 120 fits\n"
     ]
    },
    {
     "name": "stderr",
     "output_type": "stream",
     "text": [
      "[Parallel(n_jobs=1)]: Using backend SequentialBackend with 1 concurrent workers.\n",
      "[Parallel(n_jobs=1)]: Done 120 out of 120 | elapsed:   40.9s finished\n"
     ]
    },
    {
     "name": "stdout",
     "output_type": "stream",
     "text": [
      "best score: 0.6012658227848101\n",
      "Fitting 10 folds for each of 12 candidates, totalling 120 fits\n"
     ]
    },
    {
     "name": "stderr",
     "output_type": "stream",
     "text": [
      "[Parallel(n_jobs=1)]: Using backend SequentialBackend with 1 concurrent workers.\n",
      "[Parallel(n_jobs=1)]: Done 120 out of 120 | elapsed:  1.1min finished\n"
     ]
    },
    {
     "name": "stdout",
     "output_type": "stream",
     "text": [
      "best score: 0.6012658227848101\n",
      "Fitting 10 folds for each of 12 candidates, totalling 120 fits\n"
     ]
    },
    {
     "name": "stderr",
     "output_type": "stream",
     "text": [
      "[Parallel(n_jobs=1)]: Using backend SequentialBackend with 1 concurrent workers.\n",
      "[Parallel(n_jobs=1)]: Done 120 out of 120 | elapsed:  1.1min finished\n"
     ]
    },
    {
     "name": "stdout",
     "output_type": "stream",
     "text": [
      "best score: 0.6265822784810127\n",
      "Fitting 10 folds for each of 12 candidates, totalling 120 fits\n"
     ]
    },
    {
     "name": "stderr",
     "output_type": "stream",
     "text": [
      "[Parallel(n_jobs=1)]: Using backend SequentialBackend with 1 concurrent workers.\n",
      "[Parallel(n_jobs=1)]: Done 120 out of 120 | elapsed:   42.3s finished\n"
     ]
    },
    {
     "name": "stdout",
     "output_type": "stream",
     "text": [
      "best score: 0.6265822784810127\n",
      "Split: 1\n",
      "Split: 2\n",
      "Split: 3\n",
      "Split: 4\n",
      "Split: 5\n",
      "Split: 6\n",
      "Split: 7\n",
      "Split: 8\n",
      "Split: 9\n",
      "Split: 10\n",
      "Training Testing Accuracy for n_games=10 team=11 : 53.27% (10.70%)\n",
      "(177, 1874)\n",
      "(177, 1)\n",
      "X_train shape: (159, 3099)\n",
      "X_test shape: (18, 3099)\n",
      "Fitting 10 folds for each of 12 candidates, totalling 120 fits\n"
     ]
    },
    {
     "name": "stderr",
     "output_type": "stream",
     "text": [
      "[Parallel(n_jobs=1)]: Using backend SequentialBackend with 1 concurrent workers.\n",
      "[Parallel(n_jobs=1)]: Done 120 out of 120 | elapsed:   44.9s finished\n"
     ]
    },
    {
     "name": "stdout",
     "output_type": "stream",
     "text": [
      "best score: 0.559748427672956\n",
      "Fitting 10 folds for each of 12 candidates, totalling 120 fits\n"
     ]
    },
    {
     "name": "stderr",
     "output_type": "stream",
     "text": [
      "[Parallel(n_jobs=1)]: Using backend SequentialBackend with 1 concurrent workers.\n",
      "[Parallel(n_jobs=1)]: Done 120 out of 120 | elapsed:   58.0s finished\n"
     ]
    },
    {
     "name": "stdout",
     "output_type": "stream",
     "text": [
      "best score: 0.559748427672956\n",
      "Fitting 10 folds for each of 12 candidates, totalling 120 fits\n"
     ]
    },
    {
     "name": "stderr",
     "output_type": "stream",
     "text": [
      "[Parallel(n_jobs=1)]: Using backend SequentialBackend with 1 concurrent workers.\n",
      "[Parallel(n_jobs=1)]: Done 120 out of 120 | elapsed:   36.8s finished\n"
     ]
    },
    {
     "name": "stdout",
     "output_type": "stream",
     "text": [
      "best score: 0.559748427672956\n",
      "Fitting 10 folds for each of 12 candidates, totalling 120 fits\n"
     ]
    },
    {
     "name": "stderr",
     "output_type": "stream",
     "text": [
      "[Parallel(n_jobs=1)]: Using backend SequentialBackend with 1 concurrent workers.\n",
      "[Parallel(n_jobs=1)]: Done 120 out of 120 | elapsed:   28.0s finished\n"
     ]
    },
    {
     "name": "stdout",
     "output_type": "stream",
     "text": [
      "best score: 0.559748427672956\n",
      "Fitting 10 folds for each of 12 candidates, totalling 120 fits\n"
     ]
    },
    {
     "name": "stderr",
     "output_type": "stream",
     "text": [
      "[Parallel(n_jobs=1)]: Using backend SequentialBackend with 1 concurrent workers.\n",
      "[Parallel(n_jobs=1)]: Done 120 out of 120 | elapsed:   39.1s finished\n"
     ]
    },
    {
     "name": "stdout",
     "output_type": "stream",
     "text": [
      "best score: 0.559748427672956\n",
      "Split: 1\n",
      "Split: 2\n",
      "Split: 3\n",
      "Split: 4\n",
      "Split: 5\n",
      "Split: 6\n",
      "Split: 7\n",
      "Split: 8\n",
      "Split: 9\n",
      "Split: 10\n",
      "Training Testing Accuracy for n_games=10 team=12 : 56.44% (8.31%)\n",
      "(178, 1874)\n",
      "(178, 1)\n",
      "X_train shape: (160, 3128)\n",
      "X_test shape: (18, 3128)\n",
      "Fitting 10 folds for each of 12 candidates, totalling 120 fits\n"
     ]
    },
    {
     "name": "stderr",
     "output_type": "stream",
     "text": [
      "[Parallel(n_jobs=1)]: Using backend SequentialBackend with 1 concurrent workers.\n",
      "[Parallel(n_jobs=1)]: Done 120 out of 120 | elapsed:   43.9s finished\n"
     ]
    },
    {
     "name": "stdout",
     "output_type": "stream",
     "text": [
      "best score: 0.65\n",
      "Fitting 10 folds for each of 12 candidates, totalling 120 fits\n"
     ]
    },
    {
     "name": "stderr",
     "output_type": "stream",
     "text": [
      "[Parallel(n_jobs=1)]: Using backend SequentialBackend with 1 concurrent workers.\n",
      "[Parallel(n_jobs=1)]: Done 120 out of 120 | elapsed:   34.3s finished\n"
     ]
    },
    {
     "name": "stdout",
     "output_type": "stream",
     "text": [
      "best score: 0.65\n",
      "Fitting 10 folds for each of 12 candidates, totalling 120 fits\n"
     ]
    },
    {
     "name": "stderr",
     "output_type": "stream",
     "text": [
      "[Parallel(n_jobs=1)]: Using backend SequentialBackend with 1 concurrent workers.\n",
      "[Parallel(n_jobs=1)]: Done 120 out of 120 | elapsed:   35.2s finished\n"
     ]
    },
    {
     "name": "stdout",
     "output_type": "stream",
     "text": [
      "best score: 0.65\n",
      "Fitting 10 folds for each of 12 candidates, totalling 120 fits\n"
     ]
    },
    {
     "name": "stderr",
     "output_type": "stream",
     "text": [
      "[Parallel(n_jobs=1)]: Using backend SequentialBackend with 1 concurrent workers.\n",
      "[Parallel(n_jobs=1)]: Done 120 out of 120 | elapsed:   47.1s finished\n"
     ]
    },
    {
     "name": "stdout",
     "output_type": "stream",
     "text": [
      "best score: 0.6625\n",
      "Fitting 10 folds for each of 12 candidates, totalling 120 fits\n"
     ]
    },
    {
     "name": "stderr",
     "output_type": "stream",
     "text": [
      "[Parallel(n_jobs=1)]: Using backend SequentialBackend with 1 concurrent workers.\n",
      "[Parallel(n_jobs=1)]: Done 120 out of 120 | elapsed:  1.2min finished\n"
     ]
    },
    {
     "name": "stdout",
     "output_type": "stream",
     "text": [
      "best score: 0.6625\n",
      "Split: 1\n",
      "Split: 2\n",
      "Split: 3\n",
      "Split: 4\n",
      "Split: 5\n",
      "Split: 6\n",
      "Split: 7\n",
      "Split: 8\n",
      "Split: 9\n",
      "Split: 10\n",
      "Training Testing Accuracy for n_games=10 team=13 : 64.08% (12.29%)\n",
      "(181, 1874)\n",
      "(181, 1)\n",
      "X_train shape: (162, 3101)\n",
      "X_test shape: (19, 3101)\n",
      "Fitting 10 folds for each of 12 candidates, totalling 120 fits\n"
     ]
    },
    {
     "name": "stderr",
     "output_type": "stream",
     "text": [
      "[Parallel(n_jobs=1)]: Using backend SequentialBackend with 1 concurrent workers.\n",
      "[Parallel(n_jobs=1)]: Done 120 out of 120 | elapsed:   44.0s finished\n"
     ]
    },
    {
     "name": "stdout",
     "output_type": "stream",
     "text": [
      "best score: 0.6358024691358025\n",
      "Fitting 10 folds for each of 12 candidates, totalling 120 fits\n"
     ]
    },
    {
     "name": "stderr",
     "output_type": "stream",
     "text": [
      "[Parallel(n_jobs=1)]: Using backend SequentialBackend with 1 concurrent workers.\n",
      "[Parallel(n_jobs=1)]: Done 120 out of 120 | elapsed:   50.8s finished\n"
     ]
    },
    {
     "name": "stdout",
     "output_type": "stream",
     "text": [
      "best score: 0.6358024691358025\n",
      "Fitting 10 folds for each of 12 candidates, totalling 120 fits\n"
     ]
    },
    {
     "name": "stderr",
     "output_type": "stream",
     "text": [
      "[Parallel(n_jobs=1)]: Using backend SequentialBackend with 1 concurrent workers.\n",
      "[Parallel(n_jobs=1)]: Done 120 out of 120 | elapsed:   46.6s finished\n"
     ]
    },
    {
     "name": "stdout",
     "output_type": "stream",
     "text": [
      "best score: 0.6358024691358025\n",
      "Fitting 10 folds for each of 12 candidates, totalling 120 fits\n"
     ]
    },
    {
     "name": "stderr",
     "output_type": "stream",
     "text": [
      "[Parallel(n_jobs=1)]: Using backend SequentialBackend with 1 concurrent workers.\n",
      "[Parallel(n_jobs=1)]: Done 120 out of 120 | elapsed:   37.8s finished\n"
     ]
    },
    {
     "name": "stdout",
     "output_type": "stream",
     "text": [
      "best score: 0.6666666666666666\n",
      "Fitting 10 folds for each of 12 candidates, totalling 120 fits\n"
     ]
    },
    {
     "name": "stderr",
     "output_type": "stream",
     "text": [
      "[Parallel(n_jobs=1)]: Using backend SequentialBackend with 1 concurrent workers.\n",
      "[Parallel(n_jobs=1)]: Done 120 out of 120 | elapsed:   40.9s finished\n"
     ]
    },
    {
     "name": "stdout",
     "output_type": "stream",
     "text": [
      "best score: 0.6666666666666666\n",
      "Split: 1\n",
      "Split: 2\n",
      "Split: 3\n",
      "Split: 4\n",
      "Split: 5\n",
      "Split: 6\n",
      "Split: 7\n",
      "Split: 8\n",
      "Split: 9\n",
      "Split: 10\n",
      "Training Testing Accuracy for n_games=10 team=14 : 68.57% (6.65%)\n",
      "(170, 1874)\n",
      "(170, 1)\n",
      "X_train shape: (153, 3099)\n",
      "X_test shape: (17, 3099)\n",
      "Fitting 10 folds for each of 12 candidates, totalling 120 fits\n"
     ]
    },
    {
     "name": "stderr",
     "output_type": "stream",
     "text": [
      "[Parallel(n_jobs=1)]: Using backend SequentialBackend with 1 concurrent workers.\n",
      "[Parallel(n_jobs=1)]: Done 120 out of 120 | elapsed:   44.1s finished\n"
     ]
    },
    {
     "name": "stdout",
     "output_type": "stream",
     "text": [
      "best score: 0.6078431372549019\n",
      "Fitting 10 folds for each of 12 candidates, totalling 120 fits\n"
     ]
    },
    {
     "name": "stderr",
     "output_type": "stream",
     "text": [
      "[Parallel(n_jobs=1)]: Using backend SequentialBackend with 1 concurrent workers.\n",
      "[Parallel(n_jobs=1)]: Done 120 out of 120 | elapsed:   35.4s finished\n"
     ]
    },
    {
     "name": "stdout",
     "output_type": "stream",
     "text": [
      "best score: 0.6078431372549019\n",
      "Fitting 10 folds for each of 12 candidates, totalling 120 fits\n"
     ]
    },
    {
     "name": "stderr",
     "output_type": "stream",
     "text": [
      "[Parallel(n_jobs=1)]: Using backend SequentialBackend with 1 concurrent workers.\n",
      "[Parallel(n_jobs=1)]: Done 120 out of 120 | elapsed:   34.4s finished\n"
     ]
    },
    {
     "name": "stdout",
     "output_type": "stream",
     "text": [
      "best score: 0.6078431372549019\n",
      "Fitting 10 folds for each of 12 candidates, totalling 120 fits\n"
     ]
    },
    {
     "name": "stderr",
     "output_type": "stream",
     "text": [
      "[Parallel(n_jobs=1)]: Using backend SequentialBackend with 1 concurrent workers.\n",
      "[Parallel(n_jobs=1)]: Done 120 out of 120 | elapsed:   39.0s finished\n"
     ]
    },
    {
     "name": "stdout",
     "output_type": "stream",
     "text": [
      "best score: 0.6078431372549019\n",
      "Fitting 10 folds for each of 12 candidates, totalling 120 fits\n"
     ]
    },
    {
     "name": "stderr",
     "output_type": "stream",
     "text": [
      "[Parallel(n_jobs=1)]: Using backend SequentialBackend with 1 concurrent workers.\n",
      "[Parallel(n_jobs=1)]: Done 120 out of 120 | elapsed:   37.2s finished\n"
     ]
    },
    {
     "name": "stdout",
     "output_type": "stream",
     "text": [
      "best score: 0.6078431372549019\n",
      "Split: 1\n",
      "Split: 2\n",
      "Split: 3\n",
      "Split: 4\n",
      "Split: 5\n",
      "Split: 6\n",
      "Split: 7\n",
      "Split: 8\n",
      "Split: 9\n",
      "Split: 10\n",
      "Training Testing Accuracy for n_games=10 team=15 : 62.35% (2.88%)\n",
      "(186, 1874)\n",
      "(186, 1)\n",
      "X_train shape: (167, 3114)\n",
      "X_test shape: (19, 3114)\n",
      "Fitting 10 folds for each of 12 candidates, totalling 120 fits\n"
     ]
    },
    {
     "name": "stderr",
     "output_type": "stream",
     "text": [
      "[Parallel(n_jobs=1)]: Using backend SequentialBackend with 1 concurrent workers.\n",
      "[Parallel(n_jobs=1)]: Done 120 out of 120 | elapsed:   45.4s finished\n"
     ]
    },
    {
     "name": "stdout",
     "output_type": "stream",
     "text": [
      "best score: 0.6646706586826348\n",
      "Fitting 10 folds for each of 12 candidates, totalling 120 fits\n"
     ]
    },
    {
     "name": "stderr",
     "output_type": "stream",
     "text": [
      "[Parallel(n_jobs=1)]: Using backend SequentialBackend with 1 concurrent workers.\n",
      "[Parallel(n_jobs=1)]: Done 120 out of 120 | elapsed:  1.1min finished\n"
     ]
    },
    {
     "name": "stdout",
     "output_type": "stream",
     "text": [
      "best score: 0.6646706586826348\n",
      "Fitting 10 folds for each of 12 candidates, totalling 120 fits\n"
     ]
    },
    {
     "name": "stderr",
     "output_type": "stream",
     "text": [
      "[Parallel(n_jobs=1)]: Using backend SequentialBackend with 1 concurrent workers.\n",
      "[Parallel(n_jobs=1)]: Done 120 out of 120 | elapsed:   53.9s finished\n"
     ]
    },
    {
     "name": "stdout",
     "output_type": "stream",
     "text": [
      "best score: 0.6646706586826348\n",
      "Fitting 10 folds for each of 12 candidates, totalling 120 fits\n"
     ]
    },
    {
     "name": "stderr",
     "output_type": "stream",
     "text": [
      "[Parallel(n_jobs=1)]: Using backend SequentialBackend with 1 concurrent workers.\n",
      "[Parallel(n_jobs=1)]: Done 120 out of 120 | elapsed:   36.7s finished\n"
     ]
    },
    {
     "name": "stdout",
     "output_type": "stream",
     "text": [
      "best score: 0.6646706586826348\n",
      "Fitting 10 folds for each of 12 candidates, totalling 120 fits\n"
     ]
    },
    {
     "name": "stderr",
     "output_type": "stream",
     "text": [
      "[Parallel(n_jobs=1)]: Using backend SequentialBackend with 1 concurrent workers.\n",
      "[Parallel(n_jobs=1)]: Done 120 out of 120 | elapsed:   35.8s finished\n"
     ]
    },
    {
     "name": "stdout",
     "output_type": "stream",
     "text": [
      "best score: 0.6766467065868264\n",
      "Split: 1\n",
      "Split: 2\n",
      "Split: 3\n",
      "Split: 4\n",
      "Split: 5\n",
      "Split: 6\n",
      "Split: 7\n",
      "Split: 8\n",
      "Split: 9\n",
      "Split: 10\n",
      "Training Testing Accuracy for n_games=10 team=16 : 59.04% (11.08%)\n",
      "(181, 1874)\n",
      "(181, 1)\n",
      "X_train shape: (162, 3113)\n",
      "X_test shape: (19, 3113)\n",
      "Fitting 10 folds for each of 12 candidates, totalling 120 fits\n"
     ]
    },
    {
     "name": "stderr",
     "output_type": "stream",
     "text": [
      "[Parallel(n_jobs=1)]: Using backend SequentialBackend with 1 concurrent workers.\n",
      "[Parallel(n_jobs=1)]: Done 120 out of 120 | elapsed:   44.9s finished\n"
     ]
    },
    {
     "name": "stdout",
     "output_type": "stream",
     "text": [
      "best score: 0.6049382716049383\n",
      "Fitting 10 folds for each of 12 candidates, totalling 120 fits\n"
     ]
    },
    {
     "name": "stderr",
     "output_type": "stream",
     "text": [
      "[Parallel(n_jobs=1)]: Using backend SequentialBackend with 1 concurrent workers.\n",
      "[Parallel(n_jobs=1)]: Done 120 out of 120 | elapsed:   33.9s finished\n"
     ]
    },
    {
     "name": "stdout",
     "output_type": "stream",
     "text": [
      "best score: 0.6049382716049383\n",
      "Fitting 10 folds for each of 12 candidates, totalling 120 fits\n"
     ]
    },
    {
     "name": "stderr",
     "output_type": "stream",
     "text": [
      "[Parallel(n_jobs=1)]: Using backend SequentialBackend with 1 concurrent workers.\n",
      "[Parallel(n_jobs=1)]: Done 120 out of 120 | elapsed:   34.0s finished\n"
     ]
    },
    {
     "name": "stdout",
     "output_type": "stream",
     "text": [
      "best score: 0.6049382716049383\n",
      "Fitting 10 folds for each of 12 candidates, totalling 120 fits\n"
     ]
    },
    {
     "name": "stderr",
     "output_type": "stream",
     "text": [
      "[Parallel(n_jobs=1)]: Using backend SequentialBackend with 1 concurrent workers.\n",
      "[Parallel(n_jobs=1)]: Done 120 out of 120 | elapsed:   34.4s finished\n"
     ]
    },
    {
     "name": "stdout",
     "output_type": "stream",
     "text": [
      "best score: 0.6049382716049383\n",
      "Fitting 10 folds for each of 12 candidates, totalling 120 fits\n"
     ]
    },
    {
     "name": "stderr",
     "output_type": "stream",
     "text": [
      "[Parallel(n_jobs=1)]: Using backend SequentialBackend with 1 concurrent workers.\n",
      "[Parallel(n_jobs=1)]: Done 120 out of 120 | elapsed:   33.5s finished\n"
     ]
    },
    {
     "name": "stdout",
     "output_type": "stream",
     "text": [
      "best score: 0.6111111111111112\n",
      "Split: 1\n",
      "Split: 2\n",
      "Split: 3\n",
      "Split: 4\n",
      "Split: 5\n",
      "Split: 6\n",
      "Split: 7\n",
      "Split: 8\n",
      "Split: 9\n",
      "Split: 10\n",
      "Training Testing Accuracy for n_games=10 team=17 : 58.01% (7.90%)\n",
      "(180, 1874)\n",
      "(180, 1)\n",
      "X_train shape: (162, 3127)\n",
      "X_test shape: (18, 3127)\n",
      "Fitting 10 folds for each of 12 candidates, totalling 120 fits\n"
     ]
    },
    {
     "name": "stderr",
     "output_type": "stream",
     "text": [
      "[Parallel(n_jobs=1)]: Using backend SequentialBackend with 1 concurrent workers.\n",
      "[Parallel(n_jobs=1)]: Done 120 out of 120 | elapsed:   45.3s finished\n"
     ]
    },
    {
     "name": "stdout",
     "output_type": "stream",
     "text": [
      "best score: 0.5493827160493827\n",
      "Fitting 10 folds for each of 12 candidates, totalling 120 fits\n"
     ]
    },
    {
     "name": "stderr",
     "output_type": "stream",
     "text": [
      "[Parallel(n_jobs=1)]: Using backend SequentialBackend with 1 concurrent workers.\n",
      "[Parallel(n_jobs=1)]: Done 120 out of 120 | elapsed:   39.8s finished\n"
     ]
    },
    {
     "name": "stdout",
     "output_type": "stream",
     "text": [
      "best score: 0.5493827160493827\n",
      "Fitting 10 folds for each of 12 candidates, totalling 120 fits\n"
     ]
    },
    {
     "name": "stderr",
     "output_type": "stream",
     "text": [
      "[Parallel(n_jobs=1)]: Using backend SequentialBackend with 1 concurrent workers.\n",
      "[Parallel(n_jobs=1)]: Done 120 out of 120 | elapsed:   44.2s finished\n"
     ]
    },
    {
     "name": "stdout",
     "output_type": "stream",
     "text": [
      "best score: 0.6172839506172839\n",
      "Fitting 10 folds for each of 12 candidates, totalling 120 fits\n"
     ]
    },
    {
     "name": "stderr",
     "output_type": "stream",
     "text": [
      "[Parallel(n_jobs=1)]: Using backend SequentialBackend with 1 concurrent workers.\n",
      "[Parallel(n_jobs=1)]: Done 120 out of 120 | elapsed:   58.3s finished\n"
     ]
    },
    {
     "name": "stdout",
     "output_type": "stream",
     "text": [
      "best score: 0.6172839506172839\n",
      "Fitting 10 folds for each of 12 candidates, totalling 120 fits\n"
     ]
    },
    {
     "name": "stderr",
     "output_type": "stream",
     "text": [
      "[Parallel(n_jobs=1)]: Using backend SequentialBackend with 1 concurrent workers.\n",
      "[Parallel(n_jobs=1)]: Done 120 out of 120 | elapsed:   58.4s finished\n"
     ]
    },
    {
     "name": "stdout",
     "output_type": "stream",
     "text": [
      "best score: 0.6172839506172839\n",
      "Split: 1\n",
      "Split: 2\n",
      "Split: 3\n",
      "Split: 4\n",
      "Split: 5\n",
      "Split: 6\n",
      "Split: 7\n",
      "Split: 8\n",
      "Split: 9\n",
      "Split: 10\n",
      "Training Testing Accuracy for n_games=10 team=18 : 54.44% (5.44%)\n",
      "Accuracy for Team Models for n_games= 10 : 59.12% (7.12%)\n"
     ]
    }
   ],
   "source": [
    "import warnings\n",
    "warnings.filterwarnings('ignore')\n",
    "for n in range(1,11):\n",
    "    averages = []\n",
    "    for tn in range(1,19):\n",
    "        a = run_team_models(n, tn)\n",
    "        averages.append(a)\n",
    "    print(\"Accuracy for Team Models for n_games= \"+str(n)+\" : %.2f%% (%.2f%%)\" % (np.mean(averages), np.std(averages)))"
   ]
  },
  {
   "cell_type": "markdown",
   "metadata": {},
   "source": [
    "# Nearest Centroid"
   ]
  },
  {
   "cell_type": "code",
   "execution_count": 7,
   "metadata": {},
   "outputs": [],
   "source": [
    "import pandas as pd\n",
    "import numpy as np\n",
    "from sklearn.model_selection import train_test_split\n",
    "from Gather_AFL_Data import gatherer as gad\n",
    "from sklearn.preprocessing import OneHotEncoder\n",
    "from sklearn.model_selection import StratifiedKFold\n",
    "import pickle\n",
    "from sklearn.neighbors import NearestCentroid\n",
    "import re\n",
    "from numpy import arange\n",
    "from sklearn.datasets import make_classification\n",
    "from sklearn.model_selection import GridSearchCV\n",
    "from sklearn.model_selection import RepeatedStratifiedKFold\n",
    "from sklearn.neighbors import NearestCentroid\n",
    "from sklearn.svm import NuSVC\n",
    "from sklearn.naive_bayes import BernoulliNB"
   ]
  },
  {
   "cell_type": "code",
   "execution_count": 6,
   "metadata": {},
   "outputs": [],
   "source": [
    "def load_data(n_games):\n",
    "    h = get_headers(n_games)\n",
    "    h = clean_headers(h)\n",
    "    cv = generate_categorical_headers(h)\n",
    "\n",
    "    #to get names of teams from index\n",
    "    g = gad()\n",
    "    teams = g.createTeamDict()\n",
    "\n",
    "    #load Data\n",
    "    x_data = pd.read_csv('Data/assembled_stat_matrix_no2020'+str(n_games)+'_games.csv')\n",
    "\n",
    "    #make empty OHE object\n",
    "    na_enc = OneHotEncoder(handle_unknown='ignore', sparse=False)\n",
    "\n",
    "    #one hot encode data with new one hot encoder, saves ohe for later use\n",
    "    x_data, ohe = ohe_data(x_data, na_enc, 0, cv)\n",
    "\n",
    "    #reset headers\n",
    "    feature_names = x_data.columns\n",
    "\n",
    "    #loads the ylabel matrix,\n",
    "    y_label = pd.read_csv('Data/assembled_labelled_ymatrix_no2020'+str(n_games)+'_games.csv')\n",
    "\n",
    "    #loads margin as the y_label\n",
    "    margin_label = pd.read_csv('Data/assembled_margin_ymatrix_no2020'+str(n_games)+'_games.csv')\n",
    "\n",
    "    print(margin_label.shape)\n",
    "    print(y_label.shape)\n",
    "    print(x_data.shape)\n",
    "\n",
    "    #regex solution which is apparently necessary??\n",
    "    regex = re.compile(r\"\\[|\\]|<\", re.IGNORECASE)\n",
    "    x_data.columns = [regex.sub(\"_\", col) if any(x in str(col) for x in set(('[', ']', '<'))) else col for col in x_data.columns.values]\n",
    "    return x_data, y_label"
   ]
  },
  {
   "cell_type": "code",
   "execution_count": null,
   "metadata": {},
   "outputs": [],
   "source": [
    "def params_NC(x_data, y_label):\n",
    "# define model\n",
    "    print(\"optimising hyperparameters\")\n",
    "    model = NearestCentroid()\n",
    "    # define model evaluation method\n",
    "    cv = RepeatedStratifiedKFold(n_splits=10, n_repeats=3, random_state=1)\n",
    "    # define grid\n",
    "    grid = dict()\n",
    "    grid['shrink_threshold'] = arange(0, 1.01, 0.01)\n",
    "    grid['metric'] = ['euclidean', 'manhattan']\n",
    "    # define search\n",
    "    search = GridSearchCV(model, grid, scoring='accuracy', cv=cv, n_jobs=-1)\n",
    "    # perform the search\n",
    "    results = search.fit(x_data, y_label.values.ravel())\n",
    "    # summarize\n",
    "    print('Mean Accuracy: %.3f' % results.best_score_)\n",
    "    print('Config: %s' % results.best_params_)\n",
    "    return results.best_params_"
   ]
  },
  {
   "cell_type": "code",
   "execution_count": null,
   "metadata": {},
   "outputs": [],
   "source": [
    "def eval_NC(x, y, m):\n",
    "    cv = StratifiedKFold(n_splits=10, shuffle=True)\n",
    "    results = []\n",
    "    print(x)\n",
    "    count = 0\n",
    "    best_w = m\n",
    "    high_w = 0\n",
    "    for train,test in cv.split(x,y):\n",
    "        count = count + 1\n",
    "        print(\"Split: \" + str(count))\n",
    "        x_train = x.loc[train]\n",
    "        y_train = y.loc[train].values.ravel()\n",
    "        x_test = x.loc[test]\n",
    "        y_test = y.loc[test]\n",
    "        m.fit(x_train,y_train)\n",
    "        y_pred = m.predict(x_test)\n",
    "        predictions = [round(value) for value in y_pred]\n",
    "        #sees how accurate the model was when testing the test set\n",
    "        accuracy = accuracy_score(y_test, predictions)\n",
    "        pcent = accuracy * 100.0\n",
    "        results.append(pcent)\n",
    "        if(pcent > high_w):\n",
    "            print(\"found new best classify\")\n",
    "            best_w = m\n",
    "            high_w = pcent\n",
    "    print(\"Best win percentage split = \" +str(high_w))\n",
    "    print(\"Training Testing Accuracy: %.2f%% (%.2f%%)\" % (np.mean(results), np.std(results)))\n",
    "    return best_w"
   ]
  },
  {
   "cell_type": "code",
   "execution_count": null,
   "metadata": {
    "scrolled": true
   },
   "outputs": [],
   "source": [
    "def run_all_NC(n):\n",
    "    x_data, y_label = load_data(n)\n",
    "    best_params = params_NC(x_data, y_label)\n",
    "    model = NearestCentroid(**best_params)\n",
    "    best_NC_clas = eval_NC(x_data, y_label, model)\n",
    "    pickle.dump(best_NC_clas, open(\"Models/best_NC_clas_no2020\"+str(n_games)+'_games.sav', 'wb'))"
   ]
  },
  {
   "cell_type": "code",
   "execution_count": null,
   "metadata": {},
   "outputs": [],
   "source": [
    "n_games = [1,2,3,4,5,6,7,10]\n",
    "for n in n_games:\n",
    "    run_all_NC(n)"
   ]
  },
  {
   "cell_type": "markdown",
   "metadata": {},
   "source": [
    "# BernoulliNB"
   ]
  },
  {
   "cell_type": "code",
   "execution_count": 23,
   "metadata": {},
   "outputs": [],
   "source": [
    "def params_BNB(x_data, y_label):\n",
    "# define model\n",
    "    print(\"optimising hyperparameters\")\n",
    "    model = BernoulliNB()\n",
    "    # define model evaluation method\n",
    "    cv = RepeatedStratifiedKFold(n_splits=10, n_repeats=3, random_state=1)\n",
    "    # define grid\n",
    "    grid = dict()\n",
    "    grid['alpha'] = arange(0.01, 1.01, 0.01)\n",
    "    # define search\n",
    "    search = GridSearchCV(model, grid, scoring='accuracy', cv=cv, n_jobs=1, verbose=1)\n",
    "    # perform the search\n",
    "    results = search.fit(x_data, y_label.values.ravel())\n",
    "    # summarize\n",
    "    print('Mean Accuracy: %.3f' % results.best_score_)\n",
    "    print('Config: %s' % results.best_params_)\n",
    "    return results.best_params_"
   ]
  },
  {
   "cell_type": "code",
   "execution_count": 18,
   "metadata": {},
   "outputs": [],
   "source": [
    "def eval_BNB(x, y, m):\n",
    "    cv = StratifiedKFold(n_splits=10, shuffle=True)\n",
    "    results = []\n",
    "    print(x)\n",
    "    count = 0\n",
    "    best_w = m\n",
    "    high_w = 0\n",
    "    for train,test in cv.split(x,y):\n",
    "        count = count + 1\n",
    "        print(\"Split: \" + str(count))\n",
    "        x_train = x.loc[train]\n",
    "        y_train = y.loc[train].values.ravel()\n",
    "        x_test = x.loc[test]\n",
    "        y_test = y.loc[test]\n",
    "        m.fit(x_train,y_train)\n",
    "        y_pred = m.predict(x_test)\n",
    "        predictions = [round(value) for value in y_pred]\n",
    "        #sees how accurate the model was when testing the test set\n",
    "        accuracy = accuracy_score(y_test, predictions)\n",
    "        pcent = accuracy * 100.0\n",
    "        results.append(pcent)\n",
    "        if(pcent > high_w):\n",
    "            print(\"found new best classify\")\n",
    "            best_w = m\n",
    "            high_w = pcent\n",
    "    print(\"Best win percentage split = \" +str(high_w))\n",
    "    print(\"Training Testing Accuracy: %.2f%% (%.2f%%)\" % (np.mean(results), np.std(results)))\n",
    "    return best_w"
   ]
  },
  {
   "cell_type": "code",
   "execution_count": 19,
   "metadata": {},
   "outputs": [],
   "source": [
    "def run_all_BNB(n):\n",
    "    x_data, y_label = load_data(n)\n",
    "    best_params = params_BNB(x_data, y_label)\n",
    "    model = BernoulliNB(**best_params)\n",
    "    best_BNB_clas = eval_BNB(x_data, y_label, model)\n",
    "    pickle.dump(best_BNB_clas, open(\"Models/best_BNB_clas_no2020\"+str(n_games)+'_games.sav', 'wb'))"
   ]
  },
  {
   "cell_type": "code",
   "execution_count": 24,
   "metadata": {
    "scrolled": true
   },
   "outputs": [
    {
     "name": "stdout",
     "output_type": "stream",
     "text": [
      "(1646, 1)\n",
      "(1646, 1)\n",
      "(1646, 409)\n",
      "optimising hyperparameters\n",
      "Fitting 30 folds for each of 100 candidates, totalling 3000 fits\n"
     ]
    },
    {
     "name": "stderr",
     "output_type": "stream",
     "text": [
      "[Parallel(n_jobs=1)]: Using backend SequentialBackend with 1 concurrent workers.\n",
      "[Parallel(n_jobs=1)]: Done 3000 out of 3000 | elapsed:   56.7s finished\n"
     ]
    },
    {
     "name": "stdout",
     "output_type": "stream",
     "text": [
      "Mean Accuracy: 0.602\n",
      "Config: {'alpha': 0.89}\n",
      "      Ladder Pos_H  Form_H  Season Wins_H  Season Loss_H  Season Draw_H  \\\n",
      "0             12.0     0.0            0.0            1.0            0.0   \n",
      "1              4.0     1.0            1.0            0.0            0.0   \n",
      "2              2.0     1.0            1.0            0.0            0.0   \n",
      "3             17.0     0.0            0.0            1.0            0.0   \n",
      "4              1.0     1.0            1.0            0.0            0.0   \n",
      "...            ...     ...            ...            ...            ...   \n",
      "1641           3.0     0.0           16.0            6.0            0.0   \n",
      "1642           4.0     1.0           15.0            7.0            0.0   \n",
      "1643           1.0     1.0           17.0            4.0            1.0   \n",
      "1644           2.0     1.0           17.0            5.0            0.0   \n",
      "1645           1.0     1.0           17.0            4.0            1.0   \n",
      "\n",
      "      H_H/A? n-1  H_H/A Win? n-1  H_Points For n-1  H_Points Against n-1  \\\n",
      "0            1.0             0.0              77.0                  90.0   \n",
      "1            1.0             1.0             106.0                  76.0   \n",
      "2            0.0             0.0             127.0                  59.0   \n",
      "3            1.0             0.0              59.0                 127.0   \n",
      "4            1.0             1.0             133.0                  54.0   \n",
      "...          ...             ...               ...                   ...   \n",
      "1641         1.0             0.0              43.0                  86.0   \n",
      "1642         1.0             0.0              60.0                  93.0   \n",
      "1643         0.0             0.0              93.0                  60.0   \n",
      "1644         0.0             0.0              86.0                  43.0   \n",
      "1645         0.0             0.0             125.0                  42.0   \n",
      "\n",
      "      H_Margin n-1  ...  A_Venue n-1_Mars Stadium  A_Venue n-1_Marvel Stadium  \\\n",
      "0            -13.0  ...                       0.0                         0.0   \n",
      "1             30.0  ...                       0.0                         0.0   \n",
      "2             68.0  ...                       0.0                         0.0   \n",
      "3            -68.0  ...                       0.0                         0.0   \n",
      "4             79.0  ...                       0.0                         0.0   \n",
      "...            ...  ...                       ...                         ...   \n",
      "1641         -43.0  ...                       0.0                         0.0   \n",
      "1642         -33.0  ...                       0.0                         0.0   \n",
      "1643          33.0  ...                       0.0                         0.0   \n",
      "1644          43.0  ...                       0.0                         0.0   \n",
      "1645          83.0  ...                       0.0                         0.0   \n",
      "\n",
      "      A_Venue n-1_Metricon Stadium  A_Venue n-1_Optus Stadium  \\\n",
      "0                              0.0                        0.0   \n",
      "1                              1.0                        0.0   \n",
      "2                              0.0                        0.0   \n",
      "3                              0.0                        0.0   \n",
      "4                              0.0                        0.0   \n",
      "...                            ...                        ...   \n",
      "1641                           0.0                        0.0   \n",
      "1642                           0.0                        0.0   \n",
      "1643                           0.0                        1.0   \n",
      "1644                           0.0                        0.0   \n",
      "1645                           0.0                        0.0   \n",
      "\n",
      "      A_Venue n-1_Riverway Stadium  A_Venue n-1_SCG  A_Venue n-1_TIO Stadium  \\\n",
      "0                              0.0              0.0                      0.0   \n",
      "1                              0.0              0.0                      0.0   \n",
      "2                              0.0              0.0                      0.0   \n",
      "3                              0.0              0.0                      0.0   \n",
      "4                              0.0              0.0                      0.0   \n",
      "...                            ...              ...                      ...   \n",
      "1641                           0.0              0.0                      0.0   \n",
      "1642                           0.0              0.0                      0.0   \n",
      "1643                           0.0              0.0                      0.0   \n",
      "1644                           0.0              0.0                      0.0   \n",
      "1645                           0.0              0.0                      0.0   \n",
      "\n",
      "      A_Venue n-1_TIO Traeger Park  \\\n",
      "0                              0.0   \n",
      "1                              0.0   \n",
      "2                              0.0   \n",
      "3                              0.0   \n",
      "4                              0.0   \n",
      "...                            ...   \n",
      "1641                           0.0   \n",
      "1642                           0.0   \n",
      "1643                           0.0   \n",
      "1644                           0.0   \n",
      "1645                           0.0   \n",
      "\n",
      "      A_Venue n-1_University of Tasmania Stadium  A_Venue n-1_Westpac Stadium  \n",
      "0                                            0.0                          0.0  \n",
      "1                                            0.0                          0.0  \n",
      "2                                            0.0                          0.0  \n",
      "3                                            0.0                          0.0  \n",
      "4                                            0.0                          0.0  \n",
      "...                                          ...                          ...  \n",
      "1641                                         1.0                          0.0  \n",
      "1642                                         1.0                          0.0  \n",
      "1643                                         0.0                          0.0  \n",
      "1644                                         0.0                          0.0  \n",
      "1645                                         0.0                          0.0  \n",
      "\n",
      "[1646 rows x 409 columns]\n",
      "Split: 1\n",
      "found new best classify\n",
      "Split: 2\n",
      "Split: 3\n",
      "found new best classify\n",
      "Split: 4\n",
      "Split: 5\n",
      "Split: 6\n",
      "Split: 7\n",
      "Split: 8\n",
      "Split: 9\n",
      "Split: 10\n",
      "Best win percentage split = 66.66666666666666\n",
      "Training Testing Accuracy: 60.20% (4.04%)\n",
      "(1637, 1)\n",
      "(1637, 1)\n",
      "(1637, 722)\n",
      "optimising hyperparameters\n",
      "Fitting 30 folds for each of 100 candidates, totalling 3000 fits\n"
     ]
    },
    {
     "name": "stderr",
     "output_type": "stream",
     "text": [
      "[Parallel(n_jobs=1)]: Using backend SequentialBackend with 1 concurrent workers.\n",
      "[Parallel(n_jobs=1)]: Done 3000 out of 3000 | elapsed:  1.4min finished\n"
     ]
    },
    {
     "name": "stdout",
     "output_type": "stream",
     "text": [
      "Mean Accuracy: 0.599\n",
      "Config: {'alpha': 0.7000000000000001}\n",
      "      Ladder Pos_H  Form_H  Season Wins_H  Season Loss_H  Season Draw_H  \\\n",
      "0              4.0     2.0            2.0            0.0            0.0   \n",
      "1             12.0     0.0            0.0            2.0            0.0   \n",
      "2             18.0     0.0            0.0            2.0            0.0   \n",
      "3             16.0     0.0            0.0            2.0            0.0   \n",
      "4             11.0     1.0            1.0            1.0            0.0   \n",
      "...            ...     ...            ...            ...            ...   \n",
      "1632           3.0     1.0           16.0            6.0            0.0   \n",
      "1633           4.0     2.0           15.0            7.0            0.0   \n",
      "1634           1.0     2.0           17.0            4.0            1.0   \n",
      "1635           2.0     2.0           17.0            5.0            0.0   \n",
      "1636           1.0     2.0           17.0            4.0            1.0   \n",
      "\n",
      "      H_H/A? n-1  H_H/A Win? n-1  H_Points For n-1  H_Points Against n-1  \\\n",
      "0            1.0             1.0             106.0                  78.0   \n",
      "1            1.0             0.0             108.0                 112.0   \n",
      "2            1.0             0.0              36.0                 184.0   \n",
      "3            1.0             0.0              78.0                 134.0   \n",
      "4            1.0             0.0              73.0                 114.0   \n",
      "...          ...             ...               ...                   ...   \n",
      "1632         1.0             0.0              43.0                  86.0   \n",
      "1633         1.0             0.0              60.0                  93.0   \n",
      "1634         0.0             0.0              93.0                  60.0   \n",
      "1635         0.0             0.0              86.0                  43.0   \n",
      "1636         0.0             0.0             125.0                  42.0   \n",
      "\n",
      "      H_Margin n-1  ...  A_Venue n-2_Manuka Oval  A_Venue n-2_Mars Stadium  \\\n",
      "0             28.0  ...                      0.0                       0.0   \n",
      "1             -4.0  ...                      0.0                       0.0   \n",
      "2           -148.0  ...                      0.0                       0.0   \n",
      "3            -56.0  ...                      0.0                       0.0   \n",
      "4            -41.0  ...                      0.0                       0.0   \n",
      "...            ...  ...                      ...                       ...   \n",
      "1632         -43.0  ...                      0.0                       0.0   \n",
      "1633         -33.0  ...                      0.0                       0.0   \n",
      "1634          33.0  ...                      0.0                       0.0   \n",
      "1635          43.0  ...                      0.0                       0.0   \n",
      "1636          83.0  ...                      0.0                       0.0   \n",
      "\n",
      "      A_Venue n-2_Marvel Stadium  A_Venue n-2_Metricon Stadium  \\\n",
      "0                            0.0                           0.0   \n",
      "1                            0.0                           0.0   \n",
      "2                            0.0                           0.0   \n",
      "3                            0.0                           1.0   \n",
      "4                            1.0                           0.0   \n",
      "...                          ...                           ...   \n",
      "1632                         1.0                           0.0   \n",
      "1633                         1.0                           0.0   \n",
      "1634                         0.0                           0.0   \n",
      "1635                         0.0                           0.0   \n",
      "1636                         0.0                           0.0   \n",
      "\n",
      "      A_Venue n-2_Optus Stadium  A_Venue n-2_SCG  A_Venue n-2_TIO Stadium  \\\n",
      "0                           0.0              0.0                      0.0   \n",
      "1                           0.0              0.0                      0.0   \n",
      "2                           0.0              0.0                      0.0   \n",
      "3                           0.0              0.0                      0.0   \n",
      "4                           0.0              0.0                      0.0   \n",
      "...                         ...              ...                      ...   \n",
      "1632                        0.0              0.0                      0.0   \n",
      "1633                        0.0              0.0                      0.0   \n",
      "1634                        0.0              0.0                      0.0   \n",
      "1635                        0.0              0.0                      0.0   \n",
      "1636                        0.0              0.0                      0.0   \n",
      "\n",
      "      A_Venue n-2_TIO Traeger Park  \\\n",
      "0                              0.0   \n",
      "1                              0.0   \n",
      "2                              0.0   \n",
      "3                              0.0   \n",
      "4                              0.0   \n",
      "...                            ...   \n",
      "1632                           0.0   \n",
      "1633                           0.0   \n",
      "1634                           0.0   \n",
      "1635                           0.0   \n",
      "1636                           0.0   \n",
      "\n",
      "      A_Venue n-2_University of Tasmania Stadium  A_Venue n-2_Westpac Stadium  \n",
      "0                                            0.0                          0.0  \n",
      "1                                            0.0                          0.0  \n",
      "2                                            0.0                          0.0  \n",
      "3                                            0.0                          0.0  \n",
      "4                                            0.0                          0.0  \n",
      "...                                          ...                          ...  \n",
      "1632                                         0.0                          0.0  \n",
      "1633                                         0.0                          0.0  \n",
      "1634                                         0.0                          0.0  \n",
      "1635                                         1.0                          0.0  \n",
      "1636                                         0.0                          0.0  \n",
      "\n",
      "[1637 rows x 722 columns]\n",
      "Split: 1\n",
      "found new best classify\n",
      "Split: 2\n",
      "found new best classify\n",
      "Split: 3\n",
      "Split: 4\n",
      "Split: 5\n",
      "Split: 6\n",
      "found new best classify\n",
      "Split: 7\n",
      "Split: 8\n",
      "Split: 9\n",
      "Split: 10\n",
      "Best win percentage split = 67.07317073170732\n",
      "Training Testing Accuracy: 60.54% (3.92%)\n",
      "(1628, 1)\n",
      "(1628, 1)\n",
      "(1628, 1036)\n",
      "optimising hyperparameters\n",
      "Fitting 30 folds for each of 100 candidates, totalling 3000 fits\n"
     ]
    },
    {
     "name": "stderr",
     "output_type": "stream",
     "text": [
      "[Parallel(n_jobs=1)]: Using backend SequentialBackend with 1 concurrent workers.\n",
      "[Parallel(n_jobs=1)]: Done 3000 out of 3000 | elapsed:  1.9min finished\n"
     ]
    },
    {
     "name": "stdout",
     "output_type": "stream",
     "text": [
      "Mean Accuracy: 0.611\n",
      "Config: {'alpha': 0.46}\n",
      "      Ladder Pos_H  Form_H  Season Wins_H  Season Loss_H  Season Draw_H  \\\n",
      "0              3.0     3.0            3.0            0.0            0.0   \n",
      "1              6.0     2.0            2.0            1.0            0.0   \n",
      "2              4.0     3.0            3.0            0.0            0.0   \n",
      "3              9.0     1.0            1.0            2.0            0.0   \n",
      "4             10.0     1.0            1.0            2.0            0.0   \n",
      "...            ...     ...            ...            ...            ...   \n",
      "1623           3.0     1.0           16.0            6.0            0.0   \n",
      "1624           4.0     3.0           15.0            7.0            0.0   \n",
      "1625           1.0     3.0           17.0            4.0            1.0   \n",
      "1626           2.0     3.0           17.0            5.0            0.0   \n",
      "1627           1.0     3.0           17.0            4.0            1.0   \n",
      "\n",
      "      H_H/A? n-1  H_H/A Win? n-1  H_Points For n-1  H_Points Against n-1  \\\n",
      "0            1.0             1.0             131.0                  92.0   \n",
      "1            1.0             1.0             145.0                  90.0   \n",
      "2            0.0             0.0             135.0                  68.0   \n",
      "3            1.0             1.0             140.0                  68.0   \n",
      "4            1.0             1.0             177.0                  83.0   \n",
      "...          ...             ...               ...                   ...   \n",
      "1623         1.0             0.0              43.0                  86.0   \n",
      "1624         1.0             0.0              60.0                  93.0   \n",
      "1625         0.0             0.0              93.0                  60.0   \n",
      "1626         0.0             0.0              86.0                  43.0   \n",
      "1627         0.0             0.0             125.0                  42.0   \n",
      "\n",
      "      H_Margin n-1  ...  A_Venue n-3_Mars Stadium  A_Venue n-3_Marvel Stadium  \\\n",
      "0             39.0  ...                       0.0                         0.0   \n",
      "1             55.0  ...                       0.0                         0.0   \n",
      "2             67.0  ...                       0.0                         1.0   \n",
      "3             72.0  ...                       0.0                         0.0   \n",
      "4             94.0  ...                       0.0                         0.0   \n",
      "...            ...  ...                       ...                         ...   \n",
      "1623         -43.0  ...                       0.0                         1.0   \n",
      "1624         -33.0  ...                       0.0                         0.0   \n",
      "1625          33.0  ...                       0.0                         0.0   \n",
      "1626          43.0  ...                       0.0                         1.0   \n",
      "1627          83.0  ...                       0.0                         0.0   \n",
      "\n",
      "      A_Venue n-3_Metricon Stadium  A_Venue n-3_Optus Stadium  \\\n",
      "0                              0.0                        0.0   \n",
      "1                              0.0                        0.0   \n",
      "2                              0.0                        0.0   \n",
      "3                              0.0                        0.0   \n",
      "4                              0.0                        0.0   \n",
      "...                            ...                        ...   \n",
      "1623                           0.0                        0.0   \n",
      "1624                           0.0                        0.0   \n",
      "1625                           0.0                        0.0   \n",
      "1626                           0.0                        0.0   \n",
      "1627                           0.0                        0.0   \n",
      "\n",
      "      A_Venue n-3_Riverway Stadium  A_Venue n-3_SCG  A_Venue n-3_TIO Stadium  \\\n",
      "0                              0.0              0.0                      0.0   \n",
      "1                              0.0              0.0                      0.0   \n",
      "2                              0.0              0.0                      0.0   \n",
      "3                              0.0              0.0                      0.0   \n",
      "4                              0.0              0.0                      0.0   \n",
      "...                            ...              ...                      ...   \n",
      "1623                           0.0              0.0                      0.0   \n",
      "1624                           0.0              0.0                      0.0   \n",
      "1625                           0.0              0.0                      0.0   \n",
      "1626                           0.0              0.0                      0.0   \n",
      "1627                           0.0              0.0                      0.0   \n",
      "\n",
      "      A_Venue n-3_TIO Traeger Park  \\\n",
      "0                              0.0   \n",
      "1                              0.0   \n",
      "2                              0.0   \n",
      "3                              0.0   \n",
      "4                              0.0   \n",
      "...                            ...   \n",
      "1623                           0.0   \n",
      "1624                           0.0   \n",
      "1625                           0.0   \n",
      "1626                           0.0   \n",
      "1627                           0.0   \n",
      "\n",
      "      A_Venue n-3_University of Tasmania Stadium  A_Venue n-3_Westpac Stadium  \n",
      "0                                            0.0                          0.0  \n",
      "1                                            0.0                          0.0  \n",
      "2                                            0.0                          0.0  \n",
      "3                                            0.0                          0.0  \n",
      "4                                            0.0                          0.0  \n",
      "...                                          ...                          ...  \n",
      "1623                                         0.0                          0.0  \n",
      "1624                                         1.0                          0.0  \n",
      "1625                                         0.0                          0.0  \n",
      "1626                                         0.0                          0.0  \n",
      "1627                                         1.0                          0.0  \n",
      "\n",
      "[1628 rows x 1036 columns]\n",
      "Split: 1\n",
      "found new best classify\n",
      "Split: 2\n",
      "found new best classify\n",
      "Split: 3\n",
      "Split: 4\n",
      "Split: 5\n",
      "Split: 6\n",
      "Split: 7\n",
      "Split: 8\n",
      "Split: 9\n",
      "Split: 10\n",
      "Best win percentage split = 66.25766871165644\n",
      "Training Testing Accuracy: 61.12% (3.22%)\n",
      "(1619, 1)\n",
      "(1619, 1)\n",
      "(1619, 1349)\n",
      "optimising hyperparameters\n",
      "Fitting 30 folds for each of 100 candidates, totalling 3000 fits\n"
     ]
    },
    {
     "name": "stderr",
     "output_type": "stream",
     "text": [
      "[Parallel(n_jobs=1)]: Using backend SequentialBackend with 1 concurrent workers.\n",
      "[Parallel(n_jobs=1)]: Done 3000 out of 3000 | elapsed:  2.7min finished\n"
     ]
    },
    {
     "name": "stdout",
     "output_type": "stream",
     "text": [
      "Mean Accuracy: 0.610\n",
      "Config: {'alpha': 0.42000000000000004}\n",
      "      Ladder Pos_H  Form_H  Season Wins_H  Season Loss_H  Season Draw_H  \\\n",
      "0              1.0     4.0            4.0            0.0            0.0   \n",
      "1             10.0     1.0            1.0            3.0            0.0   \n",
      "2              9.0     2.0            2.0            2.0            0.0   \n",
      "3             18.0     0.0            0.0            4.0            0.0   \n",
      "4             13.0     1.0            1.0            3.0            0.0   \n",
      "...            ...     ...            ...            ...            ...   \n",
      "1614           3.0     2.0           16.0            6.0            0.0   \n",
      "1615           4.0     3.0           15.0            7.0            0.0   \n",
      "1616           1.0     4.0           17.0            4.0            1.0   \n",
      "1617           2.0     4.0           17.0            5.0            0.0   \n",
      "1618           1.0     4.0           17.0            4.0            1.0   \n",
      "\n",
      "      H_H/A? n-1  H_H/A Win? n-1  H_Points For n-1  H_Points Against n-1  \\\n",
      "0            1.0             1.0             128.0                  91.0   \n",
      "1            0.0             1.0              91.0                 128.0   \n",
      "2            1.0             0.0              76.0                 118.0   \n",
      "3            1.0             0.0             103.0                 144.0   \n",
      "4            1.0             1.0              89.0                  65.0   \n",
      "...          ...             ...               ...                   ...   \n",
      "1614         1.0             0.0              43.0                  86.0   \n",
      "1615         1.0             0.0              60.0                  93.0   \n",
      "1616         0.0             0.0              93.0                  60.0   \n",
      "1617         0.0             0.0              86.0                  43.0   \n",
      "1618         0.0             0.0             125.0                  42.0   \n",
      "\n",
      "      H_Margin n-1  ...  A_Venue n-4_Mars Stadium  A_Venue n-4_Marvel Stadium  \\\n",
      "0             37.0  ...                       0.0                         1.0   \n",
      "1            -37.0  ...                       0.0                         0.0   \n",
      "2            -42.0  ...                       0.0                         0.0   \n",
      "3            -41.0  ...                       0.0                         0.0   \n",
      "4             24.0  ...                       0.0                         0.0   \n",
      "...            ...  ...                       ...                         ...   \n",
      "1614         -43.0  ...                       0.0                         0.0   \n",
      "1615         -33.0  ...                       0.0                         1.0   \n",
      "1616          33.0  ...                       0.0                         0.0   \n",
      "1617          43.0  ...                       0.0                         0.0   \n",
      "1618          83.0  ...                       0.0                         1.0   \n",
      "\n",
      "      A_Venue n-4_Metricon Stadium  A_Venue n-4_Optus Stadium  \\\n",
      "0                              0.0                        0.0   \n",
      "1                              0.0                        0.0   \n",
      "2                              0.0                        0.0   \n",
      "3                              1.0                        0.0   \n",
      "4                              0.0                        0.0   \n",
      "...                            ...                        ...   \n",
      "1614                           0.0                        0.0   \n",
      "1615                           0.0                        0.0   \n",
      "1616                           0.0                        0.0   \n",
      "1617                           0.0                        0.0   \n",
      "1618                           0.0                        0.0   \n",
      "\n",
      "      A_Venue n-4_Riverway Stadium  A_Venue n-4_SCG  A_Venue n-4_TIO Stadium  \\\n",
      "0                              0.0              0.0                      0.0   \n",
      "1                              0.0              0.0                      0.0   \n",
      "2                              0.0              0.0                      0.0   \n",
      "3                              0.0              0.0                      0.0   \n",
      "4                              0.0              0.0                      0.0   \n",
      "...                            ...              ...                      ...   \n",
      "1614                           0.0              0.0                      0.0   \n",
      "1615                           0.0              0.0                      0.0   \n",
      "1616                           0.0              0.0                      0.0   \n",
      "1617                           0.0              0.0                      0.0   \n",
      "1618                           0.0              0.0                      0.0   \n",
      "\n",
      "      A_Venue n-4_TIO Traeger Park  \\\n",
      "0                              0.0   \n",
      "1                              0.0   \n",
      "2                              0.0   \n",
      "3                              0.0   \n",
      "4                              0.0   \n",
      "...                            ...   \n",
      "1614                           0.0   \n",
      "1615                           0.0   \n",
      "1616                           0.0   \n",
      "1617                           0.0   \n",
      "1618                           0.0   \n",
      "\n",
      "      A_Venue n-4_University of Tasmania Stadium  A_Venue n-4_Westpac Stadium  \n",
      "0                                            0.0                          0.0  \n",
      "1                                            0.0                          0.0  \n",
      "2                                            0.0                          0.0  \n",
      "3                                            0.0                          0.0  \n",
      "4                                            0.0                          0.0  \n",
      "...                                          ...                          ...  \n",
      "1614                                         0.0                          0.0  \n",
      "1615                                         0.0                          0.0  \n",
      "1616                                         0.0                          0.0  \n",
      "1617                                         1.0                          0.0  \n",
      "1618                                         0.0                          0.0  \n",
      "\n",
      "[1619 rows x 1349 columns]\n",
      "Split: 1\n",
      "found new best classify\n",
      "Split: 2\n",
      "found new best classify\n",
      "Split: 3\n",
      "Split: 4\n",
      "found new best classify\n",
      "Split: 5\n",
      "Split: 6\n",
      "Split: 7\n",
      "found new best classify\n",
      "Split: 8\n",
      "Split: 9\n",
      "Split: 10\n",
      "Best win percentage split = 62.96296296296296\n",
      "Training Testing Accuracy: 59.30% (2.67%)\n",
      "(1610, 1)\n",
      "(1610, 1)\n",
      "(1610, 1662)\n",
      "optimising hyperparameters\n",
      "Fitting 30 folds for each of 100 candidates, totalling 3000 fits\n"
     ]
    },
    {
     "name": "stderr",
     "output_type": "stream",
     "text": [
      "[Parallel(n_jobs=1)]: Using backend SequentialBackend with 1 concurrent workers.\n",
      "[Parallel(n_jobs=1)]: Done 3000 out of 3000 | elapsed:  3.4min finished\n"
     ]
    },
    {
     "name": "stdout",
     "output_type": "stream",
     "text": [
      "Mean Accuracy: 0.617\n",
      "Config: {'alpha': 1.0}\n",
      "      Ladder Pos_H  Form_H  Season Wins_H  Season Loss_H  Season Draw_H  \\\n",
      "0              8.0     3.0            3.0            2.0            0.0   \n",
      "1              1.0     5.0            5.0            0.0            0.0   \n",
      "2             13.0     1.0            1.0            4.0            0.0   \n",
      "3             10.0     2.0            2.0            3.0            0.0   \n",
      "4             11.0     2.0            2.0            3.0            0.0   \n",
      "...            ...     ...            ...            ...            ...   \n",
      "1605           3.0     3.0           16.0            6.0            0.0   \n",
      "1606           4.0     4.0           15.0            7.0            0.0   \n",
      "1607           1.0     4.0           17.0            4.0            1.0   \n",
      "1608           2.0     5.0           17.0            5.0            0.0   \n",
      "1609           1.0     4.0           17.0            4.0            1.0   \n",
      "\n",
      "      H_H/A? n-1  H_H/A Win? n-1  H_Points For n-1  H_Points Against n-1  \\\n",
      "0            1.0             0.0              75.0                 121.0   \n",
      "1            0.0             0.0             121.0                  75.0   \n",
      "2            1.0             0.0              96.0                  99.0   \n",
      "3            1.0             0.0              83.0                 115.0   \n",
      "4            1.0             1.0             148.0                 104.0   \n",
      "...          ...             ...               ...                   ...   \n",
      "1605         1.0             0.0              43.0                  86.0   \n",
      "1606         1.0             0.0              60.0                  93.0   \n",
      "1607         0.0             0.0              93.0                  60.0   \n",
      "1608         0.0             0.0              86.0                  43.0   \n",
      "1609         0.0             0.0             125.0                  42.0   \n",
      "\n",
      "      H_Margin n-1  ...  A_Venue n-5_Manuka Oval  A_Venue n-5_Mars Stadium  \\\n",
      "0            -46.0  ...                      0.0                       0.0   \n",
      "1             46.0  ...                      0.0                       0.0   \n",
      "2             -3.0  ...                      0.0                       0.0   \n",
      "3            -32.0  ...                      0.0                       0.0   \n",
      "4             44.0  ...                      0.0                       0.0   \n",
      "...            ...  ...                      ...                       ...   \n",
      "1605         -43.0  ...                      0.0                       0.0   \n",
      "1606         -33.0  ...                      0.0                       1.0   \n",
      "1607          33.0  ...                      0.0                       0.0   \n",
      "1608          43.0  ...                      0.0                       0.0   \n",
      "1609          83.0  ...                      0.0                       0.0   \n",
      "\n",
      "      A_Venue n-5_Marvel Stadium  A_Venue n-5_Metricon Stadium  \\\n",
      "0                            0.0                           1.0   \n",
      "1                            0.0                           0.0   \n",
      "2                            0.0                           0.0   \n",
      "3                            0.0                           0.0   \n",
      "4                            0.0                           0.0   \n",
      "...                          ...                           ...   \n",
      "1605                         1.0                           0.0   \n",
      "1606                         0.0                           0.0   \n",
      "1607                         0.0                           0.0   \n",
      "1608                         1.0                           0.0   \n",
      "1609                         0.0                           0.0   \n",
      "\n",
      "      A_Venue n-5_Optus Stadium  A_Venue n-5_SCG  A_Venue n-5_TIO Stadium  \\\n",
      "0                           0.0              0.0                      0.0   \n",
      "1                           0.0              0.0                      0.0   \n",
      "2                           0.0              0.0                      0.0   \n",
      "3                           0.0              0.0                      0.0   \n",
      "4                           0.0              0.0                      0.0   \n",
      "...                         ...              ...                      ...   \n",
      "1605                        0.0              0.0                      0.0   \n",
      "1606                        0.0              0.0                      0.0   \n",
      "1607                        0.0              0.0                      0.0   \n",
      "1608                        0.0              0.0                      0.0   \n",
      "1609                        0.0              0.0                      0.0   \n",
      "\n",
      "      A_Venue n-5_TIO Traeger Park  \\\n",
      "0                              0.0   \n",
      "1                              0.0   \n",
      "2                              0.0   \n",
      "3                              0.0   \n",
      "4                              0.0   \n",
      "...                            ...   \n",
      "1605                           0.0   \n",
      "1606                           0.0   \n",
      "1607                           0.0   \n",
      "1608                           0.0   \n",
      "1609                           0.0   \n",
      "\n",
      "      A_Venue n-5_University of Tasmania Stadium  A_Venue n-5_Westpac Stadium  \n",
      "0                                            0.0                          0.0  \n",
      "1                                            0.0                          0.0  \n",
      "2                                            0.0                          0.0  \n",
      "3                                            0.0                          0.0  \n",
      "4                                            0.0                          0.0  \n",
      "...                                          ...                          ...  \n",
      "1605                                         0.0                          0.0  \n",
      "1606                                         0.0                          0.0  \n",
      "1607                                         0.0                          0.0  \n",
      "1608                                         0.0                          0.0  \n",
      "1609                                         1.0                          0.0  \n",
      "\n",
      "[1610 rows x 1662 columns]\n",
      "Split: 1\n",
      "found new best classify\n",
      "Split: 2\n",
      "Split: 3\n",
      "Split: 4\n",
      "Split: 5\n",
      "Split: 6\n",
      "Split: 7\n",
      "Split: 8\n",
      "Split: 9\n",
      "Split: 10\n",
      "Best win percentage split = 67.70186335403726\n",
      "Training Testing Accuracy: 60.56% (3.46%)\n",
      "(1601, 1)\n",
      "(1601, 1)\n",
      "(1601, 1976)\n",
      "optimising hyperparameters\n",
      "Fitting 30 folds for each of 100 candidates, totalling 3000 fits\n"
     ]
    },
    {
     "name": "stderr",
     "output_type": "stream",
     "text": [
      "[Parallel(n_jobs=1)]: Using backend SequentialBackend with 1 concurrent workers.\n",
      "[Parallel(n_jobs=1)]: Done 3000 out of 3000 | elapsed:  3.9min finished\n"
     ]
    },
    {
     "name": "stdout",
     "output_type": "stream",
     "text": [
      "Mean Accuracy: 0.611\n",
      "Config: {'alpha': 0.9500000000000001}\n",
      "      Ladder Pos_H  Form_H  Season Wins_H  Season Loss_H  Season Draw_H  \\\n",
      "0              2.0     6.0            6.0            0.0            0.0   \n",
      "1              3.0     5.0            5.0            1.0            0.0   \n",
      "2             14.0     2.0            2.0            4.0            0.0   \n",
      "3             16.0     1.0            1.0            5.0            0.0   \n",
      "4              6.0     4.0            4.0            2.0            0.0   \n",
      "...            ...     ...            ...            ...            ...   \n",
      "1596           3.0     4.0           16.0            6.0            0.0   \n",
      "1597           4.0     4.0           15.0            7.0            0.0   \n",
      "1598           1.0     4.0           17.0            4.0            1.0   \n",
      "1599           2.0     6.0           17.0            5.0            0.0   \n",
      "1600           1.0     4.0           17.0            4.0            1.0   \n",
      "\n",
      "      H_H/A? n-1  H_H/A Win? n-1  H_Points For n-1  H_Points Against n-1  \\\n",
      "0            1.0             1.0             131.0                  87.0   \n",
      "1            1.0             0.0              83.0                  93.0   \n",
      "2            1.0             0.0              55.0                 115.0   \n",
      "3            1.0             0.0              67.0                 137.0   \n",
      "4            1.0             1.0              99.0                  54.0   \n",
      "...          ...             ...               ...                   ...   \n",
      "1596         1.0             0.0              43.0                  86.0   \n",
      "1597         1.0             0.0              60.0                  93.0   \n",
      "1598         0.0             0.0              93.0                  60.0   \n",
      "1599         0.0             0.0              86.0                  43.0   \n",
      "1600         0.0             0.0             125.0                  42.0   \n",
      "\n",
      "      H_Margin n-1  ...  A_Venue n-6_Mars Stadium  A_Venue n-6_Marvel Stadium  \\\n",
      "0             44.0  ...                       0.0                         0.0   \n",
      "1            -10.0  ...                       0.0                         0.0   \n",
      "2            -60.0  ...                       0.0                         0.0   \n",
      "3            -70.0  ...                       0.0                         1.0   \n",
      "4             45.0  ...                       0.0                         1.0   \n",
      "...            ...  ...                       ...                         ...   \n",
      "1596         -43.0  ...                       0.0                         0.0   \n",
      "1597         -33.0  ...                       0.0                         0.0   \n",
      "1598          33.0  ...                       0.0                         0.0   \n",
      "1599          43.0  ...                       1.0                         0.0   \n",
      "1600          83.0  ...                       0.0                         1.0   \n",
      "\n",
      "      A_Venue n-6_Metricon Stadium  A_Venue n-6_Optus Stadium  \\\n",
      "0                              0.0                        0.0   \n",
      "1                              0.0                        0.0   \n",
      "2                              0.0                        0.0   \n",
      "3                              0.0                        0.0   \n",
      "4                              0.0                        0.0   \n",
      "...                            ...                        ...   \n",
      "1596                           1.0                        0.0   \n",
      "1597                           0.0                        0.0   \n",
      "1598                           0.0                        0.0   \n",
      "1599                           0.0                        0.0   \n",
      "1600                           0.0                        0.0   \n",
      "\n",
      "      A_Venue n-6_Riverway Stadium  A_Venue n-6_SCG  A_Venue n-6_TIO Stadium  \\\n",
      "0                              0.0              0.0                      0.0   \n",
      "1                              0.0              0.0                      0.0   \n",
      "2                              0.0              0.0                      0.0   \n",
      "3                              0.0              0.0                      0.0   \n",
      "4                              0.0              0.0                      0.0   \n",
      "...                            ...              ...                      ...   \n",
      "1596                           0.0              0.0                      0.0   \n",
      "1597                           0.0              0.0                      0.0   \n",
      "1598                           0.0              0.0                      0.0   \n",
      "1599                           0.0              0.0                      0.0   \n",
      "1600                           0.0              0.0                      0.0   \n",
      "\n",
      "      A_Venue n-6_TIO Traeger Park  \\\n",
      "0                              0.0   \n",
      "1                              0.0   \n",
      "2                              0.0   \n",
      "3                              0.0   \n",
      "4                              0.0   \n",
      "...                            ...   \n",
      "1596                           0.0   \n",
      "1597                           0.0   \n",
      "1598                           0.0   \n",
      "1599                           0.0   \n",
      "1600                           0.0   \n",
      "\n",
      "      A_Venue n-6_University of Tasmania Stadium  A_Venue n-6_Westpac Stadium  \n",
      "0                                            0.0                          0.0  \n",
      "1                                            0.0                          0.0  \n",
      "2                                            0.0                          0.0  \n",
      "3                                            0.0                          0.0  \n",
      "4                                            0.0                          0.0  \n",
      "...                                          ...                          ...  \n",
      "1596                                         0.0                          0.0  \n",
      "1597                                         0.0                          0.0  \n",
      "1598                                         0.0                          0.0  \n",
      "1599                                         0.0                          0.0  \n",
      "1600                                         0.0                          0.0  \n",
      "\n",
      "[1601 rows x 1976 columns]\n",
      "Split: 1\n",
      "found new best classify\n",
      "Split: 2\n",
      "Split: 3\n",
      "found new best classify\n",
      "Split: 4\n",
      "Split: 5\n",
      "Split: 6\n",
      "Split: 7\n",
      "Split: 8\n",
      "Split: 9\n",
      "Split: 10\n",
      "Best win percentage split = 70.0\n",
      "Training Testing Accuracy: 61.34% (5.52%)\n",
      "(1592, 1)\n",
      "(1592, 1)\n",
      "(1592, 2289)\n",
      "optimising hyperparameters\n",
      "Fitting 30 folds for each of 100 candidates, totalling 3000 fits\n"
     ]
    },
    {
     "name": "stderr",
     "output_type": "stream",
     "text": [
      "[Parallel(n_jobs=1)]: Using backend SequentialBackend with 1 concurrent workers.\n",
      "[Parallel(n_jobs=1)]: Done 3000 out of 3000 | elapsed:  4.8min finished\n"
     ]
    },
    {
     "name": "stdout",
     "output_type": "stream",
     "text": [
      "Mean Accuracy: 0.608\n",
      "Config: {'alpha': 1.0}\n",
      "      Ladder Pos_H  Form_H  Season Wins_H  Season Loss_H  Season Draw_H  \\\n",
      "0             10.0     3.0            3.0            4.0            0.0   \n",
      "1              2.0     6.0            6.0            1.0            0.0   \n",
      "2              3.0     6.0            6.0            1.0            0.0   \n",
      "3             13.0     3.0            3.0            4.0            0.0   \n",
      "4              5.0     5.0            5.0            2.0            0.0   \n",
      "...            ...     ...            ...            ...            ...   \n",
      "1587           3.0     5.0           16.0            6.0            0.0   \n",
      "1588           4.0     4.0           15.0            7.0            0.0   \n",
      "1589           1.0     5.0           17.0            4.0            1.0   \n",
      "1590           2.0     6.0           17.0            5.0            0.0   \n",
      "1591           1.0     5.0           17.0            4.0            1.0   \n",
      "\n",
      "      H_H/A? n-1  H_H/A Win? n-1  H_Points For n-1  H_Points Against n-1  \\\n",
      "0            1.0             1.0             108.0                  82.0   \n",
      "1            1.0             0.0              85.0                 113.0   \n",
      "2            0.0             0.0             119.0                  82.0   \n",
      "3            1.0             1.0             114.0                  54.0   \n",
      "4            1.0             0.0              82.0                 119.0   \n",
      "...          ...             ...               ...                   ...   \n",
      "1587         1.0             0.0              43.0                  86.0   \n",
      "1588         1.0             0.0              60.0                  93.0   \n",
      "1589         0.0             0.0              93.0                  60.0   \n",
      "1590         0.0             0.0              86.0                  43.0   \n",
      "1591         0.0             0.0             125.0                  42.0   \n",
      "\n",
      "      H_Margin n-1  ...  A_Venue n-7_Mars Stadium  A_Venue n-7_Marvel Stadium  \\\n",
      "0             26.0  ...                       0.0                         1.0   \n",
      "1            -28.0  ...                       0.0                         1.0   \n",
      "2             37.0  ...                       0.0                         0.0   \n",
      "3             60.0  ...                       0.0                         1.0   \n",
      "4            -37.0  ...                       0.0                         0.0   \n",
      "...            ...  ...                       ...                         ...   \n",
      "1587         -43.0  ...                       0.0                         0.0   \n",
      "1588         -33.0  ...                       0.0                         0.0   \n",
      "1589          33.0  ...                       0.0                         0.0   \n",
      "1590          43.0  ...                       0.0                         0.0   \n",
      "1591          83.0  ...                       1.0                         0.0   \n",
      "\n",
      "      A_Venue n-7_Metricon Stadium  A_Venue n-7_Optus Stadium  \\\n",
      "0                              0.0                        0.0   \n",
      "1                              0.0                        0.0   \n",
      "2                              0.0                        0.0   \n",
      "3                              0.0                        0.0   \n",
      "4                              0.0                        0.0   \n",
      "...                            ...                        ...   \n",
      "1587                           1.0                        0.0   \n",
      "1588                           1.0                        0.0   \n",
      "1589                           0.0                        0.0   \n",
      "1590                           0.0                        0.0   \n",
      "1591                           0.0                        0.0   \n",
      "\n",
      "      A_Venue n-7_Riverway Stadium  A_Venue n-7_SCG  A_Venue n-7_TIO Stadium  \\\n",
      "0                              0.0              0.0                      0.0   \n",
      "1                              0.0              0.0                      0.0   \n",
      "2                              0.0              0.0                      0.0   \n",
      "3                              0.0              0.0                      0.0   \n",
      "4                              0.0              0.0                      0.0   \n",
      "...                            ...              ...                      ...   \n",
      "1587                           0.0              0.0                      0.0   \n",
      "1588                           0.0              0.0                      0.0   \n",
      "1589                           0.0              0.0                      0.0   \n",
      "1590                           0.0              0.0                      0.0   \n",
      "1591                           0.0              0.0                      0.0   \n",
      "\n",
      "      A_Venue n-7_TIO Traeger Park  \\\n",
      "0                              0.0   \n",
      "1                              0.0   \n",
      "2                              0.0   \n",
      "3                              0.0   \n",
      "4                              0.0   \n",
      "...                            ...   \n",
      "1587                           0.0   \n",
      "1588                           0.0   \n",
      "1589                           0.0   \n",
      "1590                           0.0   \n",
      "1591                           0.0   \n",
      "\n",
      "      A_Venue n-7_University of Tasmania Stadium  A_Venue n-7_Westpac Stadium  \n",
      "0                                            0.0                          0.0  \n",
      "1                                            0.0                          0.0  \n",
      "2                                            0.0                          0.0  \n",
      "3                                            0.0                          0.0  \n",
      "4                                            0.0                          0.0  \n",
      "...                                          ...                          ...  \n",
      "1587                                         0.0                          0.0  \n",
      "1588                                         0.0                          0.0  \n",
      "1589                                         0.0                          0.0  \n",
      "1590                                         0.0                          0.0  \n",
      "1591                                         0.0                          0.0  \n",
      "\n",
      "[1592 rows x 2289 columns]\n",
      "Split: 1\n",
      "found new best classify\n",
      "Split: 2\n",
      "Split: 3\n",
      "Split: 4\n",
      "Split: 5\n",
      "found new best classify\n",
      "Split: 6\n",
      "Split: 7\n",
      "Split: 8\n",
      "Split: 9\n",
      "Split: 10\n",
      "Best win percentage split = 69.18238993710692\n",
      "Training Testing Accuracy: 60.87% (3.24%)\n",
      "(1565, 1)\n",
      "(1565, 1)\n",
      "(1565, 3228)\n",
      "optimising hyperparameters\n",
      "Fitting 30 folds for each of 100 candidates, totalling 3000 fits\n"
     ]
    },
    {
     "name": "stderr",
     "output_type": "stream",
     "text": [
      "[Parallel(n_jobs=1)]: Using backend SequentialBackend with 1 concurrent workers.\n",
      "[Parallel(n_jobs=1)]: Done 3000 out of 3000 | elapsed:  6.8min finished\n"
     ]
    },
    {
     "name": "stdout",
     "output_type": "stream",
     "text": [
      "Mean Accuracy: 0.603\n",
      "Config: {'alpha': 0.060000000000000005}\n",
      "      Ladder Pos_H  Form_H  Season Wins_H  Season Loss_H  Season Draw_H  \\\n",
      "0              5.0     7.0            7.0            3.0            0.0   \n",
      "1             18.0     0.0            0.0           10.0            0.0   \n",
      "2              9.0     5.0            5.0            5.0            0.0   \n",
      "3             13.0     4.0            4.0            6.0            0.0   \n",
      "4             16.0     2.0            2.0            8.0            0.0   \n",
      "...            ...     ...            ...            ...            ...   \n",
      "1560           3.0     7.0           16.0            6.0            0.0   \n",
      "1561           4.0     7.0           15.0            7.0            0.0   \n",
      "1562           1.0     6.0           17.0            4.0            1.0   \n",
      "1563           2.0     9.0           17.0            5.0            0.0   \n",
      "1564           1.0     6.0           17.0            4.0            1.0   \n",
      "\n",
      "      H_H/A? n-1  H_H/A Win? n-1  H_Points For n-1  H_Points Against n-1  \\\n",
      "0            1.0             0.0              71.0                 115.0   \n",
      "1            1.0             0.0              54.0                 148.0   \n",
      "2            0.0             1.0              59.0                  66.0   \n",
      "3            1.0             0.0              71.0                 123.0   \n",
      "4            1.0             0.0              65.0                 133.0   \n",
      "...          ...             ...               ...                   ...   \n",
      "1560         1.0             0.0              43.0                  86.0   \n",
      "1561         1.0             0.0              60.0                  93.0   \n",
      "1562         0.0             0.0              93.0                  60.0   \n",
      "1563         0.0             0.0              86.0                  43.0   \n",
      "1564         0.0             0.0             125.0                  42.0   \n",
      "\n",
      "      H_Margin n-1  ...  A_Venue n-10_Mars Stadium  \\\n",
      "0            -44.0  ...                        0.0   \n",
      "1            -94.0  ...                        0.0   \n",
      "2             -7.0  ...                        0.0   \n",
      "3            -52.0  ...                        0.0   \n",
      "4            -68.0  ...                        0.0   \n",
      "...            ...  ...                        ...   \n",
      "1560         -43.0  ...                        0.0   \n",
      "1561         -33.0  ...                        0.0   \n",
      "1562          33.0  ...                        0.0   \n",
      "1563          43.0  ...                        0.0   \n",
      "1564          83.0  ...                        0.0   \n",
      "\n",
      "      A_Venue n-10_Marvel Stadium  A_Venue n-10_Metricon Stadium  \\\n",
      "0                             0.0                            0.0   \n",
      "1                             0.0                            0.0   \n",
      "2                             0.0                            0.0   \n",
      "3                             1.0                            0.0   \n",
      "4                             0.0                            0.0   \n",
      "...                           ...                            ...   \n",
      "1560                          0.0                            0.0   \n",
      "1561                          0.0                            0.0   \n",
      "1562                          0.0                            0.0   \n",
      "1563                          1.0                            0.0   \n",
      "1564                          1.0                            0.0   \n",
      "\n",
      "      A_Venue n-10_Optus Stadium  A_Venue n-10_Riverway Stadium  \\\n",
      "0                            0.0                            0.0   \n",
      "1                            0.0                            0.0   \n",
      "2                            0.0                            0.0   \n",
      "3                            0.0                            0.0   \n",
      "4                            0.0                            0.0   \n",
      "...                          ...                            ...   \n",
      "1560                         0.0                            0.0   \n",
      "1561                         1.0                            0.0   \n",
      "1562                         0.0                            0.0   \n",
      "1563                         0.0                            0.0   \n",
      "1564                         0.0                            0.0   \n",
      "\n",
      "      A_Venue n-10_SCG  A_Venue n-10_TIO Stadium  \\\n",
      "0                  0.0                       0.0   \n",
      "1                  0.0                       0.0   \n",
      "2                  0.0                       0.0   \n",
      "3                  0.0                       0.0   \n",
      "4                  0.0                       0.0   \n",
      "...                ...                       ...   \n",
      "1560               0.0                       0.0   \n",
      "1561               0.0                       0.0   \n",
      "1562               0.0                       0.0   \n",
      "1563               0.0                       0.0   \n",
      "1564               0.0                       0.0   \n",
      "\n",
      "      A_Venue n-10_TIO Traeger Park  \\\n",
      "0                               0.0   \n",
      "1                               0.0   \n",
      "2                               0.0   \n",
      "3                               0.0   \n",
      "4                               0.0   \n",
      "...                             ...   \n",
      "1560                            0.0   \n",
      "1561                            0.0   \n",
      "1562                            0.0   \n",
      "1563                            0.0   \n",
      "1564                            0.0   \n",
      "\n",
      "      A_Venue n-10_University of Tasmania Stadium  \\\n",
      "0                                             0.0   \n",
      "1                                             0.0   \n",
      "2                                             0.0   \n",
      "3                                             0.0   \n",
      "4                                             0.0   \n",
      "...                                           ...   \n",
      "1560                                          0.0   \n",
      "1561                                          0.0   \n",
      "1562                                          0.0   \n",
      "1563                                          0.0   \n",
      "1564                                          0.0   \n",
      "\n",
      "      A_Venue n-10_Westpac Stadium  \n",
      "0                              0.0  \n",
      "1                              0.0  \n",
      "2                              0.0  \n",
      "3                              0.0  \n",
      "4                              0.0  \n",
      "...                            ...  \n",
      "1560                           0.0  \n",
      "1561                           0.0  \n",
      "1562                           0.0  \n",
      "1563                           0.0  \n",
      "1564                           0.0  \n",
      "\n",
      "[1565 rows x 3228 columns]\n",
      "Split: 1\n",
      "found new best classify\n",
      "Split: 2\n",
      "found new best classify\n",
      "Split: 3\n",
      "Split: 4\n",
      "Split: 5\n",
      "Split: 6\n",
      "Split: 7\n",
      "Split: 8\n",
      "Split: 9\n",
      "found new best classify\n",
      "Split: 10\n",
      "Best win percentage split = 67.94871794871796\n",
      "Training Testing Accuracy: 61.79% (3.42%)\n"
     ]
    }
   ],
   "source": [
    "n_games = [1,2,3,4,5,6,7,10]\n",
    "for n in n_games:\n",
    "    run_all_BNB(n)"
   ]
  },
  {
   "cell_type": "markdown",
   "metadata": {},
   "source": [
    "# LAZY PREDICT"
   ]
  },
  {
   "cell_type": "code",
   "execution_count": null,
   "metadata": {},
   "outputs": [],
   "source": []
  },
  {
   "cell_type": "code",
   "execution_count": null,
   "metadata": {},
   "outputs": [],
   "source": [
    "import pandas as pd\n",
    "import numpy as np\n",
    "from lazypredict.Supervised import LazyClassifier, LazyRegressor\n",
    "from sklearn.model_selection import train_test_split\n",
    "from Gather_AFL_Data import gatherer as gad\n",
    "from sklearn.preprocessing import OneHotEncoder\n",
    "from sklearn.model_selection import StratifiedKFold\n",
    "import pickle"
   ]
  },
  {
   "cell_type": "code",
   "execution_count": null,
   "metadata": {},
   "outputs": [],
   "source": [
    "def eval_lazy_predict(x, y, my):\n",
    "    cv = StratifiedKFold(n_splits=10, shuffle=True)\n",
    "    all_clf_models = []\n",
    "    all_reg_models = []\n",
    "    count = 0\n",
    "    for train,test in cv.split(x,y):\n",
    "       # print(len(train))\n",
    "        count = count + 1\n",
    "        print(\"Split: \" + str(count))\n",
    "        #classifier\n",
    "        X_train = x.loc[train]\n",
    "        X_test = x.loc[test]\n",
    "        y_train = y.loc[train]\n",
    "        y_test = y.loc[test]\n",
    "        my_train = my.loc[train]\n",
    "        my_test = my.loc[test]\n",
    "        clf = LazyClassifier(predictions=True)\n",
    "        reg = LazyRegressor(predictions=True)\n",
    "        if(count == 1):\n",
    "            all_clf_models, predictions = clf.fit(X_train, X_test, y_train, y_test)\n",
    "          #  all_reg_models, reg_predictions = reg.fit(X_train, X_test, my_train, my_test)\n",
    "            all_clf_models.sort_index(inplace=True)\n",
    "           # all_reg_models.sort_index(inplace=True)\n",
    "            #print(all_models)\n",
    "        else:\n",
    "            new_clf_models, predictions = clf.fit(X_train, X_test, y_train, y_test)\n",
    "           # new_reg_models, reg_predictions = reg.fit(X_train, X_test, my_train, my_test)\n",
    "            new_clf_models.sort_index(inplace=True)\n",
    "           # new_reg_models.sort_index(inplace=True)\n",
    "            #print(new_models)\n",
    "            all_clf_models = all_clf_models.add(new_clf_models)\n",
    "           # all_reg_models = all_reg_models.add(new_reg_models)\n",
    "    return all_clf_models#, all_reg_models"
   ]
  },
  {
   "cell_type": "code",
   "execution_count": null,
   "metadata": {
    "scrolled": true
   },
   "outputs": [],
   "source": [
    "def run_all_lp(n_games):\n",
    "    h = get_headers(n_games)\n",
    "    h = clean_headers(h)\n",
    "    cv = generate_categorical_headers(h)\n",
    "\n",
    "    #to get names of teams from index\n",
    "    g = gad()\n",
    "    teams = g.createTeamDict()\n",
    "\n",
    "    #load Data\n",
    "    x_data = pd.read_csv('Data/assembled_stat_matrix_no2020'+str(n_games)+'_games.csv')\n",
    "\n",
    "    #make empty OHE object\n",
    "    na_enc = OneHotEncoder(handle_unknown='ignore', sparse=False)\n",
    "\n",
    "    #one hot encode data with new one hot encoder, saves ohe for later use\n",
    "    x_data, ohe = ohe_data(x_data, na_enc, 0, cv)\n",
    "\n",
    "    #reset headers\n",
    "    feature_names = x_data.columns\n",
    "\n",
    "    #loads the ylabel matrix,\n",
    "    y_label = pd.read_csv('Data/assembled_labelled_ymatrix_no2020'+str(n_games)+'_games.csv')\n",
    "\n",
    "    #do margins in a second when this works\n",
    "    margin_label = pd.read_csv('Data/assembled_margin_ymatrix_no2020'+str(n_games)+'_games.csv')\n",
    "    margin_label = abs(margin_label)\n",
    "\n",
    "    clf_lp = eval_lazy_predict(x_data, y_label, margin_label)\n",
    "\n",
    "    clf_lp.sort_values(by='Accuracy', ascending=False, inplace=True)\n",
    "    #reg_lp.sort_values(by='RMSE', inplace=True)\n",
    "    pct_lp = clf_lp*10\n",
    "    print(pct_lp)"
   ]
  },
  {
   "cell_type": "code",
   "execution_count": null,
   "metadata": {
    "scrolled": true
   },
   "outputs": [],
   "source": [
    "#as one big script to go through n_games\n",
    "n_games = [1,2,3,4,5,6,7,10]\n",
    "for n in n_games:\n",
    "    run_all_lp(n)"
   ]
  },
  {
   "cell_type": "code",
   "execution_count": null,
   "metadata": {},
   "outputs": [],
   "source": []
  },
  {
   "cell_type": "code",
   "execution_count": null,
   "metadata": {},
   "outputs": [],
   "source": []
  },
  {
   "cell_type": "code",
   "execution_count": null,
   "metadata": {},
   "outputs": [],
   "source": []
  },
  {
   "cell_type": "markdown",
   "metadata": {},
   "source": [
    "# Deep Learningggg"
   ]
  },
  {
   "cell_type": "code",
   "execution_count": null,
   "metadata": {},
   "outputs": [],
   "source": [
    "def build_DNN_model(x_len):\n",
    "    model = Sequential()\n",
    "    model.add(Dense(63, input_dim = x_len))\n",
    "    model.add(Activation('relu'))\n",
    "    model.add(Dropout(0.03))\n",
    "    model.add(BatchNormalization())\n",
    "\n",
    "    model.add(Dense(32))\n",
    "    model.add(Activation('relu'))\n",
    "    model.add(Dropout(0.02))\n",
    "\n",
    "    model.add(Dense(16))\n",
    "    model.add(Activation('relu'))\n",
    "\n",
    "    model.add(Dense(8))\n",
    "    model.add(Activation('relu'))\n",
    "    #add output layer\n",
    "    model.add(Dense(1, activation='linear'))\n",
    "    opt = tf.keras.optimizers.Adamax(learning_rate=0.003)\n",
    "\n",
    "    model.compile(loss=\"mean_squared_error\", optimizer=opt, metrics=[tf.keras.metrics.RootMeanSquaredError()])\n",
    "    print(model.summary())\n",
    "    return model"
   ]
  },
  {
   "cell_type": "code",
   "execution_count": null,
   "metadata": {},
   "outputs": [],
   "source": [
    "def build_CNN_model(x_len):\n",
    "    #del model\n",
    "    model = Sequential()\n",
    "    model.add(Conv1D(filters=32, kernel_size=14,\n",
    "                     input_shape=(x_len, 1)))\n",
    "    model.add(Activation('relu'))\n",
    "    model.add(Dropout(0.2))\n",
    "    model.add(Conv1D(filters=16, kernel_size=10,\n",
    "                     input_shape=(32, 1)))\n",
    "    model.add(Activation('linear'))\n",
    "    model.add(Dropout(0.1))\n",
    "    model.add(Conv1D(filters=10, kernel_size=8,\n",
    "                     input_shape=(16, 1)))\n",
    "    model.add(Activation('linear'))\n",
    "    model.add(MaxPooling1D(pool_size=2))\n",
    "    model.add(BatchNormalization())\n",
    "    model.add(Flatten())\n",
    "    model.add(Dense(64, activation='linear'))\n",
    "    model.add(Dense(32, activation='linear'))\n",
    "    model.add(Dense(16, activation='linear'))\n",
    "    model.add(BatchNormalization())\n",
    "    model.add(Dense(1, activation='linear'))\n",
    "    opt = tf.keras.optimizers.Adamax(learning_rate=0.003)#, beta_1=0.9, beta_2=0.999, epsilon=1e-07, name=\"Adamax\"\n",
    "\n",
    "\n",
    "    model.compile(loss=\"mean_squared_error\", optimizer=opt, metrics=[tf.keras.metrics.RootMeanSquaredError()])\n",
    "\n",
    "    print(model.summary())\n",
    "    return model"
   ]
  },
  {
   "cell_type": "code",
   "execution_count": null,
   "metadata": {},
   "outputs": [],
   "source": [
    "#flag = 0 (DNN)\n",
    "#flag = 1 (CNN)\n",
    "def eval_dl(x,y,k,flag):\n",
    "    cv = StratifiedKFold(n_splits=k,shuffle=True)\n",
    "    best_model = []\n",
    "    results = []\n",
    "    highest = 0\n",
    "    i = 1\n",
    "    for train,test in cv.split(x,y):\n",
    "        if(flag == 0):\n",
    "            model = build_DNN_model(x[train].shape[1])\n",
    "        if(flag == 1):\n",
    "            x = x.reshape(x.shape[0], x.shape[1], 1)\n",
    "            model = build_CNN_model(x[train].shape[1])\n",
    "        bs = ((x[train].shape[0])/20)\n",
    "        bs = round(bs)\n",
    "        history = model.fit(x[train], y[train], validation_data=(x[test], y[test]), epochs = 50, batch_size=bs)\n",
    "        _, accuracy = model.evaluate(x[test], y[test], batch_size=bs, verbose=0)\n",
    "        accuracy = accuracy * 100\n",
    "        print(\"accuracy for model \" + str(i) + \" is \" + str(accuracy))\n",
    "        if(accuracy > highest):\n",
    "            highest = accuracy\n",
    "            best_model = model\n",
    "        results.append(accuracy)\n",
    "        i = i + 1\n",
    "    print(\"highest accuracy is: \" + str(highest))\n",
    "    print(\"Training Testing Accuracy: %.2f%% (%.2f%%)\" % (np.mean(results), np.std(results)))\n",
    "    return best_model"
   ]
  }
 ],
 "metadata": {
  "kernelspec": {
   "display_name": "Python 3 (ipykernel)",
   "language": "python",
   "name": "python3"
  },
  "language_info": {
   "codemirror_mode": {
    "name": "ipython",
    "version": 3
   },
   "file_extension": ".py",
   "mimetype": "text/x-python",
   "name": "python",
   "nbconvert_exporter": "python",
   "pygments_lexer": "ipython3",
   "version": "3.8.5"
  }
 },
 "nbformat": 4,
 "nbformat_minor": 4
}
